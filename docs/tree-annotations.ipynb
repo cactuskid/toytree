{
 "cells": [
  {
   "cell_type": "markdown",
   "metadata": {},
   "source": [
    "# Tree annotations"
   ]
  },
  {
   "cell_type": "markdown",
   "metadata": {},
   "source": [
    "The `.annotate` subpackage offers a clean, readable way to edit an existing tree as an alternative to modifying each argument in the `.draw()` method. The funcitons provided in this subpackage work by adding marks on top of the most recent `canvas` created by Toytree. It can be accessed direclty from a tree object (e.g., tree.annotate.{function}()), but some functions require additional arguments to specify axes, styles, etc.  \n",
    "\n",
    "Since this subpackage contains very simple modifications that can be quickly added on top of existing trees, we encourage you to share with us any functions you make that may fit in this subpackage! These can be shared via Github at https://github.com/eaton-lab/toytree/discussions"
   ]
  },
  {
   "cell_type": "markdown",
   "metadata": {},
   "source": [
    "## Current available annotations:  \n",
    "\n",
    "### Node and edge marks/labels \n",
    "\n",
    "- add_edge_labels\n",
    "- add_edge_markers\n",
    "- add_node_markers\n",
    "- add_node_labels\n",
    "- add_tip_markers\n",
    "- add_node_bars\n",
    "\n",
    "### Axes annotations\n",
    "\n",
    "- add_axes_box_outline\n",
    "- add_axes_scale_bar\n",
    "\n",
    "### Data/graph annotations\n",
    "\n",
    "- add_node_pie_charts\n",
    "- add_edge_pie_charts"
   ]
  },
  {
   "cell_type": "markdown",
   "metadata": {},
   "source": [
    "## Quick examples"
   ]
  },
  {
   "cell_type": "code",
   "execution_count": 1,
   "metadata": {},
   "outputs": [],
   "source": [
    "import toytree\n",
    "import numpy as np"
   ]
  },
  {
   "cell_type": "code",
   "execution_count": 2,
   "metadata": {},
   "outputs": [
    {
     "data": {
      "text/plain": [
       "<toyplot.coordinates.Cartesian at 0x210a26ad6d0>"
      ]
     },
     "execution_count": 2,
     "metadata": {},
     "output_type": "execute_result"
    },
    {
     "data": {
      "text/html": [
       "<div class=\"toyplot\" id=\"te859373edbd64ea4b2de653e6bc9349d\" style=\"text-align:center\"><svg class=\"toyplot-canvas-Canvas\" xmlns:toyplot=\"http://www.sandia.gov/toyplot\" xmlns:xlink=\"http://www.w3.org/1999/xlink\" xmlns=\"http://www.w3.org/2000/svg\" width=\"300.0px\" height=\"275.0px\" viewBox=\"0 0 300.0 275.0\" preserveAspectRatio=\"xMidYMid meet\" style=\"background-color:transparent;border-color:#292724;border-style:none;border-width:1.0;fill:rgb(16.1%,15.3%,14.1%);fill-opacity:1.0;font-family:Helvetica;font-size:12px;opacity:1.0;stroke:rgb(16.1%,15.3%,14.1%);stroke-opacity:1.0;stroke-width:1.0\" id=\"t71a740cd550c4689b44a210a01ab1cb6\"><g class=\"toyplot-coordinates-Cartesian\" id=\"t883f463627134a708d1cf9d218841daf\"><clipPath id=\"te4506488b50d488e9868232b6b9e9ee7\"><rect x=\"45.0\" y=\"35.0\" width=\"230.0\" height=\"205.0\"></rect></clipPath><g clip-path=\"url(#te4506488b50d488e9868232b6b9e9ee7)\"><g class=\"toytree-mark-Toytree\" id=\"t0b00000e92234e16bb5c6d82c4be588c\"><g class=\"toytree-Edges\" style=\"stroke:rgb(14.5%,14.5%,14.5%);stroke-opacity:1.0;stroke-linecap:round;stroke-width:2.0;fill:none\"><path d=\"M 149.3 205.1 L 149.3 219.2 L 193.6 219.2\" id=\"6,0\" style=\"\"></path><path d=\"M 149.3 205.1 L 149.3 191.0 L 193.6 191.0\" id=\"6,1\" style=\"\"></path><path d=\"M 149.3 148.7 L 149.3 162.8 L 193.6 162.8\" id=\"7,2\" style=\"\"></path><path d=\"M 149.3 148.7 L 149.3 134.6 L 193.6 134.6\" id=\"7,3\" style=\"\"></path><path d=\"M 105.0 92.3 L 105.0 106.4 L 193.6 106.4\" id=\"9,4\" style=\"\"></path><path d=\"M 105.0 92.3 L 105.0 78.2 L 193.6 78.2\" id=\"9,5\" style=\"\"></path><path d=\"M 105.0 176.9 L 105.0 205.1 L 149.3 205.1\" id=\"8,6\" style=\"\"></path><path d=\"M 105.0 176.9 L 105.0 148.7 L 149.3 148.7\" id=\"8,7\" style=\"\"></path><path d=\"M 60.7 134.6 L 60.7 176.9 L 105.0 176.9\" id=\"10,8\" style=\"\"></path><path d=\"M 60.7 134.6 L 60.7 92.3 L 105.0 92.3\" id=\"10,9\" style=\"\"></path></g><g class=\"toytree-AdmixEdges\" style=\"fill:rgb(0.0%,0.0%,0.0%);fill-opacity:0.0;stroke:rgb(90.6%,54.1%,76.5%);stroke-opacity:0.6;font-size:14px;stroke-linecap:round;stroke-width:5\"></g><g class=\"toytree-Nodes\" style=\"fill:rgb(40.0%,76.1%,64.7%);fill-opacity:1.0;stroke:rgb(14.9%,14.9%,14.9%);stroke-opacity:1.0;stroke-width:1.5\"></g><g class=\"toytree-TipLabels\" style=\"fill:rgb(14.5%,14.5%,14.5%);fill-opacity:1.0;font-family:Helvetica;font-size:12px;font-weight:300;vertical-align:baseline;white-space:pre;stroke:none\"><g class=\"toytree-TipLabel\" transform=\"translate(193.555,219.199)\"><text x=\"15.0\" y=\"3.066\" style=\"fill:rgb(14.5%,14.5%,14.5%);fill-opacity:1.0\">r0</text></g><g class=\"toytree-TipLabel\" transform=\"translate(193.555,190.999)\"><text x=\"15.0\" y=\"3.066\" style=\"fill:rgb(14.5%,14.5%,14.5%);fill-opacity:1.0\">r1</text></g><g class=\"toytree-TipLabel\" transform=\"translate(193.555,162.799)\"><text x=\"15.0\" y=\"3.066\" style=\"fill:rgb(14.5%,14.5%,14.5%);fill-opacity:1.0\">r2</text></g><g class=\"toytree-TipLabel\" transform=\"translate(193.555,134.599)\"><text x=\"15.0\" y=\"3.066\" style=\"fill:rgb(14.5%,14.5%,14.5%);fill-opacity:1.0\">r3</text></g><g class=\"toytree-TipLabel\" transform=\"translate(193.555,106.4)\"><text x=\"15.0\" y=\"3.066\" style=\"fill:rgb(14.5%,14.5%,14.5%);fill-opacity:1.0\">r4</text></g><g class=\"toytree-TipLabel\" transform=\"translate(193.555,78.1998)\"><text x=\"15.0\" y=\"3.066\" style=\"fill:rgb(14.5%,14.5%,14.5%);fill-opacity:1.0\">r5</text></g></g></g></g><g class=\"toyplot-coordinates-Axis\" id=\"t68ae1f0f991244a983839de234c741a1\" transform=\"translate(60.0,225.0)translate(0,15.0)\"><line x1=\"0.6644518272425108\" y1=\"0\" x2=\"133.5548172757475\" y2=\"0\" style=\"\"></line><g><g transform=\"translate(0.6644518272425108,6)\"><text x=\"-8.615\" y=\"8.555\" style=\"fill:rgb(16.1%,15.3%,14.1%);fill-opacity:1.0;font-family:helvetica;font-size:10.0px;font-weight:normal;stroke:none;vertical-align:baseline;white-space:pre\">-1.0</text></g><g transform=\"translate(67.109634551495,6)\"><text x=\"-8.615\" y=\"8.555\" style=\"fill:rgb(16.1%,15.3%,14.1%);fill-opacity:1.0;font-family:helvetica;font-size:10.0px;font-weight:normal;stroke:none;vertical-align:baseline;white-space:pre\">-0.5</text></g><g transform=\"translate(133.5548172757475,6)\"><text x=\"-6.95\" y=\"8.555\" style=\"fill:rgb(16.1%,15.3%,14.1%);fill-opacity:1.0;font-family:helvetica;font-size:10.0px;font-weight:normal;stroke:none;vertical-align:baseline;white-space:pre\">0.0</text></g><g transform=\"translate(200.0,6)\"><text x=\"-6.95\" y=\"8.555\" style=\"fill:rgb(16.1%,15.3%,14.1%);fill-opacity:1.0;font-family:helvetica;font-size:10.0px;font-weight:normal;stroke:none;vertical-align:baseline;white-space:pre\">0.5</text></g></g><g class=\"toyplot-coordinates-Axis-coordinates\" style=\"visibility:hidden\" transform=\"\"><line x1=\"0\" x2=\"0\" y1=\"-3.0\" y2=\"4.5\" style=\"stroke:rgb(43.9%,50.2%,56.5%);stroke-opacity:1.0;stroke-width:1.0\"></line><text x=\"0\" y=\"-6\" style=\"alignment-baseline:alphabetic;fill:rgb(43.9%,50.2%,56.5%);fill-opacity:1.0;font-size:10px;font-weight:normal;stroke:none;text-anchor:middle\"></text></g></g><g class=\"toyplot-coordinates-Axis\" id=\"t02282651f30040139be7964f097228d9\" transform=\"translate(60.0,225.0)rotate(-90.0)translate(0,-15.0)\"><line x1=\"5.801104972375682\" y1=\"0\" x2=\"146.8001841620626\" y2=\"0\" style=\"\"></line><g><g transform=\"translate(5.801104972375682,-6)\"><text x=\"-2.78\" y=\"-4.440892098500626e-16\" style=\"fill:rgb(16.1%,15.3%,14.1%);fill-opacity:1.0;font-family:helvetica;font-size:10.0px;font-weight:normal;stroke:none;vertical-align:baseline;white-space:pre\">0</text></g><g transform=\"translate(62.200736648250455,-6)\"><text x=\"-2.78\" y=\"-4.440892098500626e-16\" style=\"fill:rgb(16.1%,15.3%,14.1%);fill-opacity:1.0;font-family:helvetica;font-size:10.0px;font-weight:normal;stroke:none;vertical-align:baseline;white-space:pre\">2</text></g><g transform=\"translate(118.60036832412521,-6)\"><text x=\"-2.78\" y=\"-4.440892098500626e-16\" style=\"fill:rgb(16.1%,15.3%,14.1%);fill-opacity:1.0;font-family:helvetica;font-size:10.0px;font-weight:normal;stroke:none;vertical-align:baseline;white-space:pre\">4</text></g><g transform=\"translate(175.0,-6)\"><text x=\"-2.78\" y=\"-4.440892098500626e-16\" style=\"fill:rgb(16.1%,15.3%,14.1%);fill-opacity:1.0;font-family:helvetica;font-size:10.0px;font-weight:normal;stroke:none;vertical-align:baseline;white-space:pre\">6</text></g></g><g class=\"toyplot-coordinates-Axis-coordinates\" style=\"visibility:hidden\" transform=\"\"><line x1=\"0\" x2=\"0\" y1=\"3.0\" y2=\"-4.5\" style=\"stroke:rgb(43.9%,50.2%,56.5%);stroke-opacity:1.0;stroke-width:1.0\"></line><text x=\"0\" y=\"6\" style=\"alignment-baseline:hanging;fill:rgb(43.9%,50.2%,56.5%);fill-opacity:1.0;font-size:10px;font-weight:normal;stroke:none;text-anchor:middle\"></text></g></g></g><g class=\"toyplot-coordinates-Cartesian\" id=\"ta0bc32b953444b2eb280e4b19780f51f\"><clipPath id=\"ta82a36dbffce474a87f48d0bf65c18a6\"><rect x=\"45.0\" y=\"20.0\" width=\"230.0\" height=\"235.0\"></rect></clipPath><g clip-path=\"url(#ta82a36dbffce474a87f48d0bf65c18a6)\"></g><g class=\"toyplot-coordinates-Axis\" id=\"tb23c467bcd414fe684d84ae66130005d\" transform=\"translate(260.0,240.0)rotate(-90.0)translate(0,15.0)\"><line x1=\"0\" y1=\"0\" x2=\"205.0\" y2=\"0\" style=\"\"></line><g class=\"toyplot-coordinates-Axis-coordinates\" style=\"visibility:hidden\" transform=\"\"><line x1=\"0\" x2=\"0\" y1=\"-3.0\" y2=\"4.5\" style=\"stroke:rgb(43.9%,50.2%,56.5%);stroke-opacity:1.0;stroke-width:1.0\"></line><text x=\"0\" y=\"-6\" style=\"alignment-baseline:alphabetic;fill:rgb(43.9%,50.2%,56.5%);fill-opacity:1.0;font-size:10px;font-weight:normal;stroke:none;text-anchor:middle\"></text></g></g></g><g class=\"toyplot-coordinates-Cartesian\" id=\"te7ec8bfc041b4711b0130ed424770143\"><clipPath id=\"t3bfc81a747144eb09561e500cb5ff801\"><rect x=\"45.0\" y=\"20.0\" width=\"230.0\" height=\"235.0\"></rect></clipPath><g clip-path=\"url(#t3bfc81a747144eb09561e500cb5ff801)\"></g><g class=\"toyplot-coordinates-Axis\" id=\"tfe2b17e297344930b9ef501a582b05bd\" transform=\"translate(60.0,240.0)rotate(-90.0)translate(0,-15.0)\"><line x1=\"0\" y1=\"0\" x2=\"205.0\" y2=\"0\" style=\"\"></line><g class=\"toyplot-coordinates-Axis-coordinates\" style=\"visibility:hidden\" transform=\"\"><line x1=\"0\" x2=\"0\" y1=\"3.0\" y2=\"-4.5\" style=\"stroke:rgb(43.9%,50.2%,56.5%);stroke-opacity:1.0;stroke-width:1.0\"></line><text x=\"0\" y=\"6\" style=\"alignment-baseline:hanging;fill:rgb(43.9%,50.2%,56.5%);fill-opacity:1.0;font-size:10px;font-weight:normal;stroke:none;text-anchor:middle\"></text></g></g></g><g class=\"toyplot-coordinates-Cartesian\" id=\"t2fca78d5e52e40c982375c1a3fa39aa3\"><clipPath id=\"tcaff6e88cf564bb283a4103f25937efc\"><rect x=\"30.0\" y=\"35.0\" width=\"260.0\" height=\"205.0\"></rect></clipPath><g clip-path=\"url(#tcaff6e88cf564bb283a4103f25937efc)\"></g><g class=\"toyplot-coordinates-Axis\" id=\"t8da3191c9d744dc68f7765c69878ed63\" transform=\"translate(45.0,50.0)translate(0,-15.0)\"><line x1=\"0\" y1=\"0\" x2=\"230.0\" y2=\"0\" style=\"\"></line><g class=\"toyplot-coordinates-Axis-coordinates\" style=\"visibility:hidden\" transform=\"\"><line x1=\"0\" x2=\"0\" y1=\"3.0\" y2=\"-4.5\" style=\"stroke:rgb(43.9%,50.2%,56.5%);stroke-opacity:1.0;stroke-width:1.0\"></line><text x=\"0\" y=\"6\" style=\"alignment-baseline:hanging;fill:rgb(43.9%,50.2%,56.5%);fill-opacity:1.0;font-size:10px;font-weight:normal;stroke:none;text-anchor:middle\"></text></g></g></g><g class=\"toyplot-coordinates-Cartesian\" id=\"tc8d720f88a8642629c0dc9d5e52d4d0e\"><clipPath id=\"t5a27654eccfd48dba04ba0ef0ac6af07\"><rect x=\"30.0\" y=\"35.0\" width=\"260.0\" height=\"205.0\"></rect></clipPath><g clip-path=\"url(#t5a27654eccfd48dba04ba0ef0ac6af07)\"></g><g class=\"toyplot-coordinates-Axis\" id=\"t9022554ae4384e59a471e5a41f69f971\" transform=\"translate(45.0,225.0)translate(0,15.0)\"><line x1=\"0\" y1=\"0\" x2=\"230.0\" y2=\"0\" style=\"\"></line><g class=\"toyplot-coordinates-Axis-coordinates\" style=\"visibility:hidden\" transform=\"\"><line x1=\"0\" x2=\"0\" y1=\"-3.0\" y2=\"4.5\" style=\"stroke:rgb(43.9%,50.2%,56.5%);stroke-opacity:1.0;stroke-width:1.0\"></line><text x=\"0\" y=\"-6\" style=\"alignment-baseline:alphabetic;fill:rgb(43.9%,50.2%,56.5%);fill-opacity:1.0;font-size:10px;font-weight:normal;stroke:none;text-anchor:middle\"></text></g></g></g></svg><div class=\"toyplot-behavior\"><script>(function()\n",
       "{\n",
       "var modules={};\n",
       "modules[\"toyplot/canvas/id\"] = \"t71a740cd550c4689b44a210a01ab1cb6\";\n",
       "modules[\"toyplot/canvas\"] = (function(canvas_id)\n",
       "    {\n",
       "        return document.querySelector(\"#\" + canvas_id);\n",
       "    })(modules[\"toyplot/canvas/id\"]);\n",
       "modules[\"toyplot.coordinates.Axis\"] = (\n",
       "        function(canvas)\n",
       "        {\n",
       "            function sign(x)\n",
       "            {\n",
       "                return x < 0 ? -1 : x > 0 ? 1 : 0;\n",
       "            }\n",
       "\n",
       "            function mix(a, b, amount)\n",
       "            {\n",
       "                return ((1.0 - amount) * a) + (amount * b);\n",
       "            }\n",
       "\n",
       "            function log(x, base)\n",
       "            {\n",
       "                return Math.log(Math.abs(x)) / Math.log(base);\n",
       "            }\n",
       "\n",
       "            function in_range(a, x, b)\n",
       "            {\n",
       "                var left = Math.min(a, b);\n",
       "                var right = Math.max(a, b);\n",
       "                return left <= x && x <= right;\n",
       "            }\n",
       "\n",
       "            function inside(range, projection)\n",
       "            {\n",
       "                for(var i = 0; i != projection.length; ++i)\n",
       "                {\n",
       "                    var segment = projection[i];\n",
       "                    if(in_range(segment.range.min, range, segment.range.max))\n",
       "                        return true;\n",
       "                }\n",
       "                return false;\n",
       "            }\n",
       "\n",
       "            function to_domain(range, projection)\n",
       "            {\n",
       "                for(var i = 0; i != projection.length; ++i)\n",
       "                {\n",
       "                    var segment = projection[i];\n",
       "                    if(in_range(segment.range.bounds.min, range, segment.range.bounds.max))\n",
       "                    {\n",
       "                        if(segment.scale == \"linear\")\n",
       "                        {\n",
       "                            var amount = (range - segment.range.min) / (segment.range.max - segment.range.min);\n",
       "                            return mix(segment.domain.min, segment.domain.max, amount)\n",
       "                        }\n",
       "                        else if(segment.scale[0] == \"log\")\n",
       "                        {\n",
       "                            var amount = (range - segment.range.min) / (segment.range.max - segment.range.min);\n",
       "                            var base = segment.scale[1];\n",
       "                            return sign(segment.domain.min) * Math.pow(base, mix(log(segment.domain.min, base), log(segment.domain.max, base), amount));\n",
       "                        }\n",
       "                    }\n",
       "                }\n",
       "            }\n",
       "\n",
       "            var axes = {};\n",
       "\n",
       "            function display_coordinates(e)\n",
       "            {\n",
       "                var current = canvas.createSVGPoint();\n",
       "                current.x = e.clientX;\n",
       "                current.y = e.clientY;\n",
       "\n",
       "                for(var axis_id in axes)\n",
       "                {\n",
       "                    var axis = document.querySelector(\"#\" + axis_id);\n",
       "                    var coordinates = axis.querySelector(\".toyplot-coordinates-Axis-coordinates\");\n",
       "                    if(coordinates)\n",
       "                    {\n",
       "                        var projection = axes[axis_id];\n",
       "                        var local = current.matrixTransform(axis.getScreenCTM().inverse());\n",
       "                        if(inside(local.x, projection))\n",
       "                        {\n",
       "                            var domain = to_domain(local.x, projection);\n",
       "                            coordinates.style.visibility = \"visible\";\n",
       "                            coordinates.setAttribute(\"transform\", \"translate(\" + local.x + \")\");\n",
       "                            var text = coordinates.querySelector(\"text\");\n",
       "                            text.textContent = domain.toFixed(2);\n",
       "                        }\n",
       "                        else\n",
       "                        {\n",
       "                            coordinates.style.visibility= \"hidden\";\n",
       "                        }\n",
       "                    }\n",
       "                }\n",
       "            }\n",
       "\n",
       "            canvas.addEventListener(\"click\", display_coordinates);\n",
       "\n",
       "            var module = {};\n",
       "            module.show_coordinates = function(axis_id, projection)\n",
       "            {\n",
       "                axes[axis_id] = projection;\n",
       "            }\n",
       "\n",
       "            return module;\n",
       "        })(modules[\"toyplot/canvas\"]);\n",
       "(function(axis, axis_id, projection)\n",
       "        {\n",
       "            axis.show_coordinates(axis_id, projection);\n",
       "        })(modules[\"toyplot.coordinates.Axis\"],\"t68ae1f0f991244a983839de234c741a1\",[{\"domain\": {\"bounds\": {\"max\": Infinity, \"min\": -Infinity}, \"max\": 0.5, \"min\": -1.005}, \"range\": {\"bounds\": {\"max\": Infinity, \"min\": -Infinity}, \"max\": 200.0, \"min\": 0.0}, \"scale\": \"linear\"}]);\n",
       "(function(axis, axis_id, projection)\n",
       "        {\n",
       "            axis.show_coordinates(axis_id, projection);\n",
       "        })(modules[\"toyplot.coordinates.Axis\"],\"t02282651f30040139be7964f097228d9\",[{\"domain\": {\"bounds\": {\"max\": Infinity, \"min\": -Infinity}, \"max\": 6.0, \"min\": -0.2057142857142854}, \"range\": {\"bounds\": {\"max\": Infinity, \"min\": -Infinity}, \"max\": 175.0, \"min\": 0.0}, \"scale\": \"linear\"}]);\n",
       "(function(axis, axis_id, projection)\n",
       "        {\n",
       "            axis.show_coordinates(axis_id, projection);\n",
       "        })(modules[\"toyplot.coordinates.Axis\"],\"tb23c467bcd414fe684d84ae66130005d\",[{\"domain\": {\"bounds\": {\"max\": Infinity, \"min\": -Infinity}, \"max\": 0.5, \"min\": -0.5}, \"range\": {\"bounds\": {\"max\": Infinity, \"min\": -Infinity}, \"max\": 205.0, \"min\": 0.0}, \"scale\": \"linear\"}]);\n",
       "(function(axis, axis_id, projection)\n",
       "        {\n",
       "            axis.show_coordinates(axis_id, projection);\n",
       "        })(modules[\"toyplot.coordinates.Axis\"],\"tfe2b17e297344930b9ef501a582b05bd\",[{\"domain\": {\"bounds\": {\"max\": Infinity, \"min\": -Infinity}, \"max\": 0.5, \"min\": -0.5}, \"range\": {\"bounds\": {\"max\": Infinity, \"min\": -Infinity}, \"max\": 205.0, \"min\": 0.0}, \"scale\": \"linear\"}]);\n",
       "(function(axis, axis_id, projection)\n",
       "        {\n",
       "            axis.show_coordinates(axis_id, projection);\n",
       "        })(modules[\"toyplot.coordinates.Axis\"],\"t8da3191c9d744dc68f7765c69878ed63\",[{\"domain\": {\"bounds\": {\"max\": Infinity, \"min\": -Infinity}, \"max\": 0.5, \"min\": -0.5}, \"range\": {\"bounds\": {\"max\": Infinity, \"min\": -Infinity}, \"max\": 230.0, \"min\": 0.0}, \"scale\": \"linear\"}]);\n",
       "(function(axis, axis_id, projection)\n",
       "        {\n",
       "            axis.show_coordinates(axis_id, projection);\n",
       "        })(modules[\"toyplot.coordinates.Axis\"],\"t9022554ae4384e59a471e5a41f69f971\",[{\"domain\": {\"bounds\": {\"max\": Infinity, \"min\": -Infinity}, \"max\": 0.5, \"min\": -0.5}, \"range\": {\"bounds\": {\"max\": Infinity, \"min\": -Infinity}, \"max\": 230.0, \"min\": 0.0}, \"scale\": \"linear\"}]);\n",
       "})();</script></div></div>"
      ]
     },
     "metadata": {},
     "output_type": "display_data"
    }
   ],
   "source": [
    "#add_axes_box_outline\n",
    "\n",
    "tree = toytree.rtree.unittree(6, seed=123)\n",
    "canvas, axes, m0 = tree.draw()\n",
    "\n",
    "\n",
    "tree.annotate.add_axes_box_outline(axes=axes)\n"
   ]
  },
  {
   "cell_type": "code",
   "execution_count": 3,
   "metadata": {},
   "outputs": [
    {
     "data": {
      "text/html": [
       "<div class=\"toyplot\" id=\"ta7e75bb44e5444a290bb8618996b9aa7\" style=\"text-align:center\"><svg class=\"toyplot-canvas-Canvas\" xmlns:toyplot=\"http://www.sandia.gov/toyplot\" xmlns:xlink=\"http://www.w3.org/1999/xlink\" xmlns=\"http://www.w3.org/2000/svg\" width=\"300.0px\" height=\"275.0px\" viewBox=\"0 0 300.0 275.0\" preserveAspectRatio=\"xMidYMid meet\" style=\"background-color:transparent;border-color:#292724;border-style:none;border-width:1.0;fill:rgb(16.1%,15.3%,14.1%);fill-opacity:1.0;font-family:Helvetica;font-size:12px;opacity:1.0;stroke:rgb(16.1%,15.3%,14.1%);stroke-opacity:1.0;stroke-width:1.0\" id=\"t442a8ef08a0e43d3803dc842efe0378a\"><g class=\"toyplot-coordinates-Cartesian\" id=\"t07baceb45ec5433e9e69bf37c85e1bf0\"><clipPath id=\"tc5042171b29948989e23cbb39481c41f\"><rect x=\"35.0\" y=\"35.0\" width=\"230.0\" height=\"205.0\"></rect></clipPath><g clip-path=\"url(#tc5042171b29948989e23cbb39481c41f)\"><g class=\"toytree-mark-Toytree\" id=\"t71e251bc95c34d1e8ca7ffd3463b5125\"><g class=\"toytree-Edges\" style=\"stroke:rgb(14.5%,14.5%,14.5%);stroke-opacity:1.0;stroke-linecap:round;stroke-width:2.0;fill:none\"><path d=\"M 156.5 202.2 L 156.5 218.3 L 209.3 218.3\" id=\"6,0\" style=\"\"></path><path d=\"M 156.5 202.2 L 156.5 186.0 L 209.3 186.0\" id=\"6,1\" style=\"\"></path><path d=\"M 156.5 137.5 L 156.5 153.7 L 209.3 153.7\" id=\"7,2\" style=\"\"></path><path d=\"M 156.5 137.5 L 156.5 121.3 L 209.3 121.3\" id=\"7,3\" style=\"\"></path><path d=\"M 103.6 72.8 L 103.6 89.0 L 209.3 89.0\" id=\"9,4\" style=\"\"></path><path d=\"M 103.6 72.8 L 103.6 56.7 L 209.3 56.7\" id=\"9,5\" style=\"\"></path><path d=\"M 103.6 169.8 L 103.6 202.2 L 156.5 202.2\" id=\"8,6\" style=\"\"></path><path d=\"M 103.6 169.8 L 103.6 137.5 L 156.5 137.5\" id=\"8,7\" style=\"\"></path><path d=\"M 50.8 121.3 L 50.8 169.8 L 103.6 169.8\" id=\"10,8\" style=\"\"></path><path d=\"M 50.8 121.3 L 50.8 72.8 L 103.6 72.8\" id=\"10,9\" style=\"\"></path></g><g class=\"toytree-AdmixEdges\" style=\"fill:rgb(0.0%,0.0%,0.0%);fill-opacity:0.0;stroke:rgb(90.6%,54.1%,76.5%);stroke-opacity:0.6;font-size:14px;stroke-linecap:round;stroke-width:5\"></g><g class=\"toytree-Nodes\" style=\"fill:rgb(40.0%,76.1%,64.7%);fill-opacity:1.0;stroke:rgb(14.9%,14.9%,14.9%);stroke-opacity:1.0;stroke-width:1.5\"></g><g class=\"toytree-TipLabels\" style=\"fill:rgb(14.5%,14.5%,14.5%);fill-opacity:1.0;font-family:Helvetica;font-size:12px;font-weight:300;vertical-align:baseline;white-space:pre;stroke:none\"><g class=\"toytree-TipLabel\" transform=\"translate(209.311,218.347)\"><text x=\"15.0\" y=\"3.066\" style=\"fill:rgb(14.5%,14.5%,14.5%);fill-opacity:1.0\">r0</text></g><g class=\"toytree-TipLabel\" transform=\"translate(209.311,186.008)\"><text x=\"15.0\" y=\"3.066\" style=\"fill:rgb(14.5%,14.5%,14.5%);fill-opacity:1.0\">r1</text></g><g class=\"toytree-TipLabel\" transform=\"translate(209.311,153.669)\"><text x=\"15.0\" y=\"3.066\" style=\"fill:rgb(14.5%,14.5%,14.5%);fill-opacity:1.0\">r2</text></g><g class=\"toytree-TipLabel\" transform=\"translate(209.311,121.331)\"><text x=\"15.0\" y=\"3.066\" style=\"fill:rgb(14.5%,14.5%,14.5%);fill-opacity:1.0\">r3</text></g><g class=\"toytree-TipLabel\" transform=\"translate(209.311,88.9916)\"><text x=\"15.0\" y=\"3.066\" style=\"fill:rgb(14.5%,14.5%,14.5%);fill-opacity:1.0\">r4</text></g><g class=\"toytree-TipLabel\" transform=\"translate(209.311,56.6526)\"><text x=\"15.0\" y=\"3.066\" style=\"fill:rgb(14.5%,14.5%,14.5%);fill-opacity:1.0\">r5</text></g></g></g><g class=\"toyplot-mark-Text\" id=\"t7a830b1339504cd78c48a02ff1796883\"><g class=\"toyplot-Series\"><g class=\"toyplot-Datum\" transform=\"translate(130.05199416650814,202.1779303062302)\"><text x=\"-3.3360000000000003\" y=\"-4.934\" style=\"fill:rgb(0%,0%,100%);fill-opacity:1.0;font-family:Helvetica;font-size:12.0px;font-weight:300;opacity:1;stroke:none;vertical-align:baseline;white-space:pre\">6</text></g><g class=\"toyplot-Datum\" transform=\"translate(130.05199416650814,137.5)\"><text x=\"-3.3360000000000003\" y=\"-4.934\" style=\"fill:rgb(0%,0%,100%);fill-opacity:1.0;font-family:Helvetica;font-size:12.0px;font-weight:300;opacity:1;stroke:none;vertical-align:baseline;white-space:pre\">7</text></g><g class=\"toyplot-Datum\" transform=\"translate(77.21239405660177,169.83896515311508)\"><text x=\"-3.3360000000000003\" y=\"-4.934\" style=\"fill:rgb(0%,0%,100%);fill-opacity:1.0;font-family:Helvetica;font-size:12.0px;font-weight:300;opacity:1;stroke:none;vertical-align:baseline;white-space:pre\">8</text></g></g></g></g></g></svg><div class=\"toyplot-behavior\"><script>(function()\n",
       "{\n",
       "var modules={};\n",
       "})();</script></div></div>"
      ]
     },
     "metadata": {},
     "output_type": "display_data"
    }
   ],
   "source": [
    "#add_edge_labels\n",
    "\n",
    "tree = toytree.rtree.unittree(6, seed=123)\n",
    "canvas, axes, m0 = tree.draw()\n",
    "m1 = tree.annotate.add_edge_labels(\n",
    "    axes,\n",
    "    labels=tree.get_node_data(\"idx\"),\n",
    "    color='blue',\n",
    "    style={'font-size': 16, 'baseline-shift': 8}\n",
    ")"
   ]
  },
  {
   "cell_type": "code",
   "execution_count": 4,
   "metadata": {},
   "outputs": [
    {
     "data": {
      "text/html": [
       "<div class=\"toyplot\" id=\"t5b319449ca6d44fbb63f9e0df20f7afc\" style=\"text-align:center\"><svg class=\"toyplot-canvas-Canvas\" xmlns:toyplot=\"http://www.sandia.gov/toyplot\" xmlns:xlink=\"http://www.w3.org/1999/xlink\" xmlns=\"http://www.w3.org/2000/svg\" width=\"300.0px\" height=\"275.0px\" viewBox=\"0 0 300.0 275.0\" preserveAspectRatio=\"xMidYMid meet\" style=\"background-color:transparent;border-color:#292724;border-style:none;border-width:1.0;fill:rgb(16.1%,15.3%,14.1%);fill-opacity:1.0;font-family:Helvetica;font-size:12px;opacity:1.0;stroke:rgb(16.1%,15.3%,14.1%);stroke-opacity:1.0;stroke-width:1.0\" id=\"t45fc9a2284e648688b6229e22932a162\"><g class=\"toyplot-coordinates-Cartesian\" id=\"t6cbb6aa7442744e9bfe271c90fc6b3e9\"><clipPath id=\"tbe67b725911b45779f75f9d692d41759\"><rect x=\"35.0\" y=\"35.0\" width=\"230.0\" height=\"205.0\"></rect></clipPath><g clip-path=\"url(#tbe67b725911b45779f75f9d692d41759)\"><g class=\"toytree-mark-Toytree\" id=\"t2161cf6f4f33495ba98bfeffe74ea338\"><g class=\"toytree-Edges\" style=\"stroke:rgb(14.5%,14.5%,14.5%);stroke-opacity:1.0;stroke-linecap:round;stroke-width:2.0;fill:none\"><path d=\"M 156.5 202.2 L 156.5 218.3 L 209.3 218.3\" id=\"6,0\" style=\"\"></path><path d=\"M 156.5 202.2 L 156.5 186.0 L 209.3 186.0\" id=\"6,1\" style=\"\"></path><path d=\"M 156.5 137.5 L 156.5 153.7 L 209.3 153.7\" id=\"7,2\" style=\"\"></path><path d=\"M 156.5 137.5 L 156.5 121.3 L 209.3 121.3\" id=\"7,3\" style=\"\"></path><path d=\"M 103.6 72.8 L 103.6 89.0 L 209.3 89.0\" id=\"9,4\" style=\"\"></path><path d=\"M 103.6 72.8 L 103.6 56.7 L 209.3 56.7\" id=\"9,5\" style=\"\"></path><path d=\"M 103.6 169.8 L 103.6 202.2 L 156.5 202.2\" id=\"8,6\" style=\"\"></path><path d=\"M 103.6 169.8 L 103.6 137.5 L 156.5 137.5\" id=\"8,7\" style=\"\"></path><path d=\"M 50.8 121.3 L 50.8 169.8 L 103.6 169.8\" id=\"10,8\" style=\"\"></path><path d=\"M 50.8 121.3 L 50.8 72.8 L 103.6 72.8\" id=\"10,9\" style=\"\"></path></g><g class=\"toytree-AdmixEdges\" style=\"fill:rgb(0.0%,0.0%,0.0%);fill-opacity:0.0;stroke:rgb(90.6%,54.1%,76.5%);stroke-opacity:0.6;font-size:14px;stroke-linecap:round;stroke-width:5\"></g><g class=\"toytree-Nodes\" style=\"fill:rgb(40.0%,76.1%,64.7%);fill-opacity:1.0;stroke:rgb(14.9%,14.9%,14.9%);stroke-opacity:1.0;stroke-width:1.5\"></g><g class=\"toytree-TipLabels\" style=\"fill:rgb(14.5%,14.5%,14.5%);fill-opacity:1.0;font-family:Helvetica;font-size:12px;font-weight:300;vertical-align:baseline;white-space:pre;stroke:none\"><g class=\"toytree-TipLabel\" transform=\"translate(209.311,218.347)\"><text x=\"15.0\" y=\"3.066\" style=\"fill:rgb(14.5%,14.5%,14.5%);fill-opacity:1.0\">r0</text></g><g class=\"toytree-TipLabel\" transform=\"translate(209.311,186.008)\"><text x=\"15.0\" y=\"3.066\" style=\"fill:rgb(14.5%,14.5%,14.5%);fill-opacity:1.0\">r1</text></g><g class=\"toytree-TipLabel\" transform=\"translate(209.311,153.669)\"><text x=\"15.0\" y=\"3.066\" style=\"fill:rgb(14.5%,14.5%,14.5%);fill-opacity:1.0\">r2</text></g><g class=\"toytree-TipLabel\" transform=\"translate(209.311,121.331)\"><text x=\"15.0\" y=\"3.066\" style=\"fill:rgb(14.5%,14.5%,14.5%);fill-opacity:1.0\">r3</text></g><g class=\"toytree-TipLabel\" transform=\"translate(209.311,88.9916)\"><text x=\"15.0\" y=\"3.066\" style=\"fill:rgb(14.5%,14.5%,14.5%);fill-opacity:1.0\">r4</text></g><g class=\"toytree-TipLabel\" transform=\"translate(209.311,56.6526)\"><text x=\"15.0\" y=\"3.066\" style=\"fill:rgb(14.5%,14.5%,14.5%);fill-opacity:1.0\">r5</text></g></g></g><g class=\"toytree-Annotation-Markers\" id=\"tc743fa64c9234e8588611843ee472121\" style=\"fill:rgb(100.0%,0.0%,0.0%);fill-opacity:1.0;stroke:rgb(100.0%,100.0%,100.0%);stroke-opacity:1.0;stroke-width:2.5\"><g id=\"Mark-0\" style=\"fill-opacity: 1.000\" transform=\"translate(130.052,202.178)\"><rect x=\"-4.5\" y=\"-4.5\" width=\"9\" height=\"9\"></rect></g><g id=\"Mark-1\" style=\"fill-opacity: 1.000\" transform=\"translate(130.052,137.5)\"><rect x=\"-4.5\" y=\"-4.5\" width=\"9\" height=\"9\"></rect></g><g id=\"Mark-2\" style=\"fill-opacity: 1.000\" transform=\"translate(77.2124,169.839)\"><rect x=\"-4.5\" y=\"-4.5\" width=\"9\" height=\"9\"></rect></g></g></g></g></svg><div class=\"toyplot-behavior\"><script>(function()\n",
       "{\n",
       "var modules={};\n",
       "})();</script></div></div>"
      ]
     },
     "metadata": {},
     "output_type": "display_data"
    }
   ],
   "source": [
    "#add_edge_markers\n",
    "\n",
    "tree = toytree.rtree.unittree(6, seed=123)\n",
    "canvas, axes, m0 = tree.draw()\n",
    "m1 = tree.annotate.add_edge_markers(\n",
    "     axes,\n",
    "     marker='s',\n",
    "     size=9,\n",
    "     color='red',\n",
    "     style={'stroke': 'white', 'stroke-width': 2.5}\n",
    " )"
   ]
  },
  {
   "cell_type": "code",
   "execution_count": 5,
   "metadata": {},
   "outputs": [
    {
     "data": {
      "text/html": [
       "<div class=\"toyplot\" id=\"t847fcb4430f341a78869186b7ec0a5c9\" style=\"text-align:center\"><svg class=\"toyplot-canvas-Canvas\" xmlns:toyplot=\"http://www.sandia.gov/toyplot\" xmlns:xlink=\"http://www.w3.org/1999/xlink\" xmlns=\"http://www.w3.org/2000/svg\" width=\"300.0px\" height=\"275.0px\" viewBox=\"0 0 300.0 275.0\" preserveAspectRatio=\"xMidYMid meet\" style=\"background-color:transparent;border-color:#292724;border-style:none;border-width:1.0;fill:rgb(16.1%,15.3%,14.1%);fill-opacity:1.0;font-family:Helvetica;font-size:12px;opacity:1.0;stroke:rgb(16.1%,15.3%,14.1%);stroke-opacity:1.0;stroke-width:1.0\" id=\"t487eeeab4aae40308bd95a1c155bd3a1\"><g class=\"toyplot-coordinates-Cartesian\" id=\"t9b2b1c03571947d28f9ec18cf048dc6d\"><clipPath id=\"tdf327e20ee1b4a7ba05b6e1425b8913b\"><rect x=\"35.0\" y=\"35.0\" width=\"230.0\" height=\"205.0\"></rect></clipPath><g clip-path=\"url(#tdf327e20ee1b4a7ba05b6e1425b8913b)\"><g class=\"toytree-mark-Toytree\" id=\"t9307587c83d84d028eaf5a5f27bbe355\"><g class=\"toytree-Edges\" style=\"stroke:rgb(14.5%,14.5%,14.5%);stroke-opacity:1.0;stroke-linecap:round;stroke-width:2.0;fill:none\"><path d=\"M 160.2 202.2 L 160.2 218.3 L 210.9 218.3\" id=\"6,0\" style=\"\"></path><path d=\"M 160.2 202.2 L 160.2 186.0 L 210.9 186.0\" id=\"6,1\" style=\"\"></path><path d=\"M 160.2 137.5 L 160.2 153.7 L 210.9 153.7\" id=\"7,2\" style=\"\"></path><path d=\"M 160.2 137.5 L 160.2 121.3 L 210.9 121.3\" id=\"7,3\" style=\"\"></path><path d=\"M 109.5 72.8 L 109.5 89.0 L 210.9 89.0\" id=\"9,4\" style=\"\"></path><path d=\"M 109.5 72.8 L 109.5 56.7 L 210.9 56.7\" id=\"9,5\" style=\"\"></path><path d=\"M 109.5 169.8 L 109.5 202.2 L 160.2 202.2\" id=\"8,6\" style=\"\"></path><path d=\"M 109.5 169.8 L 109.5 137.5 L 160.2 137.5\" id=\"8,7\" style=\"\"></path><path d=\"M 58.8 121.3 L 58.8 169.8 L 109.5 169.8\" id=\"10,8\" style=\"\"></path><path d=\"M 58.8 121.3 L 58.8 72.8 L 109.5 72.8\" id=\"10,9\" style=\"\"></path></g><g class=\"toytree-AdmixEdges\" style=\"fill:rgb(0.0%,0.0%,0.0%);fill-opacity:0.0;stroke:rgb(90.6%,54.1%,76.5%);stroke-opacity:0.6;font-size:14px;stroke-linecap:round;stroke-width:5\"></g><g class=\"toytree-Nodes\" style=\"fill:rgb(40.0%,76.1%,64.7%);fill-opacity:1.0;stroke:rgb(14.9%,14.9%,14.9%);stroke-opacity:1.0;stroke-width:1.5\"></g><g class=\"toytree-TipLabels\" style=\"fill:rgb(14.5%,14.5%,14.5%);fill-opacity:1.0;font-family:Helvetica;font-size:12px;font-weight:300;vertical-align:baseline;white-space:pre;stroke:none\"><g class=\"toytree-TipLabel\" transform=\"translate(210.937,218.347)\"><text x=\"15.0\" y=\"3.066\" style=\"fill:rgb(14.5%,14.5%,14.5%);fill-opacity:1.0\">r0</text></g><g class=\"toytree-TipLabel\" transform=\"translate(210.937,186.008)\"><text x=\"15.0\" y=\"3.066\" style=\"fill:rgb(14.5%,14.5%,14.5%);fill-opacity:1.0\">r1</text></g><g class=\"toytree-TipLabel\" transform=\"translate(210.937,153.669)\"><text x=\"15.0\" y=\"3.066\" style=\"fill:rgb(14.5%,14.5%,14.5%);fill-opacity:1.0\">r2</text></g><g class=\"toytree-TipLabel\" transform=\"translate(210.937,121.331)\"><text x=\"15.0\" y=\"3.066\" style=\"fill:rgb(14.5%,14.5%,14.5%);fill-opacity:1.0\">r3</text></g><g class=\"toytree-TipLabel\" transform=\"translate(210.937,88.9916)\"><text x=\"15.0\" y=\"3.066\" style=\"fill:rgb(14.5%,14.5%,14.5%);fill-opacity:1.0\">r4</text></g><g class=\"toytree-TipLabel\" transform=\"translate(210.937,56.6526)\"><text x=\"15.0\" y=\"3.066\" style=\"fill:rgb(14.5%,14.5%,14.5%);fill-opacity:1.0\">r5</text></g></g></g><g class=\"toytree-Annotation-Markers\" id=\"t3882f79ed0794ee18f8682dcc06a8942\" style=\"fill:rgb(100.0%,0.0%,0.0%);fill-opacity:1.0;stroke:rgb(100.0%,100.0%,100.0%);stroke-opacity:1.0;stroke-width:2.5\"><g id=\"Mark-0\" style=\"fill-opacity: 0.000\" transform=\"translate(160.208,202.178)\"><rect x=\"-4.5\" y=\"-4.5\" width=\"9\" height=\"9\"></rect></g><g id=\"Mark-1\" style=\"fill-opacity: 0.000\" transform=\"translate(160.208,137.5)\"><rect x=\"-4.5\" y=\"-4.5\" width=\"9\" height=\"9\"></rect></g><g id=\"Mark-2\" style=\"fill-opacity: 0.000\" transform=\"translate(109.479,169.839)\"><rect x=\"-4.5\" y=\"-4.5\" width=\"9\" height=\"9\"></rect></g><g id=\"Mark-3\" style=\"fill-opacity: 0.000\" transform=\"translate(109.479,72.8221)\"><rect x=\"-4.5\" y=\"-4.5\" width=\"9\" height=\"9\"></rect></g><g id=\"Mark-4\" style=\"fill-opacity: 0.000\" transform=\"translate(58.7507,121.331)\"><rect x=\"-4.5\" y=\"-4.5\" width=\"9\" height=\"9\"></rect></g></g><g class=\"toytree-Annotation-Markers\" id=\"t5c15644cb873443ea56829fbb8364209\" style=\"fill:rgb(40.0%,76.1%,64.7%);fill-opacity:1.0;stroke:rgb(14.9%,14.9%,14.9%);stroke-opacity:1.0;stroke-width:1.5\"><g id=\"Mark-0\" style=\"fill-opacity: 0.000\" transform=\"translate(109.479,72.8221)\"><polygon points=\"-10.0,10.0 0,-10.0 10.0,10.0\" transform=\"rotate(90)\"></polygon></g><g id=\"Mark-1\" style=\"fill-opacity: 0.000\" transform=\"translate(58.7507,121.331)\"><polygon points=\"-10.0,10.0 0,-10.0 10.0,10.0\" transform=\"rotate(90)\"></polygon></g></g></g></g></svg><div class=\"toyplot-behavior\"><script>(function()\n",
       "{\n",
       "var modules={};\n",
       "})();</script></div></div>"
      ]
     },
     "metadata": {},
     "output_type": "display_data"
    }
   ],
   "source": [
    "#add_node_markers\n",
    "\n",
    "tree = toytree.rtree.unittree(6, seed=123)\n",
    "canvas, axes, m0 = tree.draw()\n",
    "# add markers to all Nodes\n",
    "m1 = tree.annotate.add_node_markers(\n",
    "    axes,\n",
    "    marker='s',\n",
    "    size=9,\n",
    "    color='red',\n",
    "    style={'stroke': 'white', 'stroke-width': 2.5}\n",
    ")\n",
    "# add markers to only a few Nodes\n",
    "m2 = tree.annotate.add_node_markers(\n",
    "    axes, marker=\">\", size=20, mask=tree.get_node_mask(9, 10)\n",
    ")"
   ]
  },
  {
   "cell_type": "code",
   "execution_count": 6,
   "metadata": {},
   "outputs": [
    {
     "data": {
      "text/html": [
       "<div class=\"toyplot\" id=\"tc640607c1bbf41aead19daeeaa588658\" style=\"text-align:center\"><svg class=\"toyplot-canvas-Canvas\" xmlns:toyplot=\"http://www.sandia.gov/toyplot\" xmlns:xlink=\"http://www.w3.org/1999/xlink\" xmlns=\"http://www.w3.org/2000/svg\" width=\"300.0px\" height=\"275.0px\" viewBox=\"0 0 300.0 275.0\" preserveAspectRatio=\"xMidYMid meet\" style=\"background-color:transparent;border-color:#292724;border-style:none;border-width:1.0;fill:rgb(16.1%,15.3%,14.1%);fill-opacity:1.0;font-family:Helvetica;font-size:12px;opacity:1.0;stroke:rgb(16.1%,15.3%,14.1%);stroke-opacity:1.0;stroke-width:1.0\" id=\"t52a7304b7ac940f883b4e27859d65e4a\"><g class=\"toyplot-coordinates-Cartesian\" id=\"tbc0d4bdfd47d41fd9c42dc07dc919fb5\"><clipPath id=\"t4dfdb886d41e4022b20cde138b0e3b5f\"><rect x=\"35.0\" y=\"35.0\" width=\"230.0\" height=\"205.0\"></rect></clipPath><g clip-path=\"url(#t4dfdb886d41e4022b20cde138b0e3b5f)\"><g class=\"toytree-mark-Toytree\" id=\"t9784442f78fe4f9aa838148393ec2af9\"><g class=\"toytree-Edges\" style=\"stroke:rgb(14.5%,14.5%,14.5%);stroke-opacity:1.0;stroke-linecap:round;stroke-width:2.0;fill:none\"><path d=\"M 158.5 202.2 L 158.5 218.3 L 210.2 218.3\" id=\"6,0\" style=\"\"></path><path d=\"M 158.5 202.2 L 158.5 186.0 L 210.2 186.0\" id=\"6,1\" style=\"\"></path><path d=\"M 158.5 137.5 L 158.5 153.7 L 210.2 153.7\" id=\"7,2\" style=\"\"></path><path d=\"M 158.5 137.5 L 158.5 121.3 L 210.2 121.3\" id=\"7,3\" style=\"\"></path><path d=\"M 106.8 72.8 L 106.8 89.0 L 210.2 89.0\" id=\"9,4\" style=\"\"></path><path d=\"M 106.8 72.8 L 106.8 56.7 L 210.2 56.7\" id=\"9,5\" style=\"\"></path><path d=\"M 106.8 169.8 L 106.8 202.2 L 158.5 202.2\" id=\"8,6\" style=\"\"></path><path d=\"M 106.8 169.8 L 106.8 137.5 L 158.5 137.5\" id=\"8,7\" style=\"\"></path><path d=\"M 55.2 121.3 L 55.2 169.8 L 106.8 169.8\" id=\"10,8\" style=\"\"></path><path d=\"M 55.2 121.3 L 55.2 72.8 L 106.8 72.8\" id=\"10,9\" style=\"\"></path></g><g class=\"toytree-AdmixEdges\" style=\"fill:rgb(0.0%,0.0%,0.0%);fill-opacity:0.0;stroke:rgb(90.6%,54.1%,76.5%);stroke-opacity:0.6;font-size:14px;stroke-linecap:round;stroke-width:5\"></g><g class=\"toytree-Nodes\" style=\"fill:rgb(40.0%,76.1%,64.7%);fill-opacity:1.0;stroke:rgb(14.9%,14.9%,14.9%);stroke-opacity:1.0;stroke-width:1.5\"></g><g class=\"toytree-TipLabels\" style=\"fill:rgb(14.5%,14.5%,14.5%);fill-opacity:1.0;font-family:Helvetica;font-size:12px;font-weight:300;vertical-align:baseline;white-space:pre;stroke:none\"><g class=\"toytree-TipLabel\" transform=\"translate(210.206,218.347)\"><text x=\"15.0\" y=\"3.066\" style=\"fill:rgb(14.5%,14.5%,14.5%);fill-opacity:1.0\">r0</text></g><g class=\"toytree-TipLabel\" transform=\"translate(210.206,186.008)\"><text x=\"15.0\" y=\"3.066\" style=\"fill:rgb(14.5%,14.5%,14.5%);fill-opacity:1.0\">r1</text></g><g class=\"toytree-TipLabel\" transform=\"translate(210.206,153.669)\"><text x=\"15.0\" y=\"3.066\" style=\"fill:rgb(14.5%,14.5%,14.5%);fill-opacity:1.0\">r2</text></g><g class=\"toytree-TipLabel\" transform=\"translate(210.206,121.331)\"><text x=\"15.0\" y=\"3.066\" style=\"fill:rgb(14.5%,14.5%,14.5%);fill-opacity:1.0\">r3</text></g><g class=\"toytree-TipLabel\" transform=\"translate(210.206,88.9916)\"><text x=\"15.0\" y=\"3.066\" style=\"fill:rgb(14.5%,14.5%,14.5%);fill-opacity:1.0\">r4</text></g><g class=\"toytree-TipLabel\" transform=\"translate(210.206,56.6526)\"><text x=\"15.0\" y=\"3.066\" style=\"fill:rgb(14.5%,14.5%,14.5%);fill-opacity:1.0\">r5</text></g></g></g><g class=\"toyplot-mark-Text\" id=\"ta2ff432abadb49e5ad58adc39c2eca33\"><g class=\"toyplot-Series\"><g class=\"toyplot-Datum\" transform=\"translate(158.52790094364,202.1779303062302)\"><text x=\"-3.3360000000000003\" y=\"-4.934\" style=\"fill:rgb(0%,0%,100%);fill-opacity:1.0;font-family:Helvetica;font-size:12.0px;font-weight:300;opacity:1;stroke:none;vertical-align:baseline;white-space:pre\">6</text></g><g class=\"toyplot-Datum\" transform=\"translate(158.52790094364,137.5)\"><text x=\"-3.3360000000000003\" y=\"-4.934\" style=\"fill:rgb(0%,0%,100%);fill-opacity:1.0;font-family:Helvetica;font-size:12.0px;font-weight:300;opacity:1;stroke:none;vertical-align:baseline;white-space:pre\">7</text></g><g class=\"toyplot-Datum\" transform=\"translate(106.84991679844553,169.83896515311508)\"><text x=\"-3.3360000000000003\" y=\"-4.934\" style=\"fill:rgb(0%,0%,100%);fill-opacity:1.0;font-family:Helvetica;font-size:12.0px;font-weight:300;opacity:1;stroke:none;vertical-align:baseline;white-space:pre\">8</text></g><g class=\"toyplot-Datum\" transform=\"translate(106.84991679844553,72.8220696937698)\"><text x=\"-3.3360000000000003\" y=\"-4.934\" style=\"fill:rgb(0%,0%,100%);fill-opacity:1.0;font-family:Helvetica;font-size:12.0px;font-weight:300;opacity:1;stroke:none;vertical-align:baseline;white-space:pre\">9</text></g><g class=\"toyplot-Datum\" transform=\"translate(55.17193265325107,121.33051742344244)\"><text x=\"-6.672000000000001\" y=\"-4.934\" style=\"fill:rgb(0%,0%,100%);fill-opacity:1.0;font-family:Helvetica;font-size:12.0px;font-weight:300;opacity:1;stroke:none;vertical-align:baseline;white-space:pre\">10</text></g></g></g></g></g></svg><div class=\"toyplot-behavior\"><script>(function()\n",
       "{\n",
       "var modules={};\n",
       "})();</script></div></div>"
      ]
     },
     "metadata": {},
     "output_type": "display_data"
    }
   ],
   "source": [
    "#add_node_labels\n",
    "\n",
    "tree = toytree.rtree.unittree(6, seed=123)\n",
    "canvas, axes, m0 = tree.draw()\n",
    "m1 = tree.annotate.add_node_labels(\n",
    "    axes,\n",
    "    labels=tree.get_node_data(\"idx\"),\n",
    "    color='blue',\n",
    "    style={'font-size': 16, 'baseline-shift': 8}\n",
    ")\n"
   ]
  },
  {
   "cell_type": "code",
   "execution_count": 7,
   "metadata": {},
   "outputs": [
    {
     "data": {
      "text/plain": [
       "<toytree.drawing.src.mark_annotation.AnnotationRect at 0x210a540f2f0>"
      ]
     },
     "execution_count": 7,
     "metadata": {},
     "output_type": "execute_result"
    },
    {
     "data": {
      "text/html": [
       "<div class=\"toyplot\" id=\"te92c2ee3bd2d4a0aab7a686fa7d7b05a\" style=\"text-align:center\"><svg class=\"toyplot-canvas-Canvas\" xmlns:toyplot=\"http://www.sandia.gov/toyplot\" xmlns:xlink=\"http://www.w3.org/1999/xlink\" xmlns=\"http://www.w3.org/2000/svg\" width=\"300.0px\" height=\"275.0px\" viewBox=\"0 0 300.0 275.0\" preserveAspectRatio=\"xMidYMid meet\" style=\"background-color:transparent;border-color:#292724;border-style:none;border-width:1.0;fill:rgb(16.1%,15.3%,14.1%);fill-opacity:1.0;font-family:Helvetica;font-size:12px;opacity:1.0;stroke:rgb(16.1%,15.3%,14.1%);stroke-opacity:1.0;stroke-width:1.0\" id=\"t0389c168deda4e4084b5a71fe7e0ce4c\"><g class=\"toyplot-coordinates-Cartesian\" id=\"t56e326ea700948359a3a4cc9cf3c8c95\"><clipPath id=\"te68c23068cb84f85a1292bf33cd2bea2\"><rect x=\"35.0\" y=\"35.0\" width=\"230.0\" height=\"205.0\"></rect></clipPath><g clip-path=\"url(#te68c23068cb84f85a1292bf33cd2bea2)\"><g class=\"toytree-Annotation-Rect\" id=\"t774f847260e24908b2e009918604fb05\" style=\"fill:rgb(50.2%,0.0%,50.2%);fill-opacity:0.5;stroke:none;stroke-width:1.5\"><g id=\"Rect-0\" style=\"fill-opacity: 0.400\" transform=\"translate(182.62459,188.43387)\"><rect width=\"17.683278\" height=\"5.9288103\" rx=\"1\" ry=\"1\"></rect></g><g id=\"Rect-1\" style=\"fill-opacity: 0.400\" transform=\"translate(182.62459,152.50169)\"><rect width=\"17.683278\" height=\"5.9288103\" rx=\"1\" ry=\"1\"></rect></g><g id=\"Rect-2\" style=\"fill-opacity: 0.400\" transform=\"translate(156.09967,170.46778)\"><rect width=\"35.366557\" height=\"5.9288103\" rx=\"1\" ry=\"1\"></rect></g><g id=\"Rect-3\" style=\"fill-opacity: 0.400\" transform=\"translate(129.57475,148.01016)\"><rect width=\"53.049835\" height=\"5.9288103\" rx=\"1\" ry=\"1\"></rect></g><g id=\"Rect-4\" style=\"fill-opacity: 0.400\" transform=\"translate(103.04984,127.79831)\"><rect width=\"70.733113\" height=\"5.9288103\" rx=\"1\" ry=\"1\"></rect></g><g id=\"Rect-5\" style=\"fill-opacity: 0.400\" transform=\"translate(76.524918,171.59066)\"><rect width=\"88.416392\" height=\"5.9288103\" rx=\"1\" ry=\"1\"></rect></g><g id=\"Rect-6\" style=\"fill-opacity: 0.400\" transform=\"translate(103.04984,62.671228)\"><rect width=\"70.733113\" height=\"5.9288103\" rx=\"1\" ry=\"1\"></rect></g><g id=\"Rect-7\" style=\"fill-opacity: 0.400\" transform=\"translate(76.524918,76.145797)\"><rect width=\"88.416392\" height=\"5.9288103\" rx=\"1\" ry=\"1\"></rect></g><g id=\"Rect-8\" style=\"fill-opacity: 0.400\" transform=\"translate(50,123.86823)\"><rect width=\"106.09967\" height=\"5.9288103\" rx=\"1\" ry=\"1\"></rect></g></g><g class=\"toytree-mark-Toytree\" id=\"t33c2f6e630fc4e48a498f992ba656912\"><g class=\"toytree-Edges\" style=\"stroke:rgb(14.5%,14.5%,14.5%);stroke-opacity:1.0;stroke-linecap:round;stroke-width:2.0;fill:none\"><path d=\"M 120.7 174.6 L 120.7 218.3 L 209.1 218.3\" id=\"15,0\" style=\"\"></path><path d=\"M 191.5 191.4 L 191.5 200.4 L 209.1 200.4\" id=\"10,1\" style=\"\"></path><path d=\"M 191.5 191.4 L 191.5 182.4 L 209.1 182.4\" id=\"10,2\" style=\"\"></path><path d=\"M 191.5 155.5 L 191.5 164.4 L 209.1 164.4\" id=\"11,3\" style=\"\"></path><path d=\"M 191.5 155.5 L 191.5 146.5 L 209.1 146.5\" id=\"11,4\" style=\"\"></path><path d=\"M 156.1 151.0 L 156.1 128.5 L 209.1 128.5\" id=\"13,5\" style=\"\"></path><path d=\"M 138.4 130.8 L 138.4 110.6 L 209.1 110.6\" id=\"14,6\" style=\"\"></path><path d=\"M 120.7 79.1 L 120.7 92.6 L 209.1 92.6\" id=\"17,7\" style=\"\"></path><path d=\"M 138.4 65.6 L 138.4 74.6 L 209.1 74.6\" id=\"16,8\" style=\"\"></path><path d=\"M 138.4 65.6 L 138.4 56.7 L 209.1 56.7\" id=\"16,9\" style=\"\"></path><path d=\"M 173.8 173.4 L 173.8 191.4 L 191.5 191.4\" id=\"12,10\" style=\"\"></path><path d=\"M 173.8 173.4 L 173.8 155.5 L 191.5 155.5\" id=\"12,11\" style=\"\"></path><path d=\"M 156.1 151.0 L 156.1 173.4 L 173.8 173.4\" id=\"13,12\" style=\"\"></path><path d=\"M 138.4 130.8 L 138.4 151.0 L 156.1 151.0\" id=\"14,13\" style=\"\"></path><path d=\"M 120.7 174.6 L 120.7 130.8 L 138.4 130.8\" id=\"15,14\" style=\"\"></path><path d=\"M 103.0 126.8 L 103.0 174.6 L 120.7 174.6\" id=\"18,15\" style=\"\"></path><path d=\"M 120.7 79.1 L 120.7 65.6 L 138.4 65.6\" id=\"17,16\" style=\"\"></path><path d=\"M 103.0 126.8 L 103.0 79.1 L 120.7 79.1\" id=\"18,17\" style=\"\"></path></g><g class=\"toytree-AdmixEdges\" style=\"fill:rgb(0.0%,0.0%,0.0%);fill-opacity:0.0;stroke:rgb(90.6%,54.1%,76.5%);stroke-opacity:0.6;font-size:14px;stroke-linecap:round;stroke-width:5\"></g><g class=\"toytree-Nodes\" style=\"fill:rgb(40.0%,76.1%,64.7%);fill-opacity:1.0;stroke:rgb(14.9%,14.9%,14.9%);stroke-opacity:1.0;stroke-width:1.5\"></g><g class=\"toytree-TipLabels\" style=\"fill:rgb(14.5%,14.5%,14.5%);fill-opacity:1.0;font-family:Helvetica;font-size:12px;font-weight:300;vertical-align:baseline;white-space:pre;stroke:none\"><g class=\"toytree-TipLabel\" transform=\"translate(209.15,218.347)\"><text x=\"15.0\" y=\"3.066\" style=\"fill:rgb(14.5%,14.5%,14.5%);fill-opacity:1.0\">r0</text></g><g class=\"toytree-TipLabel\" transform=\"translate(209.15,200.381)\"><text x=\"15.0\" y=\"3.066\" style=\"fill:rgb(14.5%,14.5%,14.5%);fill-opacity:1.0\">r1</text></g><g class=\"toytree-TipLabel\" transform=\"translate(209.15,182.415)\"><text x=\"15.0\" y=\"3.066\" style=\"fill:rgb(14.5%,14.5%,14.5%);fill-opacity:1.0\">r2</text></g><g class=\"toytree-TipLabel\" transform=\"translate(209.15,164.449)\"><text x=\"15.0\" y=\"3.066\" style=\"fill:rgb(14.5%,14.5%,14.5%);fill-opacity:1.0\">r3</text></g><g class=\"toytree-TipLabel\" transform=\"translate(209.15,146.483)\"><text x=\"15.0\" y=\"3.066\" style=\"fill:rgb(14.5%,14.5%,14.5%);fill-opacity:1.0\">r4</text></g><g class=\"toytree-TipLabel\" transform=\"translate(209.15,128.517)\"><text x=\"15.0\" y=\"3.066\" style=\"fill:rgb(14.5%,14.5%,14.5%);fill-opacity:1.0\">r5</text></g><g class=\"toytree-TipLabel\" transform=\"translate(209.15,110.551)\"><text x=\"15.0\" y=\"3.066\" style=\"fill:rgb(14.5%,14.5%,14.5%);fill-opacity:1.0\">r6</text></g><g class=\"toytree-TipLabel\" transform=\"translate(209.15,92.5848)\"><text x=\"15.0\" y=\"3.066\" style=\"fill:rgb(14.5%,14.5%,14.5%);fill-opacity:1.0\">r7</text></g><g class=\"toytree-TipLabel\" transform=\"translate(209.15,74.6187)\"><text x=\"15.0\" y=\"3.066\" style=\"fill:rgb(14.5%,14.5%,14.5%);fill-opacity:1.0\">r8</text></g><g class=\"toytree-TipLabel\" transform=\"translate(209.15,56.6526)\"><text x=\"15.0\" y=\"3.066\" style=\"fill:rgb(14.5%,14.5%,14.5%);fill-opacity:1.0\">r9</text></g></g></g></g></g></svg><div class=\"toyplot-behavior\"><script>(function()\n",
       "{\n",
       "var modules={};\n",
       "})();</script></div></div>"
      ]
     },
     "metadata": {},
     "output_type": "display_data"
    }
   ],
   "source": [
    "#add_node_bars\n",
    "\n",
    "tree = toytree.rtree.unittree(10, treeheight=1e5)\n",
    "c, a, m = tree.draw()\n",
    "node_height = tree.get_node_data(\"height\").values\n",
    "tree.annotate.add_node_bars(\n",
    "    axes=a,\n",
    "    bar_min=node_height * 0.5,\n",
    "    bar_max=node_height * 1.5,\n",
    "    size=0.33, z_index=-1, color='purple', opacity=0.4,\n",
    ")"
   ]
  },
  {
   "cell_type": "code",
   "execution_count": 8,
   "metadata": {},
   "outputs": [
    {
     "data": {
      "text/html": [
       "<div class=\"toyplot\" id=\"t7d288c54c474446b9295b51e9e33e62f\" style=\"text-align:center\"><svg class=\"toyplot-canvas-Canvas\" xmlns:toyplot=\"http://www.sandia.gov/toyplot\" xmlns:xlink=\"http://www.w3.org/1999/xlink\" xmlns=\"http://www.w3.org/2000/svg\" width=\"300.0px\" height=\"275.0px\" viewBox=\"0 0 300.0 275.0\" preserveAspectRatio=\"xMidYMid meet\" style=\"background-color:transparent;border-color:#292724;border-style:none;border-width:1.0;fill:rgb(16.1%,15.3%,14.1%);fill-opacity:1.0;font-family:Helvetica;font-size:12px;opacity:1.0;stroke:rgb(16.1%,15.3%,14.1%);stroke-opacity:1.0;stroke-width:1.0\" id=\"tcc851f351896429ea2b46ae955abe473\"><g class=\"toyplot-coordinates-Cartesian\" id=\"t16f0db86cb9f49b28c4f23287cf9fc8a\"><clipPath id=\"t649568f16bfb4eeda59d66efe5c8791a\"><rect x=\"35.0\" y=\"35.0\" width=\"230.0\" height=\"205.0\"></rect></clipPath><g clip-path=\"url(#t649568f16bfb4eeda59d66efe5c8791a)\"><g class=\"toytree-mark-Toytree\" id=\"t004d3e0e3ed54fe694756108c6b56d5f\"><g class=\"toytree-Edges\" style=\"stroke:rgb(14.5%,14.5%,14.5%);stroke-opacity:1.0;stroke-linecap:round;stroke-width:2.0;fill:none\"><path d=\"M 156.5 199.4 L 156.5 214.8 L 209.3 214.8\" id=\"6,0\" style=\"\"></path><path d=\"M 156.5 199.4 L 156.5 183.9 L 209.3 183.9\" id=\"6,1\" style=\"\"></path><path d=\"M 156.5 137.5 L 156.5 153.0 L 209.3 153.0\" id=\"7,2\" style=\"\"></path><path d=\"M 156.5 137.5 L 156.5 122.0 L 209.3 122.0\" id=\"7,3\" style=\"\"></path><path d=\"M 103.6 75.6 L 103.6 91.1 L 209.3 91.1\" id=\"9,4\" style=\"\"></path><path d=\"M 103.6 75.6 L 103.6 60.2 L 209.3 60.2\" id=\"9,5\" style=\"\"></path><path d=\"M 103.6 168.4 L 103.6 199.4 L 156.5 199.4\" id=\"8,6\" style=\"\"></path><path d=\"M 103.6 168.4 L 103.6 137.5 L 156.5 137.5\" id=\"8,7\" style=\"\"></path><path d=\"M 50.8 122.0 L 50.8 168.4 L 103.6 168.4\" id=\"10,8\" style=\"\"></path><path d=\"M 50.8 122.0 L 50.8 75.6 L 103.6 75.6\" id=\"10,9\" style=\"\"></path></g><g class=\"toytree-AdmixEdges\" style=\"fill:rgb(0.0%,0.0%,0.0%);fill-opacity:0.0;stroke:rgb(90.6%,54.1%,76.5%);stroke-opacity:0.6;font-size:14px;stroke-linecap:round;stroke-width:5\"></g><g class=\"toytree-Nodes\" style=\"fill:rgb(40.0%,76.1%,64.7%);fill-opacity:1.0;stroke:rgb(14.9%,14.9%,14.9%);stroke-opacity:1.0;stroke-width:1.5\"></g><g class=\"toytree-TipLabels\" style=\"fill:rgb(14.5%,14.5%,14.5%);fill-opacity:1.0;font-family:Helvetica;font-size:12px;font-weight:300;vertical-align:baseline;white-space:pre;stroke:none\"><g class=\"toytree-TipLabel\" transform=\"translate(209.311,214.836)\"><text x=\"15.0\" y=\"3.066\" style=\"fill:rgb(14.5%,14.5%,14.5%);fill-opacity:1.0\">r0</text></g><g class=\"toytree-TipLabel\" transform=\"translate(209.311,183.902)\"><text x=\"15.0\" y=\"3.066\" style=\"fill:rgb(14.5%,14.5%,14.5%);fill-opacity:1.0\">r1</text></g><g class=\"toytree-TipLabel\" transform=\"translate(209.311,152.967)\"><text x=\"15.0\" y=\"3.066\" style=\"fill:rgb(14.5%,14.5%,14.5%);fill-opacity:1.0\">r2</text></g><g class=\"toytree-TipLabel\" transform=\"translate(209.311,122.033)\"><text x=\"15.0\" y=\"3.066\" style=\"fill:rgb(14.5%,14.5%,14.5%);fill-opacity:1.0\">r3</text></g><g class=\"toytree-TipLabel\" transform=\"translate(209.311,91.0985)\"><text x=\"15.0\" y=\"3.066\" style=\"fill:rgb(14.5%,14.5%,14.5%);fill-opacity:1.0\">r4</text></g><g class=\"toytree-TipLabel\" transform=\"translate(209.311,60.1641)\"><text x=\"15.0\" y=\"3.066\" style=\"fill:rgb(14.5%,14.5%,14.5%);fill-opacity:1.0\">r5</text></g></g></g><g class=\"toytree-Annotation-Markers\" id=\"t3a4956877f8d43f5869c9ec71aa4dc5d\" style=\"fill:rgb(100.0%,0.0%,0.0%);fill-opacity:1.0;stroke:rgb(100.0%,100.0%,100.0%);stroke-opacity:1.0;stroke-width:2.5\"><g id=\"Mark-0\" style=\"fill-opacity: 1.000\" transform=\"translate(209.311,214.836)\"><rect x=\"-4.5\" y=\"-4.5\" width=\"9\" height=\"9\"></rect></g><g id=\"Mark-1\" style=\"fill-opacity: 1.000\" transform=\"translate(209.311,183.902)\"><rect x=\"-4.5\" y=\"-4.5\" width=\"9\" height=\"9\"></rect></g><g id=\"Mark-2\" style=\"fill-opacity: 1.000\" transform=\"translate(209.311,152.967)\"><rect x=\"-4.5\" y=\"-4.5\" width=\"9\" height=\"9\"></rect></g><g id=\"Mark-3\" style=\"fill-opacity: 1.000\" transform=\"translate(209.311,122.033)\"><rect x=\"-4.5\" y=\"-4.5\" width=\"9\" height=\"9\"></rect></g><g id=\"Mark-4\" style=\"fill-opacity: 1.000\" transform=\"translate(209.311,91.0985)\"><rect x=\"-4.5\" y=\"-4.5\" width=\"9\" height=\"9\"></rect></g><g id=\"Mark-5\" style=\"fill-opacity: 1.000\" transform=\"translate(209.311,60.1641)\"><rect x=\"-4.5\" y=\"-4.5\" width=\"9\" height=\"9\"></rect></g></g><g class=\"toytree-Annotation-Markers\" id=\"tdb533772880a44268f4ef6a1d2d9f4ff\" style=\"fill:rgb(40.0%,76.1%,64.7%);fill-opacity:1.0;stroke:rgb(14.9%,14.9%,14.9%);stroke-opacity:1.0;stroke-width:1.5\"><g id=\"Mark-0\" style=\"fill-opacity: 1.000\" transform=\"translate(209.311,214.836)\"><polygon points=\"-10.0,10.0 0,-10.0 10.0,10.0\" transform=\"rotate(90)\"></polygon></g><g id=\"Mark-1\" style=\"fill-opacity: 1.000\" transform=\"translate(209.311,183.902)\"><polygon points=\"-10.0,10.0 0,-10.0 10.0,10.0\" transform=\"rotate(90)\"></polygon></g><g id=\"Mark-2\" style=\"fill-opacity: 1.000\" transform=\"translate(209.311,152.967)\"><polygon points=\"-10.0,10.0 0,-10.0 10.0,10.0\" transform=\"rotate(90)\"></polygon></g><g id=\"Mark-3\" style=\"fill-opacity: 1.000\" transform=\"translate(209.311,122.033)\"><polygon points=\"-10.0,10.0 0,-10.0 10.0,10.0\" transform=\"rotate(90)\"></polygon></g><g id=\"Mark-4\" style=\"fill-opacity: 1.000\" transform=\"translate(209.311,91.0985)\"><polygon points=\"-10.0,10.0 0,-10.0 10.0,10.0\" transform=\"rotate(90)\"></polygon></g><g id=\"Mark-5\" style=\"fill-opacity: 1.000\" transform=\"translate(209.311,60.1641)\"><polygon points=\"-10.0,10.0 0,-10.0 10.0,10.0\" transform=\"rotate(90)\"></polygon></g></g></g></g></svg><div class=\"toyplot-behavior\"><script>(function()\n",
       "{\n",
       "var modules={};\n",
       "})();</script></div></div>"
      ]
     },
     "metadata": {},
     "output_type": "display_data"
    }
   ],
   "source": [
    "#add_tip_markers\n",
    "\n",
    "tree = toytree.rtree.unittree(6, seed=123)\n",
    "canvas, axes, m0 = tree.draw()\n",
    "# add markers to all Nodes\n",
    "m1 = tree.annotate.add_tip_markers(\n",
    "    axes,\n",
    "    marker='s',\n",
    "    size=9,\n",
    "    color='red',\n",
    "    style={'stroke': 'white', 'stroke-width': 2.5}\n",
    ")\n",
    "# add markers to only a few Nodes\n",
    "m2 = tree.annotate.add_tip_markers(\n",
    "    axes, marker=\">\", size=20, mask=tree.get_node_mask(9)\n",
    ")"
   ]
  },
  {
   "cell_type": "code",
   "execution_count": 12,
   "metadata": {},
   "outputs": [
    {
     "data": {
      "text/plain": [
       "<toyplot.coordinates.Cartesian at 0x210a3067d10>"
      ]
     },
     "execution_count": 12,
     "metadata": {},
     "output_type": "execute_result"
    },
    {
     "data": {
      "text/html": [
       "<div class=\"toyplot\" id=\"t06c4473d2f2344d293622765938e1d65\" style=\"text-align:center\"><svg class=\"toyplot-canvas-Canvas\" xmlns:toyplot=\"http://www.sandia.gov/toyplot\" xmlns:xlink=\"http://www.w3.org/1999/xlink\" xmlns=\"http://www.w3.org/2000/svg\" width=\"300.0px\" height=\"275.0px\" viewBox=\"0 0 300.0 275.0\" preserveAspectRatio=\"xMidYMid meet\" style=\"background-color:transparent;border-color:#292724;border-style:none;border-width:1.0;fill:rgb(16.1%,15.3%,14.1%);fill-opacity:1.0;font-family:Helvetica;font-size:12px;opacity:1.0;stroke:rgb(16.1%,15.3%,14.1%);stroke-opacity:1.0;stroke-width:1.0\" id=\"t87f92decf90549b89e01b3aef2ad2a9f\"><g class=\"toyplot-coordinates-Cartesian\" id=\"t5fd792d8d8b148dcbebfc6147ae9582b\"><clipPath id=\"t621438236a5b427f88cb6c05d50c0369\"><rect x=\"35.0\" y=\"35.0\" width=\"230.0\" height=\"205.0\"></rect></clipPath><g clip-path=\"url(#t621438236a5b427f88cb6c05d50c0369)\"><g class=\"toytree-mark-Toytree\" id=\"t60fcd3aa8aad4df692a8c6be36874902\"><g class=\"toytree-Edges\" style=\"stroke:rgb(14.5%,14.5%,14.5%);stroke-opacity:1.0;stroke-linecap:round;stroke-width:2.0;fill:none\"><path d=\"M 145.9 209.4 L 145.9 218.3 L 209.3 218.3\" id=\"10,0\" style=\"\"></path><path d=\"M 145.9 209.4 L 145.9 200.4 L 209.3 200.4\" id=\"10,1\" style=\"\"></path><path d=\"M 114.2 195.9 L 114.2 182.4 L 209.3 182.4\" id=\"11,2\" style=\"\"></path><path d=\"M 82.5 180.2 L 82.5 164.4 L 209.3 164.4\" id=\"12,3\" style=\"\"></path><path d=\"M 114.2 137.5 L 114.2 146.5 L 209.3 146.5\" id=\"13,4\" style=\"\"></path><path d=\"M 114.2 137.5 L 114.2 128.5 L 209.3 128.5\" id=\"13,5\" style=\"\"></path><path d=\"M 177.6 101.6 L 177.6 110.6 L 209.3 110.6\" id=\"14,6\" style=\"\"></path><path d=\"M 177.6 101.6 L 177.6 92.6 L 209.3 92.6\" id=\"14,7\" style=\"\"></path><path d=\"M 145.9 88.1 L 145.9 74.6 L 209.3 74.6\" id=\"15,8\" style=\"\"></path><path d=\"M 114.2 72.4 L 114.2 56.7 L 209.3 56.7\" id=\"16,9\" style=\"\"></path><path d=\"M 114.2 195.9 L 114.2 209.4 L 145.9 209.4\" id=\"11,10\" style=\"\"></path><path d=\"M 82.5 180.2 L 82.5 195.9 L 114.2 195.9\" id=\"12,11\" style=\"\"></path><path d=\"M 50.8 142.6 L 50.8 180.2 L 82.5 180.2\" id=\"18,12\" style=\"\"></path><path d=\"M 82.5 104.9 L 82.5 137.5 L 114.2 137.5\" id=\"17,13\" style=\"\"></path><path d=\"M 145.9 88.1 L 145.9 101.6 L 177.6 101.6\" id=\"15,14\" style=\"\"></path><path d=\"M 114.2 72.4 L 114.2 88.1 L 145.9 88.1\" id=\"16,15\" style=\"\"></path><path d=\"M 82.5 104.9 L 82.5 72.4 L 114.2 72.4\" id=\"17,16\" style=\"\"></path><path d=\"M 50.8 142.6 L 50.8 104.9 L 82.5 104.9\" id=\"18,17\" style=\"\"></path></g><g class=\"toytree-AdmixEdges\" style=\"fill:rgb(0.0%,0.0%,0.0%);fill-opacity:0.0;stroke:rgb(90.6%,54.1%,76.5%);stroke-opacity:0.6;font-size:14px;stroke-linecap:round;stroke-width:5\"></g><g class=\"toytree-Nodes\" style=\"fill:rgb(40.0%,76.1%,64.7%);fill-opacity:1.0;stroke:rgb(14.9%,14.9%,14.9%);stroke-opacity:1.0;stroke-width:1.5\"></g><g class=\"toytree-TipLabels\" style=\"fill:rgb(14.5%,14.5%,14.5%);fill-opacity:1.0;font-family:Helvetica;font-size:12px;font-weight:300;vertical-align:baseline;white-space:pre;stroke:none\"><g class=\"toytree-TipLabel\" transform=\"translate(209.311,218.347)\"><text x=\"15.0\" y=\"3.066\" style=\"fill:rgb(14.5%,14.5%,14.5%);fill-opacity:1.0\">r0</text></g><g class=\"toytree-TipLabel\" transform=\"translate(209.311,200.381)\"><text x=\"15.0\" y=\"3.066\" style=\"fill:rgb(14.5%,14.5%,14.5%);fill-opacity:1.0\">r1</text></g><g class=\"toytree-TipLabel\" transform=\"translate(209.311,182.415)\"><text x=\"15.0\" y=\"3.066\" style=\"fill:rgb(14.5%,14.5%,14.5%);fill-opacity:1.0\">r2</text></g><g class=\"toytree-TipLabel\" transform=\"translate(209.311,164.449)\"><text x=\"15.0\" y=\"3.066\" style=\"fill:rgb(14.5%,14.5%,14.5%);fill-opacity:1.0\">r3</text></g><g class=\"toytree-TipLabel\" transform=\"translate(209.311,146.483)\"><text x=\"15.0\" y=\"3.066\" style=\"fill:rgb(14.5%,14.5%,14.5%);fill-opacity:1.0\">r4</text></g><g class=\"toytree-TipLabel\" transform=\"translate(209.311,128.517)\"><text x=\"15.0\" y=\"3.066\" style=\"fill:rgb(14.5%,14.5%,14.5%);fill-opacity:1.0\">r5</text></g><g class=\"toytree-TipLabel\" transform=\"translate(209.311,110.551)\"><text x=\"15.0\" y=\"3.066\" style=\"fill:rgb(14.5%,14.5%,14.5%);fill-opacity:1.0\">r6</text></g><g class=\"toytree-TipLabel\" transform=\"translate(209.311,92.5848)\"><text x=\"15.0\" y=\"3.066\" style=\"fill:rgb(14.5%,14.5%,14.5%);fill-opacity:1.0\">r7</text></g><g class=\"toytree-TipLabel\" transform=\"translate(209.311,74.6187)\"><text x=\"15.0\" y=\"3.066\" style=\"fill:rgb(14.5%,14.5%,14.5%);fill-opacity:1.0\">r8</text></g><g class=\"toytree-TipLabel\" transform=\"translate(209.311,56.6526)\"><text x=\"15.0\" y=\"3.066\" style=\"fill:rgb(14.5%,14.5%,14.5%);fill-opacity:1.0\">r9</text></g></g></g></g><g class=\"toyplot-coordinates-Axis\" id=\"t943e3cedcd97420f88687df8c67823fc\" transform=\"translate(50.0,225.0)translate(0,15.0)\"><line x1=\"0.7925940016485786\" y1=\"0\" x2=\"159.3113943313677\" y2=\"0\" style=\"\"></line><g><line x1=\"0.7925940016485786\" y1=\"0\" x2=\"0.7925940016485786\" y2=\"-5\" style=\"\"></line><line x1=\"80.05199416650814\" y1=\"0\" x2=\"80.05199416650814\" y2=\"-5\" style=\"\"></line><line x1=\"159.3113943313677\" y1=\"0\" x2=\"159.3113943313677\" y2=\"-5\" style=\"\"></line></g><g><g transform=\"translate(0.7925940016485786,6)\"><text x=\"-2.78\" y=\"8.555\" style=\"fill:rgb(16.1%,15.3%,14.1%);fill-opacity:1.0;font-family:helvetica;font-size:10.0px;font-weight:normal;stroke:none;vertical-align:baseline;white-space:pre\">1</text></g><g transform=\"translate(80.05199416650814,6)\"><text x=\"-6.95\" y=\"8.555\" style=\"fill:rgb(16.1%,15.3%,14.1%);fill-opacity:1.0;font-family:helvetica;font-size:10.0px;font-weight:normal;stroke:none;vertical-align:baseline;white-space:pre\">0.5</text></g><g transform=\"translate(159.3113943313677,6)\"><text x=\"-2.78\" y=\"8.555\" style=\"fill:rgb(16.1%,15.3%,14.1%);fill-opacity:1.0;font-family:helvetica;font-size:10.0px;font-weight:normal;stroke:none;vertical-align:baseline;white-space:pre\">0</text></g></g><g class=\"toyplot-coordinates-Axis-coordinates\" style=\"visibility:hidden\" transform=\"\"><line x1=\"0\" x2=\"0\" y1=\"-3.0\" y2=\"4.5\" style=\"stroke:rgb(43.9%,50.2%,56.5%);stroke-opacity:1.0;stroke-width:1.0\"></line><text x=\"0\" y=\"-6\" style=\"alignment-baseline:alphabetic;fill:rgb(43.9%,50.2%,56.5%);fill-opacity:1.0;font-size:10px;font-weight:normal;stroke:none;text-anchor:middle\"></text></g></g></g></svg><div class=\"toyplot-behavior\"><script>(function()\n",
       "{\n",
       "var modules={};\n",
       "modules[\"toyplot/canvas/id\"] = \"t87f92decf90549b89e01b3aef2ad2a9f\";\n",
       "modules[\"toyplot/canvas\"] = (function(canvas_id)\n",
       "    {\n",
       "        return document.querySelector(\"#\" + canvas_id);\n",
       "    })(modules[\"toyplot/canvas/id\"]);\n",
       "modules[\"toyplot.coordinates.Axis\"] = (\n",
       "        function(canvas)\n",
       "        {\n",
       "            function sign(x)\n",
       "            {\n",
       "                return x < 0 ? -1 : x > 0 ? 1 : 0;\n",
       "            }\n",
       "\n",
       "            function mix(a, b, amount)\n",
       "            {\n",
       "                return ((1.0 - amount) * a) + (amount * b);\n",
       "            }\n",
       "\n",
       "            function log(x, base)\n",
       "            {\n",
       "                return Math.log(Math.abs(x)) / Math.log(base);\n",
       "            }\n",
       "\n",
       "            function in_range(a, x, b)\n",
       "            {\n",
       "                var left = Math.min(a, b);\n",
       "                var right = Math.max(a, b);\n",
       "                return left <= x && x <= right;\n",
       "            }\n",
       "\n",
       "            function inside(range, projection)\n",
       "            {\n",
       "                for(var i = 0; i != projection.length; ++i)\n",
       "                {\n",
       "                    var segment = projection[i];\n",
       "                    if(in_range(segment.range.min, range, segment.range.max))\n",
       "                        return true;\n",
       "                }\n",
       "                return false;\n",
       "            }\n",
       "\n",
       "            function to_domain(range, projection)\n",
       "            {\n",
       "                for(var i = 0; i != projection.length; ++i)\n",
       "                {\n",
       "                    var segment = projection[i];\n",
       "                    if(in_range(segment.range.bounds.min, range, segment.range.bounds.max))\n",
       "                    {\n",
       "                        if(segment.scale == \"linear\")\n",
       "                        {\n",
       "                            var amount = (range - segment.range.min) / (segment.range.max - segment.range.min);\n",
       "                            return mix(segment.domain.min, segment.domain.max, amount)\n",
       "                        }\n",
       "                        else if(segment.scale[0] == \"log\")\n",
       "                        {\n",
       "                            var amount = (range - segment.range.min) / (segment.range.max - segment.range.min);\n",
       "                            var base = segment.scale[1];\n",
       "                            return sign(segment.domain.min) * Math.pow(base, mix(log(segment.domain.min, base), log(segment.domain.max, base), amount));\n",
       "                        }\n",
       "                    }\n",
       "                }\n",
       "            }\n",
       "\n",
       "            var axes = {};\n",
       "\n",
       "            function display_coordinates(e)\n",
       "            {\n",
       "                var current = canvas.createSVGPoint();\n",
       "                current.x = e.clientX;\n",
       "                current.y = e.clientY;\n",
       "\n",
       "                for(var axis_id in axes)\n",
       "                {\n",
       "                    var axis = document.querySelector(\"#\" + axis_id);\n",
       "                    var coordinates = axis.querySelector(\".toyplot-coordinates-Axis-coordinates\");\n",
       "                    if(coordinates)\n",
       "                    {\n",
       "                        var projection = axes[axis_id];\n",
       "                        var local = current.matrixTransform(axis.getScreenCTM().inverse());\n",
       "                        if(inside(local.x, projection))\n",
       "                        {\n",
       "                            var domain = to_domain(local.x, projection);\n",
       "                            coordinates.style.visibility = \"visible\";\n",
       "                            coordinates.setAttribute(\"transform\", \"translate(\" + local.x + \")\");\n",
       "                            var text = coordinates.querySelector(\"text\");\n",
       "                            text.textContent = domain.toFixed(2);\n",
       "                        }\n",
       "                        else\n",
       "                        {\n",
       "                            coordinates.style.visibility= \"hidden\";\n",
       "                        }\n",
       "                    }\n",
       "                }\n",
       "            }\n",
       "\n",
       "            canvas.addEventListener(\"click\", display_coordinates);\n",
       "\n",
       "            var module = {};\n",
       "            module.show_coordinates = function(axis_id, projection)\n",
       "            {\n",
       "                axes[axis_id] = projection;\n",
       "            }\n",
       "\n",
       "            return module;\n",
       "        })(modules[\"toyplot/canvas\"]);\n",
       "(function(axis, axis_id, projection)\n",
       "        {\n",
       "            axis.show_coordinates(axis_id, projection);\n",
       "        })(modules[\"toyplot.coordinates.Axis\"],\"t943e3cedcd97420f88687df8c67823fc\",[{\"domain\": {\"bounds\": {\"max\": Infinity, \"min\": -Infinity}, \"max\": 0.25668, \"min\": -1.005}, \"range\": {\"bounds\": {\"max\": Infinity, \"min\": -Infinity}, \"max\": 200.0, \"min\": 0.0}, \"scale\": \"linear\"}]);\n",
       "})();</script></div></div>"
      ]
     },
     "metadata": {},
     "output_type": "display_data"
    }
   ],
   "source": [
    "#add_axes_scale_bar\n",
    "\n",
    "import toytree\n",
    "\n",
    "tree = toytree.rtree.unittree(ntips = 10)\n",
    "canvas, axes, mark = tree.draw()\n",
    "tree.annotate.add_axes_scale_bar(axes)"
   ]
  },
  {
   "cell_type": "code",
   "execution_count": 10,
   "metadata": {},
   "outputs": [
    {
     "data": {
      "text/plain": [
       "<toytree.drawing.src.mark_pie.PieChartMark at 0x210a542ad20>"
      ]
     },
     "execution_count": 10,
     "metadata": {},
     "output_type": "execute_result"
    },
    {
     "data": {
      "text/html": [
       "<div class=\"toyplot\" id=\"t001f089247af4c8a9d1b3dfbb21b0420\" style=\"text-align:center\"><svg class=\"toyplot-canvas-Canvas\" xmlns:toyplot=\"http://www.sandia.gov/toyplot\" xmlns:xlink=\"http://www.w3.org/1999/xlink\" xmlns=\"http://www.w3.org/2000/svg\" width=\"300.0px\" height=\"275.0px\" viewBox=\"0 0 300.0 275.0\" preserveAspectRatio=\"xMidYMid meet\" style=\"background-color:transparent;border-color:#292724;border-style:none;border-width:1.0;fill:rgb(16.1%,15.3%,14.1%);fill-opacity:1.0;font-family:Helvetica;font-size:12px;opacity:1.0;stroke:rgb(16.1%,15.3%,14.1%);stroke-opacity:1.0;stroke-width:1.0\" id=\"t7c6fba7ee7b8411fb0f1236adc6141fd\"><g class=\"toyplot-coordinates-Cartesian\" id=\"t34f4f19913be4de7b1db7bd509aaaa0b\"><clipPath id=\"t8b1728d33df24daa848878e7f5e76a36\"><rect x=\"35.0\" y=\"35.0\" width=\"230.0\" height=\"205.0\"></rect></clipPath><g clip-path=\"url(#t8b1728d33df24daa848878e7f5e76a36)\"><g class=\"toytree-mark-Toytree\" id=\"ted938bd6fea54256a01d055da7b4b209\"><g class=\"toytree-Edges\" style=\"stroke:rgb(14.5%,14.5%,14.5%);stroke-opacity:1.0;stroke-linecap:round;stroke-width:2.0;fill:none\"><path d=\"M 157.9 202.2 L 157.9 218.3 L 209.9 218.3\" id=\"6,0\" style=\"\"></path><path d=\"M 157.9 202.2 L 157.9 186.0 L 209.9 186.0\" id=\"6,1\" style=\"\"></path><path d=\"M 157.9 137.5 L 157.9 153.7 L 209.9 153.7\" id=\"7,2\" style=\"\"></path><path d=\"M 157.9 137.5 L 157.9 121.3 L 209.9 121.3\" id=\"7,3\" style=\"\"></path><path d=\"M 105.9 72.8 L 105.9 89.0 L 209.9 89.0\" id=\"9,4\" style=\"\"></path><path d=\"M 105.9 72.8 L 105.9 56.7 L 209.9 56.7\" id=\"9,5\" style=\"\"></path><path d=\"M 105.9 169.8 L 105.9 202.2 L 157.9 202.2\" id=\"8,6\" style=\"\"></path><path d=\"M 105.9 169.8 L 105.9 137.5 L 157.9 137.5\" id=\"8,7\" style=\"\"></path><path d=\"M 53.9 121.3 L 53.9 169.8 L 105.9 169.8\" id=\"10,8\" style=\"\"></path><path d=\"M 53.9 121.3 L 53.9 72.8 L 105.9 72.8\" id=\"10,9\" style=\"\"></path></g><g class=\"toytree-AdmixEdges\" style=\"fill:rgb(0.0%,0.0%,0.0%);fill-opacity:0.0;stroke:rgb(90.6%,54.1%,76.5%);stroke-opacity:0.6;font-size:14px;stroke-linecap:round;stroke-width:5\"></g><g class=\"toytree-Nodes\" style=\"fill:rgb(40.0%,76.1%,64.7%);fill-opacity:1.0;stroke:rgb(14.9%,14.9%,14.9%);stroke-opacity:1.0;stroke-width:1.5\"></g><g class=\"toytree-TipLabels\" style=\"fill:rgb(14.5%,14.5%,14.5%);fill-opacity:1.0;font-family:Helvetica;font-size:12px;font-weight:300;vertical-align:baseline;white-space:pre;stroke:none\"><g class=\"toytree-TipLabel\" transform=\"translate(209.946,218.347)\"><text x=\"15.0\" y=\"3.066\" style=\"fill:rgb(14.5%,14.5%,14.5%);fill-opacity:1.0\">r0</text></g><g class=\"toytree-TipLabel\" transform=\"translate(209.946,186.008)\"><text x=\"15.0\" y=\"3.066\" style=\"fill:rgb(14.5%,14.5%,14.5%);fill-opacity:1.0\">r1</text></g><g class=\"toytree-TipLabel\" transform=\"translate(209.946,153.669)\"><text x=\"15.0\" y=\"3.066\" style=\"fill:rgb(14.5%,14.5%,14.5%);fill-opacity:1.0\">r2</text></g><g class=\"toytree-TipLabel\" transform=\"translate(209.946,121.331)\"><text x=\"15.0\" y=\"3.066\" style=\"fill:rgb(14.5%,14.5%,14.5%);fill-opacity:1.0\">r3</text></g><g class=\"toytree-TipLabel\" transform=\"translate(209.946,88.9916)\"><text x=\"15.0\" y=\"3.066\" style=\"fill:rgb(14.5%,14.5%,14.5%);fill-opacity:1.0\">r4</text></g><g class=\"toytree-TipLabel\" transform=\"translate(209.946,56.6526)\"><text x=\"15.0\" y=\"3.066\" style=\"fill:rgb(14.5%,14.5%,14.5%);fill-opacity:1.0\">r5</text></g></g></g><g class=\"toytree-mark-PieCharts\" id=\"tf7f6207a31c2479a8491af1b5c82ca21\"><g id=\"pie-0\" style=\"stroke:rgb(0.0%,0.0%,0.0%);stroke-opacity:1.0;stroke-linecap:round;stroke-width:0.75\" transform=\"translate(157.9313,202.1779) rotate(-45)\"><path d=\"M 0 0 L 10.0 0.0 A 10.0 10.0 0 0 1 -7.363621 6.765876 L 0 0\" style=\"fill:rgb(40.0%,76.1%,64.7%);fill-opacity:1.0\"></path><path d=\"M 0 0 L -7.363621 6.765876 A 10.0 10.0 0 0 1 -3.0231239999999997 -9.532089000000001 L 0 0\" style=\"fill:rgb(98.8%,55.3%,38.4%);fill-opacity:1.0\"></path><path d=\"M 0 0 L -3.0231239999999997 -9.532089000000001 A 10.0 10.0 0 0 1 10.0 -0.0 L 0 0\" style=\"fill:rgb(55.3%,62.7%,79.6%);fill-opacity:1.0\"></path><circle r=\"10.0\" style=\"fill:rgb(0.0%,0.0%,0.0%);fill-opacity:0.0;stroke:rgb(14.9%,14.9%,14.9%);stroke-opacity:1.0;stroke-width:1.5\"></circle></g><g id=\"pie-1\" style=\"stroke:rgb(0.0%,0.0%,0.0%);stroke-opacity:1.0;stroke-linecap:round;stroke-width:0.75\" transform=\"translate(157.9313,137.5000) rotate(-45)\"><path d=\"M 0 0 L 10.0 0.0 A 10.0 10.0 0 0 1 -3.3510859999999996 9.421795 L 0 0\" style=\"fill:rgb(40.0%,76.1%,64.7%);fill-opacity:1.0\"></path><path d=\"M 0 0 L -3.3510859999999996 9.421795 A 10.0 10.0 0 0 1 -7.936591 -6.083628 L 0 0\" style=\"fill:rgb(98.8%,55.3%,38.4%);fill-opacity:1.0\"></path><path d=\"M 0 0 L -7.936591 -6.083628 A 10.0 10.0 0 0 1 10.0 -0.0 L 0 0\" style=\"fill:rgb(55.3%,62.7%,79.6%);fill-opacity:1.0\"></path><circle r=\"10.0\" style=\"fill:rgb(0.0%,0.0%,0.0%);fill-opacity:0.0;stroke:rgb(14.9%,14.9%,14.9%);stroke-opacity:1.0;stroke-width:1.5\"></circle></g><g id=\"pie-2\" style=\"stroke:rgb(0.0%,0.0%,0.0%);stroke-opacity:1.0;stroke-linecap:round;stroke-width:0.75\" transform=\"translate(105.9162,169.8390) rotate(-45)\"><path d=\"M 0 0 L 10.0 0.0 A 10.0 10.0 0 0 1 -5.323696999999999 8.46512 L 0 0\" style=\"fill:rgb(40.0%,76.1%,64.7%);fill-opacity:1.0\"></path><path d=\"M 0 0 L -5.323696999999999 8.46512 A 10.0 10.0 0 0 1 -8.320887 -5.546426 L 0 0\" style=\"fill:rgb(98.8%,55.3%,38.4%);fill-opacity:1.0\"></path><path d=\"M 0 0 L -8.320887 -5.546426 A 10.0 10.0 0 0 1 10.0 -0.0 L 0 0\" style=\"fill:rgb(55.3%,62.7%,79.6%);fill-opacity:1.0\"></path><circle r=\"10.0\" style=\"fill:rgb(0.0%,0.0%,0.0%);fill-opacity:0.0;stroke:rgb(14.9%,14.9%,14.9%);stroke-opacity:1.0;stroke-width:1.5\"></circle></g><g id=\"pie-3\" style=\"stroke:rgb(0.0%,0.0%,0.0%);stroke-opacity:1.0;stroke-linecap:round;stroke-width:0.75\" transform=\"translate(105.9162,72.8221) rotate(-45)\"><path d=\"M 0 0 L 10.0 0.0 A 10.0 10.0 0 0 1 -9.819658 1.890587 L 0 0\" style=\"fill:rgb(40.0%,76.1%,64.7%);fill-opacity:1.0\"></path><path d=\"M 0 0 L -9.819658 1.890587 A 10.0 10.0 0 0 1 6.12936 -7.901325999999999 L 0 0\" style=\"fill:rgb(98.8%,55.3%,38.4%);fill-opacity:1.0\"></path><path d=\"M 0 0 L 6.12936 -7.901325999999999 A 10.0 10.0 0 0 1 10.0 -0.0 L 0 0\" style=\"fill:rgb(55.3%,62.7%,79.6%);fill-opacity:1.0\"></path><circle r=\"10.0\" style=\"fill:rgb(0.0%,0.0%,0.0%);fill-opacity:0.0;stroke:rgb(14.9%,14.9%,14.9%);stroke-opacity:1.0;stroke-width:1.5\"></circle></g><g id=\"pie-4\" style=\"stroke:rgb(0.0%,0.0%,0.0%);stroke-opacity:1.0;stroke-linecap:round;stroke-width:0.75\" transform=\"translate(53.9011,121.3305) rotate(-45)\"><path d=\"M 0 0 L 10.0 0.0 A 10.0 10.0 0 0 1 7.35914 6.77075 L 0 0\" style=\"fill:rgb(40.0%,76.1%,64.7%);fill-opacity:1.0\"></path><path d=\"M 0 0 L 7.35914 6.77075 A 10.0 10.0 0 0 1 -9.984539999999999 0.5558430000000001 L 0 0\" style=\"fill:rgb(98.8%,55.3%,38.4%);fill-opacity:1.0\"></path><path d=\"M 0 0 L -9.984539999999999 0.5558430000000001 A 10.0 10.0 0 1 1 10.0 -0.0 L 0 0\" style=\"fill:rgb(55.3%,62.7%,79.6%);fill-opacity:1.0\"></path><circle r=\"10.0\" style=\"fill:rgb(0.0%,0.0%,0.0%);fill-opacity:0.0;stroke:rgb(14.9%,14.9%,14.9%);stroke-opacity:1.0;stroke-width:1.5\"></circle></g></g></g></g></svg><div class=\"toyplot-behavior\"><script>(function()\n",
       "{\n",
       "var modules={};\n",
       "})();</script></div></div>"
      ]
     },
     "metadata": {},
     "output_type": "display_data"
    }
   ],
   "source": [
    "#add_node_pie_charts\n",
    "tree = toytree.rtree.unittree(6, seed=123)\n",
    "canvas, axes, m0 = tree.draw()\n",
    "\n",
    "# generate random pie-like (proportion) data array\n",
    "ncategories = 3\n",
    "arr = np.random.random(size=(tree.nnodes, ncategories))\n",
    "arr = (arr.T / arr.sum(axis=1)).T\n",
    "\n",
    "# add pie charts to all internal Nodes\n",
    "tree.annotate.add_node_pie_charts(\n",
    "    axes=axes, data=arr, size=20, mask=(0, 1, 1),\n",
    "    istroke_width=0.75, istroke=\"black\", rotate=-45,\n",
    ")"
   ]
  },
  {
   "cell_type": "code",
   "execution_count": 11,
   "metadata": {},
   "outputs": [
    {
     "data": {
      "text/plain": [
       "<toytree.drawing.src.mark_pie.PieChartMark at 0x210a4e736b0>"
      ]
     },
     "execution_count": 11,
     "metadata": {},
     "output_type": "execute_result"
    },
    {
     "data": {
      "text/html": [
       "<div class=\"toyplot\" id=\"t48a3fabce4944bc396e0cdd3d3c812f3\" style=\"text-align:center\"><svg class=\"toyplot-canvas-Canvas\" xmlns:toyplot=\"http://www.sandia.gov/toyplot\" xmlns:xlink=\"http://www.w3.org/1999/xlink\" xmlns=\"http://www.w3.org/2000/svg\" width=\"300.0px\" height=\"275.0px\" viewBox=\"0 0 300.0 275.0\" preserveAspectRatio=\"xMidYMid meet\" style=\"background-color:transparent;border-color:#292724;border-style:none;border-width:1.0;fill:rgb(16.1%,15.3%,14.1%);fill-opacity:1.0;font-family:Helvetica;font-size:12px;opacity:1.0;stroke:rgb(16.1%,15.3%,14.1%);stroke-opacity:1.0;stroke-width:1.0\" id=\"t2fa7bee9ff6e486ba40fe99dc4ff2384\"><g class=\"toyplot-coordinates-Cartesian\" id=\"tf0fb80c548084a6dad11cffe1a991ae1\"><clipPath id=\"t6cb9c9eec631460c8cb07eaa4c52e4c6\"><rect x=\"35.0\" y=\"35.0\" width=\"230.0\" height=\"205.0\"></rect></clipPath><g clip-path=\"url(#t6cb9c9eec631460c8cb07eaa4c52e4c6)\"><g class=\"toytree-mark-Toytree\" id=\"tc52115456623469690a07616005766a8\"><g class=\"toytree-Edges\" style=\"stroke:rgb(14.5%,14.5%,14.5%);stroke-opacity:1.0;stroke-linecap:round;stroke-width:2.0;fill:none\"><path d=\"M 156.5 202.2 L 156.5 218.3 L 209.3 218.3\" id=\"6,0\" style=\"\"></path><path d=\"M 156.5 202.2 L 156.5 186.0 L 209.3 186.0\" id=\"6,1\" style=\"\"></path><path d=\"M 156.5 137.5 L 156.5 153.7 L 209.3 153.7\" id=\"7,2\" style=\"\"></path><path d=\"M 156.5 137.5 L 156.5 121.3 L 209.3 121.3\" id=\"7,3\" style=\"\"></path><path d=\"M 103.6 72.8 L 103.6 89.0 L 209.3 89.0\" id=\"9,4\" style=\"\"></path><path d=\"M 103.6 72.8 L 103.6 56.7 L 209.3 56.7\" id=\"9,5\" style=\"\"></path><path d=\"M 103.6 169.8 L 103.6 202.2 L 156.5 202.2\" id=\"8,6\" style=\"\"></path><path d=\"M 103.6 169.8 L 103.6 137.5 L 156.5 137.5\" id=\"8,7\" style=\"\"></path><path d=\"M 50.8 121.3 L 50.8 169.8 L 103.6 169.8\" id=\"10,8\" style=\"\"></path><path d=\"M 50.8 121.3 L 50.8 72.8 L 103.6 72.8\" id=\"10,9\" style=\"\"></path></g><g class=\"toytree-AdmixEdges\" style=\"fill:rgb(0.0%,0.0%,0.0%);fill-opacity:0.0;stroke:rgb(90.6%,54.1%,76.5%);stroke-opacity:0.6;font-size:14px;stroke-linecap:round;stroke-width:5\"></g><g class=\"toytree-Nodes\" style=\"fill:rgb(40.0%,76.1%,64.7%);fill-opacity:1.0;stroke:rgb(14.9%,14.9%,14.9%);stroke-opacity:1.0;stroke-width:1.5\"></g><g class=\"toytree-TipLabels\" style=\"fill:rgb(14.5%,14.5%,14.5%);fill-opacity:1.0;font-family:Helvetica;font-size:12px;font-weight:300;vertical-align:baseline;white-space:pre;stroke:none\"><g class=\"toytree-TipLabel\" transform=\"translate(209.311,218.347)\"><text x=\"15.0\" y=\"3.066\" style=\"fill:rgb(14.5%,14.5%,14.5%);fill-opacity:1.0\">r0</text></g><g class=\"toytree-TipLabel\" transform=\"translate(209.311,186.008)\"><text x=\"15.0\" y=\"3.066\" style=\"fill:rgb(14.5%,14.5%,14.5%);fill-opacity:1.0\">r1</text></g><g class=\"toytree-TipLabel\" transform=\"translate(209.311,153.669)\"><text x=\"15.0\" y=\"3.066\" style=\"fill:rgb(14.5%,14.5%,14.5%);fill-opacity:1.0\">r2</text></g><g class=\"toytree-TipLabel\" transform=\"translate(209.311,121.331)\"><text x=\"15.0\" y=\"3.066\" style=\"fill:rgb(14.5%,14.5%,14.5%);fill-opacity:1.0\">r3</text></g><g class=\"toytree-TipLabel\" transform=\"translate(209.311,88.9916)\"><text x=\"15.0\" y=\"3.066\" style=\"fill:rgb(14.5%,14.5%,14.5%);fill-opacity:1.0\">r4</text></g><g class=\"toytree-TipLabel\" transform=\"translate(209.311,56.6526)\"><text x=\"15.0\" y=\"3.066\" style=\"fill:rgb(14.5%,14.5%,14.5%);fill-opacity:1.0\">r5</text></g></g></g><g class=\"toytree-mark-PieCharts\" id=\"t1031f1c468d9441882f9c06b1194cfd5\"><g id=\"pie-0\" style=\"stroke:rgb(0.0%,0.0%,0.0%);stroke-opacity:1.0;stroke-linecap:round;stroke-width:0.75\" transform=\"translate(130.0520,202.1779) rotate(-45)\"><path d=\"M 0 0 L 10.0 0.0 A 10.0 10.0 0 1 1 0.088396 -9.999609 L 0 0\" style=\"fill:rgb(40.0%,76.1%,64.7%);fill-opacity:1.0\"></path><path d=\"M 0 0 L 0.088396 -9.999609 A 10.0 10.0 0 0 1 0.600065 -9.98198 L 0 0\" style=\"fill:rgb(98.8%,55.3%,38.4%);fill-opacity:1.0\"></path><path d=\"M 0 0 L 0.600065 -9.98198 A 10.0 10.0 0 0 1 10.0 -0.0 L 0 0\" style=\"fill:rgb(55.3%,62.7%,79.6%);fill-opacity:1.0\"></path><circle r=\"10.0\" style=\"fill:rgb(0.0%,0.0%,0.0%);fill-opacity:0.0;stroke:rgb(14.9%,14.9%,14.9%);stroke-opacity:1.0;stroke-width:1.5\"></circle></g><g id=\"pie-1\" style=\"stroke:rgb(0.0%,0.0%,0.0%);stroke-opacity:1.0;stroke-linecap:round;stroke-width:0.75\" transform=\"translate(130.0520,137.5000) rotate(-45)\"><path d=\"M 0 0 L 10.0 0.0 A 10.0 10.0 0 0 1 -9.999801 0.063021 L 0 0\" style=\"fill:rgb(40.0%,76.1%,64.7%);fill-opacity:1.0\"></path><path d=\"M 0 0 L -9.999801 0.063021 A 10.0 10.0 0 0 1 -3.6174250000000003 -9.32278 L 0 0\" style=\"fill:rgb(98.8%,55.3%,38.4%);fill-opacity:1.0\"></path><path d=\"M 0 0 L -3.6174250000000003 -9.32278 A 10.0 10.0 0 0 1 10.0 -0.0 L 0 0\" style=\"fill:rgb(55.3%,62.7%,79.6%);fill-opacity:1.0\"></path><circle r=\"10.0\" style=\"fill:rgb(0.0%,0.0%,0.0%);fill-opacity:0.0;stroke:rgb(14.9%,14.9%,14.9%);stroke-opacity:1.0;stroke-width:1.5\"></circle></g><g id=\"pie-2\" style=\"stroke:rgb(0.0%,0.0%,0.0%);stroke-opacity:1.0;stroke-linecap:round;stroke-width:0.75\" transform=\"translate(77.2124,169.8390) rotate(-45)\"><path d=\"M 0 0 L 10.0 0.0 A 10.0 10.0 0 0 1 -6.61341 7.500854 L 0 0\" style=\"fill:rgb(40.0%,76.1%,64.7%);fill-opacity:1.0\"></path><path d=\"M 0 0 L -6.61341 7.500854 A 10.0 10.0 0 0 1 -9.871181 1.599933 L 0 0\" style=\"fill:rgb(98.8%,55.3%,38.4%);fill-opacity:1.0\"></path><path d=\"M 0 0 L -9.871181 1.599933 A 10.0 10.0 0 1 1 10.0 -0.0 L 0 0\" style=\"fill:rgb(55.3%,62.7%,79.6%);fill-opacity:1.0\"></path><circle r=\"10.0\" style=\"fill:rgb(0.0%,0.0%,0.0%);fill-opacity:0.0;stroke:rgb(14.9%,14.9%,14.9%);stroke-opacity:1.0;stroke-width:1.5\"></circle></g></g></g></g></svg><div class=\"toyplot-behavior\"><script>(function()\n",
       "{\n",
       "var modules={};\n",
       "})();</script></div></div>"
      ]
     },
     "metadata": {},
     "output_type": "display_data"
    }
   ],
   "source": [
    "#add_edge_pie_charts\n",
    "tree = toytree.rtree.unittree(6, seed=123)\n",
    "canvas, axes, m0 = tree.draw()\n",
    "\n",
    "# generate random pie-like (proportion) data array\n",
    "ncategories = 3\n",
    "arr = np.random.random(size=(tree.nnodes, ncategories))\n",
    "arr = (arr.T / arr.sum(axis=1)).T\n",
    "\n",
    "# add pie charts to all internal Nodes\n",
    "tree.annotate.add_edge_pie_charts(\n",
    "    axes=axes, data=arr, size=20, mask=(0, 1, 1),\n",
    "    istroke_width=0.75, istroke=\"black\", rotate=-45,\n",
    ")"
   ]
  }
 ],
 "metadata": {
  "kernelspec": {
   "display_name": "toytree_practice",
   "language": "python",
   "name": "toytree_practice"
  },
  "language_info": {
   "codemirror_mode": {
    "name": "ipython",
    "version": 3
   },
   "file_extension": ".py",
   "mimetype": "text/x-python",
   "name": "python",
   "nbconvert_exporter": "python",
   "pygments_lexer": "ipython3",
   "version": "3.12.4"
  }
 },
 "nbformat": 4,
 "nbformat_minor": 2
}
