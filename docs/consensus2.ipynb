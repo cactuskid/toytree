{
 "cells": [
  {
   "cell_type": "markdown",
   "id": "69dbc308-4d15-49c0-977f-f4381403dcd9",
   "metadata": {},
   "source": [
    "# Consensus trees\n",
    "\n",
    "A consensus tree represents an amalgamation of information from multiple trees, usually sharing the same sets of tips. For example, a majority-rule consensus tree represents a tree composed of the most frequently observed clades among a set of trees. Consensus trees often include minimum cut-off values such that nodes are collapsed if a clade is not observed at least some minimum proportion of the time. Consensus trees can also be used to represent more complex results, such as the mean edge length, node height, or trait value observed for each clade in a tree. For exapmle, these values are commonly reported in Bayesian tree inference as the marginal posterior values. "
   ]
  },
  {
   "cell_type": "markdown",
   "id": "34e1da80-bba5-44f1-9e3a-0c45b2204837",
   "metadata": {},
   "source": [
    "## Inferring consensus trees\n",
    "\n",
    "\n",
    "Let's start by creating three different sets of trees. The first varies in topology, the second varies only in internal node heights but all trees are ultrametric (e.g., a posterior distribution of trees from mrbayes), and the last varies in all edge lengths such that trees are not ultrametric (e.g., a set of maximum likelihood inferred gene trees). "
   ]
  },
  {
   "cell_type": "code",
   "execution_count": 1,
   "id": "bca5e845-9d8d-49dd-aa0b-da7419ecb0e1",
   "metadata": {},
   "outputs": [],
   "source": [
    "import toytree"
   ]
  },
  {
   "cell_type": "markdown",
   "id": "0586c86a-9ba3-4d47-ba4b-7f06a31f93c7",
   "metadata": {},
   "source": [
    "### Example datasets"
   ]
  },
  {
   "cell_type": "code",
   "execution_count": 30,
   "id": "9e01563f-26c0-433e-8670-44eaf1f35a68",
   "metadata": {},
   "outputs": [],
   "source": [
    "# a set of simple ultrametric trees\n",
    "trees = ..."
   ]
  },
  {
   "cell_type": "code",
   "execution_count": 24,
   "id": "5b630e81-4d4d-4ce2-b743-f685d6f15bda",
   "metadata": {},
   "outputs": [],
   "source": [
    "# a set of ultrametric (and presumably) rooted trees\n",
    "aligned_rooted_trees = toytree.mtree(\"https://eaton-lab.org/data/densitree.nex\")"
   ]
  },
  {
   "cell_type": "code",
   "execution_count": null,
   "id": "6245c511-9252-475f-9e81-ee1520c38289",
   "metadata": {},
   "outputs": [],
   "source": [
    "# a set of non-ultrametric unrooted trees\n",
    "unaligned_unrooted_trees = toytree..."
   ]
  },
  {
   "cell_type": "code",
   "execution_count": 25,
   "id": "06e12453-0259-41ec-83b8-e937d44f6d93",
   "metadata": {},
   "outputs": [
    {
     "data": {
      "text/plain": [
       "<toytree.MultiTree ntrees=160>"
      ]
     },
     "execution_count": 25,
     "metadata": {},
     "output_type": "execute_result"
    }
   ],
   "source": [
    "fish"
   ]
  },
  {
   "cell_type": "code",
   "execution_count": 28,
   "id": "a4586b3e-5a7b-4d8b-b1c3-4b1482f315d0",
   "metadata": {},
   "outputs": [],
   "source": [
    "# ctree = fish.get_consensus_tree(ultrametric=True)"
   ]
  },
  {
   "cell_type": "code",
   "execution_count": 29,
   "id": "972fe8d7-fd21-412a-9ece-6d086a456129",
   "metadata": {},
   "outputs": [
    {
     "data": {
      "text/html": [
       "<div class=\"toyplot\" id=\"t2c8c069545014e7f9a762c999c09656b\" style=\"text-align:center\"><svg class=\"toyplot-canvas-Canvas\" xmlns:toyplot=\"http://www.sandia.gov/toyplot\" xmlns:xlink=\"http://www.w3.org/1999/xlink\" xmlns=\"http://www.w3.org/2000/svg\" width=\"477.048px\" height=\"530.5599999999997px\" viewBox=\"0 0 477.048 530.5599999999997\" preserveAspectRatio=\"xMidYMid meet\" style=\"background-color:transparent;border-color:#292724;border-style:none;border-width:1.0;fill:rgb(16.1%,15.3%,14.1%);fill-opacity:1.0;font-family:Helvetica;font-size:12px;opacity:1.0;stroke:rgb(16.1%,15.3%,14.1%);stroke-opacity:1.0;stroke-width:1.0\" id=\"t28cab0eed7fc46fcb92ddc3a462ea81f\"><g class=\"toyplot-coordinates-Cartesian\" id=\"t2adde2167fcd46a5be100b2e37bd8600\"><clipPath id=\"tf62def34a11d4e35822277a931d18e01\"><rect x=\"35.0\" y=\"35.0\" width=\"407.048\" height=\"460.5599999999997\"></rect></clipPath><g clip-path=\"url(#tf62def34a11d4e35822277a931d18e01)\"><g class=\"toytree-mark-Toytree\" id=\"t780243f06bcc468eb22f94b482657973\"><g class=\"toytree-Edges\" style=\"stroke:rgb(14.5%,14.5%,14.5%);stroke-opacity:1.0;stroke-linecap:round;stroke-width:2.0;fill:none\"><path d=\"M 50.6 406.7 L 50.6 473.6 L 278.4 473.6\" id=\"47,0\" style=\"\"></path><path d=\"M 50.6 406.7 L 50.6 456.9 L 278.4 456.9\" id=\"47,1\" style=\"\"></path><path d=\"M 198.7 431.9 L 198.7 440.3 L 278.4 440.3\" id=\"26,2\" style=\"\"></path><path d=\"M 198.7 431.9 L 198.7 423.6 L 278.4 423.6\" id=\"26,3\" style=\"\"></path><path d=\"M 238.5 398.6 L 238.5 406.9 L 278.4 406.9\" id=\"27,4\" style=\"\"></path><path d=\"M 238.5 398.6 L 238.5 390.3 L 278.4 390.3\" id=\"27,5\" style=\"\"></path><path d=\"M 198.7 386.1 L 198.7 373.6 L 278.4 373.6\" id=\"28,6\" style=\"\"></path><path d=\"M 158.8 371.5 L 158.8 356.9 L 278.4 356.9\" id=\"29,7\" style=\"\"></path><path d=\"M 164.5 301.7 L 164.5 340.3 L 278.4 340.3\" id=\"35,8\" style=\"\"></path><path d=\"M 249.9 306.9 L 249.9 323.6 L 278.4 323.6\" id=\"31,9\" style=\"\"></path><path d=\"M 249.9 306.9 L 249.9 306.9 L 278.4 306.9\" id=\"31,10\" style=\"\"></path><path d=\"M 249.9 306.9 L 249.9 290.3 L 278.4 290.3\" id=\"31,11\" style=\"\"></path><path d=\"M 249.9 265.3 L 249.9 273.6 L 278.4 273.6\" id=\"32,12\" style=\"\"></path><path d=\"M 249.9 265.3 L 249.9 256.9 L 278.4 256.9\" id=\"32,13\" style=\"\"></path><path d=\"M 193.0 263.2 L 193.0 240.3 L 278.4 240.3\" id=\"34,14\" style=\"\"></path><path d=\"M 136.0 244.1 L 136.0 223.6 L 278.4 223.6\" id=\"36,15\" style=\"\"></path><path d=\"M 136.0 244.1 L 136.0 207.0 L 278.4 207.0\" id=\"36,16\" style=\"\"></path><path d=\"M 249.9 182.0 L 249.9 190.3 L 278.4 190.3\" id=\"37,17\" style=\"\"></path><path d=\"M 249.9 182.0 L 249.9 173.6 L 278.4 173.6\" id=\"37,18\" style=\"\"></path><path d=\"M 221.4 169.5 L 221.4 157.0 L 278.4 157.0\" id=\"38,19\" style=\"\"></path><path d=\"M 193.0 154.9 L 193.0 140.3 L 278.4 140.3\" id=\"39,20\" style=\"\"></path><path d=\"M 164.5 139.3 L 164.5 123.6 L 278.4 123.6\" id=\"40,21\" style=\"\"></path><path d=\"M 230.9 98.6 L 230.9 107.0 L 278.4 107.0\" id=\"41,22\" style=\"\"></path><path d=\"M 230.9 98.6 L 230.9 90.3 L 278.4 90.3\" id=\"41,23\" style=\"\"></path><path d=\"M 230.9 65.3 L 230.9 73.6 L 278.4 73.6\" id=\"42,24\" style=\"\"></path><path d=\"M 230.9 65.3 L 230.9 57.0 L 278.4 57.0\" id=\"42,25\" style=\"\"></path><path d=\"M 118.9 401.7 L 118.9 431.9 L 198.7 431.9\" id=\"30,26\" style=\"\"></path><path d=\"M 198.7 386.1 L 198.7 398.6 L 238.5 398.6\" id=\"28,27\" style=\"\"></path><path d=\"M 158.8 371.5 L 158.8 386.1 L 198.7 386.1\" id=\"29,28\" style=\"\"></path><path d=\"M 118.9 401.7 L 118.9 371.5 L 158.8 371.5\" id=\"30,29\" style=\"\"></path><path d=\"M 79.1 289.5 L 79.1 401.7 L 118.9 401.7\" id=\"46,30\" style=\"\"></path><path d=\"M 221.4 286.1 L 221.4 306.9 L 249.9 306.9\" id=\"33,31\" style=\"\"></path><path d=\"M 221.4 286.1 L 221.4 265.3 L 249.9 265.3\" id=\"33,32\" style=\"\"></path><path d=\"M 193.0 263.2 L 193.0 286.1 L 221.4 286.1\" id=\"34,33\" style=\"\"></path><path d=\"M 164.5 301.7 L 164.5 263.2 L 193.0 263.2\" id=\"35,34\" style=\"\"></path><path d=\"M 136.0 244.1 L 136.0 301.7 L 164.5 301.7\" id=\"36,35\" style=\"\"></path><path d=\"M 107.6 177.4 L 107.6 244.1 L 136.0 244.1\" id=\"45,36\" style=\"\"></path><path d=\"M 221.4 169.5 L 221.4 182.0 L 249.9 182.0\" id=\"38,37\" style=\"\"></path><path d=\"M 193.0 154.9 L 193.0 169.5 L 221.4 169.5\" id=\"39,38\" style=\"\"></path><path d=\"M 164.5 139.3 L 164.5 154.9 L 193.0 154.9\" id=\"40,39\" style=\"\"></path><path d=\"M 136.0 110.6 L 136.0 139.3 L 164.5 139.3\" id=\"44,40\" style=\"\"></path><path d=\"M 183.5 82.0 L 183.5 98.6 L 230.9 98.6\" id=\"43,41\" style=\"\"></path><path d=\"M 183.5 82.0 L 183.5 65.3 L 230.9 65.3\" id=\"43,42\" style=\"\"></path><path d=\"M 136.0 110.6 L 136.0 82.0 L 183.5 82.0\" id=\"44,43\" style=\"\"></path><path d=\"M 107.6 177.4 L 107.6 110.6 L 136.0 110.6\" id=\"45,44\" style=\"\"></path><path d=\"M 79.1 289.5 L 79.1 177.4 L 107.6 177.4\" id=\"46,45\" style=\"\"></path><path d=\"M 50.6 406.7 L 50.6 289.5 L 79.1 289.5\" id=\"47,46\" style=\"\"></path></g><g class=\"toytree-AdmixEdges\" style=\"fill:rgb(0.0%,0.0%,0.0%);fill-opacity:0.0;stroke:rgb(90.6%,54.1%,76.5%);stroke-opacity:0.6;font-size:14px;stroke-linecap:round;stroke-width:5\"></g><g class=\"toytree-Nodes\" style=\"fill:rgb(40.0%,76.1%,64.7%);fill-opacity:1.0;stroke:rgb(14.9%,14.9%,14.9%);stroke-opacity:1.0;stroke-width:1.5\"></g><g class=\"toytree-TipLabels\" style=\"fill:rgb(14.5%,14.5%,14.5%);fill-opacity:1.0;font-family:Helvetica;font-size:12px;font-weight:300;vertical-align:baseline;white-space:pre;stroke:none\"><g class=\"toytree-TipLabel\" transform=\"translate(278.398,473.593)\"><text x=\"15.0\" y=\"3.066\" style=\"fill:rgb(14.5%,14.5%,14.5%);fill-opacity:1.0\">Priapella</text></g><g class=\"toytree-TipLabel\" transform=\"translate(278.398,456.928)\"><text x=\"15.0\" y=\"3.066\" style=\"fill:rgb(14.5%,14.5%,14.5%);fill-opacity:1.0\">Psjonesii</text></g><g class=\"toytree-TipLabel\" transform=\"translate(278.398,440.263)\"><text x=\"15.0\" y=\"3.066\" style=\"fill:rgb(14.5%,14.5%,14.5%);fill-opacity:1.0\">Xclemenciae_G</text></g><g class=\"toytree-TipLabel\" transform=\"translate(278.398,423.598)\"><text x=\"15.0\" y=\"3.066\" style=\"fill:rgb(14.5%,14.5%,14.5%);fill-opacity:1.0\">Xsignum</text></g><g class=\"toytree-TipLabel\" transform=\"translate(278.398,406.933)\"><text x=\"15.0\" y=\"3.066\" style=\"fill:rgb(14.5%,14.5%,14.5%);fill-opacity:1.0\">Xalvarezi</text></g><g class=\"toytree-TipLabel\" transform=\"translate(278.398,390.268)\"><text x=\"15.0\" y=\"3.066\" style=\"fill:rgb(14.5%,14.5%,14.5%);fill-opacity:1.0\">Xmayae</text></g><g class=\"toytree-TipLabel\" transform=\"translate(278.398,373.603)\"><text x=\"15.0\" y=\"3.066\" style=\"fill:rgb(14.5%,14.5%,14.5%);fill-opacity:1.0\">Xmonticolus</text></g><g class=\"toytree-TipLabel\" transform=\"translate(278.398,356.938)\"><text x=\"15.0\" y=\"3.066\" style=\"fill:rgb(14.5%,14.5%,14.5%);fill-opacity:1.0\">Xhellerii</text></g><g class=\"toytree-TipLabel\" transform=\"translate(278.398,340.273)\"><text x=\"15.0\" y=\"3.066\" style=\"fill:rgb(14.5%,14.5%,14.5%);fill-opacity:1.0\">Xandersi</text></g><g class=\"toytree-TipLabel\" transform=\"translate(278.398,323.608)\"><text x=\"15.0\" y=\"3.066\" style=\"fill:rgb(14.5%,14.5%,14.5%);fill-opacity:1.0\">Xcouchianus</text></g><g class=\"toytree-TipLabel\" transform=\"translate(278.398,306.943)\"><text x=\"15.0\" y=\"3.066\" style=\"fill:rgb(14.5%,14.5%,14.5%);fill-opacity:1.0\">Xgordoni</text></g><g class=\"toytree-TipLabel\" transform=\"translate(278.398,290.278)\"><text x=\"15.0\" y=\"3.066\" style=\"fill:rgb(14.5%,14.5%,14.5%);fill-opacity:1.0\">Xmeyeri</text></g><g class=\"toytree-TipLabel\" transform=\"translate(278.398,273.613)\"><text x=\"15.0\" y=\"3.066\" style=\"fill:rgb(14.5%,14.5%,14.5%);fill-opacity:1.0\">Xvariatus</text></g><g class=\"toytree-TipLabel\" transform=\"translate(278.398,256.947)\"><text x=\"15.0\" y=\"3.066\" style=\"fill:rgb(14.5%,14.5%,14.5%);fill-opacity:1.0\">Xxiphidium</text></g><g class=\"toytree-TipLabel\" transform=\"translate(278.398,240.282)\"><text x=\"15.0\" y=\"3.066\" style=\"fill:rgb(14.5%,14.5%,14.5%);fill-opacity:1.0\">Xevelynae</text></g><g class=\"toytree-TipLabel\" transform=\"translate(278.398,223.617)\"><text x=\"15.0\" y=\"3.066\" style=\"fill:rgb(14.5%,14.5%,14.5%);fill-opacity:1.0\">Xmilleri</text></g><g class=\"toytree-TipLabel\" transform=\"translate(278.398,206.952)\"><text x=\"15.0\" y=\"3.066\" style=\"fill:rgb(14.5%,14.5%,14.5%);fill-opacity:1.0\">Xmaculatus_JpWild</text></g><g class=\"toytree-TipLabel\" transform=\"translate(278.398,190.287)\"><text x=\"15.0\" y=\"3.066\" style=\"fill:rgb(14.5%,14.5%,14.5%);fill-opacity:1.0\">Xcortezi</text></g><g class=\"toytree-TipLabel\" transform=\"translate(278.398,173.622)\"><text x=\"15.0\" y=\"3.066\" style=\"fill:rgb(14.5%,14.5%,14.5%);fill-opacity:1.0\">Xnezahuacoyotl</text></g><g class=\"toytree-TipLabel\" transform=\"translate(278.398,156.957)\"><text x=\"15.0\" y=\"3.066\" style=\"fill:rgb(14.5%,14.5%,14.5%);fill-opacity:1.0\">Xmalinche_CHIC2</text></g><g class=\"toytree-TipLabel\" transform=\"translate(278.398,140.292)\"><text x=\"15.0\" y=\"3.066\" style=\"fill:rgb(14.5%,14.5%,14.5%);fill-opacity:1.0\">Xbirchmanni_GARC</text></g><g class=\"toytree-TipLabel\" transform=\"translate(278.398,123.627)\"><text x=\"15.0\" y=\"3.066\" style=\"fill:rgb(14.5%,14.5%,14.5%);fill-opacity:1.0\">Xmontezumae</text></g><g class=\"toytree-TipLabel\" transform=\"translate(278.398,106.962)\"><text x=\"15.0\" y=\"3.066\" style=\"fill:rgb(14.5%,14.5%,14.5%);fill-opacity:1.0\">Xcontinens</text></g><g class=\"toytree-TipLabel\" transform=\"translate(278.398,90.2971)\"><text x=\"15.0\" y=\"3.066\" style=\"fill:rgb(14.5%,14.5%,14.5%);fill-opacity:1.0\">Xpygmaeus</text></g><g class=\"toytree-TipLabel\" transform=\"translate(278.398,73.632)\"><text x=\"15.0\" y=\"3.066\" style=\"fill:rgb(14.5%,14.5%,14.5%);fill-opacity:1.0\">Xmultilineatus</text></g><g class=\"toytree-TipLabel\" transform=\"translate(278.398,56.967)\"><text x=\"15.0\" y=\"3.066\" style=\"fill:rgb(14.5%,14.5%,14.5%);fill-opacity:1.0\">Xnigrensis</text></g></g></g></g></g></svg><div class=\"toyplot-behavior\"><script>(function()\n",
       "{\n",
       "var modules={};\n",
       "})();</script></div></div>"
      ]
     },
     "metadata": {},
     "output_type": "display_data"
    }
   ],
   "source": [
    "fish[6].draw();"
   ]
  },
  {
   "cell_type": "code",
   "execution_count": 17,
   "id": "d8165f2e-cb39-478a-ba74-e2ad5f5eea9b",
   "metadata": {},
   "outputs": [
    {
     "data": {
      "text/html": [
       "<div class=\"toyplot\" id=\"t2f30ac6a79a2477ebd3fec72a2c4c876\" style=\"text-align:center\"><svg class=\"toyplot-canvas-Canvas\" xmlns:toyplot=\"http://www.sandia.gov/toyplot\" xmlns:xlink=\"http://www.w3.org/1999/xlink\" xmlns=\"http://www.w3.org/2000/svg\" width=\"477.048px\" height=\"530.5599999999997px\" viewBox=\"0 0 477.048 530.5599999999997\" preserveAspectRatio=\"xMidYMid meet\" style=\"background-color:transparent;border-color:#292724;border-style:none;border-width:1.0;fill:rgb(16.1%,15.3%,14.1%);fill-opacity:1.0;font-family:Helvetica;font-size:12px;opacity:1.0;stroke:rgb(16.1%,15.3%,14.1%);stroke-opacity:1.0;stroke-width:1.0\" id=\"t8916e12972734114ad1488c592746482\"><g class=\"toyplot-coordinates-Cartesian\" id=\"t009dc5563059442592b574f29a10ad81\"><clipPath id=\"t59c8fc2300f24214bd0fa290a9f57d0b\"><rect x=\"35.0\" y=\"35.0\" width=\"407.048\" height=\"460.5599999999997\"></rect></clipPath><g clip-path=\"url(#t59c8fc2300f24214bd0fa290a9f57d0b)\"><g class=\"toytree-mark-Toytree\" id=\"tc7faa3e7b6524e63aab2c5cadd6bac58\"><g class=\"toytree-Edges\" style=\"stroke:rgb(14.5%,14.5%,14.5%);stroke-opacity:1.0;stroke-linecap:round;stroke-width:2.0;fill:none\"><path d=\"M 221.1 465.3 L 221.1 473.6 L 266.6 473.6\" id=\"26,0\" style=\"\"></path><path d=\"M 221.1 465.3 L 221.1 456.9 L 264.5 456.9\" id=\"26,1\" style=\"\"></path><path d=\"M 215.9 431.9 L 215.9 440.3 L 256.1 440.3\" id=\"27,2\" style=\"\"></path><path d=\"M 215.9 431.9 L 215.9 423.6 L 253.7 423.6\" id=\"27,3\" style=\"\"></path><path d=\"M 151.2 427.8 L 151.2 406.9 L 226.5 406.9\" id=\"29,4\" style=\"\"></path><path d=\"M 183.8 381.9 L 183.8 390.3 L 217.7 390.3\" id=\"30,5\" style=\"\"></path><path d=\"M 183.8 381.9 L 183.8 373.6 L 217.7 373.6\" id=\"30,6\" style=\"\"></path><path d=\"M 184.1 348.6 L 184.1 356.9 L 217.6 356.9\" id=\"31,7\" style=\"\"></path><path d=\"M 184.1 348.6 L 184.1 340.3 L 218.4 340.3\" id=\"31,8\" style=\"\"></path><path d=\"M 246.0 315.3 L 246.0 323.6 L 295.2 323.6\" id=\"34,9\" style=\"\"></path><path d=\"M 246.0 315.3 L 246.0 306.9 L 296.5 306.9\" id=\"34,10\" style=\"\"></path><path d=\"M 208.7 302.8 L 208.7 290.3 L 277.0 290.3\" id=\"35,11\" style=\"\"></path><path d=\"M 171.6 288.2 L 171.6 273.6 L 248.5 273.6\" id=\"36,12\" style=\"\"></path><path d=\"M 199.0 248.6 L 199.0 256.9 L 273.6 256.9\" id=\"37,13\" style=\"\"></path><path d=\"M 199.0 248.6 L 199.0 240.3 L 273.9 240.3\" id=\"37,14\" style=\"\"></path><path d=\"M 266.8 215.3 L 266.8 223.6 L 294.6 223.6\" id=\"40,15\" style=\"\"></path><path d=\"M 266.8 215.3 L 266.8 207.0 L 294.4 207.0\" id=\"40,16\" style=\"\"></path><path d=\"M 241.4 202.8 L 241.4 190.3 L 272.2 190.3\" id=\"41,17\" style=\"\"></path><path d=\"M 215.0 188.2 L 215.0 173.6 L 266.5 173.6\" id=\"42,18\" style=\"\"></path><path d=\"M 190.0 172.6 L 190.0 157.0 L 254.8 157.0\" id=\"43,19\" style=\"\"></path><path d=\"M 165.8 156.4 L 165.8 140.3 L 246.5 140.3\" id=\"44,20\" style=\"\"></path><path d=\"M 142.0 140.0 L 142.0 123.6 L 211.1 123.6\" id=\"45,21\" style=\"\"></path><path d=\"M 118.8 123.5 L 118.8 107.0 L 212.3 107.0\" id=\"46,22\" style=\"\"></path><path d=\"M 94.1 106.9 L 94.1 90.3 L 214.7 90.3\" id=\"47,23\" style=\"\"></path><path d=\"M 53.0 65.3 L 53.0 73.6 L 248.9 73.6\" id=\"49,24\" style=\"\"></path><path d=\"M 53.0 65.3 L 53.0 57.0 L 248.5 57.0\" id=\"49,25\" style=\"\"></path><path d=\"M 186.2 448.6 L 186.2 465.3 L 221.1 465.3\" id=\"28,26\" style=\"\"></path><path d=\"M 186.2 448.6 L 186.2 431.9 L 215.9 431.9\" id=\"28,27\" style=\"\"></path><path d=\"M 151.2 427.8 L 151.2 448.6 L 186.2 448.6\" id=\"29,28\" style=\"\"></path><path d=\"M 123.5 396.5 L 123.5 427.8 L 151.2 427.8\" id=\"33,29\" style=\"\"></path><path d=\"M 151.6 365.3 L 151.6 381.9 L 183.8 381.9\" id=\"32,30\" style=\"\"></path><path d=\"M 151.6 365.3 L 151.6 348.6 L 184.1 348.6\" id=\"32,31\" style=\"\"></path><path d=\"M 123.5 396.5 L 123.5 365.3 L 151.6 365.3\" id=\"33,32\" style=\"\"></path><path d=\"M 98.7 332.5 L 98.7 396.5 L 123.5 396.5\" id=\"39,33\" style=\"\"></path><path d=\"M 208.7 302.8 L 208.7 315.3 L 246.0 315.3\" id=\"35,34\" style=\"\"></path><path d=\"M 171.6 288.2 L 171.6 302.8 L 208.7 302.8\" id=\"36,35\" style=\"\"></path><path d=\"M 132.2 268.4 L 132.2 288.2 L 171.6 288.2\" id=\"38,36\" style=\"\"></path><path d=\"M 132.2 268.4 L 132.2 248.6 L 199.0 248.6\" id=\"38,37\" style=\"\"></path><path d=\"M 98.7 332.5 L 98.7 268.4 L 132.2 268.4\" id=\"39,38\" style=\"\"></path><path d=\"M 70.7 219.7 L 70.7 332.5 L 98.7 332.5\" id=\"48,39\" style=\"\"></path><path d=\"M 241.4 202.8 L 241.4 215.3 L 266.8 215.3\" id=\"41,40\" style=\"\"></path><path d=\"M 215.0 188.2 L 215.0 202.8 L 241.4 202.8\" id=\"42,41\" style=\"\"></path><path d=\"M 190.0 172.6 L 190.0 188.2 L 215.0 188.2\" id=\"43,42\" style=\"\"></path><path d=\"M 165.8 156.4 L 165.8 172.6 L 190.0 172.6\" id=\"44,43\" style=\"\"></path><path d=\"M 142.0 140.0 L 142.0 156.4 L 165.8 156.4\" id=\"45,44\" style=\"\"></path><path d=\"M 118.8 123.5 L 118.8 140.0 L 142.0 140.0\" id=\"46,45\" style=\"\"></path><path d=\"M 94.1 106.9 L 94.1 123.5 L 118.8 123.5\" id=\"47,46\" style=\"\"></path><path d=\"M 70.7 219.7 L 70.7 106.9 L 94.1 106.9\" id=\"48,47\" style=\"\"></path><path d=\"M 50.7 142.5 L 50.7 219.7 L 70.7 219.7\" id=\"50,48\" style=\"\"></path><path d=\"M 50.7 142.5 L 50.7 65.3 L 53.0 65.3\" id=\"50,49\" style=\"\"></path></g><g class=\"toytree-AdmixEdges\" style=\"fill:rgb(0.0%,0.0%,0.0%);fill-opacity:0.0;stroke:rgb(90.6%,54.1%,76.5%);stroke-opacity:0.6;font-size:14px;stroke-linecap:round;stroke-width:5\"></g><g class=\"toytree-Nodes\" style=\"fill:rgb(40.0%,76.1%,64.7%);fill-opacity:1.0;stroke:rgb(14.9%,14.9%,14.9%);stroke-opacity:1.0;stroke-width:1.5\"></g><g class=\"toytree-TipLabels\" style=\"fill:rgb(14.5%,14.5%,14.5%);fill-opacity:1.0;font-family:Helvetica;font-size:12px;font-weight:300;vertical-align:baseline;white-space:pre;stroke:none\"><g class=\"toytree-TipLabel\" transform=\"translate(266.59,473.593)\"><text x=\"15.0\" y=\"3.066\" style=\"fill:rgb(14.5%,14.5%,14.5%);fill-opacity:1.0\">Xbirchmanni_GARC</text></g><g class=\"toytree-TipLabel\" transform=\"translate(264.458,456.928)\"><text x=\"15.0\" y=\"3.066\" style=\"fill:rgb(14.5%,14.5%,14.5%);fill-opacity:1.0\">Xmalinche_CHIC2</text></g><g class=\"toytree-TipLabel\" transform=\"translate(256.067,440.263)\"><text x=\"15.0\" y=\"3.066\" style=\"fill:rgb(14.5%,14.5%,14.5%);fill-opacity:1.0\">Xcortezi</text></g><g class=\"toytree-TipLabel\" transform=\"translate(253.697,423.598)\"><text x=\"15.0\" y=\"3.066\" style=\"fill:rgb(14.5%,14.5%,14.5%);fill-opacity:1.0\">Xnezahuacoyotl</text></g><g class=\"toytree-TipLabel\" transform=\"translate(226.505,406.933)\"><text x=\"15.0\" y=\"3.066\" style=\"fill:rgb(14.5%,14.5%,14.5%);fill-opacity:1.0\">Xmontezumae</text></g><g class=\"toytree-TipLabel\" transform=\"translate(217.678,390.268)\"><text x=\"15.0\" y=\"3.066\" style=\"fill:rgb(14.5%,14.5%,14.5%);fill-opacity:1.0\">Xmultilineatus</text></g><g class=\"toytree-TipLabel\" transform=\"translate(217.746,373.603)\"><text x=\"15.0\" y=\"3.066\" style=\"fill:rgb(14.5%,14.5%,14.5%);fill-opacity:1.0\">Xnigrensis</text></g><g class=\"toytree-TipLabel\" transform=\"translate(217.626,356.938)\"><text x=\"15.0\" y=\"3.066\" style=\"fill:rgb(14.5%,14.5%,14.5%);fill-opacity:1.0\">Xcontinens</text></g><g class=\"toytree-TipLabel\" transform=\"translate(218.372,340.273)\"><text x=\"15.0\" y=\"3.066\" style=\"fill:rgb(14.5%,14.5%,14.5%);fill-opacity:1.0\">Xpygmaeus</text></g><g class=\"toytree-TipLabel\" transform=\"translate(295.188,323.608)\"><text x=\"15.0\" y=\"3.066\" style=\"fill:rgb(14.5%,14.5%,14.5%);fill-opacity:1.0\">Xalvarezi</text></g><g class=\"toytree-TipLabel\" transform=\"translate(296.541,306.943)\"><text x=\"15.0\" y=\"3.066\" style=\"fill:rgb(14.5%,14.5%,14.5%);fill-opacity:1.0\">Xmayae</text></g><g class=\"toytree-TipLabel\" transform=\"translate(277.037,290.278)\"><text x=\"15.0\" y=\"3.066\" style=\"fill:rgb(14.5%,14.5%,14.5%);fill-opacity:1.0\">Xhellerii</text></g><g class=\"toytree-TipLabel\" transform=\"translate(248.531,273.613)\"><text x=\"15.0\" y=\"3.066\" style=\"fill:rgb(14.5%,14.5%,14.5%);fill-opacity:1.0\">Xsignum</text></g><g class=\"toytree-TipLabel\" transform=\"translate(273.551,256.947)\"><text x=\"15.0\" y=\"3.066\" style=\"fill:rgb(14.5%,14.5%,14.5%);fill-opacity:1.0\">Xclemenciae_G</text></g><g class=\"toytree-TipLabel\" transform=\"translate(273.895,240.282)\"><text x=\"15.0\" y=\"3.066\" style=\"fill:rgb(14.5%,14.5%,14.5%);fill-opacity:1.0\">Xmonticolus</text></g><g class=\"toytree-TipLabel\" transform=\"translate(294.581,223.617)\"><text x=\"15.0\" y=\"3.066\" style=\"fill:rgb(14.5%,14.5%,14.5%);fill-opacity:1.0\">Xgordoni</text></g><g class=\"toytree-TipLabel\" transform=\"translate(294.387,206.952)\"><text x=\"15.0\" y=\"3.066\" style=\"fill:rgb(14.5%,14.5%,14.5%);fill-opacity:1.0\">Xmeyeri</text></g><g class=\"toytree-TipLabel\" transform=\"translate(272.233,190.287)\"><text x=\"15.0\" y=\"3.066\" style=\"fill:rgb(14.5%,14.5%,14.5%);fill-opacity:1.0\">Xcouchianus</text></g><g class=\"toytree-TipLabel\" transform=\"translate(266.487,173.622)\"><text x=\"15.0\" y=\"3.066\" style=\"fill:rgb(14.5%,14.5%,14.5%);fill-opacity:1.0\">Xvariatus</text></g><g class=\"toytree-TipLabel\" transform=\"translate(254.811,156.957)\"><text x=\"15.0\" y=\"3.066\" style=\"fill:rgb(14.5%,14.5%,14.5%);fill-opacity:1.0\">Xevelynae</text></g><g class=\"toytree-TipLabel\" transform=\"translate(246.513,140.292)\"><text x=\"15.0\" y=\"3.066\" style=\"fill:rgb(14.5%,14.5%,14.5%);fill-opacity:1.0\">Xmilleri</text></g><g class=\"toytree-TipLabel\" transform=\"translate(211.069,123.627)\"><text x=\"15.0\" y=\"3.066\" style=\"fill:rgb(14.5%,14.5%,14.5%);fill-opacity:1.0\">Xxiphidium</text></g><g class=\"toytree-TipLabel\" transform=\"translate(212.26,106.962)\"><text x=\"15.0\" y=\"3.066\" style=\"fill:rgb(14.5%,14.5%,14.5%);fill-opacity:1.0\">Xandersi</text></g><g class=\"toytree-TipLabel\" transform=\"translate(214.679,90.2971)\"><text x=\"15.0\" y=\"3.066\" style=\"fill:rgb(14.5%,14.5%,14.5%);fill-opacity:1.0\">Xmaculatus_JpWild</text></g><g class=\"toytree-TipLabel\" transform=\"translate(248.93,73.632)\"><text x=\"15.0\" y=\"3.066\" style=\"fill:rgb(14.5%,14.5%,14.5%);fill-opacity:1.0\">Priapella</text></g><g class=\"toytree-TipLabel\" transform=\"translate(248.532,56.967)\"><text x=\"15.0\" y=\"3.066\" style=\"fill:rgb(14.5%,14.5%,14.5%);fill-opacity:1.0\">Psjonesii</text></g></g></g></g></g></svg><div class=\"toyplot-behavior\"><script>(function()\n",
       "{\n",
       "var modules={};\n",
       "})();</script></div></div>"
      ]
     },
     "metadata": {},
     "output_type": "display_data"
    }
   ],
   "source": [
    "ctree.mod.root_on_minimal_ancestor_deviation(48).draw();"
   ]
  },
  {
   "cell_type": "markdown",
   "id": "9d58fc91-0135-4198-ab84-b84c7461d0a7",
   "metadata": {},
   "source": [
    "### Rooting of consensus trees\n",
    "A set of input trees may be rooted or unrooted. For example, a set of bootstrap trees from a Maximum Likelihood analysis will typically contain many unrooted trees, whereas a posterior distribution of trees from a Bayesian tree inference analysis will usually contain many rooted trees. The distinction of whether the trees are rooted or not can have implications on the ... By default, `toytree` will attempt to auto-detect whether the trees are rooted or not, but this behavior can be overridden by using the argument ..."
   ]
  },
  {
   "cell_type": "code",
   "execution_count": null,
   "id": "054e5b36-5c09-4820-b6f6-dde607b77765",
   "metadata": {},
   "outputs": [],
   "source": []
  },
  {
   "cell_type": "markdown",
   "id": "bce59bea-fb39-4329-842c-1c7e00c95b1a",
   "metadata": {},
   "source": [
    "### Consensus features"
   ]
  },
  {
   "cell_type": "markdown",
   "id": "1be824b5-ac7b-4b47-85a5-a05914c238d8",
   "metadata": {},
   "source": [
    "#### dist values\n",
    "`dist` values (edge lengths) ..."
   ]
  },
  {
   "cell_type": "markdown",
   "id": "802b8eca-214f-46f2-bacb-7215433dfb62",
   "metadata": {},
   "source": [
    "#### height values\n",
    "..."
   ]
  },
  {
   "cell_type": "markdown",
   "id": "c465dd24-c0c9-4be0-a39f-03ba42059ec1",
   "metadata": {},
   "source": [
    "#### support values\n",
    "..."
   ]
  },
  {
   "cell_type": "markdown",
   "id": "bf3a1fa2-f860-499a-9a47-fb7076ac36d6",
   "metadata": {},
   "source": [
    "#### other features/data\n",
    "..."
   ]
  },
  {
   "cell_type": "code",
   "execution_count": null,
   "id": "c7ed8300-2962-4ace-9b56-7a15a7174939",
   "metadata": {},
   "outputs": [],
   "source": []
  },
  {
   "cell_type": "code",
   "execution_count": null,
   "id": "815ef1f2-df73-43d9-8a67-4e48805aea68",
   "metadata": {},
   "outputs": [],
   "source": []
  },
  {
   "cell_type": "code",
   "execution_count": null,
   "id": "28f74069-c66d-4551-a5c8-8646f4312cfe",
   "metadata": {},
   "outputs": [],
   "source": []
  }
 ],
 "metadata": {
  "kernelspec": {
   "display_name": "Python 3 (ipykernel)",
   "language": "python",
   "name": "python3"
  },
  "language_info": {
   "codemirror_mode": {
    "name": "ipython",
    "version": 3
   },
   "file_extension": ".py",
   "mimetype": "text/x-python",
   "name": "python",
   "nbconvert_exporter": "python",
   "pygments_lexer": "ipython3",
   "version": "3.10.12"
  }
 },
 "nbformat": 4,
 "nbformat_minor": 5
}
