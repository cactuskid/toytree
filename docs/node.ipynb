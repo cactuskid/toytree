{
 "cells": [
  {
   "attachments": {},
   "cell_type": "markdown",
   "id": "e9911e82-b32d-46c2-8b6b-7709ccbbfbcc",
   "metadata": {},
   "source": [
    "# toytree.Node\n",
    "\n",
    "The `toytree.Node` class is primarily used for data storage. Minimally, it contains attributes storing a `.name`, `.dist` (edge length), and `.support` values, as well as attributes `.up` and `.children` which point to other `Node` objects to represent connections between them.\n",
    "\n",
    "A single `Node` instance is generally of little use, it is only when nodes form connections that they have emergent properties in the form  a network/tree structure. Thus, most methods in the `toytree` library are associated with `ToyTree` objects which are a container around a collection of `Nodes`. However, `Node` objects themselves are important to understand as the underlying object storing data within trees. This section describes the structure of `Node` objects and the design behind their intended use."
   ]
  },
  {
   "cell_type": "code",
   "execution_count": 1,
   "id": "6ae3b0ff-6c8e-4c0c-a947-90d68541d40c",
   "metadata": {},
   "outputs": [],
   "source": [
    "import toytree"
   ]
  },
  {
   "cell_type": "code",
   "execution_count": 2,
   "id": "dec1a387-3a1f-46f4-9646-d72d850032c2",
   "metadata": {},
   "outputs": [
    {
     "data": {
      "text/html": [
       "<div class=\"toyplot\" id=\"ta384bb54365f41d097b7d017ce1566f0\" style=\"text-align:center\"><svg class=\"toyplot-canvas-Canvas\" xmlns:toyplot=\"http://www.sandia.gov/toyplot\" xmlns:xlink=\"http://www.w3.org/1999/xlink\" xmlns=\"http://www.w3.org/2000/svg\" width=\"300.0px\" height=\"300.0px\" viewBox=\"0 0 300.0 300.0\" preserveAspectRatio=\"xMidYMid meet\" style=\"background-color:transparent;border-color:#292724;border-style:none;border-width:1.0;fill:rgb(16.1%,15.3%,14.1%);fill-opacity:1.0;font-family:Helvetica;font-size:12px;opacity:1.0;stroke:rgb(16.1%,15.3%,14.1%);stroke-opacity:1.0;stroke-width:1.0\" id=\"t5aee651583cb4333bc786385d0adbf53\"><g class=\"toyplot-coordinates-Cartesian\" id=\"t83388413ca6b460fbbe3698d1e0a3773\"><clipPath id=\"t8589adeff1a6490a8c3784a6048f58ec\"><rect x=\"35.0\" y=\"35.0\" width=\"230.0\" height=\"230.0\"></rect></clipPath><g clip-path=\"url(#t8589adeff1a6490a8c3784a6048f58ec)\"><g class=\"toytree-mark-Toytree\" id=\"t2ac4138d97cb421881ef1eecbfbc3a84\"><g class=\"toytree-Edges\" style=\"stroke:rgb(14.5%,14.5%,14.5%);stroke-opacity:1.0;stroke-linecap:round;stroke-width:2;fill:none\"><path d=\"M 70.0 133.9 L 56.7 173.8\" id=\"8,0\" style=\"\"></path><path d=\"M 70.0 133.9 L 83.4 173.8\" id=\"8,1\" style=\"\"></path><path d=\"M 90.0 93.9 L 110.0 133.9\" id=\"9,2\" style=\"\"></path><path d=\"M 150.0 133.9 L 136.7 173.8\" id=\"10,3\" style=\"\"></path><path d=\"M 150.0 133.9 L 163.3 173.8\" id=\"10,4\" style=\"\"></path><path d=\"M 203.3 173.8 L 190.0 213.8\" id=\"11,5\" style=\"\"></path><path d=\"M 203.3 173.8 L 216.6 213.8\" id=\"11,6\" style=\"\"></path><path d=\"M 223.3 133.9 L 243.3 173.8\" id=\"12,7\" style=\"\"></path><path d=\"M 90.0 93.9 L 70.0 133.9\" id=\"9,8\" style=\"\"></path><path d=\"M 138.3 54.0 L 90.0 93.9\" id=\"14,9\" style=\"\"></path><path d=\"M 186.6 93.9 L 150.0 133.9\" id=\"13,10\" style=\"\"></path><path d=\"M 223.3 133.9 L 203.3 173.8\" id=\"12,11\" style=\"\"></path><path d=\"M 186.6 93.9 L 223.3 133.9\" id=\"13,12\" style=\"\"></path><path d=\"M 138.3 54.0 L 186.6 93.9\" id=\"14,13\" style=\"\"></path></g><g class=\"toytree-AdmixEdges\" style=\"fill:rgb(0.0%,0.0%,0.0%);fill-opacity:0.0;stroke:rgb(90.6%,54.1%,76.5%);stroke-opacity:0.6;font-size:14px;stroke-linecap:round;stroke-width:5\"></g><g class=\"toytree-Nodes\" style=\"fill:rgb(40.0%,76.1%,64.7%);fill-opacity:1.0;stroke:rgb(14.5%,14.5%,14.5%);stroke-opacity:1.0;stroke-width:1.5\"><g id=\"Node-0\" transform=\"translate(56.7164,173.834)\"><circle r=\"3.5\"></circle></g><g id=\"Node-1\" transform=\"translate(83.3689,173.834)\"><circle r=\"3.5\"></circle></g><g id=\"Node-2\" transform=\"translate(110.021,133.887)\"><circle r=\"3.5\"></circle></g><g id=\"Node-3\" transform=\"translate(136.674,173.834)\"><circle r=\"3.5\"></circle></g><g id=\"Node-4\" transform=\"translate(163.326,173.834)\"><circle r=\"3.5\"></circle></g><g id=\"Node-5\" transform=\"translate(189.979,213.78)\"><circle r=\"3.5\"></circle></g><g id=\"Node-6\" transform=\"translate(216.631,213.78)\"><circle r=\"3.5\"></circle></g><g id=\"Node-7\" transform=\"translate(243.284,173.834)\"><circle r=\"3.5\"></circle></g><g id=\"Node-8\" transform=\"translate(70.0426,133.887)\"><circle r=\"3.5\"></circle></g><g id=\"Node-9\" transform=\"translate(90.032,93.9409)\"><circle r=\"3.5\"></circle></g><g id=\"Node-10\" transform=\"translate(150,133.887)\"><circle r=\"3.5\"></circle></g><g id=\"Node-11\" transform=\"translate(203.305,173.834)\"><circle r=\"3.5\"></circle></g><g id=\"Node-12\" transform=\"translate(223.294,133.887)\"><circle r=\"3.5\"></circle></g><g id=\"Node-13\" transform=\"translate(186.647,93.9409)\"><circle r=\"3.5\"></circle></g><g id=\"Node-14\" transform=\"translate(138.34,53.9946)\"><circle r=\"3.5\"></circle></g></g><g class=\"toytree-TipLabels\" style=\"fill:rgb(14.5%,14.5%,14.5%);fill-opacity:1.0;font-family:Helvetica;font-size:12px;font-weight:300;vertical-align:baseline;white-space:pre;stroke:none\"><g class=\"toytree-TipLabel\" transform=\"translate(56.7164,173.834)rotate(90)\"><text x=\"12.0\" y=\"3.066\" style=\"fill:rgb(14.5%,14.5%,14.5%);fill-opacity:1.0\">r0</text></g><g class=\"toytree-TipLabel\" transform=\"translate(83.3689,173.834)rotate(90)\"><text x=\"12.0\" y=\"3.066\" style=\"fill:rgb(14.5%,14.5%,14.5%);fill-opacity:1.0\">r1</text></g><g class=\"toytree-TipLabel\" transform=\"translate(110.021,133.887)rotate(90)\"><text x=\"12.0\" y=\"3.066\" style=\"fill:rgb(14.5%,14.5%,14.5%);fill-opacity:1.0\">r2</text></g><g class=\"toytree-TipLabel\" transform=\"translate(136.674,173.834)rotate(90)\"><text x=\"12.0\" y=\"3.066\" style=\"fill:rgb(14.5%,14.5%,14.5%);fill-opacity:1.0\">r3</text></g><g class=\"toytree-TipLabel\" transform=\"translate(163.326,173.834)rotate(90)\"><text x=\"12.0\" y=\"3.066\" style=\"fill:rgb(14.5%,14.5%,14.5%);fill-opacity:1.0\">r4</text></g><g class=\"toytree-TipLabel\" transform=\"translate(189.979,213.78)rotate(90)\"><text x=\"12.0\" y=\"3.066\" style=\"fill:rgb(14.5%,14.5%,14.5%);fill-opacity:1.0\">r5</text></g><g class=\"toytree-TipLabel\" transform=\"translate(216.631,213.78)rotate(90)\"><text x=\"12.0\" y=\"3.066\" style=\"fill:rgb(14.5%,14.5%,14.5%);fill-opacity:1.0\">r6</text></g><g class=\"toytree-TipLabel\" transform=\"translate(243.284,173.834)rotate(90)\"><text x=\"12.0\" y=\"3.066\" style=\"fill:rgb(14.5%,14.5%,14.5%);fill-opacity:1.0\">r7</text></g></g></g></g><g class=\"toyplot-coordinates-Axis\" id=\"tfbc5d64b82394b848a03facdbc8b1aa0\" transform=\"translate(50.0,250.0)rotate(-90.0)translate(0,-15.0)\"><line x1=\"36.22012015850698\" y1=\"0\" x2=\"196.00536878435383\" y2=\"0\" style=\"\"></line><g><line x1=\"36.22012015850698\" y1=\"0\" x2=\"36.22012015850698\" y2=\"5\" style=\"\"></line><line x1=\"76.1664323149687\" y1=\"0\" x2=\"76.1664323149687\" y2=\"5\" style=\"\"></line><line x1=\"116.11274447143043\" y1=\"0\" x2=\"116.11274447143043\" y2=\"5\" style=\"\"></line><line x1=\"156.05905662789215\" y1=\"0\" x2=\"156.05905662789215\" y2=\"5\" style=\"\"></line><line x1=\"196.00536878435383\" y1=\"0\" x2=\"196.00536878435383\" y2=\"5\" style=\"\"></line></g><g><g transform=\"translate(36.22012015850698,-6)\"><text x=\"-2.78\" y=\"-4.440892098500626e-16\" style=\"fill:rgb(16.1%,15.3%,14.1%);fill-opacity:1.0;font-family:helvetica;font-size:10.0px;font-weight:normal;stroke:none;vertical-align:baseline;white-space:pre\">0</text></g><g transform=\"translate(76.1664323149687,-6)\"><text x=\"-2.78\" y=\"-4.440892098500626e-16\" style=\"fill:rgb(16.1%,15.3%,14.1%);fill-opacity:1.0;font-family:helvetica;font-size:10.0px;font-weight:normal;stroke:none;vertical-align:baseline;white-space:pre\">1</text></g><g transform=\"translate(116.11274447143043,-6)\"><text x=\"-2.78\" y=\"-4.440892098500626e-16\" style=\"fill:rgb(16.1%,15.3%,14.1%);fill-opacity:1.0;font-family:helvetica;font-size:10.0px;font-weight:normal;stroke:none;vertical-align:baseline;white-space:pre\">2</text></g><g transform=\"translate(156.05905662789215,-6)\"><text x=\"-2.78\" y=\"-4.440892098500626e-16\" style=\"fill:rgb(16.1%,15.3%,14.1%);fill-opacity:1.0;font-family:helvetica;font-size:10.0px;font-weight:normal;stroke:none;vertical-align:baseline;white-space:pre\">3</text></g><g transform=\"translate(196.00536878435383,-6)\"><text x=\"-2.78\" y=\"-4.440892098500626e-16\" style=\"fill:rgb(16.1%,15.3%,14.1%);fill-opacity:1.0;font-family:helvetica;font-size:10.0px;font-weight:normal;stroke:none;vertical-align:baseline;white-space:pre\">4</text></g></g><g class=\"toyplot-coordinates-Axis-coordinates\" style=\"visibility:hidden\" transform=\"\"><line x1=\"0\" x2=\"0\" y1=\"3.0\" y2=\"-4.5\" style=\"stroke:rgb(43.9%,50.2%,56.5%);stroke-opacity:1.0;stroke-width:1.0\"></line><text x=\"0\" y=\"6\" style=\"alignment-baseline:hanging;fill:rgb(43.9%,50.2%,56.5%);fill-opacity:1.0;font-size:10px;font-weight:normal;stroke:none;text-anchor:middle\"></text></g></g></g></svg><div class=\"toyplot-behavior\"><script>(function()\n",
       "{\n",
       "var modules={};\n",
       "modules[\"toyplot/canvas/id\"] = \"t5aee651583cb4333bc786385d0adbf53\";\n",
       "modules[\"toyplot/canvas\"] = (function(canvas_id)\n",
       "    {\n",
       "        return document.querySelector(\"#\" + canvas_id);\n",
       "    })(modules[\"toyplot/canvas/id\"]);\n",
       "modules[\"toyplot.coordinates.Axis\"] = (\n",
       "        function(canvas)\n",
       "        {\n",
       "            function sign(x)\n",
       "            {\n",
       "                return x < 0 ? -1 : x > 0 ? 1 : 0;\n",
       "            }\n",
       "\n",
       "            function mix(a, b, amount)\n",
       "            {\n",
       "                return ((1.0 - amount) * a) + (amount * b);\n",
       "            }\n",
       "\n",
       "            function log(x, base)\n",
       "            {\n",
       "                return Math.log(Math.abs(x)) / Math.log(base);\n",
       "            }\n",
       "\n",
       "            function in_range(a, x, b)\n",
       "            {\n",
       "                var left = Math.min(a, b);\n",
       "                var right = Math.max(a, b);\n",
       "                return left <= x && x <= right;\n",
       "            }\n",
       "\n",
       "            function inside(range, projection)\n",
       "            {\n",
       "                for(var i = 0; i != projection.length; ++i)\n",
       "                {\n",
       "                    var segment = projection[i];\n",
       "                    if(in_range(segment.range.min, range, segment.range.max))\n",
       "                        return true;\n",
       "                }\n",
       "                return false;\n",
       "            }\n",
       "\n",
       "            function to_domain(range, projection)\n",
       "            {\n",
       "                for(var i = 0; i != projection.length; ++i)\n",
       "                {\n",
       "                    var segment = projection[i];\n",
       "                    if(in_range(segment.range.bounds.min, range, segment.range.bounds.max))\n",
       "                    {\n",
       "                        if(segment.scale == \"linear\")\n",
       "                        {\n",
       "                            var amount = (range - segment.range.min) / (segment.range.max - segment.range.min);\n",
       "                            return mix(segment.domain.min, segment.domain.max, amount)\n",
       "                        }\n",
       "                        else if(segment.scale[0] == \"log\")\n",
       "                        {\n",
       "                            var amount = (range - segment.range.min) / (segment.range.max - segment.range.min);\n",
       "                            var base = segment.scale[1];\n",
       "                            return sign(segment.domain.min) * Math.pow(base, mix(log(segment.domain.min, base), log(segment.domain.max, base), amount));\n",
       "                        }\n",
       "                    }\n",
       "                }\n",
       "            }\n",
       "\n",
       "            var axes = {};\n",
       "\n",
       "            function display_coordinates(e)\n",
       "            {\n",
       "                var current = canvas.createSVGPoint();\n",
       "                current.x = e.clientX;\n",
       "                current.y = e.clientY;\n",
       "\n",
       "                for(var axis_id in axes)\n",
       "                {\n",
       "                    var axis = document.querySelector(\"#\" + axis_id);\n",
       "                    var coordinates = axis.querySelector(\".toyplot-coordinates-Axis-coordinates\");\n",
       "                    if(coordinates)\n",
       "                    {\n",
       "                        var projection = axes[axis_id];\n",
       "                        var local = current.matrixTransform(axis.getScreenCTM().inverse());\n",
       "                        if(inside(local.x, projection))\n",
       "                        {\n",
       "                            var domain = to_domain(local.x, projection);\n",
       "                            coordinates.style.visibility = \"visible\";\n",
       "                            coordinates.setAttribute(\"transform\", \"translate(\" + local.x + \")\");\n",
       "                            var text = coordinates.querySelector(\"text\");\n",
       "                            text.textContent = domain.toFixed(2);\n",
       "                        }\n",
       "                        else\n",
       "                        {\n",
       "                            coordinates.style.visibility= \"hidden\";\n",
       "                        }\n",
       "                    }\n",
       "                }\n",
       "            }\n",
       "\n",
       "            canvas.addEventListener(\"click\", display_coordinates);\n",
       "\n",
       "            var module = {};\n",
       "            module.show_coordinates = function(axis_id, projection)\n",
       "            {\n",
       "                axes[axis_id] = projection;\n",
       "            }\n",
       "\n",
       "            return module;\n",
       "        })(modules[\"toyplot/canvas\"]);\n",
       "(function(axis, axis_id, projection)\n",
       "        {\n",
       "            axis.show_coordinates(axis_id, projection);\n",
       "        })(modules[\"toyplot.coordinates.Axis\"],\"tfbc5d64b82394b848a03facdbc8b1aa0\",[{\"domain\": {\"bounds\": {\"max\": Infinity, \"min\": -Infinity}, \"max\": 4.1, \"min\": -0.9067200000000003}, \"range\": {\"bounds\": {\"max\": Infinity, \"min\": -Infinity}, \"max\": 200.0, \"min\": 0.0}, \"scale\": \"linear\"}]);\n",
       "})();</script></div></div>"
      ]
     },
     "metadata": {},
     "output_type": "display_data"
    }
   ],
   "source": [
    "# create an example tree\n",
    "tree = toytree.rtree.rtree(ntips=8, seed=321)\n",
    "tree.draw('c');"
   ]
  },
  {
   "cell_type": "markdown",
   "id": "3071addd-e6d6-4634-88a5-744c0f949cdf",
   "metadata": {},
   "source": [
    "## The Node class\n",
    "The `Node` class is accessible from `toytree.Node` and can be used to create new instances or to check or validate the type of a `Node` instance. Unless you are a developer you are not likely to create new `Node` objects often, but instead will most often interact them by selecting them from within `ToyTrees`."
   ]
  },
  {
   "cell_type": "code",
   "execution_count": 3,
   "id": "3b33656e-7d49-440f-91b0-6cddc936dc20",
   "metadata": {},
   "outputs": [
    {
     "data": {
      "text/plain": [
       "<Node(name='single')>"
      ]
     },
     "execution_count": 3,
     "metadata": {},
     "output_type": "execute_result"
    }
   ],
   "source": [
    "# create a new Node\n",
    "single_node = toytree.Node(name=\"single\")\n",
    "single_node"
   ]
  },
  {
   "cell_type": "code",
   "execution_count": 4,
   "id": "2a30dd0c-a2e2-4de0-8bb5-1513496d6e51",
   "metadata": {},
   "outputs": [
    {
     "data": {
      "text/plain": [
       "<Node(idx=3, name='r3')>"
      ]
     },
     "execution_count": 4,
     "metadata": {},
     "output_type": "execute_result"
    }
   ],
   "source": [
    "# select a Node from a ToyTree\n",
    "node3 = tree[3]\n",
    "node3"
   ]
  },
  {
   "cell_type": "code",
   "execution_count": 5,
   "id": "098e47c3-ca61-4a5e-8011-e9112a665a74",
   "metadata": {},
   "outputs": [
    {
     "data": {
      "text/plain": [
       "True"
      ]
     },
     "execution_count": 5,
     "metadata": {},
     "output_type": "execute_result"
    }
   ],
   "source": [
    "# check that an object's type is a Node \n",
    "isinstance(node3, toytree.Node)"
   ]
  },
  {
   "attachments": {},
   "cell_type": "markdown",
   "id": "a95b3014-1f51-4570-a47d-0b56f57014bf",
   "metadata": {},
   "source": [
    "## Attributes\n",
    "### name: <span style=\"color:gray\">str</span>\n",
    "The default `name` attribute is an empty string. Leaf nodes usually have names associated with them whereas internal nodes usually do not. This will depend on the data that a tree is parsed or constructed from, and whether additional names are added. Some characters are not allowed in node names (`[:;(),\\[\\]\\t\\n\\r=]`) as they would interfere with Newick string parsing when written to a file. Names can be accessed from a `Node`'s `.name` attribute, and can be used to query nodes from a `ToyTree`."
   ]
  },
  {
   "cell_type": "code",
   "execution_count": 6,
   "id": "06bd86d3-4bd8-4824-8c3a-e0f659d718b8",
   "metadata": {},
   "outputs": [
    {
     "data": {
      "text/plain": [
       "'single'"
      ]
     },
     "execution_count": 6,
     "metadata": {},
     "output_type": "execute_result"
    }
   ],
   "source": [
    "# a name can be accessed from a Node\n",
    "single_node.name"
   ]
  },
  {
   "cell_type": "code",
   "execution_count": 7,
   "id": "6a38cdb7-6f10-4294-aef3-00c7be2349cd",
   "metadata": {},
   "outputs": [
    {
     "data": {
      "text/plain": [
       "'r3'"
      ]
     },
     "execution_count": 7,
     "metadata": {},
     "output_type": "execute_result"
    }
   ],
   "source": [
    "# a name can be accessed from a Node in a ToyTree\n",
    "tree[3].name"
   ]
  },
  {
   "cell_type": "code",
   "execution_count": 8,
   "id": "832f86cc-cb83-4d76-8ec5-9cee200f7aa4",
   "metadata": {},
   "outputs": [
    {
     "data": {
      "text/plain": [
       "['r0', 'r1', 'r2', 'r3', 'r4', 'r5', 'r6', 'r7']"
      ]
     },
     "execution_count": 8,
     "metadata": {},
     "output_type": "execute_result"
    }
   ],
   "source": [
    "# returns .name from Nodes in the order they will be plotted (idxorder)\n",
    "tree.get_tip_labels()"
   ]
  },
  {
   "cell_type": "markdown",
   "id": "26dec890-c829-4f38-9be6-4ffe24303609",
   "metadata": {},
   "source": [
    "### idx: <span style=\"color:gray\">int</span>\n",
    "The default `idx` attribute is an int value of -1, which means that the node is not part of a `ToyTree`. If a node is in a `ToyTree` then it will be assigned a unique idx integer between 0 and nnodes-1. The leaf nodes in a tree have idx values between 0 and ntips - 1, and all internal nodes are labeled by increasing numbers in a post-order left-then-right traversal. This is termed an idxorder traversal. When a tree structure changes (e.g. during re-rooting) the idx values of nodes are updated and can change (see [Traversal](/toytree/traversal/)). A node's idx value can be checked from its `.idx` attribute, or if it is in a `ToyTree` then by calling `.get_node_data()` or plotting the tree to visualize idx values.  "
   ]
  },
  {
   "cell_type": "code",
   "execution_count": 9,
   "id": "ec543ab9-2900-4888-9e18-a5fb7f470d16",
   "metadata": {},
   "outputs": [
    {
     "data": {
      "text/plain": [
       "-1"
      ]
     },
     "execution_count": 9,
     "metadata": {},
     "output_type": "execute_result"
    }
   ],
   "source": [
    "# a Node that is not part of a ToyTree has idx=-1\n",
    "single_node.idx"
   ]
  },
  {
   "cell_type": "code",
   "execution_count": 10,
   "id": "dc669f41-65b4-40a2-a7b2-0b96c9b0d205",
   "metadata": {},
   "outputs": [
    {
     "data": {
      "text/plain": [
       "3"
      ]
     },
     "execution_count": 10,
     "metadata": {},
     "output_type": "execute_result"
    }
   ],
   "source": [
    "# Nodes in a ToyTree have unique idx values between 0 and nnodes - 1\n",
    "node3.idx"
   ]
  },
  {
   "cell_type": "markdown",
   "id": "af5391de-c732-4b29-b81c-6ee9bacce177",
   "metadata": {},
   "source": [
    "### dist: <span style=\"color:gray\">float</span>\n",
    "The default `dist` attribute is a float of 0. The value represents the distance from a node **to its parent**. In other words, it is the length of an edge connecting them. The dist attribute is thus not actually a feature of a node, but of an edge between nodes, but is nevertheless stored to a `Node` object. We call this an `edge_feature` of a `Node`, since it will change if the tree is re-rooted, changing which Node is parent to another. The value of a dist can range from very small to very large values, such as when representing the expected number of substitutions per site on a phylogeny, or divergence times in millions of years. "
   ]
  },
  {
   "cell_type": "code",
   "execution_count": 11,
   "id": "d91b142f-bf19-454d-b5ed-d1d4f3a5323d",
   "metadata": {},
   "outputs": [
    {
     "data": {
      "text/plain": [
       "0.0"
      ]
     },
     "execution_count": 11,
     "metadata": {},
     "output_type": "execute_result"
    }
   ],
   "source": [
    "# default Node dist\n",
    "single_node.dist"
   ]
  },
  {
   "cell_type": "code",
   "execution_count": 12,
   "id": "f0cf185d-f1b9-4162-b586-042240bac4ae",
   "metadata": {},
   "outputs": [
    {
     "data": {
      "text/plain": [
       "1.0"
      ]
     },
     "execution_count": 12,
     "metadata": {},
     "output_type": "execute_result"
    }
   ],
   "source": [
    "# the dist from node 3 to its parent\n",
    "node3.dist"
   ]
  },
  {
   "cell_type": "markdown",
   "id": "c283866d-81e4-4667-b33f-097c3dfb6f30",
   "metadata": {},
   "source": [
    "### support: <span style=\"color:gray\">float</span>\n",
    "The default `support` value is `numpy.nan`, which represents the absence of support information. Tip (leaf) nodes are not expected to have support information, since they do not represent a split in a tree. Similarly, the root node support is `nan` since it does not represent a true split. "
   ]
  },
  {
   "cell_type": "code",
   "execution_count": 13,
   "id": "5605fdfd-5f69-44e8-9148-9692305380ed",
   "metadata": {},
   "outputs": [
    {
     "data": {
      "text/plain": [
       "nan"
      ]
     },
     "execution_count": 13,
     "metadata": {},
     "output_type": "execute_result"
    }
   ],
   "source": [
    "# the default support value\n",
    "single_node.support"
   ]
  },
  {
   "cell_type": "markdown",
   "id": "ca0fbf2e-0de0-4a05-a015-fbb842bebcd9",
   "metadata": {},
   "source": [
    "### up: <span style=\"color:gray\">Node</span>\n",
    "The `.up` attribute references a node's parent. The default value is `None`. This is also the value of the `.up` attribute of the root `Node` in a `ToyTree`, since it has no parent. A `Node` can only have one parent. If a tree is re-rooted the relationship between nodes can change such that a `Node` that was previously a child can become a parent, and thus the `Node` attributes are automatically updated during this process."
   ]
  },
  {
   "cell_type": "code",
   "execution_count": 14,
   "id": "ec5a8446-f810-40e9-b99e-0aff0653fb4b",
   "metadata": {},
   "outputs": [],
   "source": [
    "# the default .up is None (no value is returned here)\n",
    "single_node.up"
   ]
  },
  {
   "cell_type": "code",
   "execution_count": 15,
   "id": "76d5d62a-49b0-4625-b748-e36667610811",
   "metadata": {},
   "outputs": [
    {
     "data": {
      "text/plain": [
       "<Node(idx=10)>"
      ]
     },
     "execution_count": 15,
     "metadata": {},
     "output_type": "execute_result"
    }
   ],
   "source": [
    "# node3's parent is Node 10\n",
    "node3.up"
   ]
  },
  {
   "cell_type": "code",
   "execution_count": 16,
   "id": "890bacd9-a4e4-4142-94d7-28c353d20841",
   "metadata": {},
   "outputs": [
    {
     "data": {
      "text/plain": [
       "<Node(idx=13)>"
      ]
     },
     "execution_count": 16,
     "metadata": {},
     "output_type": "execute_result"
    }
   ],
   "source": [
    "# the parent of node3's parent is Node 11\n",
    "node3.up.up"
   ]
  },
  {
   "cell_type": "markdown",
   "id": "eb549df3-4932-4a0f-9092-c5cef82713bd",
   "metadata": {},
   "source": [
    "### children: <span style=\"color:gray\">tuple</span>\n",
    "The `.children` attribute is a tuple of zero or more `Node` objects that are descended from a node. The default is an empty tuple. If a tree is re-rooted the relationship between nodes can change such that a `Node` that was previously a child can become a parent, and thus the `Node` attributes are automatically updated during this process."
   ]
  },
  {
   "cell_type": "code",
   "execution_count": 17,
   "id": "fcceda67-e6fe-421c-b96e-a3da4fa4b24b",
   "metadata": {},
   "outputs": [
    {
     "data": {
      "text/plain": [
       "()"
      ]
     },
     "execution_count": 17,
     "metadata": {},
     "output_type": "execute_result"
    }
   ],
   "source": [
    "# this single Node has no children\n",
    "single_node.children"
   ]
  },
  {
   "cell_type": "code",
   "execution_count": 18,
   "id": "ad75106c-1c65-4760-b0f8-e6e0a861ded2",
   "metadata": {},
   "outputs": [
    {
     "data": {
      "text/plain": [
       "(<Node(idx=0, name='r0')>, <Node(idx=1, name='r1')>)"
      ]
     },
     "execution_count": 18,
     "metadata": {},
     "output_type": "execute_result"
    }
   ],
   "source": [
    "# internal Node 8 in the tree has two children\n",
    "tree[8].children"
   ]
  },
  {
   "cell_type": "markdown",
   "id": "9ecf685f-af85-4485-b0e2-33f941b30e3f",
   "metadata": {},
   "source": [
    "### height: <span style=\"color:gray\">float</span>\n",
    "The default `height` value is a float of 0. The height of a `Node` is an emergent property of a tree of connected nodes. It is the height above the node that is the farthest distance from the root. This value is automatically updated for every node in a `ToyTree` when a tree is modified during the cached traversal."
   ]
  },
  {
   "cell_type": "code",
   "execution_count": 19,
   "id": "9859d07d-d758-4556-b3bf-4ee9f57f8b4d",
   "metadata": {},
   "outputs": [
    {
     "data": {
      "text/plain": [
       "0.0"
      ]
     },
     "execution_count": 19,
     "metadata": {},
     "output_type": "execute_result"
    }
   ],
   "source": [
    "# single node has not height\n",
    "single_node.height"
   ]
  },
  {
   "cell_type": "code",
   "execution_count": 20,
   "id": "82f1a8fa-e77e-4178-8c99-6d604aec790b",
   "metadata": {},
   "outputs": [
    {
     "data": {
      "text/plain": [
       "1.0"
      ]
     },
     "execution_count": 20,
     "metadata": {},
     "output_type": "execute_result"
    }
   ],
   "source": [
    "# leaf node 3 height\n",
    "node3.height"
   ]
  },
  {
   "cell_type": "code",
   "execution_count": 21,
   "id": "515aba3c-d9ce-4f10-9c4f-2e0e403b7d26",
   "metadata": {},
   "outputs": [
    {
     "data": {
      "text/plain": [
       "2.0"
      ]
     },
     "execution_count": 21,
     "metadata": {},
     "output_type": "execute_result"
    }
   ],
   "source": [
    "# internal node 8 height\n",
    "tree[8].height"
   ]
  },
  {
   "cell_type": "markdown",
   "id": "ad069bc7-92fb-4bb4-a8cf-6c69438fb0b1",
   "metadata": {},
   "source": [
    "## Methods\n",
    "The `Node` object provides a number of functions for fetching information about a node's position relative to other connected nodes. Some of this information is also accessible from a `ToyTree` object, but is sometimes easier to access it from a Node object directly."
   ]
  },
  {
   "cell_type": "code",
   "execution_count": 22,
   "id": "00d59b0d-1a09-46a4-a040-9680aeda64b0",
   "metadata": {},
   "outputs": [
    {
     "data": {
      "text/plain": [
       "True"
      ]
     },
     "execution_count": 22,
     "metadata": {},
     "output_type": "execute_result"
    }
   ],
   "source": [
    "node3.is_leaf()"
   ]
  },
  {
   "cell_type": "code",
   "execution_count": 23,
   "id": "4463b579-82e1-418d-87e1-9e82d8613134",
   "metadata": {},
   "outputs": [
    {
     "data": {
      "text/plain": [
       "False"
      ]
     },
     "execution_count": 23,
     "metadata": {},
     "output_type": "execute_result"
    }
   ],
   "source": [
    "node3.is_root()"
   ]
  },
  {
   "cell_type": "code",
   "execution_count": 24,
   "id": "8f46e785-0767-46fb-8938-0769296484de",
   "metadata": {},
   "outputs": [
    {
     "data": {
      "text/plain": [
       "(<Node(idx=10)>, <Node(idx=13)>, <Node(idx=14)>)"
      ]
     },
     "execution_count": 24,
     "metadata": {},
     "output_type": "execute_result"
    }
   ],
   "source": [
    "node3.get_ancestors()"
   ]
  },
  {
   "cell_type": "code",
   "execution_count": 25,
   "id": "27c7c863-d028-41fd-b072-82a2ddc356d5",
   "metadata": {},
   "outputs": [
    {
     "data": {
      "text/plain": [
       "(<Node(idx=3, name='r3')>,)"
      ]
     },
     "execution_count": 25,
     "metadata": {},
     "output_type": "execute_result"
    }
   ],
   "source": [
    "node3.get_descendants()"
   ]
  },
  {
   "cell_type": "code",
   "execution_count": 26,
   "id": "7f60d56c-2261-48a2-988e-f8c7b3a0e500",
   "metadata": {},
   "outputs": [
    {
     "data": {
      "text/plain": [
       "[<Node(idx=3, name='r3')>]"
      ]
     },
     "execution_count": 26,
     "metadata": {},
     "output_type": "execute_result"
    }
   ],
   "source": [
    "node3.get_leaves()"
   ]
  },
  {
   "cell_type": "code",
   "execution_count": 27,
   "id": "88a0b1fa-b41f-4fb2-8c75-a389518e0bed",
   "metadata": {},
   "outputs": [
    {
     "data": {
      "text/plain": [
       "(<Node(idx=4, name='r4')>,)"
      ]
     },
     "execution_count": 27,
     "metadata": {},
     "output_type": "execute_result"
    }
   ],
   "source": [
    "node3.get_sisters()"
   ]
  },
  {
   "cell_type": "code",
   "execution_count": 28,
   "id": "56dac497-4d82-436c-a5df-5b63e7afbb75",
   "metadata": {},
   "outputs": [
    {
     "data": {
      "text/plain": [
       "['r3']"
      ]
     },
     "execution_count": 28,
     "metadata": {},
     "output_type": "execute_result"
    }
   ],
   "source": [
    "node3.get_leaf_names()"
   ]
  },
  {
   "cell_type": "markdown",
   "id": "fcf7a9dd-f490-456f-a9a3-66c623edb0cd",
   "metadata": {},
   "source": [
    "Each of the `get_[x]` functions above is also available as a generator function named `iter_[x]`, which is more efficient for fetching such data over very large trees, or for terminating a traversal over part of the tree once a condition has been met. The `traverse()` function is also a generator function."
   ]
  },
  {
   "cell_type": "code",
   "execution_count": 29,
   "id": "18cf7fc1-6ff5-4062-b586-564cae8f9a64",
   "metadata": {},
   "outputs": [
    {
     "data": {
      "text/plain": [
       "<generator object Node.iter_ancestors at 0x7f3ba6ca9bd0>"
      ]
     },
     "execution_count": 29,
     "metadata": {},
     "output_type": "execute_result"
    }
   ],
   "source": [
    "node3.iter_ancestors()"
   ]
  },
  {
   "cell_type": "code",
   "execution_count": 30,
   "id": "fc1ff59c-bf88-4894-88eb-3001727499ff",
   "metadata": {},
   "outputs": [
    {
     "data": {
      "text/plain": [
       "<generator object Node._traverse_idxorder at 0x7f3ba6ca9d20>"
      ]
     },
     "execution_count": 30,
     "metadata": {},
     "output_type": "execute_result"
    }
   ],
   "source": [
    "node3.traverse(\"idxorder\")"
   ]
  },
  {
   "cell_type": "markdown",
   "id": "c34178e2-ca6d-4af7-8651-d7294061c95c",
   "metadata": {},
   "source": [
    "## Nodes vs 'Edges'\n",
    "Notably, `toytree` does not implement a separate \"Edge\" class to represent edges in a tree. Instead, edges are simply represented by the connections between `Node` objects -- by their `.up` and `.children` attributes. (This can be important when storing new data types to a tree; see [Edge features](/toytree/data/#node-vs-edge-features)). Thus you can think of edges as pairs of nodes. You can fetch the edge information from a `ToyTree` in a variety of ways. Below we use the function `get_edges` which has options for returning this information in a number of tabular formats."
   ]
  },
  {
   "cell_type": "code",
   "execution_count": 31,
   "id": "4e964668-259d-4f6e-bdca-ec33f8e5ad8e",
   "metadata": {},
   "outputs": [
    {
     "data": {
      "text/html": [
       "<div>\n",
       "<style scoped>\n",
       "    .dataframe tbody tr th:only-of-type {\n",
       "        vertical-align: middle;\n",
       "    }\n",
       "\n",
       "    .dataframe tbody tr th {\n",
       "        vertical-align: top;\n",
       "    }\n",
       "\n",
       "    .dataframe thead th {\n",
       "        text-align: right;\n",
       "    }\n",
       "</style>\n",
       "<table border=\"1\" class=\"dataframe\">\n",
       "  <thead>\n",
       "    <tr style=\"text-align: right;\">\n",
       "      <th></th>\n",
       "      <th>child</th>\n",
       "      <th>parent</th>\n",
       "    </tr>\n",
       "  </thead>\n",
       "  <tbody>\n",
       "    <tr>\n",
       "      <th>0</th>\n",
       "      <td>0</td>\n",
       "      <td>8</td>\n",
       "    </tr>\n",
       "    <tr>\n",
       "      <th>1</th>\n",
       "      <td>1</td>\n",
       "      <td>8</td>\n",
       "    </tr>\n",
       "    <tr>\n",
       "      <th>2</th>\n",
       "      <td>2</td>\n",
       "      <td>9</td>\n",
       "    </tr>\n",
       "    <tr>\n",
       "      <th>3</th>\n",
       "      <td>3</td>\n",
       "      <td>10</td>\n",
       "    </tr>\n",
       "    <tr>\n",
       "      <th>4</th>\n",
       "      <td>4</td>\n",
       "      <td>10</td>\n",
       "    </tr>\n",
       "    <tr>\n",
       "      <th>5</th>\n",
       "      <td>5</td>\n",
       "      <td>11</td>\n",
       "    </tr>\n",
       "    <tr>\n",
       "      <th>6</th>\n",
       "      <td>6</td>\n",
       "      <td>11</td>\n",
       "    </tr>\n",
       "    <tr>\n",
       "      <th>7</th>\n",
       "      <td>7</td>\n",
       "      <td>12</td>\n",
       "    </tr>\n",
       "    <tr>\n",
       "      <th>8</th>\n",
       "      <td>8</td>\n",
       "      <td>9</td>\n",
       "    </tr>\n",
       "    <tr>\n",
       "      <th>9</th>\n",
       "      <td>9</td>\n",
       "      <td>14</td>\n",
       "    </tr>\n",
       "    <tr>\n",
       "      <th>10</th>\n",
       "      <td>10</td>\n",
       "      <td>13</td>\n",
       "    </tr>\n",
       "    <tr>\n",
       "      <th>11</th>\n",
       "      <td>11</td>\n",
       "      <td>12</td>\n",
       "    </tr>\n",
       "    <tr>\n",
       "      <th>12</th>\n",
       "      <td>12</td>\n",
       "      <td>13</td>\n",
       "    </tr>\n",
       "    <tr>\n",
       "      <th>13</th>\n",
       "      <td>13</td>\n",
       "      <td>14</td>\n",
       "    </tr>\n",
       "  </tbody>\n",
       "</table>\n",
       "</div>"
      ],
      "text/plain": [
       "    child  parent\n",
       "0       0       8\n",
       "1       1       8\n",
       "2       2       9\n",
       "3       3      10\n",
       "4       4      10\n",
       "5       5      11\n",
       "6       6      11\n",
       "7       7      12\n",
       "8       8       9\n",
       "9       9      14\n",
       "10     10      13\n",
       "11     11      12\n",
       "12     12      13\n",
       "13     13      14"
      ]
     },
     "execution_count": 31,
     "metadata": {},
     "output_type": "execute_result"
    }
   ],
   "source": [
    "# edges are simply pairs of Nodes with a child,parent relationship\n",
    "tree.get_edges(feature='idx', df=True)"
   ]
  },
  {
   "cell_type": "markdown",
   "id": "6d7c9f0b-51ea-4d5a-8469-45e27c05621a",
   "metadata": {},
   "source": [
    "## Mutability of Nodes\n",
    "The data assigned to nodes may represent a feature of the node itself, or it may represent a feature of the edge connecting that node to its parent. In the latter case, it is important that the data be treated appropriately if the tree is modified, such as when a node is pruned from the tree, or the tree is re-rooted. In these cases, the edge features, such as the `.dist`, `.support`, and the connection information `.up` and `.children`, need to be automatically updated. Similarly, emergent properties of nodes in a tree, such as the `.height` of a node relative to the farthest leaf must be re-computed.\n",
    "\n",
    "The automatic updating of these attributes is done at the level of a `ToyTree`, not within individual `Nodes`, and thus we have intentionally designed these elements of `Node` objects to be immutable (you cannot modify them directly). Thus, users cannot call `node.idx = 3`  or `node.height = 100` to set these atrributes to a new value, since these attributes are properties of the node's placement with respect to other nodes in the tree, which need to also be updated. If you try to set one of these values a `ToyTreeError` exception will be raised like in the example below where we catch the exception and print it. For developers there is a simple workaround for this described further below."
   ]
  },
  {
   "cell_type": "code",
   "execution_count": 32,
   "id": "1264dd93-0562-4b8c-96e4-1df349e21d45",
   "metadata": {},
   "outputs": [
    {
     "name": "stdout",
     "output_type": "stream",
     "text": [
      "ToyTreeError: Cannot set .idx attribute of a Node. If you are an advanced user then you can do so by setting ._idx. See the docs section on Modifying Nodes and Tree Topology.\n"
     ]
    }
   ],
   "source": [
    "# catch 'ToyTreeError' exception raised when trying to modify a Node attribute\n",
    "try:\n",
    "    single_node.idx = 10\n",
    "except toytree.utils.ToytreeError as exc:\n",
    "    print(\"ToyTreeError:\", exc)"
   ]
  },
  {
   "cell_type": "markdown",
   "id": "44afa2f6-59db-4ef0-8e26-b5729a887c0d",
   "metadata": {},
   "source": [
    "### Calling mod functions\n",
    "Instead of modifying a node's attributes directly you should instead call one of the tree modification functions from the `toytree.mod` subpackage that will ensure that the rest of the tree data is automatically updated along with the modified node data. Examples include the `.root`, `.drop_tips`, `prune`, `ladderize`, `rotate_nodes`, `edges_set_node_heights`, and many others which modify one or more `.up`, `.children`, `.idx`, `.dist`, or `.height` attributes of nodes in unison."
   ]
  },
  {
   "cell_type": "code",
   "execution_count": 33,
   "id": "df77b330-a4f2-47f6-9d95-422f57f774eb",
   "metadata": {},
   "outputs": [
    {
     "data": {
      "text/html": [
       "<div class=\"toyplot\" id=\"t065a06c11c57406396c025b292f0ef0b\" style=\"text-align:center\"><svg class=\"toyplot-canvas-Canvas\" xmlns:toyplot=\"http://www.sandia.gov/toyplot\" xmlns:xlink=\"http://www.w3.org/1999/xlink\" xmlns=\"http://www.w3.org/2000/svg\" width=\"450.0px\" height=\"250.0px\" viewBox=\"0 0 450.0 250.0\" preserveAspectRatio=\"xMidYMid meet\" style=\"background-color:transparent;border-color:#292724;border-style:none;border-width:1.0;fill:rgb(16.1%,15.3%,14.1%);fill-opacity:1.0;font-family:Helvetica;font-size:12px;opacity:1.0;stroke:rgb(16.1%,15.3%,14.1%);stroke-opacity:1.0;stroke-width:1.0\" id=\"t81dfb79b5b92456f9abcb83718ccaaf0\"><g class=\"toyplot-coordinates-Cartesian\" id=\"t33a92290786947afbc1c025d641b4e92\"><clipPath id=\"tc747006abd15463482b5b1bb726eb69b\"><rect x=\"20.0\" y=\"40.0\" width=\"205.0\" height=\"170.0\"></rect></clipPath><g clip-path=\"url(#tc747006abd15463482b5b1bb726eb69b)\"><g class=\"toytree-mark-Toytree\" id=\"tcfd66f07ee044bf18e2de3de648f9c71\"><g class=\"toytree-Edges\" style=\"stroke:rgb(14.5%,14.5%,14.5%);stroke-opacity:1.0;stroke-linecap:round;stroke-width:2.0;fill:none\"><path d=\"M 49.9 113.8 L 37.8 142.5\" id=\"8,0\" style=\"\"></path><path d=\"M 49.9 113.8 L 62.0 142.5\" id=\"8,1\" style=\"\"></path><path d=\"M 68.0 85.2 L 86.2 113.8\" id=\"9,2\" style=\"\"></path><path d=\"M 122.5 113.8 L 110.4 142.5\" id=\"10,3\" style=\"\"></path><path d=\"M 122.5 113.8 L 134.6 142.5\" id=\"10,4\" style=\"\"></path><path d=\"M 170.9 142.5 L 158.8 171.1\" id=\"11,5\" style=\"\"></path><path d=\"M 170.9 142.5 L 183.0 171.1\" id=\"11,6\" style=\"\"></path><path d=\"M 189.1 113.8 L 207.2 142.5\" id=\"12,7\" style=\"\"></path><path d=\"M 68.0 85.2 L 49.9 113.8\" id=\"9,8\" style=\"\"></path><path d=\"M 111.9 56.5 L 68.0 85.2\" id=\"14,9\" style=\"\"></path><path d=\"M 155.8 85.2 L 122.5 113.8\" id=\"13,10\" style=\"\"></path><path d=\"M 189.1 113.8 L 170.9 142.5\" id=\"12,11\" style=\"\"></path><path d=\"M 155.8 85.2 L 189.1 113.8\" id=\"13,12\" style=\"\"></path><path d=\"M 111.9 56.5 L 155.8 85.2\" id=\"14,13\" style=\"\"></path></g><g class=\"toytree-AdmixEdges\" style=\"fill:rgb(0.0%,0.0%,0.0%);fill-opacity:0.0;stroke:rgb(90.6%,54.1%,76.5%);stroke-opacity:0.6;font-size:14px;stroke-linecap:round;stroke-width:5\"></g><g class=\"toytree-Nodes\" style=\"fill:rgb(40.0%,76.1%,64.7%);fill-opacity:1.0;stroke:rgb(14.5%,14.5%,14.5%);stroke-opacity:1.0;stroke-width:1.0\"><g id=\"Node-0\" transform=\"translate(37.7847,142.47)\"><circle r=\"7.5\"></circle></g><g id=\"Node-1\" transform=\"translate(61.989,142.47)\"><circle r=\"7.5\"></circle></g><g id=\"Node-2\" transform=\"translate(86.1934,113.812)\"><circle r=\"7.5\"></circle></g><g id=\"Node-3\" transform=\"translate(110.398,142.47)\"><circle r=\"7.5\"></circle></g><g id=\"Node-4\" transform=\"translate(134.602,142.47)\"><circle r=\"7.5\"></circle></g><g id=\"Node-5\" transform=\"translate(158.807,171.128)\"><circle r=\"7.5\"></circle></g><g id=\"Node-6\" transform=\"translate(183.011,171.128)\"><circle r=\"7.5\"></circle></g><g id=\"Node-7\" transform=\"translate(207.215,142.47)\"><circle r=\"7.5\"></circle></g><g id=\"Node-8\" transform=\"translate(49.8868,113.812)\"><circle r=\"7.5\"></circle></g><g id=\"Node-9\" transform=\"translate(68.0401,85.1539)\"><circle r=\"7.5\"></circle></g><g id=\"Node-10\" transform=\"translate(122.5,113.812)\"><circle r=\"7.5\"></circle></g><g id=\"Node-11\" transform=\"translate(170.909,142.47)\"><circle r=\"7.5\"></circle></g><g id=\"Node-12\" transform=\"translate(189.062,113.812)\"><circle r=\"7.5\"></circle></g><g id=\"Node-13\" transform=\"translate(155.781,85.1539)\"><circle r=\"7.5\"></circle></g><g id=\"Node-14\" transform=\"translate(111.911,56.4958)\"><circle r=\"7.5\"></circle></g></g><g class=\"toytree-NodeLabels\" style=\"font-family:Helvetica;font-size:9px;font-weight:300;vertical-align:baseline;white-space:pre;stroke:none\"><g class=\"toytree-NodeLabel\" transform=\"translate(37.7847,142.47)\"><text x=\"-2.5020000000000002\" y=\"2.2995\" style=\"fill:rgb(14.5%,14.5%,14.5%);fill-opacity:1.0\">0</text></g><g class=\"toytree-NodeLabel\" transform=\"translate(61.989,142.47)\"><text x=\"-2.5020000000000002\" y=\"2.2995\" style=\"fill:rgb(14.5%,14.5%,14.5%);fill-opacity:1.0\">1</text></g><g class=\"toytree-NodeLabel\" transform=\"translate(86.1934,113.812)\"><text x=\"-2.5020000000000002\" y=\"2.2995\" style=\"fill:rgb(14.5%,14.5%,14.5%);fill-opacity:1.0\">2</text></g><g class=\"toytree-NodeLabel\" transform=\"translate(110.398,142.47)\"><text x=\"-2.5020000000000002\" y=\"2.2995\" style=\"fill:rgb(14.5%,14.5%,14.5%);fill-opacity:1.0\">3</text></g><g class=\"toytree-NodeLabel\" transform=\"translate(134.602,142.47)\"><text x=\"-2.5020000000000002\" y=\"2.2995\" style=\"fill:rgb(14.5%,14.5%,14.5%);fill-opacity:1.0\">4</text></g><g class=\"toytree-NodeLabel\" transform=\"translate(158.807,171.128)\"><text x=\"-2.5020000000000002\" y=\"2.2995\" style=\"fill:rgb(14.5%,14.5%,14.5%);fill-opacity:1.0\">5</text></g><g class=\"toytree-NodeLabel\" transform=\"translate(183.011,171.128)\"><text x=\"-2.5020000000000002\" y=\"2.2995\" style=\"fill:rgb(14.5%,14.5%,14.5%);fill-opacity:1.0\">6</text></g><g class=\"toytree-NodeLabel\" transform=\"translate(207.215,142.47)\"><text x=\"-2.5020000000000002\" y=\"2.2995\" style=\"fill:rgb(14.5%,14.5%,14.5%);fill-opacity:1.0\">7</text></g><g class=\"toytree-NodeLabel\" transform=\"translate(49.8868,113.812)\"><text x=\"-2.5020000000000002\" y=\"2.2995\" style=\"fill:rgb(14.5%,14.5%,14.5%);fill-opacity:1.0\">8</text></g><g class=\"toytree-NodeLabel\" transform=\"translate(68.0401,85.1539)\"><text x=\"-2.5020000000000002\" y=\"2.2995\" style=\"fill:rgb(14.5%,14.5%,14.5%);fill-opacity:1.0\">9</text></g><g class=\"toytree-NodeLabel\" transform=\"translate(122.5,113.812)\"><text x=\"-5.0040000000000004\" y=\"2.2995\" style=\"fill:rgb(14.5%,14.5%,14.5%);fill-opacity:1.0\">10</text></g><g class=\"toytree-NodeLabel\" transform=\"translate(170.909,142.47)\"><text x=\"-5.0040000000000004\" y=\"2.2995\" style=\"fill:rgb(14.5%,14.5%,14.5%);fill-opacity:1.0\">11</text></g><g class=\"toytree-NodeLabel\" transform=\"translate(189.062,113.812)\"><text x=\"-5.0040000000000004\" y=\"2.2995\" style=\"fill:rgb(14.5%,14.5%,14.5%);fill-opacity:1.0\">12</text></g><g class=\"toytree-NodeLabel\" transform=\"translate(155.781,85.1539)\"><text x=\"-5.0040000000000004\" y=\"2.2995\" style=\"fill:rgb(14.5%,14.5%,14.5%);fill-opacity:1.0\">13</text></g><g class=\"toytree-NodeLabel\" transform=\"translate(111.911,56.4958)\"><text x=\"-5.0040000000000004\" y=\"2.2995\" style=\"fill:rgb(14.5%,14.5%,14.5%);fill-opacity:1.0\">14</text></g></g><g class=\"toytree-TipLabels\" style=\"fill:rgb(14.5%,14.5%,14.5%);fill-opacity:1.0;font-family:Helvetica;font-size:10px;font-weight:300;vertical-align:baseline;white-space:pre;stroke:none\"><g class=\"toytree-TipLabel\" transform=\"translate(37.7847,142.47)rotate(90)\"><text x=\"10.0\" y=\"2.5549999999999997\" style=\"fill:rgb(14.5%,14.5%,14.5%);fill-opacity:1.0\">r0</text></g><g class=\"toytree-TipLabel\" transform=\"translate(61.989,142.47)rotate(90)\"><text x=\"10.0\" y=\"2.5549999999999997\" style=\"fill:rgb(14.5%,14.5%,14.5%);fill-opacity:1.0\">r1</text></g><g class=\"toytree-TipLabel\" transform=\"translate(86.1934,113.812)rotate(90)\"><text x=\"10.0\" y=\"2.5549999999999997\" style=\"fill:rgb(14.5%,14.5%,14.5%);fill-opacity:1.0\">r2</text></g><g class=\"toytree-TipLabel\" transform=\"translate(110.398,142.47)rotate(90)\"><text x=\"10.0\" y=\"2.5549999999999997\" style=\"fill:rgb(14.5%,14.5%,14.5%);fill-opacity:1.0\">r3</text></g><g class=\"toytree-TipLabel\" transform=\"translate(134.602,142.47)rotate(90)\"><text x=\"10.0\" y=\"2.5549999999999997\" style=\"fill:rgb(14.5%,14.5%,14.5%);fill-opacity:1.0\">r4</text></g><g class=\"toytree-TipLabel\" transform=\"translate(158.807,171.128)rotate(90)\"><text x=\"10.0\" y=\"2.5549999999999997\" style=\"fill:rgb(14.5%,14.5%,14.5%);fill-opacity:1.0\">r5</text></g><g class=\"toytree-TipLabel\" transform=\"translate(183.011,171.128)rotate(90)\"><text x=\"10.0\" y=\"2.5549999999999997\" style=\"fill:rgb(14.5%,14.5%,14.5%);fill-opacity:1.0\">r6</text></g><g class=\"toytree-TipLabel\" transform=\"translate(207.215,142.47)rotate(90)\"><text x=\"10.0\" y=\"2.5549999999999997\" style=\"fill:rgb(14.5%,14.5%,14.5%);fill-opacity:1.0\">r7</text></g></g></g></g></g><g class=\"toyplot-coordinates-Cartesian\" id=\"t9fc1286b7775482685b60a865d117312\"><clipPath id=\"tae2f334e493444e4b8de860f58c54c02\"><rect x=\"245.0\" y=\"40.0\" width=\"205.0\" height=\"170.0\"></rect></clipPath><g clip-path=\"url(#tae2f334e493444e4b8de860f58c54c02)\"><g class=\"toytree-mark-Toytree\" id=\"t7c3668d4d152458f9a1f547b665ea4b2\"><g class=\"toytree-Edges\" style=\"stroke:rgb(14.5%,14.5%,14.5%);stroke-opacity:1.0;stroke-linecap:round;stroke-width:2.0;fill:none\"><path d=\"M 297.6 56.5 L 262.8 66.9\" id=\"14,0\" style=\"\"></path><path d=\"M 332.4 66.9 L 287.0 87.8\" id=\"13,1\" style=\"\"></path><path d=\"M 323.3 129.4 L 311.2 150.3\" id=\"8,2\" style=\"\"></path><path d=\"M 323.3 129.4 L 335.4 150.3\" id=\"8,3\" style=\"\"></path><path d=\"M 341.4 108.6 L 359.6 129.4\" id=\"9,4\" style=\"\"></path><path d=\"M 395.9 150.3 L 383.8 171.1\" id=\"10,5\" style=\"\"></path><path d=\"M 395.9 150.3 L 408.0 171.1\" id=\"10,6\" style=\"\"></path><path d=\"M 414.1 129.4 L 432.2 150.3\" id=\"11,7\" style=\"\"></path><path d=\"M 341.4 108.6 L 323.3 129.4\" id=\"9,8\" style=\"\"></path><path d=\"M 377.8 87.8 L 341.4 108.6\" id=\"12,9\" style=\"\"></path><path d=\"M 414.1 129.4 L 395.9 150.3\" id=\"11,10\" style=\"\"></path><path d=\"M 377.8 87.8 L 414.1 129.4\" id=\"12,11\" style=\"\"></path><path d=\"M 332.4 66.9 L 377.8 87.8\" id=\"13,12\" style=\"\"></path><path d=\"M 297.6 56.5 L 332.4 66.9\" id=\"14,13\" style=\"\"></path></g><g class=\"toytree-AdmixEdges\" style=\"fill:rgb(0.0%,0.0%,0.0%);fill-opacity:0.0;stroke:rgb(90.6%,54.1%,76.5%);stroke-opacity:0.6;font-size:14px;stroke-linecap:round;stroke-width:5\"></g><g class=\"toytree-Nodes\" style=\"fill:rgb(40.0%,76.1%,64.7%);fill-opacity:1.0;stroke:rgb(14.5%,14.5%,14.5%);stroke-opacity:1.0;stroke-width:1.0\"><g id=\"Node-0\" transform=\"translate(262.785,66.9169)\"><circle r=\"7.5\"></circle></g><g id=\"Node-1\" transform=\"translate(286.989,87.7591)\"><circle r=\"7.5\"></circle></g><g id=\"Node-2\" transform=\"translate(311.193,150.286)\"><circle r=\"7.5\"></circle></g><g id=\"Node-3\" transform=\"translate(335.398,150.286)\"><circle r=\"7.5\"></circle></g><g id=\"Node-4\" transform=\"translate(359.602,129.444)\"><circle r=\"7.5\"></circle></g><g id=\"Node-5\" transform=\"translate(383.807,171.128)\"><circle r=\"7.5\"></circle></g><g id=\"Node-6\" transform=\"translate(408.011,171.128)\"><circle r=\"7.5\"></circle></g><g id=\"Node-7\" transform=\"translate(432.215,150.286)\"><circle r=\"7.5\"></circle></g><g id=\"Node-8\" transform=\"translate(323.296,129.444)\"><circle r=\"7.5\"></circle></g><g id=\"Node-9\" transform=\"translate(341.449,108.601)\"><circle r=\"7.5\"></circle></g><g id=\"Node-10\" transform=\"translate(395.909,150.286)\"><circle r=\"7.5\"></circle></g><g id=\"Node-11\" transform=\"translate(414.062,129.444)\"><circle r=\"7.5\"></circle></g><g id=\"Node-12\" transform=\"translate(377.755,87.7591)\"><circle r=\"7.5\"></circle></g><g id=\"Node-13\" transform=\"translate(332.372,66.9169)\"><circle r=\"7.5\"></circle></g><g id=\"Node-14\" transform=\"translate(297.578,56.4958)\"><circle r=\"7.5\"></circle></g></g><g class=\"toytree-NodeLabels\" style=\"font-family:Helvetica;font-size:9px;font-weight:300;vertical-align:baseline;white-space:pre;stroke:none\"><g class=\"toytree-NodeLabel\" transform=\"translate(262.785,66.9169)\"><text x=\"-2.5020000000000002\" y=\"2.2995\" style=\"fill:rgb(14.5%,14.5%,14.5%);fill-opacity:1.0\">0</text></g><g class=\"toytree-NodeLabel\" transform=\"translate(286.989,87.7591)\"><text x=\"-2.5020000000000002\" y=\"2.2995\" style=\"fill:rgb(14.5%,14.5%,14.5%);fill-opacity:1.0\">1</text></g><g class=\"toytree-NodeLabel\" transform=\"translate(311.193,150.286)\"><text x=\"-2.5020000000000002\" y=\"2.2995\" style=\"fill:rgb(14.5%,14.5%,14.5%);fill-opacity:1.0\">2</text></g><g class=\"toytree-NodeLabel\" transform=\"translate(335.398,150.286)\"><text x=\"-2.5020000000000002\" y=\"2.2995\" style=\"fill:rgb(14.5%,14.5%,14.5%);fill-opacity:1.0\">3</text></g><g class=\"toytree-NodeLabel\" transform=\"translate(359.602,129.444)\"><text x=\"-2.5020000000000002\" y=\"2.2995\" style=\"fill:rgb(14.5%,14.5%,14.5%);fill-opacity:1.0\">4</text></g><g class=\"toytree-NodeLabel\" transform=\"translate(383.807,171.128)\"><text x=\"-2.5020000000000002\" y=\"2.2995\" style=\"fill:rgb(14.5%,14.5%,14.5%);fill-opacity:1.0\">5</text></g><g class=\"toytree-NodeLabel\" transform=\"translate(408.011,171.128)\"><text x=\"-2.5020000000000002\" y=\"2.2995\" style=\"fill:rgb(14.5%,14.5%,14.5%);fill-opacity:1.0\">6</text></g><g class=\"toytree-NodeLabel\" transform=\"translate(432.215,150.286)\"><text x=\"-2.5020000000000002\" y=\"2.2995\" style=\"fill:rgb(14.5%,14.5%,14.5%);fill-opacity:1.0\">7</text></g><g class=\"toytree-NodeLabel\" transform=\"translate(323.296,129.444)\"><text x=\"-2.5020000000000002\" y=\"2.2995\" style=\"fill:rgb(14.5%,14.5%,14.5%);fill-opacity:1.0\">8</text></g><g class=\"toytree-NodeLabel\" transform=\"translate(341.449,108.601)\"><text x=\"-2.5020000000000002\" y=\"2.2995\" style=\"fill:rgb(14.5%,14.5%,14.5%);fill-opacity:1.0\">9</text></g><g class=\"toytree-NodeLabel\" transform=\"translate(395.909,150.286)\"><text x=\"-5.0040000000000004\" y=\"2.2995\" style=\"fill:rgb(14.5%,14.5%,14.5%);fill-opacity:1.0\">10</text></g><g class=\"toytree-NodeLabel\" transform=\"translate(414.062,129.444)\"><text x=\"-5.0040000000000004\" y=\"2.2995\" style=\"fill:rgb(14.5%,14.5%,14.5%);fill-opacity:1.0\">11</text></g><g class=\"toytree-NodeLabel\" transform=\"translate(377.755,87.7591)\"><text x=\"-5.0040000000000004\" y=\"2.2995\" style=\"fill:rgb(14.5%,14.5%,14.5%);fill-opacity:1.0\">12</text></g><g class=\"toytree-NodeLabel\" transform=\"translate(332.372,66.9169)\"><text x=\"-5.0040000000000004\" y=\"2.2995\" style=\"fill:rgb(14.5%,14.5%,14.5%);fill-opacity:1.0\">13</text></g><g class=\"toytree-NodeLabel\" transform=\"translate(297.578,56.4958)\"><text x=\"-5.0040000000000004\" y=\"2.2995\" style=\"fill:rgb(14.5%,14.5%,14.5%);fill-opacity:1.0\">14</text></g></g><g class=\"toytree-TipLabels\" style=\"fill:rgb(14.5%,14.5%,14.5%);fill-opacity:1.0;font-family:Helvetica;font-size:10px;font-weight:300;vertical-align:baseline;white-space:pre;stroke:none\"><g class=\"toytree-TipLabel\" transform=\"translate(262.785,66.9169)rotate(90)\"><text x=\"10.0\" y=\"2.5549999999999997\" style=\"fill:rgb(14.5%,14.5%,14.5%);fill-opacity:1.0\">r4</text></g><g class=\"toytree-TipLabel\" transform=\"translate(286.989,87.7591)rotate(90)\"><text x=\"10.0\" y=\"2.5549999999999997\" style=\"fill:rgb(14.5%,14.5%,14.5%);fill-opacity:1.0\">r3</text></g><g class=\"toytree-TipLabel\" transform=\"translate(311.193,150.286)rotate(90)\"><text x=\"10.0\" y=\"2.5549999999999997\" style=\"fill:rgb(14.5%,14.5%,14.5%);fill-opacity:1.0\">r5</text></g><g class=\"toytree-TipLabel\" transform=\"translate(335.398,150.286)rotate(90)\"><text x=\"10.0\" y=\"2.5549999999999997\" style=\"fill:rgb(14.5%,14.5%,14.5%);fill-opacity:1.0\">r6</text></g><g class=\"toytree-TipLabel\" transform=\"translate(359.602,129.444)rotate(90)\"><text x=\"10.0\" y=\"2.5549999999999997\" style=\"fill:rgb(14.5%,14.5%,14.5%);fill-opacity:1.0\">r7</text></g><g class=\"toytree-TipLabel\" transform=\"translate(383.807,171.128)rotate(90)\"><text x=\"10.0\" y=\"2.5549999999999997\" style=\"fill:rgb(14.5%,14.5%,14.5%);fill-opacity:1.0\">r0</text></g><g class=\"toytree-TipLabel\" transform=\"translate(408.011,171.128)rotate(90)\"><text x=\"10.0\" y=\"2.5549999999999997\" style=\"fill:rgb(14.5%,14.5%,14.5%);fill-opacity:1.0\">r1</text></g><g class=\"toytree-TipLabel\" transform=\"translate(432.215,150.286)rotate(90)\"><text x=\"10.0\" y=\"2.5549999999999997\" style=\"fill:rgb(14.5%,14.5%,14.5%);fill-opacity:1.0\">r2</text></g></g></g></g></g></svg><div class=\"toyplot-behavior\"><script>(function()\n",
       "{\n",
       "var modules={};\n",
       "})();</script></div></div>"
      ]
     },
     "metadata": {},
     "output_type": "display_data"
    }
   ],
   "source": [
    "# an example toytree.mod function that modifies node attributes\n",
    "rtree = tree.mod.root(\"r4\")\n",
    "\n",
    "# the new tree has different idx values b/c the traversal order changed\n",
    "toytree.mtree([tree, rtree]).draw(ts='p');"
   ]
  },
  {
   "cell_type": "markdown",
   "id": "0fcf5c17-fbe7-468e-8f31-1147ca1c0e89",
   "metadata": {},
   "source": [
    "### Developing mod functions\n",
    "Sometimes, however, you may really want to directly modify one or more core features of a `Node`, in which case it is possible, we just want to make sure that you are well aware of the necessary considerations to avoid errors in your code. You can examine the source code of the many `.mod` subpackage functions above for examples. Each of these core attributes is available as a private attribute (e.g., `._dist`, `._idx`) which *can* be modified without raising an exception. The key, however, is that after one or more private node attributes have been modified, the `ToyTree` traversal caching function named `._update()` must be called at the end to ensure that all of the linked attributes of nodes are updated."
   ]
  },
  {
   "cell_type": "code",
   "execution_count": 34,
   "id": "4073b2fc-5679-4f24-9a16-727a7d01437a",
   "metadata": {},
   "outputs": [
    {
     "data": {
      "text/html": [
       "<div class=\"toyplot\" id=\"te0d3748e41794802ae04687a119f1dd6\" style=\"text-align:center\"><svg class=\"toyplot-canvas-Canvas\" xmlns:toyplot=\"http://www.sandia.gov/toyplot\" xmlns:xlink=\"http://www.w3.org/1999/xlink\" xmlns=\"http://www.w3.org/2000/svg\" width=\"450.0px\" height=\"250.0px\" viewBox=\"0 0 450.0 250.0\" preserveAspectRatio=\"xMidYMid meet\" style=\"background-color:transparent;border-color:#292724;border-style:none;border-width:1.0;fill:rgb(16.1%,15.3%,14.1%);fill-opacity:1.0;font-family:Helvetica;font-size:12px;opacity:1.0;stroke:rgb(16.1%,15.3%,14.1%);stroke-opacity:1.0;stroke-width:1.0\" id=\"t3032e8b2169941db802bd26b1b1e0ba8\"><g class=\"toyplot-coordinates-Cartesian\" id=\"t6ce56fd5c0c64b91ae55e379fef361c4\"><clipPath id=\"t4fce0e9a4fde47a8a2e428a8a462215f\"><rect x=\"40.0\" y=\"40.0\" width=\"185.0\" height=\"170.0\"></rect></clipPath><g clip-path=\"url(#t4fce0e9a4fde47a8a2e428a8a462215f)\"><g class=\"toytree-mark-Toytree\" id=\"t456a8f015af744cd8c4571ca0bd5f9b8\"><g class=\"toytree-Edges\" style=\"stroke:rgb(14.5%,14.5%,14.5%);stroke-opacity:1.0;stroke-linecap:round;stroke-width:2.0;fill:none\"><path d=\"M 68.4 113.8 L 57.7 142.5\" id=\"8,0\" style=\"\"></path><path d=\"M 68.4 113.8 L 79.1 142.5\" id=\"8,1\" style=\"\"></path><path d=\"M 84.4 85.2 L 100.4 113.8\" id=\"9,2\" style=\"\"></path><path d=\"M 132.5 113.8 L 121.8 142.5\" id=\"10,3\" style=\"\"></path><path d=\"M 132.5 113.8 L 143.2 142.5\" id=\"10,4\" style=\"\"></path><path d=\"M 175.2 142.5 L 164.6 171.1\" id=\"11,5\" style=\"\"></path><path d=\"M 175.2 142.5 L 185.9 171.1\" id=\"11,6\" style=\"\"></path><path d=\"M 191.3 113.8 L 207.3 142.5\" id=\"12,7\" style=\"\"></path><path d=\"M 84.4 85.2 L 68.4 113.8\" id=\"9,8\" style=\"\"></path><path d=\"M 123.2 56.5 L 84.4 85.2\" id=\"14,9\" style=\"\"></path><path d=\"M 161.9 85.2 L 132.5 113.8\" id=\"13,10\" style=\"\"></path><path d=\"M 191.3 113.8 L 175.2 142.5\" id=\"12,11\" style=\"\"></path><path d=\"M 161.9 85.2 L 191.3 113.8\" id=\"13,12\" style=\"\"></path><path d=\"M 123.2 56.5 L 161.9 85.2\" id=\"14,13\" style=\"\"></path></g><g class=\"toytree-AdmixEdges\" style=\"fill:rgb(0.0%,0.0%,0.0%);fill-opacity:0.0;stroke:rgb(90.6%,54.1%,76.5%);stroke-opacity:0.6;font-size:14px;stroke-linecap:round;stroke-width:5\"></g><g class=\"toytree-Nodes\" style=\"fill:rgb(40.0%,76.1%,64.7%);fill-opacity:1.0;stroke:rgb(14.5%,14.5%,14.5%);stroke-opacity:1.0;stroke-width:1.0\"><g id=\"Node-0\" transform=\"translate(57.706,142.47)\"><circle r=\"7.5\"></circle></g><g id=\"Node-1\" transform=\"translate(79.0757,142.47)\"><circle r=\"7.5\"></circle></g><g id=\"Node-2\" transform=\"translate(100.445,113.812)\"><circle r=\"7.5\"></circle></g><g id=\"Node-3\" transform=\"translate(121.815,142.47)\"><circle r=\"7.5\"></circle></g><g id=\"Node-4\" transform=\"translate(143.185,142.47)\"><circle r=\"7.5\"></circle></g><g id=\"Node-5\" transform=\"translate(164.555,171.128)\"><circle r=\"7.5\"></circle></g><g id=\"Node-6\" transform=\"translate(185.924,171.128)\"><circle r=\"7.5\"></circle></g><g id=\"Node-7\" transform=\"translate(207.294,142.47)\"><circle r=\"7.5\"></circle></g><g id=\"Node-8\" transform=\"translate(68.3909,113.812)\"><circle r=\"7.5\"></circle></g><g id=\"Node-9\" transform=\"translate(84.4182,85.1539)\"><circle r=\"7.5\"></circle></g><g id=\"Node-10\" transform=\"translate(132.5,113.812)\"><circle r=\"7.5\"></circle></g><g id=\"Node-11\" transform=\"translate(175.239,142.47)\"><circle r=\"7.5\"></circle></g><g id=\"Node-12\" transform=\"translate(191.267,113.812)\"><circle r=\"7.5\"></circle></g><g id=\"Node-13\" transform=\"translate(161.883,85.1539)\"><circle r=\"7.5\"></circle></g><g id=\"Node-14\" transform=\"translate(123.151,56.4958)\"><circle r=\"7.5\"></circle></g></g><g class=\"toytree-NodeLabels\" style=\"font-family:Helvetica;font-size:9px;font-weight:300;vertical-align:baseline;white-space:pre;stroke:none\"><g class=\"toytree-NodeLabel\" transform=\"translate(57.706,142.47)\"><text x=\"-2.5020000000000002\" y=\"2.2995\" style=\"fill:rgb(14.5%,14.5%,14.5%);fill-opacity:1.0\">0</text></g><g class=\"toytree-NodeLabel\" transform=\"translate(79.0757,142.47)\"><text x=\"-2.5020000000000002\" y=\"2.2995\" style=\"fill:rgb(14.5%,14.5%,14.5%);fill-opacity:1.0\">1</text></g><g class=\"toytree-NodeLabel\" transform=\"translate(100.445,113.812)\"><text x=\"-2.5020000000000002\" y=\"2.2995\" style=\"fill:rgb(14.5%,14.5%,14.5%);fill-opacity:1.0\">2</text></g><g class=\"toytree-NodeLabel\" transform=\"translate(121.815,142.47)\"><text x=\"-2.5020000000000002\" y=\"2.2995\" style=\"fill:rgb(14.5%,14.5%,14.5%);fill-opacity:1.0\">3</text></g><g class=\"toytree-NodeLabel\" transform=\"translate(143.185,142.47)\"><text x=\"-2.5020000000000002\" y=\"2.2995\" style=\"fill:rgb(14.5%,14.5%,14.5%);fill-opacity:1.0\">4</text></g><g class=\"toytree-NodeLabel\" transform=\"translate(164.555,171.128)\"><text x=\"-2.5020000000000002\" y=\"2.2995\" style=\"fill:rgb(14.5%,14.5%,14.5%);fill-opacity:1.0\">5</text></g><g class=\"toytree-NodeLabel\" transform=\"translate(185.924,171.128)\"><text x=\"-2.5020000000000002\" y=\"2.2995\" style=\"fill:rgb(14.5%,14.5%,14.5%);fill-opacity:1.0\">6</text></g><g class=\"toytree-NodeLabel\" transform=\"translate(207.294,142.47)\"><text x=\"-2.5020000000000002\" y=\"2.2995\" style=\"fill:rgb(14.5%,14.5%,14.5%);fill-opacity:1.0\">7</text></g><g class=\"toytree-NodeLabel\" transform=\"translate(68.3909,113.812)\"><text x=\"-2.5020000000000002\" y=\"2.2995\" style=\"fill:rgb(14.5%,14.5%,14.5%);fill-opacity:1.0\">8</text></g><g class=\"toytree-NodeLabel\" transform=\"translate(84.4182,85.1539)\"><text x=\"-2.5020000000000002\" y=\"2.2995\" style=\"fill:rgb(14.5%,14.5%,14.5%);fill-opacity:1.0\">9</text></g><g class=\"toytree-NodeLabel\" transform=\"translate(132.5,113.812)\"><text x=\"-5.0040000000000004\" y=\"2.2995\" style=\"fill:rgb(14.5%,14.5%,14.5%);fill-opacity:1.0\">10</text></g><g class=\"toytree-NodeLabel\" transform=\"translate(175.239,142.47)\"><text x=\"-5.0040000000000004\" y=\"2.2995\" style=\"fill:rgb(14.5%,14.5%,14.5%);fill-opacity:1.0\">11</text></g><g class=\"toytree-NodeLabel\" transform=\"translate(191.267,113.812)\"><text x=\"-5.0040000000000004\" y=\"2.2995\" style=\"fill:rgb(14.5%,14.5%,14.5%);fill-opacity:1.0\">12</text></g><g class=\"toytree-NodeLabel\" transform=\"translate(161.883,85.1539)\"><text x=\"-5.0040000000000004\" y=\"2.2995\" style=\"fill:rgb(14.5%,14.5%,14.5%);fill-opacity:1.0\">13</text></g><g class=\"toytree-NodeLabel\" transform=\"translate(123.151,56.4958)\"><text x=\"-5.0040000000000004\" y=\"2.2995\" style=\"fill:rgb(14.5%,14.5%,14.5%);fill-opacity:1.0\">14</text></g></g><g class=\"toytree-TipLabels\" style=\"fill:rgb(14.5%,14.5%,14.5%);fill-opacity:1.0;font-family:Helvetica;font-size:10px;font-weight:300;vertical-align:baseline;white-space:pre;stroke:none\"><g class=\"toytree-TipLabel\" transform=\"translate(57.706,142.47)rotate(90)\"><text x=\"10.0\" y=\"2.5549999999999997\" style=\"fill:rgb(14.5%,14.5%,14.5%);fill-opacity:1.0\">r0</text></g><g class=\"toytree-TipLabel\" transform=\"translate(79.0757,142.47)rotate(90)\"><text x=\"10.0\" y=\"2.5549999999999997\" style=\"fill:rgb(14.5%,14.5%,14.5%);fill-opacity:1.0\">r1</text></g><g class=\"toytree-TipLabel\" transform=\"translate(100.445,113.812)rotate(90)\"><text x=\"10.0\" y=\"2.5549999999999997\" style=\"fill:rgb(14.5%,14.5%,14.5%);fill-opacity:1.0\">r2</text></g><g class=\"toytree-TipLabel\" transform=\"translate(121.815,142.47)rotate(90)\"><text x=\"10.0\" y=\"2.5549999999999997\" style=\"fill:rgb(14.5%,14.5%,14.5%);fill-opacity:1.0\">r3</text></g><g class=\"toytree-TipLabel\" transform=\"translate(143.185,142.47)rotate(90)\"><text x=\"10.0\" y=\"2.5549999999999997\" style=\"fill:rgb(14.5%,14.5%,14.5%);fill-opacity:1.0\">r4</text></g><g class=\"toytree-TipLabel\" transform=\"translate(164.555,171.128)rotate(90)\"><text x=\"10.0\" y=\"2.5549999999999997\" style=\"fill:rgb(14.5%,14.5%,14.5%);fill-opacity:1.0\">r5</text></g><g class=\"toytree-TipLabel\" transform=\"translate(185.924,171.128)rotate(90)\"><text x=\"10.0\" y=\"2.5549999999999997\" style=\"fill:rgb(14.5%,14.5%,14.5%);fill-opacity:1.0\">r6</text></g><g class=\"toytree-TipLabel\" transform=\"translate(207.294,142.47)rotate(90)\"><text x=\"10.0\" y=\"2.5549999999999997\" style=\"fill:rgb(14.5%,14.5%,14.5%);fill-opacity:1.0\">r7</text></g></g></g></g><g class=\"toyplot-coordinates-Axis\" id=\"te97fb80718224a87b7f19ba7ae0130c9\" transform=\"translate(50.0,200.0)rotate(-90.0)translate(0,-10.0)\"><line x1=\"28.872019563888323\" y1=\"0\" x2=\"143.50417770531894\" y2=\"0\" style=\"\"></line><g><line x1=\"28.872019563888323\" y1=\"0\" x2=\"28.872019563888323\" y2=\"5\" style=\"\"></line><line x1=\"57.53005909924598\" y1=\"0\" x2=\"57.53005909924598\" y2=\"5\" style=\"\"></line><line x1=\"86.18809863460362\" y1=\"0\" x2=\"86.18809863460362\" y2=\"5\" style=\"\"></line><line x1=\"114.84613816996129\" y1=\"0\" x2=\"114.84613816996129\" y2=\"5\" style=\"\"></line><line x1=\"143.50417770531894\" y1=\"0\" x2=\"143.50417770531894\" y2=\"5\" style=\"\"></line></g><g><g transform=\"translate(28.872019563888323,-6)\"><text x=\"-2.78\" y=\"-4.440892098500626e-16\" style=\"fill:rgb(16.1%,15.3%,14.1%);fill-opacity:1.0;font-family:helvetica;font-size:10.0px;font-weight:normal;stroke:none;vertical-align:baseline;white-space:pre\">0</text></g><g transform=\"translate(57.53005909924598,-6)\"><text x=\"-2.78\" y=\"-4.440892098500626e-16\" style=\"fill:rgb(16.1%,15.3%,14.1%);fill-opacity:1.0;font-family:helvetica;font-size:10.0px;font-weight:normal;stroke:none;vertical-align:baseline;white-space:pre\">1</text></g><g transform=\"translate(86.18809863460362,-6)\"><text x=\"-2.78\" y=\"-4.440892098500626e-16\" style=\"fill:rgb(16.1%,15.3%,14.1%);fill-opacity:1.0;font-family:helvetica;font-size:10.0px;font-weight:normal;stroke:none;vertical-align:baseline;white-space:pre\">2</text></g><g transform=\"translate(114.84613816996129,-6)\"><text x=\"-2.78\" y=\"-4.440892098500626e-16\" style=\"fill:rgb(16.1%,15.3%,14.1%);fill-opacity:1.0;font-family:helvetica;font-size:10.0px;font-weight:normal;stroke:none;vertical-align:baseline;white-space:pre\">3</text></g><g transform=\"translate(143.50417770531894,-6)\"><text x=\"-2.78\" y=\"-4.440892098500626e-16\" style=\"fill:rgb(16.1%,15.3%,14.1%);fill-opacity:1.0;font-family:helvetica;font-size:10.0px;font-weight:normal;stroke:none;vertical-align:baseline;white-space:pre\">4</text></g></g><g class=\"toyplot-coordinates-Axis-coordinates\" style=\"visibility:hidden\" transform=\"\"><line x1=\"0\" x2=\"0\" y1=\"3.0\" y2=\"-4.5\" style=\"stroke:rgb(43.9%,50.2%,56.5%);stroke-opacity:1.0;stroke-width:1.0\"></line><text x=\"0\" y=\"6\" style=\"alignment-baseline:hanging;fill:rgb(43.9%,50.2%,56.5%);fill-opacity:1.0;font-size:10px;font-weight:normal;stroke:none;text-anchor:middle\"></text></g></g></g><g class=\"toyplot-coordinates-Cartesian\" id=\"td98df951fe094518be2cd8a2dd96ee96\"><clipPath id=\"t8acad915e22249c5885950429c5a5b91\"><rect x=\"265.0\" y=\"40.0\" width=\"185.0\" height=\"170.0\"></rect></clipPath><g clip-path=\"url(#t8acad915e22249c5885950429c5a5b91)\"><g class=\"toytree-mark-Toytree\" id=\"t8ec63c288b1f44caba4f69d7ff06421d\"><g class=\"toytree-Edges\" style=\"stroke:rgb(14.5%,14.5%,14.5%);stroke-opacity:1.0;stroke-linecap:round;stroke-width:2.0;fill:none\"><path d=\"M 293.4 94.7 L 282.7 152.0\" id=\"8,0\" style=\"\"></path><path d=\"M 293.4 94.7 L 304.1 171.1\" id=\"8,1\" style=\"\"></path><path d=\"M 309.4 75.6 L 325.4 94.7\" id=\"9,2\" style=\"\"></path><path d=\"M 357.5 94.7 L 346.8 113.8\" id=\"10,3\" style=\"\"></path><path d=\"M 357.5 94.7 L 368.2 113.8\" id=\"10,4\" style=\"\"></path><path d=\"M 400.2 113.8 L 389.6 132.9\" id=\"11,5\" style=\"\"></path><path d=\"M 400.2 113.8 L 410.9 132.9\" id=\"11,6\" style=\"\"></path><path d=\"M 416.3 94.7 L 432.3 113.8\" id=\"12,7\" style=\"\"></path><path d=\"M 309.4 75.6 L 293.4 94.7\" id=\"9,8\" style=\"\"></path><path d=\"M 348.2 56.5 L 309.4 75.6\" id=\"14,9\" style=\"\"></path><path d=\"M 386.9 75.6 L 357.5 94.7\" id=\"13,10\" style=\"\"></path><path d=\"M 416.3 94.7 L 400.2 113.8\" id=\"12,11\" style=\"\"></path><path d=\"M 386.9 75.6 L 416.3 94.7\" id=\"13,12\" style=\"\"></path><path d=\"M 348.2 56.5 L 386.9 75.6\" id=\"14,13\" style=\"\"></path></g><g class=\"toytree-AdmixEdges\" style=\"fill:rgb(0.0%,0.0%,0.0%);fill-opacity:0.0;stroke:rgb(90.6%,54.1%,76.5%);stroke-opacity:0.6;font-size:14px;stroke-linecap:round;stroke-width:5\"></g><g class=\"toytree-Nodes\" style=\"fill:rgb(40.0%,76.1%,64.7%);fill-opacity:1.0;stroke:rgb(14.5%,14.5%,14.5%);stroke-opacity:1.0;stroke-width:1.0\"><g id=\"Node-0\" transform=\"translate(282.706,152.023)\"><circle r=\"7.5\"></circle></g><g id=\"Node-1\" transform=\"translate(304.076,171.128)\"><circle r=\"7.5\"></circle></g><g id=\"Node-2\" transform=\"translate(325.445,94.7065)\"><circle r=\"7.5\"></circle></g><g id=\"Node-3\" transform=\"translate(346.815,113.812)\"><circle r=\"7.5\"></circle></g><g id=\"Node-4\" transform=\"translate(368.185,113.812)\"><circle r=\"7.5\"></circle></g><g id=\"Node-5\" transform=\"translate(389.555,132.917)\"><circle r=\"7.5\"></circle></g><g id=\"Node-6\" transform=\"translate(410.924,132.917)\"><circle r=\"7.5\"></circle></g><g id=\"Node-7\" transform=\"translate(432.294,113.812)\"><circle r=\"7.5\"></circle></g><g id=\"Node-8\" transform=\"translate(293.391,94.7065)\"><circle r=\"7.5\"></circle></g><g id=\"Node-9\" transform=\"translate(309.418,75.6012)\"><circle r=\"7.5\"></circle></g><g id=\"Node-10\" transform=\"translate(357.5,94.7065)\"><circle r=\"7.5\"></circle></g><g id=\"Node-11\" transform=\"translate(400.239,113.812)\"><circle r=\"7.5\"></circle></g><g id=\"Node-12\" transform=\"translate(416.267,94.7065)\"><circle r=\"7.5\"></circle></g><g id=\"Node-13\" transform=\"translate(386.883,75.6012)\"><circle r=\"7.5\"></circle></g><g id=\"Node-14\" transform=\"translate(348.151,56.4958)\"><circle r=\"7.5\"></circle></g></g><g class=\"toytree-NodeLabels\" style=\"font-family:Helvetica;font-size:9px;font-weight:300;vertical-align:baseline;white-space:pre;stroke:none\"><g class=\"toytree-NodeLabel\" transform=\"translate(282.706,152.023)\"><text x=\"-2.5020000000000002\" y=\"2.2995\" style=\"fill:rgb(14.5%,14.5%,14.5%);fill-opacity:1.0\">0</text></g><g class=\"toytree-NodeLabel\" transform=\"translate(304.076,171.128)\"><text x=\"-2.5020000000000002\" y=\"2.2995\" style=\"fill:rgb(14.5%,14.5%,14.5%);fill-opacity:1.0\">1</text></g><g class=\"toytree-NodeLabel\" transform=\"translate(325.445,94.7065)\"><text x=\"-2.5020000000000002\" y=\"2.2995\" style=\"fill:rgb(14.5%,14.5%,14.5%);fill-opacity:1.0\">2</text></g><g class=\"toytree-NodeLabel\" transform=\"translate(346.815,113.812)\"><text x=\"-2.5020000000000002\" y=\"2.2995\" style=\"fill:rgb(14.5%,14.5%,14.5%);fill-opacity:1.0\">3</text></g><g class=\"toytree-NodeLabel\" transform=\"translate(368.185,113.812)\"><text x=\"-2.5020000000000002\" y=\"2.2995\" style=\"fill:rgb(14.5%,14.5%,14.5%);fill-opacity:1.0\">4</text></g><g class=\"toytree-NodeLabel\" transform=\"translate(389.555,132.917)\"><text x=\"-2.5020000000000002\" y=\"2.2995\" style=\"fill:rgb(14.5%,14.5%,14.5%);fill-opacity:1.0\">5</text></g><g class=\"toytree-NodeLabel\" transform=\"translate(410.924,132.917)\"><text x=\"-2.5020000000000002\" y=\"2.2995\" style=\"fill:rgb(14.5%,14.5%,14.5%);fill-opacity:1.0\">6</text></g><g class=\"toytree-NodeLabel\" transform=\"translate(432.294,113.812)\"><text x=\"-2.5020000000000002\" y=\"2.2995\" style=\"fill:rgb(14.5%,14.5%,14.5%);fill-opacity:1.0\">7</text></g><g class=\"toytree-NodeLabel\" transform=\"translate(293.391,94.7065)\"><text x=\"-2.5020000000000002\" y=\"2.2995\" style=\"fill:rgb(14.5%,14.5%,14.5%);fill-opacity:1.0\">8</text></g><g class=\"toytree-NodeLabel\" transform=\"translate(309.418,75.6012)\"><text x=\"-2.5020000000000002\" y=\"2.2995\" style=\"fill:rgb(14.5%,14.5%,14.5%);fill-opacity:1.0\">9</text></g><g class=\"toytree-NodeLabel\" transform=\"translate(357.5,94.7065)\"><text x=\"-5.0040000000000004\" y=\"2.2995\" style=\"fill:rgb(14.5%,14.5%,14.5%);fill-opacity:1.0\">10</text></g><g class=\"toytree-NodeLabel\" transform=\"translate(400.239,113.812)\"><text x=\"-5.0040000000000004\" y=\"2.2995\" style=\"fill:rgb(14.5%,14.5%,14.5%);fill-opacity:1.0\">11</text></g><g class=\"toytree-NodeLabel\" transform=\"translate(416.267,94.7065)\"><text x=\"-5.0040000000000004\" y=\"2.2995\" style=\"fill:rgb(14.5%,14.5%,14.5%);fill-opacity:1.0\">12</text></g><g class=\"toytree-NodeLabel\" transform=\"translate(386.883,75.6012)\"><text x=\"-5.0040000000000004\" y=\"2.2995\" style=\"fill:rgb(14.5%,14.5%,14.5%);fill-opacity:1.0\">13</text></g><g class=\"toytree-NodeLabel\" transform=\"translate(348.151,56.4958)\"><text x=\"-5.0040000000000004\" y=\"2.2995\" style=\"fill:rgb(14.5%,14.5%,14.5%);fill-opacity:1.0\">14</text></g></g><g class=\"toytree-TipLabels\" style=\"fill:rgb(14.5%,14.5%,14.5%);fill-opacity:1.0;font-family:Helvetica;font-size:10px;font-weight:300;vertical-align:baseline;white-space:pre;stroke:none\"><g class=\"toytree-TipLabel\" transform=\"translate(282.706,152.023)rotate(90)\"><text x=\"10.0\" y=\"2.5549999999999997\" style=\"fill:rgb(14.5%,14.5%,14.5%);fill-opacity:1.0\">r0</text></g><g class=\"toytree-TipLabel\" transform=\"translate(304.076,171.128)rotate(90)\"><text x=\"10.0\" y=\"2.5549999999999997\" style=\"fill:rgb(14.5%,14.5%,14.5%);fill-opacity:1.0\">r1</text></g><g class=\"toytree-TipLabel\" transform=\"translate(325.445,94.7065)rotate(90)\"><text x=\"10.0\" y=\"2.5549999999999997\" style=\"fill:rgb(14.5%,14.5%,14.5%);fill-opacity:1.0\">r2</text></g><g class=\"toytree-TipLabel\" transform=\"translate(346.815,113.812)rotate(90)\"><text x=\"10.0\" y=\"2.5549999999999997\" style=\"fill:rgb(14.5%,14.5%,14.5%);fill-opacity:1.0\">r3</text></g><g class=\"toytree-TipLabel\" transform=\"translate(368.185,113.812)rotate(90)\"><text x=\"10.0\" y=\"2.5549999999999997\" style=\"fill:rgb(14.5%,14.5%,14.5%);fill-opacity:1.0\">r4</text></g><g class=\"toytree-TipLabel\" transform=\"translate(389.555,132.917)rotate(90)\"><text x=\"10.0\" y=\"2.5549999999999997\" style=\"fill:rgb(14.5%,14.5%,14.5%);fill-opacity:1.0\">r5</text></g><g class=\"toytree-TipLabel\" transform=\"translate(410.924,132.917)rotate(90)\"><text x=\"10.0\" y=\"2.5549999999999997\" style=\"fill:rgb(14.5%,14.5%,14.5%);fill-opacity:1.0\">r6</text></g><g class=\"toytree-TipLabel\" transform=\"translate(432.294,113.812)rotate(90)\"><text x=\"10.0\" y=\"2.5549999999999997\" style=\"fill:rgb(14.5%,14.5%,14.5%);fill-opacity:1.0\">r7</text></g></g></g></g><g class=\"toyplot-coordinates-Axis\" id=\"tb8067364c422492bbaf2a7b1bcc814f2\" transform=\"translate(275.0,200.0)rotate(-90.0)translate(0,-10.0)\"><line x1=\"28.872019563888323\" y1=\"0\" x2=\"143.50417770531894\" y2=\"0\" style=\"\"></line><g><line x1=\"28.872019563888323\" y1=\"0\" x2=\"28.872019563888323\" y2=\"5\" style=\"\"></line><line x1=\"67.08273894436519\" y1=\"0\" x2=\"67.08273894436519\" y2=\"5\" style=\"\"></line><line x1=\"105.29345832484206\" y1=\"0\" x2=\"105.29345832484206\" y2=\"5\" style=\"\"></line><line x1=\"143.50417770531894\" y1=\"0\" x2=\"143.50417770531894\" y2=\"5\" style=\"\"></line></g><g><g transform=\"translate(28.872019563888323,-6)\"><text x=\"-2.78\" y=\"-4.440892098500626e-16\" style=\"fill:rgb(16.1%,15.3%,14.1%);fill-opacity:1.0;font-family:helvetica;font-size:10.0px;font-weight:normal;stroke:none;vertical-align:baseline;white-space:pre\">0</text></g><g transform=\"translate(67.08273894436519,-6)\"><text x=\"-2.78\" y=\"-4.440892098500626e-16\" style=\"fill:rgb(16.1%,15.3%,14.1%);fill-opacity:1.0;font-family:helvetica;font-size:10.0px;font-weight:normal;stroke:none;vertical-align:baseline;white-space:pre\">2</text></g><g transform=\"translate(105.29345832484206,-6)\"><text x=\"-2.78\" y=\"-4.440892098500626e-16\" style=\"fill:rgb(16.1%,15.3%,14.1%);fill-opacity:1.0;font-family:helvetica;font-size:10.0px;font-weight:normal;stroke:none;vertical-align:baseline;white-space:pre\">4</text></g><g transform=\"translate(143.50417770531894,-6)\"><text x=\"-2.78\" y=\"-4.440892098500626e-16\" style=\"fill:rgb(16.1%,15.3%,14.1%);fill-opacity:1.0;font-family:helvetica;font-size:10.0px;font-weight:normal;stroke:none;vertical-align:baseline;white-space:pre\">6</text></g></g><g class=\"toyplot-coordinates-Axis-coordinates\" style=\"visibility:hidden\" transform=\"\"><line x1=\"0\" x2=\"0\" y1=\"3.0\" y2=\"-4.5\" style=\"stroke:rgb(43.9%,50.2%,56.5%);stroke-opacity:1.0;stroke-width:1.0\"></line><text x=\"0\" y=\"6\" style=\"alignment-baseline:hanging;fill:rgb(43.9%,50.2%,56.5%);fill-opacity:1.0;font-size:10px;font-weight:normal;stroke:none;text-anchor:middle\"></text></g></g></g></svg><div class=\"toyplot-behavior\"><script>(function()\n",
       "{\n",
       "var modules={};\n",
       "modules[\"toyplot/canvas/id\"] = \"t3032e8b2169941db802bd26b1b1e0ba8\";\n",
       "modules[\"toyplot/canvas\"] = (function(canvas_id)\n",
       "    {\n",
       "        return document.querySelector(\"#\" + canvas_id);\n",
       "    })(modules[\"toyplot/canvas/id\"]);\n",
       "modules[\"toyplot.coordinates.Axis\"] = (\n",
       "        function(canvas)\n",
       "        {\n",
       "            function sign(x)\n",
       "            {\n",
       "                return x < 0 ? -1 : x > 0 ? 1 : 0;\n",
       "            }\n",
       "\n",
       "            function mix(a, b, amount)\n",
       "            {\n",
       "                return ((1.0 - amount) * a) + (amount * b);\n",
       "            }\n",
       "\n",
       "            function log(x, base)\n",
       "            {\n",
       "                return Math.log(Math.abs(x)) / Math.log(base);\n",
       "            }\n",
       "\n",
       "            function in_range(a, x, b)\n",
       "            {\n",
       "                var left = Math.min(a, b);\n",
       "                var right = Math.max(a, b);\n",
       "                return left <= x && x <= right;\n",
       "            }\n",
       "\n",
       "            function inside(range, projection)\n",
       "            {\n",
       "                for(var i = 0; i != projection.length; ++i)\n",
       "                {\n",
       "                    var segment = projection[i];\n",
       "                    if(in_range(segment.range.min, range, segment.range.max))\n",
       "                        return true;\n",
       "                }\n",
       "                return false;\n",
       "            }\n",
       "\n",
       "            function to_domain(range, projection)\n",
       "            {\n",
       "                for(var i = 0; i != projection.length; ++i)\n",
       "                {\n",
       "                    var segment = projection[i];\n",
       "                    if(in_range(segment.range.bounds.min, range, segment.range.bounds.max))\n",
       "                    {\n",
       "                        if(segment.scale == \"linear\")\n",
       "                        {\n",
       "                            var amount = (range - segment.range.min) / (segment.range.max - segment.range.min);\n",
       "                            return mix(segment.domain.min, segment.domain.max, amount)\n",
       "                        }\n",
       "                        else if(segment.scale[0] == \"log\")\n",
       "                        {\n",
       "                            var amount = (range - segment.range.min) / (segment.range.max - segment.range.min);\n",
       "                            var base = segment.scale[1];\n",
       "                            return sign(segment.domain.min) * Math.pow(base, mix(log(segment.domain.min, base), log(segment.domain.max, base), amount));\n",
       "                        }\n",
       "                    }\n",
       "                }\n",
       "            }\n",
       "\n",
       "            var axes = {};\n",
       "\n",
       "            function display_coordinates(e)\n",
       "            {\n",
       "                var current = canvas.createSVGPoint();\n",
       "                current.x = e.clientX;\n",
       "                current.y = e.clientY;\n",
       "\n",
       "                for(var axis_id in axes)\n",
       "                {\n",
       "                    var axis = document.querySelector(\"#\" + axis_id);\n",
       "                    var coordinates = axis.querySelector(\".toyplot-coordinates-Axis-coordinates\");\n",
       "                    if(coordinates)\n",
       "                    {\n",
       "                        var projection = axes[axis_id];\n",
       "                        var local = current.matrixTransform(axis.getScreenCTM().inverse());\n",
       "                        if(inside(local.x, projection))\n",
       "                        {\n",
       "                            var domain = to_domain(local.x, projection);\n",
       "                            coordinates.style.visibility = \"visible\";\n",
       "                            coordinates.setAttribute(\"transform\", \"translate(\" + local.x + \")\");\n",
       "                            var text = coordinates.querySelector(\"text\");\n",
       "                            text.textContent = domain.toFixed(2);\n",
       "                        }\n",
       "                        else\n",
       "                        {\n",
       "                            coordinates.style.visibility= \"hidden\";\n",
       "                        }\n",
       "                    }\n",
       "                }\n",
       "            }\n",
       "\n",
       "            canvas.addEventListener(\"click\", display_coordinates);\n",
       "\n",
       "            var module = {};\n",
       "            module.show_coordinates = function(axis_id, projection)\n",
       "            {\n",
       "                axes[axis_id] = projection;\n",
       "            }\n",
       "\n",
       "            return module;\n",
       "        })(modules[\"toyplot/canvas\"]);\n",
       "(function(axis, axis_id, projection)\n",
       "        {\n",
       "            axis.show_coordinates(axis_id, projection);\n",
       "        })(modules[\"toyplot.coordinates.Axis\"],\"te97fb80718224a87b7f19ba7ae0130c9\",[{\"domain\": {\"bounds\": {\"max\": Infinity, \"min\": -Infinity}, \"max\": 4.226666666666667, \"min\": -1.0074666666666667}, \"range\": {\"bounds\": {\"max\": Infinity, \"min\": -Infinity}, \"max\": 150.0, \"min\": 0.0}, \"scale\": \"linear\"}]);\n",
       "(function(axis, axis_id, projection)\n",
       "        {\n",
       "            axis.show_coordinates(axis_id, projection);\n",
       "        })(modules[\"toyplot.coordinates.Axis\"],\"tb8067364c422492bbaf2a7b1bcc814f2\",[{\"domain\": {\"bounds\": {\"max\": Infinity, \"min\": -Infinity}, \"max\": 6.34, \"min\": -1.5112}, \"range\": {\"bounds\": {\"max\": Infinity, \"min\": -Infinity}, \"max\": 150.0, \"min\": 0.0}, \"scale\": \"linear\"}]);\n",
       "})();</script></div></div>"
      ]
     },
     "metadata": {},
     "output_type": "display_data"
    }
   ],
   "source": [
    "# create a new tree copy\n",
    "modtree = tree.copy()\n",
    "\n",
    "# modify one or more private node attributes\n",
    "modtree[0]._dist += 2\n",
    "modtree[1]._dist += 3\n",
    "\n",
    "# call update to update idxs, heights, etc.\n",
    "modtree._update()\n",
    "\n",
    "# show the old and new tree with longer .dists for nodes 0,1 and .heights for all nodes\n",
    "toytree.mtree([tree, modtree]).draw(ts='p', scale_bar=True);"
   ]
  },
  {
   "cell_type": "markdown",
   "id": "7665b2fd-cc03-4204-9a4d-e57e006eb2a7",
   "metadata": {},
   "source": [
    "## Building trees from Nodes\n",
    "There are several ways of constructing trees in `toytree` from scratch. This most simple is to use one of the random tree generation functions from the `toytree.rtree` subpackage. A second method is to write a Newick string and parse it using the `toytree.tree` function. A third is to build or modify a tree using one or more functions from `toytree.mod` such as `.add_child_node`. And finally, the fourth method is to link together `Node` objects manually. The last is the most low-level method, which requires eventually calling `ToyTree._update()` to cache the traversal order and store idx values. Each of these is demonstrated below."
   ]
  },
  {
   "cell_type": "markdown",
   "id": "332c8589-de15-4399-a1f5-15c3edf54546",
   "metadata": {},
   "source": [
    "1. Generate random or fixed trees. See the `rtree` documentation section for more details. This includes options to generate trees under a variety of algorithms and of different sizes."
   ]
  },
  {
   "cell_type": "code",
   "execution_count": 35,
   "id": "2b63617b-86e9-4964-bd04-57d638ab8c97",
   "metadata": {},
   "outputs": [
    {
     "data": {
      "text/html": [
       "<div class=\"toyplot\" id=\"tc65447c4621a436ea1150e4e40ab31a4\" style=\"text-align:center\"><svg class=\"toyplot-canvas-Canvas\" xmlns:toyplot=\"http://www.sandia.gov/toyplot\" xmlns:xlink=\"http://www.w3.org/1999/xlink\" xmlns=\"http://www.w3.org/2000/svg\" width=\"300.0px\" height=\"275.0px\" viewBox=\"0 0 300.0 275.0\" preserveAspectRatio=\"xMidYMid meet\" style=\"background-color:transparent;border-color:#292724;border-style:none;border-width:1.0;fill:rgb(16.1%,15.3%,14.1%);fill-opacity:1.0;font-family:Helvetica;font-size:12px;opacity:1.0;stroke:rgb(16.1%,15.3%,14.1%);stroke-opacity:1.0;stroke-width:1.0\" id=\"t461e4fc5d20245a9acbee8607c0e684a\"><g class=\"toyplot-coordinates-Cartesian\" id=\"t25145939de1f41cca49494435d0002e2\"><clipPath id=\"t773773b53a8c4a5c8b96ec81e6e97f99\"><rect x=\"35.0\" y=\"35.0\" width=\"230.0\" height=\"205.0\"></rect></clipPath><g clip-path=\"url(#t773773b53a8c4a5c8b96ec81e6e97f99)\"><g class=\"toytree-mark-Toytree\" id=\"t519fd06ecbae40e89a143322cbc7071c\"><g class=\"toytree-Edges\" style=\"stroke:rgb(14.5%,14.5%,14.5%);stroke-opacity:1.0;stroke-linecap:round;stroke-width:2.0;fill:none\"><path d=\"M 103.6 194.1 L 103.6 218.3 L 209.3 218.3\" id=\"7,0\" style=\"\"></path><path d=\"M 156.5 169.8 L 156.5 186.0 L 209.3 186.0\" id=\"6,1\" style=\"\"></path><path d=\"M 156.5 169.8 L 156.5 153.7 L 209.3 153.7\" id=\"6,2\" style=\"\"></path><path d=\"M 103.6 97.1 L 103.6 121.3 L 209.3 121.3\" id=\"9,3\" style=\"\"></path><path d=\"M 156.5 72.8 L 156.5 89.0 L 209.3 89.0\" id=\"8,4\" style=\"\"></path><path d=\"M 156.5 72.8 L 156.5 56.7 L 209.3 56.7\" id=\"8,5\" style=\"\"></path><path d=\"M 103.6 194.1 L 103.6 169.8 L 156.5 169.8\" id=\"7,6\" style=\"\"></path><path d=\"M 50.8 145.6 L 50.8 194.1 L 103.6 194.1\" id=\"10,7\" style=\"\"></path><path d=\"M 103.6 97.1 L 103.6 72.8 L 156.5 72.8\" id=\"9,8\" style=\"\"></path><path d=\"M 50.8 145.6 L 50.8 97.1 L 103.6 97.1\" id=\"10,9\" style=\"\"></path></g><g class=\"toytree-AdmixEdges\" style=\"fill:rgb(0.0%,0.0%,0.0%);fill-opacity:0.0;stroke:rgb(90.6%,54.1%,76.5%);stroke-opacity:0.6;font-size:14px;stroke-linecap:round;stroke-width:5\"></g><g class=\"toytree-Nodes\" style=\"fill:rgb(40.0%,76.1%,64.7%);fill-opacity:1.0;stroke:rgb(14.9%,14.9%,14.9%);stroke-opacity:1.0;stroke-width:1.5\"></g><g class=\"toytree-TipLabels\" style=\"fill:rgb(14.5%,14.5%,14.5%);fill-opacity:1.0;font-family:Helvetica;font-size:12px;font-weight:300;vertical-align:baseline;white-space:pre;stroke:none\"><g class=\"toytree-TipLabel\" transform=\"translate(209.311,218.347)\"><text x=\"15.0\" y=\"3.066\" style=\"fill:rgb(14.5%,14.5%,14.5%);fill-opacity:1.0\">r0</text></g><g class=\"toytree-TipLabel\" transform=\"translate(209.311,186.008)\"><text x=\"15.0\" y=\"3.066\" style=\"fill:rgb(14.5%,14.5%,14.5%);fill-opacity:1.0\">r1</text></g><g class=\"toytree-TipLabel\" transform=\"translate(209.311,153.669)\"><text x=\"15.0\" y=\"3.066\" style=\"fill:rgb(14.5%,14.5%,14.5%);fill-opacity:1.0\">r2</text></g><g class=\"toytree-TipLabel\" transform=\"translate(209.311,121.331)\"><text x=\"15.0\" y=\"3.066\" style=\"fill:rgb(14.5%,14.5%,14.5%);fill-opacity:1.0\">r3</text></g><g class=\"toytree-TipLabel\" transform=\"translate(209.311,88.9916)\"><text x=\"15.0\" y=\"3.066\" style=\"fill:rgb(14.5%,14.5%,14.5%);fill-opacity:1.0\">r4</text></g><g class=\"toytree-TipLabel\" transform=\"translate(209.311,56.6526)\"><text x=\"15.0\" y=\"3.066\" style=\"fill:rgb(14.5%,14.5%,14.5%);fill-opacity:1.0\">r5</text></g></g></g></g><g class=\"toyplot-coordinates-Axis\" id=\"t7c82aa21b4c044acb2deae451146d9d9\" transform=\"translate(50.0,225.0)translate(0,15.0)\"><line x1=\"0.7925940016485771\" y1=\"0\" x2=\"159.31139433136767\" y2=\"0\" style=\"\"></line><g><line x1=\"0.7925940016485771\" y1=\"0\" x2=\"0.7925940016485771\" y2=\"-5\" style=\"\"></line><line x1=\"80.05199416650814\" y1=\"0\" x2=\"80.05199416650814\" y2=\"-5\" style=\"\"></line><line x1=\"159.31139433136767\" y1=\"0\" x2=\"159.31139433136767\" y2=\"-5\" style=\"\"></line></g><g><g transform=\"translate(0.7925940016485771,6)\"><text x=\"-19.459999999999997\" y=\"8.555\" style=\"fill:rgb(16.1%,15.3%,14.1%);fill-opacity:1.0;font-family:helvetica;font-size:10.0px;font-weight:normal;stroke:none;vertical-align:baseline;white-space:pre\">1000000</text></g><g transform=\"translate(80.05199416650814,6)\"><text x=\"-16.68\" y=\"8.555\" style=\"fill:rgb(16.1%,15.3%,14.1%);fill-opacity:1.0;font-family:helvetica;font-size:10.0px;font-weight:normal;stroke:none;vertical-align:baseline;white-space:pre\">500000</text></g><g transform=\"translate(159.31139433136767,6)\"><text x=\"-2.78\" y=\"8.555\" style=\"fill:rgb(16.1%,15.3%,14.1%);fill-opacity:1.0;font-family:helvetica;font-size:10.0px;font-weight:normal;stroke:none;vertical-align:baseline;white-space:pre\">0</text></g></g><g class=\"toyplot-coordinates-Axis-coordinates\" style=\"visibility:hidden\" transform=\"\"><line x1=\"0\" x2=\"0\" y1=\"-3.0\" y2=\"4.5\" style=\"stroke:rgb(43.9%,50.2%,56.5%);stroke-opacity:1.0;stroke-width:1.0\"></line><text x=\"0\" y=\"-6\" style=\"alignment-baseline:alphabetic;fill:rgb(43.9%,50.2%,56.5%);fill-opacity:1.0;font-size:10px;font-weight:normal;stroke:none;text-anchor:middle\"></text></g></g></g></svg><div class=\"toyplot-behavior\"><script>(function()\n",
       "{\n",
       "var modules={};\n",
       "modules[\"toyplot/canvas/id\"] = \"t461e4fc5d20245a9acbee8607c0e684a\";\n",
       "modules[\"toyplot/canvas\"] = (function(canvas_id)\n",
       "    {\n",
       "        return document.querySelector(\"#\" + canvas_id);\n",
       "    })(modules[\"toyplot/canvas/id\"]);\n",
       "modules[\"toyplot.coordinates.Axis\"] = (\n",
       "        function(canvas)\n",
       "        {\n",
       "            function sign(x)\n",
       "            {\n",
       "                return x < 0 ? -1 : x > 0 ? 1 : 0;\n",
       "            }\n",
       "\n",
       "            function mix(a, b, amount)\n",
       "            {\n",
       "                return ((1.0 - amount) * a) + (amount * b);\n",
       "            }\n",
       "\n",
       "            function log(x, base)\n",
       "            {\n",
       "                return Math.log(Math.abs(x)) / Math.log(base);\n",
       "            }\n",
       "\n",
       "            function in_range(a, x, b)\n",
       "            {\n",
       "                var left = Math.min(a, b);\n",
       "                var right = Math.max(a, b);\n",
       "                return left <= x && x <= right;\n",
       "            }\n",
       "\n",
       "            function inside(range, projection)\n",
       "            {\n",
       "                for(var i = 0; i != projection.length; ++i)\n",
       "                {\n",
       "                    var segment = projection[i];\n",
       "                    if(in_range(segment.range.min, range, segment.range.max))\n",
       "                        return true;\n",
       "                }\n",
       "                return false;\n",
       "            }\n",
       "\n",
       "            function to_domain(range, projection)\n",
       "            {\n",
       "                for(var i = 0; i != projection.length; ++i)\n",
       "                {\n",
       "                    var segment = projection[i];\n",
       "                    if(in_range(segment.range.bounds.min, range, segment.range.bounds.max))\n",
       "                    {\n",
       "                        if(segment.scale == \"linear\")\n",
       "                        {\n",
       "                            var amount = (range - segment.range.min) / (segment.range.max - segment.range.min);\n",
       "                            return mix(segment.domain.min, segment.domain.max, amount)\n",
       "                        }\n",
       "                        else if(segment.scale[0] == \"log\")\n",
       "                        {\n",
       "                            var amount = (range - segment.range.min) / (segment.range.max - segment.range.min);\n",
       "                            var base = segment.scale[1];\n",
       "                            return sign(segment.domain.min) * Math.pow(base, mix(log(segment.domain.min, base), log(segment.domain.max, base), amount));\n",
       "                        }\n",
       "                    }\n",
       "                }\n",
       "            }\n",
       "\n",
       "            var axes = {};\n",
       "\n",
       "            function display_coordinates(e)\n",
       "            {\n",
       "                var current = canvas.createSVGPoint();\n",
       "                current.x = e.clientX;\n",
       "                current.y = e.clientY;\n",
       "\n",
       "                for(var axis_id in axes)\n",
       "                {\n",
       "                    var axis = document.querySelector(\"#\" + axis_id);\n",
       "                    var coordinates = axis.querySelector(\".toyplot-coordinates-Axis-coordinates\");\n",
       "                    if(coordinates)\n",
       "                    {\n",
       "                        var projection = axes[axis_id];\n",
       "                        var local = current.matrixTransform(axis.getScreenCTM().inverse());\n",
       "                        if(inside(local.x, projection))\n",
       "                        {\n",
       "                            var domain = to_domain(local.x, projection);\n",
       "                            coordinates.style.visibility = \"visible\";\n",
       "                            coordinates.setAttribute(\"transform\", \"translate(\" + local.x + \")\");\n",
       "                            var text = coordinates.querySelector(\"text\");\n",
       "                            text.textContent = domain.toFixed(2);\n",
       "                        }\n",
       "                        else\n",
       "                        {\n",
       "                            coordinates.style.visibility= \"hidden\";\n",
       "                        }\n",
       "                    }\n",
       "                }\n",
       "            }\n",
       "\n",
       "            canvas.addEventListener(\"click\", display_coordinates);\n",
       "\n",
       "            var module = {};\n",
       "            module.show_coordinates = function(axis_id, projection)\n",
       "            {\n",
       "                axes[axis_id] = projection;\n",
       "            }\n",
       "\n",
       "            return module;\n",
       "        })(modules[\"toyplot/canvas\"]);\n",
       "(function(axis, axis_id, projection)\n",
       "        {\n",
       "            axis.show_coordinates(axis_id, projection);\n",
       "        })(modules[\"toyplot.coordinates.Axis\"],\"t7c82aa21b4c044acb2deae451146d9d9\",[{\"domain\": {\"bounds\": {\"max\": Infinity, \"min\": -Infinity}, \"max\": 256680.00000000003, \"min\": -1004999.9999999999}, \"range\": {\"bounds\": {\"max\": Infinity, \"min\": -Infinity}, \"max\": 200.0, \"min\": 0.0}, \"scale\": \"linear\"}]);\n",
       "})();</script></div></div>"
      ]
     },
     "metadata": {},
     "output_type": "display_data"
    }
   ],
   "source": [
    "# generate a 6-tip balanced tree with crown height of 1M units\n",
    "toytree.rtree.baltree(6, treeheight=1e6).draw(scale_bar=True);"
   ]
  },
  {
   "cell_type": "markdown",
   "id": "723c4313-0f75-430b-9e51-c13f7a7cf1e4",
   "metadata": {},
   "source": [
    "2. Parse a Newick string to generate a tree from scratch with desired characteristics."
   ]
  },
  {
   "cell_type": "code",
   "execution_count": 36,
   "id": "a8664144-9552-4476-9db5-61765d121adb",
   "metadata": {},
   "outputs": [
    {
     "data": {
      "text/html": [
       "<div class=\"toyplot\" id=\"t406e55e2fec2400488881fc66c9ebaf2\" style=\"text-align:center\"><svg class=\"toyplot-canvas-Canvas\" xmlns:toyplot=\"http://www.sandia.gov/toyplot\" xmlns:xlink=\"http://www.w3.org/1999/xlink\" xmlns=\"http://www.w3.org/2000/svg\" width=\"300.0px\" height=\"275.0px\" viewBox=\"0 0 300.0 275.0\" preserveAspectRatio=\"xMidYMid meet\" style=\"background-color:transparent;border-color:#292724;border-style:none;border-width:1.0;fill:rgb(16.1%,15.3%,14.1%);fill-opacity:1.0;font-family:Helvetica;font-size:12px;opacity:1.0;stroke:rgb(16.1%,15.3%,14.1%);stroke-opacity:1.0;stroke-width:1.0\" id=\"tc905fe2d42914917ab2c258043eeb29c\"><g class=\"toyplot-coordinates-Cartesian\" id=\"t564ae44fa4ff4318b22bb2995e1d8560\"><clipPath id=\"t6a5781da4ae046eeaf3c7a91fc267276\"><rect x=\"35.0\" y=\"35.0\" width=\"230.0\" height=\"205.0\"></rect></clipPath><g clip-path=\"url(#t6a5781da4ae046eeaf3c7a91fc267276)\"><g class=\"toytree-mark-Toytree\" id=\"t5ea51d36d0e34029a9d12915e792a1d1\"><g class=\"toytree-Edges\" style=\"stroke:rgb(14.5%,14.5%,14.5%);stroke-opacity:1.0;stroke-linecap:round;stroke-width:2.0;fill:none\"><path d=\"M 92.0 191.4 L 92.0 218.3 L 153.7 218.3\" id=\"4,0\" style=\"\"></path><path d=\"M 92.0 191.4 L 92.0 164.4 L 133.1 164.4\" id=\"4,1\" style=\"\"></path><path d=\"M 153.7 83.6 L 153.7 110.6 L 215.4 110.6\" id=\"6,2\" style=\"\"></path><path d=\"M 153.7 83.6 L 153.7 56.7 L 194.9 56.7\" id=\"6,3\" style=\"\"></path><path d=\"M 71.4 191.4 L 71.4 191.4 L 92.0 191.4\" id=\"5,4\" style=\"\"></path><path d=\"M 50.8 137.5 L 50.8 191.4 L 71.4 191.4\" id=\"7,5\" style=\"\"></path><path d=\"M 50.8 137.5 L 50.8 83.6 L 153.7 83.6\" id=\"7,6\" style=\"\"></path></g><g class=\"toytree-AdmixEdges\" style=\"fill:rgb(0.0%,0.0%,0.0%);fill-opacity:0.0;stroke:rgb(90.6%,54.1%,76.5%);stroke-opacity:0.6;font-size:14px;stroke-linecap:round;stroke-width:5\"></g><g class=\"toytree-Nodes\" style=\"fill:rgb(40.0%,76.1%,64.7%);fill-opacity:1.0;stroke:rgb(14.9%,14.9%,14.9%);stroke-opacity:1.0;stroke-width:1.5\"></g><g class=\"toytree-TipLabels\" style=\"fill:rgb(14.5%,14.5%,14.5%);fill-opacity:1.0;font-family:Helvetica;font-size:12px;font-weight:300;vertical-align:baseline;white-space:pre;stroke:none\"><g class=\"toytree-TipLabel\" transform=\"translate(153.704,218.347)\"><text x=\"15.0\" y=\"3.066\" style=\"fill:rgb(14.5%,14.5%,14.5%);fill-opacity:1.0\">a</text></g><g class=\"toytree-TipLabel\" transform=\"translate(133.128,164.449)\"><text x=\"15.0\" y=\"3.066\" style=\"fill:rgb(14.5%,14.5%,14.5%);fill-opacity:1.0\">b</text></g><g class=\"toytree-TipLabel\" transform=\"translate(215.432,110.551)\"><text x=\"15.0\" y=\"3.066\" style=\"fill:rgb(14.5%,14.5%,14.5%);fill-opacity:1.0\">c</text></g><g class=\"toytree-TipLabel\" transform=\"translate(194.856,56.6526)\"><text x=\"15.0\" y=\"3.066\" style=\"fill:rgb(14.5%,14.5%,14.5%);fill-opacity:1.0\">d</text></g></g></g></g><g class=\"toyplot-coordinates-Axis\" id=\"t4350d0f6facb4328be255691cd989ca1\" transform=\"translate(50.0,225.0)translate(0,15.0)\"><line x1=\"0.8230452674896945\" y1=\"0\" x2=\"165.4320987654321\" y2=\"0\" style=\"\"></line><g><line x1=\"11.111111111111095\" y1=\"0\" x2=\"11.111111111111095\" y2=\"-5\" style=\"\"></line><line x1=\"62.5514403292181\" y1=\"0\" x2=\"62.5514403292181\" y2=\"-5\" style=\"\"></line><line x1=\"113.9917695473251\" y1=\"0\" x2=\"113.9917695473251\" y2=\"-5\" style=\"\"></line><line x1=\"165.4320987654321\" y1=\"0\" x2=\"165.4320987654321\" y2=\"-5\" style=\"\"></line></g><g><g transform=\"translate(11.111111111111095,6)\"><text x=\"-6.95\" y=\"8.555\" style=\"fill:rgb(16.1%,15.3%,14.1%);fill-opacity:1.0;font-family:helvetica;font-size:10.0px;font-weight:normal;stroke:none;vertical-align:baseline;white-space:pre\">7.5</text></g><g transform=\"translate(62.5514403292181,6)\"><text x=\"-2.78\" y=\"8.555\" style=\"fill:rgb(16.1%,15.3%,14.1%);fill-opacity:1.0;font-family:helvetica;font-size:10.0px;font-weight:normal;stroke:none;vertical-align:baseline;white-space:pre\">5</text></g><g transform=\"translate(113.9917695473251,6)\"><text x=\"-6.95\" y=\"8.555\" style=\"fill:rgb(16.1%,15.3%,14.1%);fill-opacity:1.0;font-family:helvetica;font-size:10.0px;font-weight:normal;stroke:none;vertical-align:baseline;white-space:pre\">2.5</text></g><g transform=\"translate(165.4320987654321,6)\"><text x=\"-2.78\" y=\"8.555\" style=\"fill:rgb(16.1%,15.3%,14.1%);fill-opacity:1.0;font-family:helvetica;font-size:10.0px;font-weight:normal;stroke:none;vertical-align:baseline;white-space:pre\">0</text></g></g><g class=\"toyplot-coordinates-Axis-coordinates\" style=\"visibility:hidden\" transform=\"\"><line x1=\"0\" x2=\"0\" y1=\"-3.0\" y2=\"4.5\" style=\"stroke:rgb(43.9%,50.2%,56.5%);stroke-opacity:1.0;stroke-width:1.0\"></line><text x=\"0\" y=\"-6\" style=\"alignment-baseline:alphabetic;fill:rgb(43.9%,50.2%,56.5%);fill-opacity:1.0;font-size:10px;font-weight:normal;stroke:none;text-anchor:middle\"></text></g></g></g></svg><div class=\"toyplot-behavior\"><script>(function()\n",
       "{\n",
       "var modules={};\n",
       "modules[\"toyplot/canvas/id\"] = \"tc905fe2d42914917ab2c258043eeb29c\";\n",
       "modules[\"toyplot/canvas\"] = (function(canvas_id)\n",
       "    {\n",
       "        return document.querySelector(\"#\" + canvas_id);\n",
       "    })(modules[\"toyplot/canvas/id\"]);\n",
       "modules[\"toyplot.coordinates.Axis\"] = (\n",
       "        function(canvas)\n",
       "        {\n",
       "            function sign(x)\n",
       "            {\n",
       "                return x < 0 ? -1 : x > 0 ? 1 : 0;\n",
       "            }\n",
       "\n",
       "            function mix(a, b, amount)\n",
       "            {\n",
       "                return ((1.0 - amount) * a) + (amount * b);\n",
       "            }\n",
       "\n",
       "            function log(x, base)\n",
       "            {\n",
       "                return Math.log(Math.abs(x)) / Math.log(base);\n",
       "            }\n",
       "\n",
       "            function in_range(a, x, b)\n",
       "            {\n",
       "                var left = Math.min(a, b);\n",
       "                var right = Math.max(a, b);\n",
       "                return left <= x && x <= right;\n",
       "            }\n",
       "\n",
       "            function inside(range, projection)\n",
       "            {\n",
       "                for(var i = 0; i != projection.length; ++i)\n",
       "                {\n",
       "                    var segment = projection[i];\n",
       "                    if(in_range(segment.range.min, range, segment.range.max))\n",
       "                        return true;\n",
       "                }\n",
       "                return false;\n",
       "            }\n",
       "\n",
       "            function to_domain(range, projection)\n",
       "            {\n",
       "                for(var i = 0; i != projection.length; ++i)\n",
       "                {\n",
       "                    var segment = projection[i];\n",
       "                    if(in_range(segment.range.bounds.min, range, segment.range.bounds.max))\n",
       "                    {\n",
       "                        if(segment.scale == \"linear\")\n",
       "                        {\n",
       "                            var amount = (range - segment.range.min) / (segment.range.max - segment.range.min);\n",
       "                            return mix(segment.domain.min, segment.domain.max, amount)\n",
       "                        }\n",
       "                        else if(segment.scale[0] == \"log\")\n",
       "                        {\n",
       "                            var amount = (range - segment.range.min) / (segment.range.max - segment.range.min);\n",
       "                            var base = segment.scale[1];\n",
       "                            return sign(segment.domain.min) * Math.pow(base, mix(log(segment.domain.min, base), log(segment.domain.max, base), amount));\n",
       "                        }\n",
       "                    }\n",
       "                }\n",
       "            }\n",
       "\n",
       "            var axes = {};\n",
       "\n",
       "            function display_coordinates(e)\n",
       "            {\n",
       "                var current = canvas.createSVGPoint();\n",
       "                current.x = e.clientX;\n",
       "                current.y = e.clientY;\n",
       "\n",
       "                for(var axis_id in axes)\n",
       "                {\n",
       "                    var axis = document.querySelector(\"#\" + axis_id);\n",
       "                    var coordinates = axis.querySelector(\".toyplot-coordinates-Axis-coordinates\");\n",
       "                    if(coordinates)\n",
       "                    {\n",
       "                        var projection = axes[axis_id];\n",
       "                        var local = current.matrixTransform(axis.getScreenCTM().inverse());\n",
       "                        if(inside(local.x, projection))\n",
       "                        {\n",
       "                            var domain = to_domain(local.x, projection);\n",
       "                            coordinates.style.visibility = \"visible\";\n",
       "                            coordinates.setAttribute(\"transform\", \"translate(\" + local.x + \")\");\n",
       "                            var text = coordinates.querySelector(\"text\");\n",
       "                            text.textContent = domain.toFixed(2);\n",
       "                        }\n",
       "                        else\n",
       "                        {\n",
       "                            coordinates.style.visibility= \"hidden\";\n",
       "                        }\n",
       "                    }\n",
       "                }\n",
       "            }\n",
       "\n",
       "            canvas.addEventListener(\"click\", display_coordinates);\n",
       "\n",
       "            var module = {};\n",
       "            module.show_coordinates = function(axis_id, projection)\n",
       "            {\n",
       "                axes[axis_id] = projection;\n",
       "            }\n",
       "\n",
       "            return module;\n",
       "        })(modules[\"toyplot/canvas\"]);\n",
       "(function(axis, axis_id, projection)\n",
       "        {\n",
       "            axis.show_coordinates(axis_id, projection);\n",
       "        })(modules[\"toyplot.coordinates.Axis\"],\"t4350d0f6facb4328be255691cd989ca1\",[{\"domain\": {\"bounds\": {\"max\": Infinity, \"min\": -Infinity}, \"max\": 1.6799999999999997, \"min\": -8.04}, \"range\": {\"bounds\": {\"max\": Infinity, \"min\": -Infinity}, \"max\": 200.0, \"min\": 0.0}, \"scale\": \"linear\"}]);\n",
       "})();</script></div></div>"
      ]
     },
     "metadata": {},
     "output_type": "display_data"
    }
   ],
   "source": [
    "# generate a ToyTree with this specific data\n",
    "toytree.tree(\"(((a:3,b:2):1),(c:3,d:2):5);\").draw(scale_bar=True);"
   ]
  },
  {
   "cell_type": "markdown",
   "id": "c93ec2a7-5d31-4c9a-9bbe-32a44c303887",
   "metadata": {},
   "source": [
    "3. Modify a tree using one or more `toytree.mod` functions:"
   ]
  },
  {
   "cell_type": "code",
   "execution_count": 37,
   "id": "5b28d135-539a-4c88-85db-01bb483d98c3",
   "metadata": {},
   "outputs": [
    {
     "data": {
      "text/html": [
       "<div class=\"toyplot\" id=\"tf745e87165134868b7f7649de733aa1f\" style=\"text-align:center\"><svg class=\"toyplot-canvas-Canvas\" xmlns:toyplot=\"http://www.sandia.gov/toyplot\" xmlns:xlink=\"http://www.w3.org/1999/xlink\" xmlns=\"http://www.w3.org/2000/svg\" width=\"300.0px\" height=\"275.0px\" viewBox=\"0 0 300.0 275.0\" preserveAspectRatio=\"xMidYMid meet\" style=\"background-color:transparent;border-color:#292724;border-style:none;border-width:1.0;fill:rgb(16.1%,15.3%,14.1%);fill-opacity:1.0;font-family:Helvetica;font-size:12px;opacity:1.0;stroke:rgb(16.1%,15.3%,14.1%);stroke-opacity:1.0;stroke-width:1.0\" id=\"t83ac30cda3a44b64bc2b3a0daa37e3d9\"><g class=\"toyplot-coordinates-Cartesian\" id=\"tdd54e3e446c8411da990cd17dcaa8bb2\"><clipPath id=\"td2f10fab34774b3ba85390a5be76335f\"><rect x=\"35.0\" y=\"35.0\" width=\"230.0\" height=\"205.0\"></rect></clipPath><g clip-path=\"url(#td2f10fab34774b3ba85390a5be76335f)\"><g class=\"toytree-mark-Toytree\" id=\"t12a2fd5cd8ea439f974293aa5489d53d\"><g class=\"toytree-Edges\" style=\"stroke:rgb(14.5%,14.5%,14.5%);stroke-opacity:1.0;stroke-linecap:round;stroke-width:2.0;fill:none\"><path d=\"M 127.0 186.8 L 127.0 216.4 L 192.6 216.4\" id=\"6,0\" style=\"\"></path><path d=\"M 159.8 157.2 L 159.8 177.0 L 192.6 177.0\" id=\"5,1\" style=\"\"></path><path d=\"M 159.8 157.2 L 159.8 137.5 L 192.6 137.5\" id=\"5,2\" style=\"\"></path><path d=\"M 127.0 78.3 L 127.0 98.0 L 192.6 98.0\" id=\"7,3\" style=\"\"></path><path d=\"M 127.0 78.3 L 127.0 58.6 L 192.6 58.6\" id=\"7,4\" style=\"\"></path><path d=\"M 127.0 186.8 L 127.0 157.2 L 159.8 157.2\" id=\"6,5\" style=\"\"></path><path d=\"M 61.5 132.6 L 61.5 186.8 L 127.0 186.8\" id=\"8,6\" style=\"\"></path><path d=\"M 61.5 132.6 L 61.5 78.3 L 127.0 78.3\" id=\"8,7\" style=\"\"></path></g><g class=\"toytree-AdmixEdges\" style=\"fill:rgb(0.0%,0.0%,0.0%);fill-opacity:0.0;stroke:rgb(90.6%,54.1%,76.5%);stroke-opacity:0.6;font-size:14px;stroke-linecap:round;stroke-width:5\"></g><g class=\"toytree-Nodes\" style=\"fill:rgb(82.7%,82.7%,82.7%);fill-opacity:1.0;stroke:rgb(14.9%,14.9%,14.9%);stroke-opacity:1.0;stroke-width:1.5\"><g id=\"Node-5\" transform=\"translate(159.812,157.233)\"><rect x=\"-16.0\" y=\"-8.0\" width=\"32.0\" height=\"16.0\"></rect></g></g><g class=\"toytree-NodeLabels\" style=\"font-family:Helvetica;font-size:9px;font-weight:300;vertical-align:baseline;white-space:pre;stroke:none\"><g class=\"toytree-NodeLabel\" transform=\"translate(159.812,157.233)\"><text x=\"-12.7575\" y=\"2.2995\" style=\"fill:rgb(14.5%,14.5%,14.5%);fill-opacity:1.0\">parent</text></g></g><g class=\"toytree-TipLabels\" style=\"fill:rgb(14.5%,14.5%,14.5%);fill-opacity:1.0;font-family:Helvetica;font-size:14px;font-weight:300;vertical-align:baseline;white-space:pre;stroke:none\"><g class=\"toytree-TipLabel\" transform=\"translate(192.591,216.43)\"><text x=\"15.0\" y=\"3.577\" style=\"fill:rgb(14.5%,14.5%,14.5%);fill-opacity:1.0\">r0</text></g><g class=\"toytree-TipLabel\" transform=\"translate(192.591,176.965)\"><text x=\"15.0\" y=\"3.577\" style=\"fill:rgb(14.5%,14.5%,14.5%);fill-opacity:1.0\">r1</text></g><g class=\"toytree-TipLabel\" transform=\"translate(192.591,137.5)\"><text x=\"15.0\" y=\"3.577\" style=\"fill:rgb(14.5%,14.5%,14.5%);fill-opacity:1.0\">child</text></g><g class=\"toytree-TipLabel\" transform=\"translate(192.591,98.0348)\"><text x=\"15.0\" y=\"3.577\" style=\"fill:rgb(14.5%,14.5%,14.5%);fill-opacity:1.0\">r2</text></g><g class=\"toytree-TipLabel\" transform=\"translate(192.591,58.5696)\"><text x=\"15.0\" y=\"3.577\" style=\"fill:rgb(14.5%,14.5%,14.5%);fill-opacity:1.0\">r3</text></g></g></g></g></g></svg><div class=\"toyplot-behavior\"><script>(function()\n",
       "{\n",
       "var modules={};\n",
       "})();</script></div></div>"
      ]
     },
     "metadata": {},
     "output_type": "display_data"
    }
   ],
   "source": [
    "# get a 4-tip balanced tree\n",
    "tree4 = toytree.rtree.baltree(4)\n",
    "\n",
    "# add a new sister (internal and tip node) to tip node 'r1'\n",
    "modtree4 = toytree.mod.add_internal_node_and_child(tree4, 'r1', name=\"child\", parent_name=\"parent\")\n",
    "\n",
    "# draw to highlight new parent and child nodes\n",
    "modtree4.draw('r', node_mask=modtree4.get_node_mask(5), node_colors=\"lightgrey\");"
   ]
  },
  {
   "cell_type": "markdown",
   "id": "c835c0e7-3a56-4016-9c6e-e01f7e18eb52",
   "metadata": {},
   "source": [
    "4. Create connections among `Node` objects and create a `ToyTree` from them. You can do this by setting `._up`, `._children`, and `._dist` values on a set of nodes."
   ]
  },
  {
   "cell_type": "code",
   "execution_count": 38,
   "id": "6df3f678-1e34-4ab4-ae9c-693ad872770b",
   "metadata": {},
   "outputs": [
    {
     "data": {
      "text/html": [
       "<div class=\"toyplot\" id=\"tafc3254d212147119a7d947e8884acff\" style=\"text-align:center\"><svg class=\"toyplot-canvas-Canvas\" xmlns:toyplot=\"http://www.sandia.gov/toyplot\" xmlns:xlink=\"http://www.w3.org/1999/xlink\" xmlns=\"http://www.w3.org/2000/svg\" width=\"300.0px\" height=\"275.0px\" viewBox=\"0 0 300.0 275.0\" preserveAspectRatio=\"xMidYMid meet\" style=\"background-color:transparent;border-color:#292724;border-style:none;border-width:1.0;fill:rgb(16.1%,15.3%,14.1%);fill-opacity:1.0;font-family:Helvetica;font-size:12px;opacity:1.0;stroke:rgb(16.1%,15.3%,14.1%);stroke-opacity:1.0;stroke-width:1.0\" id=\"t6127182d29484e7691c3584163f89c1a\"><g class=\"toyplot-coordinates-Cartesian\" id=\"tc076f2df70e54aaf9933aea6b9b98596\"><clipPath id=\"t8f98e89dc8f941ffbd2fbf9da9fa82b2\"><rect x=\"35.0\" y=\"35.0\" width=\"230.0\" height=\"205.0\"></rect></clipPath><g clip-path=\"url(#t8f98e89dc8f941ffbd2fbf9da9fa82b2)\"><g class=\"toytree-mark-Toytree\" id=\"t06f55741d0af4eba873b36d5ecc76f0c\"><g class=\"toytree-Edges\" style=\"stroke:rgb(14.5%,14.5%,14.5%);stroke-opacity:1.0;stroke-linecap:round;stroke-width:2.0;fill:none\"><path d=\"M 138.3 177.0 L 138.3 216.4 L 213.4 216.4\" id=\"3,0\" style=\"\"></path><path d=\"M 138.3 177.0 L 138.3 137.5 L 213.4 137.5\" id=\"3,1\" style=\"\"></path><path d=\"M 63.1 117.8 L 63.1 58.6 L 138.3 58.6\" id=\"4,2\" style=\"\"></path><path d=\"M 63.1 117.8 L 63.1 177.0 L 138.3 177.0\" id=\"4,3\" style=\"\"></path></g><g class=\"toytree-AdmixEdges\" style=\"fill:rgb(0.0%,0.0%,0.0%);fill-opacity:0.0;stroke:rgb(90.6%,54.1%,76.5%);stroke-opacity:0.6;font-size:14px;stroke-linecap:round;stroke-width:5\"></g><g class=\"toytree-Nodes\" style=\"fill:rgb(82.7%,82.7%,82.7%);fill-opacity:1.0;stroke:rgb(14.9%,14.9%,14.9%);stroke-opacity:1.0;stroke-width:1.5\"><g id=\"Node-3\" transform=\"translate(138.287,176.965)\"><rect x=\"-16.0\" y=\"-8.0\" width=\"32.0\" height=\"16.0\"></rect></g><g id=\"Node-4\" transform=\"translate(63.1492,117.767)\"><rect x=\"-16.0\" y=\"-8.0\" width=\"32.0\" height=\"16.0\"></rect></g></g><g class=\"toytree-NodeLabels\" style=\"font-family:Helvetica;font-size:9px;font-weight:300;vertical-align:baseline;white-space:pre;stroke:none\"><g class=\"toytree-NodeLabel\" transform=\"translate(138.287,176.965)\"><text x=\"-6.003\" y=\"2.2995\" style=\"fill:rgb(14.5%,14.5%,14.5%);fill-opacity:1.0\">AB</text></g><g class=\"toytree-NodeLabel\" transform=\"translate(63.1492,117.767)\"><text x=\"-9.252\" y=\"2.2995\" style=\"fill:rgb(14.5%,14.5%,14.5%);fill-opacity:1.0\">ABC</text></g></g><g class=\"toytree-TipLabels\" style=\"fill:rgb(14.5%,14.5%,14.5%);fill-opacity:1.0;font-family:Helvetica;font-size:14px;font-weight:300;vertical-align:baseline;white-space:pre;stroke:none\"><g class=\"toytree-TipLabel\" transform=\"translate(213.426,216.43)\"><text x=\"15.0\" y=\"3.577\" style=\"fill:rgb(14.5%,14.5%,14.5%);fill-opacity:1.0\">A</text></g><g class=\"toytree-TipLabel\" transform=\"translate(213.426,137.5)\"><text x=\"15.0\" y=\"3.577\" style=\"fill:rgb(14.5%,14.5%,14.5%);fill-opacity:1.0\">B</text></g><g class=\"toytree-TipLabel\" transform=\"translate(138.287,58.5696)\"><text x=\"15.0\" y=\"3.577\" style=\"fill:rgb(14.5%,14.5%,14.5%);fill-opacity:1.0\">C</text></g></g></g></g></g></svg><div class=\"toyplot-behavior\"><script>(function()\n",
       "{\n",
       "var modules={};\n",
       "})();</script></div></div>"
      ]
     },
     "metadata": {},
     "output_type": "display_data"
    }
   ],
   "source": [
    "# create several tips nodes\n",
    "nodeA = toytree.Node(\"A\", dist=1)\n",
    "nodeB = toytree.Node(\"B\", dist=1)\n",
    "nodeC = toytree.Node(\"C\", dist=1)\n",
    "\n",
    "# create several internal Nodes\n",
    "nodeAB = toytree.Node(\"AB\", dist=1)\n",
    "nodeABC = toytree.Node(\"ABC\", dist=1)\n",
    "\n",
    "# connect the nodes\n",
    "nodeA._up = nodeAB\n",
    "nodeB._up = nodeAB\n",
    "nodeC._up = nodeABC\n",
    "nodeAB._up = nodeABC\n",
    "nodeAB._children = (nodeA, nodeB)\n",
    "nodeABC._children = (nodeAB, nodeC)\n",
    "\n",
    "# draw the tree (the tree traversal data is cached at this step)\n",
    "toytree.tree(nodeABC).draw(ts='r', node_colors=\"lightgrey\");"
   ]
  },
  {
   "cell_type": "markdown",
   "id": "bb48b489-eef5-4180-b086-8b8f6a716274",
   "metadata": {},
   "source": [
    "Similarly, this process could be applied to an existing tree to add or remove connections by changing the same types of node attributes. The important thing is that the `ToyTree._update()` function is called at the end to update values across connected nodes. The `Node` object includes convenience functions `_add_child` and `_remove_child` which change the `._up` and `._children` attributes together, but setting them manually may be more clear. "
   ]
  },
  {
   "cell_type": "code",
   "execution_count": 39,
   "id": "fd50f349-36ca-401a-8663-65dd00547833",
   "metadata": {},
   "outputs": [
    {
     "data": {
      "text/html": [
       "<div class=\"toyplot\" id=\"t408b9b6d094f4ef08276ad0a88a4acac\" style=\"text-align:center\"><svg class=\"toyplot-canvas-Canvas\" xmlns:toyplot=\"http://www.sandia.gov/toyplot\" xmlns:xlink=\"http://www.w3.org/1999/xlink\" xmlns=\"http://www.w3.org/2000/svg\" width=\"300.0px\" height=\"275.0px\" viewBox=\"0 0 300.0 275.0\" preserveAspectRatio=\"xMidYMid meet\" style=\"background-color:transparent;border-color:#292724;border-style:none;border-width:1.0;fill:rgb(16.1%,15.3%,14.1%);fill-opacity:1.0;font-family:Helvetica;font-size:12px;opacity:1.0;stroke:rgb(16.1%,15.3%,14.1%);stroke-opacity:1.0;stroke-width:1.0\" id=\"t645bfee4ed05465a83ebba02324c9317\"><g class=\"toyplot-coordinates-Cartesian\" id=\"tf78bd8f59e384ad2a26688d8a326ff21\"><clipPath id=\"t6c5770f5a34b43ff856fff4761ce9e95\"><rect x=\"35.0\" y=\"35.0\" width=\"230.0\" height=\"205.0\"></rect></clipPath><g clip-path=\"url(#t6c5770f5a34b43ff856fff4761ce9e95)\"><g class=\"toytree-mark-Toytree\" id=\"t6da36a918ddb4aa89a5843e42f1662e3\"><g class=\"toytree-Edges\" style=\"stroke:rgb(14.5%,14.5%,14.5%);stroke-opacity:1.0;stroke-linecap:round;stroke-width:2.0;fill:none\"><path d=\"M 144.1 196.7 L 144.1 216.4 L 185.7 216.4\" id=\"5,0\" style=\"\"></path><path d=\"M 144.1 196.7 L 144.1 177.0 L 185.7 177.0\" id=\"5,1\" style=\"\"></path><path d=\"M 102.5 167.1 L 102.5 137.5 L 144.1 137.5\" id=\"6,2\" style=\"\"></path><path d=\"M 102.5 78.3 L 102.5 98.0 L 144.1 98.0\" id=\"7,3\" style=\"\"></path><path d=\"M 102.5 78.3 L 102.5 58.6 L 144.1 58.6\" id=\"7,4\" style=\"\"></path><path d=\"M 102.5 167.1 L 102.5 196.7 L 144.1 196.7\" id=\"6,5\" style=\"\"></path><path d=\"M 60.9 122.7 L 60.9 167.1 L 102.5 167.1\" id=\"8,6\" style=\"\"></path><path d=\"M 60.9 122.7 L 60.9 78.3 L 102.5 78.3\" id=\"8,7\" style=\"\"></path></g><g class=\"toytree-AdmixEdges\" style=\"fill:rgb(0.0%,0.0%,0.0%);fill-opacity:0.0;stroke:rgb(90.6%,54.1%,76.5%);stroke-opacity:0.6;font-size:14px;stroke-linecap:round;stroke-width:5\"></g><g class=\"toytree-Nodes\" style=\"fill:rgb(82.7%,82.7%,82.7%);fill-opacity:1.0;stroke:rgb(14.9%,14.9%,14.9%);stroke-opacity:1.0;stroke-width:1.5\"><g id=\"Node-5\" transform=\"translate(144.084,196.698)\"><rect x=\"-16.0\" y=\"-8.0\" width=\"32.0\" height=\"16.0\"></rect></g></g><g class=\"toytree-NodeLabels\" style=\"font-family:Helvetica;font-size:9px;font-weight:300;vertical-align:baseline;white-space:pre;stroke:none\"><g class=\"toytree-NodeLabel\" transform=\"translate(144.084,196.698)\"><text x=\"-4.0005\" y=\"2.2995\" style=\"fill:rgb(14.5%,14.5%,14.5%);fill-opacity:1.0\">r0</text></g></g><g class=\"toytree-TipLabels\" style=\"fill:rgb(14.5%,14.5%,14.5%);fill-opacity:1.0;font-family:Helvetica;font-size:14px;font-weight:300;vertical-align:baseline;white-space:pre;stroke:none\"><g class=\"toytree-TipLabel\" transform=\"translate(185.668,216.43)\"><text x=\"15.0\" y=\"3.577\" style=\"fill:rgb(14.5%,14.5%,14.5%);fill-opacity:1.0\">child0</text></g><g class=\"toytree-TipLabel\" transform=\"translate(185.668,176.965)\"><text x=\"15.0\" y=\"3.577\" style=\"fill:rgb(14.5%,14.5%,14.5%);fill-opacity:1.0\">child1</text></g><g class=\"toytree-TipLabel\" transform=\"translate(144.084,137.5)\"><text x=\"15.0\" y=\"3.577\" style=\"fill:rgb(14.5%,14.5%,14.5%);fill-opacity:1.0\">r1</text></g><g class=\"toytree-TipLabel\" transform=\"translate(144.084,98.0348)\"><text x=\"15.0\" y=\"3.577\" style=\"fill:rgb(14.5%,14.5%,14.5%);fill-opacity:1.0\">r2</text></g><g class=\"toytree-TipLabel\" transform=\"translate(144.084,58.5696)\"><text x=\"15.0\" y=\"3.577\" style=\"fill:rgb(14.5%,14.5%,14.5%);fill-opacity:1.0\">r3</text></g></g></g></g></g></svg><div class=\"toyplot-behavior\"><script>(function()\n",
       "{\n",
       "var modules={};\n",
       "})();</script></div></div>"
      ]
     },
     "metadata": {},
     "output_type": "display_data"
    }
   ],
   "source": [
    "# get a 4-tip balanced tree\n",
    "tree4 = toytree.rtree.baltree(4, treeheight=2)\n",
    "\n",
    "# add a new sister (internal and tip node) to tip node 0\n",
    "tree4[0]._add_child(toytree.Node(\"child0\", dist=1))\n",
    "tree4[0]._add_child(toytree.Node(\"child1\", dist=1))\n",
    "\n",
    "# connects node data across three\n",
    "tree4._update()\n",
    "\n",
    "# draw to highlight new nodes. Note former node (idx=0, name='r0') is now node idx=5\n",
    "tree4.draw('r', node_mask=tree4.get_node_mask(5), node_colors=\"lightgrey\");"
   ]
  }
 ],
 "metadata": {
  "kernelspec": {
   "display_name": "Python 3 (ipykernel)",
   "language": "python",
   "name": "python3"
  },
  "language_info": {
   "codemirror_mode": {
    "name": "ipython",
    "version": 3
   },
   "file_extension": ".py",
   "mimetype": "text/x-python",
   "name": "python",
   "nbconvert_exporter": "python",
   "pygments_lexer": "ipython3",
   "version": "3.10.12"
  }
 },
 "nbformat": 4,
 "nbformat_minor": 5
}
