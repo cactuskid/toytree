{
 "cells": [
  {
   "cell_type": "markdown",
   "metadata": {},
   "source": [
    "## Tree-level dissimilarities  \n",
    "\n",
    "In order to quantify the difference between two trees, these methods decompose trees into sets of bipartitions or quartets and measure differences based on these sets. In order to quickly show an overview of the different distance scores, use `get_treedist_quartets`. This overview shows all tree distances based on quartet metrics where: \n",
    "\n",
    "$Q =$ Total possible quartets\n",
    "$S =$ Resolved in the same way between the two trees\n",
    "$D =$ Resolved differently between the two trees  \n",
    "$R1 =$ Unresolved in tree 1, resolved in tree 2  \n",
    "$R2 =$ Unresolved in tree 2, resolved in tree 1  \n",
    "$U =$  Unresolved in both trees  \n",
    "$N = S + D + R1 + R2 + U$\n",
    "\n",
    "with arguments (tree1, tree2, similarity=False). When similarity=True, scores are shown as similarity scores (1-distance)  \n",
    "\n",
    "Using these metrics, `get_treedist_quartets` also shows a list of calculated scores. Descriptions of these scores can be found in the paper below:  \n",
    "\n",
    "_Estabrook GF, McMorris FR, Meacham CA (1985). “Comparison of undirected\n",
    "  phylogenetic trees based on subtrees of four evolutionary units.”\n",
    "  Systematic Zoology, 34(2), 193--200. doi:10.2307/2413326 ._\n"
   ]
  },
  {
   "cell_type": "code",
   "execution_count": 2,
   "metadata": {},
   "outputs": [
    {
     "data": {
      "text/plain": [
       "Q                              210.000000\n",
       "S                              107.000000\n",
       "D                              103.000000\n",
       "U                                0.000000\n",
       "R1                               0.000000\n",
       "R2                               0.000000\n",
       "N                              210.000000\n",
       "do_not_conflict                  0.490476\n",
       "explicitly_agree                 0.490476\n",
       "strict_joint_assertions          0.490476\n",
       "semistrict_joint_assertions      0.490476\n",
       "steel_and_penny                  0.490476\n",
       "symmetric_difference             0.490476\n",
       "symmetric_divergence             0.019048\n",
       "similarity_to_reference          0.490476\n",
       "marczewski_steinhaus             0.658147\n",
       "dtype: float64"
      ]
     },
     "execution_count": 2,
     "metadata": {},
     "output_type": "execute_result"
    },
    {
     "data": {
      "text/html": [
       "<div class=\"toyplot\" id=\"t8246609656424430876753a7c6d657bc\" style=\"text-align:center\"><svg class=\"toyplot-canvas-Canvas\" xmlns:toyplot=\"http://www.sandia.gov/toyplot\" xmlns:xlink=\"http://www.w3.org/1999/xlink\" xmlns=\"http://www.w3.org/2000/svg\" width=\"300.0px\" height=\"318.5px\" viewBox=\"0 0 300.0 318.5\" preserveAspectRatio=\"xMidYMid meet\" style=\"background-color:transparent;border-color:#292724;border-style:none;border-width:1.0;fill:rgb(16.1%,15.3%,14.1%);fill-opacity:1.0;font-family:Helvetica;font-size:12px;opacity:1.0;stroke:rgb(16.1%,15.3%,14.1%);stroke-opacity:1.0;stroke-width:1.0\" id=\"td962dcca2db74c94ac2cbdc189cd3cd6\"><g class=\"toyplot-coordinates-Cartesian\" id=\"t18667efa0d654a03845055bf100efbdf\"><clipPath id=\"t8084686fa8894ce1b3375b2d8a7a66e6\"><rect x=\"35.0\" y=\"35.0\" width=\"230.0\" height=\"248.5\"></rect></clipPath><g clip-path=\"url(#t8084686fa8894ce1b3375b2d8a7a66e6)\"><g class=\"toytree-mark-Toytree\" id=\"t1edc63a59b8342a28ed1f8a5a0724c4d\"><g class=\"toytree-Edges\" style=\"stroke:rgb(14.5%,14.5%,14.5%);stroke-opacity:1.0;stroke-linecap:round;stroke-width:2.0;fill:none\"><path d=\"M 88.0 215.1 L 88.0 259.8 L 210.6 259.8\" id=\"15,0\" style=\"\"></path><path d=\"M 180.0 226.3 L 180.0 237.4 L 210.6 237.4\" id=\"10,1\" style=\"\"></path><path d=\"M 180.0 226.3 L 180.0 215.1 L 210.6 215.1\" id=\"10,2\" style=\"\"></path><path d=\"M 180.0 181.6 L 180.0 192.8 L 210.6 192.8\" id=\"11,3\" style=\"\"></path><path d=\"M 180.0 181.6 L 180.0 170.4 L 210.6 170.4\" id=\"11,4\" style=\"\"></path><path d=\"M 180.0 136.9 L 180.0 148.1 L 210.6 148.1\" id=\"13,5\" style=\"\"></path><path d=\"M 180.0 136.9 L 180.0 125.7 L 210.6 125.7\" id=\"13,6\" style=\"\"></path><path d=\"M 149.3 86.7 L 149.3 103.4 L 210.6 103.4\" id=\"17,7\" style=\"\"></path><path d=\"M 180.0 69.9 L 180.0 81.1 L 210.6 81.1\" id=\"16,8\" style=\"\"></path><path d=\"M 180.0 69.9 L 180.0 58.7 L 210.6 58.7\" id=\"16,9\" style=\"\"></path><path d=\"M 149.3 203.9 L 149.3 226.3 L 180.0 226.3\" id=\"12,10\" style=\"\"></path><path d=\"M 149.3 203.9 L 149.3 181.6 L 180.0 181.6\" id=\"12,11\" style=\"\"></path><path d=\"M 118.6 170.4 L 118.6 203.9 L 149.3 203.9\" id=\"14,12\" style=\"\"></path><path d=\"M 118.6 170.4 L 118.6 136.9 L 180.0 136.9\" id=\"14,13\" style=\"\"></path><path d=\"M 88.0 215.1 L 88.0 170.4 L 118.6 170.4\" id=\"15,14\" style=\"\"></path><path d=\"M 57.3 150.9 L 57.3 215.1 L 88.0 215.1\" id=\"18,15\" style=\"\"></path><path d=\"M 149.3 86.7 L 149.3 69.9 L 180.0 69.9\" id=\"17,16\" style=\"\"></path><path d=\"M 57.3 150.9 L 57.3 86.7 L 149.3 86.7\" id=\"18,17\" style=\"\"></path></g><g class=\"toytree-AdmixEdges\" style=\"fill:rgb(0.0%,0.0%,0.0%);fill-opacity:0.0;stroke:rgb(90.6%,54.1%,76.5%);stroke-opacity:0.6;font-size:14px;stroke-linecap:round;stroke-width:5\"></g><g class=\"toytree-Nodes\" style=\"fill:rgb(82.7%,82.7%,82.7%);fill-opacity:1.0;stroke:rgb(14.5%,14.5%,14.5%);stroke-opacity:1.0;stroke-width:1.5\"><g id=\"Node-0\" transform=\"translate(210.637,259.76)\"><circle r=\"8.0\"></circle></g><g id=\"Node-1\" transform=\"translate(210.637,237.424)\"><circle r=\"8.0\"></circle></g><g id=\"Node-2\" transform=\"translate(210.637,215.089)\"><circle r=\"8.0\"></circle></g><g id=\"Node-3\" transform=\"translate(210.637,192.753)\"><circle r=\"8.0\"></circle></g><g id=\"Node-4\" transform=\"translate(210.637,170.418)\"><circle r=\"8.0\"></circle></g><g id=\"Node-5\" transform=\"translate(210.637,148.082)\"><circle r=\"8.0\"></circle></g><g id=\"Node-6\" transform=\"translate(210.637,125.747)\"><circle r=\"8.0\"></circle></g><g id=\"Node-7\" transform=\"translate(210.637,103.411)\"><circle r=\"8.0\"></circle></g><g id=\"Node-8\" transform=\"translate(210.637,81.0756)\"><circle r=\"8.0\"></circle></g><g id=\"Node-9\" transform=\"translate(210.637,58.74)\"><circle r=\"8.0\"></circle></g><g id=\"Node-10\" transform=\"translate(179.967,226.257)\"><circle r=\"8.0\"></circle></g><g id=\"Node-11\" transform=\"translate(179.967,181.586)\"><circle r=\"8.0\"></circle></g><g id=\"Node-12\" transform=\"translate(149.296,203.921)\"><circle r=\"8.0\"></circle></g><g id=\"Node-13\" transform=\"translate(179.967,136.914)\"><circle r=\"8.0\"></circle></g><g id=\"Node-14\" transform=\"translate(118.625,170.418)\"><circle r=\"8.0\"></circle></g><g id=\"Node-15\" transform=\"translate(87.9549,215.089)\"><circle r=\"8.0\"></circle></g><g id=\"Node-16\" transform=\"translate(179.967,69.9078)\"><circle r=\"8.0\"></circle></g><g id=\"Node-17\" transform=\"translate(149.296,86.6594)\"><circle r=\"8.0\"></circle></g><g id=\"Node-18\" transform=\"translate(57.2843,150.874)\"><circle r=\"8.0\"></circle></g></g><g class=\"toytree-NodeLabels\" style=\"font-family:Helvetica;font-size:9px;font-weight:300;vertical-align:baseline;white-space:pre;stroke:none\"><g class=\"toytree-NodeLabel\" transform=\"translate(210.637,259.76)\"><text x=\"-2.5020000000000002\" y=\"2.2995\" style=\"fill:rgb(14.5%,14.5%,14.5%);fill-opacity:1.0\">0</text></g><g class=\"toytree-NodeLabel\" transform=\"translate(210.637,237.424)\"><text x=\"-2.5020000000000002\" y=\"2.2995\" style=\"fill:rgb(14.5%,14.5%,14.5%);fill-opacity:1.0\">1</text></g><g class=\"toytree-NodeLabel\" transform=\"translate(210.637,215.089)\"><text x=\"-2.5020000000000002\" y=\"2.2995\" style=\"fill:rgb(14.5%,14.5%,14.5%);fill-opacity:1.0\">2</text></g><g class=\"toytree-NodeLabel\" transform=\"translate(210.637,192.753)\"><text x=\"-2.5020000000000002\" y=\"2.2995\" style=\"fill:rgb(14.5%,14.5%,14.5%);fill-opacity:1.0\">3</text></g><g class=\"toytree-NodeLabel\" transform=\"translate(210.637,170.418)\"><text x=\"-2.5020000000000002\" y=\"2.2995\" style=\"fill:rgb(14.5%,14.5%,14.5%);fill-opacity:1.0\">4</text></g><g class=\"toytree-NodeLabel\" transform=\"translate(210.637,148.082)\"><text x=\"-2.5020000000000002\" y=\"2.2995\" style=\"fill:rgb(14.5%,14.5%,14.5%);fill-opacity:1.0\">5</text></g><g class=\"toytree-NodeLabel\" transform=\"translate(210.637,125.747)\"><text x=\"-2.5020000000000002\" y=\"2.2995\" style=\"fill:rgb(14.5%,14.5%,14.5%);fill-opacity:1.0\">6</text></g><g class=\"toytree-NodeLabel\" transform=\"translate(210.637,103.411)\"><text x=\"-2.5020000000000002\" y=\"2.2995\" style=\"fill:rgb(14.5%,14.5%,14.5%);fill-opacity:1.0\">7</text></g><g class=\"toytree-NodeLabel\" transform=\"translate(210.637,81.0756)\"><text x=\"-2.5020000000000002\" y=\"2.2995\" style=\"fill:rgb(14.5%,14.5%,14.5%);fill-opacity:1.0\">8</text></g><g class=\"toytree-NodeLabel\" transform=\"translate(210.637,58.74)\"><text x=\"-2.5020000000000002\" y=\"2.2995\" style=\"fill:rgb(14.5%,14.5%,14.5%);fill-opacity:1.0\">9</text></g><g class=\"toytree-NodeLabel\" transform=\"translate(179.967,226.257)\"><text x=\"-5.0040000000000004\" y=\"2.2995\" style=\"fill:rgb(14.5%,14.5%,14.5%);fill-opacity:1.0\">10</text></g><g class=\"toytree-NodeLabel\" transform=\"translate(179.967,181.586)\"><text x=\"-5.0040000000000004\" y=\"2.2995\" style=\"fill:rgb(14.5%,14.5%,14.5%);fill-opacity:1.0\">11</text></g><g class=\"toytree-NodeLabel\" transform=\"translate(149.296,203.921)\"><text x=\"-5.0040000000000004\" y=\"2.2995\" style=\"fill:rgb(14.5%,14.5%,14.5%);fill-opacity:1.0\">12</text></g><g class=\"toytree-NodeLabel\" transform=\"translate(179.967,136.914)\"><text x=\"-5.0040000000000004\" y=\"2.2995\" style=\"fill:rgb(14.5%,14.5%,14.5%);fill-opacity:1.0\">13</text></g><g class=\"toytree-NodeLabel\" transform=\"translate(118.625,170.418)\"><text x=\"-5.0040000000000004\" y=\"2.2995\" style=\"fill:rgb(14.5%,14.5%,14.5%);fill-opacity:1.0\">14</text></g><g class=\"toytree-NodeLabel\" transform=\"translate(87.9549,215.089)\"><text x=\"-5.0040000000000004\" y=\"2.2995\" style=\"fill:rgb(14.5%,14.5%,14.5%);fill-opacity:1.0\">15</text></g><g class=\"toytree-NodeLabel\" transform=\"translate(179.967,69.9078)\"><text x=\"-5.0040000000000004\" y=\"2.2995\" style=\"fill:rgb(14.5%,14.5%,14.5%);fill-opacity:1.0\">16</text></g><g class=\"toytree-NodeLabel\" transform=\"translate(149.296,86.6594)\"><text x=\"-5.0040000000000004\" y=\"2.2995\" style=\"fill:rgb(14.5%,14.5%,14.5%);fill-opacity:1.0\">17</text></g><g class=\"toytree-NodeLabel\" transform=\"translate(57.2843,150.874)\"><text x=\"-5.0040000000000004\" y=\"2.2995\" style=\"fill:rgb(14.5%,14.5%,14.5%);fill-opacity:1.0\">18</text></g></g><g class=\"toytree-TipLabels\" style=\"fill:rgb(14.5%,14.5%,14.5%);fill-opacity:1.0;font-family:Helvetica;font-size:12px;font-weight:300;vertical-align:baseline;white-space:pre;stroke:none\"><g class=\"toytree-TipLabel\" transform=\"translate(210.637,259.76)\"><text x=\"15.0\" y=\"3.066\" style=\"fill:rgb(14.5%,14.5%,14.5%);fill-opacity:1.0\">r0</text></g><g class=\"toytree-TipLabel\" transform=\"translate(210.637,237.424)\"><text x=\"15.0\" y=\"3.066\" style=\"fill:rgb(14.5%,14.5%,14.5%);fill-opacity:1.0\">r1</text></g><g class=\"toytree-TipLabel\" transform=\"translate(210.637,215.089)\"><text x=\"15.0\" y=\"3.066\" style=\"fill:rgb(14.5%,14.5%,14.5%);fill-opacity:1.0\">r2</text></g><g class=\"toytree-TipLabel\" transform=\"translate(210.637,192.753)\"><text x=\"15.0\" y=\"3.066\" style=\"fill:rgb(14.5%,14.5%,14.5%);fill-opacity:1.0\">r3</text></g><g class=\"toytree-TipLabel\" transform=\"translate(210.637,170.418)\"><text x=\"15.0\" y=\"3.066\" style=\"fill:rgb(14.5%,14.5%,14.5%);fill-opacity:1.0\">r4</text></g><g class=\"toytree-TipLabel\" transform=\"translate(210.637,148.082)\"><text x=\"15.0\" y=\"3.066\" style=\"fill:rgb(14.5%,14.5%,14.5%);fill-opacity:1.0\">r5</text></g><g class=\"toytree-TipLabel\" transform=\"translate(210.637,125.747)\"><text x=\"15.0\" y=\"3.066\" style=\"fill:rgb(14.5%,14.5%,14.5%);fill-opacity:1.0\">r6</text></g><g class=\"toytree-TipLabel\" transform=\"translate(210.637,103.411)\"><text x=\"15.0\" y=\"3.066\" style=\"fill:rgb(14.5%,14.5%,14.5%);fill-opacity:1.0\">r7</text></g><g class=\"toytree-TipLabel\" transform=\"translate(210.637,81.0756)\"><text x=\"15.0\" y=\"3.066\" style=\"fill:rgb(14.5%,14.5%,14.5%);fill-opacity:1.0\">r8</text></g><g class=\"toytree-TipLabel\" transform=\"translate(210.637,58.74)\"><text x=\"15.0\" y=\"3.066\" style=\"fill:rgb(14.5%,14.5%,14.5%);fill-opacity:1.0\">r9</text></g></g></g></g></g></svg><div class=\"toyplot-behavior\"><script>(function()\n",
       "{\n",
       "var modules={};\n",
       "})();</script></div></div>"
      ]
     },
     "metadata": {},
     "output_type": "display_data"
    },
    {
     "data": {
      "text/html": [
       "<div class=\"toyplot\" id=\"tc1d83efb758c4b5db2397c00ef5487b3\" style=\"text-align:center\"><svg class=\"toyplot-canvas-Canvas\" xmlns:toyplot=\"http://www.sandia.gov/toyplot\" xmlns:xlink=\"http://www.w3.org/1999/xlink\" xmlns=\"http://www.w3.org/2000/svg\" width=\"300.0px\" height=\"318.5px\" viewBox=\"0 0 300.0 318.5\" preserveAspectRatio=\"xMidYMid meet\" style=\"background-color:transparent;border-color:#292724;border-style:none;border-width:1.0;fill:rgb(16.1%,15.3%,14.1%);fill-opacity:1.0;font-family:Helvetica;font-size:12px;opacity:1.0;stroke:rgb(16.1%,15.3%,14.1%);stroke-opacity:1.0;stroke-width:1.0\" id=\"t8e76f0646327482b9fade930647b1c24\"><g class=\"toyplot-coordinates-Cartesian\" id=\"t7acf45e8585243f593fd5a5358e6313f\"><clipPath id=\"t850faf37926a4bf39af476dd8d47c9f1\"><rect x=\"35.0\" y=\"35.0\" width=\"230.0\" height=\"248.5\"></rect></clipPath><g clip-path=\"url(#t850faf37926a4bf39af476dd8d47c9f1)\"><g class=\"toytree-mark-Toytree\" id=\"t13b20c80f9304a22876dedacf3c0152d\"><g class=\"toytree-Edges\" style=\"stroke:rgb(14.5%,14.5%,14.5%);stroke-opacity:1.0;stroke-linecap:round;stroke-width:2.0;fill:none\"><path d=\"M 149.3 243.0 L 149.3 259.8 L 210.6 259.8\" id=\"11,0\" style=\"\"></path><path d=\"M 180.0 226.3 L 180.0 237.4 L 210.6 237.4\" id=\"10,1\" style=\"\"></path><path d=\"M 180.0 226.3 L 180.0 215.1 L 210.6 215.1\" id=\"10,2\" style=\"\"></path><path d=\"M 118.6 217.9 L 118.6 192.8 L 210.6 192.8\" id=\"12,3\" style=\"\"></path><path d=\"M 180.0 159.2 L 180.0 170.4 L 210.6 170.4\" id=\"13,4\" style=\"\"></path><path d=\"M 180.0 159.2 L 180.0 148.1 L 210.6 148.1\" id=\"13,5\" style=\"\"></path><path d=\"M 149.3 109.0 L 149.3 125.7 L 210.6 125.7\" id=\"15,6\" style=\"\"></path><path d=\"M 180.0 92.2 L 180.0 103.4 L 210.6 103.4\" id=\"14,7\" style=\"\"></path><path d=\"M 180.0 92.2 L 180.0 81.1 L 210.6 81.1\" id=\"14,8\" style=\"\"></path><path d=\"M 118.6 83.9 L 118.6 58.7 L 210.6 58.7\" id=\"16,9\" style=\"\"></path><path d=\"M 149.3 243.0 L 149.3 226.3 L 180.0 226.3\" id=\"11,10\" style=\"\"></path><path d=\"M 118.6 217.9 L 118.6 243.0 L 149.3 243.0\" id=\"12,11\" style=\"\"></path><path d=\"M 57.3 169.7 L 57.3 217.9 L 118.6 217.9\" id=\"18,12\" style=\"\"></path><path d=\"M 88.0 121.6 L 88.0 159.2 L 180.0 159.2\" id=\"17,13\" style=\"\"></path><path d=\"M 149.3 109.0 L 149.3 92.2 L 180.0 92.2\" id=\"15,14\" style=\"\"></path><path d=\"M 118.6 83.9 L 118.6 109.0 L 149.3 109.0\" id=\"16,15\" style=\"\"></path><path d=\"M 88.0 121.6 L 88.0 83.9 L 118.6 83.9\" id=\"17,16\" style=\"\"></path><path d=\"M 57.3 169.7 L 57.3 121.6 L 88.0 121.6\" id=\"18,17\" style=\"\"></path></g><g class=\"toytree-AdmixEdges\" style=\"fill:rgb(0.0%,0.0%,0.0%);fill-opacity:0.0;stroke:rgb(90.6%,54.1%,76.5%);stroke-opacity:0.6;font-size:14px;stroke-linecap:round;stroke-width:5\"></g><g class=\"toytree-Nodes\" style=\"fill:rgb(82.7%,82.7%,82.7%);fill-opacity:1.0;stroke:rgb(14.5%,14.5%,14.5%);stroke-opacity:1.0;stroke-width:1.5\"><g id=\"Node-0\" transform=\"translate(210.637,259.76)\"><circle r=\"8.0\"></circle></g><g id=\"Node-1\" transform=\"translate(210.637,237.424)\"><circle r=\"8.0\"></circle></g><g id=\"Node-2\" transform=\"translate(210.637,215.089)\"><circle r=\"8.0\"></circle></g><g id=\"Node-3\" transform=\"translate(210.637,192.753)\"><circle r=\"8.0\"></circle></g><g id=\"Node-4\" transform=\"translate(210.637,170.418)\"><circle r=\"8.0\"></circle></g><g id=\"Node-5\" transform=\"translate(210.637,148.082)\"><circle r=\"8.0\"></circle></g><g id=\"Node-6\" transform=\"translate(210.637,125.747)\"><circle r=\"8.0\"></circle></g><g id=\"Node-7\" transform=\"translate(210.637,103.411)\"><circle r=\"8.0\"></circle></g><g id=\"Node-8\" transform=\"translate(210.637,81.0756)\"><circle r=\"8.0\"></circle></g><g id=\"Node-9\" transform=\"translate(210.637,58.74)\"><circle r=\"8.0\"></circle></g><g id=\"Node-10\" transform=\"translate(179.967,226.257)\"><circle r=\"8.0\"></circle></g><g id=\"Node-11\" transform=\"translate(149.296,243.008)\"><circle r=\"8.0\"></circle></g><g id=\"Node-12\" transform=\"translate(118.625,217.881)\"><circle r=\"8.0\"></circle></g><g id=\"Node-13\" transform=\"translate(179.967,159.25)\"><circle r=\"8.0\"></circle></g><g id=\"Node-14\" transform=\"translate(179.967,92.2433)\"><circle r=\"8.0\"></circle></g><g id=\"Node-15\" transform=\"translate(149.296,108.995)\"><circle r=\"8.0\"></circle></g><g id=\"Node-16\" transform=\"translate(118.625,83.8675)\"><circle r=\"8.0\"></circle></g><g id=\"Node-17\" transform=\"translate(87.9549,121.559)\"><circle r=\"8.0\"></circle></g><g id=\"Node-18\" transform=\"translate(57.2843,169.72)\"><circle r=\"8.0\"></circle></g></g><g class=\"toytree-NodeLabels\" style=\"font-family:Helvetica;font-size:9px;font-weight:300;vertical-align:baseline;white-space:pre;stroke:none\"><g class=\"toytree-NodeLabel\" transform=\"translate(210.637,259.76)\"><text x=\"-2.5020000000000002\" y=\"2.2995\" style=\"fill:rgb(14.5%,14.5%,14.5%);fill-opacity:1.0\">0</text></g><g class=\"toytree-NodeLabel\" transform=\"translate(210.637,237.424)\"><text x=\"-2.5020000000000002\" y=\"2.2995\" style=\"fill:rgb(14.5%,14.5%,14.5%);fill-opacity:1.0\">1</text></g><g class=\"toytree-NodeLabel\" transform=\"translate(210.637,215.089)\"><text x=\"-2.5020000000000002\" y=\"2.2995\" style=\"fill:rgb(14.5%,14.5%,14.5%);fill-opacity:1.0\">2</text></g><g class=\"toytree-NodeLabel\" transform=\"translate(210.637,192.753)\"><text x=\"-2.5020000000000002\" y=\"2.2995\" style=\"fill:rgb(14.5%,14.5%,14.5%);fill-opacity:1.0\">3</text></g><g class=\"toytree-NodeLabel\" transform=\"translate(210.637,170.418)\"><text x=\"-2.5020000000000002\" y=\"2.2995\" style=\"fill:rgb(14.5%,14.5%,14.5%);fill-opacity:1.0\">4</text></g><g class=\"toytree-NodeLabel\" transform=\"translate(210.637,148.082)\"><text x=\"-2.5020000000000002\" y=\"2.2995\" style=\"fill:rgb(14.5%,14.5%,14.5%);fill-opacity:1.0\">5</text></g><g class=\"toytree-NodeLabel\" transform=\"translate(210.637,125.747)\"><text x=\"-2.5020000000000002\" y=\"2.2995\" style=\"fill:rgb(14.5%,14.5%,14.5%);fill-opacity:1.0\">6</text></g><g class=\"toytree-NodeLabel\" transform=\"translate(210.637,103.411)\"><text x=\"-2.5020000000000002\" y=\"2.2995\" style=\"fill:rgb(14.5%,14.5%,14.5%);fill-opacity:1.0\">7</text></g><g class=\"toytree-NodeLabel\" transform=\"translate(210.637,81.0756)\"><text x=\"-2.5020000000000002\" y=\"2.2995\" style=\"fill:rgb(14.5%,14.5%,14.5%);fill-opacity:1.0\">8</text></g><g class=\"toytree-NodeLabel\" transform=\"translate(210.637,58.74)\"><text x=\"-2.5020000000000002\" y=\"2.2995\" style=\"fill:rgb(14.5%,14.5%,14.5%);fill-opacity:1.0\">9</text></g><g class=\"toytree-NodeLabel\" transform=\"translate(179.967,226.257)\"><text x=\"-5.0040000000000004\" y=\"2.2995\" style=\"fill:rgb(14.5%,14.5%,14.5%);fill-opacity:1.0\">10</text></g><g class=\"toytree-NodeLabel\" transform=\"translate(149.296,243.008)\"><text x=\"-5.0040000000000004\" y=\"2.2995\" style=\"fill:rgb(14.5%,14.5%,14.5%);fill-opacity:1.0\">11</text></g><g class=\"toytree-NodeLabel\" transform=\"translate(118.625,217.881)\"><text x=\"-5.0040000000000004\" y=\"2.2995\" style=\"fill:rgb(14.5%,14.5%,14.5%);fill-opacity:1.0\">12</text></g><g class=\"toytree-NodeLabel\" transform=\"translate(179.967,159.25)\"><text x=\"-5.0040000000000004\" y=\"2.2995\" style=\"fill:rgb(14.5%,14.5%,14.5%);fill-opacity:1.0\">13</text></g><g class=\"toytree-NodeLabel\" transform=\"translate(179.967,92.2433)\"><text x=\"-5.0040000000000004\" y=\"2.2995\" style=\"fill:rgb(14.5%,14.5%,14.5%);fill-opacity:1.0\">14</text></g><g class=\"toytree-NodeLabel\" transform=\"translate(149.296,108.995)\"><text x=\"-5.0040000000000004\" y=\"2.2995\" style=\"fill:rgb(14.5%,14.5%,14.5%);fill-opacity:1.0\">15</text></g><g class=\"toytree-NodeLabel\" transform=\"translate(118.625,83.8675)\"><text x=\"-5.0040000000000004\" y=\"2.2995\" style=\"fill:rgb(14.5%,14.5%,14.5%);fill-opacity:1.0\">16</text></g><g class=\"toytree-NodeLabel\" transform=\"translate(87.9549,121.559)\"><text x=\"-5.0040000000000004\" y=\"2.2995\" style=\"fill:rgb(14.5%,14.5%,14.5%);fill-opacity:1.0\">17</text></g><g class=\"toytree-NodeLabel\" transform=\"translate(57.2843,169.72)\"><text x=\"-5.0040000000000004\" y=\"2.2995\" style=\"fill:rgb(14.5%,14.5%,14.5%);fill-opacity:1.0\">18</text></g></g><g class=\"toytree-TipLabels\" style=\"fill:rgb(14.5%,14.5%,14.5%);fill-opacity:1.0;font-family:Helvetica;font-size:12px;font-weight:300;vertical-align:baseline;white-space:pre;stroke:none\"><g class=\"toytree-TipLabel\" transform=\"translate(210.637,259.76)\"><text x=\"15.0\" y=\"3.066\" style=\"fill:rgb(14.5%,14.5%,14.5%);fill-opacity:1.0\">r0</text></g><g class=\"toytree-TipLabel\" transform=\"translate(210.637,237.424)\"><text x=\"15.0\" y=\"3.066\" style=\"fill:rgb(14.5%,14.5%,14.5%);fill-opacity:1.0\">r1</text></g><g class=\"toytree-TipLabel\" transform=\"translate(210.637,215.089)\"><text x=\"15.0\" y=\"3.066\" style=\"fill:rgb(14.5%,14.5%,14.5%);fill-opacity:1.0\">r2</text></g><g class=\"toytree-TipLabel\" transform=\"translate(210.637,192.753)\"><text x=\"15.0\" y=\"3.066\" style=\"fill:rgb(14.5%,14.5%,14.5%);fill-opacity:1.0\">r3</text></g><g class=\"toytree-TipLabel\" transform=\"translate(210.637,170.418)\"><text x=\"15.0\" y=\"3.066\" style=\"fill:rgb(14.5%,14.5%,14.5%);fill-opacity:1.0\">r4</text></g><g class=\"toytree-TipLabel\" transform=\"translate(210.637,148.082)\"><text x=\"15.0\" y=\"3.066\" style=\"fill:rgb(14.5%,14.5%,14.5%);fill-opacity:1.0\">r5</text></g><g class=\"toytree-TipLabel\" transform=\"translate(210.637,125.747)\"><text x=\"15.0\" y=\"3.066\" style=\"fill:rgb(14.5%,14.5%,14.5%);fill-opacity:1.0\">r6</text></g><g class=\"toytree-TipLabel\" transform=\"translate(210.637,103.411)\"><text x=\"15.0\" y=\"3.066\" style=\"fill:rgb(14.5%,14.5%,14.5%);fill-opacity:1.0\">r7</text></g><g class=\"toytree-TipLabel\" transform=\"translate(210.637,81.0756)\"><text x=\"15.0\" y=\"3.066\" style=\"fill:rgb(14.5%,14.5%,14.5%);fill-opacity:1.0\">r8</text></g><g class=\"toytree-TipLabel\" transform=\"translate(210.637,58.74)\"><text x=\"15.0\" y=\"3.066\" style=\"fill:rgb(14.5%,14.5%,14.5%);fill-opacity:1.0\">r9</text></g></g></g></g></g></svg><div class=\"toyplot-behavior\"><script>(function()\n",
       "{\n",
       "var modules={};\n",
       "})();</script></div></div>"
      ]
     },
     "metadata": {},
     "output_type": "display_data"
    }
   ],
   "source": [
    "import toytree\n",
    "\n",
    "tree1 = toytree.rtree.rtree(ntips=10, seed=123)\n",
    "tree2 = toytree.rtree.rtree(ntips=10, seed=321)\n",
    "tree1.draw('s')\n",
    "tree2.draw('s')\n",
    "toytree.distance.get_treedist_quartets(tree1, tree2)\n"
   ]
  },
  {
   "cell_type": "markdown",
   "metadata": {},
   "source": [
    "Note: For reference, these two trees will be used for the rest of this notebook's examples."
   ]
  },
  {
   "cell_type": "markdown",
   "metadata": {},
   "source": [
    "\n",
    "### Robinson-Foulds distance  \n",
    "\n",
    "The Robinson-Foulds (RF) distance is a metric that measures the normalized* count of bipartitions induced by one tree, but not the other tree. In other words, it is the symmmetric difference between two bipart sets divided by the total number of bipartitions in both sets. ___Larger_ values indicate that the two trees are _more_ different__  \n",
    "\n",
    "*To show the normalized score, use `normalize=True`"
   ]
  },
  {
   "cell_type": "code",
   "execution_count": 3,
   "metadata": {},
   "outputs": [
    {
     "name": "stdout",
     "output_type": "stream",
     "text": [
      " normalized:  0.8571428571428571 \n",
      " default:  12\n"
     ]
    }
   ],
   "source": [
    "normalized = toytree.distance.get_treedist_rf(tree1, tree2, normalize=True)\n",
    "default = toytree.distance.get_treedist_rf(tree1, tree2)\n",
    "print(' normalized: ', normalized, '\\n','default: ',default)"
   ]
  },
  {
   "cell_type": "markdown",
   "metadata": {},
   "source": [
    "### Information-corrected Robinson-Foulds distance  \n",
    "\n",
    "The information-corrected Robinson-Foulds distance (RFI) measures the sum of the `phylogenetic information` of edges taht are different between two trees. `Information` is calculated as the __probability that a randomly sampled binary tree of the same size contains the split.__ Splits that contain less information (e.g.m a cherry vs a deep split) are more likely to arise by chance, and thus contribute less to the metric.  \n",
    "\n",
    "`normalize=True` normalizes the score relative to the sum of phylogenetic information present in both subtrees.\n",
    "\n"
   ]
  },
  {
   "cell_type": "code",
   "execution_count": 4,
   "metadata": {},
   "outputs": [
    {
     "name": "stdout",
     "output_type": "stream",
     "text": [
      " normalized:  0.8944865320126851 \n",
      " default:  66.2410417642415\n"
     ]
    }
   ],
   "source": [
    "normalized = toytree.distance.get_treedist_rfi(tree1, tree2, normalize=True)\n",
    "default = toytree.distance.get_treedist_rfi(tree1, tree2)\n",
    "print(' normalized: ', normalized, '\\n','default: ',default)"
   ]
  },
  {
   "cell_type": "markdown",
   "metadata": {},
   "source": [
    "### Generalized Robinson-Foulds Matching Split distance  \n",
    "\n"
   ]
  },
  {
   "cell_type": "code",
   "execution_count": 5,
   "metadata": {},
   "outputs": [
    {
     "name": "stderr",
     "output_type": "stream",
     "text": [
      "⚠️ toytree | treedist_utils:get_trees_matching_split_dist | no normalization method for matching split distance.\n"
     ]
    },
    {
     "name": "stdout",
     "output_type": "stream",
     "text": [
      " normalized:  15.0 \n",
      " default:  15.0\n"
     ]
    }
   ],
   "source": [
    "normalized = toytree.distance.get_treedist_rfg_ms(tree1, tree2, normalize=True)\n",
    "default = toytree.distance.get_treedist_rfg_ms(tree1, tree2, normalize=False)\n",
    "print(' normalized: ', normalized, '\\n','default: ',default)"
   ]
  },
  {
   "cell_type": "code",
   "execution_count": 6,
   "metadata": {},
   "outputs": [],
   "source": [
    "\n",
    "# toytree.distance.get_treedist_rfg_mci(tree1, tree2)\n",
    "# toytree.distance.get_treedist_rfg_msi(tree1, tree2)\n",
    "# toytree.distance.get_treedist_rfg_spi(tree1, tree2)"
   ]
  },
  {
   "cell_type": "markdown",
   "metadata": {},
   "source": [
    "### Matching Split Information Distance"
   ]
  },
  {
   "cell_type": "code",
   "execution_count": 7,
   "metadata": {},
   "outputs": [
    {
     "name": "stdout",
     "output_type": "stream",
     "text": [
      " normalized:  0.610108956007992 \n",
      " default:  0.610108956007992\n"
     ]
    }
   ],
   "source": [
    "normalized = toytree.distance.get_treedist_rfg_msi(tree1, tree2, normalize=True)\n",
    "default = toytree.distance.get_treedist_rfg_msi(tree1, tree2)\n",
    "print(' normalized: ', normalized, '\\n','default: ',default)"
   ]
  },
  {
   "cell_type": "markdown",
   "metadata": {},
   "source": [
    "### Generalized Robinson-Foulds Distance based on Shared Phylogenetic Infomration"
   ]
  },
  {
   "cell_type": "code",
   "execution_count": 8,
   "metadata": {},
   "outputs": [
    {
     "name": "stdout",
     "output_type": "stream",
     "text": [
      " normalized:  0.7141801751537229 \n",
      " default:  52.88848642930732\n"
     ]
    },
    {
     "name": "stderr",
     "output_type": "stream",
     "text": [
      "C:\\Users\\natet\\Desktop\\eatonlab\\toytree_NT\\toytree\\distance\\_src\\treedist_utils.py:208: RuntimeWarning: divide by zero encountered in log2\n",
      "  return -np.log2(_get_phylo_prob_two_splits(ntips, size_a1, size_a2))\n"
     ]
    }
   ],
   "source": [
    "normalized = toytree.distance.get_treedist_rfg_spi(tree1, tree2, normalize=True)\n",
    "default = toytree.distance.get_treedist_rfg_spi(tree1, tree2)\n",
    "print(' normalized: ', normalized, '\\n','default: ',default)"
   ]
  },
  {
   "cell_type": "markdown",
   "metadata": {},
   "source": [
    "### Generalized Robinson-Foulds Distance based on Mutual Clustering Information"
   ]
  },
  {
   "cell_type": "code",
   "execution_count": 9,
   "metadata": {},
   "outputs": [
    {
     "name": "stdout",
     "output_type": "stream",
     "text": [
      " normalized:  0.7141801751537229 \n",
      " default:  52.88848642930732\n"
     ]
    }
   ],
   "source": [
    "normalized = toytree.distance.get_treedist_rfg_spi(tree1, tree2, normalize=True)\n",
    "default = toytree.distance.get_treedist_rfg_spi(tree1, tree2)\n",
    "print(' normalized: ', normalized, '\\n','default: ',default)"
   ]
  }
 ],
 "metadata": {
  "kernelspec": {
   "display_name": "toytree_practice",
   "language": "python",
   "name": "toytree_practice"
  },
  "language_info": {
   "codemirror_mode": {
    "name": "ipython",
    "version": 3
   },
   "file_extension": ".py",
   "mimetype": "text/x-python",
   "name": "python",
   "nbconvert_exporter": "python",
   "pygments_lexer": "ipython3",
   "version": "3.12.4"
  }
 },
 "nbformat": 4,
 "nbformat_minor": 2
}
