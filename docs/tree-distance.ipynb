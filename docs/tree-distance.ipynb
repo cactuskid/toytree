{
 "cells": [
  {
   "cell_type": "markdown",
   "metadata": {},
   "source": [
    "# Tree distance metrics\n",
    "\n",
    "A number of tree distance metrics are implemented in toytree to calculate the difference between two trees based on a number of criteria. "
   ]
  },
  {
   "cell_type": "code",
   "execution_count": 1,
   "metadata": {},
   "outputs": [],
   "source": [
    "import toytree"
   ]
  },
  {
   "cell_type": "code",
   "execution_count": 2,
   "metadata": {},
   "outputs": [
    {
     "data": {
      "text/html": [
       "<div class=\"toyplot\" id=\"t47067fbf07014ed0aeaadd5edd3d775d\" style=\"text-align:center\"><svg class=\"toyplot-canvas-Canvas\" xmlns:toyplot=\"http://www.sandia.gov/toyplot\" xmlns:xlink=\"http://www.w3.org/1999/xlink\" xmlns=\"http://www.w3.org/2000/svg\" width=\"450.0px\" height=\"250.0px\" viewBox=\"0 0 450.0 250.0\" preserveAspectRatio=\"xMidYMid meet\" style=\"background-color:transparent;border-color:#292724;border-style:none;border-width:1.0;fill:rgb(16.1%,15.3%,14.1%);fill-opacity:1.0;font-family:Helvetica;font-size:12px;opacity:1.0;stroke:rgb(16.1%,15.3%,14.1%);stroke-opacity:1.0;stroke-width:1.0\" id=\"t3c6b04186bfd4649befa2c12df3e5d79\"><g class=\"toyplot-coordinates-Cartesian\" id=\"t159bb12b4ea34bf2b18d48aa9a190fd6\"><clipPath id=\"t8fef6e2136e14940be754fd8f62899fa\"><rect x=\"20.0\" y=\"40.0\" width=\"205.0\" height=\"170.0\"></rect></clipPath><g clip-path=\"url(#t8fef6e2136e14940be754fd8f62899fa)\"><g class=\"toytree-mark-Toytree\" id=\"t12541d1edac845a8b6eaa797acd23840\"><g class=\"toytree-Edges\" style=\"stroke:rgb(14.5%,14.5%,14.5%);stroke-opacity:1.0;stroke-linecap:round;stroke-width:2.0;fill:none\"><path d=\"M 145.5 184.5 L 145.5 194.4 L 183.8 194.4\" id=\"8,0\" style=\"\"></path><path d=\"M 145.5 184.5 L 145.5 174.6 L 183.8 174.6\" id=\"8,1\" style=\"\"></path><path d=\"M 145.5 144.8 L 145.5 154.8 L 183.8 154.8\" id=\"9,2\" style=\"\"></path><path d=\"M 145.5 144.8 L 145.5 134.9 L 183.8 134.9\" id=\"9,3\" style=\"\"></path><path d=\"M 107.3 105.2 L 107.3 115.1 L 183.8 115.1\" id=\"11,4\" style=\"\"></path><path d=\"M 107.3 105.2 L 107.3 95.2 L 183.8 95.2\" id=\"11,5\" style=\"\"></path><path d=\"M 69.1 65.5 L 69.1 75.4 L 183.8 75.4\" id=\"13,6\" style=\"\"></path><path d=\"M 69.1 65.5 L 69.1 55.6 L 183.8 55.6\" id=\"13,7\" style=\"\"></path><path d=\"M 107.3 164.7 L 107.3 184.5 L 145.5 184.5\" id=\"10,8\" style=\"\"></path><path d=\"M 107.3 164.7 L 107.3 144.8 L 145.5 144.8\" id=\"10,9\" style=\"\"></path><path d=\"M 69.1 134.9 L 69.1 164.7 L 107.3 164.7\" id=\"12,10\" style=\"\"></path><path d=\"M 69.1 134.9 L 69.1 105.2 L 107.3 105.2\" id=\"12,11\" style=\"\"></path><path d=\"M 30.8 100.2 L 30.8 134.9 L 69.1 134.9\" id=\"14,12\" style=\"\"></path><path d=\"M 30.8 100.2 L 30.8 65.5 L 69.1 65.5\" id=\"14,13\" style=\"\"></path></g><g class=\"toytree-AdmixEdges\" style=\"fill:rgb(0.0%,0.0%,0.0%);fill-opacity:0.0;stroke:rgb(90.6%,54.1%,76.5%);stroke-opacity:0.6;font-size:14px;stroke-linecap:round;stroke-width:5\"></g><g class=\"toytree-Nodes\" style=\"fill:rgb(40.0%,76.1%,64.7%);fill-opacity:1.0;stroke:rgb(14.9%,14.9%,14.9%);stroke-opacity:1.0;stroke-width:1.5\"></g><g class=\"toytree-TipLabels\" style=\"fill:rgb(14.5%,14.5%,14.5%);fill-opacity:1.0;font-family:Helvetica;font-size:10px;font-weight:300;vertical-align:baseline;white-space:pre;stroke:none\"><g class=\"toytree-TipLabel\" transform=\"translate(183.767,194.444)\"><text x=\"10.0\" y=\"2.5549999999999997\" style=\"fill:rgb(14.5%,14.5%,14.5%);fill-opacity:1.0\">r0</text></g><g class=\"toytree-TipLabel\" transform=\"translate(183.767,174.603)\"><text x=\"10.0\" y=\"2.5549999999999997\" style=\"fill:rgb(14.5%,14.5%,14.5%);fill-opacity:1.0\">r1</text></g><g class=\"toytree-TipLabel\" transform=\"translate(183.767,154.762)\"><text x=\"10.0\" y=\"2.5549999999999997\" style=\"fill:rgb(14.5%,14.5%,14.5%);fill-opacity:1.0\">r2</text></g><g class=\"toytree-TipLabel\" transform=\"translate(183.767,134.921)\"><text x=\"10.0\" y=\"2.5549999999999997\" style=\"fill:rgb(14.5%,14.5%,14.5%);fill-opacity:1.0\">r3</text></g><g class=\"toytree-TipLabel\" transform=\"translate(183.767,115.079)\"><text x=\"10.0\" y=\"2.5549999999999997\" style=\"fill:rgb(14.5%,14.5%,14.5%);fill-opacity:1.0\">r4</text></g><g class=\"toytree-TipLabel\" transform=\"translate(183.767,95.2381)\"><text x=\"10.0\" y=\"2.5549999999999997\" style=\"fill:rgb(14.5%,14.5%,14.5%);fill-opacity:1.0\">r5</text></g><g class=\"toytree-TipLabel\" transform=\"translate(183.767,75.3968)\"><text x=\"10.0\" y=\"2.5549999999999997\" style=\"fill:rgb(14.5%,14.5%,14.5%);fill-opacity:1.0\">r6</text></g><g class=\"toytree-TipLabel\" transform=\"translate(183.767,55.5556)\"><text x=\"10.0\" y=\"2.5549999999999997\" style=\"fill:rgb(14.5%,14.5%,14.5%);fill-opacity:1.0\">r7</text></g></g></g></g></g><g class=\"toyplot-coordinates-Cartesian\" id=\"t815cae3e55fe45ac9c235d691d30a966\"><clipPath id=\"t05e18d2f63c3476e98abc48ee613ffa4\"><rect x=\"245.0\" y=\"40.0\" width=\"205.0\" height=\"170.0\"></rect></clipPath><g clip-path=\"url(#t05e18d2f63c3476e98abc48ee613ffa4)\"><g class=\"toytree-mark-Toytree\" id=\"t11233dd6013040a9938c3fc8cc540c10\"><g class=\"toytree-Edges\" style=\"stroke:rgb(14.5%,14.5%,14.5%);stroke-opacity:1.0;stroke-linecap:round;stroke-width:2.0;fill:none\"><path d=\"M 286.4 184.5 L 286.4 194.4 L 408.8 194.4\" id=\"8,0\" style=\"\"></path><path d=\"M 286.4 184.5 L 286.4 174.6 L 408.8 174.6\" id=\"8,1\" style=\"\"></path><path d=\"M 317.0 144.8 L 317.0 154.8 L 408.8 154.8\" id=\"9,2\" style=\"\"></path><path d=\"M 317.0 144.8 L 317.0 134.9 L 408.8 134.9\" id=\"9,3\" style=\"\"></path><path d=\"M 347.6 100.2 L 347.6 115.1 L 408.8 115.1\" id=\"11,4\" style=\"\"></path><path d=\"M 378.2 85.3 L 378.2 95.2 L 408.8 95.2\" id=\"10,5\" style=\"\"></path><path d=\"M 378.2 85.3 L 378.2 75.4 L 408.8 75.4\" id=\"10,6\" style=\"\"></path><path d=\"M 317.0 77.9 L 317.0 55.6 L 408.8 55.6\" id=\"12,7\" style=\"\"></path><path d=\"M 255.8 147.9 L 255.8 184.5 L 286.4 184.5\" id=\"14,8\" style=\"\"></path><path d=\"M 286.4 111.4 L 286.4 144.8 L 317.0 144.8\" id=\"13,9\" style=\"\"></path><path d=\"M 347.6 100.2 L 347.6 85.3 L 378.2 85.3\" id=\"11,10\" style=\"\"></path><path d=\"M 317.0 77.9 L 317.0 100.2 L 347.6 100.2\" id=\"12,11\" style=\"\"></path><path d=\"M 286.4 111.4 L 286.4 77.9 L 317.0 77.9\" id=\"13,12\" style=\"\"></path><path d=\"M 255.8 147.9 L 255.8 111.4 L 286.4 111.4\" id=\"14,13\" style=\"\"></path></g><g class=\"toytree-AdmixEdges\" style=\"fill:rgb(0.0%,0.0%,0.0%);fill-opacity:0.0;stroke:rgb(90.6%,54.1%,76.5%);stroke-opacity:0.6;font-size:14px;stroke-linecap:round;stroke-width:5\"></g><g class=\"toytree-Nodes\" style=\"fill:rgb(40.0%,76.1%,64.7%);fill-opacity:1.0;stroke:rgb(14.9%,14.9%,14.9%);stroke-opacity:1.0;stroke-width:1.5\"></g><g class=\"toytree-TipLabels\" style=\"fill:rgb(14.5%,14.5%,14.5%);fill-opacity:1.0;font-family:Helvetica;font-size:10px;font-weight:300;vertical-align:baseline;white-space:pre;stroke:none\"><g class=\"toytree-TipLabel\" transform=\"translate(408.767,194.444)\"><text x=\"10.0\" y=\"2.5549999999999997\" style=\"fill:rgb(14.5%,14.5%,14.5%);fill-opacity:1.0\">r0</text></g><g class=\"toytree-TipLabel\" transform=\"translate(408.767,174.603)\"><text x=\"10.0\" y=\"2.5549999999999997\" style=\"fill:rgb(14.5%,14.5%,14.5%);fill-opacity:1.0\">r1</text></g><g class=\"toytree-TipLabel\" transform=\"translate(408.767,154.762)\"><text x=\"10.0\" y=\"2.5549999999999997\" style=\"fill:rgb(14.5%,14.5%,14.5%);fill-opacity:1.0\">r2</text></g><g class=\"toytree-TipLabel\" transform=\"translate(408.767,134.921)\"><text x=\"10.0\" y=\"2.5549999999999997\" style=\"fill:rgb(14.5%,14.5%,14.5%);fill-opacity:1.0\">r3</text></g><g class=\"toytree-TipLabel\" transform=\"translate(408.767,115.079)\"><text x=\"10.0\" y=\"2.5549999999999997\" style=\"fill:rgb(14.5%,14.5%,14.5%);fill-opacity:1.0\">r4</text></g><g class=\"toytree-TipLabel\" transform=\"translate(408.767,95.2381)\"><text x=\"10.0\" y=\"2.5549999999999997\" style=\"fill:rgb(14.5%,14.5%,14.5%);fill-opacity:1.0\">r5</text></g><g class=\"toytree-TipLabel\" transform=\"translate(408.767,75.3968)\"><text x=\"10.0\" y=\"2.5549999999999997\" style=\"fill:rgb(14.5%,14.5%,14.5%);fill-opacity:1.0\">r6</text></g><g class=\"toytree-TipLabel\" transform=\"translate(408.767,55.5556)\"><text x=\"10.0\" y=\"2.5549999999999997\" style=\"fill:rgb(14.5%,14.5%,14.5%);fill-opacity:1.0\">r7</text></g></g></g></g></g></svg><div class=\"toyplot-behavior\"><script>(function()\n",
       "{\n",
       "var modules={};\n",
       "})();</script></div></div>"
      ]
     },
     "metadata": {},
     "output_type": "display_data"
    }
   ],
   "source": [
    "# example trees\n",
    "tree1 = toytree.rtree.unittree(ntips=8, seed=123)\n",
    "tree2 = toytree.rtree.unittree(ntips=8, seed=987)\n",
    "toytree.mtree([tree1, tree2]).draw();"
   ]
  },
  {
   "cell_type": "markdown",
   "metadata": {},
   "source": [
    "## Quartet tree distance\n",
    "This returns a `pandas.Series` object with many tree distance metrics computed from the quartet set. You can select any individual stat from this Series by name. The arg `similarity=True` can be used to report similarity as opposed to dissimilarity scores. The quartet data in the result table includes the following metrics and statistics computed from them:\n",
    "\n",
    "$Q =$ Total possible quartets\n",
    "$S =$ Resolved in the same way between the two trees\n",
    "$D =$ Resolved differently between the two trees  \n",
    "$R1 =$ Unresolved in tree 1, resolved in tree 2  \n",
    "$R2 =$ Unresolved in tree 2, resolved in tree 1  \n",
    "$U =$  Unresolved in both trees  \n",
    "$N = S + D + R1 + R2 + U$\n",
    "\n",
    "_Estabrook GF, McMorris FR, Meacham CA (1985). “Comparison of undirected\n",
    "  phylogenetic trees based on subtrees of four evolutionary units.”\n",
    "  Systematic Zoology, 34(2), 193--200. doi:10.2307/2413326 ._"
   ]
  },
  {
   "cell_type": "code",
   "execution_count": 3,
   "metadata": {},
   "outputs": [
    {
     "data": {
      "text/plain": [
       "Q                              70.000000\n",
       "S                              57.000000\n",
       "D                              13.000000\n",
       "U                               0.000000\n",
       "R1                              0.000000\n",
       "R2                              0.000000\n",
       "N                              70.000000\n",
       "do_not_conflict                 0.185714\n",
       "explicitly_agree                0.185714\n",
       "strict_joint_assertions         0.185714\n",
       "semistrict_joint_assertions     0.185714\n",
       "steel_and_penny                 0.185714\n",
       "symmetric_difference            0.185714\n",
       "symmetric_divergence            0.628571\n",
       "similarity_to_reference         0.185714\n",
       "marczewski_steinhaus            0.313253\n",
       "dtype: float64"
      ]
     },
     "execution_count": 3,
     "metadata": {},
     "output_type": "execute_result"
    }
   ],
   "source": [
    "toytree.distance.get_treedist_quartets(tree1, tree2)"
   ]
  },
  {
   "cell_type": "markdown",
   "metadata": {},
   "source": [
    "## Robinson-Foulds distances\n",
    "The Robinson-Foulds (RF) distance is a metric that measures the normalized* count of bipartitions induced by one tree, but not the other tree. In other words, it is the symmmetric difference between two bipart sets divided by the total number of bipartitions in both sets. Larger values indicate that the two trees are _more_ different. *To show the normalized score, use `normalize=True`"
   ]
  },
  {
   "cell_type": "code",
   "execution_count": 4,
   "metadata": {},
   "outputs": [
    {
     "data": {
      "text/plain": [
       "0.4"
      ]
     },
     "execution_count": 4,
     "metadata": {},
     "output_type": "execute_result"
    }
   ],
   "source": [
    "toytree.distance.get_treedist_rf(tree1, tree2, normalize=True)"
   ]
  },
  {
   "cell_type": "markdown",
   "metadata": {},
   "source": [
    "### RFi (information-corrected)\n",
    "\n",
    "The information-corrected Robinson-Foulds distance (RFI) measures the sum of the `phylogenetic information` of edges that are different between two trees. `Information` is calculated as the __probability that a randomly sampled binary tree of the same size contains the split.__ Splits that contain less information (e.g. a cherry vs a deep split) are more likely to arise by chance, and thus contribute less to the metric. `normalize=True` normalizes the score relative to the sum of phylogenetic information present in both subtrees."
   ]
  },
  {
   "cell_type": "code",
   "execution_count": 5,
   "metadata": {},
   "outputs": [
    {
     "data": {
      "text/plain": [
       "0.3825066230466303"
      ]
     },
     "execution_count": 5,
     "metadata": {},
     "output_type": "execute_result"
    }
   ],
   "source": [
    "toytree.distance.get_treedist_rfi(tree1, tree2, normalize=True)"
   ]
  },
  {
   "cell_type": "markdown",
   "metadata": {},
   "source": [
    "### RFg_ms (matching split)\n",
    "Return the Matching Split Distance...."
   ]
  },
  {
   "cell_type": "code",
   "execution_count": 6,
   "metadata": {},
   "outputs": [
    {
     "data": {
      "text/plain": [
       "3.0"
      ]
     },
     "execution_count": 6,
     "metadata": {},
     "output_type": "execute_result"
    }
   ],
   "source": [
    "toytree.distance.get_treedist_rfg_ms(tree1, tree2, normalize=False)"
   ]
  },
  {
   "cell_type": "markdown",
   "metadata": {},
   "source": [
    "### RFg_msi (matching split info)\n",
    "Return the Matching Split Information Distance."
   ]
  },
  {
   "cell_type": "code",
   "execution_count": 8,
   "metadata": {},
   "outputs": [
    {
     "data": {
      "text/plain": [
       "0.2672083416810132"
      ]
     },
     "execution_count": 8,
     "metadata": {},
     "output_type": "execute_result"
    }
   ],
   "source": [
    "toytree.distance.get_treedist_rfg_msi(tree1, tree2, normalize=True)"
   ]
  },
  {
   "cell_type": "markdown",
   "metadata": {},
   "source": [
    "### RFg_mci (mutual clustering info)\n",
    "Generalized Robinson-Foulds Distance based on Mutual Clustering Information"
   ]
  },
  {
   "cell_type": "code",
   "execution_count": 13,
   "metadata": {},
   "outputs": [
    {
     "data": {
      "text/plain": [
       "0.2672083416810132"
      ]
     },
     "execution_count": 13,
     "metadata": {},
     "output_type": "execute_result"
    }
   ],
   "source": [
    "toytree.distance.get_treedist_rfg_mci(tree1, tree2, normalize=True)"
   ]
  },
  {
   "cell_type": "markdown",
   "metadata": {},
   "source": [
    "### RFg_spi (shared phylo info)\n",
    "Generalized Robinson-Foulds Distance based on Shared Phylogenetic Infomration"
   ]
  },
  {
   "cell_type": "code",
   "execution_count": 14,
   "metadata": {},
   "outputs": [
    {
     "name": "stderr",
     "output_type": "stream",
     "text": [
      "/home/deren/Documents/tools/toytree/toytree/distance/_src/treedist_utils.py:208: RuntimeWarning: divide by zero encountered in log2\n",
      "  return -np.log2(_get_phylo_prob_two_splits(ntips, size_a1, size_a2))\n"
     ]
    },
    {
     "data": {
      "text/plain": [
       "0.7654522482646553"
      ]
     },
     "execution_count": 14,
     "metadata": {},
     "output_type": "execute_result"
    }
   ],
   "source": [
    "toytree.distance.get_treedist_rfg_spi(tree1, tree2, normalize=True)"
   ]
  }
 ],
 "metadata": {
  "kernelspec": {
   "display_name": "Python 3 (ipykernel)",
   "language": "python",
   "name": "python3"
  },
  "language_info": {
   "codemirror_mode": {
    "name": "ipython",
    "version": 3
   },
   "file_extension": ".py",
   "mimetype": "text/x-python",
   "name": "python",
   "nbconvert_exporter": "python",
   "pygments_lexer": "ipython3",
   "version": "3.12.4"
  }
 },
 "nbformat": 4,
 "nbformat_minor": 4
}
