{
 "cells": [
  {
   "cell_type": "markdown",
   "id": "3e74516a",
   "metadata": {},
   "source": [
    "# Tree Parsing (I/O)\n",
    "\n",
    "Parsing tree data involves loading a tree topology and associated metadata from a serialized text format into a \n",
    "data structure. `toytree` loads trees from a variety of text formats (Newick, nexus, NHX) stored in a file, URL, or string, and returns a `ToyTree` class object.\n",
    "\n",
    "This is made incredibly simple in `toytree` through the general purpose `toytree.tree()` function. In most cases, you can simply call this method on your data (string, file, or URL), without having to even specify the input data type or format."
   ]
  },
  {
   "cell_type": "code",
   "execution_count": 1,
   "id": "c82d99d7",
   "metadata": {},
   "outputs": [],
   "source": [
    "import toytree"
   ]
  },
  {
   "cell_type": "code",
   "execution_count": 2,
   "id": "65aad014",
   "metadata": {},
   "outputs": [
    {
     "data": {
      "text/plain": [
       "<toytree.ToyTree at 0x7f6e4600b640>"
      ]
     },
     "execution_count": 2,
     "metadata": {},
     "output_type": "execute_result"
    }
   ],
   "source": [
    "# example newick string\n",
    "DATA = \"((tip1:2,tip2:2):1,tip3:3);\"\n",
    "\n",
    "# load/parse into a ToyTree\n",
    "tree = toytree.tree(DATA)\n",
    "tree"
   ]
  },
  {
   "cell_type": "markdown",
   "id": "18458801",
   "metadata": {},
   "source": [
    "<div class=\"admonition tip\">\n",
    "  <p class=\"admonition-title\">Take Home</p>\n",
    "  <p>\n",
    "      You can parse almost any tree data (file, string, nexus, newick, etc) using <b>toytree.tree()</b>.\n",
    "  </p>\n",
    "</div>"
   ]
  },
  {
   "cell_type": "markdown",
   "id": "d18581eb",
   "metadata": {},
   "source": [
    "## Tree data formats\n",
    "Below are examples of the common Newick, NHX, and Nexus tree data formats. Newick is the base format from which the other two formats are extensions. More details on parsing each format is described further below. While a few additional formats (e.g., JSON or XML) are sometimes used to store tree data, these Newick-based formats are most common."
   ]
  },
  {
   "cell_type": "code",
   "execution_count": 3,
   "id": "f3b0aa9a",
   "metadata": {},
   "outputs": [],
   "source": [
    "# newick: represents a topology using nested parentheses\n",
    "NEWICK0 = \"((,),);\""
   ]
  },
  {
   "cell_type": "code",
   "execution_count": 4,
   "id": "6a1c9b6f",
   "metadata": {},
   "outputs": [],
   "source": [
    "# newick: name strings are usually present for tips as `(label,)`\n",
    "NEWICK1 = \"((tip1,tip2),tip3);\""
   ]
  },
  {
   "cell_type": "code",
   "execution_count": 5,
   "id": "0a3d2402",
   "metadata": {},
   "outputs": [],
   "source": [
    "# newick: names can also be present for internal nodes as `()label`\n",
    "NEWICK2 = \"((tip1,tip2)internal1,tip3)internal2;\""
   ]
  },
  {
   "cell_type": "code",
   "execution_count": 6,
   "id": "3533becf",
   "metadata": {},
   "outputs": [],
   "source": [
    "# newick: edge lengths (dists) are usually present as `()label:dist`\n",
    "NEWICK3 = \"((tip1:2,tip2:2):1,tip3:3);\""
   ]
  },
  {
   "cell_type": "code",
   "execution_count": 7,
   "id": "c89203a3",
   "metadata": {},
   "outputs": [],
   "source": [
    "# newick: support values can be stored in place of internal names `()support`\n",
    "NEWICK4 = \"((tip1,tip2)100,tip3);\""
   ]
  },
  {
   "cell_type": "code",
   "execution_count": 8,
   "id": "115d6971",
   "metadata": {},
   "outputs": [],
   "source": [
    "# nhx: additional metadata is stored as key=value pairs as `()[meta]`\n",
    "NHX1 = \"((tip1[&trait=2],tip2[&trait=4])[&trait=3],tip3[&trait=1])[&trait=5];\""
   ]
  },
  {
   "cell_type": "code",
   "execution_count": 9,
   "id": "a251e2d5",
   "metadata": {},
   "outputs": [],
   "source": [
    "# nexus: newick/NHX data with other code blocks between (begin... end;)  \n",
    "NEXUS1 = \"\"\"\n",
    "#NEXUS\n",
    "begin trees;\n",
    "    translate\n",
    "        1 apple,\n",
    "        2 blueberry,\n",
    "        3 cantaloupe,\n",
    "        4 durian,\n",
    "    ;\n",
    "    tree tree0 = [&U] ((1,2),(3,4));\n",
    "end;\n",
    "\"\"\""
   ]
  },
  {
   "cell_type": "markdown",
   "id": "1bb60b51",
   "metadata": {},
   "source": [
    "## Parsing ToyTrees (tldr;)\n",
    "Parsing tree data is made simple in `toytree` through the general purpose `toytree.tree()` function. For example, this method can parse all of the above data strings correctly without the need of any additional arguments to specify the data or metadata formats. Moreover, it can can parse these data regardless of whether they are entered as a string, or as a file path, or even a public URL. In this way, `toytree.tree()` acts as a sort of swiss army knife for tree data parsing. "
   ]
  },
  {
   "cell_type": "code",
   "execution_count": 10,
   "id": "223cbf9c",
   "metadata": {},
   "outputs": [
    {
     "data": {
      "text/plain": [
       "[<toytree.ToyTree at 0x7f6e4600be50>,\n",
       " <toytree.ToyTree at 0x7f6e46048280>,\n",
       " <toytree.ToyTree at 0x7f6e460485e0>,\n",
       " <toytree.ToyTree at 0x7f6e46048a90>,\n",
       " <toytree.ToyTree at 0x7f6e46048f40>,\n",
       " <toytree.ToyTree at 0x7f6e460493f0>,\n",
       " <toytree.ToyTree at 0x7f6e46049900>]"
      ]
     },
     "execution_count": 10,
     "metadata": {},
     "output_type": "execute_result"
    }
   ],
   "source": [
    "# parse all 7 tree data strings from above into ToyTree objects\n",
    "data = [NEWICK0, NEWICK1, NEWICK2, NEWICK3, NEWICK4, NHX1, NEXUS1]\n",
    "trees = [toytree.tree(i) for i in data]\n",
    "trees"
   ]
  },
  {
   "cell_type": "markdown",
   "id": "e8a6308b",
   "metadata": {},
   "source": [
    "## Newick format\n",
    "\n",
    "A `ToyTree` can be flexibly loaded from a range of text formats. When parsing Newick\n",
    "data it is important to be aware of its limitations. Specifically, that internal node\n",
    "labels are sometimes used for different purposes, to store either node names, node support\n",
    "values (as int or floats), and sometimes for other forms of metadata. The `toytree.tree`\n",
    "function will auto-detect whether these labels should be stored as names or supports based\n",
    "on their values being numeric or not, however, you can also override this behavior to assign\n",
    "the values to a feature name of your choice. This is demonstrated below using two examples\n",
    "of Newick strings with different internal node label types (`NEWICK2` and `NEWICK4`, from above)."
   ]
  },
  {
   "cell_type": "markdown",
   "id": "968d4161",
   "metadata": {},
   "source": [
    "### Internal labels as names\n",
    "If any internal node labels present are non-numeric then they will be parsed and stored as \"name\" features of Nodes. In the example below the Newick string is parsed into a ToyTree object and its `.get_node_data()` function is called to show the tree's metadata, showing that labels were assigned to 'name'."
   ]
  },
  {
   "cell_type": "code",
   "execution_count": 11,
   "id": "636bd516",
   "metadata": {},
   "outputs": [
    {
     "name": "stdout",
     "output_type": "stream",
     "text": [
      "Newick = ((tip1,tip2)internal1,tip3)internal2;\n"
     ]
    },
    {
     "data": {
      "text/html": [
       "<div>\n",
       "<style scoped>\n",
       "    .dataframe tbody tr th:only-of-type {\n",
       "        vertical-align: middle;\n",
       "    }\n",
       "\n",
       "    .dataframe tbody tr th {\n",
       "        vertical-align: top;\n",
       "    }\n",
       "\n",
       "    .dataframe thead th {\n",
       "        text-align: right;\n",
       "    }\n",
       "</style>\n",
       "<table border=\"1\" class=\"dataframe\">\n",
       "  <thead>\n",
       "    <tr style=\"text-align: right;\">\n",
       "      <th></th>\n",
       "      <th>idx</th>\n",
       "      <th>name</th>\n",
       "      <th>height</th>\n",
       "      <th>dist</th>\n",
       "      <th>support</th>\n",
       "    </tr>\n",
       "  </thead>\n",
       "  <tbody>\n",
       "    <tr>\n",
       "      <th>0</th>\n",
       "      <td>0</td>\n",
       "      <td>tip1</td>\n",
       "      <td>0.0</td>\n",
       "      <td>1.0</td>\n",
       "      <td>NaN</td>\n",
       "    </tr>\n",
       "    <tr>\n",
       "      <th>1</th>\n",
       "      <td>1</td>\n",
       "      <td>tip2</td>\n",
       "      <td>0.0</td>\n",
       "      <td>1.0</td>\n",
       "      <td>NaN</td>\n",
       "    </tr>\n",
       "    <tr>\n",
       "      <th>2</th>\n",
       "      <td>2</td>\n",
       "      <td>tip3</td>\n",
       "      <td>1.0</td>\n",
       "      <td>1.0</td>\n",
       "      <td>NaN</td>\n",
       "    </tr>\n",
       "    <tr>\n",
       "      <th>3</th>\n",
       "      <td>3</td>\n",
       "      <td>internal1</td>\n",
       "      <td>1.0</td>\n",
       "      <td>1.0</td>\n",
       "      <td>NaN</td>\n",
       "    </tr>\n",
       "    <tr>\n",
       "      <th>4</th>\n",
       "      <td>4</td>\n",
       "      <td>internal2</td>\n",
       "      <td>2.0</td>\n",
       "      <td>0.0</td>\n",
       "      <td>NaN</td>\n",
       "    </tr>\n",
       "  </tbody>\n",
       "</table>\n",
       "</div>"
      ],
      "text/plain": [
       "   idx       name  height  dist  support\n",
       "0    0       tip1     0.0   1.0      NaN\n",
       "1    1       tip2     0.0   1.0      NaN\n",
       "2    2       tip3     1.0   1.0      NaN\n",
       "3    3  internal1     1.0   1.0      NaN\n",
       "4    4  internal2     2.0   0.0      NaN"
      ]
     },
     "execution_count": 11,
     "metadata": {},
     "output_type": "execute_result"
    }
   ],
   "source": [
    "# print newick with str labels for tips and internal nodes\n",
    "print(f\"Newick = {NEWICK2}\")\n",
    "\n",
    "# parse the newick string with .tree()\n",
    "tree = toytree.tree(NEWICK2)\n",
    "\n",
    "# show the tree data (labels were assigned to 'name' feature)\n",
    "tree.get_node_data()"
   ]
  },
  {
   "cell_type": "markdown",
   "id": "58d35575",
   "metadata": {},
   "source": [
    "### Internal labels as support\n",
    "In contrast to the example above, you can see that the internal labels here are numeric and have thus been stored as \"support\" features instead of \"name\", and the internal nodes have names set to the default empty strings. This is the typical format of a Newick string generated by phylogenetic inference software, usually representing some kind of support values. Note that tip nodes/edges do not have support values, nor does the root edge. Support values are actually features of edges, not nodes. This is important for how they are re-oriented when trees are re-rooted (see [Edge Features](edge-features))."
   ]
  },
  {
   "cell_type": "code",
   "execution_count": 12,
   "id": "51ee3abc",
   "metadata": {},
   "outputs": [
    {
     "name": "stdout",
     "output_type": "stream",
     "text": [
      "Newick = ((tip1,tip2)100,tip3);\n"
     ]
    },
    {
     "data": {
      "text/html": [
       "<div>\n",
       "<style scoped>\n",
       "    .dataframe tbody tr th:only-of-type {\n",
       "        vertical-align: middle;\n",
       "    }\n",
       "\n",
       "    .dataframe tbody tr th {\n",
       "        vertical-align: top;\n",
       "    }\n",
       "\n",
       "    .dataframe thead th {\n",
       "        text-align: right;\n",
       "    }\n",
       "</style>\n",
       "<table border=\"1\" class=\"dataframe\">\n",
       "  <thead>\n",
       "    <tr style=\"text-align: right;\">\n",
       "      <th></th>\n",
       "      <th>idx</th>\n",
       "      <th>name</th>\n",
       "      <th>height</th>\n",
       "      <th>dist</th>\n",
       "      <th>support</th>\n",
       "    </tr>\n",
       "  </thead>\n",
       "  <tbody>\n",
       "    <tr>\n",
       "      <th>0</th>\n",
       "      <td>0</td>\n",
       "      <td>tip1</td>\n",
       "      <td>0.0</td>\n",
       "      <td>1.0</td>\n",
       "      <td>NaN</td>\n",
       "    </tr>\n",
       "    <tr>\n",
       "      <th>1</th>\n",
       "      <td>1</td>\n",
       "      <td>tip2</td>\n",
       "      <td>0.0</td>\n",
       "      <td>1.0</td>\n",
       "      <td>NaN</td>\n",
       "    </tr>\n",
       "    <tr>\n",
       "      <th>2</th>\n",
       "      <td>2</td>\n",
       "      <td>tip3</td>\n",
       "      <td>1.0</td>\n",
       "      <td>1.0</td>\n",
       "      <td>NaN</td>\n",
       "    </tr>\n",
       "    <tr>\n",
       "      <th>3</th>\n",
       "      <td>3</td>\n",
       "      <td></td>\n",
       "      <td>1.0</td>\n",
       "      <td>1.0</td>\n",
       "      <td>100.0</td>\n",
       "    </tr>\n",
       "    <tr>\n",
       "      <th>4</th>\n",
       "      <td>4</td>\n",
       "      <td></td>\n",
       "      <td>2.0</td>\n",
       "      <td>0.0</td>\n",
       "      <td>NaN</td>\n",
       "    </tr>\n",
       "  </tbody>\n",
       "</table>\n",
       "</div>"
      ],
      "text/plain": [
       "   idx  name  height  dist  support\n",
       "0    0  tip1     0.0   1.0      NaN\n",
       "1    1  tip2     0.0   1.0      NaN\n",
       "2    2  tip3     1.0   1.0      NaN\n",
       "3    3           1.0   1.0    100.0\n",
       "4    4           2.0   0.0      NaN"
      ]
     },
     "execution_count": 12,
     "metadata": {},
     "output_type": "execute_result"
    }
   ],
   "source": [
    "# print newick with str labels for tips and int labels for internal nodes\n",
    "print(f\"Newick = {NEWICK4}\")\n",
    "\n",
    "# parse the newick string with .tree()\n",
    "tree = toytree.tree(NEWICK4)\n",
    "\n",
    "# show the tree data (labels assigned to 'support' for internal Node)\n",
    "tree.get_node_data()"
   ]
  },
  {
   "cell_type": "markdown",
   "id": "8c956b15",
   "metadata": {},
   "source": [
    "### Internal labels explicit\n",
    "As you've seen the use of internal Newick labels can be inconsistent, which is one of the main reasons that the extended Newick format (NHX) was developed, which will be introduced next. Nevertheless, instead of relying on the `toytree.tree` function to automatically parse the internal label as a name or support value, you can optionally enter the feature name you want the values assigned to explicitly using the `internal_labels` arg. For example, you could enter \"name\", or \"support\", in which case it will still be parsed as `str` or `float` tyeps, or you can enter any other name to store as a different feature name."
   ]
  },
  {
   "cell_type": "code",
   "execution_count": 13,
   "id": "75ed3d72",
   "metadata": {},
   "outputs": [
    {
     "data": {
      "text/html": [
       "<div>\n",
       "<style scoped>\n",
       "    .dataframe tbody tr th:only-of-type {\n",
       "        vertical-align: middle;\n",
       "    }\n",
       "\n",
       "    .dataframe tbody tr th {\n",
       "        vertical-align: top;\n",
       "    }\n",
       "\n",
       "    .dataframe thead th {\n",
       "        text-align: right;\n",
       "    }\n",
       "</style>\n",
       "<table border=\"1\" class=\"dataframe\">\n",
       "  <thead>\n",
       "    <tr style=\"text-align: right;\">\n",
       "      <th></th>\n",
       "      <th>idx</th>\n",
       "      <th>name</th>\n",
       "      <th>height</th>\n",
       "      <th>dist</th>\n",
       "      <th>support</th>\n",
       "      <th>arbitrary</th>\n",
       "    </tr>\n",
       "  </thead>\n",
       "  <tbody>\n",
       "    <tr>\n",
       "      <th>0</th>\n",
       "      <td>0</td>\n",
       "      <td>tip1</td>\n",
       "      <td>0.0</td>\n",
       "      <td>1.0</td>\n",
       "      <td>NaN</td>\n",
       "      <td>NaN</td>\n",
       "    </tr>\n",
       "    <tr>\n",
       "      <th>1</th>\n",
       "      <td>1</td>\n",
       "      <td>tip2</td>\n",
       "      <td>0.0</td>\n",
       "      <td>1.0</td>\n",
       "      <td>NaN</td>\n",
       "      <td>NaN</td>\n",
       "    </tr>\n",
       "    <tr>\n",
       "      <th>2</th>\n",
       "      <td>2</td>\n",
       "      <td>tip3</td>\n",
       "      <td>1.0</td>\n",
       "      <td>1.0</td>\n",
       "      <td>NaN</td>\n",
       "      <td>NaN</td>\n",
       "    </tr>\n",
       "    <tr>\n",
       "      <th>3</th>\n",
       "      <td>3</td>\n",
       "      <td></td>\n",
       "      <td>1.0</td>\n",
       "      <td>1.0</td>\n",
       "      <td>NaN</td>\n",
       "      <td>internal1</td>\n",
       "    </tr>\n",
       "    <tr>\n",
       "      <th>4</th>\n",
       "      <td>4</td>\n",
       "      <td></td>\n",
       "      <td>2.0</td>\n",
       "      <td>0.0</td>\n",
       "      <td>NaN</td>\n",
       "      <td>internal2</td>\n",
       "    </tr>\n",
       "  </tbody>\n",
       "</table>\n",
       "</div>"
      ],
      "text/plain": [
       "   idx  name  height  dist  support  arbitrary\n",
       "0    0  tip1     0.0   1.0      NaN        NaN\n",
       "1    1  tip2     0.0   1.0      NaN        NaN\n",
       "2    2  tip3     1.0   1.0      NaN        NaN\n",
       "3    3           1.0   1.0      NaN  internal1\n",
       "4    4           2.0   0.0      NaN  internal2"
      ]
     },
     "execution_count": 13,
     "metadata": {},
     "output_type": "execute_result"
    }
   ],
   "source": [
    "# parse the newick string with internal str labels and assign\n",
    "tre0 = toytree.tree(NEWICK2, internal_labels=\"arbitrary\")\n",
    "\n",
    "# show the tree data where labels were assigned to \"arbitrary\"\n",
    "tre0.get_node_data()"
   ]
  },
  {
   "cell_type": "markdown",
   "id": "599fe219",
   "metadata": {},
   "source": [
    "## NHX format\n",
    "The extended New Hampshire format (NHX) has emerged as a more recent and popular format for tree data storage (although unfortunately the precise rules for the format are not consistently followed). In addition to the standard information in Newick data provided by parentheses (topology) and edge lengths, any additional and arbitrary metadata can be stored within square brackets.\n",
    "\n",
    "The `toytree.tree()` function will automatically detect if square brackets are present in a Newick string and parse the associated metadata. It is important to note that different programs sometimes vary in the way that they store data inside of the square brackets, and so `toytree.tree` takes a number of additional optional arguments that can be entered to properly parse the NHX metadata. Below are some examples.\n",
    "\n",
    "Finally, NHX format has the advantage over Newick in that it can distinguish between data that is assigned to Nodes versus Edges in a tree. Data on edges, such as support values, are treated differently than data on nodes, such as trait values, when re-rooting trees (See [Data/Features](Data/Features) for more on this)."
   ]
  },
  {
   "cell_type": "code",
   "execution_count": 14,
   "id": "eb28b87f",
   "metadata": {},
   "outputs": [],
   "source": [
    "# only tip Node metadata\n",
    "NHX1 = \"((a[&N=1],b[&N=2]),c[&N=3]);\"\n",
    "# only internal Node metadata\n",
    "NHX2 = \"((a,b)[&N=4],c)[&N=5];\"\n",
    "# both tip and internal Node metadata\n",
    "NHX3 = \"((a[&N=1],b[&N=2])[&N=4],c[&N=3])[&N=5];\"\n",
    "# only edge metadata\n",
    "NHX4 = \"((a:1[&E=1],b:1[&E=2]):1[&E=4],c:1[&E=3]);\"\n",
    "# both node and edge metadata\n",
    "NHX5 = \"((a[&N=1]:1[&E=1],b[&N=2]:1[&E=2])[&N=4]:1[&E=4],c[&N=3]:1[&E=3])[&N=5];\""
   ]
  },
  {
   "cell_type": "code",
   "execution_count": 15,
   "id": "87bfc212",
   "metadata": {},
   "outputs": [
    {
     "data": {
      "text/html": [
       "<div>\n",
       "<style scoped>\n",
       "    .dataframe tbody tr th:only-of-type {\n",
       "        vertical-align: middle;\n",
       "    }\n",
       "\n",
       "    .dataframe tbody tr th {\n",
       "        vertical-align: top;\n",
       "    }\n",
       "\n",
       "    .dataframe thead th {\n",
       "        text-align: right;\n",
       "    }\n",
       "</style>\n",
       "<table border=\"1\" class=\"dataframe\">\n",
       "  <thead>\n",
       "    <tr style=\"text-align: right;\">\n",
       "      <th></th>\n",
       "      <th>idx</th>\n",
       "      <th>name</th>\n",
       "      <th>height</th>\n",
       "      <th>dist</th>\n",
       "      <th>support</th>\n",
       "      <th>N</th>\n",
       "    </tr>\n",
       "  </thead>\n",
       "  <tbody>\n",
       "    <tr>\n",
       "      <th>0</th>\n",
       "      <td>0</td>\n",
       "      <td>a</td>\n",
       "      <td>0.0</td>\n",
       "      <td>1.0</td>\n",
       "      <td>NaN</td>\n",
       "      <td>1.0</td>\n",
       "    </tr>\n",
       "    <tr>\n",
       "      <th>1</th>\n",
       "      <td>1</td>\n",
       "      <td>b</td>\n",
       "      <td>0.0</td>\n",
       "      <td>1.0</td>\n",
       "      <td>NaN</td>\n",
       "      <td>2.0</td>\n",
       "    </tr>\n",
       "    <tr>\n",
       "      <th>2</th>\n",
       "      <td>2</td>\n",
       "      <td>c</td>\n",
       "      <td>1.0</td>\n",
       "      <td>1.0</td>\n",
       "      <td>NaN</td>\n",
       "      <td>3.0</td>\n",
       "    </tr>\n",
       "    <tr>\n",
       "      <th>3</th>\n",
       "      <td>3</td>\n",
       "      <td></td>\n",
       "      <td>1.0</td>\n",
       "      <td>1.0</td>\n",
       "      <td>NaN</td>\n",
       "      <td>NaN</td>\n",
       "    </tr>\n",
       "    <tr>\n",
       "      <th>4</th>\n",
       "      <td>4</td>\n",
       "      <td></td>\n",
       "      <td>2.0</td>\n",
       "      <td>0.0</td>\n",
       "      <td>NaN</td>\n",
       "      <td>NaN</td>\n",
       "    </tr>\n",
       "  </tbody>\n",
       "</table>\n",
       "</div>"
      ],
      "text/plain": [
       "   idx name  height  dist  support    N\n",
       "0    0    a     0.0   1.0      NaN  1.0\n",
       "1    1    b     0.0   1.0      NaN  2.0\n",
       "2    2    c     1.0   1.0      NaN  3.0\n",
       "3    3          1.0   1.0      NaN  NaN\n",
       "4    4          2.0   0.0      NaN  NaN"
      ]
     },
     "execution_count": 15,
     "metadata": {},
     "output_type": "execute_result"
    }
   ],
   "source": [
    "# NHX1 has only tip node data mapped to feature \"N\"\n",
    "toytree.tree(NHX1).get_node_data()"
   ]
  },
  {
   "cell_type": "code",
   "execution_count": 16,
   "id": "93fc1af0",
   "metadata": {},
   "outputs": [
    {
     "data": {
      "text/html": [
       "<div>\n",
       "<style scoped>\n",
       "    .dataframe tbody tr th:only-of-type {\n",
       "        vertical-align: middle;\n",
       "    }\n",
       "\n",
       "    .dataframe tbody tr th {\n",
       "        vertical-align: top;\n",
       "    }\n",
       "\n",
       "    .dataframe thead th {\n",
       "        text-align: right;\n",
       "    }\n",
       "</style>\n",
       "<table border=\"1\" class=\"dataframe\">\n",
       "  <thead>\n",
       "    <tr style=\"text-align: right;\">\n",
       "      <th></th>\n",
       "      <th>idx</th>\n",
       "      <th>name</th>\n",
       "      <th>height</th>\n",
       "      <th>dist</th>\n",
       "      <th>support</th>\n",
       "      <th>E</th>\n",
       "      <th>N</th>\n",
       "    </tr>\n",
       "  </thead>\n",
       "  <tbody>\n",
       "    <tr>\n",
       "      <th>0</th>\n",
       "      <td>0</td>\n",
       "      <td>a</td>\n",
       "      <td>0.0</td>\n",
       "      <td>1.0</td>\n",
       "      <td>NaN</td>\n",
       "      <td>1.0</td>\n",
       "      <td>1.0</td>\n",
       "    </tr>\n",
       "    <tr>\n",
       "      <th>1</th>\n",
       "      <td>1</td>\n",
       "      <td>b</td>\n",
       "      <td>0.0</td>\n",
       "      <td>1.0</td>\n",
       "      <td>NaN</td>\n",
       "      <td>2.0</td>\n",
       "      <td>2.0</td>\n",
       "    </tr>\n",
       "    <tr>\n",
       "      <th>2</th>\n",
       "      <td>2</td>\n",
       "      <td>c</td>\n",
       "      <td>1.0</td>\n",
       "      <td>1.0</td>\n",
       "      <td>NaN</td>\n",
       "      <td>3.0</td>\n",
       "      <td>3.0</td>\n",
       "    </tr>\n",
       "    <tr>\n",
       "      <th>3</th>\n",
       "      <td>3</td>\n",
       "      <td></td>\n",
       "      <td>1.0</td>\n",
       "      <td>1.0</td>\n",
       "      <td>NaN</td>\n",
       "      <td>4.0</td>\n",
       "      <td>4.0</td>\n",
       "    </tr>\n",
       "    <tr>\n",
       "      <th>4</th>\n",
       "      <td>4</td>\n",
       "      <td></td>\n",
       "      <td>2.0</td>\n",
       "      <td>0.0</td>\n",
       "      <td>NaN</td>\n",
       "      <td>NaN</td>\n",
       "      <td>5.0</td>\n",
       "    </tr>\n",
       "  </tbody>\n",
       "</table>\n",
       "</div>"
      ],
      "text/plain": [
       "   idx name  height  dist  support    E    N\n",
       "0    0    a     0.0   1.0      NaN  1.0  1.0\n",
       "1    1    b     0.0   1.0      NaN  2.0  2.0\n",
       "2    2    c     1.0   1.0      NaN  3.0  3.0\n",
       "3    3          1.0   1.0      NaN  4.0  4.0\n",
       "4    4          2.0   0.0      NaN  NaN  5.0"
      ]
     },
     "execution_count": 16,
     "metadata": {},
     "output_type": "execute_result"
    }
   ],
   "source": [
    "# NHX5 has all node data mapped to feature \"N\" and edge data to feature \"E\"\n",
    "toytree.tree(NHX5).get_node_data()"
   ]
  },
  {
   "cell_type": "markdown",
   "id": "2ce6b887",
   "metadata": {},
   "source": [
    "## NEXUS format\n",
    "The NEXUS format is popular in the field of phylogenetics because it provides a flexible format for storing a variety of information -- both data and instructions -- that can be used by multiple software tools. A NEXUS file starts with a \"#NEXUS\" header, and then contains one or more *blocks* delimited by \"begin\" and \"end;\" statements. For example, a \"data\" block would start with \"begin data\" and could contain morphological or molecular data. Another block might include code instructions for the *mrbayes* software, which takes a NEXUS file as input with instructions for an analysis. This could then write results to a \"trees\" block, which contains one or more Newick or NHX strings. In this way, a NEXUS file can fully describe an analysis from data -> analysis -> trees, as in the example below.\n",
    "\n",
    "For now, as far as `toytree` is concerned, only the \"trees\" block is of interest, and all other block are ignored. The `toytree.tree()` function will parse the tree data inside a NEXUS file just as it parses other Newick or NHX strings."
   ]
  },
  {
   "cell_type": "code",
   "execution_count": 17,
   "id": "20b2f511",
   "metadata": {},
   "outputs": [],
   "source": [
    "# nexus: Newick/NHX data with other code blocks between (begin... end;)  \n",
    "NEXUS_EXAMPLE = \"\"\"\n",
    "#NEXUS\n",
    "begin data;\n",
    "    ...\n",
    "end;\n",
    "\n",
    "begin mrbayes;\n",
    "    ...\n",
    "end;\n",
    "\n",
    "begin trees;\n",
    "    translate\n",
    "        1 apple,\n",
    "        2 blueberry,\n",
    "        3 cantaloupe,\n",
    "        4 durian,\n",
    "    ;\n",
    "    tree tree0 = [&U] ((1,2),(3,4));\n",
    "end;\n",
    "\"\"\""
   ]
  },
  {
   "cell_type": "code",
   "execution_count": 18,
   "id": "1fe533f9",
   "metadata": {},
   "outputs": [
    {
     "data": {
      "text/html": [
       "<div>\n",
       "<style scoped>\n",
       "    .dataframe tbody tr th:only-of-type {\n",
       "        vertical-align: middle;\n",
       "    }\n",
       "\n",
       "    .dataframe tbody tr th {\n",
       "        vertical-align: top;\n",
       "    }\n",
       "\n",
       "    .dataframe thead th {\n",
       "        text-align: right;\n",
       "    }\n",
       "</style>\n",
       "<table border=\"1\" class=\"dataframe\">\n",
       "  <thead>\n",
       "    <tr style=\"text-align: right;\">\n",
       "      <th></th>\n",
       "      <th>idx</th>\n",
       "      <th>name</th>\n",
       "      <th>height</th>\n",
       "      <th>dist</th>\n",
       "      <th>support</th>\n",
       "    </tr>\n",
       "  </thead>\n",
       "  <tbody>\n",
       "    <tr>\n",
       "      <th>0</th>\n",
       "      <td>0</td>\n",
       "      <td>apple</td>\n",
       "      <td>0.0</td>\n",
       "      <td>1.0</td>\n",
       "      <td>NaN</td>\n",
       "    </tr>\n",
       "    <tr>\n",
       "      <th>1</th>\n",
       "      <td>1</td>\n",
       "      <td>blueberry</td>\n",
       "      <td>0.0</td>\n",
       "      <td>1.0</td>\n",
       "      <td>NaN</td>\n",
       "    </tr>\n",
       "    <tr>\n",
       "      <th>2</th>\n",
       "      <td>2</td>\n",
       "      <td>cantaloupe</td>\n",
       "      <td>0.0</td>\n",
       "      <td>1.0</td>\n",
       "      <td>NaN</td>\n",
       "    </tr>\n",
       "    <tr>\n",
       "      <th>3</th>\n",
       "      <td>3</td>\n",
       "      <td>durian</td>\n",
       "      <td>0.0</td>\n",
       "      <td>1.0</td>\n",
       "      <td>NaN</td>\n",
       "    </tr>\n",
       "    <tr>\n",
       "      <th>4</th>\n",
       "      <td>4</td>\n",
       "      <td></td>\n",
       "      <td>1.0</td>\n",
       "      <td>1.0</td>\n",
       "      <td>NaN</td>\n",
       "    </tr>\n",
       "    <tr>\n",
       "      <th>5</th>\n",
       "      <td>5</td>\n",
       "      <td></td>\n",
       "      <td>1.0</td>\n",
       "      <td>1.0</td>\n",
       "      <td>NaN</td>\n",
       "    </tr>\n",
       "    <tr>\n",
       "      <th>6</th>\n",
       "      <td>6</td>\n",
       "      <td></td>\n",
       "      <td>2.0</td>\n",
       "      <td>0.0</td>\n",
       "      <td>NaN</td>\n",
       "    </tr>\n",
       "  </tbody>\n",
       "</table>\n",
       "</div>"
      ],
      "text/plain": [
       "   idx        name  height  dist  support\n",
       "0    0       apple     0.0   1.0      NaN\n",
       "1    1   blueberry     0.0   1.0      NaN\n",
       "2    2  cantaloupe     0.0   1.0      NaN\n",
       "3    3      durian     0.0   1.0      NaN\n",
       "4    4                 1.0   1.0      NaN\n",
       "5    5                 1.0   1.0      NaN\n",
       "6    6                 2.0   0.0      NaN"
      ]
     },
     "execution_count": 18,
     "metadata": {},
     "output_type": "execute_result"
    }
   ],
   "source": [
    "# parse NEXUS file and show tree data\n",
    "tree = toytree.tree(NEXUS_EXAMPLE)\n",
    "tree.get_node_data()"
   ]
  },
  {
   "cell_type": "markdown",
   "id": "9573b780",
   "metadata": {},
   "source": [
    "## Parsing MultiTrees\n",
    "Sometimes data from multiple trees are stored together in a single file, such as the results of a bootstrap analysis, or a posterior distribution of trees from a Bayesian phylogenetic inference. `toytree` can parse and load all trees in a multiple tree input using the `toytree.mtree` function. This returns a `MultiTree` object (see [MultiTree](MultiTree)), which has methods that can apply to sets of trees, and from which individual `ToyTrees` can be indexed and extracted. "
   ]
  },
  {
   "cell_type": "code",
   "execution_count": 19,
   "id": "4e0c2e2f",
   "metadata": {},
   "outputs": [
    {
     "data": {
      "text/plain": [
       "<toytree.MultiTree ntrees=8>"
      ]
     },
     "execution_count": 19,
     "metadata": {},
     "output_type": "execute_result"
    }
   ],
   "source": [
    "# a str with Newick data separated by new lines\n",
    "MULTILINE_NEWICK = \"\"\"\n",
    "(((a:1,b:1):1,(d:1.5,e:1.5):0.5):1,c:3);\n",
    "(((a:1,d:1):1,(b:1,e:1):1):1,c:3);\n",
    "(((a:1.5,b:1.5):1,(d:1,e:1):1.5):1,c:3.5);\n",
    "(((a:1.25,b:1.25):0.75,(d:1,e:1):1):1,c:3);\n",
    "(((a:1,b:1):1,(d:1.5,e:1.5):0.5):1,c:3);\n",
    "(((b:1,a:1):1,(d:1.5,e:1.5):0.5):2,c:4);\n",
    "(((a:1.5,b:1.5):0.5,(d:1,e:1):1):1,c:3);\n",
    "(((b:1.5,d:1.5):0.5,(a:1,e:1):1):1,c:3);\n",
    "\"\"\"\n",
    "\n",
    "# parse with .mtree\n",
    "mtree = toytree.mtree(MULTILINE_NEWICK)\n",
    "mtree"
   ]
  },
  {
   "cell_type": "code",
   "execution_count": 20,
   "id": "1f74c6c0",
   "metadata": {},
   "outputs": [
    {
     "data": {
      "text/plain": [
       "<toytree.MultiTree ntrees=8>"
      ]
     },
     "execution_count": 20,
     "metadata": {},
     "output_type": "execute_result"
    }
   ],
   "source": [
    "# a Nexus str with trees in a trees block\n",
    "MULTI_N5XUS = \"\"\"\n",
    "#NEXUS\n",
    "begin trees;\n",
    "    translate\n",
    "        1 a,\n",
    "        2 b,\n",
    "        3 c,\n",
    "        4 d,\n",
    "        5 e,\n",
    "    ;\n",
    "    tree 1 = [&R] (((1:1,2:1):1,(4:1.5,5:1.5):0.5):1,3:3);\n",
    "    tree 2 = [&R] (((1:1,4:1):1,(2:1,5:1):1):1,3:3);\n",
    "    tree 3 = [&R] (((1:1.5,2:1.5):1,(4:1,5:1):1.5):1,3:3.5);\n",
    "    tree 4 = [&R] (((1:1.25,2:1.25):0.75,(4:1,5:1):1):1,3:3);\n",
    "    tree 5 = [&R] (((1:1,2:1):1,(4:1.5,5:1.5):0.5):1,3:3);\n",
    "    tree 6 = [&R] (((2:1,1:1):1,(4:1.5,5:1.5):0.5):2,3:4);\n",
    "    tree 7 = [&R] (((1:1.5,2:1.5):0.5,(4:1,5:1):1):1,3:3);\n",
    "    tree 8 = [&R] (((2:1.5,4:1.5):0.5,(1:1,5:1):1):1,3:3);\n",
    "end;\n",
    "\"\"\"\n",
    "\n",
    "# pars5 with .mtree\n",
    "mtree = toytree.mtree(MULTI_N5XUS)\n",
    "mtree"
   ]
  },
  {
   "cell_type": "markdown",
   "id": "8f3091d4",
   "metadata": {},
   "source": [
    "If you call `toytree.mtree` on a file containing a single tree then it will simply return a `MultiTree` object containing only a single `ToyTree` within it. If you call `toytree.tree` on a file containing multiple trees it will return the first tree in the file as a `ToyTree`, but will also print a warning to make sure you know that the input contained multiple trees."
   ]
  },
  {
   "cell_type": "code",
   "execution_count": 21,
   "id": "72f77691",
   "metadata": {},
   "outputs": [
    {
     "data": {
      "text/plain": [
       "<toytree.MultiTree ntrees=1>"
      ]
     },
     "execution_count": 21,
     "metadata": {},
     "output_type": "execute_result"
    }
   ],
   "source": [
    "# calling .mtree on a single tree input is OK\n",
    "toytree.mtree(NEWICK1)"
   ]
  },
  {
   "cell_type": "code",
   "execution_count": 22,
   "id": "079bce57",
   "metadata": {},
   "outputs": [
    {
     "name": "stderr",
     "output_type": "stream",
     "text": [
      "⚠️ toytree | parse:parse_tree | Data contains (8) trees.\n",
      "Loading first using `toytree.tree`. Use `toytree.mtree` to instead load a MultiTree.\n"
     ]
    },
    {
     "data": {
      "text/plain": [
       "<toytree.ToyTree at 0x7f6e4600aec0>"
      ]
     },
     "execution_count": 22,
     "metadata": {},
     "output_type": "execute_result"
    }
   ],
   "source": [
    "# calling .tree on a multiple tree input is also OK, but raises a WARNING\n",
    "toytree.tree(MULTILINE_NEWICK)"
   ]
  },
  {
   "cell_type": "markdown",
   "id": "e275d037-29f7-4902-8228-572cb4a047c0",
   "metadata": {},
   "source": [
    "### Loading trees from URLs\n",
    "A convenient feature of `toytree.tree` is the ability to laod tree data from a public URI. If you provide a string as input that begins with \"http\" then the str data of that URI will be checked for valid tree data. If so, it is returned as a tree. You can thus store your trees on any public site, such as a GitHub repo, and easily load it in without having to write out a long file path."
   ]
  },
  {
   "cell_type": "code",
   "execution_count": 23,
   "id": "51238247-9ee4-46f8-bab6-a868ea11b419",
   "metadata": {},
   "outputs": [
    {
     "data": {
      "text/plain": [
       "<toytree.ToyTree at 0x7f6e45e92ad0>"
      ]
     },
     "execution_count": 23,
     "metadata": {},
     "output_type": "execute_result"
    }
   ],
   "source": [
    "toytree.tree(\"https://eaton-lab.org/data/Cyathophora.tre\")"
   ]
  }
 ],
 "metadata": {
  "kernelspec": {
   "display_name": "Python 3 (ipykernel)",
   "language": "python",
   "name": "python3"
  },
  "language_info": {
   "codemirror_mode": {
    "name": "ipython",
    "version": 3
   },
   "file_extension": ".py",
   "mimetype": "text/x-python",
   "name": "python",
   "nbconvert_exporter": "python",
   "pygments_lexer": "ipython3",
   "version": "3.10.12"
  }
 },
 "nbformat": 4,
 "nbformat_minor": 5
}
