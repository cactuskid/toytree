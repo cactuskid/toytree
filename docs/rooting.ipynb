{
 "cells": [
  {
   "cell_type": "markdown",
   "id": "5bfa8aaa-a350-4b1d-930b-a5880ac533a7",
   "metadata": {},
   "source": [
    "# Rooting trees\n",
    "\n",
    "Rooting or re-rooting trees orients the direction of ancestor-descendant relationships and thus provides \"polarization\" for the direction of evolution. Most tree inference algorithms return an unrooted tree as a result, and it is up to the researcher to select the placement of the root based on external information (e.g., outgroup designation) or analytical methods (e.g., based on edge lengths).\n",
    "\n",
    "This tutorial section provides background on how rooting or re-rooting affects a tree data structure and how to choose the edge and position on which to root a tree. It also clarifies several common misconceptions and sources of error during tree rooting."
   ]
  },
  {
   "cell_type": "code",
   "execution_count": 1,
   "id": "24377dfc-1272-4e3e-a256-7d1011ca65b6",
   "metadata": {},
   "outputs": [],
   "source": [
    "import toytree"
   ]
  },
  {
   "cell_type": "code",
   "execution_count": 2,
   "id": "ba4bf6cc-d313-47d9-adb1-36546136fba3",
   "metadata": {},
   "outputs": [],
   "source": [
    "# an example tree with outgroup (r3,r4)\n",
    "tree = toytree.rtree.unittree(ntips=5, seed=123)\n",
    "\n",
    "# create an unrooted tree \n",
    "utree = tree.unroot()\n",
    "\n",
    "# root the tree on its original outgroup\n",
    "rtree = utree.root(\"r3\", \"r4\")\n",
    "\n",
    "# re-root the tree on an alternative outgroup\n",
    "atree = rtree.root(\"r2\")"
   ]
  },
  {
   "cell_type": "markdown",
   "id": "fcc423dc-a107-407b-a004-c8066300c8c2",
   "metadata": {},
   "source": [
    "<div class=\"admonition tip\">\n",
    "  <p class=\"admonition-title\">Take Home</p>\n",
    "  <p>\n",
    "      A tree can be manually rooted on an outgroup using <b>tree.root(...)</b>, or using one of several\n",
    "      algorithms to estimate the root placement. A tree can be unrooted using <b>tree.unroot()</b>.\n",
    "  </p>\n",
    "</div>"
   ]
  },
  {
   "attachments": {},
   "cell_type": "markdown",
   "id": "d430d77b-8e06-46e7-adef-2d87cc673fca",
   "metadata": {},
   "source": [
    "### The treenode\n",
    "All ToyTree objects contain a node that is designated the **treenode**, and which represents the top level `Node` object in the collection of nodes that make up the tree hierarchy. *This node exists in a tree whether it is rooted or unrooted.* We use the term *treenode* rather than *root node* to refer to this top level node, since it is not always a true root node, as in the case of an unrooted tree. This can be a confusing point, but understanding it will help to make clear what the process of tree rooting actually represents. It is a little more complex than simply moving or relabeling a node, as described for the three operations below.\n",
    "\n",
    "#### Rooting\n",
    "When rooting an unrooted tree, a new node is inserted on an edge, splitting it into two (it helps me to think of it visually as pinching the edge and pulling it back to insert the node). The new node serves as the treenode. The number of nodes in the tree increases by 1. \n",
    "\n",
    "#### Unrooting\n",
    "When unrooting a rooted tree, the current treenode is removed, and an existing node in the tree (the previous treenode's left child) is designated as the treenode. The number of nodes in the tree decreases by 1. \n",
    "\n",
    "#### Re-rooting\n",
    "When re-rooting a rooted tree, the current treenode is removed and a new node is inserted on a different edge of the tree. The new node serves as the treenode. The number of nodes in the tree does not change."
   ]
  },
  {
   "cell_type": "code",
   "execution_count": 3,
   "id": "63fb479c-154d-4ceb-bb2c-b05783647a27",
   "metadata": {},
   "outputs": [
    {
     "data": {
      "text/plain": [
       "<Node(idx=8)>"
      ]
     },
     "execution_count": 3,
     "metadata": {},
     "output_type": "execute_result"
    }
   ],
   "source": [
    "# the .treenode is the top-level node\n",
    "tree.treenode"
   ]
  },
  {
   "cell_type": "code",
   "execution_count": 4,
   "id": "6ea76c9e-357f-444a-b4e4-fc24cd3b17b3",
   "metadata": {},
   "outputs": [
    {
     "data": {
      "text/plain": [
       "<Node(idx=8)>"
      ]
     },
     "execution_count": 4,
     "metadata": {},
     "output_type": "execute_result"
    }
   ],
   "source": [
    "# it is also accessible as the last indexed node\n",
    "tree[-1]"
   ]
  },
  {
   "cell_type": "markdown",
   "id": "074a4d3d-293a-41c3-b350-fa88031ff4ab",
   "metadata": {},
   "source": [
    "### Rooting visualized\n",
    "You cannot verify that a tree is unrooted based simply on a visualization, since an unrooted tree can look the same as a rooted tree that contains a polytomy at its root. Thus, it is best practice to mention in a figure legend whether and how a tree is rooted. Another way of hinting that a tree is rooted versus unrooted is by using different tree layouts for visualization. This is demonstrated below.\n",
    "\n",
    "This first set of drawing uses the default linear down ('d') layout. This places the treenode at the top of the drawing, which makes it easy to interpret how far each other node is from the treenode. This style makes sense for interpreting rooted trees (left and right), but is misleading for the unrooted tree (middle), since it gives the impression visually that the tree is rooted at node 7. "
   ]
  },
  {
   "cell_type": "code",
   "execution_count": 5,
   "id": "cbba46f2-5df7-4bcd-a171-a09f5c318b71",
   "metadata": {},
   "outputs": [
    {
     "data": {
      "text/html": [
       "<div class=\"toyplot\" id=\"t40ea988326a24eff818bdc556dc5c1a8\" style=\"text-align:center\"><svg class=\"toyplot-canvas-Canvas\" xmlns:toyplot=\"http://www.sandia.gov/toyplot\" xmlns:xlink=\"http://www.w3.org/1999/xlink\" xmlns=\"http://www.w3.org/2000/svg\" width=\"675.0px\" height=\"250.0px\" viewBox=\"0 0 675.0 250.0\" preserveAspectRatio=\"xMidYMid meet\" style=\"background-color:transparent;border-color:#292724;border-style:none;border-width:1.0;fill:rgb(16.1%,15.3%,14.1%);fill-opacity:1.0;font-family:Helvetica;font-size:12px;opacity:1.0;stroke:rgb(16.1%,15.3%,14.1%);stroke-opacity:1.0;stroke-width:1.0\" id=\"t8a13d817fa04426c8661b89980568294\"><g class=\"toyplot-coordinates-Cartesian\" id=\"t2e979eeb002147bfb9042ccb2012466d\"><clipPath id=\"tfc16cf7ae3ae4a40aea36438d5905979\"><rect x=\"20.0\" y=\"40.0\" width=\"205.0\" height=\"170.0\"></rect></clipPath><g clip-path=\"url(#tfc16cf7ae3ae4a40aea36438d5905979)\"><g class=\"toytree-mark-Toytree\" id=\"t9d336d4dfdd54a018059e83708a7673f\"><g class=\"toytree-Edges\" style=\"stroke:rgb(14.5%,14.5%,14.5%);stroke-opacity:1.0;stroke-linecap:round;stroke-width:2.0;fill:none\"><path d=\"M 59.0 132.9 L 37.8 171.1\" id=\"5,0\" style=\"\"></path><path d=\"M 59.0 132.9 L 80.1 171.1\" id=\"5,1\" style=\"\"></path><path d=\"M 90.7 94.7 L 122.5 171.1\" id=\"6,2\" style=\"\"></path><path d=\"M 186.0 94.7 L 164.9 171.1\" id=\"7,3\" style=\"\"></path><path d=\"M 186.0 94.7 L 207.2 171.1\" id=\"7,4\" style=\"\"></path><path d=\"M 90.7 94.7 L 59.0 132.9\" id=\"6,5\" style=\"\"></path><path d=\"M 138.4 56.5 L 90.7 94.7\" id=\"8,6\" style=\"\"></path><path d=\"M 138.4 56.5 L 186.0 94.7\" id=\"8,7\" style=\"\"></path></g><g class=\"toytree-AdmixEdges\" style=\"fill:rgb(0.0%,0.0%,0.0%);fill-opacity:0.0;stroke:rgb(90.6%,54.1%,76.5%);stroke-opacity:0.6;font-size:14px;stroke-linecap:round;stroke-width:5\"></g><g class=\"toytree-Nodes\" style=\"fill:rgb(40.0%,76.1%,64.7%);fill-opacity:1.0;stroke:rgb(14.5%,14.5%,14.5%);stroke-opacity:1.0;stroke-width:1.0\"><g id=\"Node-0\" transform=\"translate(37.7847,171.128)\"><circle r=\"7.5\"></circle></g><g id=\"Node-1\" transform=\"translate(80.1423,171.128)\"><circle r=\"7.5\"></circle></g><g id=\"Node-2\" transform=\"translate(122.5,171.128)\"><circle r=\"7.5\"></circle></g><g id=\"Node-3\" transform=\"translate(164.858,171.128)\"><circle r=\"7.5\"></circle></g><g id=\"Node-4\" transform=\"translate(207.215,171.128)\"><circle r=\"7.5\"></circle></g><g id=\"Node-5\" transform=\"translate(58.9635,132.917)\"><circle r=\"7.5\"></circle></g><g id=\"Node-6\" transform=\"translate(90.7317,94.7065)\"><circle r=\"7.5\"></circle></g><g id=\"Node-7\" transform=\"translate(186.037,94.7065)\"><circle r=\"7.5\"></circle></g><g id=\"Node-8\" transform=\"translate(138.384,56.4958)\"><circle r=\"7.5\"></circle></g></g><g class=\"toytree-NodeLabels\" style=\"font-family:Helvetica;font-size:9px;font-weight:300;vertical-align:baseline;white-space:pre;stroke:none\"><g class=\"toytree-NodeLabel\" transform=\"translate(37.7847,171.128)\"><text x=\"-2.5020000000000002\" y=\"2.2995\" style=\"fill:rgb(14.5%,14.5%,14.5%);fill-opacity:1.0\">0</text></g><g class=\"toytree-NodeLabel\" transform=\"translate(80.1423,171.128)\"><text x=\"-2.5020000000000002\" y=\"2.2995\" style=\"fill:rgb(14.5%,14.5%,14.5%);fill-opacity:1.0\">1</text></g><g class=\"toytree-NodeLabel\" transform=\"translate(122.5,171.128)\"><text x=\"-2.5020000000000002\" y=\"2.2995\" style=\"fill:rgb(14.5%,14.5%,14.5%);fill-opacity:1.0\">2</text></g><g class=\"toytree-NodeLabel\" transform=\"translate(164.858,171.128)\"><text x=\"-2.5020000000000002\" y=\"2.2995\" style=\"fill:rgb(14.5%,14.5%,14.5%);fill-opacity:1.0\">3</text></g><g class=\"toytree-NodeLabel\" transform=\"translate(207.215,171.128)\"><text x=\"-2.5020000000000002\" y=\"2.2995\" style=\"fill:rgb(14.5%,14.5%,14.5%);fill-opacity:1.0\">4</text></g><g class=\"toytree-NodeLabel\" transform=\"translate(58.9635,132.917)\"><text x=\"-2.5020000000000002\" y=\"2.2995\" style=\"fill:rgb(14.5%,14.5%,14.5%);fill-opacity:1.0\">5</text></g><g class=\"toytree-NodeLabel\" transform=\"translate(90.7317,94.7065)\"><text x=\"-2.5020000000000002\" y=\"2.2995\" style=\"fill:rgb(14.5%,14.5%,14.5%);fill-opacity:1.0\">6</text></g><g class=\"toytree-NodeLabel\" transform=\"translate(186.037,94.7065)\"><text x=\"-2.5020000000000002\" y=\"2.2995\" style=\"fill:rgb(14.5%,14.5%,14.5%);fill-opacity:1.0\">7</text></g><g class=\"toytree-NodeLabel\" transform=\"translate(138.384,56.4958)\"><text x=\"-2.5020000000000002\" y=\"2.2995\" style=\"fill:rgb(14.5%,14.5%,14.5%);fill-opacity:1.0\">8</text></g></g><g class=\"toytree-TipLabels\" style=\"fill:rgb(14.5%,14.5%,14.5%);fill-opacity:1.0;font-family:Helvetica;font-size:10px;font-weight:300;vertical-align:baseline;white-space:pre;stroke:none\"><g class=\"toytree-TipLabel\" transform=\"translate(37.7847,171.128)rotate(90)\"><text x=\"10.0\" y=\"2.5549999999999997\" style=\"fill:rgb(14.5%,14.5%,14.5%);fill-opacity:1.0\">r0</text></g><g class=\"toytree-TipLabel\" transform=\"translate(80.1423,171.128)rotate(90)\"><text x=\"10.0\" y=\"2.5549999999999997\" style=\"fill:rgb(14.5%,14.5%,14.5%);fill-opacity:1.0\">r1</text></g><g class=\"toytree-TipLabel\" transform=\"translate(122.5,171.128)rotate(90)\"><text x=\"10.0\" y=\"2.5549999999999997\" style=\"fill:rgb(14.5%,14.5%,14.5%);fill-opacity:1.0\">r2</text></g><g class=\"toytree-TipLabel\" transform=\"translate(164.858,171.128)rotate(90)\"><text x=\"10.0\" y=\"2.5549999999999997\" style=\"fill:rgb(14.5%,14.5%,14.5%);fill-opacity:1.0\">r3</text></g><g class=\"toytree-TipLabel\" transform=\"translate(207.215,171.128)rotate(90)\"><text x=\"10.0\" y=\"2.5549999999999997\" style=\"fill:rgb(14.5%,14.5%,14.5%);fill-opacity:1.0\">r4</text></g></g></g></g><g transform=\"translate(122.5,42.0)\"><text x=\"-36.561\" y=\"-4.823\" style=\"fill:rgb(16.1%,15.3%,14.1%);fill-opacity:1.0;font-family:helvetica;font-size:14.0px;font-weight:bold;stroke:none;vertical-align:baseline;white-space:pre\">rooted tree</text></g></g><g class=\"toyplot-coordinates-Cartesian\" id=\"td34fc89fe25c49758bf8a3be0111d1d6\"><clipPath id=\"te37ef0bad50c47e7bbf0737ea334fe2e\"><rect x=\"245.0\" y=\"40.0\" width=\"205.0\" height=\"170.0\"></rect></clipPath><g clip-path=\"url(#te37ef0bad50c47e7bbf0737ea334fe2e)\"><g class=\"toytree-mark-Toytree\" id=\"t6e75012ac485477eb4c1ef626eeebd83\"><g class=\"toytree-Edges\" style=\"stroke:rgb(14.5%,14.5%,14.5%);stroke-opacity:1.0;stroke-linecap:round;stroke-width:2.0;fill:none\"><path d=\"M 284.0 85.2 L 262.8 113.8\" id=\"5,0\" style=\"\"></path><path d=\"M 284.0 85.2 L 305.1 113.8\" id=\"5,1\" style=\"\"></path><path d=\"M 347.5 56.5 L 347.5 113.8\" id=\"7,2\" style=\"\"></path><path d=\"M 411.0 113.8 L 389.9 171.1\" id=\"6,3\" style=\"\"></path><path d=\"M 411.0 113.8 L 432.2 171.1\" id=\"6,4\" style=\"\"></path><path d=\"M 347.5 56.5 L 284.0 85.2\" id=\"7,5\" style=\"\"></path><path d=\"M 347.5 56.5 L 411.0 113.8\" id=\"7,6\" style=\"\"></path></g><g class=\"toytree-AdmixEdges\" style=\"fill:rgb(0.0%,0.0%,0.0%);fill-opacity:0.0;stroke:rgb(90.6%,54.1%,76.5%);stroke-opacity:0.6;font-size:14px;stroke-linecap:round;stroke-width:5\"></g><g class=\"toytree-Nodes\" style=\"fill:rgb(40.0%,76.1%,64.7%);fill-opacity:1.0;stroke:rgb(14.5%,14.5%,14.5%);stroke-opacity:1.0;stroke-width:1.0\"><g id=\"Node-0\" transform=\"translate(262.785,113.812)\"><circle r=\"7.5\"></circle></g><g id=\"Node-1\" transform=\"translate(305.142,113.812)\"><circle r=\"7.5\"></circle></g><g id=\"Node-2\" transform=\"translate(347.5,113.812)\"><circle r=\"7.5\"></circle></g><g id=\"Node-3\" transform=\"translate(389.858,171.128)\"><circle r=\"7.5\"></circle></g><g id=\"Node-4\" transform=\"translate(432.215,171.128)\"><circle r=\"7.5\"></circle></g><g id=\"Node-5\" transform=\"translate(283.963,85.1539)\"><circle r=\"7.5\"></circle></g><g id=\"Node-6\" transform=\"translate(411.037,113.812)\"><circle r=\"7.5\"></circle></g><g id=\"Node-7\" transform=\"translate(347.5,56.4958)\"><circle r=\"7.5\"></circle></g></g><g class=\"toytree-NodeLabels\" style=\"font-family:Helvetica;font-size:9px;font-weight:300;vertical-align:baseline;white-space:pre;stroke:none\"><g class=\"toytree-NodeLabel\" transform=\"translate(262.785,113.812)\"><text x=\"-2.5020000000000002\" y=\"2.2995\" style=\"fill:rgb(14.5%,14.5%,14.5%);fill-opacity:1.0\">0</text></g><g class=\"toytree-NodeLabel\" transform=\"translate(305.142,113.812)\"><text x=\"-2.5020000000000002\" y=\"2.2995\" style=\"fill:rgb(14.5%,14.5%,14.5%);fill-opacity:1.0\">1</text></g><g class=\"toytree-NodeLabel\" transform=\"translate(347.5,113.812)\"><text x=\"-2.5020000000000002\" y=\"2.2995\" style=\"fill:rgb(14.5%,14.5%,14.5%);fill-opacity:1.0\">2</text></g><g class=\"toytree-NodeLabel\" transform=\"translate(389.858,171.128)\"><text x=\"-2.5020000000000002\" y=\"2.2995\" style=\"fill:rgb(14.5%,14.5%,14.5%);fill-opacity:1.0\">3</text></g><g class=\"toytree-NodeLabel\" transform=\"translate(432.215,171.128)\"><text x=\"-2.5020000000000002\" y=\"2.2995\" style=\"fill:rgb(14.5%,14.5%,14.5%);fill-opacity:1.0\">4</text></g><g class=\"toytree-NodeLabel\" transform=\"translate(283.963,85.1539)\"><text x=\"-2.5020000000000002\" y=\"2.2995\" style=\"fill:rgb(14.5%,14.5%,14.5%);fill-opacity:1.0\">5</text></g><g class=\"toytree-NodeLabel\" transform=\"translate(411.037,113.812)\"><text x=\"-2.5020000000000002\" y=\"2.2995\" style=\"fill:rgb(14.5%,14.5%,14.5%);fill-opacity:1.0\">6</text></g><g class=\"toytree-NodeLabel\" transform=\"translate(347.5,56.4958)\"><text x=\"-2.5020000000000002\" y=\"2.2995\" style=\"fill:rgb(14.5%,14.5%,14.5%);fill-opacity:1.0\">7</text></g></g><g class=\"toytree-TipLabels\" style=\"fill:rgb(14.5%,14.5%,14.5%);fill-opacity:1.0;font-family:Helvetica;font-size:10px;font-weight:300;vertical-align:baseline;white-space:pre;stroke:none\"><g class=\"toytree-TipLabel\" transform=\"translate(262.785,113.812)rotate(90)\"><text x=\"10.0\" y=\"2.5549999999999997\" style=\"fill:rgb(14.5%,14.5%,14.5%);fill-opacity:1.0\">r0</text></g><g class=\"toytree-TipLabel\" transform=\"translate(305.142,113.812)rotate(90)\"><text x=\"10.0\" y=\"2.5549999999999997\" style=\"fill:rgb(14.5%,14.5%,14.5%);fill-opacity:1.0\">r1</text></g><g class=\"toytree-TipLabel\" transform=\"translate(347.5,113.812)rotate(90)\"><text x=\"10.0\" y=\"2.5549999999999997\" style=\"fill:rgb(14.5%,14.5%,14.5%);fill-opacity:1.0\">r2</text></g><g class=\"toytree-TipLabel\" transform=\"translate(389.858,171.128)rotate(90)\"><text x=\"10.0\" y=\"2.5549999999999997\" style=\"fill:rgb(14.5%,14.5%,14.5%);fill-opacity:1.0\">r3</text></g><g class=\"toytree-TipLabel\" transform=\"translate(432.215,171.128)rotate(90)\"><text x=\"10.0\" y=\"2.5549999999999997\" style=\"fill:rgb(14.5%,14.5%,14.5%);fill-opacity:1.0\">r4</text></g></g></g></g><g transform=\"translate(347.5,42.0)\"><text x=\"-45.115\" y=\"-4.823\" style=\"fill:rgb(16.1%,15.3%,14.1%);fill-opacity:1.0;font-family:helvetica;font-size:14.0px;font-weight:bold;stroke:none;vertical-align:baseline;white-space:pre\">unrooted tree</text></g></g><g class=\"toyplot-coordinates-Cartesian\" id=\"t4b9bc3ed20fe40cb8995abc720eb5776\"><clipPath id=\"t0f8cb99b43094995bf0a6188d5e41b5a\"><rect x=\"470.0\" y=\"40.0\" width=\"205.0\" height=\"170.0\"></rect></clipPath><g clip-path=\"url(#t0f8cb99b43094995bf0a6188d5e41b5a)\"><g class=\"toytree-mark-Toytree\" id=\"td5687e296a4b46d7b8e37217a70173a2\"><g class=\"toytree-Edges\" style=\"stroke:rgb(14.5%,14.5%,14.5%);stroke-opacity:1.0;stroke-linecap:round;stroke-width:2.0;fill:none\"><path d=\"M 540.7 56.5 L 487.8 79.4\" id=\"8,0\" style=\"\"></path><path d=\"M 551.3 102.3 L 530.1 125.3\" id=\"5,1\" style=\"\"></path><path d=\"M 551.3 102.3 L 572.5 125.3\" id=\"5,2\" style=\"\"></path><path d=\"M 636.0 125.3 L 614.9 171.1\" id=\"6,3\" style=\"\"></path><path d=\"M 636.0 125.3 L 657.2 171.1\" id=\"6,4\" style=\"\"></path><path d=\"M 593.7 79.4 L 551.3 102.3\" id=\"7,5\" style=\"\"></path><path d=\"M 593.7 79.4 L 636.0 125.3\" id=\"7,6\" style=\"\"></path><path d=\"M 540.7 56.5 L 593.7 79.4\" id=\"8,7\" style=\"\"></path></g><g class=\"toytree-AdmixEdges\" style=\"fill:rgb(0.0%,0.0%,0.0%);fill-opacity:0.0;stroke:rgb(90.6%,54.1%,76.5%);stroke-opacity:0.6;font-size:14px;stroke-linecap:round;stroke-width:5\"></g><g class=\"toytree-Nodes\" style=\"fill:rgb(40.0%,76.1%,64.7%);fill-opacity:1.0;stroke:rgb(14.5%,14.5%,14.5%);stroke-opacity:1.0;stroke-width:1.0\"><g id=\"Node-0\" transform=\"translate(487.785,79.4223)\"><circle r=\"7.5\"></circle></g><g id=\"Node-1\" transform=\"translate(530.142,125.275)\"><circle r=\"7.5\"></circle></g><g id=\"Node-2\" transform=\"translate(572.5,125.275)\"><circle r=\"7.5\"></circle></g><g id=\"Node-3\" transform=\"translate(614.858,171.128)\"><circle r=\"7.5\"></circle></g><g id=\"Node-4\" transform=\"translate(657.215,171.128)\"><circle r=\"7.5\"></circle></g><g id=\"Node-5\" transform=\"translate(551.321,102.349)\"><circle r=\"7.5\"></circle></g><g id=\"Node-6\" transform=\"translate(636.037,125.275)\"><circle r=\"7.5\"></circle></g><g id=\"Node-7\" transform=\"translate(593.679,79.4223)\"><circle r=\"7.5\"></circle></g><g id=\"Node-8\" transform=\"translate(540.732,56.4958)\"><circle r=\"7.5\"></circle></g></g><g class=\"toytree-NodeLabels\" style=\"font-family:Helvetica;font-size:9px;font-weight:300;vertical-align:baseline;white-space:pre;stroke:none\"><g class=\"toytree-NodeLabel\" transform=\"translate(487.785,79.4223)\"><text x=\"-2.5020000000000002\" y=\"2.2995\" style=\"fill:rgb(14.5%,14.5%,14.5%);fill-opacity:1.0\">0</text></g><g class=\"toytree-NodeLabel\" transform=\"translate(530.142,125.275)\"><text x=\"-2.5020000000000002\" y=\"2.2995\" style=\"fill:rgb(14.5%,14.5%,14.5%);fill-opacity:1.0\">1</text></g><g class=\"toytree-NodeLabel\" transform=\"translate(572.5,125.275)\"><text x=\"-2.5020000000000002\" y=\"2.2995\" style=\"fill:rgb(14.5%,14.5%,14.5%);fill-opacity:1.0\">2</text></g><g class=\"toytree-NodeLabel\" transform=\"translate(614.858,171.128)\"><text x=\"-2.5020000000000002\" y=\"2.2995\" style=\"fill:rgb(14.5%,14.5%,14.5%);fill-opacity:1.0\">3</text></g><g class=\"toytree-NodeLabel\" transform=\"translate(657.215,171.128)\"><text x=\"-2.5020000000000002\" y=\"2.2995\" style=\"fill:rgb(14.5%,14.5%,14.5%);fill-opacity:1.0\">4</text></g><g class=\"toytree-NodeLabel\" transform=\"translate(551.321,102.349)\"><text x=\"-2.5020000000000002\" y=\"2.2995\" style=\"fill:rgb(14.5%,14.5%,14.5%);fill-opacity:1.0\">5</text></g><g class=\"toytree-NodeLabel\" transform=\"translate(636.037,125.275)\"><text x=\"-2.5020000000000002\" y=\"2.2995\" style=\"fill:rgb(14.5%,14.5%,14.5%);fill-opacity:1.0\">6</text></g><g class=\"toytree-NodeLabel\" transform=\"translate(593.679,79.4223)\"><text x=\"-2.5020000000000002\" y=\"2.2995\" style=\"fill:rgb(14.5%,14.5%,14.5%);fill-opacity:1.0\">7</text></g><g class=\"toytree-NodeLabel\" transform=\"translate(540.732,56.4958)\"><text x=\"-2.5020000000000002\" y=\"2.2995\" style=\"fill:rgb(14.5%,14.5%,14.5%);fill-opacity:1.0\">8</text></g></g><g class=\"toytree-TipLabels\" style=\"fill:rgb(14.5%,14.5%,14.5%);fill-opacity:1.0;font-family:Helvetica;font-size:10px;font-weight:300;vertical-align:baseline;white-space:pre;stroke:none\"><g class=\"toytree-TipLabel\" transform=\"translate(487.785,79.4223)rotate(90)\"><text x=\"10.0\" y=\"2.5549999999999997\" style=\"fill:rgb(14.5%,14.5%,14.5%);fill-opacity:1.0\">r2</text></g><g class=\"toytree-TipLabel\" transform=\"translate(530.142,125.275)rotate(90)\"><text x=\"10.0\" y=\"2.5549999999999997\" style=\"fill:rgb(14.5%,14.5%,14.5%);fill-opacity:1.0\">r0</text></g><g class=\"toytree-TipLabel\" transform=\"translate(572.5,125.275)rotate(90)\"><text x=\"10.0\" y=\"2.5549999999999997\" style=\"fill:rgb(14.5%,14.5%,14.5%);fill-opacity:1.0\">r1</text></g><g class=\"toytree-TipLabel\" transform=\"translate(614.858,171.128)rotate(90)\"><text x=\"10.0\" y=\"2.5549999999999997\" style=\"fill:rgb(14.5%,14.5%,14.5%);fill-opacity:1.0\">r3</text></g><g class=\"toytree-TipLabel\" transform=\"translate(657.215,171.128)rotate(90)\"><text x=\"10.0\" y=\"2.5549999999999997\" style=\"fill:rgb(14.5%,14.5%,14.5%);fill-opacity:1.0\">r4</text></g></g></g></g><g transform=\"translate(572.5,42.0)\"><text x=\"-46.675999999999995\" y=\"-4.823\" style=\"fill:rgb(16.1%,15.3%,14.1%);fill-opacity:1.0;font-family:helvetica;font-size:14.0px;font-weight:bold;stroke:none;vertical-align:baseline;white-space:pre\">alt rooted tree</text></g></g></svg><div class=\"toyplot-behavior\"><script>(function()\n",
       "{\n",
       "var modules={};\n",
       "})();</script></div></div>"
      ]
     },
     "metadata": {},
     "output_type": "display_data"
    }
   ],
   "source": [
    "# draw the trees rooted\n",
    "c, a, m = toytree.mtree([tree, utree, atree]).draw(ts='p', layout='d');\n",
    "a[0].label.text = \"rooted tree\"\n",
    "a[1].label.text = \"unrooted tree\"\n",
    "a[2].label.text = \"alt rooted tree\""
   ]
  },
  {
   "cell_type": "markdown",
   "id": "dcbafa92-ec75-4204-8bec-78dcb94405df",
   "metadata": {},
   "source": [
    "The drawings below show the same trees but using the unrooted/undirected ('un') layout. This places the treenode near the center and projects edges away from it in a way that minimizes overlaps. You can more clearly see by comparing the three trees in this layout that the structure (topology) of the tree does not change during rooting. The only difference between the middle and two outer drawings is the addition of an extra node (node 8) that is inserted either between nodes 6 and 7 on the left tree, or between nodes 0 and 7 on the right tree (note: node idx labels change between trees with different rootings). An undirected  layout would typically be used to visualize an unrooted tree (middle) but is not the most informative for rooted trees, since it is harder to interpret the distances of nodes from the root."
   ]
  },
  {
   "cell_type": "code",
   "execution_count": 6,
   "id": "28ed3c58-3f7f-45ce-b8da-db59e1e03700",
   "metadata": {},
   "outputs": [
    {
     "data": {
      "text/html": [
       "<div class=\"toyplot\" id=\"t26e439d8686d48a6888d11d973b1f26a\" style=\"text-align:center\"><svg class=\"toyplot-canvas-Canvas\" xmlns:toyplot=\"http://www.sandia.gov/toyplot\" xmlns:xlink=\"http://www.w3.org/1999/xlink\" xmlns=\"http://www.w3.org/2000/svg\" width=\"675.0px\" height=\"250.0px\" viewBox=\"0 0 675.0 250.0\" preserveAspectRatio=\"xMidYMid meet\" style=\"background-color:transparent;border-color:#292724;border-style:none;border-width:1.0;fill:rgb(16.1%,15.3%,14.1%);fill-opacity:1.0;font-family:Helvetica;font-size:12px;opacity:1.0;stroke:rgb(16.1%,15.3%,14.1%);stroke-opacity:1.0;stroke-width:1.0\" id=\"te0eb8ee7f43a4fbd94fd820dc01dcf8b\"><g class=\"toyplot-coordinates-Cartesian\" id=\"t0ce46a88ae3d463eb3bb84ce084681aa\"><clipPath id=\"te1a3f8fe8597414c81c5c6c8e1bf11c2\"><rect x=\"20.0\" y=\"40.0\" width=\"205.0\" height=\"170.0\"></rect></clipPath><g clip-path=\"url(#te1a3f8fe8597414c81c5c6c8e1bf11c2)\"><g class=\"toytree-mark-Toytree\" id=\"tee05ac99615846c2a2198e40c6bb5bef\"><g class=\"toytree-Edges\" style=\"stroke:rgb(14.5%,14.5%,14.5%);stroke-opacity:1.0;stroke-linecap:round;stroke-width:2.0;fill:none\"><path d=\"M 176.5 110.0 L 198.7 124.7\" id=\"5,0\" style=\"\"></path><path d=\"M 176.5 110.0 L 197.3 94.0\" id=\"5,1\" style=\"\"></path><path d=\"M 147.3 108.0 L 128.0 65.1\" id=\"6,2\" style=\"\"></path><path d=\"M 104.5 139.0 L 46.2 134.6\" id=\"7,3\" style=\"\"></path><path d=\"M 104.5 139.0 L 107.4 184.3\" id=\"7,4\" style=\"\"></path><path d=\"M 147.3 108.0 L 176.5 110.0\" id=\"6,5\" style=\"\"></path><path d=\"M 125.6 123.2 L 147.3 108.0\" id=\"8,6\" style=\"\"></path><path d=\"M 125.6 123.2 L 104.5 139.0\" id=\"8,7\" style=\"\"></path></g><g class=\"toytree-AdmixEdges\" style=\"fill:rgb(0.0%,0.0%,0.0%);fill-opacity:0.0;stroke:rgb(90.6%,54.1%,76.5%);stroke-opacity:0.6;font-size:14px;stroke-linecap:round;stroke-width:5\"></g><g class=\"toytree-Nodes\" style=\"fill:rgb(40.0%,76.1%,64.7%);fill-opacity:1.0;stroke:rgb(14.5%,14.5%,14.5%);stroke-opacity:1.0;stroke-width:1.0\"><g id=\"Node-0\" transform=\"translate(198.727,124.713)\"><circle r=\"7.5\"></circle></g><g id=\"Node-1\" transform=\"translate(197.27,94.021)\"><circle r=\"7.5\"></circle></g><g id=\"Node-2\" transform=\"translate(127.965,65.148)\"><circle r=\"7.5\"></circle></g><g id=\"Node-3\" transform=\"translate(46.2136,134.643)\"><circle r=\"7.5\"></circle></g><g id=\"Node-4\" transform=\"translate(107.383,184.306)\"><circle r=\"7.5\"></circle></g><g id=\"Node-5\" transform=\"translate(176.454,109.98)\"><circle r=\"7.5\"></circle></g><g id=\"Node-6\" transform=\"translate(147.274,107.977)\"><circle r=\"7.5\"></circle></g><g id=\"Node-7\" transform=\"translate(104.532,138.997)\"><circle r=\"7.5\"></circle></g><g id=\"Node-8\" transform=\"translate(125.611,123.245)\"><circle r=\"7.5\"></circle></g></g><g class=\"toytree-NodeLabels\" style=\"font-family:Helvetica;font-size:9px;font-weight:300;vertical-align:baseline;white-space:pre;stroke:none\"><g class=\"toytree-NodeLabel\" transform=\"translate(198.727,124.713)\"><text x=\"-2.5020000000000002\" y=\"2.2995\" style=\"fill:rgb(14.5%,14.5%,14.5%);fill-opacity:1.0\">0</text></g><g class=\"toytree-NodeLabel\" transform=\"translate(197.27,94.021)\"><text x=\"-2.5020000000000002\" y=\"2.2995\" style=\"fill:rgb(14.5%,14.5%,14.5%);fill-opacity:1.0\">1</text></g><g class=\"toytree-NodeLabel\" transform=\"translate(127.965,65.148)\"><text x=\"-2.5020000000000002\" y=\"2.2995\" style=\"fill:rgb(14.5%,14.5%,14.5%);fill-opacity:1.0\">2</text></g><g class=\"toytree-NodeLabel\" transform=\"translate(46.2136,134.643)\"><text x=\"-2.5020000000000002\" y=\"2.2995\" style=\"fill:rgb(14.5%,14.5%,14.5%);fill-opacity:1.0\">3</text></g><g class=\"toytree-NodeLabel\" transform=\"translate(107.383,184.306)\"><text x=\"-2.5020000000000002\" y=\"2.2995\" style=\"fill:rgb(14.5%,14.5%,14.5%);fill-opacity:1.0\">4</text></g><g class=\"toytree-NodeLabel\" transform=\"translate(176.454,109.98)\"><text x=\"-2.5020000000000002\" y=\"2.2995\" style=\"fill:rgb(14.5%,14.5%,14.5%);fill-opacity:1.0\">5</text></g><g class=\"toytree-NodeLabel\" transform=\"translate(147.274,107.977)\"><text x=\"-2.5020000000000002\" y=\"2.2995\" style=\"fill:rgb(14.5%,14.5%,14.5%);fill-opacity:1.0\">6</text></g><g class=\"toytree-NodeLabel\" transform=\"translate(104.532,138.997)\"><text x=\"-2.5020000000000002\" y=\"2.2995\" style=\"fill:rgb(14.5%,14.5%,14.5%);fill-opacity:1.0\">7</text></g><g class=\"toytree-NodeLabel\" transform=\"translate(125.611,123.245)\"><text x=\"-2.5020000000000002\" y=\"2.2995\" style=\"fill:rgb(14.5%,14.5%,14.5%);fill-opacity:1.0\">8</text></g></g><g class=\"toytree-TipLabels\" style=\"fill:rgb(14.5%,14.5%,14.5%);fill-opacity:1.0;font-family:Helvetica;font-size:10px;font-weight:300;vertical-align:baseline;white-space:pre;stroke:none\"><g class=\"toytree-TipLabel\" transform=\"translate(198.727,124.713)rotate(22.7879)\"><text x=\"10.0\" y=\"2.5549999999999997\" style=\"fill:rgb(14.5%,14.5%,14.5%);fill-opacity:1.0\">r0</text></g><g class=\"toytree-TipLabel\" transform=\"translate(197.27,94.021)rotate(-19.8254)\"><text x=\"10.0\" y=\"2.5549999999999997\" style=\"fill:rgb(14.5%,14.5%,14.5%);fill-opacity:1.0\">r1</text></g><g class=\"toytree-TipLabel\" transform=\"translate(127.965,65.148)rotate(-88.2031)\"><text x=\"10.0\" y=\"2.5549999999999997\" style=\"fill:rgb(14.5%,14.5%,14.5%);fill-opacity:1.0\">r2</text></g><g class=\"toytree-TipLabel\" transform=\"translate(46.2136,134.643)rotate(-10.5041)\"><text x=\"-18.89\" y=\"2.5549999999999997\" style=\"fill:rgb(14.5%,14.5%,14.5%);fill-opacity:1.0\">r3</text></g><g class=\"toytree-TipLabel\" transform=\"translate(107.383,184.306)rotate(-76.9859)\"><text x=\"-18.89\" y=\"2.5549999999999997\" style=\"fill:rgb(14.5%,14.5%,14.5%);fill-opacity:1.0\">r4</text></g></g></g></g><g transform=\"translate(122.5,42.0)\"><text x=\"-36.561\" y=\"-4.823\" style=\"fill:rgb(16.1%,15.3%,14.1%);fill-opacity:1.0;font-family:helvetica;font-size:14.0px;font-weight:bold;stroke:none;vertical-align:baseline;white-space:pre\">rooted tree</text></g></g><g class=\"toyplot-coordinates-Cartesian\" id=\"t193c1bb4bd614493aec1c1dec0c2312f\"><clipPath id=\"t2f9bafff8f21418babe236723933d590\"><rect x=\"245.0\" y=\"40.0\" width=\"205.0\" height=\"170.0\"></rect></clipPath><g clip-path=\"url(#t2f9bafff8f21418babe236723933d590)\"><g class=\"toytree-mark-Toytree\" id=\"t7f1208d2f2684cf9a92d0df6f0c14788\"><g class=\"toytree-Edges\" style=\"stroke:rgb(14.5%,14.5%,14.5%);stroke-opacity:1.0;stroke-linecap:round;stroke-width:2.0;fill:none\"><path d=\"M 401.9 111.0 L 423.8 126.1\" id=\"5,0\" style=\"\"></path><path d=\"M 401.9 111.0 L 423.0 95.3\" id=\"5,1\" style=\"\"></path><path d=\"M 372.8 108.8 L 354.5 65.7\" id=\"7,2\" style=\"\"></path><path d=\"M 329.4 139.0 L 271.3 133.8\" id=\"6,3\" style=\"\"></path><path d=\"M 329.4 139.0 L 331.1 184.4\" id=\"6,4\" style=\"\"></path><path d=\"M 372.8 108.8 L 401.9 111.0\" id=\"7,5\" style=\"\"></path><path d=\"M 372.8 108.8 L 329.4 139.0\" id=\"7,6\" style=\"\"></path></g><g class=\"toytree-AdmixEdges\" style=\"fill:rgb(0.0%,0.0%,0.0%);fill-opacity:0.0;stroke:rgb(90.6%,54.1%,76.5%);stroke-opacity:0.6;font-size:14px;stroke-linecap:round;stroke-width:5\"></g><g class=\"toytree-Nodes\" style=\"fill:rgb(40.0%,76.1%,64.7%);fill-opacity:1.0;stroke:rgb(14.5%,14.5%,14.5%);stroke-opacity:1.0;stroke-width:1.0\"><g id=\"Node-0\" transform=\"translate(423.759,126.061)\"><circle r=\"7.5\"></circle></g><g id=\"Node-1\" transform=\"translate(422.982,95.3329)\"><circle r=\"7.5\"></circle></g><g id=\"Node-2\" transform=\"translate(354.515,65.6839)\"><circle r=\"7.5\"></circle></g><g id=\"Node-3\" transform=\"translate(271.33,133.831)\"><circle r=\"7.5\"></circle></g><g id=\"Node-4\" transform=\"translate(331.104,184.389)\"><circle r=\"7.5\"></circle></g><g id=\"Node-5\" transform=\"translate(401.894,111.024)\"><circle r=\"7.5\"></circle></g><g id=\"Node-6\" transform=\"translate(329.35,139.044)\"><circle r=\"7.5\"></circle></g><g id=\"Node-7\" transform=\"translate(372.837,108.76)\"><circle r=\"7.5\"></circle></g></g><g class=\"toytree-NodeLabels\" style=\"font-family:Helvetica;font-size:9px;font-weight:300;vertical-align:baseline;white-space:pre;stroke:none\"><g class=\"toytree-NodeLabel\" transform=\"translate(423.759,126.061)\"><text x=\"-2.5020000000000002\" y=\"2.2995\" style=\"fill:rgb(14.5%,14.5%,14.5%);fill-opacity:1.0\">0</text></g><g class=\"toytree-NodeLabel\" transform=\"translate(422.982,95.3329)\"><text x=\"-2.5020000000000002\" y=\"2.2995\" style=\"fill:rgb(14.5%,14.5%,14.5%);fill-opacity:1.0\">1</text></g><g class=\"toytree-NodeLabel\" transform=\"translate(354.515,65.6839)\"><text x=\"-2.5020000000000002\" y=\"2.2995\" style=\"fill:rgb(14.5%,14.5%,14.5%);fill-opacity:1.0\">2</text></g><g class=\"toytree-NodeLabel\" transform=\"translate(271.33,133.831)\"><text x=\"-2.5020000000000002\" y=\"2.2995\" style=\"fill:rgb(14.5%,14.5%,14.5%);fill-opacity:1.0\">3</text></g><g class=\"toytree-NodeLabel\" transform=\"translate(331.104,184.389)\"><text x=\"-2.5020000000000002\" y=\"2.2995\" style=\"fill:rgb(14.5%,14.5%,14.5%);fill-opacity:1.0\">4</text></g><g class=\"toytree-NodeLabel\" transform=\"translate(401.894,111.024)\"><text x=\"-2.5020000000000002\" y=\"2.2995\" style=\"fill:rgb(14.5%,14.5%,14.5%);fill-opacity:1.0\">5</text></g><g class=\"toytree-NodeLabel\" transform=\"translate(329.35,139.044)\"><text x=\"-2.5020000000000002\" y=\"2.2995\" style=\"fill:rgb(14.5%,14.5%,14.5%);fill-opacity:1.0\">6</text></g><g class=\"toytree-NodeLabel\" transform=\"translate(372.837,108.76)\"><text x=\"-2.5020000000000002\" y=\"2.2995\" style=\"fill:rgb(14.5%,14.5%,14.5%);fill-opacity:1.0\">7</text></g></g><g class=\"toytree-TipLabels\" style=\"fill:rgb(14.5%,14.5%,14.5%);fill-opacity:1.0;font-family:Helvetica;font-size:10px;font-weight:300;vertical-align:baseline;white-space:pre;stroke:none\"><g class=\"toytree-TipLabel\" transform=\"translate(423.759,126.061)rotate(23.6256)\"><text x=\"10.0\" y=\"2.5549999999999997\" style=\"fill:rgb(14.5%,14.5%,14.5%);fill-opacity:1.0\">r0</text></g><g class=\"toytree-TipLabel\" transform=\"translate(422.982,95.3329)rotate(-19.0205)\"><text x=\"10.0\" y=\"2.5549999999999997\" style=\"fill:rgb(14.5%,14.5%,14.5%);fill-opacity:1.0\">r1</text></g><g class=\"toytree-TipLabel\" transform=\"translate(354.515,65.6839)rotate(71.7185)\"><text x=\"-18.89\" y=\"2.5549999999999997\" style=\"fill:rgb(14.5%,14.5%,14.5%);fill-opacity:1.0\">r2</text></g><g class=\"toytree-TipLabel\" transform=\"translate(271.33,133.831)rotate(-17.6406)\"><text x=\"-18.89\" y=\"2.5549999999999997\" style=\"fill:rgb(14.5%,14.5%,14.5%);fill-opacity:1.0\">r3</text></g><g class=\"toytree-TipLabel\" transform=\"translate(331.104,184.389)rotate(-66.8006)\"><text x=\"-18.89\" y=\"2.5549999999999997\" style=\"fill:rgb(14.5%,14.5%,14.5%);fill-opacity:1.0\">r4</text></g></g></g></g><g transform=\"translate(347.5,42.0)\"><text x=\"-45.115\" y=\"-4.823\" style=\"fill:rgb(16.1%,15.3%,14.1%);fill-opacity:1.0;font-family:helvetica;font-size:14.0px;font-weight:bold;stroke:none;vertical-align:baseline;white-space:pre\">unrooted tree</text></g></g><g class=\"toyplot-coordinates-Cartesian\" id=\"t693c808354d24dcabfd62138550c00d6\"><clipPath id=\"t60410a7ac985403ea225b21b137b73c9\"><rect x=\"470.0\" y=\"40.0\" width=\"205.0\" height=\"170.0\"></rect></clipPath><g clip-path=\"url(#t60410a7ac985403ea225b21b137b73c9)\"><g class=\"toytree-mark-Toytree\" id=\"tbf5364ad6b2f4eafa47bb7fc51a0ed13\"><g class=\"toytree-Edges\" style=\"stroke:rgb(14.5%,14.5%,14.5%);stroke-opacity:1.0;stroke-linecap:round;stroke-width:2.0;fill:none\"><path d=\"M 625.6 134.5 L 649.5 150.4\" id=\"8,0\" style=\"\"></path><path d=\"M 614.0 90.6 L 641.6 80.6\" id=\"5,1\" style=\"\"></path><path d=\"M 614.0 90.6 L 605.4 65.2\" id=\"5,2\" style=\"\"></path><path d=\"M 549.1 135.3 L 495.9 111.4\" id=\"6,3\" style=\"\"></path><path d=\"M 549.1 135.3 L 530.5 185.7\" id=\"6,4\" style=\"\"></path><path d=\"M 604.6 115.7 L 614.0 90.6\" id=\"7,5\" style=\"\"></path><path d=\"M 604.6 115.7 L 549.1 135.3\" id=\"7,6\" style=\"\"></path><path d=\"M 625.6 134.5 L 604.6 115.7\" id=\"8,7\" style=\"\"></path></g><g class=\"toytree-AdmixEdges\" style=\"fill:rgb(0.0%,0.0%,0.0%);fill-opacity:0.0;stroke:rgb(90.6%,54.1%,76.5%);stroke-opacity:0.6;font-size:14px;stroke-linecap:round;stroke-width:5\"></g><g class=\"toytree-Nodes\" style=\"fill:rgb(40.0%,76.1%,64.7%);fill-opacity:1.0;stroke:rgb(14.5%,14.5%,14.5%);stroke-opacity:1.0;stroke-width:1.0\"><g id=\"Node-0\" transform=\"translate(649.465,150.411)\"><circle r=\"7.5\"></circle></g><g id=\"Node-1\" transform=\"translate(641.62,80.5805)\"><circle r=\"7.5\"></circle></g><g id=\"Node-2\" transform=\"translate(605.42,65.235)\"><circle r=\"7.5\"></circle></g><g id=\"Node-3\" transform=\"translate(495.888,111.421)\"><circle r=\"7.5\"></circle></g><g id=\"Node-4\" transform=\"translate(530.467,185.654)\"><circle r=\"7.5\"></circle></g><g id=\"Node-5\" transform=\"translate(613.998,90.6009)\"><circle r=\"7.5\"></circle></g><g id=\"Node-6\" transform=\"translate(549.134,135.344)\"><circle r=\"7.5\"></circle></g><g id=\"Node-7\" transform=\"translate(604.57,115.728)\"><circle r=\"7.5\"></circle></g><g id=\"Node-8\" transform=\"translate(625.591,134.524)\"><circle r=\"7.5\"></circle></g></g><g class=\"toytree-NodeLabels\" style=\"font-family:Helvetica;font-size:9px;font-weight:300;vertical-align:baseline;white-space:pre;stroke:none\"><g class=\"toytree-NodeLabel\" transform=\"translate(649.465,150.411)\"><text x=\"-2.5020000000000002\" y=\"2.2995\" style=\"fill:rgb(14.5%,14.5%,14.5%);fill-opacity:1.0\">0</text></g><g class=\"toytree-NodeLabel\" transform=\"translate(641.62,80.5805)\"><text x=\"-2.5020000000000002\" y=\"2.2995\" style=\"fill:rgb(14.5%,14.5%,14.5%);fill-opacity:1.0\">1</text></g><g class=\"toytree-NodeLabel\" transform=\"translate(605.42,65.235)\"><text x=\"-2.5020000000000002\" y=\"2.2995\" style=\"fill:rgb(14.5%,14.5%,14.5%);fill-opacity:1.0\">2</text></g><g class=\"toytree-NodeLabel\" transform=\"translate(495.888,111.421)\"><text x=\"-2.5020000000000002\" y=\"2.2995\" style=\"fill:rgb(14.5%,14.5%,14.5%);fill-opacity:1.0\">3</text></g><g class=\"toytree-NodeLabel\" transform=\"translate(530.467,185.654)\"><text x=\"-2.5020000000000002\" y=\"2.2995\" style=\"fill:rgb(14.5%,14.5%,14.5%);fill-opacity:1.0\">4</text></g><g class=\"toytree-NodeLabel\" transform=\"translate(613.998,90.6009)\"><text x=\"-2.5020000000000002\" y=\"2.2995\" style=\"fill:rgb(14.5%,14.5%,14.5%);fill-opacity:1.0\">5</text></g><g class=\"toytree-NodeLabel\" transform=\"translate(549.134,135.344)\"><text x=\"-2.5020000000000002\" y=\"2.2995\" style=\"fill:rgb(14.5%,14.5%,14.5%);fill-opacity:1.0\">6</text></g><g class=\"toytree-NodeLabel\" transform=\"translate(604.57,115.728)\"><text x=\"-2.5020000000000002\" y=\"2.2995\" style=\"fill:rgb(14.5%,14.5%,14.5%);fill-opacity:1.0\">7</text></g><g class=\"toytree-NodeLabel\" transform=\"translate(625.591,134.524)\"><text x=\"-2.5020000000000002\" y=\"2.2995\" style=\"fill:rgb(14.5%,14.5%,14.5%);fill-opacity:1.0\">8</text></g></g><g class=\"toytree-TipLabels\" style=\"fill:rgb(14.5%,14.5%,14.5%);fill-opacity:1.0;font-family:Helvetica;font-size:10px;font-weight:300;vertical-align:baseline;white-space:pre;stroke:none\"><g class=\"toytree-TipLabel\" transform=\"translate(649.465,150.411)rotate(36.8601)\"><text x=\"10.0\" y=\"2.5549999999999997\" style=\"fill:rgb(14.5%,14.5%,14.5%);fill-opacity:1.0\">r2</text></g><g class=\"toytree-TipLabel\" transform=\"translate(641.62,80.5805)rotate(-46.906)\"><text x=\"10.0\" y=\"2.5549999999999997\" style=\"fill:rgb(14.5%,14.5%,14.5%);fill-opacity:1.0\">r0</text></g><g class=\"toytree-TipLabel\" transform=\"translate(605.42,65.235)rotate(-89.1432)\"><text x=\"10.0\" y=\"2.5549999999999997\" style=\"fill:rgb(14.5%,14.5%,14.5%);fill-opacity:1.0\">r1</text></g><g class=\"toytree-TipLabel\" transform=\"translate(495.888,111.421)rotate(2.55661)\"><text x=\"-18.89\" y=\"2.5549999999999997\" style=\"fill:rgb(14.5%,14.5%,14.5%);fill-opacity:1.0\">r3</text></g><g class=\"toytree-TipLabel\" transform=\"translate(530.467,185.654)rotate(-46.7548)\"><text x=\"-18.89\" y=\"2.5549999999999997\" style=\"fill:rgb(14.5%,14.5%,14.5%);fill-opacity:1.0\">r4</text></g></g></g></g><g transform=\"translate(572.5,42.0)\"><text x=\"-46.675999999999995\" y=\"-4.823\" style=\"fill:rgb(16.1%,15.3%,14.1%);fill-opacity:1.0;font-family:helvetica;font-size:14.0px;font-weight:bold;stroke:none;vertical-align:baseline;white-space:pre\">alt rooted tree</text></g></g></svg><div class=\"toyplot-behavior\"><script>(function()\n",
       "{\n",
       "var modules={};\n",
       "})();</script></div></div>"
      ]
     },
     "metadata": {},
     "output_type": "display_data"
    }
   ],
   "source": [
    "# draw the trees unrooted\n",
    "c, a, m = toytree.mtree([tree, utree, atree]).draw(ts='p', layout='un');\n",
    "a[0].label.text = \"rooted tree\"\n",
    "a[1].label.text = \"unrooted tree\"\n",
    "a[2].label.text = \"alt rooted tree\""
   ]
  },
  {
   "cell_type": "markdown",
   "id": "e719aeee-9e49-4dee-ac68-ff0f96982721",
   "metadata": {},
   "source": [
    "<div class=\"admonition tip\">\n",
    "  <p class=\"admonition-title\">Tip</p>\n",
    "  <p>\n",
    "      A key point is to recognize the difference between whether a tree is rooted or not, and whether a tree is drawn using an unrooted/undirected layout or not. These are two distinct things.\n",
    "  </p>\n",
    "</div>\n",
    "\n"
   ]
  },
  {
   "cell_type": "markdown",
   "id": "2d8b07b4-ece7-4810-ba6b-8d8cc2c9efa6",
   "metadata": {},
   "source": [
    "## Rooting methods\n",
    "`toytree` currently supports three methods for rooting a tree: (1) manually; (2) by the midpoint (Farris 1972); and (3) by the minimal ancestor deviation (Tria et al. 2017). The first requires the user to designate the outgroup and optionally specify the length along the edge at which to insert the new root node. The second method automatically places the root node on an edge that is average distance from all terminal nodes. The last method calculates a set of statistics that can be used to either automatically place the root node, or to provide a score for an alternative manual placement. \n",
    "\n",
    "The most common methods, `.root()` and `.unroot`, are available from a `ToyTree` object. These are also available in the `toytree.mod` subpackage, where the other optional rooting functions are also located. Each is demonstrated with further explanation below."
   ]
  },
  {
   "cell_type": "markdown",
   "id": "43da98dd-137b-49a8-8fe8-6e4c4ec0fc94",
   "metadata": {},
   "source": [
    "### Manually set the outgroup\n",
    "The `.root()` function requires manually designating an outgroup. Specifically, you are designating the node for which the edge above it will be bisected by the new **treenode**. The clade composed of the selected node and its descendants is designated the *outgroup*, and the clade of everything else on the other side of the root is the ingroup. "
   ]
  },
  {
   "cell_type": "code",
   "execution_count": 7,
   "id": "58b0cced-e842-409b-b007-b15466c9d52d",
   "metadata": {},
   "outputs": [
    {
     "data": {
      "text/html": [
       "<div class=\"toyplot\" id=\"t605859846602409e97daeabb76fabfb6\" style=\"text-align:center\"><svg class=\"toyplot-canvas-Canvas\" xmlns:toyplot=\"http://www.sandia.gov/toyplot\" xmlns:xlink=\"http://www.w3.org/1999/xlink\" xmlns=\"http://www.w3.org/2000/svg\" width=\"450.0px\" height=\"250.0px\" viewBox=\"0 0 450.0 250.0\" preserveAspectRatio=\"xMidYMid meet\" style=\"background-color:transparent;border-color:#292724;border-style:none;border-width:1.0;fill:rgb(16.1%,15.3%,14.1%);fill-opacity:1.0;font-family:Helvetica;font-size:12px;opacity:1.0;stroke:rgb(16.1%,15.3%,14.1%);stroke-opacity:1.0;stroke-width:1.0\" id=\"t2e51ebdd94a6488c915e9ee5133e30af\"><g class=\"toyplot-coordinates-Cartesian\" id=\"t0786f65ef939438cb1ba215d6f9448db\"><clipPath id=\"t29c5aa3ce37942e3a7e98005333708e3\"><rect x=\"20.0\" y=\"40.0\" width=\"205.0\" height=\"170.0\"></rect></clipPath><g clip-path=\"url(#t29c5aa3ce37942e3a7e98005333708e3)\"><g class=\"toytree-mark-Toytree\" id=\"te950f7ecc0494acca9159c3c402fc075\"><g class=\"toytree-Edges\" style=\"stroke:rgb(14.5%,14.5%,14.5%);stroke-opacity:1.0;stroke-linecap:round;stroke-width:2.0;fill:none\"><path d=\"M 59.0 85.2 L 37.8 113.8\" id=\"5,0\" style=\"\"></path><path d=\"M 59.0 85.2 L 80.1 113.8\" id=\"5,1\" style=\"\"></path><path d=\"M 122.5 56.5 L 122.5 113.8\" id=\"7,2\" style=\"\"></path><path d=\"M 186.0 113.8 L 164.9 171.1\" id=\"6,3\" style=\"\"></path><path d=\"M 186.0 113.8 L 207.2 171.1\" id=\"6,4\" style=\"\"></path><path d=\"M 122.5 56.5 L 59.0 85.2\" id=\"7,5\" style=\"\"></path><path d=\"M 122.5 56.5 L 186.0 113.8\" id=\"7,6\" style=\"\"></path></g><g class=\"toytree-AdmixEdges\" style=\"fill:rgb(0.0%,0.0%,0.0%);fill-opacity:0.0;stroke:rgb(90.6%,54.1%,76.5%);stroke-opacity:0.6;font-size:14px;stroke-linecap:round;stroke-width:5\"></g><g class=\"toytree-Nodes\" style=\"fill:rgb(40.0%,76.1%,64.7%);fill-opacity:1.0;stroke:rgb(14.5%,14.5%,14.5%);stroke-opacity:1.0;stroke-width:1.0\"><g id=\"Node-0\" transform=\"translate(37.7847,113.812)\"><circle r=\"7.5\"></circle></g><g id=\"Node-1\" transform=\"translate(80.1423,113.812)\"><circle r=\"7.5\"></circle></g><g id=\"Node-2\" transform=\"translate(122.5,113.812)\"><circle r=\"7.5\"></circle></g><g id=\"Node-3\" transform=\"translate(164.858,171.128)\"><circle r=\"7.5\"></circle></g><g id=\"Node-4\" transform=\"translate(207.215,171.128)\"><circle r=\"7.5\"></circle></g><g id=\"Node-5\" transform=\"translate(58.9635,85.1539)\"><circle r=\"7.5\"></circle></g><g id=\"Node-6\" transform=\"translate(186.037,113.812)\"><circle r=\"7.5\"></circle></g><g id=\"Node-7\" transform=\"translate(122.5,56.4958)\"><circle r=\"7.5\"></circle></g></g><g class=\"toytree-NodeLabels\" style=\"font-family:Helvetica;font-size:9px;font-weight:300;vertical-align:baseline;white-space:pre;stroke:none\"><g class=\"toytree-NodeLabel\" transform=\"translate(37.7847,113.812)\"><text x=\"-2.5020000000000002\" y=\"2.2995\" style=\"fill:rgb(14.5%,14.5%,14.5%);fill-opacity:1.0\">0</text></g><g class=\"toytree-NodeLabel\" transform=\"translate(80.1423,113.812)\"><text x=\"-2.5020000000000002\" y=\"2.2995\" style=\"fill:rgb(14.5%,14.5%,14.5%);fill-opacity:1.0\">1</text></g><g class=\"toytree-NodeLabel\" transform=\"translate(122.5,113.812)\"><text x=\"-2.5020000000000002\" y=\"2.2995\" style=\"fill:rgb(14.5%,14.5%,14.5%);fill-opacity:1.0\">2</text></g><g class=\"toytree-NodeLabel\" transform=\"translate(164.858,171.128)\"><text x=\"-2.5020000000000002\" y=\"2.2995\" style=\"fill:rgb(14.5%,14.5%,14.5%);fill-opacity:1.0\">3</text></g><g class=\"toytree-NodeLabel\" transform=\"translate(207.215,171.128)\"><text x=\"-2.5020000000000002\" y=\"2.2995\" style=\"fill:rgb(14.5%,14.5%,14.5%);fill-opacity:1.0\">4</text></g><g class=\"toytree-NodeLabel\" transform=\"translate(58.9635,85.1539)\"><text x=\"-2.5020000000000002\" y=\"2.2995\" style=\"fill:rgb(14.5%,14.5%,14.5%);fill-opacity:1.0\">5</text></g><g class=\"toytree-NodeLabel\" transform=\"translate(186.037,113.812)\"><text x=\"-2.5020000000000002\" y=\"2.2995\" style=\"fill:rgb(14.5%,14.5%,14.5%);fill-opacity:1.0\">6</text></g><g class=\"toytree-NodeLabel\" transform=\"translate(122.5,56.4958)\"><text x=\"-2.5020000000000002\" y=\"2.2995\" style=\"fill:rgb(14.5%,14.5%,14.5%);fill-opacity:1.0\">7</text></g></g><g class=\"toytree-TipLabels\" style=\"fill:rgb(14.5%,14.5%,14.5%);fill-opacity:1.0;font-family:Helvetica;font-size:10px;font-weight:300;vertical-align:baseline;white-space:pre;stroke:none\"><g class=\"toytree-TipLabel\" transform=\"translate(37.7847,113.812)rotate(90)\"><text x=\"10.0\" y=\"2.5549999999999997\" style=\"fill:rgb(14.5%,14.5%,14.5%);fill-opacity:1.0\">r0</text></g><g class=\"toytree-TipLabel\" transform=\"translate(80.1423,113.812)rotate(90)\"><text x=\"10.0\" y=\"2.5549999999999997\" style=\"fill:rgb(14.5%,14.5%,14.5%);fill-opacity:1.0\">r1</text></g><g class=\"toytree-TipLabel\" transform=\"translate(122.5,113.812)rotate(90)\"><text x=\"10.0\" y=\"2.5549999999999997\" style=\"fill:rgb(14.5%,14.5%,14.5%);fill-opacity:1.0\">r2</text></g><g class=\"toytree-TipLabel\" transform=\"translate(164.858,171.128)rotate(90)\"><text x=\"10.0\" y=\"2.5549999999999997\" style=\"fill:rgb(14.5%,14.5%,14.5%);fill-opacity:1.0\">r3</text></g><g class=\"toytree-TipLabel\" transform=\"translate(207.215,171.128)rotate(90)\"><text x=\"10.0\" y=\"2.5549999999999997\" style=\"fill:rgb(14.5%,14.5%,14.5%);fill-opacity:1.0\">r4</text></g></g></g></g></g><g class=\"toyplot-coordinates-Cartesian\" id=\"t964ba836d16c4402946743f36296ef08\"><clipPath id=\"t6c8904acc64e4d6f874fc12636658f4e\"><rect x=\"245.0\" y=\"40.0\" width=\"205.0\" height=\"170.0\"></rect></clipPath><g clip-path=\"url(#t6c8904acc64e4d6f874fc12636658f4e)\"><g class=\"toytree-mark-Toytree\" id=\"t03d7d3ff3b804ddf96eadd47abb44ebe\"><g class=\"toytree-Edges\" style=\"stroke:rgb(14.5%,14.5%,14.5%);stroke-opacity:1.0;stroke-linecap:round;stroke-width:2.0;fill:none\"><path d=\"M 284.0 94.7 L 262.8 171.1\" id=\"5,0\" style=\"\"></path><path d=\"M 284.0 94.7 L 305.1 171.1\" id=\"5,1\" style=\"\"></path><path d=\"M 368.7 132.9 L 347.5 171.1\" id=\"6,2\" style=\"\"></path><path d=\"M 368.7 132.9 L 389.9 171.1\" id=\"6,3\" style=\"\"></path><path d=\"M 400.4 94.7 L 432.2 171.1\" id=\"7,4\" style=\"\"></path><path d=\"M 342.2 56.5 L 284.0 94.7\" id=\"8,5\" style=\"\"></path><path d=\"M 400.4 94.7 L 368.7 132.9\" id=\"7,6\" style=\"\"></path><path d=\"M 342.2 56.5 L 400.4 94.7\" id=\"8,7\" style=\"\"></path></g><g class=\"toytree-AdmixEdges\" style=\"fill:rgb(0.0%,0.0%,0.0%);fill-opacity:0.0;stroke:rgb(90.6%,54.1%,76.5%);stroke-opacity:0.6;font-size:14px;stroke-linecap:round;stroke-width:5\"></g><g class=\"toytree-Nodes\" style=\"fill:rgb(40.0%,76.1%,64.7%);fill-opacity:1.0;stroke:rgb(14.5%,14.5%,14.5%);stroke-opacity:1.0;stroke-width:1.0\"><g id=\"Node-0\" transform=\"translate(262.785,171.128)\"><circle r=\"7.5\"></circle></g><g id=\"Node-1\" transform=\"translate(305.142,171.128)\"><circle r=\"7.5\"></circle></g><g id=\"Node-2\" transform=\"translate(347.5,171.128)\"><circle r=\"7.5\"></circle></g><g id=\"Node-3\" transform=\"translate(389.858,171.128)\"><circle r=\"7.5\"></circle></g><g id=\"Node-4\" transform=\"translate(432.215,171.128)\"><circle r=\"7.5\"></circle></g><g id=\"Node-5\" transform=\"translate(283.963,94.7065)\"><circle r=\"7.5\"></circle></g><g id=\"Node-6\" transform=\"translate(368.679,132.917)\"><circle r=\"7.5\"></circle></g><g id=\"Node-7\" transform=\"translate(400.447,94.7065)\"><circle r=\"7.5\"></circle></g><g id=\"Node-8\" transform=\"translate(342.205,56.4958)\"><circle r=\"7.5\"></circle></g></g><g class=\"toytree-NodeLabels\" style=\"font-family:Helvetica;font-size:9px;font-weight:300;vertical-align:baseline;white-space:pre;stroke:none\"><g class=\"toytree-NodeLabel\" transform=\"translate(262.785,171.128)\"><text x=\"-2.5020000000000002\" y=\"2.2995\" style=\"fill:rgb(14.5%,14.5%,14.5%);fill-opacity:1.0\">0</text></g><g class=\"toytree-NodeLabel\" transform=\"translate(305.142,171.128)\"><text x=\"-2.5020000000000002\" y=\"2.2995\" style=\"fill:rgb(14.5%,14.5%,14.5%);fill-opacity:1.0\">1</text></g><g class=\"toytree-NodeLabel\" transform=\"translate(347.5,171.128)\"><text x=\"-2.5020000000000002\" y=\"2.2995\" style=\"fill:rgb(14.5%,14.5%,14.5%);fill-opacity:1.0\">2</text></g><g class=\"toytree-NodeLabel\" transform=\"translate(389.858,171.128)\"><text x=\"-2.5020000000000002\" y=\"2.2995\" style=\"fill:rgb(14.5%,14.5%,14.5%);fill-opacity:1.0\">3</text></g><g class=\"toytree-NodeLabel\" transform=\"translate(432.215,171.128)\"><text x=\"-2.5020000000000002\" y=\"2.2995\" style=\"fill:rgb(14.5%,14.5%,14.5%);fill-opacity:1.0\">4</text></g><g class=\"toytree-NodeLabel\" transform=\"translate(283.963,94.7065)\"><text x=\"-2.5020000000000002\" y=\"2.2995\" style=\"fill:rgb(14.5%,14.5%,14.5%);fill-opacity:1.0\">5</text></g><g class=\"toytree-NodeLabel\" transform=\"translate(368.679,132.917)\"><text x=\"-2.5020000000000002\" y=\"2.2995\" style=\"fill:rgb(14.5%,14.5%,14.5%);fill-opacity:1.0\">6</text></g><g class=\"toytree-NodeLabel\" transform=\"translate(400.447,94.7065)\"><text x=\"-2.5020000000000002\" y=\"2.2995\" style=\"fill:rgb(14.5%,14.5%,14.5%);fill-opacity:1.0\">7</text></g><g class=\"toytree-NodeLabel\" transform=\"translate(342.205,56.4958)\"><text x=\"-2.5020000000000002\" y=\"2.2995\" style=\"fill:rgb(14.5%,14.5%,14.5%);fill-opacity:1.0\">8</text></g></g><g class=\"toytree-TipLabels\" style=\"fill:rgb(14.5%,14.5%,14.5%);fill-opacity:1.0;font-family:Helvetica;font-size:10px;font-weight:300;vertical-align:baseline;white-space:pre;stroke:none\"><g class=\"toytree-TipLabel\" transform=\"translate(262.785,171.128)rotate(90)\"><text x=\"10.0\" y=\"2.5549999999999997\" style=\"fill:rgb(14.5%,14.5%,14.5%);fill-opacity:1.0\">r3</text></g><g class=\"toytree-TipLabel\" transform=\"translate(305.142,171.128)rotate(90)\"><text x=\"10.0\" y=\"2.5549999999999997\" style=\"fill:rgb(14.5%,14.5%,14.5%);fill-opacity:1.0\">r4</text></g><g class=\"toytree-TipLabel\" transform=\"translate(347.5,171.128)rotate(90)\"><text x=\"10.0\" y=\"2.5549999999999997\" style=\"fill:rgb(14.5%,14.5%,14.5%);fill-opacity:1.0\">r0</text></g><g class=\"toytree-TipLabel\" transform=\"translate(389.858,171.128)rotate(90)\"><text x=\"10.0\" y=\"2.5549999999999997\" style=\"fill:rgb(14.5%,14.5%,14.5%);fill-opacity:1.0\">r1</text></g><g class=\"toytree-TipLabel\" transform=\"translate(432.215,171.128)rotate(90)\"><text x=\"10.0\" y=\"2.5549999999999997\" style=\"fill:rgb(14.5%,14.5%,14.5%);fill-opacity:1.0\">r2</text></g></g></g></g></g></svg><div class=\"toyplot-behavior\"><script>(function()\n",
       "{\n",
       "var modules={};\n",
       "})();</script></div></div>"
      ]
     },
     "metadata": {},
     "output_type": "display_data"
    }
   ],
   "source": [
    "# root the tree using clade (r3,r4) as outgroup\n",
    "new_tree = utree.root(\"r3\", \"r4\")\n",
    "\n",
    "# show the unrooted and newly rooted trees\n",
    "toytree.mtree([utree, new_tree]).draw(ts='p');"
   ]
  },
  {
   "cell_type": "markdown",
   "id": "23995c5b-cf27-4c72-885a-a59b3e78a929",
   "metadata": {},
   "source": [
    "### Midpoint deviation\n",
    "Rooting on the \"midpoint\" assumes a clock-like evolutionary rate (i.e., branch lengths are equal to time) and may yield odd results when this assumption is violated. This algorithm calculates the pairwise path length between all tips in an unrooted tree, and places the treenode on an edge representing the midpoint of the longest path."
   ]
  },
  {
   "cell_type": "code",
   "execution_count": 8,
   "id": "e08a590b-743b-4fd1-8b3a-44f4fed7d3e0",
   "metadata": {},
   "outputs": [
    {
     "data": {
      "text/html": [
       "<div class=\"toyplot\" id=\"t3f1a632edaa0438c941abba2ad38ff0c\" style=\"text-align:center\"><svg class=\"toyplot-canvas-Canvas\" xmlns:toyplot=\"http://www.sandia.gov/toyplot\" xmlns:xlink=\"http://www.w3.org/1999/xlink\" xmlns=\"http://www.w3.org/2000/svg\" width=\"300.0px\" height=\"300.0px\" viewBox=\"0 0 300.0 300.0\" preserveAspectRatio=\"xMidYMid meet\" style=\"background-color:transparent;border-color:#292724;border-style:none;border-width:1.0;fill:rgb(16.1%,15.3%,14.1%);fill-opacity:1.0;font-family:Helvetica;font-size:12px;opacity:1.0;stroke:rgb(16.1%,15.3%,14.1%);stroke-opacity:1.0;stroke-width:1.0\" id=\"t9520ac6199e640e59e4227b8c1521c4d\"><g class=\"toyplot-coordinates-Cartesian\" id=\"t6d70d74c5cce475c8591f7d26b6647a3\"><clipPath id=\"t1542d6cb4f1f499bb53d1e0923bd04cb\"><rect x=\"35.0\" y=\"35.0\" width=\"230.0\" height=\"230.0\"></rect></clipPath><g clip-path=\"url(#t1542d6cb4f1f499bb53d1e0923bd04cb)\"><g class=\"toytree-mark-Toytree\" id=\"t9f4f45b126c744f39f326974d033f0e1\"><g class=\"toytree-Edges\" style=\"stroke:rgb(14.5%,14.5%,14.5%);stroke-opacity:1.0;stroke-linecap:round;stroke-width:2.0;fill:none\"><path d=\"M 80.9 107.9 L 57.8 210.5\" id=\"5,0\" style=\"\"></path><path d=\"M 80.9 107.9 L 103.9 210.5\" id=\"5,1\" style=\"\"></path><path d=\"M 173.0 159.2 L 150.0 210.5\" id=\"6,2\" style=\"\"></path><path d=\"M 173.0 159.2 L 196.1 210.5\" id=\"6,3\" style=\"\"></path><path d=\"M 207.6 107.9 L 242.2 210.5\" id=\"7,4\" style=\"\"></path><path d=\"M 144.2 56.5 L 80.9 107.9\" id=\"8,5\" style=\"\"></path><path d=\"M 207.6 107.9 L 173.0 159.2\" id=\"7,6\" style=\"\"></path><path d=\"M 144.2 56.5 L 207.6 107.9\" id=\"8,7\" style=\"\"></path></g><g class=\"toytree-AdmixEdges\" style=\"fill:rgb(0.0%,0.0%,0.0%);fill-opacity:0.0;stroke:rgb(90.6%,54.1%,76.5%);stroke-opacity:0.6;font-size:14px;stroke-linecap:round;stroke-width:5\"></g><g class=\"toytree-Nodes\" style=\"fill:rgb(40.0%,76.1%,64.7%);fill-opacity:1.0;stroke:rgb(14.5%,14.5%,14.5%);stroke-opacity:1.0;stroke-width:1.0\"><g id=\"Node-0\" transform=\"translate(57.8341,210.486)\"><circle r=\"7.5\"></circle></g><g id=\"Node-1\" transform=\"translate(103.917,210.486)\"><circle r=\"7.5\"></circle></g><g id=\"Node-2\" transform=\"translate(150,210.486)\"><circle r=\"7.5\"></circle></g><g id=\"Node-3\" transform=\"translate(196.083,210.486)\"><circle r=\"7.5\"></circle></g><g id=\"Node-4\" transform=\"translate(242.166,210.486)\"><circle r=\"7.5\"></circle></g><g id=\"Node-5\" transform=\"translate(80.8756,107.857)\"><circle r=\"7.5\"></circle></g><g id=\"Node-6\" transform=\"translate(173.041,159.171)\"><circle r=\"7.5\"></circle></g><g id=\"Node-7\" transform=\"translate(207.604,107.857)\"><circle r=\"7.5\"></circle></g><g id=\"Node-8\" transform=\"translate(144.24,56.5426)\"><circle r=\"7.5\"></circle></g></g><g class=\"toytree-NodeLabels\" style=\"font-family:Helvetica;font-size:9px;font-weight:300;vertical-align:baseline;white-space:pre;stroke:none\"><g class=\"toytree-NodeLabel\" transform=\"translate(57.8341,210.486)\"><text x=\"-2.5020000000000002\" y=\"2.2995\" style=\"fill:rgb(14.5%,14.5%,14.5%);fill-opacity:1.0\">0</text></g><g class=\"toytree-NodeLabel\" transform=\"translate(103.917,210.486)\"><text x=\"-2.5020000000000002\" y=\"2.2995\" style=\"fill:rgb(14.5%,14.5%,14.5%);fill-opacity:1.0\">1</text></g><g class=\"toytree-NodeLabel\" transform=\"translate(150,210.486)\"><text x=\"-2.5020000000000002\" y=\"2.2995\" style=\"fill:rgb(14.5%,14.5%,14.5%);fill-opacity:1.0\">2</text></g><g class=\"toytree-NodeLabel\" transform=\"translate(196.083,210.486)\"><text x=\"-2.5020000000000002\" y=\"2.2995\" style=\"fill:rgb(14.5%,14.5%,14.5%);fill-opacity:1.0\">3</text></g><g class=\"toytree-NodeLabel\" transform=\"translate(242.166,210.486)\"><text x=\"-2.5020000000000002\" y=\"2.2995\" style=\"fill:rgb(14.5%,14.5%,14.5%);fill-opacity:1.0\">4</text></g><g class=\"toytree-NodeLabel\" transform=\"translate(80.8756,107.857)\"><text x=\"-2.5020000000000002\" y=\"2.2995\" style=\"fill:rgb(14.5%,14.5%,14.5%);fill-opacity:1.0\">5</text></g><g class=\"toytree-NodeLabel\" transform=\"translate(173.041,159.171)\"><text x=\"-2.5020000000000002\" y=\"2.2995\" style=\"fill:rgb(14.5%,14.5%,14.5%);fill-opacity:1.0\">6</text></g><g class=\"toytree-NodeLabel\" transform=\"translate(207.604,107.857)\"><text x=\"-2.5020000000000002\" y=\"2.2995\" style=\"fill:rgb(14.5%,14.5%,14.5%);fill-opacity:1.0\">7</text></g><g class=\"toytree-NodeLabel\" transform=\"translate(144.24,56.5426)\"><text x=\"-2.5020000000000002\" y=\"2.2995\" style=\"fill:rgb(14.5%,14.5%,14.5%);fill-opacity:1.0\">8</text></g></g><g class=\"toytree-TipLabels\" style=\"fill:rgb(14.5%,14.5%,14.5%);fill-opacity:1.0;font-family:Helvetica;font-size:12px;font-weight:300;vertical-align:baseline;white-space:pre;stroke:none\"><g class=\"toytree-TipLabel\" transform=\"translate(57.8341,210.486)rotate(90)\"><text x=\"15.0\" y=\"3.066\" style=\"fill:rgb(14.5%,14.5%,14.5%);fill-opacity:1.0\">r3</text></g><g class=\"toytree-TipLabel\" transform=\"translate(103.917,210.486)rotate(90)\"><text x=\"15.0\" y=\"3.066\" style=\"fill:rgb(14.5%,14.5%,14.5%);fill-opacity:1.0\">r4</text></g><g class=\"toytree-TipLabel\" transform=\"translate(150,210.486)rotate(90)\"><text x=\"15.0\" y=\"3.066\" style=\"fill:rgb(14.5%,14.5%,14.5%);fill-opacity:1.0\">r0</text></g><g class=\"toytree-TipLabel\" transform=\"translate(196.083,210.486)rotate(90)\"><text x=\"15.0\" y=\"3.066\" style=\"fill:rgb(14.5%,14.5%,14.5%);fill-opacity:1.0\">r1</text></g><g class=\"toytree-TipLabel\" transform=\"translate(242.166,210.486)rotate(90)\"><text x=\"15.0\" y=\"3.066\" style=\"fill:rgb(14.5%,14.5%,14.5%);fill-opacity:1.0\">r2</text></g></g></g></g><g class=\"toyplot-coordinates-Axis\" id=\"t1564cffd50f44ae38b2353e5fe59f141\" transform=\"translate(50.0,250.0)rotate(-90.0)translate(0,-15.0)\"><line x1=\"39.51415508243662\" y1=\"0\" x2=\"193.45741159808495\" y2=\"0\" style=\"\"></line><g><line x1=\"39.51415508243662\" y1=\"0\" x2=\"39.51415508243662\" y2=\"5\" style=\"\"></line><line x1=\"116.48578334026078\" y1=\"0\" x2=\"116.48578334026078\" y2=\"5\" style=\"\"></line><line x1=\"193.45741159808495\" y1=\"0\" x2=\"193.45741159808495\" y2=\"5\" style=\"\"></line></g><g><g transform=\"translate(39.51415508243662,-6)\"><text x=\"-2.78\" y=\"-4.440892098500626e-16\" style=\"fill:rgb(16.1%,15.3%,14.1%);fill-opacity:1.0;font-family:helvetica;font-size:10.0px;font-weight:normal;stroke:none;vertical-align:baseline;white-space:pre\">0</text></g><g transform=\"translate(116.48578334026078,-6)\"><text x=\"-6.95\" y=\"-4.440892098500626e-16\" style=\"fill:rgb(16.1%,15.3%,14.1%);fill-opacity:1.0;font-family:helvetica;font-size:10.0px;font-weight:normal;stroke:none;vertical-align:baseline;white-space:pre\">0.5</text></g><g transform=\"translate(193.45741159808495,-6)\"><text x=\"-2.78\" y=\"-4.440892098500626e-16\" style=\"fill:rgb(16.1%,15.3%,14.1%);fill-opacity:1.0;font-family:helvetica;font-size:10.0px;font-weight:normal;stroke:none;vertical-align:baseline;white-space:pre\">1</text></g></g><g class=\"toyplot-coordinates-Axis-coordinates\" style=\"visibility:hidden\" transform=\"\"><line x1=\"0\" x2=\"0\" y1=\"3.0\" y2=\"-4.5\" style=\"stroke:rgb(43.9%,50.2%,56.5%);stroke-opacity:1.0;stroke-width:1.0\"></line><text x=\"0\" y=\"6\" style=\"alignment-baseline:hanging;fill:rgb(43.9%,50.2%,56.5%);fill-opacity:1.0;font-size:10px;font-weight:normal;stroke:none;text-anchor:middle\"></text></g></g></g></svg><div class=\"toyplot-behavior\"><script>(function()\n",
       "{\n",
       "var modules={};\n",
       "modules[\"toyplot/canvas/id\"] = \"t9520ac6199e640e59e4227b8c1521c4d\";\n",
       "modules[\"toyplot/canvas\"] = (function(canvas_id)\n",
       "    {\n",
       "        return document.querySelector(\"#\" + canvas_id);\n",
       "    })(modules[\"toyplot/canvas/id\"]);\n",
       "modules[\"toyplot.coordinates.Axis\"] = (\n",
       "        function(canvas)\n",
       "        {\n",
       "            function sign(x)\n",
       "            {\n",
       "                return x < 0 ? -1 : x > 0 ? 1 : 0;\n",
       "            }\n",
       "\n",
       "            function mix(a, b, amount)\n",
       "            {\n",
       "                return ((1.0 - amount) * a) + (amount * b);\n",
       "            }\n",
       "\n",
       "            function log(x, base)\n",
       "            {\n",
       "                return Math.log(Math.abs(x)) / Math.log(base);\n",
       "            }\n",
       "\n",
       "            function in_range(a, x, b)\n",
       "            {\n",
       "                var left = Math.min(a, b);\n",
       "                var right = Math.max(a, b);\n",
       "                return left <= x && x <= right;\n",
       "            }\n",
       "\n",
       "            function inside(range, projection)\n",
       "            {\n",
       "                for(var i = 0; i != projection.length; ++i)\n",
       "                {\n",
       "                    var segment = projection[i];\n",
       "                    if(in_range(segment.range.min, range, segment.range.max))\n",
       "                        return true;\n",
       "                }\n",
       "                return false;\n",
       "            }\n",
       "\n",
       "            function to_domain(range, projection)\n",
       "            {\n",
       "                for(var i = 0; i != projection.length; ++i)\n",
       "                {\n",
       "                    var segment = projection[i];\n",
       "                    if(in_range(segment.range.bounds.min, range, segment.range.bounds.max))\n",
       "                    {\n",
       "                        if(segment.scale == \"linear\")\n",
       "                        {\n",
       "                            var amount = (range - segment.range.min) / (segment.range.max - segment.range.min);\n",
       "                            return mix(segment.domain.min, segment.domain.max, amount)\n",
       "                        }\n",
       "                        else if(segment.scale[0] == \"log\")\n",
       "                        {\n",
       "                            var amount = (range - segment.range.min) / (segment.range.max - segment.range.min);\n",
       "                            var base = segment.scale[1];\n",
       "                            return sign(segment.domain.min) * Math.pow(base, mix(log(segment.domain.min, base), log(segment.domain.max, base), amount));\n",
       "                        }\n",
       "                    }\n",
       "                }\n",
       "            }\n",
       "\n",
       "            var axes = {};\n",
       "\n",
       "            function display_coordinates(e)\n",
       "            {\n",
       "                var current = canvas.createSVGPoint();\n",
       "                current.x = e.clientX;\n",
       "                current.y = e.clientY;\n",
       "\n",
       "                for(var axis_id in axes)\n",
       "                {\n",
       "                    var axis = document.querySelector(\"#\" + axis_id);\n",
       "                    var coordinates = axis.querySelector(\".toyplot-coordinates-Axis-coordinates\");\n",
       "                    if(coordinates)\n",
       "                    {\n",
       "                        var projection = axes[axis_id];\n",
       "                        var local = current.matrixTransform(axis.getScreenCTM().inverse());\n",
       "                        if(inside(local.x, projection))\n",
       "                        {\n",
       "                            var domain = to_domain(local.x, projection);\n",
       "                            coordinates.style.visibility = \"visible\";\n",
       "                            coordinates.setAttribute(\"transform\", \"translate(\" + local.x + \")\");\n",
       "                            var text = coordinates.querySelector(\"text\");\n",
       "                            text.textContent = domain.toFixed(2);\n",
       "                        }\n",
       "                        else\n",
       "                        {\n",
       "                            coordinates.style.visibility= \"hidden\";\n",
       "                        }\n",
       "                    }\n",
       "                }\n",
       "            }\n",
       "\n",
       "            canvas.addEventListener(\"click\", display_coordinates);\n",
       "\n",
       "            var module = {};\n",
       "            module.show_coordinates = function(axis_id, projection)\n",
       "            {\n",
       "                axes[axis_id] = projection;\n",
       "            }\n",
       "\n",
       "            return module;\n",
       "        })(modules[\"toyplot/canvas\"]);\n",
       "(function(axis, axis_id, projection)\n",
       "        {\n",
       "            axis.show_coordinates(axis_id, projection);\n",
       "        })(modules[\"toyplot.coordinates.Axis\"],\"t1564cffd50f44ae38b2353e5fe59f141\",[{\"domain\": {\"bounds\": {\"max\": Infinity, \"min\": -Infinity}, \"max\": 1.0425, \"min\": -0.2566800000000001}, \"range\": {\"bounds\": {\"max\": Infinity, \"min\": -Infinity}, \"max\": 200.0, \"min\": 0.0}, \"scale\": \"linear\"}]);\n",
       "})();</script></div></div>"
      ]
     },
     "metadata": {},
     "output_type": "display_data"
    }
   ],
   "source": [
    "# root the tree on the global midpoint and draw it\n",
    "utree.mod.root_on_midpoint().draw(ts='p');"
   ]
  },
  {
   "cell_type": "markdown",
   "id": "fa82ccf9-096e-4d05-9a83-e055ea02ad6a",
   "metadata": {},
   "source": [
    "### Minimal-ancestor-deviation\n",
    "\n",
    "The minimal ancestor deviation (MAD) rooting method is intended to accommodate rate heterogeneity among edges of a tree when inferring the root state of an unrooted tree. It assumes that branch lengths are additive and that the true tree is ultrametric (i.e., tip height variation results from rate heterogeneity). This method finds the point on every edge that minimizes the deviations from all pairwise midpoint rooting positions. The optimal rooting position is on the edge with the lowest MAD score, but the user can also manually select a suboptimal edge and assess its relative score compared to alternative root placements (See [Inferring the root](#inferring-the-root) below.)"
   ]
  },
  {
   "cell_type": "code",
   "execution_count": 9,
   "id": "896744b7-b7fb-4147-b073-e4d8f97d6ccd",
   "metadata": {},
   "outputs": [
    {
     "data": {
      "text/html": [
       "<div class=\"toyplot\" id=\"t32fda7c15a574abb9fcad15cf1df535f\" style=\"text-align:center\"><svg class=\"toyplot-canvas-Canvas\" xmlns:toyplot=\"http://www.sandia.gov/toyplot\" xmlns:xlink=\"http://www.w3.org/1999/xlink\" xmlns=\"http://www.w3.org/2000/svg\" width=\"300.0px\" height=\"300.0px\" viewBox=\"0 0 300.0 300.0\" preserveAspectRatio=\"xMidYMid meet\" style=\"background-color:transparent;border-color:#292724;border-style:none;border-width:1.0;fill:rgb(16.1%,15.3%,14.1%);fill-opacity:1.0;font-family:Helvetica;font-size:12px;opacity:1.0;stroke:rgb(16.1%,15.3%,14.1%);stroke-opacity:1.0;stroke-width:1.0\" id=\"t583695a96ba743abbd5166ee7c48248a\"><g class=\"toyplot-coordinates-Cartesian\" id=\"t70bf896c5f7540068645feb961679c05\"><clipPath id=\"t820f112f324c42aca7682eb1cdefae3e\"><rect x=\"35.0\" y=\"35.0\" width=\"230.0\" height=\"230.0\"></rect></clipPath><g clip-path=\"url(#t820f112f324c42aca7682eb1cdefae3e)\"><g class=\"toytree-mark-Toytree\" id=\"te130e87d09ff4bf8a2858df0b314d2f7\"><g class=\"toytree-Edges\" style=\"stroke:rgb(14.5%,14.5%,14.5%);stroke-opacity:1.0;stroke-linecap:round;stroke-width:2.0;fill:none\"><path d=\"M 80.9 107.9 L 57.8 210.5\" id=\"5,0\" style=\"\"></path><path d=\"M 80.9 107.9 L 103.9 210.5\" id=\"5,1\" style=\"\"></path><path d=\"M 173.0 159.2 L 150.0 210.5\" id=\"6,2\" style=\"\"></path><path d=\"M 173.0 159.2 L 196.1 210.5\" id=\"6,3\" style=\"\"></path><path d=\"M 207.6 107.9 L 242.2 210.5\" id=\"7,4\" style=\"\"></path><path d=\"M 144.2 56.5 L 80.9 107.9\" id=\"8,5\" style=\"\"></path><path d=\"M 207.6 107.9 L 173.0 159.2\" id=\"7,6\" style=\"\"></path><path d=\"M 144.2 56.5 L 207.6 107.9\" id=\"8,7\" style=\"\"></path></g><g class=\"toytree-AdmixEdges\" style=\"fill:rgb(0.0%,0.0%,0.0%);fill-opacity:0.0;stroke:rgb(90.6%,54.1%,76.5%);stroke-opacity:0.6;font-size:14px;stroke-linecap:round;stroke-width:5\"></g><g class=\"toytree-Nodes\" style=\"fill:rgb(40.0%,76.1%,64.7%);fill-opacity:1.0;stroke:rgb(14.5%,14.5%,14.5%);stroke-opacity:1.0;stroke-width:1.0\"><g id=\"Node-0\" transform=\"translate(57.8341,210.486)\"><circle r=\"7.5\"></circle></g><g id=\"Node-1\" transform=\"translate(103.917,210.486)\"><circle r=\"7.5\"></circle></g><g id=\"Node-2\" transform=\"translate(150,210.486)\"><circle r=\"7.5\"></circle></g><g id=\"Node-3\" transform=\"translate(196.083,210.486)\"><circle r=\"7.5\"></circle></g><g id=\"Node-4\" transform=\"translate(242.166,210.486)\"><circle r=\"7.5\"></circle></g><g id=\"Node-5\" transform=\"translate(80.8756,107.857)\"><circle r=\"7.5\"></circle></g><g id=\"Node-6\" transform=\"translate(173.041,159.171)\"><circle r=\"7.5\"></circle></g><g id=\"Node-7\" transform=\"translate(207.604,107.857)\"><circle r=\"7.5\"></circle></g><g id=\"Node-8\" transform=\"translate(144.24,56.5426)\"><circle r=\"7.5\"></circle></g></g><g class=\"toytree-NodeLabels\" style=\"font-family:Helvetica;font-size:9px;font-weight:300;vertical-align:baseline;white-space:pre;stroke:none\"><g class=\"toytree-NodeLabel\" transform=\"translate(57.8341,210.486)\"><text x=\"-2.5020000000000002\" y=\"2.2995\" style=\"fill:rgb(14.5%,14.5%,14.5%);fill-opacity:1.0\">0</text></g><g class=\"toytree-NodeLabel\" transform=\"translate(103.917,210.486)\"><text x=\"-2.5020000000000002\" y=\"2.2995\" style=\"fill:rgb(14.5%,14.5%,14.5%);fill-opacity:1.0\">1</text></g><g class=\"toytree-NodeLabel\" transform=\"translate(150,210.486)\"><text x=\"-2.5020000000000002\" y=\"2.2995\" style=\"fill:rgb(14.5%,14.5%,14.5%);fill-opacity:1.0\">2</text></g><g class=\"toytree-NodeLabel\" transform=\"translate(196.083,210.486)\"><text x=\"-2.5020000000000002\" y=\"2.2995\" style=\"fill:rgb(14.5%,14.5%,14.5%);fill-opacity:1.0\">3</text></g><g class=\"toytree-NodeLabel\" transform=\"translate(242.166,210.486)\"><text x=\"-2.5020000000000002\" y=\"2.2995\" style=\"fill:rgb(14.5%,14.5%,14.5%);fill-opacity:1.0\">4</text></g><g class=\"toytree-NodeLabel\" transform=\"translate(80.8756,107.857)\"><text x=\"-2.5020000000000002\" y=\"2.2995\" style=\"fill:rgb(14.5%,14.5%,14.5%);fill-opacity:1.0\">5</text></g><g class=\"toytree-NodeLabel\" transform=\"translate(173.041,159.171)\"><text x=\"-2.5020000000000002\" y=\"2.2995\" style=\"fill:rgb(14.5%,14.5%,14.5%);fill-opacity:1.0\">6</text></g><g class=\"toytree-NodeLabel\" transform=\"translate(207.604,107.857)\"><text x=\"-2.5020000000000002\" y=\"2.2995\" style=\"fill:rgb(14.5%,14.5%,14.5%);fill-opacity:1.0\">7</text></g><g class=\"toytree-NodeLabel\" transform=\"translate(144.24,56.5426)\"><text x=\"-2.5020000000000002\" y=\"2.2995\" style=\"fill:rgb(14.5%,14.5%,14.5%);fill-opacity:1.0\">8</text></g></g><g class=\"toytree-TipLabels\" style=\"fill:rgb(14.5%,14.5%,14.5%);fill-opacity:1.0;font-family:Helvetica;font-size:12px;font-weight:300;vertical-align:baseline;white-space:pre;stroke:none\"><g class=\"toytree-TipLabel\" transform=\"translate(57.8341,210.486)rotate(90)\"><text x=\"15.0\" y=\"3.066\" style=\"fill:rgb(14.5%,14.5%,14.5%);fill-opacity:1.0\">r3</text></g><g class=\"toytree-TipLabel\" transform=\"translate(103.917,210.486)rotate(90)\"><text x=\"15.0\" y=\"3.066\" style=\"fill:rgb(14.5%,14.5%,14.5%);fill-opacity:1.0\">r4</text></g><g class=\"toytree-TipLabel\" transform=\"translate(150,210.486)rotate(90)\"><text x=\"15.0\" y=\"3.066\" style=\"fill:rgb(14.5%,14.5%,14.5%);fill-opacity:1.0\">r0</text></g><g class=\"toytree-TipLabel\" transform=\"translate(196.083,210.486)rotate(90)\"><text x=\"15.0\" y=\"3.066\" style=\"fill:rgb(14.5%,14.5%,14.5%);fill-opacity:1.0\">r1</text></g><g class=\"toytree-TipLabel\" transform=\"translate(242.166,210.486)rotate(90)\"><text x=\"15.0\" y=\"3.066\" style=\"fill:rgb(14.5%,14.5%,14.5%);fill-opacity:1.0\">r2</text></g></g></g></g><g class=\"toyplot-coordinates-Axis\" id=\"t8c9f6d88fb7745948ed8bf91a9fce729\" transform=\"translate(50.0,250.0)rotate(-90.0)translate(0,-15.0)\"><line x1=\"39.51415508243662\" y1=\"0\" x2=\"193.45741159808495\" y2=\"0\" style=\"\"></line><g><line x1=\"39.51415508243662\" y1=\"0\" x2=\"39.51415508243662\" y2=\"5\" style=\"\"></line><line x1=\"116.48578334026078\" y1=\"0\" x2=\"116.48578334026078\" y2=\"5\" style=\"\"></line><line x1=\"193.45741159808495\" y1=\"0\" x2=\"193.45741159808495\" y2=\"5\" style=\"\"></line></g><g><g transform=\"translate(39.51415508243662,-6)\"><text x=\"-2.78\" y=\"-4.440892098500626e-16\" style=\"fill:rgb(16.1%,15.3%,14.1%);fill-opacity:1.0;font-family:helvetica;font-size:10.0px;font-weight:normal;stroke:none;vertical-align:baseline;white-space:pre\">0</text></g><g transform=\"translate(116.48578334026078,-6)\"><text x=\"-6.95\" y=\"-4.440892098500626e-16\" style=\"fill:rgb(16.1%,15.3%,14.1%);fill-opacity:1.0;font-family:helvetica;font-size:10.0px;font-weight:normal;stroke:none;vertical-align:baseline;white-space:pre\">0.5</text></g><g transform=\"translate(193.45741159808495,-6)\"><text x=\"-2.78\" y=\"-4.440892098500626e-16\" style=\"fill:rgb(16.1%,15.3%,14.1%);fill-opacity:1.0;font-family:helvetica;font-size:10.0px;font-weight:normal;stroke:none;vertical-align:baseline;white-space:pre\">1</text></g></g><g class=\"toyplot-coordinates-Axis-coordinates\" style=\"visibility:hidden\" transform=\"\"><line x1=\"0\" x2=\"0\" y1=\"3.0\" y2=\"-4.5\" style=\"stroke:rgb(43.9%,50.2%,56.5%);stroke-opacity:1.0;stroke-width:1.0\"></line><text x=\"0\" y=\"6\" style=\"alignment-baseline:hanging;fill:rgb(43.9%,50.2%,56.5%);fill-opacity:1.0;font-size:10px;font-weight:normal;stroke:none;text-anchor:middle\"></text></g></g></g></svg><div class=\"toyplot-behavior\"><script>(function()\n",
       "{\n",
       "var modules={};\n",
       "modules[\"toyplot/canvas/id\"] = \"t583695a96ba743abbd5166ee7c48248a\";\n",
       "modules[\"toyplot/canvas\"] = (function(canvas_id)\n",
       "    {\n",
       "        return document.querySelector(\"#\" + canvas_id);\n",
       "    })(modules[\"toyplot/canvas/id\"]);\n",
       "modules[\"toyplot.coordinates.Axis\"] = (\n",
       "        function(canvas)\n",
       "        {\n",
       "            function sign(x)\n",
       "            {\n",
       "                return x < 0 ? -1 : x > 0 ? 1 : 0;\n",
       "            }\n",
       "\n",
       "            function mix(a, b, amount)\n",
       "            {\n",
       "                return ((1.0 - amount) * a) + (amount * b);\n",
       "            }\n",
       "\n",
       "            function log(x, base)\n",
       "            {\n",
       "                return Math.log(Math.abs(x)) / Math.log(base);\n",
       "            }\n",
       "\n",
       "            function in_range(a, x, b)\n",
       "            {\n",
       "                var left = Math.min(a, b);\n",
       "                var right = Math.max(a, b);\n",
       "                return left <= x && x <= right;\n",
       "            }\n",
       "\n",
       "            function inside(range, projection)\n",
       "            {\n",
       "                for(var i = 0; i != projection.length; ++i)\n",
       "                {\n",
       "                    var segment = projection[i];\n",
       "                    if(in_range(segment.range.min, range, segment.range.max))\n",
       "                        return true;\n",
       "                }\n",
       "                return false;\n",
       "            }\n",
       "\n",
       "            function to_domain(range, projection)\n",
       "            {\n",
       "                for(var i = 0; i != projection.length; ++i)\n",
       "                {\n",
       "                    var segment = projection[i];\n",
       "                    if(in_range(segment.range.bounds.min, range, segment.range.bounds.max))\n",
       "                    {\n",
       "                        if(segment.scale == \"linear\")\n",
       "                        {\n",
       "                            var amount = (range - segment.range.min) / (segment.range.max - segment.range.min);\n",
       "                            return mix(segment.domain.min, segment.domain.max, amount)\n",
       "                        }\n",
       "                        else if(segment.scale[0] == \"log\")\n",
       "                        {\n",
       "                            var amount = (range - segment.range.min) / (segment.range.max - segment.range.min);\n",
       "                            var base = segment.scale[1];\n",
       "                            return sign(segment.domain.min) * Math.pow(base, mix(log(segment.domain.min, base), log(segment.domain.max, base), amount));\n",
       "                        }\n",
       "                    }\n",
       "                }\n",
       "            }\n",
       "\n",
       "            var axes = {};\n",
       "\n",
       "            function display_coordinates(e)\n",
       "            {\n",
       "                var current = canvas.createSVGPoint();\n",
       "                current.x = e.clientX;\n",
       "                current.y = e.clientY;\n",
       "\n",
       "                for(var axis_id in axes)\n",
       "                {\n",
       "                    var axis = document.querySelector(\"#\" + axis_id);\n",
       "                    var coordinates = axis.querySelector(\".toyplot-coordinates-Axis-coordinates\");\n",
       "                    if(coordinates)\n",
       "                    {\n",
       "                        var projection = axes[axis_id];\n",
       "                        var local = current.matrixTransform(axis.getScreenCTM().inverse());\n",
       "                        if(inside(local.x, projection))\n",
       "                        {\n",
       "                            var domain = to_domain(local.x, projection);\n",
       "                            coordinates.style.visibility = \"visible\";\n",
       "                            coordinates.setAttribute(\"transform\", \"translate(\" + local.x + \")\");\n",
       "                            var text = coordinates.querySelector(\"text\");\n",
       "                            text.textContent = domain.toFixed(2);\n",
       "                        }\n",
       "                        else\n",
       "                        {\n",
       "                            coordinates.style.visibility= \"hidden\";\n",
       "                        }\n",
       "                    }\n",
       "                }\n",
       "            }\n",
       "\n",
       "            canvas.addEventListener(\"click\", display_coordinates);\n",
       "\n",
       "            var module = {};\n",
       "            module.show_coordinates = function(axis_id, projection)\n",
       "            {\n",
       "                axes[axis_id] = projection;\n",
       "            }\n",
       "\n",
       "            return module;\n",
       "        })(modules[\"toyplot/canvas\"]);\n",
       "(function(axis, axis_id, projection)\n",
       "        {\n",
       "            axis.show_coordinates(axis_id, projection);\n",
       "        })(modules[\"toyplot.coordinates.Axis\"],\"t8c9f6d88fb7745948ed8bf91a9fce729\",[{\"domain\": {\"bounds\": {\"max\": Infinity, \"min\": -Infinity}, \"max\": 1.0425, \"min\": -0.2566800000000001}, \"range\": {\"bounds\": {\"max\": Infinity, \"min\": -Infinity}, \"max\": 200.0, \"min\": 0.0}, \"scale\": \"linear\"}]);\n",
       "})();</script></div></div>"
      ]
     },
     "metadata": {},
     "output_type": "display_data"
    }
   ],
   "source": [
    "# get a rooted tree with MAD scores stored as features\n",
    "tree.mod.root_on_minimal_ancestor_deviation().draw(ts='p');"
   ]
  },
  {
   "cell_type": "markdown",
   "id": "1d993045-cace-475b-aa0c-2e616e9b8a9a",
   "metadata": {},
   "source": [
    "## Root dist\n",
    "When rooting a tree it is important not only to select the correct edge on which to place the treenode, but also the correct position on that edge. For example, the edge could be split at its midpoint, or closer to one child node than the other. The true rooting position is not known, and so this is a place where a model-based inference can be useful. One common assumption is that the tree should be as close to ultrametric as possible, and thus a position should be selected on the edge that best aligns the tip nodes. This is approach taken by the midpoint and minimal-ancestor-deviation methods. In addition, the user can set a position manually using the manual rooting method. If the `root_dist` arg is left at its default=None setting in the root function then the edge midpoint is used."
   ]
  },
  {
   "cell_type": "code",
   "execution_count": 10,
   "id": "24afdee5-81dd-430e-bfb5-f71c98e39114",
   "metadata": {},
   "outputs": [
    {
     "data": {
      "text/html": [
       "<div class=\"toyplot\" id=\"t09662cfb79104569906c2ae7143dbed4\" style=\"text-align:center\"><svg class=\"toyplot-canvas-Canvas\" xmlns:toyplot=\"http://www.sandia.gov/toyplot\" xmlns:xlink=\"http://www.w3.org/1999/xlink\" xmlns=\"http://www.w3.org/2000/svg\" width=\"300.0px\" height=\"300.0px\" viewBox=\"0 0 300.0 300.0\" preserveAspectRatio=\"xMidYMid meet\" style=\"background-color:transparent;border-color:#292724;border-style:none;border-width:1.0;fill:rgb(16.1%,15.3%,14.1%);fill-opacity:1.0;font-family:Helvetica;font-size:12px;opacity:1.0;stroke:rgb(16.1%,15.3%,14.1%);stroke-opacity:1.0;stroke-width:1.0\" id=\"t44a3d194159944c18ff5b7f80c56b65f\"><g class=\"toyplot-coordinates-Cartesian\" id=\"tfca18181687c458abcd8a03a4acf85ce\"><clipPath id=\"t9bb0f18ec30a4837915d1ab39efad82e\"><rect x=\"35.0\" y=\"35.0\" width=\"230.0\" height=\"230.0\"></rect></clipPath><g clip-path=\"url(#t9bb0f18ec30a4837915d1ab39efad82e)\"><g class=\"toytree-mark-Toytree\" id=\"t2de0295f0f1d41e9885d74e4f3e54307\"><g class=\"toytree-Edges\" style=\"stroke:rgb(14.5%,14.5%,14.5%);stroke-opacity:1.0;stroke-linecap:round;stroke-width:2.0;fill:none\"><path d=\"M 80.9 69.0 L 57.8 152.2\" id=\"5,0\" style=\"\"></path><path d=\"M 80.9 69.0 L 103.9 152.2\" id=\"5,1\" style=\"\"></path><path d=\"M 173.0 168.9 L 150.0 210.5\" id=\"6,2\" style=\"\"></path><path d=\"M 173.0 168.9 L 196.1 210.5\" id=\"6,3\" style=\"\"></path><path d=\"M 207.6 127.3 L 242.2 210.5\" id=\"7,4\" style=\"\"></path><path d=\"M 144.2 56.5 L 80.9 69.0\" id=\"8,5\" style=\"\"></path><path d=\"M 207.6 127.3 L 173.0 168.9\" id=\"7,6\" style=\"\"></path><path d=\"M 144.2 56.5 L 207.6 127.3\" id=\"8,7\" style=\"\"></path></g><g class=\"toytree-AdmixEdges\" style=\"fill:rgb(0.0%,0.0%,0.0%);fill-opacity:0.0;stroke:rgb(90.6%,54.1%,76.5%);stroke-opacity:0.6;font-size:14px;stroke-linecap:round;stroke-width:5\"></g><g class=\"toytree-Nodes\" style=\"fill:rgb(40.0%,76.1%,64.7%);fill-opacity:1.0;stroke:rgb(14.5%,14.5%,14.5%);stroke-opacity:1.0;stroke-width:1.0\"><g id=\"Node-0\" transform=\"translate(57.8341,152.237)\"><circle r=\"7.5\"></circle></g><g id=\"Node-1\" transform=\"translate(103.917,152.237)\"><circle r=\"7.5\"></circle></g><g id=\"Node-2\" transform=\"translate(150,210.486)\"><circle r=\"7.5\"></circle></g><g id=\"Node-3\" transform=\"translate(196.083,210.486)\"><circle r=\"7.5\"></circle></g><g id=\"Node-4\" transform=\"translate(242.166,210.486)\"><circle r=\"7.5\"></circle></g><g id=\"Node-5\" transform=\"translate(80.8756,69.0245)\"><circle r=\"7.5\"></circle></g><g id=\"Node-6\" transform=\"translate(173.041,168.88)\"><circle r=\"7.5\"></circle></g><g id=\"Node-7\" transform=\"translate(207.604,127.273)\"><circle r=\"7.5\"></circle></g><g id=\"Node-8\" transform=\"translate(144.24,56.5426)\"><circle r=\"7.5\"></circle></g></g><g class=\"toytree-NodeLabels\" style=\"font-family:Helvetica;font-size:9px;font-weight:300;vertical-align:baseline;white-space:pre;stroke:none\"><g class=\"toytree-NodeLabel\" transform=\"translate(57.8341,152.237)\"><text x=\"-2.5020000000000002\" y=\"2.2995\" style=\"fill:rgb(14.5%,14.5%,14.5%);fill-opacity:1.0\">0</text></g><g class=\"toytree-NodeLabel\" transform=\"translate(103.917,152.237)\"><text x=\"-2.5020000000000002\" y=\"2.2995\" style=\"fill:rgb(14.5%,14.5%,14.5%);fill-opacity:1.0\">1</text></g><g class=\"toytree-NodeLabel\" transform=\"translate(150,210.486)\"><text x=\"-2.5020000000000002\" y=\"2.2995\" style=\"fill:rgb(14.5%,14.5%,14.5%);fill-opacity:1.0\">2</text></g><g class=\"toytree-NodeLabel\" transform=\"translate(196.083,210.486)\"><text x=\"-2.5020000000000002\" y=\"2.2995\" style=\"fill:rgb(14.5%,14.5%,14.5%);fill-opacity:1.0\">3</text></g><g class=\"toytree-NodeLabel\" transform=\"translate(242.166,210.486)\"><text x=\"-2.5020000000000002\" y=\"2.2995\" style=\"fill:rgb(14.5%,14.5%,14.5%);fill-opacity:1.0\">4</text></g><g class=\"toytree-NodeLabel\" transform=\"translate(80.8756,69.0245)\"><text x=\"-2.5020000000000002\" y=\"2.2995\" style=\"fill:rgb(14.5%,14.5%,14.5%);fill-opacity:1.0\">5</text></g><g class=\"toytree-NodeLabel\" transform=\"translate(173.041,168.88)\"><text x=\"-2.5020000000000002\" y=\"2.2995\" style=\"fill:rgb(14.5%,14.5%,14.5%);fill-opacity:1.0\">6</text></g><g class=\"toytree-NodeLabel\" transform=\"translate(207.604,127.273)\"><text x=\"-2.5020000000000002\" y=\"2.2995\" style=\"fill:rgb(14.5%,14.5%,14.5%);fill-opacity:1.0\">7</text></g><g class=\"toytree-NodeLabel\" transform=\"translate(144.24,56.5426)\"><text x=\"-2.5020000000000002\" y=\"2.2995\" style=\"fill:rgb(14.5%,14.5%,14.5%);fill-opacity:1.0\">8</text></g></g><g class=\"toytree-TipLabels\" style=\"fill:rgb(14.5%,14.5%,14.5%);fill-opacity:1.0;font-family:Helvetica;font-size:12px;font-weight:300;vertical-align:baseline;white-space:pre;stroke:none\"><g class=\"toytree-TipLabel\" transform=\"translate(57.8341,152.237)rotate(90)\"><text x=\"15.0\" y=\"3.066\" style=\"fill:rgb(14.5%,14.5%,14.5%);fill-opacity:1.0\">r3</text></g><g class=\"toytree-TipLabel\" transform=\"translate(103.917,152.237)rotate(90)\"><text x=\"15.0\" y=\"3.066\" style=\"fill:rgb(14.5%,14.5%,14.5%);fill-opacity:1.0\">r4</text></g><g class=\"toytree-TipLabel\" transform=\"translate(150,210.486)rotate(90)\"><text x=\"15.0\" y=\"3.066\" style=\"fill:rgb(14.5%,14.5%,14.5%);fill-opacity:1.0\">r0</text></g><g class=\"toytree-TipLabel\" transform=\"translate(196.083,210.486)rotate(90)\"><text x=\"15.0\" y=\"3.066\" style=\"fill:rgb(14.5%,14.5%,14.5%);fill-opacity:1.0\">r1</text></g><g class=\"toytree-TipLabel\" transform=\"translate(242.166,210.486)rotate(90)\"><text x=\"15.0\" y=\"3.066\" style=\"fill:rgb(14.5%,14.5%,14.5%);fill-opacity:1.0\">r2</text></g></g></g></g><g class=\"toyplot-coordinates-Axis\" id=\"t1e556a2df40149239d9878448bbebbcd\" transform=\"translate(50.0,250.0)rotate(-90.0)translate(0,-15.0)\"><line x1=\"39.51415508243663\" y1=\"0\" x2=\"193.45741159808497\" y2=\"0\" style=\"\"></line><g><line x1=\"39.51415508243663\" y1=\"0\" x2=\"39.51415508243663\" y2=\"5\" style=\"\"></line><line x1=\"89.44169773616042\" y1=\"0\" x2=\"89.44169773616042\" y2=\"5\" style=\"\"></line><line x1=\"139.3692403898842\" y1=\"0\" x2=\"139.3692403898842\" y2=\"5\" style=\"\"></line><line x1=\"189.296783043608\" y1=\"0\" x2=\"189.296783043608\" y2=\"5\" style=\"\"></line></g><g><g transform=\"translate(39.51415508243663,-6)\"><text x=\"-2.78\" y=\"-4.440892098500626e-16\" style=\"fill:rgb(16.1%,15.3%,14.1%);fill-opacity:1.0;font-family:helvetica;font-size:10.0px;font-weight:normal;stroke:none;vertical-align:baseline;white-space:pre\">0</text></g><g transform=\"translate(89.44169773616042,-6)\"><text x=\"-6.95\" y=\"-4.440892098500626e-16\" style=\"fill:rgb(16.1%,15.3%,14.1%);fill-opacity:1.0;font-family:helvetica;font-size:10.0px;font-weight:normal;stroke:none;vertical-align:baseline;white-space:pre\">0.4</text></g><g transform=\"translate(139.3692403898842,-6)\"><text x=\"-6.95\" y=\"-4.440892098500626e-16\" style=\"fill:rgb(16.1%,15.3%,14.1%);fill-opacity:1.0;font-family:helvetica;font-size:10.0px;font-weight:normal;stroke:none;vertical-align:baseline;white-space:pre\">0.8</text></g><g transform=\"translate(189.296783043608,-6)\"><text x=\"-6.95\" y=\"-4.440892098500626e-16\" style=\"fill:rgb(16.1%,15.3%,14.1%);fill-opacity:1.0;font-family:helvetica;font-size:10.0px;font-weight:normal;stroke:none;vertical-align:baseline;white-space:pre\">1.2</text></g></g><g class=\"toyplot-coordinates-Axis-coordinates\" style=\"visibility:hidden\" transform=\"\"><line x1=\"0\" x2=\"0\" y1=\"3.0\" y2=\"-4.5\" style=\"stroke:rgb(43.9%,50.2%,56.5%);stroke-opacity:1.0;stroke-width:1.0\"></line><text x=\"0\" y=\"6\" style=\"alignment-baseline:hanging;fill:rgb(43.9%,50.2%,56.5%);fill-opacity:1.0;font-size:10px;font-weight:normal;stroke:none;text-anchor:middle\"></text></g></g></g></svg><div class=\"toyplot-behavior\"><script>(function()\n",
       "{\n",
       "var modules={};\n",
       "modules[\"toyplot/canvas/id\"] = \"t44a3d194159944c18ff5b7f80c56b65f\";\n",
       "modules[\"toyplot/canvas\"] = (function(canvas_id)\n",
       "    {\n",
       "        return document.querySelector(\"#\" + canvas_id);\n",
       "    })(modules[\"toyplot/canvas/id\"]);\n",
       "modules[\"toyplot.coordinates.Axis\"] = (\n",
       "        function(canvas)\n",
       "        {\n",
       "            function sign(x)\n",
       "            {\n",
       "                return x < 0 ? -1 : x > 0 ? 1 : 0;\n",
       "            }\n",
       "\n",
       "            function mix(a, b, amount)\n",
       "            {\n",
       "                return ((1.0 - amount) * a) + (amount * b);\n",
       "            }\n",
       "\n",
       "            function log(x, base)\n",
       "            {\n",
       "                return Math.log(Math.abs(x)) / Math.log(base);\n",
       "            }\n",
       "\n",
       "            function in_range(a, x, b)\n",
       "            {\n",
       "                var left = Math.min(a, b);\n",
       "                var right = Math.max(a, b);\n",
       "                return left <= x && x <= right;\n",
       "            }\n",
       "\n",
       "            function inside(range, projection)\n",
       "            {\n",
       "                for(var i = 0; i != projection.length; ++i)\n",
       "                {\n",
       "                    var segment = projection[i];\n",
       "                    if(in_range(segment.range.min, range, segment.range.max))\n",
       "                        return true;\n",
       "                }\n",
       "                return false;\n",
       "            }\n",
       "\n",
       "            function to_domain(range, projection)\n",
       "            {\n",
       "                for(var i = 0; i != projection.length; ++i)\n",
       "                {\n",
       "                    var segment = projection[i];\n",
       "                    if(in_range(segment.range.bounds.min, range, segment.range.bounds.max))\n",
       "                    {\n",
       "                        if(segment.scale == \"linear\")\n",
       "                        {\n",
       "                            var amount = (range - segment.range.min) / (segment.range.max - segment.range.min);\n",
       "                            return mix(segment.domain.min, segment.domain.max, amount)\n",
       "                        }\n",
       "                        else if(segment.scale[0] == \"log\")\n",
       "                        {\n",
       "                            var amount = (range - segment.range.min) / (segment.range.max - segment.range.min);\n",
       "                            var base = segment.scale[1];\n",
       "                            return sign(segment.domain.min) * Math.pow(base, mix(log(segment.domain.min, base), log(segment.domain.max, base), amount));\n",
       "                        }\n",
       "                    }\n",
       "                }\n",
       "            }\n",
       "\n",
       "            var axes = {};\n",
       "\n",
       "            function display_coordinates(e)\n",
       "            {\n",
       "                var current = canvas.createSVGPoint();\n",
       "                current.x = e.clientX;\n",
       "                current.y = e.clientY;\n",
       "\n",
       "                for(var axis_id in axes)\n",
       "                {\n",
       "                    var axis = document.querySelector(\"#\" + axis_id);\n",
       "                    var coordinates = axis.querySelector(\".toyplot-coordinates-Axis-coordinates\");\n",
       "                    if(coordinates)\n",
       "                    {\n",
       "                        var projection = axes[axis_id];\n",
       "                        var local = current.matrixTransform(axis.getScreenCTM().inverse());\n",
       "                        if(inside(local.x, projection))\n",
       "                        {\n",
       "                            var domain = to_domain(local.x, projection);\n",
       "                            coordinates.style.visibility = \"visible\";\n",
       "                            coordinates.setAttribute(\"transform\", \"translate(\" + local.x + \")\");\n",
       "                            var text = coordinates.querySelector(\"text\");\n",
       "                            text.textContent = domain.toFixed(2);\n",
       "                        }\n",
       "                        else\n",
       "                        {\n",
       "                            coordinates.style.visibility= \"hidden\";\n",
       "                        }\n",
       "                    }\n",
       "                }\n",
       "            }\n",
       "\n",
       "            canvas.addEventListener(\"click\", display_coordinates);\n",
       "\n",
       "            var module = {};\n",
       "            module.show_coordinates = function(axis_id, projection)\n",
       "            {\n",
       "                axes[axis_id] = projection;\n",
       "            }\n",
       "\n",
       "            return module;\n",
       "        })(modules[\"toyplot/canvas\"]);\n",
       "(function(axis, axis_id, projection)\n",
       "        {\n",
       "            axis.show_coordinates(axis_id, projection);\n",
       "        })(modules[\"toyplot.coordinates.Axis\"],\"t1e556a2df40149239d9878448bbebbcd\",[{\"domain\": {\"bounds\": {\"max\": Infinity, \"min\": -Infinity}, \"max\": 1.28575, \"min\": -0.31657200000000013}, \"range\": {\"bounds\": {\"max\": Infinity, \"min\": -Infinity}, \"max\": 200.0, \"min\": 0.0}, \"scale\": \"linear\"}]);\n",
       "})();</script></div></div>"
      ]
     },
     "metadata": {},
     "output_type": "display_data"
    }
   ],
   "source": [
    "# manual set rooting position 0.1 height units above clade (r3,r4)\n",
    "utree.root(\"r3\", \"r4\", root_dist=0.1).draw(ts='p');"
   ]
  },
  {
   "cell_type": "code",
   "execution_count": 11,
   "id": "b195dd9d-da83-4700-b841-3211921cfb52",
   "metadata": {},
   "outputs": [
    {
     "data": {
      "text/html": [
       "<div class=\"toyplot\" id=\"ta64b1e904be247c4a425f3418248daf5\" style=\"text-align:center\"><svg class=\"toyplot-canvas-Canvas\" xmlns:toyplot=\"http://www.sandia.gov/toyplot\" xmlns:xlink=\"http://www.w3.org/1999/xlink\" xmlns=\"http://www.w3.org/2000/svg\" width=\"300.0px\" height=\"300.0px\" viewBox=\"0 0 300.0 300.0\" preserveAspectRatio=\"xMidYMid meet\" style=\"background-color:transparent;border-color:#292724;border-style:none;border-width:1.0;fill:rgb(16.1%,15.3%,14.1%);fill-opacity:1.0;font-family:Helvetica;font-size:12px;opacity:1.0;stroke:rgb(16.1%,15.3%,14.1%);stroke-opacity:1.0;stroke-width:1.0\" id=\"t56da7e93ae5c492495fdabe72f62b48a\"><g class=\"toyplot-coordinates-Cartesian\" id=\"t3c635007afa44d30aaa766e9dc488660\"><clipPath id=\"tf9602cdb6a7d4e1b8110a876ec63227b\"><rect x=\"35.0\" y=\"35.0\" width=\"230.0\" height=\"230.0\"></rect></clipPath><g clip-path=\"url(#tf9602cdb6a7d4e1b8110a876ec63227b)\"><g class=\"toytree-mark-Toytree\" id=\"te5e97bf996df4545a20d2a6c5ba99ee1\"><g class=\"toytree-Edges\" style=\"stroke:rgb(14.5%,14.5%,14.5%);stroke-opacity:1.0;stroke-linecap:round;stroke-width:2.0;fill:none\"><path d=\"M 80.9 129.5 L 57.8 210.5\" id=\"5,0\" style=\"\"></path><path d=\"M 80.9 129.5 L 103.9 210.5\" id=\"5,1\" style=\"\"></path><path d=\"M 173.0 105.2 L 150.0 145.7\" id=\"6,2\" style=\"\"></path><path d=\"M 173.0 105.2 L 196.1 145.7\" id=\"6,3\" style=\"\"></path><path d=\"M 207.6 64.6 L 242.2 145.7\" id=\"7,4\" style=\"\"></path><path d=\"M 144.2 56.5 L 80.9 129.5\" id=\"8,5\" style=\"\"></path><path d=\"M 207.6 64.6 L 173.0 105.2\" id=\"7,6\" style=\"\"></path><path d=\"M 144.2 56.5 L 207.6 64.6\" id=\"8,7\" style=\"\"></path></g><g class=\"toytree-AdmixEdges\" style=\"fill:rgb(0.0%,0.0%,0.0%);fill-opacity:0.0;stroke:rgb(90.6%,54.1%,76.5%);stroke-opacity:0.6;font-size:14px;stroke-linecap:round;stroke-width:5\"></g><g class=\"toytree-Nodes\" style=\"fill:rgb(40.0%,76.1%,64.7%);fill-opacity:1.0;stroke:rgb(14.5%,14.5%,14.5%);stroke-opacity:1.0;stroke-width:1.0\"><g id=\"Node-0\" transform=\"translate(57.8341,210.486)\"><circle r=\"7.5\"></circle></g><g id=\"Node-1\" transform=\"translate(103.917,210.486)\"><circle r=\"7.5\"></circle></g><g id=\"Node-2\" transform=\"translate(150,145.668)\"><circle r=\"7.5\"></circle></g><g id=\"Node-3\" transform=\"translate(196.083,145.668)\"><circle r=\"7.5\"></circle></g><g id=\"Node-4\" transform=\"translate(242.166,145.668)\"><circle r=\"7.5\"></circle></g><g id=\"Node-5\" transform=\"translate(80.8756,129.463)\"><circle r=\"7.5\"></circle></g><g id=\"Node-6\" transform=\"translate(173.041,105.156)\"><circle r=\"7.5\"></circle></g><g id=\"Node-7\" transform=\"translate(207.604,64.6449)\"><circle r=\"7.5\"></circle></g><g id=\"Node-8\" transform=\"translate(144.24,56.5426)\"><circle r=\"7.5\"></circle></g></g><g class=\"toytree-NodeLabels\" style=\"font-family:Helvetica;font-size:9px;font-weight:300;vertical-align:baseline;white-space:pre;stroke:none\"><g class=\"toytree-NodeLabel\" transform=\"translate(57.8341,210.486)\"><text x=\"-2.5020000000000002\" y=\"2.2995\" style=\"fill:rgb(14.5%,14.5%,14.5%);fill-opacity:1.0\">0</text></g><g class=\"toytree-NodeLabel\" transform=\"translate(103.917,210.486)\"><text x=\"-2.5020000000000002\" y=\"2.2995\" style=\"fill:rgb(14.5%,14.5%,14.5%);fill-opacity:1.0\">1</text></g><g class=\"toytree-NodeLabel\" transform=\"translate(150,145.668)\"><text x=\"-2.5020000000000002\" y=\"2.2995\" style=\"fill:rgb(14.5%,14.5%,14.5%);fill-opacity:1.0\">2</text></g><g class=\"toytree-NodeLabel\" transform=\"translate(196.083,145.668)\"><text x=\"-2.5020000000000002\" y=\"2.2995\" style=\"fill:rgb(14.5%,14.5%,14.5%);fill-opacity:1.0\">3</text></g><g class=\"toytree-NodeLabel\" transform=\"translate(242.166,145.668)\"><text x=\"-2.5020000000000002\" y=\"2.2995\" style=\"fill:rgb(14.5%,14.5%,14.5%);fill-opacity:1.0\">4</text></g><g class=\"toytree-NodeLabel\" transform=\"translate(80.8756,129.463)\"><text x=\"-2.5020000000000002\" y=\"2.2995\" style=\"fill:rgb(14.5%,14.5%,14.5%);fill-opacity:1.0\">5</text></g><g class=\"toytree-NodeLabel\" transform=\"translate(173.041,105.156)\"><text x=\"-2.5020000000000002\" y=\"2.2995\" style=\"fill:rgb(14.5%,14.5%,14.5%);fill-opacity:1.0\">6</text></g><g class=\"toytree-NodeLabel\" transform=\"translate(207.604,64.6449)\"><text x=\"-2.5020000000000002\" y=\"2.2995\" style=\"fill:rgb(14.5%,14.5%,14.5%);fill-opacity:1.0\">7</text></g><g class=\"toytree-NodeLabel\" transform=\"translate(144.24,56.5426)\"><text x=\"-2.5020000000000002\" y=\"2.2995\" style=\"fill:rgb(14.5%,14.5%,14.5%);fill-opacity:1.0\">8</text></g></g><g class=\"toytree-TipLabels\" style=\"fill:rgb(14.5%,14.5%,14.5%);fill-opacity:1.0;font-family:Helvetica;font-size:12px;font-weight:300;vertical-align:baseline;white-space:pre;stroke:none\"><g class=\"toytree-TipLabel\" transform=\"translate(57.8341,210.486)rotate(90)\"><text x=\"15.0\" y=\"3.066\" style=\"fill:rgb(14.5%,14.5%,14.5%);fill-opacity:1.0\">r3</text></g><g class=\"toytree-TipLabel\" transform=\"translate(103.917,210.486)rotate(90)\"><text x=\"15.0\" y=\"3.066\" style=\"fill:rgb(14.5%,14.5%,14.5%);fill-opacity:1.0\">r4</text></g><g class=\"toytree-TipLabel\" transform=\"translate(150,145.668)rotate(90)\"><text x=\"15.0\" y=\"3.066\" style=\"fill:rgb(14.5%,14.5%,14.5%);fill-opacity:1.0\">r0</text></g><g class=\"toytree-TipLabel\" transform=\"translate(196.083,145.668)rotate(90)\"><text x=\"15.0\" y=\"3.066\" style=\"fill:rgb(14.5%,14.5%,14.5%);fill-opacity:1.0\">r1</text></g><g class=\"toytree-TipLabel\" transform=\"translate(242.166,145.668)rotate(90)\"><text x=\"15.0\" y=\"3.066\" style=\"fill:rgb(14.5%,14.5%,14.5%);fill-opacity:1.0\">r2</text></g></g></g></g><g class=\"toyplot-coordinates-Axis\" id=\"t282f4d36a4da454dac63bedd4fc5a7fe\" transform=\"translate(50.0,250.0)rotate(-90.0)translate(0,-15.0)\"><line x1=\"39.514155082436616\" y1=\"0\" x2=\"193.45741159808495\" y2=\"0\" style=\"\"></line><g><line x1=\"39.514155082436616\" y1=\"0\" x2=\"39.514155082436616\" y2=\"5\" style=\"\"></line><line x1=\"88.12781503474663\" y1=\"0\" x2=\"88.12781503474663\" y2=\"5\" style=\"\"></line><line x1=\"136.74147498705662\" y1=\"0\" x2=\"136.74147498705662\" y2=\"5\" style=\"\"></line><line x1=\"185.35513493936665\" y1=\"0\" x2=\"185.35513493936665\" y2=\"5\" style=\"\"></line></g><g><g transform=\"translate(39.514155082436616,-6)\"><text x=\"-2.78\" y=\"-4.440892098500626e-16\" style=\"fill:rgb(16.1%,15.3%,14.1%);fill-opacity:1.0;font-family:helvetica;font-size:10.0px;font-weight:normal;stroke:none;vertical-align:baseline;white-space:pre\">0</text></g><g transform=\"translate(88.12781503474663,-6)\"><text x=\"-6.95\" y=\"-4.440892098500626e-16\" style=\"fill:rgb(16.1%,15.3%,14.1%);fill-opacity:1.0;font-family:helvetica;font-size:10.0px;font-weight:normal;stroke:none;vertical-align:baseline;white-space:pre\">0.4</text></g><g transform=\"translate(136.74147498705662,-6)\"><text x=\"-6.95\" y=\"-4.440892098500626e-16\" style=\"fill:rgb(16.1%,15.3%,14.1%);fill-opacity:1.0;font-family:helvetica;font-size:10.0px;font-weight:normal;stroke:none;vertical-align:baseline;white-space:pre\">0.8</text></g><g transform=\"translate(185.35513493936665,-6)\"><text x=\"-6.95\" y=\"-4.440892098500626e-16\" style=\"fill:rgb(16.1%,15.3%,14.1%);fill-opacity:1.0;font-family:helvetica;font-size:10.0px;font-weight:normal;stroke:none;vertical-align:baseline;white-space:pre\">1.2</text></g></g><g class=\"toyplot-coordinates-Axis-coordinates\" style=\"visibility:hidden\" transform=\"\"><line x1=\"0\" x2=\"0\" y1=\"3.0\" y2=\"-4.5\" style=\"stroke:rgb(43.9%,50.2%,56.5%);stroke-opacity:1.0;stroke-width:1.0\"></line><text x=\"0\" y=\"6\" style=\"alignment-baseline:hanging;fill:rgb(43.9%,50.2%,56.5%);fill-opacity:1.0;font-size:10px;font-weight:normal;stroke:none;text-anchor:middle\"></text></g></g></g></svg><div class=\"toyplot-behavior\"><script>(function()\n",
       "{\n",
       "var modules={};\n",
       "modules[\"toyplot/canvas/id\"] = \"t56da7e93ae5c492495fdabe72f62b48a\";\n",
       "modules[\"toyplot/canvas\"] = (function(canvas_id)\n",
       "    {\n",
       "        return document.querySelector(\"#\" + canvas_id);\n",
       "    })(modules[\"toyplot/canvas/id\"]);\n",
       "modules[\"toyplot.coordinates.Axis\"] = (\n",
       "        function(canvas)\n",
       "        {\n",
       "            function sign(x)\n",
       "            {\n",
       "                return x < 0 ? -1 : x > 0 ? 1 : 0;\n",
       "            }\n",
       "\n",
       "            function mix(a, b, amount)\n",
       "            {\n",
       "                return ((1.0 - amount) * a) + (amount * b);\n",
       "            }\n",
       "\n",
       "            function log(x, base)\n",
       "            {\n",
       "                return Math.log(Math.abs(x)) / Math.log(base);\n",
       "            }\n",
       "\n",
       "            function in_range(a, x, b)\n",
       "            {\n",
       "                var left = Math.min(a, b);\n",
       "                var right = Math.max(a, b);\n",
       "                return left <= x && x <= right;\n",
       "            }\n",
       "\n",
       "            function inside(range, projection)\n",
       "            {\n",
       "                for(var i = 0; i != projection.length; ++i)\n",
       "                {\n",
       "                    var segment = projection[i];\n",
       "                    if(in_range(segment.range.min, range, segment.range.max))\n",
       "                        return true;\n",
       "                }\n",
       "                return false;\n",
       "            }\n",
       "\n",
       "            function to_domain(range, projection)\n",
       "            {\n",
       "                for(var i = 0; i != projection.length; ++i)\n",
       "                {\n",
       "                    var segment = projection[i];\n",
       "                    if(in_range(segment.range.bounds.min, range, segment.range.bounds.max))\n",
       "                    {\n",
       "                        if(segment.scale == \"linear\")\n",
       "                        {\n",
       "                            var amount = (range - segment.range.min) / (segment.range.max - segment.range.min);\n",
       "                            return mix(segment.domain.min, segment.domain.max, amount)\n",
       "                        }\n",
       "                        else if(segment.scale[0] == \"log\")\n",
       "                        {\n",
       "                            var amount = (range - segment.range.min) / (segment.range.max - segment.range.min);\n",
       "                            var base = segment.scale[1];\n",
       "                            return sign(segment.domain.min) * Math.pow(base, mix(log(segment.domain.min, base), log(segment.domain.max, base), amount));\n",
       "                        }\n",
       "                    }\n",
       "                }\n",
       "            }\n",
       "\n",
       "            var axes = {};\n",
       "\n",
       "            function display_coordinates(e)\n",
       "            {\n",
       "                var current = canvas.createSVGPoint();\n",
       "                current.x = e.clientX;\n",
       "                current.y = e.clientY;\n",
       "\n",
       "                for(var axis_id in axes)\n",
       "                {\n",
       "                    var axis = document.querySelector(\"#\" + axis_id);\n",
       "                    var coordinates = axis.querySelector(\".toyplot-coordinates-Axis-coordinates\");\n",
       "                    if(coordinates)\n",
       "                    {\n",
       "                        var projection = axes[axis_id];\n",
       "                        var local = current.matrixTransform(axis.getScreenCTM().inverse());\n",
       "                        if(inside(local.x, projection))\n",
       "                        {\n",
       "                            var domain = to_domain(local.x, projection);\n",
       "                            coordinates.style.visibility = \"visible\";\n",
       "                            coordinates.setAttribute(\"transform\", \"translate(\" + local.x + \")\");\n",
       "                            var text = coordinates.querySelector(\"text\");\n",
       "                            text.textContent = domain.toFixed(2);\n",
       "                        }\n",
       "                        else\n",
       "                        {\n",
       "                            coordinates.style.visibility= \"hidden\";\n",
       "                        }\n",
       "                    }\n",
       "                }\n",
       "            }\n",
       "\n",
       "            canvas.addEventListener(\"click\", display_coordinates);\n",
       "\n",
       "            var module = {};\n",
       "            module.show_coordinates = function(axis_id, projection)\n",
       "            {\n",
       "                axes[axis_id] = projection;\n",
       "            }\n",
       "\n",
       "            return module;\n",
       "        })(modules[\"toyplot/canvas\"]);\n",
       "(function(axis, axis_id, projection)\n",
       "        {\n",
       "            axis.show_coordinates(axis_id, projection);\n",
       "        })(modules[\"toyplot.coordinates.Axis\"],\"t282f4d36a4da454dac63bedd4fc5a7fe\",[{\"domain\": {\"bounds\": {\"max\": Infinity, \"min\": -Infinity}, \"max\": 1.3205, \"min\": -0.3251280000000001}, \"range\": {\"bounds\": {\"max\": Infinity, \"min\": -Infinity}, \"max\": 200.0, \"min\": 0.0}, \"scale\": \"linear\"}]);\n",
       "})();</script></div></div>"
      ]
     },
     "metadata": {},
     "output_type": "display_data"
    }
   ],
   "source": [
    "# manual set rooting position 0.6 height units above clade (r3,r4)\n",
    "utree.root(\"r3\", \"r4\", root_dist=0.6).draw(ts='p');"
   ]
  },
  {
   "cell_type": "markdown",
   "id": "06390091-ba3c-4e1f-aa5b-af7e33f50d87",
   "metadata": {},
   "source": [
    "## Inferring the root\n",
    "It is always best practice to include an outgroup in phylogenetic analyses, but in some cases the outgroup may be unknown or unavailable. In such cases it can be useful to apply methods for inferring the most likely root state based on edge length information. The best method for this currently implemented in `toytree` is using the minimal ancestor deviation score. \n",
    "\n",
    "The `root_on_minimal_ancestor_deviation` function in `toytree` calculates the MAD score and the root probabilities for each edge in the tree. By default these scores are stored as edge features on the returned tree. In addition, global score info can be returned by using `return_stats=True` argument. This includes the `minimal_ancestor_deviation` score for the rooting edge (lower is better); the `root_ambiguity_index` (whether another edge is as good as the selected one. Lower is better); and the `root_clock_coefficient_of_variation` (how variable rates are, i.e., how non-ultrametric the tree is.) This is demonstrated below for an example where the rooted tree is ultrametric, and a case where it is very much not."
   ]
  },
  {
   "attachments": {},
   "cell_type": "markdown",
   "id": "348d4896-5002-4260-8791-f9b2fe3ee848",
   "metadata": {},
   "source": [
    "#### MAD statistics\n",
    "In this tree (shown in examples above) the values of each statistic are very low."
   ]
  },
  {
   "cell_type": "code",
   "execution_count": 12,
   "id": "1a529c39-4873-453c-8f7c-5eba120a5396",
   "metadata": {},
   "outputs": [
    {
     "data": {
      "text/plain": [
       "{'minimal_ancestor_deviation': 0.0,\n",
       " 'root_ambiguity_index': 0.0,\n",
       " 'root_clock_coefficient_of_variation': 1.922962686383564e-14}"
      ]
     },
     "execution_count": 12,
     "metadata": {},
     "output_type": "execute_result"
    }
   ],
   "source": [
    "tree, stats = tree.mod.root_on_minimal_ancestor_deviation(return_stats=True)\n",
    "stats"
   ]
  },
  {
   "cell_type": "markdown",
   "id": "81222d7c-13a5-4a02-a254-c1c096833d77",
   "metadata": {},
   "source": [
    "Whereas in this example non-ultrametric tree the MAD, ambiguity, and clock variation are all very high."
   ]
  },
  {
   "cell_type": "code",
   "execution_count": 13,
   "id": "afbe3d8c-f5b7-4e32-91db-9fecd9edc9b6",
   "metadata": {},
   "outputs": [
    {
     "data": {
      "text/plain": [
       "{'minimal_ancestor_deviation': 0.19333523444378065,\n",
       " 'root_ambiguity_index': 0.9783776829860145,\n",
       " 'root_clock_coefficient_of_variation': 21.521660778220504}"
      ]
     },
     "execution_count": 13,
     "metadata": {},
     "output_type": "execute_result"
    },
    {
     "data": {
      "text/html": [
       "<div class=\"toyplot\" id=\"te407642bc7c74dce869c8de69b4e72cc\" style=\"text-align:center\"><svg class=\"toyplot-canvas-Canvas\" xmlns:toyplot=\"http://www.sandia.gov/toyplot\" xmlns:xlink=\"http://www.w3.org/1999/xlink\" xmlns=\"http://www.w3.org/2000/svg\" width=\"300.0px\" height=\"300.0px\" viewBox=\"0 0 300.0 300.0\" preserveAspectRatio=\"xMidYMid meet\" style=\"background-color:transparent;border-color:#292724;border-style:none;border-width:1.0;fill:rgb(16.1%,15.3%,14.1%);fill-opacity:1.0;font-family:Helvetica;font-size:12px;opacity:1.0;stroke:rgb(16.1%,15.3%,14.1%);stroke-opacity:1.0;stroke-width:1.0\" id=\"t469213928f8f4d43b092cd548651d73b\"><g class=\"toyplot-coordinates-Cartesian\" id=\"t7b99c13c82a641c8acfaeca715037da2\"><clipPath id=\"t8c1bd14385574ff8a16f7ae0658b062c\"><rect x=\"35.0\" y=\"35.0\" width=\"230.0\" height=\"230.0\"></rect></clipPath><g clip-path=\"url(#t8c1bd14385574ff8a16f7ae0658b062c)\"><g class=\"toytree-mark-Toytree\" id=\"t5f84cb73d74d481faec8c0ee86bf93be\"><g class=\"toytree-Edges\" style=\"stroke:rgb(14.5%,14.5%,14.5%);stroke-opacity:1.0;stroke-linecap:round;stroke-width:2.0;fill:none\"><path d=\"M 67.1 177.6 L 56.7 177.6 L 56.7 209.3\" id=\"10,0\" style=\"\"></path><path d=\"M 67.1 177.6 L 77.4 177.6 L 77.4 209.3\" id=\"10,1\" style=\"\"></path><path d=\"M 82.6 145.9 L 98.2 145.9 L 98.2 177.6\" id=\"11,2\" style=\"\"></path><path d=\"M 129.3 145.9 L 118.9 145.9 L 118.9 177.6\" id=\"12,3\" style=\"\"></path><path d=\"M 129.3 145.9 L 139.6 145.9 L 139.6 177.6\" id=\"12,4\" style=\"\"></path><path d=\"M 170.7 114.2 L 160.4 114.2 L 160.4 145.9\" id=\"14,5\" style=\"\"></path><path d=\"M 170.7 114.2 L 181.1 114.2 L 181.1 145.9\" id=\"14,6\" style=\"\"></path><path d=\"M 212.2 114.2 L 201.8 114.2 L 201.8 145.9\" id=\"16,7\" style=\"\"></path><path d=\"M 212.2 114.2 L 222.6 114.2 L 222.6 145.9\" id=\"16,8\" style=\"\"></path><path d=\"M 227.7 82.5 L 243.3 82.5 L 243.3 114.2\" id=\"17,9\" style=\"\"></path><path d=\"M 82.6 145.9 L 67.1 145.9 L 67.1 177.6\" id=\"11,10\" style=\"\"></path><path d=\"M 105.9 114.2 L 82.6 114.2 L 82.6 145.9\" id=\"13,11\" style=\"\"></path><path d=\"M 105.9 114.2 L 129.3 114.2 L 129.3 145.9\" id=\"13,12\" style=\"\"></path><path d=\"M 138.3 82.5 L 105.9 82.5 L 105.9 114.2\" id=\"15,13\" style=\"\"></path><path d=\"M 138.3 82.5 L 170.7 82.5 L 170.7 114.2\" id=\"15,14\" style=\"\"></path><path d=\"M 183.0 50.8 L 138.3 50.8 L 138.3 82.5\" id=\"18,15\" style=\"\"></path><path d=\"M 227.7 82.5 L 212.2 82.5 L 212.2 114.2\" id=\"17,16\" style=\"\"></path><path d=\"M 183.0 50.8 L 227.7 50.8 L 227.7 82.5\" id=\"18,17\" style=\"\"></path></g><g class=\"toytree-AdmixEdges\" style=\"fill:rgb(0.0%,0.0%,0.0%);fill-opacity:0.0;stroke:rgb(90.6%,54.1%,76.5%);stroke-opacity:0.6;font-size:14px;stroke-linecap:round;stroke-width:5\"></g><g class=\"toytree-Nodes\" style=\"fill:rgb(40.0%,76.1%,64.7%);fill-opacity:1.0;stroke:rgb(14.9%,14.9%,14.9%);stroke-opacity:1.0;stroke-width:1.5\"></g><g class=\"toytree-TipLabels\" style=\"fill:rgb(14.5%,14.5%,14.5%);fill-opacity:1.0;font-family:Helvetica;font-size:12px;font-weight:300;vertical-align:baseline;white-space:pre;stroke:none\"><g class=\"toytree-TipLabel\" transform=\"translate(56.7164,209.311)rotate(90)\"><text x=\"15.0\" y=\"3.066\" style=\"fill:rgb(14.5%,14.5%,14.5%);fill-opacity:1.0\">r0</text></g><g class=\"toytree-TipLabel\" transform=\"translate(77.4461,209.311)rotate(90)\"><text x=\"15.0\" y=\"3.066\" style=\"fill:rgb(14.5%,14.5%,14.5%);fill-opacity:1.0\">r1</text></g><g class=\"toytree-TipLabel\" transform=\"translate(98.1758,177.608)rotate(90)\"><text x=\"15.0\" y=\"3.066\" style=\"fill:rgb(14.5%,14.5%,14.5%);fill-opacity:1.0\">r2</text></g><g class=\"toytree-TipLabel\" transform=\"translate(118.905,177.608)rotate(90)\"><text x=\"15.0\" y=\"3.066\" style=\"fill:rgb(14.5%,14.5%,14.5%);fill-opacity:1.0\">r3</text></g><g class=\"toytree-TipLabel\" transform=\"translate(139.635,177.608)rotate(90)\"><text x=\"15.0\" y=\"3.066\" style=\"fill:rgb(14.5%,14.5%,14.5%);fill-opacity:1.0\">r4</text></g><g class=\"toytree-TipLabel\" transform=\"translate(160.365,145.904)rotate(90)\"><text x=\"15.0\" y=\"3.066\" style=\"fill:rgb(14.5%,14.5%,14.5%);fill-opacity:1.0\">r5</text></g><g class=\"toytree-TipLabel\" transform=\"translate(181.095,145.904)rotate(90)\"><text x=\"15.0\" y=\"3.066\" style=\"fill:rgb(14.5%,14.5%,14.5%);fill-opacity:1.0\">r6</text></g><g class=\"toytree-TipLabel\" transform=\"translate(201.824,145.904)rotate(90)\"><text x=\"15.0\" y=\"3.066\" style=\"fill:rgb(14.5%,14.5%,14.5%);fill-opacity:1.0\">r7</text></g><g class=\"toytree-TipLabel\" transform=\"translate(222.554,145.904)rotate(90)\"><text x=\"15.0\" y=\"3.066\" style=\"fill:rgb(14.5%,14.5%,14.5%);fill-opacity:1.0\">r8</text></g><g class=\"toytree-TipLabel\" transform=\"translate(243.284,114.2)rotate(90)\"><text x=\"15.0\" y=\"3.066\" style=\"fill:rgb(14.5%,14.5%,14.5%);fill-opacity:1.0\">r9</text></g></g></g></g></g></svg><div class=\"toyplot-behavior\"><script>(function()\n",
       "{\n",
       "var modules={};\n",
       "})();</script></div></div>"
      ]
     },
     "metadata": {},
     "output_type": "display_data"
    }
   ],
   "source": [
    "# create a non-ultrametric tree and draw it\n",
    "non_ultrametric_tree = toytree.rtree.rtree(10)\n",
    "non_ultrametric_tree.draw(layout='d');\n",
    "\n",
    "# calculate and return the global MAD stats\n",
    "_, stats = non_ultrametric_tree.mod.root_on_minimal_ancestor_deviation(return_stats=True)\n",
    "stats"
   ]
  },
  {
   "attachments": {},
   "cell_type": "markdown",
   "id": "799778d9-0a51-4c5e-820f-f597eb328a0e",
   "metadata": {},
   "source": [
    "#### Compare MAD rootings\n",
    "\n",
    "One of the real strengths of the MAD approach is that it not only finds the best edge on which to root a tree, but it also reports scores for all alternative rootings, and how much better one is than another. This is returned for each edge on the tree as a \"MAD\" and \"MAD_root_prob\" score. For example, in the tree below, the MAD score for the correct root position is 0.0, indicating that the tree is perfectly ultrametric when rooted at this position. The MAD rooting function correctly infers that this is the best root position, and assigns it as the root. The MAD_root_prob for this edge is 0.20 (the same probability is assigned to nodes 5 and 7, since they share edge on which the root node is placed. As we saw above, the global `root_ambiguity_index' for this rooting was 0.0, meaning that the 0.201 probability for this placement is significantly better than the 0.15 root probability for the next highest scoring edge."
   ]
  },
  {
   "cell_type": "code",
   "execution_count": 14,
   "id": "2dcb958a-73cf-4731-9bd1-72a35a9ebaf7",
   "metadata": {},
   "outputs": [
    {
     "data": {
      "text/html": [
       "<div>\n",
       "<style scoped>\n",
       "    .dataframe tbody tr th:only-of-type {\n",
       "        vertical-align: middle;\n",
       "    }\n",
       "\n",
       "    .dataframe tbody tr th {\n",
       "        vertical-align: top;\n",
       "    }\n",
       "\n",
       "    .dataframe thead th {\n",
       "        text-align: right;\n",
       "    }\n",
       "</style>\n",
       "<table border=\"1\" class=\"dataframe\">\n",
       "  <thead>\n",
       "    <tr style=\"text-align: right;\">\n",
       "      <th></th>\n",
       "      <th>idx</th>\n",
       "      <th>name</th>\n",
       "      <th>height</th>\n",
       "      <th>dist</th>\n",
       "      <th>support</th>\n",
       "      <th>MAD</th>\n",
       "      <th>MAD_root_prob</th>\n",
       "    </tr>\n",
       "  </thead>\n",
       "  <tbody>\n",
       "    <tr>\n",
       "      <th>0</th>\n",
       "      <td>0</td>\n",
       "      <td>r0</td>\n",
       "      <td>0.000000e+00</td>\n",
       "      <td>0.333333</td>\n",
       "      <td>NaN</td>\n",
       "      <td>0.500000</td>\n",
       "      <td>0.10066</td>\n",
       "    </tr>\n",
       "    <tr>\n",
       "      <th>1</th>\n",
       "      <td>1</td>\n",
       "      <td>r1</td>\n",
       "      <td>0.000000e+00</td>\n",
       "      <td>0.333333</td>\n",
       "      <td>NaN</td>\n",
       "      <td>0.500000</td>\n",
       "      <td>0.10066</td>\n",
       "    </tr>\n",
       "    <tr>\n",
       "      <th>2</th>\n",
       "      <td>2</td>\n",
       "      <td>r2</td>\n",
       "      <td>0.000000e+00</td>\n",
       "      <td>0.666667</td>\n",
       "      <td>NaN</td>\n",
       "      <td>0.258199</td>\n",
       "      <td>0.14934</td>\n",
       "    </tr>\n",
       "    <tr>\n",
       "      <th>3</th>\n",
       "      <td>3</td>\n",
       "      <td>r3</td>\n",
       "      <td>2.220446e-16</td>\n",
       "      <td>0.666667</td>\n",
       "      <td>NaN</td>\n",
       "      <td>0.258199</td>\n",
       "      <td>0.14934</td>\n",
       "    </tr>\n",
       "    <tr>\n",
       "      <th>4</th>\n",
       "      <td>4</td>\n",
       "      <td>r4</td>\n",
       "      <td>2.220446e-16</td>\n",
       "      <td>0.666667</td>\n",
       "      <td>NaN</td>\n",
       "      <td>0.258199</td>\n",
       "      <td>0.14934</td>\n",
       "    </tr>\n",
       "    <tr>\n",
       "      <th>5</th>\n",
       "      <td>5</td>\n",
       "      <td></td>\n",
       "      <td>3.333333e-01</td>\n",
       "      <td>0.333333</td>\n",
       "      <td>NaN</td>\n",
       "      <td>0.258199</td>\n",
       "      <td>0.14934</td>\n",
       "    </tr>\n",
       "    <tr>\n",
       "      <th>6</th>\n",
       "      <td>6</td>\n",
       "      <td></td>\n",
       "      <td>6.666667e-01</td>\n",
       "      <td>0.333333</td>\n",
       "      <td>NaN</td>\n",
       "      <td>0.000000</td>\n",
       "      <td>0.20132</td>\n",
       "    </tr>\n",
       "    <tr>\n",
       "      <th>7</th>\n",
       "      <td>7</td>\n",
       "      <td></td>\n",
       "      <td>6.666667e-01</td>\n",
       "      <td>0.333333</td>\n",
       "      <td>NaN</td>\n",
       "      <td>0.000000</td>\n",
       "      <td>0.20132</td>\n",
       "    </tr>\n",
       "    <tr>\n",
       "      <th>8</th>\n",
       "      <td>8</td>\n",
       "      <td>root</td>\n",
       "      <td>1.000000e+00</td>\n",
       "      <td>0.000000</td>\n",
       "      <td>NaN</td>\n",
       "      <td>NaN</td>\n",
       "      <td>NaN</td>\n",
       "    </tr>\n",
       "  </tbody>\n",
       "</table>\n",
       "</div>"
      ],
      "text/plain": [
       "   idx  name        height      dist  support       MAD  MAD_root_prob\n",
       "0    0    r0  0.000000e+00  0.333333      NaN  0.500000        0.10066\n",
       "1    1    r1  0.000000e+00  0.333333      NaN  0.500000        0.10066\n",
       "2    2    r2  0.000000e+00  0.666667      NaN  0.258199        0.14934\n",
       "3    3    r3  2.220446e-16  0.666667      NaN  0.258199        0.14934\n",
       "4    4    r4  2.220446e-16  0.666667      NaN  0.258199        0.14934\n",
       "5    5        3.333333e-01  0.333333      NaN  0.258199        0.14934\n",
       "6    6        6.666667e-01  0.333333      NaN  0.000000        0.20132\n",
       "7    7        6.666667e-01  0.333333      NaN  0.000000        0.20132\n",
       "8    8  root  1.000000e+00  0.000000      NaN       NaN            NaN"
      ]
     },
     "execution_count": 14,
     "metadata": {},
     "output_type": "execute_result"
    }
   ],
   "source": [
    "# get a rooted tree with MAD scores stored as features\n",
    "mad_tree = tree.mod.root_on_minimal_ancestor_deviation()\n",
    "mad_tree.get_node_data()"
   ]
  },
  {
   "cell_type": "markdown",
   "id": "01254213-f111-4ec8-87e3-b918ff503a0d",
   "metadata": {},
   "source": [
    "Finally, we could plot the MAD or MAD_root_prob scores on the edges of a tree easily, since they are stored as features to the returned rooted tree. "
   ]
  },
  {
   "cell_type": "code",
   "execution_count": 15,
   "id": "e6787749-193d-4bd9-b281-aebf5c4dedf5",
   "metadata": {},
   "outputs": [
    {
     "data": {
      "text/html": [
       "<div class=\"toyplot\" id=\"t23dc7b91be0a4571bf8394c8e45892c9\" style=\"text-align:center\"><svg class=\"toyplot-canvas-Canvas\" xmlns:toyplot=\"http://www.sandia.gov/toyplot\" xmlns:xlink=\"http://www.w3.org/1999/xlink\" xmlns=\"http://www.w3.org/2000/svg\" width=\"450.0px\" height=\"300.0px\" viewBox=\"0 0 450.0 300.0\" preserveAspectRatio=\"xMidYMid meet\" style=\"background-color:transparent;border-color:#292724;border-style:none;border-width:1.0;fill:rgb(16.1%,15.3%,14.1%);fill-opacity:1.0;font-family:Helvetica;font-size:12px;opacity:1.0;stroke:rgb(16.1%,15.3%,14.1%);stroke-opacity:1.0;stroke-width:1.0\" id=\"t4d641c828be74760b9f11ea049cbe2da\"><g class=\"toyplot-coordinates-Cartesian\" id=\"tca595520fafd406e8d37a0803a8a3a6b\"><clipPath id=\"t8413dc4cc7984fd8bff9a5de79229185\"><rect x=\"35.0\" y=\"35.0\" width=\"380.0\" height=\"230.0\"></rect></clipPath><g clip-path=\"url(#t8413dc4cc7984fd8bff9a5de79229185)\"><g class=\"toytree-mark-Toytree\" id=\"t80708f363b2b4aef86c6c2f6c04c91b9\"><g class=\"toytree-Edges\" style=\"stroke:rgb(14.5%,14.5%,14.5%);stroke-opacity:1.0;stroke-linecap:round;stroke-width:2.0;fill:none\"><path d=\"M 99.8 159.2 L 58.1 210.5\" id=\"5,0\" style=\"\"></path><path d=\"M 99.8 159.2 L 141.6 210.5\" id=\"5,1\" style=\"\"></path><path d=\"M 162.4 107.9 L 225.0 210.5\" id=\"6,2\" style=\"\"></path><path d=\"M 350.2 107.9 L 308.4 210.5\" id=\"7,3\" style=\"\"></path><path d=\"M 350.2 107.9 L 391.9 210.5\" id=\"7,4\" style=\"\"></path><path d=\"M 162.4 107.9 L 99.8 159.2\" id=\"6,5\" style=\"\"></path><path d=\"M 256.3 56.5 L 162.4 107.9\" id=\"8,6\" style=\"\"></path><path d=\"M 256.3 56.5 L 350.2 107.9\" id=\"8,7\" style=\"\"></path></g><g class=\"toytree-AdmixEdges\" style=\"fill:rgb(0.0%,0.0%,0.0%);fill-opacity:0.0;stroke:rgb(90.6%,54.1%,76.5%);stroke-opacity:0.6;font-size:14px;stroke-linecap:round;stroke-width:5\"></g><g class=\"toytree-Nodes\" style=\"fill:rgb(40.0%,76.1%,64.7%);fill-opacity:1.0;stroke:rgb(14.5%,14.5%,14.5%);stroke-opacity:1.0;stroke-width:1.0\"><g id=\"Node-0\" transform=\"translate(58.1063,210.486)\"><circle r=\"7.5\"></circle></g><g id=\"Node-1\" transform=\"translate(141.553,210.486)\"><circle r=\"7.5\"></circle></g><g id=\"Node-2\" transform=\"translate(225,210.486)\"><circle r=\"7.5\"></circle></g><g id=\"Node-3\" transform=\"translate(308.447,210.486)\"><circle r=\"7.5\"></circle></g><g id=\"Node-4\" transform=\"translate(391.894,210.486)\"><circle r=\"7.5\"></circle></g><g id=\"Node-5\" transform=\"translate(99.8297,159.171)\"><circle r=\"7.5\"></circle></g><g id=\"Node-6\" transform=\"translate(162.415,107.857)\"><circle r=\"7.5\"></circle></g><g id=\"Node-7\" transform=\"translate(350.17,107.857)\"><circle r=\"7.5\"></circle></g><g id=\"Node-8\" transform=\"translate(256.293,56.5426)\"><circle r=\"7.5\"></circle></g></g><g class=\"toytree-NodeLabels\" style=\"font-family:Helvetica;font-size:9px;font-weight:300;vertical-align:baseline;white-space:pre;stroke:none\"><g class=\"toytree-NodeLabel\" transform=\"translate(58.1063,210.486)\"><text x=\"-2.5020000000000002\" y=\"2.2995\" style=\"fill:rgb(14.5%,14.5%,14.5%);fill-opacity:1.0\">0</text></g><g class=\"toytree-NodeLabel\" transform=\"translate(141.553,210.486)\"><text x=\"-2.5020000000000002\" y=\"2.2995\" style=\"fill:rgb(14.5%,14.5%,14.5%);fill-opacity:1.0\">1</text></g><g class=\"toytree-NodeLabel\" transform=\"translate(225,210.486)\"><text x=\"-2.5020000000000002\" y=\"2.2995\" style=\"fill:rgb(14.5%,14.5%,14.5%);fill-opacity:1.0\">2</text></g><g class=\"toytree-NodeLabel\" transform=\"translate(308.447,210.486)\"><text x=\"-2.5020000000000002\" y=\"2.2995\" style=\"fill:rgb(14.5%,14.5%,14.5%);fill-opacity:1.0\">3</text></g><g class=\"toytree-NodeLabel\" transform=\"translate(391.894,210.486)\"><text x=\"-2.5020000000000002\" y=\"2.2995\" style=\"fill:rgb(14.5%,14.5%,14.5%);fill-opacity:1.0\">4</text></g><g class=\"toytree-NodeLabel\" transform=\"translate(99.8297,159.171)\"><text x=\"-2.5020000000000002\" y=\"2.2995\" style=\"fill:rgb(14.5%,14.5%,14.5%);fill-opacity:1.0\">5</text></g><g class=\"toytree-NodeLabel\" transform=\"translate(162.415,107.857)\"><text x=\"-2.5020000000000002\" y=\"2.2995\" style=\"fill:rgb(14.5%,14.5%,14.5%);fill-opacity:1.0\">6</text></g><g class=\"toytree-NodeLabel\" transform=\"translate(350.17,107.857)\"><text x=\"-2.5020000000000002\" y=\"2.2995\" style=\"fill:rgb(14.5%,14.5%,14.5%);fill-opacity:1.0\">7</text></g><g class=\"toytree-NodeLabel\" transform=\"translate(256.293,56.5426)\"><text x=\"-2.5020000000000002\" y=\"2.2995\" style=\"fill:rgb(14.5%,14.5%,14.5%);fill-opacity:1.0\">8</text></g></g><g class=\"toytree-TipLabels\" style=\"fill:rgb(14.5%,14.5%,14.5%);fill-opacity:1.0;font-family:Helvetica;font-size:12px;font-weight:300;vertical-align:baseline;white-space:pre;stroke:none\"><g class=\"toytree-TipLabel\" transform=\"translate(58.1063,210.486)rotate(90)\"><text x=\"15.0\" y=\"3.066\" style=\"fill:rgb(14.5%,14.5%,14.5%);fill-opacity:1.0\">r0</text></g><g class=\"toytree-TipLabel\" transform=\"translate(141.553,210.486)rotate(90)\"><text x=\"15.0\" y=\"3.066\" style=\"fill:rgb(14.5%,14.5%,14.5%);fill-opacity:1.0\">r1</text></g><g class=\"toytree-TipLabel\" transform=\"translate(225,210.486)rotate(90)\"><text x=\"15.0\" y=\"3.066\" style=\"fill:rgb(14.5%,14.5%,14.5%);fill-opacity:1.0\">r2</text></g><g class=\"toytree-TipLabel\" transform=\"translate(308.447,210.486)rotate(90)\"><text x=\"15.0\" y=\"3.066\" style=\"fill:rgb(14.5%,14.5%,14.5%);fill-opacity:1.0\">r3</text></g><g class=\"toytree-TipLabel\" transform=\"translate(391.894,210.486)rotate(90)\"><text x=\"15.0\" y=\"3.066\" style=\"fill:rgb(14.5%,14.5%,14.5%);fill-opacity:1.0\">r4</text></g></g></g><g class=\"toytree-Annotation-Markers\" id=\"t4d9338a69d094a6691046aa3560c5eed\" style=\"fill:rgb(82.7%,82.7%,82.7%);fill-opacity:1.0;stroke:rgb(14.9%,14.9%,14.9%);stroke-opacity:1.0;stroke-width:1.5\"><g id=\"Mark-0\" style=\"fill-opacity: 1.000\" transform=\"translate(78.968,184.829)\"><rect x=\"-21.0\" y=\"-7.0\" width=\"42.0\" height=\"14.0\"></rect></g><g id=\"Mark-1\" style=\"fill-opacity: 1.000\" transform=\"translate(120.691,184.829)\"><rect x=\"-21.0\" y=\"-7.0\" width=\"42.0\" height=\"14.0\"></rect></g><g id=\"Mark-2\" style=\"fill-opacity: 1.000\" transform=\"translate(193.707,159.171)\"><rect x=\"-21.0\" y=\"-7.0\" width=\"42.0\" height=\"14.0\"></rect></g><g id=\"Mark-3\" style=\"fill-opacity: 1.000\" transform=\"translate(329.309,159.171)\"><rect x=\"-21.0\" y=\"-7.0\" width=\"42.0\" height=\"14.0\"></rect></g><g id=\"Mark-4\" style=\"fill-opacity: 1.000\" transform=\"translate(371.032,159.171)\"><rect x=\"-21.0\" y=\"-7.0\" width=\"42.0\" height=\"14.0\"></rect></g><g id=\"Mark-5\" style=\"fill-opacity: 1.000\" transform=\"translate(131.122,133.514)\"><rect x=\"-21.0\" y=\"-7.0\" width=\"42.0\" height=\"14.0\"></rect></g><g id=\"Mark-6\" style=\"fill-opacity: 1.000\" transform=\"translate(209.354,82.1998)\"><rect x=\"-21.0\" y=\"-7.0\" width=\"42.0\" height=\"14.0\"></rect></g></g><g class=\"toyplot-mark-Text\" id=\"t583c9657b8b84f1796c0efbafa343a5d\"><g class=\"toyplot-Series\"><g class=\"toyplot-Datum\" transform=\"translate(78.96798365122616,184.82863549828863)\"><text x=\"-16.819000000000003\" y=\"2.8104999999999993\" style=\"fill:rgb(14.5%,14.5%,14.5%);fill-opacity:1.0;font-family:Helvetica;font-size:11.0px;font-weight:300;opacity:1;stroke:none;vertical-align:baseline;white-space:pre\">0.1007</text></g><g class=\"toyplot-Datum\" transform=\"translate(120.69141689373298,184.82863549828863)\"><text x=\"-16.819000000000003\" y=\"2.8104999999999993\" style=\"fill:rgb(14.5%,14.5%,14.5%);fill-opacity:1.0;font-family:Helvetica;font-size:11.0px;font-weight:300;opacity:1;stroke:none;vertical-align:baseline;white-space:pre\">0.1007</text></g><g class=\"toyplot-Datum\" transform=\"translate(193.7074250681199,159.17142607901397)\"><text x=\"-16.819000000000003\" y=\"2.8104999999999993\" style=\"fill:rgb(14.5%,14.5%,14.5%);fill-opacity:1.0;font-family:Helvetica;font-size:11.0px;font-weight:300;opacity:1;stroke:none;vertical-align:baseline;white-space:pre\">0.1493</text></g><g class=\"toyplot-Datum\" transform=\"translate(329.30858310626706,159.17142607901388)\"><text x=\"-16.819000000000003\" y=\"2.8104999999999993\" style=\"fill:rgb(14.5%,14.5%,14.5%);fill-opacity:1.0;font-family:Helvetica;font-size:11.0px;font-weight:300;opacity:1;stroke:none;vertical-align:baseline;white-space:pre\">0.1493</text></g><g class=\"toyplot-Datum\" transform=\"translate(371.0320163487739,159.17142607901388)\"><text x=\"-16.819000000000003\" y=\"2.8104999999999993\" style=\"fill:rgb(14.5%,14.5%,14.5%);fill-opacity:1.0;font-family:Helvetica;font-size:11.0px;font-weight:300;opacity:1;stroke:none;vertical-align:baseline;white-space:pre\">0.1493</text></g><g class=\"toyplot-Datum\" transform=\"translate(131.12227520435968,133.51421665973922)\"><text x=\"-16.819000000000003\" y=\"2.8104999999999993\" style=\"fill:rgb(14.5%,14.5%,14.5%);fill-opacity:1.0;font-family:Helvetica;font-size:11.0px;font-weight:300;opacity:1;stroke:none;vertical-align:baseline;white-space:pre\">0.1493</text></g><g class=\"toyplot-Datum\" transform=\"translate(209.35371253405998,82.19979782118978)\"><text x=\"-16.819000000000003\" y=\"2.8104999999999993\" style=\"fill:rgb(14.5%,14.5%,14.5%);fill-opacity:1.0;font-family:Helvetica;font-size:11.0px;font-weight:300;opacity:1;stroke:none;vertical-align:baseline;white-space:pre\">0.2013</text></g></g></g></g><g class=\"toyplot-coordinates-Axis\" id=\"tdc55413cfac94814a18fe0c635d85640\" transform=\"translate(50.0,250.0)rotate(-90.0)translate(0,-15.0)\"><line x1=\"39.51415508243662\" y1=\"0\" x2=\"193.45741159808495\" y2=\"0\" style=\"\"></line><g><line x1=\"39.51415508243662\" y1=\"0\" x2=\"39.51415508243662\" y2=\"5\" style=\"\"></line><line x1=\"116.48578334026078\" y1=\"0\" x2=\"116.48578334026078\" y2=\"5\" style=\"\"></line><line x1=\"193.45741159808495\" y1=\"0\" x2=\"193.45741159808495\" y2=\"5\" style=\"\"></line></g><g><g transform=\"translate(39.51415508243662,-6)\"><text x=\"-2.78\" y=\"-4.440892098500626e-16\" style=\"fill:rgb(16.1%,15.3%,14.1%);fill-opacity:1.0;font-family:helvetica;font-size:10.0px;font-weight:normal;stroke:none;vertical-align:baseline;white-space:pre\">0</text></g><g transform=\"translate(116.48578334026078,-6)\"><text x=\"-6.95\" y=\"-4.440892098500626e-16\" style=\"fill:rgb(16.1%,15.3%,14.1%);fill-opacity:1.0;font-family:helvetica;font-size:10.0px;font-weight:normal;stroke:none;vertical-align:baseline;white-space:pre\">0.5</text></g><g transform=\"translate(193.45741159808495,-6)\"><text x=\"-2.78\" y=\"-4.440892098500626e-16\" style=\"fill:rgb(16.1%,15.3%,14.1%);fill-opacity:1.0;font-family:helvetica;font-size:10.0px;font-weight:normal;stroke:none;vertical-align:baseline;white-space:pre\">1</text></g></g><g class=\"toyplot-coordinates-Axis-coordinates\" style=\"visibility:hidden\" transform=\"\"><line x1=\"0\" x2=\"0\" y1=\"3.0\" y2=\"-4.5\" style=\"stroke:rgb(43.9%,50.2%,56.5%);stroke-opacity:1.0;stroke-width:1.0\"></line><text x=\"0\" y=\"6\" style=\"alignment-baseline:hanging;fill:rgb(43.9%,50.2%,56.5%);fill-opacity:1.0;font-size:10px;font-weight:normal;stroke:none;text-anchor:middle\"></text></g></g></g></svg><div class=\"toyplot-behavior\"><script>(function()\n",
       "{\n",
       "var modules={};\n",
       "modules[\"toyplot/canvas/id\"] = \"t4d641c828be74760b9f11ea049cbe2da\";\n",
       "modules[\"toyplot/canvas\"] = (function(canvas_id)\n",
       "    {\n",
       "        return document.querySelector(\"#\" + canvas_id);\n",
       "    })(modules[\"toyplot/canvas/id\"]);\n",
       "modules[\"toyplot.coordinates.Axis\"] = (\n",
       "        function(canvas)\n",
       "        {\n",
       "            function sign(x)\n",
       "            {\n",
       "                return x < 0 ? -1 : x > 0 ? 1 : 0;\n",
       "            }\n",
       "\n",
       "            function mix(a, b, amount)\n",
       "            {\n",
       "                return ((1.0 - amount) * a) + (amount * b);\n",
       "            }\n",
       "\n",
       "            function log(x, base)\n",
       "            {\n",
       "                return Math.log(Math.abs(x)) / Math.log(base);\n",
       "            }\n",
       "\n",
       "            function in_range(a, x, b)\n",
       "            {\n",
       "                var left = Math.min(a, b);\n",
       "                var right = Math.max(a, b);\n",
       "                return left <= x && x <= right;\n",
       "            }\n",
       "\n",
       "            function inside(range, projection)\n",
       "            {\n",
       "                for(var i = 0; i != projection.length; ++i)\n",
       "                {\n",
       "                    var segment = projection[i];\n",
       "                    if(in_range(segment.range.min, range, segment.range.max))\n",
       "                        return true;\n",
       "                }\n",
       "                return false;\n",
       "            }\n",
       "\n",
       "            function to_domain(range, projection)\n",
       "            {\n",
       "                for(var i = 0; i != projection.length; ++i)\n",
       "                {\n",
       "                    var segment = projection[i];\n",
       "                    if(in_range(segment.range.bounds.min, range, segment.range.bounds.max))\n",
       "                    {\n",
       "                        if(segment.scale == \"linear\")\n",
       "                        {\n",
       "                            var amount = (range - segment.range.min) / (segment.range.max - segment.range.min);\n",
       "                            return mix(segment.domain.min, segment.domain.max, amount)\n",
       "                        }\n",
       "                        else if(segment.scale[0] == \"log\")\n",
       "                        {\n",
       "                            var amount = (range - segment.range.min) / (segment.range.max - segment.range.min);\n",
       "                            var base = segment.scale[1];\n",
       "                            return sign(segment.domain.min) * Math.pow(base, mix(log(segment.domain.min, base), log(segment.domain.max, base), amount));\n",
       "                        }\n",
       "                    }\n",
       "                }\n",
       "            }\n",
       "\n",
       "            var axes = {};\n",
       "\n",
       "            function display_coordinates(e)\n",
       "            {\n",
       "                var current = canvas.createSVGPoint();\n",
       "                current.x = e.clientX;\n",
       "                current.y = e.clientY;\n",
       "\n",
       "                for(var axis_id in axes)\n",
       "                {\n",
       "                    var axis = document.querySelector(\"#\" + axis_id);\n",
       "                    var coordinates = axis.querySelector(\".toyplot-coordinates-Axis-coordinates\");\n",
       "                    if(coordinates)\n",
       "                    {\n",
       "                        var projection = axes[axis_id];\n",
       "                        var local = current.matrixTransform(axis.getScreenCTM().inverse());\n",
       "                        if(inside(local.x, projection))\n",
       "                        {\n",
       "                            var domain = to_domain(local.x, projection);\n",
       "                            coordinates.style.visibility = \"visible\";\n",
       "                            coordinates.setAttribute(\"transform\", \"translate(\" + local.x + \")\");\n",
       "                            var text = coordinates.querySelector(\"text\");\n",
       "                            text.textContent = domain.toFixed(2);\n",
       "                        }\n",
       "                        else\n",
       "                        {\n",
       "                            coordinates.style.visibility= \"hidden\";\n",
       "                        }\n",
       "                    }\n",
       "                }\n",
       "            }\n",
       "\n",
       "            canvas.addEventListener(\"click\", display_coordinates);\n",
       "\n",
       "            var module = {};\n",
       "            module.show_coordinates = function(axis_id, projection)\n",
       "            {\n",
       "                axes[axis_id] = projection;\n",
       "            }\n",
       "\n",
       "            return module;\n",
       "        })(modules[\"toyplot/canvas\"]);\n",
       "(function(axis, axis_id, projection)\n",
       "        {\n",
       "            axis.show_coordinates(axis_id, projection);\n",
       "        })(modules[\"toyplot.coordinates.Axis\"],\"tdc55413cfac94814a18fe0c635d85640\",[{\"domain\": {\"bounds\": {\"max\": Infinity, \"min\": -Infinity}, \"max\": 1.0425, \"min\": -0.2566800000000001}, \"range\": {\"bounds\": {\"max\": Infinity, \"min\": -Infinity}, \"max\": 200.0, \"min\": 0.0}, \"scale\": \"linear\"}]);\n",
       "})();</script></div></div>"
      ]
     },
     "metadata": {},
     "output_type": "display_data"
    }
   ],
   "source": [
    "# plot and show the MAD rooting probability for other edges\n",
    "c, a, m = mad_tree.draw('p', width=450);\n",
    "mad_tree.annotate.add_edge_markers(a, \"r3x1\", size=14, color=\"lightgrey\", mask=False, xshift=0)\n",
    "mad_tree.annotate.add_edge_labels(a, \"MAD_root_prob\", mask=False, font_size=11);"
   ]
  },
  {
   "cell_type": "markdown",
   "id": "ea7dd4e7-d6e5-410b-99fb-2421025c40a1",
   "metadata": {},
   "source": [
    "## Check root status\n",
    "A method to check whether a tree is rooted based on resolution of the treenode. Note: this does not distinguish between a tree actually being rooted versus whether the treenode is a polytomy. This method simply returns a boolean for whether the root node has >2 children. It is nevertheless still quite useful."
   ]
  },
  {
   "cell_type": "code",
   "execution_count": 16,
   "id": "9f721b17-0e25-4712-9aca-5ef6e9785461",
   "metadata": {},
   "outputs": [
    {
     "data": {
      "text/plain": [
       "True"
      ]
     },
     "execution_count": 16,
     "metadata": {},
     "output_type": "execute_result"
    }
   ],
   "source": [
    "# returns True if root node has >2 children\n",
    "tree.is_rooted()"
   ]
  },
  {
   "cell_type": "markdown",
   "id": "ef80f1b9-ef76-4d8b-b26d-e459441ca224",
   "metadata": {},
   "source": [
    "## Unrooting\n",
    "The `unroot` function can be called to unroot a rooted tree. In an unrooted tree the treenode is always a polytomy. A rooted bifurcating tree has `nnodes = (ntips * 2) - 1`, whereas an unrooted bifurcating tree has nnodes = `(ntips * 2) - 2`. In other words, converting from a rooted to unrooted state removes one node (the former treenode) from the tree, and assigns an existing node as the new treenode."
   ]
  },
  {
   "cell_type": "code",
   "execution_count": 17,
   "id": "26fec27f-b590-468e-99c4-5ac1ed2aac53",
   "metadata": {},
   "outputs": [
    {
     "data": {
      "text/plain": [
       "<toytree.ToyTree at 0x7f21c8bab580>"
      ]
     },
     "execution_count": 17,
     "metadata": {},
     "output_type": "execute_result"
    }
   ],
   "source": [
    "# get an unrooted copy of the tree\n",
    "tree.unroot()"
   ]
  },
  {
   "cell_type": "markdown",
   "id": "66252bb6-f3a6-40c9-ab9a-c772d0e142c9",
   "metadata": {},
   "source": [
    "## Features/Data and Rooting\n",
    "\n",
    "The processes of rooting, unrooting, or re-rooting trees should be reversible, meaning that the operations can be performed in any order without the loss of information about the topology, branch lengths, or any associated meta-data/features. This is the goal in `toytree` and it is always achieved for the case of the topology and branch lengths, but requires some user knowledge when dealing with arbitrary additional data features assigned to the tree. \n",
    "\n",
    "This is because data can be stored to a tree as either a feature of nodes, or of edges (see [Node-vs-edge-features](/toytree/data/#node-vs-edge-features)).\n",
    "\n",
    "Some data stored to a tree are intended to represent information about the edges (splits) in a tree, rather than information about the nodes. This is important as these types of data must be treated differently when doing things like re-rooting a tree, and in some cases, for visualization.\n",
    "\n",
    "\n",
    "(See the section on [Information Loss](#Information-Loss) for how other metadata in the tree *can* be affected, though.) \n"
   ]
  },
  {
   "cell_type": "markdown",
   "id": "f75f17da-40c9-4ec5-a7a6-b6e88ebb6d91",
   "metadata": {},
   "source": [
    "### Support values\n",
    "\n",
    "The way in which support values are displayed on trees is often a source of confusion. This is because support values are often plotted on the nodes of a tree, despite the fact that they are actually features of the edges of a tree. Thus, there are actually only \n",
    "\n",
    "\n",
    "A support score typically represents confidence in a bipartition that separates one  structure of the topology. However, support scores are often plotted on the nodes of a tree, which can lead to misinterpretation of their meaning, especially with regards to nodes near the root of a tree. \n",
    "\n",
    "For this reason, it is actually incorrect to list a support score for both edges that descend from the treenode of a rooted tree. "
   ]
  },
  {
   "cell_type": "code",
   "execution_count": null,
   "id": "21960b66-a6ae-4549-9c44-298f79348804",
   "metadata": {
    "scrolled": true
   },
   "outputs": [],
   "source": [
    "ctre = toytree.tree(\"https://eaton-lab.org/data/Cyathophora.tre\")\n",
    "ctre.draw(ts='r', node_labels=\"support\");\n",
    "ctre.draw(\n",
    "    layout='unr', \n",
    "    node_labels=\"support\", node_as_edge_data=True, node_sizes=16, \n",
    "    node_markers=\"r2x1\", node_colors=\"lightgrey\",\n",
    ");"
   ]
  },
  {
   "cell_type": "code",
   "execution_count": 56,
   "id": "d79c8afc-d429-4b1d-b592-5f14813bd856",
   "metadata": {},
   "outputs": [
    {
     "data": {
      "text/html": [
       "<div class=\"toyplot\" id=\"tc2b077a8a905488b8ca60b636df77b21\" style=\"text-align:center\"><svg class=\"toyplot-canvas-Canvas\" xmlns:toyplot=\"http://www.sandia.gov/toyplot\" xmlns:xlink=\"http://www.w3.org/1999/xlink\" xmlns=\"http://www.w3.org/2000/svg\" width=\"300.0px\" height=\"275.0px\" viewBox=\"0 0 300.0 275.0\" preserveAspectRatio=\"xMidYMid meet\" style=\"background-color:transparent;border-color:#292724;border-style:none;border-width:1.0;fill:rgb(16.1%,15.3%,14.1%);fill-opacity:1.0;font-family:Helvetica;font-size:12px;opacity:1.0;stroke:rgb(16.1%,15.3%,14.1%);stroke-opacity:1.0;stroke-width:1.0\" id=\"t803eaaf64d5941c69ff0749d4fb2e306\"><g class=\"toyplot-coordinates-Cartesian\" id=\"tabf1b49062f64b69852daab3945d5659\"><clipPath id=\"tb143c20054324e38ad221960671644d2\"><rect x=\"35.0\" y=\"35.0\" width=\"230.0\" height=\"205.0\"></rect></clipPath><g clip-path=\"url(#tb143c20054324e38ad221960671644d2)\"><g class=\"toytree-mark-Toytree\" id=\"ta943d2b3f6264a2998d6e22423d4f4f5\"><g class=\"toytree-Edges\" style=\"stroke:rgb(14.5%,14.5%,14.5%);stroke-opacity:1.0;stroke-linecap:round;stroke-width:2.0;fill:none\"><path d=\"M 139.3 177.0 L 139.3 216.4 L 215.4 216.4\" id=\"3,0\" style=\"\"></path><path d=\"M 139.3 177.0 L 139.3 137.5 L 215.4 137.5\" id=\"3,1\" style=\"\"></path><path d=\"M 63.3 117.8 L 63.3 58.6 L 139.3 58.6\" id=\"4,2\" style=\"\"></path><path d=\"M 63.3 117.8 L 63.3 177.0 L 139.3 177.0\" id=\"4,3\" style=\"\"></path></g><g class=\"toytree-AdmixEdges\" style=\"fill:rgb(0.0%,0.0%,0.0%);fill-opacity:0.0;stroke:rgb(90.6%,54.1%,76.5%);stroke-opacity:0.6;font-size:14px;stroke-linecap:round;stroke-width:5\"></g><g class=\"toytree-Nodes\" style=\"fill:rgb(82.7%,82.7%,82.7%);fill-opacity:1.0;stroke:rgb(14.9%,14.9%,14.9%);stroke-opacity:1.0;stroke-width:1.5\"><g id=\"Node-0\" transform=\"translate(215.356,216.43)\"><rect x=\"-16.0\" y=\"-8.0\" width=\"32.0\" height=\"16.0\"></rect></g><g id=\"Node-1\" transform=\"translate(215.356,137.5)\"><rect x=\"-16.0\" y=\"-8.0\" width=\"32.0\" height=\"16.0\"></rect></g><g id=\"Node-2\" transform=\"translate(139.331,58.5696)\"><rect x=\"-16.0\" y=\"-8.0\" width=\"32.0\" height=\"16.0\"></rect></g><g id=\"Node-3\" transform=\"translate(139.331,176.965)\"><rect x=\"-16.0\" y=\"-8.0\" width=\"32.0\" height=\"16.0\"></rect></g><g id=\"Node-4\" transform=\"translate(63.3045,117.767)\"><rect x=\"-16.0\" y=\"-8.0\" width=\"32.0\" height=\"16.0\"></rect></g></g><g class=\"toytree-NodeLabels\" style=\"font-family:Helvetica;font-size:9px;font-weight:300;vertical-align:baseline;white-space:pre;stroke:none\"><g class=\"toytree-NodeLabel\" transform=\"translate(215.356,216.43)\"><text x=\"-2.5020000000000002\" y=\"2.2995\" style=\"fill:rgb(14.5%,14.5%,14.5%);fill-opacity:1.0\">2</text></g><g class=\"toytree-NodeLabel\" transform=\"translate(215.356,137.5)\"><text x=\"-2.5020000000000002\" y=\"2.2995\" style=\"fill:rgb(14.5%,14.5%,14.5%);fill-opacity:1.0\">1</text></g><g class=\"toytree-NodeLabel\" transform=\"translate(139.331,58.5696)\"><text x=\"-7.506\" y=\"2.2995\" style=\"fill:rgb(14.5%,14.5%,14.5%);fill-opacity:1.0\">100</text></g><g class=\"toytree-NodeLabel\" transform=\"translate(139.331,176.965)\"><text x=\"-2.5020000000000002\" y=\"2.2995\" style=\"fill:rgb(14.5%,14.5%,14.5%);fill-opacity:1.0\">3</text></g><g class=\"toytree-NodeLabel\" transform=\"translate(63.3045,117.767)\"><text x=\"-2.5020000000000002\" y=\"2.2995\" style=\"fill:rgb(14.5%,14.5%,14.5%);fill-opacity:1.0\">4</text></g></g><g class=\"toytree-TipLabels\" style=\"fill:rgb(14.5%,14.5%,14.5%);fill-opacity:1.0;font-family:Helvetica;font-size:14px;font-weight:300;vertical-align:baseline;white-space:pre;stroke:none\"><g class=\"toytree-TipLabel\" transform=\"translate(215.356,216.43)\"><text x=\"15.0\" y=\"3.577\" style=\"fill:rgb(14.5%,14.5%,14.5%);fill-opacity:1.0\">a</text></g><g class=\"toytree-TipLabel\" transform=\"translate(215.356,137.5)\"><text x=\"15.0\" y=\"3.577\" style=\"fill:rgb(14.5%,14.5%,14.5%);fill-opacity:1.0\">b</text></g><g class=\"toytree-TipLabel\" transform=\"translate(139.331,58.5696)\"><text x=\"15.0\" y=\"3.577\" style=\"fill:rgb(14.5%,14.5%,14.5%);fill-opacity:1.0\">c</text></g></g></g></g></g></svg><div class=\"toyplot-behavior\"><script>(function()\n",
       "{\n",
       "var modules={};\n",
       "})();</script></div></div>"
      ]
     },
     "metadata": {},
     "output_type": "display_data"
    }
   ],
   "source": [
    "toytree.tree(\"((a[2],b[1])[3],c[100])[4];\", feature_prefix=None,).draw('r', node_mask=False, node_labels=\"label\");"
   ]
  },
  {
   "cell_type": "code",
   "execution_count": 64,
   "id": "ac9283ed-ad60-4fff-941a-dbb8ff375e25",
   "metadata": {},
   "outputs": [
    {
     "data": {
      "text/html": [
       "<div class=\"toyplot\" id=\"t8b4a1032885d4ad7b157a98cb2874671\" style=\"text-align:center\"><svg class=\"toyplot-canvas-Canvas\" xmlns:toyplot=\"http://www.sandia.gov/toyplot\" xmlns:xlink=\"http://www.w3.org/1999/xlink\" xmlns=\"http://www.w3.org/2000/svg\" width=\"300.0px\" height=\"275.0px\" viewBox=\"0 0 300.0 275.0\" preserveAspectRatio=\"xMidYMid meet\" style=\"background-color:transparent;border-color:#292724;border-style:none;border-width:1.0;fill:rgb(16.1%,15.3%,14.1%);fill-opacity:1.0;font-family:Helvetica;font-size:12px;opacity:1.0;stroke:rgb(16.1%,15.3%,14.1%);stroke-opacity:1.0;stroke-width:1.0\" id=\"t7add3d457f4c4915ae644de1b5ce9bc4\"><g class=\"toyplot-coordinates-Cartesian\" id=\"tf1616664bb924871902b164bf50b76ff\"><clipPath id=\"t9e2518234f6c4df0aa6a62e9d49b4fdb\"><rect x=\"35.0\" y=\"35.0\" width=\"230.0\" height=\"205.0\"></rect></clipPath><g clip-path=\"url(#t9e2518234f6c4df0aa6a62e9d49b4fdb)\"><g class=\"toytree-mark-Toytree\" id=\"tac8958e6ec314191982819224832d11f\"><g class=\"toytree-Edges\" style=\"stroke:rgb(14.5%,14.5%,14.5%);stroke-opacity:1.0;stroke-linecap:round;stroke-width:2.0;fill:none\"><path d=\"M 61.5 137.5 L 61.5 216.4 L 192.6 216.4\" id=\"13,0\" style=\"\"></path><path d=\"M 86.2 177.0 L 86.2 193.9 L 101.5 193.9\" id=\"9,1\" style=\"\"></path><path d=\"M 90.4 160.1 L 90.4 171.3 L 96.3 171.3\" id=\"8,2\" style=\"\"></path><path d=\"M 90.4 160.1 L 90.4 148.8 L 105.7 148.8\" id=\"8,3\" style=\"\"></path><path d=\"M 93.6 114.9 L 93.6 126.2 L 96.2 126.2\" id=\"10,4\" style=\"\"></path><path d=\"M 93.6 114.9 L 93.6 103.7 L 105.7 103.7\" id=\"10,5\" style=\"\"></path><path d=\"M 85.4 98.0 L 85.4 81.1 L 94.4 81.1\" id=\"11,6\" style=\"\"></path><path d=\"M 61.5 137.5 L 61.5 58.6 L 103.0 58.6\" id=\"13,7\" style=\"\"></path><path d=\"M 86.2 177.0 L 86.2 160.1 L 90.4 160.1\" id=\"9,8\" style=\"\"></path><path d=\"M 80.2 137.5 L 80.2 177.0 L 86.2 177.0\" id=\"12,9\" style=\"\"></path><path d=\"M 85.4 98.0 L 85.4 114.9 L 93.6 114.9\" id=\"11,10\" style=\"\"></path><path d=\"M 80.2 137.5 L 80.2 98.0 L 85.4 98.0\" id=\"12,11\" style=\"\"></path><path d=\"M 61.5 137.5 L 61.5 137.5 L 80.2 137.5\" id=\"13,12\" style=\"\"></path></g><g class=\"toytree-AdmixEdges\" style=\"fill:rgb(0.0%,0.0%,0.0%);fill-opacity:0.0;stroke:rgb(90.6%,54.1%,76.5%);stroke-opacity:0.6;font-size:14px;stroke-linecap:round;stroke-width:5\"></g><g class=\"toytree-Nodes\" style=\"fill:rgb(82.7%,82.7%,82.7%);fill-opacity:1.0;stroke:rgb(14.9%,14.9%,14.9%);stroke-opacity:1.0;stroke-width:1.5\"><g id=\"Node-8\" transform=\"translate(90.4268,160.052)\"><rect x=\"-16.0\" y=\"-8.0\" width=\"32.0\" height=\"16.0\"></rect></g><g id=\"Node-9\" transform=\"translate(86.1703,176.965)\"><rect x=\"-16.0\" y=\"-8.0\" width=\"32.0\" height=\"16.0\"></rect></g><g id=\"Node-10\" transform=\"translate(93.6301,114.948)\"><rect x=\"-16.0\" y=\"-8.0\" width=\"32.0\" height=\"16.0\"></rect></g><g id=\"Node-11\" transform=\"translate(85.4241,98.0348)\"><rect x=\"-16.0\" y=\"-8.0\" width=\"32.0\" height=\"16.0\"></rect></g><g id=\"Node-12\" transform=\"translate(80.1791,137.5)\"><rect x=\"-16.0\" y=\"-8.0\" width=\"32.0\" height=\"16.0\"></rect></g><g id=\"Node-13\" transform=\"translate(61.4729,137.5)\"><rect x=\"-16.0\" y=\"-8.0\" width=\"32.0\" height=\"16.0\"></rect></g></g><g class=\"toytree-NodeLabels\" style=\"font-family:Helvetica;font-size:9px;font-weight:300;vertical-align:baseline;white-space:pre;stroke:none\"><g class=\"toytree-NodeLabel\" transform=\"translate(90.4268,160.052)\"><title>idx: 8\n",
       "dist: 0.000870360696582\n",
       "support: nan\n",
       "height: 0.0208901930586\n",
       "label: 39\n",
       "name: </title><text x=\"-5.0040000000000004\" y=\"2.2995\" style=\"fill:rgb(14.5%,14.5%,14.5%);fill-opacity:1.0\">39</text></g><g class=\"toytree-NodeLabel\" transform=\"translate(86.1703,176.965)\"><title>idx: 9\n",
       "dist: 0.00122506270256\n",
       "support: nan\n",
       "height: 0.0217605537551\n",
       "label: 42\n",
       "name: </title><text x=\"-5.0040000000000004\" y=\"2.2995\" style=\"fill:rgb(14.5%,14.5%,14.5%);fill-opacity:1.0\">42</text></g><g class=\"toytree-NodeLabel\" transform=\"translate(93.6301,114.948)\"><title>idx: 10\n",
       "dist: 0.00167792487939\n",
       "support: nan\n",
       "height: 0.0202351982994\n",
       "label: 83\n",
       "name: </title><text x=\"-5.0040000000000004\" y=\"2.2995\" style=\"fill:rgb(14.5%,14.5%,14.5%);fill-opacity:1.0\">83</text></g><g class=\"toytree-NodeLabel\" transform=\"translate(85.4241,98.0348)\"><title>idx: 11\n",
       "dist: 0.00107249327886\n",
       "support: nan\n",
       "height: 0.0219131231788\n",
       "label: 41\n",
       "name: </title><text x=\"-5.0040000000000004\" y=\"2.2995\" style=\"fill:rgb(14.5%,14.5%,14.5%);fill-opacity:1.0\">41</text></g><g class=\"toytree-NodeLabel\" transform=\"translate(80.1791,137.5)\"><title>idx: 12\n",
       "dist: 0.00382497683825\n",
       "support: nan\n",
       "height: 0.0229856164577\n",
       "label: 100\n",
       "name: </title><text x=\"-7.506\" y=\"2.2995\" style=\"fill:rgb(14.5%,14.5%,14.5%);fill-opacity:1.0\">100</text></g><g class=\"toytree-NodeLabel\" transform=\"translate(61.4729,137.5)\"><title>idx: 13\n",
       "dist: 0\n",
       "support: nan\n",
       "height: 0.026810593296\n",
       "label: nan\n",
       "name: </title><text x=\"-7.506\" y=\"2.2995\" style=\"fill:rgb(14.5%,14.5%,14.5%);fill-opacity:1.0\">nan</text></g></g><g class=\"toytree-TipLabels\" style=\"fill:rgb(14.5%,14.5%,14.5%);fill-opacity:1.0;font-family:Helvetica;font-size:14px;font-weight:300;vertical-align:baseline;white-space:pre;stroke:none\"><g class=\"toytree-TipLabel\" transform=\"translate(192.591,216.43)\"><text x=\"15.0\" y=\"3.577\" style=\"fill:rgb(14.5%,14.5%,14.5%);fill-opacity:1.0\">Ame</text></g><g class=\"toytree-TipLabel\" transform=\"translate(101.463,193.879)\"><text x=\"15.0\" y=\"3.577\" style=\"fill:rgb(14.5%,14.5%,14.5%);fill-opacity:1.0\">Hma</text></g><g class=\"toytree-TipLabel\" transform=\"translate(96.3456,171.327)\"><text x=\"15.0\" y=\"3.577\" style=\"fill:rgb(14.5%,14.5%,14.5%);fill-opacity:1.0\">Uth</text></g><g class=\"toytree-TipLabel\" transform=\"translate(105.688,148.776)\"><text x=\"15.0\" y=\"3.577\" style=\"fill:rgb(14.5%,14.5%,14.5%);fill-opacity:1.0\">Mur</text></g><g class=\"toytree-TipLabel\" transform=\"translate(96.1915,126.224)\"><text x=\"15.0\" y=\"3.577\" style=\"fill:rgb(14.5%,14.5%,14.5%);fill-opacity:1.0\">Uar</text></g><g class=\"toytree-TipLabel\" transform=\"translate(105.711,103.673)\"><text x=\"15.0\" y=\"3.577\" style=\"fill:rgb(14.5%,14.5%,14.5%);fill-opacity:1.0\">Uma</text></g><g class=\"toytree-TipLabel\" transform=\"translate(94.4306,81.1211)\"><text x=\"15.0\" y=\"3.577\" style=\"fill:rgb(14.5%,14.5%,14.5%);fill-opacity:1.0\">Uam</text></g><g class=\"toytree-TipLabel\" transform=\"translate(102.975,58.5696)\"><text x=\"15.0\" y=\"3.577\" style=\"fill:rgb(14.5%,14.5%,14.5%);fill-opacity:1.0\">Tor</text></g></g></g></g></g></svg><div class=\"toyplot-behavior\"><script>(function()\n",
       "{\n",
       "var modules={};\n",
       "})();</script></div></div>"
      ]
     },
     "metadata": {},
     "output_type": "display_data"
    }
   ],
   "source": [
    "toytree.tree(\"/home/deren/R/x86_64-pc-linux-gnu-library/4.2/phangorn/extdata/trees/RAxML_bipartitionsBranchLabels.AIs\", feature_prefix=None, \n",
    "            ).draw('r', node_labels=\"label\", node_hover=True);"
   ]
  },
  {
   "cell_type": "code",
   "execution_count": 67,
   "id": "36dc9824-e288-4dbe-925f-88e113159554",
   "metadata": {},
   "outputs": [
    {
     "data": {
      "text/html": [
       "<div class=\"toyplot\" id=\"t6ee6ea641c024d1f8b1e09b0a35bd476\" style=\"text-align:center\"><svg class=\"toyplot-canvas-Canvas\" xmlns:toyplot=\"http://www.sandia.gov/toyplot\" xmlns:xlink=\"http://www.w3.org/1999/xlink\" xmlns=\"http://www.w3.org/2000/svg\" width=\"300.0px\" height=\"275.0px\" viewBox=\"0 0 300.0 275.0\" preserveAspectRatio=\"xMidYMid meet\" style=\"background-color:transparent;border-color:#292724;border-style:none;border-width:1.0;fill:rgb(16.1%,15.3%,14.1%);fill-opacity:1.0;font-family:Helvetica;font-size:12px;opacity:1.0;stroke:rgb(16.1%,15.3%,14.1%);stroke-opacity:1.0;stroke-width:1.0\" id=\"t7ab414fd7caa4d6d8e6860cb8097a06f\"><g class=\"toyplot-coordinates-Cartesian\" id=\"t551e1d2ac99140e097f021712e46bf53\"><clipPath id=\"ta52a923bafe94cbaa42b4eee36c4bb41\"><rect x=\"35.0\" y=\"35.0\" width=\"230.0\" height=\"205.0\"></rect></clipPath><g clip-path=\"url(#ta52a923bafe94cbaa42b4eee36c4bb41)\"><g class=\"toytree-mark-Toytree\" id=\"t0a183af7b3a1464bae574c6cdf0aeaae\"><g class=\"toytree-Edges\" style=\"stroke:rgb(14.5%,14.5%,14.5%);stroke-opacity:1.0;stroke-linecap:round;stroke-width:2.0;fill:none\"><path d=\"M 56.5 137.5 L 56.5 216.4 L 194.4 216.4\" id=\"13,0\" style=\"\"></path><path d=\"M 159.9 182.6 L 159.9 193.9 L 194.4 193.9\" id=\"8,1\" style=\"\"></path><path d=\"M 159.9 182.6 L 159.9 171.3 L 194.4 171.3\" id=\"8,2\" style=\"\"></path><path d=\"M 125.5 165.7 L 125.5 148.8 L 194.4 148.8\" id=\"9,3\" style=\"\"></path><path d=\"M 125.5 109.3 L 125.5 126.2 L 194.4 126.2\" id=\"11,4\" style=\"\"></path><path d=\"M 159.9 92.4 L 159.9 103.7 L 194.4 103.7\" id=\"10,5\" style=\"\"></path><path d=\"M 159.9 92.4 L 159.9 81.1 L 194.4 81.1\" id=\"10,6\" style=\"\"></path><path d=\"M 56.5 137.5 L 56.5 58.6 L 194.4 58.6\" id=\"13,7\" style=\"\"></path><path d=\"M 125.5 165.7 L 125.5 182.6 L 159.9 182.6\" id=\"9,8\" style=\"\"></path><path d=\"M 91.0 137.5 L 91.0 165.7 L 125.5 165.7\" id=\"12,9\" style=\"\"></path><path d=\"M 125.5 109.3 L 125.5 92.4 L 159.9 92.4\" id=\"11,10\" style=\"\"></path><path d=\"M 91.0 137.5 L 91.0 109.3 L 125.5 109.3\" id=\"12,11\" style=\"\"></path><path d=\"M 56.5 137.5 L 56.5 137.5 L 91.0 137.5\" id=\"13,12\" style=\"\"></path></g><g class=\"toytree-AdmixEdges\" style=\"fill:rgb(0.0%,0.0%,0.0%);fill-opacity:0.0;stroke:rgb(90.6%,54.1%,76.5%);stroke-opacity:0.6;font-size:14px;stroke-linecap:round;stroke-width:5\"></g><g class=\"toytree-Nodes\" style=\"fill:rgb(82.7%,82.7%,82.7%);fill-opacity:1.0;stroke:rgb(14.5%,14.5%,14.5%);stroke-opacity:1.0;stroke-width:1.5\"><g id=\"Node-0\" transform=\"translate(194.401,216.43)\"><circle r=\"8.0\"></circle></g><g id=\"Node-1\" transform=\"translate(194.401,193.879)\"><circle r=\"8.0\"></circle></g><g id=\"Node-2\" transform=\"translate(194.401,171.327)\"><circle r=\"8.0\"></circle></g><g id=\"Node-3\" transform=\"translate(194.401,148.776)\"><circle r=\"8.0\"></circle></g><g id=\"Node-4\" transform=\"translate(194.401,126.224)\"><circle r=\"8.0\"></circle></g><g id=\"Node-5\" transform=\"translate(194.401,103.673)\"><circle r=\"8.0\"></circle></g><g id=\"Node-6\" transform=\"translate(194.401,81.1211)\"><circle r=\"8.0\"></circle></g><g id=\"Node-7\" transform=\"translate(194.401,58.5696)\"><circle r=\"8.0\"></circle></g><g id=\"Node-8\" transform=\"translate(159.938,182.603)\"><circle r=\"8.0\"></circle></g><g id=\"Node-9\" transform=\"translate(125.475,165.689)\"><circle r=\"8.0\"></circle></g><g id=\"Node-10\" transform=\"translate(159.938,92.3969)\"><circle r=\"8.0\"></circle></g><g id=\"Node-11\" transform=\"translate(125.475,109.311)\"><circle r=\"8.0\"></circle></g><g id=\"Node-12\" transform=\"translate(91.0113,137.5)\"><circle r=\"8.0\"></circle></g><g id=\"Node-13\" transform=\"translate(56.548,137.5)\"><circle r=\"8.0\"></circle></g></g><g class=\"toytree-NodeLabels\" style=\"font-family:Helvetica;font-size:9px;font-weight:300;vertical-align:baseline;white-space:pre;stroke:none\"><g class=\"toytree-NodeLabel\" transform=\"translate(194.401,216.43)\"><text x=\"-7.506\" y=\"2.2995\" style=\"fill:rgb(14.5%,14.5%,14.5%);fill-opacity:1.0\">nan</text></g><g class=\"toytree-NodeLabel\" transform=\"translate(194.401,193.879)\"><text x=\"-7.506\" y=\"2.2995\" style=\"fill:rgb(14.5%,14.5%,14.5%);fill-opacity:1.0\">nan</text></g><g class=\"toytree-NodeLabel\" transform=\"translate(194.401,171.327)\"><text x=\"-7.506\" y=\"2.2995\" style=\"fill:rgb(14.5%,14.5%,14.5%);fill-opacity:1.0\">nan</text></g><g class=\"toytree-NodeLabel\" transform=\"translate(194.401,148.776)\"><text x=\"-7.506\" y=\"2.2995\" style=\"fill:rgb(14.5%,14.5%,14.5%);fill-opacity:1.0\">nan</text></g><g class=\"toytree-NodeLabel\" transform=\"translate(194.401,126.224)\"><text x=\"-7.506\" y=\"2.2995\" style=\"fill:rgb(14.5%,14.5%,14.5%);fill-opacity:1.0\">nan</text></g><g class=\"toytree-NodeLabel\" transform=\"translate(194.401,103.673)\"><text x=\"-7.506\" y=\"2.2995\" style=\"fill:rgb(14.5%,14.5%,14.5%);fill-opacity:1.0\">nan</text></g><g class=\"toytree-NodeLabel\" transform=\"translate(194.401,81.1211)\"><text x=\"-7.506\" y=\"2.2995\" style=\"fill:rgb(14.5%,14.5%,14.5%);fill-opacity:1.0\">nan</text></g><g class=\"toytree-NodeLabel\" transform=\"translate(194.401,58.5696)\"><text x=\"-7.506\" y=\"2.2995\" style=\"fill:rgb(14.5%,14.5%,14.5%);fill-opacity:1.0\">nan</text></g><g class=\"toytree-NodeLabel\" transform=\"translate(159.938,182.603)\"><text x=\"-5.0040000000000004\" y=\"2.2995\" style=\"fill:rgb(14.5%,14.5%,14.5%);fill-opacity:1.0\">36</text></g><g class=\"toytree-NodeLabel\" transform=\"translate(125.475,165.689)\"><text x=\"-5.0040000000000004\" y=\"2.2995\" style=\"fill:rgb(14.5%,14.5%,14.5%);fill-opacity:1.0\">30</text></g><g class=\"toytree-NodeLabel\" transform=\"translate(159.938,92.3969)\"><text x=\"-7.506\" y=\"2.2995\" style=\"fill:rgb(14.5%,14.5%,14.5%);fill-opacity:1.0\">100</text></g><g class=\"toytree-NodeLabel\" transform=\"translate(125.475,109.311)\"><text x=\"-5.0040000000000004\" y=\"2.2995\" style=\"fill:rgb(14.5%,14.5%,14.5%);fill-opacity:1.0\">60</text></g><g class=\"toytree-NodeLabel\" transform=\"translate(91.0113,137.5)\"><text x=\"-7.506\" y=\"2.2995\" style=\"fill:rgb(14.5%,14.5%,14.5%);fill-opacity:1.0\">100</text></g><g class=\"toytree-NodeLabel\" transform=\"translate(56.548,137.5)\"><text x=\"-7.506\" y=\"2.2995\" style=\"fill:rgb(14.5%,14.5%,14.5%);fill-opacity:1.0\">nan</text></g></g><g class=\"toytree-TipLabels\" style=\"fill:rgb(14.5%,14.5%,14.5%);fill-opacity:1.0;font-family:Helvetica;font-size:12px;font-weight:300;vertical-align:baseline;white-space:pre;stroke:none\"><g class=\"toytree-TipLabel\" transform=\"translate(194.401,216.43)\"><text x=\"15.0\" y=\"3.066\" style=\"fill:rgb(14.5%,14.5%,14.5%);fill-opacity:1.0\">Ame</text></g><g class=\"toytree-TipLabel\" transform=\"translate(194.401,193.879)\"><text x=\"15.0\" y=\"3.066\" style=\"fill:rgb(14.5%,14.5%,14.5%);fill-opacity:1.0\">Hma</text></g><g class=\"toytree-TipLabel\" transform=\"translate(194.401,171.327)\"><text x=\"15.0\" y=\"3.066\" style=\"fill:rgb(14.5%,14.5%,14.5%);fill-opacity:1.0\">Mur</text></g><g class=\"toytree-TipLabel\" transform=\"translate(194.401,148.776)\"><text x=\"15.0\" y=\"3.066\" style=\"fill:rgb(14.5%,14.5%,14.5%);fill-opacity:1.0\">Uth</text></g><g class=\"toytree-TipLabel\" transform=\"translate(194.401,126.224)\"><text x=\"15.0\" y=\"3.066\" style=\"fill:rgb(14.5%,14.5%,14.5%);fill-opacity:1.0\">Uam</text></g><g class=\"toytree-TipLabel\" transform=\"translate(194.401,103.673)\"><text x=\"15.0\" y=\"3.066\" style=\"fill:rgb(14.5%,14.5%,14.5%);fill-opacity:1.0\">Uar</text></g><g class=\"toytree-TipLabel\" transform=\"translate(194.401,81.1211)\"><text x=\"15.0\" y=\"3.066\" style=\"fill:rgb(14.5%,14.5%,14.5%);fill-opacity:1.0\">Uma</text></g><g class=\"toytree-TipLabel\" transform=\"translate(194.401,58.5696)\"><text x=\"15.0\" y=\"3.066\" style=\"fill:rgb(14.5%,14.5%,14.5%);fill-opacity:1.0\">Tor</text></g></g></g></g></g></svg><div class=\"toyplot-behavior\"><script>(function()\n",
       "{\n",
       "var modules={};\n",
       "})();</script></div></div>"
      ]
     },
     "metadata": {},
     "output_type": "display_data"
    }
   ],
   "source": [
    "toytree.tree(\"/home/deren/R/x86_64-pc-linux-gnu-library/4.2/phangorn/extdata/trees/RAxML_bipartitions.3moles\").draw('s', node_labels=\"support\");"
   ]
  },
  {
   "cell_type": "code",
   "execution_count": null,
   "id": "4eb9e3af-d884-4a12-97f5-426fad263cdc",
   "metadata": {},
   "outputs": [],
   "source": [
    "support_tree = tree.set_node_data(\"support\", default=100)\n",
    "support_tree.get_node_data()"
   ]
  },
  {
   "cell_type": "code",
   "execution_count": null,
   "id": "37b89c18-3182-42a2-8fa2-bea293c46b2c",
   "metadata": {},
   "outputs": [],
   "source": [
    "# the proper \n",
    "tree.set_node_data(\"support\", default=100).draw(node_labels=\"support\", node_sizes=20, node_as_edge_data=True);"
   ]
  },
  {
   "cell_type": "code",
   "execution_count": null,
   "id": "0583c54f-c85f-4961-8f7b-4bc849a7c8a0",
   "metadata": {},
   "outputs": [],
   "source": []
  },
  {
   "cell_type": "code",
   "execution_count": null,
   "id": "f26878f8-3ac1-4dde-97a3-80384b50c890",
   "metadata": {},
   "outputs": [],
   "source": [
    "# \"\"\": Example dataset with inner labels as edge data.\"\"\"\n",
    "# self.supp = toytree.tree(\"(a,b,((c,d)CD[&support=100],(e,f)EF[&support=80])X[&support=90])AB;\")\n",
    "# \"\"\": Tree w/ internal names and supports\"\"\"\n",
    "# self.itree = toytree.rtree.imbtree(10, seed=123, treeheight=10)\n",
    "# self.btree = toytree.rtree.baltree(10, seed=123, treeheight=10)\n",
    "# self.utree = toytree.rtree.unittree(10, seed=123, treeheight=10)\n",
    "# self.trees = [self.itree, self.btree, self.utree]"
   ]
  },
  {
   "cell_type": "markdown",
   "id": "ad7f339f-fbc9-42b6-adba-cd38ae45cfed",
   "metadata": {},
   "source": []
  },
  {
   "cell_type": "markdown",
   "id": "99dd8af1-0bed-46f5-bdaf-7be10a7b00ab",
   "metadata": {},
   "source": [
    "### Information loss\n",
    "Is information lost when a tree is unrooted and then re-rooted? The answer is usually no, but there are instances in which data can be lost."
   ]
  },
  {
   "cell_type": "code",
   "execution_count": null,
   "id": "054f59e7-3bf9-4e25-af28-7098cbbbc054",
   "metadata": {},
   "outputs": [],
   "source": [
    "tree.unroot().root('r2').unroot().root('r3', 'r4').draw('p');"
   ]
  },
  {
   "cell_type": "markdown",
   "id": "c0d56c38-ed01-44c0-a837-6828c635731b",
   "metadata": {},
   "source": [
    "### Example from paper\n",
    "This problem was well described in the \"A critical review on the use of support values in tree viewers and   bioinformatics toolkits\" by [Czech et al. (2017)](10.1093/molbev/msx055)."
   ]
  },
  {
   "cell_type": "code",
   "execution_count": null,
   "id": "eff36013-6622-4183-85d5-eae1f7b9bb7a",
   "metadata": {},
   "outputs": [],
   "source": [
    "# unrooted tree from Czech et al... \n",
    "czech = \"((C,D)1,(A,(B,X)3)2,E)R;\"\n",
    "ctree = toytree.tree(czech, internal_labels=\"name\")\n",
    "\n",
    "# set data to label nodes and edges of the unrooted tree\n",
    "colors = {'1': 'red', '2': 'green', '3': 'orange'}\n",
    "ctree.set_node_data(\"ecolor\", colors, default=\"black\", inplace=True)\n",
    "ctree.set_node_data(\"ncolor\", colors, inplace=True);\n",
    "\n",
    "# create a style dict\n",
    "kwargs = {\n",
    "    'layout': 'd',\n",
    "    'use_edge_lengths': False,\n",
    "    'node_sizes': 10,\n",
    "    'node_labels': 'name',\n",
    "    'node_labels_style': {\n",
    "        'font-size': 20,\n",
    "        'baseline-shift': 10,\n",
    "        '-toyplot-anchor-shift': 10,\n",
    "    }}"
   ]
  },
  {
   "cell_type": "code",
   "execution_count": null,
   "id": "3621b9c0-7c63-468a-b026-63bfe669ef58",
   "metadata": {},
   "outputs": [],
   "source": [
    "# draw original unrooted tree\n",
    "ctree.draw(node_colors=\"ncolor\", edge_colors=\"ecolor\", **kwargs);"
   ]
  },
  {
   "cell_type": "markdown",
   "id": "95aa6c24-f0da-4002-ac52-921186f0a535",
   "metadata": {},
   "source": [
    "When we root the tree on the edge above \"X\" this changes the orientation of several nodes on the tree, such that some which were parents of another before now appear as children of that node. This has the important consequence for how the edge between these nodes is interpreted...\n",
    "\n",
    "For example, the yellow edge which previously represented information about the split separating (B,X) from every other node now instead represents the split between X and every other node. Similarly, the green edge which previously represented the split between (A,B,X) versus (C,D,E) now represents (B,X) versus (A,C,D,E). *This is incorrect.* \n",
    "\n",
    "..."
   ]
  },
  {
   "cell_type": "code",
   "execution_count": null,
   "id": "9dbc634c-3b10-488b-b04a-2172f77ee7ca",
   "metadata": {},
   "outputs": [],
   "source": [
    "# root w/o indicating edge_features, error!\n",
    "rtree = ctree.root(\"X\")\n",
    "rtree.draw(node_colors=\"ncolor\", edge_colors=\"ecolor\", **kwargs);"
   ]
  },
  {
   "cell_type": "code",
   "execution_count": null,
   "id": "866ae858-5c47-4bcb-83db-01a3e2054a4b",
   "metadata": {},
   "outputs": [],
   "source": [
    "# re-root, treating 'ecolor' but not 'ncolor' as an edge feature.\n",
    "rtree = ctree.root(\"X\", edge_features=[])\n",
    "rtree.draw(\n",
    "    node_colors=rtree.get_node_data('ncolor', missing='black'),\n",
    "    edge_colors=rtree.get_node_data('ecolor', missing='black'),\n",
    "    **kwargs,\n",
    ");"
   ]
  },
  {
   "cell_type": "code",
   "execution_count": null,
   "id": "292112c9-c058-4369-8b69-ea89b6a2ad76",
   "metadata": {},
   "outputs": [],
   "source": []
  },
  {
   "cell_type": "code",
   "execution_count": null,
   "id": "7221580e-c183-44fe-8a2d-dff8a9acfad4",
   "metadata": {},
   "outputs": [],
   "source": []
  },
  {
   "cell_type": "code",
   "execution_count": null,
   "id": "9116ecf7-cdde-422a-8b58-27f528d65c76",
   "metadata": {},
   "outputs": [],
   "source": []
  },
  {
   "cell_type": "code",
   "execution_count": null,
   "id": "b332a535-35dc-4671-8537-88402669d7e0",
   "metadata": {},
   "outputs": [],
   "source": []
  },
  {
   "cell_type": "code",
   "execution_count": null,
   "id": "e345e84b-1368-44e2-8009-827088891bc3",
   "metadata": {},
   "outputs": [],
   "source": []
  }
 ],
 "metadata": {
  "kernelspec": {
   "display_name": "Python 3 (ipykernel)",
   "language": "python",
   "name": "python3"
  },
  "language_info": {
   "codemirror_mode": {
    "name": "ipython",
    "version": 3
   },
   "file_extension": ".py",
   "mimetype": "text/x-python",
   "name": "python",
   "nbconvert_exporter": "python",
   "pygments_lexer": "ipython3",
   "version": "3.10.12"
  }
 },
 "nbformat": 4,
 "nbformat_minor": 5
}
