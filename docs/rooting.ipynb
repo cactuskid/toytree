{
 "cells": [
  {
   "cell_type": "markdown",
   "id": "5bfa8aaa-a350-4b1d-930b-a5880ac533a7",
   "metadata": {},
   "source": [
    "# Rooting trees\n",
    "\n",
    "Rooting or re-rooting trees orients the direction of ancestor-descendant relationships and thus provides \"polarization\" for the direction of evolution. Most tree inference algorithms return an unrooted tree as a result, and it is up to the researcher to select the placement of the root based on external information (e.g., outgroup designation) or analytical methods (e.g., based on edge lengths; embedding into a species tree; or gene duplication patterns).\n",
    "\n",
    "This tutorial section provides background on how rooting or re-rooting affects a tree data structure and how to choose the edge and position on which to root a tree. It also clarifies several common misconceptions and sources of error during tree rooting."
   ]
  },
  {
   "cell_type": "code",
   "execution_count": 1,
   "id": "24377dfc-1272-4e3e-a256-7d1011ca65b6",
   "metadata": {},
   "outputs": [],
   "source": [
    "import toytree"
   ]
  },
  {
   "cell_type": "markdown",
   "id": "fcc423dc-a107-407b-a004-c8066300c8c2",
   "metadata": {},
   "source": [
    "<div class=\"admonition tip\">\n",
    "  <p class=\"admonition-title\">Take Home</p>\n",
    "  <p>\n",
    "      A tree can be manually rooted on an outgroup using <b>tree.root(...)</b>, or using one of several\n",
    "      algorithms to estimate the root placement. A tree can be unrooted using <b>tree.unroot()</b>.\n",
    "  </p>\n",
    "</div>"
   ]
  },
  {
   "cell_type": "markdown",
   "id": "95768eb2-2517-471d-bf45-bc531f34a763",
   "metadata": {},
   "source": [
    "A simple example of rooting or unrooting is demonstrated below."
   ]
  },
  {
   "cell_type": "code",
   "execution_count": 2,
   "id": "ba4bf6cc-d313-47d9-adb1-36546136fba3",
   "metadata": {},
   "outputs": [],
   "source": [
    "# an example tree with outgroup (r3,r4)\n",
    "tree = toytree.rtree.unittree(ntips=5, seed=123)\n",
    "\n",
    "# modify to make an unrooted tree \n",
    "utree = tree.unroot()\n",
    "\n",
    "# root the tree on its original outgroup\n",
    "rtree = utree.root(\"r3\", \"r4\")\n",
    "\n",
    "# or, root the tree on an alternative outgroup\n",
    "atree = rtree.root(\"r2\")"
   ]
  },
  {
   "attachments": {},
   "cell_type": "markdown",
   "id": "d430d77b-8e06-46e7-adef-2d87cc673fca",
   "metadata": {},
   "source": [
    "## The treenode\n",
    "All ToyTree objects contain a node that is designated the **treenode**, and which represents the top level `Node` object in the collection of nodes that make up the tree hierarchy. *This node exists in a tree whether it is rooted or unrooted.* We use the term *treenode* rather than *root node* to refer to this top level node, since it is not always a true root node, as in the case of an unrooted tree. This can be a confusing point, but understanding it will help to make clear what the process of tree rooting actually represents. It is a little more complex than simply moving or relabeling a node, as described for the three operations below.\n",
    "\n",
    "### Rooting\n",
    "When rooting an unrooted tree, a new node is inserted on an edge, splitting it into two (it helps me to think of it visually as pinching the edge and pulling it back to insert the node). The new node serves as the treenode. The number of nodes in the tree increases by 1. \n",
    "\n",
    "### Unrooting\n",
    "When unrooting a rooted tree, the current treenode is removed, and an existing node in the tree (the previous treenode's left child) is designated as the treenode. The number of nodes in the tree decreases by 1. \n",
    "\n",
    "### Re-rooting\n",
    "When re-rooting a rooted tree, the current treenode is removed and a new node is inserted on a different edge of the tree. The new node is assigned as the treenode. The number of nodes in the tree does not change."
   ]
  },
  {
   "cell_type": "markdown",
   "id": "5057e421-c18e-476b-a320-7804ee6e15ef",
   "metadata": {},
   "source": [
    "### Accessing the treenode\n",
    "The treenode can be accessed from a ToyTree from its `.treenode` attribute, or by indexing. Because it is always the last Node in idx order it can be indexed by -1. "
   ]
  },
  {
   "cell_type": "code",
   "execution_count": 3,
   "id": "63fb479c-154d-4ceb-bb2c-b05783647a27",
   "metadata": {},
   "outputs": [
    {
     "data": {
      "text/plain": [
       "<Node(idx=8)>"
      ]
     },
     "execution_count": 3,
     "metadata": {},
     "output_type": "execute_result"
    }
   ],
   "source": [
    "# the .treenode is the top-level node\n",
    "tree.treenode"
   ]
  },
  {
   "cell_type": "code",
   "execution_count": 4,
   "id": "6ea76c9e-357f-444a-b4e4-fc24cd3b17b3",
   "metadata": {},
   "outputs": [
    {
     "data": {
      "text/plain": [
       "<Node(idx=8)>"
      ]
     },
     "execution_count": 4,
     "metadata": {},
     "output_type": "execute_result"
    }
   ],
   "source": [
    "# it is also accessible as the last indexed node\n",
    "tree[-1]"
   ]
  },
  {
   "cell_type": "markdown",
   "id": "074a4d3d-293a-41c3-b350-fa88031ff4ab",
   "metadata": {},
   "source": [
    "## Rooting visualized\n",
    "You cannot verify that a tree is unrooted based simply on a visualization, since an unrooted tree can look the same as a rooted tree that contains a polytomy at its root. Thus, it is best practice to mention in a figure legend whether and how a tree is rooted. Another way of hinting that a tree is rooted versus unrooted is by using different tree layouts for visualization. This is demonstrated below.\n",
    "\n",
    "This first set of drawing uses the default linear down ('d') layout. This places the treenode at the top of the drawing, which makes it easy to interpret how far each other node is from the treenode. This style makes sense for interpreting rooted trees (left and right), but is misleading for the unrooted tree (middle), since it gives the impression visually that the tree is rooted at node 7. "
   ]
  },
  {
   "cell_type": "code",
   "execution_count": 5,
   "id": "cbba46f2-5df7-4bcd-a171-a09f5c318b71",
   "metadata": {},
   "outputs": [
    {
     "data": {
      "text/html": [
       "<div class=\"toyplot\" id=\"tfb47af3f1c5b45a1afca95c58962262f\" style=\"text-align:center\"><svg class=\"toyplot-canvas-Canvas\" xmlns:toyplot=\"http://www.sandia.gov/toyplot\" xmlns:xlink=\"http://www.w3.org/1999/xlink\" xmlns=\"http://www.w3.org/2000/svg\" width=\"675.0px\" height=\"250.0px\" viewBox=\"0 0 675.0 250.0\" preserveAspectRatio=\"xMidYMid meet\" style=\"background-color:transparent;border-color:#292724;border-style:none;border-width:1.0;fill:rgb(16.1%,15.3%,14.1%);fill-opacity:1.0;font-family:Helvetica;font-size:12px;opacity:1.0;stroke:rgb(16.1%,15.3%,14.1%);stroke-opacity:1.0;stroke-width:1.0\" id=\"t333e614ca94443419634ebad9c608211\"><g class=\"toyplot-coordinates-Cartesian\" id=\"tb8834caf7f1544c9a8855dc628ce5772\"><clipPath id=\"tb448d403d4a14799a5858c392656935c\"><rect x=\"20.0\" y=\"40.0\" width=\"205.0\" height=\"170.0\"></rect></clipPath><g clip-path=\"url(#tb448d403d4a14799a5858c392656935c)\"><g class=\"toytree-mark-Toytree\" id=\"t3985c863b4ec4179ae41bc6fca640177\"><g class=\"toytree-Edges\" style=\"stroke:rgb(14.5%,14.5%,14.5%);stroke-opacity:1.0;stroke-linecap:round;stroke-width:2.0;fill:none\"><path d=\"M 59.0 132.9 L 37.8 171.1\" id=\"5,0\" style=\"\"></path><path d=\"M 59.0 132.9 L 80.1 171.1\" id=\"5,1\" style=\"\"></path><path d=\"M 90.7 94.7 L 122.5 171.1\" id=\"6,2\" style=\"\"></path><path d=\"M 186.0 94.7 L 164.9 171.1\" id=\"7,3\" style=\"\"></path><path d=\"M 186.0 94.7 L 207.2 171.1\" id=\"7,4\" style=\"\"></path><path d=\"M 90.7 94.7 L 59.0 132.9\" id=\"6,5\" style=\"\"></path><path d=\"M 138.4 56.5 L 90.7 94.7\" id=\"8,6\" style=\"\"></path><path d=\"M 138.4 56.5 L 186.0 94.7\" id=\"8,7\" style=\"\"></path></g><g class=\"toytree-AdmixEdges\" style=\"fill:rgb(0.0%,0.0%,0.0%);fill-opacity:0.0;stroke:rgb(90.6%,54.1%,76.5%);stroke-opacity:0.6;font-size:14px;stroke-linecap:round;stroke-width:5\"></g><g class=\"toytree-Nodes\" style=\"fill:rgb(40.0%,76.1%,64.7%);fill-opacity:1.0;stroke:rgb(14.5%,14.5%,14.5%);stroke-opacity:1.0;stroke-width:1.0\"><g id=\"Node-0\" transform=\"translate(37.7847,171.128)\"><circle r=\"7.5\"></circle></g><g id=\"Node-1\" transform=\"translate(80.1423,171.128)\"><circle r=\"7.5\"></circle></g><g id=\"Node-2\" transform=\"translate(122.5,171.128)\"><circle r=\"7.5\"></circle></g><g id=\"Node-3\" transform=\"translate(164.858,171.128)\"><circle r=\"7.5\"></circle></g><g id=\"Node-4\" transform=\"translate(207.215,171.128)\"><circle r=\"7.5\"></circle></g><g id=\"Node-5\" transform=\"translate(58.9635,132.917)\"><circle r=\"7.5\"></circle></g><g id=\"Node-6\" transform=\"translate(90.7317,94.7065)\"><circle r=\"7.5\"></circle></g><g id=\"Node-7\" transform=\"translate(186.037,94.7065)\"><circle r=\"7.5\"></circle></g><g id=\"Node-8\" transform=\"translate(138.384,56.4958)\"><circle r=\"7.5\"></circle></g></g><g class=\"toytree-NodeLabels\" style=\"font-family:Helvetica;font-size:9px;font-weight:300;vertical-align:baseline;white-space:pre;stroke:none\"><g class=\"toytree-NodeLabel\" transform=\"translate(37.7847,171.128)\"><text x=\"-2.5020000000000002\" y=\"2.2995\" style=\"fill:rgb(14.5%,14.5%,14.5%);fill-opacity:1.0\">0</text></g><g class=\"toytree-NodeLabel\" transform=\"translate(80.1423,171.128)\"><text x=\"-2.5020000000000002\" y=\"2.2995\" style=\"fill:rgb(14.5%,14.5%,14.5%);fill-opacity:1.0\">1</text></g><g class=\"toytree-NodeLabel\" transform=\"translate(122.5,171.128)\"><text x=\"-2.5020000000000002\" y=\"2.2995\" style=\"fill:rgb(14.5%,14.5%,14.5%);fill-opacity:1.0\">2</text></g><g class=\"toytree-NodeLabel\" transform=\"translate(164.858,171.128)\"><text x=\"-2.5020000000000002\" y=\"2.2995\" style=\"fill:rgb(14.5%,14.5%,14.5%);fill-opacity:1.0\">3</text></g><g class=\"toytree-NodeLabel\" transform=\"translate(207.215,171.128)\"><text x=\"-2.5020000000000002\" y=\"2.2995\" style=\"fill:rgb(14.5%,14.5%,14.5%);fill-opacity:1.0\">4</text></g><g class=\"toytree-NodeLabel\" transform=\"translate(58.9635,132.917)\"><text x=\"-2.5020000000000002\" y=\"2.2995\" style=\"fill:rgb(14.5%,14.5%,14.5%);fill-opacity:1.0\">5</text></g><g class=\"toytree-NodeLabel\" transform=\"translate(90.7317,94.7065)\"><text x=\"-2.5020000000000002\" y=\"2.2995\" style=\"fill:rgb(14.5%,14.5%,14.5%);fill-opacity:1.0\">6</text></g><g class=\"toytree-NodeLabel\" transform=\"translate(186.037,94.7065)\"><text x=\"-2.5020000000000002\" y=\"2.2995\" style=\"fill:rgb(14.5%,14.5%,14.5%);fill-opacity:1.0\">7</text></g><g class=\"toytree-NodeLabel\" transform=\"translate(138.384,56.4958)\"><text x=\"-2.5020000000000002\" y=\"2.2995\" style=\"fill:rgb(14.5%,14.5%,14.5%);fill-opacity:1.0\">8</text></g></g><g class=\"toytree-TipLabels\" style=\"fill:rgb(14.5%,14.5%,14.5%);fill-opacity:1.0;font-family:Helvetica;font-size:10px;font-weight:300;vertical-align:baseline;white-space:pre;stroke:none\"><g class=\"toytree-TipLabel\" transform=\"translate(37.7847,171.128)rotate(90)\"><text x=\"10.0\" y=\"2.5549999999999997\" style=\"fill:rgb(14.5%,14.5%,14.5%);fill-opacity:1.0\">r0</text></g><g class=\"toytree-TipLabel\" transform=\"translate(80.1423,171.128)rotate(90)\"><text x=\"10.0\" y=\"2.5549999999999997\" style=\"fill:rgb(14.5%,14.5%,14.5%);fill-opacity:1.0\">r1</text></g><g class=\"toytree-TipLabel\" transform=\"translate(122.5,171.128)rotate(90)\"><text x=\"10.0\" y=\"2.5549999999999997\" style=\"fill:rgb(14.5%,14.5%,14.5%);fill-opacity:1.0\">r2</text></g><g class=\"toytree-TipLabel\" transform=\"translate(164.858,171.128)rotate(90)\"><text x=\"10.0\" y=\"2.5549999999999997\" style=\"fill:rgb(14.5%,14.5%,14.5%);fill-opacity:1.0\">r3</text></g><g class=\"toytree-TipLabel\" transform=\"translate(207.215,171.128)rotate(90)\"><text x=\"10.0\" y=\"2.5549999999999997\" style=\"fill:rgb(14.5%,14.5%,14.5%);fill-opacity:1.0\">r4</text></g></g></g></g><g transform=\"translate(122.5,42.0)\"><text x=\"-36.561\" y=\"-4.823\" style=\"fill:rgb(16.1%,15.3%,14.1%);fill-opacity:1.0;font-family:helvetica;font-size:14.0px;font-weight:bold;stroke:none;vertical-align:baseline;white-space:pre\">rooted tree</text></g></g><g class=\"toyplot-coordinates-Cartesian\" id=\"t5f5b3cdd23da4ad2b546caa0ab674d1e\"><clipPath id=\"t3c4b176826934b77a17c72756bade351\"><rect x=\"245.0\" y=\"40.0\" width=\"205.0\" height=\"170.0\"></rect></clipPath><g clip-path=\"url(#t3c4b176826934b77a17c72756bade351)\"><g class=\"toytree-mark-Toytree\" id=\"t9fb3c5501006444baca9a7aaad7cda33\"><g class=\"toytree-Edges\" style=\"stroke:rgb(14.5%,14.5%,14.5%);stroke-opacity:1.0;stroke-linecap:round;stroke-width:2.0;fill:none\"><path d=\"M 284.0 85.2 L 262.8 113.8\" id=\"5,0\" style=\"\"></path><path d=\"M 284.0 85.2 L 305.1 113.8\" id=\"5,1\" style=\"\"></path><path d=\"M 347.5 56.5 L 347.5 113.8\" id=\"7,2\" style=\"\"></path><path d=\"M 411.0 113.8 L 389.9 171.1\" id=\"6,3\" style=\"\"></path><path d=\"M 411.0 113.8 L 432.2 171.1\" id=\"6,4\" style=\"\"></path><path d=\"M 347.5 56.5 L 284.0 85.2\" id=\"7,5\" style=\"\"></path><path d=\"M 347.5 56.5 L 411.0 113.8\" id=\"7,6\" style=\"\"></path></g><g class=\"toytree-AdmixEdges\" style=\"fill:rgb(0.0%,0.0%,0.0%);fill-opacity:0.0;stroke:rgb(90.6%,54.1%,76.5%);stroke-opacity:0.6;font-size:14px;stroke-linecap:round;stroke-width:5\"></g><g class=\"toytree-Nodes\" style=\"fill:rgb(40.0%,76.1%,64.7%);fill-opacity:1.0;stroke:rgb(14.5%,14.5%,14.5%);stroke-opacity:1.0;stroke-width:1.0\"><g id=\"Node-0\" transform=\"translate(262.785,113.812)\"><circle r=\"7.5\"></circle></g><g id=\"Node-1\" transform=\"translate(305.142,113.812)\"><circle r=\"7.5\"></circle></g><g id=\"Node-2\" transform=\"translate(347.5,113.812)\"><circle r=\"7.5\"></circle></g><g id=\"Node-3\" transform=\"translate(389.858,171.128)\"><circle r=\"7.5\"></circle></g><g id=\"Node-4\" transform=\"translate(432.215,171.128)\"><circle r=\"7.5\"></circle></g><g id=\"Node-5\" transform=\"translate(283.963,85.1539)\"><circle r=\"7.5\"></circle></g><g id=\"Node-6\" transform=\"translate(411.037,113.812)\"><circle r=\"7.5\"></circle></g><g id=\"Node-7\" transform=\"translate(347.5,56.4958)\"><circle r=\"7.5\"></circle></g></g><g class=\"toytree-NodeLabels\" style=\"font-family:Helvetica;font-size:9px;font-weight:300;vertical-align:baseline;white-space:pre;stroke:none\"><g class=\"toytree-NodeLabel\" transform=\"translate(262.785,113.812)\"><text x=\"-2.5020000000000002\" y=\"2.2995\" style=\"fill:rgb(14.5%,14.5%,14.5%);fill-opacity:1.0\">0</text></g><g class=\"toytree-NodeLabel\" transform=\"translate(305.142,113.812)\"><text x=\"-2.5020000000000002\" y=\"2.2995\" style=\"fill:rgb(14.5%,14.5%,14.5%);fill-opacity:1.0\">1</text></g><g class=\"toytree-NodeLabel\" transform=\"translate(347.5,113.812)\"><text x=\"-2.5020000000000002\" y=\"2.2995\" style=\"fill:rgb(14.5%,14.5%,14.5%);fill-opacity:1.0\">2</text></g><g class=\"toytree-NodeLabel\" transform=\"translate(389.858,171.128)\"><text x=\"-2.5020000000000002\" y=\"2.2995\" style=\"fill:rgb(14.5%,14.5%,14.5%);fill-opacity:1.0\">3</text></g><g class=\"toytree-NodeLabel\" transform=\"translate(432.215,171.128)\"><text x=\"-2.5020000000000002\" y=\"2.2995\" style=\"fill:rgb(14.5%,14.5%,14.5%);fill-opacity:1.0\">4</text></g><g class=\"toytree-NodeLabel\" transform=\"translate(283.963,85.1539)\"><text x=\"-2.5020000000000002\" y=\"2.2995\" style=\"fill:rgb(14.5%,14.5%,14.5%);fill-opacity:1.0\">5</text></g><g class=\"toytree-NodeLabel\" transform=\"translate(411.037,113.812)\"><text x=\"-2.5020000000000002\" y=\"2.2995\" style=\"fill:rgb(14.5%,14.5%,14.5%);fill-opacity:1.0\">6</text></g><g class=\"toytree-NodeLabel\" transform=\"translate(347.5,56.4958)\"><text x=\"-2.5020000000000002\" y=\"2.2995\" style=\"fill:rgb(14.5%,14.5%,14.5%);fill-opacity:1.0\">7</text></g></g><g class=\"toytree-TipLabels\" style=\"fill:rgb(14.5%,14.5%,14.5%);fill-opacity:1.0;font-family:Helvetica;font-size:10px;font-weight:300;vertical-align:baseline;white-space:pre;stroke:none\"><g class=\"toytree-TipLabel\" transform=\"translate(262.785,113.812)rotate(90)\"><text x=\"10.0\" y=\"2.5549999999999997\" style=\"fill:rgb(14.5%,14.5%,14.5%);fill-opacity:1.0\">r0</text></g><g class=\"toytree-TipLabel\" transform=\"translate(305.142,113.812)rotate(90)\"><text x=\"10.0\" y=\"2.5549999999999997\" style=\"fill:rgb(14.5%,14.5%,14.5%);fill-opacity:1.0\">r1</text></g><g class=\"toytree-TipLabel\" transform=\"translate(347.5,113.812)rotate(90)\"><text x=\"10.0\" y=\"2.5549999999999997\" style=\"fill:rgb(14.5%,14.5%,14.5%);fill-opacity:1.0\">r2</text></g><g class=\"toytree-TipLabel\" transform=\"translate(389.858,171.128)rotate(90)\"><text x=\"10.0\" y=\"2.5549999999999997\" style=\"fill:rgb(14.5%,14.5%,14.5%);fill-opacity:1.0\">r3</text></g><g class=\"toytree-TipLabel\" transform=\"translate(432.215,171.128)rotate(90)\"><text x=\"10.0\" y=\"2.5549999999999997\" style=\"fill:rgb(14.5%,14.5%,14.5%);fill-opacity:1.0\">r4</text></g></g></g></g><g transform=\"translate(347.5,42.0)\"><text x=\"-45.115\" y=\"-4.823\" style=\"fill:rgb(16.1%,15.3%,14.1%);fill-opacity:1.0;font-family:helvetica;font-size:14.0px;font-weight:bold;stroke:none;vertical-align:baseline;white-space:pre\">unrooted tree</text></g></g><g class=\"toyplot-coordinates-Cartesian\" id=\"tbb8a0a55d69a4b46b196b9ae0c8c3959\"><clipPath id=\"tddb4e02c6a9949dab073646288bf75e1\"><rect x=\"470.0\" y=\"40.0\" width=\"205.0\" height=\"170.0\"></rect></clipPath><g clip-path=\"url(#tddb4e02c6a9949dab073646288bf75e1)\"><g class=\"toytree-mark-Toytree\" id=\"tf1e1a9effd9741aba39eddfdf277ef84\"><g class=\"toytree-Edges\" style=\"stroke:rgb(14.5%,14.5%,14.5%);stroke-opacity:1.0;stroke-linecap:round;stroke-width:2.0;fill:none\"><path d=\"M 540.7 56.5 L 487.8 79.4\" id=\"8,0\" style=\"\"></path><path d=\"M 551.3 102.3 L 530.1 125.3\" id=\"5,1\" style=\"\"></path><path d=\"M 551.3 102.3 L 572.5 125.3\" id=\"5,2\" style=\"\"></path><path d=\"M 636.0 125.3 L 614.9 171.1\" id=\"6,3\" style=\"\"></path><path d=\"M 636.0 125.3 L 657.2 171.1\" id=\"6,4\" style=\"\"></path><path d=\"M 593.7 79.4 L 551.3 102.3\" id=\"7,5\" style=\"\"></path><path d=\"M 593.7 79.4 L 636.0 125.3\" id=\"7,6\" style=\"\"></path><path d=\"M 540.7 56.5 L 593.7 79.4\" id=\"8,7\" style=\"\"></path></g><g class=\"toytree-AdmixEdges\" style=\"fill:rgb(0.0%,0.0%,0.0%);fill-opacity:0.0;stroke:rgb(90.6%,54.1%,76.5%);stroke-opacity:0.6;font-size:14px;stroke-linecap:round;stroke-width:5\"></g><g class=\"toytree-Nodes\" style=\"fill:rgb(40.0%,76.1%,64.7%);fill-opacity:1.0;stroke:rgb(14.5%,14.5%,14.5%);stroke-opacity:1.0;stroke-width:1.0\"><g id=\"Node-0\" transform=\"translate(487.785,79.4223)\"><circle r=\"7.5\"></circle></g><g id=\"Node-1\" transform=\"translate(530.142,125.275)\"><circle r=\"7.5\"></circle></g><g id=\"Node-2\" transform=\"translate(572.5,125.275)\"><circle r=\"7.5\"></circle></g><g id=\"Node-3\" transform=\"translate(614.858,171.128)\"><circle r=\"7.5\"></circle></g><g id=\"Node-4\" transform=\"translate(657.215,171.128)\"><circle r=\"7.5\"></circle></g><g id=\"Node-5\" transform=\"translate(551.321,102.349)\"><circle r=\"7.5\"></circle></g><g id=\"Node-6\" transform=\"translate(636.037,125.275)\"><circle r=\"7.5\"></circle></g><g id=\"Node-7\" transform=\"translate(593.679,79.4223)\"><circle r=\"7.5\"></circle></g><g id=\"Node-8\" transform=\"translate(540.732,56.4958)\"><circle r=\"7.5\"></circle></g></g><g class=\"toytree-NodeLabels\" style=\"font-family:Helvetica;font-size:9px;font-weight:300;vertical-align:baseline;white-space:pre;stroke:none\"><g class=\"toytree-NodeLabel\" transform=\"translate(487.785,79.4223)\"><text x=\"-2.5020000000000002\" y=\"2.2995\" style=\"fill:rgb(14.5%,14.5%,14.5%);fill-opacity:1.0\">0</text></g><g class=\"toytree-NodeLabel\" transform=\"translate(530.142,125.275)\"><text x=\"-2.5020000000000002\" y=\"2.2995\" style=\"fill:rgb(14.5%,14.5%,14.5%);fill-opacity:1.0\">1</text></g><g class=\"toytree-NodeLabel\" transform=\"translate(572.5,125.275)\"><text x=\"-2.5020000000000002\" y=\"2.2995\" style=\"fill:rgb(14.5%,14.5%,14.5%);fill-opacity:1.0\">2</text></g><g class=\"toytree-NodeLabel\" transform=\"translate(614.858,171.128)\"><text x=\"-2.5020000000000002\" y=\"2.2995\" style=\"fill:rgb(14.5%,14.5%,14.5%);fill-opacity:1.0\">3</text></g><g class=\"toytree-NodeLabel\" transform=\"translate(657.215,171.128)\"><text x=\"-2.5020000000000002\" y=\"2.2995\" style=\"fill:rgb(14.5%,14.5%,14.5%);fill-opacity:1.0\">4</text></g><g class=\"toytree-NodeLabel\" transform=\"translate(551.321,102.349)\"><text x=\"-2.5020000000000002\" y=\"2.2995\" style=\"fill:rgb(14.5%,14.5%,14.5%);fill-opacity:1.0\">5</text></g><g class=\"toytree-NodeLabel\" transform=\"translate(636.037,125.275)\"><text x=\"-2.5020000000000002\" y=\"2.2995\" style=\"fill:rgb(14.5%,14.5%,14.5%);fill-opacity:1.0\">6</text></g><g class=\"toytree-NodeLabel\" transform=\"translate(593.679,79.4223)\"><text x=\"-2.5020000000000002\" y=\"2.2995\" style=\"fill:rgb(14.5%,14.5%,14.5%);fill-opacity:1.0\">7</text></g><g class=\"toytree-NodeLabel\" transform=\"translate(540.732,56.4958)\"><text x=\"-2.5020000000000002\" y=\"2.2995\" style=\"fill:rgb(14.5%,14.5%,14.5%);fill-opacity:1.0\">8</text></g></g><g class=\"toytree-TipLabels\" style=\"fill:rgb(14.5%,14.5%,14.5%);fill-opacity:1.0;font-family:Helvetica;font-size:10px;font-weight:300;vertical-align:baseline;white-space:pre;stroke:none\"><g class=\"toytree-TipLabel\" transform=\"translate(487.785,79.4223)rotate(90)\"><text x=\"10.0\" y=\"2.5549999999999997\" style=\"fill:rgb(14.5%,14.5%,14.5%);fill-opacity:1.0\">r2</text></g><g class=\"toytree-TipLabel\" transform=\"translate(530.142,125.275)rotate(90)\"><text x=\"10.0\" y=\"2.5549999999999997\" style=\"fill:rgb(14.5%,14.5%,14.5%);fill-opacity:1.0\">r0</text></g><g class=\"toytree-TipLabel\" transform=\"translate(572.5,125.275)rotate(90)\"><text x=\"10.0\" y=\"2.5549999999999997\" style=\"fill:rgb(14.5%,14.5%,14.5%);fill-opacity:1.0\">r1</text></g><g class=\"toytree-TipLabel\" transform=\"translate(614.858,171.128)rotate(90)\"><text x=\"10.0\" y=\"2.5549999999999997\" style=\"fill:rgb(14.5%,14.5%,14.5%);fill-opacity:1.0\">r3</text></g><g class=\"toytree-TipLabel\" transform=\"translate(657.215,171.128)rotate(90)\"><text x=\"10.0\" y=\"2.5549999999999997\" style=\"fill:rgb(14.5%,14.5%,14.5%);fill-opacity:1.0\">r4</text></g></g></g></g><g transform=\"translate(572.5,42.0)\"><text x=\"-46.675999999999995\" y=\"-4.823\" style=\"fill:rgb(16.1%,15.3%,14.1%);fill-opacity:1.0;font-family:helvetica;font-size:14.0px;font-weight:bold;stroke:none;vertical-align:baseline;white-space:pre\">alt rooted tree</text></g></g></svg><div class=\"toyplot-behavior\"><script>(function()\n",
       "{\n",
       "var modules={};\n",
       "})();</script></div></div>"
      ]
     },
     "metadata": {},
     "output_type": "display_data"
    }
   ],
   "source": [
    "# draw the trees rooted\n",
    "c, a, m = toytree.mtree([tree, utree, atree]).draw(ts='p', layout='d');\n",
    "a[0].label.text = \"rooted tree\"\n",
    "a[1].label.text = \"unrooted tree\"\n",
    "a[2].label.text = \"alt rooted tree\""
   ]
  },
  {
   "cell_type": "markdown",
   "id": "dcbafa92-ec75-4204-8bec-78dcb94405df",
   "metadata": {},
   "source": [
    "The drawings below show the same trees but using the unrooted/undirected ('un') layout. This places the treenode near the center and projects edges away from it in a way that minimizes overlaps. You can more clearly see by comparing the three trees in this layout that the structure (topology) of the tree does not change during rooting. The only difference between the middle and two outer drawings is the addition of an extra node (node 8) that is inserted either between nodes 6 and 7 on the left tree, or between nodes 0 and 7 on the right tree (note: node idx labels change between trees with different rootings). An undirected  layout would typically be used to visualize an unrooted tree (middle) but is not the most informative for rooted trees, since it is harder to interpret the distances of nodes from the root."
   ]
  },
  {
   "cell_type": "code",
   "execution_count": 6,
   "id": "28ed3c58-3f7f-45ce-b8da-db59e1e03700",
   "metadata": {},
   "outputs": [
    {
     "data": {
      "text/html": [
       "<div class=\"toyplot\" id=\"t884ec4342c904806bd6c58d5da8f3b5d\" style=\"text-align:center\"><svg class=\"toyplot-canvas-Canvas\" xmlns:toyplot=\"http://www.sandia.gov/toyplot\" xmlns:xlink=\"http://www.w3.org/1999/xlink\" xmlns=\"http://www.w3.org/2000/svg\" width=\"675.0px\" height=\"250.0px\" viewBox=\"0 0 675.0 250.0\" preserveAspectRatio=\"xMidYMid meet\" style=\"background-color:transparent;border-color:#292724;border-style:none;border-width:1.0;fill:rgb(16.1%,15.3%,14.1%);fill-opacity:1.0;font-family:Helvetica;font-size:12px;opacity:1.0;stroke:rgb(16.1%,15.3%,14.1%);stroke-opacity:1.0;stroke-width:1.0\" id=\"tb1229988726e47228ad4e28e323caf25\"><g class=\"toyplot-coordinates-Cartesian\" id=\"tea9610fc3de64110892e05f5b5e364e2\"><clipPath id=\"tb6b7ec906a37498fb0fbf70520ef1eb6\"><rect x=\"20.0\" y=\"40.0\" width=\"205.0\" height=\"170.0\"></rect></clipPath><g clip-path=\"url(#tb6b7ec906a37498fb0fbf70520ef1eb6)\"><g class=\"toytree-mark-Toytree\" id=\"t6ce131f6fa5b469fa2626bd212195cd2\"><g class=\"toytree-Edges\" style=\"stroke:rgb(14.5%,14.5%,14.5%);stroke-opacity:1.0;stroke-linecap:round;stroke-width:2.0;fill:none\"><path d=\"M 176.5 110.0 L 198.7 124.7\" id=\"5,0\" style=\"\"></path><path d=\"M 176.5 110.0 L 197.3 94.0\" id=\"5,1\" style=\"\"></path><path d=\"M 147.3 108.0 L 128.0 65.1\" id=\"6,2\" style=\"\"></path><path d=\"M 104.5 139.0 L 46.2 134.6\" id=\"7,3\" style=\"\"></path><path d=\"M 104.5 139.0 L 107.4 184.3\" id=\"7,4\" style=\"\"></path><path d=\"M 147.3 108.0 L 176.5 110.0\" id=\"6,5\" style=\"\"></path><path d=\"M 125.6 123.2 L 147.3 108.0\" id=\"8,6\" style=\"\"></path><path d=\"M 125.6 123.2 L 104.5 139.0\" id=\"8,7\" style=\"\"></path></g><g class=\"toytree-AdmixEdges\" style=\"fill:rgb(0.0%,0.0%,0.0%);fill-opacity:0.0;stroke:rgb(90.6%,54.1%,76.5%);stroke-opacity:0.6;font-size:14px;stroke-linecap:round;stroke-width:5\"></g><g class=\"toytree-Nodes\" style=\"fill:rgb(40.0%,76.1%,64.7%);fill-opacity:1.0;stroke:rgb(14.5%,14.5%,14.5%);stroke-opacity:1.0;stroke-width:1.0\"><g id=\"Node-0\" transform=\"translate(198.727,124.713)\"><circle r=\"7.5\"></circle></g><g id=\"Node-1\" transform=\"translate(197.27,94.021)\"><circle r=\"7.5\"></circle></g><g id=\"Node-2\" transform=\"translate(127.965,65.148)\"><circle r=\"7.5\"></circle></g><g id=\"Node-3\" transform=\"translate(46.2136,134.643)\"><circle r=\"7.5\"></circle></g><g id=\"Node-4\" transform=\"translate(107.383,184.306)\"><circle r=\"7.5\"></circle></g><g id=\"Node-5\" transform=\"translate(176.454,109.98)\"><circle r=\"7.5\"></circle></g><g id=\"Node-6\" transform=\"translate(147.274,107.977)\"><circle r=\"7.5\"></circle></g><g id=\"Node-7\" transform=\"translate(104.532,138.997)\"><circle r=\"7.5\"></circle></g><g id=\"Node-8\" transform=\"translate(125.611,123.245)\"><circle r=\"7.5\"></circle></g></g><g class=\"toytree-NodeLabels\" style=\"font-family:Helvetica;font-size:9px;font-weight:300;vertical-align:baseline;white-space:pre;stroke:none\"><g class=\"toytree-NodeLabel\" transform=\"translate(198.727,124.713)\"><text x=\"-2.5020000000000002\" y=\"2.2995\" style=\"fill:rgb(14.5%,14.5%,14.5%);fill-opacity:1.0\">0</text></g><g class=\"toytree-NodeLabel\" transform=\"translate(197.27,94.021)\"><text x=\"-2.5020000000000002\" y=\"2.2995\" style=\"fill:rgb(14.5%,14.5%,14.5%);fill-opacity:1.0\">1</text></g><g class=\"toytree-NodeLabel\" transform=\"translate(127.965,65.148)\"><text x=\"-2.5020000000000002\" y=\"2.2995\" style=\"fill:rgb(14.5%,14.5%,14.5%);fill-opacity:1.0\">2</text></g><g class=\"toytree-NodeLabel\" transform=\"translate(46.2136,134.643)\"><text x=\"-2.5020000000000002\" y=\"2.2995\" style=\"fill:rgb(14.5%,14.5%,14.5%);fill-opacity:1.0\">3</text></g><g class=\"toytree-NodeLabel\" transform=\"translate(107.383,184.306)\"><text x=\"-2.5020000000000002\" y=\"2.2995\" style=\"fill:rgb(14.5%,14.5%,14.5%);fill-opacity:1.0\">4</text></g><g class=\"toytree-NodeLabel\" transform=\"translate(176.454,109.98)\"><text x=\"-2.5020000000000002\" y=\"2.2995\" style=\"fill:rgb(14.5%,14.5%,14.5%);fill-opacity:1.0\">5</text></g><g class=\"toytree-NodeLabel\" transform=\"translate(147.274,107.977)\"><text x=\"-2.5020000000000002\" y=\"2.2995\" style=\"fill:rgb(14.5%,14.5%,14.5%);fill-opacity:1.0\">6</text></g><g class=\"toytree-NodeLabel\" transform=\"translate(104.532,138.997)\"><text x=\"-2.5020000000000002\" y=\"2.2995\" style=\"fill:rgb(14.5%,14.5%,14.5%);fill-opacity:1.0\">7</text></g><g class=\"toytree-NodeLabel\" transform=\"translate(125.611,123.245)\"><text x=\"-2.5020000000000002\" y=\"2.2995\" style=\"fill:rgb(14.5%,14.5%,14.5%);fill-opacity:1.0\">8</text></g></g><g class=\"toytree-TipLabels\" style=\"fill:rgb(14.5%,14.5%,14.5%);fill-opacity:1.0;font-family:Helvetica;font-size:10px;font-weight:300;vertical-align:baseline;white-space:pre;stroke:none\"><g class=\"toytree-TipLabel\" transform=\"translate(198.727,124.713)rotate(22.7879)\"><text x=\"10.0\" y=\"2.5549999999999997\" style=\"fill:rgb(14.5%,14.5%,14.5%);fill-opacity:1.0\">r0</text></g><g class=\"toytree-TipLabel\" transform=\"translate(197.27,94.021)rotate(-19.8254)\"><text x=\"10.0\" y=\"2.5549999999999997\" style=\"fill:rgb(14.5%,14.5%,14.5%);fill-opacity:1.0\">r1</text></g><g class=\"toytree-TipLabel\" transform=\"translate(127.965,65.148)rotate(-88.2031)\"><text x=\"10.0\" y=\"2.5549999999999997\" style=\"fill:rgb(14.5%,14.5%,14.5%);fill-opacity:1.0\">r2</text></g><g class=\"toytree-TipLabel\" transform=\"translate(46.2136,134.643)rotate(-10.5041)\"><text x=\"-18.89\" y=\"2.5549999999999997\" style=\"fill:rgb(14.5%,14.5%,14.5%);fill-opacity:1.0\">r3</text></g><g class=\"toytree-TipLabel\" transform=\"translate(107.383,184.306)rotate(-76.9859)\"><text x=\"-18.89\" y=\"2.5549999999999997\" style=\"fill:rgb(14.5%,14.5%,14.5%);fill-opacity:1.0\">r4</text></g></g></g></g><g transform=\"translate(122.5,42.0)\"><text x=\"-36.561\" y=\"-4.823\" style=\"fill:rgb(16.1%,15.3%,14.1%);fill-opacity:1.0;font-family:helvetica;font-size:14.0px;font-weight:bold;stroke:none;vertical-align:baseline;white-space:pre\">rooted tree</text></g></g><g class=\"toyplot-coordinates-Cartesian\" id=\"t4bfcb6fead804fdf9b556a49331a7d10\"><clipPath id=\"t3b8f5edf5bae456e873a7e1898709bf9\"><rect x=\"245.0\" y=\"40.0\" width=\"205.0\" height=\"170.0\"></rect></clipPath><g clip-path=\"url(#t3b8f5edf5bae456e873a7e1898709bf9)\"><g class=\"toytree-mark-Toytree\" id=\"t63196aca005d4ba995a724855b432c29\"><g class=\"toytree-Edges\" style=\"stroke:rgb(14.5%,14.5%,14.5%);stroke-opacity:1.0;stroke-linecap:round;stroke-width:2.0;fill:none\"><path d=\"M 401.9 111.0 L 423.8 126.1\" id=\"5,0\" style=\"\"></path><path d=\"M 401.9 111.0 L 423.0 95.3\" id=\"5,1\" style=\"\"></path><path d=\"M 372.8 108.8 L 354.5 65.7\" id=\"7,2\" style=\"\"></path><path d=\"M 329.4 139.0 L 271.3 133.8\" id=\"6,3\" style=\"\"></path><path d=\"M 329.4 139.0 L 331.1 184.4\" id=\"6,4\" style=\"\"></path><path d=\"M 372.8 108.8 L 401.9 111.0\" id=\"7,5\" style=\"\"></path><path d=\"M 372.8 108.8 L 329.4 139.0\" id=\"7,6\" style=\"\"></path></g><g class=\"toytree-AdmixEdges\" style=\"fill:rgb(0.0%,0.0%,0.0%);fill-opacity:0.0;stroke:rgb(90.6%,54.1%,76.5%);stroke-opacity:0.6;font-size:14px;stroke-linecap:round;stroke-width:5\"></g><g class=\"toytree-Nodes\" style=\"fill:rgb(40.0%,76.1%,64.7%);fill-opacity:1.0;stroke:rgb(14.5%,14.5%,14.5%);stroke-opacity:1.0;stroke-width:1.0\"><g id=\"Node-0\" transform=\"translate(423.759,126.061)\"><circle r=\"7.5\"></circle></g><g id=\"Node-1\" transform=\"translate(422.982,95.3329)\"><circle r=\"7.5\"></circle></g><g id=\"Node-2\" transform=\"translate(354.515,65.6839)\"><circle r=\"7.5\"></circle></g><g id=\"Node-3\" transform=\"translate(271.33,133.831)\"><circle r=\"7.5\"></circle></g><g id=\"Node-4\" transform=\"translate(331.104,184.389)\"><circle r=\"7.5\"></circle></g><g id=\"Node-5\" transform=\"translate(401.894,111.024)\"><circle r=\"7.5\"></circle></g><g id=\"Node-6\" transform=\"translate(329.35,139.044)\"><circle r=\"7.5\"></circle></g><g id=\"Node-7\" transform=\"translate(372.837,108.76)\"><circle r=\"7.5\"></circle></g></g><g class=\"toytree-NodeLabels\" style=\"font-family:Helvetica;font-size:9px;font-weight:300;vertical-align:baseline;white-space:pre;stroke:none\"><g class=\"toytree-NodeLabel\" transform=\"translate(423.759,126.061)\"><text x=\"-2.5020000000000002\" y=\"2.2995\" style=\"fill:rgb(14.5%,14.5%,14.5%);fill-opacity:1.0\">0</text></g><g class=\"toytree-NodeLabel\" transform=\"translate(422.982,95.3329)\"><text x=\"-2.5020000000000002\" y=\"2.2995\" style=\"fill:rgb(14.5%,14.5%,14.5%);fill-opacity:1.0\">1</text></g><g class=\"toytree-NodeLabel\" transform=\"translate(354.515,65.6839)\"><text x=\"-2.5020000000000002\" y=\"2.2995\" style=\"fill:rgb(14.5%,14.5%,14.5%);fill-opacity:1.0\">2</text></g><g class=\"toytree-NodeLabel\" transform=\"translate(271.33,133.831)\"><text x=\"-2.5020000000000002\" y=\"2.2995\" style=\"fill:rgb(14.5%,14.5%,14.5%);fill-opacity:1.0\">3</text></g><g class=\"toytree-NodeLabel\" transform=\"translate(331.104,184.389)\"><text x=\"-2.5020000000000002\" y=\"2.2995\" style=\"fill:rgb(14.5%,14.5%,14.5%);fill-opacity:1.0\">4</text></g><g class=\"toytree-NodeLabel\" transform=\"translate(401.894,111.024)\"><text x=\"-2.5020000000000002\" y=\"2.2995\" style=\"fill:rgb(14.5%,14.5%,14.5%);fill-opacity:1.0\">5</text></g><g class=\"toytree-NodeLabel\" transform=\"translate(329.35,139.044)\"><text x=\"-2.5020000000000002\" y=\"2.2995\" style=\"fill:rgb(14.5%,14.5%,14.5%);fill-opacity:1.0\">6</text></g><g class=\"toytree-NodeLabel\" transform=\"translate(372.837,108.76)\"><text x=\"-2.5020000000000002\" y=\"2.2995\" style=\"fill:rgb(14.5%,14.5%,14.5%);fill-opacity:1.0\">7</text></g></g><g class=\"toytree-TipLabels\" style=\"fill:rgb(14.5%,14.5%,14.5%);fill-opacity:1.0;font-family:Helvetica;font-size:10px;font-weight:300;vertical-align:baseline;white-space:pre;stroke:none\"><g class=\"toytree-TipLabel\" transform=\"translate(423.759,126.061)rotate(23.6256)\"><text x=\"10.0\" y=\"2.5549999999999997\" style=\"fill:rgb(14.5%,14.5%,14.5%);fill-opacity:1.0\">r0</text></g><g class=\"toytree-TipLabel\" transform=\"translate(422.982,95.3329)rotate(-19.0205)\"><text x=\"10.0\" y=\"2.5549999999999997\" style=\"fill:rgb(14.5%,14.5%,14.5%);fill-opacity:1.0\">r1</text></g><g class=\"toytree-TipLabel\" transform=\"translate(354.515,65.6839)rotate(71.7185)\"><text x=\"-18.89\" y=\"2.5549999999999997\" style=\"fill:rgb(14.5%,14.5%,14.5%);fill-opacity:1.0\">r2</text></g><g class=\"toytree-TipLabel\" transform=\"translate(271.33,133.831)rotate(-17.6406)\"><text x=\"-18.89\" y=\"2.5549999999999997\" style=\"fill:rgb(14.5%,14.5%,14.5%);fill-opacity:1.0\">r3</text></g><g class=\"toytree-TipLabel\" transform=\"translate(331.104,184.389)rotate(-66.8006)\"><text x=\"-18.89\" y=\"2.5549999999999997\" style=\"fill:rgb(14.5%,14.5%,14.5%);fill-opacity:1.0\">r4</text></g></g></g></g><g transform=\"translate(347.5,42.0)\"><text x=\"-45.115\" y=\"-4.823\" style=\"fill:rgb(16.1%,15.3%,14.1%);fill-opacity:1.0;font-family:helvetica;font-size:14.0px;font-weight:bold;stroke:none;vertical-align:baseline;white-space:pre\">unrooted tree</text></g></g><g class=\"toyplot-coordinates-Cartesian\" id=\"td2d0f82552c74168a63a56f5baa28908\"><clipPath id=\"te0a7d55ef85a4c64939568dc8169ceaa\"><rect x=\"470.0\" y=\"40.0\" width=\"205.0\" height=\"170.0\"></rect></clipPath><g clip-path=\"url(#te0a7d55ef85a4c64939568dc8169ceaa)\"><g class=\"toytree-mark-Toytree\" id=\"tc6558dba1950479ea7dbd3df89197625\"><g class=\"toytree-Edges\" style=\"stroke:rgb(14.5%,14.5%,14.5%);stroke-opacity:1.0;stroke-linecap:round;stroke-width:2.0;fill:none\"><path d=\"M 625.6 134.5 L 649.5 150.4\" id=\"8,0\" style=\"\"></path><path d=\"M 614.0 90.6 L 641.6 80.6\" id=\"5,1\" style=\"\"></path><path d=\"M 614.0 90.6 L 605.4 65.2\" id=\"5,2\" style=\"\"></path><path d=\"M 549.1 135.3 L 495.9 111.4\" id=\"6,3\" style=\"\"></path><path d=\"M 549.1 135.3 L 530.5 185.7\" id=\"6,4\" style=\"\"></path><path d=\"M 604.6 115.7 L 614.0 90.6\" id=\"7,5\" style=\"\"></path><path d=\"M 604.6 115.7 L 549.1 135.3\" id=\"7,6\" style=\"\"></path><path d=\"M 625.6 134.5 L 604.6 115.7\" id=\"8,7\" style=\"\"></path></g><g class=\"toytree-AdmixEdges\" style=\"fill:rgb(0.0%,0.0%,0.0%);fill-opacity:0.0;stroke:rgb(90.6%,54.1%,76.5%);stroke-opacity:0.6;font-size:14px;stroke-linecap:round;stroke-width:5\"></g><g class=\"toytree-Nodes\" style=\"fill:rgb(40.0%,76.1%,64.7%);fill-opacity:1.0;stroke:rgb(14.5%,14.5%,14.5%);stroke-opacity:1.0;stroke-width:1.0\"><g id=\"Node-0\" transform=\"translate(649.465,150.411)\"><circle r=\"7.5\"></circle></g><g id=\"Node-1\" transform=\"translate(641.62,80.5805)\"><circle r=\"7.5\"></circle></g><g id=\"Node-2\" transform=\"translate(605.42,65.235)\"><circle r=\"7.5\"></circle></g><g id=\"Node-3\" transform=\"translate(495.888,111.421)\"><circle r=\"7.5\"></circle></g><g id=\"Node-4\" transform=\"translate(530.467,185.654)\"><circle r=\"7.5\"></circle></g><g id=\"Node-5\" transform=\"translate(613.998,90.6009)\"><circle r=\"7.5\"></circle></g><g id=\"Node-6\" transform=\"translate(549.134,135.344)\"><circle r=\"7.5\"></circle></g><g id=\"Node-7\" transform=\"translate(604.57,115.728)\"><circle r=\"7.5\"></circle></g><g id=\"Node-8\" transform=\"translate(625.591,134.524)\"><circle r=\"7.5\"></circle></g></g><g class=\"toytree-NodeLabels\" style=\"font-family:Helvetica;font-size:9px;font-weight:300;vertical-align:baseline;white-space:pre;stroke:none\"><g class=\"toytree-NodeLabel\" transform=\"translate(649.465,150.411)\"><text x=\"-2.5020000000000002\" y=\"2.2995\" style=\"fill:rgb(14.5%,14.5%,14.5%);fill-opacity:1.0\">0</text></g><g class=\"toytree-NodeLabel\" transform=\"translate(641.62,80.5805)\"><text x=\"-2.5020000000000002\" y=\"2.2995\" style=\"fill:rgb(14.5%,14.5%,14.5%);fill-opacity:1.0\">1</text></g><g class=\"toytree-NodeLabel\" transform=\"translate(605.42,65.235)\"><text x=\"-2.5020000000000002\" y=\"2.2995\" style=\"fill:rgb(14.5%,14.5%,14.5%);fill-opacity:1.0\">2</text></g><g class=\"toytree-NodeLabel\" transform=\"translate(495.888,111.421)\"><text x=\"-2.5020000000000002\" y=\"2.2995\" style=\"fill:rgb(14.5%,14.5%,14.5%);fill-opacity:1.0\">3</text></g><g class=\"toytree-NodeLabel\" transform=\"translate(530.467,185.654)\"><text x=\"-2.5020000000000002\" y=\"2.2995\" style=\"fill:rgb(14.5%,14.5%,14.5%);fill-opacity:1.0\">4</text></g><g class=\"toytree-NodeLabel\" transform=\"translate(613.998,90.6009)\"><text x=\"-2.5020000000000002\" y=\"2.2995\" style=\"fill:rgb(14.5%,14.5%,14.5%);fill-opacity:1.0\">5</text></g><g class=\"toytree-NodeLabel\" transform=\"translate(549.134,135.344)\"><text x=\"-2.5020000000000002\" y=\"2.2995\" style=\"fill:rgb(14.5%,14.5%,14.5%);fill-opacity:1.0\">6</text></g><g class=\"toytree-NodeLabel\" transform=\"translate(604.57,115.728)\"><text x=\"-2.5020000000000002\" y=\"2.2995\" style=\"fill:rgb(14.5%,14.5%,14.5%);fill-opacity:1.0\">7</text></g><g class=\"toytree-NodeLabel\" transform=\"translate(625.591,134.524)\"><text x=\"-2.5020000000000002\" y=\"2.2995\" style=\"fill:rgb(14.5%,14.5%,14.5%);fill-opacity:1.0\">8</text></g></g><g class=\"toytree-TipLabels\" style=\"fill:rgb(14.5%,14.5%,14.5%);fill-opacity:1.0;font-family:Helvetica;font-size:10px;font-weight:300;vertical-align:baseline;white-space:pre;stroke:none\"><g class=\"toytree-TipLabel\" transform=\"translate(649.465,150.411)rotate(36.8601)\"><text x=\"10.0\" y=\"2.5549999999999997\" style=\"fill:rgb(14.5%,14.5%,14.5%);fill-opacity:1.0\">r2</text></g><g class=\"toytree-TipLabel\" transform=\"translate(641.62,80.5805)rotate(-46.906)\"><text x=\"10.0\" y=\"2.5549999999999997\" style=\"fill:rgb(14.5%,14.5%,14.5%);fill-opacity:1.0\">r0</text></g><g class=\"toytree-TipLabel\" transform=\"translate(605.42,65.235)rotate(-89.1432)\"><text x=\"10.0\" y=\"2.5549999999999997\" style=\"fill:rgb(14.5%,14.5%,14.5%);fill-opacity:1.0\">r1</text></g><g class=\"toytree-TipLabel\" transform=\"translate(495.888,111.421)rotate(2.55661)\"><text x=\"-18.89\" y=\"2.5549999999999997\" style=\"fill:rgb(14.5%,14.5%,14.5%);fill-opacity:1.0\">r3</text></g><g class=\"toytree-TipLabel\" transform=\"translate(530.467,185.654)rotate(-46.7548)\"><text x=\"-18.89\" y=\"2.5549999999999997\" style=\"fill:rgb(14.5%,14.5%,14.5%);fill-opacity:1.0\">r4</text></g></g></g></g><g transform=\"translate(572.5,42.0)\"><text x=\"-46.675999999999995\" y=\"-4.823\" style=\"fill:rgb(16.1%,15.3%,14.1%);fill-opacity:1.0;font-family:helvetica;font-size:14.0px;font-weight:bold;stroke:none;vertical-align:baseline;white-space:pre\">alt rooted tree</text></g></g></svg><div class=\"toyplot-behavior\"><script>(function()\n",
       "{\n",
       "var modules={};\n",
       "})();</script></div></div>"
      ]
     },
     "metadata": {},
     "output_type": "display_data"
    }
   ],
   "source": [
    "# draw the trees unrooted\n",
    "c, a, m = toytree.mtree([tree, utree, atree]).draw(ts='p', layout='un');\n",
    "a[0].label.text = \"rooted tree\"\n",
    "a[1].label.text = \"unrooted tree\"\n",
    "a[2].label.text = \"alt rooted tree\""
   ]
  },
  {
   "cell_type": "markdown",
   "id": "e719aeee-9e49-4dee-ac68-ff0f96982721",
   "metadata": {},
   "source": [
    "<div class=\"admonition tip\">\n",
    "  <p class=\"admonition-title\">Tip</p>\n",
    "  <p>\n",
    "      A key point is to recognize the difference between whether a tree is rooted or not, and whether a tree is drawn using an unrooted/undirected layout or not. These are two distinct things.\n",
    "  </p>\n",
    "</div>\n",
    "\n"
   ]
  },
  {
   "cell_type": "markdown",
   "id": "2d8b07b4-ece7-4810-ba6b-8d8cc2c9efa6",
   "metadata": {},
   "source": [
    "## Rooting methods\n",
    "`toytree` currently supports three methods for rooting a tree: (1) manually; (2) by the midpoint (Farris 1972); and (3) by the minimal ancestor deviation (Tria et al. 2017). The first requires the user to designate the outgroup and optionally specify the length along the edge at which to insert the new root node. The second method automatically places the root node on an edge that is average distance from all terminal nodes. The last method calculates a set of statistics that can be used to either automatically place the root node, or to provide a score for an alternative manual placement. The first two approaches are instantaneously fast, while the last one can take a few seconds for large trees.\n",
    "\n",
    "The most common methods, `.root()` and `.unroot`, are available from a `ToyTree` object. These are also available in the `toytree.mod` subpackage, where the other optional rooting functions are also located. Each is demonstrated with further explanation below."
   ]
  },
  {
   "cell_type": "markdown",
   "id": "43da98dd-137b-49a8-8fe8-6e4c4ec0fc94",
   "metadata": {},
   "source": [
    "### Manually set outgroup\n",
    "The `.root()` function requires manually designating an outgroup. Specifically, you are designating the node for which the edge above it will be bisected by the new **treenode**. The clade composed of the selected node and its descendants is designated the *outgroup*, and the clade of everything else on the other side of the root is the ingroup. To select the _edge_ on which to root the tree, you must designate arguments to select the node that is below it given the current directed layout of the tree. You can enter the index or name of a single Node, or, if you provide multiple Node selectors then it will find the MRCA of the selected Nodes and root on that Node's edge. In the example below I select two named tip Nodes by their str names, \"r3\" and \"r4\", which selects their mrca ancestor to root on."
   ]
  },
  {
   "cell_type": "code",
   "execution_count": 7,
   "id": "58b0cced-e842-409b-b007-b15466c9d52d",
   "metadata": {},
   "outputs": [
    {
     "data": {
      "text/html": [
       "<div class=\"toyplot\" id=\"t8298619672074f74a3aa8fa42087b928\" style=\"text-align:center\"><svg class=\"toyplot-canvas-Canvas\" xmlns:toyplot=\"http://www.sandia.gov/toyplot\" xmlns:xlink=\"http://www.w3.org/1999/xlink\" xmlns=\"http://www.w3.org/2000/svg\" width=\"450.0px\" height=\"250.0px\" viewBox=\"0 0 450.0 250.0\" preserveAspectRatio=\"xMidYMid meet\" style=\"background-color:transparent;border-color:#292724;border-style:none;border-width:1.0;fill:rgb(16.1%,15.3%,14.1%);fill-opacity:1.0;font-family:Helvetica;font-size:12px;opacity:1.0;stroke:rgb(16.1%,15.3%,14.1%);stroke-opacity:1.0;stroke-width:1.0\" id=\"t35b989fe4d434cedb804ce8f45b3bbf1\"><g class=\"toyplot-coordinates-Cartesian\" id=\"t1abfb5b42e3f4c0f9524c2f886dd7229\"><clipPath id=\"t37820f2f87394aa7bc792ff68b093d16\"><rect x=\"20.0\" y=\"40.0\" width=\"205.0\" height=\"170.0\"></rect></clipPath><g clip-path=\"url(#t37820f2f87394aa7bc792ff68b093d16)\"><g class=\"toytree-mark-Toytree\" id=\"t58a629bc3e2d4520b7f2d373aa8e82e4\"><g class=\"toytree-Edges\" style=\"stroke:rgb(14.5%,14.5%,14.5%);stroke-opacity:1.0;stroke-linecap:round;stroke-width:2.0;fill:none\"><path d=\"M 59.0 85.2 L 37.8 113.8\" id=\"5,0\" style=\"\"></path><path d=\"M 59.0 85.2 L 80.1 113.8\" id=\"5,1\" style=\"\"></path><path d=\"M 122.5 56.5 L 122.5 113.8\" id=\"7,2\" style=\"\"></path><path d=\"M 186.0 113.8 L 164.9 171.1\" id=\"6,3\" style=\"\"></path><path d=\"M 186.0 113.8 L 207.2 171.1\" id=\"6,4\" style=\"\"></path><path d=\"M 122.5 56.5 L 59.0 85.2\" id=\"7,5\" style=\"\"></path><path d=\"M 122.5 56.5 L 186.0 113.8\" id=\"7,6\" style=\"\"></path></g><g class=\"toytree-AdmixEdges\" style=\"fill:rgb(0.0%,0.0%,0.0%);fill-opacity:0.0;stroke:rgb(90.6%,54.1%,76.5%);stroke-opacity:0.6;font-size:14px;stroke-linecap:round;stroke-width:5\"></g><g class=\"toytree-Nodes\" style=\"fill:rgb(40.0%,76.1%,64.7%);fill-opacity:1.0;stroke:rgb(14.5%,14.5%,14.5%);stroke-opacity:1.0;stroke-width:1.0\"><g id=\"Node-0\" transform=\"translate(37.7847,113.812)\"><circle r=\"7.5\"></circle></g><g id=\"Node-1\" transform=\"translate(80.1423,113.812)\"><circle r=\"7.5\"></circle></g><g id=\"Node-2\" transform=\"translate(122.5,113.812)\"><circle r=\"7.5\"></circle></g><g id=\"Node-3\" transform=\"translate(164.858,171.128)\"><circle r=\"7.5\"></circle></g><g id=\"Node-4\" transform=\"translate(207.215,171.128)\"><circle r=\"7.5\"></circle></g><g id=\"Node-5\" transform=\"translate(58.9635,85.1539)\"><circle r=\"7.5\"></circle></g><g id=\"Node-6\" transform=\"translate(186.037,113.812)\"><circle r=\"7.5\"></circle></g><g id=\"Node-7\" transform=\"translate(122.5,56.4958)\"><circle r=\"7.5\"></circle></g></g><g class=\"toytree-NodeLabels\" style=\"font-family:Helvetica;font-size:9px;font-weight:300;vertical-align:baseline;white-space:pre;stroke:none\"><g class=\"toytree-NodeLabel\" transform=\"translate(37.7847,113.812)\"><text x=\"-2.5020000000000002\" y=\"2.2995\" style=\"fill:rgb(14.5%,14.5%,14.5%);fill-opacity:1.0\">0</text></g><g class=\"toytree-NodeLabel\" transform=\"translate(80.1423,113.812)\"><text x=\"-2.5020000000000002\" y=\"2.2995\" style=\"fill:rgb(14.5%,14.5%,14.5%);fill-opacity:1.0\">1</text></g><g class=\"toytree-NodeLabel\" transform=\"translate(122.5,113.812)\"><text x=\"-2.5020000000000002\" y=\"2.2995\" style=\"fill:rgb(14.5%,14.5%,14.5%);fill-opacity:1.0\">2</text></g><g class=\"toytree-NodeLabel\" transform=\"translate(164.858,171.128)\"><text x=\"-2.5020000000000002\" y=\"2.2995\" style=\"fill:rgb(14.5%,14.5%,14.5%);fill-opacity:1.0\">3</text></g><g class=\"toytree-NodeLabel\" transform=\"translate(207.215,171.128)\"><text x=\"-2.5020000000000002\" y=\"2.2995\" style=\"fill:rgb(14.5%,14.5%,14.5%);fill-opacity:1.0\">4</text></g><g class=\"toytree-NodeLabel\" transform=\"translate(58.9635,85.1539)\"><text x=\"-2.5020000000000002\" y=\"2.2995\" style=\"fill:rgb(14.5%,14.5%,14.5%);fill-opacity:1.0\">5</text></g><g class=\"toytree-NodeLabel\" transform=\"translate(186.037,113.812)\"><text x=\"-2.5020000000000002\" y=\"2.2995\" style=\"fill:rgb(14.5%,14.5%,14.5%);fill-opacity:1.0\">6</text></g><g class=\"toytree-NodeLabel\" transform=\"translate(122.5,56.4958)\"><text x=\"-2.5020000000000002\" y=\"2.2995\" style=\"fill:rgb(14.5%,14.5%,14.5%);fill-opacity:1.0\">7</text></g></g><g class=\"toytree-TipLabels\" style=\"fill:rgb(14.5%,14.5%,14.5%);fill-opacity:1.0;font-family:Helvetica;font-size:10px;font-weight:300;vertical-align:baseline;white-space:pre;stroke:none\"><g class=\"toytree-TipLabel\" transform=\"translate(37.7847,113.812)rotate(90)\"><text x=\"10.0\" y=\"2.5549999999999997\" style=\"fill:rgb(14.5%,14.5%,14.5%);fill-opacity:1.0\">r0</text></g><g class=\"toytree-TipLabel\" transform=\"translate(80.1423,113.812)rotate(90)\"><text x=\"10.0\" y=\"2.5549999999999997\" style=\"fill:rgb(14.5%,14.5%,14.5%);fill-opacity:1.0\">r1</text></g><g class=\"toytree-TipLabel\" transform=\"translate(122.5,113.812)rotate(90)\"><text x=\"10.0\" y=\"2.5549999999999997\" style=\"fill:rgb(14.5%,14.5%,14.5%);fill-opacity:1.0\">r2</text></g><g class=\"toytree-TipLabel\" transform=\"translate(164.858,171.128)rotate(90)\"><text x=\"10.0\" y=\"2.5549999999999997\" style=\"fill:rgb(14.5%,14.5%,14.5%);fill-opacity:1.0\">r3</text></g><g class=\"toytree-TipLabel\" transform=\"translate(207.215,171.128)rotate(90)\"><text x=\"10.0\" y=\"2.5549999999999997\" style=\"fill:rgb(14.5%,14.5%,14.5%);fill-opacity:1.0\">r4</text></g></g></g></g></g><g class=\"toyplot-coordinates-Cartesian\" id=\"t7ce192dc7fc24c9ab2528eaf7f465fcf\"><clipPath id=\"ta9e1811fd4924d9c86ea179bdec4e604\"><rect x=\"245.0\" y=\"40.0\" width=\"205.0\" height=\"170.0\"></rect></clipPath><g clip-path=\"url(#ta9e1811fd4924d9c86ea179bdec4e604)\"><g class=\"toytree-mark-Toytree\" id=\"t616b55ef42b448d2827a26f367422ced\"><g class=\"toytree-Edges\" style=\"stroke:rgb(14.5%,14.5%,14.5%);stroke-opacity:1.0;stroke-linecap:round;stroke-width:2.0;fill:none\"><path d=\"M 284.0 94.7 L 262.8 171.1\" id=\"5,0\" style=\"\"></path><path d=\"M 284.0 94.7 L 305.1 171.1\" id=\"5,1\" style=\"\"></path><path d=\"M 368.7 132.9 L 347.5 171.1\" id=\"6,2\" style=\"\"></path><path d=\"M 368.7 132.9 L 389.9 171.1\" id=\"6,3\" style=\"\"></path><path d=\"M 400.4 94.7 L 432.2 171.1\" id=\"7,4\" style=\"\"></path><path d=\"M 342.2 56.5 L 284.0 94.7\" id=\"8,5\" style=\"\"></path><path d=\"M 400.4 94.7 L 368.7 132.9\" id=\"7,6\" style=\"\"></path><path d=\"M 342.2 56.5 L 400.4 94.7\" id=\"8,7\" style=\"\"></path></g><g class=\"toytree-AdmixEdges\" style=\"fill:rgb(0.0%,0.0%,0.0%);fill-opacity:0.0;stroke:rgb(90.6%,54.1%,76.5%);stroke-opacity:0.6;font-size:14px;stroke-linecap:round;stroke-width:5\"></g><g class=\"toytree-Nodes\" style=\"fill:rgb(40.0%,76.1%,64.7%);fill-opacity:1.0;stroke:rgb(14.5%,14.5%,14.5%);stroke-opacity:1.0;stroke-width:1.0\"><g id=\"Node-0\" transform=\"translate(262.785,171.128)\"><circle r=\"7.5\"></circle></g><g id=\"Node-1\" transform=\"translate(305.142,171.128)\"><circle r=\"7.5\"></circle></g><g id=\"Node-2\" transform=\"translate(347.5,171.128)\"><circle r=\"7.5\"></circle></g><g id=\"Node-3\" transform=\"translate(389.858,171.128)\"><circle r=\"7.5\"></circle></g><g id=\"Node-4\" transform=\"translate(432.215,171.128)\"><circle r=\"7.5\"></circle></g><g id=\"Node-5\" transform=\"translate(283.963,94.7065)\"><circle r=\"7.5\"></circle></g><g id=\"Node-6\" transform=\"translate(368.679,132.917)\"><circle r=\"7.5\"></circle></g><g id=\"Node-7\" transform=\"translate(400.447,94.7065)\"><circle r=\"7.5\"></circle></g><g id=\"Node-8\" transform=\"translate(342.205,56.4958)\"><circle r=\"7.5\"></circle></g></g><g class=\"toytree-NodeLabels\" style=\"font-family:Helvetica;font-size:9px;font-weight:300;vertical-align:baseline;white-space:pre;stroke:none\"><g class=\"toytree-NodeLabel\" transform=\"translate(262.785,171.128)\"><text x=\"-2.5020000000000002\" y=\"2.2995\" style=\"fill:rgb(14.5%,14.5%,14.5%);fill-opacity:1.0\">0</text></g><g class=\"toytree-NodeLabel\" transform=\"translate(305.142,171.128)\"><text x=\"-2.5020000000000002\" y=\"2.2995\" style=\"fill:rgb(14.5%,14.5%,14.5%);fill-opacity:1.0\">1</text></g><g class=\"toytree-NodeLabel\" transform=\"translate(347.5,171.128)\"><text x=\"-2.5020000000000002\" y=\"2.2995\" style=\"fill:rgb(14.5%,14.5%,14.5%);fill-opacity:1.0\">2</text></g><g class=\"toytree-NodeLabel\" transform=\"translate(389.858,171.128)\"><text x=\"-2.5020000000000002\" y=\"2.2995\" style=\"fill:rgb(14.5%,14.5%,14.5%);fill-opacity:1.0\">3</text></g><g class=\"toytree-NodeLabel\" transform=\"translate(432.215,171.128)\"><text x=\"-2.5020000000000002\" y=\"2.2995\" style=\"fill:rgb(14.5%,14.5%,14.5%);fill-opacity:1.0\">4</text></g><g class=\"toytree-NodeLabel\" transform=\"translate(283.963,94.7065)\"><text x=\"-2.5020000000000002\" y=\"2.2995\" style=\"fill:rgb(14.5%,14.5%,14.5%);fill-opacity:1.0\">5</text></g><g class=\"toytree-NodeLabel\" transform=\"translate(368.679,132.917)\"><text x=\"-2.5020000000000002\" y=\"2.2995\" style=\"fill:rgb(14.5%,14.5%,14.5%);fill-opacity:1.0\">6</text></g><g class=\"toytree-NodeLabel\" transform=\"translate(400.447,94.7065)\"><text x=\"-2.5020000000000002\" y=\"2.2995\" style=\"fill:rgb(14.5%,14.5%,14.5%);fill-opacity:1.0\">7</text></g><g class=\"toytree-NodeLabel\" transform=\"translate(342.205,56.4958)\"><text x=\"-2.5020000000000002\" y=\"2.2995\" style=\"fill:rgb(14.5%,14.5%,14.5%);fill-opacity:1.0\">8</text></g></g><g class=\"toytree-TipLabels\" style=\"fill:rgb(14.5%,14.5%,14.5%);fill-opacity:1.0;font-family:Helvetica;font-size:10px;font-weight:300;vertical-align:baseline;white-space:pre;stroke:none\"><g class=\"toytree-TipLabel\" transform=\"translate(262.785,171.128)rotate(90)\"><text x=\"10.0\" y=\"2.5549999999999997\" style=\"fill:rgb(14.5%,14.5%,14.5%);fill-opacity:1.0\">r3</text></g><g class=\"toytree-TipLabel\" transform=\"translate(305.142,171.128)rotate(90)\"><text x=\"10.0\" y=\"2.5549999999999997\" style=\"fill:rgb(14.5%,14.5%,14.5%);fill-opacity:1.0\">r4</text></g><g class=\"toytree-TipLabel\" transform=\"translate(347.5,171.128)rotate(90)\"><text x=\"10.0\" y=\"2.5549999999999997\" style=\"fill:rgb(14.5%,14.5%,14.5%);fill-opacity:1.0\">r0</text></g><g class=\"toytree-TipLabel\" transform=\"translate(389.858,171.128)rotate(90)\"><text x=\"10.0\" y=\"2.5549999999999997\" style=\"fill:rgb(14.5%,14.5%,14.5%);fill-opacity:1.0\">r1</text></g><g class=\"toytree-TipLabel\" transform=\"translate(432.215,171.128)rotate(90)\"><text x=\"10.0\" y=\"2.5549999999999997\" style=\"fill:rgb(14.5%,14.5%,14.5%);fill-opacity:1.0\">r2</text></g></g></g></g></g></svg><div class=\"toyplot-behavior\"><script>(function()\n",
       "{\n",
       "var modules={};\n",
       "})();</script></div></div>"
      ]
     },
     "metadata": {},
     "output_type": "display_data"
    }
   ],
   "source": [
    "# root the tree using clade (r3,r4) as outgroup\n",
    "new_tree = utree.root(\"r3\", \"r4\")\n",
    "\n",
    "# show the unrooted and newly rooted trees\n",
    "toytree.mtree([utree, new_tree]).draw(ts='p');"
   ]
  },
  {
   "cell_type": "markdown",
   "id": "23995c5b-cf27-4c72-885a-a59b3e78a929",
   "metadata": {},
   "source": [
    "### Midpoint deviation\n",
    "Rooting on the \"midpoint\" assumes a clock-like evolutionary rate (i.e., branch lengths are equal to time) and may yield odd results when this assumption is violated. This algorithm calculates the pairwise path length between all tips in an unrooted tree, and places the treenode on an edge representing the midpoint of the longest path. In this case, because the original tree was ultrametric (all tips aligned at zero) the correct rooting placement that is equal distant from all tips leads to an ultrametric tree."
   ]
  },
  {
   "cell_type": "code",
   "execution_count": 8,
   "id": "e08a590b-743b-4fd1-8b3a-44f4fed7d3e0",
   "metadata": {},
   "outputs": [
    {
     "data": {
      "text/html": [
       "<div class=\"toyplot\" id=\"t6582a87951594f7dbd85229a21d80ef8\" style=\"text-align:center\"><svg class=\"toyplot-canvas-Canvas\" xmlns:toyplot=\"http://www.sandia.gov/toyplot\" xmlns:xlink=\"http://www.w3.org/1999/xlink\" xmlns=\"http://www.w3.org/2000/svg\" width=\"300.0px\" height=\"300.0px\" viewBox=\"0 0 300.0 300.0\" preserveAspectRatio=\"xMidYMid meet\" style=\"background-color:transparent;border-color:#292724;border-style:none;border-width:1.0;fill:rgb(16.1%,15.3%,14.1%);fill-opacity:1.0;font-family:Helvetica;font-size:12px;opacity:1.0;stroke:rgb(16.1%,15.3%,14.1%);stroke-opacity:1.0;stroke-width:1.0\" id=\"t1072798cd928481a8c7aa3d422de39f1\"><g class=\"toyplot-coordinates-Cartesian\" id=\"t2791cd1d1be54f6e84c9deb4268aaa03\"><clipPath id=\"t1f1d1cb00e4440218a6355fe45272324\"><rect x=\"35.0\" y=\"35.0\" width=\"230.0\" height=\"230.0\"></rect></clipPath><g clip-path=\"url(#t1f1d1cb00e4440218a6355fe45272324)\"><g class=\"toytree-mark-Toytree\" id=\"t1b2f15eb1aec4113b3378b3aac5fbf10\"><g class=\"toytree-Edges\" style=\"stroke:rgb(14.5%,14.5%,14.5%);stroke-opacity:1.0;stroke-linecap:round;stroke-width:2.0;fill:none\"><path d=\"M 80.9 107.9 L 57.8 210.5\" id=\"5,0\" style=\"\"></path><path d=\"M 80.9 107.9 L 103.9 210.5\" id=\"5,1\" style=\"\"></path><path d=\"M 173.0 159.2 L 150.0 210.5\" id=\"6,2\" style=\"\"></path><path d=\"M 173.0 159.2 L 196.1 210.5\" id=\"6,3\" style=\"\"></path><path d=\"M 207.6 107.9 L 242.2 210.5\" id=\"7,4\" style=\"\"></path><path d=\"M 144.2 56.5 L 80.9 107.9\" id=\"8,5\" style=\"\"></path><path d=\"M 207.6 107.9 L 173.0 159.2\" id=\"7,6\" style=\"\"></path><path d=\"M 144.2 56.5 L 207.6 107.9\" id=\"8,7\" style=\"\"></path></g><g class=\"toytree-AdmixEdges\" style=\"fill:rgb(0.0%,0.0%,0.0%);fill-opacity:0.0;stroke:rgb(90.6%,54.1%,76.5%);stroke-opacity:0.6;font-size:14px;stroke-linecap:round;stroke-width:5\"></g><g class=\"toytree-Nodes\" style=\"fill:rgb(40.0%,76.1%,64.7%);fill-opacity:1.0;stroke:rgb(14.5%,14.5%,14.5%);stroke-opacity:1.0;stroke-width:1.0\"><g id=\"Node-0\" transform=\"translate(57.8341,210.486)\"><circle r=\"7.5\"></circle></g><g id=\"Node-1\" transform=\"translate(103.917,210.486)\"><circle r=\"7.5\"></circle></g><g id=\"Node-2\" transform=\"translate(150,210.486)\"><circle r=\"7.5\"></circle></g><g id=\"Node-3\" transform=\"translate(196.083,210.486)\"><circle r=\"7.5\"></circle></g><g id=\"Node-4\" transform=\"translate(242.166,210.486)\"><circle r=\"7.5\"></circle></g><g id=\"Node-5\" transform=\"translate(80.8756,107.857)\"><circle r=\"7.5\"></circle></g><g id=\"Node-6\" transform=\"translate(173.041,159.171)\"><circle r=\"7.5\"></circle></g><g id=\"Node-7\" transform=\"translate(207.604,107.857)\"><circle r=\"7.5\"></circle></g><g id=\"Node-8\" transform=\"translate(144.24,56.5426)\"><circle r=\"7.5\"></circle></g></g><g class=\"toytree-NodeLabels\" style=\"font-family:Helvetica;font-size:9px;font-weight:300;vertical-align:baseline;white-space:pre;stroke:none\"><g class=\"toytree-NodeLabel\" transform=\"translate(57.8341,210.486)\"><text x=\"-2.5020000000000002\" y=\"2.2995\" style=\"fill:rgb(14.5%,14.5%,14.5%);fill-opacity:1.0\">0</text></g><g class=\"toytree-NodeLabel\" transform=\"translate(103.917,210.486)\"><text x=\"-2.5020000000000002\" y=\"2.2995\" style=\"fill:rgb(14.5%,14.5%,14.5%);fill-opacity:1.0\">1</text></g><g class=\"toytree-NodeLabel\" transform=\"translate(150,210.486)\"><text x=\"-2.5020000000000002\" y=\"2.2995\" style=\"fill:rgb(14.5%,14.5%,14.5%);fill-opacity:1.0\">2</text></g><g class=\"toytree-NodeLabel\" transform=\"translate(196.083,210.486)\"><text x=\"-2.5020000000000002\" y=\"2.2995\" style=\"fill:rgb(14.5%,14.5%,14.5%);fill-opacity:1.0\">3</text></g><g class=\"toytree-NodeLabel\" transform=\"translate(242.166,210.486)\"><text x=\"-2.5020000000000002\" y=\"2.2995\" style=\"fill:rgb(14.5%,14.5%,14.5%);fill-opacity:1.0\">4</text></g><g class=\"toytree-NodeLabel\" transform=\"translate(80.8756,107.857)\"><text x=\"-2.5020000000000002\" y=\"2.2995\" style=\"fill:rgb(14.5%,14.5%,14.5%);fill-opacity:1.0\">5</text></g><g class=\"toytree-NodeLabel\" transform=\"translate(173.041,159.171)\"><text x=\"-2.5020000000000002\" y=\"2.2995\" style=\"fill:rgb(14.5%,14.5%,14.5%);fill-opacity:1.0\">6</text></g><g class=\"toytree-NodeLabel\" transform=\"translate(207.604,107.857)\"><text x=\"-2.5020000000000002\" y=\"2.2995\" style=\"fill:rgb(14.5%,14.5%,14.5%);fill-opacity:1.0\">7</text></g><g class=\"toytree-NodeLabel\" transform=\"translate(144.24,56.5426)\"><text x=\"-2.5020000000000002\" y=\"2.2995\" style=\"fill:rgb(14.5%,14.5%,14.5%);fill-opacity:1.0\">8</text></g></g><g class=\"toytree-TipLabels\" style=\"fill:rgb(14.5%,14.5%,14.5%);fill-opacity:1.0;font-family:Helvetica;font-size:12px;font-weight:300;vertical-align:baseline;white-space:pre;stroke:none\"><g class=\"toytree-TipLabel\" transform=\"translate(57.8341,210.486)rotate(90)\"><text x=\"15.0\" y=\"3.066\" style=\"fill:rgb(14.5%,14.5%,14.5%);fill-opacity:1.0\">r3</text></g><g class=\"toytree-TipLabel\" transform=\"translate(103.917,210.486)rotate(90)\"><text x=\"15.0\" y=\"3.066\" style=\"fill:rgb(14.5%,14.5%,14.5%);fill-opacity:1.0\">r4</text></g><g class=\"toytree-TipLabel\" transform=\"translate(150,210.486)rotate(90)\"><text x=\"15.0\" y=\"3.066\" style=\"fill:rgb(14.5%,14.5%,14.5%);fill-opacity:1.0\">r0</text></g><g class=\"toytree-TipLabel\" transform=\"translate(196.083,210.486)rotate(90)\"><text x=\"15.0\" y=\"3.066\" style=\"fill:rgb(14.5%,14.5%,14.5%);fill-opacity:1.0\">r1</text></g><g class=\"toytree-TipLabel\" transform=\"translate(242.166,210.486)rotate(90)\"><text x=\"15.0\" y=\"3.066\" style=\"fill:rgb(14.5%,14.5%,14.5%);fill-opacity:1.0\">r2</text></g></g></g></g><g class=\"toyplot-coordinates-Axis\" id=\"t93147d9baca04c59817f68f33df61403\" transform=\"translate(50.0,250.0)rotate(-90.0)translate(0,-15.0)\"><line x1=\"39.51415508243662\" y1=\"0\" x2=\"193.45741159808495\" y2=\"0\" style=\"\"></line><g><line x1=\"39.51415508243662\" y1=\"0\" x2=\"39.51415508243662\" y2=\"5\" style=\"\"></line><line x1=\"116.48578334026078\" y1=\"0\" x2=\"116.48578334026078\" y2=\"5\" style=\"\"></line><line x1=\"193.45741159808495\" y1=\"0\" x2=\"193.45741159808495\" y2=\"5\" style=\"\"></line></g><g><g transform=\"translate(39.51415508243662,-6)\"><text x=\"-2.78\" y=\"-4.440892098500626e-16\" style=\"fill:rgb(16.1%,15.3%,14.1%);fill-opacity:1.0;font-family:helvetica;font-size:10.0px;font-weight:normal;stroke:none;vertical-align:baseline;white-space:pre\">0</text></g><g transform=\"translate(116.48578334026078,-6)\"><text x=\"-6.95\" y=\"-4.440892098500626e-16\" style=\"fill:rgb(16.1%,15.3%,14.1%);fill-opacity:1.0;font-family:helvetica;font-size:10.0px;font-weight:normal;stroke:none;vertical-align:baseline;white-space:pre\">0.5</text></g><g transform=\"translate(193.45741159808495,-6)\"><text x=\"-2.78\" y=\"-4.440892098500626e-16\" style=\"fill:rgb(16.1%,15.3%,14.1%);fill-opacity:1.0;font-family:helvetica;font-size:10.0px;font-weight:normal;stroke:none;vertical-align:baseline;white-space:pre\">1</text></g></g><g class=\"toyplot-coordinates-Axis-coordinates\" style=\"visibility:hidden\" transform=\"\"><line x1=\"0\" x2=\"0\" y1=\"3.0\" y2=\"-4.5\" style=\"stroke:rgb(43.9%,50.2%,56.5%);stroke-opacity:1.0;stroke-width:1.0\"></line><text x=\"0\" y=\"6\" style=\"alignment-baseline:hanging;fill:rgb(43.9%,50.2%,56.5%);fill-opacity:1.0;font-size:10px;font-weight:normal;stroke:none;text-anchor:middle\"></text></g></g></g></svg><div class=\"toyplot-behavior\"><script>(function()\n",
       "{\n",
       "var modules={};\n",
       "modules[\"toyplot/canvas/id\"] = \"t1072798cd928481a8c7aa3d422de39f1\";\n",
       "modules[\"toyplot/canvas\"] = (function(canvas_id)\n",
       "    {\n",
       "        return document.querySelector(\"#\" + canvas_id);\n",
       "    })(modules[\"toyplot/canvas/id\"]);\n",
       "modules[\"toyplot.coordinates.Axis\"] = (\n",
       "        function(canvas)\n",
       "        {\n",
       "            function sign(x)\n",
       "            {\n",
       "                return x < 0 ? -1 : x > 0 ? 1 : 0;\n",
       "            }\n",
       "\n",
       "            function mix(a, b, amount)\n",
       "            {\n",
       "                return ((1.0 - amount) * a) + (amount * b);\n",
       "            }\n",
       "\n",
       "            function log(x, base)\n",
       "            {\n",
       "                return Math.log(Math.abs(x)) / Math.log(base);\n",
       "            }\n",
       "\n",
       "            function in_range(a, x, b)\n",
       "            {\n",
       "                var left = Math.min(a, b);\n",
       "                var right = Math.max(a, b);\n",
       "                return left <= x && x <= right;\n",
       "            }\n",
       "\n",
       "            function inside(range, projection)\n",
       "            {\n",
       "                for(var i = 0; i != projection.length; ++i)\n",
       "                {\n",
       "                    var segment = projection[i];\n",
       "                    if(in_range(segment.range.min, range, segment.range.max))\n",
       "                        return true;\n",
       "                }\n",
       "                return false;\n",
       "            }\n",
       "\n",
       "            function to_domain(range, projection)\n",
       "            {\n",
       "                for(var i = 0; i != projection.length; ++i)\n",
       "                {\n",
       "                    var segment = projection[i];\n",
       "                    if(in_range(segment.range.bounds.min, range, segment.range.bounds.max))\n",
       "                    {\n",
       "                        if(segment.scale == \"linear\")\n",
       "                        {\n",
       "                            var amount = (range - segment.range.min) / (segment.range.max - segment.range.min);\n",
       "                            return mix(segment.domain.min, segment.domain.max, amount)\n",
       "                        }\n",
       "                        else if(segment.scale[0] == \"log\")\n",
       "                        {\n",
       "                            var amount = (range - segment.range.min) / (segment.range.max - segment.range.min);\n",
       "                            var base = segment.scale[1];\n",
       "                            return sign(segment.domain.min) * Math.pow(base, mix(log(segment.domain.min, base), log(segment.domain.max, base), amount));\n",
       "                        }\n",
       "                    }\n",
       "                }\n",
       "            }\n",
       "\n",
       "            var axes = {};\n",
       "\n",
       "            function display_coordinates(e)\n",
       "            {\n",
       "                var current = canvas.createSVGPoint();\n",
       "                current.x = e.clientX;\n",
       "                current.y = e.clientY;\n",
       "\n",
       "                for(var axis_id in axes)\n",
       "                {\n",
       "                    var axis = document.querySelector(\"#\" + axis_id);\n",
       "                    var coordinates = axis.querySelector(\".toyplot-coordinates-Axis-coordinates\");\n",
       "                    if(coordinates)\n",
       "                    {\n",
       "                        var projection = axes[axis_id];\n",
       "                        var local = current.matrixTransform(axis.getScreenCTM().inverse());\n",
       "                        if(inside(local.x, projection))\n",
       "                        {\n",
       "                            var domain = to_domain(local.x, projection);\n",
       "                            coordinates.style.visibility = \"visible\";\n",
       "                            coordinates.setAttribute(\"transform\", \"translate(\" + local.x + \")\");\n",
       "                            var text = coordinates.querySelector(\"text\");\n",
       "                            text.textContent = domain.toFixed(2);\n",
       "                        }\n",
       "                        else\n",
       "                        {\n",
       "                            coordinates.style.visibility= \"hidden\";\n",
       "                        }\n",
       "                    }\n",
       "                }\n",
       "            }\n",
       "\n",
       "            canvas.addEventListener(\"click\", display_coordinates);\n",
       "\n",
       "            var module = {};\n",
       "            module.show_coordinates = function(axis_id, projection)\n",
       "            {\n",
       "                axes[axis_id] = projection;\n",
       "            }\n",
       "\n",
       "            return module;\n",
       "        })(modules[\"toyplot/canvas\"]);\n",
       "(function(axis, axis_id, projection)\n",
       "        {\n",
       "            axis.show_coordinates(axis_id, projection);\n",
       "        })(modules[\"toyplot.coordinates.Axis\"],\"t93147d9baca04c59817f68f33df61403\",[{\"domain\": {\"bounds\": {\"max\": Infinity, \"min\": -Infinity}, \"max\": 1.0425, \"min\": -0.2566800000000001}, \"range\": {\"bounds\": {\"max\": Infinity, \"min\": -Infinity}, \"max\": 200.0, \"min\": 0.0}, \"scale\": \"linear\"}]);\n",
       "})();</script></div></div>"
      ]
     },
     "metadata": {},
     "output_type": "display_data"
    }
   ],
   "source": [
    "# root the tree on the global midpoint and draw it\n",
    "utree.mod.root_on_midpoint().draw(ts='p');"
   ]
  },
  {
   "cell_type": "markdown",
   "id": "fa82ccf9-096e-4d05-9a83-e055ea02ad6a",
   "metadata": {},
   "source": [
    "### Minimal-ancestor-deviation\n",
    "\n",
    "The minimal ancestor deviation (MAD) rooting method is intended to accommodate rate heterogeneity among edges of a tree when inferring the root state of an unrooted tree. It assumes that branch lengths are additive and that the true tree is ultrametric (i.e., tip height variation results from rate heterogeneity). This method finds the point on every edge that minimizes the deviations from all pairwise midpoint rooting positions. The optimal rooting position is on the edge with the lowest MAD score, but the user can also manually select a suboptimal edge and assess its relative score compared to alternative root placements (See [Inferring the root](#Infer-root-w/-MAD) below.)"
   ]
  },
  {
   "cell_type": "code",
   "execution_count": 9,
   "id": "896744b7-b7fb-4147-b073-e4d8f97d6ccd",
   "metadata": {},
   "outputs": [
    {
     "data": {
      "text/html": [
       "<div class=\"toyplot\" id=\"t1e55082460fe462ab27bb8f063f573b3\" style=\"text-align:center\"><svg class=\"toyplot-canvas-Canvas\" xmlns:toyplot=\"http://www.sandia.gov/toyplot\" xmlns:xlink=\"http://www.w3.org/1999/xlink\" xmlns=\"http://www.w3.org/2000/svg\" width=\"300.0px\" height=\"300.0px\" viewBox=\"0 0 300.0 300.0\" preserveAspectRatio=\"xMidYMid meet\" style=\"background-color:transparent;border-color:#292724;border-style:none;border-width:1.0;fill:rgb(16.1%,15.3%,14.1%);fill-opacity:1.0;font-family:Helvetica;font-size:12px;opacity:1.0;stroke:rgb(16.1%,15.3%,14.1%);stroke-opacity:1.0;stroke-width:1.0\" id=\"t283d64584b8f4474b8cf9364f5d07d33\"><g class=\"toyplot-coordinates-Cartesian\" id=\"t7a309fbad6a5471fac57667fe2716f7f\"><clipPath id=\"t0da024c3208242248fc2b0b4b3a03115\"><rect x=\"35.0\" y=\"35.0\" width=\"230.0\" height=\"230.0\"></rect></clipPath><g clip-path=\"url(#t0da024c3208242248fc2b0b4b3a03115)\"><g class=\"toytree-mark-Toytree\" id=\"te40d7beec7dc41ad8dec1c153cf23721\"><g class=\"toytree-Edges\" style=\"stroke:rgb(14.5%,14.5%,14.5%);stroke-opacity:1.0;stroke-linecap:round;stroke-width:2.0;fill:none\"><path d=\"M 80.9 107.9 L 57.8 210.5\" id=\"5,0\" style=\"\"></path><path d=\"M 80.9 107.9 L 103.9 210.5\" id=\"5,1\" style=\"\"></path><path d=\"M 173.0 159.2 L 150.0 210.5\" id=\"6,2\" style=\"\"></path><path d=\"M 173.0 159.2 L 196.1 210.5\" id=\"6,3\" style=\"\"></path><path d=\"M 207.6 107.9 L 242.2 210.5\" id=\"7,4\" style=\"\"></path><path d=\"M 144.2 56.5 L 80.9 107.9\" id=\"8,5\" style=\"\"></path><path d=\"M 207.6 107.9 L 173.0 159.2\" id=\"7,6\" style=\"\"></path><path d=\"M 144.2 56.5 L 207.6 107.9\" id=\"8,7\" style=\"\"></path></g><g class=\"toytree-AdmixEdges\" style=\"fill:rgb(0.0%,0.0%,0.0%);fill-opacity:0.0;stroke:rgb(90.6%,54.1%,76.5%);stroke-opacity:0.6;font-size:14px;stroke-linecap:round;stroke-width:5\"></g><g class=\"toytree-Nodes\" style=\"fill:rgb(40.0%,76.1%,64.7%);fill-opacity:1.0;stroke:rgb(14.5%,14.5%,14.5%);stroke-opacity:1.0;stroke-width:1.0\"><g id=\"Node-0\" transform=\"translate(57.8341,210.486)\"><circle r=\"7.5\"></circle></g><g id=\"Node-1\" transform=\"translate(103.917,210.486)\"><circle r=\"7.5\"></circle></g><g id=\"Node-2\" transform=\"translate(150,210.486)\"><circle r=\"7.5\"></circle></g><g id=\"Node-3\" transform=\"translate(196.083,210.486)\"><circle r=\"7.5\"></circle></g><g id=\"Node-4\" transform=\"translate(242.166,210.486)\"><circle r=\"7.5\"></circle></g><g id=\"Node-5\" transform=\"translate(80.8756,107.857)\"><circle r=\"7.5\"></circle></g><g id=\"Node-6\" transform=\"translate(173.041,159.171)\"><circle r=\"7.5\"></circle></g><g id=\"Node-7\" transform=\"translate(207.604,107.857)\"><circle r=\"7.5\"></circle></g><g id=\"Node-8\" transform=\"translate(144.24,56.5426)\"><circle r=\"7.5\"></circle></g></g><g class=\"toytree-NodeLabels\" style=\"font-family:Helvetica;font-size:9px;font-weight:300;vertical-align:baseline;white-space:pre;stroke:none\"><g class=\"toytree-NodeLabel\" transform=\"translate(57.8341,210.486)\"><text x=\"-2.5020000000000002\" y=\"2.2995\" style=\"fill:rgb(14.5%,14.5%,14.5%);fill-opacity:1.0\">0</text></g><g class=\"toytree-NodeLabel\" transform=\"translate(103.917,210.486)\"><text x=\"-2.5020000000000002\" y=\"2.2995\" style=\"fill:rgb(14.5%,14.5%,14.5%);fill-opacity:1.0\">1</text></g><g class=\"toytree-NodeLabel\" transform=\"translate(150,210.486)\"><text x=\"-2.5020000000000002\" y=\"2.2995\" style=\"fill:rgb(14.5%,14.5%,14.5%);fill-opacity:1.0\">2</text></g><g class=\"toytree-NodeLabel\" transform=\"translate(196.083,210.486)\"><text x=\"-2.5020000000000002\" y=\"2.2995\" style=\"fill:rgb(14.5%,14.5%,14.5%);fill-opacity:1.0\">3</text></g><g class=\"toytree-NodeLabel\" transform=\"translate(242.166,210.486)\"><text x=\"-2.5020000000000002\" y=\"2.2995\" style=\"fill:rgb(14.5%,14.5%,14.5%);fill-opacity:1.0\">4</text></g><g class=\"toytree-NodeLabel\" transform=\"translate(80.8756,107.857)\"><text x=\"-2.5020000000000002\" y=\"2.2995\" style=\"fill:rgb(14.5%,14.5%,14.5%);fill-opacity:1.0\">5</text></g><g class=\"toytree-NodeLabel\" transform=\"translate(173.041,159.171)\"><text x=\"-2.5020000000000002\" y=\"2.2995\" style=\"fill:rgb(14.5%,14.5%,14.5%);fill-opacity:1.0\">6</text></g><g class=\"toytree-NodeLabel\" transform=\"translate(207.604,107.857)\"><text x=\"-2.5020000000000002\" y=\"2.2995\" style=\"fill:rgb(14.5%,14.5%,14.5%);fill-opacity:1.0\">7</text></g><g class=\"toytree-NodeLabel\" transform=\"translate(144.24,56.5426)\"><text x=\"-2.5020000000000002\" y=\"2.2995\" style=\"fill:rgb(14.5%,14.5%,14.5%);fill-opacity:1.0\">8</text></g></g><g class=\"toytree-TipLabels\" style=\"fill:rgb(14.5%,14.5%,14.5%);fill-opacity:1.0;font-family:Helvetica;font-size:12px;font-weight:300;vertical-align:baseline;white-space:pre;stroke:none\"><g class=\"toytree-TipLabel\" transform=\"translate(57.8341,210.486)rotate(90)\"><text x=\"15.0\" y=\"3.066\" style=\"fill:rgb(14.5%,14.5%,14.5%);fill-opacity:1.0\">r3</text></g><g class=\"toytree-TipLabel\" transform=\"translate(103.917,210.486)rotate(90)\"><text x=\"15.0\" y=\"3.066\" style=\"fill:rgb(14.5%,14.5%,14.5%);fill-opacity:1.0\">r4</text></g><g class=\"toytree-TipLabel\" transform=\"translate(150,210.486)rotate(90)\"><text x=\"15.0\" y=\"3.066\" style=\"fill:rgb(14.5%,14.5%,14.5%);fill-opacity:1.0\">r0</text></g><g class=\"toytree-TipLabel\" transform=\"translate(196.083,210.486)rotate(90)\"><text x=\"15.0\" y=\"3.066\" style=\"fill:rgb(14.5%,14.5%,14.5%);fill-opacity:1.0\">r1</text></g><g class=\"toytree-TipLabel\" transform=\"translate(242.166,210.486)rotate(90)\"><text x=\"15.0\" y=\"3.066\" style=\"fill:rgb(14.5%,14.5%,14.5%);fill-opacity:1.0\">r2</text></g></g></g></g><g class=\"toyplot-coordinates-Axis\" id=\"tab09983ad2724eadb092d8a18277fdb4\" transform=\"translate(50.0,250.0)rotate(-90.0)translate(0,-15.0)\"><line x1=\"39.51415508243662\" y1=\"0\" x2=\"193.45741159808495\" y2=\"0\" style=\"\"></line><g><line x1=\"39.51415508243662\" y1=\"0\" x2=\"39.51415508243662\" y2=\"5\" style=\"\"></line><line x1=\"116.48578334026078\" y1=\"0\" x2=\"116.48578334026078\" y2=\"5\" style=\"\"></line><line x1=\"193.45741159808495\" y1=\"0\" x2=\"193.45741159808495\" y2=\"5\" style=\"\"></line></g><g><g transform=\"translate(39.51415508243662,-6)\"><text x=\"-2.78\" y=\"-4.440892098500626e-16\" style=\"fill:rgb(16.1%,15.3%,14.1%);fill-opacity:1.0;font-family:helvetica;font-size:10.0px;font-weight:normal;stroke:none;vertical-align:baseline;white-space:pre\">0</text></g><g transform=\"translate(116.48578334026078,-6)\"><text x=\"-6.95\" y=\"-4.440892098500626e-16\" style=\"fill:rgb(16.1%,15.3%,14.1%);fill-opacity:1.0;font-family:helvetica;font-size:10.0px;font-weight:normal;stroke:none;vertical-align:baseline;white-space:pre\">0.5</text></g><g transform=\"translate(193.45741159808495,-6)\"><text x=\"-2.78\" y=\"-4.440892098500626e-16\" style=\"fill:rgb(16.1%,15.3%,14.1%);fill-opacity:1.0;font-family:helvetica;font-size:10.0px;font-weight:normal;stroke:none;vertical-align:baseline;white-space:pre\">1</text></g></g><g class=\"toyplot-coordinates-Axis-coordinates\" style=\"visibility:hidden\" transform=\"\"><line x1=\"0\" x2=\"0\" y1=\"3.0\" y2=\"-4.5\" style=\"stroke:rgb(43.9%,50.2%,56.5%);stroke-opacity:1.0;stroke-width:1.0\"></line><text x=\"0\" y=\"6\" style=\"alignment-baseline:hanging;fill:rgb(43.9%,50.2%,56.5%);fill-opacity:1.0;font-size:10px;font-weight:normal;stroke:none;text-anchor:middle\"></text></g></g></g></svg><div class=\"toyplot-behavior\"><script>(function()\n",
       "{\n",
       "var modules={};\n",
       "modules[\"toyplot/canvas/id\"] = \"t283d64584b8f4474b8cf9364f5d07d33\";\n",
       "modules[\"toyplot/canvas\"] = (function(canvas_id)\n",
       "    {\n",
       "        return document.querySelector(\"#\" + canvas_id);\n",
       "    })(modules[\"toyplot/canvas/id\"]);\n",
       "modules[\"toyplot.coordinates.Axis\"] = (\n",
       "        function(canvas)\n",
       "        {\n",
       "            function sign(x)\n",
       "            {\n",
       "                return x < 0 ? -1 : x > 0 ? 1 : 0;\n",
       "            }\n",
       "\n",
       "            function mix(a, b, amount)\n",
       "            {\n",
       "                return ((1.0 - amount) * a) + (amount * b);\n",
       "            }\n",
       "\n",
       "            function log(x, base)\n",
       "            {\n",
       "                return Math.log(Math.abs(x)) / Math.log(base);\n",
       "            }\n",
       "\n",
       "            function in_range(a, x, b)\n",
       "            {\n",
       "                var left = Math.min(a, b);\n",
       "                var right = Math.max(a, b);\n",
       "                return left <= x && x <= right;\n",
       "            }\n",
       "\n",
       "            function inside(range, projection)\n",
       "            {\n",
       "                for(var i = 0; i != projection.length; ++i)\n",
       "                {\n",
       "                    var segment = projection[i];\n",
       "                    if(in_range(segment.range.min, range, segment.range.max))\n",
       "                        return true;\n",
       "                }\n",
       "                return false;\n",
       "            }\n",
       "\n",
       "            function to_domain(range, projection)\n",
       "            {\n",
       "                for(var i = 0; i != projection.length; ++i)\n",
       "                {\n",
       "                    var segment = projection[i];\n",
       "                    if(in_range(segment.range.bounds.min, range, segment.range.bounds.max))\n",
       "                    {\n",
       "                        if(segment.scale == \"linear\")\n",
       "                        {\n",
       "                            var amount = (range - segment.range.min) / (segment.range.max - segment.range.min);\n",
       "                            return mix(segment.domain.min, segment.domain.max, amount)\n",
       "                        }\n",
       "                        else if(segment.scale[0] == \"log\")\n",
       "                        {\n",
       "                            var amount = (range - segment.range.min) / (segment.range.max - segment.range.min);\n",
       "                            var base = segment.scale[1];\n",
       "                            return sign(segment.domain.min) * Math.pow(base, mix(log(segment.domain.min, base), log(segment.domain.max, base), amount));\n",
       "                        }\n",
       "                    }\n",
       "                }\n",
       "            }\n",
       "\n",
       "            var axes = {};\n",
       "\n",
       "            function display_coordinates(e)\n",
       "            {\n",
       "                var current = canvas.createSVGPoint();\n",
       "                current.x = e.clientX;\n",
       "                current.y = e.clientY;\n",
       "\n",
       "                for(var axis_id in axes)\n",
       "                {\n",
       "                    var axis = document.querySelector(\"#\" + axis_id);\n",
       "                    var coordinates = axis.querySelector(\".toyplot-coordinates-Axis-coordinates\");\n",
       "                    if(coordinates)\n",
       "                    {\n",
       "                        var projection = axes[axis_id];\n",
       "                        var local = current.matrixTransform(axis.getScreenCTM().inverse());\n",
       "                        if(inside(local.x, projection))\n",
       "                        {\n",
       "                            var domain = to_domain(local.x, projection);\n",
       "                            coordinates.style.visibility = \"visible\";\n",
       "                            coordinates.setAttribute(\"transform\", \"translate(\" + local.x + \")\");\n",
       "                            var text = coordinates.querySelector(\"text\");\n",
       "                            text.textContent = domain.toFixed(2);\n",
       "                        }\n",
       "                        else\n",
       "                        {\n",
       "                            coordinates.style.visibility= \"hidden\";\n",
       "                        }\n",
       "                    }\n",
       "                }\n",
       "            }\n",
       "\n",
       "            canvas.addEventListener(\"click\", display_coordinates);\n",
       "\n",
       "            var module = {};\n",
       "            module.show_coordinates = function(axis_id, projection)\n",
       "            {\n",
       "                axes[axis_id] = projection;\n",
       "            }\n",
       "\n",
       "            return module;\n",
       "        })(modules[\"toyplot/canvas\"]);\n",
       "(function(axis, axis_id, projection)\n",
       "        {\n",
       "            axis.show_coordinates(axis_id, projection);\n",
       "        })(modules[\"toyplot.coordinates.Axis\"],\"tab09983ad2724eadb092d8a18277fdb4\",[{\"domain\": {\"bounds\": {\"max\": Infinity, \"min\": -Infinity}, \"max\": 1.0425, \"min\": -0.2566800000000001}, \"range\": {\"bounds\": {\"max\": Infinity, \"min\": -Infinity}, \"max\": 200.0, \"min\": 0.0}, \"scale\": \"linear\"}]);\n",
       "})();</script></div></div>"
      ]
     },
     "metadata": {},
     "output_type": "display_data"
    }
   ],
   "source": [
    "# get a rooted tree with MAD scores stored as features\n",
    "tree.mod.root_on_minimal_ancestor_deviation().draw(ts='p');"
   ]
  },
  {
   "cell_type": "markdown",
   "id": "1d993045-cace-475b-aa0c-2e616e9b8a9a",
   "metadata": {},
   "source": [
    "## Root dist\n",
    "When rooting a tree it is important not only to select the correct edge on which to place the treenode, but also the correct position on that edge. For example, the edge could be split at its midpoint, or closer to one child node than the other. The true rooting position is not known, and so this is a place where a model-based inference can be useful. One common assumption is that the tree should be as close to ultrametric as possible, and thus a position should be selected on the edge that best aligns the tip nodes. This is approach taken by the midpoint and minimal-ancestor-deviation methods. In addition, the user can set a position manually using the manual rooting method. If the `root_dist` arg is left at its `default=None` setting in the `root` function then the edge midpoint will be used. Below I show two manual assignments of the root dist selecting either 0.1 units or 0.6 units up from the selected Node."
   ]
  },
  {
   "cell_type": "code",
   "execution_count": 10,
   "id": "24afdee5-81dd-430e-bfb5-f71c98e39114",
   "metadata": {},
   "outputs": [
    {
     "data": {
      "text/html": [
       "<div class=\"toyplot\" id=\"t7403412fea1449e1a34eca495bf7f29d\" style=\"text-align:center\"><svg class=\"toyplot-canvas-Canvas\" xmlns:toyplot=\"http://www.sandia.gov/toyplot\" xmlns:xlink=\"http://www.w3.org/1999/xlink\" xmlns=\"http://www.w3.org/2000/svg\" width=\"300.0px\" height=\"300.0px\" viewBox=\"0 0 300.0 300.0\" preserveAspectRatio=\"xMidYMid meet\" style=\"background-color:transparent;border-color:#292724;border-style:none;border-width:1.0;fill:rgb(16.1%,15.3%,14.1%);fill-opacity:1.0;font-family:Helvetica;font-size:12px;opacity:1.0;stroke:rgb(16.1%,15.3%,14.1%);stroke-opacity:1.0;stroke-width:1.0\" id=\"td170d7f6481e48ed8c3a6324fab9ec12\"><g class=\"toyplot-coordinates-Cartesian\" id=\"tb08efa6345814024807ab00ab6a39a96\"><clipPath id=\"teb7d2c161c4e46c598cec386892f0816\"><rect x=\"35.0\" y=\"35.0\" width=\"230.0\" height=\"230.0\"></rect></clipPath><g clip-path=\"url(#teb7d2c161c4e46c598cec386892f0816)\"><g class=\"toytree-mark-Toytree\" id=\"tca67430833a1483aa5f65518df4cae08\"><g class=\"toytree-Edges\" style=\"stroke:rgb(14.5%,14.5%,14.5%);stroke-opacity:1.0;stroke-linecap:round;stroke-width:2.0;fill:none\"><path d=\"M 80.9 69.0 L 57.8 152.2\" id=\"5,0\" style=\"\"></path><path d=\"M 80.9 69.0 L 103.9 152.2\" id=\"5,1\" style=\"\"></path><path d=\"M 173.0 168.9 L 150.0 210.5\" id=\"6,2\" style=\"\"></path><path d=\"M 173.0 168.9 L 196.1 210.5\" id=\"6,3\" style=\"\"></path><path d=\"M 207.6 127.3 L 242.2 210.5\" id=\"7,4\" style=\"\"></path><path d=\"M 144.2 56.5 L 80.9 69.0\" id=\"8,5\" style=\"\"></path><path d=\"M 207.6 127.3 L 173.0 168.9\" id=\"7,6\" style=\"\"></path><path d=\"M 144.2 56.5 L 207.6 127.3\" id=\"8,7\" style=\"\"></path></g><g class=\"toytree-AdmixEdges\" style=\"fill:rgb(0.0%,0.0%,0.0%);fill-opacity:0.0;stroke:rgb(90.6%,54.1%,76.5%);stroke-opacity:0.6;font-size:14px;stroke-linecap:round;stroke-width:5\"></g><g class=\"toytree-Nodes\" style=\"fill:rgb(40.0%,76.1%,64.7%);fill-opacity:1.0;stroke:rgb(14.5%,14.5%,14.5%);stroke-opacity:1.0;stroke-width:1.0\"><g id=\"Node-0\" transform=\"translate(57.8341,152.237)\"><circle r=\"7.5\"></circle></g><g id=\"Node-1\" transform=\"translate(103.917,152.237)\"><circle r=\"7.5\"></circle></g><g id=\"Node-2\" transform=\"translate(150,210.486)\"><circle r=\"7.5\"></circle></g><g id=\"Node-3\" transform=\"translate(196.083,210.486)\"><circle r=\"7.5\"></circle></g><g id=\"Node-4\" transform=\"translate(242.166,210.486)\"><circle r=\"7.5\"></circle></g><g id=\"Node-5\" transform=\"translate(80.8756,69.0245)\"><circle r=\"7.5\"></circle></g><g id=\"Node-6\" transform=\"translate(173.041,168.88)\"><circle r=\"7.5\"></circle></g><g id=\"Node-7\" transform=\"translate(207.604,127.273)\"><circle r=\"7.5\"></circle></g><g id=\"Node-8\" transform=\"translate(144.24,56.5426)\"><circle r=\"7.5\"></circle></g></g><g class=\"toytree-NodeLabels\" style=\"font-family:Helvetica;font-size:9px;font-weight:300;vertical-align:baseline;white-space:pre;stroke:none\"><g class=\"toytree-NodeLabel\" transform=\"translate(57.8341,152.237)\"><text x=\"-2.5020000000000002\" y=\"2.2995\" style=\"fill:rgb(14.5%,14.5%,14.5%);fill-opacity:1.0\">0</text></g><g class=\"toytree-NodeLabel\" transform=\"translate(103.917,152.237)\"><text x=\"-2.5020000000000002\" y=\"2.2995\" style=\"fill:rgb(14.5%,14.5%,14.5%);fill-opacity:1.0\">1</text></g><g class=\"toytree-NodeLabel\" transform=\"translate(150,210.486)\"><text x=\"-2.5020000000000002\" y=\"2.2995\" style=\"fill:rgb(14.5%,14.5%,14.5%);fill-opacity:1.0\">2</text></g><g class=\"toytree-NodeLabel\" transform=\"translate(196.083,210.486)\"><text x=\"-2.5020000000000002\" y=\"2.2995\" style=\"fill:rgb(14.5%,14.5%,14.5%);fill-opacity:1.0\">3</text></g><g class=\"toytree-NodeLabel\" transform=\"translate(242.166,210.486)\"><text x=\"-2.5020000000000002\" y=\"2.2995\" style=\"fill:rgb(14.5%,14.5%,14.5%);fill-opacity:1.0\">4</text></g><g class=\"toytree-NodeLabel\" transform=\"translate(80.8756,69.0245)\"><text x=\"-2.5020000000000002\" y=\"2.2995\" style=\"fill:rgb(14.5%,14.5%,14.5%);fill-opacity:1.0\">5</text></g><g class=\"toytree-NodeLabel\" transform=\"translate(173.041,168.88)\"><text x=\"-2.5020000000000002\" y=\"2.2995\" style=\"fill:rgb(14.5%,14.5%,14.5%);fill-opacity:1.0\">6</text></g><g class=\"toytree-NodeLabel\" transform=\"translate(207.604,127.273)\"><text x=\"-2.5020000000000002\" y=\"2.2995\" style=\"fill:rgb(14.5%,14.5%,14.5%);fill-opacity:1.0\">7</text></g><g class=\"toytree-NodeLabel\" transform=\"translate(144.24,56.5426)\"><text x=\"-2.5020000000000002\" y=\"2.2995\" style=\"fill:rgb(14.5%,14.5%,14.5%);fill-opacity:1.0\">8</text></g></g><g class=\"toytree-TipLabels\" style=\"fill:rgb(14.5%,14.5%,14.5%);fill-opacity:1.0;font-family:Helvetica;font-size:12px;font-weight:300;vertical-align:baseline;white-space:pre;stroke:none\"><g class=\"toytree-TipLabel\" transform=\"translate(57.8341,152.237)rotate(90)\"><text x=\"15.0\" y=\"3.066\" style=\"fill:rgb(14.5%,14.5%,14.5%);fill-opacity:1.0\">r3</text></g><g class=\"toytree-TipLabel\" transform=\"translate(103.917,152.237)rotate(90)\"><text x=\"15.0\" y=\"3.066\" style=\"fill:rgb(14.5%,14.5%,14.5%);fill-opacity:1.0\">r4</text></g><g class=\"toytree-TipLabel\" transform=\"translate(150,210.486)rotate(90)\"><text x=\"15.0\" y=\"3.066\" style=\"fill:rgb(14.5%,14.5%,14.5%);fill-opacity:1.0\">r0</text></g><g class=\"toytree-TipLabel\" transform=\"translate(196.083,210.486)rotate(90)\"><text x=\"15.0\" y=\"3.066\" style=\"fill:rgb(14.5%,14.5%,14.5%);fill-opacity:1.0\">r1</text></g><g class=\"toytree-TipLabel\" transform=\"translate(242.166,210.486)rotate(90)\"><text x=\"15.0\" y=\"3.066\" style=\"fill:rgb(14.5%,14.5%,14.5%);fill-opacity:1.0\">r2</text></g></g></g></g><g class=\"toyplot-coordinates-Axis\" id=\"t4fa05e3422fa408c916eca10529c6c28\" transform=\"translate(50.0,250.0)rotate(-90.0)translate(0,-15.0)\"><line x1=\"39.51415508243663\" y1=\"0\" x2=\"193.45741159808497\" y2=\"0\" style=\"\"></line><g><line x1=\"39.51415508243663\" y1=\"0\" x2=\"39.51415508243663\" y2=\"5\" style=\"\"></line><line x1=\"89.44169773616042\" y1=\"0\" x2=\"89.44169773616042\" y2=\"5\" style=\"\"></line><line x1=\"139.3692403898842\" y1=\"0\" x2=\"139.3692403898842\" y2=\"5\" style=\"\"></line><line x1=\"189.296783043608\" y1=\"0\" x2=\"189.296783043608\" y2=\"5\" style=\"\"></line></g><g><g transform=\"translate(39.51415508243663,-6)\"><text x=\"-2.78\" y=\"-4.440892098500626e-16\" style=\"fill:rgb(16.1%,15.3%,14.1%);fill-opacity:1.0;font-family:helvetica;font-size:10.0px;font-weight:normal;stroke:none;vertical-align:baseline;white-space:pre\">0</text></g><g transform=\"translate(89.44169773616042,-6)\"><text x=\"-6.95\" y=\"-4.440892098500626e-16\" style=\"fill:rgb(16.1%,15.3%,14.1%);fill-opacity:1.0;font-family:helvetica;font-size:10.0px;font-weight:normal;stroke:none;vertical-align:baseline;white-space:pre\">0.4</text></g><g transform=\"translate(139.3692403898842,-6)\"><text x=\"-6.95\" y=\"-4.440892098500626e-16\" style=\"fill:rgb(16.1%,15.3%,14.1%);fill-opacity:1.0;font-family:helvetica;font-size:10.0px;font-weight:normal;stroke:none;vertical-align:baseline;white-space:pre\">0.8</text></g><g transform=\"translate(189.296783043608,-6)\"><text x=\"-6.95\" y=\"-4.440892098500626e-16\" style=\"fill:rgb(16.1%,15.3%,14.1%);fill-opacity:1.0;font-family:helvetica;font-size:10.0px;font-weight:normal;stroke:none;vertical-align:baseline;white-space:pre\">1.2</text></g></g><g class=\"toyplot-coordinates-Axis-coordinates\" style=\"visibility:hidden\" transform=\"\"><line x1=\"0\" x2=\"0\" y1=\"3.0\" y2=\"-4.5\" style=\"stroke:rgb(43.9%,50.2%,56.5%);stroke-opacity:1.0;stroke-width:1.0\"></line><text x=\"0\" y=\"6\" style=\"alignment-baseline:hanging;fill:rgb(43.9%,50.2%,56.5%);fill-opacity:1.0;font-size:10px;font-weight:normal;stroke:none;text-anchor:middle\"></text></g></g></g></svg><div class=\"toyplot-behavior\"><script>(function()\n",
       "{\n",
       "var modules={};\n",
       "modules[\"toyplot/canvas/id\"] = \"td170d7f6481e48ed8c3a6324fab9ec12\";\n",
       "modules[\"toyplot/canvas\"] = (function(canvas_id)\n",
       "    {\n",
       "        return document.querySelector(\"#\" + canvas_id);\n",
       "    })(modules[\"toyplot/canvas/id\"]);\n",
       "modules[\"toyplot.coordinates.Axis\"] = (\n",
       "        function(canvas)\n",
       "        {\n",
       "            function sign(x)\n",
       "            {\n",
       "                return x < 0 ? -1 : x > 0 ? 1 : 0;\n",
       "            }\n",
       "\n",
       "            function mix(a, b, amount)\n",
       "            {\n",
       "                return ((1.0 - amount) * a) + (amount * b);\n",
       "            }\n",
       "\n",
       "            function log(x, base)\n",
       "            {\n",
       "                return Math.log(Math.abs(x)) / Math.log(base);\n",
       "            }\n",
       "\n",
       "            function in_range(a, x, b)\n",
       "            {\n",
       "                var left = Math.min(a, b);\n",
       "                var right = Math.max(a, b);\n",
       "                return left <= x && x <= right;\n",
       "            }\n",
       "\n",
       "            function inside(range, projection)\n",
       "            {\n",
       "                for(var i = 0; i != projection.length; ++i)\n",
       "                {\n",
       "                    var segment = projection[i];\n",
       "                    if(in_range(segment.range.min, range, segment.range.max))\n",
       "                        return true;\n",
       "                }\n",
       "                return false;\n",
       "            }\n",
       "\n",
       "            function to_domain(range, projection)\n",
       "            {\n",
       "                for(var i = 0; i != projection.length; ++i)\n",
       "                {\n",
       "                    var segment = projection[i];\n",
       "                    if(in_range(segment.range.bounds.min, range, segment.range.bounds.max))\n",
       "                    {\n",
       "                        if(segment.scale == \"linear\")\n",
       "                        {\n",
       "                            var amount = (range - segment.range.min) / (segment.range.max - segment.range.min);\n",
       "                            return mix(segment.domain.min, segment.domain.max, amount)\n",
       "                        }\n",
       "                        else if(segment.scale[0] == \"log\")\n",
       "                        {\n",
       "                            var amount = (range - segment.range.min) / (segment.range.max - segment.range.min);\n",
       "                            var base = segment.scale[1];\n",
       "                            return sign(segment.domain.min) * Math.pow(base, mix(log(segment.domain.min, base), log(segment.domain.max, base), amount));\n",
       "                        }\n",
       "                    }\n",
       "                }\n",
       "            }\n",
       "\n",
       "            var axes = {};\n",
       "\n",
       "            function display_coordinates(e)\n",
       "            {\n",
       "                var current = canvas.createSVGPoint();\n",
       "                current.x = e.clientX;\n",
       "                current.y = e.clientY;\n",
       "\n",
       "                for(var axis_id in axes)\n",
       "                {\n",
       "                    var axis = document.querySelector(\"#\" + axis_id);\n",
       "                    var coordinates = axis.querySelector(\".toyplot-coordinates-Axis-coordinates\");\n",
       "                    if(coordinates)\n",
       "                    {\n",
       "                        var projection = axes[axis_id];\n",
       "                        var local = current.matrixTransform(axis.getScreenCTM().inverse());\n",
       "                        if(inside(local.x, projection))\n",
       "                        {\n",
       "                            var domain = to_domain(local.x, projection);\n",
       "                            coordinates.style.visibility = \"visible\";\n",
       "                            coordinates.setAttribute(\"transform\", \"translate(\" + local.x + \")\");\n",
       "                            var text = coordinates.querySelector(\"text\");\n",
       "                            text.textContent = domain.toFixed(2);\n",
       "                        }\n",
       "                        else\n",
       "                        {\n",
       "                            coordinates.style.visibility= \"hidden\";\n",
       "                        }\n",
       "                    }\n",
       "                }\n",
       "            }\n",
       "\n",
       "            canvas.addEventListener(\"click\", display_coordinates);\n",
       "\n",
       "            var module = {};\n",
       "            module.show_coordinates = function(axis_id, projection)\n",
       "            {\n",
       "                axes[axis_id] = projection;\n",
       "            }\n",
       "\n",
       "            return module;\n",
       "        })(modules[\"toyplot/canvas\"]);\n",
       "(function(axis, axis_id, projection)\n",
       "        {\n",
       "            axis.show_coordinates(axis_id, projection);\n",
       "        })(modules[\"toyplot.coordinates.Axis\"],\"t4fa05e3422fa408c916eca10529c6c28\",[{\"domain\": {\"bounds\": {\"max\": Infinity, \"min\": -Infinity}, \"max\": 1.28575, \"min\": -0.31657200000000013}, \"range\": {\"bounds\": {\"max\": Infinity, \"min\": -Infinity}, \"max\": 200.0, \"min\": 0.0}, \"scale\": \"linear\"}]);\n",
       "})();</script></div></div>"
      ]
     },
     "metadata": {},
     "output_type": "display_data"
    }
   ],
   "source": [
    "# manual set rooting position 0.1 height units above clade (r3,r4)\n",
    "utree.root(\"r3\", \"r4\", root_dist=0.1).draw(ts='p');"
   ]
  },
  {
   "cell_type": "code",
   "execution_count": 11,
   "id": "b195dd9d-da83-4700-b841-3211921cfb52",
   "metadata": {},
   "outputs": [
    {
     "data": {
      "text/html": [
       "<div class=\"toyplot\" id=\"t8b25b0a6489c46bc905b44a7bfb4827a\" style=\"text-align:center\"><svg class=\"toyplot-canvas-Canvas\" xmlns:toyplot=\"http://www.sandia.gov/toyplot\" xmlns:xlink=\"http://www.w3.org/1999/xlink\" xmlns=\"http://www.w3.org/2000/svg\" width=\"300.0px\" height=\"300.0px\" viewBox=\"0 0 300.0 300.0\" preserveAspectRatio=\"xMidYMid meet\" style=\"background-color:transparent;border-color:#292724;border-style:none;border-width:1.0;fill:rgb(16.1%,15.3%,14.1%);fill-opacity:1.0;font-family:Helvetica;font-size:12px;opacity:1.0;stroke:rgb(16.1%,15.3%,14.1%);stroke-opacity:1.0;stroke-width:1.0\" id=\"t2589bde551bc488fb2391b061a5b15f7\"><g class=\"toyplot-coordinates-Cartesian\" id=\"t2051e7734e95416688cef99f043ba90d\"><clipPath id=\"tb8aa295fd5bf45869c685619249a9dbb\"><rect x=\"35.0\" y=\"35.0\" width=\"230.0\" height=\"230.0\"></rect></clipPath><g clip-path=\"url(#tb8aa295fd5bf45869c685619249a9dbb)\"><g class=\"toytree-mark-Toytree\" id=\"te238aaceb9b644c19e68ff4beea128e9\"><g class=\"toytree-Edges\" style=\"stroke:rgb(14.5%,14.5%,14.5%);stroke-opacity:1.0;stroke-linecap:round;stroke-width:2.0;fill:none\"><path d=\"M 80.9 129.5 L 57.8 210.5\" id=\"5,0\" style=\"\"></path><path d=\"M 80.9 129.5 L 103.9 210.5\" id=\"5,1\" style=\"\"></path><path d=\"M 173.0 105.2 L 150.0 145.7\" id=\"6,2\" style=\"\"></path><path d=\"M 173.0 105.2 L 196.1 145.7\" id=\"6,3\" style=\"\"></path><path d=\"M 207.6 64.6 L 242.2 145.7\" id=\"7,4\" style=\"\"></path><path d=\"M 144.2 56.5 L 80.9 129.5\" id=\"8,5\" style=\"\"></path><path d=\"M 207.6 64.6 L 173.0 105.2\" id=\"7,6\" style=\"\"></path><path d=\"M 144.2 56.5 L 207.6 64.6\" id=\"8,7\" style=\"\"></path></g><g class=\"toytree-AdmixEdges\" style=\"fill:rgb(0.0%,0.0%,0.0%);fill-opacity:0.0;stroke:rgb(90.6%,54.1%,76.5%);stroke-opacity:0.6;font-size:14px;stroke-linecap:round;stroke-width:5\"></g><g class=\"toytree-Nodes\" style=\"fill:rgb(40.0%,76.1%,64.7%);fill-opacity:1.0;stroke:rgb(14.5%,14.5%,14.5%);stroke-opacity:1.0;stroke-width:1.0\"><g id=\"Node-0\" transform=\"translate(57.8341,210.486)\"><circle r=\"7.5\"></circle></g><g id=\"Node-1\" transform=\"translate(103.917,210.486)\"><circle r=\"7.5\"></circle></g><g id=\"Node-2\" transform=\"translate(150,145.668)\"><circle r=\"7.5\"></circle></g><g id=\"Node-3\" transform=\"translate(196.083,145.668)\"><circle r=\"7.5\"></circle></g><g id=\"Node-4\" transform=\"translate(242.166,145.668)\"><circle r=\"7.5\"></circle></g><g id=\"Node-5\" transform=\"translate(80.8756,129.463)\"><circle r=\"7.5\"></circle></g><g id=\"Node-6\" transform=\"translate(173.041,105.156)\"><circle r=\"7.5\"></circle></g><g id=\"Node-7\" transform=\"translate(207.604,64.6449)\"><circle r=\"7.5\"></circle></g><g id=\"Node-8\" transform=\"translate(144.24,56.5426)\"><circle r=\"7.5\"></circle></g></g><g class=\"toytree-NodeLabels\" style=\"font-family:Helvetica;font-size:9px;font-weight:300;vertical-align:baseline;white-space:pre;stroke:none\"><g class=\"toytree-NodeLabel\" transform=\"translate(57.8341,210.486)\"><text x=\"-2.5020000000000002\" y=\"2.2995\" style=\"fill:rgb(14.5%,14.5%,14.5%);fill-opacity:1.0\">0</text></g><g class=\"toytree-NodeLabel\" transform=\"translate(103.917,210.486)\"><text x=\"-2.5020000000000002\" y=\"2.2995\" style=\"fill:rgb(14.5%,14.5%,14.5%);fill-opacity:1.0\">1</text></g><g class=\"toytree-NodeLabel\" transform=\"translate(150,145.668)\"><text x=\"-2.5020000000000002\" y=\"2.2995\" style=\"fill:rgb(14.5%,14.5%,14.5%);fill-opacity:1.0\">2</text></g><g class=\"toytree-NodeLabel\" transform=\"translate(196.083,145.668)\"><text x=\"-2.5020000000000002\" y=\"2.2995\" style=\"fill:rgb(14.5%,14.5%,14.5%);fill-opacity:1.0\">3</text></g><g class=\"toytree-NodeLabel\" transform=\"translate(242.166,145.668)\"><text x=\"-2.5020000000000002\" y=\"2.2995\" style=\"fill:rgb(14.5%,14.5%,14.5%);fill-opacity:1.0\">4</text></g><g class=\"toytree-NodeLabel\" transform=\"translate(80.8756,129.463)\"><text x=\"-2.5020000000000002\" y=\"2.2995\" style=\"fill:rgb(14.5%,14.5%,14.5%);fill-opacity:1.0\">5</text></g><g class=\"toytree-NodeLabel\" transform=\"translate(173.041,105.156)\"><text x=\"-2.5020000000000002\" y=\"2.2995\" style=\"fill:rgb(14.5%,14.5%,14.5%);fill-opacity:1.0\">6</text></g><g class=\"toytree-NodeLabel\" transform=\"translate(207.604,64.6449)\"><text x=\"-2.5020000000000002\" y=\"2.2995\" style=\"fill:rgb(14.5%,14.5%,14.5%);fill-opacity:1.0\">7</text></g><g class=\"toytree-NodeLabel\" transform=\"translate(144.24,56.5426)\"><text x=\"-2.5020000000000002\" y=\"2.2995\" style=\"fill:rgb(14.5%,14.5%,14.5%);fill-opacity:1.0\">8</text></g></g><g class=\"toytree-TipLabels\" style=\"fill:rgb(14.5%,14.5%,14.5%);fill-opacity:1.0;font-family:Helvetica;font-size:12px;font-weight:300;vertical-align:baseline;white-space:pre;stroke:none\"><g class=\"toytree-TipLabel\" transform=\"translate(57.8341,210.486)rotate(90)\"><text x=\"15.0\" y=\"3.066\" style=\"fill:rgb(14.5%,14.5%,14.5%);fill-opacity:1.0\">r3</text></g><g class=\"toytree-TipLabel\" transform=\"translate(103.917,210.486)rotate(90)\"><text x=\"15.0\" y=\"3.066\" style=\"fill:rgb(14.5%,14.5%,14.5%);fill-opacity:1.0\">r4</text></g><g class=\"toytree-TipLabel\" transform=\"translate(150,145.668)rotate(90)\"><text x=\"15.0\" y=\"3.066\" style=\"fill:rgb(14.5%,14.5%,14.5%);fill-opacity:1.0\">r0</text></g><g class=\"toytree-TipLabel\" transform=\"translate(196.083,145.668)rotate(90)\"><text x=\"15.0\" y=\"3.066\" style=\"fill:rgb(14.5%,14.5%,14.5%);fill-opacity:1.0\">r1</text></g><g class=\"toytree-TipLabel\" transform=\"translate(242.166,145.668)rotate(90)\"><text x=\"15.0\" y=\"3.066\" style=\"fill:rgb(14.5%,14.5%,14.5%);fill-opacity:1.0\">r2</text></g></g></g></g><g class=\"toyplot-coordinates-Axis\" id=\"tdce7c2024c7443489b4971ebe01cde9b\" transform=\"translate(50.0,250.0)rotate(-90.0)translate(0,-15.0)\"><line x1=\"39.514155082436616\" y1=\"0\" x2=\"193.45741159808495\" y2=\"0\" style=\"\"></line><g><line x1=\"39.514155082436616\" y1=\"0\" x2=\"39.514155082436616\" y2=\"5\" style=\"\"></line><line x1=\"88.12781503474663\" y1=\"0\" x2=\"88.12781503474663\" y2=\"5\" style=\"\"></line><line x1=\"136.74147498705662\" y1=\"0\" x2=\"136.74147498705662\" y2=\"5\" style=\"\"></line><line x1=\"185.35513493936665\" y1=\"0\" x2=\"185.35513493936665\" y2=\"5\" style=\"\"></line></g><g><g transform=\"translate(39.514155082436616,-6)\"><text x=\"-2.78\" y=\"-4.440892098500626e-16\" style=\"fill:rgb(16.1%,15.3%,14.1%);fill-opacity:1.0;font-family:helvetica;font-size:10.0px;font-weight:normal;stroke:none;vertical-align:baseline;white-space:pre\">0</text></g><g transform=\"translate(88.12781503474663,-6)\"><text x=\"-6.95\" y=\"-4.440892098500626e-16\" style=\"fill:rgb(16.1%,15.3%,14.1%);fill-opacity:1.0;font-family:helvetica;font-size:10.0px;font-weight:normal;stroke:none;vertical-align:baseline;white-space:pre\">0.4</text></g><g transform=\"translate(136.74147498705662,-6)\"><text x=\"-6.95\" y=\"-4.440892098500626e-16\" style=\"fill:rgb(16.1%,15.3%,14.1%);fill-opacity:1.0;font-family:helvetica;font-size:10.0px;font-weight:normal;stroke:none;vertical-align:baseline;white-space:pre\">0.8</text></g><g transform=\"translate(185.35513493936665,-6)\"><text x=\"-6.95\" y=\"-4.440892098500626e-16\" style=\"fill:rgb(16.1%,15.3%,14.1%);fill-opacity:1.0;font-family:helvetica;font-size:10.0px;font-weight:normal;stroke:none;vertical-align:baseline;white-space:pre\">1.2</text></g></g><g class=\"toyplot-coordinates-Axis-coordinates\" style=\"visibility:hidden\" transform=\"\"><line x1=\"0\" x2=\"0\" y1=\"3.0\" y2=\"-4.5\" style=\"stroke:rgb(43.9%,50.2%,56.5%);stroke-opacity:1.0;stroke-width:1.0\"></line><text x=\"0\" y=\"6\" style=\"alignment-baseline:hanging;fill:rgb(43.9%,50.2%,56.5%);fill-opacity:1.0;font-size:10px;font-weight:normal;stroke:none;text-anchor:middle\"></text></g></g></g></svg><div class=\"toyplot-behavior\"><script>(function()\n",
       "{\n",
       "var modules={};\n",
       "modules[\"toyplot/canvas/id\"] = \"t2589bde551bc488fb2391b061a5b15f7\";\n",
       "modules[\"toyplot/canvas\"] = (function(canvas_id)\n",
       "    {\n",
       "        return document.querySelector(\"#\" + canvas_id);\n",
       "    })(modules[\"toyplot/canvas/id\"]);\n",
       "modules[\"toyplot.coordinates.Axis\"] = (\n",
       "        function(canvas)\n",
       "        {\n",
       "            function sign(x)\n",
       "            {\n",
       "                return x < 0 ? -1 : x > 0 ? 1 : 0;\n",
       "            }\n",
       "\n",
       "            function mix(a, b, amount)\n",
       "            {\n",
       "                return ((1.0 - amount) * a) + (amount * b);\n",
       "            }\n",
       "\n",
       "            function log(x, base)\n",
       "            {\n",
       "                return Math.log(Math.abs(x)) / Math.log(base);\n",
       "            }\n",
       "\n",
       "            function in_range(a, x, b)\n",
       "            {\n",
       "                var left = Math.min(a, b);\n",
       "                var right = Math.max(a, b);\n",
       "                return left <= x && x <= right;\n",
       "            }\n",
       "\n",
       "            function inside(range, projection)\n",
       "            {\n",
       "                for(var i = 0; i != projection.length; ++i)\n",
       "                {\n",
       "                    var segment = projection[i];\n",
       "                    if(in_range(segment.range.min, range, segment.range.max))\n",
       "                        return true;\n",
       "                }\n",
       "                return false;\n",
       "            }\n",
       "\n",
       "            function to_domain(range, projection)\n",
       "            {\n",
       "                for(var i = 0; i != projection.length; ++i)\n",
       "                {\n",
       "                    var segment = projection[i];\n",
       "                    if(in_range(segment.range.bounds.min, range, segment.range.bounds.max))\n",
       "                    {\n",
       "                        if(segment.scale == \"linear\")\n",
       "                        {\n",
       "                            var amount = (range - segment.range.min) / (segment.range.max - segment.range.min);\n",
       "                            return mix(segment.domain.min, segment.domain.max, amount)\n",
       "                        }\n",
       "                        else if(segment.scale[0] == \"log\")\n",
       "                        {\n",
       "                            var amount = (range - segment.range.min) / (segment.range.max - segment.range.min);\n",
       "                            var base = segment.scale[1];\n",
       "                            return sign(segment.domain.min) * Math.pow(base, mix(log(segment.domain.min, base), log(segment.domain.max, base), amount));\n",
       "                        }\n",
       "                    }\n",
       "                }\n",
       "            }\n",
       "\n",
       "            var axes = {};\n",
       "\n",
       "            function display_coordinates(e)\n",
       "            {\n",
       "                var current = canvas.createSVGPoint();\n",
       "                current.x = e.clientX;\n",
       "                current.y = e.clientY;\n",
       "\n",
       "                for(var axis_id in axes)\n",
       "                {\n",
       "                    var axis = document.querySelector(\"#\" + axis_id);\n",
       "                    var coordinates = axis.querySelector(\".toyplot-coordinates-Axis-coordinates\");\n",
       "                    if(coordinates)\n",
       "                    {\n",
       "                        var projection = axes[axis_id];\n",
       "                        var local = current.matrixTransform(axis.getScreenCTM().inverse());\n",
       "                        if(inside(local.x, projection))\n",
       "                        {\n",
       "                            var domain = to_domain(local.x, projection);\n",
       "                            coordinates.style.visibility = \"visible\";\n",
       "                            coordinates.setAttribute(\"transform\", \"translate(\" + local.x + \")\");\n",
       "                            var text = coordinates.querySelector(\"text\");\n",
       "                            text.textContent = domain.toFixed(2);\n",
       "                        }\n",
       "                        else\n",
       "                        {\n",
       "                            coordinates.style.visibility= \"hidden\";\n",
       "                        }\n",
       "                    }\n",
       "                }\n",
       "            }\n",
       "\n",
       "            canvas.addEventListener(\"click\", display_coordinates);\n",
       "\n",
       "            var module = {};\n",
       "            module.show_coordinates = function(axis_id, projection)\n",
       "            {\n",
       "                axes[axis_id] = projection;\n",
       "            }\n",
       "\n",
       "            return module;\n",
       "        })(modules[\"toyplot/canvas\"]);\n",
       "(function(axis, axis_id, projection)\n",
       "        {\n",
       "            axis.show_coordinates(axis_id, projection);\n",
       "        })(modules[\"toyplot.coordinates.Axis\"],\"tdce7c2024c7443489b4971ebe01cde9b\",[{\"domain\": {\"bounds\": {\"max\": Infinity, \"min\": -Infinity}, \"max\": 1.3205, \"min\": -0.3251280000000001}, \"range\": {\"bounds\": {\"max\": Infinity, \"min\": -Infinity}, \"max\": 200.0, \"min\": 0.0}, \"scale\": \"linear\"}]);\n",
       "})();</script></div></div>"
      ]
     },
     "metadata": {},
     "output_type": "display_data"
    }
   ],
   "source": [
    "# manual set rooting position 0.6 height units above clade (r3,r4)\n",
    "utree.root(\"r3\", \"r4\", root_dist=0.6).draw(ts='p');"
   ]
  },
  {
   "cell_type": "markdown",
   "id": "06390091-ba3c-4e1f-aa5b-af7e33f50d87",
   "metadata": {},
   "source": [
    "## Infer root w/ MAD\n",
    "It is always best practice to include an outgroup in phylogenetic analyses, but in some cases the outgroup may be unknown or unavailable. In such cases it can be useful to apply methods for inferring the most likely root state based on edge length information. The best method for this currently implemented in `toytree` is using the minimal ancestor deviation score. \n",
    "\n",
    "The `root_on_minimal_ancestor_deviation` function in `toytree.mod` calculates the MAD score and the root probabilities for each edge in the tree. By default these scores are stored as edge features on the returned tree. In addition, global score info can be returned by using `return_stats=True` argument. This includes the `minimal_ancestor_deviation` score for the rooting edge (lower is better); the `root_ambiguity_index` (whether another edge is as good as the selected one. Lower is better); and the `root_clock_coefficient_of_variation` (how variable rates are, i.e., how non-ultrametric the tree is.) This is demonstrated below for an example where the rooted tree is ultrametric, and a case where it is very much not."
   ]
  },
  {
   "attachments": {},
   "cell_type": "markdown",
   "id": "348d4896-5002-4260-8791-f9b2fe3ee848",
   "metadata": {},
   "source": [
    "### MAD statistics\n",
    "When using `return_stats=True` this function returns _two_ objects, the tree and a dictionary. In this example tree (shown above) the values of each statistic are very low. A low value for the deviation, ambiguity, and variation indicates that the data do _not deviate_ much from a molecular clock, i.e., there is high confidence in this rooting under our assumed model."
   ]
  },
  {
   "cell_type": "code",
   "execution_count": 15,
   "id": "1a529c39-4873-453c-8f7c-5eba120a5396",
   "metadata": {},
   "outputs": [
    {
     "data": {
      "text/plain": [
       "{'minimal_ancestor_deviation': 0.0,\n",
       " 'root_ambiguity_index': 0.0,\n",
       " 'root_clock_coefficient_of_variation': 1.922962686383564e-14}"
      ]
     },
     "execution_count": 15,
     "metadata": {},
     "output_type": "execute_result"
    }
   ],
   "source": [
    "tree, stats = tree.mod.root_on_minimal_ancestor_deviation(return_stats=True)\n",
    "stats"
   ]
  },
  {
   "cell_type": "markdown",
   "id": "81222d7c-13a5-4a02-a254-c1c096833d77",
   "metadata": {},
   "source": [
    "Whereas in this example non-ultrametric tree the MAD, ambiguity, and clock variation are all very high."
   ]
  },
  {
   "cell_type": "code",
   "execution_count": 16,
   "id": "afbe3d8c-f5b7-4e32-91db-9fecd9edc9b6",
   "metadata": {},
   "outputs": [
    {
     "data": {
      "text/plain": [
       "{'minimal_ancestor_deviation': 0.20917796400513627,\n",
       " 'root_ambiguity_index': 0.6933363339758273,\n",
       " 'root_clock_coefficient_of_variation': 20.149827109858318}"
      ]
     },
     "execution_count": 16,
     "metadata": {},
     "output_type": "execute_result"
    },
    {
     "data": {
      "text/html": [
       "<div class=\"toyplot\" id=\"t2b5a3dfebcfe41c69fd4424f4c65d0c9\" style=\"text-align:center\"><svg class=\"toyplot-canvas-Canvas\" xmlns:toyplot=\"http://www.sandia.gov/toyplot\" xmlns:xlink=\"http://www.w3.org/1999/xlink\" xmlns=\"http://www.w3.org/2000/svg\" width=\"300.0px\" height=\"300.0px\" viewBox=\"0 0 300.0 300.0\" preserveAspectRatio=\"xMidYMid meet\" style=\"background-color:transparent;border-color:#292724;border-style:none;border-width:1.0;fill:rgb(16.1%,15.3%,14.1%);fill-opacity:1.0;font-family:Helvetica;font-size:12px;opacity:1.0;stroke:rgb(16.1%,15.3%,14.1%);stroke-opacity:1.0;stroke-width:1.0\" id=\"tb00ea538d8684deab0f8978d398a876f\"><g class=\"toyplot-coordinates-Cartesian\" id=\"t4ac9386cc6aa47b2ad90c7ba2661aa76\"><clipPath id=\"tab990feefe404492a8094b50375e1b93\"><rect x=\"35.0\" y=\"35.0\" width=\"230.0\" height=\"230.0\"></rect></clipPath><g clip-path=\"url(#tab990feefe404492a8094b50375e1b93)\"><g class=\"toytree-mark-Toytree\" id=\"td06e524fb7c1476f82b8dcf8e6d441cf\"><g class=\"toytree-Edges\" style=\"stroke:rgb(14.5%,14.5%,14.5%);stroke-opacity:1.0;stroke-linecap:round;stroke-width:2.0;fill:none\"><path d=\"M 82.6 90.4 L 56.7 90.4 L 56.7 130.1\" id=\"13,0\" style=\"\"></path><path d=\"M 87.8 169.7 L 77.4 169.7 L 77.4 209.3\" id=\"10,1\" style=\"\"></path><path d=\"M 87.8 169.7 L 98.2 169.7 L 98.2 209.3\" id=\"10,2\" style=\"\"></path><path d=\"M 129.3 169.7 L 118.9 169.7 L 118.9 209.3\" id=\"11,3\" style=\"\"></path><path d=\"M 129.3 169.7 L 139.6 169.7 L 139.6 209.3\" id=\"11,4\" style=\"\"></path><path d=\"M 170.7 130.1 L 160.4 130.1 L 160.4 169.7\" id=\"14,5\" style=\"\"></path><path d=\"M 170.7 130.1 L 181.1 130.1 L 181.1 169.7\" id=\"14,6\" style=\"\"></path><path d=\"M 212.2 169.7 L 201.8 169.7 L 201.8 209.3\" id=\"15,7\" style=\"\"></path><path d=\"M 212.2 169.7 L 222.6 169.7 L 222.6 209.3\" id=\"15,8\" style=\"\"></path><path d=\"M 227.7 130.1 L 243.3 130.1 L 243.3 169.7\" id=\"16,9\" style=\"\"></path><path d=\"M 108.5 130.1 L 87.8 130.1 L 87.8 169.7\" id=\"12,10\" style=\"\"></path><path d=\"M 108.5 130.1 L 129.3 130.1 L 129.3 169.7\" id=\"12,11\" style=\"\"></path><path d=\"M 82.6 90.4 L 108.5 90.4 L 108.5 130.1\" id=\"13,12\" style=\"\"></path><path d=\"M 140.9 50.8 L 82.6 50.8 L 82.6 90.4\" id=\"18,13\" style=\"\"></path><path d=\"M 199.2 90.4 L 170.7 90.4 L 170.7 130.1\" id=\"17,14\" style=\"\"></path><path d=\"M 227.7 130.1 L 212.2 130.1 L 212.2 169.7\" id=\"16,15\" style=\"\"></path><path d=\"M 199.2 90.4 L 227.7 90.4 L 227.7 130.1\" id=\"17,16\" style=\"\"></path><path d=\"M 140.9 50.8 L 199.2 50.8 L 199.2 90.4\" id=\"18,17\" style=\"\"></path></g><g class=\"toytree-AdmixEdges\" style=\"fill:rgb(0.0%,0.0%,0.0%);fill-opacity:0.0;stroke:rgb(90.6%,54.1%,76.5%);stroke-opacity:0.6;font-size:14px;stroke-linecap:round;stroke-width:5\"></g><g class=\"toytree-Nodes\" style=\"fill:rgb(40.0%,76.1%,64.7%);fill-opacity:1.0;stroke:rgb(14.9%,14.9%,14.9%);stroke-opacity:1.0;stroke-width:1.5\"></g><g class=\"toytree-TipLabels\" style=\"fill:rgb(14.5%,14.5%,14.5%);fill-opacity:1.0;font-family:Helvetica;font-size:12px;font-weight:300;vertical-align:baseline;white-space:pre;stroke:none\"><g class=\"toytree-TipLabel\" transform=\"translate(56.7164,130.052)rotate(90)\"><text x=\"15.0\" y=\"3.066\" style=\"fill:rgb(14.5%,14.5%,14.5%);fill-opacity:1.0\">r0</text></g><g class=\"toytree-TipLabel\" transform=\"translate(77.4461,209.311)rotate(90)\"><text x=\"15.0\" y=\"3.066\" style=\"fill:rgb(14.5%,14.5%,14.5%);fill-opacity:1.0\">r1</text></g><g class=\"toytree-TipLabel\" transform=\"translate(98.1758,209.311)rotate(90)\"><text x=\"15.0\" y=\"3.066\" style=\"fill:rgb(14.5%,14.5%,14.5%);fill-opacity:1.0\">r2</text></g><g class=\"toytree-TipLabel\" transform=\"translate(118.905,209.311)rotate(90)\"><text x=\"15.0\" y=\"3.066\" style=\"fill:rgb(14.5%,14.5%,14.5%);fill-opacity:1.0\">r3</text></g><g class=\"toytree-TipLabel\" transform=\"translate(139.635,209.311)rotate(90)\"><text x=\"15.0\" y=\"3.066\" style=\"fill:rgb(14.5%,14.5%,14.5%);fill-opacity:1.0\">r4</text></g><g class=\"toytree-TipLabel\" transform=\"translate(160.365,169.682)rotate(90)\"><text x=\"15.0\" y=\"3.066\" style=\"fill:rgb(14.5%,14.5%,14.5%);fill-opacity:1.0\">r5</text></g><g class=\"toytree-TipLabel\" transform=\"translate(181.095,169.682)rotate(90)\"><text x=\"15.0\" y=\"3.066\" style=\"fill:rgb(14.5%,14.5%,14.5%);fill-opacity:1.0\">r6</text></g><g class=\"toytree-TipLabel\" transform=\"translate(201.824,209.311)rotate(90)\"><text x=\"15.0\" y=\"3.066\" style=\"fill:rgb(14.5%,14.5%,14.5%);fill-opacity:1.0\">r7</text></g><g class=\"toytree-TipLabel\" transform=\"translate(222.554,209.311)rotate(90)\"><text x=\"15.0\" y=\"3.066\" style=\"fill:rgb(14.5%,14.5%,14.5%);fill-opacity:1.0\">r8</text></g><g class=\"toytree-TipLabel\" transform=\"translate(243.284,169.682)rotate(90)\"><text x=\"15.0\" y=\"3.066\" style=\"fill:rgb(14.5%,14.5%,14.5%);fill-opacity:1.0\">r9</text></g></g></g></g></g></svg><div class=\"toyplot-behavior\"><script>(function()\n",
       "{\n",
       "var modules={};\n",
       "})();</script></div></div>"
      ]
     },
     "metadata": {},
     "output_type": "display_data"
    }
   ],
   "source": [
    "# create a non-ultrametric tree and draw it\n",
    "non_ultrametric_tree = toytree.rtree.rtree(10)\n",
    "non_ultrametric_tree.draw(layout='d');\n",
    "\n",
    "# calculate and return the global MAD stats\n",
    "_, stats = non_ultrametric_tree.mod.root_on_minimal_ancestor_deviation(return_stats=True)\n",
    "stats"
   ]
  },
  {
   "attachments": {},
   "cell_type": "markdown",
   "id": "799778d9-0a51-4c5e-820f-f597eb328a0e",
   "metadata": {},
   "source": [
    "### Compare MAD rootings\n",
    "\n",
    "Whether or not you use the argument `return_stats=True`, statistics of the MAD analysis will be stored to Node's of the return ToyTree. \n",
    "This is one of the real strengths of the MAD approach: it not only finds the best edge on which to root a tree, but it also reports scores for all alternative rootings, and how much better one is than another. You can examine this data stored inside the returned ToyTree object. This is returned for each edge on the tree as a \"MAD\" and \"MAD_root_prob\" score feature. For example, in the tree below, the MAD score for the correct root position is 0.0, indicating that the tree is perfectly ultrametric when rooted at this position. The MAD rooting function correctly infers that this is the best root position, and assigns it as the root. The MAD_root_prob for this edge is 0.20 (the same probability is assigned to nodes 5 and 7, since they share edge on which the root node is placed. As we saw above, the global `root_ambiguity_index' for this rooting was 0.0, meaning that the 0.201 probability for this placement is significantly better than the 0.15 root probability for the next highest scoring edge."
   ]
  },
  {
   "cell_type": "code",
   "execution_count": 20,
   "id": "2dcb958a-73cf-4731-9bd1-72a35a9ebaf7",
   "metadata": {},
   "outputs": [
    {
     "data": {
      "text/html": [
       "<div>\n",
       "<style scoped>\n",
       "    .dataframe tbody tr th:only-of-type {\n",
       "        vertical-align: middle;\n",
       "    }\n",
       "\n",
       "    .dataframe tbody tr th {\n",
       "        vertical-align: top;\n",
       "    }\n",
       "\n",
       "    .dataframe thead th {\n",
       "        text-align: right;\n",
       "    }\n",
       "</style>\n",
       "<table border=\"1\" class=\"dataframe\">\n",
       "  <thead>\n",
       "    <tr style=\"text-align: right;\">\n",
       "      <th></th>\n",
       "      <th>idx</th>\n",
       "      <th>name</th>\n",
       "      <th>height</th>\n",
       "      <th>dist</th>\n",
       "      <th>support</th>\n",
       "      <th>MAD</th>\n",
       "      <th>MAD_root_prob</th>\n",
       "    </tr>\n",
       "  </thead>\n",
       "  <tbody>\n",
       "    <tr>\n",
       "      <th>0</th>\n",
       "      <td>0</td>\n",
       "      <td>r0</td>\n",
       "      <td>0.000000e+00</td>\n",
       "      <td>0.333333</td>\n",
       "      <td>NaN</td>\n",
       "      <td>0.500000</td>\n",
       "      <td>0.10066</td>\n",
       "    </tr>\n",
       "    <tr>\n",
       "      <th>1</th>\n",
       "      <td>1</td>\n",
       "      <td>r1</td>\n",
       "      <td>0.000000e+00</td>\n",
       "      <td>0.333333</td>\n",
       "      <td>NaN</td>\n",
       "      <td>0.500000</td>\n",
       "      <td>0.10066</td>\n",
       "    </tr>\n",
       "    <tr>\n",
       "      <th>2</th>\n",
       "      <td>2</td>\n",
       "      <td>r2</td>\n",
       "      <td>0.000000e+00</td>\n",
       "      <td>0.666667</td>\n",
       "      <td>NaN</td>\n",
       "      <td>0.258199</td>\n",
       "      <td>0.14934</td>\n",
       "    </tr>\n",
       "    <tr>\n",
       "      <th>3</th>\n",
       "      <td>3</td>\n",
       "      <td>r3</td>\n",
       "      <td>2.220446e-16</td>\n",
       "      <td>0.666667</td>\n",
       "      <td>NaN</td>\n",
       "      <td>0.258199</td>\n",
       "      <td>0.14934</td>\n",
       "    </tr>\n",
       "    <tr>\n",
       "      <th>4</th>\n",
       "      <td>4</td>\n",
       "      <td>r4</td>\n",
       "      <td>2.220446e-16</td>\n",
       "      <td>0.666667</td>\n",
       "      <td>NaN</td>\n",
       "      <td>0.258199</td>\n",
       "      <td>0.14934</td>\n",
       "    </tr>\n",
       "    <tr>\n",
       "      <th>5</th>\n",
       "      <td>5</td>\n",
       "      <td></td>\n",
       "      <td>3.333333e-01</td>\n",
       "      <td>0.333333</td>\n",
       "      <td>NaN</td>\n",
       "      <td>0.258199</td>\n",
       "      <td>0.14934</td>\n",
       "    </tr>\n",
       "    <tr>\n",
       "      <th>6</th>\n",
       "      <td>6</td>\n",
       "      <td></td>\n",
       "      <td>6.666667e-01</td>\n",
       "      <td>0.333333</td>\n",
       "      <td>NaN</td>\n",
       "      <td>0.000000</td>\n",
       "      <td>0.20132</td>\n",
       "    </tr>\n",
       "    <tr>\n",
       "      <th>7</th>\n",
       "      <td>7</td>\n",
       "      <td></td>\n",
       "      <td>6.666667e-01</td>\n",
       "      <td>0.333333</td>\n",
       "      <td>NaN</td>\n",
       "      <td>0.000000</td>\n",
       "      <td>0.20132</td>\n",
       "    </tr>\n",
       "    <tr>\n",
       "      <th>8</th>\n",
       "      <td>8</td>\n",
       "      <td>root</td>\n",
       "      <td>1.000000e+00</td>\n",
       "      <td>0.000000</td>\n",
       "      <td>NaN</td>\n",
       "      <td>NaN</td>\n",
       "      <td>NaN</td>\n",
       "    </tr>\n",
       "  </tbody>\n",
       "</table>\n",
       "</div>"
      ],
      "text/plain": [
       "   idx  name        height      dist  support       MAD  MAD_root_prob\n",
       "0    0    r0  0.000000e+00  0.333333      NaN  0.500000        0.10066\n",
       "1    1    r1  0.000000e+00  0.333333      NaN  0.500000        0.10066\n",
       "2    2    r2  0.000000e+00  0.666667      NaN  0.258199        0.14934\n",
       "3    3    r3  2.220446e-16  0.666667      NaN  0.258199        0.14934\n",
       "4    4    r4  2.220446e-16  0.666667      NaN  0.258199        0.14934\n",
       "5    5        3.333333e-01  0.333333      NaN  0.258199        0.14934\n",
       "6    6        6.666667e-01  0.333333      NaN  0.000000        0.20132\n",
       "7    7        6.666667e-01  0.333333      NaN  0.000000        0.20132\n",
       "8    8  root  1.000000e+00  0.000000      NaN       NaN            NaN"
      ]
     },
     "execution_count": 20,
     "metadata": {},
     "output_type": "execute_result"
    }
   ],
   "source": [
    "# get a rooted tree with MAD scores stored as features\n",
    "mad_tree = tree.mod.root_on_minimal_ancestor_deviation()\n",
    "\n",
    "# examine all features stored to the ToyTree (which now include MAD info)\n",
    "mad_tree.get_node_data()"
   ]
  },
  {
   "cell_type": "markdown",
   "id": "01254213-f111-4ec8-87e3-b918ff503a0d",
   "metadata": {},
   "source": [
    "Finally, we could plot the MAD or MAD_root_prob scores on the edges of a tree easily, since they are stored as features to the returned rooted tree. "
   ]
  },
  {
   "cell_type": "code",
   "execution_count": 22,
   "id": "e6787749-193d-4bd9-b281-aebf5c4dedf5",
   "metadata": {},
   "outputs": [
    {
     "data": {
      "text/html": [
       "<div class=\"toyplot\" id=\"tad08e898fce04ebd8e772446249880cf\" style=\"text-align:center\"><svg class=\"toyplot-canvas-Canvas\" xmlns:toyplot=\"http://www.sandia.gov/toyplot\" xmlns:xlink=\"http://www.w3.org/1999/xlink\" xmlns=\"http://www.w3.org/2000/svg\" width=\"450.0px\" height=\"300.0px\" viewBox=\"0 0 450.0 300.0\" preserveAspectRatio=\"xMidYMid meet\" style=\"background-color:transparent;border-color:#292724;border-style:none;border-width:1.0;fill:rgb(16.1%,15.3%,14.1%);fill-opacity:1.0;font-family:Helvetica;font-size:12px;opacity:1.0;stroke:rgb(16.1%,15.3%,14.1%);stroke-opacity:1.0;stroke-width:1.0\" id=\"tf3976d5cff60467cbda8cb7ec8e74d95\"><g class=\"toyplot-coordinates-Cartesian\" id=\"tae141b93f3744835aceb415d99661435\"><clipPath id=\"tdad3a20ecb9d47cca9964d1fa983e41b\"><rect x=\"35.0\" y=\"35.0\" width=\"380.0\" height=\"230.0\"></rect></clipPath><g clip-path=\"url(#tdad3a20ecb9d47cca9964d1fa983e41b)\"><g class=\"toytree-mark-Toytree\" id=\"t076c460aceda43d18472528bc1ba5efb\"><g class=\"toytree-Edges\" style=\"stroke:rgb(14.5%,14.5%,14.5%);stroke-opacity:1.0;stroke-linecap:round;stroke-width:2.0;fill:none\"><path d=\"M 99.8 159.2 L 58.1 210.5\" id=\"5,0\" style=\"\"></path><path d=\"M 99.8 159.2 L 141.6 210.5\" id=\"5,1\" style=\"\"></path><path d=\"M 162.4 107.9 L 225.0 210.5\" id=\"6,2\" style=\"\"></path><path d=\"M 350.2 107.9 L 308.4 210.5\" id=\"7,3\" style=\"\"></path><path d=\"M 350.2 107.9 L 391.9 210.5\" id=\"7,4\" style=\"\"></path><path d=\"M 162.4 107.9 L 99.8 159.2\" id=\"6,5\" style=\"\"></path><path d=\"M 256.3 56.5 L 162.4 107.9\" id=\"8,6\" style=\"\"></path><path d=\"M 256.3 56.5 L 350.2 107.9\" id=\"8,7\" style=\"\"></path></g><g class=\"toytree-AdmixEdges\" style=\"fill:rgb(0.0%,0.0%,0.0%);fill-opacity:0.0;stroke:rgb(90.6%,54.1%,76.5%);stroke-opacity:0.6;font-size:14px;stroke-linecap:round;stroke-width:5\"></g><g class=\"toytree-Nodes\" style=\"fill:rgb(40.0%,76.1%,64.7%);fill-opacity:1.0;stroke:rgb(14.5%,14.5%,14.5%);stroke-opacity:1.0;stroke-width:1.0\"><g id=\"Node-0\" transform=\"translate(58.1063,210.486)\"><circle r=\"7.5\"></circle></g><g id=\"Node-1\" transform=\"translate(141.553,210.486)\"><circle r=\"7.5\"></circle></g><g id=\"Node-2\" transform=\"translate(225,210.486)\"><circle r=\"7.5\"></circle></g><g id=\"Node-3\" transform=\"translate(308.447,210.486)\"><circle r=\"7.5\"></circle></g><g id=\"Node-4\" transform=\"translate(391.894,210.486)\"><circle r=\"7.5\"></circle></g><g id=\"Node-5\" transform=\"translate(99.8297,159.171)\"><circle r=\"7.5\"></circle></g><g id=\"Node-6\" transform=\"translate(162.415,107.857)\"><circle r=\"7.5\"></circle></g><g id=\"Node-7\" transform=\"translate(350.17,107.857)\"><circle r=\"7.5\"></circle></g><g id=\"Node-8\" transform=\"translate(256.293,56.5426)\"><circle r=\"7.5\"></circle></g></g><g class=\"toytree-NodeLabels\" style=\"font-family:Helvetica;font-size:9px;font-weight:300;vertical-align:baseline;white-space:pre;stroke:none\"><g class=\"toytree-NodeLabel\" transform=\"translate(58.1063,210.486)\"><text x=\"-2.5020000000000002\" y=\"2.2995\" style=\"fill:rgb(14.5%,14.5%,14.5%);fill-opacity:1.0\">0</text></g><g class=\"toytree-NodeLabel\" transform=\"translate(141.553,210.486)\"><text x=\"-2.5020000000000002\" y=\"2.2995\" style=\"fill:rgb(14.5%,14.5%,14.5%);fill-opacity:1.0\">1</text></g><g class=\"toytree-NodeLabel\" transform=\"translate(225,210.486)\"><text x=\"-2.5020000000000002\" y=\"2.2995\" style=\"fill:rgb(14.5%,14.5%,14.5%);fill-opacity:1.0\">2</text></g><g class=\"toytree-NodeLabel\" transform=\"translate(308.447,210.486)\"><text x=\"-2.5020000000000002\" y=\"2.2995\" style=\"fill:rgb(14.5%,14.5%,14.5%);fill-opacity:1.0\">3</text></g><g class=\"toytree-NodeLabel\" transform=\"translate(391.894,210.486)\"><text x=\"-2.5020000000000002\" y=\"2.2995\" style=\"fill:rgb(14.5%,14.5%,14.5%);fill-opacity:1.0\">4</text></g><g class=\"toytree-NodeLabel\" transform=\"translate(99.8297,159.171)\"><text x=\"-2.5020000000000002\" y=\"2.2995\" style=\"fill:rgb(14.5%,14.5%,14.5%);fill-opacity:1.0\">5</text></g><g class=\"toytree-NodeLabel\" transform=\"translate(162.415,107.857)\"><text x=\"-2.5020000000000002\" y=\"2.2995\" style=\"fill:rgb(14.5%,14.5%,14.5%);fill-opacity:1.0\">6</text></g><g class=\"toytree-NodeLabel\" transform=\"translate(350.17,107.857)\"><text x=\"-2.5020000000000002\" y=\"2.2995\" style=\"fill:rgb(14.5%,14.5%,14.5%);fill-opacity:1.0\">7</text></g><g class=\"toytree-NodeLabel\" transform=\"translate(256.293,56.5426)\"><text x=\"-2.5020000000000002\" y=\"2.2995\" style=\"fill:rgb(14.5%,14.5%,14.5%);fill-opacity:1.0\">8</text></g></g><g class=\"toytree-TipLabels\" style=\"fill:rgb(14.5%,14.5%,14.5%);fill-opacity:1.0;font-family:Helvetica;font-size:12px;font-weight:300;vertical-align:baseline;white-space:pre;stroke:none\"><g class=\"toytree-TipLabel\" transform=\"translate(58.1063,210.486)rotate(90)\"><text x=\"15.0\" y=\"3.066\" style=\"fill:rgb(14.5%,14.5%,14.5%);fill-opacity:1.0\">r0</text></g><g class=\"toytree-TipLabel\" transform=\"translate(141.553,210.486)rotate(90)\"><text x=\"15.0\" y=\"3.066\" style=\"fill:rgb(14.5%,14.5%,14.5%);fill-opacity:1.0\">r1</text></g><g class=\"toytree-TipLabel\" transform=\"translate(225,210.486)rotate(90)\"><text x=\"15.0\" y=\"3.066\" style=\"fill:rgb(14.5%,14.5%,14.5%);fill-opacity:1.0\">r2</text></g><g class=\"toytree-TipLabel\" transform=\"translate(308.447,210.486)rotate(90)\"><text x=\"15.0\" y=\"3.066\" style=\"fill:rgb(14.5%,14.5%,14.5%);fill-opacity:1.0\">r3</text></g><g class=\"toytree-TipLabel\" transform=\"translate(391.894,210.486)rotate(90)\"><text x=\"15.0\" y=\"3.066\" style=\"fill:rgb(14.5%,14.5%,14.5%);fill-opacity:1.0\">r4</text></g></g></g><g class=\"toytree-Annotation-Markers\" id=\"t91aa10b01277461c8b2115076e650466\" style=\"fill:rgb(82.7%,82.7%,82.7%);fill-opacity:1.0;stroke:rgb(14.9%,14.9%,14.9%);stroke-opacity:1.0;stroke-width:1.5\"><g id=\"Mark-0\" style=\"fill-opacity: 1.000\" transform=\"translate(78.968,184.829)\"><rect x=\"-21.0\" y=\"-7.0\" width=\"42.0\" height=\"14.0\"></rect></g><g id=\"Mark-1\" style=\"fill-opacity: 1.000\" transform=\"translate(120.691,184.829)\"><rect x=\"-21.0\" y=\"-7.0\" width=\"42.0\" height=\"14.0\"></rect></g><g id=\"Mark-2\" style=\"fill-opacity: 1.000\" transform=\"translate(193.707,159.171)\"><rect x=\"-21.0\" y=\"-7.0\" width=\"42.0\" height=\"14.0\"></rect></g><g id=\"Mark-3\" style=\"fill-opacity: 1.000\" transform=\"translate(329.309,159.171)\"><rect x=\"-21.0\" y=\"-7.0\" width=\"42.0\" height=\"14.0\"></rect></g><g id=\"Mark-4\" style=\"fill-opacity: 1.000\" transform=\"translate(371.032,159.171)\"><rect x=\"-21.0\" y=\"-7.0\" width=\"42.0\" height=\"14.0\"></rect></g><g id=\"Mark-5\" style=\"fill-opacity: 1.000\" transform=\"translate(131.122,133.514)\"><rect x=\"-21.0\" y=\"-7.0\" width=\"42.0\" height=\"14.0\"></rect></g><g id=\"Mark-6\" style=\"fill-opacity: 1.000\" transform=\"translate(209.354,82.1998)\"><rect x=\"-21.0\" y=\"-7.0\" width=\"42.0\" height=\"14.0\"></rect></g></g><g class=\"toyplot-mark-Text\" id=\"ta635dc4c9cdd46358c108d34a806f2e3\"><g class=\"toyplot-Series\"><g class=\"toyplot-Datum\" transform=\"translate(78.96798365122616,184.82863549828863)\"><text x=\"-16.819000000000003\" y=\"2.8104999999999993\" style=\"fill:rgb(14.5%,14.5%,14.5%);fill-opacity:1.0;font-family:Helvetica;font-size:11.0px;font-weight:300;opacity:1;stroke:none;vertical-align:baseline;white-space:pre\">0.1007</text></g><g class=\"toyplot-Datum\" transform=\"translate(120.69141689373298,184.82863549828863)\"><text x=\"-16.819000000000003\" y=\"2.8104999999999993\" style=\"fill:rgb(14.5%,14.5%,14.5%);fill-opacity:1.0;font-family:Helvetica;font-size:11.0px;font-weight:300;opacity:1;stroke:none;vertical-align:baseline;white-space:pre\">0.1007</text></g><g class=\"toyplot-Datum\" transform=\"translate(193.7074250681199,159.17142607901397)\"><text x=\"-16.819000000000003\" y=\"2.8104999999999993\" style=\"fill:rgb(14.5%,14.5%,14.5%);fill-opacity:1.0;font-family:Helvetica;font-size:11.0px;font-weight:300;opacity:1;stroke:none;vertical-align:baseline;white-space:pre\">0.1493</text></g><g class=\"toyplot-Datum\" transform=\"translate(329.30858310626706,159.17142607901388)\"><text x=\"-16.819000000000003\" y=\"2.8104999999999993\" style=\"fill:rgb(14.5%,14.5%,14.5%);fill-opacity:1.0;font-family:Helvetica;font-size:11.0px;font-weight:300;opacity:1;stroke:none;vertical-align:baseline;white-space:pre\">0.1493</text></g><g class=\"toyplot-Datum\" transform=\"translate(371.0320163487739,159.17142607901388)\"><text x=\"-16.819000000000003\" y=\"2.8104999999999993\" style=\"fill:rgb(14.5%,14.5%,14.5%);fill-opacity:1.0;font-family:Helvetica;font-size:11.0px;font-weight:300;opacity:1;stroke:none;vertical-align:baseline;white-space:pre\">0.1493</text></g><g class=\"toyplot-Datum\" transform=\"translate(131.12227520435968,133.51421665973922)\"><text x=\"-16.819000000000003\" y=\"2.8104999999999993\" style=\"fill:rgb(14.5%,14.5%,14.5%);fill-opacity:1.0;font-family:Helvetica;font-size:11.0px;font-weight:300;opacity:1;stroke:none;vertical-align:baseline;white-space:pre\">0.1493</text></g><g class=\"toyplot-Datum\" transform=\"translate(209.35371253405998,82.19979782118978)\"><text x=\"-16.819000000000003\" y=\"2.8104999999999993\" style=\"fill:rgb(14.5%,14.5%,14.5%);fill-opacity:1.0;font-family:Helvetica;font-size:11.0px;font-weight:300;opacity:1;stroke:none;vertical-align:baseline;white-space:pre\">0.2013</text></g></g></g></g><g class=\"toyplot-coordinates-Axis\" id=\"tf5da9a6ff4864da2bad5eaeb3bdcb60b\" transform=\"translate(50.0,250.0)rotate(-90.0)translate(0,-15.0)\"><line x1=\"39.51415508243662\" y1=\"0\" x2=\"193.45741159808495\" y2=\"0\" style=\"\"></line><g><line x1=\"39.51415508243662\" y1=\"0\" x2=\"39.51415508243662\" y2=\"5\" style=\"\"></line><line x1=\"116.48578334026078\" y1=\"0\" x2=\"116.48578334026078\" y2=\"5\" style=\"\"></line><line x1=\"193.45741159808495\" y1=\"0\" x2=\"193.45741159808495\" y2=\"5\" style=\"\"></line></g><g><g transform=\"translate(39.51415508243662,-6)\"><text x=\"-2.78\" y=\"-4.440892098500626e-16\" style=\"fill:rgb(16.1%,15.3%,14.1%);fill-opacity:1.0;font-family:helvetica;font-size:10.0px;font-weight:normal;stroke:none;vertical-align:baseline;white-space:pre\">0</text></g><g transform=\"translate(116.48578334026078,-6)\"><text x=\"-6.95\" y=\"-4.440892098500626e-16\" style=\"fill:rgb(16.1%,15.3%,14.1%);fill-opacity:1.0;font-family:helvetica;font-size:10.0px;font-weight:normal;stroke:none;vertical-align:baseline;white-space:pre\">0.5</text></g><g transform=\"translate(193.45741159808495,-6)\"><text x=\"-2.78\" y=\"-4.440892098500626e-16\" style=\"fill:rgb(16.1%,15.3%,14.1%);fill-opacity:1.0;font-family:helvetica;font-size:10.0px;font-weight:normal;stroke:none;vertical-align:baseline;white-space:pre\">1</text></g></g><g class=\"toyplot-coordinates-Axis-coordinates\" style=\"visibility:hidden\" transform=\"\"><line x1=\"0\" x2=\"0\" y1=\"3.0\" y2=\"-4.5\" style=\"stroke:rgb(43.9%,50.2%,56.5%);stroke-opacity:1.0;stroke-width:1.0\"></line><text x=\"0\" y=\"6\" style=\"alignment-baseline:hanging;fill:rgb(43.9%,50.2%,56.5%);fill-opacity:1.0;font-size:10px;font-weight:normal;stroke:none;text-anchor:middle\"></text></g></g></g></svg><div class=\"toyplot-behavior\"><script>(function()\n",
       "{\n",
       "var modules={};\n",
       "modules[\"toyplot/canvas/id\"] = \"tf3976d5cff60467cbda8cb7ec8e74d95\";\n",
       "modules[\"toyplot/canvas\"] = (function(canvas_id)\n",
       "    {\n",
       "        return document.querySelector(\"#\" + canvas_id);\n",
       "    })(modules[\"toyplot/canvas/id\"]);\n",
       "modules[\"toyplot.coordinates.Axis\"] = (\n",
       "        function(canvas)\n",
       "        {\n",
       "            function sign(x)\n",
       "            {\n",
       "                return x < 0 ? -1 : x > 0 ? 1 : 0;\n",
       "            }\n",
       "\n",
       "            function mix(a, b, amount)\n",
       "            {\n",
       "                return ((1.0 - amount) * a) + (amount * b);\n",
       "            }\n",
       "\n",
       "            function log(x, base)\n",
       "            {\n",
       "                return Math.log(Math.abs(x)) / Math.log(base);\n",
       "            }\n",
       "\n",
       "            function in_range(a, x, b)\n",
       "            {\n",
       "                var left = Math.min(a, b);\n",
       "                var right = Math.max(a, b);\n",
       "                return left <= x && x <= right;\n",
       "            }\n",
       "\n",
       "            function inside(range, projection)\n",
       "            {\n",
       "                for(var i = 0; i != projection.length; ++i)\n",
       "                {\n",
       "                    var segment = projection[i];\n",
       "                    if(in_range(segment.range.min, range, segment.range.max))\n",
       "                        return true;\n",
       "                }\n",
       "                return false;\n",
       "            }\n",
       "\n",
       "            function to_domain(range, projection)\n",
       "            {\n",
       "                for(var i = 0; i != projection.length; ++i)\n",
       "                {\n",
       "                    var segment = projection[i];\n",
       "                    if(in_range(segment.range.bounds.min, range, segment.range.bounds.max))\n",
       "                    {\n",
       "                        if(segment.scale == \"linear\")\n",
       "                        {\n",
       "                            var amount = (range - segment.range.min) / (segment.range.max - segment.range.min);\n",
       "                            return mix(segment.domain.min, segment.domain.max, amount)\n",
       "                        }\n",
       "                        else if(segment.scale[0] == \"log\")\n",
       "                        {\n",
       "                            var amount = (range - segment.range.min) / (segment.range.max - segment.range.min);\n",
       "                            var base = segment.scale[1];\n",
       "                            return sign(segment.domain.min) * Math.pow(base, mix(log(segment.domain.min, base), log(segment.domain.max, base), amount));\n",
       "                        }\n",
       "                    }\n",
       "                }\n",
       "            }\n",
       "\n",
       "            var axes = {};\n",
       "\n",
       "            function display_coordinates(e)\n",
       "            {\n",
       "                var current = canvas.createSVGPoint();\n",
       "                current.x = e.clientX;\n",
       "                current.y = e.clientY;\n",
       "\n",
       "                for(var axis_id in axes)\n",
       "                {\n",
       "                    var axis = document.querySelector(\"#\" + axis_id);\n",
       "                    var coordinates = axis.querySelector(\".toyplot-coordinates-Axis-coordinates\");\n",
       "                    if(coordinates)\n",
       "                    {\n",
       "                        var projection = axes[axis_id];\n",
       "                        var local = current.matrixTransform(axis.getScreenCTM().inverse());\n",
       "                        if(inside(local.x, projection))\n",
       "                        {\n",
       "                            var domain = to_domain(local.x, projection);\n",
       "                            coordinates.style.visibility = \"visible\";\n",
       "                            coordinates.setAttribute(\"transform\", \"translate(\" + local.x + \")\");\n",
       "                            var text = coordinates.querySelector(\"text\");\n",
       "                            text.textContent = domain.toFixed(2);\n",
       "                        }\n",
       "                        else\n",
       "                        {\n",
       "                            coordinates.style.visibility= \"hidden\";\n",
       "                        }\n",
       "                    }\n",
       "                }\n",
       "            }\n",
       "\n",
       "            canvas.addEventListener(\"click\", display_coordinates);\n",
       "\n",
       "            var module = {};\n",
       "            module.show_coordinates = function(axis_id, projection)\n",
       "            {\n",
       "                axes[axis_id] = projection;\n",
       "            }\n",
       "\n",
       "            return module;\n",
       "        })(modules[\"toyplot/canvas\"]);\n",
       "(function(axis, axis_id, projection)\n",
       "        {\n",
       "            axis.show_coordinates(axis_id, projection);\n",
       "        })(modules[\"toyplot.coordinates.Axis\"],\"tf5da9a6ff4864da2bad5eaeb3bdcb60b\",[{\"domain\": {\"bounds\": {\"max\": Infinity, \"min\": -Infinity}, \"max\": 1.0425, \"min\": -0.2566800000000001}, \"range\": {\"bounds\": {\"max\": Infinity, \"min\": -Infinity}, \"max\": 200.0, \"min\": 0.0}, \"scale\": \"linear\"}]);\n",
       "})();</script></div></div>"
      ]
     },
     "metadata": {},
     "output_type": "display_data"
    }
   ],
   "source": [
    "# plot and show the MAD rooting probability for other edges\n",
    "c, a, m = mad_tree.draw('p', width=450);\n",
    "mad_tree.annotate.add_edge_markers(a, \"r3x1\", size=14, color=\"lightgrey\", mask=False, xshift=0)\n",
    "mad_tree.annotate.add_edge_labels(a, \"MAD_root_prob\", mask=False, font_size=11);"
   ]
  },
  {
   "cell_type": "markdown",
   "id": "ea7dd4e7-d6e5-410b-99fb-2421025c40a1",
   "metadata": {},
   "source": [
    "## Check root status\n",
    "A method to check whether a tree is rooted based on resolution of the treenode. Note: this does not distinguish between a tree actually being rooted versus whether the treenode is a polytomy. This method simply returns a boolean for whether the root node has >2 children. It is nevertheless still quite useful."
   ]
  },
  {
   "cell_type": "code",
   "execution_count": 23,
   "id": "9f721b17-0e25-4712-9aca-5ef6e9785461",
   "metadata": {},
   "outputs": [
    {
     "data": {
      "text/plain": [
       "True"
      ]
     },
     "execution_count": 23,
     "metadata": {},
     "output_type": "execute_result"
    }
   ],
   "source": [
    "# returns True if root node has >2 children\n",
    "tree.is_rooted()"
   ]
  },
  {
   "cell_type": "markdown",
   "id": "ef80f1b9-ef76-4d8b-b26d-e459441ca224",
   "metadata": {},
   "source": [
    "## Unrooting\n",
    "The `unroot` function can be called to unroot a rooted tree. In an unrooted tree the treenode is always a polytomy. A rooted bifurcating tree has `nnodes = (ntips * 2) - 1`, whereas an unrooted bifurcating tree has nnodes = `(ntips * 2) - 2`. In other words, converting from a rooted to unrooted state removes one node (the former treenode) from the tree, and assigns an existing node as the new treenode."
   ]
  },
  {
   "cell_type": "code",
   "execution_count": 25,
   "id": "26fec27f-b590-468e-99c4-5ac1ed2aac53",
   "metadata": {},
   "outputs": [
    {
     "data": {
      "text/plain": [
       "<toytree.ToyTree at 0x7dcf7fc5a390>"
      ]
     },
     "execution_count": 25,
     "metadata": {},
     "output_type": "execute_result"
    }
   ],
   "source": [
    "# get an unrooted copy of the tree\n",
    "tree.unroot()"
   ]
  },
  {
   "cell_type": "markdown",
   "id": "66252bb6-f3a6-40c9-ab9a-c772d0e142c9",
   "metadata": {},
   "source": [
    "## Features/Data and Rooting\n",
    "\n",
    "The processes of rooting, unrooting, or re-rooting trees should be reversible, meaning that the operations can be performed in any order without the loss of information about the topology, branch lengths, or any associated meta-data/features. This is the goal in `toytree` and it is always achieved for the case of the topology and branch lengths, but requires some user knowledge when dealing with arbitrary additional data features assigned to the tree. \n",
    "\n",
    "This is because data can be stored to a tree as either a feature of nodes, or of edges (see [Node-vs-edge-features](/toytree/data/#node-vs-edge-features)).\n",
    "\n",
    "Some data stored to a tree are intended to represent information about the edges (splits) in a tree, rather than information about the nodes. This is important as these types of data must be treated differently when doing things like re-rooting a tree, and in some cases, for visualization.\n",
    "\n",
    "\n",
    "(See the section on [Information Loss](#Information-Loss) for how other metadata in the tree *can* be affected, though.) \n"
   ]
  },
  {
   "cell_type": "markdown",
   "id": "f75f17da-40c9-4ec5-a7a6-b6e88ebb6d91",
   "metadata": {},
   "source": [
    "### Support values\n",
    "\n",
    "The way in which support values are displayed on trees is often a source of confusion. This is because support values are often plotted on the nodes of a tree, despite the fact that they are actually features of the edges of a tree... [TODO]."
   ]
  },
  {
   "cell_type": "code",
   "execution_count": 50,
   "id": "f26878f8-3ac1-4dde-97a3-80384b50c890",
   "metadata": {},
   "outputs": [],
   "source": [
    "# \"\"\": Example dataset with inner labels as edge data.\"\"\"\n",
    "# self.supp = toytree.tree(\"(a,b,((c,d)CD[&support=100],(e,f)EF[&support=80])X[&support=90])AB;\")"
   ]
  },
  {
   "cell_type": "markdown",
   "id": "99dd8af1-0bed-46f5-bdaf-7be10a7b00ab",
   "metadata": {},
   "source": [
    "### Information loss\n",
    "Is information lost when a tree is unrooted and then re-rooted? The answer is usually no, but there are instances in which data can be lost."
   ]
  },
  {
   "cell_type": "code",
   "execution_count": 51,
   "id": "054f59e7-3bf9-4e25-af28-7098cbbbc054",
   "metadata": {},
   "outputs": [
    {
     "data": {
      "text/html": [
       "<div class=\"toyplot\" id=\"t8123f28a0aaf40c0ab88ce7a8fb117ff\" style=\"text-align:center\"><svg class=\"toyplot-canvas-Canvas\" xmlns:toyplot=\"http://www.sandia.gov/toyplot\" xmlns:xlink=\"http://www.w3.org/1999/xlink\" xmlns=\"http://www.w3.org/2000/svg\" width=\"300.0px\" height=\"300.0px\" viewBox=\"0 0 300.0 300.0\" preserveAspectRatio=\"xMidYMid meet\" style=\"background-color:transparent;border-color:#292724;border-style:none;border-width:1.0;fill:rgb(16.1%,15.3%,14.1%);fill-opacity:1.0;font-family:Helvetica;font-size:12px;opacity:1.0;stroke:rgb(16.1%,15.3%,14.1%);stroke-opacity:1.0;stroke-width:1.0\" id=\"t3583eefcf2af4924b3ae736714952f9e\"><g class=\"toyplot-coordinates-Cartesian\" id=\"t6fc648d6eb474395828cf935bafa8bb2\"><clipPath id=\"t25882d2173ce43c2b8d0511d2f2cb888\"><rect x=\"35.0\" y=\"35.0\" width=\"230.0\" height=\"230.0\"></rect></clipPath><g clip-path=\"url(#t25882d2173ce43c2b8d0511d2f2cb888)\"><g class=\"toytree-mark-Toytree\" id=\"tbf74d0fef5fe455181e00bfe5a18199c\"><g class=\"toytree-Edges\" style=\"stroke:rgb(14.5%,14.5%,14.5%);stroke-opacity:1.0;stroke-linecap:round;stroke-width:2.0;fill:none\"><path d=\"M 80.9 107.9 L 57.8 210.5\" id=\"5,0\" style=\"\"></path><path d=\"M 80.9 107.9 L 103.9 210.5\" id=\"5,1\" style=\"\"></path><path d=\"M 173.0 159.2 L 150.0 210.5\" id=\"6,2\" style=\"\"></path><path d=\"M 173.0 159.2 L 196.1 210.5\" id=\"6,3\" style=\"\"></path><path d=\"M 207.6 107.9 L 242.2 210.5\" id=\"7,4\" style=\"\"></path><path d=\"M 144.2 56.5 L 80.9 107.9\" id=\"8,5\" style=\"\"></path><path d=\"M 207.6 107.9 L 173.0 159.2\" id=\"7,6\" style=\"\"></path><path d=\"M 144.2 56.5 L 207.6 107.9\" id=\"8,7\" style=\"\"></path></g><g class=\"toytree-AdmixEdges\" style=\"fill:rgb(0.0%,0.0%,0.0%);fill-opacity:0.0;stroke:rgb(90.6%,54.1%,76.5%);stroke-opacity:0.6;font-size:14px;stroke-linecap:round;stroke-width:5\"></g><g class=\"toytree-Nodes\" style=\"fill:rgb(40.0%,76.1%,64.7%);fill-opacity:1.0;stroke:rgb(14.5%,14.5%,14.5%);stroke-opacity:1.0;stroke-width:1.0\"><g id=\"Node-0\" transform=\"translate(57.8341,210.486)\"><circle r=\"7.5\"></circle></g><g id=\"Node-1\" transform=\"translate(103.917,210.486)\"><circle r=\"7.5\"></circle></g><g id=\"Node-2\" transform=\"translate(150,210.486)\"><circle r=\"7.5\"></circle></g><g id=\"Node-3\" transform=\"translate(196.083,210.486)\"><circle r=\"7.5\"></circle></g><g id=\"Node-4\" transform=\"translate(242.166,210.486)\"><circle r=\"7.5\"></circle></g><g id=\"Node-5\" transform=\"translate(80.8756,107.857)\"><circle r=\"7.5\"></circle></g><g id=\"Node-6\" transform=\"translate(173.041,159.171)\"><circle r=\"7.5\"></circle></g><g id=\"Node-7\" transform=\"translate(207.604,107.857)\"><circle r=\"7.5\"></circle></g><g id=\"Node-8\" transform=\"translate(144.24,56.5426)\"><circle r=\"7.5\"></circle></g></g><g class=\"toytree-NodeLabels\" style=\"font-family:Helvetica;font-size:9px;font-weight:300;vertical-align:baseline;white-space:pre;stroke:none\"><g class=\"toytree-NodeLabel\" transform=\"translate(57.8341,210.486)\"><text x=\"-2.5020000000000002\" y=\"2.2995\" style=\"fill:rgb(14.5%,14.5%,14.5%);fill-opacity:1.0\">0</text></g><g class=\"toytree-NodeLabel\" transform=\"translate(103.917,210.486)\"><text x=\"-2.5020000000000002\" y=\"2.2995\" style=\"fill:rgb(14.5%,14.5%,14.5%);fill-opacity:1.0\">1</text></g><g class=\"toytree-NodeLabel\" transform=\"translate(150,210.486)\"><text x=\"-2.5020000000000002\" y=\"2.2995\" style=\"fill:rgb(14.5%,14.5%,14.5%);fill-opacity:1.0\">2</text></g><g class=\"toytree-NodeLabel\" transform=\"translate(196.083,210.486)\"><text x=\"-2.5020000000000002\" y=\"2.2995\" style=\"fill:rgb(14.5%,14.5%,14.5%);fill-opacity:1.0\">3</text></g><g class=\"toytree-NodeLabel\" transform=\"translate(242.166,210.486)\"><text x=\"-2.5020000000000002\" y=\"2.2995\" style=\"fill:rgb(14.5%,14.5%,14.5%);fill-opacity:1.0\">4</text></g><g class=\"toytree-NodeLabel\" transform=\"translate(80.8756,107.857)\"><text x=\"-2.5020000000000002\" y=\"2.2995\" style=\"fill:rgb(14.5%,14.5%,14.5%);fill-opacity:1.0\">5</text></g><g class=\"toytree-NodeLabel\" transform=\"translate(173.041,159.171)\"><text x=\"-2.5020000000000002\" y=\"2.2995\" style=\"fill:rgb(14.5%,14.5%,14.5%);fill-opacity:1.0\">6</text></g><g class=\"toytree-NodeLabel\" transform=\"translate(207.604,107.857)\"><text x=\"-2.5020000000000002\" y=\"2.2995\" style=\"fill:rgb(14.5%,14.5%,14.5%);fill-opacity:1.0\">7</text></g><g class=\"toytree-NodeLabel\" transform=\"translate(144.24,56.5426)\"><text x=\"-2.5020000000000002\" y=\"2.2995\" style=\"fill:rgb(14.5%,14.5%,14.5%);fill-opacity:1.0\">8</text></g></g><g class=\"toytree-TipLabels\" style=\"fill:rgb(14.5%,14.5%,14.5%);fill-opacity:1.0;font-family:Helvetica;font-size:12px;font-weight:300;vertical-align:baseline;white-space:pre;stroke:none\"><g class=\"toytree-TipLabel\" transform=\"translate(57.8341,210.486)rotate(90)\"><text x=\"15.0\" y=\"3.066\" style=\"fill:rgb(14.5%,14.5%,14.5%);fill-opacity:1.0\">r3</text></g><g class=\"toytree-TipLabel\" transform=\"translate(103.917,210.486)rotate(90)\"><text x=\"15.0\" y=\"3.066\" style=\"fill:rgb(14.5%,14.5%,14.5%);fill-opacity:1.0\">r4</text></g><g class=\"toytree-TipLabel\" transform=\"translate(150,210.486)rotate(90)\"><text x=\"15.0\" y=\"3.066\" style=\"fill:rgb(14.5%,14.5%,14.5%);fill-opacity:1.0\">r0</text></g><g class=\"toytree-TipLabel\" transform=\"translate(196.083,210.486)rotate(90)\"><text x=\"15.0\" y=\"3.066\" style=\"fill:rgb(14.5%,14.5%,14.5%);fill-opacity:1.0\">r1</text></g><g class=\"toytree-TipLabel\" transform=\"translate(242.166,210.486)rotate(90)\"><text x=\"15.0\" y=\"3.066\" style=\"fill:rgb(14.5%,14.5%,14.5%);fill-opacity:1.0\">r2</text></g></g></g></g><g class=\"toyplot-coordinates-Axis\" id=\"tab781812e52849f78fbd6a1293cc653c\" transform=\"translate(50.0,250.0)rotate(-90.0)translate(0,-15.0)\"><line x1=\"39.51415508243662\" y1=\"0\" x2=\"193.45741159808495\" y2=\"0\" style=\"\"></line><g><line x1=\"39.51415508243662\" y1=\"0\" x2=\"39.51415508243662\" y2=\"5\" style=\"\"></line><line x1=\"116.48578334026078\" y1=\"0\" x2=\"116.48578334026078\" y2=\"5\" style=\"\"></line><line x1=\"193.45741159808495\" y1=\"0\" x2=\"193.45741159808495\" y2=\"5\" style=\"\"></line></g><g><g transform=\"translate(39.51415508243662,-6)\"><text x=\"-2.78\" y=\"-4.440892098500626e-16\" style=\"fill:rgb(16.1%,15.3%,14.1%);fill-opacity:1.0;font-family:helvetica;font-size:10.0px;font-weight:normal;stroke:none;vertical-align:baseline;white-space:pre\">0</text></g><g transform=\"translate(116.48578334026078,-6)\"><text x=\"-6.95\" y=\"-4.440892098500626e-16\" style=\"fill:rgb(16.1%,15.3%,14.1%);fill-opacity:1.0;font-family:helvetica;font-size:10.0px;font-weight:normal;stroke:none;vertical-align:baseline;white-space:pre\">0.5</text></g><g transform=\"translate(193.45741159808495,-6)\"><text x=\"-2.78\" y=\"-4.440892098500626e-16\" style=\"fill:rgb(16.1%,15.3%,14.1%);fill-opacity:1.0;font-family:helvetica;font-size:10.0px;font-weight:normal;stroke:none;vertical-align:baseline;white-space:pre\">1</text></g></g><g class=\"toyplot-coordinates-Axis-coordinates\" style=\"visibility:hidden\" transform=\"\"><line x1=\"0\" x2=\"0\" y1=\"3.0\" y2=\"-4.5\" style=\"stroke:rgb(43.9%,50.2%,56.5%);stroke-opacity:1.0;stroke-width:1.0\"></line><text x=\"0\" y=\"6\" style=\"alignment-baseline:hanging;fill:rgb(43.9%,50.2%,56.5%);fill-opacity:1.0;font-size:10px;font-weight:normal;stroke:none;text-anchor:middle\"></text></g></g></g></svg><div class=\"toyplot-behavior\"><script>(function()\n",
       "{\n",
       "var modules={};\n",
       "modules[\"toyplot/canvas/id\"] = \"t3583eefcf2af4924b3ae736714952f9e\";\n",
       "modules[\"toyplot/canvas\"] = (function(canvas_id)\n",
       "    {\n",
       "        return document.querySelector(\"#\" + canvas_id);\n",
       "    })(modules[\"toyplot/canvas/id\"]);\n",
       "modules[\"toyplot.coordinates.Axis\"] = (\n",
       "        function(canvas)\n",
       "        {\n",
       "            function sign(x)\n",
       "            {\n",
       "                return x < 0 ? -1 : x > 0 ? 1 : 0;\n",
       "            }\n",
       "\n",
       "            function mix(a, b, amount)\n",
       "            {\n",
       "                return ((1.0 - amount) * a) + (amount * b);\n",
       "            }\n",
       "\n",
       "            function log(x, base)\n",
       "            {\n",
       "                return Math.log(Math.abs(x)) / Math.log(base);\n",
       "            }\n",
       "\n",
       "            function in_range(a, x, b)\n",
       "            {\n",
       "                var left = Math.min(a, b);\n",
       "                var right = Math.max(a, b);\n",
       "                return left <= x && x <= right;\n",
       "            }\n",
       "\n",
       "            function inside(range, projection)\n",
       "            {\n",
       "                for(var i = 0; i != projection.length; ++i)\n",
       "                {\n",
       "                    var segment = projection[i];\n",
       "                    if(in_range(segment.range.min, range, segment.range.max))\n",
       "                        return true;\n",
       "                }\n",
       "                return false;\n",
       "            }\n",
       "\n",
       "            function to_domain(range, projection)\n",
       "            {\n",
       "                for(var i = 0; i != projection.length; ++i)\n",
       "                {\n",
       "                    var segment = projection[i];\n",
       "                    if(in_range(segment.range.bounds.min, range, segment.range.bounds.max))\n",
       "                    {\n",
       "                        if(segment.scale == \"linear\")\n",
       "                        {\n",
       "                            var amount = (range - segment.range.min) / (segment.range.max - segment.range.min);\n",
       "                            return mix(segment.domain.min, segment.domain.max, amount)\n",
       "                        }\n",
       "                        else if(segment.scale[0] == \"log\")\n",
       "                        {\n",
       "                            var amount = (range - segment.range.min) / (segment.range.max - segment.range.min);\n",
       "                            var base = segment.scale[1];\n",
       "                            return sign(segment.domain.min) * Math.pow(base, mix(log(segment.domain.min, base), log(segment.domain.max, base), amount));\n",
       "                        }\n",
       "                    }\n",
       "                }\n",
       "            }\n",
       "\n",
       "            var axes = {};\n",
       "\n",
       "            function display_coordinates(e)\n",
       "            {\n",
       "                var current = canvas.createSVGPoint();\n",
       "                current.x = e.clientX;\n",
       "                current.y = e.clientY;\n",
       "\n",
       "                for(var axis_id in axes)\n",
       "                {\n",
       "                    var axis = document.querySelector(\"#\" + axis_id);\n",
       "                    var coordinates = axis.querySelector(\".toyplot-coordinates-Axis-coordinates\");\n",
       "                    if(coordinates)\n",
       "                    {\n",
       "                        var projection = axes[axis_id];\n",
       "                        var local = current.matrixTransform(axis.getScreenCTM().inverse());\n",
       "                        if(inside(local.x, projection))\n",
       "                        {\n",
       "                            var domain = to_domain(local.x, projection);\n",
       "                            coordinates.style.visibility = \"visible\";\n",
       "                            coordinates.setAttribute(\"transform\", \"translate(\" + local.x + \")\");\n",
       "                            var text = coordinates.querySelector(\"text\");\n",
       "                            text.textContent = domain.toFixed(2);\n",
       "                        }\n",
       "                        else\n",
       "                        {\n",
       "                            coordinates.style.visibility= \"hidden\";\n",
       "                        }\n",
       "                    }\n",
       "                }\n",
       "            }\n",
       "\n",
       "            canvas.addEventListener(\"click\", display_coordinates);\n",
       "\n",
       "            var module = {};\n",
       "            module.show_coordinates = function(axis_id, projection)\n",
       "            {\n",
       "                axes[axis_id] = projection;\n",
       "            }\n",
       "\n",
       "            return module;\n",
       "        })(modules[\"toyplot/canvas\"]);\n",
       "(function(axis, axis_id, projection)\n",
       "        {\n",
       "            axis.show_coordinates(axis_id, projection);\n",
       "        })(modules[\"toyplot.coordinates.Axis\"],\"tab781812e52849f78fbd6a1293cc653c\",[{\"domain\": {\"bounds\": {\"max\": Infinity, \"min\": -Infinity}, \"max\": 1.0425, \"min\": -0.2566800000000001}, \"range\": {\"bounds\": {\"max\": Infinity, \"min\": -Infinity}, \"max\": 200.0, \"min\": 0.0}, \"scale\": \"linear\"}]);\n",
       "})();</script></div></div>"
      ]
     },
     "metadata": {},
     "output_type": "display_data"
    }
   ],
   "source": [
    "tree.unroot().root('r2').unroot().root('r3', 'r4').draw('p');"
   ]
  },
  {
   "cell_type": "markdown",
   "id": "c0d56c38-ed01-44c0-a837-6828c635731b",
   "metadata": {},
   "source": [
    "### Example from paper\n",
    "This problem was well described in the \"A critical review on the use of support values in tree viewers and   bioinformatics toolkits\" by [Czech et al. (2017)](10.1093/molbev/msx055). In the cell below I parse the newick string of the example problem, which involves a tree with names on both tip and internal nodes. I also assign colors to the Nodes of the tree that will be used to track them through several visualizations before and after we re-root the tree."
   ]
  },
  {
   "cell_type": "code",
   "execution_count": 67,
   "id": "ede8703e-9989-4734-ba55-70afd987fc58",
   "metadata": {},
   "outputs": [],
   "source": [
    "# unrooted tree from Czech et al... \n",
    "czech = \"((C,D)1,(A,(B,X)3)2,E)R;\"\n",
    "ctree = toytree.tree(czech, internal_labels=\"name\")\n",
    "\n",
    "# set data features to color nodes and edges of the unrooted tree\n",
    "colors = {'1': 'red', '2': 'green', '3': 'orange'}\n",
    "ctree.set_node_data(\"ecolor\", colors, default=\"black\", inplace=True)\n",
    "ctree.set_node_data(\"ncolor\", colors, default=\"black\", inplace=True);"
   ]
  },
  {
   "cell_type": "code",
   "execution_count": 69,
   "id": "31879569-3359-4ae7-9e59-57a8deef141a",
   "metadata": {},
   "outputs": [],
   "source": [
    "# create a reusable dict for other style options for visualization\n",
    "kwargs = {\n",
    "    'layout': 'd',\n",
    "    'use_edge_lengths': False,\n",
    "    'node_sizes': 10,\n",
    "    'node_labels': 'name',\n",
    "    'node_labels_style': {\n",
    "        'font-size': 20,\n",
    "        'baseline-shift': 10,\n",
    "        'anchor-shift': 10,\n",
    "    }}"
   ]
  },
  {
   "cell_type": "code",
   "execution_count": 70,
   "id": "3621b9c0-7c63-468a-b026-63bfe669ef58",
   "metadata": {},
   "outputs": [
    {
     "data": {
      "text/html": [
       "<div class=\"toyplot\" id=\"t7866bc6696da4d1ba10087b2b14fb527\" style=\"text-align:center\"><svg class=\"toyplot-canvas-Canvas\" xmlns:toyplot=\"http://www.sandia.gov/toyplot\" xmlns:xlink=\"http://www.w3.org/1999/xlink\" xmlns=\"http://www.w3.org/2000/svg\" width=\"300.0px\" height=\"300.0px\" viewBox=\"0 0 300.0 300.0\" preserveAspectRatio=\"xMidYMid meet\" style=\"background-color:transparent;border-color:#292724;border-style:none;border-width:1.0;fill:rgb(16.1%,15.3%,14.1%);fill-opacity:1.0;font-family:Helvetica;font-size:12px;opacity:1.0;stroke:rgb(16.1%,15.3%,14.1%);stroke-opacity:1.0;stroke-width:1.0\" id=\"tb5ad8a197cee4ca39eb5f99a0bd9004a\"><g class=\"toyplot-coordinates-Cartesian\" id=\"t0efabe8cab064900bc4bf48aa71010fd\"><clipPath id=\"tca109de1776e4e4d999768abd0cbf965\"><rect x=\"35.0\" y=\"35.0\" width=\"230.0\" height=\"230.0\"></rect></clipPath><g clip-path=\"url(#tca109de1776e4e4d999768abd0cbf965)\"><g class=\"toytree-mark-Toytree\" id=\"tf5218c51091f49e69c1503407dc97880\"><g class=\"toytree-Edges\" style=\"stroke:rgb(14.5%,14.5%,14.5%);stroke-opacity:1.0;stroke-linecap:round;stroke-width:2.0;fill:none\"><path d=\"M 74.3 162.1 L 56.4 162.1 L 56.4 213.5\" id=\"6,0\" style=\"stroke:rgb(0.0%,0.0%,0.0%);stroke-opacity:1.0\"></path><path d=\"M 74.3 162.1 L 92.2 162.1 L 92.2 213.5\" id=\"6,1\" style=\"stroke:rgb(0.0%,0.0%,0.0%);stroke-opacity:1.0\"></path><path d=\"M 154.7 110.7 L 127.9 110.7 L 127.9 213.5\" id=\"8,2\" style=\"stroke:rgb(0.0%,0.0%,0.0%);stroke-opacity:1.0\"></path><path d=\"M 181.5 162.1 L 163.6 162.1 L 163.6 213.5\" id=\"7,3\" style=\"stroke:rgb(0.0%,0.0%,0.0%);stroke-opacity:1.0\"></path><path d=\"M 181.5 162.1 L 199.4 162.1 L 199.4 213.5\" id=\"7,4\" style=\"stroke:rgb(0.0%,0.0%,0.0%);stroke-opacity:1.0\"></path><path d=\"M 154.7 59.3 L 235.1 59.3 L 235.1 213.5\" id=\"9,5\" style=\"stroke:rgb(0.0%,0.0%,0.0%);stroke-opacity:1.0\"></path><path d=\"M 154.7 59.3 L 74.3 59.3 L 74.3 162.1\" id=\"9,6\" style=\"stroke:rgb(100.0%,0.0%,0.0%);stroke-opacity:1.0\"></path><path d=\"M 154.7 110.7 L 181.5 110.7 L 181.5 162.1\" id=\"8,7\" style=\"stroke:rgb(100.0%,64.7%,0.0%);stroke-opacity:1.0\"></path><path d=\"M 154.7 59.3 L 154.7 59.3 L 154.7 110.7\" id=\"9,8\" style=\"stroke:rgb(0.0%,50.2%,0.0%);stroke-opacity:1.0\"></path></g><g class=\"toytree-AdmixEdges\" style=\"fill:rgb(0.0%,0.0%,0.0%);fill-opacity:0.0;stroke:rgb(90.6%,54.1%,76.5%);stroke-opacity:0.6;font-size:14px;stroke-linecap:round;stroke-width:5\"></g><g class=\"toytree-Nodes\" style=\"fill:rgb(40.0%,76.1%,64.7%);fill-opacity:1.0;stroke:rgb(14.9%,14.9%,14.9%);stroke-opacity:1.0;stroke-width:1.5\"><g id=\"Node-6\" style=\"fill:rgb(100.0%,0.0%,0.0%)\" transform=\"translate(74.2998,162.085)\"><circle r=\"5.0\"></circle></g><g id=\"Node-7\" style=\"fill:rgb(100.0%,64.7%,0.0%)\" transform=\"translate(181.505,162.085)\"><circle r=\"5.0\"></circle></g><g id=\"Node-8\" style=\"fill:rgb(0.0%,50.2%,0.0%)\" transform=\"translate(154.704,110.67)\"><circle r=\"5.0\"></circle></g><g id=\"Node-9\" style=\"fill:rgb(0.0%,0.0%,0.0%)\" transform=\"translate(154.704,59.2547)\"><circle r=\"5.0\"></circle></g></g><g class=\"toytree-NodeLabels\" style=\"font-family:Helvetica;font-size:20px;font-weight:300;vertical-align:baseline;white-space:pre;stroke:none\"><g class=\"toytree-NodeLabel\" transform=\"translate(74.2998,162.085)\"><text x=\"4.44\" y=\"-4.890000000000001\" style=\"fill:rgb(14.5%,14.5%,14.5%);fill-opacity:1.0\">1</text></g><g class=\"toytree-NodeLabel\" transform=\"translate(181.505,162.085)\"><text x=\"4.44\" y=\"-4.890000000000001\" style=\"fill:rgb(14.5%,14.5%,14.5%);fill-opacity:1.0\">3</text></g><g class=\"toytree-NodeLabel\" transform=\"translate(154.704,110.67)\"><text x=\"4.44\" y=\"-4.890000000000001\" style=\"fill:rgb(14.5%,14.5%,14.5%);fill-opacity:1.0\">2</text></g><g class=\"toytree-NodeLabel\" transform=\"translate(154.704,59.2547)\"><text x=\"2.7800000000000002\" y=\"-4.890000000000001\" style=\"fill:rgb(14.5%,14.5%,14.5%);fill-opacity:1.0\">R</text></g></g><g class=\"toytree-TipLabels\" style=\"fill:rgb(14.5%,14.5%,14.5%);fill-opacity:1.0;font-family:Helvetica;font-size:12px;font-weight:300;vertical-align:baseline;white-space:pre;stroke:none\"><g class=\"toytree-TipLabel\" transform=\"translate(56.4323,213.5)rotate(90)\"><text x=\"15.0\" y=\"3.066\" style=\"fill:rgb(14.5%,14.5%,14.5%);fill-opacity:1.0\">C</text></g><g class=\"toytree-TipLabel\" transform=\"translate(92.1673,213.5)rotate(90)\"><text x=\"15.0\" y=\"3.066\" style=\"fill:rgb(14.5%,14.5%,14.5%);fill-opacity:1.0\">D</text></g><g class=\"toytree-TipLabel\" transform=\"translate(127.902,213.5)rotate(90)\"><text x=\"15.0\" y=\"3.066\" style=\"fill:rgb(14.5%,14.5%,14.5%);fill-opacity:1.0\">A</text></g><g class=\"toytree-TipLabel\" transform=\"translate(163.637,213.5)rotate(90)\"><text x=\"15.0\" y=\"3.066\" style=\"fill:rgb(14.5%,14.5%,14.5%);fill-opacity:1.0\">B</text></g><g class=\"toytree-TipLabel\" transform=\"translate(199.372,213.5)rotate(90)\"><text x=\"15.0\" y=\"3.066\" style=\"fill:rgb(14.5%,14.5%,14.5%);fill-opacity:1.0\">X</text></g><g class=\"toytree-TipLabel\" transform=\"translate(235.107,213.5)rotate(90)\"><text x=\"15.0\" y=\"3.066\" style=\"fill:rgb(14.5%,14.5%,14.5%);fill-opacity:1.0\">E</text></g></g></g></g></g></svg><div class=\"toyplot-behavior\"><script>(function()\n",
       "{\n",
       "var modules={};\n",
       "})();</script></div></div>"
      ]
     },
     "metadata": {},
     "output_type": "display_data"
    }
   ],
   "source": [
    "# draw original unrooted tree\n",
    "ctree.draw(node_colors=\"ncolor\", edge_colors=\"ecolor\", **kwargs);"
   ]
  },
  {
   "cell_type": "markdown",
   "id": "95aa6c24-f0da-4002-ac52-921186f0a535",
   "metadata": {},
   "source": [
    "When we root the tree on the edge above \"X\" this changes the orientation of several nodes on the tree, such that some which were parents of another before now appear as children of that node. This has the important consequence for how the edge between these nodes is interpreted. For example, the yellow edge which previously represented information about the split separating (B,X) from every other node (e.g., see tree drawing above) now instead represents the split between X and every other node (e.g., see re-rooted tree below). Similarly, the green edge which previously represented the split between (A,B,X) versus (C,D,E) now represents the split between (B,X) versus (A,C,D,E). Although this was a correct re-orientation of Nodes during rooting, **this is actually an incorrect polarization of the edge information**. This is something we can fix by designating which _additional_ features stored to the ToyTree represent edge versus node data. "
   ]
  },
  {
   "cell_type": "code",
   "execution_count": 73,
   "id": "9dbc634c-3b10-488b-b04a-2172f77ee7ca",
   "metadata": {},
   "outputs": [
    {
     "data": {
      "text/html": [
       "<div class=\"toyplot\" id=\"tdd43048056644495812ffc6c26a93bd6\" style=\"text-align:center\"><svg class=\"toyplot-canvas-Canvas\" xmlns:toyplot=\"http://www.sandia.gov/toyplot\" xmlns:xlink=\"http://www.w3.org/1999/xlink\" xmlns=\"http://www.w3.org/2000/svg\" width=\"300.0px\" height=\"300.0px\" viewBox=\"0 0 300.0 300.0\" preserveAspectRatio=\"xMidYMid meet\" style=\"background-color:transparent;border-color:#292724;border-style:none;border-width:1.0;fill:rgb(16.1%,15.3%,14.1%);fill-opacity:1.0;font-family:Helvetica;font-size:12px;opacity:1.0;stroke:rgb(16.1%,15.3%,14.1%);stroke-opacity:1.0;stroke-width:1.0\" id=\"t1b7477590c9d40558dc6fba0f1397a0f\"><g class=\"toyplot-coordinates-Cartesian\" id=\"t904ad6436bf84ccba211e0a6290800fe\"><clipPath id=\"t8aeae218fac54936ae63f0df4855318c\"><rect x=\"35.0\" y=\"35.0\" width=\"230.0\" height=\"230.0\"></rect></clipPath><g clip-path=\"url(#t8aeae218fac54936ae63f0df4855318c)\"><g class=\"toytree-mark-Toytree\" id=\"tcabf72edbc7e413682fee288f88dfafc\"><g class=\"toytree-Edges\" style=\"stroke:rgb(14.5%,14.5%,14.5%);stroke-opacity:1.0;stroke-linecap:round;stroke-width:2.0;fill:none\"><path d=\"M 93.3 59.3 L 56.4 59.3 L 56.4 213.5\" id=\"10,0\" style=\"stroke:rgb(0.0%,0.0%,0.0%);stroke-opacity:1.0\"></path><path d=\"M 130.1 90.1 L 92.2 90.1 L 92.2 213.5\" id=\"9,1\" style=\"stroke:rgb(0.0%,0.0%,0.0%);stroke-opacity:1.0\"></path><path d=\"M 168.1 121.0 L 127.9 121.0 L 127.9 213.5\" id=\"8,2\" style=\"stroke:rgb(0.0%,0.0%,0.0%);stroke-opacity:1.0\"></path><path d=\"M 181.5 182.7 L 163.6 182.7 L 163.6 213.5\" id=\"6,3\" style=\"stroke:rgb(0.0%,0.0%,0.0%);stroke-opacity:1.0\"></path><path d=\"M 181.5 182.7 L 199.4 182.7 L 199.4 213.5\" id=\"6,4\" style=\"stroke:rgb(0.0%,0.0%,0.0%);stroke-opacity:1.0\"></path><path d=\"M 208.3 151.8 L 235.1 151.8 L 235.1 213.5\" id=\"7,5\" style=\"stroke:rgb(0.0%,0.0%,0.0%);stroke-opacity:1.0\"></path><path d=\"M 208.3 151.8 L 181.5 151.8 L 181.5 182.7\" id=\"7,6\" style=\"stroke:rgb(100.0%,0.0%,0.0%);stroke-opacity:1.0\"></path><path d=\"M 168.1 121.0 L 208.3 121.0 L 208.3 151.8\" id=\"8,7\" style=\"stroke:rgb(0.0%,0.0%,0.0%);stroke-opacity:1.0\"></path><path d=\"M 130.1 90.1 L 168.1 90.1 L 168.1 121.0\" id=\"9,8\" style=\"stroke:rgb(0.0%,50.2%,0.0%);stroke-opacity:1.0\"></path><path d=\"M 93.3 59.3 L 130.1 59.3 L 130.1 90.1\" id=\"10,9\" style=\"stroke:rgb(100.0%,64.7%,0.0%);stroke-opacity:1.0\"></path></g><g class=\"toytree-AdmixEdges\" style=\"fill:rgb(0.0%,0.0%,0.0%);fill-opacity:0.0;stroke:rgb(90.6%,54.1%,76.5%);stroke-opacity:0.6;font-size:14px;stroke-linecap:round;stroke-width:5\"></g><g class=\"toytree-Nodes\" style=\"fill:rgb(40.0%,76.1%,64.7%);fill-opacity:1.0;stroke:rgb(14.9%,14.9%,14.9%);stroke-opacity:1.0;stroke-width:1.5\"><g id=\"Node-6\" style=\"fill:rgb(100.0%,0.0%,0.0%)\" transform=\"translate(181.505,182.651)\"><circle r=\"5.0\"></circle></g><g id=\"Node-7\" style=\"fill:rgb(0.0%,0.0%,0.0%)\" transform=\"translate(208.306,151.802)\"><circle r=\"5.0\"></circle></g><g id=\"Node-8\" style=\"fill:rgb(0.0%,50.2%,0.0%)\" transform=\"translate(168.104,120.953)\"><circle r=\"5.0\"></circle></g><g id=\"Node-9\" style=\"fill:rgb(100.0%,64.7%,0.0%)\" transform=\"translate(130.136,90.1037)\"><circle r=\"5.0\"></circle></g><g id=\"Node-10\" style=\"fill:none\" transform=\"translate(93.284,59.2547)\"><circle r=\"5.0\"></circle></g></g><g class=\"toytree-NodeLabels\" style=\"font-family:Helvetica;font-size:20px;font-weight:300;vertical-align:baseline;white-space:pre;stroke:none\"><g class=\"toytree-NodeLabel\" transform=\"translate(181.505,182.651)\"><text x=\"4.44\" y=\"-4.890000000000001\" style=\"fill:rgb(14.5%,14.5%,14.5%);fill-opacity:1.0\">1</text></g><g class=\"toytree-NodeLabel\" transform=\"translate(208.306,151.802)\"><text x=\"2.7800000000000002\" y=\"-4.890000000000001\" style=\"fill:rgb(14.5%,14.5%,14.5%);fill-opacity:1.0\">R</text></g><g class=\"toytree-NodeLabel\" transform=\"translate(168.104,120.953)\"><text x=\"4.44\" y=\"-4.890000000000001\" style=\"fill:rgb(14.5%,14.5%,14.5%);fill-opacity:1.0\">2</text></g><g class=\"toytree-NodeLabel\" transform=\"translate(130.136,90.1037)\"><text x=\"4.44\" y=\"-4.890000000000001\" style=\"fill:rgb(14.5%,14.5%,14.5%);fill-opacity:1.0\">3</text></g><g class=\"toytree-NodeLabel\" transform=\"translate(93.284,59.2547)\"><text x=\"-7.23\" y=\"-4.890000000000001\" style=\"fill:rgb(14.5%,14.5%,14.5%);fill-opacity:1.0\">root</text></g></g><g class=\"toytree-TipLabels\" style=\"fill:rgb(14.5%,14.5%,14.5%);fill-opacity:1.0;font-family:Helvetica;font-size:12px;font-weight:300;vertical-align:baseline;white-space:pre;stroke:none\"><g class=\"toytree-TipLabel\" transform=\"translate(56.4323,213.5)rotate(90)\"><text x=\"15.0\" y=\"3.066\" style=\"fill:rgb(14.5%,14.5%,14.5%);fill-opacity:1.0\">X</text></g><g class=\"toytree-TipLabel\" transform=\"translate(92.1673,213.5)rotate(90)\"><text x=\"15.0\" y=\"3.066\" style=\"fill:rgb(14.5%,14.5%,14.5%);fill-opacity:1.0\">B</text></g><g class=\"toytree-TipLabel\" transform=\"translate(127.902,213.5)rotate(90)\"><text x=\"15.0\" y=\"3.066\" style=\"fill:rgb(14.5%,14.5%,14.5%);fill-opacity:1.0\">A</text></g><g class=\"toytree-TipLabel\" transform=\"translate(163.637,213.5)rotate(90)\"><text x=\"15.0\" y=\"3.066\" style=\"fill:rgb(14.5%,14.5%,14.5%);fill-opacity:1.0\">C</text></g><g class=\"toytree-TipLabel\" transform=\"translate(199.372,213.5)rotate(90)\"><text x=\"15.0\" y=\"3.066\" style=\"fill:rgb(14.5%,14.5%,14.5%);fill-opacity:1.0\">D</text></g><g class=\"toytree-TipLabel\" transform=\"translate(235.107,213.5)rotate(90)\"><text x=\"15.0\" y=\"3.066\" style=\"fill:rgb(14.5%,14.5%,14.5%);fill-opacity:1.0\">E</text></g></g></g></g></g></svg><div class=\"toyplot-behavior\"><script>(function()\n",
       "{\n",
       "var modules={};\n",
       "})();</script></div></div>"
      ]
     },
     "metadata": {},
     "output_type": "display_data"
    }
   ],
   "source": [
    "# root the tree w/o indicating edge_features, error!\n",
    "rtree1 = ctree.root(\"X\")\n",
    "rtree1.draw(node_colors=\"ncolor\", edge_colors=\"ecolor\", **kwargs);"
   ]
  },
  {
   "cell_type": "markdown",
   "id": "a69d5cc0-8f17-45d5-80c5-350151d9ad39",
   "metadata": {},
   "source": [
    "Here to correct for the fact the \"ecolor\" (edge colors) is a data feature of edges, we can specify this is the list of `edge_features`, which will change how they are polarized during the rooting. Now the yellow edge points down from node 3 rather than up, retaining that this edge feature represents information about the split between nodes 2 and 3. Note: the distance and support features were already automatically handled in this way."
   ]
  },
  {
   "cell_type": "code",
   "execution_count": 75,
   "id": "56a4fde5-0598-4c3c-b8b4-5f69f8fac846",
   "metadata": {},
   "outputs": [
    {
     "data": {
      "text/html": [
       "<div class=\"toyplot\" id=\"t9b1cb7929d184e0da3cef36c17f66f14\" style=\"text-align:center\"><svg class=\"toyplot-canvas-Canvas\" xmlns:toyplot=\"http://www.sandia.gov/toyplot\" xmlns:xlink=\"http://www.w3.org/1999/xlink\" xmlns=\"http://www.w3.org/2000/svg\" width=\"300.0px\" height=\"300.0px\" viewBox=\"0 0 300.0 300.0\" preserveAspectRatio=\"xMidYMid meet\" style=\"background-color:transparent;border-color:#292724;border-style:none;border-width:1.0;fill:rgb(16.1%,15.3%,14.1%);fill-opacity:1.0;font-family:Helvetica;font-size:12px;opacity:1.0;stroke:rgb(16.1%,15.3%,14.1%);stroke-opacity:1.0;stroke-width:1.0\" id=\"te6fdf668502f4f2c946c85056465cbb9\"><g class=\"toyplot-coordinates-Cartesian\" id=\"t355d632b249442a69f3590027a60358d\"><clipPath id=\"ta500d4ed7ea34c2495af50e4082733c3\"><rect x=\"35.0\" y=\"35.0\" width=\"230.0\" height=\"230.0\"></rect></clipPath><g clip-path=\"url(#ta500d4ed7ea34c2495af50e4082733c3)\"><g class=\"toytree-mark-Toytree\" id=\"tdc091e5cc67d44c6a43821b506ccb5f2\"><g class=\"toytree-Edges\" style=\"stroke:rgb(14.5%,14.5%,14.5%);stroke-opacity:1.0;stroke-linecap:round;stroke-width:2.0;fill:none\"><path d=\"M 93.3 59.3 L 56.4 59.3 L 56.4 213.5\" id=\"10,0\" style=\"stroke:rgb(0.0%,0.0%,0.0%);stroke-opacity:1.0\"></path><path d=\"M 130.1 90.1 L 92.2 90.1 L 92.2 213.5\" id=\"9,1\" style=\"stroke:rgb(0.0%,0.0%,0.0%);stroke-opacity:1.0\"></path><path d=\"M 168.1 121.0 L 127.9 121.0 L 127.9 213.5\" id=\"8,2\" style=\"stroke:rgb(0.0%,0.0%,0.0%);stroke-opacity:1.0\"></path><path d=\"M 181.5 182.7 L 163.6 182.7 L 163.6 213.5\" id=\"6,3\" style=\"stroke:rgb(0.0%,0.0%,0.0%);stroke-opacity:1.0\"></path><path d=\"M 181.5 182.7 L 199.4 182.7 L 199.4 213.5\" id=\"6,4\" style=\"stroke:rgb(0.0%,0.0%,0.0%);stroke-opacity:1.0\"></path><path d=\"M 208.3 151.8 L 235.1 151.8 L 235.1 213.5\" id=\"7,5\" style=\"stroke:rgb(0.0%,0.0%,0.0%);stroke-opacity:1.0\"></path><path d=\"M 208.3 151.8 L 181.5 151.8 L 181.5 182.7\" id=\"7,6\" style=\"stroke:rgb(100.0%,0.0%,0.0%);stroke-opacity:1.0\"></path><path d=\"M 168.1 121.0 L 208.3 121.0 L 208.3 151.8\" id=\"8,7\" style=\"stroke:rgb(0.0%,50.2%,0.0%);stroke-opacity:1.0\"></path><path d=\"M 130.1 90.1 L 168.1 90.1 L 168.1 121.0\" id=\"9,8\" style=\"stroke:rgb(100.0%,64.7%,0.0%);stroke-opacity:1.0\"></path><path d=\"M 93.3 59.3 L 130.1 59.3 L 130.1 90.1\" id=\"10,9\" style=\"stroke:rgb(0.0%,0.0%,0.0%);stroke-opacity:1.0\"></path></g><g class=\"toytree-AdmixEdges\" style=\"fill:rgb(0.0%,0.0%,0.0%);fill-opacity:0.0;stroke:rgb(90.6%,54.1%,76.5%);stroke-opacity:0.6;font-size:14px;stroke-linecap:round;stroke-width:5\"></g><g class=\"toytree-Nodes\" style=\"fill:rgb(40.0%,76.1%,64.7%);fill-opacity:1.0;stroke:rgb(14.9%,14.9%,14.9%);stroke-opacity:1.0;stroke-width:1.5\"><g id=\"Node-6\" style=\"fill:rgb(100.0%,0.0%,0.0%)\" transform=\"translate(181.505,182.651)\"><circle r=\"5.0\"></circle></g><g id=\"Node-7\" style=\"fill:rgb(0.0%,0.0%,0.0%)\" transform=\"translate(208.306,151.802)\"><circle r=\"5.0\"></circle></g><g id=\"Node-8\" style=\"fill:rgb(0.0%,50.2%,0.0%)\" transform=\"translate(168.104,120.953)\"><circle r=\"5.0\"></circle></g><g id=\"Node-9\" style=\"fill:rgb(100.0%,64.7%,0.0%)\" transform=\"translate(130.136,90.1037)\"><circle r=\"5.0\"></circle></g><g id=\"Node-10\" style=\"fill:none\" transform=\"translate(93.284,59.2547)\"><circle r=\"5.0\"></circle></g></g><g class=\"toytree-NodeLabels\" style=\"font-family:Helvetica;font-size:20px;font-weight:300;vertical-align:baseline;white-space:pre;stroke:none\"><g class=\"toytree-NodeLabel\" transform=\"translate(181.505,182.651)\"><text x=\"4.44\" y=\"-4.890000000000001\" style=\"fill:rgb(14.5%,14.5%,14.5%);fill-opacity:1.0\">1</text></g><g class=\"toytree-NodeLabel\" transform=\"translate(208.306,151.802)\"><text x=\"2.7800000000000002\" y=\"-4.890000000000001\" style=\"fill:rgb(14.5%,14.5%,14.5%);fill-opacity:1.0\">R</text></g><g class=\"toytree-NodeLabel\" transform=\"translate(168.104,120.953)\"><text x=\"4.44\" y=\"-4.890000000000001\" style=\"fill:rgb(14.5%,14.5%,14.5%);fill-opacity:1.0\">2</text></g><g class=\"toytree-NodeLabel\" transform=\"translate(130.136,90.1037)\"><text x=\"4.44\" y=\"-4.890000000000001\" style=\"fill:rgb(14.5%,14.5%,14.5%);fill-opacity:1.0\">3</text></g><g class=\"toytree-NodeLabel\" transform=\"translate(93.284,59.2547)\"><text x=\"-7.23\" y=\"-4.890000000000001\" style=\"fill:rgb(14.5%,14.5%,14.5%);fill-opacity:1.0\">root</text></g></g><g class=\"toytree-TipLabels\" style=\"fill:rgb(14.5%,14.5%,14.5%);fill-opacity:1.0;font-family:Helvetica;font-size:12px;font-weight:300;vertical-align:baseline;white-space:pre;stroke:none\"><g class=\"toytree-TipLabel\" transform=\"translate(56.4323,213.5)rotate(90)\"><text x=\"15.0\" y=\"3.066\" style=\"fill:rgb(14.5%,14.5%,14.5%);fill-opacity:1.0\">X</text></g><g class=\"toytree-TipLabel\" transform=\"translate(92.1673,213.5)rotate(90)\"><text x=\"15.0\" y=\"3.066\" style=\"fill:rgb(14.5%,14.5%,14.5%);fill-opacity:1.0\">B</text></g><g class=\"toytree-TipLabel\" transform=\"translate(127.902,213.5)rotate(90)\"><text x=\"15.0\" y=\"3.066\" style=\"fill:rgb(14.5%,14.5%,14.5%);fill-opacity:1.0\">A</text></g><g class=\"toytree-TipLabel\" transform=\"translate(163.637,213.5)rotate(90)\"><text x=\"15.0\" y=\"3.066\" style=\"fill:rgb(14.5%,14.5%,14.5%);fill-opacity:1.0\">C</text></g><g class=\"toytree-TipLabel\" transform=\"translate(199.372,213.5)rotate(90)\"><text x=\"15.0\" y=\"3.066\" style=\"fill:rgb(14.5%,14.5%,14.5%);fill-opacity:1.0\">D</text></g><g class=\"toytree-TipLabel\" transform=\"translate(235.107,213.5)rotate(90)\"><text x=\"15.0\" y=\"3.066\" style=\"fill:rgb(14.5%,14.5%,14.5%);fill-opacity:1.0\">E</text></g></g></g></g></g></svg><div class=\"toyplot-behavior\"><script>(function()\n",
       "{\n",
       "var modules={};\n",
       "})();</script></div></div>"
      ]
     },
     "metadata": {},
     "output_type": "display_data"
    }
   ],
   "source": [
    "# re-root, treating 'ecolor' but not 'ncolor' as an edge feature.\n",
    "rtree2 = ctree.root(\"X\", edge_features=[\"ecolor\"])\n",
    "rtree2.draw(node_colors=\"ncolor\", edge_colors=\"ecolor\", **kwargs);"
   ]
  },
  {
   "cell_type": "markdown",
   "id": "92c4c975-0cb5-4da9-abbb-879a7fb24276",
   "metadata": {},
   "source": [
    "!!! note\n",
    "\n",
    "    Note that this is automatically handled by toytree for \"edge\" and \"dist\" features, since these are always edge features of trees. \n",
    "    Similarly, we know that \"name\" and \"idx\" are always features of nodes. Any other features that are added by you represent your own data, \n",
    "    and thus it is up to you to speficy their data type during rooting, which we demonstrate below."
   ]
  }
 ],
 "metadata": {
  "kernelspec": {
   "display_name": "Python 3 (ipykernel)",
   "language": "python",
   "name": "python3"
  },
  "language_info": {
   "codemirror_mode": {
    "name": "ipython",
    "version": 3
   },
   "file_extension": ".py",
   "mimetype": "text/x-python",
   "name": "python",
   "nbconvert_exporter": "python",
   "pygments_lexer": "ipython3",
   "version": "3.12.4"
  }
 },
 "nbformat": 4,
 "nbformat_minor": 5
}
