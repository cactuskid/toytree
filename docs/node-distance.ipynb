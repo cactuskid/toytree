{
 "cells": [
  {
   "cell_type": "markdown",
   "metadata": {},
   "source": [
    "# Distance & Dissimilarity Functions  \n",
    "\n",
    "\n",
    "The toytree _.distance_ subpackage has two main purposes: (1) to provide the user with efficient methods to measure or describe paths between nodes in a tree, and (2) to provide many methods of describing dissimilarities between two trees. All dissimilarity metrics currently implemented are quantified by quartet and bipartition differences, which are explained in  [tree distances](/toytree/tree-distance/). \n",
    "\n",
    "\n",
    "## Node-level distances  \n",
    "\n",
    "The functions provided to study node-level distances are generally provided as `get_` and `iter_` functions. `get_` functions return paths or distances as tuples, dictionaries, or matrices while `iter_` functions are iterable generators. All currently implemented node-level distance functions are shown with examples below.  \n",
    "\n",
    "Distances can generally be described by `patristic distance` (default), or the sum of the lengths of edges in the shortest path between two nodes, or by `toplogical distance`, or simply the number of edges separating two nodes. For topological distance, use `toplogy_only=True`"
   ]
  },
  {
   "cell_type": "markdown",
   "metadata": {},
   "source": [
    "### Node Paths"
   ]
  },
  {
   "cell_type": "code",
   "execution_count": null,
   "metadata": {},
   "outputs": [
    {
     "data": {
      "text/html": [
       "<div class=\"toyplot\" id=\"tb4bccb284ad1432a9a4561fcc6f1d59b\" style=\"text-align:center\"><svg class=\"toyplot-canvas-Canvas\" xmlns:toyplot=\"http://www.sandia.gov/toyplot\" xmlns:xlink=\"http://www.w3.org/1999/xlink\" xmlns=\"http://www.w3.org/2000/svg\" width=\"300.0px\" height=\"449.59999999999997px\" viewBox=\"0 0 300.0 449.59999999999997\" preserveAspectRatio=\"xMidYMid meet\" style=\"background-color:transparent;border-color:#292724;border-style:none;border-width:1.0;fill:rgb(16.1%,15.3%,14.1%);fill-opacity:1.0;font-family:Helvetica;font-size:12px;opacity:1.0;stroke:rgb(16.1%,15.3%,14.1%);stroke-opacity:1.0;stroke-width:1.0\" id=\"ta67c528b96f541e3bf238fadf58a2c3d\"><g class=\"toyplot-coordinates-Cartesian\" id=\"tad3155ef7c344e59a6fc423f4bace46a\"><clipPath id=\"t4d490acba56e41a9833fa99470e2e492\"><rect x=\"35.0\" y=\"35.0\" width=\"230.0\" height=\"379.59999999999997\"></rect></clipPath><g clip-path=\"url(#t4d490acba56e41a9833fa99470e2e492)\"><g class=\"toytree-mark-Toytree\" id=\"tb6827aa068c64461989fc67796d87ef0\"><g class=\"toytree-Edges\" style=\"stroke:rgb(14.5%,14.5%,14.5%);stroke-opacity:1.0;stroke-linecap:round;stroke-width:2.0;fill:none\"><path d=\"M 215.2 379.5 L 215.2 390.6 L 241.3 390.6\" id=\"16,0\" style=\"\"></path><path d=\"M 215.2 379.5 L 215.2 368.5 L 241.3 368.5\" id=\"16,1\" style=\"\"></path><path d=\"M 189.1 363.0 L 189.1 346.4 L 241.3 346.4\" id=\"17,2\" style=\"\"></path><path d=\"M 163.0 343.6 L 163.0 324.3 L 241.3 324.3\" id=\"18,3\" style=\"\"></path><path d=\"M 189.1 285.6 L 189.1 302.2 L 241.3 302.2\" id=\"20,4\" style=\"\"></path><path d=\"M 215.2 269.0 L 215.2 280.1 L 241.3 280.1\" id=\"19,5\" style=\"\"></path><path d=\"M 215.2 269.0 L 215.2 258.0 L 241.3 258.0\" id=\"19,6\" style=\"\"></path><path d=\"M 215.2 224.8 L 215.2 235.9 L 241.3 235.9\" id=\"22,7\" style=\"\"></path><path d=\"M 215.2 224.8 L 215.2 213.7 L 241.3 213.7\" id=\"22,8\" style=\"\"></path><path d=\"M 189.1 175.1 L 189.1 191.6 L 241.3 191.6\" id=\"25,9\" style=\"\"></path><path d=\"M 215.2 158.5 L 215.2 169.5 L 241.3 169.5\" id=\"24,10\" style=\"\"></path><path d=\"M 215.2 158.5 L 215.2 147.4 L 241.3 147.4\" id=\"24,11\" style=\"\"></path><path d=\"M 215.2 114.3 L 215.2 125.3 L 241.3 125.3\" id=\"26,12\" style=\"\"></path><path d=\"M 215.2 114.3 L 215.2 103.2 L 241.3 103.2\" id=\"26,13\" style=\"\"></path><path d=\"M 215.2 70.1 L 215.2 81.1 L 241.3 81.1\" id=\"29,14\" style=\"\"></path><path d=\"M 215.2 70.1 L 215.2 59.0 L 241.3 59.0\" id=\"29,15\" style=\"\"></path><path d=\"M 189.1 363.0 L 189.1 379.5 L 215.2 379.5\" id=\"17,16\" style=\"\"></path><path d=\"M 163.0 343.6 L 163.0 363.0 L 189.1 363.0\" id=\"18,17\" style=\"\"></path><path d=\"M 137.0 314.6 L 137.0 343.6 L 163.0 343.6\" id=\"21,18\" style=\"\"></path><path d=\"M 189.1 285.6 L 189.1 269.0 L 215.2 269.0\" id=\"20,19\" style=\"\"></path><path d=\"M 137.0 314.6 L 137.0 285.6 L 189.1 285.6\" id=\"21,20\" style=\"\"></path><path d=\"M 110.9 269.7 L 110.9 314.6 L 137.0 314.6\" id=\"23,21\" style=\"\"></path><path d=\"M 110.9 269.7 L 110.9 224.8 L 215.2 224.8\" id=\"23,22\" style=\"\"></path><path d=\"M 84.8 207.2 L 84.8 269.7 L 110.9 269.7\" id=\"28,23\" style=\"\"></path><path d=\"M 189.1 175.1 L 189.1 158.5 L 215.2 158.5\" id=\"25,24\" style=\"\"></path><path d=\"M 163.0 144.7 L 163.0 175.1 L 189.1 175.1\" id=\"27,25\" style=\"\"></path><path d=\"M 163.0 144.7 L 163.0 114.3 L 215.2 114.3\" id=\"27,26\" style=\"\"></path><path d=\"M 84.8 207.2 L 84.8 144.7 L 163.0 144.7\" id=\"28,27\" style=\"\"></path><path d=\"M 58.7 138.6 L 58.7 207.2 L 84.8 207.2\" id=\"30,28\" style=\"\"></path><path d=\"M 58.7 138.6 L 58.7 70.1 L 215.2 70.1\" id=\"30,29\" style=\"\"></path></g><g class=\"toytree-AdmixEdges\" style=\"fill:rgb(0.0%,0.0%,0.0%);fill-opacity:0.0;stroke:rgb(90.6%,54.1%,76.5%);stroke-opacity:0.6;font-size:14px;stroke-linecap:round;stroke-width:5\"></g><g class=\"toytree-Nodes\" style=\"fill:rgb(82.7%,82.7%,82.7%);fill-opacity:1.0;stroke:rgb(14.5%,14.5%,14.5%);stroke-opacity:1.0;stroke-width:1.5\"><g id=\"Node-0\" transform=\"translate(241.324,390.59)\"><circle r=\"8.0\"></circle></g><g id=\"Node-1\" transform=\"translate(241.324,368.484)\"><circle r=\"8.0\"></circle></g><g id=\"Node-2\" transform=\"translate(241.324,346.379)\"><circle r=\"8.0\"></circle></g><g id=\"Node-3\" transform=\"translate(241.324,324.274)\"><circle r=\"8.0\"></circle></g><g id=\"Node-4\" transform=\"translate(241.324,302.169)\"><circle r=\"8.0\"></circle></g><g id=\"Node-5\" transform=\"translate(241.324,280.063)\"><circle r=\"8.0\"></circle></g><g id=\"Node-6\" transform=\"translate(241.324,257.958)\"><circle r=\"8.0\"></circle></g><g id=\"Node-7\" transform=\"translate(241.324,235.853)\"><circle r=\"8.0\"></circle></g><g id=\"Node-8\" transform=\"translate(241.324,213.747)\"><circle r=\"8.0\"></circle></g><g id=\"Node-9\" transform=\"translate(241.324,191.642)\"><circle r=\"8.0\"></circle></g><g id=\"Node-10\" transform=\"translate(241.324,169.537)\"><circle r=\"8.0\"></circle></g><g id=\"Node-11\" transform=\"translate(241.324,147.431)\"><circle r=\"8.0\"></circle></g><g id=\"Node-12\" transform=\"translate(241.324,125.326)\"><circle r=\"8.0\"></circle></g><g id=\"Node-13\" transform=\"translate(241.324,103.221)\"><circle r=\"8.0\"></circle></g><g id=\"Node-14\" transform=\"translate(241.324,81.1156)\"><circle r=\"8.0\"></circle></g><g id=\"Node-15\" transform=\"translate(241.324,59.0103)\"><circle r=\"8.0\"></circle></g><g id=\"Node-16\" transform=\"translate(215.232,379.537)\"><circle r=\"8.0\"></circle></g><g id=\"Node-17\" transform=\"translate(189.139,362.958)\"><circle r=\"8.0\"></circle></g><g id=\"Node-18\" transform=\"translate(163.046,343.616)\"><circle r=\"8.0\"></circle></g><g id=\"Node-19\" transform=\"translate(215.232,269.011)\"><circle r=\"8.0\"></circle></g><g id=\"Node-20\" transform=\"translate(189.139,285.59)\"><circle r=\"8.0\"></circle></g><g id=\"Node-21\" transform=\"translate(136.954,314.603)\"><circle r=\"8.0\"></circle></g><g id=\"Node-22\" transform=\"translate(215.232,224.8)\"><circle r=\"8.0\"></circle></g><g id=\"Node-23\" transform=\"translate(110.861,269.701)\"><circle r=\"8.0\"></circle></g><g id=\"Node-24\" transform=\"translate(215.232,158.484)\"><circle r=\"8.0\"></circle></g><g id=\"Node-25\" transform=\"translate(189.139,175.063)\"><circle r=\"8.0\"></circle></g><g id=\"Node-26\" transform=\"translate(215.232,114.274)\"><circle r=\"8.0\"></circle></g><g id=\"Node-27\" transform=\"translate(163.046,144.668)\"><circle r=\"8.0\"></circle></g><g id=\"Node-28\" transform=\"translate(84.7684,207.185)\"><circle r=\"8.0\"></circle></g><g id=\"Node-29\" transform=\"translate(215.232,70.063)\"><circle r=\"8.0\"></circle></g><g id=\"Node-30\" transform=\"translate(58.6758,138.624)\"><circle r=\"8.0\"></circle></g></g><g class=\"toytree-NodeLabels\" style=\"font-family:Helvetica;font-size:9px;font-weight:300;vertical-align:baseline;white-space:pre;stroke:none\"><g class=\"toytree-NodeLabel\" transform=\"translate(241.324,390.59)\"><text x=\"-2.5020000000000002\" y=\"2.2995\" style=\"fill:rgb(14.5%,14.5%,14.5%);fill-opacity:1.0\">0</text></g><g class=\"toytree-NodeLabel\" transform=\"translate(241.324,368.484)\"><text x=\"-2.5020000000000002\" y=\"2.2995\" style=\"fill:rgb(14.5%,14.5%,14.5%);fill-opacity:1.0\">1</text></g><g class=\"toytree-NodeLabel\" transform=\"translate(241.324,346.379)\"><text x=\"-2.5020000000000002\" y=\"2.2995\" style=\"fill:rgb(14.5%,14.5%,14.5%);fill-opacity:1.0\">2</text></g><g class=\"toytree-NodeLabel\" transform=\"translate(241.324,324.274)\"><text x=\"-2.5020000000000002\" y=\"2.2995\" style=\"fill:rgb(14.5%,14.5%,14.5%);fill-opacity:1.0\">3</text></g><g class=\"toytree-NodeLabel\" transform=\"translate(241.324,302.169)\"><text x=\"-2.5020000000000002\" y=\"2.2995\" style=\"fill:rgb(14.5%,14.5%,14.5%);fill-opacity:1.0\">4</text></g><g class=\"toytree-NodeLabel\" transform=\"translate(241.324,280.063)\"><text x=\"-2.5020000000000002\" y=\"2.2995\" style=\"fill:rgb(14.5%,14.5%,14.5%);fill-opacity:1.0\">5</text></g><g class=\"toytree-NodeLabel\" transform=\"translate(241.324,257.958)\"><text x=\"-2.5020000000000002\" y=\"2.2995\" style=\"fill:rgb(14.5%,14.5%,14.5%);fill-opacity:1.0\">6</text></g><g class=\"toytree-NodeLabel\" transform=\"translate(241.324,235.853)\"><text x=\"-2.5020000000000002\" y=\"2.2995\" style=\"fill:rgb(14.5%,14.5%,14.5%);fill-opacity:1.0\">7</text></g><g class=\"toytree-NodeLabel\" transform=\"translate(241.324,213.747)\"><text x=\"-2.5020000000000002\" y=\"2.2995\" style=\"fill:rgb(14.5%,14.5%,14.5%);fill-opacity:1.0\">8</text></g><g class=\"toytree-NodeLabel\" transform=\"translate(241.324,191.642)\"><text x=\"-2.5020000000000002\" y=\"2.2995\" style=\"fill:rgb(14.5%,14.5%,14.5%);fill-opacity:1.0\">9</text></g><g class=\"toytree-NodeLabel\" transform=\"translate(241.324,169.537)\"><text x=\"-5.0040000000000004\" y=\"2.2995\" style=\"fill:rgb(14.5%,14.5%,14.5%);fill-opacity:1.0\">10</text></g><g class=\"toytree-NodeLabel\" transform=\"translate(241.324,147.431)\"><text x=\"-5.0040000000000004\" y=\"2.2995\" style=\"fill:rgb(14.5%,14.5%,14.5%);fill-opacity:1.0\">11</text></g><g class=\"toytree-NodeLabel\" transform=\"translate(241.324,125.326)\"><text x=\"-5.0040000000000004\" y=\"2.2995\" style=\"fill:rgb(14.5%,14.5%,14.5%);fill-opacity:1.0\">12</text></g><g class=\"toytree-NodeLabel\" transform=\"translate(241.324,103.221)\"><text x=\"-5.0040000000000004\" y=\"2.2995\" style=\"fill:rgb(14.5%,14.5%,14.5%);fill-opacity:1.0\">13</text></g><g class=\"toytree-NodeLabel\" transform=\"translate(241.324,81.1156)\"><text x=\"-5.0040000000000004\" y=\"2.2995\" style=\"fill:rgb(14.5%,14.5%,14.5%);fill-opacity:1.0\">14</text></g><g class=\"toytree-NodeLabel\" transform=\"translate(241.324,59.0103)\"><text x=\"-5.0040000000000004\" y=\"2.2995\" style=\"fill:rgb(14.5%,14.5%,14.5%);fill-opacity:1.0\">15</text></g><g class=\"toytree-NodeLabel\" transform=\"translate(215.232,379.537)\"><text x=\"-5.0040000000000004\" y=\"2.2995\" style=\"fill:rgb(14.5%,14.5%,14.5%);fill-opacity:1.0\">16</text></g><g class=\"toytree-NodeLabel\" transform=\"translate(189.139,362.958)\"><text x=\"-5.0040000000000004\" y=\"2.2995\" style=\"fill:rgb(14.5%,14.5%,14.5%);fill-opacity:1.0\">17</text></g><g class=\"toytree-NodeLabel\" transform=\"translate(163.046,343.616)\"><text x=\"-5.0040000000000004\" y=\"2.2995\" style=\"fill:rgb(14.5%,14.5%,14.5%);fill-opacity:1.0\">18</text></g><g class=\"toytree-NodeLabel\" transform=\"translate(215.232,269.011)\"><text x=\"-5.0040000000000004\" y=\"2.2995\" style=\"fill:rgb(14.5%,14.5%,14.5%);fill-opacity:1.0\">19</text></g><g class=\"toytree-NodeLabel\" transform=\"translate(189.139,285.59)\"><text x=\"-5.0040000000000004\" y=\"2.2995\" style=\"fill:rgb(14.5%,14.5%,14.5%);fill-opacity:1.0\">20</text></g><g class=\"toytree-NodeLabel\" transform=\"translate(136.954,314.603)\"><text x=\"-5.0040000000000004\" y=\"2.2995\" style=\"fill:rgb(14.5%,14.5%,14.5%);fill-opacity:1.0\">21</text></g><g class=\"toytree-NodeLabel\" transform=\"translate(215.232,224.8)\"><text x=\"-5.0040000000000004\" y=\"2.2995\" style=\"fill:rgb(14.5%,14.5%,14.5%);fill-opacity:1.0\">22</text></g><g class=\"toytree-NodeLabel\" transform=\"translate(110.861,269.701)\"><text x=\"-5.0040000000000004\" y=\"2.2995\" style=\"fill:rgb(14.5%,14.5%,14.5%);fill-opacity:1.0\">23</text></g><g class=\"toytree-NodeLabel\" transform=\"translate(215.232,158.484)\"><text x=\"-5.0040000000000004\" y=\"2.2995\" style=\"fill:rgb(14.5%,14.5%,14.5%);fill-opacity:1.0\">24</text></g><g class=\"toytree-NodeLabel\" transform=\"translate(189.139,175.063)\"><text x=\"-5.0040000000000004\" y=\"2.2995\" style=\"fill:rgb(14.5%,14.5%,14.5%);fill-opacity:1.0\">25</text></g><g class=\"toytree-NodeLabel\" transform=\"translate(215.232,114.274)\"><text x=\"-5.0040000000000004\" y=\"2.2995\" style=\"fill:rgb(14.5%,14.5%,14.5%);fill-opacity:1.0\">26</text></g><g class=\"toytree-NodeLabel\" transform=\"translate(163.046,144.668)\"><text x=\"-5.0040000000000004\" y=\"2.2995\" style=\"fill:rgb(14.5%,14.5%,14.5%);fill-opacity:1.0\">27</text></g><g class=\"toytree-NodeLabel\" transform=\"translate(84.7684,207.185)\"><text x=\"-5.0040000000000004\" y=\"2.2995\" style=\"fill:rgb(14.5%,14.5%,14.5%);fill-opacity:1.0\">28</text></g><g class=\"toytree-NodeLabel\" transform=\"translate(215.232,70.063)\"><text x=\"-5.0040000000000004\" y=\"2.2995\" style=\"fill:rgb(14.5%,14.5%,14.5%);fill-opacity:1.0\">29</text></g><g class=\"toytree-NodeLabel\" transform=\"translate(58.6758,138.624)\"><text x=\"-5.0040000000000004\" y=\"2.2995\" style=\"fill:rgb(14.5%,14.5%,14.5%);fill-opacity:1.0\">30</text></g></g></g></g></g></svg><div class=\"toyplot-behavior\"><script>(function()\n",
       "{\n",
       "var modules={};\n",
       "})();</script></div></div>"
      ]
     },
     "metadata": {},
     "output_type": "display_data"
    }
   ],
   "source": [
    "import toytree\n",
    "\n",
    "#generate random topology with 16 tips\n",
    "tree = toytree.rtree.rtree(ntips=16)\n",
    "\n",
    "#draw to show all internal nodes\n",
    "tree.draw(ts = 's', tip_labels = False, node_labels = 'idx');"
   ]
  },
  {
   "cell_type": "markdown",
   "metadata": {},
   "source": [
    "`get_node_path` returns a list of Nodes connecting two queried Nodes of a tree(including at ends)."
   ]
  },
  {
   "cell_type": "code",
   "execution_count": null,
   "metadata": {},
   "outputs": [
    {
     "data": {
      "text/plain": [
       "(<Node(idx=15, name='r15')>,\n",
       " <Node(idx=29)>,\n",
       " <Node(idx=30)>,\n",
       " <Node(idx=28)>,\n",
       " <Node(idx=23)>,\n",
       " <Node(idx=21)>,\n",
       " <Node(idx=18)>,\n",
       " <Node(idx=17)>,\n",
       " <Node(idx=16)>,\n",
       " <Node(idx=0, name='r0')>)"
      ]
     },
     "metadata": {},
     "output_type": "display_data"
    }
   ],
   "source": [
    "toytree.distance.get_node_path(tree, 15, 0)"
   ]
  },
  {
   "cell_type": "markdown",
   "metadata": {},
   "source": [
    "And `iter_node_path` is the iterative generator version."
   ]
  },
  {
   "cell_type": "code",
   "execution_count": null,
   "metadata": {},
   "outputs": [
    {
     "name": "stdout",
     "output_type": "stream",
     "text": [
      "15\n",
      "29\n",
      "30\n",
      "28\n",
      "23\n",
      "21\n",
      "18\n",
      "17\n",
      "16\n",
      "0\n"
     ]
    }
   ],
   "source": [
    "from toytree.distance import iter_node_path\n",
    "\n",
    "for node in iter_node_path(tree, 15, 0):\n",
    "    print(node.idx)"
   ]
  },
  {
   "cell_type": "markdown",
   "metadata": {},
   "source": [
    "### Node Distances"
   ]
  },
  {
   "cell_type": "code",
   "execution_count": null,
   "metadata": {},
   "outputs": [
    {
     "data": {
      "text/html": [
       "<div class=\"toyplot\" id=\"t412dcf78895b416bb410b3461bc19e2a\" style=\"text-align:center\"><svg class=\"toyplot-canvas-Canvas\" xmlns:toyplot=\"http://www.sandia.gov/toyplot\" xmlns:xlink=\"http://www.w3.org/1999/xlink\" xmlns=\"http://www.w3.org/2000/svg\" width=\"458.268px\" height=\"362.2px\" viewBox=\"0 0 458.268 362.2\" preserveAspectRatio=\"xMidYMid meet\" style=\"background-color:transparent;border-color:#292724;border-style:none;border-width:1.0;fill:rgb(16.1%,15.3%,14.1%);fill-opacity:1.0;font-family:Helvetica;font-size:12px;opacity:1.0;stroke:rgb(16.1%,15.3%,14.1%);stroke-opacity:1.0;stroke-width:1.0\" id=\"t7d4fe63f90fa4e079f1fb054211f721c\"><g class=\"toyplot-coordinates-Cartesian\" id=\"t1107a68949bc412c8f8463879a42ee08\"><clipPath id=\"t5e5d3ec0686840258b5fbb08c871d5e5\"><rect x=\"35.0\" y=\"35.0\" width=\"388.268\" height=\"292.2\"></rect></clipPath><g clip-path=\"url(#t5e5d3ec0686840258b5fbb08c871d5e5)\"><g class=\"toytree-mark-Toytree\" id=\"t20570e214e784d56b1cf73de0cb7a62b\"><g class=\"toytree-Edges\" style=\"stroke:rgb(14.5%,14.5%,14.5%);stroke-opacity:1.0;stroke-linecap:round;stroke-width:2.0;fill:none\"><path d=\"M 194.8 286.7 L 194.8 303.3 L 250.7 303.3\" id=\"13,0\" style=\"\"></path><path d=\"M 222.8 270.0 L 222.8 281.1 L 250.7 281.1\" id=\"12,1\" style=\"\"></path><path d=\"M 222.8 270.0 L 222.8 258.9 L 250.7 258.9\" id=\"12,2\" style=\"\"></path><path d=\"M 139.0 192.2 L 139.0 236.7 L 250.7 236.7\" id=\"19,3\" style=\"\"></path><path d=\"M 222.8 203.3 L 222.8 214.4 L 250.7 214.4\" id=\"14,4\" style=\"\"></path><path d=\"M 222.8 203.3 L 222.8 192.2 L 250.7 192.2\" id=\"14,5\" style=\"\"></path><path d=\"M 222.8 158.9 L 222.8 170.0 L 250.7 170.0\" id=\"15,6\" style=\"\"></path><path d=\"M 222.8 158.9 L 222.8 147.8 L 250.7 147.8\" id=\"15,7\" style=\"\"></path><path d=\"M 222.8 114.4 L 222.8 125.5 L 250.7 125.5\" id=\"17,8\" style=\"\"></path><path d=\"M 222.8 114.4 L 222.8 103.3 L 250.7 103.3\" id=\"17,9\" style=\"\"></path><path d=\"M 111.0 136.6 L 111.0 81.1 L 250.7 81.1\" id=\"20,10\" style=\"\"></path><path d=\"M 55.2 135.3 L 55.2 58.9 L 250.7 58.9\" id=\"22,11\" style=\"\"></path><path d=\"M 194.8 286.7 L 194.8 270.0 L 222.8 270.0\" id=\"13,12\" style=\"\"></path><path d=\"M 83.1 211.7 L 83.1 286.7 L 194.8 286.7\" id=\"21,13\" style=\"\"></path><path d=\"M 194.8 181.1 L 194.8 203.3 L 222.8 203.3\" id=\"16,14\" style=\"\"></path><path d=\"M 194.8 181.1 L 194.8 158.9 L 222.8 158.9\" id=\"16,15\" style=\"\"></path><path d=\"M 166.9 147.8 L 166.9 181.1 L 194.8 181.1\" id=\"18,16\" style=\"\"></path><path d=\"M 166.9 147.8 L 166.9 114.4 L 222.8 114.4\" id=\"18,17\" style=\"\"></path><path d=\"M 139.0 192.2 L 139.0 147.8 L 166.9 147.8\" id=\"19,18\" style=\"\"></path><path d=\"M 111.0 136.6 L 111.0 192.2 L 139.0 192.2\" id=\"20,19\" style=\"\"></path><path d=\"M 83.1 211.7 L 83.1 136.6 L 111.0 136.6\" id=\"21,20\" style=\"\"></path><path d=\"M 55.2 135.3 L 55.2 211.7 L 83.1 211.7\" id=\"22,21\" style=\"\"></path></g><g class=\"toytree-AdmixEdges\" style=\"fill:rgb(0.0%,0.0%,0.0%);fill-opacity:0.0;stroke:rgb(90.6%,54.1%,76.5%);stroke-opacity:0.6;font-size:14px;stroke-linecap:round;stroke-width:5\"></g><g class=\"toytree-Nodes\" style=\"fill:rgb(82.7%,82.7%,82.7%);fill-opacity:1.0;stroke:rgb(14.5%,14.5%,14.5%);stroke-opacity:1.0;stroke-width:1.5\"><g id=\"Node-0\" transform=\"translate(250.689,303.342)\"><circle r=\"8.0\"></circle></g><g id=\"Node-1\" transform=\"translate(250.689,281.116)\"><circle r=\"8.0\"></circle></g><g id=\"Node-2\" transform=\"translate(250.689,258.89)\"><circle r=\"8.0\"></circle></g><g id=\"Node-3\" transform=\"translate(250.689,236.664)\"><circle r=\"8.0\"></circle></g><g id=\"Node-4\" transform=\"translate(250.689,214.439)\"><circle r=\"8.0\"></circle></g><g id=\"Node-5\" transform=\"translate(250.689,192.213)\"><circle r=\"8.0\"></circle></g><g id=\"Node-6\" transform=\"translate(250.689,169.987)\"><circle r=\"8.0\"></circle></g><g id=\"Node-7\" transform=\"translate(250.689,147.761)\"><circle r=\"8.0\"></circle></g><g id=\"Node-8\" transform=\"translate(250.689,125.536)\"><circle r=\"8.0\"></circle></g><g id=\"Node-9\" transform=\"translate(250.689,103.31)\"><circle r=\"8.0\"></circle></g><g id=\"Node-10\" transform=\"translate(250.689,81.0839)\"><circle r=\"8.0\"></circle></g><g id=\"Node-11\" transform=\"translate(250.689,58.8581)\"><circle r=\"8.0\"></circle></g><g id=\"Node-12\" transform=\"translate(222.76,270.003)\"><circle r=\"8.0\"></circle></g><g id=\"Node-13\" transform=\"translate(194.83,286.673)\"><circle r=\"8.0\"></circle></g><g id=\"Node-14\" transform=\"translate(222.76,203.326)\"><circle r=\"8.0\"></circle></g><g id=\"Node-15\" transform=\"translate(222.76,158.874)\"><circle r=\"8.0\"></circle></g><g id=\"Node-16\" transform=\"translate(194.83,181.1)\"><circle r=\"8.0\"></circle></g><g id=\"Node-17\" transform=\"translate(222.76,114.423)\"><circle r=\"8.0\"></circle></g><g id=\"Node-18\" transform=\"translate(166.901,147.761)\"><circle r=\"8.0\"></circle></g><g id=\"Node-19\" transform=\"translate(138.972,192.213)\"><circle r=\"8.0\"></circle></g><g id=\"Node-20\" transform=\"translate(111.043,136.648)\"><circle r=\"8.0\"></circle></g><g id=\"Node-21\" transform=\"translate(83.1134,211.66)\"><circle r=\"8.0\"></circle></g><g id=\"Node-22\" transform=\"translate(55.1841,135.259)\"><circle r=\"8.0\"></circle></g></g><g class=\"toytree-NodeLabels\" style=\"font-family:Helvetica;font-size:9px;font-weight:300;vertical-align:baseline;white-space:pre;stroke:none\"><g class=\"toytree-NodeLabel\" transform=\"translate(250.689,303.342)\"><text x=\"-2.5020000000000002\" y=\"2.2995\" style=\"fill:rgb(14.5%,14.5%,14.5%);fill-opacity:1.0\">0</text></g><g class=\"toytree-NodeLabel\" transform=\"translate(250.689,281.116)\"><text x=\"-2.5020000000000002\" y=\"2.2995\" style=\"fill:rgb(14.5%,14.5%,14.5%);fill-opacity:1.0\">1</text></g><g class=\"toytree-NodeLabel\" transform=\"translate(250.689,258.89)\"><text x=\"-2.5020000000000002\" y=\"2.2995\" style=\"fill:rgb(14.5%,14.5%,14.5%);fill-opacity:1.0\">2</text></g><g class=\"toytree-NodeLabel\" transform=\"translate(250.689,236.664)\"><text x=\"-2.5020000000000002\" y=\"2.2995\" style=\"fill:rgb(14.5%,14.5%,14.5%);fill-opacity:1.0\">3</text></g><g class=\"toytree-NodeLabel\" transform=\"translate(250.689,214.439)\"><text x=\"-2.5020000000000002\" y=\"2.2995\" style=\"fill:rgb(14.5%,14.5%,14.5%);fill-opacity:1.0\">4</text></g><g class=\"toytree-NodeLabel\" transform=\"translate(250.689,192.213)\"><text x=\"-2.5020000000000002\" y=\"2.2995\" style=\"fill:rgb(14.5%,14.5%,14.5%);fill-opacity:1.0\">5</text></g><g class=\"toytree-NodeLabel\" transform=\"translate(250.689,169.987)\"><text x=\"-2.5020000000000002\" y=\"2.2995\" style=\"fill:rgb(14.5%,14.5%,14.5%);fill-opacity:1.0\">6</text></g><g class=\"toytree-NodeLabel\" transform=\"translate(250.689,147.761)\"><text x=\"-2.5020000000000002\" y=\"2.2995\" style=\"fill:rgb(14.5%,14.5%,14.5%);fill-opacity:1.0\">7</text></g><g class=\"toytree-NodeLabel\" transform=\"translate(250.689,125.536)\"><text x=\"-2.5020000000000002\" y=\"2.2995\" style=\"fill:rgb(14.5%,14.5%,14.5%);fill-opacity:1.0\">8</text></g><g class=\"toytree-NodeLabel\" transform=\"translate(250.689,103.31)\"><text x=\"-2.5020000000000002\" y=\"2.2995\" style=\"fill:rgb(14.5%,14.5%,14.5%);fill-opacity:1.0\">9</text></g><g class=\"toytree-NodeLabel\" transform=\"translate(250.689,81.0839)\"><text x=\"-5.0040000000000004\" y=\"2.2995\" style=\"fill:rgb(14.5%,14.5%,14.5%);fill-opacity:1.0\">10</text></g><g class=\"toytree-NodeLabel\" transform=\"translate(250.689,58.8581)\"><text x=\"-5.0040000000000004\" y=\"2.2995\" style=\"fill:rgb(14.5%,14.5%,14.5%);fill-opacity:1.0\">11</text></g><g class=\"toytree-NodeLabel\" transform=\"translate(222.76,270.003)\"><text x=\"-5.0040000000000004\" y=\"2.2995\" style=\"fill:rgb(14.5%,14.5%,14.5%);fill-opacity:1.0\">12</text></g><g class=\"toytree-NodeLabel\" transform=\"translate(194.83,286.673)\"><text x=\"-5.0040000000000004\" y=\"2.2995\" style=\"fill:rgb(14.5%,14.5%,14.5%);fill-opacity:1.0\">13</text></g><g class=\"toytree-NodeLabel\" transform=\"translate(222.76,203.326)\"><text x=\"-5.0040000000000004\" y=\"2.2995\" style=\"fill:rgb(14.5%,14.5%,14.5%);fill-opacity:1.0\">14</text></g><g class=\"toytree-NodeLabel\" transform=\"translate(222.76,158.874)\"><text x=\"-5.0040000000000004\" y=\"2.2995\" style=\"fill:rgb(14.5%,14.5%,14.5%);fill-opacity:1.0\">15</text></g><g class=\"toytree-NodeLabel\" transform=\"translate(194.83,181.1)\"><text x=\"-5.0040000000000004\" y=\"2.2995\" style=\"fill:rgb(14.5%,14.5%,14.5%);fill-opacity:1.0\">16</text></g><g class=\"toytree-NodeLabel\" transform=\"translate(222.76,114.423)\"><text x=\"-5.0040000000000004\" y=\"2.2995\" style=\"fill:rgb(14.5%,14.5%,14.5%);fill-opacity:1.0\">17</text></g><g class=\"toytree-NodeLabel\" transform=\"translate(166.901,147.761)\"><text x=\"-5.0040000000000004\" y=\"2.2995\" style=\"fill:rgb(14.5%,14.5%,14.5%);fill-opacity:1.0\">18</text></g><g class=\"toytree-NodeLabel\" transform=\"translate(138.972,192.213)\"><text x=\"-5.0040000000000004\" y=\"2.2995\" style=\"fill:rgb(14.5%,14.5%,14.5%);fill-opacity:1.0\">19</text></g><g class=\"toytree-NodeLabel\" transform=\"translate(111.043,136.648)\"><text x=\"-5.0040000000000004\" y=\"2.2995\" style=\"fill:rgb(14.5%,14.5%,14.5%);fill-opacity:1.0\">20</text></g><g class=\"toytree-NodeLabel\" transform=\"translate(83.1134,211.66)\"><text x=\"-5.0040000000000004\" y=\"2.2995\" style=\"fill:rgb(14.5%,14.5%,14.5%);fill-opacity:1.0\">21</text></g><g class=\"toytree-NodeLabel\" transform=\"translate(55.1841,135.259)\"><text x=\"-5.0040000000000004\" y=\"2.2995\" style=\"fill:rgb(14.5%,14.5%,14.5%);fill-opacity:1.0\">22</text></g></g><g class=\"toytree-TipLabels\" style=\"fill:rgb(14.5%,14.5%,14.5%);fill-opacity:1.0;font-family:Helvetica;font-size:12px;font-weight:300;vertical-align:baseline;white-space:pre;stroke:none\"><g class=\"toytree-TipLabel\" transform=\"translate(250.689,303.342)\"><text x=\"15.0\" y=\"3.066\" style=\"fill:rgb(14.5%,14.5%,14.5%);fill-opacity:1.0\">Sambucus_nigra</text></g><g class=\"toytree-TipLabel\" transform=\"translate(250.689,281.116)\"><text x=\"15.0\" y=\"3.066\" style=\"fill:rgb(14.5%,14.5%,14.5%);fill-opacity:1.0\">Arctostaphylos_viscida</text></g><g class=\"toytree-TipLabel\" transform=\"translate(250.689,258.89)\"><text x=\"15.0\" y=\"3.066\" style=\"fill:rgb(14.5%,14.5%,14.5%);fill-opacity:1.0\">Arctostaphylos_patula</text></g><g class=\"toytree-TipLabel\" transform=\"translate(250.689,236.664)\"><text x=\"15.0\" y=\"3.066\" style=\"fill:rgb(14.5%,14.5%,14.5%);fill-opacity:1.0\">Lupinus_sparsiflorus</text></g><g class=\"toytree-TipLabel\" transform=\"translate(250.689,214.439)\"><text x=\"15.0\" y=\"3.066\" style=\"fill:rgb(14.5%,14.5%,14.5%);fill-opacity:1.0\">Ceanothus_leucodermis</text></g><g class=\"toytree-TipLabel\" transform=\"translate(250.689,192.213)\"><text x=\"15.0\" y=\"3.066\" style=\"fill:rgb(14.5%,14.5%,14.5%);fill-opacity:1.0\">Ceanothus_cuneatus</text></g><g class=\"toytree-TipLabel\" transform=\"translate(250.689,169.987)\"><text x=\"15.0\" y=\"3.066\" style=\"fill:rgb(14.5%,14.5%,14.5%);fill-opacity:1.0\">Frangula_rubra</text></g><g class=\"toytree-TipLabel\" transform=\"translate(250.689,147.761)\"><text x=\"15.0\" y=\"3.066\" style=\"fill:rgb(14.5%,14.5%,14.5%);fill-opacity:1.0\">Rhamnus_ilicifolia</text></g><g class=\"toytree-TipLabel\" transform=\"translate(250.689,125.536)\"><text x=\"15.0\" y=\"3.066\" style=\"fill:rgb(14.5%,14.5%,14.5%);fill-opacity:1.0\">Quercus_douglasii</text></g><g class=\"toytree-TipLabel\" transform=\"translate(250.689,103.31)\"><text x=\"15.0\" y=\"3.066\" style=\"fill:rgb(14.5%,14.5%,14.5%);fill-opacity:1.0\">Quercus_wislizeni</text></g><g class=\"toytree-TipLabel\" transform=\"translate(250.689,81.0839)\"><text x=\"15.0\" y=\"3.066\" style=\"fill:rgb(14.5%,14.5%,14.5%);fill-opacity:1.0\">Aesculus_californica</text></g><g class=\"toytree-TipLabel\" transform=\"translate(250.689,58.8581)\"><text x=\"15.0\" y=\"3.066\" style=\"fill:rgb(14.5%,14.5%,14.5%);fill-opacity:1.0\">Pinus_sabiniana</text></g></g></g></g></g></svg><div class=\"toyplot-behavior\"><script>(function()\n",
       "{\n",
       "var modules={};\n",
       "})();</script></div></div>"
      ]
     },
     "metadata": {},
     "output_type": "display_data"
    }
   ],
   "source": [
    "#Newick string generated in R with phylomaker_v2\n",
    "newick = \"(((Sambucus_nigra:112.340729,(Arctostaphylos_viscida:1.761115,Arctostaphylos_patula:1.761115):110.579613)mrcaott248ott650:11.393508,((Lupinus_sparsiflorus:112.701196,(((Ceanothus_leucodermis:4.464401,Ceanothus_cuneatus:4.464401):46.93409,(Frangula_rubra:10.957388,Rhamnus_ilicifolia:10.957388):40.441103):59.749516,(Quercus_douglasii:11.776698,Quercus_wislizeni:11.776699):99.371309)mrcaott371ott2511:1.553188)mrcaott371ott579:5.877408,Aesculus_californica:118.578604)mrcaott2ott96:5.155633)Pentapetalae:201.315791,Pinus_sabiniana:325.050028)Spermatophyta;\"\n",
    "\n",
    "#generate ToyTree from Newick string\n",
    "tree = toytree.tree(newick)\n",
    "\n",
    "tree.draw('s');\n"
   ]
  },
  {
   "cell_type": "markdown",
   "metadata": {},
   "source": [
    "Yi Jin, Hong Qian,\n",
    "V.PhyloMaker2: An updated and enlarged R package that can generate very large phylogenies for vascular plants,\n",
    "Plant Diversity,\n",
    "Volume 44, Issue 4,\n",
    "2022,\n",
    "Pages 335-339,\n",
    "ISSN 2468-2659,\n",
    "https://doi.org/10.1016/j.pld.2022.05.005."
   ]
  },
  {
   "cell_type": "markdown",
   "metadata": {},
   "source": [
    "`get_node_distance` returns the patristic distance (sum of distances belonging to each edge in shortest path) between two Nodes on a ToyTree."
   ]
  },
  {
   "cell_type": "code",
   "execution_count": null,
   "metadata": {},
   "outputs": [
    {
     "data": {
      "text/plain": [
       "199.561928"
      ]
     },
     "metadata": {},
     "output_type": "display_data"
    }
   ],
   "source": [
    "toytree.distance.get_node_distance(tree, 15, 17)"
   ]
  },
  {
   "cell_type": "code",
   "execution_count": null,
   "metadata": {},
   "outputs": [
    {
     "data": {
      "text/plain": [
       "3"
      ]
     },
     "metadata": {},
     "output_type": "display_data"
    }
   ],
   "source": [
    "toytree.distance.get_node_distance(tree, 15, 17, topology_only= True)"
   ]
  },
  {
   "cell_type": "markdown",
   "metadata": {},
   "source": [
    "`get_node_distance_matrix` returns the pairwise distance matrix for every node in the tree. The user can also use `get_internal_node_distance_matrix` and `get_tip_distance_matrix` for more specific distance matrices.  \n",
    "\n",
    "A matrix is returned as a np.ndarray with rows and columns ordered by Node int idx labels, or as a pd.DataFrame (`df=True`) with row and column names as str Node names for leaf Nodes and idx labels for internal Nodes."
   ]
  },
  {
   "cell_type": "code",
   "execution_count": null,
   "metadata": {},
   "outputs": [
    {
     "data": {
      "text/html": [
       "<div>\n",
       "<style scoped>\n",
       "    .dataframe tbody tr th:only-of-type {\n",
       "        vertical-align: middle;\n",
       "    }\n",
       "\n",
       "    .dataframe tbody tr th {\n",
       "        vertical-align: top;\n",
       "    }\n",
       "\n",
       "    .dataframe thead th {\n",
       "        text-align: right;\n",
       "    }\n",
       "</style>\n",
       "<table border=\"1\" class=\"dataframe\">\n",
       "  <thead>\n",
       "    <tr style=\"text-align: right;\">\n",
       "      <th></th>\n",
       "      <th>12</th>\n",
       "      <th>13</th>\n",
       "      <th>14</th>\n",
       "      <th>15</th>\n",
       "      <th>16</th>\n",
       "      <th>17</th>\n",
       "      <th>18</th>\n",
       "      <th>19</th>\n",
       "      <th>20</th>\n",
       "      <th>21</th>\n",
       "      <th>22</th>\n",
       "    </tr>\n",
       "  </thead>\n",
       "  <tbody>\n",
       "    <tr>\n",
       "      <th>12</th>\n",
       "      <td>0</td>\n",
       "      <td>1</td>\n",
       "      <td>7</td>\n",
       "      <td>7</td>\n",
       "      <td>6</td>\n",
       "      <td>6</td>\n",
       "      <td>5</td>\n",
       "      <td>4</td>\n",
       "      <td>3</td>\n",
       "      <td>2</td>\n",
       "      <td>3</td>\n",
       "    </tr>\n",
       "    <tr>\n",
       "      <th>13</th>\n",
       "      <td>1</td>\n",
       "      <td>0</td>\n",
       "      <td>6</td>\n",
       "      <td>6</td>\n",
       "      <td>5</td>\n",
       "      <td>5</td>\n",
       "      <td>4</td>\n",
       "      <td>3</td>\n",
       "      <td>2</td>\n",
       "      <td>1</td>\n",
       "      <td>2</td>\n",
       "    </tr>\n",
       "    <tr>\n",
       "      <th>14</th>\n",
       "      <td>7</td>\n",
       "      <td>6</td>\n",
       "      <td>0</td>\n",
       "      <td>2</td>\n",
       "      <td>1</td>\n",
       "      <td>3</td>\n",
       "      <td>2</td>\n",
       "      <td>3</td>\n",
       "      <td>4</td>\n",
       "      <td>5</td>\n",
       "      <td>6</td>\n",
       "    </tr>\n",
       "    <tr>\n",
       "      <th>15</th>\n",
       "      <td>7</td>\n",
       "      <td>6</td>\n",
       "      <td>2</td>\n",
       "      <td>0</td>\n",
       "      <td>1</td>\n",
       "      <td>3</td>\n",
       "      <td>2</td>\n",
       "      <td>3</td>\n",
       "      <td>4</td>\n",
       "      <td>5</td>\n",
       "      <td>6</td>\n",
       "    </tr>\n",
       "    <tr>\n",
       "      <th>16</th>\n",
       "      <td>6</td>\n",
       "      <td>5</td>\n",
       "      <td>1</td>\n",
       "      <td>1</td>\n",
       "      <td>0</td>\n",
       "      <td>2</td>\n",
       "      <td>1</td>\n",
       "      <td>2</td>\n",
       "      <td>3</td>\n",
       "      <td>4</td>\n",
       "      <td>5</td>\n",
       "    </tr>\n",
       "    <tr>\n",
       "      <th>17</th>\n",
       "      <td>6</td>\n",
       "      <td>5</td>\n",
       "      <td>3</td>\n",
       "      <td>3</td>\n",
       "      <td>2</td>\n",
       "      <td>0</td>\n",
       "      <td>1</td>\n",
       "      <td>2</td>\n",
       "      <td>3</td>\n",
       "      <td>4</td>\n",
       "      <td>5</td>\n",
       "    </tr>\n",
       "    <tr>\n",
       "      <th>18</th>\n",
       "      <td>5</td>\n",
       "      <td>4</td>\n",
       "      <td>2</td>\n",
       "      <td>2</td>\n",
       "      <td>1</td>\n",
       "      <td>1</td>\n",
       "      <td>0</td>\n",
       "      <td>1</td>\n",
       "      <td>2</td>\n",
       "      <td>3</td>\n",
       "      <td>4</td>\n",
       "    </tr>\n",
       "    <tr>\n",
       "      <th>19</th>\n",
       "      <td>4</td>\n",
       "      <td>3</td>\n",
       "      <td>3</td>\n",
       "      <td>3</td>\n",
       "      <td>2</td>\n",
       "      <td>2</td>\n",
       "      <td>1</td>\n",
       "      <td>0</td>\n",
       "      <td>1</td>\n",
       "      <td>2</td>\n",
       "      <td>3</td>\n",
       "    </tr>\n",
       "    <tr>\n",
       "      <th>20</th>\n",
       "      <td>3</td>\n",
       "      <td>2</td>\n",
       "      <td>4</td>\n",
       "      <td>4</td>\n",
       "      <td>3</td>\n",
       "      <td>3</td>\n",
       "      <td>2</td>\n",
       "      <td>1</td>\n",
       "      <td>0</td>\n",
       "      <td>1</td>\n",
       "      <td>2</td>\n",
       "    </tr>\n",
       "    <tr>\n",
       "      <th>21</th>\n",
       "      <td>2</td>\n",
       "      <td>1</td>\n",
       "      <td>5</td>\n",
       "      <td>5</td>\n",
       "      <td>4</td>\n",
       "      <td>4</td>\n",
       "      <td>3</td>\n",
       "      <td>2</td>\n",
       "      <td>1</td>\n",
       "      <td>0</td>\n",
       "      <td>1</td>\n",
       "    </tr>\n",
       "    <tr>\n",
       "      <th>22</th>\n",
       "      <td>3</td>\n",
       "      <td>2</td>\n",
       "      <td>6</td>\n",
       "      <td>6</td>\n",
       "      <td>5</td>\n",
       "      <td>5</td>\n",
       "      <td>4</td>\n",
       "      <td>3</td>\n",
       "      <td>2</td>\n",
       "      <td>1</td>\n",
       "      <td>0</td>\n",
       "    </tr>\n",
       "  </tbody>\n",
       "</table>\n",
       "</div>"
      ],
      "text/plain": [
       "    12  13  14  15  16  17  18  19  20  21  22\n",
       "12   0   1   7   7   6   6   5   4   3   2   3\n",
       "13   1   0   6   6   5   5   4   3   2   1   2\n",
       "14   7   6   0   2   1   3   2   3   4   5   6\n",
       "15   7   6   2   0   1   3   2   3   4   5   6\n",
       "16   6   5   1   1   0   2   1   2   3   4   5\n",
       "17   6   5   3   3   2   0   1   2   3   4   5\n",
       "18   5   4   2   2   1   1   0   1   2   3   4\n",
       "19   4   3   3   3   2   2   1   0   1   2   3\n",
       "20   3   2   4   4   3   3   2   1   0   1   2\n",
       "21   2   1   5   5   4   4   3   2   1   0   1\n",
       "22   3   2   6   6   5   5   4   3   2   1   0"
      ]
     },
     "metadata": {},
     "output_type": "display_data"
    }
   ],
   "source": [
    "tree.distance.get_internal_node_distance_matrix(df= True, topology_only=True)"
   ]
  },
  {
   "cell_type": "markdown",
   "metadata": {},
   "source": [
    "`get_descendant_dists` returns a dictionary with {Node: dist} pairs of all descendants relative to a queried node. Without a queried node, all descendants/distances are relative to the root node. Values\n",
    "are generated in \"preorder\" traversal order (left then right). \n",
    "\n",
    "An iterable generator `iter_descendant_dists` is also provided."
   ]
  },
  {
   "cell_type": "code",
   "execution_count": null,
   "metadata": {},
   "outputs": [
    {
     "data": {
      "text/plain": [
       "{<Node(idx=18, name='mrcaott371ott2511')>: 0,\n",
       " <Node(idx=16)>: 59.749516,\n",
       " <Node(idx=14)>: 106.683606,\n",
       " <Node(idx=4, name='Ceanothus_leucodermis')>: 111.14800699999999,\n",
       " <Node(idx=5, name='Ceanothus_cuneatus')>: 111.14800699999999,\n",
       " <Node(idx=15)>: 100.190619,\n",
       " <Node(idx=6, name='Frangula_rubra')>: 111.14800699999999,\n",
       " <Node(idx=7, name='Rhamnus_ilicifolia')>: 111.14800699999999,\n",
       " <Node(idx=17)>: 99.371309,\n",
       " <Node(idx=8, name='Quercus_douglasii')>: 111.14800699999999,\n",
       " <Node(idx=9, name='Quercus_wislizeni')>: 111.148008}"
      ]
     },
     "metadata": {},
     "output_type": "display_data"
    }
   ],
   "source": [
    "tree.distance.get_descendant_dists(18)"
   ]
  },
  {
   "cell_type": "markdown",
   "metadata": {},
   "source": [
    "`get_farthest_node` returns the farthest Node from a selected Node and `get_farthest_node_distance` returns the distance between the two."
   ]
  },
  {
   "cell_type": "code",
   "execution_count": null,
   "metadata": {},
   "outputs": [
    {
     "name": "stdout",
     "output_type": "stream",
     "text": [
      "<Node(idx=0, name='Sambucus_nigra')> 650.100056\n"
     ]
    }
   ],
   "source": [
    "node = tree.distance.get_farthest_node(11)\n",
    "dist = tree.distance.get_farthest_node_distance(11)\n",
    "print(node, dist)"
   ]
  }
 ],
 "metadata": {
  "language_info": {
   "name": "python"
  }
 },
 "nbformat": 4,
 "nbformat_minor": 2
}
