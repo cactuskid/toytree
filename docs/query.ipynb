{
 "cells": [
  {
   "cell_type": "markdown",
   "id": "b04605dc",
   "metadata": {},
   "source": [
    "# Node query/selection\n",
    "Many methods in `toytree` require selecting one or more nodes from a tree to operate on. This can often be challenging since most nodes in a tree usually do not have unique names assigned to them, and selecting nodes by a numeric indexing method can be error-prone if the indices change. We have tried to design the node query and selection methods in `toytree` to be maximally flexible to allow for ease-of-use when selecting nodes while also trying to prevent users from making simple and common mistakes."
   ]
  },
  {
   "cell_type": "code",
   "execution_count": 1,
   "id": "7d51aa98",
   "metadata": {},
   "outputs": [],
   "source": [
    "import toytree"
   ]
  },
  {
   "cell_type": "code",
   "execution_count": 2,
   "id": "4ab90a12",
   "metadata": {},
   "outputs": [],
   "source": [
    "# load a toytree from a newick string at a URL and root it\n",
    "tree = toytree.tree(\"https://eaton-lab.org/data/Cyathophora.tre\").root(\"~prz\")"
   ]
  },
  {
   "cell_type": "markdown",
   "id": "2ad00ca4",
   "metadata": {},
   "source": [
    "## Select Nodes by index (idx)\n",
    "The simplest and fastest approach to get `Node` objects from a ToyTree is to select them by their `idx` label. In fact, the storage of Nodes in a cached traversal order for fast recall is one of the main advantages of the ToyTree class. The tip nodes are intuitively labeled from left to right (or bottom to top, depending on the tree orientation) as idx labels from 0 to ntips - 1, and the root node is at idx label nnodes - 1."
   ]
  },
  {
   "cell_type": "code",
   "execution_count": 3,
   "id": "56b042e8-0008-41a8-84f3-7db292c6ffdf",
   "metadata": {},
   "outputs": [
    {
     "data": {
      "text/html": [
       "<div class=\"toyplot\" id=\"tac23382e6f6c48589e226919b87ec53c\" style=\"text-align:center\"><svg class=\"toyplot-canvas-Canvas\" xmlns:toyplot=\"http://www.sandia.gov/toyplot\" xmlns:xlink=\"http://www.w3.org/1999/xlink\" xmlns=\"http://www.w3.org/2000/svg\" width=\"461.972px\" height=\"384.04999999999995px\" viewBox=\"0 0 461.972 384.04999999999995\" preserveAspectRatio=\"xMidYMid meet\" style=\"background-color:transparent;border-color:#292724;border-style:none;border-width:1.0;fill:rgb(16.1%,15.3%,14.1%);fill-opacity:1.0;font-family:Helvetica;font-size:12px;opacity:1.0;stroke:rgb(16.1%,15.3%,14.1%);stroke-opacity:1.0;stroke-width:1.0\" id=\"t09300432bc2048d19e036da4cf5a8cfc\"><g class=\"toyplot-coordinates-Cartesian\" id=\"tef136e16fcb54a18a5a09ecd13bd7e95\"><clipPath id=\"t144b6becf75f434bb088774f65efd2c3\"><rect x=\"35.0\" y=\"35.0\" width=\"391.972\" height=\"314.04999999999995\"></rect></clipPath><g clip-path=\"url(#t144b6becf75f434bb088774f65efd2c3)\"><g class=\"toytree-mark-Toytree\" id=\"taf545705efd2412db806be7caa26969d\"><g class=\"toytree-Edges\" style=\"stroke:rgb(14.5%,14.5%,14.5%);stroke-opacity:1.0;stroke-linecap:round;stroke-width:2.0;fill:none\"><path d=\"M 225.7 314.1 L 225.7 325.1 L 254.1 325.1\" id=\"13,0\" style=\"\"></path><path d=\"M 225.7 314.1 L 225.7 303.0 L 254.1 303.0\" id=\"13,1\" style=\"\"></path><path d=\"M 112.0 255.1 L 112.0 280.8 L 254.1 280.8\" id=\"19,2\" style=\"\"></path><path d=\"M 140.4 229.5 L 140.4 258.6 L 254.1 258.6\" id=\"18,3\" style=\"\"></path><path d=\"M 225.7 225.3 L 225.7 236.4 L 254.1 236.4\" id=\"14,4\" style=\"\"></path><path d=\"M 225.7 225.3 L 225.7 214.2 L 254.1 214.2\" id=\"14,5\" style=\"\"></path><path d=\"M 197.2 175.4 L 197.2 192.0 L 254.1 192.0\" id=\"16,6\" style=\"\"></path><path d=\"M 225.7 158.7 L 225.7 169.8 L 254.1 169.8\" id=\"15,7\" style=\"\"></path><path d=\"M 225.7 158.7 L 225.7 147.7 L 254.1 147.7\" id=\"15,8\" style=\"\"></path><path d=\"M 225.7 114.4 L 225.7 125.5 L 254.1 125.5\" id=\"20,9\" style=\"\"></path><path d=\"M 225.7 114.4 L 225.7 103.3 L 254.1 103.3\" id=\"20,10\" style=\"\"></path><path d=\"M 225.7 70.0 L 225.7 81.1 L 254.1 81.1\" id=\"21,11\" style=\"\"></path><path d=\"M 225.7 70.0 L 225.7 58.9 L 254.1 58.9\" id=\"21,12\" style=\"\"></path><path d=\"M 55.2 243.9 L 55.2 314.1 L 225.7 314.1\" id=\"24,13\" style=\"\"></path><path d=\"M 168.8 200.3 L 168.8 225.3 L 225.7 225.3\" id=\"17,14\" style=\"\"></path><path d=\"M 197.2 175.4 L 197.2 158.7 L 225.7 158.7\" id=\"16,15\" style=\"\"></path><path d=\"M 168.8 200.3 L 168.8 175.4 L 197.2 175.4\" id=\"17,16\" style=\"\"></path><path d=\"M 140.4 229.5 L 140.4 200.3 L 168.8 200.3\" id=\"18,17\" style=\"\"></path><path d=\"M 112.0 255.1 L 112.0 229.5 L 140.4 229.5\" id=\"19,18\" style=\"\"></path><path d=\"M 83.6 173.7 L 83.6 255.1 L 112.0 255.1\" id=\"23,19\" style=\"\"></path><path d=\"M 197.2 92.2 L 197.2 114.4 L 225.7 114.4\" id=\"22,20\" style=\"\"></path><path d=\"M 197.2 92.2 L 197.2 70.0 L 225.7 70.0\" id=\"22,21\" style=\"\"></path><path d=\"M 83.6 173.7 L 83.6 92.2 L 197.2 92.2\" id=\"23,22\" style=\"\"></path><path d=\"M 55.2 243.9 L 55.2 173.7 L 83.6 173.7\" id=\"24,23\" style=\"\"></path></g><g class=\"toytree-AdmixEdges\" style=\"fill:rgb(0.0%,0.0%,0.0%);fill-opacity:0.0;stroke:rgb(90.6%,54.1%,76.5%);stroke-opacity:0.6;font-size:14px;stroke-linecap:round;stroke-width:5\"></g><g class=\"toytree-Nodes\" style=\"fill:rgb(82.7%,82.7%,82.7%);fill-opacity:1.0;stroke:rgb(14.5%,14.5%,14.5%);stroke-opacity:1.0;stroke-width:1.5\"><g id=\"Node-0\" transform=\"translate(254.057,325.146)\"><circle r=\"8.0\"></circle></g><g id=\"Node-1\" transform=\"translate(254.057,302.959)\"><circle r=\"8.0\"></circle></g><g id=\"Node-2\" transform=\"translate(254.057,280.772)\"><circle r=\"8.0\"></circle></g><g id=\"Node-3\" transform=\"translate(254.057,258.585)\"><circle r=\"8.0\"></circle></g><g id=\"Node-4\" transform=\"translate(254.057,236.399)\"><circle r=\"8.0\"></circle></g><g id=\"Node-5\" transform=\"translate(254.057,214.212)\"><circle r=\"8.0\"></circle></g><g id=\"Node-6\" transform=\"translate(254.057,192.025)\"><circle r=\"8.0\"></circle></g><g id=\"Node-7\" transform=\"translate(254.057,169.838)\"><circle r=\"8.0\"></circle></g><g id=\"Node-8\" transform=\"translate(254.057,147.651)\"><circle r=\"8.0\"></circle></g><g id=\"Node-9\" transform=\"translate(254.057,125.465)\"><circle r=\"8.0\"></circle></g><g id=\"Node-10\" transform=\"translate(254.057,103.278)\"><circle r=\"8.0\"></circle></g><g id=\"Node-11\" transform=\"translate(254.057,81.0912)\"><circle r=\"8.0\"></circle></g><g id=\"Node-12\" transform=\"translate(254.057,58.9044)\"><circle r=\"8.0\"></circle></g><g id=\"Node-13\" transform=\"translate(225.652,314.052)\"><circle r=\"8.0\"></circle></g><g id=\"Node-14\" transform=\"translate(225.652,225.305)\"><circle r=\"8.0\"></circle></g><g id=\"Node-15\" transform=\"translate(225.652,158.745)\"><circle r=\"8.0\"></circle></g><g id=\"Node-16\" transform=\"translate(197.246,175.385)\"><circle r=\"8.0\"></circle></g><g id=\"Node-17\" transform=\"translate(168.841,200.345)\"><circle r=\"8.0\"></circle></g><g id=\"Node-18\" transform=\"translate(140.435,229.465)\"><circle r=\"8.0\"></circle></g><g id=\"Node-19\" transform=\"translate(112.03,255.119)\"><circle r=\"8.0\"></circle></g><g id=\"Node-20\" transform=\"translate(225.652,114.371)\"><circle r=\"8.0\"></circle></g><g id=\"Node-21\" transform=\"translate(225.652,69.9978)\"><circle r=\"8.0\"></circle></g><g id=\"Node-22\" transform=\"translate(197.246,92.1845)\"><circle r=\"8.0\"></circle></g><g id=\"Node-23\" transform=\"translate(83.6241,173.652)\"><circle r=\"8.0\"></circle></g><g id=\"Node-24\" transform=\"translate(55.2186,243.852)\"><circle r=\"8.0\"></circle></g></g><g class=\"toytree-NodeLabels\" style=\"font-family:Helvetica;font-size:9px;font-weight:300;vertical-align:baseline;white-space:pre;stroke:none\"><g class=\"toytree-NodeLabel\" transform=\"translate(254.057,325.146)\"><text x=\"-2.5020000000000002\" y=\"2.2995\" style=\"fill:rgb(14.5%,14.5%,14.5%);fill-opacity:1.0\">0</text></g><g class=\"toytree-NodeLabel\" transform=\"translate(254.057,302.959)\"><text x=\"-2.5020000000000002\" y=\"2.2995\" style=\"fill:rgb(14.5%,14.5%,14.5%);fill-opacity:1.0\">1</text></g><g class=\"toytree-NodeLabel\" transform=\"translate(254.057,280.772)\"><text x=\"-2.5020000000000002\" y=\"2.2995\" style=\"fill:rgb(14.5%,14.5%,14.5%);fill-opacity:1.0\">2</text></g><g class=\"toytree-NodeLabel\" transform=\"translate(254.057,258.585)\"><text x=\"-2.5020000000000002\" y=\"2.2995\" style=\"fill:rgb(14.5%,14.5%,14.5%);fill-opacity:1.0\">3</text></g><g class=\"toytree-NodeLabel\" transform=\"translate(254.057,236.399)\"><text x=\"-2.5020000000000002\" y=\"2.2995\" style=\"fill:rgb(14.5%,14.5%,14.5%);fill-opacity:1.0\">4</text></g><g class=\"toytree-NodeLabel\" transform=\"translate(254.057,214.212)\"><text x=\"-2.5020000000000002\" y=\"2.2995\" style=\"fill:rgb(14.5%,14.5%,14.5%);fill-opacity:1.0\">5</text></g><g class=\"toytree-NodeLabel\" transform=\"translate(254.057,192.025)\"><text x=\"-2.5020000000000002\" y=\"2.2995\" style=\"fill:rgb(14.5%,14.5%,14.5%);fill-opacity:1.0\">6</text></g><g class=\"toytree-NodeLabel\" transform=\"translate(254.057,169.838)\"><text x=\"-2.5020000000000002\" y=\"2.2995\" style=\"fill:rgb(14.5%,14.5%,14.5%);fill-opacity:1.0\">7</text></g><g class=\"toytree-NodeLabel\" transform=\"translate(254.057,147.651)\"><text x=\"-2.5020000000000002\" y=\"2.2995\" style=\"fill:rgb(14.5%,14.5%,14.5%);fill-opacity:1.0\">8</text></g><g class=\"toytree-NodeLabel\" transform=\"translate(254.057,125.465)\"><text x=\"-2.5020000000000002\" y=\"2.2995\" style=\"fill:rgb(14.5%,14.5%,14.5%);fill-opacity:1.0\">9</text></g><g class=\"toytree-NodeLabel\" transform=\"translate(254.057,103.278)\"><text x=\"-5.0040000000000004\" y=\"2.2995\" style=\"fill:rgb(14.5%,14.5%,14.5%);fill-opacity:1.0\">10</text></g><g class=\"toytree-NodeLabel\" transform=\"translate(254.057,81.0912)\"><text x=\"-5.0040000000000004\" y=\"2.2995\" style=\"fill:rgb(14.5%,14.5%,14.5%);fill-opacity:1.0\">11</text></g><g class=\"toytree-NodeLabel\" transform=\"translate(254.057,58.9044)\"><text x=\"-5.0040000000000004\" y=\"2.2995\" style=\"fill:rgb(14.5%,14.5%,14.5%);fill-opacity:1.0\">12</text></g><g class=\"toytree-NodeLabel\" transform=\"translate(225.652,314.052)\"><text x=\"-5.0040000000000004\" y=\"2.2995\" style=\"fill:rgb(14.5%,14.5%,14.5%);fill-opacity:1.0\">13</text></g><g class=\"toytree-NodeLabel\" transform=\"translate(225.652,225.305)\"><text x=\"-5.0040000000000004\" y=\"2.2995\" style=\"fill:rgb(14.5%,14.5%,14.5%);fill-opacity:1.0\">14</text></g><g class=\"toytree-NodeLabel\" transform=\"translate(225.652,158.745)\"><text x=\"-5.0040000000000004\" y=\"2.2995\" style=\"fill:rgb(14.5%,14.5%,14.5%);fill-opacity:1.0\">15</text></g><g class=\"toytree-NodeLabel\" transform=\"translate(197.246,175.385)\"><text x=\"-5.0040000000000004\" y=\"2.2995\" style=\"fill:rgb(14.5%,14.5%,14.5%);fill-opacity:1.0\">16</text></g><g class=\"toytree-NodeLabel\" transform=\"translate(168.841,200.345)\"><text x=\"-5.0040000000000004\" y=\"2.2995\" style=\"fill:rgb(14.5%,14.5%,14.5%);fill-opacity:1.0\">17</text></g><g class=\"toytree-NodeLabel\" transform=\"translate(140.435,229.465)\"><text x=\"-5.0040000000000004\" y=\"2.2995\" style=\"fill:rgb(14.5%,14.5%,14.5%);fill-opacity:1.0\">18</text></g><g class=\"toytree-NodeLabel\" transform=\"translate(112.03,255.119)\"><text x=\"-5.0040000000000004\" y=\"2.2995\" style=\"fill:rgb(14.5%,14.5%,14.5%);fill-opacity:1.0\">19</text></g><g class=\"toytree-NodeLabel\" transform=\"translate(225.652,114.371)\"><text x=\"-5.0040000000000004\" y=\"2.2995\" style=\"fill:rgb(14.5%,14.5%,14.5%);fill-opacity:1.0\">20</text></g><g class=\"toytree-NodeLabel\" transform=\"translate(225.652,69.9978)\"><text x=\"-5.0040000000000004\" y=\"2.2995\" style=\"fill:rgb(14.5%,14.5%,14.5%);fill-opacity:1.0\">21</text></g><g class=\"toytree-NodeLabel\" transform=\"translate(197.246,92.1845)\"><text x=\"-5.0040000000000004\" y=\"2.2995\" style=\"fill:rgb(14.5%,14.5%,14.5%);fill-opacity:1.0\">22</text></g><g class=\"toytree-NodeLabel\" transform=\"translate(83.6241,173.652)\"><text x=\"-5.0040000000000004\" y=\"2.2995\" style=\"fill:rgb(14.5%,14.5%,14.5%);fill-opacity:1.0\">23</text></g><g class=\"toytree-NodeLabel\" transform=\"translate(55.2186,243.852)\"><text x=\"-5.0040000000000004\" y=\"2.2995\" style=\"fill:rgb(14.5%,14.5%,14.5%);fill-opacity:1.0\">24</text></g></g><g class=\"toytree-TipLabels\" style=\"fill:rgb(14.5%,14.5%,14.5%);fill-opacity:1.0;font-family:Helvetica;font-size:12px;font-weight:300;vertical-align:baseline;white-space:pre;stroke:none\"><g class=\"toytree-TipLabel\" transform=\"translate(254.057,325.146)\"><text x=\"15.0\" y=\"3.066\" style=\"fill:rgb(14.5%,14.5%,14.5%);fill-opacity:1.0\">32082_przewalskii</text></g><g class=\"toytree-TipLabel\" transform=\"translate(254.057,302.959)\"><text x=\"15.0\" y=\"3.066\" style=\"fill:rgb(14.5%,14.5%,14.5%);fill-opacity:1.0\">33588_przewalskii</text></g><g class=\"toytree-TipLabel\" transform=\"translate(254.057,280.772)\"><text x=\"15.0\" y=\"3.066\" style=\"fill:rgb(14.5%,14.5%,14.5%);fill-opacity:1.0\">33413_thamno</text></g><g class=\"toytree-TipLabel\" transform=\"translate(254.057,258.585)\"><text x=\"15.0\" y=\"3.066\" style=\"fill:rgb(14.5%,14.5%,14.5%);fill-opacity:1.0\">30556_thamno</text></g><g class=\"toytree-TipLabel\" transform=\"translate(254.057,236.399)\"><text x=\"15.0\" y=\"3.066\" style=\"fill:rgb(14.5%,14.5%,14.5%);fill-opacity:1.0\">40578_rex</text></g><g class=\"toytree-TipLabel\" transform=\"translate(254.057,214.212)\"><text x=\"15.0\" y=\"3.066\" style=\"fill:rgb(14.5%,14.5%,14.5%);fill-opacity:1.0\">35855_rex</text></g><g class=\"toytree-TipLabel\" transform=\"translate(254.057,192.025)\"><text x=\"15.0\" y=\"3.066\" style=\"fill:rgb(14.5%,14.5%,14.5%);fill-opacity:1.0\">35236_rex</text></g><g class=\"toytree-TipLabel\" transform=\"translate(254.057,169.838)\"><text x=\"15.0\" y=\"3.066\" style=\"fill:rgb(14.5%,14.5%,14.5%);fill-opacity:1.0\">39618_rex</text></g><g class=\"toytree-TipLabel\" transform=\"translate(254.057,147.651)\"><text x=\"15.0\" y=\"3.066\" style=\"fill:rgb(14.5%,14.5%,14.5%);fill-opacity:1.0\">38362_rex</text></g><g class=\"toytree-TipLabel\" transform=\"translate(254.057,125.465)\"><text x=\"15.0\" y=\"3.066\" style=\"fill:rgb(14.5%,14.5%,14.5%);fill-opacity:1.0\">29154_superba</text></g><g class=\"toytree-TipLabel\" transform=\"translate(254.057,103.278)\"><text x=\"15.0\" y=\"3.066\" style=\"fill:rgb(14.5%,14.5%,14.5%);fill-opacity:1.0\">30686_cyathophylla</text></g><g class=\"toytree-TipLabel\" transform=\"translate(254.057,81.0912)\"><text x=\"15.0\" y=\"3.066\" style=\"fill:rgb(14.5%,14.5%,14.5%);fill-opacity:1.0\">41954_cyathophylloides</text></g><g class=\"toytree-TipLabel\" transform=\"translate(254.057,58.9044)\"><text x=\"15.0\" y=\"3.066\" style=\"fill:rgb(14.5%,14.5%,14.5%);fill-opacity:1.0\">41478_cyathophylloides</text></g></g></g></g></g></svg><div class=\"toyplot-behavior\"><script>(function()\n",
       "{\n",
       "var modules={};\n",
       "})();</script></div></div>"
      ]
     },
     "metadata": {},
     "output_type": "display_data"
    }
   ],
   "source": [
    "# draw tree showing the idx labels representing the cached idxorder traversal\n",
    "tree.draw('s');"
   ]
  },
  {
   "cell_type": "markdown",
   "id": "f1059477-c7d0-4c03-a793-4c35db0abf81",
   "metadata": {},
   "source": [
    "Nodes can selected from a `ToyTree` by indexing, slicing by idx label."
   ]
  },
  {
   "cell_type": "code",
   "execution_count": 4,
   "id": "b9f03a4d",
   "metadata": {},
   "outputs": [
    {
     "data": {
      "text/plain": [
       "<Node(idx=1, name='33588_przewalskii')>"
      ]
     },
     "execution_count": 4,
     "metadata": {},
     "output_type": "execute_result"
    }
   ],
   "source": [
    "# select a single node by idx\n",
    "tree[1]"
   ]
  },
  {
   "cell_type": "code",
   "execution_count": 5,
   "id": "c764068d-f4bb-4353-8ffc-8d91f993ce42",
   "metadata": {},
   "outputs": [
    {
     "data": {
      "text/plain": [
       "[<Node(idx=3, name='30556_thamno')>, <Node(idx=4, name='40578_rex')>]"
      ]
     },
     "execution_count": 5,
     "metadata": {},
     "output_type": "execute_result"
    }
   ],
   "source": [
    "# select a slice of nodes by idx\n",
    "tree[3:5]"
   ]
  },
  {
   "cell_type": "code",
   "execution_count": 6,
   "id": "56f86f08-0f20-436c-9dbb-e924eedafc49",
   "metadata": {},
   "outputs": [
    {
     "data": {
      "text/plain": [
       "[<Node(idx=3, name='30556_thamno')>,\n",
       " <Node(idx=4, name='40578_rex')>,\n",
       " <Node(idx=8, name='38362_rex')>,\n",
       " <Node(idx=9, name='29154_superba')>]"
      ]
     },
     "execution_count": 6,
     "metadata": {},
     "output_type": "execute_result"
    }
   ],
   "source": [
    "# select a list of nodes by idx\n",
    "tree[[3, 4, 8, 9]]"
   ]
  },
  {
   "cell_type": "code",
   "execution_count": 7,
   "id": "d8a74f14-9643-4579-90af-81b49ce0f8c6",
   "metadata": {},
   "outputs": [
    {
     "data": {
      "text/plain": [
       "[<Node(idx=0, name='32082_przewalskii')>,\n",
       " <Node(idx=1, name='33588_przewalskii')>,\n",
       " <Node(idx=2, name='33413_thamno')>,\n",
       " <Node(idx=3, name='30556_thamno')>,\n",
       " <Node(idx=4, name='40578_rex')>,\n",
       " <Node(idx=5, name='35855_rex')>,\n",
       " <Node(idx=6, name='35236_rex')>,\n",
       " <Node(idx=7, name='39618_rex')>,\n",
       " <Node(idx=8, name='38362_rex')>,\n",
       " <Node(idx=9, name='29154_superba')>,\n",
       " <Node(idx=10, name='30686_cyathophylla')>,\n",
       " <Node(idx=11, name='41954_cyathophylloides')>,\n",
       " <Node(idx=12, name='41478_cyathophylloides')>]"
      ]
     },
     "execution_count": 7,
     "metadata": {},
     "output_type": "execute_result"
    }
   ],
   "source": [
    "# select all tip (leaf) nodes by slicing\n",
    "tree[:tree.ntips]"
   ]
  },
  {
   "cell_type": "code",
   "execution_count": 8,
   "id": "9826fe44-6d86-413b-b83e-59106ff3f10e",
   "metadata": {},
   "outputs": [
    {
     "data": {
      "text/plain": [
       "[<Node(idx=13)>,\n",
       " <Node(idx=14)>,\n",
       " <Node(idx=15)>,\n",
       " <Node(idx=16)>,\n",
       " <Node(idx=17)>,\n",
       " <Node(idx=18)>,\n",
       " <Node(idx=19)>,\n",
       " <Node(idx=20)>,\n",
       " <Node(idx=21)>,\n",
       " <Node(idx=22)>,\n",
       " <Node(idx=23)>,\n",
       " <Node(idx=24, name='root')>]"
      ]
     },
     "execution_count": 8,
     "metadata": {},
     "output_type": "execute_result"
    }
   ],
   "source": [
    "# select all internal nodes by slicing\n",
    "tree[tree.ntips:tree.nnodes]"
   ]
  },
  {
   "cell_type": "code",
   "execution_count": 9,
   "id": "6fe8f5ad-e8b7-4e08-ab4a-8fec584d8db1",
   "metadata": {},
   "outputs": [
    {
     "data": {
      "text/plain": [
       "<Node(idx=24, name='root')>"
      ]
     },
     "execution_count": 9,
     "metadata": {},
     "output_type": "execute_result"
    }
   ],
   "source": [
    "# select the root node\n",
    "tree[-1]"
   ]
  },
  {
   "cell_type": "markdown",
   "id": "9ba8c031-1525-4c34-a55f-da96dea08b4e",
   "metadata": {},
   "source": [
    "## Select Nodes by name\n",
    "To select nodes by name you can use the `get_nodes` function. This is most useful for selecting tip nodes, since these are often the only nodes that have unique names, whereas internal nodes usually have empty name attributes. Internal nodes can be queried by using their idx labels, or, as demonstrated below, they can be selected based on tip names by using the function `get_mrca_node`."
   ]
  },
  {
   "cell_type": "code",
   "execution_count": 10,
   "id": "08cc492b-76b1-4b19-b189-2198d2852999",
   "metadata": {},
   "outputs": [
    {
     "data": {
      "text/plain": [
       "[<Node(idx=4, name='40578_rex')>]"
      ]
     },
     "execution_count": 10,
     "metadata": {},
     "output_type": "execute_result"
    }
   ],
   "source": [
    "# select one node by name\n",
    "tree.get_nodes(\"40578_rex\")"
   ]
  },
  {
   "cell_type": "code",
   "execution_count": 11,
   "id": "f765994a-82b5-4ae1-80e6-8deb727a81fb",
   "metadata": {},
   "outputs": [
    {
     "data": {
      "text/plain": [
       "[<Node(idx=4, name='40578_rex')>, <Node(idx=8, name='38362_rex')>]"
      ]
     },
     "execution_count": 11,
     "metadata": {},
     "output_type": "execute_result"
    }
   ],
   "source": [
    "# select multiple nodes by name\n",
    "tree.get_nodes(\"40578_rex\", \"38362_rex\")"
   ]
  },
  {
   "cell_type": "markdown",
   "id": "45636d6f",
   "metadata": {},
   "source": [
    "## Using regular expressions ~\n",
    "Regular expressions are a sequence of characters that match a pattern, and are often used in search algorithms. In `toytree` there are many functions which optionally accept regular expressions as an input to allow for easily selecting multiple nodes. This can be used because the operation is intended to operate on each of these nodes individually (e.g., `toytree.mod.drop_tips`) or because the operation will find the most recent common ancestor of the input nodes and operate on that edge or subtree (e.g., `toytree.mod.root`, or `toytree.mod.extract_subtree`; see below).\n",
    "\n",
    "All of these functions that accept name strings as input use the `get_nodes` function under the hood to find the matched nodes, and so our demonstrations below will use this function. In addition to accepting one or more individual name strings this function can also accept regular expressions as input. \n",
    "\n",
    "**To indicate that an entry should be treated as a regular expression use the `~` prefix.** It will then use the Python standard library regular expression function `re.search()` to find any nodes that match this query."
   ]
  },
  {
   "cell_type": "code",
   "execution_count": 12,
   "id": "7abe15ad-bf2d-418c-9719-3fb8eeaf56c2",
   "metadata": {},
   "outputs": [
    {
     "data": {
      "text/plain": [
       "[<Node(idx=1, name='33588_przewalskii')>,\n",
       " <Node(idx=0, name='32082_przewalskii')>]"
      ]
     },
     "execution_count": 12,
     "metadata": {},
     "output_type": "execute_result"
    }
   ],
   "source": [
    "# match any node name containing 'prz'\n",
    "tree.get_nodes(\"~prz\")"
   ]
  },
  {
   "cell_type": "code",
   "execution_count": 13,
   "id": "b0dc4d00-639a-4e16-93e2-da8587ce57ac",
   "metadata": {},
   "outputs": [
    {
     "data": {
      "text/plain": [
       "[<Node(idx=5, name='35855_rex')>]"
      ]
     },
     "execution_count": 13,
     "metadata": {},
     "output_type": "execute_result"
    }
   ],
   "source": [
    "# match any node name containing 855\n",
    "tree.get_nodes(\"~855\")"
   ]
  },
  {
   "cell_type": "code",
   "execution_count": 14,
   "id": "bb4b7a4a-f988-4795-927c-eac406b47a04",
   "metadata": {},
   "outputs": [
    {
     "data": {
      "text/plain": [
       "[<Node(idx=11, name='41954_cyathophylloides')>,\n",
       " <Node(idx=4, name='40578_rex')>,\n",
       " <Node(idx=12, name='41478_cyathophylloides')>]"
      ]
     },
     "execution_count": 14,
     "metadata": {},
     "output_type": "execute_result"
    }
   ],
   "source": [
    "# match any node name starting with a 4\n",
    "tree.get_nodes(\"~^4\")"
   ]
  },
  {
   "cell_type": "code",
   "execution_count": 15,
   "id": "8979ff1b-1264-4715-aac2-e5beb9f2c504",
   "metadata": {},
   "outputs": [
    {
     "data": {
      "text/plain": [
       "[<Node(idx=9, name='29154_superba')>,\n",
       " <Node(idx=10, name='30686_cyathophylla')>]"
      ]
     },
     "execution_count": 15,
     "metadata": {},
     "output_type": "execute_result"
    }
   ],
   "source": [
    "# match any node name ending with an 'a'\n",
    "tree.get_nodes(\"~a$\")"
   ]
  },
  {
   "cell_type": "code",
   "execution_count": 16,
   "id": "056b1e4d-3a1c-4436-a094-ca2ea4367b49",
   "metadata": {},
   "outputs": [
    {
     "data": {
      "text/plain": [
       "[<Node(idx=7, name='39618_rex')>, <Node(idx=8, name='38362_rex')>]"
      ]
     },
     "execution_count": 16,
     "metadata": {},
     "output_type": "execute_result"
    }
   ],
   "source": [
    "# match name containing a 3 followed by 8 or 9 then any chars followed by 'rex'\n",
    "tree.get_nodes(\"~3[8,9].+rex\")"
   ]
  },
  {
   "cell_type": "markdown",
   "id": "618ac7a1-316b-4c4d-8482-f481c63251ed",
   "metadata": {},
   "source": [
    "## Node queries\n",
    "We define a **query** as a flexible type of input used to match one or more nodes. For functions which accept a *query* as input, an `int` will be treated as a Node idx label, whereas a `str` will be treated as a Node `name`, and a `str` starting with a `~` will be treated as a regular expression. These functions can also accept a `Node` object as an input. You can even mix these arguments to select multiple nodes."
   ]
  },
  {
   "attachments": {},
   "cell_type": "markdown",
   "id": "3574abb8-033c-4ef6-9055-759842a660ea",
   "metadata": {},
   "source": [
    "### `get_nodes()`\n",
    "The function `get_nodes` is used widely both by users as well as internally by other functions. It takes `*query` as input meaning that it accepts any number of queries as input."
   ]
  },
  {
   "cell_type": "code",
   "execution_count": 17,
   "id": "335b90b0",
   "metadata": {},
   "outputs": [
    {
     "data": {
      "text/plain": [
       "[<Node(idx=4, name='40578_rex')>,\n",
       " <Node(idx=1, name='33588_przewalskii')>,\n",
       " <Node(idx=8, name='38362_rex')>,\n",
       " <Node(idx=0, name='32082_przewalskii')>]"
      ]
     },
     "execution_count": 17,
     "metadata": {},
     "output_type": "execute_result"
    }
   ],
   "source": [
    "# select nodes by int idx labels, or by str names, or multiple by ~regex, or Node\n",
    "tree.get_nodes(0, 1, '40578_rex', tree[8])"
   ]
  },
  {
   "cell_type": "markdown",
   "id": "827386df-8a94-4d92-a33e-69dcf22dad05",
   "metadata": {},
   "source": [
    "### `get_mrca_node()`\n",
    "Many tree operations require selecting an internal node to operate on. For example, rooting a tree on a clade. This is easiest done by selecting two tip nodes by name for which the internal node target is the **most recent common ancestor (mrca)**, and providing these as entries to the `get_mrca_node` function. This function accepts query arguments the same way as `get_nodes`, accepting int, str, or `~`regex entries.\n",
    "\n",
    "Consider the example below where wish to find the internal node that is the mrca of the five tip nodes in the example tree forming the \"rex\" clade. We can select this node in several ways:"
   ]
  },
  {
   "cell_type": "code",
   "execution_count": 18,
   "id": "6ff82760-b268-419f-8364-3a0d3e8d15f9",
   "metadata": {},
   "outputs": [
    {
     "data": {
      "text/plain": [
       "<Node(idx=17)>"
      ]
     },
     "execution_count": 18,
     "metadata": {},
     "output_type": "execute_result"
    }
   ],
   "source": [
    "# if you already know its idx (e.g., by tree visualization) you can index it\n",
    "tree[17]"
   ]
  },
  {
   "cell_type": "code",
   "execution_count": 19,
   "id": "d27317c1-b8bf-4ac5-bc33-81dfd0a736ba",
   "metadata": {},
   "outputs": [
    {
     "data": {
      "text/plain": [
       "<Node(idx=17)>"
      ]
     },
     "execution_count": 19,
     "metadata": {},
     "output_type": "execute_result"
    }
   ],
   "source": [
    "# or, you can find the mrca by knowing the tip node idxs\n",
    "tree.get_mrca_node(4, 5, 6, 7, 8)"
   ]
  },
  {
   "cell_type": "code",
   "execution_count": 20,
   "id": "bb2e7885-8f3b-487e-ac1b-94b15dab9fde",
   "metadata": {},
   "outputs": [
    {
     "data": {
      "text/plain": [
       "<Node(idx=17)>"
      ]
     },
     "execution_count": 20,
     "metadata": {},
     "output_type": "execute_result"
    }
   ],
   "source": [
    "# you actually only need to provide the minimal spanning nodes\n",
    "tree.get_mrca_node(4, 8)"
   ]
  },
  {
   "cell_type": "code",
   "execution_count": 21,
   "id": "09ca7f78-0ace-4c28-94ac-8d460d50d3bc",
   "metadata": {},
   "outputs": [
    {
     "data": {
      "text/plain": [
       "<Node(idx=17)>"
      ]
     },
     "execution_count": 21,
     "metadata": {},
     "output_type": "execute_result"
    }
   ],
   "source": [
    "# safer, however, is to enter node names, since these never change\n",
    "tree.get_mrca_node(\"35855_rex\", \"40578_rex\", \"39618_rex\", \"35236_rex\", \"38362_rex\")"
   ]
  },
  {
   "cell_type": "code",
   "execution_count": 22,
   "id": "b2498ac6-ccca-4771-9b8e-66dcedc2e503",
   "metadata": {},
   "outputs": [
    {
     "data": {
      "text/plain": [
       "<Node(idx=17)>"
      ]
     },
     "execution_count": 22,
     "metadata": {},
     "output_type": "execute_result"
    }
   ],
   "source": [
    "# again, you only need to enter the minimal required\n",
    "tree.get_mrca_node(\"35855_rex\", \"38362_rex\")"
   ]
  },
  {
   "cell_type": "code",
   "execution_count": 23,
   "id": "036be737-56a0-456e-b4d0-675e12209b0c",
   "metadata": {},
   "outputs": [
    {
     "data": {
      "text/plain": [
       "<Node(idx=17)>"
      ]
     },
     "execution_count": 23,
     "metadata": {},
     "output_type": "execute_result"
    }
   ],
   "source": [
    "# simpler, use a regular expression to match all names with 'rex'\n",
    "tree.get_mrca_node(\"~rex\")"
   ]
  },
  {
   "attachments": {},
   "cell_type": "markdown",
   "id": "b3374407-e5c3-4412-95a4-e2f8b792fa1d",
   "metadata": {},
   "source": [
    "## Efficiency/speed\n",
    "Because matching nodes by name requires traversing over all nodes in the tree to find matches it is much slower than selecting nodes by indexing with idx labels. All of the methods are still pretty fast, the time difference only matters when writing very time-intensive code. This is demonstrated simply below."
   ]
  },
  {
   "cell_type": "code",
   "execution_count": 24,
   "id": "4b8b3bf3-ccdb-4da3-9565-70b150113a60",
   "metadata": {},
   "outputs": [
    {
     "name": "stdout",
     "output_type": "stream",
     "text": [
      "152 ns ± 1.8 ns per loop (mean ± std. dev. of 7 runs, 10,000,000 loops each)\n"
     ]
    }
   ],
   "source": [
    "%%timeit\n",
    "# time to select a tip node by its idx (superfast)\n",
    "tree[7]"
   ]
  },
  {
   "cell_type": "code",
   "execution_count": 25,
   "id": "1ef7ea21-ed0f-4b33-a7f4-804af40d3c3f",
   "metadata": {},
   "outputs": [
    {
     "name": "stdout",
     "output_type": "stream",
     "text": [
      "10.8 µs ± 36.6 ns per loop (mean ± std. dev. of 7 runs, 100,000 loops each)\n"
     ]
    }
   ],
   "source": [
    "%%timeit\n",
    "# time to select a tip node by its name\n",
    "tree.get_nodes(\"39618_rex\")"
   ]
  },
  {
   "cell_type": "code",
   "execution_count": 26,
   "id": "688b94a5-01b8-4b54-8e49-d932195e8d77",
   "metadata": {},
   "outputs": [
    {
     "name": "stdout",
     "output_type": "stream",
     "text": [
      "156 ns ± 0.887 ns per loop (mean ± std. dev. of 7 runs, 10,000,000 loops each)\n"
     ]
    }
   ],
   "source": [
    "%%timeit\n",
    "# time to select an internal node (17) by its known index\n",
    "tree[17]"
   ]
  },
  {
   "cell_type": "code",
   "execution_count": 27,
   "id": "e95cd7b6-f134-411b-88d0-fee198fbf72a",
   "metadata": {},
   "outputs": [
    {
     "name": "stdout",
     "output_type": "stream",
     "text": [
      "27.6 µs ± 338 ns per loop (mean ± std. dev. of 7 runs, 10,000 loops each)\n"
     ]
    }
   ],
   "source": [
    "%%timeit\n",
    "# time to find mrca (17) by mrca of idx labels\n",
    "tree.get_mrca_node(4, 8)"
   ]
  },
  {
   "cell_type": "code",
   "execution_count": 28,
   "id": "d723192b-f6c6-4a59-aae9-08483757345b",
   "metadata": {},
   "outputs": [
    {
     "name": "stdout",
     "output_type": "stream",
     "text": [
      "63.4 µs ± 267 ns per loop (mean ± std. dev. of 7 runs, 10,000 loops each)\n"
     ]
    }
   ],
   "source": [
    "%%timeit\n",
    "# time to find mrca (17) by mrca of name labels\n",
    "tree.get_mrca_node(\"~rex\")"
   ]
  },
  {
   "cell_type": "markdown",
   "id": "d3a33c26-6309-4fa3-ae11-a94fa51e0c5c",
   "metadata": {},
   "source": [
    "## Best practices\n",
    "\n",
    "There are many situations in which you know the tree structure will not change, and thus indexing by node idx is faster and much preferred to slower name selection. Especially when you are selecting the tip or root nodes, which have obvious numeric labels. However, in other cases it is preferable to use names when selecting nodes, such as when adding traits or labels to internal nodes for tree drawings, since it makes your code more readable and explicit."
   ]
  },
  {
   "cell_type": "markdown",
   "id": "1b7ff547",
   "metadata": {},
   "source": [
    "## Node Queries are everywhere\n",
    "You will find that many functions in `toytree` accept *query* type inputs that are used to match nodes following the node query methods described above. These are especially common in the `toytree.mod` subpackage."
   ]
  },
  {
   "cell_type": "code",
   "execution_count": 29,
   "id": "a232e080-63dc-4e4e-946b-0b3a1a4167ec",
   "metadata": {},
   "outputs": [
    {
     "data": {
      "text/html": [
       "<div class=\"toyplot\" id=\"tc5abe555e91e44a2b2e11d385b3a0c44\" style=\"text-align:center\"><svg class=\"toyplot-canvas-Canvas\" xmlns:toyplot=\"http://www.sandia.gov/toyplot\" xmlns:xlink=\"http://www.w3.org/1999/xlink\" xmlns=\"http://www.w3.org/2000/svg\" width=\"453.472px\" height=\"315.28px\" viewBox=\"0 0 453.472 315.28\" preserveAspectRatio=\"xMidYMid meet\" style=\"background-color:transparent;border-color:#292724;border-style:none;border-width:1.0;fill:rgb(16.1%,15.3%,14.1%);fill-opacity:1.0;font-family:Helvetica;font-size:12px;opacity:1.0;stroke:rgb(16.1%,15.3%,14.1%);stroke-opacity:1.0;stroke-width:1.0\" id=\"tb03e0bf93b124f5e8051a6afb21fc368\"><g class=\"toyplot-coordinates-Cartesian\" id=\"tc72677c05a9949ec8b7a800bbc30ded2\"><clipPath id=\"t7f27d98c5a1143c5b62036be50f11bb0\"><rect x=\"35.0\" y=\"35.0\" width=\"383.472\" height=\"245.27999999999997\"></rect></clipPath><g clip-path=\"url(#t7f27d98c5a1143c5b62036be50f11bb0)\"><g class=\"toytree-mark-Toytree\" id=\"tdec56782a92c409989bec6d09c149aac\"><g class=\"toytree-Edges\" style=\"stroke:rgb(14.5%,14.5%,14.5%);stroke-opacity:1.0;stroke-linecap:round;stroke-width:2.0;fill:none\"><path d=\"M 160.9 250.1 L 160.9 258.5 L 176.9 258.5\" id=\"13,0\" style=\"\"></path><path d=\"M 160.9 250.1 L 160.9 241.7 L 176.1 241.7\" id=\"13,1\" style=\"\"></path><path d=\"M 194.0 205.5 L 194.0 224.9 L 228.8 224.9\" id=\"19,2\" style=\"\"></path><path d=\"M 200.4 186.0 L 200.4 208.1 L 240.6 208.1\" id=\"18,3\" style=\"\"></path><path d=\"M 218.9 182.9 L 218.9 191.3 L 239.6 191.3\" id=\"14,4\" style=\"\"></path><path d=\"M 218.9 182.9 L 218.9 174.5 L 239.9 174.5\" id=\"14,5\" style=\"\"></path><path d=\"M 209.8 145.0 L 209.8 157.6 L 245.5 157.6\" id=\"16,6\" style=\"\"></path><path d=\"M 247.8 132.4 L 247.8 140.8 L 253.7 140.8\" id=\"15,7\" style=\"\"></path><path d=\"M 247.8 132.4 L 247.8 124.0 L 254.5 124.0\" id=\"15,8\" style=\"\"></path><path d=\"M 193.9 98.8 L 193.9 107.2 L 232.9 107.2\" id=\"20,9\" style=\"\"></path><path d=\"M 193.9 98.8 L 193.9 90.4 L 235.1 90.4\" id=\"20,10\" style=\"\"></path><path d=\"M 237.1 65.2 L 237.1 73.6 L 237.6 73.6\" id=\"21,11\" style=\"\"></path><path d=\"M 237.1 65.2 L 237.1 56.7 L 237.4 56.7\" id=\"21,12\" style=\"\"></path><path d=\"M 50.6 196.9 L 50.6 250.1 L 160.9 250.1\" id=\"24,13\" style=\"\"></path><path d=\"M 205.2 163.9 L 205.2 182.9 L 218.9 182.9\" id=\"17,14\" style=\"\"></path><path d=\"M 209.8 145.0 L 209.8 132.4 L 247.8 132.4\" id=\"16,15\" style=\"\"></path><path d=\"M 205.2 163.9 L 205.2 145.0 L 209.8 145.0\" id=\"17,16\" style=\"\"></path><path d=\"M 200.4 186.0 L 200.4 163.9 L 205.2 163.9\" id=\"18,17\" style=\"\"></path><path d=\"M 194.0 205.5 L 194.0 186.0 L 200.4 186.0\" id=\"19,18\" style=\"\"></path><path d=\"M 160.9 143.7 L 160.9 205.5 L 194.0 205.5\" id=\"23,19\" style=\"\"></path><path d=\"M 179.2 82.0 L 179.2 98.8 L 193.9 98.8\" id=\"22,20\" style=\"\"></path><path d=\"M 179.2 82.0 L 179.2 65.2 L 237.1 65.2\" id=\"22,21\" style=\"\"></path><path d=\"M 160.9 143.7 L 160.9 82.0 L 179.2 82.0\" id=\"23,22\" style=\"\"></path><path d=\"M 50.6 196.9 L 50.6 143.7 L 160.9 143.7\" id=\"24,23\" style=\"\"></path></g><g class=\"toytree-AdmixEdges\" style=\"fill:rgb(0.0%,0.0%,0.0%);fill-opacity:0.0;stroke:rgb(90.6%,54.1%,76.5%);stroke-opacity:0.6;font-size:14px;stroke-linecap:round;stroke-width:5\"></g><g class=\"toytree-Nodes\" style=\"fill:rgb(40.0%,76.1%,64.7%);fill-opacity:1.0;stroke:rgb(14.9%,14.9%,14.9%);stroke-opacity:1.0;stroke-width:1.5\"></g><g class=\"toytree-TipLabels\" style=\"fill:rgb(14.5%,14.5%,14.5%);fill-opacity:1.0;font-family:Helvetica;font-size:12px;font-weight:300;vertical-align:baseline;white-space:pre;stroke:none\"><g class=\"toytree-TipLabel\" transform=\"translate(176.861,258.531)\"><text x=\"15.0\" y=\"3.066\" style=\"fill:rgb(14.5%,14.5%,14.5%);fill-opacity:1.0\">32082_przewalskii</text></g><g class=\"toytree-TipLabel\" transform=\"translate(176.111,241.716)\"><text x=\"15.0\" y=\"3.066\" style=\"fill:rgb(14.5%,14.5%,14.5%);fill-opacity:1.0\">33588_przewalskii</text></g><g class=\"toytree-TipLabel\" transform=\"translate(228.823,224.901)\"><text x=\"15.0\" y=\"3.066\" style=\"fill:rgb(14.5%,14.5%,14.5%);fill-opacity:1.0\">33413_thamno</text></g><g class=\"toytree-TipLabel\" transform=\"translate(240.587,208.086)\"><text x=\"15.0\" y=\"3.066\" style=\"fill:rgb(14.5%,14.5%,14.5%);fill-opacity:1.0\">30556_thamno</text></g><g class=\"toytree-TipLabel\" transform=\"translate(239.573,191.27)\"><text x=\"15.0\" y=\"3.066\" style=\"fill:rgb(14.5%,14.5%,14.5%);fill-opacity:1.0\">40578_rex</text></g><g class=\"toytree-TipLabel\" transform=\"translate(239.853,174.455)\"><text x=\"15.0\" y=\"3.066\" style=\"fill:rgb(14.5%,14.5%,14.5%);fill-opacity:1.0\">35855_rex</text></g><g class=\"toytree-TipLabel\" transform=\"translate(245.479,157.64)\"><text x=\"15.0\" y=\"3.066\" style=\"fill:rgb(14.5%,14.5%,14.5%);fill-opacity:1.0\">35236_rex</text></g><g class=\"toytree-TipLabel\" transform=\"translate(253.673,140.825)\"><text x=\"15.0\" y=\"3.066\" style=\"fill:rgb(14.5%,14.5%,14.5%);fill-opacity:1.0\">39618_rex</text></g><g class=\"toytree-TipLabel\" transform=\"translate(254.473,124.01)\"><text x=\"15.0\" y=\"3.066\" style=\"fill:rgb(14.5%,14.5%,14.5%);fill-opacity:1.0\">38362_rex</text></g><g class=\"toytree-TipLabel\" transform=\"translate(232.869,107.194)\"><text x=\"15.0\" y=\"3.066\" style=\"fill:rgb(14.5%,14.5%,14.5%);fill-opacity:1.0\">29154_superba</text></g><g class=\"toytree-TipLabel\" transform=\"translate(235.066,90.3791)\"><text x=\"15.0\" y=\"3.066\" style=\"fill:rgb(14.5%,14.5%,14.5%);fill-opacity:1.0\">30686_cyathophylla</text></g><g class=\"toytree-TipLabel\" transform=\"translate(237.647,73.5638)\"><text x=\"15.0\" y=\"3.066\" style=\"fill:rgb(14.5%,14.5%,14.5%);fill-opacity:1.0\">41954_cyathophylloides</text></g><g class=\"toytree-TipLabel\" transform=\"translate(237.425,56.7486)\"><text x=\"15.0\" y=\"3.066\" style=\"fill:rgb(14.5%,14.5%,14.5%);fill-opacity:1.0\">41478_cyathophylloides</text></g></g></g></g></g></svg><div class=\"toyplot-behavior\"><script>(function()\n",
       "{\n",
       "var modules={};\n",
       "})();</script></div></div>"
      ]
     },
     "metadata": {},
     "output_type": "display_data"
    }
   ],
   "source": [
    "tree.mod.root(\"~prz\").draw();"
   ]
  },
  {
   "cell_type": "code",
   "execution_count": 30,
   "id": "004e1446",
   "metadata": {},
   "outputs": [
    {
     "data": {
      "text/html": [
       "<div class=\"toyplot\" id=\"tdece220dad4949bd94e304ac13f9c6ed\" style=\"text-align:center\"><svg class=\"toyplot-canvas-Canvas\" xmlns:toyplot=\"http://www.sandia.gov/toyplot\" xmlns:xlink=\"http://www.w3.org/1999/xlink\" xmlns=\"http://www.w3.org/2000/svg\" width=\"428.472px\" height=\"275.0px\" viewBox=\"0 0 428.472 275.0\" preserveAspectRatio=\"xMidYMid meet\" style=\"background-color:transparent;border-color:#292724;border-style:none;border-width:1.0;fill:rgb(16.1%,15.3%,14.1%);fill-opacity:1.0;font-family:Helvetica;font-size:12px;opacity:1.0;stroke:rgb(16.1%,15.3%,14.1%);stroke-opacity:1.0;stroke-width:1.0\" id=\"tb44c9fad031d443da0d8db9fa7b149b2\"><g class=\"toyplot-coordinates-Cartesian\" id=\"t474d3f7ec5874567a41f9c8fd7630cd1\"><clipPath id=\"t5ed24235e0a044fa94cc84b557962a4a\"><rect x=\"35.0\" y=\"35.0\" width=\"358.472\" height=\"205.0\"></rect></clipPath><g clip-path=\"url(#t5ed24235e0a044fa94cc84b557962a4a)\"><g class=\"toytree-mark-Toytree\" id=\"t1f197be919ed48908fa103e12212032a\"><g class=\"toytree-Edges\" style=\"stroke:rgb(14.5%,14.5%,14.5%);stroke-opacity:1.0;stroke-linecap:round;stroke-width:2.0;fill:none\"><path d=\"M 152.9 206.8 L 152.9 218.3 L 167.7 218.3\" id=\"8,0\" style=\"\"></path><path d=\"M 152.9 206.8 L 152.9 195.2 L 167.0 195.2\" id=\"8,1\" style=\"\"></path><path d=\"M 183.7 160.6 L 183.7 172.1 L 216.0 172.1\" id=\"9,2\" style=\"\"></path><path d=\"M 183.7 160.6 L 183.7 149.0 L 226.9 149.0\" id=\"9,3\" style=\"\"></path><path d=\"M 183.5 114.4 L 183.5 126.0 L 219.7 126.0\" id=\"10,4\" style=\"\"></path><path d=\"M 183.5 114.4 L 183.5 102.9 L 221.7 102.9\" id=\"10,5\" style=\"\"></path><path d=\"M 223.6 68.2 L 223.6 79.8 L 224.1 79.8\" id=\"11,6\" style=\"\"></path><path d=\"M 223.6 68.2 L 223.6 56.7 L 223.9 56.7\" id=\"11,7\" style=\"\"></path><path d=\"M 50.5 166.4 L 50.5 206.8 L 152.9 206.8\" id=\"14,8\" style=\"\"></path><path d=\"M 152.9 126.0 L 152.9 160.6 L 183.7 160.6\" id=\"13,9\" style=\"\"></path><path d=\"M 169.9 91.3 L 169.9 114.4 L 183.5 114.4\" id=\"12,10\" style=\"\"></path><path d=\"M 169.9 91.3 L 169.9 68.2 L 223.6 68.2\" id=\"12,11\" style=\"\"></path><path d=\"M 152.9 126.0 L 152.9 91.3 L 169.9 91.3\" id=\"13,12\" style=\"\"></path><path d=\"M 50.5 166.4 L 50.5 126.0 L 152.9 126.0\" id=\"14,13\" style=\"\"></path></g><g class=\"toytree-AdmixEdges\" style=\"fill:rgb(0.0%,0.0%,0.0%);fill-opacity:0.0;stroke:rgb(90.6%,54.1%,76.5%);stroke-opacity:0.6;font-size:14px;stroke-linecap:round;stroke-width:5\"></g><g class=\"toytree-Nodes\" style=\"fill:rgb(40.0%,76.1%,64.7%);fill-opacity:1.0;stroke:rgb(14.9%,14.9%,14.9%);stroke-opacity:1.0;stroke-width:1.5\"></g><g class=\"toytree-TipLabels\" style=\"fill:rgb(14.5%,14.5%,14.5%);fill-opacity:1.0;font-family:Helvetica;font-size:12px;font-weight:300;vertical-align:baseline;white-space:pre;stroke:none\"><g class=\"toytree-TipLabel\" transform=\"translate(167.734,218.347)\"><text x=\"15.0\" y=\"3.066\" style=\"fill:rgb(14.5%,14.5%,14.5%);fill-opacity:1.0\">32082_przewalskii</text></g><g class=\"toytree-TipLabel\" transform=\"translate(167.038,195.248)\"><text x=\"15.0\" y=\"3.066\" style=\"fill:rgb(14.5%,14.5%,14.5%);fill-opacity:1.0\">33588_przewalskii</text></g><g class=\"toytree-TipLabel\" transform=\"translate(215.957,172.149)\"><text x=\"15.0\" y=\"3.066\" style=\"fill:rgb(14.5%,14.5%,14.5%);fill-opacity:1.0\">33413_thamno</text></g><g class=\"toytree-TipLabel\" transform=\"translate(226.874,149.05)\"><text x=\"15.0\" y=\"3.066\" style=\"fill:rgb(14.5%,14.5%,14.5%);fill-opacity:1.0\">30556_thamno</text></g><g class=\"toytree-TipLabel\" transform=\"translate(219.712,125.95)\"><text x=\"15.0\" y=\"3.066\" style=\"fill:rgb(14.5%,14.5%,14.5%);fill-opacity:1.0\">29154_superba</text></g><g class=\"toytree-TipLabel\" transform=\"translate(221.75,102.851)\"><text x=\"15.0\" y=\"3.066\" style=\"fill:rgb(14.5%,14.5%,14.5%);fill-opacity:1.0\">30686_cyathophylla</text></g><g class=\"toytree-TipLabel\" transform=\"translate(224.146,79.7518)\"><text x=\"15.0\" y=\"3.066\" style=\"fill:rgb(14.5%,14.5%,14.5%);fill-opacity:1.0\">41954_cyathophylloides</text></g><g class=\"toytree-TipLabel\" transform=\"translate(223.94,56.6526)\"><text x=\"15.0\" y=\"3.066\" style=\"fill:rgb(14.5%,14.5%,14.5%);fill-opacity:1.0\">41478_cyathophylloides</text></g></g></g></g></g></svg><div class=\"toyplot-behavior\"><script>(function()\n",
       "{\n",
       "var modules={};\n",
       "})();</script></div></div>"
      ]
     },
     "metadata": {},
     "output_type": "display_data"
    }
   ],
   "source": [
    "# drop all 'rex' samples\n",
    "tree.mod.drop_tips(\"~rex*\").draw();"
   ]
  },
  {
   "cell_type": "code",
   "execution_count": 31,
   "id": "20ccd51f-8ca8-4876-bed0-1b88efbd8d90",
   "metadata": {},
   "outputs": [
    {
     "data": {
      "text/html": [
       "<div class=\"toyplot\" id=\"t8fc2edccf24247d99c6e1a1a7f3751ba\" style=\"text-align:center\"><svg class=\"toyplot-canvas-Canvas\" xmlns:toyplot=\"http://www.sandia.gov/toyplot\" xmlns:xlink=\"http://www.w3.org/1999/xlink\" xmlns=\"http://www.w3.org/2000/svg\" width=\"300.0px\" height=\"275.0px\" viewBox=\"0 0 300.0 275.0\" preserveAspectRatio=\"xMidYMid meet\" style=\"background-color:transparent;border-color:#292724;border-style:none;border-width:1.0;fill:rgb(16.1%,15.3%,14.1%);fill-opacity:1.0;font-family:Helvetica;font-size:12px;opacity:1.0;stroke:rgb(16.1%,15.3%,14.1%);stroke-opacity:1.0;stroke-width:1.0\" id=\"ta50925bb8e78484e840dea27afd09b49\"><g class=\"toyplot-coordinates-Cartesian\" id=\"t986893e6f5ba4b399014169ec0960ab8\"><clipPath id=\"td2a13ba12338460980f5a4ddd586d383\"><rect x=\"35.0\" y=\"35.0\" width=\"230.0\" height=\"205.0\"></rect></clipPath><g clip-path=\"url(#td2a13ba12338460980f5a4ddd586d383)\"><g class=\"toytree-mark-Toytree\" id=\"t7fbae546a7854d789d83ab91ea1a74f5\"><g class=\"toytree-Edges\" style=\"stroke:rgb(14.5%,14.5%,14.5%);stroke-opacity:1.0;stroke-linecap:round;stroke-width:2.0;fill:none\"><path d=\"M 82.9 198.1 L 82.9 218.3 L 131.6 218.3\" id=\"5,0\" style=\"\"></path><path d=\"M 82.9 198.1 L 82.9 177.9 L 132.2 177.9\" id=\"5,1\" style=\"\"></path><path d=\"M 61.3 107.2 L 61.3 137.5 L 145.5 137.5\" id=\"7,2\" style=\"\"></path><path d=\"M 150.9 76.9 L 150.9 97.1 L 164.8 97.1\" id=\"6,3\" style=\"\"></path><path d=\"M 150.9 76.9 L 150.9 56.7 L 166.7 56.7\" id=\"6,4\" style=\"\"></path><path d=\"M 50.6 152.7 L 50.6 198.1 L 82.9 198.1\" id=\"8,5\" style=\"\"></path><path d=\"M 61.3 107.2 L 61.3 76.9 L 150.9 76.9\" id=\"7,6\" style=\"\"></path><path d=\"M 50.6 152.7 L 50.6 107.2 L 61.3 107.2\" id=\"8,7\" style=\"\"></path></g><g class=\"toytree-AdmixEdges\" style=\"fill:rgb(0.0%,0.0%,0.0%);fill-opacity:0.0;stroke:rgb(90.6%,54.1%,76.5%);stroke-opacity:0.6;font-size:14px;stroke-linecap:round;stroke-width:5\"></g><g class=\"toytree-Nodes\" style=\"fill:rgb(40.0%,76.1%,64.7%);fill-opacity:1.0;stroke:rgb(14.9%,14.9%,14.9%);stroke-opacity:1.0;stroke-width:1.5\"></g><g class=\"toytree-TipLabels\" style=\"fill:rgb(14.5%,14.5%,14.5%);fill-opacity:1.0;font-family:Helvetica;font-size:12px;font-weight:300;vertical-align:baseline;white-space:pre;stroke:none\"><g class=\"toytree-TipLabel\" transform=\"translate(131.586,218.347)\"><text x=\"15.0\" y=\"3.066\" style=\"fill:rgb(14.5%,14.5%,14.5%);fill-opacity:1.0\">40578_rex</text></g><g class=\"toytree-TipLabel\" transform=\"translate(132.247,177.924)\"><text x=\"15.0\" y=\"3.066\" style=\"fill:rgb(14.5%,14.5%,14.5%);fill-opacity:1.0\">35855_rex</text></g><g class=\"toytree-TipLabel\" transform=\"translate(145.513,137.5)\"><text x=\"15.0\" y=\"3.066\" style=\"fill:rgb(14.5%,14.5%,14.5%);fill-opacity:1.0\">35236_rex</text></g><g class=\"toytree-TipLabel\" transform=\"translate(164.837,97.0763)\"><text x=\"15.0\" y=\"3.066\" style=\"fill:rgb(14.5%,14.5%,14.5%);fill-opacity:1.0\">39618_rex</text></g><g class=\"toytree-TipLabel\" transform=\"translate(166.725,56.6526)\"><text x=\"15.0\" y=\"3.066\" style=\"fill:rgb(14.5%,14.5%,14.5%);fill-opacity:1.0\">38362_rex</text></g></g></g></g></g></svg><div class=\"toyplot-behavior\"><script>(function()\n",
       "{\n",
       "var modules={};\n",
       "})();</script></div></div>"
      ]
     },
     "metadata": {},
     "output_type": "display_data"
    }
   ],
   "source": [
    "# keep only the subtree connecting 'rex' samples\n",
    "tree.mod.prune(\"~rex*\").draw();"
   ]
  }
 ],
 "metadata": {
  "kernelspec": {
   "display_name": "Python 3 (ipykernel)",
   "language": "python",
   "name": "python3"
  },
  "language_info": {
   "codemirror_mode": {
    "name": "ipython",
    "version": 3
   },
   "file_extension": ".py",
   "mimetype": "text/x-python",
   "name": "python",
   "nbconvert_exporter": "python",
   "pygments_lexer": "ipython3",
   "version": "3.10.12"
  }
 },
 "nbformat": 4,
 "nbformat_minor": 5
}
