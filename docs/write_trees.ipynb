{
 "cells": [
  {
   "cell_type": "markdown",
   "id": "d6c0ad8c-2318-4051-b321-6d2c910e7ab1",
   "metadata": {},
   "source": [
    "# Writing tree data (I/O)\n",
    "\n",
    "Tree data can be serialized into a `str` as Newick, NHX, or NEXUS format using the `.write()` function, available as `toytree.io.write(tree, ...)` or from a ToyTree object as `tree.write(...)`. This function accepts several additional arguments to optionally format float data or include additional metadata, and to write the `str` result to a file path. "
   ]
  },
  {
   "cell_type": "code",
   "execution_count": 1,
   "id": "544e87f8",
   "metadata": {},
   "outputs": [],
   "source": [
    "import toytree\n",
    "import numpy as np"
   ]
  },
  {
   "cell_type": "code",
   "execution_count": 3,
   "id": "431ba96e-c99a-4e77-9e1b-e255a62a1dff",
   "metadata": {},
   "outputs": [
    {
     "data": {
      "text/plain": [
       "'((r0:0.5,r1:0.5):0.5,(r2:0.5,r3:0.5):0.5);'"
      ]
     },
     "execution_count": 3,
     "metadata": {},
     "output_type": "execute_result"
    }
   ],
   "source": [
    "# get a balanced 4-tip tree\n",
    "tree = toytree.rtree.baltree(ntips=4)\n",
    "\n",
    "# write the tree to serialized newick format\n",
    "tree.write()"
   ]
  },
  {
   "cell_type": "markdown",
   "id": "26aa2012-7125-4cf9-b7f9-ab0ca130d1dc",
   "metadata": {},
   "source": [
    "<div class=\"admonition tip\">\n",
    "  <p class=\"admonition-title\">Take Home</p>\n",
    "  <p>\n",
    "      Write tree data to a serialized text format (Newick, NHX, Nexus) using <b>tree.write(...)</b>.\n",
    "  </p>\n",
    "</div>"
   ]
  },
  {
   "cell_type": "markdown",
   "id": "397d2b9c-95fc-4ffa-b15f-ba30fb4cf87c",
   "metadata": {},
   "source": [
    "## Example data\n",
    "To demonstrate, let's start by generating a `ToyTree` with several types of node and edge data to use for examples. Here we are assigning names to all internal nodes, support values to internal nodes/edges except the root, and a feature named \"X\" with a random float value to every node."
   ]
  },
  {
   "cell_type": "code",
   "execution_count": 4,
   "id": "3a2e3484",
   "metadata": {},
   "outputs": [
    {
     "data": {
      "text/html": [
       "<div>\n",
       "<style scoped>\n",
       "    .dataframe tbody tr th:only-of-type {\n",
       "        vertical-align: middle;\n",
       "    }\n",
       "\n",
       "    .dataframe tbody tr th {\n",
       "        vertical-align: top;\n",
       "    }\n",
       "\n",
       "    .dataframe thead th {\n",
       "        text-align: right;\n",
       "    }\n",
       "</style>\n",
       "<table border=\"1\" class=\"dataframe\">\n",
       "  <thead>\n",
       "    <tr style=\"text-align: right;\">\n",
       "      <th></th>\n",
       "      <th>idx</th>\n",
       "      <th>name</th>\n",
       "      <th>height</th>\n",
       "      <th>dist</th>\n",
       "      <th>support</th>\n",
       "      <th>X</th>\n",
       "    </tr>\n",
       "  </thead>\n",
       "  <tbody>\n",
       "    <tr>\n",
       "      <th>0</th>\n",
       "      <td>0</td>\n",
       "      <td>r0</td>\n",
       "      <td>0.0</td>\n",
       "      <td>0.5</td>\n",
       "      <td>NaN</td>\n",
       "      <td>3.241786</td>\n",
       "    </tr>\n",
       "    <tr>\n",
       "      <th>1</th>\n",
       "      <td>1</td>\n",
       "      <td>r1</td>\n",
       "      <td>0.0</td>\n",
       "      <td>0.5</td>\n",
       "      <td>NaN</td>\n",
       "      <td>0.669912</td>\n",
       "    </tr>\n",
       "    <tr>\n",
       "      <th>2</th>\n",
       "      <td>2</td>\n",
       "      <td>r2</td>\n",
       "      <td>0.0</td>\n",
       "      <td>0.5</td>\n",
       "      <td>NaN</td>\n",
       "      <td>-3.078850</td>\n",
       "    </tr>\n",
       "    <tr>\n",
       "      <th>3</th>\n",
       "      <td>3</td>\n",
       "      <td>r3</td>\n",
       "      <td>0.0</td>\n",
       "      <td>0.5</td>\n",
       "      <td>NaN</td>\n",
       "      <td>1.993329</td>\n",
       "    </tr>\n",
       "    <tr>\n",
       "      <th>4</th>\n",
       "      <td>4</td>\n",
       "      <td>A</td>\n",
       "      <td>0.5</td>\n",
       "      <td>0.5</td>\n",
       "      <td>100.0</td>\n",
       "      <td>-2.234693</td>\n",
       "    </tr>\n",
       "    <tr>\n",
       "      <th>5</th>\n",
       "      <td>5</td>\n",
       "      <td>B</td>\n",
       "      <td>0.5</td>\n",
       "      <td>0.5</td>\n",
       "      <td>90.0</td>\n",
       "      <td>2.277798</td>\n",
       "    </tr>\n",
       "    <tr>\n",
       "      <th>6</th>\n",
       "      <td>6</td>\n",
       "      <td>C</td>\n",
       "      <td>1.0</td>\n",
       "      <td>0.0</td>\n",
       "      <td>NaN</td>\n",
       "      <td>0.931252</td>\n",
       "    </tr>\n",
       "  </tbody>\n",
       "</table>\n",
       "</div>"
      ],
      "text/plain": [
       "   idx name  height  dist  support         X\n",
       "0    0   r0     0.0   0.5      NaN  3.241786\n",
       "1    1   r1     0.0   0.5      NaN  0.669912\n",
       "2    2   r2     0.0   0.5      NaN -3.078850\n",
       "3    3   r3     0.0   0.5      NaN  1.993329\n",
       "4    4    A     0.5   0.5    100.0 -2.234693\n",
       "5    5    B     0.5   0.5     90.0  2.277798\n",
       "6    6    C     1.0   0.0      NaN  0.931252"
      ]
     },
     "execution_count": 4,
     "metadata": {},
     "output_type": "execute_result"
    }
   ],
   "source": [
    "# add internal node names as \"A\"\n",
    "tree.set_node_data(\"name\", {4: \"A\", 5: \"B\", 6: \"C\"}, inplace=True)\n",
    "\n",
    "# add internal node support values as 100\n",
    "tree.set_node_data(\"support\", {4: 100, 5: 90}, inplace=True)\n",
    "\n",
    "# add X as node feature with random float values\n",
    "tree.set_node_data(\"X\", np.random.normal(0, 2, tree.nnodes), inplace=True)\n",
    "\n",
    "# show the tree data\n",
    "tree.get_node_data()"
   ]
  },
  {
   "cell_type": "markdown",
   "id": "a08868d6",
   "metadata": {},
   "source": [
    "## The write function\n",
    "The default arguments to the `.write()` function return a newick string with edge lengths (if present) formatted as `\"%.12g\"`, with internal labels as `\"support\"` values (if present) formatted as `\"%.12g\"`, and no additional features (metadata). However, all of these options can be modified, as demonstrated below."
   ]
  },
  {
   "cell_type": "code",
   "execution_count": 3,
   "id": "ea7cb20f",
   "metadata": {},
   "outputs": [
    {
     "data": {
      "text/plain": [
       "'((r0:0.5,r1:0.5)100:0.5,(r2:0.5,r3:0.5)90:0.5);'"
      ]
     },
     "execution_count": 3,
     "metadata": {},
     "output_type": "execute_result"
    }
   ],
   "source": [
    "# Newick str from using default arguments to write()\n",
    "tree.write()"
   ]
  },
  {
   "cell_type": "markdown",
   "id": "3742d2a4",
   "metadata": {},
   "source": [
    "## path: save to disk\n",
    "The first argument to `write()` is `path`, which accepts a file path as a `str`, `Path`, or None. If a `path` is entered then the data will be written to the designated file path and None is returned. If `path=None` then nothing is written to file and the serialized tree data `str` will be returned (like above). This can be useful when you want to store the `str` data as a variable and do something with it. I use the default arg `path=None` throughout the rest of this document after this example for demonstration."
   ]
  },
  {
   "cell_type": "code",
   "execution_count": 4,
   "id": "f8ac3517",
   "metadata": {},
   "outputs": [],
   "source": [
    "# writes to file path, returns None\n",
    "tree.write(path=\"/tmp/test.nwk\")"
   ]
  },
  {
   "cell_type": "markdown",
   "id": "41a6c451",
   "metadata": {},
   "source": [
    "## Newick \n",
    "As we saw above, the default output format of `.write` is a Newick str, and when called with the default arguments it writes the dist edge lengths as well as internal node labels. By modifying these arguments you can either suppress these additional data or modify their formatting. "
   ]
  },
  {
   "cell_type": "code",
   "execution_count": 5,
   "id": "3546b901",
   "metadata": {},
   "outputs": [
    {
     "data": {
      "text/plain": [
       "'((r0,r1),(r2,r3));'"
      ]
     },
     "execution_count": 5,
     "metadata": {},
     "output_type": "execute_result"
    }
   ],
   "source": [
    "# write topology only set these args to None\n",
    "tree.write(path=None, dist_formatter=None, internal_labels=None)"
   ]
  },
  {
   "cell_type": "code",
   "execution_count": 6,
   "id": "8e07d3be",
   "metadata": {},
   "outputs": [
    {
     "data": {
      "text/plain": [
       "'((r0,r1),(r2,r3));'"
      ]
     },
     "execution_count": 6,
     "metadata": {},
     "output_type": "execute_result"
    }
   ],
   "source": [
    "# short-hand for simplest tree serialization\n",
    "tree.write(None, None, None)"
   ]
  },
  {
   "cell_type": "markdown",
   "id": "7c9e2a30",
   "metadata": {},
   "source": [
    "### dist_formatter: edge lengths\n",
    "The `dist_formatter` argument can be used to include or exclude edge lengths, and to format the edge lengths if they are included. By setting `dist_formatter=None` edge lengths are not shown. Formatting of branch lengths takes a Python formatting string in one of two supported formats, using percent sign or curly brackets, e.g., `\"%.12g\"` or `\"{:.12g}\"`. See the Python documentation for further explanation of Python string formatting (or [this resource](https://learnpython.com/blog/python-string-formatting/)). Here I set `internal_labels=None` just to hide internal labels to make it easier to see the edge lengths."
   ]
  },
  {
   "cell_type": "code",
   "execution_count": 7,
   "id": "d699a9f4",
   "metadata": {},
   "outputs": [
    {
     "data": {
      "text/plain": [
       "'((r0,r1),(r2,r3));'"
      ]
     },
     "execution_count": 7,
     "metadata": {},
     "output_type": "execute_result"
    }
   ],
   "source": [
    "# hide edge lengths\n",
    "tree.write(dist_formatter=None, internal_labels=None)"
   ]
  },
  {
   "cell_type": "code",
   "execution_count": 8,
   "id": "add04d66",
   "metadata": {},
   "outputs": [
    {
     "data": {
      "text/plain": [
       "'((r0:0.50,r1:0.50):0.50,(r2:0.50,r3:0.50):0.50);'"
      ]
     },
     "execution_count": 8,
     "metadata": {},
     "output_type": "execute_result"
    }
   ],
   "source": [
    "# format edge lengths to show two fixed floating points\n",
    "tree.write(dist_formatter=\"%.2f\", internal_labels=None)"
   ]
  },
  {
   "cell_type": "code",
   "execution_count": 9,
   "id": "8e5184eb",
   "metadata": {},
   "outputs": [
    {
     "data": {
      "text/plain": [
       "'((r0:0.5,r1:0.5):0.5,(r2:0.5,r3:0.5):0.5);'"
      ]
     },
     "execution_count": 9,
     "metadata": {},
     "output_type": "execute_result"
    }
   ],
   "source": [
    "# format edge lengths to show max 4 floating points\n",
    "tree.write(dist_formatter=\"%.4g\", internal_labels=None)"
   ]
  },
  {
   "cell_type": "code",
   "execution_count": 10,
   "id": "c8a1c96b",
   "metadata": {},
   "outputs": [
    {
     "data": {
      "text/plain": [
       "'((r0:0,r1:0):0,(r2:0,r3:0):0);'"
      ]
     },
     "execution_count": 10,
     "metadata": {},
     "output_type": "execute_result"
    }
   ],
   "source": [
    "# format edge lengths as integers\n",
    "tree.write(dist_formatter=\"%d\", internal_labels=None)"
   ]
  },
  {
   "cell_type": "markdown",
   "id": "f1164c0e",
   "metadata": {},
   "source": [
    "### internal_labels\n",
    "As discussed in the [Parsing tree data](/toytree/parse_trees) docs, the internal label in a newick string can be ambiguous in its usage for storing either internal node names, edge support values, or possibly other types of data. The `internal_labels` arg takes a str feature name as an argument. A `ToyTree` always has \"name\" and \"support\" features that can be selected, and if empty, they will be ignored. Here I set `dist_formatter=None` just to hide edge lengths to make it easier to see the internal_labels."
   ]
  },
  {
   "cell_type": "code",
   "execution_count": 11,
   "id": "605eca80",
   "metadata": {},
   "outputs": [
    {
     "data": {
      "text/plain": [
       "'((r0,r1),(r2,r3));'"
      ]
     },
     "execution_count": 11,
     "metadata": {},
     "output_type": "execute_result"
    }
   ],
   "source": [
    "# None excludes internal labels\n",
    "tree.write(dist_formatter=None, internal_labels=None)"
   ]
  },
  {
   "cell_type": "code",
   "execution_count": 12,
   "id": "78cc526d",
   "metadata": {},
   "outputs": [
    {
     "data": {
      "text/plain": [
       "'((r0,r1)100,(r2,r3)90);'"
      ]
     },
     "execution_count": 12,
     "metadata": {},
     "output_type": "execute_result"
    }
   ],
   "source": [
    "# use support floats as internal labels\n",
    "tree.write(dist_formatter=None, internal_labels=\"support\")"
   ]
  },
  {
   "cell_type": "code",
   "execution_count": 13,
   "id": "20ba0860",
   "metadata": {},
   "outputs": [
    {
     "data": {
      "text/plain": [
       "'((r0,r1)A,(r2,r3)B)C;'"
      ]
     },
     "execution_count": 13,
     "metadata": {},
     "output_type": "execute_result"
    }
   ],
   "source": [
    "# use name str as internal labels\n",
    "tree.write(dist_formatter=None, internal_labels=\"name\")"
   ]
  },
  {
   "cell_type": "code",
   "execution_count": 14,
   "id": "dbc235fc",
   "metadata": {},
   "outputs": [
    {
     "data": {
      "text/plain": [
       "'((r0,r1)-2.2019018558,(r2,r3)-1.51247041326)0.0903984949236;'"
      ]
     },
     "execution_count": 14,
     "metadata": {},
     "output_type": "execute_result"
    }
   ],
   "source": [
    "# use other existing feature in tree as internal labels\n",
    "tree.write(dist_formatter=None, internal_labels=\"X\")"
   ]
  },
  {
   "cell_type": "markdown",
   "id": "7a639dc6",
   "metadata": {},
   "source": [
    "### internal_labels_formatter\n",
    "Similar to the `dist_formatter` arg above, you can similarly apply string formatting to `internal_labels` when they are floats. This has no effect on internal names, but is useful for support, or other features."
   ]
  },
  {
   "cell_type": "code",
   "execution_count": 15,
   "id": "b0e07c43",
   "metadata": {},
   "outputs": [
    {
     "data": {
      "text/plain": [
       "'((r0:0.5,r1:0.5):0.5,(r2:0.5,r3:0.5):0.5);'"
      ]
     },
     "execution_count": 15,
     "metadata": {},
     "output_type": "execute_result"
    }
   ],
   "source": [
    "# None applies no string formatting\n",
    "tree.write(internal_labels_formatter=None)"
   ]
  },
  {
   "cell_type": "code",
   "execution_count": 16,
   "id": "f0570b83",
   "metadata": {},
   "outputs": [
    {
     "data": {
      "text/plain": [
       "'((r0:0.5,r1:0.5)100:0.5,(r2:0.5,r3:0.5)90:0.5);'"
      ]
     },
     "execution_count": 16,
     "metadata": {},
     "output_type": "execute_result"
    }
   ],
   "source": [
    "# float format the 'support' values as max 12 floating points\n",
    "tree.write(internal_labels=\"support\", internal_labels_formatter=\"%.12g\")"
   ]
  },
  {
   "cell_type": "code",
   "execution_count": 17,
   "id": "9a847bcd",
   "metadata": {},
   "outputs": [
    {
     "data": {
      "text/plain": [
       "'((r0:0.5,r1:0.5)100.00:0.5,(r2:0.5,r3:0.5)90.00:0.5);'"
      ]
     },
     "execution_count": 17,
     "metadata": {},
     "output_type": "execute_result"
    }
   ],
   "source": [
    "# float format the 'support' values w/ 2 fixed floating points\n",
    "tree.write(internal_labels=\"support\", internal_labels_formatter=\"{:.2f}\")"
   ]
  },
  {
   "cell_type": "code",
   "execution_count": 18,
   "id": "f67cb904",
   "metadata": {},
   "outputs": [
    {
     "data": {
      "text/plain": [
       "'((r0:0.5,r1:0.5)100:0.5,(r2:0.5,r3:0.5)90:0.5);'"
      ]
     },
     "execution_count": 18,
     "metadata": {},
     "output_type": "execute_result"
    }
   ],
   "source": [
    "# float format the 'support' values as ints\n",
    "tree.write(internal_labels=\"support\", internal_labels_formatter=\"%d\")"
   ]
  },
  {
   "cell_type": "markdown",
   "id": "1d92a23a",
   "metadata": {},
   "source": [
    "## Write NHX\n",
    "The extended New Hampshire format (NHX) is simply an extension of the Newick format with metadata stored inside square brackets after nodes and/or edges. The data/features in a `ToyTree` represent any data stored to one or more `Node` objects of the tree (see [Data/Features](/toytree/data)). These data may have been generated by some analysis tool, or could be stored manually in `toytree`. You can view the features of a `ToyTree` using `get_node_data()`, which shows data for each Node for each feature. You can view the features by calling `.features` and see which subset of features apply to edges by calling `.edge_features`. This is important to note because the `.write()` function will append edge features as metadata to edges, and node features as metadata to nodes in the NHX format."
   ]
  },
  {
   "cell_type": "markdown",
   "id": "df52c1bd",
   "metadata": {},
   "source": [
    "### features"
   ]
  },
  {
   "cell_type": "code",
   "execution_count": 19,
   "id": "082ad055",
   "metadata": {},
   "outputs": [
    {
     "data": {
      "text/plain": [
       "('idx', 'name', 'height', 'dist', 'support', 'X')"
      ]
     },
     "execution_count": 19,
     "metadata": {},
     "output_type": "execute_result"
    }
   ],
   "source": [
    "# see the features of a tree\n",
    "tree.features"
   ]
  },
  {
   "cell_type": "code",
   "execution_count": 20,
   "id": "b531d08b",
   "metadata": {},
   "outputs": [
    {
     "data": {
      "text/plain": [
       "{'dist', 'support'}"
      ]
     },
     "execution_count": 20,
     "metadata": {},
     "output_type": "execute_result"
    }
   ],
   "source": [
    "# see which features are edge (not node) data\n",
    "tree.edge_features"
   ]
  },
  {
   "cell_type": "code",
   "execution_count": 21,
   "id": "aafb5f0e",
   "metadata": {},
   "outputs": [
    {
     "data": {
      "text/plain": [
       "'((r0[&X=0.608116507902]:0.5,r1[&X=-1.12762954173]:0.5)100[&X=-2.2019018558]:0.5,(r2[&X=-3.42995006373]:0.5,r3[&X=-1.19754491671]:0.5)90[&X=-1.51247041326]:0.5)[&X=0.0903984949236];'"
      ]
     },
     "execution_count": 21,
     "metadata": {},
     "output_type": "execute_result"
    }
   ],
   "source": [
    "# write NHX w/ \"X\" as node feature\n",
    "tree.write(features=[\"X\"])"
   ]
  },
  {
   "cell_type": "code",
   "execution_count": 22,
   "id": "03b64824",
   "metadata": {},
   "outputs": [
    {
     "data": {
      "text/plain": [
       "'((r0:0.5,r1:0.5)100:0.5[&support=100],(r2:0.5,r3:0.5)90:0.5[&support=90]);'"
      ]
     },
     "execution_count": 22,
     "metadata": {},
     "output_type": "execute_result"
    }
   ],
   "source": [
    "# write NHX w/ \"support\" as edge feature\n",
    "tree.write(features=[\"support\"])"
   ]
  },
  {
   "cell_type": "markdown",
   "id": "c28791cf",
   "metadata": {},
   "source": [
    "### features_formatting"
   ]
  },
  {
   "cell_type": "code",
   "execution_count": 23,
   "id": "c75e279c",
   "metadata": {},
   "outputs": [
    {
     "data": {
      "text/plain": [
       "'((r0[&X=0.608]:0.5,r1[&X=-1.128]:0.5)100[&X=-2.202]:0.5,(r2[&X=-3.430]:0.5,r3[&X=-1.198]:0.5)90[&X=-1.512]:0.5)[&X=0.090];'"
      ]
     },
     "execution_count": 23,
     "metadata": {},
     "output_type": "execute_result"
    }
   ],
   "source": [
    "# write NHX string with one node metadata feature  \n",
    "tree.write(features=[\"X\"], features_formatter=\"%.3f\")"
   ]
  },
  {
   "cell_type": "markdown",
   "id": "28e8747b",
   "metadata": {},
   "source": [
    "## Write NEXUS\n",
    "Converting tree data into NEXUS format is trivial, simply add the `nexus=True` argument to write. You can still use any of the formatting options above to format the Newick/NHX string, but it will now be written inside a \"trees\" block, with names translated into integers, with a translation section, and with a \"#NEXUS\" header. "
   ]
  },
  {
   "cell_type": "code",
   "execution_count": 24,
   "id": "55131489",
   "metadata": {},
   "outputs": [
    {
     "name": "stdout",
     "output_type": "stream",
     "text": [
      "#NEXUS\n",
      "begin trees;\n",
      "    translate\n",
      "        0 r0,\n",
      "        1 r1,\n",
      "        2 r2,\n",
      "        3 r3,\n",
      "    ;\n",
      "    tree 0 = [&R] ((0:0.5,1:0.5)100:0.5,(2:0.5,3:0.5)90:0.5);\n",
      "end;\n"
     ]
    }
   ],
   "source": [
    "# write tree in Newick format wrapped in Nexus\n",
    "nexus = tree.write(nexus=True)\n",
    "print(nexus)"
   ]
  },
  {
   "cell_type": "code",
   "execution_count": 25,
   "id": "b4e0bf05",
   "metadata": {},
   "outputs": [
    {
     "name": "stdout",
     "output_type": "stream",
     "text": [
      "#NEXUS\n",
      "begin trees;\n",
      "    translate\n",
      "        0 r0,\n",
      "        1 r1,\n",
      "        2 r2,\n",
      "        3 r3,\n",
      "    ;\n",
      "    tree 0 = [&R] ((0[&name=r0,X=0.61]:0.5,1[&name=r1,X=-1.13]:0.5)100[&name=A,X=-2.20]:0.5[&support=100.00],(2[&name=r2,X=-3.43]:0.5,3[&name=r3,X=-1.20]:0.5)90[&name=B,X=-1.51]:0.5[&support=90.00])[&name=C,X=0.09];\n",
      "end;\n"
     ]
    }
   ],
   "source": [
    "# write tree in NHX format wrapped in Nexus\n",
    "nexus = tree.write(features=[\"support\", \"name\", \"X\"], nexus=True, features_formatter=\"%.2f\")\n",
    "print(nexus)"
   ]
  },
  {
   "cell_type": "code",
   "execution_count": 26,
   "id": "a6459f0f-c1f8-43cf-8b0c-133ccc71dcd9",
   "metadata": {},
   "outputs": [],
   "source": [
    "# write tree to file as Nexus\n",
    "tree.write(path=\"/tmp/test.nex\", nexus=True)"
   ]
  },
  {
   "cell_type": "markdown",
   "id": "0ee5739c-2ba0-4a02-863a-348c313479a2",
   "metadata": {},
   "source": [
    "## Write MultiTrees\n",
    "MultiTrees have a `.write()` function that works very similarly to the `ToyTree.write` but applies to each tree in order. A multi- Newick file contains trees separated by newline characters, whereas a multi Nexus file contains trees labels by increasing number in the trees block."
   ]
  },
  {
   "cell_type": "code",
   "execution_count": 27,
   "id": "6f70fcb7-f669-4329-829a-39c21cc8a619",
   "metadata": {},
   "outputs": [],
   "source": [
    "# create a MultiTree\n",
    "mtree = toytree.mtree([tree, tree, tree])"
   ]
  },
  {
   "cell_type": "code",
   "execution_count": 28,
   "id": "dc2d0b9d-a169-45e6-8bce-8c020cb3b32c",
   "metadata": {},
   "outputs": [
    {
     "name": "stdout",
     "output_type": "stream",
     "text": [
      "((r0:0.5,r1:0.5)100:0.5,(r2:0.5,r3:0.5)90:0.5);\n",
      "((r0:0.5,r1:0.5)100:0.5,(r2:0.5,r3:0.5)90:0.5);\n",
      "((r0:0.5,r1:0.5)100:0.5,(r2:0.5,r3:0.5)90:0.5);\n"
     ]
    }
   ],
   "source": [
    "# write multi-Newick\n",
    "print(mtree.write())"
   ]
  }
 ],
 "metadata": {
  "kernelspec": {
   "display_name": "Python 3 (ipykernel)",
   "language": "python",
   "name": "python3"
  },
  "language_info": {
   "codemirror_mode": {
    "name": "ipython",
    "version": 3
   },
   "file_extension": ".py",
   "mimetype": "text/x-python",
   "name": "python",
   "nbconvert_exporter": "python",
   "pygments_lexer": "ipython3",
   "version": "3.10.12"
  }
 },
 "nbformat": 4,
 "nbformat_minor": 5
}
