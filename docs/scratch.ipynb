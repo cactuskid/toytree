{
 "cells": [
  {
   "cell_type": "code",
   "execution_count": 1,
   "id": "9c432c23-4789-4e4c-8a3b-f6e660346551",
   "metadata": {},
   "outputs": [],
   "source": [
    "import toytree\n",
    "import numpy as np"
   ]
  },
  {
   "cell_type": "code",
   "execution_count": 2,
   "id": "4b157478-6485-40f0-814d-1ae844749453",
   "metadata": {},
   "outputs": [],
   "source": [
    "# an example tree\n",
    "tree = toytree.rtree.unittree(ntips=5, seed=123)"
   ]
  },
  {
   "cell_type": "code",
   "execution_count": 46,
   "id": "737793b5-b0b2-4fa1-8e50-45b18923ac28",
   "metadata": {},
   "outputs": [
    {
     "data": {
      "text/html": [
       "<div class=\"toyplot-color-LinearMap\" style=\"overflow:hidden; height:auto\"><div style=\"float:left;width:200px;height:20px;background:linear-gradient(to right,rgba(100.0%,0.0%,0.0%,1.000) 0.0%,rgba(96.8%,1.6%,0.0%,1.000) 1.6%,rgba(93.7%,3.2%,0.0%,1.000) 3.2%,rgba(90.5%,4.8%,0.0%,1.000) 4.8%,rgba(87.3%,6.4%,0.0%,1.000) 6.3%,rgba(84.1%,8.0%,0.0%,1.000) 7.9%,rgba(81.0%,9.6%,0.0%,1.000) 9.5%,rgba(77.8%,11.2%,0.0%,1.000) 11.1%,rgba(74.6%,12.7%,0.0%,1.000) 12.7%,rgba(71.4%,14.3%,0.0%,1.000) 14.3%,rgba(68.3%,15.9%,0.0%,1.000) 15.9%,rgba(65.1%,17.5%,0.0%,1.000) 17.5%,rgba(61.9%,19.1%,0.0%,1.000) 19.0%,rgba(58.7%,20.7%,0.0%,1.000) 20.6%,rgba(55.6%,22.3%,0.0%,1.000) 22.2%,rgba(52.4%,23.9%,0.0%,1.000) 23.8%,rgba(49.2%,25.5%,0.0%,1.000) 25.4%,rgba(46.0%,27.1%,0.0%,1.000) 27.0%,rgba(42.9%,28.7%,0.0%,1.000) 28.6%,rgba(39.7%,30.3%,0.0%,1.000) 30.2%,rgba(36.5%,31.9%,0.0%,1.000) 31.7%,rgba(33.3%,33.5%,0.0%,1.000) 33.3%,rgba(30.2%,35.1%,0.0%,1.000) 34.9%,rgba(27.0%,36.7%,0.0%,1.000) 36.5%,rgba(23.8%,38.2%,0.0%,1.000) 38.1%,rgba(20.6%,39.8%,0.0%,1.000) 39.7%,rgba(17.5%,41.4%,0.0%,1.000) 41.3%,rgba(14.3%,43.0%,0.0%,1.000) 42.9%,rgba(11.1%,44.6%,0.0%,1.000) 44.4%,rgba(7.9%,46.2%,0.0%,1.000) 46.0%,rgba(4.8%,47.8%,0.0%,1.000) 47.6%,rgba(1.6%,49.4%,0.0%,1.000) 49.2%,rgba(0.0%,49.4%,1.6%,1.000) 50.8%,rgba(0.0%,47.8%,4.8%,1.000) 52.4%,rgba(0.0%,46.2%,7.9%,1.000) 54.0%,rgba(0.0%,44.6%,11.1%,1.000) 55.6%,rgba(0.0%,43.0%,14.3%,1.000) 57.1%,rgba(0.0%,41.4%,17.5%,1.000) 58.7%,rgba(0.0%,39.8%,20.6%,1.000) 60.3%,rgba(0.0%,38.2%,23.8%,1.000) 61.9%,rgba(0.0%,36.7%,27.0%,1.000) 63.5%,rgba(0.0%,35.1%,30.2%,1.000) 65.1%,rgba(0.0%,33.5%,33.3%,1.000) 66.7%,rgba(0.0%,31.9%,36.5%,1.000) 68.3%,rgba(0.0%,30.3%,39.7%,1.000) 69.8%,rgba(0.0%,28.7%,42.9%,1.000) 71.4%,rgba(0.0%,27.1%,46.0%,1.000) 73.0%,rgba(0.0%,25.5%,49.2%,1.000) 74.6%,rgba(0.0%,23.9%,52.4%,1.000) 76.2%,rgba(0.0%,22.3%,55.6%,1.000) 77.8%,rgba(0.0%,20.7%,58.7%,1.000) 79.4%,rgba(0.0%,19.1%,61.9%,1.000) 81.0%,rgba(0.0%,17.5%,65.1%,1.000) 82.5%,rgba(0.0%,15.9%,68.3%,1.000) 84.1%,rgba(0.0%,14.3%,71.4%,1.000) 85.7%,rgba(0.0%,12.7%,74.6%,1.000) 87.3%,rgba(0.0%,11.2%,77.8%,1.000) 88.9%,rgba(0.0%,9.6%,81.0%,1.000) 90.5%,rgba(0.0%,8.0%,84.1%,1.000) 92.1%,rgba(0.0%,6.4%,87.3%,1.000) 93.7%,rgba(0.0%,4.8%,90.5%,1.000) 95.2%,rgba(0.0%,3.2%,93.7%,1.000) 96.8%,rgba(0.0%,1.6%,96.8%,1.000) 98.4%,rgba(0.0%,0.0%,100.0%,1.000) 100.0%)\"></div></div>"
      ],
      "text/plain": [
       "<toyplot.color.LinearMap at 0x7f025b5ef610>"
      ]
     },
     "execution_count": 46,
     "metadata": {},
     "output_type": "execute_result"
    }
   ],
   "source": [
    "import toyplot\n",
    "\n",
    "palette = toyplot.color.Palette(['red', 'green', 'blue'])\n",
    "cmap = toyplot.color.LinearMap(palette, domain_min=0, domain_max=1)\n",
    "cmap"
   ]
  },
  {
   "cell_type": "code",
   "execution_count": 50,
   "id": "2d467028-20cd-4877-b5a9-52788e37d443",
   "metadata": {},
   "outputs": [
    {
     "data": {
      "text/html": [
       "<div class=\"toyplot-color-Swatches\" style=\"overflow:hidden; height:auto\"><div style=\"float:left;width:20px;height:20px;margin-right:5px;background-color:rgba(100.0%,0.0%,0.0%,1.000)\"></div><div style=\"float:left;width:20px;height:20px;margin-right:5px;background-color:rgba(50.0%,25.1%,0.0%,1.000)\"></div><div style=\"float:left;width:20px;height:20px;margin-right:5px;background-color:rgba(0.0%,50.2%,0.0%,1.000)\"></div><div style=\"float:left;width:20px;height:20px;margin-right:5px;background-color:rgba(0.0%,25.1%,50.0%,1.000)\"></div><div style=\"float:left;width:20px;height:20px;margin-right:5px;background-color:rgba(0.0%,0.0%,100.0%,1.000)\"></div></div>"
      ],
      "text/plain": [
       "array([(1. , 0.        , 0. , 1.), (0.5, 0.25098039, 0. , 1.),\n",
       "       (0. , 0.50196078, 0. , 1.), (0. , 0.25098039, 0.5, 1.),\n",
       "       (0. , 0.        , 1. , 1.)],\n",
       "      dtype=[('r', '<f8'), ('g', '<f8'), ('b', '<f8'), ('a', '<f8')])"
      ]
     },
     "execution_count": 50,
     "metadata": {},
     "output_type": "execute_result"
    }
   ],
   "source": [
    "cmap.colors([0, 0.25, 0.5, 0.75, 1.0])"
   ]
  },
  {
   "cell_type": "code",
   "execution_count": null,
   "id": "13ddd47c-24f3-4dc8-8f2a-ed042193abe3",
   "metadata": {},
   "outputs": [],
   "source": []
  },
  {
   "cell_type": "code",
   "execution_count": 3,
   "id": "a67446e7-5319-45ca-b83e-70a19c0a9dd5",
   "metadata": {},
   "outputs": [
    {
     "data": {
      "text/plain": [
       "0     red\n",
       "1     red\n",
       "2     red\n",
       "3    blue\n",
       "4    blue\n",
       "5     red\n",
       "6     red\n",
       "7    blue\n",
       "8    blue\n",
       "dtype: object"
      ]
     },
     "execution_count": 3,
     "metadata": {},
     "output_type": "execute_result"
    }
   ],
   "source": [
    "# set a color name as 'red' or 'blue' to all nodes for feature \"C\"\n",
    "tree.set_node_data(\"C\", {6: \"red\"}, inherit=True, default=\"blue\", inplace=True);\n",
    "tree.get_node_data(\"C\")"
   ]
  },
  {
   "cell_type": "code",
   "execution_count": 4,
   "id": "dc69d689-fa8c-4f8b-b331-d7a88e81c6bb",
   "metadata": {},
   "outputs": [
    {
     "data": {
      "text/plain": [
       "0    A\n",
       "1    A\n",
       "2    A\n",
       "3    B\n",
       "4    B\n",
       "5    A\n",
       "6    A\n",
       "7    B\n",
       "8    B\n",
       "dtype: object"
      ]
     },
     "execution_count": 4,
     "metadata": {},
     "output_type": "execute_result"
    }
   ],
   "source": [
    "# set a color name as 'red' or 'blue' to all nodes for feature \"C\"\n",
    "tree.set_node_data(\"A\", {6: \"A\"}, inherit=True, default=\"B\", inplace=True);\n",
    "tree.get_node_data(\"A\")"
   ]
  },
  {
   "cell_type": "code",
   "execution_count": 5,
   "id": "fc5aff89-927e-45b3-8960-725bf52a58fa",
   "metadata": {},
   "outputs": [
    {
     "data": {
      "text/plain": [
       "0    0.252134\n",
       "1    0.473288\n",
       "2    0.125519\n",
       "3    0.207844\n",
       "4    0.180335\n",
       "5    0.496407\n",
       "6    0.729994\n",
       "7    0.126836\n",
       "8    0.012640\n",
       "dtype: float64"
      ]
     },
     "execution_count": 5,
     "metadata": {},
     "output_type": "execute_result"
    }
   ],
   "source": [
    "# set random float values in (0-1) to all nodes for feature \"D\"\n",
    "tree.set_node_data(\"D\", np.random.random(tree.nnodes), inplace=True);\n",
    "tree.get_node_data(\"D\")"
   ]
  },
  {
   "cell_type": "code",
   "execution_count": 6,
   "id": "c7926ed6-ea6d-4a3c-8dd4-32d151d47af2",
   "metadata": {},
   "outputs": [
    {
     "data": {
      "text/html": [
       "<div class=\"toyplot\" id=\"tee214e314770483698d9a2c8942fb0b2\" style=\"text-align:center\"><svg class=\"toyplot-canvas-Canvas\" xmlns:toyplot=\"http://www.sandia.gov/toyplot\" xmlns:xlink=\"http://www.w3.org/1999/xlink\" xmlns=\"http://www.w3.org/2000/svg\" width=\"300.0px\" height=\"275.0px\" viewBox=\"0 0 300.0 275.0\" preserveAspectRatio=\"xMidYMid meet\" style=\"background-color:transparent;border-color:#292724;border-style:none;border-width:1.0;fill:rgb(16.1%,15.3%,14.1%);fill-opacity:1.0;font-family:Helvetica;font-size:12px;opacity:1.0;stroke:rgb(16.1%,15.3%,14.1%);stroke-opacity:1.0;stroke-width:1.0\" id=\"t12d29b13a70d4064a540fb045c909f29\"><g class=\"toyplot-coordinates-Cartesian\" id=\"tb8644197b2404be78f3360af52e6937c\"><clipPath id=\"t1ea6407a4bfb47baabdca7fa71904414\"><rect x=\"35.0\" y=\"35.0\" width=\"230.0\" height=\"205.0\"></rect></clipPath><g clip-path=\"url(#t1ea6407a4bfb47baabdca7fa71904414)\"><g class=\"toytree-mark-Toytree\" id=\"t58f8c0ac70ad4349a33da5597168a709\"><g class=\"toytree-Edges\" style=\"stroke:rgb(14.5%,14.5%,14.5%);stroke-opacity:1.0;stroke-linecap:round;stroke-width:2.0;fill:none\"><path d=\"M 159.3 197.0 L 159.3 216.8 L 210.6 216.8\" id=\"5,0\" style=\"\"></path><path d=\"M 159.3 197.0 L 159.3 177.2 L 210.6 177.2\" id=\"5,1\" style=\"\"></path><path d=\"M 108.1 167.3 L 108.1 137.5 L 210.6 137.5\" id=\"6,2\" style=\"\"></path><path d=\"M 108.1 78.0 L 108.1 97.8 L 210.6 97.8\" id=\"7,3\" style=\"\"></path><path d=\"M 108.1 78.0 L 108.1 58.2 L 210.6 58.2\" id=\"7,4\" style=\"\"></path><path d=\"M 108.1 167.3 L 108.1 197.0 L 159.3 197.0\" id=\"6,5\" style=\"\"></path><path d=\"M 56.9 122.6 L 56.9 167.3 L 108.1 167.3\" id=\"8,6\" style=\"\"></path><path d=\"M 56.9 122.6 L 56.9 78.0 L 108.1 78.0\" id=\"8,7\" style=\"\"></path></g><g class=\"toytree-AdmixEdges\" style=\"fill:rgb(0.0%,0.0%,0.0%);fill-opacity:0.0;stroke:rgb(90.6%,54.1%,76.5%);stroke-opacity:0.6;font-size:14px;stroke-linecap:round;stroke-width:5\"></g><g class=\"toytree-Nodes\" style=\"fill:rgb(100.0%,0.0%,0.0%);fill-opacity:1.0;stroke:rgb(14.9%,14.9%,14.9%);stroke-opacity:1.0;stroke-width:1.5\"><g id=\"Node-0\" transform=\"translate(210.562,216.839)\"><circle r=\"7.5\"></circle></g><g id=\"Node-1\" transform=\"translate(210.562,177.17)\"><circle r=\"7.5\"></circle></g><g id=\"Node-2\" transform=\"translate(210.562,137.5)\"><circle r=\"7.5\"></circle></g><g id=\"Node-3\" transform=\"translate(210.562,97.8303)\"><circle r=\"7.5\"></circle></g><g id=\"Node-4\" transform=\"translate(210.562,58.1606)\"><circle r=\"7.5\"></circle></g><g id=\"Node-5\" transform=\"translate(159.346,197.005)\"><circle r=\"7.5\"></circle></g><g id=\"Node-6\" transform=\"translate(108.13,167.252)\"><circle r=\"7.5\"></circle></g><g id=\"Node-7\" transform=\"translate(108.13,77.9955)\"><circle r=\"7.5\"></circle></g><g id=\"Node-8\" transform=\"translate(56.9141,122.624)\"><circle r=\"7.5\"></circle></g></g><g class=\"toytree-TipLabels\" style=\"fill:rgb(14.5%,14.5%,14.5%);fill-opacity:1.0;font-family:Helvetica;font-size:12px;font-weight:300;vertical-align:baseline;white-space:pre;stroke:none\"><g class=\"toytree-TipLabel\" transform=\"translate(210.562,216.839)\"><text x=\"15.0\" y=\"3.066\" style=\"fill:rgb(14.5%,14.5%,14.5%);fill-opacity:1.0\">r0</text></g><g class=\"toytree-TipLabel\" transform=\"translate(210.562,177.17)\"><text x=\"15.0\" y=\"3.066\" style=\"fill:rgb(14.5%,14.5%,14.5%);fill-opacity:1.0\">r1</text></g><g class=\"toytree-TipLabel\" transform=\"translate(210.562,137.5)\"><text x=\"15.0\" y=\"3.066\" style=\"fill:rgb(14.5%,14.5%,14.5%);fill-opacity:1.0\">r2</text></g><g class=\"toytree-TipLabel\" transform=\"translate(210.562,97.8303)\"><text x=\"15.0\" y=\"3.066\" style=\"fill:rgb(14.5%,14.5%,14.5%);fill-opacity:1.0\">r3</text></g><g class=\"toytree-TipLabel\" transform=\"translate(210.562,58.1606)\"><text x=\"15.0\" y=\"3.066\" style=\"fill:rgb(14.5%,14.5%,14.5%);fill-opacity:1.0\">r4</text></g></g></g></g></g></svg><div class=\"toyplot-behavior\"><script>(function()\n",
       "{\n",
       "var modules={};\n",
       "})();</script></div></div>"
      ]
     },
     "metadata": {},
     "output_type": "display_data"
    }
   ],
   "source": [
    "# draw the tree entering node colors using the \"C\" discrete data feature\n",
    "tree.draw(node_sizes=15, node_mask=False, node_colors='red');"
   ]
  },
  {
   "cell_type": "code",
   "execution_count": 7,
   "id": "7d0049e6-b67c-41b4-9d6c-5b6fc46a15ba",
   "metadata": {},
   "outputs": [
    {
     "data": {
      "text/html": [
       "<div class=\"toyplot\" id=\"te39b8dbc71d24ab4b1592077e9202a9c\" style=\"text-align:center\"><svg class=\"toyplot-canvas-Canvas\" xmlns:toyplot=\"http://www.sandia.gov/toyplot\" xmlns:xlink=\"http://www.w3.org/1999/xlink\" xmlns=\"http://www.w3.org/2000/svg\" width=\"300.0px\" height=\"275.0px\" viewBox=\"0 0 300.0 275.0\" preserveAspectRatio=\"xMidYMid meet\" style=\"background-color:transparent;border-color:#292724;border-style:none;border-width:1.0;fill:rgb(16.1%,15.3%,14.1%);fill-opacity:1.0;font-family:Helvetica;font-size:12px;opacity:1.0;stroke:rgb(16.1%,15.3%,14.1%);stroke-opacity:1.0;stroke-width:1.0\" id=\"tdaaed31ae7bc41c59aa163d0ee3d2fd7\"><g class=\"toyplot-coordinates-Cartesian\" id=\"tb36c612bee3049c89b3aebf4405e797f\"><clipPath id=\"t87cca6b0f966437abac2b651ec114830\"><rect x=\"35.0\" y=\"35.0\" width=\"230.0\" height=\"205.0\"></rect></clipPath><g clip-path=\"url(#t87cca6b0f966437abac2b651ec114830)\"><g class=\"toytree-mark-Toytree\" id=\"t589a6f247827474fb24e449eb43fbc7e\"><g class=\"toytree-Edges\" style=\"stroke:rgb(14.5%,14.5%,14.5%);stroke-opacity:1.0;stroke-linecap:round;stroke-width:2.0;fill:none\"><path d=\"M 159.3 197.0 L 159.3 216.8 L 210.6 216.8\" id=\"5,0\" style=\"\"></path><path d=\"M 159.3 197.0 L 159.3 177.2 L 210.6 177.2\" id=\"5,1\" style=\"\"></path><path d=\"M 108.1 167.3 L 108.1 137.5 L 210.6 137.5\" id=\"6,2\" style=\"\"></path><path d=\"M 108.1 78.0 L 108.1 97.8 L 210.6 97.8\" id=\"7,3\" style=\"\"></path><path d=\"M 108.1 78.0 L 108.1 58.2 L 210.6 58.2\" id=\"7,4\" style=\"\"></path><path d=\"M 108.1 167.3 L 108.1 197.0 L 159.3 197.0\" id=\"6,5\" style=\"\"></path><path d=\"M 56.9 122.6 L 56.9 167.3 L 108.1 167.3\" id=\"8,6\" style=\"\"></path><path d=\"M 56.9 122.6 L 56.9 78.0 L 108.1 78.0\" id=\"8,7\" style=\"\"></path></g><g class=\"toytree-AdmixEdges\" style=\"fill:rgb(0.0%,0.0%,0.0%);fill-opacity:0.0;stroke:rgb(90.6%,54.1%,76.5%);stroke-opacity:0.6;font-size:14px;stroke-linecap:round;stroke-width:5\"></g><g class=\"toytree-Nodes\" style=\"fill:rgb(0.0%,100.0%,100.0%);fill-opacity:1.0;stroke:rgb(14.9%,14.9%,14.9%);stroke-opacity:1.0;stroke-width:1.5\"><g id=\"Node-0\" transform=\"translate(210.562,216.839)\"><circle r=\"7.5\"></circle></g><g id=\"Node-1\" transform=\"translate(210.562,177.17)\"><circle r=\"7.5\"></circle></g><g id=\"Node-2\" transform=\"translate(210.562,137.5)\"><circle r=\"7.5\"></circle></g><g id=\"Node-3\" transform=\"translate(210.562,97.8303)\"><circle r=\"7.5\"></circle></g><g id=\"Node-4\" transform=\"translate(210.562,58.1606)\"><circle r=\"7.5\"></circle></g><g id=\"Node-5\" transform=\"translate(159.346,197.005)\"><circle r=\"7.5\"></circle></g><g id=\"Node-6\" transform=\"translate(108.13,167.252)\"><circle r=\"7.5\"></circle></g><g id=\"Node-7\" transform=\"translate(108.13,77.9955)\"><circle r=\"7.5\"></circle></g><g id=\"Node-8\" transform=\"translate(56.9141,122.624)\"><circle r=\"7.5\"></circle></g></g><g class=\"toytree-TipLabels\" style=\"fill:rgb(14.5%,14.5%,14.5%);fill-opacity:1.0;font-family:Helvetica;font-size:12px;font-weight:300;vertical-align:baseline;white-space:pre;stroke:none\"><g class=\"toytree-TipLabel\" transform=\"translate(210.562,216.839)\"><text x=\"15.0\" y=\"3.066\" style=\"fill:rgb(14.5%,14.5%,14.5%);fill-opacity:1.0\">r0</text></g><g class=\"toytree-TipLabel\" transform=\"translate(210.562,177.17)\"><text x=\"15.0\" y=\"3.066\" style=\"fill:rgb(14.5%,14.5%,14.5%);fill-opacity:1.0\">r1</text></g><g class=\"toytree-TipLabel\" transform=\"translate(210.562,137.5)\"><text x=\"15.0\" y=\"3.066\" style=\"fill:rgb(14.5%,14.5%,14.5%);fill-opacity:1.0\">r2</text></g><g class=\"toytree-TipLabel\" transform=\"translate(210.562,97.8303)\"><text x=\"15.0\" y=\"3.066\" style=\"fill:rgb(14.5%,14.5%,14.5%);fill-opacity:1.0\">r3</text></g><g class=\"toytree-TipLabel\" transform=\"translate(210.562,58.1606)\"><text x=\"15.0\" y=\"3.066\" style=\"fill:rgb(14.5%,14.5%,14.5%);fill-opacity:1.0\">r4</text></g></g></g></g></g></svg><div class=\"toyplot-behavior\"><script>(function()\n",
       "{\n",
       "var modules={};\n",
       "})();</script></div></div>"
      ]
     },
     "metadata": {},
     "output_type": "display_data"
    }
   ],
   "source": [
    "# draw the tree entering node colors using the \"C\" discrete data feature\n",
    "tree.draw(node_sizes=15, node_mask=False, node_colors=(0, 1, 1, 0.5));"
   ]
  },
  {
   "cell_type": "code",
   "execution_count": 8,
   "id": "37ac746a-56ea-49b0-93f2-56a92490b078",
   "metadata": {},
   "outputs": [
    {
     "data": {
      "text/html": [
       "<div class=\"toyplot\" id=\"tad99a835ec8a4b39a2dc1d8deba57e3f\" style=\"text-align:center\"><svg class=\"toyplot-canvas-Canvas\" xmlns:toyplot=\"http://www.sandia.gov/toyplot\" xmlns:xlink=\"http://www.w3.org/1999/xlink\" xmlns=\"http://www.w3.org/2000/svg\" width=\"300.0px\" height=\"275.0px\" viewBox=\"0 0 300.0 275.0\" preserveAspectRatio=\"xMidYMid meet\" style=\"background-color:transparent;border-color:#292724;border-style:none;border-width:1.0;fill:rgb(16.1%,15.3%,14.1%);fill-opacity:1.0;font-family:Helvetica;font-size:12px;opacity:1.0;stroke:rgb(16.1%,15.3%,14.1%);stroke-opacity:1.0;stroke-width:1.0\" id=\"t5d973105dabe4b5abeb19359042a114b\"><g class=\"toyplot-coordinates-Cartesian\" id=\"t678302049ac4443786bcf56648d22588\"><clipPath id=\"te27ceebe5cab460b85e92ced52692f29\"><rect x=\"35.0\" y=\"35.0\" width=\"230.0\" height=\"205.0\"></rect></clipPath><g clip-path=\"url(#te27ceebe5cab460b85e92ced52692f29)\"><g class=\"toytree-mark-Toytree\" id=\"t19c9b0ecb70142d4aa40c040296ca14f\"><g class=\"toytree-Edges\" style=\"stroke:rgb(14.5%,14.5%,14.5%);stroke-opacity:1.0;stroke-linecap:round;stroke-width:2.0;fill:none\"><path d=\"M 159.3 197.0 L 159.3 216.8 L 210.6 216.8\" id=\"5,0\" style=\"\"></path><path d=\"M 159.3 197.0 L 159.3 177.2 L 210.6 177.2\" id=\"5,1\" style=\"\"></path><path d=\"M 108.1 167.3 L 108.1 137.5 L 210.6 137.5\" id=\"6,2\" style=\"\"></path><path d=\"M 108.1 78.0 L 108.1 97.8 L 210.6 97.8\" id=\"7,3\" style=\"\"></path><path d=\"M 108.1 78.0 L 108.1 58.2 L 210.6 58.2\" id=\"7,4\" style=\"\"></path><path d=\"M 108.1 167.3 L 108.1 197.0 L 159.3 197.0\" id=\"6,5\" style=\"\"></path><path d=\"M 56.9 122.6 L 56.9 167.3 L 108.1 167.3\" id=\"8,6\" style=\"\"></path><path d=\"M 56.9 122.6 L 56.9 78.0 L 108.1 78.0\" id=\"8,7\" style=\"\"></path></g><g class=\"toytree-AdmixEdges\" style=\"fill:rgb(0.0%,0.0%,0.0%);fill-opacity:0.0;stroke:rgb(90.6%,54.1%,76.5%);stroke-opacity:0.6;font-size:14px;stroke-linecap:round;stroke-width:5\"></g><g class=\"toytree-Nodes\" style=\"fill:rgb(40.0%,76.1%,64.7%);fill-opacity:1.0;stroke:rgb(14.9%,14.9%,14.9%);stroke-opacity:1.0;stroke-width:1.5\"><g id=\"Node-0\" style=\"fill:rgb(100.0%,0.0%,0.0%)\" transform=\"translate(210.562,216.839)\"><circle r=\"7.5\"></circle></g><g id=\"Node-1\" style=\"fill:rgb(100.0%,0.0%,0.0%)\" transform=\"translate(210.562,177.17)\"><circle r=\"7.5\"></circle></g><g id=\"Node-2\" style=\"fill:rgb(100.0%,0.0%,0.0%)\" transform=\"translate(210.562,137.5)\"><circle r=\"7.5\"></circle></g><g id=\"Node-3\" style=\"fill:rgb(0.0%,0.0%,100.0%)\" transform=\"translate(210.562,97.8303)\"><circle r=\"7.5\"></circle></g><g id=\"Node-4\" style=\"fill:rgb(0.0%,0.0%,100.0%)\" transform=\"translate(210.562,58.1606)\"><circle r=\"7.5\"></circle></g><g id=\"Node-5\" style=\"fill:rgb(100.0%,0.0%,0.0%)\" transform=\"translate(159.346,197.005)\"><circle r=\"7.5\"></circle></g><g id=\"Node-6\" style=\"fill:rgb(100.0%,0.0%,0.0%)\" transform=\"translate(108.13,167.252)\"><circle r=\"7.5\"></circle></g><g id=\"Node-7\" style=\"fill:rgb(0.0%,0.0%,100.0%)\" transform=\"translate(108.13,77.9955)\"><circle r=\"7.5\"></circle></g><g id=\"Node-8\" style=\"fill:rgb(0.0%,0.0%,100.0%)\" transform=\"translate(56.9141,122.624)\"><circle r=\"7.5\"></circle></g></g><g class=\"toytree-TipLabels\" style=\"fill:rgb(14.5%,14.5%,14.5%);fill-opacity:1.0;font-family:Helvetica;font-size:12px;font-weight:300;vertical-align:baseline;white-space:pre;stroke:none\"><g class=\"toytree-TipLabel\" transform=\"translate(210.562,216.839)\"><text x=\"15.0\" y=\"3.066\" style=\"fill:rgb(14.5%,14.5%,14.5%);fill-opacity:1.0\">r0</text></g><g class=\"toytree-TipLabel\" transform=\"translate(210.562,177.17)\"><text x=\"15.0\" y=\"3.066\" style=\"fill:rgb(14.5%,14.5%,14.5%);fill-opacity:1.0\">r1</text></g><g class=\"toytree-TipLabel\" transform=\"translate(210.562,137.5)\"><text x=\"15.0\" y=\"3.066\" style=\"fill:rgb(14.5%,14.5%,14.5%);fill-opacity:1.0\">r2</text></g><g class=\"toytree-TipLabel\" transform=\"translate(210.562,97.8303)\"><text x=\"15.0\" y=\"3.066\" style=\"fill:rgb(14.5%,14.5%,14.5%);fill-opacity:1.0\">r3</text></g><g class=\"toytree-TipLabel\" transform=\"translate(210.562,58.1606)\"><text x=\"15.0\" y=\"3.066\" style=\"fill:rgb(14.5%,14.5%,14.5%);fill-opacity:1.0\">r4</text></g></g></g></g></g></svg><div class=\"toyplot-behavior\"><script>(function()\n",
       "{\n",
       "var modules={};\n",
       "})();</script></div></div>"
      ]
     },
     "metadata": {},
     "output_type": "display_data"
    }
   ],
   "source": [
    "# draw the tree entering node colors using the \"C\" discrete data feature\n",
    "tree.draw(node_sizes=15, node_mask=False, node_colors=tree.get_node_data(\"C\"));"
   ]
  },
  {
   "cell_type": "code",
   "execution_count": 9,
   "id": "01960720-5582-4127-8d95-4d1a1d08bc17",
   "metadata": {},
   "outputs": [
    {
     "data": {
      "text/html": [
       "<div class=\"toyplot\" id=\"tbbd70f47d8484bf5bfadc4f66c32c636\" style=\"text-align:center\"><svg class=\"toyplot-canvas-Canvas\" xmlns:toyplot=\"http://www.sandia.gov/toyplot\" xmlns:xlink=\"http://www.w3.org/1999/xlink\" xmlns=\"http://www.w3.org/2000/svg\" width=\"300.0px\" height=\"275.0px\" viewBox=\"0 0 300.0 275.0\" preserveAspectRatio=\"xMidYMid meet\" style=\"background-color:transparent;border-color:#292724;border-style:none;border-width:1.0;fill:rgb(16.1%,15.3%,14.1%);fill-opacity:1.0;font-family:Helvetica;font-size:12px;opacity:1.0;stroke:rgb(16.1%,15.3%,14.1%);stroke-opacity:1.0;stroke-width:1.0\" id=\"t4782797e179246c7ad256e4a890768c9\"><g class=\"toyplot-coordinates-Cartesian\" id=\"t442b4ee6e47449d0a6f7da367de186e9\"><clipPath id=\"t0c8f78b514ed4e8f9de8564f3c4fc1f6\"><rect x=\"35.0\" y=\"35.0\" width=\"230.0\" height=\"205.0\"></rect></clipPath><g clip-path=\"url(#t0c8f78b514ed4e8f9de8564f3c4fc1f6)\"><g class=\"toytree-mark-Toytree\" id=\"t0bf6caa7d9354c538c0b6b3a47e6de93\"><g class=\"toytree-Edges\" style=\"stroke:rgb(14.5%,14.5%,14.5%);stroke-opacity:1.0;stroke-linecap:round;stroke-width:2.0;fill:none\"><path d=\"M 159.3 197.0 L 159.3 216.8 L 210.6 216.8\" id=\"5,0\" style=\"\"></path><path d=\"M 159.3 197.0 L 159.3 177.2 L 210.6 177.2\" id=\"5,1\" style=\"\"></path><path d=\"M 108.1 167.3 L 108.1 137.5 L 210.6 137.5\" id=\"6,2\" style=\"\"></path><path d=\"M 108.1 78.0 L 108.1 97.8 L 210.6 97.8\" id=\"7,3\" style=\"\"></path><path d=\"M 108.1 78.0 L 108.1 58.2 L 210.6 58.2\" id=\"7,4\" style=\"\"></path><path d=\"M 108.1 167.3 L 108.1 197.0 L 159.3 197.0\" id=\"6,5\" style=\"\"></path><path d=\"M 56.9 122.6 L 56.9 167.3 L 108.1 167.3\" id=\"8,6\" style=\"\"></path><path d=\"M 56.9 122.6 L 56.9 78.0 L 108.1 78.0\" id=\"8,7\" style=\"\"></path></g><g class=\"toytree-AdmixEdges\" style=\"fill:rgb(0.0%,0.0%,0.0%);fill-opacity:0.0;stroke:rgb(90.6%,54.1%,76.5%);stroke-opacity:0.6;font-size:14px;stroke-linecap:round;stroke-width:5\"></g><g class=\"toytree-Nodes\" style=\"fill:rgb(40.0%,76.1%,64.7%);fill-opacity:1.0;stroke:rgb(14.9%,14.9%,14.9%);stroke-opacity:1.0;stroke-width:1.5\"><g id=\"Node-0\" style=\"fill:rgb(100.0%,0.0%,0.0%)\" transform=\"translate(210.562,216.839)\"><circle r=\"7.5\"></circle></g><g id=\"Node-1\" style=\"fill:rgb(100.0%,0.0%,0.0%)\" transform=\"translate(210.562,177.17)\"><circle r=\"7.5\"></circle></g><g id=\"Node-2\" style=\"fill:rgb(100.0%,0.0%,0.0%)\" transform=\"translate(210.562,137.5)\"><circle r=\"7.5\"></circle></g><g id=\"Node-3\" style=\"fill:rgb(0.0%,0.0%,100.0%)\" transform=\"translate(210.562,97.8303)\"><circle r=\"7.5\"></circle></g><g id=\"Node-4\" style=\"fill:rgb(0.0%,0.0%,100.0%)\" transform=\"translate(210.562,58.1606)\"><circle r=\"7.5\"></circle></g><g id=\"Node-5\" style=\"fill:rgb(100.0%,0.0%,0.0%)\" transform=\"translate(159.346,197.005)\"><circle r=\"7.5\"></circle></g><g id=\"Node-6\" style=\"fill:rgb(100.0%,0.0%,0.0%)\" transform=\"translate(108.13,167.252)\"><circle r=\"7.5\"></circle></g><g id=\"Node-7\" style=\"fill:rgb(0.0%,0.0%,100.0%)\" transform=\"translate(108.13,77.9955)\"><circle r=\"7.5\"></circle></g><g id=\"Node-8\" style=\"fill:rgb(0.0%,0.0%,100.0%)\" transform=\"translate(56.9141,122.624)\"><circle r=\"7.5\"></circle></g></g><g class=\"toytree-TipLabels\" style=\"fill:rgb(14.5%,14.5%,14.5%);fill-opacity:1.0;font-family:Helvetica;font-size:12px;font-weight:300;vertical-align:baseline;white-space:pre;stroke:none\"><g class=\"toytree-TipLabel\" transform=\"translate(210.562,216.839)\"><text x=\"15.0\" y=\"3.066\" style=\"fill:rgb(14.5%,14.5%,14.5%);fill-opacity:1.0\">r0</text></g><g class=\"toytree-TipLabel\" transform=\"translate(210.562,177.17)\"><text x=\"15.0\" y=\"3.066\" style=\"fill:rgb(14.5%,14.5%,14.5%);fill-opacity:1.0\">r1</text></g><g class=\"toytree-TipLabel\" transform=\"translate(210.562,137.5)\"><text x=\"15.0\" y=\"3.066\" style=\"fill:rgb(14.5%,14.5%,14.5%);fill-opacity:1.0\">r2</text></g><g class=\"toytree-TipLabel\" transform=\"translate(210.562,97.8303)\"><text x=\"15.0\" y=\"3.066\" style=\"fill:rgb(14.5%,14.5%,14.5%);fill-opacity:1.0\">r3</text></g><g class=\"toytree-TipLabel\" transform=\"translate(210.562,58.1606)\"><text x=\"15.0\" y=\"3.066\" style=\"fill:rgb(14.5%,14.5%,14.5%);fill-opacity:1.0\">r4</text></g></g></g></g></g></svg><div class=\"toyplot-behavior\"><script>(function()\n",
       "{\n",
       "var modules={};\n",
       "})();</script></div></div>"
      ]
     },
     "metadata": {},
     "output_type": "display_data"
    }
   ],
   "source": [
    "# draw the tree entering node colors using the \"C\" discrete data feature\n",
    "tree.draw(node_sizes=15, node_mask=False, node_colors=\"C\");"
   ]
  },
  {
   "cell_type": "code",
   "execution_count": 10,
   "id": "9fe9d4b6-4cf3-4288-92f0-c0715610f5d5",
   "metadata": {},
   "outputs": [
    {
     "data": {
      "text/plain": [
       "(array(['A', 'B'], dtype='<U1'), array([0, 0, 0, 1, 1, 0, 0, 1, 1]))"
      ]
     },
     "execution_count": 10,
     "metadata": {},
     "output_type": "execute_result"
    }
   ],
   "source": [
    "cvalues = tree.get_node_data(\"A\").values\n",
    "cvalues = [str(i) for i in cvalues]\n",
    "cvalues = [\"~~\" + i if i == \"nan\" else i for i in cvalues]\n",
    "\n",
    "np.unique(cvalues, return_inverse=True)"
   ]
  },
  {
   "cell_type": "code",
   "execution_count": 11,
   "id": "2e8ec38c-bb96-452f-a168-25c43e87f1f0",
   "metadata": {},
   "outputs": [],
   "source": [
    "import toyplot\n",
    "cmap = toyplot.color.brewer.map(\"Spectral\")"
   ]
  },
  {
   "cell_type": "code",
   "execution_count": 12,
   "id": "1b2eda2c-277b-40c1-b757-5abe4ded7760",
   "metadata": {},
   "outputs": [
    {
     "data": {
      "text/html": [
       "<div class=\"toyplot\" id=\"t4906dfdc33b44f5186f318ab175f92dd\" style=\"text-align:center\"><svg class=\"toyplot-canvas-Canvas\" xmlns:toyplot=\"http://www.sandia.gov/toyplot\" xmlns:xlink=\"http://www.w3.org/1999/xlink\" xmlns=\"http://www.w3.org/2000/svg\" width=\"300.0px\" height=\"275.0px\" viewBox=\"0 0 300.0 275.0\" preserveAspectRatio=\"xMidYMid meet\" style=\"background-color:transparent;border-color:#292724;border-style:none;border-width:1.0;fill:rgb(16.1%,15.3%,14.1%);fill-opacity:1.0;font-family:Helvetica;font-size:12px;opacity:1.0;stroke:rgb(16.1%,15.3%,14.1%);stroke-opacity:1.0;stroke-width:1.0\" id=\"td484cfe2431c4374a9dc5cd8213d5511\"><g class=\"toyplot-coordinates-Cartesian\" id=\"ta57be5b151d6415b8d96c6df70a3d2e1\"><clipPath id=\"t2718bdec6df64ce1abe8de6e646f4fd1\"><rect x=\"35.0\" y=\"35.0\" width=\"230.0\" height=\"205.0\"></rect></clipPath><g clip-path=\"url(#t2718bdec6df64ce1abe8de6e646f4fd1)\"><g class=\"toytree-mark-Toytree\" id=\"t67bbb4ac018b41e791f43eb8c8570f37\"><g class=\"toytree-Edges\" style=\"stroke:rgb(14.5%,14.5%,14.5%);stroke-opacity:1.0;stroke-linecap:round;stroke-width:2.0;fill:none\"><path d=\"M 159.3 197.0 L 159.3 216.8 L 210.6 216.8\" id=\"5,0\" style=\"\"></path><path d=\"M 159.3 197.0 L 159.3 177.2 L 210.6 177.2\" id=\"5,1\" style=\"\"></path><path d=\"M 108.1 167.3 L 108.1 137.5 L 210.6 137.5\" id=\"6,2\" style=\"\"></path><path d=\"M 108.1 78.0 L 108.1 97.8 L 210.6 97.8\" id=\"7,3\" style=\"\"></path><path d=\"M 108.1 78.0 L 108.1 58.2 L 210.6 58.2\" id=\"7,4\" style=\"\"></path><path d=\"M 108.1 167.3 L 108.1 197.0 L 159.3 197.0\" id=\"6,5\" style=\"\"></path><path d=\"M 56.9 122.6 L 56.9 167.3 L 108.1 167.3\" id=\"8,6\" style=\"\"></path><path d=\"M 56.9 122.6 L 56.9 78.0 L 108.1 78.0\" id=\"8,7\" style=\"\"></path></g><g class=\"toytree-AdmixEdges\" style=\"fill:rgb(0.0%,0.0%,0.0%);fill-opacity:0.0;stroke:rgb(90.6%,54.1%,76.5%);stroke-opacity:0.6;font-size:14px;stroke-linecap:round;stroke-width:5\"></g><g class=\"toytree-Nodes\" style=\"fill:rgb(40.0%,76.1%,64.7%);fill-opacity:1.0;stroke:rgb(14.9%,14.9%,14.9%);stroke-opacity:1.0;stroke-width:1.5\"><g id=\"Node-0\" style=\"fill:rgb(74.9%,89.9%,62.7%)\" transform=\"translate(210.562,216.839)\"><circle r=\"7.5\"></circle></g><g id=\"Node-1\" style=\"fill:rgb(99.4%,79.6%,47.6%)\" transform=\"translate(210.562,177.17)\"><circle r=\"7.5\"></circle></g><g id=\"Node-2\" style=\"fill:rgb(31.3%,66.4%,68.7%)\" transform=\"translate(210.562,137.5)\"><circle r=\"7.5\"></circle></g><g id=\"Node-3\" style=\"fill:rgb(59.5%,83.7%,64.4%)\" transform=\"translate(210.562,97.8303)\"><circle r=\"7.5\"></circle></g><g id=\"Node-4\" style=\"fill:rgb(49.1%,79.7%,64.6%)\" transform=\"translate(210.562,58.1606)\"><circle r=\"7.5\"></circle></g><g id=\"Node-5\" style=\"fill:rgb(99.3%,73.3%,42.3%)\" transform=\"translate(159.346,197.005)\"><circle r=\"7.5\"></circle></g><g id=\"Node-6\" style=\"fill:rgb(62.0%,0.4%,25.9%)\" transform=\"translate(108.13,167.252)\"><circle r=\"7.5\"></circle></g><g id=\"Node-7\" style=\"fill:rgb(31.7%,66.8%,68.5%)\" transform=\"translate(108.13,77.9955)\"><circle r=\"7.5\"></circle></g><g id=\"Node-8\" style=\"fill:rgb(36.9%,31.0%,63.5%)\" transform=\"translate(56.9141,122.624)\"><circle r=\"7.5\"></circle></g></g><g class=\"toytree-TipLabels\" style=\"fill:rgb(14.5%,14.5%,14.5%);fill-opacity:1.0;font-family:Helvetica;font-size:12px;font-weight:300;vertical-align:baseline;white-space:pre;stroke:none\"><g class=\"toytree-TipLabel\" transform=\"translate(210.562,216.839)\"><text x=\"15.0\" y=\"3.066\" style=\"fill:rgb(14.5%,14.5%,14.5%);fill-opacity:1.0\">r0</text></g><g class=\"toytree-TipLabel\" transform=\"translate(210.562,177.17)\"><text x=\"15.0\" y=\"3.066\" style=\"fill:rgb(14.5%,14.5%,14.5%);fill-opacity:1.0\">r1</text></g><g class=\"toytree-TipLabel\" transform=\"translate(210.562,137.5)\"><text x=\"15.0\" y=\"3.066\" style=\"fill:rgb(14.5%,14.5%,14.5%);fill-opacity:1.0\">r2</text></g><g class=\"toytree-TipLabel\" transform=\"translate(210.562,97.8303)\"><text x=\"15.0\" y=\"3.066\" style=\"fill:rgb(14.5%,14.5%,14.5%);fill-opacity:1.0\">r3</text></g><g class=\"toytree-TipLabel\" transform=\"translate(210.562,58.1606)\"><text x=\"15.0\" y=\"3.066\" style=\"fill:rgb(14.5%,14.5%,14.5%);fill-opacity:1.0\">r4</text></g></g></g></g></g></svg><div class=\"toyplot-behavior\"><script>(function()\n",
       "{\n",
       "var modules={};\n",
       "})();</script></div></div>"
      ]
     },
     "metadata": {},
     "output_type": "display_data"
    }
   ],
   "source": [
    "# draw the tree entering node colors using the \"C\" discrete data feature\n",
    "tree.draw(node_sizes=15, node_mask=False, node_colors=\"D\");"
   ]
  },
  {
   "cell_type": "code",
   "execution_count": 14,
   "id": "af73d76c-da5b-47a7-9870-fb96dab56949",
   "metadata": {},
   "outputs": [
    {
     "data": {
      "text/html": [
       "<div class=\"toyplot\" id=\"tb56de8af5b9e47b7bca8e3a2a59e425f\" style=\"text-align:center\"><svg class=\"toyplot-canvas-Canvas\" xmlns:toyplot=\"http://www.sandia.gov/toyplot\" xmlns:xlink=\"http://www.w3.org/1999/xlink\" xmlns=\"http://www.w3.org/2000/svg\" width=\"300.0px\" height=\"275.0px\" viewBox=\"0 0 300.0 275.0\" preserveAspectRatio=\"xMidYMid meet\" style=\"background-color:transparent;border-color:#292724;border-style:none;border-width:1.0;fill:rgb(16.1%,15.3%,14.1%);fill-opacity:1.0;font-family:Helvetica;font-size:12px;opacity:1.0;stroke:rgb(16.1%,15.3%,14.1%);stroke-opacity:1.0;stroke-width:1.0\" id=\"t0256923ae37246b084a7cc686635f5e6\"><g class=\"toyplot-coordinates-Cartesian\" id=\"t7c3943a1be4f4cdeae616c6a5b27ca6f\"><clipPath id=\"tede0cc70096d4de69b365286322ced63\"><rect x=\"35.0\" y=\"35.0\" width=\"230.0\" height=\"205.0\"></rect></clipPath><g clip-path=\"url(#tede0cc70096d4de69b365286322ced63)\"><g class=\"toytree-mark-Toytree\" id=\"t9242a00937904feaa45e114f2948a34f\"><g class=\"toytree-Edges\" style=\"stroke:rgb(14.5%,14.5%,14.5%);stroke-opacity:1.0;stroke-linecap:round;stroke-width:2.0;fill:none\"><path d=\"M 159.3 197.0 L 159.3 216.8 L 210.6 216.8\" id=\"5,0\" style=\"\"></path><path d=\"M 159.3 197.0 L 159.3 177.2 L 210.6 177.2\" id=\"5,1\" style=\"\"></path><path d=\"M 108.1 167.3 L 108.1 137.5 L 210.6 137.5\" id=\"6,2\" style=\"\"></path><path d=\"M 108.1 78.0 L 108.1 97.8 L 210.6 97.8\" id=\"7,3\" style=\"\"></path><path d=\"M 108.1 78.0 L 108.1 58.2 L 210.6 58.2\" id=\"7,4\" style=\"\"></path><path d=\"M 108.1 167.3 L 108.1 197.0 L 159.3 197.0\" id=\"6,5\" style=\"\"></path><path d=\"M 56.9 122.6 L 56.9 167.3 L 108.1 167.3\" id=\"8,6\" style=\"\"></path><path d=\"M 56.9 122.6 L 56.9 78.0 L 108.1 78.0\" id=\"8,7\" style=\"\"></path></g><g class=\"toytree-AdmixEdges\" style=\"fill:rgb(0.0%,0.0%,0.0%);fill-opacity:0.0;stroke:rgb(90.6%,54.1%,76.5%);stroke-opacity:0.6;font-size:14px;stroke-linecap:round;stroke-width:5\"></g><g class=\"toytree-Nodes\" style=\"fill:rgb(40.0%,76.1%,64.7%);fill-opacity:1.0;stroke:rgb(14.9%,14.9%,14.9%);stroke-opacity:1.0;stroke-width:1.5\"><g id=\"Node-0\" style=\"fill:rgb(74.9%,89.9%,62.7%)\" transform=\"translate(210.562,216.839)\"><circle r=\"7.5\"></circle></g><g id=\"Node-1\" style=\"fill:rgb(99.4%,79.6%,47.6%)\" transform=\"translate(210.562,177.17)\"><circle r=\"7.5\"></circle></g><g id=\"Node-2\" style=\"fill:rgb(31.3%,66.4%,68.7%)\" transform=\"translate(210.562,137.5)\"><circle r=\"7.5\"></circle></g><g id=\"Node-3\" style=\"fill:rgb(59.5%,83.7%,64.4%)\" transform=\"translate(210.562,97.8303)\"><circle r=\"7.5\"></circle></g><g id=\"Node-4\" style=\"fill:rgb(49.1%,79.7%,64.6%)\" transform=\"translate(210.562,58.1606)\"><circle r=\"7.5\"></circle></g><g id=\"Node-5\" style=\"fill:rgb(99.3%,73.3%,42.3%)\" transform=\"translate(159.346,197.005)\"><circle r=\"7.5\"></circle></g><g id=\"Node-6\" style=\"fill:rgb(62.0%,0.4%,25.9%)\" transform=\"translate(108.13,167.252)\"><circle r=\"7.5\"></circle></g><g id=\"Node-7\" style=\"fill:rgb(31.7%,66.8%,68.5%)\" transform=\"translate(108.13,77.9955)\"><circle r=\"7.5\"></circle></g><g id=\"Node-8\" style=\"fill:rgb(36.9%,31.0%,63.5%)\" transform=\"translate(56.9141,122.624)\"><circle r=\"7.5\"></circle></g></g><g class=\"toytree-TipLabels\" style=\"fill:rgb(14.5%,14.5%,14.5%);fill-opacity:1.0;font-family:Helvetica;font-size:12px;font-weight:300;vertical-align:baseline;white-space:pre;stroke:none\"><g class=\"toytree-TipLabel\" transform=\"translate(210.562,216.839)\"><text x=\"15.0\" y=\"3.066\" style=\"fill:rgb(14.5%,14.5%,14.5%);fill-opacity:1.0\">r0</text></g><g class=\"toytree-TipLabel\" transform=\"translate(210.562,177.17)\"><text x=\"15.0\" y=\"3.066\" style=\"fill:rgb(14.5%,14.5%,14.5%);fill-opacity:1.0\">r1</text></g><g class=\"toytree-TipLabel\" transform=\"translate(210.562,137.5)\"><text x=\"15.0\" y=\"3.066\" style=\"fill:rgb(14.5%,14.5%,14.5%);fill-opacity:1.0\">r2</text></g><g class=\"toytree-TipLabel\" transform=\"translate(210.562,97.8303)\"><text x=\"15.0\" y=\"3.066\" style=\"fill:rgb(14.5%,14.5%,14.5%);fill-opacity:1.0\">r3</text></g><g class=\"toytree-TipLabel\" transform=\"translate(210.562,58.1606)\"><text x=\"15.0\" y=\"3.066\" style=\"fill:rgb(14.5%,14.5%,14.5%);fill-opacity:1.0\">r4</text></g></g></g></g></g></svg><div class=\"toyplot-behavior\"><script>(function()\n",
       "{\n",
       "var modules={};\n",
       "})();</script></div></div>"
      ]
     },
     "metadata": {},
     "output_type": "display_data"
    }
   ],
   "source": [
    "# draw the tree entering node colors using the \"C\" discrete data feature\n",
    "tree.draw(node_sizes=15, node_mask=False, node_colors=(\"D\", \"Spectral\"));"
   ]
  },
  {
   "cell_type": "code",
   "execution_count": null,
   "id": "0e2b158a-d016-4942-8b29-c20eddaaf135",
   "metadata": {},
   "outputs": [],
   "source": []
  }
 ],
 "metadata": {
  "kernelspec": {
   "display_name": "Python 3 (ipykernel)",
   "language": "python",
   "name": "python3"
  },
  "language_info": {
   "codemirror_mode": {
    "name": "ipython",
    "version": 3
   },
   "file_extension": ".py",
   "mimetype": "text/x-python",
   "name": "python",
   "nbconvert_exporter": "python",
   "pygments_lexer": "ipython3",
   "version": "3.10.12"
  }
 },
 "nbformat": 4,
 "nbformat_minor": 5
}
