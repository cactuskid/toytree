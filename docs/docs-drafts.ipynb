{
 "cells": [
  {
   "cell_type": "markdown",
   "metadata": {},
   "source": [
    "# Enum Subpackage Documentation"
   ]
  },
  {
   "cell_type": "markdown",
   "metadata": {},
   "source": [
    "## Bipartitions"
   ]
  },
  {
   "cell_type": "markdown",
   "metadata": {},
   "source": [
    "   \"\"\"Generator of bipartitions (Nodes on either side of edges).\n",
    "\n",
    "    Bipartitions represent the splits in a tree. Many algorithms compare\n",
    "    tips (or internal Nodes) on either side of each split to compute\n",
    "    metrics on trees. This function aims to provide a flexible and fast\n",
    "    framework for yielding bipartitions in various formats.\n",
    "\n",
    "    Notes\n",
    "    -----\n",
    "    - Bipartitions are generated in Node idx traversal order.\n",
    "    - Bipartitions are formatted as a tuple of two items, each of\n",
    "    which is referred to as a partition.\n",
    "    - The order of partitions, e.g. (part1, part2) can be toggled using\n",
    "    the argument `sort`.\n",
    "    - The type used to represent a partition can be toggled using the\n",
    "    argument `type`. Common formats are `set` or `tuple`.\n",
    "\n",
    "    Parameters\n",
    "    ----------\n",
    "    feature: str\n",
    "        Feature to return to represent Nodes on either side of a\n",
    "        bipartition. Default is \"name\". None will return Node objects.\n",
    "        Any other Node feature, such as \"idx\" can also be used. Note\n",
    "        the feature arg does not affect the order in which partitions\n",
    "        or bipartitions are returned/sorted (see `sort` argument below).\n",
    "    include_singleton_partitions: bool\n",
    "        If True then singleton splits (e.g., (A | B,C,D)) are included\n",
    "        in the result. By default these are excluded since it is\n",
    "        implicit that one exists for every tip Node in a tree.\n",
    "    include_internal_nodes: bool\n",
    "        Default is to only show tip Nodes on either side of a\n",
    "        bipartition, but internal Nodes can be included as well. In\n",
    "        this case the results are easier to interpret if the returned\n",
    "        values have unique features (e.g., feature=None or 'idx').\n",
    "    type: Callable\n",
    "        The type of collection used to represent a partition. Default\n",
    "        is `set` to return a tuple of sets, but another useful option\n",
    "        is `tuple`, which returns a tuple of tuples. The latter\n",
    "        collection can be converted into a set of bipartitions.\n",
    "    sort: bool\n",
    "        If False, bipartitions are returned as (child, parent) order\n",
    "        given the topology and rooting in Node idx order traversal. If\n",
    "        sort=True, bipartitions are instead always sorted first by len,\n",
    "        e.g., (fewer, longer) and if the same len, then next by the\n",
    "        lowest alphanumeric tip name, e.g., ({'a', 'b'}, {'c', 'd'}).\n",
    "        If the requested partition `type` is sortable (i.e., not a set)\n",
    "        then items within a partition are also consistently sorted.\n"
   ]
  },
  {
   "cell_type": "markdown",
   "metadata": {},
   "source": [
    "### Example - Expressing bipartitions in dataframes"
   ]
  },
  {
   "cell_type": "markdown",
   "metadata": {},
   "source": [
    "In this example, a `toytree` object taking a simple newick string is split into bipartitions, which are then printed as a `multitree` object."
   ]
  },
  {
   "cell_type": "code",
   "execution_count": null,
   "metadata": {},
   "outputs": [],
   "source": [
    "import toytree"
   ]
  },
  {
   "cell_type": "code",
   "execution_count": null,
   "metadata": {},
   "outputs": [
    {
     "data": {
      "text/plain": [
       "(<toyplot.canvas.Canvas at 0x22f43df4740>,\n",
       " <toyplot.coordinates.Cartesian at 0x22f440e73b0>,\n",
       " <toytree.drawing.src.mark_toytree.ToyTreeMark at 0x22f43926e70>)"
      ]
     },
     "metadata": {},
     "output_type": "display_data"
    },
    {
     "data": {
      "text/html": [
       "<div class=\"toyplot\" id=\"t5858a3ebeb4d4c2083a8fc6d7572f84e\" style=\"text-align:center\"><svg class=\"toyplot-canvas-Canvas\" xmlns:toyplot=\"http://www.sandia.gov/toyplot\" xmlns:xlink=\"http://www.w3.org/1999/xlink\" xmlns=\"http://www.w3.org/2000/svg\" width=\"300.0px\" height=\"275.0px\" viewBox=\"0 0 300.0 275.0\" preserveAspectRatio=\"xMidYMid meet\" style=\"background-color:transparent;border-color:#292724;border-style:none;border-width:1.0;fill:rgb(16.1%,15.3%,14.1%);fill-opacity:1.0;font-family:Helvetica;font-size:12px;opacity:1.0;stroke:rgb(16.1%,15.3%,14.1%);stroke-opacity:1.0;stroke-width:1.0\" id=\"t78b511dfecff44f5a7c260f59419eb8c\"><g class=\"toyplot-coordinates-Cartesian\" id=\"t1683ee18b1d44865b20f22ed66417f6d\"><clipPath id=\"tde04cea2a7f74c0eb835461e5aefc328\"><rect x=\"35.0\" y=\"35.0\" width=\"230.0\" height=\"205.0\"></rect></clipPath><g clip-path=\"url(#tde04cea2a7f74c0eb835461e5aefc328)\"><g class=\"toytree-mark-Toytree\" id=\"ta32c01f075bf493081c3ffc1275c4900\"><g class=\"toytree-Edges\" style=\"stroke:rgb(14.5%,14.5%,14.5%);stroke-opacity:1.0;stroke-linecap:round;stroke-width:2.0;fill:none\"><path d=\"M 50.8 169.8 L 50.8 218.3 L 105.4 218.3\" id=\"9,0\" style=\"\"></path><path d=\"M 50.8 169.8 L 50.8 186.0 L 105.4 186.0\" id=\"9,1\" style=\"\"></path><path d=\"M 160.0 137.5 L 160.0 153.7 L 214.5 153.7\" id=\"6,2\" style=\"\"></path><path d=\"M 160.0 137.5 L 160.0 121.3 L 214.5 121.3\" id=\"6,3\" style=\"\"></path><path d=\"M 160.0 72.8 L 160.0 89.0 L 214.5 89.0\" id=\"7,4\" style=\"\"></path><path d=\"M 160.0 72.8 L 160.0 56.7 L 214.5 56.7\" id=\"7,5\" style=\"\"></path><path d=\"M 105.4 105.2 L 105.4 137.5 L 160.0 137.5\" id=\"8,6\" style=\"\"></path><path d=\"M 105.4 105.2 L 105.4 72.8 L 160.0 72.8\" id=\"8,7\" style=\"\"></path><path d=\"M 50.8 169.8 L 50.8 105.2 L 105.4 105.2\" id=\"9,8\" style=\"\"></path></g><g class=\"toytree-AdmixEdges\" style=\"fill:rgb(0.0%,0.0%,0.0%);fill-opacity:0.0;stroke:rgb(90.6%,54.1%,76.5%);stroke-opacity:0.6;font-size:14px;stroke-linecap:round;stroke-width:5\"></g><g class=\"toytree-Nodes\" style=\"fill:rgb(40.0%,76.1%,64.7%);fill-opacity:1.0;stroke:rgb(14.9%,14.9%,14.9%);stroke-opacity:1.0;stroke-width:1.5\"></g><g class=\"toytree-TipLabels\" style=\"fill:rgb(14.5%,14.5%,14.5%);fill-opacity:1.0;font-family:Helvetica;font-size:12px;font-weight:300;vertical-align:baseline;white-space:pre;stroke:none\"><g class=\"toytree-TipLabel\" transform=\"translate(105.386,218.347)\"><text x=\"15.0\" y=\"3.066\" style=\"fill:rgb(14.5%,14.5%,14.5%);fill-opacity:1.0\">a</text></g><g class=\"toytree-TipLabel\" transform=\"translate(105.386,186.008)\"><text x=\"15.0\" y=\"3.066\" style=\"fill:rgb(14.5%,14.5%,14.5%);fill-opacity:1.0\">b</text></g><g class=\"toytree-TipLabel\" transform=\"translate(214.522,153.669)\"><text x=\"15.0\" y=\"3.066\" style=\"fill:rgb(14.5%,14.5%,14.5%);fill-opacity:1.0\">c</text></g><g class=\"toytree-TipLabel\" transform=\"translate(214.522,121.331)\"><text x=\"15.0\" y=\"3.066\" style=\"fill:rgb(14.5%,14.5%,14.5%);fill-opacity:1.0\">d</text></g><g class=\"toytree-TipLabel\" transform=\"translate(214.522,88.9916)\"><text x=\"15.0\" y=\"3.066\" style=\"fill:rgb(14.5%,14.5%,14.5%);fill-opacity:1.0\">e</text></g><g class=\"toytree-TipLabel\" transform=\"translate(214.522,56.6526)\"><text x=\"15.0\" y=\"3.066\" style=\"fill:rgb(14.5%,14.5%,14.5%);fill-opacity:1.0\">f</text></g></g></g></g></g></svg><div class=\"toyplot-behavior\"><script>(function()\n",
       "{\n",
       "var modules={};\n",
       "})();</script></div></div>"
      ]
     },
     "metadata": {},
     "output_type": "display_data"
    }
   ],
   "source": [
    "#draw initial tree\n",
    "tree = toytree.tree(\"(a,b,((c,d)CD,(e,f)EF)X)AB;\")\n",
    "tree.draw()"
   ]
  },
  {
   "cell_type": "code",
   "execution_count": null,
   "metadata": {},
   "outputs": [
    {
     "name": "stdout",
     "output_type": "stream",
     "text": [
      "[({<Node(idx=2, name='c')>, <Node(idx=3, name='d')>}, {<Node(idx=0, name='a')>, <Node(idx=5, name='f')>, <Node(idx=1, name='b')>, <Node(idx=4, name='e')>}), ({<Node(idx=5, name='f')>, <Node(idx=4, name='e')>}, {<Node(idx=0, name='a')>, <Node(idx=2, name='c')>, <Node(idx=1, name='b')>, <Node(idx=3, name='d')>}), ({<Node(idx=5, name='f')>, <Node(idx=2, name='c')>, <Node(idx=3, name='d')>, <Node(idx=4, name='e')>}, {<Node(idx=0, name='a')>, <Node(idx=1, name='b')>})]\n"
     ]
    }
   ],
   "source": [
    "#make multitree from bipartitions\n",
    "bipartitions = tree.enum.iter_bipartitions(feature=None)\n",
    "bipartitions_list = list(bipartitions)\n",
    "print(bipartitions_list)"
   ]
  },
  {
   "cell_type": "markdown",
   "metadata": {},
   "source": [
    "### Quartets"
   ]
  },
  {
   "cell_type": "markdown",
   "metadata": {},
   "source": [
    "Generators to sample quartets of tips from a tree.\n",
    "\n",
    "The primary function `iter_quartets` can be used as a generator to\n",
    "yield quartet subtrees from a larger tree. This function is quite\n",
    "fast and includes options for sorting the output, and transforming\n",
    "its format to return Node objects, names, or any arbitrary feature\n",
    "of Nodes. See examples.\n",
    "\n",
    "Methods\n",
    "-------\n",
    "Get fast unordered sets of all combinations of 4 tip Nodes in a tree\n",
    ">>> tree.enum._iter_unresolved_quartet_sets()   # {0, 1, 2, 3}, ...\n",
    "\n",
    "Get name-ordered tuples of Nodes for each quartet induced by bipartitions in a tree.\n",
    ">>> tree.enum.iter_quartets()                   # ((0, 1), (2, 3)), ...\n",
    "\n",
    "See Also\n",
    "--------\n",
    "Get number of quartets induced by the splits in a tree.\n",
    ">>> tree.enum.get_n_quartets()                  # 5\n",
    "\n",
    "Format\n",
    "------\n",
    "Quartets represent a sample from a bipartition or quadripartition\n",
    "where there is a split, e.g. `AB|CD`, separating to sets of items.\n",
    "The order of the items within each partition of the quartet is not\n",
    "often of interest, but it is nice to have a consistent sort option in\n",
    "case it is useful.\n",
    "\n",
    "Supported:\n",
    "- ({'a', 'b'}, {'c', 'd'})  # type=set, collapse=False; sort affects order of p1,p2\n",
    "- (('a', 'b'), ('c', 'd'))  # type=tuple, collapse=False; sort affects order of p1,p2 and within each p\n",
    "- ('a', 'b', 'c', 'd')      # type=tuple, collapse=True; same as above, imagine middle split is still there.\n",
    "\n",
    "Not supported:\n",
    "- ({'a', 'b', 'c', 'd'})    # type=set, collapse=True; split info lost.\n",
    "\"\"\"\n",
    "\n",
    "=============================================================\n",
    "\n",
    "\n",
    "Generator to yield quartets induced by edges in a tree.\n",
    "\n",
    "    This yields all quartets (4-sample subtrees) that exist within\n",
    "    a larger tree. The set of possible quartets is not affected by\n",
    "    tree rooting, but is affected by collapsed edges (polytomies),\n",
    "    which reduce the number of quartets.\n",
    "\n",
    "    Quartets are returned as Tuple[Node, Node, Node, Node], or Tuple\n",
    "    of the requested features of Nodes, where e.g. ('a', 'b', 'c', 'd')\n",
    "    implies the quartet `ab|cd`. The order in which quartets are\n",
    "    yielded depends on the topology and rooting, and is in Node idx\n",
    "    traversal order, where the first two Nodes are below the edge, and\n",
    "    the second two above. This can be changed to a consistent name\n",
    "    sorted order for each split partition using `sort=True`.\n",
    "\n",
    "    Parameters\n",
    "    ----------\n",
    "    feature: str\n",
    "        Feature used to represent Nodes on either side of bipartitions.\n",
    "        Default is \"name\". None will return Node objects. Other Node\n",
    "        features can be used but be aware if using quartets to compare\n",
    "        among trees that 'idx' changes depending on topology, and other\n",
    "        features may not be unique among Nodes.\n",
    "    type: Callable\n",
    "        The type of collection used to represent a partition. Default\n",
    "        is `set` to return a tuple of sets, but another useful option\n",
    "        is `tuple`, which returns a tuple of tuples.\n",
    "    sort: bool\n",
    "        If False, quartets are returned with Nodes spanning edges as\n",
    "        (below, below, above, above) in idx traversal order given the\n",
    "        topology and rooting. If sort=True, partitions are instead\n",
    "        always sorted alphanumerically within and between partitions.\n",
    "    collapse: bool\n",
    "        If True then quartets are returned as a single tuple, e.g.,\n",
    "        (0, 1, 2, 3), else they are returned as a tuple of tuples,\n",
    "        e.g., ((0, 1), (2, 3)). In either case, the induced split is\n",
    "        implied to occur in the middle, e.g., 0,1 vs 2,3. Collapse arg\n",
    "        cannot be combined with type=set.\n",
    "    quadripartition: bool\n",
    "        If True then quartets are only returned that are induced by\n",
    "        quadripartitite splits in a the tree. This is a subset of the\n",
    "        quartets induced by bipartitions, since the tip Nodes must come\n",
    "        from four different clades from each edge/split."
   ]
  },
  {
   "cell_type": "code",
   "execution_count": null,
   "metadata": {},
   "outputs": [],
   "source": [
    "#asdf"
   ]
  },
  {
   "cell_type": "markdown",
   "metadata": {},
   "source": [
    "### Quadripartitions  \n",
    "\n"
   ]
  },
  {
   "cell_type": "code",
   "execution_count": null,
   "metadata": {},
   "outputs": [],
   "source": [
    "#asdf"
   ]
  },
  {
   "cell_type": "markdown",
   "metadata": {},
   "source": [
    "asdf"
   ]
  },
  {
   "cell_type": "code",
   "execution_count": null,
   "metadata": {},
   "outputs": [],
   "source": [
    "#asdf"
   ]
  },
  {
   "cell_type": "markdown",
   "metadata": {},
   "source": [
    "# Mod subpackage documentation"
   ]
  },
  {
   "cell_type": "markdown",
   "metadata": {},
   "source": [
    "### Merging nodes  \n",
    "\n",
    "`merge_nodes()` takes a user-inputted merge method and selection method and uses it to discard at least one tip and one internal Node while keeping one child Node. The remaining child Node inherets its parent's distance.\n",
    "\n",
    "The `merge_method=` argument has two kinds of possible inputs:  \n",
    "1. A function that returns `True` if a node _should_ be merged\n",
    "2. A feature name/value for which a Node will be merged if _all_ descendant leaves share the _same_ feature name/value  \n",
    "\n",
    "The `selection_method=` argument takes a function that returns a _single_ `Node` from a collection of Nodes. By default, this uses the `min()` function, returning the lowest indexed Node. "
   ]
  },
  {
   "cell_type": "code",
   "execution_count": null,
   "metadata": {},
   "outputs": [
    {
     "ename": "AttributeError",
     "evalue": "'TreeModAPI' object has no attribute 'merge_nodes'",
     "output_type": "error",
     "traceback": [
      "\u001b[1;31m---------------------------------------------------------------------------\u001b[0m\n",
      "\u001b[1;31mAttributeError\u001b[0m                            Traceback (most recent call last)\n",
      "Cell \u001b[1;32mIn[236], line 6\u001b[0m\n",
      "\u001b[0;32m      4\u001b[0m tree1 \u001b[38;5;241m=\u001b[39m tree\u001b[38;5;241m.\u001b[39mmod\u001b[38;5;241m.\u001b[39madd_internal_node_and_child(\u001b[38;5;124m\"\u001b[39m\u001b[38;5;124mr1\u001b[39m\u001b[38;5;124m\"\u001b[39m, name\u001b[38;5;241m=\u001b[39m\u001b[38;5;124m\"\u001b[39m\u001b[38;5;124mr1\u001b[39m\u001b[38;5;124m\"\u001b[39m)\n",
      "\u001b[0;32m      5\u001b[0m \u001b[38;5;66;03m# merge nodes with identical leaf names.\u001b[39;00m\n",
      "\u001b[1;32m----> 6\u001b[0m tree2 \u001b[38;5;241m=\u001b[39m tree1\u001b[38;5;241m.\u001b[39mmod\u001b[38;5;241m.\u001b[39mmerge_nodes(\u001b[38;5;124m\"\u001b[39m\u001b[38;5;124mname\u001b[39m\u001b[38;5;124m\"\u001b[39m)\n",
      "\u001b[0;32m      7\u001b[0m \u001b[38;5;66;03m# more verbose example to do the same\u001b[39;00m\n",
      "\u001b[0;32m      8\u001b[0m merge_method \u001b[38;5;241m=\u001b[39m \u001b[38;5;28;01mlambda\u001b[39;00m x: \u001b[38;5;28mlen\u001b[39m(\u001b[38;5;28mset\u001b[39m(x\u001b[38;5;241m.\u001b[39miter_leaf_names())) \u001b[38;5;241m==\u001b[39m \u001b[38;5;241m1\u001b[39m\n",
      "\n",
      "\u001b[1;31mAttributeError\u001b[0m: 'TreeModAPI' object has no attribute 'merge_nodes'"
     ]
    }
   ],
   "source": [
    "import toytree  \n",
    "\n",
    "tree = toytree.rtree.unittree(5, seed=123)\n",
    "tree1 = tree.mod.add_internal_node_and_child(\"r1\", name=\"r1\")\n",
    "# merge nodes with identical leaf names.\n",
    "tree2 = tree1.mod.merge_nodes(\"name\")\n",
    "# more verbose example to do the same\n",
    "merge_method = lambda x: len(set(x.iter_leaf_names())) == 1\n",
    "tree2 = tree1.mod.merge_nodes(merge_method)\n",
    "toytree.mtree([tree1, tree2]).draw();"
   ]
  },
  {
   "cell_type": "markdown",
   "metadata": {},
   "source": [
    "# Distance Subpackage Documentation"
   ]
  },
  {
   "cell_type": "markdown",
   "metadata": {},
   "source": [
    "# Distance & Dissimilarity Functions  \n"
   ]
  },
  {
   "cell_type": "markdown",
   "metadata": {},
   "source": [
    "\n",
    "\n",
    "The toytree _.distance_ subpackage has two main purposes: (1) to provide the user with efficient methods to measure or describe paths between nodes in a tree, and (2) to provide many methods of describing dissimilarities between two trees. All dissimilarity metrics currently implemented are quantified by quartet and bipartition differences, which are explained in  [tree distances](/toytree/tree-distance/). \n",
    "\n"
   ]
  },
  {
   "cell_type": "markdown",
   "metadata": {},
   "source": [
    "\n",
    "## Node-level distances  \n",
    "\n",
    "The functions provided to study node-level distances are generally provided as `get_` and `iter_` functions. `get_` functions return paths or distances as tuples, dictionaries, or matrices while `iter_` functions are iterable generators. All currently implemented node-level distance functions are shown with examples below.  \n",
    "\n",
    "Distances can generally be described by `patristic distance` (default), or the sum of the lengths of edges in the shortest path between two nodes, or by `toplogical distance`, or simply the number of edges separating two nodes. For topological distance, use `toplogy_only=True`"
   ]
  },
  {
   "cell_type": "markdown",
   "metadata": {},
   "source": [
    "### Node Paths"
   ]
  },
  {
   "cell_type": "code",
   "execution_count": 1,
   "metadata": {},
   "outputs": [
    {
     "data": {
      "text/html": [
       "<div class=\"toyplot\" id=\"tb4bccb284ad1432a9a4561fcc6f1d59b\" style=\"text-align:center\"><svg class=\"toyplot-canvas-Canvas\" xmlns:toyplot=\"http://www.sandia.gov/toyplot\" xmlns:xlink=\"http://www.w3.org/1999/xlink\" xmlns=\"http://www.w3.org/2000/svg\" width=\"300.0px\" height=\"449.59999999999997px\" viewBox=\"0 0 300.0 449.59999999999997\" preserveAspectRatio=\"xMidYMid meet\" style=\"background-color:transparent;border-color:#292724;border-style:none;border-width:1.0;fill:rgb(16.1%,15.3%,14.1%);fill-opacity:1.0;font-family:Helvetica;font-size:12px;opacity:1.0;stroke:rgb(16.1%,15.3%,14.1%);stroke-opacity:1.0;stroke-width:1.0\" id=\"ta67c528b96f541e3bf238fadf58a2c3d\"><g class=\"toyplot-coordinates-Cartesian\" id=\"tad3155ef7c344e59a6fc423f4bace46a\"><clipPath id=\"t4d490acba56e41a9833fa99470e2e492\"><rect x=\"35.0\" y=\"35.0\" width=\"230.0\" height=\"379.59999999999997\"></rect></clipPath><g clip-path=\"url(#t4d490acba56e41a9833fa99470e2e492)\"><g class=\"toytree-mark-Toytree\" id=\"tb6827aa068c64461989fc67796d87ef0\"><g class=\"toytree-Edges\" style=\"stroke:rgb(14.5%,14.5%,14.5%);stroke-opacity:1.0;stroke-linecap:round;stroke-width:2.0;fill:none\"><path d=\"M 215.2 379.5 L 215.2 390.6 L 241.3 390.6\" id=\"16,0\" style=\"\"></path><path d=\"M 215.2 379.5 L 215.2 368.5 L 241.3 368.5\" id=\"16,1\" style=\"\"></path><path d=\"M 189.1 363.0 L 189.1 346.4 L 241.3 346.4\" id=\"17,2\" style=\"\"></path><path d=\"M 163.0 343.6 L 163.0 324.3 L 241.3 324.3\" id=\"18,3\" style=\"\"></path><path d=\"M 189.1 285.6 L 189.1 302.2 L 241.3 302.2\" id=\"20,4\" style=\"\"></path><path d=\"M 215.2 269.0 L 215.2 280.1 L 241.3 280.1\" id=\"19,5\" style=\"\"></path><path d=\"M 215.2 269.0 L 215.2 258.0 L 241.3 258.0\" id=\"19,6\" style=\"\"></path><path d=\"M 215.2 224.8 L 215.2 235.9 L 241.3 235.9\" id=\"22,7\" style=\"\"></path><path d=\"M 215.2 224.8 L 215.2 213.7 L 241.3 213.7\" id=\"22,8\" style=\"\"></path><path d=\"M 189.1 175.1 L 189.1 191.6 L 241.3 191.6\" id=\"25,9\" style=\"\"></path><path d=\"M 215.2 158.5 L 215.2 169.5 L 241.3 169.5\" id=\"24,10\" style=\"\"></path><path d=\"M 215.2 158.5 L 215.2 147.4 L 241.3 147.4\" id=\"24,11\" style=\"\"></path><path d=\"M 215.2 114.3 L 215.2 125.3 L 241.3 125.3\" id=\"26,12\" style=\"\"></path><path d=\"M 215.2 114.3 L 215.2 103.2 L 241.3 103.2\" id=\"26,13\" style=\"\"></path><path d=\"M 215.2 70.1 L 215.2 81.1 L 241.3 81.1\" id=\"29,14\" style=\"\"></path><path d=\"M 215.2 70.1 L 215.2 59.0 L 241.3 59.0\" id=\"29,15\" style=\"\"></path><path d=\"M 189.1 363.0 L 189.1 379.5 L 215.2 379.5\" id=\"17,16\" style=\"\"></path><path d=\"M 163.0 343.6 L 163.0 363.0 L 189.1 363.0\" id=\"18,17\" style=\"\"></path><path d=\"M 137.0 314.6 L 137.0 343.6 L 163.0 343.6\" id=\"21,18\" style=\"\"></path><path d=\"M 189.1 285.6 L 189.1 269.0 L 215.2 269.0\" id=\"20,19\" style=\"\"></path><path d=\"M 137.0 314.6 L 137.0 285.6 L 189.1 285.6\" id=\"21,20\" style=\"\"></path><path d=\"M 110.9 269.7 L 110.9 314.6 L 137.0 314.6\" id=\"23,21\" style=\"\"></path><path d=\"M 110.9 269.7 L 110.9 224.8 L 215.2 224.8\" id=\"23,22\" style=\"\"></path><path d=\"M 84.8 207.2 L 84.8 269.7 L 110.9 269.7\" id=\"28,23\" style=\"\"></path><path d=\"M 189.1 175.1 L 189.1 158.5 L 215.2 158.5\" id=\"25,24\" style=\"\"></path><path d=\"M 163.0 144.7 L 163.0 175.1 L 189.1 175.1\" id=\"27,25\" style=\"\"></path><path d=\"M 163.0 144.7 L 163.0 114.3 L 215.2 114.3\" id=\"27,26\" style=\"\"></path><path d=\"M 84.8 207.2 L 84.8 144.7 L 163.0 144.7\" id=\"28,27\" style=\"\"></path><path d=\"M 58.7 138.6 L 58.7 207.2 L 84.8 207.2\" id=\"30,28\" style=\"\"></path><path d=\"M 58.7 138.6 L 58.7 70.1 L 215.2 70.1\" id=\"30,29\" style=\"\"></path></g><g class=\"toytree-AdmixEdges\" style=\"fill:rgb(0.0%,0.0%,0.0%);fill-opacity:0.0;stroke:rgb(90.6%,54.1%,76.5%);stroke-opacity:0.6;font-size:14px;stroke-linecap:round;stroke-width:5\"></g><g class=\"toytree-Nodes\" style=\"fill:rgb(82.7%,82.7%,82.7%);fill-opacity:1.0;stroke:rgb(14.5%,14.5%,14.5%);stroke-opacity:1.0;stroke-width:1.5\"><g id=\"Node-0\" transform=\"translate(241.324,390.59)\"><circle r=\"8.0\"></circle></g><g id=\"Node-1\" transform=\"translate(241.324,368.484)\"><circle r=\"8.0\"></circle></g><g id=\"Node-2\" transform=\"translate(241.324,346.379)\"><circle r=\"8.0\"></circle></g><g id=\"Node-3\" transform=\"translate(241.324,324.274)\"><circle r=\"8.0\"></circle></g><g id=\"Node-4\" transform=\"translate(241.324,302.169)\"><circle r=\"8.0\"></circle></g><g id=\"Node-5\" transform=\"translate(241.324,280.063)\"><circle r=\"8.0\"></circle></g><g id=\"Node-6\" transform=\"translate(241.324,257.958)\"><circle r=\"8.0\"></circle></g><g id=\"Node-7\" transform=\"translate(241.324,235.853)\"><circle r=\"8.0\"></circle></g><g id=\"Node-8\" transform=\"translate(241.324,213.747)\"><circle r=\"8.0\"></circle></g><g id=\"Node-9\" transform=\"translate(241.324,191.642)\"><circle r=\"8.0\"></circle></g><g id=\"Node-10\" transform=\"translate(241.324,169.537)\"><circle r=\"8.0\"></circle></g><g id=\"Node-11\" transform=\"translate(241.324,147.431)\"><circle r=\"8.0\"></circle></g><g id=\"Node-12\" transform=\"translate(241.324,125.326)\"><circle r=\"8.0\"></circle></g><g id=\"Node-13\" transform=\"translate(241.324,103.221)\"><circle r=\"8.0\"></circle></g><g id=\"Node-14\" transform=\"translate(241.324,81.1156)\"><circle r=\"8.0\"></circle></g><g id=\"Node-15\" transform=\"translate(241.324,59.0103)\"><circle r=\"8.0\"></circle></g><g id=\"Node-16\" transform=\"translate(215.232,379.537)\"><circle r=\"8.0\"></circle></g><g id=\"Node-17\" transform=\"translate(189.139,362.958)\"><circle r=\"8.0\"></circle></g><g id=\"Node-18\" transform=\"translate(163.046,343.616)\"><circle r=\"8.0\"></circle></g><g id=\"Node-19\" transform=\"translate(215.232,269.011)\"><circle r=\"8.0\"></circle></g><g id=\"Node-20\" transform=\"translate(189.139,285.59)\"><circle r=\"8.0\"></circle></g><g id=\"Node-21\" transform=\"translate(136.954,314.603)\"><circle r=\"8.0\"></circle></g><g id=\"Node-22\" transform=\"translate(215.232,224.8)\"><circle r=\"8.0\"></circle></g><g id=\"Node-23\" transform=\"translate(110.861,269.701)\"><circle r=\"8.0\"></circle></g><g id=\"Node-24\" transform=\"translate(215.232,158.484)\"><circle r=\"8.0\"></circle></g><g id=\"Node-25\" transform=\"translate(189.139,175.063)\"><circle r=\"8.0\"></circle></g><g id=\"Node-26\" transform=\"translate(215.232,114.274)\"><circle r=\"8.0\"></circle></g><g id=\"Node-27\" transform=\"translate(163.046,144.668)\"><circle r=\"8.0\"></circle></g><g id=\"Node-28\" transform=\"translate(84.7684,207.185)\"><circle r=\"8.0\"></circle></g><g id=\"Node-29\" transform=\"translate(215.232,70.063)\"><circle r=\"8.0\"></circle></g><g id=\"Node-30\" transform=\"translate(58.6758,138.624)\"><circle r=\"8.0\"></circle></g></g><g class=\"toytree-NodeLabels\" style=\"font-family:Helvetica;font-size:9px;font-weight:300;vertical-align:baseline;white-space:pre;stroke:none\"><g class=\"toytree-NodeLabel\" transform=\"translate(241.324,390.59)\"><text x=\"-2.5020000000000002\" y=\"2.2995\" style=\"fill:rgb(14.5%,14.5%,14.5%);fill-opacity:1.0\">0</text></g><g class=\"toytree-NodeLabel\" transform=\"translate(241.324,368.484)\"><text x=\"-2.5020000000000002\" y=\"2.2995\" style=\"fill:rgb(14.5%,14.5%,14.5%);fill-opacity:1.0\">1</text></g><g class=\"toytree-NodeLabel\" transform=\"translate(241.324,346.379)\"><text x=\"-2.5020000000000002\" y=\"2.2995\" style=\"fill:rgb(14.5%,14.5%,14.5%);fill-opacity:1.0\">2</text></g><g class=\"toytree-NodeLabel\" transform=\"translate(241.324,324.274)\"><text x=\"-2.5020000000000002\" y=\"2.2995\" style=\"fill:rgb(14.5%,14.5%,14.5%);fill-opacity:1.0\">3</text></g><g class=\"toytree-NodeLabel\" transform=\"translate(241.324,302.169)\"><text x=\"-2.5020000000000002\" y=\"2.2995\" style=\"fill:rgb(14.5%,14.5%,14.5%);fill-opacity:1.0\">4</text></g><g class=\"toytree-NodeLabel\" transform=\"translate(241.324,280.063)\"><text x=\"-2.5020000000000002\" y=\"2.2995\" style=\"fill:rgb(14.5%,14.5%,14.5%);fill-opacity:1.0\">5</text></g><g class=\"toytree-NodeLabel\" transform=\"translate(241.324,257.958)\"><text x=\"-2.5020000000000002\" y=\"2.2995\" style=\"fill:rgb(14.5%,14.5%,14.5%);fill-opacity:1.0\">6</text></g><g class=\"toytree-NodeLabel\" transform=\"translate(241.324,235.853)\"><text x=\"-2.5020000000000002\" y=\"2.2995\" style=\"fill:rgb(14.5%,14.5%,14.5%);fill-opacity:1.0\">7</text></g><g class=\"toytree-NodeLabel\" transform=\"translate(241.324,213.747)\"><text x=\"-2.5020000000000002\" y=\"2.2995\" style=\"fill:rgb(14.5%,14.5%,14.5%);fill-opacity:1.0\">8</text></g><g class=\"toytree-NodeLabel\" transform=\"translate(241.324,191.642)\"><text x=\"-2.5020000000000002\" y=\"2.2995\" style=\"fill:rgb(14.5%,14.5%,14.5%);fill-opacity:1.0\">9</text></g><g class=\"toytree-NodeLabel\" transform=\"translate(241.324,169.537)\"><text x=\"-5.0040000000000004\" y=\"2.2995\" style=\"fill:rgb(14.5%,14.5%,14.5%);fill-opacity:1.0\">10</text></g><g class=\"toytree-NodeLabel\" transform=\"translate(241.324,147.431)\"><text x=\"-5.0040000000000004\" y=\"2.2995\" style=\"fill:rgb(14.5%,14.5%,14.5%);fill-opacity:1.0\">11</text></g><g class=\"toytree-NodeLabel\" transform=\"translate(241.324,125.326)\"><text x=\"-5.0040000000000004\" y=\"2.2995\" style=\"fill:rgb(14.5%,14.5%,14.5%);fill-opacity:1.0\">12</text></g><g class=\"toytree-NodeLabel\" transform=\"translate(241.324,103.221)\"><text x=\"-5.0040000000000004\" y=\"2.2995\" style=\"fill:rgb(14.5%,14.5%,14.5%);fill-opacity:1.0\">13</text></g><g class=\"toytree-NodeLabel\" transform=\"translate(241.324,81.1156)\"><text x=\"-5.0040000000000004\" y=\"2.2995\" style=\"fill:rgb(14.5%,14.5%,14.5%);fill-opacity:1.0\">14</text></g><g class=\"toytree-NodeLabel\" transform=\"translate(241.324,59.0103)\"><text x=\"-5.0040000000000004\" y=\"2.2995\" style=\"fill:rgb(14.5%,14.5%,14.5%);fill-opacity:1.0\">15</text></g><g class=\"toytree-NodeLabel\" transform=\"translate(215.232,379.537)\"><text x=\"-5.0040000000000004\" y=\"2.2995\" style=\"fill:rgb(14.5%,14.5%,14.5%);fill-opacity:1.0\">16</text></g><g class=\"toytree-NodeLabel\" transform=\"translate(189.139,362.958)\"><text x=\"-5.0040000000000004\" y=\"2.2995\" style=\"fill:rgb(14.5%,14.5%,14.5%);fill-opacity:1.0\">17</text></g><g class=\"toytree-NodeLabel\" transform=\"translate(163.046,343.616)\"><text x=\"-5.0040000000000004\" y=\"2.2995\" style=\"fill:rgb(14.5%,14.5%,14.5%);fill-opacity:1.0\">18</text></g><g class=\"toytree-NodeLabel\" transform=\"translate(215.232,269.011)\"><text x=\"-5.0040000000000004\" y=\"2.2995\" style=\"fill:rgb(14.5%,14.5%,14.5%);fill-opacity:1.0\">19</text></g><g class=\"toytree-NodeLabel\" transform=\"translate(189.139,285.59)\"><text x=\"-5.0040000000000004\" y=\"2.2995\" style=\"fill:rgb(14.5%,14.5%,14.5%);fill-opacity:1.0\">20</text></g><g class=\"toytree-NodeLabel\" transform=\"translate(136.954,314.603)\"><text x=\"-5.0040000000000004\" y=\"2.2995\" style=\"fill:rgb(14.5%,14.5%,14.5%);fill-opacity:1.0\">21</text></g><g class=\"toytree-NodeLabel\" transform=\"translate(215.232,224.8)\"><text x=\"-5.0040000000000004\" y=\"2.2995\" style=\"fill:rgb(14.5%,14.5%,14.5%);fill-opacity:1.0\">22</text></g><g class=\"toytree-NodeLabel\" transform=\"translate(110.861,269.701)\"><text x=\"-5.0040000000000004\" y=\"2.2995\" style=\"fill:rgb(14.5%,14.5%,14.5%);fill-opacity:1.0\">23</text></g><g class=\"toytree-NodeLabel\" transform=\"translate(215.232,158.484)\"><text x=\"-5.0040000000000004\" y=\"2.2995\" style=\"fill:rgb(14.5%,14.5%,14.5%);fill-opacity:1.0\">24</text></g><g class=\"toytree-NodeLabel\" transform=\"translate(189.139,175.063)\"><text x=\"-5.0040000000000004\" y=\"2.2995\" style=\"fill:rgb(14.5%,14.5%,14.5%);fill-opacity:1.0\">25</text></g><g class=\"toytree-NodeLabel\" transform=\"translate(215.232,114.274)\"><text x=\"-5.0040000000000004\" y=\"2.2995\" style=\"fill:rgb(14.5%,14.5%,14.5%);fill-opacity:1.0\">26</text></g><g class=\"toytree-NodeLabel\" transform=\"translate(163.046,144.668)\"><text x=\"-5.0040000000000004\" y=\"2.2995\" style=\"fill:rgb(14.5%,14.5%,14.5%);fill-opacity:1.0\">27</text></g><g class=\"toytree-NodeLabel\" transform=\"translate(84.7684,207.185)\"><text x=\"-5.0040000000000004\" y=\"2.2995\" style=\"fill:rgb(14.5%,14.5%,14.5%);fill-opacity:1.0\">28</text></g><g class=\"toytree-NodeLabel\" transform=\"translate(215.232,70.063)\"><text x=\"-5.0040000000000004\" y=\"2.2995\" style=\"fill:rgb(14.5%,14.5%,14.5%);fill-opacity:1.0\">29</text></g><g class=\"toytree-NodeLabel\" transform=\"translate(58.6758,138.624)\"><text x=\"-5.0040000000000004\" y=\"2.2995\" style=\"fill:rgb(14.5%,14.5%,14.5%);fill-opacity:1.0\">30</text></g></g></g></g></g></svg><div class=\"toyplot-behavior\"><script>(function()\n",
       "{\n",
       "var modules={};\n",
       "})();</script></div></div>"
      ]
     },
     "metadata": {},
     "output_type": "display_data"
    }
   ],
   "source": [
    "import toytree\n",
    "\n",
    "#generate random topology with 16 tips\n",
    "tree = toytree.rtree.rtree(ntips=16)\n",
    "\n",
    "#draw to show all internal nodes\n",
    "tree.draw(ts = 's', tip_labels = False, node_labels = 'idx');"
   ]
  },
  {
   "cell_type": "markdown",
   "metadata": {},
   "source": [
    "`get_node_path` returns a list of Nodes connecting two queried Nodes of a tree(including at ends)."
   ]
  },
  {
   "cell_type": "code",
   "execution_count": 2,
   "metadata": {},
   "outputs": [
    {
     "data": {
      "text/plain": [
       "(<Node(idx=15, name='r15')>,\n",
       " <Node(idx=29)>,\n",
       " <Node(idx=30)>,\n",
       " <Node(idx=28)>,\n",
       " <Node(idx=23)>,\n",
       " <Node(idx=21)>,\n",
       " <Node(idx=18)>,\n",
       " <Node(idx=17)>,\n",
       " <Node(idx=16)>,\n",
       " <Node(idx=0, name='r0')>)"
      ]
     },
     "execution_count": 2,
     "metadata": {},
     "output_type": "execute_result"
    }
   ],
   "source": [
    "toytree.distance.get_node_path(tree, 15, 0)"
   ]
  },
  {
   "cell_type": "markdown",
   "metadata": {},
   "source": [
    "And `iter_node_path` is the iterative generator version."
   ]
  },
  {
   "cell_type": "code",
   "execution_count": 3,
   "metadata": {},
   "outputs": [
    {
     "name": "stdout",
     "output_type": "stream",
     "text": [
      "15\n",
      "29\n",
      "30\n",
      "28\n",
      "23\n",
      "21\n",
      "18\n",
      "17\n",
      "16\n",
      "0\n"
     ]
    }
   ],
   "source": [
    "from toytree.distance import iter_node_path\n",
    "\n",
    "for node in iter_node_path(tree, 15, 0):\n",
    "    print(node.idx)"
   ]
  },
  {
   "cell_type": "markdown",
   "metadata": {},
   "source": [
    "### Node Distances"
   ]
  },
  {
   "cell_type": "code",
   "execution_count": 4,
   "metadata": {},
   "outputs": [
    {
     "data": {
      "text/html": [
       "<div class=\"toyplot\" id=\"t412dcf78895b416bb410b3461bc19e2a\" style=\"text-align:center\"><svg class=\"toyplot-canvas-Canvas\" xmlns:toyplot=\"http://www.sandia.gov/toyplot\" xmlns:xlink=\"http://www.w3.org/1999/xlink\" xmlns=\"http://www.w3.org/2000/svg\" width=\"458.268px\" height=\"362.2px\" viewBox=\"0 0 458.268 362.2\" preserveAspectRatio=\"xMidYMid meet\" style=\"background-color:transparent;border-color:#292724;border-style:none;border-width:1.0;fill:rgb(16.1%,15.3%,14.1%);fill-opacity:1.0;font-family:Helvetica;font-size:12px;opacity:1.0;stroke:rgb(16.1%,15.3%,14.1%);stroke-opacity:1.0;stroke-width:1.0\" id=\"t7d4fe63f90fa4e079f1fb054211f721c\"><g class=\"toyplot-coordinates-Cartesian\" id=\"t1107a68949bc412c8f8463879a42ee08\"><clipPath id=\"t5e5d3ec0686840258b5fbb08c871d5e5\"><rect x=\"35.0\" y=\"35.0\" width=\"388.268\" height=\"292.2\"></rect></clipPath><g clip-path=\"url(#t5e5d3ec0686840258b5fbb08c871d5e5)\"><g class=\"toytree-mark-Toytree\" id=\"t20570e214e784d56b1cf73de0cb7a62b\"><g class=\"toytree-Edges\" style=\"stroke:rgb(14.5%,14.5%,14.5%);stroke-opacity:1.0;stroke-linecap:round;stroke-width:2.0;fill:none\"><path d=\"M 194.8 286.7 L 194.8 303.3 L 250.7 303.3\" id=\"13,0\" style=\"\"></path><path d=\"M 222.8 270.0 L 222.8 281.1 L 250.7 281.1\" id=\"12,1\" style=\"\"></path><path d=\"M 222.8 270.0 L 222.8 258.9 L 250.7 258.9\" id=\"12,2\" style=\"\"></path><path d=\"M 139.0 192.2 L 139.0 236.7 L 250.7 236.7\" id=\"19,3\" style=\"\"></path><path d=\"M 222.8 203.3 L 222.8 214.4 L 250.7 214.4\" id=\"14,4\" style=\"\"></path><path d=\"M 222.8 203.3 L 222.8 192.2 L 250.7 192.2\" id=\"14,5\" style=\"\"></path><path d=\"M 222.8 158.9 L 222.8 170.0 L 250.7 170.0\" id=\"15,6\" style=\"\"></path><path d=\"M 222.8 158.9 L 222.8 147.8 L 250.7 147.8\" id=\"15,7\" style=\"\"></path><path d=\"M 222.8 114.4 L 222.8 125.5 L 250.7 125.5\" id=\"17,8\" style=\"\"></path><path d=\"M 222.8 114.4 L 222.8 103.3 L 250.7 103.3\" id=\"17,9\" style=\"\"></path><path d=\"M 111.0 136.6 L 111.0 81.1 L 250.7 81.1\" id=\"20,10\" style=\"\"></path><path d=\"M 55.2 135.3 L 55.2 58.9 L 250.7 58.9\" id=\"22,11\" style=\"\"></path><path d=\"M 194.8 286.7 L 194.8 270.0 L 222.8 270.0\" id=\"13,12\" style=\"\"></path><path d=\"M 83.1 211.7 L 83.1 286.7 L 194.8 286.7\" id=\"21,13\" style=\"\"></path><path d=\"M 194.8 181.1 L 194.8 203.3 L 222.8 203.3\" id=\"16,14\" style=\"\"></path><path d=\"M 194.8 181.1 L 194.8 158.9 L 222.8 158.9\" id=\"16,15\" style=\"\"></path><path d=\"M 166.9 147.8 L 166.9 181.1 L 194.8 181.1\" id=\"18,16\" style=\"\"></path><path d=\"M 166.9 147.8 L 166.9 114.4 L 222.8 114.4\" id=\"18,17\" style=\"\"></path><path d=\"M 139.0 192.2 L 139.0 147.8 L 166.9 147.8\" id=\"19,18\" style=\"\"></path><path d=\"M 111.0 136.6 L 111.0 192.2 L 139.0 192.2\" id=\"20,19\" style=\"\"></path><path d=\"M 83.1 211.7 L 83.1 136.6 L 111.0 136.6\" id=\"21,20\" style=\"\"></path><path d=\"M 55.2 135.3 L 55.2 211.7 L 83.1 211.7\" id=\"22,21\" style=\"\"></path></g><g class=\"toytree-AdmixEdges\" style=\"fill:rgb(0.0%,0.0%,0.0%);fill-opacity:0.0;stroke:rgb(90.6%,54.1%,76.5%);stroke-opacity:0.6;font-size:14px;stroke-linecap:round;stroke-width:5\"></g><g class=\"toytree-Nodes\" style=\"fill:rgb(82.7%,82.7%,82.7%);fill-opacity:1.0;stroke:rgb(14.5%,14.5%,14.5%);stroke-opacity:1.0;stroke-width:1.5\"><g id=\"Node-0\" transform=\"translate(250.689,303.342)\"><circle r=\"8.0\"></circle></g><g id=\"Node-1\" transform=\"translate(250.689,281.116)\"><circle r=\"8.0\"></circle></g><g id=\"Node-2\" transform=\"translate(250.689,258.89)\"><circle r=\"8.0\"></circle></g><g id=\"Node-3\" transform=\"translate(250.689,236.664)\"><circle r=\"8.0\"></circle></g><g id=\"Node-4\" transform=\"translate(250.689,214.439)\"><circle r=\"8.0\"></circle></g><g id=\"Node-5\" transform=\"translate(250.689,192.213)\"><circle r=\"8.0\"></circle></g><g id=\"Node-6\" transform=\"translate(250.689,169.987)\"><circle r=\"8.0\"></circle></g><g id=\"Node-7\" transform=\"translate(250.689,147.761)\"><circle r=\"8.0\"></circle></g><g id=\"Node-8\" transform=\"translate(250.689,125.536)\"><circle r=\"8.0\"></circle></g><g id=\"Node-9\" transform=\"translate(250.689,103.31)\"><circle r=\"8.0\"></circle></g><g id=\"Node-10\" transform=\"translate(250.689,81.0839)\"><circle r=\"8.0\"></circle></g><g id=\"Node-11\" transform=\"translate(250.689,58.8581)\"><circle r=\"8.0\"></circle></g><g id=\"Node-12\" transform=\"translate(222.76,270.003)\"><circle r=\"8.0\"></circle></g><g id=\"Node-13\" transform=\"translate(194.83,286.673)\"><circle r=\"8.0\"></circle></g><g id=\"Node-14\" transform=\"translate(222.76,203.326)\"><circle r=\"8.0\"></circle></g><g id=\"Node-15\" transform=\"translate(222.76,158.874)\"><circle r=\"8.0\"></circle></g><g id=\"Node-16\" transform=\"translate(194.83,181.1)\"><circle r=\"8.0\"></circle></g><g id=\"Node-17\" transform=\"translate(222.76,114.423)\"><circle r=\"8.0\"></circle></g><g id=\"Node-18\" transform=\"translate(166.901,147.761)\"><circle r=\"8.0\"></circle></g><g id=\"Node-19\" transform=\"translate(138.972,192.213)\"><circle r=\"8.0\"></circle></g><g id=\"Node-20\" transform=\"translate(111.043,136.648)\"><circle r=\"8.0\"></circle></g><g id=\"Node-21\" transform=\"translate(83.1134,211.66)\"><circle r=\"8.0\"></circle></g><g id=\"Node-22\" transform=\"translate(55.1841,135.259)\"><circle r=\"8.0\"></circle></g></g><g class=\"toytree-NodeLabels\" style=\"font-family:Helvetica;font-size:9px;font-weight:300;vertical-align:baseline;white-space:pre;stroke:none\"><g class=\"toytree-NodeLabel\" transform=\"translate(250.689,303.342)\"><text x=\"-2.5020000000000002\" y=\"2.2995\" style=\"fill:rgb(14.5%,14.5%,14.5%);fill-opacity:1.0\">0</text></g><g class=\"toytree-NodeLabel\" transform=\"translate(250.689,281.116)\"><text x=\"-2.5020000000000002\" y=\"2.2995\" style=\"fill:rgb(14.5%,14.5%,14.5%);fill-opacity:1.0\">1</text></g><g class=\"toytree-NodeLabel\" transform=\"translate(250.689,258.89)\"><text x=\"-2.5020000000000002\" y=\"2.2995\" style=\"fill:rgb(14.5%,14.5%,14.5%);fill-opacity:1.0\">2</text></g><g class=\"toytree-NodeLabel\" transform=\"translate(250.689,236.664)\"><text x=\"-2.5020000000000002\" y=\"2.2995\" style=\"fill:rgb(14.5%,14.5%,14.5%);fill-opacity:1.0\">3</text></g><g class=\"toytree-NodeLabel\" transform=\"translate(250.689,214.439)\"><text x=\"-2.5020000000000002\" y=\"2.2995\" style=\"fill:rgb(14.5%,14.5%,14.5%);fill-opacity:1.0\">4</text></g><g class=\"toytree-NodeLabel\" transform=\"translate(250.689,192.213)\"><text x=\"-2.5020000000000002\" y=\"2.2995\" style=\"fill:rgb(14.5%,14.5%,14.5%);fill-opacity:1.0\">5</text></g><g class=\"toytree-NodeLabel\" transform=\"translate(250.689,169.987)\"><text x=\"-2.5020000000000002\" y=\"2.2995\" style=\"fill:rgb(14.5%,14.5%,14.5%);fill-opacity:1.0\">6</text></g><g class=\"toytree-NodeLabel\" transform=\"translate(250.689,147.761)\"><text x=\"-2.5020000000000002\" y=\"2.2995\" style=\"fill:rgb(14.5%,14.5%,14.5%);fill-opacity:1.0\">7</text></g><g class=\"toytree-NodeLabel\" transform=\"translate(250.689,125.536)\"><text x=\"-2.5020000000000002\" y=\"2.2995\" style=\"fill:rgb(14.5%,14.5%,14.5%);fill-opacity:1.0\">8</text></g><g class=\"toytree-NodeLabel\" transform=\"translate(250.689,103.31)\"><text x=\"-2.5020000000000002\" y=\"2.2995\" style=\"fill:rgb(14.5%,14.5%,14.5%);fill-opacity:1.0\">9</text></g><g class=\"toytree-NodeLabel\" transform=\"translate(250.689,81.0839)\"><text x=\"-5.0040000000000004\" y=\"2.2995\" style=\"fill:rgb(14.5%,14.5%,14.5%);fill-opacity:1.0\">10</text></g><g class=\"toytree-NodeLabel\" transform=\"translate(250.689,58.8581)\"><text x=\"-5.0040000000000004\" y=\"2.2995\" style=\"fill:rgb(14.5%,14.5%,14.5%);fill-opacity:1.0\">11</text></g><g class=\"toytree-NodeLabel\" transform=\"translate(222.76,270.003)\"><text x=\"-5.0040000000000004\" y=\"2.2995\" style=\"fill:rgb(14.5%,14.5%,14.5%);fill-opacity:1.0\">12</text></g><g class=\"toytree-NodeLabel\" transform=\"translate(194.83,286.673)\"><text x=\"-5.0040000000000004\" y=\"2.2995\" style=\"fill:rgb(14.5%,14.5%,14.5%);fill-opacity:1.0\">13</text></g><g class=\"toytree-NodeLabel\" transform=\"translate(222.76,203.326)\"><text x=\"-5.0040000000000004\" y=\"2.2995\" style=\"fill:rgb(14.5%,14.5%,14.5%);fill-opacity:1.0\">14</text></g><g class=\"toytree-NodeLabel\" transform=\"translate(222.76,158.874)\"><text x=\"-5.0040000000000004\" y=\"2.2995\" style=\"fill:rgb(14.5%,14.5%,14.5%);fill-opacity:1.0\">15</text></g><g class=\"toytree-NodeLabel\" transform=\"translate(194.83,181.1)\"><text x=\"-5.0040000000000004\" y=\"2.2995\" style=\"fill:rgb(14.5%,14.5%,14.5%);fill-opacity:1.0\">16</text></g><g class=\"toytree-NodeLabel\" transform=\"translate(222.76,114.423)\"><text x=\"-5.0040000000000004\" y=\"2.2995\" style=\"fill:rgb(14.5%,14.5%,14.5%);fill-opacity:1.0\">17</text></g><g class=\"toytree-NodeLabel\" transform=\"translate(166.901,147.761)\"><text x=\"-5.0040000000000004\" y=\"2.2995\" style=\"fill:rgb(14.5%,14.5%,14.5%);fill-opacity:1.0\">18</text></g><g class=\"toytree-NodeLabel\" transform=\"translate(138.972,192.213)\"><text x=\"-5.0040000000000004\" y=\"2.2995\" style=\"fill:rgb(14.5%,14.5%,14.5%);fill-opacity:1.0\">19</text></g><g class=\"toytree-NodeLabel\" transform=\"translate(111.043,136.648)\"><text x=\"-5.0040000000000004\" y=\"2.2995\" style=\"fill:rgb(14.5%,14.5%,14.5%);fill-opacity:1.0\">20</text></g><g class=\"toytree-NodeLabel\" transform=\"translate(83.1134,211.66)\"><text x=\"-5.0040000000000004\" y=\"2.2995\" style=\"fill:rgb(14.5%,14.5%,14.5%);fill-opacity:1.0\">21</text></g><g class=\"toytree-NodeLabel\" transform=\"translate(55.1841,135.259)\"><text x=\"-5.0040000000000004\" y=\"2.2995\" style=\"fill:rgb(14.5%,14.5%,14.5%);fill-opacity:1.0\">22</text></g></g><g class=\"toytree-TipLabels\" style=\"fill:rgb(14.5%,14.5%,14.5%);fill-opacity:1.0;font-family:Helvetica;font-size:12px;font-weight:300;vertical-align:baseline;white-space:pre;stroke:none\"><g class=\"toytree-TipLabel\" transform=\"translate(250.689,303.342)\"><text x=\"15.0\" y=\"3.066\" style=\"fill:rgb(14.5%,14.5%,14.5%);fill-opacity:1.0\">Sambucus_nigra</text></g><g class=\"toytree-TipLabel\" transform=\"translate(250.689,281.116)\"><text x=\"15.0\" y=\"3.066\" style=\"fill:rgb(14.5%,14.5%,14.5%);fill-opacity:1.0\">Arctostaphylos_viscida</text></g><g class=\"toytree-TipLabel\" transform=\"translate(250.689,258.89)\"><text x=\"15.0\" y=\"3.066\" style=\"fill:rgb(14.5%,14.5%,14.5%);fill-opacity:1.0\">Arctostaphylos_patula</text></g><g class=\"toytree-TipLabel\" transform=\"translate(250.689,236.664)\"><text x=\"15.0\" y=\"3.066\" style=\"fill:rgb(14.5%,14.5%,14.5%);fill-opacity:1.0\">Lupinus_sparsiflorus</text></g><g class=\"toytree-TipLabel\" transform=\"translate(250.689,214.439)\"><text x=\"15.0\" y=\"3.066\" style=\"fill:rgb(14.5%,14.5%,14.5%);fill-opacity:1.0\">Ceanothus_leucodermis</text></g><g class=\"toytree-TipLabel\" transform=\"translate(250.689,192.213)\"><text x=\"15.0\" y=\"3.066\" style=\"fill:rgb(14.5%,14.5%,14.5%);fill-opacity:1.0\">Ceanothus_cuneatus</text></g><g class=\"toytree-TipLabel\" transform=\"translate(250.689,169.987)\"><text x=\"15.0\" y=\"3.066\" style=\"fill:rgb(14.5%,14.5%,14.5%);fill-opacity:1.0\">Frangula_rubra</text></g><g class=\"toytree-TipLabel\" transform=\"translate(250.689,147.761)\"><text x=\"15.0\" y=\"3.066\" style=\"fill:rgb(14.5%,14.5%,14.5%);fill-opacity:1.0\">Rhamnus_ilicifolia</text></g><g class=\"toytree-TipLabel\" transform=\"translate(250.689,125.536)\"><text x=\"15.0\" y=\"3.066\" style=\"fill:rgb(14.5%,14.5%,14.5%);fill-opacity:1.0\">Quercus_douglasii</text></g><g class=\"toytree-TipLabel\" transform=\"translate(250.689,103.31)\"><text x=\"15.0\" y=\"3.066\" style=\"fill:rgb(14.5%,14.5%,14.5%);fill-opacity:1.0\">Quercus_wislizeni</text></g><g class=\"toytree-TipLabel\" transform=\"translate(250.689,81.0839)\"><text x=\"15.0\" y=\"3.066\" style=\"fill:rgb(14.5%,14.5%,14.5%);fill-opacity:1.0\">Aesculus_californica</text></g><g class=\"toytree-TipLabel\" transform=\"translate(250.689,58.8581)\"><text x=\"15.0\" y=\"3.066\" style=\"fill:rgb(14.5%,14.5%,14.5%);fill-opacity:1.0\">Pinus_sabiniana</text></g></g></g></g></g></svg><div class=\"toyplot-behavior\"><script>(function()\n",
       "{\n",
       "var modules={};\n",
       "})();</script></div></div>"
      ]
     },
     "metadata": {},
     "output_type": "display_data"
    }
   ],
   "source": [
    "#Newick string generated in R with phylomaker_v2\n",
    "newick = \"(((Sambucus_nigra:112.340729,(Arctostaphylos_viscida:1.761115,Arctostaphylos_patula:1.761115):110.579613)mrcaott248ott650:11.393508,((Lupinus_sparsiflorus:112.701196,(((Ceanothus_leucodermis:4.464401,Ceanothus_cuneatus:4.464401):46.93409,(Frangula_rubra:10.957388,Rhamnus_ilicifolia:10.957388):40.441103):59.749516,(Quercus_douglasii:11.776698,Quercus_wislizeni:11.776699):99.371309)mrcaott371ott2511:1.553188)mrcaott371ott579:5.877408,Aesculus_californica:118.578604)mrcaott2ott96:5.155633)Pentapetalae:201.315791,Pinus_sabiniana:325.050028)Spermatophyta;\"\n",
    "\n",
    "#generate ToyTree from Newick string\n",
    "tree = toytree.tree(newick)\n",
    "\n",
    "tree.draw('s');\n"
   ]
  },
  {
   "cell_type": "markdown",
   "metadata": {},
   "source": [
    "Yi Jin, Hong Qian,\n",
    "V.PhyloMaker2: An updated and enlarged R package that can generate very large phylogenies for vascular plants,\n",
    "Plant Diversity,\n",
    "Volume 44, Issue 4,\n",
    "2022,\n",
    "Pages 335-339,\n",
    "ISSN 2468-2659,\n",
    "https://doi.org/10.1016/j.pld.2022.05.005."
   ]
  },
  {
   "cell_type": "markdown",
   "metadata": {},
   "source": [
    "`get_node_distance` returns the patristic distance (sum of distances belonging to each edge in shortest path) between two Nodes on a ToyTree."
   ]
  },
  {
   "cell_type": "code",
   "execution_count": 5,
   "metadata": {},
   "outputs": [
    {
     "data": {
      "text/plain": [
       "199.561928"
      ]
     },
     "execution_count": 5,
     "metadata": {},
     "output_type": "execute_result"
    }
   ],
   "source": [
    "toytree.distance.get_node_distance(tree, 15, 17)"
   ]
  },
  {
   "cell_type": "code",
   "execution_count": 6,
   "metadata": {},
   "outputs": [
    {
     "data": {
      "text/plain": [
       "3"
      ]
     },
     "execution_count": 6,
     "metadata": {},
     "output_type": "execute_result"
    }
   ],
   "source": [
    "toytree.distance.get_node_distance(tree, 15, 17, topology_only= True)"
   ]
  },
  {
   "cell_type": "markdown",
   "metadata": {},
   "source": [
    "`get_node_distance_matrix` returns the pairwise distance matrix for every node in the tree. The user can also use `get_internal_node_distance_matrix` and `get_tip_distance_matrix` for more specific distance matrices.  \n",
    "\n",
    "A matrix is returned as a np.ndarray with rows and columns ordered by Node int idx labels, or as a pd.DataFrame (`df=True`) with row and column names as str Node names for leaf Nodes and idx labels for internal Nodes."
   ]
  },
  {
   "cell_type": "code",
   "execution_count": 9,
   "metadata": {},
   "outputs": [
    {
     "data": {
      "text/html": [
       "<div>\n",
       "<style scoped>\n",
       "    .dataframe tbody tr th:only-of-type {\n",
       "        vertical-align: middle;\n",
       "    }\n",
       "\n",
       "    .dataframe tbody tr th {\n",
       "        vertical-align: top;\n",
       "    }\n",
       "\n",
       "    .dataframe thead th {\n",
       "        text-align: right;\n",
       "    }\n",
       "</style>\n",
       "<table border=\"1\" class=\"dataframe\">\n",
       "  <thead>\n",
       "    <tr style=\"text-align: right;\">\n",
       "      <th></th>\n",
       "      <th>12</th>\n",
       "      <th>13</th>\n",
       "      <th>14</th>\n",
       "      <th>15</th>\n",
       "      <th>16</th>\n",
       "      <th>17</th>\n",
       "      <th>18</th>\n",
       "      <th>19</th>\n",
       "      <th>20</th>\n",
       "      <th>21</th>\n",
       "      <th>22</th>\n",
       "    </tr>\n",
       "  </thead>\n",
       "  <tbody>\n",
       "    <tr>\n",
       "      <th>12</th>\n",
       "      <td>0</td>\n",
       "      <td>1</td>\n",
       "      <td>7</td>\n",
       "      <td>7</td>\n",
       "      <td>6</td>\n",
       "      <td>6</td>\n",
       "      <td>5</td>\n",
       "      <td>4</td>\n",
       "      <td>3</td>\n",
       "      <td>2</td>\n",
       "      <td>3</td>\n",
       "    </tr>\n",
       "    <tr>\n",
       "      <th>13</th>\n",
       "      <td>1</td>\n",
       "      <td>0</td>\n",
       "      <td>6</td>\n",
       "      <td>6</td>\n",
       "      <td>5</td>\n",
       "      <td>5</td>\n",
       "      <td>4</td>\n",
       "      <td>3</td>\n",
       "      <td>2</td>\n",
       "      <td>1</td>\n",
       "      <td>2</td>\n",
       "    </tr>\n",
       "    <tr>\n",
       "      <th>14</th>\n",
       "      <td>7</td>\n",
       "      <td>6</td>\n",
       "      <td>0</td>\n",
       "      <td>2</td>\n",
       "      <td>1</td>\n",
       "      <td>3</td>\n",
       "      <td>2</td>\n",
       "      <td>3</td>\n",
       "      <td>4</td>\n",
       "      <td>5</td>\n",
       "      <td>6</td>\n",
       "    </tr>\n",
       "    <tr>\n",
       "      <th>15</th>\n",
       "      <td>7</td>\n",
       "      <td>6</td>\n",
       "      <td>2</td>\n",
       "      <td>0</td>\n",
       "      <td>1</td>\n",
       "      <td>3</td>\n",
       "      <td>2</td>\n",
       "      <td>3</td>\n",
       "      <td>4</td>\n",
       "      <td>5</td>\n",
       "      <td>6</td>\n",
       "    </tr>\n",
       "    <tr>\n",
       "      <th>16</th>\n",
       "      <td>6</td>\n",
       "      <td>5</td>\n",
       "      <td>1</td>\n",
       "      <td>1</td>\n",
       "      <td>0</td>\n",
       "      <td>2</td>\n",
       "      <td>1</td>\n",
       "      <td>2</td>\n",
       "      <td>3</td>\n",
       "      <td>4</td>\n",
       "      <td>5</td>\n",
       "    </tr>\n",
       "    <tr>\n",
       "      <th>17</th>\n",
       "      <td>6</td>\n",
       "      <td>5</td>\n",
       "      <td>3</td>\n",
       "      <td>3</td>\n",
       "      <td>2</td>\n",
       "      <td>0</td>\n",
       "      <td>1</td>\n",
       "      <td>2</td>\n",
       "      <td>3</td>\n",
       "      <td>4</td>\n",
       "      <td>5</td>\n",
       "    </tr>\n",
       "    <tr>\n",
       "      <th>18</th>\n",
       "      <td>5</td>\n",
       "      <td>4</td>\n",
       "      <td>2</td>\n",
       "      <td>2</td>\n",
       "      <td>1</td>\n",
       "      <td>1</td>\n",
       "      <td>0</td>\n",
       "      <td>1</td>\n",
       "      <td>2</td>\n",
       "      <td>3</td>\n",
       "      <td>4</td>\n",
       "    </tr>\n",
       "    <tr>\n",
       "      <th>19</th>\n",
       "      <td>4</td>\n",
       "      <td>3</td>\n",
       "      <td>3</td>\n",
       "      <td>3</td>\n",
       "      <td>2</td>\n",
       "      <td>2</td>\n",
       "      <td>1</td>\n",
       "      <td>0</td>\n",
       "      <td>1</td>\n",
       "      <td>2</td>\n",
       "      <td>3</td>\n",
       "    </tr>\n",
       "    <tr>\n",
       "      <th>20</th>\n",
       "      <td>3</td>\n",
       "      <td>2</td>\n",
       "      <td>4</td>\n",
       "      <td>4</td>\n",
       "      <td>3</td>\n",
       "      <td>3</td>\n",
       "      <td>2</td>\n",
       "      <td>1</td>\n",
       "      <td>0</td>\n",
       "      <td>1</td>\n",
       "      <td>2</td>\n",
       "    </tr>\n",
       "    <tr>\n",
       "      <th>21</th>\n",
       "      <td>2</td>\n",
       "      <td>1</td>\n",
       "      <td>5</td>\n",
       "      <td>5</td>\n",
       "      <td>4</td>\n",
       "      <td>4</td>\n",
       "      <td>3</td>\n",
       "      <td>2</td>\n",
       "      <td>1</td>\n",
       "      <td>0</td>\n",
       "      <td>1</td>\n",
       "    </tr>\n",
       "    <tr>\n",
       "      <th>22</th>\n",
       "      <td>3</td>\n",
       "      <td>2</td>\n",
       "      <td>6</td>\n",
       "      <td>6</td>\n",
       "      <td>5</td>\n",
       "      <td>5</td>\n",
       "      <td>4</td>\n",
       "      <td>3</td>\n",
       "      <td>2</td>\n",
       "      <td>1</td>\n",
       "      <td>0</td>\n",
       "    </tr>\n",
       "  </tbody>\n",
       "</table>\n",
       "</div>"
      ],
      "text/plain": [
       "    12  13  14  15  16  17  18  19  20  21  22\n",
       "12   0   1   7   7   6   6   5   4   3   2   3\n",
       "13   1   0   6   6   5   5   4   3   2   1   2\n",
       "14   7   6   0   2   1   3   2   3   4   5   6\n",
       "15   7   6   2   0   1   3   2   3   4   5   6\n",
       "16   6   5   1   1   0   2   1   2   3   4   5\n",
       "17   6   5   3   3   2   0   1   2   3   4   5\n",
       "18   5   4   2   2   1   1   0   1   2   3   4\n",
       "19   4   3   3   3   2   2   1   0   1   2   3\n",
       "20   3   2   4   4   3   3   2   1   0   1   2\n",
       "21   2   1   5   5   4   4   3   2   1   0   1\n",
       "22   3   2   6   6   5   5   4   3   2   1   0"
      ]
     },
     "execution_count": 9,
     "metadata": {},
     "output_type": "execute_result"
    }
   ],
   "source": [
    "tree.distance.get_internal_node_distance_matrix(df= True, topology_only=True)"
   ]
  },
  {
   "cell_type": "markdown",
   "metadata": {},
   "source": [
    "`get_descendant_dists` returns a dictionary with {Node: dist} pairs of all descendants relative to a queried node. Without a queried node, all descendants/distances are relative to the root node. Values\n",
    "are generated in \"preorder\" traversal order (left then right). \n",
    "\n",
    "An iterable generator `iter_descendant_dists` is also provided."
   ]
  },
  {
   "cell_type": "code",
   "execution_count": 11,
   "metadata": {},
   "outputs": [
    {
     "data": {
      "text/plain": [
       "{<Node(idx=18, name='mrcaott371ott2511')>: 0,\n",
       " <Node(idx=16)>: 59.749516,\n",
       " <Node(idx=14)>: 106.683606,\n",
       " <Node(idx=4, name='Ceanothus_leucodermis')>: 111.14800699999999,\n",
       " <Node(idx=5, name='Ceanothus_cuneatus')>: 111.14800699999999,\n",
       " <Node(idx=15)>: 100.190619,\n",
       " <Node(idx=6, name='Frangula_rubra')>: 111.14800699999999,\n",
       " <Node(idx=7, name='Rhamnus_ilicifolia')>: 111.14800699999999,\n",
       " <Node(idx=17)>: 99.371309,\n",
       " <Node(idx=8, name='Quercus_douglasii')>: 111.14800699999999,\n",
       " <Node(idx=9, name='Quercus_wislizeni')>: 111.148008}"
      ]
     },
     "execution_count": 11,
     "metadata": {},
     "output_type": "execute_result"
    }
   ],
   "source": [
    "tree.distance.get_descendant_dists(18)"
   ]
  },
  {
   "cell_type": "markdown",
   "metadata": {},
   "source": [
    "`get_farthest_node` returns the farthest Node from a selected Node and `get_farthest_node_distance` returns the distance between the two."
   ]
  },
  {
   "cell_type": "code",
   "execution_count": 12,
   "metadata": {},
   "outputs": [
    {
     "name": "stdout",
     "output_type": "stream",
     "text": [
      "<Node(idx=0, name='Sambucus_nigra')> 650.100056\n"
     ]
    }
   ],
   "source": [
    "node = tree.distance.get_farthest_node(11)\n",
    "dist = tree.distance.get_farthest_node_distance(11)\n",
    "print(node, dist)"
   ]
  },
  {
   "cell_type": "markdown",
   "metadata": {},
   "source": [
    "## Tree-level dissimilarities  \n",
    "\n",
    "This set of functions computes tree similarity metrics based on quartets. All tree similarity matrics revolve around the following terms: \n",
    "\n",
    "`Q` = Total possible quartets  \n",
    "`S` = Resolved in the same way between the two trees  \n",
    "`D` = Resolved differently between the two trees  \n",
    "`R1` = Unresolved in tree 1, resolved in tree 2  \n",
    "`R2` = Unresolved in tree 2, resolved in tree1  \n",
    "`U` = unresolved in both trees  \n",
    "`N` = S + D + R1 + R2 + U"
   ]
  },
  {
   "cell_type": "markdown",
   "metadata": {},
   "source": []
  },
  {
   "cell_type": "code",
   "execution_count": 14,
   "metadata": {},
   "outputs": [
    {
     "data": {
      "text/html": [
       "<div class=\"toyplot\" id=\"t17a4c98867c94ba495c99948bbc9655c\" style=\"text-align:center\"><svg class=\"toyplot-canvas-Canvas\" xmlns:toyplot=\"http://www.sandia.gov/toyplot\" xmlns:xlink=\"http://www.w3.org/1999/xlink\" xmlns=\"http://www.w3.org/2000/svg\" width=\"300.0px\" height=\"275.0px\" viewBox=\"0 0 300.0 275.0\" preserveAspectRatio=\"xMidYMid meet\" style=\"background-color:transparent;border-color:#292724;border-style:none;border-width:1.0;fill:rgb(16.1%,15.3%,14.1%);fill-opacity:1.0;font-family:Helvetica;font-size:12px;opacity:1.0;stroke:rgb(16.1%,15.3%,14.1%);stroke-opacity:1.0;stroke-width:1.0\" id=\"t08a26193aae240ca8965712bcfcba0d4\"><g class=\"toyplot-coordinates-Cartesian\" id=\"t332225a05aae4e6cb8d404a7624617d4\"><clipPath id=\"t66199f637c7b4712aab0182c287f7d7b\"><rect x=\"35.0\" y=\"35.0\" width=\"230.0\" height=\"205.0\"></rect></clipPath><g clip-path=\"url(#t66199f637c7b4712aab0182c287f7d7b)\"><g class=\"toytree-mark-Toytree\" id=\"t9ec46b0fcef7435da1f91cf9baa6567a\"><g class=\"toytree-Edges\" style=\"stroke:rgb(14.5%,14.5%,14.5%);stroke-opacity:1.0;stroke-linecap:round;stroke-width:2.0;fill:none\"><path d=\"M 95.6 180.9 L 95.6 216.4 L 210.6 216.4\" id=\"8,0\" style=\"\"></path><path d=\"M 172.3 169.1 L 172.3 184.9 L 210.6 184.9\" id=\"6,1\" style=\"\"></path><path d=\"M 172.3 169.1 L 172.3 153.3 L 210.6 153.3\" id=\"6,2\" style=\"\"></path><path d=\"M 134.0 145.4 L 134.0 121.7 L 210.6 121.7\" id=\"7,3\" style=\"\"></path><path d=\"M 172.3 74.4 L 172.3 90.1 L 210.6 90.1\" id=\"9,4\" style=\"\"></path><path d=\"M 172.3 74.4 L 172.3 58.6 L 210.6 58.6\" id=\"9,5\" style=\"\"></path><path d=\"M 134.0 145.4 L 134.0 169.1 L 172.3 169.1\" id=\"7,6\" style=\"\"></path><path d=\"M 95.6 180.9 L 95.6 145.4 L 134.0 145.4\" id=\"8,7\" style=\"\"></path><path d=\"M 57.3 127.6 L 57.3 180.9 L 95.6 180.9\" id=\"10,8\" style=\"\"></path><path d=\"M 57.3 127.6 L 57.3 74.4 L 172.3 74.4\" id=\"10,9\" style=\"\"></path></g><g class=\"toytree-AdmixEdges\" style=\"fill:rgb(0.0%,0.0%,0.0%);fill-opacity:0.0;stroke:rgb(90.6%,54.1%,76.5%);stroke-opacity:0.6;font-size:14px;stroke-linecap:round;stroke-width:5\"></g><g class=\"toytree-Nodes\" style=\"fill:rgb(82.7%,82.7%,82.7%);fill-opacity:1.0;stroke:rgb(14.5%,14.5%,14.5%);stroke-opacity:1.0;stroke-width:1.5\"><g id=\"Node-0\" transform=\"translate(210.637,216.43)\"><circle r=\"8.0\"></circle></g><g id=\"Node-1\" transform=\"translate(210.637,184.858)\"><circle r=\"8.0\"></circle></g><g id=\"Node-2\" transform=\"translate(210.637,153.286)\"><circle r=\"8.0\"></circle></g><g id=\"Node-3\" transform=\"translate(210.637,121.714)\"><circle r=\"8.0\"></circle></g><g id=\"Node-4\" transform=\"translate(210.637,90.1418)\"><circle r=\"8.0\"></circle></g><g id=\"Node-5\" transform=\"translate(210.637,58.5696)\"><circle r=\"8.0\"></circle></g><g id=\"Node-6\" transform=\"translate(172.299,169.072)\"><circle r=\"8.0\"></circle></g><g id=\"Node-7\" transform=\"translate(133.961,145.393)\"><circle r=\"8.0\"></circle></g><g id=\"Node-8\" transform=\"translate(95.6225,180.912)\"><circle r=\"8.0\"></circle></g><g id=\"Node-9\" transform=\"translate(172.299,74.3557)\"><circle r=\"8.0\"></circle></g><g id=\"Node-10\" transform=\"translate(57.2843,127.634)\"><circle r=\"8.0\"></circle></g></g><g class=\"toytree-NodeLabels\" style=\"font-family:Helvetica;font-size:9px;font-weight:300;vertical-align:baseline;white-space:pre;stroke:none\"><g class=\"toytree-NodeLabel\" transform=\"translate(210.637,216.43)\"><text x=\"-2.5020000000000002\" y=\"2.2995\" style=\"fill:rgb(14.5%,14.5%,14.5%);fill-opacity:1.0\">0</text></g><g class=\"toytree-NodeLabel\" transform=\"translate(210.637,184.858)\"><text x=\"-2.5020000000000002\" y=\"2.2995\" style=\"fill:rgb(14.5%,14.5%,14.5%);fill-opacity:1.0\">1</text></g><g class=\"toytree-NodeLabel\" transform=\"translate(210.637,153.286)\"><text x=\"-2.5020000000000002\" y=\"2.2995\" style=\"fill:rgb(14.5%,14.5%,14.5%);fill-opacity:1.0\">2</text></g><g class=\"toytree-NodeLabel\" transform=\"translate(210.637,121.714)\"><text x=\"-2.5020000000000002\" y=\"2.2995\" style=\"fill:rgb(14.5%,14.5%,14.5%);fill-opacity:1.0\">3</text></g><g class=\"toytree-NodeLabel\" transform=\"translate(210.637,90.1418)\"><text x=\"-2.5020000000000002\" y=\"2.2995\" style=\"fill:rgb(14.5%,14.5%,14.5%);fill-opacity:1.0\">4</text></g><g class=\"toytree-NodeLabel\" transform=\"translate(210.637,58.5696)\"><text x=\"-2.5020000000000002\" y=\"2.2995\" style=\"fill:rgb(14.5%,14.5%,14.5%);fill-opacity:1.0\">5</text></g><g class=\"toytree-NodeLabel\" transform=\"translate(172.299,169.072)\"><text x=\"-2.5020000000000002\" y=\"2.2995\" style=\"fill:rgb(14.5%,14.5%,14.5%);fill-opacity:1.0\">6</text></g><g class=\"toytree-NodeLabel\" transform=\"translate(133.961,145.393)\"><text x=\"-2.5020000000000002\" y=\"2.2995\" style=\"fill:rgb(14.5%,14.5%,14.5%);fill-opacity:1.0\">7</text></g><g class=\"toytree-NodeLabel\" transform=\"translate(95.6225,180.912)\"><text x=\"-2.5020000000000002\" y=\"2.2995\" style=\"fill:rgb(14.5%,14.5%,14.5%);fill-opacity:1.0\">8</text></g><g class=\"toytree-NodeLabel\" transform=\"translate(172.299,74.3557)\"><text x=\"-2.5020000000000002\" y=\"2.2995\" style=\"fill:rgb(14.5%,14.5%,14.5%);fill-opacity:1.0\">9</text></g><g class=\"toytree-NodeLabel\" transform=\"translate(57.2843,127.634)\"><text x=\"-5.0040000000000004\" y=\"2.2995\" style=\"fill:rgb(14.5%,14.5%,14.5%);fill-opacity:1.0\">10</text></g></g><g class=\"toytree-TipLabels\" style=\"fill:rgb(14.5%,14.5%,14.5%);fill-opacity:1.0;font-family:Helvetica;font-size:12px;font-weight:300;vertical-align:baseline;white-space:pre;stroke:none\"><g class=\"toytree-TipLabel\" transform=\"translate(210.637,216.43)\"><text x=\"15.0\" y=\"3.066\" style=\"fill:rgb(14.5%,14.5%,14.5%);fill-opacity:1.0\">r0</text></g><g class=\"toytree-TipLabel\" transform=\"translate(210.637,184.858)\"><text x=\"15.0\" y=\"3.066\" style=\"fill:rgb(14.5%,14.5%,14.5%);fill-opacity:1.0\">r1</text></g><g class=\"toytree-TipLabel\" transform=\"translate(210.637,153.286)\"><text x=\"15.0\" y=\"3.066\" style=\"fill:rgb(14.5%,14.5%,14.5%);fill-opacity:1.0\">r2</text></g><g class=\"toytree-TipLabel\" transform=\"translate(210.637,121.714)\"><text x=\"15.0\" y=\"3.066\" style=\"fill:rgb(14.5%,14.5%,14.5%);fill-opacity:1.0\">r3</text></g><g class=\"toytree-TipLabel\" transform=\"translate(210.637,90.1418)\"><text x=\"15.0\" y=\"3.066\" style=\"fill:rgb(14.5%,14.5%,14.5%);fill-opacity:1.0\">r4</text></g><g class=\"toytree-TipLabel\" transform=\"translate(210.637,58.5696)\"><text x=\"15.0\" y=\"3.066\" style=\"fill:rgb(14.5%,14.5%,14.5%);fill-opacity:1.0\">r5</text></g></g></g></g></g></svg><div class=\"toyplot-behavior\"><script>(function()\n",
       "{\n",
       "var modules={};\n",
       "})();</script></div></div>"
      ]
     },
     "metadata": {},
     "output_type": "display_data"
    },
    {
     "data": {
      "text/html": [
       "<div class=\"toyplot\" id=\"tef015e346ed347aaa724eb1cc36b85ab\" style=\"text-align:center\"><svg class=\"toyplot-canvas-Canvas\" xmlns:toyplot=\"http://www.sandia.gov/toyplot\" xmlns:xlink=\"http://www.w3.org/1999/xlink\" xmlns=\"http://www.w3.org/2000/svg\" width=\"300.0px\" height=\"275.0px\" viewBox=\"0 0 300.0 275.0\" preserveAspectRatio=\"xMidYMid meet\" style=\"background-color:transparent;border-color:#292724;border-style:none;border-width:1.0;fill:rgb(16.1%,15.3%,14.1%);fill-opacity:1.0;font-family:Helvetica;font-size:12px;opacity:1.0;stroke:rgb(16.1%,15.3%,14.1%);stroke-opacity:1.0;stroke-width:1.0\" id=\"t7a708b69a2154dfa9d45cbf419b27298\"><g class=\"toyplot-coordinates-Cartesian\" id=\"t7effcffe3a1141f8858882c6e852b3a1\"><clipPath id=\"td8399644fbce425d981abdd22cfb3a0b\"><rect x=\"35.0\" y=\"35.0\" width=\"230.0\" height=\"205.0\"></rect></clipPath><g clip-path=\"url(#td8399644fbce425d981abdd22cfb3a0b)\"><g class=\"toytree-mark-Toytree\" id=\"t0e21b72c80714a9d904569f28fa879cb\"><g class=\"toytree-Edges\" style=\"stroke:rgb(14.5%,14.5%,14.5%);stroke-opacity:1.0;stroke-linecap:round;stroke-width:2.0;fill:none\"><path d=\"M 159.5 200.6 L 159.5 216.4 L 210.6 216.4\" id=\"6,0\" style=\"\"></path><path d=\"M 159.5 200.6 L 159.5 184.9 L 210.6 184.9\" id=\"6,1\" style=\"\"></path><path d=\"M 108.4 177.0 L 108.4 153.3 L 210.6 153.3\" id=\"7,2\" style=\"\"></path><path d=\"M 108.4 98.0 L 108.4 121.7 L 210.6 121.7\" id=\"9,3\" style=\"\"></path><path d=\"M 159.5 74.4 L 159.5 90.1 L 210.6 90.1\" id=\"8,4\" style=\"\"></path><path d=\"M 159.5 74.4 L 159.5 58.6 L 210.6 58.6\" id=\"8,5\" style=\"\"></path><path d=\"M 108.4 177.0 L 108.4 200.6 L 159.5 200.6\" id=\"7,6\" style=\"\"></path><path d=\"M 57.3 137.5 L 57.3 177.0 L 108.4 177.0\" id=\"10,7\" style=\"\"></path><path d=\"M 108.4 98.0 L 108.4 74.4 L 159.5 74.4\" id=\"9,8\" style=\"\"></path><path d=\"M 57.3 137.5 L 57.3 98.0 L 108.4 98.0\" id=\"10,9\" style=\"\"></path></g><g class=\"toytree-AdmixEdges\" style=\"fill:rgb(0.0%,0.0%,0.0%);fill-opacity:0.0;stroke:rgb(90.6%,54.1%,76.5%);stroke-opacity:0.6;font-size:14px;stroke-linecap:round;stroke-width:5\"></g><g class=\"toytree-Nodes\" style=\"fill:rgb(82.7%,82.7%,82.7%);fill-opacity:1.0;stroke:rgb(14.5%,14.5%,14.5%);stroke-opacity:1.0;stroke-width:1.5\"><g id=\"Node-0\" transform=\"translate(210.637,216.43)\"><circle r=\"8.0\"></circle></g><g id=\"Node-1\" transform=\"translate(210.637,184.858)\"><circle r=\"8.0\"></circle></g><g id=\"Node-2\" transform=\"translate(210.637,153.286)\"><circle r=\"8.0\"></circle></g><g id=\"Node-3\" transform=\"translate(210.637,121.714)\"><circle r=\"8.0\"></circle></g><g id=\"Node-4\" transform=\"translate(210.637,90.1418)\"><circle r=\"8.0\"></circle></g><g id=\"Node-5\" transform=\"translate(210.637,58.5696)\"><circle r=\"8.0\"></circle></g><g id=\"Node-6\" transform=\"translate(159.52,200.644)\"><circle r=\"8.0\"></circle></g><g id=\"Node-7\" transform=\"translate(108.402,176.965)\"><circle r=\"8.0\"></circle></g><g id=\"Node-8\" transform=\"translate(159.52,74.3557)\"><circle r=\"8.0\"></circle></g><g id=\"Node-9\" transform=\"translate(108.402,98.0348)\"><circle r=\"8.0\"></circle></g><g id=\"Node-10\" transform=\"translate(57.2843,137.5)\"><circle r=\"8.0\"></circle></g></g><g class=\"toytree-NodeLabels\" style=\"font-family:Helvetica;font-size:9px;font-weight:300;vertical-align:baseline;white-space:pre;stroke:none\"><g class=\"toytree-NodeLabel\" transform=\"translate(210.637,216.43)\"><text x=\"-2.5020000000000002\" y=\"2.2995\" style=\"fill:rgb(14.5%,14.5%,14.5%);fill-opacity:1.0\">0</text></g><g class=\"toytree-NodeLabel\" transform=\"translate(210.637,184.858)\"><text x=\"-2.5020000000000002\" y=\"2.2995\" style=\"fill:rgb(14.5%,14.5%,14.5%);fill-opacity:1.0\">1</text></g><g class=\"toytree-NodeLabel\" transform=\"translate(210.637,153.286)\"><text x=\"-2.5020000000000002\" y=\"2.2995\" style=\"fill:rgb(14.5%,14.5%,14.5%);fill-opacity:1.0\">2</text></g><g class=\"toytree-NodeLabel\" transform=\"translate(210.637,121.714)\"><text x=\"-2.5020000000000002\" y=\"2.2995\" style=\"fill:rgb(14.5%,14.5%,14.5%);fill-opacity:1.0\">3</text></g><g class=\"toytree-NodeLabel\" transform=\"translate(210.637,90.1418)\"><text x=\"-2.5020000000000002\" y=\"2.2995\" style=\"fill:rgb(14.5%,14.5%,14.5%);fill-opacity:1.0\">4</text></g><g class=\"toytree-NodeLabel\" transform=\"translate(210.637,58.5696)\"><text x=\"-2.5020000000000002\" y=\"2.2995\" style=\"fill:rgb(14.5%,14.5%,14.5%);fill-opacity:1.0\">5</text></g><g class=\"toytree-NodeLabel\" transform=\"translate(159.52,200.644)\"><text x=\"-2.5020000000000002\" y=\"2.2995\" style=\"fill:rgb(14.5%,14.5%,14.5%);fill-opacity:1.0\">6</text></g><g class=\"toytree-NodeLabel\" transform=\"translate(108.402,176.965)\"><text x=\"-2.5020000000000002\" y=\"2.2995\" style=\"fill:rgb(14.5%,14.5%,14.5%);fill-opacity:1.0\">7</text></g><g class=\"toytree-NodeLabel\" transform=\"translate(159.52,74.3557)\"><text x=\"-2.5020000000000002\" y=\"2.2995\" style=\"fill:rgb(14.5%,14.5%,14.5%);fill-opacity:1.0\">8</text></g><g class=\"toytree-NodeLabel\" transform=\"translate(108.402,98.0348)\"><text x=\"-2.5020000000000002\" y=\"2.2995\" style=\"fill:rgb(14.5%,14.5%,14.5%);fill-opacity:1.0\">9</text></g><g class=\"toytree-NodeLabel\" transform=\"translate(57.2843,137.5)\"><text x=\"-5.0040000000000004\" y=\"2.2995\" style=\"fill:rgb(14.5%,14.5%,14.5%);fill-opacity:1.0\">10</text></g></g><g class=\"toytree-TipLabels\" style=\"fill:rgb(14.5%,14.5%,14.5%);fill-opacity:1.0;font-family:Helvetica;font-size:12px;font-weight:300;vertical-align:baseline;white-space:pre;stroke:none\"><g class=\"toytree-TipLabel\" transform=\"translate(210.637,216.43)\"><text x=\"15.0\" y=\"3.066\" style=\"fill:rgb(14.5%,14.5%,14.5%);fill-opacity:1.0\">r0</text></g><g class=\"toytree-TipLabel\" transform=\"translate(210.637,184.858)\"><text x=\"15.0\" y=\"3.066\" style=\"fill:rgb(14.5%,14.5%,14.5%);fill-opacity:1.0\">r1</text></g><g class=\"toytree-TipLabel\" transform=\"translate(210.637,153.286)\"><text x=\"15.0\" y=\"3.066\" style=\"fill:rgb(14.5%,14.5%,14.5%);fill-opacity:1.0\">r2</text></g><g class=\"toytree-TipLabel\" transform=\"translate(210.637,121.714)\"><text x=\"15.0\" y=\"3.066\" style=\"fill:rgb(14.5%,14.5%,14.5%);fill-opacity:1.0\">r3</text></g><g class=\"toytree-TipLabel\" transform=\"translate(210.637,90.1418)\"><text x=\"15.0\" y=\"3.066\" style=\"fill:rgb(14.5%,14.5%,14.5%);fill-opacity:1.0\">r4</text></g><g class=\"toytree-TipLabel\" transform=\"translate(210.637,58.5696)\"><text x=\"15.0\" y=\"3.066\" style=\"fill:rgb(14.5%,14.5%,14.5%);fill-opacity:1.0\">r5</text></g></g></g></g></g></svg><div class=\"toyplot-behavior\"><script>(function()\n",
       "{\n",
       "var modules={};\n",
       "})();</script></div></div>"
      ]
     },
     "metadata": {},
     "output_type": "display_data"
    }
   ],
   "source": [
    "import toytree\n",
    "\n",
    "t1 = toytree.rtree.rtree(ntips=6, seed=123)\n",
    "t2 = toytree.rtree.rtree(ntips=6, seed=321)\n",
    "\n",
    "t1.draw('s');\n",
    "t2.draw('s');"
   ]
  },
  {
   "cell_type": "markdown",
   "metadata": {},
   "source": [
    "## Tree-level dissimilarities  \n",
    "\n",
    "In order to quantify the difference between two trees, these methods decompose trees into sets of bipartitions or quartets and measure differences based on these sets. In order to quickly show an overview of the different distance scores, use `get_treedist_quartets`. This overview shows all tree distances based on quartet metrics where: \n",
    "\n",
    "$Q =$ Total possible quartets\n",
    "$S =$ Resolved in the same way between the two trees\n",
    "$D =$ Resolved differently between the two trees  \n",
    "$R1 =$ Unresolved in tree 1, resolved in tree 2  \n",
    "$R2 =$ Unresolved in tree 2, resolved in tree 1  \n",
    "$U =$  Unresolved in both trees  \n",
    "$N = S + D + R1 + R2 + U$\n",
    "\n",
    "with arguments (tree1, tree2, similarity=False). When similarity=True, scores are shown as similarity scores (1-distance)  \n",
    "\n",
    "Using these metrics, `get_treedist_quartets` also shows a list of calculated scores. Descriptions of these scores can be found in the paper below:  \n",
    "\n",
    "_Estabrook GF, McMorris FR, Meacham CA (1985). “Comparison of undirected\n",
    "  phylogenetic trees based on subtrees of four evolutionary units.”\n",
    "  Systematic Zoology, 34(2), 193--200. doi:10.2307/2413326 ._\n"
   ]
  },
  {
   "cell_type": "code",
   "execution_count": 3,
   "metadata": {},
   "outputs": [
    {
     "data": {
      "text/plain": [
       "Q                              210.000000\n",
       "S                              107.000000\n",
       "D                              103.000000\n",
       "U                                0.000000\n",
       "R1                               0.000000\n",
       "R2                               0.000000\n",
       "N                              210.000000\n",
       "do_not_conflict                  0.490476\n",
       "explicitly_agree                 0.490476\n",
       "strict_joint_assertions          0.490476\n",
       "semistrict_joint_assertions      0.490476\n",
       "steel_and_penny                  0.490476\n",
       "symmetric_difference             0.490476\n",
       "symmetric_divergence             0.019048\n",
       "similarity_to_reference          0.490476\n",
       "marczewski_steinhaus             0.658147\n",
       "dtype: float64"
      ]
     },
     "execution_count": 3,
     "metadata": {},
     "output_type": "execute_result"
    },
    {
     "data": {
      "text/html": [
       "<div class=\"toyplot\" id=\"t75ba36ea10e44a89bd0b36ffcd7a0556\" style=\"text-align:center\"><svg class=\"toyplot-canvas-Canvas\" xmlns:toyplot=\"http://www.sandia.gov/toyplot\" xmlns:xlink=\"http://www.w3.org/1999/xlink\" xmlns=\"http://www.w3.org/2000/svg\" width=\"300.0px\" height=\"318.5px\" viewBox=\"0 0 300.0 318.5\" preserveAspectRatio=\"xMidYMid meet\" style=\"background-color:transparent;border-color:#292724;border-style:none;border-width:1.0;fill:rgb(16.1%,15.3%,14.1%);fill-opacity:1.0;font-family:Helvetica;font-size:12px;opacity:1.0;stroke:rgb(16.1%,15.3%,14.1%);stroke-opacity:1.0;stroke-width:1.0\" id=\"tcdefd1dd6e974186899fe947256ea366\"><g class=\"toyplot-coordinates-Cartesian\" id=\"t951147b8fe214f368dbcf3102f214cae\"><clipPath id=\"tfc45d14da6494f3e92b50d1d6b35ebe1\"><rect x=\"35.0\" y=\"35.0\" width=\"230.0\" height=\"248.5\"></rect></clipPath><g clip-path=\"url(#tfc45d14da6494f3e92b50d1d6b35ebe1)\"><g class=\"toytree-mark-Toytree\" id=\"te358da28deb64503ba08717ac3ab7893\"><g class=\"toytree-Edges\" style=\"stroke:rgb(14.5%,14.5%,14.5%);stroke-opacity:1.0;stroke-linecap:round;stroke-width:2.0;fill:none\"><path d=\"M 88.0 215.1 L 88.0 259.8 L 210.6 259.8\" id=\"15,0\" style=\"\"></path><path d=\"M 180.0 226.3 L 180.0 237.4 L 210.6 237.4\" id=\"10,1\" style=\"\"></path><path d=\"M 180.0 226.3 L 180.0 215.1 L 210.6 215.1\" id=\"10,2\" style=\"\"></path><path d=\"M 180.0 181.6 L 180.0 192.8 L 210.6 192.8\" id=\"11,3\" style=\"\"></path><path d=\"M 180.0 181.6 L 180.0 170.4 L 210.6 170.4\" id=\"11,4\" style=\"\"></path><path d=\"M 180.0 136.9 L 180.0 148.1 L 210.6 148.1\" id=\"13,5\" style=\"\"></path><path d=\"M 180.0 136.9 L 180.0 125.7 L 210.6 125.7\" id=\"13,6\" style=\"\"></path><path d=\"M 149.3 86.7 L 149.3 103.4 L 210.6 103.4\" id=\"17,7\" style=\"\"></path><path d=\"M 180.0 69.9 L 180.0 81.1 L 210.6 81.1\" id=\"16,8\" style=\"\"></path><path d=\"M 180.0 69.9 L 180.0 58.7 L 210.6 58.7\" id=\"16,9\" style=\"\"></path><path d=\"M 149.3 203.9 L 149.3 226.3 L 180.0 226.3\" id=\"12,10\" style=\"\"></path><path d=\"M 149.3 203.9 L 149.3 181.6 L 180.0 181.6\" id=\"12,11\" style=\"\"></path><path d=\"M 118.6 170.4 L 118.6 203.9 L 149.3 203.9\" id=\"14,12\" style=\"\"></path><path d=\"M 118.6 170.4 L 118.6 136.9 L 180.0 136.9\" id=\"14,13\" style=\"\"></path><path d=\"M 88.0 215.1 L 88.0 170.4 L 118.6 170.4\" id=\"15,14\" style=\"\"></path><path d=\"M 57.3 150.9 L 57.3 215.1 L 88.0 215.1\" id=\"18,15\" style=\"\"></path><path d=\"M 149.3 86.7 L 149.3 69.9 L 180.0 69.9\" id=\"17,16\" style=\"\"></path><path d=\"M 57.3 150.9 L 57.3 86.7 L 149.3 86.7\" id=\"18,17\" style=\"\"></path></g><g class=\"toytree-AdmixEdges\" style=\"fill:rgb(0.0%,0.0%,0.0%);fill-opacity:0.0;stroke:rgb(90.6%,54.1%,76.5%);stroke-opacity:0.6;font-size:14px;stroke-linecap:round;stroke-width:5\"></g><g class=\"toytree-Nodes\" style=\"fill:rgb(82.7%,82.7%,82.7%);fill-opacity:1.0;stroke:rgb(14.5%,14.5%,14.5%);stroke-opacity:1.0;stroke-width:1.5\"><g id=\"Node-0\" transform=\"translate(210.637,259.76)\"><circle r=\"8.0\"></circle></g><g id=\"Node-1\" transform=\"translate(210.637,237.424)\"><circle r=\"8.0\"></circle></g><g id=\"Node-2\" transform=\"translate(210.637,215.089)\"><circle r=\"8.0\"></circle></g><g id=\"Node-3\" transform=\"translate(210.637,192.753)\"><circle r=\"8.0\"></circle></g><g id=\"Node-4\" transform=\"translate(210.637,170.418)\"><circle r=\"8.0\"></circle></g><g id=\"Node-5\" transform=\"translate(210.637,148.082)\"><circle r=\"8.0\"></circle></g><g id=\"Node-6\" transform=\"translate(210.637,125.747)\"><circle r=\"8.0\"></circle></g><g id=\"Node-7\" transform=\"translate(210.637,103.411)\"><circle r=\"8.0\"></circle></g><g id=\"Node-8\" transform=\"translate(210.637,81.0756)\"><circle r=\"8.0\"></circle></g><g id=\"Node-9\" transform=\"translate(210.637,58.74)\"><circle r=\"8.0\"></circle></g><g id=\"Node-10\" transform=\"translate(179.967,226.257)\"><circle r=\"8.0\"></circle></g><g id=\"Node-11\" transform=\"translate(179.967,181.586)\"><circle r=\"8.0\"></circle></g><g id=\"Node-12\" transform=\"translate(149.296,203.921)\"><circle r=\"8.0\"></circle></g><g id=\"Node-13\" transform=\"translate(179.967,136.914)\"><circle r=\"8.0\"></circle></g><g id=\"Node-14\" transform=\"translate(118.625,170.418)\"><circle r=\"8.0\"></circle></g><g id=\"Node-15\" transform=\"translate(87.9549,215.089)\"><circle r=\"8.0\"></circle></g><g id=\"Node-16\" transform=\"translate(179.967,69.9078)\"><circle r=\"8.0\"></circle></g><g id=\"Node-17\" transform=\"translate(149.296,86.6594)\"><circle r=\"8.0\"></circle></g><g id=\"Node-18\" transform=\"translate(57.2843,150.874)\"><circle r=\"8.0\"></circle></g></g><g class=\"toytree-NodeLabels\" style=\"font-family:Helvetica;font-size:9px;font-weight:300;vertical-align:baseline;white-space:pre;stroke:none\"><g class=\"toytree-NodeLabel\" transform=\"translate(210.637,259.76)\"><text x=\"-2.5020000000000002\" y=\"2.2995\" style=\"fill:rgb(14.5%,14.5%,14.5%);fill-opacity:1.0\">0</text></g><g class=\"toytree-NodeLabel\" transform=\"translate(210.637,237.424)\"><text x=\"-2.5020000000000002\" y=\"2.2995\" style=\"fill:rgb(14.5%,14.5%,14.5%);fill-opacity:1.0\">1</text></g><g class=\"toytree-NodeLabel\" transform=\"translate(210.637,215.089)\"><text x=\"-2.5020000000000002\" y=\"2.2995\" style=\"fill:rgb(14.5%,14.5%,14.5%);fill-opacity:1.0\">2</text></g><g class=\"toytree-NodeLabel\" transform=\"translate(210.637,192.753)\"><text x=\"-2.5020000000000002\" y=\"2.2995\" style=\"fill:rgb(14.5%,14.5%,14.5%);fill-opacity:1.0\">3</text></g><g class=\"toytree-NodeLabel\" transform=\"translate(210.637,170.418)\"><text x=\"-2.5020000000000002\" y=\"2.2995\" style=\"fill:rgb(14.5%,14.5%,14.5%);fill-opacity:1.0\">4</text></g><g class=\"toytree-NodeLabel\" transform=\"translate(210.637,148.082)\"><text x=\"-2.5020000000000002\" y=\"2.2995\" style=\"fill:rgb(14.5%,14.5%,14.5%);fill-opacity:1.0\">5</text></g><g class=\"toytree-NodeLabel\" transform=\"translate(210.637,125.747)\"><text x=\"-2.5020000000000002\" y=\"2.2995\" style=\"fill:rgb(14.5%,14.5%,14.5%);fill-opacity:1.0\">6</text></g><g class=\"toytree-NodeLabel\" transform=\"translate(210.637,103.411)\"><text x=\"-2.5020000000000002\" y=\"2.2995\" style=\"fill:rgb(14.5%,14.5%,14.5%);fill-opacity:1.0\">7</text></g><g class=\"toytree-NodeLabel\" transform=\"translate(210.637,81.0756)\"><text x=\"-2.5020000000000002\" y=\"2.2995\" style=\"fill:rgb(14.5%,14.5%,14.5%);fill-opacity:1.0\">8</text></g><g class=\"toytree-NodeLabel\" transform=\"translate(210.637,58.74)\"><text x=\"-2.5020000000000002\" y=\"2.2995\" style=\"fill:rgb(14.5%,14.5%,14.5%);fill-opacity:1.0\">9</text></g><g class=\"toytree-NodeLabel\" transform=\"translate(179.967,226.257)\"><text x=\"-5.0040000000000004\" y=\"2.2995\" style=\"fill:rgb(14.5%,14.5%,14.5%);fill-opacity:1.0\">10</text></g><g class=\"toytree-NodeLabel\" transform=\"translate(179.967,181.586)\"><text x=\"-5.0040000000000004\" y=\"2.2995\" style=\"fill:rgb(14.5%,14.5%,14.5%);fill-opacity:1.0\">11</text></g><g class=\"toytree-NodeLabel\" transform=\"translate(149.296,203.921)\"><text x=\"-5.0040000000000004\" y=\"2.2995\" style=\"fill:rgb(14.5%,14.5%,14.5%);fill-opacity:1.0\">12</text></g><g class=\"toytree-NodeLabel\" transform=\"translate(179.967,136.914)\"><text x=\"-5.0040000000000004\" y=\"2.2995\" style=\"fill:rgb(14.5%,14.5%,14.5%);fill-opacity:1.0\">13</text></g><g class=\"toytree-NodeLabel\" transform=\"translate(118.625,170.418)\"><text x=\"-5.0040000000000004\" y=\"2.2995\" style=\"fill:rgb(14.5%,14.5%,14.5%);fill-opacity:1.0\">14</text></g><g class=\"toytree-NodeLabel\" transform=\"translate(87.9549,215.089)\"><text x=\"-5.0040000000000004\" y=\"2.2995\" style=\"fill:rgb(14.5%,14.5%,14.5%);fill-opacity:1.0\">15</text></g><g class=\"toytree-NodeLabel\" transform=\"translate(179.967,69.9078)\"><text x=\"-5.0040000000000004\" y=\"2.2995\" style=\"fill:rgb(14.5%,14.5%,14.5%);fill-opacity:1.0\">16</text></g><g class=\"toytree-NodeLabel\" transform=\"translate(149.296,86.6594)\"><text x=\"-5.0040000000000004\" y=\"2.2995\" style=\"fill:rgb(14.5%,14.5%,14.5%);fill-opacity:1.0\">17</text></g><g class=\"toytree-NodeLabel\" transform=\"translate(57.2843,150.874)\"><text x=\"-5.0040000000000004\" y=\"2.2995\" style=\"fill:rgb(14.5%,14.5%,14.5%);fill-opacity:1.0\">18</text></g></g><g class=\"toytree-TipLabels\" style=\"fill:rgb(14.5%,14.5%,14.5%);fill-opacity:1.0;font-family:Helvetica;font-size:12px;font-weight:300;vertical-align:baseline;white-space:pre;stroke:none\"><g class=\"toytree-TipLabel\" transform=\"translate(210.637,259.76)\"><text x=\"15.0\" y=\"3.066\" style=\"fill:rgb(14.5%,14.5%,14.5%);fill-opacity:1.0\">r0</text></g><g class=\"toytree-TipLabel\" transform=\"translate(210.637,237.424)\"><text x=\"15.0\" y=\"3.066\" style=\"fill:rgb(14.5%,14.5%,14.5%);fill-opacity:1.0\">r1</text></g><g class=\"toytree-TipLabel\" transform=\"translate(210.637,215.089)\"><text x=\"15.0\" y=\"3.066\" style=\"fill:rgb(14.5%,14.5%,14.5%);fill-opacity:1.0\">r2</text></g><g class=\"toytree-TipLabel\" transform=\"translate(210.637,192.753)\"><text x=\"15.0\" y=\"3.066\" style=\"fill:rgb(14.5%,14.5%,14.5%);fill-opacity:1.0\">r3</text></g><g class=\"toytree-TipLabel\" transform=\"translate(210.637,170.418)\"><text x=\"15.0\" y=\"3.066\" style=\"fill:rgb(14.5%,14.5%,14.5%);fill-opacity:1.0\">r4</text></g><g class=\"toytree-TipLabel\" transform=\"translate(210.637,148.082)\"><text x=\"15.0\" y=\"3.066\" style=\"fill:rgb(14.5%,14.5%,14.5%);fill-opacity:1.0\">r5</text></g><g class=\"toytree-TipLabel\" transform=\"translate(210.637,125.747)\"><text x=\"15.0\" y=\"3.066\" style=\"fill:rgb(14.5%,14.5%,14.5%);fill-opacity:1.0\">r6</text></g><g class=\"toytree-TipLabel\" transform=\"translate(210.637,103.411)\"><text x=\"15.0\" y=\"3.066\" style=\"fill:rgb(14.5%,14.5%,14.5%);fill-opacity:1.0\">r7</text></g><g class=\"toytree-TipLabel\" transform=\"translate(210.637,81.0756)\"><text x=\"15.0\" y=\"3.066\" style=\"fill:rgb(14.5%,14.5%,14.5%);fill-opacity:1.0\">r8</text></g><g class=\"toytree-TipLabel\" transform=\"translate(210.637,58.74)\"><text x=\"15.0\" y=\"3.066\" style=\"fill:rgb(14.5%,14.5%,14.5%);fill-opacity:1.0\">r9</text></g></g></g></g></g></svg><div class=\"toyplot-behavior\"><script>(function()\n",
       "{\n",
       "var modules={};\n",
       "})();</script></div></div>"
      ]
     },
     "metadata": {},
     "output_type": "display_data"
    },
    {
     "data": {
      "text/html": [
       "<div class=\"toyplot\" id=\"tf906a407355c46c3b2a72356016e605c\" style=\"text-align:center\"><svg class=\"toyplot-canvas-Canvas\" xmlns:toyplot=\"http://www.sandia.gov/toyplot\" xmlns:xlink=\"http://www.w3.org/1999/xlink\" xmlns=\"http://www.w3.org/2000/svg\" width=\"300.0px\" height=\"318.5px\" viewBox=\"0 0 300.0 318.5\" preserveAspectRatio=\"xMidYMid meet\" style=\"background-color:transparent;border-color:#292724;border-style:none;border-width:1.0;fill:rgb(16.1%,15.3%,14.1%);fill-opacity:1.0;font-family:Helvetica;font-size:12px;opacity:1.0;stroke:rgb(16.1%,15.3%,14.1%);stroke-opacity:1.0;stroke-width:1.0\" id=\"t996c64dc560e40b5973cd906d77fa213\"><g class=\"toyplot-coordinates-Cartesian\" id=\"t47b932590b1b4f7c8bbc8b4a35e38eb4\"><clipPath id=\"t81ab784e941546868756b96c6532c9a0\"><rect x=\"35.0\" y=\"35.0\" width=\"230.0\" height=\"248.5\"></rect></clipPath><g clip-path=\"url(#t81ab784e941546868756b96c6532c9a0)\"><g class=\"toytree-mark-Toytree\" id=\"teb6827d883b0434bb0e1277739f51057\"><g class=\"toytree-Edges\" style=\"stroke:rgb(14.5%,14.5%,14.5%);stroke-opacity:1.0;stroke-linecap:round;stroke-width:2.0;fill:none\"><path d=\"M 149.3 243.0 L 149.3 259.8 L 210.6 259.8\" id=\"11,0\" style=\"\"></path><path d=\"M 180.0 226.3 L 180.0 237.4 L 210.6 237.4\" id=\"10,1\" style=\"\"></path><path d=\"M 180.0 226.3 L 180.0 215.1 L 210.6 215.1\" id=\"10,2\" style=\"\"></path><path d=\"M 118.6 217.9 L 118.6 192.8 L 210.6 192.8\" id=\"12,3\" style=\"\"></path><path d=\"M 180.0 159.2 L 180.0 170.4 L 210.6 170.4\" id=\"13,4\" style=\"\"></path><path d=\"M 180.0 159.2 L 180.0 148.1 L 210.6 148.1\" id=\"13,5\" style=\"\"></path><path d=\"M 149.3 109.0 L 149.3 125.7 L 210.6 125.7\" id=\"15,6\" style=\"\"></path><path d=\"M 180.0 92.2 L 180.0 103.4 L 210.6 103.4\" id=\"14,7\" style=\"\"></path><path d=\"M 180.0 92.2 L 180.0 81.1 L 210.6 81.1\" id=\"14,8\" style=\"\"></path><path d=\"M 118.6 83.9 L 118.6 58.7 L 210.6 58.7\" id=\"16,9\" style=\"\"></path><path d=\"M 149.3 243.0 L 149.3 226.3 L 180.0 226.3\" id=\"11,10\" style=\"\"></path><path d=\"M 118.6 217.9 L 118.6 243.0 L 149.3 243.0\" id=\"12,11\" style=\"\"></path><path d=\"M 57.3 169.7 L 57.3 217.9 L 118.6 217.9\" id=\"18,12\" style=\"\"></path><path d=\"M 88.0 121.6 L 88.0 159.2 L 180.0 159.2\" id=\"17,13\" style=\"\"></path><path d=\"M 149.3 109.0 L 149.3 92.2 L 180.0 92.2\" id=\"15,14\" style=\"\"></path><path d=\"M 118.6 83.9 L 118.6 109.0 L 149.3 109.0\" id=\"16,15\" style=\"\"></path><path d=\"M 88.0 121.6 L 88.0 83.9 L 118.6 83.9\" id=\"17,16\" style=\"\"></path><path d=\"M 57.3 169.7 L 57.3 121.6 L 88.0 121.6\" id=\"18,17\" style=\"\"></path></g><g class=\"toytree-AdmixEdges\" style=\"fill:rgb(0.0%,0.0%,0.0%);fill-opacity:0.0;stroke:rgb(90.6%,54.1%,76.5%);stroke-opacity:0.6;font-size:14px;stroke-linecap:round;stroke-width:5\"></g><g class=\"toytree-Nodes\" style=\"fill:rgb(82.7%,82.7%,82.7%);fill-opacity:1.0;stroke:rgb(14.5%,14.5%,14.5%);stroke-opacity:1.0;stroke-width:1.5\"><g id=\"Node-0\" transform=\"translate(210.637,259.76)\"><circle r=\"8.0\"></circle></g><g id=\"Node-1\" transform=\"translate(210.637,237.424)\"><circle r=\"8.0\"></circle></g><g id=\"Node-2\" transform=\"translate(210.637,215.089)\"><circle r=\"8.0\"></circle></g><g id=\"Node-3\" transform=\"translate(210.637,192.753)\"><circle r=\"8.0\"></circle></g><g id=\"Node-4\" transform=\"translate(210.637,170.418)\"><circle r=\"8.0\"></circle></g><g id=\"Node-5\" transform=\"translate(210.637,148.082)\"><circle r=\"8.0\"></circle></g><g id=\"Node-6\" transform=\"translate(210.637,125.747)\"><circle r=\"8.0\"></circle></g><g id=\"Node-7\" transform=\"translate(210.637,103.411)\"><circle r=\"8.0\"></circle></g><g id=\"Node-8\" transform=\"translate(210.637,81.0756)\"><circle r=\"8.0\"></circle></g><g id=\"Node-9\" transform=\"translate(210.637,58.74)\"><circle r=\"8.0\"></circle></g><g id=\"Node-10\" transform=\"translate(179.967,226.257)\"><circle r=\"8.0\"></circle></g><g id=\"Node-11\" transform=\"translate(149.296,243.008)\"><circle r=\"8.0\"></circle></g><g id=\"Node-12\" transform=\"translate(118.625,217.881)\"><circle r=\"8.0\"></circle></g><g id=\"Node-13\" transform=\"translate(179.967,159.25)\"><circle r=\"8.0\"></circle></g><g id=\"Node-14\" transform=\"translate(179.967,92.2433)\"><circle r=\"8.0\"></circle></g><g id=\"Node-15\" transform=\"translate(149.296,108.995)\"><circle r=\"8.0\"></circle></g><g id=\"Node-16\" transform=\"translate(118.625,83.8675)\"><circle r=\"8.0\"></circle></g><g id=\"Node-17\" transform=\"translate(87.9549,121.559)\"><circle r=\"8.0\"></circle></g><g id=\"Node-18\" transform=\"translate(57.2843,169.72)\"><circle r=\"8.0\"></circle></g></g><g class=\"toytree-NodeLabels\" style=\"font-family:Helvetica;font-size:9px;font-weight:300;vertical-align:baseline;white-space:pre;stroke:none\"><g class=\"toytree-NodeLabel\" transform=\"translate(210.637,259.76)\"><text x=\"-2.5020000000000002\" y=\"2.2995\" style=\"fill:rgb(14.5%,14.5%,14.5%);fill-opacity:1.0\">0</text></g><g class=\"toytree-NodeLabel\" transform=\"translate(210.637,237.424)\"><text x=\"-2.5020000000000002\" y=\"2.2995\" style=\"fill:rgb(14.5%,14.5%,14.5%);fill-opacity:1.0\">1</text></g><g class=\"toytree-NodeLabel\" transform=\"translate(210.637,215.089)\"><text x=\"-2.5020000000000002\" y=\"2.2995\" style=\"fill:rgb(14.5%,14.5%,14.5%);fill-opacity:1.0\">2</text></g><g class=\"toytree-NodeLabel\" transform=\"translate(210.637,192.753)\"><text x=\"-2.5020000000000002\" y=\"2.2995\" style=\"fill:rgb(14.5%,14.5%,14.5%);fill-opacity:1.0\">3</text></g><g class=\"toytree-NodeLabel\" transform=\"translate(210.637,170.418)\"><text x=\"-2.5020000000000002\" y=\"2.2995\" style=\"fill:rgb(14.5%,14.5%,14.5%);fill-opacity:1.0\">4</text></g><g class=\"toytree-NodeLabel\" transform=\"translate(210.637,148.082)\"><text x=\"-2.5020000000000002\" y=\"2.2995\" style=\"fill:rgb(14.5%,14.5%,14.5%);fill-opacity:1.0\">5</text></g><g class=\"toytree-NodeLabel\" transform=\"translate(210.637,125.747)\"><text x=\"-2.5020000000000002\" y=\"2.2995\" style=\"fill:rgb(14.5%,14.5%,14.5%);fill-opacity:1.0\">6</text></g><g class=\"toytree-NodeLabel\" transform=\"translate(210.637,103.411)\"><text x=\"-2.5020000000000002\" y=\"2.2995\" style=\"fill:rgb(14.5%,14.5%,14.5%);fill-opacity:1.0\">7</text></g><g class=\"toytree-NodeLabel\" transform=\"translate(210.637,81.0756)\"><text x=\"-2.5020000000000002\" y=\"2.2995\" style=\"fill:rgb(14.5%,14.5%,14.5%);fill-opacity:1.0\">8</text></g><g class=\"toytree-NodeLabel\" transform=\"translate(210.637,58.74)\"><text x=\"-2.5020000000000002\" y=\"2.2995\" style=\"fill:rgb(14.5%,14.5%,14.5%);fill-opacity:1.0\">9</text></g><g class=\"toytree-NodeLabel\" transform=\"translate(179.967,226.257)\"><text x=\"-5.0040000000000004\" y=\"2.2995\" style=\"fill:rgb(14.5%,14.5%,14.5%);fill-opacity:1.0\">10</text></g><g class=\"toytree-NodeLabel\" transform=\"translate(149.296,243.008)\"><text x=\"-5.0040000000000004\" y=\"2.2995\" style=\"fill:rgb(14.5%,14.5%,14.5%);fill-opacity:1.0\">11</text></g><g class=\"toytree-NodeLabel\" transform=\"translate(118.625,217.881)\"><text x=\"-5.0040000000000004\" y=\"2.2995\" style=\"fill:rgb(14.5%,14.5%,14.5%);fill-opacity:1.0\">12</text></g><g class=\"toytree-NodeLabel\" transform=\"translate(179.967,159.25)\"><text x=\"-5.0040000000000004\" y=\"2.2995\" style=\"fill:rgb(14.5%,14.5%,14.5%);fill-opacity:1.0\">13</text></g><g class=\"toytree-NodeLabel\" transform=\"translate(179.967,92.2433)\"><text x=\"-5.0040000000000004\" y=\"2.2995\" style=\"fill:rgb(14.5%,14.5%,14.5%);fill-opacity:1.0\">14</text></g><g class=\"toytree-NodeLabel\" transform=\"translate(149.296,108.995)\"><text x=\"-5.0040000000000004\" y=\"2.2995\" style=\"fill:rgb(14.5%,14.5%,14.5%);fill-opacity:1.0\">15</text></g><g class=\"toytree-NodeLabel\" transform=\"translate(118.625,83.8675)\"><text x=\"-5.0040000000000004\" y=\"2.2995\" style=\"fill:rgb(14.5%,14.5%,14.5%);fill-opacity:1.0\">16</text></g><g class=\"toytree-NodeLabel\" transform=\"translate(87.9549,121.559)\"><text x=\"-5.0040000000000004\" y=\"2.2995\" style=\"fill:rgb(14.5%,14.5%,14.5%);fill-opacity:1.0\">17</text></g><g class=\"toytree-NodeLabel\" transform=\"translate(57.2843,169.72)\"><text x=\"-5.0040000000000004\" y=\"2.2995\" style=\"fill:rgb(14.5%,14.5%,14.5%);fill-opacity:1.0\">18</text></g></g><g class=\"toytree-TipLabels\" style=\"fill:rgb(14.5%,14.5%,14.5%);fill-opacity:1.0;font-family:Helvetica;font-size:12px;font-weight:300;vertical-align:baseline;white-space:pre;stroke:none\"><g class=\"toytree-TipLabel\" transform=\"translate(210.637,259.76)\"><text x=\"15.0\" y=\"3.066\" style=\"fill:rgb(14.5%,14.5%,14.5%);fill-opacity:1.0\">r0</text></g><g class=\"toytree-TipLabel\" transform=\"translate(210.637,237.424)\"><text x=\"15.0\" y=\"3.066\" style=\"fill:rgb(14.5%,14.5%,14.5%);fill-opacity:1.0\">r1</text></g><g class=\"toytree-TipLabel\" transform=\"translate(210.637,215.089)\"><text x=\"15.0\" y=\"3.066\" style=\"fill:rgb(14.5%,14.5%,14.5%);fill-opacity:1.0\">r2</text></g><g class=\"toytree-TipLabel\" transform=\"translate(210.637,192.753)\"><text x=\"15.0\" y=\"3.066\" style=\"fill:rgb(14.5%,14.5%,14.5%);fill-opacity:1.0\">r3</text></g><g class=\"toytree-TipLabel\" transform=\"translate(210.637,170.418)\"><text x=\"15.0\" y=\"3.066\" style=\"fill:rgb(14.5%,14.5%,14.5%);fill-opacity:1.0\">r4</text></g><g class=\"toytree-TipLabel\" transform=\"translate(210.637,148.082)\"><text x=\"15.0\" y=\"3.066\" style=\"fill:rgb(14.5%,14.5%,14.5%);fill-opacity:1.0\">r5</text></g><g class=\"toytree-TipLabel\" transform=\"translate(210.637,125.747)\"><text x=\"15.0\" y=\"3.066\" style=\"fill:rgb(14.5%,14.5%,14.5%);fill-opacity:1.0\">r6</text></g><g class=\"toytree-TipLabel\" transform=\"translate(210.637,103.411)\"><text x=\"15.0\" y=\"3.066\" style=\"fill:rgb(14.5%,14.5%,14.5%);fill-opacity:1.0\">r7</text></g><g class=\"toytree-TipLabel\" transform=\"translate(210.637,81.0756)\"><text x=\"15.0\" y=\"3.066\" style=\"fill:rgb(14.5%,14.5%,14.5%);fill-opacity:1.0\">r8</text></g><g class=\"toytree-TipLabel\" transform=\"translate(210.637,58.74)\"><text x=\"15.0\" y=\"3.066\" style=\"fill:rgb(14.5%,14.5%,14.5%);fill-opacity:1.0\">r9</text></g></g></g></g></g></svg><div class=\"toyplot-behavior\"><script>(function()\n",
       "{\n",
       "var modules={};\n",
       "})();</script></div></div>"
      ]
     },
     "metadata": {},
     "output_type": "display_data"
    }
   ],
   "source": [
    "import toytree\n",
    "\n",
    "tree1 = toytree.rtree.rtree(ntips=10, seed=123)\n",
    "tree2 = toytree.rtree.rtree(ntips=10, seed=321)\n",
    "tree1.draw('s')\n",
    "tree2.draw('s')\n",
    "toytree.distance.get_treedist_quartets(tree1, tree2)\n"
   ]
  },
  {
   "cell_type": "markdown",
   "metadata": {},
   "source": [
    "Note: For reference, these two trees will be used for the rest of this notebook's examples."
   ]
  },
  {
   "cell_type": "markdown",
   "metadata": {},
   "source": [
    "\n",
    "### Robinson-Foulds distance  \n",
    "\n",
    "The Robinson-Foulds (RF) distance is a metric that measures the normalized* count of bipartitions induced by one tree, but not the other tree. In other words, it is the symmmetric difference between two bipart sets divided by the total number of bipartitions in both sets. ___Larger_ values indicate that the two trees are _more_ different__  \n",
    "\n",
    "*To show the normalized score, use `normalize=True`"
   ]
  },
  {
   "cell_type": "code",
   "execution_count": 9,
   "metadata": {},
   "outputs": [
    {
     "name": "stdout",
     "output_type": "stream",
     "text": [
      " normalized:  0.8571428571428571 \n",
      " default:  12\n"
     ]
    }
   ],
   "source": [
    "normalized = toytree.distance.get_treedist_rf(tree1, tree2, normalize=True)\n",
    "default = toytree.distance.get_treedist_rf(tree1, tree2)\n",
    "print(' normalized: ', normalized, '\\n','default: ',default)"
   ]
  },
  {
   "cell_type": "markdown",
   "metadata": {},
   "source": [
    "### Information-corrected Robinson-Foulds distance  \n",
    "\n",
    "The information-corrected Robinson-Foulds distance (RFI) measures the sum of the `phylogenetic information` of edges taht are different between two trees. `Information` is calculated as the __probability that a randomly sampled binary tree of the same size contains the split.__ Splits that contain less information (e.g.m a cherry vs a deep split) are more likely to arise by chance, and thus contribute less to the metric.  \n",
    "\n",
    "`normalize=True` normalizes the score relative to the sum of phylogenetic information present in both subtrees.\n",
    "\n"
   ]
  },
  {
   "cell_type": "code",
   "execution_count": 10,
   "metadata": {},
   "outputs": [
    {
     "name": "stdout",
     "output_type": "stream",
     "text": [
      " normalized:  0.8944865320126851 \n",
      " default:  66.2410417642415\n"
     ]
    }
   ],
   "source": [
    "normalized = toytree.distance.get_treedist_rfi(tree1, tree2, normalize=True)\n",
    "default = toytree.distance.get_treedist_rfi(tree1, tree2)\n",
    "print(' normalized: ', normalized, '\\n','default: ',default)"
   ]
  },
  {
   "cell_type": "markdown",
   "metadata": {},
   "source": [
    "### Generalized Robinson-Foulds Matching Split distance  \n",
    "\n"
   ]
  },
  {
   "cell_type": "code",
   "execution_count": 14,
   "metadata": {},
   "outputs": [
    {
     "name": "stderr",
     "output_type": "stream",
     "text": [
      "⚠️ toytree | treedist_utils:get_trees_matching_split_dist | no normalization method for matching split distance.\n"
     ]
    },
    {
     "name": "stdout",
     "output_type": "stream",
     "text": [
      " normalized:  15.0 \n",
      " default:  15.0\n"
     ]
    }
   ],
   "source": [
    "normalized = toytree.distance.get_treedist_rfg_ms(tree1, tree2, normalize=True)\n",
    "default = toytree.distance.get_treedist_rfg_ms(tree1, tree2, normalize=False)\n",
    "print(' normalized: ', normalized, '\\n','default: ',default)"
   ]
  },
  {
   "cell_type": "code",
   "execution_count": null,
   "metadata": {},
   "outputs": [],
   "source": [
    "\n",
    "# toytree.distance.get_treedist_rfg_mci(tree1, tree2)\n",
    "# toytree.distance.get_treedist_rfg_ms(tree1, tree2)\n",
    "# toytree.distance.get_treedist_rfg_msi(tree1, tree2)\n",
    "# toytree.distance.get_treedist_rfg_spi(tree1, tree2)"
   ]
  },
  {
   "cell_type": "markdown",
   "metadata": {},
   "source": [
    "# Annotate subpackage Documentation"
   ]
  },
  {
   "cell_type": "markdown",
   "metadata": {},
   "source": [
    "The `.annotate` subpackage offers a cleaner, more readable way to edit a tree than modifying each argument in the `.draw()` method. The funcitons provided in this subpackage work by adding marks on top of the most recent `canvas` created by Toytree. It can be accessed direclty from a tree object (e.g., tree.annotate.{function}()), but some functions require additional arguments to specify axes, styles, etc.  \n",
    "\n",
    "Since this subpackage contains very simple modifications that can be quickly added on top of existing trees, we encourage you to share with us any functions you make that may fit in this subpackage! These can be shared via Github at https://github.com/eaton-lab/toytree/discussions"
   ]
  },
  {
   "cell_type": "markdown",
   "metadata": {},
   "source": [
    "## Node and edge marks/labels \n",
    "\n",
    "- add_edge_labels\n",
    "- add_edge_markers\n",
    "- add_node_markers\n",
    "- add_node_labels\n",
    "- add_tip_markers\n",
    "- add_node_bars\n",
    "\n",
    "## Axes annotations\n",
    "\n",
    "- add_axes_box_outline\n",
    "- add_axes_scale_bar\n",
    "\n",
    "## Data/graph annotations\n",
    "\n",
    "- add_node_pie_charts\n",
    "- add_edge_pie_charts"
   ]
  }
 ],
 "metadata": {
  "kernelspec": {
   "display_name": "toytree_practice",
   "language": "python",
   "name": "toytree_practice"
  },
  "language_info": {
   "codemirror_mode": {
    "name": "ipython",
    "version": 3
   },
   "file_extension": ".py",
   "mimetype": "text/x-python",
   "name": "python",
   "nbconvert_exporter": "python",
   "pygments_lexer": "ipython3",
   "version": "3.12.4"
  }
 },
 "nbformat": 4,
 "nbformat_minor": 2
}
