{
 "cells": [
  {
   "cell_type": "markdown",
   "metadata": {},
   "source": [
    "## Enum Subpackage Documentation"
   ]
  },
  {
   "cell_type": "markdown",
   "metadata": {},
   "source": [
    "## Bipartitions"
   ]
  },
  {
   "cell_type": "markdown",
   "metadata": {},
   "source": [
    "   \"\"\"Generator of bipartitions (Nodes on either side of edges).\n",
    "\n",
    "    Bipartitions represent the splits in a tree. Many algorithms compare\n",
    "    tips (or internal Nodes) on either side of each split to compute\n",
    "    metrics on trees. This function aims to provide a flexible and fast\n",
    "    framework for yielding bipartitions in various formats.\n",
    "\n",
    "    Notes\n",
    "    -----\n",
    "    - Bipartitions are generated in Node idx traversal order.\n",
    "    - Bipartitions are formatted as a tuple of two items, each of\n",
    "    which is referred to as a partition.\n",
    "    - The order of partitions, e.g. (part1, part2) can be toggled using\n",
    "    the argument `sort`.\n",
    "    - The type used to represent a partition can be toggled using the\n",
    "    argument `type`. Common formats are `set` or `tuple`.\n",
    "\n",
    "    Parameters\n",
    "    ----------\n",
    "    feature: str\n",
    "        Feature to return to represent Nodes on either side of a\n",
    "        bipartition. Default is \"name\". None will return Node objects.\n",
    "        Any other Node feature, such as \"idx\" can also be used. Note\n",
    "        the feature arg does not affect the order in which partitions\n",
    "        or bipartitions are returned/sorted (see `sort` argument below).\n",
    "    include_singleton_partitions: bool\n",
    "        If True then singleton splits (e.g., (A | B,C,D)) are included\n",
    "        in the result. By default these are excluded since it is\n",
    "        implicit that one exists for every tip Node in a tree.\n",
    "    include_internal_nodes: bool\n",
    "        Default is to only show tip Nodes on either side of a\n",
    "        bipartition, but internal Nodes can be included as well. In\n",
    "        this case the results are easier to interpret if the returned\n",
    "        values have unique features (e.g., feature=None or 'idx').\n",
    "    type: Callable\n",
    "        The type of collection used to represent a partition. Default\n",
    "        is `set` to return a tuple of sets, but another useful option\n",
    "        is `tuple`, which returns a tuple of tuples. The latter\n",
    "        collection can be converted into a set of bipartitions.\n",
    "    sort: bool\n",
    "        If False, bipartitions are returned as (child, parent) order\n",
    "        given the topology and rooting in Node idx order traversal. If\n",
    "        sort=True, bipartitions are instead always sorted first by len,\n",
    "        e.g., (fewer, longer) and if the same len, then next by the\n",
    "        lowest alphanumeric tip name, e.g., ({'a', 'b'}, {'c', 'd'}).\n",
    "        If the requested partition `type` is sortable (i.e., not a set)\n",
    "        then items within a partition are also consistently sorted.\n"
   ]
  },
  {
   "cell_type": "markdown",
   "metadata": {},
   "source": [
    "### Example - Expressing bipartitions in dataframes"
   ]
  },
  {
   "cell_type": "markdown",
   "metadata": {},
   "source": [
    "In this example, a `toytree` object taking a simple newick string is split into bipartitions, which are then printed as a `multitree` object."
   ]
  },
  {
   "cell_type": "code",
   "execution_count": null,
   "metadata": {},
   "outputs": [],
   "source": [
    "import toytree"
   ]
  },
  {
   "cell_type": "code",
   "execution_count": null,
   "metadata": {},
   "outputs": [
    {
     "data": {
      "text/plain": [
       "(<toyplot.canvas.Canvas at 0x22f43df4740>,\n",
       " <toyplot.coordinates.Cartesian at 0x22f440e73b0>,\n",
       " <toytree.drawing.src.mark_toytree.ToyTreeMark at 0x22f43926e70>)"
      ]
     },
     "metadata": {},
     "output_type": "display_data"
    },
    {
     "data": {
      "text/html": [
       "<div class=\"toyplot\" id=\"t5858a3ebeb4d4c2083a8fc6d7572f84e\" style=\"text-align:center\"><svg class=\"toyplot-canvas-Canvas\" xmlns:toyplot=\"http://www.sandia.gov/toyplot\" xmlns:xlink=\"http://www.w3.org/1999/xlink\" xmlns=\"http://www.w3.org/2000/svg\" width=\"300.0px\" height=\"275.0px\" viewBox=\"0 0 300.0 275.0\" preserveAspectRatio=\"xMidYMid meet\" style=\"background-color:transparent;border-color:#292724;border-style:none;border-width:1.0;fill:rgb(16.1%,15.3%,14.1%);fill-opacity:1.0;font-family:Helvetica;font-size:12px;opacity:1.0;stroke:rgb(16.1%,15.3%,14.1%);stroke-opacity:1.0;stroke-width:1.0\" id=\"t78b511dfecff44f5a7c260f59419eb8c\"><g class=\"toyplot-coordinates-Cartesian\" id=\"t1683ee18b1d44865b20f22ed66417f6d\"><clipPath id=\"tde04cea2a7f74c0eb835461e5aefc328\"><rect x=\"35.0\" y=\"35.0\" width=\"230.0\" height=\"205.0\"></rect></clipPath><g clip-path=\"url(#tde04cea2a7f74c0eb835461e5aefc328)\"><g class=\"toytree-mark-Toytree\" id=\"ta32c01f075bf493081c3ffc1275c4900\"><g class=\"toytree-Edges\" style=\"stroke:rgb(14.5%,14.5%,14.5%);stroke-opacity:1.0;stroke-linecap:round;stroke-width:2.0;fill:none\"><path d=\"M 50.8 169.8 L 50.8 218.3 L 105.4 218.3\" id=\"9,0\" style=\"\"></path><path d=\"M 50.8 169.8 L 50.8 186.0 L 105.4 186.0\" id=\"9,1\" style=\"\"></path><path d=\"M 160.0 137.5 L 160.0 153.7 L 214.5 153.7\" id=\"6,2\" style=\"\"></path><path d=\"M 160.0 137.5 L 160.0 121.3 L 214.5 121.3\" id=\"6,3\" style=\"\"></path><path d=\"M 160.0 72.8 L 160.0 89.0 L 214.5 89.0\" id=\"7,4\" style=\"\"></path><path d=\"M 160.0 72.8 L 160.0 56.7 L 214.5 56.7\" id=\"7,5\" style=\"\"></path><path d=\"M 105.4 105.2 L 105.4 137.5 L 160.0 137.5\" id=\"8,6\" style=\"\"></path><path d=\"M 105.4 105.2 L 105.4 72.8 L 160.0 72.8\" id=\"8,7\" style=\"\"></path><path d=\"M 50.8 169.8 L 50.8 105.2 L 105.4 105.2\" id=\"9,8\" style=\"\"></path></g><g class=\"toytree-AdmixEdges\" style=\"fill:rgb(0.0%,0.0%,0.0%);fill-opacity:0.0;stroke:rgb(90.6%,54.1%,76.5%);stroke-opacity:0.6;font-size:14px;stroke-linecap:round;stroke-width:5\"></g><g class=\"toytree-Nodes\" style=\"fill:rgb(40.0%,76.1%,64.7%);fill-opacity:1.0;stroke:rgb(14.9%,14.9%,14.9%);stroke-opacity:1.0;stroke-width:1.5\"></g><g class=\"toytree-TipLabels\" style=\"fill:rgb(14.5%,14.5%,14.5%);fill-opacity:1.0;font-family:Helvetica;font-size:12px;font-weight:300;vertical-align:baseline;white-space:pre;stroke:none\"><g class=\"toytree-TipLabel\" transform=\"translate(105.386,218.347)\"><text x=\"15.0\" y=\"3.066\" style=\"fill:rgb(14.5%,14.5%,14.5%);fill-opacity:1.0\">a</text></g><g class=\"toytree-TipLabel\" transform=\"translate(105.386,186.008)\"><text x=\"15.0\" y=\"3.066\" style=\"fill:rgb(14.5%,14.5%,14.5%);fill-opacity:1.0\">b</text></g><g class=\"toytree-TipLabel\" transform=\"translate(214.522,153.669)\"><text x=\"15.0\" y=\"3.066\" style=\"fill:rgb(14.5%,14.5%,14.5%);fill-opacity:1.0\">c</text></g><g class=\"toytree-TipLabel\" transform=\"translate(214.522,121.331)\"><text x=\"15.0\" y=\"3.066\" style=\"fill:rgb(14.5%,14.5%,14.5%);fill-opacity:1.0\">d</text></g><g class=\"toytree-TipLabel\" transform=\"translate(214.522,88.9916)\"><text x=\"15.0\" y=\"3.066\" style=\"fill:rgb(14.5%,14.5%,14.5%);fill-opacity:1.0\">e</text></g><g class=\"toytree-TipLabel\" transform=\"translate(214.522,56.6526)\"><text x=\"15.0\" y=\"3.066\" style=\"fill:rgb(14.5%,14.5%,14.5%);fill-opacity:1.0\">f</text></g></g></g></g></g></svg><div class=\"toyplot-behavior\"><script>(function()\n",
       "{\n",
       "var modules={};\n",
       "})();</script></div></div>"
      ]
     },
     "metadata": {},
     "output_type": "display_data"
    }
   ],
   "source": [
    "#draw initial tree\n",
    "tree = toytree.tree(\"(a,b,((c,d)CD,(e,f)EF)X)AB;\")\n",
    "tree.draw()"
   ]
  },
  {
   "cell_type": "code",
   "execution_count": null,
   "metadata": {},
   "outputs": [
    {
     "name": "stdout",
     "output_type": "stream",
     "text": [
      "[({<Node(idx=2, name='c')>, <Node(idx=3, name='d')>}, {<Node(idx=0, name='a')>, <Node(idx=5, name='f')>, <Node(idx=1, name='b')>, <Node(idx=4, name='e')>}), ({<Node(idx=5, name='f')>, <Node(idx=4, name='e')>}, {<Node(idx=0, name='a')>, <Node(idx=2, name='c')>, <Node(idx=1, name='b')>, <Node(idx=3, name='d')>}), ({<Node(idx=5, name='f')>, <Node(idx=2, name='c')>, <Node(idx=3, name='d')>, <Node(idx=4, name='e')>}, {<Node(idx=0, name='a')>, <Node(idx=1, name='b')>})]\n"
     ]
    }
   ],
   "source": [
    "#make multitree from bipartitions\n",
    "bipartitions = tree.enum.iter_bipartitions(feature=None)\n",
    "bipartitions_list = list(bipartitions)\n",
    "print(bipartitions_list)"
   ]
  },
  {
   "cell_type": "markdown",
   "metadata": {},
   "source": [
    "### Quartets"
   ]
  },
  {
   "cell_type": "markdown",
   "metadata": {},
   "source": [
    "asdf"
   ]
  },
  {
   "cell_type": "code",
   "execution_count": null,
   "metadata": {},
   "outputs": [],
   "source": [
    "#asdf"
   ]
  },
  {
   "cell_type": "markdown",
   "metadata": {},
   "source": [
    "### Quadripartitions  \n",
    "\n"
   ]
  },
  {
   "cell_type": "code",
   "execution_count": null,
   "metadata": {},
   "outputs": [],
   "source": [
    "#asdf"
   ]
  },
  {
   "cell_type": "markdown",
   "metadata": {},
   "source": [
    "asdf"
   ]
  },
  {
   "cell_type": "code",
   "execution_count": null,
   "metadata": {},
   "outputs": [],
   "source": [
    "#asdf"
   ]
  }
 ],
 "metadata": {
  "kernelspec": {
   "display_name": "toytree_practice",
   "language": "python",
   "name": "toytree_practice"
  },
  "language_info": {
   "codemirror_mode": {
    "name": "ipython",
    "version": 3
   },
   "file_extension": ".py",
   "mimetype": "text/x-python",
   "name": "python",
   "nbconvert_exporter": "python",
   "pygments_lexer": "ipython3",
   "version": "3.12.4"
  }
 },
 "nbformat": 4,
 "nbformat_minor": 2
}
