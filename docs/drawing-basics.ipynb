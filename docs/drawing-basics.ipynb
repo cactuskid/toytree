{
 "cells": [
  {
   "cell_type": "markdown",
   "id": "d3752298",
   "metadata": {},
   "source": [
    "# Tree Drawing basics\n",
    "\n",
    "One of the primary functions of `toytree` is for tree visualization. See the [Quick Guide](/quick_guide) to get started on loading or creating a `ToyTree` class object. Once you have a tree, there are many options in `toytree` for generating a tree visualization. Following our minimalist ethos, it is very simple to generate a tree drawing under a variety of styles using a single command, while at the same time, it is also possible to provide many arguments to designate a very specific and complex style to create data rich visualizations. "
   ]
  },
  {
   "cell_type": "code",
   "execution_count": 18,
   "id": "b61b38c8-29f1-4943-81ee-7e647d2dbcc7",
   "metadata": {},
   "outputs": [],
   "source": [
    "import toytree\n",
    "import numpy as np\n",
    "\n",
    "# an example tree\n",
    "tree = toytree.rtree.bdtree(ntips=6, seed=123)"
   ]
  },
  {
   "cell_type": "markdown",
   "id": "73d3a9a0-74a7-4560-a3ef-8f605560c141",
   "metadata": {},
   "source": [
    "## Drawing class objects\n",
    "When you call `.draw()` on a tree it returns three objects, a `Canvas`, a `Cartesian` axes, and a `Mark`. This follows the design principle of the `toyplot` plotting library on which toytree is based. The `Canvas` describes the plot space, and the `Cartesian` coordinates define how to project `Marks` onto that space. `Marks` are used to represent data using SVG markers and shapes. One canvas can have multiple cartesian coordinates, and each cartesian axes can contain multiple marks.\n",
    "\n",
    "It is often useful to capture these drawing objects as variables so that they can be reused to further edit or annotate drawings, and to eventually save tree drawings. However, if you are working in a jupyter notebook and only intend the drawings to be saved in the output cells, then you do not need to save the plots externally. Canvas objects will automatically render drawings in the output below a code block. This behavior can be suppressed by modifying the `.autorender` setting of a canvas. Throughout this documentation you will see many `toytree` drawing commands end with a semicolon (;), which is a simple method to hide the returned objects from being displayed in the output cell."
   ]
  },
  {
   "cell_type": "code",
   "execution_count": 2,
   "id": "d542dc63-e985-4188-a6ef-09f0ce055486",
   "metadata": {},
   "outputs": [
    {
     "data": {
      "text/plain": [
       "(<toyplot.canvas.Canvas at 0x7f6a6a1caef0>,\n",
       " <toyplot.coordinates.Cartesian at 0x7f6a6a1ca950>,\n",
       " <toytree.drawing.src.mark_toytree.ToyTreeMark at 0x7f69fdd34d90>)"
      ]
     },
     "execution_count": 2,
     "metadata": {},
     "output_type": "execute_result"
    },
    {
     "data": {
      "text/html": [
       "<div class=\"toyplot\" id=\"tb4ef4cfaf0534744914da2a3bc4458bd\" style=\"text-align:center\"><svg class=\"toyplot-canvas-Canvas\" xmlns:toyplot=\"http://www.sandia.gov/toyplot\" xmlns:xlink=\"http://www.w3.org/1999/xlink\" xmlns=\"http://www.w3.org/2000/svg\" width=\"300.0px\" height=\"275.0px\" viewBox=\"0 0 300.0 275.0\" preserveAspectRatio=\"xMidYMid meet\" style=\"background-color:transparent;border-color:#292724;border-style:none;border-width:1.0;fill:rgb(16.1%,15.3%,14.1%);fill-opacity:1.0;font-family:Helvetica;font-size:12px;opacity:1.0;stroke:rgb(16.1%,15.3%,14.1%);stroke-opacity:1.0;stroke-width:1.0\" id=\"t61b2dca11119461f8ab6e86519d5ed6c\"><g class=\"toyplot-coordinates-Cartesian\" id=\"t3a94ed2d59de4cc28fc22c74df8e5f63\"><clipPath id=\"t6a84909394bb4c5582492cb5db969950\"><rect x=\"35.0\" y=\"35.0\" width=\"230.0\" height=\"205.0\"></rect></clipPath><g clip-path=\"url(#t6a84909394bb4c5582492cb5db969950)\"><g class=\"toytree-mark-Toytree\" id=\"t8c450106aed44c939eaacc52ed904ba5\"><g class=\"toytree-Edges\" style=\"stroke:rgb(14.5%,14.5%,14.5%);stroke-opacity:1.0;stroke-linecap:round;stroke-width:2.0;fill:none\"><path d=\"M 105.7 202.2 L 105.7 218.3 L 209.3 218.3\" id=\"6,0\" style=\"\"></path><path d=\"M 105.7 202.2 L 105.7 186.0 L 209.3 186.0\" id=\"6,1\" style=\"\"></path><path d=\"M 117.3 125.4 L 117.3 153.7 L 209.3 153.7\" id=\"9,2\" style=\"\"></path><path d=\"M 189.4 97.1 L 189.4 121.3 L 209.3 121.3\" id=\"8,3\" style=\"\"></path><path d=\"M 192.9 72.8 L 192.9 89.0 L 209.3 89.0\" id=\"7,4\" style=\"\"></path><path d=\"M 192.9 72.8 L 192.9 56.7 L 209.3 56.7\" id=\"7,5\" style=\"\"></path><path d=\"M 50.8 163.8 L 50.8 202.2 L 105.7 202.2\" id=\"10,6\" style=\"\"></path><path d=\"M 189.4 97.1 L 189.4 72.8 L 192.9 72.8\" id=\"8,7\" style=\"\"></path><path d=\"M 117.3 125.4 L 117.3 97.1 L 189.4 97.1\" id=\"9,8\" style=\"\"></path><path d=\"M 50.8 163.8 L 50.8 125.4 L 117.3 125.4\" id=\"10,9\" style=\"\"></path></g><g class=\"toytree-AdmixEdges\" style=\"fill:rgb(0.0%,0.0%,0.0%);fill-opacity:0.0;stroke:rgb(90.6%,54.1%,76.5%);stroke-opacity:0.6;font-size:14px;stroke-linecap:round;stroke-width:5\"></g><g class=\"toytree-Nodes\" style=\"fill:rgb(40.0%,76.1%,64.7%);fill-opacity:1.0;stroke:rgb(14.9%,14.9%,14.9%);stroke-opacity:1.0;stroke-width:1.5\"></g><g class=\"toytree-TipLabels\" style=\"fill:rgb(14.5%,14.5%,14.5%);fill-opacity:1.0;font-family:Helvetica;font-size:12px;font-weight:300;vertical-align:baseline;white-space:pre;stroke:none\"><g class=\"toytree-TipLabel\" transform=\"translate(209.311,218.347)\"><text x=\"15.0\" y=\"3.066\" style=\"fill:rgb(14.5%,14.5%,14.5%);fill-opacity:1.0\">r0</text></g><g class=\"toytree-TipLabel\" transform=\"translate(209.311,186.008)\"><text x=\"15.0\" y=\"3.066\" style=\"fill:rgb(14.5%,14.5%,14.5%);fill-opacity:1.0\">r1</text></g><g class=\"toytree-TipLabel\" transform=\"translate(209.311,153.669)\"><text x=\"15.0\" y=\"3.066\" style=\"fill:rgb(14.5%,14.5%,14.5%);fill-opacity:1.0\">r2</text></g><g class=\"toytree-TipLabel\" transform=\"translate(209.311,121.331)\"><text x=\"15.0\" y=\"3.066\" style=\"fill:rgb(14.5%,14.5%,14.5%);fill-opacity:1.0\">r3</text></g><g class=\"toytree-TipLabel\" transform=\"translate(209.311,88.9916)\"><text x=\"15.0\" y=\"3.066\" style=\"fill:rgb(14.5%,14.5%,14.5%);fill-opacity:1.0\">r4</text></g><g class=\"toytree-TipLabel\" transform=\"translate(209.311,56.6526)\"><text x=\"15.0\" y=\"3.066\" style=\"fill:rgb(14.5%,14.5%,14.5%);fill-opacity:1.0\">r5</text></g></g></g></g></g></svg><div class=\"toyplot-behavior\"><script>(function()\n",
       "{\n",
       "var modules={};\n",
       "})();</script></div></div>"
      ]
     },
     "metadata": {},
     "output_type": "display_data"
    }
   ],
   "source": [
    "# returns the three drawing objects\n",
    "tree.draw()"
   ]
  },
  {
   "cell_type": "code",
   "execution_count": 3,
   "id": "a255a060-b2ec-453c-838a-e49dd8c8145d",
   "metadata": {},
   "outputs": [
    {
     "data": {
      "text/html": [
       "<div class=\"toyplot\" id=\"t2c19e83b2ea04b9899d34b46126ff1bd\" style=\"text-align:center\"><svg class=\"toyplot-canvas-Canvas\" xmlns:toyplot=\"http://www.sandia.gov/toyplot\" xmlns:xlink=\"http://www.w3.org/1999/xlink\" xmlns=\"http://www.w3.org/2000/svg\" width=\"300.0px\" height=\"275.0px\" viewBox=\"0 0 300.0 275.0\" preserveAspectRatio=\"xMidYMid meet\" style=\"background-color:transparent;border-color:#292724;border-style:none;border-width:1.0;fill:rgb(16.1%,15.3%,14.1%);fill-opacity:1.0;font-family:Helvetica;font-size:12px;opacity:1.0;stroke:rgb(16.1%,15.3%,14.1%);stroke-opacity:1.0;stroke-width:1.0\" id=\"t499189a14fce44e7a9fc486bd0b0beae\"><g class=\"toyplot-coordinates-Cartesian\" id=\"tef8ea0a6fb9744a7a5de7aaea08708c2\"><clipPath id=\"t361d12412a80467c97faec8edfd1ee43\"><rect x=\"35.0\" y=\"35.0\" width=\"230.0\" height=\"205.0\"></rect></clipPath><g clip-path=\"url(#t361d12412a80467c97faec8edfd1ee43)\"><g class=\"toytree-mark-Toytree\" id=\"tfde2b26a5a5e49d2afac033d2402319d\"><g class=\"toytree-Edges\" style=\"stroke:rgb(14.5%,14.5%,14.5%);stroke-opacity:1.0;stroke-linecap:round;stroke-width:2.0;fill:none\"><path d=\"M 105.7 202.2 L 105.7 218.3 L 209.3 218.3\" id=\"6,0\" style=\"\"></path><path d=\"M 105.7 202.2 L 105.7 186.0 L 209.3 186.0\" id=\"6,1\" style=\"\"></path><path d=\"M 117.3 125.4 L 117.3 153.7 L 209.3 153.7\" id=\"9,2\" style=\"\"></path><path d=\"M 189.4 97.1 L 189.4 121.3 L 209.3 121.3\" id=\"8,3\" style=\"\"></path><path d=\"M 192.9 72.8 L 192.9 89.0 L 209.3 89.0\" id=\"7,4\" style=\"\"></path><path d=\"M 192.9 72.8 L 192.9 56.7 L 209.3 56.7\" id=\"7,5\" style=\"\"></path><path d=\"M 50.8 163.8 L 50.8 202.2 L 105.7 202.2\" id=\"10,6\" style=\"\"></path><path d=\"M 189.4 97.1 L 189.4 72.8 L 192.9 72.8\" id=\"8,7\" style=\"\"></path><path d=\"M 117.3 125.4 L 117.3 97.1 L 189.4 97.1\" id=\"9,8\" style=\"\"></path><path d=\"M 50.8 163.8 L 50.8 125.4 L 117.3 125.4\" id=\"10,9\" style=\"\"></path></g><g class=\"toytree-AdmixEdges\" style=\"fill:rgb(0.0%,0.0%,0.0%);fill-opacity:0.0;stroke:rgb(90.6%,54.1%,76.5%);stroke-opacity:0.6;font-size:14px;stroke-linecap:round;stroke-width:5\"></g><g class=\"toytree-Nodes\" style=\"fill:rgb(40.0%,76.1%,64.7%);fill-opacity:1.0;stroke:rgb(14.9%,14.9%,14.9%);stroke-opacity:1.0;stroke-width:1.5\"></g><g class=\"toytree-TipLabels\" style=\"fill:rgb(14.5%,14.5%,14.5%);fill-opacity:1.0;font-family:Helvetica;font-size:12px;font-weight:300;vertical-align:baseline;white-space:pre;stroke:none\"><g class=\"toytree-TipLabel\" transform=\"translate(209.311,218.347)\"><text x=\"15.0\" y=\"3.066\" style=\"fill:rgb(14.5%,14.5%,14.5%);fill-opacity:1.0\">r0</text></g><g class=\"toytree-TipLabel\" transform=\"translate(209.311,186.008)\"><text x=\"15.0\" y=\"3.066\" style=\"fill:rgb(14.5%,14.5%,14.5%);fill-opacity:1.0\">r1</text></g><g class=\"toytree-TipLabel\" transform=\"translate(209.311,153.669)\"><text x=\"15.0\" y=\"3.066\" style=\"fill:rgb(14.5%,14.5%,14.5%);fill-opacity:1.0\">r2</text></g><g class=\"toytree-TipLabel\" transform=\"translate(209.311,121.331)\"><text x=\"15.0\" y=\"3.066\" style=\"fill:rgb(14.5%,14.5%,14.5%);fill-opacity:1.0\">r3</text></g><g class=\"toytree-TipLabel\" transform=\"translate(209.311,88.9916)\"><text x=\"15.0\" y=\"3.066\" style=\"fill:rgb(14.5%,14.5%,14.5%);fill-opacity:1.0\">r4</text></g><g class=\"toytree-TipLabel\" transform=\"translate(209.311,56.6526)\"><text x=\"15.0\" y=\"3.066\" style=\"fill:rgb(14.5%,14.5%,14.5%);fill-opacity:1.0\">r5</text></g></g></g></g></g></svg><div class=\"toyplot-behavior\"><script>(function()\n",
       "{\n",
       "var modules={};\n",
       "})();</script></div></div>"
      ]
     },
     "metadata": {},
     "output_type": "display_data"
    }
   ],
   "source": [
    "# semicolon hides the returned objects, but drawing still autorenders\n",
    "tree.draw();"
   ]
  },
  {
   "cell_type": "code",
   "execution_count": 4,
   "id": "ad38facd-2a0a-4131-bec2-a76068927965",
   "metadata": {},
   "outputs": [
    {
     "data": {
      "text/html": [
       "<div class=\"toyplot\" id=\"tdfd9af0eb934421886650c26af200688\" style=\"text-align:center\"><svg class=\"toyplot-canvas-Canvas\" xmlns:toyplot=\"http://www.sandia.gov/toyplot\" xmlns:xlink=\"http://www.w3.org/1999/xlink\" xmlns=\"http://www.w3.org/2000/svg\" width=\"300.0px\" height=\"275.0px\" viewBox=\"0 0 300.0 275.0\" preserveAspectRatio=\"xMidYMid meet\" style=\"background-color:transparent;border-color:#292724;border-style:none;border-width:1.0;fill:rgb(16.1%,15.3%,14.1%);fill-opacity:1.0;font-family:Helvetica;font-size:12px;opacity:1.0;stroke:rgb(16.1%,15.3%,14.1%);stroke-opacity:1.0;stroke-width:1.0\" id=\"t4ff5513aea7e4b1299a9a5a9db5abb00\"><g class=\"toyplot-coordinates-Cartesian\" id=\"t8f6683b58a6242bc8b8cd1e37947b1a9\"><clipPath id=\"t6be860450e07454a9a2026b82f057509\"><rect x=\"35.0\" y=\"35.0\" width=\"230.0\" height=\"205.0\"></rect></clipPath><g clip-path=\"url(#t6be860450e07454a9a2026b82f057509)\"><g class=\"toytree-mark-Toytree\" id=\"t86cc970b4a5d45b086dd748beea5f70c\"><g class=\"toytree-Edges\" style=\"stroke:rgb(14.5%,14.5%,14.5%);stroke-opacity:1.0;stroke-linecap:round;stroke-width:2.0;fill:none\"><path d=\"M 105.7 202.2 L 105.7 218.3 L 209.3 218.3\" id=\"6,0\" style=\"\"></path><path d=\"M 105.7 202.2 L 105.7 186.0 L 209.3 186.0\" id=\"6,1\" style=\"\"></path><path d=\"M 117.3 125.4 L 117.3 153.7 L 209.3 153.7\" id=\"9,2\" style=\"\"></path><path d=\"M 189.4 97.1 L 189.4 121.3 L 209.3 121.3\" id=\"8,3\" style=\"\"></path><path d=\"M 192.9 72.8 L 192.9 89.0 L 209.3 89.0\" id=\"7,4\" style=\"\"></path><path d=\"M 192.9 72.8 L 192.9 56.7 L 209.3 56.7\" id=\"7,5\" style=\"\"></path><path d=\"M 50.8 163.8 L 50.8 202.2 L 105.7 202.2\" id=\"10,6\" style=\"\"></path><path d=\"M 189.4 97.1 L 189.4 72.8 L 192.9 72.8\" id=\"8,7\" style=\"\"></path><path d=\"M 117.3 125.4 L 117.3 97.1 L 189.4 97.1\" id=\"9,8\" style=\"\"></path><path d=\"M 50.8 163.8 L 50.8 125.4 L 117.3 125.4\" id=\"10,9\" style=\"\"></path></g><g class=\"toytree-AdmixEdges\" style=\"fill:rgb(0.0%,0.0%,0.0%);fill-opacity:0.0;stroke:rgb(90.6%,54.1%,76.5%);stroke-opacity:0.6;font-size:14px;stroke-linecap:round;stroke-width:5\"></g><g class=\"toytree-Nodes\" style=\"fill:rgb(40.0%,76.1%,64.7%);fill-opacity:1.0;stroke:rgb(14.9%,14.9%,14.9%);stroke-opacity:1.0;stroke-width:1.5\"></g><g class=\"toytree-TipLabels\" style=\"fill:rgb(14.5%,14.5%,14.5%);fill-opacity:1.0;font-family:Helvetica;font-size:12px;font-weight:300;vertical-align:baseline;white-space:pre;stroke:none\"><g class=\"toytree-TipLabel\" transform=\"translate(209.311,218.347)\"><text x=\"15.0\" y=\"3.066\" style=\"fill:rgb(14.5%,14.5%,14.5%);fill-opacity:1.0\">r0</text></g><g class=\"toytree-TipLabel\" transform=\"translate(209.311,186.008)\"><text x=\"15.0\" y=\"3.066\" style=\"fill:rgb(14.5%,14.5%,14.5%);fill-opacity:1.0\">r1</text></g><g class=\"toytree-TipLabel\" transform=\"translate(209.311,153.669)\"><text x=\"15.0\" y=\"3.066\" style=\"fill:rgb(14.5%,14.5%,14.5%);fill-opacity:1.0\">r2</text></g><g class=\"toytree-TipLabel\" transform=\"translate(209.311,121.331)\"><text x=\"15.0\" y=\"3.066\" style=\"fill:rgb(14.5%,14.5%,14.5%);fill-opacity:1.0\">r3</text></g><g class=\"toytree-TipLabel\" transform=\"translate(209.311,88.9916)\"><text x=\"15.0\" y=\"3.066\" style=\"fill:rgb(14.5%,14.5%,14.5%);fill-opacity:1.0\">r4</text></g><g class=\"toytree-TipLabel\" transform=\"translate(209.311,56.6526)\"><text x=\"15.0\" y=\"3.066\" style=\"fill:rgb(14.5%,14.5%,14.5%);fill-opacity:1.0\">r5</text></g></g></g></g></g></svg><div class=\"toyplot-behavior\"><script>(function()\n",
       "{\n",
       "var modules={};\n",
       "})();</script></div></div>"
      ]
     },
     "metadata": {},
     "output_type": "display_data"
    }
   ],
   "source": [
    "# store the drawing objects as variables\n",
    "canvas, axes, mark = tree.draw()"
   ]
  },
  {
   "cell_type": "code",
   "execution_count": 5,
   "id": "b38e86db-9ce9-4d5f-9390-1503bcb4d39c",
   "metadata": {},
   "outputs": [],
   "source": [
    "# store the drawing objects and suppress autorendering in notebook\n",
    "canvas, axes, mark = tree.draw();\n",
    "canvas.autorender(enable=False)"
   ]
  },
  {
   "cell_type": "markdown",
   "id": "10a22b10-dd5d-4e30-96e8-9cc14895703d",
   "metadata": {},
   "source": [
    "## Builtin Tree Styles\n",
    "There are innumerous ways in which to style ToyTree drawings. We provide a number of pre-built tree_styles (normal, dark, coalescent, multitree), but users can also create their own style dictionaries that can be easily reused. Below are some examples. You can use tab-completion within the draw function to see the docstring for more details on available arguments to toggle, or you can see the many style arguments associated with ToyTrees by accessing their `.style` dictionary. See the Styling chapter for more details."
   ]
  },
  {
   "cell_type": "code",
   "execution_count": 6,
   "id": "7d9e8460-2b00-4a27-8779-10e8746765a6",
   "metadata": {},
   "outputs": [
    {
     "data": {
      "text/html": [
       "<div class=\"toyplot\" id=\"t81cd793aaaf64ee6963a470b6af208d1\" style=\"text-align:center\"><svg class=\"toyplot-canvas-Canvas\" xmlns:toyplot=\"http://www.sandia.gov/toyplot\" xmlns:xlink=\"http://www.w3.org/1999/xlink\" xmlns=\"http://www.w3.org/2000/svg\" width=\"300.0px\" height=\"275.0px\" viewBox=\"0 0 300.0 275.0\" preserveAspectRatio=\"xMidYMid meet\" style=\"background-color:transparent;border-color:#292724;border-style:none;border-width:1.0;fill:rgb(16.1%,15.3%,14.1%);fill-opacity:1.0;font-family:Helvetica;font-size:12px;opacity:1.0;stroke:rgb(16.1%,15.3%,14.1%);stroke-opacity:1.0;stroke-width:1.0\" id=\"tb0266b4c7de640bfa5209f0962d6c068\"><g class=\"toyplot-coordinates-Cartesian\" id=\"t53840110a7954a10a10ad42cd1e08791\"><clipPath id=\"tfeacfd8ba5af42b9b27cf46c6935fcc4\"><rect x=\"35.0\" y=\"35.0\" width=\"230.0\" height=\"205.0\"></rect></clipPath><g clip-path=\"url(#tfeacfd8ba5af42b9b27cf46c6935fcc4)\"><g class=\"toytree-mark-Toytree\" id=\"t3e23c4e4c2c34f858c0ca15f56ddbd2c\"><g class=\"toytree-Edges\" style=\"stroke:rgb(40.0%,76.1%,64.7%);stroke-opacity:1.0;stroke-linecap:round;stroke-width:2;fill:none\"><path d=\"M 109.0 202.2 L 109.0 218.3 L 218.7 218.3\" id=\"6,0\" style=\"\"></path><path d=\"M 109.0 202.2 L 109.0 186.0 L 218.7 186.0\" id=\"6,1\" style=\"\"></path><path d=\"M 121.2 125.4 L 121.2 153.7 L 218.7 153.7\" id=\"9,2\" style=\"\"></path><path d=\"M 197.6 97.1 L 197.6 121.3 L 218.7 121.3\" id=\"8,3\" style=\"\"></path><path d=\"M 201.3 72.8 L 201.3 89.0 L 218.7 89.0\" id=\"7,4\" style=\"\"></path><path d=\"M 201.3 72.8 L 201.3 56.7 L 218.7 56.7\" id=\"7,5\" style=\"\"></path><path d=\"M 50.8 163.8 L 50.8 202.2 L 109.0 202.2\" id=\"10,6\" style=\"\"></path><path d=\"M 197.6 97.1 L 197.6 72.8 L 201.3 72.8\" id=\"8,7\" style=\"\"></path><path d=\"M 121.2 125.4 L 121.2 97.1 L 197.6 97.1\" id=\"9,8\" style=\"\"></path><path d=\"M 50.8 163.8 L 50.8 125.4 L 121.2 125.4\" id=\"10,9\" style=\"\"></path></g><g class=\"toytree-AdmixEdges\" style=\"fill:rgb(0.0%,0.0%,0.0%);fill-opacity:0.0;stroke:rgb(90.6%,54.1%,76.5%);stroke-opacity:0.6;font-size:14px;stroke-linecap:round;stroke-width:5\"></g><g class=\"toytree-Nodes\" style=\"fill:rgb(40.0%,76.1%,64.7%);fill-opacity:1.0;stroke:none;stroke-width:1.5\"></g><g class=\"toytree-TipLabels\" style=\"fill:rgb(90.6%,54.1%,76.5%);fill-opacity:1.0;font-family:Helvetica;font-size:12px;font-weight:300;vertical-align:baseline;white-space:pre;stroke:none\"><g class=\"toytree-TipLabel\" transform=\"translate(218.669,218.347)\"><text x=\"8.0\" y=\"3.066\" style=\"fill:rgb(90.6%,54.1%,76.5%);fill-opacity:1.0\">r0</text></g><g class=\"toytree-TipLabel\" transform=\"translate(218.669,186.008)\"><text x=\"8.0\" y=\"3.066\" style=\"fill:rgb(90.6%,54.1%,76.5%);fill-opacity:1.0\">r1</text></g><g class=\"toytree-TipLabel\" transform=\"translate(218.669,153.669)\"><text x=\"8.0\" y=\"3.066\" style=\"fill:rgb(90.6%,54.1%,76.5%);fill-opacity:1.0\">r2</text></g><g class=\"toytree-TipLabel\" transform=\"translate(218.669,121.331)\"><text x=\"8.0\" y=\"3.066\" style=\"fill:rgb(90.6%,54.1%,76.5%);fill-opacity:1.0\">r3</text></g><g class=\"toytree-TipLabel\" transform=\"translate(218.669,88.9916)\"><text x=\"8.0\" y=\"3.066\" style=\"fill:rgb(90.6%,54.1%,76.5%);fill-opacity:1.0\">r4</text></g><g class=\"toytree-TipLabel\" transform=\"translate(218.669,56.6526)\"><text x=\"8.0\" y=\"3.066\" style=\"fill:rgb(90.6%,54.1%,76.5%);fill-opacity:1.0\">r5</text></g></g></g></g></g></svg><div class=\"toyplot-behavior\"><script>(function()\n",
       "{\n",
       "var modules={};\n",
       "})();</script></div></div>"
      ]
     },
     "metadata": {},
     "output_type": "display_data"
    },
    {
     "data": {
      "text/html": [
       "<div class=\"toyplot\" id=\"t60ad4da12ec244cea33a560203c1adce\" style=\"text-align:center\"><svg class=\"toyplot-canvas-Canvas\" xmlns:toyplot=\"http://www.sandia.gov/toyplot\" xmlns:xlink=\"http://www.w3.org/1999/xlink\" xmlns=\"http://www.w3.org/2000/svg\" width=\"300.0px\" height=\"275.0px\" viewBox=\"0 0 300.0 275.0\" preserveAspectRatio=\"xMidYMid meet\" style=\"background-color:transparent;border-color:#292724;border-style:none;border-width:1.0;fill:rgb(16.1%,15.3%,14.1%);fill-opacity:1.0;font-family:Helvetica;font-size:12px;opacity:1.0;stroke:rgb(16.1%,15.3%,14.1%);stroke-opacity:1.0;stroke-width:1.0\" id=\"t68505e082dfa437196d469c86bb1f53f\"><g class=\"toyplot-coordinates-Cartesian\" id=\"tea47510bec1541cb86ff0f0c3ac82684\"><clipPath id=\"t7ed1c8ba2c1949bab83acea5c61442c4\"><rect x=\"35.0\" y=\"35.0\" width=\"230.0\" height=\"205.0\"></rect></clipPath><g clip-path=\"url(#t7ed1c8ba2c1949bab83acea5c61442c4)\"><g class=\"toytree-mark-Toytree\" id=\"t7ac5d958dcb040768cbc42572ddafb4e\"><g class=\"toytree-Edges\" style=\"stroke:rgb(14.5%,14.5%,14.5%);stroke-opacity:1.0;stroke-linecap:round;stroke-width:2;fill:none\"><path d=\"M 108.2 202.2 L 210.0 218.3\" id=\"6,0\" style=\"\"></path><path d=\"M 108.2 202.2 L 210.0 186.0\" id=\"6,1\" style=\"\"></path><path d=\"M 119.6 125.4 L 210.0 153.7\" id=\"9,2\" style=\"\"></path><path d=\"M 190.5 97.1 L 210.0 121.3\" id=\"8,3\" style=\"\"></path><path d=\"M 193.9 72.8 L 210.0 89.0\" id=\"7,4\" style=\"\"></path><path d=\"M 193.9 72.8 L 210.0 56.7\" id=\"7,5\" style=\"\"></path><path d=\"M 54.3 163.8 L 108.2 202.2\" id=\"10,6\" style=\"\"></path><path d=\"M 190.5 97.1 L 193.9 72.8\" id=\"8,7\" style=\"\"></path><path d=\"M 119.6 125.4 L 190.5 97.1\" id=\"9,8\" style=\"\"></path><path d=\"M 54.3 163.8 L 119.6 125.4\" id=\"10,9\" style=\"\"></path></g><g class=\"toytree-AlignEdges\" style=\"stroke:rgb(66.0%,66.0%,66.0%);stroke-opacity:0.75;stroke-dasharray:2,4;stroke-linecap:round;stroke-width:2\"><path d=\"M 210.0 218.3 L 210.0 218.3\"></path><path d=\"M 210.0 186.0 L 210.0 186.0\"></path><path d=\"M 210.0 153.7 L 210.0 153.7\"></path><path d=\"M 210.0 121.3 L 210.0 121.3\"></path><path d=\"M 210.0 89.0 L 210.0 89.0\"></path><path d=\"M 210.0 56.7 L 210.0 56.7\"></path></g><g class=\"toytree-AdmixEdges\" style=\"fill:rgb(0.0%,0.0%,0.0%);fill-opacity:0.0;stroke:rgb(90.6%,54.1%,76.5%);stroke-opacity:0.6;font-size:14px;stroke-linecap:round;stroke-width:5\"></g><g class=\"toytree-Nodes\" style=\"fill:rgb(10.6%,62.0%,46.7%);fill-opacity:1.0;stroke:rgb(100.0%,100.0%,100.0%);stroke-opacity:1.0;stroke-width:1.5\"><g id=\"Node-6\" transform=\"translate(108.234,202.178)\"><circle r=\"4.0\"></circle></g><g id=\"Node-7\" transform=\"translate(193.949,72.8221)\"><circle r=\"4.0\"></circle></g><g id=\"Node-8\" transform=\"translate(190.455,97.0763)\"><circle r=\"4.0\"></circle></g><g id=\"Node-9\" transform=\"translate(119.612,125.373)\"><circle r=\"4.0\"></circle></g><g id=\"Node-10\" transform=\"translate(54.2829,163.775)\"><circle r=\"4.0\"></circle></g></g><g class=\"toytree-TipLabels\" style=\"fill:rgb(14.5%,14.5%,14.5%);fill-opacity:1.0;font-family:Helvetica;font-size:12px;font-weight:300;vertical-align:baseline;white-space:pre;stroke:none\"><g class=\"toytree-TipLabel\" transform=\"translate(210.024,218.347)\"><text x=\"15.0\" y=\"3.066\" style=\"fill:rgb(14.5%,14.5%,14.5%);fill-opacity:1.0\">r0</text></g><g class=\"toytree-TipLabel\" transform=\"translate(210.024,186.008)\"><text x=\"15.0\" y=\"3.066\" style=\"fill:rgb(14.5%,14.5%,14.5%);fill-opacity:1.0\">r1</text></g><g class=\"toytree-TipLabel\" transform=\"translate(210.024,153.669)\"><text x=\"15.0\" y=\"3.066\" style=\"fill:rgb(14.5%,14.5%,14.5%);fill-opacity:1.0\">r2</text></g><g class=\"toytree-TipLabel\" transform=\"translate(210.024,121.331)\"><text x=\"15.0\" y=\"3.066\" style=\"fill:rgb(14.5%,14.5%,14.5%);fill-opacity:1.0\">r3</text></g><g class=\"toytree-TipLabel\" transform=\"translate(210.024,88.9916)\"><text x=\"15.0\" y=\"3.066\" style=\"fill:rgb(14.5%,14.5%,14.5%);fill-opacity:1.0\">r4</text></g><g class=\"toytree-TipLabel\" transform=\"translate(210.024,56.6526)\"><text x=\"15.0\" y=\"3.066\" style=\"fill:rgb(14.5%,14.5%,14.5%);fill-opacity:1.0\">r5</text></g></g></g></g></g></svg><div class=\"toyplot-behavior\"><script>(function()\n",
       "{\n",
       "var modules={};\n",
       "})();</script></div></div>"
      ]
     },
     "metadata": {},
     "output_type": "display_data"
    },
    {
     "data": {
      "text/html": [
       "<div class=\"toyplot\" id=\"tbae1bb494df4486d956323e7297e7cee\" style=\"text-align:center\"><svg class=\"toyplot-canvas-Canvas\" xmlns:toyplot=\"http://www.sandia.gov/toyplot\" xmlns:xlink=\"http://www.w3.org/1999/xlink\" xmlns=\"http://www.w3.org/2000/svg\" width=\"300.0px\" height=\"300.0px\" viewBox=\"0 0 300.0 300.0\" preserveAspectRatio=\"xMidYMid meet\" style=\"background-color:transparent;border-color:#292724;border-style:none;border-width:1.0;fill:rgb(16.1%,15.3%,14.1%);fill-opacity:1.0;font-family:Helvetica;font-size:12px;opacity:1.0;stroke:rgb(16.1%,15.3%,14.1%);stroke-opacity:1.0;stroke-width:1.0\" id=\"t7aa889cc59dd42a78b907fd93ff638ef\"><g class=\"toyplot-coordinates-Cartesian\" id=\"t411d24cfaf8343aca025d3cc5a859640\"><clipPath id=\"t4172e3b3e27d4e25b4de1ea9a4272240\"><rect x=\"35.0\" y=\"35.0\" width=\"230.0\" height=\"230.0\"></rect></clipPath><g clip-path=\"url(#t4172e3b3e27d4e25b4de1ea9a4272240)\"><g class=\"toytree-mark-Toytree\" id=\"tc7ebed3b6a4f4272acd9813158dee197\"><g class=\"toytree-Edges\" style=\"stroke:rgb(14.5%,14.5%,14.5%);stroke-opacity:1.0;stroke-linecap:round;stroke-width:2;fill:none\"><path d=\"M 75.4 109.3 L 56.7 213.8\" id=\"6,0\" style=\"\"></path><path d=\"M 75.4 109.3 L 94.0 213.8\" id=\"6,1\" style=\"\"></path><path d=\"M 164.0 121.0 L 131.3 213.8\" id=\"9,2\" style=\"\"></path><path d=\"M 196.6 193.7 L 168.7 213.8\" id=\"8,3\" style=\"\"></path><path d=\"M 224.6 197.3 L 206.0 213.8\" id=\"7,4\" style=\"\"></path><path d=\"M 224.6 197.3 L 243.3 213.8\" id=\"7,5\" style=\"\"></path><path d=\"M 119.7 54.0 L 75.4 109.3\" id=\"10,6\" style=\"\"></path><path d=\"M 196.6 193.7 L 224.6 197.3\" id=\"8,7\" style=\"\"></path><path d=\"M 164.0 121.0 L 196.6 193.7\" id=\"9,8\" style=\"\"></path><path d=\"M 119.7 54.0 L 164.0 121.0\" id=\"10,9\" style=\"\"></path></g><g class=\"toytree-AdmixEdges\" style=\"fill:rgb(0.0%,0.0%,0.0%);fill-opacity:0.0;stroke:rgb(90.6%,54.1%,76.5%);stroke-opacity:0.6;font-size:14px;stroke-linecap:round;stroke-width:5\"></g><g class=\"toytree-Nodes\" style=\"fill:rgb(40.0%,76.1%,64.7%);fill-opacity:1.0;stroke:rgb(14.5%,14.5%,14.5%);stroke-opacity:1.0;stroke-width:1.5\"><g id=\"Node-0\" transform=\"translate(56.7164,213.78)\"><circle r=\"3.5\"></circle></g><g id=\"Node-1\" transform=\"translate(94.0299,213.78)\"><circle r=\"3.5\"></circle></g><g id=\"Node-2\" transform=\"translate(131.343,213.78)\"><circle r=\"3.5\"></circle></g><g id=\"Node-3\" transform=\"translate(168.657,213.78)\"><circle r=\"3.5\"></circle></g><g id=\"Node-4\" transform=\"translate(205.97,213.78)\"><circle r=\"3.5\"></circle></g><g id=\"Node-5\" transform=\"translate(243.284,213.78)\"><circle r=\"3.5\"></circle></g><g id=\"Node-6\" transform=\"translate(75.3731,109.347)\"><circle r=\"3.5\"></circle></g><g id=\"Node-7\" transform=\"translate(224.627,197.287)\"><circle r=\"3.5\"></circle></g><g id=\"Node-8\" transform=\"translate(196.642,193.703)\"><circle r=\"3.5\"></circle></g><g id=\"Node-9\" transform=\"translate(163.993,121.02)\"><circle r=\"3.5\"></circle></g><g id=\"Node-10\" transform=\"translate(119.683,53.9946)\"><circle r=\"3.5\"></circle></g></g><g class=\"toytree-TipLabels\" style=\"fill:rgb(14.5%,14.5%,14.5%);fill-opacity:1.0;font-family:Helvetica;font-size:12px;font-weight:300;vertical-align:baseline;white-space:pre;stroke:none\"><g class=\"toytree-TipLabel\" transform=\"translate(56.7164,213.78)rotate(90)\"><text x=\"12.0\" y=\"3.066\" style=\"fill:rgb(14.5%,14.5%,14.5%);fill-opacity:1.0\">r0</text></g><g class=\"toytree-TipLabel\" transform=\"translate(94.0299,213.78)rotate(90)\"><text x=\"12.0\" y=\"3.066\" style=\"fill:rgb(14.5%,14.5%,14.5%);fill-opacity:1.0\">r1</text></g><g class=\"toytree-TipLabel\" transform=\"translate(131.343,213.78)rotate(90)\"><text x=\"12.0\" y=\"3.066\" style=\"fill:rgb(14.5%,14.5%,14.5%);fill-opacity:1.0\">r2</text></g><g class=\"toytree-TipLabel\" transform=\"translate(168.657,213.78)rotate(90)\"><text x=\"12.0\" y=\"3.066\" style=\"fill:rgb(14.5%,14.5%,14.5%);fill-opacity:1.0\">r3</text></g><g class=\"toytree-TipLabel\" transform=\"translate(205.97,213.78)rotate(90)\"><text x=\"12.0\" y=\"3.066\" style=\"fill:rgb(14.5%,14.5%,14.5%);fill-opacity:1.0\">r4</text></g><g class=\"toytree-TipLabel\" transform=\"translate(243.284,213.78)rotate(90)\"><text x=\"12.0\" y=\"3.066\" style=\"fill:rgb(14.5%,14.5%,14.5%);fill-opacity:1.0\">r5</text></g></g></g></g><g class=\"toyplot-coordinates-Axis\" id=\"tdae7f8ceba3147df8a5105b7e333bba9\" transform=\"translate(50.0,250.0)rotate(-90.0)translate(0,-15.0)\"><line x1=\"36.22012015850698\" y1=\"0\" x2=\"196.00536878435386\" y2=\"0\" style=\"\"></line><g><line x1=\"36.22012015850698\" y1=\"0\" x2=\"36.22012015850698\" y2=\"5\" style=\"\"></line><line x1=\"82.581045916966\" y1=\"0\" x2=\"82.581045916966\" y2=\"5\" style=\"\"></line><line x1=\"128.94197167542504\" y1=\"0\" x2=\"128.94197167542504\" y2=\"5\" style=\"\"></line><line x1=\"175.30289743388408\" y1=\"0\" x2=\"175.30289743388408\" y2=\"5\" style=\"\"></line></g><g><g transform=\"translate(36.22012015850698,-6)\"><text x=\"-2.78\" y=\"-4.440892098500626e-16\" style=\"fill:rgb(16.1%,15.3%,14.1%);fill-opacity:1.0;font-family:helvetica;font-size:10.0px;font-weight:normal;stroke:none;vertical-align:baseline;white-space:pre\">0</text></g><g transform=\"translate(82.581045916966,-6)\"><text x=\"-6.95\" y=\"-4.440892098500626e-16\" style=\"fill:rgb(16.1%,15.3%,14.1%);fill-opacity:1.0;font-family:helvetica;font-size:10.0px;font-weight:normal;stroke:none;vertical-align:baseline;white-space:pre\">0.5</text></g><g transform=\"translate(128.94197167542504,-6)\"><text x=\"-2.78\" y=\"-4.440892098500626e-16\" style=\"fill:rgb(16.1%,15.3%,14.1%);fill-opacity:1.0;font-family:helvetica;font-size:10.0px;font-weight:normal;stroke:none;vertical-align:baseline;white-space:pre\">1</text></g><g transform=\"translate(175.30289743388408,-6)\"><text x=\"-6.95\" y=\"-4.440892098500626e-16\" style=\"fill:rgb(16.1%,15.3%,14.1%);fill-opacity:1.0;font-family:helvetica;font-size:10.0px;font-weight:normal;stroke:none;vertical-align:baseline;white-space:pre\">1.5</text></g></g><g class=\"toyplot-coordinates-Axis-coordinates\" style=\"visibility:hidden\" transform=\"\"><line x1=\"0\" x2=\"0\" y1=\"3.0\" y2=\"-4.5\" style=\"stroke:rgb(43.9%,50.2%,56.5%);stroke-opacity:1.0;stroke-width:1.0\"></line><text x=\"0\" y=\"6\" style=\"alignment-baseline:hanging;fill:rgb(43.9%,50.2%,56.5%);fill-opacity:1.0;font-size:10px;font-weight:normal;stroke:none;text-anchor:middle\"></text></g></g></g></svg><div class=\"toyplot-behavior\"><script>(function()\n",
       "{\n",
       "var modules={};\n",
       "modules[\"toyplot/canvas/id\"] = \"t7aa889cc59dd42a78b907fd93ff638ef\";\n",
       "modules[\"toyplot/canvas\"] = (function(canvas_id)\n",
       "    {\n",
       "        return document.querySelector(\"#\" + canvas_id);\n",
       "    })(modules[\"toyplot/canvas/id\"]);\n",
       "modules[\"toyplot.coordinates.Axis\"] = (\n",
       "        function(canvas)\n",
       "        {\n",
       "            function sign(x)\n",
       "            {\n",
       "                return x < 0 ? -1 : x > 0 ? 1 : 0;\n",
       "            }\n",
       "\n",
       "            function mix(a, b, amount)\n",
       "            {\n",
       "                return ((1.0 - amount) * a) + (amount * b);\n",
       "            }\n",
       "\n",
       "            function log(x, base)\n",
       "            {\n",
       "                return Math.log(Math.abs(x)) / Math.log(base);\n",
       "            }\n",
       "\n",
       "            function in_range(a, x, b)\n",
       "            {\n",
       "                var left = Math.min(a, b);\n",
       "                var right = Math.max(a, b);\n",
       "                return left <= x && x <= right;\n",
       "            }\n",
       "\n",
       "            function inside(range, projection)\n",
       "            {\n",
       "                for(var i = 0; i != projection.length; ++i)\n",
       "                {\n",
       "                    var segment = projection[i];\n",
       "                    if(in_range(segment.range.min, range, segment.range.max))\n",
       "                        return true;\n",
       "                }\n",
       "                return false;\n",
       "            }\n",
       "\n",
       "            function to_domain(range, projection)\n",
       "            {\n",
       "                for(var i = 0; i != projection.length; ++i)\n",
       "                {\n",
       "                    var segment = projection[i];\n",
       "                    if(in_range(segment.range.bounds.min, range, segment.range.bounds.max))\n",
       "                    {\n",
       "                        if(segment.scale == \"linear\")\n",
       "                        {\n",
       "                            var amount = (range - segment.range.min) / (segment.range.max - segment.range.min);\n",
       "                            return mix(segment.domain.min, segment.domain.max, amount)\n",
       "                        }\n",
       "                        else if(segment.scale[0] == \"log\")\n",
       "                        {\n",
       "                            var amount = (range - segment.range.min) / (segment.range.max - segment.range.min);\n",
       "                            var base = segment.scale[1];\n",
       "                            return sign(segment.domain.min) * Math.pow(base, mix(log(segment.domain.min, base), log(segment.domain.max, base), amount));\n",
       "                        }\n",
       "                    }\n",
       "                }\n",
       "            }\n",
       "\n",
       "            var axes = {};\n",
       "\n",
       "            function display_coordinates(e)\n",
       "            {\n",
       "                var current = canvas.createSVGPoint();\n",
       "                current.x = e.clientX;\n",
       "                current.y = e.clientY;\n",
       "\n",
       "                for(var axis_id in axes)\n",
       "                {\n",
       "                    var axis = document.querySelector(\"#\" + axis_id);\n",
       "                    var coordinates = axis.querySelector(\".toyplot-coordinates-Axis-coordinates\");\n",
       "                    if(coordinates)\n",
       "                    {\n",
       "                        var projection = axes[axis_id];\n",
       "                        var local = current.matrixTransform(axis.getScreenCTM().inverse());\n",
       "                        if(inside(local.x, projection))\n",
       "                        {\n",
       "                            var domain = to_domain(local.x, projection);\n",
       "                            coordinates.style.visibility = \"visible\";\n",
       "                            coordinates.setAttribute(\"transform\", \"translate(\" + local.x + \")\");\n",
       "                            var text = coordinates.querySelector(\"text\");\n",
       "                            text.textContent = domain.toFixed(2);\n",
       "                        }\n",
       "                        else\n",
       "                        {\n",
       "                            coordinates.style.visibility= \"hidden\";\n",
       "                        }\n",
       "                    }\n",
       "                }\n",
       "            }\n",
       "\n",
       "            canvas.addEventListener(\"click\", display_coordinates);\n",
       "\n",
       "            var module = {};\n",
       "            module.show_coordinates = function(axis_id, projection)\n",
       "            {\n",
       "                axes[axis_id] = projection;\n",
       "            }\n",
       "\n",
       "            return module;\n",
       "        })(modules[\"toyplot/canvas\"]);\n",
       "(function(axis, axis_id, projection)\n",
       "        {\n",
       "            axis.show_coordinates(axis_id, projection);\n",
       "        })(modules[\"toyplot.coordinates.Axis\"],\"tdae7f8ceba3147df8a5105b7e333bba9\",[{\"domain\": {\"bounds\": {\"max\": Infinity, \"min\": -Infinity}, \"max\": 1.7663568744807658, \"min\": -0.3906319768851709}, \"range\": {\"bounds\": {\"max\": Infinity, \"min\": -Infinity}, \"max\": 200.0, \"min\": 0.0}, \"scale\": \"linear\"}]);\n",
       "})();</script></div></div>"
      ]
     },
     "metadata": {},
     "output_type": "display_data"
    },
    {
     "data": {
      "text/html": [
       "<div class=\"toyplot\" id=\"tbe295440355b4733a2ff85dd42d73dc1\" style=\"text-align:center\"><svg class=\"toyplot-canvas-Canvas\" xmlns:toyplot=\"http://www.sandia.gov/toyplot\" xmlns:xlink=\"http://www.w3.org/1999/xlink\" xmlns=\"http://www.w3.org/2000/svg\" width=\"300.0px\" height=\"275.0px\" viewBox=\"0 0 300.0 275.0\" preserveAspectRatio=\"xMidYMid meet\" style=\"background-color:transparent;border-color:#292724;border-style:none;border-width:1.0;fill:rgb(16.1%,15.3%,14.1%);fill-opacity:1.0;font-family:Helvetica;font-size:12px;opacity:1.0;stroke:rgb(16.1%,15.3%,14.1%);stroke-opacity:1.0;stroke-width:1.0\" id=\"t7251b9a288e6469f857db60eed9fe6bd\"><g class=\"toyplot-coordinates-Cartesian\" id=\"t1160d38ce6274d6bb4a9abbcba187bd2\"><clipPath id=\"t96b9905b55884fbeb703b01c0b2c640e\"><rect x=\"35.0\" y=\"35.0\" width=\"230.0\" height=\"205.0\"></rect></clipPath><g clip-path=\"url(#t96b9905b55884fbeb703b01c0b2c640e)\"><g class=\"toytree-mark-Toytree\" id=\"tedee5bbc211540678c886d9449ee27de\"><g class=\"toytree-Edges\" style=\"stroke:rgb(14.5%,14.5%,14.5%);stroke-opacity:1.0;stroke-linecap:round;stroke-width:2.0;fill:none\"><path d=\"M 113.7 200.6 L 113.7 216.4 L 209.7 216.4\" id=\"6,0\" style=\"\"></path><path d=\"M 113.7 200.6 L 113.7 184.9 L 209.7 184.9\" id=\"6,1\" style=\"\"></path><path d=\"M 124.4 125.7 L 124.4 153.3 L 209.7 153.3\" id=\"9,2\" style=\"\"></path><path d=\"M 191.2 98.0 L 191.2 121.7 L 209.7 121.7\" id=\"8,3\" style=\"\"></path><path d=\"M 194.5 74.4 L 194.5 90.1 L 209.7 90.1\" id=\"7,4\" style=\"\"></path><path d=\"M 194.5 74.4 L 194.5 58.6 L 209.7 58.6\" id=\"7,5\" style=\"\"></path><path d=\"M 62.8 163.2 L 62.8 200.6 L 113.7 200.6\" id=\"10,6\" style=\"\"></path><path d=\"M 191.2 98.0 L 191.2 74.4 L 194.5 74.4\" id=\"8,7\" style=\"\"></path><path d=\"M 124.4 125.7 L 124.4 98.0 L 191.2 98.0\" id=\"9,8\" style=\"\"></path><path d=\"M 62.8 163.2 L 62.8 125.7 L 124.4 125.7\" id=\"10,9\" style=\"\"></path></g><g class=\"toytree-AdmixEdges\" style=\"fill:rgb(0.0%,0.0%,0.0%);fill-opacity:0.0;stroke:rgb(90.6%,54.1%,76.5%);stroke-opacity:0.6;font-size:14px;stroke-linecap:round;stroke-width:5\"></g><g class=\"toytree-Nodes\" style=\"fill:rgb(82.7%,82.7%,82.7%);fill-opacity:1.0;stroke:rgb(14.9%,14.9%,14.9%);stroke-opacity:1.0;stroke-width:1.5\"><g id=\"Node-6\" transform=\"translate(113.72,200.644)\"><rect x=\"-16.0\" y=\"-8.0\" width=\"32.0\" height=\"16.0\"></rect></g><g id=\"Node-7\" transform=\"translate(194.539,74.3557)\"><rect x=\"-16.0\" y=\"-8.0\" width=\"32.0\" height=\"16.0\"></rect></g><g id=\"Node-8\" transform=\"translate(191.245,98.0348)\"><rect x=\"-16.0\" y=\"-8.0\" width=\"32.0\" height=\"16.0\"></rect></g><g id=\"Node-9\" transform=\"translate(124.448,125.66)\"><rect x=\"-16.0\" y=\"-8.0\" width=\"32.0\" height=\"16.0\"></rect></g><g id=\"Node-10\" transform=\"translate(62.8491,163.152)\"><rect x=\"-16.0\" y=\"-8.0\" width=\"32.0\" height=\"16.0\"></rect></g></g><g class=\"toytree-NodeLabels\" style=\"font-family:Helvetica;font-size:9px;font-weight:300;vertical-align:baseline;white-space:pre;stroke:none\"><g class=\"toytree-NodeLabel\" transform=\"translate(113.72,200.644)\"><text x=\"-6.5025\" y=\"2.2995\" style=\"fill:rgb(14.5%,14.5%,14.5%);fill-opacity:1.0\">1-1</text></g><g class=\"toytree-NodeLabel\" transform=\"translate(194.539,74.3557)\"><text x=\"-6.5025\" y=\"2.2995\" style=\"fill:rgb(14.5%,14.5%,14.5%);fill-opacity:1.0\">4-2</text></g><g class=\"toytree-NodeLabel\" transform=\"translate(191.245,98.0348)\"><text x=\"-6.5025\" y=\"2.2995\" style=\"fill:rgb(14.5%,14.5%,14.5%);fill-opacity:1.0\">3-2</text></g><g class=\"toytree-NodeLabel\" transform=\"translate(124.448,125.66)\"><text x=\"-6.5025\" y=\"2.2995\" style=\"fill:rgb(14.5%,14.5%,14.5%);fill-opacity:1.0\">1-2</text></g><g class=\"toytree-NodeLabel\" transform=\"translate(62.8491,163.152)\"><text x=\"-2.5020000000000002\" y=\"2.2995\" style=\"fill:rgb(14.5%,14.5%,14.5%);fill-opacity:1.0\">0</text></g></g><g class=\"toytree-TipLabels\" style=\"fill:rgb(14.5%,14.5%,14.5%);fill-opacity:1.0;font-family:Helvetica;font-size:14px;font-weight:300;vertical-align:baseline;white-space:pre;stroke:none\"><g class=\"toytree-TipLabel\" transform=\"translate(209.696,216.43)\"><text x=\"15.0\" y=\"3.577\" style=\"fill:rgb(14.5%,14.5%,14.5%);fill-opacity:1.0\">r0</text></g><g class=\"toytree-TipLabel\" transform=\"translate(209.696,184.858)\"><text x=\"15.0\" y=\"3.577\" style=\"fill:rgb(14.5%,14.5%,14.5%);fill-opacity:1.0\">r1</text></g><g class=\"toytree-TipLabel\" transform=\"translate(209.696,153.286)\"><text x=\"15.0\" y=\"3.577\" style=\"fill:rgb(14.5%,14.5%,14.5%);fill-opacity:1.0\">r2</text></g><g class=\"toytree-TipLabel\" transform=\"translate(209.696,121.714)\"><text x=\"15.0\" y=\"3.577\" style=\"fill:rgb(14.5%,14.5%,14.5%);fill-opacity:1.0\">r3</text></g><g class=\"toytree-TipLabel\" transform=\"translate(209.696,90.1418)\"><text x=\"15.0\" y=\"3.577\" style=\"fill:rgb(14.5%,14.5%,14.5%);fill-opacity:1.0\">r4</text></g><g class=\"toytree-TipLabel\" transform=\"translate(209.696,58.5696)\"><text x=\"15.0\" y=\"3.577\" style=\"fill:rgb(14.5%,14.5%,14.5%);fill-opacity:1.0\">r5</text></g></g></g></g></g></svg><div class=\"toyplot-behavior\"><script>(function()\n",
       "{\n",
       "var modules={};\n",
       "})();</script></div></div>"
      ]
     },
     "metadata": {},
     "output_type": "display_data"
    }
   ],
   "source": [
    "# drawing with pre-built tree_styles\n",
    "tree.draw(tree_style='d');  # dark-style\n",
    "tree.draw(tree_style='o');  # umlaut-style\n",
    "tree.draw(tree_style='c');  # coalescent-style\n",
    "tree.draw(tree_style='r');  # R-style"
   ]
  },
  {
   "cell_type": "markdown",
   "id": "c407eba8-97a6-4322-87bd-b4bb0d19f286",
   "metadata": {},
   "source": [
    "You can think of setting a `tree_style` as changing the baseline style on top of which additional drawing arguments can still be added. For example, here we select the \"dark\" tree style, which changes the default edge and tip colors, and on top of this we can still specify a change to the layout, node marker type, node size, and/or other drawing options."
   ]
  },
  {
   "cell_type": "code",
   "execution_count": 7,
   "id": "8ec6fe6d-e54c-4f9f-a4a5-95a78e6b687b",
   "metadata": {},
   "outputs": [
    {
     "data": {
      "text/html": [
       "<div class=\"toyplot\" id=\"t30afdda51a2b4755b443508feaebb70f\" style=\"text-align:center\"><svg class=\"toyplot-canvas-Canvas\" xmlns:toyplot=\"http://www.sandia.gov/toyplot\" xmlns:xlink=\"http://www.w3.org/1999/xlink\" xmlns=\"http://www.w3.org/2000/svg\" width=\"300.0px\" height=\"250.0px\" viewBox=\"0 0 300.0 250.0\" preserveAspectRatio=\"xMidYMid meet\" style=\"background-color:transparent;border-color:#292724;border-style:none;border-width:1.0;fill:rgb(16.1%,15.3%,14.1%);fill-opacity:1.0;font-family:Helvetica;font-size:12px;opacity:1.0;stroke:rgb(16.1%,15.3%,14.1%);stroke-opacity:1.0;stroke-width:1.0\" id=\"t059e8de83f1f475193d26f36838b8317\"><g class=\"toyplot-coordinates-Cartesian\" id=\"t1745e17b11154058ba1e1219d3f5adb9\"><clipPath id=\"tfc98271079de4fe19e253500d42e9bd6\"><rect x=\"35.0\" y=\"35.0\" width=\"230.0\" height=\"180.0\"></rect></clipPath><g clip-path=\"url(#tfc98271079de4fe19e253500d42e9bd6)\"><g class=\"toytree-mark-Toytree\" id=\"te2bf18aabdb54daba1f8b0ed0717c81a\"><g class=\"toytree-Edges\" style=\"stroke:rgb(40.0%,76.1%,64.7%);stroke-opacity:1.0;stroke-linecap:round;stroke-width:2;fill:none\"><path d=\"M 75.4 94.7 L 56.7 94.7 L 56.7 171.0\" id=\"6,0\" style=\"\"></path><path d=\"M 75.4 94.7 L 94.0 94.7 L 94.0 171.0\" id=\"6,1\" style=\"\"></path><path d=\"M 164.0 103.2 L 131.3 103.2 L 131.3 171.0\" id=\"9,2\" style=\"\"></path><path d=\"M 196.6 156.3 L 168.7 156.3 L 168.7 171.0\" id=\"8,3\" style=\"\"></path><path d=\"M 224.6 158.9 L 206.0 158.9 L 206.0 171.0\" id=\"7,4\" style=\"\"></path><path d=\"M 224.6 158.9 L 243.3 158.9 L 243.3 171.0\" id=\"7,5\" style=\"\"></path><path d=\"M 119.7 54.3 L 75.4 54.3 L 75.4 94.7\" id=\"10,6\" style=\"\"></path><path d=\"M 196.6 156.3 L 224.6 156.3 L 224.6 158.9\" id=\"8,7\" style=\"\"></path><path d=\"M 164.0 103.2 L 196.6 103.2 L 196.6 156.3\" id=\"9,8\" style=\"\"></path><path d=\"M 119.7 54.3 L 164.0 54.3 L 164.0 103.2\" id=\"10,9\" style=\"\"></path></g><g class=\"toytree-AdmixEdges\" style=\"fill:rgb(0.0%,0.0%,0.0%);fill-opacity:0.0;stroke:rgb(90.6%,54.1%,76.5%);stroke-opacity:0.6;font-size:14px;stroke-linecap:round;stroke-width:5\"></g><g class=\"toytree-Nodes\" style=\"fill:rgb(40.0%,76.1%,64.7%);fill-opacity:1.0;stroke:none;stroke-width:1.5\"><g id=\"Node-6\" transform=\"translate(75.3731,94.698)\"><rect x=\"-4.0\" y=\"-4.0\" width=\"8\" height=\"8\"></rect></g><g id=\"Node-7\" transform=\"translate(224.627,158.914)\"><rect x=\"-4.0\" y=\"-4.0\" width=\"8\" height=\"8\"></rect></g><g id=\"Node-8\" transform=\"translate(196.642,156.297)\"><rect x=\"-4.0\" y=\"-4.0\" width=\"8\" height=\"8\"></rect></g><g id=\"Node-9\" transform=\"translate(163.993,103.222)\"><rect x=\"-4.0\" y=\"-4.0\" width=\"8\" height=\"8\"></rect></g><g id=\"Node-10\" transform=\"translate(119.683,54.2782)\"><rect x=\"-4.0\" y=\"-4.0\" width=\"8\" height=\"8\"></rect></g></g><g class=\"toytree-TipLabels\" style=\"fill:rgb(90.6%,54.1%,76.5%);fill-opacity:1.0;font-family:Helvetica;font-size:12px;font-weight:300;vertical-align:baseline;white-space:pre;stroke:none\"><g class=\"toytree-TipLabel\" transform=\"translate(56.7164,170.958)rotate(90)\"><text x=\"8.0\" y=\"3.066\" style=\"fill:rgb(90.6%,54.1%,76.5%);fill-opacity:1.0\">r0</text></g><g class=\"toytree-TipLabel\" transform=\"translate(94.0299,170.958)rotate(90)\"><text x=\"8.0\" y=\"3.066\" style=\"fill:rgb(90.6%,54.1%,76.5%);fill-opacity:1.0\">r1</text></g><g class=\"toytree-TipLabel\" transform=\"translate(131.343,170.958)rotate(90)\"><text x=\"8.0\" y=\"3.066\" style=\"fill:rgb(90.6%,54.1%,76.5%);fill-opacity:1.0\">r2</text></g><g class=\"toytree-TipLabel\" transform=\"translate(168.657,170.958)rotate(90)\"><text x=\"8.0\" y=\"3.066\" style=\"fill:rgb(90.6%,54.1%,76.5%);fill-opacity:1.0\">r3</text></g><g class=\"toytree-TipLabel\" transform=\"translate(205.97,170.958)rotate(90)\"><text x=\"8.0\" y=\"3.066\" style=\"fill:rgb(90.6%,54.1%,76.5%);fill-opacity:1.0\">r4</text></g><g class=\"toytree-TipLabel\" transform=\"translate(243.284,170.958)rotate(90)\"><text x=\"8.0\" y=\"3.066\" style=\"fill:rgb(90.6%,54.1%,76.5%);fill-opacity:1.0\">r5</text></g></g></g></g></g></svg><div class=\"toyplot-behavior\"><script>(function()\n",
       "{\n",
       "var modules={};\n",
       "})();</script></div></div>"
      ]
     },
     "metadata": {},
     "output_type": "display_data"
    }
   ],
   "source": [
    "# tree_style is a baseline on top of which additional styles can be added\n",
    "tree.draw(tree_style='d', layout='d', node_markers=\"s\", node_sizes=8, height=250);"
   ]
  },
  {
   "attachments": {},
   "cell_type": "markdown",
   "id": "6fd06988-1ab6-4b0f-9cd4-3816a62a89be",
   "metadata": {},
   "source": [
    "## Tree Style Options\n",
    "There are a number of ways to apply individual styles to tree drawings. Which method you use may depend on whether you intend to reuse a particular tree style many times, or just once. The most common method is described below as the \"one-time\" setting, in which you enter style arguments to the `.draw()` function. You will see this used most common throughout this tutorial. However, it is also possible for users to create reusable styles similar to the builtin tree style types shown above. A final option is to modify style settings saved to the tree objects themselves. Each is demonstrated below.\n",
    "\n",
    "### One-time settings\n",
    "Use tab-completion or other methods to examine the documentation string of the draw function to see the options available for styling tree drawings. "
   ]
  },
  {
   "cell_type": "code",
   "execution_count": 8,
   "id": "adbe054f-0326-4faa-a1bc-47749e14d33b",
   "metadata": {},
   "outputs": [
    {
     "data": {
      "text/html": [
       "<div class=\"toyplot\" id=\"td45e3a4e769e47c88410273aafbc6117\" style=\"text-align:center\"><svg class=\"toyplot-canvas-Canvas\" xmlns:toyplot=\"http://www.sandia.gov/toyplot\" xmlns:xlink=\"http://www.w3.org/1999/xlink\" xmlns=\"http://www.w3.org/2000/svg\" width=\"300.0px\" height=\"275.0px\" viewBox=\"0 0 300.0 275.0\" preserveAspectRatio=\"xMidYMid meet\" style=\"background-color:transparent;border-color:#292724;border-style:none;border-width:1.0;fill:rgb(16.1%,15.3%,14.1%);fill-opacity:1.0;font-family:Helvetica;font-size:12px;opacity:1.0;stroke:rgb(16.1%,15.3%,14.1%);stroke-opacity:1.0;stroke-width:1.0\" id=\"t55d89093ae02419691eaea5731a3e139\"><g class=\"toyplot-coordinates-Cartesian\" id=\"t89561d45e3634d8bbd46302514b641bb\"><clipPath id=\"td8f035a69ea44f08baecfb59b2ef14f9\"><rect x=\"35.0\" y=\"35.0\" width=\"230.0\" height=\"205.0\"></rect></clipPath><g clip-path=\"url(#td8f035a69ea44f08baecfb59b2ef14f9)\"><g class=\"toytree-mark-Toytree\" id=\"te85226af1e4442a49e03c2fc75f6a27e\"><g class=\"toytree-Edges\" style=\"stroke:rgb(54.5%,0.0%,54.5%);stroke-opacity:1.0;opacity:0.3;stroke-linecap:round;stroke-width:2.0;fill:none\"><path d=\"M 108.2 202.2 L 210.0 218.3\" id=\"6,0\" style=\"\"></path><path d=\"M 108.2 202.2 L 210.0 186.0\" id=\"6,1\" style=\"\"></path><path d=\"M 119.6 125.4 L 210.0 153.7\" id=\"9,2\" style=\"\"></path><path d=\"M 190.5 97.1 L 210.0 121.3\" id=\"8,3\" style=\"\"></path><path d=\"M 193.9 72.8 L 210.0 89.0\" id=\"7,4\" style=\"\"></path><path d=\"M 193.9 72.8 L 210.0 56.7\" id=\"7,5\" style=\"\"></path><path d=\"M 54.3 163.8 L 108.2 202.2\" id=\"10,6\" style=\"\"></path><path d=\"M 190.5 97.1 L 193.9 72.8\" id=\"8,7\" style=\"\"></path><path d=\"M 119.6 125.4 L 190.5 97.1\" id=\"9,8\" style=\"\"></path><path d=\"M 54.3 163.8 L 119.6 125.4\" id=\"10,9\" style=\"\"></path></g><g class=\"toytree-AdmixEdges\" style=\"fill:rgb(0.0%,0.0%,0.0%);fill-opacity:0.0;stroke:rgb(90.6%,54.1%,76.5%);stroke-opacity:0.6;font-size:14px;stroke-linecap:round;stroke-width:5\"></g><g class=\"toytree-Nodes\" style=\"fill:rgb(40.0%,76.1%,64.7%);fill-opacity:1.0;stroke:rgb(14.9%,14.9%,14.9%);stroke-opacity:1.0;stroke-width:1.5\"><g id=\"Node-0\" transform=\"translate(210.024,218.347)\"><polygon points=\"-4.0,4.0 0,-4.0 4.0,4.0\" transform=\"rotate(90)\"></polygon></g><g id=\"Node-1\" transform=\"translate(210.024,186.008)\"><polygon points=\"-4.0,4.0 0,-4.0 4.0,4.0\" transform=\"rotate(90)\"></polygon></g><g id=\"Node-2\" transform=\"translate(210.024,153.669)\"><polygon points=\"-4.0,4.0 0,-4.0 4.0,4.0\" transform=\"rotate(90)\"></polygon></g><g id=\"Node-3\" transform=\"translate(210.024,121.331)\"><polygon points=\"-4.0,4.0 0,-4.0 4.0,4.0\" transform=\"rotate(90)\"></polygon></g><g id=\"Node-4\" transform=\"translate(210.024,88.9916)\"><polygon points=\"-4.0,4.0 0,-4.0 4.0,4.0\" transform=\"rotate(90)\"></polygon></g><g id=\"Node-5\" transform=\"translate(210.024,56.6526)\"><polygon points=\"-4.0,4.0 0,-4.0 4.0,4.0\" transform=\"rotate(90)\"></polygon></g><g id=\"Node-6\" transform=\"translate(108.234,202.178)\"><polygon points=\"-4.0,4.0 0,-4.0 4.0,4.0\" transform=\"rotate(90)\"></polygon></g><g id=\"Node-7\" transform=\"translate(193.949,72.8221)\"><polygon points=\"-4.0,4.0 0,-4.0 4.0,4.0\" transform=\"rotate(90)\"></polygon></g><g id=\"Node-8\" transform=\"translate(190.455,97.0763)\"><polygon points=\"-4.0,4.0 0,-4.0 4.0,4.0\" transform=\"rotate(90)\"></polygon></g><g id=\"Node-9\" transform=\"translate(119.612,125.373)\"><polygon points=\"-4.0,4.0 0,-4.0 4.0,4.0\" transform=\"rotate(90)\"></polygon></g><g id=\"Node-10\" transform=\"translate(54.2829,163.775)\"><polygon points=\"-4.0,4.0 0,-4.0 4.0,4.0\" transform=\"rotate(90)\"></polygon></g></g><g class=\"toytree-TipLabels\" style=\"fill:rgb(14.5%,14.5%,14.5%);fill-opacity:1.0;font-family:Helvetica;font-size:12px;font-weight:300;vertical-align:baseline;white-space:pre;stroke:none\"><g class=\"toytree-TipLabel\" transform=\"translate(210.024,218.347)\"><text x=\"15.0\" y=\"3.066\" style=\"fill:rgb(14.5%,14.5%,14.5%);fill-opacity:1.0\">r0</text></g><g class=\"toytree-TipLabel\" transform=\"translate(210.024,186.008)\"><text x=\"15.0\" y=\"3.066\" style=\"fill:rgb(14.5%,14.5%,14.5%);fill-opacity:1.0\">r1</text></g><g class=\"toytree-TipLabel\" transform=\"translate(210.024,153.669)\"><text x=\"15.0\" y=\"3.066\" style=\"fill:rgb(14.5%,14.5%,14.5%);fill-opacity:1.0\">r2</text></g><g class=\"toytree-TipLabel\" transform=\"translate(210.024,121.331)\"><text x=\"15.0\" y=\"3.066\" style=\"fill:rgb(14.5%,14.5%,14.5%);fill-opacity:1.0\">r3</text></g><g class=\"toytree-TipLabel\" transform=\"translate(210.024,88.9916)\"><text x=\"15.0\" y=\"3.066\" style=\"fill:rgb(14.5%,14.5%,14.5%);fill-opacity:1.0\">r4</text></g><g class=\"toytree-TipLabel\" transform=\"translate(210.024,56.6526)\"><text x=\"15.0\" y=\"3.066\" style=\"fill:rgb(14.5%,14.5%,14.5%);fill-opacity:1.0\">r5</text></g></g></g></g><g class=\"toyplot-coordinates-Axis\" id=\"td2cb380ed78f400bb631bb46793e56b2\" transform=\"translate(50.0,225.0)translate(0,15.0)\"><line x1=\"4.282888691616452\" y1=\"0\" x2=\"160.02429565948697\" y2=\"0\" style=\"\"></line><g><line x1=\"24.46142233951318\" y1=\"0\" x2=\"24.46142233951318\" y2=\"-5\" style=\"\"></line><line x1=\"69.64904677950446\" y1=\"0\" x2=\"69.64904677950446\" y2=\"-5\" style=\"\"></line><line x1=\"114.83667121949573\" y1=\"0\" x2=\"114.83667121949573\" y2=\"-5\" style=\"\"></line><line x1=\"160.02429565948697\" y1=\"0\" x2=\"160.02429565948697\" y2=\"-5\" style=\"\"></line></g><g><g transform=\"translate(24.46142233951318,6)\"><text x=\"-6.95\" y=\"8.555\" style=\"fill:rgb(16.1%,15.3%,14.1%);fill-opacity:1.0;font-family:helvetica;font-size:10.0px;font-weight:normal;stroke:none;vertical-align:baseline;white-space:pre\">1.5</text></g><g transform=\"translate(69.64904677950446,6)\"><text x=\"-2.78\" y=\"8.555\" style=\"fill:rgb(16.1%,15.3%,14.1%);fill-opacity:1.0;font-family:helvetica;font-size:10.0px;font-weight:normal;stroke:none;vertical-align:baseline;white-space:pre\">1</text></g><g transform=\"translate(114.83667121949573,6)\"><text x=\"-6.95\" y=\"8.555\" style=\"fill:rgb(16.1%,15.3%,14.1%);fill-opacity:1.0;font-family:helvetica;font-size:10.0px;font-weight:normal;stroke:none;vertical-align:baseline;white-space:pre\">0.5</text></g><g transform=\"translate(160.02429565948697,6)\"><text x=\"-2.78\" y=\"8.555\" style=\"fill:rgb(16.1%,15.3%,14.1%);fill-opacity:1.0;font-family:helvetica;font-size:10.0px;font-weight:normal;stroke:none;vertical-align:baseline;white-space:pre\">0</text></g></g><g class=\"toyplot-coordinates-Axis-coordinates\" style=\"visibility:hidden\" transform=\"\"><line x1=\"0\" x2=\"0\" y1=\"-3.0\" y2=\"4.5\" style=\"stroke:rgb(43.9%,50.2%,56.5%);stroke-opacity:1.0;stroke-width:1.0\"></line><text x=\"0\" y=\"-6\" style=\"alignment-baseline:alphabetic;fill:rgb(43.9%,50.2%,56.5%);fill-opacity:1.0;font-size:10px;font-weight:normal;stroke:none;text-anchor:middle\"></text></g></g></g></svg><div class=\"toyplot-behavior\"><script>(function()\n",
       "{\n",
       "var modules={};\n",
       "modules[\"toyplot/canvas/id\"] = \"t55d89093ae02419691eaea5731a3e139\";\n",
       "modules[\"toyplot/canvas\"] = (function(canvas_id)\n",
       "    {\n",
       "        return document.querySelector(\"#\" + canvas_id);\n",
       "    })(modules[\"toyplot/canvas/id\"]);\n",
       "modules[\"toyplot.coordinates.Axis\"] = (\n",
       "        function(canvas)\n",
       "        {\n",
       "            function sign(x)\n",
       "            {\n",
       "                return x < 0 ? -1 : x > 0 ? 1 : 0;\n",
       "            }\n",
       "\n",
       "            function mix(a, b, amount)\n",
       "            {\n",
       "                return ((1.0 - amount) * a) + (amount * b);\n",
       "            }\n",
       "\n",
       "            function log(x, base)\n",
       "            {\n",
       "                return Math.log(Math.abs(x)) / Math.log(base);\n",
       "            }\n",
       "\n",
       "            function in_range(a, x, b)\n",
       "            {\n",
       "                var left = Math.min(a, b);\n",
       "                var right = Math.max(a, b);\n",
       "                return left <= x && x <= right;\n",
       "            }\n",
       "\n",
       "            function inside(range, projection)\n",
       "            {\n",
       "                for(var i = 0; i != projection.length; ++i)\n",
       "                {\n",
       "                    var segment = projection[i];\n",
       "                    if(in_range(segment.range.min, range, segment.range.max))\n",
       "                        return true;\n",
       "                }\n",
       "                return false;\n",
       "            }\n",
       "\n",
       "            function to_domain(range, projection)\n",
       "            {\n",
       "                for(var i = 0; i != projection.length; ++i)\n",
       "                {\n",
       "                    var segment = projection[i];\n",
       "                    if(in_range(segment.range.bounds.min, range, segment.range.bounds.max))\n",
       "                    {\n",
       "                        if(segment.scale == \"linear\")\n",
       "                        {\n",
       "                            var amount = (range - segment.range.min) / (segment.range.max - segment.range.min);\n",
       "                            return mix(segment.domain.min, segment.domain.max, amount)\n",
       "                        }\n",
       "                        else if(segment.scale[0] == \"log\")\n",
       "                        {\n",
       "                            var amount = (range - segment.range.min) / (segment.range.max - segment.range.min);\n",
       "                            var base = segment.scale[1];\n",
       "                            return sign(segment.domain.min) * Math.pow(base, mix(log(segment.domain.min, base), log(segment.domain.max, base), amount));\n",
       "                        }\n",
       "                    }\n",
       "                }\n",
       "            }\n",
       "\n",
       "            var axes = {};\n",
       "\n",
       "            function display_coordinates(e)\n",
       "            {\n",
       "                var current = canvas.createSVGPoint();\n",
       "                current.x = e.clientX;\n",
       "                current.y = e.clientY;\n",
       "\n",
       "                for(var axis_id in axes)\n",
       "                {\n",
       "                    var axis = document.querySelector(\"#\" + axis_id);\n",
       "                    var coordinates = axis.querySelector(\".toyplot-coordinates-Axis-coordinates\");\n",
       "                    if(coordinates)\n",
       "                    {\n",
       "                        var projection = axes[axis_id];\n",
       "                        var local = current.matrixTransform(axis.getScreenCTM().inverse());\n",
       "                        if(inside(local.x, projection))\n",
       "                        {\n",
       "                            var domain = to_domain(local.x, projection);\n",
       "                            coordinates.style.visibility = \"visible\";\n",
       "                            coordinates.setAttribute(\"transform\", \"translate(\" + local.x + \")\");\n",
       "                            var text = coordinates.querySelector(\"text\");\n",
       "                            text.textContent = domain.toFixed(2);\n",
       "                        }\n",
       "                        else\n",
       "                        {\n",
       "                            coordinates.style.visibility= \"hidden\";\n",
       "                        }\n",
       "                    }\n",
       "                }\n",
       "            }\n",
       "\n",
       "            canvas.addEventListener(\"click\", display_coordinates);\n",
       "\n",
       "            var module = {};\n",
       "            module.show_coordinates = function(axis_id, projection)\n",
       "            {\n",
       "                axes[axis_id] = projection;\n",
       "            }\n",
       "\n",
       "            return module;\n",
       "        })(modules[\"toyplot/canvas\"]);\n",
       "(function(axis, axis_id, projection)\n",
       "        {\n",
       "            axis.show_coordinates(axis_id, projection);\n",
       "        })(modules[\"toyplot.coordinates.Axis\"],\"td2cb380ed78f400bb631bb46793e56b2\",[{\"domain\": {\"bounds\": {\"max\": Infinity, \"min\": -Infinity}, \"max\": 0.4423302268699737, \"min\": -1.7706650619794997}, \"range\": {\"bounds\": {\"max\": Infinity, \"min\": -Infinity}, \"max\": 200.0, \"min\": 0.0}, \"scale\": \"linear\"}]);\n",
       "})();</script></div></div>"
      ]
     },
     "metadata": {},
     "output_type": "display_data"
    }
   ],
   "source": [
    "tree.draw(\n",
    "    node_sizes=8, node_markers=\">\", node_mask=False,\n",
    "    edge_colors=\"darkmagenta\", edge_style={\"opacity\": 0.3}, edge_type=\"c\", \n",
    "    scale_bar=True,\n",
    ");"
   ]
  },
  {
   "cell_type": "markdown",
   "id": "10ce68fc-0018-4e25-a07f-06d581bd3e1a",
   "metadata": {},
   "source": [
    "### Reusable settings\n",
    "You can create a custom reusable tree-style as a dictionary of key-value pairs specifying options to the draw function. To apply this to many tree drawings you can simply use variadics to expand the dictionary as a single argument to the draw function, as demonstrated below. "
   ]
  },
  {
   "cell_type": "code",
   "execution_count": 9,
   "id": "dc5839e2-ca68-4b73-a602-0d1cbb59a252",
   "metadata": {},
   "outputs": [
    {
     "data": {
      "text/html": [
       "<div class=\"toyplot\" id=\"t48eab63632d04f02b3feb01715fd10d6\" style=\"text-align:center\"><svg class=\"toyplot-canvas-Canvas\" xmlns:toyplot=\"http://www.sandia.gov/toyplot\" xmlns:xlink=\"http://www.w3.org/1999/xlink\" xmlns=\"http://www.w3.org/2000/svg\" width=\"300.0px\" height=\"300.0px\" viewBox=\"0 0 300.0 300.0\" preserveAspectRatio=\"xMidYMid meet\" style=\"background-color:transparent;border-color:#292724;border-style:none;border-width:1.0;fill:rgb(16.1%,15.3%,14.1%);fill-opacity:1.0;font-family:Helvetica;font-size:12px;opacity:1.0;stroke:rgb(16.1%,15.3%,14.1%);stroke-opacity:1.0;stroke-width:1.0\" id=\"t9dda8735f5b04d4f87c2213c0e8a6b56\"><g class=\"toyplot-coordinates-Cartesian\" id=\"t5733e5920c29448cb610f71c0e536f75\"><clipPath id=\"t52c86147fa5d4370ae848c12c314f3ec\"><rect x=\"35.0\" y=\"35.0\" width=\"230.0\" height=\"230.0\"></rect></clipPath><g clip-path=\"url(#t52c86147fa5d4370ae848c12c314f3ec)\"><g class=\"toytree-mark-Toytree\" id=\"tb7c2d019c5e34fdc899ad8b01d328362\"><g class=\"toytree-Edges\" style=\"stroke:rgb(0.0%,0.0%,0.0%);stroke-opacity:1.0;stroke-linecap:round;stroke-width:2.5;fill:none\"><path d=\"M 76.6 107.0 L 58.3 107.0 L 58.3 206.8\" id=\"6,0\" style=\"\"></path><path d=\"M 76.6 107.0 L 95.0 107.0 L 95.0 206.8\" id=\"6,1\" style=\"\"></path><path d=\"M 163.8 118.2 L 131.7 118.2 L 131.7 206.8\" id=\"9,2\" style=\"\"></path><path d=\"M 195.9 187.6 L 168.3 187.6 L 168.3 206.8\" id=\"8,3\" style=\"\"></path><path d=\"M 223.4 191.0 L 205.0 191.0 L 205.0 206.8\" id=\"7,4\" style=\"\"></path><path d=\"M 223.4 191.0 L 241.7 191.0 L 241.7 206.8\" id=\"7,5\" style=\"\"></path><path d=\"M 120.2 54.2 L 76.6 54.2 L 76.6 107.0\" id=\"10,6\" style=\"\"></path><path d=\"M 195.9 187.6 L 223.4 187.6 L 223.4 191.0\" id=\"8,7\" style=\"\"></path><path d=\"M 163.8 118.2 L 195.9 118.2 L 195.9 187.6\" id=\"9,8\" style=\"\"></path><path d=\"M 120.2 54.2 L 163.8 54.2 L 163.8 118.2\" id=\"10,9\" style=\"\"></path></g><g class=\"toytree-AlignEdges\" style=\"stroke:rgb(66.0%,66.0%,66.0%);stroke-opacity:0.75;stroke-dasharray:2,4;stroke-linecap:round;stroke-width:2\"><path d=\"M 58.3 206.8 L 58.3 206.8\"></path><path d=\"M 95.0 206.8 L 95.0 206.8\"></path><path d=\"M 131.7 206.8 L 131.7 206.8\"></path><path d=\"M 168.3 206.8 L 168.3 206.8\"></path><path d=\"M 205.0 206.8 L 205.0 206.8\"></path><path d=\"M 241.7 206.8 L 241.7 206.8\"></path></g><g class=\"toytree-AdmixEdges\" style=\"fill:rgb(0.0%,0.0%,0.0%);fill-opacity:0.0;stroke:rgb(90.6%,54.1%,76.5%);stroke-opacity:0.6;font-size:14px;stroke-linecap:round;stroke-width:5\"></g><g class=\"toytree-Nodes\" style=\"fill:rgb(85.5%,64.7%,12.5%);fill-opacity:1.0;stroke:rgb(14.9%,14.9%,14.9%);stroke-opacity:1.0;stroke-width:1.5\"><g id=\"Node-0\" transform=\"translate(58.2569,206.769)\"><circle r=\"4.0\"></circle></g><g id=\"Node-1\" transform=\"translate(94.9541,206.769)\"><circle r=\"4.0\"></circle></g><g id=\"Node-2\" transform=\"translate(131.651,206.769)\"><circle r=\"4.0\"></circle></g><g id=\"Node-3\" transform=\"translate(168.349,206.769)\"><circle r=\"4.0\"></circle></g><g id=\"Node-4\" transform=\"translate(205.046,206.769)\"><circle r=\"4.0\"></circle></g><g id=\"Node-5\" transform=\"translate(241.743,206.769)\"><circle r=\"4.0\"></circle></g><g id=\"Node-6\" transform=\"translate(76.6055,107.05)\"><circle r=\"4.0\"></circle></g><g id=\"Node-7\" transform=\"translate(223.394,191.02)\"><circle r=\"4.0\"></circle></g><g id=\"Node-8\" transform=\"translate(195.872,187.598)\"><circle r=\"4.0\"></circle></g><g id=\"Node-9\" transform=\"translate(163.761,118.196)\"><circle r=\"4.0\"></circle></g><g id=\"Node-10\" transform=\"translate(120.183,54.1958)\"><circle r=\"4.0\"></circle></g></g><g class=\"toytree-TipLabels\" style=\"fill:rgb(0.0%,54.5%,54.5%);fill-opacity:1.0;font-family:Helvetica;font-size:15px;font-weight:300;vertical-align:baseline;white-space:pre;stroke:none\"><g class=\"toytree-TipLabel\" transform=\"translate(58.2569,206.769)rotate(90)\"><text x=\"15.0\" y=\"3.8324999999999996\" style=\"fill:rgb(0.0%,54.5%,54.5%);fill-opacity:1.0\">r0</text></g><g class=\"toytree-TipLabel\" transform=\"translate(94.9541,206.769)rotate(90)\"><text x=\"15.0\" y=\"3.8324999999999996\" style=\"fill:rgb(0.0%,54.5%,54.5%);fill-opacity:1.0\">r1</text></g><g class=\"toytree-TipLabel\" transform=\"translate(131.651,206.769)rotate(90)\"><text x=\"15.0\" y=\"3.8324999999999996\" style=\"fill:rgb(0.0%,54.5%,54.5%);fill-opacity:1.0\">r2</text></g><g class=\"toytree-TipLabel\" transform=\"translate(168.349,206.769)rotate(90)\"><text x=\"15.0\" y=\"3.8324999999999996\" style=\"fill:rgb(0.0%,54.5%,54.5%);fill-opacity:1.0\">r3</text></g><g class=\"toytree-TipLabel\" transform=\"translate(205.046,206.769)rotate(90)\"><text x=\"15.0\" y=\"3.8324999999999996\" style=\"fill:rgb(0.0%,54.5%,54.5%);fill-opacity:1.0\">r4</text></g><g class=\"toytree-TipLabel\" transform=\"translate(241.743,206.769)rotate(90)\"><text x=\"15.0\" y=\"3.8324999999999996\" style=\"fill:rgb(0.0%,54.5%,54.5%);fill-opacity:1.0\">r5</text></g></g></g></g></g></svg><div class=\"toyplot-behavior\"><script>(function()\n",
       "{\n",
       "var modules={};\n",
       "})();</script></div></div>"
      ]
     },
     "metadata": {},
     "output_type": "display_data"
    }
   ],
   "source": [
    "# define a re-usable style dictionary\n",
    "mystyle = {\n",
    "    \"layout\": 'd',\n",
    "    \"edge_type\": 'p',\n",
    "    \"edge_style\": {\n",
    "        \"stroke\": \"black\",\n",
    "        \"stroke-width\": 2.5,\n",
    "    },\n",
    "    \"tip_labels_align\": True,\n",
    "    \"tip_labels_colors\": \"darkcyan\",\n",
    "    \"tip_labels_style\": {\n",
    "        \"font-size\": \"15px\"\n",
    "    },\n",
    "    \"node_labels\": False,\n",
    "    \"node_sizes\": 8,\n",
    "    \"node_colors\": \"goldenrod\",\n",
    "    \"node_mask\": False,\n",
    "}\n",
    "\n",
    "# apply the custom treestyle dict to a drawing\n",
    "tree.draw(**mystyle);"
   ]
  },
  {
   "cell_type": "markdown",
   "id": "8e98c5e1-dfa3-438f-ab11-84002ef83127",
   "metadata": {},
   "source": [
    "### Persistent settings\n",
    "Finally, you can modify the `.style` settings of a `ToyTree` object to modify its saved default drawing options. This can useful if you plan to visualize the same tree many times, or wish to save different trees with different style settings for easier comparison. This framework is also useful for learning which tree style options are available, since you can use tab-completion in an interactive environment like a jupyter notebook to explore the different setting options available. In this example, I first create a copy of our example tree object and save the new copy as *stree*. Then, I modify the the style settings of the *stree* object. Finally, we can simply call `.draw()` to draw the tree using its saved tree style. (Note that if you enter a new `tree_style` argument to the draw() function of this tree it will override the settings in the tree's `.style` settings.)"
   ]
  },
  {
   "cell_type": "code",
   "execution_count": 10,
   "id": "e5b10153-f4cf-40d2-af55-135e60208c26",
   "metadata": {},
   "outputs": [
    {
     "data": {
      "text/html": [
       "<div class=\"toyplot\" id=\"td7cdf5dfaf994d8db2a429efa22bd030\" style=\"text-align:center\"><svg class=\"toyplot-canvas-Canvas\" xmlns:toyplot=\"http://www.sandia.gov/toyplot\" xmlns:xlink=\"http://www.w3.org/1999/xlink\" xmlns=\"http://www.w3.org/2000/svg\" width=\"300.0px\" height=\"275.0px\" viewBox=\"0 0 300.0 275.0\" preserveAspectRatio=\"xMidYMid meet\" style=\"background-color:transparent;border-color:#292724;border-style:none;border-width:1.0;fill:rgb(16.1%,15.3%,14.1%);fill-opacity:1.0;font-family:Helvetica;font-size:12px;opacity:1.0;stroke:rgb(16.1%,15.3%,14.1%);stroke-opacity:1.0;stroke-width:1.0\" id=\"t9327294e66f6466b8d54c7527182301f\"><g class=\"toyplot-coordinates-Cartesian\" id=\"t18a4bdf5032d4efa8746df643b7bf87a\"><clipPath id=\"tdf44fb7808f04ab8801e2d8a4bb28ed5\"><rect x=\"35.0\" y=\"35.0\" width=\"230.0\" height=\"205.0\"></rect></clipPath><g clip-path=\"url(#tdf44fb7808f04ab8801e2d8a4bb28ed5)\"><g class=\"toytree-mark-Toytree\" id=\"te449c1fe9e5343a0af99559f8a4ba05b\"><g class=\"toytree-Edges\" style=\"stroke:rgb(0.0%,54.5%,54.5%);stroke-opacity:1.0;stroke-linecap:round;stroke-width:2.0;fill:none\"><path d=\"M 104.7 200.6 L 104.7 216.3 L 195.5 216.3\" id=\"6,0\" style=\"stroke-width:2.5\"></path><path d=\"M 104.7 200.6 L 104.7 184.8 L 195.5 184.8\" id=\"6,1\" style=\"stroke-width:2.5\"></path><path d=\"M 114.9 125.7 L 114.9 153.3 L 195.5 153.3\" id=\"9,2\" style=\"stroke-width:2.5\"></path><path d=\"M 178.1 98.1 L 178.1 121.7 L 195.5 121.7\" id=\"8,3\" style=\"stroke-width:2.5\"></path><path d=\"M 181.2 74.4 L 181.2 90.2 L 195.5 90.2\" id=\"7,4\" style=\"stroke-width:2.5\"></path><path d=\"M 181.2 74.4 L 181.2 58.7 L 195.5 58.7\" id=\"7,5\" style=\"stroke-width:2.5\"></path><path d=\"M 56.6 163.1 L 56.6 200.6 L 104.7 200.6\" id=\"10,6\" style=\"stroke-width:2.5\"></path><path d=\"M 178.1 98.1 L 178.1 74.4 L 181.2 74.4\" id=\"8,7\" style=\"stroke-width:2.5\"></path><path d=\"M 114.9 125.7 L 114.9 98.1 L 178.1 98.1\" id=\"9,8\" style=\"stroke-width:2.5\"></path><path d=\"M 56.6 163.1 L 56.6 125.7 L 114.9 125.7\" id=\"10,9\" style=\"stroke-width:2.5\"></path></g><g class=\"toytree-AdmixEdges\" style=\"fill:rgb(0.0%,0.0%,0.0%);fill-opacity:0.0;stroke:rgb(90.6%,54.1%,76.5%);stroke-opacity:0.6;font-size:14px;stroke-linecap:round;stroke-width:5\"></g><g class=\"toytree-Nodes\" style=\"fill:rgb(40.0%,76.1%,64.7%);fill-opacity:0.5;stroke:rgb(14.9%,14.9%,14.9%);stroke-opacity:1.0;stroke-width:1.5\"><g id=\"Node-0\" transform=\"translate(195.512,216.349)\"><rect x=\"-8.0\" y=\"-8.0\" width=\"16\" height=\"16\"></rect></g><g id=\"Node-1\" transform=\"translate(195.512,184.809)\"><rect x=\"-8.0\" y=\"-8.0\" width=\"16\" height=\"16\"></rect></g><g id=\"Node-2\" transform=\"translate(195.512,153.27)\"><rect x=\"-8.0\" y=\"-8.0\" width=\"16\" height=\"16\"></rect></g><g id=\"Node-3\" transform=\"translate(195.512,121.73)\"><rect x=\"-8.0\" y=\"-8.0\" width=\"16\" height=\"16\"></rect></g><g id=\"Node-4\" transform=\"translate(195.512,90.1905)\"><rect x=\"-8.0\" y=\"-8.0\" width=\"16\" height=\"16\"></rect></g><g id=\"Node-5\" transform=\"translate(195.512,58.6509)\"><rect x=\"-8.0\" y=\"-8.0\" width=\"16\" height=\"16\"></rect></g><g id=\"Node-6\" transform=\"translate(104.721,200.579)\"><rect x=\"-8.0\" y=\"-8.0\" width=\"16\" height=\"16\"></rect></g><g id=\"Node-7\" transform=\"translate(181.174,74.4207)\"><rect x=\"-8.0\" y=\"-8.0\" width=\"16\" height=\"16\"></rect></g><g id=\"Node-8\" transform=\"translate(178.058,98.0754)\"><rect x=\"-8.0\" y=\"-8.0\" width=\"16\" height=\"16\"></rect></g><g id=\"Node-9\" transform=\"translate(114.869,125.673)\"><rect x=\"-8.0\" y=\"-8.0\" width=\"16\" height=\"16\"></rect></g><g id=\"Node-10\" transform=\"translate(56.5984,163.126)\"><rect x=\"-8.0\" y=\"-8.0\" width=\"16\" height=\"16\"></rect></g></g><g class=\"toytree-NodeLabels\" style=\"font-family:Helvetica;font-size:9px;font-weight:300;vertical-align:baseline;white-space:pre;stroke:none\"><g class=\"toytree-NodeLabel\" transform=\"translate(195.512,216.349)\"><text x=\"-2.5020000000000002\" y=\"2.2995\" style=\"fill:rgb(14.5%,14.5%,14.5%);fill-opacity:1.0\">0</text></g><g class=\"toytree-NodeLabel\" transform=\"translate(195.512,184.809)\"><text x=\"-2.5020000000000002\" y=\"2.2995\" style=\"fill:rgb(14.5%,14.5%,14.5%);fill-opacity:1.0\">1</text></g><g class=\"toytree-NodeLabel\" transform=\"translate(195.512,153.27)\"><text x=\"-2.5020000000000002\" y=\"2.2995\" style=\"fill:rgb(14.5%,14.5%,14.5%);fill-opacity:1.0\">2</text></g><g class=\"toytree-NodeLabel\" transform=\"translate(195.512,121.73)\"><text x=\"-2.5020000000000002\" y=\"2.2995\" style=\"fill:rgb(14.5%,14.5%,14.5%);fill-opacity:1.0\">3</text></g><g class=\"toytree-NodeLabel\" transform=\"translate(195.512,90.1905)\"><text x=\"-2.5020000000000002\" y=\"2.2995\" style=\"fill:rgb(14.5%,14.5%,14.5%);fill-opacity:1.0\">4</text></g><g class=\"toytree-NodeLabel\" transform=\"translate(195.512,58.6509)\"><text x=\"-2.5020000000000002\" y=\"2.2995\" style=\"fill:rgb(14.5%,14.5%,14.5%);fill-opacity:1.0\">5</text></g><g class=\"toytree-NodeLabel\" transform=\"translate(104.721,200.579)\"><text x=\"-2.5020000000000002\" y=\"2.2995\" style=\"fill:rgb(14.5%,14.5%,14.5%);fill-opacity:1.0\">6</text></g><g class=\"toytree-NodeLabel\" transform=\"translate(181.174,74.4207)\"><text x=\"-2.5020000000000002\" y=\"2.2995\" style=\"fill:rgb(14.5%,14.5%,14.5%);fill-opacity:1.0\">7</text></g><g class=\"toytree-NodeLabel\" transform=\"translate(178.058,98.0754)\"><text x=\"-2.5020000000000002\" y=\"2.2995\" style=\"fill:rgb(14.5%,14.5%,14.5%);fill-opacity:1.0\">8</text></g><g class=\"toytree-NodeLabel\" transform=\"translate(114.869,125.673)\"><text x=\"-2.5020000000000002\" y=\"2.2995\" style=\"fill:rgb(14.5%,14.5%,14.5%);fill-opacity:1.0\">9</text></g><g class=\"toytree-NodeLabel\" transform=\"translate(56.5984,163.126)\"><text x=\"-5.0040000000000004\" y=\"2.2995\" style=\"fill:rgb(14.5%,14.5%,14.5%);fill-opacity:1.0\">10</text></g></g><g class=\"toytree-TipLabels\" style=\"fill:rgb(14.5%,14.5%,14.5%);fill-opacity:1.0;font-family:Helvetica;font-size:16px;font-weight:300;vertical-align:baseline;white-space:pre;stroke:none\"><g class=\"toytree-TipLabel\" transform=\"translate(195.512,216.349)\"><text x=\"25.0\" y=\"4.087999999999999\" style=\"fill:rgb(14.5%,14.5%,14.5%);fill-opacity:1.0\">r0</text></g><g class=\"toytree-TipLabel\" transform=\"translate(195.512,184.809)\"><text x=\"25.0\" y=\"4.087999999999999\" style=\"fill:rgb(14.5%,14.5%,14.5%);fill-opacity:1.0\">r1</text></g><g class=\"toytree-TipLabel\" transform=\"translate(195.512,153.27)\"><text x=\"25.0\" y=\"4.087999999999999\" style=\"fill:rgb(14.5%,14.5%,14.5%);fill-opacity:1.0\">r2</text></g><g class=\"toytree-TipLabel\" transform=\"translate(195.512,121.73)\"><text x=\"25.0\" y=\"4.087999999999999\" style=\"fill:rgb(14.5%,14.5%,14.5%);fill-opacity:1.0\">r3</text></g><g class=\"toytree-TipLabel\" transform=\"translate(195.512,90.1905)\"><text x=\"25.0\" y=\"4.087999999999999\" style=\"fill:rgb(14.5%,14.5%,14.5%);fill-opacity:1.0\">r4</text></g><g class=\"toytree-TipLabel\" transform=\"translate(195.512,58.6509)\"><text x=\"25.0\" y=\"4.087999999999999\" style=\"fill:rgb(14.5%,14.5%,14.5%);fill-opacity:1.0\">r5</text></g></g></g></g></g></svg><div class=\"toyplot-behavior\"><script>(function()\n",
       "{\n",
       "var modules={};\n",
       "})();</script></div></div>"
      ]
     },
     "metadata": {},
     "output_type": "display_data"
    }
   ],
   "source": [
    "# set a style that will persist on an individual tree object\n",
    "stree = tree.copy()\n",
    "stree.style.edge_colors = \"darkcyan\"\n",
    "stree.style.edge_widths = 2.5\n",
    "stree.style.node_mask = False\n",
    "stree.style.node_sizes = 16\n",
    "stree.style.node_markers = \"s\"\n",
    "stree.style.node_style.fill_opacity = 0.5\n",
    "stree.style.node_labels = \"idx\"\n",
    "stree.style.tip_labels_style.font_size = 16\n",
    "stree.style.tip_labels_style.anchor_shift = 25\n",
    "stree.draw();"
   ]
  },
  {
   "cell_type": "markdown",
   "id": "dd61bc2a-650a-44a2-b480-e8ed0da4c0a9",
   "metadata": {},
   "source": [
    "## Drawing nodes\n",
    "\n",
    "Plotting node values on a tree is a useful way of representing additional information about trees. See the [Data/Features](/data) section for details on extracting data from tree objects to plot on nodes. Here we will focus on options available for styling nodes. Nodes are often used to show labels, support values, or trait data. They can convey information through variation in their marker shapes (e.g., circles, rectangles, pie-charts), colors, and size. Node markers in `toytree` are represented by SVG shape objects for which a fill (color), fill-opacity, stroke (outline color), stroke-opacity, and stroke-width can be set. \n",
    "\n",
    "Below is a complex example showing how "
   ]
  },
  {
   "cell_type": "code",
   "execution_count": 11,
   "id": "a6b9202b-1a2c-42f2-aed6-b6028145d547",
   "metadata": {},
   "outputs": [
    {
     "data": {
      "text/html": [
       "<div class=\"toyplot\" id=\"t4a0b9238db484d3c974ab2788ff097f3\" style=\"text-align:center\"><svg class=\"toyplot-canvas-Canvas\" xmlns:toyplot=\"http://www.sandia.gov/toyplot\" xmlns:xlink=\"http://www.w3.org/1999/xlink\" xmlns=\"http://www.w3.org/2000/svg\" width=\"300.0px\" height=\"275.0px\" viewBox=\"0 0 300.0 275.0\" preserveAspectRatio=\"xMidYMid meet\" style=\"background-color:transparent;border-color:#292724;border-style:none;border-width:1.0;fill:rgb(16.1%,15.3%,14.1%);fill-opacity:1.0;font-family:Helvetica;font-size:12px;opacity:1.0;stroke:rgb(16.1%,15.3%,14.1%);stroke-opacity:1.0;stroke-width:1.0\" id=\"t01c2945d46004368b5996be8940b7788\"><g class=\"toyplot-coordinates-Cartesian\" id=\"t3d22151a56664c00a75d2f0a2ddc6db1\"><clipPath id=\"t951b7e31a7014fdba5f471046f3898b1\"><rect x=\"35.0\" y=\"35.0\" width=\"230.0\" height=\"205.0\"></rect></clipPath><g clip-path=\"url(#t951b7e31a7014fdba5f471046f3898b1)\"><g class=\"toytree-mark-Toytree\" id=\"t31469b2857e6457fb8f5e0f13d3ad05c\"><g class=\"toytree-Edges\" style=\"stroke:rgb(14.5%,14.5%,14.5%);stroke-opacity:1.0;stroke-linecap:round;stroke-width:2.0;fill:none\"><path d=\"M 111.5 199.4 L 111.5 214.8 L 210.9 214.8\" id=\"6,0\" style=\"\"></path><path d=\"M 111.5 199.4 L 111.5 183.9 L 210.9 183.9\" id=\"6,1\" style=\"\"></path><path d=\"M 122.6 125.9 L 122.6 153.0 L 210.9 153.0\" id=\"9,2\" style=\"\"></path><path d=\"M 191.8 98.8 L 191.8 122.0 L 210.9 122.0\" id=\"8,3\" style=\"\"></path><path d=\"M 195.2 75.6 L 195.2 91.1 L 210.9 91.1\" id=\"7,4\" style=\"\"></path><path d=\"M 195.2 75.6 L 195.2 60.2 L 210.9 60.2\" id=\"7,5\" style=\"\"></path><path d=\"M 58.8 162.6 L 58.8 199.4 L 111.5 199.4\" id=\"10,6\" style=\"\"></path><path d=\"M 191.8 98.8 L 191.8 75.6 L 195.2 75.6\" id=\"8,7\" style=\"\"></path><path d=\"M 122.6 125.9 L 122.6 98.8 L 191.8 98.8\" id=\"9,8\" style=\"\"></path><path d=\"M 58.8 162.6 L 58.8 125.9 L 122.6 125.9\" id=\"10,9\" style=\"\"></path></g><g class=\"toytree-AdmixEdges\" style=\"fill:rgb(0.0%,0.0%,0.0%);fill-opacity:0.0;stroke:rgb(90.6%,54.1%,76.5%);stroke-opacity:0.6;font-size:14px;stroke-linecap:round;stroke-width:5\"></g><g class=\"toytree-Nodes\" style=\"fill:rgb(40.0%,76.1%,64.7%);fill-opacity:0.75;stroke:rgb(100.0%,100.0%,100.0%);stroke-opacity:1.0;stroke-width:2.5\"><g id=\"Node-6\" style=\"fill:rgb(2.0%,18.8%,38.0%)\" transform=\"translate(111.471,199.369)\"><rect x=\"-9.0\" y=\"-9.0\" width=\"18\" height=\"18\"></rect></g><g id=\"Node-7\" style=\"fill:rgb(65.5%,81.4%,89.4%)\" transform=\"translate(195.228,75.6313)\"><rect x=\"-9.0\" y=\"-9.0\" width=\"18\" height=\"18\"></rect></g><g id=\"Node-8\" style=\"fill:rgb(96.9%,71.8%,60.0%)\" transform=\"translate(191.814,98.8321)\"><rect x=\"-9.0\" y=\"-9.0\" width=\"18\" height=\"18\"></rect></g><g id=\"Node-9\" style=\"fill:rgb(40.4%,0.0%,12.2%)\" transform=\"translate(122.589,125.9)\"><rect x=\"-9.0\" y=\"-9.0\" width=\"18\" height=\"18\"></rect></g></g><g class=\"toytree-NodeLabels\" style=\"font-family:Helvetica;font-size:14px;font-weight:300;vertical-align:baseline;white-space:pre;stroke:none\"><g class=\"toytree-NodeLabel\" transform=\"translate(111.471,199.369)\"><title>idx: 6\n",
       "dist: 0.596972495123\n",
       "support: nan\n",
       "height: 1.12630250437\n",
       "tdiv: 0.596972495123\n",
       "name: 1-1</title><text x=\"-3.892000000000001\" y=\"3.577\" style=\"fill:rgb(100.0%,100.0%,100.0%);fill-opacity:1.0\">6</text></g><g class=\"toytree-NodeLabel\" transform=\"translate(195.228,75.6313)\"><title>idx: 7\n",
       "dist: 0.0386582269365\n",
       "support: nan\n",
       "height: 0.177873309174\n",
       "tdiv: 1.54540169032\n",
       "name: 4-2</title><text x=\"-3.892000000000001\" y=\"3.577\" style=\"fill:rgb(100.0%,100.0%,100.0%);fill-opacity:1.0\">7</text></g><g class=\"toytree-NodeLabel\" transform=\"translate(191.814,98.8321)\"><title>idx: 8\n",
       "dist: 0.783873618514\n",
       "support: nan\n",
       "height: 0.216531536111\n",
       "tdiv: 1.50674346338\n",
       "name: 3-2</title><text x=\"-3.892000000000001\" y=\"3.577\" style=\"fill:rgb(100.0%,100.0%,100.0%);fill-opacity:1.0\">8</text></g><g class=\"toytree-NodeLabel\" transform=\"translate(122.589,125.9)\"><title>idx: 9\n",
       "dist: 0.722869844869\n",
       "support: nan\n",
       "height: 1.00040515462\n",
       "tdiv: 0.596972495123\n",
       "name: 1-2</title><text x=\"-3.892000000000001\" y=\"3.577\" style=\"fill:rgb(100.0%,100.0%,100.0%);fill-opacity:1.0\">9</text></g></g><g class=\"toytree-TipLabels\" style=\"fill:rgb(14.5%,14.5%,14.5%);fill-opacity:1.0;font-family:Helvetica;font-size:12px;font-weight:300;vertical-align:baseline;white-space:pre;stroke:none\"><g class=\"toytree-TipLabel\" transform=\"translate(210.937,214.836)\"><text x=\"15.0\" y=\"3.066\" style=\"fill:rgb(14.5%,14.5%,14.5%);fill-opacity:1.0\">r0</text></g><g class=\"toytree-TipLabel\" transform=\"translate(210.937,183.902)\"><text x=\"15.0\" y=\"3.066\" style=\"fill:rgb(14.5%,14.5%,14.5%);fill-opacity:1.0\">r1</text></g><g class=\"toytree-TipLabel\" transform=\"translate(210.937,152.967)\"><text x=\"15.0\" y=\"3.066\" style=\"fill:rgb(14.5%,14.5%,14.5%);fill-opacity:1.0\">r2</text></g><g class=\"toytree-TipLabel\" transform=\"translate(210.937,122.033)\"><text x=\"15.0\" y=\"3.066\" style=\"fill:rgb(14.5%,14.5%,14.5%);fill-opacity:1.0\">r3</text></g><g class=\"toytree-TipLabel\" transform=\"translate(210.937,91.0985)\"><text x=\"15.0\" y=\"3.066\" style=\"fill:rgb(14.5%,14.5%,14.5%);fill-opacity:1.0\">r4</text></g><g class=\"toytree-TipLabel\" transform=\"translate(210.937,60.1641)\"><text x=\"15.0\" y=\"3.066\" style=\"fill:rgb(14.5%,14.5%,14.5%);fill-opacity:1.0\">r5</text></g></g></g></g></g></svg><div class=\"toyplot-behavior\"><script>(function()\n",
       "{\n",
       "var modules={};\n",
       "})();</script></div></div>"
      ]
     },
     "metadata": {},
     "output_type": "display_data"
    }
   ],
   "source": [
    "# hover over nodes to see pop-up elements\n",
    "tree.draw(\n",
    "    node_sizes=18, \n",
    "    node_style={\"fill-opacity\": 0.75, \"stroke\": \"white\", \"stroke-width\": 2.5},\n",
    "    node_mask=(0, 1, 0),\n",
    "    node_labels=\"idx\",\n",
    "    node_labels_style={\"font-size\": 14, \"fill\": \"white\"},\n",
    "    node_colors=(\"idx\", \"BlueRed\", 6, 9),\n",
    "    node_markers=\"s\",\n",
    "    node_hover=True, \n",
    ");"
   ]
  },
  {
   "cell_type": "markdown",
   "id": "06f9e04e-5c9c-4277-9dff-49e172a33758",
   "metadata": {},
   "source": [
    "### node_sizes\n",
    "In the default tree style node sizes are set to zero, meaning that they will not be shown. Node sizes are described in pixel units as floats or ints, which scale node marker sizes. A single value can be entered to apply to all nodes, or a sequence of values of length nnodes can be entered to scale nodes to different sizes. In this case, the values should be enetered in node idxorder, which is best done by extracting data from the tree object itself, as described in [Data/Features](/data). See also [Range-Mapping](/range-mapping) for examples of scaling node sizes to data features. "
   ]
  },
  {
   "cell_type": "code",
   "execution_count": 12,
   "id": "1ebdc961-c502-4730-9305-739f1f496d29",
   "metadata": {},
   "outputs": [
    {
     "data": {
      "text/html": [
       "<div class=\"toyplot\" id=\"t195e447287e344e4b75b0e8007f71f71\" style=\"text-align:center\"><svg class=\"toyplot-canvas-Canvas\" xmlns:toyplot=\"http://www.sandia.gov/toyplot\" xmlns:xlink=\"http://www.w3.org/1999/xlink\" xmlns=\"http://www.w3.org/2000/svg\" width=\"300.0px\" height=\"275.0px\" viewBox=\"0 0 300.0 275.0\" preserveAspectRatio=\"xMidYMid meet\" style=\"background-color:transparent;border-color:#292724;border-style:none;border-width:1.0;fill:rgb(16.1%,15.3%,14.1%);fill-opacity:1.0;font-family:Helvetica;font-size:12px;opacity:1.0;stroke:rgb(16.1%,15.3%,14.1%);stroke-opacity:1.0;stroke-width:1.0\" id=\"t77644a6d029145b8b969107318456cb4\"><g class=\"toyplot-coordinates-Cartesian\" id=\"t7e24c6cde77748d8994cd0e713dba288\"><clipPath id=\"t1c545ee4d2b448f0a95430bf3660328e\"><rect x=\"35.0\" y=\"35.0\" width=\"230.0\" height=\"205.0\"></rect></clipPath><g clip-path=\"url(#t1c545ee4d2b448f0a95430bf3660328e)\"><g class=\"toytree-mark-Toytree\" id=\"taa24bfa07fba4216809f03acc318b742\"><g class=\"toytree-Edges\" style=\"stroke:rgb(14.5%,14.5%,14.5%);stroke-opacity:1.0;stroke-linecap:round;stroke-width:2.0;fill:none\"><path d=\"M 109.3 202.0 L 109.3 218.1 L 210.3 218.1\" id=\"6,0\" style=\"\"></path><path d=\"M 109.3 202.0 L 109.3 185.9 L 210.3 185.9\" id=\"6,1\" style=\"\"></path><path d=\"M 120.6 125.4 L 120.6 153.6 L 210.3 153.6\" id=\"9,2\" style=\"\"></path><path d=\"M 190.9 97.2 L 190.9 121.4 L 210.3 121.4\" id=\"8,3\" style=\"\"></path><path d=\"M 194.4 73.0 L 194.4 89.1 L 210.3 89.1\" id=\"7,4\" style=\"\"></path><path d=\"M 194.4 73.0 L 194.4 56.9 L 210.3 56.9\" id=\"7,5\" style=\"\"></path><path d=\"M 55.8 163.7 L 55.8 202.0 L 109.3 202.0\" id=\"10,6\" style=\"\"></path><path d=\"M 190.9 97.2 L 190.9 73.0 L 194.4 73.0\" id=\"8,7\" style=\"\"></path><path d=\"M 120.6 125.4 L 120.6 97.2 L 190.9 97.2\" id=\"9,8\" style=\"\"></path><path d=\"M 55.8 163.7 L 55.8 125.4 L 120.6 125.4\" id=\"10,9\" style=\"\"></path></g><g class=\"toytree-AdmixEdges\" style=\"fill:rgb(0.0%,0.0%,0.0%);fill-opacity:0.0;stroke:rgb(90.6%,54.1%,76.5%);stroke-opacity:0.6;font-size:14px;stroke-linecap:round;stroke-width:5\"></g><g class=\"toytree-Nodes\" style=\"fill:rgb(40.0%,76.1%,64.7%);fill-opacity:1.0;stroke:rgb(14.9%,14.9%,14.9%);stroke-opacity:1.0;stroke-width:1.5\"><g id=\"Node-6\" transform=\"translate(109.33,201.974)\"><circle r=\"6.0\"></circle></g><g id=\"Node-7\" transform=\"translate(194.382,73.0263)\"><circle r=\"6.0\"></circle></g><g id=\"Node-8\" transform=\"translate(190.915,97.2039)\"><circle r=\"6.0\"></circle></g><g id=\"Node-9\" transform=\"translate(120.62,125.411)\"><circle r=\"6.0\"></circle></g><g id=\"Node-10\" transform=\"translate(55.7952,163.692)\"><circle r=\"6.0\"></circle></g></g><g class=\"toytree-TipLabels\" style=\"fill:rgb(14.5%,14.5%,14.5%);fill-opacity:1.0;font-family:Helvetica;font-size:12px;font-weight:300;vertical-align:baseline;white-space:pre;stroke:none\"><g class=\"toytree-TipLabel\" transform=\"translate(210.333,218.092)\"><text x=\"15.0\" y=\"3.066\" style=\"fill:rgb(14.5%,14.5%,14.5%);fill-opacity:1.0\">r0</text></g><g class=\"toytree-TipLabel\" transform=\"translate(210.333,185.855)\"><text x=\"15.0\" y=\"3.066\" style=\"fill:rgb(14.5%,14.5%,14.5%);fill-opacity:1.0\">r1</text></g><g class=\"toytree-TipLabel\" transform=\"translate(210.333,153.618)\"><text x=\"15.0\" y=\"3.066\" style=\"fill:rgb(14.5%,14.5%,14.5%);fill-opacity:1.0\">r2</text></g><g class=\"toytree-TipLabel\" transform=\"translate(210.333,121.382)\"><text x=\"15.0\" y=\"3.066\" style=\"fill:rgb(14.5%,14.5%,14.5%);fill-opacity:1.0\">r3</text></g><g class=\"toytree-TipLabel\" transform=\"translate(210.333,89.1447)\"><text x=\"15.0\" y=\"3.066\" style=\"fill:rgb(14.5%,14.5%,14.5%);fill-opacity:1.0\">r4</text></g><g class=\"toytree-TipLabel\" transform=\"translate(210.333,56.9079)\"><text x=\"15.0\" y=\"3.066\" style=\"fill:rgb(14.5%,14.5%,14.5%);fill-opacity:1.0\">r5</text></g></g></g></g></g></svg><div class=\"toyplot-behavior\"><script>(function()\n",
       "{\n",
       "var modules={};\n",
       "})();</script></div></div>"
      ]
     },
     "metadata": {},
     "output_type": "display_data"
    }
   ],
   "source": [
    "# hover over nodes to see pop-up elements\n",
    "tree.draw(node_sizes=12);"
   ]
  },
  {
   "cell_type": "code",
   "execution_count": 13,
   "id": "b59ab36d-a16b-4d71-adac-e38538824df8",
   "metadata": {},
   "outputs": [
    {
     "data": {
      "text/html": [
       "<div class=\"toyplot\" id=\"tca4f5e123a034f698fe2327ad363fee8\" style=\"text-align:center\"><svg class=\"toyplot-canvas-Canvas\" xmlns:toyplot=\"http://www.sandia.gov/toyplot\" xmlns:xlink=\"http://www.w3.org/1999/xlink\" xmlns=\"http://www.w3.org/2000/svg\" width=\"300.0px\" height=\"275.0px\" viewBox=\"0 0 300.0 275.0\" preserveAspectRatio=\"xMidYMid meet\" style=\"background-color:transparent;border-color:#292724;border-style:none;border-width:1.0;fill:rgb(16.1%,15.3%,14.1%);fill-opacity:1.0;font-family:Helvetica;font-size:12px;opacity:1.0;stroke:rgb(16.1%,15.3%,14.1%);stroke-opacity:1.0;stroke-width:1.0\" id=\"t99fa538fbfde4667a2323795b5d5c0b2\"><g class=\"toyplot-coordinates-Cartesian\" id=\"t3a7561aa5d8f436caa4af3275466ca59\"><clipPath id=\"t29caf98f45574bbe8663b4dc5d80da85\"><rect x=\"35.0\" y=\"35.0\" width=\"230.0\" height=\"205.0\"></rect></clipPath><g clip-path=\"url(#t29caf98f45574bbe8663b4dc5d80da85)\"><g class=\"toytree-mark-Toytree\" id=\"t1338cb49cda14ead8046cd35f1790688\"><g class=\"toytree-Edges\" style=\"stroke:rgb(14.5%,14.5%,14.5%);stroke-opacity:1.0;stroke-linecap:round;stroke-width:2.0;fill:none\"><path d=\"M 111.5 202.2 L 111.5 218.3 L 210.9 218.3\" id=\"6,0\" style=\"\"></path><path d=\"M 111.5 202.2 L 111.5 186.0 L 210.9 186.0\" id=\"6,1\" style=\"\"></path><path d=\"M 122.6 125.4 L 122.6 153.7 L 210.9 153.7\" id=\"9,2\" style=\"\"></path><path d=\"M 191.8 97.1 L 191.8 121.3 L 210.9 121.3\" id=\"8,3\" style=\"\"></path><path d=\"M 195.2 72.8 L 195.2 89.0 L 210.9 89.0\" id=\"7,4\" style=\"\"></path><path d=\"M 195.2 72.8 L 195.2 56.7 L 210.9 56.7\" id=\"7,5\" style=\"\"></path><path d=\"M 58.8 163.8 L 58.8 202.2 L 111.5 202.2\" id=\"10,6\" style=\"\"></path><path d=\"M 191.8 97.1 L 191.8 72.8 L 195.2 72.8\" id=\"8,7\" style=\"\"></path><path d=\"M 122.6 125.4 L 122.6 97.1 L 191.8 97.1\" id=\"9,8\" style=\"\"></path><path d=\"M 58.8 163.8 L 58.8 125.4 L 122.6 125.4\" id=\"10,9\" style=\"\"></path></g><g class=\"toytree-AdmixEdges\" style=\"fill:rgb(0.0%,0.0%,0.0%);fill-opacity:0.0;stroke:rgb(90.6%,54.1%,76.5%);stroke-opacity:0.6;font-size:14px;stroke-linecap:round;stroke-width:5\"></g><g class=\"toytree-Nodes\" style=\"fill:rgb(40.0%,76.1%,64.7%);fill-opacity:1.0;stroke:rgb(14.9%,14.9%,14.9%);stroke-opacity:1.0;stroke-width:1.5\"><g id=\"Node-6\" transform=\"translate(111.471,202.178)\"><circle r=\"7.401869281028262\"></circle></g><g id=\"Node-7\" transform=\"translate(195.228,72.8221)\"><circle r=\"3.2741363503779892\"></circle></g><g id=\"Node-8\" transform=\"translate(191.814,97.0763)\"><circle r=\"3.442383845472344\"></circle></g><g id=\"Node-9\" transform=\"translate(122.589,125.373)\"><circle r=\"6.853941571650938\"></circle></g><g id=\"Node-10\" transform=\"translate(58.7507,163.775)\"><circle r=\"10.0\"></circle></g></g><g class=\"toytree-TipLabels\" style=\"fill:rgb(14.5%,14.5%,14.5%);fill-opacity:1.0;font-family:Helvetica;font-size:12px;font-weight:300;vertical-align:baseline;white-space:pre;stroke:none\"><g class=\"toytree-TipLabel\" transform=\"translate(210.937,218.347)\"><text x=\"15.0\" y=\"3.066\" style=\"fill:rgb(14.5%,14.5%,14.5%);fill-opacity:1.0\">r0</text></g><g class=\"toytree-TipLabel\" transform=\"translate(210.937,186.008)\"><text x=\"15.0\" y=\"3.066\" style=\"fill:rgb(14.5%,14.5%,14.5%);fill-opacity:1.0\">r1</text></g><g class=\"toytree-TipLabel\" transform=\"translate(210.937,153.669)\"><text x=\"15.0\" y=\"3.066\" style=\"fill:rgb(14.5%,14.5%,14.5%);fill-opacity:1.0\">r2</text></g><g class=\"toytree-TipLabel\" transform=\"translate(210.937,121.331)\"><text x=\"15.0\" y=\"3.066\" style=\"fill:rgb(14.5%,14.5%,14.5%);fill-opacity:1.0\">r3</text></g><g class=\"toytree-TipLabel\" transform=\"translate(210.937,88.9916)\"><text x=\"15.0\" y=\"3.066\" style=\"fill:rgb(14.5%,14.5%,14.5%);fill-opacity:1.0\">r4</text></g><g class=\"toytree-TipLabel\" transform=\"translate(210.937,56.6526)\"><text x=\"15.0\" y=\"3.066\" style=\"fill:rgb(14.5%,14.5%,14.5%);fill-opacity:1.0\">r5</text></g></g></g></g></g></svg><div class=\"toyplot-behavior\"><script>(function()\n",
       "{\n",
       "var modules={};\n",
       "})();</script></div></div>"
      ]
     },
     "metadata": {},
     "output_type": "display_data"
    }
   ],
   "source": [
    "sizes = tree.get_node_data(\"height\")\n",
    "tree.draw(node_sizes=(\"height\",));"
   ]
  },
  {
   "cell_type": "markdown",
   "id": "e53623a0-ab15-4941-9115-79fc15d864d6",
   "metadata": {},
   "source": [
    "### node_mask\n",
    "You will notice that the `node_sizes` argument shown above only adds node markers to the internal nodes. What if we want to choose which nodes to display markers on? In that case, you will want to use the `node_mask` argument. This accepts a boolean or array of boolean values to describe which nodes to show versus hide. There is a convenience function of tree objects named `get_node_mask` that can be used to generate a boolean mask in the correct order to designate a subset of nodes to show. Finally, there is a simplified tuple syntax that can be used to choose to display particular sets of nodes composing only the tips, only the internal nodes, or only the root. "
   ]
  },
  {
   "cell_type": "code",
   "execution_count": 14,
   "id": "7a8c7f19-708c-42e5-9c6a-95fdc70f542b",
   "metadata": {},
   "outputs": [
    {
     "data": {
      "text/html": [
       "<div class=\"toyplot\" id=\"t864b43b9b7cf4855beb1c9da9ed213dc\" style=\"text-align:center\"><svg class=\"toyplot-canvas-Canvas\" xmlns:toyplot=\"http://www.sandia.gov/toyplot\" xmlns:xlink=\"http://www.w3.org/1999/xlink\" xmlns=\"http://www.w3.org/2000/svg\" width=\"300.0px\" height=\"275.0px\" viewBox=\"0 0 300.0 275.0\" preserveAspectRatio=\"xMidYMid meet\" style=\"background-color:transparent;border-color:#292724;border-style:none;border-width:1.0;fill:rgb(16.1%,15.3%,14.1%);fill-opacity:1.0;font-family:Helvetica;font-size:12px;opacity:1.0;stroke:rgb(16.1%,15.3%,14.1%);stroke-opacity:1.0;stroke-width:1.0\" id=\"teca6b352806c443282a91515c36283e7\"><g class=\"toyplot-coordinates-Cartesian\" id=\"ta569a51bd06242e4b12000529071c6c3\"><clipPath id=\"t1922008aed2d4c6583e64f05360d5426\"><rect x=\"35.0\" y=\"35.0\" width=\"230.0\" height=\"205.0\"></rect></clipPath><g clip-path=\"url(#t1922008aed2d4c6583e64f05360d5426)\"><g class=\"toytree-mark-Toytree\" id=\"tdaaa6fd0377943e5a9b6733ed1010adf\"><g class=\"toytree-Edges\" style=\"stroke:rgb(14.5%,14.5%,14.5%);stroke-opacity:1.0;stroke-linecap:round;stroke-width:2.0;fill:none\"><path d=\"M 109.3 202.0 L 109.3 218.1 L 210.3 218.1\" id=\"6,0\" style=\"\"></path><path d=\"M 109.3 202.0 L 109.3 185.9 L 210.3 185.9\" id=\"6,1\" style=\"\"></path><path d=\"M 120.6 125.4 L 120.6 153.6 L 210.3 153.6\" id=\"9,2\" style=\"\"></path><path d=\"M 190.9 97.2 L 190.9 121.4 L 210.3 121.4\" id=\"8,3\" style=\"\"></path><path d=\"M 194.4 73.0 L 194.4 89.1 L 210.3 89.1\" id=\"7,4\" style=\"\"></path><path d=\"M 194.4 73.0 L 194.4 56.9 L 210.3 56.9\" id=\"7,5\" style=\"\"></path><path d=\"M 55.8 163.7 L 55.8 202.0 L 109.3 202.0\" id=\"10,6\" style=\"\"></path><path d=\"M 190.9 97.2 L 190.9 73.0 L 194.4 73.0\" id=\"8,7\" style=\"\"></path><path d=\"M 120.6 125.4 L 120.6 97.2 L 190.9 97.2\" id=\"9,8\" style=\"\"></path><path d=\"M 55.8 163.7 L 55.8 125.4 L 120.6 125.4\" id=\"10,9\" style=\"\"></path></g><g class=\"toytree-AdmixEdges\" style=\"fill:rgb(0.0%,0.0%,0.0%);fill-opacity:0.0;stroke:rgb(90.6%,54.1%,76.5%);stroke-opacity:0.6;font-size:14px;stroke-linecap:round;stroke-width:5\"></g><g class=\"toytree-Nodes\" style=\"fill:rgb(40.0%,76.1%,64.7%);fill-opacity:1.0;stroke:rgb(14.9%,14.9%,14.9%);stroke-opacity:1.0;stroke-width:1.5\"><g id=\"Node-0\" transform=\"translate(210.333,218.092)\"><circle r=\"6.0\"></circle></g><g id=\"Node-1\" transform=\"translate(210.333,185.855)\"><circle r=\"6.0\"></circle></g><g id=\"Node-2\" transform=\"translate(210.333,153.618)\"><circle r=\"6.0\"></circle></g><g id=\"Node-3\" transform=\"translate(210.333,121.382)\"><circle r=\"6.0\"></circle></g><g id=\"Node-4\" transform=\"translate(210.333,89.1447)\"><circle r=\"6.0\"></circle></g><g id=\"Node-5\" transform=\"translate(210.333,56.9079)\"><circle r=\"6.0\"></circle></g><g id=\"Node-6\" transform=\"translate(109.33,201.974)\"><circle r=\"6.0\"></circle></g><g id=\"Node-7\" transform=\"translate(194.382,73.0263)\"><circle r=\"6.0\"></circle></g><g id=\"Node-8\" transform=\"translate(190.915,97.2039)\"><circle r=\"6.0\"></circle></g><g id=\"Node-9\" transform=\"translate(120.62,125.411)\"><circle r=\"6.0\"></circle></g><g id=\"Node-10\" transform=\"translate(55.7952,163.692)\"><circle r=\"6.0\"></circle></g></g><g class=\"toytree-TipLabels\" style=\"fill:rgb(14.5%,14.5%,14.5%);fill-opacity:1.0;font-family:Helvetica;font-size:12px;font-weight:300;vertical-align:baseline;white-space:pre;stroke:none\"><g class=\"toytree-TipLabel\" transform=\"translate(210.333,218.092)\"><text x=\"15.0\" y=\"3.066\" style=\"fill:rgb(14.5%,14.5%,14.5%);fill-opacity:1.0\">r0</text></g><g class=\"toytree-TipLabel\" transform=\"translate(210.333,185.855)\"><text x=\"15.0\" y=\"3.066\" style=\"fill:rgb(14.5%,14.5%,14.5%);fill-opacity:1.0\">r1</text></g><g class=\"toytree-TipLabel\" transform=\"translate(210.333,153.618)\"><text x=\"15.0\" y=\"3.066\" style=\"fill:rgb(14.5%,14.5%,14.5%);fill-opacity:1.0\">r2</text></g><g class=\"toytree-TipLabel\" transform=\"translate(210.333,121.382)\"><text x=\"15.0\" y=\"3.066\" style=\"fill:rgb(14.5%,14.5%,14.5%);fill-opacity:1.0\">r3</text></g><g class=\"toytree-TipLabel\" transform=\"translate(210.333,89.1447)\"><text x=\"15.0\" y=\"3.066\" style=\"fill:rgb(14.5%,14.5%,14.5%);fill-opacity:1.0\">r4</text></g><g class=\"toytree-TipLabel\" transform=\"translate(210.333,56.9079)\"><text x=\"15.0\" y=\"3.066\" style=\"fill:rgb(14.5%,14.5%,14.5%);fill-opacity:1.0\">r5</text></g></g></g></g></g></svg><div class=\"toyplot-behavior\"><script>(function()\n",
       "{\n",
       "var modules={};\n",
       "})();</script></div></div>"
      ]
     },
     "metadata": {},
     "output_type": "display_data"
    }
   ],
   "source": [
    "# mask=False reveals all nodes\n",
    "tree.draw(node_mask=False, node_sizes=12);"
   ]
  },
  {
   "cell_type": "code",
   "execution_count": 15,
   "id": "ad6a0f50-1133-4117-b87d-a2cf12f4e3ec",
   "metadata": {},
   "outputs": [
    {
     "data": {
      "text/html": [
       "<div class=\"toyplot\" id=\"t66bb77e3bad542eba3b68d9e79c62558\" style=\"text-align:center\"><svg class=\"toyplot-canvas-Canvas\" xmlns:toyplot=\"http://www.sandia.gov/toyplot\" xmlns:xlink=\"http://www.w3.org/1999/xlink\" xmlns=\"http://www.w3.org/2000/svg\" width=\"300.0px\" height=\"275.0px\" viewBox=\"0 0 300.0 275.0\" preserveAspectRatio=\"xMidYMid meet\" style=\"background-color:transparent;border-color:#292724;border-style:none;border-width:1.0;fill:rgb(16.1%,15.3%,14.1%);fill-opacity:1.0;font-family:Helvetica;font-size:12px;opacity:1.0;stroke:rgb(16.1%,15.3%,14.1%);stroke-opacity:1.0;stroke-width:1.0\" id=\"teb935070ab914115b43de8dc905767fd\"><g class=\"toyplot-coordinates-Cartesian\" id=\"t0b59dd78afbc49ec99b3dc7799f679d2\"><clipPath id=\"t51b210f8b06d4b9eb757907983323e82\"><rect x=\"35.0\" y=\"35.0\" width=\"230.0\" height=\"205.0\"></rect></clipPath><g clip-path=\"url(#t51b210f8b06d4b9eb757907983323e82)\"><g class=\"toytree-mark-Toytree\" id=\"t00c815dbefc446f1a5e36e2350383cd2\"><g class=\"toytree-Edges\" style=\"stroke:rgb(14.5%,14.5%,14.5%);stroke-opacity:1.0;stroke-linecap:round;stroke-width:2.0;fill:none\"><path d=\"M 109.3 202.0 L 109.3 218.1 L 210.3 218.1\" id=\"6,0\" style=\"\"></path><path d=\"M 109.3 202.0 L 109.3 185.9 L 210.3 185.9\" id=\"6,1\" style=\"\"></path><path d=\"M 120.6 125.4 L 120.6 153.6 L 210.3 153.6\" id=\"9,2\" style=\"\"></path><path d=\"M 190.9 97.2 L 190.9 121.4 L 210.3 121.4\" id=\"8,3\" style=\"\"></path><path d=\"M 194.4 73.0 L 194.4 89.1 L 210.3 89.1\" id=\"7,4\" style=\"\"></path><path d=\"M 194.4 73.0 L 194.4 56.9 L 210.3 56.9\" id=\"7,5\" style=\"\"></path><path d=\"M 55.8 163.7 L 55.8 202.0 L 109.3 202.0\" id=\"10,6\" style=\"\"></path><path d=\"M 190.9 97.2 L 190.9 73.0 L 194.4 73.0\" id=\"8,7\" style=\"\"></path><path d=\"M 120.6 125.4 L 120.6 97.2 L 190.9 97.2\" id=\"9,8\" style=\"\"></path><path d=\"M 55.8 163.7 L 55.8 125.4 L 120.6 125.4\" id=\"10,9\" style=\"\"></path></g><g class=\"toytree-AdmixEdges\" style=\"fill:rgb(0.0%,0.0%,0.0%);fill-opacity:0.0;stroke:rgb(90.6%,54.1%,76.5%);stroke-opacity:0.6;font-size:14px;stroke-linecap:round;stroke-width:5\"></g><g class=\"toytree-Nodes\" style=\"fill:rgb(40.0%,76.1%,64.7%);fill-opacity:1.0;stroke:rgb(14.9%,14.9%,14.9%);stroke-opacity:1.0;stroke-width:1.5\"></g><g class=\"toytree-TipLabels\" style=\"fill:rgb(14.5%,14.5%,14.5%);fill-opacity:1.0;font-family:Helvetica;font-size:12px;font-weight:300;vertical-align:baseline;white-space:pre;stroke:none\"><g class=\"toytree-TipLabel\" transform=\"translate(210.333,218.092)\"><text x=\"15.0\" y=\"3.066\" style=\"fill:rgb(14.5%,14.5%,14.5%);fill-opacity:1.0\">r0</text></g><g class=\"toytree-TipLabel\" transform=\"translate(210.333,185.855)\"><text x=\"15.0\" y=\"3.066\" style=\"fill:rgb(14.5%,14.5%,14.5%);fill-opacity:1.0\">r1</text></g><g class=\"toytree-TipLabel\" transform=\"translate(210.333,153.618)\"><text x=\"15.0\" y=\"3.066\" style=\"fill:rgb(14.5%,14.5%,14.5%);fill-opacity:1.0\">r2</text></g><g class=\"toytree-TipLabel\" transform=\"translate(210.333,121.382)\"><text x=\"15.0\" y=\"3.066\" style=\"fill:rgb(14.5%,14.5%,14.5%);fill-opacity:1.0\">r3</text></g><g class=\"toytree-TipLabel\" transform=\"translate(210.333,89.1447)\"><text x=\"15.0\" y=\"3.066\" style=\"fill:rgb(14.5%,14.5%,14.5%);fill-opacity:1.0\">r4</text></g><g class=\"toytree-TipLabel\" transform=\"translate(210.333,56.9079)\"><text x=\"15.0\" y=\"3.066\" style=\"fill:rgb(14.5%,14.5%,14.5%);fill-opacity:1.0\">r5</text></g></g></g></g></g></svg><div class=\"toyplot-behavior\"><script>(function()\n",
       "{\n",
       "var modules={};\n",
       "})();</script></div></div>"
      ]
     },
     "metadata": {},
     "output_type": "display_data"
    }
   ],
   "source": [
    "# mask=True masks all nodes\n",
    "tree.draw(node_mask=True, node_sizes=12);"
   ]
  },
  {
   "cell_type": "code",
   "execution_count": 16,
   "id": "d4ed624d-5d7a-4007-a3b6-3e9545e84781",
   "metadata": {},
   "outputs": [
    {
     "name": "stdout",
     "output_type": "stream",
     "text": [
      "[ True  True  True  True  True  True False False False False  True]\n"
     ]
    },
    {
     "data": {
      "text/html": [
       "<div class=\"toyplot\" id=\"t52f94336cbb04f43b2a546e81fc19adb\" style=\"text-align:center\"><svg class=\"toyplot-canvas-Canvas\" xmlns:toyplot=\"http://www.sandia.gov/toyplot\" xmlns:xlink=\"http://www.w3.org/1999/xlink\" xmlns=\"http://www.w3.org/2000/svg\" width=\"300.0px\" height=\"275.0px\" viewBox=\"0 0 300.0 275.0\" preserveAspectRatio=\"xMidYMid meet\" style=\"background-color:transparent;border-color:#292724;border-style:none;border-width:1.0;fill:rgb(16.1%,15.3%,14.1%);fill-opacity:1.0;font-family:Helvetica;font-size:12px;opacity:1.0;stroke:rgb(16.1%,15.3%,14.1%);stroke-opacity:1.0;stroke-width:1.0\" id=\"t21bc8f3638e04c37acc64234528ec301\"><g class=\"toyplot-coordinates-Cartesian\" id=\"tc6eb318810584329a0f92803dafbaf08\"><clipPath id=\"tad0286edddd7414d8002b02cc4ba8816\"><rect x=\"35.0\" y=\"35.0\" width=\"230.0\" height=\"205.0\"></rect></clipPath><g clip-path=\"url(#tad0286edddd7414d8002b02cc4ba8816)\"><g class=\"toytree-mark-Toytree\" id=\"t3b92e468b15d42cfbfbda60885770003\"><g class=\"toytree-Edges\" style=\"stroke:rgb(14.5%,14.5%,14.5%);stroke-opacity:1.0;stroke-linecap:round;stroke-width:2.0;fill:none\"><path d=\"M 109.3 202.0 L 109.3 218.1 L 210.3 218.1\" id=\"6,0\" style=\"\"></path><path d=\"M 109.3 202.0 L 109.3 185.9 L 210.3 185.9\" id=\"6,1\" style=\"\"></path><path d=\"M 120.6 125.4 L 120.6 153.6 L 210.3 153.6\" id=\"9,2\" style=\"\"></path><path d=\"M 190.9 97.2 L 190.9 121.4 L 210.3 121.4\" id=\"8,3\" style=\"\"></path><path d=\"M 194.4 73.0 L 194.4 89.1 L 210.3 89.1\" id=\"7,4\" style=\"\"></path><path d=\"M 194.4 73.0 L 194.4 56.9 L 210.3 56.9\" id=\"7,5\" style=\"\"></path><path d=\"M 55.8 163.7 L 55.8 202.0 L 109.3 202.0\" id=\"10,6\" style=\"\"></path><path d=\"M 190.9 97.2 L 190.9 73.0 L 194.4 73.0\" id=\"8,7\" style=\"\"></path><path d=\"M 120.6 125.4 L 120.6 97.2 L 190.9 97.2\" id=\"9,8\" style=\"\"></path><path d=\"M 55.8 163.7 L 55.8 125.4 L 120.6 125.4\" id=\"10,9\" style=\"\"></path></g><g class=\"toytree-AdmixEdges\" style=\"fill:rgb(0.0%,0.0%,0.0%);fill-opacity:0.0;stroke:rgb(90.6%,54.1%,76.5%);stroke-opacity:0.6;font-size:14px;stroke-linecap:round;stroke-width:5\"></g><g class=\"toytree-Nodes\" style=\"fill:rgb(40.0%,76.1%,64.7%);fill-opacity:1.0;stroke:rgb(14.9%,14.9%,14.9%);stroke-opacity:1.0;stroke-width:1.5\"><g id=\"Node-0\" transform=\"translate(210.333,218.092)\"><circle r=\"6.0\"></circle></g><g id=\"Node-1\" transform=\"translate(210.333,185.855)\"><circle r=\"6.0\"></circle></g><g id=\"Node-2\" transform=\"translate(210.333,153.618)\"><circle r=\"6.0\"></circle></g><g id=\"Node-3\" transform=\"translate(210.333,121.382)\"><circle r=\"6.0\"></circle></g><g id=\"Node-4\" transform=\"translate(210.333,89.1447)\"><circle r=\"6.0\"></circle></g><g id=\"Node-5\" transform=\"translate(210.333,56.9079)\"><circle r=\"6.0\"></circle></g><g id=\"Node-10\" transform=\"translate(55.7952,163.692)\"><circle r=\"6.0\"></circle></g></g><g class=\"toytree-TipLabels\" style=\"fill:rgb(14.5%,14.5%,14.5%);fill-opacity:1.0;font-family:Helvetica;font-size:12px;font-weight:300;vertical-align:baseline;white-space:pre;stroke:none\"><g class=\"toytree-TipLabel\" transform=\"translate(210.333,218.092)\"><text x=\"15.0\" y=\"3.066\" style=\"fill:rgb(14.5%,14.5%,14.5%);fill-opacity:1.0\">r0</text></g><g class=\"toytree-TipLabel\" transform=\"translate(210.333,185.855)\"><text x=\"15.0\" y=\"3.066\" style=\"fill:rgb(14.5%,14.5%,14.5%);fill-opacity:1.0\">r1</text></g><g class=\"toytree-TipLabel\" transform=\"translate(210.333,153.618)\"><text x=\"15.0\" y=\"3.066\" style=\"fill:rgb(14.5%,14.5%,14.5%);fill-opacity:1.0\">r2</text></g><g class=\"toytree-TipLabel\" transform=\"translate(210.333,121.382)\"><text x=\"15.0\" y=\"3.066\" style=\"fill:rgb(14.5%,14.5%,14.5%);fill-opacity:1.0\">r3</text></g><g class=\"toytree-TipLabel\" transform=\"translate(210.333,89.1447)\"><text x=\"15.0\" y=\"3.066\" style=\"fill:rgb(14.5%,14.5%,14.5%);fill-opacity:1.0\">r4</text></g><g class=\"toytree-TipLabel\" transform=\"translate(210.333,56.9079)\"><text x=\"15.0\" y=\"3.066\" style=\"fill:rgb(14.5%,14.5%,14.5%);fill-opacity:1.0\">r5</text></g></g></g></g></g></svg><div class=\"toyplot-behavior\"><script>(function()\n",
       "{\n",
       "var modules={};\n",
       "})();</script></div></div>"
      ]
     },
     "metadata": {},
     "output_type": "display_data"
    }
   ],
   "source": [
    "# mask=[True, False, True, ...] shows Nodes with True\n",
    "mask = tree.get_node_mask(show_tips=True, show_root=True, show_internal=False)\n",
    "print(mask)\n",
    "tree.draw(node_mask=mask, node_sizes=12);"
   ]
  },
  {
   "cell_type": "code",
   "execution_count": 17,
   "id": "3594e7f6-7324-483f-afcc-1be704805e19",
   "metadata": {},
   "outputs": [
    {
     "name": "stdout",
     "output_type": "stream",
     "text": [
      "[ True  True  True  True  True  True False False False False False]\n"
     ]
    },
    {
     "data": {
      "text/html": [
       "<div class=\"toyplot\" id=\"te57e411ae04d410c91cf083b32ec7bd3\" style=\"text-align:center\"><svg class=\"toyplot-canvas-Canvas\" xmlns:toyplot=\"http://www.sandia.gov/toyplot\" xmlns:xlink=\"http://www.w3.org/1999/xlink\" xmlns=\"http://www.w3.org/2000/svg\" width=\"300.0px\" height=\"275.0px\" viewBox=\"0 0 300.0 275.0\" preserveAspectRatio=\"xMidYMid meet\" style=\"background-color:transparent;border-color:#292724;border-style:none;border-width:1.0;fill:rgb(16.1%,15.3%,14.1%);fill-opacity:1.0;font-family:Helvetica;font-size:12px;opacity:1.0;stroke:rgb(16.1%,15.3%,14.1%);stroke-opacity:1.0;stroke-width:1.0\" id=\"tb6f90d6848964ce4b7f4d5ee2108a4a5\"><g class=\"toyplot-coordinates-Cartesian\" id=\"tbeeef1c88cc94aa99cd37271e4ea15a9\"><clipPath id=\"t1aeedaf4a2a44809b740a778e9680d0b\"><rect x=\"35.0\" y=\"35.0\" width=\"230.0\" height=\"205.0\"></rect></clipPath><g clip-path=\"url(#t1aeedaf4a2a44809b740a778e9680d0b)\"><g class=\"toytree-mark-Toytree\" id=\"t289e5e527cf64f7bad82e5b498584e14\"><g class=\"toytree-Edges\" style=\"stroke:rgb(14.5%,14.5%,14.5%);stroke-opacity:1.0;stroke-linecap:round;stroke-width:2.0;fill:none\"><path d=\"M 109.3 202.0 L 109.3 218.1 L 210.3 218.1\" id=\"6,0\" style=\"\"></path><path d=\"M 109.3 202.0 L 109.3 185.9 L 210.3 185.9\" id=\"6,1\" style=\"\"></path><path d=\"M 120.6 125.4 L 120.6 153.6 L 210.3 153.6\" id=\"9,2\" style=\"\"></path><path d=\"M 190.9 97.2 L 190.9 121.4 L 210.3 121.4\" id=\"8,3\" style=\"\"></path><path d=\"M 194.4 73.0 L 194.4 89.1 L 210.3 89.1\" id=\"7,4\" style=\"\"></path><path d=\"M 194.4 73.0 L 194.4 56.9 L 210.3 56.9\" id=\"7,5\" style=\"\"></path><path d=\"M 55.8 163.7 L 55.8 202.0 L 109.3 202.0\" id=\"10,6\" style=\"\"></path><path d=\"M 190.9 97.2 L 190.9 73.0 L 194.4 73.0\" id=\"8,7\" style=\"\"></path><path d=\"M 120.6 125.4 L 120.6 97.2 L 190.9 97.2\" id=\"9,8\" style=\"\"></path><path d=\"M 55.8 163.7 L 55.8 125.4 L 120.6 125.4\" id=\"10,9\" style=\"\"></path></g><g class=\"toytree-AdmixEdges\" style=\"fill:rgb(0.0%,0.0%,0.0%);fill-opacity:0.0;stroke:rgb(90.6%,54.1%,76.5%);stroke-opacity:0.6;font-size:14px;stroke-linecap:round;stroke-width:5\"></g><g class=\"toytree-Nodes\" style=\"fill:rgb(40.0%,76.1%,64.7%);fill-opacity:1.0;stroke:rgb(14.9%,14.9%,14.9%);stroke-opacity:1.0;stroke-width:1.5\"><g id=\"Node-0\" transform=\"translate(210.333,218.092)\"><circle r=\"6.0\"></circle></g><g id=\"Node-1\" transform=\"translate(210.333,185.855)\"><circle r=\"6.0\"></circle></g><g id=\"Node-2\" transform=\"translate(210.333,153.618)\"><circle r=\"6.0\"></circle></g><g id=\"Node-3\" transform=\"translate(210.333,121.382)\"><circle r=\"6.0\"></circle></g><g id=\"Node-4\" transform=\"translate(210.333,89.1447)\"><circle r=\"6.0\"></circle></g><g id=\"Node-5\" transform=\"translate(210.333,56.9079)\"><circle r=\"6.0\"></circle></g></g><g class=\"toytree-TipLabels\" style=\"fill:rgb(14.5%,14.5%,14.5%);fill-opacity:1.0;font-family:Helvetica;font-size:12px;font-weight:300;vertical-align:baseline;white-space:pre;stroke:none\"><g class=\"toytree-TipLabel\" transform=\"translate(210.333,218.092)\"><text x=\"15.0\" y=\"3.066\" style=\"fill:rgb(14.5%,14.5%,14.5%);fill-opacity:1.0\">r0</text></g><g class=\"toytree-TipLabel\" transform=\"translate(210.333,185.855)\"><text x=\"15.0\" y=\"3.066\" style=\"fill:rgb(14.5%,14.5%,14.5%);fill-opacity:1.0\">r1</text></g><g class=\"toytree-TipLabel\" transform=\"translate(210.333,153.618)\"><text x=\"15.0\" y=\"3.066\" style=\"fill:rgb(14.5%,14.5%,14.5%);fill-opacity:1.0\">r2</text></g><g class=\"toytree-TipLabel\" transform=\"translate(210.333,121.382)\"><text x=\"15.0\" y=\"3.066\" style=\"fill:rgb(14.5%,14.5%,14.5%);fill-opacity:1.0\">r3</text></g><g class=\"toytree-TipLabel\" transform=\"translate(210.333,89.1447)\"><text x=\"15.0\" y=\"3.066\" style=\"fill:rgb(14.5%,14.5%,14.5%);fill-opacity:1.0\">r4</text></g><g class=\"toytree-TipLabel\" transform=\"translate(210.333,56.9079)\"><text x=\"15.0\" y=\"3.066\" style=\"fill:rgb(14.5%,14.5%,14.5%);fill-opacity:1.0\">r5</text></g></g></g></g></g></svg><div class=\"toyplot-behavior\"><script>(function()\n",
       "{\n",
       "var modules={};\n",
       "})();</script></div></div>"
      ]
     },
     "metadata": {},
     "output_type": "display_data"
    }
   ],
   "source": [
    "# mask=[True, False, True, ...] shows Nodes with True\n",
    "mask = tree.get_node_mask(\"~r[0-5]\")\n",
    "print(mask)\n",
    "tree.draw(node_mask=mask, node_sizes=12);"
   ]
  },
  {
   "cell_type": "code",
   "execution_count": 279,
   "id": "e8508a73-9d2c-4f7c-a150-8933332d6401",
   "metadata": {},
   "outputs": [
    {
     "data": {
      "text/html": [
       "<div class=\"toyplot\" id=\"t459da7dbaa424ce6b30665c40d8c4c39\" style=\"text-align:center\"><svg class=\"toyplot-canvas-Canvas\" xmlns:toyplot=\"http://www.sandia.gov/toyplot\" xmlns:xlink=\"http://www.w3.org/1999/xlink\" xmlns=\"http://www.w3.org/2000/svg\" width=\"300.0px\" height=\"275.0px\" viewBox=\"0 0 300.0 275.0\" preserveAspectRatio=\"xMidYMid meet\" style=\"background-color:transparent;border-color:#292724;border-style:none;border-width:1.0;fill:rgb(16.1%,15.3%,14.1%);fill-opacity:1.0;font-family:Helvetica;font-size:12px;opacity:1.0;stroke:rgb(16.1%,15.3%,14.1%);stroke-opacity:1.0;stroke-width:1.0\" id=\"t201bf63172df43cd8c48a11482ea2174\"><g class=\"toyplot-coordinates-Cartesian\" id=\"tb1734c79ee2c438392327019a2894e28\"><clipPath id=\"t28e602472bf6445ea7190a99129f242d\"><rect x=\"35.0\" y=\"35.0\" width=\"230.0\" height=\"205.0\"></rect></clipPath><g clip-path=\"url(#t28e602472bf6445ea7190a99129f242d)\"><g class=\"toytree-mark-Toytree\" id=\"tff4499fd837b423e81356d396c8e0ef9\"><g class=\"toytree-Edges\" style=\"stroke:rgb(14.5%,14.5%,14.5%);stroke-opacity:1.0;stroke-linecap:round;stroke-width:2.0;fill:none\"><path d=\"M 110.1 201.0 L 110.1 216.8 L 210.6 216.8\" id=\"6,0\" style=\"\"></path><path d=\"M 110.1 201.0 L 110.1 185.1 L 210.6 185.1\" id=\"6,1\" style=\"\"></path><path d=\"M 121.4 125.6 L 121.4 153.4 L 210.6 153.4\" id=\"9,2\" style=\"\"></path><path d=\"M 191.3 97.8 L 191.3 121.6 L 210.6 121.6\" id=\"8,3\" style=\"\"></path><path d=\"M 194.7 74.0 L 194.7 89.9 L 210.6 89.9\" id=\"7,4\" style=\"\"></path><path d=\"M 194.7 74.0 L 194.7 58.2 L 210.6 58.2\" id=\"7,5\" style=\"\"></path><path d=\"M 56.9 163.3 L 56.9 201.0 L 110.1 201.0\" id=\"10,6\" style=\"\"></path><path d=\"M 191.3 97.8 L 191.3 74.0 L 194.7 74.0\" id=\"8,7\" style=\"\"></path><path d=\"M 121.4 125.6 L 121.4 97.8 L 191.3 97.8\" id=\"9,8\" style=\"\"></path><path d=\"M 56.9 163.3 L 56.9 125.6 L 121.4 125.6\" id=\"10,9\" style=\"\"></path></g><g class=\"toytree-AdmixEdges\" style=\"fill:rgb(0.0%,0.0%,0.0%);fill-opacity:0.0;stroke:rgb(90.6%,54.1%,76.5%);stroke-opacity:0.6;font-size:14px;stroke-linecap:round;stroke-width:5\"></g><g class=\"toytree-Nodes\" style=\"fill:rgb(40.0%,76.1%,64.7%);fill-opacity:1.0;stroke:rgb(14.9%,14.9%,14.9%);stroke-opacity:1.0;stroke-width:1.5\"><g id=\"Node-2\" transform=\"translate(210.562,153.368)\"><circle r=\"7.5\"></circle></g><g id=\"Node-3\" transform=\"translate(210.562,121.632)\"><circle r=\"7.5\"></circle></g><g id=\"Node-7\" transform=\"translate(194.703,74.0285)\"><circle r=\"7.5\"></circle></g><g id=\"Node-8\" transform=\"translate(191.256,97.8303)\"><circle r=\"7.5\"></circle></g></g><g class=\"toytree-NodeLabels\" style=\"font-family:Helvetica;font-size:9px;font-weight:300;vertical-align:baseline;white-space:pre;stroke:none\"><g class=\"toytree-NodeLabel\" transform=\"translate(210.562,153.368)\"><text x=\"-2.5020000000000002\" y=\"2.2995\" style=\"fill:rgb(14.5%,14.5%,14.5%);fill-opacity:1.0\">2</text></g><g class=\"toytree-NodeLabel\" transform=\"translate(210.562,121.632)\"><text x=\"-2.5020000000000002\" y=\"2.2995\" style=\"fill:rgb(14.5%,14.5%,14.5%);fill-opacity:1.0\">3</text></g><g class=\"toytree-NodeLabel\" transform=\"translate(194.703,74.0285)\"><text x=\"-2.5020000000000002\" y=\"2.2995\" style=\"fill:rgb(14.5%,14.5%,14.5%);fill-opacity:1.0\">7</text></g><g class=\"toytree-NodeLabel\" transform=\"translate(191.256,97.8303)\"><text x=\"-2.5020000000000002\" y=\"2.2995\" style=\"fill:rgb(14.5%,14.5%,14.5%);fill-opacity:1.0\">8</text></g></g><g class=\"toytree-TipLabels\" style=\"fill:rgb(14.5%,14.5%,14.5%);fill-opacity:1.0;font-family:Helvetica;font-size:12px;font-weight:300;vertical-align:baseline;white-space:pre;stroke:none\"><g class=\"toytree-TipLabel\" transform=\"translate(210.562,216.839)\"><text x=\"15.0\" y=\"3.066\" style=\"fill:rgb(14.5%,14.5%,14.5%);fill-opacity:1.0\">r0</text></g><g class=\"toytree-TipLabel\" transform=\"translate(210.562,185.104)\"><text x=\"15.0\" y=\"3.066\" style=\"fill:rgb(14.5%,14.5%,14.5%);fill-opacity:1.0\">r1</text></g><g class=\"toytree-TipLabel\" transform=\"translate(210.562,153.368)\"><text x=\"15.0\" y=\"3.066\" style=\"fill:rgb(14.5%,14.5%,14.5%);fill-opacity:1.0\">r2</text></g><g class=\"toytree-TipLabel\" transform=\"translate(210.562,121.632)\"><text x=\"15.0\" y=\"3.066\" style=\"fill:rgb(14.5%,14.5%,14.5%);fill-opacity:1.0\">r3</text></g><g class=\"toytree-TipLabel\" transform=\"translate(210.562,89.8964)\"><text x=\"15.0\" y=\"3.066\" style=\"fill:rgb(14.5%,14.5%,14.5%);fill-opacity:1.0\">r4</text></g><g class=\"toytree-TipLabel\" transform=\"translate(210.562,58.1606)\"><text x=\"15.0\" y=\"3.066\" style=\"fill:rgb(14.5%,14.5%,14.5%);fill-opacity:1.0\">r5</text></g></g></g></g></g></svg><div class=\"toyplot-behavior\"><script>(function()\n",
       "{\n",
       "var modules={};\n",
       "})();</script></div></div>"
      ]
     },
     "metadata": {},
     "output_type": "display_data"
    }
   ],
   "source": [
    "# mask=[True, False, True, ...] shows a subset of Nodes\n",
    "mask = tree.get_node_mask(2, 3, 7, 8)\n",
    "print(mask)\n",
    "tree.draw(node_mask=mask, node_sizes=15, node_labels=\"idx\");"
   ]
  },
  {
   "attachments": {},
   "cell_type": "markdown",
   "id": "ee4bc89c-2f0a-4114-b0fb-5a91c30255d8",
   "metadata": {},
   "source": [
    "### node_markers\n",
    "Node markers are the shapes of the mark objects plotted on nodes. The default shape is a circle, but a variety of marker shapes are available and can be selected by the shorthand str names used for [toyplot markers](https://toyplot.readthedocs.io/en/stable/markers.html). For example, 's' for a square, 'o' for a circle, 'r1x5' for a rectangle that is 5 times taller than wide. Each marker shape is still scaled to a particular pixel size using the `node_sizes` argument, and optionally shown or hidden using `node_mask`. You can enter a single node marker argument to apply to all nodes uniformly, or a series of node markers of length nnodes to apply different markers shapes to different nodes."
   ]
  },
  {
   "cell_type": "code",
   "execution_count": 24,
   "id": "274065d4-f2f7-4120-8392-68fede24b2ae",
   "metadata": {},
   "outputs": [
    {
     "data": {
      "text/html": [
       "<div class=\"toyplot\" id=\"t54d8507ea0f14d8283b522308c7bad44\" style=\"text-align:center\"><svg class=\"toyplot-canvas-Canvas\" xmlns:toyplot=\"http://www.sandia.gov/toyplot\" xmlns:xlink=\"http://www.w3.org/1999/xlink\" xmlns=\"http://www.w3.org/2000/svg\" width=\"300.0px\" height=\"275.0px\" viewBox=\"0 0 300.0 275.0\" preserveAspectRatio=\"xMidYMid meet\" style=\"background-color:transparent;border-color:#292724;border-style:none;border-width:1.0;fill:rgb(16.1%,15.3%,14.1%);fill-opacity:1.0;font-family:Helvetica;font-size:12px;opacity:1.0;stroke:rgb(16.1%,15.3%,14.1%);stroke-opacity:1.0;stroke-width:1.0\" id=\"td10016f7de4f46b592a00175b620889b\"><g class=\"toyplot-coordinates-Cartesian\" id=\"t7bfe9a1af9d1460fa0363bbb7218c861\"><clipPath id=\"td38f6e6aeb3d4737a389a820f3423d33\"><rect x=\"35.0\" y=\"35.0\" width=\"230.0\" height=\"205.0\"></rect></clipPath><g clip-path=\"url(#td38f6e6aeb3d4737a389a820f3423d33)\"><g class=\"toytree-mark-Toytree\" id=\"t7c1ffcfa4c144ddbae2cb268692aac21\"><g class=\"toytree-Edges\" style=\"stroke:rgb(14.5%,14.5%,14.5%);stroke-opacity:1.0;stroke-linecap:round;stroke-width:2.0;fill:none\"><path d=\"M 108.8 202.2 L 108.8 218.3 L 210.2 218.3\" id=\"6,0\" style=\"\"></path><path d=\"M 108.8 202.2 L 108.8 186.0 L 210.2 186.0\" id=\"6,1\" style=\"\"></path><path d=\"M 120.1 125.4 L 120.1 153.7 L 210.2 153.7\" id=\"9,2\" style=\"\"></path><path d=\"M 190.7 97.1 L 190.7 121.3 L 210.2 121.3\" id=\"8,3\" style=\"\"></path><path d=\"M 194.2 72.8 L 194.2 89.0 L 210.2 89.0\" id=\"7,4\" style=\"\"></path><path d=\"M 194.2 72.8 L 194.2 56.7 L 210.2 56.7\" id=\"7,5\" style=\"\"></path><path d=\"M 55.0 163.8 L 55.0 202.2 L 108.8 202.2\" id=\"10,6\" style=\"\"></path><path d=\"M 190.7 97.1 L 190.7 72.8 L 194.2 72.8\" id=\"8,7\" style=\"\"></path><path d=\"M 120.1 125.4 L 120.1 97.1 L 190.7 97.1\" id=\"9,8\" style=\"\"></path><path d=\"M 55.0 163.8 L 55.0 125.4 L 120.1 125.4\" id=\"10,9\" style=\"\"></path></g><g class=\"toytree-AdmixEdges\" style=\"fill:rgb(0.0%,0.0%,0.0%);fill-opacity:0.0;stroke:rgb(90.6%,54.1%,76.5%);stroke-opacity:0.6;font-size:14px;stroke-linecap:round;stroke-width:5\"></g><g class=\"toytree-Nodes\" style=\"fill:rgb(40.0%,76.1%,64.7%);fill-opacity:1.0;stroke:rgb(14.9%,14.9%,14.9%);stroke-opacity:1.0;stroke-width:1.5\"><g id=\"Node-6\" transform=\"translate(108.784,202.178)\"><rect x=\"-5.0\" y=\"-5.0\" width=\"10\" height=\"10\"></rect></g><g id=\"Node-7\" transform=\"translate(194.166,72.8221)\"><rect x=\"-5.0\" y=\"-5.0\" width=\"10\" height=\"10\"></rect></g><g id=\"Node-8\" transform=\"translate(190.686,97.0763)\"><rect x=\"-5.0\" y=\"-5.0\" width=\"10\" height=\"10\"></rect></g><g id=\"Node-9\" transform=\"translate(120.118,125.373)\"><rect x=\"-5.0\" y=\"-5.0\" width=\"10\" height=\"10\"></rect></g><g id=\"Node-10\" transform=\"translate(55.042,163.775)\"><rect x=\"-5.0\" y=\"-5.0\" width=\"10\" height=\"10\"></rect></g></g><g class=\"toytree-TipLabels\" style=\"fill:rgb(14.5%,14.5%,14.5%);fill-opacity:1.0;font-family:Helvetica;font-size:12px;font-weight:300;vertical-align:baseline;white-space:pre;stroke:none\"><g class=\"toytree-TipLabel\" transform=\"translate(210.179,218.347)\"><text x=\"15.0\" y=\"3.066\" style=\"fill:rgb(14.5%,14.5%,14.5%);fill-opacity:1.0\">r0</text></g><g class=\"toytree-TipLabel\" transform=\"translate(210.179,186.008)\"><text x=\"15.0\" y=\"3.066\" style=\"fill:rgb(14.5%,14.5%,14.5%);fill-opacity:1.0\">r1</text></g><g class=\"toytree-TipLabel\" transform=\"translate(210.179,153.669)\"><text x=\"15.0\" y=\"3.066\" style=\"fill:rgb(14.5%,14.5%,14.5%);fill-opacity:1.0\">r2</text></g><g class=\"toytree-TipLabel\" transform=\"translate(210.179,121.331)\"><text x=\"15.0\" y=\"3.066\" style=\"fill:rgb(14.5%,14.5%,14.5%);fill-opacity:1.0\">r3</text></g><g class=\"toytree-TipLabel\" transform=\"translate(210.179,88.9916)\"><text x=\"15.0\" y=\"3.066\" style=\"fill:rgb(14.5%,14.5%,14.5%);fill-opacity:1.0\">r4</text></g><g class=\"toytree-TipLabel\" transform=\"translate(210.179,56.6526)\"><text x=\"15.0\" y=\"3.066\" style=\"fill:rgb(14.5%,14.5%,14.5%);fill-opacity:1.0\">r5</text></g></g></g></g></g></svg><div class=\"toyplot-behavior\"><script>(function()\n",
       "{\n",
       "var modules={};\n",
       "})();</script></div></div>"
      ]
     },
     "metadata": {},
     "output_type": "display_data"
    }
   ],
   "source": [
    "# apply square markers to all nodes\n",
    "tree.draw(node_sizes=10, node_markers=\"s\");"
   ]
  },
  {
   "cell_type": "code",
   "execution_count": 35,
   "id": "9721073d-bbcf-4a8e-a306-ad0085c4e178",
   "metadata": {},
   "outputs": [
    {
     "data": {
      "text/html": [
       "<div class=\"toyplot\" id=\"t0d211d3e482146299953a9fae97bf008\" style=\"text-align:center\"><svg class=\"toyplot-canvas-Canvas\" xmlns:toyplot=\"http://www.sandia.gov/toyplot\" xmlns:xlink=\"http://www.w3.org/1999/xlink\" xmlns=\"http://www.w3.org/2000/svg\" width=\"300.0px\" height=\"275.0px\" viewBox=\"0 0 300.0 275.0\" preserveAspectRatio=\"xMidYMid meet\" style=\"background-color:transparent;border-color:#292724;border-style:none;border-width:1.0;fill:rgb(16.1%,15.3%,14.1%);fill-opacity:1.0;font-family:Helvetica;font-size:12px;opacity:1.0;stroke:rgb(16.1%,15.3%,14.1%);stroke-opacity:1.0;stroke-width:1.0\" id=\"t45888802714d4a9da23eb2300046ef2b\"><g class=\"toyplot-coordinates-Cartesian\" id=\"t0143f1189ec24380957360266d436a42\"><clipPath id=\"t6210139cb8ed4072be77330204cc8191\"><rect x=\"35.0\" y=\"35.0\" width=\"230.0\" height=\"205.0\"></rect></clipPath><g clip-path=\"url(#t6210139cb8ed4072be77330204cc8191)\"><g class=\"toytree-mark-Toytree\" id=\"tdcf26df3f7f248888ef7cd75a17f5243\"><g class=\"toytree-Edges\" style=\"stroke:rgb(14.5%,14.5%,14.5%);stroke-opacity:1.0;stroke-linecap:round;stroke-width:2.0;fill:none\"><path d=\"M 114.1 201.0 L 114.1 216.8 L 211.7 216.8\" id=\"6,0\" style=\"\"></path><path d=\"M 114.1 201.0 L 114.1 185.1 L 211.7 185.1\" id=\"6,1\" style=\"\"></path><path d=\"M 125.0 125.6 L 125.0 153.4 L 211.7 153.4\" id=\"9,2\" style=\"\"></path><path d=\"M 192.9 97.8 L 192.9 121.6 L 211.7 121.6\" id=\"8,3\" style=\"\"></path><path d=\"M 196.3 74.0 L 196.3 89.9 L 211.7 89.9\" id=\"7,4\" style=\"\"></path><path d=\"M 196.3 74.0 L 196.3 58.2 L 211.7 58.2\" id=\"7,5\" style=\"\"></path><path d=\"M 62.3 163.3 L 62.3 201.0 L 114.1 201.0\" id=\"10,6\" style=\"\"></path><path d=\"M 192.9 97.8 L 192.9 74.0 L 196.3 74.0\" id=\"8,7\" style=\"\"></path><path d=\"M 125.0 125.6 L 125.0 97.8 L 192.9 97.8\" id=\"9,8\" style=\"\"></path><path d=\"M 62.3 163.3 L 62.3 125.6 L 125.0 125.6\" id=\"10,9\" style=\"\"></path></g><g class=\"toytree-AdmixEdges\" style=\"fill:rgb(0.0%,0.0%,0.0%);fill-opacity:0.0;stroke:rgb(90.6%,54.1%,76.5%);stroke-opacity:0.6;font-size:14px;stroke-linecap:round;stroke-width:5\"></g><g class=\"toytree-Nodes\" style=\"fill:rgb(40.0%,76.1%,64.7%);fill-opacity:1.0;stroke:rgb(14.9%,14.9%,14.9%);stroke-opacity:1.0;stroke-width:1.5\"><g id=\"Node-6\" transform=\"translate(114.057,200.972)\"><rect x=\"-15.0\" y=\"-7.5\" width=\"30.0\" height=\"15.0\"></rect></g><g id=\"Node-7\" transform=\"translate(196.251,74.0285)\"><rect x=\"-15.0\" y=\"-7.5\" width=\"30.0\" height=\"15.0\"></rect></g><g id=\"Node-8\" transform=\"translate(192.901,97.8303)\"><rect x=\"-15.0\" y=\"-7.5\" width=\"30.0\" height=\"15.0\"></rect></g><g id=\"Node-9\" transform=\"translate(124.967,125.599)\"><rect x=\"-15.0\" y=\"-7.5\" width=\"30.0\" height=\"15.0\"></rect></g><g id=\"Node-10\" transform=\"translate(62.321,163.285)\"><rect x=\"-15.0\" y=\"-7.5\" width=\"30.0\" height=\"15.0\"></rect></g></g><g class=\"toytree-TipLabels\" style=\"fill:rgb(14.5%,14.5%,14.5%);fill-opacity:1.0;font-family:Helvetica;font-size:12px;font-weight:300;vertical-align:baseline;white-space:pre;stroke:none\"><g class=\"toytree-TipLabel\" transform=\"translate(211.666,216.839)\"><text x=\"15.0\" y=\"3.066\" style=\"fill:rgb(14.5%,14.5%,14.5%);fill-opacity:1.0\">r0</text></g><g class=\"toytree-TipLabel\" transform=\"translate(211.666,185.104)\"><text x=\"15.0\" y=\"3.066\" style=\"fill:rgb(14.5%,14.5%,14.5%);fill-opacity:1.0\">r1</text></g><g class=\"toytree-TipLabel\" transform=\"translate(211.666,153.368)\"><text x=\"15.0\" y=\"3.066\" style=\"fill:rgb(14.5%,14.5%,14.5%);fill-opacity:1.0\">r2</text></g><g class=\"toytree-TipLabel\" transform=\"translate(211.666,121.632)\"><text x=\"15.0\" y=\"3.066\" style=\"fill:rgb(14.5%,14.5%,14.5%);fill-opacity:1.0\">r3</text></g><g class=\"toytree-TipLabel\" transform=\"translate(211.666,89.8964)\"><text x=\"15.0\" y=\"3.066\" style=\"fill:rgb(14.5%,14.5%,14.5%);fill-opacity:1.0\">r4</text></g><g class=\"toytree-TipLabel\" transform=\"translate(211.666,58.1606)\"><text x=\"15.0\" y=\"3.066\" style=\"fill:rgb(14.5%,14.5%,14.5%);fill-opacity:1.0\">r5</text></g></g></g></g></g></svg><div class=\"toyplot-behavior\"><script>(function()\n",
       "{\n",
       "var modules={};\n",
       "})();</script></div></div>"
      ]
     },
     "metadata": {},
     "output_type": "display_data"
    }
   ],
   "source": [
    "# apply rectangle markers to each node\n",
    "tree.draw(node_sizes=15, node_markers=\"r2x1\");"
   ]
  },
  {
   "cell_type": "code",
   "execution_count": 36,
   "id": "887835c3-77e8-496c-a38c-977a7532e59d",
   "metadata": {},
   "outputs": [
    {
     "data": {
      "text/html": [
       "<div class=\"toyplot\" id=\"t6c44d4f91fb84b37892168727e65403b\" style=\"text-align:center\"><svg class=\"toyplot-canvas-Canvas\" xmlns:toyplot=\"http://www.sandia.gov/toyplot\" xmlns:xlink=\"http://www.w3.org/1999/xlink\" xmlns=\"http://www.w3.org/2000/svg\" width=\"300.0px\" height=\"275.0px\" viewBox=\"0 0 300.0 275.0\" preserveAspectRatio=\"xMidYMid meet\" style=\"background-color:transparent;border-color:#292724;border-style:none;border-width:1.0;fill:rgb(16.1%,15.3%,14.1%);fill-opacity:1.0;font-family:Helvetica;font-size:12px;opacity:1.0;stroke:rgb(16.1%,15.3%,14.1%);stroke-opacity:1.0;stroke-width:1.0\" id=\"ta4ac72b7bbda48ecb0fba04558155dab\"><g class=\"toyplot-coordinates-Cartesian\" id=\"tb185db3756fe4cc58525e7c294193b5a\"><clipPath id=\"t850b734694304df4b1240cdfdb01a526\"><rect x=\"35.0\" y=\"35.0\" width=\"230.0\" height=\"205.0\"></rect></clipPath><g clip-path=\"url(#t850b734694304df4b1240cdfdb01a526)\"><g class=\"toytree-mark-Toytree\" id=\"t2da2149a95964d158698266599ee4894\"><g class=\"toytree-Edges\" style=\"stroke:rgb(14.5%,14.5%,14.5%);stroke-opacity:1.0;stroke-linecap:round;stroke-width:2.0;fill:none\"><path d=\"M 114.1 201.0 L 114.1 216.8 L 211.7 216.8\" id=\"6,0\" style=\"\"></path><path d=\"M 114.1 201.0 L 114.1 185.1 L 211.7 185.1\" id=\"6,1\" style=\"\"></path><path d=\"M 125.0 125.6 L 125.0 153.4 L 211.7 153.4\" id=\"9,2\" style=\"\"></path><path d=\"M 192.9 97.8 L 192.9 121.6 L 211.7 121.6\" id=\"8,3\" style=\"\"></path><path d=\"M 196.3 74.0 L 196.3 89.9 L 211.7 89.9\" id=\"7,4\" style=\"\"></path><path d=\"M 196.3 74.0 L 196.3 58.2 L 211.7 58.2\" id=\"7,5\" style=\"\"></path><path d=\"M 62.3 163.3 L 62.3 201.0 L 114.1 201.0\" id=\"10,6\" style=\"\"></path><path d=\"M 192.9 97.8 L 192.9 74.0 L 196.3 74.0\" id=\"8,7\" style=\"\"></path><path d=\"M 125.0 125.6 L 125.0 97.8 L 192.9 97.8\" id=\"9,8\" style=\"\"></path><path d=\"M 62.3 163.3 L 62.3 125.6 L 125.0 125.6\" id=\"10,9\" style=\"\"></path></g><g class=\"toytree-AdmixEdges\" style=\"fill:rgb(0.0%,0.0%,0.0%);fill-opacity:0.0;stroke:rgb(90.6%,54.1%,76.5%);stroke-opacity:0.6;font-size:14px;stroke-linecap:round;stroke-width:5\"></g><g class=\"toytree-Nodes\" style=\"fill:rgb(40.0%,76.1%,64.7%);fill-opacity:1.0;stroke:rgb(14.9%,14.9%,14.9%);stroke-opacity:1.0;stroke-width:1.5\"><g id=\"Node-6\" transform=\"translate(114.057,200.972)\"><rect x=\"-7.5\" y=\"-7.5\" width=\"15.0\" height=\"15.0\"></rect></g><g id=\"Node-7\" transform=\"translate(196.251,74.0285)\"><rect x=\"-7.5\" y=\"-7.5\" width=\"15.0\" height=\"15.0\"></rect></g><g id=\"Node-8\" transform=\"translate(192.901,97.8303)\"><rect x=\"-7.5\" y=\"-7.5\" width=\"15.0\" height=\"15.0\"></rect></g><g id=\"Node-9\" transform=\"translate(124.967,125.599)\"><rect x=\"-7.5\" y=\"-7.5\" width=\"15.0\" height=\"15.0\"></rect></g><g id=\"Node-10\" transform=\"translate(62.321,163.285)\"><rect x=\"-15.0\" y=\"-7.5\" width=\"30.0\" height=\"15.0\"></rect></g></g><g class=\"toytree-NodeLabels\" style=\"font-family:Helvetica;font-size:9px;font-weight:300;vertical-align:baseline;white-space:pre;stroke:none\"><g class=\"toytree-NodeLabel\" transform=\"translate(114.057,200.972)\"><text x=\"-2.5020000000000002\" y=\"2.2995\" style=\"fill:rgb(14.5%,14.5%,14.5%);fill-opacity:1.0\">6</text></g><g class=\"toytree-NodeLabel\" transform=\"translate(196.251,74.0285)\"><text x=\"-2.5020000000000002\" y=\"2.2995\" style=\"fill:rgb(14.5%,14.5%,14.5%);fill-opacity:1.0\">7</text></g><g class=\"toytree-NodeLabel\" transform=\"translate(192.901,97.8303)\"><text x=\"-2.5020000000000002\" y=\"2.2995\" style=\"fill:rgb(14.5%,14.5%,14.5%);fill-opacity:1.0\">8</text></g><g class=\"toytree-NodeLabel\" transform=\"translate(124.967,125.599)\"><text x=\"-2.5020000000000002\" y=\"2.2995\" style=\"fill:rgb(14.5%,14.5%,14.5%);fill-opacity:1.0\">9</text></g><g class=\"toytree-NodeLabel\" transform=\"translate(62.321,163.285)\"><text x=\"-5.0040000000000004\" y=\"2.2995\" style=\"fill:rgb(14.5%,14.5%,14.5%);fill-opacity:1.0\">10</text></g></g><g class=\"toytree-TipLabels\" style=\"fill:rgb(14.5%,14.5%,14.5%);fill-opacity:1.0;font-family:Helvetica;font-size:12px;font-weight:300;vertical-align:baseline;white-space:pre;stroke:none\"><g class=\"toytree-TipLabel\" transform=\"translate(211.666,216.839)\"><text x=\"15.0\" y=\"3.066\" style=\"fill:rgb(14.5%,14.5%,14.5%);fill-opacity:1.0\">r0</text></g><g class=\"toytree-TipLabel\" transform=\"translate(211.666,185.104)\"><text x=\"15.0\" y=\"3.066\" style=\"fill:rgb(14.5%,14.5%,14.5%);fill-opacity:1.0\">r1</text></g><g class=\"toytree-TipLabel\" transform=\"translate(211.666,153.368)\"><text x=\"15.0\" y=\"3.066\" style=\"fill:rgb(14.5%,14.5%,14.5%);fill-opacity:1.0\">r2</text></g><g class=\"toytree-TipLabel\" transform=\"translate(211.666,121.632)\"><text x=\"15.0\" y=\"3.066\" style=\"fill:rgb(14.5%,14.5%,14.5%);fill-opacity:1.0\">r3</text></g><g class=\"toytree-TipLabel\" transform=\"translate(211.666,89.8964)\"><text x=\"15.0\" y=\"3.066\" style=\"fill:rgb(14.5%,14.5%,14.5%);fill-opacity:1.0\">r4</text></g><g class=\"toytree-TipLabel\" transform=\"translate(211.666,58.1606)\"><text x=\"15.0\" y=\"3.066\" style=\"fill:rgb(14.5%,14.5%,14.5%);fill-opacity:1.0\">r5</text></g></g></g></g></g></svg><div class=\"toyplot-behavior\"><script>(function()\n",
       "{\n",
       "var modules={};\n",
       "})();</script></div></div>"
      ]
     },
     "metadata": {},
     "output_type": "display_data"
    }
   ],
   "source": [
    "# apply a rectangle marker with width scaled to n digits in data\n",
    "rects = [f\"r{len(str(i))}x1\" for i in tree.get_node_data(\"idx\")]\n",
    "tree.draw(node_sizes=15, node_markers=rects, node_labels=\"idx\");"
   ]
  },
  {
   "cell_type": "code",
   "execution_count": null,
   "id": "d3047b5f-f68a-4111-829e-021292ce7354",
   "metadata": {},
   "outputs": [],
   "source": []
  },
  {
   "cell_type": "code",
   "execution_count": 58,
   "id": "51347de8-51b3-4476-b5f6-4be4121addb6",
   "metadata": {},
   "outputs": [
    {
     "data": {
      "text/html": [
       "<div class=\"toyplot\" id=\"t7c97392d65d54e2388ad007294424d8f\" style=\"text-align:center\"><svg class=\"toyplot-canvas-Canvas\" xmlns:toyplot=\"http://www.sandia.gov/toyplot\" xmlns:xlink=\"http://www.w3.org/1999/xlink\" xmlns=\"http://www.w3.org/2000/svg\" width=\"300.0px\" height=\"275.0px\" viewBox=\"0 0 300.0 275.0\" preserveAspectRatio=\"xMidYMid meet\" style=\"background-color:transparent;border-color:#292724;border-style:none;border-width:1.0;fill:rgb(16.1%,15.3%,14.1%);fill-opacity:1.0;font-family:Helvetica;font-size:12px;opacity:1.0;stroke:rgb(16.1%,15.3%,14.1%);stroke-opacity:1.0;stroke-width:1.0\" id=\"tcf1b5d5874bb48a9b218788d3c8d9f09\"><g class=\"toyplot-coordinates-Cartesian\" id=\"tc75017ddb0554744a5a336376fd20c2b\"><clipPath id=\"t1025cb69f58343c695473a913b1cc791\"><rect x=\"35.0\" y=\"35.0\" width=\"230.0\" height=\"205.0\"></rect></clipPath><g clip-path=\"url(#t1025cb69f58343c695473a913b1cc791)\"><g class=\"toytree-mark-Toytree\" id=\"t84d73ecab3d64053a38f0eddd20f6f4d\"><g class=\"toytree-Edges\" style=\"stroke:rgb(14.5%,14.5%,14.5%);stroke-opacity:1.0;stroke-linecap:round;stroke-width:2.0;fill:none\"><path d=\"M 115.6 200.0 L 115.6 215.6 L 212.1 215.6\" id=\"6,0\" style=\"\"></path><path d=\"M 115.6 200.0 L 115.6 184.4 L 212.1 184.4\" id=\"6,1\" style=\"\"></path><path d=\"M 126.4 125.8 L 126.4 153.1 L 212.1 153.1\" id=\"9,2\" style=\"\"></path><path d=\"M 193.5 98.4 L 193.5 121.9 L 212.1 121.9\" id=\"8,3\" style=\"\"></path><path d=\"M 196.8 75.0 L 196.8 90.6 L 212.1 90.6\" id=\"7,4\" style=\"\"></path><path d=\"M 196.8 75.0 L 196.8 59.4 L 212.1 59.4\" id=\"7,5\" style=\"\"></path><path d=\"M 64.4 162.9 L 64.4 200.0 L 115.6 200.0\" id=\"10,6\" style=\"\"></path><path d=\"M 193.5 98.4 L 193.5 75.0 L 196.8 75.0\" id=\"8,7\" style=\"\"></path><path d=\"M 126.4 125.8 L 126.4 98.4 L 193.5 98.4\" id=\"9,8\" style=\"\"></path><path d=\"M 64.4 162.9 L 64.4 125.8 L 126.4 125.8\" id=\"10,9\" style=\"\"></path></g><g class=\"toytree-AdmixEdges\" style=\"fill:rgb(0.0%,0.0%,0.0%);fill-opacity:0.0;stroke:rgb(90.6%,54.1%,76.5%);stroke-opacity:0.6;font-size:14px;stroke-linecap:round;stroke-width:5\"></g><g class=\"toytree-Nodes\" style=\"fill:rgb(40.0%,76.1%,64.7%);fill-opacity:1.0;stroke:rgb(14.9%,14.9%,14.9%);stroke-opacity:1.0;stroke-width:1.5\"><g id=\"Node-6\" transform=\"translate(115.563,200)\"><rect x=\"-18.0\" y=\"-9.0\" width=\"36.0\" height=\"18.0\"></rect></g><g id=\"Node-7\" transform=\"translate(196.846,75)\"><rect x=\"-18.0\" y=\"-9.0\" width=\"36.0\" height=\"18.0\"></rect></g><g id=\"Node-8\" transform=\"translate(193.533,98.4375)\"><rect x=\"-18.0\" y=\"-9.0\" width=\"36.0\" height=\"18.0\"></rect></g><g id=\"Node-9\" transform=\"translate(126.352,125.781)\"><rect x=\"-18.0\" y=\"-9.0\" width=\"36.0\" height=\"18.0\"></rect></g><g id=\"Node-10\" transform=\"translate(64.3999,162.891)\"><rect x=\"-18.0\" y=\"-9.0\" width=\"36.0\" height=\"18.0\"></rect></g></g><g class=\"toytree-NodeLabels\" style=\"font-family:Helvetica;font-size:9px;font-weight:300;vertical-align:baseline;white-space:pre;stroke:none\"><g class=\"toytree-NodeLabel\" transform=\"translate(115.563,200)\"><text x=\"-7.506\" y=\"2.2995\" style=\"fill:rgb(14.5%,14.5%,14.5%);fill-opacity:1.0\">100</text></g><g class=\"toytree-NodeLabel\" transform=\"translate(196.846,75)\"><text x=\"-7.506\" y=\"2.2995\" style=\"fill:rgb(14.5%,14.5%,14.5%);fill-opacity:1.0\">100</text></g><g class=\"toytree-NodeLabel\" transform=\"translate(193.533,98.4375)\"><text x=\"-7.506\" y=\"2.2995\" style=\"fill:rgb(14.5%,14.5%,14.5%);fill-opacity:1.0\">100</text></g><g class=\"toytree-NodeLabel\" transform=\"translate(126.352,125.781)\"><text x=\"-7.506\" y=\"2.2995\" style=\"fill:rgb(14.5%,14.5%,14.5%);fill-opacity:1.0\">100</text></g><g class=\"toytree-NodeLabel\" transform=\"translate(64.3999,162.891)\"><text x=\"-7.506\" y=\"2.2995\" style=\"fill:rgb(14.5%,14.5%,14.5%);fill-opacity:1.0\">nan</text></g></g><g class=\"toytree-TipLabels\" style=\"fill:rgb(14.5%,14.5%,14.5%);fill-opacity:1.0;font-family:Helvetica;font-size:12px;font-weight:300;vertical-align:baseline;white-space:pre;stroke:none\"><g class=\"toytree-TipLabel\" transform=\"translate(212.091,215.625)\"><text x=\"15.0\" y=\"3.066\" style=\"fill:rgb(14.5%,14.5%,14.5%);fill-opacity:1.0\">r0</text></g><g class=\"toytree-TipLabel\" transform=\"translate(212.091,184.375)\"><text x=\"15.0\" y=\"3.066\" style=\"fill:rgb(14.5%,14.5%,14.5%);fill-opacity:1.0\">r1</text></g><g class=\"toytree-TipLabel\" transform=\"translate(212.091,153.125)\"><text x=\"15.0\" y=\"3.066\" style=\"fill:rgb(14.5%,14.5%,14.5%);fill-opacity:1.0\">r2</text></g><g class=\"toytree-TipLabel\" transform=\"translate(212.091,121.875)\"><text x=\"15.0\" y=\"3.066\" style=\"fill:rgb(14.5%,14.5%,14.5%);fill-opacity:1.0\">r3</text></g><g class=\"toytree-TipLabel\" transform=\"translate(212.091,90.625)\"><text x=\"15.0\" y=\"3.066\" style=\"fill:rgb(14.5%,14.5%,14.5%);fill-opacity:1.0\">r4</text></g><g class=\"toytree-TipLabel\" transform=\"translate(212.091,59.375)\"><text x=\"15.0\" y=\"3.066\" style=\"fill:rgb(14.5%,14.5%,14.5%);fill-opacity:1.0\">r5</text></g></g></g></g></g></svg><div class=\"toyplot-behavior\"><script>(function()\n",
       "{\n",
       "var modules={};\n",
       "})();</script></div></div>"
      ]
     },
     "metadata": {},
     "output_type": "display_data"
    }
   ],
   "source": [
    "# show \n",
    "tree = tree.set_node_data(\"support\", default=100)\n",
    "tree[-1].support = np.nan\n",
    "tree.draw(node_labels='support', node_sizes=18, node_markers='r2x1');"
   ]
  },
  {
   "cell_type": "code",
   "execution_count": 224,
   "id": "65f8688b-ceee-47e0-95f6-063a2294a173",
   "metadata": {},
   "outputs": [
    {
     "data": {
      "text/html": [
       "<div class=\"toyplot\" id=\"t9aded22a3a7745b7bd7950f09b6f8f50\" style=\"text-align:center\"><svg class=\"toyplot-canvas-Canvas\" xmlns:toyplot=\"http://www.sandia.gov/toyplot\" xmlns:xlink=\"http://www.w3.org/1999/xlink\" xmlns=\"http://www.w3.org/2000/svg\" width=\"300.0px\" height=\"275.0px\" viewBox=\"0 0 300.0 275.0\" preserveAspectRatio=\"xMidYMid meet\" style=\"background-color:transparent;border-color:#292724;border-style:none;border-width:1.0;fill:rgb(16.1%,15.3%,14.1%);fill-opacity:1.0;font-family:Helvetica;font-size:12px;opacity:1.0;stroke:rgb(16.1%,15.3%,14.1%);stroke-opacity:1.0;stroke-width:1.0\" id=\"t3f061bf302d64ef087a0edf7fcb7226d\"><g class=\"toyplot-coordinates-Cartesian\" id=\"t7c307b64503e4097b48255bf7770e4a3\"><clipPath id=\"tad25278dfc974abd96c441ded4d00f3b\"><rect x=\"35.0\" y=\"35.0\" width=\"230.0\" height=\"205.0\"></rect></clipPath><g clip-path=\"url(#tad25278dfc974abd96c441ded4d00f3b)\"><g class=\"toytree-mark-Toytree\" id=\"t91ca00b97e6c4fdc9f1977fb38440a0c\"><g class=\"toytree-Edges\" style=\"stroke:rgb(14.5%,14.5%,14.5%);stroke-opacity:1.0;stroke-linecap:round;stroke-width:2.0;fill:none\"><path d=\"M 108.8 202.2 L 108.8 218.3 L 210.2 218.3\" id=\"6,0\" style=\"\"></path><path d=\"M 108.8 202.2 L 108.8 186.0 L 210.2 186.0\" id=\"6,1\" style=\"\"></path><path d=\"M 120.1 125.4 L 120.1 153.7 L 210.2 153.7\" id=\"9,2\" style=\"\"></path><path d=\"M 190.7 97.1 L 190.7 121.3 L 210.2 121.3\" id=\"8,3\" style=\"\"></path><path d=\"M 194.2 72.8 L 194.2 89.0 L 210.2 89.0\" id=\"7,4\" style=\"\"></path><path d=\"M 194.2 72.8 L 194.2 56.7 L 210.2 56.7\" id=\"7,5\" style=\"\"></path><path d=\"M 55.0 163.8 L 55.0 202.2 L 108.8 202.2\" id=\"10,6\" style=\"\"></path><path d=\"M 190.7 97.1 L 190.7 72.8 L 194.2 72.8\" id=\"8,7\" style=\"\"></path><path d=\"M 120.1 125.4 L 120.1 97.1 L 190.7 97.1\" id=\"9,8\" style=\"\"></path><path d=\"M 55.0 163.8 L 55.0 125.4 L 120.1 125.4\" id=\"10,9\" style=\"\"></path></g><g class=\"toytree-AdmixEdges\" style=\"fill:rgb(0.0%,0.0%,0.0%);fill-opacity:0.0;stroke:rgb(90.6%,54.1%,76.5%);stroke-opacity:0.6;font-size:14px;stroke-linecap:round;stroke-width:5\"></g><g class=\"toytree-Nodes\" style=\"fill:rgb(40.0%,76.1%,64.7%);fill-opacity:1.0;stroke:rgb(14.9%,14.9%,14.9%);stroke-opacity:1.0;stroke-width:1.5\"></g><g class=\"toytree-TipLabels\" style=\"fill:rgb(14.5%,14.5%,14.5%);fill-opacity:1.0;font-family:Helvetica;font-size:12px;font-weight:300;vertical-align:baseline;white-space:pre;stroke:none\"><g class=\"toytree-TipLabel\" transform=\"translate(210.179,218.347)\"><text x=\"15.0\" y=\"3.066\" style=\"fill:rgb(14.5%,14.5%,14.5%);fill-opacity:1.0\">r0</text></g><g class=\"toytree-TipLabel\" transform=\"translate(210.179,186.008)\"><text x=\"15.0\" y=\"3.066\" style=\"fill:rgb(14.5%,14.5%,14.5%);fill-opacity:1.0\">r1</text></g><g class=\"toytree-TipLabel\" transform=\"translate(210.179,153.669)\"><text x=\"15.0\" y=\"3.066\" style=\"fill:rgb(14.5%,14.5%,14.5%);fill-opacity:1.0\">r2</text></g><g class=\"toytree-TipLabel\" transform=\"translate(210.179,121.331)\"><text x=\"15.0\" y=\"3.066\" style=\"fill:rgb(14.5%,14.5%,14.5%);fill-opacity:1.0\">r3</text></g><g class=\"toytree-TipLabel\" transform=\"translate(210.179,88.9916)\"><text x=\"15.0\" y=\"3.066\" style=\"fill:rgb(14.5%,14.5%,14.5%);fill-opacity:1.0\">r4</text></g><g class=\"toytree-TipLabel\" transform=\"translate(210.179,56.6526)\"><text x=\"15.0\" y=\"3.066\" style=\"fill:rgb(14.5%,14.5%,14.5%);fill-opacity:1.0\">r5</text></g></g></g><g class=\"toytree-Annotation-Markers\" id=\"te8312305f6d648dea53bb9cecbc47f3f\" style=\"fill:rgb(40.0%,76.1%,64.7%);fill-opacity:1.0;stroke:rgb(14.9%,14.9%,14.9%);stroke-opacity:1.0;stroke-width:1.5\"><g id=\"Mark-0\" transform=\"translate(210.179,153.669)\"><rect x=\"-5.0\" y=\"-5.0\" width=\"10\" height=\"10\"></rect></g><g id=\"Mark-1\" transform=\"translate(120.118,125.373)\"><rect x=\"-5.0\" y=\"-5.0\" width=\"10\" height=\"10\"></rect></g><g id=\"Mark-2\" transform=\"translate(55.042,163.775)\"><rect x=\"-5.0\" y=\"-5.0\" width=\"10\" height=\"10\"></rect></g></g></g></g></svg><div class=\"toyplot-behavior\"><script>(function()\n",
       "{\n",
       "var modules={};\n",
       "})();</script></div></div>"
      ]
     },
     "metadata": {},
     "output_type": "display_data"
    }
   ],
   "source": [
    "# ...\n",
    "mask = tree.get_node_mask(2, 9, 10)\n",
    "canvas, axes, mark = tree.draw();\n",
    "tree.annotate.add_node_markers(axes=axes, marker=\"s\", size=10, mask=mask);"
   ]
  }
 ],
 "metadata": {
  "kernelspec": {
   "display_name": "Python 3 (ipykernel)",
   "language": "python",
   "name": "python3"
  },
  "language_info": {
   "codemirror_mode": {
    "name": "ipython",
    "version": 3
   },
   "file_extension": ".py",
   "mimetype": "text/x-python",
   "name": "python",
   "nbconvert_exporter": "python",
   "pygments_lexer": "ipython3",
   "version": "3.10.12"
  }
 },
 "nbformat": 4,
 "nbformat_minor": 5
}
