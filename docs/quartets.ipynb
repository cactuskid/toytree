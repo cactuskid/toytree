{
 "cells": [
  {
   "cell_type": "markdown",
   "metadata": {},
   "source": [
    "# Quartet methods"
   ]
  },
  {
   "cell_type": "markdown",
   "metadata": {},
   "source": [
    "\n",
    "`Toytree` objects can yield quartets, which are 4-sample subtrees that are the minimal information unit in the context of comparative phylogenetics. Being the simplest format of informative unrooted tree, quartets are important for phylogenetic tree reconstruction and are often the main ingredient in optimization algorithms†. The `iter_quartets` method provides a fast option to yield quartet subtrees from a larger tree. It includes options for sorting the output and allows the user to return the subtrees as `Node` objects, names, or any arvitrary feature of Nodes. \n",
    "\n",
    "`Iter_quartets` yields all quartets (4-sample subtrees) that exist within a larger tree. The set of possible quartets is not affected by tree rooting, but is affected by collapsed edges (polytomies), which reduce the number of quartets. Quartets are returned as a tuple with sets representing the relation among samples: tuple( set{} , set{} ), Quartets can also be collapsed using `collapse=True`, which returns an ordered collection of the requested features of Nodes, where e.g. ('a', 'b', 'c', 'd') implies the quartet `ab|cd`. \n",
    "\n",
    "\n",
    "\n",
    "†Alon, Noga, Sagi Snir, and Raphael Yuster. “On the Compatibility of Quartet Trees,” n.d.\n"
   ]
  },
  {
   "cell_type": "markdown",
   "metadata": {},
   "source": [
    "## Quick example"
   ]
  },
  {
   "cell_type": "code",
   "execution_count": 36,
   "metadata": {},
   "outputs": [],
   "source": [
    "import toytree"
   ]
  },
  {
   "cell_type": "code",
   "execution_count": 37,
   "metadata": {},
   "outputs": [
    {
     "name": "stdout",
     "output_type": "stream",
     "text": [
      "({'c', 'd'}, {'a', 'e'})\n",
      "({'c', 'd'}, {'b', 'e'})\n",
      "({'c', 'd'}, {'e', 'f'})\n",
      "({'c', 'd'}, {'b', 'a'})\n",
      "({'c', 'd'}, {'a', 'f'})\n",
      "({'c', 'd'}, {'b', 'f'})\n",
      "({'e', 'f'}, {'a', 'd'})\n",
      "({'e', 'f'}, {'b', 'a'})\n",
      "({'e', 'f'}, {'a', 'c'})\n",
      "({'e', 'f'}, {'b', 'd'})\n",
      "({'e', 'f'}, {'b', 'c'})\n",
      "({'c', 'e'}, {'b', 'a'})\n",
      "({'c', 'f'}, {'b', 'a'})\n",
      "({'e', 'd'}, {'b', 'a'})\n",
      "({'f', 'd'}, {'b', 'a'})\n"
     ]
    },
    {
     "data": {
      "text/html": [
       "<div class=\"toyplot\" id=\"t95222419d7db4e6a95592074621addfd\" style=\"text-align:center\"><svg class=\"toyplot-canvas-Canvas\" xmlns:toyplot=\"http://www.sandia.gov/toyplot\" xmlns:xlink=\"http://www.w3.org/1999/xlink\" xmlns=\"http://www.w3.org/2000/svg\" width=\"300.0px\" height=\"275.0px\" viewBox=\"0 0 300.0 275.0\" preserveAspectRatio=\"xMidYMid meet\" style=\"background-color:transparent;border-color:#292724;border-style:none;border-width:1.0;fill:rgb(16.1%,15.3%,14.1%);fill-opacity:1.0;font-family:Helvetica;font-size:12px;opacity:1.0;stroke:rgb(16.1%,15.3%,14.1%);stroke-opacity:1.0;stroke-width:1.0\" id=\"t8bb0550c004d46e3a6d2eef3c0aaf2c8\"><g class=\"toyplot-coordinates-Cartesian\" id=\"t57f192ed69924b028690836545f6ec97\"><clipPath id=\"t1d6306a87b7f4095abedb9d6d050ce5c\"><rect x=\"35.0\" y=\"35.0\" width=\"230.0\" height=\"205.0\"></rect></clipPath><g clip-path=\"url(#t1d6306a87b7f4095abedb9d6d050ce5c)\"><g class=\"toytree-mark-Toytree\" id=\"t5cb2b0609ed94e40826a9dac7748e97e\"><g class=\"toytree-Edges\" style=\"stroke:rgb(14.5%,14.5%,14.5%);stroke-opacity:1.0;stroke-linecap:round;stroke-width:2.0;fill:none\"><path d=\"M 50.8 169.8 L 50.8 218.3 L 105.4 218.3\" id=\"9,0\" style=\"\"></path><path d=\"M 50.8 169.8 L 50.8 186.0 L 105.4 186.0\" id=\"9,1\" style=\"\"></path><path d=\"M 160.0 137.5 L 160.0 153.7 L 214.5 153.7\" id=\"6,2\" style=\"\"></path><path d=\"M 160.0 137.5 L 160.0 121.3 L 214.5 121.3\" id=\"6,3\" style=\"\"></path><path d=\"M 160.0 72.8 L 160.0 89.0 L 214.5 89.0\" id=\"7,4\" style=\"\"></path><path d=\"M 160.0 72.8 L 160.0 56.7 L 214.5 56.7\" id=\"7,5\" style=\"\"></path><path d=\"M 105.4 105.2 L 105.4 137.5 L 160.0 137.5\" id=\"8,6\" style=\"\"></path><path d=\"M 105.4 105.2 L 105.4 72.8 L 160.0 72.8\" id=\"8,7\" style=\"\"></path><path d=\"M 50.8 169.8 L 50.8 105.2 L 105.4 105.2\" id=\"9,8\" style=\"\"></path></g><g class=\"toytree-AdmixEdges\" style=\"fill:rgb(0.0%,0.0%,0.0%);fill-opacity:0.0;stroke:rgb(90.6%,54.1%,76.5%);stroke-opacity:0.6;font-size:14px;stroke-linecap:round;stroke-width:5\"></g><g class=\"toytree-Nodes\" style=\"fill:rgb(40.0%,76.1%,64.7%);fill-opacity:1.0;stroke:rgb(14.9%,14.9%,14.9%);stroke-opacity:1.0;stroke-width:1.5\"></g><g class=\"toytree-TipLabels\" style=\"fill:rgb(14.5%,14.5%,14.5%);fill-opacity:1.0;font-family:Helvetica;font-size:12px;font-weight:300;vertical-align:baseline;white-space:pre;stroke:none\"><g class=\"toytree-TipLabel\" transform=\"translate(105.386,218.347)\"><text x=\"15.0\" y=\"3.066\" style=\"fill:rgb(14.5%,14.5%,14.5%);fill-opacity:1.0\">a</text></g><g class=\"toytree-TipLabel\" transform=\"translate(105.386,186.008)\"><text x=\"15.0\" y=\"3.066\" style=\"fill:rgb(14.5%,14.5%,14.5%);fill-opacity:1.0\">b</text></g><g class=\"toytree-TipLabel\" transform=\"translate(214.522,153.669)\"><text x=\"15.0\" y=\"3.066\" style=\"fill:rgb(14.5%,14.5%,14.5%);fill-opacity:1.0\">c</text></g><g class=\"toytree-TipLabel\" transform=\"translate(214.522,121.331)\"><text x=\"15.0\" y=\"3.066\" style=\"fill:rgb(14.5%,14.5%,14.5%);fill-opacity:1.0\">d</text></g><g class=\"toytree-TipLabel\" transform=\"translate(214.522,88.9916)\"><text x=\"15.0\" y=\"3.066\" style=\"fill:rgb(14.5%,14.5%,14.5%);fill-opacity:1.0\">e</text></g><g class=\"toytree-TipLabel\" transform=\"translate(214.522,56.6526)\"><text x=\"15.0\" y=\"3.066\" style=\"fill:rgb(14.5%,14.5%,14.5%);fill-opacity:1.0\">f</text></g></g></g></g></g></svg><div class=\"toyplot-behavior\"><script>(function()\n",
       "{\n",
       "var modules={};\n",
       "})();</script></div></div>"
      ]
     },
     "metadata": {},
     "output_type": "display_data"
    }
   ],
   "source": [
    "#build tree from simple newick string and visualize it\n",
    "tree = toytree.tree(\"(a,b,((c,d)CD,(e,f)EF)X)AB;\") \n",
    "tree.draw()\n",
    "#iteratively return all quartets in phylogenetic tree\n",
    "for quartet in tree.iter_quartets(): \n",
    "    print(quartet)"
   ]
  },
  {
   "cell_type": "code",
   "execution_count": 38,
   "metadata": {},
   "outputs": [
    {
     "name": "stdout",
     "output_type": "stream",
     "text": [
      "({2, 3}, {0, 4})\n",
      "({2, 3}, {1, 4})\n",
      "({2, 3}, {4, 5})\n",
      "({2, 3}, {0, 1})\n",
      "({2, 3}, {0, 5})\n",
      "({2, 3}, {1, 5})\n",
      "({4, 5}, {0, 3})\n",
      "({4, 5}, {0, 1})\n",
      "({4, 5}, {0, 2})\n",
      "({4, 5}, {1, 3})\n",
      "({4, 5}, {1, 2})\n",
      "({2, 4}, {0, 1})\n",
      "({2, 5}, {0, 1})\n",
      "({3, 4}, {0, 1})\n",
      "({3, 5}, {0, 1})\n"
     ]
    }
   ],
   "source": [
    "tree = toytree.tree(\"(a,b,((c,d)CD,(e,f)EF)X)AB;\")\n",
    "#return quartets with nodes being represented by their indices\n",
    "for quartet in tree.iter_quartets(feature = 'idx'):\n",
    "    print(quartet)"
   ]
  },
  {
   "cell_type": "code",
   "execution_count": 39,
   "metadata": {},
   "outputs": [
    {
     "name": "stderr",
     "output_type": "stream",
     "text": [
      "⚠️ toytree | quartets:iter_quartets | collapse argument cannot be used with type=set, using collapse=False\n"
     ]
    },
    {
     "name": "stdout",
     "output_type": "stream",
     "text": [
      "({'c', 'd'}, {'a', 'e'})\n",
      "({'c', 'd'}, {'b', 'e'})\n",
      "({'c', 'd'}, {'e', 'f'})\n",
      "({'c', 'd'}, {'b', 'a'})\n",
      "({'c', 'd'}, {'a', 'f'})\n",
      "({'c', 'd'}, {'b', 'f'})\n",
      "({'e', 'f'}, {'a', 'd'})\n",
      "({'e', 'f'}, {'b', 'a'})\n",
      "({'e', 'f'}, {'a', 'c'})\n",
      "({'e', 'f'}, {'b', 'd'})\n",
      "({'e', 'f'}, {'b', 'c'})\n",
      "({'c', 'e'}, {'b', 'a'})\n",
      "({'c', 'f'}, {'b', 'a'})\n",
      "({'e', 'd'}, {'b', 'a'})\n",
      "({'f', 'd'}, {'b', 'a'})\n"
     ]
    }
   ],
   "source": [
    "tree = toytree.tree(\"(a,b,((c,d)CD,(e,f)EF)X)AB;\")\n",
    "#(attempt to) collapse the returned quartets\n",
    "for quartet in tree.iter_quartets(collapse=True):\n",
    "    print(quartet)"
   ]
  },
  {
   "cell_type": "markdown",
   "metadata": {},
   "source": [
    "Note: Since sets are unordered, collapse cannot be used if the quartets are returned as sets (default `type=set`) because the relationship information is lost."
   ]
  },
  {
   "cell_type": "code",
   "execution_count": 40,
   "metadata": {},
   "outputs": [
    {
     "name": "stdout",
     "output_type": "stream",
     "text": [
      "('c', 'd', 'a', 'e')\n",
      "('c', 'd', 'b', 'e')\n",
      "('c', 'd', 'e', 'f')\n",
      "('c', 'd', 'a', 'b')\n",
      "('c', 'd', 'a', 'f')\n",
      "('c', 'd', 'b', 'f')\n",
      "('e', 'f', 'a', 'd')\n",
      "('e', 'f', 'a', 'b')\n",
      "('e', 'f', 'a', 'c')\n",
      "('e', 'f', 'b', 'd')\n",
      "('e', 'f', 'b', 'c')\n",
      "('c', 'e', 'a', 'b')\n",
      "('c', 'f', 'a', 'b')\n",
      "('d', 'e', 'a', 'b')\n",
      "('d', 'f', 'a', 'b')\n"
     ]
    }
   ],
   "source": [
    "tree = toytree.tree(\"(a,b,((c,d)CD,(e,f)EF)X)AB;\")\n",
    "#collapse the returned quartets to return each as single tuple (order determines split)\n",
    "for quartet in tree.iter_quartets(type=tuple, collapse=True):\n",
    "    print(quartet)\n",
    "\n",
    "#(c,d|a,d)\n",
    "#(c,d|b,e)\n",
    "# etc."
   ]
  },
  {
   "cell_type": "markdown",
   "metadata": {},
   "source": [
    "## Sorting  \n",
    "\n",
    "The order of the items within each partition of the quartet is not often of interest, but a sort option is included in case it is useful. The order in which the nodes and pairs of a quartet are returned depends on the topology and rooting, and is in `Node idx` traversal order, where the first two Nodes are below the edge, and the second two above. This can be changed to a consistent name sorted order for each split partition using `sort=True`. If `sort=True`, partitions are always sorted alphanumerically within and between partitions (the order in which the quartets themselves are yielded remains the same)"
   ]
  },
  {
   "cell_type": "code",
   "execution_count": 41,
   "metadata": {},
   "outputs": [
    {
     "name": "stdout",
     "output_type": "stream",
     "text": [
      "(('a', 'e'), ('c', 'd'))\n",
      "(('b', 'e'), ('c', 'd'))\n",
      "(('c', 'd'), ('e', 'f'))\n",
      "(('a', 'b'), ('c', 'd'))\n",
      "(('a', 'f'), ('c', 'd'))\n",
      "(('b', 'f'), ('c', 'd'))\n",
      "(('a', 'd'), ('e', 'f'))\n",
      "(('a', 'b'), ('e', 'f'))\n",
      "(('a', 'c'), ('e', 'f'))\n",
      "(('b', 'd'), ('e', 'f'))\n",
      "(('b', 'c'), ('e', 'f'))\n",
      "(('a', 'b'), ('c', 'e'))\n",
      "(('a', 'b'), ('c', 'f'))\n",
      "(('a', 'b'), ('d', 'e'))\n",
      "(('a', 'b'), ('d', 'f'))\n"
     ]
    }
   ],
   "source": [
    "tree = toytree.tree(\"(a,b,((c,d)CD,(e,f)EF)X)AB;\")\n",
    "#return quartets iteratively as sorted tuples (sorts both within and between)\n",
    "for quartet in tree.iter_quartets(type=tuple, sort=True):\n",
    "    print(quartet)"
   ]
  },
  {
   "cell_type": "markdown",
   "metadata": {},
   "source": [
    "## Quadripartite filter  \n",
    "\n",
    "If `quadripatition=True`, then quartets are only returned that are induced by quadripartitite splits in a the tree. This is a subset of the vquartets induced by bipartitions, since the tip Nodes must comefrom four different clades from each edge/split."
   ]
  },
  {
   "cell_type": "code",
   "execution_count": 42,
   "metadata": {},
   "outputs": [
    {
     "name": "stdout",
     "output_type": "stream",
     "text": [
      "[(['a', 'e'], ['c', 'd']), (['b', 'e'], ['c', 'd']), (['c', 'd'], ['e', 'f']), (['a', 'b'], ['c', 'd']), (['a', 'f'], ['c', 'd']), (['b', 'f'], ['c', 'd']), (['a', 'd'], ['e', 'f']), (['a', 'b'], ['e', 'f']), (['a', 'c'], ['e', 'f']), (['b', 'd'], ['e', 'f']), (['b', 'c'], ['e', 'f']), (['a', 'b'], ['c', 'e']), (['a', 'b'], ['c', 'f']), (['a', 'b'], ['d', 'e']), (['a', 'b'], ['d', 'f'])]\n",
      "\n",
      "[(['a', 'e'], ['c', 'd']), (['b', 'e'], ['c', 'd']), (['a', 'f'], ['c', 'd']), (['b', 'f'], ['c', 'd']), (['a', 'd'], ['e', 'f']), (['b', 'd'], ['e', 'f']), (['a', 'c'], ['e', 'f']), (['b', 'c'], ['e', 'f']), (['a', 'b'], ['d', 'e']), (['a', 'b'], ['d', 'f']), (['a', 'b'], ['c', 'e']), (['a', 'b'], ['c', 'f'])]\n"
     ]
    },
    {
     "data": {
      "text/html": [
       "<div class=\"toyplot\" id=\"t54e0a0357b0d4db0b3d589710aa77dc1\" style=\"text-align:center\"><svg class=\"toyplot-canvas-Canvas\" xmlns:toyplot=\"http://www.sandia.gov/toyplot\" xmlns:xlink=\"http://www.w3.org/1999/xlink\" xmlns=\"http://www.w3.org/2000/svg\" width=\"300.0px\" height=\"275.0px\" viewBox=\"0 0 300.0 275.0\" preserveAspectRatio=\"xMidYMid meet\" style=\"background-color:transparent;border-color:#292724;border-style:none;border-width:1.0;fill:rgb(16.1%,15.3%,14.1%);fill-opacity:1.0;font-family:Helvetica;font-size:12px;opacity:1.0;stroke:rgb(16.1%,15.3%,14.1%);stroke-opacity:1.0;stroke-width:1.0\" id=\"td3c3bd9b6d0342cb9a25a779a7534d67\"><g class=\"toyplot-coordinates-Cartesian\" id=\"t9fae53b5f1664cf98aed5571937030e0\"><clipPath id=\"t649de5e8f0fd4eb6bf0f991fae36c496\"><rect x=\"35.0\" y=\"35.0\" width=\"230.0\" height=\"205.0\"></rect></clipPath><g clip-path=\"url(#t649de5e8f0fd4eb6bf0f991fae36c496)\"><g class=\"toytree-mark-Toytree\" id=\"t70f14c82730a4f17b0231e9d305ddbae\"><g class=\"toytree-Edges\" style=\"stroke:rgb(14.5%,14.5%,14.5%);stroke-opacity:1.0;stroke-linecap:round;stroke-width:2.0;fill:none\"><path d=\"M 50.8 169.8 L 50.8 218.3 L 105.4 218.3\" id=\"9,0\" style=\"\"></path><path d=\"M 50.8 169.8 L 50.8 186.0 L 105.4 186.0\" id=\"9,1\" style=\"\"></path><path d=\"M 160.0 137.5 L 160.0 153.7 L 214.5 153.7\" id=\"6,2\" style=\"\"></path><path d=\"M 160.0 137.5 L 160.0 121.3 L 214.5 121.3\" id=\"6,3\" style=\"\"></path><path d=\"M 160.0 72.8 L 160.0 89.0 L 214.5 89.0\" id=\"7,4\" style=\"\"></path><path d=\"M 160.0 72.8 L 160.0 56.7 L 214.5 56.7\" id=\"7,5\" style=\"\"></path><path d=\"M 105.4 105.2 L 105.4 137.5 L 160.0 137.5\" id=\"8,6\" style=\"\"></path><path d=\"M 105.4 105.2 L 105.4 72.8 L 160.0 72.8\" id=\"8,7\" style=\"\"></path><path d=\"M 50.8 169.8 L 50.8 105.2 L 105.4 105.2\" id=\"9,8\" style=\"\"></path></g><g class=\"toytree-AdmixEdges\" style=\"fill:rgb(0.0%,0.0%,0.0%);fill-opacity:0.0;stroke:rgb(90.6%,54.1%,76.5%);stroke-opacity:0.6;font-size:14px;stroke-linecap:round;stroke-width:5\"></g><g class=\"toytree-Nodes\" style=\"fill:rgb(40.0%,76.1%,64.7%);fill-opacity:1.0;stroke:rgb(14.9%,14.9%,14.9%);stroke-opacity:1.0;stroke-width:1.5\"></g><g class=\"toytree-TipLabels\" style=\"fill:rgb(14.5%,14.5%,14.5%);fill-opacity:1.0;font-family:Helvetica;font-size:12px;font-weight:300;vertical-align:baseline;white-space:pre;stroke:none\"><g class=\"toytree-TipLabel\" transform=\"translate(105.386,218.347)\"><text x=\"15.0\" y=\"3.066\" style=\"fill:rgb(14.5%,14.5%,14.5%);fill-opacity:1.0\">a</text></g><g class=\"toytree-TipLabel\" transform=\"translate(105.386,186.008)\"><text x=\"15.0\" y=\"3.066\" style=\"fill:rgb(14.5%,14.5%,14.5%);fill-opacity:1.0\">b</text></g><g class=\"toytree-TipLabel\" transform=\"translate(214.522,153.669)\"><text x=\"15.0\" y=\"3.066\" style=\"fill:rgb(14.5%,14.5%,14.5%);fill-opacity:1.0\">c</text></g><g class=\"toytree-TipLabel\" transform=\"translate(214.522,121.331)\"><text x=\"15.0\" y=\"3.066\" style=\"fill:rgb(14.5%,14.5%,14.5%);fill-opacity:1.0\">d</text></g><g class=\"toytree-TipLabel\" transform=\"translate(214.522,88.9916)\"><text x=\"15.0\" y=\"3.066\" style=\"fill:rgb(14.5%,14.5%,14.5%);fill-opacity:1.0\">e</text></g><g class=\"toytree-TipLabel\" transform=\"translate(214.522,56.6526)\"><text x=\"15.0\" y=\"3.066\" style=\"fill:rgb(14.5%,14.5%,14.5%);fill-opacity:1.0\">f</text></g></g></g></g></g></svg><div class=\"toyplot-behavior\"><script>(function()\n",
       "{\n",
       "var modules={};\n",
       "})();</script></div></div>"
      ]
     },
     "metadata": {},
     "output_type": "display_data"
    }
   ],
   "source": [
    "tree = toytree.tree(\"(a,b,((c,d)CD,(e,f)EF)X)AB;\")\n",
    "tree.draw()\n",
    "#create a full, sorted list of quartets\n",
    "no_filter = list(tree.iter_quartets(type=list, sort=True))\n",
    "\n",
    "#and a sorted list of only quartets induced by quadripartite splits\n",
    "filter = list(tree.iter_quartets(type=list, sort=True, quadripartitions=True))\n",
    "\n",
    "print(no_filter)\n",
    "print(\"\")\n",
    "print(filter)"
   ]
  }
 ],
 "metadata": {
  "kernelspec": {
   "display_name": "toytree_practice",
   "language": "python",
   "name": "toytree_practice"
  },
  "language_info": {
   "codemirror_mode": {
    "name": "ipython",
    "version": 3
   },
   "file_extension": ".py",
   "mimetype": "text/x-python",
   "name": "python",
   "nbconvert_exporter": "python",
   "pygments_lexer": "ipython3",
   "version": "3.12.4"
  }
 },
 "nbformat": 4,
 "nbformat_minor": 2
}
