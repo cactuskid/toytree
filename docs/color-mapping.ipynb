{
 "cells": [
  {
   "cell_type": "markdown",
   "id": "3c736429-cf47-4db5-acab-4ba51dd78375",
   "metadata": {},
   "source": [
    "# Color-mapping\n",
    "Color mapping is a convenient method and syntax that allows for transforming/projecting raw data values into a range of valid color values drawn either from a discrete or continuous colormap. This is especially useful for visualizing a range of data values on the edges or nodes of a tree. (See [Range-Mapping](/range-mapping/) for a similar implementation to project continuous data to a new continuous range of values.)"
   ]
  },
  {
   "cell_type": "code",
   "execution_count": 1,
   "id": "088ca992-8ab3-450c-a965-3638cfd14703",
   "metadata": {},
   "outputs": [],
   "source": [
    "import toytree\n",
    "import toyplot\n",
    "import numpy as np"
   ]
  },
  {
   "cell_type": "markdown",
   "id": "b1c46103-29ed-4ac4-a993-d4e92bc8bbc3",
   "metadata": {},
   "source": [
    "## Quick Example\n",
    "In this example we will project Node \"height\" data from a tree into a range of colors. Color mapping can be applied to any continuous or discrete data feature. This is done using the function `toytree.style.get_color_mapped_feature`, given a feature name and the name of a colormap. Below this function is used to return an array of mapped color values. This array could be passed as a node_color argument to the draw function, or, as demonstrated below, you can use the shortcut syntax by simply entering `(feature-name, colormap-name)` as a tuple into the specific field."
   ]
  },
  {
   "cell_type": "code",
   "execution_count": 2,
   "id": "d118582a-1b57-4794-a611-5669b75466a6",
   "metadata": {},
   "outputs": [],
   "source": [
    "# example tree\n",
    "tree = toytree.rtree.bdtree(10, seed=123)"
   ]
  },
  {
   "cell_type": "code",
   "execution_count": 3,
   "id": "c1270541-9baa-405a-ac82-c7059581f2a7",
   "metadata": {},
   "outputs": [
    {
     "data": {
      "text/html": [
       "<div class=\"toyplot-color-Swatches\" style=\"overflow:hidden; height:auto\"><div style=\"float:left;width:20px;height:20px;margin-right:5px;background-color:rgba(36.9%,31.0%,63.5%,1.000)\"></div><div style=\"float:left;width:20px;height:20px;margin-right:5px;background-color:rgba(36.9%,31.0%,63.5%,1.000)\"></div><div style=\"float:left;width:20px;height:20px;margin-right:5px;background-color:rgba(36.9%,31.0%,63.5%,1.000)\"></div><div style=\"float:left;width:20px;height:20px;margin-right:5px;background-color:rgba(36.9%,31.0%,63.5%,1.000)\"></div><div style=\"float:left;width:20px;height:20px;margin-right:5px;background-color:rgba(36.9%,31.0%,63.5%,1.000)\"></div><div style=\"float:left;width:20px;height:20px;margin-right:5px;background-color:rgba(36.9%,31.0%,63.5%,1.000)\"></div><div style=\"float:left;width:20px;height:20px;margin-right:5px;background-color:rgba(36.9%,31.0%,63.5%,1.000)\"></div><div style=\"float:left;width:20px;height:20px;margin-right:5px;background-color:rgba(36.9%,31.0%,63.5%,1.000)\"></div><div style=\"float:left;width:20px;height:20px;margin-right:5px;background-color:rgba(36.9%,31.0%,63.5%,1.000)\"></div><div style=\"float:left;width:20px;height:20px;margin-right:5px;background-color:rgba(36.9%,31.0%,63.5%,1.000)\"></div><div style=\"float:left;width:20px;height:20px;margin-right:5px;background-color:rgba(32.1%,37.2%,66.5%,1.000)\"></div><div style=\"float:left;width:20px;height:20px;margin-right:5px;background-color:rgba(98.3%,61.9%,35.1%,1.000)\"></div><div style=\"float:left;width:20px;height:20px;margin-right:5px;background-color:rgba(22.9%,49.1%,72.1%,1.000)\"></div><div style=\"float:left;width:20px;height:20px;margin-right:5px;background-color:rgba(33.5%,35.3%,65.6%,1.000)\"></div><div style=\"float:left;width:20px;height:20px;margin-right:5px;background-color:rgba(41.7%,76.7%,64.7%,1.000)\"></div><div style=\"float:left;width:20px;height:20px;margin-right:5px;background-color:rgba(63.8%,85.4%,64.4%,1.000)\"></div><div style=\"float:left;width:20px;height:20px;margin-right:5px;background-color:rgba(68.4%,87.2%,64.0%,1.000)\"></div><div style=\"float:left;width:20px;height:20px;margin-right:5px;background-color:rgba(99.3%,74.7%,43.5%,1.000)\"></div><div style=\"float:left;width:20px;height:20px;margin-right:5px;background-color:rgba(62.0%,0.4%,25.9%,1.000)\"></div></div>"
      ],
      "text/plain": [
       "array([(0.36862745, 0.30980392, 0.63529412, 1.),\n",
       "       (0.36862745, 0.30980392, 0.63529412, 1.),\n",
       "       (0.36862745, 0.30980392, 0.63529412, 1.),\n",
       "       (0.36862745, 0.30980392, 0.63529412, 1.),\n",
       "       (0.36862745, 0.30980392, 0.63529412, 1.),\n",
       "       (0.36862745, 0.30980392, 0.63529412, 1.),\n",
       "       (0.36862745, 0.30980392, 0.63529412, 1.),\n",
       "       (0.36862745, 0.30980392, 0.63529412, 1.),\n",
       "       (0.36862745, 0.30980392, 0.63529412, 1.),\n",
       "       (0.36862745, 0.30980392, 0.63529412, 1.),\n",
       "       (0.32070105, 0.3718904 , 0.6647035 , 1.),\n",
       "       (0.98332989, 0.61860256, 0.35096891, 1.),\n",
       "       (0.22882448, 0.49091232, 0.7210823 , 1.),\n",
       "       (0.33523151, 0.35306685, 0.65578708, 1.),\n",
       "       (0.41674459, 0.76733655, 0.64681615, 1.),\n",
       "       (0.63845325, 0.85409211, 0.64360298, 1.),\n",
       "       (0.68431234, 0.87224935, 0.64034591, 1.),\n",
       "       (0.99345034, 0.74702699, 0.43471836, 1.),\n",
       "       (0.61960784, 0.00392157, 0.25882353, 1.)],\n",
       "      dtype=[('r', '<f8'), ('g', '<f8'), ('b', '<f8'), ('a', '<f8')])"
      ]
     },
     "execution_count": 3,
     "metadata": {},
     "output_type": "execute_result"
    }
   ],
   "source": [
    "# example: project a data feature to an array of colors \n",
    "toytree.style.get_color_mapped_feature(tree, \"height\", \"Spectral\")"
   ]
  },
  {
   "cell_type": "code",
   "execution_count": 4,
   "id": "bf20781a-de0f-42c9-94c5-cb7392d65d2c",
   "metadata": {},
   "outputs": [
    {
     "data": {
      "text/html": [
       "<div class=\"toyplot\" id=\"t90a92dc9a6224552ae74712dc80e95ba\" style=\"text-align:center\"><svg class=\"toyplot-canvas-Canvas\" xmlns:toyplot=\"http://www.sandia.gov/toyplot\" xmlns:xlink=\"http://www.w3.org/1999/xlink\" xmlns=\"http://www.w3.org/2000/svg\" width=\"300.0px\" height=\"275.0px\" viewBox=\"0 0 300.0 275.0\" preserveAspectRatio=\"xMidYMid meet\" style=\"background-color:transparent;border-color:#292724;border-style:none;border-width:1.0;fill:rgb(16.1%,15.3%,14.1%);fill-opacity:1.0;font-family:Helvetica;font-size:12px;opacity:1.0;stroke:rgb(16.1%,15.3%,14.1%);stroke-opacity:1.0;stroke-width:1.0\" id=\"t9d1c720bb4054cb5ad2306c7243da599\"><g class=\"toyplot-coordinates-Cartesian\" id=\"tb6091a41717048418954a94844061525\"><clipPath id=\"t7f8c9b4efe6940e6979a69d1c9fd64c0\"><rect x=\"35.0\" y=\"35.0\" width=\"230.0\" height=\"205.0\"></rect></clipPath><g clip-path=\"url(#t7f8c9b4efe6940e6979a69d1c9fd64c0)\"><g class=\"toytree-mark-Toytree\" id=\"td6c945167f1349c8a51e9ce5c069f1e0\"><g class=\"toytree-Edges\" style=\"stroke:rgb(14.5%,14.5%,14.5%);stroke-opacity:1.0;stroke-linecap:round;stroke-width:2.0;fill:none\"><path d=\"M 97.7 204.9 L 97.7 218.3 L 210.2 218.3\" id=\"11,0\" style=\"\"></path><path d=\"M 205.9 191.4 L 205.9 200.4 L 210.2 200.4\" id=\"10,1\" style=\"\"></path><path d=\"M 205.9 191.4 L 205.9 182.4 L 210.2 182.4\" id=\"10,2\" style=\"\"></path><path d=\"M 197.6 155.5 L 197.6 164.4 L 210.2 164.4\" id=\"12,3\" style=\"\"></path><path d=\"M 197.6 155.5 L 197.6 146.5 L 210.2 146.5\" id=\"12,4\" style=\"\"></path><path d=\"M 207.2 119.5 L 207.2 128.5 L 210.2 128.5\" id=\"13,5\" style=\"\"></path><path d=\"M 207.2 119.5 L 207.2 110.6 L 210.2 110.6\" id=\"13,6\" style=\"\"></path><path d=\"M 162.7 79.1 L 162.7 92.6 L 210.2 92.6\" id=\"16,7\" style=\"\"></path><path d=\"M 165.5 65.6 L 165.5 74.6 L 210.2 74.6\" id=\"15,8\" style=\"\"></path><path d=\"M 165.5 65.6 L 165.5 56.7 L 210.2 56.7\" id=\"15,9\" style=\"\"></path><path d=\"M 97.7 204.9 L 97.7 191.4 L 205.9 191.4\" id=\"11,10\" style=\"\"></path><path d=\"M 55.0 156.6 L 55.0 204.9 L 97.7 204.9\" id=\"18,11\" style=\"\"></path><path d=\"M 178.2 137.5 L 178.2 155.5 L 197.6 155.5\" id=\"14,12\" style=\"\"></path><path d=\"M 178.2 137.5 L 178.2 119.5 L 207.2 119.5\" id=\"14,13\" style=\"\"></path><path d=\"M 106.7 108.3 L 106.7 137.5 L 178.2 137.5\" id=\"17,14\" style=\"\"></path><path d=\"M 162.7 79.1 L 162.7 65.6 L 165.5 65.6\" id=\"16,15\" style=\"\"></path><path d=\"M 106.7 108.3 L 106.7 79.1 L 162.7 79.1\" id=\"17,16\" style=\"\"></path><path d=\"M 55.0 156.6 L 55.0 108.3 L 106.7 108.3\" id=\"18,17\" style=\"\"></path></g><g class=\"toytree-AdmixEdges\" style=\"fill:rgb(0.0%,0.0%,0.0%);fill-opacity:0.0;stroke:rgb(90.6%,54.1%,76.5%);stroke-opacity:0.6;font-size:14px;stroke-linecap:round;stroke-width:5\"></g><g class=\"toytree-Nodes\" style=\"fill:rgb(40.0%,76.1%,64.7%);fill-opacity:1.0;stroke:rgb(14.9%,14.9%,14.9%);stroke-opacity:1.0;stroke-width:1.5\"><g id=\"Node-0\" style=\"fill:rgb(36.9%,31.0%,63.5%)\" transform=\"translate(210.179,218.347)\"><circle r=\"5.0\"></circle></g><g id=\"Node-1\" style=\"fill:rgb(36.9%,31.0%,63.5%)\" transform=\"translate(210.179,200.381)\"><circle r=\"5.0\"></circle></g><g id=\"Node-2\" style=\"fill:rgb(36.9%,31.0%,63.5%)\" transform=\"translate(210.179,182.415)\"><circle r=\"5.0\"></circle></g><g id=\"Node-3\" style=\"fill:rgb(36.9%,31.0%,63.5%)\" transform=\"translate(210.179,164.449)\"><circle r=\"5.0\"></circle></g><g id=\"Node-4\" style=\"fill:rgb(36.9%,31.0%,63.5%)\" transform=\"translate(210.179,146.483)\"><circle r=\"5.0\"></circle></g><g id=\"Node-5\" style=\"fill:rgb(36.9%,31.0%,63.5%)\" transform=\"translate(210.179,128.517)\"><circle r=\"5.0\"></circle></g><g id=\"Node-6\" style=\"fill:rgb(36.9%,31.0%,63.5%)\" transform=\"translate(210.179,110.551)\"><circle r=\"5.0\"></circle></g><g id=\"Node-7\" style=\"fill:rgb(36.9%,31.0%,63.5%)\" transform=\"translate(210.179,92.5848)\"><circle r=\"5.0\"></circle></g><g id=\"Node-8\" style=\"fill:rgb(36.9%,31.0%,63.5%)\" transform=\"translate(210.179,74.6187)\"><circle r=\"5.0\"></circle></g><g id=\"Node-9\" style=\"fill:rgb(36.9%,31.0%,63.5%)\" transform=\"translate(210.179,56.6526)\"><circle r=\"5.0\"></circle></g><g id=\"Node-10\" style=\"fill:rgb(32.1%,37.2%,66.5%)\" transform=\"translate(205.87,191.398)\"><circle r=\"5.0\"></circle></g><g id=\"Node-11\" style=\"fill:rgb(98.3%,61.9%,35.1%)\" transform=\"translate(97.7032,204.873)\"><circle r=\"5.0\"></circle></g><g id=\"Node-12\" style=\"fill:rgb(22.9%,49.1%,72.1%)\" transform=\"translate(197.61,155.466)\"><circle r=\"5.0\"></circle></g><g id=\"Node-13\" style=\"fill:rgb(33.5%,35.3%,65.6%)\" transform=\"translate(207.177,119.534)\"><circle r=\"5.0\"></circle></g><g id=\"Node-14\" style=\"fill:rgb(41.7%,76.7%,64.7%)\" transform=\"translate(178.192,137.5)\"><circle r=\"5.0\"></circle></g><g id=\"Node-15\" style=\"fill:rgb(63.8%,85.4%,64.4%)\" transform=\"translate(165.481,65.6356)\"><circle r=\"5.0\"></circle></g><g id=\"Node-16\" style=\"fill:rgb(68.4%,87.2%,64.0%)\" transform=\"translate(162.718,79.1102)\"><circle r=\"5.0\"></circle></g><g id=\"Node-17\" style=\"fill:rgb(99.3%,74.7%,43.5%)\" transform=\"translate(106.7,108.305)\"><circle r=\"5.0\"></circle></g><g id=\"Node-18\" style=\"fill:rgb(62.0%,0.4%,25.9%)\" transform=\"translate(55.042,156.589)\"><circle r=\"5.0\"></circle></g></g><g class=\"toytree-TipLabels\" style=\"fill:rgb(14.5%,14.5%,14.5%);fill-opacity:1.0;font-family:Helvetica;font-size:12px;font-weight:300;vertical-align:baseline;white-space:pre;stroke:none\"><g class=\"toytree-TipLabel\" transform=\"translate(210.179,218.347)\"><text x=\"15.0\" y=\"3.066\" style=\"fill:rgb(14.5%,14.5%,14.5%);fill-opacity:1.0\">r0</text></g><g class=\"toytree-TipLabel\" transform=\"translate(210.179,200.381)\"><text x=\"15.0\" y=\"3.066\" style=\"fill:rgb(14.5%,14.5%,14.5%);fill-opacity:1.0\">r1</text></g><g class=\"toytree-TipLabel\" transform=\"translate(210.179,182.415)\"><text x=\"15.0\" y=\"3.066\" style=\"fill:rgb(14.5%,14.5%,14.5%);fill-opacity:1.0\">r2</text></g><g class=\"toytree-TipLabel\" transform=\"translate(210.179,164.449)\"><text x=\"15.0\" y=\"3.066\" style=\"fill:rgb(14.5%,14.5%,14.5%);fill-opacity:1.0\">r3</text></g><g class=\"toytree-TipLabel\" transform=\"translate(210.179,146.483)\"><text x=\"15.0\" y=\"3.066\" style=\"fill:rgb(14.5%,14.5%,14.5%);fill-opacity:1.0\">r4</text></g><g class=\"toytree-TipLabel\" transform=\"translate(210.179,128.517)\"><text x=\"15.0\" y=\"3.066\" style=\"fill:rgb(14.5%,14.5%,14.5%);fill-opacity:1.0\">r5</text></g><g class=\"toytree-TipLabel\" transform=\"translate(210.179,110.551)\"><text x=\"15.0\" y=\"3.066\" style=\"fill:rgb(14.5%,14.5%,14.5%);fill-opacity:1.0\">r6</text></g><g class=\"toytree-TipLabel\" transform=\"translate(210.179,92.5848)\"><text x=\"15.0\" y=\"3.066\" style=\"fill:rgb(14.5%,14.5%,14.5%);fill-opacity:1.0\">r7</text></g><g class=\"toytree-TipLabel\" transform=\"translate(210.179,74.6187)\"><text x=\"15.0\" y=\"3.066\" style=\"fill:rgb(14.5%,14.5%,14.5%);fill-opacity:1.0\">r8</text></g><g class=\"toytree-TipLabel\" transform=\"translate(210.179,56.6526)\"><text x=\"15.0\" y=\"3.066\" style=\"fill:rgb(14.5%,14.5%,14.5%);fill-opacity:1.0\">r9</text></g></g></g></g></g></svg><div class=\"toyplot-behavior\"><script>(function()\n",
       "{\n",
       "var modules={};\n",
       "})();</script></div></div>"
      ]
     },
     "metadata": {},
     "output_type": "display_data"
    }
   ],
   "source": [
    "# example: map node height to colors using '(feature, cmap)' syntax\n",
    "tree.draw(\n",
    "    node_sizes=10, \n",
    "    node_mask=False, \n",
    "    node_colors=(\"height\", \"Spectral\"),\n",
    ");"
   ]
  },
  {
   "cell_type": "markdown",
   "id": "6883c9ce-4498-4dfa-a935-0288bdecb40c",
   "metadata": {},
   "source": [
    "## Example Data\n",
    "To demonstrate color-mapping we will use a 10 tip birth-death tree with three data features assigned to Nodes of the tree. The first feature \"W\" contains random float values between 0-1. The second \"X\" contains float values sampled along a continuous range from (0-100). The third feature contains discrete str values randomly sampled from (\"A\", \"B\", \"C\"). And the final feature contains the same data as feature \"X\", but with missing values for alternating Nodes."
   ]
  },
  {
   "cell_type": "code",
   "execution_count": 5,
   "id": "c32c7f08-973d-4758-9112-c1b805f0bff2",
   "metadata": {},
   "outputs": [],
   "source": [
    "# assign data to an example tree\n",
    "tree = toytree.rtree.bdtree(10, seed=123)\n",
    "rng = np.random.default_rng(seed=123)\n",
    "tree.set_node_data(\"W\", rng.random(tree.nnodes), inplace=True);\n",
    "tree.set_node_data(\"X\", np.linspace(0, 100, tree.nnodes), inplace=True);\n",
    "tree.set_node_data(\"Y\", rng.choice([\"A\", \"B\", \"C\"], tree.nnodes), inplace=True);\n",
    "tree.set_node_data(\"Z\", {i: i.X for i in tree[::2]}, inplace=True);"
   ]
  },
  {
   "cell_type": "code",
   "execution_count": 6,
   "id": "be51c9d7-9bb5-4a7f-a16e-fc0162357100",
   "metadata": {},
   "outputs": [
    {
     "data": {
      "text/html": [
       "<div>\n",
       "<style scoped>\n",
       "    .dataframe tbody tr th:only-of-type {\n",
       "        vertical-align: middle;\n",
       "    }\n",
       "\n",
       "    .dataframe tbody tr th {\n",
       "        vertical-align: top;\n",
       "    }\n",
       "\n",
       "    .dataframe thead th {\n",
       "        text-align: right;\n",
       "    }\n",
       "</style>\n",
       "<table border=\"1\" class=\"dataframe\">\n",
       "  <thead>\n",
       "    <tr style=\"text-align: right;\">\n",
       "      <th></th>\n",
       "      <th>W</th>\n",
       "      <th>X</th>\n",
       "      <th>Y</th>\n",
       "      <th>Z</th>\n",
       "    </tr>\n",
       "  </thead>\n",
       "  <tbody>\n",
       "    <tr>\n",
       "      <th>0</th>\n",
       "      <td>0.682352</td>\n",
       "      <td>0.000000</td>\n",
       "      <td>A</td>\n",
       "      <td>0.000000</td>\n",
       "    </tr>\n",
       "    <tr>\n",
       "      <th>1</th>\n",
       "      <td>0.053821</td>\n",
       "      <td>5.555556</td>\n",
       "      <td>B</td>\n",
       "      <td>NaN</td>\n",
       "    </tr>\n",
       "    <tr>\n",
       "      <th>2</th>\n",
       "      <td>0.220360</td>\n",
       "      <td>11.111111</td>\n",
       "      <td>C</td>\n",
       "      <td>11.111111</td>\n",
       "    </tr>\n",
       "    <tr>\n",
       "      <th>3</th>\n",
       "      <td>0.184372</td>\n",
       "      <td>16.666667</td>\n",
       "      <td>A</td>\n",
       "      <td>NaN</td>\n",
       "    </tr>\n",
       "    <tr>\n",
       "      <th>4</th>\n",
       "      <td>0.175906</td>\n",
       "      <td>22.222222</td>\n",
       "      <td>A</td>\n",
       "      <td>22.222222</td>\n",
       "    </tr>\n",
       "    <tr>\n",
       "      <th>5</th>\n",
       "      <td>0.812095</td>\n",
       "      <td>27.777778</td>\n",
       "      <td>A</td>\n",
       "      <td>NaN</td>\n",
       "    </tr>\n",
       "    <tr>\n",
       "      <th>6</th>\n",
       "      <td>0.923345</td>\n",
       "      <td>33.333333</td>\n",
       "      <td>A</td>\n",
       "      <td>33.333333</td>\n",
       "    </tr>\n",
       "    <tr>\n",
       "      <th>7</th>\n",
       "      <td>0.276574</td>\n",
       "      <td>38.888889</td>\n",
       "      <td>B</td>\n",
       "      <td>NaN</td>\n",
       "    </tr>\n",
       "    <tr>\n",
       "      <th>8</th>\n",
       "      <td>0.819755</td>\n",
       "      <td>44.444444</td>\n",
       "      <td>A</td>\n",
       "      <td>44.444444</td>\n",
       "    </tr>\n",
       "    <tr>\n",
       "      <th>9</th>\n",
       "      <td>0.889893</td>\n",
       "      <td>50.000000</td>\n",
       "      <td>B</td>\n",
       "      <td>NaN</td>\n",
       "    </tr>\n",
       "    <tr>\n",
       "      <th>10</th>\n",
       "      <td>0.512970</td>\n",
       "      <td>55.555556</td>\n",
       "      <td>B</td>\n",
       "      <td>55.555556</td>\n",
       "    </tr>\n",
       "    <tr>\n",
       "      <th>11</th>\n",
       "      <td>0.244965</td>\n",
       "      <td>61.111111</td>\n",
       "      <td>A</td>\n",
       "      <td>NaN</td>\n",
       "    </tr>\n",
       "    <tr>\n",
       "      <th>12</th>\n",
       "      <td>0.824242</td>\n",
       "      <td>66.666667</td>\n",
       "      <td>B</td>\n",
       "      <td>66.666667</td>\n",
       "    </tr>\n",
       "    <tr>\n",
       "      <th>13</th>\n",
       "      <td>0.213763</td>\n",
       "      <td>72.222222</td>\n",
       "      <td>A</td>\n",
       "      <td>NaN</td>\n",
       "    </tr>\n",
       "    <tr>\n",
       "      <th>14</th>\n",
       "      <td>0.741467</td>\n",
       "      <td>77.777778</td>\n",
       "      <td>A</td>\n",
       "      <td>77.777778</td>\n",
       "    </tr>\n",
       "    <tr>\n",
       "      <th>15</th>\n",
       "      <td>0.629940</td>\n",
       "      <td>83.333333</td>\n",
       "      <td>B</td>\n",
       "      <td>NaN</td>\n",
       "    </tr>\n",
       "    <tr>\n",
       "      <th>16</th>\n",
       "      <td>0.927407</td>\n",
       "      <td>88.888889</td>\n",
       "      <td>A</td>\n",
       "      <td>88.888889</td>\n",
       "    </tr>\n",
       "    <tr>\n",
       "      <th>17</th>\n",
       "      <td>0.231908</td>\n",
       "      <td>94.444444</td>\n",
       "      <td>C</td>\n",
       "      <td>NaN</td>\n",
       "    </tr>\n",
       "    <tr>\n",
       "      <th>18</th>\n",
       "      <td>0.799125</td>\n",
       "      <td>100.000000</td>\n",
       "      <td>A</td>\n",
       "      <td>100.000000</td>\n",
       "    </tr>\n",
       "  </tbody>\n",
       "</table>\n",
       "</div>"
      ],
      "text/plain": [
       "           W           X  Y           Z\n",
       "0   0.682352    0.000000  A    0.000000\n",
       "1   0.053821    5.555556  B         NaN\n",
       "2   0.220360   11.111111  C   11.111111\n",
       "3   0.184372   16.666667  A         NaN\n",
       "4   0.175906   22.222222  A   22.222222\n",
       "5   0.812095   27.777778  A         NaN\n",
       "6   0.923345   33.333333  A   33.333333\n",
       "7   0.276574   38.888889  B         NaN\n",
       "8   0.819755   44.444444  A   44.444444\n",
       "9   0.889893   50.000000  B         NaN\n",
       "10  0.512970   55.555556  B   55.555556\n",
       "11  0.244965   61.111111  A         NaN\n",
       "12  0.824242   66.666667  B   66.666667\n",
       "13  0.213763   72.222222  A         NaN\n",
       "14  0.741467   77.777778  A   77.777778\n",
       "15  0.629940   83.333333  B         NaN\n",
       "16  0.927407   88.888889  A   88.888889\n",
       "17  0.231908   94.444444  C         NaN\n",
       "18  0.799125  100.000000  A  100.000000"
      ]
     },
     "execution_count": 6,
     "metadata": {},
     "output_type": "execute_result"
    }
   ],
   "source": [
    "# show data in a table\n",
    "tree.get_node_data([\"W\", \"X\", \"Y\", \"Z\"])"
   ]
  },
  {
   "cell_type": "markdown",
   "id": "ccf74082-6bd9-4f26-ac47-5d9a3a0f80b0",
   "metadata": {},
   "source": [
    "## Colors\n",
    "`toytree` relies on `toyplot.color` for parsing color data and defining color maps. Please see the incredibly good [color module documentation of toyplot](https://toyplot.readthedocs.io/en/stable/colors.html) for more details. Here I provide a simple introduction. You can select colors in three main ways: (1) CSS color name; (2) rgb tuple; or (3) rgba tuple. "
   ]
  },
  {
   "cell_type": "code",
   "execution_count": 7,
   "id": "1c106e11-75ab-489a-bbeb-1f0581ceadda",
   "metadata": {},
   "outputs": [],
   "source": [
    "# define colors by name, rgb, or rgba\n",
    "color1 = \"teal\"\n",
    "color2 = (0.1, 0.5, 0.5)\n",
    "color3 = (0.1, 0.5, 0.5, 0.3)"
   ]
  },
  {
   "cell_type": "markdown",
   "id": "b5b026f4-5d0f-467b-b9d3-12bac4a99303",
   "metadata": {},
   "source": [
    "Here I pass the three objects above to `toyplot.color.Palette`, which is an object that can parse multiple different types of color inputs and store the results as an array. A palette represents the simplest form of ColorMap, containing a discrete collection of colors. This object has a nice property for displaying a color palette in the notebook, like below."
   ]
  },
  {
   "cell_type": "code",
   "execution_count": 8,
   "id": "2af8ca42-6b12-4376-a5ad-424e04caea63",
   "metadata": {},
   "outputs": [
    {
     "data": {
      "text/html": [
       "<div class=\"toyplot-color-Palette\" style=\"overflow:hidden; height:auto\"><div style=\"float:left;width:20px;height:20px;margin-right:0px;background-color:rgba(0.0%,50.2%,50.2%,1.000)\"></div><div style=\"float:left;width:20px;height:20px;margin-right:0px;background-color:rgba(10.0%,50.0%,50.0%,1.000)\"></div><div style=\"float:left;width:20px;height:20px;margin-right:0px;background-color:rgba(10.0%,50.0%,50.0%,0.300)\"></div></div>"
      ],
      "text/plain": [
       "<toyplot.color.Palette at 0x7f1006deb1f0>"
      ]
     },
     "execution_count": 8,
     "metadata": {},
     "output_type": "execute_result"
    }
   ],
   "source": [
    "# create a Palette object to easily visualize\n",
    "colors = toyplot.color.Palette([color1, color2, color3])\n",
    "colors"
   ]
  },
  {
   "cell_type": "markdown",
   "id": "bbb2e771-fddf-4048-a994-c035479a3258",
   "metadata": {},
   "source": [
    "### Color array dtype\n",
    "Colors in a `toyplot.color` array are stored in a complex data format that allows for performing mathematical operations on colors, which allows for blending colors from a palette together to create gradients in colormaps. In most cases, this is an advanced feature you do not need to worry about. It is simplest to select colors by name, or by selecting them from a pre-defined palette or colormap, as described in the next section."
   ]
  },
  {
   "cell_type": "code",
   "execution_count": 9,
   "id": "36d39a8a-dd52-4583-829d-2f24ef8a5df8",
   "metadata": {},
   "outputs": [
    {
     "data": {
      "text/plain": [
       "dtype([('r', '<f8'), ('g', '<f8'), ('b', '<f8'), ('a', '<f8')])"
      ]
     },
     "execution_count": 9,
     "metadata": {},
     "output_type": "execute_result"
    }
   ],
   "source": [
    "# the dtype of numpy array based colors in toyplot\n",
    "colors[0].dtype"
   ]
  },
  {
   "cell_type": "markdown",
   "id": "873a527b-1a14-4f2c-b599-599fa2a67e0d",
   "metadata": {},
   "source": [
    "### Color Palettes\n",
    "There are a number of pre-defined color palettes that can be selected by name from the `toyplot.color` subpackage named `brewer`, which contains the popular \"brewer2\" color sets. The default color palette in `toyplot` is called Set2, and can be selected like below. A number of \"diverging\" color palettes (see more below) can also be selected and discretized into a palette by using the `count` argument to maximize divergence among the colors for the number of discrete states in a set of data. "
   ]
  },
  {
   "cell_type": "code",
   "execution_count": 10,
   "id": "4501940d-e426-446d-9ab6-b3011fad2691",
   "metadata": {},
   "outputs": [
    {
     "data": {
      "text/html": [
       "<div class=\"toyplot-color-Palette\" style=\"overflow:hidden; height:auto\"><div style=\"float:left;width:20px;height:20px;margin-right:0px;background-color:rgba(40.0%,76.1%,64.7%,1.000)\"></div><div style=\"float:left;width:20px;height:20px;margin-right:0px;background-color:rgba(98.8%,55.3%,38.4%,1.000)\"></div><div style=\"float:left;width:20px;height:20px;margin-right:0px;background-color:rgba(55.3%,62.7%,79.6%,1.000)\"></div><div style=\"float:left;width:20px;height:20px;margin-right:0px;background-color:rgba(90.6%,54.1%,76.5%,1.000)\"></div><div style=\"float:left;width:20px;height:20px;margin-right:0px;background-color:rgba(65.1%,84.7%,32.9%,1.000)\"></div><div style=\"float:left;width:20px;height:20px;margin-right:0px;background-color:rgba(100.0%,85.1%,18.4%,1.000)\"></div><div style=\"float:left;width:20px;height:20px;margin-right:0px;background-color:rgba(89.8%,76.9%,58.0%,1.000)\"></div><div style=\"float:left;width:20px;height:20px;margin-right:0px;background-color:rgba(70.2%,70.2%,70.2%,1.000)\"></div></div>"
      ],
      "text/plain": [
       "<toyplot.color.Palette at 0x7f1006de8cd0>"
      ]
     },
     "execution_count": 10,
     "metadata": {},
     "output_type": "execute_result"
    }
   ],
   "source": [
    "# select a pre-defined discrete color palette\n",
    "toyplot.color.brewer.palette(\"Set2\")"
   ]
  },
  {
   "cell_type": "code",
   "execution_count": 11,
   "id": "6842dc71-a4bb-4c46-a1a9-042258563ba4",
   "metadata": {},
   "outputs": [
    {
     "data": {
      "text/html": [
       "<div class=\"toyplot-color-Palette\" style=\"overflow:hidden; height:auto\"><div style=\"float:left;width:20px;height:20px;margin-right:0px;background-color:rgba(12.9%,40.0%,67.5%,1.000)\"></div><div style=\"float:left;width:20px;height:20px;margin-right:0px;background-color:rgba(26.3%,57.6%,76.5%,1.000)\"></div><div style=\"float:left;width:20px;height:20px;margin-right:0px;background-color:rgba(57.3%,77.3%,87.1%,1.000)\"></div><div style=\"float:left;width:20px;height:20px;margin-right:0px;background-color:rgba(82.0%,89.8%,94.1%,1.000)\"></div><div style=\"float:left;width:20px;height:20px;margin-right:0px;background-color:rgba(99.2%,85.9%,78.0%,1.000)\"></div><div style=\"float:left;width:20px;height:20px;margin-right:0px;background-color:rgba(95.7%,64.7%,51.0%,1.000)\"></div><div style=\"float:left;width:20px;height:20px;margin-right:0px;background-color:rgba(83.9%,37.6%,30.2%,1.000)\"></div><div style=\"float:left;width:20px;height:20px;margin-right:0px;background-color:rgba(69.8%,9.4%,16.9%,1.000)\"></div></div>"
      ],
      "text/plain": [
       "<toyplot.color.Palette at 0x7f1006deb310>"
      ]
     },
     "execution_count": 11,
     "metadata": {},
     "output_type": "execute_result"
    }
   ],
   "source": [
    "# select a pre-defined diverging color palette\n",
    "toyplot.color.brewer.palette(\"BlueRed\", count=8)"
   ]
  },
  {
   "cell_type": "code",
   "execution_count": 12,
   "id": "78528f79-1540-4f4a-8b6d-127039d5d210",
   "metadata": {},
   "outputs": [
    {
     "data": {
      "text/html": [
       "<div class=\"toyplot-color-Palette\" style=\"overflow:hidden; height:auto\"><div style=\"float:left;width:20px;height:20px;margin-right:0px;background-color:rgba(0.0%,54.5%,54.5%,1.000)\"></div><div style=\"float:left;width:20px;height:20px;margin-right:0px;background-color:rgba(54.5%,0.0%,54.5%,1.000)\"></div><div style=\"float:left;width:20px;height:20px;margin-right:0px;background-color:rgba(85.5%,64.7%,12.5%,1.000)\"></div></div>"
      ],
      "text/plain": [
       "<toyplot.color.Palette at 0x7f1006deb550>"
      ]
     },
     "execution_count": 12,
     "metadata": {},
     "output_type": "execute_result"
    }
   ],
   "source": [
    "# define a color palette manually\n",
    "toyplot.color.Palette(['darkcyan', 'darkmagenta', 'goldenrod'])"
   ]
  },
  {
   "cell_type": "markdown",
   "id": "ccedbe42-0650-4af5-afb9-13925ff47966",
   "metadata": {},
   "source": [
    "## ColorMaps\n",
    "A colormap (`toyplot.color.Map`) is a more advanced container for describing a distribution of colors. \n",
    "There are two main types of colormaps, discrete and continous. A discrete map contains a small number of colors that are typically grouped together by a shared design palette with the goal of being maximally divergent from each other. By contrast, a continuous colormap represents colors sampled along a continuous range of RGBA values such that a gradient can be easily observed spanning from minimum to maximum values in the map. The default colormaps used by `toytree` are \"Spectral\" for continous data and \"Set2\" for categorical."
   ]
  },
  {
   "cell_type": "code",
   "execution_count": 13,
   "id": "0768de56-7a07-438a-87f2-f8ff5c1e4c51",
   "metadata": {},
   "outputs": [
    {
     "data": {
      "text/html": [
       "<div class=\"toyplot-color-LinearMap\" style=\"overflow:hidden; height:auto\"><div style=\"float:left;width:200px;height:20px;background:linear-gradient(to right,rgba(36.9%,31.0%,63.5%,1.000) 0.0%,rgba(34.1%,34.5%,65.2%,1.000) 1.6%,rgba(31.4%,38.1%,66.9%,1.000) 3.2%,rgba(28.6%,41.6%,68.6%,1.000) 4.8%,rgba(25.9%,45.2%,70.3%,1.000) 6.3%,rgba(23.2%,48.7%,71.9%,1.000) 7.9%,rgba(20.4%,52.3%,73.6%,1.000) 9.5%,rgba(21.9%,55.9%,73.1%,1.000) 11.1%,rgba(25.1%,59.5%,71.6%,1.000) 12.7%,rgba(28.3%,63.1%,70.1%,1.000) 14.3%,rgba(31.6%,66.7%,68.6%,1.000) 15.9%,rgba(34.8%,70.3%,67.1%,1.000) 17.5%,rgba(38.1%,73.9%,65.6%,1.000) 19.0%,rgba(41.7%,76.8%,64.7%,1.000) 20.6%,rgba(46.0%,78.4%,64.6%,1.000) 22.2%,rgba(50.3%,80.1%,64.6%,1.000) 23.8%,rgba(54.6%,81.8%,64.5%,1.000) 25.4%,rgba(58.9%,83.5%,64.4%,1.000) 27.0%,rgba(63.2%,85.2%,64.4%,1.000) 28.6%,rgba(67.4%,86.8%,64.2%,1.000) 30.2%,rgba(71.1%,88.3%,63.5%,1.000) 31.7%,rgba(74.8%,89.8%,62.7%,1.000) 33.3%,rgba(78.4%,91.3%,62.0%,1.000) 34.9%,rgba(82.1%,92.8%,61.3%,1.000) 36.5%,rgba(85.8%,94.3%,60.5%,1.000) 38.1%,rgba(89.5%,95.8%,59.8%,1.000) 39.7%,rgba(91.4%,96.6%,61.5%,1.000) 41.3%,rgba(93.0%,97.2%,64.0%,1.000) 42.9%,rgba(94.6%,97.8%,66.4%,1.000) 44.4%,rgba(96.1%,98.4%,68.8%,1.000) 46.0%,rgba(97.7%,99.1%,71.3%,1.000) 47.6%,rgba(99.2%,99.7%,73.7%,1.000) 49.2%,rgba(100.0%,99.0%,73.3%,1.000) 50.8%,rgba(99.9%,97.1%,70.0%,1.000) 52.4%,rgba(99.8%,95.2%,66.8%,1.000) 54.0%,rgba(99.8%,93.2%,63.6%,1.000) 55.6%,rgba(99.7%,91.3%,60.3%,1.000) 57.1%,rgba(99.7%,89.4%,57.1%,1.000) 58.7%,rgba(99.6%,87.2%,54.0%,1.000) 60.3%,rgba(99.5%,84.1%,51.4%,1.000) 61.9%,rgba(99.5%,81.0%,48.8%,1.000) 63.5%,rgba(99.4%,77.9%,46.1%,1.000) 65.1%,rgba(99.3%,74.8%,43.5%,1.000) 66.7%,rgba(99.3%,71.7%,40.9%,1.000) 68.3%,rgba(99.2%,68.5%,38.3%,1.000) 69.8%,rgba(98.7%,64.6%,36.4%,1.000) 71.4%,rgba(98.2%,60.5%,34.5%,1.000) 73.0%,rgba(97.6%,56.5%,32.6%,1.000) 74.6%,rgba(97.0%,52.5%,30.8%,1.000) 76.2%,rgba(96.5%,48.4%,28.9%,1.000) 77.8%,rgba(95.9%,44.4%,27.0%,1.000) 79.4%,rgba(94.5%,41.0%,26.7%,1.000) 81.0%,rgba(92.6%,38.1%,27.5%,1.000) 82.5%,rgba(90.7%,35.1%,28.2%,1.000) 84.1%,rgba(88.7%,32.2%,29.0%,1.000) 85.7%,rgba(86.8%,29.3%,29.7%,1.000) 87.3%,rgba(84.9%,26.4%,30.5%,1.000) 88.9%,rgba(82.5%,23.2%,30.7%,1.000) 90.5%,rgba(79.1%,19.4%,29.9%,1.000) 92.1%,rgba(75.7%,15.6%,29.1%,1.000) 93.7%,rgba(72.2%,11.8%,28.3%,1.000) 95.2%,rgba(68.8%,8.0%,27.5%,1.000) 96.8%,rgba(65.4%,4.2%,26.7%,1.000) 98.4%,rgba(62.0%,0.4%,25.9%,1.000) 100.0%)\"></div></div>"
      ],
      "text/plain": [
       "<toyplot.color.LinearMap at 0x7f1006de9900>"
      ]
     },
     "execution_count": 13,
     "metadata": {},
     "output_type": "execute_result"
    }
   ],
   "source": [
    "# select a pre-defined diverging or linear colormap\n",
    "toyplot.color.brewer.map(\"Spectral\")"
   ]
  },
  {
   "cell_type": "markdown",
   "id": "bd237c4c-cf48-40a6-bc7e-ff4169dca322",
   "metadata": {},
   "source": [
    "### `get_color_mapped_feature()`\n",
    "Here I will demonstrate color mapping using a function from `toytree` named `get_color_mapped_feature`. In practice users can use this function to transform data from a set of values into a distribution of colors in a colormap, however, it is not required, since the simpler \"tuple syntax\" can also be used when entering drawing arguments. Nevertheless, this is the function that is used under the hood to map data to colors, so it helps to understand its options and how it works. This function accepts a number of arguments to specify a tree, a feature to select data from the tree, and a colormap name. It also accepts options that can limit the upper or lower limits of the colormapped distribution, or skew the distribution, and options for dealing with missing data, all of which are demonstrated below."
   ]
  },
  {
   "cell_type": "code",
   "execution_count": 14,
   "id": "ee5d28ff-560f-47df-a08d-c851ec93b712",
   "metadata": {},
   "outputs": [
    {
     "data": {
      "text/html": [
       "<div class=\"toyplot-color-Swatches\" style=\"overflow:hidden; height:auto\"><div style=\"float:left;width:20px;height:20px;margin-right:5px;background-color:rgba(36.9%,31.0%,63.5%,1.000)\"></div><div style=\"float:left;width:20px;height:20px;margin-right:5px;background-color:rgba(27.3%,43.4%,69.4%,1.000)\"></div><div style=\"float:left;width:20px;height:20px;margin-right:5px;background-color:rgba(21.9%,55.9%,73.1%,1.000)\"></div><div style=\"float:left;width:20px;height:20px;margin-right:5px;background-color:rgba(33.2%,68.5%,67.8%,1.000)\"></div><div style=\"float:left;width:20px;height:20px;margin-right:5px;background-color:rgba(46.0%,78.4%,64.6%,1.000)\"></div><div style=\"float:left;width:20px;height:20px;margin-right:5px;background-color:rgba(61.0%,84.3%,64.4%,1.000)\"></div><div style=\"float:left;width:20px;height:20px;margin-right:5px;background-color:rgba(74.8%,89.8%,62.7%,1.000)\"></div><div style=\"float:left;width:20px;height:20px;margin-right:5px;background-color:rgba(87.6%,95.0%,60.1%,1.000)\"></div><div style=\"float:left;width:20px;height:20px;margin-right:5px;background-color:rgba(94.6%,97.8%,66.4%,1.000)\"></div><div style=\"float:left;width:20px;height:20px;margin-right:5px;background-color:rgba(100.0%,100.0%,74.9%,1.000)\"></div><div style=\"float:left;width:20px;height:20px;margin-right:5px;background-color:rgba(99.8%,93.2%,63.6%,1.000)\"></div><div style=\"float:left;width:20px;height:20px;margin-right:5px;background-color:rgba(99.6%,85.7%,52.7%,1.000)\"></div><div style=\"float:left;width:20px;height:20px;margin-right:5px;background-color:rgba(99.3%,74.8%,43.5%,1.000)\"></div><div style=\"float:left;width:20px;height:20px;margin-right:5px;background-color:rgba(98.4%,62.6%,35.4%,1.000)\"></div><div style=\"float:left;width:20px;height:20px;margin-right:5px;background-color:rgba(96.5%,48.4%,28.9%,1.000)\"></div><div style=\"float:left;width:20px;height:20px;margin-right:5px;background-color:rgba(91.6%,36.6%,27.8%,1.000)\"></div><div style=\"float:left;width:20px;height:20px;margin-right:5px;background-color:rgba(84.9%,26.4%,30.5%,1.000)\"></div><div style=\"float:left;width:20px;height:20px;margin-right:5px;background-color:rgba(73.9%,13.7%,28.7%,1.000)\"></div><div style=\"float:left;width:20px;height:20px;margin-right:5px;background-color:rgba(62.0%,0.4%,25.9%,1.000)\"></div></div>"
      ],
      "text/plain": [
       "array([(0.36862745, 0.30980392, 0.63529412, 1.),\n",
       "       (0.27276688, 0.43398693, 0.69411765, 1.),\n",
       "       (0.21873638, 0.55860566, 0.73071895, 1.),\n",
       "       (0.33202614, 0.68496732, 0.67843137, 1.),\n",
       "       (0.46013072, 0.78431373, 0.64618736, 1.),\n",
       "       (0.61045752, 0.84313725, 0.64400871, 1.),\n",
       "       (0.74771242, 0.89803922, 0.62745098, 1.),\n",
       "       (0.87625272, 0.9503268 , 0.60130719, 1.),\n",
       "       (0.94553377, 0.97821351, 0.66405229, 1.),\n",
       "       (1.        , 1.        , 0.74901961, 1.),\n",
       "       (0.99782135, 0.93246187, 0.63572985, 1.),\n",
       "       (0.9956427 , 0.85664488, 0.52679739, 1.),\n",
       "       (0.99346405, 0.74771242, 0.43529412, 1.),\n",
       "       (0.98431373, 0.62570806, 0.35424837, 1.),\n",
       "       (0.96470588, 0.48409586, 0.28888889, 1.),\n",
       "       (0.91633987, 0.36601307, 0.27843137, 1.),\n",
       "       (0.84880174, 0.26361656, 0.30457516, 1.),\n",
       "       (0.73943355, 0.13681917, 0.28714597, 1.),\n",
       "       (0.61960784, 0.00392157, 0.25882353, 1.)],\n",
       "      dtype=[('r', '<f8'), ('g', '<f8'), ('b', '<f8'), ('a', '<f8')])"
      ]
     },
     "execution_count": 14,
     "metadata": {},
     "output_type": "execute_result"
    }
   ],
   "source": [
    "# project data 'X' to colors from a colormap\n",
    "toytree.style.get_color_mapped_feature(tree, feature=\"X\", cmap=\"Spectral\")"
   ]
  },
  {
   "cell_type": "markdown",
   "id": "c48762eb-ed48-4223-85f2-f00dbcdca838",
   "metadata": {},
   "source": [
    "### Continuous map examples\n",
    "Here the data are extracted from the \"X\" feature on the tree, which contians values equally spaced between 0-100 assigned in order to the 18 Nodes in the tree. Thus, the colors assigned to each Node match the gradient of the colormap. In the next example, the feature \"W\" is mapped to the same colormap, which yields a very different distribution of colors, since Nodes 0-17 contain random values for this feature. "
   ]
  },
  {
   "cell_type": "code",
   "execution_count": 15,
   "id": "a4e1bc33-dd6b-4845-9aad-37a1cd010a5a",
   "metadata": {},
   "outputs": [
    {
     "data": {
      "text/html": [
       "<div class=\"toyplot-color-Swatches\" style=\"overflow:hidden; height:auto\"><div style=\"float:left;width:20px;height:20px;margin-right:5px;background-color:rgba(2.0%,18.8%,38.0%,1.000)\"></div><div style=\"float:left;width:20px;height:20px;margin-right:5px;background-color:rgba(8.1%,30.6%,54.4%,1.000)\"></div><div style=\"float:left;width:20px;height:20px;margin-right:5px;background-color:rgba(14.4%,42.0%,68.5%,1.000)\"></div><div style=\"float:left;width:20px;height:20px;margin-right:5px;background-color:rgba(21.8%,51.8%,73.5%,1.000)\"></div><div style=\"float:left;width:20px;height:20px;margin-right:5px;background-color:rgba(33.2%,62.0%,78.8%,1.000)\"></div><div style=\"float:left;width:20px;height:20px;margin-right:5px;background-color:rgba(50.4%,72.9%,84.7%,1.000)\"></div><div style=\"float:left;width:20px;height:20px;margin-right:5px;background-color:rgba(65.5%,81.4%,89.4%,1.000)\"></div><div style=\"float:left;width:20px;height:20px;margin-right:5px;background-color:rgba(79.2%,88.4%,93.3%,1.000)\"></div><div style=\"float:left;width:20px;height:20px;margin-right:5px;background-color:rgba(88.6%,92.9%,95.3%,1.000)\"></div><div style=\"float:left;width:20px;height:20px;margin-right:5px;background-color:rgba(96.9%,96.9%,96.9%,1.000)\"></div><div style=\"float:left;width:20px;height:20px;margin-right:5px;background-color:rgba(98.2%,90.8%,86.4%,1.000)\"></div><div style=\"float:left;width:20px;height:20px;margin-right:5px;background-color:rgba(98.8%,83.5%,75.0%,1.000)\"></div><div style=\"float:left;width:20px;height:20px;margin-right:5px;background-color:rgba(96.9%,71.8%,60.0%,1.000)\"></div><div style=\"float:left;width:20px;height:20px;margin-right:5px;background-color:rgba(93.1%,58.7%,46.4%,1.000)\"></div><div style=\"float:left;width:20px;height:20px;margin-right:5px;background-color:rgba(86.5%,43.7%,34.8%,1.000)\"></div><div style=\"float:left;width:20px;height:20px;margin-right:5px;background-color:rgba(79.2%,28.2%,25.8%,1.000)\"></div><div style=\"float:left;width:20px;height:20px;margin-right:5px;background-color:rgba(71.4%,12.5%,18.3%,1.000)\"></div><div style=\"float:left;width:20px;height:20px;margin-right:5px;background-color:rgba(56.7%,5.2%,14.8%,1.000)\"></div><div style=\"float:left;width:20px;height:20px;margin-right:5px;background-color:rgba(40.4%,0.0%,12.2%,1.000)\"></div></div>"
      ],
      "text/plain": [
       "array([(0.01960784, 0.18823529, 0.38039216, 1.),\n",
       "       (0.08061002, 0.30588235, 0.54379085, 1.),\n",
       "       (0.14422658, 0.41960784, 0.68453159, 1.),\n",
       "       (0.21830065, 0.51764706, 0.73464052, 1.),\n",
       "       (0.33159041, 0.62004357, 0.78823529, 1.),\n",
       "       (0.5037037 , 0.72897603, 0.84705882, 1.),\n",
       "       (0.65490196, 0.81437908, 0.89411765, 1.),\n",
       "       (0.79215686, 0.88409586, 0.93333333, 1.),\n",
       "       (0.88583878, 0.92941176, 0.95337691, 1.),\n",
       "       (0.96862745, 0.96862745, 0.96862745, 1.),\n",
       "       (0.98169935, 0.90762527, 0.86405229, 1.),\n",
       "       (0.98823529, 0.83529412, 0.7503268 , 1.),\n",
       "       (0.96862745, 0.71764706, 0.6       , 1.),\n",
       "       (0.93071895, 0.5869281 , 0.46361656, 1.),\n",
       "       (0.86535948, 0.43660131, 0.34814815, 1.),\n",
       "       (0.79215686, 0.28235294, 0.25751634, 1.),\n",
       "       (0.71372549, 0.1254902 , 0.18344227, 1.),\n",
       "       (0.56732026, 0.05228758, 0.14771242, 1.),\n",
       "       (0.40392157, 0.        , 0.12156863, 1.)],\n",
       "      dtype=[('r', '<f8'), ('g', '<f8'), ('b', '<f8'), ('a', '<f8')])"
      ]
     },
     "execution_count": 15,
     "metadata": {},
     "output_type": "execute_result"
    }
   ],
   "source": [
    "# project data \"X\" to a named colormap\n",
    "toytree.style.get_color_mapped_feature(tree, \"X\", \"BlueRed\")"
   ]
  },
  {
   "cell_type": "code",
   "execution_count": 16,
   "id": "6c864754-2638-4b20-b8c3-281f84a03219",
   "metadata": {},
   "outputs": [
    {
     "data": {
      "text/html": [
       "<div class=\"toyplot-color-Swatches\" style=\"overflow:hidden; height:auto\"><div style=\"float:left;width:20px;height:20px;margin-right:5px;background-color:rgba(93.4%,59.4%,46.9%,1.000)\"></div><div style=\"float:left;width:20px;height:20px;margin-right:5px;background-color:rgba(2.0%,18.8%,38.0%,1.000)\"></div><div style=\"float:left;width:20px;height:20px;margin-right:5px;background-color:rgba(25.0%,56.0%,75.6%,1.000)\"></div><div style=\"float:left;width:20px;height:20px;margin-right:5px;background-color:rgba(19.5%,48.7%,71.9%,1.000)\"></div><div style=\"float:left;width:20px;height:20px;margin-right:5px;background-color:rgba(18.2%,47.0%,71.0%,1.000)\"></div><div style=\"float:left;width:20px;height:20px;margin-right:5px;background-color:rgba(74.3%,18.4%,21.1%,1.000)\"></div><div style=\"float:left;width:20px;height:20px;margin-right:5px;background-color:rgba(41.8%,0.4%,12.4%,1.000)\"></div><div style=\"float:left;width:20px;height:20px;margin-right:5px;background-color:rgba(43.3%,68.4%,82.3%,1.000)\"></div><div style=\"float:left;width:20px;height:20px;margin-right:5px;background-color:rgba(73.1%,16.0%,20.0%,1.000)\"></div><div style=\"float:left;width:20px;height:20px;margin-right:5px;background-color:rgba(53.0%,4.0%,14.2%,1.000)\"></div><div style=\"float:left;width:20px;height:20px;margin-right:5px;background-color:rgba(97.5%,94.1%,92.0%,1.000)\"></div><div style=\"float:left;width:20px;height:20px;margin-right:5px;background-color:rgba(32.1%,61.3%,78.5%,1.000)\"></div><div style=\"float:left;width:20px;height:20px;margin-right:5px;background-color:rgba(72.4%,14.5%,19.3%,1.000)\"></div><div style=\"float:left;width:20px;height:20px;margin-right:5px;background-color:rgba(24.0%,54.7%,74.9%,1.000)\"></div><div style=\"float:left;width:20px;height:20px;margin-right:5px;background-color:rgba(85.4%,41.1%,32.9%,1.000)\"></div><div style=\"float:left;width:20px;height:20px;margin-right:5px;background-color:rgba(97.1%,73.3%,61.9%,1.000)\"></div><div style=\"float:left;width:20px;height:20px;margin-right:5px;background-color:rgba(40.4%,0.0%,12.2%,1.000)\"></div><div style=\"float:left;width:20px;height:20px;margin-right:5px;background-color:rgba(27.5%,58.4%,76.9%,1.000)\"></div><div style=\"float:left;width:20px;height:20px;margin-right:5px;background-color:rgba(76.4%,22.6%,23.1%,1.000)\"></div></div>"
      ],
      "text/plain": [
       "array([(0.93394104, 0.59433889, 0.4693089 , 1.),\n",
       "       (0.01960784, 0.18823529, 0.38039216, 1.),\n",
       "       (0.25026262, 0.55994965, 0.75626185, 1.),\n",
       "       (0.19533492, 0.48725123, 0.71910488, 1.),\n",
       "       (0.1824136 , 0.47014949, 0.71036399, 1.),\n",
       "       (0.74321467, 0.18446855, 0.21129315, 1.),\n",
       "       (0.41759832, 0.00437656, 0.12375691, 1.),\n",
       "       (0.43309785, 0.68428878, 0.82292771, 1.),\n",
       "       (0.73083558, 0.15971038, 0.1996018 , 1.),\n",
       "       (0.53022502, 0.0404171 , 0.14177718, 1.),\n",
       "       (0.97464896, 0.94052706, 0.92045536, 1.),\n",
       "       (0.32099857, 0.61333987, 0.7846153 , 1.),\n",
       "       (0.72358428, 0.14520778, 0.19275335, 1.),\n",
       "       (0.24019391, 0.54662343, 0.74945067, 1.),\n",
       "       (0.8543298 , 0.41123305, 0.32866238, 1.),\n",
       "       (0.97116128, 0.73285005, 0.61942604, 1.),\n",
       "       (0.40392157, 0.        , 0.12156863, 1.),\n",
       "       (0.27469601, 0.58403445, 0.76879037, 1.),\n",
       "       (0.76417391, 0.22638704, 0.231088  , 1.)],\n",
       "      dtype=[('r', '<f8'), ('g', '<f8'), ('b', '<f8'), ('a', '<f8')])"
      ]
     },
     "execution_count": 16,
     "metadata": {},
     "output_type": "execute_result"
    }
   ],
   "source": [
    "# project data \"W\" to a named colormap\n",
    "toytree.style.get_color_mapped_feature(tree, \"W\", \"BlueRed\")"
   ]
  },
  {
   "cell_type": "markdown",
   "id": "122a5858-5a74-464d-940b-a9d8b4561031",
   "metadata": {},
   "source": [
    "The domain min or max can be set to limit the range of colors such that multiple values at the upper or lower end of the data map to the same color. For example, here we set the max to 50 even though the max of the data we are mapping (\"X\") is 100. Consequently, the color map range is concentrated between 0-50 and all values above 50 are assigned the max color. If min and max values are not set on a colormap then it will by default use the min and max values of the data being projected. Thus, it is only relevant to set these values if you wish to condense colors at one end or the other."
   ]
  },
  {
   "cell_type": "code",
   "execution_count": 17,
   "id": "19fb619f-e907-4d25-b909-dc312b0896fb",
   "metadata": {},
   "outputs": [
    {
     "data": {
      "text/html": [
       "<div class=\"toyplot-color-Swatches\" style=\"overflow:hidden; height:auto\"><div style=\"float:left;width:20px;height:20px;margin-right:5px;background-color:rgba(2.0%,18.8%,38.0%,1.000)\"></div><div style=\"float:left;width:20px;height:20px;margin-right:5px;background-color:rgba(14.4%,42.0%,68.5%,1.000)\"></div><div style=\"float:left;width:20px;height:20px;margin-right:5px;background-color:rgba(33.2%,62.0%,78.8%,1.000)\"></div><div style=\"float:left;width:20px;height:20px;margin-right:5px;background-color:rgba(65.5%,81.4%,89.4%,1.000)\"></div><div style=\"float:left;width:20px;height:20px;margin-right:5px;background-color:rgba(88.6%,92.9%,95.3%,1.000)\"></div><div style=\"float:left;width:20px;height:20px;margin-right:5px;background-color:rgba(98.2%,90.8%,86.4%,1.000)\"></div><div style=\"float:left;width:20px;height:20px;margin-right:5px;background-color:rgba(96.9%,71.8%,60.0%,1.000)\"></div><div style=\"float:left;width:20px;height:20px;margin-right:5px;background-color:rgba(86.5%,43.7%,34.8%,1.000)\"></div><div style=\"float:left;width:20px;height:20px;margin-right:5px;background-color:rgba(71.4%,12.5%,18.3%,1.000)\"></div><div style=\"float:left;width:20px;height:20px;margin-right:5px;background-color:rgba(40.4%,0.0%,12.2%,1.000)\"></div><div style=\"float:left;width:20px;height:20px;margin-right:5px;background-color:rgba(40.4%,0.0%,12.2%,1.000)\"></div><div style=\"float:left;width:20px;height:20px;margin-right:5px;background-color:rgba(40.4%,0.0%,12.2%,1.000)\"></div><div style=\"float:left;width:20px;height:20px;margin-right:5px;background-color:rgba(40.4%,0.0%,12.2%,1.000)\"></div><div style=\"float:left;width:20px;height:20px;margin-right:5px;background-color:rgba(40.4%,0.0%,12.2%,1.000)\"></div><div style=\"float:left;width:20px;height:20px;margin-right:5px;background-color:rgba(40.4%,0.0%,12.2%,1.000)\"></div><div style=\"float:left;width:20px;height:20px;margin-right:5px;background-color:rgba(40.4%,0.0%,12.2%,1.000)\"></div><div style=\"float:left;width:20px;height:20px;margin-right:5px;background-color:rgba(40.4%,0.0%,12.2%,1.000)\"></div><div style=\"float:left;width:20px;height:20px;margin-right:5px;background-color:rgba(40.4%,0.0%,12.2%,1.000)\"></div><div style=\"float:left;width:20px;height:20px;margin-right:5px;background-color:rgba(40.4%,0.0%,12.2%,1.000)\"></div></div>"
      ],
      "text/plain": [
       "array([(0.01960784, 0.18823529, 0.38039216, 1.),\n",
       "       (0.14422658, 0.41960784, 0.68453159, 1.),\n",
       "       (0.33159041, 0.62004357, 0.78823529, 1.),\n",
       "       (0.65490196, 0.81437908, 0.89411765, 1.),\n",
       "       (0.88583878, 0.92941176, 0.95337691, 1.),\n",
       "       (0.98169935, 0.90762527, 0.86405229, 1.),\n",
       "       (0.96862745, 0.71764706, 0.6       , 1.),\n",
       "       (0.86535948, 0.43660131, 0.34814815, 1.),\n",
       "       (0.71372549, 0.1254902 , 0.18344227, 1.),\n",
       "       (0.40392157, 0.        , 0.12156863, 1.),\n",
       "       (0.40392157, 0.        , 0.12156863, 1.),\n",
       "       (0.40392157, 0.        , 0.12156863, 1.),\n",
       "       (0.40392157, 0.        , 0.12156863, 1.),\n",
       "       (0.40392157, 0.        , 0.12156863, 1.),\n",
       "       (0.40392157, 0.        , 0.12156863, 1.),\n",
       "       (0.40392157, 0.        , 0.12156863, 1.),\n",
       "       (0.40392157, 0.        , 0.12156863, 1.),\n",
       "       (0.40392157, 0.        , 0.12156863, 1.),\n",
       "       (0.40392157, 0.        , 0.12156863, 1.)],\n",
       "      dtype=[('r', '<f8'), ('g', '<f8'), ('b', '<f8'), ('a', '<f8')])"
      ]
     },
     "execution_count": 17,
     "metadata": {},
     "output_type": "execute_result"
    }
   ],
   "source": [
    "# create a ColorMap with a restricted range\n",
    "toytree.style.get_color_mapped_feature(tree, \"X\", \"BlueRed\", domain_min=0, domain_max=50)"
   ]
  },
  {
   "cell_type": "markdown",
   "id": "0fe0950c-ce89-4aca-874f-35c2cf5c8aaf",
   "metadata": {},
   "source": [
    "The order in which values are mapped to colors in a colomap can be reversed using the `reverse` argument."
   ]
  },
  {
   "cell_type": "code",
   "execution_count": 18,
   "id": "bc30ed7b-86ee-4cb0-8eb1-670d9e78ab5d",
   "metadata": {},
   "outputs": [
    {
     "data": {
      "text/html": [
       "<div class=\"toyplot-color-Swatches\" style=\"overflow:hidden; height:auto\"><div style=\"float:left;width:20px;height:20px;margin-right:5px;background-color:rgba(40.4%,0.0%,12.2%,1.000)\"></div><div style=\"float:left;width:20px;height:20px;margin-right:5px;background-color:rgba(56.7%,5.2%,14.8%,1.000)\"></div><div style=\"float:left;width:20px;height:20px;margin-right:5px;background-color:rgba(71.4%,12.5%,18.3%,1.000)\"></div><div style=\"float:left;width:20px;height:20px;margin-right:5px;background-color:rgba(79.2%,28.2%,25.8%,1.000)\"></div><div style=\"float:left;width:20px;height:20px;margin-right:5px;background-color:rgba(86.5%,43.7%,34.8%,1.000)\"></div><div style=\"float:left;width:20px;height:20px;margin-right:5px;background-color:rgba(93.1%,58.7%,46.4%,1.000)\"></div><div style=\"float:left;width:20px;height:20px;margin-right:5px;background-color:rgba(96.9%,71.8%,60.0%,1.000)\"></div><div style=\"float:left;width:20px;height:20px;margin-right:5px;background-color:rgba(98.8%,83.5%,75.0%,1.000)\"></div><div style=\"float:left;width:20px;height:20px;margin-right:5px;background-color:rgba(98.2%,90.8%,86.4%,1.000)\"></div><div style=\"float:left;width:20px;height:20px;margin-right:5px;background-color:rgba(96.9%,96.9%,96.9%,1.000)\"></div><div style=\"float:left;width:20px;height:20px;margin-right:5px;background-color:rgba(88.6%,92.9%,95.3%,1.000)\"></div><div style=\"float:left;width:20px;height:20px;margin-right:5px;background-color:rgba(79.2%,88.4%,93.3%,1.000)\"></div><div style=\"float:left;width:20px;height:20px;margin-right:5px;background-color:rgba(65.5%,81.4%,89.4%,1.000)\"></div><div style=\"float:left;width:20px;height:20px;margin-right:5px;background-color:rgba(50.4%,72.9%,84.7%,1.000)\"></div><div style=\"float:left;width:20px;height:20px;margin-right:5px;background-color:rgba(33.2%,62.0%,78.8%,1.000)\"></div><div style=\"float:left;width:20px;height:20px;margin-right:5px;background-color:rgba(21.8%,51.8%,73.5%,1.000)\"></div><div style=\"float:left;width:20px;height:20px;margin-right:5px;background-color:rgba(14.4%,42.0%,68.5%,1.000)\"></div><div style=\"float:left;width:20px;height:20px;margin-right:5px;background-color:rgba(8.1%,30.6%,54.4%,1.000)\"></div><div style=\"float:left;width:20px;height:20px;margin-right:5px;background-color:rgba(2.0%,18.8%,38.0%,1.000)\"></div></div>"
      ],
      "text/plain": [
       "array([(0.40392157, 0.        , 0.12156863, 1.),\n",
       "       (0.56732026, 0.05228758, 0.14771242, 1.),\n",
       "       (0.71372549, 0.1254902 , 0.18344227, 1.),\n",
       "       (0.79215686, 0.28235294, 0.25751634, 1.),\n",
       "       (0.86535948, 0.43660131, 0.34814815, 1.),\n",
       "       (0.93071895, 0.5869281 , 0.46361656, 1.),\n",
       "       (0.96862745, 0.71764706, 0.6       , 1.),\n",
       "       (0.98823529, 0.83529412, 0.7503268 , 1.),\n",
       "       (0.98169935, 0.90762527, 0.86405229, 1.),\n",
       "       (0.96862745, 0.96862745, 0.96862745, 1.),\n",
       "       (0.88583878, 0.92941176, 0.95337691, 1.),\n",
       "       (0.79215686, 0.88409586, 0.93333333, 1.),\n",
       "       (0.65490196, 0.81437908, 0.89411765, 1.),\n",
       "       (0.5037037 , 0.72897603, 0.84705882, 1.),\n",
       "       (0.33159041, 0.62004357, 0.78823529, 1.),\n",
       "       (0.21830065, 0.51764706, 0.73464052, 1.),\n",
       "       (0.14422658, 0.41960784, 0.68453159, 1.),\n",
       "       (0.08061002, 0.30588235, 0.54379085, 1.),\n",
       "       (0.01960784, 0.18823529, 0.38039216, 1.)],\n",
       "      dtype=[('r', '<f8'), ('g', '<f8'), ('b', '<f8'), ('a', '<f8')])"
      ]
     },
     "execution_count": 18,
     "metadata": {},
     "output_type": "execute_result"
    }
   ],
   "source": [
    "# create a reversed ColorMap by name\n",
    "toytree.style.get_color_mapped_feature(tree, \"X\", \"BlueRed\", reverse=True)"
   ]
  },
  {
   "cell_type": "markdown",
   "id": "05c10e0c-6dd1-476b-a595-7ee7cfd7e6d8",
   "metadata": {},
   "source": [
    "The center of the colormap can be skewed towards one end or the other. Here it is set at 25, closer to the min value. This compresses the range of colors to the left of 25, and expands the range to right of 25. This can be useful if the variation among the larger values is of greater interest than among the lower values. "
   ]
  },
  {
   "cell_type": "code",
   "execution_count": 19,
   "id": "8d0c3a37-b332-4b49-9c65-6621ac292115",
   "metadata": {},
   "outputs": [
    {
     "data": {
      "text/html": [
       "<div class=\"toyplot-color-Swatches\" style=\"overflow:hidden; height:auto\"><div style=\"float:left;width:20px;height:20px;margin-right:5px;background-color:rgba(2.0%,18.8%,38.0%,1.000)\"></div><div style=\"float:left;width:20px;height:20px;margin-right:5px;background-color:rgba(14.4%,42.0%,68.5%,1.000)\"></div><div style=\"float:left;width:20px;height:20px;margin-right:5px;background-color:rgba(33.2%,62.0%,78.8%,1.000)\"></div><div style=\"float:left;width:20px;height:20px;margin-right:5px;background-color:rgba(65.5%,81.4%,89.4%,1.000)\"></div><div style=\"float:left;width:20px;height:20px;margin-right:5px;background-color:rgba(88.6%,92.9%,95.3%,1.000)\"></div><div style=\"float:left;width:20px;height:20px;margin-right:5px;background-color:rgba(97.3%,94.8%,93.4%,1.000)\"></div><div style=\"float:left;width:20px;height:20px;margin-right:5px;background-color:rgba(98.2%,90.8%,86.4%,1.000)\"></div><div style=\"float:left;width:20px;height:20px;margin-right:5px;background-color:rgba(99.0%,86.7%,79.4%,1.000)\"></div><div style=\"float:left;width:20px;height:20px;margin-right:5px;background-color:rgba(98.2%,79.6%,70.0%,1.000)\"></div><div style=\"float:left;width:20px;height:20px;margin-right:5px;background-color:rgba(96.9%,71.8%,60.0%,1.000)\"></div><div style=\"float:left;width:20px;height:20px;margin-right:5px;background-color:rgba(95.3%,63.7%,50.2%,1.000)\"></div><div style=\"float:left;width:20px;height:20px;margin-right:5px;background-color:rgba(90.9%,53.7%,42.5%,1.000)\"></div><div style=\"float:left;width:20px;height:20px;margin-right:5px;background-color:rgba(86.5%,43.7%,34.8%,1.000)\"></div><div style=\"float:left;width:20px;height:20px;margin-right:5px;background-color:rgba(81.8%,33.5%,28.2%,1.000)\"></div><div style=\"float:left;width:20px;height:20px;margin-right:5px;background-color:rgba(76.6%,23.0%,23.3%,1.000)\"></div><div style=\"float:left;width:20px;height:20px;margin-right:5px;background-color:rgba(71.4%,12.5%,18.3%,1.000)\"></div><div style=\"float:left;width:20px;height:20px;margin-right:5px;background-color:rgba(62.2%,7.0%,15.6%,1.000)\"></div><div style=\"float:left;width:20px;height:20px;margin-right:5px;background-color:rgba(51.3%,3.5%,13.9%,1.000)\"></div><div style=\"float:left;width:20px;height:20px;margin-right:5px;background-color:rgba(40.4%,0.0%,12.2%,1.000)\"></div></div>"
      ],
      "text/plain": [
       "array([(0.01960784, 0.18823529, 0.38039216, 1.),\n",
       "       (0.14422658, 0.41960784, 0.68453159, 1.),\n",
       "       (0.33159041, 0.62004357, 0.78823529, 1.),\n",
       "       (0.65490196, 0.81437908, 0.89411765, 1.),\n",
       "       (0.88583878, 0.92941176, 0.95337691, 1.),\n",
       "       (0.97298475, 0.94829339, 0.93376906, 1.),\n",
       "       (0.98169935, 0.90762527, 0.86405229, 1.),\n",
       "       (0.99041394, 0.86695715, 0.79433551, 1.),\n",
       "       (0.98169935, 0.79607843, 0.70021786, 1.),\n",
       "       (0.96862745, 0.71764706, 0.6       , 1.),\n",
       "       (0.95250545, 0.63703704, 0.50210603, 1.),\n",
       "       (0.90893246, 0.53681917, 0.42512709, 1.),\n",
       "       (0.86535948, 0.43660131, 0.34814815, 1.),\n",
       "       (0.81830065, 0.33464052, 0.2822077 , 1.),\n",
       "       (0.76601307, 0.23006536, 0.23282498, 1.),\n",
       "       (0.71372549, 0.1254902 , 0.18344227, 1.),\n",
       "       (0.62178649, 0.06971678, 0.15642702, 1.),\n",
       "       (0.51285403, 0.03485839, 0.13899782, 1.),\n",
       "       (0.40392157, 0.        , 0.12156863, 1.)],\n",
       "      dtype=[('r', '<f8'), ('g', '<f8'), ('b', '<f8'), ('a', '<f8')])"
      ]
     },
     "execution_count": 19,
     "metadata": {},
     "output_type": "execute_result"
    }
   ],
   "source": [
    "# create a ColorMap with a skewed center\n",
    "cmap = toyplot.color.brewer.map(\"BlueRed\", domain_min=0, domain_max=100, center=25)\n",
    "toytree.style.get_color_mapped_feature(tree, \"X\", cmap)"
   ]
  },
  {
   "cell_type": "markdown",
   "id": "4ade59cd-511b-45b3-ae14-96512d317cd0",
   "metadata": {},
   "source": [
    "By default colormapping in `toytree` using `get_color_mapped_feature` or the tuple syntax will assign \"transparent\" (i.e., `rgba(0, 0, 0, 0)`) for missing values. You can change this behavior by entering a value to use for missing data instead using the `nan_value` argument."
   ]
  },
  {
   "cell_type": "code",
   "execution_count": 20,
   "id": "ca17f34d-e5bf-468b-bbcf-581b30a79526",
   "metadata": {},
   "outputs": [
    {
     "data": {
      "text/html": [
       "<div class=\"toyplot-color-Swatches\" style=\"overflow:hidden; height:auto\"><div style=\"float:left;width:20px;height:20px;margin-right:5px;background-color:rgba(2.0%,18.8%,38.0%,1.000)\"></div><div style=\"float:left;width:20px;height:20px;margin-right:5px;background-color:rgba(0.0%,0.0%,0.0%,0.000)\"></div><div style=\"float:left;width:20px;height:20px;margin-right:5px;background-color:rgba(14.4%,42.0%,68.5%,1.000)\"></div><div style=\"float:left;width:20px;height:20px;margin-right:5px;background-color:rgba(0.0%,0.0%,0.0%,0.000)\"></div><div style=\"float:left;width:20px;height:20px;margin-right:5px;background-color:rgba(33.2%,62.0%,78.8%,1.000)\"></div><div style=\"float:left;width:20px;height:20px;margin-right:5px;background-color:rgba(0.0%,0.0%,0.0%,0.000)\"></div><div style=\"float:left;width:20px;height:20px;margin-right:5px;background-color:rgba(65.5%,81.4%,89.4%,1.000)\"></div><div style=\"float:left;width:20px;height:20px;margin-right:5px;background-color:rgba(0.0%,0.0%,0.0%,0.000)\"></div><div style=\"float:left;width:20px;height:20px;margin-right:5px;background-color:rgba(88.6%,92.9%,95.3%,1.000)\"></div><div style=\"float:left;width:20px;height:20px;margin-right:5px;background-color:rgba(0.0%,0.0%,0.0%,0.000)\"></div><div style=\"float:left;width:20px;height:20px;margin-right:5px;background-color:rgba(98.2%,90.8%,86.4%,1.000)\"></div><div style=\"float:left;width:20px;height:20px;margin-right:5px;background-color:rgba(0.0%,0.0%,0.0%,0.000)\"></div><div style=\"float:left;width:20px;height:20px;margin-right:5px;background-color:rgba(96.9%,71.8%,60.0%,1.000)\"></div><div style=\"float:left;width:20px;height:20px;margin-right:5px;background-color:rgba(0.0%,0.0%,0.0%,0.000)\"></div><div style=\"float:left;width:20px;height:20px;margin-right:5px;background-color:rgba(86.5%,43.7%,34.8%,1.000)\"></div><div style=\"float:left;width:20px;height:20px;margin-right:5px;background-color:rgba(0.0%,0.0%,0.0%,0.000)\"></div><div style=\"float:left;width:20px;height:20px;margin-right:5px;background-color:rgba(71.4%,12.5%,18.3%,1.000)\"></div><div style=\"float:left;width:20px;height:20px;margin-right:5px;background-color:rgba(0.0%,0.0%,0.0%,0.000)\"></div><div style=\"float:left;width:20px;height:20px;margin-right:5px;background-color:rgba(40.4%,0.0%,12.2%,1.000)\"></div></div>"
      ],
      "text/plain": [
       "array([(0.01960784, 0.18823529, 0.38039216, 1.),\n",
       "       (0.        , 0.        , 0.        , 0.),\n",
       "       (0.14422658, 0.41960784, 0.68453159, 1.),\n",
       "       (0.        , 0.        , 0.        , 0.),\n",
       "       (0.33159041, 0.62004357, 0.78823529, 1.),\n",
       "       (0.        , 0.        , 0.        , 0.),\n",
       "       (0.65490196, 0.81437908, 0.89411765, 1.),\n",
       "       (0.        , 0.        , 0.        , 0.),\n",
       "       (0.88583878, 0.92941176, 0.95337691, 1.),\n",
       "       (0.        , 0.        , 0.        , 0.),\n",
       "       (0.98169935, 0.90762527, 0.86405229, 1.),\n",
       "       (0.        , 0.        , 0.        , 0.),\n",
       "       (0.96862745, 0.71764706, 0.6       , 1.),\n",
       "       (0.        , 0.        , 0.        , 0.),\n",
       "       (0.86535948, 0.43660131, 0.34814815, 1.),\n",
       "       (0.        , 0.        , 0.        , 0.),\n",
       "       (0.71372549, 0.1254902 , 0.18344227, 1.),\n",
       "       (0.        , 0.        , 0.        , 0.),\n",
       "       (0.40392157, 0.        , 0.12156863, 1.)],\n",
       "      dtype=[('r', '<f8'), ('g', '<f8'), ('b', '<f8'), ('a', '<f8')])"
      ]
     },
     "execution_count": 20,
     "metadata": {},
     "output_type": "execute_result"
    }
   ],
   "source": [
    "# default behavior sets 'transparent' to missing/NaN values\n",
    "toytree.style.get_color_mapped_feature(tree, \"Z\", \"BlueRed\")"
   ]
  },
  {
   "cell_type": "code",
   "execution_count": 21,
   "id": "7dcebb1a-0a7a-4dec-9305-4bb1bb21d900",
   "metadata": {},
   "outputs": [
    {
     "data": {
      "text/html": [
       "<div class=\"toyplot-color-Swatches\" style=\"overflow:hidden; height:auto\"><div style=\"float:left;width:20px;height:20px;margin-right:5px;background-color:rgba(2.0%,18.8%,38.0%,1.000)\"></div><div style=\"float:left;width:20px;height:20px;margin-right:5px;background-color:rgba(2.0%,18.8%,38.0%,1.000)\"></div><div style=\"float:left;width:20px;height:20px;margin-right:5px;background-color:rgba(14.4%,42.0%,68.5%,1.000)\"></div><div style=\"float:left;width:20px;height:20px;margin-right:5px;background-color:rgba(2.0%,18.8%,38.0%,1.000)\"></div><div style=\"float:left;width:20px;height:20px;margin-right:5px;background-color:rgba(33.2%,62.0%,78.8%,1.000)\"></div><div style=\"float:left;width:20px;height:20px;margin-right:5px;background-color:rgba(2.0%,18.8%,38.0%,1.000)\"></div><div style=\"float:left;width:20px;height:20px;margin-right:5px;background-color:rgba(65.5%,81.4%,89.4%,1.000)\"></div><div style=\"float:left;width:20px;height:20px;margin-right:5px;background-color:rgba(2.0%,18.8%,38.0%,1.000)\"></div><div style=\"float:left;width:20px;height:20px;margin-right:5px;background-color:rgba(88.6%,92.9%,95.3%,1.000)\"></div><div style=\"float:left;width:20px;height:20px;margin-right:5px;background-color:rgba(2.0%,18.8%,38.0%,1.000)\"></div><div style=\"float:left;width:20px;height:20px;margin-right:5px;background-color:rgba(98.2%,90.8%,86.4%,1.000)\"></div><div style=\"float:left;width:20px;height:20px;margin-right:5px;background-color:rgba(2.0%,18.8%,38.0%,1.000)\"></div><div style=\"float:left;width:20px;height:20px;margin-right:5px;background-color:rgba(96.9%,71.8%,60.0%,1.000)\"></div><div style=\"float:left;width:20px;height:20px;margin-right:5px;background-color:rgba(2.0%,18.8%,38.0%,1.000)\"></div><div style=\"float:left;width:20px;height:20px;margin-right:5px;background-color:rgba(86.5%,43.7%,34.8%,1.000)\"></div><div style=\"float:left;width:20px;height:20px;margin-right:5px;background-color:rgba(2.0%,18.8%,38.0%,1.000)\"></div><div style=\"float:left;width:20px;height:20px;margin-right:5px;background-color:rgba(71.4%,12.5%,18.3%,1.000)\"></div><div style=\"float:left;width:20px;height:20px;margin-right:5px;background-color:rgba(2.0%,18.8%,38.0%,1.000)\"></div><div style=\"float:left;width:20px;height:20px;margin-right:5px;background-color:rgba(40.4%,0.0%,12.2%,1.000)\"></div></div>"
      ],
      "text/plain": [
       "array([(0.01960784, 0.18823529, 0.38039216, 1.),\n",
       "       (0.01960784, 0.18823529, 0.38039216, 1.),\n",
       "       (0.14422658, 0.41960784, 0.68453159, 1.),\n",
       "       (0.01960784, 0.18823529, 0.38039216, 1.),\n",
       "       (0.33159041, 0.62004357, 0.78823529, 1.),\n",
       "       (0.01960784, 0.18823529, 0.38039216, 1.),\n",
       "       (0.65490196, 0.81437908, 0.89411765, 1.),\n",
       "       (0.01960784, 0.18823529, 0.38039216, 1.),\n",
       "       (0.88583878, 0.92941176, 0.95337691, 1.),\n",
       "       (0.01960784, 0.18823529, 0.38039216, 1.),\n",
       "       (0.98169935, 0.90762527, 0.86405229, 1.),\n",
       "       (0.01960784, 0.18823529, 0.38039216, 1.),\n",
       "       (0.96862745, 0.71764706, 0.6       , 1.),\n",
       "       (0.01960784, 0.18823529, 0.38039216, 1.),\n",
       "       (0.86535948, 0.43660131, 0.34814815, 1.),\n",
       "       (0.01960784, 0.18823529, 0.38039216, 1.),\n",
       "       (0.71372549, 0.1254902 , 0.18344227, 1.),\n",
       "       (0.01960784, 0.18823529, 0.38039216, 1.),\n",
       "       (0.40392157, 0.        , 0.12156863, 1.)],\n",
       "      dtype=[('r', '<f8'), ('g', '<f8'), ('b', '<f8'), ('a', '<f8')])"
      ]
     },
     "execution_count": 21,
     "metadata": {},
     "output_type": "execute_result"
    }
   ],
   "source": [
    "# setting 'nan_value' imputes a data value to be colormapped for missing\n",
    "toytree.style.get_color_mapped_feature(tree, \"Z\", \"BlueRed\", nan_value=0)"
   ]
  },
  {
   "cell_type": "markdown",
   "id": "f245ba5d-09ca-4186-9ab1-695269d4570f",
   "metadata": {},
   "source": [
    "### Discrete map example\n",
    "You can similarly map discrete/categorical data to colormaps. For this you can enter either a Categorical or Linear ColorMap, which in the latter case will reduce the linear map into equally spaced discrete colors. Like before you can either enter the name of a colormap, or create a `ColorMap` object. As an even simpler option, you can simply enter a list of color names that is of the same length as the number of discrete states in the data, as shown below. Here the data are extracted from the \"Y\" feature on the tree which represents random discrete states of \"A\", \"B\" or \"C\"."
   ]
  },
  {
   "cell_type": "code",
   "execution_count": 22,
   "id": "c91d03f2-6786-4e9d-a465-b16a498da121",
   "metadata": {},
   "outputs": [
    {
     "data": {
      "text/html": [
       "<div class=\"toyplot-color-Swatches\" style=\"overflow:hidden; height:auto\"><div style=\"float:left;width:20px;height:20px;margin-right:5px;background-color:rgba(100.0%,0.0%,0.0%,1.000)\"></div><div style=\"float:left;width:20px;height:20px;margin-right:5px;background-color:rgba(0.0%,0.0%,100.0%,1.000)\"></div><div style=\"float:left;width:20px;height:20px;margin-right:5px;background-color:rgba(0.0%,50.2%,0.0%,1.000)\"></div><div style=\"float:left;width:20px;height:20px;margin-right:5px;background-color:rgba(100.0%,0.0%,0.0%,1.000)\"></div><div style=\"float:left;width:20px;height:20px;margin-right:5px;background-color:rgba(100.0%,0.0%,0.0%,1.000)\"></div><div style=\"float:left;width:20px;height:20px;margin-right:5px;background-color:rgba(100.0%,0.0%,0.0%,1.000)\"></div><div style=\"float:left;width:20px;height:20px;margin-right:5px;background-color:rgba(100.0%,0.0%,0.0%,1.000)\"></div><div style=\"float:left;width:20px;height:20px;margin-right:5px;background-color:rgba(0.0%,0.0%,100.0%,1.000)\"></div><div style=\"float:left;width:20px;height:20px;margin-right:5px;background-color:rgba(100.0%,0.0%,0.0%,1.000)\"></div><div style=\"float:left;width:20px;height:20px;margin-right:5px;background-color:rgba(0.0%,0.0%,100.0%,1.000)\"></div><div style=\"float:left;width:20px;height:20px;margin-right:5px;background-color:rgba(0.0%,0.0%,100.0%,1.000)\"></div><div style=\"float:left;width:20px;height:20px;margin-right:5px;background-color:rgba(100.0%,0.0%,0.0%,1.000)\"></div><div style=\"float:left;width:20px;height:20px;margin-right:5px;background-color:rgba(0.0%,0.0%,100.0%,1.000)\"></div><div style=\"float:left;width:20px;height:20px;margin-right:5px;background-color:rgba(100.0%,0.0%,0.0%,1.000)\"></div><div style=\"float:left;width:20px;height:20px;margin-right:5px;background-color:rgba(100.0%,0.0%,0.0%,1.000)\"></div><div style=\"float:left;width:20px;height:20px;margin-right:5px;background-color:rgba(0.0%,0.0%,100.0%,1.000)\"></div><div style=\"float:left;width:20px;height:20px;margin-right:5px;background-color:rgba(100.0%,0.0%,0.0%,1.000)\"></div><div style=\"float:left;width:20px;height:20px;margin-right:5px;background-color:rgba(0.0%,50.2%,0.0%,1.000)\"></div><div style=\"float:left;width:20px;height:20px;margin-right:5px;background-color:rgba(100.0%,0.0%,0.0%,1.000)\"></div></div>"
      ],
      "text/plain": [
       "array([(1., 0.        , 0., 1.), (0., 0.        , 1., 1.),\n",
       "       (0., 0.50196078, 0., 1.), (1., 0.        , 0., 1.),\n",
       "       (1., 0.        , 0., 1.), (1., 0.        , 0., 1.),\n",
       "       (1., 0.        , 0., 1.), (0., 0.        , 1., 1.),\n",
       "       (1., 0.        , 0., 1.), (0., 0.        , 1., 1.),\n",
       "       (0., 0.        , 1., 1.), (1., 0.        , 0., 1.),\n",
       "       (0., 0.        , 1., 1.), (1., 0.        , 0., 1.),\n",
       "       (1., 0.        , 0., 1.), (0., 0.        , 1., 1.),\n",
       "       (1., 0.        , 0., 1.), (0., 0.50196078, 0., 1.),\n",
       "       (1., 0.        , 0., 1.)],\n",
       "      dtype=[('r', '<f8'), ('g', '<f8'), ('b', '<f8'), ('a', '<f8')])"
      ]
     },
     "execution_count": 22,
     "metadata": {},
     "output_type": "execute_result"
    }
   ],
   "source": [
    "# map a discrete feature to a list/Palette of color names\n",
    "toytree.style.get_color_mapped_feature(tree, \"Y\", [\"red\", \"blue\", \"green\"])"
   ]
  },
  {
   "cell_type": "code",
   "execution_count": 23,
   "id": "48d692cc-a499-4803-9b54-e76cf84cf99d",
   "metadata": {},
   "outputs": [
    {
     "data": {
      "text/html": [
       "<div class=\"toyplot-color-Swatches\" style=\"overflow:hidden; height:auto\"><div style=\"float:left;width:20px;height:20px;margin-right:5px;background-color:rgba(40.0%,76.1%,64.7%,1.000)\"></div><div style=\"float:left;width:20px;height:20px;margin-right:5px;background-color:rgba(98.8%,55.3%,38.4%,1.000)\"></div><div style=\"float:left;width:20px;height:20px;margin-right:5px;background-color:rgba(55.3%,62.7%,79.6%,1.000)\"></div><div style=\"float:left;width:20px;height:20px;margin-right:5px;background-color:rgba(40.0%,76.1%,64.7%,1.000)\"></div><div style=\"float:left;width:20px;height:20px;margin-right:5px;background-color:rgba(40.0%,76.1%,64.7%,1.000)\"></div><div style=\"float:left;width:20px;height:20px;margin-right:5px;background-color:rgba(40.0%,76.1%,64.7%,1.000)\"></div><div style=\"float:left;width:20px;height:20px;margin-right:5px;background-color:rgba(40.0%,76.1%,64.7%,1.000)\"></div><div style=\"float:left;width:20px;height:20px;margin-right:5px;background-color:rgba(98.8%,55.3%,38.4%,1.000)\"></div><div style=\"float:left;width:20px;height:20px;margin-right:5px;background-color:rgba(40.0%,76.1%,64.7%,1.000)\"></div><div style=\"float:left;width:20px;height:20px;margin-right:5px;background-color:rgba(98.8%,55.3%,38.4%,1.000)\"></div><div style=\"float:left;width:20px;height:20px;margin-right:5px;background-color:rgba(98.8%,55.3%,38.4%,1.000)\"></div><div style=\"float:left;width:20px;height:20px;margin-right:5px;background-color:rgba(40.0%,76.1%,64.7%,1.000)\"></div><div style=\"float:left;width:20px;height:20px;margin-right:5px;background-color:rgba(98.8%,55.3%,38.4%,1.000)\"></div><div style=\"float:left;width:20px;height:20px;margin-right:5px;background-color:rgba(40.0%,76.1%,64.7%,1.000)\"></div><div style=\"float:left;width:20px;height:20px;margin-right:5px;background-color:rgba(40.0%,76.1%,64.7%,1.000)\"></div><div style=\"float:left;width:20px;height:20px;margin-right:5px;background-color:rgba(98.8%,55.3%,38.4%,1.000)\"></div><div style=\"float:left;width:20px;height:20px;margin-right:5px;background-color:rgba(40.0%,76.1%,64.7%,1.000)\"></div><div style=\"float:left;width:20px;height:20px;margin-right:5px;background-color:rgba(55.3%,62.7%,79.6%,1.000)\"></div><div style=\"float:left;width:20px;height:20px;margin-right:5px;background-color:rgba(40.0%,76.1%,64.7%,1.000)\"></div></div>"
      ],
      "text/plain": [
       "array([(0.4       , 0.76078431, 0.64705882, 1.),\n",
       "       (0.98823529, 0.55294118, 0.38431373, 1.),\n",
       "       (0.55294118, 0.62745098, 0.79607843, 1.),\n",
       "       (0.4       , 0.76078431, 0.64705882, 1.),\n",
       "       (0.4       , 0.76078431, 0.64705882, 1.),\n",
       "       (0.4       , 0.76078431, 0.64705882, 1.),\n",
       "       (0.4       , 0.76078431, 0.64705882, 1.),\n",
       "       (0.98823529, 0.55294118, 0.38431373, 1.),\n",
       "       (0.4       , 0.76078431, 0.64705882, 1.),\n",
       "       (0.98823529, 0.55294118, 0.38431373, 1.),\n",
       "       (0.98823529, 0.55294118, 0.38431373, 1.),\n",
       "       (0.4       , 0.76078431, 0.64705882, 1.),\n",
       "       (0.98823529, 0.55294118, 0.38431373, 1.),\n",
       "       (0.4       , 0.76078431, 0.64705882, 1.),\n",
       "       (0.4       , 0.76078431, 0.64705882, 1.),\n",
       "       (0.98823529, 0.55294118, 0.38431373, 1.),\n",
       "       (0.4       , 0.76078431, 0.64705882, 1.),\n",
       "       (0.55294118, 0.62745098, 0.79607843, 1.),\n",
       "       (0.4       , 0.76078431, 0.64705882, 1.)],\n",
       "      dtype=[('r', '<f8'), ('g', '<f8'), ('b', '<f8'), ('a', '<f8')])"
      ]
     },
     "execution_count": 23,
     "metadata": {},
     "output_type": "execute_result"
    }
   ],
   "source": [
    "# map a discrete feature to a discrete colormap\n",
    "toytree.style.get_color_mapped_feature(tree, \"Y\", \"Set2\")"
   ]
  },
  {
   "cell_type": "code",
   "execution_count": 24,
   "id": "af6ebc3b-26df-422a-8263-dd55fc337170",
   "metadata": {},
   "outputs": [
    {
     "data": {
      "text/html": [
       "<div class=\"toyplot-color-Swatches\" style=\"overflow:hidden; height:auto\"><div style=\"float:left;width:20px;height:20px;margin-right:5px;background-color:rgba(40.4%,66.3%,81.2%,1.000)\"></div><div style=\"float:left;width:20px;height:20px;margin-right:5px;background-color:rgba(96.9%,96.9%,96.9%,1.000)\"></div><div style=\"float:left;width:20px;height:20px;margin-right:5px;background-color:rgba(93.7%,54.1%,38.4%,1.000)\"></div><div style=\"float:left;width:20px;height:20px;margin-right:5px;background-color:rgba(40.4%,66.3%,81.2%,1.000)\"></div><div style=\"float:left;width:20px;height:20px;margin-right:5px;background-color:rgba(40.4%,66.3%,81.2%,1.000)\"></div><div style=\"float:left;width:20px;height:20px;margin-right:5px;background-color:rgba(40.4%,66.3%,81.2%,1.000)\"></div><div style=\"float:left;width:20px;height:20px;margin-right:5px;background-color:rgba(40.4%,66.3%,81.2%,1.000)\"></div><div style=\"float:left;width:20px;height:20px;margin-right:5px;background-color:rgba(96.9%,96.9%,96.9%,1.000)\"></div><div style=\"float:left;width:20px;height:20px;margin-right:5px;background-color:rgba(40.4%,66.3%,81.2%,1.000)\"></div><div style=\"float:left;width:20px;height:20px;margin-right:5px;background-color:rgba(96.9%,96.9%,96.9%,1.000)\"></div><div style=\"float:left;width:20px;height:20px;margin-right:5px;background-color:rgba(96.9%,96.9%,96.9%,1.000)\"></div><div style=\"float:left;width:20px;height:20px;margin-right:5px;background-color:rgba(40.4%,66.3%,81.2%,1.000)\"></div><div style=\"float:left;width:20px;height:20px;margin-right:5px;background-color:rgba(96.9%,96.9%,96.9%,1.000)\"></div><div style=\"float:left;width:20px;height:20px;margin-right:5px;background-color:rgba(40.4%,66.3%,81.2%,1.000)\"></div><div style=\"float:left;width:20px;height:20px;margin-right:5px;background-color:rgba(40.4%,66.3%,81.2%,1.000)\"></div><div style=\"float:left;width:20px;height:20px;margin-right:5px;background-color:rgba(96.9%,96.9%,96.9%,1.000)\"></div><div style=\"float:left;width:20px;height:20px;margin-right:5px;background-color:rgba(40.4%,66.3%,81.2%,1.000)\"></div><div style=\"float:left;width:20px;height:20px;margin-right:5px;background-color:rgba(93.7%,54.1%,38.4%,1.000)\"></div><div style=\"float:left;width:20px;height:20px;margin-right:5px;background-color:rgba(40.4%,66.3%,81.2%,1.000)\"></div></div>"
      ],
      "text/plain": [
       "array([(0.40392157, 0.6627451 , 0.81176471, 1.),\n",
       "       (0.96862745, 0.96862745, 0.96862745, 1.),\n",
       "       (0.9372549 , 0.54117647, 0.38431373, 1.),\n",
       "       (0.40392157, 0.6627451 , 0.81176471, 1.),\n",
       "       (0.40392157, 0.6627451 , 0.81176471, 1.),\n",
       "       (0.40392157, 0.6627451 , 0.81176471, 1.),\n",
       "       (0.40392157, 0.6627451 , 0.81176471, 1.),\n",
       "       (0.96862745, 0.96862745, 0.96862745, 1.),\n",
       "       (0.40392157, 0.6627451 , 0.81176471, 1.),\n",
       "       (0.96862745, 0.96862745, 0.96862745, 1.),\n",
       "       (0.96862745, 0.96862745, 0.96862745, 1.),\n",
       "       (0.40392157, 0.6627451 , 0.81176471, 1.),\n",
       "       (0.96862745, 0.96862745, 0.96862745, 1.),\n",
       "       (0.40392157, 0.6627451 , 0.81176471, 1.),\n",
       "       (0.40392157, 0.6627451 , 0.81176471, 1.),\n",
       "       (0.96862745, 0.96862745, 0.96862745, 1.),\n",
       "       (0.40392157, 0.6627451 , 0.81176471, 1.),\n",
       "       (0.9372549 , 0.54117647, 0.38431373, 1.),\n",
       "       (0.40392157, 0.6627451 , 0.81176471, 1.)],\n",
       "      dtype=[('r', '<f8'), ('g', '<f8'), ('b', '<f8'), ('a', '<f8')])"
      ]
     },
     "execution_count": 24,
     "metadata": {},
     "output_type": "execute_result"
    }
   ],
   "source": [
    "# map a discrete feature to a continuous colormap \n",
    "toytree.style.get_color_mapped_feature(tree, \"Y\", \"BlueRed\")"
   ]
  },
  {
   "cell_type": "markdown",
   "id": "899d446b-1bdb-425d-931a-8449ba944b8a",
   "metadata": {},
   "source": [
    "By creating the ColorMap manually you can set more additional arguments, such as the number of states, which can be used to  discretize colors at a more fine or coarse scale."
   ]
  },
  {
   "cell_type": "code",
   "execution_count": 25,
   "id": "c1c164fd-4250-47d0-bbbf-c1562a6f9607",
   "metadata": {},
   "outputs": [
    {
     "data": {
      "text/html": [
       "<div class=\"toyplot-color-Swatches\" style=\"overflow:hidden; height:auto\"><div style=\"float:left;width:20px;height:20px;margin-right:5px;background-color:rgba(12.9%,40.0%,67.5%,1.000)\"></div><div style=\"float:left;width:20px;height:20px;margin-right:5px;background-color:rgba(90.6%,87.8%,86.1%,1.000)\"></div><div style=\"float:left;width:20px;height:20px;margin-right:5px;background-color:rgba(69.8%,9.4%,16.9%,1.000)\"></div><div style=\"float:left;width:20px;height:20px;margin-right:5px;background-color:rgba(12.9%,40.0%,67.5%,1.000)\"></div><div style=\"float:left;width:20px;height:20px;margin-right:5px;background-color:rgba(12.9%,40.0%,67.5%,1.000)\"></div><div style=\"float:left;width:20px;height:20px;margin-right:5px;background-color:rgba(12.9%,40.0%,67.5%,1.000)\"></div><div style=\"float:left;width:20px;height:20px;margin-right:5px;background-color:rgba(12.9%,40.0%,67.5%,1.000)\"></div><div style=\"float:left;width:20px;height:20px;margin-right:5px;background-color:rgba(90.6%,87.8%,86.1%,1.000)\"></div><div style=\"float:left;width:20px;height:20px;margin-right:5px;background-color:rgba(12.9%,40.0%,67.5%,1.000)\"></div><div style=\"float:left;width:20px;height:20px;margin-right:5px;background-color:rgba(90.6%,87.8%,86.1%,1.000)\"></div><div style=\"float:left;width:20px;height:20px;margin-right:5px;background-color:rgba(90.6%,87.8%,86.1%,1.000)\"></div><div style=\"float:left;width:20px;height:20px;margin-right:5px;background-color:rgba(12.9%,40.0%,67.5%,1.000)\"></div><div style=\"float:left;width:20px;height:20px;margin-right:5px;background-color:rgba(90.6%,87.8%,86.1%,1.000)\"></div><div style=\"float:left;width:20px;height:20px;margin-right:5px;background-color:rgba(12.9%,40.0%,67.5%,1.000)\"></div><div style=\"float:left;width:20px;height:20px;margin-right:5px;background-color:rgba(12.9%,40.0%,67.5%,1.000)\"></div><div style=\"float:left;width:20px;height:20px;margin-right:5px;background-color:rgba(90.6%,87.8%,86.1%,1.000)\"></div><div style=\"float:left;width:20px;height:20px;margin-right:5px;background-color:rgba(12.9%,40.0%,67.5%,1.000)\"></div><div style=\"float:left;width:20px;height:20px;margin-right:5px;background-color:rgba(69.8%,9.4%,16.9%,1.000)\"></div><div style=\"float:left;width:20px;height:20px;margin-right:5px;background-color:rgba(12.9%,40.0%,67.5%,1.000)\"></div></div>"
      ],
      "text/plain": [
       "array([(0.12941176, 0.4       , 0.6745098 , 1.),\n",
       "       (0.90588235, 0.87843137, 0.86078431, 1.),\n",
       "       (0.69803922, 0.09411765, 0.16862745, 1.),\n",
       "       (0.12941176, 0.4       , 0.6745098 , 1.),\n",
       "       (0.12941176, 0.4       , 0.6745098 , 1.),\n",
       "       (0.12941176, 0.4       , 0.6745098 , 1.),\n",
       "       (0.12941176, 0.4       , 0.6745098 , 1.),\n",
       "       (0.90588235, 0.87843137, 0.86078431, 1.),\n",
       "       (0.12941176, 0.4       , 0.6745098 , 1.),\n",
       "       (0.90588235, 0.87843137, 0.86078431, 1.),\n",
       "       (0.90588235, 0.87843137, 0.86078431, 1.),\n",
       "       (0.12941176, 0.4       , 0.6745098 , 1.),\n",
       "       (0.90588235, 0.87843137, 0.86078431, 1.),\n",
       "       (0.12941176, 0.4       , 0.6745098 , 1.),\n",
       "       (0.12941176, 0.4       , 0.6745098 , 1.),\n",
       "       (0.90588235, 0.87843137, 0.86078431, 1.),\n",
       "       (0.12941176, 0.4       , 0.6745098 , 1.),\n",
       "       (0.69803922, 0.09411765, 0.16862745, 1.),\n",
       "       (0.12941176, 0.4       , 0.6745098 , 1.)],\n",
       "      dtype=[('r', '<f8'), ('g', '<f8'), ('b', '<f8'), ('a', '<f8')])"
      ]
     },
     "execution_count": 25,
     "metadata": {},
     "output_type": "execute_result"
    }
   ],
   "source": [
    "# enter a colormap object\n",
    "cmap = toyplot.color.brewer.map(\"BlueRed\", count=8)\n",
    "toytree.style.get_color_mapped_feature(tree, \"Y\", cmap)"
   ]
  },
  {
   "cell_type": "markdown",
   "id": "d09caf2f-4e16-4389-85ed-1a349ce6ab03",
   "metadata": {},
   "source": [
    "## Best ColorMaps\n",
    "These are are a few of my favorites:"
   ]
  },
  {
   "cell_type": "code",
   "execution_count": 26,
   "id": "77e0dab7-2bac-4b30-b68a-048d5633b9f8",
   "metadata": {},
   "outputs": [
    {
     "data": {
      "text/html": [
       "<div class=\"toyplot-color-Swatches\" style=\"overflow:hidden; height:auto\"><div style=\"float:left;width:20px;height:20px;margin-right:5px;background-color:rgba(2.0%,18.8%,38.0%,1.000)\"></div><div style=\"float:left;width:20px;height:20px;margin-right:5px;background-color:rgba(8.1%,30.6%,54.4%,1.000)\"></div><div style=\"float:left;width:20px;height:20px;margin-right:5px;background-color:rgba(14.4%,42.0%,68.5%,1.000)\"></div><div style=\"float:left;width:20px;height:20px;margin-right:5px;background-color:rgba(21.8%,51.8%,73.5%,1.000)\"></div><div style=\"float:left;width:20px;height:20px;margin-right:5px;background-color:rgba(33.2%,62.0%,78.8%,1.000)\"></div><div style=\"float:left;width:20px;height:20px;margin-right:5px;background-color:rgba(50.4%,72.9%,84.7%,1.000)\"></div><div style=\"float:left;width:20px;height:20px;margin-right:5px;background-color:rgba(65.5%,81.4%,89.4%,1.000)\"></div><div style=\"float:left;width:20px;height:20px;margin-right:5px;background-color:rgba(79.2%,88.4%,93.3%,1.000)\"></div><div style=\"float:left;width:20px;height:20px;margin-right:5px;background-color:rgba(88.6%,92.9%,95.3%,1.000)\"></div><div style=\"float:left;width:20px;height:20px;margin-right:5px;background-color:rgba(96.9%,96.9%,96.9%,1.000)\"></div><div style=\"float:left;width:20px;height:20px;margin-right:5px;background-color:rgba(98.2%,90.8%,86.4%,1.000)\"></div><div style=\"float:left;width:20px;height:20px;margin-right:5px;background-color:rgba(98.8%,83.5%,75.0%,1.000)\"></div><div style=\"float:left;width:20px;height:20px;margin-right:5px;background-color:rgba(96.9%,71.8%,60.0%,1.000)\"></div><div style=\"float:left;width:20px;height:20px;margin-right:5px;background-color:rgba(93.1%,58.7%,46.4%,1.000)\"></div><div style=\"float:left;width:20px;height:20px;margin-right:5px;background-color:rgba(86.5%,43.7%,34.8%,1.000)\"></div><div style=\"float:left;width:20px;height:20px;margin-right:5px;background-color:rgba(79.2%,28.2%,25.8%,1.000)\"></div><div style=\"float:left;width:20px;height:20px;margin-right:5px;background-color:rgba(71.4%,12.5%,18.3%,1.000)\"></div><div style=\"float:left;width:20px;height:20px;margin-right:5px;background-color:rgba(56.7%,5.2%,14.8%,1.000)\"></div><div style=\"float:left;width:20px;height:20px;margin-right:5px;background-color:rgba(40.4%,0.0%,12.2%,1.000)\"></div></div>"
      ],
      "text/plain": [
       "array([(0.01960784, 0.18823529, 0.38039216, 1.),\n",
       "       (0.08061002, 0.30588235, 0.54379085, 1.),\n",
       "       (0.14422658, 0.41960784, 0.68453159, 1.),\n",
       "       (0.21830065, 0.51764706, 0.73464052, 1.),\n",
       "       (0.33159041, 0.62004357, 0.78823529, 1.),\n",
       "       (0.5037037 , 0.72897603, 0.84705882, 1.),\n",
       "       (0.65490196, 0.81437908, 0.89411765, 1.),\n",
       "       (0.79215686, 0.88409586, 0.93333333, 1.),\n",
       "       (0.88583878, 0.92941176, 0.95337691, 1.),\n",
       "       (0.96862745, 0.96862745, 0.96862745, 1.),\n",
       "       (0.98169935, 0.90762527, 0.86405229, 1.),\n",
       "       (0.98823529, 0.83529412, 0.7503268 , 1.),\n",
       "       (0.96862745, 0.71764706, 0.6       , 1.),\n",
       "       (0.93071895, 0.5869281 , 0.46361656, 1.),\n",
       "       (0.86535948, 0.43660131, 0.34814815, 1.),\n",
       "       (0.79215686, 0.28235294, 0.25751634, 1.),\n",
       "       (0.71372549, 0.1254902 , 0.18344227, 1.),\n",
       "       (0.56732026, 0.05228758, 0.14771242, 1.),\n",
       "       (0.40392157, 0.        , 0.12156863, 1.)],\n",
       "      dtype=[('r', '<f8'), ('g', '<f8'), ('b', '<f8'), ('a', '<f8')])"
      ]
     },
     "execution_count": 26,
     "metadata": {},
     "output_type": "execute_result"
    }
   ],
   "source": [
    "toytree.style.get_color_mapped_feature(tree, \"X\", \"BlueRed\")"
   ]
  },
  {
   "cell_type": "code",
   "execution_count": 27,
   "id": "f6013116-71bc-4f88-b7de-7a9a144a613f",
   "metadata": {},
   "outputs": [
    {
     "data": {
      "text/html": [
       "<div class=\"toyplot-color-Swatches\" style=\"overflow:hidden; height:auto\"><div style=\"float:left;width:20px;height:20px;margin-right:5px;background-color:rgba(36.9%,31.0%,63.5%,1.000)\"></div><div style=\"float:left;width:20px;height:20px;margin-right:5px;background-color:rgba(27.3%,43.4%,69.4%,1.000)\"></div><div style=\"float:left;width:20px;height:20px;margin-right:5px;background-color:rgba(21.9%,55.9%,73.1%,1.000)\"></div><div style=\"float:left;width:20px;height:20px;margin-right:5px;background-color:rgba(33.2%,68.5%,67.8%,1.000)\"></div><div style=\"float:left;width:20px;height:20px;margin-right:5px;background-color:rgba(46.0%,78.4%,64.6%,1.000)\"></div><div style=\"float:left;width:20px;height:20px;margin-right:5px;background-color:rgba(61.0%,84.3%,64.4%,1.000)\"></div><div style=\"float:left;width:20px;height:20px;margin-right:5px;background-color:rgba(74.8%,89.8%,62.7%,1.000)\"></div><div style=\"float:left;width:20px;height:20px;margin-right:5px;background-color:rgba(87.6%,95.0%,60.1%,1.000)\"></div><div style=\"float:left;width:20px;height:20px;margin-right:5px;background-color:rgba(94.6%,97.8%,66.4%,1.000)\"></div><div style=\"float:left;width:20px;height:20px;margin-right:5px;background-color:rgba(100.0%,100.0%,74.9%,1.000)\"></div><div style=\"float:left;width:20px;height:20px;margin-right:5px;background-color:rgba(99.8%,93.2%,63.6%,1.000)\"></div><div style=\"float:left;width:20px;height:20px;margin-right:5px;background-color:rgba(99.6%,85.7%,52.7%,1.000)\"></div><div style=\"float:left;width:20px;height:20px;margin-right:5px;background-color:rgba(99.3%,74.8%,43.5%,1.000)\"></div><div style=\"float:left;width:20px;height:20px;margin-right:5px;background-color:rgba(98.4%,62.6%,35.4%,1.000)\"></div><div style=\"float:left;width:20px;height:20px;margin-right:5px;background-color:rgba(96.5%,48.4%,28.9%,1.000)\"></div><div style=\"float:left;width:20px;height:20px;margin-right:5px;background-color:rgba(91.6%,36.6%,27.8%,1.000)\"></div><div style=\"float:left;width:20px;height:20px;margin-right:5px;background-color:rgba(84.9%,26.4%,30.5%,1.000)\"></div><div style=\"float:left;width:20px;height:20px;margin-right:5px;background-color:rgba(73.9%,13.7%,28.7%,1.000)\"></div><div style=\"float:left;width:20px;height:20px;margin-right:5px;background-color:rgba(62.0%,0.4%,25.9%,1.000)\"></div></div>"
      ],
      "text/plain": [
       "array([(0.36862745, 0.30980392, 0.63529412, 1.),\n",
       "       (0.27276688, 0.43398693, 0.69411765, 1.),\n",
       "       (0.21873638, 0.55860566, 0.73071895, 1.),\n",
       "       (0.33202614, 0.68496732, 0.67843137, 1.),\n",
       "       (0.46013072, 0.78431373, 0.64618736, 1.),\n",
       "       (0.61045752, 0.84313725, 0.64400871, 1.),\n",
       "       (0.74771242, 0.89803922, 0.62745098, 1.),\n",
       "       (0.87625272, 0.9503268 , 0.60130719, 1.),\n",
       "       (0.94553377, 0.97821351, 0.66405229, 1.),\n",
       "       (1.        , 1.        , 0.74901961, 1.),\n",
       "       (0.99782135, 0.93246187, 0.63572985, 1.),\n",
       "       (0.9956427 , 0.85664488, 0.52679739, 1.),\n",
       "       (0.99346405, 0.74771242, 0.43529412, 1.),\n",
       "       (0.98431373, 0.62570806, 0.35424837, 1.),\n",
       "       (0.96470588, 0.48409586, 0.28888889, 1.),\n",
       "       (0.91633987, 0.36601307, 0.27843137, 1.),\n",
       "       (0.84880174, 0.26361656, 0.30457516, 1.),\n",
       "       (0.73943355, 0.13681917, 0.28714597, 1.),\n",
       "       (0.61960784, 0.00392157, 0.25882353, 1.)],\n",
       "      dtype=[('r', '<f8'), ('g', '<f8'), ('b', '<f8'), ('a', '<f8')])"
      ]
     },
     "execution_count": 27,
     "metadata": {},
     "output_type": "execute_result"
    }
   ],
   "source": [
    "toytree.style.get_color_mapped_feature(tree, \"X\", \"Spectral\")"
   ]
  },
  {
   "cell_type": "code",
   "execution_count": 28,
   "id": "3ea4c80a-c650-4923-a6ab-5c451d5f73ca",
   "metadata": {},
   "outputs": [
    {
     "data": {
      "text/html": [
       "<div class=\"toyplot-color-Swatches\" style=\"overflow:hidden; height:auto\"><div style=\"float:left;width:20px;height:20px;margin-right:5px;background-color:rgba(0.0%,0.0%,0.0%,1.000)\"></div><div style=\"float:left;width:20px;height:20px;margin-right:5px;background-color:rgba(12.1%,5.2%,3.0%,1.000)\"></div><div style=\"float:left;width:20px;height:20px;margin-right:5px;background-color:rgba(20.2%,7.8%,5.8%,1.000)\"></div><div style=\"float:left;width:20px;height:20px;margin-right:5px;background-color:rgba(29.0%,9.5%,7.7%,1.000)\"></div><div style=\"float:left;width:20px;height:20px;margin-right:5px;background-color:rgba(38.3%,10.9%,9.2%,1.000)\"></div><div style=\"float:left;width:20px;height:20px;margin-right:5px;background-color:rgba(47.9%,12.0%,10.7%,1.000)\"></div><div style=\"float:left;width:20px;height:20px;margin-right:5px;background-color:rgba(57.9%,12.7%,12.2%,1.000)\"></div><div style=\"float:left;width:20px;height:20px;margin-right:5px;background-color:rgba(67.9%,13.6%,13.5%,1.000)\"></div><div style=\"float:left;width:20px;height:20px;margin-right:5px;background-color:rgba(73.7%,22.2%,12.3%,1.000)\"></div><div style=\"float:left;width:20px;height:20px;margin-right:5px;background-color:rgba(79.0%,30.2%,10.0%,1.000)\"></div><div style=\"float:left;width:20px;height:20px;margin-right:5px;background-color:rgba(84.2%,37.6%,5.9%,1.000)\"></div><div style=\"float:left;width:20px;height:20px;margin-right:5px;background-color:rgba(87.6%,46.1%,1.7%,1.000)\"></div><div style=\"float:left;width:20px;height:20px;margin-right:5px;background-color:rgba(88.7%,55.5%,1.4%,1.000)\"></div><div style=\"float:left;width:20px;height:20px;margin-right:5px;background-color:rgba(89.5%,64.4%,1.3%,1.000)\"></div><div style=\"float:left;width:20px;height:20px;margin-right:5px;background-color:rgba(89.8%,73.1%,1.6%,1.000)\"></div><div style=\"float:left;width:20px;height:20px;margin-right:5px;background-color:rgba(89.7%,81.7%,2.3%,1.000)\"></div><div style=\"float:left;width:20px;height:20px;margin-right:5px;background-color:rgba(94.4%,87.9%,42.5%,1.000)\"></div><div style=\"float:left;width:20px;height:20px;margin-right:5px;background-color:rgba(98.3%,93.8%,71.7%,1.000)\"></div><div style=\"float:left;width:20px;height:20px;margin-right:5px;background-color:rgba(100.0%,100.0%,100.0%,1.000)\"></div></div>"
      ],
      "text/plain": [
       "array([(0.        , 0.        , 0.        , 1.),\n",
       "       (0.12121262, 0.05182058, 0.02985534, 1.),\n",
       "       (0.20190486, 0.07809638, 0.05781485, 1.),\n",
       "       (0.29019614, 0.0954109 , 0.07692582, 1.),\n",
       "       (0.38284803, 0.10946376, 0.09184625, 1.),\n",
       "       (0.47922967, 0.12007492, 0.10668759, 1.),\n",
       "       (0.57886917, 0.12712196, 0.12168303, 1.),\n",
       "       (0.67901828, 0.13559188, 0.13546291, 1.),\n",
       "       (0.73679955, 0.22180094, 0.12340917, 1.),\n",
       "       (0.78963796, 0.3016401 , 0.09995242, 1.),\n",
       "       (0.84224987, 0.37592395, 0.05915162, 1.),\n",
       "       (0.87618493, 0.46081741, 0.01748317, 1.),\n",
       "       (0.8873257 , 0.55459707, 0.01388248, 1.),\n",
       "       (0.8946607 , 0.64403484, 0.01318136, 1.),\n",
       "       (0.89806318, 0.73120648, 0.0158451 , 1.),\n",
       "       (0.89701487, 0.81707619, 0.02261938, 1.),\n",
       "       (0.9442386 , 0.87876467, 0.42500214, 1.),\n",
       "       (0.98294986, 0.93833287, 0.71702819, 1.),\n",
       "       (1.        , 1.        , 1.        , 1.)],\n",
       "      dtype=[('r', '<f8'), ('g', '<f8'), ('b', '<f8'), ('a', '<f8')])"
      ]
     },
     "execution_count": 28,
     "metadata": {},
     "output_type": "execute_result"
    }
   ],
   "source": [
    "toytree.style.get_color_mapped_feature(tree, \"X\", \"Blackbody\")"
   ]
  },
  {
   "cell_type": "code",
   "execution_count": 29,
   "id": "248eb98d-0959-44ba-9b9b-33cc15ecfde2",
   "metadata": {},
   "outputs": [
    {
     "data": {
      "text/html": [
       "<div class=\"toyplot-color-Swatches\" style=\"overflow:hidden; height:auto\"><div style=\"float:left;width:20px;height:20px;margin-right:5px;background-color:rgba(0.0%,0.0%,0.0%,1.000)\"></div><div style=\"float:left;width:20px;height:20px;margin-right:5px;background-color:rgba(6.4%,6.4%,6.4%,1.000)\"></div><div style=\"float:left;width:20px;height:20px;margin-right:5px;background-color:rgba(12.9%,12.9%,12.9%,1.000)\"></div><div style=\"float:left;width:20px;height:20px;margin-right:5px;background-color:rgba(20.4%,20.4%,20.4%,1.000)\"></div><div style=\"float:left;width:20px;height:20px;margin-right:5px;background-color:rgba(28.2%,28.2%,28.2%,1.000)\"></div><div style=\"float:left;width:20px;height:20px;margin-right:5px;background-color:rgba(35.0%,35.0%,35.0%,1.000)\"></div><div style=\"float:left;width:20px;height:20px;margin-right:5px;background-color:rgba(40.8%,40.8%,40.8%,1.000)\"></div><div style=\"float:left;width:20px;height:20px;margin-right:5px;background-color:rgba(46.6%,46.6%,46.6%,1.000)\"></div><div style=\"float:left;width:20px;height:20px;margin-right:5px;background-color:rgba(52.7%,52.7%,52.7%,1.000)\"></div><div style=\"float:left;width:20px;height:20px;margin-right:5px;background-color:rgba(58.8%,58.8%,58.8%,1.000)\"></div><div style=\"float:left;width:20px;height:20px;margin-right:5px;background-color:rgba(65.6%,65.6%,65.6%,1.000)\"></div><div style=\"float:left;width:20px;height:20px;margin-right:5px;background-color:rgba(72.4%,72.4%,72.4%,1.000)\"></div><div style=\"float:left;width:20px;height:20px;margin-right:5px;background-color:rgba(77.8%,77.8%,77.8%,1.000)\"></div><div style=\"float:left;width:20px;height:20px;margin-right:5px;background-color:rgba(82.7%,82.7%,82.7%,1.000)\"></div><div style=\"float:left;width:20px;height:20px;margin-right:5px;background-color:rgba(87.1%,87.1%,87.1%,1.000)\"></div><div style=\"float:left;width:20px;height:20px;margin-right:5px;background-color:rgba(91.1%,91.1%,91.1%,1.000)\"></div><div style=\"float:left;width:20px;height:20px;margin-right:5px;background-color:rgba(94.8%,94.8%,94.8%,1.000)\"></div><div style=\"float:left;width:20px;height:20px;margin-right:5px;background-color:rgba(97.4%,97.4%,97.4%,1.000)\"></div><div style=\"float:left;width:20px;height:20px;margin-right:5px;background-color:rgba(100.0%,100.0%,100.0%,1.000)\"></div></div>"
      ],
      "text/plain": [
       "array([(0.        , 0.        , 0.        , 1.),\n",
       "       (0.06448802, 0.06448802, 0.06448802, 1.),\n",
       "       (0.12897603, 0.12897603, 0.12897603, 1.),\n",
       "       (0.20392157, 0.20392157, 0.20392157, 1.),\n",
       "       (0.28235294, 0.28235294, 0.28235294, 1.),\n",
       "       (0.3503268 , 0.3503268 , 0.3503268 , 1.),\n",
       "       (0.40784314, 0.40784314, 0.40784314, 1.),\n",
       "       (0.46623094, 0.46623094, 0.46623094, 1.),\n",
       "       (0.52723312, 0.52723312, 0.52723312, 1.),\n",
       "       (0.58823529, 0.58823529, 0.58823529, 1.),\n",
       "       (0.65620915, 0.65620915, 0.65620915, 1.),\n",
       "       (0.72418301, 0.72418301, 0.72418301, 1.),\n",
       "       (0.77777778, 0.77777778, 0.77777778, 1.),\n",
       "       (0.82657952, 0.82657952, 0.82657952, 1.),\n",
       "       (0.87102397, 0.87102397, 0.87102397, 1.),\n",
       "       (0.91111111, 0.91111111, 0.91111111, 1.),\n",
       "       (0.94771242, 0.94771242, 0.94771242, 1.),\n",
       "       (0.97385621, 0.97385621, 0.97385621, 1.),\n",
       "       (1.        , 1.        , 1.        , 1.)],\n",
       "      dtype=[('r', '<f8'), ('g', '<f8'), ('b', '<f8'), ('a', '<f8')])"
      ]
     },
     "execution_count": 29,
     "metadata": {},
     "output_type": "execute_result"
    }
   ],
   "source": [
    "toytree.style.get_color_mapped_feature(tree, \"X\", \"Greys\")"
   ]
  },
  {
   "cell_type": "code",
   "execution_count": 30,
   "id": "8781f335-b61a-473b-af25-b5b2a02a59cd",
   "metadata": {},
   "outputs": [
    {
     "data": {
      "text/html": [
       "<div class=\"toyplot-color-Swatches\" style=\"overflow:hidden; height:auto\"><div style=\"float:left;width:20px;height:20px;margin-right:5px;background-color:rgba(89.4%,10.2%,11.0%,1.000)\"></div><div style=\"float:left;width:20px;height:20px;margin-right:5px;background-color:rgba(21.6%,49.4%,72.2%,1.000)\"></div><div style=\"float:left;width:20px;height:20px;margin-right:5px;background-color:rgba(30.2%,68.6%,29.0%,1.000)\"></div><div style=\"float:left;width:20px;height:20px;margin-right:5px;background-color:rgba(89.4%,10.2%,11.0%,1.000)\"></div><div style=\"float:left;width:20px;height:20px;margin-right:5px;background-color:rgba(89.4%,10.2%,11.0%,1.000)\"></div><div style=\"float:left;width:20px;height:20px;margin-right:5px;background-color:rgba(89.4%,10.2%,11.0%,1.000)\"></div><div style=\"float:left;width:20px;height:20px;margin-right:5px;background-color:rgba(89.4%,10.2%,11.0%,1.000)\"></div><div style=\"float:left;width:20px;height:20px;margin-right:5px;background-color:rgba(21.6%,49.4%,72.2%,1.000)\"></div><div style=\"float:left;width:20px;height:20px;margin-right:5px;background-color:rgba(89.4%,10.2%,11.0%,1.000)\"></div><div style=\"float:left;width:20px;height:20px;margin-right:5px;background-color:rgba(21.6%,49.4%,72.2%,1.000)\"></div><div style=\"float:left;width:20px;height:20px;margin-right:5px;background-color:rgba(21.6%,49.4%,72.2%,1.000)\"></div><div style=\"float:left;width:20px;height:20px;margin-right:5px;background-color:rgba(89.4%,10.2%,11.0%,1.000)\"></div><div style=\"float:left;width:20px;height:20px;margin-right:5px;background-color:rgba(21.6%,49.4%,72.2%,1.000)\"></div><div style=\"float:left;width:20px;height:20px;margin-right:5px;background-color:rgba(89.4%,10.2%,11.0%,1.000)\"></div><div style=\"float:left;width:20px;height:20px;margin-right:5px;background-color:rgba(89.4%,10.2%,11.0%,1.000)\"></div><div style=\"float:left;width:20px;height:20px;margin-right:5px;background-color:rgba(21.6%,49.4%,72.2%,1.000)\"></div><div style=\"float:left;width:20px;height:20px;margin-right:5px;background-color:rgba(89.4%,10.2%,11.0%,1.000)\"></div><div style=\"float:left;width:20px;height:20px;margin-right:5px;background-color:rgba(30.2%,68.6%,29.0%,1.000)\"></div><div style=\"float:left;width:20px;height:20px;margin-right:5px;background-color:rgba(89.4%,10.2%,11.0%,1.000)\"></div></div>"
      ],
      "text/plain": [
       "array([(0.89411765, 0.10196078, 0.10980392, 1.),\n",
       "       (0.21568627, 0.49411765, 0.72156863, 1.),\n",
       "       (0.30196078, 0.68627451, 0.29019608, 1.),\n",
       "       (0.89411765, 0.10196078, 0.10980392, 1.),\n",
       "       (0.89411765, 0.10196078, 0.10980392, 1.),\n",
       "       (0.89411765, 0.10196078, 0.10980392, 1.),\n",
       "       (0.89411765, 0.10196078, 0.10980392, 1.),\n",
       "       (0.21568627, 0.49411765, 0.72156863, 1.),\n",
       "       (0.89411765, 0.10196078, 0.10980392, 1.),\n",
       "       (0.21568627, 0.49411765, 0.72156863, 1.),\n",
       "       (0.21568627, 0.49411765, 0.72156863, 1.),\n",
       "       (0.89411765, 0.10196078, 0.10980392, 1.),\n",
       "       (0.21568627, 0.49411765, 0.72156863, 1.),\n",
       "       (0.89411765, 0.10196078, 0.10980392, 1.),\n",
       "       (0.89411765, 0.10196078, 0.10980392, 1.),\n",
       "       (0.21568627, 0.49411765, 0.72156863, 1.),\n",
       "       (0.89411765, 0.10196078, 0.10980392, 1.),\n",
       "       (0.30196078, 0.68627451, 0.29019608, 1.),\n",
       "       (0.89411765, 0.10196078, 0.10980392, 1.)],\n",
       "      dtype=[('r', '<f8'), ('g', '<f8'), ('b', '<f8'), ('a', '<f8')])"
      ]
     },
     "execution_count": 30,
     "metadata": {},
     "output_type": "execute_result"
    }
   ],
   "source": [
    "toytree.style.get_color_mapped_feature(tree, \"Y\", \"Set1\")"
   ]
  },
  {
   "cell_type": "code",
   "execution_count": 31,
   "id": "483ec759-4a37-4add-8ea2-d813e1b1fe55",
   "metadata": {},
   "outputs": [
    {
     "data": {
      "text/html": [
       "<div class=\"toyplot-color-Swatches\" style=\"overflow:hidden; height:auto\"><div style=\"float:left;width:20px;height:20px;margin-right:5px;background-color:rgba(40.0%,76.1%,64.7%,1.000)\"></div><div style=\"float:left;width:20px;height:20px;margin-right:5px;background-color:rgba(98.8%,55.3%,38.4%,1.000)\"></div><div style=\"float:left;width:20px;height:20px;margin-right:5px;background-color:rgba(55.3%,62.7%,79.6%,1.000)\"></div><div style=\"float:left;width:20px;height:20px;margin-right:5px;background-color:rgba(40.0%,76.1%,64.7%,1.000)\"></div><div style=\"float:left;width:20px;height:20px;margin-right:5px;background-color:rgba(40.0%,76.1%,64.7%,1.000)\"></div><div style=\"float:left;width:20px;height:20px;margin-right:5px;background-color:rgba(40.0%,76.1%,64.7%,1.000)\"></div><div style=\"float:left;width:20px;height:20px;margin-right:5px;background-color:rgba(40.0%,76.1%,64.7%,1.000)\"></div><div style=\"float:left;width:20px;height:20px;margin-right:5px;background-color:rgba(98.8%,55.3%,38.4%,1.000)\"></div><div style=\"float:left;width:20px;height:20px;margin-right:5px;background-color:rgba(40.0%,76.1%,64.7%,1.000)\"></div><div style=\"float:left;width:20px;height:20px;margin-right:5px;background-color:rgba(98.8%,55.3%,38.4%,1.000)\"></div><div style=\"float:left;width:20px;height:20px;margin-right:5px;background-color:rgba(98.8%,55.3%,38.4%,1.000)\"></div><div style=\"float:left;width:20px;height:20px;margin-right:5px;background-color:rgba(40.0%,76.1%,64.7%,1.000)\"></div><div style=\"float:left;width:20px;height:20px;margin-right:5px;background-color:rgba(98.8%,55.3%,38.4%,1.000)\"></div><div style=\"float:left;width:20px;height:20px;margin-right:5px;background-color:rgba(40.0%,76.1%,64.7%,1.000)\"></div><div style=\"float:left;width:20px;height:20px;margin-right:5px;background-color:rgba(40.0%,76.1%,64.7%,1.000)\"></div><div style=\"float:left;width:20px;height:20px;margin-right:5px;background-color:rgba(98.8%,55.3%,38.4%,1.000)\"></div><div style=\"float:left;width:20px;height:20px;margin-right:5px;background-color:rgba(40.0%,76.1%,64.7%,1.000)\"></div><div style=\"float:left;width:20px;height:20px;margin-right:5px;background-color:rgba(55.3%,62.7%,79.6%,1.000)\"></div><div style=\"float:left;width:20px;height:20px;margin-right:5px;background-color:rgba(40.0%,76.1%,64.7%,1.000)\"></div></div>"
      ],
      "text/plain": [
       "array([(0.4       , 0.76078431, 0.64705882, 1.),\n",
       "       (0.98823529, 0.55294118, 0.38431373, 1.),\n",
       "       (0.55294118, 0.62745098, 0.79607843, 1.),\n",
       "       (0.4       , 0.76078431, 0.64705882, 1.),\n",
       "       (0.4       , 0.76078431, 0.64705882, 1.),\n",
       "       (0.4       , 0.76078431, 0.64705882, 1.),\n",
       "       (0.4       , 0.76078431, 0.64705882, 1.),\n",
       "       (0.98823529, 0.55294118, 0.38431373, 1.),\n",
       "       (0.4       , 0.76078431, 0.64705882, 1.),\n",
       "       (0.98823529, 0.55294118, 0.38431373, 1.),\n",
       "       (0.98823529, 0.55294118, 0.38431373, 1.),\n",
       "       (0.4       , 0.76078431, 0.64705882, 1.),\n",
       "       (0.98823529, 0.55294118, 0.38431373, 1.),\n",
       "       (0.4       , 0.76078431, 0.64705882, 1.),\n",
       "       (0.4       , 0.76078431, 0.64705882, 1.),\n",
       "       (0.98823529, 0.55294118, 0.38431373, 1.),\n",
       "       (0.4       , 0.76078431, 0.64705882, 1.),\n",
       "       (0.55294118, 0.62745098, 0.79607843, 1.),\n",
       "       (0.4       , 0.76078431, 0.64705882, 1.)],\n",
       "      dtype=[('r', '<f8'), ('g', '<f8'), ('b', '<f8'), ('a', '<f8')])"
      ]
     },
     "execution_count": 31,
     "metadata": {},
     "output_type": "execute_result"
    }
   ],
   "source": [
    "toytree.style.get_color_mapped_feature(tree, \"Y\", \"Set2\")"
   ]
  },
  {
   "attachments": {},
   "cell_type": "markdown",
   "id": "6fa18f0a-b026-4c16-9072-67bf998d7fd8",
   "metadata": {},
   "source": [
    "## Using Color Mapping\n",
    "For convenience you perform colormapping in `toytree` drawing functions by using the tuple syntax, as a simpler alternative to calling the function `get_color_mapped_feature`. This simply involves entering the feature name to be colormapped inside of a tuple as `(feature-name,)`. You can provide additional arguments inside of the tuple, in order, to specify additional arguments available to the `get_color_mapped_feature` function. For example, to use a specific colormap rather than the default one you can specify the colormap name as well as `(feature-name, colormap-name)`. You can also add min, max,  and nan_value arguments, as demonstrated below. \n",
    "\n",
    "\n",
    "### Tuple Syntax\n",
    "Several examples of entering colormap arguments using the tuple syntax.\n",
    "\n",
    "- (feature,)\n",
    "- (feature, cmap)\n",
    "- (feature, cmap, min_value, max_value)\n",
    "- (feature, cmap, min_value, max_value, nan_value)\n",
    "- (feature, None, None, None, 10)"
   ]
  },
  {
   "cell_type": "code",
   "execution_count": 32,
   "id": "98f28e06-fea5-4fd1-b5ae-a90e2571ae62",
   "metadata": {},
   "outputs": [
    {
     "data": {
      "text/html": [
       "<div class=\"toyplot\" id=\"tcbf524ef5ddf4a72b3d81a8c6b4a65b3\" style=\"text-align:center\"><svg class=\"toyplot-canvas-Canvas\" xmlns:toyplot=\"http://www.sandia.gov/toyplot\" xmlns:xlink=\"http://www.w3.org/1999/xlink\" xmlns=\"http://www.w3.org/2000/svg\" width=\"300.0px\" height=\"275.0px\" viewBox=\"0 0 300.0 275.0\" preserveAspectRatio=\"xMidYMid meet\" style=\"background-color:transparent;border-color:#292724;border-style:none;border-width:1.0;fill:rgb(16.1%,15.3%,14.1%);fill-opacity:1.0;font-family:Helvetica;font-size:12px;opacity:1.0;stroke:rgb(16.1%,15.3%,14.1%);stroke-opacity:1.0;stroke-width:1.0\" id=\"t17341cde8ca245a88342b1c114371de5\"><g class=\"toyplot-coordinates-Cartesian\" id=\"t242b6c2643bb4520b36c3ce51acbbf47\"><clipPath id=\"t263fd0f5ade24799a556e774adc70ca4\"><rect x=\"35.0\" y=\"35.0\" width=\"230.0\" height=\"205.0\"></rect></clipPath><g clip-path=\"url(#t263fd0f5ade24799a556e774adc70ca4)\"><g class=\"toytree-mark-Toytree\" id=\"tb7da522f9d6441a09a2d252dc89024c6\"><g class=\"toytree-Edges\" style=\"stroke:rgb(14.5%,14.5%,14.5%);stroke-opacity:1.0;stroke-linecap:round;stroke-width:2.0;fill:none\"><path d=\"M 97.7 204.9 L 97.7 218.3 L 210.2 218.3\" id=\"11,0\" style=\"\"></path><path d=\"M 205.9 191.4 L 205.9 200.4 L 210.2 200.4\" id=\"10,1\" style=\"\"></path><path d=\"M 205.9 191.4 L 205.9 182.4 L 210.2 182.4\" id=\"10,2\" style=\"\"></path><path d=\"M 197.6 155.5 L 197.6 164.4 L 210.2 164.4\" id=\"12,3\" style=\"\"></path><path d=\"M 197.6 155.5 L 197.6 146.5 L 210.2 146.5\" id=\"12,4\" style=\"\"></path><path d=\"M 207.2 119.5 L 207.2 128.5 L 210.2 128.5\" id=\"13,5\" style=\"\"></path><path d=\"M 207.2 119.5 L 207.2 110.6 L 210.2 110.6\" id=\"13,6\" style=\"\"></path><path d=\"M 162.7 79.1 L 162.7 92.6 L 210.2 92.6\" id=\"16,7\" style=\"\"></path><path d=\"M 165.5 65.6 L 165.5 74.6 L 210.2 74.6\" id=\"15,8\" style=\"\"></path><path d=\"M 165.5 65.6 L 165.5 56.7 L 210.2 56.7\" id=\"15,9\" style=\"\"></path><path d=\"M 97.7 204.9 L 97.7 191.4 L 205.9 191.4\" id=\"11,10\" style=\"\"></path><path d=\"M 55.0 156.6 L 55.0 204.9 L 97.7 204.9\" id=\"18,11\" style=\"\"></path><path d=\"M 178.2 137.5 L 178.2 155.5 L 197.6 155.5\" id=\"14,12\" style=\"\"></path><path d=\"M 178.2 137.5 L 178.2 119.5 L 207.2 119.5\" id=\"14,13\" style=\"\"></path><path d=\"M 106.7 108.3 L 106.7 137.5 L 178.2 137.5\" id=\"17,14\" style=\"\"></path><path d=\"M 162.7 79.1 L 162.7 65.6 L 165.5 65.6\" id=\"16,15\" style=\"\"></path><path d=\"M 106.7 108.3 L 106.7 79.1 L 162.7 79.1\" id=\"17,16\" style=\"\"></path><path d=\"M 55.0 156.6 L 55.0 108.3 L 106.7 108.3\" id=\"18,17\" style=\"\"></path></g><g class=\"toytree-AdmixEdges\" style=\"fill:rgb(0.0%,0.0%,0.0%);fill-opacity:0.0;stroke:rgb(90.6%,54.1%,76.5%);stroke-opacity:0.6;font-size:14px;stroke-linecap:round;stroke-width:5\"></g><g class=\"toytree-Nodes\" style=\"fill:rgb(40.0%,76.1%,64.7%);fill-opacity:1.0;stroke:rgb(14.9%,14.9%,14.9%);stroke-opacity:1.0;stroke-width:1.5\"><g id=\"Node-0\" style=\"fill:rgb(98.5%,63.3%,35.7%)\" transform=\"translate(210.179,218.347)\"><circle r=\"5.0\"></circle></g><g id=\"Node-1\" style=\"fill:rgb(36.9%,31.0%,63.5%)\" transform=\"translate(210.179,200.381)\"><circle r=\"5.0\"></circle></g><g id=\"Node-2\" style=\"fill:rgb(38.1%,73.9%,65.6%)\" transform=\"translate(210.179,182.415)\"><circle r=\"5.0\"></circle></g><g id=\"Node-3\" style=\"fill:rgb(29.7%,64.6%,69.5%)\" transform=\"translate(210.179,164.449)\"><circle r=\"5.0\"></circle></g><g id=\"Node-4\" style=\"fill:rgb(27.7%,62.4%,70.4%)\" transform=\"translate(210.179,146.483)\"><circle r=\"5.0\"></circle></g><g id=\"Node-5\" style=\"fill:rgb(87.4%,30.2%,29.5%)\" transform=\"translate(210.179,128.517)\"><circle r=\"5.0\"></circle></g><g id=\"Node-6\" style=\"fill:rgb(63.0%,1.5%,26.1%)\" transform=\"translate(210.179,110.551)\"><circle r=\"5.0\"></circle></g><g id=\"Node-7\" style=\"fill:rgb(54.9%,81.9%,64.5%)\" transform=\"translate(210.179,92.5848)\"><circle r=\"5.0\"></circle></g><g id=\"Node-8\" style=\"fill:rgb(86.4%,28.6%,29.9%)\" transform=\"translate(210.179,74.6187)\"><circle r=\"5.0\"></circle></g><g id=\"Node-9\" style=\"fill:rgb(71.2%,10.7%,28.1%)\" transform=\"translate(210.179,56.6526)\"><circle r=\"5.0\"></circle></g><g id=\"Node-10\" style=\"fill:rgb(99.9%,96.9%,69.7%)\" transform=\"translate(205.87,191.398)\"><circle r=\"5.0\"></circle></g><g id=\"Node-11\" style=\"fill:rgb(45.1%,78.1%,64.6%)\" transform=\"translate(97.7032,204.873)\"><circle r=\"5.0\"></circle></g><g id=\"Node-12\" style=\"fill:rgb(85.7%,27.6%,30.1%)\" transform=\"translate(197.61,155.466)\"><circle r=\"5.0\"></circle></g><g id=\"Node-13\" style=\"fill:rgb(36.6%,72.2%,66.3%)\" transform=\"translate(207.177,119.534)\"><circle r=\"5.0\"></circle></g><g id=\"Node-14\" style=\"fill:rgb(96.1%,46.0%,27.8%)\" transform=\"translate(178.192,137.5)\"><circle r=\"5.0\"></circle></g><g id=\"Node-15\" style=\"fill:rgb(99.4%,76.2%,44.7%)\" transform=\"translate(165.481,65.6356)\"><circle r=\"5.0\"></circle></g><g id=\"Node-16\" style=\"fill:rgb(62.0%,0.4%,25.9%)\" transform=\"translate(162.718,79.1102)\"><circle r=\"5.0\"></circle></g><g id=\"Node-17\" style=\"fill:rgb(41.0%,76.5%,64.7%)\" transform=\"translate(106.7,108.305)\"><circle r=\"5.0\"></circle></g><g id=\"Node-18\" style=\"fill:rgb(89.2%,32.9%,28.8%)\" transform=\"translate(55.042,156.589)\"><circle r=\"5.0\"></circle></g></g><g class=\"toytree-TipLabels\" style=\"fill:rgb(14.5%,14.5%,14.5%);fill-opacity:1.0;font-family:Helvetica;font-size:12px;font-weight:300;vertical-align:baseline;white-space:pre;stroke:none\"><g class=\"toytree-TipLabel\" transform=\"translate(210.179,218.347)\"><text x=\"15.0\" y=\"3.066\" style=\"fill:rgb(14.5%,14.5%,14.5%);fill-opacity:1.0\">r0</text></g><g class=\"toytree-TipLabel\" transform=\"translate(210.179,200.381)\"><text x=\"15.0\" y=\"3.066\" style=\"fill:rgb(14.5%,14.5%,14.5%);fill-opacity:1.0\">r1</text></g><g class=\"toytree-TipLabel\" transform=\"translate(210.179,182.415)\"><text x=\"15.0\" y=\"3.066\" style=\"fill:rgb(14.5%,14.5%,14.5%);fill-opacity:1.0\">r2</text></g><g class=\"toytree-TipLabel\" transform=\"translate(210.179,164.449)\"><text x=\"15.0\" y=\"3.066\" style=\"fill:rgb(14.5%,14.5%,14.5%);fill-opacity:1.0\">r3</text></g><g class=\"toytree-TipLabel\" transform=\"translate(210.179,146.483)\"><text x=\"15.0\" y=\"3.066\" style=\"fill:rgb(14.5%,14.5%,14.5%);fill-opacity:1.0\">r4</text></g><g class=\"toytree-TipLabel\" transform=\"translate(210.179,128.517)\"><text x=\"15.0\" y=\"3.066\" style=\"fill:rgb(14.5%,14.5%,14.5%);fill-opacity:1.0\">r5</text></g><g class=\"toytree-TipLabel\" transform=\"translate(210.179,110.551)\"><text x=\"15.0\" y=\"3.066\" style=\"fill:rgb(14.5%,14.5%,14.5%);fill-opacity:1.0\">r6</text></g><g class=\"toytree-TipLabel\" transform=\"translate(210.179,92.5848)\"><text x=\"15.0\" y=\"3.066\" style=\"fill:rgb(14.5%,14.5%,14.5%);fill-opacity:1.0\">r7</text></g><g class=\"toytree-TipLabel\" transform=\"translate(210.179,74.6187)\"><text x=\"15.0\" y=\"3.066\" style=\"fill:rgb(14.5%,14.5%,14.5%);fill-opacity:1.0\">r8</text></g><g class=\"toytree-TipLabel\" transform=\"translate(210.179,56.6526)\"><text x=\"15.0\" y=\"3.066\" style=\"fill:rgb(14.5%,14.5%,14.5%);fill-opacity:1.0\">r9</text></g></g></g></g></g></svg><div class=\"toyplot-behavior\"><script>(function()\n",
       "{\n",
       "var modules={};\n",
       "})();</script></div></div>"
      ]
     },
     "metadata": {},
     "output_type": "display_data"
    }
   ],
   "source": [
    "# project \"W\" values to default 'Spectral' colormap\n",
    "tree.draw(node_colors=(\"W\",), node_sizes=10, node_mask=False);"
   ]
  },
  {
   "cell_type": "code",
   "execution_count": 33,
   "id": "64059318-f776-478b-8f1c-9ef4c9bcbdc1",
   "metadata": {},
   "outputs": [
    {
     "data": {
      "text/html": [
       "<div class=\"toyplot\" id=\"t5e856c2097c34d028cb6009d27247a27\" style=\"text-align:center\"><svg class=\"toyplot-canvas-Canvas\" xmlns:toyplot=\"http://www.sandia.gov/toyplot\" xmlns:xlink=\"http://www.w3.org/1999/xlink\" xmlns=\"http://www.w3.org/2000/svg\" width=\"300.0px\" height=\"275.0px\" viewBox=\"0 0 300.0 275.0\" preserveAspectRatio=\"xMidYMid meet\" style=\"background-color:transparent;border-color:#292724;border-style:none;border-width:1.0;fill:rgb(16.1%,15.3%,14.1%);fill-opacity:1.0;font-family:Helvetica;font-size:12px;opacity:1.0;stroke:rgb(16.1%,15.3%,14.1%);stroke-opacity:1.0;stroke-width:1.0\" id=\"ta5c752e5a536461d9b9b890eace3cde8\"><g class=\"toyplot-coordinates-Cartesian\" id=\"t8aa8b2dff39b473893b559e306ed47bc\"><clipPath id=\"t2fe121c0d9ef44e5ac2e797d323cfbdf\"><rect x=\"35.0\" y=\"35.0\" width=\"230.0\" height=\"205.0\"></rect></clipPath><g clip-path=\"url(#t2fe121c0d9ef44e5ac2e797d323cfbdf)\"><g class=\"toytree-mark-Toytree\" id=\"t76c713850456403c95f355209388c5fb\"><g class=\"toytree-Edges\" style=\"stroke:rgb(14.5%,14.5%,14.5%);stroke-opacity:1.0;stroke-linecap:round;stroke-width:2.0;fill:none\"><path d=\"M 97.7 204.9 L 97.7 218.3 L 210.2 218.3\" id=\"11,0\" style=\"\"></path><path d=\"M 205.9 191.4 L 205.9 200.4 L 210.2 200.4\" id=\"10,1\" style=\"\"></path><path d=\"M 205.9 191.4 L 205.9 182.4 L 210.2 182.4\" id=\"10,2\" style=\"\"></path><path d=\"M 197.6 155.5 L 197.6 164.4 L 210.2 164.4\" id=\"12,3\" style=\"\"></path><path d=\"M 197.6 155.5 L 197.6 146.5 L 210.2 146.5\" id=\"12,4\" style=\"\"></path><path d=\"M 207.2 119.5 L 207.2 128.5 L 210.2 128.5\" id=\"13,5\" style=\"\"></path><path d=\"M 207.2 119.5 L 207.2 110.6 L 210.2 110.6\" id=\"13,6\" style=\"\"></path><path d=\"M 162.7 79.1 L 162.7 92.6 L 210.2 92.6\" id=\"16,7\" style=\"\"></path><path d=\"M 165.5 65.6 L 165.5 74.6 L 210.2 74.6\" id=\"15,8\" style=\"\"></path><path d=\"M 165.5 65.6 L 165.5 56.7 L 210.2 56.7\" id=\"15,9\" style=\"\"></path><path d=\"M 97.7 204.9 L 97.7 191.4 L 205.9 191.4\" id=\"11,10\" style=\"\"></path><path d=\"M 55.0 156.6 L 55.0 204.9 L 97.7 204.9\" id=\"18,11\" style=\"\"></path><path d=\"M 178.2 137.5 L 178.2 155.5 L 197.6 155.5\" id=\"14,12\" style=\"\"></path><path d=\"M 178.2 137.5 L 178.2 119.5 L 207.2 119.5\" id=\"14,13\" style=\"\"></path><path d=\"M 106.7 108.3 L 106.7 137.5 L 178.2 137.5\" id=\"17,14\" style=\"\"></path><path d=\"M 162.7 79.1 L 162.7 65.6 L 165.5 65.6\" id=\"16,15\" style=\"\"></path><path d=\"M 106.7 108.3 L 106.7 79.1 L 162.7 79.1\" id=\"17,16\" style=\"\"></path><path d=\"M 55.0 156.6 L 55.0 108.3 L 106.7 108.3\" id=\"18,17\" style=\"\"></path></g><g class=\"toytree-AdmixEdges\" style=\"fill:rgb(0.0%,0.0%,0.0%);fill-opacity:0.0;stroke:rgb(90.6%,54.1%,76.5%);stroke-opacity:0.6;font-size:14px;stroke-linecap:round;stroke-width:5\"></g><g class=\"toytree-Nodes\" style=\"fill:rgb(40.0%,76.1%,64.7%);fill-opacity:1.0;stroke:rgb(14.9%,14.9%,14.9%);stroke-opacity:1.0;stroke-width:1.5\"><g id=\"Node-0\" style=\"fill:rgb(40.4%,66.3%,81.2%)\" transform=\"translate(210.179,218.347)\"><circle r=\"5.0\"></circle></g><g id=\"Node-1\" style=\"fill:rgb(96.9%,96.9%,96.9%)\" transform=\"translate(210.179,200.381)\"><circle r=\"5.0\"></circle></g><g id=\"Node-2\" style=\"fill:rgb(93.7%,54.1%,38.4%)\" transform=\"translate(210.179,182.415)\"><circle r=\"5.0\"></circle></g><g id=\"Node-3\" style=\"fill:rgb(40.4%,66.3%,81.2%)\" transform=\"translate(210.179,164.449)\"><circle r=\"5.0\"></circle></g><g id=\"Node-4\" style=\"fill:rgb(40.4%,66.3%,81.2%)\" transform=\"translate(210.179,146.483)\"><circle r=\"5.0\"></circle></g><g id=\"Node-5\" style=\"fill:rgb(40.4%,66.3%,81.2%)\" transform=\"translate(210.179,128.517)\"><circle r=\"5.0\"></circle></g><g id=\"Node-6\" style=\"fill:rgb(40.4%,66.3%,81.2%)\" transform=\"translate(210.179,110.551)\"><circle r=\"5.0\"></circle></g><g id=\"Node-7\" style=\"fill:rgb(96.9%,96.9%,96.9%)\" transform=\"translate(210.179,92.5848)\"><circle r=\"5.0\"></circle></g><g id=\"Node-8\" style=\"fill:rgb(40.4%,66.3%,81.2%)\" transform=\"translate(210.179,74.6187)\"><circle r=\"5.0\"></circle></g><g id=\"Node-9\" style=\"fill:rgb(96.9%,96.9%,96.9%)\" transform=\"translate(210.179,56.6526)\"><circle r=\"5.0\"></circle></g><g id=\"Node-10\" style=\"fill:rgb(96.9%,96.9%,96.9%)\" transform=\"translate(205.87,191.398)\"><circle r=\"5.0\"></circle></g><g id=\"Node-11\" style=\"fill:rgb(40.4%,66.3%,81.2%)\" transform=\"translate(97.7032,204.873)\"><circle r=\"5.0\"></circle></g><g id=\"Node-12\" style=\"fill:rgb(96.9%,96.9%,96.9%)\" transform=\"translate(197.61,155.466)\"><circle r=\"5.0\"></circle></g><g id=\"Node-13\" style=\"fill:rgb(40.4%,66.3%,81.2%)\" transform=\"translate(207.177,119.534)\"><circle r=\"5.0\"></circle></g><g id=\"Node-14\" style=\"fill:rgb(40.4%,66.3%,81.2%)\" transform=\"translate(178.192,137.5)\"><circle r=\"5.0\"></circle></g><g id=\"Node-15\" style=\"fill:rgb(96.9%,96.9%,96.9%)\" transform=\"translate(165.481,65.6356)\"><circle r=\"5.0\"></circle></g><g id=\"Node-16\" style=\"fill:rgb(40.4%,66.3%,81.2%)\" transform=\"translate(162.718,79.1102)\"><circle r=\"5.0\"></circle></g><g id=\"Node-17\" style=\"fill:rgb(93.7%,54.1%,38.4%)\" transform=\"translate(106.7,108.305)\"><circle r=\"5.0\"></circle></g><g id=\"Node-18\" style=\"fill:rgb(40.4%,66.3%,81.2%)\" transform=\"translate(55.042,156.589)\"><circle r=\"5.0\"></circle></g></g><g class=\"toytree-TipLabels\" style=\"fill:rgb(14.5%,14.5%,14.5%);fill-opacity:1.0;font-family:Helvetica;font-size:12px;font-weight:300;vertical-align:baseline;white-space:pre;stroke:none\"><g class=\"toytree-TipLabel\" transform=\"translate(210.179,218.347)\"><text x=\"15.0\" y=\"3.066\" style=\"fill:rgb(14.5%,14.5%,14.5%);fill-opacity:1.0\">r0</text></g><g class=\"toytree-TipLabel\" transform=\"translate(210.179,200.381)\"><text x=\"15.0\" y=\"3.066\" style=\"fill:rgb(14.5%,14.5%,14.5%);fill-opacity:1.0\">r1</text></g><g class=\"toytree-TipLabel\" transform=\"translate(210.179,182.415)\"><text x=\"15.0\" y=\"3.066\" style=\"fill:rgb(14.5%,14.5%,14.5%);fill-opacity:1.0\">r2</text></g><g class=\"toytree-TipLabel\" transform=\"translate(210.179,164.449)\"><text x=\"15.0\" y=\"3.066\" style=\"fill:rgb(14.5%,14.5%,14.5%);fill-opacity:1.0\">r3</text></g><g class=\"toytree-TipLabel\" transform=\"translate(210.179,146.483)\"><text x=\"15.0\" y=\"3.066\" style=\"fill:rgb(14.5%,14.5%,14.5%);fill-opacity:1.0\">r4</text></g><g class=\"toytree-TipLabel\" transform=\"translate(210.179,128.517)\"><text x=\"15.0\" y=\"3.066\" style=\"fill:rgb(14.5%,14.5%,14.5%);fill-opacity:1.0\">r5</text></g><g class=\"toytree-TipLabel\" transform=\"translate(210.179,110.551)\"><text x=\"15.0\" y=\"3.066\" style=\"fill:rgb(14.5%,14.5%,14.5%);fill-opacity:1.0\">r6</text></g><g class=\"toytree-TipLabel\" transform=\"translate(210.179,92.5848)\"><text x=\"15.0\" y=\"3.066\" style=\"fill:rgb(14.5%,14.5%,14.5%);fill-opacity:1.0\">r7</text></g><g class=\"toytree-TipLabel\" transform=\"translate(210.179,74.6187)\"><text x=\"15.0\" y=\"3.066\" style=\"fill:rgb(14.5%,14.5%,14.5%);fill-opacity:1.0\">r8</text></g><g class=\"toytree-TipLabel\" transform=\"translate(210.179,56.6526)\"><text x=\"15.0\" y=\"3.066\" style=\"fill:rgb(14.5%,14.5%,14.5%);fill-opacity:1.0\">r9</text></g></g></g></g></g></svg><div class=\"toyplot-behavior\"><script>(function()\n",
       "{\n",
       "var modules={};\n",
       "})();</script></div></div>"
      ]
     },
     "metadata": {},
     "output_type": "display_data"
    }
   ],
   "source": [
    "# project \"Y\" values to discrete colors\n",
    "tree.draw(node_colors=(\"Y\", \"BlueRed\"), node_sizes=10, node_mask=False);"
   ]
  },
  {
   "cell_type": "code",
   "execution_count": 34,
   "id": "444228d0-214c-4d22-ba33-9455806c2485",
   "metadata": {},
   "outputs": [
    {
     "data": {
      "text/html": [
       "<div class=\"toyplot\" id=\"t681a61d9cab1487da937f8b632d3bf5f\" style=\"text-align:center\"><svg class=\"toyplot-canvas-Canvas\" xmlns:toyplot=\"http://www.sandia.gov/toyplot\" xmlns:xlink=\"http://www.w3.org/1999/xlink\" xmlns=\"http://www.w3.org/2000/svg\" width=\"300.0px\" height=\"275.0px\" viewBox=\"0 0 300.0 275.0\" preserveAspectRatio=\"xMidYMid meet\" style=\"background-color:transparent;border-color:#292724;border-style:none;border-width:1.0;fill:rgb(16.1%,15.3%,14.1%);fill-opacity:1.0;font-family:Helvetica;font-size:12px;opacity:1.0;stroke:rgb(16.1%,15.3%,14.1%);stroke-opacity:1.0;stroke-width:1.0\" id=\"t4c716dc4b85b4beea21b79be6e0ba2ef\"><g class=\"toyplot-coordinates-Cartesian\" id=\"t7348f636c1694be5be70664b0ee138b4\"><clipPath id=\"t6925897ab5e04d798421ab11d4432ece\"><rect x=\"35.0\" y=\"35.0\" width=\"230.0\" height=\"205.0\"></rect></clipPath><g clip-path=\"url(#t6925897ab5e04d798421ab11d4432ece)\"><g class=\"toytree-mark-Toytree\" id=\"tcddbe87ace9648dca432fcf2a1d31b9d\"><g class=\"toytree-Edges\" style=\"stroke:rgb(14.5%,14.5%,14.5%);stroke-opacity:1.0;stroke-linecap:round;stroke-width:2.0;fill:none\"><path d=\"M 97.7 204.9 L 97.7 218.3 L 210.2 218.3\" id=\"11,0\" style=\"\"></path><path d=\"M 205.9 191.4 L 205.9 200.4 L 210.2 200.4\" id=\"10,1\" style=\"\"></path><path d=\"M 205.9 191.4 L 205.9 182.4 L 210.2 182.4\" id=\"10,2\" style=\"\"></path><path d=\"M 197.6 155.5 L 197.6 164.4 L 210.2 164.4\" id=\"12,3\" style=\"\"></path><path d=\"M 197.6 155.5 L 197.6 146.5 L 210.2 146.5\" id=\"12,4\" style=\"\"></path><path d=\"M 207.2 119.5 L 207.2 128.5 L 210.2 128.5\" id=\"13,5\" style=\"\"></path><path d=\"M 207.2 119.5 L 207.2 110.6 L 210.2 110.6\" id=\"13,6\" style=\"\"></path><path d=\"M 162.7 79.1 L 162.7 92.6 L 210.2 92.6\" id=\"16,7\" style=\"\"></path><path d=\"M 165.5 65.6 L 165.5 74.6 L 210.2 74.6\" id=\"15,8\" style=\"\"></path><path d=\"M 165.5 65.6 L 165.5 56.7 L 210.2 56.7\" id=\"15,9\" style=\"\"></path><path d=\"M 97.7 204.9 L 97.7 191.4 L 205.9 191.4\" id=\"11,10\" style=\"\"></path><path d=\"M 55.0 156.6 L 55.0 204.9 L 97.7 204.9\" id=\"18,11\" style=\"\"></path><path d=\"M 178.2 137.5 L 178.2 155.5 L 197.6 155.5\" id=\"14,12\" style=\"\"></path><path d=\"M 178.2 137.5 L 178.2 119.5 L 207.2 119.5\" id=\"14,13\" style=\"\"></path><path d=\"M 106.7 108.3 L 106.7 137.5 L 178.2 137.5\" id=\"17,14\" style=\"\"></path><path d=\"M 162.7 79.1 L 162.7 65.6 L 165.5 65.6\" id=\"16,15\" style=\"\"></path><path d=\"M 106.7 108.3 L 106.7 79.1 L 162.7 79.1\" id=\"17,16\" style=\"\"></path><path d=\"M 55.0 156.6 L 55.0 108.3 L 106.7 108.3\" id=\"18,17\" style=\"\"></path></g><g class=\"toytree-AdmixEdges\" style=\"fill:rgb(0.0%,0.0%,0.0%);fill-opacity:0.0;stroke:rgb(90.6%,54.1%,76.5%);stroke-opacity:0.6;font-size:14px;stroke-linecap:round;stroke-width:5\"></g><g class=\"toytree-Nodes\" style=\"fill:rgb(40.0%,76.1%,64.7%);fill-opacity:1.0;stroke:rgb(14.9%,14.9%,14.9%);stroke-opacity:1.0;stroke-width:1.5\"><g id=\"Node-0\" style=\"fill:rgb(36.9%,31.0%,63.5%)\" transform=\"translate(210.179,218.347)\"><circle r=\"5.0\"></circle></g><g id=\"Node-1\" style=\"fill:rgb(21.9%,55.9%,73.1%)\" transform=\"translate(210.179,200.381)\"><circle r=\"5.0\"></circle></g><g id=\"Node-2\" style=\"fill:rgb(46.0%,78.4%,64.6%)\" transform=\"translate(210.179,182.415)\"><circle r=\"5.0\"></circle></g><g id=\"Node-3\" style=\"fill:rgb(74.8%,89.8%,62.7%)\" transform=\"translate(210.179,164.449)\"><circle r=\"5.0\"></circle></g><g id=\"Node-4\" style=\"fill:rgb(94.6%,97.8%,66.4%)\" transform=\"translate(210.179,146.483)\"><circle r=\"5.0\"></circle></g><g id=\"Node-5\" style=\"fill:rgb(99.8%,93.2%,63.6%)\" transform=\"translate(210.179,128.517)\"><circle r=\"5.0\"></circle></g><g id=\"Node-6\" style=\"fill:rgb(99.3%,74.8%,43.5%)\" transform=\"translate(210.179,110.551)\"><circle r=\"5.0\"></circle></g><g id=\"Node-7\" style=\"fill:rgb(96.5%,48.4%,28.9%)\" transform=\"translate(210.179,92.5848)\"><circle r=\"5.0\"></circle></g><g id=\"Node-8\" style=\"fill:rgb(84.9%,26.4%,30.5%)\" transform=\"translate(210.179,74.6187)\"><circle r=\"5.0\"></circle></g><g id=\"Node-9\" style=\"fill:rgb(62.0%,0.4%,25.9%)\" transform=\"translate(210.179,56.6526)\"><circle r=\"5.0\"></circle></g><g id=\"Node-10\" style=\"fill:rgb(62.0%,0.4%,25.9%)\" transform=\"translate(205.87,191.398)\"><circle r=\"5.0\"></circle></g><g id=\"Node-11\" style=\"fill:rgb(62.0%,0.4%,25.9%)\" transform=\"translate(97.7032,204.873)\"><circle r=\"5.0\"></circle></g><g id=\"Node-12\" style=\"fill:rgb(62.0%,0.4%,25.9%)\" transform=\"translate(197.61,155.466)\"><circle r=\"5.0\"></circle></g><g id=\"Node-13\" style=\"fill:rgb(62.0%,0.4%,25.9%)\" transform=\"translate(207.177,119.534)\"><circle r=\"5.0\"></circle></g><g id=\"Node-14\" style=\"fill:rgb(62.0%,0.4%,25.9%)\" transform=\"translate(178.192,137.5)\"><circle r=\"5.0\"></circle></g><g id=\"Node-15\" style=\"fill:rgb(62.0%,0.4%,25.9%)\" transform=\"translate(165.481,65.6356)\"><circle r=\"5.0\"></circle></g><g id=\"Node-16\" style=\"fill:rgb(62.0%,0.4%,25.9%)\" transform=\"translate(162.718,79.1102)\"><circle r=\"5.0\"></circle></g><g id=\"Node-17\" style=\"fill:rgb(62.0%,0.4%,25.9%)\" transform=\"translate(106.7,108.305)\"><circle r=\"5.0\"></circle></g><g id=\"Node-18\" style=\"fill:rgb(62.0%,0.4%,25.9%)\" transform=\"translate(55.042,156.589)\"><circle r=\"5.0\"></circle></g></g><g class=\"toytree-TipLabels\" style=\"fill:rgb(14.5%,14.5%,14.5%);fill-opacity:1.0;font-family:Helvetica;font-size:12px;font-weight:300;vertical-align:baseline;white-space:pre;stroke:none\"><g class=\"toytree-TipLabel\" transform=\"translate(210.179,218.347)\"><text x=\"15.0\" y=\"3.066\" style=\"fill:rgb(14.5%,14.5%,14.5%);fill-opacity:1.0\">r0</text></g><g class=\"toytree-TipLabel\" transform=\"translate(210.179,200.381)\"><text x=\"15.0\" y=\"3.066\" style=\"fill:rgb(14.5%,14.5%,14.5%);fill-opacity:1.0\">r1</text></g><g class=\"toytree-TipLabel\" transform=\"translate(210.179,182.415)\"><text x=\"15.0\" y=\"3.066\" style=\"fill:rgb(14.5%,14.5%,14.5%);fill-opacity:1.0\">r2</text></g><g class=\"toytree-TipLabel\" transform=\"translate(210.179,164.449)\"><text x=\"15.0\" y=\"3.066\" style=\"fill:rgb(14.5%,14.5%,14.5%);fill-opacity:1.0\">r3</text></g><g class=\"toytree-TipLabel\" transform=\"translate(210.179,146.483)\"><text x=\"15.0\" y=\"3.066\" style=\"fill:rgb(14.5%,14.5%,14.5%);fill-opacity:1.0\">r4</text></g><g class=\"toytree-TipLabel\" transform=\"translate(210.179,128.517)\"><text x=\"15.0\" y=\"3.066\" style=\"fill:rgb(14.5%,14.5%,14.5%);fill-opacity:1.0\">r5</text></g><g class=\"toytree-TipLabel\" transform=\"translate(210.179,110.551)\"><text x=\"15.0\" y=\"3.066\" style=\"fill:rgb(14.5%,14.5%,14.5%);fill-opacity:1.0\">r6</text></g><g class=\"toytree-TipLabel\" transform=\"translate(210.179,92.5848)\"><text x=\"15.0\" y=\"3.066\" style=\"fill:rgb(14.5%,14.5%,14.5%);fill-opacity:1.0\">r7</text></g><g class=\"toytree-TipLabel\" transform=\"translate(210.179,74.6187)\"><text x=\"15.0\" y=\"3.066\" style=\"fill:rgb(14.5%,14.5%,14.5%);fill-opacity:1.0\">r8</text></g><g class=\"toytree-TipLabel\" transform=\"translate(210.179,56.6526)\"><text x=\"15.0\" y=\"3.066\" style=\"fill:rgb(14.5%,14.5%,14.5%);fill-opacity:1.0\">r9</text></g></g></g></g></g></svg><div class=\"toyplot-behavior\"><script>(function()\n",
       "{\n",
       "var modules={};\n",
       "})();</script></div></div>"
      ]
     },
     "metadata": {},
     "output_type": "display_data"
    }
   ],
   "source": [
    "# project \"X\" in minmax range 0-50 using the default colormap\n",
    "tree.draw(node_colors=(\"X\", None, 0, 50), node_sizes=10, node_mask=False);"
   ]
  },
  {
   "cell_type": "code",
   "execution_count": 35,
   "id": "30627482-6eb3-46cb-afd8-207ed30a802b",
   "metadata": {},
   "outputs": [
    {
     "data": {
      "text/html": [
       "<div class=\"toyplot\" id=\"ta800663105164b10ade2614affacd2ae\" style=\"text-align:center\"><svg class=\"toyplot-canvas-Canvas\" xmlns:toyplot=\"http://www.sandia.gov/toyplot\" xmlns:xlink=\"http://www.w3.org/1999/xlink\" xmlns=\"http://www.w3.org/2000/svg\" width=\"300.0px\" height=\"275.0px\" viewBox=\"0 0 300.0 275.0\" preserveAspectRatio=\"xMidYMid meet\" style=\"background-color:transparent;border-color:#292724;border-style:none;border-width:1.0;fill:rgb(16.1%,15.3%,14.1%);fill-opacity:1.0;font-family:Helvetica;font-size:12px;opacity:1.0;stroke:rgb(16.1%,15.3%,14.1%);stroke-opacity:1.0;stroke-width:1.0\" id=\"td4ca85e8649a40c58d679f1ac45962fb\"><g class=\"toyplot-coordinates-Cartesian\" id=\"tcd7c0168427f47259c7fbff7c88293a2\"><clipPath id=\"t783a63ca21d94ca48b5b2a42bbad0675\"><rect x=\"35.0\" y=\"35.0\" width=\"230.0\" height=\"205.0\"></rect></clipPath><g clip-path=\"url(#t783a63ca21d94ca48b5b2a42bbad0675)\"><g class=\"toytree-mark-Toytree\" id=\"tb5d7203b029b449a9b93665e37221736\"><g class=\"toytree-Edges\" style=\"stroke:rgb(14.5%,14.5%,14.5%);stroke-opacity:1.0;stroke-linecap:round;stroke-width:2.0;fill:none\"><path d=\"M 97.7 204.9 L 97.7 218.3 L 210.2 218.3\" id=\"11,0\" style=\"\"></path><path d=\"M 205.9 191.4 L 205.9 200.4 L 210.2 200.4\" id=\"10,1\" style=\"\"></path><path d=\"M 205.9 191.4 L 205.9 182.4 L 210.2 182.4\" id=\"10,2\" style=\"\"></path><path d=\"M 197.6 155.5 L 197.6 164.4 L 210.2 164.4\" id=\"12,3\" style=\"\"></path><path d=\"M 197.6 155.5 L 197.6 146.5 L 210.2 146.5\" id=\"12,4\" style=\"\"></path><path d=\"M 207.2 119.5 L 207.2 128.5 L 210.2 128.5\" id=\"13,5\" style=\"\"></path><path d=\"M 207.2 119.5 L 207.2 110.6 L 210.2 110.6\" id=\"13,6\" style=\"\"></path><path d=\"M 162.7 79.1 L 162.7 92.6 L 210.2 92.6\" id=\"16,7\" style=\"\"></path><path d=\"M 165.5 65.6 L 165.5 74.6 L 210.2 74.6\" id=\"15,8\" style=\"\"></path><path d=\"M 165.5 65.6 L 165.5 56.7 L 210.2 56.7\" id=\"15,9\" style=\"\"></path><path d=\"M 97.7 204.9 L 97.7 191.4 L 205.9 191.4\" id=\"11,10\" style=\"\"></path><path d=\"M 55.0 156.6 L 55.0 204.9 L 97.7 204.9\" id=\"18,11\" style=\"\"></path><path d=\"M 178.2 137.5 L 178.2 155.5 L 197.6 155.5\" id=\"14,12\" style=\"\"></path><path d=\"M 178.2 137.5 L 178.2 119.5 L 207.2 119.5\" id=\"14,13\" style=\"\"></path><path d=\"M 106.7 108.3 L 106.7 137.5 L 178.2 137.5\" id=\"17,14\" style=\"\"></path><path d=\"M 162.7 79.1 L 162.7 65.6 L 165.5 65.6\" id=\"16,15\" style=\"\"></path><path d=\"M 106.7 108.3 L 106.7 79.1 L 162.7 79.1\" id=\"17,16\" style=\"\"></path><path d=\"M 55.0 156.6 L 55.0 108.3 L 106.7 108.3\" id=\"18,17\" style=\"\"></path></g><g class=\"toytree-AdmixEdges\" style=\"fill:rgb(0.0%,0.0%,0.0%);fill-opacity:0.0;stroke:rgb(90.6%,54.1%,76.5%);stroke-opacity:0.6;font-size:14px;stroke-linecap:round;stroke-width:5\"></g><g class=\"toytree-Nodes\" style=\"fill:rgb(40.0%,76.1%,64.7%);fill-opacity:1.0;stroke:rgb(14.9%,14.9%,14.9%);stroke-opacity:1.0;stroke-width:1.5\"><g id=\"Node-0\" style=\"fill:rgb(0.0%,0.0%,0.0%)\" transform=\"translate(210.179,218.347)\"><circle r=\"5.0\"></circle></g><g id=\"Node-1\" style=\"fill:rgb(0.0%,0.0%,0.0%)\" transform=\"translate(210.179,200.381)\"><circle r=\"5.0\"></circle></g><g id=\"Node-2\" style=\"fill:rgb(12.9%,12.9%,12.9%)\" transform=\"translate(210.179,182.415)\"><circle r=\"5.0\"></circle></g><g id=\"Node-3\" style=\"fill:rgb(0.0%,0.0%,0.0%)\" transform=\"translate(210.179,164.449)\"><circle r=\"5.0\"></circle></g><g id=\"Node-4\" style=\"fill:rgb(28.2%,28.2%,28.2%)\" transform=\"translate(210.179,146.483)\"><circle r=\"5.0\"></circle></g><g id=\"Node-5\" style=\"fill:rgb(0.0%,0.0%,0.0%)\" transform=\"translate(210.179,128.517)\"><circle r=\"5.0\"></circle></g><g id=\"Node-6\" style=\"fill:rgb(40.8%,40.8%,40.8%)\" transform=\"translate(210.179,110.551)\"><circle r=\"5.0\"></circle></g><g id=\"Node-7\" style=\"fill:rgb(0.0%,0.0%,0.0%)\" transform=\"translate(210.179,92.5848)\"><circle r=\"5.0\"></circle></g><g id=\"Node-8\" style=\"fill:rgb(52.7%,52.7%,52.7%)\" transform=\"translate(210.179,74.6187)\"><circle r=\"5.0\"></circle></g><g id=\"Node-9\" style=\"fill:rgb(0.0%,0.0%,0.0%)\" transform=\"translate(210.179,56.6526)\"><circle r=\"5.0\"></circle></g><g id=\"Node-10\" style=\"fill:rgb(65.6%,65.6%,65.6%)\" transform=\"translate(205.87,191.398)\"><circle r=\"5.0\"></circle></g><g id=\"Node-11\" style=\"fill:rgb(0.0%,0.0%,0.0%)\" transform=\"translate(97.7032,204.873)\"><circle r=\"5.0\"></circle></g><g id=\"Node-12\" style=\"fill:rgb(77.8%,77.8%,77.8%)\" transform=\"translate(197.61,155.466)\"><circle r=\"5.0\"></circle></g><g id=\"Node-13\" style=\"fill:rgb(0.0%,0.0%,0.0%)\" transform=\"translate(207.177,119.534)\"><circle r=\"5.0\"></circle></g><g id=\"Node-14\" style=\"fill:rgb(87.1%,87.1%,87.1%)\" transform=\"translate(178.192,137.5)\"><circle r=\"5.0\"></circle></g><g id=\"Node-15\" style=\"fill:rgb(0.0%,0.0%,0.0%)\" transform=\"translate(165.481,65.6356)\"><circle r=\"5.0\"></circle></g><g id=\"Node-16\" style=\"fill:rgb(94.8%,94.8%,94.8%)\" transform=\"translate(162.718,79.1102)\"><circle r=\"5.0\"></circle></g><g id=\"Node-17\" style=\"fill:rgb(0.0%,0.0%,0.0%)\" transform=\"translate(106.7,108.305)\"><circle r=\"5.0\"></circle></g><g id=\"Node-18\" style=\"fill:rgb(100.0%,100.0%,100.0%)\" transform=\"translate(55.042,156.589)\"><circle r=\"5.0\"></circle></g></g><g class=\"toytree-TipLabels\" style=\"fill:rgb(14.5%,14.5%,14.5%);fill-opacity:1.0;font-family:Helvetica;font-size:12px;font-weight:300;vertical-align:baseline;white-space:pre;stroke:none\"><g class=\"toytree-TipLabel\" transform=\"translate(210.179,218.347)\"><text x=\"15.0\" y=\"3.066\" style=\"fill:rgb(14.5%,14.5%,14.5%);fill-opacity:1.0\">r0</text></g><g class=\"toytree-TipLabel\" transform=\"translate(210.179,200.381)\"><text x=\"15.0\" y=\"3.066\" style=\"fill:rgb(14.5%,14.5%,14.5%);fill-opacity:1.0\">r1</text></g><g class=\"toytree-TipLabel\" transform=\"translate(210.179,182.415)\"><text x=\"15.0\" y=\"3.066\" style=\"fill:rgb(14.5%,14.5%,14.5%);fill-opacity:1.0\">r2</text></g><g class=\"toytree-TipLabel\" transform=\"translate(210.179,164.449)\"><text x=\"15.0\" y=\"3.066\" style=\"fill:rgb(14.5%,14.5%,14.5%);fill-opacity:1.0\">r3</text></g><g class=\"toytree-TipLabel\" transform=\"translate(210.179,146.483)\"><text x=\"15.0\" y=\"3.066\" style=\"fill:rgb(14.5%,14.5%,14.5%);fill-opacity:1.0\">r4</text></g><g class=\"toytree-TipLabel\" transform=\"translate(210.179,128.517)\"><text x=\"15.0\" y=\"3.066\" style=\"fill:rgb(14.5%,14.5%,14.5%);fill-opacity:1.0\">r5</text></g><g class=\"toytree-TipLabel\" transform=\"translate(210.179,110.551)\"><text x=\"15.0\" y=\"3.066\" style=\"fill:rgb(14.5%,14.5%,14.5%);fill-opacity:1.0\">r6</text></g><g class=\"toytree-TipLabel\" transform=\"translate(210.179,92.5848)\"><text x=\"15.0\" y=\"3.066\" style=\"fill:rgb(14.5%,14.5%,14.5%);fill-opacity:1.0\">r7</text></g><g class=\"toytree-TipLabel\" transform=\"translate(210.179,74.6187)\"><text x=\"15.0\" y=\"3.066\" style=\"fill:rgb(14.5%,14.5%,14.5%);fill-opacity:1.0\">r8</text></g><g class=\"toytree-TipLabel\" transform=\"translate(210.179,56.6526)\"><text x=\"15.0\" y=\"3.066\" style=\"fill:rgb(14.5%,14.5%,14.5%);fill-opacity:1.0\">r9</text></g></g></g></g></g></svg><div class=\"toyplot-behavior\"><script>(function()\n",
       "{\n",
       "var modules={};\n",
       "})();</script></div></div>"
      ]
     },
     "metadata": {},
     "output_type": "display_data"
    }
   ],
   "source": [
    "# project \"Z\" to \"Greys\" colormap with nan_values set to 0 (black)\n",
    "tree.draw(node_colors=(\"Z\", \"Greys\", None, None, 0), node_sizes=10, node_mask=False);"
   ]
  },
  {
   "cell_type": "markdown",
   "id": "674c2e58-b799-4521-bc98-84351a9ee105",
   "metadata": {},
   "source": [
    "Colormapping by the tuple syntax is also supported when using the `annotation` subpackage to add drawing annotations after initially creating a tree drawing, like in the example below."
   ]
  },
  {
   "cell_type": "code",
   "execution_count": 36,
   "id": "c1c746d2-49a5-4b59-8724-a61d1841636c",
   "metadata": {},
   "outputs": [
    {
     "data": {
      "text/html": [
       "<div class=\"toyplot\" id=\"tc20be0a80ae94b4a89739d0ab47b7951\" style=\"text-align:center\"><svg class=\"toyplot-canvas-Canvas\" xmlns:toyplot=\"http://www.sandia.gov/toyplot\" xmlns:xlink=\"http://www.w3.org/1999/xlink\" xmlns=\"http://www.w3.org/2000/svg\" width=\"300.0px\" height=\"275.0px\" viewBox=\"0 0 300.0 275.0\" preserveAspectRatio=\"xMidYMid meet\" style=\"background-color:transparent;border-color:#292724;border-style:none;border-width:1.0;fill:rgb(16.1%,15.3%,14.1%);fill-opacity:1.0;font-family:Helvetica;font-size:12px;opacity:1.0;stroke:rgb(16.1%,15.3%,14.1%);stroke-opacity:1.0;stroke-width:1.0\" id=\"td9d83bf5bda5451eb2bea680862343c2\"><g class=\"toyplot-coordinates-Cartesian\" id=\"t7ac5aeb8739d479fbb5c910297da0fa6\"><clipPath id=\"t0b432c181180426a8334e2d7bdfc07aa\"><rect x=\"35.0\" y=\"35.0\" width=\"230.0\" height=\"205.0\"></rect></clipPath><g clip-path=\"url(#t0b432c181180426a8334e2d7bdfc07aa)\"><g class=\"toytree-mark-Toytree\" id=\"t3bd52129f4324e80a3837815c3161dd8\"><g class=\"toytree-Edges\" style=\"stroke:rgb(14.5%,14.5%,14.5%);stroke-opacity:1.0;stroke-linecap:round;stroke-width:2.0;fill:none\"><path d=\"M 97.1 204.9 L 97.1 218.3 L 210.0 218.3\" id=\"11,0\" style=\"\"></path><path d=\"M 205.7 191.4 L 205.7 200.4 L 210.0 200.4\" id=\"10,1\" style=\"\"></path><path d=\"M 205.7 191.4 L 205.7 182.4 L 210.0 182.4\" id=\"10,2\" style=\"\"></path><path d=\"M 197.4 155.5 L 197.4 164.4 L 210.0 164.4\" id=\"12,3\" style=\"\"></path><path d=\"M 197.4 155.5 L 197.4 146.5 L 210.0 146.5\" id=\"12,4\" style=\"\"></path><path d=\"M 207.0 119.5 L 207.0 128.5 L 210.0 128.5\" id=\"13,5\" style=\"\"></path><path d=\"M 207.0 119.5 L 207.0 110.6 L 210.0 110.6\" id=\"13,6\" style=\"\"></path><path d=\"M 162.4 79.1 L 162.4 92.6 L 210.0 92.6\" id=\"16,7\" style=\"\"></path><path d=\"M 165.2 65.6 L 165.2 74.6 L 210.0 74.6\" id=\"15,8\" style=\"\"></path><path d=\"M 165.2 65.6 L 165.2 56.7 L 210.0 56.7\" id=\"15,9\" style=\"\"></path><path d=\"M 97.1 204.9 L 97.1 191.4 L 205.7 191.4\" id=\"11,10\" style=\"\"></path><path d=\"M 54.3 156.6 L 54.3 204.9 L 97.1 204.9\" id=\"18,11\" style=\"\"></path><path d=\"M 177.9 137.5 L 177.9 155.5 L 197.4 155.5\" id=\"14,12\" style=\"\"></path><path d=\"M 177.9 137.5 L 177.9 119.5 L 207.0 119.5\" id=\"14,13\" style=\"\"></path><path d=\"M 106.1 108.3 L 106.1 137.5 L 177.9 137.5\" id=\"17,14\" style=\"\"></path><path d=\"M 162.4 79.1 L 162.4 65.6 L 165.2 65.6\" id=\"16,15\" style=\"\"></path><path d=\"M 106.1 108.3 L 106.1 79.1 L 162.4 79.1\" id=\"17,16\" style=\"\"></path><path d=\"M 54.3 156.6 L 54.3 108.3 L 106.1 108.3\" id=\"18,17\" style=\"\"></path></g><g class=\"toytree-AdmixEdges\" style=\"fill:rgb(0.0%,0.0%,0.0%);fill-opacity:0.0;stroke:rgb(90.6%,54.1%,76.5%);stroke-opacity:0.6;font-size:14px;stroke-linecap:round;stroke-width:5\"></g><g class=\"toytree-Nodes\" style=\"fill:rgb(40.0%,76.1%,64.7%);fill-opacity:1.0;stroke:rgb(14.9%,14.9%,14.9%);stroke-opacity:1.0;stroke-width:1.5\"></g><g class=\"toytree-TipLabels\" style=\"fill:rgb(14.5%,14.5%,14.5%);fill-opacity:1.0;font-family:Helvetica;font-size:12px;font-weight:300;vertical-align:baseline;white-space:pre;stroke:none\"><g class=\"toytree-TipLabel\" transform=\"translate(210.024,218.347)\"><text x=\"15.0\" y=\"3.066\" style=\"fill:rgb(14.5%,14.5%,14.5%);fill-opacity:1.0\">r0</text></g><g class=\"toytree-TipLabel\" transform=\"translate(210.024,200.381)\"><text x=\"15.0\" y=\"3.066\" style=\"fill:rgb(14.5%,14.5%,14.5%);fill-opacity:1.0\">r1</text></g><g class=\"toytree-TipLabel\" transform=\"translate(210.024,182.415)\"><text x=\"15.0\" y=\"3.066\" style=\"fill:rgb(14.5%,14.5%,14.5%);fill-opacity:1.0\">r2</text></g><g class=\"toytree-TipLabel\" transform=\"translate(210.024,164.449)\"><text x=\"15.0\" y=\"3.066\" style=\"fill:rgb(14.5%,14.5%,14.5%);fill-opacity:1.0\">r3</text></g><g class=\"toytree-TipLabel\" transform=\"translate(210.024,146.483)\"><text x=\"15.0\" y=\"3.066\" style=\"fill:rgb(14.5%,14.5%,14.5%);fill-opacity:1.0\">r4</text></g><g class=\"toytree-TipLabel\" transform=\"translate(210.024,128.517)\"><text x=\"15.0\" y=\"3.066\" style=\"fill:rgb(14.5%,14.5%,14.5%);fill-opacity:1.0\">r5</text></g><g class=\"toytree-TipLabel\" transform=\"translate(210.024,110.551)\"><text x=\"15.0\" y=\"3.066\" style=\"fill:rgb(14.5%,14.5%,14.5%);fill-opacity:1.0\">r6</text></g><g class=\"toytree-TipLabel\" transform=\"translate(210.024,92.5848)\"><text x=\"15.0\" y=\"3.066\" style=\"fill:rgb(14.5%,14.5%,14.5%);fill-opacity:1.0\">r7</text></g><g class=\"toytree-TipLabel\" transform=\"translate(210.024,74.6187)\"><text x=\"15.0\" y=\"3.066\" style=\"fill:rgb(14.5%,14.5%,14.5%);fill-opacity:1.0\">r8</text></g><g class=\"toytree-TipLabel\" transform=\"translate(210.024,56.6526)\"><text x=\"15.0\" y=\"3.066\" style=\"fill:rgb(14.5%,14.5%,14.5%);fill-opacity:1.0\">r9</text></g></g></g><g class=\"toytree-Annotation-Markers\" id=\"tbe57fdd4d6f0436cb7042260f687bf70\" style=\"stroke:rgb(14.9%,14.9%,14.9%);stroke-opacity:1.0;stroke-width:1.5\"><g id=\"Mark-0\" style=\"fill:rgb(2.0%,18.8%,38.0%);fill-opacity:[1. 1. 1. 1. 1. 1. 1. 1. 1. 1. 1. 1. 1. 1. 1. 1. 1. 1. 1.]\" transform=\"translate(210.024,218.347)\"><circle r=\"4.0\"></circle></g><g id=\"Mark-1\" style=\"fill:rgb(8.1%,30.6%,54.4%);fill-opacity:[1. 1. 1. 1. 1. 1. 1. 1. 1. 1. 1. 1. 1. 1. 1. 1. 1. 1. 1.]\" transform=\"translate(210.024,200.381)\"><circle r=\"4.0\"></circle></g><g id=\"Mark-2\" style=\"fill:rgb(14.4%,42.0%,68.5%);fill-opacity:[1. 1. 1. 1. 1. 1. 1. 1. 1. 1. 1. 1. 1. 1. 1. 1. 1. 1. 1.]\" transform=\"translate(210.024,182.415)\"><circle r=\"4.0\"></circle></g><g id=\"Mark-3\" style=\"fill:rgb(21.8%,51.8%,73.5%);fill-opacity:[1. 1. 1. 1. 1. 1. 1. 1. 1. 1. 1. 1. 1. 1. 1. 1. 1. 1. 1.]\" transform=\"translate(210.024,164.449)\"><circle r=\"4.0\"></circle></g><g id=\"Mark-4\" style=\"fill:rgb(33.2%,62.0%,78.8%);fill-opacity:[1. 1. 1. 1. 1. 1. 1. 1. 1. 1. 1. 1. 1. 1. 1. 1. 1. 1. 1.]\" transform=\"translate(210.024,146.483)\"><circle r=\"4.0\"></circle></g><g id=\"Mark-5\" style=\"fill:rgb(50.4%,72.9%,84.7%);fill-opacity:[1. 1. 1. 1. 1. 1. 1. 1. 1. 1. 1. 1. 1. 1. 1. 1. 1. 1. 1.]\" transform=\"translate(210.024,128.517)\"><circle r=\"4.0\"></circle></g><g id=\"Mark-6\" style=\"fill:rgb(65.5%,81.4%,89.4%);fill-opacity:[1. 1. 1. 1. 1. 1. 1. 1. 1. 1. 1. 1. 1. 1. 1. 1. 1. 1. 1.]\" transform=\"translate(210.024,110.551)\"><circle r=\"4.0\"></circle></g><g id=\"Mark-7\" style=\"fill:rgb(79.2%,88.4%,93.3%);fill-opacity:[1. 1. 1. 1. 1. 1. 1. 1. 1. 1. 1. 1. 1. 1. 1. 1. 1. 1. 1.]\" transform=\"translate(210.024,92.5848)\"><circle r=\"4.0\"></circle></g><g id=\"Mark-8\" style=\"fill:rgb(88.6%,92.9%,95.3%);fill-opacity:[1. 1. 1. 1. 1. 1. 1. 1. 1. 1. 1. 1. 1. 1. 1. 1. 1. 1. 1.]\" transform=\"translate(210.024,74.6187)\"><circle r=\"4.0\"></circle></g><g id=\"Mark-9\" style=\"fill:rgb(96.9%,96.9%,96.9%);fill-opacity:[1. 1. 1. 1. 1. 1. 1. 1. 1. 1. 1. 1. 1. 1. 1. 1. 1. 1. 1.]\" transform=\"translate(210.024,56.6526)\"><circle r=\"4.0\"></circle></g><g id=\"Mark-10\" style=\"fill:rgb(98.2%,90.8%,86.4%);fill-opacity:[1. 1. 1. 1. 1. 1. 1. 1. 1. 1. 1. 1. 1. 1. 1. 1. 1. 1. 1.]\" transform=\"translate(205.698,191.398)\"><circle r=\"4.0\"></circle></g><g id=\"Mark-11\" style=\"fill:rgb(98.8%,83.5%,75.0%);fill-opacity:[1. 1. 1. 1. 1. 1. 1. 1. 1. 1. 1. 1. 1. 1. 1. 1. 1. 1. 1.]\" transform=\"translate(97.1103,204.873)\"><circle r=\"4.0\"></circle></g><g id=\"Mark-12\" style=\"fill:rgb(96.9%,71.8%,60.0%);fill-opacity:[1. 1. 1. 1. 1. 1. 1. 1. 1. 1. 1. 1. 1. 1. 1. 1. 1. 1. 1.]\" transform=\"translate(197.406,155.466)\"><circle r=\"4.0\"></circle></g><g id=\"Mark-13\" style=\"fill:rgb(93.1%,58.7%,46.4%);fill-opacity:[1. 1. 1. 1. 1. 1. 1. 1. 1. 1. 1. 1. 1. 1. 1. 1. 1. 1. 1.]\" transform=\"translate(207.01,119.534)\"><circle r=\"4.0\"></circle></g><g id=\"Mark-14\" style=\"fill:rgb(86.5%,43.7%,34.8%);fill-opacity:[1. 1. 1. 1. 1. 1. 1. 1. 1. 1. 1. 1. 1. 1. 1. 1. 1. 1. 1.]\" transform=\"translate(177.912,137.5)\"><circle r=\"4.0\"></circle></g><g id=\"Mark-15\" style=\"fill:rgb(79.2%,28.2%,25.8%);fill-opacity:[1. 1. 1. 1. 1. 1. 1. 1. 1. 1. 1. 1. 1. 1. 1. 1. 1. 1. 1.]\" transform=\"translate(165.151,65.6356)\"><circle r=\"4.0\"></circle></g><g id=\"Mark-16\" style=\"fill:rgb(71.4%,12.5%,18.3%);fill-opacity:[1. 1. 1. 1. 1. 1. 1. 1. 1. 1. 1. 1. 1. 1. 1. 1. 1. 1. 1.]\" transform=\"translate(162.378,79.1102)\"><circle r=\"4.0\"></circle></g><g id=\"Mark-17\" style=\"fill:rgb(56.7%,5.2%,14.8%);fill-opacity:[1. 1. 1. 1. 1. 1. 1. 1. 1. 1. 1. 1. 1. 1. 1. 1. 1. 1. 1.]\" transform=\"translate(106.142,108.305)\"><circle r=\"4.0\"></circle></g><g id=\"Mark-18\" style=\"fill:rgb(40.4%,0.0%,12.2%);fill-opacity:[1. 1. 1. 1. 1. 1. 1. 1. 1. 1. 1. 1. 1. 1. 1. 1. 1. 1. 1.]\" transform=\"translate(54.2829,156.589)\"><circle r=\"4.0\"></circle></g></g></g></g></svg><div class=\"toyplot-behavior\"><script>(function()\n",
       "{\n",
       "var modules={};\n",
       "})();</script></div></div>"
      ]
     },
     "metadata": {},
     "output_type": "display_data"
    }
   ],
   "source": [
    "# draw a tree and add node marker annotations w/ colormapped \"X\"\n",
    "canvas, axes, mark  = tree.draw();\n",
    "tree.annotate.add_node_markers(axes, color=(\"X\", \"BlueRed\"), mask=False);"
   ]
  },
  {
   "cell_type": "markdown",
   "id": "6457a60e-5c43-4e16-b4a0-b70e355be8a7",
   "metadata": {},
   "source": [
    "## Using toyplot.color.Map objects\n",
    "The function `get_color_mapped_feature` provides a convenient way to map data to colors that would otherwise require additional experience and knowledge about the `toyplot.color` library. Nevertheless,  advanced users may want to become familiar with the core objects and functions available in this library to expand the options that are available. In addition to selecting a colormap by name when using colormapping in `toytree` you can alternative pass it a `toyplot.color.Map` object and it will use this instead. This example demonstrates creating a custom colormap that blends two colors."
   ]
  },
  {
   "cell_type": "code",
   "execution_count": 37,
   "id": "e4926e59-7f72-40f4-9178-8dc7d9d40b1e",
   "metadata": {},
   "outputs": [
    {
     "data": {
      "text/html": [
       "<div class=\"toyplot-color-DivergingMap\" style=\"overflow:hidden; height:auto\"><div style=\"float:left;width:200px;height:20px;background:linear-gradient(to right,rgba(85.5%,64.7%,12.6%,1.000) 0.0%,rgba(86.9%,66.3%,17.0%,1.000) 1.6%,rgba(88.2%,67.8%,20.9%,1.000) 3.2%,rgba(89.5%,69.3%,24.4%,1.000) 4.8%,rgba(90.6%,70.7%,27.7%,1.000) 6.3%,rgba(91.7%,72.0%,30.8%,1.000) 7.9%,rgba(92.6%,73.4%,33.8%,1.000) 9.5%,rgba(93.5%,74.6%,36.7%,1.000) 11.1%,rgba(94.3%,75.8%,39.5%,1.000) 12.7%,rgba(95.0%,77.0%,42.3%,1.000) 14.3%,rgba(95.6%,78.0%,44.9%,1.000) 15.9%,rgba(96.1%,79.1%,47.5%,1.000) 17.5%,rgba(96.5%,80.0%,50.1%,1.000) 19.0%,rgba(96.8%,80.9%,52.6%,1.000) 20.6%,rgba(97.0%,81.8%,55.0%,1.000) 22.2%,rgba(97.2%,82.6%,57.3%,1.000) 23.8%,rgba(97.2%,83.3%,59.6%,1.000) 25.4%,rgba(97.2%,84.0%,61.8%,1.000) 27.0%,rgba(97.0%,84.6%,64.0%,1.000) 28.6%,rgba(96.8%,85.1%,66.1%,1.000) 30.2%,rgba(96.5%,85.6%,68.1%,1.000) 31.7%,rgba(96.1%,86.0%,70.1%,1.000) 33.3%,rgba(95.6%,86.3%,72.0%,1.000) 34.9%,rgba(95.0%,86.6%,73.8%,1.000) 36.5%,rgba(94.3%,86.8%,75.5%,1.000) 38.1%,rgba(93.6%,87.0%,77.2%,1.000) 39.7%,rgba(92.7%,87.1%,78.9%,1.000) 41.3%,rgba(91.8%,87.1%,80.4%,1.000) 42.9%,rgba(90.8%,87.1%,81.9%,1.000) 44.4%,rgba(89.7%,87.0%,83.3%,1.000) 46.0%,rgba(88.5%,86.9%,84.7%,1.000) 47.6%,rgba(87.2%,86.7%,85.9%,1.000) 49.2%,rgba(85.8%,86.2%,85.7%,1.000) 50.8%,rgba(84.3%,85.4%,83.9%,1.000) 52.4%,rgba(82.7%,84.7%,82.3%,1.000) 54.0%,rgba(81.0%,83.9%,80.6%,1.000) 55.6%,rgba(79.2%,83.1%,79.1%,1.000) 57.1%,rgba(77.4%,82.3%,77.5%,1.000) 58.7%,rgba(75.4%,81.5%,76.1%,1.000) 60.3%,rgba(73.4%,80.7%,74.7%,1.000) 61.9%,rgba(71.4%,79.8%,73.3%,1.000) 63.5%,rgba(69.2%,78.9%,72.0%,1.000) 65.1%,rgba(67.0%,78.0%,70.8%,1.000) 66.7%,rgba(64.8%,77.1%,69.6%,1.000) 68.3%,rgba(62.5%,76.1%,68.4%,1.000) 69.8%,rgba(60.2%,75.2%,67.3%,1.000) 71.4%,rgba(57.8%,74.2%,66.3%,1.000) 73.0%,rgba(55.3%,73.2%,65.3%,1.000) 74.6%,rgba(52.9%,72.1%,64.4%,1.000) 76.2%,rgba(50.4%,71.1%,63.5%,1.000) 77.8%,rgba(47.8%,70.0%,62.6%,1.000) 79.4%,rgba(45.2%,68.9%,61.8%,1.000) 81.0%,rgba(42.6%,67.8%,61.1%,1.000) 82.5%,rgba(39.9%,66.7%,60.3%,1.000) 84.1%,rgba(37.2%,65.5%,59.7%,1.000) 85.7%,rgba(34.4%,64.3%,59.0%,1.000) 87.3%,rgba(31.5%,63.2%,58.4%,1.000) 88.9%,rgba(28.5%,62.0%,57.8%,1.000) 90.5%,rgba(25.4%,60.7%,57.2%,1.000) 92.1%,rgba(22.1%,59.5%,56.6%,1.000) 93.7%,rgba(18.5%,58.3%,56.1%,1.000) 95.2%,rgba(14.3%,57.0%,55.5%,1.000) 96.8%,rgba(9.0%,55.8%,55.0%,1.000) 98.4%,rgba(0.0%,54.5%,54.5%,1.000) 100.0%)\"></div></div>"
      ],
      "text/plain": [
       "<toyplot.color.DivergingMap at 0x7f1006e8d180>"
      ]
     },
     "execution_count": 37,
     "metadata": {},
     "output_type": "execute_result"
    }
   ],
   "source": [
    "# create a custom Diverging colormap\n",
    "col0 = toyplot.color.css(\"goldenrod\")\n",
    "col1 = toyplot.color.css(\"darkcyan\")\n",
    "custom_map = toyplot.color.DivergingMap(low=col0, high=col1, domain_min=0, domain_max=1)\n",
    "custom_map"
   ]
  },
  {
   "cell_type": "code",
   "execution_count": 38,
   "id": "40a5c86e-658c-4937-a577-7e5d4f64db41",
   "metadata": {},
   "outputs": [
    {
     "data": {
      "text/html": [
       "<div class=\"toyplot\" id=\"ta508a0caaa03442781d37c99a246c16c\" style=\"text-align:center\"><svg class=\"toyplot-canvas-Canvas\" xmlns:toyplot=\"http://www.sandia.gov/toyplot\" xmlns:xlink=\"http://www.w3.org/1999/xlink\" xmlns=\"http://www.w3.org/2000/svg\" width=\"300.0px\" height=\"275.0px\" viewBox=\"0 0 300.0 275.0\" preserveAspectRatio=\"xMidYMid meet\" style=\"background-color:transparent;border-color:#292724;border-style:none;border-width:1.0;fill:rgb(16.1%,15.3%,14.1%);fill-opacity:1.0;font-family:Helvetica;font-size:12px;opacity:1.0;stroke:rgb(16.1%,15.3%,14.1%);stroke-opacity:1.0;stroke-width:1.0\" id=\"tf6262b46d27646e48cde9a97be59dbe8\"><g class=\"toyplot-coordinates-Cartesian\" id=\"t290558c8461b4f7d842c454682844b75\"><clipPath id=\"t3e33a58f1b974e4ebc43f41bebe26ca9\"><rect x=\"35.0\" y=\"35.0\" width=\"230.0\" height=\"205.0\"></rect></clipPath><g clip-path=\"url(#t3e33a58f1b974e4ebc43f41bebe26ca9)\"><g class=\"toytree-mark-Toytree\" id=\"tbfb839249dbc46b5b10001941d6aeb01\"><g class=\"toytree-Edges\" style=\"stroke:rgb(14.5%,14.5%,14.5%);stroke-opacity:1.0;stroke-linecap:round;stroke-width:2.0;fill:none\"><path d=\"M 97.7 204.9 L 97.7 218.3 L 210.2 218.3\" id=\"11,0\" style=\"\"></path><path d=\"M 205.9 191.4 L 205.9 200.4 L 210.2 200.4\" id=\"10,1\" style=\"\"></path><path d=\"M 205.9 191.4 L 205.9 182.4 L 210.2 182.4\" id=\"10,2\" style=\"\"></path><path d=\"M 197.6 155.5 L 197.6 164.4 L 210.2 164.4\" id=\"12,3\" style=\"\"></path><path d=\"M 197.6 155.5 L 197.6 146.5 L 210.2 146.5\" id=\"12,4\" style=\"\"></path><path d=\"M 207.2 119.5 L 207.2 128.5 L 210.2 128.5\" id=\"13,5\" style=\"\"></path><path d=\"M 207.2 119.5 L 207.2 110.6 L 210.2 110.6\" id=\"13,6\" style=\"\"></path><path d=\"M 162.7 79.1 L 162.7 92.6 L 210.2 92.6\" id=\"16,7\" style=\"\"></path><path d=\"M 165.5 65.6 L 165.5 74.6 L 210.2 74.6\" id=\"15,8\" style=\"\"></path><path d=\"M 165.5 65.6 L 165.5 56.7 L 210.2 56.7\" id=\"15,9\" style=\"\"></path><path d=\"M 97.7 204.9 L 97.7 191.4 L 205.9 191.4\" id=\"11,10\" style=\"\"></path><path d=\"M 55.0 156.6 L 55.0 204.9 L 97.7 204.9\" id=\"18,11\" style=\"\"></path><path d=\"M 178.2 137.5 L 178.2 155.5 L 197.6 155.5\" id=\"14,12\" style=\"\"></path><path d=\"M 178.2 137.5 L 178.2 119.5 L 207.2 119.5\" id=\"14,13\" style=\"\"></path><path d=\"M 106.7 108.3 L 106.7 137.5 L 178.2 137.5\" id=\"17,14\" style=\"\"></path><path d=\"M 162.7 79.1 L 162.7 65.6 L 165.5 65.6\" id=\"16,15\" style=\"\"></path><path d=\"M 106.7 108.3 L 106.7 79.1 L 162.7 79.1\" id=\"17,16\" style=\"\"></path><path d=\"M 55.0 156.6 L 55.0 108.3 L 106.7 108.3\" id=\"18,17\" style=\"\"></path></g><g class=\"toytree-AdmixEdges\" style=\"fill:rgb(0.0%,0.0%,0.0%);fill-opacity:0.0;stroke:rgb(90.6%,54.1%,76.5%);stroke-opacity:0.6;font-size:14px;stroke-linecap:round;stroke-width:5\"></g><g class=\"toytree-Nodes\" style=\"fill:rgb(40.0%,76.1%,64.7%);fill-opacity:1.0;stroke:rgb(14.9%,14.9%,14.9%);stroke-opacity:1.0;stroke-width:1.5\"><g id=\"Node-0\" style=\"fill:rgb(64.8%,77.1%,69.6%)\" transform=\"translate(210.179,218.347)\"><circle r=\"5.0\"></circle></g><g id=\"Node-1\" style=\"fill:rgb(89.9%,69.8%,25.7%)\" transform=\"translate(210.179,200.381)\"><circle r=\"5.0\"></circle></g><g id=\"Node-2\" style=\"fill:rgb(97.0%,81.7%,54.7%)\" transform=\"translate(210.179,182.415)\"><circle r=\"5.0\"></circle></g><g id=\"Node-3\" style=\"fill:rgb(96.3%,79.7%,49.1%)\" transform=\"translate(210.179,164.449)\"><circle r=\"5.0\"></circle></g><g id=\"Node-4\" style=\"fill:rgb(96.1%,79.2%,47.8%)\" transform=\"translate(210.179,146.483)\"><circle r=\"5.0\"></circle></g><g id=\"Node-5\" style=\"fill:rgb(44.8%,68.7%,61.7%)\" transform=\"translate(210.179,128.517)\"><circle r=\"5.0\"></circle></g><g id=\"Node-6\" style=\"fill:rgb(24.9%,60.5%,57.1%)\" transform=\"translate(210.179,110.551)\"><circle r=\"5.0\"></circle></g><g id=\"Node-7\" style=\"fill:rgb(97.1%,84.2%,62.7%)\" transform=\"translate(210.179,92.5848)\"><circle r=\"5.0\"></circle></g><g id=\"Node-8\" style=\"fill:rgb(43.6%,68.2%,61.3%)\" transform=\"translate(210.179,74.6187)\"><circle r=\"5.0\"></circle></g><g id=\"Node-9\" style=\"fill:rgb(31.3%,63.1%,58.3%)\" transform=\"translate(210.179,56.6526)\"><circle r=\"5.0\"></circle></g><g id=\"Node-10\" style=\"fill:rgb(85.4%,85.9%,85.1%)\" transform=\"translate(205.87,191.398)\"><circle r=\"5.0\"></circle></g><g id=\"Node-11\" style=\"fill:rgb(97.2%,82.9%,58.3%)\" transform=\"translate(97.7032,204.873)\"><circle r=\"5.0\"></circle></g><g id=\"Node-12\" style=\"fill:rgb(42.8%,67.9%,61.1%)\" transform=\"translate(197.61,155.466)\"><circle r=\"5.0\"></circle></g><g id=\"Node-13\" style=\"fill:rgb(96.9%,81.3%,53.7%)\" transform=\"translate(207.177,119.534)\"><circle r=\"5.0\"></circle></g><g id=\"Node-14\" style=\"fill:rgb(56.0%,73.5%,65.6%)\" transform=\"translate(178.192,137.5)\"><circle r=\"5.0\"></circle></g><g id=\"Node-15\" style=\"fill:rgb(72.0%,80.1%,73.7%)\" transform=\"translate(165.481,65.6356)\"><circle r=\"5.0\"></circle></g><g id=\"Node-16\" style=\"fill:rgb(24.0%,60.2%,56.9%)\" transform=\"translate(162.718,79.1102)\"><circle r=\"5.0\"></circle></g><g id=\"Node-17\" style=\"fill:rgb(97.1%,82.3%,56.4%)\" transform=\"translate(106.7,108.305)\"><circle r=\"5.0\"></circle></g><g id=\"Node-18\" style=\"fill:rgb(46.9%,69.6%,62.4%)\" transform=\"translate(55.042,156.589)\"><circle r=\"5.0\"></circle></g></g><g class=\"toytree-TipLabels\" style=\"fill:rgb(14.5%,14.5%,14.5%);fill-opacity:1.0;font-family:Helvetica;font-size:12px;font-weight:300;vertical-align:baseline;white-space:pre;stroke:none\"><g class=\"toytree-TipLabel\" transform=\"translate(210.179,218.347)\"><text x=\"15.0\" y=\"3.066\" style=\"fill:rgb(14.5%,14.5%,14.5%);fill-opacity:1.0\">r0</text></g><g class=\"toytree-TipLabel\" transform=\"translate(210.179,200.381)\"><text x=\"15.0\" y=\"3.066\" style=\"fill:rgb(14.5%,14.5%,14.5%);fill-opacity:1.0\">r1</text></g><g class=\"toytree-TipLabel\" transform=\"translate(210.179,182.415)\"><text x=\"15.0\" y=\"3.066\" style=\"fill:rgb(14.5%,14.5%,14.5%);fill-opacity:1.0\">r2</text></g><g class=\"toytree-TipLabel\" transform=\"translate(210.179,164.449)\"><text x=\"15.0\" y=\"3.066\" style=\"fill:rgb(14.5%,14.5%,14.5%);fill-opacity:1.0\">r3</text></g><g class=\"toytree-TipLabel\" transform=\"translate(210.179,146.483)\"><text x=\"15.0\" y=\"3.066\" style=\"fill:rgb(14.5%,14.5%,14.5%);fill-opacity:1.0\">r4</text></g><g class=\"toytree-TipLabel\" transform=\"translate(210.179,128.517)\"><text x=\"15.0\" y=\"3.066\" style=\"fill:rgb(14.5%,14.5%,14.5%);fill-opacity:1.0\">r5</text></g><g class=\"toytree-TipLabel\" transform=\"translate(210.179,110.551)\"><text x=\"15.0\" y=\"3.066\" style=\"fill:rgb(14.5%,14.5%,14.5%);fill-opacity:1.0\">r6</text></g><g class=\"toytree-TipLabel\" transform=\"translate(210.179,92.5848)\"><text x=\"15.0\" y=\"3.066\" style=\"fill:rgb(14.5%,14.5%,14.5%);fill-opacity:1.0\">r7</text></g><g class=\"toytree-TipLabel\" transform=\"translate(210.179,74.6187)\"><text x=\"15.0\" y=\"3.066\" style=\"fill:rgb(14.5%,14.5%,14.5%);fill-opacity:1.0\">r8</text></g><g class=\"toytree-TipLabel\" transform=\"translate(210.179,56.6526)\"><text x=\"15.0\" y=\"3.066\" style=\"fill:rgb(14.5%,14.5%,14.5%);fill-opacity:1.0\">r9</text></g></g></g></g></g></svg><div class=\"toyplot-behavior\"><script>(function()\n",
       "{\n",
       "var modules={};\n",
       "})();</script></div></div>"
      ]
     },
     "metadata": {},
     "output_type": "display_data"
    }
   ],
   "source": [
    "tree.draw(node_sizes=10, node_colors=(\"W\", custom_map), node_mask=False);"
   ]
  }
 ],
 "metadata": {
  "kernelspec": {
   "display_name": "Python 3 (ipykernel)",
   "language": "python",
   "name": "python3"
  },
  "language_info": {
   "codemirror_mode": {
    "name": "ipython",
    "version": 3
   },
   "file_extension": ".py",
   "mimetype": "text/x-python",
   "name": "python",
   "nbconvert_exporter": "python",
   "pygments_lexer": "ipython3",
   "version": "3.10.12"
  }
 },
 "nbformat": 4,
 "nbformat_minor": 5
}
