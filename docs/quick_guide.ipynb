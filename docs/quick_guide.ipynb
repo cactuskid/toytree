{
 "cells": [
  {
   "cell_type": "markdown",
   "id": "a01b7857",
   "metadata": {},
   "source": [
    "# Quick Guide\n",
    "\n",
    "This tutorial introduces several key concepts and applications of the `toytree` package to provide a general overview. Please follow links throughout this guide, and explore the broader documentation, to find more detailed instructions of each topic."
   ]
  },
  {
   "cell_type": "markdown",
   "id": "8e11fc4c",
   "metadata": {},
   "source": [
    "## The `toytree` package\n",
    "`toytree` is a Python library for working with tree data. It provides a custom class for storing and representing tree data alongside an extensive library of methods for performing numerical and evolutionary analyses on trees. In addition, `toytree` provides interactive features that make it particularly well suited for use inside jupyter notebooks, such as interactive tree plotting methods and a well organized, modular, and documented code base. \n",
    "\n",
    "This tutorial was created as a jupyter notebook, and you can follow along in a notebook of your own by executing code from the top to the bottom of the document. To begin, let's import the `toytree` package."
   ]
  },
  {
   "cell_type": "code",
   "execution_count": 1,
   "id": "0768922e",
   "metadata": {},
   "outputs": [
    {
     "data": {
      "text/plain": [
       "'3.0.dev9'"
      ]
     },
     "execution_count": 1,
     "metadata": {},
     "output_type": "execute_result"
    }
   ],
   "source": [
    "import toytree\n",
    "toytree.__version__"
   ]
  },
  {
   "cell_type": "markdown",
   "id": "12fcda2e",
   "metadata": {},
   "source": [
    "## A simple example\n",
    "The code block below contains three lines of code to parse a tree object from data, modify it, and generate a tree drawing, respectively. This simple operation demonstrates several key features of `toytree` functionality and design. The first line uses the method `toytree.tree` (see [Tree Parsing (i/o)](/toytree/parse_trees/)) to parse tree data (in this case from a public URL) into a `ToyTree` class object, and store it to the variable name *tree*. \n",
    "\n",
    "The next line of code calls a method of the `ToyTree` object to root the tree on a specified edge. The `ToyTree` class object is the main class for representing trees in `toytree` and has many methods associated with it. In this case, we enter \"~prz\" as an argument to `.root()`, which is interpreted as a regular expression to match any names on the tree containing \"prz\" (See [Node/Name Query](/toytree/query/)), as a convenient method to select an internal edge on which to root the tree.\n",
    "\n",
    "Finally, the last code line calls the `.draw()` method of the `ToyTree` to generate a tree drawing (See [Tree Drawing](/toytree/drawing-basics)). The drawing is automatically displayed in the notebook output cell, and can be optionally stored as a variable and further modified, or saved to disk in a variety of formats. We provide arguments to align the tip names and show markers at the nodes with interactive tooltip information (try it by hovering your cursor over the nodes)."
   ]
  },
  {
   "cell_type": "code",
   "execution_count": 2,
   "id": "595f739f",
   "metadata": {},
   "outputs": [
    {
     "data": {
      "text/html": [
       "<div class=\"toyplot\" id=\"ta22e5f5a07914f139f15a1abd348dde2\" style=\"text-align:center\"><svg class=\"toyplot-canvas-Canvas\" xmlns:toyplot=\"http://www.sandia.gov/toyplot\" xmlns:xlink=\"http://www.w3.org/1999/xlink\" xmlns=\"http://www.w3.org/2000/svg\" width=\"457.972px\" height=\"315.28px\" viewBox=\"0 0 457.972 315.28\" preserveAspectRatio=\"xMidYMid meet\" style=\"background-color:transparent;border-color:#292724;border-style:none;border-width:1.0;fill:rgb(16.1%,15.3%,14.1%);fill-opacity:1.0;font-family:Helvetica;font-size:12px;opacity:1.0;stroke:rgb(16.1%,15.3%,14.1%);stroke-opacity:1.0;stroke-width:1.0\" id=\"t35587b7b6f7644e690183940a6e3433e\"><g class=\"toyplot-coordinates-Cartesian\" id=\"tee8f3a60f46f46e288cab6e81d0b30f8\"><clipPath id=\"t322ba21a0ff140cfa73ac610aa947a8a\"><rect x=\"35.0\" y=\"35.0\" width=\"387.972\" height=\"245.27999999999997\"></rect></clipPath><g clip-path=\"url(#t322ba21a0ff140cfa73ac610aa947a8a)\"><g class=\"toytree-mark-Toytree\" id=\"t2325a830b36e495c9239c0cdec6b0dd0\"><g class=\"toytree-Edges\" style=\"stroke:rgb(14.5%,14.5%,14.5%);stroke-opacity:1.0;stroke-linecap:round;stroke-width:2.0;fill:none\"><path d=\"M 159.5 250.1 L 159.5 258.5 L 175.0 258.5\" id=\"13,0\" style=\"\"></path><path d=\"M 159.5 250.1 L 159.5 241.7 L 174.2 241.7\" id=\"13,1\" style=\"\"></path><path d=\"M 191.5 205.5 L 191.5 224.9 L 225.1 224.9\" id=\"19,2\" style=\"\"></path><path d=\"M 197.7 186.0 L 197.7 208.1 L 236.5 208.1\" id=\"18,3\" style=\"\"></path><path d=\"M 215.6 182.9 L 215.6 191.3 L 235.5 191.3\" id=\"14,4\" style=\"\"></path><path d=\"M 215.6 182.9 L 215.6 174.5 L 235.8 174.5\" id=\"14,5\" style=\"\"></path><path d=\"M 206.7 145.0 L 206.7 157.6 L 241.2 157.6\" id=\"16,6\" style=\"\"></path><path d=\"M 243.4 132.4 L 243.4 140.8 L 249.1 140.8\" id=\"15,7\" style=\"\"></path><path d=\"M 243.4 132.4 L 243.4 124.0 L 249.9 124.0\" id=\"15,8\" style=\"\"></path><path d=\"M 191.4 98.8 L 191.4 107.2 L 229.0 107.2\" id=\"20,9\" style=\"\"></path><path d=\"M 191.4 98.8 L 191.4 90.4 L 231.1 90.4\" id=\"20,10\" style=\"\"></path><path d=\"M 233.1 65.2 L 233.1 73.6 L 233.6 73.6\" id=\"21,11\" style=\"\"></path><path d=\"M 233.1 65.2 L 233.1 56.7 L 233.4 56.7\" id=\"21,12\" style=\"\"></path><path d=\"M 53.0 196.9 L 53.0 250.1 L 159.5 250.1\" id=\"24,13\" style=\"\"></path><path d=\"M 202.3 163.9 L 202.3 182.9 L 215.6 182.9\" id=\"17,14\" style=\"\"></path><path d=\"M 206.7 145.0 L 206.7 132.4 L 243.4 132.4\" id=\"16,15\" style=\"\"></path><path d=\"M 202.3 163.9 L 202.3 145.0 L 206.7 145.0\" id=\"17,16\" style=\"\"></path><path d=\"M 197.7 186.0 L 197.7 163.9 L 202.3 163.9\" id=\"18,17\" style=\"\"></path><path d=\"M 191.5 205.5 L 191.5 186.0 L 197.7 186.0\" id=\"19,18\" style=\"\"></path><path d=\"M 159.5 143.7 L 159.5 205.5 L 191.5 205.5\" id=\"23,19\" style=\"\"></path><path d=\"M 177.2 82.0 L 177.2 98.8 L 191.4 98.8\" id=\"22,20\" style=\"\"></path><path d=\"M 177.2 82.0 L 177.2 65.2 L 233.1 65.2\" id=\"22,21\" style=\"\"></path><path d=\"M 159.5 143.7 L 159.5 82.0 L 177.2 82.0\" id=\"23,22\" style=\"\"></path><path d=\"M 53.0 196.9 L 53.0 143.7 L 159.5 143.7\" id=\"24,23\" style=\"\"></path></g><g class=\"toytree-AlignEdges\" style=\"stroke:rgb(66.0%,66.0%,66.0%);stroke-opacity:0.75;stroke-dasharray:2,4;stroke-linecap:round;stroke-width:2\"><path d=\"M 249.9 258.5 L 175.0 258.5\"></path><path d=\"M 249.9 241.7 L 174.2 241.7\"></path><path d=\"M 249.9 224.9 L 225.1 224.9\"></path><path d=\"M 249.9 208.1 L 236.5 208.1\"></path><path d=\"M 249.9 191.3 L 235.5 191.3\"></path><path d=\"M 249.9 174.5 L 235.8 174.5\"></path><path d=\"M 249.9 157.6 L 241.2 157.6\"></path><path d=\"M 249.9 140.8 L 249.1 140.8\"></path><path d=\"M 249.9 124.0 L 249.9 124.0\"></path><path d=\"M 249.9 107.2 L 229.0 107.2\"></path><path d=\"M 249.9 90.4 L 231.1 90.4\"></path><path d=\"M 249.9 73.6 L 233.6 73.6\"></path><path d=\"M 249.9 56.7 L 233.4 56.7\"></path></g><g class=\"toytree-AdmixEdges\" style=\"fill:rgb(0.0%,0.0%,0.0%);fill-opacity:0.0;stroke:rgb(90.6%,54.1%,76.5%);stroke-opacity:0.6;font-size:14px;stroke-linecap:round;stroke-width:5\"></g><g class=\"toytree-Nodes\" style=\"fill:rgb(40.0%,76.1%,64.7%);fill-opacity:1.0;stroke:rgb(14.9%,14.9%,14.9%);stroke-opacity:1.0;stroke-width:1.5\"><g id=\"Node-13\" transform=\"translate(159.55,250.124)\"><title>idx: 13\n",
       "dist: 0.0179371130487\n",
       "support: 100\n",
       "height: 0.0152107514239\n",
       "name: </title><circle r=\"4.0\"></circle></g><g id=\"Node-14\" transform=\"translate(215.579,182.863)\"><title>idx: 14\n",
       "dist: 0.00222999650239\n",
       "support: 100\n",
       "height: 0.00577636172318\n",
       "name: </title><circle r=\"4.0\"></circle></g><g id=\"Node-15\" transform=\"translate(243.397,132.417)\"><title>idx: 15\n",
       "dist: 0.00617527349892\n",
       "support: 100\n",
       "height: 0.00109218434613\n",
       "name: </title><circle r=\"4.0\"></circle></g><g id=\"Node-16\" transform=\"translate(206.723,145.029)\"><title>idx: 16\n",
       "dist: 0.000738900380519\n",
       "support: 96\n",
       "height: 0.00726745784506\n",
       "name: </title><circle r=\"4.0\"></circle></g><g id=\"Node-17\" transform=\"translate(202.335,163.946)\"><title>idx: 17\n",
       "dist: 0.000783365499905\n",
       "support: 99\n",
       "height: 0.00800635822557\n",
       "name: </title><circle r=\"4.0\"></circle></g><g id=\"Node-18\" transform=\"translate(197.683,186.016)\"><title>idx: 18\n",
       "dist: 0.00103379657491\n",
       "support: 100\n",
       "height: 0.00878972372548\n",
       "name: </title><circle r=\"4.0\"></circle></g><g id=\"Node-19\" transform=\"translate(191.543,205.458)\"><title>idx: 19\n",
       "dist: 0.00538723112355\n",
       "support: 100\n",
       "height: 0.00982352030039\n",
       "name: </title><circle r=\"4.0\"></circle></g><g id=\"Node-20\" transform=\"translate(191.359,98.7867)\"><title>idx: 20\n",
       "dist: 0.00237994755604\n",
       "support: 100\n",
       "height: 0.00985454237589\n",
       "name: </title><circle r=\"4.0\"></circle></g><g id=\"Node-21\" transform=\"translate(233.11,65.1562)\"><title>idx: 21\n",
       "dist: 0.00941020878048\n",
       "support: 100\n",
       "height: 0.00282428115145\n",
       "name: </title><circle r=\"4.0\"></circle></g><g id=\"Node-22\" transform=\"translate(177.225,81.9714)\"><title>idx: 22\n",
       "dist: 0.00297626149201\n",
       "support: 100\n",
       "height: 0.0122344899319\n",
       "name: </title><circle r=\"4.0\"></circle></g><g id=\"Node-23\" transform=\"translate(159.55,143.715)\"><title>idx: 23\n",
       "dist: 0.0179371130487\n",
       "support: 100\n",
       "height: 0.0152107514239\n",
       "name: </title><circle r=\"4.0\"></circle></g><g id=\"Node-24\" transform=\"translate(53.0246,196.919)\"><title>idx: 24\n",
       "dist: 0\n",
       "support: nan\n",
       "height: 0.0331478644727\n",
       "name: root</title><circle r=\"4.0\"></circle></g></g><g class=\"toytree-TipLabels\" style=\"fill:rgb(14.5%,14.5%,14.5%);fill-opacity:1.0;font-family:Helvetica;font-size:12px;font-weight:300;vertical-align:baseline;white-space:pre;stroke:none\"><g class=\"toytree-TipLabel\" transform=\"translate(249.883,258.531)\"><text x=\"15.0\" y=\"3.066\" style=\"fill:rgb(14.5%,14.5%,14.5%);fill-opacity:1.0\">32082_przewalskii</text></g><g class=\"toytree-TipLabel\" transform=\"translate(249.883,241.716)\"><text x=\"15.0\" y=\"3.066\" style=\"fill:rgb(14.5%,14.5%,14.5%);fill-opacity:1.0\">33588_przewalskii</text></g><g class=\"toytree-TipLabel\" transform=\"translate(249.883,224.901)\"><text x=\"15.0\" y=\"3.066\" style=\"fill:rgb(14.5%,14.5%,14.5%);fill-opacity:1.0\">33413_thamno</text></g><g class=\"toytree-TipLabel\" transform=\"translate(249.883,208.086)\"><text x=\"15.0\" y=\"3.066\" style=\"fill:rgb(14.5%,14.5%,14.5%);fill-opacity:1.0\">30556_thamno</text></g><g class=\"toytree-TipLabel\" transform=\"translate(249.883,191.27)\"><text x=\"15.0\" y=\"3.066\" style=\"fill:rgb(14.5%,14.5%,14.5%);fill-opacity:1.0\">40578_rex</text></g><g class=\"toytree-TipLabel\" transform=\"translate(249.883,174.455)\"><text x=\"15.0\" y=\"3.066\" style=\"fill:rgb(14.5%,14.5%,14.5%);fill-opacity:1.0\">35855_rex</text></g><g class=\"toytree-TipLabel\" transform=\"translate(249.883,157.64)\"><text x=\"15.0\" y=\"3.066\" style=\"fill:rgb(14.5%,14.5%,14.5%);fill-opacity:1.0\">35236_rex</text></g><g class=\"toytree-TipLabel\" transform=\"translate(249.883,140.825)\"><text x=\"15.0\" y=\"3.066\" style=\"fill:rgb(14.5%,14.5%,14.5%);fill-opacity:1.0\">39618_rex</text></g><g class=\"toytree-TipLabel\" transform=\"translate(249.883,124.01)\"><text x=\"15.0\" y=\"3.066\" style=\"fill:rgb(14.5%,14.5%,14.5%);fill-opacity:1.0\">38362_rex</text></g><g class=\"toytree-TipLabel\" transform=\"translate(249.883,107.194)\"><text x=\"15.0\" y=\"3.066\" style=\"fill:rgb(14.5%,14.5%,14.5%);fill-opacity:1.0\">29154_superba</text></g><g class=\"toytree-TipLabel\" transform=\"translate(249.883,90.3791)\"><text x=\"15.0\" y=\"3.066\" style=\"fill:rgb(14.5%,14.5%,14.5%);fill-opacity:1.0\">30686_cyathophylla</text></g><g class=\"toytree-TipLabel\" transform=\"translate(249.883,73.5638)\"><text x=\"15.0\" y=\"3.066\" style=\"fill:rgb(14.5%,14.5%,14.5%);fill-opacity:1.0\">41954_cyathophylloides</text></g><g class=\"toytree-TipLabel\" transform=\"translate(249.883,56.7486)\"><text x=\"15.0\" y=\"3.066\" style=\"fill:rgb(14.5%,14.5%,14.5%);fill-opacity:1.0\">41478_cyathophylloides</text></g></g></g></g></g></svg><div class=\"toyplot-behavior\"><script>(function()\n",
       "{\n",
       "var modules={};\n",
       "})();</script></div></div>"
      ]
     },
     "metadata": {},
     "output_type": "display_data"
    }
   ],
   "source": [
    "# load a toytree from a newick string at a URL\n",
    "utree = toytree.tree(\"https://eaton-lab.org/data/Cyathophora.tre\")\n",
    "\n",
    "# re-root on internal edge selected using a regex string\n",
    "rtree = utree.root(\"~prz\")\n",
    "\n",
    "# draw the rooted tree\n",
    "rtree.draw(node_hover=True, node_sizes=8, tip_labels_align=True);"
   ]
  },
  {
   "cell_type": "markdown",
   "id": "f6fa6f06",
   "metadata": {},
   "source": [
    "## Parsing tree data\n",
    "`ToyTree` objects can be flexibly loaded from a range of input types using the `toytree.tree()` function. Tree data can be loaded from a string, file path, or public URL. The data can be formatted as Newick, NHX, or NEXUS format. Complex metadata can be parsed from extended Newick strings, and/or added to trees and saved to extended Newick formatted strings. Here we parse a newick string into a `ToyTree` object and call the `get_node_data()` function of the tree, which returns a summary table of the data in the tree. Viewing this table we can see how it has assigned the \"name\", \"dist\", and \"support\" values from the Newick data to the Nodes of the tree."
   ]
  },
  {
   "cell_type": "code",
   "execution_count": 3,
   "id": "31fbc1f2",
   "metadata": {},
   "outputs": [
    {
     "data": {
      "text/html": [
       "<div>\n",
       "<style scoped>\n",
       "    .dataframe tbody tr th:only-of-type {\n",
       "        vertical-align: middle;\n",
       "    }\n",
       "\n",
       "    .dataframe tbody tr th {\n",
       "        vertical-align: top;\n",
       "    }\n",
       "\n",
       "    .dataframe thead th {\n",
       "        text-align: right;\n",
       "    }\n",
       "</style>\n",
       "<table border=\"1\" class=\"dataframe\">\n",
       "  <thead>\n",
       "    <tr style=\"text-align: right;\">\n",
       "      <th></th>\n",
       "      <th>idx</th>\n",
       "      <th>name</th>\n",
       "      <th>height</th>\n",
       "      <th>dist</th>\n",
       "      <th>support</th>\n",
       "    </tr>\n",
       "  </thead>\n",
       "  <tbody>\n",
       "    <tr>\n",
       "      <th>0</th>\n",
       "      <td>0</td>\n",
       "      <td>a</td>\n",
       "      <td>0.0</td>\n",
       "      <td>1.0</td>\n",
       "      <td>NaN</td>\n",
       "    </tr>\n",
       "    <tr>\n",
       "      <th>1</th>\n",
       "      <td>1</td>\n",
       "      <td>b</td>\n",
       "      <td>0.0</td>\n",
       "      <td>1.0</td>\n",
       "      <td>NaN</td>\n",
       "    </tr>\n",
       "    <tr>\n",
       "      <th>2</th>\n",
       "      <td>2</td>\n",
       "      <td>c</td>\n",
       "      <td>0.0</td>\n",
       "      <td>3.0</td>\n",
       "      <td>NaN</td>\n",
       "    </tr>\n",
       "    <tr>\n",
       "      <th>3</th>\n",
       "      <td>3</td>\n",
       "      <td>d</td>\n",
       "      <td>0.0</td>\n",
       "      <td>1.0</td>\n",
       "      <td>NaN</td>\n",
       "    </tr>\n",
       "    <tr>\n",
       "      <th>4</th>\n",
       "      <td>4</td>\n",
       "      <td>e</td>\n",
       "      <td>0.0</td>\n",
       "      <td>1.0</td>\n",
       "      <td>NaN</td>\n",
       "    </tr>\n",
       "    <tr>\n",
       "      <th>5</th>\n",
       "      <td>5</td>\n",
       "      <td></td>\n",
       "      <td>1.0</td>\n",
       "      <td>3.0</td>\n",
       "      <td>90.0</td>\n",
       "    </tr>\n",
       "    <tr>\n",
       "      <th>6</th>\n",
       "      <td>6</td>\n",
       "      <td></td>\n",
       "      <td>1.0</td>\n",
       "      <td>2.0</td>\n",
       "      <td>100.0</td>\n",
       "    </tr>\n",
       "    <tr>\n",
       "      <th>7</th>\n",
       "      <td>7</td>\n",
       "      <td></td>\n",
       "      <td>3.0</td>\n",
       "      <td>1.0</td>\n",
       "      <td>100.0</td>\n",
       "    </tr>\n",
       "    <tr>\n",
       "      <th>8</th>\n",
       "      <td>8</td>\n",
       "      <td></td>\n",
       "      <td>4.0</td>\n",
       "      <td>0.0</td>\n",
       "      <td>NaN</td>\n",
       "    </tr>\n",
       "  </tbody>\n",
       "</table>\n",
       "</div>"
      ],
      "text/plain": [
       "   idx name  height  dist  support\n",
       "0    0    a     0.0   1.0      NaN\n",
       "1    1    b     0.0   1.0      NaN\n",
       "2    2    c     0.0   3.0      NaN\n",
       "3    3    d     0.0   1.0      NaN\n",
       "4    4    e     0.0   1.0      NaN\n",
       "5    5          1.0   3.0     90.0\n",
       "6    6          1.0   2.0    100.0\n",
       "7    7          3.0   1.0    100.0\n",
       "8    8          4.0   0.0      NaN"
      ]
     },
     "execution_count": 3,
     "metadata": {},
     "output_type": "execute_result"
    }
   ],
   "source": [
    "# newick str with edge-lengths & support values\n",
    "newick = \"((a:1,b:1)90:3,(c:3,(d:1,e:1)100:2)100:1);\"\n",
    "\n",
    "# load as ToyTree\n",
    "tree = toytree.tree(newick)\n",
    "\n",
    "# show tree data parsed from Newick str\n",
    "tree.get_node_data()"
   ]
  },
  {
   "cell_type": "markdown",
   "id": "d38cb571-6373-4042-bded-54a4f2abfc65",
   "metadata": {},
   "source": [
    "The data that make up a tree can be easily accessed in a number of ways, including during tree visualization. Here a number of options are provided to the `.draw()` function to style the drawing. The \"node_labels\" option is set to \"idx\", which matches one of the features in the tree data, and so the data (numeric labels) are mapped to the appropriate nodes in the tree. Similarly, the \"edge_colors\" option is set to \"dist\" which automatically applies a colormapping to values of the \"dist\" data in the tree. This approach of assigning data to Nodes of the tree and then mapping these values to a drawing is more secure than trying to correctly order and enter values as a list. See [Data/Features](/toytree/data/) for more details."
   ]
  },
  {
   "cell_type": "code",
   "execution_count": 4,
   "id": "3889e267-1aab-4441-8fcd-0fb02d1e5ea7",
   "metadata": {},
   "outputs": [
    {
     "data": {
      "text/html": [
       "<div class=\"toyplot\" id=\"t2d955be36ddd4b99956ffff70c4da447\" style=\"text-align:center\"><svg class=\"toyplot-canvas-Canvas\" xmlns:toyplot=\"http://www.sandia.gov/toyplot\" xmlns:xlink=\"http://www.w3.org/1999/xlink\" xmlns=\"http://www.w3.org/2000/svg\" width=\"300.0px\" height=\"300.0px\" viewBox=\"0 0 300.0 300.0\" preserveAspectRatio=\"xMidYMid meet\" style=\"background-color:transparent;border-color:#292724;border-style:none;border-width:1.0;fill:rgb(16.1%,15.3%,14.1%);fill-opacity:1.0;font-family:Helvetica;font-size:12px;opacity:1.0;stroke:rgb(16.1%,15.3%,14.1%);stroke-opacity:1.0;stroke-width:1.0\" id=\"tebf523e7f96a457a8c2549d3c1ea9169\"><g class=\"toyplot-coordinates-Cartesian\" id=\"ta80d6b540cf34f6693245ed358066d7d\"><clipPath id=\"t71d046b3459c4188ad7e570ca4799c53\"><rect x=\"35.0\" y=\"35.0\" width=\"230.0\" height=\"230.0\"></rect></clipPath><g clip-path=\"url(#t71d046b3459c4188ad7e570ca4799c53)\"><g class=\"toytree-mark-Toytree\" id=\"t4c0124f5363547a9a22420fcf29dcac8\"><g class=\"toytree-Edges\" style=\"stroke:rgb(14.5%,14.5%,14.5%);stroke-opacity:1.0;stroke-linecap:round;stroke-width:2.0;fill:none\"><path d=\"M 83.0 167.2 L 60.7 167.2 L 60.7 204.1\" id=\"5,0\" style=\"stroke:rgb(74.8%,89.8%,62.7%);stroke-opacity:1.0;stroke-width:3\"></path><path d=\"M 83.0 167.2 L 105.4 167.2 L 105.4 204.1\" id=\"5,1\" style=\"stroke:rgb(74.8%,89.8%,62.7%);stroke-opacity:1.0;stroke-width:3\"></path><path d=\"M 183.5 93.5 L 150.0 93.5 L 150.0 204.1\" id=\"7,2\" style=\"stroke:rgb(62.0%,0.4%,25.9%);stroke-opacity:1.0;stroke-width:3\"></path><path d=\"M 217.0 167.2 L 194.6 167.2 L 194.6 204.1\" id=\"6,3\" style=\"stroke:rgb(74.8%,89.8%,62.7%);stroke-opacity:1.0;stroke-width:3\"></path><path d=\"M 217.0 167.2 L 239.3 167.2 L 239.3 204.1\" id=\"6,4\" style=\"stroke:rgb(74.8%,89.8%,62.7%);stroke-opacity:1.0;stroke-width:3\"></path><path d=\"M 133.3 56.6 L 83.0 56.6 L 83.0 167.2\" id=\"8,5\" style=\"stroke:rgb(62.0%,0.4%,25.9%);stroke-opacity:1.0;stroke-width:3\"></path><path d=\"M 183.5 93.5 L 217.0 93.5 L 217.0 167.2\" id=\"7,6\" style=\"stroke:rgb(99.3%,74.8%,43.5%);stroke-opacity:1.0;stroke-width:3\"></path><path d=\"M 133.3 56.6 L 183.5 56.6 L 183.5 93.5\" id=\"8,7\" style=\"stroke:rgb(74.8%,89.8%,62.7%);stroke-opacity:1.0;stroke-width:3\"></path></g><g class=\"toytree-AdmixEdges\" style=\"fill:rgb(0.0%,0.0%,0.0%);fill-opacity:0.0;stroke:rgb(90.6%,54.1%,76.5%);stroke-opacity:0.6;font-size:14px;stroke-linecap:round;stroke-width:5\"></g><g class=\"toytree-Nodes\" style=\"fill:rgb(82.7%,82.7%,82.7%);fill-opacity:1.0;stroke:rgb(14.9%,14.9%,14.9%);stroke-opacity:1.0;stroke-width:1.5\"><g id=\"Node-0\" transform=\"translate(60.7143,204.107)\"><circle r=\"7.5\"></circle></g><g id=\"Node-1\" transform=\"translate(105.357,204.107)\"><circle r=\"7.5\"></circle></g><g id=\"Node-2\" transform=\"translate(150,204.107)\"><circle r=\"7.5\"></circle></g><g id=\"Node-3\" transform=\"translate(194.643,204.107)\"><circle r=\"7.5\"></circle></g><g id=\"Node-4\" transform=\"translate(239.286,204.107)\"><circle r=\"7.5\"></circle></g><g id=\"Node-5\" transform=\"translate(83.0357,167.239)\"><circle r=\"7.5\"></circle></g><g id=\"Node-6\" transform=\"translate(216.964,167.239)\"><circle r=\"7.5\"></circle></g><g id=\"Node-7\" transform=\"translate(183.482,93.5039)\"><circle r=\"7.5\"></circle></g><g id=\"Node-8\" transform=\"translate(133.259,56.6362)\"><circle r=\"7.5\"></circle></g></g><g class=\"toytree-NodeLabels\" style=\"font-family:Helvetica;font-size:9px;font-weight:300;vertical-align:baseline;white-space:pre;stroke:none\"><g class=\"toytree-NodeLabel\" transform=\"translate(60.7143,204.107)\"><text x=\"-2.5020000000000002\" y=\"2.2995\" style=\"fill:rgb(14.5%,14.5%,14.5%);fill-opacity:1.0\">0</text></g><g class=\"toytree-NodeLabel\" transform=\"translate(105.357,204.107)\"><text x=\"-2.5020000000000002\" y=\"2.2995\" style=\"fill:rgb(14.5%,14.5%,14.5%);fill-opacity:1.0\">1</text></g><g class=\"toytree-NodeLabel\" transform=\"translate(150,204.107)\"><text x=\"-2.5020000000000002\" y=\"2.2995\" style=\"fill:rgb(14.5%,14.5%,14.5%);fill-opacity:1.0\">2</text></g><g class=\"toytree-NodeLabel\" transform=\"translate(194.643,204.107)\"><text x=\"-2.5020000000000002\" y=\"2.2995\" style=\"fill:rgb(14.5%,14.5%,14.5%);fill-opacity:1.0\">3</text></g><g class=\"toytree-NodeLabel\" transform=\"translate(239.286,204.107)\"><text x=\"-2.5020000000000002\" y=\"2.2995\" style=\"fill:rgb(14.5%,14.5%,14.5%);fill-opacity:1.0\">4</text></g><g class=\"toytree-NodeLabel\" transform=\"translate(83.0357,167.239)\"><text x=\"-2.5020000000000002\" y=\"2.2995\" style=\"fill:rgb(14.5%,14.5%,14.5%);fill-opacity:1.0\">5</text></g><g class=\"toytree-NodeLabel\" transform=\"translate(216.964,167.239)\"><text x=\"-2.5020000000000002\" y=\"2.2995\" style=\"fill:rgb(14.5%,14.5%,14.5%);fill-opacity:1.0\">6</text></g><g class=\"toytree-NodeLabel\" transform=\"translate(183.482,93.5039)\"><text x=\"-2.5020000000000002\" y=\"2.2995\" style=\"fill:rgb(14.5%,14.5%,14.5%);fill-opacity:1.0\">7</text></g><g class=\"toytree-NodeLabel\" transform=\"translate(133.259,56.6362)\"><text x=\"-2.5020000000000002\" y=\"2.2995\" style=\"fill:rgb(14.5%,14.5%,14.5%);fill-opacity:1.0\">8</text></g></g><g class=\"toytree-TipLabels\" style=\"fill:rgb(14.5%,14.5%,14.5%);fill-opacity:1.0;font-family:Helvetica;font-size:20px;font-weight:300;vertical-align:baseline;white-space:pre;stroke:none\"><g class=\"toytree-TipLabel\" transform=\"translate(60.7143,204.107)rotate(90)\"><text x=\"20.0\" y=\"5.109999999999999\" style=\"fill:rgb(14.5%,14.5%,14.5%);fill-opacity:1.0\">a</text></g><g class=\"toytree-TipLabel\" transform=\"translate(105.357,204.107)rotate(90)\"><text x=\"20.0\" y=\"5.109999999999999\" style=\"fill:rgb(14.5%,14.5%,14.5%);fill-opacity:1.0\">b</text></g><g class=\"toytree-TipLabel\" transform=\"translate(150,204.107)rotate(90)\"><text x=\"20.0\" y=\"5.109999999999999\" style=\"fill:rgb(14.5%,14.5%,14.5%);fill-opacity:1.0\">c</text></g><g class=\"toytree-TipLabel\" transform=\"translate(194.643,204.107)rotate(90)\"><text x=\"20.0\" y=\"5.109999999999999\" style=\"fill:rgb(14.5%,14.5%,14.5%);fill-opacity:1.0\">d</text></g><g class=\"toytree-TipLabel\" transform=\"translate(239.286,204.107)rotate(90)\"><text x=\"20.0\" y=\"5.109999999999999\" style=\"fill:rgb(14.5%,14.5%,14.5%);fill-opacity:1.0\">e</text></g></g></g></g><g class=\"toyplot-coordinates-Axis\" id=\"t4133c160ef1e4e3db187864e5ce821a3\" transform=\"translate(50.0,250.0)rotate(-90.0)translate(0,-15.0)\"><line x1=\"45.89293614511135\" y1=\"0\" x2=\"193.36381064739714\" y2=\"0\" style=\"\"></line><g><line x1=\"45.89293614511135\" y1=\"0\" x2=\"45.89293614511135\" y2=\"5\" style=\"\"></line><line x1=\"82.7606547706828\" y1=\"0\" x2=\"82.7606547706828\" y2=\"5\" style=\"\"></line><line x1=\"119.62837339625425\" y1=\"0\" x2=\"119.62837339625425\" y2=\"5\" style=\"\"></line><line x1=\"156.49609202182572\" y1=\"0\" x2=\"156.49609202182572\" y2=\"5\" style=\"\"></line><line x1=\"193.36381064739714\" y1=\"0\" x2=\"193.36381064739714\" y2=\"5\" style=\"\"></line></g><g><g transform=\"translate(45.89293614511135,-6)\"><text x=\"-2.78\" y=\"-4.440892098500626e-16\" style=\"fill:rgb(16.1%,15.3%,14.1%);fill-opacity:1.0;font-family:helvetica;font-size:10.0px;font-weight:normal;stroke:none;vertical-align:baseline;white-space:pre\">0</text></g><g transform=\"translate(82.7606547706828,-6)\"><text x=\"-2.78\" y=\"-4.440892098500626e-16\" style=\"fill:rgb(16.1%,15.3%,14.1%);fill-opacity:1.0;font-family:helvetica;font-size:10.0px;font-weight:normal;stroke:none;vertical-align:baseline;white-space:pre\">1</text></g><g transform=\"translate(119.62837339625425,-6)\"><text x=\"-2.78\" y=\"-4.440892098500626e-16\" style=\"fill:rgb(16.1%,15.3%,14.1%);fill-opacity:1.0;font-family:helvetica;font-size:10.0px;font-weight:normal;stroke:none;vertical-align:baseline;white-space:pre\">2</text></g><g transform=\"translate(156.49609202182572,-6)\"><text x=\"-2.78\" y=\"-4.440892098500626e-16\" style=\"fill:rgb(16.1%,15.3%,14.1%);fill-opacity:1.0;font-family:helvetica;font-size:10.0px;font-weight:normal;stroke:none;vertical-align:baseline;white-space:pre\">3</text></g><g transform=\"translate(193.36381064739714,-6)\"><text x=\"-2.78\" y=\"-4.440892098500626e-16\" style=\"fill:rgb(16.1%,15.3%,14.1%);fill-opacity:1.0;font-family:helvetica;font-size:10.0px;font-weight:normal;stroke:none;vertical-align:baseline;white-space:pre\">4</text></g></g><g class=\"toyplot-coordinates-Axis-coordinates\" style=\"visibility:hidden\" transform=\"\"><line x1=\"0\" x2=\"0\" y1=\"3.0\" y2=\"-4.5\" style=\"stroke:rgb(43.9%,50.2%,56.5%);stroke-opacity:1.0;stroke-width:1.0\"></line><text x=\"0\" y=\"6\" style=\"alignment-baseline:hanging;fill:rgb(43.9%,50.2%,56.5%);fill-opacity:1.0;font-size:10px;font-weight:normal;stroke:none;text-anchor:middle\"></text></g></g></g></svg><div class=\"toyplot-behavior\"><script>(function()\n",
       "{\n",
       "var modules={};\n",
       "modules[\"toyplot/canvas/id\"] = \"tebf523e7f96a457a8c2549d3c1ea9169\";\n",
       "modules[\"toyplot/canvas\"] = (function(canvas_id)\n",
       "    {\n",
       "        return document.querySelector(\"#\" + canvas_id);\n",
       "    })(modules[\"toyplot/canvas/id\"]);\n",
       "modules[\"toyplot.coordinates.Axis\"] = (\n",
       "        function(canvas)\n",
       "        {\n",
       "            function sign(x)\n",
       "            {\n",
       "                return x < 0 ? -1 : x > 0 ? 1 : 0;\n",
       "            }\n",
       "\n",
       "            function mix(a, b, amount)\n",
       "            {\n",
       "                return ((1.0 - amount) * a) + (amount * b);\n",
       "            }\n",
       "\n",
       "            function log(x, base)\n",
       "            {\n",
       "                return Math.log(Math.abs(x)) / Math.log(base);\n",
       "            }\n",
       "\n",
       "            function in_range(a, x, b)\n",
       "            {\n",
       "                var left = Math.min(a, b);\n",
       "                var right = Math.max(a, b);\n",
       "                return left <= x && x <= right;\n",
       "            }\n",
       "\n",
       "            function inside(range, projection)\n",
       "            {\n",
       "                for(var i = 0; i != projection.length; ++i)\n",
       "                {\n",
       "                    var segment = projection[i];\n",
       "                    if(in_range(segment.range.min, range, segment.range.max))\n",
       "                        return true;\n",
       "                }\n",
       "                return false;\n",
       "            }\n",
       "\n",
       "            function to_domain(range, projection)\n",
       "            {\n",
       "                for(var i = 0; i != projection.length; ++i)\n",
       "                {\n",
       "                    var segment = projection[i];\n",
       "                    if(in_range(segment.range.bounds.min, range, segment.range.bounds.max))\n",
       "                    {\n",
       "                        if(segment.scale == \"linear\")\n",
       "                        {\n",
       "                            var amount = (range - segment.range.min) / (segment.range.max - segment.range.min);\n",
       "                            return mix(segment.domain.min, segment.domain.max, amount)\n",
       "                        }\n",
       "                        else if(segment.scale[0] == \"log\")\n",
       "                        {\n",
       "                            var amount = (range - segment.range.min) / (segment.range.max - segment.range.min);\n",
       "                            var base = segment.scale[1];\n",
       "                            return sign(segment.domain.min) * Math.pow(base, mix(log(segment.domain.min, base), log(segment.domain.max, base), amount));\n",
       "                        }\n",
       "                    }\n",
       "                }\n",
       "            }\n",
       "\n",
       "            var axes = {};\n",
       "\n",
       "            function display_coordinates(e)\n",
       "            {\n",
       "                var current = canvas.createSVGPoint();\n",
       "                current.x = e.clientX;\n",
       "                current.y = e.clientY;\n",
       "\n",
       "                for(var axis_id in axes)\n",
       "                {\n",
       "                    var axis = document.querySelector(\"#\" + axis_id);\n",
       "                    var coordinates = axis.querySelector(\".toyplot-coordinates-Axis-coordinates\");\n",
       "                    if(coordinates)\n",
       "                    {\n",
       "                        var projection = axes[axis_id];\n",
       "                        var local = current.matrixTransform(axis.getScreenCTM().inverse());\n",
       "                        if(inside(local.x, projection))\n",
       "                        {\n",
       "                            var domain = to_domain(local.x, projection);\n",
       "                            coordinates.style.visibility = \"visible\";\n",
       "                            coordinates.setAttribute(\"transform\", \"translate(\" + local.x + \")\");\n",
       "                            var text = coordinates.querySelector(\"text\");\n",
       "                            text.textContent = domain.toFixed(2);\n",
       "                        }\n",
       "                        else\n",
       "                        {\n",
       "                            coordinates.style.visibility= \"hidden\";\n",
       "                        }\n",
       "                    }\n",
       "                }\n",
       "            }\n",
       "\n",
       "            canvas.addEventListener(\"click\", display_coordinates);\n",
       "\n",
       "            var module = {};\n",
       "            module.show_coordinates = function(axis_id, projection)\n",
       "            {\n",
       "                axes[axis_id] = projection;\n",
       "            }\n",
       "\n",
       "            return module;\n",
       "        })(modules[\"toyplot/canvas\"]);\n",
       "(function(axis, axis_id, projection)\n",
       "        {\n",
       "            axis.show_coordinates(axis_id, projection);\n",
       "        })(modules[\"toyplot.coordinates.Axis\"],\"t4133c160ef1e4e3db187864e5ce821a3\",[{\"domain\": {\"bounds\": {\"max\": Infinity, \"min\": -Infinity}, \"max\": 4.18, \"min\": -1.2448000000000001}, \"range\": {\"bounds\": {\"max\": Infinity, \"min\": -Infinity}, \"max\": 200.0, \"min\": 0.0}, \"scale\": \"linear\"}]);\n",
       "})();</script></div></div>"
      ]
     },
     "metadata": {},
     "output_type": "display_data"
    }
   ],
   "source": [
    "# tree drawing showing Node idx labels and edges colored by dist\n",
    "tree.draw(\n",
    "    layout='d', \n",
    "    node_labels=\"idx\", node_sizes=15, node_mask=False, node_colors=\"lightgrey\",\n",
    "    edge_colors=\"dist\", edge_widths=3,\n",
    "    tip_labels_style={\"font-size\": 20, \"anchor-shift\": 20},\n",
    "    scale_bar=True,\n",
    ");"
   ]
  },
  {
   "cell_type": "markdown",
   "id": "4d53b930",
   "metadata": {},
   "source": [
    "## Class objects\n",
    "\n",
    "The main Class objects in `toytree` are structured as a nested hierarchy. At the lowest level are [`toytree.Node`](/toytree/node/) class objects. A collection of connected `Nodes` form the data for a [`toytree.ToyTree`](/toytree/tree/) class object. This is the primary class in `toytree`. In addition, a collection of trees can form the data of a higher-level class object, called a [`toytree.MultiTree`](/toytree/multitree/). Each object type contains attributes and methods that are designed for its specific place in the hierarchy. For example, nodes contain attributes and methods for extracting information about a specific `Node` and its connections (edges) to other nodes. A `ToyTree` contains attributes and methods for extracting information about an entire tree of connected nodes, including emergent properties of these collections, and methods for operating on them. Finally, a `MultiTree` contains attributes and methods for operating on collections of trees, such as consensus tree inference and methods for drawing multiple trees together."
   ]
  },
  {
   "cell_type": "markdown",
   "id": "d6220f09-05c5-436c-816f-6869f816d6fd",
   "metadata": {},
   "source": [
    "**Node**: See the [Node class](/toytree/node/) documentation. Users primarily interact with Node objects by selecting them from a tree through indexing, slicing, or traversal methods. Nodes are used to store the basic data that makes up a tree, such as the connections between nodes and their distances. In addition, nodes can be used to store any additional arbitrary data. Each `Node` in a `ToyTree` has a unique ID assigned to it referred to as its `idx` label, and which represents its order in a tip-to-root traversal of the tree (see [Traversal and Node selection](/toytree/traversal/)).  "
   ]
  },
  {
   "cell_type": "code",
   "execution_count": 5,
   "id": "18566cf1-8dc7-4718-b28a-6d0570e4deaf",
   "metadata": {},
   "outputs": [
    {
     "data": {
      "text/plain": [
       "<Node(name='X')>"
      ]
     },
     "execution_count": 5,
     "metadata": {},
     "output_type": "execute_result"
    }
   ],
   "source": [
    "# you can create a Node object on its own\n",
    "toytree.Node(name=\"X\")"
   ]
  },
  {
   "cell_type": "code",
   "execution_count": 6,
   "id": "37e62e82-ec52-4fbf-97fc-0a44466fe29e",
   "metadata": {},
   "outputs": [
    {
     "data": {
      "text/plain": [
       "<Node(idx=0, name='a')>"
      ]
     },
     "execution_count": 6,
     "metadata": {},
     "output_type": "execute_result"
    }
   ],
   "source": [
    "# but more often you will select Nodes from a tree by slicing or indexing\n",
    "tree[0]"
   ]
  },
  {
   "cell_type": "code",
   "execution_count": 7,
   "id": "daf6b6fc-2dbc-4e65-b947-08358049046f",
   "metadata": {},
   "outputs": [
    {
     "data": {
      "text/plain": [
       "<Node(idx=5)>"
      ]
     },
     "execution_count": 7,
     "metadata": {},
     "output_type": "execute_result"
    }
   ],
   "source": [
    "# a Node's parent is at .up\n",
    "tree[0].up"
   ]
  },
  {
   "cell_type": "code",
   "execution_count": 8,
   "id": "fa6a8c7d-a733-4617-bde8-d77be9121de1",
   "metadata": {},
   "outputs": [
    {
     "data": {
      "text/plain": [
       "(<Node(idx=0, name='a')>, <Node(idx=1, name='b')>)"
      ]
     },
     "execution_count": 8,
     "metadata": {},
     "output_type": "execute_result"
    }
   ],
   "source": [
    "# a Node's children are at .children\n",
    "tree[5].children"
   ]
  },
  {
   "cell_type": "code",
   "execution_count": 9,
   "id": "80b704fc-dd01-4d73-8572-2e525ab19821",
   "metadata": {},
   "outputs": [
    {
     "data": {
      "text/plain": [
       "[<Node(idx=0, name='a')>, <Node(idx=2, name='c')>]"
      ]
     },
     "execution_count": 9,
     "metadata": {},
     "output_type": "execute_result"
    }
   ],
   "source": [
    "# select one or more Nodes from a ToyTree by name\n",
    "tree.get_nodes(\"a\", \"c\")"
   ]
  },
  {
   "cell_type": "code",
   "execution_count": 10,
   "id": "06d6558c-870a-4961-b924-4f301be0f8f8",
   "metadata": {},
   "outputs": [
    {
     "data": {
      "text/plain": [
       "(0, 'a', 1.0)"
      ]
     },
     "execution_count": 10,
     "metadata": {},
     "output_type": "execute_result"
    }
   ],
   "source": [
    "# access data from attributes of a Node in a ToyTree\n",
    "tree[0].idx, tree[0].name, tree[0].dist"
   ]
  },
  {
   "cell_type": "markdown",
   "id": "b25ed489-b69a-4342-bd42-222923771cfb",
   "metadata": {},
   "source": [
    "**ToyTree**: See the [ToyTree class](/toytree/tree/) documentation. A `ToyTree` stores a cached representation of the connections among a set of `Node` objects in memory and contains numerous methods for operating on these data. As we saw above, `ToyTree` class objects are usually created by parsing tree data from newick strings. However, a `ToyTree` can also be created by passing a `Node` object as the root of a new tree, as shown below. This makes clear that a `ToyTree` is a container for `Node` objects. They also contain functions for modifying the connections and data of nodes such as rooting trees, pruning, grafting, modifying edge lengths or support values, and storing new data, to name a few. If an operation changes the tree structure the `ToyTree` will automatically store a new cached representation of the tree traversal, assigning new `idx` labels to nodes. This allows for very fast retrieval of information from nodes, and to store cached tree attributes that are emergent properties of the collection of tree, such as node heights, and the number of tips and nodes. "
   ]
  },
  {
   "cell_type": "code",
   "execution_count": 11,
   "id": "1fde56a5-dbd4-4f6f-a216-d8ac97cd5e35",
   "metadata": {},
   "outputs": [
    {
     "data": {
      "text/plain": [
       "<toytree.ToyTree at 0x7fd8ef38a5c0>"
      ]
     },
     "execution_count": 11,
     "metadata": {},
     "output_type": "execute_result"
    }
   ],
   "source": [
    "# create a tree from a Node object to serve as its root Node\n",
    "toytree.ToyTree(toytree.Node(\"root\"))"
   ]
  },
  {
   "cell_type": "code",
   "execution_count": 12,
   "id": "ff62ceb4-a4ac-4b68-8907-a6cc09980263",
   "metadata": {},
   "outputs": [
    {
     "data": {
      "text/plain": [
       "<toytree.ToyTree at 0x7fd8ef389a50>"
      ]
     },
     "execution_count": 12,
     "metadata": {},
     "output_type": "execute_result"
    }
   ],
   "source": [
    "# parse a tree from newick data\n",
    "toytree.tree(\"((a,b),c);\")"
   ]
  },
  {
   "cell_type": "code",
   "execution_count": 13,
   "id": "d013376f-1c3e-4dc9-8fd5-eb4f551bb5e5",
   "metadata": {},
   "outputs": [
    {
     "data": {
      "text/plain": [
       "5"
      ]
     },
     "execution_count": 13,
     "metadata": {},
     "output_type": "execute_result"
    }
   ],
   "source": [
    "tree.ntips"
   ]
  },
  {
   "cell_type": "code",
   "execution_count": 14,
   "id": "4dacd198-6ee9-4bff-8dbc-571c96cba69f",
   "metadata": {},
   "outputs": [
    {
     "data": {
      "text/plain": [
       "9"
      ]
     },
     "execution_count": 14,
     "metadata": {},
     "output_type": "execute_result"
    }
   ],
   "source": [
    "tree.nnodes"
   ]
  },
  {
   "cell_type": "code",
   "execution_count": 15,
   "id": "ef0abc5a-3c3a-41e4-9d90-2397d96886a0",
   "metadata": {},
   "outputs": [
    {
     "data": {
      "text/plain": [
       "1.0"
      ]
     },
     "execution_count": 15,
     "metadata": {},
     "output_type": "execute_result"
    }
   ],
   "source": [
    "tree[5].height"
   ]
  },
  {
   "cell_type": "code",
   "execution_count": 16,
   "id": "d121b390-29c6-404e-8c28-765aa8bf7f5b",
   "metadata": {},
   "outputs": [
    {
     "data": {
      "text/plain": [
       "[<Node(idx=0, name='a')>,\n",
       " <Node(idx=1, name='b')>,\n",
       " <Node(idx=2, name='c')>,\n",
       " <Node(idx=3, name='d')>,\n",
       " <Node(idx=4, name='e')>,\n",
       " <Node(idx=5)>,\n",
       " <Node(idx=6)>,\n",
       " <Node(idx=7)>,\n",
       " <Node(idx=8)>]"
      ]
     },
     "execution_count": 16,
     "metadata": {},
     "output_type": "execute_result"
    }
   ],
   "source": [
    "# all nodes in the cached idx order (tips first then postorder traversal)\n",
    "tree[:]"
   ]
  },
  {
   "cell_type": "code",
   "execution_count": 17,
   "id": "09e5958c-e198-416e-90b9-d4c901ac0687",
   "metadata": {},
   "outputs": [
    {
     "data": {
      "text/plain": [
       "[<Node(idx=0, name='a')>,\n",
       " <Node(idx=1, name='b')>,\n",
       " <Node(idx=5)>,\n",
       " <Node(idx=2, name='c')>,\n",
       " <Node(idx=3, name='d')>,\n",
       " <Node(idx=4, name='e')>,\n",
       " <Node(idx=6)>,\n",
       " <Node(idx=7)>,\n",
       " <Node(idx=8)>]"
      ]
     },
     "execution_count": 17,
     "metadata": {},
     "output_type": "execute_result"
    }
   ],
   "source": [
    "# or, use .traverse() to visit Nodes in other traversal orders\n",
    "list(tree.traverse(\"postorder\"))"
   ]
  },
  {
   "cell_type": "markdown",
   "id": "8fde00ac-5122-43b9-bf9b-feaa1339b649",
   "metadata": {},
   "source": [
    "**MultiTree**: See the [MultiTree](/toytree/multitree/) documentation. A `MultiTree` object is a container type for multiple `ToyTree` objects. It has a number of attributes and methods specific to operating on and visualizing sets of trees. The `toytree.mtree()` function can be used to parse multiple input types similar to the `toytree.tree()` method for parsing trees from data for individual trees. Also, `toytree.MultiTree()` can accept a collection of `ToyTree` objects as input, demonstrating that multitrees are collections of trees. "
   ]
  },
  {
   "cell_type": "code",
   "execution_count": 18,
   "id": "1d2e6bc1-6581-42ec-82cd-ea2d22549cfd",
   "metadata": {},
   "outputs": [
    {
     "data": {
      "text/plain": [
       "<toytree.MultiTree ntrees=3>"
      ]
     },
     "execution_count": 18,
     "metadata": {},
     "output_type": "execute_result"
    }
   ],
   "source": [
    "# create a MultiTree containing three copies of 'tree' rooted differently\n",
    "mtree = toytree.mtree([tree, tree.root('c'), tree.root('d', 'e')])\n",
    "mtree"
   ]
  },
  {
   "cell_type": "code",
   "execution_count": 19,
   "id": "f624bc04-85e4-4d87-9f8d-2bc1daa625fb",
   "metadata": {},
   "outputs": [
    {
     "data": {
      "text/plain": [
       "<toytree.ToyTree at 0x7fd8ef3e4c10>"
      ]
     },
     "execution_count": 19,
     "metadata": {},
     "output_type": "execute_result"
    }
   ],
   "source": [
    "# select individual ToyTrees by indexing or slicing\n",
    "mtree[0]"
   ]
  },
  {
   "cell_type": "code",
   "execution_count": 20,
   "id": "780a669e-1f3d-4ee9-9151-55a61650bcab",
   "metadata": {},
   "outputs": [
    {
     "data": {
      "text/html": [
       "<div class=\"toyplot\" id=\"t01d94f8687f34c6c856058a1010ec652\" style=\"text-align:center\"><svg class=\"toyplot-canvas-Canvas\" xmlns:toyplot=\"http://www.sandia.gov/toyplot\" xmlns:xlink=\"http://www.w3.org/1999/xlink\" xmlns=\"http://www.w3.org/2000/svg\" width=\"675.0px\" height=\"250.0px\" viewBox=\"0 0 675.0 250.0\" preserveAspectRatio=\"xMidYMid meet\" style=\"background-color:transparent;border-color:#292724;border-style:none;border-width:1.0;fill:rgb(16.1%,15.3%,14.1%);fill-opacity:1.0;font-family:Helvetica;font-size:12px;opacity:1.0;stroke:rgb(16.1%,15.3%,14.1%);stroke-opacity:1.0;stroke-width:1.0\" id=\"tdca603ac69774422a8e741bc8d2d77b2\"><g class=\"toyplot-coordinates-Cartesian\" id=\"td0d765b427e34937bbcfc89d780ad0a7\"><clipPath id=\"tcf0f2bf202b34a4a94c8ea959a132629\"><rect x=\"20.0\" y=\"40.0\" width=\"205.0\" height=\"170.0\"></rect></clipPath><g clip-path=\"url(#tcf0f2bf202b34a4a94c8ea959a132629)\"><g class=\"toytree-mark-Toytree\" id=\"t6a144ff870f84caa831bbbfed208a944\"><g class=\"toytree-Edges\" style=\"stroke:rgb(14.5%,14.5%,14.5%);stroke-opacity:1.0;stroke-linecap:round;stroke-width:2.0;fill:none\"><path d=\"M 145.5 174.9 L 145.5 191.5 L 183.8 191.5\" id=\"5,0\" style=\"\"></path><path d=\"M 145.5 174.9 L 145.5 158.2 L 183.8 158.2\" id=\"5,1\" style=\"\"></path><path d=\"M 69.1 100.1 L 69.1 125.0 L 183.8 125.0\" id=\"7,2\" style=\"\"></path><path d=\"M 145.5 75.1 L 145.5 91.8 L 183.8 91.8\" id=\"6,3\" style=\"\"></path><path d=\"M 145.5 75.1 L 145.5 58.5 L 183.8 58.5\" id=\"6,4\" style=\"\"></path><path d=\"M 30.8 137.5 L 30.8 174.9 L 145.5 174.9\" id=\"8,5\" style=\"\"></path><path d=\"M 69.1 100.1 L 69.1 75.1 L 145.5 75.1\" id=\"7,6\" style=\"\"></path><path d=\"M 30.8 137.5 L 30.8 100.1 L 69.1 100.1\" id=\"8,7\" style=\"\"></path></g><g class=\"toytree-AdmixEdges\" style=\"fill:rgb(0.0%,0.0%,0.0%);fill-opacity:0.0;stroke:rgb(90.6%,54.1%,76.5%);stroke-opacity:0.6;font-size:14px;stroke-linecap:round;stroke-width:5\"></g><g class=\"toytree-Nodes\" style=\"fill:rgb(40.0%,76.1%,64.7%);fill-opacity:1.0;stroke:rgb(14.9%,14.9%,14.9%);stroke-opacity:1.0;stroke-width:1.5\"></g><g class=\"toytree-TipLabels\" style=\"fill:rgb(14.5%,14.5%,14.5%);fill-opacity:1.0;font-family:Helvetica;font-size:16px;font-weight:300;vertical-align:baseline;white-space:pre;stroke:none\"><g class=\"toytree-TipLabel\" transform=\"translate(183.759,191.489)\"><text x=\"10.0\" y=\"4.087999999999999\" style=\"fill:rgb(14.5%,14.5%,14.5%);fill-opacity:1.0\">a</text></g><g class=\"toytree-TipLabel\" transform=\"translate(183.759,158.245)\"><text x=\"10.0\" y=\"4.087999999999999\" style=\"fill:rgb(14.5%,14.5%,14.5%);fill-opacity:1.0\">b</text></g><g class=\"toytree-TipLabel\" transform=\"translate(183.759,125)\"><text x=\"10.0\" y=\"4.087999999999999\" style=\"fill:rgb(14.5%,14.5%,14.5%);fill-opacity:1.0\">c</text></g><g class=\"toytree-TipLabel\" transform=\"translate(183.759,91.7553)\"><text x=\"10.0\" y=\"4.087999999999999\" style=\"fill:rgb(14.5%,14.5%,14.5%);fill-opacity:1.0\">d</text></g><g class=\"toytree-TipLabel\" transform=\"translate(183.759,58.5106)\"><text x=\"10.0\" y=\"4.087999999999999\" style=\"fill:rgb(14.5%,14.5%,14.5%);fill-opacity:1.0\">e</text></g></g></g></g></g><g class=\"toyplot-coordinates-Cartesian\" id=\"tdc24cd5453e9459e80df406cd195277b\"><clipPath id=\"td9510be596c240a78d72d90ab3c25508\"><rect x=\"245.0\" y=\"40.0\" width=\"205.0\" height=\"170.0\"></rect></clipPath><g clip-path=\"url(#td9510be596c240a78d72d90ab3c25508)\"><g class=\"toytree-mark-Toytree\" id=\"t59afcd39e67a42fbb5e636072697ffe9\"><g class=\"toytree-Edges\" style=\"stroke:rgb(14.5%,14.5%,14.5%);stroke-opacity:1.0;stroke-linecap:round;stroke-width:2.0;fill:none\"><path d=\"M 255.8 149.9 L 255.8 191.5 L 291.1 191.5\" id=\"8,0\" style=\"\"></path><path d=\"M 338.2 141.6 L 338.2 158.2 L 361.7 158.2\" id=\"5,1\" style=\"\"></path><path d=\"M 338.2 141.6 L 338.2 125.0 L 361.7 125.0\" id=\"5,2\" style=\"\"></path><path d=\"M 385.2 75.1 L 385.2 91.8 L 408.8 91.8\" id=\"6,3\" style=\"\"></path><path d=\"M 385.2 75.1 L 385.2 58.5 L 408.8 58.5\" id=\"6,4\" style=\"\"></path><path d=\"M 291.1 108.4 L 291.1 141.6 L 338.2 141.6\" id=\"7,5\" style=\"\"></path><path d=\"M 291.1 108.4 L 291.1 75.1 L 385.2 75.1\" id=\"7,6\" style=\"\"></path><path d=\"M 255.8 149.9 L 255.8 108.4 L 291.1 108.4\" id=\"8,7\" style=\"\"></path></g><g class=\"toytree-AdmixEdges\" style=\"fill:rgb(0.0%,0.0%,0.0%);fill-opacity:0.0;stroke:rgb(90.6%,54.1%,76.5%);stroke-opacity:0.6;font-size:14px;stroke-linecap:round;stroke-width:5\"></g><g class=\"toytree-Nodes\" style=\"fill:rgb(40.0%,76.1%,64.7%);fill-opacity:1.0;stroke:rgb(14.9%,14.9%,14.9%);stroke-opacity:1.0;stroke-width:1.5\"></g><g class=\"toytree-TipLabels\" style=\"fill:rgb(14.5%,14.5%,14.5%);fill-opacity:1.0;font-family:Helvetica;font-size:16px;font-weight:300;vertical-align:baseline;white-space:pre;stroke:none\"><g class=\"toytree-TipLabel\" transform=\"translate(291.119,191.489)\"><text x=\"10.0\" y=\"4.087999999999999\" style=\"fill:rgb(14.5%,14.5%,14.5%);fill-opacity:1.0\">c</text></g><g class=\"toytree-TipLabel\" transform=\"translate(361.703,158.245)\"><text x=\"10.0\" y=\"4.087999999999999\" style=\"fill:rgb(14.5%,14.5%,14.5%);fill-opacity:1.0\">d</text></g><g class=\"toytree-TipLabel\" transform=\"translate(361.703,125)\"><text x=\"10.0\" y=\"4.087999999999999\" style=\"fill:rgb(14.5%,14.5%,14.5%);fill-opacity:1.0\">e</text></g><g class=\"toytree-TipLabel\" transform=\"translate(408.759,91.7553)\"><text x=\"10.0\" y=\"4.087999999999999\" style=\"fill:rgb(14.5%,14.5%,14.5%);fill-opacity:1.0\">a</text></g><g class=\"toytree-TipLabel\" transform=\"translate(408.759,58.5106)\"><text x=\"10.0\" y=\"4.087999999999999\" style=\"fill:rgb(14.5%,14.5%,14.5%);fill-opacity:1.0\">b</text></g></g></g></g></g><g class=\"toyplot-coordinates-Cartesian\" id=\"t813b4dcb638747fbb3c3d63fcd3e31b1\"><clipPath id=\"t42308603708f4ccaa00cd72647c2b983\"><rect x=\"470.0\" y=\"40.0\" width=\"205.0\" height=\"170.0\"></rect></clipPath><g clip-path=\"url(#t42308603708f4ccaa00cd72647c2b983)\"><g class=\"toytree-mark-Toytree\" id=\"t49ba7a42272c4884bfa9c7b50881e5b7\"><g class=\"toytree-Edges\" style=\"stroke:rgb(14.5%,14.5%,14.5%);stroke-opacity:1.0;stroke-linecap:round;stroke-width:2.0;fill:none\"><path d=\"M 506.3 174.9 L 506.3 191.5 L 531.8 191.5\" id=\"5,0\" style=\"\"></path><path d=\"M 506.3 174.9 L 506.3 158.2 L 531.8 158.2\" id=\"5,1\" style=\"\"></path><path d=\"M 506.3 100.1 L 506.3 125.0 L 582.8 125.0\" id=\"7,2\" style=\"\"></path><path d=\"M 608.3 75.1 L 608.3 91.8 L 633.8 91.8\" id=\"6,3\" style=\"\"></path><path d=\"M 608.3 75.1 L 608.3 58.5 L 633.8 58.5\" id=\"6,4\" style=\"\"></path><path d=\"M 480.8 137.5 L 480.8 174.9 L 506.3 174.9\" id=\"8,5\" style=\"\"></path><path d=\"M 506.3 100.1 L 506.3 75.1 L 608.3 75.1\" id=\"7,6\" style=\"\"></path><path d=\"M 480.8 137.5 L 480.8 100.1 L 506.3 100.1\" id=\"8,7\" style=\"\"></path></g><g class=\"toytree-AdmixEdges\" style=\"fill:rgb(0.0%,0.0%,0.0%);fill-opacity:0.0;stroke:rgb(90.6%,54.1%,76.5%);stroke-opacity:0.6;font-size:14px;stroke-linecap:round;stroke-width:5\"></g><g class=\"toytree-Nodes\" style=\"fill:rgb(40.0%,76.1%,64.7%);fill-opacity:1.0;stroke:rgb(14.9%,14.9%,14.9%);stroke-opacity:1.0;stroke-width:1.5\"></g><g class=\"toytree-TipLabels\" style=\"fill:rgb(14.5%,14.5%,14.5%);fill-opacity:1.0;font-family:Helvetica;font-size:16px;font-weight:300;vertical-align:baseline;white-space:pre;stroke:none\"><g class=\"toytree-TipLabel\" transform=\"translate(531.804,191.489)\"><text x=\"10.0\" y=\"4.087999999999999\" style=\"fill:rgb(14.5%,14.5%,14.5%);fill-opacity:1.0\">d</text></g><g class=\"toytree-TipLabel\" transform=\"translate(531.804,158.245)\"><text x=\"10.0\" y=\"4.087999999999999\" style=\"fill:rgb(14.5%,14.5%,14.5%);fill-opacity:1.0\">e</text></g><g class=\"toytree-TipLabel\" transform=\"translate(582.781,125)\"><text x=\"10.0\" y=\"4.087999999999999\" style=\"fill:rgb(14.5%,14.5%,14.5%);fill-opacity:1.0\">c</text></g><g class=\"toytree-TipLabel\" transform=\"translate(633.759,91.7553)\"><text x=\"10.0\" y=\"4.087999999999999\" style=\"fill:rgb(14.5%,14.5%,14.5%);fill-opacity:1.0\">a</text></g><g class=\"toytree-TipLabel\" transform=\"translate(633.759,58.5106)\"><text x=\"10.0\" y=\"4.087999999999999\" style=\"fill:rgb(14.5%,14.5%,14.5%);fill-opacity:1.0\">b</text></g></g></g></g></g></svg><div class=\"toyplot-behavior\"><script>(function()\n",
       "{\n",
       "var modules={};\n",
       "})();</script></div></div>"
      ]
     },
     "metadata": {},
     "output_type": "display_data"
    }
   ],
   "source": [
    "# visualization methods for multiple trees. Takes similar arguments as ToyTree.draw()\n",
    "mtree.draw(tip_labels_style={\"font-size\": 16});"
   ]
  },
  {
   "cell_type": "markdown",
   "id": "b1411d43-82d1-4a41-af2d-a05c71a540b7",
   "metadata": {},
   "source": [
    "## Learning to use `toytree`\n",
    "\n",
    "When first learning `toytree` it is hugely beneficial to play around in an interactive environment such as a jupyter notebook or IDE that provides tab-completion/auto-complete features that make it possible to see all available methods and attributes of an object. In this way, you can easily explore the many possibilities associated with a `ToyTree` object without having to study the entire documentation. To try this feature in a notebook type the name of a `ToyTree` variable (e.g., <i>tree</i> below) followed by a dot and then press <kbd>tab</kbd>. A few of the many methods that will pop-up are shown below."
   ]
  },
  {
   "cell_type": "code",
   "execution_count": 21,
   "id": "128f1f6f-1203-4d16-bfa1-778238f07c15",
   "metadata": {},
   "outputs": [
    {
     "data": {
      "text/plain": [
       "<toytree.ToyTree at 0x7fd8ef3f2da0>"
      ]
     },
     "execution_count": 21,
     "metadata": {},
     "output_type": "execute_result"
    }
   ],
   "source": [
    "tree.copy()"
   ]
  },
  {
   "cell_type": "code",
   "execution_count": 22,
   "id": "e49b8f2f-d769-42a7-957f-ef51509449e5",
   "metadata": {},
   "outputs": [
    {
     "data": {
      "text/plain": [
       "True"
      ]
     },
     "execution_count": 22,
     "metadata": {},
     "output_type": "execute_result"
    }
   ],
   "source": [
    "tree.is_rooted()"
   ]
  },
  {
   "cell_type": "code",
   "execution_count": 23,
   "id": "c4f6a7cd-f586-45f5-a36e-b9237dd11eb9",
   "metadata": {},
   "outputs": [
    {
     "data": {
      "text/plain": [
       "True"
      ]
     },
     "execution_count": 23,
     "metadata": {},
     "output_type": "execute_result"
    }
   ],
   "source": [
    "tree.is_monophyletic(\"a\", \"b\")"
   ]
  },
  {
   "cell_type": "code",
   "execution_count": 24,
   "id": "fb8202a4-309c-4ac4-b27c-9667d54a3312",
   "metadata": {},
   "outputs": [
    {
     "data": {
      "text/plain": [
       "{<Node(idx=0, name='a')>, <Node(idx=5)>, <Node(idx=8)>}"
      ]
     },
     "execution_count": 24,
     "metadata": {},
     "output_type": "execute_result"
    }
   ],
   "source": [
    "tree.get_ancestors(\"a\")"
   ]
  },
  {
   "cell_type": "code",
   "execution_count": 25,
   "id": "9f7ee387-a4eb-43a7-9103-81e0097d02b4",
   "metadata": {},
   "outputs": [
    {
     "data": {
      "text/plain": [
       "<Node(idx=6)>"
      ]
     },
     "execution_count": 25,
     "metadata": {},
     "output_type": "execute_result"
    }
   ],
   "source": [
    "tree.get_mrca_node(\"d\", \"e\")"
   ]
  },
  {
   "cell_type": "code",
   "execution_count": 26,
   "id": "9803f64e-8eb3-4d50-85e6-b99141b11068",
   "metadata": {},
   "outputs": [
    {
     "data": {
      "text/plain": [
       "['a', 'b', 'c', 'd', 'e']"
      ]
     },
     "execution_count": 26,
     "metadata": {},
     "output_type": "execute_result"
    }
   ],
   "source": [
    "tree.get_tip_labels()"
   ]
  },
  {
   "cell_type": "markdown",
   "id": "8832e58b-b184-4c06-adac-35ce90bcae29",
   "metadata": {},
   "source": [
    "## Selecting nodes\n",
    "Many methods in `toytree` require selecting one or more nodes from a tree to operate on. This can often be challenging since most nodes in a tree usually do not have unique names assigned to them, and selecting nodes by a numeric indexing method can be error-prone if the indices change. We have tried to design the node query and selection methods in toytree to be maximally flexible to allow for ease-of-use when selecting nodes while also trying to prevent users from making simple and common mistakes.\n",
    "\n",
    "The `get_nodes` and `get_mrca_node` methods of `ToyTree` objects provide a flexible approach to selecting one or more nodes either by name or by their unique integer indices. See the [Node Query/Selection](/toytree/query/) documentation section for details."
   ]
  },
  {
   "cell_type": "code",
   "execution_count": 27,
   "id": "6c90f6c4-63b4-4a74-b95a-3da48c43f517",
   "metadata": {},
   "outputs": [
    {
     "data": {
      "text/plain": [
       "[<Node(idx=1, name='b')>, <Node(idx=0, name='a')>]"
      ]
     },
     "execution_count": 27,
     "metadata": {},
     "output_type": "execute_result"
    }
   ],
   "source": [
    "# select nodes by name\n",
    "tree.get_nodes(\"a\", \"b\")"
   ]
  },
  {
   "cell_type": "code",
   "execution_count": 28,
   "id": "6947d25f-38b5-404a-a7a5-5e5b3920c9cc",
   "metadata": {},
   "outputs": [
    {
     "data": {
      "text/plain": [
       "[<Node(idx=1, name='b')>, <Node(idx=0, name='a')>, <Node(idx=2, name='c')>]"
      ]
     },
     "execution_count": 28,
     "metadata": {},
     "output_type": "execute_result"
    }
   ],
   "source": [
    "# select nodes by regular expression\n",
    "tree.get_nodes(\"~[a-c]\")"
   ]
  },
  {
   "cell_type": "code",
   "execution_count": 29,
   "id": "513e00d3-9516-49d3-8549-3a8a43dde052",
   "metadata": {},
   "outputs": [
    {
     "data": {
      "text/plain": [
       "<Node(idx=5)>"
      ]
     },
     "execution_count": 29,
     "metadata": {},
     "output_type": "execute_result"
    }
   ],
   "source": [
    "# select internal node by mrca of tip names\n",
    "tree.get_mrca_node(\"a\", \"b\")"
   ]
  },
  {
   "cell_type": "code",
   "execution_count": 30,
   "id": "f95ea197-0443-4977-83fd-dc8ff1e50101",
   "metadata": {},
   "outputs": [
    {
     "data": {
      "text/plain": [
       "<Node(idx=5)>"
      ]
     },
     "execution_count": 30,
     "metadata": {},
     "output_type": "execute_result"
    }
   ],
   "source": [
    "# or, select a node directly by its idx label\n",
    "tree[5]"
   ]
  },
  {
   "cell_type": "markdown",
   "id": "f7e8af7b-87f1-484e-b43a-d9353083acaf",
   "metadata": {},
   "source": [
    "## Subpackages\n",
    "There are many possible operations, algorithms, statistics, and metrics that can be implemented or computed on tree data, and if we simply added every method as an additional function of a `ToyTree` object it would become crowded and difficult to find its more common attributes and functions. Therefore, we have instead organized many of these additional methods into subpackages where functions with similar themes are organized together. For example, the `rtree` subpackage is used to generate random trees under a variety of algorithms, and the `mod` subpackage is used to group together many functions for modifying tree data. The methods in each of these subpackages is explained in much greater detail in their specific section of the documentation. Here we provide just a brief introduction to each."
   ]
  },
  {
   "cell_type": "markdown",
   "id": "84ebb5e2-d2fb-44c3-94fe-232d28571555",
   "metadata": {},
   "source": [
    "**rtree**: Random tree generation functions. The `rtree` subpackage provides a variety of algorithms for generating random trees that can be used for learning, testing, or analyses. For example, random, balanced, imbalanced, birth-death, coalescent, and other forms of trees can be generated with a variety of options for setting data on the trees."
   ]
  },
  {
   "cell_type": "code",
   "execution_count": 31,
   "id": "5f871ccd-5803-4e50-a48e-b38188c8c754",
   "metadata": {},
   "outputs": [
    {
     "data": {
      "text/html": [
       "<div class=\"toyplot\" id=\"t335b7b5bb6f74fa790254395b0325ce6\" style=\"text-align:center\"><svg class=\"toyplot-canvas-Canvas\" xmlns:toyplot=\"http://www.sandia.gov/toyplot\" xmlns:xlink=\"http://www.w3.org/1999/xlink\" xmlns=\"http://www.w3.org/2000/svg\" width=\"300.0px\" height=\"275.0px\" viewBox=\"0 0 300.0 275.0\" preserveAspectRatio=\"xMidYMid meet\" style=\"background-color:transparent;border-color:#292724;border-style:none;border-width:1.0;fill:rgb(16.1%,15.3%,14.1%);fill-opacity:1.0;font-family:Helvetica;font-size:12px;opacity:1.0;stroke:rgb(16.1%,15.3%,14.1%);stroke-opacity:1.0;stroke-width:1.0\" id=\"t2ad7de3a1cd444519042b0df84d0f81b\"><g class=\"toyplot-coordinates-Cartesian\" id=\"t64a016304a524d8d85a7b856dcd6f2dd\"><clipPath id=\"t1bb4307d48ff41939824db8aa3284f1d\"><rect x=\"35.0\" y=\"35.0\" width=\"230.0\" height=\"205.0\"></rect></clipPath><g clip-path=\"url(#t1bb4307d48ff41939824db8aa3284f1d)\"><g class=\"toytree-mark-Toytree\" id=\"tef0a31d562dc4f4a8f1acff4e25f4b92\"><g class=\"toytree-Edges\" style=\"stroke:rgb(14.5%,14.5%,14.5%);stroke-opacity:1.0;stroke-linecap:round;stroke-width:2.0;fill:none\"><path d=\"M 190.8 206.8 L 190.8 218.3 L 209.3 218.3\" id=\"8,0\" style=\"\"></path><path d=\"M 190.8 206.8 L 190.8 195.2 L 209.3 195.2\" id=\"8,1\" style=\"\"></path><path d=\"M 182.8 189.5 L 182.8 172.1 L 209.3 172.1\" id=\"9,2\" style=\"\"></path><path d=\"M 121.1 131.7 L 121.1 149.0 L 209.3 149.0\" id=\"11,3\" style=\"\"></path><path d=\"M 209.0 114.4 L 209.0 126.0 L 209.3 126.0\" id=\"10,4\" style=\"\"></path><path d=\"M 209.0 114.4 L 209.0 102.9 L 209.3 102.9\" id=\"10,5\" style=\"\"></path><path d=\"M 185.4 68.2 L 185.4 79.8 L 209.3 79.8\" id=\"12,6\" style=\"\"></path><path d=\"M 185.4 68.2 L 185.4 56.7 L 209.3 56.7\" id=\"12,7\" style=\"\"></path><path d=\"M 182.8 189.5 L 182.8 206.8 L 190.8 206.8\" id=\"9,8\" style=\"\"></path><path d=\"M 50.8 144.7 L 50.8 189.5 L 182.8 189.5\" id=\"14,9\" style=\"\"></path><path d=\"M 121.1 131.7 L 121.1 114.4 L 209.0 114.4\" id=\"11,10\" style=\"\"></path><path d=\"M 115.6 100.0 L 115.6 131.7 L 121.1 131.7\" id=\"13,11\" style=\"\"></path><path d=\"M 115.6 100.0 L 115.6 68.2 L 185.4 68.2\" id=\"13,12\" style=\"\"></path><path d=\"M 50.8 144.7 L 50.8 100.0 L 115.6 100.0\" id=\"14,13\" style=\"\"></path></g><g class=\"toytree-AdmixEdges\" style=\"fill:rgb(0.0%,0.0%,0.0%);fill-opacity:0.0;stroke:rgb(90.6%,54.1%,76.5%);stroke-opacity:0.6;font-size:14px;stroke-linecap:round;stroke-width:5\"></g><g class=\"toytree-Nodes\" style=\"fill:rgb(40.0%,76.1%,64.7%);fill-opacity:1.0;stroke:rgb(14.9%,14.9%,14.9%);stroke-opacity:1.0;stroke-width:1.5\"></g><g class=\"toytree-TipLabels\" style=\"fill:rgb(14.5%,14.5%,14.5%);fill-opacity:1.0;font-family:Helvetica;font-size:12px;font-weight:300;vertical-align:baseline;white-space:pre;stroke:none\"><g class=\"toytree-TipLabel\" transform=\"translate(209.311,218.347)\"><text x=\"15.0\" y=\"3.066\" style=\"fill:rgb(14.5%,14.5%,14.5%);fill-opacity:1.0\">r6</text></g><g class=\"toytree-TipLabel\" transform=\"translate(209.311,195.248)\"><text x=\"15.0\" y=\"3.066\" style=\"fill:rgb(14.5%,14.5%,14.5%);fill-opacity:1.0\">r1</text></g><g class=\"toytree-TipLabel\" transform=\"translate(209.311,172.149)\"><text x=\"15.0\" y=\"3.066\" style=\"fill:rgb(14.5%,14.5%,14.5%);fill-opacity:1.0\">r3</text></g><g class=\"toytree-TipLabel\" transform=\"translate(209.311,149.05)\"><text x=\"15.0\" y=\"3.066\" style=\"fill:rgb(14.5%,14.5%,14.5%);fill-opacity:1.0\">r0</text></g><g class=\"toytree-TipLabel\" transform=\"translate(209.311,125.95)\"><text x=\"15.0\" y=\"3.066\" style=\"fill:rgb(14.5%,14.5%,14.5%);fill-opacity:1.0\">r2</text></g><g class=\"toytree-TipLabel\" transform=\"translate(209.311,102.851)\"><text x=\"15.0\" y=\"3.066\" style=\"fill:rgb(14.5%,14.5%,14.5%);fill-opacity:1.0\">r5</text></g><g class=\"toytree-TipLabel\" transform=\"translate(209.311,79.7518)\"><text x=\"15.0\" y=\"3.066\" style=\"fill:rgb(14.5%,14.5%,14.5%);fill-opacity:1.0\">r4</text></g><g class=\"toytree-TipLabel\" transform=\"translate(209.311,56.6526)\"><text x=\"15.0\" y=\"3.066\" style=\"fill:rgb(14.5%,14.5%,14.5%);fill-opacity:1.0\">r7</text></g></g></g></g><g class=\"toyplot-coordinates-Axis\" id=\"tbab544506d7e42e591587120ee0e9e69\" transform=\"translate(50.0,225.0)translate(0,15.0)\"><line x1=\"0.7925940016485771\" y1=\"0\" x2=\"159.3113943313677\" y2=\"0\" style=\"\"></line><g><line x1=\"2.6003870684564783\" y1=\"0\" x2=\"2.6003870684564783\" y2=\"-5\" style=\"\"></line><line x1=\"41.77813888418428\" y1=\"0\" x2=\"41.77813888418428\" y2=\"-5\" style=\"\"></line><line x1=\"80.95589069991208\" y1=\"0\" x2=\"80.95589069991208\" y2=\"-5\" style=\"\"></line><line x1=\"120.13364251563989\" y1=\"0\" x2=\"120.13364251563989\" y2=\"-5\" style=\"\"></line><line x1=\"159.3113943313677\" y1=\"0\" x2=\"159.3113943313677\" y2=\"-5\" style=\"\"></line></g><g><g transform=\"translate(2.6003870684564783,6)\"><text x=\"-2.78\" y=\"8.555\" style=\"fill:rgb(16.1%,15.3%,14.1%);fill-opacity:1.0;font-family:helvetica;font-size:10.0px;font-weight:normal;stroke:none;vertical-align:baseline;white-space:pre\">2</text></g><g transform=\"translate(41.77813888418428,6)\"><text x=\"-6.95\" y=\"8.555\" style=\"fill:rgb(16.1%,15.3%,14.1%);fill-opacity:1.0;font-family:helvetica;font-size:10.0px;font-weight:normal;stroke:none;vertical-align:baseline;white-space:pre\">1.5</text></g><g transform=\"translate(80.95589069991208,6)\"><text x=\"-2.78\" y=\"8.555\" style=\"fill:rgb(16.1%,15.3%,14.1%);fill-opacity:1.0;font-family:helvetica;font-size:10.0px;font-weight:normal;stroke:none;vertical-align:baseline;white-space:pre\">1</text></g><g transform=\"translate(120.13364251563989,6)\"><text x=\"-6.95\" y=\"8.555\" style=\"fill:rgb(16.1%,15.3%,14.1%);fill-opacity:1.0;font-family:helvetica;font-size:10.0px;font-weight:normal;stroke:none;vertical-align:baseline;white-space:pre\">0.5</text></g><g transform=\"translate(159.3113943313677,6)\"><text x=\"-2.78\" y=\"8.555\" style=\"fill:rgb(16.1%,15.3%,14.1%);fill-opacity:1.0;font-family:helvetica;font-size:10.0px;font-weight:normal;stroke:none;vertical-align:baseline;white-space:pre\">0</text></g></g><g class=\"toyplot-coordinates-Axis-coordinates\" style=\"visibility:hidden\" transform=\"\"><line x1=\"0\" x2=\"0\" y1=\"-3.0\" y2=\"4.5\" style=\"stroke:rgb(43.9%,50.2%,56.5%);stroke-opacity:1.0;stroke-width:1.0\"></line><text x=\"0\" y=\"-6\" style=\"alignment-baseline:alphabetic;fill:rgb(43.9%,50.2%,56.5%);fill-opacity:1.0;font-size:10px;font-weight:normal;stroke:none;text-anchor:middle\"></text></g></g></g></svg><div class=\"toyplot-behavior\"><script>(function()\n",
       "{\n",
       "var modules={};\n",
       "modules[\"toyplot/canvas/id\"] = \"t2ad7de3a1cd444519042b0df84d0f81b\";\n",
       "modules[\"toyplot/canvas\"] = (function(canvas_id)\n",
       "    {\n",
       "        return document.querySelector(\"#\" + canvas_id);\n",
       "    })(modules[\"toyplot/canvas/id\"]);\n",
       "modules[\"toyplot.coordinates.Axis\"] = (\n",
       "        function(canvas)\n",
       "        {\n",
       "            function sign(x)\n",
       "            {\n",
       "                return x < 0 ? -1 : x > 0 ? 1 : 0;\n",
       "            }\n",
       "\n",
       "            function mix(a, b, amount)\n",
       "            {\n",
       "                return ((1.0 - amount) * a) + (amount * b);\n",
       "            }\n",
       "\n",
       "            function log(x, base)\n",
       "            {\n",
       "                return Math.log(Math.abs(x)) / Math.log(base);\n",
       "            }\n",
       "\n",
       "            function in_range(a, x, b)\n",
       "            {\n",
       "                var left = Math.min(a, b);\n",
       "                var right = Math.max(a, b);\n",
       "                return left <= x && x <= right;\n",
       "            }\n",
       "\n",
       "            function inside(range, projection)\n",
       "            {\n",
       "                for(var i = 0; i != projection.length; ++i)\n",
       "                {\n",
       "                    var segment = projection[i];\n",
       "                    if(in_range(segment.range.min, range, segment.range.max))\n",
       "                        return true;\n",
       "                }\n",
       "                return false;\n",
       "            }\n",
       "\n",
       "            function to_domain(range, projection)\n",
       "            {\n",
       "                for(var i = 0; i != projection.length; ++i)\n",
       "                {\n",
       "                    var segment = projection[i];\n",
       "                    if(in_range(segment.range.bounds.min, range, segment.range.bounds.max))\n",
       "                    {\n",
       "                        if(segment.scale == \"linear\")\n",
       "                        {\n",
       "                            var amount = (range - segment.range.min) / (segment.range.max - segment.range.min);\n",
       "                            return mix(segment.domain.min, segment.domain.max, amount)\n",
       "                        }\n",
       "                        else if(segment.scale[0] == \"log\")\n",
       "                        {\n",
       "                            var amount = (range - segment.range.min) / (segment.range.max - segment.range.min);\n",
       "                            var base = segment.scale[1];\n",
       "                            return sign(segment.domain.min) * Math.pow(base, mix(log(segment.domain.min, base), log(segment.domain.max, base), amount));\n",
       "                        }\n",
       "                    }\n",
       "                }\n",
       "            }\n",
       "\n",
       "            var axes = {};\n",
       "\n",
       "            function display_coordinates(e)\n",
       "            {\n",
       "                var current = canvas.createSVGPoint();\n",
       "                current.x = e.clientX;\n",
       "                current.y = e.clientY;\n",
       "\n",
       "                for(var axis_id in axes)\n",
       "                {\n",
       "                    var axis = document.querySelector(\"#\" + axis_id);\n",
       "                    var coordinates = axis.querySelector(\".toyplot-coordinates-Axis-coordinates\");\n",
       "                    if(coordinates)\n",
       "                    {\n",
       "                        var projection = axes[axis_id];\n",
       "                        var local = current.matrixTransform(axis.getScreenCTM().inverse());\n",
       "                        if(inside(local.x, projection))\n",
       "                        {\n",
       "                            var domain = to_domain(local.x, projection);\n",
       "                            coordinates.style.visibility = \"visible\";\n",
       "                            coordinates.setAttribute(\"transform\", \"translate(\" + local.x + \")\");\n",
       "                            var text = coordinates.querySelector(\"text\");\n",
       "                            text.textContent = domain.toFixed(2);\n",
       "                        }\n",
       "                        else\n",
       "                        {\n",
       "                            coordinates.style.visibility= \"hidden\";\n",
       "                        }\n",
       "                    }\n",
       "                }\n",
       "            }\n",
       "\n",
       "            canvas.addEventListener(\"click\", display_coordinates);\n",
       "\n",
       "            var module = {};\n",
       "            module.show_coordinates = function(axis_id, projection)\n",
       "            {\n",
       "                axes[axis_id] = projection;\n",
       "            }\n",
       "\n",
       "            return module;\n",
       "        })(modules[\"toyplot/canvas\"]);\n",
       "(function(axis, axis_id, projection)\n",
       "        {\n",
       "            axis.show_coordinates(axis_id, projection);\n",
       "        })(modules[\"toyplot.coordinates.Axis\"],\"tbab544506d7e42e591587120ee0e9e69\",[{\"domain\": {\"bounds\": {\"max\": Infinity, \"min\": -Infinity}, \"max\": 0.5192820386939352, \"min\": -2.0331870378970107}, \"range\": {\"bounds\": {\"max\": Infinity, \"min\": -Infinity}, \"max\": 200.0, \"min\": 0.0}, \"scale\": \"linear\"}]);\n",
       "})();</script></div></div>"
      ]
     },
     "metadata": {},
     "output_type": "display_data"
    }
   ],
   "source": [
    "# generate a birth-death tree\n",
    "btree = toytree.rtree.bdtree(ntips=8, b=1, d=0.1, seed=123, random_names=True)\n",
    "btree.draw(scale_bar=True);"
   ]
  },
  {
   "cell_type": "markdown",
   "id": "bc088263-c3db-4a3c-b131-bc582c4e308b",
   "metadata": {},
   "source": [
    "**enum**: enumeration of tree data. Many algorithms for working with trees involve analyzing and comparing subsets of trees, such as bipartitions or quartets created by edges, or require knowing the number of possible trees of a given size. The `enum` subpackage provides a number of exact calculations, or generator functions, for accessing these data efficiently with a variety of formatting options. These methods are particularly useful for implementing or testing tree analysis methods. "
   ]
  },
  {
   "cell_type": "code",
   "execution_count": 32,
   "id": "549546f0-7cee-4523-a8ba-e089ad5c204d",
   "metadata": {},
   "outputs": [
    {
     "data": {
      "text/plain": [
       "[({'a', 'b'}, {'d', 'e'}),\n",
       " ({'a', 'b'}, {'c', 'e'}),\n",
       " ({'a', 'b'}, {'c', 'd'}),\n",
       " ({'d', 'e'}, {'b', 'c'}),\n",
       " ({'d', 'e'}, {'a', 'c'})]"
      ]
     },
     "execution_count": 32,
     "metadata": {},
     "output_type": "execute_result"
    }
   ],
   "source": [
    "# expand a generator over all quartets in a tree\n",
    "list(toytree.enum.iter_quartets(tree))"
   ]
  },
  {
   "cell_type": "markdown",
   "id": "c0a89980-ca03-4d46-aaa5-80bf2b41d730",
   "metadata": {},
   "source": [
    "**distance**: node and tree distance metrics. Distances are a common type of measurement associated with trees, either in the form of measuring distances between nodes in a single tree, or comparing two or more trees using metrics of their (dis)similarity. A variety of methods for measuring node and tree distances are available in the `distance` subpackage."
   ]
  },
  {
   "cell_type": "code",
   "execution_count": 33,
   "id": "9c251050-6054-4b37-b70b-efa3116a5253",
   "metadata": {},
   "outputs": [
    {
     "data": {
      "text/html": [
       "<div>\n",
       "<style scoped>\n",
       "    .dataframe tbody tr th:only-of-type {\n",
       "        vertical-align: middle;\n",
       "    }\n",
       "\n",
       "    .dataframe tbody tr th {\n",
       "        vertical-align: top;\n",
       "    }\n",
       "\n",
       "    .dataframe thead th {\n",
       "        text-align: right;\n",
       "    }\n",
       "</style>\n",
       "<table border=\"1\" class=\"dataframe\">\n",
       "  <thead>\n",
       "    <tr style=\"text-align: right;\">\n",
       "      <th></th>\n",
       "      <th>a</th>\n",
       "      <th>b</th>\n",
       "      <th>c</th>\n",
       "      <th>d</th>\n",
       "      <th>e</th>\n",
       "    </tr>\n",
       "  </thead>\n",
       "  <tbody>\n",
       "    <tr>\n",
       "      <th>a</th>\n",
       "      <td>0.0</td>\n",
       "      <td>2.0</td>\n",
       "      <td>8.0</td>\n",
       "      <td>8.0</td>\n",
       "      <td>8.0</td>\n",
       "    </tr>\n",
       "    <tr>\n",
       "      <th>b</th>\n",
       "      <td>2.0</td>\n",
       "      <td>0.0</td>\n",
       "      <td>8.0</td>\n",
       "      <td>8.0</td>\n",
       "      <td>8.0</td>\n",
       "    </tr>\n",
       "    <tr>\n",
       "      <th>c</th>\n",
       "      <td>8.0</td>\n",
       "      <td>8.0</td>\n",
       "      <td>0.0</td>\n",
       "      <td>6.0</td>\n",
       "      <td>6.0</td>\n",
       "    </tr>\n",
       "    <tr>\n",
       "      <th>d</th>\n",
       "      <td>8.0</td>\n",
       "      <td>8.0</td>\n",
       "      <td>6.0</td>\n",
       "      <td>0.0</td>\n",
       "      <td>2.0</td>\n",
       "    </tr>\n",
       "    <tr>\n",
       "      <th>e</th>\n",
       "      <td>8.0</td>\n",
       "      <td>8.0</td>\n",
       "      <td>6.0</td>\n",
       "      <td>2.0</td>\n",
       "      <td>0.0</td>\n",
       "    </tr>\n",
       "  </tbody>\n",
       "</table>\n",
       "</div>"
      ],
      "text/plain": [
       "     a    b    c    d    e\n",
       "a  0.0  2.0  8.0  8.0  8.0\n",
       "b  2.0  0.0  8.0  8.0  8.0\n",
       "c  8.0  8.0  0.0  6.0  6.0\n",
       "d  8.0  8.0  6.0  0.0  2.0\n",
       "e  8.0  8.0  6.0  2.0  0.0"
      ]
     },
     "execution_count": 33,
     "metadata": {},
     "output_type": "execute_result"
    }
   ],
   "source": [
    "# return a matrix of distances between tips in a tree\n",
    "toytree.distance.get_tip_distance_matrix(tree, df=True)"
   ]
  },
  {
   "cell_type": "code",
   "execution_count": 34,
   "id": "29013d6e-700c-4ab1-8625-c551f30e74fc",
   "metadata": {},
   "outputs": [
    {
     "data": {
      "text/plain": [
       "0.8571428571428571"
      ]
     },
     "execution_count": 34,
     "metadata": {},
     "output_type": "execute_result"
    }
   ],
   "source": [
    "# return the Robinson-Foulds tree distance between two random 10-tip trees\n",
    "rtree1 = toytree.rtree.rtree(10, seed=123)\n",
    "rtree2 = toytree.rtree.rtree(10, seed=321)\n",
    "toytree.distance.get_treedist_rf(rtree1, rtree2, normalize=True)"
   ]
  },
  {
   "cell_type": "markdown",
   "id": "80f1cd14-a653-4f5e-9b8d-0c4da7ed3542",
   "metadata": {},
   "source": [
    "**mod**: Tree modifications. Methods for manipulating and modifying tree data can be used to generate new trees, change the structure or data contained in a tree, and to store new data in trees. This is currently the largest subpackage with many common tree manipulation algorithms implemented."
   ]
  },
  {
   "cell_type": "code",
   "execution_count": 35,
   "id": "d8acf903-33ae-462a-9aff-8d55292bd949",
   "metadata": {},
   "outputs": [
    {
     "data": {
      "text/html": [
       "<div class=\"toyplot\" id=\"t356db3bc33374749bf5d40828ac7fc91\" style=\"text-align:center\"><svg class=\"toyplot-canvas-Canvas\" xmlns:toyplot=\"http://www.sandia.gov/toyplot\" xmlns:xlink=\"http://www.w3.org/1999/xlink\" xmlns=\"http://www.w3.org/2000/svg\" width=\"450.0px\" height=\"250.0px\" viewBox=\"0 0 450.0 250.0\" preserveAspectRatio=\"xMidYMid meet\" style=\"background-color:transparent;border-color:#292724;border-style:none;border-width:1.0;fill:rgb(16.1%,15.3%,14.1%);fill-opacity:1.0;font-family:Helvetica;font-size:12px;opacity:1.0;stroke:rgb(16.1%,15.3%,14.1%);stroke-opacity:1.0;stroke-width:1.0\" id=\"t70e8f28dbd364078a9422ab621afb0b5\"><g class=\"toyplot-coordinates-Cartesian\" id=\"tbb1cbbade90a4efc881e0f4b89021946\"><clipPath id=\"t5c3ad50cab6d4fa6861c215c89662aba\"><rect x=\"20.0\" y=\"40.0\" width=\"205.0\" height=\"150.0\"></rect></clipPath><g clip-path=\"url(#t5c3ad50cab6d4fa6861c215c89662aba)\"><g class=\"toytree-mark-Toytree\" id=\"t69381e78fff14de5bfd2c7c65e7e5c54\"><g class=\"toytree-Edges\" style=\"stroke:rgb(14.5%,14.5%,14.5%);stroke-opacity:1.0;stroke-linecap:round;stroke-width:2.0;fill:none\"><path d=\"M 149.1 159.6 L 149.1 174.5 L 188.5 174.5\" id=\"5,0\" style=\"\"></path><path d=\"M 149.1 159.6 L 149.1 144.8 L 188.5 144.8\" id=\"5,1\" style=\"\"></path><path d=\"M 70.3 92.7 L 70.3 115.0 L 188.5 115.0\" id=\"7,2\" style=\"\"></path><path d=\"M 149.1 70.4 L 149.1 85.2 L 188.5 85.2\" id=\"6,3\" style=\"\"></path><path d=\"M 149.1 70.4 L 149.1 55.5 L 188.5 55.5\" id=\"6,4\" style=\"\"></path><path d=\"M 30.9 126.2 L 30.9 159.6 L 149.1 159.6\" id=\"8,5\" style=\"\"></path><path d=\"M 70.3 92.7 L 70.3 70.4 L 149.1 70.4\" id=\"7,6\" style=\"\"></path><path d=\"M 30.9 126.2 L 30.9 92.7 L 70.3 92.7\" id=\"8,7\" style=\"\"></path></g><g class=\"toytree-AdmixEdges\" style=\"fill:rgb(0.0%,0.0%,0.0%);fill-opacity:0.0;stroke:rgb(90.6%,54.1%,76.5%);stroke-opacity:0.6;font-size:14px;stroke-linecap:round;stroke-width:5\"></g><g class=\"toytree-Nodes\" style=\"fill:rgb(40.0%,76.1%,64.7%);fill-opacity:1.0;stroke:rgb(14.9%,14.9%,14.9%);stroke-opacity:1.0;stroke-width:1.5\"></g><g class=\"toytree-TipLabels\" style=\"fill:rgb(14.5%,14.5%,14.5%);fill-opacity:1.0;font-family:Helvetica;font-size:10px;font-weight:300;vertical-align:baseline;white-space:pre;stroke:none\"><g class=\"toytree-TipLabel\" transform=\"translate(188.484,174.507)\"><text x=\"10.0\" y=\"2.5549999999999997\" style=\"fill:rgb(14.5%,14.5%,14.5%);fill-opacity:1.0\">a</text></g><g class=\"toytree-TipLabel\" transform=\"translate(188.484,144.754)\"><text x=\"10.0\" y=\"2.5549999999999997\" style=\"fill:rgb(14.5%,14.5%,14.5%);fill-opacity:1.0\">b</text></g><g class=\"toytree-TipLabel\" transform=\"translate(188.484,115)\"><text x=\"10.0\" y=\"2.5549999999999997\" style=\"fill:rgb(14.5%,14.5%,14.5%);fill-opacity:1.0\">c</text></g><g class=\"toytree-TipLabel\" transform=\"translate(188.484,85.2465)\"><text x=\"10.0\" y=\"2.5549999999999997\" style=\"fill:rgb(14.5%,14.5%,14.5%);fill-opacity:1.0\">d</text></g><g class=\"toytree-TipLabel\" transform=\"translate(188.484,55.493)\"><text x=\"10.0\" y=\"2.5549999999999997\" style=\"fill:rgb(14.5%,14.5%,14.5%);fill-opacity:1.0\">e</text></g></g></g></g><g class=\"toyplot-coordinates-Axis\" id=\"t0a623eaa03074619bc354fdf53bd1763\" transform=\"translate(30.0,180.0)translate(0,10.0)\"><line x1=\"0.8520633750921063\" y1=\"0\" x2=\"158.48378776713338\" y2=\"0\" style=\"\"></line><g><line x1=\"0.8520633750921063\" y1=\"0\" x2=\"0.8520633750921063\" y2=\"-5\" style=\"\"></line><line x1=\"40.259994473102424\" y1=\"0\" x2=\"40.259994473102424\" y2=\"-5\" style=\"\"></line><line x1=\"79.66792557111275\" y1=\"0\" x2=\"79.66792557111275\" y2=\"-5\" style=\"\"></line><line x1=\"119.07585666912307\" y1=\"0\" x2=\"119.07585666912307\" y2=\"-5\" style=\"\"></line><line x1=\"158.48378776713338\" y1=\"0\" x2=\"158.48378776713338\" y2=\"-5\" style=\"\"></line></g><g><g transform=\"translate(0.8520633750921063,6)\"><text x=\"-2.78\" y=\"8.555\" style=\"fill:rgb(16.1%,15.3%,14.1%);fill-opacity:1.0;font-family:helvetica;font-size:10.0px;font-weight:normal;stroke:none;vertical-align:baseline;white-space:pre\">4</text></g><g transform=\"translate(40.259994473102424,6)\"><text x=\"-2.78\" y=\"8.555\" style=\"fill:rgb(16.1%,15.3%,14.1%);fill-opacity:1.0;font-family:helvetica;font-size:10.0px;font-weight:normal;stroke:none;vertical-align:baseline;white-space:pre\">3</text></g><g transform=\"translate(79.66792557111275,6)\"><text x=\"-2.78\" y=\"8.555\" style=\"fill:rgb(16.1%,15.3%,14.1%);fill-opacity:1.0;font-family:helvetica;font-size:10.0px;font-weight:normal;stroke:none;vertical-align:baseline;white-space:pre\">2</text></g><g transform=\"translate(119.07585666912307,6)\"><text x=\"-2.78\" y=\"8.555\" style=\"fill:rgb(16.1%,15.3%,14.1%);fill-opacity:1.0;font-family:helvetica;font-size:10.0px;font-weight:normal;stroke:none;vertical-align:baseline;white-space:pre\">1</text></g><g transform=\"translate(158.48378776713338,6)\"><text x=\"-2.78\" y=\"8.555\" style=\"fill:rgb(16.1%,15.3%,14.1%);fill-opacity:1.0;font-family:helvetica;font-size:10.0px;font-weight:normal;stroke:none;vertical-align:baseline;white-space:pre\">0</text></g></g><g class=\"toyplot-coordinates-Axis-coordinates\" style=\"visibility:hidden\" transform=\"\"><line x1=\"0\" x2=\"0\" y1=\"-3.0\" y2=\"4.5\" style=\"stroke:rgb(43.9%,50.2%,56.5%);stroke-opacity:1.0;stroke-width:1.0\"></line><text x=\"0\" y=\"-6\" style=\"alignment-baseline:alphabetic;fill:rgb(43.9%,50.2%,56.5%);fill-opacity:1.0;font-size:10px;font-weight:normal;stroke:none;text-anchor:middle\"></text></g></g></g><g class=\"toyplot-coordinates-Cartesian\" id=\"t5a6497870a2041bc9ba5937e901da13d\"><clipPath id=\"t748f14c8445c483fbb2fa80d3ce7763d\"><rect x=\"245.0\" y=\"40.0\" width=\"205.0\" height=\"150.0\"></rect></clipPath><g clip-path=\"url(#t748f14c8445c483fbb2fa80d3ce7763d)\"><g class=\"toytree-mark-Toytree\" id=\"t60a378722add4788bfa3a92c7d7097e2\"><g class=\"toytree-Edges\" style=\"stroke:rgb(14.5%,14.5%,14.5%);stroke-opacity:1.0;stroke-linecap:round;stroke-width:2.0;fill:none\"><path d=\"M 374.1 159.6 L 374.1 174.5 L 413.5 174.5\" id=\"5,0\" style=\"\"></path><path d=\"M 374.1 159.6 L 374.1 144.8 L 413.5 144.8\" id=\"5,1\" style=\"\"></path><path d=\"M 295.3 92.7 L 295.3 115.0 L 413.5 115.0\" id=\"7,2\" style=\"\"></path><path d=\"M 374.1 70.4 L 374.1 85.2 L 413.5 85.2\" id=\"6,3\" style=\"\"></path><path d=\"M 374.1 70.4 L 374.1 55.5 L 413.5 55.5\" id=\"6,4\" style=\"\"></path><path d=\"M 255.9 126.2 L 255.9 159.6 L 374.1 159.6\" id=\"8,5\" style=\"\"></path><path d=\"M 295.3 92.7 L 295.3 70.4 L 374.1 70.4\" id=\"7,6\" style=\"\"></path><path d=\"M 255.9 126.2 L 255.9 92.7 L 295.3 92.7\" id=\"8,7\" style=\"\"></path></g><g class=\"toytree-AdmixEdges\" style=\"fill:rgb(0.0%,0.0%,0.0%);fill-opacity:0.0;stroke:rgb(90.6%,54.1%,76.5%);stroke-opacity:0.6;font-size:14px;stroke-linecap:round;stroke-width:5\"></g><g class=\"toytree-Nodes\" style=\"fill:rgb(40.0%,76.1%,64.7%);fill-opacity:1.0;stroke:rgb(14.9%,14.9%,14.9%);stroke-opacity:1.0;stroke-width:1.5\"></g><g class=\"toytree-TipLabels\" style=\"fill:rgb(14.5%,14.5%,14.5%);fill-opacity:1.0;font-family:Helvetica;font-size:10px;font-weight:300;vertical-align:baseline;white-space:pre;stroke:none\"><g class=\"toytree-TipLabel\" transform=\"translate(413.484,174.507)\"><text x=\"10.0\" y=\"2.5549999999999997\" style=\"fill:rgb(14.5%,14.5%,14.5%);fill-opacity:1.0\">a</text></g><g class=\"toytree-TipLabel\" transform=\"translate(413.484,144.754)\"><text x=\"10.0\" y=\"2.5549999999999997\" style=\"fill:rgb(14.5%,14.5%,14.5%);fill-opacity:1.0\">b</text></g><g class=\"toytree-TipLabel\" transform=\"translate(413.484,115)\"><text x=\"10.0\" y=\"2.5549999999999997\" style=\"fill:rgb(14.5%,14.5%,14.5%);fill-opacity:1.0\">c</text></g><g class=\"toytree-TipLabel\" transform=\"translate(413.484,85.2465)\"><text x=\"10.0\" y=\"2.5549999999999997\" style=\"fill:rgb(14.5%,14.5%,14.5%);fill-opacity:1.0\">d</text></g><g class=\"toytree-TipLabel\" transform=\"translate(413.484,55.493)\"><text x=\"10.0\" y=\"2.5549999999999997\" style=\"fill:rgb(14.5%,14.5%,14.5%);fill-opacity:1.0\">e</text></g></g></g></g><g class=\"toyplot-coordinates-Axis\" id=\"t8f254f60beea4ad995b1d8d2144a6812\" transform=\"translate(255.0,180.0)translate(0,10.0)\"><line x1=\"0.8520633750921036\" y1=\"0\" x2=\"158.48378776713338\" y2=\"0\" style=\"\"></line><g><line x1=\"0.8520633750921036\" y1=\"0\" x2=\"0.8520633750921036\" y2=\"-5\" style=\"\"></line><line x1=\"79.66792557111275\" y1=\"0\" x2=\"79.66792557111275\" y2=\"-5\" style=\"\"></line><line x1=\"158.48378776713338\" y1=\"0\" x2=\"158.48378776713338\" y2=\"-5\" style=\"\"></line></g><g><g transform=\"translate(0.8520633750921036,6)\"><text x=\"-8.34\" y=\"8.555\" style=\"fill:rgb(16.1%,15.3%,14.1%);fill-opacity:1.0;font-family:helvetica;font-size:10.0px;font-weight:normal;stroke:none;vertical-align:baseline;white-space:pre\">100</text></g><g transform=\"translate(79.66792557111275,6)\"><text x=\"-5.56\" y=\"8.555\" style=\"fill:rgb(16.1%,15.3%,14.1%);fill-opacity:1.0;font-family:helvetica;font-size:10.0px;font-weight:normal;stroke:none;vertical-align:baseline;white-space:pre\">50</text></g><g transform=\"translate(158.48378776713338,6)\"><text x=\"-2.78\" y=\"8.555\" style=\"fill:rgb(16.1%,15.3%,14.1%);fill-opacity:1.0;font-family:helvetica;font-size:10.0px;font-weight:normal;stroke:none;vertical-align:baseline;white-space:pre\">0</text></g></g><g class=\"toyplot-coordinates-Axis-coordinates\" style=\"visibility:hidden\" transform=\"\"><line x1=\"0\" x2=\"0\" y1=\"-3.0\" y2=\"4.5\" style=\"stroke:rgb(43.9%,50.2%,56.5%);stroke-opacity:1.0;stroke-width:1.0\"></line><text x=\"0\" y=\"-6\" style=\"alignment-baseline:alphabetic;fill:rgb(43.9%,50.2%,56.5%);fill-opacity:1.0;font-size:10px;font-weight:normal;stroke:none;text-anchor:middle\"></text></g></g></g></svg><div class=\"toyplot-behavior\"><script>(function()\n",
       "{\n",
       "var modules={};\n",
       "modules[\"toyplot/canvas/id\"] = \"t70e8f28dbd364078a9422ab621afb0b5\";\n",
       "modules[\"toyplot/canvas\"] = (function(canvas_id)\n",
       "    {\n",
       "        return document.querySelector(\"#\" + canvas_id);\n",
       "    })(modules[\"toyplot/canvas/id\"]);\n",
       "modules[\"toyplot.coordinates.Axis\"] = (\n",
       "        function(canvas)\n",
       "        {\n",
       "            function sign(x)\n",
       "            {\n",
       "                return x < 0 ? -1 : x > 0 ? 1 : 0;\n",
       "            }\n",
       "\n",
       "            function mix(a, b, amount)\n",
       "            {\n",
       "                return ((1.0 - amount) * a) + (amount * b);\n",
       "            }\n",
       "\n",
       "            function log(x, base)\n",
       "            {\n",
       "                return Math.log(Math.abs(x)) / Math.log(base);\n",
       "            }\n",
       "\n",
       "            function in_range(a, x, b)\n",
       "            {\n",
       "                var left = Math.min(a, b);\n",
       "                var right = Math.max(a, b);\n",
       "                return left <= x && x <= right;\n",
       "            }\n",
       "\n",
       "            function inside(range, projection)\n",
       "            {\n",
       "                for(var i = 0; i != projection.length; ++i)\n",
       "                {\n",
       "                    var segment = projection[i];\n",
       "                    if(in_range(segment.range.min, range, segment.range.max))\n",
       "                        return true;\n",
       "                }\n",
       "                return false;\n",
       "            }\n",
       "\n",
       "            function to_domain(range, projection)\n",
       "            {\n",
       "                for(var i = 0; i != projection.length; ++i)\n",
       "                {\n",
       "                    var segment = projection[i];\n",
       "                    if(in_range(segment.range.bounds.min, range, segment.range.bounds.max))\n",
       "                    {\n",
       "                        if(segment.scale == \"linear\")\n",
       "                        {\n",
       "                            var amount = (range - segment.range.min) / (segment.range.max - segment.range.min);\n",
       "                            return mix(segment.domain.min, segment.domain.max, amount)\n",
       "                        }\n",
       "                        else if(segment.scale[0] == \"log\")\n",
       "                        {\n",
       "                            var amount = (range - segment.range.min) / (segment.range.max - segment.range.min);\n",
       "                            var base = segment.scale[1];\n",
       "                            return sign(segment.domain.min) * Math.pow(base, mix(log(segment.domain.min, base), log(segment.domain.max, base), amount));\n",
       "                        }\n",
       "                    }\n",
       "                }\n",
       "            }\n",
       "\n",
       "            var axes = {};\n",
       "\n",
       "            function display_coordinates(e)\n",
       "            {\n",
       "                var current = canvas.createSVGPoint();\n",
       "                current.x = e.clientX;\n",
       "                current.y = e.clientY;\n",
       "\n",
       "                for(var axis_id in axes)\n",
       "                {\n",
       "                    var axis = document.querySelector(\"#\" + axis_id);\n",
       "                    var coordinates = axis.querySelector(\".toyplot-coordinates-Axis-coordinates\");\n",
       "                    if(coordinates)\n",
       "                    {\n",
       "                        var projection = axes[axis_id];\n",
       "                        var local = current.matrixTransform(axis.getScreenCTM().inverse());\n",
       "                        if(inside(local.x, projection))\n",
       "                        {\n",
       "                            var domain = to_domain(local.x, projection);\n",
       "                            coordinates.style.visibility = \"visible\";\n",
       "                            coordinates.setAttribute(\"transform\", \"translate(\" + local.x + \")\");\n",
       "                            var text = coordinates.querySelector(\"text\");\n",
       "                            text.textContent = domain.toFixed(2);\n",
       "                        }\n",
       "                        else\n",
       "                        {\n",
       "                            coordinates.style.visibility= \"hidden\";\n",
       "                        }\n",
       "                    }\n",
       "                }\n",
       "            }\n",
       "\n",
       "            canvas.addEventListener(\"click\", display_coordinates);\n",
       "\n",
       "            var module = {};\n",
       "            module.show_coordinates = function(axis_id, projection)\n",
       "            {\n",
       "                axes[axis_id] = projection;\n",
       "            }\n",
       "\n",
       "            return module;\n",
       "        })(modules[\"toyplot/canvas\"]);\n",
       "(function(axis, axis_id, projection)\n",
       "        {\n",
       "            axis.show_coordinates(axis_id, projection);\n",
       "        })(modules[\"toyplot.coordinates.Axis\"],\"t0a623eaa03074619bc354fdf53bd1763\",[{\"domain\": {\"bounds\": {\"max\": Infinity, \"min\": -Infinity}, \"max\": 0.6728648648648647, \"min\": -4.021621621621621}, \"range\": {\"bounds\": {\"max\": Infinity, \"min\": -Infinity}, \"max\": 185.0, \"min\": 0.0}, \"scale\": \"linear\"}]);\n",
       "(function(axis, axis_id, projection)\n",
       "        {\n",
       "            axis.show_coordinates(axis_id, projection);\n",
       "        })(modules[\"toyplot.coordinates.Axis\"],\"t8f254f60beea4ad995b1d8d2144a6812\",[{\"domain\": {\"bounds\": {\"max\": Infinity, \"min\": -Infinity}, \"max\": 16.821621621621617, \"min\": -100.54054054054053}, \"range\": {\"bounds\": {\"max\": Infinity, \"min\": -Infinity}, \"max\": 185.0, \"min\": 0.0}, \"scale\": \"linear\"}]);\n",
       "})();</script></div></div>"
      ]
     },
     "metadata": {},
     "output_type": "display_data"
    }
   ],
   "source": [
    "# return a tree with edges scaled so root is at height=100\n",
    "modified = toytree.mod.edges_scale_to_root_height(tree, 100)\n",
    "\n",
    "# show the original and modified trees side by side\n",
    "toytree.mtree([tree, modified]).draw(scale_bar=True);"
   ]
  },
  {
   "cell_type": "code",
   "execution_count": 36,
   "id": "962a1d30-c85e-49b3-9e83-1af612abd090",
   "metadata": {},
   "outputs": [
    {
     "data": {
      "text/html": [
       "<div class=\"toyplot\" id=\"t8e54d212ff73486f8392d86b51af7a2d\" style=\"text-align:center\"><svg class=\"toyplot-canvas-Canvas\" xmlns:toyplot=\"http://www.sandia.gov/toyplot\" xmlns:xlink=\"http://www.w3.org/1999/xlink\" xmlns=\"http://www.w3.org/2000/svg\" width=\"450.0px\" height=\"250.0px\" viewBox=\"0 0 450.0 250.0\" preserveAspectRatio=\"xMidYMid meet\" style=\"background-color:transparent;border-color:#292724;border-style:none;border-width:1.0;fill:rgb(16.1%,15.3%,14.1%);fill-opacity:1.0;font-family:Helvetica;font-size:12px;opacity:1.0;stroke:rgb(16.1%,15.3%,14.1%);stroke-opacity:1.0;stroke-width:1.0\" id=\"teb6043a0709c44f09f321258f2d1152c\"><g class=\"toyplot-coordinates-Cartesian\" id=\"t5d982d6685284b7295fb8f07a5c41f01\"><clipPath id=\"tccaacd5461dd4425aef2b7f855f52611\"><rect x=\"20.0\" y=\"40.0\" width=\"205.0\" height=\"170.0\"></rect></clipPath><g clip-path=\"url(#tccaacd5461dd4425aef2b7f855f52611)\"><g class=\"toytree-mark-Toytree\" id=\"teb1921e0f0414b9398ae01ad1bab1229\"><g class=\"toytree-Edges\" style=\"stroke:rgb(14.5%,14.5%,14.5%);stroke-opacity:1.0;stroke-linecap:round;stroke-width:2.0;fill:none\"><path d=\"M 149.1 177.1 L 149.1 194.4 L 188.5 194.4\" id=\"5,0\" style=\"\"></path><path d=\"M 149.1 177.1 L 149.1 159.7 L 188.5 159.7\" id=\"5,1\" style=\"\"></path><path d=\"M 70.3 99.0 L 70.3 125.0 L 188.5 125.0\" id=\"7,2\" style=\"\"></path><path d=\"M 149.1 72.9 L 149.1 90.3 L 188.5 90.3\" id=\"6,3\" style=\"\"></path><path d=\"M 149.1 72.9 L 149.1 55.6 L 188.5 55.6\" id=\"6,4\" style=\"\"></path><path d=\"M 30.9 138.0 L 30.9 177.1 L 149.1 177.1\" id=\"8,5\" style=\"\"></path><path d=\"M 70.3 99.0 L 70.3 72.9 L 149.1 72.9\" id=\"7,6\" style=\"\"></path><path d=\"M 30.9 138.0 L 30.9 99.0 L 70.3 99.0\" id=\"8,7\" style=\"\"></path></g><g class=\"toytree-AdmixEdges\" style=\"fill:rgb(0.0%,0.0%,0.0%);fill-opacity:0.0;stroke:rgb(90.6%,54.1%,76.5%);stroke-opacity:0.6;font-size:14px;stroke-linecap:round;stroke-width:5\"></g><g class=\"toytree-Nodes\" style=\"fill:rgb(40.0%,76.1%,64.7%);fill-opacity:1.0;stroke:rgb(14.9%,14.9%,14.9%);stroke-opacity:1.0;stroke-width:1.5\"></g><g class=\"toytree-TipLabels\" style=\"fill:rgb(14.5%,14.5%,14.5%);fill-opacity:1.0;font-family:Helvetica;font-size:10px;font-weight:300;vertical-align:baseline;white-space:pre;stroke:none\"><g class=\"toytree-TipLabel\" transform=\"translate(188.484,194.444)\"><text x=\"10.0\" y=\"2.5549999999999997\" style=\"fill:rgb(14.5%,14.5%,14.5%);fill-opacity:1.0\">a</text></g><g class=\"toytree-TipLabel\" transform=\"translate(188.484,159.722)\"><text x=\"10.0\" y=\"2.5549999999999997\" style=\"fill:rgb(14.5%,14.5%,14.5%);fill-opacity:1.0\">b</text></g><g class=\"toytree-TipLabel\" transform=\"translate(188.484,125)\"><text x=\"10.0\" y=\"2.5549999999999997\" style=\"fill:rgb(14.5%,14.5%,14.5%);fill-opacity:1.0\">c</text></g><g class=\"toytree-TipLabel\" transform=\"translate(188.484,90.2778)\"><text x=\"10.0\" y=\"2.5549999999999997\" style=\"fill:rgb(14.5%,14.5%,14.5%);fill-opacity:1.0\">d</text></g><g class=\"toytree-TipLabel\" transform=\"translate(188.484,55.5556)\"><text x=\"10.0\" y=\"2.5549999999999997\" style=\"fill:rgb(14.5%,14.5%,14.5%);fill-opacity:1.0\">e</text></g></g></g></g></g><g class=\"toyplot-coordinates-Cartesian\" id=\"t281073d47f254258b7d911c43bd1dc7b\"><clipPath id=\"td793cef1c2da4dffbb9abf38a72f385d\"><rect x=\"245.0\" y=\"40.0\" width=\"205.0\" height=\"170.0\"></rect></clipPath><g clip-path=\"url(#td793cef1c2da4dffbb9abf38a72f385d)\"><g class=\"toytree-mark-Toytree\" id=\"t40a837ccc7a04a1e88f8875e4b509075\"><g class=\"toytree-Edges\" style=\"stroke:rgb(14.5%,14.5%,14.5%);stroke-opacity:1.0;stroke-linecap:round;stroke-width:2.0;fill:none\"><path d=\"M 374.1 180.6 L 374.1 194.4 L 413.5 194.4\" id=\"6,0\" style=\"\"></path><path d=\"M 374.1 180.6 L 374.1 166.7 L 413.5 166.7\" id=\"6,1\" style=\"\"></path><path d=\"M 295.3 114.6 L 295.3 138.9 L 413.5 138.9\" id=\"9,2\" style=\"\"></path><path d=\"M 374.1 90.3 L 374.1 111.1 L 413.5 111.1\" id=\"8,3\" style=\"\"></path><path d=\"M 393.8 69.4 L 393.8 83.3 L 413.5 83.3\" id=\"7,4\" style=\"\"></path><path d=\"M 393.8 69.4 L 393.8 55.6 L 413.5 55.6\" id=\"7,5\" style=\"\"></path><path d=\"M 255.9 147.6 L 255.9 180.6 L 374.1 180.6\" id=\"10,6\" style=\"\"></path><path d=\"M 374.1 90.3 L 374.1 69.4 L 393.8 69.4\" id=\"8,7\" style=\"\"></path><path d=\"M 295.3 114.6 L 295.3 90.3 L 374.1 90.3\" id=\"9,8\" style=\"\"></path><path d=\"M 255.9 147.6 L 255.9 114.6 L 295.3 114.6\" id=\"10,9\" style=\"\"></path></g><g class=\"toytree-AdmixEdges\" style=\"fill:rgb(0.0%,0.0%,0.0%);fill-opacity:0.0;stroke:rgb(90.6%,54.1%,76.5%);stroke-opacity:0.6;font-size:14px;stroke-linecap:round;stroke-width:5\"></g><g class=\"toytree-Nodes\" style=\"fill:rgb(40.0%,76.1%,64.7%);fill-opacity:1.0;stroke:rgb(14.9%,14.9%,14.9%);stroke-opacity:1.0;stroke-width:1.5\"></g><g class=\"toytree-TipLabels\" style=\"fill:rgb(14.5%,14.5%,14.5%);fill-opacity:1.0;font-family:Helvetica;font-size:10px;font-weight:300;vertical-align:baseline;white-space:pre;stroke:none\"><g class=\"toytree-TipLabel\" transform=\"translate(413.484,194.444)\"><text x=\"10.0\" y=\"2.5549999999999997\" style=\"fill:rgb(14.5%,14.5%,14.5%);fill-opacity:1.0\">a</text></g><g class=\"toytree-TipLabel\" transform=\"translate(413.484,166.667)\"><text x=\"10.0\" y=\"2.5549999999999997\" style=\"fill:rgb(14.5%,14.5%,14.5%);fill-opacity:1.0\">b</text></g><g class=\"toytree-TipLabel\" transform=\"translate(413.484,138.889)\"><text x=\"10.0\" y=\"2.5549999999999997\" style=\"fill:rgb(14.5%,14.5%,14.5%);fill-opacity:1.0\">c</text></g><g class=\"toytree-TipLabel\" transform=\"translate(413.484,111.111)\"><text x=\"10.0\" y=\"2.5549999999999997\" style=\"fill:rgb(14.5%,14.5%,14.5%);fill-opacity:1.0\">e</text></g><g class=\"toytree-TipLabel\" transform=\"translate(413.484,83.3333)\"><text x=\"10.0\" y=\"2.5549999999999997\" style=\"fill:rgb(14.5%,14.5%,14.5%);fill-opacity:1.0\">d</text></g><g class=\"toytree-TipLabel\" transform=\"translate(413.484,55.5556)\"><text x=\"10.0\" y=\"2.5549999999999997\" style=\"fill:rgb(14.5%,14.5%,14.5%);fill-opacity:1.0\">x</text></g></g></g></g></g></svg><div class=\"toyplot-behavior\"><script>(function()\n",
       "{\n",
       "var modules={};\n",
       "})();</script></div></div>"
      ]
     },
     "metadata": {},
     "output_type": "display_data"
    }
   ],
   "source": [
    "# return a tree with a new split (internal node and child) added\n",
    "modified = toytree.mod.add_internal_node_and_child(tree, \"d\", name=\"x\")\n",
    "\n",
    "# show the original and modified trees side by side\n",
    "toytree.mtree([tree, modified]).draw();"
   ]
  },
  {
   "cell_type": "markdown",
   "id": "ac50b2b4-d47d-4102-9cd4-5411281c0a85",
   "metadata": {},
   "source": [
    "**annotate**: add annotations to tree drawings. The `ToyTree.draw()` function accepts a large number of arguments that allow it to style tree drawings in variety of ways. However, it is difficult to make all options available within one function without causing confusion. Therefore, we have developed the `annotate` subpackage to house many additional methods for adding annotations to tree drawings after they are initially created. Some may prefer the use of this module to create tree drawing code that is more readable and atomized. "
   ]
  },
  {
   "cell_type": "code",
   "execution_count": 37,
   "id": "685d2ccc-af24-4a42-9512-f3cbf663c10d",
   "metadata": {},
   "outputs": [
    {
     "data": {
      "text/html": [
       "<div class=\"toyplot\" id=\"t9d6b5225d4944b488883532888a1769a\" style=\"text-align:center\"><svg class=\"toyplot-canvas-Canvas\" xmlns:toyplot=\"http://www.sandia.gov/toyplot\" xmlns:xlink=\"http://www.w3.org/1999/xlink\" xmlns=\"http://www.w3.org/2000/svg\" width=\"300.0px\" height=\"275.0px\" viewBox=\"0 0 300.0 275.0\" preserveAspectRatio=\"xMidYMid meet\" style=\"background-color:transparent;border-color:#292724;border-style:none;border-width:1.0;fill:rgb(16.1%,15.3%,14.1%);fill-opacity:1.0;font-family:Helvetica;font-size:12px;opacity:1.0;stroke:rgb(16.1%,15.3%,14.1%);stroke-opacity:1.0;stroke-width:1.0\" id=\"t407fd5d02c814b5480b20da712e1705c\"><g class=\"toyplot-coordinates-Cartesian\" id=\"t8ad8f5743ff6489cac49da86113ace41\"><clipPath id=\"t8cd86310c3004035b34a0560b27aed8f\"><rect x=\"35.0\" y=\"35.0\" width=\"230.0\" height=\"205.0\"></rect></clipPath><g clip-path=\"url(#t8cd86310c3004035b34a0560b27aed8f)\"><g class=\"toytree-mark-Toytree\" id=\"tc8a52d080f2b4faa8531b7adfe74868b\"><g class=\"toytree-Edges\" style=\"stroke:rgb(14.5%,14.5%,14.5%);stroke-opacity:1.0;stroke-linecap:round;stroke-width:2.0;fill:none\"><path d=\"M 173.6 197.0 L 173.6 216.8 L 214.5 216.8\" id=\"5,0\" style=\"\"></path><path d=\"M 173.6 197.0 L 173.6 177.2 L 214.5 177.2\" id=\"5,1\" style=\"\"></path><path d=\"M 91.7 107.7 L 91.7 137.5 L 214.5 137.5\" id=\"7,2\" style=\"\"></path><path d=\"M 173.6 78.0 L 173.6 97.8 L 214.5 97.8\" id=\"6,3\" style=\"\"></path><path d=\"M 173.6 78.0 L 173.6 58.2 L 214.5 58.2\" id=\"6,4\" style=\"\"></path><path d=\"M 50.8 152.4 L 50.8 197.0 L 173.6 197.0\" id=\"8,5\" style=\"\"></path><path d=\"M 91.7 107.7 L 91.7 78.0 L 173.6 78.0\" id=\"7,6\" style=\"\"></path><path d=\"M 50.8 152.4 L 50.8 107.7 L 91.7 107.7\" id=\"8,7\" style=\"\"></path></g><g class=\"toytree-AdmixEdges\" style=\"fill:rgb(0.0%,0.0%,0.0%);fill-opacity:0.0;stroke:rgb(90.6%,54.1%,76.5%);stroke-opacity:0.6;font-size:14px;stroke-linecap:round;stroke-width:5\"></g><g class=\"toytree-Nodes\" style=\"fill:rgb(40.0%,76.1%,64.7%);fill-opacity:1.0;stroke:rgb(14.9%,14.9%,14.9%);stroke-opacity:1.0;stroke-width:1.5\"></g><g class=\"toytree-TipLabels\" style=\"fill:rgb(14.5%,14.5%,14.5%);fill-opacity:1.0;font-family:Helvetica;font-size:12px;font-weight:300;vertical-align:baseline;white-space:pre;stroke:none\"><g class=\"toytree-TipLabel\" transform=\"translate(214.522,216.839)\"><text x=\"15.0\" y=\"3.066\" style=\"fill:rgb(14.5%,14.5%,14.5%);fill-opacity:1.0\">a</text></g><g class=\"toytree-TipLabel\" transform=\"translate(214.522,177.17)\"><text x=\"15.0\" y=\"3.066\" style=\"fill:rgb(14.5%,14.5%,14.5%);fill-opacity:1.0\">b</text></g><g class=\"toytree-TipLabel\" transform=\"translate(214.522,137.5)\"><text x=\"15.0\" y=\"3.066\" style=\"fill:rgb(14.5%,14.5%,14.5%);fill-opacity:1.0\">c</text></g><g class=\"toytree-TipLabel\" transform=\"translate(214.522,97.8303)\"><text x=\"15.0\" y=\"3.066\" style=\"fill:rgb(14.5%,14.5%,14.5%);fill-opacity:1.0\">d</text></g><g class=\"toytree-TipLabel\" transform=\"translate(214.522,58.1606)\"><text x=\"15.0\" y=\"3.066\" style=\"fill:rgb(14.5%,14.5%,14.5%);fill-opacity:1.0\">e</text></g></g></g><g class=\"toytree-Annotation-Markers\" id=\"t14be87ff31f24049857a2acb259b6010\" style=\"fill:rgb(98.0%,50.2%,44.7%);fill-opacity:1.0;stroke:rgb(14.9%,14.9%,14.9%);stroke-opacity:1.0;stroke-width:1.5\"><g id=\"Mark-0\" style=\"fill-opacity: 1.000\" transform=\"translate(214.522,216.839)\"><circle r=\"6.0\"></circle></g><g id=\"Mark-1\" style=\"fill-opacity: 1.000\" transform=\"translate(214.522,177.17)\"><circle r=\"6.0\"></circle></g><g id=\"Mark-2\" style=\"fill-opacity: 1.000\" transform=\"translate(214.522,137.5)\"><circle r=\"6.0\"></circle></g><g id=\"Mark-3\" style=\"fill-opacity: 1.000\" transform=\"translate(214.522,97.8303)\"><circle r=\"6.0\"></circle></g><g id=\"Mark-4\" style=\"fill-opacity: 1.000\" transform=\"translate(214.522,58.1606)\"><circle r=\"6.0\"></circle></g></g><g class=\"toyplot-mark-Text\" id=\"tabab38d2f4184ae58e4e437adb746940\"><g class=\"toyplot-Series\"><g class=\"toyplot-Datum\" transform=\"translate(194.05919523295026,216.83937823834196)\"><text x=\"-4.170000000000001\" y=\"-8.1675\" style=\"fill:rgb(14.5%,14.5%,14.5%);fill-opacity:1.0;font-family:Helvetica;font-size:15.0px;font-weight:300;opacity:1;stroke:none;vertical-align:baseline;white-space:pre\">0</text></g><g class=\"toyplot-Datum\" transform=\"translate(194.05919523295026,177.16968911917095)\"><text x=\"-4.170000000000001\" y=\"-8.1675\" style=\"fill:rgb(14.5%,14.5%,14.5%);fill-opacity:1.0;font-family:Helvetica;font-size:15.0px;font-weight:300;opacity:1;stroke:none;vertical-align:baseline;white-space:pre\">1</text></g><g class=\"toyplot-Datum\" transform=\"translate(153.13328749631665,137.5)\"><text x=\"-4.170000000000001\" y=\"-8.1675\" style=\"fill:rgb(14.5%,14.5%,14.5%);fill-opacity:1.0;font-family:Helvetica;font-size:15.0px;font-weight:300;opacity:1;stroke:none;vertical-align:baseline;white-space:pre\">2</text></g><g class=\"toyplot-Datum\" transform=\"translate(194.05919523295026,97.83031088082902)\"><text x=\"-4.170000000000001\" y=\"-8.1675\" style=\"fill:rgb(14.5%,14.5%,14.5%);fill-opacity:1.0;font-family:Helvetica;font-size:15.0px;font-weight:300;opacity:1;stroke:none;vertical-align:baseline;white-space:pre\">3</text></g><g class=\"toyplot-Datum\" transform=\"translate(194.05919523295026,58.16062176165802)\"><text x=\"-4.170000000000001\" y=\"-8.1675\" style=\"fill:rgb(14.5%,14.5%,14.5%);fill-opacity:1.0;font-family:Helvetica;font-size:15.0px;font-weight:300;opacity:1;stroke:none;vertical-align:baseline;white-space:pre\">4</text></g><g class=\"toyplot-Datum\" transform=\"translate(112.20737975968305,197.00453367875647)\"><text x=\"-4.170000000000001\" y=\"-8.1675\" style=\"fill:rgb(14.5%,14.5%,14.5%);fill-opacity:1.0;font-family:Helvetica;font-size:15.0px;font-weight:300;opacity:1;stroke:none;vertical-align:baseline;white-space:pre\">5</text></g><g class=\"toyplot-Datum\" transform=\"translate(132.67033362799987,77.99546632124353)\"><text x=\"-4.170000000000001\" y=\"-8.1675\" style=\"fill:rgb(14.5%,14.5%,14.5%);fill-opacity:1.0;font-family:Helvetica;font-size:15.0px;font-weight:300;opacity:1;stroke:none;vertical-align:baseline;white-space:pre\">6</text></g></g></g></g></g></svg><div class=\"toyplot-behavior\"><script>(function()\n",
       "{\n",
       "var modules={};\n",
       "})();</script></div></div>"
      ]
     },
     "metadata": {},
     "output_type": "display_data"
    }
   ],
   "source": [
    "# draw a tree and store returned objects\n",
    "canvas, axes, mark = tree.draw()\n",
    "\n",
    "# annotate method to add node markers\n",
    "toytree.annotate.add_tip_markers(tree, axes, color=\"salmon\", size=12);\n",
    "\n",
    "# annotate method to add to edge labels\n",
    "toytree.annotate.add_edge_labels(tree, axes, labels=\"idx\", font_size=15, yshift=-12, mask=False);"
   ]
  },
  {
   "cell_type": "markdown",
   "id": "ac9b156f-61c5-44ec-9bd3-fa2433936009",
   "metadata": {},
   "source": [
    "**pcm**: phylogenetic comparative methods. This module has a long way to go towards offering many of the numerous comparative methods that have been developed over decades for studying evolution on trees. Currently, a number of simulation and model fitting approaches are available for discrete and continuous traits. (This is a great place to contribute to toytree!)"
   ]
  },
  {
   "cell_type": "code",
   "execution_count": 38,
   "id": "eb0ae1ff-db76-4d73-985a-e2e3f3823b1c",
   "metadata": {},
   "outputs": [
    {
     "data": {
      "text/html": [
       "<div>\n",
       "<style scoped>\n",
       "    .dataframe tbody tr th:only-of-type {\n",
       "        vertical-align: middle;\n",
       "    }\n",
       "\n",
       "    .dataframe tbody tr th {\n",
       "        vertical-align: top;\n",
       "    }\n",
       "\n",
       "    .dataframe thead th {\n",
       "        text-align: right;\n",
       "    }\n",
       "</style>\n",
       "<table border=\"1\" class=\"dataframe\">\n",
       "  <thead>\n",
       "    <tr style=\"text-align: right;\">\n",
       "      <th></th>\n",
       "      <th>a</th>\n",
       "      <th>b</th>\n",
       "      <th>c</th>\n",
       "      <th>d</th>\n",
       "      <th>e</th>\n",
       "    </tr>\n",
       "  </thead>\n",
       "  <tbody>\n",
       "    <tr>\n",
       "      <th>a</th>\n",
       "      <td>1.0</td>\n",
       "      <td>3.0</td>\n",
       "      <td>0.0</td>\n",
       "      <td>0.0</td>\n",
       "      <td>0.0</td>\n",
       "    </tr>\n",
       "    <tr>\n",
       "      <th>b</th>\n",
       "      <td>3.0</td>\n",
       "      <td>1.0</td>\n",
       "      <td>0.0</td>\n",
       "      <td>0.0</td>\n",
       "      <td>0.0</td>\n",
       "    </tr>\n",
       "    <tr>\n",
       "      <th>c</th>\n",
       "      <td>0.0</td>\n",
       "      <td>0.0</td>\n",
       "      <td>3.0</td>\n",
       "      <td>1.0</td>\n",
       "      <td>1.0</td>\n",
       "    </tr>\n",
       "    <tr>\n",
       "      <th>d</th>\n",
       "      <td>0.0</td>\n",
       "      <td>0.0</td>\n",
       "      <td>1.0</td>\n",
       "      <td>1.0</td>\n",
       "      <td>3.0</td>\n",
       "    </tr>\n",
       "    <tr>\n",
       "      <th>e</th>\n",
       "      <td>0.0</td>\n",
       "      <td>0.0</td>\n",
       "      <td>1.0</td>\n",
       "      <td>3.0</td>\n",
       "      <td>1.0</td>\n",
       "    </tr>\n",
       "  </tbody>\n",
       "</table>\n",
       "</div>"
      ],
      "text/plain": [
       "     a    b    c    d    e\n",
       "a  1.0  3.0  0.0  0.0  0.0\n",
       "b  3.0  1.0  0.0  0.0  0.0\n",
       "c  0.0  0.0  3.0  1.0  1.0\n",
       "d  0.0  0.0  1.0  1.0  3.0\n",
       "e  0.0  0.0  1.0  3.0  1.0"
      ]
     },
     "execution_count": 38,
     "metadata": {},
     "output_type": "execute_result"
    }
   ],
   "source": [
    "# get variance-covariance matrix from tree\n",
    "toytree.pcm.get_vcv_matrix_from_tree(tree, df=True)"
   ]
  },
  {
   "cell_type": "code",
   "execution_count": 39,
   "id": "c487c74f-956e-4daa-bd7b-349a8220dc88",
   "metadata": {},
   "outputs": [
    {
     "data": {
      "text/html": [
       "<div>\n",
       "<style scoped>\n",
       "    .dataframe tbody tr th:only-of-type {\n",
       "        vertical-align: middle;\n",
       "    }\n",
       "\n",
       "    .dataframe tbody tr th {\n",
       "        vertical-align: top;\n",
       "    }\n",
       "\n",
       "    .dataframe thead th {\n",
       "        text-align: right;\n",
       "    }\n",
       "</style>\n",
       "<table border=\"1\" class=\"dataframe\">\n",
       "  <thead>\n",
       "    <tr style=\"text-align: right;\">\n",
       "      <th></th>\n",
       "      <th>t0</th>\n",
       "      <th>t1</th>\n",
       "      <th>t2</th>\n",
       "      <th>t3</th>\n",
       "      <th>t4</th>\n",
       "    </tr>\n",
       "  </thead>\n",
       "  <tbody>\n",
       "    <tr>\n",
       "      <th>0</th>\n",
       "      <td>1</td>\n",
       "      <td>0</td>\n",
       "      <td>2</td>\n",
       "      <td>1</td>\n",
       "      <td>1</td>\n",
       "    </tr>\n",
       "    <tr>\n",
       "      <th>1</th>\n",
       "      <td>2</td>\n",
       "      <td>2</td>\n",
       "      <td>1</td>\n",
       "      <td>0</td>\n",
       "      <td>1</td>\n",
       "    </tr>\n",
       "    <tr>\n",
       "      <th>2</th>\n",
       "      <td>2</td>\n",
       "      <td>1</td>\n",
       "      <td>1</td>\n",
       "      <td>0</td>\n",
       "      <td>0</td>\n",
       "    </tr>\n",
       "    <tr>\n",
       "      <th>3</th>\n",
       "      <td>2</td>\n",
       "      <td>2</td>\n",
       "      <td>2</td>\n",
       "      <td>1</td>\n",
       "      <td>2</td>\n",
       "    </tr>\n",
       "    <tr>\n",
       "      <th>4</th>\n",
       "      <td>1</td>\n",
       "      <td>0</td>\n",
       "      <td>0</td>\n",
       "      <td>0</td>\n",
       "      <td>2</td>\n",
       "    </tr>\n",
       "    <tr>\n",
       "      <th>5</th>\n",
       "      <td>0</td>\n",
       "      <td>0</td>\n",
       "      <td>1</td>\n",
       "      <td>1</td>\n",
       "      <td>1</td>\n",
       "    </tr>\n",
       "    <tr>\n",
       "      <th>6</th>\n",
       "      <td>2</td>\n",
       "      <td>0</td>\n",
       "      <td>0</td>\n",
       "      <td>2</td>\n",
       "      <td>2</td>\n",
       "    </tr>\n",
       "    <tr>\n",
       "      <th>7</th>\n",
       "      <td>0</td>\n",
       "      <td>2</td>\n",
       "      <td>2</td>\n",
       "      <td>2</td>\n",
       "      <td>2</td>\n",
       "    </tr>\n",
       "    <tr>\n",
       "      <th>8</th>\n",
       "      <td>2</td>\n",
       "      <td>2</td>\n",
       "      <td>1</td>\n",
       "      <td>1</td>\n",
       "      <td>0</td>\n",
       "    </tr>\n",
       "  </tbody>\n",
       "</table>\n",
       "</div>"
      ],
      "text/plain": [
       "   t0  t1  t2  t3  t4\n",
       "0   1   0   2   1   1\n",
       "1   2   2   1   0   1\n",
       "2   2   1   1   0   0\n",
       "3   2   2   2   1   2\n",
       "4   1   0   0   0   2\n",
       "5   0   0   1   1   1\n",
       "6   2   0   0   2   2\n",
       "7   0   2   2   2   2\n",
       "8   2   2   1   1   0"
      ]
     },
     "execution_count": 39,
     "metadata": {},
     "output_type": "execute_result"
    }
   ],
   "source": [
    "# simulate a discrete trait under a Markov transition model\n",
    "toytree.pcm.simulate_discrete_data(tree, nstates=3, model=\"ER\", nreplicates=5)"
   ]
  },
  {
   "cell_type": "markdown",
   "id": "7a9fa715",
   "metadata": {},
   "source": [
    "## Storing data to trees\n",
    "Any arbitrary data can be stored to trees by assigning it to the `Node` objects in the tree. This can be done in the most simple way by iterating over nodes in a tree and assigning values to nodes, or, it can be done by using a tree's `.set_node_data()` function, which has options for making it easy to assign values to some nodes but not others. The `get_node_data()` function is especially useful here in that it collects data from all Nodes and can provide NaN, or a custom value, for nodes that either have no value for a feature, or lack the feature all together, depending on how it was assigned. Several examples for setting data to nodes are shown:"
   ]
  },
  {
   "cell_type": "code",
   "execution_count": 40,
   "id": "a8d9a6f6-acb6-4158-bf23-3494cc336420",
   "metadata": {},
   "outputs": [
    {
     "data": {
      "text/html": [
       "<div>\n",
       "<style scoped>\n",
       "    .dataframe tbody tr th:only-of-type {\n",
       "        vertical-align: middle;\n",
       "    }\n",
       "\n",
       "    .dataframe tbody tr th {\n",
       "        vertical-align: top;\n",
       "    }\n",
       "\n",
       "    .dataframe thead th {\n",
       "        text-align: right;\n",
       "    }\n",
       "</style>\n",
       "<table border=\"1\" class=\"dataframe\">\n",
       "  <thead>\n",
       "    <tr style=\"text-align: right;\">\n",
       "      <th></th>\n",
       "      <th>idx</th>\n",
       "      <th>name</th>\n",
       "      <th>height</th>\n",
       "      <th>dist</th>\n",
       "      <th>support</th>\n",
       "      <th>trait1</th>\n",
       "      <th>trait2</th>\n",
       "      <th>trait3</th>\n",
       "      <th>trait4</th>\n",
       "    </tr>\n",
       "  </thead>\n",
       "  <tbody>\n",
       "    <tr>\n",
       "      <th>0</th>\n",
       "      <td>0</td>\n",
       "      <td>a</td>\n",
       "      <td>0.0</td>\n",
       "      <td>1.0</td>\n",
       "      <td>NaN</td>\n",
       "      <td>10</td>\n",
       "      <td>5</td>\n",
       "      <td>X</td>\n",
       "      <td>NaN</td>\n",
       "    </tr>\n",
       "    <tr>\n",
       "      <th>1</th>\n",
       "      <td>1</td>\n",
       "      <td>b</td>\n",
       "      <td>0.0</td>\n",
       "      <td>1.0</td>\n",
       "      <td>NaN</td>\n",
       "      <td>10</td>\n",
       "      <td>5</td>\n",
       "      <td>Y</td>\n",
       "      <td>NaN</td>\n",
       "    </tr>\n",
       "    <tr>\n",
       "      <th>2</th>\n",
       "      <td>2</td>\n",
       "      <td>c</td>\n",
       "      <td>0.0</td>\n",
       "      <td>3.0</td>\n",
       "      <td>NaN</td>\n",
       "      <td>10</td>\n",
       "      <td>5</td>\n",
       "      <td>NaN</td>\n",
       "      <td>NaN</td>\n",
       "    </tr>\n",
       "    <tr>\n",
       "      <th>3</th>\n",
       "      <td>3</td>\n",
       "      <td>d</td>\n",
       "      <td>0.0</td>\n",
       "      <td>1.0</td>\n",
       "      <td>NaN</td>\n",
       "      <td>10</td>\n",
       "      <td>5</td>\n",
       "      <td>NaN</td>\n",
       "      <td>NaN</td>\n",
       "    </tr>\n",
       "    <tr>\n",
       "      <th>4</th>\n",
       "      <td>4</td>\n",
       "      <td>e</td>\n",
       "      <td>0.0</td>\n",
       "      <td>1.0</td>\n",
       "      <td>NaN</td>\n",
       "      <td>10</td>\n",
       "      <td>5</td>\n",
       "      <td>NaN</td>\n",
       "      <td>NaN</td>\n",
       "    </tr>\n",
       "    <tr>\n",
       "      <th>5</th>\n",
       "      <td>5</td>\n",
       "      <td></td>\n",
       "      <td>1.0</td>\n",
       "      <td>3.0</td>\n",
       "      <td>90.0</td>\n",
       "      <td>10</td>\n",
       "      <td>1</td>\n",
       "      <td>NaN</td>\n",
       "      <td>NaN</td>\n",
       "    </tr>\n",
       "    <tr>\n",
       "      <th>6</th>\n",
       "      <td>6</td>\n",
       "      <td></td>\n",
       "      <td>1.0</td>\n",
       "      <td>2.0</td>\n",
       "      <td>100.0</td>\n",
       "      <td>10</td>\n",
       "      <td>1</td>\n",
       "      <td>NaN</td>\n",
       "      <td>special</td>\n",
       "    </tr>\n",
       "    <tr>\n",
       "      <th>7</th>\n",
       "      <td>7</td>\n",
       "      <td></td>\n",
       "      <td>3.0</td>\n",
       "      <td>1.0</td>\n",
       "      <td>100.0</td>\n",
       "      <td>10</td>\n",
       "      <td>1</td>\n",
       "      <td>NaN</td>\n",
       "      <td>NaN</td>\n",
       "    </tr>\n",
       "    <tr>\n",
       "      <th>8</th>\n",
       "      <td>8</td>\n",
       "      <td></td>\n",
       "      <td>4.0</td>\n",
       "      <td>0.0</td>\n",
       "      <td>NaN</td>\n",
       "      <td>10</td>\n",
       "      <td>1</td>\n",
       "      <td>NaN</td>\n",
       "      <td>NaN</td>\n",
       "    </tr>\n",
       "  </tbody>\n",
       "</table>\n",
       "</div>"
      ],
      "text/plain": [
       "   idx name  height  dist  support  trait1  trait2 trait3   trait4\n",
       "0    0    a     0.0   1.0      NaN      10       5      X      NaN\n",
       "1    1    b     0.0   1.0      NaN      10       5      Y      NaN\n",
       "2    2    c     0.0   3.0      NaN      10       5    NaN      NaN\n",
       "3    3    d     0.0   1.0      NaN      10       5    NaN      NaN\n",
       "4    4    e     0.0   1.0      NaN      10       5    NaN      NaN\n",
       "5    5          1.0   3.0     90.0      10       1    NaN      NaN\n",
       "6    6          1.0   2.0    100.0      10       1    NaN  special\n",
       "7    7          3.0   1.0    100.0      10       1    NaN      NaN\n",
       "8    8          4.0   0.0      NaN      10       1    NaN      NaN"
      ]
     },
     "execution_count": 40,
     "metadata": {},
     "output_type": "execute_result"
    }
   ],
   "source": [
    "# make a copy of tree on which we will add a bunch of data\n",
    "dtree = tree.copy()\n",
    "\n",
    "# add a feature and set all Nodes to a default value\n",
    "dtree = dtree.set_node_data(\"trait1\", default=10)\n",
    "\n",
    "# or set some to specific values and others to a default\n",
    "dtree = dtree.set_node_data(\"trait2\", {i: 5 for i in range(dtree.ntips)}, default=1)\n",
    "\n",
    "# or add some to specific values and leave others as NaN\n",
    "dtree = dtree.set_node_data(\"trait3\", {0: \"X\", 1: \"Y\"})\n",
    "\n",
    "# or, add a feature by assigning as an attribute to one or more Nodes\n",
    "dtree[6].trait4 = \"special\"\n",
    "\n",
    "# show the data\n",
    "dtree.get_node_data()"
   ]
  },
  {
   "cell_type": "markdown",
   "id": "4417dd8f",
   "metadata": {},
   "source": [
    "## Tree drawings\n",
    "When you call `.draw()` on a tree it returns three objects, a Canvas, Cartesian, and Mark. This follows the design principle of the [toyplot](https://toyplot.rtfd.io) plotting library that `toytree` uses as its default plotting backend. The Canvas describes the dimensions of the plot space, the Cartesian coordinates define how to project points onto that space, and a Mark represents plotted data. One Canvas can have multiple Cartesian coordinates, and each Cartesian object can have multiple Marks. After a plot is generated, each of these objects can be interacted with to set additional styling to axes, ticks, font sizes, etc. The three returned objects can be seen in the output field of the cell below."
   ]
  },
  {
   "cell_type": "code",
   "execution_count": 41,
   "id": "65367af6",
   "metadata": {},
   "outputs": [
    {
     "data": {
      "text/plain": [
       "(<toyplot.canvas.Canvas at 0x7fd8ef420940>,\n",
       " <toyplot.coordinates.Cartesian at 0x7fd8ef421600>,\n",
       " <toytree.drawing.src.mark_toytree.ToyTreeMark at 0x7fd8ef4209a0>)"
      ]
     },
     "execution_count": 41,
     "metadata": {},
     "output_type": "execute_result"
    },
    {
     "data": {
      "text/html": [
       "<div class=\"toyplot\" id=\"t2b074bff1ebd46c794808f5a407a6111\" style=\"text-align:center\"><svg class=\"toyplot-canvas-Canvas\" xmlns:toyplot=\"http://www.sandia.gov/toyplot\" xmlns:xlink=\"http://www.w3.org/1999/xlink\" xmlns=\"http://www.w3.org/2000/svg\" width=\"300.0px\" height=\"275.0px\" viewBox=\"0 0 300.0 275.0\" preserveAspectRatio=\"xMidYMid meet\" style=\"background-color:transparent;border-color:#292724;border-style:none;border-width:1.0;fill:rgb(16.1%,15.3%,14.1%);fill-opacity:1.0;font-family:Helvetica;font-size:12px;opacity:1.0;stroke:rgb(16.1%,15.3%,14.1%);stroke-opacity:1.0;stroke-width:1.0\" id=\"ta8684c59308c4ee68082f732a69f4a9e\"><g class=\"toyplot-coordinates-Cartesian\" id=\"te55874a06dcc4705884bd6e34b2bbe16\"><clipPath id=\"t18f85cd91bff4f20902b00852371993b\"><rect x=\"35.0\" y=\"35.0\" width=\"230.0\" height=\"205.0\"></rect></clipPath><g clip-path=\"url(#t18f85cd91bff4f20902b00852371993b)\"><g class=\"toytree-mark-Toytree\" id=\"t6d2e3472a5334cc88ca13522e4598cc0\"><g class=\"toytree-Edges\" style=\"stroke:rgb(14.5%,14.5%,14.5%);stroke-opacity:1.0;stroke-linecap:round;stroke-width:2.0;fill:none\"><path d=\"M 173.6 198.1 L 173.6 218.3 L 214.5 218.3\" id=\"5,0\" style=\"\"></path><path d=\"M 173.6 198.1 L 173.6 177.9 L 214.5 177.9\" id=\"5,1\" style=\"\"></path><path d=\"M 91.7 107.2 L 91.7 137.5 L 214.5 137.5\" id=\"7,2\" style=\"\"></path><path d=\"M 173.6 76.9 L 173.6 97.1 L 214.5 97.1\" id=\"6,3\" style=\"\"></path><path d=\"M 173.6 76.9 L 173.6 56.7 L 214.5 56.7\" id=\"6,4\" style=\"\"></path><path d=\"M 50.8 152.7 L 50.8 198.1 L 173.6 198.1\" id=\"8,5\" style=\"\"></path><path d=\"M 91.7 107.2 L 91.7 76.9 L 173.6 76.9\" id=\"7,6\" style=\"\"></path><path d=\"M 50.8 152.7 L 50.8 107.2 L 91.7 107.2\" id=\"8,7\" style=\"\"></path></g><g class=\"toytree-AdmixEdges\" style=\"fill:rgb(0.0%,0.0%,0.0%);fill-opacity:0.0;stroke:rgb(90.6%,54.1%,76.5%);stroke-opacity:0.6;font-size:14px;stroke-linecap:round;stroke-width:5\"></g><g class=\"toytree-Nodes\" style=\"fill:rgb(40.0%,76.1%,64.7%);fill-opacity:1.0;stroke:rgb(14.9%,14.9%,14.9%);stroke-opacity:1.0;stroke-width:1.5\"></g><g class=\"toytree-TipLabels\" style=\"fill:rgb(14.5%,14.5%,14.5%);fill-opacity:1.0;font-family:Helvetica;font-size:12px;font-weight:300;vertical-align:baseline;white-space:pre;stroke:none\"><g class=\"toytree-TipLabel\" transform=\"translate(214.522,218.347)\"><text x=\"15.0\" y=\"3.066\" style=\"fill:rgb(14.5%,14.5%,14.5%);fill-opacity:1.0\">a</text></g><g class=\"toytree-TipLabel\" transform=\"translate(214.522,177.924)\"><text x=\"15.0\" y=\"3.066\" style=\"fill:rgb(14.5%,14.5%,14.5%);fill-opacity:1.0\">b</text></g><g class=\"toytree-TipLabel\" transform=\"translate(214.522,137.5)\"><text x=\"15.0\" y=\"3.066\" style=\"fill:rgb(14.5%,14.5%,14.5%);fill-opacity:1.0\">c</text></g><g class=\"toytree-TipLabel\" transform=\"translate(214.522,97.0763)\"><text x=\"15.0\" y=\"3.066\" style=\"fill:rgb(14.5%,14.5%,14.5%);fill-opacity:1.0\">d</text></g><g class=\"toytree-TipLabel\" transform=\"translate(214.522,56.6526)\"><text x=\"15.0\" y=\"3.066\" style=\"fill:rgb(14.5%,14.5%,14.5%);fill-opacity:1.0\">e</text></g></g></g></g></g></svg><div class=\"toyplot-behavior\"><script>(function()\n",
       "{\n",
       "var modules={};\n",
       "})();</script></div></div>"
      ]
     },
     "metadata": {},
     "output_type": "display_data"
    }
   ],
   "source": [
    "# the draw function returns three objects\n",
    "tree.draw()"
   ]
  },
  {
   "cell_type": "markdown",
   "id": "1cd4bf0e-2547-4918-929a-71756df6101d",
   "metadata": {},
   "source": [
    "As you may have noticed, I end many drawing commands with a semicolon which simply hides the return values when we don't intend to save them to variables. In a notebook the Canvas will automatically render in the cell below the plot even if you do not save it as a variable. If you save the notebook the rendered figure is saved to the output."
   ]
  },
  {
   "cell_type": "code",
   "execution_count": 42,
   "id": "faac3b95-14a4-400d-9053-066de0f73648",
   "metadata": {},
   "outputs": [
    {
     "data": {
      "text/html": [
       "<div class=\"toyplot\" id=\"t00bfdcbdb27f42cf8ff4308ac05bcf1f\" style=\"text-align:center\"><svg class=\"toyplot-canvas-Canvas\" xmlns:toyplot=\"http://www.sandia.gov/toyplot\" xmlns:xlink=\"http://www.w3.org/1999/xlink\" xmlns=\"http://www.w3.org/2000/svg\" width=\"300.0px\" height=\"275.0px\" viewBox=\"0 0 300.0 275.0\" preserveAspectRatio=\"xMidYMid meet\" style=\"background-color:transparent;border-color:#292724;border-style:none;border-width:1.0;fill:rgb(16.1%,15.3%,14.1%);fill-opacity:1.0;font-family:Helvetica;font-size:12px;opacity:1.0;stroke:rgb(16.1%,15.3%,14.1%);stroke-opacity:1.0;stroke-width:1.0\" id=\"te85895715fd149208f77f2629935fba4\"><g class=\"toyplot-coordinates-Cartesian\" id=\"t7ea2d2ffa99b4a538263dc5e63118c02\"><clipPath id=\"t029be913f2c2420f89f7f25fffe03b1f\"><rect x=\"35.0\" y=\"35.0\" width=\"230.0\" height=\"205.0\"></rect></clipPath><g clip-path=\"url(#t029be913f2c2420f89f7f25fffe03b1f)\"><g class=\"toytree-mark-Toytree\" id=\"t2a1eb7a1b64442db9e88f4db9605c3da\"><g class=\"toytree-Edges\" style=\"stroke:rgb(14.5%,14.5%,14.5%);stroke-opacity:1.0;stroke-linecap:round;stroke-width:2.0;fill:none\"><path d=\"M 173.6 198.1 L 173.6 218.3 L 214.5 218.3\" id=\"5,0\" style=\"\"></path><path d=\"M 173.6 198.1 L 173.6 177.9 L 214.5 177.9\" id=\"5,1\" style=\"\"></path><path d=\"M 91.7 107.2 L 91.7 137.5 L 214.5 137.5\" id=\"7,2\" style=\"\"></path><path d=\"M 173.6 76.9 L 173.6 97.1 L 214.5 97.1\" id=\"6,3\" style=\"\"></path><path d=\"M 173.6 76.9 L 173.6 56.7 L 214.5 56.7\" id=\"6,4\" style=\"\"></path><path d=\"M 50.8 152.7 L 50.8 198.1 L 173.6 198.1\" id=\"8,5\" style=\"\"></path><path d=\"M 91.7 107.2 L 91.7 76.9 L 173.6 76.9\" id=\"7,6\" style=\"\"></path><path d=\"M 50.8 152.7 L 50.8 107.2 L 91.7 107.2\" id=\"8,7\" style=\"\"></path></g><g class=\"toytree-AdmixEdges\" style=\"fill:rgb(0.0%,0.0%,0.0%);fill-opacity:0.0;stroke:rgb(90.6%,54.1%,76.5%);stroke-opacity:0.6;font-size:14px;stroke-linecap:round;stroke-width:5\"></g><g class=\"toytree-Nodes\" style=\"fill:rgb(40.0%,76.1%,64.7%);fill-opacity:1.0;stroke:rgb(14.9%,14.9%,14.9%);stroke-opacity:1.0;stroke-width:1.5\"></g><g class=\"toytree-TipLabels\" style=\"fill:rgb(14.5%,14.5%,14.5%);fill-opacity:1.0;font-family:Helvetica;font-size:12px;font-weight:300;vertical-align:baseline;white-space:pre;stroke:none\"><g class=\"toytree-TipLabel\" transform=\"translate(214.522,218.347)\"><text x=\"15.0\" y=\"3.066\" style=\"fill:rgb(14.5%,14.5%,14.5%);fill-opacity:1.0\">a</text></g><g class=\"toytree-TipLabel\" transform=\"translate(214.522,177.924)\"><text x=\"15.0\" y=\"3.066\" style=\"fill:rgb(14.5%,14.5%,14.5%);fill-opacity:1.0\">b</text></g><g class=\"toytree-TipLabel\" transform=\"translate(214.522,137.5)\"><text x=\"15.0\" y=\"3.066\" style=\"fill:rgb(14.5%,14.5%,14.5%);fill-opacity:1.0\">c</text></g><g class=\"toytree-TipLabel\" transform=\"translate(214.522,97.0763)\"><text x=\"15.0\" y=\"3.066\" style=\"fill:rgb(14.5%,14.5%,14.5%);fill-opacity:1.0\">d</text></g><g class=\"toytree-TipLabel\" transform=\"translate(214.522,56.6526)\"><text x=\"15.0\" y=\"3.066\" style=\"fill:rgb(14.5%,14.5%,14.5%);fill-opacity:1.0\">e</text></g></g></g></g></g></svg><div class=\"toyplot-behavior\"><script>(function()\n",
       "{\n",
       "var modules={};\n",
       "})();</script></div></div>"
      ]
     },
     "metadata": {},
     "output_type": "display_data"
    }
   ],
   "source": [
    "# the semicolon hides the returned text of the Canvas and Cartesian objects\n",
    "tree.draw();"
   ]
  },
  {
   "cell_type": "markdown",
   "id": "79228787-6ed0-4376-bb20-0c03ff40ea85",
   "metadata": {},
   "source": [
    "Finally, you can store the three returned objects, in which case you can add additional styling and/or save to a file. In this example I add additional styling to the Cartesian axes. "
   ]
  },
  {
   "cell_type": "code",
   "execution_count": 43,
   "id": "d10a12a6-acbf-4800-832b-31b939f268f7",
   "metadata": {},
   "outputs": [
    {
     "data": {
      "text/html": [
       "<div class=\"toyplot\" id=\"t852fa26a9b3446408e06eeafc7260078\" style=\"text-align:center\"><svg class=\"toyplot-canvas-Canvas\" xmlns:toyplot=\"http://www.sandia.gov/toyplot\" xmlns:xlink=\"http://www.w3.org/1999/xlink\" xmlns=\"http://www.w3.org/2000/svg\" width=\"300.0px\" height=\"275.0px\" viewBox=\"0 0 300.0 275.0\" preserveAspectRatio=\"xMidYMid meet\" style=\"background-color:transparent;border-color:#292724;border-style:none;border-width:1.0;fill:rgb(16.1%,15.3%,14.1%);fill-opacity:1.0;font-family:Helvetica;font-size:12px;opacity:1.0;stroke:rgb(16.1%,15.3%,14.1%);stroke-opacity:1.0;stroke-width:1.0\" id=\"t0670f8cef01244c791fc42492859c66f\"><g class=\"toyplot-coordinates-Cartesian\" id=\"tdcb5fc5af41d40a0be85e2407102e40f\"><clipPath id=\"t0135c06085a448188e150f55f834868e\"><rect x=\"35.0\" y=\"35.0\" width=\"230.0\" height=\"205.0\"></rect></clipPath><g clip-path=\"url(#t0135c06085a448188e150f55f834868e)\"><g class=\"toytree-mark-Toytree\" id=\"t472f75a073b7419ca9a14c3cdb6f7206\"><g class=\"toytree-Edges\" style=\"stroke:rgb(14.5%,14.5%,14.5%);stroke-opacity:1.0;stroke-linecap:round;stroke-width:2.0;fill:none\"><path d=\"M 173.6 198.1 L 173.6 218.3 L 214.5 218.3\" id=\"5,0\" style=\"\"></path><path d=\"M 173.6 198.1 L 173.6 177.9 L 214.5 177.9\" id=\"5,1\" style=\"\"></path><path d=\"M 91.7 107.2 L 91.7 137.5 L 214.5 137.5\" id=\"7,2\" style=\"\"></path><path d=\"M 173.6 76.9 L 173.6 97.1 L 214.5 97.1\" id=\"6,3\" style=\"\"></path><path d=\"M 173.6 76.9 L 173.6 56.7 L 214.5 56.7\" id=\"6,4\" style=\"\"></path><path d=\"M 50.8 152.7 L 50.8 198.1 L 173.6 198.1\" id=\"8,5\" style=\"\"></path><path d=\"M 91.7 107.2 L 91.7 76.9 L 173.6 76.9\" id=\"7,6\" style=\"\"></path><path d=\"M 50.8 152.7 L 50.8 107.2 L 91.7 107.2\" id=\"8,7\" style=\"\"></path></g><g class=\"toytree-AdmixEdges\" style=\"fill:rgb(0.0%,0.0%,0.0%);fill-opacity:0.0;stroke:rgb(90.6%,54.1%,76.5%);stroke-opacity:0.6;font-size:14px;stroke-linecap:round;stroke-width:5\"></g><g class=\"toytree-Nodes\" style=\"fill:rgb(40.0%,76.1%,64.7%);fill-opacity:1.0;stroke:rgb(14.9%,14.9%,14.9%);stroke-opacity:1.0;stroke-width:1.5\"></g><g class=\"toytree-TipLabels\" style=\"fill:rgb(14.5%,14.5%,14.5%);fill-opacity:1.0;font-family:Helvetica;font-size:12px;font-weight:300;vertical-align:baseline;white-space:pre;stroke:none\"><g class=\"toytree-TipLabel\" transform=\"translate(214.522,218.347)\"><text x=\"15.0\" y=\"3.066\" style=\"fill:rgb(14.5%,14.5%,14.5%);fill-opacity:1.0\">a</text></g><g class=\"toytree-TipLabel\" transform=\"translate(214.522,177.924)\"><text x=\"15.0\" y=\"3.066\" style=\"fill:rgb(14.5%,14.5%,14.5%);fill-opacity:1.0\">b</text></g><g class=\"toytree-TipLabel\" transform=\"translate(214.522,137.5)\"><text x=\"15.0\" y=\"3.066\" style=\"fill:rgb(14.5%,14.5%,14.5%);fill-opacity:1.0\">c</text></g><g class=\"toytree-TipLabel\" transform=\"translate(214.522,97.0763)\"><text x=\"15.0\" y=\"3.066\" style=\"fill:rgb(14.5%,14.5%,14.5%);fill-opacity:1.0\">d</text></g><g class=\"toytree-TipLabel\" transform=\"translate(214.522,56.6526)\"><text x=\"15.0\" y=\"3.066\" style=\"fill:rgb(14.5%,14.5%,14.5%);fill-opacity:1.0\">e</text></g></g></g></g><g class=\"toyplot-coordinates-Axis\" id=\"t6c8e1ca83a024bd68196110bca88bcd7\" transform=\"translate(50.0,225.0)translate(0,15.0)\"><line x1=\"0.8185181547326547\" y1=\"0\" x2=\"164.52214910126705\" y2=\"0\" style=\"\"></line><g><line x1=\"0.8185181547326547\" y1=\"0\" x2=\"0.8185181547326547\" y2=\"-5\" style=\"\"></line><line x1=\"41.744425891366255\" y1=\"0\" x2=\"41.744425891366255\" y2=\"-5\" style=\"\"></line><line x1=\"82.67033362799985\" y1=\"0\" x2=\"82.67033362799985\" y2=\"-5\" style=\"\"></line><line x1=\"123.59624136463346\" y1=\"0\" x2=\"123.59624136463346\" y2=\"-5\" style=\"\"></line><line x1=\"164.52214910126705\" y1=\"0\" x2=\"164.52214910126705\" y2=\"-5\" style=\"\"></line></g><g><g transform=\"translate(0.8185181547326547,6)\"><text x=\"-2.78\" y=\"8.555\" style=\"fill:rgb(16.1%,15.3%,14.1%);fill-opacity:1.0;font-family:helvetica;font-size:10.0px;font-weight:normal;stroke:none;vertical-align:baseline;white-space:pre\">4</text></g><g transform=\"translate(41.744425891366255,6)\"><text x=\"-2.78\" y=\"8.555\" style=\"fill:rgb(16.1%,15.3%,14.1%);fill-opacity:1.0;font-family:helvetica;font-size:10.0px;font-weight:normal;stroke:none;vertical-align:baseline;white-space:pre\">3</text></g><g transform=\"translate(82.67033362799985,6)\"><text x=\"-2.78\" y=\"8.555\" style=\"fill:rgb(16.1%,15.3%,14.1%);fill-opacity:1.0;font-family:helvetica;font-size:10.0px;font-weight:normal;stroke:none;vertical-align:baseline;white-space:pre\">2</text></g><g transform=\"translate(123.59624136463346,6)\"><text x=\"-2.78\" y=\"8.555\" style=\"fill:rgb(16.1%,15.3%,14.1%);fill-opacity:1.0;font-family:helvetica;font-size:10.0px;font-weight:normal;stroke:none;vertical-align:baseline;white-space:pre\">1</text></g><g transform=\"translate(164.52214910126705,6)\"><text x=\"-2.78\" y=\"8.555\" style=\"fill:rgb(16.1%,15.3%,14.1%);fill-opacity:1.0;font-family:helvetica;font-size:10.0px;font-weight:normal;stroke:none;vertical-align:baseline;white-space:pre\">0</text></g></g><g transform=\"translate(100.0,20.0)\"><text x=\"-36.561\" y=\"11.977\" style=\"fill:rgb(16.1%,15.3%,14.1%);fill-opacity:1.0;font-family:helvetica;font-size:14.0px;font-weight:bold;stroke:none;vertical-align:baseline;white-space:pre\">Time (Mya)</text></g><g class=\"toyplot-coordinates-Axis-coordinates\" style=\"visibility:hidden\" transform=\"\"><line x1=\"0\" x2=\"0\" y1=\"-3.0\" y2=\"4.5\" style=\"stroke:rgb(43.9%,50.2%,56.5%);stroke-opacity:1.0;stroke-width:1.0\"></line><text x=\"0\" y=\"-6\" style=\"alignment-baseline:alphabetic;fill:rgb(43.9%,50.2%,56.5%);fill-opacity:1.0;font-size:10px;font-weight:normal;stroke:none;text-anchor:middle\"></text></g></g></g></svg><div class=\"toyplot-behavior\"><script>(function()\n",
       "{\n",
       "var modules={};\n",
       "modules[\"toyplot/canvas/id\"] = \"t0670f8cef01244c791fc42492859c66f\";\n",
       "modules[\"toyplot/canvas\"] = (function(canvas_id)\n",
       "    {\n",
       "        return document.querySelector(\"#\" + canvas_id);\n",
       "    })(modules[\"toyplot/canvas/id\"]);\n",
       "modules[\"toyplot.coordinates.Axis\"] = (\n",
       "        function(canvas)\n",
       "        {\n",
       "            function sign(x)\n",
       "            {\n",
       "                return x < 0 ? -1 : x > 0 ? 1 : 0;\n",
       "            }\n",
       "\n",
       "            function mix(a, b, amount)\n",
       "            {\n",
       "                return ((1.0 - amount) * a) + (amount * b);\n",
       "            }\n",
       "\n",
       "            function log(x, base)\n",
       "            {\n",
       "                return Math.log(Math.abs(x)) / Math.log(base);\n",
       "            }\n",
       "\n",
       "            function in_range(a, x, b)\n",
       "            {\n",
       "                var left = Math.min(a, b);\n",
       "                var right = Math.max(a, b);\n",
       "                return left <= x && x <= right;\n",
       "            }\n",
       "\n",
       "            function inside(range, projection)\n",
       "            {\n",
       "                for(var i = 0; i != projection.length; ++i)\n",
       "                {\n",
       "                    var segment = projection[i];\n",
       "                    if(in_range(segment.range.min, range, segment.range.max))\n",
       "                        return true;\n",
       "                }\n",
       "                return false;\n",
       "            }\n",
       "\n",
       "            function to_domain(range, projection)\n",
       "            {\n",
       "                for(var i = 0; i != projection.length; ++i)\n",
       "                {\n",
       "                    var segment = projection[i];\n",
       "                    if(in_range(segment.range.bounds.min, range, segment.range.bounds.max))\n",
       "                    {\n",
       "                        if(segment.scale == \"linear\")\n",
       "                        {\n",
       "                            var amount = (range - segment.range.min) / (segment.range.max - segment.range.min);\n",
       "                            return mix(segment.domain.min, segment.domain.max, amount)\n",
       "                        }\n",
       "                        else if(segment.scale[0] == \"log\")\n",
       "                        {\n",
       "                            var amount = (range - segment.range.min) / (segment.range.max - segment.range.min);\n",
       "                            var base = segment.scale[1];\n",
       "                            return sign(segment.domain.min) * Math.pow(base, mix(log(segment.domain.min, base), log(segment.domain.max, base), amount));\n",
       "                        }\n",
       "                    }\n",
       "                }\n",
       "            }\n",
       "\n",
       "            var axes = {};\n",
       "\n",
       "            function display_coordinates(e)\n",
       "            {\n",
       "                var current = canvas.createSVGPoint();\n",
       "                current.x = e.clientX;\n",
       "                current.y = e.clientY;\n",
       "\n",
       "                for(var axis_id in axes)\n",
       "                {\n",
       "                    var axis = document.querySelector(\"#\" + axis_id);\n",
       "                    var coordinates = axis.querySelector(\".toyplot-coordinates-Axis-coordinates\");\n",
       "                    if(coordinates)\n",
       "                    {\n",
       "                        var projection = axes[axis_id];\n",
       "                        var local = current.matrixTransform(axis.getScreenCTM().inverse());\n",
       "                        if(inside(local.x, projection))\n",
       "                        {\n",
       "                            var domain = to_domain(local.x, projection);\n",
       "                            coordinates.style.visibility = \"visible\";\n",
       "                            coordinates.setAttribute(\"transform\", \"translate(\" + local.x + \")\");\n",
       "                            var text = coordinates.querySelector(\"text\");\n",
       "                            text.textContent = domain.toFixed(2);\n",
       "                        }\n",
       "                        else\n",
       "                        {\n",
       "                            coordinates.style.visibility= \"hidden\";\n",
       "                        }\n",
       "                    }\n",
       "                }\n",
       "            }\n",
       "\n",
       "            canvas.addEventListener(\"click\", display_coordinates);\n",
       "\n",
       "            var module = {};\n",
       "            module.show_coordinates = function(axis_id, projection)\n",
       "            {\n",
       "                axes[axis_id] = projection;\n",
       "            }\n",
       "\n",
       "            return module;\n",
       "        })(modules[\"toyplot/canvas\"]);\n",
       "(function(axis, axis_id, projection)\n",
       "        {\n",
       "            axis.show_coordinates(axis_id, projection);\n",
       "        })(modules[\"toyplot.coordinates.Axis\"],\"t6c8e1ca83a024bd68196110bca88bcd7\",[{\"domain\": {\"bounds\": {\"max\": Infinity, \"min\": -Infinity}, \"max\": 0.8668800000000001, \"min\": -4.02}, \"range\": {\"bounds\": {\"max\": Infinity, \"min\": -Infinity}, \"max\": 200.0, \"min\": 0.0}, \"scale\": \"linear\"}]);\n",
       "})();</script></div></div>"
      ]
     },
     "metadata": {},
     "output_type": "display_data"
    }
   ],
   "source": [
    "# or, we can store them as variables\n",
    "canvas, axes, mark = tree.draw(scale_bar=True)\n",
    "\n",
    "# and then optionally add additional styling\n",
    "axes.x.label.text = \"Time (Mya)\"\n",
    "axes.x.label.style[\"font-size\"] = 14\n",
    "axes.x.label.offset = 20"
   ]
  },
  {
   "cell_type": "markdown",
   "id": "f648ecad-4f1a-42f5-9255-c28aaf04a839",
   "metadata": {},
   "source": [
    "## Styling tree drawings\n",
    "There are innumerous ways in which to style tree drawings. In addition to individual options that change a style component one-by-one, we also provide a number of built-in \"tree-style\" arguments, which change the default style on top of which additional changes can be made. Users can also create their own tree-style dictionaries easily. You can view the `draw` function docstring for more details on available arguments, or you can see which styles are available by accessing the `.style` dict-like object of a `ToyTree`. See the `Styling` documentation for more details."
   ]
  },
  {
   "cell_type": "code",
   "execution_count": 44,
   "id": "350ef321-d365-4c79-a46b-40bcecc7762d",
   "metadata": {},
   "outputs": [
    {
     "data": {
      "text/html": [
       "<div class=\"toyplot\" id=\"t13b82d26e08345b7b6262fc741f011cf\" style=\"text-align:center\"><svg class=\"toyplot-canvas-Canvas\" xmlns:toyplot=\"http://www.sandia.gov/toyplot\" xmlns:xlink=\"http://www.w3.org/1999/xlink\" xmlns=\"http://www.w3.org/2000/svg\" width=\"300.0px\" height=\"300.0px\" viewBox=\"0 0 300.0 300.0\" preserveAspectRatio=\"xMidYMid meet\" style=\"background-color:transparent;border-color:#292724;border-style:none;border-width:1.0;fill:rgb(16.1%,15.3%,14.1%);fill-opacity:1.0;font-family:Helvetica;font-size:12px;opacity:1.0;stroke:rgb(16.1%,15.3%,14.1%);stroke-opacity:1.0;stroke-width:1.0\" id=\"tf000bca025604f3888b565daa70de4a4\"><g class=\"toyplot-coordinates-Cartesian\" id=\"t6a1321be38364d9bbcd80f1b6ef40d7c\"><clipPath id=\"t7859d4395ce94b7188e0853acb8f55c5\"><rect x=\"35.0\" y=\"35.0\" width=\"230.0\" height=\"230.0\"></rect></clipPath><g clip-path=\"url(#t7859d4395ce94b7188e0853acb8f55c5)\"><g class=\"toytree-mark-Toytree\" id=\"t0e87c65c97ee46459c9cb6f23dbf2349\"><g class=\"toytree-Edges\" style=\"stroke:rgb(14.5%,14.5%,14.5%);stroke-opacity:1.0;stroke-linecap:round;stroke-width:2;fill:none\"><path d=\"M 80.0 177.9 L 56.7 219.2\" id=\"5,0\" style=\"\"></path><path d=\"M 80.0 177.9 L 103.4 219.2\" id=\"5,1\" style=\"\"></path><path d=\"M 185.0 95.4 L 150.0 219.2\" id=\"7,2\" style=\"\"></path><path d=\"M 220.0 177.9 L 196.6 219.2\" id=\"6,3\" style=\"\"></path><path d=\"M 220.0 177.9 L 243.3 219.2\" id=\"6,4\" style=\"\"></path><path d=\"M 132.5 54.1 L 80.0 177.9\" id=\"8,5\" style=\"\"></path><path d=\"M 185.0 95.4 L 220.0 177.9\" id=\"7,6\" style=\"\"></path><path d=\"M 132.5 54.1 L 185.0 95.4\" id=\"8,7\" style=\"\"></path></g><g class=\"toytree-AdmixEdges\" style=\"fill:rgb(0.0%,0.0%,0.0%);fill-opacity:0.0;stroke:rgb(90.6%,54.1%,76.5%);stroke-opacity:0.6;font-size:14px;stroke-linecap:round;stroke-width:5\"></g><g class=\"toytree-Nodes\" style=\"fill:rgb(40.0%,76.1%,64.7%);fill-opacity:1.0;stroke:rgb(14.5%,14.5%,14.5%);stroke-opacity:1.0;stroke-width:1.5\"><g id=\"Node-0\" transform=\"translate(56.7164,219.181)\"><circle r=\"3.5\"></circle></g><g id=\"Node-1\" transform=\"translate(103.358,219.181)\"><circle r=\"3.5\"></circle></g><g id=\"Node-2\" transform=\"translate(150,219.181)\"><circle r=\"3.5\"></circle></g><g id=\"Node-3\" transform=\"translate(196.642,219.181)\"><circle r=\"3.5\"></circle></g><g id=\"Node-4\" transform=\"translate(243.284,219.181)\"><circle r=\"3.5\"></circle></g><g id=\"Node-5\" transform=\"translate(80.0373,177.917)\"><circle r=\"3.5\"></circle></g><g id=\"Node-6\" transform=\"translate(219.963,177.917)\"><circle r=\"3.5\"></circle></g><g id=\"Node-7\" transform=\"translate(184.981,95.39)\"><circle r=\"3.5\"></circle></g><g id=\"Node-8\" transform=\"translate(132.509,54.1264)\"><circle r=\"3.5\"></circle></g></g><g class=\"toytree-TipLabels\" style=\"fill:rgb(14.5%,14.5%,14.5%);fill-opacity:1.0;font-family:Helvetica;font-size:12px;font-weight:300;vertical-align:baseline;white-space:pre;stroke:none\"><g class=\"toytree-TipLabel\" transform=\"translate(56.7164,219.181)rotate(90)\"><text x=\"12.0\" y=\"3.066\" style=\"fill:rgb(14.5%,14.5%,14.5%);fill-opacity:1.0\">a</text></g><g class=\"toytree-TipLabel\" transform=\"translate(103.358,219.181)rotate(90)\"><text x=\"12.0\" y=\"3.066\" style=\"fill:rgb(14.5%,14.5%,14.5%);fill-opacity:1.0\">b</text></g><g class=\"toytree-TipLabel\" transform=\"translate(150,219.181)rotate(90)\"><text x=\"12.0\" y=\"3.066\" style=\"fill:rgb(14.5%,14.5%,14.5%);fill-opacity:1.0\">c</text></g><g class=\"toytree-TipLabel\" transform=\"translate(196.642,219.181)rotate(90)\"><text x=\"12.0\" y=\"3.066\" style=\"fill:rgb(14.5%,14.5%,14.5%);fill-opacity:1.0\">d</text></g><g class=\"toytree-TipLabel\" transform=\"translate(243.284,219.181)rotate(90)\"><text x=\"12.0\" y=\"3.066\" style=\"fill:rgb(14.5%,14.5%,14.5%);fill-opacity:1.0\">e</text></g></g></g></g><g class=\"toyplot-coordinates-Axis\" id=\"t113248e612274685bd24de99ad1ca748\" transform=\"translate(50.0,250.0)rotate(-90.0)translate(0,-15.0)\"><line x1=\"30.819001089360576\" y1=\"0\" x2=\"195.87363417291124\" y2=\"0\" style=\"\"></line><g><line x1=\"30.819001089360576\" y1=\"0\" x2=\"30.819001089360576\" y2=\"5\" style=\"\"></line><line x1=\"72.08265936024824\" y1=\"0\" x2=\"72.08265936024824\" y2=\"5\" style=\"\"></line><line x1=\"113.34631763113592\" y1=\"0\" x2=\"113.34631763113592\" y2=\"5\" style=\"\"></line><line x1=\"154.6099759020236\" y1=\"0\" x2=\"154.6099759020236\" y2=\"5\" style=\"\"></line><line x1=\"195.87363417291124\" y1=\"0\" x2=\"195.87363417291124\" y2=\"5\" style=\"\"></line></g><g><g transform=\"translate(30.819001089360576,-6)\"><text x=\"-2.78\" y=\"-4.440892098500626e-16\" style=\"fill:rgb(16.1%,15.3%,14.1%);fill-opacity:1.0;font-family:helvetica;font-size:10.0px;font-weight:normal;stroke:none;vertical-align:baseline;white-space:pre\">0</text></g><g transform=\"translate(72.08265936024824,-6)\"><text x=\"-2.78\" y=\"-4.440892098500626e-16\" style=\"fill:rgb(16.1%,15.3%,14.1%);fill-opacity:1.0;font-family:helvetica;font-size:10.0px;font-weight:normal;stroke:none;vertical-align:baseline;white-space:pre\">1</text></g><g transform=\"translate(113.34631763113592,-6)\"><text x=\"-2.78\" y=\"-4.440892098500626e-16\" style=\"fill:rgb(16.1%,15.3%,14.1%);fill-opacity:1.0;font-family:helvetica;font-size:10.0px;font-weight:normal;stroke:none;vertical-align:baseline;white-space:pre\">2</text></g><g transform=\"translate(154.6099759020236,-6)\"><text x=\"-2.78\" y=\"-4.440892098500626e-16\" style=\"fill:rgb(16.1%,15.3%,14.1%);fill-opacity:1.0;font-family:helvetica;font-size:10.0px;font-weight:normal;stroke:none;vertical-align:baseline;white-space:pre\">3</text></g><g transform=\"translate(195.87363417291124,-6)\"><text x=\"-2.78\" y=\"-4.440892098500626e-16\" style=\"fill:rgb(16.1%,15.3%,14.1%);fill-opacity:1.0;font-family:helvetica;font-size:10.0px;font-weight:normal;stroke:none;vertical-align:baseline;white-space:pre\">4</text></g></g><g class=\"toyplot-coordinates-Axis-coordinates\" style=\"visibility:hidden\" transform=\"\"><line x1=\"0\" x2=\"0\" y1=\"3.0\" y2=\"-4.5\" style=\"stroke:rgb(43.9%,50.2%,56.5%);stroke-opacity:1.0;stroke-width:1.0\"></line><text x=\"0\" y=\"6\" style=\"alignment-baseline:hanging;fill:rgb(43.9%,50.2%,56.5%);fill-opacity:1.0;font-size:10px;font-weight:normal;stroke:none;text-anchor:middle\"></text></g></g></g></svg><div class=\"toyplot-behavior\"><script>(function()\n",
       "{\n",
       "var modules={};\n",
       "modules[\"toyplot/canvas/id\"] = \"tf000bca025604f3888b565daa70de4a4\";\n",
       "modules[\"toyplot/canvas\"] = (function(canvas_id)\n",
       "    {\n",
       "        return document.querySelector(\"#\" + canvas_id);\n",
       "    })(modules[\"toyplot/canvas/id\"]);\n",
       "modules[\"toyplot.coordinates.Axis\"] = (\n",
       "        function(canvas)\n",
       "        {\n",
       "            function sign(x)\n",
       "            {\n",
       "                return x < 0 ? -1 : x > 0 ? 1 : 0;\n",
       "            }\n",
       "\n",
       "            function mix(a, b, amount)\n",
       "            {\n",
       "                return ((1.0 - amount) * a) + (amount * b);\n",
       "            }\n",
       "\n",
       "            function log(x, base)\n",
       "            {\n",
       "                return Math.log(Math.abs(x)) / Math.log(base);\n",
       "            }\n",
       "\n",
       "            function in_range(a, x, b)\n",
       "            {\n",
       "                var left = Math.min(a, b);\n",
       "                var right = Math.max(a, b);\n",
       "                return left <= x && x <= right;\n",
       "            }\n",
       "\n",
       "            function inside(range, projection)\n",
       "            {\n",
       "                for(var i = 0; i != projection.length; ++i)\n",
       "                {\n",
       "                    var segment = projection[i];\n",
       "                    if(in_range(segment.range.min, range, segment.range.max))\n",
       "                        return true;\n",
       "                }\n",
       "                return false;\n",
       "            }\n",
       "\n",
       "            function to_domain(range, projection)\n",
       "            {\n",
       "                for(var i = 0; i != projection.length; ++i)\n",
       "                {\n",
       "                    var segment = projection[i];\n",
       "                    if(in_range(segment.range.bounds.min, range, segment.range.bounds.max))\n",
       "                    {\n",
       "                        if(segment.scale == \"linear\")\n",
       "                        {\n",
       "                            var amount = (range - segment.range.min) / (segment.range.max - segment.range.min);\n",
       "                            return mix(segment.domain.min, segment.domain.max, amount)\n",
       "                        }\n",
       "                        else if(segment.scale[0] == \"log\")\n",
       "                        {\n",
       "                            var amount = (range - segment.range.min) / (segment.range.max - segment.range.min);\n",
       "                            var base = segment.scale[1];\n",
       "                            return sign(segment.domain.min) * Math.pow(base, mix(log(segment.domain.min, base), log(segment.domain.max, base), amount));\n",
       "                        }\n",
       "                    }\n",
       "                }\n",
       "            }\n",
       "\n",
       "            var axes = {};\n",
       "\n",
       "            function display_coordinates(e)\n",
       "            {\n",
       "                var current = canvas.createSVGPoint();\n",
       "                current.x = e.clientX;\n",
       "                current.y = e.clientY;\n",
       "\n",
       "                for(var axis_id in axes)\n",
       "                {\n",
       "                    var axis = document.querySelector(\"#\" + axis_id);\n",
       "                    var coordinates = axis.querySelector(\".toyplot-coordinates-Axis-coordinates\");\n",
       "                    if(coordinates)\n",
       "                    {\n",
       "                        var projection = axes[axis_id];\n",
       "                        var local = current.matrixTransform(axis.getScreenCTM().inverse());\n",
       "                        if(inside(local.x, projection))\n",
       "                        {\n",
       "                            var domain = to_domain(local.x, projection);\n",
       "                            coordinates.style.visibility = \"visible\";\n",
       "                            coordinates.setAttribute(\"transform\", \"translate(\" + local.x + \")\");\n",
       "                            var text = coordinates.querySelector(\"text\");\n",
       "                            text.textContent = domain.toFixed(2);\n",
       "                        }\n",
       "                        else\n",
       "                        {\n",
       "                            coordinates.style.visibility= \"hidden\";\n",
       "                        }\n",
       "                    }\n",
       "                }\n",
       "            }\n",
       "\n",
       "            canvas.addEventListener(\"click\", display_coordinates);\n",
       "\n",
       "            var module = {};\n",
       "            module.show_coordinates = function(axis_id, projection)\n",
       "            {\n",
       "                axes[axis_id] = projection;\n",
       "            }\n",
       "\n",
       "            return module;\n",
       "        })(modules[\"toyplot/canvas\"]);\n",
       "(function(axis, axis_id, projection)\n",
       "        {\n",
       "            axis.show_coordinates(axis_id, projection);\n",
       "        })(modules[\"toyplot.coordinates.Axis\"],\"t113248e612274685bd24de99ad1ca748\",[{\"domain\": {\"bounds\": {\"max\": Infinity, \"min\": -Infinity}, \"max\": 4.1, \"min\": -0.7468799999999999}, \"range\": {\"bounds\": {\"max\": Infinity, \"min\": -Infinity}, \"max\": 200.0, \"min\": 0.0}, \"scale\": \"linear\"}]);\n",
       "})();</script></div></div>"
      ]
     },
     "metadata": {},
     "output_type": "display_data"
    },
    {
     "data": {
      "text/html": [
       "<div class=\"toyplot\" id=\"t4c8e53f4629c4472a87de643c075d3bd\" style=\"text-align:center\"><svg class=\"toyplot-canvas-Canvas\" xmlns:toyplot=\"http://www.sandia.gov/toyplot\" xmlns:xlink=\"http://www.w3.org/1999/xlink\" xmlns=\"http://www.w3.org/2000/svg\" width=\"300.0px\" height=\"275.0px\" viewBox=\"0 0 300.0 275.0\" preserveAspectRatio=\"xMidYMid meet\" style=\"background-color:transparent;border-color:#292724;border-style:none;border-width:1.0;fill:rgb(16.1%,15.3%,14.1%);fill-opacity:1.0;font-family:Helvetica;font-size:12px;opacity:1.0;stroke:rgb(16.1%,15.3%,14.1%);stroke-opacity:1.0;stroke-width:1.0\" id=\"t9d288d0204c84c13ae236fcf6554fd6c\"><g class=\"toyplot-coordinates-Cartesian\" id=\"td0ce1244c2c842fcba3d7b6a43f74e4b\"><clipPath id=\"t6e767923f40a4477811a2f73800b8673\"><rect x=\"35.0\" y=\"35.0\" width=\"230.0\" height=\"205.0\"></rect></clipPath><g clip-path=\"url(#t6e767923f40a4477811a2f73800b8673)\"><g class=\"toytree-mark-Toytree\" id=\"t5df401e066db46a08137f9cf3762b897\"><g class=\"toytree-Edges\" style=\"stroke:rgb(40.0%,76.1%,64.7%);stroke-opacity:1.0;stroke-linecap:round;stroke-width:2;fill:none\"><path d=\"M 181.1 198.1 L 181.1 218.3 L 224.5 218.3\" id=\"5,0\" style=\"\"></path><path d=\"M 181.1 198.1 L 181.1 177.9 L 224.5 177.9\" id=\"5,1\" style=\"\"></path><path d=\"M 94.3 107.2 L 94.3 137.5 L 224.5 137.5\" id=\"7,2\" style=\"\"></path><path d=\"M 181.1 76.9 L 181.1 97.1 L 224.5 97.1\" id=\"6,3\" style=\"\"></path><path d=\"M 181.1 76.9 L 181.1 56.7 L 224.5 56.7\" id=\"6,4\" style=\"\"></path><path d=\"M 50.9 152.7 L 50.9 198.1 L 181.1 198.1\" id=\"8,5\" style=\"\"></path><path d=\"M 94.3 107.2 L 94.3 76.9 L 181.1 76.9\" id=\"7,6\" style=\"\"></path><path d=\"M 50.9 152.7 L 50.9 107.2 L 94.3 107.2\" id=\"8,7\" style=\"\"></path></g><g class=\"toytree-AdmixEdges\" style=\"fill:rgb(0.0%,0.0%,0.0%);fill-opacity:0.0;stroke:rgb(90.6%,54.1%,76.5%);stroke-opacity:0.6;font-size:14px;stroke-linecap:round;stroke-width:5\"></g><g class=\"toytree-Nodes\" style=\"fill:rgb(40.0%,76.1%,64.7%);fill-opacity:1.0;stroke:none;stroke-width:1.5\"></g><g class=\"toytree-TipLabels\" style=\"fill:rgb(90.6%,54.1%,76.5%);fill-opacity:1.0;font-family:Helvetica;font-size:12px;font-weight:300;vertical-align:baseline;white-space:pre;stroke:none\"><g class=\"toytree-TipLabel\" transform=\"translate(224.522,218.347)\"><text x=\"8.0\" y=\"3.066\" style=\"fill:rgb(90.6%,54.1%,76.5%);fill-opacity:1.0\">a</text></g><g class=\"toytree-TipLabel\" transform=\"translate(224.522,177.924)\"><text x=\"8.0\" y=\"3.066\" style=\"fill:rgb(90.6%,54.1%,76.5%);fill-opacity:1.0\">b</text></g><g class=\"toytree-TipLabel\" transform=\"translate(224.522,137.5)\"><text x=\"8.0\" y=\"3.066\" style=\"fill:rgb(90.6%,54.1%,76.5%);fill-opacity:1.0\">c</text></g><g class=\"toytree-TipLabel\" transform=\"translate(224.522,97.0763)\"><text x=\"8.0\" y=\"3.066\" style=\"fill:rgb(90.6%,54.1%,76.5%);fill-opacity:1.0\">d</text></g><g class=\"toytree-TipLabel\" transform=\"translate(224.522,56.6526)\"><text x=\"8.0\" y=\"3.066\" style=\"fill:rgb(90.6%,54.1%,76.5%);fill-opacity:1.0\">e</text></g></g></g></g></g></svg><div class=\"toyplot-behavior\"><script>(function()\n",
       "{\n",
       "var modules={};\n",
       "})();</script></div></div>"
      ]
     },
     "metadata": {},
     "output_type": "display_data"
    },
    {
     "data": {
      "text/html": [
       "<div class=\"toyplot\" id=\"t5f0ca148ccfb4f12ba42b1213f29b686\" style=\"text-align:center\"><svg class=\"toyplot-canvas-Canvas\" xmlns:toyplot=\"http://www.sandia.gov/toyplot\" xmlns:xlink=\"http://www.w3.org/1999/xlink\" xmlns=\"http://www.w3.org/2000/svg\" width=\"300.0px\" height=\"275.0px\" viewBox=\"0 0 300.0 275.0\" preserveAspectRatio=\"xMidYMid meet\" style=\"background-color:transparent;border-color:#292724;border-style:none;border-width:1.0;fill:rgb(16.1%,15.3%,14.1%);fill-opacity:1.0;font-family:Helvetica;font-size:12px;opacity:1.0;stroke:rgb(16.1%,15.3%,14.1%);stroke-opacity:1.0;stroke-width:1.0\" id=\"tb26e9709d7b140319b03b430b3011547\"><g class=\"toyplot-coordinates-Cartesian\" id=\"t338926ea5e3546879d6317ec5d8449bc\"><clipPath id=\"te21a58b7f1eb41a292434624356977e1\"><rect x=\"35.0\" y=\"35.0\" width=\"230.0\" height=\"205.0\"></rect></clipPath><g clip-path=\"url(#te21a58b7f1eb41a292434624356977e1)\"><g class=\"toytree-mark-Toytree\" id=\"tb0b0c722510043b49b316e0ca2573c39\"><g class=\"toytree-Edges\" style=\"stroke:rgb(14.5%,14.5%,14.5%);stroke-opacity:1.0;stroke-linecap:round;stroke-width:2;fill:none\"><path d=\"M 175.0 198.1 L 215.2 218.3\" id=\"5,0\" style=\"\"></path><path d=\"M 175.0 198.1 L 215.2 177.9\" id=\"5,1\" style=\"\"></path><path d=\"M 94.6 107.2 L 215.2 137.5\" id=\"7,2\" style=\"\"></path><path d=\"M 175.0 76.9 L 215.2 97.1\" id=\"6,3\" style=\"\"></path><path d=\"M 175.0 76.9 L 215.2 56.7\" id=\"6,4\" style=\"\"></path><path d=\"M 54.4 152.7 L 175.0 198.1\" id=\"8,5\" style=\"\"></path><path d=\"M 94.6 107.2 L 175.0 76.9\" id=\"7,6\" style=\"\"></path><path d=\"M 54.4 152.7 L 94.6 107.2\" id=\"8,7\" style=\"\"></path></g><g class=\"toytree-AlignEdges\" style=\"stroke:rgb(66.0%,66.0%,66.0%);stroke-opacity:0.75;stroke-dasharray:2,4;stroke-linecap:round;stroke-width:2\"><path d=\"M 215.2 218.3 L 215.2 218.3\"></path><path d=\"M 215.2 177.9 L 215.2 177.9\"></path><path d=\"M 215.2 137.5 L 215.2 137.5\"></path><path d=\"M 215.2 97.1 L 215.2 97.1\"></path><path d=\"M 215.2 56.7 L 215.2 56.7\"></path></g><g class=\"toytree-AdmixEdges\" style=\"fill:rgb(0.0%,0.0%,0.0%);fill-opacity:0.0;stroke:rgb(90.6%,54.1%,76.5%);stroke-opacity:0.6;font-size:14px;stroke-linecap:round;stroke-width:5\"></g><g class=\"toytree-Nodes\" style=\"fill:rgb(10.6%,62.0%,46.7%);fill-opacity:1.0;stroke:rgb(100.0%,100.0%,100.0%);stroke-opacity:1.0;stroke-width:1.5\"><g id=\"Node-5\" transform=\"translate(174.978,198.136)\"><circle r=\"4.0\"></circle></g><g id=\"Node-6\" transform=\"translate(174.978,76.8644)\"><circle r=\"4.0\"></circle></g><g id=\"Node-7\" transform=\"translate(94.6063,107.182)\"><circle r=\"4.0\"></circle></g><g id=\"Node-8\" transform=\"translate(54.4204,152.659)\"><circle r=\"4.0\"></circle></g></g><g class=\"toytree-TipLabels\" style=\"fill:rgb(14.5%,14.5%,14.5%);fill-opacity:1.0;font-family:Helvetica;font-size:12px;font-weight:300;vertical-align:baseline;white-space:pre;stroke:none\"><g class=\"toytree-TipLabel\" transform=\"translate(215.164,218.347)\"><text x=\"15.0\" y=\"3.066\" style=\"fill:rgb(14.5%,14.5%,14.5%);fill-opacity:1.0\">a</text></g><g class=\"toytree-TipLabel\" transform=\"translate(215.164,177.924)\"><text x=\"15.0\" y=\"3.066\" style=\"fill:rgb(14.5%,14.5%,14.5%);fill-opacity:1.0\">b</text></g><g class=\"toytree-TipLabel\" transform=\"translate(215.164,137.5)\"><text x=\"15.0\" y=\"3.066\" style=\"fill:rgb(14.5%,14.5%,14.5%);fill-opacity:1.0\">c</text></g><g class=\"toytree-TipLabel\" transform=\"translate(215.164,97.0763)\"><text x=\"15.0\" y=\"3.066\" style=\"fill:rgb(14.5%,14.5%,14.5%);fill-opacity:1.0\">d</text></g><g class=\"toytree-TipLabel\" transform=\"translate(215.164,56.6526)\"><text x=\"15.0\" y=\"3.066\" style=\"fill:rgb(14.5%,14.5%,14.5%);fill-opacity:1.0\">e</text></g></g></g></g></g></svg><div class=\"toyplot-behavior\"><script>(function()\n",
       "{\n",
       "var modules={};\n",
       "})();</script></div></div>"
      ]
     },
     "metadata": {},
     "output_type": "display_data"
    }
   ],
   "source": [
    "# drawing with pre-built tree_styles\n",
    "tree.draw(tree_style='c');  # coalescent-style\n",
    "tree.draw(tree_style='d');  # dark-style\n",
    "\n",
    "# 'ts' is also a shortcut for tree_style\n",
    "tree.draw(ts='o');          # umlaut-style"
   ]
  },
  {
   "cell_type": "code",
   "execution_count": 45,
   "id": "2cdcfe1e-6939-455f-be4b-dfc37c650b2d",
   "metadata": {},
   "outputs": [
    {
     "data": {
      "text/html": [
       "<div class=\"toyplot\" id=\"t2908b71cc6944c4b8f4b90d7b8ce8cfd\" style=\"text-align:center\"><svg class=\"toyplot-canvas-Canvas\" xmlns:toyplot=\"http://www.sandia.gov/toyplot\" xmlns:xlink=\"http://www.w3.org/1999/xlink\" xmlns=\"http://www.w3.org/2000/svg\" width=\"300.0px\" height=\"300.0px\" viewBox=\"0 0 300.0 300.0\" preserveAspectRatio=\"xMidYMid meet\" style=\"background-color:transparent;border-color:#292724;border-style:none;border-width:1.0;fill:rgb(16.1%,15.3%,14.1%);fill-opacity:1.0;font-family:Helvetica;font-size:12px;opacity:1.0;stroke:rgb(16.1%,15.3%,14.1%);stroke-opacity:1.0;stroke-width:1.0\" id=\"t3a668399f7bd43bd85cac14995cf0cce\"><g class=\"toyplot-coordinates-Cartesian\" id=\"t3ebf3fc0566d4224b781b2af8901bb35\"><clipPath id=\"t5ea17e5c5c8d46f7800213fc10321f0d\"><rect x=\"35.0\" y=\"35.0\" width=\"230.0\" height=\"230.0\"></rect></clipPath><g clip-path=\"url(#t5ea17e5c5c8d46f7800213fc10321f0d)\"><g class=\"toytree-mark-Toytree\" id=\"t3b10a0aad9f24ff58d67242c87cdb934\"><g class=\"toytree-Edges\" style=\"stroke:rgb(0.0%,54.5%,54.5%);stroke-opacity:1.0;stroke-linecap:round;stroke-width:2.5;fill:none\"><path d=\"M 79.5 173.3 L 58.2 173.3 L 58.2 212.5\" id=\"5,0\" style=\"\"></path><path d=\"M 79.5 173.3 L 100.8 173.3 L 100.8 212.5\" id=\"5,1\" style=\"\"></path><path d=\"M 175.4 94.9 L 143.4 94.9 L 143.4 212.5\" id=\"7,2\" style=\"\"></path><path d=\"M 207.4 173.3 L 186.1 173.3 L 186.1 212.5\" id=\"6,3\" style=\"\"></path><path d=\"M 207.4 173.3 L 228.7 173.3 L 228.7 212.5\" id=\"6,4\" style=\"\"></path><path d=\"M 127.4 55.6 L 79.5 55.6 L 79.5 173.3\" id=\"8,5\" style=\"\"></path><path d=\"M 175.4 94.9 L 207.4 94.9 L 207.4 173.3\" id=\"7,6\" style=\"\"></path><path d=\"M 127.4 55.6 L 175.4 55.6 L 175.4 94.9\" id=\"8,7\" style=\"\"></path></g><g class=\"toytree-AdmixEdges\" style=\"fill:rgb(0.0%,0.0%,0.0%);fill-opacity:0.0;stroke:rgb(90.6%,54.1%,76.5%);stroke-opacity:0.6;font-size:14px;stroke-linecap:round;stroke-width:5\"></g><g class=\"toytree-Nodes\" style=\"fill:rgb(40.0%,76.1%,64.7%);fill-opacity:1.0;stroke:rgb(14.9%,14.9%,14.9%);stroke-opacity:1.0;stroke-width:1.5\"><g id=\"Node-5\" style=\"fill:rgb(62.0%,0.4%,25.9%)\" transform=\"translate(79.496,173.298)\"><circle r=\"4.0\"></circle></g><g id=\"Node-6\" style=\"fill:rgb(99.3%,74.8%,43.5%)\" transform=\"translate(207.369,173.298)\"><circle r=\"4.0\"></circle></g><g id=\"Node-7\" style=\"fill:rgb(74.8%,89.8%,62.7%)\" transform=\"translate(175.401,94.8642)\"><circle r=\"4.0\"></circle></g></g><g class=\"toytree-NodeLabels\" style=\"font-family:Helvetica;font-size:12px;font-weight:300;vertical-align:baseline;white-space:pre;stroke:none\"><g class=\"toytree-NodeLabel\" transform=\"translate(79.496,173.298)\"><text x=\"8.328\" y=\"-8.934000000000001\" style=\"fill:rgb(14.5%,14.5%,14.5%);fill-opacity:1.0\">90</text></g><g class=\"toytree-NodeLabel\" transform=\"translate(207.369,173.298)\"><text x=\"4.992000000000001\" y=\"-8.934000000000001\" style=\"fill:rgb(14.5%,14.5%,14.5%);fill-opacity:1.0\">100</text></g><g class=\"toytree-NodeLabel\" transform=\"translate(175.401,94.8642)\"><text x=\"4.992000000000001\" y=\"-8.934000000000001\" style=\"fill:rgb(14.5%,14.5%,14.5%);fill-opacity:1.0\">100</text></g></g><g class=\"toytree-TipLabels\" style=\"fill:rgb(0.0%,0.0%,0.0%);fill-opacity:1.0;font-family:Helvetica;font-size:16px;font-weight:300;vertical-align:baseline;white-space:pre;stroke:none\"><g class=\"toytree-TipLabel\" transform=\"translate(58.1839,212.515)rotate(90)\"><text x=\"15.0\" y=\"4.087999999999999\" style=\"fill:rgb(0.0%,0.0%,0.0%);fill-opacity:1.0\">a</text></g><g class=\"toytree-TipLabel\" transform=\"translate(100.808,212.515)rotate(90)\"><text x=\"15.0\" y=\"4.087999999999999\" style=\"fill:rgb(0.0%,0.0%,0.0%);fill-opacity:1.0\">b</text></g><g class=\"toytree-TipLabel\" transform=\"translate(143.432,212.515)rotate(90)\"><text x=\"15.0\" y=\"4.087999999999999\" style=\"fill:rgb(0.0%,0.0%,0.0%);fill-opacity:1.0\">c</text></g><g class=\"toytree-TipLabel\" transform=\"translate(186.057,212.515)rotate(90)\"><text x=\"15.0\" y=\"4.087999999999999\" style=\"fill:rgb(0.0%,0.0%,0.0%);fill-opacity:1.0\">d</text></g><g class=\"toytree-TipLabel\" transform=\"translate(228.681,212.515)rotate(90)\"><text x=\"15.0\" y=\"4.087999999999999\" style=\"fill:rgb(0.0%,0.0%,0.0%);fill-opacity:1.0\">e</text></g></g></g></g></g></svg><div class=\"toyplot-behavior\"><script>(function()\n",
       "{\n",
       "var modules={};\n",
       "})();</script></div></div>"
      ]
     },
     "metadata": {},
     "output_type": "display_data"
    }
   ],
   "source": [
    "# define a style dictionary\n",
    "mystyle = {\n",
    "    \"layout\": 'd',\n",
    "    \"edge_type\": 'p',\n",
    "    \"edge_style\": {\n",
    "        \"stroke\": \"darkcyan\",\n",
    "        \"stroke-width\": 2.5,\n",
    "    },\n",
    "    \"tip_labels_colors\": \"black\",\n",
    "    \"tip_labels_style\": {\n",
    "        \"font-size\": \"16px\"\n",
    "    },\n",
    "    \"node_sizes\": 8,\n",
    "    \"node_colors\": \"dist\",\n",
    "    \"node_labels\": \"support\",\n",
    "    \"node_labels_style\": {\"baseline-shift\": 12, \"anchor-shift\": 15, \"font-size\": 12},\n",
    "    \"node_mask\": (0, 1, 0),\n",
    "}\n",
    "\n",
    "# use your custom style dictionary in one or more tree drawings\n",
    "tree.draw(height=300, **mystyle);"
   ]
  },
  {
   "cell_type": "markdown",
   "id": "c307ea79-1ff5-4d37-b6e0-0e48101c71a5",
   "metadata": {},
   "source": [
    "## Saving tree drawings\n",
    "Tree drawings can be saved to disk in a variety of formats, including HTML, SVG, PDF, or PNG. The simplest way to save a canvas drawing is using the `toytree.save()` function, where the file format will be inferred from the filename suffix. As demonstrated below, you can also save a canvas using options from the `toyplot` library. "
   ]
  },
  {
   "cell_type": "code",
   "execution_count": 46,
   "id": "b2a95221-90b8-42b1-a805-93166fbe6af7",
   "metadata": {},
   "outputs": [
    {
     "data": {
      "text/html": [
       "<div class=\"toyplot\" id=\"tbb5c5fce509342419b0b79c366a21245\" style=\"text-align:center\"><svg class=\"toyplot-canvas-Canvas\" xmlns:toyplot=\"http://www.sandia.gov/toyplot\" xmlns:xlink=\"http://www.w3.org/1999/xlink\" xmlns=\"http://www.w3.org/2000/svg\" width=\"300.0px\" height=\"300.0px\" viewBox=\"0 0 300.0 300.0\" preserveAspectRatio=\"xMidYMid meet\" style=\"background-color:transparent;border-color:#292724;border-style:none;border-width:1.0;fill:rgb(16.1%,15.3%,14.1%);fill-opacity:1.0;font-family:Helvetica;font-size:12px;opacity:1.0;stroke:rgb(16.1%,15.3%,14.1%);stroke-opacity:1.0;stroke-width:1.0\" id=\"te102d33e772641008144d3824586f354\"><g class=\"toyplot-coordinates-Cartesian\" id=\"t418da1eb907c48749857d7b26208c36c\"><clipPath id=\"tbc9c86c6b6024354991866b305813383\"><rect x=\"35.0\" y=\"35.0\" width=\"230.0\" height=\"230.0\"></rect></clipPath><g clip-path=\"url(#tbc9c86c6b6024354991866b305813383)\"><g class=\"toytree-mark-Toytree\" id=\"t062ed6766ccf4482821ca6884a213d5a\"><g class=\"toytree-Edges\" style=\"stroke:rgb(14.5%,14.5%,14.5%);stroke-opacity:1.0;stroke-linecap:round;stroke-width:2.0;fill:none\"><path d=\"M 80.9 175.9 L 57.8 215.6\" id=\"5,0\" style=\"\"></path><path d=\"M 80.9 175.9 L 103.9 215.6\" id=\"5,1\" style=\"\"></path><path d=\"M 184.6 96.5 L 150.0 215.6\" id=\"7,2\" style=\"\"></path><path d=\"M 219.1 175.9 L 196.1 215.6\" id=\"6,3\" style=\"\"></path><path d=\"M 219.1 175.9 L 242.2 215.6\" id=\"6,4\" style=\"\"></path><path d=\"M 132.7 56.8 L 80.9 175.9\" id=\"8,5\" style=\"\"></path><path d=\"M 184.6 96.5 L 219.1 175.9\" id=\"7,6\" style=\"\"></path><path d=\"M 132.7 56.8 L 184.6 96.5\" id=\"8,7\" style=\"\"></path></g><g class=\"toytree-AdmixEdges\" style=\"fill:rgb(0.0%,0.0%,0.0%);fill-opacity:0.0;stroke:rgb(90.6%,54.1%,76.5%);stroke-opacity:0.6;font-size:14px;stroke-linecap:round;stroke-width:5\"></g><g class=\"toytree-Nodes\" style=\"fill:rgb(40.0%,76.1%,64.7%);fill-opacity:1.0;stroke:rgb(14.5%,14.5%,14.5%);stroke-opacity:1.0;stroke-width:1.0\"><g id=\"Node-0\" transform=\"translate(57.8341,215.579)\"><circle r=\"7.5\"></circle></g><g id=\"Node-1\" transform=\"translate(103.917,215.579)\"><circle r=\"7.5\"></circle></g><g id=\"Node-2\" transform=\"translate(150,215.579)\"><circle r=\"7.5\"></circle></g><g id=\"Node-3\" transform=\"translate(196.083,215.579)\"><circle r=\"7.5\"></circle></g><g id=\"Node-4\" transform=\"translate(242.166,215.579)\"><circle r=\"7.5\"></circle></g><g id=\"Node-5\" transform=\"translate(80.8756,175.872)\"><circle r=\"7.5\"></circle></g><g id=\"Node-6\" transform=\"translate(219.124,175.872)\"><circle r=\"7.5\"></circle></g><g id=\"Node-7\" transform=\"translate(184.562,96.4573)\"><circle r=\"7.5\"></circle></g><g id=\"Node-8\" transform=\"translate(132.719,56.7502)\"><circle r=\"7.5\"></circle></g></g><g class=\"toytree-NodeLabels\" style=\"font-family:Helvetica;font-size:9px;font-weight:300;vertical-align:baseline;white-space:pre;stroke:none\"><g class=\"toytree-NodeLabel\" transform=\"translate(57.8341,215.579)\"><text x=\"-2.5020000000000002\" y=\"2.2995\" style=\"fill:rgb(14.5%,14.5%,14.5%);fill-opacity:1.0\">0</text></g><g class=\"toytree-NodeLabel\" transform=\"translate(103.917,215.579)\"><text x=\"-2.5020000000000002\" y=\"2.2995\" style=\"fill:rgb(14.5%,14.5%,14.5%);fill-opacity:1.0\">1</text></g><g class=\"toytree-NodeLabel\" transform=\"translate(150,215.579)\"><text x=\"-2.5020000000000002\" y=\"2.2995\" style=\"fill:rgb(14.5%,14.5%,14.5%);fill-opacity:1.0\">2</text></g><g class=\"toytree-NodeLabel\" transform=\"translate(196.083,215.579)\"><text x=\"-2.5020000000000002\" y=\"2.2995\" style=\"fill:rgb(14.5%,14.5%,14.5%);fill-opacity:1.0\">3</text></g><g class=\"toytree-NodeLabel\" transform=\"translate(242.166,215.579)\"><text x=\"-2.5020000000000002\" y=\"2.2995\" style=\"fill:rgb(14.5%,14.5%,14.5%);fill-opacity:1.0\">4</text></g><g class=\"toytree-NodeLabel\" transform=\"translate(80.8756,175.872)\"><text x=\"-2.5020000000000002\" y=\"2.2995\" style=\"fill:rgb(14.5%,14.5%,14.5%);fill-opacity:1.0\">5</text></g><g class=\"toytree-NodeLabel\" transform=\"translate(219.124,175.872)\"><text x=\"-2.5020000000000002\" y=\"2.2995\" style=\"fill:rgb(14.5%,14.5%,14.5%);fill-opacity:1.0\">6</text></g><g class=\"toytree-NodeLabel\" transform=\"translate(184.562,96.4573)\"><text x=\"-2.5020000000000002\" y=\"2.2995\" style=\"fill:rgb(14.5%,14.5%,14.5%);fill-opacity:1.0\">7</text></g><g class=\"toytree-NodeLabel\" transform=\"translate(132.719,56.7502)\"><text x=\"-2.5020000000000002\" y=\"2.2995\" style=\"fill:rgb(14.5%,14.5%,14.5%);fill-opacity:1.0\">8</text></g></g><g class=\"toytree-TipLabels\" style=\"fill:rgb(14.5%,14.5%,14.5%);fill-opacity:1.0;font-family:Helvetica;font-size:12px;font-weight:300;vertical-align:baseline;white-space:pre;stroke:none\"><g class=\"toytree-TipLabel\" transform=\"translate(57.8341,215.579)rotate(90)\"><text x=\"15.0\" y=\"3.066\" style=\"fill:rgb(14.5%,14.5%,14.5%);fill-opacity:1.0\">a</text></g><g class=\"toytree-TipLabel\" transform=\"translate(103.917,215.579)rotate(90)\"><text x=\"15.0\" y=\"3.066\" style=\"fill:rgb(14.5%,14.5%,14.5%);fill-opacity:1.0\">b</text></g><g class=\"toytree-TipLabel\" transform=\"translate(150,215.579)rotate(90)\"><text x=\"15.0\" y=\"3.066\" style=\"fill:rgb(14.5%,14.5%,14.5%);fill-opacity:1.0\">c</text></g><g class=\"toytree-TipLabel\" transform=\"translate(196.083,215.579)rotate(90)\"><text x=\"15.0\" y=\"3.066\" style=\"fill:rgb(14.5%,14.5%,14.5%);fill-opacity:1.0\">d</text></g><g class=\"toytree-TipLabel\" transform=\"translate(242.166,215.579)rotate(90)\"><text x=\"15.0\" y=\"3.066\" style=\"fill:rgb(14.5%,14.5%,14.5%);fill-opacity:1.0\">e</text></g></g></g></g><g class=\"toyplot-coordinates-Axis\" id=\"te57561de2fef4c8e95a4e5eccf30c5d1\" transform=\"translate(50.0,250.0)rotate(-90.0)translate(0,-15.0)\"><line x1=\"34.421308429027484\" y1=\"0\" x2=\"193.2497895522625\" y2=\"0\" style=\"\"></line><g><line x1=\"34.421308429027484\" y1=\"0\" x2=\"34.421308429027484\" y2=\"5\" style=\"\"></line><line x1=\"74.12842870983624\" y1=\"0\" x2=\"74.12842870983624\" y2=\"5\" style=\"\"></line><line x1=\"113.83554899064501\" y1=\"0\" x2=\"113.83554899064501\" y2=\"5\" style=\"\"></line><line x1=\"153.54266927145378\" y1=\"0\" x2=\"153.54266927145378\" y2=\"5\" style=\"\"></line><line x1=\"193.2497895522625\" y1=\"0\" x2=\"193.2497895522625\" y2=\"5\" style=\"\"></line></g><g><g transform=\"translate(34.421308429027484,-6)\"><text x=\"-2.78\" y=\"-4.440892098500626e-16\" style=\"fill:rgb(16.1%,15.3%,14.1%);fill-opacity:1.0;font-family:helvetica;font-size:10.0px;font-weight:normal;stroke:none;vertical-align:baseline;white-space:pre\">0</text></g><g transform=\"translate(74.12842870983624,-6)\"><text x=\"-2.78\" y=\"-4.440892098500626e-16\" style=\"fill:rgb(16.1%,15.3%,14.1%);fill-opacity:1.0;font-family:helvetica;font-size:10.0px;font-weight:normal;stroke:none;vertical-align:baseline;white-space:pre\">1</text></g><g transform=\"translate(113.83554899064501,-6)\"><text x=\"-2.78\" y=\"-4.440892098500626e-16\" style=\"fill:rgb(16.1%,15.3%,14.1%);fill-opacity:1.0;font-family:helvetica;font-size:10.0px;font-weight:normal;stroke:none;vertical-align:baseline;white-space:pre\">2</text></g><g transform=\"translate(153.54266927145378,-6)\"><text x=\"-2.78\" y=\"-4.440892098500626e-16\" style=\"fill:rgb(16.1%,15.3%,14.1%);fill-opacity:1.0;font-family:helvetica;font-size:10.0px;font-weight:normal;stroke:none;vertical-align:baseline;white-space:pre\">3</text></g><g transform=\"translate(193.2497895522625,-6)\"><text x=\"-2.78\" y=\"-4.440892098500626e-16\" style=\"fill:rgb(16.1%,15.3%,14.1%);fill-opacity:1.0;font-family:helvetica;font-size:10.0px;font-weight:normal;stroke:none;vertical-align:baseline;white-space:pre\">4</text></g></g><g class=\"toyplot-coordinates-Axis-coordinates\" style=\"visibility:hidden\" transform=\"\"><line x1=\"0\" x2=\"0\" y1=\"3.0\" y2=\"-4.5\" style=\"stroke:rgb(43.9%,50.2%,56.5%);stroke-opacity:1.0;stroke-width:1.0\"></line><text x=\"0\" y=\"6\" style=\"alignment-baseline:hanging;fill:rgb(43.9%,50.2%,56.5%);fill-opacity:1.0;font-size:10px;font-weight:normal;stroke:none;text-anchor:middle\"></text></g></g></g></svg><div class=\"toyplot-behavior\"><script>(function()\n",
       "{\n",
       "var modules={};\n",
       "modules[\"toyplot/canvas/id\"] = \"te102d33e772641008144d3824586f354\";\n",
       "modules[\"toyplot/canvas\"] = (function(canvas_id)\n",
       "    {\n",
       "        return document.querySelector(\"#\" + canvas_id);\n",
       "    })(modules[\"toyplot/canvas/id\"]);\n",
       "modules[\"toyplot.coordinates.Axis\"] = (\n",
       "        function(canvas)\n",
       "        {\n",
       "            function sign(x)\n",
       "            {\n",
       "                return x < 0 ? -1 : x > 0 ? 1 : 0;\n",
       "            }\n",
       "\n",
       "            function mix(a, b, amount)\n",
       "            {\n",
       "                return ((1.0 - amount) * a) + (amount * b);\n",
       "            }\n",
       "\n",
       "            function log(x, base)\n",
       "            {\n",
       "                return Math.log(Math.abs(x)) / Math.log(base);\n",
       "            }\n",
       "\n",
       "            function in_range(a, x, b)\n",
       "            {\n",
       "                var left = Math.min(a, b);\n",
       "                var right = Math.max(a, b);\n",
       "                return left <= x && x <= right;\n",
       "            }\n",
       "\n",
       "            function inside(range, projection)\n",
       "            {\n",
       "                for(var i = 0; i != projection.length; ++i)\n",
       "                {\n",
       "                    var segment = projection[i];\n",
       "                    if(in_range(segment.range.min, range, segment.range.max))\n",
       "                        return true;\n",
       "                }\n",
       "                return false;\n",
       "            }\n",
       "\n",
       "            function to_domain(range, projection)\n",
       "            {\n",
       "                for(var i = 0; i != projection.length; ++i)\n",
       "                {\n",
       "                    var segment = projection[i];\n",
       "                    if(in_range(segment.range.bounds.min, range, segment.range.bounds.max))\n",
       "                    {\n",
       "                        if(segment.scale == \"linear\")\n",
       "                        {\n",
       "                            var amount = (range - segment.range.min) / (segment.range.max - segment.range.min);\n",
       "                            return mix(segment.domain.min, segment.domain.max, amount)\n",
       "                        }\n",
       "                        else if(segment.scale[0] == \"log\")\n",
       "                        {\n",
       "                            var amount = (range - segment.range.min) / (segment.range.max - segment.range.min);\n",
       "                            var base = segment.scale[1];\n",
       "                            return sign(segment.domain.min) * Math.pow(base, mix(log(segment.domain.min, base), log(segment.domain.max, base), amount));\n",
       "                        }\n",
       "                    }\n",
       "                }\n",
       "            }\n",
       "\n",
       "            var axes = {};\n",
       "\n",
       "            function display_coordinates(e)\n",
       "            {\n",
       "                var current = canvas.createSVGPoint();\n",
       "                current.x = e.clientX;\n",
       "                current.y = e.clientY;\n",
       "\n",
       "                for(var axis_id in axes)\n",
       "                {\n",
       "                    var axis = document.querySelector(\"#\" + axis_id);\n",
       "                    var coordinates = axis.querySelector(\".toyplot-coordinates-Axis-coordinates\");\n",
       "                    if(coordinates)\n",
       "                    {\n",
       "                        var projection = axes[axis_id];\n",
       "                        var local = current.matrixTransform(axis.getScreenCTM().inverse());\n",
       "                        if(inside(local.x, projection))\n",
       "                        {\n",
       "                            var domain = to_domain(local.x, projection);\n",
       "                            coordinates.style.visibility = \"visible\";\n",
       "                            coordinates.setAttribute(\"transform\", \"translate(\" + local.x + \")\");\n",
       "                            var text = coordinates.querySelector(\"text\");\n",
       "                            text.textContent = domain.toFixed(2);\n",
       "                        }\n",
       "                        else\n",
       "                        {\n",
       "                            coordinates.style.visibility= \"hidden\";\n",
       "                        }\n",
       "                    }\n",
       "                }\n",
       "            }\n",
       "\n",
       "            canvas.addEventListener(\"click\", display_coordinates);\n",
       "\n",
       "            var module = {};\n",
       "            module.show_coordinates = function(axis_id, projection)\n",
       "            {\n",
       "                axes[axis_id] = projection;\n",
       "            }\n",
       "\n",
       "            return module;\n",
       "        })(modules[\"toyplot/canvas\"]);\n",
       "(function(axis, axis_id, projection)\n",
       "        {\n",
       "            axis.show_coordinates(axis_id, projection);\n",
       "        })(modules[\"toyplot.coordinates.Axis\"],\"te57561de2fef4c8e95a4e5eccf30c5d1\",[{\"domain\": {\"bounds\": {\"max\": Infinity, \"min\": -Infinity}, \"max\": 4.17, \"min\": -0.8668799999999999}, \"range\": {\"bounds\": {\"max\": Infinity, \"min\": -Infinity}, \"max\": 200.0, \"min\": 0.0}, \"scale\": \"linear\"}]);\n",
       "})();</script></div></div>"
      ]
     },
     "metadata": {},
     "output_type": "display_data"
    }
   ],
   "source": [
    "# draw a plot and store the Canvas object to a variable\n",
    "canvas, axes, mark = tree.draw(ts='p');"
   ]
  },
  {
   "cell_type": "markdown",
   "id": "7a04a4b4-a2aa-409c-adbf-af7d6a00658f",
   "metadata": {},
   "source": [
    "HTML rendering is the default format. This will save the figure as a vector graphic (SVG) wrapped in HTML with optional javascript wrapping that enables interactive features. You can share the file with others and anyone can open it in a browser. You can embed it on your website, or even display it in emails."
   ]
  },
  {
   "cell_type": "code",
   "execution_count": 47,
   "id": "33e49281-b2c0-4865-8f14-cfe9d2448e95",
   "metadata": {},
   "outputs": [],
   "source": [
    "# HTML allows for interactivity and embedding in web sites\n",
    "toytree.save(canvas, \"/tmp/tree-plot.html\")"
   ]
  },
  {
   "cell_type": "code",
   "execution_count": 48,
   "id": "d64a4b83-a6c0-4ddb-85ad-2cbacc553a4d",
   "metadata": {},
   "outputs": [],
   "source": [
    "# SVG for figures you will further edit in Illustrator/Inkscape\n",
    "toytree.save(canvas, \"/tmp/tree-plot.svg\")"
   ]
  },
  {
   "cell_type": "code",
   "execution_count": 49,
   "id": "dac3b704-152f-4ae1-8581-22133f91cef6",
   "metadata": {},
   "outputs": [],
   "source": [
    "# PDF for final shareable figures\n",
    "toytree.save(canvas, \"/tmp/tree-plot.pdf\")"
   ]
  },
  {
   "cell_type": "code",
   "execution_count": 50,
   "id": "45bb585a-6641-4224-8456-faddf93174e4",
   "metadata": {},
   "outputs": [],
   "source": [
    "# PNG for small and easy to share figures \n",
    "toytree.save(canvas, \"/tmp/tree-plot.png\")"
   ]
  },
  {
   "cell_type": "markdown",
   "id": "84a6c823-7087-41cd-9072-f2a7236d3a01",
   "metadata": {},
   "source": [
    "The toyplot library also has options for saving canvases. See the toyplot documentation. The `toytree.save()` function above is simply a convenient wrapper around these functions."
   ]
  },
  {
   "cell_type": "code",
   "execution_count": 51,
   "id": "6bf4a83f-e434-457d-a23e-ac4112bbfef1",
   "metadata": {},
   "outputs": [],
   "source": [
    "import toyplot\n",
    "toyplot.html.render(canvas, \"/tmp/tree-plot.html\")"
   ]
  },
  {
   "cell_type": "code",
   "execution_count": 52,
   "id": "a207ad36-75c3-4437-a4ae-b8a00dba59e7",
   "metadata": {},
   "outputs": [],
   "source": [
    "import toyplot.svg\n",
    "toyplot.svg.render(canvas, \"/tmp/tree-plot.svg\")"
   ]
  },
  {
   "cell_type": "code",
   "execution_count": 53,
   "id": "c0dfed3f-3d9f-4098-8b90-59dbc4feba7f",
   "metadata": {},
   "outputs": [],
   "source": [
    "import toyplot.pdf\n",
    "toyplot.pdf.render(canvas, \"/tmp/tree-plot.pdf\")"
   ]
  },
  {
   "cell_type": "code",
   "execution_count": 54,
   "id": "dcb00bf8-7475-40a5-84c8-d59ad05e4aca",
   "metadata": {},
   "outputs": [],
   "source": [
    "import toyplot.png\n",
    "toyplot.png.render(canvas, \"/tmp/tree-plot.png\")"
   ]
  }
 ],
 "metadata": {
  "kernelspec": {
   "display_name": "Python 3 (ipykernel)",
   "language": "python",
   "name": "python3"
  },
  "language_info": {
   "codemirror_mode": {
    "name": "ipython",
    "version": 3
   },
   "file_extension": ".py",
   "mimetype": "text/x-python",
   "name": "python",
   "nbconvert_exporter": "python",
   "pygments_lexer": "ipython3",
   "version": "3.10.12"
  }
 },
 "nbformat": 4,
 "nbformat_minor": 5
}
