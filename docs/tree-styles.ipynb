{
 "cells": [
  {
   "cell_type": "markdown",
   "metadata": {},
   "source": [
    "# Builtin Tree Styles\n",
    "There are innumerous ways to style toytree drawings by combining different arguments to the `.draw` function. As a convenience, we also provide a number of pre-built tree styles that represent collections of style arguments that can be set using a single command."
   ]
  },
  {
   "cell_type": "code",
   "execution_count": 2,
   "metadata": {},
   "outputs": [],
   "source": [
    "import toytree\n",
    "tree = toytree.rtree.baltree(ntips=10)"
   ]
  },
  {
   "cell_type": "markdown",
   "metadata": {},
   "source": [
    "### Example styles"
   ]
  },
  {
   "cell_type": "code",
   "execution_count": 4,
   "metadata": {
    "scrolled": true
   },
   "outputs": [
    {
     "data": {
      "text/html": [
       "<div class=\"toyplot\" id=\"td26c7df3ad2c48c588d07dcaabb3a0b1\" style=\"text-align:center\"><svg class=\"toyplot-canvas-Canvas\" xmlns:toyplot=\"http://www.sandia.gov/toyplot\" xmlns:xlink=\"http://www.w3.org/1999/xlink\" xmlns=\"http://www.w3.org/2000/svg\" width=\"300.0px\" height=\"318.5px\" viewBox=\"0 0 300.0 318.5\" preserveAspectRatio=\"xMidYMid meet\" style=\"background-color:transparent;border-color:#292724;border-style:none;border-width:1.0;fill:rgb(16.1%,15.3%,14.1%);fill-opacity:1.0;font-family:Helvetica;font-size:12px;opacity:1.0;stroke:rgb(16.1%,15.3%,14.1%);stroke-opacity:1.0;stroke-width:1.0\" id=\"tb6ceb45e6cf344a5860c9bf7531f343a\"><g class=\"toyplot-coordinates-Cartesian\" id=\"t6bb53f9400ed4016bbadef8aef2e71c2\"><clipPath id=\"t85d7a62808494b4abda4c910f484f66b\"><rect x=\"35.0\" y=\"35.0\" width=\"230.0\" height=\"248.5\"></rect></clipPath><g clip-path=\"url(#t85d7a62808494b4abda4c910f484f66b)\"><g class=\"toytree-mark-Toytree\" id=\"t5ff864b3004249ca8454273f6f5f3ffc\"><g class=\"toytree-Edges\" style=\"stroke:rgb(14.5%,14.5%,14.5%);stroke-opacity:1.0;stroke-linecap:round;stroke-width:2.0;fill:none\"><path d=\"M 172.3 248.6 L 172.3 259.8 L 210.6 259.8\" id=\"10,0\" style=\"\"></path><path d=\"M 172.3 248.6 L 172.3 237.4 L 210.6 237.4\" id=\"10,1\" style=\"\"></path><path d=\"M 134.0 198.3 L 134.0 215.1 L 210.6 215.1\" id=\"12,2\" style=\"\"></path><path d=\"M 172.3 181.6 L 172.3 192.8 L 210.6 192.8\" id=\"11,3\" style=\"\"></path><path d=\"M 172.3 181.6 L 172.3 170.4 L 210.6 170.4\" id=\"11,4\" style=\"\"></path><path d=\"M 172.3 136.9 L 172.3 148.1 L 210.6 148.1\" id=\"14,5\" style=\"\"></path><path d=\"M 172.3 136.9 L 172.3 125.7 L 210.6 125.7\" id=\"14,6\" style=\"\"></path><path d=\"M 134.0 86.7 L 134.0 103.4 L 210.6 103.4\" id=\"16,7\" style=\"\"></path><path d=\"M 172.3 69.9 L 172.3 81.1 L 210.6 81.1\" id=\"15,8\" style=\"\"></path><path d=\"M 172.3 69.9 L 172.3 58.7 L 210.6 58.7\" id=\"15,9\" style=\"\"></path><path d=\"M 95.6 223.5 L 95.6 248.6 L 172.3 248.6\" id=\"13,10\" style=\"\"></path><path d=\"M 134.0 198.3 L 134.0 181.6 L 172.3 181.6\" id=\"12,11\" style=\"\"></path><path d=\"M 95.6 223.5 L 95.6 198.3 L 134.0 198.3\" id=\"13,12\" style=\"\"></path><path d=\"M 57.3 167.6 L 57.3 223.5 L 95.6 223.5\" id=\"18,13\" style=\"\"></path><path d=\"M 95.6 111.8 L 95.6 136.9 L 172.3 136.9\" id=\"17,14\" style=\"\"></path><path d=\"M 134.0 86.7 L 134.0 69.9 L 172.3 69.9\" id=\"16,15\" style=\"\"></path><path d=\"M 95.6 111.8 L 95.6 86.7 L 134.0 86.7\" id=\"17,16\" style=\"\"></path><path d=\"M 57.3 167.6 L 57.3 111.8 L 95.6 111.8\" id=\"18,17\" style=\"\"></path></g><g class=\"toytree-AdmixEdges\" style=\"fill:rgb(0.0%,0.0%,0.0%);fill-opacity:0.0;stroke:rgb(90.6%,54.1%,76.5%);stroke-opacity:0.6;font-size:14px;stroke-linecap:round;stroke-width:5\"></g><g class=\"toytree-Nodes\" style=\"fill:rgb(82.7%,82.7%,82.7%);fill-opacity:1.0;stroke:rgb(14.5%,14.5%,14.5%);stroke-opacity:1.0;stroke-width:1.5\"><g id=\"Node-0\" transform=\"translate(210.637,259.76)\"><circle r=\"8.0\"></circle></g><g id=\"Node-1\" transform=\"translate(210.637,237.424)\"><circle r=\"8.0\"></circle></g><g id=\"Node-2\" transform=\"translate(210.637,215.089)\"><circle r=\"8.0\"></circle></g><g id=\"Node-3\" transform=\"translate(210.637,192.753)\"><circle r=\"8.0\"></circle></g><g id=\"Node-4\" transform=\"translate(210.637,170.418)\"><circle r=\"8.0\"></circle></g><g id=\"Node-5\" transform=\"translate(210.637,148.082)\"><circle r=\"8.0\"></circle></g><g id=\"Node-6\" transform=\"translate(210.637,125.747)\"><circle r=\"8.0\"></circle></g><g id=\"Node-7\" transform=\"translate(210.637,103.411)\"><circle r=\"8.0\"></circle></g><g id=\"Node-8\" transform=\"translate(210.637,81.0756)\"><circle r=\"8.0\"></circle></g><g id=\"Node-9\" transform=\"translate(210.637,58.74)\"><circle r=\"8.0\"></circle></g><g id=\"Node-10\" transform=\"translate(172.299,248.592)\"><circle r=\"8.0\"></circle></g><g id=\"Node-11\" transform=\"translate(172.299,181.586)\"><circle r=\"8.0\"></circle></g><g id=\"Node-12\" transform=\"translate(133.961,198.337)\"><circle r=\"8.0\"></circle></g><g id=\"Node-13\" transform=\"translate(95.6225,223.465)\"><circle r=\"8.0\"></circle></g><g id=\"Node-14\" transform=\"translate(172.299,136.914)\"><circle r=\"8.0\"></circle></g><g id=\"Node-15\" transform=\"translate(172.299,69.9078)\"><circle r=\"8.0\"></circle></g><g id=\"Node-16\" transform=\"translate(133.961,86.6594)\"><circle r=\"8.0\"></circle></g><g id=\"Node-17\" transform=\"translate(95.6225,111.787)\"><circle r=\"8.0\"></circle></g><g id=\"Node-18\" transform=\"translate(57.2843,167.626)\"><circle r=\"8.0\"></circle></g></g><g class=\"toytree-NodeLabels\" style=\"font-family:Helvetica;font-size:9px;font-weight:300;vertical-align:baseline;white-space:pre;stroke:none\"><g class=\"toytree-NodeLabel\" transform=\"translate(210.637,259.76)\"><text x=\"-2.5020000000000002\" y=\"2.2995\" style=\"fill:rgb(14.5%,14.5%,14.5%);fill-opacity:1.0\">0</text></g><g class=\"toytree-NodeLabel\" transform=\"translate(210.637,237.424)\"><text x=\"-2.5020000000000002\" y=\"2.2995\" style=\"fill:rgb(14.5%,14.5%,14.5%);fill-opacity:1.0\">1</text></g><g class=\"toytree-NodeLabel\" transform=\"translate(210.637,215.089)\"><text x=\"-2.5020000000000002\" y=\"2.2995\" style=\"fill:rgb(14.5%,14.5%,14.5%);fill-opacity:1.0\">2</text></g><g class=\"toytree-NodeLabel\" transform=\"translate(210.637,192.753)\"><text x=\"-2.5020000000000002\" y=\"2.2995\" style=\"fill:rgb(14.5%,14.5%,14.5%);fill-opacity:1.0\">3</text></g><g class=\"toytree-NodeLabel\" transform=\"translate(210.637,170.418)\"><text x=\"-2.5020000000000002\" y=\"2.2995\" style=\"fill:rgb(14.5%,14.5%,14.5%);fill-opacity:1.0\">4</text></g><g class=\"toytree-NodeLabel\" transform=\"translate(210.637,148.082)\"><text x=\"-2.5020000000000002\" y=\"2.2995\" style=\"fill:rgb(14.5%,14.5%,14.5%);fill-opacity:1.0\">5</text></g><g class=\"toytree-NodeLabel\" transform=\"translate(210.637,125.747)\"><text x=\"-2.5020000000000002\" y=\"2.2995\" style=\"fill:rgb(14.5%,14.5%,14.5%);fill-opacity:1.0\">6</text></g><g class=\"toytree-NodeLabel\" transform=\"translate(210.637,103.411)\"><text x=\"-2.5020000000000002\" y=\"2.2995\" style=\"fill:rgb(14.5%,14.5%,14.5%);fill-opacity:1.0\">7</text></g><g class=\"toytree-NodeLabel\" transform=\"translate(210.637,81.0756)\"><text x=\"-2.5020000000000002\" y=\"2.2995\" style=\"fill:rgb(14.5%,14.5%,14.5%);fill-opacity:1.0\">8</text></g><g class=\"toytree-NodeLabel\" transform=\"translate(210.637,58.74)\"><text x=\"-2.5020000000000002\" y=\"2.2995\" style=\"fill:rgb(14.5%,14.5%,14.5%);fill-opacity:1.0\">9</text></g><g class=\"toytree-NodeLabel\" transform=\"translate(172.299,248.592)\"><text x=\"-5.0040000000000004\" y=\"2.2995\" style=\"fill:rgb(14.5%,14.5%,14.5%);fill-opacity:1.0\">10</text></g><g class=\"toytree-NodeLabel\" transform=\"translate(172.299,181.586)\"><text x=\"-5.0040000000000004\" y=\"2.2995\" style=\"fill:rgb(14.5%,14.5%,14.5%);fill-opacity:1.0\">11</text></g><g class=\"toytree-NodeLabel\" transform=\"translate(133.961,198.337)\"><text x=\"-5.0040000000000004\" y=\"2.2995\" style=\"fill:rgb(14.5%,14.5%,14.5%);fill-opacity:1.0\">12</text></g><g class=\"toytree-NodeLabel\" transform=\"translate(95.6225,223.465)\"><text x=\"-5.0040000000000004\" y=\"2.2995\" style=\"fill:rgb(14.5%,14.5%,14.5%);fill-opacity:1.0\">13</text></g><g class=\"toytree-NodeLabel\" transform=\"translate(172.299,136.914)\"><text x=\"-5.0040000000000004\" y=\"2.2995\" style=\"fill:rgb(14.5%,14.5%,14.5%);fill-opacity:1.0\">14</text></g><g class=\"toytree-NodeLabel\" transform=\"translate(172.299,69.9078)\"><text x=\"-5.0040000000000004\" y=\"2.2995\" style=\"fill:rgb(14.5%,14.5%,14.5%);fill-opacity:1.0\">15</text></g><g class=\"toytree-NodeLabel\" transform=\"translate(133.961,86.6594)\"><text x=\"-5.0040000000000004\" y=\"2.2995\" style=\"fill:rgb(14.5%,14.5%,14.5%);fill-opacity:1.0\">16</text></g><g class=\"toytree-NodeLabel\" transform=\"translate(95.6225,111.787)\"><text x=\"-5.0040000000000004\" y=\"2.2995\" style=\"fill:rgb(14.5%,14.5%,14.5%);fill-opacity:1.0\">17</text></g><g class=\"toytree-NodeLabel\" transform=\"translate(57.2843,167.626)\"><text x=\"-5.0040000000000004\" y=\"2.2995\" style=\"fill:rgb(14.5%,14.5%,14.5%);fill-opacity:1.0\">18</text></g></g><g class=\"toytree-TipLabels\" style=\"fill:rgb(14.5%,14.5%,14.5%);fill-opacity:1.0;font-family:Helvetica;font-size:12px;font-weight:300;vertical-align:baseline;white-space:pre;stroke:none\"><g class=\"toytree-TipLabel\" transform=\"translate(210.637,259.76)\"><text x=\"15.0\" y=\"3.066\" style=\"fill:rgb(14.5%,14.5%,14.5%);fill-opacity:1.0\">r0</text></g><g class=\"toytree-TipLabel\" transform=\"translate(210.637,237.424)\"><text x=\"15.0\" y=\"3.066\" style=\"fill:rgb(14.5%,14.5%,14.5%);fill-opacity:1.0\">r1</text></g><g class=\"toytree-TipLabel\" transform=\"translate(210.637,215.089)\"><text x=\"15.0\" y=\"3.066\" style=\"fill:rgb(14.5%,14.5%,14.5%);fill-opacity:1.0\">r2</text></g><g class=\"toytree-TipLabel\" transform=\"translate(210.637,192.753)\"><text x=\"15.0\" y=\"3.066\" style=\"fill:rgb(14.5%,14.5%,14.5%);fill-opacity:1.0\">r3</text></g><g class=\"toytree-TipLabel\" transform=\"translate(210.637,170.418)\"><text x=\"15.0\" y=\"3.066\" style=\"fill:rgb(14.5%,14.5%,14.5%);fill-opacity:1.0\">r4</text></g><g class=\"toytree-TipLabel\" transform=\"translate(210.637,148.082)\"><text x=\"15.0\" y=\"3.066\" style=\"fill:rgb(14.5%,14.5%,14.5%);fill-opacity:1.0\">r5</text></g><g class=\"toytree-TipLabel\" transform=\"translate(210.637,125.747)\"><text x=\"15.0\" y=\"3.066\" style=\"fill:rgb(14.5%,14.5%,14.5%);fill-opacity:1.0\">r6</text></g><g class=\"toytree-TipLabel\" transform=\"translate(210.637,103.411)\"><text x=\"15.0\" y=\"3.066\" style=\"fill:rgb(14.5%,14.5%,14.5%);fill-opacity:1.0\">r7</text></g><g class=\"toytree-TipLabel\" transform=\"translate(210.637,81.0756)\"><text x=\"15.0\" y=\"3.066\" style=\"fill:rgb(14.5%,14.5%,14.5%);fill-opacity:1.0\">r8</text></g><g class=\"toytree-TipLabel\" transform=\"translate(210.637,58.74)\"><text x=\"15.0\" y=\"3.066\" style=\"fill:rgb(14.5%,14.5%,14.5%);fill-opacity:1.0\">r9</text></g></g></g></g></g></svg><div class=\"toyplot-behavior\"><script>(function()\n",
       "{\n",
       "var modules={};\n",
       "})();</script></div></div>"
      ]
     },
     "metadata": {},
     "output_type": "display_data"
    }
   ],
   "source": [
    "tree.draw(tree_style='s');  # simple-style"
   ]
  },
  {
   "cell_type": "code",
   "execution_count": 5,
   "metadata": {
    "scrolled": true
   },
   "outputs": [
    {
     "data": {
      "text/html": [
       "<div class=\"toyplot\" id=\"t9da2ffc7dda14ccf979752fb476c12ff\" style=\"text-align:center\"><svg class=\"toyplot-canvas-Canvas\" xmlns:toyplot=\"http://www.sandia.gov/toyplot\" xmlns:xlink=\"http://www.w3.org/1999/xlink\" xmlns=\"http://www.w3.org/2000/svg\" width=\"300.0px\" height=\"300.0px\" viewBox=\"0 0 300.0 300.0\" preserveAspectRatio=\"xMidYMid meet\" style=\"background-color:transparent;border-color:#292724;border-style:none;border-width:1.0;fill:rgb(16.1%,15.3%,14.1%);fill-opacity:1.0;font-family:Helvetica;font-size:12px;opacity:1.0;stroke:rgb(16.1%,15.3%,14.1%);stroke-opacity:1.0;stroke-width:1.0\" id=\"t1ee7c31014a6440a9d7f8221fd4a49cd\"><g class=\"toyplot-coordinates-Cartesian\" id=\"td68da7ee32484737aee549970c3a096f\"><clipPath id=\"t1b28336d62374272bf82f1e06eb78cf4\"><rect x=\"35.0\" y=\"35.0\" width=\"230.0\" height=\"230.0\"></rect></clipPath><g clip-path=\"url(#t1b28336d62374272bf82f1e06eb78cf4)\"><g class=\"toytree-mark-Toytree\" id=\"tf8056424891b46c3b7ee3bfc8e53db77\"><g class=\"toytree-Edges\" style=\"stroke:rgb(14.5%,14.5%,14.5%);stroke-opacity:1.0;stroke-linecap:round;stroke-width:2;fill:none\"><path d=\"M 67.1 133.9 L 56.7 213.8\" id=\"10,0\" style=\"\"></path><path d=\"M 67.1 133.9 L 77.4 213.8\" id=\"10,1\" style=\"\"></path><path d=\"M 113.7 133.9 L 98.2 213.8\" id=\"12,2\" style=\"\"></path><path d=\"M 129.3 173.8 L 118.9 213.8\" id=\"11,3\" style=\"\"></path><path d=\"M 129.3 173.8 L 139.6 213.8\" id=\"11,4\" style=\"\"></path><path d=\"M 170.7 133.9 L 160.4 213.8\" id=\"14,5\" style=\"\"></path><path d=\"M 170.7 133.9 L 181.1 213.8\" id=\"14,6\" style=\"\"></path><path d=\"M 217.4 133.9 L 201.8 213.8\" id=\"16,7\" style=\"\"></path><path d=\"M 232.9 173.8 L 222.6 213.8\" id=\"15,8\" style=\"\"></path><path d=\"M 232.9 173.8 L 243.3 213.8\" id=\"15,9\" style=\"\"></path><path d=\"M 90.4 93.9 L 67.1 133.9\" id=\"13,10\" style=\"\"></path><path d=\"M 113.7 133.9 L 129.3 173.8\" id=\"12,11\" style=\"\"></path><path d=\"M 90.4 93.9 L 113.7 133.9\" id=\"13,12\" style=\"\"></path><path d=\"M 142.2 54.0 L 90.4 93.9\" id=\"18,13\" style=\"\"></path><path d=\"M 194.1 93.9 L 170.7 133.9\" id=\"17,14\" style=\"\"></path><path d=\"M 217.4 133.9 L 232.9 173.8\" id=\"16,15\" style=\"\"></path><path d=\"M 194.1 93.9 L 217.4 133.9\" id=\"17,16\" style=\"\"></path><path d=\"M 142.2 54.0 L 194.1 93.9\" id=\"18,17\" style=\"\"></path></g><g class=\"toytree-AdmixEdges\" style=\"fill:rgb(0.0%,0.0%,0.0%);fill-opacity:0.0;stroke:rgb(90.6%,54.1%,76.5%);stroke-opacity:0.6;font-size:14px;stroke-linecap:round;stroke-width:5\"></g><g class=\"toytree-Nodes\" style=\"fill:rgb(40.0%,76.1%,64.7%);fill-opacity:1.0;stroke:rgb(14.5%,14.5%,14.5%);stroke-opacity:1.0;stroke-width:1.5\"><g id=\"Node-0\" transform=\"translate(56.7164,213.78)\"><circle r=\"3.5\"></circle></g><g id=\"Node-1\" transform=\"translate(77.4461,213.78)\"><circle r=\"3.5\"></circle></g><g id=\"Node-2\" transform=\"translate(98.1758,213.78)\"><circle r=\"3.5\"></circle></g><g id=\"Node-3\" transform=\"translate(118.905,213.78)\"><circle r=\"3.5\"></circle></g><g id=\"Node-4\" transform=\"translate(139.635,213.78)\"><circle r=\"3.5\"></circle></g><g id=\"Node-5\" transform=\"translate(160.365,213.78)\"><circle r=\"3.5\"></circle></g><g id=\"Node-6\" transform=\"translate(181.095,213.78)\"><circle r=\"3.5\"></circle></g><g id=\"Node-7\" transform=\"translate(201.824,213.78)\"><circle r=\"3.5\"></circle></g><g id=\"Node-8\" transform=\"translate(222.554,213.78)\"><circle r=\"3.5\"></circle></g><g id=\"Node-9\" transform=\"translate(243.284,213.78)\"><circle r=\"3.5\"></circle></g><g id=\"Node-10\" transform=\"translate(67.0813,133.887)\"><circle r=\"3.5\"></circle></g><g id=\"Node-11\" transform=\"translate(129.27,173.834)\"><circle r=\"3.5\"></circle></g><g id=\"Node-12\" transform=\"translate(113.723,133.887)\"><circle r=\"3.5\"></circle></g><g id=\"Node-13\" transform=\"translate(90.4022,93.9409)\"><circle r=\"3.5\"></circle></g><g id=\"Node-14\" transform=\"translate(170.73,133.887)\"><circle r=\"3.5\"></circle></g><g id=\"Node-15\" transform=\"translate(232.919,173.834)\"><circle r=\"3.5\"></circle></g><g id=\"Node-16\" transform=\"translate(217.371,133.887)\"><circle r=\"3.5\"></circle></g><g id=\"Node-17\" transform=\"translate(194.051,93.9409)\"><circle r=\"3.5\"></circle></g><g id=\"Node-18\" transform=\"translate(142.226,53.9946)\"><circle r=\"3.5\"></circle></g></g><g class=\"toytree-TipLabels\" style=\"fill:rgb(14.5%,14.5%,14.5%);fill-opacity:1.0;font-family:Helvetica;font-size:12px;font-weight:300;vertical-align:baseline;white-space:pre;stroke:none\"><g class=\"toytree-TipLabel\" transform=\"translate(56.7164,213.78)rotate(90)\"><text x=\"12.0\" y=\"3.066\" style=\"fill:rgb(14.5%,14.5%,14.5%);fill-opacity:1.0\">r0</text></g><g class=\"toytree-TipLabel\" transform=\"translate(77.4461,213.78)rotate(90)\"><text x=\"12.0\" y=\"3.066\" style=\"fill:rgb(14.5%,14.5%,14.5%);fill-opacity:1.0\">r1</text></g><g class=\"toytree-TipLabel\" transform=\"translate(98.1758,213.78)rotate(90)\"><text x=\"12.0\" y=\"3.066\" style=\"fill:rgb(14.5%,14.5%,14.5%);fill-opacity:1.0\">r2</text></g><g class=\"toytree-TipLabel\" transform=\"translate(118.905,213.78)rotate(90)\"><text x=\"12.0\" y=\"3.066\" style=\"fill:rgb(14.5%,14.5%,14.5%);fill-opacity:1.0\">r3</text></g><g class=\"toytree-TipLabel\" transform=\"translate(139.635,213.78)rotate(90)\"><text x=\"12.0\" y=\"3.066\" style=\"fill:rgb(14.5%,14.5%,14.5%);fill-opacity:1.0\">r4</text></g><g class=\"toytree-TipLabel\" transform=\"translate(160.365,213.78)rotate(90)\"><text x=\"12.0\" y=\"3.066\" style=\"fill:rgb(14.5%,14.5%,14.5%);fill-opacity:1.0\">r5</text></g><g class=\"toytree-TipLabel\" transform=\"translate(181.095,213.78)rotate(90)\"><text x=\"12.0\" y=\"3.066\" style=\"fill:rgb(14.5%,14.5%,14.5%);fill-opacity:1.0\">r6</text></g><g class=\"toytree-TipLabel\" transform=\"translate(201.824,213.78)rotate(90)\"><text x=\"12.0\" y=\"3.066\" style=\"fill:rgb(14.5%,14.5%,14.5%);fill-opacity:1.0\">r7</text></g><g class=\"toytree-TipLabel\" transform=\"translate(222.554,213.78)rotate(90)\"><text x=\"12.0\" y=\"3.066\" style=\"fill:rgb(14.5%,14.5%,14.5%);fill-opacity:1.0\">r8</text></g><g class=\"toytree-TipLabel\" transform=\"translate(243.284,213.78)rotate(90)\"><text x=\"12.0\" y=\"3.066\" style=\"fill:rgb(14.5%,14.5%,14.5%);fill-opacity:1.0\">r9</text></g></g></g></g><g class=\"toyplot-coordinates-Axis\" id=\"t338702737d1346e681d9fab5302bcd44\" transform=\"translate(50.0,250.0)rotate(-90.0)translate(0,-15.0)\"><line x1=\"36.22012015850698\" y1=\"0\" x2=\"196.00536878435383\" y2=\"0\" style=\"\"></line><g><line x1=\"36.22012015850698\" y1=\"0\" x2=\"36.22012015850698\" y2=\"5\" style=\"\"></line><line x1=\"116.11274447143043\" y1=\"0\" x2=\"116.11274447143043\" y2=\"5\" style=\"\"></line><line x1=\"196.00536878435383\" y1=\"0\" x2=\"196.00536878435383\" y2=\"5\" style=\"\"></line></g><g><g transform=\"translate(36.22012015850698,-6)\"><text x=\"-2.78\" y=\"-4.440892098500626e-16\" style=\"fill:rgb(16.1%,15.3%,14.1%);fill-opacity:1.0;font-family:helvetica;font-size:10.0px;font-weight:normal;stroke:none;vertical-align:baseline;white-space:pre\">0</text></g><g transform=\"translate(116.11274447143043,-6)\"><text x=\"-6.95\" y=\"-4.440892098500626e-16\" style=\"fill:rgb(16.1%,15.3%,14.1%);fill-opacity:1.0;font-family:helvetica;font-size:10.0px;font-weight:normal;stroke:none;vertical-align:baseline;white-space:pre\">0.5</text></g><g transform=\"translate(196.00536878435383,-6)\"><text x=\"-2.78\" y=\"-4.440892098500626e-16\" style=\"fill:rgb(16.1%,15.3%,14.1%);fill-opacity:1.0;font-family:helvetica;font-size:10.0px;font-weight:normal;stroke:none;vertical-align:baseline;white-space:pre\">1</text></g></g><g class=\"toyplot-coordinates-Axis-coordinates\" style=\"visibility:hidden\" transform=\"\"><line x1=\"0\" x2=\"0\" y1=\"3.0\" y2=\"-4.5\" style=\"stroke:rgb(43.9%,50.2%,56.5%);stroke-opacity:1.0;stroke-width:1.0\"></line><text x=\"0\" y=\"6\" style=\"alignment-baseline:hanging;fill:rgb(43.9%,50.2%,56.5%);fill-opacity:1.0;font-size:10px;font-weight:normal;stroke:none;text-anchor:middle\"></text></g></g></g></svg><div class=\"toyplot-behavior\"><script>(function()\n",
       "{\n",
       "var modules={};\n",
       "modules[\"toyplot/canvas/id\"] = \"t1ee7c31014a6440a9d7f8221fd4a49cd\";\n",
       "modules[\"toyplot/canvas\"] = (function(canvas_id)\n",
       "    {\n",
       "        return document.querySelector(\"#\" + canvas_id);\n",
       "    })(modules[\"toyplot/canvas/id\"]);\n",
       "modules[\"toyplot.coordinates.Axis\"] = (\n",
       "        function(canvas)\n",
       "        {\n",
       "            function sign(x)\n",
       "            {\n",
       "                return x < 0 ? -1 : x > 0 ? 1 : 0;\n",
       "            }\n",
       "\n",
       "            function mix(a, b, amount)\n",
       "            {\n",
       "                return ((1.0 - amount) * a) + (amount * b);\n",
       "            }\n",
       "\n",
       "            function log(x, base)\n",
       "            {\n",
       "                return Math.log(Math.abs(x)) / Math.log(base);\n",
       "            }\n",
       "\n",
       "            function in_range(a, x, b)\n",
       "            {\n",
       "                var left = Math.min(a, b);\n",
       "                var right = Math.max(a, b);\n",
       "                return left <= x && x <= right;\n",
       "            }\n",
       "\n",
       "            function inside(range, projection)\n",
       "            {\n",
       "                for(var i = 0; i != projection.length; ++i)\n",
       "                {\n",
       "                    var segment = projection[i];\n",
       "                    if(in_range(segment.range.min, range, segment.range.max))\n",
       "                        return true;\n",
       "                }\n",
       "                return false;\n",
       "            }\n",
       "\n",
       "            function to_domain(range, projection)\n",
       "            {\n",
       "                for(var i = 0; i != projection.length; ++i)\n",
       "                {\n",
       "                    var segment = projection[i];\n",
       "                    if(in_range(segment.range.bounds.min, range, segment.range.bounds.max))\n",
       "                    {\n",
       "                        if(segment.scale == \"linear\")\n",
       "                        {\n",
       "                            var amount = (range - segment.range.min) / (segment.range.max - segment.range.min);\n",
       "                            return mix(segment.domain.min, segment.domain.max, amount)\n",
       "                        }\n",
       "                        else if(segment.scale[0] == \"log\")\n",
       "                        {\n",
       "                            var amount = (range - segment.range.min) / (segment.range.max - segment.range.min);\n",
       "                            var base = segment.scale[1];\n",
       "                            return sign(segment.domain.min) * Math.pow(base, mix(log(segment.domain.min, base), log(segment.domain.max, base), amount));\n",
       "                        }\n",
       "                    }\n",
       "                }\n",
       "            }\n",
       "\n",
       "            var axes = {};\n",
       "\n",
       "            function display_coordinates(e)\n",
       "            {\n",
       "                var current = canvas.createSVGPoint();\n",
       "                current.x = e.clientX;\n",
       "                current.y = e.clientY;\n",
       "\n",
       "                for(var axis_id in axes)\n",
       "                {\n",
       "                    var axis = document.querySelector(\"#\" + axis_id);\n",
       "                    var coordinates = axis.querySelector(\".toyplot-coordinates-Axis-coordinates\");\n",
       "                    if(coordinates)\n",
       "                    {\n",
       "                        var projection = axes[axis_id];\n",
       "                        var local = current.matrixTransform(axis.getScreenCTM().inverse());\n",
       "                        if(inside(local.x, projection))\n",
       "                        {\n",
       "                            var domain = to_domain(local.x, projection);\n",
       "                            coordinates.style.visibility = \"visible\";\n",
       "                            coordinates.setAttribute(\"transform\", \"translate(\" + local.x + \")\");\n",
       "                            var text = coordinates.querySelector(\"text\");\n",
       "                            text.textContent = domain.toFixed(2);\n",
       "                        }\n",
       "                        else\n",
       "                        {\n",
       "                            coordinates.style.visibility= \"hidden\";\n",
       "                        }\n",
       "                    }\n",
       "                }\n",
       "            }\n",
       "\n",
       "            canvas.addEventListener(\"click\", display_coordinates);\n",
       "\n",
       "            var module = {};\n",
       "            module.show_coordinates = function(axis_id, projection)\n",
       "            {\n",
       "                axes[axis_id] = projection;\n",
       "            }\n",
       "\n",
       "            return module;\n",
       "        })(modules[\"toyplot/canvas\"]);\n",
       "(function(axis, axis_id, projection)\n",
       "        {\n",
       "            axis.show_coordinates(axis_id, projection);\n",
       "        })(modules[\"toyplot.coordinates.Axis\"],\"t338702737d1346e681d9fab5302bcd44\",[{\"domain\": {\"bounds\": {\"max\": Infinity, \"min\": -Infinity}, \"max\": 1.025, \"min\": -0.22668000000000008}, \"range\": {\"bounds\": {\"max\": Infinity, \"min\": -Infinity}, \"max\": 200.0, \"min\": 0.0}, \"scale\": \"linear\"}]);\n",
       "})();</script></div></div>"
      ]
     },
     "metadata": {},
     "output_type": "display_data"
    }
   ],
   "source": [
    "tree.draw(tree_style='c');  # coalescent-style"
   ]
  },
  {
   "cell_type": "code",
   "execution_count": 6,
   "metadata": {
    "scrolled": true
   },
   "outputs": [
    {
     "data": {
      "text/html": [
       "<div class=\"toyplot\" id=\"tec84364c28e24335a833e8d4554a9dc7\" style=\"text-align:center\"><svg class=\"toyplot-canvas-Canvas\" xmlns:toyplot=\"http://www.sandia.gov/toyplot\" xmlns:xlink=\"http://www.w3.org/1999/xlink\" xmlns=\"http://www.w3.org/2000/svg\" width=\"300.0px\" height=\"318.5px\" viewBox=\"0 0 300.0 318.5\" preserveAspectRatio=\"xMidYMid meet\" style=\"background-color:transparent;border-color:#292724;border-style:none;border-width:1.0;fill:rgb(16.1%,15.3%,14.1%);fill-opacity:1.0;font-family:Helvetica;font-size:12px;opacity:1.0;stroke:rgb(16.1%,15.3%,14.1%);stroke-opacity:1.0;stroke-width:1.0\" id=\"tbd039e15bcad4ec5964a9377987a1158\"><g class=\"toyplot-coordinates-Cartesian\" id=\"t4a52c21a66634ce3bdc63f51a4824092\"><clipPath id=\"t3615b80be9d84a67a81fc8810c2fe546\"><rect x=\"35.0\" y=\"35.0\" width=\"230.0\" height=\"248.5\"></rect></clipPath><g clip-path=\"url(#t3615b80be9d84a67a81fc8810c2fe546)\"><g class=\"toytree-mark-Toytree\" id=\"tdc5619b9e6404624915f6c96ee980622\"><g class=\"toytree-Edges\" style=\"stroke:rgb(14.5%,14.5%,14.5%);stroke-opacity:1.0;stroke-linecap:round;stroke-width:2.0;fill:none\"><path d=\"M 136.3 248.6 L 136.3 259.8 L 209.7 259.8\" id=\"10,0\" style=\"\"></path><path d=\"M 136.3 248.6 L 136.3 237.4 L 209.7 237.4\" id=\"10,1\" style=\"\"></path><path d=\"M 136.3 198.3 L 136.3 215.1 L 209.7 215.1\" id=\"12,2\" style=\"\"></path><path d=\"M 173.0 181.6 L 173.0 192.8 L 209.7 192.8\" id=\"11,3\" style=\"\"></path><path d=\"M 173.0 181.6 L 173.0 170.4 L 209.7 170.4\" id=\"11,4\" style=\"\"></path><path d=\"M 136.3 136.9 L 136.3 148.1 L 209.7 148.1\" id=\"14,5\" style=\"\"></path><path d=\"M 136.3 136.9 L 136.3 125.7 L 209.7 125.7\" id=\"14,6\" style=\"\"></path><path d=\"M 136.3 86.7 L 136.3 103.4 L 209.7 103.4\" id=\"16,7\" style=\"\"></path><path d=\"M 173.0 69.9 L 173.0 81.1 L 209.7 81.1\" id=\"15,8\" style=\"\"></path><path d=\"M 173.0 69.9 L 173.0 58.7 L 209.7 58.7\" id=\"15,9\" style=\"\"></path><path d=\"M 99.6 223.5 L 99.6 248.6 L 136.3 248.6\" id=\"13,10\" style=\"\"></path><path d=\"M 136.3 198.3 L 136.3 181.6 L 173.0 181.6\" id=\"12,11\" style=\"\"></path><path d=\"M 99.6 223.5 L 99.6 198.3 L 136.3 198.3\" id=\"13,12\" style=\"\"></path><path d=\"M 62.8 167.6 L 62.8 223.5 L 99.6 223.5\" id=\"18,13\" style=\"\"></path><path d=\"M 99.6 111.8 L 99.6 136.9 L 136.3 136.9\" id=\"17,14\" style=\"\"></path><path d=\"M 136.3 86.7 L 136.3 69.9 L 173.0 69.9\" id=\"16,15\" style=\"\"></path><path d=\"M 99.6 111.8 L 99.6 86.7 L 136.3 86.7\" id=\"17,16\" style=\"\"></path><path d=\"M 62.8 167.6 L 62.8 111.8 L 99.6 111.8\" id=\"18,17\" style=\"\"></path></g><g class=\"toytree-AdmixEdges\" style=\"fill:rgb(0.0%,0.0%,0.0%);fill-opacity:0.0;stroke:rgb(90.6%,54.1%,76.5%);stroke-opacity:0.6;font-size:14px;stroke-linecap:round;stroke-width:5\"></g><g class=\"toytree-Nodes\" style=\"fill:rgb(82.7%,82.7%,82.7%);fill-opacity:1.0;stroke:rgb(14.9%,14.9%,14.9%);stroke-opacity:1.0;stroke-width:1.5\"><g id=\"Node-10\" transform=\"translate(136.273,248.592)\"><rect x=\"-16.0\" y=\"-8.0\" width=\"32.0\" height=\"16.0\"></rect></g><g id=\"Node-11\" transform=\"translate(172.985,181.586)\"><rect x=\"-16.0\" y=\"-8.0\" width=\"32.0\" height=\"16.0\"></rect></g><g id=\"Node-12\" transform=\"translate(136.273,198.337)\"><rect x=\"-16.0\" y=\"-8.0\" width=\"32.0\" height=\"16.0\"></rect></g><g id=\"Node-13\" transform=\"translate(99.5609,223.465)\"><rect x=\"-16.0\" y=\"-8.0\" width=\"32.0\" height=\"16.0\"></rect></g><g id=\"Node-14\" transform=\"translate(136.273,136.914)\"><rect x=\"-16.0\" y=\"-8.0\" width=\"32.0\" height=\"16.0\"></rect></g><g id=\"Node-15\" transform=\"translate(172.985,69.9078)\"><rect x=\"-16.0\" y=\"-8.0\" width=\"32.0\" height=\"16.0\"></rect></g><g id=\"Node-16\" transform=\"translate(136.273,86.6594)\"><rect x=\"-16.0\" y=\"-8.0\" width=\"32.0\" height=\"16.0\"></rect></g><g id=\"Node-17\" transform=\"translate(99.5609,111.787)\"><rect x=\"-16.0\" y=\"-8.0\" width=\"32.0\" height=\"16.0\"></rect></g><g id=\"Node-18\" transform=\"translate(62.8491,167.626)\"><rect x=\"-16.0\" y=\"-8.0\" width=\"32.0\" height=\"16.0\"></rect></g></g><g class=\"toytree-NodeLabels\" style=\"font-family:Helvetica;font-size:9px;font-weight:300;vertical-align:baseline;white-space:pre;stroke:none\"><g class=\"toytree-NodeLabel\" transform=\"translate(136.273,248.592)\"></g><g class=\"toytree-NodeLabel\" transform=\"translate(172.985,181.586)\"></g><g class=\"toytree-NodeLabel\" transform=\"translate(136.273,198.337)\"></g><g class=\"toytree-NodeLabel\" transform=\"translate(99.5609,223.465)\"></g><g class=\"toytree-NodeLabel\" transform=\"translate(136.273,136.914)\"></g><g class=\"toytree-NodeLabel\" transform=\"translate(172.985,69.9078)\"></g><g class=\"toytree-NodeLabel\" transform=\"translate(136.273,86.6594)\"></g><g class=\"toytree-NodeLabel\" transform=\"translate(99.5609,111.787)\"></g><g class=\"toytree-NodeLabel\" transform=\"translate(62.8491,167.626)\"></g></g><g class=\"toytree-TipLabels\" style=\"fill:rgb(14.5%,14.5%,14.5%);fill-opacity:1.0;font-family:Helvetica;font-size:14px;font-weight:300;vertical-align:baseline;white-space:pre;stroke:none\"><g class=\"toytree-TipLabel\" transform=\"translate(209.696,259.76)\"><text x=\"15.0\" y=\"3.577\" style=\"fill:rgb(14.5%,14.5%,14.5%);fill-opacity:1.0\">r0</text></g><g class=\"toytree-TipLabel\" transform=\"translate(209.696,237.424)\"><text x=\"15.0\" y=\"3.577\" style=\"fill:rgb(14.5%,14.5%,14.5%);fill-opacity:1.0\">r1</text></g><g class=\"toytree-TipLabel\" transform=\"translate(209.696,215.089)\"><text x=\"15.0\" y=\"3.577\" style=\"fill:rgb(14.5%,14.5%,14.5%);fill-opacity:1.0\">r2</text></g><g class=\"toytree-TipLabel\" transform=\"translate(209.696,192.753)\"><text x=\"15.0\" y=\"3.577\" style=\"fill:rgb(14.5%,14.5%,14.5%);fill-opacity:1.0\">r3</text></g><g class=\"toytree-TipLabel\" transform=\"translate(209.696,170.418)\"><text x=\"15.0\" y=\"3.577\" style=\"fill:rgb(14.5%,14.5%,14.5%);fill-opacity:1.0\">r4</text></g><g class=\"toytree-TipLabel\" transform=\"translate(209.696,148.082)\"><text x=\"15.0\" y=\"3.577\" style=\"fill:rgb(14.5%,14.5%,14.5%);fill-opacity:1.0\">r5</text></g><g class=\"toytree-TipLabel\" transform=\"translate(209.696,125.747)\"><text x=\"15.0\" y=\"3.577\" style=\"fill:rgb(14.5%,14.5%,14.5%);fill-opacity:1.0\">r6</text></g><g class=\"toytree-TipLabel\" transform=\"translate(209.696,103.411)\"><text x=\"15.0\" y=\"3.577\" style=\"fill:rgb(14.5%,14.5%,14.5%);fill-opacity:1.0\">r7</text></g><g class=\"toytree-TipLabel\" transform=\"translate(209.696,81.0756)\"><text x=\"15.0\" y=\"3.577\" style=\"fill:rgb(14.5%,14.5%,14.5%);fill-opacity:1.0\">r8</text></g><g class=\"toytree-TipLabel\" transform=\"translate(209.696,58.74)\"><text x=\"15.0\" y=\"3.577\" style=\"fill:rgb(14.5%,14.5%,14.5%);fill-opacity:1.0\">r9</text></g></g></g></g></g></svg><div class=\"toyplot-behavior\"><script>(function()\n",
       "{\n",
       "var modules={};\n",
       "})();</script></div></div>"
      ]
     },
     "metadata": {},
     "output_type": "display_data"
    }
   ],
   "source": [
    "tree.draw(tree_style='r');  # R-style"
   ]
  },
  {
   "cell_type": "code",
   "execution_count": 7,
   "metadata": {
    "scrolled": true
   },
   "outputs": [
    {
     "data": {
      "text/html": [
       "<div class=\"toyplot\" id=\"t8c8bc489a67843d886c52f090a3f5b0b\" style=\"text-align:center\"><svg class=\"toyplot-canvas-Canvas\" xmlns:toyplot=\"http://www.sandia.gov/toyplot\" xmlns:xlink=\"http://www.w3.org/1999/xlink\" xmlns=\"http://www.w3.org/2000/svg\" width=\"300.0px\" height=\"300.0px\" viewBox=\"0 0 300.0 300.0\" preserveAspectRatio=\"xMidYMid meet\" style=\"background-color:transparent;border-color:#292724;border-style:none;border-width:1.0;fill:rgb(16.1%,15.3%,14.1%);fill-opacity:1.0;font-family:Helvetica;font-size:12px;opacity:1.0;stroke:rgb(16.1%,15.3%,14.1%);stroke-opacity:1.0;stroke-width:1.0\" id=\"tdc3e609ec5a644bd8581e7921557171b\"><g class=\"toyplot-coordinates-Cartesian\" id=\"t73966298260d4035898d077989cfaeb4\"><clipPath id=\"td3f7aeda741543678dcfab229c72dd09\"><rect x=\"35.0\" y=\"35.0\" width=\"230.0\" height=\"230.0\"></rect></clipPath><g clip-path=\"url(#td3f7aeda741543678dcfab229c72dd09)\"><g class=\"toytree-mark-Toytree\" id=\"t21a4d0d5581a4eb895f3c4695b011b79\"><g class=\"toytree-Edges\" style=\"stroke:rgb(14.5%,14.5%,14.5%);stroke-opacity:1.0;stroke-linecap:round;stroke-width:2.0;fill:none\"><path d=\"M 68.1 133.5 L 57.8 210.5\" id=\"10,0\" style=\"\"></path><path d=\"M 68.1 133.5 L 78.3 210.5\" id=\"10,1\" style=\"\"></path><path d=\"M 114.2 133.5 L 98.8 210.5\" id=\"12,2\" style=\"\"></path><path d=\"M 129.5 172.0 L 119.3 210.5\" id=\"11,3\" style=\"\"></path><path d=\"M 129.5 172.0 L 139.8 210.5\" id=\"11,4\" style=\"\"></path><path d=\"M 170.5 133.5 L 160.2 210.5\" id=\"14,5\" style=\"\"></path><path d=\"M 170.5 133.5 L 180.7 210.5\" id=\"14,6\" style=\"\"></path><path d=\"M 216.6 133.5 L 201.2 210.5\" id=\"16,7\" style=\"\"></path><path d=\"M 231.9 172.0 L 221.7 210.5\" id=\"15,8\" style=\"\"></path><path d=\"M 231.9 172.0 L 242.2 210.5\" id=\"15,9\" style=\"\"></path><path d=\"M 91.1 95.0 L 68.1 133.5\" id=\"13,10\" style=\"\"></path><path d=\"M 114.2 133.5 L 129.5 172.0\" id=\"12,11\" style=\"\"></path><path d=\"M 91.1 95.0 L 114.2 133.5\" id=\"13,12\" style=\"\"></path><path d=\"M 142.3 56.5 L 91.1 95.0\" id=\"18,13\" style=\"\"></path><path d=\"M 193.5 95.0 L 170.5 133.5\" id=\"17,14\" style=\"\"></path><path d=\"M 216.6 133.5 L 231.9 172.0\" id=\"16,15\" style=\"\"></path><path d=\"M 193.5 95.0 L 216.6 133.5\" id=\"17,16\" style=\"\"></path><path d=\"M 142.3 56.5 L 193.5 95.0\" id=\"18,17\" style=\"\"></path></g><g class=\"toytree-AdmixEdges\" style=\"fill:rgb(0.0%,0.0%,0.0%);fill-opacity:0.0;stroke:rgb(90.6%,54.1%,76.5%);stroke-opacity:0.6;font-size:14px;stroke-linecap:round;stroke-width:5\"></g><g class=\"toytree-Nodes\" style=\"fill:rgb(40.0%,76.1%,64.7%);fill-opacity:1.0;stroke:rgb(14.5%,14.5%,14.5%);stroke-opacity:1.0;stroke-width:1.0\"><g id=\"Node-0\" transform=\"translate(57.8341,210.486)\"><circle r=\"7.5\"></circle></g><g id=\"Node-1\" transform=\"translate(78.3154,210.486)\"><circle r=\"7.5\"></circle></g><g id=\"Node-2\" transform=\"translate(98.7967,210.486)\"><circle r=\"7.5\"></circle></g><g id=\"Node-3\" transform=\"translate(119.278,210.486)\"><circle r=\"7.5\"></circle></g><g id=\"Node-4\" transform=\"translate(139.759,210.486)\"><circle r=\"7.5\"></circle></g><g id=\"Node-5\" transform=\"translate(160.241,210.486)\"><circle r=\"7.5\"></circle></g><g id=\"Node-6\" transform=\"translate(180.722,210.486)\"><circle r=\"7.5\"></circle></g><g id=\"Node-7\" transform=\"translate(201.203,210.486)\"><circle r=\"7.5\"></circle></g><g id=\"Node-8\" transform=\"translate(221.685,210.486)\"><circle r=\"7.5\"></circle></g><g id=\"Node-9\" transform=\"translate(242.166,210.486)\"><circle r=\"7.5\"></circle></g><g id=\"Node-10\" transform=\"translate(68.0748,133.514)\"><circle r=\"7.5\"></circle></g><g id=\"Node-11\" transform=\"translate(129.519,172)\"><circle r=\"7.5\"></circle></g><g id=\"Node-12\" transform=\"translate(114.158,133.514)\"><circle r=\"7.5\"></circle></g><g id=\"Node-13\" transform=\"translate(91.1162,95.0284)\"><circle r=\"7.5\"></circle></g><g id=\"Node-14\" transform=\"translate(170.481,133.514)\"><circle r=\"7.5\"></circle></g><g id=\"Node-15\" transform=\"translate(231.925,172)\"><circle r=\"7.5\"></circle></g><g id=\"Node-16\" transform=\"translate(216.564,133.514)\"><circle r=\"7.5\"></circle></g><g id=\"Node-17\" transform=\"translate(193.523,95.0284)\"><circle r=\"7.5\"></circle></g><g id=\"Node-18\" transform=\"translate(142.32,56.5426)\"><circle r=\"7.5\"></circle></g></g><g class=\"toytree-NodeLabels\" style=\"font-family:Helvetica;font-size:9px;font-weight:300;vertical-align:baseline;white-space:pre;stroke:none\"><g class=\"toytree-NodeLabel\" transform=\"translate(57.8341,210.486)\"><text x=\"-2.5020000000000002\" y=\"2.2995\" style=\"fill:rgb(14.5%,14.5%,14.5%);fill-opacity:1.0\">0</text></g><g class=\"toytree-NodeLabel\" transform=\"translate(78.3154,210.486)\"><text x=\"-2.5020000000000002\" y=\"2.2995\" style=\"fill:rgb(14.5%,14.5%,14.5%);fill-opacity:1.0\">1</text></g><g class=\"toytree-NodeLabel\" transform=\"translate(98.7967,210.486)\"><text x=\"-2.5020000000000002\" y=\"2.2995\" style=\"fill:rgb(14.5%,14.5%,14.5%);fill-opacity:1.0\">2</text></g><g class=\"toytree-NodeLabel\" transform=\"translate(119.278,210.486)\"><text x=\"-2.5020000000000002\" y=\"2.2995\" style=\"fill:rgb(14.5%,14.5%,14.5%);fill-opacity:1.0\">3</text></g><g class=\"toytree-NodeLabel\" transform=\"translate(139.759,210.486)\"><text x=\"-2.5020000000000002\" y=\"2.2995\" style=\"fill:rgb(14.5%,14.5%,14.5%);fill-opacity:1.0\">4</text></g><g class=\"toytree-NodeLabel\" transform=\"translate(160.241,210.486)\"><text x=\"-2.5020000000000002\" y=\"2.2995\" style=\"fill:rgb(14.5%,14.5%,14.5%);fill-opacity:1.0\">5</text></g><g class=\"toytree-NodeLabel\" transform=\"translate(180.722,210.486)\"><text x=\"-2.5020000000000002\" y=\"2.2995\" style=\"fill:rgb(14.5%,14.5%,14.5%);fill-opacity:1.0\">6</text></g><g class=\"toytree-NodeLabel\" transform=\"translate(201.203,210.486)\"><text x=\"-2.5020000000000002\" y=\"2.2995\" style=\"fill:rgb(14.5%,14.5%,14.5%);fill-opacity:1.0\">7</text></g><g class=\"toytree-NodeLabel\" transform=\"translate(221.685,210.486)\"><text x=\"-2.5020000000000002\" y=\"2.2995\" style=\"fill:rgb(14.5%,14.5%,14.5%);fill-opacity:1.0\">8</text></g><g class=\"toytree-NodeLabel\" transform=\"translate(242.166,210.486)\"><text x=\"-2.5020000000000002\" y=\"2.2995\" style=\"fill:rgb(14.5%,14.5%,14.5%);fill-opacity:1.0\">9</text></g><g class=\"toytree-NodeLabel\" transform=\"translate(68.0748,133.514)\"><text x=\"-5.0040000000000004\" y=\"2.2995\" style=\"fill:rgb(14.5%,14.5%,14.5%);fill-opacity:1.0\">10</text></g><g class=\"toytree-NodeLabel\" transform=\"translate(129.519,172)\"><text x=\"-5.0040000000000004\" y=\"2.2995\" style=\"fill:rgb(14.5%,14.5%,14.5%);fill-opacity:1.0\">11</text></g><g class=\"toytree-NodeLabel\" transform=\"translate(114.158,133.514)\"><text x=\"-5.0040000000000004\" y=\"2.2995\" style=\"fill:rgb(14.5%,14.5%,14.5%);fill-opacity:1.0\">12</text></g><g class=\"toytree-NodeLabel\" transform=\"translate(91.1162,95.0284)\"><text x=\"-5.0040000000000004\" y=\"2.2995\" style=\"fill:rgb(14.5%,14.5%,14.5%);fill-opacity:1.0\">13</text></g><g class=\"toytree-NodeLabel\" transform=\"translate(170.481,133.514)\"><text x=\"-5.0040000000000004\" y=\"2.2995\" style=\"fill:rgb(14.5%,14.5%,14.5%);fill-opacity:1.0\">14</text></g><g class=\"toytree-NodeLabel\" transform=\"translate(231.925,172)\"><text x=\"-5.0040000000000004\" y=\"2.2995\" style=\"fill:rgb(14.5%,14.5%,14.5%);fill-opacity:1.0\">15</text></g><g class=\"toytree-NodeLabel\" transform=\"translate(216.564,133.514)\"><text x=\"-5.0040000000000004\" y=\"2.2995\" style=\"fill:rgb(14.5%,14.5%,14.5%);fill-opacity:1.0\">16</text></g><g class=\"toytree-NodeLabel\" transform=\"translate(193.523,95.0284)\"><text x=\"-5.0040000000000004\" y=\"2.2995\" style=\"fill:rgb(14.5%,14.5%,14.5%);fill-opacity:1.0\">17</text></g><g class=\"toytree-NodeLabel\" transform=\"translate(142.32,56.5426)\"><text x=\"-5.0040000000000004\" y=\"2.2995\" style=\"fill:rgb(14.5%,14.5%,14.5%);fill-opacity:1.0\">18</text></g></g><g class=\"toytree-TipLabels\" style=\"fill:rgb(14.5%,14.5%,14.5%);fill-opacity:1.0;font-family:Helvetica;font-size:12px;font-weight:300;vertical-align:baseline;white-space:pre;stroke:none\"><g class=\"toytree-TipLabel\" transform=\"translate(57.8341,210.486)rotate(90)\"><text x=\"15.0\" y=\"3.066\" style=\"fill:rgb(14.5%,14.5%,14.5%);fill-opacity:1.0\">r0</text></g><g class=\"toytree-TipLabel\" transform=\"translate(78.3154,210.486)rotate(90)\"><text x=\"15.0\" y=\"3.066\" style=\"fill:rgb(14.5%,14.5%,14.5%);fill-opacity:1.0\">r1</text></g><g class=\"toytree-TipLabel\" transform=\"translate(98.7967,210.486)rotate(90)\"><text x=\"15.0\" y=\"3.066\" style=\"fill:rgb(14.5%,14.5%,14.5%);fill-opacity:1.0\">r2</text></g><g class=\"toytree-TipLabel\" transform=\"translate(119.278,210.486)rotate(90)\"><text x=\"15.0\" y=\"3.066\" style=\"fill:rgb(14.5%,14.5%,14.5%);fill-opacity:1.0\">r3</text></g><g class=\"toytree-TipLabel\" transform=\"translate(139.759,210.486)rotate(90)\"><text x=\"15.0\" y=\"3.066\" style=\"fill:rgb(14.5%,14.5%,14.5%);fill-opacity:1.0\">r4</text></g><g class=\"toytree-TipLabel\" transform=\"translate(160.241,210.486)rotate(90)\"><text x=\"15.0\" y=\"3.066\" style=\"fill:rgb(14.5%,14.5%,14.5%);fill-opacity:1.0\">r5</text></g><g class=\"toytree-TipLabel\" transform=\"translate(180.722,210.486)rotate(90)\"><text x=\"15.0\" y=\"3.066\" style=\"fill:rgb(14.5%,14.5%,14.5%);fill-opacity:1.0\">r6</text></g><g class=\"toytree-TipLabel\" transform=\"translate(201.203,210.486)rotate(90)\"><text x=\"15.0\" y=\"3.066\" style=\"fill:rgb(14.5%,14.5%,14.5%);fill-opacity:1.0\">r7</text></g><g class=\"toytree-TipLabel\" transform=\"translate(221.685,210.486)rotate(90)\"><text x=\"15.0\" y=\"3.066\" style=\"fill:rgb(14.5%,14.5%,14.5%);fill-opacity:1.0\">r8</text></g><g class=\"toytree-TipLabel\" transform=\"translate(242.166,210.486)rotate(90)\"><text x=\"15.0\" y=\"3.066\" style=\"fill:rgb(14.5%,14.5%,14.5%);fill-opacity:1.0\">r9</text></g></g></g></g><g class=\"toyplot-coordinates-Axis\" id=\"t3d18d87dcba84b7c8b52a28d876ed8e0\" transform=\"translate(50.0,250.0)rotate(-90.0)translate(0,-15.0)\"><line x1=\"39.51415508243662\" y1=\"0\" x2=\"193.45741159808495\" y2=\"0\" style=\"\"></line><g><line x1=\"39.51415508243662\" y1=\"0\" x2=\"39.51415508243662\" y2=\"5\" style=\"\"></line><line x1=\"116.48578334026078\" y1=\"0\" x2=\"116.48578334026078\" y2=\"5\" style=\"\"></line><line x1=\"193.45741159808495\" y1=\"0\" x2=\"193.45741159808495\" y2=\"5\" style=\"\"></line></g><g><g transform=\"translate(39.51415508243662,-6)\"><text x=\"-2.78\" y=\"-4.440892098500626e-16\" style=\"fill:rgb(16.1%,15.3%,14.1%);fill-opacity:1.0;font-family:helvetica;font-size:10.0px;font-weight:normal;stroke:none;vertical-align:baseline;white-space:pre\">0</text></g><g transform=\"translate(116.48578334026078,-6)\"><text x=\"-6.95\" y=\"-4.440892098500626e-16\" style=\"fill:rgb(16.1%,15.3%,14.1%);fill-opacity:1.0;font-family:helvetica;font-size:10.0px;font-weight:normal;stroke:none;vertical-align:baseline;white-space:pre\">0.5</text></g><g transform=\"translate(193.45741159808495,-6)\"><text x=\"-2.78\" y=\"-4.440892098500626e-16\" style=\"fill:rgb(16.1%,15.3%,14.1%);fill-opacity:1.0;font-family:helvetica;font-size:10.0px;font-weight:normal;stroke:none;vertical-align:baseline;white-space:pre\">1</text></g></g><g class=\"toyplot-coordinates-Axis-coordinates\" style=\"visibility:hidden\" transform=\"\"><line x1=\"0\" x2=\"0\" y1=\"3.0\" y2=\"-4.5\" style=\"stroke:rgb(43.9%,50.2%,56.5%);stroke-opacity:1.0;stroke-width:1.0\"></line><text x=\"0\" y=\"6\" style=\"alignment-baseline:hanging;fill:rgb(43.9%,50.2%,56.5%);fill-opacity:1.0;font-size:10px;font-weight:normal;stroke:none;text-anchor:middle\"></text></g></g></g></svg><div class=\"toyplot-behavior\"><script>(function()\n",
       "{\n",
       "var modules={};\n",
       "modules[\"toyplot/canvas/id\"] = \"tdc3e609ec5a644bd8581e7921557171b\";\n",
       "modules[\"toyplot/canvas\"] = (function(canvas_id)\n",
       "    {\n",
       "        return document.querySelector(\"#\" + canvas_id);\n",
       "    })(modules[\"toyplot/canvas/id\"]);\n",
       "modules[\"toyplot.coordinates.Axis\"] = (\n",
       "        function(canvas)\n",
       "        {\n",
       "            function sign(x)\n",
       "            {\n",
       "                return x < 0 ? -1 : x > 0 ? 1 : 0;\n",
       "            }\n",
       "\n",
       "            function mix(a, b, amount)\n",
       "            {\n",
       "                return ((1.0 - amount) * a) + (amount * b);\n",
       "            }\n",
       "\n",
       "            function log(x, base)\n",
       "            {\n",
       "                return Math.log(Math.abs(x)) / Math.log(base);\n",
       "            }\n",
       "\n",
       "            function in_range(a, x, b)\n",
       "            {\n",
       "                var left = Math.min(a, b);\n",
       "                var right = Math.max(a, b);\n",
       "                return left <= x && x <= right;\n",
       "            }\n",
       "\n",
       "            function inside(range, projection)\n",
       "            {\n",
       "                for(var i = 0; i != projection.length; ++i)\n",
       "                {\n",
       "                    var segment = projection[i];\n",
       "                    if(in_range(segment.range.min, range, segment.range.max))\n",
       "                        return true;\n",
       "                }\n",
       "                return false;\n",
       "            }\n",
       "\n",
       "            function to_domain(range, projection)\n",
       "            {\n",
       "                for(var i = 0; i != projection.length; ++i)\n",
       "                {\n",
       "                    var segment = projection[i];\n",
       "                    if(in_range(segment.range.bounds.min, range, segment.range.bounds.max))\n",
       "                    {\n",
       "                        if(segment.scale == \"linear\")\n",
       "                        {\n",
       "                            var amount = (range - segment.range.min) / (segment.range.max - segment.range.min);\n",
       "                            return mix(segment.domain.min, segment.domain.max, amount)\n",
       "                        }\n",
       "                        else if(segment.scale[0] == \"log\")\n",
       "                        {\n",
       "                            var amount = (range - segment.range.min) / (segment.range.max - segment.range.min);\n",
       "                            var base = segment.scale[1];\n",
       "                            return sign(segment.domain.min) * Math.pow(base, mix(log(segment.domain.min, base), log(segment.domain.max, base), amount));\n",
       "                        }\n",
       "                    }\n",
       "                }\n",
       "            }\n",
       "\n",
       "            var axes = {};\n",
       "\n",
       "            function display_coordinates(e)\n",
       "            {\n",
       "                var current = canvas.createSVGPoint();\n",
       "                current.x = e.clientX;\n",
       "                current.y = e.clientY;\n",
       "\n",
       "                for(var axis_id in axes)\n",
       "                {\n",
       "                    var axis = document.querySelector(\"#\" + axis_id);\n",
       "                    var coordinates = axis.querySelector(\".toyplot-coordinates-Axis-coordinates\");\n",
       "                    if(coordinates)\n",
       "                    {\n",
       "                        var projection = axes[axis_id];\n",
       "                        var local = current.matrixTransform(axis.getScreenCTM().inverse());\n",
       "                        if(inside(local.x, projection))\n",
       "                        {\n",
       "                            var domain = to_domain(local.x, projection);\n",
       "                            coordinates.style.visibility = \"visible\";\n",
       "                            coordinates.setAttribute(\"transform\", \"translate(\" + local.x + \")\");\n",
       "                            var text = coordinates.querySelector(\"text\");\n",
       "                            text.textContent = domain.toFixed(2);\n",
       "                        }\n",
       "                        else\n",
       "                        {\n",
       "                            coordinates.style.visibility= \"hidden\";\n",
       "                        }\n",
       "                    }\n",
       "                }\n",
       "            }\n",
       "\n",
       "            canvas.addEventListener(\"click\", display_coordinates);\n",
       "\n",
       "            var module = {};\n",
       "            module.show_coordinates = function(axis_id, projection)\n",
       "            {\n",
       "                axes[axis_id] = projection;\n",
       "            }\n",
       "\n",
       "            return module;\n",
       "        })(modules[\"toyplot/canvas\"]);\n",
       "(function(axis, axis_id, projection)\n",
       "        {\n",
       "            axis.show_coordinates(axis_id, projection);\n",
       "        })(modules[\"toyplot.coordinates.Axis\"],\"t3d18d87dcba84b7c8b52a28d876ed8e0\",[{\"domain\": {\"bounds\": {\"max\": Infinity, \"min\": -Infinity}, \"max\": 1.0425, \"min\": -0.2566800000000001}, \"range\": {\"bounds\": {\"max\": Infinity, \"min\": -Infinity}, \"max\": 200.0, \"min\": 0.0}, \"scale\": \"linear\"}]);\n",
       "})();</script></div></div>"
      ]
     },
     "metadata": {},
     "output_type": "display_data"
    }
   ],
   "source": [
    "tree.draw(tree_style='p');  # population-style"
   ]
  },
  {
   "cell_type": "code",
   "execution_count": 8,
   "metadata": {
    "scrolled": true
   },
   "outputs": [
    {
     "data": {
      "text/html": [
       "<div class=\"toyplot\" id=\"tcdedeb9b16274ab78840078713eaae50\" style=\"text-align:center\"><svg class=\"toyplot-canvas-Canvas\" xmlns:toyplot=\"http://www.sandia.gov/toyplot\" xmlns:xlink=\"http://www.w3.org/1999/xlink\" xmlns=\"http://www.w3.org/2000/svg\" width=\"300.0px\" height=\"275.0px\" viewBox=\"0 0 300.0 275.0\" preserveAspectRatio=\"xMidYMid meet\" style=\"background-color:transparent;border-color:#292724;border-style:none;border-width:1.0;fill:rgb(16.1%,15.3%,14.1%);fill-opacity:1.0;font-family:Helvetica;font-size:12px;opacity:1.0;stroke:rgb(16.1%,15.3%,14.1%);stroke-opacity:1.0;stroke-width:1.0\" id=\"tab519f155d154259aebb3a6579ef8d53\"><g class=\"toyplot-coordinates-Cartesian\" id=\"t42f272bb87eb4c0f9fb8aecca57990b9\"><clipPath id=\"tfd49ab68e4524dd5a6f1167600b9835b\"><rect x=\"35.0\" y=\"35.0\" width=\"230.0\" height=\"205.0\"></rect></clipPath><g clip-path=\"url(#tfd49ab68e4524dd5a6f1167600b9835b)\"><g class=\"toytree-mark-Toytree\" id=\"t06346e97f53e4781a66f69e75243fdf8\"><g class=\"toytree-Edges\" style=\"stroke:rgb(40.0%,76.1%,64.7%);stroke-opacity:1.0;stroke-linecap:round;stroke-width:2;fill:none\"><path d=\"M 134.8 209.4 L 134.8 218.3 L 218.7 218.3\" id=\"10,0\" style=\"\"></path><path d=\"M 134.8 209.4 L 134.8 200.4 L 218.7 200.4\" id=\"10,1\" style=\"\"></path><path d=\"M 134.8 168.9 L 134.8 182.4 L 218.7 182.4\" id=\"12,2\" style=\"\"></path><path d=\"M 176.7 155.5 L 176.7 164.4 L 218.7 164.4\" id=\"11,3\" style=\"\"></path><path d=\"M 176.7 155.5 L 176.7 146.5 L 218.7 146.5\" id=\"11,4\" style=\"\"></path><path d=\"M 134.8 119.5 L 134.8 128.5 L 218.7 128.5\" id=\"14,5\" style=\"\"></path><path d=\"M 134.8 119.5 L 134.8 110.6 L 218.7 110.6\" id=\"14,6\" style=\"\"></path><path d=\"M 134.8 79.1 L 134.8 92.6 L 218.7 92.6\" id=\"16,7\" style=\"\"></path><path d=\"M 176.7 65.6 L 176.7 74.6 L 218.7 74.6\" id=\"15,8\" style=\"\"></path><path d=\"M 176.7 65.6 L 176.7 56.7 L 218.7 56.7\" id=\"15,9\" style=\"\"></path><path d=\"M 92.8 189.2 L 92.8 209.4 L 134.8 209.4\" id=\"13,10\" style=\"\"></path><path d=\"M 134.8 168.9 L 134.8 155.5 L 176.7 155.5\" id=\"12,11\" style=\"\"></path><path d=\"M 92.8 189.2 L 92.8 168.9 L 134.8 168.9\" id=\"13,12\" style=\"\"></path><path d=\"M 50.8 144.2 L 50.8 189.2 L 92.8 189.2\" id=\"18,13\" style=\"\"></path><path d=\"M 92.8 99.3 L 92.8 119.5 L 134.8 119.5\" id=\"17,14\" style=\"\"></path><path d=\"M 134.8 79.1 L 134.8 65.6 L 176.7 65.6\" id=\"16,15\" style=\"\"></path><path d=\"M 92.8 99.3 L 92.8 79.1 L 134.8 79.1\" id=\"17,16\" style=\"\"></path><path d=\"M 50.8 144.2 L 50.8 99.3 L 92.8 99.3\" id=\"18,17\" style=\"\"></path></g><g class=\"toytree-AdmixEdges\" style=\"fill:rgb(0.0%,0.0%,0.0%);fill-opacity:0.0;stroke:rgb(90.6%,54.1%,76.5%);stroke-opacity:0.6;font-size:14px;stroke-linecap:round;stroke-width:5\"></g><g class=\"toytree-Nodes\" style=\"fill:rgb(40.0%,76.1%,64.7%);fill-opacity:1.0;stroke:none;stroke-width:1.5\"></g><g class=\"toytree-TipLabels\" style=\"fill:rgb(90.6%,54.1%,76.5%);fill-opacity:1.0;font-family:Helvetica;font-size:12px;font-weight:300;vertical-align:baseline;white-space:pre;stroke:none\"><g class=\"toytree-TipLabel\" transform=\"translate(218.669,218.347)\"><text x=\"8.0\" y=\"3.066\" style=\"fill:rgb(90.6%,54.1%,76.5%);fill-opacity:1.0\">r0</text></g><g class=\"toytree-TipLabel\" transform=\"translate(218.669,200.381)\"><text x=\"8.0\" y=\"3.066\" style=\"fill:rgb(90.6%,54.1%,76.5%);fill-opacity:1.0\">r1</text></g><g class=\"toytree-TipLabel\" transform=\"translate(218.669,182.415)\"><text x=\"8.0\" y=\"3.066\" style=\"fill:rgb(90.6%,54.1%,76.5%);fill-opacity:1.0\">r2</text></g><g class=\"toytree-TipLabel\" transform=\"translate(218.669,164.449)\"><text x=\"8.0\" y=\"3.066\" style=\"fill:rgb(90.6%,54.1%,76.5%);fill-opacity:1.0\">r3</text></g><g class=\"toytree-TipLabel\" transform=\"translate(218.669,146.483)\"><text x=\"8.0\" y=\"3.066\" style=\"fill:rgb(90.6%,54.1%,76.5%);fill-opacity:1.0\">r4</text></g><g class=\"toytree-TipLabel\" transform=\"translate(218.669,128.517)\"><text x=\"8.0\" y=\"3.066\" style=\"fill:rgb(90.6%,54.1%,76.5%);fill-opacity:1.0\">r5</text></g><g class=\"toytree-TipLabel\" transform=\"translate(218.669,110.551)\"><text x=\"8.0\" y=\"3.066\" style=\"fill:rgb(90.6%,54.1%,76.5%);fill-opacity:1.0\">r6</text></g><g class=\"toytree-TipLabel\" transform=\"translate(218.669,92.5848)\"><text x=\"8.0\" y=\"3.066\" style=\"fill:rgb(90.6%,54.1%,76.5%);fill-opacity:1.0\">r7</text></g><g class=\"toytree-TipLabel\" transform=\"translate(218.669,74.6187)\"><text x=\"8.0\" y=\"3.066\" style=\"fill:rgb(90.6%,54.1%,76.5%);fill-opacity:1.0\">r8</text></g><g class=\"toytree-TipLabel\" transform=\"translate(218.669,56.6526)\"><text x=\"8.0\" y=\"3.066\" style=\"fill:rgb(90.6%,54.1%,76.5%);fill-opacity:1.0\">r9</text></g></g></g></g></g></svg><div class=\"toyplot-behavior\"><script>(function()\n",
       "{\n",
       "var modules={};\n",
       "})();</script></div></div>"
      ]
     },
     "metadata": {},
     "output_type": "display_data"
    }
   ],
   "source": [
    "tree.draw(tree_style='d');  # dark-style"
   ]
  },
  {
   "cell_type": "code",
   "execution_count": 9,
   "metadata": {
    "scrolled": true
   },
   "outputs": [
    {
     "data": {
      "text/html": [
       "<div class=\"toyplot\" id=\"t3d03d23dd52740bfa12777a637d5d487\" style=\"text-align:center\"><svg class=\"toyplot-canvas-Canvas\" xmlns:toyplot=\"http://www.sandia.gov/toyplot\" xmlns:xlink=\"http://www.w3.org/1999/xlink\" xmlns=\"http://www.w3.org/2000/svg\" width=\"300.0px\" height=\"275.0px\" viewBox=\"0 0 300.0 275.0\" preserveAspectRatio=\"xMidYMid meet\" style=\"background-color:transparent;border-color:#292724;border-style:none;border-width:1.0;fill:rgb(16.1%,15.3%,14.1%);fill-opacity:1.0;font-family:Helvetica;font-size:12px;opacity:1.0;stroke:rgb(16.1%,15.3%,14.1%);stroke-opacity:1.0;stroke-width:1.0\" id=\"td35c58b7da3743289e713c281143821c\"><g class=\"toyplot-coordinates-Cartesian\" id=\"t5160de5d6ac24056ba4b81e44f0fcd53\"><clipPath id=\"tec6310614c934a3e88f4f2ea5f86d3fa\"><rect x=\"35.0\" y=\"35.0\" width=\"230.0\" height=\"205.0\"></rect></clipPath><g clip-path=\"url(#tec6310614c934a3e88f4f2ea5f86d3fa)\"><g class=\"toytree-mark-Toytree\" id=\"t561f97ee0c61409d858b1ee6ac8e5b52\"><g class=\"toytree-Edges\" style=\"stroke:rgb(14.5%,14.5%,14.5%);stroke-opacity:1.0;stroke-linecap:round;stroke-width:2;fill:none\"><path d=\"M 132.2 209.4 L 210.0 218.3\" id=\"10,0\" style=\"\"></path><path d=\"M 132.2 209.4 L 210.0 200.4\" id=\"10,1\" style=\"\"></path><path d=\"M 132.2 168.9 L 210.0 182.4\" id=\"12,2\" style=\"\"></path><path d=\"M 171.1 155.5 L 210.0 164.4\" id=\"11,3\" style=\"\"></path><path d=\"M 171.1 155.5 L 210.0 146.5\" id=\"11,4\" style=\"\"></path><path d=\"M 132.2 119.5 L 210.0 128.5\" id=\"14,5\" style=\"\"></path><path d=\"M 132.2 119.5 L 210.0 110.6\" id=\"14,6\" style=\"\"></path><path d=\"M 132.2 79.1 L 210.0 92.6\" id=\"16,7\" style=\"\"></path><path d=\"M 171.1 65.6 L 210.0 74.6\" id=\"15,8\" style=\"\"></path><path d=\"M 171.1 65.6 L 210.0 56.7\" id=\"15,9\" style=\"\"></path><path d=\"M 93.2 189.2 L 132.2 209.4\" id=\"13,10\" style=\"\"></path><path d=\"M 132.2 168.9 L 171.1 155.5\" id=\"12,11\" style=\"\"></path><path d=\"M 93.2 189.2 L 132.2 168.9\" id=\"13,12\" style=\"\"></path><path d=\"M 54.3 144.2 L 93.2 189.2\" id=\"18,13\" style=\"\"></path><path d=\"M 93.2 99.3 L 132.2 119.5\" id=\"17,14\" style=\"\"></path><path d=\"M 132.2 79.1 L 171.1 65.6\" id=\"16,15\" style=\"\"></path><path d=\"M 93.2 99.3 L 132.2 79.1\" id=\"17,16\" style=\"\"></path><path d=\"M 54.3 144.2 L 93.2 99.3\" id=\"18,17\" style=\"\"></path></g><g class=\"toytree-AlignEdges\" style=\"stroke:rgb(66.0%,66.0%,66.0%);stroke-opacity:0.75;stroke-dasharray:2,4;stroke-linecap:round;stroke-width:2\"><path d=\"M 210.0 218.3 L 210.0 218.3\"></path><path d=\"M 210.0 200.4 L 210.0 200.4\"></path><path d=\"M 210.0 182.4 L 210.0 182.4\"></path><path d=\"M 210.0 164.4 L 210.0 164.4\"></path><path d=\"M 210.0 146.5 L 210.0 146.5\"></path><path d=\"M 210.0 128.5 L 210.0 128.5\"></path><path d=\"M 210.0 110.6 L 210.0 110.6\"></path><path d=\"M 210.0 92.6 L 210.0 92.6\"></path><path d=\"M 210.0 74.6 L 210.0 74.6\"></path><path d=\"M 210.0 56.7 L 210.0 56.7\"></path></g><g class=\"toytree-AdmixEdges\" style=\"fill:rgb(0.0%,0.0%,0.0%);fill-opacity:0.0;stroke:rgb(90.6%,54.1%,76.5%);stroke-opacity:0.6;font-size:14px;stroke-linecap:round;stroke-width:5\"></g><g class=\"toytree-Nodes\" style=\"fill:rgb(10.6%,62.0%,46.7%);fill-opacity:1.0;stroke:rgb(100.0%,100.0%,100.0%);stroke-opacity:1.0;stroke-width:1.5\"><g id=\"Node-10\" transform=\"translate(132.154,209.364)\"><circle r=\"4.0\"></circle></g><g id=\"Node-11\" transform=\"translate(171.089,155.466)\"><circle r=\"4.0\"></circle></g><g id=\"Node-12\" transform=\"translate(132.154,168.941)\"><circle r=\"4.0\"></circle></g><g id=\"Node-13\" transform=\"translate(93.2182,189.153)\"><circle r=\"4.0\"></circle></g><g id=\"Node-14\" transform=\"translate(132.154,119.534)\"><circle r=\"4.0\"></circle></g><g id=\"Node-15\" transform=\"translate(171.089,65.6356)\"><circle r=\"4.0\"></circle></g><g id=\"Node-16\" transform=\"translate(132.154,79.1102)\"><circle r=\"4.0\"></circle></g><g id=\"Node-17\" transform=\"translate(93.2182,99.3221)\"><circle r=\"4.0\"></circle></g><g id=\"Node-18\" transform=\"translate(54.2829,144.237)\"><circle r=\"4.0\"></circle></g></g><g class=\"toytree-TipLabels\" style=\"fill:rgb(14.5%,14.5%,14.5%);fill-opacity:1.0;font-family:Helvetica;font-size:12px;font-weight:300;vertical-align:baseline;white-space:pre;stroke:none\"><g class=\"toytree-TipLabel\" transform=\"translate(210.024,218.347)\"><text x=\"15.0\" y=\"3.066\" style=\"fill:rgb(14.5%,14.5%,14.5%);fill-opacity:1.0\">r0</text></g><g class=\"toytree-TipLabel\" transform=\"translate(210.024,200.381)\"><text x=\"15.0\" y=\"3.066\" style=\"fill:rgb(14.5%,14.5%,14.5%);fill-opacity:1.0\">r1</text></g><g class=\"toytree-TipLabel\" transform=\"translate(210.024,182.415)\"><text x=\"15.0\" y=\"3.066\" style=\"fill:rgb(14.5%,14.5%,14.5%);fill-opacity:1.0\">r2</text></g><g class=\"toytree-TipLabel\" transform=\"translate(210.024,164.449)\"><text x=\"15.0\" y=\"3.066\" style=\"fill:rgb(14.5%,14.5%,14.5%);fill-opacity:1.0\">r3</text></g><g class=\"toytree-TipLabel\" transform=\"translate(210.024,146.483)\"><text x=\"15.0\" y=\"3.066\" style=\"fill:rgb(14.5%,14.5%,14.5%);fill-opacity:1.0\">r4</text></g><g class=\"toytree-TipLabel\" transform=\"translate(210.024,128.517)\"><text x=\"15.0\" y=\"3.066\" style=\"fill:rgb(14.5%,14.5%,14.5%);fill-opacity:1.0\">r5</text></g><g class=\"toytree-TipLabel\" transform=\"translate(210.024,110.551)\"><text x=\"15.0\" y=\"3.066\" style=\"fill:rgb(14.5%,14.5%,14.5%);fill-opacity:1.0\">r6</text></g><g class=\"toytree-TipLabel\" transform=\"translate(210.024,92.5848)\"><text x=\"15.0\" y=\"3.066\" style=\"fill:rgb(14.5%,14.5%,14.5%);fill-opacity:1.0\">r7</text></g><g class=\"toytree-TipLabel\" transform=\"translate(210.024,74.6187)\"><text x=\"15.0\" y=\"3.066\" style=\"fill:rgb(14.5%,14.5%,14.5%);fill-opacity:1.0\">r8</text></g><g class=\"toytree-TipLabel\" transform=\"translate(210.024,56.6526)\"><text x=\"15.0\" y=\"3.066\" style=\"fill:rgb(14.5%,14.5%,14.5%);fill-opacity:1.0\">r9</text></g></g></g></g></g></svg><div class=\"toyplot-behavior\"><script>(function()\n",
       "{\n",
       "var modules={};\n",
       "})();</script></div></div>"
      ]
     },
     "metadata": {},
     "output_type": "display_data"
    }
   ],
   "source": [
    "tree.draw(tree_style='o');  # umlaut-style"
   ]
  },
  {
   "cell_type": "markdown",
   "metadata": {},
   "source": [
    "You can think of setting a `tree_style` as changing the baseline style on top of which additional drawing arguments can still be added. For example, here we select the \"dark\" tree style, which changes the default edge and tip colors, and on top of this we can still specify a change to the layout, node marker type, node size, and/or other drawing options."
   ]
  },
  {
   "cell_type": "code",
   "execution_count": 11,
   "metadata": {},
   "outputs": [
    {
     "data": {
      "text/html": [
       "<div class=\"toyplot\" id=\"t31b3ab9009734e7998c02ac1bb7103dc\" style=\"text-align:center\"><svg class=\"toyplot-canvas-Canvas\" xmlns:toyplot=\"http://www.sandia.gov/toyplot\" xmlns:xlink=\"http://www.w3.org/1999/xlink\" xmlns=\"http://www.w3.org/2000/svg\" width=\"300.0px\" height=\"250.0px\" viewBox=\"0 0 300.0 250.0\" preserveAspectRatio=\"xMidYMid meet\" style=\"background-color:transparent;border-color:#292724;border-style:none;border-width:1.0;fill:rgb(16.1%,15.3%,14.1%);fill-opacity:1.0;font-family:Helvetica;font-size:12px;opacity:1.0;stroke:rgb(16.1%,15.3%,14.1%);stroke-opacity:1.0;stroke-width:1.0\" id=\"tdfe0548a25af4d108e7342292d990fd7\"><g class=\"toyplot-coordinates-Cartesian\" id=\"tbae6d9335d7a4477a47bef7ede8f541e\"><clipPath id=\"t02f67e6e532e4bf48555817106bf09e7\"><rect x=\"35.0\" y=\"35.0\" width=\"230.0\" height=\"180.0\"></rect></clipPath><g clip-path=\"url(#t02f67e6e532e4bf48555817106bf09e7)\"><g class=\"toytree-mark-Toytree\" id=\"t14c10b5daee948feae218bb6b03615ee\"><g class=\"toytree-Edges\" style=\"stroke:rgb(40.0%,76.1%,64.7%);stroke-opacity:1.0;stroke-linecap:round;stroke-width:2;fill:none\"><path d=\"M 67.1 112.6 L 56.7 112.6 L 56.7 171.0\" id=\"10,0\" style=\"\"></path><path d=\"M 67.1 112.6 L 77.4 112.6 L 77.4 171.0\" id=\"10,1\" style=\"\"></path><path d=\"M 113.7 112.6 L 98.2 112.6 L 98.2 171.0\" id=\"12,2\" style=\"\"></path><path d=\"M 129.3 141.8 L 118.9 141.8 L 118.9 171.0\" id=\"11,3\" style=\"\"></path><path d=\"M 129.3 141.8 L 139.6 141.8 L 139.6 171.0\" id=\"11,4\" style=\"\"></path><path d=\"M 170.7 112.6 L 160.4 112.6 L 160.4 171.0\" id=\"14,5\" style=\"\"></path><path d=\"M 170.7 112.6 L 181.1 112.6 L 181.1 171.0\" id=\"14,6\" style=\"\"></path><path d=\"M 217.4 112.6 L 201.8 112.6 L 201.8 171.0\" id=\"16,7\" style=\"\"></path><path d=\"M 232.9 141.8 L 222.6 141.8 L 222.6 171.0\" id=\"15,8\" style=\"\"></path><path d=\"M 232.9 141.8 L 243.3 141.8 L 243.3 171.0\" id=\"15,9\" style=\"\"></path><path d=\"M 90.4 83.4 L 67.1 83.4 L 67.1 112.6\" id=\"13,10\" style=\"\"></path><path d=\"M 113.7 112.6 L 129.3 112.6 L 129.3 141.8\" id=\"12,11\" style=\"\"></path><path d=\"M 90.4 83.4 L 113.7 83.4 L 113.7 112.6\" id=\"13,12\" style=\"\"></path><path d=\"M 142.2 54.3 L 90.4 54.3 L 90.4 83.4\" id=\"18,13\" style=\"\"></path><path d=\"M 194.1 83.4 L 170.7 83.4 L 170.7 112.6\" id=\"17,14\" style=\"\"></path><path d=\"M 217.4 112.6 L 232.9 112.6 L 232.9 141.8\" id=\"16,15\" style=\"\"></path><path d=\"M 194.1 83.4 L 217.4 83.4 L 217.4 112.6\" id=\"17,16\" style=\"\"></path><path d=\"M 142.2 54.3 L 194.1 54.3 L 194.1 83.4\" id=\"18,17\" style=\"\"></path></g><g class=\"toytree-AdmixEdges\" style=\"fill:rgb(0.0%,0.0%,0.0%);fill-opacity:0.0;stroke:rgb(90.6%,54.1%,76.5%);stroke-opacity:0.6;font-size:14px;stroke-linecap:round;stroke-width:5\"></g><g class=\"toytree-Nodes\" style=\"fill:rgb(40.0%,76.1%,64.7%);fill-opacity:1.0;stroke:none;stroke-width:1.5\"><g id=\"Node-10\" transform=\"translate(67.0813,112.618)\"><rect x=\"-4.0\" y=\"-4.0\" width=\"8\" height=\"8\"></rect></g><g id=\"Node-11\" transform=\"translate(129.27,141.788)\"><rect x=\"-4.0\" y=\"-4.0\" width=\"8\" height=\"8\"></rect></g><g id=\"Node-12\" transform=\"translate(113.723,112.618)\"><rect x=\"-4.0\" y=\"-4.0\" width=\"8\" height=\"8\"></rect></g><g id=\"Node-13\" transform=\"translate(90.4022,83.4481)\"><rect x=\"-4.0\" y=\"-4.0\" width=\"8\" height=\"8\"></rect></g><g id=\"Node-14\" transform=\"translate(170.73,112.618)\"><rect x=\"-4.0\" y=\"-4.0\" width=\"8\" height=\"8\"></rect></g><g id=\"Node-15\" transform=\"translate(232.919,141.788)\"><rect x=\"-4.0\" y=\"-4.0\" width=\"8\" height=\"8\"></rect></g><g id=\"Node-16\" transform=\"translate(217.371,112.618)\"><rect x=\"-4.0\" y=\"-4.0\" width=\"8\" height=\"8\"></rect></g><g id=\"Node-17\" transform=\"translate(194.051,83.4481)\"><rect x=\"-4.0\" y=\"-4.0\" width=\"8\" height=\"8\"></rect></g><g id=\"Node-18\" transform=\"translate(142.226,54.2782)\"><rect x=\"-4.0\" y=\"-4.0\" width=\"8\" height=\"8\"></rect></g></g><g class=\"toytree-TipLabels\" style=\"fill:rgb(90.6%,54.1%,76.5%);fill-opacity:1.0;font-family:Helvetica;font-size:12px;font-weight:300;vertical-align:baseline;white-space:pre;stroke:none\"><g class=\"toytree-TipLabel\" transform=\"translate(56.7164,170.958)rotate(90)\"><text x=\"8.0\" y=\"3.066\" style=\"fill:rgb(90.6%,54.1%,76.5%);fill-opacity:1.0\">r0</text></g><g class=\"toytree-TipLabel\" transform=\"translate(77.4461,170.958)rotate(90)\"><text x=\"8.0\" y=\"3.066\" style=\"fill:rgb(90.6%,54.1%,76.5%);fill-opacity:1.0\">r1</text></g><g class=\"toytree-TipLabel\" transform=\"translate(98.1758,170.958)rotate(90)\"><text x=\"8.0\" y=\"3.066\" style=\"fill:rgb(90.6%,54.1%,76.5%);fill-opacity:1.0\">r2</text></g><g class=\"toytree-TipLabel\" transform=\"translate(118.905,170.958)rotate(90)\"><text x=\"8.0\" y=\"3.066\" style=\"fill:rgb(90.6%,54.1%,76.5%);fill-opacity:1.0\">r3</text></g><g class=\"toytree-TipLabel\" transform=\"translate(139.635,170.958)rotate(90)\"><text x=\"8.0\" y=\"3.066\" style=\"fill:rgb(90.6%,54.1%,76.5%);fill-opacity:1.0\">r4</text></g><g class=\"toytree-TipLabel\" transform=\"translate(160.365,170.958)rotate(90)\"><text x=\"8.0\" y=\"3.066\" style=\"fill:rgb(90.6%,54.1%,76.5%);fill-opacity:1.0\">r5</text></g><g class=\"toytree-TipLabel\" transform=\"translate(181.095,170.958)rotate(90)\"><text x=\"8.0\" y=\"3.066\" style=\"fill:rgb(90.6%,54.1%,76.5%);fill-opacity:1.0\">r6</text></g><g class=\"toytree-TipLabel\" transform=\"translate(201.824,170.958)rotate(90)\"><text x=\"8.0\" y=\"3.066\" style=\"fill:rgb(90.6%,54.1%,76.5%);fill-opacity:1.0\">r7</text></g><g class=\"toytree-TipLabel\" transform=\"translate(222.554,170.958)rotate(90)\"><text x=\"8.0\" y=\"3.066\" style=\"fill:rgb(90.6%,54.1%,76.5%);fill-opacity:1.0\">r8</text></g><g class=\"toytree-TipLabel\" transform=\"translate(243.284,170.958)rotate(90)\"><text x=\"8.0\" y=\"3.066\" style=\"fill:rgb(90.6%,54.1%,76.5%);fill-opacity:1.0\">r9</text></g></g></g></g></g></svg><div class=\"toyplot-behavior\"><script>(function()\n",
       "{\n",
       "var modules={};\n",
       "})();</script></div></div>"
      ]
     },
     "metadata": {},
     "output_type": "display_data"
    }
   ],
   "source": [
    "# tree_style is a baseline on top of which additional styles can be added\n",
    "tree.draw(tree_style='d', layout='d', node_markers=\"s\", node_sizes=8, height=250);"
   ]
  },
  {
   "attachments": {},
   "cell_type": "markdown",
   "metadata": {},
   "source": [
    "### Viewing tree style defaults\n",
    "\n",
    "In order to see the base settings for a particular builtin tree style, you can import and view an object like below."
   ]
  },
  {
   "cell_type": "code",
   "execution_count": 36,
   "metadata": {},
   "outputs": [
    {
     "data": {
      "text/plain": [
       "{\n",
       "tree_style: None,\n",
       "height: None,\n",
       "width: None,\n",
       "layout: 'r',\n",
       "edge_type: 'p',\n",
       "edge_colors: None,\n",
       "edge_widths: None,\n",
       "node_mask: None,\n",
       "node_colors: None,\n",
       "node_sizes: 0.0,\n",
       "node_markers: 'o',\n",
       "node_hover: None,\n",
       "node_labels: False,\n",
       "node_as_edge_data: False,\n",
       "tip_labels: True,\n",
       "tip_labels_colors: None,\n",
       "tip_labels_angles: None,\n",
       "tip_labels_align: None,\n",
       "edge_style: {\n",
       "    stroke: (0.145, 0.145, 0.145, 1.0),\n",
       "    stroke_width: 2.0,\n",
       "    stroke_opacity: None,\n",
       "    stroke_linecap: 'round',\n",
       "    stroke_dasharray: None,\n",
       "},\n",
       "node_style: {\n",
       "    fill: 'white',\n",
       "    fill_opacity: None,\n",
       "    stroke: None,\n",
       "    stroke_width: 1.5,\n",
       "    stroke_opacity: None,\n",
       "},\n",
       "node_labels_style: {\n",
       "    fill: (0.145, 0.145, 0.145, 1.0),\n",
       "    fill_opacity: 1.0,\n",
       "    font_size: 9,\n",
       "    font_weight: 300,\n",
       "    font_family: 'Helvetica',\n",
       "    anchor_shift: 0,\n",
       "    baseline_shift: 0,\n",
       "    text_anchor: 'middle',\n",
       "},\n",
       "tip_labels_style: {\n",
       "    fill: (0.145, 0.145, 0.145, 1.0),\n",
       "    fill_opacity: None,\n",
       "    font_size: 12,\n",
       "    font_weight: 300,\n",
       "    font_family: 'Helvetica',\n",
       "    anchor_shift: 15,\n",
       "    baseline_shift: 0,\n",
       "    text_anchor: 'start',\n",
       "},\n",
       "edge_align_style: {\n",
       "    stroke: (0.66, 0.66, 0.66, 1),\n",
       "    stroke_width: 2,\n",
       "    stroke_opacity: 0.75,\n",
       "    stroke_linecap: 'round',\n",
       "    stroke_dasharray: '2,4',\n",
       "},\n",
       "use_edge_lengths: True,\n",
       "scale_bar: False,\n",
       "padding: 15.0,\n",
       "xbaseline: 0.0,\n",
       "ybaseline: 0.0,\n",
       "shrink: 0.0,\n",
       "admixture_edges: None,\n",
       "}"
      ]
     },
     "execution_count": 36,
     "metadata": {},
     "output_type": "execute_result"
    }
   ],
   "source": [
    "from toytree.style.src.style_types import TreeStyleU\n",
    "TreeStyleU()"
   ]
  }
 ],
 "metadata": {
  "kernelspec": {
   "display_name": "Python 3 (ipykernel)",
   "language": "python",
   "name": "python3"
  },
  "language_info": {
   "codemirror_mode": {
    "name": "ipython",
    "version": 3
   },
   "file_extension": ".py",
   "mimetype": "text/x-python",
   "name": "python",
   "nbconvert_exporter": "python",
   "pygments_lexer": "ipython3",
   "version": "3.12.4"
  }
 },
 "nbformat": 4,
 "nbformat_minor": 4
}
