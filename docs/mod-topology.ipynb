{
 "cells": [
  {
   "cell_type": "markdown",
   "metadata": {},
   "source": [
    "# Topology changes  \n",
    "\n",
    "These methods are intended to provide the user with the ability to modify a `ToyTree` object pragmatically and efficiently without the need to directly modify `TreeNode` objects. While manual editing of TreeNodes is possible, it is not reccommended due to the danger of creating a `ToyTree` with invalid coordinate structure. These functions ensure that the `ToyTree` objects remain intact after topology changes such that when used in combination, trees can be safely modified to fit the structure required for any vizualization or algorithmic analysis while remaining compatible with the rest of the `Toytree` package's methods.  \n",
    "\n",
    "The foundation of topology modification consists of adding, removing, or changing the relationships among TreeNodes. There also exists methods to work on the subtree level to make separation particularly efficient, as well as methods to generally restructure trees for informative visual clarity.\n",
    "\n",
    "These methods are organized into three categories:  \n",
    "\n",
    "1. `Node-level modification` \n",
    "2. `Subtree-level modification`\n",
    "3. `Tree-level modification`"
   ]
  },
  {
   "cell_type": "markdown",
   "metadata": {},
   "source": [
    "## Node-level modification"
   ]
  },
  {
   "cell_type": "markdown",
   "metadata": {},
   "source": [
    "### Adding nodes  \n",
    "\n",
    "The `mod` subpackage includes many methods to add nodes to a `ToyTree` object. A `Node`can be added as an internal node, child node, or sister node. You can also add nodes as a parent-child pair or as entire subtrees to be merged into a `ToyTree` object. \n",
    "\n",
    "\n",
    "`add_internal_node` introduces a new `Node` object to the tree by splitting the edge above a queried Node. It creates a new unary Node along this edge, with a name passed in as an argument `name=`.\n"
   ]
  },
  {
   "cell_type": "code",
   "execution_count": 129,
   "metadata": {},
   "outputs": [
    {
     "data": {
      "text/html": [
       "<div class=\"toyplot\" id=\"t63543cf93ee84beab815220d476d89ec\" style=\"text-align:center\"><svg class=\"toyplot-canvas-Canvas\" xmlns:toyplot=\"http://www.sandia.gov/toyplot\" xmlns:xlink=\"http://www.w3.org/1999/xlink\" xmlns=\"http://www.w3.org/2000/svg\" width=\"300.0px\" height=\"275.0px\" viewBox=\"0 0 300.0 275.0\" preserveAspectRatio=\"xMidYMid meet\" style=\"background-color:transparent;border-color:#292724;border-style:none;border-width:1.0;fill:rgb(16.1%,15.3%,14.1%);fill-opacity:1.0;font-family:Helvetica;font-size:12px;opacity:1.0;stroke:rgb(16.1%,15.3%,14.1%);stroke-opacity:1.0;stroke-width:1.0\" id=\"t3e5abd5609a140bb9d168d2479657864\"><g class=\"toyplot-coordinates-Cartesian\" id=\"t0da2b90bfeb64d9688160d8efbce91cd\"><clipPath id=\"t81fb6e084ab04bfa8ce5bb9051a4cb00\"><rect x=\"35.0\" y=\"35.0\" width=\"230.0\" height=\"205.0\"></rect></clipPath><g clip-path=\"url(#t81fb6e084ab04bfa8ce5bb9051a4cb00)\"><g class=\"toytree-mark-Toytree\" id=\"tea7fe3a25af640e98d0eda9f520a85dc\"><g class=\"toytree-Edges\" style=\"stroke:rgb(14.5%,14.5%,14.5%);stroke-opacity:1.0;stroke-linecap:round;stroke-width:2.0;fill:none\"><path d=\"M 57.4 157.2 L 57.4 216.4 L 135.7 216.4\" id=\"4,0\" style=\"\"></path><path d=\"M 135.7 98.0 L 135.7 137.5 L 214.0 137.5\" id=\"3,1\" style=\"\"></path><path d=\"M 135.7 98.0 L 135.7 58.6 L 214.0 58.6\" id=\"3,2\" style=\"\"></path><path d=\"M 57.4 157.2 L 57.4 98.0 L 135.7 98.0\" id=\"4,3\" style=\"\"></path></g><g class=\"toytree-AdmixEdges\" style=\"fill:rgb(0.0%,0.0%,0.0%);fill-opacity:0.0;stroke:rgb(90.6%,54.1%,76.5%);stroke-opacity:0.6;font-size:14px;stroke-linecap:round;stroke-width:5\"></g><g class=\"toytree-Nodes\" style=\"fill:rgb(0.0%,0.0%,0.0%);fill-opacity:1.0;stroke:rgb(14.9%,14.9%,14.9%);stroke-opacity:1.0;stroke-width:1.5\"><g id=\"Node-0\" transform=\"translate(135.712,216.43)\"><rect x=\"-8.0\" y=\"-8.0\" width=\"16\" height=\"16\"></rect></g><g id=\"Node-1\" transform=\"translate(213.987,137.5)\"><rect x=\"-8.0\" y=\"-8.0\" width=\"16\" height=\"16\"></rect></g><g id=\"Node-2\" transform=\"translate(213.987,58.5696)\"><rect x=\"-8.0\" y=\"-8.0\" width=\"16\" height=\"16\"></rect></g><g id=\"Node-3\" transform=\"translate(135.712,98.0348)\"><rect x=\"-8.0\" y=\"-8.0\" width=\"16\" height=\"16\"></rect></g><g id=\"Node-4\" transform=\"translate(57.4362,157.233)\"><rect x=\"-8.0\" y=\"-8.0\" width=\"16\" height=\"16\"></rect></g></g><g class=\"toytree-NodeLabels\" style=\"font-family:Helvetica;font-size:9px;font-weight:300;vertical-align:baseline;white-space:pre;stroke:none\"><g class=\"toytree-NodeLabel\" transform=\"translate(135.712,216.43)\"><text x=\"-3.0015\" y=\"2.2995\" style=\"fill:rgb(100.0%,100.0%,100.0%);fill-opacity:1.0\">B</text></g><g class=\"toytree-NodeLabel\" transform=\"translate(213.987,137.5)\"><text x=\"-3.0015\" y=\"2.2995\" style=\"fill:rgb(100.0%,100.0%,100.0%);fill-opacity:1.0\">A</text></g><g class=\"toytree-NodeLabel\" transform=\"translate(213.987,58.5696)\"><text x=\"-3.0015\" y=\"2.2995\" style=\"fill:rgb(100.0%,100.0%,100.0%);fill-opacity:1.0\">X</text></g><g class=\"toytree-NodeLabel\" transform=\"translate(135.712,98.0348)\"><text x=\"-6.003\" y=\"2.2995\" style=\"fill:rgb(100.0%,100.0%,100.0%);fill-opacity:1.0\">AX</text></g><g class=\"toytree-NodeLabel\" transform=\"translate(57.4362,157.233)\"><text x=\"-6.003\" y=\"2.2995\" style=\"fill:rgb(100.0%,100.0%,100.0%);fill-opacity:1.0\">AB</text></g></g><g class=\"toytree-TipLabels\" style=\"fill:rgb(14.5%,14.5%,14.5%);fill-opacity:1.0;font-family:Helvetica;font-size:12px;font-weight:300;vertical-align:baseline;white-space:pre;stroke:none\"><g class=\"toytree-TipLabel\" transform=\"translate(135.712,216.43)\"><text x=\"15.0\" y=\"3.066\" style=\"fill:rgb(14.5%,14.5%,14.5%);fill-opacity:1.0\">B</text></g><g class=\"toytree-TipLabel\" transform=\"translate(213.987,137.5)\"><text x=\"15.0\" y=\"3.066\" style=\"fill:rgb(14.5%,14.5%,14.5%);fill-opacity:1.0\">A</text></g><g class=\"toytree-TipLabel\" transform=\"translate(213.987,58.5696)\"><text x=\"15.0\" y=\"3.066\" style=\"fill:rgb(14.5%,14.5%,14.5%);fill-opacity:1.0\">X</text></g></g></g></g></g></svg><div class=\"toyplot-behavior\"><script>(function()\n",
       "{\n",
       "var modules={};\n",
       "})();</script></div></div>"
      ]
     },
     "metadata": {},
     "output_type": "display_data"
    },
    {
     "data": {
      "text/html": [
       "<div class=\"toyplot\" id=\"te397bf55770e4fda84d5bca71e034624\" style=\"text-align:center\"><svg class=\"toyplot-canvas-Canvas\" xmlns:toyplot=\"http://www.sandia.gov/toyplot\" xmlns:xlink=\"http://www.w3.org/1999/xlink\" xmlns=\"http://www.w3.org/2000/svg\" width=\"300.0px\" height=\"275.0px\" viewBox=\"0 0 300.0 275.0\" preserveAspectRatio=\"xMidYMid meet\" style=\"background-color:transparent;border-color:#292724;border-style:none;border-width:1.0;fill:rgb(16.1%,15.3%,14.1%);fill-opacity:1.0;font-family:Helvetica;font-size:12px;opacity:1.0;stroke:rgb(16.1%,15.3%,14.1%);stroke-opacity:1.0;stroke-width:1.0\" id=\"td369ef7f6683457886e8437ee12e971b\"><g class=\"toyplot-coordinates-Cartesian\" id=\"t57b444810bdf45f1a2c44df49fad46ca\"><clipPath id=\"te347087a74524e8ab4cadb51785bfe86\"><rect x=\"35.0\" y=\"35.0\" width=\"230.0\" height=\"205.0\"></rect></clipPath><g clip-path=\"url(#te347087a74524e8ab4cadb51785bfe86)\"><g class=\"toytree-mark-Toytree\" id=\"t115e63a340de4976afca34804bed01ea\"><g class=\"toytree-Edges\" style=\"stroke:rgb(14.5%,14.5%,14.5%);stroke-opacity:1.0;stroke-linecap:round;stroke-width:2.0;fill:none\"><path d=\"M 57.4 157.2 L 57.4 216.4 L 135.7 216.4\" id=\"5,0\" style=\"\"></path><path d=\"M 135.7 98.0 L 135.7 137.5 L 214.0 137.5\" id=\"4,1\" style=\"\"></path><path d=\"M 174.8 58.6 L 174.8 58.6 L 214.0 58.6\" id=\"3,2\" style=\"\"></path><path d=\"M 135.7 98.0 L 135.7 58.6 L 174.8 58.6\" id=\"4,3\" style=\"\"></path><path d=\"M 57.4 157.2 L 57.4 98.0 L 135.7 98.0\" id=\"5,4\" style=\"\"></path></g><g class=\"toytree-AdmixEdges\" style=\"fill:rgb(0.0%,0.0%,0.0%);fill-opacity:0.0;stroke:rgb(90.6%,54.1%,76.5%);stroke-opacity:0.6;font-size:14px;stroke-linecap:round;stroke-width:5\"></g><g class=\"toytree-Nodes\" style=\"fill:rgb(0.0%,0.0%,0.0%);fill-opacity:1.0;stroke:rgb(14.9%,14.9%,14.9%);stroke-opacity:1.0;stroke-width:1.5\"><g id=\"Node-0\" transform=\"translate(135.712,216.43)\"><rect x=\"-8.0\" y=\"-8.0\" width=\"16\" height=\"16\"></rect></g><g id=\"Node-1\" transform=\"translate(213.987,137.5)\"><rect x=\"-8.0\" y=\"-8.0\" width=\"16\" height=\"16\"></rect></g><g id=\"Node-2\" transform=\"translate(213.987,58.5696)\"><rect x=\"-8.0\" y=\"-8.0\" width=\"16\" height=\"16\"></rect></g><g id=\"Node-3\" transform=\"translate(174.849,58.5696)\"><rect x=\"-8.0\" y=\"-8.0\" width=\"16\" height=\"16\"></rect></g><g id=\"Node-4\" transform=\"translate(135.712,98.0348)\"><rect x=\"-8.0\" y=\"-8.0\" width=\"16\" height=\"16\"></rect></g><g id=\"Node-5\" transform=\"translate(57.4362,157.233)\"><rect x=\"-8.0\" y=\"-8.0\" width=\"16\" height=\"16\"></rect></g></g><g class=\"toytree-NodeLabels\" style=\"font-family:Helvetica;font-size:9px;font-weight:300;vertical-align:baseline;white-space:pre;stroke:none\"><g class=\"toytree-NodeLabel\" transform=\"translate(135.712,216.43)\"><text x=\"-3.0015\" y=\"2.2995\" style=\"fill:rgb(100.0%,100.0%,100.0%);fill-opacity:1.0\">B</text></g><g class=\"toytree-NodeLabel\" transform=\"translate(213.987,137.5)\"><text x=\"-3.0015\" y=\"2.2995\" style=\"fill:rgb(100.0%,100.0%,100.0%);fill-opacity:1.0\">X</text></g><g class=\"toytree-NodeLabel\" transform=\"translate(213.987,58.5696)\"><text x=\"-3.0015\" y=\"2.2995\" style=\"fill:rgb(100.0%,100.0%,100.0%);fill-opacity:1.0\">A</text></g><g class=\"toytree-NodeLabel\" transform=\"translate(174.849,58.5696)\"><text x=\"-3.249\" y=\"2.2995\" style=\"fill:rgb(100.0%,100.0%,100.0%);fill-opacity:1.0\">C</text></g><g class=\"toytree-NodeLabel\" transform=\"translate(135.712,98.0348)\"><text x=\"-6.003\" y=\"2.2995\" style=\"fill:rgb(100.0%,100.0%,100.0%);fill-opacity:1.0\">AX</text></g><g class=\"toytree-NodeLabel\" transform=\"translate(57.4362,157.233)\"><text x=\"-6.003\" y=\"2.2995\" style=\"fill:rgb(100.0%,100.0%,100.0%);fill-opacity:1.0\">AB</text></g></g><g class=\"toytree-TipLabels\" style=\"fill:rgb(14.5%,14.5%,14.5%);fill-opacity:1.0;font-family:Helvetica;font-size:12px;font-weight:300;vertical-align:baseline;white-space:pre;stroke:none\"><g class=\"toytree-TipLabel\" transform=\"translate(135.712,216.43)\"><text x=\"15.0\" y=\"3.066\" style=\"fill:rgb(14.5%,14.5%,14.5%);fill-opacity:1.0\">B</text></g><g class=\"toytree-TipLabel\" transform=\"translate(213.987,137.5)\"><text x=\"15.0\" y=\"3.066\" style=\"fill:rgb(14.5%,14.5%,14.5%);fill-opacity:1.0\">X</text></g><g class=\"toytree-TipLabel\" transform=\"translate(213.987,58.5696)\"><text x=\"15.0\" y=\"3.066\" style=\"fill:rgb(14.5%,14.5%,14.5%);fill-opacity:1.0\">A</text></g></g></g></g></g></svg><div class=\"toyplot-behavior\"><script>(function()\n",
       "{\n",
       "var modules={};\n",
       "})();</script></div></div>"
      ]
     },
     "metadata": {},
     "output_type": "display_data"
    }
   ],
   "source": [
    "import toytree\n",
    "#simple ToyTree object from newick string\n",
    "tree = toytree.tree(\"(B,(A,X)AX)AB;\")\n",
    "tree.draw(\n",
    "    node_mask = False,\n",
    "    node_sizes = 16,\n",
    "    node_markers = \"s\",\n",
    "    node_style= {\"fill\": \"black\"},\n",
    "    node_labels=\"name\",\n",
    "    node_labels_style= {\"fill\": \"white\"}\n",
    ");\n",
    "#add internal node named \"C\" ABOVE node \"A\"\n",
    "tree2 = tree.mod.add_internal_node(\"A\", name=\"C\", dist=None)\n",
    "tree2.draw(\n",
    "    node_mask = False,\n",
    "    node_sizes = 16,\n",
    "    node_markers = \"s\",\n",
    "    node_style= {\"fill\": \"black\"},\n",
    "    node_labels=\"name\",\n",
    "    node_labels_style= {\"fill\": \"white\"}\n",
    ");"
   ]
  },
  {
   "cell_type": "markdown",
   "metadata": {},
   "source": [
    "Here, the `dist=` argument determines how much of the original child-parent distance between the queried `Node` and its parent will belong to the new child-parent distance created with `add_internal_node()` (parent being the newly introduced `Node`). A double $0<x<1$ is passed in which represents the proportion of the original distance being transfered to the new distance. See below how the graph above changes as we manipulate the `dist=` argument."
   ]
  },
  {
   "cell_type": "code",
   "execution_count": 130,
   "metadata": {},
   "outputs": [
    {
     "data": {
      "text/html": [
       "<div class=\"toyplot\" id=\"t2b3b94263fff4ddc9a7f37afb11776eb\" style=\"text-align:center\"><svg class=\"toyplot-canvas-Canvas\" xmlns:toyplot=\"http://www.sandia.gov/toyplot\" xmlns:xlink=\"http://www.w3.org/1999/xlink\" xmlns=\"http://www.w3.org/2000/svg\" width=\"300.0px\" height=\"275.0px\" viewBox=\"0 0 300.0 275.0\" preserveAspectRatio=\"xMidYMid meet\" style=\"background-color:transparent;border-color:#292724;border-style:none;border-width:1.0;fill:rgb(16.1%,15.3%,14.1%);fill-opacity:1.0;font-family:Helvetica;font-size:12px;opacity:1.0;stroke:rgb(16.1%,15.3%,14.1%);stroke-opacity:1.0;stroke-width:1.0\" id=\"tef7f38bab5ff4c32a92dfddb53246cdd\"><g class=\"toyplot-coordinates-Cartesian\" id=\"t44d687868d524c3b97dfd14dcff51bda\"><clipPath id=\"ta40696c0412e443a85254fd72be21613\"><rect x=\"35.0\" y=\"35.0\" width=\"230.0\" height=\"205.0\"></rect></clipPath><g clip-path=\"url(#ta40696c0412e443a85254fd72be21613)\"><g class=\"toytree-mark-Toytree\" id=\"t04ba3d225a5d4c01bc080282a4304e48\"><g class=\"toytree-Edges\" style=\"stroke:rgb(14.5%,14.5%,14.5%);stroke-opacity:1.0;stroke-linecap:round;stroke-width:2.0;fill:none\"><path d=\"M 57.4 157.2 L 57.4 216.4 L 135.7 216.4\" id=\"5,0\" style=\"\"></path><path d=\"M 135.7 98.0 L 135.7 137.5 L 214.0 137.5\" id=\"4,1\" style=\"\"></path><path d=\"M 155.3 58.6 L 155.3 58.6 L 214.0 58.6\" id=\"3,2\" style=\"\"></path><path d=\"M 135.7 98.0 L 135.7 58.6 L 155.3 58.6\" id=\"4,3\" style=\"\"></path><path d=\"M 57.4 157.2 L 57.4 98.0 L 135.7 98.0\" id=\"5,4\" style=\"\"></path></g><g class=\"toytree-AdmixEdges\" style=\"fill:rgb(0.0%,0.0%,0.0%);fill-opacity:0.0;stroke:rgb(90.6%,54.1%,76.5%);stroke-opacity:0.6;font-size:14px;stroke-linecap:round;stroke-width:5\"></g><g class=\"toytree-Nodes\" style=\"fill:rgb(0.0%,0.0%,0.0%);fill-opacity:1.0;stroke:rgb(14.9%,14.9%,14.9%);stroke-opacity:1.0;stroke-width:1.5\"><g id=\"Node-0\" transform=\"translate(135.712,216.43)\"><rect x=\"-8.0\" y=\"-8.0\" width=\"16\" height=\"16\"></rect></g><g id=\"Node-1\" transform=\"translate(213.987,137.5)\"><rect x=\"-8.0\" y=\"-8.0\" width=\"16\" height=\"16\"></rect></g><g id=\"Node-2\" transform=\"translate(213.987,58.5696)\"><rect x=\"-8.0\" y=\"-8.0\" width=\"16\" height=\"16\"></rect></g><g id=\"Node-3\" transform=\"translate(155.28,58.5696)\"><rect x=\"-8.0\" y=\"-8.0\" width=\"16\" height=\"16\"></rect></g><g id=\"Node-4\" transform=\"translate(135.712,98.0348)\"><rect x=\"-8.0\" y=\"-8.0\" width=\"16\" height=\"16\"></rect></g><g id=\"Node-5\" transform=\"translate(57.4362,157.233)\"><rect x=\"-8.0\" y=\"-8.0\" width=\"16\" height=\"16\"></rect></g></g><g class=\"toytree-NodeLabels\" style=\"font-family:Helvetica;font-size:9px;font-weight:300;vertical-align:baseline;white-space:pre;stroke:none\"><g class=\"toytree-NodeLabel\" transform=\"translate(135.712,216.43)\"><text x=\"-3.0015\" y=\"2.2995\" style=\"fill:rgb(100.0%,100.0%,100.0%);fill-opacity:1.0\">B</text></g><g class=\"toytree-NodeLabel\" transform=\"translate(213.987,137.5)\"><text x=\"-3.0015\" y=\"2.2995\" style=\"fill:rgb(100.0%,100.0%,100.0%);fill-opacity:1.0\">X</text></g><g class=\"toytree-NodeLabel\" transform=\"translate(213.987,58.5696)\"><text x=\"-3.0015\" y=\"2.2995\" style=\"fill:rgb(100.0%,100.0%,100.0%);fill-opacity:1.0\">A</text></g><g class=\"toytree-NodeLabel\" transform=\"translate(155.28,58.5696)\"><text x=\"-3.249\" y=\"2.2995\" style=\"fill:rgb(100.0%,100.0%,100.0%);fill-opacity:1.0\">C</text></g><g class=\"toytree-NodeLabel\" transform=\"translate(135.712,98.0348)\"><text x=\"-6.003\" y=\"2.2995\" style=\"fill:rgb(100.0%,100.0%,100.0%);fill-opacity:1.0\">AX</text></g><g class=\"toytree-NodeLabel\" transform=\"translate(57.4362,157.233)\"><text x=\"-6.003\" y=\"2.2995\" style=\"fill:rgb(100.0%,100.0%,100.0%);fill-opacity:1.0\">AB</text></g></g><g class=\"toytree-TipLabels\" style=\"fill:rgb(14.5%,14.5%,14.5%);fill-opacity:1.0;font-family:Helvetica;font-size:12px;font-weight:300;vertical-align:baseline;white-space:pre;stroke:none\"><g class=\"toytree-TipLabel\" transform=\"translate(135.712,216.43)\"><text x=\"15.0\" y=\"3.066\" style=\"fill:rgb(14.5%,14.5%,14.5%);fill-opacity:1.0\">B</text></g><g class=\"toytree-TipLabel\" transform=\"translate(213.987,137.5)\"><text x=\"15.0\" y=\"3.066\" style=\"fill:rgb(14.5%,14.5%,14.5%);fill-opacity:1.0\">X</text></g><g class=\"toytree-TipLabel\" transform=\"translate(213.987,58.5696)\"><text x=\"15.0\" y=\"3.066\" style=\"fill:rgb(14.5%,14.5%,14.5%);fill-opacity:1.0\">A</text></g></g></g></g></g></svg><div class=\"toyplot-behavior\"><script>(function()\n",
       "{\n",
       "var modules={};\n",
       "})();</script></div></div>"
      ]
     },
     "metadata": {},
     "output_type": "display_data"
    },
    {
     "data": {
      "text/html": [
       "<div class=\"toyplot\" id=\"tf4b217dcba9c4381a651b1098befde46\" style=\"text-align:center\"><svg class=\"toyplot-canvas-Canvas\" xmlns:toyplot=\"http://www.sandia.gov/toyplot\" xmlns:xlink=\"http://www.w3.org/1999/xlink\" xmlns=\"http://www.w3.org/2000/svg\" width=\"300.0px\" height=\"275.0px\" viewBox=\"0 0 300.0 275.0\" preserveAspectRatio=\"xMidYMid meet\" style=\"background-color:transparent;border-color:#292724;border-style:none;border-width:1.0;fill:rgb(16.1%,15.3%,14.1%);fill-opacity:1.0;font-family:Helvetica;font-size:12px;opacity:1.0;stroke:rgb(16.1%,15.3%,14.1%);stroke-opacity:1.0;stroke-width:1.0\" id=\"t7afda97757c9428cadffaeb2bd0a9ca6\"><g class=\"toyplot-coordinates-Cartesian\" id=\"t972f0127c37844d2afc9827c65fc4a96\"><clipPath id=\"te9bc483545374decbd1b4f3e0df20c98\"><rect x=\"35.0\" y=\"35.0\" width=\"230.0\" height=\"205.0\"></rect></clipPath><g clip-path=\"url(#te9bc483545374decbd1b4f3e0df20c98)\"><g class=\"toytree-mark-Toytree\" id=\"ta1e5da255622485bbe420be8d65c74d1\"><g class=\"toytree-Edges\" style=\"stroke:rgb(14.5%,14.5%,14.5%);stroke-opacity:1.0;stroke-linecap:round;stroke-width:2.0;fill:none\"><path d=\"M 57.4 157.2 L 57.4 216.4 L 135.7 216.4\" id=\"5,0\" style=\"\"></path><path d=\"M 135.7 98.0 L 135.7 137.5 L 214.0 137.5\" id=\"4,1\" style=\"\"></path><path d=\"M 194.4 58.6 L 194.4 58.6 L 214.0 58.6\" id=\"3,2\" style=\"\"></path><path d=\"M 135.7 98.0 L 135.7 58.6 L 194.4 58.6\" id=\"4,3\" style=\"\"></path><path d=\"M 57.4 157.2 L 57.4 98.0 L 135.7 98.0\" id=\"5,4\" style=\"\"></path></g><g class=\"toytree-AdmixEdges\" style=\"fill:rgb(0.0%,0.0%,0.0%);fill-opacity:0.0;stroke:rgb(90.6%,54.1%,76.5%);stroke-opacity:0.6;font-size:14px;stroke-linecap:round;stroke-width:5\"></g><g class=\"toytree-Nodes\" style=\"fill:rgb(0.0%,0.0%,0.0%);fill-opacity:1.0;stroke:rgb(14.9%,14.9%,14.9%);stroke-opacity:1.0;stroke-width:1.5\"><g id=\"Node-0\" transform=\"translate(135.712,216.43)\"><rect x=\"-8.0\" y=\"-8.0\" width=\"16\" height=\"16\"></rect></g><g id=\"Node-1\" transform=\"translate(213.987,137.5)\"><rect x=\"-8.0\" y=\"-8.0\" width=\"16\" height=\"16\"></rect></g><g id=\"Node-2\" transform=\"translate(213.987,58.5696)\"><rect x=\"-8.0\" y=\"-8.0\" width=\"16\" height=\"16\"></rect></g><g id=\"Node-3\" transform=\"translate(194.418,58.5696)\"><rect x=\"-8.0\" y=\"-8.0\" width=\"16\" height=\"16\"></rect></g><g id=\"Node-4\" transform=\"translate(135.712,98.0348)\"><rect x=\"-8.0\" y=\"-8.0\" width=\"16\" height=\"16\"></rect></g><g id=\"Node-5\" transform=\"translate(57.4362,157.233)\"><rect x=\"-8.0\" y=\"-8.0\" width=\"16\" height=\"16\"></rect></g></g><g class=\"toytree-NodeLabels\" style=\"font-family:Helvetica;font-size:9px;font-weight:300;vertical-align:baseline;white-space:pre;stroke:none\"><g class=\"toytree-NodeLabel\" transform=\"translate(135.712,216.43)\"><text x=\"-3.0015\" y=\"2.2995\" style=\"fill:rgb(100.0%,100.0%,100.0%);fill-opacity:1.0\">B</text></g><g class=\"toytree-NodeLabel\" transform=\"translate(213.987,137.5)\"><text x=\"-3.0015\" y=\"2.2995\" style=\"fill:rgb(100.0%,100.0%,100.0%);fill-opacity:1.0\">X</text></g><g class=\"toytree-NodeLabel\" transform=\"translate(213.987,58.5696)\"><text x=\"-3.0015\" y=\"2.2995\" style=\"fill:rgb(100.0%,100.0%,100.0%);fill-opacity:1.0\">A</text></g><g class=\"toytree-NodeLabel\" transform=\"translate(194.418,58.5696)\"><text x=\"-3.249\" y=\"2.2995\" style=\"fill:rgb(100.0%,100.0%,100.0%);fill-opacity:1.0\">C</text></g><g class=\"toytree-NodeLabel\" transform=\"translate(135.712,98.0348)\"><text x=\"-6.003\" y=\"2.2995\" style=\"fill:rgb(100.0%,100.0%,100.0%);fill-opacity:1.0\">AX</text></g><g class=\"toytree-NodeLabel\" transform=\"translate(57.4362,157.233)\"><text x=\"-6.003\" y=\"2.2995\" style=\"fill:rgb(100.0%,100.0%,100.0%);fill-opacity:1.0\">AB</text></g></g><g class=\"toytree-TipLabels\" style=\"fill:rgb(14.5%,14.5%,14.5%);fill-opacity:1.0;font-family:Helvetica;font-size:12px;font-weight:300;vertical-align:baseline;white-space:pre;stroke:none\"><g class=\"toytree-TipLabel\" transform=\"translate(135.712,216.43)\"><text x=\"15.0\" y=\"3.066\" style=\"fill:rgb(14.5%,14.5%,14.5%);fill-opacity:1.0\">B</text></g><g class=\"toytree-TipLabel\" transform=\"translate(213.987,137.5)\"><text x=\"15.0\" y=\"3.066\" style=\"fill:rgb(14.5%,14.5%,14.5%);fill-opacity:1.0\">X</text></g><g class=\"toytree-TipLabel\" transform=\"translate(213.987,58.5696)\"><text x=\"15.0\" y=\"3.066\" style=\"fill:rgb(14.5%,14.5%,14.5%);fill-opacity:1.0\">A</text></g></g></g></g></g></svg><div class=\"toyplot-behavior\"><script>(function()\n",
       "{\n",
       "var modules={};\n",
       "})();</script></div></div>"
      ]
     },
     "metadata": {},
     "output_type": "display_data"
    }
   ],
   "source": [
    "#assign 75% of the original distance to the new tip-parent distance\n",
    "tree3 = tree.mod.add_internal_node(\"A\", name=\"C\", dist=0.75)\n",
    "#assign 25% of the original distance to the new tip-parent distance\n",
    "tree4 = tree.mod.add_internal_node(\"A\", name=\"C\", dist=0.25)\n",
    "\n",
    "tree3.draw(\n",
    "    node_mask = False,\n",
    "    node_sizes = 16,\n",
    "    node_markers = \"s\",\n",
    "    node_style= {\"fill\": \"black\"},\n",
    "    node_labels=\"name\",\n",
    "    node_labels_style= {\"fill\": \"white\"}\n",
    ");\n",
    "tree4.draw(\n",
    "    node_mask = False,\n",
    "    node_sizes = 16,\n",
    "    node_markers = \"s\",\n",
    "    node_style= {\"fill\": \"black\"},\n",
    "    node_labels=\"name\",\n",
    "    node_labels_style= {\"fill\": \"white\"}\n",
    ");"
   ]
  },
  {
   "cell_type": "markdown",
   "metadata": {},
   "source": [
    "\n",
    "`add_child_node`works similarly to, and is a great function to pair with `add_internal_node`. This inserts a `Node` as a `child` to a queried Node within a tree such that, for example, a newly inserted internal node would no longer be unary. This can also create a polyploidy if the function is called on a binary `Node`.\n"
   ]
  },
  {
   "cell_type": "code",
   "execution_count": 131,
   "metadata": {},
   "outputs": [
    {
     "data": {
      "text/html": [
       "<div class=\"toyplot\" id=\"t948e1dc524634fd99b5dea4e6384fec1\" style=\"text-align:center\"><svg class=\"toyplot-canvas-Canvas\" xmlns:toyplot=\"http://www.sandia.gov/toyplot\" xmlns:xlink=\"http://www.w3.org/1999/xlink\" xmlns=\"http://www.w3.org/2000/svg\" width=\"300.0px\" height=\"275.0px\" viewBox=\"0 0 300.0 275.0\" preserveAspectRatio=\"xMidYMid meet\" style=\"background-color:transparent;border-color:#292724;border-style:none;border-width:1.0;fill:rgb(16.1%,15.3%,14.1%);fill-opacity:1.0;font-family:Helvetica;font-size:12px;opacity:1.0;stroke:rgb(16.1%,15.3%,14.1%);stroke-opacity:1.0;stroke-width:1.0\" id=\"td0772e3f1f5a4ba2a6dabe9fcadf5ef6\"><g class=\"toyplot-coordinates-Cartesian\" id=\"t7fbbd746790a458a93f77dd6e2f6aad5\"><clipPath id=\"t2c4e4dabed2e4f91a5ebd5a441392131\"><rect x=\"35.0\" y=\"35.0\" width=\"230.0\" height=\"205.0\"></rect></clipPath><g clip-path=\"url(#t2c4e4dabed2e4f91a5ebd5a441392131)\"><g class=\"toytree-mark-Toytree\" id=\"tdc716fed406841f7baba909f55f8a45e\"><g class=\"toytree-Edges\" style=\"stroke:rgb(14.5%,14.5%,14.5%);stroke-opacity:1.0;stroke-linecap:round;stroke-width:2.0;fill:none\"><path d=\"M 57.4 157.2 L 57.4 216.4 L 135.7 216.4\" id=\"4,0\" style=\"\"></path><path d=\"M 135.7 98.0 L 135.7 137.5 L 214.0 137.5\" id=\"3,1\" style=\"\"></path><path d=\"M 135.7 98.0 L 135.7 58.6 L 214.0 58.6\" id=\"3,2\" style=\"\"></path><path d=\"M 57.4 157.2 L 57.4 98.0 L 135.7 98.0\" id=\"4,3\" style=\"\"></path></g><g class=\"toytree-AdmixEdges\" style=\"fill:rgb(0.0%,0.0%,0.0%);fill-opacity:0.0;stroke:rgb(90.6%,54.1%,76.5%);stroke-opacity:0.6;font-size:14px;stroke-linecap:round;stroke-width:5\"></g><g class=\"toytree-Nodes\" style=\"fill:rgb(0.0%,0.0%,0.0%);fill-opacity:1.0;stroke:rgb(14.9%,14.9%,14.9%);stroke-opacity:1.0;stroke-width:1.5\"><g id=\"Node-0\" transform=\"translate(135.712,216.43)\"><rect x=\"-8.0\" y=\"-8.0\" width=\"16\" height=\"16\"></rect></g><g id=\"Node-1\" transform=\"translate(213.987,137.5)\"><rect x=\"-8.0\" y=\"-8.0\" width=\"16\" height=\"16\"></rect></g><g id=\"Node-2\" transform=\"translate(213.987,58.5696)\"><rect x=\"-8.0\" y=\"-8.0\" width=\"16\" height=\"16\"></rect></g><g id=\"Node-3\" transform=\"translate(135.712,98.0348)\"><rect x=\"-8.0\" y=\"-8.0\" width=\"16\" height=\"16\"></rect></g><g id=\"Node-4\" transform=\"translate(57.4362,157.233)\"><rect x=\"-8.0\" y=\"-8.0\" width=\"16\" height=\"16\"></rect></g></g><g class=\"toytree-NodeLabels\" style=\"font-family:Helvetica;font-size:9px;font-weight:300;vertical-align:baseline;white-space:pre;stroke:none\"><g class=\"toytree-NodeLabel\" transform=\"translate(135.712,216.43)\"><text x=\"-3.0015\" y=\"2.2995\" style=\"fill:rgb(100.0%,100.0%,100.0%);fill-opacity:1.0\">B</text></g><g class=\"toytree-NodeLabel\" transform=\"translate(213.987,137.5)\"><text x=\"-3.0015\" y=\"2.2995\" style=\"fill:rgb(100.0%,100.0%,100.0%);fill-opacity:1.0\">A</text></g><g class=\"toytree-NodeLabel\" transform=\"translate(213.987,58.5696)\"><text x=\"-3.0015\" y=\"2.2995\" style=\"fill:rgb(100.0%,100.0%,100.0%);fill-opacity:1.0\">X</text></g><g class=\"toytree-NodeLabel\" transform=\"translate(135.712,98.0348)\"><text x=\"-6.003\" y=\"2.2995\" style=\"fill:rgb(100.0%,100.0%,100.0%);fill-opacity:1.0\">AX</text></g><g class=\"toytree-NodeLabel\" transform=\"translate(57.4362,157.233)\"><text x=\"-6.003\" y=\"2.2995\" style=\"fill:rgb(100.0%,100.0%,100.0%);fill-opacity:1.0\">AB</text></g></g><g class=\"toytree-TipLabels\" style=\"fill:rgb(14.5%,14.5%,14.5%);fill-opacity:1.0;font-family:Helvetica;font-size:12px;font-weight:300;vertical-align:baseline;white-space:pre;stroke:none\"><g class=\"toytree-TipLabel\" transform=\"translate(135.712,216.43)\"><text x=\"15.0\" y=\"3.066\" style=\"fill:rgb(14.5%,14.5%,14.5%);fill-opacity:1.0\">B</text></g><g class=\"toytree-TipLabel\" transform=\"translate(213.987,137.5)\"><text x=\"15.0\" y=\"3.066\" style=\"fill:rgb(14.5%,14.5%,14.5%);fill-opacity:1.0\">A</text></g><g class=\"toytree-TipLabel\" transform=\"translate(213.987,58.5696)\"><text x=\"15.0\" y=\"3.066\" style=\"fill:rgb(14.5%,14.5%,14.5%);fill-opacity:1.0\">X</text></g></g></g></g></g></svg><div class=\"toyplot-behavior\"><script>(function()\n",
       "{\n",
       "var modules={};\n",
       "})();</script></div></div>"
      ]
     },
     "metadata": {},
     "output_type": "display_data"
    },
    {
     "data": {
      "text/html": [
       "<div class=\"toyplot\" id=\"t31792b53570b48578761b70d186c2b59\" style=\"text-align:center\"><svg class=\"toyplot-canvas-Canvas\" xmlns:toyplot=\"http://www.sandia.gov/toyplot\" xmlns:xlink=\"http://www.w3.org/1999/xlink\" xmlns=\"http://www.w3.org/2000/svg\" width=\"300.0px\" height=\"275.0px\" viewBox=\"0 0 300.0 275.0\" preserveAspectRatio=\"xMidYMid meet\" style=\"background-color:transparent;border-color:#292724;border-style:none;border-width:1.0;fill:rgb(16.1%,15.3%,14.1%);fill-opacity:1.0;font-family:Helvetica;font-size:12px;opacity:1.0;stroke:rgb(16.1%,15.3%,14.1%);stroke-opacity:1.0;stroke-width:1.0\" id=\"tf27fc66ef4bb43ad841bb1078e6386ac\"><g class=\"toyplot-coordinates-Cartesian\" id=\"t9a01cbb89b6a4e53a015af090967c3d7\"><clipPath id=\"te38fb3a7c1b348bcb8de9ee24f5bb59f\"><rect x=\"35.0\" y=\"35.0\" width=\"230.0\" height=\"205.0\"></rect></clipPath><g clip-path=\"url(#te38fb3a7c1b348bcb8de9ee24f5bb59f)\"><g class=\"toytree-mark-Toytree\" id=\"t31274916b51243aaa8c6f991171fd032\"><g class=\"toytree-Edges\" style=\"stroke:rgb(14.5%,14.5%,14.5%);stroke-opacity:1.0;stroke-linecap:round;stroke-width:2.0;fill:none\"><path d=\"M 57.4 157.2 L 57.4 216.4 L 135.7 216.4\" id=\"5,0\" style=\"\"></path><path d=\"M 135.7 98.0 L 135.7 137.5 L 214.0 137.5\" id=\"4,1\" style=\"\"></path><path d=\"M 174.8 58.6 L 174.8 58.6 L 214.0 58.6\" id=\"3,2\" style=\"\"></path><path d=\"M 135.7 98.0 L 135.7 58.6 L 174.8 58.6\" id=\"4,3\" style=\"\"></path><path d=\"M 57.4 157.2 L 57.4 98.0 L 135.7 98.0\" id=\"5,4\" style=\"\"></path></g><g class=\"toytree-AdmixEdges\" style=\"fill:rgb(0.0%,0.0%,0.0%);fill-opacity:0.0;stroke:rgb(90.6%,54.1%,76.5%);stroke-opacity:0.6;font-size:14px;stroke-linecap:round;stroke-width:5\"></g><g class=\"toytree-Nodes\" style=\"fill:rgb(0.0%,0.0%,0.0%);fill-opacity:1.0;stroke:rgb(14.9%,14.9%,14.9%);stroke-opacity:1.0;stroke-width:1.5\"><g id=\"Node-0\" transform=\"translate(135.712,216.43)\"><rect x=\"-8.0\" y=\"-8.0\" width=\"16\" height=\"16\"></rect></g><g id=\"Node-1\" transform=\"translate(213.987,137.5)\"><rect x=\"-8.0\" y=\"-8.0\" width=\"16\" height=\"16\"></rect></g><g id=\"Node-2\" transform=\"translate(213.987,58.5696)\"><rect x=\"-8.0\" y=\"-8.0\" width=\"16\" height=\"16\"></rect></g><g id=\"Node-3\" transform=\"translate(174.849,58.5696)\"><rect x=\"-8.0\" y=\"-8.0\" width=\"16\" height=\"16\"></rect></g><g id=\"Node-4\" transform=\"translate(135.712,98.0348)\"><rect x=\"-8.0\" y=\"-8.0\" width=\"16\" height=\"16\"></rect></g><g id=\"Node-5\" transform=\"translate(57.4362,157.233)\"><rect x=\"-8.0\" y=\"-8.0\" width=\"16\" height=\"16\"></rect></g></g><g class=\"toytree-NodeLabels\" style=\"font-family:Helvetica;font-size:9px;font-weight:300;vertical-align:baseline;white-space:pre;stroke:none\"><g class=\"toytree-NodeLabel\" transform=\"translate(135.712,216.43)\"><text x=\"-3.0015\" y=\"2.2995\" style=\"fill:rgb(100.0%,100.0%,100.0%);fill-opacity:1.0\">B</text></g><g class=\"toytree-NodeLabel\" transform=\"translate(213.987,137.5)\"><text x=\"-3.0015\" y=\"2.2995\" style=\"fill:rgb(100.0%,100.0%,100.0%);fill-opacity:1.0\">X</text></g><g class=\"toytree-NodeLabel\" transform=\"translate(213.987,58.5696)\"><text x=\"-3.0015\" y=\"2.2995\" style=\"fill:rgb(100.0%,100.0%,100.0%);fill-opacity:1.0\">A</text></g><g class=\"toytree-NodeLabel\" transform=\"translate(174.849,58.5696)\"><text x=\"-3.249\" y=\"2.2995\" style=\"fill:rgb(100.0%,100.0%,100.0%);fill-opacity:1.0\">C</text></g><g class=\"toytree-NodeLabel\" transform=\"translate(135.712,98.0348)\"><text x=\"-6.003\" y=\"2.2995\" style=\"fill:rgb(100.0%,100.0%,100.0%);fill-opacity:1.0\">AX</text></g><g class=\"toytree-NodeLabel\" transform=\"translate(57.4362,157.233)\"><text x=\"-6.003\" y=\"2.2995\" style=\"fill:rgb(100.0%,100.0%,100.0%);fill-opacity:1.0\">AB</text></g></g><g class=\"toytree-TipLabels\" style=\"fill:rgb(14.5%,14.5%,14.5%);fill-opacity:1.0;font-family:Helvetica;font-size:12px;font-weight:300;vertical-align:baseline;white-space:pre;stroke:none\"><g class=\"toytree-TipLabel\" transform=\"translate(135.712,216.43)\"><text x=\"15.0\" y=\"3.066\" style=\"fill:rgb(14.5%,14.5%,14.5%);fill-opacity:1.0\">B</text></g><g class=\"toytree-TipLabel\" transform=\"translate(213.987,137.5)\"><text x=\"15.0\" y=\"3.066\" style=\"fill:rgb(14.5%,14.5%,14.5%);fill-opacity:1.0\">X</text></g><g class=\"toytree-TipLabel\" transform=\"translate(213.987,58.5696)\"><text x=\"15.0\" y=\"3.066\" style=\"fill:rgb(14.5%,14.5%,14.5%);fill-opacity:1.0\">A</text></g></g></g></g></g></svg><div class=\"toyplot-behavior\"><script>(function()\n",
       "{\n",
       "var modules={};\n",
       "})();</script></div></div>"
      ]
     },
     "metadata": {},
     "output_type": "display_data"
    },
    {
     "data": {
      "text/html": [
       "<div class=\"toyplot\" id=\"te95904b01f7043578d3fc2db7f8f19ab\" style=\"text-align:center\"><svg class=\"toyplot-canvas-Canvas\" xmlns:toyplot=\"http://www.sandia.gov/toyplot\" xmlns:xlink=\"http://www.w3.org/1999/xlink\" xmlns=\"http://www.w3.org/2000/svg\" width=\"300.0px\" height=\"275.0px\" viewBox=\"0 0 300.0 275.0\" preserveAspectRatio=\"xMidYMid meet\" style=\"background-color:transparent;border-color:#292724;border-style:none;border-width:1.0;fill:rgb(16.1%,15.3%,14.1%);fill-opacity:1.0;font-family:Helvetica;font-size:12px;opacity:1.0;stroke:rgb(16.1%,15.3%,14.1%);stroke-opacity:1.0;stroke-width:1.0\" id=\"t82cf2c2f4522468ca447b57361c22db0\"><g class=\"toyplot-coordinates-Cartesian\" id=\"ta3ed1c1ea78047bca336203d349e00d5\"><clipPath id=\"tc86caa0cf902496fb61d079e5ce40623\"><rect x=\"35.0\" y=\"35.0\" width=\"230.0\" height=\"205.0\"></rect></clipPath><g clip-path=\"url(#tc86caa0cf902496fb61d079e5ce40623)\"><g class=\"toytree-mark-Toytree\" id=\"tf370716bef48488285759479da0c4b9d\"><g class=\"toytree-Edges\" style=\"stroke:rgb(14.5%,14.5%,14.5%);stroke-opacity:1.0;stroke-linecap:round;stroke-width:2.0;fill:none\"><path d=\"M 57.4 170.4 L 57.4 216.4 L 135.3 216.4\" id=\"6,0\" style=\"\"></path><path d=\"M 135.3 124.3 L 135.3 163.8 L 213.1 163.8\" id=\"5,1\" style=\"\"></path><path d=\"M 174.2 84.9 L 174.2 111.2 L 213.1 111.2\" id=\"4,2\" style=\"\"></path><path d=\"M 174.2 84.9 L 174.2 58.6 L 213.1 58.6\" id=\"4,3\" style=\"\"></path><path d=\"M 135.3 124.3 L 135.3 84.9 L 174.2 84.9\" id=\"5,4\" style=\"\"></path><path d=\"M 57.4 170.4 L 57.4 124.3 L 135.3 124.3\" id=\"6,5\" style=\"\"></path></g><g class=\"toytree-AdmixEdges\" style=\"fill:rgb(0.0%,0.0%,0.0%);fill-opacity:0.0;stroke:rgb(90.6%,54.1%,76.5%);stroke-opacity:0.6;font-size:14px;stroke-linecap:round;stroke-width:5\"></g><g class=\"toytree-Nodes\" style=\"fill:rgb(0.0%,0.0%,0.0%);fill-opacity:1.0;stroke:rgb(14.9%,14.9%,14.9%);stroke-opacity:1.0;stroke-width:1.5\"><g id=\"Node-0\" transform=\"translate(135.271,216.43)\"><rect x=\"-8.0\" y=\"-8.0\" width=\"16\" height=\"16\"></rect></g><g id=\"Node-1\" transform=\"translate(213.144,163.81)\"><rect x=\"-8.0\" y=\"-8.0\" width=\"16\" height=\"16\"></rect></g><g id=\"Node-2\" transform=\"translate(213.144,111.19)\"><rect x=\"-8.0\" y=\"-8.0\" width=\"16\" height=\"16\"></rect></g><g id=\"Node-3\" transform=\"translate(213.144,58.5696)\"><rect x=\"-8.0\" y=\"-8.0\" width=\"16\" height=\"16\"></rect></g><g id=\"Node-4\" transform=\"translate(174.208,84.8797)\"><rect x=\"-8.0\" y=\"-8.0\" width=\"16\" height=\"16\"></rect></g><g id=\"Node-5\" transform=\"translate(135.271,124.345)\"><rect x=\"-8.0\" y=\"-8.0\" width=\"16\" height=\"16\"></rect></g><g id=\"Node-6\" transform=\"translate(57.3979,170.388)\"><rect x=\"-8.0\" y=\"-8.0\" width=\"16\" height=\"16\"></rect></g></g><g class=\"toytree-NodeLabels\" style=\"font-family:Helvetica;font-size:9px;font-weight:300;vertical-align:baseline;white-space:pre;stroke:none\"><g class=\"toytree-NodeLabel\" transform=\"translate(135.271,216.43)\"><text x=\"-3.0015\" y=\"2.2995\" style=\"fill:rgb(100.0%,100.0%,100.0%);fill-opacity:1.0\">B</text></g><g class=\"toytree-NodeLabel\" transform=\"translate(213.144,163.81)\"><text x=\"-3.0015\" y=\"2.2995\" style=\"fill:rgb(100.0%,100.0%,100.0%);fill-opacity:1.0\">X</text></g><g class=\"toytree-NodeLabel\" transform=\"translate(213.144,111.19)\"><text x=\"-3.0015\" y=\"2.2995\" style=\"fill:rgb(100.0%,100.0%,100.0%);fill-opacity:1.0\">A</text></g><g class=\"toytree-NodeLabel\" transform=\"translate(213.144,58.5696)\"><text x=\"-3.249\" y=\"2.2995\" style=\"fill:rgb(100.0%,100.0%,100.0%);fill-opacity:1.0\">D</text></g><g class=\"toytree-NodeLabel\" transform=\"translate(174.208,84.8797)\"><text x=\"-3.249\" y=\"2.2995\" style=\"fill:rgb(100.0%,100.0%,100.0%);fill-opacity:1.0\">C</text></g><g class=\"toytree-NodeLabel\" transform=\"translate(135.271,124.345)\"><text x=\"-6.003\" y=\"2.2995\" style=\"fill:rgb(100.0%,100.0%,100.0%);fill-opacity:1.0\">AX</text></g><g class=\"toytree-NodeLabel\" transform=\"translate(57.3979,170.388)\"><text x=\"-6.003\" y=\"2.2995\" style=\"fill:rgb(100.0%,100.0%,100.0%);fill-opacity:1.0\">AB</text></g></g><g class=\"toytree-TipLabels\" style=\"fill:rgb(14.5%,14.5%,14.5%);fill-opacity:1.0;font-family:Helvetica;font-size:12px;font-weight:300;vertical-align:baseline;white-space:pre;stroke:none\"><g class=\"toytree-TipLabel\" transform=\"translate(135.271,216.43)\"><text x=\"15.0\" y=\"3.066\" style=\"fill:rgb(14.5%,14.5%,14.5%);fill-opacity:1.0\">B</text></g><g class=\"toytree-TipLabel\" transform=\"translate(213.144,163.81)\"><text x=\"15.0\" y=\"3.066\" style=\"fill:rgb(14.5%,14.5%,14.5%);fill-opacity:1.0\">X</text></g><g class=\"toytree-TipLabel\" transform=\"translate(213.144,111.19)\"><text x=\"15.0\" y=\"3.066\" style=\"fill:rgb(14.5%,14.5%,14.5%);fill-opacity:1.0\">A</text></g><g class=\"toytree-TipLabel\" transform=\"translate(213.144,58.5696)\"><text x=\"15.0\" y=\"3.066\" style=\"fill:rgb(14.5%,14.5%,14.5%);fill-opacity:1.0\">D</text></g></g></g></g></g></svg><div class=\"toyplot-behavior\"><script>(function()\n",
       "{\n",
       "var modules={};\n",
       "})();</script></div></div>"
      ]
     },
     "metadata": {},
     "output_type": "display_data"
    }
   ],
   "source": [
    "import toytree\n",
    "#simple ToyTree object from newick string\n",
    "tree = toytree.tree(\"(B,(A,X)AX)AB;\")\n",
    "tree.draw(\n",
    "    node_mask = False,\n",
    "    node_sizes = 16,\n",
    "    node_markers = \"s\",\n",
    "    node_style= {\"fill\": \"black\"},\n",
    "    node_labels=\"name\",\n",
    "    node_labels_style= {\"fill\": \"white\"}\n",
    ");\n",
    "#add internal node named \"C\" ABOVE node \"A\"\n",
    "tree2 = tree.mod.add_internal_node(\"A\", name=\"C\", dist=None)\n",
    "tree2.draw(\n",
    "    node_mask = False,\n",
    "    node_sizes = 16,\n",
    "    node_markers = \"s\",\n",
    "    node_style= {\"fill\": \"black\"},\n",
    "    node_labels=\"name\",\n",
    "    node_labels_style= {\"fill\": \"white\"}\n",
    ");\n",
    "#add child node to new internal node \"C\" to make binary\n",
    "tree3 = tree2.mod.add_child_node(\"C\", name=\"D\", dist=None)\n",
    "tree3.draw(\n",
    "    node_mask = False,\n",
    "    node_sizes = 16,\n",
    "    node_markers = \"s\",\n",
    "    node_style= {\"fill\": \"black\"},\n",
    "    node_labels=\"name\",\n",
    "    node_labels_style= {\"fill\": \"white\"}\n",
    ");"
   ]
  },
  {
   "cell_type": "code",
   "execution_count": 132,
   "metadata": {},
   "outputs": [
    {
     "data": {
      "text/html": [
       "<div class=\"toyplot\" id=\"ta10c397b258742e2aba3456c84dfcbf2\" style=\"text-align:center\"><svg class=\"toyplot-canvas-Canvas\" xmlns:toyplot=\"http://www.sandia.gov/toyplot\" xmlns:xlink=\"http://www.w3.org/1999/xlink\" xmlns=\"http://www.w3.org/2000/svg\" width=\"300.0px\" height=\"275.0px\" viewBox=\"0 0 300.0 275.0\" preserveAspectRatio=\"xMidYMid meet\" style=\"background-color:transparent;border-color:#292724;border-style:none;border-width:1.0;fill:rgb(16.1%,15.3%,14.1%);fill-opacity:1.0;font-family:Helvetica;font-size:12px;opacity:1.0;stroke:rgb(16.1%,15.3%,14.1%);stroke-opacity:1.0;stroke-width:1.0\" id=\"t4dd4627257a54d2ca25c0f011264aa65\"><g class=\"toyplot-coordinates-Cartesian\" id=\"t47add8fdc68f461ebddec609a51f8678\"><clipPath id=\"tbc3e0a86c4ff4f2cb649a56ed097662e\"><rect x=\"35.0\" y=\"35.0\" width=\"230.0\" height=\"205.0\"></rect></clipPath><g clip-path=\"url(#tbc3e0a86c4ff4f2cb649a56ed097662e)\"><g class=\"toytree-mark-Toytree\" id=\"t3381ea480e994026b17e94d9b23f23d4\"><g class=\"toytree-Edges\" style=\"stroke:rgb(14.5%,14.5%,14.5%);stroke-opacity:1.0;stroke-linecap:round;stroke-width:2.0;fill:none\"><path d=\"M 57.4 177.0 L 57.4 216.4 L 135.3 216.4\" id=\"7,0\" style=\"\"></path><path d=\"M 135.3 137.5 L 135.3 177.0 L 213.1 177.0\" id=\"6,1\" style=\"\"></path><path d=\"M 174.2 98.0 L 174.2 137.5 L 213.1 137.5\" id=\"5,2\" style=\"\"></path><path d=\"M 174.2 98.0 L 174.2 98.0 L 213.1 98.0\" id=\"5,3\" style=\"\"></path><path d=\"M 174.2 98.0 L 174.2 58.6 L 213.1 58.6\" id=\"5,4\" style=\"\"></path><path d=\"M 135.3 137.5 L 135.3 98.0 L 174.2 98.0\" id=\"6,5\" style=\"\"></path><path d=\"M 57.4 177.0 L 57.4 137.5 L 135.3 137.5\" id=\"7,6\" style=\"\"></path></g><g class=\"toytree-AdmixEdges\" style=\"fill:rgb(0.0%,0.0%,0.0%);fill-opacity:0.0;stroke:rgb(90.6%,54.1%,76.5%);stroke-opacity:0.6;font-size:14px;stroke-linecap:round;stroke-width:5\"></g><g class=\"toytree-Nodes\" style=\"fill:rgb(0.0%,0.0%,0.0%);fill-opacity:1.0;stroke:rgb(14.9%,14.9%,14.9%);stroke-opacity:1.0;stroke-width:1.5\"><g id=\"Node-0\" transform=\"translate(135.271,216.43)\"><rect x=\"-8.0\" y=\"-8.0\" width=\"16\" height=\"16\"></rect></g><g id=\"Node-1\" transform=\"translate(213.144,176.965)\"><rect x=\"-8.0\" y=\"-8.0\" width=\"16\" height=\"16\"></rect></g><g id=\"Node-2\" transform=\"translate(213.144,137.5)\"><rect x=\"-8.0\" y=\"-8.0\" width=\"16\" height=\"16\"></rect></g><g id=\"Node-3\" transform=\"translate(213.144,98.0348)\"><rect x=\"-8.0\" y=\"-8.0\" width=\"16\" height=\"16\"></rect></g><g id=\"Node-4\" transform=\"translate(213.144,58.5696)\"><rect x=\"-8.0\" y=\"-8.0\" width=\"16\" height=\"16\"></rect></g><g id=\"Node-5\" transform=\"translate(174.208,98.0348)\"><rect x=\"-8.0\" y=\"-8.0\" width=\"16\" height=\"16\"></rect></g><g id=\"Node-6\" transform=\"translate(135.271,137.5)\"><rect x=\"-8.0\" y=\"-8.0\" width=\"16\" height=\"16\"></rect></g><g id=\"Node-7\" transform=\"translate(57.3979,176.965)\"><rect x=\"-8.0\" y=\"-8.0\" width=\"16\" height=\"16\"></rect></g></g><g class=\"toytree-NodeLabels\" style=\"font-family:Helvetica;font-size:9px;font-weight:300;vertical-align:baseline;white-space:pre;stroke:none\"><g class=\"toytree-NodeLabel\" transform=\"translate(135.271,216.43)\"><text x=\"-3.0015\" y=\"2.2995\" style=\"fill:rgb(100.0%,100.0%,100.0%);fill-opacity:1.0\">B</text></g><g class=\"toytree-NodeLabel\" transform=\"translate(213.144,176.965)\"><text x=\"-3.0015\" y=\"2.2995\" style=\"fill:rgb(100.0%,100.0%,100.0%);fill-opacity:1.0\">X</text></g><g class=\"toytree-NodeLabel\" transform=\"translate(213.144,137.5)\"><text x=\"-3.0015\" y=\"2.2995\" style=\"fill:rgb(100.0%,100.0%,100.0%);fill-opacity:1.0\">A</text></g><g class=\"toytree-NodeLabel\" transform=\"translate(213.144,98.0348)\"><text x=\"-3.249\" y=\"2.2995\" style=\"fill:rgb(100.0%,100.0%,100.0%);fill-opacity:1.0\">D</text></g><g class=\"toytree-NodeLabel\" transform=\"translate(213.144,58.5696)\"><text x=\"-3.0015\" y=\"2.2995\" style=\"fill:rgb(100.0%,100.0%,100.0%);fill-opacity:1.0\">Y</text></g><g class=\"toytree-NodeLabel\" transform=\"translate(174.208,98.0348)\"><text x=\"-3.249\" y=\"2.2995\" style=\"fill:rgb(100.0%,100.0%,100.0%);fill-opacity:1.0\">C</text></g><g class=\"toytree-NodeLabel\" transform=\"translate(135.271,137.5)\"><text x=\"-6.003\" y=\"2.2995\" style=\"fill:rgb(100.0%,100.0%,100.0%);fill-opacity:1.0\">AX</text></g><g class=\"toytree-NodeLabel\" transform=\"translate(57.3979,176.965)\"><text x=\"-6.003\" y=\"2.2995\" style=\"fill:rgb(100.0%,100.0%,100.0%);fill-opacity:1.0\">AB</text></g></g><g class=\"toytree-TipLabels\" style=\"fill:rgb(14.5%,14.5%,14.5%);fill-opacity:1.0;font-family:Helvetica;font-size:12px;font-weight:300;vertical-align:baseline;white-space:pre;stroke:none\"><g class=\"toytree-TipLabel\" transform=\"translate(135.271,216.43)\"><text x=\"15.0\" y=\"3.066\" style=\"fill:rgb(14.5%,14.5%,14.5%);fill-opacity:1.0\">B</text></g><g class=\"toytree-TipLabel\" transform=\"translate(213.144,176.965)\"><text x=\"15.0\" y=\"3.066\" style=\"fill:rgb(14.5%,14.5%,14.5%);fill-opacity:1.0\">X</text></g><g class=\"toytree-TipLabel\" transform=\"translate(213.144,137.5)\"><text x=\"15.0\" y=\"3.066\" style=\"fill:rgb(14.5%,14.5%,14.5%);fill-opacity:1.0\">A</text></g><g class=\"toytree-TipLabel\" transform=\"translate(213.144,98.0348)\"><text x=\"15.0\" y=\"3.066\" style=\"fill:rgb(14.5%,14.5%,14.5%);fill-opacity:1.0\">D</text></g><g class=\"toytree-TipLabel\" transform=\"translate(213.144,58.5696)\"><text x=\"15.0\" y=\"3.066\" style=\"fill:rgb(14.5%,14.5%,14.5%);fill-opacity:1.0\">Y</text></g></g></g></g></g></svg><div class=\"toyplot-behavior\"><script>(function()\n",
       "{\n",
       "var modules={};\n",
       "})();</script></div></div>"
      ]
     },
     "metadata": {},
     "output_type": "display_data"
    }
   ],
   "source": [
    "#add another child node to \"C\", creating a polyploidy\n",
    "polyploid = tree3.mod.add_child_node(\"C\", name=\"Y\")\n",
    "\n",
    "canvas, axes, mark = polyploid.draw(\n",
    "    node_mask = False,\n",
    "    node_sizes = 16,\n",
    "    node_markers = \"s\",\n",
    "    node_style= {\"fill\": \"black\"},\n",
    "    node_labels=\"name\",\n",
    "    node_labels_style= {\"fill\": \"white\"}\n",
    ");\n"
   ]
  },
  {
   "cell_type": "markdown",
   "metadata": {},
   "source": [
    "\n",
    "`add_sister_node` can also be used as a method to use in conjunction to `add_internal_node`, the only difference being which node is queried. This function inserts a `Node` as the sister of a queried Node. In other words, it adds a child Node to the parent of the queried Node. Similarly, this can also either fix a unary node to become binary, or case a binary node to become a polyploidy.\n"
   ]
  },
  {
   "cell_type": "code",
   "execution_count": 133,
   "metadata": {},
   "outputs": [
    {
     "data": {
      "text/html": [
       "<div class=\"toyplot\" id=\"t9080ef55bd4a4a1293c7049dda5a90c8\" style=\"text-align:center\"><svg class=\"toyplot-canvas-Canvas\" xmlns:toyplot=\"http://www.sandia.gov/toyplot\" xmlns:xlink=\"http://www.w3.org/1999/xlink\" xmlns=\"http://www.w3.org/2000/svg\" width=\"300.0px\" height=\"275.0px\" viewBox=\"0 0 300.0 275.0\" preserveAspectRatio=\"xMidYMid meet\" style=\"background-color:transparent;border-color:#292724;border-style:none;border-width:1.0;fill:rgb(16.1%,15.3%,14.1%);fill-opacity:1.0;font-family:Helvetica;font-size:12px;opacity:1.0;stroke:rgb(16.1%,15.3%,14.1%);stroke-opacity:1.0;stroke-width:1.0\" id=\"t1fafa1c2db5b4af3862913044f7f4316\"><g class=\"toyplot-coordinates-Cartesian\" id=\"t0df138b8f24244b980769207edca1af9\"><clipPath id=\"taabca7a2031d44a1ab4a83a8fb68d062\"><rect x=\"35.0\" y=\"35.0\" width=\"230.0\" height=\"205.0\"></rect></clipPath><g clip-path=\"url(#taabca7a2031d44a1ab4a83a8fb68d062)\"><g class=\"toytree-mark-Toytree\" id=\"t6417b9c10a4246d68d48ba5ee968c719\"><g class=\"toytree-Edges\" style=\"stroke:rgb(14.5%,14.5%,14.5%);stroke-opacity:1.0;stroke-linecap:round;stroke-width:2.0;fill:none\"><path d=\"M 57.4 157.2 L 57.4 216.4 L 135.7 216.4\" id=\"4,0\" style=\"\"></path><path d=\"M 135.7 98.0 L 135.7 137.5 L 214.0 137.5\" id=\"3,1\" style=\"\"></path><path d=\"M 135.7 98.0 L 135.7 58.6 L 214.0 58.6\" id=\"3,2\" style=\"\"></path><path d=\"M 57.4 157.2 L 57.4 98.0 L 135.7 98.0\" id=\"4,3\" style=\"\"></path></g><g class=\"toytree-AdmixEdges\" style=\"fill:rgb(0.0%,0.0%,0.0%);fill-opacity:0.0;stroke:rgb(90.6%,54.1%,76.5%);stroke-opacity:0.6;font-size:14px;stroke-linecap:round;stroke-width:5\"></g><g class=\"toytree-Nodes\" style=\"fill:rgb(0.0%,0.0%,0.0%);fill-opacity:1.0;stroke:rgb(14.9%,14.9%,14.9%);stroke-opacity:1.0;stroke-width:1.5\"><g id=\"Node-0\" transform=\"translate(135.712,216.43)\"><rect x=\"-8.0\" y=\"-8.0\" width=\"16\" height=\"16\"></rect></g><g id=\"Node-1\" transform=\"translate(213.987,137.5)\"><rect x=\"-8.0\" y=\"-8.0\" width=\"16\" height=\"16\"></rect></g><g id=\"Node-2\" transform=\"translate(213.987,58.5696)\"><rect x=\"-8.0\" y=\"-8.0\" width=\"16\" height=\"16\"></rect></g><g id=\"Node-3\" transform=\"translate(135.712,98.0348)\"><rect x=\"-8.0\" y=\"-8.0\" width=\"16\" height=\"16\"></rect></g><g id=\"Node-4\" transform=\"translate(57.4362,157.233)\"><rect x=\"-8.0\" y=\"-8.0\" width=\"16\" height=\"16\"></rect></g></g><g class=\"toytree-NodeLabels\" style=\"font-family:Helvetica;font-size:9px;font-weight:300;vertical-align:baseline;white-space:pre;stroke:none\"><g class=\"toytree-NodeLabel\" transform=\"translate(135.712,216.43)\"><text x=\"-3.0015\" y=\"2.2995\" style=\"fill:rgb(100.0%,100.0%,100.0%);fill-opacity:1.0\">B</text></g><g class=\"toytree-NodeLabel\" transform=\"translate(213.987,137.5)\"><text x=\"-3.0015\" y=\"2.2995\" style=\"fill:rgb(100.0%,100.0%,100.0%);fill-opacity:1.0\">A</text></g><g class=\"toytree-NodeLabel\" transform=\"translate(213.987,58.5696)\"><text x=\"-3.0015\" y=\"2.2995\" style=\"fill:rgb(100.0%,100.0%,100.0%);fill-opacity:1.0\">X</text></g><g class=\"toytree-NodeLabel\" transform=\"translate(135.712,98.0348)\"><text x=\"-6.003\" y=\"2.2995\" style=\"fill:rgb(100.0%,100.0%,100.0%);fill-opacity:1.0\">AX</text></g><g class=\"toytree-NodeLabel\" transform=\"translate(57.4362,157.233)\"><text x=\"-6.003\" y=\"2.2995\" style=\"fill:rgb(100.0%,100.0%,100.0%);fill-opacity:1.0\">AB</text></g></g><g class=\"toytree-TipLabels\" style=\"fill:rgb(14.5%,14.5%,14.5%);fill-opacity:1.0;font-family:Helvetica;font-size:12px;font-weight:300;vertical-align:baseline;white-space:pre;stroke:none\"><g class=\"toytree-TipLabel\" transform=\"translate(135.712,216.43)\"><text x=\"15.0\" y=\"3.066\" style=\"fill:rgb(14.5%,14.5%,14.5%);fill-opacity:1.0\">B</text></g><g class=\"toytree-TipLabel\" transform=\"translate(213.987,137.5)\"><text x=\"15.0\" y=\"3.066\" style=\"fill:rgb(14.5%,14.5%,14.5%);fill-opacity:1.0\">A</text></g><g class=\"toytree-TipLabel\" transform=\"translate(213.987,58.5696)\"><text x=\"15.0\" y=\"3.066\" style=\"fill:rgb(14.5%,14.5%,14.5%);fill-opacity:1.0\">X</text></g></g></g></g></g></svg><div class=\"toyplot-behavior\"><script>(function()\n",
       "{\n",
       "var modules={};\n",
       "})();</script></div></div>"
      ]
     },
     "metadata": {},
     "output_type": "display_data"
    },
    {
     "data": {
      "text/html": [
       "<div class=\"toyplot\" id=\"tb868302f0dc54e20b73bfc8d189ec79e\" style=\"text-align:center\"><svg class=\"toyplot-canvas-Canvas\" xmlns:toyplot=\"http://www.sandia.gov/toyplot\" xmlns:xlink=\"http://www.w3.org/1999/xlink\" xmlns=\"http://www.w3.org/2000/svg\" width=\"300.0px\" height=\"275.0px\" viewBox=\"0 0 300.0 275.0\" preserveAspectRatio=\"xMidYMid meet\" style=\"background-color:transparent;border-color:#292724;border-style:none;border-width:1.0;fill:rgb(16.1%,15.3%,14.1%);fill-opacity:1.0;font-family:Helvetica;font-size:12px;opacity:1.0;stroke:rgb(16.1%,15.3%,14.1%);stroke-opacity:1.0;stroke-width:1.0\" id=\"t40d027b268e24174bbdac64e744022bc\"><g class=\"toyplot-coordinates-Cartesian\" id=\"tfdd4737a78ad4d3190fc344aa6340683\"><clipPath id=\"td3790eff4d5a46269748568b8b651bb5\"><rect x=\"35.0\" y=\"35.0\" width=\"230.0\" height=\"205.0\"></rect></clipPath><g clip-path=\"url(#td3790eff4d5a46269748568b8b651bb5)\"><g class=\"toytree-mark-Toytree\" id=\"t7d1e188f849942528fce55eb255b27d4\"><g class=\"toytree-Edges\" style=\"stroke:rgb(14.5%,14.5%,14.5%);stroke-opacity:1.0;stroke-linecap:round;stroke-width:2.0;fill:none\"><path d=\"M 57.4 157.2 L 57.4 216.4 L 135.7 216.4\" id=\"5,0\" style=\"\"></path><path d=\"M 135.7 98.0 L 135.7 137.5 L 214.0 137.5\" id=\"4,1\" style=\"\"></path><path d=\"M 174.8 58.6 L 174.8 58.6 L 214.0 58.6\" id=\"3,2\" style=\"\"></path><path d=\"M 135.7 98.0 L 135.7 58.6 L 174.8 58.6\" id=\"4,3\" style=\"\"></path><path d=\"M 57.4 157.2 L 57.4 98.0 L 135.7 98.0\" id=\"5,4\" style=\"\"></path></g><g class=\"toytree-AdmixEdges\" style=\"fill:rgb(0.0%,0.0%,0.0%);fill-opacity:0.0;stroke:rgb(90.6%,54.1%,76.5%);stroke-opacity:0.6;font-size:14px;stroke-linecap:round;stroke-width:5\"></g><g class=\"toytree-Nodes\" style=\"fill:rgb(0.0%,0.0%,0.0%);fill-opacity:1.0;stroke:rgb(14.9%,14.9%,14.9%);stroke-opacity:1.0;stroke-width:1.5\"><g id=\"Node-0\" transform=\"translate(135.712,216.43)\"><rect x=\"-8.0\" y=\"-8.0\" width=\"16\" height=\"16\"></rect></g><g id=\"Node-1\" transform=\"translate(213.987,137.5)\"><rect x=\"-8.0\" y=\"-8.0\" width=\"16\" height=\"16\"></rect></g><g id=\"Node-2\" transform=\"translate(213.987,58.5696)\"><rect x=\"-8.0\" y=\"-8.0\" width=\"16\" height=\"16\"></rect></g><g id=\"Node-3\" transform=\"translate(174.849,58.5696)\"><rect x=\"-8.0\" y=\"-8.0\" width=\"16\" height=\"16\"></rect></g><g id=\"Node-4\" transform=\"translate(135.712,98.0348)\"><rect x=\"-8.0\" y=\"-8.0\" width=\"16\" height=\"16\"></rect></g><g id=\"Node-5\" transform=\"translate(57.4362,157.233)\"><rect x=\"-8.0\" y=\"-8.0\" width=\"16\" height=\"16\"></rect></g></g><g class=\"toytree-NodeLabels\" style=\"font-family:Helvetica;font-size:9px;font-weight:300;vertical-align:baseline;white-space:pre;stroke:none\"><g class=\"toytree-NodeLabel\" transform=\"translate(135.712,216.43)\"><text x=\"-3.0015\" y=\"2.2995\" style=\"fill:rgb(100.0%,100.0%,100.0%);fill-opacity:1.0\">B</text></g><g class=\"toytree-NodeLabel\" transform=\"translate(213.987,137.5)\"><text x=\"-3.0015\" y=\"2.2995\" style=\"fill:rgb(100.0%,100.0%,100.0%);fill-opacity:1.0\">X</text></g><g class=\"toytree-NodeLabel\" transform=\"translate(213.987,58.5696)\"><text x=\"-3.0015\" y=\"2.2995\" style=\"fill:rgb(100.0%,100.0%,100.0%);fill-opacity:1.0\">A</text></g><g class=\"toytree-NodeLabel\" transform=\"translate(174.849,58.5696)\"><text x=\"-3.249\" y=\"2.2995\" style=\"fill:rgb(100.0%,100.0%,100.0%);fill-opacity:1.0\">C</text></g><g class=\"toytree-NodeLabel\" transform=\"translate(135.712,98.0348)\"><text x=\"-6.003\" y=\"2.2995\" style=\"fill:rgb(100.0%,100.0%,100.0%);fill-opacity:1.0\">AX</text></g><g class=\"toytree-NodeLabel\" transform=\"translate(57.4362,157.233)\"><text x=\"-6.003\" y=\"2.2995\" style=\"fill:rgb(100.0%,100.0%,100.0%);fill-opacity:1.0\">AB</text></g></g><g class=\"toytree-TipLabels\" style=\"fill:rgb(14.5%,14.5%,14.5%);fill-opacity:1.0;font-family:Helvetica;font-size:12px;font-weight:300;vertical-align:baseline;white-space:pre;stroke:none\"><g class=\"toytree-TipLabel\" transform=\"translate(135.712,216.43)\"><text x=\"15.0\" y=\"3.066\" style=\"fill:rgb(14.5%,14.5%,14.5%);fill-opacity:1.0\">B</text></g><g class=\"toytree-TipLabel\" transform=\"translate(213.987,137.5)\"><text x=\"15.0\" y=\"3.066\" style=\"fill:rgb(14.5%,14.5%,14.5%);fill-opacity:1.0\">X</text></g><g class=\"toytree-TipLabel\" transform=\"translate(213.987,58.5696)\"><text x=\"15.0\" y=\"3.066\" style=\"fill:rgb(14.5%,14.5%,14.5%);fill-opacity:1.0\">A</text></g></g></g></g></g></svg><div class=\"toyplot-behavior\"><script>(function()\n",
       "{\n",
       "var modules={};\n",
       "})();</script></div></div>"
      ]
     },
     "metadata": {},
     "output_type": "display_data"
    },
    {
     "data": {
      "text/html": [
       "<div class=\"toyplot\" id=\"t414b4fdb920d4b0c9abce8aef59b6fc4\" style=\"text-align:center\"><svg class=\"toyplot-canvas-Canvas\" xmlns:toyplot=\"http://www.sandia.gov/toyplot\" xmlns:xlink=\"http://www.w3.org/1999/xlink\" xmlns=\"http://www.w3.org/2000/svg\" width=\"300.0px\" height=\"275.0px\" viewBox=\"0 0 300.0 275.0\" preserveAspectRatio=\"xMidYMid meet\" style=\"background-color:transparent;border-color:#292724;border-style:none;border-width:1.0;fill:rgb(16.1%,15.3%,14.1%);fill-opacity:1.0;font-family:Helvetica;font-size:12px;opacity:1.0;stroke:rgb(16.1%,15.3%,14.1%);stroke-opacity:1.0;stroke-width:1.0\" id=\"t6630e9c7480047f8b155b59162029d8c\"><g class=\"toyplot-coordinates-Cartesian\" id=\"t9b75aee9c3d44b21b1181b00c95f4be3\"><clipPath id=\"t073e97f377f445529778fbe5a514fb6e\"><rect x=\"35.0\" y=\"35.0\" width=\"230.0\" height=\"205.0\"></rect></clipPath><g clip-path=\"url(#t073e97f377f445529778fbe5a514fb6e)\"><g class=\"toytree-mark-Toytree\" id=\"t7eea8d03ade344e383c0c492a105e016\"><g class=\"toytree-Edges\" style=\"stroke:rgb(14.5%,14.5%,14.5%);stroke-opacity:1.0;stroke-linecap:round;stroke-width:2.0;fill:none\"><path d=\"M 57.4 170.4 L 57.4 216.4 L 135.3 216.4\" id=\"6,0\" style=\"\"></path><path d=\"M 135.3 124.3 L 135.3 163.8 L 213.1 163.8\" id=\"5,1\" style=\"\"></path><path d=\"M 174.2 84.9 L 174.2 111.2 L 213.1 111.2\" id=\"4,2\" style=\"\"></path><path d=\"M 174.2 84.9 L 174.2 58.6 L 213.1 58.6\" id=\"4,3\" style=\"\"></path><path d=\"M 135.3 124.3 L 135.3 84.9 L 174.2 84.9\" id=\"5,4\" style=\"\"></path><path d=\"M 57.4 170.4 L 57.4 124.3 L 135.3 124.3\" id=\"6,5\" style=\"\"></path></g><g class=\"toytree-AdmixEdges\" style=\"fill:rgb(0.0%,0.0%,0.0%);fill-opacity:0.0;stroke:rgb(90.6%,54.1%,76.5%);stroke-opacity:0.6;font-size:14px;stroke-linecap:round;stroke-width:5\"></g><g class=\"toytree-Nodes\" style=\"fill:rgb(0.0%,0.0%,0.0%);fill-opacity:1.0;stroke:rgb(14.9%,14.9%,14.9%);stroke-opacity:1.0;stroke-width:1.5\"><g id=\"Node-0\" transform=\"translate(135.271,216.43)\"><rect x=\"-8.0\" y=\"-8.0\" width=\"16\" height=\"16\"></rect></g><g id=\"Node-1\" transform=\"translate(213.144,163.81)\"><rect x=\"-8.0\" y=\"-8.0\" width=\"16\" height=\"16\"></rect></g><g id=\"Node-2\" transform=\"translate(213.144,111.19)\"><rect x=\"-8.0\" y=\"-8.0\" width=\"16\" height=\"16\"></rect></g><g id=\"Node-3\" transform=\"translate(213.144,58.5696)\"><rect x=\"-8.0\" y=\"-8.0\" width=\"16\" height=\"16\"></rect></g><g id=\"Node-4\" transform=\"translate(174.208,84.8797)\"><rect x=\"-8.0\" y=\"-8.0\" width=\"16\" height=\"16\"></rect></g><g id=\"Node-5\" transform=\"translate(135.271,124.345)\"><rect x=\"-8.0\" y=\"-8.0\" width=\"16\" height=\"16\"></rect></g><g id=\"Node-6\" transform=\"translate(57.3979,170.388)\"><rect x=\"-8.0\" y=\"-8.0\" width=\"16\" height=\"16\"></rect></g></g><g class=\"toytree-NodeLabels\" style=\"font-family:Helvetica;font-size:9px;font-weight:300;vertical-align:baseline;white-space:pre;stroke:none\"><g class=\"toytree-NodeLabel\" transform=\"translate(135.271,216.43)\"><text x=\"-3.0015\" y=\"2.2995\" style=\"fill:rgb(100.0%,100.0%,100.0%);fill-opacity:1.0\">B</text></g><g class=\"toytree-NodeLabel\" transform=\"translate(213.144,163.81)\"><text x=\"-3.0015\" y=\"2.2995\" style=\"fill:rgb(100.0%,100.0%,100.0%);fill-opacity:1.0\">X</text></g><g class=\"toytree-NodeLabel\" transform=\"translate(213.144,111.19)\"><text x=\"-3.0015\" y=\"2.2995\" style=\"fill:rgb(100.0%,100.0%,100.0%);fill-opacity:1.0\">A</text></g><g class=\"toytree-NodeLabel\" transform=\"translate(213.144,58.5696)\"><text x=\"-3.249\" y=\"2.2995\" style=\"fill:rgb(100.0%,100.0%,100.0%);fill-opacity:1.0\">D</text></g><g class=\"toytree-NodeLabel\" transform=\"translate(174.208,84.8797)\"><text x=\"-3.249\" y=\"2.2995\" style=\"fill:rgb(100.0%,100.0%,100.0%);fill-opacity:1.0\">C</text></g><g class=\"toytree-NodeLabel\" transform=\"translate(135.271,124.345)\"><text x=\"-6.003\" y=\"2.2995\" style=\"fill:rgb(100.0%,100.0%,100.0%);fill-opacity:1.0\">AX</text></g><g class=\"toytree-NodeLabel\" transform=\"translate(57.3979,170.388)\"><text x=\"-6.003\" y=\"2.2995\" style=\"fill:rgb(100.0%,100.0%,100.0%);fill-opacity:1.0\">AB</text></g></g><g class=\"toytree-TipLabels\" style=\"fill:rgb(14.5%,14.5%,14.5%);fill-opacity:1.0;font-family:Helvetica;font-size:12px;font-weight:300;vertical-align:baseline;white-space:pre;stroke:none\"><g class=\"toytree-TipLabel\" transform=\"translate(135.271,216.43)\"><text x=\"15.0\" y=\"3.066\" style=\"fill:rgb(14.5%,14.5%,14.5%);fill-opacity:1.0\">B</text></g><g class=\"toytree-TipLabel\" transform=\"translate(213.144,163.81)\"><text x=\"15.0\" y=\"3.066\" style=\"fill:rgb(14.5%,14.5%,14.5%);fill-opacity:1.0\">X</text></g><g class=\"toytree-TipLabel\" transform=\"translate(213.144,111.19)\"><text x=\"15.0\" y=\"3.066\" style=\"fill:rgb(14.5%,14.5%,14.5%);fill-opacity:1.0\">A</text></g><g class=\"toytree-TipLabel\" transform=\"translate(213.144,58.5696)\"><text x=\"15.0\" y=\"3.066\" style=\"fill:rgb(14.5%,14.5%,14.5%);fill-opacity:1.0\">D</text></g></g></g></g></g></svg><div class=\"toyplot-behavior\"><script>(function()\n",
       "{\n",
       "var modules={};\n",
       "})();</script></div></div>"
      ]
     },
     "metadata": {},
     "output_type": "display_data"
    }
   ],
   "source": [
    "import toytree\n",
    "#simple ToyTree object from newick string\n",
    "tree = toytree.tree(\"(B,(A,X)AX)AB;\")\n",
    "tree.draw(\n",
    "    node_mask = False,\n",
    "    node_sizes = 16,\n",
    "    node_markers = \"s\",\n",
    "    node_style= {\"fill\": \"black\"},\n",
    "    node_labels=\"name\",\n",
    "    node_labels_style= {\"fill\": \"white\"}\n",
    ");\n",
    "#add internal node named \"C\" ABOVE node \"A\"\n",
    "tree2 = tree.mod.add_internal_node(\"A\", name=\"C\", dist=None)\n",
    "tree2.draw(\n",
    "    node_mask = False,\n",
    "    node_sizes = 16,\n",
    "    node_markers = \"s\",\n",
    "    node_style= {\"fill\": \"black\"},\n",
    "    node_labels=\"name\",\n",
    "    node_labels_style= {\"fill\": \"white\"}\n",
    ");\n",
    "#add sister node to node \"A\" to make \"C\" binary\n",
    "tree3 = tree2.mod.add_child_node(\"C\", name=\"D\", dist=None)\n",
    "tree3.draw(\n",
    "    node_mask = False,\n",
    "    node_sizes = 16,\n",
    "    node_markers = \"s\",\n",
    "    node_style= {\"fill\": \"black\"},\n",
    "    node_labels=\"name\",\n",
    "    node_labels_style= {\"fill\": \"white\"}\n",
    ");"
   ]
  },
  {
   "cell_type": "code",
   "execution_count": 134,
   "metadata": {},
   "outputs": [
    {
     "data": {
      "text/html": [
       "<div class=\"toyplot\" id=\"taeb1dc564c6b4926b88504fac9d61226\" style=\"text-align:center\"><svg class=\"toyplot-canvas-Canvas\" xmlns:toyplot=\"http://www.sandia.gov/toyplot\" xmlns:xlink=\"http://www.w3.org/1999/xlink\" xmlns=\"http://www.w3.org/2000/svg\" width=\"300.0px\" height=\"275.0px\" viewBox=\"0 0 300.0 275.0\" preserveAspectRatio=\"xMidYMid meet\" style=\"background-color:transparent;border-color:#292724;border-style:none;border-width:1.0;fill:rgb(16.1%,15.3%,14.1%);fill-opacity:1.0;font-family:Helvetica;font-size:12px;opacity:1.0;stroke:rgb(16.1%,15.3%,14.1%);stroke-opacity:1.0;stroke-width:1.0\" id=\"t19aa95d6d8c843b7a5da8486dd4adc25\"><g class=\"toyplot-coordinates-Cartesian\" id=\"t0388e36f31db48c4883b075ce3c9636e\"><clipPath id=\"tc4812a4810eb4d62a73cdf6881a9e57e\"><rect x=\"35.0\" y=\"35.0\" width=\"230.0\" height=\"205.0\"></rect></clipPath><g clip-path=\"url(#tc4812a4810eb4d62a73cdf6881a9e57e)\"><g class=\"toytree-mark-Toytree\" id=\"tcbeb37ab592f474aa22587dad3c6e7b0\"><g class=\"toytree-Edges\" style=\"stroke:rgb(14.5%,14.5%,14.5%);stroke-opacity:1.0;stroke-linecap:round;stroke-width:2.0;fill:none\"><path d=\"M 57.4 177.0 L 57.4 216.4 L 135.3 216.4\" id=\"7,0\" style=\"\"></path><path d=\"M 135.3 137.5 L 135.3 177.0 L 213.1 177.0\" id=\"6,1\" style=\"\"></path><path d=\"M 174.2 98.0 L 174.2 137.5 L 213.1 137.5\" id=\"5,2\" style=\"\"></path><path d=\"M 174.2 98.0 L 174.2 98.0 L 213.1 98.0\" id=\"5,3\" style=\"\"></path><path d=\"M 174.2 98.0 L 174.2 58.6 L 213.1 58.6\" id=\"5,4\" style=\"\"></path><path d=\"M 135.3 137.5 L 135.3 98.0 L 174.2 98.0\" id=\"6,5\" style=\"\"></path><path d=\"M 57.4 177.0 L 57.4 137.5 L 135.3 137.5\" id=\"7,6\" style=\"\"></path></g><g class=\"toytree-AdmixEdges\" style=\"fill:rgb(0.0%,0.0%,0.0%);fill-opacity:0.0;stroke:rgb(90.6%,54.1%,76.5%);stroke-opacity:0.6;font-size:14px;stroke-linecap:round;stroke-width:5\"></g><g class=\"toytree-Nodes\" style=\"fill:rgb(0.0%,0.0%,0.0%);fill-opacity:1.0;stroke:rgb(14.9%,14.9%,14.9%);stroke-opacity:1.0;stroke-width:1.5\"><g id=\"Node-0\" transform=\"translate(135.271,216.43)\"><rect x=\"-8.0\" y=\"-8.0\" width=\"16\" height=\"16\"></rect></g><g id=\"Node-1\" transform=\"translate(213.144,176.965)\"><rect x=\"-8.0\" y=\"-8.0\" width=\"16\" height=\"16\"></rect></g><g id=\"Node-2\" transform=\"translate(213.144,137.5)\"><rect x=\"-8.0\" y=\"-8.0\" width=\"16\" height=\"16\"></rect></g><g id=\"Node-3\" transform=\"translate(213.144,98.0348)\"><rect x=\"-8.0\" y=\"-8.0\" width=\"16\" height=\"16\"></rect></g><g id=\"Node-4\" transform=\"translate(213.144,58.5696)\"><rect x=\"-8.0\" y=\"-8.0\" width=\"16\" height=\"16\"></rect></g><g id=\"Node-5\" transform=\"translate(174.208,98.0348)\"><rect x=\"-8.0\" y=\"-8.0\" width=\"16\" height=\"16\"></rect></g><g id=\"Node-6\" transform=\"translate(135.271,137.5)\"><rect x=\"-8.0\" y=\"-8.0\" width=\"16\" height=\"16\"></rect></g><g id=\"Node-7\" transform=\"translate(57.3979,176.965)\"><rect x=\"-8.0\" y=\"-8.0\" width=\"16\" height=\"16\"></rect></g></g><g class=\"toytree-NodeLabels\" style=\"font-family:Helvetica;font-size:9px;font-weight:300;vertical-align:baseline;white-space:pre;stroke:none\"><g class=\"toytree-NodeLabel\" transform=\"translate(135.271,216.43)\"><text x=\"-3.0015\" y=\"2.2995\" style=\"fill:rgb(100.0%,100.0%,100.0%);fill-opacity:1.0\">B</text></g><g class=\"toytree-NodeLabel\" transform=\"translate(213.144,176.965)\"><text x=\"-3.0015\" y=\"2.2995\" style=\"fill:rgb(100.0%,100.0%,100.0%);fill-opacity:1.0\">X</text></g><g class=\"toytree-NodeLabel\" transform=\"translate(213.144,137.5)\"><text x=\"-3.0015\" y=\"2.2995\" style=\"fill:rgb(100.0%,100.0%,100.0%);fill-opacity:1.0\">A</text></g><g class=\"toytree-NodeLabel\" transform=\"translate(213.144,98.0348)\"><text x=\"-3.249\" y=\"2.2995\" style=\"fill:rgb(100.0%,100.0%,100.0%);fill-opacity:1.0\">D</text></g><g class=\"toytree-NodeLabel\" transform=\"translate(213.144,58.5696)\"><text x=\"-3.0015\" y=\"2.2995\" style=\"fill:rgb(100.0%,100.0%,100.0%);fill-opacity:1.0\">Y</text></g><g class=\"toytree-NodeLabel\" transform=\"translate(174.208,98.0348)\"><text x=\"-3.249\" y=\"2.2995\" style=\"fill:rgb(100.0%,100.0%,100.0%);fill-opacity:1.0\">C</text></g><g class=\"toytree-NodeLabel\" transform=\"translate(135.271,137.5)\"><text x=\"-6.003\" y=\"2.2995\" style=\"fill:rgb(100.0%,100.0%,100.0%);fill-opacity:1.0\">AX</text></g><g class=\"toytree-NodeLabel\" transform=\"translate(57.3979,176.965)\"><text x=\"-6.003\" y=\"2.2995\" style=\"fill:rgb(100.0%,100.0%,100.0%);fill-opacity:1.0\">AB</text></g></g><g class=\"toytree-TipLabels\" style=\"fill:rgb(14.5%,14.5%,14.5%);fill-opacity:1.0;font-family:Helvetica;font-size:12px;font-weight:300;vertical-align:baseline;white-space:pre;stroke:none\"><g class=\"toytree-TipLabel\" transform=\"translate(135.271,216.43)\"><text x=\"15.0\" y=\"3.066\" style=\"fill:rgb(14.5%,14.5%,14.5%);fill-opacity:1.0\">B</text></g><g class=\"toytree-TipLabel\" transform=\"translate(213.144,176.965)\"><text x=\"15.0\" y=\"3.066\" style=\"fill:rgb(14.5%,14.5%,14.5%);fill-opacity:1.0\">X</text></g><g class=\"toytree-TipLabel\" transform=\"translate(213.144,137.5)\"><text x=\"15.0\" y=\"3.066\" style=\"fill:rgb(14.5%,14.5%,14.5%);fill-opacity:1.0\">A</text></g><g class=\"toytree-TipLabel\" transform=\"translate(213.144,98.0348)\"><text x=\"15.0\" y=\"3.066\" style=\"fill:rgb(14.5%,14.5%,14.5%);fill-opacity:1.0\">D</text></g><g class=\"toytree-TipLabel\" transform=\"translate(213.144,58.5696)\"><text x=\"15.0\" y=\"3.066\" style=\"fill:rgb(14.5%,14.5%,14.5%);fill-opacity:1.0\">Y</text></g></g></g></g></g></svg><div class=\"toyplot-behavior\"><script>(function()\n",
       "{\n",
       "var modules={};\n",
       "})();</script></div></div>"
      ]
     },
     "metadata": {},
     "output_type": "display_data"
    }
   ],
   "source": [
    "#add another sister node to \"A\", creating a polyploidy\n",
    "polyploid = tree3.mod.add_sister_node(\"A\", name=\"Y\")\n",
    "\n",
    "polyploid.draw(\n",
    "    node_mask = False,\n",
    "    node_sizes = 16,\n",
    "    node_markers = \"s\",\n",
    "    node_style= {\"fill\": \"black\"},\n",
    "    node_labels=\"name\",\n",
    "    node_labels_style= {\"fill\": \"white\"}\n",
    ");"
   ]
  },
  {
   "cell_type": "markdown",
   "metadata": {},
   "source": [
    "\n",
    "`add_internal_node_and_child` is a method to combine these previous steps into one command. When used, a parent-child pair is passed into the tree, splitting the edge above the queried Node. The internal Node and new child Node must both be defined with `parent_name=` and `name=` respectively. If no value is entered for `parent_dist`, then the parent Node is inserted at the midpoint of the edge. If a `parent_dist` value is defined, then it must fit within the length of the query Node's dist. The new child Node does not share these constraints. If no value is entered for `dist`, then it will be set to match the dist of its sister Node.\n"
   ]
  },
  {
   "cell_type": "code",
   "execution_count": 135,
   "metadata": {},
   "outputs": [
    {
     "data": {
      "text/html": [
       "<div class=\"toyplot\" id=\"t1328378421e04ff3b5af4ac753e1150e\" style=\"text-align:center\"><svg class=\"toyplot-canvas-Canvas\" xmlns:toyplot=\"http://www.sandia.gov/toyplot\" xmlns:xlink=\"http://www.w3.org/1999/xlink\" xmlns=\"http://www.w3.org/2000/svg\" width=\"300.0px\" height=\"275.0px\" viewBox=\"0 0 300.0 275.0\" preserveAspectRatio=\"xMidYMid meet\" style=\"background-color:transparent;border-color:#292724;border-style:none;border-width:1.0;fill:rgb(16.1%,15.3%,14.1%);fill-opacity:1.0;font-family:Helvetica;font-size:12px;opacity:1.0;stroke:rgb(16.1%,15.3%,14.1%);stroke-opacity:1.0;stroke-width:1.0\" id=\"t719cb8778f4d4627ad44f1413adf4614\"><g class=\"toyplot-coordinates-Cartesian\" id=\"t0b420f6c1ee44a2baba3339c60af86e6\"><clipPath id=\"t023f8a052420422e87e6e6be878f507e\"><rect x=\"35.0\" y=\"35.0\" width=\"230.0\" height=\"205.0\"></rect></clipPath><g clip-path=\"url(#t023f8a052420422e87e6e6be878f507e)\"><g class=\"toytree-mark-Toytree\" id=\"t105d83b22b11495ebf1f4b94fed8a19a\"><g class=\"toytree-Edges\" style=\"stroke:rgb(14.5%,14.5%,14.5%);stroke-opacity:1.0;stroke-linecap:round;stroke-width:2.0;fill:none\"><path d=\"M 57.4 157.2 L 57.4 216.4 L 135.7 216.4\" id=\"4,0\" style=\"\"></path><path d=\"M 135.7 98.0 L 135.7 137.5 L 214.0 137.5\" id=\"3,1\" style=\"\"></path><path d=\"M 135.7 98.0 L 135.7 58.6 L 214.0 58.6\" id=\"3,2\" style=\"\"></path><path d=\"M 57.4 157.2 L 57.4 98.0 L 135.7 98.0\" id=\"4,3\" style=\"\"></path></g><g class=\"toytree-AdmixEdges\" style=\"fill:rgb(0.0%,0.0%,0.0%);fill-opacity:0.0;stroke:rgb(90.6%,54.1%,76.5%);stroke-opacity:0.6;font-size:14px;stroke-linecap:round;stroke-width:5\"></g><g class=\"toytree-Nodes\" style=\"fill:rgb(0.0%,0.0%,0.0%);fill-opacity:1.0;stroke:rgb(14.9%,14.9%,14.9%);stroke-opacity:1.0;stroke-width:1.5\"><g id=\"Node-0\" transform=\"translate(135.712,216.43)\"><rect x=\"-8.0\" y=\"-8.0\" width=\"16\" height=\"16\"></rect></g><g id=\"Node-1\" transform=\"translate(213.987,137.5)\"><rect x=\"-8.0\" y=\"-8.0\" width=\"16\" height=\"16\"></rect></g><g id=\"Node-2\" transform=\"translate(213.987,58.5696)\"><rect x=\"-8.0\" y=\"-8.0\" width=\"16\" height=\"16\"></rect></g><g id=\"Node-3\" transform=\"translate(135.712,98.0348)\"><rect x=\"-8.0\" y=\"-8.0\" width=\"16\" height=\"16\"></rect></g><g id=\"Node-4\" transform=\"translate(57.4362,157.233)\"><rect x=\"-8.0\" y=\"-8.0\" width=\"16\" height=\"16\"></rect></g></g><g class=\"toytree-NodeLabels\" style=\"font-family:Helvetica;font-size:9px;font-weight:300;vertical-align:baseline;white-space:pre;stroke:none\"><g class=\"toytree-NodeLabel\" transform=\"translate(135.712,216.43)\"><text x=\"-3.0015\" y=\"2.2995\" style=\"fill:rgb(100.0%,100.0%,100.0%);fill-opacity:1.0\">B</text></g><g class=\"toytree-NodeLabel\" transform=\"translate(213.987,137.5)\"><text x=\"-3.0015\" y=\"2.2995\" style=\"fill:rgb(100.0%,100.0%,100.0%);fill-opacity:1.0\">A</text></g><g class=\"toytree-NodeLabel\" transform=\"translate(213.987,58.5696)\"><text x=\"-3.0015\" y=\"2.2995\" style=\"fill:rgb(100.0%,100.0%,100.0%);fill-opacity:1.0\">X</text></g><g class=\"toytree-NodeLabel\" transform=\"translate(135.712,98.0348)\"><text x=\"-6.003\" y=\"2.2995\" style=\"fill:rgb(100.0%,100.0%,100.0%);fill-opacity:1.0\">AX</text></g><g class=\"toytree-NodeLabel\" transform=\"translate(57.4362,157.233)\"><text x=\"-6.003\" y=\"2.2995\" style=\"fill:rgb(100.0%,100.0%,100.0%);fill-opacity:1.0\">AB</text></g></g><g class=\"toytree-TipLabels\" style=\"fill:rgb(14.5%,14.5%,14.5%);fill-opacity:1.0;font-family:Helvetica;font-size:12px;font-weight:300;vertical-align:baseline;white-space:pre;stroke:none\"><g class=\"toytree-TipLabel\" transform=\"translate(135.712,216.43)\"><text x=\"15.0\" y=\"3.066\" style=\"fill:rgb(14.5%,14.5%,14.5%);fill-opacity:1.0\">B</text></g><g class=\"toytree-TipLabel\" transform=\"translate(213.987,137.5)\"><text x=\"15.0\" y=\"3.066\" style=\"fill:rgb(14.5%,14.5%,14.5%);fill-opacity:1.0\">A</text></g><g class=\"toytree-TipLabel\" transform=\"translate(213.987,58.5696)\"><text x=\"15.0\" y=\"3.066\" style=\"fill:rgb(14.5%,14.5%,14.5%);fill-opacity:1.0\">X</text></g></g></g></g></g></svg><div class=\"toyplot-behavior\"><script>(function()\n",
       "{\n",
       "var modules={};\n",
       "})();</script></div></div>"
      ]
     },
     "metadata": {},
     "output_type": "display_data"
    },
    {
     "data": {
      "text/html": [
       "<div class=\"toyplot\" id=\"t5178893632464467b16b89867b76b38e\" style=\"text-align:center\"><svg class=\"toyplot-canvas-Canvas\" xmlns:toyplot=\"http://www.sandia.gov/toyplot\" xmlns:xlink=\"http://www.w3.org/1999/xlink\" xmlns=\"http://www.w3.org/2000/svg\" width=\"300.0px\" height=\"275.0px\" viewBox=\"0 0 300.0 275.0\" preserveAspectRatio=\"xMidYMid meet\" style=\"background-color:transparent;border-color:#292724;border-style:none;border-width:1.0;fill:rgb(16.1%,15.3%,14.1%);fill-opacity:1.0;font-family:Helvetica;font-size:12px;opacity:1.0;stroke:rgb(16.1%,15.3%,14.1%);stroke-opacity:1.0;stroke-width:1.0\" id=\"t9907073dde9b430e9879ae7a50b458b0\"><g class=\"toyplot-coordinates-Cartesian\" id=\"t9421f93018614807b1a26cf1468712e3\"><clipPath id=\"te14a120830ad46f9900a44817d527539\"><rect x=\"35.0\" y=\"35.0\" width=\"230.0\" height=\"205.0\"></rect></clipPath><g clip-path=\"url(#te14a120830ad46f9900a44817d527539)\"><g class=\"toytree-mark-Toytree\" id=\"tb5f6aac136854886889667dc838e5e8d\"><g class=\"toytree-Edges\" style=\"stroke:rgb(14.5%,14.5%,14.5%);stroke-opacity:1.0;stroke-linecap:round;stroke-width:2.0;fill:none\"><path d=\"M 57.4 170.4 L 57.4 216.4 L 135.3 216.4\" id=\"6,0\" style=\"\"></path><path d=\"M 135.3 124.3 L 135.3 163.8 L 213.1 163.8\" id=\"5,1\" style=\"\"></path><path d=\"M 174.2 84.9 L 174.2 111.2 L 213.1 111.2\" id=\"4,2\" style=\"\"></path><path d=\"M 174.2 84.9 L 174.2 58.6 L 213.1 58.6\" id=\"4,3\" style=\"\"></path><path d=\"M 135.3 124.3 L 135.3 84.9 L 174.2 84.9\" id=\"5,4\" style=\"\"></path><path d=\"M 57.4 170.4 L 57.4 124.3 L 135.3 124.3\" id=\"6,5\" style=\"\"></path></g><g class=\"toytree-AdmixEdges\" style=\"fill:rgb(0.0%,0.0%,0.0%);fill-opacity:0.0;stroke:rgb(90.6%,54.1%,76.5%);stroke-opacity:0.6;font-size:14px;stroke-linecap:round;stroke-width:5\"></g><g class=\"toytree-Nodes\" style=\"fill:rgb(0.0%,0.0%,0.0%);fill-opacity:1.0;stroke:rgb(14.9%,14.9%,14.9%);stroke-opacity:1.0;stroke-width:1.5\"><g id=\"Node-0\" transform=\"translate(135.271,216.43)\"><rect x=\"-8.0\" y=\"-8.0\" width=\"16\" height=\"16\"></rect></g><g id=\"Node-1\" transform=\"translate(213.144,163.81)\"><rect x=\"-8.0\" y=\"-8.0\" width=\"16\" height=\"16\"></rect></g><g id=\"Node-2\" transform=\"translate(213.144,111.19)\"><rect x=\"-8.0\" y=\"-8.0\" width=\"16\" height=\"16\"></rect></g><g id=\"Node-3\" transform=\"translate(213.144,58.5696)\"><rect x=\"-8.0\" y=\"-8.0\" width=\"16\" height=\"16\"></rect></g><g id=\"Node-4\" transform=\"translate(174.208,84.8797)\"><rect x=\"-8.0\" y=\"-8.0\" width=\"16\" height=\"16\"></rect></g><g id=\"Node-5\" transform=\"translate(135.271,124.345)\"><rect x=\"-8.0\" y=\"-8.0\" width=\"16\" height=\"16\"></rect></g><g id=\"Node-6\" transform=\"translate(57.3979,170.388)\"><rect x=\"-8.0\" y=\"-8.0\" width=\"16\" height=\"16\"></rect></g></g><g class=\"toytree-NodeLabels\" style=\"font-family:Helvetica;font-size:9px;font-weight:300;vertical-align:baseline;white-space:pre;stroke:none\"><g class=\"toytree-NodeLabel\" transform=\"translate(135.271,216.43)\"><text x=\"-3.0015\" y=\"2.2995\" style=\"fill:rgb(100.0%,100.0%,100.0%);fill-opacity:1.0\">B</text></g><g class=\"toytree-NodeLabel\" transform=\"translate(213.144,163.81)\"><text x=\"-3.0015\" y=\"2.2995\" style=\"fill:rgb(100.0%,100.0%,100.0%);fill-opacity:1.0\">X</text></g><g class=\"toytree-NodeLabel\" transform=\"translate(213.144,111.19)\"><text x=\"-3.0015\" y=\"2.2995\" style=\"fill:rgb(100.0%,100.0%,100.0%);fill-opacity:1.0\">A</text></g><g class=\"toytree-NodeLabel\" transform=\"translate(213.144,58.5696)\"><text x=\"-3.249\" y=\"2.2995\" style=\"fill:rgb(100.0%,100.0%,100.0%);fill-opacity:1.0\">D</text></g><g class=\"toytree-NodeLabel\" transform=\"translate(174.208,84.8797)\"><text x=\"-3.249\" y=\"2.2995\" style=\"fill:rgb(100.0%,100.0%,100.0%);fill-opacity:1.0\">C</text></g><g class=\"toytree-NodeLabel\" transform=\"translate(135.271,124.345)\"><text x=\"-6.003\" y=\"2.2995\" style=\"fill:rgb(100.0%,100.0%,100.0%);fill-opacity:1.0\">AX</text></g><g class=\"toytree-NodeLabel\" transform=\"translate(57.3979,170.388)\"><text x=\"-6.003\" y=\"2.2995\" style=\"fill:rgb(100.0%,100.0%,100.0%);fill-opacity:1.0\">AB</text></g></g><g class=\"toytree-TipLabels\" style=\"fill:rgb(14.5%,14.5%,14.5%);fill-opacity:1.0;font-family:Helvetica;font-size:12px;font-weight:300;vertical-align:baseline;white-space:pre;stroke:none\"><g class=\"toytree-TipLabel\" transform=\"translate(135.271,216.43)\"><text x=\"15.0\" y=\"3.066\" style=\"fill:rgb(14.5%,14.5%,14.5%);fill-opacity:1.0\">B</text></g><g class=\"toytree-TipLabel\" transform=\"translate(213.144,163.81)\"><text x=\"15.0\" y=\"3.066\" style=\"fill:rgb(14.5%,14.5%,14.5%);fill-opacity:1.0\">X</text></g><g class=\"toytree-TipLabel\" transform=\"translate(213.144,111.19)\"><text x=\"15.0\" y=\"3.066\" style=\"fill:rgb(14.5%,14.5%,14.5%);fill-opacity:1.0\">A</text></g><g class=\"toytree-TipLabel\" transform=\"translate(213.144,58.5696)\"><text x=\"15.0\" y=\"3.066\" style=\"fill:rgb(14.5%,14.5%,14.5%);fill-opacity:1.0\">D</text></g></g></g></g></g></svg><div class=\"toyplot-behavior\"><script>(function()\n",
       "{\n",
       "var modules={};\n",
       "})();</script></div></div>"
      ]
     },
     "metadata": {},
     "output_type": "display_data"
    }
   ],
   "source": [
    "import toytree\n",
    "#simple ToyTree object from newick string\n",
    "tree = toytree.tree(\"(B,(A,X)AX)AB;\")\n",
    "tree.draw(\n",
    "    node_mask = False,\n",
    "    node_sizes = 16,\n",
    "    node_markers = \"s\",\n",
    "    node_style= {\"fill\": \"black\"},\n",
    "    node_labels=\"name\",\n",
    "    node_labels_style= {\"fill\": \"white\"}\n",
    ");\n",
    "#add internal node named \"C\" with child node named \"D\" ABOVE node \"A\"\n",
    "tree2 = tree.mod.add_internal_node_and_child(\"A\", name=\"D\", parent_name=\"C\")\n",
    "tree2.draw(\n",
    "    node_mask = False,\n",
    "    node_sizes = 16,\n",
    "    node_markers = \"s\",\n",
    "    node_style= {\"fill\": \"black\"},\n",
    "    node_labels=\"name\",\n",
    "    node_labels_style= {\"fill\": \"white\"}\n",
    ");"
   ]
  },
  {
   "cell_type": "markdown",
   "metadata": {},
   "source": [
    "\n",
    "`add_internal_node_and_subtree` takes the previous function one step further by allowing the user to pass in a subtree. Similar to the other functions, this splits the edge between the queried node and its parent, but this time splits it with a new ancestral node to which a subtree (passed in as a `ToyTree` object) is connected. The name of the ancestral Node is passed in to the `parent_name=` argument, and both the distance of the parent and the subtree stem can be set with `parent_dist=` and `subtree_stem_dist=` respectively. By default, these are set at $0.5$. You can also choose to rescale the subtree such that it fits in the distance between the sister Node height and stem height."
   ]
  },
  {
   "cell_type": "code",
   "execution_count": 136,
   "metadata": {},
   "outputs": [
    {
     "data": {
      "text/html": [
       "<div class=\"toyplot\" id=\"tb1da5e529f454069811bf5a9c96c8ddb\" style=\"text-align:center\"><svg class=\"toyplot-canvas-Canvas\" xmlns:toyplot=\"http://www.sandia.gov/toyplot\" xmlns:xlink=\"http://www.w3.org/1999/xlink\" xmlns=\"http://www.w3.org/2000/svg\" width=\"300.0px\" height=\"275.0px\" viewBox=\"0 0 300.0 275.0\" preserveAspectRatio=\"xMidYMid meet\" style=\"background-color:transparent;border-color:#292724;border-style:none;border-width:1.0;fill:rgb(16.1%,15.3%,14.1%);fill-opacity:1.0;font-family:Helvetica;font-size:12px;opacity:1.0;stroke:rgb(16.1%,15.3%,14.1%);stroke-opacity:1.0;stroke-width:1.0\" id=\"t800ce47f0fb142669f7670d7fb7e7a77\"><g class=\"toyplot-coordinates-Cartesian\" id=\"ta3cdc6a7a2b04902ba12bef027f3c26f\"><clipPath id=\"tdd2582dfdc7946a8b8f0599fec77a999\"><rect x=\"35.0\" y=\"35.0\" width=\"230.0\" height=\"205.0\"></rect></clipPath><g clip-path=\"url(#tdd2582dfdc7946a8b8f0599fec77a999)\"><g class=\"toytree-mark-Toytree\" id=\"tc1e710c88aaf41a78dfc1338b86ff0da\"><g class=\"toytree-Edges\" style=\"stroke:rgb(14.5%,14.5%,14.5%);stroke-opacity:1.0;stroke-linecap:round;stroke-width:2.0;fill:none\"><path d=\"M 50.8 157.7 L 50.8 218.3 L 131.3 218.3\" id=\"4,0\" style=\"\"></path><path d=\"M 131.3 97.1 L 131.3 137.5 L 211.9 137.5\" id=\"3,1\" style=\"\"></path><path d=\"M 131.3 97.1 L 131.3 56.7 L 211.9 56.7\" id=\"3,2\" style=\"\"></path><path d=\"M 50.8 157.7 L 50.8 97.1 L 131.3 97.1\" id=\"4,3\" style=\"\"></path></g><g class=\"toytree-AdmixEdges\" style=\"fill:rgb(0.0%,0.0%,0.0%);fill-opacity:0.0;stroke:rgb(90.6%,54.1%,76.5%);stroke-opacity:0.6;font-size:14px;stroke-linecap:round;stroke-width:5\"></g><g class=\"toytree-Nodes\" style=\"fill:rgb(40.0%,76.1%,64.7%);fill-opacity:1.0;stroke:rgb(14.9%,14.9%,14.9%);stroke-opacity:1.0;stroke-width:1.5\"></g><g class=\"toytree-TipLabels\" style=\"fill:rgb(14.5%,14.5%,14.5%);fill-opacity:1.0;font-family:Helvetica;font-size:12px;font-weight:300;vertical-align:baseline;white-space:pre;stroke:none\"><g class=\"toytree-TipLabel\" transform=\"translate(131.344,218.347)\"><text x=\"15.0\" y=\"3.066\" style=\"fill:rgb(14.5%,14.5%,14.5%);fill-opacity:1.0\">A</text></g><g class=\"toytree-TipLabel\" transform=\"translate(211.883,137.5)\"><text x=\"15.0\" y=\"3.066\" style=\"fill:rgb(14.5%,14.5%,14.5%);fill-opacity:1.0\">B</text></g><g class=\"toytree-TipLabel\" transform=\"translate(211.883,56.6526)\"><text x=\"15.0\" y=\"3.066\" style=\"fill:rgb(14.5%,14.5%,14.5%);fill-opacity:1.0\">C</text></g></g></g></g></g></svg><div class=\"toyplot-behavior\"><script>(function()\n",
       "{\n",
       "var modules={};\n",
       "})();</script></div></div>"
      ]
     },
     "metadata": {},
     "output_type": "display_data"
    },
    {
     "data": {
      "text/html": [
       "<div class=\"toyplot\" id=\"t52376933dc1543e6b4492325a48d19a1\" style=\"text-align:center\"><svg class=\"toyplot-canvas-Canvas\" xmlns:toyplot=\"http://www.sandia.gov/toyplot\" xmlns:xlink=\"http://www.w3.org/1999/xlink\" xmlns=\"http://www.w3.org/2000/svg\" width=\"300.0px\" height=\"275.0px\" viewBox=\"0 0 300.0 275.0\" preserveAspectRatio=\"xMidYMid meet\" style=\"background-color:transparent;border-color:#292724;border-style:none;border-width:1.0;fill:rgb(16.1%,15.3%,14.1%);fill-opacity:1.0;font-family:Helvetica;font-size:12px;opacity:1.0;stroke:rgb(16.1%,15.3%,14.1%);stroke-opacity:1.0;stroke-width:1.0\" id=\"tb5240cce8230408f94d84e3e5783cc8f\"><g class=\"toyplot-coordinates-Cartesian\" id=\"tc15cc21fbbbd449a81815137d1520429\"><clipPath id=\"ta00d478b67e7467984941542d908f842\"><rect x=\"35.0\" y=\"35.0\" width=\"230.0\" height=\"205.0\"></rect></clipPath><g clip-path=\"url(#ta00d478b67e7467984941542d908f842)\"><g class=\"toytree-mark-Toytree\" id=\"t308db39d2bfc40938f67dbb2c08bfdaa\"><g class=\"toytree-Edges\" style=\"stroke:rgb(14.5%,14.5%,14.5%);stroke-opacity:1.0;stroke-linecap:round;stroke-width:2.0;fill:none\"><path d=\"M 50.8 157.7 L 50.8 218.3 L 131.8 218.3\" id=\"4,0\" style=\"\"></path><path d=\"M 131.8 97.1 L 131.8 137.5 L 212.7 137.5\" id=\"3,1\" style=\"\"></path><path d=\"M 131.8 97.1 L 131.8 56.7 L 212.7 56.7\" id=\"3,2\" style=\"\"></path><path d=\"M 50.8 157.7 L 50.8 97.1 L 131.8 97.1\" id=\"4,3\" style=\"\"></path></g><g class=\"toytree-AdmixEdges\" style=\"fill:rgb(0.0%,0.0%,0.0%);fill-opacity:0.0;stroke:rgb(90.6%,54.1%,76.5%);stroke-opacity:0.6;font-size:14px;stroke-linecap:round;stroke-width:5\"></g><g class=\"toytree-Nodes\" style=\"fill:rgb(40.0%,76.1%,64.7%);fill-opacity:1.0;stroke:rgb(14.9%,14.9%,14.9%);stroke-opacity:1.0;stroke-width:1.5\"></g><g class=\"toytree-TipLabels\" style=\"fill:rgb(14.5%,14.5%,14.5%);fill-opacity:1.0;font-family:Helvetica;font-size:12px;font-weight:300;vertical-align:baseline;white-space:pre;stroke:none\"><g class=\"toytree-TipLabel\" transform=\"translate(131.779,218.347)\"><text x=\"15.0\" y=\"3.066\" style=\"fill:rgb(14.5%,14.5%,14.5%);fill-opacity:1.0\">X</text></g><g class=\"toytree-TipLabel\" transform=\"translate(212.748,137.5)\"><text x=\"15.0\" y=\"3.066\" style=\"fill:rgb(14.5%,14.5%,14.5%);fill-opacity:1.0\">Y</text></g><g class=\"toytree-TipLabel\" transform=\"translate(212.748,56.6526)\"><text x=\"15.0\" y=\"3.066\" style=\"fill:rgb(14.5%,14.5%,14.5%);fill-opacity:1.0\">Z</text></g></g></g></g></g></svg><div class=\"toyplot-behavior\"><script>(function()\n",
       "{\n",
       "var modules={};\n",
       "})();</script></div></div>"
      ]
     },
     "metadata": {},
     "output_type": "display_data"
    },
    {
     "data": {
      "text/html": [
       "<div class=\"toyplot\" id=\"tc50bc3604fc445edaaa26977278bad60\" style=\"text-align:center\"><svg class=\"toyplot-canvas-Canvas\" xmlns:toyplot=\"http://www.sandia.gov/toyplot\" xmlns:xlink=\"http://www.w3.org/1999/xlink\" xmlns=\"http://www.w3.org/2000/svg\" width=\"300.0px\" height=\"275.0px\" viewBox=\"0 0 300.0 275.0\" preserveAspectRatio=\"xMidYMid meet\" style=\"background-color:transparent;border-color:#292724;border-style:none;border-width:1.0;fill:rgb(16.1%,15.3%,14.1%);fill-opacity:1.0;font-family:Helvetica;font-size:12px;opacity:1.0;stroke:rgb(16.1%,15.3%,14.1%);stroke-opacity:1.0;stroke-width:1.0\" id=\"tddc6c3c87cb946b3918d3a3e7793893e\"><g class=\"toyplot-coordinates-Cartesian\" id=\"t1deb46aee3d541eb9629e68212f32091\"><clipPath id=\"t5af77f58d51d4e39ac183837af5e1725\"><rect x=\"35.0\" y=\"35.0\" width=\"230.0\" height=\"205.0\"></rect></clipPath><g clip-path=\"url(#t5af77f58d51d4e39ac183837af5e1725)\"><g class=\"toytree-mark-Toytree\" id=\"teac389b9a92b45a7b7fc5abea2cccaf0\"><g class=\"toytree-Edges\" style=\"stroke:rgb(14.5%,14.5%,14.5%);stroke-opacity:1.0;stroke-linecap:round;stroke-width:2.0;fill:none\"><path d=\"M 50.8 187.0 L 50.8 218.3 L 131.3 218.3\" id=\"10,0\" style=\"\"></path><path d=\"M 131.3 155.7 L 131.3 186.0 L 211.9 186.0\" id=\"9,1\" style=\"\"></path><path d=\"M 171.6 125.4 L 171.6 153.7 L 211.9 153.7\" id=\"8,2\" style=\"\"></path><path d=\"M 191.7 97.1 L 191.7 121.3 L 201.8 121.3\" id=\"7,3\" style=\"\"></path><path d=\"M 201.8 72.8 L 201.8 89.0 L 211.9 89.0\" id=\"6,4\" style=\"\"></path><path d=\"M 201.8 72.8 L 201.8 56.7 L 211.9 56.7\" id=\"6,5\" style=\"\"></path><path d=\"M 191.7 97.1 L 191.7 72.8 L 201.8 72.8\" id=\"7,6\" style=\"\"></path><path d=\"M 171.6 125.4 L 171.6 97.1 L 191.7 97.1\" id=\"8,7\" style=\"\"></path><path d=\"M 131.3 155.7 L 131.3 125.4 L 171.6 125.4\" id=\"9,8\" style=\"\"></path><path d=\"M 50.8 187.0 L 50.8 155.7 L 131.3 155.7\" id=\"10,9\" style=\"\"></path></g><g class=\"toytree-AdmixEdges\" style=\"fill:rgb(0.0%,0.0%,0.0%);fill-opacity:0.0;stroke:rgb(90.6%,54.1%,76.5%);stroke-opacity:0.6;font-size:14px;stroke-linecap:round;stroke-width:5\"></g><g class=\"toytree-Nodes\" style=\"fill:rgb(40.0%,76.1%,64.7%);fill-opacity:1.0;stroke:rgb(14.9%,14.9%,14.9%);stroke-opacity:1.0;stroke-width:1.5\"></g><g class=\"toytree-TipLabels\" style=\"fill:rgb(14.5%,14.5%,14.5%);fill-opacity:1.0;font-family:Helvetica;font-size:12px;font-weight:300;vertical-align:baseline;white-space:pre;stroke:none\"><g class=\"toytree-TipLabel\" transform=\"translate(131.344,218.347)\"><text x=\"15.0\" y=\"3.066\" style=\"fill:rgb(14.5%,14.5%,14.5%);fill-opacity:1.0\">A</text></g><g class=\"toytree-TipLabel\" transform=\"translate(211.883,186.008)\"><text x=\"15.0\" y=\"3.066\" style=\"fill:rgb(14.5%,14.5%,14.5%);fill-opacity:1.0\">B</text></g><g class=\"toytree-TipLabel\" transform=\"translate(211.883,153.669)\"><text x=\"15.0\" y=\"3.066\" style=\"fill:rgb(14.5%,14.5%,14.5%);fill-opacity:1.0\">C</text></g><g class=\"toytree-TipLabel\" transform=\"translate(201.815,121.331)\"><text x=\"15.0\" y=\"3.066\" style=\"fill:rgb(14.5%,14.5%,14.5%);fill-opacity:1.0\">X</text></g><g class=\"toytree-TipLabel\" transform=\"translate(211.883,88.9916)\"><text x=\"15.0\" y=\"3.066\" style=\"fill:rgb(14.5%,14.5%,14.5%);fill-opacity:1.0\">Y</text></g><g class=\"toytree-TipLabel\" transform=\"translate(211.883,56.6526)\"><text x=\"15.0\" y=\"3.066\" style=\"fill:rgb(14.5%,14.5%,14.5%);fill-opacity:1.0\">Z</text></g></g></g></g></g></svg><div class=\"toyplot-behavior\"><script>(function()\n",
       "{\n",
       "var modules={};\n",
       "})();</script></div></div>"
      ]
     },
     "metadata": {},
     "output_type": "display_data"
    }
   ],
   "source": [
    "import toytree\n",
    "\n",
    "tree = toytree.tree(\"(A,(B,C));\")\n",
    "sub = toytree.tree(\"(X,(Y,Z));\")\n",
    "#add subtree \"sub\" to original tree above node C\n",
    "merged = tree.mod.add_internal_node_and_subtree(\"C\", \n",
    "                                                subtree=sub,\n",
    "                                                parent_name=\"D\", \n",
    "                                                subtree_rescale=True)\n",
    "tree.draw();\n",
    "sub.draw();\n",
    "merged.draw();\n"
   ]
  },
  {
   "cell_type": "markdown",
   "metadata": {},
   "source": [
    "### Removing nodes  \n",
    "\n",
    "`remove_nodes` simply deletes the nodes that are queried. By default, the orphans created by deleting internal nodes (perhaps this metaphor has gone too far) inheret their deleted parents' distances such that their distances reaches their grandparent's original height. The user can alternatively pass in `preserve_dists=False` to have children retain their original distances (while still being connected to their grandparents). "
   ]
  },
  {
   "cell_type": "code",
   "execution_count": 137,
   "metadata": {},
   "outputs": [
    {
     "data": {
      "text/html": [
       "<div class=\"toyplot\" id=\"t9fc934057086465a8af1b95066d783f3\" style=\"text-align:center\"><svg class=\"toyplot-canvas-Canvas\" xmlns:toyplot=\"http://www.sandia.gov/toyplot\" xmlns:xlink=\"http://www.w3.org/1999/xlink\" xmlns=\"http://www.w3.org/2000/svg\" width=\"300.0px\" height=\"275.0px\" viewBox=\"0 0 300.0 275.0\" preserveAspectRatio=\"xMidYMid meet\" style=\"background-color:transparent;border-color:#292724;border-style:none;border-width:1.0;fill:rgb(16.1%,15.3%,14.1%);fill-opacity:1.0;font-family:Helvetica;font-size:12px;opacity:1.0;stroke:rgb(16.1%,15.3%,14.1%);stroke-opacity:1.0;stroke-width:1.0\" id=\"t583c482bd8024eaeb904514413825041\"><g class=\"toyplot-coordinates-Cartesian\" id=\"t394b0503453b4ade89d638d77a52830e\"><clipPath id=\"t1748a8d4fb364b62a240309fe3696ed2\"><rect x=\"35.0\" y=\"35.0\" width=\"230.0\" height=\"205.0\"></rect></clipPath><g clip-path=\"url(#t1748a8d4fb364b62a240309fe3696ed2)\"><g class=\"toytree-mark-Toytree\" id=\"t5e66fd641376440f8fcb980227d982b6\"><g class=\"toytree-Edges\" style=\"stroke:rgb(14.5%,14.5%,14.5%);stroke-opacity:1.0;stroke-linecap:round;stroke-width:2.0;fill:none\"><path d=\"M 50.8 169.8 L 50.8 218.3 L 105.4 218.3\" id=\"9,0\" style=\"\"></path><path d=\"M 50.8 169.8 L 50.8 186.0 L 105.4 186.0\" id=\"9,1\" style=\"\"></path><path d=\"M 160.0 137.5 L 160.0 153.7 L 214.5 153.7\" id=\"6,2\" style=\"\"></path><path d=\"M 160.0 137.5 L 160.0 121.3 L 214.5 121.3\" id=\"6,3\" style=\"\"></path><path d=\"M 160.0 72.8 L 160.0 89.0 L 214.5 89.0\" id=\"7,4\" style=\"\"></path><path d=\"M 160.0 72.8 L 160.0 56.7 L 214.5 56.7\" id=\"7,5\" style=\"\"></path><path d=\"M 105.4 105.2 L 105.4 137.5 L 160.0 137.5\" id=\"8,6\" style=\"\"></path><path d=\"M 105.4 105.2 L 105.4 72.8 L 160.0 72.8\" id=\"8,7\" style=\"\"></path><path d=\"M 50.8 169.8 L 50.8 105.2 L 105.4 105.2\" id=\"9,8\" style=\"\"></path></g><g class=\"toytree-AdmixEdges\" style=\"fill:rgb(0.0%,0.0%,0.0%);fill-opacity:0.0;stroke:rgb(90.6%,54.1%,76.5%);stroke-opacity:0.6;font-size:14px;stroke-linecap:round;stroke-width:5\"></g><g class=\"toytree-Nodes\" style=\"fill:rgb(40.0%,76.1%,64.7%);fill-opacity:1.0;stroke:rgb(14.9%,14.9%,14.9%);stroke-opacity:1.0;stroke-width:1.5\"></g><g class=\"toytree-TipLabels\" style=\"fill:rgb(14.5%,14.5%,14.5%);fill-opacity:1.0;font-family:Helvetica;font-size:12px;font-weight:300;vertical-align:baseline;white-space:pre;stroke:none\"><g class=\"toytree-TipLabel\" transform=\"translate(105.386,218.347)\"><text x=\"15.0\" y=\"3.066\" style=\"fill:rgb(14.5%,14.5%,14.5%);fill-opacity:1.0\">a</text></g><g class=\"toytree-TipLabel\" transform=\"translate(105.386,186.008)\"><text x=\"15.0\" y=\"3.066\" style=\"fill:rgb(14.5%,14.5%,14.5%);fill-opacity:1.0\">b</text></g><g class=\"toytree-TipLabel\" transform=\"translate(214.522,153.669)\"><text x=\"15.0\" y=\"3.066\" style=\"fill:rgb(14.5%,14.5%,14.5%);fill-opacity:1.0\">c</text></g><g class=\"toytree-TipLabel\" transform=\"translate(214.522,121.331)\"><text x=\"15.0\" y=\"3.066\" style=\"fill:rgb(14.5%,14.5%,14.5%);fill-opacity:1.0\">d</text></g><g class=\"toytree-TipLabel\" transform=\"translate(214.522,88.9916)\"><text x=\"15.0\" y=\"3.066\" style=\"fill:rgb(14.5%,14.5%,14.5%);fill-opacity:1.0\">e</text></g><g class=\"toytree-TipLabel\" transform=\"translate(214.522,56.6526)\"><text x=\"15.0\" y=\"3.066\" style=\"fill:rgb(14.5%,14.5%,14.5%);fill-opacity:1.0\">f</text></g></g></g></g></g></svg><div class=\"toyplot-behavior\"><script>(function()\n",
       "{\n",
       "var modules={};\n",
       "})();</script></div></div>"
      ]
     },
     "metadata": {},
     "output_type": "display_data"
    },
    {
     "data": {
      "text/html": [
       "<div class=\"toyplot\" id=\"t6c35d59256dd479bb27f70b386e26d2a\" style=\"text-align:center\"><svg class=\"toyplot-canvas-Canvas\" xmlns:toyplot=\"http://www.sandia.gov/toyplot\" xmlns:xlink=\"http://www.w3.org/1999/xlink\" xmlns=\"http://www.w3.org/2000/svg\" width=\"300.0px\" height=\"275.0px\" viewBox=\"0 0 300.0 275.0\" preserveAspectRatio=\"xMidYMid meet\" style=\"background-color:transparent;border-color:#292724;border-style:none;border-width:1.0;fill:rgb(16.1%,15.3%,14.1%);fill-opacity:1.0;font-family:Helvetica;font-size:12px;opacity:1.0;stroke:rgb(16.1%,15.3%,14.1%);stroke-opacity:1.0;stroke-width:1.0\" id=\"tbc190b11ec8c46328c29f660be81c33b\"><g class=\"toyplot-coordinates-Cartesian\" id=\"t3644e8ba6eff4442bb05f8eb74b685c4\"><clipPath id=\"t6f9619b0fb794da780ab602bfb4aa2f1\"><rect x=\"35.0\" y=\"35.0\" width=\"230.0\" height=\"205.0\"></rect></clipPath><g clip-path=\"url(#t6f9619b0fb794da780ab602bfb4aa2f1)\"><g class=\"toytree-mark-Toytree\" id=\"t24e52c1b8f9d465496643a84c411b9a8\"><g class=\"toytree-Edges\" style=\"stroke:rgb(14.5%,14.5%,14.5%);stroke-opacity:1.0;stroke-linecap:round;stroke-width:2.0;fill:none\"><path d=\"M 50.8 164.4 L 50.8 218.3 L 105.4 218.3\" id=\"6,0\" style=\"\"></path><path d=\"M 160.0 164.4 L 160.0 164.4 L 214.5 164.4\" id=\"4,1\" style=\"\"></path><path d=\"M 105.4 110.6 L 105.4 110.6 L 214.5 110.6\" id=\"5,2\" style=\"\"></path><path d=\"M 105.4 110.6 L 105.4 56.7 L 214.5 56.7\" id=\"5,3\" style=\"\"></path><path d=\"M 105.4 110.6 L 105.4 164.4 L 160.0 164.4\" id=\"5,4\" style=\"\"></path><path d=\"M 50.8 164.4 L 50.8 110.6 L 105.4 110.6\" id=\"6,5\" style=\"\"></path></g><g class=\"toytree-AdmixEdges\" style=\"fill:rgb(0.0%,0.0%,0.0%);fill-opacity:0.0;stroke:rgb(90.6%,54.1%,76.5%);stroke-opacity:0.6;font-size:14px;stroke-linecap:round;stroke-width:5\"></g><g class=\"toytree-Nodes\" style=\"fill:rgb(40.0%,76.1%,64.7%);fill-opacity:1.0;stroke:rgb(14.9%,14.9%,14.9%);stroke-opacity:1.0;stroke-width:1.5\"></g><g class=\"toytree-TipLabels\" style=\"fill:rgb(14.5%,14.5%,14.5%);fill-opacity:1.0;font-family:Helvetica;font-size:12px;font-weight:300;vertical-align:baseline;white-space:pre;stroke:none\"><g class=\"toytree-TipLabel\" transform=\"translate(105.386,218.347)\"><text x=\"15.0\" y=\"3.066\" style=\"fill:rgb(14.5%,14.5%,14.5%);fill-opacity:1.0\">a</text></g><g class=\"toytree-TipLabel\" transform=\"translate(214.522,164.449)\"><text x=\"15.0\" y=\"3.066\" style=\"fill:rgb(14.5%,14.5%,14.5%);fill-opacity:1.0\">d</text></g><g class=\"toytree-TipLabel\" transform=\"translate(214.522,110.551)\"><text x=\"15.0\" y=\"3.066\" style=\"fill:rgb(14.5%,14.5%,14.5%);fill-opacity:1.0\">e</text></g><g class=\"toytree-TipLabel\" transform=\"translate(214.522,56.6526)\"><text x=\"15.0\" y=\"3.066\" style=\"fill:rgb(14.5%,14.5%,14.5%);fill-opacity:1.0\">f</text></g></g></g></g></g></svg><div class=\"toyplot-behavior\"><script>(function()\n",
       "{\n",
       "var modules={};\n",
       "})();</script></div></div>"
      ]
     },
     "metadata": {},
     "output_type": "display_data"
    }
   ],
   "source": [
    "import toytree \n",
    "\n",
    "tree = toytree.tree(\"(a,b,((c,d)CD,(e,f)EF)X)AB;\")\n",
    "mod_tree = tree.mod.remove_nodes(\"b\", \"c\", \"EF\")\n",
    "tree.draw();\n",
    "mod_tree.draw();"
   ]
  },
  {
   "cell_type": "markdown",
   "metadata": {},
   "source": [
    "### Removing unary nodes  \n",
    "\n",
    "The _`.mod`_ subpackage also offers `remove_unary_nodes()`, a method to quickly remove all `unary Nodes`, or Nodes that have exactly 1 child. This way, the ToyTree object returned will ony contain tips and internal Nodes with $\\geq 2$ children. This method does not take in any arguments other than the ToyTree object (unless called using `tree.mod.remove_unary_nodes()`) and `inplace=` to determine whether or not to modify the original tree or make a copy."
   ]
  },
  {
   "cell_type": "code",
   "execution_count": 150,
   "metadata": {},
   "outputs": [
    {
     "data": {
      "text/html": [
       "<div class=\"toyplot\" id=\"tcddc37b727b94e4d9d369ae79bb882ca\" style=\"text-align:center\"><svg class=\"toyplot-canvas-Canvas\" xmlns:toyplot=\"http://www.sandia.gov/toyplot\" xmlns:xlink=\"http://www.w3.org/1999/xlink\" xmlns=\"http://www.w3.org/2000/svg\" width=\"300.0px\" height=\"275.0px\" viewBox=\"0 0 300.0 275.0\" preserveAspectRatio=\"xMidYMid meet\" style=\"background-color:transparent;border-color:#292724;border-style:none;border-width:1.0;fill:rgb(16.1%,15.3%,14.1%);fill-opacity:1.0;font-family:Helvetica;font-size:12px;opacity:1.0;stroke:rgb(16.1%,15.3%,14.1%);stroke-opacity:1.0;stroke-width:1.0\" id=\"td4185284769d49d6ab67826df0292637\"><g class=\"toyplot-coordinates-Cartesian\" id=\"tebdd9d86545a408b982d30ac5058cc07\"><clipPath id=\"teb334a10f5a64446a41b79b1fd94cdd6\"><rect x=\"35.0\" y=\"35.0\" width=\"230.0\" height=\"205.0\"></rect></clipPath><g clip-path=\"url(#teb334a10f5a64446a41b79b1fd94cdd6)\"><g class=\"toytree-mark-Toytree\" id=\"tc8ce06acb31147aa974cafdaac533c79\"><g class=\"toytree-Edges\" style=\"stroke:rgb(14.5%,14.5%,14.5%);stroke-opacity:1.0;stroke-linecap:round;stroke-width:2.0;fill:none\"><path d=\"M 109.6 216.4 L 109.6 216.4 L 161.8 216.4\" id=\"3,0\" style=\"\"></path><path d=\"M 161.8 137.5 L 161.8 137.5 L 214.0 137.5\" id=\"4,1\" style=\"\"></path><path d=\"M 161.8 58.6 L 161.8 58.6 L 214.0 58.6\" id=\"5,2\" style=\"\"></path><path d=\"M 57.4 157.2 L 57.4 216.4 L 109.6 216.4\" id=\"7,3\" style=\"\"></path><path d=\"M 109.6 98.0 L 109.6 137.5 L 161.8 137.5\" id=\"6,4\" style=\"\"></path><path d=\"M 109.6 98.0 L 109.6 58.6 L 161.8 58.6\" id=\"6,5\" style=\"\"></path><path d=\"M 57.4 157.2 L 57.4 98.0 L 109.6 98.0\" id=\"7,6\" style=\"\"></path></g><g class=\"toytree-AdmixEdges\" style=\"fill:rgb(0.0%,0.0%,0.0%);fill-opacity:0.0;stroke:rgb(90.6%,54.1%,76.5%);stroke-opacity:0.6;font-size:14px;stroke-linecap:round;stroke-width:5\"></g><g class=\"toytree-Nodes\" style=\"fill:rgb(0.0%,0.0%,0.0%);fill-opacity:1.0;stroke:rgb(14.9%,14.9%,14.9%);stroke-opacity:1.0;stroke-width:1.5\"><g id=\"Node-0\" transform=\"translate(161.803,216.43)\"><rect x=\"-8.0\" y=\"-8.0\" width=\"16\" height=\"16\"></rect></g><g id=\"Node-1\" transform=\"translate(213.987,137.5)\"><rect x=\"-8.0\" y=\"-8.0\" width=\"16\" height=\"16\"></rect></g><g id=\"Node-2\" transform=\"translate(213.987,58.5696)\"><rect x=\"-8.0\" y=\"-8.0\" width=\"16\" height=\"16\"></rect></g><g id=\"Node-3\" transform=\"translate(109.62,216.43)\"><rect x=\"-8.0\" y=\"-8.0\" width=\"16\" height=\"16\"></rect></g><g id=\"Node-4\" transform=\"translate(161.803,137.5)\"><rect x=\"-8.0\" y=\"-8.0\" width=\"16\" height=\"16\"></rect></g><g id=\"Node-5\" transform=\"translate(161.803,58.5696)\"><rect x=\"-8.0\" y=\"-8.0\" width=\"16\" height=\"16\"></rect></g><g id=\"Node-6\" transform=\"translate(109.62,98.0348)\"><rect x=\"-8.0\" y=\"-8.0\" width=\"16\" height=\"16\"></rect></g><g id=\"Node-7\" transform=\"translate(57.4362,157.233)\"><rect x=\"-8.0\" y=\"-8.0\" width=\"16\" height=\"16\"></rect></g></g><g class=\"toytree-NodeLabels\" style=\"font-family:Helvetica;font-size:9px;font-weight:300;vertical-align:baseline;white-space:pre;stroke:none\"><g class=\"toytree-NodeLabel\" transform=\"translate(161.803,216.43)\"><text x=\"-3.501\" y=\"2.2995\" style=\"fill:rgb(100.0%,100.0%,100.0%);fill-opacity:1.0\">G</text></g><g class=\"toytree-NodeLabel\" transform=\"translate(213.987,137.5)\"><text x=\"-2.7495\" y=\"2.2995\" style=\"fill:rgb(100.0%,100.0%,100.0%);fill-opacity:1.0\">F</text></g><g class=\"toytree-NodeLabel\" transform=\"translate(213.987,58.5696)\"><text x=\"-3.0015\" y=\"2.2995\" style=\"fill:rgb(100.0%,100.0%,100.0%);fill-opacity:1.0\">E</text></g><g class=\"toytree-NodeLabel\" transform=\"translate(109.62,216.43)\"><text x=\"-3.0015\" y=\"2.2995\" style=\"fill:rgb(100.0%,100.0%,100.0%);fill-opacity:1.0\">A</text></g><g class=\"toytree-NodeLabel\" transform=\"translate(161.803,137.5)\"><text x=\"-3.0015\" y=\"2.2995\" style=\"fill:rgb(100.0%,100.0%,100.0%);fill-opacity:1.0\">B</text></g><g class=\"toytree-NodeLabel\" transform=\"translate(161.803,58.5696)\"><text x=\"-3.249\" y=\"2.2995\" style=\"fill:rgb(100.0%,100.0%,100.0%);fill-opacity:1.0\">C</text></g><g class=\"toytree-NodeLabel\" transform=\"translate(109.62,98.0348)\"><text x=\"-3.0015\" y=\"2.2995\" style=\"fill:rgb(100.0%,100.0%,100.0%);fill-opacity:1.0\">X</text></g><g class=\"toytree-NodeLabel\" transform=\"translate(57.4362,157.233)\"><text x=\"-3.0015\" y=\"2.2995\" style=\"fill:rgb(100.0%,100.0%,100.0%);fill-opacity:1.0\">Y</text></g></g><g class=\"toytree-TipLabels\" style=\"fill:rgb(14.5%,14.5%,14.5%);fill-opacity:1.0;font-family:Helvetica;font-size:12px;font-weight:300;vertical-align:baseline;white-space:pre;stroke:none\"><g class=\"toytree-TipLabel\" transform=\"translate(161.803,216.43)\"><text x=\"15.0\" y=\"3.066\" style=\"fill:rgb(14.5%,14.5%,14.5%);fill-opacity:1.0\">G</text></g><g class=\"toytree-TipLabel\" transform=\"translate(213.987,137.5)\"><text x=\"15.0\" y=\"3.066\" style=\"fill:rgb(14.5%,14.5%,14.5%);fill-opacity:1.0\">F</text></g><g class=\"toytree-TipLabel\" transform=\"translate(213.987,58.5696)\"><text x=\"15.0\" y=\"3.066\" style=\"fill:rgb(14.5%,14.5%,14.5%);fill-opacity:1.0\">E</text></g></g></g></g></g></svg><div class=\"toyplot-behavior\"><script>(function()\n",
       "{\n",
       "var modules={};\n",
       "})();</script></div></div>"
      ]
     },
     "metadata": {},
     "output_type": "display_data"
    },
    {
     "data": {
      "text/html": [
       "<div class=\"toyplot\" id=\"tcd51d2ef10914b71bbaa4d7d4700a3d3\" style=\"text-align:center\"><svg class=\"toyplot-canvas-Canvas\" xmlns:toyplot=\"http://www.sandia.gov/toyplot\" xmlns:xlink=\"http://www.w3.org/1999/xlink\" xmlns=\"http://www.w3.org/2000/svg\" width=\"300.0px\" height=\"275.0px\" viewBox=\"0 0 300.0 275.0\" preserveAspectRatio=\"xMidYMid meet\" style=\"background-color:transparent;border-color:#292724;border-style:none;border-width:1.0;fill:rgb(16.1%,15.3%,14.1%);fill-opacity:1.0;font-family:Helvetica;font-size:12px;opacity:1.0;stroke:rgb(16.1%,15.3%,14.1%);stroke-opacity:1.0;stroke-width:1.0\" id=\"t20ad11e3ac144c16b238297587eacd6a\"><g class=\"toyplot-coordinates-Cartesian\" id=\"t64442045b71f4bf1868ea6b317a06fe5\"><clipPath id=\"td3938eceb3124c749b10cd173cb78264\"><rect x=\"35.0\" y=\"35.0\" width=\"230.0\" height=\"205.0\"></rect></clipPath><g clip-path=\"url(#td3938eceb3124c749b10cd173cb78264)\"><g class=\"toytree-mark-Toytree\" id=\"t87c7919245504401a6aecf60dffd5389\"><g class=\"toytree-Edges\" style=\"stroke:rgb(14.5%,14.5%,14.5%);stroke-opacity:1.0;stroke-linecap:round;stroke-width:2.0;fill:none\"><path d=\"M 57.4 157.2 L 57.4 216.4 L 161.8 216.4\" id=\"4,0\" style=\"\"></path><path d=\"M 109.6 98.0 L 109.6 137.5 L 214.0 137.5\" id=\"3,1\" style=\"\"></path><path d=\"M 109.6 98.0 L 109.6 58.6 L 214.0 58.6\" id=\"3,2\" style=\"\"></path><path d=\"M 57.4 157.2 L 57.4 98.0 L 109.6 98.0\" id=\"4,3\" style=\"\"></path></g><g class=\"toytree-AdmixEdges\" style=\"fill:rgb(0.0%,0.0%,0.0%);fill-opacity:0.0;stroke:rgb(90.6%,54.1%,76.5%);stroke-opacity:0.6;font-size:14px;stroke-linecap:round;stroke-width:5\"></g><g class=\"toytree-Nodes\" style=\"fill:rgb(0.0%,0.0%,0.0%);fill-opacity:1.0;stroke:rgb(14.9%,14.9%,14.9%);stroke-opacity:1.0;stroke-width:1.5\"><g id=\"Node-0\" transform=\"translate(161.803,216.43)\"><rect x=\"-8.0\" y=\"-8.0\" width=\"16\" height=\"16\"></rect></g><g id=\"Node-1\" transform=\"translate(213.987,137.5)\"><rect x=\"-8.0\" y=\"-8.0\" width=\"16\" height=\"16\"></rect></g><g id=\"Node-2\" transform=\"translate(213.987,58.5696)\"><rect x=\"-8.0\" y=\"-8.0\" width=\"16\" height=\"16\"></rect></g><g id=\"Node-3\" transform=\"translate(109.62,98.0348)\"><rect x=\"-8.0\" y=\"-8.0\" width=\"16\" height=\"16\"></rect></g><g id=\"Node-4\" transform=\"translate(57.4362,157.233)\"><rect x=\"-8.0\" y=\"-8.0\" width=\"16\" height=\"16\"></rect></g></g><g class=\"toytree-NodeLabels\" style=\"font-family:Helvetica;font-size:9px;font-weight:300;vertical-align:baseline;white-space:pre;stroke:none\"><g class=\"toytree-NodeLabel\" transform=\"translate(161.803,216.43)\"><text x=\"-3.501\" y=\"2.2995\" style=\"fill:rgb(100.0%,100.0%,100.0%);fill-opacity:1.0\">G</text></g><g class=\"toytree-NodeLabel\" transform=\"translate(213.987,137.5)\"><text x=\"-2.7495\" y=\"2.2995\" style=\"fill:rgb(100.0%,100.0%,100.0%);fill-opacity:1.0\">F</text></g><g class=\"toytree-NodeLabel\" transform=\"translate(213.987,58.5696)\"><text x=\"-3.0015\" y=\"2.2995\" style=\"fill:rgb(100.0%,100.0%,100.0%);fill-opacity:1.0\">E</text></g><g class=\"toytree-NodeLabel\" transform=\"translate(109.62,98.0348)\"><text x=\"-3.0015\" y=\"2.2995\" style=\"fill:rgb(100.0%,100.0%,100.0%);fill-opacity:1.0\">X</text></g><g class=\"toytree-NodeLabel\" transform=\"translate(57.4362,157.233)\"><text x=\"-3.0015\" y=\"2.2995\" style=\"fill:rgb(100.0%,100.0%,100.0%);fill-opacity:1.0\">Y</text></g></g><g class=\"toytree-TipLabels\" style=\"fill:rgb(14.5%,14.5%,14.5%);fill-opacity:1.0;font-family:Helvetica;font-size:12px;font-weight:300;vertical-align:baseline;white-space:pre;stroke:none\"><g class=\"toytree-TipLabel\" transform=\"translate(161.803,216.43)\"><text x=\"15.0\" y=\"3.066\" style=\"fill:rgb(14.5%,14.5%,14.5%);fill-opacity:1.0\">G</text></g><g class=\"toytree-TipLabel\" transform=\"translate(213.987,137.5)\"><text x=\"15.0\" y=\"3.066\" style=\"fill:rgb(14.5%,14.5%,14.5%);fill-opacity:1.0\">F</text></g><g class=\"toytree-TipLabel\" transform=\"translate(213.987,58.5696)\"><text x=\"15.0\" y=\"3.066\" style=\"fill:rgb(14.5%,14.5%,14.5%);fill-opacity:1.0\">E</text></g></g></g></g></g></svg><div class=\"toyplot-behavior\"><script>(function()\n",
       "{\n",
       "var modules={};\n",
       "})();</script></div></div>"
      ]
     },
     "metadata": {},
     "output_type": "display_data"
    }
   ],
   "source": [
    "import toytree\n",
    "\n",
    "tree = toytree.tree(\"(A,(B,C)X)Y;\")\n",
    "tree = tree.mod.add_child_node(\"C\", name=\"E\").mod.add_child_node(\"B\", name=\"F\").mod.add_child_node(\"A\", name=\"G\")\n",
    "tree.draw(\n",
    "    node_mask = False,\n",
    "    node_sizes = 16,\n",
    "    node_markers = \"s\",\n",
    "    node_style= {\"fill\": \"black\"},\n",
    "    node_labels=\"name\",\n",
    "    node_labels_style= {\"fill\": \"white\"}\n",
    "    );\n",
    "simplified = tree.mod.remove_unary_nodes().mod.rotate_node(\"Y\")\n",
    "simplified.draw(\n",
    "    node_mask = False,\n",
    "    node_sizes = 16,\n",
    "    node_markers = \"s\",\n",
    "    node_style= {\"fill\": \"black\"},\n",
    "    node_labels=\"name\",\n",
    "    node_labels_style= {\"fill\": \"white\"}\n",
    ");"
   ]
  },
  {
   "cell_type": "markdown",
   "metadata": {},
   "source": [
    "### Collapsing nodes  \n",
    "\n",
    "`mod.collapse_nodes()` can be called on an internal node to collapse it into a multi-furcating polytomy. This can either be done by passing in particular Node labels, or by providing a minimum distance `min_dist` or minimum support value `min_support`. These represent the minimum value allowed for the Node to _stay_. That is - every internal Node with value _less than_ the min value provided will be collapsed."
   ]
  },
  {
   "cell_type": "code",
   "execution_count": 204,
   "metadata": {},
   "outputs": [
    {
     "data": {
      "text/html": [
       "<div class=\"toyplot\" id=\"t0a7c862a4d7e4613a33da3cd3229239d\" style=\"text-align:center\"><svg class=\"toyplot-canvas-Canvas\" xmlns:toyplot=\"http://www.sandia.gov/toyplot\" xmlns:xlink=\"http://www.w3.org/1999/xlink\" xmlns=\"http://www.w3.org/2000/svg\" width=\"300.0px\" height=\"275.0px\" viewBox=\"0 0 300.0 275.0\" preserveAspectRatio=\"xMidYMid meet\" style=\"background-color:transparent;border-color:#292724;border-style:none;border-width:1.0;fill:rgb(16.1%,15.3%,14.1%);fill-opacity:1.0;font-family:Helvetica;font-size:12px;opacity:1.0;stroke:rgb(16.1%,15.3%,14.1%);stroke-opacity:1.0;stroke-width:1.0\" id=\"t0948d73703ba47ffbc43d73ddb443917\"><g class=\"toyplot-coordinates-Cartesian\" id=\"tec59ac740af34c36bdb6a6639b1bca60\"><clipPath id=\"t2a12ee1304d24e8e948347a7645b65f0\"><rect x=\"35.0\" y=\"35.0\" width=\"230.0\" height=\"205.0\"></rect></clipPath><g clip-path=\"url(#t2a12ee1304d24e8e948347a7645b65f0)\"><g class=\"toytree-mark-Toytree\" id=\"t21dae8e3486044babd3ae67d57976977\"><g class=\"toytree-Edges\" style=\"stroke:rgb(14.5%,14.5%,14.5%);stroke-opacity:1.0;stroke-linecap:round;stroke-width:2.0;fill:none\"><path d=\"M 134.6 218.3 L 134.6 218.3 L 174.1 218.3\" id=\"5,0\" style=\"\"></path><path d=\"M 174.1 177.9 L 174.1 177.9 L 213.6 177.9\" id=\"6,1\" style=\"\"></path><path d=\"M 134.6 157.7 L 134.6 137.5 L 174.1 137.5\" id=\"7,2\" style=\"\"></path><path d=\"M 75.3 76.9 L 75.3 97.1 L 95.1 97.1\" id=\"9,3\" style=\"\"></path><path d=\"M 75.3 76.9 L 75.3 56.7 L 95.1 56.7\" id=\"9,4\" style=\"\"></path><path d=\"M 95.1 188.0 L 95.1 218.3 L 134.6 218.3\" id=\"8,5\" style=\"\"></path><path d=\"M 134.6 157.7 L 134.6 177.9 L 174.1 177.9\" id=\"7,6\" style=\"\"></path><path d=\"M 95.1 188.0 L 95.1 157.7 L 134.6 157.7\" id=\"8,7\" style=\"\"></path><path d=\"M 55.5 132.4 L 55.5 188.0 L 95.1 188.0\" id=\"10,8\" style=\"\"></path><path d=\"M 55.5 132.4 L 55.5 76.9 L 75.3 76.9\" id=\"10,9\" style=\"\"></path></g><g class=\"toytree-AdmixEdges\" style=\"fill:rgb(0.0%,0.0%,0.0%);fill-opacity:0.0;stroke:rgb(90.6%,54.1%,76.5%);stroke-opacity:0.6;font-size:14px;stroke-linecap:round;stroke-width:5\"></g><g class=\"toytree-Nodes\" style=\"fill:rgb(0.0%,0.0%,0.0%);fill-opacity:1.0;stroke:rgb(14.9%,14.9%,14.9%);stroke-opacity:1.0;stroke-width:1.5\"><g id=\"Node-0\" transform=\"translate(174.107,218.347)\"><rect x=\"-5.5\" y=\"-5.5\" width=\"11\" height=\"11\"></rect></g><g id=\"Node-1\" transform=\"translate(213.631,177.924)\"><rect x=\"-5.5\" y=\"-5.5\" width=\"11\" height=\"11\"></rect></g><g id=\"Node-2\" transform=\"translate(174.107,137.5)\"><rect x=\"-5.5\" y=\"-5.5\" width=\"11\" height=\"11\"></rect></g><g id=\"Node-3\" transform=\"translate(95.0579,97.0763)\"><rect x=\"-5.5\" y=\"-5.5\" width=\"11\" height=\"11\"></rect></g><g id=\"Node-4\" transform=\"translate(95.0579,56.6526)\"><rect x=\"-5.5\" y=\"-5.5\" width=\"11\" height=\"11\"></rect></g><g id=\"Node-5\" transform=\"translate(134.582,218.347)\"><rect x=\"-5.5\" y=\"-5.5\" width=\"11\" height=\"11\"></rect></g><g id=\"Node-6\" transform=\"translate(174.107,177.924)\"><rect x=\"-5.5\" y=\"-5.5\" width=\"11\" height=\"11\"></rect></g><g id=\"Node-7\" transform=\"translate(134.582,157.712)\"><rect x=\"-5.5\" y=\"-5.5\" width=\"11\" height=\"11\"></rect></g><g id=\"Node-8\" transform=\"translate(95.0579,188.03)\"><rect x=\"-5.5\" y=\"-5.5\" width=\"11\" height=\"11\"></rect></g><g id=\"Node-9\" transform=\"translate(75.2956,76.8644)\"><rect x=\"-5.5\" y=\"-5.5\" width=\"11\" height=\"11\"></rect></g><g id=\"Node-10\" transform=\"translate(55.5334,132.447)\"><rect x=\"-5.5\" y=\"-5.5\" width=\"11\" height=\"11\"></rect></g></g><g class=\"toytree-NodeLabels\" style=\"font-family:Helvetica;font-size:9px;font-weight:300;vertical-align:baseline;white-space:pre;stroke:none\"><g class=\"toytree-NodeLabel\" transform=\"translate(174.107,218.347)\"><text x=\"-2.7495\" y=\"2.2995\" style=\"fill:rgb(100.0%,100.0%,100.0%);fill-opacity:1.0\">F</text></g><g class=\"toytree-NodeLabel\" transform=\"translate(213.631,177.924)\"><text x=\"-3.0015\" y=\"2.2995\" style=\"fill:rgb(100.0%,100.0%,100.0%);fill-opacity:1.0\">E</text></g><g class=\"toytree-NodeLabel\" transform=\"translate(174.107,137.5)\"><text x=\"-3.249\" y=\"2.2995\" style=\"fill:rgb(100.0%,100.0%,100.0%);fill-opacity:1.0\">D</text></g><g class=\"toytree-NodeLabel\" transform=\"translate(95.0579,97.0763)\"><text x=\"-3.0015\" y=\"2.2995\" style=\"fill:rgb(100.0%,100.0%,100.0%);fill-opacity:1.0\">A</text></g><g class=\"toytree-NodeLabel\" transform=\"translate(95.0579,56.6526)\"><text x=\"-3.501\" y=\"2.2995\" style=\"fill:rgb(100.0%,100.0%,100.0%);fill-opacity:1.0\">G</text></g><g class=\"toytree-NodeLabel\" transform=\"translate(134.582,218.347)\"><text x=\"-3.0015\" y=\"2.2995\" style=\"fill:rgb(100.0%,100.0%,100.0%);fill-opacity:1.0\">B</text></g><g class=\"toytree-NodeLabel\" transform=\"translate(174.107,177.924)\"><text x=\"-3.249\" y=\"2.2995\" style=\"fill:rgb(100.0%,100.0%,100.0%);fill-opacity:1.0\">C</text></g><g class=\"toytree-NodeLabel\" transform=\"translate(134.582,157.712)\"><text x=\"-3.0015\" y=\"2.2995\" style=\"fill:rgb(100.0%,100.0%,100.0%);fill-opacity:1.0\">X</text></g><g class=\"toytree-NodeLabel\" transform=\"translate(95.0579,188.03)\"><text x=\"-3.0015\" y=\"2.2995\" style=\"fill:rgb(100.0%,100.0%,100.0%);fill-opacity:1.0\">Y</text></g><g class=\"toytree-NodeLabel\" transform=\"translate(75.2956,76.8644)\"><text x=\"-3.249\" y=\"2.2995\" style=\"fill:rgb(100.0%,100.0%,100.0%);fill-opacity:1.0\">H</text></g><g class=\"toytree-NodeLabel\" transform=\"translate(55.5334,132.447)\"><text x=\"-2.7495\" y=\"2.2995\" style=\"fill:rgb(100.0%,100.0%,100.0%);fill-opacity:1.0\">Z</text></g></g><g class=\"toytree-TipLabels\" style=\"fill:rgb(14.5%,14.5%,14.5%);fill-opacity:1.0;font-family:Helvetica;font-size:12px;font-weight:300;vertical-align:baseline;white-space:pre;stroke:none\"><g class=\"toytree-TipLabel\" transform=\"translate(174.107,218.347)\"><text x=\"15.0\" y=\"3.066\" style=\"fill:rgb(14.5%,14.5%,14.5%);fill-opacity:1.0\">F</text></g><g class=\"toytree-TipLabel\" transform=\"translate(213.631,177.924)\"><text x=\"15.0\" y=\"3.066\" style=\"fill:rgb(14.5%,14.5%,14.5%);fill-opacity:1.0\">E</text></g><g class=\"toytree-TipLabel\" transform=\"translate(174.107,137.5)\"><text x=\"15.0\" y=\"3.066\" style=\"fill:rgb(14.5%,14.5%,14.5%);fill-opacity:1.0\">D</text></g><g class=\"toytree-TipLabel\" transform=\"translate(95.0579,97.0763)\"><text x=\"15.0\" y=\"3.066\" style=\"fill:rgb(14.5%,14.5%,14.5%);fill-opacity:1.0\">A</text></g><g class=\"toytree-TipLabel\" transform=\"translate(95.0579,56.6526)\"><text x=\"15.0\" y=\"3.066\" style=\"fill:rgb(14.5%,14.5%,14.5%);fill-opacity:1.0\">G</text></g></g></g></g></g></svg><div class=\"toyplot-behavior\"><script>(function()\n",
       "{\n",
       "var modules={};\n",
       "})();</script></div></div>"
      ]
     },
     "metadata": {},
     "output_type": "display_data"
    },
    {
     "data": {
      "text/html": [
       "<div class=\"toyplot\" id=\"tdd66ed697c29451b885463a2a091e660\" style=\"text-align:center\"><svg class=\"toyplot-canvas-Canvas\" xmlns:toyplot=\"http://www.sandia.gov/toyplot\" xmlns:xlink=\"http://www.w3.org/1999/xlink\" xmlns=\"http://www.w3.org/2000/svg\" width=\"300.0px\" height=\"275.0px\" viewBox=\"0 0 300.0 275.0\" preserveAspectRatio=\"xMidYMid meet\" style=\"background-color:transparent;border-color:#292724;border-style:none;border-width:1.0;fill:rgb(16.1%,15.3%,14.1%);fill-opacity:1.0;font-family:Helvetica;font-size:12px;opacity:1.0;stroke:rgb(16.1%,15.3%,14.1%);stroke-opacity:1.0;stroke-width:1.0\" id=\"t82e84c67751a4a96816cd7bc3ef91740\"><g class=\"toyplot-coordinates-Cartesian\" id=\"t2f8619882f124afa8f5943ff2d28759d\"><clipPath id=\"t60a3fbeadb6b424490499d5f565268f2\"><rect x=\"35.0\" y=\"35.0\" width=\"230.0\" height=\"205.0\"></rect></clipPath><g clip-path=\"url(#t60a3fbeadb6b424490499d5f565268f2)\"><g class=\"toytree-mark-Toytree\" id=\"te0e83aafb8c24762ab987740dcb2fcc3\"><g class=\"toytree-Edges\" style=\"stroke:rgb(14.5%,14.5%,14.5%);stroke-opacity:1.0;stroke-linecap:round;stroke-width:2.0;fill:none\"><path d=\"M 134.6 218.3 L 134.6 218.3 L 174.1 218.3\" id=\"5,0\" style=\"\"></path><path d=\"M 174.1 177.9 L 174.1 177.9 L 213.6 177.9\" id=\"6,1\" style=\"\"></path><path d=\"M 95.1 177.9 L 95.1 137.5 L 174.1 137.5\" id=\"7,2\" style=\"\"></path><path d=\"M 55.5 110.6 L 55.5 97.1 L 95.1 97.1\" id=\"8,3\" style=\"\"></path><path d=\"M 55.5 110.6 L 55.5 56.7 L 95.1 56.7\" id=\"8,4\" style=\"\"></path><path d=\"M 95.1 177.9 L 95.1 218.3 L 134.6 218.3\" id=\"7,5\" style=\"\"></path><path d=\"M 95.1 177.9 L 95.1 177.9 L 174.1 177.9\" id=\"7,6\" style=\"\"></path><path d=\"M 55.5 110.6 L 55.5 177.9 L 95.1 177.9\" id=\"8,7\" style=\"\"></path></g><g class=\"toytree-AdmixEdges\" style=\"fill:rgb(0.0%,0.0%,0.0%);fill-opacity:0.0;stroke:rgb(90.6%,54.1%,76.5%);stroke-opacity:0.6;font-size:14px;stroke-linecap:round;stroke-width:5\"></g><g class=\"toytree-Nodes\" style=\"fill:rgb(0.0%,0.0%,0.0%);fill-opacity:1.0;stroke:rgb(14.9%,14.9%,14.9%);stroke-opacity:1.0;stroke-width:1.5\"><g id=\"Node-0\" transform=\"translate(174.107,218.347)\"><rect x=\"-5.5\" y=\"-5.5\" width=\"11\" height=\"11\"></rect></g><g id=\"Node-1\" transform=\"translate(213.631,177.924)\"><rect x=\"-5.5\" y=\"-5.5\" width=\"11\" height=\"11\"></rect></g><g id=\"Node-2\" transform=\"translate(174.107,137.5)\"><rect x=\"-5.5\" y=\"-5.5\" width=\"11\" height=\"11\"></rect></g><g id=\"Node-3\" transform=\"translate(95.0579,97.0763)\"><rect x=\"-5.5\" y=\"-5.5\" width=\"11\" height=\"11\"></rect></g><g id=\"Node-4\" transform=\"translate(95.0579,56.6526)\"><rect x=\"-5.5\" y=\"-5.5\" width=\"11\" height=\"11\"></rect></g><g id=\"Node-5\" transform=\"translate(134.582,218.347)\"><rect x=\"-5.5\" y=\"-5.5\" width=\"11\" height=\"11\"></rect></g><g id=\"Node-6\" transform=\"translate(174.107,177.924)\"><rect x=\"-5.5\" y=\"-5.5\" width=\"11\" height=\"11\"></rect></g><g id=\"Node-7\" transform=\"translate(95.0579,177.924)\"><rect x=\"-5.5\" y=\"-5.5\" width=\"11\" height=\"11\"></rect></g><g id=\"Node-8\" transform=\"translate(55.5334,110.551)\"><rect x=\"-5.5\" y=\"-5.5\" width=\"11\" height=\"11\"></rect></g></g><g class=\"toytree-NodeLabels\" style=\"font-family:Helvetica;font-size:9px;font-weight:300;vertical-align:baseline;white-space:pre;stroke:none\"><g class=\"toytree-NodeLabel\" transform=\"translate(174.107,218.347)\"><text x=\"-2.7495\" y=\"2.2995\" style=\"fill:rgb(100.0%,100.0%,100.0%);fill-opacity:1.0\">F</text></g><g class=\"toytree-NodeLabel\" transform=\"translate(213.631,177.924)\"><text x=\"-3.0015\" y=\"2.2995\" style=\"fill:rgb(100.0%,100.0%,100.0%);fill-opacity:1.0\">E</text></g><g class=\"toytree-NodeLabel\" transform=\"translate(174.107,137.5)\"><text x=\"-3.249\" y=\"2.2995\" style=\"fill:rgb(100.0%,100.0%,100.0%);fill-opacity:1.0\">D</text></g><g class=\"toytree-NodeLabel\" transform=\"translate(95.0579,97.0763)\"><text x=\"-3.0015\" y=\"2.2995\" style=\"fill:rgb(100.0%,100.0%,100.0%);fill-opacity:1.0\">A</text></g><g class=\"toytree-NodeLabel\" transform=\"translate(95.0579,56.6526)\"><text x=\"-3.501\" y=\"2.2995\" style=\"fill:rgb(100.0%,100.0%,100.0%);fill-opacity:1.0\">G</text></g><g class=\"toytree-NodeLabel\" transform=\"translate(134.582,218.347)\"><text x=\"-3.0015\" y=\"2.2995\" style=\"fill:rgb(100.0%,100.0%,100.0%);fill-opacity:1.0\">B</text></g><g class=\"toytree-NodeLabel\" transform=\"translate(174.107,177.924)\"><text x=\"-3.249\" y=\"2.2995\" style=\"fill:rgb(100.0%,100.0%,100.0%);fill-opacity:1.0\">C</text></g><g class=\"toytree-NodeLabel\" transform=\"translate(95.0579,177.924)\"><text x=\"-3.0015\" y=\"2.2995\" style=\"fill:rgb(100.0%,100.0%,100.0%);fill-opacity:1.0\">Y</text></g><g class=\"toytree-NodeLabel\" transform=\"translate(55.5334,110.551)\"><text x=\"-2.7495\" y=\"2.2995\" style=\"fill:rgb(100.0%,100.0%,100.0%);fill-opacity:1.0\">Z</text></g></g><g class=\"toytree-TipLabels\" style=\"fill:rgb(14.5%,14.5%,14.5%);fill-opacity:1.0;font-family:Helvetica;font-size:12px;font-weight:300;vertical-align:baseline;white-space:pre;stroke:none\"><g class=\"toytree-TipLabel\" transform=\"translate(174.107,218.347)\"><text x=\"15.0\" y=\"3.066\" style=\"fill:rgb(14.5%,14.5%,14.5%);fill-opacity:1.0\">F</text></g><g class=\"toytree-TipLabel\" transform=\"translate(213.631,177.924)\"><text x=\"15.0\" y=\"3.066\" style=\"fill:rgb(14.5%,14.5%,14.5%);fill-opacity:1.0\">E</text></g><g class=\"toytree-TipLabel\" transform=\"translate(174.107,137.5)\"><text x=\"15.0\" y=\"3.066\" style=\"fill:rgb(14.5%,14.5%,14.5%);fill-opacity:1.0\">D</text></g><g class=\"toytree-TipLabel\" transform=\"translate(95.0579,97.0763)\"><text x=\"15.0\" y=\"3.066\" style=\"fill:rgb(14.5%,14.5%,14.5%);fill-opacity:1.0\">A</text></g><g class=\"toytree-TipLabel\" transform=\"translate(95.0579,56.6526)\"><text x=\"15.0\" y=\"3.066\" style=\"fill:rgb(14.5%,14.5%,14.5%);fill-opacity:1.0\">G</text></g></g></g></g></g></svg><div class=\"toyplot-behavior\"><script>(function()\n",
       "{\n",
       "var modules={};\n",
       "})();</script></div></div>"
      ]
     },
     "metadata": {},
     "output_type": "display_data"
    }
   ],
   "source": [
    "import toytree\n",
    "\n",
    "tree = toytree.tree(\"(A,(B,(C,D)X)Y)Z;\")\n",
    "#modifying tree with previous methods, adding complexities\n",
    "tree = tree.mod.add_child_node(\"C\", name=\"E\").mod.add_child_node(\"B\", name=\"F\").mod.add_internal_node_and_child(\"A\", name=\"G\", parent_name=\"H\")\n",
    "tree.draw(\n",
    "    node_mask = False,\n",
    "    node_sizes = 11,\n",
    "    node_markers = \"s\",\n",
    "    node_style= {\"fill\": \"black\"},\n",
    "    node_labels=\"name\",\n",
    "    node_labels_style= {\"fill\": \"white\"}\n",
    "    );\n",
    "#collapsing specific nodes by name - collapse X and H\n",
    "collapsed1 = tree.mod.collapse_nodes(\"X\", \"H\")\n",
    "collapsed1.draw(\n",
    "    node_mask = False,\n",
    "    node_sizes = 11,\n",
    "    node_markers = \"s\",\n",
    "    node_style= {\"fill\": \"black\"},\n",
    "    node_labels=\"name\",\n",
    "    node_labels_style= {\"fill\": \"white\"}\n",
    ");"
   ]
  },
  {
   "cell_type": "code",
   "execution_count": 206,
   "metadata": {},
   "outputs": [
    {
     "data": {
      "text/html": [
       "<div class=\"toyplot\" id=\"tec91d4f41fff47a79b83e91a80594a86\" style=\"text-align:center\"><svg class=\"toyplot-canvas-Canvas\" xmlns:toyplot=\"http://www.sandia.gov/toyplot\" xmlns:xlink=\"http://www.w3.org/1999/xlink\" xmlns=\"http://www.w3.org/2000/svg\" width=\"300.0px\" height=\"300.0px\" viewBox=\"0 0 300.0 300.0\" preserveAspectRatio=\"xMidYMid meet\" style=\"background-color:transparent;border-color:#292724;border-style:none;border-width:1.0;fill:rgb(16.1%,15.3%,14.1%);fill-opacity:1.0;font-family:Helvetica;font-size:12px;opacity:1.0;stroke:rgb(16.1%,15.3%,14.1%);stroke-opacity:1.0;stroke-width:1.0\" id=\"t9654f67ca07647479d563b6f1c7cab03\"><g class=\"toyplot-coordinates-Cartesian\" id=\"t602b975bec054c7caf134f6feb590b60\"><clipPath id=\"t5b6fb291694749b0a78080492b46a2f2\"><rect x=\"35.0\" y=\"35.0\" width=\"230.0\" height=\"230.0\"></rect></clipPath><g clip-path=\"url(#t5b6fb291694749b0a78080492b46a2f2)\"><g class=\"toytree-mark-Toytree\" id=\"t6c5738334e5f40bdbf1d6e79da8efa28\"><g class=\"toytree-Edges\" style=\"stroke:rgb(14.5%,14.5%,14.5%);stroke-opacity:1.0;stroke-linecap:round;stroke-width:2;fill:none\"><path d=\"M 103.4 55.2 L 56.7 75.4\" id=\"12,0\" style=\"\"></path><path d=\"M 103.4 135.9 L 87.8 156.1\" id=\"7,1\" style=\"\"></path><path d=\"M 103.4 135.9 L 118.9 156.1\" id=\"7,2\" style=\"\"></path><path d=\"M 165.5 176.3 L 150.0 196.5\" id=\"8,3\" style=\"\"></path><path d=\"M 165.5 176.3 L 181.1 196.5\" id=\"8,4\" style=\"\"></path><path d=\"M 227.7 196.5 L 212.2 216.6\" id=\"9,5\" style=\"\"></path><path d=\"M 227.7 196.5 L 243.3 216.6\" id=\"9,6\" style=\"\"></path><path d=\"M 150.0 75.4 L 103.4 135.9\" id=\"11,7\" style=\"\"></path><path d=\"M 196.6 95.6 L 165.5 176.3\" id=\"10,8\" style=\"\"></path><path d=\"M 196.6 95.6 L 227.7 196.5\" id=\"10,9\" style=\"\"></path><path d=\"M 150.0 75.4 L 196.6 95.6\" id=\"11,10\" style=\"\"></path><path d=\"M 103.4 55.2 L 150.0 75.4\" id=\"12,11\" style=\"\"></path></g><g class=\"toytree-AdmixEdges\" style=\"fill:rgb(0.0%,0.0%,0.0%);fill-opacity:0.0;stroke:rgb(90.6%,54.1%,76.5%);stroke-opacity:0.6;font-size:14px;stroke-linecap:round;stroke-width:5\"></g><g class=\"toytree-Nodes\" style=\"fill:rgb(0.0%,0.0%,0.0%);fill-opacity:1.0;stroke:rgb(14.5%,14.5%,14.5%);stroke-opacity:1.0;stroke-width:1.5\"><g id=\"Node-0\" transform=\"translate(56.7164,75.4209)\"><rect x=\"-5.0\" y=\"-5.0\" width=\"10\" height=\"10\"></rect></g><g id=\"Node-1\" transform=\"translate(87.8109,156.122)\"><rect x=\"-5.0\" y=\"-5.0\" width=\"10\" height=\"10\"></rect></g><g id=\"Node-2\" transform=\"translate(118.905,156.122)\"><rect x=\"-5.0\" y=\"-5.0\" width=\"10\" height=\"10\"></rect></g><g id=\"Node-3\" transform=\"translate(150,196.473)\"><rect x=\"-5.0\" y=\"-5.0\" width=\"10\" height=\"10\"></rect></g><g id=\"Node-4\" transform=\"translate(181.095,196.473)\"><rect x=\"-5.0\" y=\"-5.0\" width=\"10\" height=\"10\"></rect></g><g id=\"Node-5\" transform=\"translate(212.189,216.648)\"><rect x=\"-5.0\" y=\"-5.0\" width=\"10\" height=\"10\"></rect></g><g id=\"Node-6\" transform=\"translate(243.284,216.648)\"><rect x=\"-5.0\" y=\"-5.0\" width=\"10\" height=\"10\"></rect></g><g id=\"Node-7\" transform=\"translate(103.358,135.947)\"><rect x=\"-5.0\" y=\"-5.0\" width=\"10\" height=\"10\"></rect></g><g id=\"Node-8\" transform=\"translate(165.547,176.297)\"><rect x=\"-5.0\" y=\"-5.0\" width=\"10\" height=\"10\"></rect></g><g id=\"Node-9\" transform=\"translate(227.736,196.473)\"><rect x=\"-5.0\" y=\"-5.0\" width=\"10\" height=\"10\"></rect></g><g id=\"Node-10\" transform=\"translate(196.642,95.5961)\"><rect x=\"-5.0\" y=\"-5.0\" width=\"10\" height=\"10\"></rect></g><g id=\"Node-11\" transform=\"translate(150,75.4209)\"><rect x=\"-5.0\" y=\"-5.0\" width=\"10\" height=\"10\"></rect></g><g id=\"Node-12\" transform=\"translate(103.358,55.2456)\"><rect x=\"-5.0\" y=\"-5.0\" width=\"10\" height=\"10\"></rect></g></g><g class=\"toytree-NodeLabels\" style=\"font-family:Helvetica;font-size:9px;font-weight:300;vertical-align:baseline;white-space:pre;stroke:none\"><g class=\"toytree-NodeLabel\" transform=\"translate(56.7164,75.4209)\"><text x=\"-3.0015\" y=\"2.2995\" style=\"fill:rgb(100.0%,100.0%,100.0%);fill-opacity:1.0\">A</text></g><g class=\"toytree-NodeLabel\" transform=\"translate(87.8109,156.122)\"><text x=\"-3.0015\" y=\"2.2995\" style=\"fill:rgb(100.0%,100.0%,100.0%);fill-opacity:1.0\">B</text></g><g class=\"toytree-NodeLabel\" transform=\"translate(118.905,156.122)\"><text x=\"-3.0015\" y=\"2.2995\" style=\"fill:rgb(100.0%,100.0%,100.0%);fill-opacity:1.0\">E</text></g><g class=\"toytree-NodeLabel\" transform=\"translate(150,196.473)\"><text x=\"-3.249\" y=\"2.2995\" style=\"fill:rgb(100.0%,100.0%,100.0%);fill-opacity:1.0\">C</text></g><g class=\"toytree-NodeLabel\" transform=\"translate(181.095,196.473)\"><text x=\"-3.501\" y=\"2.2995\" style=\"fill:rgb(100.0%,100.0%,100.0%);fill-opacity:1.0\">G</text></g><g class=\"toytree-NodeLabel\" transform=\"translate(212.189,216.648)\"><text x=\"-3.249\" y=\"2.2995\" style=\"fill:rgb(100.0%,100.0%,100.0%);fill-opacity:1.0\">D</text></g><g class=\"toytree-NodeLabel\" transform=\"translate(243.284,216.648)\"><text x=\"-2.7495\" y=\"2.2995\" style=\"fill:rgb(100.0%,100.0%,100.0%);fill-opacity:1.0\">F</text></g><g class=\"toytree-NodeLabel\" transform=\"translate(103.358,135.947)\"><text x=\"-3.249\" y=\"2.2995\" style=\"fill:rgb(100.0%,100.0%,100.0%);fill-opacity:1.0\">H</text></g><g class=\"toytree-NodeLabel\" transform=\"translate(165.547,176.297)\"><text x=\"-2.25\" y=\"2.2995\" style=\"fill:rgb(100.0%,100.0%,100.0%);fill-opacity:1.0\">J</text></g><g class=\"toytree-NodeLabel\" transform=\"translate(227.736,196.473)\"><text x=\"-3.0015\" y=\"2.2995\" style=\"fill:rgb(100.0%,100.0%,100.0%);fill-opacity:1.0\">K</text></g><g class=\"toytree-NodeLabel\" transform=\"translate(196.642,95.5961)\"><text x=\"-3.0015\" y=\"2.2995\" style=\"fill:rgb(100.0%,100.0%,100.0%);fill-opacity:1.0\">X</text></g><g class=\"toytree-NodeLabel\" transform=\"translate(150,75.4209)\"><text x=\"-3.0015\" y=\"2.2995\" style=\"fill:rgb(100.0%,100.0%,100.0%);fill-opacity:1.0\">Y</text></g><g class=\"toytree-NodeLabel\" transform=\"translate(103.358,55.2456)\"><text x=\"-2.7495\" y=\"2.2995\" style=\"fill:rgb(100.0%,100.0%,100.0%);fill-opacity:1.0\">Z</text></g></g><g class=\"toytree-TipLabels\" style=\"fill:rgb(14.5%,14.5%,14.5%);fill-opacity:1.0;font-family:Helvetica;font-size:12px;font-weight:300;vertical-align:baseline;white-space:pre;stroke:none\"><g class=\"toytree-TipLabel\" transform=\"translate(56.7164,75.4209)rotate(90)\"><text x=\"12.0\" y=\"3.066\" style=\"fill:rgb(14.5%,14.5%,14.5%);fill-opacity:1.0\">A</text></g><g class=\"toytree-TipLabel\" transform=\"translate(87.8109,156.122)rotate(90)\"><text x=\"12.0\" y=\"3.066\" style=\"fill:rgb(14.5%,14.5%,14.5%);fill-opacity:1.0\">B</text></g><g class=\"toytree-TipLabel\" transform=\"translate(118.905,156.122)rotate(90)\"><text x=\"12.0\" y=\"3.066\" style=\"fill:rgb(14.5%,14.5%,14.5%);fill-opacity:1.0\">E</text></g><g class=\"toytree-TipLabel\" transform=\"translate(150,196.473)rotate(90)\"><text x=\"12.0\" y=\"3.066\" style=\"fill:rgb(14.5%,14.5%,14.5%);fill-opacity:1.0\">C</text></g><g class=\"toytree-TipLabel\" transform=\"translate(181.095,196.473)rotate(90)\"><text x=\"12.0\" y=\"3.066\" style=\"fill:rgb(14.5%,14.5%,14.5%);fill-opacity:1.0\">G</text></g><g class=\"toytree-TipLabel\" transform=\"translate(212.189,216.648)rotate(90)\"><text x=\"12.0\" y=\"3.066\" style=\"fill:rgb(14.5%,14.5%,14.5%);fill-opacity:1.0\">D</text></g><g class=\"toytree-TipLabel\" transform=\"translate(243.284,216.648)rotate(90)\"><text x=\"12.0\" y=\"3.066\" style=\"fill:rgb(14.5%,14.5%,14.5%);fill-opacity:1.0\">F</text></g></g></g></g><g class=\"toyplot-coordinates-Axis\" id=\"td4b9409a35fb44ee897cdaa55db6962d\" transform=\"translate(50.0,250.0)rotate(-90.0)translate(0,-15.0)\"><line x1=\"33.352163597333615\" y1=\"0\" x2=\"194.75442645705894\" y2=\"0\" style=\"\"></line><g><line x1=\"33.352163597333615\" y1=\"0\" x2=\"33.352163597333615\" y2=\"5\" style=\"\"></line><line x1=\"83.79037074099779\" y1=\"0\" x2=\"83.79037074099779\" y2=\"5\" style=\"\"></line><line x1=\"134.22857788466195\" y1=\"0\" x2=\"134.22857788466195\" y2=\"5\" style=\"\"></line><line x1=\"184.6667850283261\" y1=\"0\" x2=\"184.6667850283261\" y2=\"5\" style=\"\"></line></g><g><g transform=\"translate(33.352163597333615,-6)\"><text x=\"-2.78\" y=\"-4.440892098500626e-16\" style=\"fill:rgb(16.1%,15.3%,14.1%);fill-opacity:1.0;font-family:helvetica;font-size:10.0px;font-weight:normal;stroke:none;vertical-align:baseline;white-space:pre\">0</text></g><g transform=\"translate(83.79037074099779,-6)\"><text x=\"-6.95\" y=\"-4.440892098500626e-16\" style=\"fill:rgb(16.1%,15.3%,14.1%);fill-opacity:1.0;font-family:helvetica;font-size:10.0px;font-weight:normal;stroke:none;vertical-align:baseline;white-space:pre\">2.5</text></g><g transform=\"translate(134.22857788466195,-6)\"><text x=\"-2.78\" y=\"-4.440892098500626e-16\" style=\"fill:rgb(16.1%,15.3%,14.1%);fill-opacity:1.0;font-family:helvetica;font-size:10.0px;font-weight:normal;stroke:none;vertical-align:baseline;white-space:pre\">5</text></g><g transform=\"translate(184.6667850283261,-6)\"><text x=\"-6.95\" y=\"-4.440892098500626e-16\" style=\"fill:rgb(16.1%,15.3%,14.1%);fill-opacity:1.0;font-family:helvetica;font-size:10.0px;font-weight:normal;stroke:none;vertical-align:baseline;white-space:pre\">7.5</text></g></g><g class=\"toyplot-coordinates-Axis-coordinates\" style=\"visibility:hidden\" transform=\"\"><line x1=\"0\" x2=\"0\" y1=\"3.0\" y2=\"-4.5\" style=\"stroke:rgb(43.9%,50.2%,56.5%);stroke-opacity:1.0;stroke-width:1.0\"></line><text x=\"0\" y=\"6\" style=\"alignment-baseline:hanging;fill:rgb(43.9%,50.2%,56.5%);fill-opacity:1.0;font-size:10px;font-weight:normal;stroke:none;text-anchor:middle\"></text></g></g></g></svg><div class=\"toyplot-behavior\"><script>(function()\n",
       "{\n",
       "var modules={};\n",
       "modules[\"toyplot/canvas/id\"] = \"t9654f67ca07647479d563b6f1c7cab03\";\n",
       "modules[\"toyplot/canvas\"] = (function(canvas_id)\n",
       "    {\n",
       "        return document.querySelector(\"#\" + canvas_id);\n",
       "    })(modules[\"toyplot/canvas/id\"]);\n",
       "modules[\"toyplot.coordinates.Axis\"] = (\n",
       "        function(canvas)\n",
       "        {\n",
       "            function sign(x)\n",
       "            {\n",
       "                return x < 0 ? -1 : x > 0 ? 1 : 0;\n",
       "            }\n",
       "\n",
       "            function mix(a, b, amount)\n",
       "            {\n",
       "                return ((1.0 - amount) * a) + (amount * b);\n",
       "            }\n",
       "\n",
       "            function log(x, base)\n",
       "            {\n",
       "                return Math.log(Math.abs(x)) / Math.log(base);\n",
       "            }\n",
       "\n",
       "            function in_range(a, x, b)\n",
       "            {\n",
       "                var left = Math.min(a, b);\n",
       "                var right = Math.max(a, b);\n",
       "                return left <= x && x <= right;\n",
       "            }\n",
       "\n",
       "            function inside(range, projection)\n",
       "            {\n",
       "                for(var i = 0; i != projection.length; ++i)\n",
       "                {\n",
       "                    var segment = projection[i];\n",
       "                    if(in_range(segment.range.min, range, segment.range.max))\n",
       "                        return true;\n",
       "                }\n",
       "                return false;\n",
       "            }\n",
       "\n",
       "            function to_domain(range, projection)\n",
       "            {\n",
       "                for(var i = 0; i != projection.length; ++i)\n",
       "                {\n",
       "                    var segment = projection[i];\n",
       "                    if(in_range(segment.range.bounds.min, range, segment.range.bounds.max))\n",
       "                    {\n",
       "                        if(segment.scale == \"linear\")\n",
       "                        {\n",
       "                            var amount = (range - segment.range.min) / (segment.range.max - segment.range.min);\n",
       "                            return mix(segment.domain.min, segment.domain.max, amount)\n",
       "                        }\n",
       "                        else if(segment.scale[0] == \"log\")\n",
       "                        {\n",
       "                            var amount = (range - segment.range.min) / (segment.range.max - segment.range.min);\n",
       "                            var base = segment.scale[1];\n",
       "                            return sign(segment.domain.min) * Math.pow(base, mix(log(segment.domain.min, base), log(segment.domain.max, base), amount));\n",
       "                        }\n",
       "                    }\n",
       "                }\n",
       "            }\n",
       "\n",
       "            var axes = {};\n",
       "\n",
       "            function display_coordinates(e)\n",
       "            {\n",
       "                var current = canvas.createSVGPoint();\n",
       "                current.x = e.clientX;\n",
       "                current.y = e.clientY;\n",
       "\n",
       "                for(var axis_id in axes)\n",
       "                {\n",
       "                    var axis = document.querySelector(\"#\" + axis_id);\n",
       "                    var coordinates = axis.querySelector(\".toyplot-coordinates-Axis-coordinates\");\n",
       "                    if(coordinates)\n",
       "                    {\n",
       "                        var projection = axes[axis_id];\n",
       "                        var local = current.matrixTransform(axis.getScreenCTM().inverse());\n",
       "                        if(inside(local.x, projection))\n",
       "                        {\n",
       "                            var domain = to_domain(local.x, projection);\n",
       "                            coordinates.style.visibility = \"visible\";\n",
       "                            coordinates.setAttribute(\"transform\", \"translate(\" + local.x + \")\");\n",
       "                            var text = coordinates.querySelector(\"text\");\n",
       "                            text.textContent = domain.toFixed(2);\n",
       "                        }\n",
       "                        else\n",
       "                        {\n",
       "                            coordinates.style.visibility= \"hidden\";\n",
       "                        }\n",
       "                    }\n",
       "                }\n",
       "            }\n",
       "\n",
       "            canvas.addEventListener(\"click\", display_coordinates);\n",
       "\n",
       "            var module = {};\n",
       "            module.show_coordinates = function(axis_id, projection)\n",
       "            {\n",
       "                axes[axis_id] = projection;\n",
       "            }\n",
       "\n",
       "            return module;\n",
       "        })(modules[\"toyplot/canvas\"]);\n",
       "(function(axis, axis_id, projection)\n",
       "        {\n",
       "            axis.show_coordinates(axis_id, projection);\n",
       "        })(modules[\"toyplot.coordinates.Axis\"],\"td4b9409a35fb44ee897cdaa55db6962d\",[{\"domain\": {\"bounds\": {\"max\": Infinity, \"min\": -Infinity}, \"max\": 8.26, \"min\": -1.653119999999999}, \"range\": {\"bounds\": {\"max\": Infinity, \"min\": -Infinity}, \"max\": 200.0, \"min\": 0.0}, \"scale\": \"linear\"}]);\n",
       "})();</script></div></div>"
      ]
     },
     "metadata": {},
     "output_type": "display_data"
    },
    {
     "data": {
      "text/html": [
       "<div class=\"toyplot\" id=\"t8d8d2d761fba45a49dd0712971cfaf87\" style=\"text-align:center\"><svg class=\"toyplot-canvas-Canvas\" xmlns:toyplot=\"http://www.sandia.gov/toyplot\" xmlns:xlink=\"http://www.w3.org/1999/xlink\" xmlns=\"http://www.w3.org/2000/svg\" width=\"300.0px\" height=\"300.0px\" viewBox=\"0 0 300.0 300.0\" preserveAspectRatio=\"xMidYMid meet\" style=\"background-color:transparent;border-color:#292724;border-style:none;border-width:1.0;fill:rgb(16.1%,15.3%,14.1%);fill-opacity:1.0;font-family:Helvetica;font-size:12px;opacity:1.0;stroke:rgb(16.1%,15.3%,14.1%);stroke-opacity:1.0;stroke-width:1.0\" id=\"tf1fbb0cf66bf40709f80362128a77513\"><g class=\"toyplot-coordinates-Cartesian\" id=\"t067b41ba77d24dad88b9ba89c32ba890\"><clipPath id=\"t5d6d282b321b4007b3778e1be947b5ca\"><rect x=\"35.0\" y=\"35.0\" width=\"230.0\" height=\"230.0\"></rect></clipPath><g clip-path=\"url(#t5d6d282b321b4007b3778e1be947b5ca)\"><g class=\"toytree-mark-Toytree\" id=\"t066261d1fea74c4ca2d039f0fc1c1269\"><g class=\"toytree-Edges\" style=\"stroke:rgb(14.5%,14.5%,14.5%);stroke-opacity:1.0;stroke-linecap:round;stroke-width:2;fill:none\"><path d=\"M 138.3 55.2 L 56.7 75.4\" id=\"10,0\" style=\"\"></path><path d=\"M 103.4 135.9 L 87.8 156.1\" id=\"7,1\" style=\"\"></path><path d=\"M 103.4 135.9 L 118.9 156.1\" id=\"7,2\" style=\"\"></path><path d=\"M 165.5 176.3 L 150.0 196.5\" id=\"8,3\" style=\"\"></path><path d=\"M 165.5 176.3 L 181.1 196.5\" id=\"8,4\" style=\"\"></path><path d=\"M 227.7 196.5 L 212.2 216.6\" id=\"9,5\" style=\"\"></path><path d=\"M 227.7 196.5 L 243.3 216.6\" id=\"9,6\" style=\"\"></path><path d=\"M 138.3 55.2 L 103.4 135.9\" id=\"10,7\" style=\"\"></path><path d=\"M 138.3 55.2 L 165.5 176.3\" id=\"10,8\" style=\"\"></path><path d=\"M 138.3 55.2 L 227.7 196.5\" id=\"10,9\" style=\"\"></path></g><g class=\"toytree-AdmixEdges\" style=\"fill:rgb(0.0%,0.0%,0.0%);fill-opacity:0.0;stroke:rgb(90.6%,54.1%,76.5%);stroke-opacity:0.6;font-size:14px;stroke-linecap:round;stroke-width:5\"></g><g class=\"toytree-Nodes\" style=\"fill:rgb(0.0%,0.0%,0.0%);fill-opacity:1.0;stroke:rgb(14.5%,14.5%,14.5%);stroke-opacity:1.0;stroke-width:1.5\"><g id=\"Node-0\" transform=\"translate(56.7164,75.4209)\"><rect x=\"-5.0\" y=\"-5.0\" width=\"10\" height=\"10\"></rect></g><g id=\"Node-1\" transform=\"translate(87.8109,156.122)\"><rect x=\"-5.0\" y=\"-5.0\" width=\"10\" height=\"10\"></rect></g><g id=\"Node-2\" transform=\"translate(118.905,156.122)\"><rect x=\"-5.0\" y=\"-5.0\" width=\"10\" height=\"10\"></rect></g><g id=\"Node-3\" transform=\"translate(150,196.473)\"><rect x=\"-5.0\" y=\"-5.0\" width=\"10\" height=\"10\"></rect></g><g id=\"Node-4\" transform=\"translate(181.095,196.473)\"><rect x=\"-5.0\" y=\"-5.0\" width=\"10\" height=\"10\"></rect></g><g id=\"Node-5\" transform=\"translate(212.189,216.648)\"><rect x=\"-5.0\" y=\"-5.0\" width=\"10\" height=\"10\"></rect></g><g id=\"Node-6\" transform=\"translate(243.284,216.648)\"><rect x=\"-5.0\" y=\"-5.0\" width=\"10\" height=\"10\"></rect></g><g id=\"Node-7\" transform=\"translate(103.358,135.947)\"><rect x=\"-5.0\" y=\"-5.0\" width=\"10\" height=\"10\"></rect></g><g id=\"Node-8\" transform=\"translate(165.547,176.297)\"><rect x=\"-5.0\" y=\"-5.0\" width=\"10\" height=\"10\"></rect></g><g id=\"Node-9\" transform=\"translate(227.736,196.473)\"><rect x=\"-5.0\" y=\"-5.0\" width=\"10\" height=\"10\"></rect></g><g id=\"Node-10\" transform=\"translate(138.34,55.2456)\"><rect x=\"-5.0\" y=\"-5.0\" width=\"10\" height=\"10\"></rect></g></g><g class=\"toytree-NodeLabels\" style=\"font-family:Helvetica;font-size:9px;font-weight:300;vertical-align:baseline;white-space:pre;stroke:none\"><g class=\"toytree-NodeLabel\" transform=\"translate(56.7164,75.4209)\"><text x=\"-3.0015\" y=\"2.2995\" style=\"fill:rgb(100.0%,100.0%,100.0%);fill-opacity:1.0\">A</text></g><g class=\"toytree-NodeLabel\" transform=\"translate(87.8109,156.122)\"><text x=\"-3.0015\" y=\"2.2995\" style=\"fill:rgb(100.0%,100.0%,100.0%);fill-opacity:1.0\">B</text></g><g class=\"toytree-NodeLabel\" transform=\"translate(118.905,156.122)\"><text x=\"-3.0015\" y=\"2.2995\" style=\"fill:rgb(100.0%,100.0%,100.0%);fill-opacity:1.0\">E</text></g><g class=\"toytree-NodeLabel\" transform=\"translate(150,196.473)\"><text x=\"-3.249\" y=\"2.2995\" style=\"fill:rgb(100.0%,100.0%,100.0%);fill-opacity:1.0\">C</text></g><g class=\"toytree-NodeLabel\" transform=\"translate(181.095,196.473)\"><text x=\"-3.501\" y=\"2.2995\" style=\"fill:rgb(100.0%,100.0%,100.0%);fill-opacity:1.0\">G</text></g><g class=\"toytree-NodeLabel\" transform=\"translate(212.189,216.648)\"><text x=\"-3.249\" y=\"2.2995\" style=\"fill:rgb(100.0%,100.0%,100.0%);fill-opacity:1.0\">D</text></g><g class=\"toytree-NodeLabel\" transform=\"translate(243.284,216.648)\"><text x=\"-2.7495\" y=\"2.2995\" style=\"fill:rgb(100.0%,100.0%,100.0%);fill-opacity:1.0\">F</text></g><g class=\"toytree-NodeLabel\" transform=\"translate(103.358,135.947)\"><text x=\"-3.249\" y=\"2.2995\" style=\"fill:rgb(100.0%,100.0%,100.0%);fill-opacity:1.0\">H</text></g><g class=\"toytree-NodeLabel\" transform=\"translate(165.547,176.297)\"><text x=\"-2.25\" y=\"2.2995\" style=\"fill:rgb(100.0%,100.0%,100.0%);fill-opacity:1.0\">J</text></g><g class=\"toytree-NodeLabel\" transform=\"translate(227.736,196.473)\"><text x=\"-3.0015\" y=\"2.2995\" style=\"fill:rgb(100.0%,100.0%,100.0%);fill-opacity:1.0\">K</text></g><g class=\"toytree-NodeLabel\" transform=\"translate(138.34,55.2456)\"><text x=\"-2.7495\" y=\"2.2995\" style=\"fill:rgb(100.0%,100.0%,100.0%);fill-opacity:1.0\">Z</text></g></g><g class=\"toytree-TipLabels\" style=\"fill:rgb(14.5%,14.5%,14.5%);fill-opacity:1.0;font-family:Helvetica;font-size:12px;font-weight:300;vertical-align:baseline;white-space:pre;stroke:none\"><g class=\"toytree-TipLabel\" transform=\"translate(56.7164,75.4209)rotate(90)\"><text x=\"12.0\" y=\"3.066\" style=\"fill:rgb(14.5%,14.5%,14.5%);fill-opacity:1.0\">A</text></g><g class=\"toytree-TipLabel\" transform=\"translate(87.8109,156.122)rotate(90)\"><text x=\"12.0\" y=\"3.066\" style=\"fill:rgb(14.5%,14.5%,14.5%);fill-opacity:1.0\">B</text></g><g class=\"toytree-TipLabel\" transform=\"translate(118.905,156.122)rotate(90)\"><text x=\"12.0\" y=\"3.066\" style=\"fill:rgb(14.5%,14.5%,14.5%);fill-opacity:1.0\">E</text></g><g class=\"toytree-TipLabel\" transform=\"translate(150,196.473)rotate(90)\"><text x=\"12.0\" y=\"3.066\" style=\"fill:rgb(14.5%,14.5%,14.5%);fill-opacity:1.0\">C</text></g><g class=\"toytree-TipLabel\" transform=\"translate(181.095,196.473)rotate(90)\"><text x=\"12.0\" y=\"3.066\" style=\"fill:rgb(14.5%,14.5%,14.5%);fill-opacity:1.0\">G</text></g><g class=\"toytree-TipLabel\" transform=\"translate(212.189,216.648)rotate(90)\"><text x=\"12.0\" y=\"3.066\" style=\"fill:rgb(14.5%,14.5%,14.5%);fill-opacity:1.0\">D</text></g><g class=\"toytree-TipLabel\" transform=\"translate(243.284,216.648)rotate(90)\"><text x=\"12.0\" y=\"3.066\" style=\"fill:rgb(14.5%,14.5%,14.5%);fill-opacity:1.0\">F</text></g></g></g></g><g class=\"toyplot-coordinates-Axis\" id=\"t33c41cae6ecd4085b5f048d37322869a\" transform=\"translate(50.0,250.0)rotate(-90.0)translate(0,-15.0)\"><line x1=\"33.352163597333615\" y1=\"0\" x2=\"194.75442645705894\" y2=\"0\" style=\"\"></line><g><line x1=\"33.352163597333615\" y1=\"0\" x2=\"33.352163597333615\" y2=\"5\" style=\"\"></line><line x1=\"83.79037074099779\" y1=\"0\" x2=\"83.79037074099779\" y2=\"5\" style=\"\"></line><line x1=\"134.22857788466195\" y1=\"0\" x2=\"134.22857788466195\" y2=\"5\" style=\"\"></line><line x1=\"184.6667850283261\" y1=\"0\" x2=\"184.6667850283261\" y2=\"5\" style=\"\"></line></g><g><g transform=\"translate(33.352163597333615,-6)\"><text x=\"-2.78\" y=\"-4.440892098500626e-16\" style=\"fill:rgb(16.1%,15.3%,14.1%);fill-opacity:1.0;font-family:helvetica;font-size:10.0px;font-weight:normal;stroke:none;vertical-align:baseline;white-space:pre\">0</text></g><g transform=\"translate(83.79037074099779,-6)\"><text x=\"-6.95\" y=\"-4.440892098500626e-16\" style=\"fill:rgb(16.1%,15.3%,14.1%);fill-opacity:1.0;font-family:helvetica;font-size:10.0px;font-weight:normal;stroke:none;vertical-align:baseline;white-space:pre\">2.5</text></g><g transform=\"translate(134.22857788466195,-6)\"><text x=\"-2.78\" y=\"-4.440892098500626e-16\" style=\"fill:rgb(16.1%,15.3%,14.1%);fill-opacity:1.0;font-family:helvetica;font-size:10.0px;font-weight:normal;stroke:none;vertical-align:baseline;white-space:pre\">5</text></g><g transform=\"translate(184.6667850283261,-6)\"><text x=\"-6.95\" y=\"-4.440892098500626e-16\" style=\"fill:rgb(16.1%,15.3%,14.1%);fill-opacity:1.0;font-family:helvetica;font-size:10.0px;font-weight:normal;stroke:none;vertical-align:baseline;white-space:pre\">7.5</text></g></g><g class=\"toyplot-coordinates-Axis-coordinates\" style=\"visibility:hidden\" transform=\"\"><line x1=\"0\" x2=\"0\" y1=\"3.0\" y2=\"-4.5\" style=\"stroke:rgb(43.9%,50.2%,56.5%);stroke-opacity:1.0;stroke-width:1.0\"></line><text x=\"0\" y=\"6\" style=\"alignment-baseline:hanging;fill:rgb(43.9%,50.2%,56.5%);fill-opacity:1.0;font-size:10px;font-weight:normal;stroke:none;text-anchor:middle\"></text></g></g></g></svg><div class=\"toyplot-behavior\"><script>(function()\n",
       "{\n",
       "var modules={};\n",
       "modules[\"toyplot/canvas/id\"] = \"tf1fbb0cf66bf40709f80362128a77513\";\n",
       "modules[\"toyplot/canvas\"] = (function(canvas_id)\n",
       "    {\n",
       "        return document.querySelector(\"#\" + canvas_id);\n",
       "    })(modules[\"toyplot/canvas/id\"]);\n",
       "modules[\"toyplot.coordinates.Axis\"] = (\n",
       "        function(canvas)\n",
       "        {\n",
       "            function sign(x)\n",
       "            {\n",
       "                return x < 0 ? -1 : x > 0 ? 1 : 0;\n",
       "            }\n",
       "\n",
       "            function mix(a, b, amount)\n",
       "            {\n",
       "                return ((1.0 - amount) * a) + (amount * b);\n",
       "            }\n",
       "\n",
       "            function log(x, base)\n",
       "            {\n",
       "                return Math.log(Math.abs(x)) / Math.log(base);\n",
       "            }\n",
       "\n",
       "            function in_range(a, x, b)\n",
       "            {\n",
       "                var left = Math.min(a, b);\n",
       "                var right = Math.max(a, b);\n",
       "                return left <= x && x <= right;\n",
       "            }\n",
       "\n",
       "            function inside(range, projection)\n",
       "            {\n",
       "                for(var i = 0; i != projection.length; ++i)\n",
       "                {\n",
       "                    var segment = projection[i];\n",
       "                    if(in_range(segment.range.min, range, segment.range.max))\n",
       "                        return true;\n",
       "                }\n",
       "                return false;\n",
       "            }\n",
       "\n",
       "            function to_domain(range, projection)\n",
       "            {\n",
       "                for(var i = 0; i != projection.length; ++i)\n",
       "                {\n",
       "                    var segment = projection[i];\n",
       "                    if(in_range(segment.range.bounds.min, range, segment.range.bounds.max))\n",
       "                    {\n",
       "                        if(segment.scale == \"linear\")\n",
       "                        {\n",
       "                            var amount = (range - segment.range.min) / (segment.range.max - segment.range.min);\n",
       "                            return mix(segment.domain.min, segment.domain.max, amount)\n",
       "                        }\n",
       "                        else if(segment.scale[0] == \"log\")\n",
       "                        {\n",
       "                            var amount = (range - segment.range.min) / (segment.range.max - segment.range.min);\n",
       "                            var base = segment.scale[1];\n",
       "                            return sign(segment.domain.min) * Math.pow(base, mix(log(segment.domain.min, base), log(segment.domain.max, base), amount));\n",
       "                        }\n",
       "                    }\n",
       "                }\n",
       "            }\n",
       "\n",
       "            var axes = {};\n",
       "\n",
       "            function display_coordinates(e)\n",
       "            {\n",
       "                var current = canvas.createSVGPoint();\n",
       "                current.x = e.clientX;\n",
       "                current.y = e.clientY;\n",
       "\n",
       "                for(var axis_id in axes)\n",
       "                {\n",
       "                    var axis = document.querySelector(\"#\" + axis_id);\n",
       "                    var coordinates = axis.querySelector(\".toyplot-coordinates-Axis-coordinates\");\n",
       "                    if(coordinates)\n",
       "                    {\n",
       "                        var projection = axes[axis_id];\n",
       "                        var local = current.matrixTransform(axis.getScreenCTM().inverse());\n",
       "                        if(inside(local.x, projection))\n",
       "                        {\n",
       "                            var domain = to_domain(local.x, projection);\n",
       "                            coordinates.style.visibility = \"visible\";\n",
       "                            coordinates.setAttribute(\"transform\", \"translate(\" + local.x + \")\");\n",
       "                            var text = coordinates.querySelector(\"text\");\n",
       "                            text.textContent = domain.toFixed(2);\n",
       "                        }\n",
       "                        else\n",
       "                        {\n",
       "                            coordinates.style.visibility= \"hidden\";\n",
       "                        }\n",
       "                    }\n",
       "                }\n",
       "            }\n",
       "\n",
       "            canvas.addEventListener(\"click\", display_coordinates);\n",
       "\n",
       "            var module = {};\n",
       "            module.show_coordinates = function(axis_id, projection)\n",
       "            {\n",
       "                axes[axis_id] = projection;\n",
       "            }\n",
       "\n",
       "            return module;\n",
       "        })(modules[\"toyplot/canvas\"]);\n",
       "(function(axis, axis_id, projection)\n",
       "        {\n",
       "            axis.show_coordinates(axis_id, projection);\n",
       "        })(modules[\"toyplot.coordinates.Axis\"],\"t33c41cae6ecd4085b5f048d37322869a\",[{\"domain\": {\"bounds\": {\"max\": Infinity, \"min\": -Infinity}, \"max\": 8.26, \"min\": -1.653119999999999}, \"range\": {\"bounds\": {\"max\": Infinity, \"min\": -Infinity}, \"max\": 200.0, \"min\": 0.0}, \"scale\": \"linear\"}]);\n",
       "})();</script></div></div>"
      ]
     },
     "metadata": {},
     "output_type": "display_data"
    },
    {
     "data": {
      "text/html": [
       "<div class=\"toyplot\" id=\"t83ca187a60cd41eea6e9d3d9f2a338a8\" style=\"text-align:center\"><svg class=\"toyplot-canvas-Canvas\" xmlns:toyplot=\"http://www.sandia.gov/toyplot\" xmlns:xlink=\"http://www.w3.org/1999/xlink\" xmlns=\"http://www.w3.org/2000/svg\" width=\"300.0px\" height=\"300.0px\" viewBox=\"0 0 300.0 300.0\" preserveAspectRatio=\"xMidYMid meet\" style=\"background-color:transparent;border-color:#292724;border-style:none;border-width:1.0;fill:rgb(16.1%,15.3%,14.1%);fill-opacity:1.0;font-family:Helvetica;font-size:12px;opacity:1.0;stroke:rgb(16.1%,15.3%,14.1%);stroke-opacity:1.0;stroke-width:1.0\" id=\"t4ce55f70656044e386b3ca616eaab17f\"><g class=\"toyplot-coordinates-Cartesian\" id=\"t1018ebee72af493390d9936aefa612ab\"><clipPath id=\"tce47d524689a420aa20b9501bf58433d\"><rect x=\"35.0\" y=\"35.0\" width=\"230.0\" height=\"230.0\"></rect></clipPath><g clip-path=\"url(#tce47d524689a420aa20b9501bf58433d)\"><g class=\"toytree-mark-Toytree\" id=\"t56d532c4b0f343678e9a2f0711de652d\"><g class=\"toytree-Edges\" style=\"stroke:rgb(14.5%,14.5%,14.5%);stroke-opacity:1.0;stroke-linecap:round;stroke-width:2;fill:none\"><path d=\"M 147.4 55.2 L 56.7 75.4\" id=\"8,0\" style=\"\"></path><path d=\"M 147.4 55.2 L 87.8 156.1\" id=\"8,1\" style=\"\"></path><path d=\"M 147.4 55.2 L 118.9 156.1\" id=\"8,2\" style=\"\"></path><path d=\"M 165.5 196.5 L 150.0 216.6\" id=\"7,3\" style=\"\"></path><path d=\"M 165.5 196.5 L 181.1 216.6\" id=\"7,4\" style=\"\"></path><path d=\"M 147.4 55.2 L 212.2 196.5\" id=\"8,5\" style=\"\"></path><path d=\"M 147.4 55.2 L 243.3 196.5\" id=\"8,6\" style=\"\"></path><path d=\"M 147.4 55.2 L 165.5 196.5\" id=\"8,7\" style=\"\"></path></g><g class=\"toytree-AdmixEdges\" style=\"fill:rgb(0.0%,0.0%,0.0%);fill-opacity:0.0;stroke:rgb(90.6%,54.1%,76.5%);stroke-opacity:0.6;font-size:14px;stroke-linecap:round;stroke-width:5\"></g><g class=\"toytree-Nodes\" style=\"fill:rgb(0.0%,0.0%,0.0%);fill-opacity:1.0;stroke:rgb(14.5%,14.5%,14.5%);stroke-opacity:1.0;stroke-width:1.5\"><g id=\"Node-0\" transform=\"translate(56.7164,75.4209)\"><rect x=\"-5.0\" y=\"-5.0\" width=\"10\" height=\"10\"></rect></g><g id=\"Node-1\" transform=\"translate(87.8109,156.122)\"><rect x=\"-5.0\" y=\"-5.0\" width=\"10\" height=\"10\"></rect></g><g id=\"Node-2\" transform=\"translate(118.905,156.122)\"><rect x=\"-5.0\" y=\"-5.0\" width=\"10\" height=\"10\"></rect></g><g id=\"Node-3\" transform=\"translate(150,216.648)\"><rect x=\"-5.0\" y=\"-5.0\" width=\"10\" height=\"10\"></rect></g><g id=\"Node-4\" transform=\"translate(181.095,216.648)\"><rect x=\"-5.0\" y=\"-5.0\" width=\"10\" height=\"10\"></rect></g><g id=\"Node-5\" transform=\"translate(212.189,196.473)\"><rect x=\"-5.0\" y=\"-5.0\" width=\"10\" height=\"10\"></rect></g><g id=\"Node-6\" transform=\"translate(243.284,196.473)\"><rect x=\"-5.0\" y=\"-5.0\" width=\"10\" height=\"10\"></rect></g><g id=\"Node-7\" transform=\"translate(165.547,196.473)\"><rect x=\"-5.0\" y=\"-5.0\" width=\"10\" height=\"10\"></rect></g><g id=\"Node-8\" transform=\"translate(147.409,55.2456)\"><rect x=\"-5.0\" y=\"-5.0\" width=\"10\" height=\"10\"></rect></g></g><g class=\"toytree-NodeLabels\" style=\"font-family:Helvetica;font-size:9px;font-weight:300;vertical-align:baseline;white-space:pre;stroke:none\"><g class=\"toytree-NodeLabel\" transform=\"translate(56.7164,75.4209)\"><text x=\"-3.0015\" y=\"2.2995\" style=\"fill:rgb(100.0%,100.0%,100.0%);fill-opacity:1.0\">A</text></g><g class=\"toytree-NodeLabel\" transform=\"translate(87.8109,156.122)\"><text x=\"-3.0015\" y=\"2.2995\" style=\"fill:rgb(100.0%,100.0%,100.0%);fill-opacity:1.0\">B</text></g><g class=\"toytree-NodeLabel\" transform=\"translate(118.905,156.122)\"><text x=\"-3.0015\" y=\"2.2995\" style=\"fill:rgb(100.0%,100.0%,100.0%);fill-opacity:1.0\">E</text></g><g class=\"toytree-NodeLabel\" transform=\"translate(150,216.648)\"><text x=\"-3.249\" y=\"2.2995\" style=\"fill:rgb(100.0%,100.0%,100.0%);fill-opacity:1.0\">D</text></g><g class=\"toytree-NodeLabel\" transform=\"translate(181.095,216.648)\"><text x=\"-2.7495\" y=\"2.2995\" style=\"fill:rgb(100.0%,100.0%,100.0%);fill-opacity:1.0\">F</text></g><g class=\"toytree-NodeLabel\" transform=\"translate(212.189,196.473)\"><text x=\"-3.249\" y=\"2.2995\" style=\"fill:rgb(100.0%,100.0%,100.0%);fill-opacity:1.0\">C</text></g><g class=\"toytree-NodeLabel\" transform=\"translate(243.284,196.473)\"><text x=\"-3.501\" y=\"2.2995\" style=\"fill:rgb(100.0%,100.0%,100.0%);fill-opacity:1.0\">G</text></g><g class=\"toytree-NodeLabel\" transform=\"translate(165.547,196.473)\"><text x=\"-3.0015\" y=\"2.2995\" style=\"fill:rgb(100.0%,100.0%,100.0%);fill-opacity:1.0\">K</text></g><g class=\"toytree-NodeLabel\" transform=\"translate(147.409,55.2456)\"><text x=\"-2.7495\" y=\"2.2995\" style=\"fill:rgb(100.0%,100.0%,100.0%);fill-opacity:1.0\">Z</text></g></g><g class=\"toytree-TipLabels\" style=\"fill:rgb(14.5%,14.5%,14.5%);fill-opacity:1.0;font-family:Helvetica;font-size:12px;font-weight:300;vertical-align:baseline;white-space:pre;stroke:none\"><g class=\"toytree-TipLabel\" transform=\"translate(56.7164,75.4209)rotate(90)\"><text x=\"12.0\" y=\"3.066\" style=\"fill:rgb(14.5%,14.5%,14.5%);fill-opacity:1.0\">A</text></g><g class=\"toytree-TipLabel\" transform=\"translate(87.8109,156.122)rotate(90)\"><text x=\"12.0\" y=\"3.066\" style=\"fill:rgb(14.5%,14.5%,14.5%);fill-opacity:1.0\">B</text></g><g class=\"toytree-TipLabel\" transform=\"translate(118.905,156.122)rotate(90)\"><text x=\"12.0\" y=\"3.066\" style=\"fill:rgb(14.5%,14.5%,14.5%);fill-opacity:1.0\">E</text></g><g class=\"toytree-TipLabel\" transform=\"translate(150,216.648)rotate(90)\"><text x=\"12.0\" y=\"3.066\" style=\"fill:rgb(14.5%,14.5%,14.5%);fill-opacity:1.0\">D</text></g><g class=\"toytree-TipLabel\" transform=\"translate(181.095,216.648)rotate(90)\"><text x=\"12.0\" y=\"3.066\" style=\"fill:rgb(14.5%,14.5%,14.5%);fill-opacity:1.0\">F</text></g><g class=\"toytree-TipLabel\" transform=\"translate(212.189,196.473)rotate(90)\"><text x=\"12.0\" y=\"3.066\" style=\"fill:rgb(14.5%,14.5%,14.5%);fill-opacity:1.0\">C</text></g><g class=\"toytree-TipLabel\" transform=\"translate(243.284,196.473)rotate(90)\"><text x=\"12.0\" y=\"3.066\" style=\"fill:rgb(14.5%,14.5%,14.5%);fill-opacity:1.0\">G</text></g></g></g></g><g class=\"toyplot-coordinates-Axis\" id=\"t0e4056cc9339444281d3a4ab0ae2be65\" transform=\"translate(50.0,250.0)rotate(-90.0)translate(0,-15.0)\"><line x1=\"33.352163597333615\" y1=\"0\" x2=\"194.75442645705894\" y2=\"0\" style=\"\"></line><g><line x1=\"33.352163597333615\" y1=\"0\" x2=\"33.352163597333615\" y2=\"5\" style=\"\"></line><line x1=\"83.79037074099779\" y1=\"0\" x2=\"83.79037074099779\" y2=\"5\" style=\"\"></line><line x1=\"134.22857788466195\" y1=\"0\" x2=\"134.22857788466195\" y2=\"5\" style=\"\"></line><line x1=\"184.6667850283261\" y1=\"0\" x2=\"184.6667850283261\" y2=\"5\" style=\"\"></line></g><g><g transform=\"translate(33.352163597333615,-6)\"><text x=\"-2.78\" y=\"-4.440892098500626e-16\" style=\"fill:rgb(16.1%,15.3%,14.1%);fill-opacity:1.0;font-family:helvetica;font-size:10.0px;font-weight:normal;stroke:none;vertical-align:baseline;white-space:pre\">0</text></g><g transform=\"translate(83.79037074099779,-6)\"><text x=\"-6.95\" y=\"-4.440892098500626e-16\" style=\"fill:rgb(16.1%,15.3%,14.1%);fill-opacity:1.0;font-family:helvetica;font-size:10.0px;font-weight:normal;stroke:none;vertical-align:baseline;white-space:pre\">2.5</text></g><g transform=\"translate(134.22857788466195,-6)\"><text x=\"-2.78\" y=\"-4.440892098500626e-16\" style=\"fill:rgb(16.1%,15.3%,14.1%);fill-opacity:1.0;font-family:helvetica;font-size:10.0px;font-weight:normal;stroke:none;vertical-align:baseline;white-space:pre\">5</text></g><g transform=\"translate(184.6667850283261,-6)\"><text x=\"-6.95\" y=\"-4.440892098500626e-16\" style=\"fill:rgb(16.1%,15.3%,14.1%);fill-opacity:1.0;font-family:helvetica;font-size:10.0px;font-weight:normal;stroke:none;vertical-align:baseline;white-space:pre\">7.5</text></g></g><g class=\"toyplot-coordinates-Axis-coordinates\" style=\"visibility:hidden\" transform=\"\"><line x1=\"0\" x2=\"0\" y1=\"3.0\" y2=\"-4.5\" style=\"stroke:rgb(43.9%,50.2%,56.5%);stroke-opacity:1.0;stroke-width:1.0\"></line><text x=\"0\" y=\"6\" style=\"alignment-baseline:hanging;fill:rgb(43.9%,50.2%,56.5%);fill-opacity:1.0;font-size:10px;font-weight:normal;stroke:none;text-anchor:middle\"></text></g></g></g></svg><div class=\"toyplot-behavior\"><script>(function()\n",
       "{\n",
       "var modules={};\n",
       "modules[\"toyplot/canvas/id\"] = \"t4ce55f70656044e386b3ca616eaab17f\";\n",
       "modules[\"toyplot/canvas\"] = (function(canvas_id)\n",
       "    {\n",
       "        return document.querySelector(\"#\" + canvas_id);\n",
       "    })(modules[\"toyplot/canvas/id\"]);\n",
       "modules[\"toyplot.coordinates.Axis\"] = (\n",
       "        function(canvas)\n",
       "        {\n",
       "            function sign(x)\n",
       "            {\n",
       "                return x < 0 ? -1 : x > 0 ? 1 : 0;\n",
       "            }\n",
       "\n",
       "            function mix(a, b, amount)\n",
       "            {\n",
       "                return ((1.0 - amount) * a) + (amount * b);\n",
       "            }\n",
       "\n",
       "            function log(x, base)\n",
       "            {\n",
       "                return Math.log(Math.abs(x)) / Math.log(base);\n",
       "            }\n",
       "\n",
       "            function in_range(a, x, b)\n",
       "            {\n",
       "                var left = Math.min(a, b);\n",
       "                var right = Math.max(a, b);\n",
       "                return left <= x && x <= right;\n",
       "            }\n",
       "\n",
       "            function inside(range, projection)\n",
       "            {\n",
       "                for(var i = 0; i != projection.length; ++i)\n",
       "                {\n",
       "                    var segment = projection[i];\n",
       "                    if(in_range(segment.range.min, range, segment.range.max))\n",
       "                        return true;\n",
       "                }\n",
       "                return false;\n",
       "            }\n",
       "\n",
       "            function to_domain(range, projection)\n",
       "            {\n",
       "                for(var i = 0; i != projection.length; ++i)\n",
       "                {\n",
       "                    var segment = projection[i];\n",
       "                    if(in_range(segment.range.bounds.min, range, segment.range.bounds.max))\n",
       "                    {\n",
       "                        if(segment.scale == \"linear\")\n",
       "                        {\n",
       "                            var amount = (range - segment.range.min) / (segment.range.max - segment.range.min);\n",
       "                            return mix(segment.domain.min, segment.domain.max, amount)\n",
       "                        }\n",
       "                        else if(segment.scale[0] == \"log\")\n",
       "                        {\n",
       "                            var amount = (range - segment.range.min) / (segment.range.max - segment.range.min);\n",
       "                            var base = segment.scale[1];\n",
       "                            return sign(segment.domain.min) * Math.pow(base, mix(log(segment.domain.min, base), log(segment.domain.max, base), amount));\n",
       "                        }\n",
       "                    }\n",
       "                }\n",
       "            }\n",
       "\n",
       "            var axes = {};\n",
       "\n",
       "            function display_coordinates(e)\n",
       "            {\n",
       "                var current = canvas.createSVGPoint();\n",
       "                current.x = e.clientX;\n",
       "                current.y = e.clientY;\n",
       "\n",
       "                for(var axis_id in axes)\n",
       "                {\n",
       "                    var axis = document.querySelector(\"#\" + axis_id);\n",
       "                    var coordinates = axis.querySelector(\".toyplot-coordinates-Axis-coordinates\");\n",
       "                    if(coordinates)\n",
       "                    {\n",
       "                        var projection = axes[axis_id];\n",
       "                        var local = current.matrixTransform(axis.getScreenCTM().inverse());\n",
       "                        if(inside(local.x, projection))\n",
       "                        {\n",
       "                            var domain = to_domain(local.x, projection);\n",
       "                            coordinates.style.visibility = \"visible\";\n",
       "                            coordinates.setAttribute(\"transform\", \"translate(\" + local.x + \")\");\n",
       "                            var text = coordinates.querySelector(\"text\");\n",
       "                            text.textContent = domain.toFixed(2);\n",
       "                        }\n",
       "                        else\n",
       "                        {\n",
       "                            coordinates.style.visibility= \"hidden\";\n",
       "                        }\n",
       "                    }\n",
       "                }\n",
       "            }\n",
       "\n",
       "            canvas.addEventListener(\"click\", display_coordinates);\n",
       "\n",
       "            var module = {};\n",
       "            module.show_coordinates = function(axis_id, projection)\n",
       "            {\n",
       "                axes[axis_id] = projection;\n",
       "            }\n",
       "\n",
       "            return module;\n",
       "        })(modules[\"toyplot/canvas\"]);\n",
       "(function(axis, axis_id, projection)\n",
       "        {\n",
       "            axis.show_coordinates(axis_id, projection);\n",
       "        })(modules[\"toyplot.coordinates.Axis\"],\"t0e4056cc9339444281d3a4ab0ae2be65\",[{\"domain\": {\"bounds\": {\"max\": Infinity, \"min\": -Infinity}, \"max\": 8.26, \"min\": -1.653119999999999}, \"range\": {\"bounds\": {\"max\": Infinity, \"min\": -Infinity}, \"max\": 200.0, \"min\": 0.0}, \"scale\": \"linear\"}]);\n",
       "})();</script></div></div>"
      ]
     },
     "metadata": {},
     "output_type": "display_data"
    }
   ],
   "source": [
    "import toytree\n",
    "\n",
    "tree = toytree.tree(\"(A,((B,E)H,((C,G)J,(D,F)K)X)Y)Z;\")\n",
    "#setting distances to be different values\n",
    "tree.set_node_data(\"dist\", {7: 3, 8: 4, 9: 5}, inplace=True)\n",
    "tree.draw(\n",
    "    tree_style = 'c', #coalescent style to see distance values\n",
    "    node_mask = False,\n",
    "    node_sizes = 10,\n",
    "    node_markers = \"s\",\n",
    "    node_style= {\"fill\": \"black\"},\n",
    "    node_labels=\"name\",\n",
    "    node_labels_style= {\"fill\": \"white\"}\n",
    "    );\n",
    "#keep only internal nodes with parental edge length >1.5\n",
    "#this will only get rid of a few internal nodes with particularly branch lengths\n",
    "collapsed3 = tree.mod.collapse_nodes(min_dist=1.5)\n",
    "collapsed3.draw(\n",
    "    tree_style = 'c',\n",
    "    node_mask = False,\n",
    "    node_sizes = 10,\n",
    "    node_markers = \"s\",\n",
    "    node_style= {\"fill\": \"black\"},\n",
    "    node_labels=\"name\",\n",
    "    node_labels_style= {\"fill\": \"white\"}\n",
    ");\n",
    "#keep only internal nodes with parental edge length > 5, collapse the rest.\n",
    "#in this case, K is the only internal node with edge length >5\n",
    "collapsed4 = tree.mod.collapse_nodes(min_dist = 5)\n",
    "collapsed4.draw(\n",
    "    tree_style = 'c',\n",
    "    node_mask = False,\n",
    "    node_sizes = 10,\n",
    "    node_markers = \"s\",\n",
    "    node_style= {\"fill\": \"black\"},\n",
    "    node_labels=\"name\",\n",
    "    node_labels_style= {\"fill\": \"white\"}\n",
    ");"
   ]
  },
  {
   "cell_type": "markdown",
   "metadata": {},
   "source": [
    "### Rotating nodes  \n",
    "\n",
    "`mod.rotate_node()` rotates a particular node such that the order of its children are reversed. A node can be queried using either the index or the name, and internal nodes can be accessed by passing in multiple nodes, which will rotate the node representing their `MRCA`.  \n",
    "\n",
    "By default, this returns a modified copy of the tree passed in without chainging the originial tree, however `inplace=True` will change and return the original tree passed in.  \n"
   ]
  },
  {
   "cell_type": "code",
   "execution_count": null,
   "metadata": {},
   "outputs": [
    {
     "data": {
      "text/html": [
       "<div class=\"toyplot\" id=\"t3aa042e2bf764ef8a22232ade1421954\" style=\"text-align:center\"><svg class=\"toyplot-canvas-Canvas\" xmlns:toyplot=\"http://www.sandia.gov/toyplot\" xmlns:xlink=\"http://www.w3.org/1999/xlink\" xmlns=\"http://www.w3.org/2000/svg\" width=\"300.0px\" height=\"275.0px\" viewBox=\"0 0 300.0 275.0\" preserveAspectRatio=\"xMidYMid meet\" style=\"background-color:transparent;border-color:#292724;border-style:none;border-width:1.0;fill:rgb(16.1%,15.3%,14.1%);fill-opacity:1.0;font-family:Helvetica;font-size:12px;opacity:1.0;stroke:rgb(16.1%,15.3%,14.1%);stroke-opacity:1.0;stroke-width:1.0\" id=\"t575c6bcec7a94c88b46d415cf5a8184f\"><g class=\"toyplot-coordinates-Cartesian\" id=\"teab4fe0103054668884f4f43ccd4c9eb\"><clipPath id=\"td71cc0a1ed374a50a591eefd51be44fb\"><rect x=\"35.0\" y=\"35.0\" width=\"230.0\" height=\"205.0\"></rect></clipPath><g clip-path=\"url(#td71cc0a1ed374a50a591eefd51be44fb)\"><g class=\"toytree-mark-Toytree\" id=\"t961b05b59cca42fcba09881046646ba0\"><g class=\"toytree-Edges\" style=\"stroke:rgb(14.5%,14.5%,14.5%);stroke-opacity:1.0;stroke-linecap:round;stroke-width:2.0;fill:none\"><path d=\"M 56.7 170.4 L 56.7 216.4 L 103.7 216.4\" id=\"6,0\" style=\"\"></path><path d=\"M 103.7 124.3 L 103.7 163.8 L 150.8 163.8\" id=\"5,1\" style=\"\"></path><path d=\"M 150.8 84.9 L 150.8 111.2 L 197.8 111.2\" id=\"4,2\" style=\"\"></path><path d=\"M 150.8 84.9 L 150.8 58.6 L 197.8 58.6\" id=\"4,3\" style=\"\"></path><path d=\"M 103.7 124.3 L 103.7 84.9 L 150.8 84.9\" id=\"5,4\" style=\"\"></path><path d=\"M 56.7 170.4 L 56.7 124.3 L 103.7 124.3\" id=\"6,5\" style=\"\"></path></g><g class=\"toytree-AdmixEdges\" style=\"fill:rgb(0.0%,0.0%,0.0%);fill-opacity:0.0;stroke:rgb(90.6%,54.1%,76.5%);stroke-opacity:0.6;font-size:14px;stroke-linecap:round;stroke-width:5\"></g><g class=\"toytree-Nodes\" style=\"fill:rgb(0.0%,0.0%,0.0%);fill-opacity:1.0;stroke:rgb(14.9%,14.9%,14.9%);stroke-opacity:1.0;stroke-width:1.5\"><g id=\"Node-0\" transform=\"translate(103.73,216.43)\"><rect x=\"-8.0\" y=\"-8.0\" width=\"16\" height=\"16\"></rect></g><g id=\"Node-1\" transform=\"translate(150.759,163.81)\"><rect x=\"-8.0\" y=\"-8.0\" width=\"16\" height=\"16\"></rect></g><g id=\"Node-2\" transform=\"translate(197.787,111.19)\"><rect x=\"-8.0\" y=\"-8.0\" width=\"16\" height=\"16\"></rect></g><g id=\"Node-3\" transform=\"translate(197.787,58.5696)\"><rect x=\"-8.0\" y=\"-8.0\" width=\"16\" height=\"16\"></rect></g><g id=\"Node-4\" transform=\"translate(150.759,84.8797)\"><rect x=\"-8.0\" y=\"-8.0\" width=\"16\" height=\"16\"></rect></g><g id=\"Node-5\" transform=\"translate(103.73,124.345)\"><rect x=\"-8.0\" y=\"-8.0\" width=\"16\" height=\"16\"></rect></g><g id=\"Node-6\" transform=\"translate(56.7016,170.388)\"><rect x=\"-8.0\" y=\"-8.0\" width=\"16\" height=\"16\"></rect></g></g><g class=\"toytree-NodeLabels\" style=\"font-family:Helvetica;font-size:9px;font-weight:300;vertical-align:baseline;white-space:pre;stroke:none\"><g class=\"toytree-NodeLabel\" transform=\"translate(103.73,216.43)\"><text x=\"-2.5020000000000002\" y=\"2.2995\" style=\"fill:rgb(100.0%,100.0%,100.0%);fill-opacity:1.0\">0</text></g><g class=\"toytree-NodeLabel\" transform=\"translate(150.759,163.81)\"><text x=\"-2.5020000000000002\" y=\"2.2995\" style=\"fill:rgb(100.0%,100.0%,100.0%);fill-opacity:1.0\">1</text></g><g class=\"toytree-NodeLabel\" transform=\"translate(197.787,111.19)\"><text x=\"-2.5020000000000002\" y=\"2.2995\" style=\"fill:rgb(100.0%,100.0%,100.0%);fill-opacity:1.0\">2</text></g><g class=\"toytree-NodeLabel\" transform=\"translate(197.787,58.5696)\"><text x=\"-2.5020000000000002\" y=\"2.2995\" style=\"fill:rgb(100.0%,100.0%,100.0%);fill-opacity:1.0\">3</text></g><g class=\"toytree-NodeLabel\" transform=\"translate(150.759,84.8797)\"><text x=\"-2.5020000000000002\" y=\"2.2995\" style=\"fill:rgb(100.0%,100.0%,100.0%);fill-opacity:1.0\">4</text></g><g class=\"toytree-NodeLabel\" transform=\"translate(103.73,124.345)\"><text x=\"-2.5020000000000002\" y=\"2.2995\" style=\"fill:rgb(100.0%,100.0%,100.0%);fill-opacity:1.0\">5</text></g><g class=\"toytree-NodeLabel\" transform=\"translate(56.7016,170.388)\"><text x=\"-2.5020000000000002\" y=\"2.2995\" style=\"fill:rgb(100.0%,100.0%,100.0%);fill-opacity:1.0\">6</text></g></g><g class=\"toytree-TipLabels\" style=\"fill:rgb(14.5%,14.5%,14.5%);fill-opacity:1.0;font-family:Helvetica;font-size:12px;font-weight:300;vertical-align:baseline;white-space:pre;stroke:none\"><g class=\"toytree-TipLabel\" transform=\"translate(103.73,216.43)\"><text x=\"15.0\" y=\"3.066\" style=\"fill:rgb(14.5%,14.5%,14.5%);fill-opacity:1.0\">Alligator</text></g><g class=\"toytree-TipLabel\" transform=\"translate(150.759,163.81)\"><text x=\"15.0\" y=\"3.066\" style=\"fill:rgb(14.5%,14.5%,14.5%);fill-opacity:1.0\">Bunny</text></g><g class=\"toytree-TipLabel\" transform=\"translate(197.787,111.19)\"><text x=\"15.0\" y=\"3.066\" style=\"fill:rgb(14.5%,14.5%,14.5%);fill-opacity:1.0\">Cat</text></g><g class=\"toytree-TipLabel\" transform=\"translate(197.787,58.5696)\"><text x=\"15.0\" y=\"3.066\" style=\"fill:rgb(14.5%,14.5%,14.5%);fill-opacity:1.0\">Dog</text></g></g></g></g></g></svg><div class=\"toyplot-behavior\"><script>(function()\n",
       "{\n",
       "var modules={};\n",
       "})();</script></div></div>"
      ]
     },
     "metadata": {},
     "output_type": "display_data"
    },
    {
     "data": {
      "text/html": [
       "<div class=\"toyplot\" id=\"t499892222358490aa4c1f410e4fee256\" style=\"text-align:center\"><svg class=\"toyplot-canvas-Canvas\" xmlns:toyplot=\"http://www.sandia.gov/toyplot\" xmlns:xlink=\"http://www.w3.org/1999/xlink\" xmlns=\"http://www.w3.org/2000/svg\" width=\"300.0px\" height=\"275.0px\" viewBox=\"0 0 300.0 275.0\" preserveAspectRatio=\"xMidYMid meet\" style=\"background-color:transparent;border-color:#292724;border-style:none;border-width:1.0;fill:rgb(16.1%,15.3%,14.1%);fill-opacity:1.0;font-family:Helvetica;font-size:12px;opacity:1.0;stroke:rgb(16.1%,15.3%,14.1%);stroke-opacity:1.0;stroke-width:1.0\" id=\"t8e5b5ae5923c40df98e4816c66615e3f\"><g class=\"toyplot-coordinates-Cartesian\" id=\"td6a98fe36ecc41b6b22ce52fb917c3e4\"><clipPath id=\"t77eee17ddf7c45ae92757553721fff8f\"><rect x=\"35.0\" y=\"35.0\" width=\"230.0\" height=\"205.0\"></rect></clipPath><g clip-path=\"url(#t77eee17ddf7c45ae92757553721fff8f)\"><g class=\"toytree-mark-Toytree\" id=\"t1a84c96789d644f09d9bbcdcc9c00ec0\"><g class=\"toytree-Edges\" style=\"stroke:rgb(14.5%,14.5%,14.5%);stroke-opacity:1.0;stroke-linecap:round;stroke-width:2.0;fill:none\"><path d=\"M 56.7 170.4 L 56.7 216.4 L 103.7 216.4\" id=\"6,0\" style=\"\"></path><path d=\"M 103.7 124.3 L 103.7 163.8 L 150.8 163.8\" id=\"5,1\" style=\"\"></path><path d=\"M 150.8 84.9 L 150.8 111.2 L 197.8 111.2\" id=\"4,2\" style=\"\"></path><path d=\"M 150.8 84.9 L 150.8 58.6 L 197.8 58.6\" id=\"4,3\" style=\"\"></path><path d=\"M 103.7 124.3 L 103.7 84.9 L 150.8 84.9\" id=\"5,4\" style=\"\"></path><path d=\"M 56.7 170.4 L 56.7 124.3 L 103.7 124.3\" id=\"6,5\" style=\"\"></path></g><g class=\"toytree-AdmixEdges\" style=\"fill:rgb(0.0%,0.0%,0.0%);fill-opacity:0.0;stroke:rgb(90.6%,54.1%,76.5%);stroke-opacity:0.6;font-size:14px;stroke-linecap:round;stroke-width:5\"></g><g class=\"toytree-Nodes\" style=\"fill:rgb(0.0%,0.0%,0.0%);fill-opacity:1.0;stroke:rgb(14.9%,14.9%,14.9%);stroke-opacity:1.0;stroke-width:1.5\"><g id=\"Node-0\" transform=\"translate(103.73,216.43)\"><rect x=\"-8.0\" y=\"-8.0\" width=\"16\" height=\"16\"></rect></g><g id=\"Node-1\" transform=\"translate(150.759,163.81)\"><rect x=\"-8.0\" y=\"-8.0\" width=\"16\" height=\"16\"></rect></g><g id=\"Node-2\" transform=\"translate(197.787,111.19)\"><rect x=\"-8.0\" y=\"-8.0\" width=\"16\" height=\"16\"></rect></g><g id=\"Node-3\" transform=\"translate(197.787,58.5696)\"><rect x=\"-8.0\" y=\"-8.0\" width=\"16\" height=\"16\"></rect></g><g id=\"Node-4\" transform=\"translate(150.759,84.8797)\"><rect x=\"-8.0\" y=\"-8.0\" width=\"16\" height=\"16\"></rect></g><g id=\"Node-5\" transform=\"translate(103.73,124.345)\"><rect x=\"-8.0\" y=\"-8.0\" width=\"16\" height=\"16\"></rect></g><g id=\"Node-6\" transform=\"translate(56.7016,170.388)\"><rect x=\"-8.0\" y=\"-8.0\" width=\"16\" height=\"16\"></rect></g></g><g class=\"toytree-NodeLabels\" style=\"font-family:Helvetica;font-size:9px;font-weight:300;vertical-align:baseline;white-space:pre;stroke:none\"><g class=\"toytree-NodeLabel\" transform=\"translate(103.73,216.43)\"><text x=\"-2.5020000000000002\" y=\"2.2995\" style=\"fill:rgb(100.0%,100.0%,100.0%);fill-opacity:1.0\">0</text></g><g class=\"toytree-NodeLabel\" transform=\"translate(150.759,163.81)\"><text x=\"-2.5020000000000002\" y=\"2.2995\" style=\"fill:rgb(100.0%,100.0%,100.0%);fill-opacity:1.0\">1</text></g><g class=\"toytree-NodeLabel\" transform=\"translate(197.787,111.19)\"><text x=\"-2.5020000000000002\" y=\"2.2995\" style=\"fill:rgb(100.0%,100.0%,100.0%);fill-opacity:1.0\">2</text></g><g class=\"toytree-NodeLabel\" transform=\"translate(197.787,58.5696)\"><text x=\"-2.5020000000000002\" y=\"2.2995\" style=\"fill:rgb(100.0%,100.0%,100.0%);fill-opacity:1.0\">3</text></g><g class=\"toytree-NodeLabel\" transform=\"translate(150.759,84.8797)\"><text x=\"-2.5020000000000002\" y=\"2.2995\" style=\"fill:rgb(100.0%,100.0%,100.0%);fill-opacity:1.0\">4</text></g><g class=\"toytree-NodeLabel\" transform=\"translate(103.73,124.345)\"><text x=\"-2.5020000000000002\" y=\"2.2995\" style=\"fill:rgb(100.0%,100.0%,100.0%);fill-opacity:1.0\">5</text></g><g class=\"toytree-NodeLabel\" transform=\"translate(56.7016,170.388)\"><text x=\"-2.5020000000000002\" y=\"2.2995\" style=\"fill:rgb(100.0%,100.0%,100.0%);fill-opacity:1.0\">6</text></g></g><g class=\"toytree-TipLabels\" style=\"fill:rgb(14.5%,14.5%,14.5%);fill-opacity:1.0;font-family:Helvetica;font-size:12px;font-weight:300;vertical-align:baseline;white-space:pre;stroke:none\"><g class=\"toytree-TipLabel\" transform=\"translate(103.73,216.43)\"><text x=\"15.0\" y=\"3.066\" style=\"fill:rgb(14.5%,14.5%,14.5%);fill-opacity:1.0\">Alligator</text></g><g class=\"toytree-TipLabel\" transform=\"translate(150.759,163.81)\"><text x=\"15.0\" y=\"3.066\" style=\"fill:rgb(14.5%,14.5%,14.5%);fill-opacity:1.0\">Bunny</text></g><g class=\"toytree-TipLabel\" transform=\"translate(197.787,111.19)\"><text x=\"15.0\" y=\"3.066\" style=\"fill:rgb(14.5%,14.5%,14.5%);fill-opacity:1.0\">Dog</text></g><g class=\"toytree-TipLabel\" transform=\"translate(197.787,58.5696)\"><text x=\"15.0\" y=\"3.066\" style=\"fill:rgb(14.5%,14.5%,14.5%);fill-opacity:1.0\">Cat</text></g></g></g></g></g></svg><div class=\"toyplot-behavior\"><script>(function()\n",
       "{\n",
       "var modules={};\n",
       "})();</script></div></div>"
      ]
     },
     "metadata": {},
     "output_type": "display_data"
    }
   ],
   "source": [
    "import toytree \n",
    "#simple tree from newick string\n",
    "tree = toytree.tree(\"(Alligator,(Bunny,(Cat,Dog)X)Y)Z;\")\n",
    "tree.draw(\n",
    "    node_mask = False,\n",
    "    node_sizes = 16,\n",
    "    node_markers = \"s\",\n",
    "    node_style= {\"fill\": \"black\"},\n",
    "    node_labels=\"idx\",\n",
    "    node_labels_style= {\"fill\": \"white\"}\n",
    "    );\n",
    "#rotate tree at node idx=4 (first internal node)\n",
    "tree2 = toytree.mod.rotate_node(tree, 4)\n",
    "tree2.draw(\n",
    "    node_mask = False,\n",
    "    node_sizes = 16,\n",
    "    node_markers = \"s\",\n",
    "    node_style= {\"fill\": \"black\"},\n",
    "    node_labels=\"idx\",\n",
    "    node_labels_style= {\"fill\": \"white\"}\n",
    ");\n",
    "#look for the difference in order between Cat and Dog"
   ]
  },
  {
   "cell_type": "markdown",
   "metadata": {},
   "source": [
    "Multiple calls of `rotate_node` can be chained to efficiently change specific formatting."
   ]
  },
  {
   "cell_type": "code",
   "execution_count": null,
   "metadata": {},
   "outputs": [
    {
     "data": {
      "text/html": [
       "<div class=\"toyplot\" id=\"tfa389cae671044d0bb070bc497e33a80\" style=\"text-align:center\"><svg class=\"toyplot-canvas-Canvas\" xmlns:toyplot=\"http://www.sandia.gov/toyplot\" xmlns:xlink=\"http://www.w3.org/1999/xlink\" xmlns=\"http://www.w3.org/2000/svg\" width=\"300.0px\" height=\"275.0px\" viewBox=\"0 0 300.0 275.0\" preserveAspectRatio=\"xMidYMid meet\" style=\"background-color:transparent;border-color:#292724;border-style:none;border-width:1.0;fill:rgb(16.1%,15.3%,14.1%);fill-opacity:1.0;font-family:Helvetica;font-size:12px;opacity:1.0;stroke:rgb(16.1%,15.3%,14.1%);stroke-opacity:1.0;stroke-width:1.0\" id=\"t998e62d96b704596a72ef3bce4236de2\"><g class=\"toyplot-coordinates-Cartesian\" id=\"t71846f2dcec44af7bb426875028f5587\"><clipPath id=\"t1aaf6bb7e6c14fde9a8e05906149ce71\"><rect x=\"35.0\" y=\"35.0\" width=\"230.0\" height=\"205.0\"></rect></clipPath><g clip-path=\"url(#t1aaf6bb7e6c14fde9a8e05906149ce71)\"><g class=\"toytree-mark-Toytree\" id=\"t3656dec2f0eb439e9923c98c3c7d99b7\"><g class=\"toytree-Edges\" style=\"stroke:rgb(14.5%,14.5%,14.5%);stroke-opacity:1.0;stroke-linecap:round;stroke-width:2.0;fill:none\"><path d=\"M 50.8 175.9 L 50.8 218.3 L 91.7 218.3\" id=\"10,0\" style=\"\"></path><path d=\"M 132.7 169.8 L 132.7 186.0 L 173.6 186.0\" id=\"6,1\" style=\"\"></path><path d=\"M 132.7 169.8 L 132.7 153.7 L 173.6 153.7\" id=\"6,2\" style=\"\"></path><path d=\"M 132.7 97.1 L 132.7 121.3 L 173.6 121.3\" id=\"8,3\" style=\"\"></path><path d=\"M 173.6 72.8 L 173.6 89.0 L 214.5 89.0\" id=\"7,4\" style=\"\"></path><path d=\"M 173.6 72.8 L 173.6 56.7 L 214.5 56.7\" id=\"7,5\" style=\"\"></path><path d=\"M 91.7 133.5 L 91.7 169.8 L 132.7 169.8\" id=\"9,6\" style=\"\"></path><path d=\"M 132.7 97.1 L 132.7 72.8 L 173.6 72.8\" id=\"8,7\" style=\"\"></path><path d=\"M 91.7 133.5 L 91.7 97.1 L 132.7 97.1\" id=\"9,8\" style=\"\"></path><path d=\"M 50.8 175.9 L 50.8 133.5 L 91.7 133.5\" id=\"10,9\" style=\"\"></path></g><g class=\"toytree-AdmixEdges\" style=\"fill:rgb(0.0%,0.0%,0.0%);fill-opacity:0.0;stroke:rgb(90.6%,54.1%,76.5%);stroke-opacity:0.6;font-size:14px;stroke-linecap:round;stroke-width:5\"></g><g class=\"toytree-Nodes\" style=\"fill:rgb(40.0%,76.1%,64.7%);fill-opacity:1.0;stroke:rgb(14.9%,14.9%,14.9%);stroke-opacity:1.0;stroke-width:1.5\"></g><g class=\"toytree-TipLabels\" style=\"fill:rgb(14.5%,14.5%,14.5%);fill-opacity:1.0;font-family:Helvetica;font-size:12px;font-weight:300;vertical-align:baseline;white-space:pre;stroke:none\"><g class=\"toytree-TipLabel\" transform=\"translate(91.7444,218.347)\"><text x=\"15.0\" y=\"3.066\" style=\"fill:rgb(14.5%,14.5%,14.5%);fill-opacity:1.0\">a</text></g><g class=\"toytree-TipLabel\" transform=\"translate(173.596,186.008)\"><text x=\"15.0\" y=\"3.066\" style=\"fill:rgb(14.5%,14.5%,14.5%);fill-opacity:1.0\">b</text></g><g class=\"toytree-TipLabel\" transform=\"translate(173.596,153.669)\"><text x=\"15.0\" y=\"3.066\" style=\"fill:rgb(14.5%,14.5%,14.5%);fill-opacity:1.0\">c</text></g><g class=\"toytree-TipLabel\" transform=\"translate(173.596,121.331)\"><text x=\"15.0\" y=\"3.066\" style=\"fill:rgb(14.5%,14.5%,14.5%);fill-opacity:1.0\">d</text></g><g class=\"toytree-TipLabel\" transform=\"translate(214.522,88.9916)\"><text x=\"15.0\" y=\"3.066\" style=\"fill:rgb(14.5%,14.5%,14.5%);fill-opacity:1.0\">e</text></g><g class=\"toytree-TipLabel\" transform=\"translate(214.522,56.6526)\"><text x=\"15.0\" y=\"3.066\" style=\"fill:rgb(14.5%,14.5%,14.5%);fill-opacity:1.0\">f</text></g></g></g></g></g></svg><div class=\"toyplot-behavior\"><script>(function()\n",
       "{\n",
       "var modules={};\n",
       "})();</script></div></div>"
      ]
     },
     "metadata": {},
     "output_type": "display_data"
    },
    {
     "data": {
      "text/html": [
       "<div class=\"toyplot\" id=\"t0e88c67b18fb4f25b4bb94e4e2c7f064\" style=\"text-align:center\"><svg class=\"toyplot-canvas-Canvas\" xmlns:toyplot=\"http://www.sandia.gov/toyplot\" xmlns:xlink=\"http://www.w3.org/1999/xlink\" xmlns=\"http://www.w3.org/2000/svg\" width=\"300.0px\" height=\"275.0px\" viewBox=\"0 0 300.0 275.0\" preserveAspectRatio=\"xMidYMid meet\" style=\"background-color:transparent;border-color:#292724;border-style:none;border-width:1.0;fill:rgb(16.1%,15.3%,14.1%);fill-opacity:1.0;font-family:Helvetica;font-size:12px;opacity:1.0;stroke:rgb(16.1%,15.3%,14.1%);stroke-opacity:1.0;stroke-width:1.0\" id=\"t6167af239f464ffda142b52b7b983667\"><g class=\"toyplot-coordinates-Cartesian\" id=\"t577d5340b53647ea8e85e25272102bb9\"><clipPath id=\"td17074c546d1425ca058de260a3af973\"><rect x=\"35.0\" y=\"35.0\" width=\"230.0\" height=\"205.0\"></rect></clipPath><g clip-path=\"url(#td17074c546d1425ca058de260a3af973)\"><g class=\"toytree-mark-Toytree\" id=\"t97d80519f4f84ef3a08cbab5ab4b765b\"><g class=\"toytree-Edges\" style=\"stroke:rgb(14.5%,14.5%,14.5%);stroke-opacity:1.0;stroke-linecap:round;stroke-width:2.0;fill:none\"><path d=\"M 50.8 163.8 L 50.8 218.3 L 91.7 218.3\" id=\"10,0\" style=\"\"></path><path d=\"M 173.6 169.8 L 173.6 186.0 L 214.5 186.0\" id=\"6,1\" style=\"\"></path><path d=\"M 173.6 169.8 L 173.6 153.7 L 214.5 153.7\" id=\"6,2\" style=\"\"></path><path d=\"M 132.7 145.6 L 132.7 121.3 L 173.6 121.3\" id=\"7,3\" style=\"\"></path><path d=\"M 132.7 72.8 L 132.7 89.0 L 173.6 89.0\" id=\"8,4\" style=\"\"></path><path d=\"M 132.7 72.8 L 132.7 56.7 L 173.6 56.7\" id=\"8,5\" style=\"\"></path><path d=\"M 132.7 145.6 L 132.7 169.8 L 173.6 169.8\" id=\"7,6\" style=\"\"></path><path d=\"M 91.7 109.2 L 91.7 145.6 L 132.7 145.6\" id=\"9,7\" style=\"\"></path><path d=\"M 91.7 109.2 L 91.7 72.8 L 132.7 72.8\" id=\"9,8\" style=\"\"></path><path d=\"M 50.8 163.8 L 50.8 109.2 L 91.7 109.2\" id=\"10,9\" style=\"\"></path></g><g class=\"toytree-AdmixEdges\" style=\"fill:rgb(0.0%,0.0%,0.0%);fill-opacity:0.0;stroke:rgb(90.6%,54.1%,76.5%);stroke-opacity:0.6;font-size:14px;stroke-linecap:round;stroke-width:5\"></g><g class=\"toytree-Nodes\" style=\"fill:rgb(40.0%,76.1%,64.7%);fill-opacity:1.0;stroke:rgb(14.9%,14.9%,14.9%);stroke-opacity:1.0;stroke-width:1.5\"></g><g class=\"toytree-TipLabels\" style=\"fill:rgb(14.5%,14.5%,14.5%);fill-opacity:1.0;font-family:Helvetica;font-size:12px;font-weight:300;vertical-align:baseline;white-space:pre;stroke:none\"><g class=\"toytree-TipLabel\" transform=\"translate(91.7444,218.347)\"><text x=\"15.0\" y=\"3.066\" style=\"fill:rgb(14.5%,14.5%,14.5%);fill-opacity:1.0\">a</text></g><g class=\"toytree-TipLabel\" transform=\"translate(214.522,186.008)\"><text x=\"15.0\" y=\"3.066\" style=\"fill:rgb(14.5%,14.5%,14.5%);fill-opacity:1.0\">e</text></g><g class=\"toytree-TipLabel\" transform=\"translate(214.522,153.669)\"><text x=\"15.0\" y=\"3.066\" style=\"fill:rgb(14.5%,14.5%,14.5%);fill-opacity:1.0\">f</text></g><g class=\"toytree-TipLabel\" transform=\"translate(173.596,121.331)\"><text x=\"15.0\" y=\"3.066\" style=\"fill:rgb(14.5%,14.5%,14.5%);fill-opacity:1.0\">d</text></g><g class=\"toytree-TipLabel\" transform=\"translate(173.596,88.9916)\"><text x=\"15.0\" y=\"3.066\" style=\"fill:rgb(14.5%,14.5%,14.5%);fill-opacity:1.0\">b</text></g><g class=\"toytree-TipLabel\" transform=\"translate(173.596,56.6526)\"><text x=\"15.0\" y=\"3.066\" style=\"fill:rgb(14.5%,14.5%,14.5%);fill-opacity:1.0\">c</text></g></g></g></g></g></svg><div class=\"toyplot-behavior\"><script>(function()\n",
       "{\n",
       "var modules={};\n",
       "})();</script></div></div>"
      ]
     },
     "metadata": {},
     "output_type": "display_data"
    }
   ],
   "source": [
    "#more complex newick string\n",
    "tree = toytree.tree(\"(a,((b,c)BC,(d,(e,f))DE)X)AB;\") \n",
    "tree.draw();\n",
    "#multiple calls chained together, accessing internal nodes by MRCA of two tips\n",
    "rotated = tree.mod.rotate_node('c', 'd').mod.rotate_node('f','d')\n",
    "rotated.draw();"
   ]
  },
  {
   "cell_type": "markdown",
   "metadata": {},
   "source": [
    "## Subtree-level manipulation"
   ]
  },
  {
   "cell_type": "markdown",
   "metadata": {},
   "source": [
    "### Pruning  \n",
    "\n",
    "Updates coming soon."
   ]
  },
  {
   "cell_type": "markdown",
   "metadata": {},
   "source": [
    "### Bisecting  \n",
    "\n",
    "Updates coming soon."
   ]
  },
  {
   "cell_type": "markdown",
   "metadata": {},
   "source": [
    "## Tree-level modification"
   ]
  },
  {
   "cell_type": "markdown",
   "metadata": {},
   "source": [
    "### Resolving polytomies  \n",
    "\n",
    "Updates coming soon."
   ]
  },
  {
   "cell_type": "markdown",
   "metadata": {},
   "source": [
    "### Ladderize  \n",
    "\n",
    "Updates coming soon."
   ]
  }
 ],
 "metadata": {
  "kernelspec": {
   "display_name": "toytree_practice",
   "language": "python",
   "name": "toytree_practice"
  },
  "language_info": {
   "codemirror_mode": {
    "name": "ipython",
    "version": 3
   },
   "file_extension": ".py",
   "mimetype": "text/x-python",
   "name": "python",
   "nbconvert_exporter": "python",
   "pygments_lexer": "ipython3",
   "version": "3.12.4"
  }
 },
 "nbformat": 4,
 "nbformat_minor": 2
}
