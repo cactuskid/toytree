{
 "cells": [
  {
   "cell_type": "markdown",
   "metadata": {},
   "source": [
    "# Topology changes  \n",
    "\n",
    "These methods are intended to provide the user with the ability to modify a `ToyTree` object pragmatically and efficiently without the need to directly modify `TreeNode` objects. While manual editing of TreeNodes is possible, it is not reccommended due to the danger of creating a `ToyTree` with invalid coordinate structure. These functions ensure that the `ToyTree` objects remain intact after topology changes such that when used in combination, trees can be safely modified to fit the structure required for any vizualization or algorithmic analysis while remaining compatible with the rest of the `Toytree` package's methods.  \n",
    "\n",
    "The foundation of topology modification consists of adding, removing, or changing the relationships among TreeNodes. There also exists methods to work on the subtree level to make separation particularly efficient, as well as methods to generally restructure trees for informative visual clarity.\n",
    "\n",
    "These methods are organized into three categories and contain the following functions:  \n",
    "\n",
    "1. `Node-level modification` \n",
    "\n",
    "    1. add_internal_node()\n",
    "    2. add_child_node()\n",
    "    3. add_sister_node()\n",
    "    4. add_internal_node_and_child()\n",
    "    5. add_internal_node_and_subtree()\n",
    "    6. remove_nodes()\n",
    "    7. remove_unary_nodes()\n",
    "    8. collapse_nodes()\n",
    "    9. rotate_node()\n",
    "\n",
    "2. `Subtree-level modification`\n",
    "\n",
    "    1. prune()\n",
    "    2. bisect()\n",
    "3. `Tree-level modification`\n",
    "\n",
    "    1. resolve_polytomies()\n",
    "    2. ladderize()"
   ]
  },
  {
   "cell_type": "code",
   "execution_count": 2,
   "metadata": {},
   "outputs": [],
   "source": [
    "import toytree"
   ]
  },
  {
   "cell_type": "markdown",
   "metadata": {},
   "source": [
    "We will use the following style dict throughout this notebook."
   ]
  },
  {
   "cell_type": "code",
   "execution_count": 15,
   "metadata": {},
   "outputs": [],
   "source": [
    "# style to show nodes w/ name labels\n",
    "style = dict(\n",
    "    node_mask = False,\n",
    "    node_sizes = 16,\n",
    "    node_markers = \"s\",\n",
    "    node_style = {\"fill\": \"black\"},\n",
    "    node_labels = \"name\",\n",
    "    node_labels_style= {\"fill\": \"white\", \"font-size\": 12}\n",
    ")"
   ]
  },
  {
   "attachments": {},
   "cell_type": "markdown",
   "metadata": {},
   "source": [
    "## Node-level modification\n",
    "\n",
    "### Adding nodes  \n",
    "\n",
    "The `mod` subpackage includes many methods to add nodes to a `ToyTree` object. A `Node`can be added as an internal node, child node, or sister node. You can also add nodes as a parent-child pair or as entire subtrees to be merged into a `ToyTree` object. \n",
    "\n",
    "\n",
    "`add_internal_node` introduces a new `Node` object to the tree by splitting the edge above a queried Node. It creates a new unary Node along this edge, with a name passed in as an argument `name=`.\n"
   ]
  },
  {
   "cell_type": "code",
   "execution_count": 17,
   "metadata": {},
   "outputs": [
    {
     "data": {
      "text/html": [
       "<div class=\"toyplot\" id=\"t87a3e128de0041d786ed28cd570ffcbe\" style=\"text-align:center\"><svg class=\"toyplot-canvas-Canvas\" xmlns:toyplot=\"http://www.sandia.gov/toyplot\" xmlns:xlink=\"http://www.w3.org/1999/xlink\" xmlns=\"http://www.w3.org/2000/svg\" width=\"450.0px\" height=\"250.0px\" viewBox=\"0 0 450.0 250.0\" preserveAspectRatio=\"xMidYMid meet\" style=\"background-color:transparent;border-color:#292724;border-style:none;border-width:1.0;fill:rgb(16.1%,15.3%,14.1%);fill-opacity:1.0;font-family:Helvetica;font-size:12px;opacity:1.0;stroke:rgb(16.1%,15.3%,14.1%);stroke-opacity:1.0;stroke-width:1.0\" id=\"ta1ead71157ba432db0da3d5ae73b10a0\"><g class=\"toyplot-coordinates-Cartesian\" id=\"tfd9ef4b116cc42a3935b1ef8235284f7\"><clipPath id=\"t2385da621f0a4e48b4f1c961e6293c65\"><rect x=\"20.0\" y=\"40.0\" width=\"205.0\" height=\"170.0\"></rect></clipPath><g clip-path=\"url(#t2385da621f0a4e48b4f1c961e6293c65)\"><g class=\"toytree-mark-Toytree\" id=\"t0ef321be4f524d01ba0f57c03666c7c2\"><g class=\"toytree-Edges\" style=\"stroke:rgb(14.5%,14.5%,14.5%);stroke-opacity:1.0;stroke-linecap:round;stroke-width:2.0;fill:none\"><path d=\"M 37.7 141.6 L 37.7 191.6 L 112.8 191.6\" id=\"4,0\" style=\"\"></path><path d=\"M 112.8 91.7 L 112.8 125.0 L 187.9 125.0\" id=\"3,1\" style=\"\"></path><path d=\"M 112.8 91.7 L 112.8 58.4 L 187.9 58.4\" id=\"3,2\" style=\"\"></path><path d=\"M 37.7 141.6 L 37.7 91.7 L 112.8 91.7\" id=\"4,3\" style=\"\"></path></g><g class=\"toytree-AdmixEdges\" style=\"fill:rgb(0.0%,0.0%,0.0%);fill-opacity:0.0;stroke:rgb(90.6%,54.1%,76.5%);stroke-opacity:0.6;font-size:14px;stroke-linecap:round;stroke-width:5\"></g><g class=\"toytree-Nodes\" style=\"fill:rgb(0.0%,0.0%,0.0%);fill-opacity:1.0;stroke:rgb(14.9%,14.9%,14.9%);stroke-opacity:1.0;stroke-width:1.5\"><g id=\"Node-0\" transform=\"translate(112.821,191.568)\"><rect x=\"-8.0\" y=\"-8.0\" width=\"16\" height=\"16\"></rect></g><g id=\"Node-1\" transform=\"translate(187.929,125)\"><rect x=\"-8.0\" y=\"-8.0\" width=\"16\" height=\"16\"></rect></g><g id=\"Node-2\" transform=\"translate(187.929,58.432)\"><rect x=\"-8.0\" y=\"-8.0\" width=\"16\" height=\"16\"></rect></g><g id=\"Node-3\" transform=\"translate(112.821,91.716)\"><rect x=\"-8.0\" y=\"-8.0\" width=\"16\" height=\"16\"></rect></g><g id=\"Node-4\" transform=\"translate(37.7137,141.642)\"><rect x=\"-8.0\" y=\"-8.0\" width=\"16\" height=\"16\"></rect></g></g><g class=\"toytree-NodeLabels\" style=\"font-family:Helvetica;font-size:12px;font-weight:300;vertical-align:baseline;white-space:pre;stroke:none\"><g class=\"toytree-NodeLabel\" transform=\"translate(112.821,191.568)\"><text x=\"-4.002\" y=\"3.066\" style=\"fill:rgb(100.0%,100.0%,100.0%);fill-opacity:1.0\">B</text></g><g class=\"toytree-NodeLabel\" transform=\"translate(187.929,125)\"><text x=\"-4.002\" y=\"3.066\" style=\"fill:rgb(100.0%,100.0%,100.0%);fill-opacity:1.0\">A</text></g><g class=\"toytree-NodeLabel\" transform=\"translate(187.929,58.432)\"><text x=\"-4.002\" y=\"3.066\" style=\"fill:rgb(100.0%,100.0%,100.0%);fill-opacity:1.0\">X</text></g><g class=\"toytree-NodeLabel\" transform=\"translate(112.821,91.716)\"><text x=\"-8.004\" y=\"3.066\" style=\"fill:rgb(100.0%,100.0%,100.0%);fill-opacity:1.0\">AX</text></g><g class=\"toytree-NodeLabel\" transform=\"translate(37.7137,141.642)\"><text x=\"-8.004\" y=\"3.066\" style=\"fill:rgb(100.0%,100.0%,100.0%);fill-opacity:1.0\">AB</text></g></g><g class=\"toytree-TipLabels\" style=\"fill:rgb(14.5%,14.5%,14.5%);fill-opacity:1.0;font-family:Helvetica;font-size:10px;font-weight:300;vertical-align:baseline;white-space:pre;stroke:none\"><g class=\"toytree-TipLabel\" transform=\"translate(112.821,191.568)\"><text x=\"10.0\" y=\"2.5549999999999997\" style=\"fill:rgb(14.5%,14.5%,14.5%);fill-opacity:1.0\">B</text></g><g class=\"toytree-TipLabel\" transform=\"translate(187.929,125)\"><text x=\"10.0\" y=\"2.5549999999999997\" style=\"fill:rgb(14.5%,14.5%,14.5%);fill-opacity:1.0\">A</text></g><g class=\"toytree-TipLabel\" transform=\"translate(187.929,58.432)\"><text x=\"10.0\" y=\"2.5549999999999997\" style=\"fill:rgb(14.5%,14.5%,14.5%);fill-opacity:1.0\">X</text></g></g></g></g></g><g class=\"toyplot-coordinates-Cartesian\" id=\"t7f7f9f3f480d431996489c130334d7f1\"><clipPath id=\"ta6ee846a4b344d559531ddf3070e0ff4\"><rect x=\"245.0\" y=\"40.0\" width=\"205.0\" height=\"170.0\"></rect></clipPath><g clip-path=\"url(#ta6ee846a4b344d559531ddf3070e0ff4)\"><g class=\"toytree-mark-Toytree\" id=\"teb2fecabb26840d48619daad4647a714\"><g class=\"toytree-Edges\" style=\"stroke:rgb(14.5%,14.5%,14.5%);stroke-opacity:1.0;stroke-linecap:round;stroke-width:2.0;fill:none\"><path d=\"M 262.7 141.6 L 262.7 191.6 L 337.8 191.6\" id=\"5,0\" style=\"\"></path><path d=\"M 337.8 91.7 L 337.8 125.0 L 412.9 125.0\" id=\"4,1\" style=\"\"></path><path d=\"M 375.4 58.4 L 375.4 58.4 L 412.9 58.4\" id=\"3,2\" style=\"\"></path><path d=\"M 337.8 91.7 L 337.8 58.4 L 375.4 58.4\" id=\"4,3\" style=\"\"></path><path d=\"M 262.7 141.6 L 262.7 91.7 L 337.8 91.7\" id=\"5,4\" style=\"\"></path></g><g class=\"toytree-AdmixEdges\" style=\"fill:rgb(0.0%,0.0%,0.0%);fill-opacity:0.0;stroke:rgb(90.6%,54.1%,76.5%);stroke-opacity:0.6;font-size:14px;stroke-linecap:round;stroke-width:5\"></g><g class=\"toytree-Nodes\" style=\"fill:rgb(0.0%,0.0%,0.0%);fill-opacity:1.0;stroke:rgb(14.9%,14.9%,14.9%);stroke-opacity:1.0;stroke-width:1.5\"><g id=\"Node-0\" transform=\"translate(337.821,191.568)\"><rect x=\"-8.0\" y=\"-8.0\" width=\"16\" height=\"16\"></rect></g><g id=\"Node-1\" transform=\"translate(412.929,125)\"><rect x=\"-8.0\" y=\"-8.0\" width=\"16\" height=\"16\"></rect></g><g id=\"Node-2\" transform=\"translate(412.929,58.432)\"><rect x=\"-8.0\" y=\"-8.0\" width=\"16\" height=\"16\"></rect></g><g id=\"Node-3\" transform=\"translate(375.375,58.432)\"><rect x=\"-8.0\" y=\"-8.0\" width=\"16\" height=\"16\"></rect></g><g id=\"Node-4\" transform=\"translate(337.821,91.716)\"><rect x=\"-8.0\" y=\"-8.0\" width=\"16\" height=\"16\"></rect></g><g id=\"Node-5\" transform=\"translate(262.714,141.642)\"><rect x=\"-8.0\" y=\"-8.0\" width=\"16\" height=\"16\"></rect></g></g><g class=\"toytree-NodeLabels\" style=\"font-family:Helvetica;font-size:12px;font-weight:300;vertical-align:baseline;white-space:pre;stroke:none\"><g class=\"toytree-NodeLabel\" transform=\"translate(337.821,191.568)\"><text x=\"-4.002\" y=\"3.066\" style=\"fill:rgb(100.0%,100.0%,100.0%);fill-opacity:1.0\">B</text></g><g class=\"toytree-NodeLabel\" transform=\"translate(412.929,125)\"><text x=\"-4.002\" y=\"3.066\" style=\"fill:rgb(100.0%,100.0%,100.0%);fill-opacity:1.0\">X</text></g><g class=\"toytree-NodeLabel\" transform=\"translate(412.929,58.432)\"><text x=\"-4.002\" y=\"3.066\" style=\"fill:rgb(100.0%,100.0%,100.0%);fill-opacity:1.0\">A</text></g><g class=\"toytree-NodeLabel\" transform=\"translate(375.375,58.432)\"><text x=\"-4.332\" y=\"3.066\" style=\"fill:rgb(100.0%,100.0%,100.0%);fill-opacity:1.0\">C</text></g><g class=\"toytree-NodeLabel\" transform=\"translate(337.821,91.716)\"><text x=\"-8.004\" y=\"3.066\" style=\"fill:rgb(100.0%,100.0%,100.0%);fill-opacity:1.0\">AX</text></g><g class=\"toytree-NodeLabel\" transform=\"translate(262.714,141.642)\"><text x=\"-8.004\" y=\"3.066\" style=\"fill:rgb(100.0%,100.0%,100.0%);fill-opacity:1.0\">AB</text></g></g><g class=\"toytree-TipLabels\" style=\"fill:rgb(14.5%,14.5%,14.5%);fill-opacity:1.0;font-family:Helvetica;font-size:10px;font-weight:300;vertical-align:baseline;white-space:pre;stroke:none\"><g class=\"toytree-TipLabel\" transform=\"translate(337.821,191.568)\"><text x=\"10.0\" y=\"2.5549999999999997\" style=\"fill:rgb(14.5%,14.5%,14.5%);fill-opacity:1.0\">B</text></g><g class=\"toytree-TipLabel\" transform=\"translate(412.929,125)\"><text x=\"10.0\" y=\"2.5549999999999997\" style=\"fill:rgb(14.5%,14.5%,14.5%);fill-opacity:1.0\">X</text></g><g class=\"toytree-TipLabel\" transform=\"translate(412.929,58.432)\"><text x=\"10.0\" y=\"2.5549999999999997\" style=\"fill:rgb(14.5%,14.5%,14.5%);fill-opacity:1.0\">A</text></g></g></g></g></g></svg><div class=\"toyplot-behavior\"><script>(function()\n",
       "{\n",
       "var modules={};\n",
       "})();</script></div></div>"
      ]
     },
     "metadata": {},
     "output_type": "display_data"
    }
   ],
   "source": [
    "# starting tree\n",
    "tree = toytree.tree(\"(B,(A,X)AX)AB;\")\n",
    "\n",
    "# add internal node \"C\" ABOVE node \"A\"\n",
    "tree2 = tree.mod.add_internal_node(\"A\", name=\"C\", dist=None)\n",
    "\n",
    "# draw both trees\n",
    "toytree.mtree([tree, tree2]).draw(**style);"
   ]
  },
  {
   "cell_type": "markdown",
   "metadata": {},
   "source": [
    "Here, the `dist=` argument determines how much of the original child-parent distance between the queried `Node` and its parent will belong to the new child-parent distance created with `add_internal_node()` (parent being the newly introduced `Node`). A double $0<x<1$ is passed in which represents the proportion of the original distance being transfered to the new distance. See below how the graph above changes as we manipulate the `dist=` argument."
   ]
  },
  {
   "cell_type": "code",
   "execution_count": 20,
   "metadata": {},
   "outputs": [
    {
     "data": {
      "text/html": [
       "<div class=\"toyplot\" id=\"tdcf119961f414ab7b0856d8d0f05b997\" style=\"text-align:center\"><svg class=\"toyplot-canvas-Canvas\" xmlns:toyplot=\"http://www.sandia.gov/toyplot\" xmlns:xlink=\"http://www.w3.org/1999/xlink\" xmlns=\"http://www.w3.org/2000/svg\" width=\"450.0px\" height=\"250.0px\" viewBox=\"0 0 450.0 250.0\" preserveAspectRatio=\"xMidYMid meet\" style=\"background-color:transparent;border-color:#292724;border-style:none;border-width:1.0;fill:rgb(16.1%,15.3%,14.1%);fill-opacity:1.0;font-family:Helvetica;font-size:12px;opacity:1.0;stroke:rgb(16.1%,15.3%,14.1%);stroke-opacity:1.0;stroke-width:1.0\" id=\"t358841f9b8bd40d9ad23c12bed47e232\"><g class=\"toyplot-coordinates-Cartesian\" id=\"tae0a5a96b767473eb51c62793a7801a6\"><clipPath id=\"t7cdf28ec8582438c831bb5153cfc1bb7\"><rect x=\"20.0\" y=\"40.0\" width=\"205.0\" height=\"170.0\"></rect></clipPath><g clip-path=\"url(#t7cdf28ec8582438c831bb5153cfc1bb7)\"><g class=\"toytree-mark-Toytree\" id=\"t3ac7985a9a6042a2b92c98f9fd23d65e\"><g class=\"toytree-Edges\" style=\"stroke:rgb(14.5%,14.5%,14.5%);stroke-opacity:1.0;stroke-linecap:round;stroke-width:2.0;fill:none\"><path d=\"M 37.7 141.6 L 37.7 191.6 L 112.8 191.6\" id=\"5,0\" style=\"\"></path><path d=\"M 112.8 91.7 L 112.8 125.0 L 187.9 125.0\" id=\"4,1\" style=\"\"></path><path d=\"M 131.6 58.4 L 131.6 58.4 L 187.9 58.4\" id=\"3,2\" style=\"\"></path><path d=\"M 112.8 91.7 L 112.8 58.4 L 131.6 58.4\" id=\"4,3\" style=\"\"></path><path d=\"M 37.7 141.6 L 37.7 91.7 L 112.8 91.7\" id=\"5,4\" style=\"\"></path></g><g class=\"toytree-AdmixEdges\" style=\"fill:rgb(0.0%,0.0%,0.0%);fill-opacity:0.0;stroke:rgb(90.6%,54.1%,76.5%);stroke-opacity:0.6;font-size:14px;stroke-linecap:round;stroke-width:5\"></g><g class=\"toytree-Nodes\" style=\"fill:rgb(0.0%,0.0%,0.0%);fill-opacity:1.0;stroke:rgb(14.9%,14.9%,14.9%);stroke-opacity:1.0;stroke-width:1.5\"><g id=\"Node-0\" transform=\"translate(112.821,191.568)\"><rect x=\"-8.0\" y=\"-8.0\" width=\"16\" height=\"16\"></rect></g><g id=\"Node-1\" transform=\"translate(187.929,125)\"><rect x=\"-8.0\" y=\"-8.0\" width=\"16\" height=\"16\"></rect></g><g id=\"Node-2\" transform=\"translate(187.929,58.432)\"><rect x=\"-8.0\" y=\"-8.0\" width=\"16\" height=\"16\"></rect></g><g id=\"Node-3\" transform=\"translate(131.598,58.432)\"><rect x=\"-8.0\" y=\"-8.0\" width=\"16\" height=\"16\"></rect></g><g id=\"Node-4\" transform=\"translate(112.821,91.716)\"><rect x=\"-8.0\" y=\"-8.0\" width=\"16\" height=\"16\"></rect></g><g id=\"Node-5\" transform=\"translate(37.7137,141.642)\"><rect x=\"-8.0\" y=\"-8.0\" width=\"16\" height=\"16\"></rect></g></g><g class=\"toytree-NodeLabels\" style=\"font-family:Helvetica;font-size:12px;font-weight:300;vertical-align:baseline;white-space:pre;stroke:none\"><g class=\"toytree-NodeLabel\" transform=\"translate(112.821,191.568)\"><text x=\"-4.002\" y=\"3.066\" style=\"fill:rgb(100.0%,100.0%,100.0%);fill-opacity:1.0\">B</text></g><g class=\"toytree-NodeLabel\" transform=\"translate(187.929,125)\"><text x=\"-4.002\" y=\"3.066\" style=\"fill:rgb(100.0%,100.0%,100.0%);fill-opacity:1.0\">X</text></g><g class=\"toytree-NodeLabel\" transform=\"translate(187.929,58.432)\"><text x=\"-4.002\" y=\"3.066\" style=\"fill:rgb(100.0%,100.0%,100.0%);fill-opacity:1.0\">A</text></g><g class=\"toytree-NodeLabel\" transform=\"translate(131.598,58.432)\"><text x=\"-4.332\" y=\"3.066\" style=\"fill:rgb(100.0%,100.0%,100.0%);fill-opacity:1.0\">C</text></g><g class=\"toytree-NodeLabel\" transform=\"translate(112.821,91.716)\"><text x=\"-8.004\" y=\"3.066\" style=\"fill:rgb(100.0%,100.0%,100.0%);fill-opacity:1.0\">AX</text></g><g class=\"toytree-NodeLabel\" transform=\"translate(37.7137,141.642)\"><text x=\"-8.004\" y=\"3.066\" style=\"fill:rgb(100.0%,100.0%,100.0%);fill-opacity:1.0\">AB</text></g></g><g class=\"toytree-TipLabels\" style=\"fill:rgb(14.5%,14.5%,14.5%);fill-opacity:1.0;font-family:Helvetica;font-size:10px;font-weight:300;vertical-align:baseline;white-space:pre;stroke:none\"><g class=\"toytree-TipLabel\" transform=\"translate(112.821,191.568)\"><text x=\"10.0\" y=\"2.5549999999999997\" style=\"fill:rgb(14.5%,14.5%,14.5%);fill-opacity:1.0\">B</text></g><g class=\"toytree-TipLabel\" transform=\"translate(187.929,125)\"><text x=\"10.0\" y=\"2.5549999999999997\" style=\"fill:rgb(14.5%,14.5%,14.5%);fill-opacity:1.0\">X</text></g><g class=\"toytree-TipLabel\" transform=\"translate(187.929,58.432)\"><text x=\"10.0\" y=\"2.5549999999999997\" style=\"fill:rgb(14.5%,14.5%,14.5%);fill-opacity:1.0\">A</text></g></g></g></g></g><g class=\"toyplot-coordinates-Cartesian\" id=\"t18b8c8cf699e4ba4bf2131e4007a7e57\"><clipPath id=\"t10034b7b89184a54abc82c09e903b73a\"><rect x=\"245.0\" y=\"40.0\" width=\"205.0\" height=\"170.0\"></rect></clipPath><g clip-path=\"url(#t10034b7b89184a54abc82c09e903b73a)\"><g class=\"toytree-mark-Toytree\" id=\"t0cdf808646ea4f6da158be8592483d97\"><g class=\"toytree-Edges\" style=\"stroke:rgb(14.5%,14.5%,14.5%);stroke-opacity:1.0;stroke-linecap:round;stroke-width:2.0;fill:none\"><path d=\"M 262.7 141.6 L 262.7 191.6 L 337.8 191.6\" id=\"5,0\" style=\"\"></path><path d=\"M 337.8 91.7 L 337.8 125.0 L 412.9 125.0\" id=\"4,1\" style=\"\"></path><path d=\"M 394.2 58.4 L 394.2 58.4 L 412.9 58.4\" id=\"3,2\" style=\"\"></path><path d=\"M 337.8 91.7 L 337.8 58.4 L 394.2 58.4\" id=\"4,3\" style=\"\"></path><path d=\"M 262.7 141.6 L 262.7 91.7 L 337.8 91.7\" id=\"5,4\" style=\"\"></path></g><g class=\"toytree-AdmixEdges\" style=\"fill:rgb(0.0%,0.0%,0.0%);fill-opacity:0.0;stroke:rgb(90.6%,54.1%,76.5%);stroke-opacity:0.6;font-size:14px;stroke-linecap:round;stroke-width:5\"></g><g class=\"toytree-Nodes\" style=\"fill:rgb(0.0%,0.0%,0.0%);fill-opacity:1.0;stroke:rgb(14.9%,14.9%,14.9%);stroke-opacity:1.0;stroke-width:1.5\"><g id=\"Node-0\" transform=\"translate(337.821,191.568)\"><rect x=\"-8.0\" y=\"-8.0\" width=\"16\" height=\"16\"></rect></g><g id=\"Node-1\" transform=\"translate(412.929,125)\"><rect x=\"-8.0\" y=\"-8.0\" width=\"16\" height=\"16\"></rect></g><g id=\"Node-2\" transform=\"translate(412.929,58.432)\"><rect x=\"-8.0\" y=\"-8.0\" width=\"16\" height=\"16\"></rect></g><g id=\"Node-3\" transform=\"translate(394.152,58.432)\"><rect x=\"-8.0\" y=\"-8.0\" width=\"16\" height=\"16\"></rect></g><g id=\"Node-4\" transform=\"translate(337.821,91.716)\"><rect x=\"-8.0\" y=\"-8.0\" width=\"16\" height=\"16\"></rect></g><g id=\"Node-5\" transform=\"translate(262.714,141.642)\"><rect x=\"-8.0\" y=\"-8.0\" width=\"16\" height=\"16\"></rect></g></g><g class=\"toytree-NodeLabels\" style=\"font-family:Helvetica;font-size:12px;font-weight:300;vertical-align:baseline;white-space:pre;stroke:none\"><g class=\"toytree-NodeLabel\" transform=\"translate(337.821,191.568)\"><text x=\"-4.002\" y=\"3.066\" style=\"fill:rgb(100.0%,100.0%,100.0%);fill-opacity:1.0\">B</text></g><g class=\"toytree-NodeLabel\" transform=\"translate(412.929,125)\"><text x=\"-4.002\" y=\"3.066\" style=\"fill:rgb(100.0%,100.0%,100.0%);fill-opacity:1.0\">X</text></g><g class=\"toytree-NodeLabel\" transform=\"translate(412.929,58.432)\"><text x=\"-4.002\" y=\"3.066\" style=\"fill:rgb(100.0%,100.0%,100.0%);fill-opacity:1.0\">A</text></g><g class=\"toytree-NodeLabel\" transform=\"translate(394.152,58.432)\"><text x=\"-4.332\" y=\"3.066\" style=\"fill:rgb(100.0%,100.0%,100.0%);fill-opacity:1.0\">C</text></g><g class=\"toytree-NodeLabel\" transform=\"translate(337.821,91.716)\"><text x=\"-8.004\" y=\"3.066\" style=\"fill:rgb(100.0%,100.0%,100.0%);fill-opacity:1.0\">AX</text></g><g class=\"toytree-NodeLabel\" transform=\"translate(262.714,141.642)\"><text x=\"-8.004\" y=\"3.066\" style=\"fill:rgb(100.0%,100.0%,100.0%);fill-opacity:1.0\">AB</text></g></g><g class=\"toytree-TipLabels\" style=\"fill:rgb(14.5%,14.5%,14.5%);fill-opacity:1.0;font-family:Helvetica;font-size:10px;font-weight:300;vertical-align:baseline;white-space:pre;stroke:none\"><g class=\"toytree-TipLabel\" transform=\"translate(337.821,191.568)\"><text x=\"10.0\" y=\"2.5549999999999997\" style=\"fill:rgb(14.5%,14.5%,14.5%);fill-opacity:1.0\">B</text></g><g class=\"toytree-TipLabel\" transform=\"translate(412.929,125)\"><text x=\"10.0\" y=\"2.5549999999999997\" style=\"fill:rgb(14.5%,14.5%,14.5%);fill-opacity:1.0\">X</text></g><g class=\"toytree-TipLabel\" transform=\"translate(412.929,58.432)\"><text x=\"10.0\" y=\"2.5549999999999997\" style=\"fill:rgb(14.5%,14.5%,14.5%);fill-opacity:1.0\">A</text></g></g></g></g></g></svg><div class=\"toyplot-behavior\"><script>(function()\n",
       "{\n",
       "var modules={};\n",
       "})();</script></div></div>"
      ]
     },
     "metadata": {},
     "output_type": "display_data"
    }
   ],
   "source": [
    "# assign 75% of the original distance to the new tip-parent distance\n",
    "tree3 = tree.mod.add_internal_node(\"A\", name=\"C\", dist=0.75)\n",
    "\n",
    "# assign 25% of the original distance to the new tip-parent distance\n",
    "tree4 = tree.mod.add_internal_node(\"A\", name=\"C\", dist=0.25)\n",
    "\n",
    "toytree.mtree([tree3, tree4]).draw(**style);"
   ]
  },
  {
   "cell_type": "markdown",
   "metadata": {},
   "source": [
    "\n",
    "`add_child_node`works similarly to, and is a great function to pair with `add_internal_node`. This inserts a `Node` as a `child` to a queried Node within a tree such that, for example, a newly inserted internal node would no longer be unary. This can also create a polyploidy if the function is called on a binary `Node`.\n"
   ]
  },
  {
   "cell_type": "code",
   "execution_count": 21,
   "metadata": {},
   "outputs": [
    {
     "data": {
      "text/html": [
       "<div class=\"toyplot\" id=\"teed822f09ec34b48b39efc5faca2f635\" style=\"text-align:center\"><svg class=\"toyplot-canvas-Canvas\" xmlns:toyplot=\"http://www.sandia.gov/toyplot\" xmlns:xlink=\"http://www.w3.org/1999/xlink\" xmlns=\"http://www.w3.org/2000/svg\" width=\"450.0px\" height=\"250.0px\" viewBox=\"0 0 450.0 250.0\" preserveAspectRatio=\"xMidYMid meet\" style=\"background-color:transparent;border-color:#292724;border-style:none;border-width:1.0;fill:rgb(16.1%,15.3%,14.1%);fill-opacity:1.0;font-family:Helvetica;font-size:12px;opacity:1.0;stroke:rgb(16.1%,15.3%,14.1%);stroke-opacity:1.0;stroke-width:1.0\" id=\"tc9c2d89901574bb89af43f435ab10e9e\"><g class=\"toyplot-coordinates-Cartesian\" id=\"t50f94467eef641608a4d1502e79c288d\"><clipPath id=\"t34b9e4f163124fa09944c94505e0261f\"><rect x=\"20.0\" y=\"40.0\" width=\"205.0\" height=\"170.0\"></rect></clipPath><g clip-path=\"url(#t34b9e4f163124fa09944c94505e0261f)\"><g class=\"toytree-mark-Toytree\" id=\"t042c9e2e0cec4c809b786b4ac8b6fb39\"><g class=\"toytree-Edges\" style=\"stroke:rgb(14.5%,14.5%,14.5%);stroke-opacity:1.0;stroke-linecap:round;stroke-width:2.0;fill:none\"><path d=\"M 37.7 141.6 L 37.7 191.6 L 112.8 191.6\" id=\"5,0\" style=\"\"></path><path d=\"M 112.8 91.7 L 112.8 125.0 L 187.9 125.0\" id=\"4,1\" style=\"\"></path><path d=\"M 150.4 58.4 L 150.4 58.4 L 187.9 58.4\" id=\"3,2\" style=\"\"></path><path d=\"M 112.8 91.7 L 112.8 58.4 L 150.4 58.4\" id=\"4,3\" style=\"\"></path><path d=\"M 37.7 141.6 L 37.7 91.7 L 112.8 91.7\" id=\"5,4\" style=\"\"></path></g><g class=\"toytree-AdmixEdges\" style=\"fill:rgb(0.0%,0.0%,0.0%);fill-opacity:0.0;stroke:rgb(90.6%,54.1%,76.5%);stroke-opacity:0.6;font-size:14px;stroke-linecap:round;stroke-width:5\"></g><g class=\"toytree-Nodes\" style=\"fill:rgb(0.0%,0.0%,0.0%);fill-opacity:1.0;stroke:rgb(14.9%,14.9%,14.9%);stroke-opacity:1.0;stroke-width:1.5\"><g id=\"Node-0\" transform=\"translate(112.821,191.568)\"><rect x=\"-8.0\" y=\"-8.0\" width=\"16\" height=\"16\"></rect></g><g id=\"Node-1\" transform=\"translate(187.929,125)\"><rect x=\"-8.0\" y=\"-8.0\" width=\"16\" height=\"16\"></rect></g><g id=\"Node-2\" transform=\"translate(187.929,58.432)\"><rect x=\"-8.0\" y=\"-8.0\" width=\"16\" height=\"16\"></rect></g><g id=\"Node-3\" transform=\"translate(150.375,58.432)\"><rect x=\"-8.0\" y=\"-8.0\" width=\"16\" height=\"16\"></rect></g><g id=\"Node-4\" transform=\"translate(112.821,91.716)\"><rect x=\"-8.0\" y=\"-8.0\" width=\"16\" height=\"16\"></rect></g><g id=\"Node-5\" transform=\"translate(37.7137,141.642)\"><rect x=\"-8.0\" y=\"-8.0\" width=\"16\" height=\"16\"></rect></g></g><g class=\"toytree-NodeLabels\" style=\"font-family:Helvetica;font-size:12px;font-weight:300;vertical-align:baseline;white-space:pre;stroke:none\"><g class=\"toytree-NodeLabel\" transform=\"translate(112.821,191.568)\"><text x=\"-4.002\" y=\"3.066\" style=\"fill:rgb(100.0%,100.0%,100.0%);fill-opacity:1.0\">B</text></g><g class=\"toytree-NodeLabel\" transform=\"translate(187.929,125)\"><text x=\"-4.002\" y=\"3.066\" style=\"fill:rgb(100.0%,100.0%,100.0%);fill-opacity:1.0\">X</text></g><g class=\"toytree-NodeLabel\" transform=\"translate(187.929,58.432)\"><text x=\"-4.002\" y=\"3.066\" style=\"fill:rgb(100.0%,100.0%,100.0%);fill-opacity:1.0\">A</text></g><g class=\"toytree-NodeLabel\" transform=\"translate(150.375,58.432)\"><text x=\"-4.332\" y=\"3.066\" style=\"fill:rgb(100.0%,100.0%,100.0%);fill-opacity:1.0\">C</text></g><g class=\"toytree-NodeLabel\" transform=\"translate(112.821,91.716)\"><text x=\"-8.004\" y=\"3.066\" style=\"fill:rgb(100.0%,100.0%,100.0%);fill-opacity:1.0\">AX</text></g><g class=\"toytree-NodeLabel\" transform=\"translate(37.7137,141.642)\"><text x=\"-8.004\" y=\"3.066\" style=\"fill:rgb(100.0%,100.0%,100.0%);fill-opacity:1.0\">AB</text></g></g><g class=\"toytree-TipLabels\" style=\"fill:rgb(14.5%,14.5%,14.5%);fill-opacity:1.0;font-family:Helvetica;font-size:10px;font-weight:300;vertical-align:baseline;white-space:pre;stroke:none\"><g class=\"toytree-TipLabel\" transform=\"translate(112.821,191.568)\"><text x=\"10.0\" y=\"2.5549999999999997\" style=\"fill:rgb(14.5%,14.5%,14.5%);fill-opacity:1.0\">B</text></g><g class=\"toytree-TipLabel\" transform=\"translate(187.929,125)\"><text x=\"10.0\" y=\"2.5549999999999997\" style=\"fill:rgb(14.5%,14.5%,14.5%);fill-opacity:1.0\">X</text></g><g class=\"toytree-TipLabel\" transform=\"translate(187.929,58.432)\"><text x=\"10.0\" y=\"2.5549999999999997\" style=\"fill:rgb(14.5%,14.5%,14.5%);fill-opacity:1.0\">A</text></g></g></g></g></g><g class=\"toyplot-coordinates-Cartesian\" id=\"t66cfa8274ffc41bbbbdee16c2a2ca5e7\"><clipPath id=\"tcd6d747302d04936a8bf1d88d77a9668\"><rect x=\"245.0\" y=\"40.0\" width=\"205.0\" height=\"170.0\"></rect></clipPath><g clip-path=\"url(#tcd6d747302d04936a8bf1d88d77a9668)\"><g class=\"toytree-mark-Toytree\" id=\"t2d8885ce0b594ca7a3af30b8ff5af7ac\"><g class=\"toytree-Edges\" style=\"stroke:rgb(14.5%,14.5%,14.5%);stroke-opacity:1.0;stroke-linecap:round;stroke-width:2.0;fill:none\"><path d=\"M 262.7 152.7 L 262.7 191.6 L 337.4 191.6\" id=\"6,0\" style=\"\"></path><path d=\"M 337.4 113.9 L 337.4 147.2 L 412.2 147.2\" id=\"5,1\" style=\"\"></path><path d=\"M 374.8 80.6 L 374.8 102.8 L 412.2 102.8\" id=\"4,2\" style=\"\"></path><path d=\"M 374.8 80.6 L 374.8 58.4 L 412.2 58.4\" id=\"4,3\" style=\"\"></path><path d=\"M 337.4 113.9 L 337.4 80.6 L 374.8 80.6\" id=\"5,4\" style=\"\"></path><path d=\"M 262.7 152.7 L 262.7 113.9 L 337.4 113.9\" id=\"6,5\" style=\"\"></path></g><g class=\"toytree-AdmixEdges\" style=\"fill:rgb(0.0%,0.0%,0.0%);fill-opacity:0.0;stroke:rgb(90.6%,54.1%,76.5%);stroke-opacity:0.6;font-size:14px;stroke-linecap:round;stroke-width:5\"></g><g class=\"toytree-Nodes\" style=\"fill:rgb(0.0%,0.0%,0.0%);fill-opacity:1.0;stroke:rgb(14.9%,14.9%,14.9%);stroke-opacity:1.0;stroke-width:1.5\"><g id=\"Node-0\" transform=\"translate(337.423,191.568)\"><rect x=\"-8.0\" y=\"-8.0\" width=\"16\" height=\"16\"></rect></g><g id=\"Node-1\" transform=\"translate(412.17,147.189)\"><rect x=\"-8.0\" y=\"-8.0\" width=\"16\" height=\"16\"></rect></g><g id=\"Node-2\" transform=\"translate(412.17,102.811)\"><rect x=\"-8.0\" y=\"-8.0\" width=\"16\" height=\"16\"></rect></g><g id=\"Node-3\" transform=\"translate(412.17,58.432)\"><rect x=\"-8.0\" y=\"-8.0\" width=\"16\" height=\"16\"></rect></g><g id=\"Node-4\" transform=\"translate(374.797,80.6213)\"><rect x=\"-8.0\" y=\"-8.0\" width=\"16\" height=\"16\"></rect></g><g id=\"Node-5\" transform=\"translate(337.423,113.905)\"><rect x=\"-8.0\" y=\"-8.0\" width=\"16\" height=\"16\"></rect></g><g id=\"Node-6\" transform=\"translate(262.677,152.737)\"><rect x=\"-8.0\" y=\"-8.0\" width=\"16\" height=\"16\"></rect></g></g><g class=\"toytree-NodeLabels\" style=\"font-family:Helvetica;font-size:12px;font-weight:300;vertical-align:baseline;white-space:pre;stroke:none\"><g class=\"toytree-NodeLabel\" transform=\"translate(337.423,191.568)\"><text x=\"-4.002\" y=\"3.066\" style=\"fill:rgb(100.0%,100.0%,100.0%);fill-opacity:1.0\">B</text></g><g class=\"toytree-NodeLabel\" transform=\"translate(412.17,147.189)\"><text x=\"-4.002\" y=\"3.066\" style=\"fill:rgb(100.0%,100.0%,100.0%);fill-opacity:1.0\">X</text></g><g class=\"toytree-NodeLabel\" transform=\"translate(412.17,102.811)\"><text x=\"-4.002\" y=\"3.066\" style=\"fill:rgb(100.0%,100.0%,100.0%);fill-opacity:1.0\">A</text></g><g class=\"toytree-NodeLabel\" transform=\"translate(412.17,58.432)\"><text x=\"-4.332\" y=\"3.066\" style=\"fill:rgb(100.0%,100.0%,100.0%);fill-opacity:1.0\">D</text></g><g class=\"toytree-NodeLabel\" transform=\"translate(374.797,80.6213)\"><text x=\"-4.332\" y=\"3.066\" style=\"fill:rgb(100.0%,100.0%,100.0%);fill-opacity:1.0\">C</text></g><g class=\"toytree-NodeLabel\" transform=\"translate(337.423,113.905)\"><text x=\"-8.004\" y=\"3.066\" style=\"fill:rgb(100.0%,100.0%,100.0%);fill-opacity:1.0\">AX</text></g><g class=\"toytree-NodeLabel\" transform=\"translate(262.677,152.737)\"><text x=\"-8.004\" y=\"3.066\" style=\"fill:rgb(100.0%,100.0%,100.0%);fill-opacity:1.0\">AB</text></g></g><g class=\"toytree-TipLabels\" style=\"fill:rgb(14.5%,14.5%,14.5%);fill-opacity:1.0;font-family:Helvetica;font-size:10px;font-weight:300;vertical-align:baseline;white-space:pre;stroke:none\"><g class=\"toytree-TipLabel\" transform=\"translate(337.423,191.568)\"><text x=\"10.0\" y=\"2.5549999999999997\" style=\"fill:rgb(14.5%,14.5%,14.5%);fill-opacity:1.0\">B</text></g><g class=\"toytree-TipLabel\" transform=\"translate(412.17,147.189)\"><text x=\"10.0\" y=\"2.5549999999999997\" style=\"fill:rgb(14.5%,14.5%,14.5%);fill-opacity:1.0\">X</text></g><g class=\"toytree-TipLabel\" transform=\"translate(412.17,102.811)\"><text x=\"10.0\" y=\"2.5549999999999997\" style=\"fill:rgb(14.5%,14.5%,14.5%);fill-opacity:1.0\">A</text></g><g class=\"toytree-TipLabel\" transform=\"translate(412.17,58.432)\"><text x=\"10.0\" y=\"2.5549999999999997\" style=\"fill:rgb(14.5%,14.5%,14.5%);fill-opacity:1.0\">D</text></g></g></g></g></g></svg><div class=\"toyplot-behavior\"><script>(function()\n",
       "{\n",
       "var modules={};\n",
       "})();</script></div></div>"
      ]
     },
     "metadata": {},
     "output_type": "display_data"
    }
   ],
   "source": [
    "# add internal node named \"C\" ABOVE node \"A\"\n",
    "tree2 = tree.mod.add_internal_node(\"A\", name=\"C\", dist=None)\n",
    "\n",
    "# add child node to new internal node \"C\" to make binary\n",
    "tree3 = tree2.mod.add_child_node(\"C\", name=\"D\", dist=None)\n",
    "\n",
    "toytree.mtree([tree2, tree3]).draw(**style);"
   ]
  },
  {
   "cell_type": "code",
   "execution_count": 28,
   "metadata": {},
   "outputs": [
    {
     "data": {
      "text/html": [
       "<div class=\"toyplot\" id=\"t50b5f11c64b74a0ab8f32ea48981ddf8\" style=\"text-align:center\"><svg class=\"toyplot-canvas-Canvas\" xmlns:toyplot=\"http://www.sandia.gov/toyplot\" xmlns:xlink=\"http://www.w3.org/1999/xlink\" xmlns=\"http://www.w3.org/2000/svg\" width=\"450.0px\" height=\"250.0px\" viewBox=\"0 0 450.0 250.0\" preserveAspectRatio=\"xMidYMid meet\" style=\"background-color:transparent;border-color:#292724;border-style:none;border-width:1.0;fill:rgb(16.1%,15.3%,14.1%);fill-opacity:1.0;font-family:Helvetica;font-size:12px;opacity:1.0;stroke:rgb(16.1%,15.3%,14.1%);stroke-opacity:1.0;stroke-width:1.0\" id=\"t38d3ff533a3a42b0917eb752399ca5d4\"><g class=\"toyplot-coordinates-Cartesian\" id=\"t2526daee80ae4d018a138808cad37584\"><clipPath id=\"t89b8ffece6d345c280d326807c828727\"><rect x=\"20.0\" y=\"40.0\" width=\"205.0\" height=\"170.0\"></rect></clipPath><g clip-path=\"url(#t89b8ffece6d345c280d326807c828727)\"><g class=\"toytree-mark-Toytree\" id=\"t762acd2e76384c25964600a8a79d8b9c\"><g class=\"toytree-Edges\" style=\"stroke:rgb(14.5%,14.5%,14.5%);stroke-opacity:1.0;stroke-linecap:round;stroke-width:2.0;fill:none\"><path d=\"M 37.7 152.7 L 37.7 191.6 L 112.4 191.6\" id=\"6,0\" style=\"\"></path><path d=\"M 112.4 113.9 L 112.4 147.2 L 187.2 147.2\" id=\"5,1\" style=\"\"></path><path d=\"M 149.8 80.6 L 149.8 102.8 L 187.2 102.8\" id=\"4,2\" style=\"\"></path><path d=\"M 149.8 80.6 L 149.8 58.4 L 187.2 58.4\" id=\"4,3\" style=\"\"></path><path d=\"M 112.4 113.9 L 112.4 80.6 L 149.8 80.6\" id=\"5,4\" style=\"\"></path><path d=\"M 37.7 152.7 L 37.7 113.9 L 112.4 113.9\" id=\"6,5\" style=\"\"></path></g><g class=\"toytree-AdmixEdges\" style=\"fill:rgb(0.0%,0.0%,0.0%);fill-opacity:0.0;stroke:rgb(90.6%,54.1%,76.5%);stroke-opacity:0.6;font-size:14px;stroke-linecap:round;stroke-width:5\"></g><g class=\"toytree-Nodes\" style=\"fill:rgb(0.0%,0.0%,0.0%);fill-opacity:1.0;stroke:rgb(14.9%,14.9%,14.9%);stroke-opacity:1.0;stroke-width:1.5\"><g id=\"Node-0\" transform=\"translate(112.423,191.568)\"><rect x=\"-8.0\" y=\"-8.0\" width=\"16\" height=\"16\"></rect></g><g id=\"Node-1\" transform=\"translate(187.17,147.189)\"><rect x=\"-8.0\" y=\"-8.0\" width=\"16\" height=\"16\"></rect></g><g id=\"Node-2\" transform=\"translate(187.17,102.811)\"><rect x=\"-8.0\" y=\"-8.0\" width=\"16\" height=\"16\"></rect></g><g id=\"Node-3\" transform=\"translate(187.17,58.432)\"><rect x=\"-8.0\" y=\"-8.0\" width=\"16\" height=\"16\"></rect></g><g id=\"Node-4\" transform=\"translate(149.797,80.6213)\"><rect x=\"-8.0\" y=\"-8.0\" width=\"16\" height=\"16\"></rect></g><g id=\"Node-5\" transform=\"translate(112.423,113.905)\"><rect x=\"-8.0\" y=\"-8.0\" width=\"16\" height=\"16\"></rect></g><g id=\"Node-6\" transform=\"translate(37.6767,152.737)\"><rect x=\"-8.0\" y=\"-8.0\" width=\"16\" height=\"16\"></rect></g></g><g class=\"toytree-NodeLabels\" style=\"font-family:Helvetica;font-size:12px;font-weight:300;vertical-align:baseline;white-space:pre;stroke:none\"><g class=\"toytree-NodeLabel\" transform=\"translate(112.423,191.568)\"><text x=\"-4.002\" y=\"3.066\" style=\"fill:rgb(100.0%,100.0%,100.0%);fill-opacity:1.0\">B</text></g><g class=\"toytree-NodeLabel\" transform=\"translate(187.17,147.189)\"><text x=\"-4.002\" y=\"3.066\" style=\"fill:rgb(100.0%,100.0%,100.0%);fill-opacity:1.0\">X</text></g><g class=\"toytree-NodeLabel\" transform=\"translate(187.17,102.811)\"><text x=\"-4.002\" y=\"3.066\" style=\"fill:rgb(100.0%,100.0%,100.0%);fill-opacity:1.0\">A</text></g><g class=\"toytree-NodeLabel\" transform=\"translate(187.17,58.432)\"><text x=\"-4.332\" y=\"3.066\" style=\"fill:rgb(100.0%,100.0%,100.0%);fill-opacity:1.0\">D</text></g><g class=\"toytree-NodeLabel\" transform=\"translate(149.797,80.6213)\"><text x=\"-4.332\" y=\"3.066\" style=\"fill:rgb(100.0%,100.0%,100.0%);fill-opacity:1.0\">C</text></g><g class=\"toytree-NodeLabel\" transform=\"translate(112.423,113.905)\"><text x=\"-8.004\" y=\"3.066\" style=\"fill:rgb(100.0%,100.0%,100.0%);fill-opacity:1.0\">AX</text></g><g class=\"toytree-NodeLabel\" transform=\"translate(37.6767,152.737)\"><text x=\"-8.004\" y=\"3.066\" style=\"fill:rgb(100.0%,100.0%,100.0%);fill-opacity:1.0\">AB</text></g></g><g class=\"toytree-TipLabels\" style=\"fill:rgb(14.5%,14.5%,14.5%);fill-opacity:1.0;font-family:Helvetica;font-size:10px;font-weight:300;vertical-align:baseline;white-space:pre;stroke:none\"><g class=\"toytree-TipLabel\" transform=\"translate(112.423,191.568)\"><text x=\"10.0\" y=\"2.5549999999999997\" style=\"fill:rgb(14.5%,14.5%,14.5%);fill-opacity:1.0\">B</text></g><g class=\"toytree-TipLabel\" transform=\"translate(187.17,147.189)\"><text x=\"10.0\" y=\"2.5549999999999997\" style=\"fill:rgb(14.5%,14.5%,14.5%);fill-opacity:1.0\">X</text></g><g class=\"toytree-TipLabel\" transform=\"translate(187.17,102.811)\"><text x=\"10.0\" y=\"2.5549999999999997\" style=\"fill:rgb(14.5%,14.5%,14.5%);fill-opacity:1.0\">A</text></g><g class=\"toytree-TipLabel\" transform=\"translate(187.17,58.432)\"><text x=\"10.0\" y=\"2.5549999999999997\" style=\"fill:rgb(14.5%,14.5%,14.5%);fill-opacity:1.0\">D</text></g></g></g></g></g><g class=\"toyplot-coordinates-Cartesian\" id=\"t890999f7973b41ddbbfd65152791fa62\"><clipPath id=\"tc390b800ab40417dba08faf81cf14cf9\"><rect x=\"245.0\" y=\"40.0\" width=\"205.0\" height=\"170.0\"></rect></clipPath><g clip-path=\"url(#tc390b800ab40417dba08faf81cf14cf9)\"><g class=\"toytree-mark-Toytree\" id=\"t8e058cbf0837426c871c88f85c22bd2b\"><g class=\"toytree-Edges\" style=\"stroke:rgb(14.5%,14.5%,14.5%);stroke-opacity:1.0;stroke-linecap:round;stroke-width:2.0;fill:none\"><path d=\"M 262.7 158.3 L 262.7 191.6 L 337.4 191.6\" id=\"7,0\" style=\"\"></path><path d=\"M 337.4 125.0 L 337.4 158.3 L 412.2 158.3\" id=\"6,1\" style=\"\"></path><path d=\"M 374.8 91.7 L 374.8 125.0 L 412.2 125.0\" id=\"5,2\" style=\"\"></path><path d=\"M 374.8 91.7 L 374.8 91.7 L 412.2 91.7\" id=\"5,3\" style=\"\"></path><path d=\"M 374.8 91.7 L 374.8 58.4 L 412.2 58.4\" id=\"5,4\" style=\"\"></path><path d=\"M 337.4 125.0 L 337.4 91.7 L 374.8 91.7\" id=\"6,5\" style=\"\"></path><path d=\"M 262.7 158.3 L 262.7 125.0 L 337.4 125.0\" id=\"7,6\" style=\"\"></path></g><g class=\"toytree-AdmixEdges\" style=\"fill:rgb(0.0%,0.0%,0.0%);fill-opacity:0.0;stroke:rgb(90.6%,54.1%,76.5%);stroke-opacity:0.6;font-size:14px;stroke-linecap:round;stroke-width:5\"></g><g class=\"toytree-Nodes\" style=\"fill:rgb(0.0%,0.0%,0.0%);fill-opacity:1.0;stroke:rgb(14.9%,14.9%,14.9%);stroke-opacity:1.0;stroke-width:1.5\"><g id=\"Node-0\" transform=\"translate(337.423,191.568)\"><rect x=\"-8.0\" y=\"-8.0\" width=\"16\" height=\"16\"></rect></g><g id=\"Node-1\" transform=\"translate(412.17,158.284)\"><rect x=\"-8.0\" y=\"-8.0\" width=\"16\" height=\"16\"></rect></g><g id=\"Node-2\" transform=\"translate(412.17,125)\"><rect x=\"-8.0\" y=\"-8.0\" width=\"16\" height=\"16\"></rect></g><g id=\"Node-3\" transform=\"translate(412.17,91.716)\"><rect x=\"-8.0\" y=\"-8.0\" width=\"16\" height=\"16\"></rect></g><g id=\"Node-4\" transform=\"translate(412.17,58.432)\"><rect x=\"-8.0\" y=\"-8.0\" width=\"16\" height=\"16\"></rect></g><g id=\"Node-5\" transform=\"translate(374.797,91.716)\"><rect x=\"-8.0\" y=\"-8.0\" width=\"16\" height=\"16\"></rect></g><g id=\"Node-6\" transform=\"translate(337.423,125)\"><rect x=\"-8.0\" y=\"-8.0\" width=\"16\" height=\"16\"></rect></g><g id=\"Node-7\" transform=\"translate(262.677,158.284)\"><rect x=\"-8.0\" y=\"-8.0\" width=\"16\" height=\"16\"></rect></g></g><g class=\"toytree-NodeLabels\" style=\"font-family:Helvetica;font-size:12px;font-weight:300;vertical-align:baseline;white-space:pre;stroke:none\"><g class=\"toytree-NodeLabel\" transform=\"translate(337.423,191.568)\"><text x=\"-4.002\" y=\"3.066\" style=\"fill:rgb(100.0%,100.0%,100.0%);fill-opacity:1.0\">B</text></g><g class=\"toytree-NodeLabel\" transform=\"translate(412.17,158.284)\"><text x=\"-4.002\" y=\"3.066\" style=\"fill:rgb(100.0%,100.0%,100.0%);fill-opacity:1.0\">X</text></g><g class=\"toytree-NodeLabel\" transform=\"translate(412.17,125)\"><text x=\"-4.002\" y=\"3.066\" style=\"fill:rgb(100.0%,100.0%,100.0%);fill-opacity:1.0\">A</text></g><g class=\"toytree-NodeLabel\" transform=\"translate(412.17,91.716)\"><text x=\"-4.332\" y=\"3.066\" style=\"fill:rgb(100.0%,100.0%,100.0%);fill-opacity:1.0\">D</text></g><g class=\"toytree-NodeLabel\" transform=\"translate(412.17,58.432)\"><text x=\"-4.002\" y=\"3.066\" style=\"fill:rgb(100.0%,100.0%,100.0%);fill-opacity:1.0\">Y</text></g><g class=\"toytree-NodeLabel\" transform=\"translate(374.797,91.716)\"><text x=\"-4.332\" y=\"3.066\" style=\"fill:rgb(100.0%,100.0%,100.0%);fill-opacity:1.0\">C</text></g><g class=\"toytree-NodeLabel\" transform=\"translate(337.423,125)\"><text x=\"-8.004\" y=\"3.066\" style=\"fill:rgb(100.0%,100.0%,100.0%);fill-opacity:1.0\">AX</text></g><g class=\"toytree-NodeLabel\" transform=\"translate(262.677,158.284)\"><text x=\"-8.004\" y=\"3.066\" style=\"fill:rgb(100.0%,100.0%,100.0%);fill-opacity:1.0\">AB</text></g></g><g class=\"toytree-TipLabels\" style=\"fill:rgb(14.5%,14.5%,14.5%);fill-opacity:1.0;font-family:Helvetica;font-size:10px;font-weight:300;vertical-align:baseline;white-space:pre;stroke:none\"><g class=\"toytree-TipLabel\" transform=\"translate(337.423,191.568)\"><text x=\"10.0\" y=\"2.5549999999999997\" style=\"fill:rgb(14.5%,14.5%,14.5%);fill-opacity:1.0\">B</text></g><g class=\"toytree-TipLabel\" transform=\"translate(412.17,158.284)\"><text x=\"10.0\" y=\"2.5549999999999997\" style=\"fill:rgb(14.5%,14.5%,14.5%);fill-opacity:1.0\">X</text></g><g class=\"toytree-TipLabel\" transform=\"translate(412.17,125)\"><text x=\"10.0\" y=\"2.5549999999999997\" style=\"fill:rgb(14.5%,14.5%,14.5%);fill-opacity:1.0\">A</text></g><g class=\"toytree-TipLabel\" transform=\"translate(412.17,91.716)\"><text x=\"10.0\" y=\"2.5549999999999997\" style=\"fill:rgb(14.5%,14.5%,14.5%);fill-opacity:1.0\">D</text></g><g class=\"toytree-TipLabel\" transform=\"translate(412.17,58.432)\"><text x=\"10.0\" y=\"2.5549999999999997\" style=\"fill:rgb(14.5%,14.5%,14.5%);fill-opacity:1.0\">Y</text></g></g></g></g></g></svg><div class=\"toyplot-behavior\"><script>(function()\n",
       "{\n",
       "var modules={};\n",
       "})();</script></div></div>"
      ]
     },
     "metadata": {},
     "output_type": "display_data"
    }
   ],
   "source": [
    "# add another child node to \"C\", creating a polytomy\n",
    "polytree = tree3.mod.add_child_node(\"C\", name=\"Y\")\n",
    "toytree.mtree([tree3, polytree]).draw(**style);"
   ]
  },
  {
   "cell_type": "markdown",
   "metadata": {},
   "source": [
    "\n",
    "`add_sister_node` can also be used as a method to use in conjunction to `add_internal_node`, the only difference being which node is queried. This function inserts a `Node` as the sister of a queried Node. In other words, it adds a child Node to the parent of the queried Node. Similarly, this can also either fix a unary node to become binary, or case a binary node to become a polytomy.\n"
   ]
  },
  {
   "cell_type": "code",
   "execution_count": 31,
   "metadata": {},
   "outputs": [
    {
     "data": {
      "text/html": [
       "<div class=\"toyplot\" id=\"td88b8fefa8be44f799fc0902758c640d\" style=\"text-align:center\"><svg class=\"toyplot-canvas-Canvas\" xmlns:toyplot=\"http://www.sandia.gov/toyplot\" xmlns:xlink=\"http://www.w3.org/1999/xlink\" xmlns=\"http://www.w3.org/2000/svg\" width=\"450.0px\" height=\"250.0px\" viewBox=\"0 0 450.0 250.0\" preserveAspectRatio=\"xMidYMid meet\" style=\"background-color:transparent;border-color:#292724;border-style:none;border-width:1.0;fill:rgb(16.1%,15.3%,14.1%);fill-opacity:1.0;font-family:Helvetica;font-size:12px;opacity:1.0;stroke:rgb(16.1%,15.3%,14.1%);stroke-opacity:1.0;stroke-width:1.0\" id=\"t6ee7456ce80f4480a8ae4c1a8dc9a9ec\"><g class=\"toyplot-coordinates-Cartesian\" id=\"t44f49e81367f4b11b67d9598f217b432\"><clipPath id=\"t161940c0e32c4007a57192a0700829d6\"><rect x=\"20.0\" y=\"40.0\" width=\"205.0\" height=\"170.0\"></rect></clipPath><g clip-path=\"url(#t161940c0e32c4007a57192a0700829d6)\"><g class=\"toytree-mark-Toytree\" id=\"tefc001c517e44c6c9f5f03839956b6f8\"><g class=\"toytree-Edges\" style=\"stroke:rgb(14.5%,14.5%,14.5%);stroke-opacity:1.0;stroke-linecap:round;stroke-width:2.0;fill:none\"><path d=\"M 37.7 141.6 L 37.7 191.6 L 112.8 191.6\" id=\"5,0\" style=\"\"></path><path d=\"M 112.8 91.7 L 112.8 125.0 L 187.9 125.0\" id=\"4,1\" style=\"\"></path><path d=\"M 150.4 58.4 L 150.4 58.4 L 187.9 58.4\" id=\"3,2\" style=\"\"></path><path d=\"M 112.8 91.7 L 112.8 58.4 L 150.4 58.4\" id=\"4,3\" style=\"\"></path><path d=\"M 37.7 141.6 L 37.7 91.7 L 112.8 91.7\" id=\"5,4\" style=\"\"></path></g><g class=\"toytree-AdmixEdges\" style=\"fill:rgb(0.0%,0.0%,0.0%);fill-opacity:0.0;stroke:rgb(90.6%,54.1%,76.5%);stroke-opacity:0.6;font-size:14px;stroke-linecap:round;stroke-width:5\"></g><g class=\"toytree-Nodes\" style=\"fill:rgb(0.0%,0.0%,0.0%);fill-opacity:1.0;stroke:rgb(14.9%,14.9%,14.9%);stroke-opacity:1.0;stroke-width:1.5\"><g id=\"Node-0\" transform=\"translate(112.821,191.568)\"><rect x=\"-8.0\" y=\"-8.0\" width=\"16\" height=\"16\"></rect></g><g id=\"Node-1\" transform=\"translate(187.929,125)\"><rect x=\"-8.0\" y=\"-8.0\" width=\"16\" height=\"16\"></rect></g><g id=\"Node-2\" transform=\"translate(187.929,58.432)\"><rect x=\"-8.0\" y=\"-8.0\" width=\"16\" height=\"16\"></rect></g><g id=\"Node-3\" transform=\"translate(150.375,58.432)\"><rect x=\"-8.0\" y=\"-8.0\" width=\"16\" height=\"16\"></rect></g><g id=\"Node-4\" transform=\"translate(112.821,91.716)\"><rect x=\"-8.0\" y=\"-8.0\" width=\"16\" height=\"16\"></rect></g><g id=\"Node-5\" transform=\"translate(37.7137,141.642)\"><rect x=\"-8.0\" y=\"-8.0\" width=\"16\" height=\"16\"></rect></g></g><g class=\"toytree-NodeLabels\" style=\"font-family:Helvetica;font-size:12px;font-weight:300;vertical-align:baseline;white-space:pre;stroke:none\"><g class=\"toytree-NodeLabel\" transform=\"translate(112.821,191.568)\"><text x=\"-4.002\" y=\"3.066\" style=\"fill:rgb(100.0%,100.0%,100.0%);fill-opacity:1.0\">B</text></g><g class=\"toytree-NodeLabel\" transform=\"translate(187.929,125)\"><text x=\"-4.002\" y=\"3.066\" style=\"fill:rgb(100.0%,100.0%,100.0%);fill-opacity:1.0\">X</text></g><g class=\"toytree-NodeLabel\" transform=\"translate(187.929,58.432)\"><text x=\"-4.002\" y=\"3.066\" style=\"fill:rgb(100.0%,100.0%,100.0%);fill-opacity:1.0\">A</text></g><g class=\"toytree-NodeLabel\" transform=\"translate(150.375,58.432)\"><text x=\"-4.332\" y=\"3.066\" style=\"fill:rgb(100.0%,100.0%,100.0%);fill-opacity:1.0\">C</text></g><g class=\"toytree-NodeLabel\" transform=\"translate(112.821,91.716)\"><text x=\"-8.004\" y=\"3.066\" style=\"fill:rgb(100.0%,100.0%,100.0%);fill-opacity:1.0\">AX</text></g><g class=\"toytree-NodeLabel\" transform=\"translate(37.7137,141.642)\"><text x=\"-8.004\" y=\"3.066\" style=\"fill:rgb(100.0%,100.0%,100.0%);fill-opacity:1.0\">AB</text></g></g><g class=\"toytree-TipLabels\" style=\"fill:rgb(14.5%,14.5%,14.5%);fill-opacity:1.0;font-family:Helvetica;font-size:10px;font-weight:300;vertical-align:baseline;white-space:pre;stroke:none\"><g class=\"toytree-TipLabel\" transform=\"translate(112.821,191.568)\"><text x=\"10.0\" y=\"2.5549999999999997\" style=\"fill:rgb(14.5%,14.5%,14.5%);fill-opacity:1.0\">B</text></g><g class=\"toytree-TipLabel\" transform=\"translate(187.929,125)\"><text x=\"10.0\" y=\"2.5549999999999997\" style=\"fill:rgb(14.5%,14.5%,14.5%);fill-opacity:1.0\">X</text></g><g class=\"toytree-TipLabel\" transform=\"translate(187.929,58.432)\"><text x=\"10.0\" y=\"2.5549999999999997\" style=\"fill:rgb(14.5%,14.5%,14.5%);fill-opacity:1.0\">A</text></g></g></g></g></g><g class=\"toyplot-coordinates-Cartesian\" id=\"t424976b03d77425491357a92662d78ad\"><clipPath id=\"t3af1829ccd0f49c0bc332a8288d9dffe\"><rect x=\"245.0\" y=\"40.0\" width=\"205.0\" height=\"170.0\"></rect></clipPath><g clip-path=\"url(#t3af1829ccd0f49c0bc332a8288d9dffe)\"><g class=\"toytree-mark-Toytree\" id=\"t93e93a8d3a4c458f991f9fc68f56759d\"><g class=\"toytree-Edges\" style=\"stroke:rgb(14.5%,14.5%,14.5%);stroke-opacity:1.0;stroke-linecap:round;stroke-width:2.0;fill:none\"><path d=\"M 262.7 152.7 L 262.7 191.6 L 337.4 191.6\" id=\"6,0\" style=\"\"></path><path d=\"M 337.4 113.9 L 337.4 147.2 L 412.2 147.2\" id=\"5,1\" style=\"\"></path><path d=\"M 374.8 80.6 L 374.8 102.8 L 412.2 102.8\" id=\"4,2\" style=\"\"></path><path d=\"M 374.8 80.6 L 374.8 58.4 L 412.2 58.4\" id=\"4,3\" style=\"\"></path><path d=\"M 337.4 113.9 L 337.4 80.6 L 374.8 80.6\" id=\"5,4\" style=\"\"></path><path d=\"M 262.7 152.7 L 262.7 113.9 L 337.4 113.9\" id=\"6,5\" style=\"\"></path></g><g class=\"toytree-AdmixEdges\" style=\"fill:rgb(0.0%,0.0%,0.0%);fill-opacity:0.0;stroke:rgb(90.6%,54.1%,76.5%);stroke-opacity:0.6;font-size:14px;stroke-linecap:round;stroke-width:5\"></g><g class=\"toytree-Nodes\" style=\"fill:rgb(0.0%,0.0%,0.0%);fill-opacity:1.0;stroke:rgb(14.9%,14.9%,14.9%);stroke-opacity:1.0;stroke-width:1.5\"><g id=\"Node-0\" transform=\"translate(337.423,191.568)\"><rect x=\"-8.0\" y=\"-8.0\" width=\"16\" height=\"16\"></rect></g><g id=\"Node-1\" transform=\"translate(412.17,147.189)\"><rect x=\"-8.0\" y=\"-8.0\" width=\"16\" height=\"16\"></rect></g><g id=\"Node-2\" transform=\"translate(412.17,102.811)\"><rect x=\"-8.0\" y=\"-8.0\" width=\"16\" height=\"16\"></rect></g><g id=\"Node-3\" transform=\"translate(412.17,58.432)\"><rect x=\"-8.0\" y=\"-8.0\" width=\"16\" height=\"16\"></rect></g><g id=\"Node-4\" transform=\"translate(374.797,80.6213)\"><rect x=\"-8.0\" y=\"-8.0\" width=\"16\" height=\"16\"></rect></g><g id=\"Node-5\" transform=\"translate(337.423,113.905)\"><rect x=\"-8.0\" y=\"-8.0\" width=\"16\" height=\"16\"></rect></g><g id=\"Node-6\" transform=\"translate(262.677,152.737)\"><rect x=\"-8.0\" y=\"-8.0\" width=\"16\" height=\"16\"></rect></g></g><g class=\"toytree-NodeLabels\" style=\"font-family:Helvetica;font-size:12px;font-weight:300;vertical-align:baseline;white-space:pre;stroke:none\"><g class=\"toytree-NodeLabel\" transform=\"translate(337.423,191.568)\"><text x=\"-4.002\" y=\"3.066\" style=\"fill:rgb(100.0%,100.0%,100.0%);fill-opacity:1.0\">B</text></g><g class=\"toytree-NodeLabel\" transform=\"translate(412.17,147.189)\"><text x=\"-4.002\" y=\"3.066\" style=\"fill:rgb(100.0%,100.0%,100.0%);fill-opacity:1.0\">X</text></g><g class=\"toytree-NodeLabel\" transform=\"translate(412.17,102.811)\"><text x=\"-4.002\" y=\"3.066\" style=\"fill:rgb(100.0%,100.0%,100.0%);fill-opacity:1.0\">A</text></g><g class=\"toytree-NodeLabel\" transform=\"translate(412.17,58.432)\"><text x=\"-4.332\" y=\"3.066\" style=\"fill:rgb(100.0%,100.0%,100.0%);fill-opacity:1.0\">D</text></g><g class=\"toytree-NodeLabel\" transform=\"translate(374.797,80.6213)\"><text x=\"-4.332\" y=\"3.066\" style=\"fill:rgb(100.0%,100.0%,100.0%);fill-opacity:1.0\">C</text></g><g class=\"toytree-NodeLabel\" transform=\"translate(337.423,113.905)\"><text x=\"-8.004\" y=\"3.066\" style=\"fill:rgb(100.0%,100.0%,100.0%);fill-opacity:1.0\">AX</text></g><g class=\"toytree-NodeLabel\" transform=\"translate(262.677,152.737)\"><text x=\"-8.004\" y=\"3.066\" style=\"fill:rgb(100.0%,100.0%,100.0%);fill-opacity:1.0\">AB</text></g></g><g class=\"toytree-TipLabels\" style=\"fill:rgb(14.5%,14.5%,14.5%);fill-opacity:1.0;font-family:Helvetica;font-size:10px;font-weight:300;vertical-align:baseline;white-space:pre;stroke:none\"><g class=\"toytree-TipLabel\" transform=\"translate(337.423,191.568)\"><text x=\"10.0\" y=\"2.5549999999999997\" style=\"fill:rgb(14.5%,14.5%,14.5%);fill-opacity:1.0\">B</text></g><g class=\"toytree-TipLabel\" transform=\"translate(412.17,147.189)\"><text x=\"10.0\" y=\"2.5549999999999997\" style=\"fill:rgb(14.5%,14.5%,14.5%);fill-opacity:1.0\">X</text></g><g class=\"toytree-TipLabel\" transform=\"translate(412.17,102.811)\"><text x=\"10.0\" y=\"2.5549999999999997\" style=\"fill:rgb(14.5%,14.5%,14.5%);fill-opacity:1.0\">A</text></g><g class=\"toytree-TipLabel\" transform=\"translate(412.17,58.432)\"><text x=\"10.0\" y=\"2.5549999999999997\" style=\"fill:rgb(14.5%,14.5%,14.5%);fill-opacity:1.0\">D</text></g></g></g></g></g></svg><div class=\"toyplot-behavior\"><script>(function()\n",
       "{\n",
       "var modules={};\n",
       "})();</script></div></div>"
      ]
     },
     "metadata": {},
     "output_type": "display_data"
    }
   ],
   "source": [
    "# add internal node named \"C\" ABOVE node \"A\"\n",
    "tree2 = tree.mod.add_internal_node(\"A\", name=\"C\", dist=None)\n",
    "\n",
    "# add sister node to node \"A\" to make \"C\" binary\n",
    "tree3 = tree2.mod.add_child_node(\"C\", name=\"D\", dist=None)\n",
    "\n",
    "toytree.mtree([tree2, tree3]).draw(**style);"
   ]
  },
  {
   "cell_type": "code",
   "execution_count": 33,
   "metadata": {},
   "outputs": [
    {
     "data": {
      "text/html": [
       "<div class=\"toyplot\" id=\"td69ef044005742cba485db682412d076\" style=\"text-align:center\"><svg class=\"toyplot-canvas-Canvas\" xmlns:toyplot=\"http://www.sandia.gov/toyplot\" xmlns:xlink=\"http://www.w3.org/1999/xlink\" xmlns=\"http://www.w3.org/2000/svg\" width=\"300.0px\" height=\"275.0px\" viewBox=\"0 0 300.0 275.0\" preserveAspectRatio=\"xMidYMid meet\" style=\"background-color:transparent;border-color:#292724;border-style:none;border-width:1.0;fill:rgb(16.1%,15.3%,14.1%);fill-opacity:1.0;font-family:Helvetica;font-size:12px;opacity:1.0;stroke:rgb(16.1%,15.3%,14.1%);stroke-opacity:1.0;stroke-width:1.0\" id=\"t0ad6bd91f374453fa92bf6c3854c458f\"><g class=\"toyplot-coordinates-Cartesian\" id=\"t05e780fa93c64dcb94f5a9727c3f94b1\"><clipPath id=\"t14345e0cc6424fd1b5337bee095e253a\"><rect x=\"35.0\" y=\"35.0\" width=\"230.0\" height=\"205.0\"></rect></clipPath><g clip-path=\"url(#t14345e0cc6424fd1b5337bee095e253a)\"><g class=\"toytree-mark-Toytree\" id=\"t7f760d13f3cb49e8acc739d2103cbaf1\"><g class=\"toytree-Edges\" style=\"stroke:rgb(14.5%,14.5%,14.5%);stroke-opacity:1.0;stroke-linecap:round;stroke-width:2.0;fill:none\"><path d=\"M 57.4 177.0 L 57.4 216.4 L 135.3 216.4\" id=\"7,0\" style=\"\"></path><path d=\"M 135.3 137.5 L 135.3 177.0 L 213.1 177.0\" id=\"6,1\" style=\"\"></path><path d=\"M 174.2 98.0 L 174.2 137.5 L 213.1 137.5\" id=\"5,2\" style=\"\"></path><path d=\"M 174.2 98.0 L 174.2 98.0 L 213.1 98.0\" id=\"5,3\" style=\"\"></path><path d=\"M 174.2 98.0 L 174.2 58.6 L 213.1 58.6\" id=\"5,4\" style=\"\"></path><path d=\"M 135.3 137.5 L 135.3 98.0 L 174.2 98.0\" id=\"6,5\" style=\"\"></path><path d=\"M 57.4 177.0 L 57.4 137.5 L 135.3 137.5\" id=\"7,6\" style=\"\"></path></g><g class=\"toytree-AdmixEdges\" style=\"fill:rgb(0.0%,0.0%,0.0%);fill-opacity:0.0;stroke:rgb(90.6%,54.1%,76.5%);stroke-opacity:0.6;font-size:14px;stroke-linecap:round;stroke-width:5\"></g><g class=\"toytree-Nodes\" style=\"fill:rgb(0.0%,0.0%,0.0%);fill-opacity:1.0;stroke:rgb(14.9%,14.9%,14.9%);stroke-opacity:1.0;stroke-width:1.5\"><g id=\"Node-0\" transform=\"translate(135.271,216.43)\"><rect x=\"-8.0\" y=\"-8.0\" width=\"16\" height=\"16\"></rect></g><g id=\"Node-1\" transform=\"translate(213.144,176.965)\"><rect x=\"-8.0\" y=\"-8.0\" width=\"16\" height=\"16\"></rect></g><g id=\"Node-2\" transform=\"translate(213.144,137.5)\"><rect x=\"-8.0\" y=\"-8.0\" width=\"16\" height=\"16\"></rect></g><g id=\"Node-3\" transform=\"translate(213.144,98.0348)\"><rect x=\"-8.0\" y=\"-8.0\" width=\"16\" height=\"16\"></rect></g><g id=\"Node-4\" transform=\"translate(213.144,58.5696)\"><rect x=\"-8.0\" y=\"-8.0\" width=\"16\" height=\"16\"></rect></g><g id=\"Node-5\" transform=\"translate(174.208,98.0348)\"><rect x=\"-8.0\" y=\"-8.0\" width=\"16\" height=\"16\"></rect></g><g id=\"Node-6\" transform=\"translate(135.271,137.5)\"><rect x=\"-8.0\" y=\"-8.0\" width=\"16\" height=\"16\"></rect></g><g id=\"Node-7\" transform=\"translate(57.3979,176.965)\"><rect x=\"-8.0\" y=\"-8.0\" width=\"16\" height=\"16\"></rect></g></g><g class=\"toytree-NodeLabels\" style=\"font-family:Helvetica;font-size:12px;font-weight:300;vertical-align:baseline;white-space:pre;stroke:none\"><g class=\"toytree-NodeLabel\" transform=\"translate(135.271,216.43)\"><text x=\"-4.002\" y=\"3.066\" style=\"fill:rgb(100.0%,100.0%,100.0%);fill-opacity:1.0\">B</text></g><g class=\"toytree-NodeLabel\" transform=\"translate(213.144,176.965)\"><text x=\"-4.002\" y=\"3.066\" style=\"fill:rgb(100.0%,100.0%,100.0%);fill-opacity:1.0\">X</text></g><g class=\"toytree-NodeLabel\" transform=\"translate(213.144,137.5)\"><text x=\"-4.002\" y=\"3.066\" style=\"fill:rgb(100.0%,100.0%,100.0%);fill-opacity:1.0\">A</text></g><g class=\"toytree-NodeLabel\" transform=\"translate(213.144,98.0348)\"><text x=\"-4.332\" y=\"3.066\" style=\"fill:rgb(100.0%,100.0%,100.0%);fill-opacity:1.0\">D</text></g><g class=\"toytree-NodeLabel\" transform=\"translate(213.144,58.5696)\"><text x=\"-4.002\" y=\"3.066\" style=\"fill:rgb(100.0%,100.0%,100.0%);fill-opacity:1.0\">Y</text></g><g class=\"toytree-NodeLabel\" transform=\"translate(174.208,98.0348)\"><text x=\"-4.332\" y=\"3.066\" style=\"fill:rgb(100.0%,100.0%,100.0%);fill-opacity:1.0\">C</text></g><g class=\"toytree-NodeLabel\" transform=\"translate(135.271,137.5)\"><text x=\"-8.004\" y=\"3.066\" style=\"fill:rgb(100.0%,100.0%,100.0%);fill-opacity:1.0\">AX</text></g><g class=\"toytree-NodeLabel\" transform=\"translate(57.3979,176.965)\"><text x=\"-8.004\" y=\"3.066\" style=\"fill:rgb(100.0%,100.0%,100.0%);fill-opacity:1.0\">AB</text></g></g><g class=\"toytree-TipLabels\" style=\"fill:rgb(14.5%,14.5%,14.5%);fill-opacity:1.0;font-family:Helvetica;font-size:12px;font-weight:300;vertical-align:baseline;white-space:pre;stroke:none\"><g class=\"toytree-TipLabel\" transform=\"translate(135.271,216.43)\"><text x=\"15.0\" y=\"3.066\" style=\"fill:rgb(14.5%,14.5%,14.5%);fill-opacity:1.0\">B</text></g><g class=\"toytree-TipLabel\" transform=\"translate(213.144,176.965)\"><text x=\"15.0\" y=\"3.066\" style=\"fill:rgb(14.5%,14.5%,14.5%);fill-opacity:1.0\">X</text></g><g class=\"toytree-TipLabel\" transform=\"translate(213.144,137.5)\"><text x=\"15.0\" y=\"3.066\" style=\"fill:rgb(14.5%,14.5%,14.5%);fill-opacity:1.0\">A</text></g><g class=\"toytree-TipLabel\" transform=\"translate(213.144,98.0348)\"><text x=\"15.0\" y=\"3.066\" style=\"fill:rgb(14.5%,14.5%,14.5%);fill-opacity:1.0\">D</text></g><g class=\"toytree-TipLabel\" transform=\"translate(213.144,58.5696)\"><text x=\"15.0\" y=\"3.066\" style=\"fill:rgb(14.5%,14.5%,14.5%);fill-opacity:1.0\">Y</text></g></g></g></g></g></svg><div class=\"toyplot-behavior\"><script>(function()\n",
       "{\n",
       "var modules={};\n",
       "})();</script></div></div>"
      ]
     },
     "metadata": {},
     "output_type": "display_data"
    }
   ],
   "source": [
    "# add another sister node to \"A\", creating a polyploidy\n",
    "polyploid = tree3.mod.add_sister_node(\"A\", name=\"Y\")\n",
    "polyploid.draw(**style);"
   ]
  },
  {
   "cell_type": "markdown",
   "metadata": {},
   "source": [
    "\n",
    "`add_internal_node_and_child` is a method to combine these previous steps into one command. When used, a parent-child pair is passed into the tree, splitting the edge above the queried Node. The internal Node and new child Node must both be defined with `parent_name=` and `name=` respectively. If no value is entered for `parent_dist`, then the parent Node is inserted at the midpoint of the edge. If a `parent_dist` value is defined, then it must fit within the length of the query Node's dist. The new child Node does not share these constraints. If no value is entered for `dist`, then it will be set to match the dist of its sister Node.\n"
   ]
  },
  {
   "cell_type": "code",
   "execution_count": 38,
   "metadata": {},
   "outputs": [
    {
     "data": {
      "text/html": [
       "<div class=\"toyplot\" id=\"tdc99b5f7ca004600a76e8d61e165810f\" style=\"text-align:center\"><svg class=\"toyplot-canvas-Canvas\" xmlns:toyplot=\"http://www.sandia.gov/toyplot\" xmlns:xlink=\"http://www.w3.org/1999/xlink\" xmlns=\"http://www.w3.org/2000/svg\" width=\"450.0px\" height=\"250.0px\" viewBox=\"0 0 450.0 250.0\" preserveAspectRatio=\"xMidYMid meet\" style=\"background-color:transparent;border-color:#292724;border-style:none;border-width:1.0;fill:rgb(16.1%,15.3%,14.1%);fill-opacity:1.0;font-family:Helvetica;font-size:12px;opacity:1.0;stroke:rgb(16.1%,15.3%,14.1%);stroke-opacity:1.0;stroke-width:1.0\" id=\"td8e89fab6a844c80a3f61c95a9b30bf6\"><g class=\"toyplot-coordinates-Cartesian\" id=\"t024570b95069430180f25cc5b28bee40\"><clipPath id=\"ta6dde19b3990410da3a096dc9bd36a85\"><rect x=\"20.0\" y=\"40.0\" width=\"205.0\" height=\"170.0\"></rect></clipPath><g clip-path=\"url(#ta6dde19b3990410da3a096dc9bd36a85)\"><g class=\"toytree-mark-Toytree\" id=\"t1a8fe19487f14864ac6509e341b46c0e\"><g class=\"toytree-Edges\" style=\"stroke:rgb(14.5%,14.5%,14.5%);stroke-opacity:1.0;stroke-linecap:round;stroke-width:2.0;fill:none\"><path d=\"M 37.7 141.6 L 37.7 191.6 L 112.8 191.6\" id=\"4,0\" style=\"\"></path><path d=\"M 112.8 91.7 L 112.8 125.0 L 187.9 125.0\" id=\"3,1\" style=\"\"></path><path d=\"M 112.8 91.7 L 112.8 58.4 L 187.9 58.4\" id=\"3,2\" style=\"\"></path><path d=\"M 37.7 141.6 L 37.7 91.7 L 112.8 91.7\" id=\"4,3\" style=\"\"></path></g><g class=\"toytree-AdmixEdges\" style=\"fill:rgb(0.0%,0.0%,0.0%);fill-opacity:0.0;stroke:rgb(90.6%,54.1%,76.5%);stroke-opacity:0.6;font-size:14px;stroke-linecap:round;stroke-width:5\"></g><g class=\"toytree-Nodes\" style=\"fill:rgb(0.0%,0.0%,0.0%);fill-opacity:1.0;stroke:rgb(14.9%,14.9%,14.9%);stroke-opacity:1.0;stroke-width:1.5\"><g id=\"Node-0\" transform=\"translate(112.821,191.568)\"><rect x=\"-8.0\" y=\"-8.0\" width=\"16\" height=\"16\"></rect></g><g id=\"Node-1\" transform=\"translate(187.929,125)\"><rect x=\"-8.0\" y=\"-8.0\" width=\"16\" height=\"16\"></rect></g><g id=\"Node-2\" transform=\"translate(187.929,58.432)\"><rect x=\"-8.0\" y=\"-8.0\" width=\"16\" height=\"16\"></rect></g><g id=\"Node-3\" transform=\"translate(112.821,91.716)\"><rect x=\"-8.0\" y=\"-8.0\" width=\"16\" height=\"16\"></rect></g><g id=\"Node-4\" transform=\"translate(37.7137,141.642)\"><rect x=\"-8.0\" y=\"-8.0\" width=\"16\" height=\"16\"></rect></g></g><g class=\"toytree-NodeLabels\" style=\"font-family:Helvetica;font-size:12px;font-weight:300;vertical-align:baseline;white-space:pre;stroke:none\"><g class=\"toytree-NodeLabel\" transform=\"translate(112.821,191.568)\"><text x=\"-4.002\" y=\"3.066\" style=\"fill:rgb(100.0%,100.0%,100.0%);fill-opacity:1.0\">B</text></g><g class=\"toytree-NodeLabel\" transform=\"translate(187.929,125)\"><text x=\"-4.002\" y=\"3.066\" style=\"fill:rgb(100.0%,100.0%,100.0%);fill-opacity:1.0\">A</text></g><g class=\"toytree-NodeLabel\" transform=\"translate(187.929,58.432)\"><text x=\"-4.002\" y=\"3.066\" style=\"fill:rgb(100.0%,100.0%,100.0%);fill-opacity:1.0\">X</text></g><g class=\"toytree-NodeLabel\" transform=\"translate(112.821,91.716)\"><text x=\"-8.004\" y=\"3.066\" style=\"fill:rgb(100.0%,100.0%,100.0%);fill-opacity:1.0\">AX</text></g><g class=\"toytree-NodeLabel\" transform=\"translate(37.7137,141.642)\"><text x=\"-8.004\" y=\"3.066\" style=\"fill:rgb(100.0%,100.0%,100.0%);fill-opacity:1.0\">AB</text></g></g><g class=\"toytree-TipLabels\" style=\"fill:rgb(14.5%,14.5%,14.5%);fill-opacity:1.0;font-family:Helvetica;font-size:10px;font-weight:300;vertical-align:baseline;white-space:pre;stroke:none\"><g class=\"toytree-TipLabel\" transform=\"translate(112.821,191.568)\"><text x=\"10.0\" y=\"2.5549999999999997\" style=\"fill:rgb(14.5%,14.5%,14.5%);fill-opacity:1.0\">B</text></g><g class=\"toytree-TipLabel\" transform=\"translate(187.929,125)\"><text x=\"10.0\" y=\"2.5549999999999997\" style=\"fill:rgb(14.5%,14.5%,14.5%);fill-opacity:1.0\">A</text></g><g class=\"toytree-TipLabel\" transform=\"translate(187.929,58.432)\"><text x=\"10.0\" y=\"2.5549999999999997\" style=\"fill:rgb(14.5%,14.5%,14.5%);fill-opacity:1.0\">X</text></g></g></g></g></g><g class=\"toyplot-coordinates-Cartesian\" id=\"t23e6afa287a5476da86cbd11075651ae\"><clipPath id=\"t4635914648d54124b2b4c3371964c38f\"><rect x=\"245.0\" y=\"40.0\" width=\"205.0\" height=\"170.0\"></rect></clipPath><g clip-path=\"url(#t4635914648d54124b2b4c3371964c38f)\"><g class=\"toytree-mark-Toytree\" id=\"t6fae496273b248e7860608a9e49f968d\"><g class=\"toytree-Edges\" style=\"stroke:rgb(14.5%,14.5%,14.5%);stroke-opacity:1.0;stroke-linecap:round;stroke-width:2.0;fill:none\"><path d=\"M 262.7 152.7 L 262.7 191.6 L 337.4 191.6\" id=\"6,0\" style=\"\"></path><path d=\"M 337.4 113.9 L 337.4 147.2 L 412.2 147.2\" id=\"5,1\" style=\"\"></path><path d=\"M 374.8 80.6 L 374.8 102.8 L 412.2 102.8\" id=\"4,2\" style=\"\"></path><path d=\"M 374.8 80.6 L 374.8 58.4 L 412.2 58.4\" id=\"4,3\" style=\"\"></path><path d=\"M 337.4 113.9 L 337.4 80.6 L 374.8 80.6\" id=\"5,4\" style=\"\"></path><path d=\"M 262.7 152.7 L 262.7 113.9 L 337.4 113.9\" id=\"6,5\" style=\"\"></path></g><g class=\"toytree-AdmixEdges\" style=\"fill:rgb(0.0%,0.0%,0.0%);fill-opacity:0.0;stroke:rgb(90.6%,54.1%,76.5%);stroke-opacity:0.6;font-size:14px;stroke-linecap:round;stroke-width:5\"></g><g class=\"toytree-Nodes\" style=\"fill:rgb(0.0%,0.0%,0.0%);fill-opacity:1.0;stroke:rgb(14.9%,14.9%,14.9%);stroke-opacity:1.0;stroke-width:1.5\"><g id=\"Node-0\" transform=\"translate(337.423,191.568)\"><rect x=\"-8.0\" y=\"-8.0\" width=\"16\" height=\"16\"></rect></g><g id=\"Node-1\" transform=\"translate(412.17,147.189)\"><rect x=\"-8.0\" y=\"-8.0\" width=\"16\" height=\"16\"></rect></g><g id=\"Node-2\" transform=\"translate(412.17,102.811)\"><rect x=\"-8.0\" y=\"-8.0\" width=\"16\" height=\"16\"></rect></g><g id=\"Node-3\" transform=\"translate(412.17,58.432)\"><rect x=\"-8.0\" y=\"-8.0\" width=\"16\" height=\"16\"></rect></g><g id=\"Node-4\" transform=\"translate(374.797,80.6213)\"><rect x=\"-8.0\" y=\"-8.0\" width=\"16\" height=\"16\"></rect></g><g id=\"Node-5\" transform=\"translate(337.423,113.905)\"><rect x=\"-8.0\" y=\"-8.0\" width=\"16\" height=\"16\"></rect></g><g id=\"Node-6\" transform=\"translate(262.677,152.737)\"><rect x=\"-8.0\" y=\"-8.0\" width=\"16\" height=\"16\"></rect></g></g><g class=\"toytree-NodeLabels\" style=\"font-family:Helvetica;font-size:12px;font-weight:300;vertical-align:baseline;white-space:pre;stroke:none\"><g class=\"toytree-NodeLabel\" transform=\"translate(337.423,191.568)\"><text x=\"-4.002\" y=\"3.066\" style=\"fill:rgb(100.0%,100.0%,100.0%);fill-opacity:1.0\">B</text></g><g class=\"toytree-NodeLabel\" transform=\"translate(412.17,147.189)\"><text x=\"-4.002\" y=\"3.066\" style=\"fill:rgb(100.0%,100.0%,100.0%);fill-opacity:1.0\">X</text></g><g class=\"toytree-NodeLabel\" transform=\"translate(412.17,102.811)\"><text x=\"-4.002\" y=\"3.066\" style=\"fill:rgb(100.0%,100.0%,100.0%);fill-opacity:1.0\">A</text></g><g class=\"toytree-NodeLabel\" transform=\"translate(412.17,58.432)\"><text x=\"-4.332\" y=\"3.066\" style=\"fill:rgb(100.0%,100.0%,100.0%);fill-opacity:1.0\">D</text></g><g class=\"toytree-NodeLabel\" transform=\"translate(374.797,80.6213)\"><text x=\"-4.332\" y=\"3.066\" style=\"fill:rgb(100.0%,100.0%,100.0%);fill-opacity:1.0\">C</text></g><g class=\"toytree-NodeLabel\" transform=\"translate(337.423,113.905)\"><text x=\"-8.004\" y=\"3.066\" style=\"fill:rgb(100.0%,100.0%,100.0%);fill-opacity:1.0\">AX</text></g><g class=\"toytree-NodeLabel\" transform=\"translate(262.677,152.737)\"><text x=\"-8.004\" y=\"3.066\" style=\"fill:rgb(100.0%,100.0%,100.0%);fill-opacity:1.0\">AB</text></g></g><g class=\"toytree-TipLabels\" style=\"fill:rgb(14.5%,14.5%,14.5%);fill-opacity:1.0;font-family:Helvetica;font-size:10px;font-weight:300;vertical-align:baseline;white-space:pre;stroke:none\"><g class=\"toytree-TipLabel\" transform=\"translate(337.423,191.568)\"><text x=\"10.0\" y=\"2.5549999999999997\" style=\"fill:rgb(14.5%,14.5%,14.5%);fill-opacity:1.0\">B</text></g><g class=\"toytree-TipLabel\" transform=\"translate(412.17,147.189)\"><text x=\"10.0\" y=\"2.5549999999999997\" style=\"fill:rgb(14.5%,14.5%,14.5%);fill-opacity:1.0\">X</text></g><g class=\"toytree-TipLabel\" transform=\"translate(412.17,102.811)\"><text x=\"10.0\" y=\"2.5549999999999997\" style=\"fill:rgb(14.5%,14.5%,14.5%);fill-opacity:1.0\">A</text></g><g class=\"toytree-TipLabel\" transform=\"translate(412.17,58.432)\"><text x=\"10.0\" y=\"2.5549999999999997\" style=\"fill:rgb(14.5%,14.5%,14.5%);fill-opacity:1.0\">D</text></g></g></g></g></g></svg><div class=\"toyplot-behavior\"><script>(function()\n",
       "{\n",
       "var modules={};\n",
       "})();</script></div></div>"
      ]
     },
     "metadata": {},
     "output_type": "display_data"
    }
   ],
   "source": [
    "# add internal node named \"C\" with child node named \"D\" ABOVE node \"A\"\n",
    "tree2 = tree.mod.add_internal_node_and_child(\"A\", name=\"D\", parent_name=\"C\")\n",
    "toytree.mtree([tree, tree2]).draw(**style);"
   ]
  },
  {
   "cell_type": "markdown",
   "metadata": {},
   "source": [
    "\n",
    "`add_internal_node_and_subtree` takes the previous function one step further by allowing the user to pass in a subtree. Similar to the other functions, this splits the edge between the queried node and its parent, but this time splits it with a new ancestral node to which a subtree (passed in as a `ToyTree` object) is connected. The name of the ancestral Node is passed in to the `parent_name=` argument, and both the distance of the parent and the subtree stem can be set with `parent_dist=` and `subtree_stem_dist=` respectively. By default, these are set at $0.5$. You can also choose to rescale the subtree such that it fits in the distance between the sister Node height and stem height."
   ]
  },
  {
   "cell_type": "code",
   "execution_count": 48,
   "metadata": {},
   "outputs": [
    {
     "data": {
      "text/html": [
       "<div class=\"toyplot\" id=\"t963b2e222559465aa6cf834d0565461f\" style=\"text-align:center\"><svg class=\"toyplot-canvas-Canvas\" xmlns:toyplot=\"http://www.sandia.gov/toyplot\" xmlns:xlink=\"http://www.w3.org/1999/xlink\" xmlns=\"http://www.w3.org/2000/svg\" width=\"675.0px\" height=\"250.0px\" viewBox=\"0 0 675.0 250.0\" preserveAspectRatio=\"xMidYMid meet\" style=\"background-color:transparent;border-color:#292724;border-style:none;border-width:1.0;fill:rgb(16.1%,15.3%,14.1%);fill-opacity:1.0;font-family:Helvetica;font-size:12px;opacity:1.0;stroke:rgb(16.1%,15.3%,14.1%);stroke-opacity:1.0;stroke-width:1.0\" id=\"t423576a9292042f1925b1c7a62bdf153\"><g class=\"toyplot-coordinates-Cartesian\" id=\"td633337e379b4423b2831eba01c9a089\"><clipPath id=\"t034863d61cbd4ed99dbf90b44903c290\"><rect x=\"20.0\" y=\"40.0\" width=\"205.0\" height=\"170.0\"></rect></clipPath><g clip-path=\"url(#t034863d61cbd4ed99dbf90b44903c290)\"><g class=\"toytree-mark-Toytree\" id=\"te7a46e2dab86451d8f90f2d23ddaf711\"><g class=\"toytree-Edges\" style=\"stroke:rgb(14.5%,14.5%,14.5%);stroke-opacity:1.0;stroke-linecap:round;stroke-width:2.0;fill:none\"><path d=\"M 30.8 142.4 L 30.8 194.4 L 108.5 194.4\" id=\"4,0\" style=\"\"></path><path d=\"M 108.5 90.3 L 108.5 125.0 L 186.1 125.0\" id=\"3,1\" style=\"\"></path><path d=\"M 108.5 90.3 L 108.5 55.6 L 186.1 55.6\" id=\"3,2\" style=\"\"></path><path d=\"M 30.8 142.4 L 30.8 90.3 L 108.5 90.3\" id=\"4,3\" style=\"\"></path></g><g class=\"toytree-AdmixEdges\" style=\"fill:rgb(0.0%,0.0%,0.0%);fill-opacity:0.0;stroke:rgb(90.6%,54.1%,76.5%);stroke-opacity:0.6;font-size:14px;stroke-linecap:round;stroke-width:5\"></g><g class=\"toytree-Nodes\" style=\"fill:rgb(40.0%,76.1%,64.7%);fill-opacity:1.0;stroke:rgb(14.9%,14.9%,14.9%);stroke-opacity:1.0;stroke-width:1.5\"></g><g class=\"toytree-TipLabels\" style=\"fill:rgb(14.5%,14.5%,14.5%);fill-opacity:1.0;font-family:Helvetica;font-size:10px;font-weight:300;vertical-align:baseline;white-space:pre;stroke:none\"><g class=\"toytree-TipLabel\" transform=\"translate(108.468,194.444)\"><text x=\"10.0\" y=\"2.5549999999999997\" style=\"fill:rgb(14.5%,14.5%,14.5%);fill-opacity:1.0\">A</text></g><g class=\"toytree-TipLabel\" transform=\"translate(186.097,125)\"><text x=\"10.0\" y=\"2.5549999999999997\" style=\"fill:rgb(14.5%,14.5%,14.5%);fill-opacity:1.0\">B</text></g><g class=\"toytree-TipLabel\" transform=\"translate(186.097,55.5556)\"><text x=\"10.0\" y=\"2.5549999999999997\" style=\"fill:rgb(14.5%,14.5%,14.5%);fill-opacity:1.0\">C</text></g></g></g></g></g><g class=\"toyplot-coordinates-Cartesian\" id=\"t61200cf7a1b0467c93c698550edd2f55\"><clipPath id=\"t1bcf9933944a467fbfa69164c9960b84\"><rect x=\"245.0\" y=\"40.0\" width=\"205.0\" height=\"170.0\"></rect></clipPath><g clip-path=\"url(#t1bcf9933944a467fbfa69164c9960b84)\"><g class=\"toytree-mark-Toytree\" id=\"tc52ad4a1d1b1496389bab4ae5fd410ed\"><g class=\"toytree-Edges\" style=\"stroke:rgb(14.5%,14.5%,14.5%);stroke-opacity:1.0;stroke-linecap:round;stroke-width:2.0;fill:none\"><path d=\"M 255.8 142.4 L 255.8 194.4 L 333.9 194.4\" id=\"4,0\" style=\"\"></path><path d=\"M 333.9 90.3 L 333.9 125.0 L 411.9 125.0\" id=\"3,1\" style=\"\"></path><path d=\"M 333.9 90.3 L 333.9 55.6 L 411.9 55.6\" id=\"3,2\" style=\"\"></path><path d=\"M 255.8 142.4 L 255.8 90.3 L 333.9 90.3\" id=\"4,3\" style=\"\"></path></g><g class=\"toytree-AdmixEdges\" style=\"fill:rgb(0.0%,0.0%,0.0%);fill-opacity:0.0;stroke:rgb(90.6%,54.1%,76.5%);stroke-opacity:0.6;font-size:14px;stroke-linecap:round;stroke-width:5\"></g><g class=\"toytree-Nodes\" style=\"fill:rgb(40.0%,76.1%,64.7%);fill-opacity:1.0;stroke:rgb(14.9%,14.9%,14.9%);stroke-opacity:1.0;stroke-width:1.5\"></g><g class=\"toytree-TipLabels\" style=\"fill:rgb(14.5%,14.5%,14.5%);fill-opacity:1.0;font-family:Helvetica;font-size:10px;font-weight:300;vertical-align:baseline;white-space:pre;stroke:none\"><g class=\"toytree-TipLabel\" transform=\"translate(333.862,194.444)\"><text x=\"10.0\" y=\"2.5549999999999997\" style=\"fill:rgb(14.5%,14.5%,14.5%);fill-opacity:1.0\">X</text></g><g class=\"toytree-TipLabel\" transform=\"translate(411.88,125)\"><text x=\"10.0\" y=\"2.5549999999999997\" style=\"fill:rgb(14.5%,14.5%,14.5%);fill-opacity:1.0\">Y</text></g><g class=\"toytree-TipLabel\" transform=\"translate(411.88,55.5556)\"><text x=\"10.0\" y=\"2.5549999999999997\" style=\"fill:rgb(14.5%,14.5%,14.5%);fill-opacity:1.0\">Z</text></g></g></g></g></g><g class=\"toyplot-coordinates-Cartesian\" id=\"t36e3be169287407a8dd16ff4e3fcb662\"><clipPath id=\"tbdb181dcface45e684eecb5ff4c38c3b\"><rect x=\"470.0\" y=\"40.0\" width=\"205.0\" height=\"170.0\"></rect></clipPath><g clip-path=\"url(#tbdb181dcface45e684eecb5ff4c38c3b)\"><g class=\"toytree-mark-Toytree\" id=\"t59be5c0650c44aefbc8431d309d9871e\"><g class=\"toytree-Edges\" style=\"stroke:rgb(14.5%,14.5%,14.5%);stroke-opacity:1.0;stroke-linecap:round;stroke-width:2.0;fill:none\"><path d=\"M 480.8 167.5 L 480.8 194.4 L 558.5 194.4\" id=\"10,0\" style=\"\"></path><path d=\"M 558.5 140.6 L 558.5 166.7 L 636.1 166.7\" id=\"9,1\" style=\"\"></path><path d=\"M 597.3 114.6 L 597.3 138.9 L 636.1 138.9\" id=\"8,2\" style=\"\"></path><path d=\"M 616.7 90.3 L 616.7 111.1 L 626.4 111.1\" id=\"7,3\" style=\"\"></path><path d=\"M 626.4 69.4 L 626.4 83.3 L 636.1 83.3\" id=\"6,4\" style=\"\"></path><path d=\"M 626.4 69.4 L 626.4 55.6 L 636.1 55.6\" id=\"6,5\" style=\"\"></path><path d=\"M 616.7 90.3 L 616.7 69.4 L 626.4 69.4\" id=\"7,6\" style=\"\"></path><path d=\"M 597.3 114.6 L 597.3 90.3 L 616.7 90.3\" id=\"8,7\" style=\"\"></path><path d=\"M 558.5 140.6 L 558.5 114.6 L 597.3 114.6\" id=\"9,8\" style=\"\"></path><path d=\"M 480.8 167.5 L 480.8 140.6 L 558.5 140.6\" id=\"10,9\" style=\"\"></path></g><g class=\"toytree-AdmixEdges\" style=\"fill:rgb(0.0%,0.0%,0.0%);fill-opacity:0.0;stroke:rgb(90.6%,54.1%,76.5%);stroke-opacity:0.6;font-size:14px;stroke-linecap:round;stroke-width:5\"></g><g class=\"toytree-Nodes\" style=\"fill:rgb(40.0%,76.1%,64.7%);fill-opacity:1.0;stroke:rgb(14.9%,14.9%,14.9%);stroke-opacity:1.0;stroke-width:1.5\"></g><g class=\"toytree-TipLabels\" style=\"fill:rgb(14.5%,14.5%,14.5%);fill-opacity:1.0;font-family:Helvetica;font-size:10px;font-weight:300;vertical-align:baseline;white-space:pre;stroke:none\"><g class=\"toytree-TipLabel\" transform=\"translate(558.468,194.444)\"><text x=\"10.0\" y=\"2.5549999999999997\" style=\"fill:rgb(14.5%,14.5%,14.5%);fill-opacity:1.0\">A</text></g><g class=\"toytree-TipLabel\" transform=\"translate(636.097,166.667)\"><text x=\"10.0\" y=\"2.5549999999999997\" style=\"fill:rgb(14.5%,14.5%,14.5%);fill-opacity:1.0\">B</text></g><g class=\"toytree-TipLabel\" transform=\"translate(636.097,138.889)\"><text x=\"10.0\" y=\"2.5549999999999997\" style=\"fill:rgb(14.5%,14.5%,14.5%);fill-opacity:1.0\">C</text></g><g class=\"toytree-TipLabel\" transform=\"translate(626.393,111.111)\"><text x=\"10.0\" y=\"2.5549999999999997\" style=\"fill:rgb(14.5%,14.5%,14.5%);fill-opacity:1.0\">X</text></g><g class=\"toytree-TipLabel\" transform=\"translate(636.097,83.3333)\"><text x=\"10.0\" y=\"2.5549999999999997\" style=\"fill:rgb(14.5%,14.5%,14.5%);fill-opacity:1.0\">Y</text></g><g class=\"toytree-TipLabel\" transform=\"translate(636.097,55.5556)\"><text x=\"10.0\" y=\"2.5549999999999997\" style=\"fill:rgb(14.5%,14.5%,14.5%);fill-opacity:1.0\">Z</text></g></g></g></g></g></svg><div class=\"toyplot-behavior\"><script>(function()\n",
       "{\n",
       "var modules={};\n",
       "})();</script></div></div>"
      ]
     },
     "metadata": {},
     "output_type": "display_data"
    }
   ],
   "source": [
    "# two small trees\n",
    "tree = toytree.tree(\"(A,(B,C));\")\n",
    "sub = toytree.tree(\"(X,(Y,Z));\")\n",
    "\n",
    "# add subtree \"sub\" to original tree above node C\n",
    "merged = tree.mod.add_internal_node_and_subtree(\n",
    "    \"C\", subtree=sub, parent_name=\"D\", subtree_rescale=True)\n",
    "\n",
    "# draw subtrees and new merged tree\n",
    "toytree.mtree([tree, sub, merged]).draw();"
   ]
  },
  {
   "cell_type": "markdown",
   "metadata": {},
   "source": [
    "### Removing nodes  \n",
    "\n",
    "`remove_nodes` simply deletes the nodes that are queried. By default, the orphans created by deleting internal nodes (perhaps this metaphor has gone too far) inheret their deleted parents' distances such that their distances reaches their grandparent's original height. The user can alternatively pass in `preserve_dists=False` to have children retain their original distances (while still being connected to their grandparents). "
   ]
  },
  {
   "cell_type": "code",
   "execution_count": 54,
   "metadata": {},
   "outputs": [
    {
     "data": {
      "text/html": [
       "<div class=\"toyplot\" id=\"t986e1f5b99394021918f15ff7fd71f36\" style=\"text-align:center\"><svg class=\"toyplot-canvas-Canvas\" xmlns:toyplot=\"http://www.sandia.gov/toyplot\" xmlns:xlink=\"http://www.w3.org/1999/xlink\" xmlns=\"http://www.w3.org/2000/svg\" width=\"450.0px\" height=\"250.0px\" viewBox=\"0 0 450.0 250.0\" preserveAspectRatio=\"xMidYMid meet\" style=\"background-color:transparent;border-color:#292724;border-style:none;border-width:1.0;fill:rgb(16.1%,15.3%,14.1%);fill-opacity:1.0;font-family:Helvetica;font-size:12px;opacity:1.0;stroke:rgb(16.1%,15.3%,14.1%);stroke-opacity:1.0;stroke-width:1.0\" id=\"tb82b769ccbed4fd48f1e1db447caae61\"><g class=\"toyplot-coordinates-Cartesian\" id=\"t9b7b3e09011a4913a7e4d9c1ea6443a2\"><clipPath id=\"t459a09550f0e4496a4ddc8923ec93530\"><rect x=\"40.0\" y=\"40.0\" width=\"185.0\" height=\"170.0\"></rect></clipPath><g clip-path=\"url(#t459a09550f0e4496a4ddc8923ec93530)\"><g class=\"toytree-mark-Toytree\" id=\"t8677f95bc3ab4a1c88238f5dd119c623\"><g class=\"toytree-Edges\" style=\"stroke:rgb(14.5%,14.5%,14.5%);stroke-opacity:1.0;stroke-linecap:round;stroke-width:2;fill:none\"><path d=\"M 54.1 152.8 L 99.2 194.4\" id=\"9,0\" style=\"\"></path><path d=\"M 54.1 152.8 L 99.2 166.7\" id=\"9,1\" style=\"\"></path><path d=\"M 144.3 125.0 L 189.5 138.9\" id=\"6,2\" style=\"\"></path><path d=\"M 144.3 125.0 L 189.5 111.1\" id=\"6,3\" style=\"\"></path><path d=\"M 144.3 69.4 L 189.5 83.3\" id=\"7,4\" style=\"\"></path><path d=\"M 144.3 69.4 L 189.5 55.6\" id=\"7,5\" style=\"\"></path><path d=\"M 99.2 97.2 L 144.3 125.0\" id=\"8,6\" style=\"\"></path><path d=\"M 99.2 97.2 L 144.3 69.4\" id=\"8,7\" style=\"\"></path><path d=\"M 54.1 152.8 L 99.2 97.2\" id=\"9,8\" style=\"\"></path></g><g class=\"toytree-AdmixEdges\" style=\"fill:rgb(0.0%,0.0%,0.0%);fill-opacity:0.0;stroke:rgb(90.6%,54.1%,76.5%);stroke-opacity:0.6;font-size:14px;stroke-linecap:round;stroke-width:5\"></g><g class=\"toytree-Nodes\" style=\"fill:rgb(40.0%,76.1%,64.7%);fill-opacity:1.0;stroke:rgb(14.5%,14.5%,14.5%);stroke-opacity:1.0;stroke-width:1.5\"><g id=\"Node-0\" transform=\"translate(99.2243,194.444)\"><circle r=\"3.5\"></circle></g><g id=\"Node-1\" transform=\"translate(99.2243,166.667)\"><circle r=\"3.5\"></circle></g><g id=\"Node-2\" transform=\"translate(189.469,138.889)\"><circle r=\"3.5\"></circle></g><g id=\"Node-3\" transform=\"translate(189.469,111.111)\"><circle r=\"3.5\"></circle></g><g id=\"Node-4\" transform=\"translate(189.469,83.3333)\"><circle r=\"3.5\"></circle></g><g id=\"Node-5\" transform=\"translate(189.469,55.5556)\"><circle r=\"3.5\"></circle></g><g id=\"Node-6\" transform=\"translate(144.347,125)\"><circle r=\"3.5\"></circle></g><g id=\"Node-7\" transform=\"translate(144.347,69.4444)\"><circle r=\"3.5\"></circle></g><g id=\"Node-8\" transform=\"translate(99.2243,97.2222)\"><circle r=\"3.5\"></circle></g><g id=\"Node-9\" transform=\"translate(54.102,152.778)\"><circle r=\"3.5\"></circle></g></g><g class=\"toytree-TipLabels\" style=\"fill:rgb(14.5%,14.5%,14.5%);fill-opacity:1.0;font-family:Helvetica;font-size:10px;font-weight:300;vertical-align:baseline;white-space:pre;stroke:none\"><g class=\"toytree-TipLabel\" transform=\"translate(99.2243,194.444)\"><text x=\"10.0\" y=\"2.5549999999999997\" style=\"fill:rgb(14.5%,14.5%,14.5%);fill-opacity:1.0\">a</text></g><g class=\"toytree-TipLabel\" transform=\"translate(99.2243,166.667)\"><text x=\"10.0\" y=\"2.5549999999999997\" style=\"fill:rgb(14.5%,14.5%,14.5%);fill-opacity:1.0\">b</text></g><g class=\"toytree-TipLabel\" transform=\"translate(189.469,138.889)\"><text x=\"10.0\" y=\"2.5549999999999997\" style=\"fill:rgb(14.5%,14.5%,14.5%);fill-opacity:1.0\">c</text></g><g class=\"toytree-TipLabel\" transform=\"translate(189.469,111.111)\"><text x=\"10.0\" y=\"2.5549999999999997\" style=\"fill:rgb(14.5%,14.5%,14.5%);fill-opacity:1.0\">d</text></g><g class=\"toytree-TipLabel\" transform=\"translate(189.469,83.3333)\"><text x=\"10.0\" y=\"2.5549999999999997\" style=\"fill:rgb(14.5%,14.5%,14.5%);fill-opacity:1.0\">e</text></g><g class=\"toytree-TipLabel\" transform=\"translate(189.469,55.5556)\"><text x=\"10.0\" y=\"2.5549999999999997\" style=\"fill:rgb(14.5%,14.5%,14.5%);fill-opacity:1.0\">f</text></g></g></g></g><g class=\"toyplot-coordinates-Axis\" id=\"tf0b20ece2d254cc0b4442a399c726993\" transform=\"translate(50.0,200.0)translate(0,10.0)\"><line x1=\"4.102028639618135\" y1=\"0\" x2=\"139.4689737470167\" y2=\"0\" style=\"\"></line><g><line x1=\"4.102028639618135\" y1=\"0\" x2=\"4.102028639618135\" y2=\"-5\" style=\"\"></line><line x1=\"49.22434367541766\" y1=\"0\" x2=\"49.22434367541766\" y2=\"-5\" style=\"\"></line><line x1=\"94.34665871121717\" y1=\"0\" x2=\"94.34665871121717\" y2=\"-5\" style=\"\"></line><line x1=\"139.4689737470167\" y1=\"0\" x2=\"139.4689737470167\" y2=\"-5\" style=\"\"></line></g><g><g transform=\"translate(4.102028639618135,6)\"><text x=\"-2.78\" y=\"8.555\" style=\"fill:rgb(16.1%,15.3%,14.1%);fill-opacity:1.0;font-family:helvetica;font-size:10.0px;font-weight:normal;stroke:none;vertical-align:baseline;white-space:pre\">3</text></g><g transform=\"translate(49.22434367541766,6)\"><text x=\"-2.78\" y=\"8.555\" style=\"fill:rgb(16.1%,15.3%,14.1%);fill-opacity:1.0;font-family:helvetica;font-size:10.0px;font-weight:normal;stroke:none;vertical-align:baseline;white-space:pre\">2</text></g><g transform=\"translate(94.34665871121717,6)\"><text x=\"-2.78\" y=\"8.555\" style=\"fill:rgb(16.1%,15.3%,14.1%);fill-opacity:1.0;font-family:helvetica;font-size:10.0px;font-weight:normal;stroke:none;vertical-align:baseline;white-space:pre\">1</text></g><g transform=\"translate(139.4689737470167,6)\"><text x=\"-2.78\" y=\"8.555\" style=\"fill:rgb(16.1%,15.3%,14.1%);fill-opacity:1.0;font-family:helvetica;font-size:10.0px;font-weight:normal;stroke:none;vertical-align:baseline;white-space:pre\">0</text></g></g><g class=\"toyplot-coordinates-Axis-coordinates\" style=\"visibility:hidden\" transform=\"\"><line x1=\"0\" x2=\"0\" y1=\"-3.0\" y2=\"4.5\" style=\"stroke:rgb(43.9%,50.2%,56.5%);stroke-opacity:1.0;stroke-width:1.0\"></line><text x=\"0\" y=\"-6\" style=\"alignment-baseline:alphabetic;fill:rgb(43.9%,50.2%,56.5%);fill-opacity:1.0;font-size:10px;font-weight:normal;stroke:none;text-anchor:middle\"></text></g></g></g><g class=\"toyplot-coordinates-Cartesian\" id=\"t3d12183d82de4041b0fb3f3fce499b98\"><clipPath id=\"t13ca98a4853645739ea53d7032209053\"><rect x=\"265.0\" y=\"40.0\" width=\"185.0\" height=\"170.0\"></rect></clipPath><g clip-path=\"url(#t13ca98a4853645739ea53d7032209053)\"><g class=\"toytree-mark-Toytree\" id=\"t9bab32dc008a4aec8bbef9099edbc0ce\"><g class=\"toytree-Edges\" style=\"stroke:rgb(14.5%,14.5%,14.5%);stroke-opacity:1.0;stroke-linecap:round;stroke-width:2;fill:none\"><path d=\"M 279.1 148.1 L 324.2 194.4\" id=\"6,0\" style=\"\"></path><path d=\"M 369.3 148.1 L 414.5 148.1\" id=\"4,1\" style=\"\"></path><path d=\"M 324.2 101.9 L 414.5 101.9\" id=\"5,2\" style=\"\"></path><path d=\"M 324.2 101.9 L 414.5 55.6\" id=\"5,3\" style=\"\"></path><path d=\"M 324.2 101.9 L 369.3 148.1\" id=\"5,4\" style=\"\"></path><path d=\"M 279.1 148.1 L 324.2 101.9\" id=\"6,5\" style=\"\"></path></g><g class=\"toytree-AdmixEdges\" style=\"fill:rgb(0.0%,0.0%,0.0%);fill-opacity:0.0;stroke:rgb(90.6%,54.1%,76.5%);stroke-opacity:0.6;font-size:14px;stroke-linecap:round;stroke-width:5\"></g><g class=\"toytree-Nodes\" style=\"fill:rgb(40.0%,76.1%,64.7%);fill-opacity:1.0;stroke:rgb(14.5%,14.5%,14.5%);stroke-opacity:1.0;stroke-width:1.5\"><g id=\"Node-0\" transform=\"translate(324.224,194.444)\"><circle r=\"3.5\"></circle></g><g id=\"Node-1\" transform=\"translate(414.469,148.148)\"><circle r=\"3.5\"></circle></g><g id=\"Node-2\" transform=\"translate(414.469,101.852)\"><circle r=\"3.5\"></circle></g><g id=\"Node-3\" transform=\"translate(414.469,55.5556)\"><circle r=\"3.5\"></circle></g><g id=\"Node-4\" transform=\"translate(369.347,148.148)\"><circle r=\"3.5\"></circle></g><g id=\"Node-5\" transform=\"translate(324.224,101.852)\"><circle r=\"3.5\"></circle></g><g id=\"Node-6\" transform=\"translate(279.102,148.148)\"><circle r=\"3.5\"></circle></g></g><g class=\"toytree-TipLabels\" style=\"fill:rgb(14.5%,14.5%,14.5%);fill-opacity:1.0;font-family:Helvetica;font-size:10px;font-weight:300;vertical-align:baseline;white-space:pre;stroke:none\"><g class=\"toytree-TipLabel\" transform=\"translate(324.224,194.444)\"><text x=\"10.0\" y=\"2.5549999999999997\" style=\"fill:rgb(14.5%,14.5%,14.5%);fill-opacity:1.0\">a</text></g><g class=\"toytree-TipLabel\" transform=\"translate(414.469,148.148)\"><text x=\"10.0\" y=\"2.5549999999999997\" style=\"fill:rgb(14.5%,14.5%,14.5%);fill-opacity:1.0\">d</text></g><g class=\"toytree-TipLabel\" transform=\"translate(414.469,101.852)\"><text x=\"10.0\" y=\"2.5549999999999997\" style=\"fill:rgb(14.5%,14.5%,14.5%);fill-opacity:1.0\">e</text></g><g class=\"toytree-TipLabel\" transform=\"translate(414.469,55.5556)\"><text x=\"10.0\" y=\"2.5549999999999997\" style=\"fill:rgb(14.5%,14.5%,14.5%);fill-opacity:1.0\">f</text></g></g></g></g><g class=\"toyplot-coordinates-Axis\" id=\"ta43d1550981d4883a903c7ad3a526756\" transform=\"translate(275.0,200.0)translate(0,10.0)\"><line x1=\"4.102028639618135\" y1=\"0\" x2=\"139.4689737470167\" y2=\"0\" style=\"\"></line><g><line x1=\"4.102028639618135\" y1=\"0\" x2=\"4.102028639618135\" y2=\"-5\" style=\"\"></line><line x1=\"49.22434367541766\" y1=\"0\" x2=\"49.22434367541766\" y2=\"-5\" style=\"\"></line><line x1=\"94.34665871121717\" y1=\"0\" x2=\"94.34665871121717\" y2=\"-5\" style=\"\"></line><line x1=\"139.4689737470167\" y1=\"0\" x2=\"139.4689737470167\" y2=\"-5\" style=\"\"></line></g><g><g transform=\"translate(4.102028639618135,6)\"><text x=\"-2.78\" y=\"8.555\" style=\"fill:rgb(16.1%,15.3%,14.1%);fill-opacity:1.0;font-family:helvetica;font-size:10.0px;font-weight:normal;stroke:none;vertical-align:baseline;white-space:pre\">3</text></g><g transform=\"translate(49.22434367541766,6)\"><text x=\"-2.78\" y=\"8.555\" style=\"fill:rgb(16.1%,15.3%,14.1%);fill-opacity:1.0;font-family:helvetica;font-size:10.0px;font-weight:normal;stroke:none;vertical-align:baseline;white-space:pre\">2</text></g><g transform=\"translate(94.34665871121717,6)\"><text x=\"-2.78\" y=\"8.555\" style=\"fill:rgb(16.1%,15.3%,14.1%);fill-opacity:1.0;font-family:helvetica;font-size:10.0px;font-weight:normal;stroke:none;vertical-align:baseline;white-space:pre\">1</text></g><g transform=\"translate(139.4689737470167,6)\"><text x=\"-2.78\" y=\"8.555\" style=\"fill:rgb(16.1%,15.3%,14.1%);fill-opacity:1.0;font-family:helvetica;font-size:10.0px;font-weight:normal;stroke:none;vertical-align:baseline;white-space:pre\">0</text></g></g><g class=\"toyplot-coordinates-Axis-coordinates\" style=\"visibility:hidden\" transform=\"\"><line x1=\"0\" x2=\"0\" y1=\"-3.0\" y2=\"4.5\" style=\"stroke:rgb(43.9%,50.2%,56.5%);stroke-opacity:1.0;stroke-width:1.0\"></line><text x=\"0\" y=\"-6\" style=\"alignment-baseline:alphabetic;fill:rgb(43.9%,50.2%,56.5%);fill-opacity:1.0;font-size:10px;font-weight:normal;stroke:none;text-anchor:middle\"></text></g></g></g></svg><div class=\"toyplot-behavior\"><script>(function()\n",
       "{\n",
       "var modules={};\n",
       "modules[\"toyplot/canvas/id\"] = \"tb82b769ccbed4fd48f1e1db447caae61\";\n",
       "modules[\"toyplot/canvas\"] = (function(canvas_id)\n",
       "    {\n",
       "        return document.querySelector(\"#\" + canvas_id);\n",
       "    })(modules[\"toyplot/canvas/id\"]);\n",
       "modules[\"toyplot.coordinates.Axis\"] = (\n",
       "        function(canvas)\n",
       "        {\n",
       "            function sign(x)\n",
       "            {\n",
       "                return x < 0 ? -1 : x > 0 ? 1 : 0;\n",
       "            }\n",
       "\n",
       "            function mix(a, b, amount)\n",
       "            {\n",
       "                return ((1.0 - amount) * a) + (amount * b);\n",
       "            }\n",
       "\n",
       "            function log(x, base)\n",
       "            {\n",
       "                return Math.log(Math.abs(x)) / Math.log(base);\n",
       "            }\n",
       "\n",
       "            function in_range(a, x, b)\n",
       "            {\n",
       "                var left = Math.min(a, b);\n",
       "                var right = Math.max(a, b);\n",
       "                return left <= x && x <= right;\n",
       "            }\n",
       "\n",
       "            function inside(range, projection)\n",
       "            {\n",
       "                for(var i = 0; i != projection.length; ++i)\n",
       "                {\n",
       "                    var segment = projection[i];\n",
       "                    if(in_range(segment.range.min, range, segment.range.max))\n",
       "                        return true;\n",
       "                }\n",
       "                return false;\n",
       "            }\n",
       "\n",
       "            function to_domain(range, projection)\n",
       "            {\n",
       "                for(var i = 0; i != projection.length; ++i)\n",
       "                {\n",
       "                    var segment = projection[i];\n",
       "                    if(in_range(segment.range.bounds.min, range, segment.range.bounds.max))\n",
       "                    {\n",
       "                        if(segment.scale == \"linear\")\n",
       "                        {\n",
       "                            var amount = (range - segment.range.min) / (segment.range.max - segment.range.min);\n",
       "                            return mix(segment.domain.min, segment.domain.max, amount)\n",
       "                        }\n",
       "                        else if(segment.scale[0] == \"log\")\n",
       "                        {\n",
       "                            var amount = (range - segment.range.min) / (segment.range.max - segment.range.min);\n",
       "                            var base = segment.scale[1];\n",
       "                            return sign(segment.domain.min) * Math.pow(base, mix(log(segment.domain.min, base), log(segment.domain.max, base), amount));\n",
       "                        }\n",
       "                    }\n",
       "                }\n",
       "            }\n",
       "\n",
       "            var axes = {};\n",
       "\n",
       "            function display_coordinates(e)\n",
       "            {\n",
       "                var current = canvas.createSVGPoint();\n",
       "                current.x = e.clientX;\n",
       "                current.y = e.clientY;\n",
       "\n",
       "                for(var axis_id in axes)\n",
       "                {\n",
       "                    var axis = document.querySelector(\"#\" + axis_id);\n",
       "                    var coordinates = axis.querySelector(\".toyplot-coordinates-Axis-coordinates\");\n",
       "                    if(coordinates)\n",
       "                    {\n",
       "                        var projection = axes[axis_id];\n",
       "                        var local = current.matrixTransform(axis.getScreenCTM().inverse());\n",
       "                        if(inside(local.x, projection))\n",
       "                        {\n",
       "                            var domain = to_domain(local.x, projection);\n",
       "                            coordinates.style.visibility = \"visible\";\n",
       "                            coordinates.setAttribute(\"transform\", \"translate(\" + local.x + \")\");\n",
       "                            var text = coordinates.querySelector(\"text\");\n",
       "                            text.textContent = domain.toFixed(2);\n",
       "                        }\n",
       "                        else\n",
       "                        {\n",
       "                            coordinates.style.visibility= \"hidden\";\n",
       "                        }\n",
       "                    }\n",
       "                }\n",
       "            }\n",
       "\n",
       "            canvas.addEventListener(\"click\", display_coordinates);\n",
       "\n",
       "            var module = {};\n",
       "            module.show_coordinates = function(axis_id, projection)\n",
       "            {\n",
       "                axes[axis_id] = projection;\n",
       "            }\n",
       "\n",
       "            return module;\n",
       "        })(modules[\"toyplot/canvas\"]);\n",
       "(function(axis, axis_id, projection)\n",
       "        {\n",
       "            axis.show_coordinates(axis_id, projection);\n",
       "        })(modules[\"toyplot.coordinates.Axis\"],\"tf0b20ece2d254cc0b4442a399c726993\",[{\"domain\": {\"bounds\": {\"max\": Infinity, \"min\": -Infinity}, \"max\": 0.565818181818182, \"min\": -3.090909090909091}, \"range\": {\"bounds\": {\"max\": Infinity, \"min\": -Infinity}, \"max\": 165.0, \"min\": 0.0}, \"scale\": \"linear\"}]);\n",
       "(function(axis, axis_id, projection)\n",
       "        {\n",
       "            axis.show_coordinates(axis_id, projection);\n",
       "        })(modules[\"toyplot.coordinates.Axis\"],\"ta43d1550981d4883a903c7ad3a526756\",[{\"domain\": {\"bounds\": {\"max\": Infinity, \"min\": -Infinity}, \"max\": 0.565818181818182, \"min\": -3.090909090909091}, \"range\": {\"bounds\": {\"max\": Infinity, \"min\": -Infinity}, \"max\": 165.0, \"min\": 0.0}, \"scale\": \"linear\"}]);\n",
       "})();</script></div></div>"
      ]
     },
     "metadata": {},
     "output_type": "display_data"
    }
   ],
   "source": [
    "tree = toytree.tree(\"(a,b,((c,d)CD,(e,f)EF)X)AB;\")\n",
    "mod_tree = tree.mod.remove_nodes(\"b\", \"c\", \"EF\")\n",
    "toytree.mtree([tree, mod_tree]).draw(ts='c', scale_bar=True, layout='r');"
   ]
  },
  {
   "cell_type": "markdown",
   "metadata": {},
   "source": [
    "### Removing unary nodes  \n",
    "\n",
    "The _`.mod`_ subpackage also offers `remove_unary_nodes()`, a method to quickly remove all `unary Nodes`, or Nodes that have exactly 1 child. This way, the ToyTree object returned will ony contain tips and internal Nodes with $\\geq 2$ children. This method does not take in any arguments other than the ToyTree object (unless called using `tree.mod.remove_unary_nodes()`) and `inplace=` to determine whether or not to modify the original tree or make a copy."
   ]
  },
  {
   "cell_type": "code",
   "execution_count": 58,
   "metadata": {},
   "outputs": [
    {
     "data": {
      "text/html": [
       "<div class=\"toyplot\" id=\"tbfcb96aaa8ad431d8553252aa3d5f89d\" style=\"text-align:center\"><svg class=\"toyplot-canvas-Canvas\" xmlns:toyplot=\"http://www.sandia.gov/toyplot\" xmlns:xlink=\"http://www.w3.org/1999/xlink\" xmlns=\"http://www.w3.org/2000/svg\" width=\"450.0px\" height=\"250.0px\" viewBox=\"0 0 450.0 250.0\" preserveAspectRatio=\"xMidYMid meet\" style=\"background-color:transparent;border-color:#292724;border-style:none;border-width:1.0;fill:rgb(16.1%,15.3%,14.1%);fill-opacity:1.0;font-family:Helvetica;font-size:12px;opacity:1.0;stroke:rgb(16.1%,15.3%,14.1%);stroke-opacity:1.0;stroke-width:1.0\" id=\"t09773ff32ef8492e9d99ec1162d3493d\"><g class=\"toyplot-coordinates-Cartesian\" id=\"t0ba5bf3ca5bd4a17baf2c21f51ea7100\"><clipPath id=\"t4ea2e749e0b740ab91037762e83a2119\"><rect x=\"20.0\" y=\"40.0\" width=\"205.0\" height=\"170.0\"></rect></clipPath><g clip-path=\"url(#t4ea2e749e0b740ab91037762e83a2119)\"><g class=\"toytree-mark-Toytree\" id=\"ta2caa8a3f66b47e5a9c2c9d38e630d62\"><g class=\"toytree-Edges\" style=\"stroke:rgb(14.5%,14.5%,14.5%);stroke-opacity:1.0;stroke-linecap:round;stroke-width:2.0;fill:none\"><path d=\"M 87.8 191.6 L 87.8 191.6 L 137.9 191.6\" id=\"3,0\" style=\"\"></path><path d=\"M 137.9 125.0 L 137.9 125.0 L 187.9 125.0\" id=\"4,1\" style=\"\"></path><path d=\"M 137.9 58.4 L 137.9 58.4 L 187.9 58.4\" id=\"5,2\" style=\"\"></path><path d=\"M 37.7 141.6 L 37.7 191.6 L 87.8 191.6\" id=\"7,3\" style=\"\"></path><path d=\"M 87.8 91.7 L 87.8 125.0 L 137.9 125.0\" id=\"6,4\" style=\"\"></path><path d=\"M 87.8 91.7 L 87.8 58.4 L 137.9 58.4\" id=\"6,5\" style=\"\"></path><path d=\"M 37.7 141.6 L 37.7 91.7 L 87.8 91.7\" id=\"7,6\" style=\"\"></path></g><g class=\"toytree-AdmixEdges\" style=\"fill:rgb(0.0%,0.0%,0.0%);fill-opacity:0.0;stroke:rgb(90.6%,54.1%,76.5%);stroke-opacity:0.6;font-size:14px;stroke-linecap:round;stroke-width:5\"></g><g class=\"toytree-Nodes\" style=\"fill:rgb(0.0%,0.0%,0.0%);fill-opacity:1.0;stroke:rgb(14.9%,14.9%,14.9%);stroke-opacity:1.0;stroke-width:1.5\"><g id=\"Node-0\" transform=\"translate(137.857,191.568)\"><rect x=\"-8.0\" y=\"-8.0\" width=\"16\" height=\"16\"></rect></g><g id=\"Node-1\" transform=\"translate(187.929,125)\"><rect x=\"-8.0\" y=\"-8.0\" width=\"16\" height=\"16\"></rect></g><g id=\"Node-2\" transform=\"translate(187.929,58.432)\"><rect x=\"-8.0\" y=\"-8.0\" width=\"16\" height=\"16\"></rect></g><g id=\"Node-3\" transform=\"translate(87.7854,191.568)\"><rect x=\"-8.0\" y=\"-8.0\" width=\"16\" height=\"16\"></rect></g><g id=\"Node-4\" transform=\"translate(137.857,125)\"><rect x=\"-8.0\" y=\"-8.0\" width=\"16\" height=\"16\"></rect></g><g id=\"Node-5\" transform=\"translate(137.857,58.432)\"><rect x=\"-8.0\" y=\"-8.0\" width=\"16\" height=\"16\"></rect></g><g id=\"Node-6\" transform=\"translate(87.7854,91.716)\"><rect x=\"-8.0\" y=\"-8.0\" width=\"16\" height=\"16\"></rect></g><g id=\"Node-7\" transform=\"translate(37.7137,141.642)\"><rect x=\"-8.0\" y=\"-8.0\" width=\"16\" height=\"16\"></rect></g></g><g class=\"toytree-NodeLabels\" style=\"font-family:Helvetica;font-size:12px;font-weight:300;vertical-align:baseline;white-space:pre;stroke:none\"><g class=\"toytree-NodeLabel\" transform=\"translate(137.857,191.568)\"><text x=\"-4.668\" y=\"3.066\" style=\"fill:rgb(100.0%,100.0%,100.0%);fill-opacity:1.0\">G</text></g><g class=\"toytree-NodeLabel\" transform=\"translate(187.929,125)\"><text x=\"-3.666\" y=\"3.066\" style=\"fill:rgb(100.0%,100.0%,100.0%);fill-opacity:1.0\">F</text></g><g class=\"toytree-NodeLabel\" transform=\"translate(187.929,58.432)\"><text x=\"-4.002\" y=\"3.066\" style=\"fill:rgb(100.0%,100.0%,100.0%);fill-opacity:1.0\">E</text></g><g class=\"toytree-NodeLabel\" transform=\"translate(87.7854,191.568)\"><text x=\"-4.002\" y=\"3.066\" style=\"fill:rgb(100.0%,100.0%,100.0%);fill-opacity:1.0\">A</text></g><g class=\"toytree-NodeLabel\" transform=\"translate(137.857,125)\"><text x=\"-4.002\" y=\"3.066\" style=\"fill:rgb(100.0%,100.0%,100.0%);fill-opacity:1.0\">B</text></g><g class=\"toytree-NodeLabel\" transform=\"translate(137.857,58.432)\"><text x=\"-4.332\" y=\"3.066\" style=\"fill:rgb(100.0%,100.0%,100.0%);fill-opacity:1.0\">C</text></g><g class=\"toytree-NodeLabel\" transform=\"translate(87.7854,91.716)\"><text x=\"-4.002\" y=\"3.066\" style=\"fill:rgb(100.0%,100.0%,100.0%);fill-opacity:1.0\">X</text></g><g class=\"toytree-NodeLabel\" transform=\"translate(37.7137,141.642)\"><text x=\"-4.002\" y=\"3.066\" style=\"fill:rgb(100.0%,100.0%,100.0%);fill-opacity:1.0\">Y</text></g></g><g class=\"toytree-TipLabels\" style=\"fill:rgb(14.5%,14.5%,14.5%);fill-opacity:1.0;font-family:Helvetica;font-size:10px;font-weight:300;vertical-align:baseline;white-space:pre;stroke:none\"><g class=\"toytree-TipLabel\" transform=\"translate(137.857,191.568)\"><text x=\"10.0\" y=\"2.5549999999999997\" style=\"fill:rgb(14.5%,14.5%,14.5%);fill-opacity:1.0\">G</text></g><g class=\"toytree-TipLabel\" transform=\"translate(187.929,125)\"><text x=\"10.0\" y=\"2.5549999999999997\" style=\"fill:rgb(14.5%,14.5%,14.5%);fill-opacity:1.0\">F</text></g><g class=\"toytree-TipLabel\" transform=\"translate(187.929,58.432)\"><text x=\"10.0\" y=\"2.5549999999999997\" style=\"fill:rgb(14.5%,14.5%,14.5%);fill-opacity:1.0\">E</text></g></g></g></g></g><g class=\"toyplot-coordinates-Cartesian\" id=\"te1fe342171d14f019b815c5bcc79dba3\"><clipPath id=\"t827ab9525d2749028600b41553cf0b12\"><rect x=\"245.0\" y=\"40.0\" width=\"205.0\" height=\"170.0\"></rect></clipPath><g clip-path=\"url(#t827ab9525d2749028600b41553cf0b12)\"><g class=\"toytree-mark-Toytree\" id=\"t3e40a63386d64919bdddd6c30b145062\"><g class=\"toytree-Edges\" style=\"stroke:rgb(14.5%,14.5%,14.5%);stroke-opacity:1.0;stroke-linecap:round;stroke-width:2.0;fill:none\"><path d=\"M 262.7 141.6 L 262.7 191.6 L 362.9 191.6\" id=\"4,0\" style=\"\"></path><path d=\"M 312.8 91.7 L 312.8 125.0 L 412.9 125.0\" id=\"3,1\" style=\"\"></path><path d=\"M 312.8 91.7 L 312.8 58.4 L 412.9 58.4\" id=\"3,2\" style=\"\"></path><path d=\"M 262.7 141.6 L 262.7 91.7 L 312.8 91.7\" id=\"4,3\" style=\"\"></path></g><g class=\"toytree-AdmixEdges\" style=\"fill:rgb(0.0%,0.0%,0.0%);fill-opacity:0.0;stroke:rgb(90.6%,54.1%,76.5%);stroke-opacity:0.6;font-size:14px;stroke-linecap:round;stroke-width:5\"></g><g class=\"toytree-Nodes\" style=\"fill:rgb(0.0%,0.0%,0.0%);fill-opacity:1.0;stroke:rgb(14.9%,14.9%,14.9%);stroke-opacity:1.0;stroke-width:1.5\"><g id=\"Node-0\" transform=\"translate(362.857,191.568)\"><rect x=\"-8.0\" y=\"-8.0\" width=\"16\" height=\"16\"></rect></g><g id=\"Node-1\" transform=\"translate(412.929,125)\"><rect x=\"-8.0\" y=\"-8.0\" width=\"16\" height=\"16\"></rect></g><g id=\"Node-2\" transform=\"translate(412.929,58.432)\"><rect x=\"-8.0\" y=\"-8.0\" width=\"16\" height=\"16\"></rect></g><g id=\"Node-3\" transform=\"translate(312.785,91.716)\"><rect x=\"-8.0\" y=\"-8.0\" width=\"16\" height=\"16\"></rect></g><g id=\"Node-4\" transform=\"translate(262.714,141.642)\"><rect x=\"-8.0\" y=\"-8.0\" width=\"16\" height=\"16\"></rect></g></g><g class=\"toytree-NodeLabels\" style=\"font-family:Helvetica;font-size:12px;font-weight:300;vertical-align:baseline;white-space:pre;stroke:none\"><g class=\"toytree-NodeLabel\" transform=\"translate(362.857,191.568)\"><text x=\"-4.668\" y=\"3.066\" style=\"fill:rgb(100.0%,100.0%,100.0%);fill-opacity:1.0\">G</text></g><g class=\"toytree-NodeLabel\" transform=\"translate(412.929,125)\"><text x=\"-3.666\" y=\"3.066\" style=\"fill:rgb(100.0%,100.0%,100.0%);fill-opacity:1.0\">F</text></g><g class=\"toytree-NodeLabel\" transform=\"translate(412.929,58.432)\"><text x=\"-4.002\" y=\"3.066\" style=\"fill:rgb(100.0%,100.0%,100.0%);fill-opacity:1.0\">E</text></g><g class=\"toytree-NodeLabel\" transform=\"translate(312.785,91.716)\"><text x=\"-4.002\" y=\"3.066\" style=\"fill:rgb(100.0%,100.0%,100.0%);fill-opacity:1.0\">X</text></g><g class=\"toytree-NodeLabel\" transform=\"translate(262.714,141.642)\"><text x=\"-4.002\" y=\"3.066\" style=\"fill:rgb(100.0%,100.0%,100.0%);fill-opacity:1.0\">Y</text></g></g><g class=\"toytree-TipLabels\" style=\"fill:rgb(14.5%,14.5%,14.5%);fill-opacity:1.0;font-family:Helvetica;font-size:10px;font-weight:300;vertical-align:baseline;white-space:pre;stroke:none\"><g class=\"toytree-TipLabel\" transform=\"translate(362.857,191.568)\"><text x=\"10.0\" y=\"2.5549999999999997\" style=\"fill:rgb(14.5%,14.5%,14.5%);fill-opacity:1.0\">G</text></g><g class=\"toytree-TipLabel\" transform=\"translate(412.929,125)\"><text x=\"10.0\" y=\"2.5549999999999997\" style=\"fill:rgb(14.5%,14.5%,14.5%);fill-opacity:1.0\">F</text></g><g class=\"toytree-TipLabel\" transform=\"translate(412.929,58.432)\"><text x=\"10.0\" y=\"2.5549999999999997\" style=\"fill:rgb(14.5%,14.5%,14.5%);fill-opacity:1.0\">E</text></g></g></g></g></g></svg><div class=\"toyplot-behavior\"><script>(function()\n",
       "{\n",
       "var modules={};\n",
       "})();</script></div></div>"
      ]
     },
     "metadata": {},
     "output_type": "display_data"
    }
   ],
   "source": [
    "tree = toytree.tree(\"(A,(B,C)X)Y;\")\n",
    "tree = (\n",
    "    tree\n",
    "    .mod.add_child_node(\"C\", name=\"E\")\n",
    "    .mod.add_child_node(\"B\", name=\"F\")\n",
    "    .mod.add_child_node(\"A\", name=\"G\")\n",
    ")\n",
    "simplified = tree.mod.remove_unary_nodes().mod.rotate_node(\"Y\")\n",
    "toytree.mtree([tree, simplified]).draw(**style);"
   ]
  },
  {
   "cell_type": "markdown",
   "metadata": {},
   "source": [
    "### Collapsing nodes  \n",
    "\n",
    "`mod.collapse_nodes()` can be called on an internal node to collapse it into a multi-furcating polytomy. This can either be done by passing in particular Node labels, or by providing a minimum distance `min_dist` or minimum support value `min_support`. These represent the minimum value allowed for the Node to _stay_. That is - every internal Node with value _less than_ the min value provided will be collapsed."
   ]
  },
  {
   "cell_type": "code",
   "execution_count": 62,
   "metadata": {},
   "outputs": [
    {
     "data": {
      "text/html": [
       "<div class=\"toyplot\" id=\"ta72eb2a2f3404e7b843447de44f11645\" style=\"text-align:center\"><svg class=\"toyplot-canvas-Canvas\" xmlns:toyplot=\"http://www.sandia.gov/toyplot\" xmlns:xlink=\"http://www.w3.org/1999/xlink\" xmlns=\"http://www.w3.org/2000/svg\" width=\"450.0px\" height=\"250.0px\" viewBox=\"0 0 450.0 250.0\" preserveAspectRatio=\"xMidYMid meet\" style=\"background-color:transparent;border-color:#292724;border-style:none;border-width:1.0;fill:rgb(16.1%,15.3%,14.1%);fill-opacity:1.0;font-family:Helvetica;font-size:12px;opacity:1.0;stroke:rgb(16.1%,15.3%,14.1%);stroke-opacity:1.0;stroke-width:1.0\" id=\"tc31435bde4ea4ce0aaadc6df1e961808\"><g class=\"toyplot-coordinates-Cartesian\" id=\"t18ed6983dbc445c28be947de38cbbedf\"><clipPath id=\"t887ce27fdce3437499a97394f58cd893\"><rect x=\"20.0\" y=\"40.0\" width=\"205.0\" height=\"170.0\"></rect></clipPath><g clip-path=\"url(#t887ce27fdce3437499a97394f58cd893)\"><g class=\"toytree-mark-Toytree\" id=\"t59893c8ac4024ad095bfbe16781bdc1b\"><g class=\"toytree-Edges\" style=\"stroke:rgb(14.5%,14.5%,14.5%);stroke-opacity:1.0;stroke-linecap:round;stroke-width:2.0;fill:none\"><path d=\"M 112.8 191.6 L 112.8 191.6 L 150.4 191.6\" id=\"5,0\" style=\"\"></path><path d=\"M 150.4 158.3 L 150.4 158.3 L 187.9 158.3\" id=\"6,1\" style=\"\"></path><path d=\"M 112.8 141.6 L 112.8 125.0 L 150.4 125.0\" id=\"7,2\" style=\"\"></path><path d=\"M 56.5 75.1 L 56.5 91.7 L 75.3 91.7\" id=\"9,3\" style=\"\"></path><path d=\"M 56.5 75.1 L 56.5 58.4 L 75.3 58.4\" id=\"9,4\" style=\"\"></path><path d=\"M 75.3 166.6 L 75.3 191.6 L 112.8 191.6\" id=\"8,5\" style=\"\"></path><path d=\"M 112.8 141.6 L 112.8 158.3 L 150.4 158.3\" id=\"7,6\" style=\"\"></path><path d=\"M 75.3 166.6 L 75.3 141.6 L 112.8 141.6\" id=\"8,7\" style=\"\"></path><path d=\"M 37.7 120.8 L 37.7 166.6 L 75.3 166.6\" id=\"10,8\" style=\"\"></path><path d=\"M 37.7 120.8 L 37.7 75.1 L 56.5 75.1\" id=\"10,9\" style=\"\"></path></g><g class=\"toytree-AdmixEdges\" style=\"fill:rgb(0.0%,0.0%,0.0%);fill-opacity:0.0;stroke:rgb(90.6%,54.1%,76.5%);stroke-opacity:0.6;font-size:14px;stroke-linecap:round;stroke-width:5\"></g><g class=\"toytree-Nodes\" style=\"fill:rgb(0.0%,0.0%,0.0%);fill-opacity:1.0;stroke:rgb(14.9%,14.9%,14.9%);stroke-opacity:1.0;stroke-width:1.5\"><g id=\"Node-0\" transform=\"translate(150.375,191.568)\"><rect x=\"-8.0\" y=\"-8.0\" width=\"16\" height=\"16\"></rect></g><g id=\"Node-1\" transform=\"translate(187.929,158.284)\"><rect x=\"-8.0\" y=\"-8.0\" width=\"16\" height=\"16\"></rect></g><g id=\"Node-2\" transform=\"translate(150.375,125)\"><rect x=\"-8.0\" y=\"-8.0\" width=\"16\" height=\"16\"></rect></g><g id=\"Node-3\" transform=\"translate(75.2675,91.716)\"><rect x=\"-8.0\" y=\"-8.0\" width=\"16\" height=\"16\"></rect></g><g id=\"Node-4\" transform=\"translate(75.2675,58.432)\"><rect x=\"-8.0\" y=\"-8.0\" width=\"16\" height=\"16\"></rect></g><g id=\"Node-5\" transform=\"translate(112.821,191.568)\"><rect x=\"-8.0\" y=\"-8.0\" width=\"16\" height=\"16\"></rect></g><g id=\"Node-6\" transform=\"translate(150.375,158.284)\"><rect x=\"-8.0\" y=\"-8.0\" width=\"16\" height=\"16\"></rect></g><g id=\"Node-7\" transform=\"translate(112.821,141.642)\"><rect x=\"-8.0\" y=\"-8.0\" width=\"16\" height=\"16\"></rect></g><g id=\"Node-8\" transform=\"translate(75.2675,166.605)\"><rect x=\"-8.0\" y=\"-8.0\" width=\"16\" height=\"16\"></rect></g><g id=\"Node-9\" transform=\"translate(56.4906,75.074)\"><rect x=\"-8.0\" y=\"-8.0\" width=\"16\" height=\"16\"></rect></g><g id=\"Node-10\" transform=\"translate(37.7137,120.839)\"><rect x=\"-8.0\" y=\"-8.0\" width=\"16\" height=\"16\"></rect></g></g><g class=\"toytree-NodeLabels\" style=\"font-family:Helvetica;font-size:12px;font-weight:300;vertical-align:baseline;white-space:pre;stroke:none\"><g class=\"toytree-NodeLabel\" transform=\"translate(150.375,191.568)\"><text x=\"-3.666\" y=\"3.066\" style=\"fill:rgb(100.0%,100.0%,100.0%);fill-opacity:1.0\">F</text></g><g class=\"toytree-NodeLabel\" transform=\"translate(187.929,158.284)\"><text x=\"-4.002\" y=\"3.066\" style=\"fill:rgb(100.0%,100.0%,100.0%);fill-opacity:1.0\">E</text></g><g class=\"toytree-NodeLabel\" transform=\"translate(150.375,125)\"><text x=\"-4.332\" y=\"3.066\" style=\"fill:rgb(100.0%,100.0%,100.0%);fill-opacity:1.0\">D</text></g><g class=\"toytree-NodeLabel\" transform=\"translate(75.2675,91.716)\"><text x=\"-4.002\" y=\"3.066\" style=\"fill:rgb(100.0%,100.0%,100.0%);fill-opacity:1.0\">A</text></g><g class=\"toytree-NodeLabel\" transform=\"translate(75.2675,58.432)\"><text x=\"-4.668\" y=\"3.066\" style=\"fill:rgb(100.0%,100.0%,100.0%);fill-opacity:1.0\">G</text></g><g class=\"toytree-NodeLabel\" transform=\"translate(112.821,191.568)\"><text x=\"-4.002\" y=\"3.066\" style=\"fill:rgb(100.0%,100.0%,100.0%);fill-opacity:1.0\">B</text></g><g class=\"toytree-NodeLabel\" transform=\"translate(150.375,158.284)\"><text x=\"-4.332\" y=\"3.066\" style=\"fill:rgb(100.0%,100.0%,100.0%);fill-opacity:1.0\">C</text></g><g class=\"toytree-NodeLabel\" transform=\"translate(112.821,141.642)\"><text x=\"-4.002\" y=\"3.066\" style=\"fill:rgb(100.0%,100.0%,100.0%);fill-opacity:1.0\">X</text></g><g class=\"toytree-NodeLabel\" transform=\"translate(75.2675,166.605)\"><text x=\"-4.002\" y=\"3.066\" style=\"fill:rgb(100.0%,100.0%,100.0%);fill-opacity:1.0\">Y</text></g><g class=\"toytree-NodeLabel\" transform=\"translate(56.4906,75.074)\"><text x=\"-4.332\" y=\"3.066\" style=\"fill:rgb(100.0%,100.0%,100.0%);fill-opacity:1.0\">H</text></g><g class=\"toytree-NodeLabel\" transform=\"translate(37.7137,120.839)\"><text x=\"-3.666\" y=\"3.066\" style=\"fill:rgb(100.0%,100.0%,100.0%);fill-opacity:1.0\">Z</text></g></g><g class=\"toytree-TipLabels\" style=\"fill:rgb(14.5%,14.5%,14.5%);fill-opacity:1.0;font-family:Helvetica;font-size:10px;font-weight:300;vertical-align:baseline;white-space:pre;stroke:none\"><g class=\"toytree-TipLabel\" transform=\"translate(150.375,191.568)\"><text x=\"10.0\" y=\"2.5549999999999997\" style=\"fill:rgb(14.5%,14.5%,14.5%);fill-opacity:1.0\">F</text></g><g class=\"toytree-TipLabel\" transform=\"translate(187.929,158.284)\"><text x=\"10.0\" y=\"2.5549999999999997\" style=\"fill:rgb(14.5%,14.5%,14.5%);fill-opacity:1.0\">E</text></g><g class=\"toytree-TipLabel\" transform=\"translate(150.375,125)\"><text x=\"10.0\" y=\"2.5549999999999997\" style=\"fill:rgb(14.5%,14.5%,14.5%);fill-opacity:1.0\">D</text></g><g class=\"toytree-TipLabel\" transform=\"translate(75.2675,91.716)\"><text x=\"10.0\" y=\"2.5549999999999997\" style=\"fill:rgb(14.5%,14.5%,14.5%);fill-opacity:1.0\">A</text></g><g class=\"toytree-TipLabel\" transform=\"translate(75.2675,58.432)\"><text x=\"10.0\" y=\"2.5549999999999997\" style=\"fill:rgb(14.5%,14.5%,14.5%);fill-opacity:1.0\">G</text></g></g></g></g></g><g class=\"toyplot-coordinates-Cartesian\" id=\"t5bfef6610b2a4a018821836fee56ddf3\"><clipPath id=\"t52607b9d2db84c75a67455922824e04b\"><rect x=\"245.0\" y=\"40.0\" width=\"205.0\" height=\"170.0\"></rect></clipPath><g clip-path=\"url(#t52607b9d2db84c75a67455922824e04b)\"><g class=\"toytree-mark-Toytree\" id=\"t07cf892bd03b4b229d5e54776d8a54a7\"><g class=\"toytree-Edges\" style=\"stroke:rgb(14.5%,14.5%,14.5%);stroke-opacity:1.0;stroke-linecap:round;stroke-width:2.0;fill:none\"><path d=\"M 337.8 191.6 L 337.8 191.6 L 375.4 191.6\" id=\"5,0\" style=\"\"></path><path d=\"M 375.4 158.3 L 375.4 158.3 L 412.9 158.3\" id=\"6,1\" style=\"\"></path><path d=\"M 300.3 158.3 L 300.3 125.0 L 375.4 125.0\" id=\"7,2\" style=\"\"></path><path d=\"M 262.7 102.8 L 262.7 91.7 L 300.3 91.7\" id=\"8,3\" style=\"\"></path><path d=\"M 262.7 102.8 L 262.7 58.4 L 300.3 58.4\" id=\"8,4\" style=\"\"></path><path d=\"M 300.3 158.3 L 300.3 191.6 L 337.8 191.6\" id=\"7,5\" style=\"\"></path><path d=\"M 300.3 158.3 L 300.3 158.3 L 375.4 158.3\" id=\"7,6\" style=\"\"></path><path d=\"M 262.7 102.8 L 262.7 158.3 L 300.3 158.3\" id=\"8,7\" style=\"\"></path></g><g class=\"toytree-AdmixEdges\" style=\"fill:rgb(0.0%,0.0%,0.0%);fill-opacity:0.0;stroke:rgb(90.6%,54.1%,76.5%);stroke-opacity:0.6;font-size:14px;stroke-linecap:round;stroke-width:5\"></g><g class=\"toytree-Nodes\" style=\"fill:rgb(0.0%,0.0%,0.0%);fill-opacity:1.0;stroke:rgb(14.9%,14.9%,14.9%);stroke-opacity:1.0;stroke-width:1.5\"><g id=\"Node-0\" transform=\"translate(375.375,191.568)\"><rect x=\"-8.0\" y=\"-8.0\" width=\"16\" height=\"16\"></rect></g><g id=\"Node-1\" transform=\"translate(412.929,158.284)\"><rect x=\"-8.0\" y=\"-8.0\" width=\"16\" height=\"16\"></rect></g><g id=\"Node-2\" transform=\"translate(375.375,125)\"><rect x=\"-8.0\" y=\"-8.0\" width=\"16\" height=\"16\"></rect></g><g id=\"Node-3\" transform=\"translate(300.268,91.716)\"><rect x=\"-8.0\" y=\"-8.0\" width=\"16\" height=\"16\"></rect></g><g id=\"Node-4\" transform=\"translate(300.268,58.432)\"><rect x=\"-8.0\" y=\"-8.0\" width=\"16\" height=\"16\"></rect></g><g id=\"Node-5\" transform=\"translate(337.821,191.568)\"><rect x=\"-8.0\" y=\"-8.0\" width=\"16\" height=\"16\"></rect></g><g id=\"Node-6\" transform=\"translate(375.375,158.284)\"><rect x=\"-8.0\" y=\"-8.0\" width=\"16\" height=\"16\"></rect></g><g id=\"Node-7\" transform=\"translate(300.268,158.284)\"><rect x=\"-8.0\" y=\"-8.0\" width=\"16\" height=\"16\"></rect></g><g id=\"Node-8\" transform=\"translate(262.714,102.811)\"><rect x=\"-8.0\" y=\"-8.0\" width=\"16\" height=\"16\"></rect></g></g><g class=\"toytree-NodeLabels\" style=\"font-family:Helvetica;font-size:12px;font-weight:300;vertical-align:baseline;white-space:pre;stroke:none\"><g class=\"toytree-NodeLabel\" transform=\"translate(375.375,191.568)\"><text x=\"-3.666\" y=\"3.066\" style=\"fill:rgb(100.0%,100.0%,100.0%);fill-opacity:1.0\">F</text></g><g class=\"toytree-NodeLabel\" transform=\"translate(412.929,158.284)\"><text x=\"-4.002\" y=\"3.066\" style=\"fill:rgb(100.0%,100.0%,100.0%);fill-opacity:1.0\">E</text></g><g class=\"toytree-NodeLabel\" transform=\"translate(375.375,125)\"><text x=\"-4.332\" y=\"3.066\" style=\"fill:rgb(100.0%,100.0%,100.0%);fill-opacity:1.0\">D</text></g><g class=\"toytree-NodeLabel\" transform=\"translate(300.268,91.716)\"><text x=\"-4.002\" y=\"3.066\" style=\"fill:rgb(100.0%,100.0%,100.0%);fill-opacity:1.0\">A</text></g><g class=\"toytree-NodeLabel\" transform=\"translate(300.268,58.432)\"><text x=\"-4.668\" y=\"3.066\" style=\"fill:rgb(100.0%,100.0%,100.0%);fill-opacity:1.0\">G</text></g><g class=\"toytree-NodeLabel\" transform=\"translate(337.821,191.568)\"><text x=\"-4.002\" y=\"3.066\" style=\"fill:rgb(100.0%,100.0%,100.0%);fill-opacity:1.0\">B</text></g><g class=\"toytree-NodeLabel\" transform=\"translate(375.375,158.284)\"><text x=\"-4.332\" y=\"3.066\" style=\"fill:rgb(100.0%,100.0%,100.0%);fill-opacity:1.0\">C</text></g><g class=\"toytree-NodeLabel\" transform=\"translate(300.268,158.284)\"><text x=\"-4.002\" y=\"3.066\" style=\"fill:rgb(100.0%,100.0%,100.0%);fill-opacity:1.0\">Y</text></g><g class=\"toytree-NodeLabel\" transform=\"translate(262.714,102.811)\"><text x=\"-3.666\" y=\"3.066\" style=\"fill:rgb(100.0%,100.0%,100.0%);fill-opacity:1.0\">Z</text></g></g><g class=\"toytree-TipLabels\" style=\"fill:rgb(14.5%,14.5%,14.5%);fill-opacity:1.0;font-family:Helvetica;font-size:10px;font-weight:300;vertical-align:baseline;white-space:pre;stroke:none\"><g class=\"toytree-TipLabel\" transform=\"translate(375.375,191.568)\"><text x=\"10.0\" y=\"2.5549999999999997\" style=\"fill:rgb(14.5%,14.5%,14.5%);fill-opacity:1.0\">F</text></g><g class=\"toytree-TipLabel\" transform=\"translate(412.929,158.284)\"><text x=\"10.0\" y=\"2.5549999999999997\" style=\"fill:rgb(14.5%,14.5%,14.5%);fill-opacity:1.0\">E</text></g><g class=\"toytree-TipLabel\" transform=\"translate(375.375,125)\"><text x=\"10.0\" y=\"2.5549999999999997\" style=\"fill:rgb(14.5%,14.5%,14.5%);fill-opacity:1.0\">D</text></g><g class=\"toytree-TipLabel\" transform=\"translate(300.268,91.716)\"><text x=\"10.0\" y=\"2.5549999999999997\" style=\"fill:rgb(14.5%,14.5%,14.5%);fill-opacity:1.0\">A</text></g><g class=\"toytree-TipLabel\" transform=\"translate(300.268,58.432)\"><text x=\"10.0\" y=\"2.5549999999999997\" style=\"fill:rgb(14.5%,14.5%,14.5%);fill-opacity:1.0\">G</text></g></g></g></g></g></svg><div class=\"toyplot-behavior\"><script>(function()\n",
       "{\n",
       "var modules={};\n",
       "})();</script></div></div>"
      ]
     },
     "metadata": {},
     "output_type": "display_data"
    }
   ],
   "source": [
    "# modifying tree with previous methods, adding complexities\n",
    "tree = (\n",
    "    toytree.tree(\"(A,(B,(C,D)X)Y)Z;\")\n",
    "    .mod.add_child_node(\"C\", name=\"E\")\n",
    "    .mod.add_child_node(\"B\", name=\"F\")\n",
    "    .mod.add_internal_node_and_child(\"A\", name=\"G\", parent_name=\"H\")\n",
    ")\n",
    "# collapsing specific nodes by name - collapse X and H\n",
    "collapsed1 = tree.mod.collapse_nodes(\"X\", \"H\")\n",
    "toytree.mtree([tree, collapsed1]).draw(**style);"
   ]
  },
  {
   "cell_type": "code",
   "execution_count": 67,
   "metadata": {},
   "outputs": [
    {
     "data": {
      "text/html": [
       "<div class=\"toyplot\" id=\"t77477897d3814b18bc0e927831b9c71c\" style=\"text-align:center\"><svg class=\"toyplot-canvas-Canvas\" xmlns:toyplot=\"http://www.sandia.gov/toyplot\" xmlns:xlink=\"http://www.w3.org/1999/xlink\" xmlns=\"http://www.w3.org/2000/svg\" width=\"675.0px\" height=\"250.0px\" viewBox=\"0 0 675.0 250.0\" preserveAspectRatio=\"xMidYMid meet\" style=\"background-color:transparent;border-color:#292724;border-style:none;border-width:1.0;fill:rgb(16.1%,15.3%,14.1%);fill-opacity:1.0;font-family:Helvetica;font-size:12px;opacity:1.0;stroke:rgb(16.1%,15.3%,14.1%);stroke-opacity:1.0;stroke-width:1.0\" id=\"t19f17cbc01854e82b419b6384f1d799b\"><g class=\"toyplot-coordinates-Cartesian\" id=\"te15b6b1b33de46a5a65815807875d6b5\"><clipPath id=\"te217c3316fdd4524bc81c42b1c6bcb42\"><rect x=\"20.0\" y=\"40.0\" width=\"205.0\" height=\"170.0\"></rect></clipPath><g clip-path=\"url(#te217c3316fdd4524bc81c42b1c6bcb42)\"><g class=\"toytree-mark-Toytree\" id=\"t3472a2410dc24b818ac140db7d1bc88b\"><g class=\"toytree-Edges\" style=\"stroke:rgb(14.5%,14.5%,14.5%);stroke-opacity:1.0;stroke-linecap:round;stroke-width:2;fill:none\"><path d=\"M 80.6 57.3 L 38.6 71.8\" id=\"12,0\" style=\"\"></path><path d=\"M 80.6 115.4 L 66.6 129.9\" id=\"7,1\" style=\"\"></path><path d=\"M 80.6 115.4 L 94.5 129.9\" id=\"7,2\" style=\"\"></path><path d=\"M 136.5 144.4 L 122.5 158.9\" id=\"8,3\" style=\"\"></path><path d=\"M 136.5 144.4 L 150.5 158.9\" id=\"8,4\" style=\"\"></path><path d=\"M 192.4 158.9 L 178.4 173.4\" id=\"9,5\" style=\"\"></path><path d=\"M 192.4 158.9 L 206.4 173.4\" id=\"9,6\" style=\"\"></path><path d=\"M 122.5 71.8 L 80.6 115.4\" id=\"11,7\" style=\"\"></path><path d=\"M 164.4 86.4 L 136.5 144.4\" id=\"10,8\" style=\"\"></path><path d=\"M 164.4 86.4 L 192.4 158.9\" id=\"10,9\" style=\"\"></path><path d=\"M 122.5 71.8 L 164.4 86.4\" id=\"11,10\" style=\"\"></path><path d=\"M 80.6 57.3 L 122.5 71.8\" id=\"12,11\" style=\"\"></path></g><g class=\"toytree-AdmixEdges\" style=\"fill:rgb(0.0%,0.0%,0.0%);fill-opacity:0.0;stroke:rgb(90.6%,54.1%,76.5%);stroke-opacity:0.6;font-size:14px;stroke-linecap:round;stroke-width:5\"></g><g class=\"toytree-Nodes\" style=\"fill:rgb(0.0%,0.0%,0.0%);fill-opacity:1.0;stroke:rgb(14.5%,14.5%,14.5%);stroke-opacity:1.0;stroke-width:1.5\"><g id=\"Node-0\" transform=\"translate(38.6152,71.8495)\"><rect x=\"-8.0\" y=\"-8.0\" width=\"16\" height=\"16\"></rect></g><g id=\"Node-1\" transform=\"translate(66.5768,129.857)\"><rect x=\"-8.0\" y=\"-8.0\" width=\"16\" height=\"16\"></rect></g><g id=\"Node-2\" transform=\"translate(94.5384,129.857)\"><rect x=\"-8.0\" y=\"-8.0\" width=\"16\" height=\"16\"></rect></g><g id=\"Node-3\" transform=\"translate(122.5,158.861)\"><rect x=\"-8.0\" y=\"-8.0\" width=\"16\" height=\"16\"></rect></g><g id=\"Node-4\" transform=\"translate(150.462,158.861)\"><rect x=\"-8.0\" y=\"-8.0\" width=\"16\" height=\"16\"></rect></g><g id=\"Node-5\" transform=\"translate(178.423,173.363)\"><rect x=\"-8.0\" y=\"-8.0\" width=\"16\" height=\"16\"></rect></g><g id=\"Node-6\" transform=\"translate(206.385,173.363)\"><rect x=\"-8.0\" y=\"-8.0\" width=\"16\" height=\"16\"></rect></g><g id=\"Node-7\" transform=\"translate(80.5576,115.355)\"><rect x=\"-8.0\" y=\"-8.0\" width=\"16\" height=\"16\"></rect></g><g id=\"Node-8\" transform=\"translate(136.481,144.359)\"><rect x=\"-8.0\" y=\"-8.0\" width=\"16\" height=\"16\"></rect></g><g id=\"Node-9\" transform=\"translate(192.404,158.861)\"><rect x=\"-8.0\" y=\"-8.0\" width=\"16\" height=\"16\"></rect></g><g id=\"Node-10\" transform=\"translate(164.442,86.3514)\"><rect x=\"-8.0\" y=\"-8.0\" width=\"16\" height=\"16\"></rect></g><g id=\"Node-11\" transform=\"translate(122.5,71.8495)\"><rect x=\"-8.0\" y=\"-8.0\" width=\"16\" height=\"16\"></rect></g><g id=\"Node-12\" transform=\"translate(80.5576,57.3476)\"><rect x=\"-8.0\" y=\"-8.0\" width=\"16\" height=\"16\"></rect></g></g><g class=\"toytree-NodeLabels\" style=\"font-family:Helvetica;font-size:12px;font-weight:300;vertical-align:baseline;white-space:pre;stroke:none\"><g class=\"toytree-NodeLabel\" transform=\"translate(38.6152,71.8495)\"><text x=\"-4.002\" y=\"3.066\" style=\"fill:rgb(100.0%,100.0%,100.0%);fill-opacity:1.0\">A</text></g><g class=\"toytree-NodeLabel\" transform=\"translate(66.5768,129.857)\"><text x=\"-4.002\" y=\"3.066\" style=\"fill:rgb(100.0%,100.0%,100.0%);fill-opacity:1.0\">B</text></g><g class=\"toytree-NodeLabel\" transform=\"translate(94.5384,129.857)\"><text x=\"-4.002\" y=\"3.066\" style=\"fill:rgb(100.0%,100.0%,100.0%);fill-opacity:1.0\">E</text></g><g class=\"toytree-NodeLabel\" transform=\"translate(122.5,158.861)\"><text x=\"-4.332\" y=\"3.066\" style=\"fill:rgb(100.0%,100.0%,100.0%);fill-opacity:1.0\">C</text></g><g class=\"toytree-NodeLabel\" transform=\"translate(150.462,158.861)\"><text x=\"-4.668\" y=\"3.066\" style=\"fill:rgb(100.0%,100.0%,100.0%);fill-opacity:1.0\">G</text></g><g class=\"toytree-NodeLabel\" transform=\"translate(178.423,173.363)\"><text x=\"-4.332\" y=\"3.066\" style=\"fill:rgb(100.0%,100.0%,100.0%);fill-opacity:1.0\">D</text></g><g class=\"toytree-NodeLabel\" transform=\"translate(206.385,173.363)\"><text x=\"-3.666\" y=\"3.066\" style=\"fill:rgb(100.0%,100.0%,100.0%);fill-opacity:1.0\">F</text></g><g class=\"toytree-NodeLabel\" transform=\"translate(80.5576,115.355)\"><text x=\"-4.332\" y=\"3.066\" style=\"fill:rgb(100.0%,100.0%,100.0%);fill-opacity:1.0\">H</text></g><g class=\"toytree-NodeLabel\" transform=\"translate(136.481,144.359)\"><text x=\"-3.0\" y=\"3.066\" style=\"fill:rgb(100.0%,100.0%,100.0%);fill-opacity:1.0\">J</text></g><g class=\"toytree-NodeLabel\" transform=\"translate(192.404,158.861)\"><text x=\"-4.002\" y=\"3.066\" style=\"fill:rgb(100.0%,100.0%,100.0%);fill-opacity:1.0\">K</text></g><g class=\"toytree-NodeLabel\" transform=\"translate(164.442,86.3514)\"><text x=\"-4.002\" y=\"3.066\" style=\"fill:rgb(100.0%,100.0%,100.0%);fill-opacity:1.0\">X</text></g><g class=\"toytree-NodeLabel\" transform=\"translate(122.5,71.8495)\"><text x=\"-4.002\" y=\"3.066\" style=\"fill:rgb(100.0%,100.0%,100.0%);fill-opacity:1.0\">Y</text></g><g class=\"toytree-NodeLabel\" transform=\"translate(80.5576,57.3476)\"><text x=\"-3.666\" y=\"3.066\" style=\"fill:rgb(100.0%,100.0%,100.0%);fill-opacity:1.0\">Z</text></g></g><g class=\"toytree-TipLabels\" style=\"fill:rgb(14.5%,14.5%,14.5%);fill-opacity:1.0;font-family:Helvetica;font-size:10px;font-weight:300;vertical-align:baseline;white-space:pre;stroke:none\"><g class=\"toytree-TipLabel\" transform=\"translate(38.6152,71.8495)rotate(90)\"><text x=\"10.0\" y=\"2.5549999999999997\" style=\"fill:rgb(14.5%,14.5%,14.5%);fill-opacity:1.0\">A</text></g><g class=\"toytree-TipLabel\" transform=\"translate(66.5768,129.857)rotate(90)\"><text x=\"10.0\" y=\"2.5549999999999997\" style=\"fill:rgb(14.5%,14.5%,14.5%);fill-opacity:1.0\">B</text></g><g class=\"toytree-TipLabel\" transform=\"translate(94.5384,129.857)rotate(90)\"><text x=\"10.0\" y=\"2.5549999999999997\" style=\"fill:rgb(14.5%,14.5%,14.5%);fill-opacity:1.0\">E</text></g><g class=\"toytree-TipLabel\" transform=\"translate(122.5,158.861)rotate(90)\"><text x=\"10.0\" y=\"2.5549999999999997\" style=\"fill:rgb(14.5%,14.5%,14.5%);fill-opacity:1.0\">C</text></g><g class=\"toytree-TipLabel\" transform=\"translate(150.462,158.861)rotate(90)\"><text x=\"10.0\" y=\"2.5549999999999997\" style=\"fill:rgb(14.5%,14.5%,14.5%);fill-opacity:1.0\">G</text></g><g class=\"toytree-TipLabel\" transform=\"translate(178.423,173.363)rotate(90)\"><text x=\"10.0\" y=\"2.5549999999999997\" style=\"fill:rgb(14.5%,14.5%,14.5%);fill-opacity:1.0\">D</text></g><g class=\"toytree-TipLabel\" transform=\"translate(206.385,173.363)rotate(90)\"><text x=\"10.0\" y=\"2.5549999999999997\" style=\"fill:rgb(14.5%,14.5%,14.5%);fill-opacity:1.0\">F</text></g></g></g></g></g><g class=\"toyplot-coordinates-Cartesian\" id=\"t28293cfab77e452a89a91cc71411c58e\"><clipPath id=\"t3b5a0fa24b964fe78c47106c5374255b\"><rect x=\"245.0\" y=\"40.0\" width=\"205.0\" height=\"170.0\"></rect></clipPath><g clip-path=\"url(#t3b5a0fa24b964fe78c47106c5374255b)\"><g class=\"toytree-mark-Toytree\" id=\"tbc6b8a24902f4719a42ae87de2bcb957\"><g class=\"toytree-Edges\" style=\"stroke:rgb(14.5%,14.5%,14.5%);stroke-opacity:1.0;stroke-linecap:round;stroke-width:2;fill:none\"><path d=\"M 337.0 57.3 L 263.6 71.8\" id=\"10,0\" style=\"\"></path><path d=\"M 305.6 115.4 L 291.6 129.9\" id=\"7,1\" style=\"\"></path><path d=\"M 305.6 115.4 L 319.5 129.9\" id=\"7,2\" style=\"\"></path><path d=\"M 361.5 144.4 L 347.5 158.9\" id=\"8,3\" style=\"\"></path><path d=\"M 361.5 144.4 L 375.5 158.9\" id=\"8,4\" style=\"\"></path><path d=\"M 417.4 158.9 L 403.4 173.4\" id=\"9,5\" style=\"\"></path><path d=\"M 417.4 158.9 L 431.4 173.4\" id=\"9,6\" style=\"\"></path><path d=\"M 337.0 57.3 L 305.6 115.4\" id=\"10,7\" style=\"\"></path><path d=\"M 337.0 57.3 L 361.5 144.4\" id=\"10,8\" style=\"\"></path><path d=\"M 337.0 57.3 L 417.4 158.9\" id=\"10,9\" style=\"\"></path></g><g class=\"toytree-AdmixEdges\" style=\"fill:rgb(0.0%,0.0%,0.0%);fill-opacity:0.0;stroke:rgb(90.6%,54.1%,76.5%);stroke-opacity:0.6;font-size:14px;stroke-linecap:round;stroke-width:5\"></g><g class=\"toytree-Nodes\" style=\"fill:rgb(0.0%,0.0%,0.0%);fill-opacity:1.0;stroke:rgb(14.5%,14.5%,14.5%);stroke-opacity:1.0;stroke-width:1.5\"><g id=\"Node-0\" transform=\"translate(263.615,71.8495)\"><rect x=\"-8.0\" y=\"-8.0\" width=\"16\" height=\"16\"></rect></g><g id=\"Node-1\" transform=\"translate(291.577,129.857)\"><rect x=\"-8.0\" y=\"-8.0\" width=\"16\" height=\"16\"></rect></g><g id=\"Node-2\" transform=\"translate(319.538,129.857)\"><rect x=\"-8.0\" y=\"-8.0\" width=\"16\" height=\"16\"></rect></g><g id=\"Node-3\" transform=\"translate(347.5,158.861)\"><rect x=\"-8.0\" y=\"-8.0\" width=\"16\" height=\"16\"></rect></g><g id=\"Node-4\" transform=\"translate(375.462,158.861)\"><rect x=\"-8.0\" y=\"-8.0\" width=\"16\" height=\"16\"></rect></g><g id=\"Node-5\" transform=\"translate(403.423,173.363)\"><rect x=\"-8.0\" y=\"-8.0\" width=\"16\" height=\"16\"></rect></g><g id=\"Node-6\" transform=\"translate(431.385,173.363)\"><rect x=\"-8.0\" y=\"-8.0\" width=\"16\" height=\"16\"></rect></g><g id=\"Node-7\" transform=\"translate(305.558,115.355)\"><rect x=\"-8.0\" y=\"-8.0\" width=\"16\" height=\"16\"></rect></g><g id=\"Node-8\" transform=\"translate(361.481,144.359)\"><rect x=\"-8.0\" y=\"-8.0\" width=\"16\" height=\"16\"></rect></g><g id=\"Node-9\" transform=\"translate(417.404,158.861)\"><rect x=\"-8.0\" y=\"-8.0\" width=\"16\" height=\"16\"></rect></g><g id=\"Node-10\" transform=\"translate(337.014,57.3476)\"><rect x=\"-8.0\" y=\"-8.0\" width=\"16\" height=\"16\"></rect></g></g><g class=\"toytree-NodeLabels\" style=\"font-family:Helvetica;font-size:12px;font-weight:300;vertical-align:baseline;white-space:pre;stroke:none\"><g class=\"toytree-NodeLabel\" transform=\"translate(263.615,71.8495)\"><text x=\"-4.002\" y=\"3.066\" style=\"fill:rgb(100.0%,100.0%,100.0%);fill-opacity:1.0\">A</text></g><g class=\"toytree-NodeLabel\" transform=\"translate(291.577,129.857)\"><text x=\"-4.002\" y=\"3.066\" style=\"fill:rgb(100.0%,100.0%,100.0%);fill-opacity:1.0\">B</text></g><g class=\"toytree-NodeLabel\" transform=\"translate(319.538,129.857)\"><text x=\"-4.002\" y=\"3.066\" style=\"fill:rgb(100.0%,100.0%,100.0%);fill-opacity:1.0\">E</text></g><g class=\"toytree-NodeLabel\" transform=\"translate(347.5,158.861)\"><text x=\"-4.332\" y=\"3.066\" style=\"fill:rgb(100.0%,100.0%,100.0%);fill-opacity:1.0\">C</text></g><g class=\"toytree-NodeLabel\" transform=\"translate(375.462,158.861)\"><text x=\"-4.668\" y=\"3.066\" style=\"fill:rgb(100.0%,100.0%,100.0%);fill-opacity:1.0\">G</text></g><g class=\"toytree-NodeLabel\" transform=\"translate(403.423,173.363)\"><text x=\"-4.332\" y=\"3.066\" style=\"fill:rgb(100.0%,100.0%,100.0%);fill-opacity:1.0\">D</text></g><g class=\"toytree-NodeLabel\" transform=\"translate(431.385,173.363)\"><text x=\"-3.666\" y=\"3.066\" style=\"fill:rgb(100.0%,100.0%,100.0%);fill-opacity:1.0\">F</text></g><g class=\"toytree-NodeLabel\" transform=\"translate(305.558,115.355)\"><text x=\"-4.332\" y=\"3.066\" style=\"fill:rgb(100.0%,100.0%,100.0%);fill-opacity:1.0\">H</text></g><g class=\"toytree-NodeLabel\" transform=\"translate(361.481,144.359)\"><text x=\"-3.0\" y=\"3.066\" style=\"fill:rgb(100.0%,100.0%,100.0%);fill-opacity:1.0\">J</text></g><g class=\"toytree-NodeLabel\" transform=\"translate(417.404,158.861)\"><text x=\"-4.002\" y=\"3.066\" style=\"fill:rgb(100.0%,100.0%,100.0%);fill-opacity:1.0\">K</text></g><g class=\"toytree-NodeLabel\" transform=\"translate(337.014,57.3476)\"><text x=\"-3.666\" y=\"3.066\" style=\"fill:rgb(100.0%,100.0%,100.0%);fill-opacity:1.0\">Z</text></g></g><g class=\"toytree-TipLabels\" style=\"fill:rgb(14.5%,14.5%,14.5%);fill-opacity:1.0;font-family:Helvetica;font-size:10px;font-weight:300;vertical-align:baseline;white-space:pre;stroke:none\"><g class=\"toytree-TipLabel\" transform=\"translate(263.615,71.8495)rotate(90)\"><text x=\"10.0\" y=\"2.5549999999999997\" style=\"fill:rgb(14.5%,14.5%,14.5%);fill-opacity:1.0\">A</text></g><g class=\"toytree-TipLabel\" transform=\"translate(291.577,129.857)rotate(90)\"><text x=\"10.0\" y=\"2.5549999999999997\" style=\"fill:rgb(14.5%,14.5%,14.5%);fill-opacity:1.0\">B</text></g><g class=\"toytree-TipLabel\" transform=\"translate(319.538,129.857)rotate(90)\"><text x=\"10.0\" y=\"2.5549999999999997\" style=\"fill:rgb(14.5%,14.5%,14.5%);fill-opacity:1.0\">E</text></g><g class=\"toytree-TipLabel\" transform=\"translate(347.5,158.861)rotate(90)\"><text x=\"10.0\" y=\"2.5549999999999997\" style=\"fill:rgb(14.5%,14.5%,14.5%);fill-opacity:1.0\">C</text></g><g class=\"toytree-TipLabel\" transform=\"translate(375.462,158.861)rotate(90)\"><text x=\"10.0\" y=\"2.5549999999999997\" style=\"fill:rgb(14.5%,14.5%,14.5%);fill-opacity:1.0\">G</text></g><g class=\"toytree-TipLabel\" transform=\"translate(403.423,173.363)rotate(90)\"><text x=\"10.0\" y=\"2.5549999999999997\" style=\"fill:rgb(14.5%,14.5%,14.5%);fill-opacity:1.0\">D</text></g><g class=\"toytree-TipLabel\" transform=\"translate(431.385,173.363)rotate(90)\"><text x=\"10.0\" y=\"2.5549999999999997\" style=\"fill:rgb(14.5%,14.5%,14.5%);fill-opacity:1.0\">F</text></g></g></g></g></g><g class=\"toyplot-coordinates-Cartesian\" id=\"t7512e75d9f24485d8ffbe71522b1576a\"><clipPath id=\"tc60934b7e4ec48a0b67a90b5ad525942\"><rect x=\"470.0\" y=\"40.0\" width=\"205.0\" height=\"170.0\"></rect></clipPath><g clip-path=\"url(#tc60934b7e4ec48a0b67a90b5ad525942)\"><g class=\"toytree-mark-Toytree\" id=\"taf0c72c916174865b9e3e06e216c93b0\"><g class=\"toytree-Edges\" style=\"stroke:rgb(14.5%,14.5%,14.5%);stroke-opacity:1.0;stroke-linecap:round;stroke-width:2;fill:none\"><path d=\"M 570.2 57.3 L 488.6 71.8\" id=\"8,0\" style=\"\"></path><path d=\"M 570.2 57.3 L 516.6 129.9\" id=\"8,1\" style=\"\"></path><path d=\"M 570.2 57.3 L 544.5 129.9\" id=\"8,2\" style=\"\"></path><path d=\"M 586.5 158.9 L 572.5 173.4\" id=\"7,3\" style=\"\"></path><path d=\"M 586.5 158.9 L 600.5 173.4\" id=\"7,4\" style=\"\"></path><path d=\"M 570.2 57.3 L 628.4 158.9\" id=\"8,5\" style=\"\"></path><path d=\"M 570.2 57.3 L 656.4 158.9\" id=\"8,6\" style=\"\"></path><path d=\"M 570.2 57.3 L 586.5 158.9\" id=\"8,7\" style=\"\"></path></g><g class=\"toytree-AdmixEdges\" style=\"fill:rgb(0.0%,0.0%,0.0%);fill-opacity:0.0;stroke:rgb(90.6%,54.1%,76.5%);stroke-opacity:0.6;font-size:14px;stroke-linecap:round;stroke-width:5\"></g><g class=\"toytree-Nodes\" style=\"fill:rgb(0.0%,0.0%,0.0%);fill-opacity:1.0;stroke:rgb(14.5%,14.5%,14.5%);stroke-opacity:1.0;stroke-width:1.5\"><g id=\"Node-0\" transform=\"translate(488.615,71.8495)\"><rect x=\"-8.0\" y=\"-8.0\" width=\"16\" height=\"16\"></rect></g><g id=\"Node-1\" transform=\"translate(516.577,129.857)\"><rect x=\"-8.0\" y=\"-8.0\" width=\"16\" height=\"16\"></rect></g><g id=\"Node-2\" transform=\"translate(544.538,129.857)\"><rect x=\"-8.0\" y=\"-8.0\" width=\"16\" height=\"16\"></rect></g><g id=\"Node-3\" transform=\"translate(572.5,173.363)\"><rect x=\"-8.0\" y=\"-8.0\" width=\"16\" height=\"16\"></rect></g><g id=\"Node-4\" transform=\"translate(600.462,173.363)\"><rect x=\"-8.0\" y=\"-8.0\" width=\"16\" height=\"16\"></rect></g><g id=\"Node-5\" transform=\"translate(628.423,158.861)\"><rect x=\"-8.0\" y=\"-8.0\" width=\"16\" height=\"16\"></rect></g><g id=\"Node-6\" transform=\"translate(656.385,158.861)\"><rect x=\"-8.0\" y=\"-8.0\" width=\"16\" height=\"16\"></rect></g><g id=\"Node-7\" transform=\"translate(586.481,158.861)\"><rect x=\"-8.0\" y=\"-8.0\" width=\"16\" height=\"16\"></rect></g><g id=\"Node-8\" transform=\"translate(570.17,57.3476)\"><rect x=\"-8.0\" y=\"-8.0\" width=\"16\" height=\"16\"></rect></g></g><g class=\"toytree-NodeLabels\" style=\"font-family:Helvetica;font-size:12px;font-weight:300;vertical-align:baseline;white-space:pre;stroke:none\"><g class=\"toytree-NodeLabel\" transform=\"translate(488.615,71.8495)\"><text x=\"-4.002\" y=\"3.066\" style=\"fill:rgb(100.0%,100.0%,100.0%);fill-opacity:1.0\">A</text></g><g class=\"toytree-NodeLabel\" transform=\"translate(516.577,129.857)\"><text x=\"-4.002\" y=\"3.066\" style=\"fill:rgb(100.0%,100.0%,100.0%);fill-opacity:1.0\">B</text></g><g class=\"toytree-NodeLabel\" transform=\"translate(544.538,129.857)\"><text x=\"-4.002\" y=\"3.066\" style=\"fill:rgb(100.0%,100.0%,100.0%);fill-opacity:1.0\">E</text></g><g class=\"toytree-NodeLabel\" transform=\"translate(572.5,173.363)\"><text x=\"-4.332\" y=\"3.066\" style=\"fill:rgb(100.0%,100.0%,100.0%);fill-opacity:1.0\">D</text></g><g class=\"toytree-NodeLabel\" transform=\"translate(600.462,173.363)\"><text x=\"-3.666\" y=\"3.066\" style=\"fill:rgb(100.0%,100.0%,100.0%);fill-opacity:1.0\">F</text></g><g class=\"toytree-NodeLabel\" transform=\"translate(628.423,158.861)\"><text x=\"-4.332\" y=\"3.066\" style=\"fill:rgb(100.0%,100.0%,100.0%);fill-opacity:1.0\">C</text></g><g class=\"toytree-NodeLabel\" transform=\"translate(656.385,158.861)\"><text x=\"-4.668\" y=\"3.066\" style=\"fill:rgb(100.0%,100.0%,100.0%);fill-opacity:1.0\">G</text></g><g class=\"toytree-NodeLabel\" transform=\"translate(586.481,158.861)\"><text x=\"-4.002\" y=\"3.066\" style=\"fill:rgb(100.0%,100.0%,100.0%);fill-opacity:1.0\">K</text></g><g class=\"toytree-NodeLabel\" transform=\"translate(570.17,57.3476)\"><text x=\"-3.666\" y=\"3.066\" style=\"fill:rgb(100.0%,100.0%,100.0%);fill-opacity:1.0\">Z</text></g></g><g class=\"toytree-TipLabels\" style=\"fill:rgb(14.5%,14.5%,14.5%);fill-opacity:1.0;font-family:Helvetica;font-size:10px;font-weight:300;vertical-align:baseline;white-space:pre;stroke:none\"><g class=\"toytree-TipLabel\" transform=\"translate(488.615,71.8495)rotate(90)\"><text x=\"10.0\" y=\"2.5549999999999997\" style=\"fill:rgb(14.5%,14.5%,14.5%);fill-opacity:1.0\">A</text></g><g class=\"toytree-TipLabel\" transform=\"translate(516.577,129.857)rotate(90)\"><text x=\"10.0\" y=\"2.5549999999999997\" style=\"fill:rgb(14.5%,14.5%,14.5%);fill-opacity:1.0\">B</text></g><g class=\"toytree-TipLabel\" transform=\"translate(544.538,129.857)rotate(90)\"><text x=\"10.0\" y=\"2.5549999999999997\" style=\"fill:rgb(14.5%,14.5%,14.5%);fill-opacity:1.0\">E</text></g><g class=\"toytree-TipLabel\" transform=\"translate(572.5,173.363)rotate(90)\"><text x=\"10.0\" y=\"2.5549999999999997\" style=\"fill:rgb(14.5%,14.5%,14.5%);fill-opacity:1.0\">D</text></g><g class=\"toytree-TipLabel\" transform=\"translate(600.462,173.363)rotate(90)\"><text x=\"10.0\" y=\"2.5549999999999997\" style=\"fill:rgb(14.5%,14.5%,14.5%);fill-opacity:1.0\">F</text></g><g class=\"toytree-TipLabel\" transform=\"translate(628.423,158.861)rotate(90)\"><text x=\"10.0\" y=\"2.5549999999999997\" style=\"fill:rgb(14.5%,14.5%,14.5%);fill-opacity:1.0\">C</text></g><g class=\"toytree-TipLabel\" transform=\"translate(656.385,158.861)rotate(90)\"><text x=\"10.0\" y=\"2.5549999999999997\" style=\"fill:rgb(14.5%,14.5%,14.5%);fill-opacity:1.0\">G</text></g></g></g></g></g></svg><div class=\"toyplot-behavior\"><script>(function()\n",
       "{\n",
       "var modules={};\n",
       "})();</script></div></div>"
      ]
     },
     "metadata": {},
     "output_type": "display_data"
    }
   ],
   "source": [
    "tree = toytree.tree(\"(A,((B,E)H,((C,G)J,(D,F)K)X)Y)Z;\")\n",
    "\n",
    "# setting distances to be different values\n",
    "tree.set_node_data(\"dist\", {7: 3, 8: 4, 9: 5}, inplace=True)\n",
    "\n",
    "# keep only internal nodes with parental edge length >1.5\n",
    "# this will only get rid of a few internal nodes with particularly branch lengths\n",
    "collapsed3 = tree.mod.collapse_nodes(min_dist=1.5)\n",
    "\n",
    "# keep only internal nodes with parental edge length > 5, collapse the rest.\n",
    "# in this case, K is the only internal node with edge length >5\n",
    "collapsed4 = tree.mod.collapse_nodes(min_dist = 5)\n",
    "\n",
    "toytree.mtree([tree, collapsed3, collapsed4]).draw(ts='c', **style);"
   ]
  },
  {
   "cell_type": "markdown",
   "metadata": {},
   "source": [
    "### Rotating nodes  \n",
    "\n",
    "`mod.rotate_node()` rotates a particular node such that the order of its children are reversed. A node can be queried using either the index or the name, and internal nodes can be accessed by passing in multiple nodes, which will rotate the node representing their `MRCA`.  \n",
    "\n",
    "By default, this returns a modified copy of the tree passed in without chainging the originial tree, however `inplace=True` will change and return the original tree passed in.  \n"
   ]
  },
  {
   "cell_type": "code",
   "execution_count": 92,
   "metadata": {},
   "outputs": [
    {
     "data": {
      "text/html": [
       "<div class=\"toyplot\" id=\"te02c8003c9d6443caa6364a19f723668\" style=\"text-align:center\"><svg class=\"toyplot-canvas-Canvas\" xmlns:toyplot=\"http://www.sandia.gov/toyplot\" xmlns:xlink=\"http://www.w3.org/1999/xlink\" xmlns=\"http://www.w3.org/2000/svg\" width=\"450.0px\" height=\"250.0px\" viewBox=\"0 0 450.0 250.0\" preserveAspectRatio=\"xMidYMid meet\" style=\"background-color:transparent;border-color:#292724;border-style:none;border-width:1.0;fill:rgb(16.1%,15.3%,14.1%);fill-opacity:1.0;font-family:Helvetica;font-size:12px;opacity:1.0;stroke:rgb(16.1%,15.3%,14.1%);stroke-opacity:1.0;stroke-width:1.0\" id=\"t7436f6a6e47b43bdba85cf91566a9186\"><g class=\"toyplot-coordinates-Cartesian\" id=\"tda141bc73ed34e51a612c16a274a61e8\"><clipPath id=\"t8e9d3555c2c34c4b98b65817e89b4776\"><rect x=\"20.0\" y=\"40.0\" width=\"205.0\" height=\"170.0\"></rect></clipPath><g clip-path=\"url(#t8e9d3555c2c34c4b98b65817e89b4776)\"><g class=\"toytree-mark-Toytree\" id=\"tcca4c980118b4e3d8d868a7c4ca5cdb0\"><g class=\"toytree-Edges\" style=\"stroke:rgb(14.5%,14.5%,14.5%);stroke-opacity:1.0;stroke-linecap:round;stroke-width:2.0;fill:none\"><path d=\"M 36.1 152.7 L 36.1 191.6 L 155.5 191.6\" id=\"6,0\" style=\"\"></path><path d=\"M 75.9 113.9 L 75.9 147.2 L 155.5 147.2\" id=\"5,1\" style=\"\"></path><path d=\"M 115.7 80.6 L 115.7 102.8 L 155.5 102.8\" id=\"4,2\" style=\"\"></path><path d=\"M 115.7 80.6 L 115.7 58.4 L 155.5 58.4\" id=\"4,3\" style=\"\"></path><path d=\"M 75.9 113.9 L 75.9 80.6 L 115.7 80.6\" id=\"5,4\" style=\"\"></path><path d=\"M 36.1 152.7 L 36.1 113.9 L 75.9 113.9\" id=\"6,5\" style=\"\"></path></g><g class=\"toytree-AdmixEdges\" style=\"fill:rgb(0.0%,0.0%,0.0%);fill-opacity:0.0;stroke:rgb(90.6%,54.1%,76.5%);stroke-opacity:0.6;font-size:14px;stroke-linecap:round;stroke-width:5\"></g><g class=\"toytree-Nodes\" style=\"fill:rgb(82.7%,82.7%,82.7%);fill-opacity:1.0;stroke:rgb(14.5%,14.5%,14.5%);stroke-opacity:1.0;stroke-width:1.5\"><g id=\"Node-0\" transform=\"translate(155.488,191.568)\"><circle r=\"8.0\"></circle></g><g id=\"Node-1\" transform=\"translate(155.488,147.189)\"><circle r=\"8.0\"></circle></g><g id=\"Node-2\" transform=\"translate(155.488,102.811)\"><circle r=\"8.0\"></circle></g><g id=\"Node-3\" transform=\"translate(155.488,58.432)\"><circle r=\"8.0\"></circle></g><g id=\"Node-4\" transform=\"translate(115.702,80.6213)\"><circle r=\"8.0\"></circle></g><g id=\"Node-5\" transform=\"translate(75.9156,113.905)\"><circle r=\"8.0\"></circle></g><g id=\"Node-6\" transform=\"translate(36.1292,152.737)\"><circle r=\"8.0\"></circle></g></g><g class=\"toytree-NodeLabels\" style=\"font-family:Helvetica;font-size:9px;font-weight:300;vertical-align:baseline;white-space:pre;stroke:none\"><g class=\"toytree-NodeLabel\" transform=\"translate(155.488,191.568)\"><text x=\"-2.5020000000000002\" y=\"2.2995\" style=\"fill:rgb(14.5%,14.5%,14.5%);fill-opacity:1.0\">0</text></g><g class=\"toytree-NodeLabel\" transform=\"translate(155.488,147.189)\"><text x=\"-2.5020000000000002\" y=\"2.2995\" style=\"fill:rgb(14.5%,14.5%,14.5%);fill-opacity:1.0\">1</text></g><g class=\"toytree-NodeLabel\" transform=\"translate(155.488,102.811)\"><text x=\"-2.5020000000000002\" y=\"2.2995\" style=\"fill:rgb(14.5%,14.5%,14.5%);fill-opacity:1.0\">2</text></g><g class=\"toytree-NodeLabel\" transform=\"translate(155.488,58.432)\"><text x=\"-2.5020000000000002\" y=\"2.2995\" style=\"fill:rgb(14.5%,14.5%,14.5%);fill-opacity:1.0\">3</text></g><g class=\"toytree-NodeLabel\" transform=\"translate(115.702,80.6213)\"><text x=\"-2.5020000000000002\" y=\"2.2995\" style=\"fill:rgb(14.5%,14.5%,14.5%);fill-opacity:1.0\">4</text></g><g class=\"toytree-NodeLabel\" transform=\"translate(75.9156,113.905)\"><text x=\"-2.5020000000000002\" y=\"2.2995\" style=\"fill:rgb(14.5%,14.5%,14.5%);fill-opacity:1.0\">5</text></g><g class=\"toytree-NodeLabel\" transform=\"translate(36.1292,152.737)\"><text x=\"-2.5020000000000002\" y=\"2.2995\" style=\"fill:rgb(14.5%,14.5%,14.5%);fill-opacity:1.0\">6</text></g></g><g class=\"toytree-TipLabels\" style=\"fill:rgb(14.5%,14.5%,14.5%);fill-opacity:1.0;font-family:Helvetica;font-size:10px;font-weight:300;vertical-align:baseline;white-space:pre;stroke:none\"><g class=\"toytree-TipLabel\" transform=\"translate(155.488,191.568)\"><text x=\"10.0\" y=\"2.5549999999999997\" style=\"fill:rgb(16.9%,51.4%,72.9%);fill-opacity:1.0\">Alligator</text></g><g class=\"toytree-TipLabel\" transform=\"translate(155.488,147.189)\"><text x=\"10.0\" y=\"2.5549999999999997\" style=\"fill:rgb(67.1%,86.7%,64.3%);fill-opacity:1.0\">Bunny</text></g><g class=\"toytree-TipLabel\" transform=\"translate(155.488,102.811)\"><text x=\"10.0\" y=\"2.5549999999999997\" style=\"fill:rgb(99.2%,68.2%,38.0%);fill-opacity:1.0\">Cat</text></g><g class=\"toytree-TipLabel\" transform=\"translate(155.488,58.432)\"><text x=\"10.0\" y=\"2.5549999999999997\" style=\"fill:rgb(84.3%,9.8%,11.0%);fill-opacity:1.0\">Dog</text></g></g></g></g></g><g class=\"toyplot-coordinates-Cartesian\" id=\"t8b02eaea330644f8ab500c52256e173e\"><clipPath id=\"t53395e6e2b9c4d3b814d5281c5c5a2dd\"><rect x=\"245.0\" y=\"40.0\" width=\"205.0\" height=\"170.0\"></rect></clipPath><g clip-path=\"url(#t53395e6e2b9c4d3b814d5281c5c5a2dd)\"><g class=\"toytree-mark-Toytree\" id=\"tbf31b0b0a72048a9bff48c7c60fe025b\"><g class=\"toytree-Edges\" style=\"stroke:rgb(14.5%,14.5%,14.5%);stroke-opacity:1.0;stroke-linecap:round;stroke-width:2.0;fill:none\"><path d=\"M 261.1 152.7 L 261.1 191.6 L 380.5 191.6\" id=\"6,0\" style=\"\"></path><path d=\"M 300.9 113.9 L 300.9 147.2 L 380.5 147.2\" id=\"5,1\" style=\"\"></path><path d=\"M 340.7 80.6 L 340.7 102.8 L 380.5 102.8\" id=\"4,2\" style=\"\"></path><path d=\"M 340.7 80.6 L 340.7 58.4 L 380.5 58.4\" id=\"4,3\" style=\"\"></path><path d=\"M 300.9 113.9 L 300.9 80.6 L 340.7 80.6\" id=\"5,4\" style=\"\"></path><path d=\"M 261.1 152.7 L 261.1 113.9 L 300.9 113.9\" id=\"6,5\" style=\"\"></path></g><g class=\"toytree-AdmixEdges\" style=\"fill:rgb(0.0%,0.0%,0.0%);fill-opacity:0.0;stroke:rgb(90.6%,54.1%,76.5%);stroke-opacity:0.6;font-size:14px;stroke-linecap:round;stroke-width:5\"></g><g class=\"toytree-Nodes\" style=\"fill:rgb(82.7%,82.7%,82.7%);fill-opacity:1.0;stroke:rgb(14.5%,14.5%,14.5%);stroke-opacity:1.0;stroke-width:1.5\"><g id=\"Node-0\" transform=\"translate(380.488,191.568)\"><circle r=\"8.0\"></circle></g><g id=\"Node-1\" transform=\"translate(380.488,147.189)\"><circle r=\"8.0\"></circle></g><g id=\"Node-2\" transform=\"translate(380.488,102.811)\"><circle r=\"8.0\"></circle></g><g id=\"Node-3\" transform=\"translate(380.488,58.432)\"><circle r=\"8.0\"></circle></g><g id=\"Node-4\" transform=\"translate(340.702,80.6213)\"><circle r=\"8.0\"></circle></g><g id=\"Node-5\" transform=\"translate(300.916,113.905)\"><circle r=\"8.0\"></circle></g><g id=\"Node-6\" transform=\"translate(261.129,152.737)\"><circle r=\"8.0\"></circle></g></g><g class=\"toytree-NodeLabels\" style=\"font-family:Helvetica;font-size:9px;font-weight:300;vertical-align:baseline;white-space:pre;stroke:none\"><g class=\"toytree-NodeLabel\" transform=\"translate(380.488,191.568)\"><text x=\"-2.5020000000000002\" y=\"2.2995\" style=\"fill:rgb(14.5%,14.5%,14.5%);fill-opacity:1.0\">0</text></g><g class=\"toytree-NodeLabel\" transform=\"translate(380.488,147.189)\"><text x=\"-2.5020000000000002\" y=\"2.2995\" style=\"fill:rgb(14.5%,14.5%,14.5%);fill-opacity:1.0\">1</text></g><g class=\"toytree-NodeLabel\" transform=\"translate(380.488,102.811)\"><text x=\"-2.5020000000000002\" y=\"2.2995\" style=\"fill:rgb(14.5%,14.5%,14.5%);fill-opacity:1.0\">2</text></g><g class=\"toytree-NodeLabel\" transform=\"translate(380.488,58.432)\"><text x=\"-2.5020000000000002\" y=\"2.2995\" style=\"fill:rgb(14.5%,14.5%,14.5%);fill-opacity:1.0\">3</text></g><g class=\"toytree-NodeLabel\" transform=\"translate(340.702,80.6213)\"><text x=\"-2.5020000000000002\" y=\"2.2995\" style=\"fill:rgb(14.5%,14.5%,14.5%);fill-opacity:1.0\">4</text></g><g class=\"toytree-NodeLabel\" transform=\"translate(300.916,113.905)\"><text x=\"-2.5020000000000002\" y=\"2.2995\" style=\"fill:rgb(14.5%,14.5%,14.5%);fill-opacity:1.0\">5</text></g><g class=\"toytree-NodeLabel\" transform=\"translate(261.129,152.737)\"><text x=\"-2.5020000000000002\" y=\"2.2995\" style=\"fill:rgb(14.5%,14.5%,14.5%);fill-opacity:1.0\">6</text></g></g><g class=\"toytree-TipLabels\" style=\"fill:rgb(14.5%,14.5%,14.5%);fill-opacity:1.0;font-family:Helvetica;font-size:10px;font-weight:300;vertical-align:baseline;white-space:pre;stroke:none\"><g class=\"toytree-TipLabel\" transform=\"translate(380.488,191.568)\"><text x=\"10.0\" y=\"2.5549999999999997\" style=\"fill:rgb(16.9%,51.4%,72.9%);fill-opacity:1.0\">Alligator</text></g><g class=\"toytree-TipLabel\" transform=\"translate(380.488,147.189)\"><text x=\"10.0\" y=\"2.5549999999999997\" style=\"fill:rgb(67.1%,86.7%,64.3%);fill-opacity:1.0\">Bunny</text></g><g class=\"toytree-TipLabel\" transform=\"translate(380.488,102.811)\"><text x=\"10.0\" y=\"2.5549999999999997\" style=\"fill:rgb(84.3%,9.8%,11.0%);fill-opacity:1.0\">Dog</text></g><g class=\"toytree-TipLabel\" transform=\"translate(380.488,58.432)\"><text x=\"10.0\" y=\"2.5549999999999997\" style=\"fill:rgb(99.2%,68.2%,38.0%);fill-opacity:1.0\">Cat</text></g></g></g></g></g></svg><div class=\"toyplot-behavior\"><script>(function()\n",
       "{\n",
       "var modules={};\n",
       "})();</script></div></div>"
      ]
     },
     "metadata": {},
     "output_type": "display_data"
    }
   ],
   "source": [
    "# simple tree from newick string\n",
    "tree = toytree.tree(\"(Alligator,(Bunny,(Cat,Dog)X)Y)Z;\")\n",
    "\n",
    "# rotate tree at node idx=4 (first internal node)\n",
    "tree2 = toytree.mod.rotate_node(tree, 4)\n",
    "\n",
    "# look for the difference in order between Cat and Dog\n",
    "toytree.mtree([tree, tree2]).draw(ts='s', tip_labels_colors=\"name\");"
   ]
  },
  {
   "cell_type": "markdown",
   "metadata": {},
   "source": [
    "Note: This command udates the indices after the rotation, so notice that the \"name\" features of the tips are rotated, but the indices are updated to be numbered in visual order up the tips and down the internal Nodes"
   ]
  },
  {
   "cell_type": "markdown",
   "metadata": {},
   "source": [
    "Multiple calls of `rotate_node` can be chained to efficiently change specific formatting."
   ]
  },
  {
   "cell_type": "code",
   "execution_count": 94,
   "metadata": {},
   "outputs": [
    {
     "data": {
      "text/html": [
       "<div class=\"toyplot\" id=\"t22bbea5918784f2a9dcd515daa35b244\" style=\"text-align:center\"><svg class=\"toyplot-canvas-Canvas\" xmlns:toyplot=\"http://www.sandia.gov/toyplot\" xmlns:xlink=\"http://www.w3.org/1999/xlink\" xmlns=\"http://www.w3.org/2000/svg\" width=\"450.0px\" height=\"250.0px\" viewBox=\"0 0 450.0 250.0\" preserveAspectRatio=\"xMidYMid meet\" style=\"background-color:transparent;border-color:#292724;border-style:none;border-width:1.0;fill:rgb(16.1%,15.3%,14.1%);fill-opacity:1.0;font-family:Helvetica;font-size:12px;opacity:1.0;stroke:rgb(16.1%,15.3%,14.1%);stroke-opacity:1.0;stroke-width:1.0\" id=\"t126f3546045a470884254ab103cbb3e5\"><g class=\"toyplot-coordinates-Cartesian\" id=\"te9f8350b62da4df29ce6a80e271cb747\"><clipPath id=\"tca3a4f346bce4850b1179e52edbb3e46\"><rect x=\"20.0\" y=\"40.0\" width=\"205.0\" height=\"170.0\"></rect></clipPath><g clip-path=\"url(#tca3a4f346bce4850b1179e52edbb3e46)\"><g class=\"toytree-mark-Toytree\" id=\"t0c0d4713c5da4a399778fc672f0b8b4c\"><g class=\"toytree-Edges\" style=\"stroke:rgb(14.5%,14.5%,14.5%);stroke-opacity:1.0;stroke-linecap:round;stroke-width:2.0;fill:none\"><path d=\"M 37.8 156.6 L 37.8 191.6 L 189.5 191.6\" id=\"10,0\" style=\"\"></path><path d=\"M 151.6 151.6 L 151.6 164.9 L 189.5 164.9\" id=\"6,1\" style=\"\"></path><path d=\"M 151.6 151.6 L 151.6 138.3 L 189.5 138.3\" id=\"6,2\" style=\"\"></path><path d=\"M 113.6 91.7 L 113.6 111.7 L 189.5 111.7\" id=\"8,3\" style=\"\"></path><path d=\"M 151.6 71.7 L 151.6 85.1 L 189.5 85.1\" id=\"7,4\" style=\"\"></path><path d=\"M 151.6 71.7 L 151.6 58.4 L 189.5 58.4\" id=\"7,5\" style=\"\"></path><path d=\"M 75.7 121.7 L 75.7 151.6 L 151.6 151.6\" id=\"9,6\" style=\"\"></path><path d=\"M 113.6 91.7 L 113.6 71.7 L 151.6 71.7\" id=\"8,7\" style=\"\"></path><path d=\"M 75.7 121.7 L 75.7 91.7 L 113.6 91.7\" id=\"9,8\" style=\"\"></path><path d=\"M 37.8 156.6 L 37.8 121.7 L 75.7 121.7\" id=\"10,9\" style=\"\"></path></g><g class=\"toytree-AdmixEdges\" style=\"fill:rgb(0.0%,0.0%,0.0%);fill-opacity:0.0;stroke:rgb(90.6%,54.1%,76.5%);stroke-opacity:0.6;font-size:14px;stroke-linecap:round;stroke-width:5\"></g><g class=\"toytree-Nodes\" style=\"fill:rgb(82.7%,82.7%,82.7%);fill-opacity:1.0;stroke:rgb(14.5%,14.5%,14.5%);stroke-opacity:1.0;stroke-width:1.5\"><g id=\"Node-0\" transform=\"translate(189.483,191.568)\"><circle r=\"8.0\"></circle></g><g id=\"Node-1\" transform=\"translate(189.483,164.941)\"><circle r=\"8.0\"></circle></g><g id=\"Node-2\" transform=\"translate(189.483,138.314)\"><circle r=\"8.0\"></circle></g><g id=\"Node-3\" transform=\"translate(189.483,111.686)\"><circle r=\"8.0\"></circle></g><g id=\"Node-4\" transform=\"translate(189.483,85.0592)\"><circle r=\"8.0\"></circle></g><g id=\"Node-5\" transform=\"translate(189.483,58.432)\"><circle r=\"8.0\"></circle></g><g id=\"Node-6\" transform=\"translate(151.559,151.627)\"><circle r=\"8.0\"></circle></g><g id=\"Node-7\" transform=\"translate(151.559,71.7456)\"><circle r=\"8.0\"></circle></g><g id=\"Node-8\" transform=\"translate(113.636,91.716)\"><circle r=\"8.0\"></circle></g><g id=\"Node-9\" transform=\"translate(75.7129,121.672)\"><circle r=\"8.0\"></circle></g><g id=\"Node-10\" transform=\"translate(37.7896,156.62)\"><circle r=\"8.0\"></circle></g></g><g class=\"toytree-NodeLabels\" style=\"font-family:Helvetica;font-size:9px;font-weight:300;vertical-align:baseline;white-space:pre;stroke:none\"><g class=\"toytree-NodeLabel\" transform=\"translate(189.483,191.568)\"><text x=\"-2.5020000000000002\" y=\"2.2995\" style=\"fill:rgb(14.5%,14.5%,14.5%);fill-opacity:1.0\">0</text></g><g class=\"toytree-NodeLabel\" transform=\"translate(189.483,164.941)\"><text x=\"-2.5020000000000002\" y=\"2.2995\" style=\"fill:rgb(14.5%,14.5%,14.5%);fill-opacity:1.0\">1</text></g><g class=\"toytree-NodeLabel\" transform=\"translate(189.483,138.314)\"><text x=\"-2.5020000000000002\" y=\"2.2995\" style=\"fill:rgb(14.5%,14.5%,14.5%);fill-opacity:1.0\">2</text></g><g class=\"toytree-NodeLabel\" transform=\"translate(189.483,111.686)\"><text x=\"-2.5020000000000002\" y=\"2.2995\" style=\"fill:rgb(14.5%,14.5%,14.5%);fill-opacity:1.0\">3</text></g><g class=\"toytree-NodeLabel\" transform=\"translate(189.483,85.0592)\"><text x=\"-2.5020000000000002\" y=\"2.2995\" style=\"fill:rgb(14.5%,14.5%,14.5%);fill-opacity:1.0\">4</text></g><g class=\"toytree-NodeLabel\" transform=\"translate(189.483,58.432)\"><text x=\"-2.5020000000000002\" y=\"2.2995\" style=\"fill:rgb(14.5%,14.5%,14.5%);fill-opacity:1.0\">5</text></g><g class=\"toytree-NodeLabel\" transform=\"translate(151.559,151.627)\"><text x=\"-2.5020000000000002\" y=\"2.2995\" style=\"fill:rgb(14.5%,14.5%,14.5%);fill-opacity:1.0\">6</text></g><g class=\"toytree-NodeLabel\" transform=\"translate(151.559,71.7456)\"><text x=\"-2.5020000000000002\" y=\"2.2995\" style=\"fill:rgb(14.5%,14.5%,14.5%);fill-opacity:1.0\">7</text></g><g class=\"toytree-NodeLabel\" transform=\"translate(113.636,91.716)\"><text x=\"-2.5020000000000002\" y=\"2.2995\" style=\"fill:rgb(14.5%,14.5%,14.5%);fill-opacity:1.0\">8</text></g><g class=\"toytree-NodeLabel\" transform=\"translate(75.7129,121.672)\"><text x=\"-2.5020000000000002\" y=\"2.2995\" style=\"fill:rgb(14.5%,14.5%,14.5%);fill-opacity:1.0\">9</text></g><g class=\"toytree-NodeLabel\" transform=\"translate(37.7896,156.62)\"><text x=\"-5.0040000000000004\" y=\"2.2995\" style=\"fill:rgb(14.5%,14.5%,14.5%);fill-opacity:1.0\">10</text></g></g><g class=\"toytree-TipLabels\" style=\"fill:rgb(14.5%,14.5%,14.5%);fill-opacity:1.0;font-family:Helvetica;font-size:10px;font-weight:300;vertical-align:baseline;white-space:pre;stroke:none\"><g class=\"toytree-TipLabel\" transform=\"translate(189.483,191.568)\"><text x=\"10.0\" y=\"2.5549999999999997\" style=\"fill:rgb(14.5%,14.5%,14.5%);fill-opacity:1.0\">a</text></g><g class=\"toytree-TipLabel\" transform=\"translate(189.483,164.941)\"><text x=\"10.0\" y=\"2.5549999999999997\" style=\"fill:rgb(14.5%,14.5%,14.5%);fill-opacity:1.0\">b</text></g><g class=\"toytree-TipLabel\" transform=\"translate(189.483,138.314)\"><text x=\"10.0\" y=\"2.5549999999999997\" style=\"fill:rgb(14.5%,14.5%,14.5%);fill-opacity:1.0\">c</text></g><g class=\"toytree-TipLabel\" transform=\"translate(189.483,111.686)\"><text x=\"10.0\" y=\"2.5549999999999997\" style=\"fill:rgb(14.5%,14.5%,14.5%);fill-opacity:1.0\">d</text></g><g class=\"toytree-TipLabel\" transform=\"translate(189.483,85.0592)\"><text x=\"10.0\" y=\"2.5549999999999997\" style=\"fill:rgb(14.5%,14.5%,14.5%);fill-opacity:1.0\">e</text></g><g class=\"toytree-TipLabel\" transform=\"translate(189.483,58.432)\"><text x=\"10.0\" y=\"2.5549999999999997\" style=\"fill:rgb(14.5%,14.5%,14.5%);fill-opacity:1.0\">f</text></g></g></g></g></g><g class=\"toyplot-coordinates-Cartesian\" id=\"t048f252aa7884ce29a8a1b9212efe847\"><clipPath id=\"tffab82dd3be2439d949e62f4a5c90d5c\"><rect x=\"245.0\" y=\"40.0\" width=\"205.0\" height=\"170.0\"></rect></clipPath><g clip-path=\"url(#tffab82dd3be2439d949e62f4a5c90d5c)\"><g class=\"toytree-mark-Toytree\" id=\"t5917a9b4ceff4f3daf1b1e3db880d00c\"><g class=\"toytree-Edges\" style=\"stroke:rgb(14.5%,14.5%,14.5%);stroke-opacity:1.0;stroke-linecap:round;stroke-width:2.0;fill:none\"><path d=\"M 262.8 146.6 L 262.8 191.6 L 414.5 191.6\" id=\"10,0\" style=\"\"></path><path d=\"M 376.6 151.6 L 376.6 164.9 L 414.5 164.9\" id=\"6,1\" style=\"\"></path><path d=\"M 376.6 151.6 L 376.6 138.3 L 414.5 138.3\" id=\"6,2\" style=\"\"></path><path d=\"M 338.6 131.7 L 338.6 111.7 L 414.5 111.7\" id=\"7,3\" style=\"\"></path><path d=\"M 376.6 71.7 L 376.6 85.1 L 414.5 85.1\" id=\"8,4\" style=\"\"></path><path d=\"M 376.6 71.7 L 376.6 58.4 L 414.5 58.4\" id=\"8,5\" style=\"\"></path><path d=\"M 338.6 131.7 L 338.6 151.6 L 376.6 151.6\" id=\"7,6\" style=\"\"></path><path d=\"M 300.7 101.7 L 300.7 131.7 L 338.6 131.7\" id=\"9,7\" style=\"\"></path><path d=\"M 300.7 101.7 L 300.7 71.7 L 376.6 71.7\" id=\"9,8\" style=\"\"></path><path d=\"M 262.8 146.6 L 262.8 101.7 L 300.7 101.7\" id=\"10,9\" style=\"\"></path></g><g class=\"toytree-AdmixEdges\" style=\"fill:rgb(0.0%,0.0%,0.0%);fill-opacity:0.0;stroke:rgb(90.6%,54.1%,76.5%);stroke-opacity:0.6;font-size:14px;stroke-linecap:round;stroke-width:5\"></g><g class=\"toytree-Nodes\" style=\"fill:rgb(82.7%,82.7%,82.7%);fill-opacity:1.0;stroke:rgb(14.5%,14.5%,14.5%);stroke-opacity:1.0;stroke-width:1.5\"><g id=\"Node-0\" transform=\"translate(414.483,191.568)\"><circle r=\"8.0\"></circle></g><g id=\"Node-1\" transform=\"translate(414.483,164.941)\"><circle r=\"8.0\"></circle></g><g id=\"Node-2\" transform=\"translate(414.483,138.314)\"><circle r=\"8.0\"></circle></g><g id=\"Node-3\" transform=\"translate(414.483,111.686)\"><circle r=\"8.0\"></circle></g><g id=\"Node-4\" transform=\"translate(414.483,85.0592)\"><circle r=\"8.0\"></circle></g><g id=\"Node-5\" transform=\"translate(414.483,58.432)\"><circle r=\"8.0\"></circle></g><g id=\"Node-6\" transform=\"translate(376.559,151.627)\"><circle r=\"8.0\"></circle></g><g id=\"Node-7\" transform=\"translate(338.636,131.657)\"><circle r=\"8.0\"></circle></g><g id=\"Node-8\" transform=\"translate(376.559,71.7456)\"><circle r=\"8.0\"></circle></g><g id=\"Node-9\" transform=\"translate(300.713,101.701)\"><circle r=\"8.0\"></circle></g><g id=\"Node-10\" transform=\"translate(262.79,146.635)\"><circle r=\"8.0\"></circle></g></g><g class=\"toytree-NodeLabels\" style=\"font-family:Helvetica;font-size:9px;font-weight:300;vertical-align:baseline;white-space:pre;stroke:none\"><g class=\"toytree-NodeLabel\" transform=\"translate(414.483,191.568)\"><text x=\"-2.5020000000000002\" y=\"2.2995\" style=\"fill:rgb(14.5%,14.5%,14.5%);fill-opacity:1.0\">0</text></g><g class=\"toytree-NodeLabel\" transform=\"translate(414.483,164.941)\"><text x=\"-2.5020000000000002\" y=\"2.2995\" style=\"fill:rgb(14.5%,14.5%,14.5%);fill-opacity:1.0\">1</text></g><g class=\"toytree-NodeLabel\" transform=\"translate(414.483,138.314)\"><text x=\"-2.5020000000000002\" y=\"2.2995\" style=\"fill:rgb(14.5%,14.5%,14.5%);fill-opacity:1.0\">2</text></g><g class=\"toytree-NodeLabel\" transform=\"translate(414.483,111.686)\"><text x=\"-2.5020000000000002\" y=\"2.2995\" style=\"fill:rgb(14.5%,14.5%,14.5%);fill-opacity:1.0\">3</text></g><g class=\"toytree-NodeLabel\" transform=\"translate(414.483,85.0592)\"><text x=\"-2.5020000000000002\" y=\"2.2995\" style=\"fill:rgb(14.5%,14.5%,14.5%);fill-opacity:1.0\">4</text></g><g class=\"toytree-NodeLabel\" transform=\"translate(414.483,58.432)\"><text x=\"-2.5020000000000002\" y=\"2.2995\" style=\"fill:rgb(14.5%,14.5%,14.5%);fill-opacity:1.0\">5</text></g><g class=\"toytree-NodeLabel\" transform=\"translate(376.559,151.627)\"><text x=\"-2.5020000000000002\" y=\"2.2995\" style=\"fill:rgb(14.5%,14.5%,14.5%);fill-opacity:1.0\">6</text></g><g class=\"toytree-NodeLabel\" transform=\"translate(338.636,131.657)\"><text x=\"-2.5020000000000002\" y=\"2.2995\" style=\"fill:rgb(14.5%,14.5%,14.5%);fill-opacity:1.0\">7</text></g><g class=\"toytree-NodeLabel\" transform=\"translate(376.559,71.7456)\"><text x=\"-2.5020000000000002\" y=\"2.2995\" style=\"fill:rgb(14.5%,14.5%,14.5%);fill-opacity:1.0\">8</text></g><g class=\"toytree-NodeLabel\" transform=\"translate(300.713,101.701)\"><text x=\"-2.5020000000000002\" y=\"2.2995\" style=\"fill:rgb(14.5%,14.5%,14.5%);fill-opacity:1.0\">9</text></g><g class=\"toytree-NodeLabel\" transform=\"translate(262.79,146.635)\"><text x=\"-5.0040000000000004\" y=\"2.2995\" style=\"fill:rgb(14.5%,14.5%,14.5%);fill-opacity:1.0\">10</text></g></g><g class=\"toytree-TipLabels\" style=\"fill:rgb(14.5%,14.5%,14.5%);fill-opacity:1.0;font-family:Helvetica;font-size:10px;font-weight:300;vertical-align:baseline;white-space:pre;stroke:none\"><g class=\"toytree-TipLabel\" transform=\"translate(414.483,191.568)\"><text x=\"10.0\" y=\"2.5549999999999997\" style=\"fill:rgb(14.5%,14.5%,14.5%);fill-opacity:1.0\">a</text></g><g class=\"toytree-TipLabel\" transform=\"translate(414.483,164.941)\"><text x=\"10.0\" y=\"2.5549999999999997\" style=\"fill:rgb(14.5%,14.5%,14.5%);fill-opacity:1.0\">e</text></g><g class=\"toytree-TipLabel\" transform=\"translate(414.483,138.314)\"><text x=\"10.0\" y=\"2.5549999999999997\" style=\"fill:rgb(14.5%,14.5%,14.5%);fill-opacity:1.0\">f</text></g><g class=\"toytree-TipLabel\" transform=\"translate(414.483,111.686)\"><text x=\"10.0\" y=\"2.5549999999999997\" style=\"fill:rgb(14.5%,14.5%,14.5%);fill-opacity:1.0\">d</text></g><g class=\"toytree-TipLabel\" transform=\"translate(414.483,85.0592)\"><text x=\"10.0\" y=\"2.5549999999999997\" style=\"fill:rgb(14.5%,14.5%,14.5%);fill-opacity:1.0\">b</text></g><g class=\"toytree-TipLabel\" transform=\"translate(414.483,58.432)\"><text x=\"10.0\" y=\"2.5549999999999997\" style=\"fill:rgb(14.5%,14.5%,14.5%);fill-opacity:1.0\">c</text></g></g></g></g></g></svg><div class=\"toyplot-behavior\"><script>(function()\n",
       "{\n",
       "var modules={};\n",
       "})();</script></div></div>"
      ]
     },
     "metadata": {},
     "output_type": "display_data"
    }
   ],
   "source": [
    "# more complex newick string\n",
    "tree = toytree.tree(\"(a,((b,c)BC,(d,(e,f))DE)X)AB;\") \n",
    "\n",
    "# multiple calls chained together, accessing internal nodes by MRCA of two tips\n",
    "rotated = tree.mod.rotate_node('c', 'd').mod.rotate_node('f','d')\n",
    "toytree.mtree([tree, rotated]).draw(ts='s');"
   ]
  },
  {
   "attachments": {},
   "cell_type": "markdown",
   "metadata": {},
   "source": [
    "## Subtree-level manipulation\n",
    "\n",
    "### Pruning  \n",
    "\n",
    "The `prune()` method returns a tree with a subset of queried Nodes along with the minimal spanning edges required to connect the Nodes. Nodes can be queried as individual arguments or as a set of indices, e.g. prune([0,1,2])\n",
    "\n",
    "When called on a rooted tree, the user can require the originial root to be retained in the pruned tree using `require_root=True`. By default, this is `False` and the lowest MRCA connecting the queried Nodes will instead be kept as the new root.  \n",
    "\n",
    "When internal Nodes are discarded by `prune()`, their distances will be merged into the distance of the queried Node such that the original distance between the `root` and the queried `Node` remains the same. If `preserve_dists=False`, then only the original distances assigned to the queried Nodes are retained.\n"
   ]
  },
  {
   "cell_type": "code",
   "execution_count": 103,
   "metadata": {},
   "outputs": [
    {
     "data": {
      "text/html": [
       "<div class=\"toyplot\" id=\"t103e00af2e914b30bec0d26b8110f081\" style=\"text-align:center\"><svg class=\"toyplot-canvas-Canvas\" xmlns:toyplot=\"http://www.sandia.gov/toyplot\" xmlns:xlink=\"http://www.w3.org/1999/xlink\" xmlns=\"http://www.w3.org/2000/svg\" width=\"450.0px\" height=\"250.0px\" viewBox=\"0 0 450.0 250.0\" preserveAspectRatio=\"xMidYMid meet\" style=\"background-color:transparent;border-color:#292724;border-style:none;border-width:1.0;fill:rgb(16.1%,15.3%,14.1%);fill-opacity:1.0;font-family:Helvetica;font-size:12px;opacity:1.0;stroke:rgb(16.1%,15.3%,14.1%);stroke-opacity:1.0;stroke-width:1.0\" id=\"tff301b685fa440609e908d0569533579\"><g class=\"toyplot-coordinates-Cartesian\" id=\"tff4f250dc4c0421f9622bc3c07f0a671\"><clipPath id=\"t629163adee654875af3bd68721e7fbea\"><rect x=\"20.0\" y=\"40.0\" width=\"205.0\" height=\"150.0\"></rect></clipPath><g clip-path=\"url(#t629163adee654875af3bd68721e7fbea)\"><g class=\"toytree-mark-Toytree\" id=\"t906c6892fc284a68a2baa47150eeb4b5\"><g class=\"toytree-Edges\" style=\"stroke:rgb(14.5%,14.5%,14.5%);stroke-opacity:1.0;stroke-linecap:round;stroke-width:2.0;fill:none\"><path d=\"M 113.6 143.4 L 113.6 171.7 L 189.5 171.7\" id=\"3,0\" style=\"\"></path><path d=\"M 113.6 143.4 L 113.6 115.0 L 189.5 115.0\" id=\"3,1\" style=\"\"></path><path d=\"M 37.8 100.8 L 37.8 58.3 L 189.5 58.3\" id=\"4,2\" style=\"\"></path><path d=\"M 37.8 100.8 L 37.8 143.4 L 113.6 143.4\" id=\"4,3\" style=\"\"></path></g><g class=\"toytree-AdmixEdges\" style=\"fill:rgb(0.0%,0.0%,0.0%);fill-opacity:0.0;stroke:rgb(90.6%,54.1%,76.5%);stroke-opacity:0.6;font-size:14px;stroke-linecap:round;stroke-width:5\"></g><g class=\"toytree-Nodes\" style=\"fill:rgb(82.7%,82.7%,82.7%);fill-opacity:1.0;stroke:rgb(14.5%,14.5%,14.5%);stroke-opacity:1.0;stroke-width:1.5\"><g id=\"Node-0\" transform=\"translate(189.483,171.711)\"><circle r=\"8.0\"></circle></g><g id=\"Node-1\" transform=\"translate(189.483,115)\"><circle r=\"8.0\"></circle></g><g id=\"Node-2\" transform=\"translate(189.483,58.2886)\"><circle r=\"8.0\"></circle></g><g id=\"Node-3\" transform=\"translate(113.636,143.356)\"><circle r=\"8.0\"></circle></g><g id=\"Node-4\" transform=\"translate(37.7896,100.822)\"><circle r=\"8.0\"></circle></g></g><g class=\"toytree-NodeLabels\" style=\"font-family:Helvetica;font-size:9px;font-weight:300;vertical-align:baseline;white-space:pre;stroke:none\"><g class=\"toytree-NodeLabel\" transform=\"translate(189.483,171.711)\"><text x=\"-2.5020000000000002\" y=\"2.2995\" style=\"fill:rgb(14.5%,14.5%,14.5%);fill-opacity:1.0\">0</text></g><g class=\"toytree-NodeLabel\" transform=\"translate(189.483,115)\"><text x=\"-2.5020000000000002\" y=\"2.2995\" style=\"fill:rgb(14.5%,14.5%,14.5%);fill-opacity:1.0\">1</text></g><g class=\"toytree-NodeLabel\" transform=\"translate(189.483,58.2886)\"><text x=\"-2.5020000000000002\" y=\"2.2995\" style=\"fill:rgb(14.5%,14.5%,14.5%);fill-opacity:1.0\">2</text></g><g class=\"toytree-NodeLabel\" transform=\"translate(113.636,143.356)\"><text x=\"-2.5020000000000002\" y=\"2.2995\" style=\"fill:rgb(14.5%,14.5%,14.5%);fill-opacity:1.0\">3</text></g><g class=\"toytree-NodeLabel\" transform=\"translate(37.7896,100.822)\"><text x=\"-2.5020000000000002\" y=\"2.2995\" style=\"fill:rgb(14.5%,14.5%,14.5%);fill-opacity:1.0\">4</text></g></g><g class=\"toytree-TipLabels\" style=\"fill:rgb(14.5%,14.5%,14.5%);fill-opacity:1.0;font-family:Helvetica;font-size:10px;font-weight:300;vertical-align:baseline;white-space:pre;stroke:none\"><g class=\"toytree-TipLabel\" transform=\"translate(189.483,171.711)\"><text x=\"10.0\" y=\"2.5549999999999997\" style=\"fill:rgb(14.5%,14.5%,14.5%);fill-opacity:1.0\">a</text></g><g class=\"toytree-TipLabel\" transform=\"translate(189.483,115)\"><text x=\"10.0\" y=\"2.5549999999999997\" style=\"fill:rgb(14.5%,14.5%,14.5%);fill-opacity:1.0\">b</text></g><g class=\"toytree-TipLabel\" transform=\"translate(189.483,58.2886)\"><text x=\"10.0\" y=\"2.5549999999999997\" style=\"fill:rgb(14.5%,14.5%,14.5%);fill-opacity:1.0\">c</text></g></g></g></g><g class=\"toyplot-coordinates-Axis\" id=\"t826d511868744e97aa7792dd3faee2a3\" transform=\"translate(30.0,180.0)translate(0,10.0)\"><line x1=\"7.78964630795141\" y1=\"0\" x2=\"159.48275862068968\" y2=\"0\" style=\"\"></line><g><line x1=\"7.78964630795141\" y1=\"0\" x2=\"7.78964630795141\" y2=\"-5\" style=\"\"></line><line x1=\"45.712924386135974\" y1=\"0\" x2=\"45.712924386135974\" y2=\"-5\" style=\"\"></line><line x1=\"83.63620246432053\" y1=\"0\" x2=\"83.63620246432053\" y2=\"-5\" style=\"\"></line><line x1=\"121.5594805425051\" y1=\"0\" x2=\"121.5594805425051\" y2=\"-5\" style=\"\"></line><line x1=\"159.48275862068968\" y1=\"0\" x2=\"159.48275862068968\" y2=\"-5\" style=\"\"></line></g><g><g transform=\"translate(7.78964630795141,6)\"><text x=\"-2.78\" y=\"8.555\" style=\"fill:rgb(16.1%,15.3%,14.1%);fill-opacity:1.0;font-family:helvetica;font-size:10.0px;font-weight:normal;stroke:none;vertical-align:baseline;white-space:pre\">2</text></g><g transform=\"translate(45.712924386135974,6)\"><text x=\"-6.95\" y=\"8.555\" style=\"fill:rgb(16.1%,15.3%,14.1%);fill-opacity:1.0;font-family:helvetica;font-size:10.0px;font-weight:normal;stroke:none;vertical-align:baseline;white-space:pre\">1.5</text></g><g transform=\"translate(83.63620246432053,6)\"><text x=\"-2.78\" y=\"8.555\" style=\"fill:rgb(16.1%,15.3%,14.1%);fill-opacity:1.0;font-family:helvetica;font-size:10.0px;font-weight:normal;stroke:none;vertical-align:baseline;white-space:pre\">1</text></g><g transform=\"translate(121.5594805425051,6)\"><text x=\"-6.95\" y=\"8.555\" style=\"fill:rgb(16.1%,15.3%,14.1%);fill-opacity:1.0;font-family:helvetica;font-size:10.0px;font-weight:normal;stroke:none;vertical-align:baseline;white-space:pre\">0.5</text></g><g transform=\"translate(159.48275862068968,6)\"><text x=\"-2.78\" y=\"8.555\" style=\"fill:rgb(16.1%,15.3%,14.1%);fill-opacity:1.0;font-family:helvetica;font-size:10.0px;font-weight:normal;stroke:none;vertical-align:baseline;white-space:pre\">0</text></g></g><g class=\"toyplot-coordinates-Axis-coordinates\" style=\"visibility:hidden\" transform=\"\"><line x1=\"0\" x2=\"0\" y1=\"-3.0\" y2=\"4.5\" style=\"stroke:rgb(43.9%,50.2%,56.5%);stroke-opacity:1.0;stroke-width:1.0\"></line><text x=\"0\" y=\"-6\" style=\"alignment-baseline:alphabetic;fill:rgb(43.9%,50.2%,56.5%);fill-opacity:1.0;font-size:10px;font-weight:normal;stroke:none;text-anchor:middle\"></text></g></g></g><g class=\"toyplot-coordinates-Cartesian\" id=\"tce18b3efa4834b74ad9fd9fda88a4cde\"><clipPath id=\"ta70c16daade74423ba563ac4c4afc109\"><rect x=\"245.0\" y=\"40.0\" width=\"205.0\" height=\"150.0\"></rect></clipPath><g clip-path=\"url(#ta70c16daade74423ba563ac4c4afc109)\"><g class=\"toytree-mark-Toytree\" id=\"t7724404937424acb8388438549a14c02\"><g class=\"toytree-Edges\" style=\"stroke:rgb(14.5%,14.5%,14.5%);stroke-opacity:1.0;stroke-linecap:round;stroke-width:2.0;fill:none\"><path d=\"M 262.8 115.0 L 262.8 171.7 L 414.5 171.7\" id=\"2,0\" style=\"\"></path><path d=\"M 262.8 115.0 L 262.8 58.3 L 414.5 58.3\" id=\"2,1\" style=\"\"></path></g><g class=\"toytree-AdmixEdges\" style=\"fill:rgb(0.0%,0.0%,0.0%);fill-opacity:0.0;stroke:rgb(90.6%,54.1%,76.5%);stroke-opacity:0.6;font-size:14px;stroke-linecap:round;stroke-width:5\"></g><g class=\"toytree-Nodes\" style=\"fill:rgb(82.7%,82.7%,82.7%);fill-opacity:1.0;stroke:rgb(14.5%,14.5%,14.5%);stroke-opacity:1.0;stroke-width:1.5\"><g id=\"Node-0\" transform=\"translate(414.483,171.711)\"><circle r=\"8.0\"></circle></g><g id=\"Node-1\" transform=\"translate(414.483,58.2886)\"><circle r=\"8.0\"></circle></g><g id=\"Node-2\" transform=\"translate(262.79,115)\"><circle r=\"8.0\"></circle></g></g><g class=\"toytree-NodeLabels\" style=\"font-family:Helvetica;font-size:9px;font-weight:300;vertical-align:baseline;white-space:pre;stroke:none\"><g class=\"toytree-NodeLabel\" transform=\"translate(414.483,171.711)\"><text x=\"-2.5020000000000002\" y=\"2.2995\" style=\"fill:rgb(14.5%,14.5%,14.5%);fill-opacity:1.0\">0</text></g><g class=\"toytree-NodeLabel\" transform=\"translate(414.483,58.2886)\"><text x=\"-2.5020000000000002\" y=\"2.2995\" style=\"fill:rgb(14.5%,14.5%,14.5%);fill-opacity:1.0\">1</text></g><g class=\"toytree-NodeLabel\" transform=\"translate(262.79,115)\"><text x=\"-2.5020000000000002\" y=\"2.2995\" style=\"fill:rgb(14.5%,14.5%,14.5%);fill-opacity:1.0\">2</text></g></g><g class=\"toytree-TipLabels\" style=\"fill:rgb(14.5%,14.5%,14.5%);fill-opacity:1.0;font-family:Helvetica;font-size:10px;font-weight:300;vertical-align:baseline;white-space:pre;stroke:none\"><g class=\"toytree-TipLabel\" transform=\"translate(414.483,171.711)\"><text x=\"10.0\" y=\"2.5549999999999997\" style=\"fill:rgb(14.5%,14.5%,14.5%);fill-opacity:1.0\">a</text></g><g class=\"toytree-TipLabel\" transform=\"translate(414.483,58.2886)\"><text x=\"10.0\" y=\"2.5549999999999997\" style=\"fill:rgb(14.5%,14.5%,14.5%);fill-opacity:1.0\">b</text></g></g></g></g><g class=\"toyplot-coordinates-Axis\" id=\"t0227f6826ab0479fab78db55f1d9a094\" transform=\"translate(255.0,180.0)translate(0,10.0)\"><line x1=\"7.78964630795141\" y1=\"0\" x2=\"159.48275862068968\" y2=\"0\" style=\"\"></line><g><line x1=\"7.78964630795141\" y1=\"0\" x2=\"7.78964630795141\" y2=\"-5\" style=\"\"></line><line x1=\"83.63620246432053\" y1=\"0\" x2=\"83.63620246432053\" y2=\"-5\" style=\"\"></line><line x1=\"159.48275862068968\" y1=\"0\" x2=\"159.48275862068968\" y2=\"-5\" style=\"\"></line></g><g><g transform=\"translate(7.78964630795141,6)\"><text x=\"-2.78\" y=\"8.555\" style=\"fill:rgb(16.1%,15.3%,14.1%);fill-opacity:1.0;font-family:helvetica;font-size:10.0px;font-weight:normal;stroke:none;vertical-align:baseline;white-space:pre\">1</text></g><g transform=\"translate(83.63620246432053,6)\"><text x=\"-6.95\" y=\"8.555\" style=\"fill:rgb(16.1%,15.3%,14.1%);fill-opacity:1.0;font-family:helvetica;font-size:10.0px;font-weight:normal;stroke:none;vertical-align:baseline;white-space:pre\">0.5</text></g><g transform=\"translate(159.48275862068968,6)\"><text x=\"-2.78\" y=\"8.555\" style=\"fill:rgb(16.1%,15.3%,14.1%);fill-opacity:1.0;font-family:helvetica;font-size:10.0px;font-weight:normal;stroke:none;vertical-align:baseline;white-space:pre\">0</text></g></g><g class=\"toyplot-coordinates-Axis-coordinates\" style=\"visibility:hidden\" transform=\"\"><line x1=\"0\" x2=\"0\" y1=\"-3.0\" y2=\"4.5\" style=\"stroke:rgb(43.9%,50.2%,56.5%);stroke-opacity:1.0;stroke-width:1.0\"></line><text x=\"0\" y=\"-6\" style=\"alignment-baseline:alphabetic;fill:rgb(43.9%,50.2%,56.5%);fill-opacity:1.0;font-size:10px;font-weight:normal;stroke:none;text-anchor:middle\"></text></g></g></g></svg><div class=\"toyplot-behavior\"><script>(function()\n",
       "{\n",
       "var modules={};\n",
       "modules[\"toyplot/canvas/id\"] = \"tff301b685fa440609e908d0569533579\";\n",
       "modules[\"toyplot/canvas\"] = (function(canvas_id)\n",
       "    {\n",
       "        return document.querySelector(\"#\" + canvas_id);\n",
       "    })(modules[\"toyplot/canvas/id\"]);\n",
       "modules[\"toyplot.coordinates.Axis\"] = (\n",
       "        function(canvas)\n",
       "        {\n",
       "            function sign(x)\n",
       "            {\n",
       "                return x < 0 ? -1 : x > 0 ? 1 : 0;\n",
       "            }\n",
       "\n",
       "            function mix(a, b, amount)\n",
       "            {\n",
       "                return ((1.0 - amount) * a) + (amount * b);\n",
       "            }\n",
       "\n",
       "            function log(x, base)\n",
       "            {\n",
       "                return Math.log(Math.abs(x)) / Math.log(base);\n",
       "            }\n",
       "\n",
       "            function in_range(a, x, b)\n",
       "            {\n",
       "                var left = Math.min(a, b);\n",
       "                var right = Math.max(a, b);\n",
       "                return left <= x && x <= right;\n",
       "            }\n",
       "\n",
       "            function inside(range, projection)\n",
       "            {\n",
       "                for(var i = 0; i != projection.length; ++i)\n",
       "                {\n",
       "                    var segment = projection[i];\n",
       "                    if(in_range(segment.range.min, range, segment.range.max))\n",
       "                        return true;\n",
       "                }\n",
       "                return false;\n",
       "            }\n",
       "\n",
       "            function to_domain(range, projection)\n",
       "            {\n",
       "                for(var i = 0; i != projection.length; ++i)\n",
       "                {\n",
       "                    var segment = projection[i];\n",
       "                    if(in_range(segment.range.bounds.min, range, segment.range.bounds.max))\n",
       "                    {\n",
       "                        if(segment.scale == \"linear\")\n",
       "                        {\n",
       "                            var amount = (range - segment.range.min) / (segment.range.max - segment.range.min);\n",
       "                            return mix(segment.domain.min, segment.domain.max, amount)\n",
       "                        }\n",
       "                        else if(segment.scale[0] == \"log\")\n",
       "                        {\n",
       "                            var amount = (range - segment.range.min) / (segment.range.max - segment.range.min);\n",
       "                            var base = segment.scale[1];\n",
       "                            return sign(segment.domain.min) * Math.pow(base, mix(log(segment.domain.min, base), log(segment.domain.max, base), amount));\n",
       "                        }\n",
       "                    }\n",
       "                }\n",
       "            }\n",
       "\n",
       "            var axes = {};\n",
       "\n",
       "            function display_coordinates(e)\n",
       "            {\n",
       "                var current = canvas.createSVGPoint();\n",
       "                current.x = e.clientX;\n",
       "                current.y = e.clientY;\n",
       "\n",
       "                for(var axis_id in axes)\n",
       "                {\n",
       "                    var axis = document.querySelector(\"#\" + axis_id);\n",
       "                    var coordinates = axis.querySelector(\".toyplot-coordinates-Axis-coordinates\");\n",
       "                    if(coordinates)\n",
       "                    {\n",
       "                        var projection = axes[axis_id];\n",
       "                        var local = current.matrixTransform(axis.getScreenCTM().inverse());\n",
       "                        if(inside(local.x, projection))\n",
       "                        {\n",
       "                            var domain = to_domain(local.x, projection);\n",
       "                            coordinates.style.visibility = \"visible\";\n",
       "                            coordinates.setAttribute(\"transform\", \"translate(\" + local.x + \")\");\n",
       "                            var text = coordinates.querySelector(\"text\");\n",
       "                            text.textContent = domain.toFixed(2);\n",
       "                        }\n",
       "                        else\n",
       "                        {\n",
       "                            coordinates.style.visibility= \"hidden\";\n",
       "                        }\n",
       "                    }\n",
       "                }\n",
       "            }\n",
       "\n",
       "            canvas.addEventListener(\"click\", display_coordinates);\n",
       "\n",
       "            var module = {};\n",
       "            module.show_coordinates = function(axis_id, projection)\n",
       "            {\n",
       "                axes[axis_id] = projection;\n",
       "            }\n",
       "\n",
       "            return module;\n",
       "        })(modules[\"toyplot/canvas\"]);\n",
       "(function(axis, axis_id, projection)\n",
       "        {\n",
       "            axis.show_coordinates(axis_id, projection);\n",
       "        })(modules[\"toyplot.coordinates.Axis\"],\"t826d511868744e97aa7792dd3faee2a3\",[{\"domain\": {\"bounds\": {\"max\": Infinity, \"min\": -Infinity}, \"max\": 0.33643243243243237, \"min\": -2.1027027027027025}, \"range\": {\"bounds\": {\"max\": Infinity, \"min\": -Infinity}, \"max\": 185.0, \"min\": 0.0}, \"scale\": \"linear\"}]);\n",
       "(function(axis, axis_id, projection)\n",
       "        {\n",
       "            axis.show_coordinates(axis_id, projection);\n",
       "        })(modules[\"toyplot.coordinates.Axis\"],\"t0227f6826ab0479fab78db55f1d9a094\",[{\"domain\": {\"bounds\": {\"max\": Infinity, \"min\": -Infinity}, \"max\": 0.16821621621621619, \"min\": -1.0513513513513513}, \"range\": {\"bounds\": {\"max\": Infinity, \"min\": -Infinity}, \"max\": 185.0, \"min\": 0.0}, \"scale\": \"linear\"}]);\n",
       "})();</script></div></div>"
      ]
     },
     "metadata": {},
     "output_type": "display_data"
    }
   ],
   "source": [
    "# rooted tree with 3 tips, all dists =1 except 'c' dist =2\n",
    "tree = toytree.tree(\"((a,b)d,c:2)e;\")\n",
    "\n",
    "# modify original tree to only keep nodes 'a' , 'b' ,  and MRCA\n",
    "pruned = tree.mod.prune('a','b')\n",
    "\n",
    "# draw both trees\n",
    "toytree.mtree([tree, pruned]).draw(ts='s', scale_bar=True);"
   ]
  },
  {
   "cell_type": "markdown",
   "metadata": {},
   "source": [
    "Retaining original root:"
   ]
  },
  {
   "cell_type": "code",
   "execution_count": 107,
   "metadata": {},
   "outputs": [
    {
     "data": {
      "text/html": [
       "<div class=\"toyplot\" id=\"t43be50ba2c4f4a5197752c4b6ec4416b\" style=\"text-align:center\"><svg class=\"toyplot-canvas-Canvas\" xmlns:toyplot=\"http://www.sandia.gov/toyplot\" xmlns:xlink=\"http://www.w3.org/1999/xlink\" xmlns=\"http://www.w3.org/2000/svg\" width=\"300.0px\" height=\"275.0px\" viewBox=\"0 0 300.0 275.0\" preserveAspectRatio=\"xMidYMid meet\" style=\"background-color:transparent;border-color:#292724;border-style:none;border-width:1.0;fill:rgb(16.1%,15.3%,14.1%);fill-opacity:1.0;font-family:Helvetica;font-size:12px;opacity:1.0;stroke:rgb(16.1%,15.3%,14.1%);stroke-opacity:1.0;stroke-width:1.0\" id=\"ta453ba5363634a91809089b9df375bef\"><g class=\"toyplot-coordinates-Cartesian\" id=\"t504d93b3a8a747788e67e36ea2dcb4c0\"><clipPath id=\"t95bb9c8de7d44fba990c6e6ce1840704\"><rect x=\"35.0\" y=\"35.0\" width=\"230.0\" height=\"205.0\"></rect></clipPath><g clip-path=\"url(#t95bb9c8de7d44fba990c6e6ce1840704)\"><g class=\"toytree-mark-Toytree\" id=\"t5940ae7976b44786ab3dfe4a0060ecdf\"><g class=\"toytree-Edges\" style=\"stroke:rgb(14.5%,14.5%,14.5%);stroke-opacity:1.0;stroke-linecap:round;stroke-width:2.0;fill:none\"><path d=\"M 136.6 137.5 L 136.6 216.4 L 215.7 216.4\" id=\"2,0\" style=\"\"></path><path d=\"M 136.6 137.5 L 136.6 58.6 L 215.7 58.6\" id=\"2,1\" style=\"\"></path><path d=\"M 57.5 137.5 L 57.5 137.5 L 136.6 137.5\" id=\"3,2\" style=\"\"></path></g><g class=\"toytree-AdmixEdges\" style=\"fill:rgb(0.0%,0.0%,0.0%);fill-opacity:0.0;stroke:rgb(90.6%,54.1%,76.5%);stroke-opacity:0.6;font-size:14px;stroke-linecap:round;stroke-width:5\"></g><g class=\"toytree-Nodes\" style=\"fill:rgb(82.7%,82.7%,82.7%);fill-opacity:1.0;stroke:rgb(14.5%,14.5%,14.5%);stroke-opacity:1.0;stroke-width:1.5\"><g id=\"Node-0\" transform=\"translate(215.715,216.43)\"><circle r=\"8.0\"></circle></g><g id=\"Node-1\" transform=\"translate(215.715,58.5696)\"><circle r=\"8.0\"></circle></g><g id=\"Node-2\" transform=\"translate(136.615,137.5)\"><circle r=\"8.0\"></circle></g><g id=\"Node-3\" transform=\"translate(57.5145,137.5)\"><circle r=\"8.0\"></circle></g></g><g class=\"toytree-NodeLabels\" style=\"font-family:Helvetica;font-size:9px;font-weight:300;vertical-align:baseline;white-space:pre;stroke:none\"><g class=\"toytree-NodeLabel\" transform=\"translate(215.715,216.43)\"><text x=\"-2.5020000000000002\" y=\"2.2995\" style=\"fill:rgb(14.5%,14.5%,14.5%);fill-opacity:1.0\">0</text></g><g class=\"toytree-NodeLabel\" transform=\"translate(215.715,58.5696)\"><text x=\"-2.5020000000000002\" y=\"2.2995\" style=\"fill:rgb(14.5%,14.5%,14.5%);fill-opacity:1.0\">1</text></g><g class=\"toytree-NodeLabel\" transform=\"translate(136.615,137.5)\"><text x=\"-2.5020000000000002\" y=\"2.2995\" style=\"fill:rgb(14.5%,14.5%,14.5%);fill-opacity:1.0\">2</text></g><g class=\"toytree-NodeLabel\" transform=\"translate(57.5145,137.5)\"><text x=\"-2.5020000000000002\" y=\"2.2995\" style=\"fill:rgb(14.5%,14.5%,14.5%);fill-opacity:1.0\">3</text></g></g><g class=\"toytree-TipLabels\" style=\"fill:rgb(14.5%,14.5%,14.5%);fill-opacity:1.0;font-family:Helvetica;font-size:12px;font-weight:300;vertical-align:baseline;white-space:pre;stroke:none\"><g class=\"toytree-TipLabel\" transform=\"translate(215.715,216.43)\"><text x=\"15.0\" y=\"3.066\" style=\"fill:rgb(14.5%,14.5%,14.5%);fill-opacity:1.0\">a</text></g><g class=\"toytree-TipLabel\" transform=\"translate(215.715,58.5696)\"><text x=\"15.0\" y=\"3.066\" style=\"fill:rgb(14.5%,14.5%,14.5%);fill-opacity:1.0\">b</text></g></g></g></g><g class=\"toyplot-coordinates-Axis\" id=\"t5a112563b7a44f538bcbefd210ce3341\" transform=\"translate(50.0,225.0)translate(0,15.0)\"><line x1=\"7.514514878739474\" y1=\"0\" x2=\"165.71482811535967\" y2=\"0\" style=\"\"></line><g><line x1=\"7.514514878739474\" y1=\"0\" x2=\"7.514514878739474\" y2=\"-5\" style=\"\"></line><line x1=\"47.06459318789452\" y1=\"0\" x2=\"47.06459318789452\" y2=\"-5\" style=\"\"></line><line x1=\"86.61467149704957\" y1=\"0\" x2=\"86.61467149704957\" y2=\"-5\" style=\"\"></line><line x1=\"126.16474980620463\" y1=\"0\" x2=\"126.16474980620463\" y2=\"-5\" style=\"\"></line><line x1=\"165.71482811535967\" y1=\"0\" x2=\"165.71482811535967\" y2=\"-5\" style=\"\"></line></g><g><g transform=\"translate(7.514514878739474,6)\"><text x=\"-2.78\" y=\"8.555\" style=\"fill:rgb(16.1%,15.3%,14.1%);fill-opacity:1.0;font-family:helvetica;font-size:10.0px;font-weight:normal;stroke:none;vertical-align:baseline;white-space:pre\">2</text></g><g transform=\"translate(47.06459318789452,6)\"><text x=\"-6.95\" y=\"8.555\" style=\"fill:rgb(16.1%,15.3%,14.1%);fill-opacity:1.0;font-family:helvetica;font-size:10.0px;font-weight:normal;stroke:none;vertical-align:baseline;white-space:pre\">1.5</text></g><g transform=\"translate(86.61467149704957,6)\"><text x=\"-2.78\" y=\"8.555\" style=\"fill:rgb(16.1%,15.3%,14.1%);fill-opacity:1.0;font-family:helvetica;font-size:10.0px;font-weight:normal;stroke:none;vertical-align:baseline;white-space:pre\">1</text></g><g transform=\"translate(126.16474980620463,6)\"><text x=\"-6.95\" y=\"8.555\" style=\"fill:rgb(16.1%,15.3%,14.1%);fill-opacity:1.0;font-family:helvetica;font-size:10.0px;font-weight:normal;stroke:none;vertical-align:baseline;white-space:pre\">0.5</text></g><g transform=\"translate(165.71482811535967,6)\"><text x=\"-2.78\" y=\"8.555\" style=\"fill:rgb(16.1%,15.3%,14.1%);fill-opacity:1.0;font-family:helvetica;font-size:10.0px;font-weight:normal;stroke:none;vertical-align:baseline;white-space:pre\">0</text></g></g><g class=\"toyplot-coordinates-Axis-coordinates\" style=\"visibility:hidden\" transform=\"\"><line x1=\"0\" x2=\"0\" y1=\"-3.0\" y2=\"4.5\" style=\"stroke:rgb(43.9%,50.2%,56.5%);stroke-opacity:1.0;stroke-width:1.0\"></line><text x=\"0\" y=\"-6\" style=\"alignment-baseline:alphabetic;fill:rgb(43.9%,50.2%,56.5%);fill-opacity:1.0;font-size:10px;font-weight:normal;stroke:none;text-anchor:middle\"></text></g></g></g></svg><div class=\"toyplot-behavior\"><script>(function()\n",
       "{\n",
       "var modules={};\n",
       "modules[\"toyplot/canvas/id\"] = \"ta453ba5363634a91809089b9df375bef\";\n",
       "modules[\"toyplot/canvas\"] = (function(canvas_id)\n",
       "    {\n",
       "        return document.querySelector(\"#\" + canvas_id);\n",
       "    })(modules[\"toyplot/canvas/id\"]);\n",
       "modules[\"toyplot.coordinates.Axis\"] = (\n",
       "        function(canvas)\n",
       "        {\n",
       "            function sign(x)\n",
       "            {\n",
       "                return x < 0 ? -1 : x > 0 ? 1 : 0;\n",
       "            }\n",
       "\n",
       "            function mix(a, b, amount)\n",
       "            {\n",
       "                return ((1.0 - amount) * a) + (amount * b);\n",
       "            }\n",
       "\n",
       "            function log(x, base)\n",
       "            {\n",
       "                return Math.log(Math.abs(x)) / Math.log(base);\n",
       "            }\n",
       "\n",
       "            function in_range(a, x, b)\n",
       "            {\n",
       "                var left = Math.min(a, b);\n",
       "                var right = Math.max(a, b);\n",
       "                return left <= x && x <= right;\n",
       "            }\n",
       "\n",
       "            function inside(range, projection)\n",
       "            {\n",
       "                for(var i = 0; i != projection.length; ++i)\n",
       "                {\n",
       "                    var segment = projection[i];\n",
       "                    if(in_range(segment.range.min, range, segment.range.max))\n",
       "                        return true;\n",
       "                }\n",
       "                return false;\n",
       "            }\n",
       "\n",
       "            function to_domain(range, projection)\n",
       "            {\n",
       "                for(var i = 0; i != projection.length; ++i)\n",
       "                {\n",
       "                    var segment = projection[i];\n",
       "                    if(in_range(segment.range.bounds.min, range, segment.range.bounds.max))\n",
       "                    {\n",
       "                        if(segment.scale == \"linear\")\n",
       "                        {\n",
       "                            var amount = (range - segment.range.min) / (segment.range.max - segment.range.min);\n",
       "                            return mix(segment.domain.min, segment.domain.max, amount)\n",
       "                        }\n",
       "                        else if(segment.scale[0] == \"log\")\n",
       "                        {\n",
       "                            var amount = (range - segment.range.min) / (segment.range.max - segment.range.min);\n",
       "                            var base = segment.scale[1];\n",
       "                            return sign(segment.domain.min) * Math.pow(base, mix(log(segment.domain.min, base), log(segment.domain.max, base), amount));\n",
       "                        }\n",
       "                    }\n",
       "                }\n",
       "            }\n",
       "\n",
       "            var axes = {};\n",
       "\n",
       "            function display_coordinates(e)\n",
       "            {\n",
       "                var current = canvas.createSVGPoint();\n",
       "                current.x = e.clientX;\n",
       "                current.y = e.clientY;\n",
       "\n",
       "                for(var axis_id in axes)\n",
       "                {\n",
       "                    var axis = document.querySelector(\"#\" + axis_id);\n",
       "                    var coordinates = axis.querySelector(\".toyplot-coordinates-Axis-coordinates\");\n",
       "                    if(coordinates)\n",
       "                    {\n",
       "                        var projection = axes[axis_id];\n",
       "                        var local = current.matrixTransform(axis.getScreenCTM().inverse());\n",
       "                        if(inside(local.x, projection))\n",
       "                        {\n",
       "                            var domain = to_domain(local.x, projection);\n",
       "                            coordinates.style.visibility = \"visible\";\n",
       "                            coordinates.setAttribute(\"transform\", \"translate(\" + local.x + \")\");\n",
       "                            var text = coordinates.querySelector(\"text\");\n",
       "                            text.textContent = domain.toFixed(2);\n",
       "                        }\n",
       "                        else\n",
       "                        {\n",
       "                            coordinates.style.visibility= \"hidden\";\n",
       "                        }\n",
       "                    }\n",
       "                }\n",
       "            }\n",
       "\n",
       "            canvas.addEventListener(\"click\", display_coordinates);\n",
       "\n",
       "            var module = {};\n",
       "            module.show_coordinates = function(axis_id, projection)\n",
       "            {\n",
       "                axes[axis_id] = projection;\n",
       "            }\n",
       "\n",
       "            return module;\n",
       "        })(modules[\"toyplot/canvas\"]);\n",
       "(function(axis, axis_id, projection)\n",
       "        {\n",
       "            axis.show_coordinates(axis_id, projection);\n",
       "        })(modules[\"toyplot.coordinates.Axis\"],\"t5a112563b7a44f538bcbefd210ce3341\",[{\"domain\": {\"bounds\": {\"max\": Infinity, \"min\": -Infinity}, \"max\": 0.43344000000000005, \"min\": -2.095}, \"range\": {\"bounds\": {\"max\": Infinity, \"min\": -Infinity}, \"max\": 200.0, \"min\": 0.0}, \"scale\": \"linear\"}]);\n",
       "})();</script></div></div>"
      ]
     },
     "metadata": {},
     "output_type": "display_data"
    }
   ],
   "source": [
    "# include original tree's root 'e'\n",
    "pruned = tree.mod.prune('a','b', require_root=True)\n",
    "pruned.draw(ts='s', scale_bar=True);"
   ]
  },
  {
   "cell_type": "markdown",
   "metadata": {},
   "source": [
    "Using the same example tree, these next two figures will show the difference in preserving _all_ distance values (`preserve_dists=True`) or only those which belong to the queried Nodes themselves (`preserve_dists=False`). By default, when 'a' is queried for pruning, it will inheret the dist of both itself (+1) _and_ that of the intermediate Node 'd' (+1)required to traverse to its MRCA with the other queried Node 'c'. However in when `preserve_dists=False`, it only retains its original dist of 1."
   ]
  },
  {
   "cell_type": "code",
   "execution_count": 121,
   "metadata": {},
   "outputs": [
    {
     "data": {
      "text/html": [
       "<div class=\"toyplot\" id=\"tbb7604069dc44294b574496ff2b70c15\" style=\"text-align:center\"><svg class=\"toyplot-canvas-Canvas\" xmlns:toyplot=\"http://www.sandia.gov/toyplot\" xmlns:xlink=\"http://www.w3.org/1999/xlink\" xmlns=\"http://www.w3.org/2000/svg\" width=\"675.0px\" height=\"250.0px\" viewBox=\"0 0 675.0 250.0\" preserveAspectRatio=\"xMidYMid meet\" style=\"background-color:transparent;border-color:#292724;border-style:none;border-width:1.0;fill:rgb(16.1%,15.3%,14.1%);fill-opacity:1.0;font-family:Helvetica;font-size:12px;opacity:1.0;stroke:rgb(16.1%,15.3%,14.1%);stroke-opacity:1.0;stroke-width:1.0\" id=\"t0175169955174e1897e6107df8a44da3\"><g class=\"toyplot-coordinates-Cartesian\" id=\"t7f6254263a804964b996c921ca5c6c8d\"><clipPath id=\"te275cfdd4d534633be30fa3af8e25bee\"><rect x=\"40.0\" y=\"40.0\" width=\"185.0\" height=\"170.0\"></rect></clipPath><g clip-path=\"url(#te275cfdd4d534633be30fa3af8e25bee)\"><g class=\"toytree-mark-Toytree\" id=\"t66a0d02f87164fc9ab2804fc2ef3ec53\"><g class=\"toytree-Edges\" style=\"stroke:rgb(14.5%,14.5%,14.5%);stroke-opacity:1.0;stroke-linecap:round;stroke-width:2;fill:none\"><path d=\"M 94.0 114.5 L 55.6 174.9\" id=\"3,0\" style=\"\"></path><path d=\"M 94.0 114.5 L 132.5 174.9\" id=\"3,1\" style=\"\"></path><path d=\"M 151.7 54.0 L 209.4 174.9\" id=\"4,2\" style=\"\"></path><path d=\"M 151.7 54.0 L 94.0 114.5\" id=\"4,3\" style=\"\"></path></g><g class=\"toytree-AdmixEdges\" style=\"fill:rgb(0.0%,0.0%,0.0%);fill-opacity:0.0;stroke:rgb(90.6%,54.1%,76.5%);stroke-opacity:0.6;font-size:14px;stroke-linecap:round;stroke-width:5\"></g><g class=\"toytree-Nodes\" style=\"fill:rgb(40.0%,76.1%,64.7%);fill-opacity:1.0;stroke:rgb(14.5%,14.5%,14.5%);stroke-opacity:1.0;stroke-width:1.5\"><g id=\"Node-0\" transform=\"translate(55.5932,174.919)\"><circle r=\"3.5\"></circle></g><g id=\"Node-1\" transform=\"translate(132.5,174.919)\"><circle r=\"3.5\"></circle></g><g id=\"Node-2\" transform=\"translate(209.407,174.919)\"><circle r=\"3.5\"></circle></g><g id=\"Node-3\" transform=\"translate(94.0466,114.475)\"><circle r=\"3.5\"></circle></g><g id=\"Node-4\" transform=\"translate(151.727,54.0297)\"><circle r=\"3.5\"></circle></g></g><g class=\"toytree-TipLabels\" style=\"fill:rgb(14.5%,14.5%,14.5%);fill-opacity:1.0;font-family:Helvetica;font-size:10px;font-weight:300;vertical-align:baseline;white-space:pre;stroke:none\"><g class=\"toytree-TipLabel\" transform=\"translate(55.5932,174.919)rotate(90)\"><text x=\"10.0\" y=\"2.5549999999999997\" style=\"fill:rgb(14.5%,14.5%,14.5%);fill-opacity:1.0\">a</text></g><g class=\"toytree-TipLabel\" transform=\"translate(132.5,174.919)rotate(90)\"><text x=\"10.0\" y=\"2.5549999999999997\" style=\"fill:rgb(14.5%,14.5%,14.5%);fill-opacity:1.0\">b</text></g><g class=\"toytree-TipLabel\" transform=\"translate(209.407,174.919)rotate(90)\"><text x=\"10.0\" y=\"2.5549999999999997\" style=\"fill:rgb(14.5%,14.5%,14.5%);fill-opacity:1.0\">c</text></g></g></g></g><g class=\"toyplot-coordinates-Axis\" id=\"t8db99e6df6bd45b4a03cc889c81b505a\" transform=\"translate(50.0,200.0)rotate(-90.0)translate(0,-10.0)\"><line x1=\"25.080593165699547\" y1=\"0\" x2=\"145.97034171502256\" y2=\"0\" style=\"\"></line><g><line x1=\"25.080593165699547\" y1=\"0\" x2=\"25.080593165699547\" y2=\"5\" style=\"\"></line><line x1=\"55.303030303030305\" y1=\"0\" x2=\"55.303030303030305\" y2=\"5\" style=\"\"></line><line x1=\"85.52546744036106\" y1=\"0\" x2=\"85.52546744036106\" y2=\"5\" style=\"\"></line><line x1=\"115.74790457769181\" y1=\"0\" x2=\"115.74790457769181\" y2=\"5\" style=\"\"></line><line x1=\"145.97034171502256\" y1=\"0\" x2=\"145.97034171502256\" y2=\"5\" style=\"\"></line></g><g><g transform=\"translate(25.080593165699547,-6)\"><text x=\"-2.78\" y=\"-4.440892098500626e-16\" style=\"fill:rgb(16.1%,15.3%,14.1%);fill-opacity:1.0;font-family:helvetica;font-size:10.0px;font-weight:normal;stroke:none;vertical-align:baseline;white-space:pre\">0</text></g><g transform=\"translate(55.303030303030305,-6)\"><text x=\"-6.95\" y=\"-4.440892098500626e-16\" style=\"fill:rgb(16.1%,15.3%,14.1%);fill-opacity:1.0;font-family:helvetica;font-size:10.0px;font-weight:normal;stroke:none;vertical-align:baseline;white-space:pre\">0.5</text></g><g transform=\"translate(85.52546744036106,-6)\"><text x=\"-2.78\" y=\"-4.440892098500626e-16\" style=\"fill:rgb(16.1%,15.3%,14.1%);fill-opacity:1.0;font-family:helvetica;font-size:10.0px;font-weight:normal;stroke:none;vertical-align:baseline;white-space:pre\">1</text></g><g transform=\"translate(115.74790457769181,-6)\"><text x=\"-6.95\" y=\"-4.440892098500626e-16\" style=\"fill:rgb(16.1%,15.3%,14.1%);fill-opacity:1.0;font-family:helvetica;font-size:10.0px;font-weight:normal;stroke:none;vertical-align:baseline;white-space:pre\">1.5</text></g><g transform=\"translate(145.97034171502256,-6)\"><text x=\"-2.78\" y=\"-4.440892098500626e-16\" style=\"fill:rgb(16.1%,15.3%,14.1%);fill-opacity:1.0;font-family:helvetica;font-size:10.0px;font-weight:normal;stroke:none;vertical-align:baseline;white-space:pre\">2</text></g></g><g class=\"toyplot-coordinates-Axis-coordinates\" style=\"visibility:hidden\" transform=\"\"><line x1=\"0\" x2=\"0\" y1=\"3.0\" y2=\"-4.5\" style=\"stroke:rgb(43.9%,50.2%,56.5%);stroke-opacity:1.0;stroke-width:1.0\"></line><text x=\"0\" y=\"6\" style=\"alignment-baseline:hanging;fill:rgb(43.9%,50.2%,56.5%);fill-opacity:1.0;font-size:10px;font-weight:normal;stroke:none;text-anchor:middle\"></text></g></g><g transform=\"translate(132.5,42.0)\"><text x=\"-40.068000000000005\" y=\"-4.823\" style=\"fill:rgb(16.1%,15.3%,14.1%);fill-opacity:1.0;font-family:helvetica;font-size:14.0px;font-weight:bold;stroke:none;vertical-align:baseline;white-space:pre\">original tree</text></g></g><g class=\"toyplot-coordinates-Cartesian\" id=\"tf5a68d138306472688a45be7b7cf985f\"><clipPath id=\"t03ee2a67438c420ab98d39d74fa99e1a\"><rect x=\"265.0\" y=\"40.0\" width=\"185.0\" height=\"170.0\"></rect></clipPath><g clip-path=\"url(#t03ee2a67438c420ab98d39d74fa99e1a)\"><g class=\"toytree-mark-Toytree\" id=\"tf17e66659c9e4c6ca81e80c8ca68d3d5\"><g class=\"toytree-Edges\" style=\"stroke:rgb(14.5%,14.5%,14.5%);stroke-opacity:1.0;stroke-linecap:round;stroke-width:2;fill:none\"><path d=\"M 357.5 54.0 L 280.6 174.9\" id=\"2,0\" style=\"\"></path><path d=\"M 357.5 54.0 L 434.4 174.9\" id=\"2,1\" style=\"\"></path></g><g class=\"toytree-AdmixEdges\" style=\"fill:rgb(0.0%,0.0%,0.0%);fill-opacity:0.0;stroke:rgb(90.6%,54.1%,76.5%);stroke-opacity:0.6;font-size:14px;stroke-linecap:round;stroke-width:5\"></g><g class=\"toytree-Nodes\" style=\"fill:rgb(40.0%,76.1%,64.7%);fill-opacity:1.0;stroke:rgb(14.5%,14.5%,14.5%);stroke-opacity:1.0;stroke-width:1.5\"><g id=\"Node-0\" transform=\"translate(280.593,174.919)\"><circle r=\"3.5\"></circle></g><g id=\"Node-1\" transform=\"translate(434.407,174.919)\"><circle r=\"3.5\"></circle></g><g id=\"Node-2\" transform=\"translate(357.5,54.0297)\"><circle r=\"3.5\"></circle></g></g><g class=\"toytree-TipLabels\" style=\"fill:rgb(14.5%,14.5%,14.5%);fill-opacity:1.0;font-family:Helvetica;font-size:10px;font-weight:300;vertical-align:baseline;white-space:pre;stroke:none\"><g class=\"toytree-TipLabel\" transform=\"translate(280.593,174.919)rotate(90)\"><text x=\"10.0\" y=\"2.5549999999999997\" style=\"fill:rgb(14.5%,14.5%,14.5%);fill-opacity:1.0\">a</text></g><g class=\"toytree-TipLabel\" transform=\"translate(434.407,174.919)rotate(90)\"><text x=\"10.0\" y=\"2.5549999999999997\" style=\"fill:rgb(14.5%,14.5%,14.5%);fill-opacity:1.0\">c</text></g></g></g></g><g class=\"toyplot-coordinates-Axis\" id=\"t7126591bbf17453ab7c917fd01742ba0\" transform=\"translate(275.0,200.0)rotate(-90.0)translate(0,-10.0)\"><line x1=\"25.080593165699547\" y1=\"0\" x2=\"145.97034171502256\" y2=\"0\" style=\"\"></line><g><line x1=\"25.080593165699547\" y1=\"0\" x2=\"25.080593165699547\" y2=\"5\" style=\"\"></line><line x1=\"55.303030303030305\" y1=\"0\" x2=\"55.303030303030305\" y2=\"5\" style=\"\"></line><line x1=\"85.52546744036106\" y1=\"0\" x2=\"85.52546744036106\" y2=\"5\" style=\"\"></line><line x1=\"115.74790457769181\" y1=\"0\" x2=\"115.74790457769181\" y2=\"5\" style=\"\"></line><line x1=\"145.97034171502256\" y1=\"0\" x2=\"145.97034171502256\" y2=\"5\" style=\"\"></line></g><g><g transform=\"translate(25.080593165699547,-6)\"><text x=\"-2.78\" y=\"-4.440892098500626e-16\" style=\"fill:rgb(16.1%,15.3%,14.1%);fill-opacity:1.0;font-family:helvetica;font-size:10.0px;font-weight:normal;stroke:none;vertical-align:baseline;white-space:pre\">0</text></g><g transform=\"translate(55.303030303030305,-6)\"><text x=\"-6.95\" y=\"-4.440892098500626e-16\" style=\"fill:rgb(16.1%,15.3%,14.1%);fill-opacity:1.0;font-family:helvetica;font-size:10.0px;font-weight:normal;stroke:none;vertical-align:baseline;white-space:pre\">0.5</text></g><g transform=\"translate(85.52546744036106,-6)\"><text x=\"-2.78\" y=\"-4.440892098500626e-16\" style=\"fill:rgb(16.1%,15.3%,14.1%);fill-opacity:1.0;font-family:helvetica;font-size:10.0px;font-weight:normal;stroke:none;vertical-align:baseline;white-space:pre\">1</text></g><g transform=\"translate(115.74790457769181,-6)\"><text x=\"-6.95\" y=\"-4.440892098500626e-16\" style=\"fill:rgb(16.1%,15.3%,14.1%);fill-opacity:1.0;font-family:helvetica;font-size:10.0px;font-weight:normal;stroke:none;vertical-align:baseline;white-space:pre\">1.5</text></g><g transform=\"translate(145.97034171502256,-6)\"><text x=\"-2.78\" y=\"-4.440892098500626e-16\" style=\"fill:rgb(16.1%,15.3%,14.1%);fill-opacity:1.0;font-family:helvetica;font-size:10.0px;font-weight:normal;stroke:none;vertical-align:baseline;white-space:pre\">2</text></g></g><g class=\"toyplot-coordinates-Axis-coordinates\" style=\"visibility:hidden\" transform=\"\"><line x1=\"0\" x2=\"0\" y1=\"3.0\" y2=\"-4.5\" style=\"stroke:rgb(43.9%,50.2%,56.5%);stroke-opacity:1.0;stroke-width:1.0\"></line><text x=\"0\" y=\"6\" style=\"alignment-baseline:hanging;fill:rgb(43.9%,50.2%,56.5%);fill-opacity:1.0;font-size:10px;font-weight:normal;stroke:none;text-anchor:middle\"></text></g></g><g transform=\"translate(357.5,42.0)\"><text x=\"-47.852000000000004\" y=\"-4.823\" style=\"fill:rgb(16.1%,15.3%,14.1%);fill-opacity:1.0;font-family:helvetica;font-size:14.0px;font-weight:bold;stroke:none;vertical-align:baseline;white-space:pre\">preserved dist</text></g></g><g class=\"toyplot-coordinates-Cartesian\" id=\"t627a49c1f8a44e91998b6187c78ff3ba\"><clipPath id=\"tcce348f29d594797bb6182765029cdcc\"><rect x=\"490.0\" y=\"40.0\" width=\"185.0\" height=\"170.0\"></rect></clipPath><g clip-path=\"url(#tcce348f29d594797bb6182765029cdcc)\"><g class=\"toytree-mark-Toytree\" id=\"t6c352cbfc361452084a7658557054562\"><g class=\"toytree-Edges\" style=\"stroke:rgb(14.5%,14.5%,14.5%);stroke-opacity:1.0;stroke-linecap:round;stroke-width:2;fill:none\"><path d=\"M 582.5 54.1 L 505.6 114.9\" id=\"2,0\" style=\"\"></path><path d=\"M 582.5 54.1 L 659.4 175.7\" id=\"2,1\" style=\"\"></path></g><g class=\"toytree-AdmixEdges\" style=\"fill:rgb(0.0%,0.0%,0.0%);fill-opacity:0.0;stroke:rgb(90.6%,54.1%,76.5%);stroke-opacity:0.6;font-size:14px;stroke-linecap:round;stroke-width:5\"></g><g class=\"toytree-Nodes\" style=\"fill:rgb(40.0%,76.1%,64.7%);fill-opacity:1.0;stroke:rgb(14.5%,14.5%,14.5%);stroke-opacity:1.0;stroke-width:1.5\"><g id=\"Node-0\" transform=\"translate(505.593,114.865)\"><circle r=\"3.5\"></circle></g><g id=\"Node-1\" transform=\"translate(659.407,175.676)\"><circle r=\"3.5\"></circle></g><g id=\"Node-2\" transform=\"translate(582.5,54.0541)\"><circle r=\"3.5\"></circle></g></g><g class=\"toytree-TipLabels\" style=\"fill:rgb(14.5%,14.5%,14.5%);fill-opacity:1.0;font-family:Helvetica;font-size:10px;font-weight:300;vertical-align:baseline;white-space:pre;stroke:none\"><g class=\"toytree-TipLabel\" transform=\"translate(505.593,114.865)rotate(90)\"><text x=\"10.0\" y=\"2.5549999999999997\" style=\"fill:rgb(14.5%,14.5%,14.5%);fill-opacity:1.0\">a</text></g><g class=\"toytree-TipLabel\" transform=\"translate(659.407,175.676)rotate(90)\"><text x=\"10.0\" y=\"2.5549999999999997\" style=\"fill:rgb(14.5%,14.5%,14.5%);fill-opacity:1.0\">c</text></g></g></g></g><g class=\"toyplot-coordinates-Axis\" id=\"t26ed22ec2e874d2fbd5d1a38001b36a3\" transform=\"translate(500.0,200.0)rotate(-90.0)translate(0,-10.0)\"><line x1=\"24.324324324324326\" y1=\"0\" x2=\"145.94594594594594\" y2=\"0\" style=\"\"></line><g><line x1=\"24.324324324324326\" y1=\"0\" x2=\"24.324324324324326\" y2=\"5\" style=\"\"></line><line x1=\"54.729729729729726\" y1=\"0\" x2=\"54.729729729729726\" y2=\"5\" style=\"\"></line><line x1=\"85.13513513513513\" y1=\"0\" x2=\"85.13513513513513\" y2=\"5\" style=\"\"></line><line x1=\"115.54054054054052\" y1=\"0\" x2=\"115.54054054054052\" y2=\"5\" style=\"\"></line><line x1=\"145.94594594594594\" y1=\"0\" x2=\"145.94594594594594\" y2=\"5\" style=\"\"></line></g><g><g transform=\"translate(24.324324324324326,-6)\"><text x=\"-2.78\" y=\"-4.440892098500626e-16\" style=\"fill:rgb(16.1%,15.3%,14.1%);fill-opacity:1.0;font-family:helvetica;font-size:10.0px;font-weight:normal;stroke:none;vertical-align:baseline;white-space:pre\">0</text></g><g transform=\"translate(54.729729729729726,-6)\"><text x=\"-6.95\" y=\"-4.440892098500626e-16\" style=\"fill:rgb(16.1%,15.3%,14.1%);fill-opacity:1.0;font-family:helvetica;font-size:10.0px;font-weight:normal;stroke:none;vertical-align:baseline;white-space:pre\">0.5</text></g><g transform=\"translate(85.13513513513513,-6)\"><text x=\"-2.78\" y=\"-4.440892098500626e-16\" style=\"fill:rgb(16.1%,15.3%,14.1%);fill-opacity:1.0;font-family:helvetica;font-size:10.0px;font-weight:normal;stroke:none;vertical-align:baseline;white-space:pre\">1</text></g><g transform=\"translate(115.54054054054052,-6)\"><text x=\"-6.95\" y=\"-4.440892098500626e-16\" style=\"fill:rgb(16.1%,15.3%,14.1%);fill-opacity:1.0;font-family:helvetica;font-size:10.0px;font-weight:normal;stroke:none;vertical-align:baseline;white-space:pre\">1.5</text></g><g transform=\"translate(145.94594594594594,-6)\"><text x=\"-2.78\" y=\"-4.440892098500626e-16\" style=\"fill:rgb(16.1%,15.3%,14.1%);fill-opacity:1.0;font-family:helvetica;font-size:10.0px;font-weight:normal;stroke:none;vertical-align:baseline;white-space:pre\">2</text></g></g><g class=\"toyplot-coordinates-Axis-coordinates\" style=\"visibility:hidden\" transform=\"\"><line x1=\"0\" x2=\"0\" y1=\"3.0\" y2=\"-4.5\" style=\"stroke:rgb(43.9%,50.2%,56.5%);stroke-opacity:1.0;stroke-width:1.0\"></line><text x=\"0\" y=\"6\" style=\"alignment-baseline:hanging;fill:rgb(43.9%,50.2%,56.5%);fill-opacity:1.0;font-size:10px;font-weight:normal;stroke:none;text-anchor:middle\"></text></g></g><g transform=\"translate(582.5,42.0)\"><text x=\"-60.683\" y=\"-4.823\" style=\"fill:rgb(16.1%,15.3%,14.1%);fill-opacity:1.0;font-family:helvetica;font-size:14.0px;font-weight:bold;stroke:none;vertical-align:baseline;white-space:pre\">not preserved dist</text></g></g></svg><div class=\"toyplot-behavior\"><script>(function()\n",
       "{\n",
       "var modules={};\n",
       "modules[\"toyplot/canvas/id\"] = \"t0175169955174e1897e6107df8a44da3\";\n",
       "modules[\"toyplot/canvas\"] = (function(canvas_id)\n",
       "    {\n",
       "        return document.querySelector(\"#\" + canvas_id);\n",
       "    })(modules[\"toyplot/canvas/id\"]);\n",
       "modules[\"toyplot.coordinates.Axis\"] = (\n",
       "        function(canvas)\n",
       "        {\n",
       "            function sign(x)\n",
       "            {\n",
       "                return x < 0 ? -1 : x > 0 ? 1 : 0;\n",
       "            }\n",
       "\n",
       "            function mix(a, b, amount)\n",
       "            {\n",
       "                return ((1.0 - amount) * a) + (amount * b);\n",
       "            }\n",
       "\n",
       "            function log(x, base)\n",
       "            {\n",
       "                return Math.log(Math.abs(x)) / Math.log(base);\n",
       "            }\n",
       "\n",
       "            function in_range(a, x, b)\n",
       "            {\n",
       "                var left = Math.min(a, b);\n",
       "                var right = Math.max(a, b);\n",
       "                return left <= x && x <= right;\n",
       "            }\n",
       "\n",
       "            function inside(range, projection)\n",
       "            {\n",
       "                for(var i = 0; i != projection.length; ++i)\n",
       "                {\n",
       "                    var segment = projection[i];\n",
       "                    if(in_range(segment.range.min, range, segment.range.max))\n",
       "                        return true;\n",
       "                }\n",
       "                return false;\n",
       "            }\n",
       "\n",
       "            function to_domain(range, projection)\n",
       "            {\n",
       "                for(var i = 0; i != projection.length; ++i)\n",
       "                {\n",
       "                    var segment = projection[i];\n",
       "                    if(in_range(segment.range.bounds.min, range, segment.range.bounds.max))\n",
       "                    {\n",
       "                        if(segment.scale == \"linear\")\n",
       "                        {\n",
       "                            var amount = (range - segment.range.min) / (segment.range.max - segment.range.min);\n",
       "                            return mix(segment.domain.min, segment.domain.max, amount)\n",
       "                        }\n",
       "                        else if(segment.scale[0] == \"log\")\n",
       "                        {\n",
       "                            var amount = (range - segment.range.min) / (segment.range.max - segment.range.min);\n",
       "                            var base = segment.scale[1];\n",
       "                            return sign(segment.domain.min) * Math.pow(base, mix(log(segment.domain.min, base), log(segment.domain.max, base), amount));\n",
       "                        }\n",
       "                    }\n",
       "                }\n",
       "            }\n",
       "\n",
       "            var axes = {};\n",
       "\n",
       "            function display_coordinates(e)\n",
       "            {\n",
       "                var current = canvas.createSVGPoint();\n",
       "                current.x = e.clientX;\n",
       "                current.y = e.clientY;\n",
       "\n",
       "                for(var axis_id in axes)\n",
       "                {\n",
       "                    var axis = document.querySelector(\"#\" + axis_id);\n",
       "                    var coordinates = axis.querySelector(\".toyplot-coordinates-Axis-coordinates\");\n",
       "                    if(coordinates)\n",
       "                    {\n",
       "                        var projection = axes[axis_id];\n",
       "                        var local = current.matrixTransform(axis.getScreenCTM().inverse());\n",
       "                        if(inside(local.x, projection))\n",
       "                        {\n",
       "                            var domain = to_domain(local.x, projection);\n",
       "                            coordinates.style.visibility = \"visible\";\n",
       "                            coordinates.setAttribute(\"transform\", \"translate(\" + local.x + \")\");\n",
       "                            var text = coordinates.querySelector(\"text\");\n",
       "                            text.textContent = domain.toFixed(2);\n",
       "                        }\n",
       "                        else\n",
       "                        {\n",
       "                            coordinates.style.visibility= \"hidden\";\n",
       "                        }\n",
       "                    }\n",
       "                }\n",
       "            }\n",
       "\n",
       "            canvas.addEventListener(\"click\", display_coordinates);\n",
       "\n",
       "            var module = {};\n",
       "            module.show_coordinates = function(axis_id, projection)\n",
       "            {\n",
       "                axes[axis_id] = projection;\n",
       "            }\n",
       "\n",
       "            return module;\n",
       "        })(modules[\"toyplot/canvas\"]);\n",
       "(function(axis, axis_id, projection)\n",
       "        {\n",
       "            axis.show_coordinates(axis_id, projection);\n",
       "        })(modules[\"toyplot.coordinates.Axis\"],\"t8db99e6df6bd45b4a03cc889c81b505a\",[{\"domain\": {\"bounds\": {\"max\": Infinity, \"min\": -Infinity}, \"max\": 2.066666666666667, \"min\": -0.4149333333333334}, \"range\": {\"bounds\": {\"max\": Infinity, \"min\": -Infinity}, \"max\": 150.0, \"min\": 0.0}, \"scale\": \"linear\"}]);\n",
       "(function(axis, axis_id, projection)\n",
       "        {\n",
       "            axis.show_coordinates(axis_id, projection);\n",
       "        })(modules[\"toyplot.coordinates.Axis\"],\"t7126591bbf17453ab7c917fd01742ba0\",[{\"domain\": {\"bounds\": {\"max\": Infinity, \"min\": -Infinity}, \"max\": 2.066666666666667, \"min\": -0.4149333333333334}, \"range\": {\"bounds\": {\"max\": Infinity, \"min\": -Infinity}, \"max\": 150.0, \"min\": 0.0}, \"scale\": \"linear\"}]);\n",
       "(function(axis, axis_id, projection)\n",
       "        {\n",
       "            axis.show_coordinates(axis_id, projection);\n",
       "        })(modules[\"toyplot.coordinates.Axis\"],\"t26ed22ec2e874d2fbd5d1a38001b36a3\",[{\"domain\": {\"bounds\": {\"max\": Infinity, \"min\": -Infinity}, \"max\": 2.066666666666667, \"min\": -0.4}, \"range\": {\"bounds\": {\"max\": Infinity, \"min\": -Infinity}, \"max\": 150.0, \"min\": 0.0}, \"scale\": \"linear\"}]);\n",
       "})();</script></div></div>"
      ]
     },
     "metadata": {},
     "output_type": "display_data"
    }
   ],
   "source": [
    "# Default behavior\n",
    "pruned_preserved = tree.mod.prune('a', 'c', preserve_dists=True)\n",
    "\n",
    "# NOT retaining distances from all intermediate nodes/edges\n",
    "pruned_not_preserved = tree.mod.prune('a','c', preserve_dists=False)\n",
    "\n",
    "# rotate at 'e' for easier visual comparison to original tree\n",
    "pruned_preserved.mod.rotate_node('e', inplace=True)\n",
    "pruned_not_preserved.mod.rotate_node('e', inplace=True)\n",
    "\n",
    "# draw and label tres\n",
    "mtree = toytree.mtree([tree, pruned_preserved, pruned_not_preserved])\n",
    "c, axes, marks = mtree.draw(ts='c', scale_bar=True);\n",
    "axes[0].label.text = \"original tree\"\n",
    "axes[1].label.text = \"preserved dist\"\n",
    "axes[2].label.text = \"not preserved dist\""
   ]
  },
  {
   "cell_type": "markdown",
   "metadata": {},
   "source": [
    "### Bisecting  \n",
    "\n",
    "The `bisect()` method returns a tree bisected into two subtrees on a selected edge. This edge is given by the edge _above_ a queried Node.  \n",
    "\n",
    "When used on a `rooted tree`, querying the `TreeNode` returns a subtree for each child as its own `TreeNode` with its original distance value. When used on an `unrooted tree`, the `TreeNode` cannot be queried. \n",
    "\n",
    "When any other Node is queried, it will split the edge above it to create two subtrees with the queried Node bing a `TreeNode` of one _new_ subtree. Including the argument `reeroot=True` will cause the Node _above_ the query to become the new TreeNode in its subtree, otherwise the original TreeNode will be retained. \n",
    "\n",
    "The subtree _below_ the query will inherit the entire distance of the split edge, but the `dist_partition=` argument can designate a proportion of the distance $(0.0 \\leq x \\leq 1.0)$ to assign to the _below_ subtree."
   ]
  },
  {
   "cell_type": "code",
   "execution_count": 132,
   "metadata": {},
   "outputs": [
    {
     "data": {
      "text/html": [
       "<div class=\"toyplot\" id=\"tf2beca03a83f4bb29d41a4b84db11cab\" style=\"text-align:center\"><svg class=\"toyplot-canvas-Canvas\" xmlns:toyplot=\"http://www.sandia.gov/toyplot\" xmlns:xlink=\"http://www.w3.org/1999/xlink\" xmlns=\"http://www.w3.org/2000/svg\" width=\"675.0px\" height=\"250.0px\" viewBox=\"0 0 675.0 250.0\" preserveAspectRatio=\"xMidYMid meet\" style=\"background-color:transparent;border-color:#292724;border-style:none;border-width:1.0;fill:rgb(16.1%,15.3%,14.1%);fill-opacity:1.0;font-family:Helvetica;font-size:12px;opacity:1.0;stroke:rgb(16.1%,15.3%,14.1%);stroke-opacity:1.0;stroke-width:1.0\" id=\"tf1d6d49abeb24059983100bed7aa8526\"><g class=\"toyplot-coordinates-Cartesian\" id=\"tb076794be6f34189ad28559ae22c630d\"><clipPath id=\"t756c63b6dec74cb3adf9a3ada734df48\"><rect x=\"40.0\" y=\"40.0\" width=\"185.0\" height=\"170.0\"></rect></clipPath><g clip-path=\"url(#t756c63b6dec74cb3adf9a3ada734df48)\"><g class=\"toytree-mark-Toytree\" id=\"t980396ec93e34653b4c94649f4b4a63d\"><g class=\"toytree-Edges\" style=\"stroke:rgb(14.5%,14.5%,14.5%);stroke-opacity:1.0;stroke-linecap:round;stroke-width:2;fill:none\"><path d=\"M 81.2 113.3 L 55.6 172.7\" id=\"4,0\" style=\"\"></path><path d=\"M 81.2 113.3 L 106.9 172.7\" id=\"4,1\" style=\"\"></path><path d=\"M 183.8 113.3 L 158.1 172.7\" id=\"5,2\" style=\"\"></path><path d=\"M 183.8 113.3 L 209.4 172.7\" id=\"5,3\" style=\"\"></path><path d=\"M 132.5 54.0 L 81.2 113.3\" id=\"6,4\" style=\"\"></path><path d=\"M 132.5 54.0 L 183.8 113.3\" id=\"6,5\" style=\"\"></path></g><g class=\"toytree-AdmixEdges\" style=\"fill:rgb(0.0%,0.0%,0.0%);fill-opacity:0.0;stroke:rgb(90.6%,54.1%,76.5%);stroke-opacity:0.6;font-size:14px;stroke-linecap:round;stroke-width:5\"></g><g class=\"toytree-Nodes\" style=\"fill:rgb(40.0%,76.1%,64.7%);fill-opacity:1.0;stroke:rgb(14.5%,14.5%,14.5%);stroke-opacity:1.0;stroke-width:1.5\"><g id=\"Node-0\" transform=\"translate(55.5932,172.73)\"><circle r=\"3.5\"></circle></g><g id=\"Node-1\" transform=\"translate(106.864,172.73)\"><circle r=\"3.5\"></circle></g><g id=\"Node-2\" transform=\"translate(158.136,172.73)\"><circle r=\"3.5\"></circle></g><g id=\"Node-3\" transform=\"translate(209.407,172.73)\"><circle r=\"3.5\"></circle></g><g id=\"Node-4\" transform=\"translate(81.2288,113.345)\"><circle r=\"3.5\"></circle></g><g id=\"Node-5\" transform=\"translate(183.771,113.345)\"><circle r=\"3.5\"></circle></g><g id=\"Node-6\" transform=\"translate(132.5,53.959)\"><circle r=\"3.5\"></circle></g></g><g class=\"toytree-TipLabels\" style=\"fill:rgb(14.5%,14.5%,14.5%);fill-opacity:1.0;font-family:Helvetica;font-size:10px;font-weight:300;vertical-align:baseline;white-space:pre;stroke:none\"><g class=\"toytree-TipLabel\" transform=\"translate(55.5932,172.73)rotate(90)\"><text x=\"10.0\" y=\"2.5549999999999997\" style=\"fill:rgb(14.5%,14.5%,14.5%);fill-opacity:1.0\">A</text></g><g class=\"toytree-TipLabel\" transform=\"translate(106.864,172.73)rotate(90)\"><text x=\"10.0\" y=\"2.5549999999999997\" style=\"fill:rgb(14.5%,14.5%,14.5%);fill-opacity:1.0\">B</text></g><g class=\"toytree-TipLabel\" transform=\"translate(158.136,172.73)rotate(90)\"><text x=\"10.0\" y=\"2.5549999999999997\" style=\"fill:rgb(14.5%,14.5%,14.5%);fill-opacity:1.0\">C</text></g><g class=\"toytree-TipLabel\" transform=\"translate(209.407,172.73)rotate(90)\"><text x=\"10.0\" y=\"2.5549999999999997\" style=\"fill:rgb(14.5%,14.5%,14.5%);fill-opacity:1.0\">D</text></g></g></g></g><g class=\"toyplot-coordinates-Axis\" id=\"tb661efd2b69848f38e56cfe1ad5d5fce\" transform=\"translate(50.0,200.0)rotate(-90.0)translate(0,-10.0)\"><line x1=\"27.26984797297297\" y1=\"0\" x2=\"146.04096283783784\" y2=\"0\" style=\"\"></line><g><line x1=\"27.26984797297297\" y1=\"0\" x2=\"27.26984797297297\" y2=\"5\" style=\"\"></line><line x1=\"56.962626689189186\" y1=\"0\" x2=\"56.962626689189186\" y2=\"5\" style=\"\"></line><line x1=\"86.65540540540539\" y1=\"0\" x2=\"86.65540540540539\" y2=\"5\" style=\"\"></line><line x1=\"116.34818412162161\" y1=\"0\" x2=\"116.34818412162161\" y2=\"5\" style=\"\"></line><line x1=\"146.04096283783784\" y1=\"0\" x2=\"146.04096283783784\" y2=\"5\" style=\"\"></line></g><g><g transform=\"translate(27.26984797297297,-6)\"><text x=\"-2.78\" y=\"-4.440892098500626e-16\" style=\"fill:rgb(16.1%,15.3%,14.1%);fill-opacity:1.0;font-family:helvetica;font-size:10.0px;font-weight:normal;stroke:none;vertical-align:baseline;white-space:pre\">0</text></g><g transform=\"translate(56.962626689189186,-6)\"><text x=\"-6.95\" y=\"-4.440892098500626e-16\" style=\"fill:rgb(16.1%,15.3%,14.1%);fill-opacity:1.0;font-family:helvetica;font-size:10.0px;font-weight:normal;stroke:none;vertical-align:baseline;white-space:pre\">0.5</text></g><g transform=\"translate(86.65540540540539,-6)\"><text x=\"-2.78\" y=\"-4.440892098500626e-16\" style=\"fill:rgb(16.1%,15.3%,14.1%);fill-opacity:1.0;font-family:helvetica;font-size:10.0px;font-weight:normal;stroke:none;vertical-align:baseline;white-space:pre\">1</text></g><g transform=\"translate(116.34818412162161,-6)\"><text x=\"-6.95\" y=\"-4.440892098500626e-16\" style=\"fill:rgb(16.1%,15.3%,14.1%);fill-opacity:1.0;font-family:helvetica;font-size:10.0px;font-weight:normal;stroke:none;vertical-align:baseline;white-space:pre\">1.5</text></g><g transform=\"translate(146.04096283783784,-6)\"><text x=\"-2.78\" y=\"-4.440892098500626e-16\" style=\"fill:rgb(16.1%,15.3%,14.1%);fill-opacity:1.0;font-family:helvetica;font-size:10.0px;font-weight:normal;stroke:none;vertical-align:baseline;white-space:pre\">2</text></g></g><g class=\"toyplot-coordinates-Axis-coordinates\" style=\"visibility:hidden\" transform=\"\"><line x1=\"0\" x2=\"0\" y1=\"3.0\" y2=\"-4.5\" style=\"stroke:rgb(43.9%,50.2%,56.5%);stroke-opacity:1.0;stroke-width:1.0\"></line><text x=\"0\" y=\"6\" style=\"alignment-baseline:hanging;fill:rgb(43.9%,50.2%,56.5%);fill-opacity:1.0;font-size:10px;font-weight:normal;stroke:none;text-anchor:middle\"></text></g></g></g><g class=\"toyplot-coordinates-Cartesian\" id=\"tb3c152cbdb7642a1af471807ba38badb\"><clipPath id=\"t01eb7e8139614a92842a15f1781293a7\"><rect x=\"265.0\" y=\"40.0\" width=\"185.0\" height=\"170.0\"></rect></clipPath><g clip-path=\"url(#t01eb7e8139614a92842a15f1781293a7)\"><g class=\"toytree-mark-Toytree\" id=\"tbc0202365660445ea2bf68937e0f58ef\"><g class=\"toytree-Edges\" style=\"stroke:rgb(14.5%,14.5%,14.5%);stroke-opacity:1.0;stroke-linecap:round;stroke-width:2;fill:none\"><path d=\"M 357.5 54.0 L 280.6 173.4\" id=\"2,0\" style=\"\"></path><path d=\"M 357.5 54.0 L 434.4 173.4\" id=\"2,1\" style=\"\"></path></g><g class=\"toytree-AdmixEdges\" style=\"fill:rgb(0.0%,0.0%,0.0%);fill-opacity:0.0;stroke:rgb(90.6%,54.1%,76.5%);stroke-opacity:0.6;font-size:14px;stroke-linecap:round;stroke-width:5\"></g><g class=\"toytree-Nodes\" style=\"fill:rgb(40.0%,76.1%,64.7%);fill-opacity:1.0;stroke:rgb(14.5%,14.5%,14.5%);stroke-opacity:1.0;stroke-width:1.5\"><g id=\"Node-0\" transform=\"translate(280.593,173.447)\"><circle r=\"3.5\"></circle></g><g id=\"Node-1\" transform=\"translate(434.407,173.447)\"><circle r=\"3.5\"></circle></g><g id=\"Node-2\" transform=\"translate(357.5,53.9822)\"><circle r=\"3.5\"></circle></g></g><g class=\"toytree-TipLabels\" style=\"fill:rgb(14.5%,14.5%,14.5%);fill-opacity:1.0;font-family:Helvetica;font-size:10px;font-weight:300;vertical-align:baseline;white-space:pre;stroke:none\"><g class=\"toytree-TipLabel\" transform=\"translate(280.593,173.447)rotate(90)\"><text x=\"10.0\" y=\"2.5549999999999997\" style=\"fill:rgb(14.5%,14.5%,14.5%);fill-opacity:1.0\">A</text></g><g class=\"toytree-TipLabel\" transform=\"translate(434.407,173.447)rotate(90)\"><text x=\"10.0\" y=\"2.5549999999999997\" style=\"fill:rgb(14.5%,14.5%,14.5%);fill-opacity:1.0\">B</text></g></g></g></g><g class=\"toyplot-coordinates-Axis\" id=\"tc9df083763794f35a9a95bf373fbdd57\" transform=\"translate(275.0,200.0)rotate(-90.0)translate(0,-10.0)\"><line x1=\"26.55304237018159\" y1=\"0\" x2=\"146.01784007645745\" y2=\"0\" style=\"\"></line><g><line x1=\"26.55304237018159\" y1=\"0\" x2=\"26.55304237018159\" y2=\"5\" style=\"\"></line><line x1=\"86.28544122331954\" y1=\"0\" x2=\"86.28544122331954\" y2=\"5\" style=\"\"></line><line x1=\"146.01784007645745\" y1=\"0\" x2=\"146.01784007645745\" y2=\"5\" style=\"\"></line></g><g><g transform=\"translate(26.55304237018159,-6)\"><text x=\"-2.78\" y=\"-4.440892098500626e-16\" style=\"fill:rgb(16.1%,15.3%,14.1%);fill-opacity:1.0;font-family:helvetica;font-size:10.0px;font-weight:normal;stroke:none;vertical-align:baseline;white-space:pre\">0</text></g><g transform=\"translate(86.28544122331954,-6)\"><text x=\"-6.95\" y=\"-4.440892098500626e-16\" style=\"fill:rgb(16.1%,15.3%,14.1%);fill-opacity:1.0;font-family:helvetica;font-size:10.0px;font-weight:normal;stroke:none;vertical-align:baseline;white-space:pre\">0.5</text></g><g transform=\"translate(146.01784007645745,-6)\"><text x=\"-2.78\" y=\"-4.440892098500626e-16\" style=\"fill:rgb(16.1%,15.3%,14.1%);fill-opacity:1.0;font-family:helvetica;font-size:10.0px;font-weight:normal;stroke:none;vertical-align:baseline;white-space:pre\">1</text></g></g><g class=\"toyplot-coordinates-Axis-coordinates\" style=\"visibility:hidden\" transform=\"\"><line x1=\"0\" x2=\"0\" y1=\"3.0\" y2=\"-4.5\" style=\"stroke:rgb(43.9%,50.2%,56.5%);stroke-opacity:1.0;stroke-width:1.0\"></line><text x=\"0\" y=\"6\" style=\"alignment-baseline:hanging;fill:rgb(43.9%,50.2%,56.5%);fill-opacity:1.0;font-size:10px;font-weight:normal;stroke:none;text-anchor:middle\"></text></g></g></g><g class=\"toyplot-coordinates-Cartesian\" id=\"tdf1d207663214de786a38cb71660c60f\"><clipPath id=\"tcd53b2ea538a4175b05f31e4492b9ce3\"><rect x=\"490.0\" y=\"40.0\" width=\"185.0\" height=\"170.0\"></rect></clipPath><g clip-path=\"url(#tcd53b2ea538a4175b05f31e4492b9ce3)\"><g class=\"toytree-mark-Toytree\" id=\"teb552bb6832a41ab9c51cfb6eee42335\"><g class=\"toytree-Edges\" style=\"stroke:rgb(14.5%,14.5%,14.5%);stroke-opacity:1.0;stroke-linecap:round;stroke-width:2;fill:none\"><path d=\"M 582.5 54.0 L 505.6 172.7\" id=\"2,0\" style=\"\"></path><path d=\"M 582.5 54.0 L 659.4 172.7\" id=\"2,1\" style=\"\"></path></g><g class=\"toytree-AdmixEdges\" style=\"fill:rgb(0.0%,0.0%,0.0%);fill-opacity:0.0;stroke:rgb(90.6%,54.1%,76.5%);stroke-opacity:0.6;font-size:14px;stroke-linecap:round;stroke-width:5\"></g><g class=\"toytree-Nodes\" style=\"fill:rgb(40.0%,76.1%,64.7%);fill-opacity:1.0;stroke:rgb(14.5%,14.5%,14.5%);stroke-opacity:1.0;stroke-width:1.5\"><g id=\"Node-0\" transform=\"translate(505.593,172.73)\"><circle r=\"3.5\"></circle></g><g id=\"Node-1\" transform=\"translate(659.407,172.73)\"><circle r=\"3.5\"></circle></g><g id=\"Node-2\" transform=\"translate(582.5,53.959)\"><circle r=\"3.5\"></circle></g></g><g class=\"toytree-TipLabels\" style=\"fill:rgb(14.5%,14.5%,14.5%);fill-opacity:1.0;font-family:Helvetica;font-size:10px;font-weight:300;vertical-align:baseline;white-space:pre;stroke:none\"><g class=\"toytree-TipLabel\" transform=\"translate(505.593,172.73)rotate(90)\"><text x=\"10.0\" y=\"2.5549999999999997\" style=\"fill:rgb(14.5%,14.5%,14.5%);fill-opacity:1.0\">C</text></g><g class=\"toytree-TipLabel\" transform=\"translate(659.407,172.73)rotate(90)\"><text x=\"10.0\" y=\"2.5549999999999997\" style=\"fill:rgb(14.5%,14.5%,14.5%);fill-opacity:1.0\">D</text></g></g></g></g><g class=\"toyplot-coordinates-Axis\" id=\"t6cb61b5d368c411681bbed86a630bd9b\" transform=\"translate(500.0,200.0)rotate(-90.0)translate(0,-10.0)\"><line x1=\"27.26984797297297\" y1=\"0\" x2=\"146.04096283783784\" y2=\"0\" style=\"\"></line><g><line x1=\"27.26984797297297\" y1=\"0\" x2=\"27.26984797297297\" y2=\"5\" style=\"\"></line><line x1=\"86.65540540540539\" y1=\"0\" x2=\"86.65540540540539\" y2=\"5\" style=\"\"></line><line x1=\"146.04096283783784\" y1=\"0\" x2=\"146.04096283783784\" y2=\"5\" style=\"\"></line></g><g><g transform=\"translate(27.26984797297297,-6)\"><text x=\"-2.78\" y=\"-4.440892098500626e-16\" style=\"fill:rgb(16.1%,15.3%,14.1%);fill-opacity:1.0;font-family:helvetica;font-size:10.0px;font-weight:normal;stroke:none;vertical-align:baseline;white-space:pre\">0</text></g><g transform=\"translate(86.65540540540539,-6)\"><text x=\"-6.95\" y=\"-4.440892098500626e-16\" style=\"fill:rgb(16.1%,15.3%,14.1%);fill-opacity:1.0;font-family:helvetica;font-size:10.0px;font-weight:normal;stroke:none;vertical-align:baseline;white-space:pre\">0.5</text></g><g transform=\"translate(146.04096283783784,-6)\"><text x=\"-2.78\" y=\"-4.440892098500626e-16\" style=\"fill:rgb(16.1%,15.3%,14.1%);fill-opacity:1.0;font-family:helvetica;font-size:10.0px;font-weight:normal;stroke:none;vertical-align:baseline;white-space:pre\">1</text></g></g><g class=\"toyplot-coordinates-Axis-coordinates\" style=\"visibility:hidden\" transform=\"\"><line x1=\"0\" x2=\"0\" y1=\"3.0\" y2=\"-4.5\" style=\"stroke:rgb(43.9%,50.2%,56.5%);stroke-opacity:1.0;stroke-width:1.0\"></line><text x=\"0\" y=\"6\" style=\"alignment-baseline:hanging;fill:rgb(43.9%,50.2%,56.5%);fill-opacity:1.0;font-size:10px;font-weight:normal;stroke:none;text-anchor:middle\"></text></g></g></g></svg><div class=\"toyplot-behavior\"><script>(function()\n",
       "{\n",
       "var modules={};\n",
       "modules[\"toyplot/canvas/id\"] = \"tf1d6d49abeb24059983100bed7aa8526\";\n",
       "modules[\"toyplot/canvas\"] = (function(canvas_id)\n",
       "    {\n",
       "        return document.querySelector(\"#\" + canvas_id);\n",
       "    })(modules[\"toyplot/canvas/id\"]);\n",
       "modules[\"toyplot.coordinates.Axis\"] = (\n",
       "        function(canvas)\n",
       "        {\n",
       "            function sign(x)\n",
       "            {\n",
       "                return x < 0 ? -1 : x > 0 ? 1 : 0;\n",
       "            }\n",
       "\n",
       "            function mix(a, b, amount)\n",
       "            {\n",
       "                return ((1.0 - amount) * a) + (amount * b);\n",
       "            }\n",
       "\n",
       "            function log(x, base)\n",
       "            {\n",
       "                return Math.log(Math.abs(x)) / Math.log(base);\n",
       "            }\n",
       "\n",
       "            function in_range(a, x, b)\n",
       "            {\n",
       "                var left = Math.min(a, b);\n",
       "                var right = Math.max(a, b);\n",
       "                return left <= x && x <= right;\n",
       "            }\n",
       "\n",
       "            function inside(range, projection)\n",
       "            {\n",
       "                for(var i = 0; i != projection.length; ++i)\n",
       "                {\n",
       "                    var segment = projection[i];\n",
       "                    if(in_range(segment.range.min, range, segment.range.max))\n",
       "                        return true;\n",
       "                }\n",
       "                return false;\n",
       "            }\n",
       "\n",
       "            function to_domain(range, projection)\n",
       "            {\n",
       "                for(var i = 0; i != projection.length; ++i)\n",
       "                {\n",
       "                    var segment = projection[i];\n",
       "                    if(in_range(segment.range.bounds.min, range, segment.range.bounds.max))\n",
       "                    {\n",
       "                        if(segment.scale == \"linear\")\n",
       "                        {\n",
       "                            var amount = (range - segment.range.min) / (segment.range.max - segment.range.min);\n",
       "                            return mix(segment.domain.min, segment.domain.max, amount)\n",
       "                        }\n",
       "                        else if(segment.scale[0] == \"log\")\n",
       "                        {\n",
       "                            var amount = (range - segment.range.min) / (segment.range.max - segment.range.min);\n",
       "                            var base = segment.scale[1];\n",
       "                            return sign(segment.domain.min) * Math.pow(base, mix(log(segment.domain.min, base), log(segment.domain.max, base), amount));\n",
       "                        }\n",
       "                    }\n",
       "                }\n",
       "            }\n",
       "\n",
       "            var axes = {};\n",
       "\n",
       "            function display_coordinates(e)\n",
       "            {\n",
       "                var current = canvas.createSVGPoint();\n",
       "                current.x = e.clientX;\n",
       "                current.y = e.clientY;\n",
       "\n",
       "                for(var axis_id in axes)\n",
       "                {\n",
       "                    var axis = document.querySelector(\"#\" + axis_id);\n",
       "                    var coordinates = axis.querySelector(\".toyplot-coordinates-Axis-coordinates\");\n",
       "                    if(coordinates)\n",
       "                    {\n",
       "                        var projection = axes[axis_id];\n",
       "                        var local = current.matrixTransform(axis.getScreenCTM().inverse());\n",
       "                        if(inside(local.x, projection))\n",
       "                        {\n",
       "                            var domain = to_domain(local.x, projection);\n",
       "                            coordinates.style.visibility = \"visible\";\n",
       "                            coordinates.setAttribute(\"transform\", \"translate(\" + local.x + \")\");\n",
       "                            var text = coordinates.querySelector(\"text\");\n",
       "                            text.textContent = domain.toFixed(2);\n",
       "                        }\n",
       "                        else\n",
       "                        {\n",
       "                            coordinates.style.visibility= \"hidden\";\n",
       "                        }\n",
       "                    }\n",
       "                }\n",
       "            }\n",
       "\n",
       "            canvas.addEventListener(\"click\", display_coordinates);\n",
       "\n",
       "            var module = {};\n",
       "            module.show_coordinates = function(axis_id, projection)\n",
       "            {\n",
       "                axes[axis_id] = projection;\n",
       "            }\n",
       "\n",
       "            return module;\n",
       "        })(modules[\"toyplot/canvas\"]);\n",
       "(function(axis, axis_id, projection)\n",
       "        {\n",
       "            axis.show_coordinates(axis_id, projection);\n",
       "        })(modules[\"toyplot.coordinates.Axis\"],\"tb661efd2b69848f38e56cfe1ad5d5fce\",[{\"domain\": {\"bounds\": {\"max\": Infinity, \"min\": -Infinity}, \"max\": 2.066666666666667, \"min\": -0.4592}, \"range\": {\"bounds\": {\"max\": Infinity, \"min\": -Infinity}, \"max\": 150.0, \"min\": 0.0}, \"scale\": \"linear\"}]);\n",
       "(function(axis, axis_id, projection)\n",
       "        {\n",
       "            axis.show_coordinates(axis_id, projection);\n",
       "        })(modules[\"toyplot.coordinates.Axis\"],\"tc9df083763794f35a9a95bf373fbdd57\",[{\"domain\": {\"bounds\": {\"max\": Infinity, \"min\": -Infinity}, \"max\": 1.0333333333333334, \"min\": -0.2222666666666667}, \"range\": {\"bounds\": {\"max\": Infinity, \"min\": -Infinity}, \"max\": 150.0, \"min\": 0.0}, \"scale\": \"linear\"}]);\n",
       "(function(axis, axis_id, projection)\n",
       "        {\n",
       "            axis.show_coordinates(axis_id, projection);\n",
       "        })(modules[\"toyplot.coordinates.Axis\"],\"t6cb61b5d368c411681bbed86a630bd9b\",[{\"domain\": {\"bounds\": {\"max\": Infinity, \"min\": -Infinity}, \"max\": 1.0333333333333334, \"min\": -0.2296}, \"range\": {\"bounds\": {\"max\": Infinity, \"min\": -Infinity}, \"max\": 150.0, \"min\": 0.0}, \"scale\": \"linear\"}]);\n",
       "})();</script></div></div>"
      ]
     },
     "metadata": {},
     "output_type": "display_data"
    }
   ],
   "source": [
    "tree = toytree.tree(\"((A,B)E,(C,D)F)G;\").root('G')\n",
    "sub1, sub2 = tree.mod.bisect('G')\n",
    "toytree.mtree([tree, sub1, sub2]).draw(ts='c', scale_bar=True);"
   ]
  },
  {
   "attachments": {},
   "cell_type": "markdown",
   "metadata": {},
   "source": [
    "## Tree-level modification\n",
    "\n",
    "### Resolving polytomies  \n",
    "\n",
    "`resolve_polytomies()` chooses one or more polytomies to resolve either partially or completeley. This algorithm resolves a polytomy stemming from a queried `Node` with $n$ children by choosing a `random child` to represent the left child, and creating a `New Node` to represent the right child. This New Node has assignable distance `dist=` and support value `support=`. The remaining originaof the queried Node are then connected to the New Node, which will then have $(n-1)$ children.\n",
    "\n",
    "By default, `resolve_polytomoies()` completely resolves polytomies with $n>3$ children by recursively running the algorithm on the New Node with $(n-1)$ children until $n=2$ (the New Node is binary). However, using `recursive=False` resolves the polytomy partially, returning a tree with a mutlifurcation of $n-1$ children connected to the New Node.\n",
    "\n",
    "\n",
    "The user can query Nodes by name, index, or `Node` object. The queried Nodes are the parents of polytomies. For reproducable random resolutions, a numpy seed can be included with `seed=`. "
   ]
  },
  {
   "cell_type": "code",
   "execution_count": 138,
   "metadata": {},
   "outputs": [
    {
     "data": {
      "text/html": [
       "<div class=\"toyplot\" id=\"t2f60a33fa833436591a3a7d16f074ecf\" style=\"text-align:center\"><svg class=\"toyplot-canvas-Canvas\" xmlns:toyplot=\"http://www.sandia.gov/toyplot\" xmlns:xlink=\"http://www.w3.org/1999/xlink\" xmlns=\"http://www.w3.org/2000/svg\" width=\"675.0px\" height=\"250.0px\" viewBox=\"0 0 675.0 250.0\" preserveAspectRatio=\"xMidYMid meet\" style=\"background-color:transparent;border-color:#292724;border-style:none;border-width:1.0;fill:rgb(16.1%,15.3%,14.1%);fill-opacity:1.0;font-family:Helvetica;font-size:12px;opacity:1.0;stroke:rgb(16.1%,15.3%,14.1%);stroke-opacity:1.0;stroke-width:1.0\" id=\"t40e8b7f5ef8341ff89317b16125e299c\"><g class=\"toyplot-coordinates-Cartesian\" id=\"t7cea5d45bf0a4c8eaca431c6427d0c13\"><clipPath id=\"t940c431afcd243c8828ea641be2b5243\"><rect x=\"20.0\" y=\"40.0\" width=\"205.0\" height=\"170.0\"></rect></clipPath><g clip-path=\"url(#t940c431afcd243c8828ea641be2b5243)\"><g class=\"toytree-mark-Toytree\" id=\"tc43a0b0835cc4b7baf2e3a3056ceda1b\"><g class=\"toytree-Edges\" style=\"stroke:rgb(14.5%,14.5%,14.5%);stroke-opacity:1.0;stroke-linecap:round;stroke-width:2;fill:none\"><path d=\"M 105.1 114.5 L 35.6 174.9\" id=\"6,0\" style=\"\"></path><path d=\"M 105.1 114.5 L 70.4 174.9\" id=\"6,1\" style=\"\"></path><path d=\"M 105.1 114.5 L 105.1 174.9\" id=\"6,2\" style=\"\"></path><path d=\"M 105.1 114.5 L 139.9 174.9\" id=\"6,3\" style=\"\"></path><path d=\"M 105.1 114.5 L 174.6 174.9\" id=\"6,4\" style=\"\"></path><path d=\"M 157.2 54.0 L 209.4 114.5\" id=\"7,5\" style=\"\"></path><path d=\"M 157.2 54.0 L 105.1 114.5\" id=\"7,6\" style=\"\"></path></g><g class=\"toytree-AdmixEdges\" style=\"fill:rgb(0.0%,0.0%,0.0%);fill-opacity:0.0;stroke:rgb(90.6%,54.1%,76.5%);stroke-opacity:0.6;font-size:14px;stroke-linecap:round;stroke-width:5\"></g><g class=\"toytree-Nodes\" style=\"fill:rgb(40.0%,76.1%,64.7%);fill-opacity:1.0;stroke:rgb(14.5%,14.5%,14.5%);stroke-opacity:1.0;stroke-width:1.5\"><g id=\"Node-0\" transform=\"translate(35.6345,174.919)\"><circle r=\"3.5\"></circle></g><g id=\"Node-1\" transform=\"translate(70.3807,174.919)\"><circle r=\"3.5\"></circle></g><g id=\"Node-2\" transform=\"translate(105.127,174.919)\"><circle r=\"3.5\"></circle></g><g id=\"Node-3\" transform=\"translate(139.873,174.919)\"><circle r=\"3.5\"></circle></g><g id=\"Node-4\" transform=\"translate(174.619,174.919)\"><circle r=\"3.5\"></circle></g><g id=\"Node-5\" transform=\"translate(209.365,114.475)\"><circle r=\"3.5\"></circle></g><g id=\"Node-6\" transform=\"translate(105.127,114.475)\"><circle r=\"3.5\"></circle></g><g id=\"Node-7\" transform=\"translate(157.246,54.0297)\"><circle r=\"3.5\"></circle></g></g><g class=\"toytree-TipLabels\" style=\"fill:rgb(14.5%,14.5%,14.5%);fill-opacity:1.0;font-family:Helvetica;font-size:10px;font-weight:300;vertical-align:baseline;white-space:pre;stroke:none\"><g class=\"toytree-TipLabel\" transform=\"translate(35.6345,174.919)rotate(90)\"><text x=\"10.0\" y=\"2.5549999999999997\" style=\"fill:rgb(14.5%,14.5%,14.5%);fill-opacity:1.0\">a</text></g><g class=\"toytree-TipLabel\" transform=\"translate(70.3807,174.919)rotate(90)\"><text x=\"10.0\" y=\"2.5549999999999997\" style=\"fill:rgb(14.5%,14.5%,14.5%);fill-opacity:1.0\">b</text></g><g class=\"toytree-TipLabel\" transform=\"translate(105.127,174.919)rotate(90)\"><text x=\"10.0\" y=\"2.5549999999999997\" style=\"fill:rgb(14.5%,14.5%,14.5%);fill-opacity:1.0\">c</text></g><g class=\"toytree-TipLabel\" transform=\"translate(139.873,174.919)rotate(90)\"><text x=\"10.0\" y=\"2.5549999999999997\" style=\"fill:rgb(14.5%,14.5%,14.5%);fill-opacity:1.0\">d</text></g><g class=\"toytree-TipLabel\" transform=\"translate(174.619,174.919)rotate(90)\"><text x=\"10.0\" y=\"2.5549999999999997\" style=\"fill:rgb(14.5%,14.5%,14.5%);fill-opacity:1.0\">e</text></g><g class=\"toytree-TipLabel\" transform=\"translate(209.365,114.475)rotate(90)\"><text x=\"10.0\" y=\"2.5549999999999997\" style=\"fill:rgb(14.5%,14.5%,14.5%);fill-opacity:1.0\">f</text></g></g></g></g></g><g class=\"toyplot-coordinates-Cartesian\" id=\"t3eef427062dc41af9497cafbdbcd77d6\"><clipPath id=\"t494b09bddc634f318ba93427d3509f0b\"><rect x=\"245.0\" y=\"40.0\" width=\"205.0\" height=\"170.0\"></rect></clipPath><g clip-path=\"url(#t494b09bddc634f318ba93427d3509f0b)\"><g class=\"toytree-mark-Toytree\" id=\"ta68060266e6c45b6928808b38f4fa4e1\"><g class=\"toytree-Edges\" style=\"stroke:rgb(14.5%,14.5%,14.5%);stroke-opacity:1.0;stroke-linecap:round;stroke-width:2;fill:none\"><path d=\"M 304.1 94.3 L 260.6 134.6\" id=\"7,0\" style=\"\"></path><path d=\"M 347.5 134.6 L 295.4 174.9\" id=\"6,1\" style=\"\"></path><path d=\"M 347.5 134.6 L 330.1 174.9\" id=\"6,2\" style=\"\"></path><path d=\"M 347.5 134.6 L 364.9 174.9\" id=\"6,3\" style=\"\"></path><path d=\"M 347.5 134.6 L 399.6 174.9\" id=\"6,4\" style=\"\"></path><path d=\"M 369.2 54.0 L 434.4 94.3\" id=\"8,5\" style=\"\"></path><path d=\"M 304.1 94.3 L 347.5 134.6\" id=\"7,6\" style=\"\"></path><path d=\"M 369.2 54.0 L 304.1 94.3\" id=\"8,7\" style=\"\"></path></g><g class=\"toytree-AdmixEdges\" style=\"fill:rgb(0.0%,0.0%,0.0%);fill-opacity:0.0;stroke:rgb(90.6%,54.1%,76.5%);stroke-opacity:0.6;font-size:14px;stroke-linecap:round;stroke-width:5\"></g><g class=\"toytree-Nodes\" style=\"fill:rgb(40.0%,76.1%,64.7%);fill-opacity:1.0;stroke:rgb(14.5%,14.5%,14.5%);stroke-opacity:1.0;stroke-width:1.5\"><g id=\"Node-0\" transform=\"translate(260.635,134.623)\"><circle r=\"3.5\"></circle></g><g id=\"Node-1\" transform=\"translate(295.381,174.919)\"><circle r=\"3.5\"></circle></g><g id=\"Node-2\" transform=\"translate(330.127,174.919)\"><circle r=\"3.5\"></circle></g><g id=\"Node-3\" transform=\"translate(364.873,174.919)\"><circle r=\"3.5\"></circle></g><g id=\"Node-4\" transform=\"translate(399.619,174.919)\"><circle r=\"3.5\"></circle></g><g id=\"Node-5\" transform=\"translate(434.365,94.3262)\"><circle r=\"3.5\"></circle></g><g id=\"Node-6\" transform=\"translate(347.5,134.623)\"><circle r=\"3.5\"></circle></g><g id=\"Node-7\" transform=\"translate(304.067,94.3262)\"><circle r=\"3.5\"></circle></g><g id=\"Node-8\" transform=\"translate(369.216,54.0297)\"><circle r=\"3.5\"></circle></g></g><g class=\"toytree-TipLabels\" style=\"fill:rgb(14.5%,14.5%,14.5%);fill-opacity:1.0;font-family:Helvetica;font-size:10px;font-weight:300;vertical-align:baseline;white-space:pre;stroke:none\"><g class=\"toytree-TipLabel\" transform=\"translate(260.635,134.623)rotate(90)\"><text x=\"10.0\" y=\"2.5549999999999997\" style=\"fill:rgb(14.5%,14.5%,14.5%);fill-opacity:1.0\">a</text></g><g class=\"toytree-TipLabel\" transform=\"translate(295.381,174.919)rotate(90)\"><text x=\"10.0\" y=\"2.5549999999999997\" style=\"fill:rgb(14.5%,14.5%,14.5%);fill-opacity:1.0\">b</text></g><g class=\"toytree-TipLabel\" transform=\"translate(330.127,174.919)rotate(90)\"><text x=\"10.0\" y=\"2.5549999999999997\" style=\"fill:rgb(14.5%,14.5%,14.5%);fill-opacity:1.0\">c</text></g><g class=\"toytree-TipLabel\" transform=\"translate(364.873,174.919)rotate(90)\"><text x=\"10.0\" y=\"2.5549999999999997\" style=\"fill:rgb(14.5%,14.5%,14.5%);fill-opacity:1.0\">d</text></g><g class=\"toytree-TipLabel\" transform=\"translate(399.619,174.919)rotate(90)\"><text x=\"10.0\" y=\"2.5549999999999997\" style=\"fill:rgb(14.5%,14.5%,14.5%);fill-opacity:1.0\">e</text></g><g class=\"toytree-TipLabel\" transform=\"translate(434.365,94.3262)rotate(90)\"><text x=\"10.0\" y=\"2.5549999999999997\" style=\"fill:rgb(14.5%,14.5%,14.5%);fill-opacity:1.0\">f</text></g></g></g></g></g><g class=\"toyplot-coordinates-Cartesian\" id=\"tcfa3c4576708401da43212469b704abb\"><clipPath id=\"teed7b71154c34b33ad13701fdf84af86\"><rect x=\"470.0\" y=\"40.0\" width=\"205.0\" height=\"170.0\"></rect></clipPath><g clip-path=\"url(#teed7b71154c34b33ad13701fdf84af86)\"><g class=\"toytree-mark-Toytree\" id=\"t85931e1f72e144b48167920e9118d852\"><g class=\"toytree-Edges\" style=\"stroke:rgb(14.5%,14.5%,14.5%);stroke-opacity:1.0;stroke-linecap:round;stroke-width:2;fill:none\"><path d=\"M 518.2 78.2 L 485.6 102.4\" id=\"9,0\" style=\"\"></path><path d=\"M 550.8 102.4 L 520.4 126.6\" id=\"8,1\" style=\"\"></path><path d=\"M 581.2 126.6 L 555.1 150.7\" id=\"7,2\" style=\"\"></path><path d=\"M 607.2 150.7 L 589.9 174.9\" id=\"6,3\" style=\"\"></path><path d=\"M 607.2 150.7 L 624.6 174.9\" id=\"6,4\" style=\"\"></path><path d=\"M 588.8 54.0 L 659.4 78.2\" id=\"10,5\" style=\"\"></path><path d=\"M 581.2 126.6 L 607.2 150.7\" id=\"7,6\" style=\"\"></path><path d=\"M 550.8 102.4 L 581.2 126.6\" id=\"8,7\" style=\"\"></path><path d=\"M 518.2 78.2 L 550.8 102.4\" id=\"9,8\" style=\"\"></path><path d=\"M 588.8 54.0 L 518.2 78.2\" id=\"10,9\" style=\"\"></path></g><g class=\"toytree-AdmixEdges\" style=\"fill:rgb(0.0%,0.0%,0.0%);fill-opacity:0.0;stroke:rgb(90.6%,54.1%,76.5%);stroke-opacity:0.6;font-size:14px;stroke-linecap:round;stroke-width:5\"></g><g class=\"toytree-Nodes\" style=\"fill:rgb(40.0%,76.1%,64.7%);fill-opacity:1.0;stroke:rgb(14.5%,14.5%,14.5%);stroke-opacity:1.0;stroke-width:1.5\"><g id=\"Node-0\" transform=\"translate(485.635,102.386)\"><circle r=\"3.5\"></circle></g><g id=\"Node-1\" transform=\"translate(520.381,126.564)\"><circle r=\"3.5\"></circle></g><g id=\"Node-2\" transform=\"translate(555.127,150.741)\"><circle r=\"3.5\"></circle></g><g id=\"Node-3\" transform=\"translate(589.873,174.919)\"><circle r=\"3.5\"></circle></g><g id=\"Node-4\" transform=\"translate(624.619,174.919)\"><circle r=\"3.5\"></circle></g><g id=\"Node-5\" transform=\"translate(659.365,78.2076)\"><circle r=\"3.5\"></circle></g><g id=\"Node-6\" transform=\"translate(607.246,150.741)\"><circle r=\"3.5\"></circle></g><g id=\"Node-7\" transform=\"translate(581.187,126.564)\"><circle r=\"3.5\"></circle></g><g id=\"Node-8\" transform=\"translate(550.784,102.386)\"><circle r=\"3.5\"></circle></g><g id=\"Node-9\" transform=\"translate(518.209,78.2076)\"><circle r=\"3.5\"></circle></g><g id=\"Node-10\" transform=\"translate(588.787,54.0297)\"><circle r=\"3.5\"></circle></g></g><g class=\"toytree-TipLabels\" style=\"fill:rgb(14.5%,14.5%,14.5%);fill-opacity:1.0;font-family:Helvetica;font-size:10px;font-weight:300;vertical-align:baseline;white-space:pre;stroke:none\"><g class=\"toytree-TipLabel\" transform=\"translate(485.635,102.386)rotate(90)\"><text x=\"10.0\" y=\"2.5549999999999997\" style=\"fill:rgb(14.5%,14.5%,14.5%);fill-opacity:1.0\">a</text></g><g class=\"toytree-TipLabel\" transform=\"translate(520.381,126.564)rotate(90)\"><text x=\"10.0\" y=\"2.5549999999999997\" style=\"fill:rgb(14.5%,14.5%,14.5%);fill-opacity:1.0\">d</text></g><g class=\"toytree-TipLabel\" transform=\"translate(555.127,150.741)rotate(90)\"><text x=\"10.0\" y=\"2.5549999999999997\" style=\"fill:rgb(14.5%,14.5%,14.5%);fill-opacity:1.0\">e</text></g><g class=\"toytree-TipLabel\" transform=\"translate(589.873,174.919)rotate(90)\"><text x=\"10.0\" y=\"2.5549999999999997\" style=\"fill:rgb(14.5%,14.5%,14.5%);fill-opacity:1.0\">b</text></g><g class=\"toytree-TipLabel\" transform=\"translate(624.619,174.919)rotate(90)\"><text x=\"10.0\" y=\"2.5549999999999997\" style=\"fill:rgb(14.5%,14.5%,14.5%);fill-opacity:1.0\">c</text></g><g class=\"toytree-TipLabel\" transform=\"translate(659.365,78.2076)rotate(90)\"><text x=\"10.0\" y=\"2.5549999999999997\" style=\"fill:rgb(14.5%,14.5%,14.5%);fill-opacity:1.0\">f</text></g></g></g></g></g></svg><div class=\"toyplot-behavior\"><script>(function()\n",
       "{\n",
       "var modules={};\n",
       "})();</script></div></div>"
      ]
     },
     "metadata": {},
     "output_type": "display_data"
    }
   ],
   "source": [
    "# multifurcation of n=5\n",
    "tree = toytree.tree(\"((a,b,c,d,e),f);\")\n",
    "\n",
    "# non recursive, so one tip kept at random and the other 4 become children of New Node\n",
    "tree1 = tree.mod.resolve_polytomies(dist=1, recursive=False)\n",
    "\n",
    "# competely resolves the rest of the polytomies such that all internal nodes are binary\n",
    "tree2 = tree.mod.resolve_polytomies(dist=1)\n",
    "\n",
    "# draw trees\n",
    "toytree.mtree([tree, tree1, tree2]).draw(ts='c');"
   ]
  },
  {
   "cell_type": "markdown",
   "metadata": {},
   "source": [
    "### Ladderize  \n",
    "\n",
    "`ladderize()` formats a tree such that a Node's right/lower child always has _more_ descendants than its left/upper child. The user can also choose to order it in reverse order such that the left/upper child has more descendants by using the argument `direction=True`."
   ]
  },
  {
   "cell_type": "code",
   "execution_count": 142,
   "metadata": {},
   "outputs": [
    {
     "data": {
      "text/html": [
       "<div class=\"toyplot\" id=\"t935ffd38715243ff851c0c054739c919\" style=\"text-align:center\"><svg class=\"toyplot-canvas-Canvas\" xmlns:toyplot=\"http://www.sandia.gov/toyplot\" xmlns:xlink=\"http://www.w3.org/1999/xlink\" xmlns=\"http://www.w3.org/2000/svg\" width=\"675.0px\" height=\"250.0px\" viewBox=\"0 0 675.0 250.0\" preserveAspectRatio=\"xMidYMid meet\" style=\"background-color:transparent;border-color:#292724;border-style:none;border-width:1.0;fill:rgb(16.1%,15.3%,14.1%);fill-opacity:1.0;font-family:Helvetica;font-size:12px;opacity:1.0;stroke:rgb(16.1%,15.3%,14.1%);stroke-opacity:1.0;stroke-width:1.0\" id=\"t88fa310d30374d64bb5bf69f777a8df1\"><g class=\"toyplot-coordinates-Cartesian\" id=\"ta4f99febdab04ff6b2a392929b0d45f0\"><clipPath id=\"t99eedd95cb2f4db5bcf4d90fa99a3b83\"><rect x=\"20.0\" y=\"40.0\" width=\"205.0\" height=\"170.0\"></rect></clipPath><g clip-path=\"url(#t99eedd95cb2f4db5bcf4d90fa99a3b83)\"><g class=\"toytree-mark-Toytree\" id=\"t39695074103d4a30ae1baebfd25160b5\"><g class=\"toytree-Edges\" style=\"stroke:rgb(14.5%,14.5%,14.5%);stroke-opacity:1.0;stroke-linecap:round;stroke-width:2;fill:none\"><path d=\"M 47.5 82.0 L 35.6 164.0\" id=\"13,0\" style=\"\"></path><path d=\"M 59.3 153.8 L 51.4 164.0\" id=\"12,1\" style=\"\"></path><path d=\"M 59.3 153.8 L 67.2 164.0\" id=\"12,2\" style=\"\"></path><path d=\"M 90.9 156.6 L 83.0 164.0\" id=\"14,3\" style=\"\"></path><path d=\"M 90.9 156.6 L 98.8 164.0\" id=\"14,4\" style=\"\"></path><path d=\"M 102.8 148.3 L 114.6 164.0\" id=\"15,5\" style=\"\"></path><path d=\"M 138.3 154.6 L 130.4 164.0\" id=\"16,6\" style=\"\"></path><path d=\"M 138.3 154.6 L 146.2 164.0\" id=\"16,7\" style=\"\"></path><path d=\"M 179.8 125.1 L 162.0 164.0\" id=\"20,8\" style=\"\"></path><path d=\"M 185.7 163.9 L 177.8 164.0\" id=\"18,9\" style=\"\"></path><path d=\"M 185.7 163.9 L 193.6 164.0\" id=\"18,10\" style=\"\"></path><path d=\"M 197.5 127.0 L 209.4 164.0\" id=\"19,11\" style=\"\"></path><path d=\"M 47.5 82.0 L 59.3 153.8\" id=\"13,12\" style=\"\"></path><path d=\"M 98.8 53.7 L 47.5 82.0\" id=\"22,13\" style=\"\"></path><path d=\"M 102.8 148.3 L 90.9 156.6\" id=\"15,14\" style=\"\"></path><path d=\"M 120.5 135.4 L 102.8 148.3\" id=\"17,15\" style=\"\"></path><path d=\"M 120.5 135.4 L 138.3 154.6\" id=\"17,16\" style=\"\"></path><path d=\"M 150.1 88.0 L 120.5 135.4\" id=\"21,17\" style=\"\"></path><path d=\"M 197.5 127.0 L 185.7 163.9\" id=\"19,18\" style=\"\"></path><path d=\"M 179.8 125.1 L 197.5 127.0\" id=\"20,19\" style=\"\"></path><path d=\"M 150.1 88.0 L 179.8 125.1\" id=\"21,20\" style=\"\"></path><path d=\"M 98.8 53.7 L 150.1 88.0\" id=\"22,21\" style=\"\"></path></g><g class=\"toytree-AdmixEdges\" style=\"fill:rgb(0.0%,0.0%,0.0%);fill-opacity:0.0;stroke:rgb(90.6%,54.1%,76.5%);stroke-opacity:0.6;font-size:14px;stroke-linecap:round;stroke-width:5\"></g><g class=\"toytree-Nodes\" style=\"fill:rgb(40.0%,76.1%,64.7%);fill-opacity:1.0;stroke:rgb(14.5%,14.5%,14.5%);stroke-opacity:1.0;stroke-width:1.5\"><g id=\"Node-0\" transform=\"translate(35.6345,164.026)\"><circle r=\"3.5\"></circle></g><g id=\"Node-1\" transform=\"translate(51.4282,164.026)\"><circle r=\"3.5\"></circle></g><g id=\"Node-2\" transform=\"translate(67.222,164.026)\"><circle r=\"3.5\"></circle></g><g id=\"Node-3\" transform=\"translate(83.0157,164.026)\"><circle r=\"3.5\"></circle></g><g id=\"Node-4\" transform=\"translate(98.8094,164.026)\"><circle r=\"3.5\"></circle></g><g id=\"Node-5\" transform=\"translate(114.603,164.026)\"><circle r=\"3.5\"></circle></g><g id=\"Node-6\" transform=\"translate(130.397,164.026)\"><circle r=\"3.5\"></circle></g><g id=\"Node-7\" transform=\"translate(146.191,164.026)\"><circle r=\"3.5\"></circle></g><g id=\"Node-8\" transform=\"translate(161.984,164.026)\"><circle r=\"3.5\"></circle></g><g id=\"Node-9\" transform=\"translate(177.778,164.026)\"><circle r=\"3.5\"></circle></g><g id=\"Node-10\" transform=\"translate(193.572,164.026)\"><circle r=\"3.5\"></circle></g><g id=\"Node-11\" transform=\"translate(209.365,164.026)\"><circle r=\"3.5\"></circle></g><g id=\"Node-12\" transform=\"translate(59.3251,153.755)\"><circle r=\"3.5\"></circle></g><g id=\"Node-13\" transform=\"translate(47.4798,81.9847)\"><circle r=\"3.5\"></circle></g><g id=\"Node-14\" transform=\"translate(90.9126,156.615)\"><circle r=\"3.5\"></circle></g><g id=\"Node-15\" transform=\"translate(102.758,148.274)\"><circle r=\"3.5\"></circle></g><g id=\"Node-16\" transform=\"translate(138.294,154.622)\"><circle r=\"3.5\"></circle></g><g id=\"Node-17\" transform=\"translate(120.526,135.39)\"><circle r=\"3.5\"></circle></g><g id=\"Node-18\" transform=\"translate(185.675,163.881)\"><circle r=\"3.5\"></circle></g><g id=\"Node-19\" transform=\"translate(197.52,126.956)\"><circle r=\"3.5\"></circle></g><g id=\"Node-20\" transform=\"translate(179.752,125.123)\"><circle r=\"3.5\"></circle></g><g id=\"Node-21\" transform=\"translate(150.139,87.9544)\"><circle r=\"3.5\"></circle></g><g id=\"Node-22\" transform=\"translate(98.8094,53.6783)\"><circle r=\"3.5\"></circle></g></g><g class=\"toytree-TipLabels\" style=\"fill:rgb(14.5%,14.5%,14.5%);fill-opacity:1.0;font-family:Helvetica;font-size:10px;font-weight:300;vertical-align:baseline;white-space:pre;stroke:none\"><g class=\"toytree-TipLabel\" transform=\"translate(35.6345,164.026)rotate(90)\"><text x=\"10.0\" y=\"2.5549999999999997\" style=\"fill:rgb(14.5%,14.5%,14.5%);fill-opacity:1.0\">r0</text></g><g class=\"toytree-TipLabel\" transform=\"translate(51.4282,164.026)rotate(90)\"><text x=\"10.0\" y=\"2.5549999999999997\" style=\"fill:rgb(14.5%,14.5%,14.5%);fill-opacity:1.0\">r1</text></g><g class=\"toytree-TipLabel\" transform=\"translate(67.222,164.026)rotate(90)\"><text x=\"10.0\" y=\"2.5549999999999997\" style=\"fill:rgb(14.5%,14.5%,14.5%);fill-opacity:1.0\">r2</text></g><g class=\"toytree-TipLabel\" transform=\"translate(83.0157,164.026)rotate(90)\"><text x=\"10.0\" y=\"2.5549999999999997\" style=\"fill:rgb(14.5%,14.5%,14.5%);fill-opacity:1.0\">r3</text></g><g class=\"toytree-TipLabel\" transform=\"translate(98.8094,164.026)rotate(90)\"><text x=\"10.0\" y=\"2.5549999999999997\" style=\"fill:rgb(14.5%,14.5%,14.5%);fill-opacity:1.0\">r4</text></g><g class=\"toytree-TipLabel\" transform=\"translate(114.603,164.026)rotate(90)\"><text x=\"10.0\" y=\"2.5549999999999997\" style=\"fill:rgb(14.5%,14.5%,14.5%);fill-opacity:1.0\">r5</text></g><g class=\"toytree-TipLabel\" transform=\"translate(130.397,164.026)rotate(90)\"><text x=\"10.0\" y=\"2.5549999999999997\" style=\"fill:rgb(14.5%,14.5%,14.5%);fill-opacity:1.0\">r6</text></g><g class=\"toytree-TipLabel\" transform=\"translate(146.191,164.026)rotate(90)\"><text x=\"10.0\" y=\"2.5549999999999997\" style=\"fill:rgb(14.5%,14.5%,14.5%);fill-opacity:1.0\">r7</text></g><g class=\"toytree-TipLabel\" transform=\"translate(161.984,164.026)rotate(90)\"><text x=\"10.0\" y=\"2.5549999999999997\" style=\"fill:rgb(14.5%,14.5%,14.5%);fill-opacity:1.0\">r8</text></g><g class=\"toytree-TipLabel\" transform=\"translate(177.778,164.026)rotate(90)\"><text x=\"10.0\" y=\"2.5549999999999997\" style=\"fill:rgb(14.5%,14.5%,14.5%);fill-opacity:1.0\">r9</text></g><g class=\"toytree-TipLabel\" transform=\"translate(193.572,164.026)rotate(90)\"><text x=\"10.0\" y=\"2.5549999999999997\" style=\"fill:rgb(14.5%,14.5%,14.5%);fill-opacity:1.0\">r10</text></g><g class=\"toytree-TipLabel\" transform=\"translate(209.365,164.026)rotate(90)\"><text x=\"10.0\" y=\"2.5549999999999997\" style=\"fill:rgb(14.5%,14.5%,14.5%);fill-opacity:1.0\">r11</text></g></g></g></g></g><g class=\"toyplot-coordinates-Cartesian\" id=\"t3dc12432f6944e2f9df03e356c22a937\"><clipPath id=\"t91dca1c42d5649b9acce9775bdb38ed7\"><rect x=\"245.0\" y=\"40.0\" width=\"205.0\" height=\"170.0\"></rect></clipPath><g clip-path=\"url(#t91dca1c42d5649b9acce9775bdb38ed7)\"><g class=\"toytree-mark-Toytree\" id=\"t8fddb2f78b43451a9e897ae49f1ea2bc\"><g class=\"toytree-Edges\" style=\"stroke:rgb(14.5%,14.5%,14.5%);stroke-opacity:1.0;stroke-linecap:round;stroke-width:2;fill:none\"><path d=\"M 272.5 82.0 L 260.6 164.0\" id=\"13,0\" style=\"\"></path><path d=\"M 284.3 153.8 L 276.4 164.0\" id=\"12,1\" style=\"\"></path><path d=\"M 284.3 153.8 L 292.2 164.0\" id=\"12,2\" style=\"\"></path><path d=\"M 321.8 125.1 L 308.0 164.0\" id=\"16,3\" style=\"\"></path><path d=\"M 335.7 127.0 L 323.8 164.0\" id=\"15,4\" style=\"\"></path><path d=\"M 347.5 163.9 L 339.6 164.0\" id=\"14,5\" style=\"\"></path><path d=\"M 347.5 163.9 L 355.4 164.0\" id=\"14,6\" style=\"\"></path><path d=\"M 379.1 154.6 L 371.2 164.0\" id=\"17,7\" style=\"\"></path><path d=\"M 379.1 154.6 L 387.0 164.0\" id=\"17,8\" style=\"\"></path><path d=\"M 414.6 148.3 L 402.8 164.0\" id=\"19,9\" style=\"\"></path><path d=\"M 426.5 156.6 L 418.6 164.0\" id=\"18,10\" style=\"\"></path><path d=\"M 426.5 156.6 L 434.4 164.0\" id=\"18,11\" style=\"\"></path><path d=\"M 272.5 82.0 L 284.3 153.8\" id=\"13,12\" style=\"\"></path><path d=\"M 315.9 53.7 L 272.5 82.0\" id=\"22,13\" style=\"\"></path><path d=\"M 335.7 127.0 L 347.5 163.9\" id=\"15,14\" style=\"\"></path><path d=\"M 321.8 125.1 L 335.7 127.0\" id=\"16,15\" style=\"\"></path><path d=\"M 359.3 88.0 L 321.8 125.1\" id=\"21,16\" style=\"\"></path><path d=\"M 396.9 135.4 L 379.1 154.6\" id=\"20,17\" style=\"\"></path><path d=\"M 414.6 148.3 L 426.5 156.6\" id=\"19,18\" style=\"\"></path><path d=\"M 396.9 135.4 L 414.6 148.3\" id=\"20,19\" style=\"\"></path><path d=\"M 359.3 88.0 L 396.9 135.4\" id=\"21,20\" style=\"\"></path><path d=\"M 315.9 53.7 L 359.3 88.0\" id=\"22,21\" style=\"\"></path></g><g class=\"toytree-AdmixEdges\" style=\"fill:rgb(0.0%,0.0%,0.0%);fill-opacity:0.0;stroke:rgb(90.6%,54.1%,76.5%);stroke-opacity:0.6;font-size:14px;stroke-linecap:round;stroke-width:5\"></g><g class=\"toytree-Nodes\" style=\"fill:rgb(40.0%,76.1%,64.7%);fill-opacity:1.0;stroke:rgb(14.5%,14.5%,14.5%);stroke-opacity:1.0;stroke-width:1.5\"><g id=\"Node-0\" transform=\"translate(260.635,164.026)\"><circle r=\"3.5\"></circle></g><g id=\"Node-1\" transform=\"translate(276.428,164.026)\"><circle r=\"3.5\"></circle></g><g id=\"Node-2\" transform=\"translate(292.222,164.026)\"><circle r=\"3.5\"></circle></g><g id=\"Node-3\" transform=\"translate(308.016,164.026)\"><circle r=\"3.5\"></circle></g><g id=\"Node-4\" transform=\"translate(323.809,164.026)\"><circle r=\"3.5\"></circle></g><g id=\"Node-5\" transform=\"translate(339.603,164.026)\"><circle r=\"3.5\"></circle></g><g id=\"Node-6\" transform=\"translate(355.397,164.026)\"><circle r=\"3.5\"></circle></g><g id=\"Node-7\" transform=\"translate(371.191,164.026)\"><circle r=\"3.5\"></circle></g><g id=\"Node-8\" transform=\"translate(386.984,164.026)\"><circle r=\"3.5\"></circle></g><g id=\"Node-9\" transform=\"translate(402.778,164.026)\"><circle r=\"3.5\"></circle></g><g id=\"Node-10\" transform=\"translate(418.572,164.026)\"><circle r=\"3.5\"></circle></g><g id=\"Node-11\" transform=\"translate(434.365,164.026)\"><circle r=\"3.5\"></circle></g><g id=\"Node-12\" transform=\"translate(284.325,153.755)\"><circle r=\"3.5\"></circle></g><g id=\"Node-13\" transform=\"translate(272.48,81.9847)\"><circle r=\"3.5\"></circle></g><g id=\"Node-14\" transform=\"translate(347.5,163.881)\"><circle r=\"3.5\"></circle></g><g id=\"Node-15\" transform=\"translate(335.655,126.956)\"><circle r=\"3.5\"></circle></g><g id=\"Node-16\" transform=\"translate(321.835,125.123)\"><circle r=\"3.5\"></circle></g><g id=\"Node-17\" transform=\"translate(379.087,154.622)\"><circle r=\"3.5\"></circle></g><g id=\"Node-18\" transform=\"translate(426.469,156.615)\"><circle r=\"3.5\"></circle></g><g id=\"Node-19\" transform=\"translate(414.623,148.274)\"><circle r=\"3.5\"></circle></g><g id=\"Node-20\" transform=\"translate(396.855,135.39)\"><circle r=\"3.5\"></circle></g><g id=\"Node-21\" transform=\"translate(359.345,87.9544)\"><circle r=\"3.5\"></circle></g><g id=\"Node-22\" transform=\"translate(315.913,53.6783)\"><circle r=\"3.5\"></circle></g></g><g class=\"toytree-TipLabels\" style=\"fill:rgb(14.5%,14.5%,14.5%);fill-opacity:1.0;font-family:Helvetica;font-size:10px;font-weight:300;vertical-align:baseline;white-space:pre;stroke:none\"><g class=\"toytree-TipLabel\" transform=\"translate(260.635,164.026)rotate(90)\"><text x=\"10.0\" y=\"2.5549999999999997\" style=\"fill:rgb(14.5%,14.5%,14.5%);fill-opacity:1.0\">r0</text></g><g class=\"toytree-TipLabel\" transform=\"translate(276.428,164.026)rotate(90)\"><text x=\"10.0\" y=\"2.5549999999999997\" style=\"fill:rgb(14.5%,14.5%,14.5%);fill-opacity:1.0\">r1</text></g><g class=\"toytree-TipLabel\" transform=\"translate(292.222,164.026)rotate(90)\"><text x=\"10.0\" y=\"2.5549999999999997\" style=\"fill:rgb(14.5%,14.5%,14.5%);fill-opacity:1.0\">r2</text></g><g class=\"toytree-TipLabel\" transform=\"translate(308.016,164.026)rotate(90)\"><text x=\"10.0\" y=\"2.5549999999999997\" style=\"fill:rgb(14.5%,14.5%,14.5%);fill-opacity:1.0\">r8</text></g><g class=\"toytree-TipLabel\" transform=\"translate(323.809,164.026)rotate(90)\"><text x=\"10.0\" y=\"2.5549999999999997\" style=\"fill:rgb(14.5%,14.5%,14.5%);fill-opacity:1.0\">r11</text></g><g class=\"toytree-TipLabel\" transform=\"translate(339.603,164.026)rotate(90)\"><text x=\"10.0\" y=\"2.5549999999999997\" style=\"fill:rgb(14.5%,14.5%,14.5%);fill-opacity:1.0\">r9</text></g><g class=\"toytree-TipLabel\" transform=\"translate(355.397,164.026)rotate(90)\"><text x=\"10.0\" y=\"2.5549999999999997\" style=\"fill:rgb(14.5%,14.5%,14.5%);fill-opacity:1.0\">r10</text></g><g class=\"toytree-TipLabel\" transform=\"translate(371.191,164.026)rotate(90)\"><text x=\"10.0\" y=\"2.5549999999999997\" style=\"fill:rgb(14.5%,14.5%,14.5%);fill-opacity:1.0\">r6</text></g><g class=\"toytree-TipLabel\" transform=\"translate(386.984,164.026)rotate(90)\"><text x=\"10.0\" y=\"2.5549999999999997\" style=\"fill:rgb(14.5%,14.5%,14.5%);fill-opacity:1.0\">r7</text></g><g class=\"toytree-TipLabel\" transform=\"translate(402.778,164.026)rotate(90)\"><text x=\"10.0\" y=\"2.5549999999999997\" style=\"fill:rgb(14.5%,14.5%,14.5%);fill-opacity:1.0\">r5</text></g><g class=\"toytree-TipLabel\" transform=\"translate(418.572,164.026)rotate(90)\"><text x=\"10.0\" y=\"2.5549999999999997\" style=\"fill:rgb(14.5%,14.5%,14.5%);fill-opacity:1.0\">r3</text></g><g class=\"toytree-TipLabel\" transform=\"translate(434.365,164.026)rotate(90)\"><text x=\"10.0\" y=\"2.5549999999999997\" style=\"fill:rgb(14.5%,14.5%,14.5%);fill-opacity:1.0\">r4</text></g></g></g></g></g><g class=\"toyplot-coordinates-Cartesian\" id=\"t87c75e29722b4eca8554ab11e73a0b4e\"><clipPath id=\"t6f5283969f924f61a511994b90afa46a\"><rect x=\"470.0\" y=\"40.0\" width=\"205.0\" height=\"170.0\"></rect></clipPath><g clip-path=\"url(#t6f5283969f924f61a511994b90afa46a)\"><g class=\"toytree-mark-Toytree\" id=\"ta9565d69ab0f4409a3e5899de250f249\"><g class=\"toytree-Edges\" style=\"stroke:rgb(14.5%,14.5%,14.5%);stroke-opacity:1.0;stroke-linecap:round;stroke-width:2;fill:none\"><path d=\"M 493.5 156.6 L 485.6 164.0\" id=\"12,0\" style=\"\"></path><path d=\"M 493.5 156.6 L 501.4 164.0\" id=\"12,1\" style=\"\"></path><path d=\"M 505.4 148.3 L 517.2 164.0\" id=\"13,2\" style=\"\"></path><path d=\"M 540.9 154.6 L 533.0 164.0\" id=\"14,3\" style=\"\"></path><path d=\"M 540.9 154.6 L 548.8 164.0\" id=\"14,4\" style=\"\"></path><path d=\"M 572.5 163.9 L 564.6 164.0\" id=\"16,5\" style=\"\"></path><path d=\"M 572.5 163.9 L 580.4 164.0\" id=\"16,6\" style=\"\"></path><path d=\"M 584.3 127.0 L 596.2 164.0\" id=\"17,7\" style=\"\"></path><path d=\"M 598.2 125.1 L 612.0 164.0\" id=\"18,8\" style=\"\"></path><path d=\"M 635.7 153.8 L 627.8 164.0\" id=\"20,9\" style=\"\"></path><path d=\"M 635.7 153.8 L 643.6 164.0\" id=\"20,10\" style=\"\"></path><path d=\"M 647.5 82.0 L 659.4 164.0\" id=\"21,11\" style=\"\"></path><path d=\"M 505.4 148.3 L 493.5 156.6\" id=\"13,12\" style=\"\"></path><path d=\"M 523.1 135.4 L 505.4 148.3\" id=\"15,13\" style=\"\"></path><path d=\"M 523.1 135.4 L 540.9 154.6\" id=\"15,14\" style=\"\"></path><path d=\"M 560.7 88.0 L 523.1 135.4\" id=\"19,15\" style=\"\"></path><path d=\"M 584.3 127.0 L 572.5 163.9\" id=\"17,16\" style=\"\"></path><path d=\"M 598.2 125.1 L 584.3 127.0\" id=\"18,17\" style=\"\"></path><path d=\"M 560.7 88.0 L 598.2 125.1\" id=\"19,18\" style=\"\"></path><path d=\"M 604.1 53.7 L 560.7 88.0\" id=\"22,19\" style=\"\"></path><path d=\"M 647.5 82.0 L 635.7 153.8\" id=\"21,20\" style=\"\"></path><path d=\"M 604.1 53.7 L 647.5 82.0\" id=\"22,21\" style=\"\"></path></g><g class=\"toytree-AdmixEdges\" style=\"fill:rgb(0.0%,0.0%,0.0%);fill-opacity:0.0;stroke:rgb(90.6%,54.1%,76.5%);stroke-opacity:0.6;font-size:14px;stroke-linecap:round;stroke-width:5\"></g><g class=\"toytree-Nodes\" style=\"fill:rgb(40.0%,76.1%,64.7%);fill-opacity:1.0;stroke:rgb(14.5%,14.5%,14.5%);stroke-opacity:1.0;stroke-width:1.5\"><g id=\"Node-0\" transform=\"translate(485.635,164.026)\"><circle r=\"3.5\"></circle></g><g id=\"Node-1\" transform=\"translate(501.428,164.026)\"><circle r=\"3.5\"></circle></g><g id=\"Node-2\" transform=\"translate(517.222,164.026)\"><circle r=\"3.5\"></circle></g><g id=\"Node-3\" transform=\"translate(533.016,164.026)\"><circle r=\"3.5\"></circle></g><g id=\"Node-4\" transform=\"translate(548.809,164.026)\"><circle r=\"3.5\"></circle></g><g id=\"Node-5\" transform=\"translate(564.603,164.026)\"><circle r=\"3.5\"></circle></g><g id=\"Node-6\" transform=\"translate(580.397,164.026)\"><circle r=\"3.5\"></circle></g><g id=\"Node-7\" transform=\"translate(596.191,164.026)\"><circle r=\"3.5\"></circle></g><g id=\"Node-8\" transform=\"translate(611.984,164.026)\"><circle r=\"3.5\"></circle></g><g id=\"Node-9\" transform=\"translate(627.778,164.026)\"><circle r=\"3.5\"></circle></g><g id=\"Node-10\" transform=\"translate(643.572,164.026)\"><circle r=\"3.5\"></circle></g><g id=\"Node-11\" transform=\"translate(659.365,164.026)\"><circle r=\"3.5\"></circle></g><g id=\"Node-12\" transform=\"translate(493.531,156.615)\"><circle r=\"3.5\"></circle></g><g id=\"Node-13\" transform=\"translate(505.377,148.274)\"><circle r=\"3.5\"></circle></g><g id=\"Node-14\" transform=\"translate(540.913,154.622)\"><circle r=\"3.5\"></circle></g><g id=\"Node-15\" transform=\"translate(523.145,135.39)\"><circle r=\"3.5\"></circle></g><g id=\"Node-16\" transform=\"translate(572.5,163.881)\"><circle r=\"3.5\"></circle></g><g id=\"Node-17\" transform=\"translate(584.345,126.956)\"><circle r=\"3.5\"></circle></g><g id=\"Node-18\" transform=\"translate(598.165,125.123)\"><circle r=\"3.5\"></circle></g><g id=\"Node-19\" transform=\"translate(560.655,87.9544)\"><circle r=\"3.5\"></circle></g><g id=\"Node-20\" transform=\"translate(635.675,153.755)\"><circle r=\"3.5\"></circle></g><g id=\"Node-21\" transform=\"translate(647.52,81.9847)\"><circle r=\"3.5\"></circle></g><g id=\"Node-22\" transform=\"translate(604.087,53.6783)\"><circle r=\"3.5\"></circle></g></g><g class=\"toytree-TipLabels\" style=\"fill:rgb(14.5%,14.5%,14.5%);fill-opacity:1.0;font-family:Helvetica;font-size:10px;font-weight:300;vertical-align:baseline;white-space:pre;stroke:none\"><g class=\"toytree-TipLabel\" transform=\"translate(485.635,164.026)rotate(90)\"><text x=\"10.0\" y=\"2.5549999999999997\" style=\"fill:rgb(14.5%,14.5%,14.5%);fill-opacity:1.0\">r3</text></g><g class=\"toytree-TipLabel\" transform=\"translate(501.428,164.026)rotate(90)\"><text x=\"10.0\" y=\"2.5549999999999997\" style=\"fill:rgb(14.5%,14.5%,14.5%);fill-opacity:1.0\">r4</text></g><g class=\"toytree-TipLabel\" transform=\"translate(517.222,164.026)rotate(90)\"><text x=\"10.0\" y=\"2.5549999999999997\" style=\"fill:rgb(14.5%,14.5%,14.5%);fill-opacity:1.0\">r5</text></g><g class=\"toytree-TipLabel\" transform=\"translate(533.016,164.026)rotate(90)\"><text x=\"10.0\" y=\"2.5549999999999997\" style=\"fill:rgb(14.5%,14.5%,14.5%);fill-opacity:1.0\">r6</text></g><g class=\"toytree-TipLabel\" transform=\"translate(548.809,164.026)rotate(90)\"><text x=\"10.0\" y=\"2.5549999999999997\" style=\"fill:rgb(14.5%,14.5%,14.5%);fill-opacity:1.0\">r7</text></g><g class=\"toytree-TipLabel\" transform=\"translate(564.603,164.026)rotate(90)\"><text x=\"10.0\" y=\"2.5549999999999997\" style=\"fill:rgb(14.5%,14.5%,14.5%);fill-opacity:1.0\">r9</text></g><g class=\"toytree-TipLabel\" transform=\"translate(580.397,164.026)rotate(90)\"><text x=\"10.0\" y=\"2.5549999999999997\" style=\"fill:rgb(14.5%,14.5%,14.5%);fill-opacity:1.0\">r10</text></g><g class=\"toytree-TipLabel\" transform=\"translate(596.191,164.026)rotate(90)\"><text x=\"10.0\" y=\"2.5549999999999997\" style=\"fill:rgb(14.5%,14.5%,14.5%);fill-opacity:1.0\">r11</text></g><g class=\"toytree-TipLabel\" transform=\"translate(611.984,164.026)rotate(90)\"><text x=\"10.0\" y=\"2.5549999999999997\" style=\"fill:rgb(14.5%,14.5%,14.5%);fill-opacity:1.0\">r8</text></g><g class=\"toytree-TipLabel\" transform=\"translate(627.778,164.026)rotate(90)\"><text x=\"10.0\" y=\"2.5549999999999997\" style=\"fill:rgb(14.5%,14.5%,14.5%);fill-opacity:1.0\">r1</text></g><g class=\"toytree-TipLabel\" transform=\"translate(643.572,164.026)rotate(90)\"><text x=\"10.0\" y=\"2.5549999999999997\" style=\"fill:rgb(14.5%,14.5%,14.5%);fill-opacity:1.0\">r2</text></g><g class=\"toytree-TipLabel\" transform=\"translate(659.365,164.026)rotate(90)\"><text x=\"10.0\" y=\"2.5549999999999997\" style=\"fill:rgb(14.5%,14.5%,14.5%);fill-opacity:1.0\">r0</text></g></g></g></g></g></svg><div class=\"toyplot-behavior\"><script>(function()\n",
       "{\n",
       "var modules={};\n",
       "})();</script></div></div>"
      ]
     },
     "metadata": {},
     "output_type": "display_data"
    }
   ],
   "source": [
    "# generate random tree with 12 tips\n",
    "tree = toytree.rtree.bdtree(ntips=12, seed=123)\n",
    "tree1 = tree.ladderize(direction=0)\n",
    "tree2 = tree.ladderize(direction=1)\n",
    "toytree.mtree([tree, tree1, tree2]).draw(ts='c');"
   ]
  }
 ],
 "metadata": {
  "kernelspec": {
   "display_name": "Python 3 (ipykernel)",
   "language": "python",
   "name": "python3"
  },
  "language_info": {
   "codemirror_mode": {
    "name": "ipython",
    "version": 3
   },
   "file_extension": ".py",
   "mimetype": "text/x-python",
   "name": "python",
   "nbconvert_exporter": "python",
   "pygments_lexer": "ipython3",
   "version": "3.12.4"
  }
 },
 "nbformat": 4,
 "nbformat_minor": 4
}
