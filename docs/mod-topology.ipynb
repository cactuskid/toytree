{
 "cells": [
  {
   "cell_type": "markdown",
   "metadata": {},
   "source": [
    "# Modifying tree topologies with `mod`  \n",
    "\n",
    "The submodule `toytree.mod` includes many options for efficiently modifying a tree. In this section we describe methods for modifying the topology -- i.e., the relationships among nodes. While it is possible to accomplish this by editing attributes of the Node objects themselves, such as `.up` and `.children`, this can be error-prone if you are not highly experienced. Instead, the we provide a suite of methods for common topology manipulations that are intended to work efficiently and to retain other information such as node and edge features correctly. You can find these methods listed in the table of contents to the right. Below we describe examples of each of these methods."
   ]
  },
  {
   "cell_type": "code",
   "execution_count": 81,
   "metadata": {},
   "outputs": [],
   "source": [
    "import toytree"
   ]
  },
  {
   "cell_type": "code",
   "execution_count": 82,
   "metadata": {},
   "outputs": [
    {
     "data": {
      "text/html": [
       "<div class=\"toyplot\" id=\"tb1109396410e4ca4b5634f6debca83eb\" style=\"text-align:center\"><svg class=\"toyplot-canvas-Canvas\" xmlns:toyplot=\"http://www.sandia.gov/toyplot\" xmlns:xlink=\"http://www.w3.org/1999/xlink\" xmlns=\"http://www.w3.org/2000/svg\" width=\"300.0px\" height=\"275.0px\" viewBox=\"0 0 300.0 275.0\" preserveAspectRatio=\"xMidYMid meet\" style=\"background-color:transparent;border-color:#292724;border-style:none;border-width:1.0;fill:rgb(16.1%,15.3%,14.1%);fill-opacity:1.0;font-family:Helvetica;font-size:12px;opacity:1.0;stroke:rgb(16.1%,15.3%,14.1%);stroke-opacity:1.0;stroke-width:1.0\" id=\"td58b7502fb2449ffb93c04ff7761ad82\"><g class=\"toyplot-coordinates-Cartesian\" id=\"t9513e0f273ff4e4f9a6b72d34414e65a\"><clipPath id=\"ta30927d62844470aa1edbd1ec37ea1e9\"><rect x=\"35.0\" y=\"35.0\" width=\"230.0\" height=\"205.0\"></rect></clipPath><g clip-path=\"url(#ta30927d62844470aa1edbd1ec37ea1e9)\"><g class=\"toytree-mark-Toytree\" id=\"t5f9620ff783e4ee7ae05ade963b392f5\"><g class=\"toytree-Edges\" style=\"stroke:rgb(14.5%,14.5%,14.5%);stroke-opacity:1.0;stroke-linecap:round;stroke-width:2.0;fill:none\"><path d=\"M 156.5 202.2 L 156.5 218.3 L 209.3 218.3\" id=\"6,0\" style=\"\"></path><path d=\"M 156.5 202.2 L 156.5 186.0 L 209.3 186.0\" id=\"6,1\" style=\"\"></path><path d=\"M 156.5 137.5 L 156.5 153.7 L 209.3 153.7\" id=\"7,2\" style=\"\"></path><path d=\"M 156.5 137.5 L 156.5 121.3 L 209.3 121.3\" id=\"7,3\" style=\"\"></path><path d=\"M 103.6 72.8 L 103.6 89.0 L 209.3 89.0\" id=\"9,4\" style=\"\"></path><path d=\"M 103.6 72.8 L 103.6 56.7 L 209.3 56.7\" id=\"9,5\" style=\"\"></path><path d=\"M 103.6 169.8 L 103.6 202.2 L 156.5 202.2\" id=\"8,6\" style=\"\"></path><path d=\"M 103.6 169.8 L 103.6 137.5 L 156.5 137.5\" id=\"8,7\" style=\"\"></path><path d=\"M 50.8 121.3 L 50.8 169.8 L 103.6 169.8\" id=\"10,8\" style=\"\"></path><path d=\"M 50.8 121.3 L 50.8 72.8 L 103.6 72.8\" id=\"10,9\" style=\"\"></path></g><g class=\"toytree-AdmixEdges\" style=\"fill:rgb(0.0%,0.0%,0.0%);fill-opacity:0.0;stroke:rgb(90.6%,54.1%,76.5%);stroke-opacity:0.6;font-size:14px;stroke-linecap:round;stroke-width:5\"></g><g class=\"toytree-Nodes\" style=\"fill:rgb(40.0%,76.1%,64.7%);fill-opacity:1.0;stroke:rgb(14.9%,14.9%,14.9%);stroke-opacity:1.0;stroke-width:1.5\"></g><g class=\"toytree-TipLabels\" style=\"fill:rgb(14.5%,14.5%,14.5%);fill-opacity:1.0;font-family:Helvetica;font-size:12px;font-weight:300;vertical-align:baseline;white-space:pre;stroke:none\"><g class=\"toytree-TipLabel\" transform=\"translate(209.311,218.347)\"><text x=\"15.0\" y=\"3.066\" style=\"fill:rgb(14.5%,14.5%,14.5%);fill-opacity:1.0\">r0</text></g><g class=\"toytree-TipLabel\" transform=\"translate(209.311,186.008)\"><text x=\"15.0\" y=\"3.066\" style=\"fill:rgb(14.5%,14.5%,14.5%);fill-opacity:1.0\">r1</text></g><g class=\"toytree-TipLabel\" transform=\"translate(209.311,153.669)\"><text x=\"15.0\" y=\"3.066\" style=\"fill:rgb(14.5%,14.5%,14.5%);fill-opacity:1.0\">r2</text></g><g class=\"toytree-TipLabel\" transform=\"translate(209.311,121.331)\"><text x=\"15.0\" y=\"3.066\" style=\"fill:rgb(14.5%,14.5%,14.5%);fill-opacity:1.0\">r3</text></g><g class=\"toytree-TipLabel\" transform=\"translate(209.311,88.9916)\"><text x=\"15.0\" y=\"3.066\" style=\"fill:rgb(14.5%,14.5%,14.5%);fill-opacity:1.0\">r4</text></g><g class=\"toytree-TipLabel\" transform=\"translate(209.311,56.6526)\"><text x=\"15.0\" y=\"3.066\" style=\"fill:rgb(14.5%,14.5%,14.5%);fill-opacity:1.0\">r5</text></g></g></g></g></g></svg><div class=\"toyplot-behavior\"><script>(function()\n",
       "{\n",
       "var modules={};\n",
       "})();</script></div></div>"
      ]
     },
     "metadata": {},
     "output_type": "display_data"
    }
   ],
   "source": [
    "# example tree for demonstrations\n",
    "tree = toytree.rtree.unittree(ntips=6, seed=123)\n",
    "tree.draw();"
   ]
  },
  {
   "cell_type": "markdown",
   "metadata": {},
   "source": [
    "### Module-level versus Object-level APIs\n",
    "The methods in `toytree.mod` can also be called directly from ToyTree objects using the object-level API. "
   ]
  },
  {
   "cell_type": "code",
   "execution_count": 10,
   "metadata": {},
   "outputs": [],
   "source": [
    "# module level API takes tree as the first arg\n",
    "rtree = toytree.mod.root(tree, \"r4\")\n",
    "\n",
    "# object-level API knows the tree is the object to operate on \n",
    "rtree = tree.mod.root(\"r4\")"
   ]
  },
  {
   "attachments": {},
   "cell_type": "markdown",
   "metadata": {},
   "source": [
    "## Node-level modifications\n",
    "\n",
    "### add_internal_node\n",
    "Splits a branch to insert a new internal Node."
   ]
  },
  {
   "cell_type": "code",
   "execution_count": 43,
   "metadata": {},
   "outputs": [
    {
     "data": {
      "text/html": [
       "<div class=\"toyplot\" id=\"t7a599cb3f22f44a6b593d0def75fd2ae\" style=\"text-align:center\"><svg class=\"toyplot-canvas-Canvas\" xmlns:toyplot=\"http://www.sandia.gov/toyplot\" xmlns:xlink=\"http://www.w3.org/1999/xlink\" xmlns=\"http://www.w3.org/2000/svg\" width=\"450.0px\" height=\"250.0px\" viewBox=\"0 0 450.0 250.0\" preserveAspectRatio=\"xMidYMid meet\" style=\"background-color:transparent;border-color:#292724;border-style:none;border-width:1.0;fill:rgb(16.1%,15.3%,14.1%);fill-opacity:1.0;font-family:Helvetica;font-size:12px;opacity:1.0;stroke:rgb(16.1%,15.3%,14.1%);stroke-opacity:1.0;stroke-width:1.0\" id=\"t5dff86fe336e4141883d0c8fa4302ac8\"><g class=\"toyplot-coordinates-Cartesian\" id=\"t61a2564963e440d2b21784c140abce74\"><clipPath id=\"t4f79607b0a2c4861af672bdc52019382\"><rect x=\"20.0\" y=\"40.0\" width=\"205.0\" height=\"170.0\"></rect></clipPath><g clip-path=\"url(#t4f79607b0a2c4861af672bdc52019382)\"><g class=\"toytree-mark-Toytree\" id=\"t270d0a046041454781e7a20079a55b86\"><g class=\"toytree-Edges\" style=\"stroke:rgb(14.5%,14.5%,14.5%);stroke-opacity:1.0;stroke-linecap:round;stroke-width:2.0;fill:none\"><path d=\"M 135.6 178.6 L 135.6 192.0 L 184.8 192.0\" id=\"6,0\" style=\"\"></path><path d=\"M 135.6 178.6 L 135.6 165.2 L 184.8 165.2\" id=\"6,1\" style=\"\"></path><path d=\"M 135.6 125.0 L 135.6 138.4 L 184.8 138.4\" id=\"7,2\" style=\"\"></path><path d=\"M 135.6 125.0 L 135.6 111.6 L 184.8 111.6\" id=\"7,3\" style=\"\"></path><path d=\"M 86.4 71.4 L 86.4 84.8 L 184.8 84.8\" id=\"9,4\" style=\"\"></path><path d=\"M 86.4 71.4 L 86.4 58.0 L 184.8 58.0\" id=\"9,5\" style=\"\"></path><path d=\"M 86.4 151.8 L 86.4 178.6 L 135.6 178.6\" id=\"8,6\" style=\"\"></path><path d=\"M 86.4 151.8 L 86.4 125.0 L 135.6 125.0\" id=\"8,7\" style=\"\"></path><path d=\"M 37.2 111.6 L 37.2 151.8 L 86.4 151.8\" id=\"10,8\" style=\"\"></path><path d=\"M 37.2 111.6 L 37.2 71.4 L 86.4 71.4\" id=\"10,9\" style=\"\"></path></g><g class=\"toytree-AdmixEdges\" style=\"fill:rgb(0.0%,0.0%,0.0%);fill-opacity:0.0;stroke:rgb(90.6%,54.1%,76.5%);stroke-opacity:0.6;font-size:14px;stroke-linecap:round;stroke-width:5\"></g><g class=\"toytree-Nodes\" style=\"fill:rgb(40.0%,76.1%,64.7%);fill-opacity:1.0;stroke:rgb(14.9%,14.9%,14.9%);stroke-opacity:1.0;stroke-width:1.5\"><g id=\"Node-6\" transform=\"translate(135.625,178.571)\"><circle r=\"7.5\"></circle></g><g id=\"Node-7\" transform=\"translate(135.625,125)\"><circle r=\"7.5\"></circle></g><g id=\"Node-8\" transform=\"translate(86.4041,151.786)\"><circle r=\"7.5\"></circle></g><g id=\"Node-9\" transform=\"translate(86.4041,71.4286)\"><circle r=\"7.5\"></circle></g><g id=\"Node-10\" transform=\"translate(37.1835,111.607)\"><circle r=\"7.5\"></circle></g></g><g class=\"toytree-NodeLabels\" style=\"font-family:Helvetica;font-size:9px;font-weight:300;vertical-align:baseline;white-space:pre;stroke:none\"><g class=\"toytree-NodeLabel\" transform=\"translate(135.625,178.571)\"></g><g class=\"toytree-NodeLabel\" transform=\"translate(135.625,125)\"></g><g class=\"toytree-NodeLabel\" transform=\"translate(86.4041,151.786)\"></g><g class=\"toytree-NodeLabel\" transform=\"translate(86.4041,71.4286)\"></g><g class=\"toytree-NodeLabel\" transform=\"translate(37.1835,111.607)\"></g></g><g class=\"toytree-TipLabels\" style=\"fill:rgb(14.5%,14.5%,14.5%);fill-opacity:1.0;font-family:Helvetica;font-size:10px;font-weight:300;vertical-align:baseline;white-space:pre;stroke:none\"><g class=\"toytree-TipLabel\" transform=\"translate(184.845,191.964)\"><text x=\"10.0\" y=\"2.5549999999999997\" style=\"fill:rgb(14.5%,14.5%,14.5%);fill-opacity:1.0\">r0</text></g><g class=\"toytree-TipLabel\" transform=\"translate(184.845,165.179)\"><text x=\"10.0\" y=\"2.5549999999999997\" style=\"fill:rgb(14.5%,14.5%,14.5%);fill-opacity:1.0\">r1</text></g><g class=\"toytree-TipLabel\" transform=\"translate(184.845,138.393)\"><text x=\"10.0\" y=\"2.5549999999999997\" style=\"fill:rgb(14.5%,14.5%,14.5%);fill-opacity:1.0\">r2</text></g><g class=\"toytree-TipLabel\" transform=\"translate(184.845,111.607)\"><text x=\"10.0\" y=\"2.5549999999999997\" style=\"fill:rgb(14.5%,14.5%,14.5%);fill-opacity:1.0\">r3</text></g><g class=\"toytree-TipLabel\" transform=\"translate(184.845,84.8214)\"><text x=\"10.0\" y=\"2.5549999999999997\" style=\"fill:rgb(14.5%,14.5%,14.5%);fill-opacity:1.0\">r4</text></g><g class=\"toytree-TipLabel\" transform=\"translate(184.845,58.0357)\"><text x=\"10.0\" y=\"2.5549999999999997\" style=\"fill:rgb(14.5%,14.5%,14.5%);fill-opacity:1.0\">r5</text></g></g></g></g></g><g class=\"toyplot-coordinates-Cartesian\" id=\"t20ebdfe921eb4710b3a2cd1ce96a7cc8\"><clipPath id=\"tbeae5d69d4ce4291a734923a61851b1d\"><rect x=\"245.0\" y=\"40.0\" width=\"205.0\" height=\"170.0\"></rect></clipPath><g clip-path=\"url(#tbeae5d69d4ce4291a734923a61851b1d)\"><g class=\"toytree-mark-Toytree\" id=\"tdab47a9cbdaf4ef1ba27f99e858c651b\"><g class=\"toytree-Edges\" style=\"stroke:rgb(14.5%,14.5%,14.5%);stroke-opacity:1.0;stroke-linecap:round;stroke-width:2.0;fill:none\"><path d=\"M 360.6 178.6 L 360.6 192.0 L 409.8 192.0\" id=\"6,0\" style=\"\"></path><path d=\"M 360.6 178.6 L 360.6 165.2 L 409.8 165.2\" id=\"6,1\" style=\"\"></path><path d=\"M 360.6 125.0 L 360.6 138.4 L 409.8 138.4\" id=\"8,2\" style=\"\"></path><path d=\"M 395.1 111.6 L 395.1 111.6 L 409.8 111.6\" id=\"7,3\" style=\"\"></path><path d=\"M 311.4 71.4 L 311.4 84.8 L 409.8 84.8\" id=\"10,4\" style=\"\"></path><path d=\"M 311.4 71.4 L 311.4 58.0 L 409.8 58.0\" id=\"10,5\" style=\"\"></path><path d=\"M 311.4 151.8 L 311.4 178.6 L 360.6 178.6\" id=\"9,6\" style=\"\"></path><path d=\"M 360.6 125.0 L 360.6 111.6 L 395.1 111.6\" id=\"8,7\" style=\"\"></path><path d=\"M 311.4 151.8 L 311.4 125.0 L 360.6 125.0\" id=\"9,8\" style=\"\"></path><path d=\"M 262.2 111.6 L 262.2 151.8 L 311.4 151.8\" id=\"11,9\" style=\"\"></path><path d=\"M 262.2 111.6 L 262.2 71.4 L 311.4 71.4\" id=\"11,10\" style=\"\"></path></g><g class=\"toytree-AdmixEdges\" style=\"fill:rgb(0.0%,0.0%,0.0%);fill-opacity:0.0;stroke:rgb(90.6%,54.1%,76.5%);stroke-opacity:0.6;font-size:14px;stroke-linecap:round;stroke-width:5\"></g><g class=\"toytree-Nodes\" style=\"fill:rgb(40.0%,76.1%,64.7%);fill-opacity:1.0;stroke:rgb(14.9%,14.9%,14.9%);stroke-opacity:1.0;stroke-width:1.5\"><g id=\"Node-6\" transform=\"translate(360.625,178.571)\"><circle r=\"7.5\"></circle></g><g id=\"Node-7\" transform=\"translate(395.079,111.607)\"><circle r=\"7.5\"></circle></g><g id=\"Node-8\" transform=\"translate(360.625,125)\"><circle r=\"7.5\"></circle></g><g id=\"Node-9\" transform=\"translate(311.404,151.786)\"><circle r=\"7.5\"></circle></g><g id=\"Node-10\" transform=\"translate(311.404,71.4286)\"><circle r=\"7.5\"></circle></g><g id=\"Node-11\" transform=\"translate(262.184,111.607)\"><circle r=\"7.5\"></circle></g></g><g class=\"toytree-NodeLabels\" style=\"font-family:Helvetica;font-size:9px;font-weight:300;vertical-align:baseline;white-space:pre;stroke:none\"><g class=\"toytree-NodeLabel\" transform=\"translate(360.625,178.571)\"></g><g class=\"toytree-NodeLabel\" transform=\"translate(395.079,111.607)\"><text x=\"-3.0015\" y=\"2.2995\" style=\"fill:rgb(14.5%,14.5%,14.5%);fill-opacity:1.0\">X</text></g><g class=\"toytree-NodeLabel\" transform=\"translate(360.625,125)\"></g><g class=\"toytree-NodeLabel\" transform=\"translate(311.404,151.786)\"></g><g class=\"toytree-NodeLabel\" transform=\"translate(311.404,71.4286)\"></g><g class=\"toytree-NodeLabel\" transform=\"translate(262.184,111.607)\"></g></g><g class=\"toytree-TipLabels\" style=\"fill:rgb(14.5%,14.5%,14.5%);fill-opacity:1.0;font-family:Helvetica;font-size:10px;font-weight:300;vertical-align:baseline;white-space:pre;stroke:none\"><g class=\"toytree-TipLabel\" transform=\"translate(409.845,191.964)\"><text x=\"10.0\" y=\"2.5549999999999997\" style=\"fill:rgb(14.5%,14.5%,14.5%);fill-opacity:1.0\">r0</text></g><g class=\"toytree-TipLabel\" transform=\"translate(409.845,165.179)\"><text x=\"10.0\" y=\"2.5549999999999997\" style=\"fill:rgb(14.5%,14.5%,14.5%);fill-opacity:1.0\">r1</text></g><g class=\"toytree-TipLabel\" transform=\"translate(409.845,138.393)\"><text x=\"10.0\" y=\"2.5549999999999997\" style=\"fill:rgb(14.5%,14.5%,14.5%);fill-opacity:1.0\">r3</text></g><g class=\"toytree-TipLabel\" transform=\"translate(409.845,111.607)\"><text x=\"10.0\" y=\"2.5549999999999997\" style=\"fill:rgb(14.5%,14.5%,14.5%);fill-opacity:1.0\">r2</text></g><g class=\"toytree-TipLabel\" transform=\"translate(409.845,84.8214)\"><text x=\"10.0\" y=\"2.5549999999999997\" style=\"fill:rgb(14.5%,14.5%,14.5%);fill-opacity:1.0\">r4</text></g><g class=\"toytree-TipLabel\" transform=\"translate(409.845,58.0357)\"><text x=\"10.0\" y=\"2.5549999999999997\" style=\"fill:rgb(14.5%,14.5%,14.5%);fill-opacity:1.0\">r5</text></g></g></g></g></g></svg><div class=\"toyplot-behavior\"><script>(function()\n",
       "{\n",
       "var modules={};\n",
       "})();</script></div></div>"
      ]
     },
     "metadata": {},
     "output_type": "display_data"
    }
   ],
   "source": [
    "mod_tree = toytree.mod.add_internal_node(tree, \"r2\", dist=0.1, name=\"X\")\n",
    "toytree.mtree([tree, mod_tree]).draw(node_sizes=15, node_labels=\"name\");"
   ]
  },
  {
   "cell_type": "markdown",
   "metadata": {},
   "source": [
    "### add_child_node\n",
    "This function selects an existing Node to act as the parent, and\n",
    "inserts a new Node as a child of that parent. The new child's name\n",
    "and dist can be set. If no dist value is entered then the child's\n",
    "dist is set to match that of its new sister Nodes, or 1.0. \n",
    "Unless a unary internal node already exists (e.g., you call `add_internal_node`) adding\n",
    "an child to an existing internal node will typically create a polytomy. Thus this method\n",
    "may often be paired with `add_child_node`. "
   ]
  },
  {
   "cell_type": "code",
   "execution_count": 59,
   "metadata": {},
   "outputs": [
    {
     "data": {
      "text/html": [
       "<div class=\"toyplot\" id=\"t5dd896f89a0a463da699ae2acc58e87d\" style=\"text-align:center\"><svg class=\"toyplot-canvas-Canvas\" xmlns:toyplot=\"http://www.sandia.gov/toyplot\" xmlns:xlink=\"http://www.w3.org/1999/xlink\" xmlns=\"http://www.w3.org/2000/svg\" width=\"450.0px\" height=\"250.0px\" viewBox=\"0 0 450.0 250.0\" preserveAspectRatio=\"xMidYMid meet\" style=\"background-color:transparent;border-color:#292724;border-style:none;border-width:1.0;fill:rgb(16.1%,15.3%,14.1%);fill-opacity:1.0;font-family:Helvetica;font-size:12px;opacity:1.0;stroke:rgb(16.1%,15.3%,14.1%);stroke-opacity:1.0;stroke-width:1.0\" id=\"t95be45ec5b634c979a787a40df0443e4\"><g class=\"toyplot-coordinates-Cartesian\" id=\"tba9c7bdd0e06425cb52b17cc36723613\"><clipPath id=\"t90058b677e7c4bc8a0604caaf29582b1\"><rect x=\"20.0\" y=\"40.0\" width=\"205.0\" height=\"170.0\"></rect></clipPath><g clip-path=\"url(#t90058b677e7c4bc8a0604caaf29582b1)\"><g class=\"toytree-mark-Toytree\" id=\"td1a0c6729290451b853cb56017e014f2\"><g class=\"toytree-Edges\" style=\"stroke:rgb(14.5%,14.5%,14.5%);stroke-opacity:1.0;stroke-linecap:round;stroke-width:2.0;fill:none\"><path d=\"M 135.6 178.6 L 135.6 192.0 L 184.8 192.0\" id=\"6,0\" style=\"\"></path><path d=\"M 135.6 178.6 L 135.6 165.2 L 184.8 165.2\" id=\"6,1\" style=\"\"></path><path d=\"M 135.6 125.0 L 135.6 138.4 L 184.8 138.4\" id=\"7,2\" style=\"\"></path><path d=\"M 135.6 125.0 L 135.6 111.6 L 184.8 111.6\" id=\"7,3\" style=\"\"></path><path d=\"M 86.4 71.4 L 86.4 84.8 L 184.8 84.8\" id=\"9,4\" style=\"\"></path><path d=\"M 86.4 71.4 L 86.4 58.0 L 184.8 58.0\" id=\"9,5\" style=\"\"></path><path d=\"M 86.4 151.8 L 86.4 178.6 L 135.6 178.6\" id=\"8,6\" style=\"\"></path><path d=\"M 86.4 151.8 L 86.4 125.0 L 135.6 125.0\" id=\"8,7\" style=\"\"></path><path d=\"M 37.2 111.6 L 37.2 151.8 L 86.4 151.8\" id=\"10,8\" style=\"\"></path><path d=\"M 37.2 111.6 L 37.2 71.4 L 86.4 71.4\" id=\"10,9\" style=\"\"></path></g><g class=\"toytree-AdmixEdges\" style=\"fill:rgb(0.0%,0.0%,0.0%);fill-opacity:0.0;stroke:rgb(90.6%,54.1%,76.5%);stroke-opacity:0.6;font-size:14px;stroke-linecap:round;stroke-width:5\"></g><g class=\"toytree-Nodes\" style=\"fill:rgb(40.0%,76.1%,64.7%);fill-opacity:1.0;stroke:rgb(14.9%,14.9%,14.9%);stroke-opacity:1.0;stroke-width:1.5\"><g id=\"Node-6\" transform=\"translate(135.625,178.571)\"><circle r=\"7.5\"></circle></g><g id=\"Node-7\" transform=\"translate(135.625,125)\"><circle r=\"7.5\"></circle></g><g id=\"Node-8\" transform=\"translate(86.4041,151.786)\"><circle r=\"7.5\"></circle></g><g id=\"Node-9\" transform=\"translate(86.4041,71.4286)\"><circle r=\"7.5\"></circle></g><g id=\"Node-10\" transform=\"translate(37.1835,111.607)\"><circle r=\"7.5\"></circle></g></g><g class=\"toytree-NodeLabels\" style=\"font-family:Helvetica;font-size:9px;font-weight:300;vertical-align:baseline;white-space:pre;stroke:none\"><g class=\"toytree-NodeLabel\" transform=\"translate(135.625,178.571)\"><text x=\"-2.5020000000000002\" y=\"2.2995\" style=\"fill:rgb(14.5%,14.5%,14.5%);fill-opacity:1.0\">6</text></g><g class=\"toytree-NodeLabel\" transform=\"translate(135.625,125)\"><text x=\"-2.5020000000000002\" y=\"2.2995\" style=\"fill:rgb(14.5%,14.5%,14.5%);fill-opacity:1.0\">7</text></g><g class=\"toytree-NodeLabel\" transform=\"translate(86.4041,151.786)\"><text x=\"-2.5020000000000002\" y=\"2.2995\" style=\"fill:rgb(14.5%,14.5%,14.5%);fill-opacity:1.0\">8</text></g><g class=\"toytree-NodeLabel\" transform=\"translate(86.4041,71.4286)\"><text x=\"-2.5020000000000002\" y=\"2.2995\" style=\"fill:rgb(14.5%,14.5%,14.5%);fill-opacity:1.0\">9</text></g><g class=\"toytree-NodeLabel\" transform=\"translate(37.1835,111.607)\"><text x=\"-5.0040000000000004\" y=\"2.2995\" style=\"fill:rgb(14.5%,14.5%,14.5%);fill-opacity:1.0\">10</text></g></g><g class=\"toytree-TipLabels\" style=\"fill:rgb(14.5%,14.5%,14.5%);fill-opacity:1.0;font-family:Helvetica;font-size:10px;font-weight:300;vertical-align:baseline;white-space:pre;stroke:none\"><g class=\"toytree-TipLabel\" transform=\"translate(184.845,191.964)\"><text x=\"10.0\" y=\"2.5549999999999997\" style=\"fill:rgb(14.5%,14.5%,14.5%);fill-opacity:1.0\">r0</text></g><g class=\"toytree-TipLabel\" transform=\"translate(184.845,165.179)\"><text x=\"10.0\" y=\"2.5549999999999997\" style=\"fill:rgb(14.5%,14.5%,14.5%);fill-opacity:1.0\">r1</text></g><g class=\"toytree-TipLabel\" transform=\"translate(184.845,138.393)\"><text x=\"10.0\" y=\"2.5549999999999997\" style=\"fill:rgb(14.5%,14.5%,14.5%);fill-opacity:1.0\">r2</text></g><g class=\"toytree-TipLabel\" transform=\"translate(184.845,111.607)\"><text x=\"10.0\" y=\"2.5549999999999997\" style=\"fill:rgb(14.5%,14.5%,14.5%);fill-opacity:1.0\">r3</text></g><g class=\"toytree-TipLabel\" transform=\"translate(184.845,84.8214)\"><text x=\"10.0\" y=\"2.5549999999999997\" style=\"fill:rgb(14.5%,14.5%,14.5%);fill-opacity:1.0\">r4</text></g><g class=\"toytree-TipLabel\" transform=\"translate(184.845,58.0357)\"><text x=\"10.0\" y=\"2.5549999999999997\" style=\"fill:rgb(14.5%,14.5%,14.5%);fill-opacity:1.0\">r5</text></g></g></g></g></g><g class=\"toyplot-coordinates-Cartesian\" id=\"t9d543fc6468742ccbdedb944ed2b81e6\"><clipPath id=\"t26e926d4a2d049f6b3564af61ee67398\"><rect x=\"245.0\" y=\"40.0\" width=\"205.0\" height=\"170.0\"></rect></clipPath><g clip-path=\"url(#t26e926d4a2d049f6b3564af61ee67398)\"><g class=\"toytree-mark-Toytree\" id=\"td69505007a854d8a9ede774bedd3e900\"><g class=\"toytree-Edges\" style=\"stroke:rgb(14.5%,14.5%,14.5%);stroke-opacity:1.0;stroke-linecap:round;stroke-width:2.0;fill:none\"><path d=\"M 360.6 169.6 L 360.6 192.0 L 409.8 192.0\" id=\"7,0\" style=\"\"></path><path d=\"M 360.6 169.6 L 360.6 169.6 L 409.8 169.6\" id=\"7,1\" style=\"\"></path><path d=\"M 360.6 169.6 L 360.6 147.3 L 409.8 147.3\" id=\"7,2\" style=\"\"></path><path d=\"M 360.6 113.8 L 360.6 125.0 L 409.8 125.0\" id=\"8,3\" style=\"\"></path><path d=\"M 360.6 113.8 L 360.6 102.7 L 409.8 102.7\" id=\"8,4\" style=\"\"></path><path d=\"M 311.4 69.2 L 311.4 80.4 L 409.8 80.4\" id=\"10,5\" style=\"\"></path><path d=\"M 311.4 69.2 L 311.4 58.0 L 409.8 58.0\" id=\"10,6\" style=\"\"></path><path d=\"M 311.4 141.7 L 311.4 169.6 L 360.6 169.6\" id=\"9,7\" style=\"\"></path><path d=\"M 311.4 141.7 L 311.4 113.8 L 360.6 113.8\" id=\"9,8\" style=\"\"></path><path d=\"M 262.2 105.5 L 262.2 141.7 L 311.4 141.7\" id=\"11,9\" style=\"\"></path><path d=\"M 262.2 105.5 L 262.2 69.2 L 311.4 69.2\" id=\"11,10\" style=\"\"></path></g><g class=\"toytree-AdmixEdges\" style=\"fill:rgb(0.0%,0.0%,0.0%);fill-opacity:0.0;stroke:rgb(90.6%,54.1%,76.5%);stroke-opacity:0.6;font-size:14px;stroke-linecap:round;stroke-width:5\"></g><g class=\"toytree-Nodes\" style=\"fill:rgb(40.0%,76.1%,64.7%);fill-opacity:1.0;stroke:rgb(14.9%,14.9%,14.9%);stroke-opacity:1.0;stroke-width:1.5\"><g id=\"Node-7\" transform=\"translate(360.625,169.643)\"><circle r=\"7.5\"></circle></g><g id=\"Node-8\" transform=\"translate(360.625,113.839)\"><circle r=\"7.5\"></circle></g><g id=\"Node-9\" transform=\"translate(311.404,141.741)\"><circle r=\"7.5\"></circle></g><g id=\"Node-10\" transform=\"translate(311.404,69.1964)\"><circle r=\"7.5\"></circle></g><g id=\"Node-11\" transform=\"translate(262.184,105.469)\"><circle r=\"7.5\"></circle></g></g><g class=\"toytree-NodeLabels\" style=\"font-family:Helvetica;font-size:9px;font-weight:300;vertical-align:baseline;white-space:pre;stroke:none\"><g class=\"toytree-NodeLabel\" transform=\"translate(360.625,169.643)\"><text x=\"-2.5020000000000002\" y=\"2.2995\" style=\"fill:rgb(14.5%,14.5%,14.5%);fill-opacity:1.0\">7</text></g><g class=\"toytree-NodeLabel\" transform=\"translate(360.625,113.839)\"><text x=\"-2.5020000000000002\" y=\"2.2995\" style=\"fill:rgb(14.5%,14.5%,14.5%);fill-opacity:1.0\">8</text></g><g class=\"toytree-NodeLabel\" transform=\"translate(311.404,141.741)\"><text x=\"-2.5020000000000002\" y=\"2.2995\" style=\"fill:rgb(14.5%,14.5%,14.5%);fill-opacity:1.0\">9</text></g><g class=\"toytree-NodeLabel\" transform=\"translate(311.404,69.1964)\"><text x=\"-5.0040000000000004\" y=\"2.2995\" style=\"fill:rgb(14.5%,14.5%,14.5%);fill-opacity:1.0\">10</text></g><g class=\"toytree-NodeLabel\" transform=\"translate(262.184,105.469)\"><text x=\"-5.0040000000000004\" y=\"2.2995\" style=\"fill:rgb(14.5%,14.5%,14.5%);fill-opacity:1.0\">11</text></g></g><g class=\"toytree-TipLabels\" style=\"fill:rgb(14.5%,14.5%,14.5%);fill-opacity:1.0;font-family:Helvetica;font-size:10px;font-weight:300;vertical-align:baseline;white-space:pre;stroke:none\"><g class=\"toytree-TipLabel\" transform=\"translate(409.845,191.964)\"><text x=\"10.0\" y=\"2.5549999999999997\" style=\"fill:rgb(14.5%,14.5%,14.5%);fill-opacity:1.0\">r0</text></g><g class=\"toytree-TipLabel\" transform=\"translate(409.845,169.643)\"><text x=\"10.0\" y=\"2.5549999999999997\" style=\"fill:rgb(14.5%,14.5%,14.5%);fill-opacity:1.0\">r1</text></g><g class=\"toytree-TipLabel\" transform=\"translate(409.845,147.321)\"><text x=\"10.0\" y=\"2.5549999999999997\" style=\"fill:rgb(14.5%,14.5%,14.5%);fill-opacity:1.0\">X</text></g><g class=\"toytree-TipLabel\" transform=\"translate(409.845,125)\"><text x=\"10.0\" y=\"2.5549999999999997\" style=\"fill:rgb(14.5%,14.5%,14.5%);fill-opacity:1.0\">r2</text></g><g class=\"toytree-TipLabel\" transform=\"translate(409.845,102.679)\"><text x=\"10.0\" y=\"2.5549999999999997\" style=\"fill:rgb(14.5%,14.5%,14.5%);fill-opacity:1.0\">r3</text></g><g class=\"toytree-TipLabel\" transform=\"translate(409.845,80.3571)\"><text x=\"10.0\" y=\"2.5549999999999997\" style=\"fill:rgb(14.5%,14.5%,14.5%);fill-opacity:1.0\">r4</text></g><g class=\"toytree-TipLabel\" transform=\"translate(409.845,58.0357)\"><text x=\"10.0\" y=\"2.5549999999999997\" style=\"fill:rgb(14.5%,14.5%,14.5%);fill-opacity:1.0\">r5</text></g></g></g></g></g></svg><div class=\"toyplot-behavior\"><script>(function()\n",
       "{\n",
       "var modules={};\n",
       "})();</script></div></div>"
      ]
     },
     "metadata": {},
     "output_type": "display_data"
    }
   ],
   "source": [
    "mod_tree = toytree.mod.add_child_node(tree, 6, name=\"X\")\n",
    "toytree.mtree([tree, mod_tree]).draw(node_sizes=15, node_labels=\"idx\");"
   ]
  },
  {
   "cell_type": "markdown",
   "metadata": {},
   "source": [
    "### add_sister_node\n",
    "This function selects an existing Node to act as the sister, and\n",
    "inserts a new Node as a child of the same parent. The new sister\n",
    "Node's name and dist can be set. If no dist value is entered then\n",
    "the its dist is set to match the max dist of its sister Nodes or 1.\n",
    "This function is equivalent to :func:`.add_child_node` but the\n",
    "query is used to select a sister rather than a parent."
   ]
  },
  {
   "cell_type": "code",
   "execution_count": 60,
   "metadata": {},
   "outputs": [
    {
     "data": {
      "text/html": [
       "<div class=\"toyplot\" id=\"t4910faefcf7c43dc9d8532e78774a097\" style=\"text-align:center\"><svg class=\"toyplot-canvas-Canvas\" xmlns:toyplot=\"http://www.sandia.gov/toyplot\" xmlns:xlink=\"http://www.w3.org/1999/xlink\" xmlns=\"http://www.w3.org/2000/svg\" width=\"450.0px\" height=\"250.0px\" viewBox=\"0 0 450.0 250.0\" preserveAspectRatio=\"xMidYMid meet\" style=\"background-color:transparent;border-color:#292724;border-style:none;border-width:1.0;fill:rgb(16.1%,15.3%,14.1%);fill-opacity:1.0;font-family:Helvetica;font-size:12px;opacity:1.0;stroke:rgb(16.1%,15.3%,14.1%);stroke-opacity:1.0;stroke-width:1.0\" id=\"t79f7f18712a64b8db59473737de03353\"><g class=\"toyplot-coordinates-Cartesian\" id=\"tec4e3764df764a0b9a7bab945a7c7cc0\"><clipPath id=\"t596d0449cb2c478eb1afd2cb34d092cd\"><rect x=\"20.0\" y=\"40.0\" width=\"205.0\" height=\"170.0\"></rect></clipPath><g clip-path=\"url(#t596d0449cb2c478eb1afd2cb34d092cd)\"><g class=\"toytree-mark-Toytree\" id=\"tb92850749eff4a45bb654bb507d0c761\"><g class=\"toytree-Edges\" style=\"stroke:rgb(14.5%,14.5%,14.5%);stroke-opacity:1.0;stroke-linecap:round;stroke-width:2.0;fill:none\"><path d=\"M 135.6 178.6 L 135.6 192.0 L 184.8 192.0\" id=\"6,0\" style=\"\"></path><path d=\"M 135.6 178.6 L 135.6 165.2 L 184.8 165.2\" id=\"6,1\" style=\"\"></path><path d=\"M 135.6 125.0 L 135.6 138.4 L 184.8 138.4\" id=\"7,2\" style=\"\"></path><path d=\"M 135.6 125.0 L 135.6 111.6 L 184.8 111.6\" id=\"7,3\" style=\"\"></path><path d=\"M 86.4 71.4 L 86.4 84.8 L 184.8 84.8\" id=\"9,4\" style=\"\"></path><path d=\"M 86.4 71.4 L 86.4 58.0 L 184.8 58.0\" id=\"9,5\" style=\"\"></path><path d=\"M 86.4 151.8 L 86.4 178.6 L 135.6 178.6\" id=\"8,6\" style=\"\"></path><path d=\"M 86.4 151.8 L 86.4 125.0 L 135.6 125.0\" id=\"8,7\" style=\"\"></path><path d=\"M 37.2 111.6 L 37.2 151.8 L 86.4 151.8\" id=\"10,8\" style=\"\"></path><path d=\"M 37.2 111.6 L 37.2 71.4 L 86.4 71.4\" id=\"10,9\" style=\"\"></path></g><g class=\"toytree-AdmixEdges\" style=\"fill:rgb(0.0%,0.0%,0.0%);fill-opacity:0.0;stroke:rgb(90.6%,54.1%,76.5%);stroke-opacity:0.6;font-size:14px;stroke-linecap:round;stroke-width:5\"></g><g class=\"toytree-Nodes\" style=\"fill:rgb(40.0%,76.1%,64.7%);fill-opacity:1.0;stroke:rgb(14.9%,14.9%,14.9%);stroke-opacity:1.0;stroke-width:1.5\"><g id=\"Node-6\" transform=\"translate(135.625,178.571)\"><circle r=\"7.5\"></circle></g><g id=\"Node-7\" transform=\"translate(135.625,125)\"><circle r=\"7.5\"></circle></g><g id=\"Node-8\" transform=\"translate(86.4041,151.786)\"><circle r=\"7.5\"></circle></g><g id=\"Node-9\" transform=\"translate(86.4041,71.4286)\"><circle r=\"7.5\"></circle></g><g id=\"Node-10\" transform=\"translate(37.1835,111.607)\"><circle r=\"7.5\"></circle></g></g><g class=\"toytree-NodeLabels\" style=\"font-family:Helvetica;font-size:9px;font-weight:300;vertical-align:baseline;white-space:pre;stroke:none\"><g class=\"toytree-NodeLabel\" transform=\"translate(135.625,178.571)\"><text x=\"-2.5020000000000002\" y=\"2.2995\" style=\"fill:rgb(14.5%,14.5%,14.5%);fill-opacity:1.0\">6</text></g><g class=\"toytree-NodeLabel\" transform=\"translate(135.625,125)\"><text x=\"-2.5020000000000002\" y=\"2.2995\" style=\"fill:rgb(14.5%,14.5%,14.5%);fill-opacity:1.0\">7</text></g><g class=\"toytree-NodeLabel\" transform=\"translate(86.4041,151.786)\"><text x=\"-2.5020000000000002\" y=\"2.2995\" style=\"fill:rgb(14.5%,14.5%,14.5%);fill-opacity:1.0\">8</text></g><g class=\"toytree-NodeLabel\" transform=\"translate(86.4041,71.4286)\"><text x=\"-2.5020000000000002\" y=\"2.2995\" style=\"fill:rgb(14.5%,14.5%,14.5%);fill-opacity:1.0\">9</text></g><g class=\"toytree-NodeLabel\" transform=\"translate(37.1835,111.607)\"><text x=\"-5.0040000000000004\" y=\"2.2995\" style=\"fill:rgb(14.5%,14.5%,14.5%);fill-opacity:1.0\">10</text></g></g><g class=\"toytree-TipLabels\" style=\"fill:rgb(14.5%,14.5%,14.5%);fill-opacity:1.0;font-family:Helvetica;font-size:10px;font-weight:300;vertical-align:baseline;white-space:pre;stroke:none\"><g class=\"toytree-TipLabel\" transform=\"translate(184.845,191.964)\"><text x=\"10.0\" y=\"2.5549999999999997\" style=\"fill:rgb(14.5%,14.5%,14.5%);fill-opacity:1.0\">r0</text></g><g class=\"toytree-TipLabel\" transform=\"translate(184.845,165.179)\"><text x=\"10.0\" y=\"2.5549999999999997\" style=\"fill:rgb(14.5%,14.5%,14.5%);fill-opacity:1.0\">r1</text></g><g class=\"toytree-TipLabel\" transform=\"translate(184.845,138.393)\"><text x=\"10.0\" y=\"2.5549999999999997\" style=\"fill:rgb(14.5%,14.5%,14.5%);fill-opacity:1.0\">r2</text></g><g class=\"toytree-TipLabel\" transform=\"translate(184.845,111.607)\"><text x=\"10.0\" y=\"2.5549999999999997\" style=\"fill:rgb(14.5%,14.5%,14.5%);fill-opacity:1.0\">r3</text></g><g class=\"toytree-TipLabel\" transform=\"translate(184.845,84.8214)\"><text x=\"10.0\" y=\"2.5549999999999997\" style=\"fill:rgb(14.5%,14.5%,14.5%);fill-opacity:1.0\">r4</text></g><g class=\"toytree-TipLabel\" transform=\"translate(184.845,58.0357)\"><text x=\"10.0\" y=\"2.5549999999999997\" style=\"fill:rgb(14.5%,14.5%,14.5%);fill-opacity:1.0\">r5</text></g></g></g></g></g><g class=\"toyplot-coordinates-Cartesian\" id=\"t0758954e6e4142d080f11b18a90b128a\"><clipPath id=\"t2c42269fff3143a8baee6a4107fd6dea\"><rect x=\"245.0\" y=\"40.0\" width=\"205.0\" height=\"170.0\"></rect></clipPath><g clip-path=\"url(#t2c42269fff3143a8baee6a4107fd6dea)\"><g class=\"toytree-mark-Toytree\" id=\"t74c40cb1ebd84e5490792dc76a4c5046\"><g class=\"toytree-Edges\" style=\"stroke:rgb(14.5%,14.5%,14.5%);stroke-opacity:1.0;stroke-linecap:round;stroke-width:2.0;fill:none\"><path d=\"M 360.6 180.8 L 360.6 192.0 L 409.8 192.0\" id=\"7,0\" style=\"\"></path><path d=\"M 360.6 180.8 L 360.6 169.6 L 409.8 169.6\" id=\"7,1\" style=\"\"></path><path d=\"M 360.6 125.0 L 360.6 147.3 L 409.8 147.3\" id=\"8,2\" style=\"\"></path><path d=\"M 360.6 125.0 L 360.6 125.0 L 409.8 125.0\" id=\"8,3\" style=\"\"></path><path d=\"M 360.6 125.0 L 360.6 102.7 L 409.8 102.7\" id=\"8,4\" style=\"\"></path><path d=\"M 311.4 69.2 L 311.4 80.4 L 409.8 80.4\" id=\"10,5\" style=\"\"></path><path d=\"M 311.4 69.2 L 311.4 58.0 L 409.8 58.0\" id=\"10,6\" style=\"\"></path><path d=\"M 311.4 152.9 L 311.4 180.8 L 360.6 180.8\" id=\"9,7\" style=\"\"></path><path d=\"M 311.4 152.9 L 311.4 125.0 L 360.6 125.0\" id=\"9,8\" style=\"\"></path><path d=\"M 262.2 111.0 L 262.2 152.9 L 311.4 152.9\" id=\"11,9\" style=\"\"></path><path d=\"M 262.2 111.0 L 262.2 69.2 L 311.4 69.2\" id=\"11,10\" style=\"\"></path></g><g class=\"toytree-AdmixEdges\" style=\"fill:rgb(0.0%,0.0%,0.0%);fill-opacity:0.0;stroke:rgb(90.6%,54.1%,76.5%);stroke-opacity:0.6;font-size:14px;stroke-linecap:round;stroke-width:5\"></g><g class=\"toytree-Nodes\" style=\"fill:rgb(40.0%,76.1%,64.7%);fill-opacity:1.0;stroke:rgb(14.9%,14.9%,14.9%);stroke-opacity:1.0;stroke-width:1.5\"><g id=\"Node-7\" transform=\"translate(360.625,180.804)\"><circle r=\"7.5\"></circle></g><g id=\"Node-8\" transform=\"translate(360.625,125)\"><circle r=\"7.5\"></circle></g><g id=\"Node-9\" transform=\"translate(311.404,152.902)\"><circle r=\"7.5\"></circle></g><g id=\"Node-10\" transform=\"translate(311.404,69.1964)\"><circle r=\"7.5\"></circle></g><g id=\"Node-11\" transform=\"translate(262.184,111.049)\"><circle r=\"7.5\"></circle></g></g><g class=\"toytree-NodeLabels\" style=\"font-family:Helvetica;font-size:9px;font-weight:300;vertical-align:baseline;white-space:pre;stroke:none\"><g class=\"toytree-NodeLabel\" transform=\"translate(360.625,180.804)\"><text x=\"-2.5020000000000002\" y=\"2.2995\" style=\"fill:rgb(14.5%,14.5%,14.5%);fill-opacity:1.0\">7</text></g><g class=\"toytree-NodeLabel\" transform=\"translate(360.625,125)\"><text x=\"-2.5020000000000002\" y=\"2.2995\" style=\"fill:rgb(14.5%,14.5%,14.5%);fill-opacity:1.0\">8</text></g><g class=\"toytree-NodeLabel\" transform=\"translate(311.404,152.902)\"><text x=\"-2.5020000000000002\" y=\"2.2995\" style=\"fill:rgb(14.5%,14.5%,14.5%);fill-opacity:1.0\">9</text></g><g class=\"toytree-NodeLabel\" transform=\"translate(311.404,69.1964)\"><text x=\"-5.0040000000000004\" y=\"2.2995\" style=\"fill:rgb(14.5%,14.5%,14.5%);fill-opacity:1.0\">10</text></g><g class=\"toytree-NodeLabel\" transform=\"translate(262.184,111.049)\"><text x=\"-5.0040000000000004\" y=\"2.2995\" style=\"fill:rgb(14.5%,14.5%,14.5%);fill-opacity:1.0\">11</text></g></g><g class=\"toytree-TipLabels\" style=\"fill:rgb(14.5%,14.5%,14.5%);fill-opacity:1.0;font-family:Helvetica;font-size:10px;font-weight:300;vertical-align:baseline;white-space:pre;stroke:none\"><g class=\"toytree-TipLabel\" transform=\"translate(409.845,191.964)\"><text x=\"10.0\" y=\"2.5549999999999997\" style=\"fill:rgb(14.5%,14.5%,14.5%);fill-opacity:1.0\">r0</text></g><g class=\"toytree-TipLabel\" transform=\"translate(409.845,169.643)\"><text x=\"10.0\" y=\"2.5549999999999997\" style=\"fill:rgb(14.5%,14.5%,14.5%);fill-opacity:1.0\">r1</text></g><g class=\"toytree-TipLabel\" transform=\"translate(409.845,147.321)\"><text x=\"10.0\" y=\"2.5549999999999997\" style=\"fill:rgb(14.5%,14.5%,14.5%);fill-opacity:1.0\">r2</text></g><g class=\"toytree-TipLabel\" transform=\"translate(409.845,125)\"><text x=\"10.0\" y=\"2.5549999999999997\" style=\"fill:rgb(14.5%,14.5%,14.5%);fill-opacity:1.0\">r3</text></g><g class=\"toytree-TipLabel\" transform=\"translate(409.845,102.679)\"><text x=\"10.0\" y=\"2.5549999999999997\" style=\"fill:rgb(14.5%,14.5%,14.5%);fill-opacity:1.0\">X</text></g><g class=\"toytree-TipLabel\" transform=\"translate(409.845,80.3571)\"><text x=\"10.0\" y=\"2.5549999999999997\" style=\"fill:rgb(14.5%,14.5%,14.5%);fill-opacity:1.0\">r4</text></g><g class=\"toytree-TipLabel\" transform=\"translate(409.845,58.0357)\"><text x=\"10.0\" y=\"2.5549999999999997\" style=\"fill:rgb(14.5%,14.5%,14.5%);fill-opacity:1.0\">r5</text></g></g></g></g></g></svg><div class=\"toyplot-behavior\"><script>(function()\n",
       "{\n",
       "var modules={};\n",
       "})();</script></div></div>"
      ]
     },
     "metadata": {},
     "output_type": "display_data"
    }
   ],
   "source": [
    "mod_tree = toytree.mod.add_sister_node(tree, \"r3\", name=\"X\")\n",
    "toytree.mtree([tree, mod_tree]).draw(node_sizes=15, node_labels=\"idx\");"
   ]
  },
  {
   "cell_type": "markdown",
   "metadata": {},
   "source": [
    "### add_internal_node_and_child\n",
    "Splits a branch spanning from query node (A) to its parent (B)\n",
    "to create a new internal Node (C) and child Node (D). The new\n",
    "parent and child Nodes can be given names and dist values. If\n",
    "no value is entered for `parent_dist` then the parent Node is\n",
    "inserted at the midpoint of the edge. If a parent_dist value is\n",
    "entered then it must fit within the length of the query Node's\n",
    "dist or an error is raised. The new child Node dist is not\n",
    "constrained. If no value is entered then it will be automatically\n",
    "set to match the dist of its sister Node."
   ]
  },
  {
   "cell_type": "code",
   "execution_count": 83,
   "metadata": {},
   "outputs": [
    {
     "data": {
      "text/html": [
       "<div class=\"toyplot\" id=\"t6f138a15a0bd4a59aed0437e840771ab\" style=\"text-align:center\"><svg class=\"toyplot-canvas-Canvas\" xmlns:toyplot=\"http://www.sandia.gov/toyplot\" xmlns:xlink=\"http://www.w3.org/1999/xlink\" xmlns=\"http://www.w3.org/2000/svg\" width=\"450.0px\" height=\"250.0px\" viewBox=\"0 0 450.0 250.0\" preserveAspectRatio=\"xMidYMid meet\" style=\"background-color:transparent;border-color:#292724;border-style:none;border-width:1.0;fill:rgb(16.1%,15.3%,14.1%);fill-opacity:1.0;font-family:Helvetica;font-size:12px;opacity:1.0;stroke:rgb(16.1%,15.3%,14.1%);stroke-opacity:1.0;stroke-width:1.0\" id=\"tb63626af015143e4ae40c174b26ce1be\"><g class=\"toyplot-coordinates-Cartesian\" id=\"t038edde22a4645feafba17fdb0467c39\"><clipPath id=\"t86f500037c50447fb088b167c0e6fed8\"><rect x=\"20.0\" y=\"40.0\" width=\"205.0\" height=\"170.0\"></rect></clipPath><g clip-path=\"url(#t86f500037c50447fb088b167c0e6fed8)\"><g class=\"toytree-mark-Toytree\" id=\"t3f9feb970d7c4166a1290b14caa0cefc\"><g class=\"toytree-Edges\" style=\"stroke:rgb(14.5%,14.5%,14.5%);stroke-opacity:1.0;stroke-linecap:round;stroke-width:2.0;fill:none\"><path d=\"M 135.6 178.6 L 135.6 192.0 L 184.8 192.0\" id=\"6,0\" style=\"\"></path><path d=\"M 135.6 178.6 L 135.6 165.2 L 184.8 165.2\" id=\"6,1\" style=\"\"></path><path d=\"M 135.6 125.0 L 135.6 138.4 L 184.8 138.4\" id=\"7,2\" style=\"\"></path><path d=\"M 135.6 125.0 L 135.6 111.6 L 184.8 111.6\" id=\"7,3\" style=\"\"></path><path d=\"M 86.4 71.4 L 86.4 84.8 L 184.8 84.8\" id=\"9,4\" style=\"\"></path><path d=\"M 86.4 71.4 L 86.4 58.0 L 184.8 58.0\" id=\"9,5\" style=\"\"></path><path d=\"M 86.4 151.8 L 86.4 178.6 L 135.6 178.6\" id=\"8,6\" style=\"\"></path><path d=\"M 86.4 151.8 L 86.4 125.0 L 135.6 125.0\" id=\"8,7\" style=\"\"></path><path d=\"M 37.2 111.6 L 37.2 151.8 L 86.4 151.8\" id=\"10,8\" style=\"\"></path><path d=\"M 37.2 111.6 L 37.2 71.4 L 86.4 71.4\" id=\"10,9\" style=\"\"></path></g><g class=\"toytree-AdmixEdges\" style=\"fill:rgb(0.0%,0.0%,0.0%);fill-opacity:0.0;stroke:rgb(90.6%,54.1%,76.5%);stroke-opacity:0.6;font-size:14px;stroke-linecap:round;stroke-width:5\"></g><g class=\"toytree-Nodes\" style=\"fill:rgb(40.0%,76.1%,64.7%);fill-opacity:1.0;stroke:rgb(14.9%,14.9%,14.9%);stroke-opacity:1.0;stroke-width:1.5\"><g id=\"Node-6\" transform=\"translate(135.625,178.571)\"><circle r=\"7.5\"></circle></g><g id=\"Node-7\" transform=\"translate(135.625,125)\"><circle r=\"7.5\"></circle></g><g id=\"Node-8\" transform=\"translate(86.4041,151.786)\"><circle r=\"7.5\"></circle></g><g id=\"Node-9\" transform=\"translate(86.4041,71.4286)\"><circle r=\"7.5\"></circle></g><g id=\"Node-10\" transform=\"translate(37.1835,111.607)\"><circle r=\"7.5\"></circle></g></g><g class=\"toytree-NodeLabels\" style=\"font-family:Helvetica;font-size:9px;font-weight:300;vertical-align:baseline;white-space:pre;stroke:none\"><g class=\"toytree-NodeLabel\" transform=\"translate(135.625,178.571)\"></g><g class=\"toytree-NodeLabel\" transform=\"translate(135.625,125)\"></g><g class=\"toytree-NodeLabel\" transform=\"translate(86.4041,151.786)\"></g><g class=\"toytree-NodeLabel\" transform=\"translate(86.4041,71.4286)\"></g><g class=\"toytree-NodeLabel\" transform=\"translate(37.1835,111.607)\"></g></g><g class=\"toytree-TipLabels\" style=\"fill:rgb(14.5%,14.5%,14.5%);fill-opacity:1.0;font-family:Helvetica;font-size:10px;font-weight:300;vertical-align:baseline;white-space:pre;stroke:none\"><g class=\"toytree-TipLabel\" transform=\"translate(184.845,191.964)\"><text x=\"10.0\" y=\"2.5549999999999997\" style=\"fill:rgb(14.5%,14.5%,14.5%);fill-opacity:1.0\">r0</text></g><g class=\"toytree-TipLabel\" transform=\"translate(184.845,165.179)\"><text x=\"10.0\" y=\"2.5549999999999997\" style=\"fill:rgb(14.5%,14.5%,14.5%);fill-opacity:1.0\">r1</text></g><g class=\"toytree-TipLabel\" transform=\"translate(184.845,138.393)\"><text x=\"10.0\" y=\"2.5549999999999997\" style=\"fill:rgb(14.5%,14.5%,14.5%);fill-opacity:1.0\">r2</text></g><g class=\"toytree-TipLabel\" transform=\"translate(184.845,111.607)\"><text x=\"10.0\" y=\"2.5549999999999997\" style=\"fill:rgb(14.5%,14.5%,14.5%);fill-opacity:1.0\">r3</text></g><g class=\"toytree-TipLabel\" transform=\"translate(184.845,84.8214)\"><text x=\"10.0\" y=\"2.5549999999999997\" style=\"fill:rgb(14.5%,14.5%,14.5%);fill-opacity:1.0\">r4</text></g><g class=\"toytree-TipLabel\" transform=\"translate(184.845,58.0357)\"><text x=\"10.0\" y=\"2.5549999999999997\" style=\"fill:rgb(14.5%,14.5%,14.5%);fill-opacity:1.0\">r5</text></g></g></g></g></g><g class=\"toyplot-coordinates-Cartesian\" id=\"t6d53d2ecff2d4ac485f8a196799c8c3d\"><clipPath id=\"td51a4f47d90648d0a8a07c97864e36f6\"><rect x=\"245.0\" y=\"40.0\" width=\"205.0\" height=\"170.0\"></rect></clipPath><g clip-path=\"url(#td51a4f47d90648d0a8a07c97864e36f6)\"><g class=\"toytree-mark-Toytree\" id=\"td49aae5f2cde46bbbde133204e593826\"><g class=\"toytree-Edges\" style=\"stroke:rgb(14.5%,14.5%,14.5%);stroke-opacity:1.0;stroke-linecap:round;stroke-width:2.0;fill:none\"><path d=\"M 360.6 180.8 L 360.6 192.0 L 409.8 192.0\" id=\"7,0\" style=\"\"></path><path d=\"M 360.6 180.8 L 360.6 169.6 L 409.8 169.6\" id=\"7,1\" style=\"\"></path><path d=\"M 360.6 130.6 L 360.6 147.3 L 409.8 147.3\" id=\"9,2\" style=\"\"></path><path d=\"M 385.2 113.8 L 385.2 125.0 L 409.8 125.0\" id=\"8,3\" style=\"\"></path><path d=\"M 385.2 113.8 L 385.2 102.7 L 409.8 102.7\" id=\"8,4\" style=\"\"></path><path d=\"M 311.4 69.2 L 311.4 80.4 L 409.8 80.4\" id=\"11,5\" style=\"\"></path><path d=\"M 311.4 69.2 L 311.4 58.0 L 409.8 58.0\" id=\"11,6\" style=\"\"></path><path d=\"M 311.4 155.7 L 311.4 180.8 L 360.6 180.8\" id=\"10,7\" style=\"\"></path><path d=\"M 360.6 130.6 L 360.6 113.8 L 385.2 113.8\" id=\"9,8\" style=\"\"></path><path d=\"M 311.4 155.7 L 311.4 130.6 L 360.6 130.6\" id=\"10,9\" style=\"\"></path><path d=\"M 262.2 112.4 L 262.2 155.7 L 311.4 155.7\" id=\"12,10\" style=\"\"></path><path d=\"M 262.2 112.4 L 262.2 69.2 L 311.4 69.2\" id=\"12,11\" style=\"\"></path></g><g class=\"toytree-AdmixEdges\" style=\"fill:rgb(0.0%,0.0%,0.0%);fill-opacity:0.0;stroke:rgb(90.6%,54.1%,76.5%);stroke-opacity:0.6;font-size:14px;stroke-linecap:round;stroke-width:5\"></g><g class=\"toytree-Nodes\" style=\"fill:rgb(40.0%,76.1%,64.7%);fill-opacity:1.0;stroke:rgb(14.9%,14.9%,14.9%);stroke-opacity:1.0;stroke-width:1.5\"><g id=\"Node-7\" transform=\"translate(360.625,180.804)\"><circle r=\"7.5\"></circle></g><g id=\"Node-8\" transform=\"translate(385.235,113.839)\"><circle r=\"7.5\"></circle></g><g id=\"Node-9\" transform=\"translate(360.625,130.58)\"><circle r=\"7.5\"></circle></g><g id=\"Node-10\" transform=\"translate(311.404,155.692)\"><circle r=\"7.5\"></circle></g><g id=\"Node-11\" transform=\"translate(311.404,69.1964)\"><circle r=\"7.5\"></circle></g><g id=\"Node-12\" transform=\"translate(262.184,112.444)\"><circle r=\"7.5\"></circle></g></g><g class=\"toytree-NodeLabels\" style=\"font-family:Helvetica;font-size:9px;font-weight:300;vertical-align:baseline;white-space:pre;stroke:none\"><g class=\"toytree-NodeLabel\" transform=\"translate(360.625,180.804)\"></g><g class=\"toytree-NodeLabel\" transform=\"translate(385.235,113.839)\"><text x=\"-3.0015\" y=\"2.2995\" style=\"fill:rgb(14.5%,14.5%,14.5%);fill-opacity:1.0\">P</text></g><g class=\"toytree-NodeLabel\" transform=\"translate(360.625,130.58)\"></g><g class=\"toytree-NodeLabel\" transform=\"translate(311.404,155.692)\"></g><g class=\"toytree-NodeLabel\" transform=\"translate(311.404,69.1964)\"></g><g class=\"toytree-NodeLabel\" transform=\"translate(262.184,112.444)\"></g></g><g class=\"toytree-TipLabels\" style=\"fill:rgb(14.5%,14.5%,14.5%);fill-opacity:1.0;font-family:Helvetica;font-size:10px;font-weight:300;vertical-align:baseline;white-space:pre;stroke:none\"><g class=\"toytree-TipLabel\" transform=\"translate(409.845,191.964)\"><text x=\"10.0\" y=\"2.5549999999999997\" style=\"fill:rgb(14.5%,14.5%,14.5%);fill-opacity:1.0\">r0</text></g><g class=\"toytree-TipLabel\" transform=\"translate(409.845,169.643)\"><text x=\"10.0\" y=\"2.5549999999999997\" style=\"fill:rgb(14.5%,14.5%,14.5%);fill-opacity:1.0\">r1</text></g><g class=\"toytree-TipLabel\" transform=\"translate(409.845,147.321)\"><text x=\"10.0\" y=\"2.5549999999999997\" style=\"fill:rgb(14.5%,14.5%,14.5%);fill-opacity:1.0\">r2</text></g><g class=\"toytree-TipLabel\" transform=\"translate(409.845,125)\"><text x=\"10.0\" y=\"2.5549999999999997\" style=\"fill:rgb(14.5%,14.5%,14.5%);fill-opacity:1.0\">r3</text></g><g class=\"toytree-TipLabel\" transform=\"translate(409.845,102.679)\"><text x=\"10.0\" y=\"2.5549999999999997\" style=\"fill:rgb(14.5%,14.5%,14.5%);fill-opacity:1.0\">C</text></g><g class=\"toytree-TipLabel\" transform=\"translate(409.845,80.3571)\"><text x=\"10.0\" y=\"2.5549999999999997\" style=\"fill:rgb(14.5%,14.5%,14.5%);fill-opacity:1.0\">r4</text></g><g class=\"toytree-TipLabel\" transform=\"translate(409.845,58.0357)\"><text x=\"10.0\" y=\"2.5549999999999997\" style=\"fill:rgb(14.5%,14.5%,14.5%);fill-opacity:1.0\">r5</text></g></g></g></g></g></svg><div class=\"toyplot-behavior\"><script>(function()\n",
       "{\n",
       "var modules={};\n",
       "})();</script></div></div>"
      ]
     },
     "metadata": {},
     "output_type": "display_data"
    }
   ],
   "source": [
    "mod_tree = toytree.mod.add_internal_node_and_child(tree, \"r3\", name=\"C\", parent_name=\"P\")\n",
    "toytree.mtree([tree, mod_tree]).draw(node_sizes=15, node_labels=\"name\");"
   ]
  },
  {
   "cell_type": "markdown",
   "metadata": {},
   "source": [
    "### add_internal_node_and_subtree\n",
    "Add a subtree by splitting an edge to create a new parent\n",
    "Node and inserting the subtree as a child (i.e., tree-grafting).\n",
    "By default, if left as None, the subtree stem dist will be\n",
    "set to half the distance to the farthest leaf, and the subtree\n",
    "will be scaled to fill the other half distance so that it aligns\n",
    "as the farthest tip node distance."
   ]
  },
  {
   "cell_type": "code",
   "execution_count": 85,
   "metadata": {},
   "outputs": [
    {
     "data": {
      "text/html": [
       "<div class=\"toyplot\" id=\"t7781430455284e2097cd5870915e50ce\" style=\"text-align:center\"><svg class=\"toyplot-canvas-Canvas\" xmlns:toyplot=\"http://www.sandia.gov/toyplot\" xmlns:xlink=\"http://www.w3.org/1999/xlink\" xmlns=\"http://www.w3.org/2000/svg\" width=\"450.0px\" height=\"300.0px\" viewBox=\"0 0 450.0 300.0\" preserveAspectRatio=\"xMidYMid meet\" style=\"background-color:transparent;border-color:#292724;border-style:none;border-width:1.0;fill:rgb(16.1%,15.3%,14.1%);fill-opacity:1.0;font-family:Helvetica;font-size:12px;opacity:1.0;stroke:rgb(16.1%,15.3%,14.1%);stroke-opacity:1.0;stroke-width:1.0\" id=\"t706c4ca62a41441a9319247ebde6a286\"><g class=\"toyplot-coordinates-Cartesian\" id=\"ta8788667de254b6fb9ef1d413b8cedda\"><clipPath id=\"teed3634790fd41339a219abe9f83bf40\"><rect x=\"20.0\" y=\"40.0\" width=\"205.0\" height=\"220.0\"></rect></clipPath><g clip-path=\"url(#teed3634790fd41339a219abe9f83bf40)\"><g class=\"toytree-mark-Toytree\" id=\"t05d970d805a04712a516c2ab13aaaecb\"><g class=\"toytree-Edges\" style=\"stroke:rgb(14.5%,14.5%,14.5%);stroke-opacity:1.0;stroke-linecap:round;stroke-width:2.0;fill:none\"><path d=\"M 135.6 223.4 L 135.6 241.7 L 184.8 241.7\" id=\"6,0\" style=\"\"></path><path d=\"M 135.6 223.4 L 135.6 205.0 L 184.8 205.0\" id=\"6,1\" style=\"\"></path><path d=\"M 135.6 150.0 L 135.6 168.3 L 184.8 168.3\" id=\"7,2\" style=\"\"></path><path d=\"M 135.6 150.0 L 135.6 131.7 L 184.8 131.7\" id=\"7,3\" style=\"\"></path><path d=\"M 86.4 76.6 L 86.4 95.0 L 184.8 95.0\" id=\"9,4\" style=\"\"></path><path d=\"M 86.4 76.6 L 86.4 58.3 L 184.8 58.3\" id=\"9,5\" style=\"\"></path><path d=\"M 86.4 186.7 L 86.4 223.4 L 135.6 223.4\" id=\"8,6\" style=\"\"></path><path d=\"M 86.4 186.7 L 86.4 150.0 L 135.6 150.0\" id=\"8,7\" style=\"\"></path><path d=\"M 37.2 131.7 L 37.2 186.7 L 86.4 186.7\" id=\"10,8\" style=\"\"></path><path d=\"M 37.2 131.7 L 37.2 76.6 L 86.4 76.6\" id=\"10,9\" style=\"\"></path></g><g class=\"toytree-AdmixEdges\" style=\"fill:rgb(0.0%,0.0%,0.0%);fill-opacity:0.0;stroke:rgb(90.6%,54.1%,76.5%);stroke-opacity:0.6;font-size:14px;stroke-linecap:round;stroke-width:5\"></g><g class=\"toytree-Nodes\" style=\"fill:rgb(40.0%,76.1%,64.7%);fill-opacity:1.0;stroke:rgb(14.9%,14.9%,14.9%);stroke-opacity:1.0;stroke-width:1.5\"><g id=\"Node-6\" transform=\"translate(135.625,223.394)\"><circle r=\"7.5\"></circle></g><g id=\"Node-7\" transform=\"translate(135.625,150)\"><circle r=\"7.5\"></circle></g><g id=\"Node-8\" transform=\"translate(86.4041,186.697)\"><circle r=\"7.5\"></circle></g><g id=\"Node-9\" transform=\"translate(86.4041,76.6055)\"><circle r=\"7.5\"></circle></g><g id=\"Node-10\" transform=\"translate(37.1835,131.651)\"><circle r=\"7.5\"></circle></g></g><g class=\"toytree-NodeLabels\" style=\"font-family:Helvetica;font-size:9px;font-weight:300;vertical-align:baseline;white-space:pre;stroke:none\"><g class=\"toytree-NodeLabel\" transform=\"translate(135.625,223.394)\"></g><g class=\"toytree-NodeLabel\" transform=\"translate(135.625,150)\"></g><g class=\"toytree-NodeLabel\" transform=\"translate(86.4041,186.697)\"></g><g class=\"toytree-NodeLabel\" transform=\"translate(86.4041,76.6055)\"></g><g class=\"toytree-NodeLabel\" transform=\"translate(37.1835,131.651)\"></g></g><g class=\"toytree-TipLabels\" style=\"fill:rgb(14.5%,14.5%,14.5%);fill-opacity:1.0;font-family:Helvetica;font-size:10px;font-weight:300;vertical-align:baseline;white-space:pre;stroke:none\"><g class=\"toytree-TipLabel\" transform=\"translate(184.845,241.743)\"><text x=\"10.0\" y=\"2.5549999999999997\" style=\"fill:rgb(14.5%,14.5%,14.5%);fill-opacity:1.0\">r0</text></g><g class=\"toytree-TipLabel\" transform=\"translate(184.845,205.046)\"><text x=\"10.0\" y=\"2.5549999999999997\" style=\"fill:rgb(14.5%,14.5%,14.5%);fill-opacity:1.0\">r1</text></g><g class=\"toytree-TipLabel\" transform=\"translate(184.845,168.349)\"><text x=\"10.0\" y=\"2.5549999999999997\" style=\"fill:rgb(14.5%,14.5%,14.5%);fill-opacity:1.0\">r2</text></g><g class=\"toytree-TipLabel\" transform=\"translate(184.845,131.651)\"><text x=\"10.0\" y=\"2.5549999999999997\" style=\"fill:rgb(14.5%,14.5%,14.5%);fill-opacity:1.0\">r3</text></g><g class=\"toytree-TipLabel\" transform=\"translate(184.845,94.9541)\"><text x=\"10.0\" y=\"2.5549999999999997\" style=\"fill:rgb(14.5%,14.5%,14.5%);fill-opacity:1.0\">r4</text></g><g class=\"toytree-TipLabel\" transform=\"translate(184.845,58.2569)\"><text x=\"10.0\" y=\"2.5549999999999997\" style=\"fill:rgb(14.5%,14.5%,14.5%);fill-opacity:1.0\">r5</text></g></g></g></g></g><g class=\"toyplot-coordinates-Cartesian\" id=\"t2c205eae1dbb40119699c0b9eacf5a70\"><clipPath id=\"t808581069988474f8659094ca7d2eea8\"><rect x=\"245.0\" y=\"40.0\" width=\"205.0\" height=\"220.0\"></rect></clipPath><g clip-path=\"url(#t808581069988474f8659094ca7d2eea8)\"><g class=\"toytree-mark-Toytree\" id=\"t2ff66a403db7431a8c9efe8600d2f32a\"><g class=\"toytree-Edges\" style=\"stroke:rgb(14.5%,14.5%,14.5%);stroke-opacity:1.0;stroke-linecap:round;stroke-width:2.0;fill:none\"><path d=\"M 360.6 231.5 L 360.6 241.7 L 409.8 241.7\" id=\"10,0\" style=\"\"></path><path d=\"M 360.6 231.5 L 360.6 221.4 L 409.8 221.4\" id=\"10,1\" style=\"\"></path><path d=\"M 360.6 190.8 L 360.6 201.0 L 409.8 201.0\" id=\"11,2\" style=\"\"></path><path d=\"M 360.6 190.8 L 360.6 180.6 L 409.8 180.6\" id=\"11,3\" style=\"\"></path><path d=\"M 311.4 137.3 L 311.4 160.2 L 409.8 160.2\" id=\"17,4\" style=\"\"></path><path d=\"M 360.6 114.3 L 360.6 139.8 L 409.8 139.8\" id=\"16,5\" style=\"\"></path><path d=\"M 397.5 109.2 L 397.5 119.4 L 409.8 119.4\" id=\"13,6\" style=\"\"></path><path d=\"M 397.5 109.2 L 397.5 99.0 L 409.8 99.0\" id=\"13,7\" style=\"\"></path><path d=\"M 397.5 68.5 L 397.5 78.6 L 409.8 78.6\" id=\"14,8\" style=\"\"></path><path d=\"M 397.5 68.5 L 397.5 58.3 L 409.8 58.3\" id=\"14,9\" style=\"\"></path><path d=\"M 311.4 211.2 L 311.4 231.5 L 360.6 231.5\" id=\"12,10\" style=\"\"></path><path d=\"M 311.4 211.2 L 311.4 190.8 L 360.6 190.8\" id=\"12,11\" style=\"\"></path><path d=\"M 262.2 174.2 L 262.2 211.2 L 311.4 211.2\" id=\"18,12\" style=\"\"></path><path d=\"M 385.2 88.8 L 385.2 109.2 L 397.5 109.2\" id=\"15,13\" style=\"\"></path><path d=\"M 385.2 88.8 L 385.2 68.5 L 397.5 68.5\" id=\"15,14\" style=\"\"></path><path d=\"M 360.6 114.3 L 360.6 88.8 L 385.2 88.8\" id=\"16,15\" style=\"\"></path><path d=\"M 311.4 137.3 L 311.4 114.3 L 360.6 114.3\" id=\"17,16\" style=\"\"></path><path d=\"M 262.2 174.2 L 262.2 137.3 L 311.4 137.3\" id=\"18,17\" style=\"\"></path></g><g class=\"toytree-AdmixEdges\" style=\"fill:rgb(0.0%,0.0%,0.0%);fill-opacity:0.0;stroke:rgb(90.6%,54.1%,76.5%);stroke-opacity:0.6;font-size:14px;stroke-linecap:round;stroke-width:5\"></g><g class=\"toytree-Nodes\" style=\"fill:rgb(40.0%,76.1%,64.7%);fill-opacity:1.0;stroke:rgb(14.9%,14.9%,14.9%);stroke-opacity:1.0;stroke-width:1.5\"><g id=\"Node-10\" transform=\"translate(360.625,231.549)\"><circle r=\"7.5\"></circle></g><g id=\"Node-11\" transform=\"translate(360.625,190.775)\"><circle r=\"7.5\"></circle></g><g id=\"Node-12\" transform=\"translate(311.404,211.162)\"><circle r=\"7.5\"></circle></g><g id=\"Node-13\" transform=\"translate(397.54,109.225)\"><circle r=\"7.5\"></circle></g><g id=\"Node-14\" transform=\"translate(397.54,68.4506)\"><circle r=\"7.5\"></circle></g><g id=\"Node-15\" transform=\"translate(385.235,88.8379)\"><circle r=\"7.5\"></circle></g><g id=\"Node-16\" transform=\"translate(360.625,114.322)\"><circle r=\"7.5\"></circle></g><g id=\"Node-17\" transform=\"translate(311.404,137.258)\"><circle r=\"7.5\"></circle></g><g id=\"Node-18\" transform=\"translate(262.184,174.21)\"><circle r=\"7.5\"></circle></g></g><g class=\"toytree-NodeLabels\" style=\"font-family:Helvetica;font-size:9px;font-weight:300;vertical-align:baseline;white-space:pre;stroke:none\"><g class=\"toytree-NodeLabel\" transform=\"translate(360.625,231.549)\"></g><g class=\"toytree-NodeLabel\" transform=\"translate(360.625,190.775)\"></g><g class=\"toytree-NodeLabel\" transform=\"translate(311.404,211.162)\"></g><g class=\"toytree-NodeLabel\" transform=\"translate(397.54,109.225)\"></g><g class=\"toytree-NodeLabel\" transform=\"translate(397.54,68.4506)\"></g><g class=\"toytree-NodeLabel\" transform=\"translate(385.235,88.8379)\"></g><g class=\"toytree-NodeLabel\" transform=\"translate(360.625,114.322)\"><text x=\"-3.0015\" y=\"2.2995\" style=\"fill:rgb(14.5%,14.5%,14.5%);fill-opacity:1.0\">P</text></g><g class=\"toytree-NodeLabel\" transform=\"translate(311.404,137.258)\"></g><g class=\"toytree-NodeLabel\" transform=\"translate(262.184,174.21)\"></g></g><g class=\"toytree-TipLabels\" style=\"fill:rgb(14.5%,14.5%,14.5%);fill-opacity:1.0;font-family:Helvetica;font-size:10px;font-weight:300;vertical-align:baseline;white-space:pre;stroke:none\"><g class=\"toytree-TipLabel\" transform=\"translate(409.845,241.743)\"><text x=\"10.0\" y=\"2.5549999999999997\" style=\"fill:rgb(14.5%,14.5%,14.5%);fill-opacity:1.0\">r0</text></g><g class=\"toytree-TipLabel\" transform=\"translate(409.845,221.356)\"><text x=\"10.0\" y=\"2.5549999999999997\" style=\"fill:rgb(14.5%,14.5%,14.5%);fill-opacity:1.0\">r1</text></g><g class=\"toytree-TipLabel\" transform=\"translate(409.845,200.968)\"><text x=\"10.0\" y=\"2.5549999999999997\" style=\"fill:rgb(14.5%,14.5%,14.5%);fill-opacity:1.0\">r2</text></g><g class=\"toytree-TipLabel\" transform=\"translate(409.845,180.581)\"><text x=\"10.0\" y=\"2.5549999999999997\" style=\"fill:rgb(14.5%,14.5%,14.5%);fill-opacity:1.0\">r3</text></g><g class=\"toytree-TipLabel\" transform=\"translate(409.845,160.194)\"><text x=\"10.0\" y=\"2.5549999999999997\" style=\"fill:rgb(14.5%,14.5%,14.5%);fill-opacity:1.0\">r5</text></g><g class=\"toytree-TipLabel\" transform=\"translate(409.845,139.806)\"><text x=\"10.0\" y=\"2.5549999999999997\" style=\"fill:rgb(14.5%,14.5%,14.5%);fill-opacity:1.0\">r4</text></g><g class=\"toytree-TipLabel\" transform=\"translate(409.845,119.419)\"><text x=\"10.0\" y=\"2.5549999999999997\" style=\"fill:rgb(14.5%,14.5%,14.5%);fill-opacity:1.0\">r0</text></g><g class=\"toytree-TipLabel\" transform=\"translate(409.845,99.0316)\"><text x=\"10.0\" y=\"2.5549999999999997\" style=\"fill:rgb(14.5%,14.5%,14.5%);fill-opacity:1.0\">r1</text></g><g class=\"toytree-TipLabel\" transform=\"translate(409.845,78.6442)\"><text x=\"10.0\" y=\"2.5549999999999997\" style=\"fill:rgb(14.5%,14.5%,14.5%);fill-opacity:1.0\">r2</text></g><g class=\"toytree-TipLabel\" transform=\"translate(409.845,58.2569)\"><text x=\"10.0\" y=\"2.5549999999999997\" style=\"fill:rgb(14.5%,14.5%,14.5%);fill-opacity:1.0\">r3</text></g></g></g></g></g></svg><div class=\"toyplot-behavior\"><script>(function()\n",
       "{\n",
       "var modules={};\n",
       "})();</script></div></div>"
      ]
     },
     "metadata": {},
     "output_type": "display_data"
    }
   ],
   "source": [
    "# get a subtree from this tree or a different one\n",
    "subtree = tree.mod.extract_subtree(\"r0\", \"r1\", \"r2\", \"r3\")\n",
    "# insert this subtree at a selected node in the this tree\n",
    "mod_tree = toytree.mod.add_internal_node_and_subtree(tree, \"r4\", subtree=subtree, subtree_rescale=True, parent_name=\"P\")\n",
    "# draw\n",
    "toytree.mtree([tree, mod_tree]).draw(node_sizes=15, node_labels=\"name\", height=300);"
   ]
  },
  {
   "cell_type": "markdown",
   "metadata": {},
   "source": [
    "### remove_nodes\n",
    "If multiple Nodes are entered they are removed in a postorder\n",
    "traversal of the tree. Nodes can be selected using Node Queries."
   ]
  },
  {
   "cell_type": "code",
   "execution_count": 86,
   "metadata": {},
   "outputs": [
    {
     "data": {
      "text/html": [
       "<div class=\"toyplot\" id=\"tae98297020724113a1e21f62c12188da\" style=\"text-align:center\"><svg class=\"toyplot-canvas-Canvas\" xmlns:toyplot=\"http://www.sandia.gov/toyplot\" xmlns:xlink=\"http://www.w3.org/1999/xlink\" xmlns=\"http://www.w3.org/2000/svg\" width=\"450.0px\" height=\"250.0px\" viewBox=\"0 0 450.0 250.0\" preserveAspectRatio=\"xMidYMid meet\" style=\"background-color:transparent;border-color:#292724;border-style:none;border-width:1.0;fill:rgb(16.1%,15.3%,14.1%);fill-opacity:1.0;font-family:Helvetica;font-size:12px;opacity:1.0;stroke:rgb(16.1%,15.3%,14.1%);stroke-opacity:1.0;stroke-width:1.0\" id=\"t8390bc944bc6447ebf407b832f874624\"><g class=\"toyplot-coordinates-Cartesian\" id=\"t282bbe20d93940c89c096305d124b424\"><clipPath id=\"t75a84bf01a124d7a8a8ee32e5f231683\"><rect x=\"20.0\" y=\"40.0\" width=\"205.0\" height=\"170.0\"></rect></clipPath><g clip-path=\"url(#t75a84bf01a124d7a8a8ee32e5f231683)\"><g class=\"toytree-mark-Toytree\" id=\"t368123d5363d4db5860ddacb3fe54f6d\"><g class=\"toytree-Edges\" style=\"stroke:rgb(14.5%,14.5%,14.5%);stroke-opacity:1.0;stroke-linecap:round;stroke-width:2.0;fill:none\"><path d=\"M 135.6 178.6 L 135.6 192.0 L 184.8 192.0\" id=\"6,0\" style=\"\"></path><path d=\"M 135.6 178.6 L 135.6 165.2 L 184.8 165.2\" id=\"6,1\" style=\"\"></path><path d=\"M 135.6 125.0 L 135.6 138.4 L 184.8 138.4\" id=\"7,2\" style=\"\"></path><path d=\"M 135.6 125.0 L 135.6 111.6 L 184.8 111.6\" id=\"7,3\" style=\"\"></path><path d=\"M 86.4 71.4 L 86.4 84.8 L 184.8 84.8\" id=\"9,4\" style=\"\"></path><path d=\"M 86.4 71.4 L 86.4 58.0 L 184.8 58.0\" id=\"9,5\" style=\"\"></path><path d=\"M 86.4 151.8 L 86.4 178.6 L 135.6 178.6\" id=\"8,6\" style=\"\"></path><path d=\"M 86.4 151.8 L 86.4 125.0 L 135.6 125.0\" id=\"8,7\" style=\"\"></path><path d=\"M 37.2 111.6 L 37.2 151.8 L 86.4 151.8\" id=\"10,8\" style=\"\"></path><path d=\"M 37.2 111.6 L 37.2 71.4 L 86.4 71.4\" id=\"10,9\" style=\"\"></path></g><g class=\"toytree-AdmixEdges\" style=\"fill:rgb(0.0%,0.0%,0.0%);fill-opacity:0.0;stroke:rgb(90.6%,54.1%,76.5%);stroke-opacity:0.6;font-size:14px;stroke-linecap:round;stroke-width:5\"></g><g class=\"toytree-Nodes\" style=\"fill:rgb(40.0%,76.1%,64.7%);fill-opacity:1.0;stroke:rgb(14.9%,14.9%,14.9%);stroke-opacity:1.0;stroke-width:1.5\"><g id=\"Node-6\" transform=\"translate(135.625,178.571)\"><circle r=\"7.5\"></circle></g><g id=\"Node-7\" transform=\"translate(135.625,125)\"><circle r=\"7.5\"></circle></g><g id=\"Node-8\" transform=\"translate(86.4041,151.786)\"><circle r=\"7.5\"></circle></g><g id=\"Node-9\" transform=\"translate(86.4041,71.4286)\"><circle r=\"7.5\"></circle></g><g id=\"Node-10\" transform=\"translate(37.1835,111.607)\"><circle r=\"7.5\"></circle></g></g><g class=\"toytree-NodeLabels\" style=\"font-family:Helvetica;font-size:9px;font-weight:300;vertical-align:baseline;white-space:pre;stroke:none\"><g class=\"toytree-NodeLabel\" transform=\"translate(135.625,178.571)\"><text x=\"-2.5020000000000002\" y=\"2.2995\" style=\"fill:rgb(14.5%,14.5%,14.5%);fill-opacity:1.0\">6</text></g><g class=\"toytree-NodeLabel\" transform=\"translate(135.625,125)\"><text x=\"-2.5020000000000002\" y=\"2.2995\" style=\"fill:rgb(14.5%,14.5%,14.5%);fill-opacity:1.0\">7</text></g><g class=\"toytree-NodeLabel\" transform=\"translate(86.4041,151.786)\"><text x=\"-2.5020000000000002\" y=\"2.2995\" style=\"fill:rgb(14.5%,14.5%,14.5%);fill-opacity:1.0\">8</text></g><g class=\"toytree-NodeLabel\" transform=\"translate(86.4041,71.4286)\"><text x=\"-2.5020000000000002\" y=\"2.2995\" style=\"fill:rgb(14.5%,14.5%,14.5%);fill-opacity:1.0\">9</text></g><g class=\"toytree-NodeLabel\" transform=\"translate(37.1835,111.607)\"><text x=\"-5.0040000000000004\" y=\"2.2995\" style=\"fill:rgb(14.5%,14.5%,14.5%);fill-opacity:1.0\">10</text></g></g><g class=\"toytree-TipLabels\" style=\"fill:rgb(14.5%,14.5%,14.5%);fill-opacity:1.0;font-family:Helvetica;font-size:10px;font-weight:300;vertical-align:baseline;white-space:pre;stroke:none\"><g class=\"toytree-TipLabel\" transform=\"translate(184.845,191.964)\"><text x=\"10.0\" y=\"2.5549999999999997\" style=\"fill:rgb(14.5%,14.5%,14.5%);fill-opacity:1.0\">r0</text></g><g class=\"toytree-TipLabel\" transform=\"translate(184.845,165.179)\"><text x=\"10.0\" y=\"2.5549999999999997\" style=\"fill:rgb(14.5%,14.5%,14.5%);fill-opacity:1.0\">r1</text></g><g class=\"toytree-TipLabel\" transform=\"translate(184.845,138.393)\"><text x=\"10.0\" y=\"2.5549999999999997\" style=\"fill:rgb(14.5%,14.5%,14.5%);fill-opacity:1.0\">r2</text></g><g class=\"toytree-TipLabel\" transform=\"translate(184.845,111.607)\"><text x=\"10.0\" y=\"2.5549999999999997\" style=\"fill:rgb(14.5%,14.5%,14.5%);fill-opacity:1.0\">r3</text></g><g class=\"toytree-TipLabel\" transform=\"translate(184.845,84.8214)\"><text x=\"10.0\" y=\"2.5549999999999997\" style=\"fill:rgb(14.5%,14.5%,14.5%);fill-opacity:1.0\">r4</text></g><g class=\"toytree-TipLabel\" transform=\"translate(184.845,58.0357)\"><text x=\"10.0\" y=\"2.5549999999999997\" style=\"fill:rgb(14.5%,14.5%,14.5%);fill-opacity:1.0\">r5</text></g></g></g></g></g><g class=\"toyplot-coordinates-Cartesian\" id=\"t218e13d4301c441ca54c5775cd62d439\"><clipPath id=\"t17058de56f074226a5c4e390178aed58\"><rect x=\"245.0\" y=\"40.0\" width=\"205.0\" height=\"170.0\"></rect></clipPath><g clip-path=\"url(#t17058de56f074226a5c4e390178aed58)\"><g class=\"toytree-mark-Toytree\" id=\"t2f1f47d2f76d4904908ea08b0e2bcc84\"><g class=\"toytree-Edges\" style=\"stroke:rgb(14.5%,14.5%,14.5%);stroke-opacity:1.0;stroke-linecap:round;stroke-width:2.0;fill:none\"><path d=\"M 360.6 192.0 L 360.6 192.0 L 409.8 192.0\" id=\"4,0\" style=\"\"></path><path d=\"M 311.4 169.6 L 311.4 147.3 L 360.6 147.3\" id=\"5,1\" style=\"\"></path><path d=\"M 311.4 80.4 L 311.4 102.7 L 409.8 102.7\" id=\"6,2\" style=\"\"></path><path d=\"M 311.4 80.4 L 311.4 58.0 L 409.8 58.0\" id=\"6,3\" style=\"\"></path><path d=\"M 311.4 169.6 L 311.4 192.0 L 360.6 192.0\" id=\"5,4\" style=\"\"></path><path d=\"M 262.2 125.0 L 262.2 169.6 L 311.4 169.6\" id=\"7,5\" style=\"\"></path><path d=\"M 262.2 125.0 L 262.2 80.4 L 311.4 80.4\" id=\"7,6\" style=\"\"></path></g><g class=\"toytree-AdmixEdges\" style=\"fill:rgb(0.0%,0.0%,0.0%);fill-opacity:0.0;stroke:rgb(90.6%,54.1%,76.5%);stroke-opacity:0.6;font-size:14px;stroke-linecap:round;stroke-width:5\"></g><g class=\"toytree-Nodes\" style=\"fill:rgb(40.0%,76.1%,64.7%);fill-opacity:1.0;stroke:rgb(14.9%,14.9%,14.9%);stroke-opacity:1.0;stroke-width:1.5\"><g id=\"Node-4\" transform=\"translate(360.625,191.964)\"><circle r=\"7.5\"></circle></g><g id=\"Node-5\" transform=\"translate(311.404,169.643)\"><circle r=\"7.5\"></circle></g><g id=\"Node-6\" transform=\"translate(311.404,80.3571)\"><circle r=\"7.5\"></circle></g><g id=\"Node-7\" transform=\"translate(262.184,125)\"><circle r=\"7.5\"></circle></g></g><g class=\"toytree-NodeLabels\" style=\"font-family:Helvetica;font-size:9px;font-weight:300;vertical-align:baseline;white-space:pre;stroke:none\"><g class=\"toytree-NodeLabel\" transform=\"translate(360.625,191.964)\"><text x=\"-2.5020000000000002\" y=\"2.2995\" style=\"fill:rgb(14.5%,14.5%,14.5%);fill-opacity:1.0\">4</text></g><g class=\"toytree-NodeLabel\" transform=\"translate(311.404,169.643)\"><text x=\"-2.5020000000000002\" y=\"2.2995\" style=\"fill:rgb(14.5%,14.5%,14.5%);fill-opacity:1.0\">5</text></g><g class=\"toytree-NodeLabel\" transform=\"translate(311.404,80.3571)\"><text x=\"-2.5020000000000002\" y=\"2.2995\" style=\"fill:rgb(14.5%,14.5%,14.5%);fill-opacity:1.0\">6</text></g><g class=\"toytree-NodeLabel\" transform=\"translate(262.184,125)\"><text x=\"-2.5020000000000002\" y=\"2.2995\" style=\"fill:rgb(14.5%,14.5%,14.5%);fill-opacity:1.0\">7</text></g></g><g class=\"toytree-TipLabels\" style=\"fill:rgb(14.5%,14.5%,14.5%);fill-opacity:1.0;font-family:Helvetica;font-size:10px;font-weight:300;vertical-align:baseline;white-space:pre;stroke:none\"><g class=\"toytree-TipLabel\" transform=\"translate(409.845,191.964)\"><text x=\"10.0\" y=\"2.5549999999999997\" style=\"fill:rgb(14.5%,14.5%,14.5%);fill-opacity:1.0\">r0</text></g><g class=\"toytree-TipLabel\" transform=\"translate(360.625,147.321)\"></g><g class=\"toytree-TipLabel\" transform=\"translate(409.845,102.679)\"><text x=\"10.0\" y=\"2.5549999999999997\" style=\"fill:rgb(14.5%,14.5%,14.5%);fill-opacity:1.0\">r4</text></g><g class=\"toytree-TipLabel\" transform=\"translate(409.845,58.0357)\"><text x=\"10.0\" y=\"2.5549999999999997\" style=\"fill:rgb(14.5%,14.5%,14.5%);fill-opacity:1.0\">r5</text></g></g></g></g></g></svg><div class=\"toyplot-behavior\"><script>(function()\n",
       "{\n",
       "var modules={};\n",
       "})();</script></div></div>"
      ]
     },
     "metadata": {},
     "output_type": "display_data"
    }
   ],
   "source": [
    "mod_tree = toytree.mod.remove_nodes(tree, \"r1\", \"r2\", \"r3\", )\n",
    "toytree.mtree([tree, mod_tree]).draw(node_sizes=15, node_labels=\"idx\");"
   ]
  },
  {
   "cell_type": "markdown",
   "metadata": {},
   "source": [
    "### remove_unary_nodes\n",
    "Some operations can leave behind \"unary nodes\" which only have a single child Node instead of the typical pattern in a tree of having 2 or more children. You could find and remove these nodes using `remove_nodes`, but another option to use `remove_unary_nodes` which will search for and remove these nodes for you. "
   ]
  },
  {
   "cell_type": "code",
   "execution_count": 96,
   "metadata": {},
   "outputs": [
    {
     "data": {
      "text/html": [
       "<div class=\"toyplot\" id=\"t18f49cd74b784e8e9144161b96036401\" style=\"text-align:center\"><svg class=\"toyplot-canvas-Canvas\" xmlns:toyplot=\"http://www.sandia.gov/toyplot\" xmlns:xlink=\"http://www.w3.org/1999/xlink\" xmlns=\"http://www.w3.org/2000/svg\" width=\"450.0px\" height=\"250.0px\" viewBox=\"0 0 450.0 250.0\" preserveAspectRatio=\"xMidYMid meet\" style=\"background-color:transparent;border-color:#292724;border-style:none;border-width:1.0;fill:rgb(16.1%,15.3%,14.1%);fill-opacity:1.0;font-family:Helvetica;font-size:12px;opacity:1.0;stroke:rgb(16.1%,15.3%,14.1%);stroke-opacity:1.0;stroke-width:1.0\" id=\"t78b1a9cdcd5249e49ad9e64958d49fdc\"><g class=\"toyplot-coordinates-Cartesian\" id=\"t272fbcf5fa6b49f1acf155cd0419deae\"><clipPath id=\"t364aba760d644614bc9f614c1a22f302\"><rect x=\"20.0\" y=\"40.0\" width=\"205.0\" height=\"170.0\"></rect></clipPath><g clip-path=\"url(#t364aba760d644614bc9f614c1a22f302)\"><g class=\"toytree-mark-Toytree\" id=\"t64230588628149b2a55a096daf917aac\"><g class=\"toytree-Edges\" style=\"stroke:rgb(14.5%,14.5%,14.5%);stroke-opacity:1.0;stroke-linecap:round;stroke-width:2.0;fill:none\"><path d=\"M 135.6 178.6 L 135.6 192.0 L 184.8 192.0\" id=\"6,0\" style=\"\"></path><path d=\"M 135.6 178.6 L 135.6 165.2 L 184.8 165.2\" id=\"6,1\" style=\"\"></path><path d=\"M 135.6 125.0 L 135.6 138.4 L 184.8 138.4\" id=\"8,2\" style=\"\"></path><path d=\"M 160.2 111.6 L 160.2 111.6 L 184.8 111.6\" id=\"7,3\" style=\"\"></path><path d=\"M 86.4 71.4 L 86.4 84.8 L 184.8 84.8\" id=\"10,4\" style=\"\"></path><path d=\"M 86.4 71.4 L 86.4 58.0 L 184.8 58.0\" id=\"10,5\" style=\"\"></path><path d=\"M 86.4 151.8 L 86.4 178.6 L 135.6 178.6\" id=\"9,6\" style=\"\"></path><path d=\"M 135.6 125.0 L 135.6 111.6 L 160.2 111.6\" id=\"8,7\" style=\"\"></path><path d=\"M 86.4 151.8 L 86.4 125.0 L 135.6 125.0\" id=\"9,8\" style=\"\"></path><path d=\"M 37.2 111.6 L 37.2 151.8 L 86.4 151.8\" id=\"11,9\" style=\"\"></path><path d=\"M 37.2 111.6 L 37.2 71.4 L 86.4 71.4\" id=\"11,10\" style=\"\"></path></g><g class=\"toytree-AdmixEdges\" style=\"fill:rgb(0.0%,0.0%,0.0%);fill-opacity:0.0;stroke:rgb(90.6%,54.1%,76.5%);stroke-opacity:0.6;font-size:14px;stroke-linecap:round;stroke-width:5\"></g><g class=\"toytree-Nodes\" style=\"fill:rgb(40.0%,76.1%,64.7%);fill-opacity:1.0;stroke:rgb(14.9%,14.9%,14.9%);stroke-opacity:1.0;stroke-width:1.5\"><g id=\"Node-6\" transform=\"translate(135.625,178.571)\"><circle r=\"7.5\"></circle></g><g id=\"Node-7\" transform=\"translate(160.235,111.607)\"><circle r=\"7.5\"></circle></g><g id=\"Node-8\" transform=\"translate(135.625,125)\"><circle r=\"7.5\"></circle></g><g id=\"Node-9\" transform=\"translate(86.4041,151.786)\"><circle r=\"7.5\"></circle></g><g id=\"Node-10\" transform=\"translate(86.4041,71.4286)\"><circle r=\"7.5\"></circle></g><g id=\"Node-11\" transform=\"translate(37.1835,111.607)\"><circle r=\"7.5\"></circle></g></g><g class=\"toytree-NodeLabels\" style=\"font-family:Helvetica;font-size:9px;font-weight:300;vertical-align:baseline;white-space:pre;stroke:none\"><g class=\"toytree-NodeLabel\" transform=\"translate(135.625,178.571)\"><text x=\"-2.5020000000000002\" y=\"2.2995\" style=\"fill:rgb(14.5%,14.5%,14.5%);fill-opacity:1.0\">6</text></g><g class=\"toytree-NodeLabel\" transform=\"translate(160.235,111.607)\"><text x=\"-2.5020000000000002\" y=\"2.2995\" style=\"fill:rgb(14.5%,14.5%,14.5%);fill-opacity:1.0\">7</text></g><g class=\"toytree-NodeLabel\" transform=\"translate(135.625,125)\"><text x=\"-2.5020000000000002\" y=\"2.2995\" style=\"fill:rgb(14.5%,14.5%,14.5%);fill-opacity:1.0\">8</text></g><g class=\"toytree-NodeLabel\" transform=\"translate(86.4041,151.786)\"><text x=\"-2.5020000000000002\" y=\"2.2995\" style=\"fill:rgb(14.5%,14.5%,14.5%);fill-opacity:1.0\">9</text></g><g class=\"toytree-NodeLabel\" transform=\"translate(86.4041,71.4286)\"><text x=\"-5.0040000000000004\" y=\"2.2995\" style=\"fill:rgb(14.5%,14.5%,14.5%);fill-opacity:1.0\">10</text></g><g class=\"toytree-NodeLabel\" transform=\"translate(37.1835,111.607)\"><text x=\"-5.0040000000000004\" y=\"2.2995\" style=\"fill:rgb(14.5%,14.5%,14.5%);fill-opacity:1.0\">11</text></g></g><g class=\"toytree-TipLabels\" style=\"fill:rgb(14.5%,14.5%,14.5%);fill-opacity:1.0;font-family:Helvetica;font-size:10px;font-weight:300;vertical-align:baseline;white-space:pre;stroke:none\"><g class=\"toytree-TipLabel\" transform=\"translate(184.845,191.964)\"><text x=\"10.0\" y=\"2.5549999999999997\" style=\"fill:rgb(14.5%,14.5%,14.5%);fill-opacity:1.0\">r0</text></g><g class=\"toytree-TipLabel\" transform=\"translate(184.845,165.179)\"><text x=\"10.0\" y=\"2.5549999999999997\" style=\"fill:rgb(14.5%,14.5%,14.5%);fill-opacity:1.0\">r1</text></g><g class=\"toytree-TipLabel\" transform=\"translate(184.845,138.393)\"><text x=\"10.0\" y=\"2.5549999999999997\" style=\"fill:rgb(14.5%,14.5%,14.5%);fill-opacity:1.0\">r3</text></g><g class=\"toytree-TipLabel\" transform=\"translate(184.845,111.607)\"><text x=\"10.0\" y=\"2.5549999999999997\" style=\"fill:rgb(14.5%,14.5%,14.5%);fill-opacity:1.0\">r2</text></g><g class=\"toytree-TipLabel\" transform=\"translate(184.845,84.8214)\"><text x=\"10.0\" y=\"2.5549999999999997\" style=\"fill:rgb(14.5%,14.5%,14.5%);fill-opacity:1.0\">r4</text></g><g class=\"toytree-TipLabel\" transform=\"translate(184.845,58.0357)\"><text x=\"10.0\" y=\"2.5549999999999997\" style=\"fill:rgb(14.5%,14.5%,14.5%);fill-opacity:1.0\">r5</text></g></g></g></g></g><g class=\"toyplot-coordinates-Cartesian\" id=\"tfef0a877314e4e438127a0d44b6e051b\"><clipPath id=\"t4851a6d603aa4d0d8e070c2eb2e9af52\"><rect x=\"245.0\" y=\"40.0\" width=\"205.0\" height=\"170.0\"></rect></clipPath><g clip-path=\"url(#t4851a6d603aa4d0d8e070c2eb2e9af52)\"><g class=\"toytree-mark-Toytree\" id=\"t2dd6a8f31e3c41149285f5b8dfa97613\"><g class=\"toytree-Edges\" style=\"stroke:rgb(14.5%,14.5%,14.5%);stroke-opacity:1.0;stroke-linecap:round;stroke-width:2.0;fill:none\"><path d=\"M 360.6 178.6 L 360.6 192.0 L 409.8 192.0\" id=\"6,0\" style=\"\"></path><path d=\"M 360.6 178.6 L 360.6 165.2 L 409.8 165.2\" id=\"6,1\" style=\"\"></path><path d=\"M 360.6 125.0 L 360.6 138.4 L 409.8 138.4\" id=\"7,2\" style=\"\"></path><path d=\"M 360.6 125.0 L 360.6 111.6 L 409.8 111.6\" id=\"7,3\" style=\"\"></path><path d=\"M 311.4 71.4 L 311.4 84.8 L 409.8 84.8\" id=\"9,4\" style=\"\"></path><path d=\"M 311.4 71.4 L 311.4 58.0 L 409.8 58.0\" id=\"9,5\" style=\"\"></path><path d=\"M 311.4 151.8 L 311.4 178.6 L 360.6 178.6\" id=\"8,6\" style=\"\"></path><path d=\"M 311.4 151.8 L 311.4 125.0 L 360.6 125.0\" id=\"8,7\" style=\"\"></path><path d=\"M 262.2 111.6 L 262.2 151.8 L 311.4 151.8\" id=\"10,8\" style=\"\"></path><path d=\"M 262.2 111.6 L 262.2 71.4 L 311.4 71.4\" id=\"10,9\" style=\"\"></path></g><g class=\"toytree-AdmixEdges\" style=\"fill:rgb(0.0%,0.0%,0.0%);fill-opacity:0.0;stroke:rgb(90.6%,54.1%,76.5%);stroke-opacity:0.6;font-size:14px;stroke-linecap:round;stroke-width:5\"></g><g class=\"toytree-Nodes\" style=\"fill:rgb(40.0%,76.1%,64.7%);fill-opacity:1.0;stroke:rgb(14.9%,14.9%,14.9%);stroke-opacity:1.0;stroke-width:1.5\"><g id=\"Node-6\" transform=\"translate(360.625,178.571)\"><circle r=\"7.5\"></circle></g><g id=\"Node-7\" transform=\"translate(360.625,125)\"><circle r=\"7.5\"></circle></g><g id=\"Node-8\" transform=\"translate(311.404,151.786)\"><circle r=\"7.5\"></circle></g><g id=\"Node-9\" transform=\"translate(311.404,71.4286)\"><circle r=\"7.5\"></circle></g><g id=\"Node-10\" transform=\"translate(262.184,111.607)\"><circle r=\"7.5\"></circle></g></g><g class=\"toytree-NodeLabels\" style=\"font-family:Helvetica;font-size:9px;font-weight:300;vertical-align:baseline;white-space:pre;stroke:none\"><g class=\"toytree-NodeLabel\" transform=\"translate(360.625,178.571)\"><text x=\"-2.5020000000000002\" y=\"2.2995\" style=\"fill:rgb(14.5%,14.5%,14.5%);fill-opacity:1.0\">6</text></g><g class=\"toytree-NodeLabel\" transform=\"translate(360.625,125)\"><text x=\"-2.5020000000000002\" y=\"2.2995\" style=\"fill:rgb(14.5%,14.5%,14.5%);fill-opacity:1.0\">7</text></g><g class=\"toytree-NodeLabel\" transform=\"translate(311.404,151.786)\"><text x=\"-2.5020000000000002\" y=\"2.2995\" style=\"fill:rgb(14.5%,14.5%,14.5%);fill-opacity:1.0\">8</text></g><g class=\"toytree-NodeLabel\" transform=\"translate(311.404,71.4286)\"><text x=\"-2.5020000000000002\" y=\"2.2995\" style=\"fill:rgb(14.5%,14.5%,14.5%);fill-opacity:1.0\">9</text></g><g class=\"toytree-NodeLabel\" transform=\"translate(262.184,111.607)\"><text x=\"-5.0040000000000004\" y=\"2.2995\" style=\"fill:rgb(14.5%,14.5%,14.5%);fill-opacity:1.0\">10</text></g></g><g class=\"toytree-TipLabels\" style=\"fill:rgb(14.5%,14.5%,14.5%);fill-opacity:1.0;font-family:Helvetica;font-size:10px;font-weight:300;vertical-align:baseline;white-space:pre;stroke:none\"><g class=\"toytree-TipLabel\" transform=\"translate(409.845,191.964)\"><text x=\"10.0\" y=\"2.5549999999999997\" style=\"fill:rgb(14.5%,14.5%,14.5%);fill-opacity:1.0\">r0</text></g><g class=\"toytree-TipLabel\" transform=\"translate(409.845,165.179)\"><text x=\"10.0\" y=\"2.5549999999999997\" style=\"fill:rgb(14.5%,14.5%,14.5%);fill-opacity:1.0\">r1</text></g><g class=\"toytree-TipLabel\" transform=\"translate(409.845,138.393)\"><text x=\"10.0\" y=\"2.5549999999999997\" style=\"fill:rgb(14.5%,14.5%,14.5%);fill-opacity:1.0\">r3</text></g><g class=\"toytree-TipLabel\" transform=\"translate(409.845,111.607)\"><text x=\"10.0\" y=\"2.5549999999999997\" style=\"fill:rgb(14.5%,14.5%,14.5%);fill-opacity:1.0\">r2</text></g><g class=\"toytree-TipLabel\" transform=\"translate(409.845,84.8214)\"><text x=\"10.0\" y=\"2.5549999999999997\" style=\"fill:rgb(14.5%,14.5%,14.5%);fill-opacity:1.0\">r4</text></g><g class=\"toytree-TipLabel\" transform=\"translate(409.845,58.0357)\"><text x=\"10.0\" y=\"2.5549999999999997\" style=\"fill:rgb(14.5%,14.5%,14.5%);fill-opacity:1.0\">r5</text></g></g></g></g></g></svg><div class=\"toyplot-behavior\"><script>(function()\n",
       "{\n",
       "var modules={};\n",
       "})();</script></div></div>"
      ]
     },
     "metadata": {},
     "output_type": "display_data"
    }
   ],
   "source": [
    "# get a tree with a unary node\n",
    "mod_tree1 = toytree.mod.add_internal_node(tree, \"r2\", name=\"X\")\n",
    "# remove the unary node\n",
    "mod_tree2 = toytree.mod.remove_unary_nodes(mod_tree1)\n",
    "toytree.mtree([mod_tree1, mod_tree2]).draw(node_sizes=15, node_labels=\"idx\");"
   ]
  },
  {
   "cell_type": "markdown",
   "metadata": {},
   "source": [
    "### merge_nodes\n",
    "The method `merge_nodes` can be used to remove nodes from a tree based on a Callable function that return True or False. The specified \"merge_method\" function will be performed at each Node in the tree, and if it returns True the node will be collapsed. A second function \"selection_method\" can be used to select which node will be retained. The default is to select the Node with the lowest idx (using the min function). "
   ]
  },
  {
   "cell_type": "code",
   "execution_count": 179,
   "metadata": {},
   "outputs": [
    {
     "data": {
      "text/html": [
       "<div class=\"toyplot\" id=\"t81dccf0447144475bc07797330a6d38a\" style=\"text-align:center\"><svg class=\"toyplot-canvas-Canvas\" xmlns:toyplot=\"http://www.sandia.gov/toyplot\" xmlns:xlink=\"http://www.w3.org/1999/xlink\" xmlns=\"http://www.w3.org/2000/svg\" width=\"450.0px\" height=\"250.0px\" viewBox=\"0 0 450.0 250.0\" preserveAspectRatio=\"xMidYMid meet\" style=\"background-color:transparent;border-color:#292724;border-style:none;border-width:1.0;fill:rgb(16.1%,15.3%,14.1%);fill-opacity:1.0;font-family:Helvetica;font-size:12px;opacity:1.0;stroke:rgb(16.1%,15.3%,14.1%);stroke-opacity:1.0;stroke-width:1.0\" id=\"t4bb5ad30b57844aab830536bfb6f5ea4\"><g class=\"toyplot-coordinates-Cartesian\" id=\"tc7ac79342d8e41e694759f202c1aec78\"><clipPath id=\"t8b0483e317e54780a60d6064c319561d\"><rect x=\"20.0\" y=\"40.0\" width=\"205.0\" height=\"170.0\"></rect></clipPath><g clip-path=\"url(#t8b0483e317e54780a60d6064c319561d)\"><g class=\"toytree-mark-Toytree\" id=\"t957b297301724f4ca8eb09cd96b98700\"><g class=\"toytree-Edges\" style=\"stroke:rgb(14.5%,14.5%,14.5%);stroke-opacity:1.0;stroke-linecap:round;stroke-width:2.0;fill:none\"><path d=\"M 135.6 171.9 L 135.6 192.0 L 184.8 192.0\" id=\"7,0\" style=\"\"></path><path d=\"M 160.2 151.8 L 160.2 165.2 L 184.8 165.2\" id=\"6,1\" style=\"\"></path><path d=\"M 160.2 151.8 L 160.2 138.4 L 184.8 138.4\" id=\"6,2\" style=\"\"></path><path d=\"M 86.4 141.7 L 86.4 111.6 L 184.8 111.6\" id=\"8,3\" style=\"\"></path><path d=\"M 86.4 71.4 L 86.4 84.8 L 184.8 84.8\" id=\"9,4\" style=\"\"></path><path d=\"M 86.4 71.4 L 86.4 58.0 L 184.8 58.0\" id=\"9,5\" style=\"\"></path><path d=\"M 135.6 171.9 L 135.6 151.8 L 160.2 151.8\" id=\"7,6\" style=\"\"></path><path d=\"M 86.4 141.7 L 86.4 171.9 L 135.6 171.9\" id=\"8,7\" style=\"\"></path><path d=\"M 37.2 106.6 L 37.2 141.7 L 86.4 141.7\" id=\"10,8\" style=\"\"></path><path d=\"M 37.2 106.6 L 37.2 71.4 L 86.4 71.4\" id=\"10,9\" style=\"\"></path></g><g class=\"toytree-AdmixEdges\" style=\"fill:rgb(0.0%,0.0%,0.0%);fill-opacity:0.0;stroke:rgb(90.6%,54.1%,76.5%);stroke-opacity:0.6;font-size:14px;stroke-linecap:round;stroke-width:5\"></g><g class=\"toytree-Nodes\" style=\"fill:rgb(40.0%,76.1%,64.7%);fill-opacity:1.0;stroke:rgb(14.9%,14.9%,14.9%);stroke-opacity:1.0;stroke-width:1.5\"><g id=\"Node-6\" transform=\"translate(160.235,151.786)\"><circle r=\"7.5\"></circle></g><g id=\"Node-7\" transform=\"translate(135.625,171.875)\"><circle r=\"7.5\"></circle></g><g id=\"Node-8\" transform=\"translate(86.4041,141.741)\"><circle r=\"7.5\"></circle></g><g id=\"Node-9\" transform=\"translate(86.4041,71.4286)\"><circle r=\"7.5\"></circle></g><g id=\"Node-10\" transform=\"translate(37.1835,106.585)\"><circle r=\"7.5\"></circle></g></g><g class=\"toytree-NodeLabels\" style=\"font-family:Helvetica;font-size:9px;font-weight:300;vertical-align:baseline;white-space:pre;stroke:none\"><g class=\"toytree-NodeLabel\" transform=\"translate(160.235,151.786)\"><text x=\"-2.5020000000000002\" y=\"2.2995\" style=\"fill:rgb(14.5%,14.5%,14.5%);fill-opacity:1.0\">6</text></g><g class=\"toytree-NodeLabel\" transform=\"translate(135.625,171.875)\"><text x=\"-2.5020000000000002\" y=\"2.2995\" style=\"fill:rgb(14.5%,14.5%,14.5%);fill-opacity:1.0\">7</text></g><g class=\"toytree-NodeLabel\" transform=\"translate(86.4041,141.741)\"><text x=\"-2.5020000000000002\" y=\"2.2995\" style=\"fill:rgb(14.5%,14.5%,14.5%);fill-opacity:1.0\">8</text></g><g class=\"toytree-NodeLabel\" transform=\"translate(86.4041,71.4286)\"><text x=\"-2.5020000000000002\" y=\"2.2995\" style=\"fill:rgb(14.5%,14.5%,14.5%);fill-opacity:1.0\">9</text></g><g class=\"toytree-NodeLabel\" transform=\"translate(37.1835,106.585)\"><text x=\"-5.0040000000000004\" y=\"2.2995\" style=\"fill:rgb(14.5%,14.5%,14.5%);fill-opacity:1.0\">10</text></g></g><g class=\"toytree-TipLabels\" style=\"fill:rgb(14.5%,14.5%,14.5%);fill-opacity:1.0;font-family:Helvetica;font-size:10px;font-weight:300;vertical-align:baseline;white-space:pre;stroke:none\"><g class=\"toytree-TipLabel\" transform=\"translate(184.845,191.964)\"><text x=\"10.0\" y=\"2.5549999999999997\" style=\"fill:rgb(14.5%,14.5%,14.5%);fill-opacity:1.0\">r0</text></g><g class=\"toytree-TipLabel\" transform=\"translate(184.845,165.179)\"><text x=\"10.0\" y=\"2.5549999999999997\" style=\"fill:rgb(14.5%,14.5%,14.5%);fill-opacity:1.0\">r1</text></g><g class=\"toytree-TipLabel\" transform=\"translate(184.845,138.393)\"><text x=\"10.0\" y=\"2.5549999999999997\" style=\"fill:rgb(14.5%,14.5%,14.5%);fill-opacity:1.0\">r1</text></g><g class=\"toytree-TipLabel\" transform=\"translate(184.845,111.607)\"><text x=\"10.0\" y=\"2.5549999999999997\" style=\"fill:rgb(14.5%,14.5%,14.5%);fill-opacity:1.0\">r2</text></g><g class=\"toytree-TipLabel\" transform=\"translate(184.845,84.8214)\"><text x=\"10.0\" y=\"2.5549999999999997\" style=\"fill:rgb(14.5%,14.5%,14.5%);fill-opacity:1.0\">r3</text></g><g class=\"toytree-TipLabel\" transform=\"translate(184.845,58.0357)\"><text x=\"10.0\" y=\"2.5549999999999997\" style=\"fill:rgb(14.5%,14.5%,14.5%);fill-opacity:1.0\">r4</text></g></g></g></g></g><g class=\"toyplot-coordinates-Cartesian\" id=\"t661acd3c197646f8a172d751497cdb43\"><clipPath id=\"t66088c42eeec452ab50f71832620a80d\"><rect x=\"245.0\" y=\"40.0\" width=\"205.0\" height=\"170.0\"></rect></clipPath><g clip-path=\"url(#t66088c42eeec452ab50f71832620a80d)\"><g class=\"toytree-mark-Toytree\" id=\"t27dff18ea3d74686841e1ee21b441b24\"><g class=\"toytree-Edges\" style=\"stroke:rgb(14.5%,14.5%,14.5%);stroke-opacity:1.0;stroke-linecap:round;stroke-width:2.0;fill:none\"><path d=\"M 360.6 175.2 L 360.6 192.0 L 409.8 192.0\" id=\"5,0\" style=\"\"></path><path d=\"M 360.6 175.2 L 360.6 158.5 L 409.8 158.5\" id=\"5,1\" style=\"\"></path><path d=\"M 311.4 150.1 L 311.4 125.0 L 409.8 125.0\" id=\"6,2\" style=\"\"></path><path d=\"M 311.4 74.8 L 311.4 91.5 L 409.8 91.5\" id=\"7,3\" style=\"\"></path><path d=\"M 311.4 74.8 L 311.4 58.0 L 409.8 58.0\" id=\"7,4\" style=\"\"></path><path d=\"M 311.4 150.1 L 311.4 175.2 L 360.6 175.2\" id=\"6,5\" style=\"\"></path><path d=\"M 262.2 112.4 L 262.2 150.1 L 311.4 150.1\" id=\"8,6\" style=\"\"></path><path d=\"M 262.2 112.4 L 262.2 74.8 L 311.4 74.8\" id=\"8,7\" style=\"\"></path></g><g class=\"toytree-AdmixEdges\" style=\"fill:rgb(0.0%,0.0%,0.0%);fill-opacity:0.0;stroke:rgb(90.6%,54.1%,76.5%);stroke-opacity:0.6;font-size:14px;stroke-linecap:round;stroke-width:5\"></g><g class=\"toytree-Nodes\" style=\"fill:rgb(40.0%,76.1%,64.7%);fill-opacity:1.0;stroke:rgb(14.9%,14.9%,14.9%);stroke-opacity:1.0;stroke-width:1.5\"><g id=\"Node-5\" transform=\"translate(360.625,175.223)\"><circle r=\"7.5\"></circle></g><g id=\"Node-6\" transform=\"translate(311.404,150.112)\"><circle r=\"7.5\"></circle></g><g id=\"Node-7\" transform=\"translate(311.404,74.7768)\"><circle r=\"7.5\"></circle></g><g id=\"Node-8\" transform=\"translate(262.184,112.444)\"><circle r=\"7.5\"></circle></g></g><g class=\"toytree-NodeLabels\" style=\"font-family:Helvetica;font-size:9px;font-weight:300;vertical-align:baseline;white-space:pre;stroke:none\"><g class=\"toytree-NodeLabel\" transform=\"translate(360.625,175.223)\"><text x=\"-2.5020000000000002\" y=\"2.2995\" style=\"fill:rgb(14.5%,14.5%,14.5%);fill-opacity:1.0\">5</text></g><g class=\"toytree-NodeLabel\" transform=\"translate(311.404,150.112)\"><text x=\"-2.5020000000000002\" y=\"2.2995\" style=\"fill:rgb(14.5%,14.5%,14.5%);fill-opacity:1.0\">6</text></g><g class=\"toytree-NodeLabel\" transform=\"translate(311.404,74.7768)\"><text x=\"-2.5020000000000002\" y=\"2.2995\" style=\"fill:rgb(14.5%,14.5%,14.5%);fill-opacity:1.0\">7</text></g><g class=\"toytree-NodeLabel\" transform=\"translate(262.184,112.444)\"><text x=\"-2.5020000000000002\" y=\"2.2995\" style=\"fill:rgb(14.5%,14.5%,14.5%);fill-opacity:1.0\">8</text></g></g><g class=\"toytree-TipLabels\" style=\"fill:rgb(14.5%,14.5%,14.5%);fill-opacity:1.0;font-family:Helvetica;font-size:10px;font-weight:300;vertical-align:baseline;white-space:pre;stroke:none\"><g class=\"toytree-TipLabel\" transform=\"translate(409.845,191.964)\"><text x=\"10.0\" y=\"2.5549999999999997\" style=\"fill:rgb(14.5%,14.5%,14.5%);fill-opacity:1.0\">r0</text></g><g class=\"toytree-TipLabel\" transform=\"translate(409.845,158.482)\"><text x=\"10.0\" y=\"2.5549999999999997\" style=\"fill:rgb(14.5%,14.5%,14.5%);fill-opacity:1.0\">r1</text></g><g class=\"toytree-TipLabel\" transform=\"translate(409.845,125)\"><text x=\"10.0\" y=\"2.5549999999999997\" style=\"fill:rgb(14.5%,14.5%,14.5%);fill-opacity:1.0\">r2</text></g><g class=\"toytree-TipLabel\" transform=\"translate(409.845,91.5179)\"><text x=\"10.0\" y=\"2.5549999999999997\" style=\"fill:rgb(14.5%,14.5%,14.5%);fill-opacity:1.0\">r3</text></g><g class=\"toytree-TipLabel\" transform=\"translate(409.845,58.0357)\"><text x=\"10.0\" y=\"2.5549999999999997\" style=\"fill:rgb(14.5%,14.5%,14.5%);fill-opacity:1.0\">r4</text></g></g></g></g></g></svg><div class=\"toyplot-behavior\"><script>(function()\n",
       "{\n",
       "var modules={};\n",
       "})();</script></div></div>"
      ]
     },
     "metadata": {},
     "output_type": "display_data"
    }
   ],
   "source": [
    "# create a mod tree with two sister nodes labeled 'r1'\n",
    "mod_tree1 = tree.mod.add_internal_node_and_child(\"r1\", name=\"r1\")\n",
    "# merge nodes with identical names\n",
    "mod_tree2 = toytree.mod.merge_nodes(mod_tree1, merge_method=\"name\", )\n",
    "toytree.mtree([mod_tree1, mod_tree2]).draw(node_sizes=15, node_labels=\"idx\");"
   ]
  },
  {
   "cell_type": "markdown",
   "metadata": {},
   "source": [
    "### collapse_nodes\n",
    "\n",
    "Nodes can be entered as Node instances, Node names strings,\n",
    "or Node int idx labels, and/or Nodes can be selected by\n",
    "minimum dist or support values. Selected Nodes are collapsed\n",
    "into multi-furcating polytomies. For example, set\n",
    "min_support=50 to collapse all nodes with support < 50, and/or\n",
    "select Node idx 10 to collapse Node 10.\n"
   ]
  },
  {
   "cell_type": "code",
   "execution_count": 98,
   "metadata": {},
   "outputs": [
    {
     "data": {
      "text/html": [
       "<div class=\"toyplot\" id=\"t6bb30111950e45bcb374239efa83ae31\" style=\"text-align:center\"><svg class=\"toyplot-canvas-Canvas\" xmlns:toyplot=\"http://www.sandia.gov/toyplot\" xmlns:xlink=\"http://www.w3.org/1999/xlink\" xmlns=\"http://www.w3.org/2000/svg\" width=\"450.0px\" height=\"250.0px\" viewBox=\"0 0 450.0 250.0\" preserveAspectRatio=\"xMidYMid meet\" style=\"background-color:transparent;border-color:#292724;border-style:none;border-width:1.0;fill:rgb(16.1%,15.3%,14.1%);fill-opacity:1.0;font-family:Helvetica;font-size:12px;opacity:1.0;stroke:rgb(16.1%,15.3%,14.1%);stroke-opacity:1.0;stroke-width:1.0\" id=\"t25f5f48376f541f4a8e1001ef5f7e526\"><g class=\"toyplot-coordinates-Cartesian\" id=\"t7db06bd271cf40d2abb045fceb0f8778\"><clipPath id=\"t6c3753f270454c62bdd06a6f812305f6\"><rect x=\"20.0\" y=\"40.0\" width=\"205.0\" height=\"170.0\"></rect></clipPath><g clip-path=\"url(#t6c3753f270454c62bdd06a6f812305f6)\"><g class=\"toytree-mark-Toytree\" id=\"t8ed02965b3fc499c9f4532322b912dce\"><g class=\"toytree-Edges\" style=\"stroke:rgb(14.5%,14.5%,14.5%);stroke-opacity:1.0;stroke-linecap:round;stroke-width:2.0;fill:none\"><path d=\"M 135.6 178.6 L 135.6 192.0 L 184.8 192.0\" id=\"6,0\" style=\"\"></path><path d=\"M 135.6 178.6 L 135.6 165.2 L 184.8 165.2\" id=\"6,1\" style=\"\"></path><path d=\"M 135.6 125.0 L 135.6 138.4 L 184.8 138.4\" id=\"7,2\" style=\"\"></path><path d=\"M 135.6 125.0 L 135.6 111.6 L 184.8 111.6\" id=\"7,3\" style=\"\"></path><path d=\"M 86.4 71.4 L 86.4 84.8 L 184.8 84.8\" id=\"9,4\" style=\"\"></path><path d=\"M 86.4 71.4 L 86.4 58.0 L 184.8 58.0\" id=\"9,5\" style=\"\"></path><path d=\"M 86.4 151.8 L 86.4 178.6 L 135.6 178.6\" id=\"8,6\" style=\"\"></path><path d=\"M 86.4 151.8 L 86.4 125.0 L 135.6 125.0\" id=\"8,7\" style=\"\"></path><path d=\"M 37.2 111.6 L 37.2 151.8 L 86.4 151.8\" id=\"10,8\" style=\"\"></path><path d=\"M 37.2 111.6 L 37.2 71.4 L 86.4 71.4\" id=\"10,9\" style=\"\"></path></g><g class=\"toytree-AdmixEdges\" style=\"fill:rgb(0.0%,0.0%,0.0%);fill-opacity:0.0;stroke:rgb(90.6%,54.1%,76.5%);stroke-opacity:0.6;font-size:14px;stroke-linecap:round;stroke-width:5\"></g><g class=\"toytree-Nodes\" style=\"fill:rgb(40.0%,76.1%,64.7%);fill-opacity:1.0;stroke:rgb(14.9%,14.9%,14.9%);stroke-opacity:1.0;stroke-width:1.5\"><g id=\"Node-6\" transform=\"translate(135.625,178.571)\"><circle r=\"7.5\"></circle></g><g id=\"Node-7\" transform=\"translate(135.625,125)\"><circle r=\"7.5\"></circle></g><g id=\"Node-8\" transform=\"translate(86.4041,151.786)\"><circle r=\"7.5\"></circle></g><g id=\"Node-9\" transform=\"translate(86.4041,71.4286)\"><circle r=\"7.5\"></circle></g><g id=\"Node-10\" transform=\"translate(37.1835,111.607)\"><circle r=\"7.5\"></circle></g></g><g class=\"toytree-NodeLabels\" style=\"font-family:Helvetica;font-size:9px;font-weight:300;vertical-align:baseline;white-space:pre;stroke:none\"><g class=\"toytree-NodeLabel\" transform=\"translate(135.625,178.571)\"><text x=\"-2.5020000000000002\" y=\"2.2995\" style=\"fill:rgb(14.5%,14.5%,14.5%);fill-opacity:1.0\">6</text></g><g class=\"toytree-NodeLabel\" transform=\"translate(135.625,125)\"><text x=\"-2.5020000000000002\" y=\"2.2995\" style=\"fill:rgb(14.5%,14.5%,14.5%);fill-opacity:1.0\">7</text></g><g class=\"toytree-NodeLabel\" transform=\"translate(86.4041,151.786)\"><text x=\"-2.5020000000000002\" y=\"2.2995\" style=\"fill:rgb(14.5%,14.5%,14.5%);fill-opacity:1.0\">8</text></g><g class=\"toytree-NodeLabel\" transform=\"translate(86.4041,71.4286)\"><text x=\"-2.5020000000000002\" y=\"2.2995\" style=\"fill:rgb(14.5%,14.5%,14.5%);fill-opacity:1.0\">9</text></g><g class=\"toytree-NodeLabel\" transform=\"translate(37.1835,111.607)\"><text x=\"-5.0040000000000004\" y=\"2.2995\" style=\"fill:rgb(14.5%,14.5%,14.5%);fill-opacity:1.0\">10</text></g></g><g class=\"toytree-TipLabels\" style=\"fill:rgb(14.5%,14.5%,14.5%);fill-opacity:1.0;font-family:Helvetica;font-size:10px;font-weight:300;vertical-align:baseline;white-space:pre;stroke:none\"><g class=\"toytree-TipLabel\" transform=\"translate(184.845,191.964)\"><text x=\"10.0\" y=\"2.5549999999999997\" style=\"fill:rgb(14.5%,14.5%,14.5%);fill-opacity:1.0\">r0</text></g><g class=\"toytree-TipLabel\" transform=\"translate(184.845,165.179)\"><text x=\"10.0\" y=\"2.5549999999999997\" style=\"fill:rgb(14.5%,14.5%,14.5%);fill-opacity:1.0\">r1</text></g><g class=\"toytree-TipLabel\" transform=\"translate(184.845,138.393)\"><text x=\"10.0\" y=\"2.5549999999999997\" style=\"fill:rgb(14.5%,14.5%,14.5%);fill-opacity:1.0\">r2</text></g><g class=\"toytree-TipLabel\" transform=\"translate(184.845,111.607)\"><text x=\"10.0\" y=\"2.5549999999999997\" style=\"fill:rgb(14.5%,14.5%,14.5%);fill-opacity:1.0\">r3</text></g><g class=\"toytree-TipLabel\" transform=\"translate(184.845,84.8214)\"><text x=\"10.0\" y=\"2.5549999999999997\" style=\"fill:rgb(14.5%,14.5%,14.5%);fill-opacity:1.0\">r4</text></g><g class=\"toytree-TipLabel\" transform=\"translate(184.845,58.0357)\"><text x=\"10.0\" y=\"2.5549999999999997\" style=\"fill:rgb(14.5%,14.5%,14.5%);fill-opacity:1.0\">r5</text></g></g></g></g></g><g class=\"toyplot-coordinates-Cartesian\" id=\"t3c9d936c32044914bd9f36293c2cfbd3\"><clipPath id=\"t6fc130f0f4474b1b950ec96efbfe0b6b\"><rect x=\"245.0\" y=\"40.0\" width=\"205.0\" height=\"170.0\"></rect></clipPath><g clip-path=\"url(#t6fc130f0f4474b1b950ec96efbfe0b6b)\"><g class=\"toytree-mark-Toytree\" id=\"tb7d290e711eb478f989deae885070f5d\"><g class=\"toytree-Edges\" style=\"stroke:rgb(14.5%,14.5%,14.5%);stroke-opacity:1.0;stroke-linecap:round;stroke-width:2.0;fill:none\"><path d=\"M 360.6 178.6 L 360.6 192.0 L 409.8 192.0\" id=\"6,0\" style=\"\"></path><path d=\"M 360.6 178.6 L 360.6 165.2 L 409.8 165.2\" id=\"6,1\" style=\"\"></path><path d=\"M 311.4 142.9 L 311.4 138.4 L 409.8 138.4\" id=\"7,2\" style=\"\"></path><path d=\"M 311.4 142.9 L 311.4 111.6 L 409.8 111.6\" id=\"7,3\" style=\"\"></path><path d=\"M 311.4 71.4 L 311.4 84.8 L 409.8 84.8\" id=\"8,4\" style=\"\"></path><path d=\"M 311.4 71.4 L 311.4 58.0 L 409.8 58.0\" id=\"8,5\" style=\"\"></path><path d=\"M 311.4 142.9 L 311.4 178.6 L 360.6 178.6\" id=\"7,6\" style=\"\"></path><path d=\"M 262.2 107.1 L 262.2 142.9 L 311.4 142.9\" id=\"9,7\" style=\"\"></path><path d=\"M 262.2 107.1 L 262.2 71.4 L 311.4 71.4\" id=\"9,8\" style=\"\"></path></g><g class=\"toytree-AdmixEdges\" style=\"fill:rgb(0.0%,0.0%,0.0%);fill-opacity:0.0;stroke:rgb(90.6%,54.1%,76.5%);stroke-opacity:0.6;font-size:14px;stroke-linecap:round;stroke-width:5\"></g><g class=\"toytree-Nodes\" style=\"fill:rgb(40.0%,76.1%,64.7%);fill-opacity:1.0;stroke:rgb(14.9%,14.9%,14.9%);stroke-opacity:1.0;stroke-width:1.5\"><g id=\"Node-6\" transform=\"translate(360.625,178.571)\"><circle r=\"7.5\"></circle></g><g id=\"Node-7\" transform=\"translate(311.404,142.857)\"><circle r=\"7.5\"></circle></g><g id=\"Node-8\" transform=\"translate(311.404,71.4286)\"><circle r=\"7.5\"></circle></g><g id=\"Node-9\" transform=\"translate(262.184,107.143)\"><circle r=\"7.5\"></circle></g></g><g class=\"toytree-NodeLabels\" style=\"font-family:Helvetica;font-size:9px;font-weight:300;vertical-align:baseline;white-space:pre;stroke:none\"><g class=\"toytree-NodeLabel\" transform=\"translate(360.625,178.571)\"><text x=\"-2.5020000000000002\" y=\"2.2995\" style=\"fill:rgb(14.5%,14.5%,14.5%);fill-opacity:1.0\">6</text></g><g class=\"toytree-NodeLabel\" transform=\"translate(311.404,142.857)\"><text x=\"-2.5020000000000002\" y=\"2.2995\" style=\"fill:rgb(14.5%,14.5%,14.5%);fill-opacity:1.0\">7</text></g><g class=\"toytree-NodeLabel\" transform=\"translate(311.404,71.4286)\"><text x=\"-2.5020000000000002\" y=\"2.2995\" style=\"fill:rgb(14.5%,14.5%,14.5%);fill-opacity:1.0\">8</text></g><g class=\"toytree-NodeLabel\" transform=\"translate(262.184,107.143)\"><text x=\"-2.5020000000000002\" y=\"2.2995\" style=\"fill:rgb(14.5%,14.5%,14.5%);fill-opacity:1.0\">9</text></g></g><g class=\"toytree-TipLabels\" style=\"fill:rgb(14.5%,14.5%,14.5%);fill-opacity:1.0;font-family:Helvetica;font-size:10px;font-weight:300;vertical-align:baseline;white-space:pre;stroke:none\"><g class=\"toytree-TipLabel\" transform=\"translate(409.845,191.964)\"><text x=\"10.0\" y=\"2.5549999999999997\" style=\"fill:rgb(14.5%,14.5%,14.5%);fill-opacity:1.0\">r0</text></g><g class=\"toytree-TipLabel\" transform=\"translate(409.845,165.179)\"><text x=\"10.0\" y=\"2.5549999999999997\" style=\"fill:rgb(14.5%,14.5%,14.5%);fill-opacity:1.0\">r1</text></g><g class=\"toytree-TipLabel\" transform=\"translate(409.845,138.393)\"><text x=\"10.0\" y=\"2.5549999999999997\" style=\"fill:rgb(14.5%,14.5%,14.5%);fill-opacity:1.0\">r2</text></g><g class=\"toytree-TipLabel\" transform=\"translate(409.845,111.607)\"><text x=\"10.0\" y=\"2.5549999999999997\" style=\"fill:rgb(14.5%,14.5%,14.5%);fill-opacity:1.0\">r3</text></g><g class=\"toytree-TipLabel\" transform=\"translate(409.845,84.8214)\"><text x=\"10.0\" y=\"2.5549999999999997\" style=\"fill:rgb(14.5%,14.5%,14.5%);fill-opacity:1.0\">r4</text></g><g class=\"toytree-TipLabel\" transform=\"translate(409.845,58.0357)\"><text x=\"10.0\" y=\"2.5549999999999997\" style=\"fill:rgb(14.5%,14.5%,14.5%);fill-opacity:1.0\">r5</text></g></g></g></g></g></svg><div class=\"toyplot-behavior\"><script>(function()\n",
       "{\n",
       "var modules={};\n",
       "})();</script></div></div>"
      ]
     },
     "metadata": {},
     "output_type": "display_data"
    }
   ],
   "source": [
    "mod_tree = toytree.mod.collapse_nodes(tree, 7)\n",
    "toytree.mtree([tree, mod_tree]).draw(node_sizes=15, node_labels=\"idx\");"
   ]
  },
  {
   "cell_type": "markdown",
   "metadata": {},
   "source": [
    "### rotate_nodes\n",
    "Return ToyTree with one Node rotated (children order reversed). \n",
    "Rotates *only one Node per call*. Internal Nodes can be selected\n",
    "by idx label, or by entering multiple tip Node names from which the\n",
    "MRCA will be selected and rotated."
   ]
  },
  {
   "cell_type": "code",
   "execution_count": 103,
   "metadata": {},
   "outputs": [
    {
     "data": {
      "text/html": [
       "<div class=\"toyplot\" id=\"t7092e5894b3e403aaf513b8b7a4ab3bb\" style=\"text-align:center\"><svg class=\"toyplot-canvas-Canvas\" xmlns:toyplot=\"http://www.sandia.gov/toyplot\" xmlns:xlink=\"http://www.w3.org/1999/xlink\" xmlns=\"http://www.w3.org/2000/svg\" width=\"450.0px\" height=\"250.0px\" viewBox=\"0 0 450.0 250.0\" preserveAspectRatio=\"xMidYMid meet\" style=\"background-color:transparent;border-color:#292724;border-style:none;border-width:1.0;fill:rgb(16.1%,15.3%,14.1%);fill-opacity:1.0;font-family:Helvetica;font-size:12px;opacity:1.0;stroke:rgb(16.1%,15.3%,14.1%);stroke-opacity:1.0;stroke-width:1.0\" id=\"t2a18532dce2646969b0696b1ed6421e3\"><g class=\"toyplot-coordinates-Cartesian\" id=\"tfc9ba0b9832a42438b4038908bd9a84a\"><clipPath id=\"ta6288a91e61440bb9c0a29e1d65310c5\"><rect x=\"20.0\" y=\"40.0\" width=\"205.0\" height=\"170.0\"></rect></clipPath><g clip-path=\"url(#ta6288a91e61440bb9c0a29e1d65310c5)\"><g class=\"toytree-mark-Toytree\" id=\"te4b6da3358e8452f9a0a718aa7bc1054\"><g class=\"toytree-Edges\" style=\"stroke:rgb(14.5%,14.5%,14.5%);stroke-opacity:1.0;stroke-linecap:round;stroke-width:2.0;fill:none\"><path d=\"M 135.6 178.6 L 135.6 192.0 L 184.8 192.0\" id=\"6,0\" style=\"\"></path><path d=\"M 135.6 178.6 L 135.6 165.2 L 184.8 165.2\" id=\"6,1\" style=\"\"></path><path d=\"M 135.6 125.0 L 135.6 138.4 L 184.8 138.4\" id=\"7,2\" style=\"\"></path><path d=\"M 135.6 125.0 L 135.6 111.6 L 184.8 111.6\" id=\"7,3\" style=\"\"></path><path d=\"M 86.4 71.4 L 86.4 84.8 L 184.8 84.8\" id=\"9,4\" style=\"\"></path><path d=\"M 86.4 71.4 L 86.4 58.0 L 184.8 58.0\" id=\"9,5\" style=\"\"></path><path d=\"M 86.4 151.8 L 86.4 178.6 L 135.6 178.6\" id=\"8,6\" style=\"\"></path><path d=\"M 86.4 151.8 L 86.4 125.0 L 135.6 125.0\" id=\"8,7\" style=\"\"></path><path d=\"M 37.2 111.6 L 37.2 151.8 L 86.4 151.8\" id=\"10,8\" style=\"\"></path><path d=\"M 37.2 111.6 L 37.2 71.4 L 86.4 71.4\" id=\"10,9\" style=\"\"></path></g><g class=\"toytree-AdmixEdges\" style=\"fill:rgb(0.0%,0.0%,0.0%);fill-opacity:0.0;stroke:rgb(90.6%,54.1%,76.5%);stroke-opacity:0.6;font-size:14px;stroke-linecap:round;stroke-width:5\"></g><g class=\"toytree-Nodes\" style=\"fill:rgb(40.0%,76.1%,64.7%);fill-opacity:1.0;stroke:rgb(14.9%,14.9%,14.9%);stroke-opacity:1.0;stroke-width:1.5\"><g id=\"Node-6\" transform=\"translate(135.625,178.571)\"><circle r=\"7.5\"></circle></g><g id=\"Node-7\" transform=\"translate(135.625,125)\"><circle r=\"7.5\"></circle></g><g id=\"Node-8\" transform=\"translate(86.4041,151.786)\"><circle r=\"7.5\"></circle></g><g id=\"Node-9\" transform=\"translate(86.4041,71.4286)\"><circle r=\"7.5\"></circle></g><g id=\"Node-10\" transform=\"translate(37.1835,111.607)\"><circle r=\"7.5\"></circle></g></g><g class=\"toytree-NodeLabels\" style=\"font-family:Helvetica;font-size:9px;font-weight:300;vertical-align:baseline;white-space:pre;stroke:none\"><g class=\"toytree-NodeLabel\" transform=\"translate(135.625,178.571)\"><text x=\"-2.5020000000000002\" y=\"2.2995\" style=\"fill:rgb(14.5%,14.5%,14.5%);fill-opacity:1.0\">6</text></g><g class=\"toytree-NodeLabel\" transform=\"translate(135.625,125)\"><text x=\"-2.5020000000000002\" y=\"2.2995\" style=\"fill:rgb(14.5%,14.5%,14.5%);fill-opacity:1.0\">7</text></g><g class=\"toytree-NodeLabel\" transform=\"translate(86.4041,151.786)\"><text x=\"-2.5020000000000002\" y=\"2.2995\" style=\"fill:rgb(14.5%,14.5%,14.5%);fill-opacity:1.0\">8</text></g><g class=\"toytree-NodeLabel\" transform=\"translate(86.4041,71.4286)\"><text x=\"-2.5020000000000002\" y=\"2.2995\" style=\"fill:rgb(14.5%,14.5%,14.5%);fill-opacity:1.0\">9</text></g><g class=\"toytree-NodeLabel\" transform=\"translate(37.1835,111.607)\"><text x=\"-5.0040000000000004\" y=\"2.2995\" style=\"fill:rgb(14.5%,14.5%,14.5%);fill-opacity:1.0\">10</text></g></g><g class=\"toytree-TipLabels\" style=\"fill:rgb(14.5%,14.5%,14.5%);fill-opacity:1.0;font-family:Helvetica;font-size:10px;font-weight:300;vertical-align:baseline;white-space:pre;stroke:none\"><g class=\"toytree-TipLabel\" transform=\"translate(184.845,191.964)\"><text x=\"10.0\" y=\"2.5549999999999997\" style=\"fill:rgb(14.5%,14.5%,14.5%);fill-opacity:1.0\">r0</text></g><g class=\"toytree-TipLabel\" transform=\"translate(184.845,165.179)\"><text x=\"10.0\" y=\"2.5549999999999997\" style=\"fill:rgb(14.5%,14.5%,14.5%);fill-opacity:1.0\">r1</text></g><g class=\"toytree-TipLabel\" transform=\"translate(184.845,138.393)\"><text x=\"10.0\" y=\"2.5549999999999997\" style=\"fill:rgb(14.5%,14.5%,14.5%);fill-opacity:1.0\">r2</text></g><g class=\"toytree-TipLabel\" transform=\"translate(184.845,111.607)\"><text x=\"10.0\" y=\"2.5549999999999997\" style=\"fill:rgb(14.5%,14.5%,14.5%);fill-opacity:1.0\">r3</text></g><g class=\"toytree-TipLabel\" transform=\"translate(184.845,84.8214)\"><text x=\"10.0\" y=\"2.5549999999999997\" style=\"fill:rgb(14.5%,14.5%,14.5%);fill-opacity:1.0\">r4</text></g><g class=\"toytree-TipLabel\" transform=\"translate(184.845,58.0357)\"><text x=\"10.0\" y=\"2.5549999999999997\" style=\"fill:rgb(14.5%,14.5%,14.5%);fill-opacity:1.0\">r5</text></g></g></g></g></g><g class=\"toyplot-coordinates-Cartesian\" id=\"tc2b77e98adff415b8c8ae8f75359824c\"><clipPath id=\"ta35a18a7e2bc408dbf7ac9658017667f\"><rect x=\"245.0\" y=\"40.0\" width=\"205.0\" height=\"170.0\"></rect></clipPath><g clip-path=\"url(#ta35a18a7e2bc408dbf7ac9658017667f)\"><g class=\"toytree-mark-Toytree\" id=\"tbff74bb769db47f597bcf4b604681fb4\"><g class=\"toytree-Edges\" style=\"stroke:rgb(14.5%,14.5%,14.5%);stroke-opacity:1.0;stroke-linecap:round;stroke-width:2.0;fill:none\"><path d=\"M 360.6 178.6 L 360.6 192.0 L 409.8 192.0\" id=\"6,0\" style=\"\"></path><path d=\"M 360.6 178.6 L 360.6 165.2 L 409.8 165.2\" id=\"6,1\" style=\"\"></path><path d=\"M 360.6 125.0 L 360.6 138.4 L 409.8 138.4\" id=\"7,2\" style=\"\"></path><path d=\"M 360.6 125.0 L 360.6 111.6 L 409.8 111.6\" id=\"7,3\" style=\"\"></path><path d=\"M 311.4 71.4 L 311.4 84.8 L 409.8 84.8\" id=\"9,4\" style=\"\"></path><path d=\"M 311.4 71.4 L 311.4 58.0 L 409.8 58.0\" id=\"9,5\" style=\"\"></path><path d=\"M 311.4 151.8 L 311.4 178.6 L 360.6 178.6\" id=\"8,6\" style=\"\"></path><path d=\"M 311.4 151.8 L 311.4 125.0 L 360.6 125.0\" id=\"8,7\" style=\"\"></path><path d=\"M 262.2 111.6 L 262.2 151.8 L 311.4 151.8\" id=\"10,8\" style=\"\"></path><path d=\"M 262.2 111.6 L 262.2 71.4 L 311.4 71.4\" id=\"10,9\" style=\"\"></path></g><g class=\"toytree-AdmixEdges\" style=\"fill:rgb(0.0%,0.0%,0.0%);fill-opacity:0.0;stroke:rgb(90.6%,54.1%,76.5%);stroke-opacity:0.6;font-size:14px;stroke-linecap:round;stroke-width:5\"></g><g class=\"toytree-Nodes\" style=\"fill:rgb(40.0%,76.1%,64.7%);fill-opacity:1.0;stroke:rgb(14.9%,14.9%,14.9%);stroke-opacity:1.0;stroke-width:1.5\"><g id=\"Node-6\" transform=\"translate(360.625,178.571)\"><circle r=\"7.5\"></circle></g><g id=\"Node-7\" transform=\"translate(360.625,125)\"><circle r=\"7.5\"></circle></g><g id=\"Node-8\" transform=\"translate(311.404,151.786)\"><circle r=\"7.5\"></circle></g><g id=\"Node-9\" transform=\"translate(311.404,71.4286)\"><circle r=\"7.5\"></circle></g><g id=\"Node-10\" transform=\"translate(262.184,111.607)\"><circle r=\"7.5\"></circle></g></g><g class=\"toytree-NodeLabels\" style=\"font-family:Helvetica;font-size:9px;font-weight:300;vertical-align:baseline;white-space:pre;stroke:none\"><g class=\"toytree-NodeLabel\" transform=\"translate(360.625,178.571)\"><text x=\"-2.5020000000000002\" y=\"2.2995\" style=\"fill:rgb(14.5%,14.5%,14.5%);fill-opacity:1.0\">6</text></g><g class=\"toytree-NodeLabel\" transform=\"translate(360.625,125)\"><text x=\"-2.5020000000000002\" y=\"2.2995\" style=\"fill:rgb(14.5%,14.5%,14.5%);fill-opacity:1.0\">7</text></g><g class=\"toytree-NodeLabel\" transform=\"translate(311.404,151.786)\"><text x=\"-2.5020000000000002\" y=\"2.2995\" style=\"fill:rgb(14.5%,14.5%,14.5%);fill-opacity:1.0\">8</text></g><g class=\"toytree-NodeLabel\" transform=\"translate(311.404,71.4286)\"><text x=\"-2.5020000000000002\" y=\"2.2995\" style=\"fill:rgb(14.5%,14.5%,14.5%);fill-opacity:1.0\">9</text></g><g class=\"toytree-NodeLabel\" transform=\"translate(262.184,111.607)\"><text x=\"-5.0040000000000004\" y=\"2.2995\" style=\"fill:rgb(14.5%,14.5%,14.5%);fill-opacity:1.0\">10</text></g></g><g class=\"toytree-TipLabels\" style=\"fill:rgb(14.5%,14.5%,14.5%);fill-opacity:1.0;font-family:Helvetica;font-size:10px;font-weight:300;vertical-align:baseline;white-space:pre;stroke:none\"><g class=\"toytree-TipLabel\" transform=\"translate(409.845,191.964)\"><text x=\"10.0\" y=\"2.5549999999999997\" style=\"fill:rgb(14.5%,14.5%,14.5%);fill-opacity:1.0\">r2</text></g><g class=\"toytree-TipLabel\" transform=\"translate(409.845,165.179)\"><text x=\"10.0\" y=\"2.5549999999999997\" style=\"fill:rgb(14.5%,14.5%,14.5%);fill-opacity:1.0\">r3</text></g><g class=\"toytree-TipLabel\" transform=\"translate(409.845,138.393)\"><text x=\"10.0\" y=\"2.5549999999999997\" style=\"fill:rgb(14.5%,14.5%,14.5%);fill-opacity:1.0\">r0</text></g><g class=\"toytree-TipLabel\" transform=\"translate(409.845,111.607)\"><text x=\"10.0\" y=\"2.5549999999999997\" style=\"fill:rgb(14.5%,14.5%,14.5%);fill-opacity:1.0\">r1</text></g><g class=\"toytree-TipLabel\" transform=\"translate(409.845,84.8214)\"><text x=\"10.0\" y=\"2.5549999999999997\" style=\"fill:rgb(14.5%,14.5%,14.5%);fill-opacity:1.0\">r4</text></g><g class=\"toytree-TipLabel\" transform=\"translate(409.845,58.0357)\"><text x=\"10.0\" y=\"2.5549999999999997\" style=\"fill:rgb(14.5%,14.5%,14.5%);fill-opacity:1.0\">r5</text></g></g></g></g></g></svg><div class=\"toyplot-behavior\"><script>(function()\n",
       "{\n",
       "var modules={};\n",
       "})();</script></div></div>"
      ]
     },
     "metadata": {},
     "output_type": "display_data"
    }
   ],
   "source": [
    "mod_tree = toytree.mod.rotate_node(tree, 8)\n",
    "toytree.mtree([tree, mod_tree]).draw(node_sizes=15, node_labels=\"idx\");"
   ]
  },
  {
   "cell_type": "markdown",
   "metadata": {},
   "source": [
    "## Subtree-level modification"
   ]
  },
  {
   "cell_type": "markdown",
   "metadata": {},
   "source": [
    "### prune\n",
    "The `prune()` method returns a tree with a subset of queried Nodes along with the minimal spanning edges required to connect the Nodes. Nodes can be queried as individual arguments or as a set of indices, e.g. prune([0,1,2]). When called on a rooted tree, the user can require the originial root to be retained in the pruned tree using `require_root=True`. By default, this is False and the lowest MRCA connecting the queried Nodes will instead be kept as the new root. When internal Nodes are discarded by `prune` their distances will be merged into the distance of the queried Node such that the original distance between the root and the queried Node remains the same. If `preserve_dists=False`, then only the original distances assigned to the queried Nodes are retained."
   ]
  },
  {
   "cell_type": "code",
   "execution_count": 166,
   "metadata": {},
   "outputs": [
    {
     "data": {
      "text/html": [
       "<div class=\"toyplot\" id=\"tc451bed295e942579def9a96045e3a42\" style=\"text-align:center\"><svg class=\"toyplot-canvas-Canvas\" xmlns:toyplot=\"http://www.sandia.gov/toyplot\" xmlns:xlink=\"http://www.w3.org/1999/xlink\" xmlns=\"http://www.w3.org/2000/svg\" width=\"450.0px\" height=\"250.0px\" viewBox=\"0 0 450.0 250.0\" preserveAspectRatio=\"xMidYMid meet\" style=\"background-color:transparent;border-color:#292724;border-style:none;border-width:1.0;fill:rgb(16.1%,15.3%,14.1%);fill-opacity:1.0;font-family:Helvetica;font-size:12px;opacity:1.0;stroke:rgb(16.1%,15.3%,14.1%);stroke-opacity:1.0;stroke-width:1.0\" id=\"t14106eb1935043d3adb6e7a082b0606c\"><g class=\"toyplot-coordinates-Cartesian\" id=\"t18fb1c4d66c94b85bc2a52da80fae4d9\"><clipPath id=\"tc008c5a5044940a6b78a0fc666f658d7\"><rect x=\"20.0\" y=\"40.0\" width=\"205.0\" height=\"150.0\"></rect></clipPath><g clip-path=\"url(#tc008c5a5044940a6b78a0fc666f658d7)\"><g class=\"toytree-mark-Toytree\" id=\"tcb07539c38874083aaff173b9283fc68\"><g class=\"toytree-Edges\" style=\"stroke:rgb(14.5%,14.5%,14.5%);stroke-opacity:1.0;stroke-linecap:round;stroke-width:2.0;fill:none\"><path d=\"M 135.6 160.7 L 135.6 172.1 L 184.8 172.1\" id=\"6,0\" style=\"\"></path><path d=\"M 135.6 160.7 L 135.6 149.3 L 184.8 149.3\" id=\"6,1\" style=\"\"></path><path d=\"M 135.6 115.0 L 135.6 126.4 L 184.8 126.4\" id=\"7,2\" style=\"\"></path><path d=\"M 135.6 115.0 L 135.6 103.6 L 184.8 103.6\" id=\"7,3\" style=\"\"></path><path d=\"M 86.4 69.3 L 86.4 80.7 L 184.8 80.7\" id=\"9,4\" style=\"\"></path><path d=\"M 86.4 69.3 L 86.4 57.9 L 184.8 57.9\" id=\"9,5\" style=\"\"></path><path d=\"M 86.4 137.8 L 86.4 160.7 L 135.6 160.7\" id=\"8,6\" style=\"\"></path><path d=\"M 86.4 137.8 L 86.4 115.0 L 135.6 115.0\" id=\"8,7\" style=\"\"></path><path d=\"M 37.2 103.6 L 37.2 137.8 L 86.4 137.8\" id=\"10,8\" style=\"\"></path><path d=\"M 37.2 103.6 L 37.2 69.3 L 86.4 69.3\" id=\"10,9\" style=\"\"></path></g><g class=\"toytree-AdmixEdges\" style=\"fill:rgb(0.0%,0.0%,0.0%);fill-opacity:0.0;stroke:rgb(90.6%,54.1%,76.5%);stroke-opacity:0.6;font-size:14px;stroke-linecap:round;stroke-width:5\"></g><g class=\"toytree-Nodes\" style=\"fill:rgb(40.0%,76.1%,64.7%);fill-opacity:1.0;stroke:rgb(14.9%,14.9%,14.9%);stroke-opacity:1.0;stroke-width:1.5\"><g id=\"Node-6\" transform=\"translate(135.625,160.676)\"><circle r=\"7.5\"></circle></g><g id=\"Node-7\" transform=\"translate(135.625,115)\"><circle r=\"7.5\"></circle></g><g id=\"Node-8\" transform=\"translate(86.4041,137.838)\"><circle r=\"7.5\"></circle></g><g id=\"Node-9\" transform=\"translate(86.4041,69.3243)\"><circle r=\"7.5\"></circle></g><g id=\"Node-10\" transform=\"translate(37.1835,103.581)\"><circle r=\"7.5\"></circle></g></g><g class=\"toytree-NodeLabels\" style=\"font-family:Helvetica;font-size:9px;font-weight:300;vertical-align:baseline;white-space:pre;stroke:none\"><g class=\"toytree-NodeLabel\" transform=\"translate(135.625,160.676)\"><text x=\"-2.5020000000000002\" y=\"2.2995\" style=\"fill:rgb(14.5%,14.5%,14.5%);fill-opacity:1.0\">6</text></g><g class=\"toytree-NodeLabel\" transform=\"translate(135.625,115)\"><text x=\"-2.5020000000000002\" y=\"2.2995\" style=\"fill:rgb(14.5%,14.5%,14.5%);fill-opacity:1.0\">7</text></g><g class=\"toytree-NodeLabel\" transform=\"translate(86.4041,137.838)\"><text x=\"-2.5020000000000002\" y=\"2.2995\" style=\"fill:rgb(14.5%,14.5%,14.5%);fill-opacity:1.0\">8</text></g><g class=\"toytree-NodeLabel\" transform=\"translate(86.4041,69.3243)\"><text x=\"-2.5020000000000002\" y=\"2.2995\" style=\"fill:rgb(14.5%,14.5%,14.5%);fill-opacity:1.0\">9</text></g><g class=\"toytree-NodeLabel\" transform=\"translate(37.1835,103.581)\"><text x=\"-5.0040000000000004\" y=\"2.2995\" style=\"fill:rgb(14.5%,14.5%,14.5%);fill-opacity:1.0\">10</text></g></g><g class=\"toytree-TipLabels\" style=\"fill:rgb(14.5%,14.5%,14.5%);fill-opacity:1.0;font-family:Helvetica;font-size:10px;font-weight:300;vertical-align:baseline;white-space:pre;stroke:none\"><g class=\"toytree-TipLabel\" transform=\"translate(184.845,172.095)\"><text x=\"10.0\" y=\"2.5549999999999997\" style=\"fill:rgb(14.5%,14.5%,14.5%);fill-opacity:1.0\">r0</text></g><g class=\"toytree-TipLabel\" transform=\"translate(184.845,149.257)\"><text x=\"10.0\" y=\"2.5549999999999997\" style=\"fill:rgb(14.5%,14.5%,14.5%);fill-opacity:1.0\">r1</text></g><g class=\"toytree-TipLabel\" transform=\"translate(184.845,126.419)\"><text x=\"10.0\" y=\"2.5549999999999997\" style=\"fill:rgb(14.5%,14.5%,14.5%);fill-opacity:1.0\">r2</text></g><g class=\"toytree-TipLabel\" transform=\"translate(184.845,103.581)\"><text x=\"10.0\" y=\"2.5549999999999997\" style=\"fill:rgb(14.5%,14.5%,14.5%);fill-opacity:1.0\">r3</text></g><g class=\"toytree-TipLabel\" transform=\"translate(184.845,80.7432)\"><text x=\"10.0\" y=\"2.5549999999999997\" style=\"fill:rgb(14.5%,14.5%,14.5%);fill-opacity:1.0\">r4</text></g><g class=\"toytree-TipLabel\" transform=\"translate(184.845,57.9054)\"><text x=\"10.0\" y=\"2.5549999999999997\" style=\"fill:rgb(14.5%,14.5%,14.5%);fill-opacity:1.0\">r5</text></g></g></g></g><g class=\"toyplot-coordinates-Axis\" id=\"t563e6317878f42c6ab8a093e7215778a\" transform=\"translate(30.0,180.0)translate(0,10.0)\"><line x1=\"7.183536111830176\" y1=\"0\" x2=\"154.84511174389507\" y2=\"0\" style=\"\"></line><g><line x1=\"7.183536111830176\" y1=\"0\" x2=\"7.183536111830176\" y2=\"-5\" style=\"\"></line><line x1=\"81.01432392786263\" y1=\"0\" x2=\"81.01432392786263\" y2=\"-5\" style=\"\"></line><line x1=\"154.84511174389507\" y1=\"0\" x2=\"154.84511174389507\" y2=\"-5\" style=\"\"></line></g><g><g transform=\"translate(7.183536111830176,6)\"><text x=\"-2.78\" y=\"8.555\" style=\"fill:rgb(16.1%,15.3%,14.1%);fill-opacity:1.0;font-family:helvetica;font-size:10.0px;font-weight:normal;stroke:none;vertical-align:baseline;white-space:pre\">1</text></g><g transform=\"translate(81.01432392786263,6)\"><text x=\"-6.95\" y=\"8.555\" style=\"fill:rgb(16.1%,15.3%,14.1%);fill-opacity:1.0;font-family:helvetica;font-size:10.0px;font-weight:normal;stroke:none;vertical-align:baseline;white-space:pre\">0.5</text></g><g transform=\"translate(154.84511174389507,6)\"><text x=\"-2.78\" y=\"8.555\" style=\"fill:rgb(16.1%,15.3%,14.1%);fill-opacity:1.0;font-family:helvetica;font-size:10.0px;font-weight:normal;stroke:none;vertical-align:baseline;white-space:pre\">0</text></g></g><g class=\"toyplot-coordinates-Axis-coordinates\" style=\"visibility:hidden\" transform=\"\"><line x1=\"0\" x2=\"0\" y1=\"-3.0\" y2=\"4.5\" style=\"stroke:rgb(43.9%,50.2%,56.5%);stroke-opacity:1.0;stroke-width:1.0\"></line><text x=\"0\" y=\"-6\" style=\"alignment-baseline:alphabetic;fill:rgb(43.9%,50.2%,56.5%);fill-opacity:1.0;font-size:10px;font-weight:normal;stroke:none;text-anchor:middle\"></text></g></g></g><g class=\"toyplot-coordinates-Cartesian\" id=\"t6243216abc9241548521822f27db72fa\"><clipPath id=\"tb293469f3bbf4edebff166a1ed25bae0\"><rect x=\"245.0\" y=\"40.0\" width=\"205.0\" height=\"150.0\"></rect></clipPath><g clip-path=\"url(#tb293469f3bbf4edebff166a1ed25bae0)\"><g class=\"toytree-mark-Toytree\" id=\"t95ebb46a66fb4bfa8ec64dcb4bfdfd0a\"><g class=\"toytree-Edges\" style=\"stroke:rgb(14.5%,14.5%,14.5%);stroke-opacity:1.0;stroke-linecap:round;stroke-width:2.0;fill:none\"><path d=\"M 336.0 143.5 L 336.0 172.1 L 409.8 172.1\" id=\"3,0\" style=\"\"></path><path d=\"M 336.0 143.5 L 336.0 115.0 L 409.8 115.0\" id=\"3,1\" style=\"\"></path><path d=\"M 262.2 100.7 L 262.2 57.9 L 409.8 57.9\" id=\"4,2\" style=\"\"></path><path d=\"M 262.2 100.7 L 262.2 143.5 L 336.0 143.5\" id=\"4,3\" style=\"\"></path></g><g class=\"toytree-AdmixEdges\" style=\"fill:rgb(0.0%,0.0%,0.0%);fill-opacity:0.0;stroke:rgb(90.6%,54.1%,76.5%);stroke-opacity:0.6;font-size:14px;stroke-linecap:round;stroke-width:5\"></g><g class=\"toytree-Nodes\" style=\"fill:rgb(40.0%,76.1%,64.7%);fill-opacity:1.0;stroke:rgb(14.9%,14.9%,14.9%);stroke-opacity:1.0;stroke-width:1.5\"><g id=\"Node-3\" transform=\"translate(336.014,143.547)\"><circle r=\"7.5\"></circle></g><g id=\"Node-4\" transform=\"translate(262.184,100.726)\"><circle r=\"7.5\"></circle></g></g><g class=\"toytree-NodeLabels\" style=\"font-family:Helvetica;font-size:9px;font-weight:300;vertical-align:baseline;white-space:pre;stroke:none\"><g class=\"toytree-NodeLabel\" transform=\"translate(336.014,143.547)\"><text x=\"-2.5020000000000002\" y=\"2.2995\" style=\"fill:rgb(14.5%,14.5%,14.5%);fill-opacity:1.0\">3</text></g><g class=\"toytree-NodeLabel\" transform=\"translate(262.184,100.726)\"><text x=\"-2.5020000000000002\" y=\"2.2995\" style=\"fill:rgb(14.5%,14.5%,14.5%);fill-opacity:1.0\">4</text></g></g><g class=\"toytree-TipLabels\" style=\"fill:rgb(14.5%,14.5%,14.5%);fill-opacity:1.0;font-family:Helvetica;font-size:10px;font-weight:300;vertical-align:baseline;white-space:pre;stroke:none\"><g class=\"toytree-TipLabel\" transform=\"translate(409.845,172.095)\"><text x=\"10.0\" y=\"2.5549999999999997\" style=\"fill:rgb(14.5%,14.5%,14.5%);fill-opacity:1.0\">r0</text></g><g class=\"toytree-TipLabel\" transform=\"translate(409.845,115)\"><text x=\"10.0\" y=\"2.5549999999999997\" style=\"fill:rgb(14.5%,14.5%,14.5%);fill-opacity:1.0\">r1</text></g><g class=\"toytree-TipLabel\" transform=\"translate(409.845,57.9054)\"><text x=\"10.0\" y=\"2.5549999999999997\" style=\"fill:rgb(14.5%,14.5%,14.5%);fill-opacity:1.0\">r2</text></g></g></g></g><g class=\"toyplot-coordinates-Axis\" id=\"ta1de5cdb1a394eacae754b5c2f1d8597\" transform=\"translate(255.0,180.0)translate(0,10.0)\"><line x1=\"7.183536111830185\" y1=\"0\" x2=\"154.8451117438951\" y2=\"0\" style=\"\"></line><g><line x1=\"21.949693675036652\" y1=\"0\" x2=\"21.949693675036652\" y2=\"-5\" style=\"\"></line><line x1=\"66.24816636465613\" y1=\"0\" x2=\"66.24816636465613\" y2=\"-5\" style=\"\"></line><line x1=\"110.5466390542756\" y1=\"0\" x2=\"110.5466390542756\" y2=\"-5\" style=\"\"></line><line x1=\"154.8451117438951\" y1=\"0\" x2=\"154.8451117438951\" y2=\"-5\" style=\"\"></line></g><g><g transform=\"translate(21.949693675036652,6)\"><text x=\"-6.95\" y=\"8.555\" style=\"fill:rgb(16.1%,15.3%,14.1%);fill-opacity:1.0;font-family:helvetica;font-size:10.0px;font-weight:normal;stroke:none;vertical-align:baseline;white-space:pre\">0.6</text></g><g transform=\"translate(66.24816636465613,6)\"><text x=\"-6.95\" y=\"8.555\" style=\"fill:rgb(16.1%,15.3%,14.1%);fill-opacity:1.0;font-family:helvetica;font-size:10.0px;font-weight:normal;stroke:none;vertical-align:baseline;white-space:pre\">0.4</text></g><g transform=\"translate(110.5466390542756,6)\"><text x=\"-6.95\" y=\"8.555\" style=\"fill:rgb(16.1%,15.3%,14.1%);fill-opacity:1.0;font-family:helvetica;font-size:10.0px;font-weight:normal;stroke:none;vertical-align:baseline;white-space:pre\">0.2</text></g><g transform=\"translate(154.8451117438951,6)\"><text x=\"-2.78\" y=\"8.555\" style=\"fill:rgb(16.1%,15.3%,14.1%);fill-opacity:1.0;font-family:helvetica;font-size:10.0px;font-weight:normal;stroke:none;vertical-align:baseline;white-space:pre\">0</text></g></g><g class=\"toyplot-coordinates-Axis-coordinates\" style=\"visibility:hidden\" transform=\"\"><line x1=\"0\" x2=\"0\" y1=\"-3.0\" y2=\"4.5\" style=\"stroke:rgb(43.9%,50.2%,56.5%);stroke-opacity:1.0;stroke-width:1.0\"></line><text x=\"0\" y=\"-6\" style=\"alignment-baseline:alphabetic;fill:rgb(43.9%,50.2%,56.5%);fill-opacity:1.0;font-size:10px;font-weight:normal;stroke:none;text-anchor:middle\"></text></g></g></g></svg><div class=\"toyplot-behavior\"><script>(function()\n",
       "{\n",
       "var modules={};\n",
       "modules[\"toyplot/canvas/id\"] = \"t14106eb1935043d3adb6e7a082b0606c\";\n",
       "modules[\"toyplot/canvas\"] = (function(canvas_id)\n",
       "    {\n",
       "        return document.querySelector(\"#\" + canvas_id);\n",
       "    })(modules[\"toyplot/canvas/id\"]);\n",
       "modules[\"toyplot.coordinates.Axis\"] = (\n",
       "        function(canvas)\n",
       "        {\n",
       "            function sign(x)\n",
       "            {\n",
       "                return x < 0 ? -1 : x > 0 ? 1 : 0;\n",
       "            }\n",
       "\n",
       "            function mix(a, b, amount)\n",
       "            {\n",
       "                return ((1.0 - amount) * a) + (amount * b);\n",
       "            }\n",
       "\n",
       "            function log(x, base)\n",
       "            {\n",
       "                return Math.log(Math.abs(x)) / Math.log(base);\n",
       "            }\n",
       "\n",
       "            function in_range(a, x, b)\n",
       "            {\n",
       "                var left = Math.min(a, b);\n",
       "                var right = Math.max(a, b);\n",
       "                return left <= x && x <= right;\n",
       "            }\n",
       "\n",
       "            function inside(range, projection)\n",
       "            {\n",
       "                for(var i = 0; i != projection.length; ++i)\n",
       "                {\n",
       "                    var segment = projection[i];\n",
       "                    if(in_range(segment.range.min, range, segment.range.max))\n",
       "                        return true;\n",
       "                }\n",
       "                return false;\n",
       "            }\n",
       "\n",
       "            function to_domain(range, projection)\n",
       "            {\n",
       "                for(var i = 0; i != projection.length; ++i)\n",
       "                {\n",
       "                    var segment = projection[i];\n",
       "                    if(in_range(segment.range.bounds.min, range, segment.range.bounds.max))\n",
       "                    {\n",
       "                        if(segment.scale == \"linear\")\n",
       "                        {\n",
       "                            var amount = (range - segment.range.min) / (segment.range.max - segment.range.min);\n",
       "                            return mix(segment.domain.min, segment.domain.max, amount)\n",
       "                        }\n",
       "                        else if(segment.scale[0] == \"log\")\n",
       "                        {\n",
       "                            var amount = (range - segment.range.min) / (segment.range.max - segment.range.min);\n",
       "                            var base = segment.scale[1];\n",
       "                            return sign(segment.domain.min) * Math.pow(base, mix(log(segment.domain.min, base), log(segment.domain.max, base), amount));\n",
       "                        }\n",
       "                    }\n",
       "                }\n",
       "            }\n",
       "\n",
       "            var axes = {};\n",
       "\n",
       "            function display_coordinates(e)\n",
       "            {\n",
       "                var current = canvas.createSVGPoint();\n",
       "                current.x = e.clientX;\n",
       "                current.y = e.clientY;\n",
       "\n",
       "                for(var axis_id in axes)\n",
       "                {\n",
       "                    var axis = document.querySelector(\"#\" + axis_id);\n",
       "                    var coordinates = axis.querySelector(\".toyplot-coordinates-Axis-coordinates\");\n",
       "                    if(coordinates)\n",
       "                    {\n",
       "                        var projection = axes[axis_id];\n",
       "                        var local = current.matrixTransform(axis.getScreenCTM().inverse());\n",
       "                        if(inside(local.x, projection))\n",
       "                        {\n",
       "                            var domain = to_domain(local.x, projection);\n",
       "                            coordinates.style.visibility = \"visible\";\n",
       "                            coordinates.setAttribute(\"transform\", \"translate(\" + local.x + \")\");\n",
       "                            var text = coordinates.querySelector(\"text\");\n",
       "                            text.textContent = domain.toFixed(2);\n",
       "                        }\n",
       "                        else\n",
       "                        {\n",
       "                            coordinates.style.visibility= \"hidden\";\n",
       "                        }\n",
       "                    }\n",
       "                }\n",
       "            }\n",
       "\n",
       "            canvas.addEventListener(\"click\", display_coordinates);\n",
       "\n",
       "            var module = {};\n",
       "            module.show_coordinates = function(axis_id, projection)\n",
       "            {\n",
       "                axes[axis_id] = projection;\n",
       "            }\n",
       "\n",
       "            return module;\n",
       "        })(modules[\"toyplot/canvas\"]);\n",
       "(function(axis, axis_id, projection)\n",
       "        {\n",
       "            axis.show_coordinates(axis_id, projection);\n",
       "        })(modules[\"toyplot.coordinates.Axis\"],\"t563e6317878f42c6ab8a093e7215778a\",[{\"domain\": {\"bounds\": {\"max\": Infinity, \"min\": -Infinity}, \"max\": 0.20421621621621622, \"min\": -1.0486486486486486}, \"range\": {\"bounds\": {\"max\": Infinity, \"min\": -Infinity}, \"max\": 185.0, \"min\": 0.0}, \"scale\": \"linear\"}]);\n",
       "(function(axis, axis_id, projection)\n",
       "        {\n",
       "            axis.show_coordinates(axis_id, projection);\n",
       "        })(modules[\"toyplot.coordinates.Axis\"],\"ta1de5cdb1a394eacae754b5c2f1d8597\",[{\"domain\": {\"bounds\": {\"max\": Infinity, \"min\": -Infinity}, \"max\": 0.136144144144144, \"min\": -0.6990990990990991}, \"range\": {\"bounds\": {\"max\": Infinity, \"min\": -Infinity}, \"max\": 185.0, \"min\": 0.0}, \"scale\": \"linear\"}]);\n",
       "})();</script></div></div>"
      ]
     },
     "metadata": {},
     "output_type": "display_data"
    }
   ],
   "source": [
    "mod_tree = toytree.mod.prune(tree, \"r0\", \"r1\", \"r2\")\n",
    "toytree.mtree([tree, mod_tree]).draw(node_sizes=15, node_labels=\"idx\", scale_bar=True);"
   ]
  },
  {
   "cell_type": "markdown",
   "metadata": {},
   "source": [
    "### drop_tips\n",
    "Return a ToyTree with some tip Nodes removed. The ToyTree with the selected tip Nodes (and any remaining internal\n",
    "nodes without children) are removed while retaining the original\n",
    "edge lengths between remaining nodes. This is effectively the\n",
    "inverse of `prune`. Tip names can be selected using a Query method\n",
    "of Node instances, Node names, or Node idx int labels. Only\n",
    "selected tip Nodes affect the result."
   ]
  },
  {
   "cell_type": "code",
   "execution_count": 171,
   "metadata": {},
   "outputs": [
    {
     "data": {
      "text/html": [
       "<div class=\"toyplot\" id=\"t19f1b25c55b846fda31f21920f0cda7f\" style=\"text-align:center\"><svg class=\"toyplot-canvas-Canvas\" xmlns:toyplot=\"http://www.sandia.gov/toyplot\" xmlns:xlink=\"http://www.w3.org/1999/xlink\" xmlns=\"http://www.w3.org/2000/svg\" width=\"450.0px\" height=\"250.0px\" viewBox=\"0 0 450.0 250.0\" preserveAspectRatio=\"xMidYMid meet\" style=\"background-color:transparent;border-color:#292724;border-style:none;border-width:1.0;fill:rgb(16.1%,15.3%,14.1%);fill-opacity:1.0;font-family:Helvetica;font-size:12px;opacity:1.0;stroke:rgb(16.1%,15.3%,14.1%);stroke-opacity:1.0;stroke-width:1.0\" id=\"t9779303372584b8ba39b433d9b91a722\"><g class=\"toyplot-coordinates-Cartesian\" id=\"td45f90064a3f4c96b041ca92c34f9a95\"><clipPath id=\"t8500bf2bb36c4392a255371ef4b7e297\"><rect x=\"20.0\" y=\"40.0\" width=\"205.0\" height=\"150.0\"></rect></clipPath><g clip-path=\"url(#t8500bf2bb36c4392a255371ef4b7e297)\"><g class=\"toytree-mark-Toytree\" id=\"tf1f540dc6cd4437b8af0f21633ebebd7\"><g class=\"toytree-Edges\" style=\"stroke:rgb(14.5%,14.5%,14.5%);stroke-opacity:1.0;stroke-linecap:round;stroke-width:2.0;fill:none\"><path d=\"M 135.6 160.7 L 135.6 172.1 L 184.8 172.1\" id=\"6,0\" style=\"\"></path><path d=\"M 135.6 160.7 L 135.6 149.3 L 184.8 149.3\" id=\"6,1\" style=\"\"></path><path d=\"M 135.6 115.0 L 135.6 126.4 L 184.8 126.4\" id=\"7,2\" style=\"\"></path><path d=\"M 135.6 115.0 L 135.6 103.6 L 184.8 103.6\" id=\"7,3\" style=\"\"></path><path d=\"M 86.4 69.3 L 86.4 80.7 L 184.8 80.7\" id=\"9,4\" style=\"\"></path><path d=\"M 86.4 69.3 L 86.4 57.9 L 184.8 57.9\" id=\"9,5\" style=\"\"></path><path d=\"M 86.4 137.8 L 86.4 160.7 L 135.6 160.7\" id=\"8,6\" style=\"\"></path><path d=\"M 86.4 137.8 L 86.4 115.0 L 135.6 115.0\" id=\"8,7\" style=\"\"></path><path d=\"M 37.2 103.6 L 37.2 137.8 L 86.4 137.8\" id=\"10,8\" style=\"\"></path><path d=\"M 37.2 103.6 L 37.2 69.3 L 86.4 69.3\" id=\"10,9\" style=\"\"></path></g><g class=\"toytree-AdmixEdges\" style=\"fill:rgb(0.0%,0.0%,0.0%);fill-opacity:0.0;stroke:rgb(90.6%,54.1%,76.5%);stroke-opacity:0.6;font-size:14px;stroke-linecap:round;stroke-width:5\"></g><g class=\"toytree-Nodes\" style=\"fill:rgb(40.0%,76.1%,64.7%);fill-opacity:1.0;stroke:rgb(14.9%,14.9%,14.9%);stroke-opacity:1.0;stroke-width:1.5\"><g id=\"Node-6\" transform=\"translate(135.625,160.676)\"><circle r=\"7.5\"></circle></g><g id=\"Node-7\" transform=\"translate(135.625,115)\"><circle r=\"7.5\"></circle></g><g id=\"Node-8\" transform=\"translate(86.4041,137.838)\"><circle r=\"7.5\"></circle></g><g id=\"Node-9\" transform=\"translate(86.4041,69.3243)\"><circle r=\"7.5\"></circle></g><g id=\"Node-10\" transform=\"translate(37.1835,103.581)\"><circle r=\"7.5\"></circle></g></g><g class=\"toytree-NodeLabels\" style=\"font-family:Helvetica;font-size:9px;font-weight:300;vertical-align:baseline;white-space:pre;stroke:none\"><g class=\"toytree-NodeLabel\" transform=\"translate(135.625,160.676)\"><text x=\"-2.5020000000000002\" y=\"2.2995\" style=\"fill:rgb(14.5%,14.5%,14.5%);fill-opacity:1.0\">6</text></g><g class=\"toytree-NodeLabel\" transform=\"translate(135.625,115)\"><text x=\"-2.5020000000000002\" y=\"2.2995\" style=\"fill:rgb(14.5%,14.5%,14.5%);fill-opacity:1.0\">7</text></g><g class=\"toytree-NodeLabel\" transform=\"translate(86.4041,137.838)\"><text x=\"-2.5020000000000002\" y=\"2.2995\" style=\"fill:rgb(14.5%,14.5%,14.5%);fill-opacity:1.0\">8</text></g><g class=\"toytree-NodeLabel\" transform=\"translate(86.4041,69.3243)\"><text x=\"-2.5020000000000002\" y=\"2.2995\" style=\"fill:rgb(14.5%,14.5%,14.5%);fill-opacity:1.0\">9</text></g><g class=\"toytree-NodeLabel\" transform=\"translate(37.1835,103.581)\"><text x=\"-5.0040000000000004\" y=\"2.2995\" style=\"fill:rgb(14.5%,14.5%,14.5%);fill-opacity:1.0\">10</text></g></g><g class=\"toytree-TipLabels\" style=\"fill:rgb(14.5%,14.5%,14.5%);fill-opacity:1.0;font-family:Helvetica;font-size:10px;font-weight:300;vertical-align:baseline;white-space:pre;stroke:none\"><g class=\"toytree-TipLabel\" transform=\"translate(184.845,172.095)\"><text x=\"10.0\" y=\"2.5549999999999997\" style=\"fill:rgb(14.5%,14.5%,14.5%);fill-opacity:1.0\">r0</text></g><g class=\"toytree-TipLabel\" transform=\"translate(184.845,149.257)\"><text x=\"10.0\" y=\"2.5549999999999997\" style=\"fill:rgb(14.5%,14.5%,14.5%);fill-opacity:1.0\">r1</text></g><g class=\"toytree-TipLabel\" transform=\"translate(184.845,126.419)\"><text x=\"10.0\" y=\"2.5549999999999997\" style=\"fill:rgb(14.5%,14.5%,14.5%);fill-opacity:1.0\">r2</text></g><g class=\"toytree-TipLabel\" transform=\"translate(184.845,103.581)\"><text x=\"10.0\" y=\"2.5549999999999997\" style=\"fill:rgb(14.5%,14.5%,14.5%);fill-opacity:1.0\">r3</text></g><g class=\"toytree-TipLabel\" transform=\"translate(184.845,80.7432)\"><text x=\"10.0\" y=\"2.5549999999999997\" style=\"fill:rgb(14.5%,14.5%,14.5%);fill-opacity:1.0\">r4</text></g><g class=\"toytree-TipLabel\" transform=\"translate(184.845,57.9054)\"><text x=\"10.0\" y=\"2.5549999999999997\" style=\"fill:rgb(14.5%,14.5%,14.5%);fill-opacity:1.0\">r5</text></g></g></g></g><g class=\"toyplot-coordinates-Axis\" id=\"tb3c1ad827231403aa722693e8defcedc\" transform=\"translate(30.0,180.0)translate(0,10.0)\"><line x1=\"7.183536111830176\" y1=\"0\" x2=\"154.84511174389507\" y2=\"0\" style=\"\"></line><g><line x1=\"7.183536111830176\" y1=\"0\" x2=\"7.183536111830176\" y2=\"-5\" style=\"\"></line><line x1=\"81.01432392786263\" y1=\"0\" x2=\"81.01432392786263\" y2=\"-5\" style=\"\"></line><line x1=\"154.84511174389507\" y1=\"0\" x2=\"154.84511174389507\" y2=\"-5\" style=\"\"></line></g><g><g transform=\"translate(7.183536111830176,6)\"><text x=\"-2.78\" y=\"8.555\" style=\"fill:rgb(16.1%,15.3%,14.1%);fill-opacity:1.0;font-family:helvetica;font-size:10.0px;font-weight:normal;stroke:none;vertical-align:baseline;white-space:pre\">1</text></g><g transform=\"translate(81.01432392786263,6)\"><text x=\"-6.95\" y=\"8.555\" style=\"fill:rgb(16.1%,15.3%,14.1%);fill-opacity:1.0;font-family:helvetica;font-size:10.0px;font-weight:normal;stroke:none;vertical-align:baseline;white-space:pre\">0.5</text></g><g transform=\"translate(154.84511174389507,6)\"><text x=\"-2.78\" y=\"8.555\" style=\"fill:rgb(16.1%,15.3%,14.1%);fill-opacity:1.0;font-family:helvetica;font-size:10.0px;font-weight:normal;stroke:none;vertical-align:baseline;white-space:pre\">0</text></g></g><g class=\"toyplot-coordinates-Axis-coordinates\" style=\"visibility:hidden\" transform=\"\"><line x1=\"0\" x2=\"0\" y1=\"-3.0\" y2=\"4.5\" style=\"stroke:rgb(43.9%,50.2%,56.5%);stroke-opacity:1.0;stroke-width:1.0\"></line><text x=\"0\" y=\"-6\" style=\"alignment-baseline:alphabetic;fill:rgb(43.9%,50.2%,56.5%);fill-opacity:1.0;font-size:10px;font-weight:normal;stroke:none;text-anchor:middle\"></text></g></g></g><g class=\"toyplot-coordinates-Cartesian\" id=\"t4bfc88f7523b42acb36c0c40c53c23bb\"><clipPath id=\"tff4fddb97c9e49b2b308b5c9dd91fd8a\"><rect x=\"245.0\" y=\"40.0\" width=\"205.0\" height=\"150.0\"></rect></clipPath><g clip-path=\"url(#tff4fddb97c9e49b2b308b5c9dd91fd8a)\"><g class=\"toytree-mark-Toytree\" id=\"tff18aa5e9e854dee80bcfe6a71da07bc\"><g class=\"toytree-Edges\" style=\"stroke:rgb(14.5%,14.5%,14.5%);stroke-opacity:1.0;stroke-linecap:round;stroke-width:2.0;fill:none\"><path d=\"M 311.4 143.5 L 311.4 172.1 L 409.8 172.1\" id=\"3,0\" style=\"\"></path><path d=\"M 311.4 143.5 L 311.4 115.0 L 409.8 115.0\" id=\"3,1\" style=\"\"></path><path d=\"M 262.2 100.7 L 262.2 57.9 L 409.8 57.9\" id=\"4,2\" style=\"\"></path><path d=\"M 262.2 100.7 L 262.2 143.5 L 311.4 143.5\" id=\"4,3\" style=\"\"></path></g><g class=\"toytree-AdmixEdges\" style=\"fill:rgb(0.0%,0.0%,0.0%);fill-opacity:0.0;stroke:rgb(90.6%,54.1%,76.5%);stroke-opacity:0.6;font-size:14px;stroke-linecap:round;stroke-width:5\"></g><g class=\"toytree-Nodes\" style=\"fill:rgb(40.0%,76.1%,64.7%);fill-opacity:1.0;stroke:rgb(14.9%,14.9%,14.9%);stroke-opacity:1.0;stroke-width:1.5\"><g id=\"Node-3\" transform=\"translate(311.404,143.547)\"><circle r=\"7.5\"></circle></g><g id=\"Node-4\" transform=\"translate(262.184,100.726)\"><circle r=\"7.5\"></circle></g></g><g class=\"toytree-NodeLabels\" style=\"font-family:Helvetica;font-size:9px;font-weight:300;vertical-align:baseline;white-space:pre;stroke:none\"><g class=\"toytree-NodeLabel\" transform=\"translate(311.404,143.547)\"><text x=\"-2.5020000000000002\" y=\"2.2995\" style=\"fill:rgb(14.5%,14.5%,14.5%);fill-opacity:1.0\">3</text></g><g class=\"toytree-NodeLabel\" transform=\"translate(262.184,100.726)\"><text x=\"-2.5020000000000002\" y=\"2.2995\" style=\"fill:rgb(14.5%,14.5%,14.5%);fill-opacity:1.0\">4</text></g></g><g class=\"toytree-TipLabels\" style=\"fill:rgb(14.5%,14.5%,14.5%);fill-opacity:1.0;font-family:Helvetica;font-size:10px;font-weight:300;vertical-align:baseline;white-space:pre;stroke:none\"><g class=\"toytree-TipLabel\" transform=\"translate(409.845,172.095)\"><text x=\"10.0\" y=\"2.5549999999999997\" style=\"fill:rgb(14.5%,14.5%,14.5%);fill-opacity:1.0\">r4</text></g><g class=\"toytree-TipLabel\" transform=\"translate(409.845,115)\"><text x=\"10.0\" y=\"2.5549999999999997\" style=\"fill:rgb(14.5%,14.5%,14.5%);fill-opacity:1.0\">r5</text></g><g class=\"toytree-TipLabel\" transform=\"translate(409.845,57.9054)\"><text x=\"10.0\" y=\"2.5549999999999997\" style=\"fill:rgb(14.5%,14.5%,14.5%);fill-opacity:1.0\">r3</text></g></g></g></g><g class=\"toyplot-coordinates-Axis\" id=\"t5268427826b348828db289b08ef20c05\" transform=\"translate(255.0,180.0)translate(0,10.0)\"><line x1=\"7.183536111830178\" y1=\"0\" x2=\"154.8451117438951\" y2=\"0\" style=\"\"></line><g><line x1=\"7.183536111830178\" y1=\"0\" x2=\"7.183536111830178\" y2=\"-5\" style=\"\"></line><line x1=\"81.01432392786263\" y1=\"0\" x2=\"81.01432392786263\" y2=\"-5\" style=\"\"></line><line x1=\"154.8451117438951\" y1=\"0\" x2=\"154.8451117438951\" y2=\"-5\" style=\"\"></line></g><g><g transform=\"translate(7.183536111830178,6)\"><text x=\"-2.78\" y=\"8.555\" style=\"fill:rgb(16.1%,15.3%,14.1%);fill-opacity:1.0;font-family:helvetica;font-size:10.0px;font-weight:normal;stroke:none;vertical-align:baseline;white-space:pre\">1</text></g><g transform=\"translate(81.01432392786263,6)\"><text x=\"-6.95\" y=\"8.555\" style=\"fill:rgb(16.1%,15.3%,14.1%);fill-opacity:1.0;font-family:helvetica;font-size:10.0px;font-weight:normal;stroke:none;vertical-align:baseline;white-space:pre\">0.5</text></g><g transform=\"translate(154.8451117438951,6)\"><text x=\"-2.78\" y=\"8.555\" style=\"fill:rgb(16.1%,15.3%,14.1%);fill-opacity:1.0;font-family:helvetica;font-size:10.0px;font-weight:normal;stroke:none;vertical-align:baseline;white-space:pre\">0</text></g></g><g class=\"toyplot-coordinates-Axis-coordinates\" style=\"visibility:hidden\" transform=\"\"><line x1=\"0\" x2=\"0\" y1=\"-3.0\" y2=\"4.5\" style=\"stroke:rgb(43.9%,50.2%,56.5%);stroke-opacity:1.0;stroke-width:1.0\"></line><text x=\"0\" y=\"-6\" style=\"alignment-baseline:alphabetic;fill:rgb(43.9%,50.2%,56.5%);fill-opacity:1.0;font-size:10px;font-weight:normal;stroke:none;text-anchor:middle\"></text></g></g></g></svg><div class=\"toyplot-behavior\"><script>(function()\n",
       "{\n",
       "var modules={};\n",
       "modules[\"toyplot/canvas/id\"] = \"t9779303372584b8ba39b433d9b91a722\";\n",
       "modules[\"toyplot/canvas\"] = (function(canvas_id)\n",
       "    {\n",
       "        return document.querySelector(\"#\" + canvas_id);\n",
       "    })(modules[\"toyplot/canvas/id\"]);\n",
       "modules[\"toyplot.coordinates.Axis\"] = (\n",
       "        function(canvas)\n",
       "        {\n",
       "            function sign(x)\n",
       "            {\n",
       "                return x < 0 ? -1 : x > 0 ? 1 : 0;\n",
       "            }\n",
       "\n",
       "            function mix(a, b, amount)\n",
       "            {\n",
       "                return ((1.0 - amount) * a) + (amount * b);\n",
       "            }\n",
       "\n",
       "            function log(x, base)\n",
       "            {\n",
       "                return Math.log(Math.abs(x)) / Math.log(base);\n",
       "            }\n",
       "\n",
       "            function in_range(a, x, b)\n",
       "            {\n",
       "                var left = Math.min(a, b);\n",
       "                var right = Math.max(a, b);\n",
       "                return left <= x && x <= right;\n",
       "            }\n",
       "\n",
       "            function inside(range, projection)\n",
       "            {\n",
       "                for(var i = 0; i != projection.length; ++i)\n",
       "                {\n",
       "                    var segment = projection[i];\n",
       "                    if(in_range(segment.range.min, range, segment.range.max))\n",
       "                        return true;\n",
       "                }\n",
       "                return false;\n",
       "            }\n",
       "\n",
       "            function to_domain(range, projection)\n",
       "            {\n",
       "                for(var i = 0; i != projection.length; ++i)\n",
       "                {\n",
       "                    var segment = projection[i];\n",
       "                    if(in_range(segment.range.bounds.min, range, segment.range.bounds.max))\n",
       "                    {\n",
       "                        if(segment.scale == \"linear\")\n",
       "                        {\n",
       "                            var amount = (range - segment.range.min) / (segment.range.max - segment.range.min);\n",
       "                            return mix(segment.domain.min, segment.domain.max, amount)\n",
       "                        }\n",
       "                        else if(segment.scale[0] == \"log\")\n",
       "                        {\n",
       "                            var amount = (range - segment.range.min) / (segment.range.max - segment.range.min);\n",
       "                            var base = segment.scale[1];\n",
       "                            return sign(segment.domain.min) * Math.pow(base, mix(log(segment.domain.min, base), log(segment.domain.max, base), amount));\n",
       "                        }\n",
       "                    }\n",
       "                }\n",
       "            }\n",
       "\n",
       "            var axes = {};\n",
       "\n",
       "            function display_coordinates(e)\n",
       "            {\n",
       "                var current = canvas.createSVGPoint();\n",
       "                current.x = e.clientX;\n",
       "                current.y = e.clientY;\n",
       "\n",
       "                for(var axis_id in axes)\n",
       "                {\n",
       "                    var axis = document.querySelector(\"#\" + axis_id);\n",
       "                    var coordinates = axis.querySelector(\".toyplot-coordinates-Axis-coordinates\");\n",
       "                    if(coordinates)\n",
       "                    {\n",
       "                        var projection = axes[axis_id];\n",
       "                        var local = current.matrixTransform(axis.getScreenCTM().inverse());\n",
       "                        if(inside(local.x, projection))\n",
       "                        {\n",
       "                            var domain = to_domain(local.x, projection);\n",
       "                            coordinates.style.visibility = \"visible\";\n",
       "                            coordinates.setAttribute(\"transform\", \"translate(\" + local.x + \")\");\n",
       "                            var text = coordinates.querySelector(\"text\");\n",
       "                            text.textContent = domain.toFixed(2);\n",
       "                        }\n",
       "                        else\n",
       "                        {\n",
       "                            coordinates.style.visibility= \"hidden\";\n",
       "                        }\n",
       "                    }\n",
       "                }\n",
       "            }\n",
       "\n",
       "            canvas.addEventListener(\"click\", display_coordinates);\n",
       "\n",
       "            var module = {};\n",
       "            module.show_coordinates = function(axis_id, projection)\n",
       "            {\n",
       "                axes[axis_id] = projection;\n",
       "            }\n",
       "\n",
       "            return module;\n",
       "        })(modules[\"toyplot/canvas\"]);\n",
       "(function(axis, axis_id, projection)\n",
       "        {\n",
       "            axis.show_coordinates(axis_id, projection);\n",
       "        })(modules[\"toyplot.coordinates.Axis\"],\"tb3c1ad827231403aa722693e8defcedc\",[{\"domain\": {\"bounds\": {\"max\": Infinity, \"min\": -Infinity}, \"max\": 0.20421621621621622, \"min\": -1.0486486486486486}, \"range\": {\"bounds\": {\"max\": Infinity, \"min\": -Infinity}, \"max\": 185.0, \"min\": 0.0}, \"scale\": \"linear\"}]);\n",
       "(function(axis, axis_id, projection)\n",
       "        {\n",
       "            axis.show_coordinates(axis_id, projection);\n",
       "        })(modules[\"toyplot.coordinates.Axis\"],\"t5268427826b348828db289b08ef20c05\",[{\"domain\": {\"bounds\": {\"max\": Infinity, \"min\": -Infinity}, \"max\": 0.204216216216216, \"min\": -1.0486486486486486}, \"range\": {\"bounds\": {\"max\": Infinity, \"min\": -Infinity}, \"max\": 185.0, \"min\": 0.0}, \"scale\": \"linear\"}]);\n",
       "})();</script></div></div>"
      ]
     },
     "metadata": {},
     "output_type": "display_data"
    }
   ],
   "source": [
    "mod_tree = toytree.mod.drop_tips(tree, \"r0\", \"r1\", \"r2\")\n",
    "toytree.mtree([tree, mod_tree]).draw(node_sizes=15, node_labels=\"idx\", scale_bar=True);"
   ]
  },
  {
   "cell_type": "markdown",
   "metadata": {},
   "source": [
    "### extract_subtree\n",
    "Return a subtree/clade extracted from a larger tree as a ToyTree. It will find the MRCA of the queried nodes and return a tree representing this subclade."
   ]
  },
  {
   "cell_type": "code",
   "execution_count": 175,
   "metadata": {},
   "outputs": [
    {
     "data": {
      "text/html": [
       "<div class=\"toyplot\" id=\"td7938a7fef894ede9d02dff80d21bc73\" style=\"text-align:center\"><svg class=\"toyplot-canvas-Canvas\" xmlns:toyplot=\"http://www.sandia.gov/toyplot\" xmlns:xlink=\"http://www.w3.org/1999/xlink\" xmlns=\"http://www.w3.org/2000/svg\" width=\"450.0px\" height=\"250.0px\" viewBox=\"0 0 450.0 250.0\" preserveAspectRatio=\"xMidYMid meet\" style=\"background-color:transparent;border-color:#292724;border-style:none;border-width:1.0;fill:rgb(16.1%,15.3%,14.1%);fill-opacity:1.0;font-family:Helvetica;font-size:12px;opacity:1.0;stroke:rgb(16.1%,15.3%,14.1%);stroke-opacity:1.0;stroke-width:1.0\" id=\"t154f0bdb07e046f3b493b11e8c04a820\"><g class=\"toyplot-coordinates-Cartesian\" id=\"t73a57fe3ee0c4b1d8e408a60529a4032\"><clipPath id=\"t8f718cccac9946469e201c148d28a893\"><rect x=\"20.0\" y=\"40.0\" width=\"205.0\" height=\"150.0\"></rect></clipPath><g clip-path=\"url(#t8f718cccac9946469e201c148d28a893)\"><g class=\"toytree-mark-Toytree\" id=\"t44cdcad1eab64a02b438c2b89774e046\"><g class=\"toytree-Edges\" style=\"stroke:rgb(14.5%,14.5%,14.5%);stroke-opacity:1.0;stroke-linecap:round;stroke-width:2.0;fill:none\"><path d=\"M 135.6 160.7 L 135.6 172.1 L 184.8 172.1\" id=\"6,0\" style=\"\"></path><path d=\"M 135.6 160.7 L 135.6 149.3 L 184.8 149.3\" id=\"6,1\" style=\"\"></path><path d=\"M 135.6 115.0 L 135.6 126.4 L 184.8 126.4\" id=\"7,2\" style=\"\"></path><path d=\"M 135.6 115.0 L 135.6 103.6 L 184.8 103.6\" id=\"7,3\" style=\"\"></path><path d=\"M 86.4 69.3 L 86.4 80.7 L 184.8 80.7\" id=\"9,4\" style=\"\"></path><path d=\"M 86.4 69.3 L 86.4 57.9 L 184.8 57.9\" id=\"9,5\" style=\"\"></path><path d=\"M 86.4 137.8 L 86.4 160.7 L 135.6 160.7\" id=\"8,6\" style=\"\"></path><path d=\"M 86.4 137.8 L 86.4 115.0 L 135.6 115.0\" id=\"8,7\" style=\"\"></path><path d=\"M 37.2 103.6 L 37.2 137.8 L 86.4 137.8\" id=\"10,8\" style=\"\"></path><path d=\"M 37.2 103.6 L 37.2 69.3 L 86.4 69.3\" id=\"10,9\" style=\"\"></path></g><g class=\"toytree-AdmixEdges\" style=\"fill:rgb(0.0%,0.0%,0.0%);fill-opacity:0.0;stroke:rgb(90.6%,54.1%,76.5%);stroke-opacity:0.6;font-size:14px;stroke-linecap:round;stroke-width:5\"></g><g class=\"toytree-Nodes\" style=\"fill:rgb(40.0%,76.1%,64.7%);fill-opacity:1.0;stroke:rgb(14.9%,14.9%,14.9%);stroke-opacity:1.0;stroke-width:1.5\"><g id=\"Node-6\" transform=\"translate(135.625,160.676)\"><circle r=\"7.5\"></circle></g><g id=\"Node-7\" transform=\"translate(135.625,115)\"><circle r=\"7.5\"></circle></g><g id=\"Node-8\" transform=\"translate(86.4041,137.838)\"><circle r=\"7.5\"></circle></g><g id=\"Node-9\" transform=\"translate(86.4041,69.3243)\"><circle r=\"7.5\"></circle></g><g id=\"Node-10\" transform=\"translate(37.1835,103.581)\"><circle r=\"7.5\"></circle></g></g><g class=\"toytree-NodeLabels\" style=\"font-family:Helvetica;font-size:9px;font-weight:300;vertical-align:baseline;white-space:pre;stroke:none\"><g class=\"toytree-NodeLabel\" transform=\"translate(135.625,160.676)\"><text x=\"-2.5020000000000002\" y=\"2.2995\" style=\"fill:rgb(14.5%,14.5%,14.5%);fill-opacity:1.0\">6</text></g><g class=\"toytree-NodeLabel\" transform=\"translate(135.625,115)\"><text x=\"-2.5020000000000002\" y=\"2.2995\" style=\"fill:rgb(14.5%,14.5%,14.5%);fill-opacity:1.0\">7</text></g><g class=\"toytree-NodeLabel\" transform=\"translate(86.4041,137.838)\"><text x=\"-2.5020000000000002\" y=\"2.2995\" style=\"fill:rgb(14.5%,14.5%,14.5%);fill-opacity:1.0\">8</text></g><g class=\"toytree-NodeLabel\" transform=\"translate(86.4041,69.3243)\"><text x=\"-2.5020000000000002\" y=\"2.2995\" style=\"fill:rgb(14.5%,14.5%,14.5%);fill-opacity:1.0\">9</text></g><g class=\"toytree-NodeLabel\" transform=\"translate(37.1835,103.581)\"><text x=\"-5.0040000000000004\" y=\"2.2995\" style=\"fill:rgb(14.5%,14.5%,14.5%);fill-opacity:1.0\">10</text></g></g><g class=\"toytree-TipLabels\" style=\"fill:rgb(14.5%,14.5%,14.5%);fill-opacity:1.0;font-family:Helvetica;font-size:10px;font-weight:300;vertical-align:baseline;white-space:pre;stroke:none\"><g class=\"toytree-TipLabel\" transform=\"translate(184.845,172.095)\"><text x=\"10.0\" y=\"2.5549999999999997\" style=\"fill:rgb(14.5%,14.5%,14.5%);fill-opacity:1.0\">r0</text></g><g class=\"toytree-TipLabel\" transform=\"translate(184.845,149.257)\"><text x=\"10.0\" y=\"2.5549999999999997\" style=\"fill:rgb(14.5%,14.5%,14.5%);fill-opacity:1.0\">r1</text></g><g class=\"toytree-TipLabel\" transform=\"translate(184.845,126.419)\"><text x=\"10.0\" y=\"2.5549999999999997\" style=\"fill:rgb(14.5%,14.5%,14.5%);fill-opacity:1.0\">r2</text></g><g class=\"toytree-TipLabel\" transform=\"translate(184.845,103.581)\"><text x=\"10.0\" y=\"2.5549999999999997\" style=\"fill:rgb(14.5%,14.5%,14.5%);fill-opacity:1.0\">r3</text></g><g class=\"toytree-TipLabel\" transform=\"translate(184.845,80.7432)\"><text x=\"10.0\" y=\"2.5549999999999997\" style=\"fill:rgb(14.5%,14.5%,14.5%);fill-opacity:1.0\">r4</text></g><g class=\"toytree-TipLabel\" transform=\"translate(184.845,57.9054)\"><text x=\"10.0\" y=\"2.5549999999999997\" style=\"fill:rgb(14.5%,14.5%,14.5%);fill-opacity:1.0\">r5</text></g></g></g></g><g class=\"toyplot-coordinates-Axis\" id=\"tafb2ccf9c86344d3b85fbd33f619af52\" transform=\"translate(30.0,180.0)translate(0,10.0)\"><line x1=\"7.183536111830176\" y1=\"0\" x2=\"154.84511174389507\" y2=\"0\" style=\"\"></line><g><line x1=\"7.183536111830176\" y1=\"0\" x2=\"7.183536111830176\" y2=\"-5\" style=\"\"></line><line x1=\"81.01432392786263\" y1=\"0\" x2=\"81.01432392786263\" y2=\"-5\" style=\"\"></line><line x1=\"154.84511174389507\" y1=\"0\" x2=\"154.84511174389507\" y2=\"-5\" style=\"\"></line></g><g><g transform=\"translate(7.183536111830176,6)\"><text x=\"-2.78\" y=\"8.555\" style=\"fill:rgb(16.1%,15.3%,14.1%);fill-opacity:1.0;font-family:helvetica;font-size:10.0px;font-weight:normal;stroke:none;vertical-align:baseline;white-space:pre\">1</text></g><g transform=\"translate(81.01432392786263,6)\"><text x=\"-6.95\" y=\"8.555\" style=\"fill:rgb(16.1%,15.3%,14.1%);fill-opacity:1.0;font-family:helvetica;font-size:10.0px;font-weight:normal;stroke:none;vertical-align:baseline;white-space:pre\">0.5</text></g><g transform=\"translate(154.84511174389507,6)\"><text x=\"-2.78\" y=\"8.555\" style=\"fill:rgb(16.1%,15.3%,14.1%);fill-opacity:1.0;font-family:helvetica;font-size:10.0px;font-weight:normal;stroke:none;vertical-align:baseline;white-space:pre\">0</text></g></g><g class=\"toyplot-coordinates-Axis-coordinates\" style=\"visibility:hidden\" transform=\"\"><line x1=\"0\" x2=\"0\" y1=\"-3.0\" y2=\"4.5\" style=\"stroke:rgb(43.9%,50.2%,56.5%);stroke-opacity:1.0;stroke-width:1.0\"></line><text x=\"0\" y=\"-6\" style=\"alignment-baseline:alphabetic;fill:rgb(43.9%,50.2%,56.5%);fill-opacity:1.0;font-size:10px;font-weight:normal;stroke:none;text-anchor:middle\"></text></g></g></g><g class=\"toyplot-coordinates-Cartesian\" id=\"t8ebe88c156894b5982737f75c2e6a93e\"><clipPath id=\"tcfc4cdb2c4bb40d1a5acba95f997ab98\"><rect x=\"245.0\" y=\"40.0\" width=\"205.0\" height=\"150.0\"></rect></clipPath><g clip-path=\"url(#tcfc4cdb2c4bb40d1a5acba95f997ab98)\"><g class=\"toytree-mark-Toytree\" id=\"t9379b2b538c749b9ac54b0d4386dcf69\"><g class=\"toytree-Edges\" style=\"stroke:rgb(14.5%,14.5%,14.5%);stroke-opacity:1.0;stroke-linecap:round;stroke-width:2.0;fill:none\"><path d=\"M 336.0 153.1 L 336.0 172.1 L 409.8 172.1\" id=\"4,0\" style=\"\"></path><path d=\"M 336.0 153.1 L 336.0 134.0 L 409.8 134.0\" id=\"4,1\" style=\"\"></path><path d=\"M 336.0 76.9 L 336.0 96.0 L 409.8 96.0\" id=\"5,2\" style=\"\"></path><path d=\"M 336.0 76.9 L 336.0 57.9 L 409.8 57.9\" id=\"5,3\" style=\"\"></path><path d=\"M 262.2 115.0 L 262.2 153.1 L 336.0 153.1\" id=\"6,4\" style=\"\"></path><path d=\"M 262.2 115.0 L 262.2 76.9 L 336.0 76.9\" id=\"6,5\" style=\"\"></path></g><g class=\"toytree-AdmixEdges\" style=\"fill:rgb(0.0%,0.0%,0.0%);fill-opacity:0.0;stroke:rgb(90.6%,54.1%,76.5%);stroke-opacity:0.6;font-size:14px;stroke-linecap:round;stroke-width:5\"></g><g class=\"toytree-Nodes\" style=\"fill:rgb(40.0%,76.1%,64.7%);fill-opacity:1.0;stroke:rgb(14.9%,14.9%,14.9%);stroke-opacity:1.0;stroke-width:1.5\"><g id=\"Node-4\" transform=\"translate(336.014,153.063)\"><circle r=\"7.5\"></circle></g><g id=\"Node-5\" transform=\"translate(336.014,76.9369)\"><circle r=\"7.5\"></circle></g><g id=\"Node-6\" transform=\"translate(262.184,115)\"><circle r=\"7.5\"></circle></g></g><g class=\"toytree-NodeLabels\" style=\"font-family:Helvetica;font-size:9px;font-weight:300;vertical-align:baseline;white-space:pre;stroke:none\"><g class=\"toytree-NodeLabel\" transform=\"translate(336.014,153.063)\"><text x=\"-2.5020000000000002\" y=\"2.2995\" style=\"fill:rgb(14.5%,14.5%,14.5%);fill-opacity:1.0\">4</text></g><g class=\"toytree-NodeLabel\" transform=\"translate(336.014,76.9369)\"><text x=\"-2.5020000000000002\" y=\"2.2995\" style=\"fill:rgb(14.5%,14.5%,14.5%);fill-opacity:1.0\">5</text></g><g class=\"toytree-NodeLabel\" transform=\"translate(262.184,115)\"><text x=\"-2.5020000000000002\" y=\"2.2995\" style=\"fill:rgb(14.5%,14.5%,14.5%);fill-opacity:1.0\">6</text></g></g><g class=\"toytree-TipLabels\" style=\"fill:rgb(14.5%,14.5%,14.5%);fill-opacity:1.0;font-family:Helvetica;font-size:10px;font-weight:300;vertical-align:baseline;white-space:pre;stroke:none\"><g class=\"toytree-TipLabel\" transform=\"translate(409.845,172.095)\"><text x=\"10.0\" y=\"2.5549999999999997\" style=\"fill:rgb(14.5%,14.5%,14.5%);fill-opacity:1.0\">r0</text></g><g class=\"toytree-TipLabel\" transform=\"translate(409.845,134.032)\"><text x=\"10.0\" y=\"2.5549999999999997\" style=\"fill:rgb(14.5%,14.5%,14.5%);fill-opacity:1.0\">r1</text></g><g class=\"toytree-TipLabel\" transform=\"translate(409.845,95.9685)\"><text x=\"10.0\" y=\"2.5549999999999997\" style=\"fill:rgb(14.5%,14.5%,14.5%);fill-opacity:1.0\">r2</text></g><g class=\"toytree-TipLabel\" transform=\"translate(409.845,57.9054)\"><text x=\"10.0\" y=\"2.5549999999999997\" style=\"fill:rgb(14.5%,14.5%,14.5%);fill-opacity:1.0\">r3</text></g></g></g></g><g class=\"toyplot-coordinates-Axis\" id=\"t5d076ab5c393457d998eaa6c7e68aa66\" transform=\"translate(255.0,180.0)translate(0,10.0)\"><line x1=\"7.183536111830185\" y1=\"0\" x2=\"154.8451117438951\" y2=\"0\" style=\"\"></line><g><line x1=\"21.949693675036652\" y1=\"0\" x2=\"21.949693675036652\" y2=\"-5\" style=\"\"></line><line x1=\"66.24816636465613\" y1=\"0\" x2=\"66.24816636465613\" y2=\"-5\" style=\"\"></line><line x1=\"110.5466390542756\" y1=\"0\" x2=\"110.5466390542756\" y2=\"-5\" style=\"\"></line><line x1=\"154.8451117438951\" y1=\"0\" x2=\"154.8451117438951\" y2=\"-5\" style=\"\"></line></g><g><g transform=\"translate(21.949693675036652,6)\"><text x=\"-6.95\" y=\"8.555\" style=\"fill:rgb(16.1%,15.3%,14.1%);fill-opacity:1.0;font-family:helvetica;font-size:10.0px;font-weight:normal;stroke:none;vertical-align:baseline;white-space:pre\">0.6</text></g><g transform=\"translate(66.24816636465613,6)\"><text x=\"-6.95\" y=\"8.555\" style=\"fill:rgb(16.1%,15.3%,14.1%);fill-opacity:1.0;font-family:helvetica;font-size:10.0px;font-weight:normal;stroke:none;vertical-align:baseline;white-space:pre\">0.4</text></g><g transform=\"translate(110.5466390542756,6)\"><text x=\"-6.95\" y=\"8.555\" style=\"fill:rgb(16.1%,15.3%,14.1%);fill-opacity:1.0;font-family:helvetica;font-size:10.0px;font-weight:normal;stroke:none;vertical-align:baseline;white-space:pre\">0.2</text></g><g transform=\"translate(154.8451117438951,6)\"><text x=\"-2.78\" y=\"8.555\" style=\"fill:rgb(16.1%,15.3%,14.1%);fill-opacity:1.0;font-family:helvetica;font-size:10.0px;font-weight:normal;stroke:none;vertical-align:baseline;white-space:pre\">0</text></g></g><g class=\"toyplot-coordinates-Axis-coordinates\" style=\"visibility:hidden\" transform=\"\"><line x1=\"0\" x2=\"0\" y1=\"-3.0\" y2=\"4.5\" style=\"stroke:rgb(43.9%,50.2%,56.5%);stroke-opacity:1.0;stroke-width:1.0\"></line><text x=\"0\" y=\"-6\" style=\"alignment-baseline:alphabetic;fill:rgb(43.9%,50.2%,56.5%);fill-opacity:1.0;font-size:10px;font-weight:normal;stroke:none;text-anchor:middle\"></text></g></g></g></svg><div class=\"toyplot-behavior\"><script>(function()\n",
       "{\n",
       "var modules={};\n",
       "modules[\"toyplot/canvas/id\"] = \"t154f0bdb07e046f3b493b11e8c04a820\";\n",
       "modules[\"toyplot/canvas\"] = (function(canvas_id)\n",
       "    {\n",
       "        return document.querySelector(\"#\" + canvas_id);\n",
       "    })(modules[\"toyplot/canvas/id\"]);\n",
       "modules[\"toyplot.coordinates.Axis\"] = (\n",
       "        function(canvas)\n",
       "        {\n",
       "            function sign(x)\n",
       "            {\n",
       "                return x < 0 ? -1 : x > 0 ? 1 : 0;\n",
       "            }\n",
       "\n",
       "            function mix(a, b, amount)\n",
       "            {\n",
       "                return ((1.0 - amount) * a) + (amount * b);\n",
       "            }\n",
       "\n",
       "            function log(x, base)\n",
       "            {\n",
       "                return Math.log(Math.abs(x)) / Math.log(base);\n",
       "            }\n",
       "\n",
       "            function in_range(a, x, b)\n",
       "            {\n",
       "                var left = Math.min(a, b);\n",
       "                var right = Math.max(a, b);\n",
       "                return left <= x && x <= right;\n",
       "            }\n",
       "\n",
       "            function inside(range, projection)\n",
       "            {\n",
       "                for(var i = 0; i != projection.length; ++i)\n",
       "                {\n",
       "                    var segment = projection[i];\n",
       "                    if(in_range(segment.range.min, range, segment.range.max))\n",
       "                        return true;\n",
       "                }\n",
       "                return false;\n",
       "            }\n",
       "\n",
       "            function to_domain(range, projection)\n",
       "            {\n",
       "                for(var i = 0; i != projection.length; ++i)\n",
       "                {\n",
       "                    var segment = projection[i];\n",
       "                    if(in_range(segment.range.bounds.min, range, segment.range.bounds.max))\n",
       "                    {\n",
       "                        if(segment.scale == \"linear\")\n",
       "                        {\n",
       "                            var amount = (range - segment.range.min) / (segment.range.max - segment.range.min);\n",
       "                            return mix(segment.domain.min, segment.domain.max, amount)\n",
       "                        }\n",
       "                        else if(segment.scale[0] == \"log\")\n",
       "                        {\n",
       "                            var amount = (range - segment.range.min) / (segment.range.max - segment.range.min);\n",
       "                            var base = segment.scale[1];\n",
       "                            return sign(segment.domain.min) * Math.pow(base, mix(log(segment.domain.min, base), log(segment.domain.max, base), amount));\n",
       "                        }\n",
       "                    }\n",
       "                }\n",
       "            }\n",
       "\n",
       "            var axes = {};\n",
       "\n",
       "            function display_coordinates(e)\n",
       "            {\n",
       "                var current = canvas.createSVGPoint();\n",
       "                current.x = e.clientX;\n",
       "                current.y = e.clientY;\n",
       "\n",
       "                for(var axis_id in axes)\n",
       "                {\n",
       "                    var axis = document.querySelector(\"#\" + axis_id);\n",
       "                    var coordinates = axis.querySelector(\".toyplot-coordinates-Axis-coordinates\");\n",
       "                    if(coordinates)\n",
       "                    {\n",
       "                        var projection = axes[axis_id];\n",
       "                        var local = current.matrixTransform(axis.getScreenCTM().inverse());\n",
       "                        if(inside(local.x, projection))\n",
       "                        {\n",
       "                            var domain = to_domain(local.x, projection);\n",
       "                            coordinates.style.visibility = \"visible\";\n",
       "                            coordinates.setAttribute(\"transform\", \"translate(\" + local.x + \")\");\n",
       "                            var text = coordinates.querySelector(\"text\");\n",
       "                            text.textContent = domain.toFixed(2);\n",
       "                        }\n",
       "                        else\n",
       "                        {\n",
       "                            coordinates.style.visibility= \"hidden\";\n",
       "                        }\n",
       "                    }\n",
       "                }\n",
       "            }\n",
       "\n",
       "            canvas.addEventListener(\"click\", display_coordinates);\n",
       "\n",
       "            var module = {};\n",
       "            module.show_coordinates = function(axis_id, projection)\n",
       "            {\n",
       "                axes[axis_id] = projection;\n",
       "            }\n",
       "\n",
       "            return module;\n",
       "        })(modules[\"toyplot/canvas\"]);\n",
       "(function(axis, axis_id, projection)\n",
       "        {\n",
       "            axis.show_coordinates(axis_id, projection);\n",
       "        })(modules[\"toyplot.coordinates.Axis\"],\"tafb2ccf9c86344d3b85fbd33f619af52\",[{\"domain\": {\"bounds\": {\"max\": Infinity, \"min\": -Infinity}, \"max\": 0.20421621621621622, \"min\": -1.0486486486486486}, \"range\": {\"bounds\": {\"max\": Infinity, \"min\": -Infinity}, \"max\": 185.0, \"min\": 0.0}, \"scale\": \"linear\"}]);\n",
       "(function(axis, axis_id, projection)\n",
       "        {\n",
       "            axis.show_coordinates(axis_id, projection);\n",
       "        })(modules[\"toyplot.coordinates.Axis\"],\"t5d076ab5c393457d998eaa6c7e68aa66\",[{\"domain\": {\"bounds\": {\"max\": Infinity, \"min\": -Infinity}, \"max\": 0.136144144144144, \"min\": -0.6990990990990991}, \"range\": {\"bounds\": {\"max\": Infinity, \"min\": -Infinity}, \"max\": 185.0, \"min\": 0.0}, \"scale\": \"linear\"}]);\n",
       "})();</script></div></div>"
      ]
     },
     "metadata": {},
     "output_type": "display_data"
    }
   ],
   "source": [
    "mod_tree = toytree.mod.extract_subtree(tree, \"r0\", \"r3\")\n",
    "toytree.mtree([tree, mod_tree]).draw(node_sizes=15, node_labels=\"idx\", scale_bar=True);"
   ]
  },
  {
   "cell_type": "markdown",
   "metadata": {},
   "source": [
    "### bisect\n",
    "The `bisect()` method returns a tree bisected into two subtrees on a selected edge. This edge is given by the edge above a queried Node. \n",
    "When used on a rooted tree, querying the TreeNode returns a subtree for each child as its own TreeNode with its original distance value. When used on an unrooted tree, the TreeNode cannot be queried. When any other Node is queried, it will split the edge above it to create two subtrees with the queried Node bing a TreeNode of one new subtree. Including the argument `reroot=True` will cause the Node above the query to become the new TreeNode in its subtree, otherwise the original TreeNode will be retained. "
   ]
  },
  {
   "cell_type": "code",
   "execution_count": 170,
   "metadata": {},
   "outputs": [
    {
     "data": {
      "text/html": [
       "<div class=\"toyplot\" id=\"t1c2010133a3d4902afd3f501af01b061\" style=\"text-align:center\"><svg class=\"toyplot-canvas-Canvas\" xmlns:toyplot=\"http://www.sandia.gov/toyplot\" xmlns:xlink=\"http://www.w3.org/1999/xlink\" xmlns=\"http://www.w3.org/2000/svg\" width=\"675.0px\" height=\"250.0px\" viewBox=\"0 0 675.0 250.0\" preserveAspectRatio=\"xMidYMid meet\" style=\"background-color:transparent;border-color:#292724;border-style:none;border-width:1.0;fill:rgb(16.1%,15.3%,14.1%);fill-opacity:1.0;font-family:Helvetica;font-size:12px;opacity:1.0;stroke:rgb(16.1%,15.3%,14.1%);stroke-opacity:1.0;stroke-width:1.0\" id=\"teb176fe4f6d44317949ae2308233dbf4\"><g class=\"toyplot-coordinates-Cartesian\" id=\"tc2d5d9b9812944f79be0391e2a58b47c\"><clipPath id=\"t0da8f732eb8d42e59c12e3003d35ba82\"><rect x=\"20.0\" y=\"40.0\" width=\"205.0\" height=\"150.0\"></rect></clipPath><g clip-path=\"url(#t0da8f732eb8d42e59c12e3003d35ba82)\"><g class=\"toytree-mark-Toytree\" id=\"t0d5c1ea5eead4c5e97c65d7c0f871fd5\"><g class=\"toytree-Edges\" style=\"stroke:rgb(14.5%,14.5%,14.5%);stroke-opacity:1.0;stroke-linecap:round;stroke-width:2.0;fill:none\"><path d=\"M 135.6 160.7 L 135.6 172.1 L 184.8 172.1\" id=\"6,0\" style=\"\"></path><path d=\"M 135.6 160.7 L 135.6 149.3 L 184.8 149.3\" id=\"6,1\" style=\"\"></path><path d=\"M 135.6 115.0 L 135.6 126.4 L 184.8 126.4\" id=\"7,2\" style=\"\"></path><path d=\"M 135.6 115.0 L 135.6 103.6 L 184.8 103.6\" id=\"7,3\" style=\"\"></path><path d=\"M 86.4 69.3 L 86.4 80.7 L 184.8 80.7\" id=\"9,4\" style=\"\"></path><path d=\"M 86.4 69.3 L 86.4 57.9 L 184.8 57.9\" id=\"9,5\" style=\"\"></path><path d=\"M 86.4 137.8 L 86.4 160.7 L 135.6 160.7\" id=\"8,6\" style=\"\"></path><path d=\"M 86.4 137.8 L 86.4 115.0 L 135.6 115.0\" id=\"8,7\" style=\"\"></path><path d=\"M 37.2 103.6 L 37.2 137.8 L 86.4 137.8\" id=\"10,8\" style=\"\"></path><path d=\"M 37.2 103.6 L 37.2 69.3 L 86.4 69.3\" id=\"10,9\" style=\"\"></path></g><g class=\"toytree-AdmixEdges\" style=\"fill:rgb(0.0%,0.0%,0.0%);fill-opacity:0.0;stroke:rgb(90.6%,54.1%,76.5%);stroke-opacity:0.6;font-size:14px;stroke-linecap:round;stroke-width:5\"></g><g class=\"toytree-Nodes\" style=\"fill:rgb(40.0%,76.1%,64.7%);fill-opacity:1.0;stroke:rgb(14.9%,14.9%,14.9%);stroke-opacity:1.0;stroke-width:1.5\"><g id=\"Node-6\" transform=\"translate(135.625,160.676)\"><circle r=\"7.5\"></circle></g><g id=\"Node-7\" transform=\"translate(135.625,115)\"><circle r=\"7.5\"></circle></g><g id=\"Node-8\" transform=\"translate(86.4041,137.838)\"><circle r=\"7.5\"></circle></g><g id=\"Node-9\" transform=\"translate(86.4041,69.3243)\"><circle r=\"7.5\"></circle></g><g id=\"Node-10\" transform=\"translate(37.1835,103.581)\"><circle r=\"7.5\"></circle></g></g><g class=\"toytree-NodeLabels\" style=\"font-family:Helvetica;font-size:9px;font-weight:300;vertical-align:baseline;white-space:pre;stroke:none\"><g class=\"toytree-NodeLabel\" transform=\"translate(135.625,160.676)\"><text x=\"-2.5020000000000002\" y=\"2.2995\" style=\"fill:rgb(14.5%,14.5%,14.5%);fill-opacity:1.0\">6</text></g><g class=\"toytree-NodeLabel\" transform=\"translate(135.625,115)\"><text x=\"-2.5020000000000002\" y=\"2.2995\" style=\"fill:rgb(14.5%,14.5%,14.5%);fill-opacity:1.0\">7</text></g><g class=\"toytree-NodeLabel\" transform=\"translate(86.4041,137.838)\"><text x=\"-2.5020000000000002\" y=\"2.2995\" style=\"fill:rgb(14.5%,14.5%,14.5%);fill-opacity:1.0\">8</text></g><g class=\"toytree-NodeLabel\" transform=\"translate(86.4041,69.3243)\"><text x=\"-2.5020000000000002\" y=\"2.2995\" style=\"fill:rgb(14.5%,14.5%,14.5%);fill-opacity:1.0\">9</text></g><g class=\"toytree-NodeLabel\" transform=\"translate(37.1835,103.581)\"><text x=\"-5.0040000000000004\" y=\"2.2995\" style=\"fill:rgb(14.5%,14.5%,14.5%);fill-opacity:1.0\">10</text></g></g><g class=\"toytree-TipLabels\" style=\"fill:rgb(14.5%,14.5%,14.5%);fill-opacity:1.0;font-family:Helvetica;font-size:10px;font-weight:300;vertical-align:baseline;white-space:pre;stroke:none\"><g class=\"toytree-TipLabel\" transform=\"translate(184.845,172.095)\"><text x=\"10.0\" y=\"2.5549999999999997\" style=\"fill:rgb(14.5%,14.5%,14.5%);fill-opacity:1.0\">r0</text></g><g class=\"toytree-TipLabel\" transform=\"translate(184.845,149.257)\"><text x=\"10.0\" y=\"2.5549999999999997\" style=\"fill:rgb(14.5%,14.5%,14.5%);fill-opacity:1.0\">r1</text></g><g class=\"toytree-TipLabel\" transform=\"translate(184.845,126.419)\"><text x=\"10.0\" y=\"2.5549999999999997\" style=\"fill:rgb(14.5%,14.5%,14.5%);fill-opacity:1.0\">r2</text></g><g class=\"toytree-TipLabel\" transform=\"translate(184.845,103.581)\"><text x=\"10.0\" y=\"2.5549999999999997\" style=\"fill:rgb(14.5%,14.5%,14.5%);fill-opacity:1.0\">r3</text></g><g class=\"toytree-TipLabel\" transform=\"translate(184.845,80.7432)\"><text x=\"10.0\" y=\"2.5549999999999997\" style=\"fill:rgb(14.5%,14.5%,14.5%);fill-opacity:1.0\">r4</text></g><g class=\"toytree-TipLabel\" transform=\"translate(184.845,57.9054)\"><text x=\"10.0\" y=\"2.5549999999999997\" style=\"fill:rgb(14.5%,14.5%,14.5%);fill-opacity:1.0\">r5</text></g></g></g></g><g class=\"toyplot-coordinates-Axis\" id=\"tc48253bde66e472c819e3e9dbcb53f08\" transform=\"translate(30.0,180.0)translate(0,10.0)\"><line x1=\"7.183536111830176\" y1=\"0\" x2=\"154.84511174389507\" y2=\"0\" style=\"\"></line><g><line x1=\"7.183536111830176\" y1=\"0\" x2=\"7.183536111830176\" y2=\"-5\" style=\"\"></line><line x1=\"81.01432392786263\" y1=\"0\" x2=\"81.01432392786263\" y2=\"-5\" style=\"\"></line><line x1=\"154.84511174389507\" y1=\"0\" x2=\"154.84511174389507\" y2=\"-5\" style=\"\"></line></g><g><g transform=\"translate(7.183536111830176,6)\"><text x=\"-2.78\" y=\"8.555\" style=\"fill:rgb(16.1%,15.3%,14.1%);fill-opacity:1.0;font-family:helvetica;font-size:10.0px;font-weight:normal;stroke:none;vertical-align:baseline;white-space:pre\">1</text></g><g transform=\"translate(81.01432392786263,6)\"><text x=\"-6.95\" y=\"8.555\" style=\"fill:rgb(16.1%,15.3%,14.1%);fill-opacity:1.0;font-family:helvetica;font-size:10.0px;font-weight:normal;stroke:none;vertical-align:baseline;white-space:pre\">0.5</text></g><g transform=\"translate(154.84511174389507,6)\"><text x=\"-2.78\" y=\"8.555\" style=\"fill:rgb(16.1%,15.3%,14.1%);fill-opacity:1.0;font-family:helvetica;font-size:10.0px;font-weight:normal;stroke:none;vertical-align:baseline;white-space:pre\">0</text></g></g><g class=\"toyplot-coordinates-Axis-coordinates\" style=\"visibility:hidden\" transform=\"\"><line x1=\"0\" x2=\"0\" y1=\"-3.0\" y2=\"4.5\" style=\"stroke:rgb(43.9%,50.2%,56.5%);stroke-opacity:1.0;stroke-width:1.0\"></line><text x=\"0\" y=\"-6\" style=\"alignment-baseline:alphabetic;fill:rgb(43.9%,50.2%,56.5%);fill-opacity:1.0;font-size:10px;font-weight:normal;stroke:none;text-anchor:middle\"></text></g></g></g><g class=\"toyplot-coordinates-Cartesian\" id=\"t9a72b18508a044ca9c73cd6dbe31ad38\"><clipPath id=\"t47dbc292c6704fad9adb0947c8469758\"><rect x=\"245.0\" y=\"40.0\" width=\"205.0\" height=\"150.0\"></rect></clipPath><g clip-path=\"url(#t47dbc292c6704fad9adb0947c8469758)\"><g class=\"toytree-mark-Toytree\" id=\"t2f8d4521947645f3835970f5e7fe1f10\"><g class=\"toytree-Edges\" style=\"stroke:rgb(14.5%,14.5%,14.5%);stroke-opacity:1.0;stroke-linecap:round;stroke-width:2.0;fill:none\"><path d=\"M 262.2 115.0 L 262.2 172.1 L 409.8 172.1\" id=\"2,0\" style=\"\"></path><path d=\"M 262.2 115.0 L 262.2 57.9 L 409.8 57.9\" id=\"2,1\" style=\"\"></path></g><g class=\"toytree-AdmixEdges\" style=\"fill:rgb(0.0%,0.0%,0.0%);fill-opacity:0.0;stroke:rgb(90.6%,54.1%,76.5%);stroke-opacity:0.6;font-size:14px;stroke-linecap:round;stroke-width:5\"></g><g class=\"toytree-Nodes\" style=\"fill:rgb(40.0%,76.1%,64.7%);fill-opacity:1.0;stroke:rgb(14.9%,14.9%,14.9%);stroke-opacity:1.0;stroke-width:1.5\"><g id=\"Node-2\" transform=\"translate(262.184,115)\"><circle r=\"7.5\"></circle></g></g><g class=\"toytree-NodeLabels\" style=\"font-family:Helvetica;font-size:9px;font-weight:300;vertical-align:baseline;white-space:pre;stroke:none\"><g class=\"toytree-NodeLabel\" transform=\"translate(262.184,115)\"><text x=\"-2.5020000000000002\" y=\"2.2995\" style=\"fill:rgb(14.5%,14.5%,14.5%);fill-opacity:1.0\">2</text></g></g><g class=\"toytree-TipLabels\" style=\"fill:rgb(14.5%,14.5%,14.5%);fill-opacity:1.0;font-family:Helvetica;font-size:10px;font-weight:300;vertical-align:baseline;white-space:pre;stroke:none\"><g class=\"toytree-TipLabel\" transform=\"translate(409.845,172.095)\"><text x=\"10.0\" y=\"2.5549999999999997\" style=\"fill:rgb(14.5%,14.5%,14.5%);fill-opacity:1.0\">r0</text></g><g class=\"toytree-TipLabel\" transform=\"translate(409.845,57.9054)\"><text x=\"10.0\" y=\"2.5549999999999997\" style=\"fill:rgb(14.5%,14.5%,14.5%);fill-opacity:1.0\">r1</text></g></g></g></g><g class=\"toyplot-coordinates-Axis\" id=\"t08e4a3e92eac4fb099b6d21759338184\" transform=\"translate(255.0,180.0)translate(0,10.0)\"><line x1=\"7.183536111830185\" y1=\"0\" x2=\"154.8451117438951\" y2=\"0\" style=\"\"></line><g><line x1=\"21.949693675036652\" y1=\"0\" x2=\"21.949693675036652\" y2=\"-5\" style=\"\"></line><line x1=\"66.24816636465613\" y1=\"0\" x2=\"66.24816636465613\" y2=\"-5\" style=\"\"></line><line x1=\"110.5466390542756\" y1=\"0\" x2=\"110.5466390542756\" y2=\"-5\" style=\"\"></line><line x1=\"154.8451117438951\" y1=\"0\" x2=\"154.8451117438951\" y2=\"-5\" style=\"\"></line></g><g><g transform=\"translate(21.949693675036652,6)\"><text x=\"-6.95\" y=\"8.555\" style=\"fill:rgb(16.1%,15.3%,14.1%);fill-opacity:1.0;font-family:helvetica;font-size:10.0px;font-weight:normal;stroke:none;vertical-align:baseline;white-space:pre\">0.3</text></g><g transform=\"translate(66.24816636465613,6)\"><text x=\"-6.95\" y=\"8.555\" style=\"fill:rgb(16.1%,15.3%,14.1%);fill-opacity:1.0;font-family:helvetica;font-size:10.0px;font-weight:normal;stroke:none;vertical-align:baseline;white-space:pre\">0.2</text></g><g transform=\"translate(110.5466390542756,6)\"><text x=\"-6.95\" y=\"8.555\" style=\"fill:rgb(16.1%,15.3%,14.1%);fill-opacity:1.0;font-family:helvetica;font-size:10.0px;font-weight:normal;stroke:none;vertical-align:baseline;white-space:pre\">0.1</text></g><g transform=\"translate(154.8451117438951,6)\"><text x=\"-2.78\" y=\"8.555\" style=\"fill:rgb(16.1%,15.3%,14.1%);fill-opacity:1.0;font-family:helvetica;font-size:10.0px;font-weight:normal;stroke:none;vertical-align:baseline;white-space:pre\">0</text></g></g><g class=\"toyplot-coordinates-Axis-coordinates\" style=\"visibility:hidden\" transform=\"\"><line x1=\"0\" x2=\"0\" y1=\"-3.0\" y2=\"4.5\" style=\"stroke:rgb(43.9%,50.2%,56.5%);stroke-opacity:1.0;stroke-width:1.0\"></line><text x=\"0\" y=\"-6\" style=\"alignment-baseline:alphabetic;fill:rgb(43.9%,50.2%,56.5%);fill-opacity:1.0;font-size:10px;font-weight:normal;stroke:none;text-anchor:middle\"></text></g></g></g><g class=\"toyplot-coordinates-Cartesian\" id=\"t69afb1b6461240dfb46268b15dd655f2\"><clipPath id=\"t335a923b2e3a47d8a4eb5bca3867fff3\"><rect x=\"470.0\" y=\"40.0\" width=\"205.0\" height=\"150.0\"></rect></clipPath><g clip-path=\"url(#t335a923b2e3a47d8a4eb5bca3867fff3)\"><g class=\"toytree-mark-Toytree\" id=\"t5784023c0acc43b988e9715cf3fd1a56\"><g class=\"toytree-Edges\" style=\"stroke:rgb(14.5%,14.5%,14.5%);stroke-opacity:1.0;stroke-linecap:round;stroke-width:2.0;fill:none\"><path d=\"M 536.4 153.1 L 536.4 172.1 L 634.8 172.1\" id=\"4,0\" style=\"\"></path><path d=\"M 536.4 153.1 L 536.4 134.0 L 634.8 134.0\" id=\"4,1\" style=\"\"></path><path d=\"M 585.6 76.9 L 585.6 96.0 L 634.8 96.0\" id=\"5,2\" style=\"\"></path><path d=\"M 585.6 76.9 L 585.6 57.9 L 634.8 57.9\" id=\"5,3\" style=\"\"></path><path d=\"M 487.2 115.0 L 487.2 153.1 L 536.4 153.1\" id=\"6,4\" style=\"\"></path><path d=\"M 487.2 115.0 L 487.2 76.9 L 585.6 76.9\" id=\"6,5\" style=\"\"></path></g><g class=\"toytree-AdmixEdges\" style=\"fill:rgb(0.0%,0.0%,0.0%);fill-opacity:0.0;stroke:rgb(90.6%,54.1%,76.5%);stroke-opacity:0.6;font-size:14px;stroke-linecap:round;stroke-width:5\"></g><g class=\"toytree-Nodes\" style=\"fill:rgb(40.0%,76.1%,64.7%);fill-opacity:1.0;stroke:rgb(14.9%,14.9%,14.9%);stroke-opacity:1.0;stroke-width:1.5\"><g id=\"Node-4\" transform=\"translate(536.404,153.063)\"><circle r=\"7.5\"></circle></g><g id=\"Node-5\" transform=\"translate(585.625,76.9369)\"><circle r=\"7.5\"></circle></g><g id=\"Node-6\" transform=\"translate(487.184,115)\"><circle r=\"7.5\"></circle></g></g><g class=\"toytree-NodeLabels\" style=\"font-family:Helvetica;font-size:9px;font-weight:300;vertical-align:baseline;white-space:pre;stroke:none\"><g class=\"toytree-NodeLabel\" transform=\"translate(536.404,153.063)\"><text x=\"-2.5020000000000002\" y=\"2.2995\" style=\"fill:rgb(14.5%,14.5%,14.5%);fill-opacity:1.0\">4</text></g><g class=\"toytree-NodeLabel\" transform=\"translate(585.625,76.9369)\"><text x=\"-2.5020000000000002\" y=\"2.2995\" style=\"fill:rgb(14.5%,14.5%,14.5%);fill-opacity:1.0\">5</text></g><g class=\"toytree-NodeLabel\" transform=\"translate(487.184,115)\"><text x=\"-2.5020000000000002\" y=\"2.2995\" style=\"fill:rgb(14.5%,14.5%,14.5%);fill-opacity:1.0\">6</text></g></g><g class=\"toytree-TipLabels\" style=\"fill:rgb(14.5%,14.5%,14.5%);fill-opacity:1.0;font-family:Helvetica;font-size:10px;font-weight:300;vertical-align:baseline;white-space:pre;stroke:none\"><g class=\"toytree-TipLabel\" transform=\"translate(634.845,172.095)\"><text x=\"10.0\" y=\"2.5549999999999997\" style=\"fill:rgb(14.5%,14.5%,14.5%);fill-opacity:1.0\">r4</text></g><g class=\"toytree-TipLabel\" transform=\"translate(634.845,134.032)\"><text x=\"10.0\" y=\"2.5549999999999997\" style=\"fill:rgb(14.5%,14.5%,14.5%);fill-opacity:1.0\">r5</text></g><g class=\"toytree-TipLabel\" transform=\"translate(634.845,95.9685)\"><text x=\"10.0\" y=\"2.5549999999999997\" style=\"fill:rgb(14.5%,14.5%,14.5%);fill-opacity:1.0\">r2</text></g><g class=\"toytree-TipLabel\" transform=\"translate(634.845,57.9054)\"><text x=\"10.0\" y=\"2.5549999999999997\" style=\"fill:rgb(14.5%,14.5%,14.5%);fill-opacity:1.0\">r3</text></g></g></g></g><g class=\"toyplot-coordinates-Axis\" id=\"t9e15122357da4432a518e818d18c955d\" transform=\"translate(480.0,180.0)translate(0,10.0)\"><line x1=\"7.183536111830178\" y1=\"0\" x2=\"154.8451117438951\" y2=\"0\" style=\"\"></line><g><line x1=\"7.183536111830178\" y1=\"0\" x2=\"7.183536111830178\" y2=\"-5\" style=\"\"></line><line x1=\"81.01432392786263\" y1=\"0\" x2=\"81.01432392786263\" y2=\"-5\" style=\"\"></line><line x1=\"154.8451117438951\" y1=\"0\" x2=\"154.8451117438951\" y2=\"-5\" style=\"\"></line></g><g><g transform=\"translate(7.183536111830178,6)\"><text x=\"-2.78\" y=\"8.555\" style=\"fill:rgb(16.1%,15.3%,14.1%);fill-opacity:1.0;font-family:helvetica;font-size:10.0px;font-weight:normal;stroke:none;vertical-align:baseline;white-space:pre\">1</text></g><g transform=\"translate(81.01432392786263,6)\"><text x=\"-6.95\" y=\"8.555\" style=\"fill:rgb(16.1%,15.3%,14.1%);fill-opacity:1.0;font-family:helvetica;font-size:10.0px;font-weight:normal;stroke:none;vertical-align:baseline;white-space:pre\">0.5</text></g><g transform=\"translate(154.8451117438951,6)\"><text x=\"-2.78\" y=\"8.555\" style=\"fill:rgb(16.1%,15.3%,14.1%);fill-opacity:1.0;font-family:helvetica;font-size:10.0px;font-weight:normal;stroke:none;vertical-align:baseline;white-space:pre\">0</text></g></g><g class=\"toyplot-coordinates-Axis-coordinates\" style=\"visibility:hidden\" transform=\"\"><line x1=\"0\" x2=\"0\" y1=\"-3.0\" y2=\"4.5\" style=\"stroke:rgb(43.9%,50.2%,56.5%);stroke-opacity:1.0;stroke-width:1.0\"></line><text x=\"0\" y=\"-6\" style=\"alignment-baseline:alphabetic;fill:rgb(43.9%,50.2%,56.5%);fill-opacity:1.0;font-size:10px;font-weight:normal;stroke:none;text-anchor:middle\"></text></g></g></g></svg><div class=\"toyplot-behavior\"><script>(function()\n",
       "{\n",
       "var modules={};\n",
       "modules[\"toyplot/canvas/id\"] = \"teb176fe4f6d44317949ae2308233dbf4\";\n",
       "modules[\"toyplot/canvas\"] = (function(canvas_id)\n",
       "    {\n",
       "        return document.querySelector(\"#\" + canvas_id);\n",
       "    })(modules[\"toyplot/canvas/id\"]);\n",
       "modules[\"toyplot.coordinates.Axis\"] = (\n",
       "        function(canvas)\n",
       "        {\n",
       "            function sign(x)\n",
       "            {\n",
       "                return x < 0 ? -1 : x > 0 ? 1 : 0;\n",
       "            }\n",
       "\n",
       "            function mix(a, b, amount)\n",
       "            {\n",
       "                return ((1.0 - amount) * a) + (amount * b);\n",
       "            }\n",
       "\n",
       "            function log(x, base)\n",
       "            {\n",
       "                return Math.log(Math.abs(x)) / Math.log(base);\n",
       "            }\n",
       "\n",
       "            function in_range(a, x, b)\n",
       "            {\n",
       "                var left = Math.min(a, b);\n",
       "                var right = Math.max(a, b);\n",
       "                return left <= x && x <= right;\n",
       "            }\n",
       "\n",
       "            function inside(range, projection)\n",
       "            {\n",
       "                for(var i = 0; i != projection.length; ++i)\n",
       "                {\n",
       "                    var segment = projection[i];\n",
       "                    if(in_range(segment.range.min, range, segment.range.max))\n",
       "                        return true;\n",
       "                }\n",
       "                return false;\n",
       "            }\n",
       "\n",
       "            function to_domain(range, projection)\n",
       "            {\n",
       "                for(var i = 0; i != projection.length; ++i)\n",
       "                {\n",
       "                    var segment = projection[i];\n",
       "                    if(in_range(segment.range.bounds.min, range, segment.range.bounds.max))\n",
       "                    {\n",
       "                        if(segment.scale == \"linear\")\n",
       "                        {\n",
       "                            var amount = (range - segment.range.min) / (segment.range.max - segment.range.min);\n",
       "                            return mix(segment.domain.min, segment.domain.max, amount)\n",
       "                        }\n",
       "                        else if(segment.scale[0] == \"log\")\n",
       "                        {\n",
       "                            var amount = (range - segment.range.min) / (segment.range.max - segment.range.min);\n",
       "                            var base = segment.scale[1];\n",
       "                            return sign(segment.domain.min) * Math.pow(base, mix(log(segment.domain.min, base), log(segment.domain.max, base), amount));\n",
       "                        }\n",
       "                    }\n",
       "                }\n",
       "            }\n",
       "\n",
       "            var axes = {};\n",
       "\n",
       "            function display_coordinates(e)\n",
       "            {\n",
       "                var current = canvas.createSVGPoint();\n",
       "                current.x = e.clientX;\n",
       "                current.y = e.clientY;\n",
       "\n",
       "                for(var axis_id in axes)\n",
       "                {\n",
       "                    var axis = document.querySelector(\"#\" + axis_id);\n",
       "                    var coordinates = axis.querySelector(\".toyplot-coordinates-Axis-coordinates\");\n",
       "                    if(coordinates)\n",
       "                    {\n",
       "                        var projection = axes[axis_id];\n",
       "                        var local = current.matrixTransform(axis.getScreenCTM().inverse());\n",
       "                        if(inside(local.x, projection))\n",
       "                        {\n",
       "                            var domain = to_domain(local.x, projection);\n",
       "                            coordinates.style.visibility = \"visible\";\n",
       "                            coordinates.setAttribute(\"transform\", \"translate(\" + local.x + \")\");\n",
       "                            var text = coordinates.querySelector(\"text\");\n",
       "                            text.textContent = domain.toFixed(2);\n",
       "                        }\n",
       "                        else\n",
       "                        {\n",
       "                            coordinates.style.visibility= \"hidden\";\n",
       "                        }\n",
       "                    }\n",
       "                }\n",
       "            }\n",
       "\n",
       "            canvas.addEventListener(\"click\", display_coordinates);\n",
       "\n",
       "            var module = {};\n",
       "            module.show_coordinates = function(axis_id, projection)\n",
       "            {\n",
       "                axes[axis_id] = projection;\n",
       "            }\n",
       "\n",
       "            return module;\n",
       "        })(modules[\"toyplot/canvas\"]);\n",
       "(function(axis, axis_id, projection)\n",
       "        {\n",
       "            axis.show_coordinates(axis_id, projection);\n",
       "        })(modules[\"toyplot.coordinates.Axis\"],\"tc48253bde66e472c819e3e9dbcb53f08\",[{\"domain\": {\"bounds\": {\"max\": Infinity, \"min\": -Infinity}, \"max\": 0.20421621621621622, \"min\": -1.0486486486486486}, \"range\": {\"bounds\": {\"max\": Infinity, \"min\": -Infinity}, \"max\": 185.0, \"min\": 0.0}, \"scale\": \"linear\"}]);\n",
       "(function(axis, axis_id, projection)\n",
       "        {\n",
       "            axis.show_coordinates(axis_id, projection);\n",
       "        })(modules[\"toyplot.coordinates.Axis\"],\"t08e4a3e92eac4fb099b6d21759338184\",[{\"domain\": {\"bounds\": {\"max\": Infinity, \"min\": -Infinity}, \"max\": 0.068072072072072, \"min\": -0.34954954954954953}, \"range\": {\"bounds\": {\"max\": Infinity, \"min\": -Infinity}, \"max\": 185.0, \"min\": 0.0}, \"scale\": \"linear\"}]);\n",
       "(function(axis, axis_id, projection)\n",
       "        {\n",
       "            axis.show_coordinates(axis_id, projection);\n",
       "        })(modules[\"toyplot.coordinates.Axis\"],\"t9e15122357da4432a518e818d18c955d\",[{\"domain\": {\"bounds\": {\"max\": Infinity, \"min\": -Infinity}, \"max\": 0.204216216216216, \"min\": -1.0486486486486486}, \"range\": {\"bounds\": {\"max\": Infinity, \"min\": -Infinity}, \"max\": 185.0, \"min\": 0.0}, \"scale\": \"linear\"}]);\n",
       "})();</script></div></div>"
      ]
     },
     "metadata": {},
     "output_type": "display_data"
    }
   ],
   "source": [
    "sub1, sub2 = toytree.mod.bisect(tree, 6)\n",
    "toytree.mtree([tree, sub1, sub2]).draw(node_sizes=15, node_labels=\"idx\", scale_bar=True);"
   ]
  },
  {
   "cell_type": "markdown",
   "metadata": {},
   "source": [
    "## Tree-level modification"
   ]
  },
  {
   "cell_type": "markdown",
   "metadata": {},
   "source": [
    "### resolve_polytomies\n",
    "`resolve_polytomies()` can be used to randomly resolve polytomies in a tree. It accepts options to set defaults dist and support values on resolved nodes, and can accept a random seed for reproducible results."
   ]
  },
  {
   "cell_type": "code",
   "execution_count": 157,
   "metadata": {},
   "outputs": [
    {
     "data": {
      "text/html": [
       "<div class=\"toyplot\" id=\"tb544a7a369ed402eb7b0b99057d1c6a5\" style=\"text-align:center\"><svg class=\"toyplot-canvas-Canvas\" xmlns:toyplot=\"http://www.sandia.gov/toyplot\" xmlns:xlink=\"http://www.w3.org/1999/xlink\" xmlns=\"http://www.w3.org/2000/svg\" width=\"450.0px\" height=\"250.0px\" viewBox=\"0 0 450.0 250.0\" preserveAspectRatio=\"xMidYMid meet\" style=\"background-color:transparent;border-color:#292724;border-style:none;border-width:1.0;fill:rgb(16.1%,15.3%,14.1%);fill-opacity:1.0;font-family:Helvetica;font-size:12px;opacity:1.0;stroke:rgb(16.1%,15.3%,14.1%);stroke-opacity:1.0;stroke-width:1.0\" id=\"t8d5fd1c555f34b088dbb96366c84174c\"><g class=\"toyplot-coordinates-Cartesian\" id=\"t33d401538da74d239e41fa0739b6ede7\"><clipPath id=\"tf5ace0a3e5644daba74d16c9e303ef98\"><rect x=\"20.0\" y=\"40.0\" width=\"205.0\" height=\"170.0\"></rect></clipPath><g clip-path=\"url(#tf5ace0a3e5644daba74d16c9e303ef98)\"><g class=\"toytree-mark-Toytree\" id=\"t6cbe6343565c46dc9a0b02b36c016b3a\"><g class=\"toytree-Edges\" style=\"stroke:rgb(14.5%,14.5%,14.5%);stroke-opacity:1.0;stroke-linecap:round;stroke-width:2.0;fill:none\"><path d=\"M 86.4 151.8 L 86.4 192.0 L 184.8 192.0\" id=\"6,0\" style=\"\"></path><path d=\"M 86.4 151.8 L 86.4 165.2 L 184.8 165.2\" id=\"6,1\" style=\"\"></path><path d=\"M 86.4 151.8 L 86.4 138.4 L 184.8 138.4\" id=\"6,2\" style=\"\"></path><path d=\"M 86.4 151.8 L 86.4 111.6 L 184.8 111.6\" id=\"6,3\" style=\"\"></path><path d=\"M 86.4 71.4 L 86.4 84.8 L 184.8 84.8\" id=\"7,4\" style=\"\"></path><path d=\"M 86.4 71.4 L 86.4 58.0 L 184.8 58.0\" id=\"7,5\" style=\"\"></path><path d=\"M 37.2 111.6 L 37.2 151.8 L 86.4 151.8\" id=\"8,6\" style=\"\"></path><path d=\"M 37.2 111.6 L 37.2 71.4 L 86.4 71.4\" id=\"8,7\" style=\"\"></path></g><g class=\"toytree-AdmixEdges\" style=\"fill:rgb(0.0%,0.0%,0.0%);fill-opacity:0.0;stroke:rgb(90.6%,54.1%,76.5%);stroke-opacity:0.6;font-size:14px;stroke-linecap:round;stroke-width:5\"></g><g class=\"toytree-Nodes\" style=\"fill:rgb(40.0%,76.1%,64.7%);fill-opacity:1.0;stroke:rgb(14.9%,14.9%,14.9%);stroke-opacity:1.0;stroke-width:1.5\"><g id=\"Node-6\" transform=\"translate(86.4041,151.786)\"><circle r=\"7.5\"></circle></g><g id=\"Node-7\" transform=\"translate(86.4041,71.4286)\"><circle r=\"7.5\"></circle></g><g id=\"Node-8\" transform=\"translate(37.1835,111.607)\"><circle r=\"7.5\"></circle></g></g><g class=\"toytree-NodeLabels\" style=\"font-family:Helvetica;font-size:9px;font-weight:300;vertical-align:baseline;white-space:pre;stroke:none\"><g class=\"toytree-NodeLabel\" transform=\"translate(86.4041,151.786)\"><text x=\"-2.5020000000000002\" y=\"2.2995\" style=\"fill:rgb(14.5%,14.5%,14.5%);fill-opacity:1.0\">6</text></g><g class=\"toytree-NodeLabel\" transform=\"translate(86.4041,71.4286)\"><text x=\"-2.5020000000000002\" y=\"2.2995\" style=\"fill:rgb(14.5%,14.5%,14.5%);fill-opacity:1.0\">7</text></g><g class=\"toytree-NodeLabel\" transform=\"translate(37.1835,111.607)\"><text x=\"-2.5020000000000002\" y=\"2.2995\" style=\"fill:rgb(14.5%,14.5%,14.5%);fill-opacity:1.0\">8</text></g></g><g class=\"toytree-TipLabels\" style=\"fill:rgb(14.5%,14.5%,14.5%);fill-opacity:1.0;font-family:Helvetica;font-size:10px;font-weight:300;vertical-align:baseline;white-space:pre;stroke:none\"><g class=\"toytree-TipLabel\" transform=\"translate(184.845,191.964)\"><text x=\"10.0\" y=\"2.5549999999999997\" style=\"fill:rgb(14.5%,14.5%,14.5%);fill-opacity:1.0\">r0</text></g><g class=\"toytree-TipLabel\" transform=\"translate(184.845,165.179)\"><text x=\"10.0\" y=\"2.5549999999999997\" style=\"fill:rgb(14.5%,14.5%,14.5%);fill-opacity:1.0\">r1</text></g><g class=\"toytree-TipLabel\" transform=\"translate(184.845,138.393)\"><text x=\"10.0\" y=\"2.5549999999999997\" style=\"fill:rgb(14.5%,14.5%,14.5%);fill-opacity:1.0\">r2</text></g><g class=\"toytree-TipLabel\" transform=\"translate(184.845,111.607)\"><text x=\"10.0\" y=\"2.5549999999999997\" style=\"fill:rgb(14.5%,14.5%,14.5%);fill-opacity:1.0\">r3</text></g><g class=\"toytree-TipLabel\" transform=\"translate(184.845,84.8214)\"><text x=\"10.0\" y=\"2.5549999999999997\" style=\"fill:rgb(14.5%,14.5%,14.5%);fill-opacity:1.0\">r4</text></g><g class=\"toytree-TipLabel\" transform=\"translate(184.845,58.0357)\"><text x=\"10.0\" y=\"2.5549999999999997\" style=\"fill:rgb(14.5%,14.5%,14.5%);fill-opacity:1.0\">r5</text></g></g></g></g></g><g class=\"toyplot-coordinates-Cartesian\" id=\"te66a8a7cb30445a79095a2aae3cf3598\"><clipPath id=\"t413ba7b4fb284924859b23e398424ed1\"><rect x=\"245.0\" y=\"40.0\" width=\"205.0\" height=\"170.0\"></rect></clipPath><g clip-path=\"url(#t413ba7b4fb284924859b23e398424ed1)\"><g class=\"toytree-mark-Toytree\" id=\"t4c88a92f1ada472b8557f097da8f8dc1\"><g class=\"toytree-Edges\" style=\"stroke:rgb(14.5%,14.5%,14.5%);stroke-opacity:1.0;stroke-linecap:round;stroke-width:2.0;fill:none\"><path d=\"M 303.2 168.5 L 303.2 192.0 L 385.2 192.0\" id=\"8,0\" style=\"\"></path><path d=\"M 315.5 145.1 L 315.5 165.2 L 397.5 165.2\" id=\"7,1\" style=\"\"></path><path d=\"M 327.8 125.0 L 327.8 138.4 L 409.8 138.4\" id=\"6,2\" style=\"\"></path><path d=\"M 327.8 125.0 L 327.8 111.6 L 409.8 111.6\" id=\"6,3\" style=\"\"></path><path d=\"M 303.2 71.4 L 303.2 84.8 L 385.2 84.8\" id=\"9,4\" style=\"\"></path><path d=\"M 303.2 71.4 L 303.2 58.0 L 385.2 58.0\" id=\"9,5\" style=\"\"></path><path d=\"M 315.5 145.1 L 315.5 125.0 L 327.8 125.0\" id=\"7,6\" style=\"\"></path><path d=\"M 303.2 168.5 L 303.2 145.1 L 315.5 145.1\" id=\"8,7\" style=\"\"></path><path d=\"M 262.2 120.0 L 262.2 168.5 L 303.2 168.5\" id=\"10,8\" style=\"\"></path><path d=\"M 262.2 120.0 L 262.2 71.4 L 303.2 71.4\" id=\"10,9\" style=\"\"></path></g><g class=\"toytree-AdmixEdges\" style=\"fill:rgb(0.0%,0.0%,0.0%);fill-opacity:0.0;stroke:rgb(90.6%,54.1%,76.5%);stroke-opacity:0.6;font-size:14px;stroke-linecap:round;stroke-width:5\"></g><g class=\"toytree-Nodes\" style=\"fill:rgb(40.0%,76.1%,64.7%);fill-opacity:1.0;stroke:rgb(14.9%,14.9%,14.9%);stroke-opacity:1.0;stroke-width:1.5\"><g id=\"Node-6\" transform=\"translate(327.811,125)\"><circle r=\"7.5\"></circle></g><g id=\"Node-7\" transform=\"translate(315.506,145.089)\"><circle r=\"7.5\"></circle></g><g id=\"Node-8\" transform=\"translate(303.201,168.527)\"><circle r=\"7.5\"></circle></g><g id=\"Node-9\" transform=\"translate(303.201,71.4286)\"><circle r=\"7.5\"></circle></g><g id=\"Node-10\" transform=\"translate(262.184,119.978)\"><circle r=\"7.5\"></circle></g></g><g class=\"toytree-NodeLabels\" style=\"font-family:Helvetica;font-size:9px;font-weight:300;vertical-align:baseline;white-space:pre;stroke:none\"><g class=\"toytree-NodeLabel\" transform=\"translate(327.811,125)\"><text x=\"-2.5020000000000002\" y=\"2.2995\" style=\"fill:rgb(14.5%,14.5%,14.5%);fill-opacity:1.0\">6</text></g><g class=\"toytree-NodeLabel\" transform=\"translate(315.506,145.089)\"><text x=\"-2.5020000000000002\" y=\"2.2995\" style=\"fill:rgb(14.5%,14.5%,14.5%);fill-opacity:1.0\">7</text></g><g class=\"toytree-NodeLabel\" transform=\"translate(303.201,168.527)\"><text x=\"-2.5020000000000002\" y=\"2.2995\" style=\"fill:rgb(14.5%,14.5%,14.5%);fill-opacity:1.0\">8</text></g><g class=\"toytree-NodeLabel\" transform=\"translate(303.201,71.4286)\"><text x=\"-2.5020000000000002\" y=\"2.2995\" style=\"fill:rgb(14.5%,14.5%,14.5%);fill-opacity:1.0\">9</text></g><g class=\"toytree-NodeLabel\" transform=\"translate(262.184,119.978)\"><text x=\"-5.0040000000000004\" y=\"2.2995\" style=\"fill:rgb(14.5%,14.5%,14.5%);fill-opacity:1.0\">10</text></g></g><g class=\"toytree-TipLabels\" style=\"fill:rgb(14.5%,14.5%,14.5%);fill-opacity:1.0;font-family:Helvetica;font-size:10px;font-weight:300;vertical-align:baseline;white-space:pre;stroke:none\"><g class=\"toytree-TipLabel\" transform=\"translate(385.235,191.964)\"><text x=\"10.0\" y=\"2.5549999999999997\" style=\"fill:rgb(14.5%,14.5%,14.5%);fill-opacity:1.0\">r0</text></g><g class=\"toytree-TipLabel\" transform=\"translate(397.54,165.179)\"><text x=\"10.0\" y=\"2.5549999999999997\" style=\"fill:rgb(14.5%,14.5%,14.5%);fill-opacity:1.0\">r1</text></g><g class=\"toytree-TipLabel\" transform=\"translate(409.845,138.393)\"><text x=\"10.0\" y=\"2.5549999999999997\" style=\"fill:rgb(14.5%,14.5%,14.5%);fill-opacity:1.0\">r2</text></g><g class=\"toytree-TipLabel\" transform=\"translate(409.845,111.607)\"><text x=\"10.0\" y=\"2.5549999999999997\" style=\"fill:rgb(14.5%,14.5%,14.5%);fill-opacity:1.0\">r3</text></g><g class=\"toytree-TipLabel\" transform=\"translate(385.235,84.8214)\"><text x=\"10.0\" y=\"2.5549999999999997\" style=\"fill:rgb(14.5%,14.5%,14.5%);fill-opacity:1.0\">r4</text></g><g class=\"toytree-TipLabel\" transform=\"translate(385.235,58.0357)\"><text x=\"10.0\" y=\"2.5549999999999997\" style=\"fill:rgb(14.5%,14.5%,14.5%);fill-opacity:1.0\">r5</text></g></g></g></g></g></svg><div class=\"toyplot-behavior\"><script>(function()\n",
       "{\n",
       "var modules={};\n",
       "})();</script></div></div>"
      ]
     },
     "metadata": {},
     "output_type": "display_data"
    }
   ],
   "source": [
    "mod_tree1 = toytree.mod.collapse_nodes(tree, 7, 6)\n",
    "mod_tree2 = toytree.mod.resolve_polytomies(mod_tree1, dist=0.1)\n",
    "toytree.mtree([mod_tree1, mod_tree2]).draw(node_sizes=15, node_labels=\"idx\");"
   ]
  },
  {
   "cell_type": "markdown",
   "metadata": {},
   "source": [
    "### ladderize\n",
    "`ladderize()` formats a tree such that a Node's right/lower child always has _more_ descendants than its left/upper child. The user can also choose to order it in reverse order such that the left/upper child has more descendants by using the argument `direction=True`."
   ]
  },
  {
   "cell_type": "code",
   "execution_count": 105,
   "metadata": {},
   "outputs": [
    {
     "data": {
      "text/html": [
       "<div class=\"toyplot\" id=\"te56713acdccb4a47b2356a4df3b4c6bf\" style=\"text-align:center\"><svg class=\"toyplot-canvas-Canvas\" xmlns:toyplot=\"http://www.sandia.gov/toyplot\" xmlns:xlink=\"http://www.w3.org/1999/xlink\" xmlns=\"http://www.w3.org/2000/svg\" width=\"450.0px\" height=\"250.0px\" viewBox=\"0 0 450.0 250.0\" preserveAspectRatio=\"xMidYMid meet\" style=\"background-color:transparent;border-color:#292724;border-style:none;border-width:1.0;fill:rgb(16.1%,15.3%,14.1%);fill-opacity:1.0;font-family:Helvetica;font-size:12px;opacity:1.0;stroke:rgb(16.1%,15.3%,14.1%);stroke-opacity:1.0;stroke-width:1.0\" id=\"tf8417164e77b4782b54b0758e8ad4c55\"><g class=\"toyplot-coordinates-Cartesian\" id=\"t292e4524e7b64e6393389b2b185cee64\"><clipPath id=\"tcb426db472bf45c191029ef25b7dfc5c\"><rect x=\"20.0\" y=\"40.0\" width=\"205.0\" height=\"170.0\"></rect></clipPath><g clip-path=\"url(#tcb426db472bf45c191029ef25b7dfc5c)\"><g class=\"toytree-mark-Toytree\" id=\"t08ac33ed7d0f4d7babafdee0880a526f\"><g class=\"toytree-Edges\" style=\"stroke:rgb(14.5%,14.5%,14.5%);stroke-opacity:1.0;stroke-linecap:round;stroke-width:2.0;fill:none\"><path d=\"M 135.6 178.6 L 135.6 192.0 L 184.8 192.0\" id=\"6,0\" style=\"\"></path><path d=\"M 135.6 178.6 L 135.6 165.2 L 184.8 165.2\" id=\"6,1\" style=\"\"></path><path d=\"M 135.6 125.0 L 135.6 138.4 L 184.8 138.4\" id=\"7,2\" style=\"\"></path><path d=\"M 135.6 125.0 L 135.6 111.6 L 184.8 111.6\" id=\"7,3\" style=\"\"></path><path d=\"M 86.4 71.4 L 86.4 84.8 L 184.8 84.8\" id=\"9,4\" style=\"\"></path><path d=\"M 86.4 71.4 L 86.4 58.0 L 184.8 58.0\" id=\"9,5\" style=\"\"></path><path d=\"M 86.4 151.8 L 86.4 178.6 L 135.6 178.6\" id=\"8,6\" style=\"\"></path><path d=\"M 86.4 151.8 L 86.4 125.0 L 135.6 125.0\" id=\"8,7\" style=\"\"></path><path d=\"M 37.2 111.6 L 37.2 151.8 L 86.4 151.8\" id=\"10,8\" style=\"\"></path><path d=\"M 37.2 111.6 L 37.2 71.4 L 86.4 71.4\" id=\"10,9\" style=\"\"></path></g><g class=\"toytree-AdmixEdges\" style=\"fill:rgb(0.0%,0.0%,0.0%);fill-opacity:0.0;stroke:rgb(90.6%,54.1%,76.5%);stroke-opacity:0.6;font-size:14px;stroke-linecap:round;stroke-width:5\"></g><g class=\"toytree-Nodes\" style=\"fill:rgb(40.0%,76.1%,64.7%);fill-opacity:1.0;stroke:rgb(14.9%,14.9%,14.9%);stroke-opacity:1.0;stroke-width:1.5\"><g id=\"Node-6\" transform=\"translate(135.625,178.571)\"><circle r=\"7.5\"></circle></g><g id=\"Node-7\" transform=\"translate(135.625,125)\"><circle r=\"7.5\"></circle></g><g id=\"Node-8\" transform=\"translate(86.4041,151.786)\"><circle r=\"7.5\"></circle></g><g id=\"Node-9\" transform=\"translate(86.4041,71.4286)\"><circle r=\"7.5\"></circle></g><g id=\"Node-10\" transform=\"translate(37.1835,111.607)\"><circle r=\"7.5\"></circle></g></g><g class=\"toytree-NodeLabels\" style=\"font-family:Helvetica;font-size:9px;font-weight:300;vertical-align:baseline;white-space:pre;stroke:none\"><g class=\"toytree-NodeLabel\" transform=\"translate(135.625,178.571)\"><text x=\"-2.5020000000000002\" y=\"2.2995\" style=\"fill:rgb(14.5%,14.5%,14.5%);fill-opacity:1.0\">6</text></g><g class=\"toytree-NodeLabel\" transform=\"translate(135.625,125)\"><text x=\"-2.5020000000000002\" y=\"2.2995\" style=\"fill:rgb(14.5%,14.5%,14.5%);fill-opacity:1.0\">7</text></g><g class=\"toytree-NodeLabel\" transform=\"translate(86.4041,151.786)\"><text x=\"-2.5020000000000002\" y=\"2.2995\" style=\"fill:rgb(14.5%,14.5%,14.5%);fill-opacity:1.0\">8</text></g><g class=\"toytree-NodeLabel\" transform=\"translate(86.4041,71.4286)\"><text x=\"-2.5020000000000002\" y=\"2.2995\" style=\"fill:rgb(14.5%,14.5%,14.5%);fill-opacity:1.0\">9</text></g><g class=\"toytree-NodeLabel\" transform=\"translate(37.1835,111.607)\"><text x=\"-5.0040000000000004\" y=\"2.2995\" style=\"fill:rgb(14.5%,14.5%,14.5%);fill-opacity:1.0\">10</text></g></g><g class=\"toytree-TipLabels\" style=\"fill:rgb(14.5%,14.5%,14.5%);fill-opacity:1.0;font-family:Helvetica;font-size:10px;font-weight:300;vertical-align:baseline;white-space:pre;stroke:none\"><g class=\"toytree-TipLabel\" transform=\"translate(184.845,191.964)\"><text x=\"10.0\" y=\"2.5549999999999997\" style=\"fill:rgb(14.5%,14.5%,14.5%);fill-opacity:1.0\">r0</text></g><g class=\"toytree-TipLabel\" transform=\"translate(184.845,165.179)\"><text x=\"10.0\" y=\"2.5549999999999997\" style=\"fill:rgb(14.5%,14.5%,14.5%);fill-opacity:1.0\">r1</text></g><g class=\"toytree-TipLabel\" transform=\"translate(184.845,138.393)\"><text x=\"10.0\" y=\"2.5549999999999997\" style=\"fill:rgb(14.5%,14.5%,14.5%);fill-opacity:1.0\">r2</text></g><g class=\"toytree-TipLabel\" transform=\"translate(184.845,111.607)\"><text x=\"10.0\" y=\"2.5549999999999997\" style=\"fill:rgb(14.5%,14.5%,14.5%);fill-opacity:1.0\">r3</text></g><g class=\"toytree-TipLabel\" transform=\"translate(184.845,84.8214)\"><text x=\"10.0\" y=\"2.5549999999999997\" style=\"fill:rgb(14.5%,14.5%,14.5%);fill-opacity:1.0\">r4</text></g><g class=\"toytree-TipLabel\" transform=\"translate(184.845,58.0357)\"><text x=\"10.0\" y=\"2.5549999999999997\" style=\"fill:rgb(14.5%,14.5%,14.5%);fill-opacity:1.0\">r5</text></g></g></g></g></g><g class=\"toyplot-coordinates-Cartesian\" id=\"te4a30ddc9a2243d3ad22d358ca027229\"><clipPath id=\"t1b0c3eee87814d519aa3b38ff1153b39\"><rect x=\"245.0\" y=\"40.0\" width=\"205.0\" height=\"170.0\"></rect></clipPath><g clip-path=\"url(#t1b0c3eee87814d519aa3b38ff1153b39)\"><g class=\"toytree-mark-Toytree\" id=\"tf38fe5a829cd49c087ec4bb0749772fa\"><g class=\"toytree-Edges\" style=\"stroke:rgb(14.5%,14.5%,14.5%);stroke-opacity:1.0;stroke-linecap:round;stroke-width:2.0;fill:none\"><path d=\"M 311.4 178.6 L 311.4 192.0 L 409.8 192.0\" id=\"6,0\" style=\"\"></path><path d=\"M 311.4 178.6 L 311.4 165.2 L 409.8 165.2\" id=\"6,1\" style=\"\"></path><path d=\"M 360.6 125.0 L 360.6 138.4 L 409.8 138.4\" id=\"7,2\" style=\"\"></path><path d=\"M 360.6 125.0 L 360.6 111.6 L 409.8 111.6\" id=\"7,3\" style=\"\"></path><path d=\"M 360.6 71.4 L 360.6 84.8 L 409.8 84.8\" id=\"8,4\" style=\"\"></path><path d=\"M 360.6 71.4 L 360.6 58.0 L 409.8 58.0\" id=\"8,5\" style=\"\"></path><path d=\"M 262.2 138.4 L 262.2 178.6 L 311.4 178.6\" id=\"10,6\" style=\"\"></path><path d=\"M 311.4 98.2 L 311.4 125.0 L 360.6 125.0\" id=\"9,7\" style=\"\"></path><path d=\"M 311.4 98.2 L 311.4 71.4 L 360.6 71.4\" id=\"9,8\" style=\"\"></path><path d=\"M 262.2 138.4 L 262.2 98.2 L 311.4 98.2\" id=\"10,9\" style=\"\"></path></g><g class=\"toytree-AdmixEdges\" style=\"fill:rgb(0.0%,0.0%,0.0%);fill-opacity:0.0;stroke:rgb(90.6%,54.1%,76.5%);stroke-opacity:0.6;font-size:14px;stroke-linecap:round;stroke-width:5\"></g><g class=\"toytree-Nodes\" style=\"fill:rgb(40.0%,76.1%,64.7%);fill-opacity:1.0;stroke:rgb(14.9%,14.9%,14.9%);stroke-opacity:1.0;stroke-width:1.5\"><g id=\"Node-6\" transform=\"translate(311.404,178.571)\"><circle r=\"7.5\"></circle></g><g id=\"Node-7\" transform=\"translate(360.625,125)\"><circle r=\"7.5\"></circle></g><g id=\"Node-8\" transform=\"translate(360.625,71.4286)\"><circle r=\"7.5\"></circle></g><g id=\"Node-9\" transform=\"translate(311.404,98.2143)\"><circle r=\"7.5\"></circle></g><g id=\"Node-10\" transform=\"translate(262.184,138.393)\"><circle r=\"7.5\"></circle></g></g><g class=\"toytree-NodeLabels\" style=\"font-family:Helvetica;font-size:9px;font-weight:300;vertical-align:baseline;white-space:pre;stroke:none\"><g class=\"toytree-NodeLabel\" transform=\"translate(311.404,178.571)\"><text x=\"-2.5020000000000002\" y=\"2.2995\" style=\"fill:rgb(14.5%,14.5%,14.5%);fill-opacity:1.0\">6</text></g><g class=\"toytree-NodeLabel\" transform=\"translate(360.625,125)\"><text x=\"-2.5020000000000002\" y=\"2.2995\" style=\"fill:rgb(14.5%,14.5%,14.5%);fill-opacity:1.0\">7</text></g><g class=\"toytree-NodeLabel\" transform=\"translate(360.625,71.4286)\"><text x=\"-2.5020000000000002\" y=\"2.2995\" style=\"fill:rgb(14.5%,14.5%,14.5%);fill-opacity:1.0\">8</text></g><g class=\"toytree-NodeLabel\" transform=\"translate(311.404,98.2143)\"><text x=\"-2.5020000000000002\" y=\"2.2995\" style=\"fill:rgb(14.5%,14.5%,14.5%);fill-opacity:1.0\">9</text></g><g class=\"toytree-NodeLabel\" transform=\"translate(262.184,138.393)\"><text x=\"-5.0040000000000004\" y=\"2.2995\" style=\"fill:rgb(14.5%,14.5%,14.5%);fill-opacity:1.0\">10</text></g></g><g class=\"toytree-TipLabels\" style=\"fill:rgb(14.5%,14.5%,14.5%);fill-opacity:1.0;font-family:Helvetica;font-size:10px;font-weight:300;vertical-align:baseline;white-space:pre;stroke:none\"><g class=\"toytree-TipLabel\" transform=\"translate(409.845,191.964)\"><text x=\"10.0\" y=\"2.5549999999999997\" style=\"fill:rgb(14.5%,14.5%,14.5%);fill-opacity:1.0\">r4</text></g><g class=\"toytree-TipLabel\" transform=\"translate(409.845,165.179)\"><text x=\"10.0\" y=\"2.5549999999999997\" style=\"fill:rgb(14.5%,14.5%,14.5%);fill-opacity:1.0\">r5</text></g><g class=\"toytree-TipLabel\" transform=\"translate(409.845,138.393)\"><text x=\"10.0\" y=\"2.5549999999999997\" style=\"fill:rgb(14.5%,14.5%,14.5%);fill-opacity:1.0\">r0</text></g><g class=\"toytree-TipLabel\" transform=\"translate(409.845,111.607)\"><text x=\"10.0\" y=\"2.5549999999999997\" style=\"fill:rgb(14.5%,14.5%,14.5%);fill-opacity:1.0\">r1</text></g><g class=\"toytree-TipLabel\" transform=\"translate(409.845,84.8214)\"><text x=\"10.0\" y=\"2.5549999999999997\" style=\"fill:rgb(14.5%,14.5%,14.5%);fill-opacity:1.0\">r2</text></g><g class=\"toytree-TipLabel\" transform=\"translate(409.845,58.0357)\"><text x=\"10.0\" y=\"2.5549999999999997\" style=\"fill:rgb(14.5%,14.5%,14.5%);fill-opacity:1.0\">r3</text></g></g></g></g></g></svg><div class=\"toyplot-behavior\"><script>(function()\n",
       "{\n",
       "var modules={};\n",
       "})();</script></div></div>"
      ]
     },
     "metadata": {},
     "output_type": "display_data"
    }
   ],
   "source": [
    "mod_tree = toytree.mod.ladderize(tree, direction=False)\n",
    "toytree.mtree([tree, mod_tree]).draw(node_sizes=15, node_labels=\"idx\");"
   ]
  },
  {
   "cell_type": "markdown",
   "metadata": {},
   "source": [
    "### Rooting/Unrooting\n",
    "Several methods are available for rooting trees. Please see the separate rooting trees documentation page."
   ]
  },
  {
   "cell_type": "code",
   "execution_count": null,
   "metadata": {},
   "outputs": [],
   "source": []
  }
 ],
 "metadata": {
  "kernelspec": {
   "display_name": "Python 3 (ipykernel)",
   "language": "python",
   "name": "python3"
  },
  "language_info": {
   "codemirror_mode": {
    "name": "ipython",
    "version": 3
   },
   "file_extension": ".py",
   "mimetype": "text/x-python",
   "name": "python",
   "nbconvert_exporter": "python",
   "pygments_lexer": "ipython3",
   "version": "3.12.4"
  }
 },
 "nbformat": 4,
 "nbformat_minor": 4
}
