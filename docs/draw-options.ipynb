{
 "cells": [
  {
   "cell_type": "markdown",
   "metadata": {},
   "source": [
    "# toytree drawings options\n",
    "\n",
    "The number of styling options available in `toytree` is enormous and will continue to grow as development on the project continues. If you have a specific styling option that does not appear to be supported please raise a issue on GitHub and we can discuss adding support for it. Below I try to demonstrate the options and usage of each styling option with at least one example. "
   ]
  },
  {
   "cell_type": "code",
   "execution_count": 6,
   "metadata": {},
   "outputs": [],
   "source": [
    "import toytree\n",
    "import toyplot\n",
    "import numpy as np\n",
    "\n",
    "# a tree to use for examples\n",
    "url = \"https://eaton-lab.org/data/Cyathophora.tre\"\n",
    "rtre = toytree.tree(url).root(\"~prz\") # rooted on outgroup clade"
   ]
  },
  {
   "cell_type": "markdown",
   "metadata": {},
   "source": [
    "### Tip label styling"
   ]
  },
  {
   "cell_type": "markdown",
   "metadata": {},
   "source": [
    "#### tip_labels\n",
    "**Type:** boolean or list[str]  \n",
    "**Allowed:** True, False, or list of str names (length ntips)  \n",
    "**Default:** True  \n",
    "**Description:** Shows or hides tip labels (boolean), or replaces tip labels with a user defined list. "
   ]
  },
  {
   "cell_type": "code",
   "execution_count": 7,
   "metadata": {},
   "outputs": [
    {
     "data": {
      "text/html": [
       "<div class=\"toyplot\" id=\"t01a84a8da0454e439a2bbe95de540832\" style=\"text-align:center\"><svg class=\"toyplot-canvas-Canvas\" xmlns:toyplot=\"http://www.sandia.gov/toyplot\" xmlns:xlink=\"http://www.w3.org/1999/xlink\" xmlns=\"http://www.w3.org/2000/svg\" width=\"300.0px\" height=\"275.0px\" viewBox=\"0 0 300.0 275.0\" preserveAspectRatio=\"xMidYMid meet\" style=\"background-color:transparent;border-color:#292724;border-style:none;border-width:1.0;fill:rgb(16.1%,15.3%,14.1%);fill-opacity:1.0;font-family:Helvetica;font-size:12px;opacity:1.0;stroke:rgb(16.1%,15.3%,14.1%);stroke-opacity:1.0;stroke-width:1.0\" id=\"tafa642a4be864840ac5ec93df89fe1ae\"><g class=\"toyplot-coordinates-Cartesian\" id=\"t14335f9d22374ffbba37fe9e28531d9b\"><clipPath id=\"tba16c42950ff43a98bb2c5a478d3430f\"><rect x=\"35.0\" y=\"35.0\" width=\"230.0\" height=\"205.0\"></rect></clipPath><g clip-path=\"url(#tba16c42950ff43a98bb2c5a478d3430f)\"><g class=\"toytree-mark-Toytree\" id=\"t38afa0f850ca4c719b5d2f61fb228ff6\"><g class=\"toytree-Edges\" style=\"stroke:rgb(14.5%,14.5%,14.5%);stroke-opacity:1.0;stroke-linecap:round;stroke-width:2.0;fill:none\"><path d=\"M 158.1 216.8 L 158.1 224.0 L 173.6 224.0\" id=\"13,0\" style=\"\"></path><path d=\"M 158.1 216.8 L 158.1 209.6 L 172.9 209.6\" id=\"13,1\" style=\"\"></path><path d=\"M 190.3 178.5 L 190.3 195.2 L 224.1 195.2\" id=\"19,2\" style=\"\"></path><path d=\"M 196.5 161.8 L 196.5 180.8 L 235.5 180.8\" id=\"18,3\" style=\"\"></path><path d=\"M 214.5 159.1 L 214.5 166.3 L 234.5 166.3\" id=\"14,4\" style=\"\"></path><path d=\"M 214.5 159.1 L 214.5 151.9 L 234.8 151.9\" id=\"14,5\" style=\"\"></path><path d=\"M 205.6 126.7 L 205.6 137.5 L 240.3 137.5\" id=\"16,6\" style=\"\"></path><path d=\"M 242.5 115.9 L 242.5 123.1 L 248.2 123.1\" id=\"15,7\" style=\"\"></path><path d=\"M 242.5 115.9 L 242.5 108.7 L 249.0 108.7\" id=\"15,8\" style=\"\"></path><path d=\"M 190.1 87.0 L 190.1 94.2 L 228.0 94.2\" id=\"20,9\" style=\"\"></path><path d=\"M 190.1 87.0 L 190.1 79.8 L 230.2 79.8\" id=\"20,10\" style=\"\"></path><path d=\"M 232.1 58.2 L 232.1 65.4 L 232.7 65.4\" id=\"21,11\" style=\"\"></path><path d=\"M 232.1 58.2 L 232.1 51.0 L 232.5 51.0\" id=\"21,12\" style=\"\"></path><path d=\"M 51.0 171.2 L 51.0 216.8 L 158.1 216.8\" id=\"24,13\" style=\"\"></path><path d=\"M 201.2 142.9 L 201.2 159.1 L 214.5 159.1\" id=\"17,14\" style=\"\"></path><path d=\"M 205.6 126.7 L 205.6 115.9 L 242.5 115.9\" id=\"16,15\" style=\"\"></path><path d=\"M 201.2 142.9 L 201.2 126.7 L 205.6 126.7\" id=\"17,16\" style=\"\"></path><path d=\"M 196.5 161.8 L 196.5 142.9 L 201.2 142.9\" id=\"18,17\" style=\"\"></path><path d=\"M 190.3 178.5 L 190.3 161.8 L 196.5 161.8\" id=\"19,18\" style=\"\"></path><path d=\"M 158.1 125.6 L 158.1 178.5 L 190.3 178.5\" id=\"23,19\" style=\"\"></path><path d=\"M 175.9 72.6 L 175.9 87.0 L 190.1 87.0\" id=\"22,20\" style=\"\"></path><path d=\"M 175.9 72.6 L 175.9 58.2 L 232.1 58.2\" id=\"22,21\" style=\"\"></path><path d=\"M 158.1 125.6 L 158.1 72.6 L 175.9 72.6\" id=\"23,22\" style=\"\"></path><path d=\"M 51.0 171.2 L 51.0 125.6 L 158.1 125.6\" id=\"24,23\" style=\"\"></path></g><g class=\"toytree-AdmixEdges\" style=\"fill:rgb(0.0%,0.0%,0.0%);fill-opacity:0.0;stroke:rgb(90.6%,54.1%,76.5%);stroke-opacity:0.6;font-size:14px;stroke-linecap:round;stroke-width:5\"></g><g class=\"toytree-Nodes\" style=\"fill:rgb(40.0%,76.1%,64.7%);fill-opacity:1.0;stroke:rgb(14.9%,14.9%,14.9%);stroke-opacity:1.0;stroke-width:1.5\"></g></g></g></g></svg><div class=\"toyplot-behavior\"><script>(function()\n",
       "{\n",
       "var modules={};\n",
       "})();</script></div></div>"
      ]
     },
     "metadata": {},
     "output_type": "display_data"
    }
   ],
   "source": [
    "# hide tip labels\n",
    "rtre.draw(tip_labels=False);"
   ]
  },
  {
   "cell_type": "code",
   "execution_count": 8,
   "metadata": {},
   "outputs": [
    {
     "data": {
      "text/html": [
       "<div class=\"toyplot\" id=\"t580c8d66f69a4ac9b9f648b5f322ccdd\" style=\"text-align:center\"><svg class=\"toyplot-canvas-Canvas\" xmlns:toyplot=\"http://www.sandia.gov/toyplot\" xmlns:xlink=\"http://www.w3.org/1999/xlink\" xmlns=\"http://www.w3.org/2000/svg\" width=\"474.80800000000005px\" height=\"315.28px\" viewBox=\"0 0 474.80800000000005 315.28\" preserveAspectRatio=\"xMidYMid meet\" style=\"background-color:transparent;border-color:#292724;border-style:none;border-width:1.0;fill:rgb(16.1%,15.3%,14.1%);fill-opacity:1.0;font-family:Helvetica;font-size:12px;opacity:1.0;stroke:rgb(16.1%,15.3%,14.1%);stroke-opacity:1.0;stroke-width:1.0\" id=\"teddb4247637b4f789f8cfed3f553ac1a\"><g class=\"toyplot-coordinates-Cartesian\" id=\"tef2c7f1705ac48d5a4ec35a8c505c994\"><clipPath id=\"t2370f6dcbe7f44a38fe52be1f151d212\"><rect x=\"35.0\" y=\"35.0\" width=\"404.80800000000005\" height=\"245.27999999999997\"></rect></clipPath><g clip-path=\"url(#t2370f6dcbe7f44a38fe52be1f151d212)\"><g class=\"toytree-mark-Toytree\" id=\"t13117b98e1ff43c8a316d4f190fe24e3\"><g class=\"toytree-Edges\" style=\"stroke:rgb(14.5%,14.5%,14.5%);stroke-opacity:1.0;stroke-linecap:round;stroke-width:2.0;fill:none\"><path d=\"M 166.9 250.1 L 166.9 258.5 L 183.7 258.5\" id=\"13,0\" style=\"\"></path><path d=\"M 166.9 250.1 L 166.9 241.7 L 182.9 241.7\" id=\"13,1\" style=\"\"></path><path d=\"M 201.8 205.5 L 201.8 224.9 L 238.4 224.9\" id=\"19,2\" style=\"\"></path><path d=\"M 208.5 186.0 L 208.5 208.1 L 250.8 208.1\" id=\"18,3\" style=\"\"></path><path d=\"M 228.0 182.9 L 228.0 191.3 L 249.8 191.3\" id=\"14,4\" style=\"\"></path><path d=\"M 228.0 182.9 L 228.0 174.5 L 250.1 174.5\" id=\"14,5\" style=\"\"></path><path d=\"M 218.4 145.0 L 218.4 157.6 L 256.0 157.6\" id=\"16,6\" style=\"\"></path><path d=\"M 258.4 132.4 L 258.4 140.8 L 264.6 140.8\" id=\"15,7\" style=\"\"></path><path d=\"M 258.4 132.4 L 258.4 124.0 L 265.5 124.0\" id=\"15,8\" style=\"\"></path><path d=\"M 201.6 98.8 L 201.6 107.2 L 242.7 107.2\" id=\"20,9\" style=\"\"></path><path d=\"M 201.6 98.8 L 201.6 90.4 L 245.0 90.4\" id=\"20,10\" style=\"\"></path><path d=\"M 247.2 65.2 L 247.2 73.6 L 247.7 73.6\" id=\"21,11\" style=\"\"></path><path d=\"M 247.2 65.2 L 247.2 56.7 L 247.5 56.7\" id=\"21,12\" style=\"\"></path><path d=\"M 50.6 196.9 L 50.6 250.1 L 166.9 250.1\" id=\"24,13\" style=\"\"></path><path d=\"M 213.6 163.9 L 213.6 182.9 L 228.0 182.9\" id=\"17,14\" style=\"\"></path><path d=\"M 218.4 145.0 L 218.4 132.4 L 258.4 132.4\" id=\"16,15\" style=\"\"></path><path d=\"M 213.6 163.9 L 213.6 145.0 L 218.4 145.0\" id=\"17,16\" style=\"\"></path><path d=\"M 208.5 186.0 L 208.5 163.9 L 213.6 163.9\" id=\"18,17\" style=\"\"></path><path d=\"M 201.8 205.5 L 201.8 186.0 L 208.5 186.0\" id=\"19,18\" style=\"\"></path><path d=\"M 166.9 143.7 L 166.9 205.5 L 201.8 205.5\" id=\"23,19\" style=\"\"></path><path d=\"M 186.2 82.0 L 186.2 98.8 L 201.6 98.8\" id=\"22,20\" style=\"\"></path><path d=\"M 186.2 82.0 L 186.2 65.2 L 247.2 65.2\" id=\"22,21\" style=\"\"></path><path d=\"M 166.9 143.7 L 166.9 82.0 L 186.2 82.0\" id=\"23,22\" style=\"\"></path><path d=\"M 50.6 196.9 L 50.6 143.7 L 166.9 143.7\" id=\"24,23\" style=\"\"></path></g><g class=\"toytree-AdmixEdges\" style=\"fill:rgb(0.0%,0.0%,0.0%);fill-opacity:0.0;stroke:rgb(90.6%,54.1%,76.5%);stroke-opacity:0.6;font-size:14px;stroke-linecap:round;stroke-width:5\"></g><g class=\"toytree-Nodes\" style=\"fill:rgb(40.0%,76.1%,64.7%);fill-opacity:1.0;stroke:rgb(14.9%,14.9%,14.9%);stroke-opacity:1.0;stroke-width:1.5\"></g><g class=\"toytree-TipLabels\" style=\"fill:rgb(14.5%,14.5%,14.5%);fill-opacity:1.0;font-family:Helvetica;font-size:12px;font-weight:300;vertical-align:baseline;white-space:pre;stroke:none\"><g class=\"toytree-TipLabel\" transform=\"translate(183.677,258.531)\"><text x=\"15.0\" y=\"3.066\" style=\"fill:rgb(14.5%,14.5%,14.5%);fill-opacity:1.0\">32082_przewalskii-0</text></g><g class=\"toytree-TipLabel\" transform=\"translate(182.886,241.716)\"><text x=\"15.0\" y=\"3.066\" style=\"fill:rgb(14.5%,14.5%,14.5%);fill-opacity:1.0\">33588_przewalskii-0</text></g><g class=\"toytree-TipLabel\" transform=\"translate(238.444,224.901)\"><text x=\"15.0\" y=\"3.066\" style=\"fill:rgb(14.5%,14.5%,14.5%);fill-opacity:1.0\">33413_thamno-0</text></g><g class=\"toytree-TipLabel\" transform=\"translate(250.843,208.086)\"><text x=\"15.0\" y=\"3.066\" style=\"fill:rgb(14.5%,14.5%,14.5%);fill-opacity:1.0\">30556_thamno-0</text></g><g class=\"toytree-TipLabel\" transform=\"translate(249.775,191.27)\"><text x=\"15.0\" y=\"3.066\" style=\"fill:rgb(14.5%,14.5%,14.5%);fill-opacity:1.0\">40578_rex-0</text></g><g class=\"toytree-TipLabel\" transform=\"translate(250.07,174.455)\"><text x=\"15.0\" y=\"3.066\" style=\"fill:rgb(14.5%,14.5%,14.5%);fill-opacity:1.0\">35855_rex-0</text></g><g class=\"toytree-TipLabel\" transform=\"translate(255.999,157.64)\"><text x=\"15.0\" y=\"3.066\" style=\"fill:rgb(14.5%,14.5%,14.5%);fill-opacity:1.0\">35236_rex-0</text></g><g class=\"toytree-TipLabel\" transform=\"translate(264.636,140.825)\"><text x=\"15.0\" y=\"3.066\" style=\"fill:rgb(14.5%,14.5%,14.5%);fill-opacity:1.0\">39618_rex-0</text></g><g class=\"toytree-TipLabel\" transform=\"translate(265.479,124.01)\"><text x=\"15.0\" y=\"3.066\" style=\"fill:rgb(14.5%,14.5%,14.5%);fill-opacity:1.0\">38362_rex-0</text></g><g class=\"toytree-TipLabel\" transform=\"translate(242.709,107.194)\"><text x=\"15.0\" y=\"3.066\" style=\"fill:rgb(14.5%,14.5%,14.5%);fill-opacity:1.0\">29154_superba-0</text></g><g class=\"toytree-TipLabel\" transform=\"translate(245.024,90.3791)\"><text x=\"15.0\" y=\"3.066\" style=\"fill:rgb(14.5%,14.5%,14.5%);fill-opacity:1.0\">30686_cyathophylla-0</text></g><g class=\"toytree-TipLabel\" transform=\"translate(247.745,73.5638)\"><text x=\"15.0\" y=\"3.066\" style=\"fill:rgb(14.5%,14.5%,14.5%);fill-opacity:1.0\">41954_cyathophylloides-0</text></g><g class=\"toytree-TipLabel\" transform=\"translate(247.511,56.7486)\"><text x=\"15.0\" y=\"3.066\" style=\"fill:rgb(14.5%,14.5%,14.5%);fill-opacity:1.0\">41478_cyathophylloides-0</text></g></g></g></g></g></svg><div class=\"toyplot-behavior\"><script>(function()\n",
       "{\n",
       "var modules={};\n",
       "})();</script></div></div>"
      ]
     },
     "metadata": {},
     "output_type": "display_data"
    }
   ],
   "source": [
    "# get tip labels from tree\n",
    "tipnames = rtre.get_tip_labels()\n",
    "\n",
    "# modify list so that names have a \"-0\" at the end\n",
    "italicnames = [f\"{i}-0\".format(i) for i in tipnames]\n",
    "\n",
    "# enter the list of names to tip_labels (in idx order)\n",
    "rtre.draw(tip_labels=italicnames);"
   ]
  },
  {
   "cell_type": "markdown",
   "metadata": {},
   "source": [
    "#### tip_labels_align\n",
    "**Type:** boolean  \n",
    "**Allowed:** True, False  \n",
    "**Default:** False  \n",
    "**Description:** Add lines connecting tips to tip labels. See [edge_align_style](#edge_align_style) for ways to style the extra tip lines (colors, etc.). "
   ]
  },
  {
   "cell_type": "code",
   "execution_count": 9,
   "metadata": {},
   "outputs": [
    {
     "data": {
      "text/html": [
       "<div class=\"toyplot\" id=\"tad75a7e8e374414caf937cc7168e2a9d\" style=\"text-align:center\"><svg class=\"toyplot-canvas-Canvas\" xmlns:toyplot=\"http://www.sandia.gov/toyplot\" xmlns:xlink=\"http://www.w3.org/1999/xlink\" xmlns=\"http://www.w3.org/2000/svg\" width=\"453.472px\" height=\"315.28px\" viewBox=\"0 0 453.472 315.28\" preserveAspectRatio=\"xMidYMid meet\" style=\"background-color:transparent;border-color:#292724;border-style:none;border-width:1.0;fill:rgb(16.1%,15.3%,14.1%);fill-opacity:1.0;font-family:Helvetica;font-size:12px;opacity:1.0;stroke:rgb(16.1%,15.3%,14.1%);stroke-opacity:1.0;stroke-width:1.0\" id=\"t36ad907ab4d9475daf584da8b20a4cc7\"><g class=\"toyplot-coordinates-Cartesian\" id=\"t9f35433ba12f4816a123f250536f653e\"><clipPath id=\"t9ea265333f354e94bdaf46fafce7c8ee\"><rect x=\"35.0\" y=\"35.0\" width=\"383.472\" height=\"245.27999999999997\"></rect></clipPath><g clip-path=\"url(#t9ea265333f354e94bdaf46fafce7c8ee)\"><g class=\"toytree-mark-Toytree\" id=\"t6af1ca79ad3244f4a5513c4d5d94f13e\"><g class=\"toytree-Edges\" style=\"stroke:rgb(14.5%,14.5%,14.5%);stroke-opacity:1.0;stroke-linecap:round;stroke-width:2.0;fill:none\"><path d=\"M 155.9 250.1 L 155.9 258.5 L 171.1 258.5\" id=\"13,0\" style=\"\"></path><path d=\"M 155.9 250.1 L 155.9 241.7 L 170.4 241.7\" id=\"13,1\" style=\"\"></path><path d=\"M 187.5 205.5 L 187.5 224.9 L 220.7 224.9\" id=\"19,2\" style=\"\"></path><path d=\"M 193.6 186.0 L 193.6 208.1 L 231.9 208.1\" id=\"18,3\" style=\"\"></path><path d=\"M 211.3 182.9 L 211.3 191.3 L 231.0 191.3\" id=\"14,4\" style=\"\"></path><path d=\"M 211.3 182.9 L 211.3 174.5 L 231.2 174.5\" id=\"14,5\" style=\"\"></path><path d=\"M 202.5 145.0 L 202.5 157.6 L 236.6 157.6\" id=\"16,6\" style=\"\"></path><path d=\"M 238.8 132.4 L 238.8 140.8 L 244.4 140.8\" id=\"15,7\" style=\"\"></path><path d=\"M 238.8 132.4 L 238.8 124.0 L 245.2 124.0\" id=\"15,8\" style=\"\"></path><path d=\"M 187.3 98.8 L 187.3 107.2 L 224.6 107.2\" id=\"20,9\" style=\"\"></path><path d=\"M 187.3 98.8 L 187.3 90.4 L 226.7 90.4\" id=\"20,10\" style=\"\"></path><path d=\"M 228.6 65.2 L 228.6 73.6 L 229.1 73.6\" id=\"21,11\" style=\"\"></path><path d=\"M 228.6 65.2 L 228.6 56.7 L 228.9 56.7\" id=\"21,12\" style=\"\"></path><path d=\"M 50.6 196.9 L 50.6 250.1 L 155.9 250.1\" id=\"24,13\" style=\"\"></path><path d=\"M 198.2 163.9 L 198.2 182.9 L 211.3 182.9\" id=\"17,14\" style=\"\"></path><path d=\"M 202.5 145.0 L 202.5 132.4 L 238.8 132.4\" id=\"16,15\" style=\"\"></path><path d=\"M 198.2 163.9 L 198.2 145.0 L 202.5 145.0\" id=\"17,16\" style=\"\"></path><path d=\"M 193.6 186.0 L 193.6 163.9 L 198.2 163.9\" id=\"18,17\" style=\"\"></path><path d=\"M 187.5 205.5 L 187.5 186.0 L 193.6 186.0\" id=\"19,18\" style=\"\"></path><path d=\"M 155.9 143.7 L 155.9 205.5 L 187.5 205.5\" id=\"23,19\" style=\"\"></path><path d=\"M 173.3 82.0 L 173.3 98.8 L 187.3 98.8\" id=\"22,20\" style=\"\"></path><path d=\"M 173.3 82.0 L 173.3 65.2 L 228.6 65.2\" id=\"22,21\" style=\"\"></path><path d=\"M 155.9 143.7 L 155.9 82.0 L 173.3 82.0\" id=\"23,22\" style=\"\"></path><path d=\"M 50.6 196.9 L 50.6 143.7 L 155.9 143.7\" id=\"24,23\" style=\"\"></path></g><g class=\"toytree-AlignEdges\" style=\"stroke:rgb(66.0%,66.0%,66.0%);stroke-opacity:0.75;stroke-dasharray:2,4;stroke-linecap:round;stroke-width:2\"><path d=\"M 245.2 258.5 L 171.1 258.5\"></path><path d=\"M 245.2 241.7 L 170.4 241.7\"></path><path d=\"M 245.2 224.9 L 220.7 224.9\"></path><path d=\"M 245.2 208.1 L 231.9 208.1\"></path><path d=\"M 245.2 191.3 L 231.0 191.3\"></path><path d=\"M 245.2 174.5 L 231.2 174.5\"></path><path d=\"M 245.2 157.6 L 236.6 157.6\"></path><path d=\"M 245.2 140.8 L 244.4 140.8\"></path><path d=\"M 245.2 124.0 L 245.2 124.0\"></path><path d=\"M 245.2 107.2 L 224.6 107.2\"></path><path d=\"M 245.2 90.4 L 226.7 90.4\"></path><path d=\"M 245.2 73.6 L 229.1 73.6\"></path><path d=\"M 245.2 56.7 L 228.9 56.7\"></path></g><g class=\"toytree-AdmixEdges\" style=\"fill:rgb(0.0%,0.0%,0.0%);fill-opacity:0.0;stroke:rgb(90.6%,54.1%,76.5%);stroke-opacity:0.6;font-size:14px;stroke-linecap:round;stroke-width:5\"></g><g class=\"toytree-Nodes\" style=\"fill:rgb(40.0%,76.1%,64.7%);fill-opacity:1.0;stroke:rgb(14.9%,14.9%,14.9%);stroke-opacity:1.0;stroke-width:1.5\"></g><g class=\"toytree-TipLabels\" style=\"fill:rgb(14.5%,14.5%,14.5%);fill-opacity:1.0;font-family:Helvetica;font-size:12px;font-weight:300;vertical-align:baseline;white-space:pre;stroke:none\"><g class=\"toytree-TipLabel\" transform=\"translate(245.182,258.531)\"><text x=\"15.0\" y=\"3.066\" style=\"fill:rgb(14.5%,14.5%,14.5%);fill-opacity:1.0\">32082_przewalskii</text></g><g class=\"toytree-TipLabel\" transform=\"translate(245.182,241.716)\"><text x=\"15.0\" y=\"3.066\" style=\"fill:rgb(14.5%,14.5%,14.5%);fill-opacity:1.0\">33588_przewalskii</text></g><g class=\"toytree-TipLabel\" transform=\"translate(245.182,224.901)\"><text x=\"15.0\" y=\"3.066\" style=\"fill:rgb(14.5%,14.5%,14.5%);fill-opacity:1.0\">33413_thamno</text></g><g class=\"toytree-TipLabel\" transform=\"translate(245.182,208.086)\"><text x=\"15.0\" y=\"3.066\" style=\"fill:rgb(14.5%,14.5%,14.5%);fill-opacity:1.0\">30556_thamno</text></g><g class=\"toytree-TipLabel\" transform=\"translate(245.182,191.27)\"><text x=\"15.0\" y=\"3.066\" style=\"fill:rgb(14.5%,14.5%,14.5%);fill-opacity:1.0\">40578_rex</text></g><g class=\"toytree-TipLabel\" transform=\"translate(245.182,174.455)\"><text x=\"15.0\" y=\"3.066\" style=\"fill:rgb(14.5%,14.5%,14.5%);fill-opacity:1.0\">35855_rex</text></g><g class=\"toytree-TipLabel\" transform=\"translate(245.182,157.64)\"><text x=\"15.0\" y=\"3.066\" style=\"fill:rgb(14.5%,14.5%,14.5%);fill-opacity:1.0\">35236_rex</text></g><g class=\"toytree-TipLabel\" transform=\"translate(245.182,140.825)\"><text x=\"15.0\" y=\"3.066\" style=\"fill:rgb(14.5%,14.5%,14.5%);fill-opacity:1.0\">39618_rex</text></g><g class=\"toytree-TipLabel\" transform=\"translate(245.182,124.01)\"><text x=\"15.0\" y=\"3.066\" style=\"fill:rgb(14.5%,14.5%,14.5%);fill-opacity:1.0\">38362_rex</text></g><g class=\"toytree-TipLabel\" transform=\"translate(245.182,107.194)\"><text x=\"15.0\" y=\"3.066\" style=\"fill:rgb(14.5%,14.5%,14.5%);fill-opacity:1.0\">29154_superba</text></g><g class=\"toytree-TipLabel\" transform=\"translate(245.182,90.3791)\"><text x=\"15.0\" y=\"3.066\" style=\"fill:rgb(14.5%,14.5%,14.5%);fill-opacity:1.0\">30686_cyathophylla</text></g><g class=\"toytree-TipLabel\" transform=\"translate(245.182,73.5638)\"><text x=\"15.0\" y=\"3.066\" style=\"fill:rgb(14.5%,14.5%,14.5%);fill-opacity:1.0\">41954_cyathophylloides</text></g><g class=\"toytree-TipLabel\" transform=\"translate(245.182,56.7486)\"><text x=\"15.0\" y=\"3.066\" style=\"fill:rgb(14.5%,14.5%,14.5%);fill-opacity:1.0\">41478_cyathophylloides</text></g></g></g></g></g></svg><div class=\"toyplot-behavior\"><script>(function()\n",
       "{\n",
       "var modules={};\n",
       "})();</script></div></div>"
      ]
     },
     "metadata": {},
     "output_type": "display_data"
    }
   ],
   "source": [
    "rtre.draw(tip_labels_align=True);"
   ]
  },
  {
   "cell_type": "markdown",
   "metadata": {},
   "source": [
    "#### tip_labels_colors\n",
    "Apply a single color to all tip labels, or different colors to each.\n",
    "\n",
    "**Type:** `str`, `list[str]`, `tuple[str, Colormap]`  \n",
    "**Allowed:** Any color argument supported in [toyplot colors](https://toyplot.readthedocs.io/en/stable/colors.html#color-values).  \n",
    "**Default:** `\"#262626\"` (near black)  \n",
    "**Description:** A single color can be entered to apply to all tip labels, or a list of colors can be entered in idx order to apply different colors to each tip. The special tuple syntax can be used to map colors to feature data extracted from a tree. "
   ]
  },
  {
   "cell_type": "code",
   "execution_count": 31,
   "metadata": {},
   "outputs": [
    {
     "data": {
      "text/html": [
       "<div class=\"toyplot\" id=\"t521ff3ec2e63405a95d8416b5623bd19\" style=\"text-align:center\"><svg class=\"toyplot-canvas-Canvas\" xmlns:toyplot=\"http://www.sandia.gov/toyplot\" xmlns:xlink=\"http://www.w3.org/1999/xlink\" xmlns=\"http://www.w3.org/2000/svg\" width=\"453.472px\" height=\"315.28px\" viewBox=\"0 0 453.472 315.28\" preserveAspectRatio=\"xMidYMid meet\" style=\"background-color:transparent;border-color:#292724;border-style:none;border-width:1.0;fill:rgb(16.1%,15.3%,14.1%);fill-opacity:1.0;font-family:Helvetica;font-size:12px;opacity:1.0;stroke:rgb(16.1%,15.3%,14.1%);stroke-opacity:1.0;stroke-width:1.0\" id=\"teab015c554b1465582b3eac7ac2eb54d\"><g class=\"toyplot-coordinates-Cartesian\" id=\"t848742f7c5a44619bad08a1585c9b97d\"><clipPath id=\"t7b1c0487cf364d828271610864cb4c96\"><rect x=\"35.0\" y=\"35.0\" width=\"383.472\" height=\"245.27999999999997\"></rect></clipPath><g clip-path=\"url(#t7b1c0487cf364d828271610864cb4c96)\"><g class=\"toytree-mark-Toytree\" id=\"t2faa24d2597e4c8aa30b61d06cfa07af\"><g class=\"toytree-Edges\" style=\"stroke:rgb(14.5%,14.5%,14.5%);stroke-opacity:1.0;stroke-linecap:round;stroke-width:2.0;fill:none\"><path d=\"M 155.9 250.1 L 155.9 258.5 L 171.1 258.5\" id=\"13,0\" style=\"\"></path><path d=\"M 155.9 250.1 L 155.9 241.7 L 170.4 241.7\" id=\"13,1\" style=\"\"></path><path d=\"M 187.5 205.5 L 187.5 224.9 L 220.7 224.9\" id=\"19,2\" style=\"\"></path><path d=\"M 193.6 186.0 L 193.6 208.1 L 231.9 208.1\" id=\"18,3\" style=\"\"></path><path d=\"M 211.3 182.9 L 211.3 191.3 L 231.0 191.3\" id=\"14,4\" style=\"\"></path><path d=\"M 211.3 182.9 L 211.3 174.5 L 231.2 174.5\" id=\"14,5\" style=\"\"></path><path d=\"M 202.5 145.0 L 202.5 157.6 L 236.6 157.6\" id=\"16,6\" style=\"\"></path><path d=\"M 238.8 132.4 L 238.8 140.8 L 244.4 140.8\" id=\"15,7\" style=\"\"></path><path d=\"M 238.8 132.4 L 238.8 124.0 L 245.2 124.0\" id=\"15,8\" style=\"\"></path><path d=\"M 187.3 98.8 L 187.3 107.2 L 224.6 107.2\" id=\"20,9\" style=\"\"></path><path d=\"M 187.3 98.8 L 187.3 90.4 L 226.7 90.4\" id=\"20,10\" style=\"\"></path><path d=\"M 228.6 65.2 L 228.6 73.6 L 229.1 73.6\" id=\"21,11\" style=\"\"></path><path d=\"M 228.6 65.2 L 228.6 56.7 L 228.9 56.7\" id=\"21,12\" style=\"\"></path><path d=\"M 50.6 196.9 L 50.6 250.1 L 155.9 250.1\" id=\"24,13\" style=\"\"></path><path d=\"M 198.2 163.9 L 198.2 182.9 L 211.3 182.9\" id=\"17,14\" style=\"\"></path><path d=\"M 202.5 145.0 L 202.5 132.4 L 238.8 132.4\" id=\"16,15\" style=\"\"></path><path d=\"M 198.2 163.9 L 198.2 145.0 L 202.5 145.0\" id=\"17,16\" style=\"\"></path><path d=\"M 193.6 186.0 L 193.6 163.9 L 198.2 163.9\" id=\"18,17\" style=\"\"></path><path d=\"M 187.5 205.5 L 187.5 186.0 L 193.6 186.0\" id=\"19,18\" style=\"\"></path><path d=\"M 155.9 143.7 L 155.9 205.5 L 187.5 205.5\" id=\"23,19\" style=\"\"></path><path d=\"M 173.3 82.0 L 173.3 98.8 L 187.3 98.8\" id=\"22,20\" style=\"\"></path><path d=\"M 173.3 82.0 L 173.3 65.2 L 228.6 65.2\" id=\"22,21\" style=\"\"></path><path d=\"M 155.9 143.7 L 155.9 82.0 L 173.3 82.0\" id=\"23,22\" style=\"\"></path><path d=\"M 50.6 196.9 L 50.6 143.7 L 155.9 143.7\" id=\"24,23\" style=\"\"></path></g><g class=\"toytree-AlignEdges\" style=\"stroke:rgb(66.0%,66.0%,66.0%);stroke-opacity:0.75;stroke-dasharray:2,4;stroke-linecap:round;stroke-width:2\"><path d=\"M 245.2 258.5 L 171.1 258.5\"></path><path d=\"M 245.2 241.7 L 170.4 241.7\"></path><path d=\"M 245.2 224.9 L 220.7 224.9\"></path><path d=\"M 245.2 208.1 L 231.9 208.1\"></path><path d=\"M 245.2 191.3 L 231.0 191.3\"></path><path d=\"M 245.2 174.5 L 231.2 174.5\"></path><path d=\"M 245.2 157.6 L 236.6 157.6\"></path><path d=\"M 245.2 140.8 L 244.4 140.8\"></path><path d=\"M 245.2 124.0 L 245.2 124.0\"></path><path d=\"M 245.2 107.2 L 224.6 107.2\"></path><path d=\"M 245.2 90.4 L 226.7 90.4\"></path><path d=\"M 245.2 73.6 L 229.1 73.6\"></path><path d=\"M 245.2 56.7 L 228.9 56.7\"></path></g><g class=\"toytree-AdmixEdges\" style=\"fill:rgb(0.0%,0.0%,0.0%);fill-opacity:0.0;stroke:rgb(90.6%,54.1%,76.5%);stroke-opacity:0.6;font-size:14px;stroke-linecap:round;stroke-width:5\"></g><g class=\"toytree-Nodes\" style=\"fill:rgb(40.0%,76.1%,64.7%);fill-opacity:1.0;stroke:rgb(14.9%,14.9%,14.9%);stroke-opacity:1.0;stroke-width:1.5\"></g><g class=\"toytree-TipLabels\" style=\"fill:rgb(100.0%,64.7%,0.0%);fill-opacity:1.0;font-family:Helvetica;font-size:12px;font-weight:300;vertical-align:baseline;white-space:pre;stroke:none\"><g class=\"toytree-TipLabel\" transform=\"translate(245.182,258.531)\"><text x=\"15.0\" y=\"3.066\" style=\"fill:rgb(100.0%,64.7%,0.0%);fill-opacity:1.0\">32082_przewalskii</text></g><g class=\"toytree-TipLabel\" transform=\"translate(245.182,241.716)\"><text x=\"15.0\" y=\"3.066\" style=\"fill:rgb(100.0%,64.7%,0.0%);fill-opacity:1.0\">33588_przewalskii</text></g><g class=\"toytree-TipLabel\" transform=\"translate(245.182,224.901)\"><text x=\"15.0\" y=\"3.066\" style=\"fill:rgb(100.0%,64.7%,0.0%);fill-opacity:1.0\">33413_thamno</text></g><g class=\"toytree-TipLabel\" transform=\"translate(245.182,208.086)\"><text x=\"15.0\" y=\"3.066\" style=\"fill:rgb(100.0%,64.7%,0.0%);fill-opacity:1.0\">30556_thamno</text></g><g class=\"toytree-TipLabel\" transform=\"translate(245.182,191.27)\"><text x=\"15.0\" y=\"3.066\" style=\"fill:rgb(100.0%,64.7%,0.0%);fill-opacity:1.0\">40578_rex</text></g><g class=\"toytree-TipLabel\" transform=\"translate(245.182,174.455)\"><text x=\"15.0\" y=\"3.066\" style=\"fill:rgb(100.0%,64.7%,0.0%);fill-opacity:1.0\">35855_rex</text></g><g class=\"toytree-TipLabel\" transform=\"translate(245.182,157.64)\"><text x=\"15.0\" y=\"3.066\" style=\"fill:rgb(100.0%,64.7%,0.0%);fill-opacity:1.0\">35236_rex</text></g><g class=\"toytree-TipLabel\" transform=\"translate(245.182,140.825)\"><text x=\"15.0\" y=\"3.066\" style=\"fill:rgb(100.0%,64.7%,0.0%);fill-opacity:1.0\">39618_rex</text></g><g class=\"toytree-TipLabel\" transform=\"translate(245.182,124.01)\"><text x=\"15.0\" y=\"3.066\" style=\"fill:rgb(100.0%,64.7%,0.0%);fill-opacity:1.0\">38362_rex</text></g><g class=\"toytree-TipLabel\" transform=\"translate(245.182,107.194)\"><text x=\"15.0\" y=\"3.066\" style=\"fill:rgb(100.0%,64.7%,0.0%);fill-opacity:1.0\">29154_superba</text></g><g class=\"toytree-TipLabel\" transform=\"translate(245.182,90.3791)\"><text x=\"15.0\" y=\"3.066\" style=\"fill:rgb(100.0%,64.7%,0.0%);fill-opacity:1.0\">30686_cyathophylla</text></g><g class=\"toytree-TipLabel\" transform=\"translate(245.182,73.5638)\"><text x=\"15.0\" y=\"3.066\" style=\"fill:rgb(100.0%,64.7%,0.0%);fill-opacity:1.0\">41954_cyathophylloides</text></g><g class=\"toytree-TipLabel\" transform=\"translate(245.182,56.7486)\"><text x=\"15.0\" y=\"3.066\" style=\"fill:rgb(100.0%,64.7%,0.0%);fill-opacity:1.0\">41478_cyathophylloides</text></g></g></g></g></g></svg><div class=\"toyplot-behavior\"><script>(function()\n",
       "{\n",
       "var modules={};\n",
       "})();</script></div></div>"
      ]
     },
     "metadata": {},
     "output_type": "display_data"
    },
    {
     "data": {
      "text/html": [
       "<div class=\"toyplot\" id=\"tc96c7e06d94a4872b6de82319117d268\" style=\"text-align:center\"><svg class=\"toyplot-canvas-Canvas\" xmlns:toyplot=\"http://www.sandia.gov/toyplot\" xmlns:xlink=\"http://www.w3.org/1999/xlink\" xmlns=\"http://www.w3.org/2000/svg\" width=\"453.472px\" height=\"315.28px\" viewBox=\"0 0 453.472 315.28\" preserveAspectRatio=\"xMidYMid meet\" style=\"background-color:transparent;border-color:#292724;border-style:none;border-width:1.0;fill:rgb(16.1%,15.3%,14.1%);fill-opacity:1.0;font-family:Helvetica;font-size:12px;opacity:1.0;stroke:rgb(16.1%,15.3%,14.1%);stroke-opacity:1.0;stroke-width:1.0\" id=\"td1a5f01084a54614b349113b014707d0\"><g class=\"toyplot-coordinates-Cartesian\" id=\"t1205c81bd36041e4a01c52794f11df2e\"><clipPath id=\"tf5e2dfdad4ee414a8da1154625cc10f6\"><rect x=\"35.0\" y=\"35.0\" width=\"383.472\" height=\"245.27999999999997\"></rect></clipPath><g clip-path=\"url(#tf5e2dfdad4ee414a8da1154625cc10f6)\"><g class=\"toytree-mark-Toytree\" id=\"t66df8df76a054f8990dc805bf9b0eef1\"><g class=\"toytree-Edges\" style=\"stroke:rgb(14.5%,14.5%,14.5%);stroke-opacity:1.0;stroke-linecap:round;stroke-width:2.0;fill:none\"><path d=\"M 155.9 250.1 L 155.9 258.5 L 171.1 258.5\" id=\"13,0\" style=\"\"></path><path d=\"M 155.9 250.1 L 155.9 241.7 L 170.4 241.7\" id=\"13,1\" style=\"\"></path><path d=\"M 187.5 205.5 L 187.5 224.9 L 220.7 224.9\" id=\"19,2\" style=\"\"></path><path d=\"M 193.6 186.0 L 193.6 208.1 L 231.9 208.1\" id=\"18,3\" style=\"\"></path><path d=\"M 211.3 182.9 L 211.3 191.3 L 231.0 191.3\" id=\"14,4\" style=\"\"></path><path d=\"M 211.3 182.9 L 211.3 174.5 L 231.2 174.5\" id=\"14,5\" style=\"\"></path><path d=\"M 202.5 145.0 L 202.5 157.6 L 236.6 157.6\" id=\"16,6\" style=\"\"></path><path d=\"M 238.8 132.4 L 238.8 140.8 L 244.4 140.8\" id=\"15,7\" style=\"\"></path><path d=\"M 238.8 132.4 L 238.8 124.0 L 245.2 124.0\" id=\"15,8\" style=\"\"></path><path d=\"M 187.3 98.8 L 187.3 107.2 L 224.6 107.2\" id=\"20,9\" style=\"\"></path><path d=\"M 187.3 98.8 L 187.3 90.4 L 226.7 90.4\" id=\"20,10\" style=\"\"></path><path d=\"M 228.6 65.2 L 228.6 73.6 L 229.1 73.6\" id=\"21,11\" style=\"\"></path><path d=\"M 228.6 65.2 L 228.6 56.7 L 228.9 56.7\" id=\"21,12\" style=\"\"></path><path d=\"M 50.6 196.9 L 50.6 250.1 L 155.9 250.1\" id=\"24,13\" style=\"\"></path><path d=\"M 198.2 163.9 L 198.2 182.9 L 211.3 182.9\" id=\"17,14\" style=\"\"></path><path d=\"M 202.5 145.0 L 202.5 132.4 L 238.8 132.4\" id=\"16,15\" style=\"\"></path><path d=\"M 198.2 163.9 L 198.2 145.0 L 202.5 145.0\" id=\"17,16\" style=\"\"></path><path d=\"M 193.6 186.0 L 193.6 163.9 L 198.2 163.9\" id=\"18,17\" style=\"\"></path><path d=\"M 187.5 205.5 L 187.5 186.0 L 193.6 186.0\" id=\"19,18\" style=\"\"></path><path d=\"M 155.9 143.7 L 155.9 205.5 L 187.5 205.5\" id=\"23,19\" style=\"\"></path><path d=\"M 173.3 82.0 L 173.3 98.8 L 187.3 98.8\" id=\"22,20\" style=\"\"></path><path d=\"M 173.3 82.0 L 173.3 65.2 L 228.6 65.2\" id=\"22,21\" style=\"\"></path><path d=\"M 155.9 143.7 L 155.9 82.0 L 173.3 82.0\" id=\"23,22\" style=\"\"></path><path d=\"M 50.6 196.9 L 50.6 143.7 L 155.9 143.7\" id=\"24,23\" style=\"\"></path></g><g class=\"toytree-AlignEdges\" style=\"stroke:rgb(66.0%,66.0%,66.0%);stroke-opacity:0.75;stroke-dasharray:2,4;stroke-linecap:round;stroke-width:2\"><path d=\"M 245.2 258.5 L 171.1 258.5\"></path><path d=\"M 245.2 241.7 L 170.4 241.7\"></path><path d=\"M 245.2 224.9 L 220.7 224.9\"></path><path d=\"M 245.2 208.1 L 231.9 208.1\"></path><path d=\"M 245.2 191.3 L 231.0 191.3\"></path><path d=\"M 245.2 174.5 L 231.2 174.5\"></path><path d=\"M 245.2 157.6 L 236.6 157.6\"></path><path d=\"M 245.2 140.8 L 244.4 140.8\"></path><path d=\"M 245.2 124.0 L 245.2 124.0\"></path><path d=\"M 245.2 107.2 L 224.6 107.2\"></path><path d=\"M 245.2 90.4 L 226.7 90.4\"></path><path d=\"M 245.2 73.6 L 229.1 73.6\"></path><path d=\"M 245.2 56.7 L 228.9 56.7\"></path></g><g class=\"toytree-AdmixEdges\" style=\"fill:rgb(0.0%,0.0%,0.0%);fill-opacity:0.0;stroke:rgb(90.6%,54.1%,76.5%);stroke-opacity:0.6;font-size:14px;stroke-linecap:round;stroke-width:5\"></g><g class=\"toytree-Nodes\" style=\"fill:rgb(40.0%,76.1%,64.7%);fill-opacity:1.0;stroke:rgb(14.9%,14.9%,14.9%);stroke-opacity:1.0;stroke-width:1.5\"></g><g class=\"toytree-TipLabels\" style=\"fill:rgb(14.5%,14.5%,14.5%);fill-opacity:1.0;font-family:Helvetica;font-size:12px;font-weight:300;vertical-align:baseline;white-space:pre;stroke:none\"><g class=\"toytree-TipLabel\" transform=\"translate(245.182,258.531)\"><text x=\"15.0\" y=\"3.066\" style=\"fill:rgb(85.5%,64.7%,12.5%);fill-opacity:1.0\">32082_przewalskii</text></g><g class=\"toytree-TipLabel\" transform=\"translate(245.182,241.716)\"><text x=\"15.0\" y=\"3.066\" style=\"fill:rgb(85.5%,64.7%,12.5%);fill-opacity:1.0\">33588_przewalskii</text></g><g class=\"toytree-TipLabel\" transform=\"translate(245.182,224.901)\"><text x=\"15.0\" y=\"3.066\" style=\"fill:rgb(85.5%,64.7%,12.5%);fill-opacity:1.0\">33413_thamno</text></g><g class=\"toytree-TipLabel\" transform=\"translate(245.182,208.086)\"><text x=\"15.0\" y=\"3.066\" style=\"fill:rgb(85.5%,64.7%,12.5%);fill-opacity:1.0\">30556_thamno</text></g><g class=\"toytree-TipLabel\" transform=\"translate(245.182,191.27)\"><text x=\"15.0\" y=\"3.066\" style=\"fill:rgb(85.5%,64.7%,12.5%);fill-opacity:1.0\">40578_rex</text></g><g class=\"toytree-TipLabel\" transform=\"translate(245.182,174.455)\"><text x=\"15.0\" y=\"3.066\" style=\"fill:rgb(85.5%,64.7%,12.5%);fill-opacity:1.0\">35855_rex</text></g><g class=\"toytree-TipLabel\" transform=\"translate(245.182,157.64)\"><text x=\"15.0\" y=\"3.066\" style=\"fill:rgb(85.5%,64.7%,12.5%);fill-opacity:1.0\">35236_rex</text></g><g class=\"toytree-TipLabel\" transform=\"translate(245.182,140.825)\"><text x=\"15.0\" y=\"3.066\" style=\"fill:rgb(85.5%,64.7%,12.5%);fill-opacity:1.0\">39618_rex</text></g><g class=\"toytree-TipLabel\" transform=\"translate(245.182,124.01)\"><text x=\"15.0\" y=\"3.066\" style=\"fill:rgb(85.5%,64.7%,12.5%);fill-opacity:1.0\">38362_rex</text></g><g class=\"toytree-TipLabel\" transform=\"translate(245.182,107.194)\"><text x=\"15.0\" y=\"3.066\" style=\"fill:rgb(85.5%,64.7%,12.5%);fill-opacity:1.0\">29154_superba</text></g><g class=\"toytree-TipLabel\" transform=\"translate(245.182,90.3791)\"><text x=\"15.0\" y=\"3.066\" style=\"fill:rgb(85.5%,64.7%,12.5%);fill-opacity:1.0\">30686_cyathophylla</text></g><g class=\"toytree-TipLabel\" transform=\"translate(245.182,73.5638)\"><text x=\"15.0\" y=\"3.066\" style=\"fill:rgb(23.5%,70.2%,44.3%);fill-opacity:1.0\">41954_cyathophylloides</text></g><g class=\"toytree-TipLabel\" transform=\"translate(245.182,56.7486)\"><text x=\"15.0\" y=\"3.066\" style=\"fill:rgb(23.5%,70.2%,44.3%);fill-opacity:1.0\">41478_cyathophylloides</text></g></g></g></g></g></svg><div class=\"toyplot-behavior\"><script>(function()\n",
       "{\n",
       "var modules={};\n",
       "})();</script></div></div>"
      ]
     },
     "metadata": {},
     "output_type": "display_data"
    },
    {
     "data": {
      "text/html": [
       "<div class=\"toyplot\" id=\"tec298826729a46ceabbecd26ce2641e2\" style=\"text-align:center\"><svg class=\"toyplot-canvas-Canvas\" xmlns:toyplot=\"http://www.sandia.gov/toyplot\" xmlns:xlink=\"http://www.w3.org/1999/xlink\" xmlns=\"http://www.w3.org/2000/svg\" width=\"453.472px\" height=\"315.28px\" viewBox=\"0 0 453.472 315.28\" preserveAspectRatio=\"xMidYMid meet\" style=\"background-color:transparent;border-color:#292724;border-style:none;border-width:1.0;fill:rgb(16.1%,15.3%,14.1%);fill-opacity:1.0;font-family:Helvetica;font-size:12px;opacity:1.0;stroke:rgb(16.1%,15.3%,14.1%);stroke-opacity:1.0;stroke-width:1.0\" id=\"tff3f3c55ef204284b66d07d580d9c6ad\"><g class=\"toyplot-coordinates-Cartesian\" id=\"ta2ef203921384be3b0023ec6f1ec1501\"><clipPath id=\"t10f1fe9b63ec4350b64e5ac42a209f20\"><rect x=\"35.0\" y=\"35.0\" width=\"383.472\" height=\"245.27999999999997\"></rect></clipPath><g clip-path=\"url(#t10f1fe9b63ec4350b64e5ac42a209f20)\"><g class=\"toytree-mark-Toytree\" id=\"teb63609d9a404fe9a1c1eb73859bcb13\"><g class=\"toytree-Edges\" style=\"stroke:rgb(14.5%,14.5%,14.5%);stroke-opacity:1.0;stroke-linecap:round;stroke-width:2.0;fill:none\"><path d=\"M 155.9 250.1 L 155.9 258.5 L 171.1 258.5\" id=\"13,0\" style=\"\"></path><path d=\"M 155.9 250.1 L 155.9 241.7 L 170.4 241.7\" id=\"13,1\" style=\"\"></path><path d=\"M 187.5 205.5 L 187.5 224.9 L 220.7 224.9\" id=\"19,2\" style=\"\"></path><path d=\"M 193.6 186.0 L 193.6 208.1 L 231.9 208.1\" id=\"18,3\" style=\"\"></path><path d=\"M 211.3 182.9 L 211.3 191.3 L 231.0 191.3\" id=\"14,4\" style=\"\"></path><path d=\"M 211.3 182.9 L 211.3 174.5 L 231.2 174.5\" id=\"14,5\" style=\"\"></path><path d=\"M 202.5 145.0 L 202.5 157.6 L 236.6 157.6\" id=\"16,6\" style=\"\"></path><path d=\"M 238.8 132.4 L 238.8 140.8 L 244.4 140.8\" id=\"15,7\" style=\"\"></path><path d=\"M 238.8 132.4 L 238.8 124.0 L 245.2 124.0\" id=\"15,8\" style=\"\"></path><path d=\"M 187.3 98.8 L 187.3 107.2 L 224.6 107.2\" id=\"20,9\" style=\"\"></path><path d=\"M 187.3 98.8 L 187.3 90.4 L 226.7 90.4\" id=\"20,10\" style=\"\"></path><path d=\"M 228.6 65.2 L 228.6 73.6 L 229.1 73.6\" id=\"21,11\" style=\"\"></path><path d=\"M 228.6 65.2 L 228.6 56.7 L 228.9 56.7\" id=\"21,12\" style=\"\"></path><path d=\"M 50.6 196.9 L 50.6 250.1 L 155.9 250.1\" id=\"24,13\" style=\"\"></path><path d=\"M 198.2 163.9 L 198.2 182.9 L 211.3 182.9\" id=\"17,14\" style=\"\"></path><path d=\"M 202.5 145.0 L 202.5 132.4 L 238.8 132.4\" id=\"16,15\" style=\"\"></path><path d=\"M 198.2 163.9 L 198.2 145.0 L 202.5 145.0\" id=\"17,16\" style=\"\"></path><path d=\"M 193.6 186.0 L 193.6 163.9 L 198.2 163.9\" id=\"18,17\" style=\"\"></path><path d=\"M 187.5 205.5 L 187.5 186.0 L 193.6 186.0\" id=\"19,18\" style=\"\"></path><path d=\"M 155.9 143.7 L 155.9 205.5 L 187.5 205.5\" id=\"23,19\" style=\"\"></path><path d=\"M 173.3 82.0 L 173.3 98.8 L 187.3 98.8\" id=\"22,20\" style=\"\"></path><path d=\"M 173.3 82.0 L 173.3 65.2 L 228.6 65.2\" id=\"22,21\" style=\"\"></path><path d=\"M 155.9 143.7 L 155.9 82.0 L 173.3 82.0\" id=\"23,22\" style=\"\"></path><path d=\"M 50.6 196.9 L 50.6 143.7 L 155.9 143.7\" id=\"24,23\" style=\"\"></path></g><g class=\"toytree-AlignEdges\" style=\"stroke:rgb(66.0%,66.0%,66.0%);stroke-opacity:0.75;stroke-dasharray:2,4;stroke-linecap:round;stroke-width:2\"><path d=\"M 245.2 258.5 L 171.1 258.5\"></path><path d=\"M 245.2 241.7 L 170.4 241.7\"></path><path d=\"M 245.2 224.9 L 220.7 224.9\"></path><path d=\"M 245.2 208.1 L 231.9 208.1\"></path><path d=\"M 245.2 191.3 L 231.0 191.3\"></path><path d=\"M 245.2 174.5 L 231.2 174.5\"></path><path d=\"M 245.2 157.6 L 236.6 157.6\"></path><path d=\"M 245.2 140.8 L 244.4 140.8\"></path><path d=\"M 245.2 124.0 L 245.2 124.0\"></path><path d=\"M 245.2 107.2 L 224.6 107.2\"></path><path d=\"M 245.2 90.4 L 226.7 90.4\"></path><path d=\"M 245.2 73.6 L 229.1 73.6\"></path><path d=\"M 245.2 56.7 L 228.9 56.7\"></path></g><g class=\"toytree-AdmixEdges\" style=\"fill:rgb(0.0%,0.0%,0.0%);fill-opacity:0.0;stroke:rgb(90.6%,54.1%,76.5%);stroke-opacity:0.6;font-size:14px;stroke-linecap:round;stroke-width:5\"></g><g class=\"toytree-Nodes\" style=\"fill:rgb(40.0%,76.1%,64.7%);fill-opacity:1.0;stroke:rgb(14.9%,14.9%,14.9%);stroke-opacity:1.0;stroke-width:1.5\"></g><g class=\"toytree-TipLabels\" style=\"fill:rgb(14.5%,14.5%,14.5%);fill-opacity:1.0;font-family:Helvetica;font-size:12px;font-weight:300;vertical-align:baseline;white-space:pre;stroke:none\"><g class=\"toytree-TipLabel\" transform=\"translate(245.182,258.531)\"><text x=\"15.0\" y=\"3.066\" style=\"fill:rgb(32.5%,51.8%,63.9%);fill-opacity:1.0\">32082_przewalskii</text></g><g class=\"toytree-TipLabel\" transform=\"translate(245.182,241.716)\"><text x=\"15.0\" y=\"3.066\" style=\"fill:rgb(32.5%,51.8%,63.9%);fill-opacity:1.0\">33588_przewalskii</text></g><g class=\"toytree-TipLabel\" transform=\"translate(245.182,224.901)\"><text x=\"15.0\" y=\"3.066\" style=\"fill:rgb(32.5%,51.8%,63.9%);fill-opacity:1.0\">33413_thamno</text></g><g class=\"toytree-TipLabel\" transform=\"translate(245.182,208.086)\"><text x=\"15.0\" y=\"3.066\" style=\"fill:rgb(32.5%,51.8%,63.9%);fill-opacity:1.0\">30556_thamno</text></g><g class=\"toytree-TipLabel\" transform=\"translate(245.182,191.27)\"><text x=\"15.0\" y=\"3.066\" style=\"fill:rgb(83.9%,33.3%,48.6%);fill-opacity:1.0\">40578_rex</text></g><g class=\"toytree-TipLabel\" transform=\"translate(245.182,174.455)\"><text x=\"15.0\" y=\"3.066\" style=\"fill:rgb(83.9%,33.3%,48.6%);fill-opacity:1.0\">35855_rex</text></g><g class=\"toytree-TipLabel\" transform=\"translate(245.182,157.64)\"><text x=\"15.0\" y=\"3.066\" style=\"fill:rgb(83.9%,33.3%,48.6%);fill-opacity:1.0\">35236_rex</text></g><g class=\"toytree-TipLabel\" transform=\"translate(245.182,140.825)\"><text x=\"15.0\" y=\"3.066\" style=\"fill:rgb(83.9%,33.3%,48.6%);fill-opacity:1.0\">39618_rex</text></g><g class=\"toytree-TipLabel\" transform=\"translate(245.182,124.01)\"><text x=\"15.0\" y=\"3.066\" style=\"fill:rgb(83.9%,33.3%,48.6%);fill-opacity:1.0\">38362_rex</text></g><g class=\"toytree-TipLabel\" transform=\"translate(245.182,107.194)\"><text x=\"15.0\" y=\"3.066\" style=\"fill:rgb(32.5%,51.8%,63.9%);fill-opacity:1.0\">29154_superba</text></g><g class=\"toytree-TipLabel\" transform=\"translate(245.182,90.3791)\"><text x=\"15.0\" y=\"3.066\" style=\"fill:rgb(32.5%,51.8%,63.9%);fill-opacity:1.0\">30686_cyathophylla</text></g><g class=\"toytree-TipLabel\" transform=\"translate(245.182,73.5638)\"><text x=\"15.0\" y=\"3.066\" style=\"fill:rgb(32.5%,51.8%,63.9%);fill-opacity:1.0\">41954_cyathophylloides</text></g><g class=\"toytree-TipLabel\" transform=\"translate(245.182,56.7486)\"><text x=\"15.0\" y=\"3.066\" style=\"fill:rgb(32.5%,51.8%,63.9%);fill-opacity:1.0\">41478_cyathophylloides</text></g></g></g></g></g></svg><div class=\"toyplot-behavior\"><script>(function()\n",
       "{\n",
       "var modules={};\n",
       "})();</script></div></div>"
      ]
     },
     "metadata": {},
     "output_type": "display_data"
    },
    {
     "data": {
      "text/html": [
       "<div class=\"toyplot\" id=\"t6025e7d345aa426fa197a018dc08fd2d\" style=\"text-align:center\"><svg class=\"toyplot-canvas-Canvas\" xmlns:toyplot=\"http://www.sandia.gov/toyplot\" xmlns:xlink=\"http://www.w3.org/1999/xlink\" xmlns=\"http://www.w3.org/2000/svg\" width=\"453.472px\" height=\"315.28px\" viewBox=\"0 0 453.472 315.28\" preserveAspectRatio=\"xMidYMid meet\" style=\"background-color:transparent;border-color:#292724;border-style:none;border-width:1.0;fill:rgb(16.1%,15.3%,14.1%);fill-opacity:1.0;font-family:Helvetica;font-size:12px;opacity:1.0;stroke:rgb(16.1%,15.3%,14.1%);stroke-opacity:1.0;stroke-width:1.0\" id=\"t2fcdee6ece994caaa45bbf4508924b39\"><g class=\"toyplot-coordinates-Cartesian\" id=\"t30c0713d02eb4f73bff2561b5916335b\"><clipPath id=\"t006bc4d4c0734166a5e552dfb2c5dab5\"><rect x=\"35.0\" y=\"35.0\" width=\"383.472\" height=\"245.27999999999997\"></rect></clipPath><g clip-path=\"url(#t006bc4d4c0734166a5e552dfb2c5dab5)\"><g class=\"toytree-mark-Toytree\" id=\"ta1ceda725f4546a8a4f558d1d3914368\"><g class=\"toytree-Edges\" style=\"stroke:rgb(14.5%,14.5%,14.5%);stroke-opacity:1.0;stroke-linecap:round;stroke-width:2.0;fill:none\"><path d=\"M 155.9 250.1 L 155.9 258.5 L 171.1 258.5\" id=\"13,0\" style=\"\"></path><path d=\"M 155.9 250.1 L 155.9 241.7 L 170.4 241.7\" id=\"13,1\" style=\"\"></path><path d=\"M 187.5 205.5 L 187.5 224.9 L 220.7 224.9\" id=\"19,2\" style=\"\"></path><path d=\"M 193.6 186.0 L 193.6 208.1 L 231.9 208.1\" id=\"18,3\" style=\"\"></path><path d=\"M 211.3 182.9 L 211.3 191.3 L 231.0 191.3\" id=\"14,4\" style=\"\"></path><path d=\"M 211.3 182.9 L 211.3 174.5 L 231.2 174.5\" id=\"14,5\" style=\"\"></path><path d=\"M 202.5 145.0 L 202.5 157.6 L 236.6 157.6\" id=\"16,6\" style=\"\"></path><path d=\"M 238.8 132.4 L 238.8 140.8 L 244.4 140.8\" id=\"15,7\" style=\"\"></path><path d=\"M 238.8 132.4 L 238.8 124.0 L 245.2 124.0\" id=\"15,8\" style=\"\"></path><path d=\"M 187.3 98.8 L 187.3 107.2 L 224.6 107.2\" id=\"20,9\" style=\"\"></path><path d=\"M 187.3 98.8 L 187.3 90.4 L 226.7 90.4\" id=\"20,10\" style=\"\"></path><path d=\"M 228.6 65.2 L 228.6 73.6 L 229.1 73.6\" id=\"21,11\" style=\"\"></path><path d=\"M 228.6 65.2 L 228.6 56.7 L 228.9 56.7\" id=\"21,12\" style=\"\"></path><path d=\"M 50.6 196.9 L 50.6 250.1 L 155.9 250.1\" id=\"24,13\" style=\"\"></path><path d=\"M 198.2 163.9 L 198.2 182.9 L 211.3 182.9\" id=\"17,14\" style=\"\"></path><path d=\"M 202.5 145.0 L 202.5 132.4 L 238.8 132.4\" id=\"16,15\" style=\"\"></path><path d=\"M 198.2 163.9 L 198.2 145.0 L 202.5 145.0\" id=\"17,16\" style=\"\"></path><path d=\"M 193.6 186.0 L 193.6 163.9 L 198.2 163.9\" id=\"18,17\" style=\"\"></path><path d=\"M 187.5 205.5 L 187.5 186.0 L 193.6 186.0\" id=\"19,18\" style=\"\"></path><path d=\"M 155.9 143.7 L 155.9 205.5 L 187.5 205.5\" id=\"23,19\" style=\"\"></path><path d=\"M 173.3 82.0 L 173.3 98.8 L 187.3 98.8\" id=\"22,20\" style=\"\"></path><path d=\"M 173.3 82.0 L 173.3 65.2 L 228.6 65.2\" id=\"22,21\" style=\"\"></path><path d=\"M 155.9 143.7 L 155.9 82.0 L 173.3 82.0\" id=\"23,22\" style=\"\"></path><path d=\"M 50.6 196.9 L 50.6 143.7 L 155.9 143.7\" id=\"24,23\" style=\"\"></path></g><g class=\"toytree-AlignEdges\" style=\"stroke:rgb(66.0%,66.0%,66.0%);stroke-opacity:0.75;stroke-dasharray:2,4;stroke-linecap:round;stroke-width:2\"><path d=\"M 245.2 258.5 L 171.1 258.5\"></path><path d=\"M 245.2 241.7 L 170.4 241.7\"></path><path d=\"M 245.2 224.9 L 220.7 224.9\"></path><path d=\"M 245.2 208.1 L 231.9 208.1\"></path><path d=\"M 245.2 191.3 L 231.0 191.3\"></path><path d=\"M 245.2 174.5 L 231.2 174.5\"></path><path d=\"M 245.2 157.6 L 236.6 157.6\"></path><path d=\"M 245.2 140.8 L 244.4 140.8\"></path><path d=\"M 245.2 124.0 L 245.2 124.0\"></path><path d=\"M 245.2 107.2 L 224.6 107.2\"></path><path d=\"M 245.2 90.4 L 226.7 90.4\"></path><path d=\"M 245.2 73.6 L 229.1 73.6\"></path><path d=\"M 245.2 56.7 L 228.9 56.7\"></path></g><g class=\"toytree-AdmixEdges\" style=\"fill:rgb(0.0%,0.0%,0.0%);fill-opacity:0.0;stroke:rgb(90.6%,54.1%,76.5%);stroke-opacity:0.6;font-size:14px;stroke-linecap:round;stroke-width:5\"></g><g class=\"toytree-Nodes\" style=\"fill:rgb(40.0%,76.1%,64.7%);fill-opacity:1.0;stroke:rgb(14.9%,14.9%,14.9%);stroke-opacity:1.0;stroke-width:1.5\"></g><g class=\"toytree-TipLabels\" style=\"fill:rgb(14.5%,14.5%,14.5%);fill-opacity:1.0;font-family:Helvetica;font-size:12px;font-weight:300;vertical-align:baseline;white-space:pre;stroke:none\"><g class=\"toytree-TipLabel\" transform=\"translate(245.182,258.531)\"><text x=\"15.0\" y=\"3.066\" style=\"fill:rgb(36.9%,31.0%,63.5%);fill-opacity:1.0\">32082_przewalskii</text></g><g class=\"toytree-TipLabel\" transform=\"translate(245.182,241.716)\"><text x=\"15.0\" y=\"3.066\" style=\"fill:rgb(22.5%,49.6%,72.4%);fill-opacity:1.0\">33588_przewalskii</text></g><g class=\"toytree-TipLabel\" transform=\"translate(245.182,224.901)\"><text x=\"15.0\" y=\"3.066\" style=\"fill:rgb(33.2%,68.5%,67.8%);fill-opacity:1.0\">33413_thamno</text></g><g class=\"toytree-TipLabel\" transform=\"translate(245.182,208.086)\"><text x=\"15.0\" y=\"3.066\" style=\"fill:rgb(53.5%,81.4%,64.5%);fill-opacity:1.0\">30556_thamno</text></g><g class=\"toytree-TipLabel\" transform=\"translate(245.182,191.27)\"><text x=\"15.0\" y=\"3.066\" style=\"fill:rgb(74.8%,89.8%,62.7%);fill-opacity:1.0\">40578_rex</text></g><g class=\"toytree-TipLabel\" transform=\"translate(245.182,174.455)\"><text x=\"15.0\" y=\"3.066\" style=\"fill:rgb(91.8%,96.7%,62.2%);fill-opacity:1.0\">35855_rex</text></g><g class=\"toytree-TipLabel\" transform=\"translate(245.182,157.64)\"><text x=\"15.0\" y=\"3.066\" style=\"fill:rgb(100.0%,100.0%,74.9%);fill-opacity:1.0\">35236_rex</text></g><g class=\"toytree-TipLabel\" transform=\"translate(245.182,140.825)\"><text x=\"15.0\" y=\"3.066\" style=\"fill:rgb(99.7%,89.9%,57.9%);fill-opacity:1.0\">39618_rex</text></g><g class=\"toytree-TipLabel\" transform=\"translate(245.182,124.01)\"><text x=\"15.0\" y=\"3.066\" style=\"fill:rgb(99.3%,74.8%,43.5%);fill-opacity:1.0\">38362_rex</text></g><g class=\"toytree-TipLabel\" transform=\"translate(245.182,107.194)\"><text x=\"15.0\" y=\"3.066\" style=\"fill:rgb(97.5%,55.5%,32.2%);fill-opacity:1.0\">29154_superba</text></g><g class=\"toytree-TipLabel\" transform=\"translate(245.182,90.3791)\"><text x=\"15.0\" y=\"3.066\" style=\"fill:rgb(91.6%,36.6%,27.8%);fill-opacity:1.0\">30686_cyathophylla</text></g><g class=\"toytree-TipLabel\" transform=\"translate(245.182,73.5638)\"><text x=\"15.0\" y=\"3.066\" style=\"fill:rgb(79.9%,20.3%,30.1%);fill-opacity:1.0\">41954_cyathophylloides</text></g><g class=\"toytree-TipLabel\" transform=\"translate(245.182,56.7486)\"><text x=\"15.0\" y=\"3.066\" style=\"fill:rgb(62.0%,0.4%,25.9%);fill-opacity:1.0\">41478_cyathophylloides</text></g></g></g></g></g></svg><div class=\"toyplot-behavior\"><script>(function()\n",
       "{\n",
       "var modules={};\n",
       "})();</script></div></div>"
      ]
     },
     "metadata": {},
     "output_type": "display_data"
    }
   ],
   "source": [
    "# use color from favored toytree color scheme\n",
    "rtre.draw(\n",
    "    tip_labels_align=True, \n",
    "    tip_labels_colors=\"orange\",\n",
    ");\n",
    "\n",
    "# enter a list of colors by name\n",
    "rtre.draw(\n",
    "    tip_labels_align=True, \n",
    "    tip_labels_colors=(['goldenrod'] * 11) + ([\"mediumseagreen\"] * 2),\n",
    ");\n",
    "\n",
    "# make list of hex color values based on tip labels\n",
    "colorlist = [\"#d6557c\" if \"rex\" in tip else \"#5384a3\" for tip in rtre.get_tip_labels()]\n",
    "rtre.draw(\n",
    "    tip_labels_align=True, \n",
    "    tip_labels_colors=colorlist\n",
    ");\n",
    "\n",
    "# use \"tuple format\" to colomap a tree data feature\n",
    "rtre.draw(\n",
    "    tip_labels_align=True, \n",
    "    tip_labels_colors=(\"idx\", \"Spectral\"),\n",
    ");"
   ]
  },
  {
   "cell_type": "markdown",
   "metadata": {},
   "source": [
    "#### tip_labels_style\n",
    "The `tip_labels_style` dictionary is used to apply CSS styling to all tip labels. Note: fill color arguments here can be overriden by `tip_colors`.\n",
    "\n",
    "**Type:** dictionary of (mostly) CSS styles.  \n",
    "**Allowed:** See the dict of supported options below.  \n",
    "**Default:** Defaults are shown below.  \n",
    "**Description:** Modify the font, color and opacity of tip labels.\n"
   ]
  },
  {
   "cell_type": "code",
   "execution_count": 32,
   "metadata": {},
   "outputs": [
    {
     "data": {
      "text/plain": [
       "{\n",
       "    fill: (0.145, 0.145, 0.145, 1.0),\n",
       "    fill_opacity: None,\n",
       "    font_size: 12,\n",
       "    font_weight: 300,\n",
       "    font_family: 'Helvetica',\n",
       "    anchor_shift: 15,\n",
       "    baseline_shift: 0,\n",
       "    text_anchor: 'start',\n",
       "}"
      ]
     },
     "execution_count": 32,
     "metadata": {},
     "output_type": "execute_result"
    }
   ],
   "source": [
    "# you can view the default options here\n",
    "rtre.style.tip_labels_style"
   ]
  },
  {
   "cell_type": "code",
   "execution_count": 33,
   "metadata": {},
   "outputs": [
    {
     "data": {
      "text/html": [
       "<div class=\"toyplot\" id=\"t3de6112277264c5bb7d03fe04dd4ebf9\" style=\"text-align:center\"><svg class=\"toyplot-canvas-Canvas\" xmlns:toyplot=\"http://www.sandia.gov/toyplot\" xmlns:xlink=\"http://www.w3.org/1999/xlink\" xmlns=\"http://www.w3.org/2000/svg\" width=\"567.8399999999999px\" height=\"369.09999999999997px\" viewBox=\"0 0 567.8399999999999 369.09999999999997\" preserveAspectRatio=\"xMidYMid meet\" style=\"background-color:transparent;border-color:#292724;border-style:none;border-width:1.0;fill:rgb(16.1%,15.3%,14.1%);fill-opacity:1.0;font-family:Helvetica;font-size:12px;opacity:1.0;stroke:rgb(16.1%,15.3%,14.1%);stroke-opacity:1.0;stroke-width:1.0\" id=\"t282eb0316fb044e78f7bf7cce0f5d889\"><g class=\"toyplot-coordinates-Cartesian\" id=\"t4a279e1e06284a88bc74d0996a59b95c\"><clipPath id=\"t5375295a34ed4516a5e1d993a2145989\"><rect x=\"35.0\" y=\"35.0\" width=\"497.8399999999999\" height=\"299.09999999999997\"></rect></clipPath><g clip-path=\"url(#t5375295a34ed4516a5e1d993a2145989)\"><g class=\"toytree-mark-Toytree\" id=\"t2c2734d60b9441be827bbaa474f5e807\"><g class=\"toytree-Edges\" style=\"stroke:rgb(14.5%,14.5%,14.5%);stroke-opacity:1.0;stroke-linecap:round;stroke-width:2.0;fill:none\"><path d=\"M 192.9 300.2 L 192.9 310.7 L 213.5 310.7\" id=\"13,0\" style=\"\"></path><path d=\"M 192.9 300.2 L 192.9 289.6 L 212.5 289.6\" id=\"13,1\" style=\"\"></path><path d=\"M 235.7 244.3 L 235.7 268.6 L 280.5 268.6\" id=\"19,2\" style=\"\"></path><path d=\"M 243.9 220.0 L 243.9 247.6 L 295.7 247.6\" id=\"18,3\" style=\"\"></path><path d=\"M 267.8 216.1 L 267.8 226.6 L 294.4 226.6\" id=\"14,4\" style=\"\"></path><path d=\"M 267.8 216.1 L 267.8 205.6 L 294.7 205.6\" id=\"14,5\" style=\"\"></path><path d=\"M 255.9 168.8 L 255.9 184.5 L 302.0 184.5\" id=\"16,6\" style=\"\"></path><path d=\"M 304.9 153.0 L 304.9 163.5 L 312.6 163.5\" id=\"15,7\" style=\"\"></path><path d=\"M 304.9 153.0 L 304.9 142.5 L 313.6 142.5\" id=\"15,8\" style=\"\"></path><path d=\"M 235.4 111.0 L 235.4 121.5 L 285.7 121.5\" id=\"20,9\" style=\"\"></path><path d=\"M 235.4 111.0 L 235.4 100.5 L 288.6 100.5\" id=\"20,10\" style=\"\"></path><path d=\"M 291.2 68.9 L 291.2 79.5 L 291.9 79.5\" id=\"21,11\" style=\"\"></path><path d=\"M 291.2 68.9 L 291.2 58.4 L 291.6 58.4\" id=\"21,12\" style=\"\"></path><path d=\"M 50.6 233.6 L 50.6 300.2 L 192.9 300.2\" id=\"24,13\" style=\"\"></path><path d=\"M 250.1 192.4 L 250.1 216.1 L 267.8 216.1\" id=\"17,14\" style=\"\"></path><path d=\"M 255.9 168.8 L 255.9 153.0 L 304.9 153.0\" id=\"16,15\" style=\"\"></path><path d=\"M 250.1 192.4 L 250.1 168.8 L 255.9 168.8\" id=\"17,16\" style=\"\"></path><path d=\"M 243.9 220.0 L 243.9 192.4 L 250.1 192.4\" id=\"18,17\" style=\"\"></path><path d=\"M 235.7 244.3 L 235.7 220.0 L 243.9 220.0\" id=\"19,18\" style=\"\"></path><path d=\"M 192.9 167.1 L 192.9 244.3 L 235.7 244.3\" id=\"23,19\" style=\"\"></path><path d=\"M 216.5 90.0 L 216.5 111.0 L 235.4 111.0\" id=\"22,20\" style=\"\"></path><path d=\"M 216.5 90.0 L 216.5 68.9 L 291.2 68.9\" id=\"22,21\" style=\"\"></path><path d=\"M 192.9 167.1 L 192.9 90.0 L 216.5 90.0\" id=\"23,22\" style=\"\"></path><path d=\"M 50.6 233.6 L 50.6 167.1 L 192.9 167.1\" id=\"24,23\" style=\"\"></path></g><g class=\"toytree-AdmixEdges\" style=\"fill:rgb(0.0%,0.0%,0.0%);fill-opacity:0.0;stroke:rgb(90.6%,54.1%,76.5%);stroke-opacity:0.6;font-size:14px;stroke-linecap:round;stroke-width:5\"></g><g class=\"toytree-Nodes\" style=\"fill:rgb(40.0%,76.1%,64.7%);fill-opacity:1.0;stroke:rgb(14.9%,14.9%,14.9%);stroke-opacity:1.0;stroke-width:1.5\"></g><g class=\"toytree-TipLabels\" style=\"fill:rgb(100.0%,0.0%,0.0%);fill-opacity:1.0;font-family:Helvetica;font-size:15px;font-weight:300;vertical-align:baseline;white-space:pre;stroke:none\"><g class=\"toytree-TipLabel\" transform=\"translate(213.482,310.664)\"><text x=\"40.0\" y=\"3.8324999999999996\" style=\"fill:rgb(100.0%,0.0%,0.0%);fill-opacity:1.0\">32082_przewalskii</text></g><g class=\"toytree-TipLabel\" transform=\"translate(212.515,289.645)\"><text x=\"40.0\" y=\"3.8324999999999996\" style=\"fill:rgb(100.0%,0.0%,0.0%);fill-opacity:1.0\">33588_przewalskii</text></g><g class=\"toytree-TipLabel\" transform=\"translate(280.518,268.626)\"><text x=\"40.0\" y=\"3.8324999999999996\" style=\"fill:rgb(100.0%,0.0%,0.0%);fill-opacity:1.0\">33413_thamno</text></g><g class=\"toytree-TipLabel\" transform=\"translate(295.694,247.607)\"><text x=\"40.0\" y=\"3.8324999999999996\" style=\"fill:rgb(100.0%,0.0%,0.0%);fill-opacity:1.0\">30556_thamno</text></g><g class=\"toytree-TipLabel\" transform=\"translate(294.387,226.588)\"><text x=\"40.0\" y=\"3.8324999999999996\" style=\"fill:rgb(100.0%,0.0%,0.0%);fill-opacity:1.0\">40578_rex</text></g><g class=\"toytree-TipLabel\" transform=\"translate(294.748,205.569)\"><text x=\"40.0\" y=\"3.8324999999999996\" style=\"fill:rgb(100.0%,0.0%,0.0%);fill-opacity:1.0\">35855_rex</text></g><g class=\"toytree-TipLabel\" transform=\"translate(302.006,184.55)\"><text x=\"40.0\" y=\"3.8324999999999996\" style=\"fill:rgb(100.0%,0.0%,0.0%);fill-opacity:1.0\">35236_rex</text></g><g class=\"toytree-TipLabel\" transform=\"translate(312.577,163.531)\"><text x=\"40.0\" y=\"3.8324999999999996\" style=\"fill:rgb(100.0%,0.0%,0.0%);fill-opacity:1.0\">39618_rex</text></g><g class=\"toytree-TipLabel\" transform=\"translate(313.609,142.512)\"><text x=\"40.0\" y=\"3.8324999999999996\" style=\"fill:rgb(100.0%,0.0%,0.0%);fill-opacity:1.0\">38362_rex</text></g><g class=\"toytree-TipLabel\" transform=\"translate(285.738,121.493)\"><text x=\"40.0\" y=\"3.8324999999999996\" style=\"fill:rgb(100.0%,0.0%,0.0%);fill-opacity:1.0\">29154_superba</text></g><g class=\"toytree-TipLabel\" transform=\"translate(288.572,100.474)\"><text x=\"40.0\" y=\"3.8324999999999996\" style=\"fill:rgb(100.0%,0.0%,0.0%);fill-opacity:1.0\">30686_cyathophylla</text></g><g class=\"toytree-TipLabel\" transform=\"translate(291.902,79.4548)\"><text x=\"40.0\" y=\"3.8324999999999996\" style=\"fill:rgb(100.0%,0.0%,0.0%);fill-opacity:1.0\">41954_cyathophylloides</text></g><g class=\"toytree-TipLabel\" transform=\"translate(291.616,58.4357)\"><text x=\"40.0\" y=\"3.8324999999999996\" style=\"fill:rgb(100.0%,0.0%,0.0%);fill-opacity:1.0\">41478_cyathophylloides</text></g></g></g></g></g></svg><div class=\"toyplot-behavior\"><script>(function()\n",
       "{\n",
       "var modules={};\n",
       "})();</script></div></div>"
      ]
     },
     "metadata": {},
     "output_type": "display_data"
    }
   ],
   "source": [
    "rtre.draw(\n",
    "    tip_labels_style={\n",
    "        \"fill\": \"red\", \n",
    "        \"font-size\": \"15px\", \n",
    "        \"anchor-shift\": \"40px\", \n",
    "    }\n",
    ");"
   ]
  },
  {
   "attachments": {},
   "cell_type": "markdown",
   "metadata": {},
   "source": [
    "### Node labels styling\n",
    "\n",
    "#### node_labels\n",
    "The `node_labels` argument is used to provide labels at node positions, and is often used to show support or trait values. If node markers are plotted the labels are drawn on top of the node markers which makes them easier to see. \n",
    "\n",
    "**Type:**  boolean, str, or list of strings or ints.  \n",
    "**Allowed:**  True, False, string name of features (e.g., \"idx\", \"support\"), or list that is the same length as the number of nodes.   \n",
    "**Default:** False    \n",
    "**Description:**  If True then the node index labels are used. "
   ]
  },
  {
   "cell_type": "code",
   "execution_count": 34,
   "metadata": {},
   "outputs": [
    {
     "data": {
      "text/html": [
       "<div class=\"toyplot\" id=\"t37dc2b7219834549903878ec4293f819\" style=\"text-align:center\"><svg class=\"toyplot-canvas-Canvas\" xmlns:toyplot=\"http://www.sandia.gov/toyplot\" xmlns:xlink=\"http://www.w3.org/1999/xlink\" xmlns=\"http://www.w3.org/2000/svg\" width=\"457.47599999999994px\" height=\"315.28px\" viewBox=\"0 0 457.47599999999994 315.28\" preserveAspectRatio=\"xMidYMid meet\" style=\"background-color:transparent;border-color:#292724;border-style:none;border-width:1.0;fill:rgb(16.1%,15.3%,14.1%);fill-opacity:1.0;font-family:Helvetica;font-size:12px;opacity:1.0;stroke:rgb(16.1%,15.3%,14.1%);stroke-opacity:1.0;stroke-width:1.0\" id=\"t7b9835f752cc4e12b549e959c7a02379\"><g class=\"toyplot-coordinates-Cartesian\" id=\"tde7ca9f8c29144efb1f35c8372377e0f\"><clipPath id=\"t3c5202162a764381a8f30544c483c8bf\"><rect x=\"35.0\" y=\"35.0\" width=\"387.47599999999994\" height=\"245.27999999999997\"></rect></clipPath><g clip-path=\"url(#t3c5202162a764381a8f30544c483c8bf)\"><g class=\"toytree-mark-Toytree\" id=\"t2d3bd4d4d3c8422db2744b25b15fce75\"><g class=\"toytree-Edges\" style=\"stroke:rgb(14.5%,14.5%,14.5%);stroke-opacity:1.0;stroke-linecap:round;stroke-width:2.0;fill:none\"><path d=\"M 164.3 250.1 L 164.3 258.5 L 180.4 258.5\" id=\"13,0\" style=\"\"></path><path d=\"M 164.3 250.1 L 164.3 241.7 L 179.7 241.7\" id=\"13,1\" style=\"\"></path><path d=\"M 197.8 205.5 L 197.8 224.9 L 232.9 224.9\" id=\"19,2\" style=\"\"></path><path d=\"M 204.2 186.0 L 204.2 208.1 L 244.8 208.1\" id=\"18,3\" style=\"\"></path><path d=\"M 223.0 182.9 L 223.0 191.3 L 243.8 191.3\" id=\"14,4\" style=\"\"></path><path d=\"M 223.0 182.9 L 223.0 174.5 L 244.1 174.5\" id=\"14,5\" style=\"\"></path><path d=\"M 213.7 145.0 L 213.7 157.6 L 249.8 157.6\" id=\"16,6\" style=\"\"></path><path d=\"M 252.1 132.4 L 252.1 140.8 L 258.0 140.8\" id=\"15,7\" style=\"\"></path><path d=\"M 252.1 132.4 L 252.1 124.0 L 258.8 124.0\" id=\"15,8\" style=\"\"></path><path d=\"M 197.6 98.8 L 197.6 107.2 L 237.0 107.2\" id=\"20,9\" style=\"\"></path><path d=\"M 197.6 98.8 L 197.6 90.4 L 239.2 90.4\" id=\"20,10\" style=\"\"></path><path d=\"M 241.3 65.2 L 241.3 73.6 L 241.8 73.6\" id=\"21,11\" style=\"\"></path><path d=\"M 241.3 65.2 L 241.3 56.7 L 241.6 56.7\" id=\"21,12\" style=\"\"></path><path d=\"M 52.9 196.9 L 52.9 250.1 L 164.3 250.1\" id=\"24,13\" style=\"\"></path><path d=\"M 209.1 163.9 L 209.1 182.9 L 223.0 182.9\" id=\"17,14\" style=\"\"></path><path d=\"M 213.7 145.0 L 213.7 132.4 L 252.1 132.4\" id=\"16,15\" style=\"\"></path><path d=\"M 209.1 163.9 L 209.1 145.0 L 213.7 145.0\" id=\"17,16\" style=\"\"></path><path d=\"M 204.2 186.0 L 204.2 163.9 L 209.1 163.9\" id=\"18,17\" style=\"\"></path><path d=\"M 197.8 205.5 L 197.8 186.0 L 204.2 186.0\" id=\"19,18\" style=\"\"></path><path d=\"M 164.3 143.7 L 164.3 205.5 L 197.8 205.5\" id=\"23,19\" style=\"\"></path><path d=\"M 182.8 82.0 L 182.8 98.8 L 197.6 98.8\" id=\"22,20\" style=\"\"></path><path d=\"M 182.8 82.0 L 182.8 65.2 L 241.3 65.2\" id=\"22,21\" style=\"\"></path><path d=\"M 164.3 143.7 L 164.3 82.0 L 182.8 82.0\" id=\"23,22\" style=\"\"></path><path d=\"M 52.9 196.9 L 52.9 143.7 L 164.3 143.7\" id=\"24,23\" style=\"\"></path></g><g class=\"toytree-AdmixEdges\" style=\"fill:rgb(0.0%,0.0%,0.0%);fill-opacity:0.0;stroke:rgb(90.6%,54.1%,76.5%);stroke-opacity:0.6;font-size:14px;stroke-linecap:round;stroke-width:5\"></g><g class=\"toytree-Nodes\" style=\"fill:rgb(40.0%,76.1%,64.7%);fill-opacity:1.0;stroke:rgb(14.9%,14.9%,14.9%);stroke-opacity:1.0;stroke-width:1.5\"></g><g class=\"toytree-NodeLabels\" style=\"font-family:Helvetica;font-size:9px;font-weight:300;vertical-align:baseline;white-space:pre;stroke:none\"><g class=\"toytree-NodeLabel\" transform=\"translate(164.334,250.124)\"><text x=\"-5.0040000000000004\" y=\"2.2995\" style=\"fill:rgb(14.5%,14.5%,14.5%);fill-opacity:1.0\">13</text></g><g class=\"toytree-NodeLabel\" transform=\"translate(222.953,182.863)\"><text x=\"-5.0040000000000004\" y=\"2.2995\" style=\"fill:rgb(14.5%,14.5%,14.5%);fill-opacity:1.0\">14</text></g><g class=\"toytree-NodeLabel\" transform=\"translate(252.058,132.417)\"><text x=\"-5.0040000000000004\" y=\"2.2995\" style=\"fill:rgb(14.5%,14.5%,14.5%);fill-opacity:1.0\">15</text></g><g class=\"toytree-NodeLabel\" transform=\"translate(213.688,145.029)\"><text x=\"-5.0040000000000004\" y=\"2.2995\" style=\"fill:rgb(14.5%,14.5%,14.5%);fill-opacity:1.0\">16</text></g><g class=\"toytree-NodeLabel\" transform=\"translate(209.097,163.946)\"><text x=\"-5.0040000000000004\" y=\"2.2995\" style=\"fill:rgb(14.5%,14.5%,14.5%);fill-opacity:1.0\">17</text></g><g class=\"toytree-NodeLabel\" transform=\"translate(204.23,186.016)\"><text x=\"-5.0040000000000004\" y=\"2.2995\" style=\"fill:rgb(14.5%,14.5%,14.5%);fill-opacity:1.0\">18</text></g><g class=\"toytree-NodeLabel\" transform=\"translate(197.807,205.458)\"><text x=\"-5.0040000000000004\" y=\"2.2995\" style=\"fill:rgb(14.5%,14.5%,14.5%);fill-opacity:1.0\">19</text></g><g class=\"toytree-NodeLabel\" transform=\"translate(197.614,98.7867)\"><text x=\"-5.0040000000000004\" y=\"2.2995\" style=\"fill:rgb(14.5%,14.5%,14.5%);fill-opacity:1.0\">20</text></g><g class=\"toytree-NodeLabel\" transform=\"translate(241.296,65.1562)\"><text x=\"-5.0040000000000004\" y=\"2.2995\" style=\"fill:rgb(14.5%,14.5%,14.5%);fill-opacity:1.0\">21</text></g><g class=\"toytree-NodeLabel\" transform=\"translate(182.826,81.9714)\"><text x=\"-5.0040000000000004\" y=\"2.2995\" style=\"fill:rgb(14.5%,14.5%,14.5%);fill-opacity:1.0\">22</text></g><g class=\"toytree-NodeLabel\" transform=\"translate(164.334,143.715)\"><text x=\"-5.0040000000000004\" y=\"2.2995\" style=\"fill:rgb(14.5%,14.5%,14.5%);fill-opacity:1.0\">23</text></g><g class=\"toytree-NodeLabel\" transform=\"translate(52.8831,196.919)\"><text x=\"-5.0040000000000004\" y=\"2.2995\" style=\"fill:rgb(14.5%,14.5%,14.5%);fill-opacity:1.0\">24</text></g></g><g class=\"toytree-TipLabels\" style=\"fill:rgb(14.5%,14.5%,14.5%);fill-opacity:1.0;font-family:Helvetica;font-size:12px;font-weight:300;vertical-align:baseline;white-space:pre;stroke:none\"><g class=\"toytree-TipLabel\" transform=\"translate(180.447,258.531)\"><text x=\"15.0\" y=\"3.066\" style=\"fill:rgb(14.5%,14.5%,14.5%);fill-opacity:1.0\">32082_przewalskii</text></g><g class=\"toytree-TipLabel\" transform=\"translate(179.689,241.716)\"><text x=\"15.0\" y=\"3.066\" style=\"fill:rgb(14.5%,14.5%,14.5%);fill-opacity:1.0\">33588_przewalskii</text></g><g class=\"toytree-TipLabel\" transform=\"translate(232.935,224.901)\"><text x=\"15.0\" y=\"3.066\" style=\"fill:rgb(14.5%,14.5%,14.5%);fill-opacity:1.0\">33413_thamno</text></g><g class=\"toytree-TipLabel\" transform=\"translate(244.817,208.086)\"><text x=\"15.0\" y=\"3.066\" style=\"fill:rgb(14.5%,14.5%,14.5%);fill-opacity:1.0\">30556_thamno</text></g><g class=\"toytree-TipLabel\" transform=\"translate(243.793,191.27)\"><text x=\"15.0\" y=\"3.066\" style=\"fill:rgb(14.5%,14.5%,14.5%);fill-opacity:1.0\">40578_rex</text></g><g class=\"toytree-TipLabel\" transform=\"translate(244.077,174.455)\"><text x=\"15.0\" y=\"3.066\" style=\"fill:rgb(14.5%,14.5%,14.5%);fill-opacity:1.0\">35855_rex</text></g><g class=\"toytree-TipLabel\" transform=\"translate(249.759,157.64)\"><text x=\"15.0\" y=\"3.066\" style=\"fill:rgb(14.5%,14.5%,14.5%);fill-opacity:1.0\">35236_rex</text></g><g class=\"toytree-TipLabel\" transform=\"translate(258.036,140.825)\"><text x=\"15.0\" y=\"3.066\" style=\"fill:rgb(14.5%,14.5%,14.5%);fill-opacity:1.0\">39618_rex</text></g><g class=\"toytree-TipLabel\" transform=\"translate(258.844,124.01)\"><text x=\"15.0\" y=\"3.066\" style=\"fill:rgb(14.5%,14.5%,14.5%);fill-opacity:1.0\">38362_rex</text></g><g class=\"toytree-TipLabel\" transform=\"translate(237.022,107.194)\"><text x=\"15.0\" y=\"3.066\" style=\"fill:rgb(14.5%,14.5%,14.5%);fill-opacity:1.0\">29154_superba</text></g><g class=\"toytree-TipLabel\" transform=\"translate(239.24,90.3791)\"><text x=\"15.0\" y=\"3.066\" style=\"fill:rgb(14.5%,14.5%,14.5%);fill-opacity:1.0\">30686_cyathophylla</text></g><g class=\"toytree-TipLabel\" transform=\"translate(241.848,73.5638)\"><text x=\"15.0\" y=\"3.066\" style=\"fill:rgb(14.5%,14.5%,14.5%);fill-opacity:1.0\">41954_cyathophylloides</text></g><g class=\"toytree-TipLabel\" transform=\"translate(241.624,56.7486)\"><text x=\"15.0\" y=\"3.066\" style=\"fill:rgb(14.5%,14.5%,14.5%);fill-opacity:1.0\">41478_cyathophylloides</text></g></g></g></g></g></svg><div class=\"toyplot-behavior\"><script>(function()\n",
       "{\n",
       "var modules={};\n",
       "})();</script></div></div>"
      ]
     },
     "metadata": {},
     "output_type": "display_data"
    }
   ],
   "source": [
    "# shows node labels (default feature to show is 'idx' labels)\n",
    "rtre.draw(node_labels=True);"
   ]
  },
  {
   "cell_type": "code",
   "execution_count": 35,
   "metadata": {},
   "outputs": [
    {
     "data": {
      "text/html": [
       "<div class=\"toyplot\" id=\"t09a629d817dd417481a18e4b62c98952\" style=\"text-align:center\"><svg class=\"toyplot-canvas-Canvas\" xmlns:toyplot=\"http://www.sandia.gov/toyplot\" xmlns:xlink=\"http://www.w3.org/1999/xlink\" xmlns=\"http://www.w3.org/2000/svg\" width=\"453.472px\" height=\"315.28px\" viewBox=\"0 0 453.472 315.28\" preserveAspectRatio=\"xMidYMid meet\" style=\"background-color:transparent;border-color:#292724;border-style:none;border-width:1.0;fill:rgb(16.1%,15.3%,14.1%);fill-opacity:1.0;font-family:Helvetica;font-size:12px;opacity:1.0;stroke:rgb(16.1%,15.3%,14.1%);stroke-opacity:1.0;stroke-width:1.0\" id=\"t45f4d222da6b4ae880f7f5a3c6b86262\"><g class=\"toyplot-coordinates-Cartesian\" id=\"t1fbb72b5fd3e45bcad4848f0b73c6b16\"><clipPath id=\"tbd9e65163d36487cbaeca8d5fceda214\"><rect x=\"35.0\" y=\"35.0\" width=\"383.472\" height=\"245.27999999999997\"></rect></clipPath><g clip-path=\"url(#tbd9e65163d36487cbaeca8d5fceda214)\"><g class=\"toytree-mark-Toytree\" id=\"t3c8fc143a6574893a9994e3dee2ce35f\"><g class=\"toytree-Edges\" style=\"stroke:rgb(14.5%,14.5%,14.5%);stroke-opacity:1.0;stroke-linecap:round;stroke-width:2.0;fill:none\"><path d=\"M 160.9 250.1 L 160.9 258.5 L 176.9 258.5\" id=\"13,0\" style=\"\"></path><path d=\"M 160.9 250.1 L 160.9 241.7 L 176.1 241.7\" id=\"13,1\" style=\"\"></path><path d=\"M 194.0 205.5 L 194.0 224.9 L 228.8 224.9\" id=\"19,2\" style=\"\"></path><path d=\"M 200.4 186.0 L 200.4 208.1 L 240.6 208.1\" id=\"18,3\" style=\"\"></path><path d=\"M 218.9 182.9 L 218.9 191.3 L 239.6 191.3\" id=\"14,4\" style=\"\"></path><path d=\"M 218.9 182.9 L 218.9 174.5 L 239.9 174.5\" id=\"14,5\" style=\"\"></path><path d=\"M 209.8 145.0 L 209.8 157.6 L 245.5 157.6\" id=\"16,6\" style=\"\"></path><path d=\"M 247.8 132.4 L 247.8 140.8 L 253.7 140.8\" id=\"15,7\" style=\"\"></path><path d=\"M 247.8 132.4 L 247.8 124.0 L 254.5 124.0\" id=\"15,8\" style=\"\"></path><path d=\"M 193.9 98.8 L 193.9 107.2 L 232.9 107.2\" id=\"20,9\" style=\"\"></path><path d=\"M 193.9 98.8 L 193.9 90.4 L 235.1 90.4\" id=\"20,10\" style=\"\"></path><path d=\"M 237.1 65.2 L 237.1 73.6 L 237.6 73.6\" id=\"21,11\" style=\"\"></path><path d=\"M 237.1 65.2 L 237.1 56.7 L 237.4 56.7\" id=\"21,12\" style=\"\"></path><path d=\"M 50.6 196.9 L 50.6 250.1 L 160.9 250.1\" id=\"24,13\" style=\"\"></path><path d=\"M 205.2 163.9 L 205.2 182.9 L 218.9 182.9\" id=\"17,14\" style=\"\"></path><path d=\"M 209.8 145.0 L 209.8 132.4 L 247.8 132.4\" id=\"16,15\" style=\"\"></path><path d=\"M 205.2 163.9 L 205.2 145.0 L 209.8 145.0\" id=\"17,16\" style=\"\"></path><path d=\"M 200.4 186.0 L 200.4 163.9 L 205.2 163.9\" id=\"18,17\" style=\"\"></path><path d=\"M 194.0 205.5 L 194.0 186.0 L 200.4 186.0\" id=\"19,18\" style=\"\"></path><path d=\"M 160.9 143.7 L 160.9 205.5 L 194.0 205.5\" id=\"23,19\" style=\"\"></path><path d=\"M 179.2 82.0 L 179.2 98.8 L 193.9 98.8\" id=\"22,20\" style=\"\"></path><path d=\"M 179.2 82.0 L 179.2 65.2 L 237.1 65.2\" id=\"22,21\" style=\"\"></path><path d=\"M 160.9 143.7 L 160.9 82.0 L 179.2 82.0\" id=\"23,22\" style=\"\"></path><path d=\"M 50.6 196.9 L 50.6 143.7 L 160.9 143.7\" id=\"24,23\" style=\"\"></path></g><g class=\"toytree-AdmixEdges\" style=\"fill:rgb(0.0%,0.0%,0.0%);fill-opacity:0.0;stroke:rgb(90.6%,54.1%,76.5%);stroke-opacity:0.6;font-size:14px;stroke-linecap:round;stroke-width:5\"></g><g class=\"toytree-Nodes\" style=\"fill:rgb(40.0%,76.1%,64.7%);fill-opacity:1.0;stroke:rgb(14.9%,14.9%,14.9%);stroke-opacity:1.0;stroke-width:1.5\"></g><g class=\"toytree-TipLabels\" style=\"fill:rgb(14.5%,14.5%,14.5%);fill-opacity:1.0;font-family:Helvetica;font-size:12px;font-weight:300;vertical-align:baseline;white-space:pre;stroke:none\"><g class=\"toytree-TipLabel\" transform=\"translate(176.861,258.531)\"><text x=\"15.0\" y=\"3.066\" style=\"fill:rgb(14.5%,14.5%,14.5%);fill-opacity:1.0\">32082_przewalskii</text></g><g class=\"toytree-TipLabel\" transform=\"translate(176.111,241.716)\"><text x=\"15.0\" y=\"3.066\" style=\"fill:rgb(14.5%,14.5%,14.5%);fill-opacity:1.0\">33588_przewalskii</text></g><g class=\"toytree-TipLabel\" transform=\"translate(228.823,224.901)\"><text x=\"15.0\" y=\"3.066\" style=\"fill:rgb(14.5%,14.5%,14.5%);fill-opacity:1.0\">33413_thamno</text></g><g class=\"toytree-TipLabel\" transform=\"translate(240.587,208.086)\"><text x=\"15.0\" y=\"3.066\" style=\"fill:rgb(14.5%,14.5%,14.5%);fill-opacity:1.0\">30556_thamno</text></g><g class=\"toytree-TipLabel\" transform=\"translate(239.573,191.27)\"><text x=\"15.0\" y=\"3.066\" style=\"fill:rgb(14.5%,14.5%,14.5%);fill-opacity:1.0\">40578_rex</text></g><g class=\"toytree-TipLabel\" transform=\"translate(239.853,174.455)\"><text x=\"15.0\" y=\"3.066\" style=\"fill:rgb(14.5%,14.5%,14.5%);fill-opacity:1.0\">35855_rex</text></g><g class=\"toytree-TipLabel\" transform=\"translate(245.479,157.64)\"><text x=\"15.0\" y=\"3.066\" style=\"fill:rgb(14.5%,14.5%,14.5%);fill-opacity:1.0\">35236_rex</text></g><g class=\"toytree-TipLabel\" transform=\"translate(253.673,140.825)\"><text x=\"15.0\" y=\"3.066\" style=\"fill:rgb(14.5%,14.5%,14.5%);fill-opacity:1.0\">39618_rex</text></g><g class=\"toytree-TipLabel\" transform=\"translate(254.473,124.01)\"><text x=\"15.0\" y=\"3.066\" style=\"fill:rgb(14.5%,14.5%,14.5%);fill-opacity:1.0\">38362_rex</text></g><g class=\"toytree-TipLabel\" transform=\"translate(232.869,107.194)\"><text x=\"15.0\" y=\"3.066\" style=\"fill:rgb(14.5%,14.5%,14.5%);fill-opacity:1.0\">29154_superba</text></g><g class=\"toytree-TipLabel\" transform=\"translate(235.066,90.3791)\"><text x=\"15.0\" y=\"3.066\" style=\"fill:rgb(14.5%,14.5%,14.5%);fill-opacity:1.0\">30686_cyathophylla</text></g><g class=\"toytree-TipLabel\" transform=\"translate(237.647,73.5638)\"><text x=\"15.0\" y=\"3.066\" style=\"fill:rgb(14.5%,14.5%,14.5%);fill-opacity:1.0\">41954_cyathophylloides</text></g><g class=\"toytree-TipLabel\" transform=\"translate(237.425,56.7486)\"><text x=\"15.0\" y=\"3.066\" style=\"fill:rgb(14.5%,14.5%,14.5%);fill-opacity:1.0\">41478_cyathophylloides</text></g></g></g></g></g></svg><div class=\"toyplot-behavior\"><script>(function()\n",
       "{\n",
       "var modules={};\n",
       "})();</script></div></div>"
      ]
     },
     "metadata": {},
     "output_type": "display_data"
    }
   ],
   "source": [
    "# suppreses node labels\n",
    "rtre.draw(node_labels=False);"
   ]
  },
  {
   "cell_type": "code",
   "execution_count": 36,
   "metadata": {},
   "outputs": [
    {
     "data": {
      "text/html": [
       "<div class=\"toyplot\" id=\"tb1b06c1adc40424f97fb577b28a53238\" style=\"text-align:center\"><svg class=\"toyplot-canvas-Canvas\" xmlns:toyplot=\"http://www.sandia.gov/toyplot\" xmlns:xlink=\"http://www.w3.org/1999/xlink\" xmlns=\"http://www.w3.org/2000/svg\" width=\"458.972px\" height=\"315.28px\" viewBox=\"0 0 458.972 315.28\" preserveAspectRatio=\"xMidYMid meet\" style=\"background-color:transparent;border-color:#292724;border-style:none;border-width:1.0;fill:rgb(16.1%,15.3%,14.1%);fill-opacity:1.0;font-family:Helvetica;font-size:12px;opacity:1.0;stroke:rgb(16.1%,15.3%,14.1%);stroke-opacity:1.0;stroke-width:1.0\" id=\"t79e89ec30c67442ab2a53b7c89648de1\"><g class=\"toyplot-coordinates-Cartesian\" id=\"ta3a7b13527de49d0a2bb5a7b88fc129c\"><clipPath id=\"ta759d932cc164fb2b9a012b291b8d2b2\"><rect x=\"35.0\" y=\"35.0\" width=\"388.972\" height=\"245.27999999999997\"></rect></clipPath><g clip-path=\"url(#ta759d932cc164fb2b9a012b291b8d2b2)\"><g class=\"toytree-mark-Toytree\" id=\"t3635b25293144cdfb99bf8c8237f0e05\"><g class=\"toytree-Edges\" style=\"stroke:rgb(14.5%,14.5%,14.5%);stroke-opacity:1.0;stroke-linecap:round;stroke-width:2.0;fill:none\"><path d=\"M 165.6 250.1 L 165.6 258.5 L 181.8 258.5\" id=\"13,0\" style=\"\"></path><path d=\"M 165.6 250.1 L 165.6 241.7 L 181.0 241.7\" id=\"13,1\" style=\"\"></path><path d=\"M 199.2 205.5 L 199.2 224.9 L 234.5 224.9\" id=\"19,2\" style=\"\"></path><path d=\"M 205.7 186.0 L 205.7 208.1 L 246.4 208.1\" id=\"18,3\" style=\"\"></path><path d=\"M 224.5 182.9 L 224.5 191.3 L 245.4 191.3\" id=\"14,4\" style=\"\"></path><path d=\"M 224.5 182.9 L 224.5 174.5 L 245.7 174.5\" id=\"14,5\" style=\"\"></path><path d=\"M 215.2 145.0 L 215.2 157.6 L 251.4 157.6\" id=\"16,6\" style=\"\"></path><path d=\"M 253.7 132.4 L 253.7 140.8 L 259.7 140.8\" id=\"15,7\" style=\"\"></path><path d=\"M 253.7 132.4 L 253.7 124.0 L 260.5 124.0\" id=\"15,8\" style=\"\"></path><path d=\"M 199.0 98.8 L 199.0 107.2 L 238.6 107.2\" id=\"20,9\" style=\"\"></path><path d=\"M 199.0 98.8 L 199.0 90.4 L 240.8 90.4\" id=\"20,10\" style=\"\"></path><path d=\"M 242.9 65.2 L 242.9 73.6 L 243.4 73.6\" id=\"21,11\" style=\"\"></path><path d=\"M 242.9 65.2 L 242.9 56.7 L 243.2 56.7\" id=\"21,12\" style=\"\"></path><path d=\"M 53.7 196.9 L 53.7 250.1 L 165.6 250.1\" id=\"24,13\" style=\"\"></path><path d=\"M 210.5 163.9 L 210.5 182.9 L 224.5 182.9\" id=\"17,14\" style=\"\"></path><path d=\"M 215.2 145.0 L 215.2 132.4 L 253.7 132.4\" id=\"16,15\" style=\"\"></path><path d=\"M 210.5 163.9 L 210.5 145.0 L 215.2 145.0\" id=\"17,16\" style=\"\"></path><path d=\"M 205.7 186.0 L 205.7 163.9 L 210.5 163.9\" id=\"18,17\" style=\"\"></path><path d=\"M 199.2 205.5 L 199.2 186.0 L 205.7 186.0\" id=\"19,18\" style=\"\"></path><path d=\"M 165.6 143.7 L 165.6 205.5 L 199.2 205.5\" id=\"23,19\" style=\"\"></path><path d=\"M 184.2 82.0 L 184.2 98.8 L 199.0 98.8\" id=\"22,20\" style=\"\"></path><path d=\"M 184.2 82.0 L 184.2 65.2 L 242.9 65.2\" id=\"22,21\" style=\"\"></path><path d=\"M 165.6 143.7 L 165.6 82.0 L 184.2 82.0\" id=\"23,22\" style=\"\"></path><path d=\"M 53.7 196.9 L 53.7 143.7 L 165.6 143.7\" id=\"24,23\" style=\"\"></path></g><g class=\"toytree-AdmixEdges\" style=\"fill:rgb(0.0%,0.0%,0.0%);fill-opacity:0.0;stroke:rgb(90.6%,54.1%,76.5%);stroke-opacity:0.6;font-size:14px;stroke-linecap:round;stroke-width:5\"></g><g class=\"toytree-Nodes\" style=\"fill:rgb(40.0%,76.1%,64.7%);fill-opacity:1.0;stroke:rgb(14.9%,14.9%,14.9%);stroke-opacity:1.0;stroke-width:1.5\"><g id=\"Node-13\" transform=\"translate(165.611,250.124)\"><circle r=\"5.0\"></circle></g><g id=\"Node-14\" transform=\"translate(224.451,182.863)\"><circle r=\"5.0\"></circle></g><g id=\"Node-15\" transform=\"translate(253.664,132.417)\"><circle r=\"5.0\"></circle></g><g id=\"Node-16\" transform=\"translate(215.151,145.029)\"><circle r=\"5.0\"></circle></g><g id=\"Node-17\" transform=\"translate(210.543,163.946)\"><circle r=\"5.0\"></circle></g><g id=\"Node-18\" transform=\"translate(205.657,186.016)\"><circle r=\"5.0\"></circle></g><g id=\"Node-19\" transform=\"translate(199.21,205.458)\"><circle r=\"5.0\"></circle></g><g id=\"Node-20\" transform=\"translate(199.016,98.7867)\"><circle r=\"5.0\"></circle></g><g id=\"Node-21\" transform=\"translate(242.862,65.1562)\"><circle r=\"5.0\"></circle></g><g id=\"Node-22\" transform=\"translate(184.173,81.9714)\"><circle r=\"5.0\"></circle></g><g id=\"Node-23\" transform=\"translate(165.611,143.715)\"><circle r=\"5.0\"></circle></g><g id=\"Node-24\" transform=\"translate(53.7434,196.919)\"><circle r=\"5.0\"></circle></g></g><g class=\"toytree-TipLabels\" style=\"fill:rgb(14.5%,14.5%,14.5%);fill-opacity:1.0;font-family:Helvetica;font-size:12px;font-weight:300;vertical-align:baseline;white-space:pre;stroke:none\"><g class=\"toytree-TipLabel\" transform=\"translate(181.785,258.531)\"><text x=\"15.0\" y=\"3.066\" style=\"fill:rgb(14.5%,14.5%,14.5%);fill-opacity:1.0\">32082_przewalskii</text></g><g class=\"toytree-TipLabel\" transform=\"translate(181.024,241.716)\"><text x=\"15.0\" y=\"3.066\" style=\"fill:rgb(14.5%,14.5%,14.5%);fill-opacity:1.0\">33588_przewalskii</text></g><g class=\"toytree-TipLabel\" transform=\"translate(234.47,224.901)\"><text x=\"15.0\" y=\"3.066\" style=\"fill:rgb(14.5%,14.5%,14.5%);fill-opacity:1.0\">33413_thamno</text></g><g class=\"toytree-TipLabel\" transform=\"translate(246.397,208.086)\"><text x=\"15.0\" y=\"3.066\" style=\"fill:rgb(14.5%,14.5%,14.5%);fill-opacity:1.0\">30556_thamno</text></g><g class=\"toytree-TipLabel\" transform=\"translate(245.369,191.27)\"><text x=\"15.0\" y=\"3.066\" style=\"fill:rgb(14.5%,14.5%,14.5%);fill-opacity:1.0\">40578_rex</text></g><g class=\"toytree-TipLabel\" transform=\"translate(245.653,174.455)\"><text x=\"15.0\" y=\"3.066\" style=\"fill:rgb(14.5%,14.5%,14.5%);fill-opacity:1.0\">35855_rex</text></g><g class=\"toytree-TipLabel\" transform=\"translate(251.357,157.64)\"><text x=\"15.0\" y=\"3.066\" style=\"fill:rgb(14.5%,14.5%,14.5%);fill-opacity:1.0\">35236_rex</text></g><g class=\"toytree-TipLabel\" transform=\"translate(259.665,140.825)\"><text x=\"15.0\" y=\"3.066\" style=\"fill:rgb(14.5%,14.5%,14.5%);fill-opacity:1.0\">39618_rex</text></g><g class=\"toytree-TipLabel\" transform=\"translate(260.476,124.01)\"><text x=\"15.0\" y=\"3.066\" style=\"fill:rgb(14.5%,14.5%,14.5%);fill-opacity:1.0\">38362_rex</text></g><g class=\"toytree-TipLabel\" transform=\"translate(238.572,107.194)\"><text x=\"15.0\" y=\"3.066\" style=\"fill:rgb(14.5%,14.5%,14.5%);fill-opacity:1.0\">29154_superba</text></g><g class=\"toytree-TipLabel\" transform=\"translate(240.799,90.3791)\"><text x=\"15.0\" y=\"3.066\" style=\"fill:rgb(14.5%,14.5%,14.5%);fill-opacity:1.0\">30686_cyathophylla</text></g><g class=\"toytree-TipLabel\" transform=\"translate(243.416,73.5638)\"><text x=\"15.0\" y=\"3.066\" style=\"fill:rgb(14.5%,14.5%,14.5%);fill-opacity:1.0\">41954_cyathophylloides</text></g><g class=\"toytree-TipLabel\" transform=\"translate(243.191,56.7486)\"><text x=\"15.0\" y=\"3.066\" style=\"fill:rgb(14.5%,14.5%,14.5%);fill-opacity:1.0\">41478_cyathophylloides</text></g></g></g></g></g></svg><div class=\"toyplot-behavior\"><script>(function()\n",
       "{\n",
       "var modules={};\n",
       "})();</script></div></div>"
      ]
     },
     "metadata": {},
     "output_type": "display_data"
    }
   ],
   "source": [
    "# suppresses node labels, but using node_sizes ensures nodes are still shown\n",
    "rtre.draw(node_labels=False, node_sizes=10);"
   ]
  },
  {
   "cell_type": "code",
   "execution_count": 37,
   "metadata": {},
   "outputs": [
    {
     "data": {
      "text/html": [
       "<div class=\"toyplot\" id=\"tb92f7f096904444c8c60f46ccd75307d\" style=\"text-align:center\"><svg class=\"toyplot-canvas-Canvas\" xmlns:toyplot=\"http://www.sandia.gov/toyplot\" xmlns:xlink=\"http://www.w3.org/1999/xlink\" xmlns=\"http://www.w3.org/2000/svg\" width=\"459.9779999999999px\" height=\"315.28px\" viewBox=\"0 0 459.9779999999999 315.28\" preserveAspectRatio=\"xMidYMid meet\" style=\"background-color:transparent;border-color:#292724;border-style:none;border-width:1.0;fill:rgb(16.1%,15.3%,14.1%);fill-opacity:1.0;font-family:Helvetica;font-size:12px;opacity:1.0;stroke:rgb(16.1%,15.3%,14.1%);stroke-opacity:1.0;stroke-width:1.0\" id=\"tdc7a2ea492124b3e97063732076d7346\"><g class=\"toyplot-coordinates-Cartesian\" id=\"t697b7516c11b48069c69811713bdd390\"><clipPath id=\"t608f69903b1d40299b7301b841b4eaf6\"><rect x=\"35.0\" y=\"35.0\" width=\"389.9779999999999\" height=\"245.27999999999997\"></rect></clipPath><g clip-path=\"url(#t608f69903b1d40299b7301b841b4eaf6)\"><g class=\"toytree-mark-Toytree\" id=\"t5f9133ed37984e1db185ee2fb298b327\"><g class=\"toytree-Edges\" style=\"stroke:rgb(14.5%,14.5%,14.5%);stroke-opacity:1.0;stroke-linecap:round;stroke-width:2.0;fill:none\"><path d=\"M 166.5 250.1 L 166.5 258.5 L 182.7 258.5\" id=\"13,0\" style=\"\"></path><path d=\"M 166.5 250.1 L 166.5 241.7 L 181.9 241.7\" id=\"13,1\" style=\"\"></path><path d=\"M 200.2 205.5 L 200.2 224.9 L 235.5 224.9\" id=\"19,2\" style=\"\"></path><path d=\"M 206.6 186.0 L 206.6 208.1 L 247.5 208.1\" id=\"18,3\" style=\"\"></path><path d=\"M 225.5 182.9 L 225.5 191.3 L 246.4 191.3\" id=\"14,4\" style=\"\"></path><path d=\"M 225.5 182.9 L 225.5 174.5 L 246.7 174.5\" id=\"14,5\" style=\"\"></path><path d=\"M 216.1 145.0 L 216.1 157.6 L 252.4 157.6\" id=\"16,6\" style=\"\"></path><path d=\"M 254.7 132.4 L 254.7 140.8 L 260.8 140.8\" id=\"15,7\" style=\"\"></path><path d=\"M 254.7 132.4 L 254.7 124.0 L 261.6 124.0\" id=\"15,8\" style=\"\"></path><path d=\"M 200.0 98.8 L 200.0 107.2 L 239.6 107.2\" id=\"20,9\" style=\"\"></path><path d=\"M 200.0 98.8 L 200.0 90.4 L 241.8 90.4\" id=\"20,10\" style=\"\"></path><path d=\"M 243.9 65.2 L 243.9 73.6 L 244.5 73.6\" id=\"21,11\" style=\"\"></path><path d=\"M 243.9 65.2 L 243.9 56.7 L 244.2 56.7\" id=\"21,12\" style=\"\"></path><path d=\"M 54.3 196.9 L 54.3 250.1 L 166.5 250.1\" id=\"24,13\" style=\"\"></path><path d=\"M 211.5 163.9 L 211.5 182.9 L 225.5 182.9\" id=\"17,14\" style=\"\"></path><path d=\"M 216.1 145.0 L 216.1 132.4 L 254.7 132.4\" id=\"16,15\" style=\"\"></path><path d=\"M 211.5 163.9 L 211.5 145.0 L 216.1 145.0\" id=\"17,16\" style=\"\"></path><path d=\"M 206.6 186.0 L 206.6 163.9 L 211.5 163.9\" id=\"18,17\" style=\"\"></path><path d=\"M 200.2 205.5 L 200.2 186.0 L 206.6 186.0\" id=\"19,18\" style=\"\"></path><path d=\"M 166.5 143.7 L 166.5 205.5 L 200.2 205.5\" id=\"23,19\" style=\"\"></path><path d=\"M 185.1 82.0 L 185.1 98.8 L 200.0 98.8\" id=\"22,20\" style=\"\"></path><path d=\"M 185.1 82.0 L 185.1 65.2 L 243.9 65.2\" id=\"22,21\" style=\"\"></path><path d=\"M 166.5 143.7 L 166.5 82.0 L 185.1 82.0\" id=\"23,22\" style=\"\"></path><path d=\"M 54.3 196.9 L 54.3 143.7 L 166.5 143.7\" id=\"24,23\" style=\"\"></path></g><g class=\"toytree-AdmixEdges\" style=\"fill:rgb(0.0%,0.0%,0.0%);fill-opacity:0.0;stroke:rgb(90.6%,54.1%,76.5%);stroke-opacity:0.6;font-size:14px;stroke-linecap:round;stroke-width:5\"></g><g class=\"toytree-Nodes\" style=\"fill:rgb(40.0%,76.1%,64.7%);fill-opacity:1.0;stroke:rgb(14.9%,14.9%,14.9%);stroke-opacity:1.0;stroke-width:1.5\"></g><g class=\"toytree-NodeLabels\" style=\"font-family:Helvetica;font-size:9px;font-weight:300;vertical-align:baseline;white-space:pre;stroke:none\"><g class=\"toytree-NodeLabel\" transform=\"translate(166.47,250.124)\"><text x=\"-7.506\" y=\"2.2995\" style=\"fill:rgb(14.5%,14.5%,14.5%);fill-opacity:1.0\">100</text></g><g class=\"toytree-NodeLabel\" transform=\"translate(225.457,182.863)\"><text x=\"-7.506\" y=\"2.2995\" style=\"fill:rgb(14.5%,14.5%,14.5%);fill-opacity:1.0\">100</text></g><g class=\"toytree-NodeLabel\" transform=\"translate(254.744,132.417)\"><text x=\"-7.506\" y=\"2.2995\" style=\"fill:rgb(14.5%,14.5%,14.5%);fill-opacity:1.0\">100</text></g><g class=\"toytree-NodeLabel\" transform=\"translate(216.135,145.029)\"><text x=\"-5.0040000000000004\" y=\"2.2995\" style=\"fill:rgb(14.5%,14.5%,14.5%);fill-opacity:1.0\">96</text></g><g class=\"toytree-NodeLabel\" transform=\"translate(211.515,163.946)\"><text x=\"-5.0040000000000004\" y=\"2.2995\" style=\"fill:rgb(14.5%,14.5%,14.5%);fill-opacity:1.0\">99</text></g><g class=\"toytree-NodeLabel\" transform=\"translate(206.617,186.016)\"><text x=\"-7.506\" y=\"2.2995\" style=\"fill:rgb(14.5%,14.5%,14.5%);fill-opacity:1.0\">100</text></g><g class=\"toytree-NodeLabel\" transform=\"translate(200.153,205.458)\"><text x=\"-7.506\" y=\"2.2995\" style=\"fill:rgb(14.5%,14.5%,14.5%);fill-opacity:1.0\">100</text></g><g class=\"toytree-NodeLabel\" transform=\"translate(199.959,98.7867)\"><text x=\"-7.506\" y=\"2.2995\" style=\"fill:rgb(14.5%,14.5%,14.5%);fill-opacity:1.0\">100</text></g><g class=\"toytree-NodeLabel\" transform=\"translate(243.915,65.1562)\"><text x=\"-7.506\" y=\"2.2995\" style=\"fill:rgb(14.5%,14.5%,14.5%);fill-opacity:1.0\">100</text></g><g class=\"toytree-NodeLabel\" transform=\"translate(185.079,81.9714)\"><text x=\"-7.506\" y=\"2.2995\" style=\"fill:rgb(14.5%,14.5%,14.5%);fill-opacity:1.0\">100</text></g><g class=\"toytree-NodeLabel\" transform=\"translate(166.47,143.715)\"><text x=\"-7.506\" y=\"2.2995\" style=\"fill:rgb(14.5%,14.5%,14.5%);fill-opacity:1.0\">100</text></g><g class=\"toytree-NodeLabel\" transform=\"translate(54.3215,196.919)\"><text x=\"-7.506\" y=\"2.2995\" style=\"fill:rgb(14.5%,14.5%,14.5%);fill-opacity:1.0\">nan</text></g></g><g class=\"toytree-TipLabels\" style=\"fill:rgb(14.5%,14.5%,14.5%);fill-opacity:1.0;font-family:Helvetica;font-size:12px;font-weight:300;vertical-align:baseline;white-space:pre;stroke:none\"><g class=\"toytree-TipLabel\" transform=\"translate(182.684,258.531)\"><text x=\"15.0\" y=\"3.066\" style=\"fill:rgb(14.5%,14.5%,14.5%);fill-opacity:1.0\">32082_przewalskii</text></g><g class=\"toytree-TipLabel\" transform=\"translate(181.922,241.716)\"><text x=\"15.0\" y=\"3.066\" style=\"fill:rgb(14.5%,14.5%,14.5%);fill-opacity:1.0\">33588_przewalskii</text></g><g class=\"toytree-TipLabel\" transform=\"translate(235.501,224.901)\"><text x=\"15.0\" y=\"3.066\" style=\"fill:rgb(14.5%,14.5%,14.5%);fill-opacity:1.0\">33413_thamno</text></g><g class=\"toytree-TipLabel\" transform=\"translate(247.458,208.086)\"><text x=\"15.0\" y=\"3.066\" style=\"fill:rgb(14.5%,14.5%,14.5%);fill-opacity:1.0\">30556_thamno</text></g><g class=\"toytree-TipLabel\" transform=\"translate(246.428,191.27)\"><text x=\"15.0\" y=\"3.066\" style=\"fill:rgb(14.5%,14.5%,14.5%);fill-opacity:1.0\">40578_rex</text></g><g class=\"toytree-TipLabel\" transform=\"translate(246.713,174.455)\"><text x=\"15.0\" y=\"3.066\" style=\"fill:rgb(14.5%,14.5%,14.5%);fill-opacity:1.0\">35855_rex</text></g><g class=\"toytree-TipLabel\" transform=\"translate(252.431,157.64)\"><text x=\"15.0\" y=\"3.066\" style=\"fill:rgb(14.5%,14.5%,14.5%);fill-opacity:1.0\">35236_rex</text></g><g class=\"toytree-TipLabel\" transform=\"translate(260.76,140.825)\"><text x=\"15.0\" y=\"3.066\" style=\"fill:rgb(14.5%,14.5%,14.5%);fill-opacity:1.0\">39618_rex</text></g><g class=\"toytree-TipLabel\" transform=\"translate(261.573,124.01)\"><text x=\"15.0\" y=\"3.066\" style=\"fill:rgb(14.5%,14.5%,14.5%);fill-opacity:1.0\">38362_rex</text></g><g class=\"toytree-TipLabel\" transform=\"translate(239.614,107.194)\"><text x=\"15.0\" y=\"3.066\" style=\"fill:rgb(14.5%,14.5%,14.5%);fill-opacity:1.0\">29154_superba</text></g><g class=\"toytree-TipLabel\" transform=\"translate(241.846,90.3791)\"><text x=\"15.0\" y=\"3.066\" style=\"fill:rgb(14.5%,14.5%,14.5%);fill-opacity:1.0\">30686_cyathophylla</text></g><g class=\"toytree-TipLabel\" transform=\"translate(244.471,73.5638)\"><text x=\"15.0\" y=\"3.066\" style=\"fill:rgb(14.5%,14.5%,14.5%);fill-opacity:1.0\">41954_cyathophylloides</text></g><g class=\"toytree-TipLabel\" transform=\"translate(244.245,56.7486)\"><text x=\"15.0\" y=\"3.066\" style=\"fill:rgb(14.5%,14.5%,14.5%);fill-opacity:1.0\">41478_cyathophylloides</text></g></g></g></g></g></svg><div class=\"toyplot-behavior\"><script>(function()\n",
       "{\n",
       "var modules={};\n",
       "})();</script></div></div>"
      ]
     },
     "metadata": {},
     "output_type": "display_data"
    }
   ],
   "source": [
    "# select a data feature (\"support\") of Nodes to extract and show on node labels \n",
    "rtre.draw(node_labels=\"support\");"
   ]
  },
  {
   "cell_type": "code",
   "execution_count": 38,
   "metadata": {},
   "outputs": [
    {
     "data": {
      "text/html": [
       "<div class=\"toyplot\" id=\"t6499983665174c05ac64186ed5f17c27\" style=\"text-align:center\"><svg class=\"toyplot-canvas-Canvas\" xmlns:toyplot=\"http://www.sandia.gov/toyplot\" xmlns:xlink=\"http://www.w3.org/1999/xlink\" xmlns=\"http://www.w3.org/2000/svg\" width=\"459.9779999999999px\" height=\"315.28px\" viewBox=\"0 0 459.9779999999999 315.28\" preserveAspectRatio=\"xMidYMid meet\" style=\"background-color:transparent;border-color:#292724;border-style:none;border-width:1.0;fill:rgb(16.1%,15.3%,14.1%);fill-opacity:1.0;font-family:Helvetica;font-size:12px;opacity:1.0;stroke:rgb(16.1%,15.3%,14.1%);stroke-opacity:1.0;stroke-width:1.0\" id=\"t2b43061c87214e29a6d8b1100dfd1b5c\"><g class=\"toyplot-coordinates-Cartesian\" id=\"td9d95e16b4a84cfd95fd9c8ef8313bb9\"><clipPath id=\"t281007aa2aeb4cb795ef12b87e5b53bf\"><rect x=\"35.0\" y=\"35.0\" width=\"389.9779999999999\" height=\"245.27999999999997\"></rect></clipPath><g clip-path=\"url(#t281007aa2aeb4cb795ef12b87e5b53bf)\"><g class=\"toytree-mark-Toytree\" id=\"t3ed7de00dcc14bd8a5ded5379320cd25\"><g class=\"toytree-Edges\" style=\"stroke:rgb(14.5%,14.5%,14.5%);stroke-opacity:1.0;stroke-linecap:round;stroke-width:2.0;fill:none\"><path d=\"M 166.5 250.1 L 166.5 258.5 L 182.7 258.5\" id=\"13,0\" style=\"\"></path><path d=\"M 166.5 250.1 L 166.5 241.7 L 181.9 241.7\" id=\"13,1\" style=\"\"></path><path d=\"M 200.2 205.5 L 200.2 224.9 L 235.5 224.9\" id=\"19,2\" style=\"\"></path><path d=\"M 206.6 186.0 L 206.6 208.1 L 247.5 208.1\" id=\"18,3\" style=\"\"></path><path d=\"M 225.5 182.9 L 225.5 191.3 L 246.4 191.3\" id=\"14,4\" style=\"\"></path><path d=\"M 225.5 182.9 L 225.5 174.5 L 246.7 174.5\" id=\"14,5\" style=\"\"></path><path d=\"M 216.1 145.0 L 216.1 157.6 L 252.4 157.6\" id=\"16,6\" style=\"\"></path><path d=\"M 254.7 132.4 L 254.7 140.8 L 260.8 140.8\" id=\"15,7\" style=\"\"></path><path d=\"M 254.7 132.4 L 254.7 124.0 L 261.6 124.0\" id=\"15,8\" style=\"\"></path><path d=\"M 200.0 98.8 L 200.0 107.2 L 239.6 107.2\" id=\"20,9\" style=\"\"></path><path d=\"M 200.0 98.8 L 200.0 90.4 L 241.8 90.4\" id=\"20,10\" style=\"\"></path><path d=\"M 243.9 65.2 L 243.9 73.6 L 244.5 73.6\" id=\"21,11\" style=\"\"></path><path d=\"M 243.9 65.2 L 243.9 56.7 L 244.2 56.7\" id=\"21,12\" style=\"\"></path><path d=\"M 54.3 196.9 L 54.3 250.1 L 166.5 250.1\" id=\"24,13\" style=\"\"></path><path d=\"M 211.5 163.9 L 211.5 182.9 L 225.5 182.9\" id=\"17,14\" style=\"\"></path><path d=\"M 216.1 145.0 L 216.1 132.4 L 254.7 132.4\" id=\"16,15\" style=\"\"></path><path d=\"M 211.5 163.9 L 211.5 145.0 L 216.1 145.0\" id=\"17,16\" style=\"\"></path><path d=\"M 206.6 186.0 L 206.6 163.9 L 211.5 163.9\" id=\"18,17\" style=\"\"></path><path d=\"M 200.2 205.5 L 200.2 186.0 L 206.6 186.0\" id=\"19,18\" style=\"\"></path><path d=\"M 166.5 143.7 L 166.5 205.5 L 200.2 205.5\" id=\"23,19\" style=\"\"></path><path d=\"M 185.1 82.0 L 185.1 98.8 L 200.0 98.8\" id=\"22,20\" style=\"\"></path><path d=\"M 185.1 82.0 L 185.1 65.2 L 243.9 65.2\" id=\"22,21\" style=\"\"></path><path d=\"M 166.5 143.7 L 166.5 82.0 L 185.1 82.0\" id=\"23,22\" style=\"\"></path><path d=\"M 54.3 196.9 L 54.3 143.7 L 166.5 143.7\" id=\"24,23\" style=\"\"></path></g><g class=\"toytree-AdmixEdges\" style=\"fill:rgb(0.0%,0.0%,0.0%);fill-opacity:0.0;stroke:rgb(90.6%,54.1%,76.5%);stroke-opacity:0.6;font-size:14px;stroke-linecap:round;stroke-width:5\"></g><g class=\"toytree-Nodes\" style=\"fill:rgb(40.0%,76.1%,64.7%);fill-opacity:1.0;stroke:rgb(14.9%,14.9%,14.9%);stroke-opacity:1.0;stroke-width:1.5\"></g><g class=\"toytree-NodeLabels\" style=\"font-family:Helvetica;font-size:9px;font-weight:300;vertical-align:baseline;white-space:pre;stroke:none\"><g class=\"toytree-NodeLabel\" transform=\"translate(166.47,250.124)\"><text x=\"-7.506\" y=\"2.2995\" style=\"fill:rgb(14.5%,14.5%,14.5%);fill-opacity:1.0\">100</text></g><g class=\"toytree-NodeLabel\" transform=\"translate(225.457,182.863)\"><text x=\"-7.506\" y=\"2.2995\" style=\"fill:rgb(14.5%,14.5%,14.5%);fill-opacity:1.0\">100</text></g><g class=\"toytree-NodeLabel\" transform=\"translate(254.744,132.417)\"><text x=\"-7.506\" y=\"2.2995\" style=\"fill:rgb(14.5%,14.5%,14.5%);fill-opacity:1.0\">100</text></g><g class=\"toytree-NodeLabel\" transform=\"translate(216.135,145.029)\"><text x=\"-5.0040000000000004\" y=\"2.2995\" style=\"fill:rgb(14.5%,14.5%,14.5%);fill-opacity:1.0\">96</text></g><g class=\"toytree-NodeLabel\" transform=\"translate(211.515,163.946)\"><text x=\"-5.0040000000000004\" y=\"2.2995\" style=\"fill:rgb(14.5%,14.5%,14.5%);fill-opacity:1.0\">99</text></g><g class=\"toytree-NodeLabel\" transform=\"translate(206.617,186.016)\"><text x=\"-7.506\" y=\"2.2995\" style=\"fill:rgb(14.5%,14.5%,14.5%);fill-opacity:1.0\">100</text></g><g class=\"toytree-NodeLabel\" transform=\"translate(200.153,205.458)\"><text x=\"-7.506\" y=\"2.2995\" style=\"fill:rgb(14.5%,14.5%,14.5%);fill-opacity:1.0\">100</text></g><g class=\"toytree-NodeLabel\" transform=\"translate(199.959,98.7867)\"><text x=\"-7.506\" y=\"2.2995\" style=\"fill:rgb(14.5%,14.5%,14.5%);fill-opacity:1.0\">100</text></g><g class=\"toytree-NodeLabel\" transform=\"translate(243.915,65.1562)\"><text x=\"-7.506\" y=\"2.2995\" style=\"fill:rgb(14.5%,14.5%,14.5%);fill-opacity:1.0\">100</text></g><g class=\"toytree-NodeLabel\" transform=\"translate(185.079,81.9714)\"><text x=\"-7.506\" y=\"2.2995\" style=\"fill:rgb(14.5%,14.5%,14.5%);fill-opacity:1.0\">100</text></g><g class=\"toytree-NodeLabel\" transform=\"translate(166.47,143.715)\"><text x=\"-7.506\" y=\"2.2995\" style=\"fill:rgb(14.5%,14.5%,14.5%);fill-opacity:1.0\">100</text></g><g class=\"toytree-NodeLabel\" transform=\"translate(54.3215,196.919)\"><text x=\"-7.506\" y=\"2.2995\" style=\"fill:rgb(14.5%,14.5%,14.5%);fill-opacity:1.0\">nan</text></g></g><g class=\"toytree-TipLabels\" style=\"fill:rgb(14.5%,14.5%,14.5%);fill-opacity:1.0;font-family:Helvetica;font-size:12px;font-weight:300;vertical-align:baseline;white-space:pre;stroke:none\"><g class=\"toytree-TipLabel\" transform=\"translate(182.684,258.531)\"><text x=\"15.0\" y=\"3.066\" style=\"fill:rgb(14.5%,14.5%,14.5%);fill-opacity:1.0\">32082_przewalskii</text></g><g class=\"toytree-TipLabel\" transform=\"translate(181.922,241.716)\"><text x=\"15.0\" y=\"3.066\" style=\"fill:rgb(14.5%,14.5%,14.5%);fill-opacity:1.0\">33588_przewalskii</text></g><g class=\"toytree-TipLabel\" transform=\"translate(235.501,224.901)\"><text x=\"15.0\" y=\"3.066\" style=\"fill:rgb(14.5%,14.5%,14.5%);fill-opacity:1.0\">33413_thamno</text></g><g class=\"toytree-TipLabel\" transform=\"translate(247.458,208.086)\"><text x=\"15.0\" y=\"3.066\" style=\"fill:rgb(14.5%,14.5%,14.5%);fill-opacity:1.0\">30556_thamno</text></g><g class=\"toytree-TipLabel\" transform=\"translate(246.428,191.27)\"><text x=\"15.0\" y=\"3.066\" style=\"fill:rgb(14.5%,14.5%,14.5%);fill-opacity:1.0\">40578_rex</text></g><g class=\"toytree-TipLabel\" transform=\"translate(246.713,174.455)\"><text x=\"15.0\" y=\"3.066\" style=\"fill:rgb(14.5%,14.5%,14.5%);fill-opacity:1.0\">35855_rex</text></g><g class=\"toytree-TipLabel\" transform=\"translate(252.431,157.64)\"><text x=\"15.0\" y=\"3.066\" style=\"fill:rgb(14.5%,14.5%,14.5%);fill-opacity:1.0\">35236_rex</text></g><g class=\"toytree-TipLabel\" transform=\"translate(260.76,140.825)\"><text x=\"15.0\" y=\"3.066\" style=\"fill:rgb(14.5%,14.5%,14.5%);fill-opacity:1.0\">39618_rex</text></g><g class=\"toytree-TipLabel\" transform=\"translate(261.573,124.01)\"><text x=\"15.0\" y=\"3.066\" style=\"fill:rgb(14.5%,14.5%,14.5%);fill-opacity:1.0\">38362_rex</text></g><g class=\"toytree-TipLabel\" transform=\"translate(239.614,107.194)\"><text x=\"15.0\" y=\"3.066\" style=\"fill:rgb(14.5%,14.5%,14.5%);fill-opacity:1.0\">29154_superba</text></g><g class=\"toytree-TipLabel\" transform=\"translate(241.846,90.3791)\"><text x=\"15.0\" y=\"3.066\" style=\"fill:rgb(14.5%,14.5%,14.5%);fill-opacity:1.0\">30686_cyathophylla</text></g><g class=\"toytree-TipLabel\" transform=\"translate(244.471,73.5638)\"><text x=\"15.0\" y=\"3.066\" style=\"fill:rgb(14.5%,14.5%,14.5%);fill-opacity:1.0\">41954_cyathophylloides</text></g><g class=\"toytree-TipLabel\" transform=\"translate(244.245,56.7486)\"><text x=\"15.0\" y=\"3.066\" style=\"fill:rgb(14.5%,14.5%,14.5%);fill-opacity:1.0\">41478_cyathophylloides</text></g></g></g></g></g></svg><div class=\"toyplot-behavior\"><script>(function()\n",
       "{\n",
       "var modules={};\n",
       "})();</script></div></div>"
      ]
     },
     "metadata": {},
     "output_type": "display_data"
    }
   ],
   "source": [
    "# build (or extract) a list of values in idx order for plotting on nodes\n",
    "sups = rtre.get_node_data(\"support\")\n",
    "\n",
    "# enter node labels as a list in idx node order\n",
    "rtre.draw(node_labels=sups);"
   ]
  },
  {
   "cell_type": "markdown",
   "metadata": {},
   "source": [
    "#### node_labels_style\n",
    "The `node_labels_style` argument is a dictionary that can apply CSS styling to all node labels. This includes options to change the font-size, and the fill and stroke color and opacity.\n",
    "\n",
    "**Type:** dictionary.  \n",
    "**Allowed:** CSS values supported for text by toyplot.  \n",
    "**Default:** fill: near-black, font-size: '11px'.   \n",
    "**Description:** A dictionary of CSS style options applied to text of node labels.  \n"
   ]
  },
  {
   "cell_type": "code",
   "execution_count": 39,
   "metadata": {},
   "outputs": [
    {
     "data": {
      "text/plain": [
       "{\n",
       "    fill: (0.145, 0.145, 0.145, 1.0),\n",
       "    fill_opacity: 1.0,\n",
       "    font_size: 9,\n",
       "    font_weight: 300,\n",
       "    font_family: 'Helvetica',\n",
       "    anchor_shift: 0,\n",
       "    baseline_shift: 0,\n",
       "    text_anchor: 'middle',\n",
       "}"
      ]
     },
     "execution_count": 39,
     "metadata": {},
     "output_type": "execute_result"
    }
   ],
   "source": [
    "# default options can be seen from the tree style dict\n",
    "rtre.style.node_labels_style"
   ]
  },
  {
   "cell_type": "code",
   "execution_count": 40,
   "metadata": {},
   "outputs": [
    {
     "data": {
      "text/html": [
       "<div class=\"toyplot\" id=\"t5b98c7f4426242e9970b850a89ae834c\" style=\"text-align:center\"><svg class=\"toyplot-canvas-Canvas\" xmlns:toyplot=\"http://www.sandia.gov/toyplot\" xmlns:xlink=\"http://www.w3.org/1999/xlink\" xmlns=\"http://www.w3.org/2000/svg\" width=\"461.472px\" height=\"369.09999999999997px\" viewBox=\"0 0 461.472 369.09999999999997\" preserveAspectRatio=\"xMidYMid meet\" style=\"background-color:transparent;border-color:#292724;border-style:none;border-width:1.0;fill:rgb(16.1%,15.3%,14.1%);fill-opacity:1.0;font-family:Helvetica;font-size:12px;opacity:1.0;stroke:rgb(16.1%,15.3%,14.1%);stroke-opacity:1.0;stroke-width:1.0\" id=\"t55c810c913fd4928b9ccd7eb459082d5\"><g class=\"toyplot-coordinates-Cartesian\" id=\"tf34780ca5f5c4133b82db508c9163074\"><clipPath id=\"t112cf5b71b674333b77597f9c94d9580\"><rect x=\"35.0\" y=\"35.0\" width=\"391.472\" height=\"299.09999999999997\"></rect></clipPath><g clip-path=\"url(#t112cf5b71b674333b77597f9c94d9580)\"><g class=\"toytree-mark-Toytree\" id=\"t7c4dce1c0ae44433afccae73c15279ce\"><g class=\"toytree-Edges\" style=\"stroke:rgb(14.5%,14.5%,14.5%);stroke-opacity:1.0;stroke-linecap:round;stroke-width:2.0;fill:none\"><path d=\"M 167.7 300.2 L 167.7 310.7 L 184.0 310.7\" id=\"13,0\" style=\"\"></path><path d=\"M 167.7 300.2 L 167.7 289.6 L 183.3 289.6\" id=\"13,1\" style=\"\"></path><path d=\"M 201.6 244.3 L 201.6 268.6 L 237.0 268.6\" id=\"19,2\" style=\"\"></path><path d=\"M 208.0 220.0 L 208.0 247.6 L 249.0 247.6\" id=\"18,3\" style=\"\"></path><path d=\"M 227.0 216.1 L 227.0 226.6 L 248.0 226.6\" id=\"14,4\" style=\"\"></path><path d=\"M 227.0 216.1 L 227.0 205.6 L 248.3 205.6\" id=\"14,5\" style=\"\"></path><path d=\"M 217.6 168.8 L 217.6 184.5 L 254.0 184.5\" id=\"16,6\" style=\"\"></path><path d=\"M 256.3 153.0 L 256.3 163.5 L 262.4 163.5\" id=\"15,7\" style=\"\"></path><path d=\"M 256.3 153.0 L 256.3 142.5 L 263.2 142.5\" id=\"15,8\" style=\"\"></path><path d=\"M 201.4 111.0 L 201.4 121.5 L 241.2 121.5\" id=\"20,9\" style=\"\"></path><path d=\"M 201.4 111.0 L 201.4 100.5 L 243.4 100.5\" id=\"20,10\" style=\"\"></path><path d=\"M 245.5 68.9 L 245.5 79.5 L 246.0 79.5\" id=\"21,11\" style=\"\"></path><path d=\"M 245.5 68.9 L 245.5 58.4 L 245.8 58.4\" id=\"21,12\" style=\"\"></path><path d=\"M 55.2 233.6 L 55.2 300.2 L 167.7 300.2\" id=\"24,13\" style=\"\"></path><path d=\"M 213.0 192.4 L 213.0 216.1 L 227.0 216.1\" id=\"17,14\" style=\"\"></path><path d=\"M 217.6 168.8 L 217.6 153.0 L 256.3 153.0\" id=\"16,15\" style=\"\"></path><path d=\"M 213.0 192.4 L 213.0 168.8 L 217.6 168.8\" id=\"17,16\" style=\"\"></path><path d=\"M 208.0 220.0 L 208.0 192.4 L 213.0 192.4\" id=\"18,17\" style=\"\"></path><path d=\"M 201.6 244.3 L 201.6 220.0 L 208.0 220.0\" id=\"19,18\" style=\"\"></path><path d=\"M 167.7 167.1 L 167.7 244.3 L 201.6 244.3\" id=\"23,19\" style=\"\"></path><path d=\"M 186.4 90.0 L 186.4 111.0 L 201.4 111.0\" id=\"22,20\" style=\"\"></path><path d=\"M 186.4 90.0 L 186.4 68.9 L 245.5 68.9\" id=\"22,21\" style=\"\"></path><path d=\"M 167.7 167.1 L 167.7 90.0 L 186.4 90.0\" id=\"23,22\" style=\"\"></path><path d=\"M 55.2 233.6 L 55.2 167.1 L 167.7 167.1\" id=\"24,23\" style=\"\"></path></g><g class=\"toytree-AdmixEdges\" style=\"fill:rgb(0.0%,0.0%,0.0%);fill-opacity:0.0;stroke:rgb(90.6%,54.1%,76.5%);stroke-opacity:0.6;font-size:14px;stroke-linecap:round;stroke-width:5\"></g><g class=\"toytree-Nodes\" style=\"fill:rgb(100.0%,100.0%,100.0%);fill-opacity:1.0;stroke:rgb(14.9%,14.9%,14.9%);stroke-opacity:1.0;stroke-width:1.5\"><g id=\"Node-13\" transform=\"translate(167.745,300.155)\"><circle r=\"7.5\"></circle></g><g id=\"Node-14\" transform=\"translate(226.952,216.079)\"><circle r=\"7.5\"></circle></g><g id=\"Node-15\" transform=\"translate(256.348,153.021)\"><circle r=\"7.5\"></circle></g><g id=\"Node-16\" transform=\"translate(217.594,168.786)\"><circle r=\"7.5\"></circle></g><g id=\"Node-17\" transform=\"translate(212.957,192.432)\"><circle r=\"7.5\"></circle></g><g id=\"Node-18\" transform=\"translate(208.041,220.02)\"><circle r=\"7.5\"></circle></g><g id=\"Node-19\" transform=\"translate(201.553,244.323)\"><circle r=\"7.5\"></circle></g><g id=\"Node-20\" transform=\"translate(201.359,110.983)\"><circle r=\"7.5\"></circle></g><g id=\"Node-21\" transform=\"translate(245.478,68.9453)\"><circle r=\"7.5\"></circle></g><g id=\"Node-22\" transform=\"translate(186.423,89.9643)\"><circle r=\"7.5\"></circle></g><g id=\"Node-23\" transform=\"translate(167.745,167.144)\"><circle r=\"7.5\"></circle></g><g id=\"Node-24\" transform=\"translate(55.1794,233.649)\"><circle r=\"7.5\"></circle></g></g><g class=\"toytree-NodeLabels\" style=\"font-family:Helvetica;font-size:8px;font-weight:300;vertical-align:baseline;white-space:pre;stroke:none\"><g class=\"toytree-NodeLabel\" transform=\"translate(167.745,300.155)\"><text x=\"-4.448\" y=\"2.0439999999999996\" style=\"fill:rgb(100.0%,0.0%,0.0%);fill-opacity:1.0\">13</text></g><g class=\"toytree-NodeLabel\" transform=\"translate(226.952,216.079)\"><text x=\"-4.448\" y=\"2.0439999999999996\" style=\"fill:rgb(100.0%,0.0%,0.0%);fill-opacity:1.0\">14</text></g><g class=\"toytree-NodeLabel\" transform=\"translate(256.348,153.021)\"><text x=\"-4.448\" y=\"2.0439999999999996\" style=\"fill:rgb(100.0%,0.0%,0.0%);fill-opacity:1.0\">15</text></g><g class=\"toytree-NodeLabel\" transform=\"translate(217.594,168.786)\"><text x=\"-4.448\" y=\"2.0439999999999996\" style=\"fill:rgb(100.0%,0.0%,0.0%);fill-opacity:1.0\">16</text></g><g class=\"toytree-NodeLabel\" transform=\"translate(212.957,192.432)\"><text x=\"-4.448\" y=\"2.0439999999999996\" style=\"fill:rgb(100.0%,0.0%,0.0%);fill-opacity:1.0\">17</text></g><g class=\"toytree-NodeLabel\" transform=\"translate(208.041,220.02)\"><text x=\"-4.448\" y=\"2.0439999999999996\" style=\"fill:rgb(100.0%,0.0%,0.0%);fill-opacity:1.0\">18</text></g><g class=\"toytree-NodeLabel\" transform=\"translate(201.553,244.323)\"><text x=\"-4.448\" y=\"2.0439999999999996\" style=\"fill:rgb(100.0%,0.0%,0.0%);fill-opacity:1.0\">19</text></g><g class=\"toytree-NodeLabel\" transform=\"translate(201.359,110.983)\"><text x=\"-4.448\" y=\"2.0439999999999996\" style=\"fill:rgb(100.0%,0.0%,0.0%);fill-opacity:1.0\">20</text></g><g class=\"toytree-NodeLabel\" transform=\"translate(245.478,68.9453)\"><text x=\"-4.448\" y=\"2.0439999999999996\" style=\"fill:rgb(100.0%,0.0%,0.0%);fill-opacity:1.0\">21</text></g><g class=\"toytree-NodeLabel\" transform=\"translate(186.423,89.9643)\"><text x=\"-4.448\" y=\"2.0439999999999996\" style=\"fill:rgb(100.0%,0.0%,0.0%);fill-opacity:1.0\">22</text></g><g class=\"toytree-NodeLabel\" transform=\"translate(167.745,167.144)\"><text x=\"-4.448\" y=\"2.0439999999999996\" style=\"fill:rgb(100.0%,0.0%,0.0%);fill-opacity:1.0\">23</text></g><g class=\"toytree-NodeLabel\" transform=\"translate(55.1794,233.649)\"><text x=\"-4.448\" y=\"2.0439999999999996\" style=\"fill:rgb(100.0%,0.0%,0.0%);fill-opacity:1.0\">24</text></g></g><g class=\"toytree-TipLabels\" style=\"fill:rgb(14.5%,14.5%,14.5%);fill-opacity:1.0;font-family:Helvetica;font-size:12px;font-weight:300;vertical-align:baseline;white-space:pre;stroke:none\"><g class=\"toytree-TipLabel\" transform=\"translate(184.02,310.664)\"><text x=\"15.0\" y=\"3.066\" style=\"fill:rgb(14.5%,14.5%,14.5%);fill-opacity:1.0\">32082_przewalskii</text></g><g class=\"toytree-TipLabel\" transform=\"translate(183.254,289.645)\"><text x=\"15.0\" y=\"3.066\" style=\"fill:rgb(14.5%,14.5%,14.5%);fill-opacity:1.0\">33588_przewalskii</text></g><g class=\"toytree-TipLabel\" transform=\"translate(237.033,268.626)\"><text x=\"15.0\" y=\"3.066\" style=\"fill:rgb(14.5%,14.5%,14.5%);fill-opacity:1.0\">33413_thamno</text></g><g class=\"toytree-TipLabel\" transform=\"translate(249.034,247.607)\"><text x=\"15.0\" y=\"3.066\" style=\"fill:rgb(14.5%,14.5%,14.5%);fill-opacity:1.0\">30556_thamno</text></g><g class=\"toytree-TipLabel\" transform=\"translate(248,226.588)\"><text x=\"15.0\" y=\"3.066\" style=\"fill:rgb(14.5%,14.5%,14.5%);fill-opacity:1.0\">40578_rex</text></g><g class=\"toytree-TipLabel\" transform=\"translate(248.286,205.569)\"><text x=\"15.0\" y=\"3.066\" style=\"fill:rgb(14.5%,14.5%,14.5%);fill-opacity:1.0\">35855_rex</text></g><g class=\"toytree-TipLabel\" transform=\"translate(254.026,184.55)\"><text x=\"15.0\" y=\"3.066\" style=\"fill:rgb(14.5%,14.5%,14.5%);fill-opacity:1.0\">35236_rex</text></g><g class=\"toytree-TipLabel\" transform=\"translate(262.385,163.531)\"><text x=\"15.0\" y=\"3.066\" style=\"fill:rgb(14.5%,14.5%,14.5%);fill-opacity:1.0\">39618_rex</text></g><g class=\"toytree-TipLabel\" transform=\"translate(263.202,142.512)\"><text x=\"15.0\" y=\"3.066\" style=\"fill:rgb(14.5%,14.5%,14.5%);fill-opacity:1.0\">38362_rex</text></g><g class=\"toytree-TipLabel\" transform=\"translate(241.161,121.493)\"><text x=\"15.0\" y=\"3.066\" style=\"fill:rgb(14.5%,14.5%,14.5%);fill-opacity:1.0\">29154_superba</text></g><g class=\"toytree-TipLabel\" transform=\"translate(243.402,100.474)\"><text x=\"15.0\" y=\"3.066\" style=\"fill:rgb(14.5%,14.5%,14.5%);fill-opacity:1.0\">30686_cyathophylla</text></g><g class=\"toytree-TipLabel\" transform=\"translate(246.036,79.4548)\"><text x=\"15.0\" y=\"3.066\" style=\"fill:rgb(14.5%,14.5%,14.5%);fill-opacity:1.0\">41954_cyathophylloides</text></g><g class=\"toytree-TipLabel\" transform=\"translate(245.809,58.4357)\"><text x=\"15.0\" y=\"3.066\" style=\"fill:rgb(14.5%,14.5%,14.5%);fill-opacity:1.0\">41478_cyathophylloides</text></g></g></g></g></g></svg><div class=\"toyplot-behavior\"><script>(function()\n",
       "{\n",
       "var modules={};\n",
       "})();</script></div></div>"
      ]
     },
     "metadata": {},
     "output_type": "display_data"
    }
   ],
   "source": [
    "rtre.draw(\n",
    "    node_labels='idx',\n",
    "    node_sizes=15,\n",
    "    node_colors=\"white\",\n",
    "    node_labels_style={      ## <- entered as a dict\n",
    "        \"fill\": \"red\",\n",
    "        \"font-size\": \"8px\",\n",
    "    }\n",
    ");"
   ]
  },
  {
   "attachments": {},
   "cell_type": "markdown",
   "metadata": {},
   "source": [
    "### Node styling\n",
    "\n",
    "#### node_sizes\n",
    "The `node_sizes` argument sets the size of node markers. All can be set to the same size, or different sizes.\n",
    "\n",
    "**Type:** int, float, list[int], list[float], tuple[feature, min, max].  \n",
    "**Allowed:** Reasonable values in units of pixels are typically from 0-50.   \n",
    "**Default:** 0   \n",
    "**Description:** The size of node markers.  \n"
   ]
  },
  {
   "cell_type": "code",
   "execution_count": 41,
   "metadata": {},
   "outputs": [
    {
     "data": {
      "text/html": [
       "<div class=\"toyplot\" id=\"t8b1e068c62f9482fbd383155728da9fe\" style=\"text-align:center\"><svg class=\"toyplot-canvas-Canvas\" xmlns:toyplot=\"http://www.sandia.gov/toyplot\" xmlns:xlink=\"http://www.w3.org/1999/xlink\" xmlns=\"http://www.w3.org/2000/svg\" width=\"458.972px\" height=\"315.28px\" viewBox=\"0 0 458.972 315.28\" preserveAspectRatio=\"xMidYMid meet\" style=\"background-color:transparent;border-color:#292724;border-style:none;border-width:1.0;fill:rgb(16.1%,15.3%,14.1%);fill-opacity:1.0;font-family:Helvetica;font-size:12px;opacity:1.0;stroke:rgb(16.1%,15.3%,14.1%);stroke-opacity:1.0;stroke-width:1.0\" id=\"t8d00801aaba846b49d0cdc801ff6c8a2\"><g class=\"toyplot-coordinates-Cartesian\" id=\"td16b94cd98d047ac9a950c0ed26bbf5a\"><clipPath id=\"t13d42ff34d814007ba0367360c0e1005\"><rect x=\"35.0\" y=\"35.0\" width=\"388.972\" height=\"245.27999999999997\"></rect></clipPath><g clip-path=\"url(#t13d42ff34d814007ba0367360c0e1005)\"><g class=\"toytree-mark-Toytree\" id=\"t432292c58fac414e8bdb49ad30b22888\"><g class=\"toytree-Edges\" style=\"stroke:rgb(14.5%,14.5%,14.5%);stroke-opacity:1.0;stroke-linecap:round;stroke-width:2.0;fill:none\"><path d=\"M 165.6 250.1 L 165.6 258.5 L 181.8 258.5\" id=\"13,0\" style=\"\"></path><path d=\"M 165.6 250.1 L 165.6 241.7 L 181.0 241.7\" id=\"13,1\" style=\"\"></path><path d=\"M 199.2 205.5 L 199.2 224.9 L 234.5 224.9\" id=\"19,2\" style=\"\"></path><path d=\"M 205.7 186.0 L 205.7 208.1 L 246.4 208.1\" id=\"18,3\" style=\"\"></path><path d=\"M 224.5 182.9 L 224.5 191.3 L 245.4 191.3\" id=\"14,4\" style=\"\"></path><path d=\"M 224.5 182.9 L 224.5 174.5 L 245.7 174.5\" id=\"14,5\" style=\"\"></path><path d=\"M 215.2 145.0 L 215.2 157.6 L 251.4 157.6\" id=\"16,6\" style=\"\"></path><path d=\"M 253.7 132.4 L 253.7 140.8 L 259.7 140.8\" id=\"15,7\" style=\"\"></path><path d=\"M 253.7 132.4 L 253.7 124.0 L 260.5 124.0\" id=\"15,8\" style=\"\"></path><path d=\"M 199.0 98.8 L 199.0 107.2 L 238.6 107.2\" id=\"20,9\" style=\"\"></path><path d=\"M 199.0 98.8 L 199.0 90.4 L 240.8 90.4\" id=\"20,10\" style=\"\"></path><path d=\"M 242.9 65.2 L 242.9 73.6 L 243.4 73.6\" id=\"21,11\" style=\"\"></path><path d=\"M 242.9 65.2 L 242.9 56.7 L 243.2 56.7\" id=\"21,12\" style=\"\"></path><path d=\"M 53.7 196.9 L 53.7 250.1 L 165.6 250.1\" id=\"24,13\" style=\"\"></path><path d=\"M 210.5 163.9 L 210.5 182.9 L 224.5 182.9\" id=\"17,14\" style=\"\"></path><path d=\"M 215.2 145.0 L 215.2 132.4 L 253.7 132.4\" id=\"16,15\" style=\"\"></path><path d=\"M 210.5 163.9 L 210.5 145.0 L 215.2 145.0\" id=\"17,16\" style=\"\"></path><path d=\"M 205.7 186.0 L 205.7 163.9 L 210.5 163.9\" id=\"18,17\" style=\"\"></path><path d=\"M 199.2 205.5 L 199.2 186.0 L 205.7 186.0\" id=\"19,18\" style=\"\"></path><path d=\"M 165.6 143.7 L 165.6 205.5 L 199.2 205.5\" id=\"23,19\" style=\"\"></path><path d=\"M 184.2 82.0 L 184.2 98.8 L 199.0 98.8\" id=\"22,20\" style=\"\"></path><path d=\"M 184.2 82.0 L 184.2 65.2 L 242.9 65.2\" id=\"22,21\" style=\"\"></path><path d=\"M 165.6 143.7 L 165.6 82.0 L 184.2 82.0\" id=\"23,22\" style=\"\"></path><path d=\"M 53.7 196.9 L 53.7 143.7 L 165.6 143.7\" id=\"24,23\" style=\"\"></path></g><g class=\"toytree-AdmixEdges\" style=\"fill:rgb(0.0%,0.0%,0.0%);fill-opacity:0.0;stroke:rgb(90.6%,54.1%,76.5%);stroke-opacity:0.6;font-size:14px;stroke-linecap:round;stroke-width:5\"></g><g class=\"toytree-Nodes\" style=\"fill:rgb(40.0%,76.1%,64.7%);fill-opacity:1.0;stroke:rgb(14.9%,14.9%,14.9%);stroke-opacity:1.0;stroke-width:1.5\"><g id=\"Node-13\" transform=\"translate(165.611,250.124)\"><circle r=\"5.0\"></circle></g><g id=\"Node-14\" transform=\"translate(224.451,182.863)\"><circle r=\"5.0\"></circle></g><g id=\"Node-15\" transform=\"translate(253.664,132.417)\"><circle r=\"5.0\"></circle></g><g id=\"Node-16\" transform=\"translate(215.151,145.029)\"><circle r=\"5.0\"></circle></g><g id=\"Node-17\" transform=\"translate(210.543,163.946)\"><circle r=\"5.0\"></circle></g><g id=\"Node-18\" transform=\"translate(205.657,186.016)\"><circle r=\"5.0\"></circle></g><g id=\"Node-19\" transform=\"translate(199.21,205.458)\"><circle r=\"5.0\"></circle></g><g id=\"Node-20\" transform=\"translate(199.016,98.7867)\"><circle r=\"5.0\"></circle></g><g id=\"Node-21\" transform=\"translate(242.862,65.1562)\"><circle r=\"5.0\"></circle></g><g id=\"Node-22\" transform=\"translate(184.173,81.9714)\"><circle r=\"5.0\"></circle></g><g id=\"Node-23\" transform=\"translate(165.611,143.715)\"><circle r=\"5.0\"></circle></g><g id=\"Node-24\" transform=\"translate(53.7434,196.919)\"><circle r=\"5.0\"></circle></g></g><g class=\"toytree-TipLabels\" style=\"fill:rgb(14.5%,14.5%,14.5%);fill-opacity:1.0;font-family:Helvetica;font-size:12px;font-weight:300;vertical-align:baseline;white-space:pre;stroke:none\"><g class=\"toytree-TipLabel\" transform=\"translate(181.785,258.531)\"><text x=\"15.0\" y=\"3.066\" style=\"fill:rgb(14.5%,14.5%,14.5%);fill-opacity:1.0\">32082_przewalskii</text></g><g class=\"toytree-TipLabel\" transform=\"translate(181.024,241.716)\"><text x=\"15.0\" y=\"3.066\" style=\"fill:rgb(14.5%,14.5%,14.5%);fill-opacity:1.0\">33588_przewalskii</text></g><g class=\"toytree-TipLabel\" transform=\"translate(234.47,224.901)\"><text x=\"15.0\" y=\"3.066\" style=\"fill:rgb(14.5%,14.5%,14.5%);fill-opacity:1.0\">33413_thamno</text></g><g class=\"toytree-TipLabel\" transform=\"translate(246.397,208.086)\"><text x=\"15.0\" y=\"3.066\" style=\"fill:rgb(14.5%,14.5%,14.5%);fill-opacity:1.0\">30556_thamno</text></g><g class=\"toytree-TipLabel\" transform=\"translate(245.369,191.27)\"><text x=\"15.0\" y=\"3.066\" style=\"fill:rgb(14.5%,14.5%,14.5%);fill-opacity:1.0\">40578_rex</text></g><g class=\"toytree-TipLabel\" transform=\"translate(245.653,174.455)\"><text x=\"15.0\" y=\"3.066\" style=\"fill:rgb(14.5%,14.5%,14.5%);fill-opacity:1.0\">35855_rex</text></g><g class=\"toytree-TipLabel\" transform=\"translate(251.357,157.64)\"><text x=\"15.0\" y=\"3.066\" style=\"fill:rgb(14.5%,14.5%,14.5%);fill-opacity:1.0\">35236_rex</text></g><g class=\"toytree-TipLabel\" transform=\"translate(259.665,140.825)\"><text x=\"15.0\" y=\"3.066\" style=\"fill:rgb(14.5%,14.5%,14.5%);fill-opacity:1.0\">39618_rex</text></g><g class=\"toytree-TipLabel\" transform=\"translate(260.476,124.01)\"><text x=\"15.0\" y=\"3.066\" style=\"fill:rgb(14.5%,14.5%,14.5%);fill-opacity:1.0\">38362_rex</text></g><g class=\"toytree-TipLabel\" transform=\"translate(238.572,107.194)\"><text x=\"15.0\" y=\"3.066\" style=\"fill:rgb(14.5%,14.5%,14.5%);fill-opacity:1.0\">29154_superba</text></g><g class=\"toytree-TipLabel\" transform=\"translate(240.799,90.3791)\"><text x=\"15.0\" y=\"3.066\" style=\"fill:rgb(14.5%,14.5%,14.5%);fill-opacity:1.0\">30686_cyathophylla</text></g><g class=\"toytree-TipLabel\" transform=\"translate(243.416,73.5638)\"><text x=\"15.0\" y=\"3.066\" style=\"fill:rgb(14.5%,14.5%,14.5%);fill-opacity:1.0\">41954_cyathophylloides</text></g><g class=\"toytree-TipLabel\" transform=\"translate(243.191,56.7486)\"><text x=\"15.0\" y=\"3.066\" style=\"fill:rgb(14.5%,14.5%,14.5%);fill-opacity:1.0\">41478_cyathophylloides</text></g></g></g></g></g></svg><div class=\"toyplot-behavior\"><script>(function()\n",
       "{\n",
       "var modules={};\n",
       "})();</script></div></div>"
      ]
     },
     "metadata": {},
     "output_type": "display_data"
    }
   ],
   "source": [
    "rtre.draw(node_sizes=10);"
   ]
  },
  {
   "cell_type": "code",
   "execution_count": 42,
   "metadata": {},
   "outputs": [
    {
     "data": {
      "text/html": [
       "<div class=\"toyplot\" id=\"t3998f6aa146546cc849c703fbc09e595\" style=\"text-align:center\"><svg class=\"toyplot-canvas-Canvas\" xmlns:toyplot=\"http://www.sandia.gov/toyplot\" xmlns:xlink=\"http://www.w3.org/1999/xlink\" xmlns=\"http://www.w3.org/2000/svg\" width=\"458.14357895267875px\" height=\"320.2585365843062px\" viewBox=\"0 0 458.14357895267875 320.2585365843062\" preserveAspectRatio=\"xMidYMid meet\" style=\"background-color:transparent;border-color:#292724;border-style:none;border-width:1.0;fill:rgb(16.1%,15.3%,14.1%);fill-opacity:1.0;font-family:Helvetica;font-size:12px;opacity:1.0;stroke:rgb(16.1%,15.3%,14.1%);stroke-opacity:1.0;stroke-width:1.0\" id=\"t68013ba87fe041c78a5b3efc9f1dd9f9\"><g class=\"toyplot-coordinates-Cartesian\" id=\"t5e1c8d1bfc96458793879a574390c1a4\"><clipPath id=\"t9b8d561661ef47cd97a239153786e5ca\"><rect x=\"35.0\" y=\"35.0\" width=\"388.14357895267875\" height=\"250.25853658430623\"></rect></clipPath><g clip-path=\"url(#t9b8d561661ef47cd97a239153786e5ca)\"><g class=\"toytree-mark-Toytree\" id=\"t14eb0a45926440ea8364550f74855f4f\"><g class=\"toytree-Edges\" style=\"stroke:rgb(14.5%,14.5%,14.5%);stroke-opacity:1.0;stroke-linecap:round;stroke-width:2.0;fill:none\"><path d=\"M 164.4 254.9 L 164.4 263.5 L 180.5 263.5\" id=\"13,0\" style=\"\"></path><path d=\"M 164.4 254.9 L 164.4 246.3 L 179.8 246.3\" id=\"13,1\" style=\"\"></path><path d=\"M 198.0 209.1 L 198.0 229.0 L 233.2 229.0\" id=\"19,2\" style=\"\"></path><path d=\"M 204.4 189.2 L 204.4 211.8 L 245.2 211.8\" id=\"18,3\" style=\"\"></path><path d=\"M 223.2 186.0 L 223.2 194.6 L 244.1 194.6\" id=\"14,4\" style=\"\"></path><path d=\"M 223.2 186.0 L 223.2 177.4 L 244.4 177.4\" id=\"14,5\" style=\"\"></path><path d=\"M 213.9 147.2 L 213.9 160.1 L 250.1 160.1\" id=\"16,6\" style=\"\"></path><path d=\"M 252.4 134.3 L 252.4 142.9 L 258.4 142.9\" id=\"15,7\" style=\"\"></path><path d=\"M 252.4 134.3 L 252.4 125.7 L 259.2 125.7\" id=\"15,8\" style=\"\"></path><path d=\"M 197.8 99.8 L 197.8 108.4 L 237.3 108.4\" id=\"20,9\" style=\"\"></path><path d=\"M 197.8 99.8 L 197.8 91.2 L 239.6 91.2\" id=\"20,10\" style=\"\"></path><path d=\"M 241.6 65.4 L 241.6 74.0 L 242.2 74.0\" id=\"21,11\" style=\"\"></path><path d=\"M 241.6 65.4 L 241.6 56.8 L 242.0 56.8\" id=\"21,12\" style=\"\"></path><path d=\"M 52.5 200.4 L 52.5 254.9 L 164.4 254.9\" id=\"24,13\" style=\"\"></path><path d=\"M 209.3 166.6 L 209.3 186.0 L 223.2 186.0\" id=\"17,14\" style=\"\"></path><path d=\"M 213.9 147.2 L 213.9 134.3 L 252.4 134.3\" id=\"16,15\" style=\"\"></path><path d=\"M 209.3 166.6 L 209.3 147.2 L 213.9 147.2\" id=\"17,16\" style=\"\"></path><path d=\"M 204.4 189.2 L 204.4 166.6 L 209.3 166.6\" id=\"18,17\" style=\"\"></path><path d=\"M 198.0 209.1 L 198.0 189.2 L 204.4 189.2\" id=\"19,18\" style=\"\"></path><path d=\"M 164.4 145.9 L 164.4 209.1 L 198.0 209.1\" id=\"23,19\" style=\"\"></path><path d=\"M 182.9 82.6 L 182.9 99.8 L 197.8 99.8\" id=\"22,20\" style=\"\"></path><path d=\"M 182.9 82.6 L 182.9 65.4 L 241.6 65.4\" id=\"22,21\" style=\"\"></path><path d=\"M 164.4 145.9 L 164.4 82.6 L 182.9 82.6\" id=\"23,22\" style=\"\"></path><path d=\"M 52.5 200.4 L 52.5 145.9 L 164.4 145.9\" id=\"24,23\" style=\"\"></path></g><g class=\"toytree-AdmixEdges\" style=\"fill:rgb(0.0%,0.0%,0.0%);fill-opacity:0.0;stroke:rgb(90.6%,54.1%,76.5%);stroke-opacity:0.6;font-size:14px;stroke-linecap:round;stroke-width:5\"></g><g class=\"toytree-Nodes\" style=\"fill:rgb(40.0%,76.1%,64.7%);fill-opacity:1.0;stroke:rgb(14.9%,14.9%,14.9%);stroke-opacity:1.0;stroke-width:1.5\"><g id=\"Node-13\" transform=\"translate(164.375,254.886)\"><circle r=\"5.330949120069237\"></circle></g><g id=\"Node-14\" transform=\"translate(223.22,185.972)\"><circle r=\"4.074061900453455\"></circle></g><g id=\"Node-15\" transform=\"translate(252.437,134.286)\"><circle r=\"7.160963480326655\"></circle></g><g id=\"Node-16\" transform=\"translate(213.92,147.208)\"><circle r=\"2.902355510061505\"></circle></g><g id=\"Node-17\" transform=\"translate(209.311,166.59)\"><circle r=\"3.8634574389403458\"></circle></g><g id=\"Node-18\" transform=\"translate(204.425,189.202)\"><circle r=\"3.2375753336689286\"></circle></g><g id=\"Node-19\" transform=\"translate(197.977,209.123)\"><circle r=\"3.3088895382607086\"></circle></g><g id=\"Node-20\" transform=\"translate(197.783,99.8295)\"><circle r=\"4.776717904734161\"></circle></g><g id=\"Node-21\" transform=\"translate(241.633,65.3724)\"><circle r=\"4.674461220957266\"></circle></g><g id=\"Node-22\" transform=\"translate(182.939,82.6009)\"><circle r=\"4.412062217879779\"></circle></g><g id=\"Node-23\" transform=\"translate(164.375,145.862)\"><circle r=\"3.5713238401589873\"></circle></g><g id=\"Node-24\" transform=\"translate(52.4948,200.374)\"><circle r=\"2.8214940047000887\"></circle></g></g><g class=\"toytree-TipLabels\" style=\"fill:rgb(14.5%,14.5%,14.5%);fill-opacity:1.0;font-family:Helvetica;font-size:12px;font-weight:300;vertical-align:baseline;white-space:pre;stroke:none\"><g class=\"toytree-TipLabel\" transform=\"translate(180.55,263.5)\"><text x=\"15.0\" y=\"3.066\" style=\"fill:rgb(14.5%,14.5%,14.5%);fill-opacity:1.0\">32082_przewalskii</text></g><g class=\"toytree-TipLabel\" transform=\"translate(179.789,246.272)\"><text x=\"15.0\" y=\"3.066\" style=\"fill:rgb(14.5%,14.5%,14.5%);fill-opacity:1.0\">33588_przewalskii</text></g><g class=\"toytree-TipLabel\" transform=\"translate(233.24,229.043)\"><text x=\"15.0\" y=\"3.066\" style=\"fill:rgb(14.5%,14.5%,14.5%);fill-opacity:1.0\">33413_thamno</text></g><g class=\"toytree-TipLabel\" transform=\"translate(245.168,211.815)\"><text x=\"15.0\" y=\"3.066\" style=\"fill:rgb(14.5%,14.5%,14.5%);fill-opacity:1.0\">30556_thamno</text></g><g class=\"toytree-TipLabel\" transform=\"translate(244.14,194.586)\"><text x=\"15.0\" y=\"3.066\" style=\"fill:rgb(14.5%,14.5%,14.5%);fill-opacity:1.0\">40578_rex</text></g><g class=\"toytree-TipLabel\" transform=\"translate(244.425,177.358)\"><text x=\"15.0\" y=\"3.066\" style=\"fill:rgb(14.5%,14.5%,14.5%);fill-opacity:1.0\">35855_rex</text></g><g class=\"toytree-TipLabel\" transform=\"translate(250.129,160.129)\"><text x=\"15.0\" y=\"3.066\" style=\"fill:rgb(14.5%,14.5%,14.5%);fill-opacity:1.0\">35236_rex</text></g><g class=\"toytree-TipLabel\" transform=\"translate(258.438,142.901)\"><text x=\"15.0\" y=\"3.066\" style=\"fill:rgb(14.5%,14.5%,14.5%);fill-opacity:1.0\">39618_rex</text></g><g class=\"toytree-TipLabel\" transform=\"translate(259.249,125.672)\"><text x=\"15.0\" y=\"3.066\" style=\"fill:rgb(14.5%,14.5%,14.5%);fill-opacity:1.0\">38362_rex</text></g><g class=\"toytree-TipLabel\" transform=\"translate(237.343,108.444)\"><text x=\"15.0\" y=\"3.066\" style=\"fill:rgb(14.5%,14.5%,14.5%);fill-opacity:1.0\">29154_superba</text></g><g class=\"toytree-TipLabel\" transform=\"translate(239.57,91.2152)\"><text x=\"15.0\" y=\"3.066\" style=\"fill:rgb(14.5%,14.5%,14.5%);fill-opacity:1.0\">30686_cyathophylla</text></g><g class=\"toytree-TipLabel\" transform=\"translate(242.188,73.9867)\"><text x=\"15.0\" y=\"3.066\" style=\"fill:rgb(14.5%,14.5%,14.5%);fill-opacity:1.0\">41954_cyathophylloides</text></g><g class=\"toytree-TipLabel\" transform=\"translate(241.963,56.7582)\"><text x=\"15.0\" y=\"3.066\" style=\"fill:rgb(14.5%,14.5%,14.5%);fill-opacity:1.0\">41478_cyathophylloides</text></g></g></g></g></g></svg><div class=\"toyplot-behavior\"><script>(function()\n",
       "{\n",
       "var modules={};\n",
       "})();</script></div></div>"
      ]
     },
     "metadata": {},
     "output_type": "display_data"
    }
   ],
   "source": [
    "# draw random values between 5-15\n",
    "rtre.draw(node_sizes=np.random.uniform(5, 15, rtre.nnodes));"
   ]
  },
  {
   "cell_type": "code",
   "execution_count": 43,
   "metadata": {},
   "outputs": [
    {
     "data": {
      "text/html": [
       "<div class=\"toyplot\" id=\"ta4c34852ee664127b5dc65a1b7a34c4b\" style=\"text-align:center\"><svg class=\"toyplot-canvas-Canvas\" xmlns:toyplot=\"http://www.sandia.gov/toyplot\" xmlns:xlink=\"http://www.w3.org/1999/xlink\" xmlns=\"http://www.w3.org/2000/svg\" width=\"456.8900449256951px\" height=\"315.28px\" viewBox=\"0 0 456.8900449256951 315.28\" preserveAspectRatio=\"xMidYMid meet\" style=\"background-color:transparent;border-color:#292724;border-style:none;border-width:1.0;fill:rgb(16.1%,15.3%,14.1%);fill-opacity:1.0;font-family:Helvetica;font-size:12px;opacity:1.0;stroke:rgb(16.1%,15.3%,14.1%);stroke-opacity:1.0;stroke-width:1.0\" id=\"t1bca4043be4a44d3b72026ac983100d4\"><g class=\"toyplot-coordinates-Cartesian\" id=\"te5fadbc3a6f141f19386d723629c06fe\"><clipPath id=\"te0a617ea474b4d9dbccaf7573c3a92c5\"><rect x=\"35.0\" y=\"35.0\" width=\"386.8900449256951\" height=\"245.27999999999997\"></rect></clipPath><g clip-path=\"url(#te0a617ea474b4d9dbccaf7573c3a92c5)\"><g class=\"toytree-mark-Toytree\" id=\"t19f25006c3dc4befa34256f68fb6758b\"><g class=\"toytree-Edges\" style=\"stroke:rgb(14.5%,14.5%,14.5%);stroke-opacity:1.0;stroke-linecap:round;stroke-width:2.0;fill:none\"><path d=\"M 165.6 250.1 L 165.6 258.5 L 181.6 258.5\" id=\"13,0\" style=\"\"></path><path d=\"M 165.6 250.1 L 165.6 241.7 L 180.8 241.7\" id=\"13,1\" style=\"\"></path><path d=\"M 198.8 205.5 L 198.8 224.9 L 233.6 224.9\" id=\"19,2\" style=\"\"></path><path d=\"M 205.2 186.0 L 205.2 208.1 L 245.4 208.1\" id=\"18,3\" style=\"\"></path><path d=\"M 223.7 182.9 L 223.7 191.3 L 244.4 191.3\" id=\"14,4\" style=\"\"></path><path d=\"M 223.7 182.9 L 223.7 174.5 L 244.7 174.5\" id=\"14,5\" style=\"\"></path><path d=\"M 214.5 145.0 L 214.5 157.6 L 250.3 157.6\" id=\"16,6\" style=\"\"></path><path d=\"M 252.6 132.4 L 252.6 140.8 L 258.5 140.8\" id=\"15,7\" style=\"\"></path><path d=\"M 252.6 132.4 L 252.6 124.0 L 259.3 124.0\" id=\"15,8\" style=\"\"></path><path d=\"M 198.6 98.8 L 198.6 107.2 L 237.7 107.2\" id=\"20,9\" style=\"\"></path><path d=\"M 198.6 98.8 L 198.6 90.4 L 239.9 90.4\" id=\"20,10\" style=\"\"></path><path d=\"M 241.9 65.2 L 241.9 73.6 L 242.5 73.6\" id=\"21,11\" style=\"\"></path><path d=\"M 241.9 65.2 L 241.9 56.7 L 242.2 56.7\" id=\"21,12\" style=\"\"></path><path d=\"M 55.1 196.9 L 55.1 250.1 L 165.6 250.1\" id=\"24,13\" style=\"\"></path><path d=\"M 210.0 163.9 L 210.0 182.9 L 223.7 182.9\" id=\"17,14\" style=\"\"></path><path d=\"M 214.5 145.0 L 214.5 132.4 L 252.6 132.4\" id=\"16,15\" style=\"\"></path><path d=\"M 210.0 163.9 L 210.0 145.0 L 214.5 145.0\" id=\"17,16\" style=\"\"></path><path d=\"M 205.2 186.0 L 205.2 163.9 L 210.0 163.9\" id=\"18,17\" style=\"\"></path><path d=\"M 198.8 205.5 L 198.8 186.0 L 205.2 186.0\" id=\"19,18\" style=\"\"></path><path d=\"M 165.6 143.7 L 165.6 205.5 L 198.8 205.5\" id=\"23,19\" style=\"\"></path><path d=\"M 183.9 82.0 L 183.9 98.8 L 198.6 98.8\" id=\"22,20\" style=\"\"></path><path d=\"M 183.9 82.0 L 183.9 65.2 L 241.9 65.2\" id=\"22,21\" style=\"\"></path><path d=\"M 165.6 143.7 L 165.6 82.0 L 183.9 82.0\" id=\"23,22\" style=\"\"></path><path d=\"M 55.1 196.9 L 55.1 143.7 L 165.6 143.7\" id=\"24,23\" style=\"\"></path></g><g class=\"toytree-AdmixEdges\" style=\"fill:rgb(0.0%,0.0%,0.0%);fill-opacity:0.0;stroke:rgb(90.6%,54.1%,76.5%);stroke-opacity:0.6;font-size:14px;stroke-linecap:round;stroke-width:5\"></g><g class=\"toytree-Nodes\" style=\"fill:rgb(40.0%,76.1%,64.7%);fill-opacity:1.0;stroke:rgb(14.9%,14.9%,14.9%);stroke-opacity:1.0;stroke-width:1.5\"><g id=\"Node-13\" transform=\"translate(165.618,250.124)\"><circle r=\"4.794378788183344\"></circle></g><g id=\"Node-14\" transform=\"translate(223.722,182.863)\"><circle r=\"3.371302241497705\"></circle></g><g id=\"Node-15\" transform=\"translate(252.57,132.417)\"><circle r=\"2.6647443000486257\"></circle></g><g id=\"Node-16\" transform=\"translate(214.538,145.029)\"><circle r=\"3.5962181064550576\"></circle></g><g id=\"Node-17\" transform=\"translate(209.988,163.946)\"><circle r=\"3.707673307608058\"></circle></g><g id=\"Node-18\" transform=\"translate(205.163,186.016)\"><circle r=\"3.82583559534012\"></circle></g><g id=\"Node-19\" transform=\"translate(198.796,205.458)\"><circle r=\"3.981772726036156\"></circle></g><g id=\"Node-20\" transform=\"translate(198.605,98.7867)\"><circle r=\"3.9864520735579734\"></circle></g><g id=\"Node-21\" transform=\"translate(241.903,65.1562)\"><circle r=\"2.926012534498769\"></circle></g><g id=\"Node-22\" transform=\"translate(183.948,81.9714)\"><circle r=\"4.345441648587906\"></circle></g><g id=\"Node-23\" transform=\"translate(165.618,143.715)\"><circle r=\"4.794378788183344\"></circle></g><g id=\"Node-24\" transform=\"translate(55.1482,196.919)\"><circle r=\"7.5\"></circle></g></g><g class=\"toytree-TipLabels\" style=\"fill:rgb(14.5%,14.5%,14.5%);fill-opacity:1.0;font-family:Helvetica;font-size:12px;font-weight:300;vertical-align:baseline;white-space:pre;stroke:none\"><g class=\"toytree-TipLabel\" transform=\"translate(181.589,258.531)\"><text x=\"15.0\" y=\"3.066\" style=\"fill:rgb(14.5%,14.5%,14.5%);fill-opacity:1.0\">32082_przewalskii</text></g><g class=\"toytree-TipLabel\" transform=\"translate(180.838,241.716)\"><text x=\"15.0\" y=\"3.066\" style=\"fill:rgb(14.5%,14.5%,14.5%);fill-opacity:1.0\">33588_przewalskii</text></g><g class=\"toytree-TipLabel\" transform=\"translate(233.615,224.901)\"><text x=\"15.0\" y=\"3.066\" style=\"fill:rgb(14.5%,14.5%,14.5%);fill-opacity:1.0\">33413_thamno</text></g><g class=\"toytree-TipLabel\" transform=\"translate(245.393,208.086)\"><text x=\"15.0\" y=\"3.066\" style=\"fill:rgb(14.5%,14.5%,14.5%);fill-opacity:1.0\">30556_thamno</text></g><g class=\"toytree-TipLabel\" transform=\"translate(244.378,191.27)\"><text x=\"15.0\" y=\"3.066\" style=\"fill:rgb(14.5%,14.5%,14.5%);fill-opacity:1.0\">40578_rex</text></g><g class=\"toytree-TipLabel\" transform=\"translate(244.659,174.455)\"><text x=\"15.0\" y=\"3.066\" style=\"fill:rgb(14.5%,14.5%,14.5%);fill-opacity:1.0\">35855_rex</text></g><g class=\"toytree-TipLabel\" transform=\"translate(250.291,157.64)\"><text x=\"15.0\" y=\"3.066\" style=\"fill:rgb(14.5%,14.5%,14.5%);fill-opacity:1.0\">35236_rex</text></g><g class=\"toytree-TipLabel\" transform=\"translate(258.495,140.825)\"><text x=\"15.0\" y=\"3.066\" style=\"fill:rgb(14.5%,14.5%,14.5%);fill-opacity:1.0\">39618_rex</text></g><g class=\"toytree-TipLabel\" transform=\"translate(259.297,124.01)\"><text x=\"15.0\" y=\"3.066\" style=\"fill:rgb(14.5%,14.5%,14.5%);fill-opacity:1.0\">38362_rex</text></g><g class=\"toytree-TipLabel\" transform=\"translate(237.666,107.194)\"><text x=\"15.0\" y=\"3.066\" style=\"fill:rgb(14.5%,14.5%,14.5%);fill-opacity:1.0\">29154_superba</text></g><g class=\"toytree-TipLabel\" transform=\"translate(239.865,90.3791)\"><text x=\"15.0\" y=\"3.066\" style=\"fill:rgb(14.5%,14.5%,14.5%);fill-opacity:1.0\">30686_cyathophylla</text></g><g class=\"toytree-TipLabel\" transform=\"translate(242.45,73.5638)\"><text x=\"15.0\" y=\"3.066\" style=\"fill:rgb(14.5%,14.5%,14.5%);fill-opacity:1.0\">41954_cyathophylloides</text></g><g class=\"toytree-TipLabel\" transform=\"translate(242.228,56.7486)\"><text x=\"15.0\" y=\"3.066\" style=\"fill:rgb(14.5%,14.5%,14.5%);fill-opacity:1.0\">41478_cyathophylloides</text></g></g></g></g></g></svg><div class=\"toyplot-behavior\"><script>(function()\n",
       "{\n",
       "var modules={};\n",
       "})();</script></div></div>"
      ]
     },
     "metadata": {},
     "output_type": "display_data"
    }
   ],
   "source": [
    "# use tuple format to range-map values of a data feature between min max sizes\n",
    "rtre.draw(node_sizes=(\"height\", 5, 15));"
   ]
  },
  {
   "cell_type": "markdown",
   "metadata": {},
   "source": [
    "#### node_colors\n",
    "Apply a single color to all node markers, or different colors to each.\n",
    "\n",
    "**Type:** `str`, `list[str]`, `tuple[str, Colormap]`  \n",
    "**Allowed:** Any color argument supported in [toyplot colors](https://toyplot.readthedocs.io/en/stable/colors.html#color-values).  \n",
    "**Default:** `rgba(40.0%,76.1%,64.7%,1.000)` (the first color from colormap 'Set2' (cyan))  \n",
    "**Description:** A single color can be entered to apply to all node markers, or a list of colors can be entered in idx order to apply different colors to each node. The special tuple syntax can be used to map colors to feature data extracted from a tree. "
   ]
  },
  {
   "cell_type": "code",
   "execution_count": 58,
   "metadata": {},
   "outputs": [
    {
     "data": {
      "text/html": [
       "<div class=\"toyplot\" id=\"t00da607e5c3441aeab70abd9e8c9936a\" style=\"text-align:center\"><svg class=\"toyplot-canvas-Canvas\" xmlns:toyplot=\"http://www.sandia.gov/toyplot\" xmlns:xlink=\"http://www.w3.org/1999/xlink\" xmlns=\"http://www.w3.org/2000/svg\" width=\"458.972px\" height=\"315.28px\" viewBox=\"0 0 458.972 315.28\" preserveAspectRatio=\"xMidYMid meet\" style=\"background-color:transparent;border-color:#292724;border-style:none;border-width:1.0;fill:rgb(16.1%,15.3%,14.1%);fill-opacity:1.0;font-family:Helvetica;font-size:12px;opacity:1.0;stroke:rgb(16.1%,15.3%,14.1%);stroke-opacity:1.0;stroke-width:1.0\" id=\"t5bd6962b81974a5caef6478436a72981\"><g class=\"toyplot-coordinates-Cartesian\" id=\"t37840ee22b3e477ea479749c9c0c73c7\"><clipPath id=\"t05d57e1250d34e87ade8d3815a37388e\"><rect x=\"35.0\" y=\"35.0\" width=\"388.972\" height=\"245.27999999999997\"></rect></clipPath><g clip-path=\"url(#t05d57e1250d34e87ade8d3815a37388e)\"><g class=\"toytree-mark-Toytree\" id=\"t5998c49e415645f0a98bf0ed9c45f9d4\"><g class=\"toytree-Edges\" style=\"stroke:rgb(14.5%,14.5%,14.5%);stroke-opacity:1.0;stroke-linecap:round;stroke-width:2.0;fill:none\"><path d=\"M 165.6 250.1 L 165.6 258.5 L 181.8 258.5\" id=\"13,0\" style=\"\"></path><path d=\"M 165.6 250.1 L 165.6 241.7 L 181.0 241.7\" id=\"13,1\" style=\"\"></path><path d=\"M 199.2 205.5 L 199.2 224.9 L 234.5 224.9\" id=\"19,2\" style=\"\"></path><path d=\"M 205.7 186.0 L 205.7 208.1 L 246.4 208.1\" id=\"18,3\" style=\"\"></path><path d=\"M 224.5 182.9 L 224.5 191.3 L 245.4 191.3\" id=\"14,4\" style=\"\"></path><path d=\"M 224.5 182.9 L 224.5 174.5 L 245.7 174.5\" id=\"14,5\" style=\"\"></path><path d=\"M 215.2 145.0 L 215.2 157.6 L 251.4 157.6\" id=\"16,6\" style=\"\"></path><path d=\"M 253.7 132.4 L 253.7 140.8 L 259.7 140.8\" id=\"15,7\" style=\"\"></path><path d=\"M 253.7 132.4 L 253.7 124.0 L 260.5 124.0\" id=\"15,8\" style=\"\"></path><path d=\"M 199.0 98.8 L 199.0 107.2 L 238.6 107.2\" id=\"20,9\" style=\"\"></path><path d=\"M 199.0 98.8 L 199.0 90.4 L 240.8 90.4\" id=\"20,10\" style=\"\"></path><path d=\"M 242.9 65.2 L 242.9 73.6 L 243.4 73.6\" id=\"21,11\" style=\"\"></path><path d=\"M 242.9 65.2 L 242.9 56.7 L 243.2 56.7\" id=\"21,12\" style=\"\"></path><path d=\"M 53.7 196.9 L 53.7 250.1 L 165.6 250.1\" id=\"24,13\" style=\"\"></path><path d=\"M 210.5 163.9 L 210.5 182.9 L 224.5 182.9\" id=\"17,14\" style=\"\"></path><path d=\"M 215.2 145.0 L 215.2 132.4 L 253.7 132.4\" id=\"16,15\" style=\"\"></path><path d=\"M 210.5 163.9 L 210.5 145.0 L 215.2 145.0\" id=\"17,16\" style=\"\"></path><path d=\"M 205.7 186.0 L 205.7 163.9 L 210.5 163.9\" id=\"18,17\" style=\"\"></path><path d=\"M 199.2 205.5 L 199.2 186.0 L 205.7 186.0\" id=\"19,18\" style=\"\"></path><path d=\"M 165.6 143.7 L 165.6 205.5 L 199.2 205.5\" id=\"23,19\" style=\"\"></path><path d=\"M 184.2 82.0 L 184.2 98.8 L 199.0 98.8\" id=\"22,20\" style=\"\"></path><path d=\"M 184.2 82.0 L 184.2 65.2 L 242.9 65.2\" id=\"22,21\" style=\"\"></path><path d=\"M 165.6 143.7 L 165.6 82.0 L 184.2 82.0\" id=\"23,22\" style=\"\"></path><path d=\"M 53.7 196.9 L 53.7 143.7 L 165.6 143.7\" id=\"24,23\" style=\"\"></path></g><g class=\"toytree-AdmixEdges\" style=\"fill:rgb(0.0%,0.0%,0.0%);fill-opacity:0.0;stroke:rgb(90.6%,54.1%,76.5%);stroke-opacity:0.6;font-size:14px;stroke-linecap:round;stroke-width:5\"></g><g class=\"toytree-Nodes\" style=\"fill:rgb(100.0%,0.0%,0.0%);fill-opacity:1.0;stroke:rgb(14.9%,14.9%,14.9%);stroke-opacity:1.0;stroke-width:1.5\"><g id=\"Node-13\" transform=\"translate(165.611,250.124)\"><circle r=\"5.0\"></circle></g><g id=\"Node-14\" transform=\"translate(224.451,182.863)\"><circle r=\"5.0\"></circle></g><g id=\"Node-15\" transform=\"translate(253.664,132.417)\"><circle r=\"5.0\"></circle></g><g id=\"Node-16\" transform=\"translate(215.151,145.029)\"><circle r=\"5.0\"></circle></g><g id=\"Node-17\" transform=\"translate(210.543,163.946)\"><circle r=\"5.0\"></circle></g><g id=\"Node-18\" transform=\"translate(205.657,186.016)\"><circle r=\"5.0\"></circle></g><g id=\"Node-19\" transform=\"translate(199.21,205.458)\"><circle r=\"5.0\"></circle></g><g id=\"Node-20\" transform=\"translate(199.016,98.7867)\"><circle r=\"5.0\"></circle></g><g id=\"Node-21\" transform=\"translate(242.862,65.1562)\"><circle r=\"5.0\"></circle></g><g id=\"Node-22\" transform=\"translate(184.173,81.9714)\"><circle r=\"5.0\"></circle></g><g id=\"Node-23\" transform=\"translate(165.611,143.715)\"><circle r=\"5.0\"></circle></g><g id=\"Node-24\" transform=\"translate(53.7434,196.919)\"><circle r=\"5.0\"></circle></g></g><g class=\"toytree-TipLabels\" style=\"fill:rgb(14.5%,14.5%,14.5%);fill-opacity:1.0;font-family:Helvetica;font-size:12px;font-weight:300;vertical-align:baseline;white-space:pre;stroke:none\"><g class=\"toytree-TipLabel\" transform=\"translate(181.785,258.531)\"><text x=\"15.0\" y=\"3.066\" style=\"fill:rgb(14.5%,14.5%,14.5%);fill-opacity:1.0\">32082_przewalskii</text></g><g class=\"toytree-TipLabel\" transform=\"translate(181.024,241.716)\"><text x=\"15.0\" y=\"3.066\" style=\"fill:rgb(14.5%,14.5%,14.5%);fill-opacity:1.0\">33588_przewalskii</text></g><g class=\"toytree-TipLabel\" transform=\"translate(234.47,224.901)\"><text x=\"15.0\" y=\"3.066\" style=\"fill:rgb(14.5%,14.5%,14.5%);fill-opacity:1.0\">33413_thamno</text></g><g class=\"toytree-TipLabel\" transform=\"translate(246.397,208.086)\"><text x=\"15.0\" y=\"3.066\" style=\"fill:rgb(14.5%,14.5%,14.5%);fill-opacity:1.0\">30556_thamno</text></g><g class=\"toytree-TipLabel\" transform=\"translate(245.369,191.27)\"><text x=\"15.0\" y=\"3.066\" style=\"fill:rgb(14.5%,14.5%,14.5%);fill-opacity:1.0\">40578_rex</text></g><g class=\"toytree-TipLabel\" transform=\"translate(245.653,174.455)\"><text x=\"15.0\" y=\"3.066\" style=\"fill:rgb(14.5%,14.5%,14.5%);fill-opacity:1.0\">35855_rex</text></g><g class=\"toytree-TipLabel\" transform=\"translate(251.357,157.64)\"><text x=\"15.0\" y=\"3.066\" style=\"fill:rgb(14.5%,14.5%,14.5%);fill-opacity:1.0\">35236_rex</text></g><g class=\"toytree-TipLabel\" transform=\"translate(259.665,140.825)\"><text x=\"15.0\" y=\"3.066\" style=\"fill:rgb(14.5%,14.5%,14.5%);fill-opacity:1.0\">39618_rex</text></g><g class=\"toytree-TipLabel\" transform=\"translate(260.476,124.01)\"><text x=\"15.0\" y=\"3.066\" style=\"fill:rgb(14.5%,14.5%,14.5%);fill-opacity:1.0\">38362_rex</text></g><g class=\"toytree-TipLabel\" transform=\"translate(238.572,107.194)\"><text x=\"15.0\" y=\"3.066\" style=\"fill:rgb(14.5%,14.5%,14.5%);fill-opacity:1.0\">29154_superba</text></g><g class=\"toytree-TipLabel\" transform=\"translate(240.799,90.3791)\"><text x=\"15.0\" y=\"3.066\" style=\"fill:rgb(14.5%,14.5%,14.5%);fill-opacity:1.0\">30686_cyathophylla</text></g><g class=\"toytree-TipLabel\" transform=\"translate(243.416,73.5638)\"><text x=\"15.0\" y=\"3.066\" style=\"fill:rgb(14.5%,14.5%,14.5%);fill-opacity:1.0\">41954_cyathophylloides</text></g><g class=\"toytree-TipLabel\" transform=\"translate(243.191,56.7486)\"><text x=\"15.0\" y=\"3.066\" style=\"fill:rgb(14.5%,14.5%,14.5%);fill-opacity:1.0\">41478_cyathophylloides</text></g></g></g></g></g></svg><div class=\"toyplot-behavior\"><script>(function()\n",
       "{\n",
       "var modules={};\n",
       "})();</script></div></div>"
      ]
     },
     "metadata": {},
     "output_type": "display_data"
    }
   ],
   "source": [
    "# set a single color for all nodes\n",
    "rtre.draw(node_sizes=10, node_colors=\"red\");"
   ]
  },
  {
   "cell_type": "code",
   "execution_count": 66,
   "metadata": {},
   "outputs": [
    {
     "data": {
      "text/html": [
       "<div class=\"toyplot\" id=\"t90e6bcbe41ed46ed8ffc97e6fb0f6653\" style=\"text-align:center\"><svg class=\"toyplot-canvas-Canvas\" xmlns:toyplot=\"http://www.sandia.gov/toyplot\" xmlns:xlink=\"http://www.w3.org/1999/xlink\" xmlns=\"http://www.w3.org/2000/svg\" width=\"458.972px\" height=\"315.28px\" viewBox=\"0 0 458.972 315.28\" preserveAspectRatio=\"xMidYMid meet\" style=\"background-color:transparent;border-color:#292724;border-style:none;border-width:1.0;fill:rgb(16.1%,15.3%,14.1%);fill-opacity:1.0;font-family:Helvetica;font-size:12px;opacity:1.0;stroke:rgb(16.1%,15.3%,14.1%);stroke-opacity:1.0;stroke-width:1.0\" id=\"t0158e18275f54e6894e748fdd66271e0\"><g class=\"toyplot-coordinates-Cartesian\" id=\"te5503834cc6f437492612b951c061e4a\"><clipPath id=\"t600272165c2742129711221d4a021540\"><rect x=\"35.0\" y=\"35.0\" width=\"388.972\" height=\"245.27999999999997\"></rect></clipPath><g clip-path=\"url(#t600272165c2742129711221d4a021540)\"><g class=\"toytree-mark-Toytree\" id=\"td2635234128747d6a8b8ccf7e1f58d58\"><g class=\"toytree-Edges\" style=\"stroke:rgb(14.5%,14.5%,14.5%);stroke-opacity:1.0;stroke-linecap:round;stroke-width:2.0;fill:none\"><path d=\"M 165.6 250.1 L 165.6 258.5 L 181.8 258.5\" id=\"13,0\" style=\"\"></path><path d=\"M 165.6 250.1 L 165.6 241.7 L 181.0 241.7\" id=\"13,1\" style=\"\"></path><path d=\"M 199.2 205.5 L 199.2 224.9 L 234.5 224.9\" id=\"19,2\" style=\"\"></path><path d=\"M 205.7 186.0 L 205.7 208.1 L 246.4 208.1\" id=\"18,3\" style=\"\"></path><path d=\"M 224.5 182.9 L 224.5 191.3 L 245.4 191.3\" id=\"14,4\" style=\"\"></path><path d=\"M 224.5 182.9 L 224.5 174.5 L 245.7 174.5\" id=\"14,5\" style=\"\"></path><path d=\"M 215.2 145.0 L 215.2 157.6 L 251.4 157.6\" id=\"16,6\" style=\"\"></path><path d=\"M 253.7 132.4 L 253.7 140.8 L 259.7 140.8\" id=\"15,7\" style=\"\"></path><path d=\"M 253.7 132.4 L 253.7 124.0 L 260.5 124.0\" id=\"15,8\" style=\"\"></path><path d=\"M 199.0 98.8 L 199.0 107.2 L 238.6 107.2\" id=\"20,9\" style=\"\"></path><path d=\"M 199.0 98.8 L 199.0 90.4 L 240.8 90.4\" id=\"20,10\" style=\"\"></path><path d=\"M 242.9 65.2 L 242.9 73.6 L 243.4 73.6\" id=\"21,11\" style=\"\"></path><path d=\"M 242.9 65.2 L 242.9 56.7 L 243.2 56.7\" id=\"21,12\" style=\"\"></path><path d=\"M 53.7 196.9 L 53.7 250.1 L 165.6 250.1\" id=\"24,13\" style=\"\"></path><path d=\"M 210.5 163.9 L 210.5 182.9 L 224.5 182.9\" id=\"17,14\" style=\"\"></path><path d=\"M 215.2 145.0 L 215.2 132.4 L 253.7 132.4\" id=\"16,15\" style=\"\"></path><path d=\"M 210.5 163.9 L 210.5 145.0 L 215.2 145.0\" id=\"17,16\" style=\"\"></path><path d=\"M 205.7 186.0 L 205.7 163.9 L 210.5 163.9\" id=\"18,17\" style=\"\"></path><path d=\"M 199.2 205.5 L 199.2 186.0 L 205.7 186.0\" id=\"19,18\" style=\"\"></path><path d=\"M 165.6 143.7 L 165.6 205.5 L 199.2 205.5\" id=\"23,19\" style=\"\"></path><path d=\"M 184.2 82.0 L 184.2 98.8 L 199.0 98.8\" id=\"22,20\" style=\"\"></path><path d=\"M 184.2 82.0 L 184.2 65.2 L 242.9 65.2\" id=\"22,21\" style=\"\"></path><path d=\"M 165.6 143.7 L 165.6 82.0 L 184.2 82.0\" id=\"23,22\" style=\"\"></path><path d=\"M 53.7 196.9 L 53.7 143.7 L 165.6 143.7\" id=\"24,23\" style=\"\"></path></g><g class=\"toytree-AdmixEdges\" style=\"fill:rgb(0.0%,0.0%,0.0%);fill-opacity:0.0;stroke:rgb(90.6%,54.1%,76.5%);stroke-opacity:0.6;font-size:14px;stroke-linecap:round;stroke-width:5\"></g><g class=\"toytree-Nodes\" style=\"fill:rgb(40.0%,76.1%,64.7%);fill-opacity:1.0;stroke:rgb(14.9%,14.9%,14.9%);stroke-opacity:1.0;stroke-width:1.5\"><g id=\"Node-13\" style=\"fill:rgb(100.0%,0.0%,0.0%)\" transform=\"translate(165.611,250.124)\"><circle r=\"5.0\"></circle></g><g id=\"Node-14\" style=\"fill:rgb(100.0%,0.0%,0.0%)\" transform=\"translate(224.451,182.863)\"><circle r=\"5.0\"></circle></g><g id=\"Node-15\" style=\"fill:rgb(100.0%,0.0%,0.0%)\" transform=\"translate(253.664,132.417)\"><circle r=\"5.0\"></circle></g><g id=\"Node-16\" style=\"fill:rgb(100.0%,0.0%,0.0%)\" transform=\"translate(215.151,145.029)\"><circle r=\"5.0\"></circle></g><g id=\"Node-17\" style=\"fill:rgb(100.0%,0.0%,0.0%)\" transform=\"translate(210.543,163.946)\"><circle r=\"5.0\"></circle></g><g id=\"Node-18\" style=\"fill:rgb(0.0%,0.0%,100.0%)\" transform=\"translate(205.657,186.016)\"><circle r=\"5.0\"></circle></g><g id=\"Node-19\" style=\"fill:rgb(0.0%,0.0%,100.0%)\" transform=\"translate(199.21,205.458)\"><circle r=\"5.0\"></circle></g><g id=\"Node-20\" style=\"fill:rgb(0.0%,0.0%,100.0%)\" transform=\"translate(199.016,98.7867)\"><circle r=\"5.0\"></circle></g><g id=\"Node-21\" style=\"fill:rgb(0.0%,0.0%,100.0%)\" transform=\"translate(242.862,65.1562)\"><circle r=\"5.0\"></circle></g><g id=\"Node-22\" style=\"fill:rgb(100.0%,0.0%,0.0%)\" transform=\"translate(184.173,81.9714)\"><circle r=\"5.0\"></circle></g><g id=\"Node-23\" style=\"fill:rgb(100.0%,0.0%,0.0%)\" transform=\"translate(165.611,143.715)\"><circle r=\"5.0\"></circle></g><g id=\"Node-24\" style=\"fill:rgb(100.0%,0.0%,0.0%)\" transform=\"translate(53.7434,196.919)\"><circle r=\"5.0\"></circle></g></g><g class=\"toytree-TipLabels\" style=\"fill:rgb(14.5%,14.5%,14.5%);fill-opacity:1.0;font-family:Helvetica;font-size:12px;font-weight:300;vertical-align:baseline;white-space:pre;stroke:none\"><g class=\"toytree-TipLabel\" transform=\"translate(181.785,258.531)\"><text x=\"15.0\" y=\"3.066\" style=\"fill:rgb(14.5%,14.5%,14.5%);fill-opacity:1.0\">32082_przewalskii</text></g><g class=\"toytree-TipLabel\" transform=\"translate(181.024,241.716)\"><text x=\"15.0\" y=\"3.066\" style=\"fill:rgb(14.5%,14.5%,14.5%);fill-opacity:1.0\">33588_przewalskii</text></g><g class=\"toytree-TipLabel\" transform=\"translate(234.47,224.901)\"><text x=\"15.0\" y=\"3.066\" style=\"fill:rgb(14.5%,14.5%,14.5%);fill-opacity:1.0\">33413_thamno</text></g><g class=\"toytree-TipLabel\" transform=\"translate(246.397,208.086)\"><text x=\"15.0\" y=\"3.066\" style=\"fill:rgb(14.5%,14.5%,14.5%);fill-opacity:1.0\">30556_thamno</text></g><g class=\"toytree-TipLabel\" transform=\"translate(245.369,191.27)\"><text x=\"15.0\" y=\"3.066\" style=\"fill:rgb(14.5%,14.5%,14.5%);fill-opacity:1.0\">40578_rex</text></g><g class=\"toytree-TipLabel\" transform=\"translate(245.653,174.455)\"><text x=\"15.0\" y=\"3.066\" style=\"fill:rgb(14.5%,14.5%,14.5%);fill-opacity:1.0\">35855_rex</text></g><g class=\"toytree-TipLabel\" transform=\"translate(251.357,157.64)\"><text x=\"15.0\" y=\"3.066\" style=\"fill:rgb(14.5%,14.5%,14.5%);fill-opacity:1.0\">35236_rex</text></g><g class=\"toytree-TipLabel\" transform=\"translate(259.665,140.825)\"><text x=\"15.0\" y=\"3.066\" style=\"fill:rgb(14.5%,14.5%,14.5%);fill-opacity:1.0\">39618_rex</text></g><g class=\"toytree-TipLabel\" transform=\"translate(260.476,124.01)\"><text x=\"15.0\" y=\"3.066\" style=\"fill:rgb(14.5%,14.5%,14.5%);fill-opacity:1.0\">38362_rex</text></g><g class=\"toytree-TipLabel\" transform=\"translate(238.572,107.194)\"><text x=\"15.0\" y=\"3.066\" style=\"fill:rgb(14.5%,14.5%,14.5%);fill-opacity:1.0\">29154_superba</text></g><g class=\"toytree-TipLabel\" transform=\"translate(240.799,90.3791)\"><text x=\"15.0\" y=\"3.066\" style=\"fill:rgb(14.5%,14.5%,14.5%);fill-opacity:1.0\">30686_cyathophylla</text></g><g class=\"toytree-TipLabel\" transform=\"translate(243.416,73.5638)\"><text x=\"15.0\" y=\"3.066\" style=\"fill:rgb(14.5%,14.5%,14.5%);fill-opacity:1.0\">41954_cyathophylloides</text></g><g class=\"toytree-TipLabel\" transform=\"translate(243.191,56.7486)\"><text x=\"15.0\" y=\"3.066\" style=\"fill:rgb(14.5%,14.5%,14.5%);fill-opacity:1.0\">41478_cyathophylloides</text></g></g></g></g></g></svg><div class=\"toyplot-behavior\"><script>(function()\n",
       "{\n",
       "var modules={};\n",
       "})();</script></div></div>"
      ]
     },
     "metadata": {},
     "output_type": "display_data"
    }
   ],
   "source": [
    "# create a list of colors (e.g., red or blue randomly sampled nnodes times)\n",
    "colors = np.random.choice([\"red\", \"blue\"], size=rtre.nnodes)\n",
    "rtre.draw(node_sizes=10, node_colors=colors);"
   ]
  },
  {
   "cell_type": "code",
   "execution_count": 67,
   "metadata": {},
   "outputs": [
    {
     "data": {
      "text/html": [
       "<div class=\"toyplot\" id=\"t72ab5d961c1a4414a97c8aa3b098b499\" style=\"text-align:center\"><svg class=\"toyplot-canvas-Canvas\" xmlns:toyplot=\"http://www.sandia.gov/toyplot\" xmlns:xlink=\"http://www.w3.org/1999/xlink\" xmlns=\"http://www.w3.org/2000/svg\" width=\"458.972px\" height=\"315.28px\" viewBox=\"0 0 458.972 315.28\" preserveAspectRatio=\"xMidYMid meet\" style=\"background-color:transparent;border-color:#292724;border-style:none;border-width:1.0;fill:rgb(16.1%,15.3%,14.1%);fill-opacity:1.0;font-family:Helvetica;font-size:12px;opacity:1.0;stroke:rgb(16.1%,15.3%,14.1%);stroke-opacity:1.0;stroke-width:1.0\" id=\"t4eaa2594e76c4fc297990708510e2058\"><g class=\"toyplot-coordinates-Cartesian\" id=\"tab0caf6f74574572938291c02ff6ca6f\"><clipPath id=\"t60a19a5bd03e4d51930e208ef6ce0a5b\"><rect x=\"35.0\" y=\"35.0\" width=\"388.972\" height=\"245.27999999999997\"></rect></clipPath><g clip-path=\"url(#t60a19a5bd03e4d51930e208ef6ce0a5b)\"><g class=\"toytree-mark-Toytree\" id=\"t82ad3d51c6bf43a3b7fd7755053f2ec1\"><g class=\"toytree-Edges\" style=\"stroke:rgb(14.5%,14.5%,14.5%);stroke-opacity:1.0;stroke-linecap:round;stroke-width:2.0;fill:none\"><path d=\"M 165.6 250.1 L 165.6 258.5 L 181.8 258.5\" id=\"13,0\" style=\"\"></path><path d=\"M 165.6 250.1 L 165.6 241.7 L 181.0 241.7\" id=\"13,1\" style=\"\"></path><path d=\"M 199.2 205.5 L 199.2 224.9 L 234.5 224.9\" id=\"19,2\" style=\"\"></path><path d=\"M 205.7 186.0 L 205.7 208.1 L 246.4 208.1\" id=\"18,3\" style=\"\"></path><path d=\"M 224.5 182.9 L 224.5 191.3 L 245.4 191.3\" id=\"14,4\" style=\"\"></path><path d=\"M 224.5 182.9 L 224.5 174.5 L 245.7 174.5\" id=\"14,5\" style=\"\"></path><path d=\"M 215.2 145.0 L 215.2 157.6 L 251.4 157.6\" id=\"16,6\" style=\"\"></path><path d=\"M 253.7 132.4 L 253.7 140.8 L 259.7 140.8\" id=\"15,7\" style=\"\"></path><path d=\"M 253.7 132.4 L 253.7 124.0 L 260.5 124.0\" id=\"15,8\" style=\"\"></path><path d=\"M 199.0 98.8 L 199.0 107.2 L 238.6 107.2\" id=\"20,9\" style=\"\"></path><path d=\"M 199.0 98.8 L 199.0 90.4 L 240.8 90.4\" id=\"20,10\" style=\"\"></path><path d=\"M 242.9 65.2 L 242.9 73.6 L 243.4 73.6\" id=\"21,11\" style=\"\"></path><path d=\"M 242.9 65.2 L 242.9 56.7 L 243.2 56.7\" id=\"21,12\" style=\"\"></path><path d=\"M 53.7 196.9 L 53.7 250.1 L 165.6 250.1\" id=\"24,13\" style=\"\"></path><path d=\"M 210.5 163.9 L 210.5 182.9 L 224.5 182.9\" id=\"17,14\" style=\"\"></path><path d=\"M 215.2 145.0 L 215.2 132.4 L 253.7 132.4\" id=\"16,15\" style=\"\"></path><path d=\"M 210.5 163.9 L 210.5 145.0 L 215.2 145.0\" id=\"17,16\" style=\"\"></path><path d=\"M 205.7 186.0 L 205.7 163.9 L 210.5 163.9\" id=\"18,17\" style=\"\"></path><path d=\"M 199.2 205.5 L 199.2 186.0 L 205.7 186.0\" id=\"19,18\" style=\"\"></path><path d=\"M 165.6 143.7 L 165.6 205.5 L 199.2 205.5\" id=\"23,19\" style=\"\"></path><path d=\"M 184.2 82.0 L 184.2 98.8 L 199.0 98.8\" id=\"22,20\" style=\"\"></path><path d=\"M 184.2 82.0 L 184.2 65.2 L 242.9 65.2\" id=\"22,21\" style=\"\"></path><path d=\"M 165.6 143.7 L 165.6 82.0 L 184.2 82.0\" id=\"23,22\" style=\"\"></path><path d=\"M 53.7 196.9 L 53.7 143.7 L 165.6 143.7\" id=\"24,23\" style=\"\"></path></g><g class=\"toytree-AdmixEdges\" style=\"fill:rgb(0.0%,0.0%,0.0%);fill-opacity:0.0;stroke:rgb(90.6%,54.1%,76.5%);stroke-opacity:0.6;font-size:14px;stroke-linecap:round;stroke-width:5\"></g><g class=\"toytree-Nodes\" style=\"fill:rgb(40.0%,76.1%,64.7%);fill-opacity:1.0;stroke:rgb(14.9%,14.9%,14.9%);stroke-opacity:1.0;stroke-width:1.5\"><g id=\"Node-13\" style=\"fill:rgb(54.3%,54.3%,54.3%)\" transform=\"translate(165.611,250.124)\"><circle r=\"5.0\"></circle></g><g id=\"Node-14\" style=\"fill:rgb(21.5%,21.5%,21.5%)\" transform=\"translate(224.451,182.863)\"><circle r=\"5.0\"></circle></g><g id=\"Node-15\" style=\"fill:rgb(3.8%,3.8%,3.8%)\" transform=\"translate(253.664,132.417)\"><circle r=\"5.0\"></circle></g><g id=\"Node-16\" style=\"fill:rgb(27.8%,27.8%,27.8%)\" transform=\"translate(215.151,145.029)\"><circle r=\"5.0\"></circle></g><g id=\"Node-17\" style=\"fill:rgb(31.0%,31.0%,31.0%)\" transform=\"translate(210.543,163.946)\"><circle r=\"5.0\"></circle></g><g id=\"Node-18\" style=\"fill:rgb(33.7%,33.7%,33.7%)\" transform=\"translate(205.657,186.016)\"><circle r=\"5.0\"></circle></g><g id=\"Node-19\" style=\"fill:rgb(37.0%,37.0%,37.0%)\" transform=\"translate(199.21,205.458)\"><circle r=\"5.0\"></circle></g><g id=\"Node-20\" style=\"fill:rgb(37.1%,37.1%,37.1%)\" transform=\"translate(199.016,98.7867)\"><circle r=\"5.0\"></circle></g><g id=\"Node-21\" style=\"fill:rgb(9.9%,9.9%,9.9%)\" transform=\"translate(242.862,65.1562)\"><circle r=\"5.0\"></circle></g><g id=\"Node-22\" style=\"fill:rgb(44.5%,44.5%,44.5%)\" transform=\"translate(184.173,81.9714)\"><circle r=\"5.0\"></circle></g><g id=\"Node-23\" style=\"fill:rgb(54.3%,54.3%,54.3%)\" transform=\"translate(165.611,143.715)\"><circle r=\"5.0\"></circle></g><g id=\"Node-24\" style=\"fill:rgb(100.0%,100.0%,100.0%)\" transform=\"translate(53.7434,196.919)\"><circle r=\"5.0\"></circle></g></g><g class=\"toytree-TipLabels\" style=\"fill:rgb(14.5%,14.5%,14.5%);fill-opacity:1.0;font-family:Helvetica;font-size:12px;font-weight:300;vertical-align:baseline;white-space:pre;stroke:none\"><g class=\"toytree-TipLabel\" transform=\"translate(181.785,258.531)\"><text x=\"15.0\" y=\"3.066\" style=\"fill:rgb(14.5%,14.5%,14.5%);fill-opacity:1.0\">32082_przewalskii</text></g><g class=\"toytree-TipLabel\" transform=\"translate(181.024,241.716)\"><text x=\"15.0\" y=\"3.066\" style=\"fill:rgb(14.5%,14.5%,14.5%);fill-opacity:1.0\">33588_przewalskii</text></g><g class=\"toytree-TipLabel\" transform=\"translate(234.47,224.901)\"><text x=\"15.0\" y=\"3.066\" style=\"fill:rgb(14.5%,14.5%,14.5%);fill-opacity:1.0\">33413_thamno</text></g><g class=\"toytree-TipLabel\" transform=\"translate(246.397,208.086)\"><text x=\"15.0\" y=\"3.066\" style=\"fill:rgb(14.5%,14.5%,14.5%);fill-opacity:1.0\">30556_thamno</text></g><g class=\"toytree-TipLabel\" transform=\"translate(245.369,191.27)\"><text x=\"15.0\" y=\"3.066\" style=\"fill:rgb(14.5%,14.5%,14.5%);fill-opacity:1.0\">40578_rex</text></g><g class=\"toytree-TipLabel\" transform=\"translate(245.653,174.455)\"><text x=\"15.0\" y=\"3.066\" style=\"fill:rgb(14.5%,14.5%,14.5%);fill-opacity:1.0\">35855_rex</text></g><g class=\"toytree-TipLabel\" transform=\"translate(251.357,157.64)\"><text x=\"15.0\" y=\"3.066\" style=\"fill:rgb(14.5%,14.5%,14.5%);fill-opacity:1.0\">35236_rex</text></g><g class=\"toytree-TipLabel\" transform=\"translate(259.665,140.825)\"><text x=\"15.0\" y=\"3.066\" style=\"fill:rgb(14.5%,14.5%,14.5%);fill-opacity:1.0\">39618_rex</text></g><g class=\"toytree-TipLabel\" transform=\"translate(260.476,124.01)\"><text x=\"15.0\" y=\"3.066\" style=\"fill:rgb(14.5%,14.5%,14.5%);fill-opacity:1.0\">38362_rex</text></g><g class=\"toytree-TipLabel\" transform=\"translate(238.572,107.194)\"><text x=\"15.0\" y=\"3.066\" style=\"fill:rgb(14.5%,14.5%,14.5%);fill-opacity:1.0\">29154_superba</text></g><g class=\"toytree-TipLabel\" transform=\"translate(240.799,90.3791)\"><text x=\"15.0\" y=\"3.066\" style=\"fill:rgb(14.5%,14.5%,14.5%);fill-opacity:1.0\">30686_cyathophylla</text></g><g class=\"toytree-TipLabel\" transform=\"translate(243.416,73.5638)\"><text x=\"15.0\" y=\"3.066\" style=\"fill:rgb(14.5%,14.5%,14.5%);fill-opacity:1.0\">41954_cyathophylloides</text></g><g class=\"toytree-TipLabel\" transform=\"translate(243.191,56.7486)\"><text x=\"15.0\" y=\"3.066\" style=\"fill:rgb(14.5%,14.5%,14.5%);fill-opacity:1.0\">41478_cyathophylloides</text></g></g></g></g></g></svg><div class=\"toyplot-behavior\"><script>(function()\n",
       "{\n",
       "var modules={};\n",
       "})();</script></div></div>"
      ]
     },
     "metadata": {},
     "output_type": "display_data"
    }
   ],
   "source": [
    "# colormap data from a tree feature to a colormap using tuple format\n",
    "rtre.draw(node_sizes=10, node_colors=(\"height\", \"Greys\"));"
   ]
  },
  {
   "cell_type": "markdown",
   "metadata": {},
   "source": [
    "#### node_markers\n",
    "\n",
    "\n",
    "See [toyplot markers](https://toyplot.readthedocs.io/en/stable/markers.html) for available options. "
   ]
  },
  {
   "cell_type": "code",
   "execution_count": 71,
   "metadata": {},
   "outputs": [
    {
     "data": {
      "text/html": [
       "<div class=\"toyplot\" id=\"t61235b79abef466b9ecd60373516dfa9\" style=\"text-align:center\"><svg class=\"toyplot-canvas-Canvas\" xmlns:toyplot=\"http://www.sandia.gov/toyplot\" xmlns:xlink=\"http://www.w3.org/1999/xlink\" xmlns=\"http://www.w3.org/2000/svg\" width=\"458.972px\" height=\"315.28px\" viewBox=\"0 0 458.972 315.28\" preserveAspectRatio=\"xMidYMid meet\" style=\"background-color:transparent;border-color:#292724;border-style:none;border-width:1.0;fill:rgb(16.1%,15.3%,14.1%);fill-opacity:1.0;font-family:Helvetica;font-size:12px;opacity:1.0;stroke:rgb(16.1%,15.3%,14.1%);stroke-opacity:1.0;stroke-width:1.0\" id=\"te6624866c6894dcfb43e483a7b5c3c01\"><g class=\"toyplot-coordinates-Cartesian\" id=\"t1d0eef7e143c489e96d8e00e8b37b503\"><clipPath id=\"tc0b4398c02aa4bd3a93f0a2e99fd8188\"><rect x=\"35.0\" y=\"35.0\" width=\"388.972\" height=\"245.27999999999997\"></rect></clipPath><g clip-path=\"url(#tc0b4398c02aa4bd3a93f0a2e99fd8188)\"><g class=\"toytree-mark-Toytree\" id=\"tfba4d652a9164be2b8a020d0a2b0ab8c\"><g class=\"toytree-Edges\" style=\"stroke:rgb(14.5%,14.5%,14.5%);stroke-opacity:1.0;stroke-linecap:round;stroke-width:2.0;fill:none\"><path d=\"M 165.6 250.1 L 165.6 258.5 L 181.8 258.5\" id=\"13,0\" style=\"\"></path><path d=\"M 165.6 250.1 L 165.6 241.7 L 181.0 241.7\" id=\"13,1\" style=\"\"></path><path d=\"M 199.2 205.5 L 199.2 224.9 L 234.5 224.9\" id=\"19,2\" style=\"\"></path><path d=\"M 205.7 186.0 L 205.7 208.1 L 246.4 208.1\" id=\"18,3\" style=\"\"></path><path d=\"M 224.5 182.9 L 224.5 191.3 L 245.4 191.3\" id=\"14,4\" style=\"\"></path><path d=\"M 224.5 182.9 L 224.5 174.5 L 245.7 174.5\" id=\"14,5\" style=\"\"></path><path d=\"M 215.2 145.0 L 215.2 157.6 L 251.4 157.6\" id=\"16,6\" style=\"\"></path><path d=\"M 253.7 132.4 L 253.7 140.8 L 259.7 140.8\" id=\"15,7\" style=\"\"></path><path d=\"M 253.7 132.4 L 253.7 124.0 L 260.5 124.0\" id=\"15,8\" style=\"\"></path><path d=\"M 199.0 98.8 L 199.0 107.2 L 238.6 107.2\" id=\"20,9\" style=\"\"></path><path d=\"M 199.0 98.8 L 199.0 90.4 L 240.8 90.4\" id=\"20,10\" style=\"\"></path><path d=\"M 242.9 65.2 L 242.9 73.6 L 243.4 73.6\" id=\"21,11\" style=\"\"></path><path d=\"M 242.9 65.2 L 242.9 56.7 L 243.2 56.7\" id=\"21,12\" style=\"\"></path><path d=\"M 53.7 196.9 L 53.7 250.1 L 165.6 250.1\" id=\"24,13\" style=\"\"></path><path d=\"M 210.5 163.9 L 210.5 182.9 L 224.5 182.9\" id=\"17,14\" style=\"\"></path><path d=\"M 215.2 145.0 L 215.2 132.4 L 253.7 132.4\" id=\"16,15\" style=\"\"></path><path d=\"M 210.5 163.9 L 210.5 145.0 L 215.2 145.0\" id=\"17,16\" style=\"\"></path><path d=\"M 205.7 186.0 L 205.7 163.9 L 210.5 163.9\" id=\"18,17\" style=\"\"></path><path d=\"M 199.2 205.5 L 199.2 186.0 L 205.7 186.0\" id=\"19,18\" style=\"\"></path><path d=\"M 165.6 143.7 L 165.6 205.5 L 199.2 205.5\" id=\"23,19\" style=\"\"></path><path d=\"M 184.2 82.0 L 184.2 98.8 L 199.0 98.8\" id=\"22,20\" style=\"\"></path><path d=\"M 184.2 82.0 L 184.2 65.2 L 242.9 65.2\" id=\"22,21\" style=\"\"></path><path d=\"M 165.6 143.7 L 165.6 82.0 L 184.2 82.0\" id=\"23,22\" style=\"\"></path><path d=\"M 53.7 196.9 L 53.7 143.7 L 165.6 143.7\" id=\"24,23\" style=\"\"></path></g><g class=\"toytree-AdmixEdges\" style=\"fill:rgb(0.0%,0.0%,0.0%);fill-opacity:0.0;stroke:rgb(90.6%,54.1%,76.5%);stroke-opacity:0.6;font-size:14px;stroke-linecap:round;stroke-width:5\"></g><g class=\"toytree-Nodes\" style=\"fill:rgb(40.0%,76.1%,64.7%);fill-opacity:1.0;stroke:rgb(14.9%,14.9%,14.9%);stroke-opacity:1.0;stroke-width:1.5\"><g id=\"Node-13\" transform=\"translate(165.611,250.124)\"><circle r=\"5.0\"></circle></g><g id=\"Node-14\" transform=\"translate(224.451,182.863)\"><circle r=\"5.0\"></circle></g><g id=\"Node-15\" transform=\"translate(253.664,132.417)\"><circle r=\"5.0\"></circle></g><g id=\"Node-16\" transform=\"translate(215.151,145.029)\"><circle r=\"5.0\"></circle></g><g id=\"Node-17\" transform=\"translate(210.543,163.946)\"><circle r=\"5.0\"></circle></g><g id=\"Node-18\" transform=\"translate(205.657,186.016)\"><circle r=\"5.0\"></circle></g><g id=\"Node-19\" transform=\"translate(199.21,205.458)\"><circle r=\"5.0\"></circle></g><g id=\"Node-20\" transform=\"translate(199.016,98.7867)\"><circle r=\"5.0\"></circle></g><g id=\"Node-21\" transform=\"translate(242.862,65.1562)\"><circle r=\"5.0\"></circle></g><g id=\"Node-22\" transform=\"translate(184.173,81.9714)\"><circle r=\"5.0\"></circle></g><g id=\"Node-23\" transform=\"translate(165.611,143.715)\"><circle r=\"5.0\"></circle></g><g id=\"Node-24\" transform=\"translate(53.7434,196.919)\"><circle r=\"5.0\"></circle></g></g><g class=\"toytree-TipLabels\" style=\"fill:rgb(14.5%,14.5%,14.5%);fill-opacity:1.0;font-family:Helvetica;font-size:12px;font-weight:300;vertical-align:baseline;white-space:pre;stroke:none\"><g class=\"toytree-TipLabel\" transform=\"translate(181.785,258.531)\"><text x=\"15.0\" y=\"3.066\" style=\"fill:rgb(14.5%,14.5%,14.5%);fill-opacity:1.0\">32082_przewalskii</text></g><g class=\"toytree-TipLabel\" transform=\"translate(181.024,241.716)\"><text x=\"15.0\" y=\"3.066\" style=\"fill:rgb(14.5%,14.5%,14.5%);fill-opacity:1.0\">33588_przewalskii</text></g><g class=\"toytree-TipLabel\" transform=\"translate(234.47,224.901)\"><text x=\"15.0\" y=\"3.066\" style=\"fill:rgb(14.5%,14.5%,14.5%);fill-opacity:1.0\">33413_thamno</text></g><g class=\"toytree-TipLabel\" transform=\"translate(246.397,208.086)\"><text x=\"15.0\" y=\"3.066\" style=\"fill:rgb(14.5%,14.5%,14.5%);fill-opacity:1.0\">30556_thamno</text></g><g class=\"toytree-TipLabel\" transform=\"translate(245.369,191.27)\"><text x=\"15.0\" y=\"3.066\" style=\"fill:rgb(14.5%,14.5%,14.5%);fill-opacity:1.0\">40578_rex</text></g><g class=\"toytree-TipLabel\" transform=\"translate(245.653,174.455)\"><text x=\"15.0\" y=\"3.066\" style=\"fill:rgb(14.5%,14.5%,14.5%);fill-opacity:1.0\">35855_rex</text></g><g class=\"toytree-TipLabel\" transform=\"translate(251.357,157.64)\"><text x=\"15.0\" y=\"3.066\" style=\"fill:rgb(14.5%,14.5%,14.5%);fill-opacity:1.0\">35236_rex</text></g><g class=\"toytree-TipLabel\" transform=\"translate(259.665,140.825)\"><text x=\"15.0\" y=\"3.066\" style=\"fill:rgb(14.5%,14.5%,14.5%);fill-opacity:1.0\">39618_rex</text></g><g class=\"toytree-TipLabel\" transform=\"translate(260.476,124.01)\"><text x=\"15.0\" y=\"3.066\" style=\"fill:rgb(14.5%,14.5%,14.5%);fill-opacity:1.0\">38362_rex</text></g><g class=\"toytree-TipLabel\" transform=\"translate(238.572,107.194)\"><text x=\"15.0\" y=\"3.066\" style=\"fill:rgb(14.5%,14.5%,14.5%);fill-opacity:1.0\">29154_superba</text></g><g class=\"toytree-TipLabel\" transform=\"translate(240.799,90.3791)\"><text x=\"15.0\" y=\"3.066\" style=\"fill:rgb(14.5%,14.5%,14.5%);fill-opacity:1.0\">30686_cyathophylla</text></g><g class=\"toytree-TipLabel\" transform=\"translate(243.416,73.5638)\"><text x=\"15.0\" y=\"3.066\" style=\"fill:rgb(14.5%,14.5%,14.5%);fill-opacity:1.0\">41954_cyathophylloides</text></g><g class=\"toytree-TipLabel\" transform=\"translate(243.191,56.7486)\"><text x=\"15.0\" y=\"3.066\" style=\"fill:rgb(14.5%,14.5%,14.5%);fill-opacity:1.0\">41478_cyathophylloides</text></g></g></g></g></g></svg><div class=\"toyplot-behavior\"><script>(function()\n",
       "{\n",
       "var modules={};\n",
       "})();</script></div></div>"
      ]
     },
     "metadata": {},
     "output_type": "display_data"
    }
   ],
   "source": [
    "# default marker is a circle\n",
    "rtre.draw(node_sizes=10, node_markers=\"o\");"
   ]
  },
  {
   "cell_type": "code",
   "execution_count": 74,
   "metadata": {},
   "outputs": [
    {
     "data": {
      "text/html": [
       "<div class=\"toyplot\" id=\"t5f4f357855d7464aa4ff24540549fdcb\" style=\"text-align:center\"><svg class=\"toyplot-canvas-Canvas\" xmlns:toyplot=\"http://www.sandia.gov/toyplot\" xmlns:xlink=\"http://www.w3.org/1999/xlink\" xmlns=\"http://www.w3.org/2000/svg\" width=\"458.972px\" height=\"315.28px\" viewBox=\"0 0 458.972 315.28\" preserveAspectRatio=\"xMidYMid meet\" style=\"background-color:transparent;border-color:#292724;border-style:none;border-width:1.0;fill:rgb(16.1%,15.3%,14.1%);fill-opacity:1.0;font-family:Helvetica;font-size:12px;opacity:1.0;stroke:rgb(16.1%,15.3%,14.1%);stroke-opacity:1.0;stroke-width:1.0\" id=\"ta63fb6dee4324747b867f500d2d3d5f5\"><g class=\"toyplot-coordinates-Cartesian\" id=\"t0bd9a60b5798441fbeb16007652937b4\"><clipPath id=\"t7bcd8f9a801c435381314e50d44ad734\"><rect x=\"35.0\" y=\"35.0\" width=\"388.972\" height=\"245.27999999999997\"></rect></clipPath><g clip-path=\"url(#t7bcd8f9a801c435381314e50d44ad734)\"><g class=\"toytree-mark-Toytree\" id=\"tf4d948340c424b0fad13a7547a6544b8\"><g class=\"toytree-Edges\" style=\"stroke:rgb(14.5%,14.5%,14.5%);stroke-opacity:1.0;stroke-linecap:round;stroke-width:2.0;fill:none\"><path d=\"M 165.6 250.1 L 165.6 258.5 L 181.8 258.5\" id=\"13,0\" style=\"\"></path><path d=\"M 165.6 250.1 L 165.6 241.7 L 181.0 241.7\" id=\"13,1\" style=\"\"></path><path d=\"M 199.2 205.5 L 199.2 224.9 L 234.5 224.9\" id=\"19,2\" style=\"\"></path><path d=\"M 205.7 186.0 L 205.7 208.1 L 246.4 208.1\" id=\"18,3\" style=\"\"></path><path d=\"M 224.5 182.9 L 224.5 191.3 L 245.4 191.3\" id=\"14,4\" style=\"\"></path><path d=\"M 224.5 182.9 L 224.5 174.5 L 245.7 174.5\" id=\"14,5\" style=\"\"></path><path d=\"M 215.2 145.0 L 215.2 157.6 L 251.4 157.6\" id=\"16,6\" style=\"\"></path><path d=\"M 253.7 132.4 L 253.7 140.8 L 259.7 140.8\" id=\"15,7\" style=\"\"></path><path d=\"M 253.7 132.4 L 253.7 124.0 L 260.5 124.0\" id=\"15,8\" style=\"\"></path><path d=\"M 199.0 98.8 L 199.0 107.2 L 238.6 107.2\" id=\"20,9\" style=\"\"></path><path d=\"M 199.0 98.8 L 199.0 90.4 L 240.8 90.4\" id=\"20,10\" style=\"\"></path><path d=\"M 242.9 65.2 L 242.9 73.6 L 243.4 73.6\" id=\"21,11\" style=\"\"></path><path d=\"M 242.9 65.2 L 242.9 56.7 L 243.2 56.7\" id=\"21,12\" style=\"\"></path><path d=\"M 53.7 196.9 L 53.7 250.1 L 165.6 250.1\" id=\"24,13\" style=\"\"></path><path d=\"M 210.5 163.9 L 210.5 182.9 L 224.5 182.9\" id=\"17,14\" style=\"\"></path><path d=\"M 215.2 145.0 L 215.2 132.4 L 253.7 132.4\" id=\"16,15\" style=\"\"></path><path d=\"M 210.5 163.9 L 210.5 145.0 L 215.2 145.0\" id=\"17,16\" style=\"\"></path><path d=\"M 205.7 186.0 L 205.7 163.9 L 210.5 163.9\" id=\"18,17\" style=\"\"></path><path d=\"M 199.2 205.5 L 199.2 186.0 L 205.7 186.0\" id=\"19,18\" style=\"\"></path><path d=\"M 165.6 143.7 L 165.6 205.5 L 199.2 205.5\" id=\"23,19\" style=\"\"></path><path d=\"M 184.2 82.0 L 184.2 98.8 L 199.0 98.8\" id=\"22,20\" style=\"\"></path><path d=\"M 184.2 82.0 L 184.2 65.2 L 242.9 65.2\" id=\"22,21\" style=\"\"></path><path d=\"M 165.6 143.7 L 165.6 82.0 L 184.2 82.0\" id=\"23,22\" style=\"\"></path><path d=\"M 53.7 196.9 L 53.7 143.7 L 165.6 143.7\" id=\"24,23\" style=\"\"></path></g><g class=\"toytree-AdmixEdges\" style=\"fill:rgb(0.0%,0.0%,0.0%);fill-opacity:0.0;stroke:rgb(90.6%,54.1%,76.5%);stroke-opacity:0.6;font-size:14px;stroke-linecap:round;stroke-width:5\"></g><g class=\"toytree-Nodes\" style=\"fill:rgb(40.0%,76.1%,64.7%);fill-opacity:1.0;stroke:rgb(14.9%,14.9%,14.9%);stroke-opacity:1.0;stroke-width:1.5\"><g id=\"Node-13\" transform=\"translate(165.611,250.124)\"><rect x=\"-5.0\" y=\"-5.0\" width=\"10\" height=\"10\"></rect></g><g id=\"Node-14\" transform=\"translate(224.451,182.863)\"><rect x=\"-5.0\" y=\"-5.0\" width=\"10\" height=\"10\"></rect></g><g id=\"Node-15\" transform=\"translate(253.664,132.417)\"><rect x=\"-5.0\" y=\"-5.0\" width=\"10\" height=\"10\"></rect></g><g id=\"Node-16\" transform=\"translate(215.151,145.029)\"><rect x=\"-5.0\" y=\"-5.0\" width=\"10\" height=\"10\"></rect></g><g id=\"Node-17\" transform=\"translate(210.543,163.946)\"><rect x=\"-5.0\" y=\"-5.0\" width=\"10\" height=\"10\"></rect></g><g id=\"Node-18\" transform=\"translate(205.657,186.016)\"><rect x=\"-5.0\" y=\"-5.0\" width=\"10\" height=\"10\"></rect></g><g id=\"Node-19\" transform=\"translate(199.21,205.458)\"><rect x=\"-5.0\" y=\"-5.0\" width=\"10\" height=\"10\"></rect></g><g id=\"Node-20\" transform=\"translate(199.016,98.7867)\"><rect x=\"-5.0\" y=\"-5.0\" width=\"10\" height=\"10\"></rect></g><g id=\"Node-21\" transform=\"translate(242.862,65.1562)\"><rect x=\"-5.0\" y=\"-5.0\" width=\"10\" height=\"10\"></rect></g><g id=\"Node-22\" transform=\"translate(184.173,81.9714)\"><rect x=\"-5.0\" y=\"-5.0\" width=\"10\" height=\"10\"></rect></g><g id=\"Node-23\" transform=\"translate(165.611,143.715)\"><rect x=\"-5.0\" y=\"-5.0\" width=\"10\" height=\"10\"></rect></g><g id=\"Node-24\" transform=\"translate(53.7434,196.919)\"><rect x=\"-5.0\" y=\"-5.0\" width=\"10\" height=\"10\"></rect></g></g><g class=\"toytree-TipLabels\" style=\"fill:rgb(14.5%,14.5%,14.5%);fill-opacity:1.0;font-family:Helvetica;font-size:12px;font-weight:300;vertical-align:baseline;white-space:pre;stroke:none\"><g class=\"toytree-TipLabel\" transform=\"translate(181.785,258.531)\"><text x=\"15.0\" y=\"3.066\" style=\"fill:rgb(14.5%,14.5%,14.5%);fill-opacity:1.0\">32082_przewalskii</text></g><g class=\"toytree-TipLabel\" transform=\"translate(181.024,241.716)\"><text x=\"15.0\" y=\"3.066\" style=\"fill:rgb(14.5%,14.5%,14.5%);fill-opacity:1.0\">33588_przewalskii</text></g><g class=\"toytree-TipLabel\" transform=\"translate(234.47,224.901)\"><text x=\"15.0\" y=\"3.066\" style=\"fill:rgb(14.5%,14.5%,14.5%);fill-opacity:1.0\">33413_thamno</text></g><g class=\"toytree-TipLabel\" transform=\"translate(246.397,208.086)\"><text x=\"15.0\" y=\"3.066\" style=\"fill:rgb(14.5%,14.5%,14.5%);fill-opacity:1.0\">30556_thamno</text></g><g class=\"toytree-TipLabel\" transform=\"translate(245.369,191.27)\"><text x=\"15.0\" y=\"3.066\" style=\"fill:rgb(14.5%,14.5%,14.5%);fill-opacity:1.0\">40578_rex</text></g><g class=\"toytree-TipLabel\" transform=\"translate(245.653,174.455)\"><text x=\"15.0\" y=\"3.066\" style=\"fill:rgb(14.5%,14.5%,14.5%);fill-opacity:1.0\">35855_rex</text></g><g class=\"toytree-TipLabel\" transform=\"translate(251.357,157.64)\"><text x=\"15.0\" y=\"3.066\" style=\"fill:rgb(14.5%,14.5%,14.5%);fill-opacity:1.0\">35236_rex</text></g><g class=\"toytree-TipLabel\" transform=\"translate(259.665,140.825)\"><text x=\"15.0\" y=\"3.066\" style=\"fill:rgb(14.5%,14.5%,14.5%);fill-opacity:1.0\">39618_rex</text></g><g class=\"toytree-TipLabel\" transform=\"translate(260.476,124.01)\"><text x=\"15.0\" y=\"3.066\" style=\"fill:rgb(14.5%,14.5%,14.5%);fill-opacity:1.0\">38362_rex</text></g><g class=\"toytree-TipLabel\" transform=\"translate(238.572,107.194)\"><text x=\"15.0\" y=\"3.066\" style=\"fill:rgb(14.5%,14.5%,14.5%);fill-opacity:1.0\">29154_superba</text></g><g class=\"toytree-TipLabel\" transform=\"translate(240.799,90.3791)\"><text x=\"15.0\" y=\"3.066\" style=\"fill:rgb(14.5%,14.5%,14.5%);fill-opacity:1.0\">30686_cyathophylla</text></g><g class=\"toytree-TipLabel\" transform=\"translate(243.416,73.5638)\"><text x=\"15.0\" y=\"3.066\" style=\"fill:rgb(14.5%,14.5%,14.5%);fill-opacity:1.0\">41954_cyathophylloides</text></g><g class=\"toytree-TipLabel\" transform=\"translate(243.191,56.7486)\"><text x=\"15.0\" y=\"3.066\" style=\"fill:rgb(14.5%,14.5%,14.5%);fill-opacity:1.0\">41478_cyathophylloides</text></g></g></g></g></g></svg><div class=\"toyplot-behavior\"><script>(function()\n",
       "{\n",
       "var modules={};\n",
       "})();</script></div></div>"
      ]
     },
     "metadata": {},
     "output_type": "display_data"
    }
   ],
   "source": [
    "# alternative shapes are available (see options above)\n",
    "rtre.draw(node_sizes=10, node_markers=\"s\");"
   ]
  },
  {
   "cell_type": "markdown",
   "metadata": {},
   "source": [
    "Rectangular markers can be drawn in many dimensions. Designate \"r2x1\" for a box that is twice as wide as it is tall. "
   ]
  },
  {
   "cell_type": "code",
   "execution_count": 76,
   "metadata": {},
   "outputs": [
    {
     "data": {
      "text/html": [
       "<div class=\"toyplot\" id=\"t6326c07bd8a14b3dadc1acd11279fb25\" style=\"text-align:center\"><svg class=\"toyplot-canvas-Canvas\" xmlns:toyplot=\"http://www.sandia.gov/toyplot\" xmlns:xlink=\"http://www.w3.org/1999/xlink\" xmlns=\"http://www.w3.org/2000/svg\" width=\"463.972px\" height=\"331.725px\" viewBox=\"0 0 463.972 331.725\" preserveAspectRatio=\"xMidYMid meet\" style=\"background-color:transparent;border-color:#292724;border-style:none;border-width:1.0;fill:rgb(16.1%,15.3%,14.1%);fill-opacity:1.0;font-family:Helvetica;font-size:12px;opacity:1.0;stroke:rgb(16.1%,15.3%,14.1%);stroke-opacity:1.0;stroke-width:1.0\" id=\"tff689969abf34d149720725e0e2bec86\"><g class=\"toyplot-coordinates-Cartesian\" id=\"taf2dffe6ed1542d5976dac680ddef814\"><clipPath id=\"tddf1da1eb1a84d97a93bf558d53794f5\"><rect x=\"35.0\" y=\"35.0\" width=\"393.972\" height=\"261.725\"></rect></clipPath><g clip-path=\"url(#tddf1da1eb1a84d97a93bf558d53794f5)\"><g class=\"toytree-mark-Toytree\" id=\"ta64695efcc1542fc9decea41ae2e9837\"><g class=\"toytree-Edges\" style=\"stroke:rgb(14.5%,14.5%,14.5%);stroke-opacity:1.0;stroke-linecap:round;stroke-width:2.0;fill:none\"><path d=\"M 169.9 265.4 L 169.9 274.5 L 186.3 274.5\" id=\"13,0\" style=\"\"></path><path d=\"M 169.9 265.4 L 169.9 256.4 L 185.5 256.4\" id=\"13,1\" style=\"\"></path><path d=\"M 203.9 217.3 L 203.9 238.3 L 239.6 238.3\" id=\"19,2\" style=\"\"></path><path d=\"M 210.4 196.4 L 210.4 220.2 L 251.7 220.2\" id=\"18,3\" style=\"\"></path><path d=\"M 229.5 193.0 L 229.5 202.1 L 250.6 202.1\" id=\"14,4\" style=\"\"></path><path d=\"M 229.5 193.0 L 229.5 184.0 L 250.9 184.0\" id=\"14,5\" style=\"\"></path><path d=\"M 220.0 152.3 L 220.0 165.9 L 256.7 165.9\" id=\"16,6\" style=\"\"></path><path d=\"M 259.0 138.7 L 259.0 147.8 L 265.1 147.8\" id=\"15,7\" style=\"\"></path><path d=\"M 259.0 138.7 L 259.0 129.7 L 265.9 129.7\" id=\"15,8\" style=\"\"></path><path d=\"M 203.7 102.5 L 203.7 111.6 L 243.7 111.6\" id=\"20,9\" style=\"\"></path><path d=\"M 203.7 102.5 L 203.7 93.5 L 246.0 93.5\" id=\"20,10\" style=\"\"></path><path d=\"M 248.1 66.3 L 248.1 75.4 L 248.7 75.4\" id=\"21,11\" style=\"\"></path><path d=\"M 248.1 66.3 L 248.1 57.3 L 248.4 57.3\" id=\"21,12\" style=\"\"></path><path d=\"M 56.6 208.1 L 56.6 265.4 L 169.9 265.4\" id=\"24,13\" style=\"\"></path><path d=\"M 215.4 172.6 L 215.4 193.0 L 229.5 193.0\" id=\"17,14\" style=\"\"></path><path d=\"M 220.0 152.3 L 220.0 138.7 L 259.0 138.7\" id=\"16,15\" style=\"\"></path><path d=\"M 215.4 172.6 L 215.4 152.3 L 220.0 152.3\" id=\"17,16\" style=\"\"></path><path d=\"M 210.4 196.4 L 210.4 172.6 L 215.4 172.6\" id=\"18,17\" style=\"\"></path><path d=\"M 203.9 217.3 L 203.9 196.4 L 210.4 196.4\" id=\"19,18\" style=\"\"></path><path d=\"M 169.9 150.9 L 169.9 217.3 L 203.9 217.3\" id=\"23,19\" style=\"\"></path><path d=\"M 188.7 84.4 L 188.7 102.5 L 203.7 102.5\" id=\"22,20\" style=\"\"></path><path d=\"M 188.7 84.4 L 188.7 66.3 L 248.1 66.3\" id=\"22,21\" style=\"\"></path><path d=\"M 169.9 150.9 L 169.9 84.4 L 188.7 84.4\" id=\"23,22\" style=\"\"></path><path d=\"M 56.6 208.1 L 56.6 150.9 L 169.9 150.9\" id=\"24,23\" style=\"\"></path></g><g class=\"toytree-AdmixEdges\" style=\"fill:rgb(0.0%,0.0%,0.0%);fill-opacity:0.0;stroke:rgb(90.6%,54.1%,76.5%);stroke-opacity:0.6;font-size:14px;stroke-linecap:round;stroke-width:5\"></g><g class=\"toytree-Nodes\" style=\"fill:rgb(40.0%,76.1%,64.7%);fill-opacity:1.0;stroke:rgb(14.9%,14.9%,14.9%);stroke-opacity:1.0;stroke-width:1.5\"><g id=\"Node-13\" transform=\"translate(169.877,265.411)\"><rect x=\"-10.0\" y=\"-6.25\" width=\"20.0\" height=\"12.5\"></rect></g><g id=\"Node-14\" transform=\"translate(229.451,193.012)\"><rect x=\"-10.0\" y=\"-6.25\" width=\"20.0\" height=\"12.5\"></rect></g><g id=\"Node-15\" transform=\"translate(259.029,138.713)\"><rect x=\"-10.0\" y=\"-6.25\" width=\"20.0\" height=\"12.5\"></rect></g><g id=\"Node-16\" transform=\"translate(220.035,152.288)\"><rect x=\"-10.0\" y=\"-6.25\" width=\"20.0\" height=\"12.5\"></rect></g><g id=\"Node-17\" transform=\"translate(215.37,172.65)\"><rect x=\"-10.0\" y=\"-6.25\" width=\"20.0\" height=\"12.5\"></rect></g><g id=\"Node-18\" transform=\"translate(210.423,196.406)\"><rect x=\"-10.0\" y=\"-6.25\" width=\"20.0\" height=\"12.5\"></rect></g><g id=\"Node-19\" transform=\"translate(203.895,217.334)\"><rect x=\"-10.0\" y=\"-6.25\" width=\"20.0\" height=\"12.5\"></rect></g><g id=\"Node-20\" transform=\"translate(203.699,102.513)\"><rect x=\"-10.0\" y=\"-6.25\" width=\"20.0\" height=\"12.5\"></rect></g><g id=\"Node-21\" transform=\"translate(248.092,66.314)\"><rect x=\"-10.0\" y=\"-6.25\" width=\"20.0\" height=\"12.5\"></rect></g><g id=\"Node-22\" transform=\"translate(188.671,84.4137)\"><rect x=\"-10.0\" y=\"-6.25\" width=\"20.0\" height=\"12.5\"></rect></g><g id=\"Node-23\" transform=\"translate(169.877,150.874)\"><rect x=\"-10.0\" y=\"-6.25\" width=\"20.0\" height=\"12.5\"></rect></g><g id=\"Node-24\" transform=\"translate(56.6134,208.142)\"><rect x=\"-10.0\" y=\"-6.25\" width=\"20.0\" height=\"12.5\"></rect></g></g><g class=\"toytree-TipLabels\" style=\"fill:rgb(14.5%,14.5%,14.5%);fill-opacity:1.0;font-family:Helvetica;font-size:12px;font-weight:300;vertical-align:baseline;white-space:pre;stroke:none\"><g class=\"toytree-TipLabel\" transform=\"translate(186.253,274.461)\"><text x=\"15.0\" y=\"3.066\" style=\"fill:rgb(14.5%,14.5%,14.5%);fill-opacity:1.0\">32082_przewalskii</text></g><g class=\"toytree-TipLabel\" transform=\"translate(185.483,256.361)\"><text x=\"15.0\" y=\"3.066\" style=\"fill:rgb(14.5%,14.5%,14.5%);fill-opacity:1.0\">33588_przewalskii</text></g><g class=\"toytree-TipLabel\" transform=\"translate(239.595,238.261)\"><text x=\"15.0\" y=\"3.066\" style=\"fill:rgb(14.5%,14.5%,14.5%);fill-opacity:1.0\">33413_thamno</text></g><g class=\"toytree-TipLabel\" transform=\"translate(251.671,220.162)\"><text x=\"15.0\" y=\"3.066\" style=\"fill:rgb(14.5%,14.5%,14.5%);fill-opacity:1.0\">30556_thamno</text></g><g class=\"toytree-TipLabel\" transform=\"translate(250.63,202.062)\"><text x=\"15.0\" y=\"3.066\" style=\"fill:rgb(14.5%,14.5%,14.5%);fill-opacity:1.0\">40578_rex</text></g><g class=\"toytree-TipLabel\" transform=\"translate(250.918,183.962)\"><text x=\"15.0\" y=\"3.066\" style=\"fill:rgb(14.5%,14.5%,14.5%);fill-opacity:1.0\">35855_rex</text></g><g class=\"toytree-TipLabel\" transform=\"translate(256.693,165.863)\"><text x=\"15.0\" y=\"3.066\" style=\"fill:rgb(14.5%,14.5%,14.5%);fill-opacity:1.0\">35236_rex</text></g><g class=\"toytree-TipLabel\" transform=\"translate(265.104,147.763)\"><text x=\"15.0\" y=\"3.066\" style=\"fill:rgb(14.5%,14.5%,14.5%);fill-opacity:1.0\">39618_rex</text></g><g class=\"toytree-TipLabel\" transform=\"translate(265.926,129.663)\"><text x=\"15.0\" y=\"3.066\" style=\"fill:rgb(14.5%,14.5%,14.5%);fill-opacity:1.0\">38362_rex</text></g><g class=\"toytree-TipLabel\" transform=\"translate(243.748,111.563)\"><text x=\"15.0\" y=\"3.066\" style=\"fill:rgb(14.5%,14.5%,14.5%);fill-opacity:1.0\">29154_superba</text></g><g class=\"toytree-TipLabel\" transform=\"translate(246.003,93.4636)\"><text x=\"15.0\" y=\"3.066\" style=\"fill:rgb(14.5%,14.5%,14.5%);fill-opacity:1.0\">30686_cyathophylla</text></g><g class=\"toytree-TipLabel\" transform=\"translate(248.653,75.3638)\"><text x=\"15.0\" y=\"3.066\" style=\"fill:rgb(14.5%,14.5%,14.5%);fill-opacity:1.0\">41954_cyathophylloides</text></g><g class=\"toytree-TipLabel\" transform=\"translate(248.425,57.2641)\"><text x=\"15.0\" y=\"3.066\" style=\"fill:rgb(14.5%,14.5%,14.5%);fill-opacity:1.0\">41478_cyathophylloides</text></g></g></g></g></g></svg><div class=\"toyplot-behavior\"><script>(function()\n",
       "{\n",
       "var modules={};\n",
       "})();</script></div></div>"
      ]
     },
     "metadata": {},
     "output_type": "display_data"
    }
   ],
   "source": [
    "# rectangles for nodes\n",
    "rtre.draw(node_sizes=10, node_markers=\"r2x1.25\");"
   ]
  },
  {
   "cell_type": "markdown",
   "metadata": {},
   "source": [
    "#### node_style\n",
    "The `node_style` argument can be used to set CSS styles to the node markers to style fill and stroke color and opacity, and stroke width."
   ]
  },
  {
   "cell_type": "code",
   "execution_count": 88,
   "metadata": {},
   "outputs": [
    {
     "data": {
      "text/plain": [
       "{\n",
       "    fill: (0.4, 0.7607843137254902, 0.6470588235294118, 1.0),\n",
       "    fill_opacity: None,\n",
       "    stroke: '#262626',\n",
       "    stroke_width: 1.5,\n",
       "    stroke_opacity: None,\n",
       "}"
      ]
     },
     "execution_count": 88,
     "metadata": {},
     "output_type": "execute_result"
    }
   ],
   "source": [
    "# default options can be viewed here\n",
    "rtre.style.node_style"
   ]
  },
  {
   "cell_type": "code",
   "execution_count": 89,
   "metadata": {},
   "outputs": [
    {
     "data": {
      "text/html": [
       "<div class=\"toyplot\" id=\"t0fda314ce6ef402086b3fc78ad9c3990\" style=\"text-align:center\"><svg class=\"toyplot-canvas-Canvas\" xmlns:toyplot=\"http://www.sandia.gov/toyplot\" xmlns:xlink=\"http://www.w3.org/1999/xlink\" xmlns=\"http://www.w3.org/2000/svg\" width=\"460.472px\" height=\"339.2px\" viewBox=\"0 0 460.472 339.2\" preserveAspectRatio=\"xMidYMid meet\" style=\"background-color:transparent;border-color:#292724;border-style:none;border-width:1.0;fill:rgb(16.1%,15.3%,14.1%);fill-opacity:1.0;font-family:Helvetica;font-size:12px;opacity:1.0;stroke:rgb(16.1%,15.3%,14.1%);stroke-opacity:1.0;stroke-width:1.0\" id=\"t09871dd951fe4e0880aa1ca09ffb2953\"><g class=\"toyplot-coordinates-Cartesian\" id=\"t0fccc059bc5f4d8d9b96ede7d3414917\"><clipPath id=\"t36eafd7dd0324240a33861af1ca94dbc\"><rect x=\"35.0\" y=\"35.0\" width=\"390.472\" height=\"269.2\"></rect></clipPath><g clip-path=\"url(#t36eafd7dd0324240a33861af1ca94dbc)\"><g class=\"toytree-mark-Toytree\" id=\"tffac016e18694de8aa2b99c0b72eb590\"><g class=\"toytree-Edges\" style=\"stroke:rgb(14.5%,14.5%,14.5%);stroke-opacity:1.0;stroke-linecap:round;stroke-width:2.0;fill:none\"><path d=\"M 166.9 272.4 L 166.9 281.7 L 183.1 281.7\" id=\"13,0\" style=\"\"></path><path d=\"M 166.9 272.4 L 166.9 263.0 L 182.4 263.0\" id=\"13,1\" style=\"\"></path><path d=\"M 200.6 222.7 L 200.6 244.3 L 236.0 244.3\" id=\"19,2\" style=\"\"></path><path d=\"M 207.1 201.1 L 207.1 225.7 L 248.0 225.7\" id=\"18,3\" style=\"\"></path><path d=\"M 226.0 197.6 L 226.0 207.0 L 246.9 207.0\" id=\"14,4\" style=\"\"></path><path d=\"M 226.0 197.6 L 226.0 188.3 L 247.2 188.3\" id=\"14,5\" style=\"\"></path><path d=\"M 216.6 155.6 L 216.6 169.6 L 253.0 169.6\" id=\"16,6\" style=\"\"></path><path d=\"M 255.3 141.6 L 255.3 150.9 L 261.3 150.9\" id=\"15,7\" style=\"\"></path><path d=\"M 255.3 141.6 L 255.3 132.2 L 262.1 132.2\" id=\"15,8\" style=\"\"></path><path d=\"M 200.4 104.2 L 200.4 113.5 L 240.1 113.5\" id=\"20,9\" style=\"\"></path><path d=\"M 200.4 104.2 L 200.4 94.9 L 242.4 94.9\" id=\"20,10\" style=\"\"></path><path d=\"M 244.4 66.8 L 244.4 76.2 L 245.0 76.2\" id=\"21,11\" style=\"\"></path><path d=\"M 244.4 66.8 L 244.4 57.5 L 244.8 57.5\" id=\"21,12\" style=\"\"></path><path d=\"M 54.6 213.2 L 54.6 272.4 L 166.9 272.4\" id=\"24,13\" style=\"\"></path><path d=\"M 212.0 176.6 L 212.0 197.6 L 226.0 197.6\" id=\"17,14\" style=\"\"></path><path d=\"M 216.6 155.6 L 216.6 141.6 L 255.3 141.6\" id=\"16,15\" style=\"\"></path><path d=\"M 212.0 176.6 L 212.0 155.6 L 216.6 155.6\" id=\"17,16\" style=\"\"></path><path d=\"M 207.1 201.1 L 207.1 176.6 L 212.0 176.6\" id=\"18,17\" style=\"\"></path><path d=\"M 200.6 222.7 L 200.6 201.1 L 207.1 201.1\" id=\"19,18\" style=\"\"></path><path d=\"M 166.9 154.1 L 166.9 222.7 L 200.6 222.7\" id=\"23,19\" style=\"\"></path><path d=\"M 185.5 85.5 L 185.5 104.2 L 200.4 104.2\" id=\"22,20\" style=\"\"></path><path d=\"M 185.5 85.5 L 185.5 66.8 L 244.4 66.8\" id=\"22,21\" style=\"\"></path><path d=\"M 166.9 154.1 L 166.9 85.5 L 185.5 85.5\" id=\"23,22\" style=\"\"></path><path d=\"M 54.6 213.2 L 54.6 154.1 L 166.9 154.1\" id=\"24,23\" style=\"\"></path></g><g class=\"toytree-AdmixEdges\" style=\"fill:rgb(0.0%,0.0%,0.0%);fill-opacity:0.0;stroke:rgb(90.6%,54.1%,76.5%);stroke-opacity:0.6;font-size:14px;stroke-linecap:round;stroke-width:5\"></g><g class=\"toytree-Nodes\" style=\"fill:rgb(100.0%,64.7%,0.0%);fill-opacity:0.5;stroke:rgb(0.0%,0.0%,0.0%);stroke-opacity:0.5;stroke-width:3\"><g id=\"Node-13\" transform=\"translate(166.892,272.36)\"><circle r=\"5.0\"></circle></g><g id=\"Node-14\" transform=\"translate(225.952,197.625)\"><circle r=\"5.0\"></circle></g><g id=\"Node-15\" transform=\"translate(255.275,141.575)\"><circle r=\"5.0\"></circle></g><g id=\"Node-16\" transform=\"translate(216.617,155.587)\"><circle r=\"5.0\"></circle></g><g id=\"Node-17\" transform=\"translate(211.992,176.606)\"><circle r=\"5.0\"></circle></g><g id=\"Node-18\" transform=\"translate(207.088,201.129)\"><circle r=\"5.0\"></circle></g><g id=\"Node-19\" transform=\"translate(200.616,222.731)\"><circle r=\"5.0\"></circle></g><g id=\"Node-20\" transform=\"translate(200.422,104.207)\"><circle r=\"5.0\"></circle></g><g id=\"Node-21\" transform=\"translate(244.432,66.8402)\"><circle r=\"5.0\"></circle></g><g id=\"Node-22\" transform=\"translate(185.524,85.5238)\"><circle r=\"5.0\"></circle></g><g id=\"Node-23\" transform=\"translate(166.892,154.128)\"><circle r=\"5.0\"></circle></g><g id=\"Node-24\" transform=\"translate(54.6052,213.244)\"><circle r=\"5.0\"></circle></g></g><g class=\"toytree-TipLabels\" style=\"fill:rgb(14.5%,14.5%,14.5%);fill-opacity:1.0;font-family:Helvetica;font-size:12px;font-weight:300;vertical-align:baseline;white-space:pre;stroke:none\"><g class=\"toytree-TipLabel\" transform=\"translate(183.126,281.702)\"><text x=\"15.0\" y=\"3.066\" style=\"fill:rgb(14.5%,14.5%,14.5%);fill-opacity:1.0\">32082_przewalskii</text></g><g class=\"toytree-TipLabel\" transform=\"translate(182.363,263.018)\"><text x=\"15.0\" y=\"3.066\" style=\"fill:rgb(14.5%,14.5%,14.5%);fill-opacity:1.0\">33588_przewalskii</text></g><g class=\"toytree-TipLabel\" transform=\"translate(236.008,244.334)\"><text x=\"15.0\" y=\"3.066\" style=\"fill:rgb(14.5%,14.5%,14.5%);fill-opacity:1.0\">33413_thamno</text></g><g class=\"toytree-TipLabel\" transform=\"translate(247.979,225.651)\"><text x=\"15.0\" y=\"3.066\" style=\"fill:rgb(14.5%,14.5%,14.5%);fill-opacity:1.0\">30556_thamno</text></g><g class=\"toytree-TipLabel\" transform=\"translate(246.948,206.967)\"><text x=\"15.0\" y=\"3.066\" style=\"fill:rgb(14.5%,14.5%,14.5%);fill-opacity:1.0\">40578_rex</text></g><g class=\"toytree-TipLabel\" transform=\"translate(247.233,188.284)\"><text x=\"15.0\" y=\"3.066\" style=\"fill:rgb(14.5%,14.5%,14.5%);fill-opacity:1.0\">35855_rex</text></g><g class=\"toytree-TipLabel\" transform=\"translate(252.958,169.6)\"><text x=\"15.0\" y=\"3.066\" style=\"fill:rgb(14.5%,14.5%,14.5%);fill-opacity:1.0\">35236_rex</text></g><g class=\"toytree-TipLabel\" transform=\"translate(261.297,150.916)\"><text x=\"15.0\" y=\"3.066\" style=\"fill:rgb(14.5%,14.5%,14.5%);fill-opacity:1.0\">39618_rex</text></g><g class=\"toytree-TipLabel\" transform=\"translate(262.112,132.233)\"><text x=\"15.0\" y=\"3.066\" style=\"fill:rgb(14.5%,14.5%,14.5%);fill-opacity:1.0\">38362_rex</text></g><g class=\"toytree-TipLabel\" transform=\"translate(240.125,113.549)\"><text x=\"15.0\" y=\"3.066\" style=\"fill:rgb(14.5%,14.5%,14.5%);fill-opacity:1.0\">29154_superba</text></g><g class=\"toytree-TipLabel\" transform=\"translate(242.361,94.8656)\"><text x=\"15.0\" y=\"3.066\" style=\"fill:rgb(14.5%,14.5%,14.5%);fill-opacity:1.0\">30686_cyathophylla</text></g><g class=\"toytree-TipLabel\" transform=\"translate(244.988,76.182)\"><text x=\"15.0\" y=\"3.066\" style=\"fill:rgb(14.5%,14.5%,14.5%);fill-opacity:1.0\">41954_cyathophylloides</text></g><g class=\"toytree-TipLabel\" transform=\"translate(244.762,57.4984)\"><text x=\"15.0\" y=\"3.066\" style=\"fill:rgb(14.5%,14.5%,14.5%);fill-opacity:1.0\">41478_cyathophylloides</text></g></g></g></g></g></svg><div class=\"toyplot-behavior\"><script>(function()\n",
       "{\n",
       "var modules={};\n",
       "})();</script></div></div>"
      ]
     },
     "metadata": {},
     "output_type": "display_data"
    }
   ],
   "source": [
    "rtre.draw(\n",
    "    node_sizes=10,\n",
    "    node_style={\n",
    "        \"fill\": \"orange\",\n",
    "        \"fill-opacity\": 0.5,\n",
    "        \"stroke\": \"black\",\n",
    "        \"stroke-opacity\": 0.5,\n",
    "        \"stroke-width\": 3,\n",
    "    }\n",
    ");"
   ]
  },
  {
   "cell_type": "markdown",
   "metadata": {},
   "source": [
    "#### node_hover\n",
    "\n",
    "Enables interactive hover over nodes so that you can see all features associated with each. "
   ]
  },
  {
   "cell_type": "code",
   "execution_count": 91,
   "metadata": {},
   "outputs": [
    {
     "data": {
      "text/html": [
       "<div class=\"toyplot\" id=\"ta832d6d0e0944fc2ae3099c64bca7c43\" style=\"text-align:center\"><svg class=\"toyplot-canvas-Canvas\" xmlns:toyplot=\"http://www.sandia.gov/toyplot\" xmlns:xlink=\"http://www.w3.org/1999/xlink\" xmlns=\"http://www.w3.org/2000/svg\" width=\"461.472px\" height=\"369.09999999999997px\" viewBox=\"0 0 461.472 369.09999999999997\" preserveAspectRatio=\"xMidYMid meet\" style=\"background-color:transparent;border-color:#292724;border-style:none;border-width:1.0;fill:rgb(16.1%,15.3%,14.1%);fill-opacity:1.0;font-family:Helvetica;font-size:12px;opacity:1.0;stroke:rgb(16.1%,15.3%,14.1%);stroke-opacity:1.0;stroke-width:1.0\" id=\"t34bcbc39fc9e435aac01f84be662aa11\"><g class=\"toyplot-coordinates-Cartesian\" id=\"t4d518352adea48f78ebe830894c31f5b\"><clipPath id=\"t935db33b598e422fbb308f092f5a98ff\"><rect x=\"35.0\" y=\"35.0\" width=\"391.472\" height=\"299.09999999999997\"></rect></clipPath><g clip-path=\"url(#t935db33b598e422fbb308f092f5a98ff)\"><g class=\"toytree-mark-Toytree\" id=\"taa130b55c7c6425ba65a52d45601b860\"><g class=\"toytree-Edges\" style=\"stroke:rgb(14.5%,14.5%,14.5%);stroke-opacity:1.0;stroke-linecap:round;stroke-width:2.0;fill:none\"><path d=\"M 167.7 300.2 L 167.7 310.7 L 184.0 310.7\" id=\"13,0\" style=\"\"></path><path d=\"M 167.7 300.2 L 167.7 289.6 L 183.3 289.6\" id=\"13,1\" style=\"\"></path><path d=\"M 201.6 244.3 L 201.6 268.6 L 237.0 268.6\" id=\"19,2\" style=\"\"></path><path d=\"M 208.0 220.0 L 208.0 247.6 L 249.0 247.6\" id=\"18,3\" style=\"\"></path><path d=\"M 227.0 216.1 L 227.0 226.6 L 248.0 226.6\" id=\"14,4\" style=\"\"></path><path d=\"M 227.0 216.1 L 227.0 205.6 L 248.3 205.6\" id=\"14,5\" style=\"\"></path><path d=\"M 217.6 168.8 L 217.6 184.5 L 254.0 184.5\" id=\"16,6\" style=\"\"></path><path d=\"M 256.3 153.0 L 256.3 163.5 L 262.4 163.5\" id=\"15,7\" style=\"\"></path><path d=\"M 256.3 153.0 L 256.3 142.5 L 263.2 142.5\" id=\"15,8\" style=\"\"></path><path d=\"M 201.4 111.0 L 201.4 121.5 L 241.2 121.5\" id=\"20,9\" style=\"\"></path><path d=\"M 201.4 111.0 L 201.4 100.5 L 243.4 100.5\" id=\"20,10\" style=\"\"></path><path d=\"M 245.5 68.9 L 245.5 79.5 L 246.0 79.5\" id=\"21,11\" style=\"\"></path><path d=\"M 245.5 68.9 L 245.5 58.4 L 245.8 58.4\" id=\"21,12\" style=\"\"></path><path d=\"M 55.2 233.6 L 55.2 300.2 L 167.7 300.2\" id=\"24,13\" style=\"\"></path><path d=\"M 213.0 192.4 L 213.0 216.1 L 227.0 216.1\" id=\"17,14\" style=\"\"></path><path d=\"M 217.6 168.8 L 217.6 153.0 L 256.3 153.0\" id=\"16,15\" style=\"\"></path><path d=\"M 213.0 192.4 L 213.0 168.8 L 217.6 168.8\" id=\"17,16\" style=\"\"></path><path d=\"M 208.0 220.0 L 208.0 192.4 L 213.0 192.4\" id=\"18,17\" style=\"\"></path><path d=\"M 201.6 244.3 L 201.6 220.0 L 208.0 220.0\" id=\"19,18\" style=\"\"></path><path d=\"M 167.7 167.1 L 167.7 244.3 L 201.6 244.3\" id=\"23,19\" style=\"\"></path><path d=\"M 186.4 90.0 L 186.4 111.0 L 201.4 111.0\" id=\"22,20\" style=\"\"></path><path d=\"M 186.4 90.0 L 186.4 68.9 L 245.5 68.9\" id=\"22,21\" style=\"\"></path><path d=\"M 167.7 167.1 L 167.7 90.0 L 186.4 90.0\" id=\"23,22\" style=\"\"></path><path d=\"M 55.2 233.6 L 55.2 167.1 L 167.7 167.1\" id=\"24,23\" style=\"\"></path></g><g class=\"toytree-AdmixEdges\" style=\"fill:rgb(0.0%,0.0%,0.0%);fill-opacity:0.0;stroke:rgb(90.6%,54.1%,76.5%);stroke-opacity:0.6;font-size:14px;stroke-linecap:round;stroke-width:5\"></g><g class=\"toytree-Nodes\" style=\"fill:rgb(40.0%,76.1%,64.7%);fill-opacity:1.0;stroke:rgb(14.9%,14.9%,14.9%);stroke-opacity:1.0;stroke-width:1.5\"><g id=\"Node-13\" transform=\"translate(167.745,300.155)\"><title>idx: 13\n",
       "dist: 0.0179371130487\n",
       "support: 100\n",
       "height: 0.0152107514239\n",
       "name: </title><circle r=\"7.5\"></circle></g><g id=\"Node-14\" transform=\"translate(226.952,216.079)\"><title>idx: 14\n",
       "dist: 0.00222999650239\n",
       "support: 100\n",
       "height: 0.00577636172318\n",
       "name: </title><circle r=\"7.5\"></circle></g><g id=\"Node-15\" transform=\"translate(256.348,153.021)\"><title>idx: 15\n",
       "dist: 0.00617527349892\n",
       "support: 100\n",
       "height: 0.00109218434613\n",
       "name: </title><circle r=\"7.5\"></circle></g><g id=\"Node-16\" transform=\"translate(217.594,168.786)\"><title>idx: 16\n",
       "dist: 0.000738900380519\n",
       "support: 96\n",
       "height: 0.00726745784506\n",
       "name: </title><circle r=\"7.5\"></circle></g><g id=\"Node-17\" transform=\"translate(212.957,192.432)\"><title>idx: 17\n",
       "dist: 0.000783365499905\n",
       "support: 99\n",
       "height: 0.00800635822557\n",
       "name: </title><circle r=\"7.5\"></circle></g><g id=\"Node-18\" transform=\"translate(208.041,220.02)\"><title>idx: 18\n",
       "dist: 0.00103379657491\n",
       "support: 100\n",
       "height: 0.00878972372548\n",
       "name: </title><circle r=\"7.5\"></circle></g><g id=\"Node-19\" transform=\"translate(201.553,244.323)\"><title>idx: 19\n",
       "dist: 0.00538723112355\n",
       "support: 100\n",
       "height: 0.00982352030039\n",
       "name: </title><circle r=\"7.5\"></circle></g><g id=\"Node-20\" transform=\"translate(201.359,110.983)\"><title>idx: 20\n",
       "dist: 0.00237994755604\n",
       "support: 100\n",
       "height: 0.00985454237589\n",
       "name: </title><circle r=\"7.5\"></circle></g><g id=\"Node-21\" transform=\"translate(245.478,68.9453)\"><title>idx: 21\n",
       "dist: 0.00941020878048\n",
       "support: 100\n",
       "height: 0.00282428115145\n",
       "name: </title><circle r=\"7.5\"></circle></g><g id=\"Node-22\" transform=\"translate(186.423,89.9643)\"><title>idx: 22\n",
       "dist: 0.00297626149201\n",
       "support: 100\n",
       "height: 0.0122344899319\n",
       "name: </title><circle r=\"7.5\"></circle></g><g id=\"Node-23\" transform=\"translate(167.745,167.144)\"><title>idx: 23\n",
       "dist: 0.0179371130487\n",
       "support: 100\n",
       "height: 0.0152107514239\n",
       "name: </title><circle r=\"7.5\"></circle></g><g id=\"Node-24\" transform=\"translate(55.1794,233.649)\"><title>idx: 24\n",
       "dist: 0\n",
       "support: nan\n",
       "height: 0.0331478644727\n",
       "name: root</title><circle r=\"7.5\"></circle></g></g><g class=\"toytree-TipLabels\" style=\"fill:rgb(14.5%,14.5%,14.5%);fill-opacity:1.0;font-family:Helvetica;font-size:12px;font-weight:300;vertical-align:baseline;white-space:pre;stroke:none\"><g class=\"toytree-TipLabel\" transform=\"translate(184.02,310.664)\"><text x=\"15.0\" y=\"3.066\" style=\"fill:rgb(14.5%,14.5%,14.5%);fill-opacity:1.0\">32082_przewalskii</text></g><g class=\"toytree-TipLabel\" transform=\"translate(183.254,289.645)\"><text x=\"15.0\" y=\"3.066\" style=\"fill:rgb(14.5%,14.5%,14.5%);fill-opacity:1.0\">33588_przewalskii</text></g><g class=\"toytree-TipLabel\" transform=\"translate(237.033,268.626)\"><text x=\"15.0\" y=\"3.066\" style=\"fill:rgb(14.5%,14.5%,14.5%);fill-opacity:1.0\">33413_thamno</text></g><g class=\"toytree-TipLabel\" transform=\"translate(249.034,247.607)\"><text x=\"15.0\" y=\"3.066\" style=\"fill:rgb(14.5%,14.5%,14.5%);fill-opacity:1.0\">30556_thamno</text></g><g class=\"toytree-TipLabel\" transform=\"translate(248,226.588)\"><text x=\"15.0\" y=\"3.066\" style=\"fill:rgb(14.5%,14.5%,14.5%);fill-opacity:1.0\">40578_rex</text></g><g class=\"toytree-TipLabel\" transform=\"translate(248.286,205.569)\"><text x=\"15.0\" y=\"3.066\" style=\"fill:rgb(14.5%,14.5%,14.5%);fill-opacity:1.0\">35855_rex</text></g><g class=\"toytree-TipLabel\" transform=\"translate(254.026,184.55)\"><text x=\"15.0\" y=\"3.066\" style=\"fill:rgb(14.5%,14.5%,14.5%);fill-opacity:1.0\">35236_rex</text></g><g class=\"toytree-TipLabel\" transform=\"translate(262.385,163.531)\"><text x=\"15.0\" y=\"3.066\" style=\"fill:rgb(14.5%,14.5%,14.5%);fill-opacity:1.0\">39618_rex</text></g><g class=\"toytree-TipLabel\" transform=\"translate(263.202,142.512)\"><text x=\"15.0\" y=\"3.066\" style=\"fill:rgb(14.5%,14.5%,14.5%);fill-opacity:1.0\">38362_rex</text></g><g class=\"toytree-TipLabel\" transform=\"translate(241.161,121.493)\"><text x=\"15.0\" y=\"3.066\" style=\"fill:rgb(14.5%,14.5%,14.5%);fill-opacity:1.0\">29154_superba</text></g><g class=\"toytree-TipLabel\" transform=\"translate(243.402,100.474)\"><text x=\"15.0\" y=\"3.066\" style=\"fill:rgb(14.5%,14.5%,14.5%);fill-opacity:1.0\">30686_cyathophylla</text></g><g class=\"toytree-TipLabel\" transform=\"translate(246.036,79.4548)\"><text x=\"15.0\" y=\"3.066\" style=\"fill:rgb(14.5%,14.5%,14.5%);fill-opacity:1.0\">41954_cyathophylloides</text></g><g class=\"toytree-TipLabel\" transform=\"translate(245.809,58.4357)\"><text x=\"15.0\" y=\"3.066\" style=\"fill:rgb(14.5%,14.5%,14.5%);fill-opacity:1.0\">41478_cyathophylloides</text></g></g></g></g></g></svg><div class=\"toyplot-behavior\"><script>(function()\n",
       "{\n",
       "var modules={};\n",
       "})();</script></div></div>"
      ]
     },
     "metadata": {},
     "output_type": "display_data"
    }
   ],
   "source": [
    "# hover over the nodes\n",
    "rtre.draw(node_hover=True, node_sizes=15);"
   ]
  },
  {
   "attachments": {},
   "cell_type": "markdown",
   "metadata": {},
   "source": [
    "### Layout\n",
    "\n",
    "#### layout\n",
    "\n",
    "**Type:**  str  \n",
    "**Allowed:** 'right', 'r'; 'left', 'l'; 'down', 'd'; 'up', 'u'; 'unrooted', 'unr'; 'circular', 'c'; \n",
    "**Default:** 'r'  \n",
    "**Description:**  The layout orients the direction of tip labels. Options include linear trees facing right, left, up, down, as well as circular and unrooted trees. "
   ]
  },
  {
   "cell_type": "code",
   "execution_count": 102,
   "metadata": {},
   "outputs": [
    {
     "data": {
      "text/html": [
       "<div class=\"toyplot\" id=\"t88a3fda36a544fbf87187f63b23a36f6\" style=\"text-align:center\"><svg class=\"toyplot-canvas-Canvas\" xmlns:toyplot=\"http://www.sandia.gov/toyplot\" xmlns:xlink=\"http://www.w3.org/1999/xlink\" xmlns=\"http://www.w3.org/2000/svg\" width=\"315.28000000000003px\" height=\"453.472px\" viewBox=\"0 0 315.28000000000003 453.472\" preserveAspectRatio=\"xMidYMid meet\" style=\"background-color:transparent;border-color:#292724;border-style:none;border-width:1.0;fill:rgb(16.1%,15.3%,14.1%);fill-opacity:1.0;font-family:Helvetica;font-size:12px;opacity:1.0;stroke:rgb(16.1%,15.3%,14.1%);stroke-opacity:1.0;stroke-width:1.0\" id=\"t39f88ae839ff4b44a84ac27c51cc1ba8\"><g class=\"toyplot-coordinates-Cartesian\" id=\"tbefcf3f034ee4908a518c505c768cb19\"><clipPath id=\"td0855a7a089b44edb433527c94f5ce1e\"><rect x=\"35.0\" y=\"35.0\" width=\"245.28000000000003\" height=\"383.472\"></rect></clipPath><g clip-path=\"url(#td0855a7a089b44edb433527c94f5ce1e)\"><g class=\"toytree-mark-Toytree\" id=\"t90ba3f844c8b46bcbf366ee3d4e8f96a\"><g class=\"toytree-Edges\" style=\"stroke:rgb(14.5%,14.5%,14.5%);stroke-opacity:1.0;stroke-linecap:round;stroke-width:2.0;fill:none\"><path d=\"M 65.2 160.9 L 56.7 160.9 L 56.7 176.9\" id=\"13,0\" style=\"\"></path><path d=\"M 65.2 160.9 L 73.6 160.9 L 73.6 176.1\" id=\"13,1\" style=\"\"></path><path d=\"M 109.8 194.0 L 90.4 194.0 L 90.4 228.8\" id=\"19,2\" style=\"\"></path><path d=\"M 129.3 200.4 L 107.2 200.4 L 107.2 240.6\" id=\"18,3\" style=\"\"></path><path d=\"M 132.4 218.9 L 124.0 218.9 L 124.0 239.6\" id=\"14,4\" style=\"\"></path><path d=\"M 132.4 218.9 L 140.8 218.9 L 140.8 239.9\" id=\"14,5\" style=\"\"></path><path d=\"M 170.3 209.8 L 157.6 209.8 L 157.6 245.5\" id=\"16,6\" style=\"\"></path><path d=\"M 182.9 247.8 L 174.5 247.8 L 174.5 253.7\" id=\"15,7\" style=\"\"></path><path d=\"M 182.9 247.8 L 191.3 247.8 L 191.3 254.5\" id=\"15,8\" style=\"\"></path><path d=\"M 216.5 193.9 L 208.1 193.9 L 208.1 232.9\" id=\"20,9\" style=\"\"></path><path d=\"M 216.5 193.9 L 224.9 193.9 L 224.9 235.1\" id=\"20,10\" style=\"\"></path><path d=\"M 250.1 237.1 L 241.7 237.1 L 241.7 237.6\" id=\"21,11\" style=\"\"></path><path d=\"M 250.1 237.1 L 258.5 237.1 L 258.5 237.4\" id=\"21,12\" style=\"\"></path><path d=\"M 118.4 50.6 L 65.2 50.6 L 65.2 160.9\" id=\"24,13\" style=\"\"></path><path d=\"M 151.3 205.2 L 132.4 205.2 L 132.4 218.9\" id=\"17,14\" style=\"\"></path><path d=\"M 170.3 209.8 L 182.9 209.8 L 182.9 247.8\" id=\"16,15\" style=\"\"></path><path d=\"M 151.3 205.2 L 170.3 205.2 L 170.3 209.8\" id=\"17,16\" style=\"\"></path><path d=\"M 129.3 200.4 L 151.3 200.4 L 151.3 205.2\" id=\"18,17\" style=\"\"></path><path d=\"M 109.8 194.0 L 129.3 194.0 L 129.3 200.4\" id=\"19,18\" style=\"\"></path><path d=\"M 171.6 160.9 L 109.8 160.9 L 109.8 194.0\" id=\"23,19\" style=\"\"></path><path d=\"M 233.3 179.2 L 216.5 179.2 L 216.5 193.9\" id=\"22,20\" style=\"\"></path><path d=\"M 233.3 179.2 L 250.1 179.2 L 250.1 237.1\" id=\"22,21\" style=\"\"></path><path d=\"M 171.6 160.9 L 233.3 160.9 L 233.3 179.2\" id=\"23,22\" style=\"\"></path><path d=\"M 118.4 50.6 L 171.6 50.6 L 171.6 160.9\" id=\"24,23\" style=\"\"></path></g><g class=\"toytree-AdmixEdges\" style=\"fill:rgb(0.0%,0.0%,0.0%);fill-opacity:0.0;stroke:rgb(90.6%,54.1%,76.5%);stroke-opacity:0.6;font-size:14px;stroke-linecap:round;stroke-width:5\"></g><g class=\"toytree-Nodes\" style=\"fill:rgb(40.0%,76.1%,64.7%);fill-opacity:1.0;stroke:rgb(14.9%,14.9%,14.9%);stroke-opacity:1.0;stroke-width:1.5\"></g><g class=\"toytree-TipLabels\" style=\"fill:rgb(14.5%,14.5%,14.5%);fill-opacity:1.0;font-family:Helvetica;font-size:12px;font-weight:300;vertical-align:baseline;white-space:pre;stroke:none\"><g class=\"toytree-TipLabel\" transform=\"translate(56.7486,176.861)rotate(90)\"><text x=\"15.0\" y=\"3.066\" style=\"fill:rgb(14.5%,14.5%,14.5%);fill-opacity:1.0\">32082_przewalskii</text></g><g class=\"toytree-TipLabel\" transform=\"translate(73.5638,176.111)rotate(90)\"><text x=\"15.0\" y=\"3.066\" style=\"fill:rgb(14.5%,14.5%,14.5%);fill-opacity:1.0\">33588_przewalskii</text></g><g class=\"toytree-TipLabel\" transform=\"translate(90.3791,228.823)rotate(90)\"><text x=\"15.0\" y=\"3.066\" style=\"fill:rgb(14.5%,14.5%,14.5%);fill-opacity:1.0\">33413_thamno</text></g><g class=\"toytree-TipLabel\" transform=\"translate(107.194,240.587)rotate(90)\"><text x=\"15.0\" y=\"3.066\" style=\"fill:rgb(14.5%,14.5%,14.5%);fill-opacity:1.0\">30556_thamno</text></g><g class=\"toytree-TipLabel\" transform=\"translate(124.01,239.573)rotate(90)\"><text x=\"15.0\" y=\"3.066\" style=\"fill:rgb(14.5%,14.5%,14.5%);fill-opacity:1.0\">40578_rex</text></g><g class=\"toytree-TipLabel\" transform=\"translate(140.825,239.853)rotate(90)\"><text x=\"15.0\" y=\"3.066\" style=\"fill:rgb(14.5%,14.5%,14.5%);fill-opacity:1.0\">35855_rex</text></g><g class=\"toytree-TipLabel\" transform=\"translate(157.64,245.479)rotate(90)\"><text x=\"15.0\" y=\"3.066\" style=\"fill:rgb(14.5%,14.5%,14.5%);fill-opacity:1.0\">35236_rex</text></g><g class=\"toytree-TipLabel\" transform=\"translate(174.455,253.673)rotate(90)\"><text x=\"15.0\" y=\"3.066\" style=\"fill:rgb(14.5%,14.5%,14.5%);fill-opacity:1.0\">39618_rex</text></g><g class=\"toytree-TipLabel\" transform=\"translate(191.27,254.473)rotate(90)\"><text x=\"15.0\" y=\"3.066\" style=\"fill:rgb(14.5%,14.5%,14.5%);fill-opacity:1.0\">38362_rex</text></g><g class=\"toytree-TipLabel\" transform=\"translate(208.086,232.869)rotate(90)\"><text x=\"15.0\" y=\"3.066\" style=\"fill:rgb(14.5%,14.5%,14.5%);fill-opacity:1.0\">29154_superba</text></g><g class=\"toytree-TipLabel\" transform=\"translate(224.901,235.066)rotate(90)\"><text x=\"15.0\" y=\"3.066\" style=\"fill:rgb(14.5%,14.5%,14.5%);fill-opacity:1.0\">30686_cyathophylla</text></g><g class=\"toytree-TipLabel\" transform=\"translate(241.716,237.647)rotate(90)\"><text x=\"15.0\" y=\"3.066\" style=\"fill:rgb(14.5%,14.5%,14.5%);fill-opacity:1.0\">41954_cyathophylloides</text></g><g class=\"toytree-TipLabel\" transform=\"translate(258.531,237.425)rotate(90)\"><text x=\"15.0\" y=\"3.066\" style=\"fill:rgb(14.5%,14.5%,14.5%);fill-opacity:1.0\">41478_cyathophylloides</text></g></g></g></g></g></svg><div class=\"toyplot-behavior\"><script>(function()\n",
       "{\n",
       "var modules={};\n",
       "})();</script></div></div>"
      ]
     },
     "metadata": {},
     "output_type": "display_data"
    }
   ],
   "source": [
    "rtre.draw(layout='d');"
   ]
  },
  {
   "cell_type": "code",
   "execution_count": 103,
   "metadata": {},
   "outputs": [
    {
     "data": {
      "text/html": [
       "<div class=\"toyplot\" id=\"t60472f314eae4770a06e96e961236aa9\" style=\"text-align:center\"><svg class=\"toyplot-canvas-Canvas\" xmlns:toyplot=\"http://www.sandia.gov/toyplot\" xmlns:xlink=\"http://www.w3.org/1999/xlink\" xmlns=\"http://www.w3.org/2000/svg\" width=\"453.472px\" height=\"315.2800000000001px\" viewBox=\"0 0 453.472 315.2800000000001\" preserveAspectRatio=\"xMidYMid meet\" style=\"background-color:transparent;border-color:#292724;border-style:none;border-width:1.0;fill:rgb(16.1%,15.3%,14.1%);fill-opacity:1.0;font-family:Helvetica;font-size:12px;opacity:1.0;stroke:rgb(16.1%,15.3%,14.1%);stroke-opacity:1.0;stroke-width:1.0\" id=\"t4306f5b3ef9d46e38e025559747bf49a\"><g class=\"toyplot-coordinates-Cartesian\" id=\"t9f2f3591dd6e41c7993bafb5fd67661d\"><clipPath id=\"t6dbe43534fd145c5b2257f1b340fa192\"><rect x=\"35.0\" y=\"35.0\" width=\"383.472\" height=\"245.2800000000001\"></rect></clipPath><g clip-path=\"url(#t6dbe43534fd145c5b2257f1b340fa192)\"><g class=\"toytree-mark-Toytree\" id=\"t683de19c7268473b990e0c85bf6dcba3\"><g class=\"toytree-Edges\" style=\"stroke:rgb(14.5%,14.5%,14.5%);stroke-opacity:1.0;stroke-linecap:round;stroke-width:2.0;fill:none\"><path d=\"M 292.6 250.1 L 292.6 258.5 L 276.6 258.5\" id=\"13,0\" style=\"\"></path><path d=\"M 292.6 250.1 L 292.6 241.7 L 277.4 241.7\" id=\"13,1\" style=\"\"></path><path d=\"M 259.4 205.5 L 259.4 224.9 L 224.6 224.9\" id=\"19,2\" style=\"\"></path><path d=\"M 253.1 186.0 L 253.1 208.1 L 212.9 208.1\" id=\"18,3\" style=\"\"></path><path d=\"M 234.5 182.9 L 234.5 191.3 L 213.9 191.3\" id=\"14,4\" style=\"\"></path><path d=\"M 234.5 182.9 L 234.5 174.5 L 213.6 174.5\" id=\"14,5\" style=\"\"></path><path d=\"M 243.7 145.0 L 243.7 157.6 L 208.0 157.6\" id=\"16,6\" style=\"\"></path><path d=\"M 205.7 132.4 L 205.7 140.8 L 199.8 140.8\" id=\"15,7\" style=\"\"></path><path d=\"M 205.7 132.4 L 205.7 124.0 L 199.0 124.0\" id=\"15,8\" style=\"\"></path><path d=\"M 259.6 98.8 L 259.6 107.2 L 220.6 107.2\" id=\"20,9\" style=\"\"></path><path d=\"M 259.6 98.8 L 259.6 90.4 L 218.4 90.4\" id=\"20,10\" style=\"\"></path><path d=\"M 216.4 65.2 L 216.4 73.6 L 215.8 73.6\" id=\"21,11\" style=\"\"></path><path d=\"M 216.4 65.2 L 216.4 56.7 L 216.0 56.7\" id=\"21,12\" style=\"\"></path><path d=\"M 402.9 196.9 L 402.9 250.1 L 292.6 250.1\" id=\"24,13\" style=\"\"></path><path d=\"M 248.2 163.9 L 248.2 182.9 L 234.5 182.9\" id=\"17,14\" style=\"\"></path><path d=\"M 243.7 145.0 L 243.7 132.4 L 205.7 132.4\" id=\"16,15\" style=\"\"></path><path d=\"M 248.2 163.9 L 248.2 145.0 L 243.7 145.0\" id=\"17,16\" style=\"\"></path><path d=\"M 253.1 186.0 L 253.1 163.9 L 248.2 163.9\" id=\"18,17\" style=\"\"></path><path d=\"M 259.4 205.5 L 259.4 186.0 L 253.1 186.0\" id=\"19,18\" style=\"\"></path><path d=\"M 292.6 143.7 L 292.6 205.5 L 259.4 205.5\" id=\"23,19\" style=\"\"></path><path d=\"M 274.3 82.0 L 274.3 98.8 L 259.6 98.8\" id=\"22,20\" style=\"\"></path><path d=\"M 274.3 82.0 L 274.3 65.2 L 216.4 65.2\" id=\"22,21\" style=\"\"></path><path d=\"M 292.6 143.7 L 292.6 82.0 L 274.3 82.0\" id=\"23,22\" style=\"\"></path><path d=\"M 402.9 196.9 L 402.9 143.7 L 292.6 143.7\" id=\"24,23\" style=\"\"></path></g><g class=\"toytree-AdmixEdges\" style=\"fill:rgb(0.0%,0.0%,0.0%);fill-opacity:0.0;stroke:rgb(90.6%,54.1%,76.5%);stroke-opacity:0.6;font-size:14px;stroke-linecap:round;stroke-width:5\"></g><g class=\"toytree-Nodes\" style=\"fill:rgb(40.0%,76.1%,64.7%);fill-opacity:1.0;stroke:rgb(14.9%,14.9%,14.9%);stroke-opacity:1.0;stroke-width:1.5\"></g><g class=\"toytree-TipLabels\" style=\"fill:rgb(14.5%,14.5%,14.5%);fill-opacity:1.0;font-family:Helvetica;font-size:12px;font-weight:300;vertical-align:baseline;white-space:pre;stroke:none\"><g class=\"toytree-TipLabel\" transform=\"translate(276.611,258.531)\"><text x=\"-113.69999999999999\" y=\"3.066\" style=\"fill:rgb(14.5%,14.5%,14.5%);fill-opacity:1.0\">32082_przewalskii</text></g><g class=\"toytree-TipLabel\" transform=\"translate(277.361,241.716)\"><text x=\"-113.69999999999999\" y=\"3.066\" style=\"fill:rgb(14.5%,14.5%,14.5%);fill-opacity:1.0\">33588_przewalskii</text></g><g class=\"toytree-TipLabel\" transform=\"translate(224.649,224.901)\"><text x=\"-95.052\" y=\"3.066\" style=\"fill:rgb(14.5%,14.5%,14.5%);fill-opacity:1.0\">33413_thamno</text></g><g class=\"toytree-TipLabel\" transform=\"translate(212.885,208.086)\"><text x=\"-95.052\" y=\"3.066\" style=\"fill:rgb(14.5%,14.5%,14.5%);fill-opacity:1.0\">30556_thamno</text></g><g class=\"toytree-TipLabel\" transform=\"translate(213.899,191.27)\"><text x=\"-71.70000000000002\" y=\"3.066\" style=\"fill:rgb(14.5%,14.5%,14.5%);fill-opacity:1.0\">40578_rex</text></g><g class=\"toytree-TipLabel\" transform=\"translate(213.619,174.455)\"><text x=\"-71.70000000000002\" y=\"3.066\" style=\"fill:rgb(14.5%,14.5%,14.5%);fill-opacity:1.0\">35855_rex</text></g><g class=\"toytree-TipLabel\" transform=\"translate(207.993,157.64)\"><text x=\"-71.70000000000002\" y=\"3.066\" style=\"fill:rgb(14.5%,14.5%,14.5%);fill-opacity:1.0\">35236_rex</text></g><g class=\"toytree-TipLabel\" transform=\"translate(199.799,140.825)\"><text x=\"-71.70000000000002\" y=\"3.066\" style=\"fill:rgb(14.5%,14.5%,14.5%);fill-opacity:1.0\">39618_rex</text></g><g class=\"toytree-TipLabel\" transform=\"translate(198.999,124.01)\"><text x=\"-71.70000000000002\" y=\"3.066\" style=\"fill:rgb(14.5%,14.5%,14.5%);fill-opacity:1.0\">38362_rex</text></g><g class=\"toytree-TipLabel\" transform=\"translate(220.603,107.194)\"><text x=\"-98.38799999999999\" y=\"3.066\" style=\"fill:rgb(14.5%,14.5%,14.5%);fill-opacity:1.0\">29154_superba</text></g><g class=\"toytree-TipLabel\" transform=\"translate(218.406,90.3791)\"><text x=\"-121.72800000000001\" y=\"3.066\" style=\"fill:rgb(14.5%,14.5%,14.5%);fill-opacity:1.0\">30686_cyathophylla</text></g><g class=\"toytree-TipLabel\" transform=\"translate(215.825,73.5638)\"><text x=\"-143.736\" y=\"3.066\" style=\"fill:rgb(14.5%,14.5%,14.5%);fill-opacity:1.0\">41954_cyathophylloides</text></g><g class=\"toytree-TipLabel\" transform=\"translate(216.047,56.7486)\"><text x=\"-143.736\" y=\"3.066\" style=\"fill:rgb(14.5%,14.5%,14.5%);fill-opacity:1.0\">41478_cyathophylloides</text></g></g></g></g></g></svg><div class=\"toyplot-behavior\"><script>(function()\n",
       "{\n",
       "var modules={};\n",
       "})();</script></div></div>"
      ]
     },
     "metadata": {},
     "output_type": "display_data"
    }
   ],
   "source": [
    "rtre.draw(layout='l');"
   ]
  },
  {
   "cell_type": "code",
   "execution_count": 104,
   "metadata": {},
   "outputs": [
    {
     "data": {
      "text/html": [
       "<div class=\"toyplot\" id=\"t5caf11aef72e4e7084a1d7b60084dd81\" style=\"text-align:center\"><svg class=\"toyplot-canvas-Canvas\" xmlns:toyplot=\"http://www.sandia.gov/toyplot\" xmlns:xlink=\"http://www.w3.org/1999/xlink\" xmlns=\"http://www.w3.org/2000/svg\" width=\"500.0px\" height=\"500.0px\" viewBox=\"0 0 500.0 500.0\" preserveAspectRatio=\"xMidYMid meet\" style=\"background-color:transparent;border-color:#292724;border-style:none;border-width:1.0;fill:rgb(16.1%,15.3%,14.1%);fill-opacity:1.0;font-family:Helvetica;font-size:12px;opacity:1.0;stroke:rgb(16.1%,15.3%,14.1%);stroke-opacity:1.0;stroke-width:1.0\" id=\"t5c5a59d90c5f43eb986023ec9406ce95\"><g class=\"toyplot-coordinates-Cartesian\" id=\"t2316bb817005484bae78296af1b30324\"><clipPath id=\"t8960b4e141904135992b668fd2fe6f70\"><rect x=\"35.0\" y=\"35.0\" width=\"430.0\" height=\"430.0\"></rect></clipPath><g clip-path=\"url(#t8960b4e141904135992b668fd2fe6f70)\"><g class=\"toytree-mark-Toytree\" id=\"tc3d9b31cfa0245878ddf06e24c7400e6\"><g class=\"toytree-Edges\" style=\"stroke:rgb(14.5%,14.5%,14.5%);stroke-opacity:1.0;stroke-linecap:round;stroke-width:2.0;fill:none\"><path d=\"M 117.5 138.8 L 131.1 125.8\" id=\"13,0\" style=\"\"></path><path d=\"M 117.5 138.8 L 93.2 135.4\" id=\"13,1\" style=\"\"></path><path d=\"M 204.5 352.7 L 154.6 336.7\" id=\"19,2\" style=\"\"></path><path d=\"M 203.0 358.7 L 137.1 360.5\" id=\"18,3\" style=\"\"></path><path d=\"M 189.1 373.0 L 158.4 381.4\" id=\"14,4\" style=\"\"></path><path d=\"M 189.1 373.0 L 179.0 392.1\" id=\"14,5\" style=\"\"></path><path d=\"M 208.3 366.8 L 214.2 400.6\" id=\"16,6\" style=\"\"></path><path d=\"M 257.5 389.1 L 256.8 394.7\" id=\"15,7\" style=\"\"></path><path d=\"M 257.5 389.1 L 266.7 392.6\" id=\"15,8\" style=\"\"></path><path d=\"M 300.2 335.0 L 342.2 363.0\" id=\"20,9\" style=\"\"></path><path d=\"M 300.2 335.0 L 366.6 327.6\" id=\"20,10\" style=\"\"></path><path d=\"M 330.0 283.9 L 330.9 283.9\" id=\"21,11\" style=\"\"></path><path d=\"M 330.0 283.9 L 330.3 283.6\" id=\"21,12\" style=\"\"></path><path d=\"M 192.0 234.5 L 117.5 138.8\" id=\"24,13\" style=\"\"></path><path d=\"M 204.0 363.3 L 189.1 373.0\" id=\"17,14\" style=\"\"></path><path d=\"M 208.3 366.8 L 257.5 389.1\" id=\"16,15\" style=\"\"></path><path d=\"M 204.0 363.3 L 208.3 366.8\" id=\"17,16\" style=\"\"></path><path d=\"M 203.0 358.7 L 204.0 363.3\" id=\"18,17\" style=\"\"></path><path d=\"M 204.5 352.7 L 203.0 358.7\" id=\"19,18\" style=\"\"></path><path d=\"M 248.6 334.2 L 204.5 352.7\" id=\"23,19\" style=\"\"></path><path d=\"M 277.8 329.9 L 300.2 335.0\" id=\"22,20\" style=\"\"></path><path d=\"M 277.8 329.9 L 330.0 283.9\" id=\"22,21\" style=\"\"></path><path d=\"M 248.6 334.2 L 277.8 329.9\" id=\"23,22\" style=\"\"></path><path d=\"M 192.0 234.5 L 248.6 334.2\" id=\"24,23\" style=\"\"></path></g><g class=\"toytree-AdmixEdges\" style=\"fill:rgb(0.0%,0.0%,0.0%);fill-opacity:0.0;stroke:rgb(90.6%,54.1%,76.5%);stroke-opacity:0.6;font-size:14px;stroke-linecap:round;stroke-width:5\"></g><g class=\"toytree-Nodes\" style=\"fill:rgb(40.0%,76.1%,64.7%);fill-opacity:1.0;stroke:rgb(14.9%,14.9%,14.9%);stroke-opacity:1.0;stroke-width:1.5\"></g><g class=\"toytree-TipLabels\" style=\"fill:rgb(14.5%,14.5%,14.5%);fill-opacity:1.0;font-family:Helvetica;font-size:12px;font-weight:300;vertical-align:baseline;white-space:pre;stroke:none\"><g class=\"toytree-TipLabel\" transform=\"translate(131.106,125.812)rotate(72.0096)\"><text x=\"-113.69999999999999\" y=\"3.066\" style=\"fill:rgb(14.5%,14.5%,14.5%);fill-opacity:1.0\">32082_przewalskii</text></g><g class=\"toytree-TipLabel\" transform=\"translate(93.1644,135.414)rotate(59.9701)\"><text x=\"-113.69999999999999\" y=\"3.066\" style=\"fill:rgb(14.5%,14.5%,14.5%);fill-opacity:1.0\">33588_przewalskii</text></g><g class=\"toytree-TipLabel\" transform=\"translate(154.559,336.673)rotate(-2.59133)\"><text x=\"-95.052\" y=\"3.066\" style=\"fill:rgb(14.5%,14.5%,14.5%);fill-opacity:1.0\">33413_thamno</text></g><g class=\"toytree-TipLabel\" transform=\"translate(137.055,360.467)rotate(-11.2112)\"><text x=\"-95.052\" y=\"3.066\" style=\"fill:rgb(14.5%,14.5%,14.5%);fill-opacity:1.0\">30556_thamno</text></g><g class=\"toytree-TipLabel\" transform=\"translate(158.418,381.398)rotate(-34.4988)\"><text x=\"-71.70000000000002\" y=\"3.066\" style=\"fill:rgb(14.5%,14.5%,14.5%);fill-opacity:1.0\">40578_rex</text></g><g class=\"toytree-TipLabel\" transform=\"translate(179.049,392.078)rotate(-63.3739)\"><text x=\"-71.70000000000002\" y=\"3.066\" style=\"fill:rgb(14.5%,14.5%,14.5%);fill-opacity:1.0\">35855_rex</text></g><g class=\"toytree-TipLabel\" transform=\"translate(214.235,400.581)rotate(80.9753)\"><text x=\"15.0\" y=\"3.066\" style=\"fill:rgb(14.5%,14.5%,14.5%);fill-opacity:1.0\">35236_rex</text></g><g class=\"toytree-TipLabel\" transform=\"translate(256.767,394.675)rotate(44.8524)\"><text x=\"15.0\" y=\"3.066\" style=\"fill:rgb(14.5%,14.5%,14.5%);fill-opacity:1.0\">39618_rex</text></g><g class=\"toytree-TipLabel\" transform=\"translate(266.725,392.552)rotate(37.3218)\"><text x=\"15.0\" y=\"3.066\" style=\"fill:rgb(14.5%,14.5%,14.5%);fill-opacity:1.0\">38362_rex</text></g><g class=\"toytree-TipLabel\" transform=\"translate(342.218,363.012)rotate(41.5573)\"><text x=\"15.0\" y=\"3.066\" style=\"fill:rgb(14.5%,14.5%,14.5%);fill-opacity:1.0\">29154_superba</text></g><g class=\"toytree-TipLabel\" transform=\"translate(366.639,327.585)rotate(-2.59574)\"><text x=\"15.0\" y=\"3.066\" style=\"fill:rgb(14.5%,14.5%,14.5%);fill-opacity:1.0\">30686_cyathophylla</text></g><g class=\"toytree-TipLabel\" transform=\"translate(330.909,283.905)rotate(-56.2191)\"><text x=\"15.0\" y=\"3.066\" style=\"fill:rgb(14.5%,14.5%,14.5%);fill-opacity:1.0\">41954_cyathophylloides</text></g><g class=\"toytree-TipLabel\" transform=\"translate(330.256,283.623)rotate(-56.7061)\"><text x=\"15.0\" y=\"3.066\" style=\"fill:rgb(14.5%,14.5%,14.5%);fill-opacity:1.0\">41478_cyathophylloides</text></g></g></g></g></g></svg><div class=\"toyplot-behavior\"><script>(function()\n",
       "{\n",
       "var modules={};\n",
       "})();</script></div></div>"
      ]
     },
     "metadata": {},
     "output_type": "display_data"
    }
   ],
   "source": [
    "# unrooted\n",
    "rtre.draw(layout='unr');"
   ]
  },
  {
   "cell_type": "markdown",
   "metadata": {},
   "source": [
    "#### `todo`\n",
    "\n",
    "**Type:**  \n",
    "**Allowed:**  \n",
    "**Default:**  \n",
    "**Description:**  \n"
   ]
  },
  {
   "attachments": {},
   "cell_type": "markdown",
   "metadata": {},
   "source": [
    "### Aligned Edge Styling\n",
    "\n",
    "#### edge_align_style\n",
    "\n",
    "**Type:**  \n",
    "**Allowed:**  \n",
    "**Default:**  \n",
    "**Description:**  "
   ]
  },
  {
   "cell_type": "code",
   "execution_count": 106,
   "metadata": {},
   "outputs": [
    {
     "data": {
      "text/plain": [
       "{\n",
       "    stroke: (0.66, 0.66, 0.66, 1),\n",
       "    stroke_width: 2,\n",
       "    stroke_opacity: 0.75,\n",
       "    stroke_linecap: 'round',\n",
       "    stroke_dasharray: '2,4',\n",
       "}"
      ]
     },
     "execution_count": 106,
     "metadata": {},
     "output_type": "execute_result"
    }
   ],
   "source": [
    "# view the allowed and default options\n",
    "rtre.style.edge_align_style"
   ]
  },
  {
   "cell_type": "code",
   "execution_count": 108,
   "metadata": {},
   "outputs": [
    {
     "data": {
      "text/html": [
       "<div class=\"toyplot\" id=\"t6f2b5d21b4f9412882373c3a392c40e2\" style=\"text-align:center\"><svg class=\"toyplot-canvas-Canvas\" xmlns:toyplot=\"http://www.sandia.gov/toyplot\" xmlns:xlink=\"http://www.w3.org/1999/xlink\" xmlns=\"http://www.w3.org/2000/svg\" width=\"453.472px\" height=\"315.28px\" viewBox=\"0 0 453.472 315.28\" preserveAspectRatio=\"xMidYMid meet\" style=\"background-color:transparent;border-color:#292724;border-style:none;border-width:1.0;fill:rgb(16.1%,15.3%,14.1%);fill-opacity:1.0;font-family:Helvetica;font-size:12px;opacity:1.0;stroke:rgb(16.1%,15.3%,14.1%);stroke-opacity:1.0;stroke-width:1.0\" id=\"te36e92e8e39446bc9f8c5f027e02d0b4\"><g class=\"toyplot-coordinates-Cartesian\" id=\"t27c2e0dbf0024be5ad534b4fcf7fc862\"><clipPath id=\"t57e52b2a3fa24faa96a87da2034d94fa\"><rect x=\"35.0\" y=\"35.0\" width=\"383.472\" height=\"245.27999999999997\"></rect></clipPath><g clip-path=\"url(#t57e52b2a3fa24faa96a87da2034d94fa)\"><g class=\"toytree-mark-Toytree\" id=\"t89ff4aeeb1cd45dd8a75829be579dea1\"><g class=\"toytree-Edges\" style=\"stroke:rgb(14.5%,14.5%,14.5%);stroke-opacity:1.0;stroke-linecap:round;stroke-width:2.0;fill:none\"><path d=\"M 155.9 250.1 L 155.9 258.5 L 171.1 258.5\" id=\"13,0\" style=\"\"></path><path d=\"M 155.9 250.1 L 155.9 241.7 L 170.4 241.7\" id=\"13,1\" style=\"\"></path><path d=\"M 187.5 205.5 L 187.5 224.9 L 220.7 224.9\" id=\"19,2\" style=\"\"></path><path d=\"M 193.6 186.0 L 193.6 208.1 L 231.9 208.1\" id=\"18,3\" style=\"\"></path><path d=\"M 211.3 182.9 L 211.3 191.3 L 231.0 191.3\" id=\"14,4\" style=\"\"></path><path d=\"M 211.3 182.9 L 211.3 174.5 L 231.2 174.5\" id=\"14,5\" style=\"\"></path><path d=\"M 202.5 145.0 L 202.5 157.6 L 236.6 157.6\" id=\"16,6\" style=\"\"></path><path d=\"M 238.8 132.4 L 238.8 140.8 L 244.4 140.8\" id=\"15,7\" style=\"\"></path><path d=\"M 238.8 132.4 L 238.8 124.0 L 245.2 124.0\" id=\"15,8\" style=\"\"></path><path d=\"M 187.3 98.8 L 187.3 107.2 L 224.6 107.2\" id=\"20,9\" style=\"\"></path><path d=\"M 187.3 98.8 L 187.3 90.4 L 226.7 90.4\" id=\"20,10\" style=\"\"></path><path d=\"M 228.6 65.2 L 228.6 73.6 L 229.1 73.6\" id=\"21,11\" style=\"\"></path><path d=\"M 228.6 65.2 L 228.6 56.7 L 228.9 56.7\" id=\"21,12\" style=\"\"></path><path d=\"M 50.6 196.9 L 50.6 250.1 L 155.9 250.1\" id=\"24,13\" style=\"\"></path><path d=\"M 198.2 163.9 L 198.2 182.9 L 211.3 182.9\" id=\"17,14\" style=\"\"></path><path d=\"M 202.5 145.0 L 202.5 132.4 L 238.8 132.4\" id=\"16,15\" style=\"\"></path><path d=\"M 198.2 163.9 L 198.2 145.0 L 202.5 145.0\" id=\"17,16\" style=\"\"></path><path d=\"M 193.6 186.0 L 193.6 163.9 L 198.2 163.9\" id=\"18,17\" style=\"\"></path><path d=\"M 187.5 205.5 L 187.5 186.0 L 193.6 186.0\" id=\"19,18\" style=\"\"></path><path d=\"M 155.9 143.7 L 155.9 205.5 L 187.5 205.5\" id=\"23,19\" style=\"\"></path><path d=\"M 173.3 82.0 L 173.3 98.8 L 187.3 98.8\" id=\"22,20\" style=\"\"></path><path d=\"M 173.3 82.0 L 173.3 65.2 L 228.6 65.2\" id=\"22,21\" style=\"\"></path><path d=\"M 155.9 143.7 L 155.9 82.0 L 173.3 82.0\" id=\"23,22\" style=\"\"></path><path d=\"M 50.6 196.9 L 50.6 143.7 L 155.9 143.7\" id=\"24,23\" style=\"\"></path></g><g class=\"toytree-AlignEdges\" style=\"stroke:rgb(93.3%,51.0%,93.3%);stroke-opacity:0.75;stroke-dasharray:2,5;stroke-linecap:round;stroke-width:3.5\"><path d=\"M 245.2 258.5 L 171.1 258.5\"></path><path d=\"M 245.2 241.7 L 170.4 241.7\"></path><path d=\"M 245.2 224.9 L 220.7 224.9\"></path><path d=\"M 245.2 208.1 L 231.9 208.1\"></path><path d=\"M 245.2 191.3 L 231.0 191.3\"></path><path d=\"M 245.2 174.5 L 231.2 174.5\"></path><path d=\"M 245.2 157.6 L 236.6 157.6\"></path><path d=\"M 245.2 140.8 L 244.4 140.8\"></path><path d=\"M 245.2 124.0 L 245.2 124.0\"></path><path d=\"M 245.2 107.2 L 224.6 107.2\"></path><path d=\"M 245.2 90.4 L 226.7 90.4\"></path><path d=\"M 245.2 73.6 L 229.1 73.6\"></path><path d=\"M 245.2 56.7 L 228.9 56.7\"></path></g><g class=\"toytree-AdmixEdges\" style=\"fill:rgb(0.0%,0.0%,0.0%);fill-opacity:0.0;stroke:rgb(90.6%,54.1%,76.5%);stroke-opacity:0.6;font-size:14px;stroke-linecap:round;stroke-width:5\"></g><g class=\"toytree-Nodes\" style=\"fill:rgb(40.0%,76.1%,64.7%);fill-opacity:1.0;stroke:rgb(14.9%,14.9%,14.9%);stroke-opacity:1.0;stroke-width:1.5\"></g><g class=\"toytree-TipLabels\" style=\"fill:rgb(14.5%,14.5%,14.5%);fill-opacity:1.0;font-family:Helvetica;font-size:12px;font-weight:300;vertical-align:baseline;white-space:pre;stroke:none\"><g class=\"toytree-TipLabel\" transform=\"translate(245.182,258.531)\"><text x=\"15.0\" y=\"3.066\" style=\"fill:rgb(14.5%,14.5%,14.5%);fill-opacity:1.0\">32082_przewalskii</text></g><g class=\"toytree-TipLabel\" transform=\"translate(245.182,241.716)\"><text x=\"15.0\" y=\"3.066\" style=\"fill:rgb(14.5%,14.5%,14.5%);fill-opacity:1.0\">33588_przewalskii</text></g><g class=\"toytree-TipLabel\" transform=\"translate(245.182,224.901)\"><text x=\"15.0\" y=\"3.066\" style=\"fill:rgb(14.5%,14.5%,14.5%);fill-opacity:1.0\">33413_thamno</text></g><g class=\"toytree-TipLabel\" transform=\"translate(245.182,208.086)\"><text x=\"15.0\" y=\"3.066\" style=\"fill:rgb(14.5%,14.5%,14.5%);fill-opacity:1.0\">30556_thamno</text></g><g class=\"toytree-TipLabel\" transform=\"translate(245.182,191.27)\"><text x=\"15.0\" y=\"3.066\" style=\"fill:rgb(14.5%,14.5%,14.5%);fill-opacity:1.0\">40578_rex</text></g><g class=\"toytree-TipLabel\" transform=\"translate(245.182,174.455)\"><text x=\"15.0\" y=\"3.066\" style=\"fill:rgb(14.5%,14.5%,14.5%);fill-opacity:1.0\">35855_rex</text></g><g class=\"toytree-TipLabel\" transform=\"translate(245.182,157.64)\"><text x=\"15.0\" y=\"3.066\" style=\"fill:rgb(14.5%,14.5%,14.5%);fill-opacity:1.0\">35236_rex</text></g><g class=\"toytree-TipLabel\" transform=\"translate(245.182,140.825)\"><text x=\"15.0\" y=\"3.066\" style=\"fill:rgb(14.5%,14.5%,14.5%);fill-opacity:1.0\">39618_rex</text></g><g class=\"toytree-TipLabel\" transform=\"translate(245.182,124.01)\"><text x=\"15.0\" y=\"3.066\" style=\"fill:rgb(14.5%,14.5%,14.5%);fill-opacity:1.0\">38362_rex</text></g><g class=\"toytree-TipLabel\" transform=\"translate(245.182,107.194)\"><text x=\"15.0\" y=\"3.066\" style=\"fill:rgb(14.5%,14.5%,14.5%);fill-opacity:1.0\">29154_superba</text></g><g class=\"toytree-TipLabel\" transform=\"translate(245.182,90.3791)\"><text x=\"15.0\" y=\"3.066\" style=\"fill:rgb(14.5%,14.5%,14.5%);fill-opacity:1.0\">30686_cyathophylla</text></g><g class=\"toytree-TipLabel\" transform=\"translate(245.182,73.5638)\"><text x=\"15.0\" y=\"3.066\" style=\"fill:rgb(14.5%,14.5%,14.5%);fill-opacity:1.0\">41954_cyathophylloides</text></g><g class=\"toytree-TipLabel\" transform=\"translate(245.182,56.7486)\"><text x=\"15.0\" y=\"3.066\" style=\"fill:rgb(14.5%,14.5%,14.5%);fill-opacity:1.0\">41478_cyathophylloides</text></g></g></g></g></g></svg><div class=\"toyplot-behavior\"><script>(function()\n",
       "{\n",
       "var modules={};\n",
       "})();</script></div></div>"
      ]
     },
     "metadata": {},
     "output_type": "display_data"
    }
   ],
   "source": [
    "rtre.draw(\n",
    "    tip_labels_align=True, \n",
    "    edge_align_style={\n",
    "        \"stroke\": \"violet\",\n",
    "        \"stroke-width\": 3.5,\n",
    "        \"stroke-dasharray\": \"2,5\"    # size of dash, spacing of dashes\n",
    "    });"
   ]
  },
  {
   "cell_type": "markdown",
   "metadata": {},
   "source": [
    "### Built in tree_style\n",
    "A number of built-in `tree_style` options are avilable. These allow you to enter just a single option to set the base style of the drawing, which affects many styles. Any additional drawing arguments that you add will be applied on top of this base style. The arg `ts` can be used as a shortcut for tree_style. The default style is 'n' (normal). "
   ]
  },
  {
   "cell_type": "code",
   "execution_count": 112,
   "metadata": {},
   "outputs": [
    {
     "data": {
      "text/html": [
       "<div class=\"toyplot\" id=\"tb13db25120134a628529ad0a36c28da7\" style=\"text-align:center\"><svg class=\"toyplot-canvas-Canvas\" xmlns:toyplot=\"http://www.sandia.gov/toyplot\" xmlns:xlink=\"http://www.w3.org/1999/xlink\" xmlns=\"http://www.w3.org/2000/svg\" width=\"315.28000000000003px\" height=\"451.472px\" viewBox=\"0 0 315.28000000000003 451.472\" preserveAspectRatio=\"xMidYMid meet\" style=\"background-color:transparent;border-color:#292724;border-style:none;border-width:1.0;fill:rgb(16.1%,15.3%,14.1%);fill-opacity:1.0;font-family:Helvetica;font-size:12px;opacity:1.0;stroke:rgb(16.1%,15.3%,14.1%);stroke-opacity:1.0;stroke-width:1.0\" id=\"t18ef7bb1f860458d9ef497e57b2acadc\"><g class=\"toyplot-coordinates-Cartesian\" id=\"t8884851b67a043e4b7d9c21c5426f1f4\"><clipPath id=\"tc7e735b2fdb64388b7c34df916f28824\"><rect x=\"35.0\" y=\"35.0\" width=\"245.28000000000003\" height=\"381.472\"></rect></clipPath><g clip-path=\"url(#tc7e735b2fdb64388b7c34df916f28824)\"><g class=\"toytree-mark-Toytree\" id=\"tdf2752dffea245a4acba7f59c41d8e91\"><g class=\"toytree-Edges\" style=\"stroke:rgb(14.5%,14.5%,14.5%);stroke-opacity:1.0;stroke-linecap:round;stroke-width:2;fill:none\"><path d=\"M 65.2 162.7 L 56.7 178.5\" id=\"13,0\" style=\"\"></path><path d=\"M 65.2 162.7 L 73.6 177.8\" id=\"13,1\" style=\"\"></path><path d=\"M 109.8 195.6 L 90.4 230.2\" id=\"19,2\" style=\"\"></path><path d=\"M 129.3 202.0 L 107.2 241.9\" id=\"18,3\" style=\"\"></path><path d=\"M 132.4 220.4 L 124.0 240.9\" id=\"14,4\" style=\"\"></path><path d=\"M 132.4 220.4 L 140.8 241.2\" id=\"14,5\" style=\"\"></path><path d=\"M 170.3 211.3 L 157.6 246.8\" id=\"16,6\" style=\"\"></path><path d=\"M 182.9 249.1 L 174.5 255.0\" id=\"15,7\" style=\"\"></path><path d=\"M 182.9 249.1 L 191.3 255.8\" id=\"15,8\" style=\"\"></path><path d=\"M 216.5 195.4 L 208.1 234.3\" id=\"20,9\" style=\"\"></path><path d=\"M 216.5 195.4 L 224.9 236.4\" id=\"20,10\" style=\"\"></path><path d=\"M 250.1 238.5 L 241.7 239.0\" id=\"21,11\" style=\"\"></path><path d=\"M 250.1 238.5 L 258.5 238.8\" id=\"21,12\" style=\"\"></path><path d=\"M 118.4 52.9 L 65.2 162.7\" id=\"24,13\" style=\"\"></path><path d=\"M 151.3 206.8 L 132.4 220.4\" id=\"17,14\" style=\"\"></path><path d=\"M 170.3 211.3 L 182.9 249.1\" id=\"16,15\" style=\"\"></path><path d=\"M 151.3 206.8 L 170.3 211.3\" id=\"17,16\" style=\"\"></path><path d=\"M 129.3 202.0 L 151.3 206.8\" id=\"18,17\" style=\"\"></path><path d=\"M 109.8 195.6 L 129.3 202.0\" id=\"19,18\" style=\"\"></path><path d=\"M 171.6 162.7 L 109.8 195.6\" id=\"23,19\" style=\"\"></path><path d=\"M 233.3 180.9 L 216.5 195.4\" id=\"22,20\" style=\"\"></path><path d=\"M 233.3 180.9 L 250.1 238.5\" id=\"22,21\" style=\"\"></path><path d=\"M 171.6 162.7 L 233.3 180.9\" id=\"23,22\" style=\"\"></path><path d=\"M 118.4 52.9 L 171.6 162.7\" id=\"24,23\" style=\"\"></path></g><g class=\"toytree-AdmixEdges\" style=\"fill:rgb(0.0%,0.0%,0.0%);fill-opacity:0.0;stroke:rgb(90.6%,54.1%,76.5%);stroke-opacity:0.6;font-size:14px;stroke-linecap:round;stroke-width:5\"></g><g class=\"toytree-Nodes\" style=\"fill:rgb(40.0%,76.1%,64.7%);fill-opacity:1.0;stroke:rgb(14.5%,14.5%,14.5%);stroke-opacity:1.0;stroke-width:1.5\"><g id=\"Node-0\" transform=\"translate(56.7486,178.532)\"><circle r=\"3.5\"></circle></g><g id=\"Node-1\" transform=\"translate(73.5638,177.786)\"><circle r=\"3.5\"></circle></g><g id=\"Node-2\" transform=\"translate(90.3791,230.231)\"><circle r=\"3.5\"></circle></g><g id=\"Node-3\" transform=\"translate(107.194,241.935)\"><circle r=\"3.5\"></circle></g><g id=\"Node-4\" transform=\"translate(124.01,240.926)\"><circle r=\"3.5\"></circle></g><g id=\"Node-5\" transform=\"translate(140.825,241.205)\"><circle r=\"3.5\"></circle></g><g id=\"Node-6\" transform=\"translate(157.64,246.802)\"><circle r=\"3.5\"></circle></g><g id=\"Node-7\" transform=\"translate(174.455,254.955)\"><circle r=\"3.5\"></circle></g><g id=\"Node-8\" transform=\"translate(191.27,255.751)\"><circle r=\"3.5\"></circle></g><g id=\"Node-9\" transform=\"translate(208.086,234.256)\"><circle r=\"3.5\"></circle></g><g id=\"Node-10\" transform=\"translate(224.901,236.442)\"><circle r=\"3.5\"></circle></g><g id=\"Node-11\" transform=\"translate(241.716,239.01)\"><circle r=\"3.5\"></circle></g><g id=\"Node-12\" transform=\"translate(258.531,238.789)\"><circle r=\"3.5\"></circle></g><g id=\"Node-13\" transform=\"translate(65.1562,162.661)\"><circle r=\"3.5\"></circle></g><g id=\"Node-14\" transform=\"translate(132.417,220.399)\"><circle r=\"3.5\"></circle></g><g id=\"Node-15\" transform=\"translate(182.863,249.067)\"><circle r=\"3.5\"></circle></g><g id=\"Node-16\" transform=\"translate(170.251,211.274)\"><circle r=\"3.5\"></circle></g><g id=\"Node-17\" transform=\"translate(151.334,206.752)\"><circle r=\"3.5\"></circle></g><g id=\"Node-18\" transform=\"translate(129.264,201.958)\"><circle r=\"3.5\"></circle></g><g id=\"Node-19\" transform=\"translate(109.822,195.631)\"><circle r=\"3.5\"></circle></g><g id=\"Node-20\" transform=\"translate(216.493,195.441)\"><circle r=\"3.5\"></circle></g><g id=\"Node-21\" transform=\"translate(250.124,238.466)\"><circle r=\"3.5\"></circle></g><g id=\"Node-22\" transform=\"translate(233.309,180.876)\"><circle r=\"3.5\"></circle></g><g id=\"Node-23\" transform=\"translate(171.565,162.661)\"><circle r=\"3.5\"></circle></g><g id=\"Node-24\" transform=\"translate(118.361,52.8859)\"><circle r=\"3.5\"></circle></g></g><g class=\"toytree-TipLabels\" style=\"fill:rgb(14.5%,14.5%,14.5%);fill-opacity:1.0;font-family:Helvetica;font-size:12px;font-weight:300;vertical-align:baseline;white-space:pre;stroke:none\"><g class=\"toytree-TipLabel\" transform=\"translate(56.7486,178.532)rotate(90)\"><text x=\"12.0\" y=\"3.066\" style=\"fill:rgb(14.5%,14.5%,14.5%);fill-opacity:1.0\">32082_przewalskii</text></g><g class=\"toytree-TipLabel\" transform=\"translate(73.5638,177.786)rotate(90)\"><text x=\"12.0\" y=\"3.066\" style=\"fill:rgb(14.5%,14.5%,14.5%);fill-opacity:1.0\">33588_przewalskii</text></g><g class=\"toytree-TipLabel\" transform=\"translate(90.3791,230.231)rotate(90)\"><text x=\"12.0\" y=\"3.066\" style=\"fill:rgb(14.5%,14.5%,14.5%);fill-opacity:1.0\">33413_thamno</text></g><g class=\"toytree-TipLabel\" transform=\"translate(107.194,241.935)rotate(90)\"><text x=\"12.0\" y=\"3.066\" style=\"fill:rgb(14.5%,14.5%,14.5%);fill-opacity:1.0\">30556_thamno</text></g><g class=\"toytree-TipLabel\" transform=\"translate(124.01,240.926)rotate(90)\"><text x=\"12.0\" y=\"3.066\" style=\"fill:rgb(14.5%,14.5%,14.5%);fill-opacity:1.0\">40578_rex</text></g><g class=\"toytree-TipLabel\" transform=\"translate(140.825,241.205)rotate(90)\"><text x=\"12.0\" y=\"3.066\" style=\"fill:rgb(14.5%,14.5%,14.5%);fill-opacity:1.0\">35855_rex</text></g><g class=\"toytree-TipLabel\" transform=\"translate(157.64,246.802)rotate(90)\"><text x=\"12.0\" y=\"3.066\" style=\"fill:rgb(14.5%,14.5%,14.5%);fill-opacity:1.0\">35236_rex</text></g><g class=\"toytree-TipLabel\" transform=\"translate(174.455,254.955)rotate(90)\"><text x=\"12.0\" y=\"3.066\" style=\"fill:rgb(14.5%,14.5%,14.5%);fill-opacity:1.0\">39618_rex</text></g><g class=\"toytree-TipLabel\" transform=\"translate(191.27,255.751)rotate(90)\"><text x=\"12.0\" y=\"3.066\" style=\"fill:rgb(14.5%,14.5%,14.5%);fill-opacity:1.0\">38362_rex</text></g><g class=\"toytree-TipLabel\" transform=\"translate(208.086,234.256)rotate(90)\"><text x=\"12.0\" y=\"3.066\" style=\"fill:rgb(14.5%,14.5%,14.5%);fill-opacity:1.0\">29154_superba</text></g><g class=\"toytree-TipLabel\" transform=\"translate(224.901,236.442)rotate(90)\"><text x=\"12.0\" y=\"3.066\" style=\"fill:rgb(14.5%,14.5%,14.5%);fill-opacity:1.0\">30686_cyathophylla</text></g><g class=\"toytree-TipLabel\" transform=\"translate(241.716,239.01)rotate(90)\"><text x=\"12.0\" y=\"3.066\" style=\"fill:rgb(14.5%,14.5%,14.5%);fill-opacity:1.0\">41954_cyathophylloides</text></g><g class=\"toytree-TipLabel\" transform=\"translate(258.531,238.789)rotate(90)\"><text x=\"12.0\" y=\"3.066\" style=\"fill:rgb(14.5%,14.5%,14.5%);fill-opacity:1.0\">41478_cyathophylloides</text></g></g></g></g><g class=\"toyplot-coordinates-Axis\" id=\"t838a165763864e818f42c8f78600c8b7\" transform=\"translate(50.0,401.472)rotate(-90.0)translate(0,-15.0)\"><line x1=\"145.7211824448095\" y1=\"0\" x2=\"348.5860676188426\" y2=\"0\" style=\"\"></line><g><line x1=\"145.7211824448095\" y1=\"0\" x2=\"145.7211824448095\" y2=\"5\" style=\"\"></line><line x1=\"206.9211687489596\" y1=\"0\" x2=\"206.9211687489596\" y2=\"5\" style=\"\"></line><line x1=\"268.12115505310965\" y1=\"0\" x2=\"268.12115505310965\" y2=\"5\" style=\"\"></line><line x1=\"329.32114135725976\" y1=\"0\" x2=\"329.32114135725976\" y2=\"5\" style=\"\"></line></g><g><g transform=\"translate(145.7211824448095,-6)\"><text x=\"-2.78\" y=\"-4.440892098500626e-16\" style=\"fill:rgb(16.1%,15.3%,14.1%);fill-opacity:1.0;font-family:helvetica;font-size:10.0px;font-weight:normal;stroke:none;vertical-align:baseline;white-space:pre\">0</text></g><g transform=\"translate(206.9211687489596,-6)\"><text x=\"-9.729999999999999\" y=\"-4.440892098500626e-16\" style=\"fill:rgb(16.1%,15.3%,14.1%);fill-opacity:1.0;font-family:helvetica;font-size:10.0px;font-weight:normal;stroke:none;vertical-align:baseline;white-space:pre\">0.01</text></g><g transform=\"translate(268.12115505310965,-6)\"><text x=\"-9.729999999999999\" y=\"-4.440892098500626e-16\" style=\"fill:rgb(16.1%,15.3%,14.1%);fill-opacity:1.0;font-family:helvetica;font-size:10.0px;font-weight:normal;stroke:none;vertical-align:baseline;white-space:pre\">0.02</text></g><g transform=\"translate(329.32114135725976,-6)\"><text x=\"-9.729999999999999\" y=\"-4.440892098500626e-16\" style=\"fill:rgb(16.1%,15.3%,14.1%);fill-opacity:1.0;font-family:helvetica;font-size:10.0px;font-weight:normal;stroke:none;vertical-align:baseline;white-space:pre\">0.03</text></g></g><g class=\"toyplot-coordinates-Axis-coordinates\" style=\"visibility:hidden\" transform=\"\"><line x1=\"0\" x2=\"0\" y1=\"3.0\" y2=\"-4.5\" style=\"stroke:rgb(43.9%,50.2%,56.5%);stroke-opacity:1.0;stroke-width:1.0\"></line><text x=\"0\" y=\"6\" style=\"alignment-baseline:hanging;fill:rgb(43.9%,50.2%,56.5%);fill-opacity:1.0;font-size:10px;font-weight:normal;stroke:none;text-anchor:middle\"></text></g></g></g></svg><div class=\"toyplot-behavior\"><script>(function()\n",
       "{\n",
       "var modules={};\n",
       "modules[\"toyplot/canvas/id\"] = \"t18ef7bb1f860458d9ef497e57b2acadc\";\n",
       "modules[\"toyplot/canvas\"] = (function(canvas_id)\n",
       "    {\n",
       "        return document.querySelector(\"#\" + canvas_id);\n",
       "    })(modules[\"toyplot/canvas/id\"]);\n",
       "modules[\"toyplot.coordinates.Axis\"] = (\n",
       "        function(canvas)\n",
       "        {\n",
       "            function sign(x)\n",
       "            {\n",
       "                return x < 0 ? -1 : x > 0 ? 1 : 0;\n",
       "            }\n",
       "\n",
       "            function mix(a, b, amount)\n",
       "            {\n",
       "                return ((1.0 - amount) * a) + (amount * b);\n",
       "            }\n",
       "\n",
       "            function log(x, base)\n",
       "            {\n",
       "                return Math.log(Math.abs(x)) / Math.log(base);\n",
       "            }\n",
       "\n",
       "            function in_range(a, x, b)\n",
       "            {\n",
       "                var left = Math.min(a, b);\n",
       "                var right = Math.max(a, b);\n",
       "                return left <= x && x <= right;\n",
       "            }\n",
       "\n",
       "            function inside(range, projection)\n",
       "            {\n",
       "                for(var i = 0; i != projection.length; ++i)\n",
       "                {\n",
       "                    var segment = projection[i];\n",
       "                    if(in_range(segment.range.min, range, segment.range.max))\n",
       "                        return true;\n",
       "                }\n",
       "                return false;\n",
       "            }\n",
       "\n",
       "            function to_domain(range, projection)\n",
       "            {\n",
       "                for(var i = 0; i != projection.length; ++i)\n",
       "                {\n",
       "                    var segment = projection[i];\n",
       "                    if(in_range(segment.range.bounds.min, range, segment.range.bounds.max))\n",
       "                    {\n",
       "                        if(segment.scale == \"linear\")\n",
       "                        {\n",
       "                            var amount = (range - segment.range.min) / (segment.range.max - segment.range.min);\n",
       "                            return mix(segment.domain.min, segment.domain.max, amount)\n",
       "                        }\n",
       "                        else if(segment.scale[0] == \"log\")\n",
       "                        {\n",
       "                            var amount = (range - segment.range.min) / (segment.range.max - segment.range.min);\n",
       "                            var base = segment.scale[1];\n",
       "                            return sign(segment.domain.min) * Math.pow(base, mix(log(segment.domain.min, base), log(segment.domain.max, base), amount));\n",
       "                        }\n",
       "                    }\n",
       "                }\n",
       "            }\n",
       "\n",
       "            var axes = {};\n",
       "\n",
       "            function display_coordinates(e)\n",
       "            {\n",
       "                var current = canvas.createSVGPoint();\n",
       "                current.x = e.clientX;\n",
       "                current.y = e.clientY;\n",
       "\n",
       "                for(var axis_id in axes)\n",
       "                {\n",
       "                    var axis = document.querySelector(\"#\" + axis_id);\n",
       "                    var coordinates = axis.querySelector(\".toyplot-coordinates-Axis-coordinates\");\n",
       "                    if(coordinates)\n",
       "                    {\n",
       "                        var projection = axes[axis_id];\n",
       "                        var local = current.matrixTransform(axis.getScreenCTM().inverse());\n",
       "                        if(inside(local.x, projection))\n",
       "                        {\n",
       "                            var domain = to_domain(local.x, projection);\n",
       "                            coordinates.style.visibility = \"visible\";\n",
       "                            coordinates.setAttribute(\"transform\", \"translate(\" + local.x + \")\");\n",
       "                            var text = coordinates.querySelector(\"text\");\n",
       "                            text.textContent = domain.toFixed(2);\n",
       "                        }\n",
       "                        else\n",
       "                        {\n",
       "                            coordinates.style.visibility= \"hidden\";\n",
       "                        }\n",
       "                    }\n",
       "                }\n",
       "            }\n",
       "\n",
       "            canvas.addEventListener(\"click\", display_coordinates);\n",
       "\n",
       "            var module = {};\n",
       "            module.show_coordinates = function(axis_id, projection)\n",
       "            {\n",
       "                axes[axis_id] = projection;\n",
       "            }\n",
       "\n",
       "            return module;\n",
       "        })(modules[\"toyplot/canvas\"]);\n",
       "(function(axis, axis_id, projection)\n",
       "        {\n",
       "            axis.show_coordinates(axis_id, projection);\n",
       "        })(modules[\"toyplot.coordinates.Axis\"],\"t838a165763864e818f42c8f78600c8b7\",[{\"domain\": {\"bounds\": {\"max\": Infinity, \"min\": -Infinity}, \"max\": 0.033619422156837664, \"min\": -0.02381065605482462}, \"range\": {\"bounds\": {\"max\": Infinity, \"min\": -Infinity}, \"max\": 351.472, \"min\": 0.0}, \"scale\": \"linear\"}]);\n",
       "})();</script></div></div>"
      ]
     },
     "metadata": {},
     "output_type": "display_data"
    }
   ],
   "source": [
    "rtre.draw(tree_style='c');"
   ]
  },
  {
   "cell_type": "code",
   "execution_count": 114,
   "metadata": {},
   "outputs": [
    {
     "data": {
      "text/html": [
       "<div class=\"toyplot\" id=\"t81a282c35f3a487bb6b4ffee0c0f2909\" style=\"text-align:center\"><svg class=\"toyplot-canvas-Canvas\" xmlns:toyplot=\"http://www.sandia.gov/toyplot\" xmlns:xlink=\"http://www.w3.org/1999/xlink\" xmlns=\"http://www.w3.org/2000/svg\" width=\"543.66px\" height=\"384.04999999999995px\" viewBox=\"0 0 543.66 384.04999999999995\" preserveAspectRatio=\"xMidYMid meet\" style=\"background-color:transparent;border-color:#292724;border-style:none;border-width:1.0;fill:rgb(16.1%,15.3%,14.1%);fill-opacity:1.0;font-family:Helvetica;font-size:12px;opacity:1.0;stroke:rgb(16.1%,15.3%,14.1%);stroke-opacity:1.0;stroke-width:1.0\" id=\"tb6e2ffa444214ac594cd7becbbbf9d83\"><g class=\"toyplot-coordinates-Cartesian\" id=\"t0ef2637961ba408a944a9c9a8aa0110b\"><clipPath id=\"tf6e009daa15d41c6a690b544ecf7605a\"><rect x=\"35.0\" y=\"35.0\" width=\"473.65999999999997\" height=\"314.04999999999995\"></rect></clipPath><g clip-path=\"url(#tf6e009daa15d41c6a690b544ecf7605a)\"><g class=\"toytree-mark-Toytree\" id=\"t6abce8840a164ec8a46ae75dcb087d42\"><g class=\"toytree-Edges\" style=\"stroke:rgb(14.5%,14.5%,14.5%);stroke-opacity:1.0;stroke-linecap:round;stroke-width:2.0;fill:none\"><path d=\"M 201.4 314.1 L 201.4 325.1 L 221.8 325.1\" id=\"13,0\" style=\"\"></path><path d=\"M 201.4 314.1 L 201.4 303.0 L 220.8 303.0\" id=\"13,1\" style=\"\"></path><path d=\"M 243.7 255.1 L 243.7 280.8 L 288.2 280.8\" id=\"19,2\" style=\"\"></path><path d=\"M 251.9 229.5 L 251.9 258.6 L 303.3 258.6\" id=\"18,3\" style=\"\"></path><path d=\"M 275.6 225.3 L 275.6 236.4 L 302.0 236.4\" id=\"14,4\" style=\"\"></path><path d=\"M 275.6 225.3 L 275.6 214.2 L 302.3 214.2\" id=\"14,5\" style=\"\"></path><path d=\"M 263.9 175.4 L 263.9 192.0 L 309.5 192.0\" id=\"16,6\" style=\"\"></path><path d=\"M 312.4 158.7 L 312.4 169.8 L 320.0 169.8\" id=\"15,7\" style=\"\"></path><path d=\"M 312.4 158.7 L 312.4 147.7 L 321.0 147.7\" id=\"15,8\" style=\"\"></path><path d=\"M 243.5 114.4 L 243.5 125.5 L 293.4 125.5\" id=\"20,9\" style=\"\"></path><path d=\"M 243.5 114.4 L 243.5 103.3 L 296.2 103.3\" id=\"20,10\" style=\"\"></path><path d=\"M 298.8 70.0 L 298.8 81.1 L 299.5 81.1\" id=\"21,11\" style=\"\"></path><path d=\"M 298.8 70.0 L 298.8 58.9 L 299.2 58.9\" id=\"21,12\" style=\"\"></path><path d=\"M 60.3 243.9 L 60.3 314.1 L 201.4 314.1\" id=\"24,13\" style=\"\"></path><path d=\"M 258.0 200.3 L 258.0 225.3 L 275.6 225.3\" id=\"17,14\" style=\"\"></path><path d=\"M 263.9 175.4 L 263.9 158.7 L 312.4 158.7\" id=\"16,15\" style=\"\"></path><path d=\"M 258.0 200.3 L 258.0 175.4 L 263.9 175.4\" id=\"17,16\" style=\"\"></path><path d=\"M 251.9 229.5 L 251.9 200.3 L 258.0 200.3\" id=\"18,17\" style=\"\"></path><path d=\"M 243.7 255.1 L 243.7 229.5 L 251.9 229.5\" id=\"19,18\" style=\"\"></path><path d=\"M 201.4 173.7 L 201.4 255.1 L 243.7 255.1\" id=\"23,19\" style=\"\"></path><path d=\"M 224.8 92.2 L 224.8 114.4 L 243.5 114.4\" id=\"22,20\" style=\"\"></path><path d=\"M 224.8 92.2 L 224.8 70.0 L 298.8 70.0\" id=\"22,21\" style=\"\"></path><path d=\"M 201.4 173.7 L 201.4 92.2 L 224.8 92.2\" id=\"23,22\" style=\"\"></path><path d=\"M 60.3 243.9 L 60.3 173.7 L 201.4 173.7\" id=\"24,23\" style=\"\"></path></g><g class=\"toytree-AdmixEdges\" style=\"fill:rgb(0.0%,0.0%,0.0%);fill-opacity:0.0;stroke:rgb(90.6%,54.1%,76.5%);stroke-opacity:0.6;font-size:14px;stroke-linecap:round;stroke-width:5\"></g><g class=\"toytree-Nodes\" style=\"fill:rgb(82.7%,82.7%,82.7%);fill-opacity:1.0;stroke:rgb(14.9%,14.9%,14.9%);stroke-opacity:1.0;stroke-width:1.5\"><g id=\"Node-13\" transform=\"translate(201.372,314.052)\"><rect x=\"-16.0\" y=\"-8.0\" width=\"32.0\" height=\"16.0\"></rect></g><g id=\"Node-14\" transform=\"translate(275.58,225.305)\"><rect x=\"-16.0\" y=\"-8.0\" width=\"32.0\" height=\"16.0\"></rect></g><g id=\"Node-15\" transform=\"translate(312.424,158.745)\"><rect x=\"-16.0\" y=\"-8.0\" width=\"32.0\" height=\"16.0\"></rect></g><g id=\"Node-16\" transform=\"translate(263.852,175.385)\"><rect x=\"-16.0\" y=\"-8.0\" width=\"32.0\" height=\"16.0\"></rect></g><g id=\"Node-17\" transform=\"translate(258.04,200.345)\"><rect x=\"-16.0\" y=\"-8.0\" width=\"32.0\" height=\"16.0\"></rect></g><g id=\"Node-18\" transform=\"translate(251.878,229.465)\"><rect x=\"-16.0\" y=\"-8.0\" width=\"32.0\" height=\"16.0\"></rect></g><g id=\"Node-19\" transform=\"translate(243.746,255.119)\"><rect x=\"-16.0\" y=\"-8.0\" width=\"32.0\" height=\"16.0\"></rect></g><g id=\"Node-20\" transform=\"translate(243.502,114.371)\"><rect x=\"-16.0\" y=\"-8.0\" width=\"32.0\" height=\"16.0\"></rect></g><g id=\"Node-21\" transform=\"translate(298.8,69.9978)\"><rect x=\"-16.0\" y=\"-8.0\" width=\"32.0\" height=\"16.0\"></rect></g><g id=\"Node-22\" transform=\"translate(224.783,92.1845)\"><rect x=\"-16.0\" y=\"-8.0\" width=\"32.0\" height=\"16.0\"></rect></g><g id=\"Node-23\" transform=\"translate(201.372,173.652)\"><rect x=\"-16.0\" y=\"-8.0\" width=\"32.0\" height=\"16.0\"></rect></g><g id=\"Node-24\" transform=\"translate(60.2844,243.852)\"><rect x=\"-16.0\" y=\"-8.0\" width=\"32.0\" height=\"16.0\"></rect></g></g><g class=\"toytree-NodeLabels\" style=\"font-family:Helvetica;font-size:9px;font-weight:300;vertical-align:baseline;white-space:pre;stroke:none\"><g class=\"toytree-NodeLabel\" transform=\"translate(201.372,314.052)\"></g><g class=\"toytree-NodeLabel\" transform=\"translate(275.58,225.305)\"></g><g class=\"toytree-NodeLabel\" transform=\"translate(312.424,158.745)\"></g><g class=\"toytree-NodeLabel\" transform=\"translate(263.852,175.385)\"></g><g class=\"toytree-NodeLabel\" transform=\"translate(258.04,200.345)\"></g><g class=\"toytree-NodeLabel\" transform=\"translate(251.878,229.465)\"></g><g class=\"toytree-NodeLabel\" transform=\"translate(243.746,255.119)\"></g><g class=\"toytree-NodeLabel\" transform=\"translate(243.502,114.371)\"></g><g class=\"toytree-NodeLabel\" transform=\"translate(298.8,69.9978)\"></g><g class=\"toytree-NodeLabel\" transform=\"translate(224.783,92.1845)\"></g><g class=\"toytree-NodeLabel\" transform=\"translate(201.372,173.652)\"></g><g class=\"toytree-NodeLabel\" transform=\"translate(60.2844,243.852)\"><text x=\"-7.7535\" y=\"2.2995\" style=\"fill:rgb(14.5%,14.5%,14.5%);fill-opacity:1.0\">root</text></g></g><g class=\"toytree-TipLabels\" style=\"fill:rgb(14.5%,14.5%,14.5%);fill-opacity:1.0;font-family:Helvetica;font-size:14px;font-weight:300;vertical-align:baseline;white-space:pre;stroke:none\"><g class=\"toytree-TipLabel\" transform=\"translate(221.77,325.146)\"><text x=\"15.0\" y=\"3.577\" style=\"fill:rgb(14.5%,14.5%,14.5%);fill-opacity:1.0\">32082_przewalskii</text></g><g class=\"toytree-TipLabel\" transform=\"translate(220.811,302.959)\"><text x=\"15.0\" y=\"3.577\" style=\"fill:rgb(14.5%,14.5%,14.5%);fill-opacity:1.0\">33588_przewalskii</text></g><g class=\"toytree-TipLabel\" transform=\"translate(288.216,280.772)\"><text x=\"15.0\" y=\"3.577\" style=\"fill:rgb(14.5%,14.5%,14.5%);fill-opacity:1.0\">33413_thamno</text></g><g class=\"toytree-TipLabel\" transform=\"translate(303.258,258.585)\"><text x=\"15.0\" y=\"3.577\" style=\"fill:rgb(14.5%,14.5%,14.5%);fill-opacity:1.0\">30556_thamno</text></g><g class=\"toytree-TipLabel\" transform=\"translate(301.962,236.399)\"><text x=\"15.0\" y=\"3.577\" style=\"fill:rgb(14.5%,14.5%,14.5%);fill-opacity:1.0\">40578_rex</text></g><g class=\"toytree-TipLabel\" transform=\"translate(302.321,214.212)\"><text x=\"15.0\" y=\"3.577\" style=\"fill:rgb(14.5%,14.5%,14.5%);fill-opacity:1.0\">35855_rex</text></g><g class=\"toytree-TipLabel\" transform=\"translate(309.514,192.025)\"><text x=\"15.0\" y=\"3.577\" style=\"fill:rgb(14.5%,14.5%,14.5%);fill-opacity:1.0\">35236_rex</text></g><g class=\"toytree-TipLabel\" transform=\"translate(319.992,169.838)\"><text x=\"15.0\" y=\"3.577\" style=\"fill:rgb(14.5%,14.5%,14.5%);fill-opacity:1.0\">39618_rex</text></g><g class=\"toytree-TipLabel\" transform=\"translate(321.015,147.651)\"><text x=\"15.0\" y=\"3.577\" style=\"fill:rgb(14.5%,14.5%,14.5%);fill-opacity:1.0\">38362_rex</text></g><g class=\"toytree-TipLabel\" transform=\"translate(293.39,125.465)\"><text x=\"15.0\" y=\"3.577\" style=\"fill:rgb(14.5%,14.5%,14.5%);fill-opacity:1.0\">29154_superba</text></g><g class=\"toytree-TipLabel\" transform=\"translate(296.198,103.278)\"><text x=\"15.0\" y=\"3.577\" style=\"fill:rgb(14.5%,14.5%,14.5%);fill-opacity:1.0\">30686_cyathophylla</text></g><g class=\"toytree-TipLabel\" transform=\"translate(299.499,81.0912)\"><text x=\"15.0\" y=\"3.577\" style=\"fill:rgb(14.5%,14.5%,14.5%);fill-opacity:1.0\">41954_cyathophylloides</text></g><g class=\"toytree-TipLabel\" transform=\"translate(299.216,58.9044)\"><text x=\"15.0\" y=\"3.577\" style=\"fill:rgb(14.5%,14.5%,14.5%);fill-opacity:1.0\">41478_cyathophylloides</text></g></g></g></g></g></svg><div class=\"toyplot-behavior\"><script>(function()\n",
       "{\n",
       "var modules={};\n",
       "})();</script></div></div>"
      ]
     },
     "metadata": {},
     "output_type": "display_data"
    }
   ],
   "source": [
    "rtre.draw(tree_style='r');"
   ]
  },
  {
   "cell_type": "code",
   "execution_count": 115,
   "metadata": {},
   "outputs": [
    {
     "data": {
      "text/html": [
       "<div class=\"toyplot\" id=\"t35e3ec4bbc2c48cb81ab82896f91d1d3\" style=\"text-align:center\"><svg class=\"toyplot-canvas-Canvas\" xmlns:toyplot=\"http://www.sandia.gov/toyplot\" xmlns:xlink=\"http://www.w3.org/1999/xlink\" xmlns=\"http://www.w3.org/2000/svg\" width=\"461.972px\" height=\"384.04999999999995px\" viewBox=\"0 0 461.972 384.04999999999995\" preserveAspectRatio=\"xMidYMid meet\" style=\"background-color:transparent;border-color:#292724;border-style:none;border-width:1.0;fill:rgb(16.1%,15.3%,14.1%);fill-opacity:1.0;font-family:Helvetica;font-size:12px;opacity:1.0;stroke:rgb(16.1%,15.3%,14.1%);stroke-opacity:1.0;stroke-width:1.0\" id=\"t9c2f5f7cd6764c5e8ddae1b685739194\"><g class=\"toyplot-coordinates-Cartesian\" id=\"t23b537b8a63846d9ad8f380733904b13\"><clipPath id=\"t0298b3fd0975458d838e378ba88388a3\"><rect x=\"35.0\" y=\"35.0\" width=\"391.972\" height=\"314.04999999999995\"></rect></clipPath><g clip-path=\"url(#t0298b3fd0975458d838e378ba88388a3)\"><g class=\"toytree-mark-Toytree\" id=\"t6823e93642f145f08514db743d5b98ef\"><g class=\"toytree-Edges\" style=\"stroke:rgb(14.5%,14.5%,14.5%);stroke-opacity:1.0;stroke-linecap:round;stroke-width:2.0;fill:none\"><path d=\"M 225.7 314.1 L 225.7 325.1 L 254.1 325.1\" id=\"13,0\" style=\"\"></path><path d=\"M 225.7 314.1 L 225.7 303.0 L 254.1 303.0\" id=\"13,1\" style=\"\"></path><path d=\"M 112.0 255.1 L 112.0 280.8 L 254.1 280.8\" id=\"19,2\" style=\"\"></path><path d=\"M 140.4 229.5 L 140.4 258.6 L 254.1 258.6\" id=\"18,3\" style=\"\"></path><path d=\"M 225.7 225.3 L 225.7 236.4 L 254.1 236.4\" id=\"14,4\" style=\"\"></path><path d=\"M 225.7 225.3 L 225.7 214.2 L 254.1 214.2\" id=\"14,5\" style=\"\"></path><path d=\"M 197.2 175.4 L 197.2 192.0 L 254.1 192.0\" id=\"16,6\" style=\"\"></path><path d=\"M 225.7 158.7 L 225.7 169.8 L 254.1 169.8\" id=\"15,7\" style=\"\"></path><path d=\"M 225.7 158.7 L 225.7 147.7 L 254.1 147.7\" id=\"15,8\" style=\"\"></path><path d=\"M 225.7 114.4 L 225.7 125.5 L 254.1 125.5\" id=\"20,9\" style=\"\"></path><path d=\"M 225.7 114.4 L 225.7 103.3 L 254.1 103.3\" id=\"20,10\" style=\"\"></path><path d=\"M 225.7 70.0 L 225.7 81.1 L 254.1 81.1\" id=\"21,11\" style=\"\"></path><path d=\"M 225.7 70.0 L 225.7 58.9 L 254.1 58.9\" id=\"21,12\" style=\"\"></path><path d=\"M 55.2 243.9 L 55.2 314.1 L 225.7 314.1\" id=\"24,13\" style=\"\"></path><path d=\"M 168.8 200.3 L 168.8 225.3 L 225.7 225.3\" id=\"17,14\" style=\"\"></path><path d=\"M 197.2 175.4 L 197.2 158.7 L 225.7 158.7\" id=\"16,15\" style=\"\"></path><path d=\"M 168.8 200.3 L 168.8 175.4 L 197.2 175.4\" id=\"17,16\" style=\"\"></path><path d=\"M 140.4 229.5 L 140.4 200.3 L 168.8 200.3\" id=\"18,17\" style=\"\"></path><path d=\"M 112.0 255.1 L 112.0 229.5 L 140.4 229.5\" id=\"19,18\" style=\"\"></path><path d=\"M 83.6 173.7 L 83.6 255.1 L 112.0 255.1\" id=\"23,19\" style=\"\"></path><path d=\"M 197.2 92.2 L 197.2 114.4 L 225.7 114.4\" id=\"22,20\" style=\"\"></path><path d=\"M 197.2 92.2 L 197.2 70.0 L 225.7 70.0\" id=\"22,21\" style=\"\"></path><path d=\"M 83.6 173.7 L 83.6 92.2 L 197.2 92.2\" id=\"23,22\" style=\"\"></path><path d=\"M 55.2 243.9 L 55.2 173.7 L 83.6 173.7\" id=\"24,23\" style=\"\"></path></g><g class=\"toytree-AdmixEdges\" style=\"fill:rgb(0.0%,0.0%,0.0%);fill-opacity:0.0;stroke:rgb(90.6%,54.1%,76.5%);stroke-opacity:0.6;font-size:14px;stroke-linecap:round;stroke-width:5\"></g><g class=\"toytree-Nodes\" style=\"fill:rgb(82.7%,82.7%,82.7%);fill-opacity:1.0;stroke:rgb(14.5%,14.5%,14.5%);stroke-opacity:1.0;stroke-width:1.5\"><g id=\"Node-0\" transform=\"translate(254.057,325.146)\"><circle r=\"8.0\"></circle></g><g id=\"Node-1\" transform=\"translate(254.057,302.959)\"><circle r=\"8.0\"></circle></g><g id=\"Node-2\" transform=\"translate(254.057,280.772)\"><circle r=\"8.0\"></circle></g><g id=\"Node-3\" transform=\"translate(254.057,258.585)\"><circle r=\"8.0\"></circle></g><g id=\"Node-4\" transform=\"translate(254.057,236.399)\"><circle r=\"8.0\"></circle></g><g id=\"Node-5\" transform=\"translate(254.057,214.212)\"><circle r=\"8.0\"></circle></g><g id=\"Node-6\" transform=\"translate(254.057,192.025)\"><circle r=\"8.0\"></circle></g><g id=\"Node-7\" transform=\"translate(254.057,169.838)\"><circle r=\"8.0\"></circle></g><g id=\"Node-8\" transform=\"translate(254.057,147.651)\"><circle r=\"8.0\"></circle></g><g id=\"Node-9\" transform=\"translate(254.057,125.465)\"><circle r=\"8.0\"></circle></g><g id=\"Node-10\" transform=\"translate(254.057,103.278)\"><circle r=\"8.0\"></circle></g><g id=\"Node-11\" transform=\"translate(254.057,81.0912)\"><circle r=\"8.0\"></circle></g><g id=\"Node-12\" transform=\"translate(254.057,58.9044)\"><circle r=\"8.0\"></circle></g><g id=\"Node-13\" transform=\"translate(225.652,314.052)\"><circle r=\"8.0\"></circle></g><g id=\"Node-14\" transform=\"translate(225.652,225.305)\"><circle r=\"8.0\"></circle></g><g id=\"Node-15\" transform=\"translate(225.652,158.745)\"><circle r=\"8.0\"></circle></g><g id=\"Node-16\" transform=\"translate(197.246,175.385)\"><circle r=\"8.0\"></circle></g><g id=\"Node-17\" transform=\"translate(168.841,200.345)\"><circle r=\"8.0\"></circle></g><g id=\"Node-18\" transform=\"translate(140.435,229.465)\"><circle r=\"8.0\"></circle></g><g id=\"Node-19\" transform=\"translate(112.03,255.119)\"><circle r=\"8.0\"></circle></g><g id=\"Node-20\" transform=\"translate(225.652,114.371)\"><circle r=\"8.0\"></circle></g><g id=\"Node-21\" transform=\"translate(225.652,69.9978)\"><circle r=\"8.0\"></circle></g><g id=\"Node-22\" transform=\"translate(197.246,92.1845)\"><circle r=\"8.0\"></circle></g><g id=\"Node-23\" transform=\"translate(83.6241,173.652)\"><circle r=\"8.0\"></circle></g><g id=\"Node-24\" transform=\"translate(55.2186,243.852)\"><circle r=\"8.0\"></circle></g></g><g class=\"toytree-NodeLabels\" style=\"font-family:Helvetica;font-size:9px;font-weight:300;vertical-align:baseline;white-space:pre;stroke:none\"><g class=\"toytree-NodeLabel\" transform=\"translate(254.057,325.146)\"><text x=\"-2.5020000000000002\" y=\"2.2995\" style=\"fill:rgb(14.5%,14.5%,14.5%);fill-opacity:1.0\">0</text></g><g class=\"toytree-NodeLabel\" transform=\"translate(254.057,302.959)\"><text x=\"-2.5020000000000002\" y=\"2.2995\" style=\"fill:rgb(14.5%,14.5%,14.5%);fill-opacity:1.0\">1</text></g><g class=\"toytree-NodeLabel\" transform=\"translate(254.057,280.772)\"><text x=\"-2.5020000000000002\" y=\"2.2995\" style=\"fill:rgb(14.5%,14.5%,14.5%);fill-opacity:1.0\">2</text></g><g class=\"toytree-NodeLabel\" transform=\"translate(254.057,258.585)\"><text x=\"-2.5020000000000002\" y=\"2.2995\" style=\"fill:rgb(14.5%,14.5%,14.5%);fill-opacity:1.0\">3</text></g><g class=\"toytree-NodeLabel\" transform=\"translate(254.057,236.399)\"><text x=\"-2.5020000000000002\" y=\"2.2995\" style=\"fill:rgb(14.5%,14.5%,14.5%);fill-opacity:1.0\">4</text></g><g class=\"toytree-NodeLabel\" transform=\"translate(254.057,214.212)\"><text x=\"-2.5020000000000002\" y=\"2.2995\" style=\"fill:rgb(14.5%,14.5%,14.5%);fill-opacity:1.0\">5</text></g><g class=\"toytree-NodeLabel\" transform=\"translate(254.057,192.025)\"><text x=\"-2.5020000000000002\" y=\"2.2995\" style=\"fill:rgb(14.5%,14.5%,14.5%);fill-opacity:1.0\">6</text></g><g class=\"toytree-NodeLabel\" transform=\"translate(254.057,169.838)\"><text x=\"-2.5020000000000002\" y=\"2.2995\" style=\"fill:rgb(14.5%,14.5%,14.5%);fill-opacity:1.0\">7</text></g><g class=\"toytree-NodeLabel\" transform=\"translate(254.057,147.651)\"><text x=\"-2.5020000000000002\" y=\"2.2995\" style=\"fill:rgb(14.5%,14.5%,14.5%);fill-opacity:1.0\">8</text></g><g class=\"toytree-NodeLabel\" transform=\"translate(254.057,125.465)\"><text x=\"-2.5020000000000002\" y=\"2.2995\" style=\"fill:rgb(14.5%,14.5%,14.5%);fill-opacity:1.0\">9</text></g><g class=\"toytree-NodeLabel\" transform=\"translate(254.057,103.278)\"><text x=\"-5.0040000000000004\" y=\"2.2995\" style=\"fill:rgb(14.5%,14.5%,14.5%);fill-opacity:1.0\">10</text></g><g class=\"toytree-NodeLabel\" transform=\"translate(254.057,81.0912)\"><text x=\"-5.0040000000000004\" y=\"2.2995\" style=\"fill:rgb(14.5%,14.5%,14.5%);fill-opacity:1.0\">11</text></g><g class=\"toytree-NodeLabel\" transform=\"translate(254.057,58.9044)\"><text x=\"-5.0040000000000004\" y=\"2.2995\" style=\"fill:rgb(14.5%,14.5%,14.5%);fill-opacity:1.0\">12</text></g><g class=\"toytree-NodeLabel\" transform=\"translate(225.652,314.052)\"><text x=\"-5.0040000000000004\" y=\"2.2995\" style=\"fill:rgb(14.5%,14.5%,14.5%);fill-opacity:1.0\">13</text></g><g class=\"toytree-NodeLabel\" transform=\"translate(225.652,225.305)\"><text x=\"-5.0040000000000004\" y=\"2.2995\" style=\"fill:rgb(14.5%,14.5%,14.5%);fill-opacity:1.0\">14</text></g><g class=\"toytree-NodeLabel\" transform=\"translate(225.652,158.745)\"><text x=\"-5.0040000000000004\" y=\"2.2995\" style=\"fill:rgb(14.5%,14.5%,14.5%);fill-opacity:1.0\">15</text></g><g class=\"toytree-NodeLabel\" transform=\"translate(197.246,175.385)\"><text x=\"-5.0040000000000004\" y=\"2.2995\" style=\"fill:rgb(14.5%,14.5%,14.5%);fill-opacity:1.0\">16</text></g><g class=\"toytree-NodeLabel\" transform=\"translate(168.841,200.345)\"><text x=\"-5.0040000000000004\" y=\"2.2995\" style=\"fill:rgb(14.5%,14.5%,14.5%);fill-opacity:1.0\">17</text></g><g class=\"toytree-NodeLabel\" transform=\"translate(140.435,229.465)\"><text x=\"-5.0040000000000004\" y=\"2.2995\" style=\"fill:rgb(14.5%,14.5%,14.5%);fill-opacity:1.0\">18</text></g><g class=\"toytree-NodeLabel\" transform=\"translate(112.03,255.119)\"><text x=\"-5.0040000000000004\" y=\"2.2995\" style=\"fill:rgb(14.5%,14.5%,14.5%);fill-opacity:1.0\">19</text></g><g class=\"toytree-NodeLabel\" transform=\"translate(225.652,114.371)\"><text x=\"-5.0040000000000004\" y=\"2.2995\" style=\"fill:rgb(14.5%,14.5%,14.5%);fill-opacity:1.0\">20</text></g><g class=\"toytree-NodeLabel\" transform=\"translate(225.652,69.9978)\"><text x=\"-5.0040000000000004\" y=\"2.2995\" style=\"fill:rgb(14.5%,14.5%,14.5%);fill-opacity:1.0\">21</text></g><g class=\"toytree-NodeLabel\" transform=\"translate(197.246,92.1845)\"><text x=\"-5.0040000000000004\" y=\"2.2995\" style=\"fill:rgb(14.5%,14.5%,14.5%);fill-opacity:1.0\">22</text></g><g class=\"toytree-NodeLabel\" transform=\"translate(83.6241,173.652)\"><text x=\"-5.0040000000000004\" y=\"2.2995\" style=\"fill:rgb(14.5%,14.5%,14.5%);fill-opacity:1.0\">23</text></g><g class=\"toytree-NodeLabel\" transform=\"translate(55.2186,243.852)\"><text x=\"-5.0040000000000004\" y=\"2.2995\" style=\"fill:rgb(14.5%,14.5%,14.5%);fill-opacity:1.0\">24</text></g></g><g class=\"toytree-TipLabels\" style=\"fill:rgb(14.5%,14.5%,14.5%);fill-opacity:1.0;font-family:Helvetica;font-size:12px;font-weight:300;vertical-align:baseline;white-space:pre;stroke:none\"><g class=\"toytree-TipLabel\" transform=\"translate(254.057,325.146)\"><text x=\"15.0\" y=\"3.066\" style=\"fill:rgb(14.5%,14.5%,14.5%);fill-opacity:1.0\">32082_przewalskii</text></g><g class=\"toytree-TipLabel\" transform=\"translate(254.057,302.959)\"><text x=\"15.0\" y=\"3.066\" style=\"fill:rgb(14.5%,14.5%,14.5%);fill-opacity:1.0\">33588_przewalskii</text></g><g class=\"toytree-TipLabel\" transform=\"translate(254.057,280.772)\"><text x=\"15.0\" y=\"3.066\" style=\"fill:rgb(14.5%,14.5%,14.5%);fill-opacity:1.0\">33413_thamno</text></g><g class=\"toytree-TipLabel\" transform=\"translate(254.057,258.585)\"><text x=\"15.0\" y=\"3.066\" style=\"fill:rgb(14.5%,14.5%,14.5%);fill-opacity:1.0\">30556_thamno</text></g><g class=\"toytree-TipLabel\" transform=\"translate(254.057,236.399)\"><text x=\"15.0\" y=\"3.066\" style=\"fill:rgb(14.5%,14.5%,14.5%);fill-opacity:1.0\">40578_rex</text></g><g class=\"toytree-TipLabel\" transform=\"translate(254.057,214.212)\"><text x=\"15.0\" y=\"3.066\" style=\"fill:rgb(14.5%,14.5%,14.5%);fill-opacity:1.0\">35855_rex</text></g><g class=\"toytree-TipLabel\" transform=\"translate(254.057,192.025)\"><text x=\"15.0\" y=\"3.066\" style=\"fill:rgb(14.5%,14.5%,14.5%);fill-opacity:1.0\">35236_rex</text></g><g class=\"toytree-TipLabel\" transform=\"translate(254.057,169.838)\"><text x=\"15.0\" y=\"3.066\" style=\"fill:rgb(14.5%,14.5%,14.5%);fill-opacity:1.0\">39618_rex</text></g><g class=\"toytree-TipLabel\" transform=\"translate(254.057,147.651)\"><text x=\"15.0\" y=\"3.066\" style=\"fill:rgb(14.5%,14.5%,14.5%);fill-opacity:1.0\">38362_rex</text></g><g class=\"toytree-TipLabel\" transform=\"translate(254.057,125.465)\"><text x=\"15.0\" y=\"3.066\" style=\"fill:rgb(14.5%,14.5%,14.5%);fill-opacity:1.0\">29154_superba</text></g><g class=\"toytree-TipLabel\" transform=\"translate(254.057,103.278)\"><text x=\"15.0\" y=\"3.066\" style=\"fill:rgb(14.5%,14.5%,14.5%);fill-opacity:1.0\">30686_cyathophylla</text></g><g class=\"toytree-TipLabel\" transform=\"translate(254.057,81.0912)\"><text x=\"15.0\" y=\"3.066\" style=\"fill:rgb(14.5%,14.5%,14.5%);fill-opacity:1.0\">41954_cyathophylloides</text></g><g class=\"toytree-TipLabel\" transform=\"translate(254.057,58.9044)\"><text x=\"15.0\" y=\"3.066\" style=\"fill:rgb(14.5%,14.5%,14.5%);fill-opacity:1.0\">41478_cyathophylloides</text></g></g></g></g></g></svg><div class=\"toyplot-behavior\"><script>(function()\n",
       "{\n",
       "var modules={};\n",
       "})();</script></div></div>"
      ]
     },
     "metadata": {},
     "output_type": "display_data"
    }
   ],
   "source": [
    "rtre.draw(tree_style='s');"
   ]
  },
  {
   "cell_type": "markdown",
   "metadata": {},
   "source": [
    "### Scale_bar\n",
    "You can add a scale_bar to any tree plot with the draw argument `scale_bar=True`. When creating a drawing (which return three objects) you can store the middle object (axes) to further set styling options on it. You can also optionally enter a float value such as `scale_bar=1e6` to add a scale_bar where branch lengths will be returned in units divided by 1e4. This can help to make units of millions of years listed as integers instead of many zeros.\n",
    "\n",
    "**Type:** boolean or float\n",
    "**Allowed:** True, False, float\n",
    "**Default:** False\n",
    "**Description:** Add a scale bar and optionally set the scalebar unit by entering a float."
   ]
  },
  {
   "cell_type": "code",
   "execution_count": 116,
   "metadata": {},
   "outputs": [
    {
     "data": {
      "text/html": [
       "<div class=\"toyplot\" id=\"t6e67bbb48f4346e498a025dd04142435\" style=\"text-align:center\"><svg class=\"toyplot-canvas-Canvas\" xmlns:toyplot=\"http://www.sandia.gov/toyplot\" xmlns:xlink=\"http://www.w3.org/1999/xlink\" xmlns=\"http://www.w3.org/2000/svg\" width=\"453.472px\" height=\"315.28px\" viewBox=\"0 0 453.472 315.28\" preserveAspectRatio=\"xMidYMid meet\" style=\"background-color:transparent;border-color:#292724;border-style:none;border-width:1.0;fill:rgb(16.1%,15.3%,14.1%);fill-opacity:1.0;font-family:Helvetica;font-size:12px;opacity:1.0;stroke:rgb(16.1%,15.3%,14.1%);stroke-opacity:1.0;stroke-width:1.0\" id=\"td824ff0075bc42b89537d7dd2eaa0fd9\"><g class=\"toyplot-coordinates-Cartesian\" id=\"te2bb09c7deff4acfa364a0990b644e1b\"><clipPath id=\"t8f176c6bed5446a4865990729bbed94f\"><rect x=\"35.0\" y=\"35.0\" width=\"383.472\" height=\"245.27999999999997\"></rect></clipPath><g clip-path=\"url(#t8f176c6bed5446a4865990729bbed94f)\"><g class=\"toytree-mark-Toytree\" id=\"tb7ef9fae0bbb44fd85d147982cd5a44e\"><g class=\"toytree-Edges\" style=\"stroke:rgb(14.5%,14.5%,14.5%);stroke-opacity:1.0;stroke-linecap:round;stroke-width:2.0;fill:none\"><path d=\"M 160.9 250.1 L 160.9 258.5 L 176.9 258.5\" id=\"13,0\" style=\"\"></path><path d=\"M 160.9 250.1 L 160.9 241.7 L 176.1 241.7\" id=\"13,1\" style=\"\"></path><path d=\"M 194.0 205.5 L 194.0 224.9 L 228.8 224.9\" id=\"19,2\" style=\"\"></path><path d=\"M 200.4 186.0 L 200.4 208.1 L 240.6 208.1\" id=\"18,3\" style=\"\"></path><path d=\"M 218.9 182.9 L 218.9 191.3 L 239.6 191.3\" id=\"14,4\" style=\"\"></path><path d=\"M 218.9 182.9 L 218.9 174.5 L 239.9 174.5\" id=\"14,5\" style=\"\"></path><path d=\"M 209.8 145.0 L 209.8 157.6 L 245.5 157.6\" id=\"16,6\" style=\"\"></path><path d=\"M 247.8 132.4 L 247.8 140.8 L 253.7 140.8\" id=\"15,7\" style=\"\"></path><path d=\"M 247.8 132.4 L 247.8 124.0 L 254.5 124.0\" id=\"15,8\" style=\"\"></path><path d=\"M 193.9 98.8 L 193.9 107.2 L 232.9 107.2\" id=\"20,9\" style=\"\"></path><path d=\"M 193.9 98.8 L 193.9 90.4 L 235.1 90.4\" id=\"20,10\" style=\"\"></path><path d=\"M 237.1 65.2 L 237.1 73.6 L 237.6 73.6\" id=\"21,11\" style=\"\"></path><path d=\"M 237.1 65.2 L 237.1 56.7 L 237.4 56.7\" id=\"21,12\" style=\"\"></path><path d=\"M 50.6 196.9 L 50.6 250.1 L 160.9 250.1\" id=\"24,13\" style=\"\"></path><path d=\"M 205.2 163.9 L 205.2 182.9 L 218.9 182.9\" id=\"17,14\" style=\"\"></path><path d=\"M 209.8 145.0 L 209.8 132.4 L 247.8 132.4\" id=\"16,15\" style=\"\"></path><path d=\"M 205.2 163.9 L 205.2 145.0 L 209.8 145.0\" id=\"17,16\" style=\"\"></path><path d=\"M 200.4 186.0 L 200.4 163.9 L 205.2 163.9\" id=\"18,17\" style=\"\"></path><path d=\"M 194.0 205.5 L 194.0 186.0 L 200.4 186.0\" id=\"19,18\" style=\"\"></path><path d=\"M 160.9 143.7 L 160.9 205.5 L 194.0 205.5\" id=\"23,19\" style=\"\"></path><path d=\"M 179.2 82.0 L 179.2 98.8 L 193.9 98.8\" id=\"22,20\" style=\"\"></path><path d=\"M 179.2 82.0 L 179.2 65.2 L 237.1 65.2\" id=\"22,21\" style=\"\"></path><path d=\"M 160.9 143.7 L 160.9 82.0 L 179.2 82.0\" id=\"23,22\" style=\"\"></path><path d=\"M 50.6 196.9 L 50.6 143.7 L 160.9 143.7\" id=\"24,23\" style=\"\"></path></g><g class=\"toytree-AdmixEdges\" style=\"fill:rgb(0.0%,0.0%,0.0%);fill-opacity:0.0;stroke:rgb(90.6%,54.1%,76.5%);stroke-opacity:0.6;font-size:14px;stroke-linecap:round;stroke-width:5\"></g><g class=\"toytree-Nodes\" style=\"fill:rgb(40.0%,76.1%,64.7%);fill-opacity:1.0;stroke:rgb(14.9%,14.9%,14.9%);stroke-opacity:1.0;stroke-width:1.5\"></g><g class=\"toytree-TipLabels\" style=\"fill:rgb(14.5%,14.5%,14.5%);fill-opacity:1.0;font-family:Helvetica;font-size:12px;font-weight:300;vertical-align:baseline;white-space:pre;stroke:none\"><g class=\"toytree-TipLabel\" transform=\"translate(176.861,258.531)\"><text x=\"15.0\" y=\"3.066\" style=\"fill:rgb(14.5%,14.5%,14.5%);fill-opacity:1.0\">32082_przewalskii</text></g><g class=\"toytree-TipLabel\" transform=\"translate(176.111,241.716)\"><text x=\"15.0\" y=\"3.066\" style=\"fill:rgb(14.5%,14.5%,14.5%);fill-opacity:1.0\">33588_przewalskii</text></g><g class=\"toytree-TipLabel\" transform=\"translate(228.823,224.901)\"><text x=\"15.0\" y=\"3.066\" style=\"fill:rgb(14.5%,14.5%,14.5%);fill-opacity:1.0\">33413_thamno</text></g><g class=\"toytree-TipLabel\" transform=\"translate(240.587,208.086)\"><text x=\"15.0\" y=\"3.066\" style=\"fill:rgb(14.5%,14.5%,14.5%);fill-opacity:1.0\">30556_thamno</text></g><g class=\"toytree-TipLabel\" transform=\"translate(239.573,191.27)\"><text x=\"15.0\" y=\"3.066\" style=\"fill:rgb(14.5%,14.5%,14.5%);fill-opacity:1.0\">40578_rex</text></g><g class=\"toytree-TipLabel\" transform=\"translate(239.853,174.455)\"><text x=\"15.0\" y=\"3.066\" style=\"fill:rgb(14.5%,14.5%,14.5%);fill-opacity:1.0\">35855_rex</text></g><g class=\"toytree-TipLabel\" transform=\"translate(245.479,157.64)\"><text x=\"15.0\" y=\"3.066\" style=\"fill:rgb(14.5%,14.5%,14.5%);fill-opacity:1.0\">35236_rex</text></g><g class=\"toytree-TipLabel\" transform=\"translate(253.673,140.825)\"><text x=\"15.0\" y=\"3.066\" style=\"fill:rgb(14.5%,14.5%,14.5%);fill-opacity:1.0\">39618_rex</text></g><g class=\"toytree-TipLabel\" transform=\"translate(254.473,124.01)\"><text x=\"15.0\" y=\"3.066\" style=\"fill:rgb(14.5%,14.5%,14.5%);fill-opacity:1.0\">38362_rex</text></g><g class=\"toytree-TipLabel\" transform=\"translate(232.869,107.194)\"><text x=\"15.0\" y=\"3.066\" style=\"fill:rgb(14.5%,14.5%,14.5%);fill-opacity:1.0\">29154_superba</text></g><g class=\"toytree-TipLabel\" transform=\"translate(235.066,90.3791)\"><text x=\"15.0\" y=\"3.066\" style=\"fill:rgb(14.5%,14.5%,14.5%);fill-opacity:1.0\">30686_cyathophylla</text></g><g class=\"toytree-TipLabel\" transform=\"translate(237.647,73.5638)\"><text x=\"15.0\" y=\"3.066\" style=\"fill:rgb(14.5%,14.5%,14.5%);fill-opacity:1.0\">41954_cyathophylloides</text></g><g class=\"toytree-TipLabel\" transform=\"translate(237.425,56.7486)\"><text x=\"15.0\" y=\"3.066\" style=\"fill:rgb(14.5%,14.5%,14.5%);fill-opacity:1.0\">41478_cyathophylloides</text></g></g></g></g><g class=\"toyplot-coordinates-Axis\" id=\"t6e8e3f7627a54b9e89d798851dd88bbe\" transform=\"translate(50.0,265.28)translate(0,15.0)\"><line x1=\"0.5768380846314681\" y1=\"0\" x2=\"204.47294953547427\" y2=\"0\" style=\"\"></line><g><line x1=\"19.93969405033586\" y1=\"0\" x2=\"19.93969405033586\" y2=\"-5\" style=\"\"></line><line x1=\"81.45077921204869\" y1=\"0\" x2=\"81.45077921204869\" y2=\"-5\" style=\"\"></line><line x1=\"142.9618643737615\" y1=\"0\" x2=\"142.9618643737615\" y2=\"-5\" style=\"\"></line><line x1=\"204.47294953547427\" y1=\"0\" x2=\"204.47294953547427\" y2=\"-5\" style=\"\"></line></g><g><g transform=\"translate(19.93969405033586,6)\"><text x=\"-9.729999999999999\" y=\"8.555\" style=\"fill:rgb(16.1%,15.3%,14.1%);fill-opacity:1.0;font-family:helvetica;font-size:10.0px;font-weight:normal;stroke:none;vertical-align:baseline;white-space:pre\">0.03</text></g><g transform=\"translate(81.45077921204869,6)\"><text x=\"-9.729999999999999\" y=\"8.555\" style=\"fill:rgb(16.1%,15.3%,14.1%);fill-opacity:1.0;font-family:helvetica;font-size:10.0px;font-weight:normal;stroke:none;vertical-align:baseline;white-space:pre\">0.02</text></g><g transform=\"translate(142.9618643737615,6)\"><text x=\"-9.729999999999999\" y=\"8.555\" style=\"fill:rgb(16.1%,15.3%,14.1%);fill-opacity:1.0;font-family:helvetica;font-size:10.0px;font-weight:normal;stroke:none;vertical-align:baseline;white-space:pre\">0.01</text></g><g transform=\"translate(204.47294953547427,6)\"><text x=\"-2.78\" y=\"8.555\" style=\"fill:rgb(16.1%,15.3%,14.1%);fill-opacity:1.0;font-family:helvetica;font-size:10.0px;font-weight:normal;stroke:none;vertical-align:baseline;white-space:pre\">0</text></g></g><g class=\"toyplot-coordinates-Axis-coordinates\" style=\"visibility:hidden\" transform=\"\"><line x1=\"0\" x2=\"0\" y1=\"-3.0\" y2=\"4.5\" style=\"stroke:rgb(43.9%,50.2%,56.5%);stroke-opacity:1.0;stroke-width:1.0\"></line><text x=\"0\" y=\"-6\" style=\"alignment-baseline:alphabetic;fill:rgb(43.9%,50.2%,56.5%);fill-opacity:1.0;font-size:10px;font-weight:normal;stroke:none;text-anchor:middle\"></text></g></g></g></svg><div class=\"toyplot-behavior\"><script>(function()\n",
       "{\n",
       "var modules={};\n",
       "modules[\"toyplot/canvas/id\"] = \"td824ff0075bc42b89537d7dd2eaa0fd9\";\n",
       "modules[\"toyplot/canvas\"] = (function(canvas_id)\n",
       "    {\n",
       "        return document.querySelector(\"#\" + canvas_id);\n",
       "    })(modules[\"toyplot/canvas/id\"]);\n",
       "modules[\"toyplot.coordinates.Axis\"] = (\n",
       "        function(canvas)\n",
       "        {\n",
       "            function sign(x)\n",
       "            {\n",
       "                return x < 0 ? -1 : x > 0 ? 1 : 0;\n",
       "            }\n",
       "\n",
       "            function mix(a, b, amount)\n",
       "            {\n",
       "                return ((1.0 - amount) * a) + (amount * b);\n",
       "            }\n",
       "\n",
       "            function log(x, base)\n",
       "            {\n",
       "                return Math.log(Math.abs(x)) / Math.log(base);\n",
       "            }\n",
       "\n",
       "            function in_range(a, x, b)\n",
       "            {\n",
       "                var left = Math.min(a, b);\n",
       "                var right = Math.max(a, b);\n",
       "                return left <= x && x <= right;\n",
       "            }\n",
       "\n",
       "            function inside(range, projection)\n",
       "            {\n",
       "                for(var i = 0; i != projection.length; ++i)\n",
       "                {\n",
       "                    var segment = projection[i];\n",
       "                    if(in_range(segment.range.min, range, segment.range.max))\n",
       "                        return true;\n",
       "                }\n",
       "                return false;\n",
       "            }\n",
       "\n",
       "            function to_domain(range, projection)\n",
       "            {\n",
       "                for(var i = 0; i != projection.length; ++i)\n",
       "                {\n",
       "                    var segment = projection[i];\n",
       "                    if(in_range(segment.range.bounds.min, range, segment.range.bounds.max))\n",
       "                    {\n",
       "                        if(segment.scale == \"linear\")\n",
       "                        {\n",
       "                            var amount = (range - segment.range.min) / (segment.range.max - segment.range.min);\n",
       "                            return mix(segment.domain.min, segment.domain.max, amount)\n",
       "                        }\n",
       "                        else if(segment.scale[0] == \"log\")\n",
       "                        {\n",
       "                            var amount = (range - segment.range.min) / (segment.range.max - segment.range.min);\n",
       "                            var base = segment.scale[1];\n",
       "                            return sign(segment.domain.min) * Math.pow(base, mix(log(segment.domain.min, base), log(segment.domain.max, base), amount));\n",
       "                        }\n",
       "                    }\n",
       "                }\n",
       "            }\n",
       "\n",
       "            var axes = {};\n",
       "\n",
       "            function display_coordinates(e)\n",
       "            {\n",
       "                var current = canvas.createSVGPoint();\n",
       "                current.x = e.clientX;\n",
       "                current.y = e.clientY;\n",
       "\n",
       "                for(var axis_id in axes)\n",
       "                {\n",
       "                    var axis = document.querySelector(\"#\" + axis_id);\n",
       "                    var coordinates = axis.querySelector(\".toyplot-coordinates-Axis-coordinates\");\n",
       "                    if(coordinates)\n",
       "                    {\n",
       "                        var projection = axes[axis_id];\n",
       "                        var local = current.matrixTransform(axis.getScreenCTM().inverse());\n",
       "                        if(inside(local.x, projection))\n",
       "                        {\n",
       "                            var domain = to_domain(local.x, projection);\n",
       "                            coordinates.style.visibility = \"visible\";\n",
       "                            coordinates.setAttribute(\"transform\", \"translate(\" + local.x + \")\");\n",
       "                            var text = coordinates.querySelector(\"text\");\n",
       "                            text.textContent = domain.toFixed(2);\n",
       "                        }\n",
       "                        else\n",
       "                        {\n",
       "                            coordinates.style.visibility= \"hidden\";\n",
       "                        }\n",
       "                    }\n",
       "                }\n",
       "            }\n",
       "\n",
       "            canvas.addEventListener(\"click\", display_coordinates);\n",
       "\n",
       "            var module = {};\n",
       "            module.show_coordinates = function(axis_id, projection)\n",
       "            {\n",
       "                axes[axis_id] = projection;\n",
       "            }\n",
       "\n",
       "            return module;\n",
       "        })(modules[\"toyplot/canvas\"]);\n",
       "(function(axis, axis_id, projection)\n",
       "        {\n",
       "            axis.show_coordinates(axis_id, projection);\n",
       "        })(modules[\"toyplot.coordinates.Axis\"],\"t6e8e3f7627a54b9e89d798851dd88bbe\",[{\"domain\": {\"bounds\": {\"max\": Infinity, \"min\": -Infinity}, \"max\": 0.024223121746723662, \"min\": -0.03324164238005464}, \"range\": {\"bounds\": {\"max\": Infinity, \"min\": -Infinity}, \"max\": 353.472, \"min\": 0.0}, \"scale\": \"linear\"}]);\n",
       "})();</script></div></div>"
      ]
     },
     "metadata": {},
     "output_type": "display_data"
    }
   ],
   "source": [
    "# add scale bar\n",
    "rtre.draw(scale_bar=True);"
   ]
  },
  {
   "cell_type": "code",
   "execution_count": 117,
   "metadata": {},
   "outputs": [
    {
     "data": {
      "text/html": [
       "<div class=\"toyplot\" id=\"t59e8c66c3c6547e7ab650fcce5060771\" style=\"text-align:center\"><svg class=\"toyplot-canvas-Canvas\" xmlns:toyplot=\"http://www.sandia.gov/toyplot\" xmlns:xlink=\"http://www.w3.org/1999/xlink\" xmlns=\"http://www.w3.org/2000/svg\" width=\"453.472px\" height=\"315.28px\" viewBox=\"0 0 453.472 315.28\" preserveAspectRatio=\"xMidYMid meet\" style=\"background-color:transparent;border-color:#292724;border-style:none;border-width:1.0;fill:rgb(16.1%,15.3%,14.1%);fill-opacity:1.0;font-family:Helvetica;font-size:12px;opacity:1.0;stroke:rgb(16.1%,15.3%,14.1%);stroke-opacity:1.0;stroke-width:1.0\" id=\"td8c4a7bcf9e44dfe8ea1860406f841fe\"><g class=\"toyplot-coordinates-Cartesian\" id=\"te404ec3b1bc64197a818f554239e23c3\"><clipPath id=\"t7b840368956944eb9fd62eb79c3f2d89\"><rect x=\"35.0\" y=\"35.0\" width=\"383.472\" height=\"245.27999999999997\"></rect></clipPath><g clip-path=\"url(#t7b840368956944eb9fd62eb79c3f2d89)\"><g class=\"toytree-mark-Toytree\" id=\"t958397e9e6eb4cf5808557e052759fc4\"><g class=\"toytree-Edges\" style=\"stroke:rgb(14.5%,14.5%,14.5%);stroke-opacity:1.0;stroke-linecap:round;stroke-width:2.0;fill:none\"><path d=\"M 160.9 250.1 L 160.9 258.5 L 176.9 258.5\" id=\"13,0\" style=\"\"></path><path d=\"M 160.9 250.1 L 160.9 241.7 L 176.1 241.7\" id=\"13,1\" style=\"\"></path><path d=\"M 194.0 205.5 L 194.0 224.9 L 228.8 224.9\" id=\"19,2\" style=\"\"></path><path d=\"M 200.4 186.0 L 200.4 208.1 L 240.6 208.1\" id=\"18,3\" style=\"\"></path><path d=\"M 218.9 182.9 L 218.9 191.3 L 239.6 191.3\" id=\"14,4\" style=\"\"></path><path d=\"M 218.9 182.9 L 218.9 174.5 L 239.9 174.5\" id=\"14,5\" style=\"\"></path><path d=\"M 209.8 145.0 L 209.8 157.6 L 245.5 157.6\" id=\"16,6\" style=\"\"></path><path d=\"M 247.8 132.4 L 247.8 140.8 L 253.7 140.8\" id=\"15,7\" style=\"\"></path><path d=\"M 247.8 132.4 L 247.8 124.0 L 254.5 124.0\" id=\"15,8\" style=\"\"></path><path d=\"M 193.9 98.8 L 193.9 107.2 L 232.9 107.2\" id=\"20,9\" style=\"\"></path><path d=\"M 193.9 98.8 L 193.9 90.4 L 235.1 90.4\" id=\"20,10\" style=\"\"></path><path d=\"M 237.1 65.2 L 237.1 73.6 L 237.6 73.6\" id=\"21,11\" style=\"\"></path><path d=\"M 237.1 65.2 L 237.1 56.7 L 237.4 56.7\" id=\"21,12\" style=\"\"></path><path d=\"M 50.6 196.9 L 50.6 250.1 L 160.9 250.1\" id=\"24,13\" style=\"\"></path><path d=\"M 205.2 163.9 L 205.2 182.9 L 218.9 182.9\" id=\"17,14\" style=\"\"></path><path d=\"M 209.8 145.0 L 209.8 132.4 L 247.8 132.4\" id=\"16,15\" style=\"\"></path><path d=\"M 205.2 163.9 L 205.2 145.0 L 209.8 145.0\" id=\"17,16\" style=\"\"></path><path d=\"M 200.4 186.0 L 200.4 163.9 L 205.2 163.9\" id=\"18,17\" style=\"\"></path><path d=\"M 194.0 205.5 L 194.0 186.0 L 200.4 186.0\" id=\"19,18\" style=\"\"></path><path d=\"M 160.9 143.7 L 160.9 205.5 L 194.0 205.5\" id=\"23,19\" style=\"\"></path><path d=\"M 179.2 82.0 L 179.2 98.8 L 193.9 98.8\" id=\"22,20\" style=\"\"></path><path d=\"M 179.2 82.0 L 179.2 65.2 L 237.1 65.2\" id=\"22,21\" style=\"\"></path><path d=\"M 160.9 143.7 L 160.9 82.0 L 179.2 82.0\" id=\"23,22\" style=\"\"></path><path d=\"M 50.6 196.9 L 50.6 143.7 L 160.9 143.7\" id=\"24,23\" style=\"\"></path></g><g class=\"toytree-AdmixEdges\" style=\"fill:rgb(0.0%,0.0%,0.0%);fill-opacity:0.0;stroke:rgb(90.6%,54.1%,76.5%);stroke-opacity:0.6;font-size:14px;stroke-linecap:round;stroke-width:5\"></g><g class=\"toytree-Nodes\" style=\"fill:rgb(40.0%,76.1%,64.7%);fill-opacity:1.0;stroke:rgb(14.9%,14.9%,14.9%);stroke-opacity:1.0;stroke-width:1.5\"></g><g class=\"toytree-TipLabels\" style=\"fill:rgb(14.5%,14.5%,14.5%);fill-opacity:1.0;font-family:Helvetica;font-size:12px;font-weight:300;vertical-align:baseline;white-space:pre;stroke:none\"><g class=\"toytree-TipLabel\" transform=\"translate(176.861,258.531)\"><text x=\"15.0\" y=\"3.066\" style=\"fill:rgb(14.5%,14.5%,14.5%);fill-opacity:1.0\">32082_przewalskii</text></g><g class=\"toytree-TipLabel\" transform=\"translate(176.111,241.716)\"><text x=\"15.0\" y=\"3.066\" style=\"fill:rgb(14.5%,14.5%,14.5%);fill-opacity:1.0\">33588_przewalskii</text></g><g class=\"toytree-TipLabel\" transform=\"translate(228.823,224.901)\"><text x=\"15.0\" y=\"3.066\" style=\"fill:rgb(14.5%,14.5%,14.5%);fill-opacity:1.0\">33413_thamno</text></g><g class=\"toytree-TipLabel\" transform=\"translate(240.587,208.086)\"><text x=\"15.0\" y=\"3.066\" style=\"fill:rgb(14.5%,14.5%,14.5%);fill-opacity:1.0\">30556_thamno</text></g><g class=\"toytree-TipLabel\" transform=\"translate(239.573,191.27)\"><text x=\"15.0\" y=\"3.066\" style=\"fill:rgb(14.5%,14.5%,14.5%);fill-opacity:1.0\">40578_rex</text></g><g class=\"toytree-TipLabel\" transform=\"translate(239.853,174.455)\"><text x=\"15.0\" y=\"3.066\" style=\"fill:rgb(14.5%,14.5%,14.5%);fill-opacity:1.0\">35855_rex</text></g><g class=\"toytree-TipLabel\" transform=\"translate(245.479,157.64)\"><text x=\"15.0\" y=\"3.066\" style=\"fill:rgb(14.5%,14.5%,14.5%);fill-opacity:1.0\">35236_rex</text></g><g class=\"toytree-TipLabel\" transform=\"translate(253.673,140.825)\"><text x=\"15.0\" y=\"3.066\" style=\"fill:rgb(14.5%,14.5%,14.5%);fill-opacity:1.0\">39618_rex</text></g><g class=\"toytree-TipLabel\" transform=\"translate(254.473,124.01)\"><text x=\"15.0\" y=\"3.066\" style=\"fill:rgb(14.5%,14.5%,14.5%);fill-opacity:1.0\">38362_rex</text></g><g class=\"toytree-TipLabel\" transform=\"translate(232.869,107.194)\"><text x=\"15.0\" y=\"3.066\" style=\"fill:rgb(14.5%,14.5%,14.5%);fill-opacity:1.0\">29154_superba</text></g><g class=\"toytree-TipLabel\" transform=\"translate(235.066,90.3791)\"><text x=\"15.0\" y=\"3.066\" style=\"fill:rgb(14.5%,14.5%,14.5%);fill-opacity:1.0\">30686_cyathophylla</text></g><g class=\"toytree-TipLabel\" transform=\"translate(237.647,73.5638)\"><text x=\"15.0\" y=\"3.066\" style=\"fill:rgb(14.5%,14.5%,14.5%);fill-opacity:1.0\">41954_cyathophylloides</text></g><g class=\"toytree-TipLabel\" transform=\"translate(237.425,56.7486)\"><text x=\"15.0\" y=\"3.066\" style=\"fill:rgb(14.5%,14.5%,14.5%);fill-opacity:1.0\">41478_cyathophylloides</text></g></g></g></g><g class=\"toyplot-coordinates-Axis\" id=\"tf21bf49cdb474bada8c90f9788e9503e\" transform=\"translate(50.0,265.28)translate(0,15.0)\"><line x1=\"0.5768380846314681\" y1=\"0\" x2=\"204.47294953547427\" y2=\"0\" style=\"\"></line><g><line x1=\"19.93969405033586\" y1=\"0\" x2=\"19.93969405033586\" y2=\"-5\" style=\"\"></line><line x1=\"81.45077921204869\" y1=\"0\" x2=\"81.45077921204869\" y2=\"-5\" style=\"\"></line><line x1=\"142.9618643737615\" y1=\"0\" x2=\"142.9618643737615\" y2=\"-5\" style=\"\"></line><line x1=\"204.47294953547427\" y1=\"0\" x2=\"204.47294953547427\" y2=\"-5\" style=\"\"></line></g><g><g transform=\"translate(19.93969405033586,6)\"><text x=\"-2.78\" y=\"8.555\" style=\"fill:rgb(16.1%,15.3%,14.1%);fill-opacity:1.0;font-family:helvetica;font-size:10.0px;font-weight:normal;stroke:none;vertical-align:baseline;white-space:pre\">3</text></g><g transform=\"translate(81.45077921204869,6)\"><text x=\"-2.78\" y=\"8.555\" style=\"fill:rgb(16.1%,15.3%,14.1%);fill-opacity:1.0;font-family:helvetica;font-size:10.0px;font-weight:normal;stroke:none;vertical-align:baseline;white-space:pre\">2</text></g><g transform=\"translate(142.9618643737615,6)\"><text x=\"-2.78\" y=\"8.555\" style=\"fill:rgb(16.1%,15.3%,14.1%);fill-opacity:1.0;font-family:helvetica;font-size:10.0px;font-weight:normal;stroke:none;vertical-align:baseline;white-space:pre\">1</text></g><g transform=\"translate(204.47294953547427,6)\"><text x=\"-2.78\" y=\"8.555\" style=\"fill:rgb(16.1%,15.3%,14.1%);fill-opacity:1.0;font-family:helvetica;font-size:10.0px;font-weight:normal;stroke:none;vertical-align:baseline;white-space:pre\">0</text></g></g><g class=\"toyplot-coordinates-Axis-coordinates\" style=\"visibility:hidden\" transform=\"\"><line x1=\"0\" x2=\"0\" y1=\"-3.0\" y2=\"4.5\" style=\"stroke:rgb(43.9%,50.2%,56.5%);stroke-opacity:1.0;stroke-width:1.0\"></line><text x=\"0\" y=\"-6\" style=\"alignment-baseline:alphabetic;fill:rgb(43.9%,50.2%,56.5%);fill-opacity:1.0;font-size:10px;font-weight:normal;stroke:none;text-anchor:middle\"></text></g></g></g></svg><div class=\"toyplot-behavior\"><script>(function()\n",
       "{\n",
       "var modules={};\n",
       "modules[\"toyplot/canvas/id\"] = \"td8c4a7bcf9e44dfe8ea1860406f841fe\";\n",
       "modules[\"toyplot/canvas\"] = (function(canvas_id)\n",
       "    {\n",
       "        return document.querySelector(\"#\" + canvas_id);\n",
       "    })(modules[\"toyplot/canvas/id\"]);\n",
       "modules[\"toyplot.coordinates.Axis\"] = (\n",
       "        function(canvas)\n",
       "        {\n",
       "            function sign(x)\n",
       "            {\n",
       "                return x < 0 ? -1 : x > 0 ? 1 : 0;\n",
       "            }\n",
       "\n",
       "            function mix(a, b, amount)\n",
       "            {\n",
       "                return ((1.0 - amount) * a) + (amount * b);\n",
       "            }\n",
       "\n",
       "            function log(x, base)\n",
       "            {\n",
       "                return Math.log(Math.abs(x)) / Math.log(base);\n",
       "            }\n",
       "\n",
       "            function in_range(a, x, b)\n",
       "            {\n",
       "                var left = Math.min(a, b);\n",
       "                var right = Math.max(a, b);\n",
       "                return left <= x && x <= right;\n",
       "            }\n",
       "\n",
       "            function inside(range, projection)\n",
       "            {\n",
       "                for(var i = 0; i != projection.length; ++i)\n",
       "                {\n",
       "                    var segment = projection[i];\n",
       "                    if(in_range(segment.range.min, range, segment.range.max))\n",
       "                        return true;\n",
       "                }\n",
       "                return false;\n",
       "            }\n",
       "\n",
       "            function to_domain(range, projection)\n",
       "            {\n",
       "                for(var i = 0; i != projection.length; ++i)\n",
       "                {\n",
       "                    var segment = projection[i];\n",
       "                    if(in_range(segment.range.bounds.min, range, segment.range.bounds.max))\n",
       "                    {\n",
       "                        if(segment.scale == \"linear\")\n",
       "                        {\n",
       "                            var amount = (range - segment.range.min) / (segment.range.max - segment.range.min);\n",
       "                            return mix(segment.domain.min, segment.domain.max, amount)\n",
       "                        }\n",
       "                        else if(segment.scale[0] == \"log\")\n",
       "                        {\n",
       "                            var amount = (range - segment.range.min) / (segment.range.max - segment.range.min);\n",
       "                            var base = segment.scale[1];\n",
       "                            return sign(segment.domain.min) * Math.pow(base, mix(log(segment.domain.min, base), log(segment.domain.max, base), amount));\n",
       "                        }\n",
       "                    }\n",
       "                }\n",
       "            }\n",
       "\n",
       "            var axes = {};\n",
       "\n",
       "            function display_coordinates(e)\n",
       "            {\n",
       "                var current = canvas.createSVGPoint();\n",
       "                current.x = e.clientX;\n",
       "                current.y = e.clientY;\n",
       "\n",
       "                for(var axis_id in axes)\n",
       "                {\n",
       "                    var axis = document.querySelector(\"#\" + axis_id);\n",
       "                    var coordinates = axis.querySelector(\".toyplot-coordinates-Axis-coordinates\");\n",
       "                    if(coordinates)\n",
       "                    {\n",
       "                        var projection = axes[axis_id];\n",
       "                        var local = current.matrixTransform(axis.getScreenCTM().inverse());\n",
       "                        if(inside(local.x, projection))\n",
       "                        {\n",
       "                            var domain = to_domain(local.x, projection);\n",
       "                            coordinates.style.visibility = \"visible\";\n",
       "                            coordinates.setAttribute(\"transform\", \"translate(\" + local.x + \")\");\n",
       "                            var text = coordinates.querySelector(\"text\");\n",
       "                            text.textContent = domain.toFixed(2);\n",
       "                        }\n",
       "                        else\n",
       "                        {\n",
       "                            coordinates.style.visibility= \"hidden\";\n",
       "                        }\n",
       "                    }\n",
       "                }\n",
       "            }\n",
       "\n",
       "            canvas.addEventListener(\"click\", display_coordinates);\n",
       "\n",
       "            var module = {};\n",
       "            module.show_coordinates = function(axis_id, projection)\n",
       "            {\n",
       "                axes[axis_id] = projection;\n",
       "            }\n",
       "\n",
       "            return module;\n",
       "        })(modules[\"toyplot/canvas\"]);\n",
       "(function(axis, axis_id, projection)\n",
       "        {\n",
       "            axis.show_coordinates(axis_id, projection);\n",
       "        })(modules[\"toyplot.coordinates.Axis\"],\"tf21bf49cdb474bada8c90f9788e9503e\",[{\"domain\": {\"bounds\": {\"max\": Infinity, \"min\": -Infinity}, \"max\": 0.024223121746723662, \"min\": -0.03324164238005464}, \"range\": {\"bounds\": {\"max\": Infinity, \"min\": -Infinity}, \"max\": 353.472, \"min\": 0.0}, \"scale\": \"linear\"}]);\n",
       "})();</script></div></div>"
      ]
     },
     "metadata": {},
     "output_type": "display_data"
    }
   ],
   "source": [
    "# add scale bar with units scaling\n",
    "rtre.draw(scale_bar=1e-2);"
   ]
  }
 ],
 "metadata": {
  "kernelspec": {
   "display_name": "Python 3 (ipykernel)",
   "language": "python",
   "name": "python3"
  },
  "language_info": {
   "codemirror_mode": {
    "name": "ipython",
    "version": 3
   },
   "file_extension": ".py",
   "mimetype": "text/x-python",
   "name": "python",
   "nbconvert_exporter": "python",
   "pygments_lexer": "ipython3",
   "version": "3.12.4"
  }
 },
 "nbformat": 4,
 "nbformat_minor": 4
}
