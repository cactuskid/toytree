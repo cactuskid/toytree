{
 "cells": [
  {
   "attachments": {},
   "cell_type": "markdown",
   "id": "afcbd917-ef95-4b62-b034-ad37c138bb58",
   "metadata": {},
   "source": [
    "# MultiTree\n",
    "\n",
    "The `toytree.MultiTree` class object is used to represent a collection of `ToyTree` objects and includes attributes and methods for describing this set or performing operations on it. Common examples of tree sets include bootstrap replicate samples or posterior distributions of sampled trees; common operations on sets of trees include *consensus tree inference*, computing discordance or distance statistics, and plotting tree grids or cloud trees."
   ]
  },
  {
   "cell_type": "code",
   "execution_count": 1,
   "id": "77fc49d2-a36e-407a-907b-3ec0c8ed0c36",
   "metadata": {},
   "outputs": [],
   "source": [
    "import toytree"
   ]
  },
  {
   "attachments": {},
   "cell_type": "markdown",
   "id": "aa211e6e-66eb-4463-b60b-9f9283aaaf40",
   "metadata": {},
   "source": [
    "## Generating MultiTrees\n",
    "\n",
    "MultiTree objects can be generated from a list of Toytrees or newick strings, or by parsing a file, url, or string of text that includes newick trees separated by newlines. The convenience function `toytree.mtree()` can be used to parse multitree input data similar to how the function `toytree.tree` is used to parse individual trees, and supports the same file formats."
   ]
  },
  {
   "cell_type": "markdown",
   "id": "282708b6-afa2-4002-a8ed-5abae8426bdd",
   "metadata": {},
   "source": [
    "### From tree data\n",
    "Below is an example multi-newick string representing multiple trees as newick strings separated by newlines. You can create a MultiTree from this input data, entered as a string or filepath, by passing it to the `toytree.mtree()` convenience parsing function. Each tree will be parsed individually and stored as a list of `ToyTree` objects contained within a returned `MultiTree` object."
   ]
  },
  {
   "cell_type": "code",
   "execution_count": 2,
   "id": "34932b3d-b0f3-417f-8129-cdb7d0002eae",
   "metadata": {},
   "outputs": [],
   "source": [
    "multinewick = \"\"\"\\\n",
    "(((a:1,b:1):1,(d:1.5,e:1.5):0.5):1,c:3);\n",
    "(((a:1,d:1):1,(b:1,e:1):1):1,c:3);\n",
    "(((a:1.5,b:1.5):1,(d:1,e:1):1.5):1,c:3.5);\n",
    "(((a:1.25,b:1.25):0.75,(d:1,e:1):1):1,c:3);\n",
    "(((a:1,b:1):1,(d:1.5,e:1.5):0.5):1,c:3);\n",
    "(((b:1,a:1):1,(d:1.5,e:1.5):0.5):2,c:4);\n",
    "(((a:1.5,b:1.5):0.5,(d:1,e:1):1):1,c:3);\n",
    "(((b:1.5,d:1.5):0.5,(a:1,e:1):1):1,c:3);\n",
    "\"\"\""
   ]
  },
  {
   "cell_type": "code",
   "execution_count": 3,
   "id": "aafe5d6e-3bad-4ad6-ba70-4ebc3a832e3b",
   "metadata": {},
   "outputs": [
    {
     "data": {
      "text/plain": [
       "<toytree.MultiTree ntrees=8>"
      ]
     },
     "execution_count": 3,
     "metadata": {},
     "output_type": "execute_result"
    }
   ],
   "source": [
    "# create an mtree from a string, list of strings, url, or file.\n",
    "mtree1 = toytree.mtree(multinewick)\n",
    "mtree1"
   ]
  },
  {
   "cell_type": "markdown",
   "id": "d3659b28-ddfe-4eb6-8c36-943d485a6cd3",
   "metadata": {},
   "source": [
    "### From a collection of trees\n",
    "Similarly, you can create a `MultiTree` by providing a collection of `ToyTree` objects to the `toytree.mtree` function. Here we generate a list of 50 random coalescent trees and pass the list as input to create a new `MultiTree`."
   ]
  },
  {
   "cell_type": "code",
   "execution_count": 4,
   "id": "c4bf1206-448c-4194-83f9-b9e204699cff",
   "metadata": {},
   "outputs": [],
   "source": [
    "# generate 50 random coalescent trees each with 6 tips\n",
    "coaltrees = [toytree.rtree.coaltree(k=6) for i in range(50)]"
   ]
  },
  {
   "cell_type": "code",
   "execution_count": 5,
   "id": "3722bdf3-c92a-44b7-a10b-14d30530ad77",
   "metadata": {},
   "outputs": [
    {
     "data": {
      "text/plain": [
       "<toytree.MultiTree ntrees=50>"
      ]
     },
     "execution_count": 5,
     "metadata": {},
     "output_type": "execute_result"
    }
   ],
   "source": [
    "# create a MultiTree from a list of ToyTrees\n",
    "mtree2 = toytree.mtree(coaltrees)\n",
    "mtree2"
   ]
  },
  {
   "cell_type": "markdown",
   "id": "24cc4981-7746-4501-a8b2-927a1a07942e",
   "metadata": {},
   "source": [
    "## Indexable and Iterable\n",
    "One or more trees can be indexed or sliced from a `MultiTree`, and sequential trees can be accessed through iteration. The trees themselves are stored in the `.treelist` attribute of the `MultiTree` object as a list. This can be modified to remove, add, or reorder the trees. Several example operations are shown below for accessing one or more trees."
   ]
  },
  {
   "cell_type": "code",
   "execution_count": 6,
   "id": "74f741f3-fc59-4bea-9870-72ca878bb04f",
   "metadata": {},
   "outputs": [
    {
     "data": {
      "text/plain": [
       "<toytree.ToyTree at 0x7f03c5aba7a0>"
      ]
     },
     "execution_count": 6,
     "metadata": {},
     "output_type": "execute_result"
    }
   ],
   "source": [
    "# get first tree\n",
    "mtree1[0]"
   ]
  },
  {
   "cell_type": "code",
   "execution_count": 7,
   "id": "4e9ee305-21a6-4ae3-97b8-831994fd611a",
   "metadata": {},
   "outputs": [
    {
     "data": {
      "text/plain": [
       "[<toytree.ToyTree at 0x7f03c5aba7a0>,\n",
       " <toytree.ToyTree at 0x7f03c5ab97e0>,\n",
       " <toytree.ToyTree at 0x7f03c5ab9270>,\n",
       " <toytree.ToyTree at 0x7f03c5ab8b20>,\n",
       " <toytree.ToyTree at 0x7f03c5ab8550>,\n",
       " <toytree.ToyTree at 0x7f03c5abb7f0>,\n",
       " <toytree.ToyTree at 0x7f03c5abbbe0>,\n",
       " <toytree.ToyTree at 0x7f03c58ec190>]"
      ]
     },
     "execution_count": 7,
     "metadata": {},
     "output_type": "execute_result"
    }
   ],
   "source": [
    "# get all trees\n",
    "mtree1[:]"
   ]
  },
  {
   "cell_type": "code",
   "execution_count": 8,
   "id": "038473bf-a59d-4da4-8a4d-d0343910768c",
   "metadata": {},
   "outputs": [
    {
     "data": {
      "text/plain": [
       "[<toytree.ToyTree at 0x7f03c5aba7a0>,\n",
       " <toytree.ToyTree at 0x7f03c5ab97e0>,\n",
       " <toytree.ToyTree at 0x7f03c5ab9270>]"
      ]
     },
     "execution_count": 8,
     "metadata": {},
     "output_type": "execute_result"
    }
   ],
   "source": [
    "# slice the first three trees\n",
    "mtree1[:3]"
   ]
  },
  {
   "cell_type": "code",
   "execution_count": 9,
   "id": "eb0369bc-1cda-42e7-b4f2-9527af08215c",
   "metadata": {},
   "outputs": [
    {
     "name": "stdout",
     "output_type": "stream",
     "text": [
      "<toytree.ToyTree at 0x7f03c5aba7a0>\n",
      "<toytree.ToyTree at 0x7f03c5ab97e0>\n",
      "<toytree.ToyTree at 0x7f03c5ab9270>\n",
      "<toytree.ToyTree at 0x7f03c5ab8b20>\n",
      "<toytree.ToyTree at 0x7f03c5ab8550>\n",
      "<toytree.ToyTree at 0x7f03c5abb7f0>\n",
      "<toytree.ToyTree at 0x7f03c5abbbe0>\n",
      "<toytree.ToyTree at 0x7f03c58ec190>\n"
     ]
    }
   ],
   "source": [
    "# iterate over ToyTrees in a MultiTree\n",
    "for tree in mtree1:\n",
    "    print(tree)"
   ]
  },
  {
   "cell_type": "code",
   "execution_count": 10,
   "id": "aa35b60b-56f4-4442-8d3b-74c3051de0dc",
   "metadata": {},
   "outputs": [
    {
     "data": {
      "text/plain": [
       "[<toytree.ToyTree at 0x7f03c5ab97e0>,\n",
       " <toytree.ToyTree at 0x7f03c5ab9270>,\n",
       " <toytree.ToyTree at 0x7f03c5ab8b20>,\n",
       " <toytree.ToyTree at 0x7f03c5ab8550>,\n",
       " <toytree.ToyTree at 0x7f03c5abb7f0>,\n",
       " <toytree.ToyTree at 0x7f03c5abbbe0>,\n",
       " <toytree.ToyTree at 0x7f03c58ec190>,\n",
       " <toytree.ToyTree at 0x7f03c5aba7a0>]"
      ]
     },
     "execution_count": 10,
     "metadata": {},
     "output_type": "execute_result"
    }
   ],
   "source": [
    "# re-arrange trees in the treelist to send the first to be last\n",
    "mtree1.treelist = mtree1.treelist[1:] + [mtree1.treelist[0]]\n",
    "mtree1[:]"
   ]
  },
  {
   "cell_type": "markdown",
   "id": "38304b2e-713b-4531-98d8-0376a7fbd5f4",
   "metadata": {},
   "source": [
    "## Attributes and types of tree sets\n",
    "Most of the time `MultiTree` objects are used to hold a collection of trees that all share the same tip labels, such as a collection of bootstrap replicates. But, in other cases, a `MultiTree` could hold a collection of unrelated trees, in which case some of the built-in functions for comparing trees (such as consensus tree inference) will raise an error, but it still provides a useful container for drawing trees. These methods will raise a ToyTreeError when attempted if the tree set is a mixed collection of trees. The  `MultiTree` class contains several functions to quickly check attributes of the tree set to examine the number of trees, whether they share the same tip names, and whether the trees are rooted or ultrametric."
   ]
  },
  {
   "cell_type": "code",
   "execution_count": 11,
   "id": "97dc911d-fa69-462b-85af-ae67ade9b127",
   "metadata": {},
   "outputs": [
    {
     "data": {
      "text/plain": [
       "8"
      ]
     },
     "execution_count": 11,
     "metadata": {},
     "output_type": "execute_result"
    }
   ],
   "source": [
    "mtree1.ntrees"
   ]
  },
  {
   "cell_type": "code",
   "execution_count": 12,
   "id": "6500df39-8383-4152-a025-b495950e2345",
   "metadata": {},
   "outputs": [
    {
     "data": {
      "text/plain": [
       "True"
      ]
     },
     "execution_count": 12,
     "metadata": {},
     "output_type": "execute_result"
    }
   ],
   "source": [
    "mtree1.all_tree_tip_labels_same()"
   ]
  },
  {
   "cell_type": "code",
   "execution_count": 13,
   "id": "b555871b-d2bd-4627-93ad-ebe0663c2720",
   "metadata": {},
   "outputs": [
    {
     "data": {
      "text/plain": [
       "False"
      ]
     },
     "execution_count": 13,
     "metadata": {},
     "output_type": "execute_result"
    }
   ],
   "source": [
    "mtree1.all_tree_topologies_same()"
   ]
  },
  {
   "cell_type": "code",
   "execution_count": 14,
   "id": "d809b0bf-a7f8-4938-94a2-1e0fe2c9ca1e",
   "metadata": {},
   "outputs": [
    {
     "data": {
      "text/plain": [
       "False"
      ]
     },
     "execution_count": 14,
     "metadata": {},
     "output_type": "execute_result"
    }
   ],
   "source": [
    "mtree1.all_tree_tips_aligned()"
   ]
  },
  {
   "cell_type": "markdown",
   "id": "5fb64715-2ac9-4c80-aa11-fe783a1bca57",
   "metadata": {},
   "source": [
    "## Consensus trees\n",
    "A majority-rule consensus tree is a tree that represents the most common non-conflicting splits among a set of input trees. In `toytree` this can be inferred from a `MultiTree` object using the `.get_consensus_tree`, which returns a `ToyTree` with the consensus topology on which several types of statistics have been stored to nodes. This can be useful in several contexts, but one of the simplest is to find the most common order of tip names among a set of trees, so that when you make a `MultiTree` plot you can order tips in the same way to more easily visualize variation among trees. There are many options and uses for consensus trees, check out the [Consensus Trees](/toytree/consensus-trees) documentation section for more details.\n",
    "\n",
    "In the example below we get a consensus tree from the `mtree1` multitree object which contains 8 trees. The support values on this returned tree represent the proportion of trees in the input set that contain each clade in the consensus tree. By default, the returned tree is unrooted, since the input trees may vary in their rooting. Here the trees exhibit variation in the relationships among `(a,b,d,e)` with `(a,b)` and `(d,e)` each occurring in 75% of trees."
   ]
  },
  {
   "cell_type": "code",
   "execution_count": 15,
   "id": "9ea86495-9aaa-4e78-a8b3-28d3e09c18d7",
   "metadata": {},
   "outputs": [
    {
     "data": {
      "text/html": [
       "<div class=\"toyplot\" id=\"t0542df0393b94c11bbdf65f0c7eeb7fe\" style=\"text-align:center\"><svg class=\"toyplot-canvas-Canvas\" xmlns:toyplot=\"http://www.sandia.gov/toyplot\" xmlns:xlink=\"http://www.w3.org/1999/xlink\" xmlns=\"http://www.w3.org/2000/svg\" width=\"350.0px\" height=\"350.0px\" viewBox=\"0 0 350.0 350.0\" preserveAspectRatio=\"xMidYMid meet\" style=\"background-color:transparent;border-color:#292724;border-style:none;border-width:1.0;fill:rgb(16.1%,15.3%,14.1%);fill-opacity:1.0;font-family:Helvetica;font-size:12px;opacity:1.0;stroke:rgb(16.1%,15.3%,14.1%);stroke-opacity:1.0;stroke-width:1.0\" id=\"tb701332c16884b06865d750a9501177e\"><g class=\"toyplot-coordinates-Cartesian\" id=\"t9c76410509a94d8cb60c5434b148dbc7\"><clipPath id=\"t4f972bbe2b4f4411b459799e5b0e9892\"><rect x=\"35.0\" y=\"35.0\" width=\"280.0\" height=\"280.0\"></rect></clipPath><g clip-path=\"url(#t4f972bbe2b4f4411b459799e5b0e9892)\"><g class=\"toytree-mark-Toytree\" id=\"t4282a57f13fb484bb4177ff6d636f47c\"><g class=\"toytree-Edges\" style=\"stroke:rgb(14.5%,14.5%,14.5%);stroke-opacity:1.0;stroke-linecap:round;stroke-width:2.0;fill:none\"><path d=\"M 227.2 139.2 L 279.7 165.8\" id=\"5,0\" style=\"\"></path><path d=\"M 227.2 139.2 L 276.3 106.8\" id=\"5,1\" style=\"\"></path><path d=\"M 138.7 116.8 L 138.0 70.4\" id=\"6,2\" style=\"\"></path><path d=\"M 138.7 116.8 L 70.3 112.7\" id=\"6,3\" style=\"\"></path><path d=\"M 176.9 135.7 L 88.0 280.2\" id=\"7,4\" style=\"\"></path><path d=\"M 176.9 135.7 L 227.2 139.2\" id=\"7,5\" style=\"\"></path><path d=\"M 176.9 135.7 L 138.7 116.8\" id=\"7,6\" style=\"\"></path></g><g class=\"toytree-AdmixEdges\" style=\"fill:rgb(0.0%,0.0%,0.0%);fill-opacity:0.0;stroke:rgb(90.6%,54.1%,76.5%);stroke-opacity:0.6;font-size:14px;stroke-linecap:round;stroke-width:5\"></g><g class=\"toytree-Nodes\" style=\"fill:rgb(82.7%,82.7%,82.7%);fill-opacity:1.0;stroke:rgb(14.9%,14.9%,14.9%);stroke-opacity:1.0;stroke-width:1.5\"><g id=\"Node-5\" transform=\"translate(202.034,137.438)\"><rect x=\"-14.0\" y=\"-7.0\" width=\"28.0\" height=\"14.0\"></rect></g><g id=\"Node-6\" transform=\"translate(157.802,126.22)\"><rect x=\"-14.0\" y=\"-7.0\" width=\"28.0\" height=\"14.0\"></rect></g></g><g class=\"toytree-NodeLabels\" style=\"font-family:Helvetica;font-size:9px;font-weight:300;vertical-align:baseline;white-space:pre;stroke:none\"><g class=\"toytree-NodeLabel\" transform=\"translate(202.034,137.438)\"><text x=\"-8.757\" y=\"2.2995\" style=\"fill:rgb(14.5%,14.5%,14.5%);fill-opacity:1.0\">0.75</text></g><g class=\"toytree-NodeLabel\" transform=\"translate(157.802,126.22)\"><text x=\"-8.757\" y=\"2.2995\" style=\"fill:rgb(14.5%,14.5%,14.5%);fill-opacity:1.0\">0.75</text></g></g><g class=\"toytree-TipLabels\" style=\"fill:rgb(14.5%,14.5%,14.5%);fill-opacity:1.0;font-family:Helvetica;font-size:14px;font-weight:300;vertical-align:baseline;white-space:pre;stroke:none\"><g class=\"toytree-TipLabel\" transform=\"translate(279.718,165.768)rotate(24.5208)\"><text x=\"15.0\" y=\"3.577\" style=\"fill:rgb(14.5%,14.5%,14.5%);fill-opacity:1.0\">a</text></g><g class=\"toytree-TipLabel\" transform=\"translate(276.34,106.771)rotate(-24.3737)\"><text x=\"15.0\" y=\"3.577\" style=\"fill:rgb(14.5%,14.5%,14.5%);fill-opacity:1.0\">b</text></g><g class=\"toytree-TipLabel\" transform=\"translate(138.031,70.3821)rotate(69.1151)\"><text x=\"-22.784000000000002\" y=\"3.577\" style=\"fill:rgb(14.5%,14.5%,14.5%);fill-opacity:1.0\">d</text></g><g class=\"toytree-TipLabel\" transform=\"translate(70.3303,112.656)rotate(18.6172)\"><text x=\"-22.784000000000002\" y=\"3.577\" style=\"fill:rgb(14.5%,14.5%,14.5%);fill-opacity:1.0\">e</text></g><g class=\"toytree-TipLabel\" transform=\"translate(88.0157,280.234)rotate(-68.4823)\"><text x=\"-22.0\" y=\"3.577\" style=\"fill:rgb(14.5%,14.5%,14.5%);fill-opacity:1.0\">c</text></g></g></g></g></g></svg><div class=\"toyplot-behavior\"><script>(function()\n",
       "{\n",
       "var modules={};\n",
       "})();</script></div></div>"
      ]
     },
     "metadata": {},
     "output_type": "display_data"
    }
   ],
   "source": [
    "# get a consensus tree \n",
    "ctree = mtree1.get_consensus_tree()\n",
    "\n",
    "# plot the tree showing 'support' values\n",
    "ctree.draw(\n",
    "    ts='r', layout=\"unrooted\", width=350, height=350,\n",
    "    node_labels=\"support\", node_sizes=14, node_as_edge_data=True);"
   ]
  },
  {
   "cell_type": "markdown",
   "id": "b8c1cd49-2c91-4c5b-8f2e-4fa2d5ae7383",
   "metadata": {},
   "source": [
    "## Unique trees\n",
    "Given a set of trees it is useful to be able to pull out just the unique topologies from the set. The function `get_unique_topologies()` returns a list of `(tree, int)` tuples from a `MultiTree` with each unique topology paired with its number of occurrences in the set. Note, this condenses all trees with the same topology into a single representative, using the first occurrence as the returned tree, thus branch length variation is not retained. See the `toytree.distance` subpackage for many additional methods for comparing trees and computing differences/distances between them. "
   ]
  },
  {
   "cell_type": "code",
   "execution_count": 16,
   "id": "b1b40ef1-7acd-4dc1-b1a8-af0bc27e5c64",
   "metadata": {},
   "outputs": [
    {
     "data": {
      "text/plain": [
       "[[<toytree.ToyTree at 0x7f03c5ab9270>, 6],\n",
       " [<toytree.ToyTree at 0x7f03c5ab97e0>, 1],\n",
       " [<toytree.ToyTree at 0x7f03c58ec190>, 1]]"
      ]
     },
     "execution_count": 16,
     "metadata": {},
     "output_type": "execute_result"
    }
   ],
   "source": [
    "# get (tree, count) for each unique topology in the MultiTree\n",
    "mtree1.get_unique_topologies()"
   ]
  },
  {
   "cell_type": "markdown",
   "id": "39bd2d61-a32a-4b46-9159-22a3c491b7ef",
   "metadata": {},
   "source": [
    "## Drawing with MultiTrees\n",
    "There are two main ways to draw groups of trees from `MultiTree` objects. The first is simply called `.draw()` and is used to plot multiple trees onto a shared canvas arranged into a grid. These trees can be arranged each on their own axes, or on shared axes to better compare scales. The second method is `.draw_cloud_tree`, which plots a set of trees over top of one another, usually at low opacity, as a way of examining discordance and variation among a set of trees. These are sometimes called cloud trees, densitrees, or other similar names. A simple example of each is shown below."
   ]
  },
  {
   "cell_type": "markdown",
   "id": "a40aae31-8c33-491f-893c-2d1ab9864447",
   "metadata": {},
   "source": [
    "### Grid tree drawings\n",
    "The `.draw()` function of a `MultiTree` returns multiple tree drawings layed out on a grid. The shape of the grid, and which trees from the tree set are drawn, can be set with the `shape` and `idxs` arguments. This also accepts all of the standard drawing arguments that can be used when drawing individual trees. See [Drawing Tree Grids](/toytree/drawing-tree-grids)."
   ]
  },
  {
   "cell_type": "code",
   "execution_count": 19,
   "id": "a66ca965-50b5-41ec-852c-fff3895dba50",
   "metadata": {},
   "outputs": [
    {
     "data": {
      "text/html": [
       "<div class=\"toyplot\" id=\"tbba2090df1a141d7aec511340aeb1efc\" style=\"text-align:center\"><svg class=\"toyplot-canvas-Canvas\" xmlns:toyplot=\"http://www.sandia.gov/toyplot\" xmlns:xlink=\"http://www.w3.org/1999/xlink\" xmlns=\"http://www.w3.org/2000/svg\" width=\"600.0px\" height=\"300.0px\" viewBox=\"0 0 600.0 300.0\" preserveAspectRatio=\"xMidYMid meet\" style=\"background-color:transparent;border-color:#292724;border-style:none;border-width:1.0;fill:rgb(16.1%,15.3%,14.1%);fill-opacity:1.0;font-family:Helvetica;font-size:12px;opacity:1.0;stroke:rgb(16.1%,15.3%,14.1%);stroke-opacity:1.0;stroke-width:1.0\" id=\"t1f8a2244cc02496895532bee7e489ae5\"><g class=\"toyplot-coordinates-Cartesian\" id=\"td3083247be1043d6b950109c8dd79521\"><clipPath id=\"td710724960844b9db647cce91a5ff18f\"><rect x=\"15.0\" y=\"15.0\" width=\"120.0\" height=\"120.0\"></rect></clipPath><g clip-path=\"url(#td710724960844b9db647cce91a5ff18f)\"><g class=\"toytree-mark-Toytree\" id=\"t75f06e95733b4d4eaf08d9a79bd18995\"><g class=\"toytree-Edges\" style=\"stroke:rgb(14.5%,14.5%,14.5%);stroke-opacity:1.0;stroke-linecap:round;stroke-width:2;fill:none\"><path d=\"M 77.8 41.5 L 102.2 52.7\" id=\"5,0\" style=\"\"></path><path d=\"M 77.8 41.5 L 102.2 30.4\" id=\"5,1\" style=\"\"></path><path d=\"M 77.8 86.2 L 102.2 97.3\" id=\"6,2\" style=\"\"></path><path d=\"M 77.8 86.2 L 102.2 75.0\" id=\"6,3\" style=\"\"></path><path d=\"M 29.0 91.7 L 102.2 119.6\" id=\"8,4\" style=\"\"></path><path d=\"M 53.4 63.8 L 77.8 41.5\" id=\"7,5\" style=\"\"></path><path d=\"M 53.4 63.8 L 77.8 86.2\" id=\"7,6\" style=\"\"></path><path d=\"M 29.0 91.7 L 53.4 63.8\" id=\"8,7\" style=\"\"></path></g><g class=\"toytree-AlignEdges\" style=\"stroke:rgb(66.0%,66.0%,66.0%);stroke-opacity:0.75;stroke-dasharray:2,4;stroke-linecap:round;stroke-width:2\"><path d=\"M 102.2 52.7 L 102.2 52.7\"></path><path d=\"M 102.2 30.4 L 102.2 30.4\"></path><path d=\"M 102.2 97.3 L 102.2 97.3\"></path><path d=\"M 102.2 75.0 L 102.2 75.0\"></path><path d=\"M 102.2 119.6 L 102.2 119.6\"></path></g><g class=\"toytree-AdmixEdges\" style=\"fill:rgb(0.0%,0.0%,0.0%);fill-opacity:0.0;stroke:rgb(90.6%,54.1%,76.5%);stroke-opacity:0.6;font-size:14px;stroke-linecap:round;stroke-width:5\"></g><g class=\"toytree-Nodes\" style=\"fill:rgb(10.6%,62.0%,46.7%);fill-opacity:1.0;stroke:rgb(100.0%,100.0%,100.0%);stroke-opacity:1.0;stroke-width:1.5\"><g id=\"Node-5\" transform=\"translate(77.8229,41.5179)\"><circle r=\"4.0\"></circle></g><g id=\"Node-6\" transform=\"translate(77.8229,86.1607)\"><circle r=\"4.0\"></circle></g><g id=\"Node-7\" transform=\"translate(53.4243,63.8393)\"><circle r=\"4.0\"></circle></g><g id=\"Node-8\" transform=\"translate(29.0258,91.7411)\"><circle r=\"4.0\"></circle></g></g><g class=\"toytree-TipLabels\" style=\"fill:rgb(14.5%,14.5%,14.5%);fill-opacity:1.0;font-family:Helvetica;font-size:10px;font-weight:300;vertical-align:baseline;white-space:pre;stroke:none\"><g class=\"toytree-TipLabel\" transform=\"translate(102.221,52.6786)\"><text x=\"10.0\" y=\"2.5549999999999997\" style=\"fill:rgb(14.5%,14.5%,14.5%);fill-opacity:1.0\">a</text></g><g class=\"toytree-TipLabel\" transform=\"translate(102.221,30.3571)\"><text x=\"10.0\" y=\"2.5549999999999997\" style=\"fill:rgb(14.5%,14.5%,14.5%);fill-opacity:1.0\">d</text></g><g class=\"toytree-TipLabel\" transform=\"translate(102.221,97.3214)\"><text x=\"10.0\" y=\"2.5549999999999997\" style=\"fill:rgb(14.5%,14.5%,14.5%);fill-opacity:1.0\">b</text></g><g class=\"toytree-TipLabel\" transform=\"translate(102.221,75)\"><text x=\"10.0\" y=\"2.5549999999999997\" style=\"fill:rgb(14.5%,14.5%,14.5%);fill-opacity:1.0\">e</text></g><g class=\"toytree-TipLabel\" transform=\"translate(102.221,119.643)\"><text x=\"10.0\" y=\"2.5549999999999997\" style=\"fill:rgb(14.5%,14.5%,14.5%);fill-opacity:1.0\">c</text></g></g></g></g></g><g class=\"toyplot-coordinates-Cartesian\" id=\"t3c405e805e164cf2bae17dd7a06cad4b\"><clipPath id=\"tf4c26766f9ee43b6be9603dd38e6f1bd\"><rect x=\"165.0\" y=\"15.0\" width=\"120.0\" height=\"120.0\"></rect></clipPath><g clip-path=\"url(#tf4c26766f9ee43b6be9603dd38e6f1bd)\"><g class=\"toytree-mark-Toytree\" id=\"t733791de4072422cae0fe6b773f4641b\"><g class=\"toytree-Edges\" style=\"stroke:rgb(14.5%,14.5%,14.5%);stroke-opacity:1.0;stroke-linecap:round;stroke-width:2;fill:none\"><path d=\"M 220.9 75.0 L 252.2 52.7\" id=\"5,0\" style=\"\"></path><path d=\"M 220.9 75.0 L 252.2 97.3\" id=\"5,1\" style=\"\"></path><path d=\"M 231.3 52.7 L 252.2 30.4\" id=\"6,2\" style=\"\"></path><path d=\"M 231.3 52.7 L 252.2 75.0\" id=\"6,3\" style=\"\"></path><path d=\"M 179.0 91.7 L 252.2 119.6\" id=\"8,4\" style=\"\"></path><path d=\"M 199.9 63.8 L 220.9 75.0\" id=\"7,5\" style=\"\"></path><path d=\"M 199.9 63.8 L 231.3 52.7\" id=\"7,6\" style=\"\"></path><path d=\"M 179.0 91.7 L 199.9 63.8\" id=\"8,7\" style=\"\"></path></g><g class=\"toytree-AlignEdges\" style=\"stroke:rgb(66.0%,66.0%,66.0%);stroke-opacity:0.75;stroke-dasharray:2,4;stroke-linecap:round;stroke-width:2\"><path d=\"M 252.2 52.7 L 252.2 52.7\"></path><path d=\"M 252.2 97.3 L 252.2 97.3\"></path><path d=\"M 252.2 30.4 L 252.2 30.4\"></path><path d=\"M 252.2 75.0 L 252.2 75.0\"></path><path d=\"M 252.2 119.6 L 252.2 119.6\"></path></g><g class=\"toytree-AdmixEdges\" style=\"fill:rgb(0.0%,0.0%,0.0%);fill-opacity:0.0;stroke:rgb(90.6%,54.1%,76.5%);stroke-opacity:0.6;font-size:14px;stroke-linecap:round;stroke-width:5\"></g><g class=\"toytree-Nodes\" style=\"fill:rgb(10.6%,62.0%,46.7%);fill-opacity:1.0;stroke:rgb(100.0%,100.0%,100.0%);stroke-opacity:1.0;stroke-width:1.5\"><g id=\"Node-5\" transform=\"translate(220.852,75)\"><circle r=\"4.0\"></circle></g><g id=\"Node-6\" transform=\"translate(231.308,52.6786)\"><circle r=\"4.0\"></circle></g><g id=\"Node-7\" transform=\"translate(199.939,63.8393)\"><circle r=\"4.0\"></circle></g><g id=\"Node-8\" transform=\"translate(179.026,91.7411)\"><circle r=\"4.0\"></circle></g></g><g class=\"toytree-TipLabels\" style=\"fill:rgb(14.5%,14.5%,14.5%);fill-opacity:1.0;font-family:Helvetica;font-size:10px;font-weight:300;vertical-align:baseline;white-space:pre;stroke:none\"><g class=\"toytree-TipLabel\" transform=\"translate(252.221,52.6786)\"><text x=\"10.0\" y=\"2.5549999999999997\" style=\"fill:rgb(14.5%,14.5%,14.5%);fill-opacity:1.0\">a</text></g><g class=\"toytree-TipLabel\" transform=\"translate(252.221,97.3214)\"><text x=\"10.0\" y=\"2.5549999999999997\" style=\"fill:rgb(14.5%,14.5%,14.5%);fill-opacity:1.0\">b</text></g><g class=\"toytree-TipLabel\" transform=\"translate(252.221,30.3571)\"><text x=\"10.0\" y=\"2.5549999999999997\" style=\"fill:rgb(14.5%,14.5%,14.5%);fill-opacity:1.0\">d</text></g><g class=\"toytree-TipLabel\" transform=\"translate(252.221,75)\"><text x=\"10.0\" y=\"2.5549999999999997\" style=\"fill:rgb(14.5%,14.5%,14.5%);fill-opacity:1.0\">e</text></g><g class=\"toytree-TipLabel\" transform=\"translate(252.221,119.643)\"><text x=\"10.0\" y=\"2.5549999999999997\" style=\"fill:rgb(14.5%,14.5%,14.5%);fill-opacity:1.0\">c</text></g></g></g></g></g><g class=\"toyplot-coordinates-Cartesian\" id=\"t48d92515d72b4d5eb56293745d4687df\"><clipPath id=\"tbb610982a35d41639be024afbcce77e0\"><rect x=\"315.0\" y=\"15.0\" width=\"120.0\" height=\"120.0\"></rect></clipPath><g clip-path=\"url(#tbb610982a35d41639be024afbcce77e0)\"><g class=\"toytree-mark-Toytree\" id=\"tdb60557c1c8840f0b5cf7a6b5df67ece\"><g class=\"toytree-Edges\" style=\"stroke:rgb(14.5%,14.5%,14.5%);stroke-opacity:1.0;stroke-linecap:round;stroke-width:2;fill:none\"><path d=\"M 371.7 75.0 L 402.2 52.7\" id=\"5,0\" style=\"\"></path><path d=\"M 371.7 75.0 L 402.2 97.3\" id=\"5,1\" style=\"\"></path><path d=\"M 377.8 52.7 L 402.2 30.4\" id=\"6,2\" style=\"\"></path><path d=\"M 377.8 52.7 L 402.2 75.0\" id=\"6,3\" style=\"\"></path><path d=\"M 329.0 91.7 L 402.2 119.6\" id=\"8,4\" style=\"\"></path><path d=\"M 353.4 63.8 L 371.7 75.0\" id=\"7,5\" style=\"\"></path><path d=\"M 353.4 63.8 L 377.8 52.7\" id=\"7,6\" style=\"\"></path><path d=\"M 329.0 91.7 L 353.4 63.8\" id=\"8,7\" style=\"\"></path></g><g class=\"toytree-AlignEdges\" style=\"stroke:rgb(66.0%,66.0%,66.0%);stroke-opacity:0.75;stroke-dasharray:2,4;stroke-linecap:round;stroke-width:2\"><path d=\"M 402.2 52.7 L 402.2 52.7\"></path><path d=\"M 402.2 97.3 L 402.2 97.3\"></path><path d=\"M 402.2 30.4 L 402.2 30.4\"></path><path d=\"M 402.2 75.0 L 402.2 75.0\"></path><path d=\"M 402.2 119.6 L 402.2 119.6\"></path></g><g class=\"toytree-AdmixEdges\" style=\"fill:rgb(0.0%,0.0%,0.0%);fill-opacity:0.0;stroke:rgb(90.6%,54.1%,76.5%);stroke-opacity:0.6;font-size:14px;stroke-linecap:round;stroke-width:5\"></g><g class=\"toytree-Nodes\" style=\"fill:rgb(10.6%,62.0%,46.7%);fill-opacity:1.0;stroke:rgb(100.0%,100.0%,100.0%);stroke-opacity:1.0;stroke-width:1.5\"><g id=\"Node-5\" transform=\"translate(371.723,75)\"><circle r=\"4.0\"></circle></g><g id=\"Node-6\" transform=\"translate(377.823,52.6786)\"><circle r=\"4.0\"></circle></g><g id=\"Node-7\" transform=\"translate(353.424,63.8393)\"><circle r=\"4.0\"></circle></g><g id=\"Node-8\" transform=\"translate(329.026,91.7411)\"><circle r=\"4.0\"></circle></g></g><g class=\"toytree-TipLabels\" style=\"fill:rgb(14.5%,14.5%,14.5%);fill-opacity:1.0;font-family:Helvetica;font-size:10px;font-weight:300;vertical-align:baseline;white-space:pre;stroke:none\"><g class=\"toytree-TipLabel\" transform=\"translate(402.221,52.6786)\"><text x=\"10.0\" y=\"2.5549999999999997\" style=\"fill:rgb(14.5%,14.5%,14.5%);fill-opacity:1.0\">a</text></g><g class=\"toytree-TipLabel\" transform=\"translate(402.221,97.3214)\"><text x=\"10.0\" y=\"2.5549999999999997\" style=\"fill:rgb(14.5%,14.5%,14.5%);fill-opacity:1.0\">b</text></g><g class=\"toytree-TipLabel\" transform=\"translate(402.221,30.3571)\"><text x=\"10.0\" y=\"2.5549999999999997\" style=\"fill:rgb(14.5%,14.5%,14.5%);fill-opacity:1.0\">d</text></g><g class=\"toytree-TipLabel\" transform=\"translate(402.221,75)\"><text x=\"10.0\" y=\"2.5549999999999997\" style=\"fill:rgb(14.5%,14.5%,14.5%);fill-opacity:1.0\">e</text></g><g class=\"toytree-TipLabel\" transform=\"translate(402.221,119.643)\"><text x=\"10.0\" y=\"2.5549999999999997\" style=\"fill:rgb(14.5%,14.5%,14.5%);fill-opacity:1.0\">c</text></g></g></g></g></g><g class=\"toyplot-coordinates-Cartesian\" id=\"tfab880a9ea504ad88fbc74e0312980dc\"><clipPath id=\"t619ff72bd08a4f088c4fb9af2269da90\"><rect x=\"465.0\" y=\"15.0\" width=\"120.0\" height=\"120.0\"></rect></clipPath><g clip-path=\"url(#t619ff72bd08a4f088c4fb9af2269da90)\"><g class=\"toytree-mark-Toytree\" id=\"t7b804ba01b8c4abbbc02a8b0feaa9c3a\"><g class=\"toytree-Edges\" style=\"stroke:rgb(14.5%,14.5%,14.5%);stroke-opacity:1.0;stroke-linecap:round;stroke-width:2;fill:none\"><path d=\"M 527.8 75.0 L 552.2 52.7\" id=\"5,0\" style=\"\"></path><path d=\"M 527.8 75.0 L 552.2 97.3\" id=\"5,1\" style=\"\"></path><path d=\"M 515.6 52.7 L 552.2 30.4\" id=\"6,2\" style=\"\"></path><path d=\"M 515.6 52.7 L 552.2 75.0\" id=\"6,3\" style=\"\"></path><path d=\"M 479.0 91.7 L 552.2 119.6\" id=\"8,4\" style=\"\"></path><path d=\"M 503.4 63.8 L 527.8 75.0\" id=\"7,5\" style=\"\"></path><path d=\"M 503.4 63.8 L 515.6 52.7\" id=\"7,6\" style=\"\"></path><path d=\"M 479.0 91.7 L 503.4 63.8\" id=\"8,7\" style=\"\"></path></g><g class=\"toytree-AlignEdges\" style=\"stroke:rgb(66.0%,66.0%,66.0%);stroke-opacity:0.75;stroke-dasharray:2,4;stroke-linecap:round;stroke-width:2\"><path d=\"M 552.2 52.7 L 552.2 52.7\"></path><path d=\"M 552.2 97.3 L 552.2 97.3\"></path><path d=\"M 552.2 30.4 L 552.2 30.4\"></path><path d=\"M 552.2 75.0 L 552.2 75.0\"></path><path d=\"M 552.2 119.6 L 552.2 119.6\"></path></g><g class=\"toytree-AdmixEdges\" style=\"fill:rgb(0.0%,0.0%,0.0%);fill-opacity:0.0;stroke:rgb(90.6%,54.1%,76.5%);stroke-opacity:0.6;font-size:14px;stroke-linecap:round;stroke-width:5\"></g><g class=\"toytree-Nodes\" style=\"fill:rgb(10.6%,62.0%,46.7%);fill-opacity:1.0;stroke:rgb(100.0%,100.0%,100.0%);stroke-opacity:1.0;stroke-width:1.5\"><g id=\"Node-5\" transform=\"translate(527.823,75)\"><circle r=\"4.0\"></circle></g><g id=\"Node-6\" transform=\"translate(515.624,52.6786)\"><circle r=\"4.0\"></circle></g><g id=\"Node-7\" transform=\"translate(503.424,63.8393)\"><circle r=\"4.0\"></circle></g><g id=\"Node-8\" transform=\"translate(479.026,91.7411)\"><circle r=\"4.0\"></circle></g></g><g class=\"toytree-TipLabels\" style=\"fill:rgb(14.5%,14.5%,14.5%);fill-opacity:1.0;font-family:Helvetica;font-size:10px;font-weight:300;vertical-align:baseline;white-space:pre;stroke:none\"><g class=\"toytree-TipLabel\" transform=\"translate(552.221,52.6786)\"><text x=\"10.0\" y=\"2.5549999999999997\" style=\"fill:rgb(14.5%,14.5%,14.5%);fill-opacity:1.0\">a</text></g><g class=\"toytree-TipLabel\" transform=\"translate(552.221,97.3214)\"><text x=\"10.0\" y=\"2.5549999999999997\" style=\"fill:rgb(14.5%,14.5%,14.5%);fill-opacity:1.0\">b</text></g><g class=\"toytree-TipLabel\" transform=\"translate(552.221,30.3571)\"><text x=\"10.0\" y=\"2.5549999999999997\" style=\"fill:rgb(14.5%,14.5%,14.5%);fill-opacity:1.0\">d</text></g><g class=\"toytree-TipLabel\" transform=\"translate(552.221,75)\"><text x=\"10.0\" y=\"2.5549999999999997\" style=\"fill:rgb(14.5%,14.5%,14.5%);fill-opacity:1.0\">e</text></g><g class=\"toytree-TipLabel\" transform=\"translate(552.221,119.643)\"><text x=\"10.0\" y=\"2.5549999999999997\" style=\"fill:rgb(14.5%,14.5%,14.5%);fill-opacity:1.0\">c</text></g></g></g></g></g><g class=\"toyplot-coordinates-Cartesian\" id=\"t579d98e8ab3c49cdb191a2ceb4907f85\"><clipPath id=\"t27c08534565146f2a232ff404d1310fd\"><rect x=\"15.0\" y=\"165.0\" width=\"120.0\" height=\"120.0\"></rect></clipPath><g clip-path=\"url(#t27c08534565146f2a232ff404d1310fd)\"><g class=\"toytree-mark-Toytree\" id=\"ta877bc1eecd2491eb76960a7d0ea767f\"><g class=\"toytree-Edges\" style=\"stroke:rgb(14.5%,14.5%,14.5%);stroke-opacity:1.0;stroke-linecap:round;stroke-width:2;fill:none\"><path d=\"M 83.9 225.0 L 102.2 247.3\" id=\"5,0\" style=\"\"></path><path d=\"M 83.9 225.0 L 102.2 202.7\" id=\"5,1\" style=\"\"></path><path d=\"M 74.8 202.7 L 102.2 180.4\" id=\"6,2\" style=\"\"></path><path d=\"M 74.8 202.7 L 102.2 225.0\" id=\"6,3\" style=\"\"></path><path d=\"M 29.0 241.7 L 102.2 269.6\" id=\"8,4\" style=\"\"></path><path d=\"M 65.6 213.8 L 83.9 225.0\" id=\"7,5\" style=\"\"></path><path d=\"M 65.6 213.8 L 74.8 202.7\" id=\"7,6\" style=\"\"></path><path d=\"M 29.0 241.7 L 65.6 213.8\" id=\"8,7\" style=\"\"></path></g><g class=\"toytree-AlignEdges\" style=\"stroke:rgb(66.0%,66.0%,66.0%);stroke-opacity:0.75;stroke-dasharray:2,4;stroke-linecap:round;stroke-width:2\"><path d=\"M 102.2 247.3 L 102.2 247.3\"></path><path d=\"M 102.2 202.7 L 102.2 202.7\"></path><path d=\"M 102.2 180.4 L 102.2 180.4\"></path><path d=\"M 102.2 225.0 L 102.2 225.0\"></path><path d=\"M 102.2 269.6 L 102.2 269.6\"></path></g><g class=\"toytree-AdmixEdges\" style=\"fill:rgb(0.0%,0.0%,0.0%);fill-opacity:0.0;stroke:rgb(90.6%,54.1%,76.5%);stroke-opacity:0.6;font-size:14px;stroke-linecap:round;stroke-width:5\"></g><g class=\"toytree-Nodes\" style=\"fill:rgb(10.6%,62.0%,46.7%);fill-opacity:1.0;stroke:rgb(100.0%,100.0%,100.0%);stroke-opacity:1.0;stroke-width:1.5\"><g id=\"Node-5\" transform=\"translate(83.9226,225)\"><circle r=\"4.0\"></circle></g><g id=\"Node-6\" transform=\"translate(74.7731,202.679)\"><circle r=\"4.0\"></circle></g><g id=\"Node-7\" transform=\"translate(65.6236,213.839)\"><circle r=\"4.0\"></circle></g><g id=\"Node-8\" transform=\"translate(29.0258,241.741)\"><circle r=\"4.0\"></circle></g></g><g class=\"toytree-TipLabels\" style=\"fill:rgb(14.5%,14.5%,14.5%);fill-opacity:1.0;font-family:Helvetica;font-size:10px;font-weight:300;vertical-align:baseline;white-space:pre;stroke:none\"><g class=\"toytree-TipLabel\" transform=\"translate(102.221,247.321)\"><text x=\"10.0\" y=\"2.5549999999999997\" style=\"fill:rgb(14.5%,14.5%,14.5%);fill-opacity:1.0\">b</text></g><g class=\"toytree-TipLabel\" transform=\"translate(102.221,202.679)\"><text x=\"10.0\" y=\"2.5549999999999997\" style=\"fill:rgb(14.5%,14.5%,14.5%);fill-opacity:1.0\">a</text></g><g class=\"toytree-TipLabel\" transform=\"translate(102.221,180.357)\"><text x=\"10.0\" y=\"2.5549999999999997\" style=\"fill:rgb(14.5%,14.5%,14.5%);fill-opacity:1.0\">d</text></g><g class=\"toytree-TipLabel\" transform=\"translate(102.221,225)\"><text x=\"10.0\" y=\"2.5549999999999997\" style=\"fill:rgb(14.5%,14.5%,14.5%);fill-opacity:1.0\">e</text></g><g class=\"toytree-TipLabel\" transform=\"translate(102.221,269.643)\"><text x=\"10.0\" y=\"2.5549999999999997\" style=\"fill:rgb(14.5%,14.5%,14.5%);fill-opacity:1.0\">c</text></g></g></g></g></g><g class=\"toyplot-coordinates-Cartesian\" id=\"tf05c4865733b4bee99331c048ddae68b\"><clipPath id=\"t7cc8419734de4d2b97e46d39342af4fe\"><rect x=\"165.0\" y=\"165.0\" width=\"120.0\" height=\"120.0\"></rect></clipPath><g clip-path=\"url(#t7cc8419734de4d2b97e46d39342af4fe)\"><g class=\"toytree-mark-Toytree\" id=\"te16db584d9c7444faaec94cd6ed4f5d6\"><g class=\"toytree-Edges\" style=\"stroke:rgb(14.5%,14.5%,14.5%);stroke-opacity:1.0;stroke-linecap:round;stroke-width:2;fill:none\"><path d=\"M 215.6 225.0 L 252.2 202.7\" id=\"5,0\" style=\"\"></path><path d=\"M 215.6 225.0 L 252.2 247.3\" id=\"5,1\" style=\"\"></path><path d=\"M 227.8 202.7 L 252.2 180.4\" id=\"6,2\" style=\"\"></path><path d=\"M 227.8 202.7 L 252.2 225.0\" id=\"6,3\" style=\"\"></path><path d=\"M 179.0 241.7 L 252.2 269.6\" id=\"8,4\" style=\"\"></path><path d=\"M 203.4 213.8 L 215.6 225.0\" id=\"7,5\" style=\"\"></path><path d=\"M 203.4 213.8 L 227.8 202.7\" id=\"7,6\" style=\"\"></path><path d=\"M 179.0 241.7 L 203.4 213.8\" id=\"8,7\" style=\"\"></path></g><g class=\"toytree-AlignEdges\" style=\"stroke:rgb(66.0%,66.0%,66.0%);stroke-opacity:0.75;stroke-dasharray:2,4;stroke-linecap:round;stroke-width:2\"><path d=\"M 252.2 202.7 L 252.2 202.7\"></path><path d=\"M 252.2 247.3 L 252.2 247.3\"></path><path d=\"M 252.2 180.4 L 252.2 180.4\"></path><path d=\"M 252.2 225.0 L 252.2 225.0\"></path><path d=\"M 252.2 269.6 L 252.2 269.6\"></path></g><g class=\"toytree-AdmixEdges\" style=\"fill:rgb(0.0%,0.0%,0.0%);fill-opacity:0.0;stroke:rgb(90.6%,54.1%,76.5%);stroke-opacity:0.6;font-size:14px;stroke-linecap:round;stroke-width:5\"></g><g class=\"toytree-Nodes\" style=\"fill:rgb(10.6%,62.0%,46.7%);fill-opacity:1.0;stroke:rgb(100.0%,100.0%,100.0%);stroke-opacity:1.0;stroke-width:1.5\"><g id=\"Node-5\" transform=\"translate(215.624,225)\"><circle r=\"4.0\"></circle></g><g id=\"Node-6\" transform=\"translate(227.823,202.679)\"><circle r=\"4.0\"></circle></g><g id=\"Node-7\" transform=\"translate(203.424,213.839)\"><circle r=\"4.0\"></circle></g><g id=\"Node-8\" transform=\"translate(179.026,241.741)\"><circle r=\"4.0\"></circle></g></g><g class=\"toytree-TipLabels\" style=\"fill:rgb(14.5%,14.5%,14.5%);fill-opacity:1.0;font-family:Helvetica;font-size:10px;font-weight:300;vertical-align:baseline;white-space:pre;stroke:none\"><g class=\"toytree-TipLabel\" transform=\"translate(252.221,202.679)\"><text x=\"10.0\" y=\"2.5549999999999997\" style=\"fill:rgb(14.5%,14.5%,14.5%);fill-opacity:1.0\">a</text></g><g class=\"toytree-TipLabel\" transform=\"translate(252.221,247.321)\"><text x=\"10.0\" y=\"2.5549999999999997\" style=\"fill:rgb(14.5%,14.5%,14.5%);fill-opacity:1.0\">b</text></g><g class=\"toytree-TipLabel\" transform=\"translate(252.221,180.357)\"><text x=\"10.0\" y=\"2.5549999999999997\" style=\"fill:rgb(14.5%,14.5%,14.5%);fill-opacity:1.0\">d</text></g><g class=\"toytree-TipLabel\" transform=\"translate(252.221,225)\"><text x=\"10.0\" y=\"2.5549999999999997\" style=\"fill:rgb(14.5%,14.5%,14.5%);fill-opacity:1.0\">e</text></g><g class=\"toytree-TipLabel\" transform=\"translate(252.221,269.643)\"><text x=\"10.0\" y=\"2.5549999999999997\" style=\"fill:rgb(14.5%,14.5%,14.5%);fill-opacity:1.0\">c</text></g></g></g></g></g><g class=\"toyplot-coordinates-Cartesian\" id=\"t12cc8dd9815344cdb062c15788dd236a\"><clipPath id=\"tb9055051791c43bf9845baed963cb2a6\"><rect x=\"315.0\" y=\"165.0\" width=\"120.0\" height=\"120.0\"></rect></clipPath><g clip-path=\"url(#tb9055051791c43bf9845baed963cb2a6)\"><g class=\"toytree-mark-Toytree\" id=\"td313ed144d674d5e89be866c9cdbac88\"><g class=\"toytree-Edges\" style=\"stroke:rgb(14.5%,14.5%,14.5%);stroke-opacity:1.0;stroke-linecap:round;stroke-width:2;fill:none\"><path d=\"M 365.6 213.8 L 402.2 247.3\" id=\"5,0\" style=\"\"></path><path d=\"M 365.6 213.8 L 402.2 180.4\" id=\"5,1\" style=\"\"></path><path d=\"M 377.8 213.8 L 402.2 202.7\" id=\"6,2\" style=\"\"></path><path d=\"M 377.8 213.8 L 402.2 225.0\" id=\"6,3\" style=\"\"></path><path d=\"M 329.0 241.7 L 402.2 269.6\" id=\"8,4\" style=\"\"></path><path d=\"M 353.4 213.8 L 365.6 213.8\" id=\"7,5\" style=\"\"></path><path d=\"M 353.4 213.8 L 377.8 213.8\" id=\"7,6\" style=\"\"></path><path d=\"M 329.0 241.7 L 353.4 213.8\" id=\"8,7\" style=\"\"></path></g><g class=\"toytree-AlignEdges\" style=\"stroke:rgb(66.0%,66.0%,66.0%);stroke-opacity:0.75;stroke-dasharray:2,4;stroke-linecap:round;stroke-width:2\"><path d=\"M 402.2 247.3 L 402.2 247.3\"></path><path d=\"M 402.2 180.4 L 402.2 180.4\"></path><path d=\"M 402.2 202.7 L 402.2 202.7\"></path><path d=\"M 402.2 225.0 L 402.2 225.0\"></path><path d=\"M 402.2 269.6 L 402.2 269.6\"></path></g><g class=\"toytree-AdmixEdges\" style=\"fill:rgb(0.0%,0.0%,0.0%);fill-opacity:0.0;stroke:rgb(90.6%,54.1%,76.5%);stroke-opacity:0.6;font-size:14px;stroke-linecap:round;stroke-width:5\"></g><g class=\"toytree-Nodes\" style=\"fill:rgb(10.6%,62.0%,46.7%);fill-opacity:1.0;stroke:rgb(100.0%,100.0%,100.0%);stroke-opacity:1.0;stroke-width:1.5\"><g id=\"Node-5\" transform=\"translate(365.624,213.839)\"><circle r=\"4.0\"></circle></g><g id=\"Node-6\" transform=\"translate(377.823,213.839)\"><circle r=\"4.0\"></circle></g><g id=\"Node-7\" transform=\"translate(353.424,213.839)\"><circle r=\"4.0\"></circle></g><g id=\"Node-8\" transform=\"translate(329.026,241.741)\"><circle r=\"4.0\"></circle></g></g><g class=\"toytree-TipLabels\" style=\"fill:rgb(14.5%,14.5%,14.5%);fill-opacity:1.0;font-family:Helvetica;font-size:10px;font-weight:300;vertical-align:baseline;white-space:pre;stroke:none\"><g class=\"toytree-TipLabel\" transform=\"translate(402.221,247.321)\"><text x=\"10.0\" y=\"2.5549999999999997\" style=\"fill:rgb(14.5%,14.5%,14.5%);fill-opacity:1.0\">b</text></g><g class=\"toytree-TipLabel\" transform=\"translate(402.221,180.357)\"><text x=\"10.0\" y=\"2.5549999999999997\" style=\"fill:rgb(14.5%,14.5%,14.5%);fill-opacity:1.0\">d</text></g><g class=\"toytree-TipLabel\" transform=\"translate(402.221,202.679)\"><text x=\"10.0\" y=\"2.5549999999999997\" style=\"fill:rgb(14.5%,14.5%,14.5%);fill-opacity:1.0\">a</text></g><g class=\"toytree-TipLabel\" transform=\"translate(402.221,225)\"><text x=\"10.0\" y=\"2.5549999999999997\" style=\"fill:rgb(14.5%,14.5%,14.5%);fill-opacity:1.0\">e</text></g><g class=\"toytree-TipLabel\" transform=\"translate(402.221,269.643)\"><text x=\"10.0\" y=\"2.5549999999999997\" style=\"fill:rgb(14.5%,14.5%,14.5%);fill-opacity:1.0\">c</text></g></g></g></g></g><g class=\"toyplot-coordinates-Cartesian\" id=\"t587ad8c634b6414e8668b21424e7381e\"><clipPath id=\"t41195c0914ef47878d98f4edaa3719ae\"><rect x=\"465.0\" y=\"165.0\" width=\"120.0\" height=\"120.0\"></rect></clipPath><g clip-path=\"url(#t41195c0914ef47878d98f4edaa3719ae)\"><g class=\"toytree-mark-Toytree\" id=\"t76cde2adb6c74a77b47a074cd24c0a7c\"><g class=\"toytree-Edges\" style=\"stroke:rgb(14.5%,14.5%,14.5%);stroke-opacity:1.0;stroke-linecap:round;stroke-width:2;fill:none\"><path d=\"M 527.8 225.0 L 552.2 202.7\" id=\"5,0\" style=\"\"></path><path d=\"M 527.8 225.0 L 552.2 247.3\" id=\"5,1\" style=\"\"></path><path d=\"M 515.6 202.7 L 552.2 180.4\" id=\"6,2\" style=\"\"></path><path d=\"M 515.6 202.7 L 552.2 225.0\" id=\"6,3\" style=\"\"></path><path d=\"M 479.0 241.7 L 552.2 269.6\" id=\"8,4\" style=\"\"></path><path d=\"M 503.4 213.8 L 527.8 225.0\" id=\"7,5\" style=\"\"></path><path d=\"M 503.4 213.8 L 515.6 202.7\" id=\"7,6\" style=\"\"></path><path d=\"M 479.0 241.7 L 503.4 213.8\" id=\"8,7\" style=\"\"></path></g><g class=\"toytree-AlignEdges\" style=\"stroke:rgb(66.0%,66.0%,66.0%);stroke-opacity:0.75;stroke-dasharray:2,4;stroke-linecap:round;stroke-width:2\"><path d=\"M 552.2 202.7 L 552.2 202.7\"></path><path d=\"M 552.2 247.3 L 552.2 247.3\"></path><path d=\"M 552.2 180.4 L 552.2 180.4\"></path><path d=\"M 552.2 225.0 L 552.2 225.0\"></path><path d=\"M 552.2 269.6 L 552.2 269.6\"></path></g><g class=\"toytree-AdmixEdges\" style=\"fill:rgb(0.0%,0.0%,0.0%);fill-opacity:0.0;stroke:rgb(90.6%,54.1%,76.5%);stroke-opacity:0.6;font-size:14px;stroke-linecap:round;stroke-width:5\"></g><g class=\"toytree-Nodes\" style=\"fill:rgb(10.6%,62.0%,46.7%);fill-opacity:1.0;stroke:rgb(100.0%,100.0%,100.0%);stroke-opacity:1.0;stroke-width:1.5\"><g id=\"Node-5\" transform=\"translate(527.823,225)\"><circle r=\"4.0\"></circle></g><g id=\"Node-6\" transform=\"translate(515.624,202.679)\"><circle r=\"4.0\"></circle></g><g id=\"Node-7\" transform=\"translate(503.424,213.839)\"><circle r=\"4.0\"></circle></g><g id=\"Node-8\" transform=\"translate(479.026,241.741)\"><circle r=\"4.0\"></circle></g></g><g class=\"toytree-TipLabels\" style=\"fill:rgb(14.5%,14.5%,14.5%);fill-opacity:1.0;font-family:Helvetica;font-size:10px;font-weight:300;vertical-align:baseline;white-space:pre;stroke:none\"><g class=\"toytree-TipLabel\" transform=\"translate(552.221,202.679)\"><text x=\"10.0\" y=\"2.5549999999999997\" style=\"fill:rgb(14.5%,14.5%,14.5%);fill-opacity:1.0\">a</text></g><g class=\"toytree-TipLabel\" transform=\"translate(552.221,247.321)\"><text x=\"10.0\" y=\"2.5549999999999997\" style=\"fill:rgb(14.5%,14.5%,14.5%);fill-opacity:1.0\">b</text></g><g class=\"toytree-TipLabel\" transform=\"translate(552.221,180.357)\"><text x=\"10.0\" y=\"2.5549999999999997\" style=\"fill:rgb(14.5%,14.5%,14.5%);fill-opacity:1.0\">d</text></g><g class=\"toytree-TipLabel\" transform=\"translate(552.221,225)\"><text x=\"10.0\" y=\"2.5549999999999997\" style=\"fill:rgb(14.5%,14.5%,14.5%);fill-opacity:1.0\">e</text></g><g class=\"toytree-TipLabel\" transform=\"translate(552.221,269.643)\"><text x=\"10.0\" y=\"2.5549999999999997\" style=\"fill:rgb(14.5%,14.5%,14.5%);fill-opacity:1.0\">c</text></g></g></g></g></g></svg><div class=\"toyplot-behavior\"><script>(function()\n",
       "{\n",
       "var modules={};\n",
       "})();</script></div></div>"
      ]
     },
     "metadata": {},
     "output_type": "display_data"
    }
   ],
   "source": [
    "# draw a 2x4 grid of trees with 30px margins between them\n",
    "mtree1.draw(ts='o', shape=(2, 4), width=600, height=300, margin=25, fixed_order=['c', 'b', 'e', 'a', 'd']);"
   ]
  },
  {
   "cell_type": "markdown",
   "id": "c8eff66c-d4a7-41ea-9138-ede8bd31afa5",
   "metadata": {},
   "source": [
    "### Cloud tree drawings\n",
    "It is sometimes even more informative to plot a number of trees on top of each other to visualize their discordance. These are sometimes called “densitree” plots, or here, “cloud tree plots”. See the documentation section on [Drawing Cloud Trees](#drawing-cloud-trees) for more details and examples."
   ]
  },
  {
   "cell_type": "code",
   "execution_count": 27,
   "id": "fe3000e8-07c5-441e-8e85-48218a0c7eac",
   "metadata": {},
   "outputs": [
    {
     "data": {
      "text/html": [
       "<div class=\"toyplot\" id=\"t1cd3dee813be4dc2b0741bcabeee5f12\" style=\"text-align:center\"><svg class=\"toyplot-canvas-Canvas\" xmlns:toyplot=\"http://www.sandia.gov/toyplot\" xmlns:xlink=\"http://www.w3.org/1999/xlink\" xmlns=\"http://www.w3.org/2000/svg\" width=\"300.0px\" height=\"275.0px\" viewBox=\"0 0 300.0 275.0\" preserveAspectRatio=\"xMidYMid meet\" style=\"background-color:transparent;border-color:#292724;border-style:none;border-width:1.0;fill:rgb(16.1%,15.3%,14.1%);fill-opacity:1.0;font-family:Helvetica;font-size:12px;opacity:1.0;stroke:rgb(16.1%,15.3%,14.1%);stroke-opacity:1.0;stroke-width:1.0\" id=\"t71f4e467e42d4544bf6f3ed78040f08e\"><g class=\"toyplot-coordinates-Cartesian\" id=\"td2d80b071ff64ad287cab11007f4e880\"><clipPath id=\"t9d1418cdff774fe4a8fc516949f8e51e\"><rect x=\"35.0\" y=\"35.0\" width=\"230.0\" height=\"205.0\"></rect></clipPath><g clip-path=\"url(#t9d1418cdff774fe4a8fc516949f8e51e)\"><g class=\"toytree-mark-Toytree\" id=\"tc4e1b88f972d435ebe855b9dbad2763e\"><g class=\"toytree-Edges\" style=\"stroke:rgb(14.5%,14.5%,14.5%);stroke-opacity:0.1;stroke-linecap:round;stroke-width:3;fill:none\"><path d=\"M 173.8 177.9 L 214.6 218.3\" id=\"5,0\" style=\"\"></path><path d=\"M 173.8 177.9 L 214.6 137.5\" id=\"5,1\" style=\"\"></path><path d=\"M 173.8 137.5 L 214.6 177.9\" id=\"6,2\" style=\"\"></path><path d=\"M 173.8 137.5 L 214.6 97.1\" id=\"6,3\" style=\"\"></path><path d=\"M 92.1 137.5 L 214.6 56.7\" id=\"8,4\" style=\"\"></path><path d=\"M 132.9 157.7 L 173.8 177.9\" id=\"7,5\" style=\"\"></path><path d=\"M 132.9 157.7 L 173.8 137.5\" id=\"7,6\" style=\"\"></path><path d=\"M 92.1 137.5 L 132.9 157.7\" id=\"8,7\" style=\"\"></path></g><g class=\"toytree-AdmixEdges\" style=\"fill:rgb(0.0%,0.0%,0.0%);fill-opacity:0.0;stroke:rgb(90.6%,54.1%,76.5%);stroke-opacity:0.6;font-size:14px;stroke-linecap:round;stroke-width:5\"></g><g class=\"toytree-Nodes\" style=\"fill:rgb(40.0%,76.1%,64.7%);fill-opacity:1.0;stroke:rgb(14.9%,14.9%,14.9%);stroke-opacity:1.0;stroke-width:1.5\"></g><g class=\"toytree-TipLabels\" style=\"fill:rgb(14.5%,14.5%,14.5%);fill-opacity:1.0;font-family:Helvetica;font-size:12px;font-weight:300;vertical-align:baseline;white-space:pre;stroke:none\"><g class=\"toytree-TipLabel\" transform=\"translate(214.595,218.347)\"><text x=\"15.0\" y=\"3.066\" style=\"fill:rgb(14.5%,14.5%,14.5%);fill-opacity:1.0\">a</text></g><g class=\"toytree-TipLabel\" transform=\"translate(214.595,137.5)\"><text x=\"15.0\" y=\"3.066\" style=\"fill:rgb(14.5%,14.5%,14.5%);fill-opacity:1.0\">d</text></g><g class=\"toytree-TipLabel\" transform=\"translate(214.595,177.924)\"><text x=\"15.0\" y=\"3.066\" style=\"fill:rgb(14.5%,14.5%,14.5%);fill-opacity:1.0\">b</text></g><g class=\"toytree-TipLabel\" transform=\"translate(214.595,97.0763)\"><text x=\"15.0\" y=\"3.066\" style=\"fill:rgb(14.5%,14.5%,14.5%);fill-opacity:1.0\">e</text></g><g class=\"toytree-TipLabel\" transform=\"translate(214.595,56.6526)\"><text x=\"15.0\" y=\"3.066\" style=\"fill:rgb(14.5%,14.5%,14.5%);fill-opacity:1.0\">c</text></g></g></g><g class=\"toytree-mark-Toytree\" id=\"t47b50b730e514f99bf6e99084cb13bd5\"><g class=\"toytree-Edges\" style=\"stroke:rgb(14.5%,14.5%,14.5%);stroke-opacity:0.1;stroke-linecap:round;stroke-width:3;fill:none\"><path d=\"M 153.3 198.1 L 214.6 218.3\" id=\"5,0\" style=\"\"></path><path d=\"M 153.3 198.1 L 214.6 177.9\" id=\"5,1\" style=\"\"></path><path d=\"M 173.8 117.3 L 214.6 137.5\" id=\"6,2\" style=\"\"></path><path d=\"M 173.8 117.3 L 214.6 97.1\" id=\"6,3\" style=\"\"></path><path d=\"M 71.6 137.5 L 214.6 56.7\" id=\"8,4\" style=\"\"></path><path d=\"M 112.5 157.7 L 153.3 198.1\" id=\"7,5\" style=\"\"></path><path d=\"M 112.5 157.7 L 173.8 117.3\" id=\"7,6\" style=\"\"></path><path d=\"M 71.6 137.5 L 112.5 157.7\" id=\"8,7\" style=\"\"></path></g><g class=\"toytree-AdmixEdges\" style=\"fill:rgb(0.0%,0.0%,0.0%);fill-opacity:0.0;stroke:rgb(90.6%,54.1%,76.5%);stroke-opacity:0.6;font-size:14px;stroke-linecap:round;stroke-width:5\"></g><g class=\"toytree-Nodes\" style=\"fill:rgb(40.0%,76.1%,64.7%);fill-opacity:1.0;stroke:rgb(14.9%,14.9%,14.9%);stroke-opacity:1.0;stroke-width:1.5\"></g></g><g class=\"toytree-mark-Toytree\" id=\"ta020913a572344b18a496d43906a927d\"><g class=\"toytree-Edges\" style=\"stroke:rgb(14.5%,14.5%,14.5%);stroke-opacity:0.1;stroke-linecap:round;stroke-width:3;fill:none\"><path d=\"M 163.5 198.1 L 214.6 218.3\" id=\"5,0\" style=\"\"></path><path d=\"M 163.5 198.1 L 214.6 177.9\" id=\"5,1\" style=\"\"></path><path d=\"M 173.8 117.3 L 214.6 137.5\" id=\"6,2\" style=\"\"></path><path d=\"M 173.8 117.3 L 214.6 97.1\" id=\"6,3\" style=\"\"></path><path d=\"M 92.1 137.5 L 214.6 56.7\" id=\"8,4\" style=\"\"></path><path d=\"M 132.9 157.7 L 163.5 198.1\" id=\"7,5\" style=\"\"></path><path d=\"M 132.9 157.7 L 173.8 117.3\" id=\"7,6\" style=\"\"></path><path d=\"M 92.1 137.5 L 132.9 157.7\" id=\"8,7\" style=\"\"></path></g><g class=\"toytree-AdmixEdges\" style=\"fill:rgb(0.0%,0.0%,0.0%);fill-opacity:0.0;stroke:rgb(90.6%,54.1%,76.5%);stroke-opacity:0.6;font-size:14px;stroke-linecap:round;stroke-width:5\"></g><g class=\"toytree-Nodes\" style=\"fill:rgb(40.0%,76.1%,64.7%);fill-opacity:1.0;stroke:rgb(14.9%,14.9%,14.9%);stroke-opacity:1.0;stroke-width:1.5\"></g></g><g class=\"toytree-mark-Toytree\" id=\"t64913c0e6d0a4779b6480e05eb988be2\"><g class=\"toytree-Edges\" style=\"stroke:rgb(14.5%,14.5%,14.5%);stroke-opacity:0.1;stroke-linecap:round;stroke-width:3;fill:none\"><path d=\"M 173.8 198.1 L 214.6 218.3\" id=\"5,0\" style=\"\"></path><path d=\"M 173.8 198.1 L 214.6 177.9\" id=\"5,1\" style=\"\"></path><path d=\"M 153.3 117.3 L 214.6 137.5\" id=\"6,2\" style=\"\"></path><path d=\"M 153.3 117.3 L 214.6 97.1\" id=\"6,3\" style=\"\"></path><path d=\"M 92.1 137.5 L 214.6 56.7\" id=\"8,4\" style=\"\"></path><path d=\"M 132.9 157.7 L 173.8 198.1\" id=\"7,5\" style=\"\"></path><path d=\"M 132.9 157.7 L 153.3 117.3\" id=\"7,6\" style=\"\"></path><path d=\"M 92.1 137.5 L 132.9 157.7\" id=\"8,7\" style=\"\"></path></g><g class=\"toytree-AdmixEdges\" style=\"fill:rgb(0.0%,0.0%,0.0%);fill-opacity:0.0;stroke:rgb(90.6%,54.1%,76.5%);stroke-opacity:0.6;font-size:14px;stroke-linecap:round;stroke-width:5\"></g><g class=\"toytree-Nodes\" style=\"fill:rgb(40.0%,76.1%,64.7%);fill-opacity:1.0;stroke:rgb(14.9%,14.9%,14.9%);stroke-opacity:1.0;stroke-width:1.5\"></g></g><g class=\"toytree-mark-Toytree\" id=\"t299e95ce56124a838fc660feaa5c7d4f\"><g class=\"toytree-Edges\" style=\"stroke:rgb(14.5%,14.5%,14.5%);stroke-opacity:0.1;stroke-linecap:round;stroke-width:3;fill:none\"><path d=\"M 173.8 198.1 L 214.6 177.9\" id=\"5,0\" style=\"\"></path><path d=\"M 173.8 198.1 L 214.6 218.3\" id=\"5,1\" style=\"\"></path><path d=\"M 153.3 117.3 L 214.6 137.5\" id=\"6,2\" style=\"\"></path><path d=\"M 153.3 117.3 L 214.6 97.1\" id=\"6,3\" style=\"\"></path><path d=\"M 51.2 117.3 L 214.6 56.7\" id=\"8,4\" style=\"\"></path><path d=\"M 132.9 137.5 L 173.8 198.1\" id=\"7,5\" style=\"\"></path><path d=\"M 132.9 137.5 L 153.3 117.3\" id=\"7,6\" style=\"\"></path><path d=\"M 51.2 117.3 L 132.9 137.5\" id=\"8,7\" style=\"\"></path></g><g class=\"toytree-AdmixEdges\" style=\"fill:rgb(0.0%,0.0%,0.0%);fill-opacity:0.0;stroke:rgb(90.6%,54.1%,76.5%);stroke-opacity:0.6;font-size:14px;stroke-linecap:round;stroke-width:5\"></g><g class=\"toytree-Nodes\" style=\"fill:rgb(40.0%,76.1%,64.7%);fill-opacity:1.0;stroke:rgb(14.9%,14.9%,14.9%);stroke-opacity:1.0;stroke-width:1.5\"></g></g><g class=\"toytree-mark-Toytree\" id=\"t22e71f94d098450f87b5a37e5607b0a7\"><g class=\"toytree-Edges\" style=\"stroke:rgb(14.5%,14.5%,14.5%);stroke-opacity:0.1;stroke-linecap:round;stroke-width:3;fill:none\"><path d=\"M 153.3 198.1 L 214.6 218.3\" id=\"5,0\" style=\"\"></path><path d=\"M 153.3 198.1 L 214.6 177.9\" id=\"5,1\" style=\"\"></path><path d=\"M 173.8 117.3 L 214.6 137.5\" id=\"6,2\" style=\"\"></path><path d=\"M 173.8 117.3 L 214.6 97.1\" id=\"6,3\" style=\"\"></path><path d=\"M 92.1 137.5 L 214.6 56.7\" id=\"8,4\" style=\"\"></path><path d=\"M 132.9 157.7 L 153.3 198.1\" id=\"7,5\" style=\"\"></path><path d=\"M 132.9 157.7 L 173.8 117.3\" id=\"7,6\" style=\"\"></path><path d=\"M 92.1 137.5 L 132.9 157.7\" id=\"8,7\" style=\"\"></path></g><g class=\"toytree-AdmixEdges\" style=\"fill:rgb(0.0%,0.0%,0.0%);fill-opacity:0.0;stroke:rgb(90.6%,54.1%,76.5%);stroke-opacity:0.6;font-size:14px;stroke-linecap:round;stroke-width:5\"></g><g class=\"toytree-Nodes\" style=\"fill:rgb(40.0%,76.1%,64.7%);fill-opacity:1.0;stroke:rgb(14.9%,14.9%,14.9%);stroke-opacity:1.0;stroke-width:1.5\"></g></g><g class=\"toytree-mark-Toytree\" id=\"t38ff002d5b944eeeb9edf54a87637f76\"><g class=\"toytree-Edges\" style=\"stroke:rgb(14.5%,14.5%,14.5%);stroke-opacity:0.1;stroke-linecap:round;stroke-width:3;fill:none\"><path d=\"M 153.3 157.7 L 214.6 177.9\" id=\"5,0\" style=\"\"></path><path d=\"M 153.3 157.7 L 214.6 137.5\" id=\"5,1\" style=\"\"></path><path d=\"M 173.8 157.7 L 214.6 218.3\" id=\"6,2\" style=\"\"></path><path d=\"M 173.8 157.7 L 214.6 97.1\" id=\"6,3\" style=\"\"></path><path d=\"M 92.1 117.3 L 214.6 56.7\" id=\"8,4\" style=\"\"></path><path d=\"M 132.9 137.5 L 153.3 157.7\" id=\"7,5\" style=\"\"></path><path d=\"M 132.9 137.5 L 173.8 157.7\" id=\"7,6\" style=\"\"></path><path d=\"M 92.1 117.3 L 132.9 137.5\" id=\"8,7\" style=\"\"></path></g><g class=\"toytree-AdmixEdges\" style=\"fill:rgb(0.0%,0.0%,0.0%);fill-opacity:0.0;stroke:rgb(90.6%,54.1%,76.5%);stroke-opacity:0.6;font-size:14px;stroke-linecap:round;stroke-width:5\"></g><g class=\"toytree-Nodes\" style=\"fill:rgb(40.0%,76.1%,64.7%);fill-opacity:1.0;stroke:rgb(14.9%,14.9%,14.9%);stroke-opacity:1.0;stroke-width:1.5\"></g></g><g class=\"toytree-mark-Toytree\" id=\"tc3f256228b514669bb50af71e099a2d5\"><g class=\"toytree-Edges\" style=\"stroke:rgb(14.5%,14.5%,14.5%);stroke-opacity:0.1;stroke-linecap:round;stroke-width:3;fill:none\"><path d=\"M 173.8 198.1 L 214.6 218.3\" id=\"5,0\" style=\"\"></path><path d=\"M 173.8 198.1 L 214.6 177.9\" id=\"5,1\" style=\"\"></path><path d=\"M 153.3 117.3 L 214.6 137.5\" id=\"6,2\" style=\"\"></path><path d=\"M 153.3 117.3 L 214.6 97.1\" id=\"6,3\" style=\"\"></path><path d=\"M 92.1 137.5 L 214.6 56.7\" id=\"8,4\" style=\"\"></path><path d=\"M 132.9 157.7 L 173.8 198.1\" id=\"7,5\" style=\"\"></path><path d=\"M 132.9 157.7 L 153.3 117.3\" id=\"7,6\" style=\"\"></path><path d=\"M 92.1 137.5 L 132.9 157.7\" id=\"8,7\" style=\"\"></path></g><g class=\"toytree-AdmixEdges\" style=\"fill:rgb(0.0%,0.0%,0.0%);fill-opacity:0.0;stroke:rgb(90.6%,54.1%,76.5%);stroke-opacity:0.6;font-size:14px;stroke-linecap:round;stroke-width:5\"></g><g class=\"toytree-Nodes\" style=\"fill:rgb(40.0%,76.1%,64.7%);fill-opacity:1.0;stroke:rgb(14.9%,14.9%,14.9%);stroke-opacity:1.0;stroke-width:1.5\"></g></g></g><g class=\"toyplot-coordinates-Axis\" id=\"te260a9a43ac545f4a539545a1e8ae648\" transform=\"translate(50.0,225.0)translate(0,15.0)\"><line x1=\"1.2252699678162524\" y1=\"0\" x2=\"164.59459900998186\" y2=\"0\" style=\"\"></line><g><line x1=\"42.06760222835765\" y1=\"0\" x2=\"42.06760222835765\" y2=\"-5\" style=\"\"></line><line x1=\"82.90993448889907\" y1=\"0\" x2=\"82.90993448889907\" y2=\"-5\" style=\"\"></line><line x1=\"123.75226674944047\" y1=\"0\" x2=\"123.75226674944047\" y2=\"-5\" style=\"\"></line><line x1=\"164.59459900998186\" y1=\"0\" x2=\"164.59459900998186\" y2=\"-5\" style=\"\"></line></g><g><g transform=\"translate(42.06760222835765,6)\"><text x=\"-2.78\" y=\"8.555\" style=\"fill:rgb(16.1%,15.3%,14.1%);fill-opacity:1.0;font-family:helvetica;font-size:10.0px;font-weight:normal;stroke:none;vertical-align:baseline;white-space:pre\">3</text></g><g transform=\"translate(82.90993448889907,6)\"><text x=\"-2.78\" y=\"8.555\" style=\"fill:rgb(16.1%,15.3%,14.1%);fill-opacity:1.0;font-family:helvetica;font-size:10.0px;font-weight:normal;stroke:none;vertical-align:baseline;white-space:pre\">2</text></g><g transform=\"translate(123.75226674944047,6)\"><text x=\"-2.78\" y=\"8.555\" style=\"fill:rgb(16.1%,15.3%,14.1%);fill-opacity:1.0;font-family:helvetica;font-size:10.0px;font-weight:normal;stroke:none;vertical-align:baseline;white-space:pre\">1</text></g><g transform=\"translate(164.59459900998186,6)\"><text x=\"-2.78\" y=\"8.555\" style=\"fill:rgb(16.1%,15.3%,14.1%);fill-opacity:1.0;font-family:helvetica;font-size:10.0px;font-weight:normal;stroke:none;vertical-align:baseline;white-space:pre\">0</text></g></g><g class=\"toyplot-coordinates-Axis-coordinates\" style=\"visibility:hidden\" transform=\"\"><line x1=\"0\" x2=\"0\" y1=\"-3.0\" y2=\"4.5\" style=\"stroke:rgb(43.9%,50.2%,56.5%);stroke-opacity:1.0;stroke-width:1.0\"></line><text x=\"0\" y=\"-6\" style=\"alignment-baseline:alphabetic;fill:rgb(43.9%,50.2%,56.5%);fill-opacity:1.0;font-size:10px;font-weight:normal;stroke:none;text-anchor:middle\"></text></g></g></g></svg><div class=\"toyplot-behavior\"><script>(function()\n",
       "{\n",
       "var modules={};\n",
       "modules[\"toyplot/canvas/id\"] = \"t71f4e467e42d4544bf6f3ed78040f08e\";\n",
       "modules[\"toyplot/canvas\"] = (function(canvas_id)\n",
       "    {\n",
       "        return document.querySelector(\"#\" + canvas_id);\n",
       "    })(modules[\"toyplot/canvas/id\"]);\n",
       "modules[\"toyplot.coordinates.Axis\"] = (\n",
       "        function(canvas)\n",
       "        {\n",
       "            function sign(x)\n",
       "            {\n",
       "                return x < 0 ? -1 : x > 0 ? 1 : 0;\n",
       "            }\n",
       "\n",
       "            function mix(a, b, amount)\n",
       "            {\n",
       "                return ((1.0 - amount) * a) + (amount * b);\n",
       "            }\n",
       "\n",
       "            function log(x, base)\n",
       "            {\n",
       "                return Math.log(Math.abs(x)) / Math.log(base);\n",
       "            }\n",
       "\n",
       "            function in_range(a, x, b)\n",
       "            {\n",
       "                var left = Math.min(a, b);\n",
       "                var right = Math.max(a, b);\n",
       "                return left <= x && x <= right;\n",
       "            }\n",
       "\n",
       "            function inside(range, projection)\n",
       "            {\n",
       "                for(var i = 0; i != projection.length; ++i)\n",
       "                {\n",
       "                    var segment = projection[i];\n",
       "                    if(in_range(segment.range.min, range, segment.range.max))\n",
       "                        return true;\n",
       "                }\n",
       "                return false;\n",
       "            }\n",
       "\n",
       "            function to_domain(range, projection)\n",
       "            {\n",
       "                for(var i = 0; i != projection.length; ++i)\n",
       "                {\n",
       "                    var segment = projection[i];\n",
       "                    if(in_range(segment.range.bounds.min, range, segment.range.bounds.max))\n",
       "                    {\n",
       "                        if(segment.scale == \"linear\")\n",
       "                        {\n",
       "                            var amount = (range - segment.range.min) / (segment.range.max - segment.range.min);\n",
       "                            return mix(segment.domain.min, segment.domain.max, amount)\n",
       "                        }\n",
       "                        else if(segment.scale[0] == \"log\")\n",
       "                        {\n",
       "                            var amount = (range - segment.range.min) / (segment.range.max - segment.range.min);\n",
       "                            var base = segment.scale[1];\n",
       "                            return sign(segment.domain.min) * Math.pow(base, mix(log(segment.domain.min, base), log(segment.domain.max, base), amount));\n",
       "                        }\n",
       "                    }\n",
       "                }\n",
       "            }\n",
       "\n",
       "            var axes = {};\n",
       "\n",
       "            function display_coordinates(e)\n",
       "            {\n",
       "                var current = canvas.createSVGPoint();\n",
       "                current.x = e.clientX;\n",
       "                current.y = e.clientY;\n",
       "\n",
       "                for(var axis_id in axes)\n",
       "                {\n",
       "                    var axis = document.querySelector(\"#\" + axis_id);\n",
       "                    var coordinates = axis.querySelector(\".toyplot-coordinates-Axis-coordinates\");\n",
       "                    if(coordinates)\n",
       "                    {\n",
       "                        var projection = axes[axis_id];\n",
       "                        var local = current.matrixTransform(axis.getScreenCTM().inverse());\n",
       "                        if(inside(local.x, projection))\n",
       "                        {\n",
       "                            var domain = to_domain(local.x, projection);\n",
       "                            coordinates.style.visibility = \"visible\";\n",
       "                            coordinates.setAttribute(\"transform\", \"translate(\" + local.x + \")\");\n",
       "                            var text = coordinates.querySelector(\"text\");\n",
       "                            text.textContent = domain.toFixed(2);\n",
       "                        }\n",
       "                        else\n",
       "                        {\n",
       "                            coordinates.style.visibility= \"hidden\";\n",
       "                        }\n",
       "                    }\n",
       "                }\n",
       "            }\n",
       "\n",
       "            canvas.addEventListener(\"click\", display_coordinates);\n",
       "\n",
       "            var module = {};\n",
       "            module.show_coordinates = function(axis_id, projection)\n",
       "            {\n",
       "                axes[axis_id] = projection;\n",
       "            }\n",
       "\n",
       "            return module;\n",
       "        })(modules[\"toyplot/canvas\"]);\n",
       "(function(axis, axis_id, projection)\n",
       "        {\n",
       "            axis.show_coordinates(axis_id, projection);\n",
       "        })(modules[\"toyplot.coordinates.Axis\"],\"te260a9a43ac545f4a539545a1e8ae648\",[{\"domain\": {\"bounds\": {\"max\": Infinity, \"min\": -Infinity}, \"max\": 0.8668800000000001, \"min\": -4.03}, \"range\": {\"bounds\": {\"max\": Infinity, \"min\": -Infinity}, \"max\": 200.0, \"min\": 0.0}, \"scale\": \"linear\"}]);\n",
       "})();</script></div></div>"
      ]
     },
     "metadata": {},
     "output_type": "display_data"
    }
   ],
   "source": [
    "# draw a cloud tree\n",
    "mtree1.draw_cloud_tree(\n",
    "    scale_bar=True,\n",
    "    edge_style={\n",
    "        \"stroke-opacity\": 0.1,\n",
    "        \"stroke-width\": 3,\n",
    "    },\n",
    ");"
   ]
  }
 ],
 "metadata": {
  "kernelspec": {
   "display_name": "Python 3 (ipykernel)",
   "language": "python",
   "name": "python3"
  },
  "language_info": {
   "codemirror_mode": {
    "name": "ipython",
    "version": 3
   },
   "file_extension": ".py",
   "mimetype": "text/x-python",
   "name": "python",
   "nbconvert_exporter": "python",
   "pygments_lexer": "ipython3",
   "version": "3.10.12"
  }
 },
 "nbformat": 4,
 "nbformat_minor": 5
}
