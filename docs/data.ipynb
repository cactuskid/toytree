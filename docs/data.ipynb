{
 "cells": [
  {
   "cell_type": "markdown",
   "id": "58d1cf1c",
   "metadata": {},
   "source": [
    "# Data/Features\n",
    "\n",
    "A common mistake that users make when working with tree data arises from incorrectly assigning trait values to nodes of the tree. This is most prevalent when trait data are stored in a matrix or dataframe separate from the tree object itself, and operations such as re-rooting or ladderizing are applied to the tree. It is important that trees and trait data are kept in sync. To avoid this problem, we recommend using `ToyTree` objects themselves as the primary data storage object in your analyses. It is very simple to assign data to nodes of a tree, and to fetch data back from a tree as a dataframe, or in various alternative formats. A recommended workflow for working with data on trees is demonstrated in this section. "
   ]
  },
  {
   "cell_type": "code",
   "execution_count": 1,
   "id": "4ea7318c",
   "metadata": {},
   "outputs": [],
   "source": [
    "import toytree\n",
    "import toyplot\n",
    "import numpy as np"
   ]
  },
  {
   "cell_type": "markdown",
   "id": "4354c2ed-452f-4c36-b944-abfd2573de82",
   "metadata": {},
   "source": [
    "## Simple Example\n",
    "The functions `set_node_data` and `get_node_data` provide a broad suite of functionality for setting data to one or more nodes on a tree and subsequently fetching the data back in a variety of formats, and in the correct order for plotting. By default the data setting function returns a modified copy of the tree with new data assigned, however, you can optionally use the argument `inplace=True` to set data on the tree object inplace. In either case, a tree is returned by the function, which allows for optionally chaining it with the data getter function to subsequently return the data for one or more node features."
   ]
  },
  {
   "cell_type": "code",
   "execution_count": 2,
   "id": "d099d29c-b5d6-41cf-be0a-8bb4cea6fd60",
   "metadata": {},
   "outputs": [],
   "source": [
    "# an example tree\n",
    "tree = toytree.rtree.unittree(ntips=5, seed=123)"
   ]
  },
  {
   "cell_type": "code",
   "execution_count": 3,
   "id": "ea62649f-d35a-48f0-940f-cf67f7591b62",
   "metadata": {},
   "outputs": [],
   "source": [
    "# set the feature \"X\" to a value of 10 on all Nodes in a tree\n",
    "tree.set_node_data(feature=\"X\", default=10, inplace=True);"
   ]
  },
  {
   "cell_type": "code",
   "execution_count": 4,
   "id": "2af48f67-2d50-4850-9386-5c8e6be2d568",
   "metadata": {},
   "outputs": [
    {
     "data": {
      "text/plain": [
       "0    10\n",
       "1    10\n",
       "2    10\n",
       "3    10\n",
       "4    10\n",
       "5    10\n",
       "6    10\n",
       "7    10\n",
       "8    10\n",
       "dtype: int64"
      ]
     },
     "execution_count": 4,
     "metadata": {},
     "output_type": "execute_result"
    }
   ],
   "source": [
    "# get the values of \"X\" for all Nodes in idx traversal order\n",
    "tree.get_node_data(\"X\")"
   ]
  },
  {
   "cell_type": "code",
   "execution_count": 5,
   "id": "00e77a49-dbb4-4ba8-8015-ffd30d8cdab4",
   "metadata": {},
   "outputs": [
    {
     "data": {
      "text/plain": [
       "0    10\n",
       "1    10\n",
       "2    10\n",
       "3    10\n",
       "4    10\n",
       "5    10\n",
       "6    10\n",
       "7    10\n",
       "8    10\n",
       "dtype: int64"
      ]
     },
     "execution_count": 5,
     "metadata": {},
     "output_type": "execute_result"
    }
   ],
   "source": [
    "# chain the two functions together to set & get values for a feature\n",
    "tree.set_node_data(\"X\", default=10).get_node_data(\"X\")"
   ]
  },
  {
   "cell_type": "markdown",
   "id": "a792fbea-f08b-41db-98b6-34c58de55418",
   "metadata": {},
   "source": [
    "## Features\n",
    "In `toytree` terminology a \"feature\" refers the name of trait for which data is stored to nodes in a tree. For example, each `ToyTree` has several data features by default, such as `name`, `dist`, and `support`. You can create and store data under any arbitrary feature name (except for a few disallowed names and characters), and, in fact when you load a tree from a newick, NHX, or NEXUS formatted data file created by a phylogenetic tree inference program, it will often contain additional metadata that will be loaded as features. Several examples of this are shown in [tree parsing documentation](/toytree/parse_trees/#nhx-format). A `ToyTree` contains a dynamic propery `.features` containing all feature names currently assigned to that tree. (This includes any feature that is assigned to at least one Node in the tree, but it does not need to be assigned to every Node in the tree.)"
   ]
  },
  {
   "cell_type": "code",
   "execution_count": 6,
   "id": "4d396c77-9b7b-4561-8328-714aacfebbc5",
   "metadata": {},
   "outputs": [
    {
     "data": {
      "text/plain": [
       "('idx', 'name', 'height', 'dist', 'support', 'X')"
      ]
     },
     "execution_count": 6,
     "metadata": {},
     "output_type": "execute_result"
    }
   ],
   "source": [
    "# all feature names assigned to at least one Node in this tree\n",
    "tree.features"
   ]
  },
  {
   "cell_type": "markdown",
   "id": "6596c963-9ec5-4885-85dd-203cea53f890",
   "metadata": {},
   "source": [
    "### Data as Node attributes\n",
    "When storing data to a `ToyTree` it is actually stored to individual `Node` objects as [Node attributes](/toytree/node/#attributes). This is demonstrated below where data is assigned to a feature named \"Z\" for two Nodes in the tree. Setting and retrieving data directly from Nodes as attributes like this is the fastest way to set/get data, and is thus especially useful for developers. However, for general `toytree` usage, we recommend using the helper functions `set_node_data` and `get_node_data` to set and retrieve data as they provide a number of benefits, especially in terms of dealing with missing values, checking data types, and ordering data values."
   ]
  },
  {
   "cell_type": "code",
   "execution_count": 7,
   "id": "521d0b2b-639d-415d-b09b-e7883a4eeca8",
   "metadata": {},
   "outputs": [],
   "source": [
    "# set a value for the attribute (feature) named \"Z\" on two Nodes\n",
    "tree[0].Z = \"A\"\n",
    "tree[1].Z = \"B\""
   ]
  },
  {
   "cell_type": "markdown",
   "id": "cd40cd62-ce81-4e59-88f0-382b496883ed",
   "metadata": {},
   "source": [
    "When the `get_node_data` function is called without any features selected it returns a dataframe showing all features on the current tree. Here, this tree includes the five default features in addition to the new feature \"X\" for which we assigned a value of 10 to all Nodes above, and it also includes the attribute \"Z\", which has been assigned to only two Nodes in the tree. For other Nodes that do not contain a \"Z\" feature a default missing value of NaN (numpy.nan) is returned in the dataframe (but note, NaN is not assigned to the \"Z\" attribute of the other Nodes by this function)."
   ]
  },
  {
   "cell_type": "code",
   "execution_count": 8,
   "id": "d43ee8a9-ccad-4ceb-84f1-4b8beabc25c8",
   "metadata": {},
   "outputs": [
    {
     "data": {
      "text/html": [
       "<div>\n",
       "<style scoped>\n",
       "    .dataframe tbody tr th:only-of-type {\n",
       "        vertical-align: middle;\n",
       "    }\n",
       "\n",
       "    .dataframe tbody tr th {\n",
       "        vertical-align: top;\n",
       "    }\n",
       "\n",
       "    .dataframe thead th {\n",
       "        text-align: right;\n",
       "    }\n",
       "</style>\n",
       "<table border=\"1\" class=\"dataframe\">\n",
       "  <thead>\n",
       "    <tr style=\"text-align: right;\">\n",
       "      <th></th>\n",
       "      <th>idx</th>\n",
       "      <th>name</th>\n",
       "      <th>height</th>\n",
       "      <th>dist</th>\n",
       "      <th>support</th>\n",
       "      <th>X</th>\n",
       "      <th>Z</th>\n",
       "    </tr>\n",
       "  </thead>\n",
       "  <tbody>\n",
       "    <tr>\n",
       "      <th>0</th>\n",
       "      <td>0</td>\n",
       "      <td>r0</td>\n",
       "      <td>0.000000</td>\n",
       "      <td>0.333333</td>\n",
       "      <td>NaN</td>\n",
       "      <td>10</td>\n",
       "      <td>A</td>\n",
       "    </tr>\n",
       "    <tr>\n",
       "      <th>1</th>\n",
       "      <td>1</td>\n",
       "      <td>r1</td>\n",
       "      <td>0.000000</td>\n",
       "      <td>0.333333</td>\n",
       "      <td>NaN</td>\n",
       "      <td>10</td>\n",
       "      <td>B</td>\n",
       "    </tr>\n",
       "    <tr>\n",
       "      <th>2</th>\n",
       "      <td>2</td>\n",
       "      <td>r2</td>\n",
       "      <td>0.000000</td>\n",
       "      <td>0.666667</td>\n",
       "      <td>NaN</td>\n",
       "      <td>10</td>\n",
       "      <td>NaN</td>\n",
       "    </tr>\n",
       "    <tr>\n",
       "      <th>3</th>\n",
       "      <td>3</td>\n",
       "      <td>r3</td>\n",
       "      <td>0.000000</td>\n",
       "      <td>0.666667</td>\n",
       "      <td>NaN</td>\n",
       "      <td>10</td>\n",
       "      <td>NaN</td>\n",
       "    </tr>\n",
       "    <tr>\n",
       "      <th>4</th>\n",
       "      <td>4</td>\n",
       "      <td>r4</td>\n",
       "      <td>0.000000</td>\n",
       "      <td>0.666667</td>\n",
       "      <td>NaN</td>\n",
       "      <td>10</td>\n",
       "      <td>NaN</td>\n",
       "    </tr>\n",
       "    <tr>\n",
       "      <th>5</th>\n",
       "      <td>5</td>\n",
       "      <td></td>\n",
       "      <td>0.333333</td>\n",
       "      <td>0.333333</td>\n",
       "      <td>NaN</td>\n",
       "      <td>10</td>\n",
       "      <td>NaN</td>\n",
       "    </tr>\n",
       "    <tr>\n",
       "      <th>6</th>\n",
       "      <td>6</td>\n",
       "      <td></td>\n",
       "      <td>0.666667</td>\n",
       "      <td>0.333333</td>\n",
       "      <td>NaN</td>\n",
       "      <td>10</td>\n",
       "      <td>NaN</td>\n",
       "    </tr>\n",
       "    <tr>\n",
       "      <th>7</th>\n",
       "      <td>7</td>\n",
       "      <td></td>\n",
       "      <td>0.666667</td>\n",
       "      <td>0.333333</td>\n",
       "      <td>NaN</td>\n",
       "      <td>10</td>\n",
       "      <td>NaN</td>\n",
       "    </tr>\n",
       "    <tr>\n",
       "      <th>8</th>\n",
       "      <td>8</td>\n",
       "      <td></td>\n",
       "      <td>1.000000</td>\n",
       "      <td>0.000000</td>\n",
       "      <td>NaN</td>\n",
       "      <td>10</td>\n",
       "      <td>NaN</td>\n",
       "    </tr>\n",
       "  </tbody>\n",
       "</table>\n",
       "</div>"
      ],
      "text/plain": [
       "   idx name    height      dist  support   X    Z\n",
       "0    0   r0  0.000000  0.333333      NaN  10    A\n",
       "1    1   r1  0.000000  0.333333      NaN  10    B\n",
       "2    2   r2  0.000000  0.666667      NaN  10  NaN\n",
       "3    3   r3  0.000000  0.666667      NaN  10  NaN\n",
       "4    4   r4  0.000000  0.666667      NaN  10  NaN\n",
       "5    5       0.333333  0.333333      NaN  10  NaN\n",
       "6    6       0.666667  0.333333      NaN  10  NaN\n",
       "7    7       0.666667  0.333333      NaN  10  NaN\n",
       "8    8       1.000000  0.000000      NaN  10  NaN"
      ]
     },
     "execution_count": 8,
     "metadata": {},
     "output_type": "execute_result"
    }
   ],
   "source": [
    "# return a dataframe with all feature data\n",
    "tree.get_node_data()"
   ]
  },
  {
   "cell_type": "markdown",
   "id": "36258f58-0f29-4893-b2bc-44b10f477d83",
   "metadata": {},
   "source": [
    "## Set Node data\n",
    "The `set_node_data` function is the general recommended way to assign data to nodes on a tree. Data can be entered using either a dictionary or sequence of values, and a number of options are available to make it easier to assign values to many nodes without having to type each out individually. A related function is also available, `set_node_data_from_dataframe`, which allows setting multiple features at the same time from tabular data loaded as a pandas DataFrame. Here, however, we will focus on adding single features at a time."
   ]
  },
  {
   "cell_type": "markdown",
   "id": "811912b7-676d-42bc-82a8-0a831de7d370",
   "metadata": {},
   "source": [
    "### Setting data by dict\n",
    "The simplest way to enter specific data values is by using a dictionary. The keys of the dictionary can correspond to any valid [Node Query](/toytree/query) to select one or more Nodes, and the corresponding value will be assigned to these Nodes. Notably, you can enter a dict selecting only a few Nodes and a feature will be assigned to those Nodes, and not to any of the other Nodes not entered in the dict. If you want to assign a default value to all other nodes you can do so using  `default` argument. Finally, the argument `inherit` can be used to also assign a value to all descendants of a selected Node. Examples of each of these is shown below."
   ]
  },
  {
   "cell_type": "code",
   "execution_count": 9,
   "id": "dd4fbb65-df1e-4687-8229-c62c8c7e019a",
   "metadata": {},
   "outputs": [
    {
     "data": {
      "text/plain": [
       "0    10.0\n",
       "1    20.0\n",
       "2    30.0\n",
       "3     NaN\n",
       "4     NaN\n",
       "5     NaN\n",
       "6     NaN\n",
       "7     NaN\n",
       "8     NaN\n",
       "dtype: float64"
      ]
     },
     "execution_count": 9,
     "metadata": {},
     "output_type": "execute_result"
    }
   ],
   "source": [
    "# set data to feature \"Y\" for two Nodes \n",
    "data = {0: 10, 1: 20, 2: 30}\n",
    "tree.set_node_data(\"Y\", data=data).get_node_data(\"Y\")"
   ]
  },
  {
   "cell_type": "markdown",
   "id": "fca8d2ea-69d3-4d6a-8c2c-ad27fb0c672c",
   "metadata": {},
   "source": [
    "In this example the data dictionary selects nodes using a variety of Node Queries. The first is a regular expression that matches the first four nodes in the tree, the second matches the node named \"r4\", and the last matches the node with int index of 8. Finally, we use the `default` arg to set a value of 0 to all other Nodes not selected in the data dict. In this way, we easily assigned to all 9 nodes in the tree without having to write a value for each."
   ]
  },
  {
   "cell_type": "code",
   "execution_count": 10,
   "id": "fb855987-aa98-490e-8813-8f8c4ec1e2ac",
   "metadata": {},
   "outputs": [
    {
     "data": {
      "text/plain": [
       "0    10\n",
       "1    10\n",
       "2    10\n",
       "3    10\n",
       "4    20\n",
       "5     0\n",
       "6     0\n",
       "7     0\n",
       "8    50\n",
       "dtype: int64"
      ]
     },
     "execution_count": 10,
     "metadata": {},
     "output_type": "execute_result"
    }
   ],
   "source": [
    "# set data to feature \"Y\" using a dict w/ node queries, and the default arg\n",
    "data = {\"~r[0-3]\": 10, \"r4\": 20, 8: 50}\n",
    "tree.set_node_data(feature=\"Y\", data=data, default=0).get_node_data(\"Y\")"
   ]
  },
  {
   "cell_type": "markdown",
   "id": "ed8e405b-a70f-4f3e-b128-1e4edddc4e59",
   "metadata": {},
   "source": [
    "The `inherit` arg provides another convenient way to assign data to Nodes in a tree based on their hierarchical relationships. For example, to assign a trait value that is inherited by all descendants of a particular node in a tree you need only to assign the value to one or more internal nodes while using the `inherit=True` argument. The inherited values are assigned to nodes in order from root to tips so that you can enter values for nested clades using this argument."
   ]
  },
  {
   "cell_type": "code",
   "execution_count": 11,
   "id": "a6ef4321-41f5-4429-8176-4426ee174359",
   "metadata": {},
   "outputs": [
    {
     "data": {
      "text/plain": [
       "0    True\n",
       "1    True\n",
       "2    True\n",
       "3     NaN\n",
       "4     NaN\n",
       "5    True\n",
       "6    True\n",
       "7     NaN\n",
       "8     NaN\n",
       "dtype: object"
      ]
     },
     "execution_count": 11,
     "metadata": {},
     "output_type": "execute_result"
    }
   ],
   "source": [
    "# set data to feature \"Y\" for a clade using inherit=True\n",
    "tree.set_node_data(\"Y\", data={6: True}, inherit=True).get_node_data(\"Y\")"
   ]
  },
  {
   "attachments": {},
   "cell_type": "markdown",
   "id": "97acec45-948f-4857-aa6e-d7c6819d7f45",
   "metadata": {},
   "source": [
    "### Setting data by array\n",
    "You can alternatively set data to all Nodes in a tree by entering the values as a sequence (e.g., list, ndarray, Series) in Node idx order. Note that this requires you to have already properly ordered your input data and to be aware of the Node idx order of your current tree. Thus, this method is more error prone than assigning data by dictionary. Nevertheless, the option is available. Here we use it to assign random integer values to all Nodes by using the `numpy.random` library to generate an array of random ints. "
   ]
  },
  {
   "cell_type": "code",
   "execution_count": 12,
   "id": "3e5d70f8-8130-47cb-8800-9283f30acd88",
   "metadata": {},
   "outputs": [
    {
     "data": {
      "text/plain": [
       "0    14\n",
       "1    11\n",
       "2    19\n",
       "3    10\n",
       "4    16\n",
       "5    11\n",
       "6    17\n",
       "7    14\n",
       "8    15\n",
       "dtype: int64"
      ]
     },
     "execution_count": 12,
     "metadata": {},
     "output_type": "execute_result"
    }
   ],
   "source": [
    "# set data using an array of random int values\n",
    "data = np.random.randint(10, 20, size=tree.nnodes)\n",
    "tree.set_node_data(feature=\"Y\", data=data).get_node_data(\"Y\")"
   ]
  },
  {
   "cell_type": "markdown",
   "id": "d5aff7bc-aedc-4b65-a30c-ec2d3674e412",
   "metadata": {},
   "source": [
    "## Get Node data\n",
    "The `get_node_data` function is used to retrieve feature data that has been assigned to Nodes in a tree, and to return them in the correct idx order for plotting. Data can be returned for a single feature as a pandas Series, or for multiple features as a pandas DataFrame. When a feature has not been assigned to all Nodes in a tree a default value of `np.nan` will be returned for missing values, but this can be changed to any arbitrary alternative value by entering an argument for the option `missing`."
   ]
  },
  {
   "cell_type": "markdown",
   "id": "0e84e9e1-f6d5-4cae-b5bf-28530e4292e2",
   "metadata": {},
   "source": [
    "### Get a single feature\n",
    "By entering the name of a feature in the tree a pandas Series will be returned with all of the Node values for that feature. Here the Series index contains Node idx labels representing the Nodes in an idxorder traversal of the tree. "
   ]
  },
  {
   "cell_type": "code",
   "execution_count": 13,
   "id": "aa941301-6e26-41f0-b4eb-9ee2958fca7b",
   "metadata": {},
   "outputs": [
    {
     "data": {
      "text/plain": [
       "0    0.333333\n",
       "1    0.333333\n",
       "2    0.666667\n",
       "3    0.666667\n",
       "4    0.666667\n",
       "5    0.333333\n",
       "6    0.333333\n",
       "7    0.333333\n",
       "8    0.000000\n",
       "dtype: float64"
      ]
     },
     "execution_count": 13,
     "metadata": {},
     "output_type": "execute_result"
    }
   ],
   "source": [
    "# return values for feature \"dist\"\n",
    "tree.get_node_data(feature=\"dist\")"
   ]
  },
  {
   "cell_type": "code",
   "execution_count": 14,
   "id": "2bab2de0-a4b2-454f-bb93-69184e64e17f",
   "metadata": {},
   "outputs": [
    {
     "data": {
      "text/plain": [
       "0      A\n",
       "1      B\n",
       "2    NaN\n",
       "3    NaN\n",
       "4    NaN\n",
       "5    NaN\n",
       "6    NaN\n",
       "7    NaN\n",
       "8    NaN\n",
       "dtype: object"
      ]
     },
     "execution_count": 14,
     "metadata": {},
     "output_type": "execute_result"
    }
   ],
   "source": [
    "# return values for feature 'Z' which has data for only 2 Nodes\n",
    "tree.get_node_data(\"Z\")"
   ]
  },
  {
   "cell_type": "code",
   "execution_count": 15,
   "id": "1f126c38-0bbf-476f-8b8c-4f175ae3e872",
   "metadata": {},
   "outputs": [
    {
     "data": {
      "text/plain": [
       "0    A\n",
       "1    B\n",
       "2    C\n",
       "3    C\n",
       "4    C\n",
       "5    C\n",
       "6    C\n",
       "7    C\n",
       "8    C\n",
       "dtype: object"
      ]
     },
     "execution_count": 15,
     "metadata": {},
     "output_type": "execute_result"
    }
   ],
   "source": [
    "# return values for feature 'Z' with an imputed missing value\n",
    "tree.get_node_data(\"Z\", missing=\"C\")"
   ]
  },
  {
   "cell_type": "markdown",
   "id": "b39175ce-b897-48d9-b7ea-152df182a98d",
   "metadata": {},
   "source": [
    "The pandas Series object is convenient to work with since it is accepted by many other `toytree` functions as input, and can can be easily converted to other object types, as demonstrated below."
   ]
  },
  {
   "cell_type": "code",
   "execution_count": 16,
   "id": "9a2cfb06-a025-4e49-8d65-6ac7ac4f15b9",
   "metadata": {},
   "outputs": [
    {
     "data": {
      "text/plain": [
       "{0: 'A', 1: 'B', 2: 'C', 3: 'C', 4: 'C', 5: 'C', 6: 'C', 7: 'C', 8: 'C'}"
      ]
     },
     "execution_count": 16,
     "metadata": {},
     "output_type": "execute_result"
    }
   ],
   "source": [
    "# convert a single trait Series to a dict\n",
    "tree.get_node_data(\"Z\", missing=\"C\").to_dict()"
   ]
  },
  {
   "cell_type": "code",
   "execution_count": 17,
   "id": "1692360b-9ec8-4f96-b019-358de0afa766",
   "metadata": {},
   "outputs": [
    {
     "data": {
      "text/plain": [
       "array(['A', 'B', 'C', 'C', 'C', 'C', 'C', 'C', 'C'], dtype=object)"
      ]
     },
     "execution_count": 17,
     "metadata": {},
     "output_type": "execute_result"
    }
   ],
   "source": [
    "# convert a single trait Series to a numpy ndarray\n",
    "tree.get_node_data(\"Z\", missing=\"C\").values"
   ]
  },
  {
   "cell_type": "markdown",
   "id": "7975ef3c-9095-4621-8a1f-8c2a33038155",
   "metadata": {},
   "source": [
    "### Get multiple features\n",
    "By default the `get_node_data` function returns a DataFrame with data for all features in a tree. In addition to the option to subselect a single feature from the tree, as shown above, you can also select a subset of features to return a DataFrame containing just those features. Finally, an important feature of this function is its application for dealing with missing data. The `missing` argument can accept either a single value to assign to all missing values in the DataFrame, or a list of values to apply separately to each column."
   ]
  },
  {
   "cell_type": "code",
   "execution_count": 18,
   "id": "6e6920e5",
   "metadata": {},
   "outputs": [
    {
     "data": {
      "text/html": [
       "<div>\n",
       "<style scoped>\n",
       "    .dataframe tbody tr th:only-of-type {\n",
       "        vertical-align: middle;\n",
       "    }\n",
       "\n",
       "    .dataframe tbody tr th {\n",
       "        vertical-align: top;\n",
       "    }\n",
       "\n",
       "    .dataframe thead th {\n",
       "        text-align: right;\n",
       "    }\n",
       "</style>\n",
       "<table border=\"1\" class=\"dataframe\">\n",
       "  <thead>\n",
       "    <tr style=\"text-align: right;\">\n",
       "      <th></th>\n",
       "      <th>idx</th>\n",
       "      <th>name</th>\n",
       "      <th>height</th>\n",
       "      <th>dist</th>\n",
       "      <th>support</th>\n",
       "      <th>X</th>\n",
       "      <th>Z</th>\n",
       "    </tr>\n",
       "  </thead>\n",
       "  <tbody>\n",
       "    <tr>\n",
       "      <th>0</th>\n",
       "      <td>0</td>\n",
       "      <td>r0</td>\n",
       "      <td>0.000000</td>\n",
       "      <td>0.333333</td>\n",
       "      <td>NaN</td>\n",
       "      <td>10</td>\n",
       "      <td>A</td>\n",
       "    </tr>\n",
       "    <tr>\n",
       "      <th>1</th>\n",
       "      <td>1</td>\n",
       "      <td>r1</td>\n",
       "      <td>0.000000</td>\n",
       "      <td>0.333333</td>\n",
       "      <td>NaN</td>\n",
       "      <td>10</td>\n",
       "      <td>B</td>\n",
       "    </tr>\n",
       "    <tr>\n",
       "      <th>2</th>\n",
       "      <td>2</td>\n",
       "      <td>r2</td>\n",
       "      <td>0.000000</td>\n",
       "      <td>0.666667</td>\n",
       "      <td>NaN</td>\n",
       "      <td>10</td>\n",
       "      <td>NaN</td>\n",
       "    </tr>\n",
       "    <tr>\n",
       "      <th>3</th>\n",
       "      <td>3</td>\n",
       "      <td>r3</td>\n",
       "      <td>0.000000</td>\n",
       "      <td>0.666667</td>\n",
       "      <td>NaN</td>\n",
       "      <td>10</td>\n",
       "      <td>NaN</td>\n",
       "    </tr>\n",
       "    <tr>\n",
       "      <th>4</th>\n",
       "      <td>4</td>\n",
       "      <td>r4</td>\n",
       "      <td>0.000000</td>\n",
       "      <td>0.666667</td>\n",
       "      <td>NaN</td>\n",
       "      <td>10</td>\n",
       "      <td>NaN</td>\n",
       "    </tr>\n",
       "    <tr>\n",
       "      <th>5</th>\n",
       "      <td>5</td>\n",
       "      <td></td>\n",
       "      <td>0.333333</td>\n",
       "      <td>0.333333</td>\n",
       "      <td>NaN</td>\n",
       "      <td>10</td>\n",
       "      <td>NaN</td>\n",
       "    </tr>\n",
       "    <tr>\n",
       "      <th>6</th>\n",
       "      <td>6</td>\n",
       "      <td></td>\n",
       "      <td>0.666667</td>\n",
       "      <td>0.333333</td>\n",
       "      <td>NaN</td>\n",
       "      <td>10</td>\n",
       "      <td>NaN</td>\n",
       "    </tr>\n",
       "    <tr>\n",
       "      <th>7</th>\n",
       "      <td>7</td>\n",
       "      <td></td>\n",
       "      <td>0.666667</td>\n",
       "      <td>0.333333</td>\n",
       "      <td>NaN</td>\n",
       "      <td>10</td>\n",
       "      <td>NaN</td>\n",
       "    </tr>\n",
       "    <tr>\n",
       "      <th>8</th>\n",
       "      <td>8</td>\n",
       "      <td></td>\n",
       "      <td>1.000000</td>\n",
       "      <td>0.000000</td>\n",
       "      <td>NaN</td>\n",
       "      <td>10</td>\n",
       "      <td>NaN</td>\n",
       "    </tr>\n",
       "  </tbody>\n",
       "</table>\n",
       "</div>"
      ],
      "text/plain": [
       "   idx name    height      dist  support   X    Z\n",
       "0    0   r0  0.000000  0.333333      NaN  10    A\n",
       "1    1   r1  0.000000  0.333333      NaN  10    B\n",
       "2    2   r2  0.000000  0.666667      NaN  10  NaN\n",
       "3    3   r3  0.000000  0.666667      NaN  10  NaN\n",
       "4    4   r4  0.000000  0.666667      NaN  10  NaN\n",
       "5    5       0.333333  0.333333      NaN  10  NaN\n",
       "6    6       0.666667  0.333333      NaN  10  NaN\n",
       "7    7       0.666667  0.333333      NaN  10  NaN\n",
       "8    8       1.000000  0.000000      NaN  10  NaN"
      ]
     },
     "execution_count": 18,
     "metadata": {},
     "output_type": "execute_result"
    }
   ],
   "source": [
    "# return Node values for all features\n",
    "tree.get_node_data()"
   ]
  },
  {
   "cell_type": "code",
   "execution_count": 19,
   "id": "30d79a23-676e-41f5-9ddb-19efc981846e",
   "metadata": {},
   "outputs": [
    {
     "data": {
      "text/html": [
       "<div>\n",
       "<style scoped>\n",
       "    .dataframe tbody tr th:only-of-type {\n",
       "        vertical-align: middle;\n",
       "    }\n",
       "\n",
       "    .dataframe tbody tr th {\n",
       "        vertical-align: top;\n",
       "    }\n",
       "\n",
       "    .dataframe thead th {\n",
       "        text-align: right;\n",
       "    }\n",
       "</style>\n",
       "<table border=\"1\" class=\"dataframe\">\n",
       "  <thead>\n",
       "    <tr style=\"text-align: right;\">\n",
       "      <th></th>\n",
       "      <th>support</th>\n",
       "      <th>Z</th>\n",
       "    </tr>\n",
       "  </thead>\n",
       "  <tbody>\n",
       "    <tr>\n",
       "      <th>0</th>\n",
       "      <td>100</td>\n",
       "      <td>A</td>\n",
       "    </tr>\n",
       "    <tr>\n",
       "      <th>1</th>\n",
       "      <td>100</td>\n",
       "      <td>B</td>\n",
       "    </tr>\n",
       "    <tr>\n",
       "      <th>2</th>\n",
       "      <td>100</td>\n",
       "      <td>C</td>\n",
       "    </tr>\n",
       "    <tr>\n",
       "      <th>3</th>\n",
       "      <td>100</td>\n",
       "      <td>C</td>\n",
       "    </tr>\n",
       "    <tr>\n",
       "      <th>4</th>\n",
       "      <td>100</td>\n",
       "      <td>C</td>\n",
       "    </tr>\n",
       "    <tr>\n",
       "      <th>5</th>\n",
       "      <td>100</td>\n",
       "      <td>C</td>\n",
       "    </tr>\n",
       "    <tr>\n",
       "      <th>6</th>\n",
       "      <td>100</td>\n",
       "      <td>C</td>\n",
       "    </tr>\n",
       "    <tr>\n",
       "      <th>7</th>\n",
       "      <td>100</td>\n",
       "      <td>C</td>\n",
       "    </tr>\n",
       "    <tr>\n",
       "      <th>8</th>\n",
       "      <td>100</td>\n",
       "      <td>C</td>\n",
       "    </tr>\n",
       "  </tbody>\n",
       "</table>\n",
       "</div>"
      ],
      "text/plain": [
       "   support  Z\n",
       "0      100  A\n",
       "1      100  B\n",
       "2      100  C\n",
       "3      100  C\n",
       "4      100  C\n",
       "5      100  C\n",
       "6      100  C\n",
       "7      100  C\n",
       "8      100  C"
      ]
     },
     "execution_count": 19,
     "metadata": {},
     "output_type": "execute_result"
    }
   ],
   "source": [
    "# return values for two features, with different imputed missing values\n",
    "tree.get_node_data([\"support\", \"Z\"], missing=[100, \"C\"])"
   ]
  },
  {
   "cell_type": "markdown",
   "id": "3106e3d6-9116-40ab-adcb-56a81b65b1e6",
   "metadata": {},
   "source": [
    "## Using features\n",
    "One of the primary uses for assigning data to nodes on a tree is to visualize the data. Many arguments to the tree drawing functions accept values to designate the size, color, width, etc. of nodes or edges. These can be entered in three main ways: (1) by extracting the data as a Series using `get_node_data`; (2) by entering the feature name directly as an argument; and (3) by using range or color mapping. The latter to cases simply provide a shorthand syntax for plotting a feature which use `get_node_data` under the hood. Examples are shown below for the two features, \"C\" and \"D\", representing a discrete and continuous data set. "
   ]
  },
  {
   "cell_type": "code",
   "execution_count": 20,
   "id": "9a35c167-f386-4e91-93b4-65427aa02825",
   "metadata": {},
   "outputs": [
    {
     "data": {
      "text/plain": [
       "0     red\n",
       "1     red\n",
       "2     red\n",
       "3    blue\n",
       "4    blue\n",
       "5     red\n",
       "6     red\n",
       "7    blue\n",
       "8    blue\n",
       "dtype: object"
      ]
     },
     "execution_count": 20,
     "metadata": {},
     "output_type": "execute_result"
    }
   ],
   "source": [
    "# set a color name as 'red' or 'blue' to all nodes for feature \"C\"\n",
    "tree.set_node_data(\"C\", {6: \"red\"}, inherit=True, default=\"blue\", inplace=True).get_node_data(\"C\")"
   ]
  },
  {
   "cell_type": "code",
   "execution_count": 21,
   "id": "9427654d-45fb-473b-a207-81fc061f3ce3",
   "metadata": {},
   "outputs": [
    {
     "data": {
      "text/plain": [
       "0    0.773484\n",
       "1    0.840667\n",
       "2    0.503796\n",
       "3    0.736419\n",
       "4    0.374351\n",
       "5    0.737745\n",
       "6    0.537203\n",
       "7    0.387983\n",
       "8    0.136558\n",
       "dtype: float64"
      ]
     },
     "execution_count": 21,
     "metadata": {},
     "output_type": "execute_result"
    }
   ],
   "source": [
    "# set random float values in (0-1) to all nodes for feature \"D\"\n",
    "tree.set_node_data(\"D\", np.random.random(tree.nnodes), inplace=True).get_node_data(\"D\")"
   ]
  },
  {
   "cell_type": "markdown",
   "id": "995d20c4-0aad-4789-a479-37db97bb02c6",
   "metadata": {},
   "source": [
    "**(1)** The first method for extracting data from a tree to use for plotting makes use of the `get_node_data` function call. Here we call the function from the same tree object that is being plotted, and select the feature \"C\" of discrete data values. This returns a Series object with the values in the correct order (idxorder) for plotting on the nodes, which are then parsed as a `node_colors` argument."
   ]
  },
  {
   "cell_type": "code",
   "execution_count": 22,
   "id": "63ba13db-6aa6-4ab5-9785-a9c79aab94eb",
   "metadata": {},
   "outputs": [
    {
     "data": {
      "text/html": [
       "<div class=\"toyplot\" id=\"te9fab6273bde477ea87b94187c4bb447\" style=\"text-align:center\"><svg class=\"toyplot-canvas-Canvas\" xmlns:toyplot=\"http://www.sandia.gov/toyplot\" xmlns:xlink=\"http://www.w3.org/1999/xlink\" xmlns=\"http://www.w3.org/2000/svg\" width=\"300.0px\" height=\"275.0px\" viewBox=\"0 0 300.0 275.0\" preserveAspectRatio=\"xMidYMid meet\" style=\"background-color:transparent;border-color:#292724;border-style:none;border-width:1.0;fill:rgb(16.1%,15.3%,14.1%);fill-opacity:1.0;font-family:Helvetica;font-size:12px;opacity:1.0;stroke:rgb(16.1%,15.3%,14.1%);stroke-opacity:1.0;stroke-width:1.0\" id=\"t57b2b8cf8c7140658033a4f725fd5747\"><g class=\"toyplot-coordinates-Cartesian\" id=\"ta368d7a0ab6243279f58f44e5c205d56\"><clipPath id=\"tc102f46fb5bd4214bc11ef27ca47429a\"><rect x=\"35.0\" y=\"35.0\" width=\"230.0\" height=\"205.0\"></rect></clipPath><g clip-path=\"url(#tc102f46fb5bd4214bc11ef27ca47429a)\"><g class=\"toytree-mark-Toytree\" id=\"t95c68c71b1774ea4a9464cee533d3f27\"><g class=\"toytree-Edges\" style=\"stroke:rgb(14.5%,14.5%,14.5%);stroke-opacity:1.0;stroke-linecap:round;stroke-width:2.0;fill:none\"><path d=\"M 159.3 197.0 L 159.3 216.8 L 210.6 216.8\" id=\"5,0\" style=\"\"></path><path d=\"M 159.3 197.0 L 159.3 177.2 L 210.6 177.2\" id=\"5,1\" style=\"\"></path><path d=\"M 108.1 167.3 L 108.1 137.5 L 210.6 137.5\" id=\"6,2\" style=\"\"></path><path d=\"M 108.1 78.0 L 108.1 97.8 L 210.6 97.8\" id=\"7,3\" style=\"\"></path><path d=\"M 108.1 78.0 L 108.1 58.2 L 210.6 58.2\" id=\"7,4\" style=\"\"></path><path d=\"M 108.1 167.3 L 108.1 197.0 L 159.3 197.0\" id=\"6,5\" style=\"\"></path><path d=\"M 56.9 122.6 L 56.9 167.3 L 108.1 167.3\" id=\"8,6\" style=\"\"></path><path d=\"M 56.9 122.6 L 56.9 78.0 L 108.1 78.0\" id=\"8,7\" style=\"\"></path></g><g class=\"toytree-AdmixEdges\" style=\"fill:rgb(0.0%,0.0%,0.0%);fill-opacity:0.0;stroke:rgb(90.6%,54.1%,76.5%);stroke-opacity:0.6;font-size:14px;stroke-linecap:round;stroke-width:5\"></g><g class=\"toytree-Nodes\" style=\"fill:rgb(40.0%,76.1%,64.7%);fill-opacity:1.0;stroke:rgb(14.9%,14.9%,14.9%);stroke-opacity:1.0;stroke-width:1.5\"><g id=\"Node-0\" style=\"fill:rgb(100.0%,0.0%,0.0%)\" transform=\"translate(210.562,216.839)\"><circle r=\"7.5\"></circle></g><g id=\"Node-1\" style=\"fill:rgb(100.0%,0.0%,0.0%)\" transform=\"translate(210.562,177.17)\"><circle r=\"7.5\"></circle></g><g id=\"Node-2\" style=\"fill:rgb(100.0%,0.0%,0.0%)\" transform=\"translate(210.562,137.5)\"><circle r=\"7.5\"></circle></g><g id=\"Node-3\" style=\"fill:rgb(0.0%,0.0%,100.0%)\" transform=\"translate(210.562,97.8303)\"><circle r=\"7.5\"></circle></g><g id=\"Node-4\" style=\"fill:rgb(0.0%,0.0%,100.0%)\" transform=\"translate(210.562,58.1606)\"><circle r=\"7.5\"></circle></g><g id=\"Node-5\" style=\"fill:rgb(100.0%,0.0%,0.0%)\" transform=\"translate(159.346,197.005)\"><circle r=\"7.5\"></circle></g><g id=\"Node-6\" style=\"fill:rgb(100.0%,0.0%,0.0%)\" transform=\"translate(108.13,167.252)\"><circle r=\"7.5\"></circle></g><g id=\"Node-7\" style=\"fill:rgb(0.0%,0.0%,100.0%)\" transform=\"translate(108.13,77.9955)\"><circle r=\"7.5\"></circle></g><g id=\"Node-8\" style=\"fill:rgb(0.0%,0.0%,100.0%)\" transform=\"translate(56.9141,122.624)\"><circle r=\"7.5\"></circle></g></g><g class=\"toytree-TipLabels\" style=\"fill:rgb(14.5%,14.5%,14.5%);fill-opacity:1.0;font-family:Helvetica;font-size:12px;font-weight:300;vertical-align:baseline;white-space:pre;stroke:none\"><g class=\"toytree-TipLabel\" transform=\"translate(210.562,216.839)\"><text x=\"15.0\" y=\"3.066\" style=\"fill:rgb(14.5%,14.5%,14.5%);fill-opacity:1.0\">r0</text></g><g class=\"toytree-TipLabel\" transform=\"translate(210.562,177.17)\"><text x=\"15.0\" y=\"3.066\" style=\"fill:rgb(14.5%,14.5%,14.5%);fill-opacity:1.0\">r1</text></g><g class=\"toytree-TipLabel\" transform=\"translate(210.562,137.5)\"><text x=\"15.0\" y=\"3.066\" style=\"fill:rgb(14.5%,14.5%,14.5%);fill-opacity:1.0\">r2</text></g><g class=\"toytree-TipLabel\" transform=\"translate(210.562,97.8303)\"><text x=\"15.0\" y=\"3.066\" style=\"fill:rgb(14.5%,14.5%,14.5%);fill-opacity:1.0\">r3</text></g><g class=\"toytree-TipLabel\" transform=\"translate(210.562,58.1606)\"><text x=\"15.0\" y=\"3.066\" style=\"fill:rgb(14.5%,14.5%,14.5%);fill-opacity:1.0\">r4</text></g></g></g></g></g></svg><div class=\"toyplot-behavior\"><script>(function()\n",
       "{\n",
       "var modules={};\n",
       "})();</script></div></div>"
      ]
     },
     "metadata": {},
     "output_type": "display_data"
    }
   ],
   "source": [
    "# draw with node colors entered from the \"C\" discrete data feature\n",
    "tree.draw(node_sizes=15, node_mask=False, node_colors=tree.get_node_data(\"C\"));"
   ]
  },
  {
   "cell_type": "markdown",
   "id": "eafa6191-9a06-41d8-9536-e700270ef850",
   "metadata": {},
   "source": [
    "**(2)** The second method for extracting data from a tree uses a simpler syntax, entering only the feature name as a string to the `node_colors` argument. Here, the `draw` function will identify that \"C\" is a valid feature of this tree object, and it will extract the \"C\" feature data from the tree. Compared to the syntax above, this looks cleaner, but has the downside that you cannot enter additional options to fill a value for missing data. "
   ]
  },
  {
   "cell_type": "code",
   "execution_count": 23,
   "id": "90162633-8679-442e-b3fa-2a010ef6241c",
   "metadata": {},
   "outputs": [
    {
     "data": {
      "text/html": [
       "<div class=\"toyplot\" id=\"tb34e264910b1458baa314a9723593998\" style=\"text-align:center\"><svg class=\"toyplot-canvas-Canvas\" xmlns:toyplot=\"http://www.sandia.gov/toyplot\" xmlns:xlink=\"http://www.w3.org/1999/xlink\" xmlns=\"http://www.w3.org/2000/svg\" width=\"300.0px\" height=\"275.0px\" viewBox=\"0 0 300.0 275.0\" preserveAspectRatio=\"xMidYMid meet\" style=\"background-color:transparent;border-color:#292724;border-style:none;border-width:1.0;fill:rgb(16.1%,15.3%,14.1%);fill-opacity:1.0;font-family:Helvetica;font-size:12px;opacity:1.0;stroke:rgb(16.1%,15.3%,14.1%);stroke-opacity:1.0;stroke-width:1.0\" id=\"t3656bc2d820a44c584e118e62ecf636f\"><g class=\"toyplot-coordinates-Cartesian\" id=\"ta52552bbc666437296ca34e8f36943bc\"><clipPath id=\"t9eac1a3073364ac2b267158770c43830\"><rect x=\"35.0\" y=\"35.0\" width=\"230.0\" height=\"205.0\"></rect></clipPath><g clip-path=\"url(#t9eac1a3073364ac2b267158770c43830)\"><g class=\"toytree-mark-Toytree\" id=\"t9148be5db04844c4956f72ad3932cbd3\"><g class=\"toytree-Edges\" style=\"stroke:rgb(14.5%,14.5%,14.5%);stroke-opacity:1.0;stroke-linecap:round;stroke-width:2.0;fill:none\"><path d=\"M 159.3 197.0 L 159.3 216.8 L 210.6 216.8\" id=\"5,0\" style=\"\"></path><path d=\"M 159.3 197.0 L 159.3 177.2 L 210.6 177.2\" id=\"5,1\" style=\"\"></path><path d=\"M 108.1 167.3 L 108.1 137.5 L 210.6 137.5\" id=\"6,2\" style=\"\"></path><path d=\"M 108.1 78.0 L 108.1 97.8 L 210.6 97.8\" id=\"7,3\" style=\"\"></path><path d=\"M 108.1 78.0 L 108.1 58.2 L 210.6 58.2\" id=\"7,4\" style=\"\"></path><path d=\"M 108.1 167.3 L 108.1 197.0 L 159.3 197.0\" id=\"6,5\" style=\"\"></path><path d=\"M 56.9 122.6 L 56.9 167.3 L 108.1 167.3\" id=\"8,6\" style=\"\"></path><path d=\"M 56.9 122.6 L 56.9 78.0 L 108.1 78.0\" id=\"8,7\" style=\"\"></path></g><g class=\"toytree-AdmixEdges\" style=\"fill:rgb(0.0%,0.0%,0.0%);fill-opacity:0.0;stroke:rgb(90.6%,54.1%,76.5%);stroke-opacity:0.6;font-size:14px;stroke-linecap:round;stroke-width:5\"></g><g class=\"toytree-Nodes\" style=\"fill:rgb(40.0%,76.1%,64.7%);fill-opacity:1.0;stroke:rgb(14.9%,14.9%,14.9%);stroke-opacity:1.0;stroke-width:1.5\"><g id=\"Node-0\" style=\"fill:rgb(100.0%,0.0%,0.0%)\" transform=\"translate(210.562,216.839)\"><circle r=\"7.5\"></circle></g><g id=\"Node-1\" style=\"fill:rgb(100.0%,0.0%,0.0%)\" transform=\"translate(210.562,177.17)\"><circle r=\"7.5\"></circle></g><g id=\"Node-2\" style=\"fill:rgb(100.0%,0.0%,0.0%)\" transform=\"translate(210.562,137.5)\"><circle r=\"7.5\"></circle></g><g id=\"Node-3\" style=\"fill:rgb(0.0%,0.0%,100.0%)\" transform=\"translate(210.562,97.8303)\"><circle r=\"7.5\"></circle></g><g id=\"Node-4\" style=\"fill:rgb(0.0%,0.0%,100.0%)\" transform=\"translate(210.562,58.1606)\"><circle r=\"7.5\"></circle></g><g id=\"Node-5\" style=\"fill:rgb(100.0%,0.0%,0.0%)\" transform=\"translate(159.346,197.005)\"><circle r=\"7.5\"></circle></g><g id=\"Node-6\" style=\"fill:rgb(100.0%,0.0%,0.0%)\" transform=\"translate(108.13,167.252)\"><circle r=\"7.5\"></circle></g><g id=\"Node-7\" style=\"fill:rgb(0.0%,0.0%,100.0%)\" transform=\"translate(108.13,77.9955)\"><circle r=\"7.5\"></circle></g><g id=\"Node-8\" style=\"fill:rgb(0.0%,0.0%,100.0%)\" transform=\"translate(56.9141,122.624)\"><circle r=\"7.5\"></circle></g></g><g class=\"toytree-TipLabels\" style=\"fill:rgb(14.5%,14.5%,14.5%);fill-opacity:1.0;font-family:Helvetica;font-size:12px;font-weight:300;vertical-align:baseline;white-space:pre;stroke:none\"><g class=\"toytree-TipLabel\" transform=\"translate(210.562,216.839)\"><text x=\"15.0\" y=\"3.066\" style=\"fill:rgb(14.5%,14.5%,14.5%);fill-opacity:1.0\">r0</text></g><g class=\"toytree-TipLabel\" transform=\"translate(210.562,177.17)\"><text x=\"15.0\" y=\"3.066\" style=\"fill:rgb(14.5%,14.5%,14.5%);fill-opacity:1.0\">r1</text></g><g class=\"toytree-TipLabel\" transform=\"translate(210.562,137.5)\"><text x=\"15.0\" y=\"3.066\" style=\"fill:rgb(14.5%,14.5%,14.5%);fill-opacity:1.0\">r2</text></g><g class=\"toytree-TipLabel\" transform=\"translate(210.562,97.8303)\"><text x=\"15.0\" y=\"3.066\" style=\"fill:rgb(14.5%,14.5%,14.5%);fill-opacity:1.0\">r3</text></g><g class=\"toytree-TipLabel\" transform=\"translate(210.562,58.1606)\"><text x=\"15.0\" y=\"3.066\" style=\"fill:rgb(14.5%,14.5%,14.5%);fill-opacity:1.0\">r4</text></g></g></g></g></g></svg><div class=\"toyplot-behavior\"><script>(function()\n",
       "{\n",
       "var modules={};\n",
       "})();</script></div></div>"
      ]
     },
     "metadata": {},
     "output_type": "display_data"
    }
   ],
   "source": [
    "# draw with node colors automatically extracted from the \"C\" feature\n",
    "tree.draw(node_sizes=15, node_mask=False, node_colors=\"C\");"
   ]
  },
  {
   "cell_type": "markdown",
   "id": "4b0ea57b-bad2-4530-97ca-7f9a339d31d6",
   "metadata": {},
   "source": [
    "**(3)** The third method uses toytree's \"tuple syntax\" that is used for range and color mapping (See [*range-mapping*](/toytree/range-mapping) and [*color-mapping*](/toytree/color-mapping)). For colors, you can enter (feature name, colormap, min-value, max-value, nan-value), to map any feature to any range of colors in a colormap. Only the first argument is required, with additional args providing style options, as shown below."
   ]
  },
  {
   "cell_type": "code",
   "execution_count": 24,
   "id": "544020d1-2fff-4324-8ecd-cd1ddb2775e3",
   "metadata": {},
   "outputs": [
    {
     "data": {
      "text/html": [
       "<div class=\"toyplot\" id=\"t57db2534842b4001891253727d3ec7b7\" style=\"text-align:center\"><svg class=\"toyplot-canvas-Canvas\" xmlns:toyplot=\"http://www.sandia.gov/toyplot\" xmlns:xlink=\"http://www.w3.org/1999/xlink\" xmlns=\"http://www.w3.org/2000/svg\" width=\"300.0px\" height=\"275.0px\" viewBox=\"0 0 300.0 275.0\" preserveAspectRatio=\"xMidYMid meet\" style=\"background-color:transparent;border-color:#292724;border-style:none;border-width:1.0;fill:rgb(16.1%,15.3%,14.1%);fill-opacity:1.0;font-family:Helvetica;font-size:12px;opacity:1.0;stroke:rgb(16.1%,15.3%,14.1%);stroke-opacity:1.0;stroke-width:1.0\" id=\"t6f55d518b93c40af992bb984128a9b1a\"><g class=\"toyplot-coordinates-Cartesian\" id=\"t265377af06324bada99238da4ff79cdf\"><clipPath id=\"t670d47084045436799ee89a1d28f270f\"><rect x=\"35.0\" y=\"35.0\" width=\"230.0\" height=\"205.0\"></rect></clipPath><g clip-path=\"url(#t670d47084045436799ee89a1d28f270f)\"><g class=\"toytree-mark-Toytree\" id=\"te111d547c0c845338256d6a375ec5b3c\"><g class=\"toytree-Edges\" style=\"stroke:rgb(14.5%,14.5%,14.5%);stroke-opacity:1.0;stroke-linecap:round;stroke-width:2.0;fill:none\"><path d=\"M 159.3 197.0 L 159.3 216.8 L 210.6 216.8\" id=\"5,0\" style=\"\"></path><path d=\"M 159.3 197.0 L 159.3 177.2 L 210.6 177.2\" id=\"5,1\" style=\"\"></path><path d=\"M 108.1 167.3 L 108.1 137.5 L 210.6 137.5\" id=\"6,2\" style=\"\"></path><path d=\"M 108.1 78.0 L 108.1 97.8 L 210.6 97.8\" id=\"7,3\" style=\"\"></path><path d=\"M 108.1 78.0 L 108.1 58.2 L 210.6 58.2\" id=\"7,4\" style=\"\"></path><path d=\"M 108.1 167.3 L 108.1 197.0 L 159.3 197.0\" id=\"6,5\" style=\"\"></path><path d=\"M 56.9 122.6 L 56.9 167.3 L 108.1 167.3\" id=\"8,6\" style=\"\"></path><path d=\"M 56.9 122.6 L 56.9 78.0 L 108.1 78.0\" id=\"8,7\" style=\"\"></path></g><g class=\"toytree-AdmixEdges\" style=\"fill:rgb(0.0%,0.0%,0.0%);fill-opacity:0.0;stroke:rgb(90.6%,54.1%,76.5%);stroke-opacity:0.6;font-size:14px;stroke-linecap:round;stroke-width:5\"></g><g class=\"toytree-Nodes\" style=\"fill:rgb(40.0%,76.1%,64.7%);fill-opacity:1.0;stroke:rgb(14.9%,14.9%,14.9%);stroke-opacity:1.0;stroke-width:1.5\"><g id=\"Node-0\" style=\"fill:rgb(98.8%,55.3%,34.9%)\" transform=\"translate(210.562,216.839)\"><circle r=\"7.5\"></circle></g><g id=\"Node-1\" style=\"fill:rgb(98.8%,55.3%,34.9%)\" transform=\"translate(210.562,177.17)\"><circle r=\"7.5\"></circle></g><g id=\"Node-2\" style=\"fill:rgb(98.8%,55.3%,34.9%)\" transform=\"translate(210.562,137.5)\"><circle r=\"7.5\"></circle></g><g id=\"Node-3\" style=\"fill:rgb(60.0%,83.5%,58.0%)\" transform=\"translate(210.562,97.8303)\"><circle r=\"7.5\"></circle></g><g id=\"Node-4\" style=\"fill:rgb(60.0%,83.5%,58.0%)\" transform=\"translate(210.562,58.1606)\"><circle r=\"7.5\"></circle></g><g id=\"Node-5\" style=\"fill:rgb(98.8%,55.3%,34.9%)\" transform=\"translate(159.346,197.005)\"><circle r=\"7.5\"></circle></g><g id=\"Node-6\" style=\"fill:rgb(98.8%,55.3%,34.9%)\" transform=\"translate(108.13,167.252)\"><circle r=\"7.5\"></circle></g><g id=\"Node-7\" style=\"fill:rgb(60.0%,83.5%,58.0%)\" transform=\"translate(108.13,77.9955)\"><circle r=\"7.5\"></circle></g><g id=\"Node-8\" style=\"fill:rgb(60.0%,83.5%,58.0%)\" transform=\"translate(56.9141,122.624)\"><circle r=\"7.5\"></circle></g></g><g class=\"toytree-TipLabels\" style=\"fill:rgb(14.5%,14.5%,14.5%);fill-opacity:1.0;font-family:Helvetica;font-size:12px;font-weight:300;vertical-align:baseline;white-space:pre;stroke:none\"><g class=\"toytree-TipLabel\" transform=\"translate(210.562,216.839)\"><text x=\"15.0\" y=\"3.066\" style=\"fill:rgb(14.5%,14.5%,14.5%);fill-opacity:1.0\">r0</text></g><g class=\"toytree-TipLabel\" transform=\"translate(210.562,177.17)\"><text x=\"15.0\" y=\"3.066\" style=\"fill:rgb(14.5%,14.5%,14.5%);fill-opacity:1.0\">r1</text></g><g class=\"toytree-TipLabel\" transform=\"translate(210.562,137.5)\"><text x=\"15.0\" y=\"3.066\" style=\"fill:rgb(14.5%,14.5%,14.5%);fill-opacity:1.0\">r2</text></g><g class=\"toytree-TipLabel\" transform=\"translate(210.562,97.8303)\"><text x=\"15.0\" y=\"3.066\" style=\"fill:rgb(14.5%,14.5%,14.5%);fill-opacity:1.0\">r3</text></g><g class=\"toytree-TipLabel\" transform=\"translate(210.562,58.1606)\"><text x=\"15.0\" y=\"3.066\" style=\"fill:rgb(14.5%,14.5%,14.5%);fill-opacity:1.0\">r4</text></g></g></g></g></g></svg><div class=\"toyplot-behavior\"><script>(function()\n",
       "{\n",
       "var modules={};\n",
       "})();</script></div></div>"
      ]
     },
     "metadata": {},
     "output_type": "display_data"
    }
   ],
   "source": [
    "# draw with node colors extracted and colormapped from the \"C\" feature\n",
    "tree.draw(node_sizes=15, node_mask=False, node_colors=(\"C\",));"
   ]
  },
  {
   "cell_type": "code",
   "execution_count": 25,
   "id": "d3f718ef-b9d2-4c69-9025-a9a12008cbf4",
   "metadata": {},
   "outputs": [
    {
     "data": {
      "text/html": [
       "<div class=\"toyplot\" id=\"tc888faf7099542748290f11ea17061bb\" style=\"text-align:center\"><svg class=\"toyplot-canvas-Canvas\" xmlns:toyplot=\"http://www.sandia.gov/toyplot\" xmlns:xlink=\"http://www.w3.org/1999/xlink\" xmlns=\"http://www.w3.org/2000/svg\" width=\"300.0px\" height=\"275.0px\" viewBox=\"0 0 300.0 275.0\" preserveAspectRatio=\"xMidYMid meet\" style=\"background-color:transparent;border-color:#292724;border-style:none;border-width:1.0;fill:rgb(16.1%,15.3%,14.1%);fill-opacity:1.0;font-family:Helvetica;font-size:12px;opacity:1.0;stroke:rgb(16.1%,15.3%,14.1%);stroke-opacity:1.0;stroke-width:1.0\" id=\"t9aeab65d49764963a797008704bde640\"><g class=\"toyplot-coordinates-Cartesian\" id=\"t197914ebbb154640b1dee33bb99d7c2a\"><clipPath id=\"t705ccd3bc75647468c3121707e5dd2a4\"><rect x=\"35.0\" y=\"35.0\" width=\"230.0\" height=\"205.0\"></rect></clipPath><g clip-path=\"url(#t705ccd3bc75647468c3121707e5dd2a4)\"><g class=\"toytree-mark-Toytree\" id=\"t3d7ee08a852846328e6bef333a3af97a\"><g class=\"toytree-Edges\" style=\"stroke:rgb(14.5%,14.5%,14.5%);stroke-opacity:1.0;stroke-linecap:round;stroke-width:2.0;fill:none\"><path d=\"M 159.3 197.0 L 159.3 216.8 L 210.6 216.8\" id=\"5,0\" style=\"\"></path><path d=\"M 159.3 197.0 L 159.3 177.2 L 210.6 177.2\" id=\"5,1\" style=\"\"></path><path d=\"M 108.1 167.3 L 108.1 137.5 L 210.6 137.5\" id=\"6,2\" style=\"\"></path><path d=\"M 108.1 78.0 L 108.1 97.8 L 210.6 97.8\" id=\"7,3\" style=\"\"></path><path d=\"M 108.1 78.0 L 108.1 58.2 L 210.6 58.2\" id=\"7,4\" style=\"\"></path><path d=\"M 108.1 167.3 L 108.1 197.0 L 159.3 197.0\" id=\"6,5\" style=\"\"></path><path d=\"M 56.9 122.6 L 56.9 167.3 L 108.1 167.3\" id=\"8,6\" style=\"\"></path><path d=\"M 56.9 122.6 L 56.9 78.0 L 108.1 78.0\" id=\"8,7\" style=\"\"></path></g><g class=\"toytree-AdmixEdges\" style=\"fill:rgb(0.0%,0.0%,0.0%);fill-opacity:0.0;stroke:rgb(90.6%,54.1%,76.5%);stroke-opacity:0.6;font-size:14px;stroke-linecap:round;stroke-width:5\"></g><g class=\"toytree-Nodes\" style=\"fill:rgb(40.0%,76.1%,64.7%);fill-opacity:1.0;stroke:rgb(14.9%,14.9%,14.9%);stroke-opacity:1.0;stroke-width:1.5\"><g id=\"Node-0\" style=\"fill:rgb(93.7%,54.1%,38.4%)\" transform=\"translate(210.562,216.839)\"><circle r=\"7.5\"></circle></g><g id=\"Node-1\" style=\"fill:rgb(93.7%,54.1%,38.4%)\" transform=\"translate(210.562,177.17)\"><circle r=\"7.5\"></circle></g><g id=\"Node-2\" style=\"fill:rgb(93.7%,54.1%,38.4%)\" transform=\"translate(210.562,137.5)\"><circle r=\"7.5\"></circle></g><g id=\"Node-3\" style=\"fill:rgb(40.4%,66.3%,81.2%)\" transform=\"translate(210.562,97.8303)\"><circle r=\"7.5\"></circle></g><g id=\"Node-4\" style=\"fill:rgb(40.4%,66.3%,81.2%)\" transform=\"translate(210.562,58.1606)\"><circle r=\"7.5\"></circle></g><g id=\"Node-5\" style=\"fill:rgb(93.7%,54.1%,38.4%)\" transform=\"translate(159.346,197.005)\"><circle r=\"7.5\"></circle></g><g id=\"Node-6\" style=\"fill:rgb(93.7%,54.1%,38.4%)\" transform=\"translate(108.13,167.252)\"><circle r=\"7.5\"></circle></g><g id=\"Node-7\" style=\"fill:rgb(40.4%,66.3%,81.2%)\" transform=\"translate(108.13,77.9955)\"><circle r=\"7.5\"></circle></g><g id=\"Node-8\" style=\"fill:rgb(40.4%,66.3%,81.2%)\" transform=\"translate(56.9141,122.624)\"><circle r=\"7.5\"></circle></g></g><g class=\"toytree-TipLabels\" style=\"fill:rgb(14.5%,14.5%,14.5%);fill-opacity:1.0;font-family:Helvetica;font-size:12px;font-weight:300;vertical-align:baseline;white-space:pre;stroke:none\"><g class=\"toytree-TipLabel\" transform=\"translate(210.562,216.839)\"><text x=\"15.0\" y=\"3.066\" style=\"fill:rgb(14.5%,14.5%,14.5%);fill-opacity:1.0\">r0</text></g><g class=\"toytree-TipLabel\" transform=\"translate(210.562,177.17)\"><text x=\"15.0\" y=\"3.066\" style=\"fill:rgb(14.5%,14.5%,14.5%);fill-opacity:1.0\">r1</text></g><g class=\"toytree-TipLabel\" transform=\"translate(210.562,137.5)\"><text x=\"15.0\" y=\"3.066\" style=\"fill:rgb(14.5%,14.5%,14.5%);fill-opacity:1.0\">r2</text></g><g class=\"toytree-TipLabel\" transform=\"translate(210.562,97.8303)\"><text x=\"15.0\" y=\"3.066\" style=\"fill:rgb(14.5%,14.5%,14.5%);fill-opacity:1.0\">r3</text></g><g class=\"toytree-TipLabel\" transform=\"translate(210.562,58.1606)\"><text x=\"15.0\" y=\"3.066\" style=\"fill:rgb(14.5%,14.5%,14.5%);fill-opacity:1.0\">r4</text></g></g></g></g></g></svg><div class=\"toyplot-behavior\"><script>(function()\n",
       "{\n",
       "var modules={};\n",
       "})();</script></div></div>"
      ]
     },
     "metadata": {},
     "output_type": "display_data"
    }
   ],
   "source": [
    "# draw with node colors extracted and colormapped to BlueRed from \"C\"\n",
    "tree.draw(node_sizes=15, node_mask=False, node_colors=(\"C\", \"BlueRed\"));"
   ]
  },
  {
   "cell_type": "code",
   "execution_count": 26,
   "id": "41dd39f3-3f21-482e-91e9-aa4491a1f1a4",
   "metadata": {},
   "outputs": [
    {
     "data": {
      "text/html": [
       "<div class=\"toyplot\" id=\"t985d1791a16740b7bed58217eeeb2aed\" style=\"text-align:center\"><svg class=\"toyplot-canvas-Canvas\" xmlns:toyplot=\"http://www.sandia.gov/toyplot\" xmlns:xlink=\"http://www.w3.org/1999/xlink\" xmlns=\"http://www.w3.org/2000/svg\" width=\"300.0px\" height=\"275.0px\" viewBox=\"0 0 300.0 275.0\" preserveAspectRatio=\"xMidYMid meet\" style=\"background-color:transparent;border-color:#292724;border-style:none;border-width:1.0;fill:rgb(16.1%,15.3%,14.1%);fill-opacity:1.0;font-family:Helvetica;font-size:12px;opacity:1.0;stroke:rgb(16.1%,15.3%,14.1%);stroke-opacity:1.0;stroke-width:1.0\" id=\"t6e03c92e4a8542fc865e73ce412c8da4\"><g class=\"toyplot-coordinates-Cartesian\" id=\"tbc3817042d8b4ddbb0e0b98ec7c4438a\"><clipPath id=\"t88845e1f1d3c498cb036341da658f1e8\"><rect x=\"35.0\" y=\"35.0\" width=\"230.0\" height=\"205.0\"></rect></clipPath><g clip-path=\"url(#t88845e1f1d3c498cb036341da658f1e8)\"><g class=\"toytree-mark-Toytree\" id=\"t660fc3b9d5494c6983c0c94ae7e40b4d\"><g class=\"toytree-Edges\" style=\"stroke:rgb(14.5%,14.5%,14.5%);stroke-opacity:1.0;stroke-linecap:round;stroke-width:2.0;fill:none\"><path d=\"M 159.3 197.0 L 159.3 216.8 L 210.6 216.8\" id=\"5,0\" style=\"\"></path><path d=\"M 159.3 197.0 L 159.3 177.2 L 210.6 177.2\" id=\"5,1\" style=\"\"></path><path d=\"M 108.1 167.3 L 108.1 137.5 L 210.6 137.5\" id=\"6,2\" style=\"\"></path><path d=\"M 108.1 78.0 L 108.1 97.8 L 210.6 97.8\" id=\"7,3\" style=\"\"></path><path d=\"M 108.1 78.0 L 108.1 58.2 L 210.6 58.2\" id=\"7,4\" style=\"\"></path><path d=\"M 108.1 167.3 L 108.1 197.0 L 159.3 197.0\" id=\"6,5\" style=\"\"></path><path d=\"M 56.9 122.6 L 56.9 167.3 L 108.1 167.3\" id=\"8,6\" style=\"\"></path><path d=\"M 56.9 122.6 L 56.9 78.0 L 108.1 78.0\" id=\"8,7\" style=\"\"></path></g><g class=\"toytree-AdmixEdges\" style=\"fill:rgb(0.0%,0.0%,0.0%);fill-opacity:0.0;stroke:rgb(90.6%,54.1%,76.5%);stroke-opacity:0.6;font-size:14px;stroke-linecap:round;stroke-width:5\"></g><g class=\"toytree-Nodes\" style=\"fill:rgb(40.0%,76.1%,64.7%);fill-opacity:1.0;stroke:rgb(14.9%,14.9%,14.9%);stroke-opacity:1.0;stroke-width:1.5\"><g id=\"Node-0\" style=\"fill:rgb(68.5%,9.0%,16.6%)\" transform=\"translate(210.562,216.839)\"><circle r=\"7.5\"></circle></g><g id=\"Node-1\" style=\"fill:rgb(40.4%,0.0%,12.2%)\" transform=\"translate(210.562,177.17)\"><circle r=\"7.5\"></circle></g><g id=\"Node-2\" style=\"fill:rgb(97.4%,94.5%,92.8%)\" transform=\"translate(210.562,137.5)\"><circle r=\"7.5\"></circle></g><g id=\"Node-3\" style=\"fill:rgb(76.6%,23.0%,23.3%)\" transform=\"translate(210.562,97.8303)\"><circle r=\"7.5\"></circle></g><g id=\"Node-4\" style=\"fill:rgb(66.6%,82.0%,89.7%)\" transform=\"translate(210.562,58.1606)\"><circle r=\"7.5\"></circle></g><g id=\"Node-5\" style=\"fill:rgb(76.3%,22.4%,23.0%)\" transform=\"translate(159.346,197.005)\"><circle r=\"7.5\"></circle></g><g id=\"Node-6\" style=\"fill:rgb(98.5%,89.3%,83.9%)\" transform=\"translate(108.13,167.252)\"><circle r=\"7.5\"></circle></g><g id=\"Node-7\" style=\"fill:rgb(71.4%,84.4%,91.1%)\" transform=\"translate(108.13,77.9955)\"><circle r=\"7.5\"></circle></g><g id=\"Node-8\" style=\"fill:rgb(2.0%,18.8%,38.0%)\" transform=\"translate(56.9141,122.624)\"><circle r=\"7.5\"></circle></g></g><g class=\"toytree-TipLabels\" style=\"fill:rgb(14.5%,14.5%,14.5%);fill-opacity:1.0;font-family:Helvetica;font-size:12px;font-weight:300;vertical-align:baseline;white-space:pre;stroke:none\"><g class=\"toytree-TipLabel\" transform=\"translate(210.562,216.839)\"><text x=\"15.0\" y=\"3.066\" style=\"fill:rgb(14.5%,14.5%,14.5%);fill-opacity:1.0\">r0</text></g><g class=\"toytree-TipLabel\" transform=\"translate(210.562,177.17)\"><text x=\"15.0\" y=\"3.066\" style=\"fill:rgb(14.5%,14.5%,14.5%);fill-opacity:1.0\">r1</text></g><g class=\"toytree-TipLabel\" transform=\"translate(210.562,137.5)\"><text x=\"15.0\" y=\"3.066\" style=\"fill:rgb(14.5%,14.5%,14.5%);fill-opacity:1.0\">r2</text></g><g class=\"toytree-TipLabel\" transform=\"translate(210.562,97.8303)\"><text x=\"15.0\" y=\"3.066\" style=\"fill:rgb(14.5%,14.5%,14.5%);fill-opacity:1.0\">r3</text></g><g class=\"toytree-TipLabel\" transform=\"translate(210.562,58.1606)\"><text x=\"15.0\" y=\"3.066\" style=\"fill:rgb(14.5%,14.5%,14.5%);fill-opacity:1.0\">r4</text></g></g></g></g></g></svg><div class=\"toyplot-behavior\"><script>(function()\n",
       "{\n",
       "var modules={};\n",
       "})();</script></div></div>"
      ]
     },
     "metadata": {},
     "output_type": "display_data"
    }
   ],
   "source": [
    "# draw with node colors extracted and colormapped to BlueRed from \"D\"\n",
    "tree.draw(node_sizes=15, node_mask=False, node_colors=(\"D\", \"BlueRed\"));"
   ]
  },
  {
   "cell_type": "markdown",
   "id": "1d5c91f3-a478-4150-b679-f5597902e91a",
   "metadata": {},
   "source": [
    "## Node vs Edge features\n",
    "Some data stored to a tree are intended to represent information about the edges (splits) in a tree, rather than information about the nodes. This is important as these types of data must be treated differently when doing things like re-rooting a tree, and in some cases, for visualization. (See the [rooting](/toytree/rooting) tutorial for an example of how this is automatically handled in `toytree`.) Any feature can be optionally plotted as a marker and/or label on edges of a tree rather than on nodes. This can be done in a simple way within the `.draw` function by using the argument `node_as_edge_data=True`, or, it can be done with many more options by using functions in the `toytree.annotate` subpackage.\n",
    "\n",
    "Examples of plotted edge features are shown below. These have a few key features in visualization: (1) values are plotted on the midpoint of edges; (2) No value is shown for the root edge, since it does not represent a true split in the tree; and (3) only one of the two edges descended from the root show a value, since these are actually the same edge, but on which the root node has been placed. As an example of this last point, a value such as a support score, or edge length, is a feature of this entire edge. Thus, the value is the same whether the tree is rooted or unrooted, as shown below."
   ]
  },
  {
   "cell_type": "code",
   "execution_count": 27,
   "id": "9634de6e-0395-44e3-8c95-0b475e185363",
   "metadata": {},
   "outputs": [
    {
     "data": {
      "text/html": [
       "<div class=\"toyplot\" id=\"tbf54e391ec12480aa0b78f0ac35cbea1\" style=\"text-align:center\"><svg class=\"toyplot-canvas-Canvas\" xmlns:toyplot=\"http://www.sandia.gov/toyplot\" xmlns:xlink=\"http://www.w3.org/1999/xlink\" xmlns=\"http://www.w3.org/2000/svg\" width=\"300.0px\" height=\"275.0px\" viewBox=\"0 0 300.0 275.0\" preserveAspectRatio=\"xMidYMid meet\" style=\"background-color:transparent;border-color:#292724;border-style:none;border-width:1.0;fill:rgb(16.1%,15.3%,14.1%);fill-opacity:1.0;font-family:Helvetica;font-size:12px;opacity:1.0;stroke:rgb(16.1%,15.3%,14.1%);stroke-opacity:1.0;stroke-width:1.0\" id=\"tf17f24fb45c749c48efacf79f3563768\"><g class=\"toyplot-coordinates-Cartesian\" id=\"taa4c5cc8c36542728212a6e824bbdb53\"><clipPath id=\"t192d774d37444dec8e3f4776a9d3656b\"><rect x=\"35.0\" y=\"35.0\" width=\"230.0\" height=\"205.0\"></rect></clipPath><g clip-path=\"url(#t192d774d37444dec8e3f4776a9d3656b)\"><g class=\"toytree-mark-Toytree\" id=\"td23bdf32e2ad400eaecd3bd0fff8d374\"><g class=\"toytree-Edges\" style=\"stroke:rgb(14.5%,14.5%,14.5%);stroke-opacity:1.0;stroke-linecap:round;stroke-width:2.0;fill:none\"><path d=\"M 157.9 195.9 L 157.9 215.4 L 209.9 215.4\" id=\"5,0\" style=\"\"></path><path d=\"M 157.9 195.9 L 157.9 176.4 L 209.9 176.4\" id=\"5,1\" style=\"\"></path><path d=\"M 105.9 166.7 L 105.9 137.5 L 209.9 137.5\" id=\"6,2\" style=\"\"></path><path d=\"M 105.9 79.1 L 105.9 98.6 L 209.9 98.6\" id=\"7,3\" style=\"\"></path><path d=\"M 105.9 79.1 L 105.9 59.6 L 209.9 59.6\" id=\"7,4\" style=\"\"></path><path d=\"M 105.9 166.7 L 105.9 195.9 L 157.9 195.9\" id=\"6,5\" style=\"\"></path><path d=\"M 53.9 122.9 L 53.9 166.7 L 105.9 166.7\" id=\"8,6\" style=\"\"></path><path d=\"M 53.9 122.9 L 53.9 79.1 L 105.9 79.1\" id=\"8,7\" style=\"\"></path></g><g class=\"toytree-AdmixEdges\" style=\"fill:rgb(0.0%,0.0%,0.0%);fill-opacity:0.0;stroke:rgb(90.6%,54.1%,76.5%);stroke-opacity:0.6;font-size:14px;stroke-linecap:round;stroke-width:5\"></g><g class=\"toytree-Nodes\" style=\"fill:rgb(40.0%,76.1%,64.7%);fill-opacity:1.0;stroke:rgb(14.9%,14.9%,14.9%);stroke-opacity:1.0;stroke-width:1.5\"></g><g class=\"toytree-NodeLabels\" style=\"font-family:Helvetica;font-size:18px;font-weight:300;vertical-align:baseline;white-space:pre;stroke:none\"><g class=\"toytree-NodeLabel\" transform=\"translate(183.94,215.387)\"><text x=\"-5.0040000000000004\" y=\"4.599\" style=\"fill:rgb(14.5%,14.5%,14.5%);fill-opacity:1.0\">0</text></g><g class=\"toytree-NodeLabel\" transform=\"translate(183.94,176.443)\"><text x=\"-5.0040000000000004\" y=\"4.599\" style=\"fill:rgb(14.5%,14.5%,14.5%);fill-opacity:1.0\">1</text></g><g class=\"toytree-NodeLabel\" transform=\"translate(157.933,137.5)\"><text x=\"-5.0040000000000004\" y=\"4.599\" style=\"fill:rgb(14.5%,14.5%,14.5%);fill-opacity:1.0\">2</text></g><g class=\"toytree-NodeLabel\" transform=\"translate(157.933,98.5567)\"><text x=\"-5.0040000000000004\" y=\"4.599\" style=\"fill:rgb(14.5%,14.5%,14.5%);fill-opacity:1.0\">3</text></g><g class=\"toytree-NodeLabel\" transform=\"translate(157.933,59.6134)\"><text x=\"-5.0040000000000004\" y=\"4.599\" style=\"fill:rgb(14.5%,14.5%,14.5%);fill-opacity:1.0\">4</text></g><g class=\"toytree-NodeLabel\" transform=\"translate(131.926,195.915)\"><text x=\"-5.0040000000000004\" y=\"4.599\" style=\"fill:rgb(14.5%,14.5%,14.5%);fill-opacity:1.0\">5</text></g><g class=\"toytree-NodeLabel\" transform=\"translate(79.9113,166.707)\"><text x=\"-5.0040000000000004\" y=\"4.599\" style=\"fill:rgb(14.5%,14.5%,14.5%);fill-opacity:1.0\">6</text></g></g><g class=\"toytree-TipLabels\" style=\"fill:rgb(14.5%,14.5%,14.5%);fill-opacity:1.0;font-family:Helvetica;font-size:12px;font-weight:300;vertical-align:baseline;white-space:pre;stroke:none\"><g class=\"toytree-TipLabel\" transform=\"translate(209.947,215.387)\"><text x=\"15.0\" y=\"3.066\" style=\"fill:rgb(14.5%,14.5%,14.5%);fill-opacity:1.0\">r0</text></g><g class=\"toytree-TipLabel\" transform=\"translate(209.947,176.443)\"><text x=\"15.0\" y=\"3.066\" style=\"fill:rgb(14.5%,14.5%,14.5%);fill-opacity:1.0\">r1</text></g><g class=\"toytree-TipLabel\" transform=\"translate(209.947,137.5)\"><text x=\"15.0\" y=\"3.066\" style=\"fill:rgb(14.5%,14.5%,14.5%);fill-opacity:1.0\">r2</text></g><g class=\"toytree-TipLabel\" transform=\"translate(209.947,98.5567)\"><text x=\"15.0\" y=\"3.066\" style=\"fill:rgb(14.5%,14.5%,14.5%);fill-opacity:1.0\">r3</text></g><g class=\"toytree-TipLabel\" transform=\"translate(209.947,59.6134)\"><text x=\"15.0\" y=\"3.066\" style=\"fill:rgb(14.5%,14.5%,14.5%);fill-opacity:1.0\">r4</text></g></g></g></g></g></svg><div class=\"toyplot-behavior\"><script>(function()\n",
       "{\n",
       "var modules={};\n",
       "})();</script></div></div>"
      ]
     },
     "metadata": {},
     "output_type": "display_data"
    }
   ],
   "source": [
    "# draw a feature as EDGE data \n",
    "tree.draw(\n",
    "    node_mask=False, \n",
    "    node_labels=\"idx\", \n",
    "    node_labels_style={'font-size': 18},\n",
    "    node_as_edge_data=True,\n",
    ");"
   ]
  },
  {
   "cell_type": "code",
   "execution_count": 28,
   "id": "70351ff8-7102-4652-a26a-0d6a5946ca3f",
   "metadata": {},
   "outputs": [
    {
     "data": {
      "text/html": [
       "<div class=\"toyplot\" id=\"t1856006c44554ce7bdadebee762e061d\" style=\"text-align:center\"><svg class=\"toyplot-canvas-Canvas\" xmlns:toyplot=\"http://www.sandia.gov/toyplot\" xmlns:xlink=\"http://www.w3.org/1999/xlink\" xmlns=\"http://www.w3.org/2000/svg\" width=\"300.0px\" height=\"275.0px\" viewBox=\"0 0 300.0 275.0\" preserveAspectRatio=\"xMidYMid meet\" style=\"background-color:transparent;border-color:#292724;border-style:none;border-width:1.0;fill:rgb(16.1%,15.3%,14.1%);fill-opacity:1.0;font-family:Helvetica;font-size:12px;opacity:1.0;stroke:rgb(16.1%,15.3%,14.1%);stroke-opacity:1.0;stroke-width:1.0\" id=\"t1fb5b9fa23294382bc5b4e27bfb9c3ee\"><g class=\"toyplot-coordinates-Cartesian\" id=\"t68a5b39cb6e0461abd0d03427a77c6a3\"><clipPath id=\"tdd5309bf9ae2412795c2008d98e58043\"><rect x=\"35.0\" y=\"35.0\" width=\"230.0\" height=\"205.0\"></rect></clipPath><g clip-path=\"url(#tdd5309bf9ae2412795c2008d98e58043)\"><g class=\"toytree-mark-Toytree\" id=\"t3d48f21b23f946b7ab8044445d730c05\"><g class=\"toytree-Edges\" style=\"stroke:rgb(14.5%,14.5%,14.5%);stroke-opacity:1.0;stroke-linecap:round;stroke-width:2.0;fill:none\"><path d=\"M 92.9 195.9 L 92.9 215.4 L 131.9 215.4\" id=\"5,0\" style=\"\"></path><path d=\"M 92.9 195.9 L 92.9 176.4 L 131.9 176.4\" id=\"5,1\" style=\"\"></path><path d=\"M 53.9 137.5 L 53.9 137.5 L 131.9 137.5\" id=\"7,2\" style=\"\"></path><path d=\"M 131.9 79.1 L 131.9 98.6 L 209.9 98.6\" id=\"6,3\" style=\"\"></path><path d=\"M 131.9 79.1 L 131.9 59.6 L 209.9 59.6\" id=\"6,4\" style=\"\"></path><path d=\"M 53.9 137.5 L 53.9 195.9 L 92.9 195.9\" id=\"7,5\" style=\"\"></path><path d=\"M 53.9 137.5 L 53.9 79.1 L 131.9 79.1\" id=\"7,6\" style=\"\"></path></g><g class=\"toytree-AdmixEdges\" style=\"fill:rgb(0.0%,0.0%,0.0%);fill-opacity:0.0;stroke:rgb(90.6%,54.1%,76.5%);stroke-opacity:0.6;font-size:14px;stroke-linecap:round;stroke-width:5\"></g><g class=\"toytree-Nodes\" style=\"fill:rgb(40.0%,76.1%,64.7%);fill-opacity:1.0;stroke:rgb(14.9%,14.9%,14.9%);stroke-opacity:1.0;stroke-width:1.5\"></g><g class=\"toytree-NodeLabels\" style=\"font-family:Helvetica;font-size:18px;font-weight:300;vertical-align:baseline;white-space:pre;stroke:none\"><g class=\"toytree-NodeLabel\" transform=\"translate(112.42,215.387)\"><text x=\"-5.0040000000000004\" y=\"4.599\" style=\"fill:rgb(14.5%,14.5%,14.5%);fill-opacity:1.0\">0</text></g><g class=\"toytree-NodeLabel\" transform=\"translate(112.42,176.443)\"><text x=\"-5.0040000000000004\" y=\"4.599\" style=\"fill:rgb(14.5%,14.5%,14.5%);fill-opacity:1.0\">1</text></g><g class=\"toytree-NodeLabel\" transform=\"translate(92.9149,137.5)\"><text x=\"-5.0040000000000004\" y=\"4.599\" style=\"fill:rgb(14.5%,14.5%,14.5%);fill-opacity:1.0\">2</text></g><g class=\"toytree-NodeLabel\" transform=\"translate(170.936,98.5567)\"><text x=\"-5.0040000000000004\" y=\"4.599\" style=\"fill:rgb(14.5%,14.5%,14.5%);fill-opacity:1.0\">3</text></g><g class=\"toytree-NodeLabel\" transform=\"translate(170.936,59.6134)\"><text x=\"-5.0040000000000004\" y=\"4.599\" style=\"fill:rgb(14.5%,14.5%,14.5%);fill-opacity:1.0\">4</text></g><g class=\"toytree-NodeLabel\" transform=\"translate(73.4095,195.915)\"><text x=\"-5.0040000000000004\" y=\"4.599\" style=\"fill:rgb(14.5%,14.5%,14.5%);fill-opacity:1.0\">5</text></g><g class=\"toytree-NodeLabel\" transform=\"translate(92.9149,79.0851)\"><text x=\"-5.0040000000000004\" y=\"4.599\" style=\"fill:rgb(14.5%,14.5%,14.5%);fill-opacity:1.0\">6</text></g></g><g class=\"toytree-TipLabels\" style=\"fill:rgb(14.5%,14.5%,14.5%);fill-opacity:1.0;font-family:Helvetica;font-size:12px;font-weight:300;vertical-align:baseline;white-space:pre;stroke:none\"><g class=\"toytree-TipLabel\" transform=\"translate(131.926,215.387)\"><text x=\"15.0\" y=\"3.066\" style=\"fill:rgb(14.5%,14.5%,14.5%);fill-opacity:1.0\">r0</text></g><g class=\"toytree-TipLabel\" transform=\"translate(131.926,176.443)\"><text x=\"15.0\" y=\"3.066\" style=\"fill:rgb(14.5%,14.5%,14.5%);fill-opacity:1.0\">r1</text></g><g class=\"toytree-TipLabel\" transform=\"translate(131.926,137.5)\"><text x=\"15.0\" y=\"3.066\" style=\"fill:rgb(14.5%,14.5%,14.5%);fill-opacity:1.0\">r2</text></g><g class=\"toytree-TipLabel\" transform=\"translate(209.947,98.5567)\"><text x=\"15.0\" y=\"3.066\" style=\"fill:rgb(14.5%,14.5%,14.5%);fill-opacity:1.0\">r3</text></g><g class=\"toytree-TipLabel\" transform=\"translate(209.947,59.6134)\"><text x=\"15.0\" y=\"3.066\" style=\"fill:rgb(14.5%,14.5%,14.5%);fill-opacity:1.0\">r4</text></g></g></g></g></g></svg><div class=\"toyplot-behavior\"><script>(function()\n",
       "{\n",
       "var modules={};\n",
       "})();</script></div></div>"
      ]
     },
     "metadata": {},
     "output_type": "display_data"
    }
   ],
   "source": [
    "# draw a feature as EDGE data for the same tree, unrooted.\n",
    "tree.unroot().draw(\n",
    "    node_mask=False, \n",
    "    node_labels=\"idx\", \n",
    "    node_labels_style={'font-size': 18},\n",
    "    node_as_edge_data=True,\n",
    ");"
   ]
  },
  {
   "cell_type": "markdown",
   "id": "bf2a668f-d99b-4061-9af3-cf42e4e34df4",
   "metadata": {},
   "source": [
    "Annotation methods can also be used to plot edge data. See the annotation docs."
   ]
  },
  {
   "cell_type": "code",
   "execution_count": 29,
   "id": "de2d92cc-20de-4d0c-a8d7-170be06db5cf",
   "metadata": {},
   "outputs": [
    {
     "data": {
      "text/html": [
       "<div class=\"toyplot\" id=\"tee85dba551ea44749e27e02872f38921\" style=\"text-align:center\"><svg class=\"toyplot-canvas-Canvas\" xmlns:toyplot=\"http://www.sandia.gov/toyplot\" xmlns:xlink=\"http://www.w3.org/1999/xlink\" xmlns=\"http://www.w3.org/2000/svg\" width=\"300.0px\" height=\"275.0px\" viewBox=\"0 0 300.0 275.0\" preserveAspectRatio=\"xMidYMid meet\" style=\"background-color:transparent;border-color:#292724;border-style:none;border-width:1.0;fill:rgb(16.1%,15.3%,14.1%);fill-opacity:1.0;font-family:Helvetica;font-size:12px;opacity:1.0;stroke:rgb(16.1%,15.3%,14.1%);stroke-opacity:1.0;stroke-width:1.0\" id=\"tebbe1ee4946048c29012bba0dff5e08a\"><g class=\"toyplot-coordinates-Cartesian\" id=\"tf85dd0841a92472c9d188ad9fc1c4afb\"><clipPath id=\"t4faba28bdf5541f4b377da37b370f002\"><rect x=\"35.0\" y=\"35.0\" width=\"230.0\" height=\"205.0\"></rect></clipPath><g clip-path=\"url(#t4faba28bdf5541f4b377da37b370f002)\"><g class=\"toytree-mark-Toytree\" id=\"tc8e075b087f84540a617e75929531d75\"><g class=\"toytree-Edges\" style=\"stroke:rgb(14.5%,14.5%,14.5%);stroke-opacity:1.0;stroke-linecap:round;stroke-width:2.0;fill:none\"><path d=\"M 156.5 195.9 L 156.5 215.4 L 209.3 215.4\" id=\"5,0\" style=\"\"></path><path d=\"M 156.5 195.9 L 156.5 176.4 L 209.3 176.4\" id=\"5,1\" style=\"\"></path><path d=\"M 103.6 166.7 L 103.6 137.5 L 209.3 137.5\" id=\"6,2\" style=\"\"></path><path d=\"M 103.6 79.1 L 103.6 98.6 L 209.3 98.6\" id=\"7,3\" style=\"\"></path><path d=\"M 103.6 79.1 L 103.6 59.6 L 209.3 59.6\" id=\"7,4\" style=\"\"></path><path d=\"M 103.6 166.7 L 103.6 195.9 L 156.5 195.9\" id=\"6,5\" style=\"\"></path><path d=\"M 50.8 122.9 L 50.8 166.7 L 103.6 166.7\" id=\"8,6\" style=\"\"></path><path d=\"M 50.8 122.9 L 50.8 79.1 L 103.6 79.1\" id=\"8,7\" style=\"\"></path></g><g class=\"toytree-AdmixEdges\" style=\"fill:rgb(0.0%,0.0%,0.0%);fill-opacity:0.0;stroke:rgb(90.6%,54.1%,76.5%);stroke-opacity:0.6;font-size:14px;stroke-linecap:round;stroke-width:5\"></g><g class=\"toytree-Nodes\" style=\"fill:rgb(40.0%,76.1%,64.7%);fill-opacity:1.0;stroke:rgb(14.9%,14.9%,14.9%);stroke-opacity:1.0;stroke-width:1.5\"></g><g class=\"toytree-TipLabels\" style=\"fill:rgb(14.5%,14.5%,14.5%);fill-opacity:1.0;font-family:Helvetica;font-size:12px;font-weight:300;vertical-align:baseline;white-space:pre;stroke:none\"><g class=\"toytree-TipLabel\" transform=\"translate(209.311,215.387)\"><text x=\"15.0\" y=\"3.066\" style=\"fill:rgb(14.5%,14.5%,14.5%);fill-opacity:1.0\">r0</text></g><g class=\"toytree-TipLabel\" transform=\"translate(209.311,176.443)\"><text x=\"15.0\" y=\"3.066\" style=\"fill:rgb(14.5%,14.5%,14.5%);fill-opacity:1.0\">r1</text></g><g class=\"toytree-TipLabel\" transform=\"translate(209.311,137.5)\"><text x=\"15.0\" y=\"3.066\" style=\"fill:rgb(14.5%,14.5%,14.5%);fill-opacity:1.0\">r2</text></g><g class=\"toytree-TipLabel\" transform=\"translate(209.311,98.5567)\"><text x=\"15.0\" y=\"3.066\" style=\"fill:rgb(14.5%,14.5%,14.5%);fill-opacity:1.0\">r3</text></g><g class=\"toytree-TipLabel\" transform=\"translate(209.311,59.6134)\"><text x=\"15.0\" y=\"3.066\" style=\"fill:rgb(14.5%,14.5%,14.5%);fill-opacity:1.0\">r4</text></g></g></g><g class=\"toyplot-mark-Text\" id=\"t483634fa53bc4694ac9b2f43049d8114\"><g class=\"toyplot-Series\"><g class=\"toyplot-Datum\" transform=\"translate(182.8915942764145,215.38657171922685)\"><text x=\"-5.0040000000000004\" y=\"4.599\" style=\"fill:rgb(14.5%,14.5%,14.5%);fill-opacity:1.0;font-family:Helvetica;font-size:18.0px;font-weight:300;opacity:1;stroke:none;vertical-align:baseline;white-space:pre\">0</text></g><g class=\"toyplot-Datum\" transform=\"translate(182.8915942764145,176.44328585961344)\"><text x=\"-5.0040000000000004\" y=\"4.599\" style=\"fill:rgb(14.5%,14.5%,14.5%);fill-opacity:1.0;font-family:Helvetica;font-size:18.0px;font-weight:300;opacity:1;stroke:none;vertical-align:baseline;white-space:pre\">1</text></g><g class=\"toyplot-Datum\" transform=\"translate(156.47179422146135,137.5)\"><text x=\"-5.0040000000000004\" y=\"4.599\" style=\"fill:rgb(14.5%,14.5%,14.5%);fill-opacity:1.0;font-family:Helvetica;font-size:18.0px;font-weight:300;opacity:1;stroke:none;vertical-align:baseline;white-space:pre\">2</text></g><g class=\"toyplot-Datum\" transform=\"translate(156.47179422146135,98.55671414038659)\"><text x=\"-5.0040000000000004\" y=\"4.599\" style=\"fill:rgb(14.5%,14.5%,14.5%);fill-opacity:1.0;font-family:Helvetica;font-size:18.0px;font-weight:300;opacity:1;stroke:none;vertical-align:baseline;white-space:pre\">3</text></g><g class=\"toyplot-Datum\" transform=\"translate(156.47179422146135,59.61342828077315)\"><text x=\"-5.0040000000000004\" y=\"4.599\" style=\"fill:rgb(14.5%,14.5%,14.5%);fill-opacity:1.0;font-family:Helvetica;font-size:18.0px;font-weight:300;opacity:1;stroke:none;vertical-align:baseline;white-space:pre\">4</text></g><g class=\"toyplot-Datum\" transform=\"translate(130.05199416650814,195.91492878942014)\"><text x=\"-5.0040000000000004\" y=\"4.599\" style=\"fill:rgb(14.5%,14.5%,14.5%);fill-opacity:1.0;font-family:Helvetica;font-size:18.0px;font-weight:300;opacity:1;stroke:none;vertical-align:baseline;white-space:pre\">5</text></g><g class=\"toyplot-Datum\" transform=\"translate(77.21239405660177,166.7074643947101)\"><text x=\"-5.0040000000000004\" y=\"4.599\" style=\"fill:rgb(14.5%,14.5%,14.5%);fill-opacity:1.0;font-family:Helvetica;font-size:18.0px;font-weight:300;opacity:1;stroke:none;vertical-align:baseline;white-space:pre\">6</text></g></g></g></g></g></svg><div class=\"toyplot-behavior\"><script>(function()\n",
       "{\n",
       "var modules={};\n",
       "})();</script></div></div>"
      ]
     },
     "metadata": {},
     "output_type": "display_data"
    }
   ],
   "source": [
    "# annotate a tree with EDGE data\n",
    "canvas, axes, mark = tree.draw();\n",
    "tree.annotate.add_edge_labels(axes=axes, labels=\"idx\", font_size=18, mask=False);"
   ]
  }
 ],
 "metadata": {
  "kernelspec": {
   "display_name": "Python 3 (ipykernel)",
   "language": "python",
   "name": "python3"
  },
  "language_info": {
   "codemirror_mode": {
    "name": "ipython",
    "version": 3
   },
   "file_extension": ".py",
   "mimetype": "text/x-python",
   "name": "python",
   "nbconvert_exporter": "python",
   "pygments_lexer": "ipython3",
   "version": "3.10.12"
  }
 },
 "nbformat": 4,
 "nbformat_minor": 5
}
