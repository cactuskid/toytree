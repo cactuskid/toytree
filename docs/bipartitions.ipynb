{
 "cells": [
  {
   "cell_type": "markdown",
   "metadata": {},
   "source": [
    "# Bipartition methods  "
   ]
  },
  {
   "cell_type": "markdown",
   "metadata": {},
   "source": [
    "A phylogenetic tree can be split into two trees along any branch connecting two sections of the tree. This creates `bipartitions`, and there can many possible bipartitions belonging to a single tree. Many algorithms compare tips (or internal Nodes) on either side of each split to compute metrics on trees. The `iter_bipartitions()` function is available in the `toytree.enum` subpackage, and aims to provide a flexible and fast framework for yielding bipartitions in various formats. These bipartitions are generated in Node idx traversal order, and are returned as iterable tuples each containing two items.  \n",
    "\n",
    "The items within these tuples can be specified to be represented by a particular feature (e.g., set, list, or tuple) using the argument `type`\n",
    "\n",
    "The order of the tuples returned can also be ordered using the argument `sort`"
   ]
  },
  {
   "cell_type": "markdown",
   "metadata": {},
   "source": [
    "### Quick example  \n",
    "\n",
    "Here a simple toytree is generated from a newick string, and then split into possible bipartitions. The `iter_bipartitions()` method generates multiple bipartitions which you can iterate through as you do a list or tuple."
   ]
  },
  {
   "cell_type": "code",
   "execution_count": 1,
   "metadata": {},
   "outputs": [],
   "source": [
    "import toytree"
   ]
  },
  {
   "cell_type": "code",
   "execution_count": 2,
   "metadata": {},
   "outputs": [
    {
     "name": "stdout",
     "output_type": "stream",
     "text": [
      "['a', 'b', 'c', 'd', 'e', 'f']\n"
     ]
    },
    {
     "data": {
      "text/html": [
       "<div class=\"toyplot\" id=\"t0fd73039e3294667a6adfa6567338a87\" style=\"text-align:center\"><svg class=\"toyplot-canvas-Canvas\" xmlns:toyplot=\"http://www.sandia.gov/toyplot\" xmlns:xlink=\"http://www.w3.org/1999/xlink\" xmlns=\"http://www.w3.org/2000/svg\" width=\"300.0px\" height=\"275.0px\" viewBox=\"0 0 300.0 275.0\" preserveAspectRatio=\"xMidYMid meet\" style=\"background-color:transparent;border-color:#292724;border-style:none;border-width:1.0;fill:rgb(16.1%,15.3%,14.1%);fill-opacity:1.0;font-family:Helvetica;font-size:12px;opacity:1.0;stroke:rgb(16.1%,15.3%,14.1%);stroke-opacity:1.0;stroke-width:1.0\" id=\"tc74e165a3477432ba500f11612ee3dc2\"><g class=\"toyplot-coordinates-Cartesian\" id=\"t0749fabc72a0438e8fc1bd0f005b0456\"><clipPath id=\"tfe85eab0b0df418e94e89703bb925ce3\"><rect x=\"35.0\" y=\"35.0\" width=\"230.0\" height=\"205.0\"></rect></clipPath><g clip-path=\"url(#tfe85eab0b0df418e94e89703bb925ce3)\"><g class=\"toytree-mark-Toytree\" id=\"t1115f56f459945088637e1ed35ed68eb\"><g class=\"toytree-Edges\" style=\"stroke:rgb(14.5%,14.5%,14.5%);stroke-opacity:1.0;stroke-linecap:round;stroke-width:2.0;fill:none\"><path d=\"M 50.8 169.8 L 50.8 218.3 L 105.4 218.3\" id=\"9,0\" style=\"\"></path><path d=\"M 50.8 169.8 L 50.8 186.0 L 105.4 186.0\" id=\"9,1\" style=\"\"></path><path d=\"M 160.0 137.5 L 160.0 153.7 L 214.5 153.7\" id=\"6,2\" style=\"\"></path><path d=\"M 160.0 137.5 L 160.0 121.3 L 214.5 121.3\" id=\"6,3\" style=\"\"></path><path d=\"M 160.0 72.8 L 160.0 89.0 L 214.5 89.0\" id=\"7,4\" style=\"\"></path><path d=\"M 160.0 72.8 L 160.0 56.7 L 214.5 56.7\" id=\"7,5\" style=\"\"></path><path d=\"M 105.4 105.2 L 105.4 137.5 L 160.0 137.5\" id=\"8,6\" style=\"\"></path><path d=\"M 105.4 105.2 L 105.4 72.8 L 160.0 72.8\" id=\"8,7\" style=\"\"></path><path d=\"M 50.8 169.8 L 50.8 105.2 L 105.4 105.2\" id=\"9,8\" style=\"\"></path></g><g class=\"toytree-AdmixEdges\" style=\"fill:rgb(0.0%,0.0%,0.0%);fill-opacity:0.0;stroke:rgb(90.6%,54.1%,76.5%);stroke-opacity:0.6;font-size:14px;stroke-linecap:round;stroke-width:5\"></g><g class=\"toytree-Nodes\" style=\"fill:rgb(40.0%,76.1%,64.7%);fill-opacity:1.0;stroke:rgb(14.9%,14.9%,14.9%);stroke-opacity:1.0;stroke-width:1.5\"></g><g class=\"toytree-TipLabels\" style=\"fill:rgb(14.5%,14.5%,14.5%);fill-opacity:1.0;font-family:Helvetica;font-size:12px;font-weight:300;vertical-align:baseline;white-space:pre;stroke:none\"><g class=\"toytree-TipLabel\" transform=\"translate(105.386,218.347)\"><text x=\"15.0\" y=\"3.066\" style=\"fill:rgb(14.5%,14.5%,14.5%);fill-opacity:1.0\">a</text></g><g class=\"toytree-TipLabel\" transform=\"translate(105.386,186.008)\"><text x=\"15.0\" y=\"3.066\" style=\"fill:rgb(14.5%,14.5%,14.5%);fill-opacity:1.0\">b</text></g><g class=\"toytree-TipLabel\" transform=\"translate(214.522,153.669)\"><text x=\"15.0\" y=\"3.066\" style=\"fill:rgb(14.5%,14.5%,14.5%);fill-opacity:1.0\">c</text></g><g class=\"toytree-TipLabel\" transform=\"translate(214.522,121.331)\"><text x=\"15.0\" y=\"3.066\" style=\"fill:rgb(14.5%,14.5%,14.5%);fill-opacity:1.0\">d</text></g><g class=\"toytree-TipLabel\" transform=\"translate(214.522,88.9916)\"><text x=\"15.0\" y=\"3.066\" style=\"fill:rgb(14.5%,14.5%,14.5%);fill-opacity:1.0\">e</text></g><g class=\"toytree-TipLabel\" transform=\"translate(214.522,56.6526)\"><text x=\"15.0\" y=\"3.066\" style=\"fill:rgb(14.5%,14.5%,14.5%);fill-opacity:1.0\">f</text></g></g></g></g></g></svg><div class=\"toyplot-behavior\"><script>(function()\n",
       "{\n",
       "var modules={};\n",
       "})();</script></div></div>"
      ]
     },
     "metadata": {},
     "output_type": "display_data"
    }
   ],
   "source": [
    "#generate tree\n",
    "tree = toytree.tree(\"(a,b,((c,d)CD,(e,f)EF)X)AB;\")\n",
    "print(tree.get_tip_labels())\n",
    "tree.draw();"
   ]
  },
  {
   "cell_type": "code",
   "execution_count": 3,
   "metadata": {},
   "outputs": [
    {
     "name": "stdout",
     "output_type": "stream",
     "text": [
      "({'d', 'c'}, {'b', 'f', 'e', 'a'})\n",
      "({'f', 'e'}, {'b', 'd', 'a', 'c'})\n",
      "({'f', 'e', 'c', 'd'}, {'b', 'a'})\n"
     ]
    }
   ],
   "source": [
    "#iterate through bipartitions\n",
    "for bipartition in tree.iter_bipartitions():\n",
    "    print(bipartition)"
   ]
  },
  {
   "cell_type": "markdown",
   "metadata": {},
   "source": [
    "By default, singleton splits (e.g., (A | B,C,D)) are not included because it is implicit that one exists for each tip of the tree. However, if these are important for an iteration then they can be included using the argument `include_singleton_partitions=true`"
   ]
  },
  {
   "cell_type": "code",
   "execution_count": 4,
   "metadata": {},
   "outputs": [
    {
     "name": "stdout",
     "output_type": "stream",
     "text": [
      "({'a'}, {'b', 'e', 'f', 'd', 'c'})\n",
      "({'b'}, {'e', 'a', 'f', 'd', 'c'})\n",
      "({'c'}, {'b', 'e', 'a', 'f', 'd'})\n",
      "({'d'}, {'b', 'e', 'a', 'f', 'c'})\n",
      "({'e'}, {'b', 'a', 'f', 'd', 'c'})\n",
      "({'f'}, {'b', 'e', 'a', 'd', 'c'})\n",
      "({'d', 'c'}, {'b', 'f', 'e', 'a'})\n",
      "({'f', 'e'}, {'b', 'd', 'a', 'c'})\n",
      "({'f', 'e', 'c', 'd'}, {'b', 'a'})\n"
     ]
    }
   ],
   "source": [
    "#include singleton splits\n",
    "for bipartition in tree.iter_bipartitions(include_singleton_partitions=True):\n",
    "    print(bipartition)"
   ]
  },
  {
   "cell_type": "markdown",
   "metadata": {},
   "source": [
    "You can also choose to include the internal nodes in each bipartition using `include_internal_nodes=True` "
   ]
  },
  {
   "cell_type": "code",
   "execution_count": 5,
   "metadata": {},
   "outputs": [
    {
     "name": "stdout",
     "output_type": "stream",
     "text": [
      "({'a'}, {'b', 'e', 'f', 'CD', 'EF', 'X', 'd', 'AB', 'c'})\n",
      "({'b'}, {'e', 'a', 'f', 'CD', 'EF', 'X', 'd', 'AB', 'c'})\n",
      "({'c'}, {'b', 'e', 'a', 'f', 'CD', 'EF', 'X', 'd', 'AB'})\n",
      "({'d'}, {'b', 'e', 'a', 'f', 'CD', 'EF', 'X', 'AB', 'c'})\n",
      "({'e'}, {'b', 'a', 'f', 'CD', 'EF', 'X', 'd', 'AB', 'c'})\n",
      "({'f'}, {'b', 'e', 'a', 'CD', 'EF', 'X', 'd', 'AB', 'c'})\n",
      "({'d', 'CD', 'c'}, {'b', 'e', 'a', 'f', 'EF', 'X', 'AB'})\n",
      "({'f', 'e', 'EF'}, {'b', 'a', 'CD', 'X', 'd', 'AB', 'c'})\n",
      "({'b', 'a', 'AB'}, {'e', 'f', 'CD', 'EF', 'X', 'd', 'c'})\n"
     ]
    }
   ],
   "source": [
    "#include singleton splits, internal nodes\n",
    "for bipartition in tree.iter_bipartitions(sort=True, include_internal_nodes=True, include_singleton_partitions=True):\n",
    "    print(bipartition)"
   ]
  },
  {
   "cell_type": "markdown",
   "metadata": {},
   "source": [
    "### Returning different features  \n",
    "\n",
    "The `iter_bipartitions()` method allows you to retreive the bipartitions in the form of any feature belonging to the `toytree` object using the `feature` argument. The function defaults to returning the name of the node, but you can pass in other features such as `idx`. You can also pass in `feature=None` to return the `Node` object itself."
   ]
  },
  {
   "cell_type": "code",
   "execution_count": 10,
   "metadata": {},
   "outputs": [
    {
     "data": {
      "text/plain": [
       "('idx', 'name', 'height', 'dist', 'support')"
      ]
     },
     "execution_count": 10,
     "metadata": {},
     "output_type": "execute_result"
    }
   ],
   "source": [
    "tree.features"
   ]
  },
  {
   "cell_type": "code",
   "execution_count": 14,
   "metadata": {},
   "outputs": [
    {
     "name": "stdout",
     "output_type": "stream",
     "text": [
      "({'D', 'C'}, {'B', 'A'})\n",
      "({2, 3}, {0, 1})\n",
      "({0.0}, {1.0, 2.0})\n",
      "({<Node(idx=2, name='C')>, <Node(idx=3, name='D')>}, {<Node(idx=1, name='B')>, <Node(idx=0, name='A')>})\n"
     ]
    }
   ],
   "source": [
    "#default: name\n",
    "for name in tree.iter_bipartitions():\n",
    "    print(name)\n",
    "#index\n",
    "for idx in tree.iter_bipartitions(feature='idx'):\n",
    "    print(idx)\n",
    "#height\n",
    "for height in tree.iter_bipartitions(feature='height'):\n",
    "    print(height)\n",
    "#Node object feature=None\n",
    "for height in tree.iter_bipartitions(feature=None):\n",
    "    print(height)"
   ]
  },
  {
   "cell_type": "markdown",
   "metadata": {},
   "source": [
    "Note: Returning different features does not change how sorting is done within and between bipartitions, which will be described next."
   ]
  },
  {
   "cell_type": "markdown",
   "metadata": {},
   "source": [
    "### Sorting  \n",
    "\n",
    "By default, bipartitions are returned as (child, parent) order given the topology and rooting in Node idx order traversal. However, if `sort=True`, then ipartitions are instead always sorted first by length, e.g., (fewer, longer) and if the same length, then next by the lowest alphanumeric tip name, e.g., ({'a', 'b'}, {'c', 'd'}).\n",
    "\n",
    "Also, if the requested partition `type` is sortable (i.e., not a set), then items within a partition are also consistently sorted regardless of the `sort` argument."
   ]
  },
  {
   "cell_type": "code",
   "execution_count": 6,
   "metadata": {},
   "outputs": [
    {
     "name": "stdout",
     "output_type": "stream",
     "text": [
      "['A', 'B', 'C', 'D', 'E']\n",
      "unsorted: [({'D', 'C', 'E'}, {'B', 'A'})]\n",
      "sorted: [({'B', 'A'}, {'D', 'C', 'E'})]\n"
     ]
    }
   ],
   "source": [
    "#generate tree\n",
    "tree = toytree.tree(\"(A,B,(C,D,E));\")\n",
    "print(tree.get_tip_labels())\n",
    "#generate list of bipartitions\n",
    "unsorted = list(tree.iter_bipartitions())\n",
    "print(f\"unsorted: {unsorted}\")\n",
    "#generate sorted list of bipartitions\n",
    "sorted = list(tree.iter_bipartitions(sort=True))\n",
    "print(f\"sorted: {sorted}\")"
   ]
  },
  {
   "cell_type": "code",
   "execution_count": 7,
   "metadata": {},
   "outputs": [
    {
     "name": "stdout",
     "output_type": "stream",
     "text": [
      "['A', 'B', 'C', 'D']\n",
      "unsorted: [({'D', 'C'}, {'B', 'A'})]\n",
      "sorted: [({'B', 'A'}, {'D', 'C'})]\n"
     ]
    }
   ],
   "source": [
    "#generate tree\n",
    "tree = toytree.tree(\"(A,(B,(C,D)));\")\n",
    "print(tree.get_tip_labels())\n",
    "#generate list of bipartitions\n",
    "unsorted = list(tree.iter_bipartitions())\n",
    "print(f\"unsorted: {unsorted}\")\n",
    "#generate sorted list of bipartitions\n",
    "sorted = list(tree.iter_bipartitions(sort=True))\n",
    "print(f\"sorted: {sorted}\")\n"
   ]
  },
  {
   "cell_type": "markdown",
   "metadata": {},
   "source": [
    "Here, the bipartitions are the same size, so they are placed in alphabetical order. Next, you can see that if the type is sortable (e.g. `type=list`, `type=tuple`), then the tips in each bipartition are also sorted. This happens regardless of the `sort` argument. "
   ]
  },
  {
   "cell_type": "code",
   "execution_count": 8,
   "metadata": {},
   "outputs": [
    {
     "name": "stdout",
     "output_type": "stream",
     "text": [
      "['A', 'B', 'C', 'D']\n",
      "unsorted: [({'D', 'C'}, {'B', 'A'})]\n",
      "sorted: [(['C', 'D'], ['A', 'B'])]\n"
     ]
    }
   ],
   "source": [
    "#generate tree\n",
    "tree = toytree.tree(\"(A,(B,(C,D)));\")\n",
    "print(tree.get_tip_labels())\n",
    "#generate list of bipartitions\n",
    "default = list(tree.iter_bipartitions())\n",
    "print(f\"unsorted: {default}\")\n",
    "#generate sorted list of bipartitions\n",
    "sortable = list(tree.iter_bipartitions(type=list))\n",
    "print(f\"sorted: {sortable}\")"
   ]
  }
 ],
 "metadata": {
  "kernelspec": {
   "display_name": "toytree_practice",
   "language": "python",
   "name": "toytree_practice"
  },
  "language_info": {
   "codemirror_mode": {
    "name": "ipython",
    "version": 3
   },
   "file_extension": ".py",
   "mimetype": "text/x-python",
   "name": "python",
   "nbconvert_exporter": "python",
   "pygments_lexer": "ipython3",
   "version": "3.12.4"
  }
 },
 "nbformat": 4,
 "nbformat_minor": 2
}
