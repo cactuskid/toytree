{
 "cells": [
  {
   "cell_type": "markdown",
   "metadata": {},
   "source": [
    "# Bipartition methods  \n",
    "\n",
    "A tree can be bisected along any branch to split it into two smaller subtrees, termed **bipartitions**. There are typically many bipartitions in a tree, and any two trees with different topologies will differ in their bipartition sets. For this reason, comparing the bipartition sets between trees is used in many contexts to quantify their differences. Because extracting and comparing bipartitions is a common procedure for many tree-based methods, we provide a convenient and powerful method for extracting and formatting bipartitions from trees using the `iter_bipartitions` method."
   ]
  },
  {
   "cell_type": "code",
   "execution_count": 370,
   "metadata": {},
   "outputs": [],
   "source": [
    "import toytree\n",
    "\n",
    "# unrooted tree w/ internal Node labels used in examples\n",
    "tree = toytree.tree(\"(a,b,((c,d)CD,(e,f)EF)X)T;\")"
   ]
  },
  {
   "cell_type": "markdown",
   "metadata": {},
   "source": [
    "## iter_bipartitions  \n",
    "\n",
    "The method `iter_bipartitions()` returns a generator that can be used to iterate over the bipartitions in a tree. This takes several arguments that can toggle the type of information returned (e.g., Nodes, node names, node features); the type of Nodes to include (only tips, or tips and internal nodes); the type of object to be returned containing the bipartitions (e.g., set, tuple); and whether or not to sort the bipartitions. These options are each demonstrated further below. First, we show a simple demonstration of the default options for extracting bipartitions from the example tree below."
   ]
  },
  {
   "cell_type": "code",
   "execution_count": 371,
   "metadata": {},
   "outputs": [
    {
     "data": {
      "text/html": [
       "<div class=\"toyplot\" id=\"t8c4ddae30d59447aa6ff6dd800edc80a\" style=\"text-align:center\"><svg class=\"toyplot-canvas-Canvas\" xmlns:toyplot=\"http://www.sandia.gov/toyplot\" xmlns:xlink=\"http://www.w3.org/1999/xlink\" xmlns=\"http://www.w3.org/2000/svg\" width=\"300.0px\" height=\"275.0px\" viewBox=\"0 0 300.0 275.0\" preserveAspectRatio=\"xMidYMid meet\" style=\"background-color:transparent;border-color:#292724;border-style:none;border-width:1.0;fill:rgb(16.1%,15.3%,14.1%);fill-opacity:1.0;font-family:Helvetica;font-size:12px;opacity:1.0;stroke:rgb(16.1%,15.3%,14.1%);stroke-opacity:1.0;stroke-width:1.0\" id=\"t1b847c9a0ffb4112b0d6709d5c74a841\"><g class=\"toyplot-coordinates-Cartesian\" id=\"t4f253f7b838f44258a1ee79d7098d78e\"><clipPath id=\"t34054a0720284a8db8bf20ba4a91f62c\"><rect x=\"35.0\" y=\"35.0\" width=\"230.0\" height=\"205.0\"></rect></clipPath><g clip-path=\"url(#t34054a0720284a8db8bf20ba4a91f62c)\"><g class=\"toytree-mark-Toytree\" id=\"t435ce6187a0f49aa844e58d305c0ca9d\"><g class=\"toytree-Edges\" style=\"stroke:rgb(14.5%,14.5%,14.5%);stroke-opacity:1.0;stroke-linecap:round;stroke-width:2.0;fill:none\"><path d=\"M 58.3 169.8 L 58.3 218.3 L 215.8 218.3\" id=\"9,0\" style=\"\"></path><path d=\"M 58.3 169.8 L 58.3 186.0 L 215.8 186.0\" id=\"9,1\" style=\"\"></path><path d=\"M 163.3 137.5 L 163.3 153.7 L 215.8 153.7\" id=\"6,2\" style=\"\"></path><path d=\"M 163.3 137.5 L 163.3 121.3 L 215.8 121.3\" id=\"6,3\" style=\"\"></path><path d=\"M 163.3 72.8 L 163.3 89.0 L 215.8 89.0\" id=\"7,4\" style=\"\"></path><path d=\"M 163.3 72.8 L 163.3 56.7 L 215.8 56.7\" id=\"7,5\" style=\"\"></path><path d=\"M 110.8 105.2 L 110.8 137.5 L 163.3 137.5\" id=\"8,6\" style=\"\"></path><path d=\"M 110.8 105.2 L 110.8 72.8 L 163.3 72.8\" id=\"8,7\" style=\"\"></path><path d=\"M 58.3 169.8 L 58.3 105.2 L 110.8 105.2\" id=\"9,8\" style=\"\"></path></g><g class=\"toytree-AdmixEdges\" style=\"fill:rgb(0.0%,0.0%,0.0%);fill-opacity:0.0;stroke:rgb(90.6%,54.1%,76.5%);stroke-opacity:0.6;font-size:14px;stroke-linecap:round;stroke-width:5\"></g><g class=\"toytree-Nodes\" style=\"fill:rgb(40.0%,76.1%,64.7%);fill-opacity:1.0;stroke:rgb(14.9%,14.9%,14.9%);stroke-opacity:1.0;stroke-width:1.5\"></g><g class=\"toytree-TipLabels\" style=\"fill:rgb(14.5%,14.5%,14.5%);fill-opacity:1.0;font-family:Helvetica;font-size:12px;font-weight:300;vertical-align:baseline;white-space:pre;stroke:none\"><g class=\"toytree-TipLabel\" transform=\"translate(215.85,218.347)\"><text x=\"15.0\" y=\"3.066\" style=\"fill:rgb(14.5%,14.5%,14.5%);fill-opacity:1.0\">a</text></g><g class=\"toytree-TipLabel\" transform=\"translate(215.85,186.008)\"><text x=\"15.0\" y=\"3.066\" style=\"fill:rgb(14.5%,14.5%,14.5%);fill-opacity:1.0\">b</text></g><g class=\"toytree-TipLabel\" transform=\"translate(215.85,153.669)\"><text x=\"15.0\" y=\"3.066\" style=\"fill:rgb(14.5%,14.5%,14.5%);fill-opacity:1.0\">c</text></g><g class=\"toytree-TipLabel\" transform=\"translate(215.85,121.331)\"><text x=\"15.0\" y=\"3.066\" style=\"fill:rgb(14.5%,14.5%,14.5%);fill-opacity:1.0\">d</text></g><g class=\"toytree-TipLabel\" transform=\"translate(215.85,88.9916)\"><text x=\"15.0\" y=\"3.066\" style=\"fill:rgb(14.5%,14.5%,14.5%);fill-opacity:1.0\">e</text></g><g class=\"toytree-TipLabel\" transform=\"translate(215.85,56.6526)\"><text x=\"15.0\" y=\"3.066\" style=\"fill:rgb(14.5%,14.5%,14.5%);fill-opacity:1.0\">f</text></g></g></g><g class=\"toytree-Annotation-Markers\" id=\"t6568e24c04764c9186b523873f3cf36b\" style=\"fill:rgb(40.0%,76.1%,64.7%);fill-opacity:1.0;stroke:rgb(14.9%,14.9%,14.9%);stroke-opacity:1.0;stroke-width:1.5\"><g id=\"Mark-0\" style=\"fill-opacity: 1.000\" transform=\"translate(137.061,137.5)\"><circle r=\"9.0\"></circle></g><g id=\"Mark-1\" style=\"fill-opacity: 1.000\" transform=\"translate(137.061,72.8221)\"><circle r=\"9.0\"></circle></g><g id=\"Mark-2\" style=\"fill-opacity: 1.000\" transform=\"translate(84.5356,105.161)\"><circle r=\"9.0\"></circle></g></g><g class=\"toyplot-mark-Text\" id=\"t363832e86c22427db3404e764f554d83\"><g class=\"toyplot-Series\"><g class=\"toyplot-Datum\" transform=\"translate(137.06134476292524,137.5)\"><text x=\"-3.3360000000000003\" y=\"3.066\" style=\"fill:rgb(14.5%,14.5%,14.5%);fill-opacity:1.0;font-family:Helvetica;font-size:12.0px;font-weight:300;opacity:1;stroke:none;vertical-align:baseline;white-space:pre\">6</text></g><g class=\"toyplot-Datum\" transform=\"translate(137.06134476292524,72.8220696937698)\"><text x=\"-3.3360000000000003\" y=\"3.066\" style=\"fill:rgb(14.5%,14.5%,14.5%);fill-opacity:1.0;font-family:Helvetica;font-size:12.0px;font-weight:300;opacity:1;stroke:none;vertical-align:baseline;white-space:pre\">7</text></g><g class=\"toyplot-Datum\" transform=\"translate(84.53564656508196,105.16103484688489)\"><text x=\"-3.3360000000000003\" y=\"3.066\" style=\"fill:rgb(14.5%,14.5%,14.5%);fill-opacity:1.0;font-family:Helvetica;font-size:12.0px;font-weight:300;opacity:1;stroke:none;vertical-align:baseline;white-space:pre\">8</text></g></g></g><g class=\"toytree-Annotation-Markers\" id=\"t968d1e801f334a008d0930b220570b4b\" style=\"fill:rgb(100.0%,64.7%,0.0%);fill-opacity:1.0;stroke:rgb(14.9%,14.9%,14.9%);stroke-opacity:1.0;stroke-width:1.5\"><g id=\"Mark-0\" style=\"fill-opacity: 1.000\" transform=\"translate(163.324,137.5)\"><rect x=\"-9.0\" y=\"-9.0\" width=\"18\" height=\"18\"></rect></g><g id=\"Mark-1\" style=\"fill-opacity: 1.000\" transform=\"translate(163.324,72.8221)\"><rect x=\"-9.0\" y=\"-9.0\" width=\"18\" height=\"18\"></rect></g><g id=\"Mark-2\" style=\"fill-opacity: 1.000\" transform=\"translate(110.798,105.161)\"><rect x=\"-9.0\" y=\"-9.0\" width=\"18\" height=\"18\"></rect></g><g id=\"Mark-3\" style=\"fill-opacity: 1.000\" transform=\"translate(58.2728,169.839)\"><rect x=\"-9.0\" y=\"-9.0\" width=\"18\" height=\"18\"></rect></g></g><g class=\"toyplot-mark-Text\" id=\"tccef878a60d74b5aa03e76978fea1fd0\"><g class=\"toyplot-Series\"><g class=\"toyplot-Datum\" transform=\"translate(163.3241938618469,137.5)\"><text x=\"-8.664\" y=\"3.066\" style=\"fill:rgb(14.5%,14.5%,14.5%);fill-opacity:1.0;font-family:Helvetica;font-size:12.0px;font-weight:300;opacity:1;stroke:none;vertical-align:baseline;white-space:pre\">CD</text></g><g class=\"toyplot-Datum\" transform=\"translate(163.3241938618469,72.8220696937698)\"><text x=\"-7.668\" y=\"3.066\" style=\"fill:rgb(14.5%,14.5%,14.5%);fill-opacity:1.0;font-family:Helvetica;font-size:12.0px;font-weight:300;opacity:1;stroke:none;vertical-align:baseline;white-space:pre\">EF</text></g><g class=\"toyplot-Datum\" transform=\"translate(110.7984956640036,105.16103484688489)\"><text x=\"-4.002\" y=\"3.066\" style=\"fill:rgb(14.5%,14.5%,14.5%);fill-opacity:1.0;font-family:Helvetica;font-size:12.0px;font-weight:300;opacity:1;stroke:none;vertical-align:baseline;white-space:pre\">X</text></g><g class=\"toyplot-Datum\" transform=\"translate(58.27279746616031,169.83896515311508)\"><text x=\"-3.666\" y=\"3.066\" style=\"fill:rgb(14.5%,14.5%,14.5%);fill-opacity:1.0;font-family:Helvetica;font-size:12.0px;font-weight:300;opacity:1;stroke:none;vertical-align:baseline;white-space:pre\">T</text></g></g></g></g></g></svg><div class=\"toyplot-behavior\"><script>(function()\n",
       "{\n",
       "var modules={};\n",
       "})();</script></div></div>"
      ]
     },
     "metadata": {},
     "output_type": "display_data"
    }
   ],
   "source": [
    "# visualize the example tree w/ node and edge labels\n",
    "c, a, m = tree.draw(use_edge_lengths=False)\n",
    "tree.annotate.add_edge_markers(a, size=18)\n",
    "tree.annotate.add_edge_labels(a)\n",
    "tree.annotate.add_node_markers(a, size=18, marker=\"s\", color=\"orange\")\n",
    "tree.annotate.add_node_labels(a, \"name\");"
   ]
  },
  {
   "cell_type": "markdown",
   "metadata": {},
   "source": [
    "When run with the *default arguments* this returns only the bipartitions created by internal edges in the tree. The three edges labeled in green above correspond to the three bipartitions shown below, where each is returned as a tuple with two sets of tip Node names that exist on either side of each split."
   ]
  },
  {
   "cell_type": "code",
   "execution_count": 372,
   "metadata": {},
   "outputs": [
    {
     "name": "stdout",
     "output_type": "stream",
     "text": [
      "({'c', 'd'}, {'b', 'e', 'a', 'f'})\n",
      "({'f', 'e'}, {'b', 'c', 'a', 'd'})\n",
      "({'c', 'f', 'e', 'd'}, {'b', 'a'})\n"
     ]
    }
   ],
   "source": [
    "# iterate and print the bipartitions\n",
    "for bipartition in tree.iter_bipartitions():\n",
    "    print(bipartition)"
   ]
  },
  {
   "cell_type": "markdown",
   "metadata": {},
   "source": [
    "## Module-level versus object-level API\n",
    "You can access the `iter_bipartitions` from three places in `toytree`: from the module level using `toytree.enum`; from the `ToyTree.enum` subpackage API associated with any `Toytree` object; and finally, also from a `ToyTree` object directly, since it is a relatively common method. Each is demonstrated below, where the module-level method accepts a `ToyTree` as its first argument, while the latter two examples use context to know which tree to extract bipartitions from."
   ]
  },
  {
   "cell_type": "code",
   "execution_count": 373,
   "metadata": {},
   "outputs": [
    {
     "data": {
      "text/plain": [
       "<generator object iter_bipartitions at 0x78d181191800>"
      ]
     },
     "execution_count": 373,
     "metadata": {},
     "output_type": "execute_result"
    }
   ],
   "source": [
    "toytree.enum.iter_bipartitions(tree)"
   ]
  },
  {
   "cell_type": "code",
   "execution_count": 374,
   "metadata": {},
   "outputs": [
    {
     "data": {
      "text/plain": [
       "<generator object iter_bipartitions at 0x78d181191f80>"
      ]
     },
     "execution_count": 374,
     "metadata": {},
     "output_type": "execute_result"
    }
   ],
   "source": [
    "tree.enum.iter_bipartitions()"
   ]
  },
  {
   "cell_type": "code",
   "execution_count": 375,
   "metadata": {},
   "outputs": [
    {
     "data": {
      "text/plain": [
       "<generator object iter_bipartitions at 0x78d181191e40>"
      ]
     },
     "execution_count": 375,
     "metadata": {},
     "output_type": "execute_result"
    }
   ],
   "source": [
    "tree.iter_bipartitions()"
   ]
  },
  {
   "cell_type": "markdown",
   "metadata": {},
   "source": [
    "## feature\n",
    "The default behavior is to represent nodes on either side of a bipartition using node names. In other words, we return the \"name\" feature of Node objects. This is determined by the argument `feature`, which can be toggled to instead return Node objects, or any other desired feature of nodes. This can be particularly useful when nodes do not have unique names. In that case, returning Node objects, or their unique integer \"idx\" labels is likely more useful. "
   ]
  },
  {
   "cell_type": "code",
   "execution_count": 376,
   "metadata": {},
   "outputs": [
    {
     "name": "stdout",
     "output_type": "stream",
     "text": [
      "({'c', 'd'}, {'b', 'e', 'a', 'f'})\n",
      "({'f', 'e'}, {'b', 'c', 'a', 'd'})\n",
      "({'c', 'f', 'e', 'd'}, {'b', 'a'})\n"
     ]
    }
   ],
   "source": [
    "# default: feature=name\n",
    "for bipart in tree.iter_bipartitions():\n",
    "    print(bipart)"
   ]
  },
  {
   "cell_type": "code",
   "execution_count": 377,
   "metadata": {},
   "outputs": [
    {
     "name": "stdout",
     "output_type": "stream",
     "text": [
      "({2, 3}, {0, 1, 4, 5})\n",
      "({4, 5}, {0, 1, 2, 3})\n",
      "({2, 3, 4, 5}, {0, 1})\n"
     ]
    }
   ],
   "source": [
    "# feature=idx is better when names are not unique\n",
    "for bipart in tree.iter_bipartitions(feature='idx'):\n",
    "    print(bipart)"
   ]
  },
  {
   "cell_type": "code",
   "execution_count": 378,
   "metadata": {},
   "outputs": [
    {
     "name": "stdout",
     "output_type": "stream",
     "text": [
      "({<Node(idx=2, name='c')>, <Node(idx=3, name='d')>}, {<Node(idx=4, name='e')>, <Node(idx=1, name='b')>, <Node(idx=0, name='a')>, <Node(idx=5, name='f')>})\n",
      "({<Node(idx=4, name='e')>, <Node(idx=5, name='f')>}, {<Node(idx=0, name='a')>, <Node(idx=1, name='b')>, <Node(idx=2, name='c')>, <Node(idx=3, name='d')>})\n",
      "({<Node(idx=4, name='e')>, <Node(idx=2, name='c')>, <Node(idx=5, name='f')>, <Node(idx=3, name='d')>}, {<Node(idx=0, name='a')>, <Node(idx=1, name='b')>})\n"
     ]
    }
   ],
   "source": [
    "# or feature=None to get Node objects\n",
    "for bipart in tree.iter_bipartitions(feature=None):\n",
    "    print(bipart)"
   ]
  },
  {
   "cell_type": "markdown",
   "metadata": {},
   "source": [
    "## type\n",
    "The items within these tuples can be specified to be represented by a particular object type (e.g., `set`, `frozenset`, `list`, `tuple`) using the argument `type`. The conversion of data to the specified type is performed efficiently within the `iter_bipartitions` method, and so selecting the appropriate type here is typically better than converting yourself afterwards. It is particularly important to be aware of the shortcomings of the `set` type, which is the default since it is most useful for comparing bipartitions between trees, but it not ideal for other types of operations or data, since sets cannot be sorted, or store items with identical values. In those cases, setting `type=tuple` is commonly useful."
   ]
  },
  {
   "cell_type": "code",
   "execution_count": 379,
   "metadata": {},
   "outputs": [
    {
     "name": "stdout",
     "output_type": "stream",
     "text": [
      "(('c', 'd'), ('a', 'b', 'e', 'f'))\n",
      "(('e', 'f'), ('a', 'b', 'c', 'd'))\n",
      "(('c', 'd', 'e', 'f'), ('a', 'b'))\n"
     ]
    }
   ],
   "source": [
    "# tuples of tuples\n",
    "for bipart in tree.iter_bipartitions(type=tuple):\n",
    "    print(bipart)"
   ]
  },
  {
   "cell_type": "code",
   "execution_count": 380,
   "metadata": {},
   "outputs": [
    {
     "name": "stdout",
     "output_type": "stream",
     "text": [
      "(['c', 'd'], ['a', 'b', 'e', 'f'])\n",
      "(['e', 'f'], ['a', 'b', 'c', 'd'])\n",
      "(['c', 'd', 'e', 'f'], ['a', 'b'])\n"
     ]
    }
   ],
   "source": [
    "# tuples of lists\n",
    "for bipart in tree.iter_bipartitions(type=list):\n",
    "    print(bipart)"
   ]
  },
  {
   "attachments": {},
   "cell_type": "markdown",
   "metadata": {},
   "source": [
    "### compatibile features & types\n",
    "To demonstrate an example mishap, consider a case where we want to measure the branch lengths of nodes on either side of each bipartition. We could select `dist` (branch length) as the feature to get this feature extracted from each Node on each side of each bipartition. However, because some nodes have identical dist values in this example, they are collapsed in a set, such that we lose data. This can be addressed by changing the returned type from a set to a tuple, as shown below."
   ]
  },
  {
   "cell_type": "code",
   "execution_count": 381,
   "metadata": {},
   "outputs": [
    {
     "name": "stdout",
     "output_type": "stream",
     "text": [
      "({1.0}, {1.0})\n",
      "({1.0}, {1.0})\n",
      "({1.0}, {1.0})\n"
     ]
    }
   ],
   "source": [
    "# beware when selecting node features stored as a set (default)\n",
    "for bipart in tree.iter_bipartitions(feature=\"dist\"):\n",
    "    print(bipart)"
   ]
  },
  {
   "cell_type": "code",
   "execution_count": 382,
   "metadata": {},
   "outputs": [
    {
     "name": "stdout",
     "output_type": "stream",
     "text": [
      "((1.0, 1.0), (1.0, 1.0, 1.0, 1.0))\n",
      "((1.0, 1.0), (1.0, 1.0, 1.0, 1.0))\n",
      "((1.0, 1.0, 1.0, 1.0), (1.0, 1.0))\n"
     ]
    }
   ],
   "source": [
    "# use type=tuple instead of set when identical node features exist\n",
    "for bipart in tree.iter_bipartitions(feature=\"dist\", type=tuple):\n",
    "    print(bipart)"
   ]
  },
  {
   "attachments": {},
   "cell_type": "markdown",
   "metadata": {},
   "source": [
    "## singleton partitions\n",
    "\n",
    "By default, singleton bipartitions (e.g., (A | B,C,D)) which only separate a single tip Node from the rest of the tree are excluded. This is because these are implicitly shared between any two trees that have the same tips, and thus these bipartitions are not informative about tree differences. However, they can be informative for other reasons. And so if you wish to include singleton bipartitions in the returned generator you can use the argument `include_singleton_partitions=True`."
   ]
  },
  {
   "cell_type": "code",
   "execution_count": 383,
   "metadata": {},
   "outputs": [
    {
     "name": "stdout",
     "output_type": "stream",
     "text": [
      "({'a'}, {'f', 'b', 'c', 'e', 'd'})\n",
      "({'b'}, {'f', 'a', 'c', 'e', 'd'})\n",
      "({'c'}, {'f', 'a', 'b', 'e', 'd'})\n",
      "({'d'}, {'f', 'a', 'b', 'c', 'e'})\n",
      "({'e'}, {'f', 'a', 'b', 'c', 'd'})\n",
      "({'f'}, {'a', 'b', 'c', 'e', 'd'})\n",
      "({'c', 'd'}, {'b', 'e', 'a', 'f'})\n",
      "({'f', 'e'}, {'b', 'c', 'a', 'd'})\n",
      "({'c', 'f', 'e', 'd'}, {'b', 'a'})\n"
     ]
    }
   ],
   "source": [
    "# include singleton splits\n",
    "for bipartition in tree.iter_bipartitions(include_singleton_partitions=True):\n",
    "    print(bipartition)"
   ]
  },
  {
   "cell_type": "markdown",
   "metadata": {},
   "source": [
    "## Sort\n",
    "There are three *orders* to be aware of when iterating over bipartitions: (1) first is the order in which bipartitions are returned given the tree topology; (2) second is the order of the two partitions the compose each bipartition; and (3) finally the order of items within a partition.\n",
    "\n",
    "1. The first is always the same. Bipartitions are returned in *idx order* by iterating over the tree starting from the edge above Node 0, and ending with an edge below the treenode.\n",
    "\n",
    "2. The second is modified if `sort=True`. By default each bipartition is generated as a tuple containing the nodes (below, above) a given edge. When sorted, these will instead be ordered first by length, so that the shorter partition comes first, and second by the lowest item value (e.g., alphanumeric is str names). Thus, if the two partitions are of equal length the one containing the lowest name comes first (e.g.,  `({'a', 'b'}, {'c', 'd'})`).\n",
    "\n",
    "3. Finally, the order of items within partitions is also sorted if `sort=True`, if possible. This depends on the `type` argument used as well. If the partition object type is sortable (e.g., it is a tuple and not a set) then the items within the partition are also sorted.\n",
    "\n",
    "An example is shown below on a tree with randomly ordered names. "
   ]
  },
  {
   "cell_type": "code",
   "execution_count": 340,
   "metadata": {},
   "outputs": [
    {
     "data": {
      "text/html": [
       "<div class=\"toyplot\" id=\"t003adb2d1a414ac28ca569f5473e2086\" style=\"text-align:center\"><svg class=\"toyplot-canvas-Canvas\" xmlns:toyplot=\"http://www.sandia.gov/toyplot\" xmlns:xlink=\"http://www.w3.org/1999/xlink\" xmlns=\"http://www.w3.org/2000/svg\" width=\"300.0px\" height=\"275.0px\" viewBox=\"0 0 300.0 275.0\" preserveAspectRatio=\"xMidYMid meet\" style=\"background-color:transparent;border-color:#292724;border-style:none;border-width:1.0;fill:rgb(16.1%,15.3%,14.1%);fill-opacity:1.0;font-family:Helvetica;font-size:12px;opacity:1.0;stroke:rgb(16.1%,15.3%,14.1%);stroke-opacity:1.0;stroke-width:1.0\" id=\"t93d4d9fa694b41deb644311d68ce0065\"><g class=\"toyplot-coordinates-Cartesian\" id=\"t24c9a36b2ed64315afea569a34eff346\"><clipPath id=\"t1335bcb64b3a4245ac9eb36f5fc935c0\"><rect x=\"35.0\" y=\"35.0\" width=\"230.0\" height=\"205.0\"></rect></clipPath><g clip-path=\"url(#t1335bcb64b3a4245ac9eb36f5fc935c0)\"><g class=\"toytree-mark-Toytree\" id=\"tba81adb8893644b5abac7752d083349b\"><g class=\"toytree-Edges\" style=\"stroke:rgb(14.5%,14.5%,14.5%);stroke-opacity:1.0;stroke-linecap:round;stroke-width:2.0;fill:none\"><path d=\"M 169.7 206.8 L 169.7 218.3 L 209.3 218.3\" id=\"8,0\" style=\"\"></path><path d=\"M 169.7 206.8 L 169.7 195.2 L 209.3 195.2\" id=\"8,1\" style=\"\"></path><path d=\"M 169.7 160.6 L 169.7 172.1 L 209.3 172.1\" id=\"9,2\" style=\"\"></path><path d=\"M 169.7 160.6 L 169.7 149.0 L 209.3 149.0\" id=\"9,3\" style=\"\"></path><path d=\"M 130.1 114.4 L 130.1 126.0 L 209.3 126.0\" id=\"11,4\" style=\"\"></path><path d=\"M 130.1 114.4 L 130.1 102.9 L 209.3 102.9\" id=\"11,5\" style=\"\"></path><path d=\"M 90.4 68.2 L 90.4 79.8 L 209.3 79.8\" id=\"13,6\" style=\"\"></path><path d=\"M 90.4 68.2 L 90.4 56.7 L 209.3 56.7\" id=\"13,7\" style=\"\"></path><path d=\"M 130.1 183.7 L 130.1 206.8 L 169.7 206.8\" id=\"10,8\" style=\"\"></path><path d=\"M 130.1 183.7 L 130.1 160.6 L 169.7 160.6\" id=\"10,9\" style=\"\"></path><path d=\"M 90.4 149.0 L 90.4 183.7 L 130.1 183.7\" id=\"12,10\" style=\"\"></path><path d=\"M 90.4 149.0 L 90.4 114.4 L 130.1 114.4\" id=\"12,11\" style=\"\"></path><path d=\"M 50.8 108.6 L 50.8 149.0 L 90.4 149.0\" id=\"14,12\" style=\"\"></path><path d=\"M 50.8 108.6 L 50.8 68.2 L 90.4 68.2\" id=\"14,13\" style=\"\"></path></g><g class=\"toytree-AdmixEdges\" style=\"fill:rgb(0.0%,0.0%,0.0%);fill-opacity:0.0;stroke:rgb(90.6%,54.1%,76.5%);stroke-opacity:0.6;font-size:14px;stroke-linecap:round;stroke-width:5\"></g><g class=\"toytree-Nodes\" style=\"fill:rgb(40.0%,76.1%,64.7%);fill-opacity:1.0;stroke:rgb(14.9%,14.9%,14.9%);stroke-opacity:1.0;stroke-width:1.5\"></g><g class=\"toytree-TipLabels\" style=\"fill:rgb(14.5%,14.5%,14.5%);fill-opacity:1.0;font-family:Helvetica;font-size:12px;font-weight:300;vertical-align:baseline;white-space:pre;stroke:none\"><g class=\"toytree-TipLabel\" transform=\"translate(209.311,218.347)\"><text x=\"15.0\" y=\"3.066\" style=\"fill:rgb(14.5%,14.5%,14.5%);fill-opacity:1.0\">r3</text></g><g class=\"toytree-TipLabel\" transform=\"translate(209.311,195.248)\"><text x=\"15.0\" y=\"3.066\" style=\"fill:rgb(14.5%,14.5%,14.5%);fill-opacity:1.0\">r0</text></g><g class=\"toytree-TipLabel\" transform=\"translate(209.311,172.149)\"><text x=\"15.0\" y=\"3.066\" style=\"fill:rgb(14.5%,14.5%,14.5%);fill-opacity:1.0\">r5</text></g><g class=\"toytree-TipLabel\" transform=\"translate(209.311,149.05)\"><text x=\"15.0\" y=\"3.066\" style=\"fill:rgb(14.5%,14.5%,14.5%);fill-opacity:1.0\">r6</text></g><g class=\"toytree-TipLabel\" transform=\"translate(209.311,125.95)\"><text x=\"15.0\" y=\"3.066\" style=\"fill:rgb(14.5%,14.5%,14.5%);fill-opacity:1.0\">r4</text></g><g class=\"toytree-TipLabel\" transform=\"translate(209.311,102.851)\"><text x=\"15.0\" y=\"3.066\" style=\"fill:rgb(14.5%,14.5%,14.5%);fill-opacity:1.0\">r7</text></g><g class=\"toytree-TipLabel\" transform=\"translate(209.311,79.7518)\"><text x=\"15.0\" y=\"3.066\" style=\"fill:rgb(14.5%,14.5%,14.5%);fill-opacity:1.0\">r1</text></g><g class=\"toytree-TipLabel\" transform=\"translate(209.311,56.6526)\"><text x=\"15.0\" y=\"3.066\" style=\"fill:rgb(14.5%,14.5%,14.5%);fill-opacity:1.0\">r2</text></g></g></g></g></g></svg><div class=\"toyplot-behavior\"><script>(function()\n",
       "{\n",
       "var modules={};\n",
       "})();</script></div></div>"
      ]
     },
     "metadata": {},
     "output_type": "display_data"
    }
   ],
   "source": [
    "# generate a random tree\n",
    "rtree = toytree.rtree.unittree(ntips=8, random_names=True, seed=123)\n",
    "\n",
    "# draw the tree\n",
    "rtree.draw();"
   ]
  },
  {
   "cell_type": "code",
   "execution_count": 341,
   "metadata": {},
   "outputs": [
    {
     "data": {
      "text/plain": [
       "[({'r0', 'r3'}, {'r1', 'r2', 'r4', 'r5', 'r6', 'r7'}),\n",
       " ({'r5', 'r6'}, {'r0', 'r1', 'r2', 'r3', 'r4', 'r7'}),\n",
       " ({'r0', 'r3', 'r5', 'r6'}, {'r1', 'r2', 'r4', 'r7'}),\n",
       " ({'r4', 'r7'}, {'r0', 'r1', 'r2', 'r3', 'r5', 'r6'}),\n",
       " ({'r0', 'r3', 'r4', 'r5', 'r6', 'r7'}, {'r1', 'r2'})]"
      ]
     },
     "execution_count": 341,
     "metadata": {},
     "output_type": "execute_result"
    }
   ],
   "source": [
    "# show the unordered bipartitions\n",
    "list(rtree.iter_bipartitions(sort=False))"
   ]
  },
  {
   "cell_type": "code",
   "execution_count": 342,
   "metadata": {},
   "outputs": [
    {
     "data": {
      "text/plain": [
       "[({'r0', 'r3'}, {'r1', 'r2', 'r4', 'r5', 'r6', 'r7'}),\n",
       " ({'r5', 'r6'}, {'r0', 'r1', 'r2', 'r3', 'r4', 'r7'}),\n",
       " ({'r0', 'r3', 'r5', 'r6'}, {'r1', 'r2', 'r4', 'r7'}),\n",
       " ({'r4', 'r7'}, {'r0', 'r1', 'r2', 'r3', 'r5', 'r6'}),\n",
       " ({'r1', 'r2'}, {'r0', 'r3', 'r4', 'r5', 'r6', 'r7'})]"
      ]
     },
     "execution_count": 342,
     "metadata": {},
     "output_type": "execute_result"
    }
   ],
   "source": [
    "# show the ordered bipartitions\n",
    "list(rtree.iter_bipartitions(sort=True))"
   ]
  },
  {
   "cell_type": "code",
   "execution_count": 343,
   "metadata": {},
   "outputs": [
    {
     "data": {
      "text/plain": [
       "[(('r0', 'r3'), ('r1', 'r2', 'r4', 'r5', 'r6', 'r7')),\n",
       " (('r5', 'r6'), ('r0', 'r1', 'r2', 'r3', 'r4', 'r7')),\n",
       " (('r0', 'r3', 'r5', 'r6'), ('r1', 'r2', 'r4', 'r7')),\n",
       " (('r4', 'r7'), ('r0', 'r1', 'r2', 'r3', 'r5', 'r6')),\n",
       " (('r1', 'r2'), ('r0', 'r3', 'r4', 'r5', 'r6', 'r7'))]"
      ]
     },
     "execution_count": 343,
     "metadata": {},
     "output_type": "execute_result"
    }
   ],
   "source": [
    "# show the ordered bipartitions\n",
    "list(rtree.iter_bipartitions(sort=True, type=tuple))"
   ]
  },
  {
   "cell_type": "code",
   "execution_count": null,
   "metadata": {},
   "outputs": [],
   "source": []
  },
  {
   "attachments": {},
   "cell_type": "markdown",
   "metadata": {},
   "source": [
    "## Internal nodes\n",
    "The default behavior is to only represent tip nodes in the returned bipartitions, as this provides sufficient information for comparing tree topologies. But there can be other cases where you want to compare the internal nodes as well on either side of each bipartition, particularly when the internal nodes have features associated with them, such as internal node names. You can toggle the behavior to also include internal nodes in bipartitions using `include_internal_nodes=True`. Note that the treenode (here labeled T) is included in this set by default (see below for further options concerning the treenode). "
   ]
  },
  {
   "cell_type": "code",
   "execution_count": 398,
   "metadata": {},
   "outputs": [
    {
     "name": "stdout",
     "output_type": "stream",
     "text": [
      "({'CD', 'c', 'd'}, {'f', 'a', 'b', 'e', 'T', 'EF', 'X'})\n",
      "({'EF', 'f', 'e'}, {'a', 'b', 'c', 'T', 'CD', 'd', 'X'})\n",
      "({'f', 'c', 'e', 'CD', 'EF', 'X', 'd'}, {'T', 'b', 'a'})\n"
     ]
    }
   ],
   "source": [
    "# include internal nodes\n",
    "for bipart in tree.iter_bipartitions(include_internal_nodes=True):\n",
    "    print(bipart)"
   ]
  },
  {
   "cell_type": "markdown",
   "metadata": {},
   "source": [
    "## treenode (root)\n",
    "Note that the treenode can be moved to difference places by re-rooting a tree and this does not change the number or identity of the bipartitions, since the number of splits in the tree remains the same, since we do not consider a split induced by the root as a bipartition. This is demonstrated below by comparing a rooted versus unrooted tree, and comparing two alternatively rooted trees. We show the internal node names to show that this is true whether or not internal nodes are included."
   ]
  },
  {
   "cell_type": "markdown",
   "metadata": {},
   "source": [
    "#### rooted versus unrooted"
   ]
  },
  {
   "cell_type": "code",
   "execution_count": 453,
   "metadata": {},
   "outputs": [
    {
     "data": {
      "text/plain": [
       "[({'CD', 'c', 'd'}, {'EF', 'T', 'X', 'a', 'b', 'e', 'f'}),\n",
       " ({'EF', 'e', 'f'}, {'CD', 'T', 'X', 'a', 'b', 'c', 'd'}),\n",
       " ({'T', 'a', 'b'}, {'CD', 'EF', 'X', 'c', 'd', 'e', 'f'})]"
      ]
     },
     "execution_count": 453,
     "metadata": {},
     "output_type": "execute_result"
    }
   ],
   "source": [
    "# bipartitions of the tree when unrooted\n",
    "list(tree.iter_bipartitions(include_internal_nodes=True, sort=True))"
   ]
  },
  {
   "cell_type": "code",
   "execution_count": 454,
   "metadata": {},
   "outputs": [
    {
     "data": {
      "text/plain": [
       "[({'CD', 'c', 'd'}, {'EF', 'T', 'X', 'a', 'b', 'e', 'f'}),\n",
       " ({'EF', 'e', 'f'}, {'CD', 'T', 'X', 'a', 'b', 'c', 'd'}),\n",
       " ({'T', 'a', 'b'}, {'CD', 'EF', 'X', 'c', 'd', 'e', 'f'})]"
      ]
     },
     "execution_count": 454,
     "metadata": {},
     "output_type": "execute_result"
    }
   ],
   "source": [
    "# bipartitions of the tree after rooting\n",
    "list(tree.root(\"c\", \"d\").iter_bipartitions(include_internal_nodes=True, sort=True))"
   ]
  },
  {
   "cell_type": "markdown",
   "metadata": {},
   "source": [
    "#### two alternative rootings\n",
    "Two alternative rootings of the tree return the exact same bipartitions, and only differ in the order that those bipartitions are returned. "
   ]
  },
  {
   "cell_type": "code",
   "execution_count": 455,
   "metadata": {},
   "outputs": [
    {
     "data": {
      "text/plain": [
       "[({'CD', 'c', 'd'}, {'EF', 'T', 'X', 'a', 'b', 'e', 'f'}),\n",
       " ({'EF', 'e', 'f'}, {'CD', 'T', 'X', 'a', 'b', 'c', 'd'}),\n",
       " ({'T', 'a', 'b'}, {'CD', 'EF', 'X', 'c', 'd', 'e', 'f'})]"
      ]
     },
     "execution_count": 455,
     "metadata": {},
     "output_type": "execute_result"
    }
   ],
   "source": [
    "# bipartitions of the tree after rooting\n",
    "list(tree.root(\"a\").iter_bipartitions(include_internal_nodes=True, sort=True))"
   ]
  },
  {
   "cell_type": "code",
   "execution_count": 456,
   "metadata": {},
   "outputs": [
    {
     "data": {
      "text/plain": [
       "[({'CD', 'c', 'd'}, {'EF', 'T', 'X', 'a', 'b', 'e', 'f'}),\n",
       " ({'EF', 'e', 'f'}, {'CD', 'T', 'X', 'a', 'b', 'c', 'd'}),\n",
       " ({'T', 'a', 'b'}, {'CD', 'EF', 'X', 'c', 'd', 'e', 'f'})]"
      ]
     },
     "execution_count": 456,
     "metadata": {},
     "output_type": "execute_result"
    }
   ],
   "source": [
    "# bipartitions of the tree after rooting\n",
    "list(tree.root(\"c\", \"d\").iter_bipartitions(include_internal_nodes=True, sort=True))"
   ]
  },
  {
   "cell_type": "markdown",
   "metadata": {},
   "source": [
    "## Comparing bipartitions\n",
    "Below are some example set operations used to compare bipartitions between two trees. This is merely shown for demonstration for users who want to develop their own metrics based on bipartitions. See the `toytree.distance` module for many examples of existing tree distance metrics already implemented in `toytree`."
   ]
  },
  {
   "cell_type": "code",
   "execution_count": 344,
   "metadata": {},
   "outputs": [],
   "source": [
    "# three trees to compare\n",
    "tree_1 = toytree.tree(\"(a,b,((c,d),(e,f)));\")\n",
    "tree_2 = toytree.tree(\"(c,d,((a,b),(e,f)));\")\n",
    "tree_3 = toytree.tree(\"(a,c,((b,d),(e,f)));\")"
   ]
  },
  {
   "cell_type": "code",
   "execution_count": 345,
   "metadata": {},
   "outputs": [
    {
     "data": {
      "text/plain": [
       "{(frozenset({'c', 'd'}), frozenset({'a', 'b', 'e', 'f'})),\n",
       " (frozenset({'e', 'f'}), frozenset({'a', 'b', 'c', 'd'})),\n",
       " (frozenset({'a', 'b'}), frozenset({'c', 'd', 'e', 'f'}))}"
      ]
     },
     "execution_count": 345,
     "metadata": {},
     "output_type": "execute_result"
    }
   ],
   "source": [
    "# get SORTED bipartitions\n",
    "biparts_1 = set(tree_1.iter_bipartitions(type=frozenset, sort=True))\n",
    "biparts_1"
   ]
  },
  {
   "cell_type": "code",
   "execution_count": 346,
   "metadata": {},
   "outputs": [
    {
     "data": {
      "text/plain": [
       "{(frozenset({'c', 'd'}), frozenset({'a', 'b', 'e', 'f'})),\n",
       " (frozenset({'e', 'f'}), frozenset({'a', 'b', 'c', 'd'})),\n",
       " (frozenset({'a', 'b'}), frozenset({'c', 'd', 'e', 'f'}))}"
      ]
     },
     "execution_count": 346,
     "metadata": {},
     "output_type": "execute_result"
    }
   ],
   "source": [
    "# get SORTED bipartitions\n",
    "biparts_2 = set(tree_2.iter_bipartitions(type=frozenset, sort=True))\n",
    "biparts_2"
   ]
  },
  {
   "cell_type": "code",
   "execution_count": 347,
   "metadata": {},
   "outputs": [
    {
     "data": {
      "text/plain": [
       "{(frozenset({'e', 'f'}), frozenset({'a', 'b', 'c', 'd'})),\n",
       " (frozenset({'b', 'd'}), frozenset({'a', 'c', 'e', 'f'})),\n",
       " (frozenset({'a', 'c'}), frozenset({'b', 'd', 'e', 'f'}))}"
      ]
     },
     "execution_count": 347,
     "metadata": {},
     "output_type": "execute_result"
    }
   ],
   "source": [
    "# get SORTED bipartitions\n",
    "biparts_3 = set(tree_3.iter_bipartitions(type=frozenset, sort=True))\n",
    "biparts_3"
   ]
  },
  {
   "cell_type": "markdown",
   "metadata": {},
   "source": [
    "### shared biparts"
   ]
  },
  {
   "cell_type": "code",
   "execution_count": 348,
   "metadata": {},
   "outputs": [
    {
     "data": {
      "text/plain": [
       "{(frozenset({'c', 'd'}), frozenset({'a', 'b', 'e', 'f'})),\n",
       " (frozenset({'e', 'f'}), frozenset({'a', 'b', 'c', 'd'})),\n",
       " (frozenset({'a', 'b'}), frozenset({'c', 'd', 'e', 'f'}))}"
      ]
     },
     "execution_count": 348,
     "metadata": {},
     "output_type": "execute_result"
    }
   ],
   "source": [
    "# get bipartitions shared by both trees\n",
    "biparts_1.intersection(biparts_2)"
   ]
  },
  {
   "cell_type": "code",
   "execution_count": 349,
   "metadata": {},
   "outputs": [
    {
     "data": {
      "text/plain": [
       "{(frozenset({'e', 'f'}), frozenset({'a', 'b', 'c', 'd'}))}"
      ]
     },
     "execution_count": 349,
     "metadata": {},
     "output_type": "execute_result"
    }
   ],
   "source": [
    "# get bipartitions shared by both trees\n",
    "biparts_1.intersection(biparts_3)"
   ]
  },
  {
   "cell_type": "code",
   "execution_count": 350,
   "metadata": {},
   "outputs": [
    {
     "data": {
      "text/plain": [
       "{(frozenset({'e', 'f'}), frozenset({'a', 'b', 'c', 'd'}))}"
      ]
     },
     "execution_count": 350,
     "metadata": {},
     "output_type": "execute_result"
    }
   ],
   "source": [
    "# get bipartitions shared by both trees\n",
    "biparts_2.intersection(biparts_3)"
   ]
  },
  {
   "cell_type": "markdown",
   "metadata": {},
   "source": [
    "### differences"
   ]
  },
  {
   "cell_type": "code",
   "execution_count": 351,
   "metadata": {},
   "outputs": [
    {
     "data": {
      "text/plain": [
       "set()"
      ]
     },
     "execution_count": 351,
     "metadata": {},
     "output_type": "execute_result"
    }
   ],
   "source": [
    "# bipartitions in set1 not in set2\n",
    "biparts_1 - biparts_2"
   ]
  },
  {
   "cell_type": "code",
   "execution_count": 352,
   "metadata": {},
   "outputs": [
    {
     "data": {
      "text/plain": [
       "{(frozenset({'c', 'd'}), frozenset({'a', 'b', 'e', 'f'})),\n",
       " (frozenset({'a', 'b'}), frozenset({'c', 'd', 'e', 'f'}))}"
      ]
     },
     "execution_count": 352,
     "metadata": {},
     "output_type": "execute_result"
    }
   ],
   "source": [
    "# bipartitions in set1 not in set3\n",
    "biparts_1 - biparts_3"
   ]
  },
  {
   "cell_type": "code",
   "execution_count": 353,
   "metadata": {},
   "outputs": [
    {
     "data": {
      "text/plain": [
       "{(frozenset({'b', 'd'}), frozenset({'a', 'c', 'e', 'f'})),\n",
       " (frozenset({'a', 'c'}), frozenset({'b', 'd', 'e', 'f'})),\n",
       " (frozenset({'a', 'b'}), frozenset({'c', 'd', 'e', 'f'})),\n",
       " (frozenset({'c', 'd'}), frozenset({'a', 'b', 'e', 'f'}))}"
      ]
     },
     "execution_count": 353,
     "metadata": {},
     "output_type": "execute_result"
    }
   ],
   "source": [
    "# all bipartitions not shared by both trees \n",
    "biparts_1.symmetric_difference(biparts_3)"
   ]
  }
 ],
 "metadata": {
  "kernelspec": {
   "display_name": "Python 3 (ipykernel)",
   "language": "python",
   "name": "python3"
  },
  "language_info": {
   "codemirror_mode": {
    "name": "ipython",
    "version": 3
   },
   "file_extension": ".py",
   "mimetype": "text/x-python",
   "name": "python",
   "nbconvert_exporter": "python",
   "pygments_lexer": "ipython3",
   "version": "3.12.4"
  }
 },
 "nbformat": 4,
 "nbformat_minor": 4
}
