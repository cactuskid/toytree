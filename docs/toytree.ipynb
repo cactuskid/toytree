{
 "cells": [
  {
   "cell_type": "markdown",
   "id": "25c052c6",
   "metadata": {},
   "source": [
    "# ToyTree\n",
    "The `toytree.ToyTree` object is the main class in the `toytree` package. It contains a number of useful functions for interacting with the underlying `Node` structure (e.g., rooting, dropping tips), for storing and retrieving data (e.g., trait or support values), performing comparative or statistical analyses (e.g., tree distance metrics), and creating visualizations.\n",
    "\n",
    "Note: this section of the documentation is relatively short since many of the other sections of the documentation are about properties or methods of `ToyTree` objects."
   ]
  },
  {
   "cell_type": "code",
   "execution_count": 1,
   "id": "e34e18fa",
   "metadata": {},
   "outputs": [],
   "source": [
    "import toytree"
   ]
  },
  {
   "cell_type": "markdown",
   "id": "4c3e16aa",
   "metadata": {},
   "source": [
    "## Generating ToyTrees\n",
    "A `ToyTree` is loaded in one of three ways: (1) by parsing tree data using `toytree.tree()` ([see tree/io](/parse_trees)); (2) by generating a fixed or random tree with `toytree.rtree` ([see rtree](/rtree/)); or (3) by wrapping one or more `toytree.Node` objects in a `ToyTree` ([see Building-trees-from-nodes](/node/#building-trees-from-nodes)). Follow the links for more details on each. We will use the random birth 8-tip unit tree generated below for this tutorial. "
   ]
  },
  {
   "cell_type": "code",
   "execution_count": 2,
   "id": "29f8b922",
   "metadata": {},
   "outputs": [],
   "source": [
    "# generate a random uniform tree\n",
    "tree = toytree.rtree.unittree(8, seed=123)"
   ]
  },
  {
   "cell_type": "markdown",
   "id": "3afa89d3-8d91-497e-a38b-444f6e0907e3",
   "metadata": {},
   "source": [
    "## Trees are indexable and iterable\n",
    "`Node` objects can be selected from `ToyTrees` in a variety of ways. See [Node Query/selection](/query/) for details."
   ]
  },
  {
   "cell_type": "code",
   "execution_count": 3,
   "id": "dff0e894-766c-400f-b654-8501f7c218ea",
   "metadata": {},
   "outputs": [
    {
     "data": {
      "text/plain": [
       "<Node(idx=0, name='r0')>"
      ]
     },
     "execution_count": 3,
     "metadata": {},
     "output_type": "execute_result"
    }
   ],
   "source": [
    "tree[0]"
   ]
  },
  {
   "cell_type": "code",
   "execution_count": 4,
   "id": "724d39be-fa07-4dfe-8a24-ea2eade63c1c",
   "metadata": {},
   "outputs": [
    {
     "data": {
      "text/plain": [
       "[<Node(idx=1, name='r1')>, <Node(idx=2, name='r2')>]"
      ]
     },
     "execution_count": 4,
     "metadata": {},
     "output_type": "execute_result"
    }
   ],
   "source": [
    "tree[1:3]"
   ]
  },
  {
   "cell_type": "code",
   "execution_count": 5,
   "id": "213991ea-7073-4143-8b71-c834945238a1",
   "metadata": {},
   "outputs": [
    {
     "name": "stdout",
     "output_type": "stream",
     "text": [
      "<Node(idx=0, name='r0')>\n",
      "<Node(idx=1, name='r1')>\n",
      "<Node(idx=2, name='r2')>\n",
      "<Node(idx=3, name='r3')>\n",
      "<Node(idx=4, name='r4')>\n",
      "<Node(idx=5, name='r5')>\n",
      "<Node(idx=6, name='r6')>\n",
      "<Node(idx=7, name='r7')>\n",
      "<Node(idx=8)>\n",
      "<Node(idx=9)>\n",
      "<Node(idx=10)>\n",
      "<Node(idx=11)>\n",
      "<Node(idx=12)>\n",
      "<Node(idx=13)>\n",
      "<Node(idx=14)>\n"
     ]
    }
   ],
   "source": [
    "for node in tree:\n",
    "    print(node)"
   ]
  },
  {
   "cell_type": "markdown",
   "id": "28ada13a-a242-4fe2-bb7d-b1e943d096f2",
   "metadata": {},
   "source": [
    "## Cached Traversal\n",
    "A `ToyTree` stores a cached traversal of all Nodes in the tree in idxorder (see [Traversal order/methods](/traversal/)). Briefly, a traversal involves visiting each node in a tree exactly once. This is used to assign a unique integer label to every node. The idx labels `0-ntips` are the tips, and from `ntips-nnodes-1` are the internal nodes. The `nnodes-1` idx label corresponds to the root."
   ]
  },
  {
   "cell_type": "code",
   "execution_count": 6,
   "id": "314c6bdd-6ea5-4f72-9204-278e8647dee3",
   "metadata": {},
   "outputs": [
    {
     "data": {
      "text/html": [
       "<div class=\"toyplot\" id=\"t87d4b3279bcc4370a064b7b25ccd806c\" style=\"text-align:center\"><svg class=\"toyplot-canvas-Canvas\" xmlns:toyplot=\"http://www.sandia.gov/toyplot\" xmlns:xlink=\"http://www.w3.org/1999/xlink\" xmlns=\"http://www.w3.org/2000/svg\" width=\"300.0px\" height=\"300.0px\" viewBox=\"0 0 300.0 300.0\" preserveAspectRatio=\"xMidYMid meet\" style=\"background-color:transparent;border-color:#292724;border-style:none;border-width:1.0;fill:rgb(16.1%,15.3%,14.1%);fill-opacity:1.0;font-family:Helvetica;font-size:12px;opacity:1.0;stroke:rgb(16.1%,15.3%,14.1%);stroke-opacity:1.0;stroke-width:1.0\" id=\"t0d55b3d5f7e8479dbdfce7ff3c30d6e5\"><g class=\"toyplot-coordinates-Cartesian\" id=\"tdc772a164c814363a37870ee9b03bed1\"><clipPath id=\"td8d8a24f5d8940b28788ecf917fc205f\"><rect x=\"35.0\" y=\"35.0\" width=\"230.0\" height=\"230.0\"></rect></clipPath><g clip-path=\"url(#td8d8a24f5d8940b28788ecf917fc205f)\"><g class=\"toytree-mark-Toytree\" id=\"t075b60bc2b0a4cc6a9ac07aadc49a037\"><g class=\"toytree-Edges\" style=\"stroke:rgb(14.5%,14.5%,14.5%);stroke-opacity:1.0;stroke-linecap:round;stroke-width:2.0;fill:none\"><path d=\"M 71.0 172.0 L 57.8 210.5\" id=\"8,0\" style=\"\"></path><path d=\"M 71.0 172.0 L 84.2 210.5\" id=\"8,1\" style=\"\"></path><path d=\"M 123.7 172.0 L 110.5 210.5\" id=\"9,2\" style=\"\"></path><path d=\"M 123.7 172.0 L 136.8 210.5\" id=\"9,3\" style=\"\"></path><path d=\"M 176.3 133.5 L 163.2 210.5\" id=\"11,4\" style=\"\"></path><path d=\"M 176.3 133.5 L 189.5 210.5\" id=\"11,5\" style=\"\"></path><path d=\"M 229.0 95.0 L 215.8 210.5\" id=\"13,6\" style=\"\"></path><path d=\"M 229.0 95.0 L 242.2 210.5\" id=\"13,7\" style=\"\"></path><path d=\"M 97.3 133.5 L 71.0 172.0\" id=\"10,8\" style=\"\"></path><path d=\"M 97.3 133.5 L 123.7 172.0\" id=\"10,9\" style=\"\"></path><path d=\"M 136.8 95.0 L 97.3 133.5\" id=\"12,10\" style=\"\"></path><path d=\"M 136.8 95.0 L 176.3 133.5\" id=\"12,11\" style=\"\"></path><path d=\"M 182.9 56.5 L 136.8 95.0\" id=\"14,12\" style=\"\"></path><path d=\"M 182.9 56.5 L 229.0 95.0\" id=\"14,13\" style=\"\"></path></g><g class=\"toytree-AdmixEdges\" style=\"fill:rgb(0.0%,0.0%,0.0%);fill-opacity:0.0;stroke:rgb(90.6%,54.1%,76.5%);stroke-opacity:0.6;font-size:14px;stroke-linecap:round;stroke-width:5\"></g><g class=\"toytree-Nodes\" style=\"fill:rgb(40.0%,76.1%,64.7%);fill-opacity:1.0;stroke:rgb(14.5%,14.5%,14.5%);stroke-opacity:1.0;stroke-width:1.0\"><g id=\"Node-0\" transform=\"translate(57.8341,210.486)\"><circle r=\"7.5\"></circle></g><g id=\"Node-1\" transform=\"translate(84.1672,210.486)\"><circle r=\"7.5\"></circle></g><g id=\"Node-2\" transform=\"translate(110.5,210.486)\"><circle r=\"7.5\"></circle></g><g id=\"Node-3\" transform=\"translate(136.833,210.486)\"><circle r=\"7.5\"></circle></g><g id=\"Node-4\" transform=\"translate(163.167,210.486)\"><circle r=\"7.5\"></circle></g><g id=\"Node-5\" transform=\"translate(189.5,210.486)\"><circle r=\"7.5\"></circle></g><g id=\"Node-6\" transform=\"translate(215.833,210.486)\"><circle r=\"7.5\"></circle></g><g id=\"Node-7\" transform=\"translate(242.166,210.486)\"><circle r=\"7.5\"></circle></g><g id=\"Node-8\" transform=\"translate(71.0007,172)\"><circle r=\"7.5\"></circle></g><g id=\"Node-9\" transform=\"translate(123.667,172)\"><circle r=\"7.5\"></circle></g><g id=\"Node-10\" transform=\"translate(97.3338,133.514)\"><circle r=\"7.5\"></circle></g><g id=\"Node-11\" transform=\"translate(176.333,133.514)\"><circle r=\"7.5\"></circle></g><g id=\"Node-12\" transform=\"translate(136.833,95.0284)\"><circle r=\"7.5\"></circle></g><g id=\"Node-13\" transform=\"translate(228.999,95.0284)\"><circle r=\"7.5\"></circle></g><g id=\"Node-14\" transform=\"translate(182.916,56.5426)\"><circle r=\"7.5\"></circle></g></g><g class=\"toytree-NodeLabels\" style=\"font-family:Helvetica;font-size:9px;font-weight:300;vertical-align:baseline;white-space:pre;stroke:none\"><g class=\"toytree-NodeLabel\" transform=\"translate(57.8341,210.486)\"><text x=\"-2.5020000000000002\" y=\"2.2995\" style=\"fill:rgb(14.5%,14.5%,14.5%);fill-opacity:1.0\">0</text></g><g class=\"toytree-NodeLabel\" transform=\"translate(84.1672,210.486)\"><text x=\"-2.5020000000000002\" y=\"2.2995\" style=\"fill:rgb(14.5%,14.5%,14.5%);fill-opacity:1.0\">1</text></g><g class=\"toytree-NodeLabel\" transform=\"translate(110.5,210.486)\"><text x=\"-2.5020000000000002\" y=\"2.2995\" style=\"fill:rgb(14.5%,14.5%,14.5%);fill-opacity:1.0\">2</text></g><g class=\"toytree-NodeLabel\" transform=\"translate(136.833,210.486)\"><text x=\"-2.5020000000000002\" y=\"2.2995\" style=\"fill:rgb(14.5%,14.5%,14.5%);fill-opacity:1.0\">3</text></g><g class=\"toytree-NodeLabel\" transform=\"translate(163.167,210.486)\"><text x=\"-2.5020000000000002\" y=\"2.2995\" style=\"fill:rgb(14.5%,14.5%,14.5%);fill-opacity:1.0\">4</text></g><g class=\"toytree-NodeLabel\" transform=\"translate(189.5,210.486)\"><text x=\"-2.5020000000000002\" y=\"2.2995\" style=\"fill:rgb(14.5%,14.5%,14.5%);fill-opacity:1.0\">5</text></g><g class=\"toytree-NodeLabel\" transform=\"translate(215.833,210.486)\"><text x=\"-2.5020000000000002\" y=\"2.2995\" style=\"fill:rgb(14.5%,14.5%,14.5%);fill-opacity:1.0\">6</text></g><g class=\"toytree-NodeLabel\" transform=\"translate(242.166,210.486)\"><text x=\"-2.5020000000000002\" y=\"2.2995\" style=\"fill:rgb(14.5%,14.5%,14.5%);fill-opacity:1.0\">7</text></g><g class=\"toytree-NodeLabel\" transform=\"translate(71.0007,172)\"><text x=\"-2.5020000000000002\" y=\"2.2995\" style=\"fill:rgb(14.5%,14.5%,14.5%);fill-opacity:1.0\">8</text></g><g class=\"toytree-NodeLabel\" transform=\"translate(123.667,172)\"><text x=\"-2.5020000000000002\" y=\"2.2995\" style=\"fill:rgb(14.5%,14.5%,14.5%);fill-opacity:1.0\">9</text></g><g class=\"toytree-NodeLabel\" transform=\"translate(97.3338,133.514)\"><text x=\"-5.0040000000000004\" y=\"2.2995\" style=\"fill:rgb(14.5%,14.5%,14.5%);fill-opacity:1.0\">10</text></g><g class=\"toytree-NodeLabel\" transform=\"translate(176.333,133.514)\"><text x=\"-5.0040000000000004\" y=\"2.2995\" style=\"fill:rgb(14.5%,14.5%,14.5%);fill-opacity:1.0\">11</text></g><g class=\"toytree-NodeLabel\" transform=\"translate(136.833,95.0284)\"><text x=\"-5.0040000000000004\" y=\"2.2995\" style=\"fill:rgb(14.5%,14.5%,14.5%);fill-opacity:1.0\">12</text></g><g class=\"toytree-NodeLabel\" transform=\"translate(228.999,95.0284)\"><text x=\"-5.0040000000000004\" y=\"2.2995\" style=\"fill:rgb(14.5%,14.5%,14.5%);fill-opacity:1.0\">13</text></g><g class=\"toytree-NodeLabel\" transform=\"translate(182.916,56.5426)\"><text x=\"-5.0040000000000004\" y=\"2.2995\" style=\"fill:rgb(14.5%,14.5%,14.5%);fill-opacity:1.0\">14</text></g></g><g class=\"toytree-TipLabels\" style=\"fill:rgb(14.5%,14.5%,14.5%);fill-opacity:1.0;font-family:Helvetica;font-size:12px;font-weight:300;vertical-align:baseline;white-space:pre;stroke:none\"><g class=\"toytree-TipLabel\" transform=\"translate(57.8341,210.486)rotate(90)\"><text x=\"15.0\" y=\"3.066\" style=\"fill:rgb(14.5%,14.5%,14.5%);fill-opacity:1.0\">r0</text></g><g class=\"toytree-TipLabel\" transform=\"translate(84.1672,210.486)rotate(90)\"><text x=\"15.0\" y=\"3.066\" style=\"fill:rgb(14.5%,14.5%,14.5%);fill-opacity:1.0\">r1</text></g><g class=\"toytree-TipLabel\" transform=\"translate(110.5,210.486)rotate(90)\"><text x=\"15.0\" y=\"3.066\" style=\"fill:rgb(14.5%,14.5%,14.5%);fill-opacity:1.0\">r2</text></g><g class=\"toytree-TipLabel\" transform=\"translate(136.833,210.486)rotate(90)\"><text x=\"15.0\" y=\"3.066\" style=\"fill:rgb(14.5%,14.5%,14.5%);fill-opacity:1.0\">r3</text></g><g class=\"toytree-TipLabel\" transform=\"translate(163.167,210.486)rotate(90)\"><text x=\"15.0\" y=\"3.066\" style=\"fill:rgb(14.5%,14.5%,14.5%);fill-opacity:1.0\">r4</text></g><g class=\"toytree-TipLabel\" transform=\"translate(189.5,210.486)rotate(90)\"><text x=\"15.0\" y=\"3.066\" style=\"fill:rgb(14.5%,14.5%,14.5%);fill-opacity:1.0\">r5</text></g><g class=\"toytree-TipLabel\" transform=\"translate(215.833,210.486)rotate(90)\"><text x=\"15.0\" y=\"3.066\" style=\"fill:rgb(14.5%,14.5%,14.5%);fill-opacity:1.0\">r6</text></g><g class=\"toytree-TipLabel\" transform=\"translate(242.166,210.486)rotate(90)\"><text x=\"15.0\" y=\"3.066\" style=\"fill:rgb(14.5%,14.5%,14.5%);fill-opacity:1.0\">r7</text></g></g></g></g><g class=\"toyplot-coordinates-Axis\" id=\"t3d3396fa0c824f44bcaf3e378b9183d5\" transform=\"translate(50.0,250.0)rotate(-90.0)translate(0,-15.0)\"><line x1=\"39.51415508243662\" y1=\"0\" x2=\"193.45741159808495\" y2=\"0\" style=\"\"></line><g><line x1=\"39.51415508243662\" y1=\"0\" x2=\"39.51415508243662\" y2=\"5\" style=\"\"></line><line x1=\"116.48578334026078\" y1=\"0\" x2=\"116.48578334026078\" y2=\"5\" style=\"\"></line><line x1=\"193.45741159808495\" y1=\"0\" x2=\"193.45741159808495\" y2=\"5\" style=\"\"></line></g><g><g transform=\"translate(39.51415508243662,-6)\"><text x=\"-2.78\" y=\"-4.440892098500626e-16\" style=\"fill:rgb(16.1%,15.3%,14.1%);fill-opacity:1.0;font-family:helvetica;font-size:10.0px;font-weight:normal;stroke:none;vertical-align:baseline;white-space:pre\">0</text></g><g transform=\"translate(116.48578334026078,-6)\"><text x=\"-6.95\" y=\"-4.440892098500626e-16\" style=\"fill:rgb(16.1%,15.3%,14.1%);fill-opacity:1.0;font-family:helvetica;font-size:10.0px;font-weight:normal;stroke:none;vertical-align:baseline;white-space:pre\">0.5</text></g><g transform=\"translate(193.45741159808495,-6)\"><text x=\"-2.78\" y=\"-4.440892098500626e-16\" style=\"fill:rgb(16.1%,15.3%,14.1%);fill-opacity:1.0;font-family:helvetica;font-size:10.0px;font-weight:normal;stroke:none;vertical-align:baseline;white-space:pre\">1</text></g></g><g class=\"toyplot-coordinates-Axis-coordinates\" style=\"visibility:hidden\" transform=\"\"><line x1=\"0\" x2=\"0\" y1=\"3.0\" y2=\"-4.5\" style=\"stroke:rgb(43.9%,50.2%,56.5%);stroke-opacity:1.0;stroke-width:1.0\"></line><text x=\"0\" y=\"6\" style=\"alignment-baseline:hanging;fill:rgb(43.9%,50.2%,56.5%);fill-opacity:1.0;font-size:10px;font-weight:normal;stroke:none;text-anchor:middle\"></text></g></g></g></svg><div class=\"toyplot-behavior\"><script>(function()\n",
       "{\n",
       "var modules={};\n",
       "modules[\"toyplot/canvas/id\"] = \"t0d55b3d5f7e8479dbdfce7ff3c30d6e5\";\n",
       "modules[\"toyplot/canvas\"] = (function(canvas_id)\n",
       "    {\n",
       "        return document.querySelector(\"#\" + canvas_id);\n",
       "    })(modules[\"toyplot/canvas/id\"]);\n",
       "modules[\"toyplot.coordinates.Axis\"] = (\n",
       "        function(canvas)\n",
       "        {\n",
       "            function sign(x)\n",
       "            {\n",
       "                return x < 0 ? -1 : x > 0 ? 1 : 0;\n",
       "            }\n",
       "\n",
       "            function mix(a, b, amount)\n",
       "            {\n",
       "                return ((1.0 - amount) * a) + (amount * b);\n",
       "            }\n",
       "\n",
       "            function log(x, base)\n",
       "            {\n",
       "                return Math.log(Math.abs(x)) / Math.log(base);\n",
       "            }\n",
       "\n",
       "            function in_range(a, x, b)\n",
       "            {\n",
       "                var left = Math.min(a, b);\n",
       "                var right = Math.max(a, b);\n",
       "                return left <= x && x <= right;\n",
       "            }\n",
       "\n",
       "            function inside(range, projection)\n",
       "            {\n",
       "                for(var i = 0; i != projection.length; ++i)\n",
       "                {\n",
       "                    var segment = projection[i];\n",
       "                    if(in_range(segment.range.min, range, segment.range.max))\n",
       "                        return true;\n",
       "                }\n",
       "                return false;\n",
       "            }\n",
       "\n",
       "            function to_domain(range, projection)\n",
       "            {\n",
       "                for(var i = 0; i != projection.length; ++i)\n",
       "                {\n",
       "                    var segment = projection[i];\n",
       "                    if(in_range(segment.range.bounds.min, range, segment.range.bounds.max))\n",
       "                    {\n",
       "                        if(segment.scale == \"linear\")\n",
       "                        {\n",
       "                            var amount = (range - segment.range.min) / (segment.range.max - segment.range.min);\n",
       "                            return mix(segment.domain.min, segment.domain.max, amount)\n",
       "                        }\n",
       "                        else if(segment.scale[0] == \"log\")\n",
       "                        {\n",
       "                            var amount = (range - segment.range.min) / (segment.range.max - segment.range.min);\n",
       "                            var base = segment.scale[1];\n",
       "                            return sign(segment.domain.min) * Math.pow(base, mix(log(segment.domain.min, base), log(segment.domain.max, base), amount));\n",
       "                        }\n",
       "                    }\n",
       "                }\n",
       "            }\n",
       "\n",
       "            var axes = {};\n",
       "\n",
       "            function display_coordinates(e)\n",
       "            {\n",
       "                var current = canvas.createSVGPoint();\n",
       "                current.x = e.clientX;\n",
       "                current.y = e.clientY;\n",
       "\n",
       "                for(var axis_id in axes)\n",
       "                {\n",
       "                    var axis = document.querySelector(\"#\" + axis_id);\n",
       "                    var coordinates = axis.querySelector(\".toyplot-coordinates-Axis-coordinates\");\n",
       "                    if(coordinates)\n",
       "                    {\n",
       "                        var projection = axes[axis_id];\n",
       "                        var local = current.matrixTransform(axis.getScreenCTM().inverse());\n",
       "                        if(inside(local.x, projection))\n",
       "                        {\n",
       "                            var domain = to_domain(local.x, projection);\n",
       "                            coordinates.style.visibility = \"visible\";\n",
       "                            coordinates.setAttribute(\"transform\", \"translate(\" + local.x + \")\");\n",
       "                            var text = coordinates.querySelector(\"text\");\n",
       "                            text.textContent = domain.toFixed(2);\n",
       "                        }\n",
       "                        else\n",
       "                        {\n",
       "                            coordinates.style.visibility= \"hidden\";\n",
       "                        }\n",
       "                    }\n",
       "                }\n",
       "            }\n",
       "\n",
       "            canvas.addEventListener(\"click\", display_coordinates);\n",
       "\n",
       "            var module = {};\n",
       "            module.show_coordinates = function(axis_id, projection)\n",
       "            {\n",
       "                axes[axis_id] = projection;\n",
       "            }\n",
       "\n",
       "            return module;\n",
       "        })(modules[\"toyplot/canvas\"]);\n",
       "(function(axis, axis_id, projection)\n",
       "        {\n",
       "            axis.show_coordinates(axis_id, projection);\n",
       "        })(modules[\"toyplot.coordinates.Axis\"],\"t3d3396fa0c824f44bcaf3e378b9183d5\",[{\"domain\": {\"bounds\": {\"max\": Infinity, \"min\": -Infinity}, \"max\": 1.0425, \"min\": -0.2566800000000001}, \"range\": {\"bounds\": {\"max\": Infinity, \"min\": -Infinity}, \"max\": 200.0, \"min\": 0.0}, \"scale\": \"linear\"}]);\n",
       "})();</script></div></div>"
      ]
     },
     "metadata": {},
     "output_type": "display_data"
    }
   ],
   "source": [
    "# show node idx labels of cached idxorder traversal\n",
    "tree.draw('p');"
   ]
  },
  {
   "cell_type": "markdown",
   "id": "7c60e2d3-5cb2-43f8-b3a8-737dc2c983c2",
   "metadata": {},
   "source": [
    "## The tree root (treenode)\n",
    "A `ToyTree` acts as a wrapper around a collection of connected `Node` objects. Of these nodes, one has a special designation as the **root** of the tree, whether or not the tree structure is rooted or unrooted. This node merely represents the top of the hierarchical structure of stored nodes. This node can be accessed like any other node by indexing or by name, and can also be accessed as the `.treenode` attribute of a `ToyTree`."
   ]
  },
  {
   "cell_type": "code",
   "execution_count": 7,
   "id": "54001c74-58df-4d60-af81-9441804f86e8",
   "metadata": {},
   "outputs": [
    {
     "data": {
      "text/plain": [
       "<Node(idx=14)>"
      ]
     },
     "execution_count": 7,
     "metadata": {},
     "output_type": "execute_result"
    }
   ],
   "source": [
    "# the root node\n",
    "tree.treenode"
   ]
  },
  {
   "cell_type": "code",
   "execution_count": 8,
   "id": "e9d0a576-1ea4-4f1e-9491-dfebbce90d66",
   "metadata": {},
   "outputs": [
    {
     "data": {
      "text/plain": [
       "<Node(idx=14)>"
      ]
     },
     "execution_count": 8,
     "metadata": {},
     "output_type": "execute_result"
    }
   ],
   "source": [
    "# also the root node\n",
    "tree[-1]"
   ]
  },
  {
   "cell_type": "code",
   "execution_count": 9,
   "id": "83cc4f80-064a-45b2-bdab-a7402c1624eb",
   "metadata": {},
   "outputs": [],
   "source": [
    "# the root has no parent Node (.up returns None)\n",
    "tree.treenode.up"
   ]
  },
  {
   "attachments": {},
   "cell_type": "markdown",
   "id": "284d51fb-ea53-408e-8266-00ecc5797972",
   "metadata": {},
   "source": [
    "A rooted bifurcating tree has `nnodes = (ntips * 2) - 1`, whereas an unrooted bifurcating tree has `nnodes = (ntips * 2) - 2`. In other words converting from rooted to unrooted, or vice-versa, involves adding or removing a node from the tree. In an unrooted tree the root node is always a polytomy. (See the [Tree rooting](/rooting/) tutorial for further details.) This can be seen more clearly by plotting trees in an unrooted layout. The splits in the tree are the same regardless of the root node's placement. In the rooted tree (left) it is on a branch, and has two connected edges (a degree of 2). On the unrooted tree (right) it is on a node of the tree and connected to three edges (of degree 3). "
   ]
  },
  {
   "cell_type": "code",
   "execution_count": 10,
   "id": "5e66afe8-eec1-4b66-9de8-07274beb604d",
   "metadata": {},
   "outputs": [
    {
     "data": {
      "text/html": [
       "<div class=\"toyplot\" id=\"t0e74c66f4d3a4d59a4669570706287d2\" style=\"text-align:center\"><svg class=\"toyplot-canvas-Canvas\" xmlns:toyplot=\"http://www.sandia.gov/toyplot\" xmlns:xlink=\"http://www.w3.org/1999/xlink\" xmlns=\"http://www.w3.org/2000/svg\" width=\"450.0px\" height=\"250.0px\" viewBox=\"0 0 450.0 250.0\" preserveAspectRatio=\"xMidYMid meet\" style=\"background-color:transparent;border-color:#292724;border-style:none;border-width:1.0;fill:rgb(16.1%,15.3%,14.1%);fill-opacity:1.0;font-family:Helvetica;font-size:12px;opacity:1.0;stroke:rgb(16.1%,15.3%,14.1%);stroke-opacity:1.0;stroke-width:1.0\" id=\"te010601eda514f6cb7ac146f26da48b9\"><g class=\"toyplot-coordinates-Cartesian\" id=\"tedf27889823244258ea70a77bfdc9c72\"><clipPath id=\"t79fd6eb9548d4444821c02067bdb096e\"><rect x=\"20.0\" y=\"40.0\" width=\"205.0\" height=\"170.0\"></rect></clipPath><g clip-path=\"url(#t79fd6eb9548d4444821c02067bdb096e)\"><g class=\"toytree-mark-Toytree\" id=\"te46428b828014d9b85a4c6dc1c38fc01\"><g class=\"toytree-Edges\" style=\"stroke:rgb(14.5%,14.5%,14.5%);stroke-opacity:1.0;stroke-linecap:round;stroke-width:2.0;fill:none\"><path d=\"M 150.1 92.1 L 174.7 92.6\" id=\"8,0\" style=\"\"></path><path d=\"M 150.1 92.1 L 162.4 78.1\" id=\"8,1\" style=\"\"></path><path d=\"M 115.7 80.3 L 124.6 65.2\" id=\"9,2\" style=\"\"></path><path d=\"M 115.7 80.3 L 98.8 68.5\" id=\"9,3\" style=\"\"></path><path d=\"M 88.1 112.5 L 46.4 95.4\" id=\"11,4\" style=\"\"></path><path d=\"M 88.1 112.5 L 48.0 131.2\" id=\"11,5\" style=\"\"></path><path d=\"M 131.7 137.8 L 112.4 184.6\" id=\"13,6\" style=\"\"></path><path d=\"M 131.7 137.8 L 199.3 157.2\" id=\"13,7\" style=\"\"></path><path d=\"M 125.9 95.0 L 150.1 92.1\" id=\"10,8\" style=\"\"></path><path d=\"M 125.9 95.0 L 115.7 80.3\" id=\"10,9\" style=\"\"></path><path d=\"M 111.8 108.2 L 125.9 95.0\" id=\"12,10\" style=\"\"></path><path d=\"M 111.8 108.2 L 88.1 112.5\" id=\"12,11\" style=\"\"></path><path d=\"M 121.2 123.1 L 111.8 108.2\" id=\"14,12\" style=\"\"></path><path d=\"M 121.2 123.1 L 131.7 137.8\" id=\"14,13\" style=\"\"></path></g><g class=\"toytree-AdmixEdges\" style=\"fill:rgb(0.0%,0.0%,0.0%);fill-opacity:0.0;stroke:rgb(90.6%,54.1%,76.5%);stroke-opacity:0.6;font-size:14px;stroke-linecap:round;stroke-width:5\"></g><g class=\"toytree-Nodes\" style=\"fill:rgb(40.0%,76.1%,64.7%);fill-opacity:1.0;stroke:rgb(14.9%,14.9%,14.9%);stroke-opacity:1.0;stroke-width:1.5\"><g id=\"Node-14\" transform=\"translate(121.235,123.128)\"><circle r=\"8.0\"></circle></g></g><g class=\"toytree-NodeLabels\" style=\"font-family:Helvetica;font-size:9px;font-weight:300;vertical-align:baseline;white-space:pre;stroke:none\"><g class=\"toytree-NodeLabel\" transform=\"translate(121.235,123.128)\"><text x=\"-5.0040000000000004\" y=\"2.2995\" style=\"fill:rgb(14.5%,14.5%,14.5%);fill-opacity:1.0\">14</text></g></g><g class=\"toytree-TipLabels\" style=\"fill:rgb(14.5%,14.5%,14.5%);fill-opacity:1.0;font-family:Helvetica;font-size:10px;font-weight:300;vertical-align:baseline;white-space:pre;stroke:none\"><g class=\"toytree-TipLabel\" transform=\"translate(174.683,92.566)rotate(-4.27343)\"><text x=\"10.0\" y=\"2.5549999999999997\" style=\"fill:rgb(14.5%,14.5%,14.5%);fill-opacity:1.0\">r0</text></g><g class=\"toytree-TipLabel\" transform=\"translate(162.366,78.0551)rotate(-35.1993)\"><text x=\"10.0\" y=\"2.5549999999999997\" style=\"fill:rgb(14.5%,14.5%,14.5%);fill-opacity:1.0\">r1</text></g><g class=\"toytree-TipLabel\" transform=\"translate(124.607,65.171)rotate(88.3191)\"><text x=\"-18.89\" y=\"2.5549999999999997\" style=\"fill:rgb(14.5%,14.5%,14.5%);fill-opacity:1.0\">r2</text></g><g class=\"toytree-TipLabel\" transform=\"translate(98.7902,68.5389)rotate(55.9454)\"><text x=\"-18.89\" y=\"2.5549999999999997\" style=\"fill:rgb(14.5%,14.5%,14.5%);fill-opacity:1.0\">r3</text></g><g class=\"toytree-TipLabel\" transform=\"translate(46.3757,95.3748)rotate(16.5825)\"><text x=\"-18.89\" y=\"2.5549999999999997\" style=\"fill:rgb(14.5%,14.5%,14.5%);fill-opacity:1.0\">r4</text></g><g class=\"toytree-TipLabel\" transform=\"translate(47.9832,131.15)rotate(-28.6642)\"><text x=\"-18.89\" y=\"2.5549999999999997\" style=\"fill:rgb(14.5%,14.5%,14.5%);fill-opacity:1.0\">r5</text></g><g class=\"toytree-TipLabel\" transform=\"translate(112.375,184.579)rotate(-84.5815)\"><text x=\"-18.89\" y=\"2.5549999999999997\" style=\"fill:rgb(14.5%,14.5%,14.5%);fill-opacity:1.0\">r6</text></g><g class=\"toytree-TipLabel\" transform=\"translate(199.252,157.184)rotate(33.5637)\"><text x=\"10.0\" y=\"2.5549999999999997\" style=\"fill:rgb(14.5%,14.5%,14.5%);fill-opacity:1.0\">r7</text></g></g></g></g></g><g class=\"toyplot-coordinates-Cartesian\" id=\"t6848ea63e50546089c59c28710c41fa5\"><clipPath id=\"t53a0145d2be44fc781c6f75985146894\"><rect x=\"245.0\" y=\"40.0\" width=\"205.0\" height=\"170.0\"></rect></clipPath><g clip-path=\"url(#t53a0145d2be44fc781c6f75985146894)\"><g class=\"toytree-mark-Toytree\" id=\"t164e6b5390a342f2adfafbbe2570f788\"><g class=\"toytree-Edges\" style=\"stroke:rgb(14.5%,14.5%,14.5%);stroke-opacity:1.0;stroke-linecap:round;stroke-width:2.0;fill:none\"><path d=\"M 377.8 92.6 L 403.0 93.6\" id=\"8,0\" style=\"\"></path><path d=\"M 377.8 92.6 L 391.0 78.8\" id=\"8,1\" style=\"\"></path><path d=\"M 343.1 80.0 L 353.0 65.1\" id=\"9,2\" style=\"\"></path><path d=\"M 343.1 80.0 L 326.4 67.9\" id=\"9,3\" style=\"\"></path><path d=\"M 313.4 111.7 L 271.5 93.6\" id=\"11,4\" style=\"\"></path><path d=\"M 313.4 111.7 L 271.3 129.5\" id=\"11,5\" style=\"\"></path><path d=\"M 356.8 138.2 L 334.4 184.8\" id=\"12,6\" style=\"\"></path><path d=\"M 356.8 138.2 L 425.0 159.2\" id=\"12,7\" style=\"\"></path><path d=\"M 352.9 95.0 L 377.8 92.6\" id=\"10,8\" style=\"\"></path><path d=\"M 352.9 95.0 L 343.1 80.0\" id=\"10,9\" style=\"\"></path><path d=\"M 338.0 108.1 L 352.9 95.0\" id=\"13,10\" style=\"\"></path><path d=\"M 338.0 108.1 L 313.4 111.7\" id=\"13,11\" style=\"\"></path><path d=\"M 338.0 108.1 L 356.8 138.2\" id=\"13,12\" style=\"\"></path></g><g class=\"toytree-AdmixEdges\" style=\"fill:rgb(0.0%,0.0%,0.0%);fill-opacity:0.0;stroke:rgb(90.6%,54.1%,76.5%);stroke-opacity:0.6;font-size:14px;stroke-linecap:round;stroke-width:5\"></g><g class=\"toytree-Nodes\" style=\"fill:rgb(40.0%,76.1%,64.7%);fill-opacity:1.0;stroke:rgb(14.9%,14.9%,14.9%);stroke-opacity:1.0;stroke-width:1.5\"><g id=\"Node-13\" transform=\"translate(337.958,108.101)\"><circle r=\"8.0\"></circle></g></g><g class=\"toytree-NodeLabels\" style=\"font-family:Helvetica;font-size:9px;font-weight:300;vertical-align:baseline;white-space:pre;stroke:none\"><g class=\"toytree-NodeLabel\" transform=\"translate(337.958,108.101)\"><text x=\"-5.0040000000000004\" y=\"2.2995\" style=\"fill:rgb(14.5%,14.5%,14.5%);fill-opacity:1.0\">13</text></g></g><g class=\"toytree-TipLabels\" style=\"fill:rgb(14.5%,14.5%,14.5%);fill-opacity:1.0;font-family:Helvetica;font-size:10px;font-weight:300;vertical-align:baseline;white-space:pre;stroke:none\"><g class=\"toytree-TipLabel\" transform=\"translate(402.96,93.6291)rotate(-2.45379)\"><text x=\"10.0\" y=\"2.5549999999999997\" style=\"fill:rgb(14.5%,14.5%,14.5%);fill-opacity:1.0\">r0</text></g><g class=\"toytree-TipLabel\" transform=\"translate(391.045,78.7987)rotate(-33.3891)\"><text x=\"10.0\" y=\"2.5549999999999997\" style=\"fill:rgb(14.5%,14.5%,14.5%);fill-opacity:1.0\">r1</text></g><g class=\"toytree-TipLabel\" transform=\"translate(352.965,65.0835)rotate(-89.8974)\"><text x=\"10.0\" y=\"2.5549999999999997\" style=\"fill:rgb(14.5%,14.5%,14.5%);fill-opacity:1.0\">r2</text></g><g class=\"toytree-TipLabel\" transform=\"translate(326.352,67.9106)rotate(57.7481)\"><text x=\"-18.89\" y=\"2.5549999999999997\" style=\"fill:rgb(14.5%,14.5%,14.5%);fill-opacity:1.0\">r3</text></g><g class=\"toytree-TipLabel\" transform=\"translate(271.47,93.6488)rotate(18.6353)\"><text x=\"-18.89\" y=\"2.5549999999999997\" style=\"fill:rgb(14.5%,14.5%,14.5%);fill-opacity:1.0\">r4</text></g><g class=\"toytree-TipLabel\" transform=\"translate(271.275,129.549)rotate(-26.518)\"><text x=\"-18.89\" y=\"2.5549999999999997\" style=\"fill:rgb(14.5%,14.5%,14.5%);fill-opacity:1.0\">r5</text></g><g class=\"toytree-TipLabel\" transform=\"translate(334.405,184.789)rotate(-88.2893)\"><text x=\"-18.89\" y=\"2.5549999999999997\" style=\"fill:rgb(14.5%,14.5%,14.5%);fill-opacity:1.0\">r6</text></g><g class=\"toytree-TipLabel\" transform=\"translate(425.033,159.194)rotate(42.3111)\"><text x=\"10.0\" y=\"2.5549999999999997\" style=\"fill:rgb(14.5%,14.5%,14.5%);fill-opacity:1.0\">r7</text></g></g></g></g></g></svg><div class=\"toyplot-behavior\"><script>(function()\n",
       "{\n",
       "var modules={};\n",
       "})();</script></div></div>"
      ]
     },
     "metadata": {},
     "output_type": "display_data"
    }
   ],
   "source": [
    "toytree.mtree([tree, tree.unroot()]).draw(\n",
    "    layout='unr',\n",
    "    node_sizes=16, \n",
    "    node_labels=\"idx\",\n",
    "    node_mask=(0,0,1),\n",
    ");"
   ]
  },
  {
   "cell_type": "markdown",
   "id": "cb630758",
   "metadata": {},
   "source": [
    "## Attributes\n",
    "`ToyTree` attributes store information about the size of the tree, and are automatically updated by the `mod` functions when a tree structure is modified. The `features` and `edge_features` describe data stored to nodes of a tree and are further described in [Data/Features](/data/). "
   ]
  },
  {
   "cell_type": "code",
   "execution_count": 11,
   "id": "486b899b",
   "metadata": {},
   "outputs": [
    {
     "data": {
      "text/plain": [
       "8"
      ]
     },
     "execution_count": 11,
     "metadata": {},
     "output_type": "execute_result"
    }
   ],
   "source": [
    "tree.ntips"
   ]
  },
  {
   "cell_type": "code",
   "execution_count": 12,
   "id": "c93233d7",
   "metadata": {},
   "outputs": [
    {
     "data": {
      "text/plain": [
       "15"
      ]
     },
     "execution_count": 12,
     "metadata": {},
     "output_type": "execute_result"
    }
   ],
   "source": [
    "tree.nnodes"
   ]
  },
  {
   "cell_type": "code",
   "execution_count": 13,
   "id": "f07ffcfb",
   "metadata": {},
   "outputs": [
    {
     "data": {
      "text/plain": [
       "<Node(idx=14)>"
      ]
     },
     "execution_count": 13,
     "metadata": {},
     "output_type": "execute_result"
    }
   ],
   "source": [
    "tree.treenode"
   ]
  },
  {
   "cell_type": "code",
   "execution_count": 14,
   "id": "c18419f5",
   "metadata": {},
   "outputs": [
    {
     "data": {
      "text/plain": [
       "('idx', 'name', 'height', 'dist', 'support')"
      ]
     },
     "execution_count": 14,
     "metadata": {},
     "output_type": "execute_result"
    }
   ],
   "source": [
    "tree.features"
   ]
  },
  {
   "cell_type": "code",
   "execution_count": 15,
   "id": "6c1b59aa",
   "metadata": {},
   "outputs": [
    {
     "data": {
      "text/plain": [
       "{'dist', 'support'}"
      ]
     },
     "execution_count": 15,
     "metadata": {},
     "output_type": "execute_result"
    }
   ],
   "source": [
    "tree.edge_features"
   ]
  },
  {
   "cell_type": "markdown",
   "id": "682ac7a2",
   "metadata": {},
   "source": [
    "## Methods\n",
    "The `ToyTree` object has a number of methods available directly from object, as well as many additional methods organized into subpackages that are also accessible from a tree. "
   ]
  },
  {
   "cell_type": "code",
   "execution_count": 16,
   "id": "e6eba5d7-8dd3-4a6a-a24c-2ee663cf29ad",
   "metadata": {},
   "outputs": [
    {
     "data": {
      "text/plain": [
       "True"
      ]
     },
     "execution_count": 16,
     "metadata": {},
     "output_type": "execute_result"
    }
   ],
   "source": [
    "# does the tree not contain any polytomies\n",
    "tree.is_bifurcating()"
   ]
  },
  {
   "cell_type": "code",
   "execution_count": 17,
   "id": "db41c975-7518-4031-acdc-86c100711440",
   "metadata": {},
   "outputs": [
    {
     "data": {
      "text/plain": [
       "True"
      ]
     },
     "execution_count": 17,
     "metadata": {},
     "output_type": "execute_result"
    }
   ],
   "source": [
    "# is the tree rooted\n",
    "tree.is_rooted()"
   ]
  },
  {
   "cell_type": "code",
   "execution_count": 18,
   "id": "031987a1-c00c-4a92-a7c5-fcc816469400",
   "metadata": {},
   "outputs": [
    {
     "data": {
      "text/plain": [
       "(False, True)"
      ]
     },
     "execution_count": 18,
     "metadata": {},
     "output_type": "execute_result"
    }
   ],
   "source": [
    "# query if set of tip nodes is monophyletic\n",
    "tree.is_monophyletic(\"r3\", \"r2\", \"r1\"), tree.is_monophyletic(\"r3\", \"r2\", \"r1\", \"r0\")"
   ]
  },
  {
   "cell_type": "code",
   "execution_count": 19,
   "id": "8056a297",
   "metadata": {},
   "outputs": [
    {
     "data": {
      "text/plain": [
       "<toytree.ToyTree at 0x7ff02f48f520>"
      ]
     },
     "execution_count": 19,
     "metadata": {},
     "output_type": "execute_result"
    }
   ],
   "source": [
    "# return a copy of the tree\n",
    "tree.copy()"
   ]
  },
  {
   "cell_type": "code",
   "execution_count": 20,
   "id": "f119bde7",
   "metadata": {},
   "outputs": [
    {
     "data": {
      "text/plain": [
       "(<toyplot.canvas.Canvas at 0x7ff02f4cb550>,\n",
       " <toyplot.coordinates.Cartesian at 0x7ff02f37feb0>,\n",
       " <toytree.drawing.src.mark_toytree.ToyTreeMark at 0x7ff02f37df30>)"
      ]
     },
     "execution_count": 20,
     "metadata": {},
     "output_type": "execute_result"
    },
    {
     "data": {
      "text/html": [
       "<div class=\"toyplot\" id=\"t1e59d03ede164fb6985f3e07bb9974f3\" style=\"text-align:center\"><svg class=\"toyplot-canvas-Canvas\" xmlns:toyplot=\"http://www.sandia.gov/toyplot\" xmlns:xlink=\"http://www.w3.org/1999/xlink\" xmlns=\"http://www.w3.org/2000/svg\" width=\"300.0px\" height=\"300.0px\" viewBox=\"0 0 300.0 300.0\" preserveAspectRatio=\"xMidYMid meet\" style=\"background-color:transparent;border-color:#292724;border-style:none;border-width:1.0;fill:rgb(16.1%,15.3%,14.1%);fill-opacity:1.0;font-family:Helvetica;font-size:12px;opacity:1.0;stroke:rgb(16.1%,15.3%,14.1%);stroke-opacity:1.0;stroke-width:1.0\" id=\"t0e8671adabc24298a13fd99f5adf3d41\"><g class=\"toyplot-coordinates-Cartesian\" id=\"t157b5002ddc8432d9eee69139659eb31\"><clipPath id=\"td16d20625b494e7fa515b8fd2459127c\"><rect x=\"35.0\" y=\"35.0\" width=\"230.0\" height=\"230.0\"></rect></clipPath><g clip-path=\"url(#td16d20625b494e7fa515b8fd2459127c)\"><g class=\"toytree-mark-Toytree\" id=\"t7cc634de28ed4e0c85265d19181ea93e\"><g class=\"toytree-Edges\" style=\"stroke:rgb(14.5%,14.5%,14.5%);stroke-opacity:1.0;stroke-linecap:round;stroke-width:2;fill:none\"><path d=\"M 70.0 173.8 L 56.7 213.8\" id=\"8,0\" style=\"\"></path><path d=\"M 70.0 173.8 L 83.4 213.8\" id=\"8,1\" style=\"\"></path><path d=\"M 123.3 173.8 L 110.0 213.8\" id=\"9,2\" style=\"\"></path><path d=\"M 123.3 173.8 L 136.7 213.8\" id=\"9,3\" style=\"\"></path><path d=\"M 176.7 133.9 L 163.3 213.8\" id=\"11,4\" style=\"\"></path><path d=\"M 176.7 133.9 L 190.0 213.8\" id=\"11,5\" style=\"\"></path><path d=\"M 230.0 93.9 L 216.6 213.8\" id=\"13,6\" style=\"\"></path><path d=\"M 230.0 93.9 L 243.3 213.8\" id=\"13,7\" style=\"\"></path><path d=\"M 96.7 133.9 L 70.0 173.8\" id=\"10,8\" style=\"\"></path><path d=\"M 96.7 133.9 L 123.3 173.8\" id=\"10,9\" style=\"\"></path><path d=\"M 136.7 93.9 L 96.7 133.9\" id=\"12,10\" style=\"\"></path><path d=\"M 136.7 93.9 L 176.7 133.9\" id=\"12,11\" style=\"\"></path><path d=\"M 183.3 54.0 L 136.7 93.9\" id=\"14,12\" style=\"\"></path><path d=\"M 183.3 54.0 L 230.0 93.9\" id=\"14,13\" style=\"\"></path></g><g class=\"toytree-AdmixEdges\" style=\"fill:rgb(0.0%,0.0%,0.0%);fill-opacity:0.0;stroke:rgb(90.6%,54.1%,76.5%);stroke-opacity:0.6;font-size:14px;stroke-linecap:round;stroke-width:5\"></g><g class=\"toytree-Nodes\" style=\"fill:rgb(40.0%,76.1%,64.7%);fill-opacity:1.0;stroke:rgb(14.5%,14.5%,14.5%);stroke-opacity:1.0;stroke-width:1.5\"><g id=\"Node-0\" transform=\"translate(56.7164,213.78)\"><circle r=\"3.5\"></circle></g><g id=\"Node-1\" transform=\"translate(83.3689,213.78)\"><circle r=\"3.5\"></circle></g><g id=\"Node-2\" transform=\"translate(110.021,213.78)\"><circle r=\"3.5\"></circle></g><g id=\"Node-3\" transform=\"translate(136.674,213.78)\"><circle r=\"3.5\"></circle></g><g id=\"Node-4\" transform=\"translate(163.326,213.78)\"><circle r=\"3.5\"></circle></g><g id=\"Node-5\" transform=\"translate(189.979,213.78)\"><circle r=\"3.5\"></circle></g><g id=\"Node-6\" transform=\"translate(216.631,213.78)\"><circle r=\"3.5\"></circle></g><g id=\"Node-7\" transform=\"translate(243.284,213.78)\"><circle r=\"3.5\"></circle></g><g id=\"Node-8\" transform=\"translate(70.0426,173.834)\"><circle r=\"3.5\"></circle></g><g id=\"Node-9\" transform=\"translate(123.348,173.834)\"><circle r=\"3.5\"></circle></g><g id=\"Node-10\" transform=\"translate(96.6951,133.887)\"><circle r=\"3.5\"></circle></g><g id=\"Node-11\" transform=\"translate(176.652,133.887)\"><circle r=\"3.5\"></circle></g><g id=\"Node-12\" transform=\"translate(136.674,93.9409)\"><circle r=\"3.5\"></circle></g><g id=\"Node-13\" transform=\"translate(229.957,93.9409)\"><circle r=\"3.5\"></circle></g><g id=\"Node-14\" transform=\"translate(183.316,53.9946)\"><circle r=\"3.5\"></circle></g></g><g class=\"toytree-TipLabels\" style=\"fill:rgb(14.5%,14.5%,14.5%);fill-opacity:1.0;font-family:Helvetica;font-size:12px;font-weight:300;vertical-align:baseline;white-space:pre;stroke:none\"><g class=\"toytree-TipLabel\" transform=\"translate(56.7164,213.78)rotate(90)\"><text x=\"12.0\" y=\"3.066\" style=\"fill:rgb(14.5%,14.5%,14.5%);fill-opacity:1.0\">r0</text></g><g class=\"toytree-TipLabel\" transform=\"translate(83.3689,213.78)rotate(90)\"><text x=\"12.0\" y=\"3.066\" style=\"fill:rgb(14.5%,14.5%,14.5%);fill-opacity:1.0\">r1</text></g><g class=\"toytree-TipLabel\" transform=\"translate(110.021,213.78)rotate(90)\"><text x=\"12.0\" y=\"3.066\" style=\"fill:rgb(14.5%,14.5%,14.5%);fill-opacity:1.0\">r2</text></g><g class=\"toytree-TipLabel\" transform=\"translate(136.674,213.78)rotate(90)\"><text x=\"12.0\" y=\"3.066\" style=\"fill:rgb(14.5%,14.5%,14.5%);fill-opacity:1.0\">r3</text></g><g class=\"toytree-TipLabel\" transform=\"translate(163.326,213.78)rotate(90)\"><text x=\"12.0\" y=\"3.066\" style=\"fill:rgb(14.5%,14.5%,14.5%);fill-opacity:1.0\">r4</text></g><g class=\"toytree-TipLabel\" transform=\"translate(189.979,213.78)rotate(90)\"><text x=\"12.0\" y=\"3.066\" style=\"fill:rgb(14.5%,14.5%,14.5%);fill-opacity:1.0\">r5</text></g><g class=\"toytree-TipLabel\" transform=\"translate(216.631,213.78)rotate(90)\"><text x=\"12.0\" y=\"3.066\" style=\"fill:rgb(14.5%,14.5%,14.5%);fill-opacity:1.0\">r6</text></g><g class=\"toytree-TipLabel\" transform=\"translate(243.284,213.78)rotate(90)\"><text x=\"12.0\" y=\"3.066\" style=\"fill:rgb(14.5%,14.5%,14.5%);fill-opacity:1.0\">r7</text></g></g></g></g><g class=\"toyplot-coordinates-Axis\" id=\"t400df636cd3044af987c50695550bcb5\" transform=\"translate(50.0,250.0)rotate(-90.0)translate(0,-15.0)\"><line x1=\"36.22012015850698\" y1=\"0\" x2=\"196.00536878435383\" y2=\"0\" style=\"\"></line><g><line x1=\"36.22012015850698\" y1=\"0\" x2=\"36.22012015850698\" y2=\"5\" style=\"\"></line><line x1=\"116.11274447143043\" y1=\"0\" x2=\"116.11274447143043\" y2=\"5\" style=\"\"></line><line x1=\"196.00536878435383\" y1=\"0\" x2=\"196.00536878435383\" y2=\"5\" style=\"\"></line></g><g><g transform=\"translate(36.22012015850698,-6)\"><text x=\"-2.78\" y=\"-4.440892098500626e-16\" style=\"fill:rgb(16.1%,15.3%,14.1%);fill-opacity:1.0;font-family:helvetica;font-size:10.0px;font-weight:normal;stroke:none;vertical-align:baseline;white-space:pre\">0</text></g><g transform=\"translate(116.11274447143043,-6)\"><text x=\"-6.95\" y=\"-4.440892098500626e-16\" style=\"fill:rgb(16.1%,15.3%,14.1%);fill-opacity:1.0;font-family:helvetica;font-size:10.0px;font-weight:normal;stroke:none;vertical-align:baseline;white-space:pre\">0.5</text></g><g transform=\"translate(196.00536878435383,-6)\"><text x=\"-2.78\" y=\"-4.440892098500626e-16\" style=\"fill:rgb(16.1%,15.3%,14.1%);fill-opacity:1.0;font-family:helvetica;font-size:10.0px;font-weight:normal;stroke:none;vertical-align:baseline;white-space:pre\">1</text></g></g><g class=\"toyplot-coordinates-Axis-coordinates\" style=\"visibility:hidden\" transform=\"\"><line x1=\"0\" x2=\"0\" y1=\"3.0\" y2=\"-4.5\" style=\"stroke:rgb(43.9%,50.2%,56.5%);stroke-opacity:1.0;stroke-width:1.0\"></line><text x=\"0\" y=\"6\" style=\"alignment-baseline:hanging;fill:rgb(43.9%,50.2%,56.5%);fill-opacity:1.0;font-size:10px;font-weight:normal;stroke:none;text-anchor:middle\"></text></g></g></g></svg><div class=\"toyplot-behavior\"><script>(function()\n",
       "{\n",
       "var modules={};\n",
       "modules[\"toyplot/canvas/id\"] = \"t0e8671adabc24298a13fd99f5adf3d41\";\n",
       "modules[\"toyplot/canvas\"] = (function(canvas_id)\n",
       "    {\n",
       "        return document.querySelector(\"#\" + canvas_id);\n",
       "    })(modules[\"toyplot/canvas/id\"]);\n",
       "modules[\"toyplot.coordinates.Axis\"] = (\n",
       "        function(canvas)\n",
       "        {\n",
       "            function sign(x)\n",
       "            {\n",
       "                return x < 0 ? -1 : x > 0 ? 1 : 0;\n",
       "            }\n",
       "\n",
       "            function mix(a, b, amount)\n",
       "            {\n",
       "                return ((1.0 - amount) * a) + (amount * b);\n",
       "            }\n",
       "\n",
       "            function log(x, base)\n",
       "            {\n",
       "                return Math.log(Math.abs(x)) / Math.log(base);\n",
       "            }\n",
       "\n",
       "            function in_range(a, x, b)\n",
       "            {\n",
       "                var left = Math.min(a, b);\n",
       "                var right = Math.max(a, b);\n",
       "                return left <= x && x <= right;\n",
       "            }\n",
       "\n",
       "            function inside(range, projection)\n",
       "            {\n",
       "                for(var i = 0; i != projection.length; ++i)\n",
       "                {\n",
       "                    var segment = projection[i];\n",
       "                    if(in_range(segment.range.min, range, segment.range.max))\n",
       "                        return true;\n",
       "                }\n",
       "                return false;\n",
       "            }\n",
       "\n",
       "            function to_domain(range, projection)\n",
       "            {\n",
       "                for(var i = 0; i != projection.length; ++i)\n",
       "                {\n",
       "                    var segment = projection[i];\n",
       "                    if(in_range(segment.range.bounds.min, range, segment.range.bounds.max))\n",
       "                    {\n",
       "                        if(segment.scale == \"linear\")\n",
       "                        {\n",
       "                            var amount = (range - segment.range.min) / (segment.range.max - segment.range.min);\n",
       "                            return mix(segment.domain.min, segment.domain.max, amount)\n",
       "                        }\n",
       "                        else if(segment.scale[0] == \"log\")\n",
       "                        {\n",
       "                            var amount = (range - segment.range.min) / (segment.range.max - segment.range.min);\n",
       "                            var base = segment.scale[1];\n",
       "                            return sign(segment.domain.min) * Math.pow(base, mix(log(segment.domain.min, base), log(segment.domain.max, base), amount));\n",
       "                        }\n",
       "                    }\n",
       "                }\n",
       "            }\n",
       "\n",
       "            var axes = {};\n",
       "\n",
       "            function display_coordinates(e)\n",
       "            {\n",
       "                var current = canvas.createSVGPoint();\n",
       "                current.x = e.clientX;\n",
       "                current.y = e.clientY;\n",
       "\n",
       "                for(var axis_id in axes)\n",
       "                {\n",
       "                    var axis = document.querySelector(\"#\" + axis_id);\n",
       "                    var coordinates = axis.querySelector(\".toyplot-coordinates-Axis-coordinates\");\n",
       "                    if(coordinates)\n",
       "                    {\n",
       "                        var projection = axes[axis_id];\n",
       "                        var local = current.matrixTransform(axis.getScreenCTM().inverse());\n",
       "                        if(inside(local.x, projection))\n",
       "                        {\n",
       "                            var domain = to_domain(local.x, projection);\n",
       "                            coordinates.style.visibility = \"visible\";\n",
       "                            coordinates.setAttribute(\"transform\", \"translate(\" + local.x + \")\");\n",
       "                            var text = coordinates.querySelector(\"text\");\n",
       "                            text.textContent = domain.toFixed(2);\n",
       "                        }\n",
       "                        else\n",
       "                        {\n",
       "                            coordinates.style.visibility= \"hidden\";\n",
       "                        }\n",
       "                    }\n",
       "                }\n",
       "            }\n",
       "\n",
       "            canvas.addEventListener(\"click\", display_coordinates);\n",
       "\n",
       "            var module = {};\n",
       "            module.show_coordinates = function(axis_id, projection)\n",
       "            {\n",
       "                axes[axis_id] = projection;\n",
       "            }\n",
       "\n",
       "            return module;\n",
       "        })(modules[\"toyplot/canvas\"]);\n",
       "(function(axis, axis_id, projection)\n",
       "        {\n",
       "            axis.show_coordinates(axis_id, projection);\n",
       "        })(modules[\"toyplot.coordinates.Axis\"],\"t400df636cd3044af987c50695550bcb5\",[{\"domain\": {\"bounds\": {\"max\": Infinity, \"min\": -Infinity}, \"max\": 1.025, \"min\": -0.22668000000000008}, \"range\": {\"bounds\": {\"max\": Infinity, \"min\": -Infinity}, \"max\": 200.0, \"min\": 0.0}, \"scale\": \"linear\"}]);\n",
       "})();</script></div></div>"
      ]
     },
     "metadata": {},
     "output_type": "display_data"
    }
   ],
   "source": [
    "# return a tree drawing as a (Canvas, Cartesian, Mark)\n",
    "tree.draw(ts='c')"
   ]
  },
  {
   "cell_type": "code",
   "execution_count": 21,
   "id": "0d88bbb7",
   "metadata": {},
   "outputs": [
    {
     "data": {
      "text/plain": [
       "{<Node(idx=4, name='r4')>,\n",
       " <Node(idx=5, name='r5')>,\n",
       " <Node(idx=11)>,\n",
       " <Node(idx=12)>,\n",
       " <Node(idx=14)>}"
      ]
     },
     "execution_count": 21,
     "metadata": {},
     "output_type": "execute_result"
    }
   ],
   "source": [
    "# return all ancestors of query nodes\n",
    "tree.get_ancestors(\"r4\", \"r5\")"
   ]
  },
  {
   "cell_type": "code",
   "execution_count": 22,
   "id": "9b253814-e3bf-4138-9bc0-68a2be7e591d",
   "metadata": {},
   "outputs": [
    {
     "data": {
      "text/plain": [
       "{0: 'r0',\n",
       " 1: 'r1',\n",
       " 2: 'r2',\n",
       " 3: 'r3',\n",
       " 4: 'r4',\n",
       " 5: 'r5',\n",
       " 6: 'r6',\n",
       " 7: 'r7',\n",
       " 8: '',\n",
       " 9: '',\n",
       " 10: '',\n",
       " 11: '',\n",
       " 12: '',\n",
       " 13: '',\n",
       " 14: ''}"
      ]
     },
     "execution_count": 22,
     "metadata": {},
     "output_type": "execute_result"
    }
   ],
   "source": [
    "# get dict mapping one feature to another\n",
    "tree.get_feature_dict('idx', 'name')"
   ]
  },
  {
   "cell_type": "code",
   "execution_count": 23,
   "id": "35ff4919-5122-45ee-8d17-e040a1dd12b0",
   "metadata": {},
   "outputs": [
    {
     "data": {
      "text/html": [
       "<div>\n",
       "<style scoped>\n",
       "    .dataframe tbody tr th:only-of-type {\n",
       "        vertical-align: middle;\n",
       "    }\n",
       "\n",
       "    .dataframe tbody tr th {\n",
       "        vertical-align: top;\n",
       "    }\n",
       "\n",
       "    .dataframe thead th {\n",
       "        text-align: right;\n",
       "    }\n",
       "</style>\n",
       "<table border=\"1\" class=\"dataframe\">\n",
       "  <thead>\n",
       "    <tr style=\"text-align: right;\">\n",
       "      <th></th>\n",
       "      <th>child</th>\n",
       "      <th>parent</th>\n",
       "    </tr>\n",
       "  </thead>\n",
       "  <tbody>\n",
       "    <tr>\n",
       "      <th>0</th>\n",
       "      <td>0</td>\n",
       "      <td>8</td>\n",
       "    </tr>\n",
       "    <tr>\n",
       "      <th>1</th>\n",
       "      <td>1</td>\n",
       "      <td>8</td>\n",
       "    </tr>\n",
       "    <tr>\n",
       "      <th>2</th>\n",
       "      <td>2</td>\n",
       "      <td>9</td>\n",
       "    </tr>\n",
       "    <tr>\n",
       "      <th>3</th>\n",
       "      <td>3</td>\n",
       "      <td>9</td>\n",
       "    </tr>\n",
       "    <tr>\n",
       "      <th>4</th>\n",
       "      <td>4</td>\n",
       "      <td>11</td>\n",
       "    </tr>\n",
       "    <tr>\n",
       "      <th>5</th>\n",
       "      <td>5</td>\n",
       "      <td>11</td>\n",
       "    </tr>\n",
       "    <tr>\n",
       "      <th>6</th>\n",
       "      <td>6</td>\n",
       "      <td>13</td>\n",
       "    </tr>\n",
       "    <tr>\n",
       "      <th>7</th>\n",
       "      <td>7</td>\n",
       "      <td>13</td>\n",
       "    </tr>\n",
       "    <tr>\n",
       "      <th>8</th>\n",
       "      <td>8</td>\n",
       "      <td>10</td>\n",
       "    </tr>\n",
       "    <tr>\n",
       "      <th>9</th>\n",
       "      <td>9</td>\n",
       "      <td>10</td>\n",
       "    </tr>\n",
       "    <tr>\n",
       "      <th>10</th>\n",
       "      <td>10</td>\n",
       "      <td>12</td>\n",
       "    </tr>\n",
       "    <tr>\n",
       "      <th>11</th>\n",
       "      <td>11</td>\n",
       "      <td>12</td>\n",
       "    </tr>\n",
       "    <tr>\n",
       "      <th>12</th>\n",
       "      <td>12</td>\n",
       "      <td>14</td>\n",
       "    </tr>\n",
       "    <tr>\n",
       "      <th>13</th>\n",
       "      <td>13</td>\n",
       "      <td>14</td>\n",
       "    </tr>\n",
       "  </tbody>\n",
       "</table>\n",
       "</div>"
      ],
      "text/plain": [
       "    child  parent\n",
       "0       0       8\n",
       "1       1       8\n",
       "2       2       9\n",
       "3       3       9\n",
       "4       4      11\n",
       "5       5      11\n",
       "6       6      13\n",
       "7       7      13\n",
       "8       8      10\n",
       "9       9      10\n",
       "10     10      12\n",
       "11     11      12\n",
       "12     12      14\n",
       "13     13      14"
      ]
     },
     "execution_count": 23,
     "metadata": {},
     "output_type": "execute_result"
    }
   ],
   "source": [
    "# get edges as a table\n",
    "tree.get_edges(feature=\"idx\", df=True)"
   ]
  },
  {
   "cell_type": "code",
   "execution_count": 24,
   "id": "9268d296-d7aa-48c0-8dcc-6119ca368f23",
   "metadata": {},
   "outputs": [
    {
     "data": {
      "text/plain": [
       "<Node(idx=11)>"
      ]
     },
     "execution_count": 24,
     "metadata": {},
     "output_type": "execute_result"
    }
   ],
   "source": [
    "# get mrca of a queried set of nodes\n",
    "tree.get_mrca_node(\"r4\", \"r5\")"
   ]
  },
  {
   "cell_type": "code",
   "execution_count": 25,
   "id": "2ce35c50-462f-45eb-98d2-eeecdc0efa3a",
   "metadata": {},
   "outputs": [
    {
     "data": {
      "text/html": [
       "<div>\n",
       "<style scoped>\n",
       "    .dataframe tbody tr th:only-of-type {\n",
       "        vertical-align: middle;\n",
       "    }\n",
       "\n",
       "    .dataframe tbody tr th {\n",
       "        vertical-align: top;\n",
       "    }\n",
       "\n",
       "    .dataframe thead th {\n",
       "        text-align: right;\n",
       "    }\n",
       "</style>\n",
       "<table border=\"1\" class=\"dataframe\">\n",
       "  <thead>\n",
       "    <tr style=\"text-align: right;\">\n",
       "      <th></th>\n",
       "      <th>idx</th>\n",
       "      <th>name</th>\n",
       "      <th>height</th>\n",
       "      <th>dist</th>\n",
       "      <th>support</th>\n",
       "    </tr>\n",
       "  </thead>\n",
       "  <tbody>\n",
       "    <tr>\n",
       "      <th>0</th>\n",
       "      <td>0</td>\n",
       "      <td>r0</td>\n",
       "      <td>0.00</td>\n",
       "      <td>0.25</td>\n",
       "      <td>NaN</td>\n",
       "    </tr>\n",
       "    <tr>\n",
       "      <th>1</th>\n",
       "      <td>1</td>\n",
       "      <td>r1</td>\n",
       "      <td>0.00</td>\n",
       "      <td>0.25</td>\n",
       "      <td>NaN</td>\n",
       "    </tr>\n",
       "    <tr>\n",
       "      <th>2</th>\n",
       "      <td>2</td>\n",
       "      <td>r2</td>\n",
       "      <td>0.00</td>\n",
       "      <td>0.25</td>\n",
       "      <td>NaN</td>\n",
       "    </tr>\n",
       "    <tr>\n",
       "      <th>3</th>\n",
       "      <td>3</td>\n",
       "      <td>r3</td>\n",
       "      <td>0.00</td>\n",
       "      <td>0.25</td>\n",
       "      <td>NaN</td>\n",
       "    </tr>\n",
       "    <tr>\n",
       "      <th>4</th>\n",
       "      <td>4</td>\n",
       "      <td>r4</td>\n",
       "      <td>0.00</td>\n",
       "      <td>0.50</td>\n",
       "      <td>NaN</td>\n",
       "    </tr>\n",
       "    <tr>\n",
       "      <th>5</th>\n",
       "      <td>5</td>\n",
       "      <td>r5</td>\n",
       "      <td>0.00</td>\n",
       "      <td>0.50</td>\n",
       "      <td>NaN</td>\n",
       "    </tr>\n",
       "    <tr>\n",
       "      <th>6</th>\n",
       "      <td>6</td>\n",
       "      <td>r6</td>\n",
       "      <td>0.00</td>\n",
       "      <td>0.75</td>\n",
       "      <td>NaN</td>\n",
       "    </tr>\n",
       "    <tr>\n",
       "      <th>7</th>\n",
       "      <td>7</td>\n",
       "      <td>r7</td>\n",
       "      <td>0.00</td>\n",
       "      <td>0.75</td>\n",
       "      <td>NaN</td>\n",
       "    </tr>\n",
       "    <tr>\n",
       "      <th>8</th>\n",
       "      <td>8</td>\n",
       "      <td></td>\n",
       "      <td>0.25</td>\n",
       "      <td>0.25</td>\n",
       "      <td>NaN</td>\n",
       "    </tr>\n",
       "    <tr>\n",
       "      <th>9</th>\n",
       "      <td>9</td>\n",
       "      <td></td>\n",
       "      <td>0.25</td>\n",
       "      <td>0.25</td>\n",
       "      <td>NaN</td>\n",
       "    </tr>\n",
       "    <tr>\n",
       "      <th>10</th>\n",
       "      <td>10</td>\n",
       "      <td></td>\n",
       "      <td>0.50</td>\n",
       "      <td>0.25</td>\n",
       "      <td>NaN</td>\n",
       "    </tr>\n",
       "    <tr>\n",
       "      <th>11</th>\n",
       "      <td>11</td>\n",
       "      <td></td>\n",
       "      <td>0.50</td>\n",
       "      <td>0.25</td>\n",
       "      <td>NaN</td>\n",
       "    </tr>\n",
       "    <tr>\n",
       "      <th>12</th>\n",
       "      <td>12</td>\n",
       "      <td></td>\n",
       "      <td>0.75</td>\n",
       "      <td>0.25</td>\n",
       "      <td>NaN</td>\n",
       "    </tr>\n",
       "    <tr>\n",
       "      <th>13</th>\n",
       "      <td>13</td>\n",
       "      <td></td>\n",
       "      <td>0.75</td>\n",
       "      <td>0.25</td>\n",
       "      <td>NaN</td>\n",
       "    </tr>\n",
       "    <tr>\n",
       "      <th>14</th>\n",
       "      <td>14</td>\n",
       "      <td></td>\n",
       "      <td>1.00</td>\n",
       "      <td>0.00</td>\n",
       "      <td>NaN</td>\n",
       "    </tr>\n",
       "  </tbody>\n",
       "</table>\n",
       "</div>"
      ],
      "text/plain": [
       "    idx name  height  dist  support\n",
       "0     0   r0    0.00  0.25      NaN\n",
       "1     1   r1    0.00  0.25      NaN\n",
       "2     2   r2    0.00  0.25      NaN\n",
       "3     3   r3    0.00  0.25      NaN\n",
       "4     4   r4    0.00  0.50      NaN\n",
       "5     5   r5    0.00  0.50      NaN\n",
       "6     6   r6    0.00  0.75      NaN\n",
       "7     7   r7    0.00  0.75      NaN\n",
       "8     8         0.25  0.25      NaN\n",
       "9     9         0.25  0.25      NaN\n",
       "10   10         0.50  0.25      NaN\n",
       "11   11         0.50  0.25      NaN\n",
       "12   12         0.75  0.25      NaN\n",
       "13   13         0.75  0.25      NaN\n",
       "14   14         1.00  0.00      NaN"
      ]
     },
     "execution_count": 25,
     "metadata": {},
     "output_type": "execute_result"
    }
   ],
   "source": [
    "# get a DataFrame or Series of data from all nodes w/ formatting options\n",
    "tree.get_node_data()"
   ]
  },
  {
   "cell_type": "code",
   "execution_count": 26,
   "id": "c6757264-cd41-4363-aed1-2faa4d227577",
   "metadata": {},
   "outputs": [
    {
     "data": {
      "text/plain": [
       "array([ True,  True,  True, False, False, False, False, False, False,\n",
       "       False, False, False, False, False, False])"
      ]
     },
     "execution_count": 26,
     "metadata": {},
     "output_type": "execute_result"
    }
   ],
   "source": [
    "# get mask that is True for selected nodes and False for others\n",
    "tree.get_node_mask(0, 1, 2)"
   ]
  },
  {
   "cell_type": "code",
   "execution_count": 27,
   "id": "d4f32dd7-a7f8-47e4-afe0-352b13042ec9",
   "metadata": {},
   "outputs": [
    {
     "data": {
      "text/plain": [
       "[<Node(idx=2, name='r2')>,\n",
       " <Node(idx=3, name='r3')>,\n",
       " <Node(idx=0, name='r0')>,\n",
       " <Node(idx=1, name='r1')>]"
      ]
     },
     "execution_count": 27,
     "metadata": {},
     "output_type": "execute_result"
    }
   ],
   "source": [
    "# get nodes matching a query\n",
    "tree.get_nodes(\"~r[0-3]$\")"
   ]
  },
  {
   "cell_type": "code",
   "execution_count": 28,
   "id": "f97504b1-c97f-4f67-9b11-ed34286f4955",
   "metadata": {},
   "outputs": [
    {
     "data": {
      "text/html": [
       "<div>\n",
       "<style scoped>\n",
       "    .dataframe tbody tr th:only-of-type {\n",
       "        vertical-align: middle;\n",
       "    }\n",
       "\n",
       "    .dataframe tbody tr th {\n",
       "        vertical-align: top;\n",
       "    }\n",
       "\n",
       "    .dataframe thead th {\n",
       "        text-align: right;\n",
       "    }\n",
       "</style>\n",
       "<table border=\"1\" class=\"dataframe\">\n",
       "  <thead>\n",
       "    <tr style=\"text-align: right;\">\n",
       "      <th></th>\n",
       "      <th>idx</th>\n",
       "      <th>name</th>\n",
       "      <th>height</th>\n",
       "      <th>dist</th>\n",
       "      <th>support</th>\n",
       "    </tr>\n",
       "  </thead>\n",
       "  <tbody>\n",
       "    <tr>\n",
       "      <th>0</th>\n",
       "      <td>0</td>\n",
       "      <td>r0</td>\n",
       "      <td>0.0</td>\n",
       "      <td>0.25</td>\n",
       "      <td>NaN</td>\n",
       "    </tr>\n",
       "    <tr>\n",
       "      <th>1</th>\n",
       "      <td>1</td>\n",
       "      <td>r1</td>\n",
       "      <td>0.0</td>\n",
       "      <td>0.25</td>\n",
       "      <td>NaN</td>\n",
       "    </tr>\n",
       "    <tr>\n",
       "      <th>2</th>\n",
       "      <td>2</td>\n",
       "      <td>r2</td>\n",
       "      <td>0.0</td>\n",
       "      <td>0.25</td>\n",
       "      <td>NaN</td>\n",
       "    </tr>\n",
       "    <tr>\n",
       "      <th>3</th>\n",
       "      <td>3</td>\n",
       "      <td>r3</td>\n",
       "      <td>0.0</td>\n",
       "      <td>0.25</td>\n",
       "      <td>NaN</td>\n",
       "    </tr>\n",
       "    <tr>\n",
       "      <th>4</th>\n",
       "      <td>4</td>\n",
       "      <td>r4</td>\n",
       "      <td>0.0</td>\n",
       "      <td>0.50</td>\n",
       "      <td>NaN</td>\n",
       "    </tr>\n",
       "    <tr>\n",
       "      <th>5</th>\n",
       "      <td>5</td>\n",
       "      <td>r5</td>\n",
       "      <td>0.0</td>\n",
       "      <td>0.50</td>\n",
       "      <td>NaN</td>\n",
       "    </tr>\n",
       "    <tr>\n",
       "      <th>6</th>\n",
       "      <td>6</td>\n",
       "      <td>r6</td>\n",
       "      <td>0.0</td>\n",
       "      <td>0.75</td>\n",
       "      <td>NaN</td>\n",
       "    </tr>\n",
       "    <tr>\n",
       "      <th>7</th>\n",
       "      <td>7</td>\n",
       "      <td>r7</td>\n",
       "      <td>0.0</td>\n",
       "      <td>0.75</td>\n",
       "      <td>NaN</td>\n",
       "    </tr>\n",
       "  </tbody>\n",
       "</table>\n",
       "</div>"
      ],
      "text/plain": [
       "   idx name  height  dist  support\n",
       "0    0   r0     0.0  0.25      NaN\n",
       "1    1   r1     0.0  0.25      NaN\n",
       "2    2   r2     0.0  0.25      NaN\n",
       "3    3   r3     0.0  0.25      NaN\n",
       "4    4   r4     0.0  0.50      NaN\n",
       "5    5   r5     0.0  0.50      NaN\n",
       "6    6   r6     0.0  0.75      NaN\n",
       "7    7   r7     0.0  0.75      NaN"
      ]
     },
     "execution_count": 28,
     "metadata": {},
     "output_type": "execute_result"
    }
   ],
   "source": [
    "# like get_node_data but only for tip (leaf) nodes\n",
    "tree.get_tip_data()"
   ]
  },
  {
   "cell_type": "code",
   "execution_count": 29,
   "id": "b33905ed-2b9b-4360-bdaa-8055c1f8085c",
   "metadata": {},
   "outputs": [
    {
     "data": {
      "text/plain": [
       "['r0', 'r1', 'r2', 'r3', 'r4', 'r5', 'r6', 'r7']"
      ]
     },
     "execution_count": 29,
     "metadata": {},
     "output_type": "execute_result"
    }
   ],
   "source": [
    "# return the names for nodes idx 0-ntips in order\n",
    "tree.get_tip_labels()"
   ]
  },
  {
   "cell_type": "code",
   "execution_count": 30,
   "id": "0c9616b2-7e26-4ec8-9472-c0e1f76b3b00",
   "metadata": {},
   "outputs": [
    {
     "data": {
      "text/plain": [
       "'535ff2bd575ed1f753d5b5f6340e8389'"
      ]
     },
     "execution_count": 30,
     "metadata": {},
     "output_type": "execute_result"
    }
   ],
   "source": [
    "# return a hash str unique to this topology\n",
    "tree.get_topology_id()"
   ]
  },
  {
   "cell_type": "markdown",
   "id": "ea4a95a5-7749-4925-a5ab-d0209a667d56",
   "metadata": {},
   "source": [
    "## Modifying trees\n",
    "See the `mod` documentation section for details on tree modification methods. Many methods are available for modifying the topology, branch lengths, or other data on trees. These include common options like `.ladderize`, `.prune`, `.root`, `.collapse_nodes`, `edges_set_node_heights`, and many more. These functions are written to be very efficient, requiring the minimum number of tree traversals or modifications, and ensure the returned tree has proper node idx, height, and other node features updated."
   ]
  },
  {
   "cell_type": "code",
   "execution_count": 31,
   "id": "14bcb1b7-217b-4f5b-8c6f-36547fe307ad",
   "metadata": {},
   "outputs": [
    {
     "data": {
      "text/html": [
       "<div class=\"toyplot\" id=\"ta334268526064ea7a870777ff9f09720\" style=\"text-align:center\"><svg class=\"toyplot-canvas-Canvas\" xmlns:toyplot=\"http://www.sandia.gov/toyplot\" xmlns:xlink=\"http://www.w3.org/1999/xlink\" xmlns=\"http://www.w3.org/2000/svg\" width=\"300.0px\" height=\"275.0px\" viewBox=\"0 0 300.0 275.0\" preserveAspectRatio=\"xMidYMid meet\" style=\"background-color:transparent;border-color:#292724;border-style:none;border-width:1.0;fill:rgb(16.1%,15.3%,14.1%);fill-opacity:1.0;font-family:Helvetica;font-size:12px;opacity:1.0;stroke:rgb(16.1%,15.3%,14.1%);stroke-opacity:1.0;stroke-width:1.0\" id=\"t8075b08e318b495baec6d0daaee11919\"><g class=\"toyplot-coordinates-Cartesian\" id=\"t60c57f52eb9e4d4dbfbc572c825db006\"><clipPath id=\"t8a3d1d4b38b943bbbe9a8be57323a6b3\"><rect x=\"35.0\" y=\"35.0\" width=\"230.0\" height=\"205.0\"></rect></clipPath><g clip-path=\"url(#t8a3d1d4b38b943bbbe9a8be57323a6b3)\"><g class=\"toytree-mark-Toytree\" id=\"t03e5b4f0cb624f10aa420407f09f761d\"><g class=\"toytree-Edges\" style=\"stroke:rgb(14.5%,14.5%,14.5%);stroke-opacity:1.0;stroke-linecap:round;stroke-width:2.0;fill:none\"><path d=\"M 130.1 191.4 L 130.1 218.3 L 209.3 218.3\" id=\"4,0\" style=\"\"></path><path d=\"M 130.1 191.4 L 130.1 164.4 L 209.3 164.4\" id=\"4,1\" style=\"\"></path><path d=\"M 130.1 83.6 L 130.1 110.6 L 209.3 110.6\" id=\"5,2\" style=\"\"></path><path d=\"M 130.1 83.6 L 130.1 56.7 L 209.3 56.7\" id=\"5,3\" style=\"\"></path><path d=\"M 50.8 137.5 L 50.8 191.4 L 130.1 191.4\" id=\"6,4\" style=\"\"></path><path d=\"M 50.8 137.5 L 50.8 83.6 L 130.1 83.6\" id=\"6,5\" style=\"\"></path></g><g class=\"toytree-AdmixEdges\" style=\"fill:rgb(0.0%,0.0%,0.0%);fill-opacity:0.0;stroke:rgb(90.6%,54.1%,76.5%);stroke-opacity:0.6;font-size:14px;stroke-linecap:round;stroke-width:5\"></g><g class=\"toytree-Nodes\" style=\"fill:rgb(40.0%,76.1%,64.7%);fill-opacity:1.0;stroke:rgb(14.9%,14.9%,14.9%);stroke-opacity:1.0;stroke-width:1.5\"></g><g class=\"toytree-TipLabels\" style=\"fill:rgb(14.5%,14.5%,14.5%);fill-opacity:1.0;font-family:Helvetica;font-size:12px;font-weight:300;vertical-align:baseline;white-space:pre;stroke:none\"><g class=\"toytree-TipLabel\" transform=\"translate(209.311,218.347)\"><text x=\"15.0\" y=\"3.066\" style=\"fill:rgb(14.5%,14.5%,14.5%);fill-opacity:1.0\">r0</text></g><g class=\"toytree-TipLabel\" transform=\"translate(209.311,164.449)\"><text x=\"15.0\" y=\"3.066\" style=\"fill:rgb(14.5%,14.5%,14.5%);fill-opacity:1.0\">r1</text></g><g class=\"toytree-TipLabel\" transform=\"translate(209.311,110.551)\"><text x=\"15.0\" y=\"3.066\" style=\"fill:rgb(14.5%,14.5%,14.5%);fill-opacity:1.0\">r2</text></g><g class=\"toytree-TipLabel\" transform=\"translate(209.311,56.6526)\"><text x=\"15.0\" y=\"3.066\" style=\"fill:rgb(14.5%,14.5%,14.5%);fill-opacity:1.0\">r3</text></g></g></g></g></g></svg><div class=\"toyplot-behavior\"><script>(function()\n",
       "{\n",
       "var modules={};\n",
       "})();</script></div></div>"
      ]
     },
     "metadata": {},
     "output_type": "display_data"
    }
   ],
   "source": [
    "# extract a subtree connecting tips r0, r1, r2, r3 and draw it\n",
    "toytree.mod.extract_subtree(tree, \"~r[0-3]\").draw();"
   ]
  },
  {
   "cell_type": "markdown",
   "id": "4e8c3fcd-30ca-4f8e-b033-4f657a267a63",
   "metadata": {},
   "source": [
    "## Chaining methods\n",
    "Many methods of a `ToyTree` return a copy of the tree which are intended to make it easy to chain together multiple function calls to accomplish complex operations. For example, below the tree is re-rooted, scaled to a new crown height, ladderized, adds an internal node name, and then calls draw with many styling options including showing the new node name."
   ]
  },
  {
   "cell_type": "code",
   "execution_count": 32,
   "id": "9df0ef69-1281-4b3e-ac72-a0e29b06717b",
   "metadata": {},
   "outputs": [
    {
     "data": {
      "text/html": [
       "<div class=\"toyplot\" id=\"t68463a0e156b42be9b6e838aba4711ab\" style=\"text-align:center\"><svg class=\"toyplot-canvas-Canvas\" xmlns:toyplot=\"http://www.sandia.gov/toyplot\" xmlns:xlink=\"http://www.w3.org/1999/xlink\" xmlns=\"http://www.w3.org/2000/svg\" width=\"300.0px\" height=\"293.2px\" viewBox=\"0 0 300.0 293.2\" preserveAspectRatio=\"xMidYMid meet\" style=\"background-color:transparent;border-color:#292724;border-style:none;border-width:1.0;fill:rgb(16.1%,15.3%,14.1%);fill-opacity:1.0;font-family:Helvetica;font-size:12px;opacity:1.0;stroke:rgb(16.1%,15.3%,14.1%);stroke-opacity:1.0;stroke-width:1.0\" id=\"t2fe468931ffa4c9c97e8975254ccdf56\"><g class=\"toyplot-coordinates-Cartesian\" id=\"td02ea7d351b548a1803bba48b58f4c12\"><clipPath id=\"t37f9ab8c3a3e4f958028f7104cd32e79\"><rect x=\"35.0\" y=\"35.0\" width=\"230.0\" height=\"223.2\"></rect></clipPath><g clip-path=\"url(#t37f9ab8c3a3e4f958028f7104cd32e79)\"><g class=\"toytree-mark-Toytree\" id=\"t5e9757d218104252a6dc7dd948135620\"><g class=\"toytree-Edges\" style=\"stroke:rgb(14.5%,14.5%,14.5%);stroke-opacity:1.0;stroke-linecap:round;stroke-width:2.0;fill:none\"><path d=\"M 189.4 221.3 L 189.4 233.7 L 212.1 233.7\" id=\"8,0\" style=\"\"></path><path d=\"M 189.4 221.3 L 189.4 208.8 L 212.1 208.8\" id=\"8,1\" style=\"\"></path><path d=\"M 189.4 171.5 L 189.4 183.9 L 212.1 183.9\" id=\"9,2\" style=\"\"></path><path d=\"M 189.4 171.5 L 189.4 159.0 L 212.1 159.0\" id=\"9,3\" style=\"\"></path><path d=\"M 166.6 121.7 L 166.6 134.2 L 212.1 134.2\" id=\"11,4\" style=\"\"></path><path d=\"M 166.6 121.7 L 166.6 109.3 L 212.1 109.3\" id=\"11,5\" style=\"\"></path><path d=\"M 98.5 121.7 L 98.5 84.4 L 166.6 84.4\" id=\"13,6\" style=\"\"></path><path d=\"M 64.4 90.6 L 64.4 59.5 L 98.5 59.5\" id=\"14,7\" style=\"\"></path><path d=\"M 166.6 196.4 L 166.6 221.3 L 189.4 221.3\" id=\"10,8\" style=\"\"></path><path d=\"M 166.6 196.4 L 166.6 171.5 L 189.4 171.5\" id=\"10,9\" style=\"\"></path><path d=\"M 143.9 159.0 L 143.9 196.4 L 166.6 196.4\" id=\"12,10\" style=\"\"></path><path d=\"M 143.9 159.0 L 143.9 121.7 L 166.6 121.7\" id=\"12,11\" style=\"\"></path><path d=\"M 98.5 121.7 L 98.5 159.0 L 143.9 159.0\" id=\"13,12\" style=\"\"></path><path d=\"M 64.4 90.6 L 64.4 121.7 L 98.5 121.7\" id=\"14,13\" style=\"\"></path></g><g class=\"toytree-AlignEdges\" style=\"stroke:rgb(66.0%,66.0%,66.0%);stroke-opacity:0.75;stroke-dasharray:2,4;stroke-linecap:round;stroke-width:2\"><path d=\"M 212.1 233.7 L 212.1 233.7\"></path><path d=\"M 212.1 208.8 L 212.1 208.8\"></path><path d=\"M 212.1 183.9 L 212.1 183.9\"></path><path d=\"M 212.1 159.0 L 212.1 159.0\"></path><path d=\"M 212.1 134.2 L 212.1 134.2\"></path><path d=\"M 212.1 109.3 L 212.1 109.3\"></path><path d=\"M 212.1 84.4 L 166.6 84.4\"></path><path d=\"M 212.1 59.5 L 98.5 59.5\"></path></g><g class=\"toytree-AdmixEdges\" style=\"fill:rgb(0.0%,0.0%,0.0%);fill-opacity:0.0;stroke:rgb(90.6%,54.1%,76.5%);stroke-opacity:0.6;font-size:14px;stroke-linecap:round;stroke-width:5\"></g><g class=\"toytree-Nodes\" style=\"fill:rgb(82.7%,82.7%,82.7%);fill-opacity:1.0;stroke:rgb(14.9%,14.9%,14.9%);stroke-opacity:1.0;stroke-width:1.5\"><g id=\"Node-14\" transform=\"translate(64.3999,90.5882)\"><rect x=\"-18.0\" y=\"-9.0\" width=\"36.0\" height=\"18.0\"></rect></g></g><g class=\"toytree-NodeLabels\" style=\"font-family:Helvetica;font-size:9px;font-weight:300;vertical-align:baseline;white-space:pre;stroke:none\"><g class=\"toytree-NodeLabel\" transform=\"translate(64.3999,90.5882)\"><text x=\"-7.7535\" y=\"2.2995\" style=\"fill:rgb(14.5%,14.5%,14.5%);fill-opacity:1.0\">root</text></g></g><g class=\"toytree-TipLabels\" style=\"fill:rgb(14.5%,14.5%,14.5%);fill-opacity:1.0;font-family:Helvetica;font-size:12px;font-weight:300;vertical-align:baseline;white-space:pre;stroke:none\"><g class=\"toytree-TipLabel\" transform=\"translate(212.091,233.729)\"><text x=\"15.0\" y=\"3.066\" style=\"fill:rgb(14.5%,14.5%,14.5%);fill-opacity:1.0\">r0</text></g><g class=\"toytree-TipLabel\" transform=\"translate(212.091,208.835)\"><text x=\"15.0\" y=\"3.066\" style=\"fill:rgb(14.5%,14.5%,14.5%);fill-opacity:1.0\">r1</text></g><g class=\"toytree-TipLabel\" transform=\"translate(212.091,183.941)\"><text x=\"15.0\" y=\"3.066\" style=\"fill:rgb(14.5%,14.5%,14.5%);fill-opacity:1.0\">r2</text></g><g class=\"toytree-TipLabel\" transform=\"translate(212.091,159.047)\"><text x=\"15.0\" y=\"3.066\" style=\"fill:rgb(14.5%,14.5%,14.5%);fill-opacity:1.0\">r3</text></g><g class=\"toytree-TipLabel\" transform=\"translate(212.091,134.153)\"><text x=\"15.0\" y=\"3.066\" style=\"fill:rgb(14.5%,14.5%,14.5%);fill-opacity:1.0\">r4</text></g><g class=\"toytree-TipLabel\" transform=\"translate(212.091,109.259)\"><text x=\"15.0\" y=\"3.066\" style=\"fill:rgb(14.5%,14.5%,14.5%);fill-opacity:1.0\">r5</text></g><g class=\"toytree-TipLabel\" transform=\"translate(212.091,84.3647)\"><text x=\"15.0\" y=\"3.066\" style=\"fill:rgb(14.5%,14.5%,14.5%);fill-opacity:1.0\">r7</text></g><g class=\"toytree-TipLabel\" transform=\"translate(212.091,59.4706)\"><text x=\"15.0\" y=\"3.066\" style=\"fill:rgb(14.5%,14.5%,14.5%);fill-opacity:1.0\">r6</text></g></g></g></g><g class=\"toyplot-coordinates-Axis\" id=\"tc501c1874f984b678f1ab377fb7812c6\" transform=\"translate(50.0,243.2)translate(0,15.0)\"><line x1=\"14.399858216780629\" y1=\"0\" x2=\"162.09071172222303\" y2=\"0\" style=\"\"></line><g><line x1=\"14.399858216780629\" y1=\"0\" x2=\"14.399858216780629\" y2=\"-5\" style=\"\"></line><line x1=\"88.24528496950184\" y1=\"0\" x2=\"88.24528496950184\" y2=\"-5\" style=\"\"></line><line x1=\"162.09071172222303\" y1=\"0\" x2=\"162.09071172222303\" y2=\"-5\" style=\"\"></line></g><g><g transform=\"translate(14.399858216780629,6)\"><text x=\"-5.56\" y=\"8.555\" style=\"fill:rgb(16.1%,15.3%,14.1%);fill-opacity:1.0;font-family:helvetica;font-size:10.0px;font-weight:normal;stroke:none;vertical-align:baseline;white-space:pre\">10</text></g><g transform=\"translate(88.24528496950184,6)\"><text x=\"-2.78\" y=\"8.555\" style=\"fill:rgb(16.1%,15.3%,14.1%);fill-opacity:1.0;font-family:helvetica;font-size:10.0px;font-weight:normal;stroke:none;vertical-align:baseline;white-space:pre\">5</text></g><g transform=\"translate(162.09071172222303,6)\"><text x=\"-2.78\" y=\"8.555\" style=\"fill:rgb(16.1%,15.3%,14.1%);fill-opacity:1.0;font-family:helvetica;font-size:10.0px;font-weight:normal;stroke:none;vertical-align:baseline;white-space:pre\">0</text></g></g><g class=\"toyplot-coordinates-Axis-coordinates\" style=\"visibility:hidden\" transform=\"\"><line x1=\"0\" x2=\"0\" y1=\"-3.0\" y2=\"4.5\" style=\"stroke:rgb(43.9%,50.2%,56.5%);stroke-opacity:1.0;stroke-width:1.0\"></line><text x=\"0\" y=\"-6\" style=\"alignment-baseline:alphabetic;fill:rgb(43.9%,50.2%,56.5%);fill-opacity:1.0;font-size:10px;font-weight:normal;stroke:none;text-anchor:middle\"></text></g></g></g></svg><div class=\"toyplot-behavior\"><script>(function()\n",
       "{\n",
       "var modules={};\n",
       "modules[\"toyplot/canvas/id\"] = \"t2fe468931ffa4c9c97e8975254ccdf56\";\n",
       "modules[\"toyplot/canvas\"] = (function(canvas_id)\n",
       "    {\n",
       "        return document.querySelector(\"#\" + canvas_id);\n",
       "    })(modules[\"toyplot/canvas/id\"]);\n",
       "modules[\"toyplot.coordinates.Axis\"] = (\n",
       "        function(canvas)\n",
       "        {\n",
       "            function sign(x)\n",
       "            {\n",
       "                return x < 0 ? -1 : x > 0 ? 1 : 0;\n",
       "            }\n",
       "\n",
       "            function mix(a, b, amount)\n",
       "            {\n",
       "                return ((1.0 - amount) * a) + (amount * b);\n",
       "            }\n",
       "\n",
       "            function log(x, base)\n",
       "            {\n",
       "                return Math.log(Math.abs(x)) / Math.log(base);\n",
       "            }\n",
       "\n",
       "            function in_range(a, x, b)\n",
       "            {\n",
       "                var left = Math.min(a, b);\n",
       "                var right = Math.max(a, b);\n",
       "                return left <= x && x <= right;\n",
       "            }\n",
       "\n",
       "            function inside(range, projection)\n",
       "            {\n",
       "                for(var i = 0; i != projection.length; ++i)\n",
       "                {\n",
       "                    var segment = projection[i];\n",
       "                    if(in_range(segment.range.min, range, segment.range.max))\n",
       "                        return true;\n",
       "                }\n",
       "                return false;\n",
       "            }\n",
       "\n",
       "            function to_domain(range, projection)\n",
       "            {\n",
       "                for(var i = 0; i != projection.length; ++i)\n",
       "                {\n",
       "                    var segment = projection[i];\n",
       "                    if(in_range(segment.range.bounds.min, range, segment.range.bounds.max))\n",
       "                    {\n",
       "                        if(segment.scale == \"linear\")\n",
       "                        {\n",
       "                            var amount = (range - segment.range.min) / (segment.range.max - segment.range.min);\n",
       "                            return mix(segment.domain.min, segment.domain.max, amount)\n",
       "                        }\n",
       "                        else if(segment.scale[0] == \"log\")\n",
       "                        {\n",
       "                            var amount = (range - segment.range.min) / (segment.range.max - segment.range.min);\n",
       "                            var base = segment.scale[1];\n",
       "                            return sign(segment.domain.min) * Math.pow(base, mix(log(segment.domain.min, base), log(segment.domain.max, base), amount));\n",
       "                        }\n",
       "                    }\n",
       "                }\n",
       "            }\n",
       "\n",
       "            var axes = {};\n",
       "\n",
       "            function display_coordinates(e)\n",
       "            {\n",
       "                var current = canvas.createSVGPoint();\n",
       "                current.x = e.clientX;\n",
       "                current.y = e.clientY;\n",
       "\n",
       "                for(var axis_id in axes)\n",
       "                {\n",
       "                    var axis = document.querySelector(\"#\" + axis_id);\n",
       "                    var coordinates = axis.querySelector(\".toyplot-coordinates-Axis-coordinates\");\n",
       "                    if(coordinates)\n",
       "                    {\n",
       "                        var projection = axes[axis_id];\n",
       "                        var local = current.matrixTransform(axis.getScreenCTM().inverse());\n",
       "                        if(inside(local.x, projection))\n",
       "                        {\n",
       "                            var domain = to_domain(local.x, projection);\n",
       "                            coordinates.style.visibility = \"visible\";\n",
       "                            coordinates.setAttribute(\"transform\", \"translate(\" + local.x + \")\");\n",
       "                            var text = coordinates.querySelector(\"text\");\n",
       "                            text.textContent = domain.toFixed(2);\n",
       "                        }\n",
       "                        else\n",
       "                        {\n",
       "                            coordinates.style.visibility= \"hidden\";\n",
       "                        }\n",
       "                    }\n",
       "                }\n",
       "            }\n",
       "\n",
       "            canvas.addEventListener(\"click\", display_coordinates);\n",
       "\n",
       "            var module = {};\n",
       "            module.show_coordinates = function(axis_id, projection)\n",
       "            {\n",
       "                axes[axis_id] = projection;\n",
       "            }\n",
       "\n",
       "            return module;\n",
       "        })(modules[\"toyplot/canvas\"]);\n",
       "(function(axis, axis_id, projection)\n",
       "        {\n",
       "            axis.show_coordinates(axis_id, projection);\n",
       "        })(modules[\"toyplot.coordinates.Axis\"],\"tc501c1874f984b678f1ab377fb7812c6\",[{\"domain\": {\"bounds\": {\"max\": Infinity, \"min\": -Infinity}, \"max\": 2.5668, \"min\": -10.975}, \"range\": {\"bounds\": {\"max\": Infinity, \"min\": -Infinity}, \"max\": 200.0, \"min\": 0.0}, \"scale\": \"linear\"}]);\n",
       "})();</script></div></div>"
      ]
     },
     "metadata": {},
     "output_type": "display_data"
    }
   ],
   "source": [
    "# example of complex chained function calls\n",
    "canvas, axes, mark = (tree\n",
    "    .root(\"r6\")\n",
    "    .mod.edges_scale_to_root_height(10)\n",
    "    .ladderize(True)\n",
    "    .set_node_data(\"name\", {-1: 'root'})\n",
    "    .draw(\n",
    "        node_labels=\"name\", node_mask=(0, 0, 1), node_sizes=18,\n",
    "        node_markers=\"r2x1\", node_colors=\"lightgrey\",\n",
    "        scale_bar=True, tip_labels_align=True,\n",
    "    )\n",
    ");"
   ]
  },
  {
   "cell_type": "markdown",
   "id": "c6c9ecd4",
   "metadata": {},
   "source": [
    "## Subpackage API\n",
    "Many functions for working with trees are organized in subpackages. See their documentation sections for more details. Any of these methods which accept a toytree as their first argument are also accessible from a `ToyTree` object as a convenience. For example, `toytree.mod.func(tree)` is equivalent to `tree.mod.func()`. We refer to this as using the *module-level API* versus the *object-level API*."
   ]
  },
  {
   "cell_type": "code",
   "execution_count": 33,
   "id": "031c20cc",
   "metadata": {},
   "outputs": [
    {
     "data": {
      "text/html": [
       "<div class=\"toyplot\" id=\"td929d12ff10b422297852f89e57b7812\" style=\"text-align:center\"><svg class=\"toyplot-canvas-Canvas\" xmlns:toyplot=\"http://www.sandia.gov/toyplot\" xmlns:xlink=\"http://www.w3.org/1999/xlink\" xmlns=\"http://www.w3.org/2000/svg\" width=\"300.0px\" height=\"275.0px\" viewBox=\"0 0 300.0 275.0\" preserveAspectRatio=\"xMidYMid meet\" style=\"background-color:transparent;border-color:#292724;border-style:none;border-width:1.0;fill:rgb(16.1%,15.3%,14.1%);fill-opacity:1.0;font-family:Helvetica;font-size:12px;opacity:1.0;stroke:rgb(16.1%,15.3%,14.1%);stroke-opacity:1.0;stroke-width:1.0\" id=\"t94db43c65846494381da8d8d96e0f72a\"><g class=\"toyplot-coordinates-Cartesian\" id=\"t6bc4e31abbdc414b9451c828a2e3c2ad\"><clipPath id=\"td908dd2f637049f2851378a28608045b\"><rect x=\"35.0\" y=\"35.0\" width=\"230.0\" height=\"205.0\"></rect></clipPath><g clip-path=\"url(#td908dd2f637049f2851378a28608045b)\"><g class=\"toytree-mark-Toytree\" id=\"tee5704a3cbe446b192fbffd25e288704\"><g class=\"toytree-Edges\" style=\"stroke:rgb(14.5%,14.5%,14.5%);stroke-opacity:1.0;stroke-linecap:round;stroke-width:2.0;fill:none\"><path d=\"M 169.7 198.1 L 169.7 218.3 L 209.3 218.3\" id=\"5,0\" style=\"\"></path><path d=\"M 169.7 198.1 L 169.7 177.9 L 209.3 177.9\" id=\"5,1\" style=\"\"></path><path d=\"M 169.7 117.3 L 169.7 137.5 L 209.3 137.5\" id=\"6,2\" style=\"\"></path><path d=\"M 169.7 117.3 L 169.7 97.1 L 209.3 97.1\" id=\"6,3\" style=\"\"></path><path d=\"M 50.8 107.2 L 50.8 56.7 L 209.3 56.7\" id=\"8,4\" style=\"\"></path><path d=\"M 130.1 157.7 L 130.1 198.1 L 169.7 198.1\" id=\"7,5\" style=\"\"></path><path d=\"M 130.1 157.7 L 130.1 117.3 L 169.7 117.3\" id=\"7,6\" style=\"\"></path><path d=\"M 50.8 107.2 L 50.8 157.7 L 130.1 157.7\" id=\"8,7\" style=\"\"></path></g><g class=\"toytree-AdmixEdges\" style=\"fill:rgb(0.0%,0.0%,0.0%);fill-opacity:0.0;stroke:rgb(90.6%,54.1%,76.5%);stroke-opacity:0.6;font-size:14px;stroke-linecap:round;stroke-width:5\"></g><g class=\"toytree-Nodes\" style=\"fill:rgb(40.0%,76.1%,64.7%);fill-opacity:1.0;stroke:rgb(14.9%,14.9%,14.9%);stroke-opacity:1.0;stroke-width:1.5\"></g><g class=\"toytree-TipLabels\" style=\"fill:rgb(14.5%,14.5%,14.5%);fill-opacity:1.0;font-family:Helvetica;font-size:12px;font-weight:300;vertical-align:baseline;white-space:pre;stroke:none\"><g class=\"toytree-TipLabel\" transform=\"translate(209.311,218.347)\"><text x=\"15.0\" y=\"3.066\" style=\"fill:rgb(14.5%,14.5%,14.5%);fill-opacity:1.0\">r0</text></g><g class=\"toytree-TipLabel\" transform=\"translate(209.311,177.924)\"><text x=\"15.0\" y=\"3.066\" style=\"fill:rgb(14.5%,14.5%,14.5%);fill-opacity:1.0\">r1</text></g><g class=\"toytree-TipLabel\" transform=\"translate(209.311,137.5)\"><text x=\"15.0\" y=\"3.066\" style=\"fill:rgb(14.5%,14.5%,14.5%);fill-opacity:1.0\">r2</text></g><g class=\"toytree-TipLabel\" transform=\"translate(209.311,97.0763)\"><text x=\"15.0\" y=\"3.066\" style=\"fill:rgb(14.5%,14.5%,14.5%);fill-opacity:1.0\">r3</text></g><g class=\"toytree-TipLabel\" transform=\"translate(209.311,56.6526)\"><text x=\"15.0\" y=\"3.066\" style=\"fill:rgb(14.5%,14.5%,14.5%);fill-opacity:1.0\">r7</text></g></g></g></g></g></svg><div class=\"toyplot-behavior\"><script>(function()\n",
       "{\n",
       "var modules={};\n",
       "})();</script></div></div>"
      ]
     },
     "metadata": {},
     "output_type": "display_data"
    }
   ],
   "source": [
    "# call drop_tips from the module-level\n",
    "toytree.mod.drop_tips(tree, \"~r[4-6]\").draw();"
   ]
  },
  {
   "cell_type": "code",
   "execution_count": 34,
   "id": "5a66e78c",
   "metadata": {},
   "outputs": [
    {
     "data": {
      "text/html": [
       "<div class=\"toyplot\" id=\"t887f0de72f2e4a14ba38433a2a0a4505\" style=\"text-align:center\"><svg class=\"toyplot-canvas-Canvas\" xmlns:toyplot=\"http://www.sandia.gov/toyplot\" xmlns:xlink=\"http://www.w3.org/1999/xlink\" xmlns=\"http://www.w3.org/2000/svg\" width=\"300.0px\" height=\"275.0px\" viewBox=\"0 0 300.0 275.0\" preserveAspectRatio=\"xMidYMid meet\" style=\"background-color:transparent;border-color:#292724;border-style:none;border-width:1.0;fill:rgb(16.1%,15.3%,14.1%);fill-opacity:1.0;font-family:Helvetica;font-size:12px;opacity:1.0;stroke:rgb(16.1%,15.3%,14.1%);stroke-opacity:1.0;stroke-width:1.0\" id=\"t3c3ad967e6c24132b49f8706b93fb2af\"><g class=\"toyplot-coordinates-Cartesian\" id=\"t4aca4d67ca084f75bd556d0c02edfa54\"><clipPath id=\"t44b0d0aef66545f4a3f469f3d3bce27c\"><rect x=\"35.0\" y=\"35.0\" width=\"230.0\" height=\"205.0\"></rect></clipPath><g clip-path=\"url(#t44b0d0aef66545f4a3f469f3d3bce27c)\"><g class=\"toytree-mark-Toytree\" id=\"tb4dec45870814161bfa38ae9c108b40c\"><g class=\"toytree-Edges\" style=\"stroke:rgb(14.5%,14.5%,14.5%);stroke-opacity:1.0;stroke-linecap:round;stroke-width:2.0;fill:none\"><path d=\"M 169.7 198.1 L 169.7 218.3 L 209.3 218.3\" id=\"5,0\" style=\"\"></path><path d=\"M 169.7 198.1 L 169.7 177.9 L 209.3 177.9\" id=\"5,1\" style=\"\"></path><path d=\"M 169.7 117.3 L 169.7 137.5 L 209.3 137.5\" id=\"6,2\" style=\"\"></path><path d=\"M 169.7 117.3 L 169.7 97.1 L 209.3 97.1\" id=\"6,3\" style=\"\"></path><path d=\"M 50.8 107.2 L 50.8 56.7 L 209.3 56.7\" id=\"8,4\" style=\"\"></path><path d=\"M 130.1 157.7 L 130.1 198.1 L 169.7 198.1\" id=\"7,5\" style=\"\"></path><path d=\"M 130.1 157.7 L 130.1 117.3 L 169.7 117.3\" id=\"7,6\" style=\"\"></path><path d=\"M 50.8 107.2 L 50.8 157.7 L 130.1 157.7\" id=\"8,7\" style=\"\"></path></g><g class=\"toytree-AdmixEdges\" style=\"fill:rgb(0.0%,0.0%,0.0%);fill-opacity:0.0;stroke:rgb(90.6%,54.1%,76.5%);stroke-opacity:0.6;font-size:14px;stroke-linecap:round;stroke-width:5\"></g><g class=\"toytree-Nodes\" style=\"fill:rgb(40.0%,76.1%,64.7%);fill-opacity:1.0;stroke:rgb(14.9%,14.9%,14.9%);stroke-opacity:1.0;stroke-width:1.5\"></g><g class=\"toytree-TipLabels\" style=\"fill:rgb(14.5%,14.5%,14.5%);fill-opacity:1.0;font-family:Helvetica;font-size:12px;font-weight:300;vertical-align:baseline;white-space:pre;stroke:none\"><g class=\"toytree-TipLabel\" transform=\"translate(209.311,218.347)\"><text x=\"15.0\" y=\"3.066\" style=\"fill:rgb(14.5%,14.5%,14.5%);fill-opacity:1.0\">r0</text></g><g class=\"toytree-TipLabel\" transform=\"translate(209.311,177.924)\"><text x=\"15.0\" y=\"3.066\" style=\"fill:rgb(14.5%,14.5%,14.5%);fill-opacity:1.0\">r1</text></g><g class=\"toytree-TipLabel\" transform=\"translate(209.311,137.5)\"><text x=\"15.0\" y=\"3.066\" style=\"fill:rgb(14.5%,14.5%,14.5%);fill-opacity:1.0\">r2</text></g><g class=\"toytree-TipLabel\" transform=\"translate(209.311,97.0763)\"><text x=\"15.0\" y=\"3.066\" style=\"fill:rgb(14.5%,14.5%,14.5%);fill-opacity:1.0\">r3</text></g><g class=\"toytree-TipLabel\" transform=\"translate(209.311,56.6526)\"><text x=\"15.0\" y=\"3.066\" style=\"fill:rgb(14.5%,14.5%,14.5%);fill-opacity:1.0\">r7</text></g></g></g></g></g></svg><div class=\"toyplot-behavior\"><script>(function()\n",
       "{\n",
       "var modules={};\n",
       "})();</script></div></div>"
      ]
     },
     "metadata": {},
     "output_type": "display_data"
    }
   ],
   "source": [
    "# call drop_tips from the object-level\n",
    "tree.mod.drop_tips(\"~r[4-6]\").draw();"
   ]
  },
  {
   "cell_type": "markdown",
   "id": "de3ef6a1-7708-48e3-b979-dadf053b8cee",
   "metadata": {},
   "source": [
    "## Writing trees\n",
    "See the [Writing tree data](/write_trees/) documentation section. The function `write()` is used to write a tree to a newick or other format of serialized tree data, and to return it as a string or write to a file from a `ToyTree`, with options to also include metadata. "
   ]
  },
  {
   "cell_type": "code",
   "execution_count": 35,
   "id": "b803539f-fad3-49d3-95e0-270459cfb4ae",
   "metadata": {},
   "outputs": [
    {
     "data": {
      "text/plain": [
       "'((((r0:0.25,r1:0.25):0.25,(r2:0.25,r3:0.25):0.25):0.25,(r4:0.5,r5:0.5):0.25):0.25,(r6:0.75,r7:0.75):0.25);'"
      ]
     },
     "execution_count": 35,
     "metadata": {},
     "output_type": "execute_result"
    }
   ],
   "source": [
    "tree.write()"
   ]
  },
  {
   "cell_type": "markdown",
   "id": "5eb34fb1-ce28-41a8-969f-5286e140559d",
   "metadata": {},
   "source": [
    "## Drawing ToyTrees\n",
    "See the [Tree Drawing](/drawing-basics/) documentation section for a detailed description of drawing options using the `.draw()` function."
   ]
  },
  {
   "cell_type": "markdown",
   "id": "cf907976-0a19-49ae-b886-4df0ef1761cd",
   "metadata": {},
   "source": [
    "## Style dict\n",
    "`ToyTree` objects have a `.style` dict-like object that can be used to view all options for styling tree drawings, and to modify their default drawing style. This is an optional convenience, it is often simpler to provide arguments directly to the `.draw()` function. "
   ]
  },
  {
   "cell_type": "code",
   "execution_count": 36,
   "id": "99781e65-905b-440e-ad23-a6aef6f9c6c5",
   "metadata": {},
   "outputs": [
    {
     "data": {
      "text/html": [
       "<div class=\"toyplot\" id=\"t5229cb73d8d348efbb23ccedf9e37c51\" style=\"text-align:center\"><svg class=\"toyplot-canvas-Canvas\" xmlns:toyplot=\"http://www.sandia.gov/toyplot\" xmlns:xlink=\"http://www.w3.org/1999/xlink\" xmlns=\"http://www.w3.org/2000/svg\" width=\"300.0px\" height=\"300.0px\" viewBox=\"0 0 300.0 300.0\" preserveAspectRatio=\"xMidYMid meet\" style=\"background-color:transparent;border-color:#292724;border-style:none;border-width:1.0;fill:rgb(16.1%,15.3%,14.1%);fill-opacity:1.0;font-family:Helvetica;font-size:12px;opacity:1.0;stroke:rgb(16.1%,15.3%,14.1%);stroke-opacity:1.0;stroke-width:1.0\" id=\"t3d1380b38983498aae3827dde59c0ce1\"><g class=\"toyplot-coordinates-Cartesian\" id=\"t23bcfc92982e4ee9b76cff5895c177d6\"><clipPath id=\"t81b3f949932c4793b9bb57d68a593354\"><rect x=\"35.0\" y=\"35.0\" width=\"230.0\" height=\"230.0\"></rect></clipPath><g clip-path=\"url(#t81b3f949932c4793b9bb57d68a593354)\"><g class=\"toytree-mark-Toytree\" id=\"tc7de26a21368472b975f4bfa4ae3de28\"><g class=\"toytree-Edges\" style=\"stroke:rgb(0.0%,54.5%,54.5%);stroke-opacity:1.0;stroke-linecap:round;stroke-width:3;fill:none\"><path d=\"M 71.4 172.1 L 58.3 172.1 L 58.3 210.6\" id=\"8,0\" style=\"\"></path><path d=\"M 71.4 172.1 L 84.5 172.1 L 84.5 210.6\" id=\"8,1\" style=\"\"></path><path d=\"M 123.8 172.1 L 110.7 172.1 L 110.7 210.6\" id=\"9,2\" style=\"\"></path><path d=\"M 123.8 172.1 L 136.9 172.1 L 136.9 210.6\" id=\"9,3\" style=\"\"></path><path d=\"M 176.2 133.7 L 163.1 133.7 L 163.1 210.6\" id=\"11,4\" style=\"\"></path><path d=\"M 176.2 133.7 L 189.3 133.7 L 189.3 210.6\" id=\"11,5\" style=\"\"></path><path d=\"M 228.6 95.3 L 215.5 95.3 L 215.5 210.6\" id=\"13,6\" style=\"\"></path><path d=\"M 228.6 95.3 L 241.7 95.3 L 241.7 210.6\" id=\"13,7\" style=\"\"></path><path d=\"M 97.6 133.7 L 71.4 133.7 L 71.4 172.1\" id=\"10,8\" style=\"\"></path><path d=\"M 97.6 133.7 L 123.8 133.7 L 123.8 172.1\" id=\"10,9\" style=\"\"></path><path d=\"M 136.9 95.3 L 97.6 95.3 L 97.6 133.7\" id=\"12,10\" style=\"\"></path><path d=\"M 136.9 95.3 L 176.2 95.3 L 176.2 133.7\" id=\"12,11\" style=\"\"></path><path d=\"M 182.8 56.9 L 136.9 56.9 L 136.9 95.3\" id=\"14,12\" style=\"\"></path><path d=\"M 182.8 56.9 L 228.6 56.9 L 228.6 95.3\" id=\"14,13\" style=\"\"></path></g><g class=\"toytree-AdmixEdges\" style=\"fill:rgb(0.0%,0.0%,0.0%);fill-opacity:0.0;stroke:rgb(90.6%,54.1%,76.5%);stroke-opacity:0.6;font-size:14px;stroke-linecap:round;stroke-width:5\"></g><g class=\"toytree-Nodes\" style=\"fill:rgb(0.0%,0.0%,0.0%);fill-opacity:1.0;stroke:rgb(100.0%,100.0%,100.0%);stroke-opacity:1.0;stroke-width:3\"><g id=\"Node-0\" transform=\"translate(58.2569,210.562)\"><polygon points=\"-6.0,6.0 0,-6.0 6.0,6.0\" transform=\"rotate(-180)\"></polygon></g><g id=\"Node-1\" transform=\"translate(84.4692,210.562)\"><polygon points=\"-6.0,6.0 0,-6.0 6.0,6.0\" transform=\"rotate(-180)\"></polygon></g><g id=\"Node-2\" transform=\"translate(110.682,210.562)\"><polygon points=\"-6.0,6.0 0,-6.0 6.0,6.0\" transform=\"rotate(-180)\"></polygon></g><g id=\"Node-3\" transform=\"translate(136.894,210.562)\"><polygon points=\"-6.0,6.0 0,-6.0 6.0,6.0\" transform=\"rotate(-180)\"></polygon></g><g id=\"Node-4\" transform=\"translate(163.106,210.562)\"><polygon points=\"-6.0,6.0 0,-6.0 6.0,6.0\" transform=\"rotate(-180)\"></polygon></g><g id=\"Node-5\" transform=\"translate(189.318,210.562)\"><polygon points=\"-6.0,6.0 0,-6.0 6.0,6.0\" transform=\"rotate(-180)\"></polygon></g><g id=\"Node-6\" transform=\"translate(215.531,210.562)\"><polygon points=\"-6.0,6.0 0,-6.0 6.0,6.0\" transform=\"rotate(-180)\"></polygon></g><g id=\"Node-7\" transform=\"translate(241.743,210.562)\"><polygon points=\"-6.0,6.0 0,-6.0 6.0,6.0\" transform=\"rotate(-180)\"></polygon></g><g id=\"Node-8\" transform=\"translate(71.363,172.15)\"><polygon points=\"-6.0,6.0 0,-6.0 6.0,6.0\" transform=\"rotate(-180)\"></polygon></g><g id=\"Node-9\" transform=\"translate(123.788,172.15)\"><polygon points=\"-6.0,6.0 0,-6.0 6.0,6.0\" transform=\"rotate(-180)\"></polygon></g><g id=\"Node-10\" transform=\"translate(97.5754,133.738)\"><polygon points=\"-6.0,6.0 0,-6.0 6.0,6.0\" transform=\"rotate(-180)\"></polygon></g><g id=\"Node-11\" transform=\"translate(176.212,133.738)\"><polygon points=\"-6.0,6.0 0,-6.0 6.0,6.0\" transform=\"rotate(-180)\"></polygon></g><g id=\"Node-12\" transform=\"translate(136.894,95.326)\"><polygon points=\"-6.0,6.0 0,-6.0 6.0,6.0\" transform=\"rotate(-180)\"></polygon></g><g id=\"Node-13\" transform=\"translate(228.637,95.326)\"><polygon points=\"-6.0,6.0 0,-6.0 6.0,6.0\" transform=\"rotate(-180)\"></polygon></g><g id=\"Node-14\" transform=\"translate(182.765,56.9141)\"><polygon points=\"-6.0,6.0 0,-6.0 6.0,6.0\" transform=\"rotate(-180)\"></polygon></g></g><g class=\"toytree-TipLabels\" style=\"fill:rgb(14.5%,14.5%,14.5%);fill-opacity:1.0;font-family:Helvetica;font-size:12px;font-weight:300;vertical-align:baseline;white-space:pre;stroke:none\"><g class=\"toytree-TipLabel\" transform=\"translate(58.2569,210.562)rotate(90)\"><text x=\"15.0\" y=\"3.066\" style=\"fill:rgb(14.5%,14.5%,14.5%);fill-opacity:1.0\">r0</text></g><g class=\"toytree-TipLabel\" transform=\"translate(84.4692,210.562)rotate(90)\"><text x=\"15.0\" y=\"3.066\" style=\"fill:rgb(14.5%,14.5%,14.5%);fill-opacity:1.0\">r1</text></g><g class=\"toytree-TipLabel\" transform=\"translate(110.682,210.562)rotate(90)\"><text x=\"15.0\" y=\"3.066\" style=\"fill:rgb(14.5%,14.5%,14.5%);fill-opacity:1.0\">r2</text></g><g class=\"toytree-TipLabel\" transform=\"translate(136.894,210.562)rotate(90)\"><text x=\"15.0\" y=\"3.066\" style=\"fill:rgb(14.5%,14.5%,14.5%);fill-opacity:1.0\">r3</text></g><g class=\"toytree-TipLabel\" transform=\"translate(163.106,210.562)rotate(90)\"><text x=\"15.0\" y=\"3.066\" style=\"fill:rgb(14.5%,14.5%,14.5%);fill-opacity:1.0\">r4</text></g><g class=\"toytree-TipLabel\" transform=\"translate(189.318,210.562)rotate(90)\"><text x=\"15.0\" y=\"3.066\" style=\"fill:rgb(14.5%,14.5%,14.5%);fill-opacity:1.0\">r5</text></g><g class=\"toytree-TipLabel\" transform=\"translate(215.531,210.562)rotate(90)\"><text x=\"15.0\" y=\"3.066\" style=\"fill:rgb(14.5%,14.5%,14.5%);fill-opacity:1.0\">r6</text></g><g class=\"toytree-TipLabel\" transform=\"translate(241.743,210.562)rotate(90)\"><text x=\"15.0\" y=\"3.066\" style=\"fill:rgb(14.5%,14.5%,14.5%);fill-opacity:1.0\">r7</text></g></g></g></g></g></svg><div class=\"toyplot-behavior\"><script>(function()\n",
       "{\n",
       "var modules={};\n",
       "})();</script></div></div>"
      ]
     },
     "metadata": {},
     "output_type": "display_data"
    }
   ],
   "source": [
    "# create a copy that we will modify the .style of\n",
    "tre = tree.copy()\n",
    "\n",
    "# set several style options on the tree\n",
    "tre.style.node_style.fill = \"black\"\n",
    "tre.style.node_style.stroke = \"white\"\n",
    "tre.style.node_style.stroke_width = 3\n",
    "tre.style.node_sizes = 12\n",
    "tre.style.node_mask = False\n",
    "tre.style.node_markers = \"v\"\n",
    "tre.style.edge_style.stroke = \"darkcyan\"\n",
    "tre.style.edge_style.stroke_width = 3\n",
    "tre.style.layout = 'd'\n",
    "\n",
    "# call draw and the .style will form the default tree style\n",
    "tre.draw(tree_style=None);"
   ]
  }
 ],
 "metadata": {
  "kernelspec": {
   "display_name": "Python 3 (ipykernel)",
   "language": "python",
   "name": "python3"
  },
  "language_info": {
   "codemirror_mode": {
    "name": "ipython",
    "version": 3
   },
   "file_extension": ".py",
   "mimetype": "text/x-python",
   "name": "python",
   "nbconvert_exporter": "python",
   "pygments_lexer": "ipython3",
   "version": "3.10.12"
  }
 },
 "nbformat": 4,
 "nbformat_minor": 5
}
