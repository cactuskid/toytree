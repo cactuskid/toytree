{
 "cells": [
  {
   "cell_type": "markdown",
   "id": "ae5939c3-6547-45cb-a546-dbe4c9d5573b",
   "metadata": {},
   "source": [
    "# Phylogenetic signal\n",
    "Several metrics are available to measure \"phylogenetic signal\" in a trait value among the tips of a phylogeny. These metrics test the extent to which traits exhibit phylogenetic inertia, such that their values can be explained by a random walk (Brownian motion model of evolution) along the edges of a tree. A trait exhibiting low phylogenetic signal is poorly explained by the this model and the specified tree, whereas a trait exhibiting high phylogenetic signal fits well to this model of evolution on the tree. \n",
    "\n",
    "Here we show how to measure Blomberg's K and Pagel's lambda. "
   ]
  },
  {
   "cell_type": "code",
   "execution_count": 188,
   "id": "35fab500-9de7-4f19-8730-888849072134",
   "metadata": {},
   "outputs": [],
   "source": [
    "import toytree\n",
    "import numpy as np"
   ]
  },
  {
   "cell_type": "markdown",
   "id": "7accf41b-58aa-4485-ac67-6fc4c50e00a7",
   "metadata": {},
   "source": [
    "## Example data\n",
    "Let's simulate some test data. We generate a random tree with uniform internal edge lengths and then simulate one continuous trait (\"t0\") under the Brownian motion (BM) model. In addition, we generate an array to represent standard  error (\"se\") in the trait value, drawn as random uniform values. We expect \"t0\" to exhibit phylogenetic signal, while \"se\" will not. We will also test whether trait \"t0\" exhibits phylogenetic signal while taking into account the standard error within species."
   ]
  },
  {
   "cell_type": "code",
   "execution_count": 189,
   "id": "94a4654d-f9fe-4a45-b0c3-df63865e9328",
   "metadata": {},
   "outputs": [
    {
     "data": {
      "text/html": [
       "<div>\n",
       "<style scoped>\n",
       "    .dataframe tbody tr th:only-of-type {\n",
       "        vertical-align: middle;\n",
       "    }\n",
       "\n",
       "    .dataframe tbody tr th {\n",
       "        vertical-align: top;\n",
       "    }\n",
       "\n",
       "    .dataframe thead th {\n",
       "        text-align: right;\n",
       "    }\n",
       "</style>\n",
       "<table border=\"1\" class=\"dataframe\">\n",
       "  <thead>\n",
       "    <tr style=\"text-align: right;\">\n",
       "      <th></th>\n",
       "      <th>trait</th>\n",
       "      <th>se</th>\n",
       "    </tr>\n",
       "  </thead>\n",
       "  <tbody>\n",
       "    <tr>\n",
       "      <th>0</th>\n",
       "      <td>-0.593520</td>\n",
       "      <td>0.068235</td>\n",
       "    </tr>\n",
       "    <tr>\n",
       "      <th>1</th>\n",
       "      <td>-0.736497</td>\n",
       "      <td>0.005382</td>\n",
       "    </tr>\n",
       "    <tr>\n",
       "      <th>2</th>\n",
       "      <td>0.737992</td>\n",
       "      <td>0.022036</td>\n",
       "    </tr>\n",
       "    <tr>\n",
       "      <th>3</th>\n",
       "      <td>-0.485426</td>\n",
       "      <td>0.018437</td>\n",
       "    </tr>\n",
       "    <tr>\n",
       "      <th>4</th>\n",
       "      <td>-1.606551</td>\n",
       "      <td>0.017591</td>\n",
       "    </tr>\n",
       "    <tr>\n",
       "      <th>5</th>\n",
       "      <td>-0.319333</td>\n",
       "      <td>0.081209</td>\n",
       "    </tr>\n",
       "    <tr>\n",
       "      <th>6</th>\n",
       "      <td>-1.023654</td>\n",
       "      <td>0.092334</td>\n",
       "    </tr>\n",
       "    <tr>\n",
       "      <th>7</th>\n",
       "      <td>0.905526</td>\n",
       "      <td>0.027657</td>\n",
       "    </tr>\n",
       "    <tr>\n",
       "      <th>8</th>\n",
       "      <td>0.714016</td>\n",
       "      <td>0.081975</td>\n",
       "    </tr>\n",
       "    <tr>\n",
       "      <th>9</th>\n",
       "      <td>0.110878</td>\n",
       "      <td>0.088989</td>\n",
       "    </tr>\n",
       "  </tbody>\n",
       "</table>\n",
       "</div>"
      ],
      "text/plain": [
       "      trait        se\n",
       "0 -0.593520  0.068235\n",
       "1 -0.736497  0.005382\n",
       "2  0.737992  0.022036\n",
       "3 -0.485426  0.018437\n",
       "4 -1.606551  0.017591\n",
       "5 -0.319333  0.081209\n",
       "6 -1.023654  0.092334\n",
       "7  0.905526  0.027657\n",
       "8  0.714016  0.081975\n",
       "9  0.110878  0.088989"
      ]
     },
     "execution_count": 189,
     "metadata": {},
     "output_type": "execute_result"
    }
   ],
   "source": [
    "# generate a random tree\n",
    "tree = toytree.rtree.unittree(ntips=60, treeheight=1.0, seed=123)\n",
    "\n",
    "# generate a trait value under BM model and store to tree\n",
    "traits = tree.pcm.simulate_continuous_bm(rates={\"trait\": 1.0}, seed=123, tips_only=True)\n",
    "\n",
    "# generate a random uniform value as measurement error\n",
    "traits[\"se\"] = np.random.default_rng(seed=123).uniform(0, 1e-1, size=tree.ntips)\n",
    "\n",
    "# show the first few values\n",
    "traits.head(10)"
   ]
  },
  {
   "cell_type": "markdown",
   "id": "d6ebd9fd-b5fe-455f-b780-774f6dafd3c8",
   "metadata": {},
   "source": [
    "Let's visualize the trait and se."
   ]
  },
  {
   "cell_type": "code",
   "execution_count": 191,
   "id": "563c9b57-f8ce-432b-bf18-6b9325118cc9",
   "metadata": {},
   "outputs": [
    {
     "data": {
      "text/html": [
       "<div class=\"toyplot\" id=\"t7e6366858b1641ea9fd608157035d5d9\" style=\"text-align:center\"><svg class=\"toyplot-canvas-Canvas\" xmlns:toyplot=\"http://www.sandia.gov/toyplot\" xmlns:xlink=\"http://www.w3.org/1999/xlink\" xmlns=\"http://www.w3.org/2000/svg\" width=\"800.0px\" height=\"350.0px\" viewBox=\"0 0 800.0 350.0\" preserveAspectRatio=\"xMidYMid meet\" style=\"background-color:transparent;border-color:#292724;border-style:none;border-width:1.0;fill:rgb(16.1%,15.3%,14.1%);fill-opacity:1.0;font-family:Helvetica;font-size:12px;opacity:1.0;stroke:rgb(16.1%,15.3%,14.1%);stroke-opacity:1.0;stroke-width:1.0\" id=\"t8d8ce93daacf40b7b9e8419ac6ecae29\"><g class=\"toyplot-coordinates-Cartesian\" id=\"t5812fc92c4614f4199f6e823ddd36995\"><clipPath id=\"tdc179b1201ad4ef29f5141fd6e1dc739\"><rect x=\"35.0\" y=\"35.0\" width=\"730.0\" height=\"280.0\"></rect></clipPath><g clip-path=\"url(#tdc179b1201ad4ef29f5141fd6e1dc739)\"><g class=\"toytree-mark-Toytree\" id=\"t562bef847ba343d8b9569945668eca8d\"><g class=\"toytree-Edges\" style=\"stroke:rgb(14.5%,14.5%,14.5%);stroke-opacity:1.0;stroke-linecap:round;stroke-width:2.0;fill:none\"><path d=\"M 62.9 111.6 L 57.1 111.6 L 57.1 248.3\" id=\"60,0\" style=\"\"></path><path d=\"M 62.9 111.6 L 68.7 111.6 L 68.7 248.3\" id=\"60,1\" style=\"\"></path><path d=\"M 94.8 111.6 L 80.3 111.6 L 80.3 248.3\" id=\"64,2\" style=\"\"></path><path d=\"M 97.7 141.9 L 91.9 141.9 L 91.9 248.3\" id=\"61,3\" style=\"\"></path><path d=\"M 97.7 141.9 L 103.6 141.9 L 103.6 248.3\" id=\"61,4\" style=\"\"></path><path d=\"M 121.0 141.9 L 115.2 141.9 L 115.2 248.3\" id=\"62,5\" style=\"\"></path><path d=\"M 121.0 141.9 L 126.8 141.9 L 126.8 248.3\" id=\"62,6\" style=\"\"></path><path d=\"M 251.8 111.6 L 138.4 111.6 L 138.4 248.3\" id=\"99,7\" style=\"\"></path><path d=\"M 179.5 157.1 L 150.1 157.1 L 150.1 248.3\" id=\"75,8\" style=\"\"></path><path d=\"M 174.8 187.5 L 161.7 187.5 L 161.7 248.3\" id=\"68,9\" style=\"\"></path><path d=\"M 179.1 217.9 L 173.3 217.9 L 173.3 248.3\" id=\"66,10\" style=\"\"></path><path d=\"M 179.1 217.9 L 184.9 217.9 L 184.9 248.3\" id=\"66,11\" style=\"\"></path><path d=\"M 187.8 202.7 L 196.6 202.7 L 196.6 248.3\" id=\"67,12\" style=\"\"></path><path d=\"M 214.0 217.9 L 208.2 217.9 L 208.2 248.3\" id=\"69,13\" style=\"\"></path><path d=\"M 214.0 217.9 L 219.8 217.9 L 219.8 248.3\" id=\"69,14\" style=\"\"></path><path d=\"M 237.2 217.9 L 231.4 217.9 L 231.4 248.3\" id=\"70,15\" style=\"\"></path><path d=\"M 237.2 217.9 L 243.1 217.9 L 243.1 248.3\" id=\"70,16\" style=\"\"></path><path d=\"M 260.5 202.7 L 254.7 202.7 L 254.7 248.3\" id=\"72,17\" style=\"\"></path><path d=\"M 260.5 202.7 L 266.3 202.7 L 266.3 248.3\" id=\"72,18\" style=\"\"></path><path d=\"M 311.5 157.1 L 277.9 157.1 L 277.9 248.3\" id=\"83,19\" style=\"\"></path><path d=\"M 295.4 217.9 L 289.6 217.9 L 289.6 248.3\" id=\"76,20\" style=\"\"></path><path d=\"M 295.4 217.9 L 301.2 217.9 L 301.2 248.3\" id=\"76,21\" style=\"\"></path><path d=\"M 304.1 202.7 L 312.8 202.7 L 312.8 248.3\" id=\"77,22\" style=\"\"></path><path d=\"M 334.6 202.7 L 324.4 202.7 L 324.4 248.3\" id=\"80,23\" style=\"\"></path><path d=\"M 344.8 217.9 L 336.1 217.9 L 336.1 248.3\" id=\"79,24\" style=\"\"></path><path d=\"M 353.5 233.1 L 347.7 233.1 L 347.7 248.3\" id=\"78,25\" style=\"\"></path><path d=\"M 353.5 233.1 L 359.3 233.1 L 359.3 248.3\" id=\"78,26\" style=\"\"></path><path d=\"M 345.1 172.3 L 370.9 172.3 L 370.9 248.3\" id=\"82,27\" style=\"\"></path><path d=\"M 388.4 187.5 L 382.6 187.5 L 382.6 248.3\" id=\"85,28\" style=\"\"></path><path d=\"M 388.4 187.5 L 394.2 187.5 L 394.2 248.3\" id=\"85,29\" style=\"\"></path><path d=\"M 422.5 187.5 L 405.8 187.5 L 405.8 248.3\" id=\"90,30\" style=\"\"></path><path d=\"M 423.3 217.9 L 417.4 217.9 L 417.4 248.3\" id=\"86,31\" style=\"\"></path><path d=\"M 423.3 217.9 L 429.1 217.9 L 429.1 248.3\" id=\"86,32\" style=\"\"></path><path d=\"M 446.5 233.1 L 440.7 233.1 L 440.7 248.3\" id=\"87,33\" style=\"\"></path><path d=\"M 446.5 233.1 L 452.3 233.1 L 452.3 248.3\" id=\"87,34\" style=\"\"></path><path d=\"M 455.2 217.9 L 463.9 217.9 L 463.9 248.3\" id=\"88,35\" style=\"\"></path><path d=\"M 484.3 172.3 L 475.6 172.3 L 475.6 248.3\" id=\"93,36\" style=\"\"></path><path d=\"M 493.0 187.5 L 487.2 187.5 L 487.2 248.3\" id=\"92,37\" style=\"\"></path><path d=\"M 493.0 187.5 L 498.8 187.5 L 498.8 248.3\" id=\"92,38\" style=\"\"></path><path d=\"M 516.3 172.3 L 510.4 172.3 L 510.4 248.3\" id=\"95,39\" style=\"\"></path><path d=\"M 516.3 172.3 L 522.1 172.3 L 522.1 248.3\" id=\"95,40\" style=\"\"></path><path d=\"M 525.0 157.1 L 533.7 157.1 L 533.7 248.3\" id=\"96,41\" style=\"\"></path><path d=\"M 554.0 111.6 L 545.3 111.6 L 545.3 248.3\" id=\"101,42\" style=\"\"></path><path d=\"M 562.8 126.7 L 556.9 126.7 L 556.9 248.3\" id=\"100,43\" style=\"\"></path><path d=\"M 562.8 126.7 L 568.6 126.7 L 568.6 248.3\" id=\"100,44\" style=\"\"></path><path d=\"M 586.0 96.4 L 580.2 96.4 L 580.2 248.3\" id=\"104,45\" style=\"\"></path><path d=\"M 586.0 96.4 L 591.8 96.4 L 591.8 248.3\" id=\"104,46\" style=\"\"></path><path d=\"M 594.7 81.2 L 603.4 81.2 L 603.4 248.3\" id=\"105,47\" style=\"\"></path><path d=\"M 620.9 111.6 L 615.1 111.6 L 615.1 248.3\" id=\"107,48\" style=\"\"></path><path d=\"M 620.9 111.6 L 626.7 111.6 L 626.7 248.3\" id=\"107,49\" style=\"\"></path><path d=\"M 655.0 111.6 L 638.3 111.6 L 638.3 248.3\" id=\"111,50\" style=\"\"></path><path d=\"M 658.7 141.9 L 649.9 141.9 L 649.9 248.3\" id=\"109,51\" style=\"\"></path><path d=\"M 667.4 157.1 L 661.6 157.1 L 661.6 248.3\" id=\"108,52\" style=\"\"></path><path d=\"M 667.4 157.1 L 673.2 157.1 L 673.2 248.3\" id=\"108,53\" style=\"\"></path><path d=\"M 671.7 126.7 L 684.8 126.7 L 684.8 248.3\" id=\"110,54\" style=\"\"></path><path d=\"M 705.2 96.4 L 696.4 96.4 L 696.4 248.3\" id=\"114,55\" style=\"\"></path><path d=\"M 713.9 111.6 L 708.1 111.6 L 708.1 248.3\" id=\"113,56\" style=\"\"></path><path d=\"M 713.9 111.6 L 719.7 111.6 L 719.7 248.3\" id=\"113,57\" style=\"\"></path><path d=\"M 737.1 81.2 L 731.3 81.2 L 731.3 248.3\" id=\"116,58\" style=\"\"></path><path d=\"M 737.1 81.2 L 742.9 81.2 L 742.9 248.3\" id=\"116,59\" style=\"\"></path><path d=\"M 78.9 96.4 L 62.9 96.4 L 62.9 111.6\" id=\"65,60\" style=\"\"></path><path d=\"M 109.4 126.7 L 97.7 126.7 L 97.7 141.9\" id=\"63,61\" style=\"\"></path><path d=\"M 109.4 126.7 L 121.0 126.7 L 121.0 141.9\" id=\"63,62\" style=\"\"></path><path d=\"M 94.8 111.6 L 109.4 111.6 L 109.4 126.7\" id=\"64,63\" style=\"\"></path><path d=\"M 78.9 96.4 L 94.8 96.4 L 94.8 111.6\" id=\"65,64\" style=\"\"></path><path d=\"M 240.9 81.2 L 78.9 81.2 L 78.9 96.4\" id=\"103,65\" style=\"\"></path><path d=\"M 187.8 202.7 L 179.1 202.7 L 179.1 217.9\" id=\"67,66\" style=\"\"></path><path d=\"M 174.8 187.5 L 187.8 187.5 L 187.8 202.7\" id=\"68,67\" style=\"\"></path><path d=\"M 208.9 172.3 L 174.8 172.3 L 174.8 187.5\" id=\"74,68\" style=\"\"></path><path d=\"M 225.6 202.7 L 214.0 202.7 L 214.0 217.9\" id=\"71,69\" style=\"\"></path><path d=\"M 225.6 202.7 L 237.2 202.7 L 237.2 217.9\" id=\"71,70\" style=\"\"></path><path d=\"M 243.1 187.5 L 225.6 187.5 L 225.6 202.7\" id=\"73,71\" style=\"\"></path><path d=\"M 243.1 187.5 L 260.5 187.5 L 260.5 202.7\" id=\"73,72\" style=\"\"></path><path d=\"M 208.9 172.3 L 243.1 172.3 L 243.1 187.5\" id=\"74,73\" style=\"\"></path><path d=\"M 179.5 157.1 L 208.9 157.1 L 208.9 172.3\" id=\"75,74\" style=\"\"></path><path d=\"M 245.5 141.9 L 179.5 141.9 L 179.5 157.1\" id=\"84,75\" style=\"\"></path><path d=\"M 304.1 202.7 L 295.4 202.7 L 295.4 217.9\" id=\"77,76\" style=\"\"></path><path d=\"M 319.3 187.5 L 304.1 187.5 L 304.1 202.7\" id=\"81,77\" style=\"\"></path><path d=\"M 344.8 217.9 L 353.5 217.9 L 353.5 233.1\" id=\"79,78\" style=\"\"></path><path d=\"M 334.6 202.7 L 344.8 202.7 L 344.8 217.9\" id=\"80,79\" style=\"\"></path><path d=\"M 319.3 187.5 L 334.6 187.5 L 334.6 202.7\" id=\"81,80\" style=\"\"></path><path d=\"M 345.1 172.3 L 319.3 172.3 L 319.3 187.5\" id=\"82,81\" style=\"\"></path><path d=\"M 311.5 157.1 L 345.1 157.1 L 345.1 172.3\" id=\"83,82\" style=\"\"></path><path d=\"M 245.5 141.9 L 311.5 141.9 L 311.5 157.1\" id=\"84,83\" style=\"\"></path><path d=\"M 365.2 126.7 L 245.5 126.7 L 245.5 141.9\" id=\"98,84\" style=\"\"></path><path d=\"M 405.4 172.3 L 388.4 172.3 L 388.4 187.5\" id=\"91,85\" style=\"\"></path><path d=\"M 439.2 202.7 L 423.3 202.7 L 423.3 217.9\" id=\"89,86\" style=\"\"></path><path d=\"M 455.2 217.9 L 446.5 217.9 L 446.5 233.1\" id=\"88,87\" style=\"\"></path><path d=\"M 439.2 202.7 L 455.2 202.7 L 455.2 217.9\" id=\"89,88\" style=\"\"></path><path d=\"M 422.5 187.5 L 439.2 187.5 L 439.2 202.7\" id=\"90,89\" style=\"\"></path><path d=\"M 405.4 172.3 L 422.5 172.3 L 422.5 187.5\" id=\"91,90\" style=\"\"></path><path d=\"M 444.9 157.1 L 405.4 157.1 L 405.4 172.3\" id=\"94,91\" style=\"\"></path><path d=\"M 484.3 172.3 L 493.0 172.3 L 493.0 187.5\" id=\"93,92\" style=\"\"></path><path d=\"M 444.9 157.1 L 484.3 157.1 L 484.3 172.3\" id=\"94,93\" style=\"\"></path><path d=\"M 484.9 141.9 L 444.9 141.9 L 444.9 157.1\" id=\"97,94\" style=\"\"></path><path d=\"M 525.0 157.1 L 516.3 157.1 L 516.3 172.3\" id=\"96,95\" style=\"\"></path><path d=\"M 484.9 141.9 L 525.0 141.9 L 525.0 157.1\" id=\"97,96\" style=\"\"></path><path d=\"M 365.2 126.7 L 484.9 126.7 L 484.9 141.9\" id=\"98,97\" style=\"\"></path><path d=\"M 251.8 111.6 L 365.2 111.6 L 365.2 126.7\" id=\"99,98\" style=\"\"></path><path d=\"M 402.9 96.4 L 251.8 96.4 L 251.8 111.6\" id=\"102,99\" style=\"\"></path><path d=\"M 554.0 111.6 L 562.8 111.6 L 562.8 126.7\" id=\"101,100\" style=\"\"></path><path d=\"M 402.9 96.4 L 554.0 96.4 L 554.0 111.6\" id=\"102,101\" style=\"\"></path><path d=\"M 240.9 81.2 L 402.9 81.2 L 402.9 96.4\" id=\"103,102\" style=\"\"></path><path d=\"M 417.8 66.0 L 240.9 66.0 L 240.9 81.2\" id=\"106,103\" style=\"\"></path><path d=\"M 594.7 81.2 L 586.0 81.2 L 586.0 96.4\" id=\"105,104\" style=\"\"></path><path d=\"M 417.8 66.0 L 594.7 66.0 L 594.7 81.2\" id=\"106,105\" style=\"\"></path><path d=\"M 561.1 50.8 L 417.8 50.8 L 417.8 66.0\" id=\"118,106\" style=\"\"></path><path d=\"M 638.0 96.4 L 620.9 96.4 L 620.9 111.6\" id=\"112,107\" style=\"\"></path><path d=\"M 658.7 141.9 L 667.4 141.9 L 667.4 157.1\" id=\"109,108\" style=\"\"></path><path d=\"M 671.7 126.7 L 658.7 126.7 L 658.7 141.9\" id=\"110,109\" style=\"\"></path><path d=\"M 655.0 111.6 L 671.7 111.6 L 671.7 126.7\" id=\"111,110\" style=\"\"></path><path d=\"M 638.0 96.4 L 655.0 96.4 L 655.0 111.6\" id=\"112,111\" style=\"\"></path><path d=\"M 671.6 81.2 L 638.0 81.2 L 638.0 96.4\" id=\"115,112\" style=\"\"></path><path d=\"M 705.2 96.4 L 713.9 96.4 L 713.9 111.6\" id=\"114,113\" style=\"\"></path><path d=\"M 671.6 81.2 L 705.2 81.2 L 705.2 96.4\" id=\"115,114\" style=\"\"></path><path d=\"M 704.3 66.0 L 671.6 66.0 L 671.6 81.2\" id=\"117,115\" style=\"\"></path><path d=\"M 704.3 66.0 L 737.1 66.0 L 737.1 81.2\" id=\"117,116\" style=\"\"></path><path d=\"M 561.1 50.8 L 704.3 50.8 L 704.3 66.0\" id=\"118,117\" style=\"\"></path></g><g class=\"toytree-AdmixEdges\" style=\"fill:rgb(0.0%,0.0%,0.0%);fill-opacity:0.0;stroke:rgb(90.6%,54.1%,76.5%);stroke-opacity:0.6;font-size:14px;stroke-linecap:round;stroke-width:5\"></g><g class=\"toytree-Nodes\" style=\"fill:rgb(40.0%,76.1%,64.7%);fill-opacity:1.0;stroke:rgb(14.9%,14.9%,14.9%);stroke-opacity:1.0;stroke-width:1.5\"></g><g class=\"toytree-TipLabels\" style=\"fill:rgb(14.5%,14.5%,14.5%);fill-opacity:1.0;font-family:Helvetica;font-size:12px;font-weight:300;vertical-align:baseline;white-space:pre;stroke:none\"><g class=\"toytree-TipLabel\" transform=\"translate(57.0549,248.262)rotate(90)\"><text x=\"15.0\" y=\"3.066\" style=\"fill:rgb(14.5%,14.5%,14.5%);fill-opacity:1.0\">r0</text></g><g class=\"toytree-TipLabel\" transform=\"translate(68.6801,248.262)rotate(90)\"><text x=\"15.0\" y=\"3.066\" style=\"fill:rgb(14.5%,14.5%,14.5%);fill-opacity:1.0\">r1</text></g><g class=\"toytree-TipLabel\" transform=\"translate(80.3054,248.262)rotate(90)\"><text x=\"15.0\" y=\"3.066\" style=\"fill:rgb(14.5%,14.5%,14.5%);fill-opacity:1.0\">r2</text></g><g class=\"toytree-TipLabel\" transform=\"translate(91.9306,248.262)rotate(90)\"><text x=\"15.0\" y=\"3.066\" style=\"fill:rgb(14.5%,14.5%,14.5%);fill-opacity:1.0\">r3</text></g><g class=\"toytree-TipLabel\" transform=\"translate(103.556,248.262)rotate(90)\"><text x=\"15.0\" y=\"3.066\" style=\"fill:rgb(14.5%,14.5%,14.5%);fill-opacity:1.0\">r4</text></g><g class=\"toytree-TipLabel\" transform=\"translate(115.181,248.262)rotate(90)\"><text x=\"15.0\" y=\"3.066\" style=\"fill:rgb(14.5%,14.5%,14.5%);fill-opacity:1.0\">r5</text></g><g class=\"toytree-TipLabel\" transform=\"translate(126.806,248.262)rotate(90)\"><text x=\"15.0\" y=\"3.066\" style=\"fill:rgb(14.5%,14.5%,14.5%);fill-opacity:1.0\">r6</text></g><g class=\"toytree-TipLabel\" transform=\"translate(138.432,248.262)rotate(90)\"><text x=\"15.0\" y=\"3.066\" style=\"fill:rgb(14.5%,14.5%,14.5%);fill-opacity:1.0\">r7</text></g><g class=\"toytree-TipLabel\" transform=\"translate(150.057,248.262)rotate(90)\"><text x=\"15.0\" y=\"3.066\" style=\"fill:rgb(14.5%,14.5%,14.5%);fill-opacity:1.0\">r8</text></g><g class=\"toytree-TipLabel\" transform=\"translate(161.682,248.262)rotate(90)\"><text x=\"15.0\" y=\"3.066\" style=\"fill:rgb(14.5%,14.5%,14.5%);fill-opacity:1.0\">r9</text></g><g class=\"toytree-TipLabel\" transform=\"translate(173.307,248.262)rotate(90)\"><text x=\"15.0\" y=\"3.066\" style=\"fill:rgb(14.5%,14.5%,14.5%);fill-opacity:1.0\">r10</text></g><g class=\"toytree-TipLabel\" transform=\"translate(184.933,248.262)rotate(90)\"><text x=\"15.0\" y=\"3.066\" style=\"fill:rgb(14.5%,14.5%,14.5%);fill-opacity:1.0\">r11</text></g><g class=\"toytree-TipLabel\" transform=\"translate(196.558,248.262)rotate(90)\"><text x=\"15.0\" y=\"3.066\" style=\"fill:rgb(14.5%,14.5%,14.5%);fill-opacity:1.0\">r12</text></g><g class=\"toytree-TipLabel\" transform=\"translate(208.183,248.262)rotate(90)\"><text x=\"15.0\" y=\"3.066\" style=\"fill:rgb(14.5%,14.5%,14.5%);fill-opacity:1.0\">r13</text></g><g class=\"toytree-TipLabel\" transform=\"translate(219.808,248.262)rotate(90)\"><text x=\"15.0\" y=\"3.066\" style=\"fill:rgb(14.5%,14.5%,14.5%);fill-opacity:1.0\">r14</text></g><g class=\"toytree-TipLabel\" transform=\"translate(231.434,248.262)rotate(90)\"><text x=\"15.0\" y=\"3.066\" style=\"fill:rgb(14.5%,14.5%,14.5%);fill-opacity:1.0\">r15</text></g><g class=\"toytree-TipLabel\" transform=\"translate(243.059,248.262)rotate(90)\"><text x=\"15.0\" y=\"3.066\" style=\"fill:rgb(14.5%,14.5%,14.5%);fill-opacity:1.0\">r16</text></g><g class=\"toytree-TipLabel\" transform=\"translate(254.684,248.262)rotate(90)\"><text x=\"15.0\" y=\"3.066\" style=\"fill:rgb(14.5%,14.5%,14.5%);fill-opacity:1.0\">r17</text></g><g class=\"toytree-TipLabel\" transform=\"translate(266.31,248.262)rotate(90)\"><text x=\"15.0\" y=\"3.066\" style=\"fill:rgb(14.5%,14.5%,14.5%);fill-opacity:1.0\">r18</text></g><g class=\"toytree-TipLabel\" transform=\"translate(277.935,248.262)rotate(90)\"><text x=\"15.0\" y=\"3.066\" style=\"fill:rgb(14.5%,14.5%,14.5%);fill-opacity:1.0\">r19</text></g><g class=\"toytree-TipLabel\" transform=\"translate(289.56,248.262)rotate(90)\"><text x=\"15.0\" y=\"3.066\" style=\"fill:rgb(14.5%,14.5%,14.5%);fill-opacity:1.0\">r20</text></g><g class=\"toytree-TipLabel\" transform=\"translate(301.185,248.262)rotate(90)\"><text x=\"15.0\" y=\"3.066\" style=\"fill:rgb(14.5%,14.5%,14.5%);fill-opacity:1.0\">r21</text></g><g class=\"toytree-TipLabel\" transform=\"translate(312.811,248.262)rotate(90)\"><text x=\"15.0\" y=\"3.066\" style=\"fill:rgb(14.5%,14.5%,14.5%);fill-opacity:1.0\">r22</text></g><g class=\"toytree-TipLabel\" transform=\"translate(324.436,248.262)rotate(90)\"><text x=\"15.0\" y=\"3.066\" style=\"fill:rgb(14.5%,14.5%,14.5%);fill-opacity:1.0\">r23</text></g><g class=\"toytree-TipLabel\" transform=\"translate(336.061,248.262)rotate(90)\"><text x=\"15.0\" y=\"3.066\" style=\"fill:rgb(14.5%,14.5%,14.5%);fill-opacity:1.0\">r24</text></g><g class=\"toytree-TipLabel\" transform=\"translate(347.686,248.262)rotate(90)\"><text x=\"15.0\" y=\"3.066\" style=\"fill:rgb(14.5%,14.5%,14.5%);fill-opacity:1.0\">r25</text></g><g class=\"toytree-TipLabel\" transform=\"translate(359.312,248.262)rotate(90)\"><text x=\"15.0\" y=\"3.066\" style=\"fill:rgb(14.5%,14.5%,14.5%);fill-opacity:1.0\">r26</text></g><g class=\"toytree-TipLabel\" transform=\"translate(370.937,248.262)rotate(90)\"><text x=\"15.0\" y=\"3.066\" style=\"fill:rgb(14.5%,14.5%,14.5%);fill-opacity:1.0\">r27</text></g><g class=\"toytree-TipLabel\" transform=\"translate(382.562,248.262)rotate(90)\"><text x=\"15.0\" y=\"3.066\" style=\"fill:rgb(14.5%,14.5%,14.5%);fill-opacity:1.0\">r28</text></g><g class=\"toytree-TipLabel\" transform=\"translate(394.187,248.262)rotate(90)\"><text x=\"15.0\" y=\"3.066\" style=\"fill:rgb(14.5%,14.5%,14.5%);fill-opacity:1.0\">r29</text></g><g class=\"toytree-TipLabel\" transform=\"translate(405.813,248.262)rotate(90)\"><text x=\"15.0\" y=\"3.066\" style=\"fill:rgb(14.5%,14.5%,14.5%);fill-opacity:1.0\">r30</text></g><g class=\"toytree-TipLabel\" transform=\"translate(417.438,248.262)rotate(90)\"><text x=\"15.0\" y=\"3.066\" style=\"fill:rgb(14.5%,14.5%,14.5%);fill-opacity:1.0\">r31</text></g><g class=\"toytree-TipLabel\" transform=\"translate(429.063,248.262)rotate(90)\"><text x=\"15.0\" y=\"3.066\" style=\"fill:rgb(14.5%,14.5%,14.5%);fill-opacity:1.0\">r32</text></g><g class=\"toytree-TipLabel\" transform=\"translate(440.688,248.262)rotate(90)\"><text x=\"15.0\" y=\"3.066\" style=\"fill:rgb(14.5%,14.5%,14.5%);fill-opacity:1.0\">r33</text></g><g class=\"toytree-TipLabel\" transform=\"translate(452.314,248.262)rotate(90)\"><text x=\"15.0\" y=\"3.066\" style=\"fill:rgb(14.5%,14.5%,14.5%);fill-opacity:1.0\">r34</text></g><g class=\"toytree-TipLabel\" transform=\"translate(463.939,248.262)rotate(90)\"><text x=\"15.0\" y=\"3.066\" style=\"fill:rgb(14.5%,14.5%,14.5%);fill-opacity:1.0\">r35</text></g><g class=\"toytree-TipLabel\" transform=\"translate(475.564,248.262)rotate(90)\"><text x=\"15.0\" y=\"3.066\" style=\"fill:rgb(14.5%,14.5%,14.5%);fill-opacity:1.0\">r36</text></g><g class=\"toytree-TipLabel\" transform=\"translate(487.189,248.262)rotate(90)\"><text x=\"15.0\" y=\"3.066\" style=\"fill:rgb(14.5%,14.5%,14.5%);fill-opacity:1.0\">r37</text></g><g class=\"toytree-TipLabel\" transform=\"translate(498.815,248.262)rotate(90)\"><text x=\"15.0\" y=\"3.066\" style=\"fill:rgb(14.5%,14.5%,14.5%);fill-opacity:1.0\">r38</text></g><g class=\"toytree-TipLabel\" transform=\"translate(510.44,248.262)rotate(90)\"><text x=\"15.0\" y=\"3.066\" style=\"fill:rgb(14.5%,14.5%,14.5%);fill-opacity:1.0\">r39</text></g><g class=\"toytree-TipLabel\" transform=\"translate(522.065,248.262)rotate(90)\"><text x=\"15.0\" y=\"3.066\" style=\"fill:rgb(14.5%,14.5%,14.5%);fill-opacity:1.0\">r40</text></g><g class=\"toytree-TipLabel\" transform=\"translate(533.69,248.262)rotate(90)\"><text x=\"15.0\" y=\"3.066\" style=\"fill:rgb(14.5%,14.5%,14.5%);fill-opacity:1.0\">r41</text></g><g class=\"toytree-TipLabel\" transform=\"translate(545.316,248.262)rotate(90)\"><text x=\"15.0\" y=\"3.066\" style=\"fill:rgb(14.5%,14.5%,14.5%);fill-opacity:1.0\">r42</text></g><g class=\"toytree-TipLabel\" transform=\"translate(556.941,248.262)rotate(90)\"><text x=\"15.0\" y=\"3.066\" style=\"fill:rgb(14.5%,14.5%,14.5%);fill-opacity:1.0\">r43</text></g><g class=\"toytree-TipLabel\" transform=\"translate(568.566,248.262)rotate(90)\"><text x=\"15.0\" y=\"3.066\" style=\"fill:rgb(14.5%,14.5%,14.5%);fill-opacity:1.0\">r44</text></g><g class=\"toytree-TipLabel\" transform=\"translate(580.192,248.262)rotate(90)\"><text x=\"15.0\" y=\"3.066\" style=\"fill:rgb(14.5%,14.5%,14.5%);fill-opacity:1.0\">r45</text></g><g class=\"toytree-TipLabel\" transform=\"translate(591.817,248.262)rotate(90)\"><text x=\"15.0\" y=\"3.066\" style=\"fill:rgb(14.5%,14.5%,14.5%);fill-opacity:1.0\">r46</text></g><g class=\"toytree-TipLabel\" transform=\"translate(603.442,248.262)rotate(90)\"><text x=\"15.0\" y=\"3.066\" style=\"fill:rgb(14.5%,14.5%,14.5%);fill-opacity:1.0\">r47</text></g><g class=\"toytree-TipLabel\" transform=\"translate(615.067,248.262)rotate(90)\"><text x=\"15.0\" y=\"3.066\" style=\"fill:rgb(14.5%,14.5%,14.5%);fill-opacity:1.0\">r48</text></g><g class=\"toytree-TipLabel\" transform=\"translate(626.693,248.262)rotate(90)\"><text x=\"15.0\" y=\"3.066\" style=\"fill:rgb(14.5%,14.5%,14.5%);fill-opacity:1.0\">r49</text></g><g class=\"toytree-TipLabel\" transform=\"translate(638.318,248.262)rotate(90)\"><text x=\"15.0\" y=\"3.066\" style=\"fill:rgb(14.5%,14.5%,14.5%);fill-opacity:1.0\">r50</text></g><g class=\"toytree-TipLabel\" transform=\"translate(649.943,248.262)rotate(90)\"><text x=\"15.0\" y=\"3.066\" style=\"fill:rgb(14.5%,14.5%,14.5%);fill-opacity:1.0\">r51</text></g><g class=\"toytree-TipLabel\" transform=\"translate(661.568,248.262)rotate(90)\"><text x=\"15.0\" y=\"3.066\" style=\"fill:rgb(14.5%,14.5%,14.5%);fill-opacity:1.0\">r52</text></g><g class=\"toytree-TipLabel\" transform=\"translate(673.194,248.262)rotate(90)\"><text x=\"15.0\" y=\"3.066\" style=\"fill:rgb(14.5%,14.5%,14.5%);fill-opacity:1.0\">r53</text></g><g class=\"toytree-TipLabel\" transform=\"translate(684.819,248.262)rotate(90)\"><text x=\"15.0\" y=\"3.066\" style=\"fill:rgb(14.5%,14.5%,14.5%);fill-opacity:1.0\">r54</text></g><g class=\"toytree-TipLabel\" transform=\"translate(696.444,248.262)rotate(90)\"><text x=\"15.0\" y=\"3.066\" style=\"fill:rgb(14.5%,14.5%,14.5%);fill-opacity:1.0\">r55</text></g><g class=\"toytree-TipLabel\" transform=\"translate(708.069,248.262)rotate(90)\"><text x=\"15.0\" y=\"3.066\" style=\"fill:rgb(14.5%,14.5%,14.5%);fill-opacity:1.0\">r56</text></g><g class=\"toytree-TipLabel\" transform=\"translate(719.695,248.262)rotate(90)\"><text x=\"15.0\" y=\"3.066\" style=\"fill:rgb(14.5%,14.5%,14.5%);fill-opacity:1.0\">r57</text></g><g class=\"toytree-TipLabel\" transform=\"translate(731.32,248.262)rotate(90)\"><text x=\"15.0\" y=\"3.066\" style=\"fill:rgb(14.5%,14.5%,14.5%);fill-opacity:1.0\">r58</text></g><g class=\"toytree-TipLabel\" transform=\"translate(742.945,248.262)rotate(90)\"><text x=\"15.0\" y=\"3.066\" style=\"fill:rgb(14.5%,14.5%,14.5%);fill-opacity:1.0\">r59</text></g></g></g><g class=\"toytree-Annotation-Markers\" id=\"t00157ed1566f4abda7b063a5643c79af\" style=\"stroke:rgb(14.9%,14.9%,14.9%);stroke-opacity:1.0;stroke-width:1.5\"><g id=\"Mark-0\" style=\"fill:rgb(45.2%,45.2%,45.2%);fill-opacity:1.0\" transform=\"translate(57.0549,293.262)\"><rect x=\"-4.0\" y=\"-4.0\" width=\"8\" height=\"8\"></rect></g><g id=\"Mark-1\" style=\"fill:rgb(39.7%,39.7%,39.7%);fill-opacity:1.0\" transform=\"translate(68.6801,293.262)\"><rect x=\"-4.0\" y=\"-4.0\" width=\"8\" height=\"8\"></rect></g><g id=\"Mark-2\" style=\"fill:rgb(93.8%,93.8%,93.8%);fill-opacity:1.0\" transform=\"translate(80.3054,293.262)\"><rect x=\"-4.0\" y=\"-4.0\" width=\"8\" height=\"8\"></rect></g><g id=\"Mark-3\" style=\"fill:rgb(49.6%,49.6%,49.6%);fill-opacity:1.0\" transform=\"translate(91.9306,293.262)\"><rect x=\"-4.0\" y=\"-4.0\" width=\"8\" height=\"8\"></rect></g><g id=\"Mark-4\" style=\"fill:rgb(0.0%,0.0%,0.0%);fill-opacity:1.0\" transform=\"translate(103.556,293.262)\"><rect x=\"-4.0\" y=\"-4.0\" width=\"8\" height=\"8\"></rect></g><g id=\"Mark-5\" style=\"fill:rgb(56.4%,56.4%,56.4%);fill-opacity:1.0\" transform=\"translate(115.181,293.262)\"><rect x=\"-4.0\" y=\"-4.0\" width=\"8\" height=\"8\"></rect></g><g id=\"Mark-6\" style=\"fill:rgb(27.4%,27.4%,27.4%);fill-opacity:1.0\" transform=\"translate(126.806,293.262)\"><rect x=\"-4.0\" y=\"-4.0\" width=\"8\" height=\"8\"></rect></g><g id=\"Mark-7\" style=\"fill:rgb(96.9%,96.9%,96.9%);fill-opacity:1.0\" transform=\"translate(138.432,293.262)\"><rect x=\"-4.0\" y=\"-4.0\" width=\"8\" height=\"8\"></rect></g><g id=\"Mark-8\" style=\"fill:rgb(93.2%,93.2%,93.2%);fill-opacity:1.0\" transform=\"translate(150.057,293.262)\"><rect x=\"-4.0\" y=\"-4.0\" width=\"8\" height=\"8\"></rect></g><g id=\"Mark-9\" style=\"fill:rgb(75.3%,75.3%,75.3%);fill-opacity:1.0\" transform=\"translate(161.682,293.262)\"><rect x=\"-4.0\" y=\"-4.0\" width=\"8\" height=\"8\"></rect></g><g id=\"Mark-10\" style=\"fill:rgb(78.2%,78.2%,78.2%);fill-opacity:1.0\" transform=\"translate(173.307,293.262)\"><rect x=\"-4.0\" y=\"-4.0\" width=\"8\" height=\"8\"></rect></g><g id=\"Mark-11\" style=\"fill:rgb(62.3%,62.3%,62.3%);fill-opacity:1.0\" transform=\"translate(184.933,293.262)\"><rect x=\"-4.0\" y=\"-4.0\" width=\"8\" height=\"8\"></rect></g><g id=\"Mark-12\" style=\"fill:rgb(67.6%,67.6%,67.6%);fill-opacity:1.0\" transform=\"translate(196.558,293.262)\"><rect x=\"-4.0\" y=\"-4.0\" width=\"8\" height=\"8\"></rect></g><g id=\"Mark-13\" style=\"fill:rgb(69.7%,69.7%,69.7%);fill-opacity:1.0\" transform=\"translate(208.183,293.262)\"><rect x=\"-4.0\" y=\"-4.0\" width=\"8\" height=\"8\"></rect></g><g id=\"Mark-14\" style=\"fill:rgb(62.0%,62.0%,62.0%);fill-opacity:1.0\" transform=\"translate(219.808,293.262)\"><rect x=\"-4.0\" y=\"-4.0\" width=\"8\" height=\"8\"></rect></g><g id=\"Mark-15\" style=\"fill:rgb(60.2%,60.2%,60.2%);fill-opacity:1.0\" transform=\"translate(231.434,293.262)\"><rect x=\"-4.0\" y=\"-4.0\" width=\"8\" height=\"8\"></rect></g><g id=\"Mark-16\" style=\"fill:rgb(73.9%,73.9%,73.9%);fill-opacity:1.0\" transform=\"translate(243.059,293.262)\"><rect x=\"-4.0\" y=\"-4.0\" width=\"8\" height=\"8\"></rect></g><g id=\"Mark-17\" style=\"fill:rgb(56.5%,56.5%,56.5%);fill-opacity:1.0\" transform=\"translate(254.684,293.262)\"><rect x=\"-4.0\" y=\"-4.0\" width=\"8\" height=\"8\"></rect></g><g id=\"Mark-18\" style=\"fill:rgb(70.6%,70.6%,70.6%);fill-opacity:1.0\" transform=\"translate(266.31,293.262)\"><rect x=\"-4.0\" y=\"-4.0\" width=\"8\" height=\"8\"></rect></g><g id=\"Mark-19\" style=\"fill:rgb(76.8%,76.8%,76.8%);fill-opacity:1.0\" transform=\"translate(277.935,293.262)\"><rect x=\"-4.0\" y=\"-4.0\" width=\"8\" height=\"8\"></rect></g><g id=\"Mark-20\" style=\"fill:rgb(54.5%,54.5%,54.5%);fill-opacity:1.0\" transform=\"translate(289.56,293.262)\"><rect x=\"-4.0\" y=\"-4.0\" width=\"8\" height=\"8\"></rect></g><g id=\"Mark-21\" style=\"fill:rgb(60.1%,60.1%,60.1%);fill-opacity:1.0\" transform=\"translate(301.185,293.262)\"><rect x=\"-4.0\" y=\"-4.0\" width=\"8\" height=\"8\"></rect></g><g id=\"Mark-22\" style=\"fill:rgb(54.3%,54.3%,54.3%);fill-opacity:1.0\" transform=\"translate(312.811,293.262)\"><rect x=\"-4.0\" y=\"-4.0\" width=\"8\" height=\"8\"></rect></g><g id=\"Mark-23\" style=\"fill:rgb(81.2%,81.2%,81.2%);fill-opacity:1.0\" transform=\"translate(324.436,293.262)\"><rect x=\"-4.0\" y=\"-4.0\" width=\"8\" height=\"8\"></rect></g><g id=\"Mark-24\" style=\"fill:rgb(72.7%,72.7%,72.7%);fill-opacity:1.0\" transform=\"translate(336.061,293.262)\"><rect x=\"-4.0\" y=\"-4.0\" width=\"8\" height=\"8\"></rect></g><g id=\"Mark-25\" style=\"fill:rgb(74.3%,74.3%,74.3%);fill-opacity:1.0\" transform=\"translate(347.686,293.262)\"><rect x=\"-4.0\" y=\"-4.0\" width=\"8\" height=\"8\"></rect></g><g id=\"Mark-26\" style=\"fill:rgb(73.2%,73.2%,73.2%);fill-opacity:1.0\" transform=\"translate(359.312,293.262)\"><rect x=\"-4.0\" y=\"-4.0\" width=\"8\" height=\"8\"></rect></g><g id=\"Mark-27\" style=\"fill:rgb(80.2%,80.2%,80.2%);fill-opacity:1.0\" transform=\"translate(370.937,293.262)\"><rect x=\"-4.0\" y=\"-4.0\" width=\"8\" height=\"8\"></rect></g><g id=\"Mark-28\" style=\"fill:rgb(73.2%,73.2%,73.2%);fill-opacity:1.0\" transform=\"translate(382.562,293.262)\"><rect x=\"-4.0\" y=\"-4.0\" width=\"8\" height=\"8\"></rect></g><g id=\"Mark-29\" style=\"fill:rgb(78.5%,78.5%,78.5%);fill-opacity:1.0\" transform=\"translate(394.187,293.262)\"><rect x=\"-4.0\" y=\"-4.0\" width=\"8\" height=\"8\"></rect></g><g id=\"Mark-30\" style=\"fill:rgb(70.0%,70.0%,70.0%);fill-opacity:1.0\" transform=\"translate(405.813,293.262)\"><rect x=\"-4.0\" y=\"-4.0\" width=\"8\" height=\"8\"></rect></g><g id=\"Mark-31\" style=\"fill:rgb(64.0%,64.0%,64.0%);fill-opacity:1.0\" transform=\"translate(417.438,293.262)\"><rect x=\"-4.0\" y=\"-4.0\" width=\"8\" height=\"8\"></rect></g><g id=\"Mark-32\" style=\"fill:rgb(68.9%,68.9%,68.9%);fill-opacity:1.0\" transform=\"translate(429.063,293.262)\"><rect x=\"-4.0\" y=\"-4.0\" width=\"8\" height=\"8\"></rect></g><g id=\"Mark-33\" style=\"fill:rgb(71.7%,71.7%,71.7%);fill-opacity:1.0\" transform=\"translate(440.688,293.262)\"><rect x=\"-4.0\" y=\"-4.0\" width=\"8\" height=\"8\"></rect></g><g id=\"Mark-34\" style=\"fill:rgb(73.2%,73.2%,73.2%);fill-opacity:1.0\" transform=\"translate(452.314,293.262)\"><rect x=\"-4.0\" y=\"-4.0\" width=\"8\" height=\"8\"></rect></g><g id=\"Mark-35\" style=\"fill:rgb(83.2%,83.2%,83.2%);fill-opacity:1.0\" transform=\"translate(463.939,293.262)\"><rect x=\"-4.0\" y=\"-4.0\" width=\"8\" height=\"8\"></rect></g><g id=\"Mark-36\" style=\"fill:rgb(80.1%,80.1%,80.1%);fill-opacity:1.0\" transform=\"translate(475.564,293.262)\"><rect x=\"-4.0\" y=\"-4.0\" width=\"8\" height=\"8\"></rect></g><g id=\"Mark-37\" style=\"fill:rgb(59.1%,59.1%,59.1%);fill-opacity:1.0\" transform=\"translate(487.189,293.262)\"><rect x=\"-4.0\" y=\"-4.0\" width=\"8\" height=\"8\"></rect></g><g id=\"Mark-38\" style=\"fill:rgb(57.6%,57.6%,57.6%);fill-opacity:1.0\" transform=\"translate(498.815,293.262)\"><rect x=\"-4.0\" y=\"-4.0\" width=\"8\" height=\"8\"></rect></g><g id=\"Mark-39\" style=\"fill:rgb(72.2%,72.2%,72.2%);fill-opacity:1.0\" transform=\"translate(510.44,293.262)\"><rect x=\"-4.0\" y=\"-4.0\" width=\"8\" height=\"8\"></rect></g><g id=\"Mark-40\" style=\"fill:rgb(71.7%,71.7%,71.7%);fill-opacity:1.0\" transform=\"translate(522.065,293.262)\"><rect x=\"-4.0\" y=\"-4.0\" width=\"8\" height=\"8\"></rect></g><g id=\"Mark-41\" style=\"fill:rgb(54.6%,54.6%,54.6%);fill-opacity:1.0\" transform=\"translate(533.69,293.262)\"><rect x=\"-4.0\" y=\"-4.0\" width=\"8\" height=\"8\"></rect></g><g id=\"Mark-42\" style=\"fill:rgb(66.8%,66.8%,66.8%);fill-opacity:1.0\" transform=\"translate(545.316,293.262)\"><rect x=\"-4.0\" y=\"-4.0\" width=\"8\" height=\"8\"></rect></g><g id=\"Mark-43\" style=\"fill:rgb(100.0%,100.0%,100.0%);fill-opacity:1.0\" transform=\"translate(556.941,293.262)\"><rect x=\"-4.0\" y=\"-4.0\" width=\"8\" height=\"8\"></rect></g><g id=\"Mark-44\" style=\"fill:rgb(98.0%,98.0%,98.0%);fill-opacity:1.0\" transform=\"translate(568.566,293.262)\"><rect x=\"-4.0\" y=\"-4.0\" width=\"8\" height=\"8\"></rect></g><g id=\"Mark-45\" style=\"fill:rgb(91.6%,91.6%,91.6%);fill-opacity:1.0\" transform=\"translate(580.192,293.262)\"><rect x=\"-4.0\" y=\"-4.0\" width=\"8\" height=\"8\"></rect></g><g id=\"Mark-46\" style=\"fill:rgb(78.2%,78.2%,78.2%);fill-opacity:1.0\" transform=\"translate(591.817,293.262)\"><rect x=\"-4.0\" y=\"-4.0\" width=\"8\" height=\"8\"></rect></g><g id=\"Mark-47\" style=\"fill:rgb(61.4%,61.4%,61.4%);fill-opacity:1.0\" transform=\"translate(603.442,293.262)\"><rect x=\"-4.0\" y=\"-4.0\" width=\"8\" height=\"8\"></rect></g><g id=\"Mark-48\" style=\"fill:rgb(60.3%,60.3%,60.3%);fill-opacity:1.0\" transform=\"translate(615.067,293.262)\"><rect x=\"-4.0\" y=\"-4.0\" width=\"8\" height=\"8\"></rect></g><g id=\"Mark-49\" style=\"fill:rgb(80.8%,80.8%,80.8%);fill-opacity:1.0\" transform=\"translate(626.693,293.262)\"><rect x=\"-4.0\" y=\"-4.0\" width=\"8\" height=\"8\"></rect></g><g id=\"Mark-50\" style=\"fill:rgb(50.1%,50.1%,50.1%);fill-opacity:1.0\" transform=\"translate(638.318,293.262)\"><rect x=\"-4.0\" y=\"-4.0\" width=\"8\" height=\"8\"></rect></g><g id=\"Mark-51\" style=\"fill:rgb(80.5%,80.5%,80.5%);fill-opacity:1.0\" transform=\"translate(649.943,293.262)\"><rect x=\"-4.0\" y=\"-4.0\" width=\"8\" height=\"8\"></rect></g><g id=\"Mark-52\" style=\"fill:rgb(91.2%,91.2%,91.2%);fill-opacity:1.0\" transform=\"translate(661.568,293.262)\"><rect x=\"-4.0\" y=\"-4.0\" width=\"8\" height=\"8\"></rect></g><g id=\"Mark-53\" style=\"fill:rgb(43.0%,43.0%,43.0%);fill-opacity:1.0\" transform=\"translate(673.194,293.262)\"><rect x=\"-4.0\" y=\"-4.0\" width=\"8\" height=\"8\"></rect></g><g id=\"Mark-54\" style=\"fill:rgb(60.5%,60.5%,60.5%);fill-opacity:1.0\" transform=\"translate(684.819,293.262)\"><rect x=\"-4.0\" y=\"-4.0\" width=\"8\" height=\"8\"></rect></g><g id=\"Mark-55\" style=\"fill:rgb(61.3%,61.3%,61.3%);fill-opacity:1.0\" transform=\"translate(696.444,293.262)\"><rect x=\"-4.0\" y=\"-4.0\" width=\"8\" height=\"8\"></rect></g><g id=\"Mark-56\" style=\"fill:rgb(58.1%,58.1%,58.1%);fill-opacity:1.0\" transform=\"translate(708.069,293.262)\"><rect x=\"-4.0\" y=\"-4.0\" width=\"8\" height=\"8\"></rect></g><g id=\"Mark-57\" style=\"fill:rgb(58.5%,58.5%,58.5%);fill-opacity:1.0\" transform=\"translate(719.695,293.262)\"><rect x=\"-4.0\" y=\"-4.0\" width=\"8\" height=\"8\"></rect></g><g id=\"Mark-58\" style=\"fill:rgb(93.6%,93.6%,93.6%);fill-opacity:1.0\" transform=\"translate(731.32,293.262)\"><rect x=\"-4.0\" y=\"-4.0\" width=\"8\" height=\"8\"></rect></g><g id=\"Mark-59\" style=\"fill:rgb(74.2%,74.2%,74.2%);fill-opacity:1.0\" transform=\"translate(742.945,293.262)\"><rect x=\"-4.0\" y=\"-4.0\" width=\"8\" height=\"8\"></rect></g></g><g class=\"toytree-Annotation-Markers\" id=\"t1357c07d50b04bebb4602f852a45cc52\" style=\"stroke:rgb(14.9%,14.9%,14.9%);stroke-opacity:1.0;stroke-width:1.5\"><g id=\"Mark-0\" style=\"fill:rgb(83.8%,83.8%,83.8%);fill-opacity:1.0\" transform=\"translate(57.0549,308.262)\"><rect x=\"-4.0\" y=\"-4.0\" width=\"8\" height=\"8\"></rect></g><g id=\"Mark-1\" style=\"fill:rgb(6.4%,6.4%,6.4%);fill-opacity:1.0\" transform=\"translate(68.6801,308.262)\"><rect x=\"-4.0\" y=\"-4.0\" width=\"8\" height=\"8\"></rect></g><g id=\"Mark-2\" style=\"fill:rgb(30.0%,30.0%,30.0%);fill-opacity:1.0\" transform=\"translate(80.3054,308.262)\"><rect x=\"-4.0\" y=\"-4.0\" width=\"8\" height=\"8\"></rect></g><g id=\"Mark-3\" style=\"fill:rgb(24.5%,24.5%,24.5%);fill-opacity:1.0\" transform=\"translate(91.9306,308.262)\"><rect x=\"-4.0\" y=\"-4.0\" width=\"8\" height=\"8\"></rect></g><g id=\"Mark-4\" style=\"fill:rgb(23.2%,23.2%,23.2%);fill-opacity:1.0\" transform=\"translate(103.556,308.262)\"><rect x=\"-4.0\" y=\"-4.0\" width=\"8\" height=\"8\"></rect></g><g id=\"Mark-5\" style=\"fill:rgb(94.1%,94.1%,94.1%);fill-opacity:1.0\" transform=\"translate(115.181,308.262)\"><rect x=\"-4.0\" y=\"-4.0\" width=\"8\" height=\"8\"></rect></g><g id=\"Mark-6\" style=\"fill:rgb(99.8%,99.8%,99.8%);fill-opacity:1.0\" transform=\"translate(126.806,308.262)\"><rect x=\"-4.0\" y=\"-4.0\" width=\"8\" height=\"8\"></rect></g><g id=\"Mark-7\" style=\"fill:rgb(36.9%,36.9%,36.9%);fill-opacity:1.0\" transform=\"translate(138.432,308.262)\"><rect x=\"-4.0\" y=\"-4.0\" width=\"8\" height=\"8\"></rect></g><g id=\"Mark-8\" style=\"fill:rgb(94.5%,94.5%,94.5%);fill-opacity:1.0\" transform=\"translate(150.057,308.262)\"><rect x=\"-4.0\" y=\"-4.0\" width=\"8\" height=\"8\"></rect></g><g id=\"Mark-9\" style=\"fill:rgb(98.1%,98.1%,98.1%);fill-opacity:1.0\" transform=\"translate(161.682,308.262)\"><rect x=\"-4.0\" y=\"-4.0\" width=\"8\" height=\"8\"></rect></g><g id=\"Mark-10\" style=\"fill:rgb(65.1%,65.1%,65.1%);fill-opacity:1.0\" transform=\"translate(173.307,308.262)\"><rect x=\"-4.0\" y=\"-4.0\" width=\"8\" height=\"8\"></rect></g><g id=\"Mark-11\" style=\"fill:rgb(33.4%,33.4%,33.4%);fill-opacity:1.0\" transform=\"translate(184.933,308.262)\"><rect x=\"-4.0\" y=\"-4.0\" width=\"8\" height=\"8\"></rect></g><g id=\"Mark-12\" style=\"fill:rgb(94.7%,94.7%,94.7%);fill-opacity:1.0\" transform=\"translate(196.558,308.262)\"><rect x=\"-4.0\" y=\"-4.0\" width=\"8\" height=\"8\"></rect></g><g id=\"Mark-13\" style=\"fill:rgb(29.0%,29.0%,29.0%);fill-opacity:1.0\" transform=\"translate(208.183,308.262)\"><rect x=\"-4.0\" y=\"-4.0\" width=\"8\" height=\"8\"></rect></g><g id=\"Mark-14\" style=\"fill:rgb(88.6%,88.6%,88.6%);fill-opacity:1.0\" transform=\"translate(219.808,308.262)\"><rect x=\"-4.0\" y=\"-4.0\" width=\"8\" height=\"8\"></rect></g><g id=\"Mark-15\" style=\"fill:rgb(78.8%,78.8%,78.8%);fill-opacity:1.0\" transform=\"translate(231.434,308.262)\"><rect x=\"-4.0\" y=\"-4.0\" width=\"8\" height=\"8\"></rect></g><g id=\"Mark-16\" style=\"fill:rgb(100.0%,100.0%,100.0%);fill-opacity:1.0\" transform=\"translate(243.059,308.262)\"><rect x=\"-4.0\" y=\"-4.0\" width=\"8\" height=\"8\"></rect></g><g id=\"Mark-17\" style=\"fill:rgb(31.8%,31.8%,31.8%);fill-opacity:1.0\" transform=\"translate(254.684,308.262)\"><rect x=\"-4.0\" y=\"-4.0\" width=\"8\" height=\"8\"></rect></g><g id=\"Mark-18\" style=\"fill:rgb(93.1%,93.1%,93.1%);fill-opacity:1.0\" transform=\"translate(266.31,308.262)\"><rect x=\"-4.0\" y=\"-4.0\" width=\"8\" height=\"8\"></rect></g><g id=\"Mark-19\" style=\"fill:rgb(65.8%,65.8%,65.8%);fill-opacity:1.0\" transform=\"translate(277.935,308.262)\"><rect x=\"-4.0\" y=\"-4.0\" width=\"8\" height=\"8\"></rect></g><g id=\"Mark-20\" style=\"fill:rgb(31.7%,31.7%,31.7%);fill-opacity:1.0\" transform=\"translate(289.56,308.262)\"><rect x=\"-4.0\" y=\"-4.0\" width=\"8\" height=\"8\"></rect></g><g id=\"Mark-21\" style=\"fill:rgb(21.7%,21.7%,21.7%);fill-opacity:1.0\" transform=\"translate(301.185,308.262)\"><rect x=\"-4.0\" y=\"-4.0\" width=\"8\" height=\"8\"></rect></g><g id=\"Mark-22\" style=\"fill:rgb(63.1%,63.1%,63.1%);fill-opacity:1.0\" transform=\"translate(312.811,308.262)\"><rect x=\"-4.0\" y=\"-4.0\" width=\"8\" height=\"8\"></rect></g><g id=\"Mark-23\" style=\"fill:rgb(74.3%,74.3%,74.3%);fill-opacity:1.0\" transform=\"translate(324.436,308.262)\"><rect x=\"-4.0\" y=\"-4.0\" width=\"8\" height=\"8\"></rect></g><g id=\"Mark-24\" style=\"fill:rgb(24.5%,24.5%,24.5%);fill-opacity:1.0\" transform=\"translate(336.061,308.262)\"><rect x=\"-4.0\" y=\"-4.0\" width=\"8\" height=\"8\"></rect></g><g id=\"Mark-25\" style=\"fill:rgb(1.5%,1.5%,1.5%);fill-opacity:1.0\" transform=\"translate(347.686,308.262)\"><rect x=\"-4.0\" y=\"-4.0\" width=\"8\" height=\"8\"></rect></g><g id=\"Mark-26\" style=\"fill:rgb(59.6%,59.6%,59.6%);fill-opacity:1.0\" transform=\"translate(359.312,308.262)\"><rect x=\"-4.0\" y=\"-4.0\" width=\"8\" height=\"8\"></rect></g><g id=\"Mark-27\" style=\"fill:rgb(87.6%,87.6%,87.6%);fill-opacity:1.0\" transform=\"translate(370.937,308.262)\"><rect x=\"-4.0\" y=\"-4.0\" width=\"8\" height=\"8\"></rect></g><g id=\"Mark-28\" style=\"fill:rgb(99.6%,99.6%,99.6%);fill-opacity:1.0\" transform=\"translate(382.562,308.262)\"><rect x=\"-4.0\" y=\"-4.0\" width=\"8\" height=\"8\"></rect></g><g id=\"Mark-29\" style=\"fill:rgb(78.4%,78.4%,78.4%);fill-opacity:1.0\" transform=\"translate(394.187,308.262)\"><rect x=\"-4.0\" y=\"-4.0\" width=\"8\" height=\"8\"></rect></g><g id=\"Mark-30\" style=\"fill:rgb(99.5%,99.5%,99.5%);fill-opacity:1.0\" transform=\"translate(405.813,308.262)\"><rect x=\"-4.0\" y=\"-4.0\" width=\"8\" height=\"8\"></rect></g><g id=\"Mark-31\" style=\"fill:rgb(96.8%,96.8%,96.8%);fill-opacity:1.0\" transform=\"translate(417.438,308.262)\"><rect x=\"-4.0\" y=\"-4.0\" width=\"8\" height=\"8\"></rect></g><g id=\"Mark-32\" style=\"fill:rgb(29.7%,29.7%,29.7%);fill-opacity:1.0\" transform=\"translate(429.063,308.262)\"><rect x=\"-4.0\" y=\"-4.0\" width=\"8\" height=\"8\"></rect></g><g id=\"Mark-33\" style=\"fill:rgb(96.9%,96.9%,96.9%);fill-opacity:1.0\" transform=\"translate(440.688,308.262)\"><rect x=\"-4.0\" y=\"-4.0\" width=\"8\" height=\"8\"></rect></g><g id=\"Mark-34\" style=\"fill:rgb(87.8%,87.8%,87.8%);fill-opacity:1.0\" transform=\"translate(452.314,308.262)\"><rect x=\"-4.0\" y=\"-4.0\" width=\"8\" height=\"8\"></rect></g><g id=\"Mark-35\" style=\"fill:rgb(37.0%,37.0%,37.0%);fill-opacity:1.0\" transform=\"translate(463.939,308.262)\"><rect x=\"-4.0\" y=\"-4.0\" width=\"8\" height=\"8\"></rect></g><g id=\"Mark-36\" style=\"fill:rgb(93.0%,93.0%,93.0%);fill-opacity:1.0\" transform=\"translate(475.564,308.262)\"><rect x=\"-4.0\" y=\"-4.0\" width=\"8\" height=\"8\"></rect></g><g id=\"Mark-37\" style=\"fill:rgb(96.8%,96.8%,96.8%);fill-opacity:1.0\" transform=\"translate(487.189,308.262)\"><rect x=\"-4.0\" y=\"-4.0\" width=\"8\" height=\"8\"></rect></g><g id=\"Mark-38\" style=\"fill:rgb(39.5%,39.5%,39.5%);fill-opacity:1.0\" transform=\"translate(498.815,308.262)\"><rect x=\"-4.0\" y=\"-4.0\" width=\"8\" height=\"8\"></rect></g><g id=\"Mark-39\" style=\"fill:rgb(67.0%,67.0%,67.0%);fill-opacity:1.0\" transform=\"translate(510.44,308.262)\"><rect x=\"-4.0\" y=\"-4.0\" width=\"8\" height=\"8\"></rect></g><g id=\"Mark-40\" style=\"fill:rgb(8.6%,8.6%,8.6%);fill-opacity:1.0\" transform=\"translate(522.065,308.262)\"><rect x=\"-4.0\" y=\"-4.0\" width=\"8\" height=\"8\"></rect></g><g id=\"Mark-41\" style=\"fill:rgb(74.3%,74.3%,74.3%);fill-opacity:1.0\" transform=\"translate(533.69,308.262)\"><rect x=\"-4.0\" y=\"-4.0\" width=\"8\" height=\"8\"></rect></g><g id=\"Mark-42\" style=\"fill:rgb(32.6%,32.6%,32.6%);fill-opacity:1.0\" transform=\"translate(545.316,308.262)\"><rect x=\"-4.0\" y=\"-4.0\" width=\"8\" height=\"8\"></rect></g><g id=\"Mark-43\" style=\"fill:rgb(90.5%,90.5%,90.5%);fill-opacity:1.0\" transform=\"translate(556.941,308.262)\"><rect x=\"-4.0\" y=\"-4.0\" width=\"8\" height=\"8\"></rect></g><g id=\"Mark-44\" style=\"fill:rgb(22.9%,22.9%,22.9%);fill-opacity:1.0\" transform=\"translate(568.566,308.262)\"><rect x=\"-4.0\" y=\"-4.0\" width=\"8\" height=\"8\"></rect></g><g id=\"Mark-45\" style=\"fill:rgb(41.0%,41.0%,41.0%);fill-opacity:1.0\" transform=\"translate(580.192,308.262)\"><rect x=\"-4.0\" y=\"-4.0\" width=\"8\" height=\"8\"></rect></g><g id=\"Mark-46\" style=\"fill:rgb(1.4%,1.4%,1.4%);fill-opacity:1.0\" transform=\"translate(591.817,308.262)\"><rect x=\"-4.0\" y=\"-4.0\" width=\"8\" height=\"8\"></rect></g><g id=\"Mark-47\" style=\"fill:rgb(3.7%,3.7%,3.7%);fill-opacity:1.0\" transform=\"translate(603.442,308.262)\"><rect x=\"-4.0\" y=\"-4.0\" width=\"8\" height=\"8\"></rect></g><g id=\"Mark-48\" style=\"fill:rgb(63.0%,63.0%,63.0%);fill-opacity:1.0\" transform=\"translate(615.067,308.262)\"><rect x=\"-4.0\" y=\"-4.0\" width=\"8\" height=\"8\"></rect></g><g id=\"Mark-49\" style=\"fill:rgb(59.2%,59.2%,59.2%);fill-opacity:1.0\" transform=\"translate(626.693,308.262)\"><rect x=\"-4.0\" y=\"-4.0\" width=\"8\" height=\"8\"></rect></g><g id=\"Mark-50\" style=\"fill:rgb(15.9%,15.9%,15.9%);fill-opacity:1.0\" transform=\"translate(638.318,308.262)\"><rect x=\"-4.0\" y=\"-4.0\" width=\"8\" height=\"8\"></rect></g><g id=\"Mark-51\" style=\"fill:rgb(34.8%,34.8%,34.8%);fill-opacity:1.0\" transform=\"translate(649.943,308.262)\"><rect x=\"-4.0\" y=\"-4.0\" width=\"8\" height=\"8\"></rect></g><g id=\"Mark-52\" style=\"fill:rgb(0.0%,0.0%,0.0%);fill-opacity:1.0\" transform=\"translate(661.568,308.262)\"><rect x=\"-4.0\" y=\"-4.0\" width=\"8\" height=\"8\"></rect></g><g id=\"Mark-53\" style=\"fill:rgb(48.8%,48.8%,48.8%);fill-opacity:1.0\" transform=\"translate(673.194,308.262)\"><rect x=\"-4.0\" y=\"-4.0\" width=\"8\" height=\"8\"></rect></g><g id=\"Mark-54\" style=\"fill:rgb(73.5%,73.5%,73.5%);fill-opacity:1.0\" transform=\"translate(684.819,308.262)\"><rect x=\"-4.0\" y=\"-4.0\" width=\"8\" height=\"8\"></rect></g><g id=\"Mark-55\" style=\"fill:rgb(54.3%,54.3%,54.3%);fill-opacity:1.0\" transform=\"translate(696.444,308.262)\"><rect x=\"-4.0\" y=\"-4.0\" width=\"8\" height=\"8\"></rect></g><g id=\"Mark-56\" style=\"fill:rgb(95.3%,95.3%,95.3%);fill-opacity:1.0\" transform=\"translate(708.069,308.262)\"><rect x=\"-4.0\" y=\"-4.0\" width=\"8\" height=\"8\"></rect></g><g id=\"Mark-57\" style=\"fill:rgb(77.5%,77.5%,77.5%);fill-opacity:1.0\" transform=\"translate(719.695,308.262)\"><rect x=\"-4.0\" y=\"-4.0\" width=\"8\" height=\"8\"></rect></g><g id=\"Mark-58\" style=\"fill:rgb(35.7%,35.7%,35.7%);fill-opacity:1.0\" transform=\"translate(731.32,308.262)\"><rect x=\"-4.0\" y=\"-4.0\" width=\"8\" height=\"8\"></rect></g><g id=\"Mark-59\" style=\"fill:rgb(94.1%,94.1%,94.1%);fill-opacity:1.0\" transform=\"translate(742.945,308.262)\"><rect x=\"-4.0\" y=\"-4.0\" width=\"8\" height=\"8\"></rect></g></g></g><g transform=\"translate(400.0,42.0)\"><text x=\"-92.20400000000001\" y=\"-4.823\" style=\"fill:rgb(16.1%,15.3%,14.1%);fill-opacity:1.0;font-family:helvetica;font-size:14.0px;font-weight:bold;stroke:none;vertical-align:baseline;white-space:pre\">Example tree w/ trait and se</text></g></g></svg><div class=\"toyplot-behavior\"><script>(function()\n",
       "{\n",
       "var modules={};\n",
       "})();</script></div></div>"
      ]
     },
     "metadata": {},
     "output_type": "display_data"
    }
   ],
   "source": [
    "# draw tree with extra space reserved to the right \n",
    "canvas, axes, mark = tree.draw(layout='d', height=350, label=\"Example tree w/ trait and se\");\n",
    "\n",
    "# draw traits color mapped\n",
    "colors = toytree.style.get_color_mapped_values(traits[\"trait\"], \"Greys\")\n",
    "tree.annotate.add_tip_markers(axes, marker=\"s\", yshift=45, color=colors);\n",
    "colors = toytree.style.get_color_mapped_values(traits[\"se\"], \"Greys\")\n",
    "tree.annotate.add_tip_markers(axes, marker=\"s\", yshift=60, color=colors);"
   ]
  },
  {
   "cell_type": "markdown",
   "id": "bae3fca1-ae93-4a67-8dbb-c9b82c4b74e2",
   "metadata": {},
   "source": [
    "## Blomberg's K\n",
    "Blomberg's K (Blomberg et al. 2003) is used to quantify phylogenetic signal relative in trait evolution relative to a Brownian motion model. Values of K>1 indicate samples are less similar than expected, whereas K<1 indicates that they are more similar than expected. Permutations can be used to perform a significance test."
   ]
  },
  {
   "cell_type": "markdown",
   "id": "b8e373f4-a314-487a-a1b4-3ac2ac1c11c4",
   "metadata": {},
   "source": [
    "### Example\n",
    "As an example, when K is calculated for the trait \"t0\" that was simulated under a model of Brownian motion we recover a K statistic close to 1.0. By contrast, when K is calculated for \"se\" which is composed of uniform random values we get a much lower K. We can say that the phylogenetic signal in \"t0\" is greater than for \"se\". However, the K value alone does not yet tell us whether this is different from a random expectation given the data. "
   ]
  },
  {
   "cell_type": "code",
   "execution_count": 193,
   "id": "eae7bf2d-4380-4735-ac01-d16d832c40ae",
   "metadata": {},
   "outputs": [
    {
     "data": {
      "text/plain": [
       "{'K': 0.813631398963683, 'P-value': nan, 'permutations': nan}"
      ]
     },
     "execution_count": 193,
     "metadata": {},
     "output_type": "execute_result"
    }
   ],
   "source": [
    "# measure K for BM trait 't0'\n",
    "toytree.pcm.phylogenetic_signal_k(tree, traits[\"trait\"], nsims=0)"
   ]
  },
  {
   "cell_type": "code",
   "execution_count": 194,
   "id": "1d5dcbb3-9600-42d5-8af6-173fed6a586b",
   "metadata": {},
   "outputs": [
    {
     "data": {
      "text/plain": [
       "{'K': 0.48043536702811224, 'P-value': nan, 'permutations': nan}"
      ]
     },
     "execution_count": 194,
     "metadata": {},
     "output_type": "execute_result"
    }
   ],
   "source": [
    "# measure K for non-BM trait 't2'\n",
    "toytree.pcm.phylogenetic_signal_k(tree, traits[\"se\"], nsims=0)"
   ]
  },
  {
   "cell_type": "markdown",
   "id": "2e05dfb7-9784-4153-b2d0-a531a14179cc",
   "metadata": {},
   "source": [
    "### Significance test\n",
    "We can perform a permutation test to calculate the probability that the phylogenetic signal in a trait value is greater than expected by chance given the tree and variance in the trait data. This shuffles the trait values among the tips and recalculates K many times. The P-value represents the number of permutations that generate a K value with as much phylogenetic signal as the original trait data. A P-value < 0.05 is typically considered significance evidence of phylogenetic signal. The default option is to perform 1000 permutations to calculate P. "
   ]
  },
  {
   "cell_type": "code",
   "execution_count": 197,
   "id": "661aa14c-ce75-4c22-8232-a2d85b275fa3",
   "metadata": {},
   "outputs": [
    {
     "data": {
      "text/plain": [
       "{'K': 0.813631398963683, 'P-value': 0.001, 'permutations': 1000}"
      ]
     },
     "execution_count": 197,
     "metadata": {},
     "output_type": "execute_result"
    }
   ],
   "source": [
    "# measure K and perform significance test\n",
    "toytree.pcm.phylogenetic_signal_k(tree, traits[\"trait\"], nsims=1000)"
   ]
  },
  {
   "cell_type": "code",
   "execution_count": 198,
   "id": "2e04a6b9-a906-416c-a1fb-ee0eedd30d4f",
   "metadata": {},
   "outputs": [
    {
     "data": {
      "text/plain": [
       "{'K': 0.48043536702811224, 'P-value': 0.202, 'permutations': 1000}"
      ]
     },
     "execution_count": 198,
     "metadata": {},
     "output_type": "execute_result"
    }
   ],
   "source": [
    "# measure K and perform significance test\n",
    "toytree.pcm.phylogenetic_signal_k(tree, traits[\"se\"], nsims=1000)"
   ]
  },
  {
   "cell_type": "markdown",
   "id": "09fd71b2-ae1e-4139-9edb-fae6db79a5a7",
   "metadata": {},
   "source": [
    "### Measurement error\n",
    "If a trait is measured from many individuals then you can measure both its mean and standard error, and the latter can be taken into account when calculating phylogenetic signal (Ives et al. 2007). Here a model is fit to estimate the Brownian rate parameter ($\\sigma^2$), which is also returned along with the log-likelihood. "
   ]
  },
  {
   "cell_type": "code",
   "execution_count": 199,
   "id": "801bfd04-d453-4cd5-b10e-696d5b499612",
   "metadata": {},
   "outputs": [
    {
     "data": {
      "text/plain": [
       "{'K': 0.8168893422998975,\n",
       " 'P-value': 0.0,\n",
       " 'permutations': 1000,\n",
       " 'log-likelihood': -30.497738879932697,\n",
       " 'sig2': 0.2952762091848135,\n",
       " 'convergence': True}"
      ]
     },
     "execution_count": 199,
     "metadata": {},
     "output_type": "execute_result"
    }
   ],
   "source": [
    "# measure K for trait w/ standard error and perform significance test\n",
    "toytree.pcm.phylogenetic_signal_k(tree, data=traits[\"trait\"], error=traits[\"se\"], nsims=1000)"
   ]
  },
  {
   "cell_type": "markdown",
   "id": "6d2c8f2f-b7b4-4d01-80f3-c7e5517925b8",
   "metadata": {},
   "source": [
    "## Pagel's λ\n",
    "TODO: Pagel's lambda ...  \n",
    "TODO: Link to lambda transformation method."
   ]
  },
  {
   "cell_type": "markdown",
   "id": "77c6b436-472e-455c-bfab-d1f18e5477c2",
   "metadata": {},
   "source": [
    "### Example\n",
    "The method `phylogenetic_signal_lambda` estimates the optimal lambda transformation of the tree to fit the data.  A significance test is performed by comparing the log-likelihood of the fit model to the log-likelihood of a model with lambda=0. A likelihood ratio test... "
   ]
  },
  {
   "cell_type": "code",
   "execution_count": 200,
   "id": "59cb3933-a59c-400b-879d-e4e4878e71a8",
   "metadata": {},
   "outputs": [
    {
     "data": {
      "text/plain": [
       "{'lambda': 1.0819649326447975,\n",
       " 'P-value': 7.004273033171038e-07,\n",
       " 'LR_test': 24.613953274584404,\n",
       " 'log-likelihood_λ': 26.40277320446915,\n",
       " 'log-likelihood_λ0': 38.70974984176135}"
      ]
     },
     "execution_count": 200,
     "metadata": {},
     "output_type": "execute_result"
    }
   ],
   "source": [
    "toytree.pcm.phylogenetic_signal_lambda(tree, traits[\"trait\"], intervals=20)"
   ]
  },
  {
   "cell_type": "markdown",
   "id": "8298f804-4937-4e31-a7a0-882040cefc6f",
   "metadata": {},
   "source": [
    "### Measurement error\n",
    "If a trait is measured from many individuals then you can represent its value as both a mean and standard error, and the standard error can be taken into account when calculating lambda."
   ]
  },
  {
   "cell_type": "code",
   "execution_count": 187,
   "id": "55bd48e3-e736-4eff-a063-ec0d82f8b24b",
   "metadata": {},
   "outputs": [
    {
     "data": {
      "text/plain": [
       "{'lambda': 1.0833333333323334,\n",
       " 'P-value': 2.187112884895932e-06,\n",
       " 'LR_test': 22.42324190223958,\n",
       " 'log-likelihood_λ': 27.61266023558629,\n",
       " 'log-likelihood_λ0': 38.82428118670608,\n",
       " 'sig2': 0.3301921997179848}"
      ]
     },
     "execution_count": 187,
     "metadata": {},
     "output_type": "execute_result"
    }
   ],
   "source": [
    "toytree.pcm.phylogenetic_signal_lambda(tree, traits[\"trait\"], error=traits[\"se\"])"
   ]
  },
  {
   "cell_type": "markdown",
   "id": "b8bf33eb-649a-4071-8031-c39fe3e28913",
   "metadata": {},
   "source": [
    "## Multivariate K\n",
    "Adams..."
   ]
  },
  {
   "cell_type": "code",
   "execution_count": null,
   "id": "938f7382-2baf-42d7-a49e-b078c9455911",
   "metadata": {},
   "outputs": [],
   "source": [
    "# TODO..."
   ]
  }
 ],
 "metadata": {
  "kernelspec": {
   "display_name": "Python 3 (ipykernel)",
   "language": "python",
   "name": "python3"
  },
  "language_info": {
   "codemirror_mode": {
    "name": "ipython",
    "version": 3
   },
   "file_extension": ".py",
   "mimetype": "text/x-python",
   "name": "python",
   "nbconvert_exporter": "python",
   "pygments_lexer": "ipython3",
   "version": "3.12.4"
  }
 },
 "nbformat": 4,
 "nbformat_minor": 5
}
