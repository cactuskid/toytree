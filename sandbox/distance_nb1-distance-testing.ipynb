{
 "cells": [
  {
   "cell_type": "markdown",
   "id": "aboriginal-concentrate",
   "metadata": {},
   "source": [
    "## nb1 Distance module testing\n",
    "\n",
    "Toytree distance module in development"
   ]
  },
  {
   "cell_type": "code",
   "execution_count": 1,
   "id": "spread-gardening",
   "metadata": {},
   "outputs": [],
   "source": [
    "import toytree\n",
    "import pandas as pd\n",
    "import numpy as np"
   ]
  },
  {
   "cell_type": "code",
   "execution_count": 2,
   "id": "850c16b2",
   "metadata": {},
   "outputs": [
    {
     "data": {
      "text/html": [
       "<div class=\"toyplot\" id=\"t8d7ebc9ecff04d6e97fa94a05ed949a2\" style=\"text-align:center\"><svg class=\"toyplot-canvas-Canvas\" xmlns:toyplot=\"http://www.sandia.gov/toyplot\" xmlns:xlink=\"http://www.w3.org/1999/xlink\" xmlns=\"http://www.w3.org/2000/svg\" width=\"450.0px\" height=\"220.0px\" viewBox=\"0 0 450.0 220.0\" preserveAspectRatio=\"xMidYMid meet\" style=\"background-color:transparent;border-color:#292724;border-style:none;border-width:1.0;fill:rgb(16.1%,15.3%,14.1%);fill-opacity:1.0;font-family:Helvetica;font-size:12px;opacity:1.0;stroke:rgb(16.1%,15.3%,14.1%);stroke-opacity:1.0;stroke-width:1.0\" id=\"tc5aef513c5524f28b8365355ec86f489\"><g class=\"toyplot-coordinates-Cartesian\" id=\"te7f26f65dbbd4310aedca911d50db7ab\"><clipPath id=\"tddc248b2651d423c80258eedbaf92714\"><rect x=\"20.0\" y=\"40.0\" width=\"205.0\" height=\"140.0\"></rect></clipPath><g clip-path=\"url(#tddc248b2651d423c80258eedbaf92714)\"><g class=\"toytree-mark-Toytree\" id=\"t0f129d3b047c4574879992eec7461464\"><g class=\"toytree-Edges\" style=\"stroke:rgb(14.5%,14.5%,14.5%);stroke-opacity:1.0;stroke-linecap:round;stroke-width:2.0;fill:none\"><path d=\"M 61.9 157.7 L 61.9 164.5 L 92.9 164.5\" id=\"9,0\" style=\"\"></path><path d=\"M 61.9 157.7 L 61.9 150.9 L 92.9 150.9\" id=\"9,1\" style=\"\"></path><path d=\"M 92.9 127.0 L 92.9 137.3 L 124.0 137.3\" id=\"11,2\" style=\"\"></path><path d=\"M 124.0 116.8 L 124.0 123.6 L 155.0 123.6\" id=\"10,3\" style=\"\"></path><path d=\"M 124.0 116.8 L 124.0 110.0 L 155.0 110.0\" id=\"10,4\" style=\"\"></path><path d=\"M 92.9 84.4 L 92.9 96.4 L 124.0 96.4\" id=\"14,5\" style=\"\"></path><path d=\"M 124.0 72.5 L 124.0 82.7 L 155.0 82.7\" id=\"13,6\" style=\"\"></path><path d=\"M 155.0 62.3 L 155.0 69.1 L 186.1 69.1\" id=\"12,7\" style=\"\"></path><path d=\"M 155.0 62.3 L 155.0 55.5 L 186.1 55.5\" id=\"12,8\" style=\"\"></path><path d=\"M 30.8 131.7 L 30.8 157.7 L 61.9 157.7\" id=\"16,9\" style=\"\"></path><path d=\"M 92.9 127.0 L 92.9 116.8 L 124.0 116.8\" id=\"11,10\" style=\"\"></path><path d=\"M 61.9 105.7 L 61.9 127.0 L 92.9 127.0\" id=\"15,11\" style=\"\"></path><path d=\"M 124.0 72.5 L 124.0 62.3 L 155.0 62.3\" id=\"13,12\" style=\"\"></path><path d=\"M 92.9 84.4 L 92.9 72.5 L 124.0 72.5\" id=\"14,13\" style=\"\"></path><path d=\"M 61.9 105.7 L 61.9 84.4 L 92.9 84.4\" id=\"15,14\" style=\"\"></path><path d=\"M 30.8 131.7 L 30.8 105.7 L 61.9 105.7\" id=\"16,15\" style=\"\"></path></g><g class=\"toytree-AdmixEdges\" style=\"fill:rgb(0.0%,0.0%,0.0%);fill-opacity:0.0;stroke:rgb(90.6%,54.1%,76.5%);stroke-opacity:0.6;font-size:14px;stroke-linecap:round;stroke-width:5\"></g><g class=\"toytree-Nodes\" style=\"fill:rgb(40.0%,76.1%,64.7%);fill-opacity:1.0;stroke:rgb(14.9%,14.9%,14.9%);stroke-opacity:1.0;stroke-width:1.5\"></g><g class=\"toytree-TipLabels\" style=\"fill:rgb(14.5%,14.5%,14.5%);fill-opacity:1.0;font-family:Helvetica;font-size:10px;font-weight:300;vertical-align:baseline;white-space:pre;stroke:none\"><g class=\"toytree-TipLabel\" transform=\"translate(92.9423,164.545)\"><text x=\"10.0\" y=\"2.5549999999999997\" style=\"fill:rgb(14.5%,14.5%,14.5%);fill-opacity:1.0\">A</text></g><g class=\"toytree-TipLabel\" transform=\"translate(92.9423,150.909)\"><text x=\"10.0\" y=\"2.5549999999999997\" style=\"fill:rgb(14.5%,14.5%,14.5%);fill-opacity:1.0\">B</text></g><g class=\"toytree-TipLabel\" transform=\"translate(123.994,137.273)\"><text x=\"10.0\" y=\"2.5549999999999997\" style=\"fill:rgb(14.5%,14.5%,14.5%);fill-opacity:1.0\">C</text></g><g class=\"toytree-TipLabel\" transform=\"translate(155.045,123.636)\"><text x=\"10.0\" y=\"2.5549999999999997\" style=\"fill:rgb(14.5%,14.5%,14.5%);fill-opacity:1.0\">D</text></g><g class=\"toytree-TipLabel\" transform=\"translate(155.045,110)\"><text x=\"10.0\" y=\"2.5549999999999997\" style=\"fill:rgb(14.5%,14.5%,14.5%);fill-opacity:1.0\">E</text></g><g class=\"toytree-TipLabel\" transform=\"translate(123.994,96.3636)\"><text x=\"10.0\" y=\"2.5549999999999997\" style=\"fill:rgb(14.5%,14.5%,14.5%);fill-opacity:1.0\">F</text></g><g class=\"toytree-TipLabel\" transform=\"translate(155.045,82.7273)\"><text x=\"10.0\" y=\"2.5549999999999997\" style=\"fill:rgb(14.5%,14.5%,14.5%);fill-opacity:1.0\">G</text></g><g class=\"toytree-TipLabel\" transform=\"translate(186.097,69.0909)\"><text x=\"10.0\" y=\"2.5549999999999997\" style=\"fill:rgb(14.5%,14.5%,14.5%);fill-opacity:1.0\">H</text></g><g class=\"toytree-TipLabel\" transform=\"translate(186.097,55.4545)\"><text x=\"10.0\" y=\"2.5549999999999997\" style=\"fill:rgb(14.5%,14.5%,14.5%);fill-opacity:1.0\">I</text></g></g></g></g></g><g class=\"toyplot-coordinates-Cartesian\" id=\"te2ea043db96a48ee85a00affb3bd6f08\"><clipPath id=\"tac189a7182804c27b14207d45b094abe\"><rect x=\"245.0\" y=\"40.0\" width=\"205.0\" height=\"140.0\"></rect></clipPath><g clip-path=\"url(#tac189a7182804c27b14207d45b094abe)\"><g class=\"toytree-mark-Toytree\" id=\"tffcfca55fef34bda833ec80cdb35a5dd\"><g class=\"toytree-Edges\" style=\"stroke:rgb(14.5%,14.5%,14.5%);stroke-opacity:1.0;stroke-linecap:round;stroke-width:2.0;fill:none\"><path d=\"M 294.5 157.7 L 294.5 164.5 L 333.1 164.5\" id=\"9,0\" style=\"\"></path><path d=\"M 294.5 157.7 L 294.5 150.9 L 333.1 150.9\" id=\"9,1\" style=\"\"></path><path d=\"M 333.1 121.4 L 333.1 137.3 L 371.7 137.3\" id=\"11,2\" style=\"\"></path><path d=\"M 333.1 121.4 L 333.1 123.6 L 371.7 123.6\" id=\"11,3\" style=\"\"></path><path d=\"M 371.7 103.2 L 371.7 110.0 L 410.3 110.0\" id=\"10,4\" style=\"\"></path><path d=\"M 371.7 103.2 L 371.7 96.4 L 410.3 96.4\" id=\"10,5\" style=\"\"></path><path d=\"M 333.1 72.5 L 333.1 82.7 L 371.7 82.7\" id=\"13,6\" style=\"\"></path><path d=\"M 371.7 62.3 L 371.7 69.1 L 410.3 69.1\" id=\"12,7\" style=\"\"></path><path d=\"M 371.7 62.3 L 371.7 55.5 L 410.3 55.5\" id=\"12,8\" style=\"\"></path><path d=\"M 255.8 127.3 L 255.8 157.7 L 294.5 157.7\" id=\"15,9\" style=\"\"></path><path d=\"M 333.1 121.4 L 333.1 103.2 L 371.7 103.2\" id=\"11,10\" style=\"\"></path><path d=\"M 294.5 96.9 L 294.5 121.4 L 333.1 121.4\" id=\"14,11\" style=\"\"></path><path d=\"M 333.1 72.5 L 333.1 62.3 L 371.7 62.3\" id=\"13,12\" style=\"\"></path><path d=\"M 294.5 96.9 L 294.5 72.5 L 333.1 72.5\" id=\"14,13\" style=\"\"></path><path d=\"M 255.8 127.3 L 255.8 96.9 L 294.5 96.9\" id=\"15,14\" style=\"\"></path></g><g class=\"toytree-AdmixEdges\" style=\"fill:rgb(0.0%,0.0%,0.0%);fill-opacity:0.0;stroke:rgb(90.6%,54.1%,76.5%);stroke-opacity:0.6;font-size:14px;stroke-linecap:round;stroke-width:5\"></g><g class=\"toytree-Nodes\" style=\"fill:rgb(40.0%,76.1%,64.7%);fill-opacity:1.0;stroke:rgb(14.9%,14.9%,14.9%);stroke-opacity:1.0;stroke-width:1.5\"></g><g class=\"toytree-TipLabels\" style=\"fill:rgb(14.5%,14.5%,14.5%);fill-opacity:1.0;font-family:Helvetica;font-size:10px;font-weight:300;vertical-align:baseline;white-space:pre;stroke:none\"><g class=\"toytree-TipLabel\" transform=\"translate(333.071,164.545)\"><text x=\"10.0\" y=\"2.5549999999999997\" style=\"fill:rgb(14.5%,14.5%,14.5%);fill-opacity:1.0\">A</text></g><g class=\"toytree-TipLabel\" transform=\"translate(333.071,150.909)\"><text x=\"10.0\" y=\"2.5549999999999997\" style=\"fill:rgb(14.5%,14.5%,14.5%);fill-opacity:1.0\">B</text></g><g class=\"toytree-TipLabel\" transform=\"translate(371.69,137.273)\"><text x=\"10.0\" y=\"2.5549999999999997\" style=\"fill:rgb(14.5%,14.5%,14.5%);fill-opacity:1.0\">C</text></g><g class=\"toytree-TipLabel\" transform=\"translate(371.69,123.636)\"><text x=\"10.0\" y=\"2.5549999999999997\" style=\"fill:rgb(14.5%,14.5%,14.5%);fill-opacity:1.0\">D</text></g><g class=\"toytree-TipLabel\" transform=\"translate(410.308,110)\"><text x=\"10.0\" y=\"2.5549999999999997\" style=\"fill:rgb(14.5%,14.5%,14.5%);fill-opacity:1.0\">E</text></g><g class=\"toytree-TipLabel\" transform=\"translate(410.308,96.3636)\"><text x=\"10.0\" y=\"2.5549999999999997\" style=\"fill:rgb(14.5%,14.5%,14.5%);fill-opacity:1.0\">I</text></g><g class=\"toytree-TipLabel\" transform=\"translate(371.69,82.7273)\"><text x=\"10.0\" y=\"2.5549999999999997\" style=\"fill:rgb(14.5%,14.5%,14.5%);fill-opacity:1.0\">F</text></g><g class=\"toytree-TipLabel\" transform=\"translate(410.308,69.0909)\"><text x=\"10.0\" y=\"2.5549999999999997\" style=\"fill:rgb(14.5%,14.5%,14.5%);fill-opacity:1.0\">G</text></g><g class=\"toytree-TipLabel\" transform=\"translate(410.308,55.4545)\"><text x=\"10.0\" y=\"2.5549999999999997\" style=\"fill:rgb(14.5%,14.5%,14.5%);fill-opacity:1.0\">H</text></g></g></g></g></g></svg><div class=\"toyplot-behavior\"><script>(function()\n",
       "{\n",
       "var modules={};\n",
       "})();</script></div></div>"
      ]
     },
     "metadata": {},
     "output_type": "display_data"
    }
   ],
   "source": [
    "t0 = toytree.tree('((A, B), ((C, (D, E)), (F, (G, (H, I)))));')\n",
    "t1 = toytree.tree('((A, B), ((C, D, (E, I)), (F, (G, H))));')\n",
    "toytree.mtree([t0, t1]).draw(height=220);"
   ]
  },
  {
   "cell_type": "code",
   "execution_count": 3,
   "id": "3b1b720c",
   "metadata": {},
   "outputs": [],
   "source": [
    "a = [(1, 2), (3, 4, 5)]"
   ]
  },
  {
   "cell_type": "code",
   "execution_count": null,
   "id": "6a42029f",
   "metadata": {},
   "outputs": [],
   "source": []
  },
  {
   "cell_type": "code",
   "execution_count": 4,
   "id": "05a7b70c",
   "metadata": {},
   "outputs": [],
   "source": [
    "data = pd.Series(\n",
    "    index=[\"mean\", \"std\", \"se\", \"n\"],\n",
    "    name=\"tree_distance\",\n",
    "    dtype=float,\n",
    ")"
   ]
  },
  {
   "cell_type": "code",
   "execution_count": 5,
   "id": "d7e9570f",
   "metadata": {},
   "outputs": [],
   "source": [
    "import itertools"
   ]
  },
  {
   "cell_type": "code",
   "execution_count": 6,
   "id": "03942f5e",
   "metadata": {},
   "outputs": [],
   "source": [
    "a = set([1, 2, 3])\n",
    "b = set([3, 4, 5])"
   ]
  },
  {
   "cell_type": "code",
   "execution_count": 7,
   "id": "5fd132dc",
   "metadata": {},
   "outputs": [
    {
     "data": {
      "text/plain": [
       "2"
      ]
     },
     "execution_count": 7,
     "metadata": {},
     "output_type": "execute_result"
    }
   ],
   "source": [
    "len(t0.treenode.children[0].get_leaves())"
   ]
  },
  {
   "cell_type": "code",
   "execution_count": 8,
   "id": "f81acc3f",
   "metadata": {},
   "outputs": [
    {
     "data": {
      "text/plain": [
       "(<Node(idx=0, name='A')>, <Node(idx=1, name='B')>, <Node(idx=14)>)"
      ]
     },
     "execution_count": 8,
     "metadata": {},
     "output_type": "execute_result"
    }
   ],
   "source": [
    "t0.unroot().treenode.children"
   ]
  },
  {
   "cell_type": "code",
   "execution_count": 9,
   "id": "e9ad9200",
   "metadata": {},
   "outputs": [
    {
     "data": {
      "text/plain": [
       "(<Node(idx=9)>, <Node(idx=15)>)"
      ]
     },
     "execution_count": 9,
     "metadata": {},
     "output_type": "execute_result"
    }
   ],
   "source": [
    "t0.treenode.children"
   ]
  },
  {
   "cell_type": "code",
   "execution_count": 10,
   "id": "453c7ee8",
   "metadata": {
    "scrolled": true
   },
   "outputs": [],
   "source": [
    "# mtrees = [toytree.rtree.unittree(10) for i in range(10)]\n",
    "# min([toytree.distance.get_treedist_rfg_msi(t0, i, True) for i in mtrees])"
   ]
  },
  {
   "cell_type": "code",
   "execution_count": 11,
   "id": "2d60e8f6",
   "metadata": {},
   "outputs": [],
   "source": [
    "def randomize_names(tree):\n",
    "    tree"
   ]
  },
  {
   "cell_type": "code",
   "execution_count": 15,
   "id": "e479f1d9",
   "metadata": {},
   "outputs": [
    {
     "data": {
      "text/plain": [
       "[({'A', 'B'}, {'C', 'D', 'E', 'F', 'G', 'H', 'I'}),\n",
       " ({'D', 'E'}, {'A', 'B', 'C', 'F', 'G', 'H', 'I'}),\n",
       " ({'C', 'D', 'E'}, {'A', 'B', 'F', 'G', 'H', 'I'}),\n",
       " ({'H', 'I'}, {'A', 'B', 'C', 'D', 'E', 'F', 'G'}),\n",
       " ({'G', 'H', 'I'}, {'A', 'B', 'C', 'D', 'E', 'F'}),\n",
       " ({'F', 'G', 'H', 'I'}, {'A', 'B', 'C', 'D', 'E'})]"
      ]
     },
     "execution_count": 15,
     "metadata": {},
     "output_type": "execute_result"
    }
   ],
   "source": [
    "d = t0.enum.iter_bipartitions()\n",
    "list(d)"
   ]
  },
  {
   "cell_type": "code",
   "execution_count": 83,
   "id": "5000bcb9",
   "metadata": {},
   "outputs": [
    {
     "data": {
      "text/plain": [
       "<generator object Node._iter_leaves at 0x7f76f70bce40>"
      ]
     },
     "execution_count": 83,
     "metadata": {},
     "output_type": "execute_result"
    }
   ],
   "source": []
  },
  {
   "cell_type": "code",
   "execution_count": 18,
   "id": "d14aafb9",
   "metadata": {},
   "outputs": [],
   "source": [
    "names = t0.get_tip_labels()\n",
    "\n",
    "def test(t0, names):\n",
    "    np.random.shuffle(names)\n",
    "    for i, node in enumerate(t0.treenode.iter_leaves()):\n",
    "        node.name = names[i]\n",
    "    #[node.name = i for (node, i) in zip(t0.treenode._iter_leaves(), names)]\n",
    "    return t0.iter_bipartitions()"
   ]
  },
  {
   "cell_type": "code",
   "execution_count": 20,
   "id": "51e7db98-cc6b-4e7c-bb38-bbabf024b6c2",
   "metadata": {},
   "outputs": [
    {
     "data": {
      "text/plain": [
       "[({'E', 'I'}, {'A', 'B', 'C', 'D', 'F', 'G', 'H'}),\n",
       " ({'B', 'G'}, {'A', 'C', 'D', 'E', 'F', 'H', 'I'}),\n",
       " ({'B', 'D', 'G'}, {'A', 'C', 'E', 'F', 'H', 'I'}),\n",
       " ({'A', 'H'}, {'B', 'C', 'D', 'E', 'F', 'G', 'I'}),\n",
       " ({'A', 'C', 'H'}, {'B', 'D', 'E', 'F', 'G', 'I'}),\n",
       " ({'A', 'C', 'F', 'H'}, {'B', 'D', 'E', 'G', 'I'})]"
      ]
     },
     "execution_count": 20,
     "metadata": {},
     "output_type": "execute_result"
    }
   ],
   "source": [
    "list(test(t0, names))"
   ]
  },
  {
   "cell_type": "code",
   "execution_count": 97,
   "id": "9fe867b2",
   "metadata": {},
   "outputs": [
    {
     "name": "stdout",
     "output_type": "stream",
     "text": [
      "150 µs ± 1.28 µs per loop (mean ± std. dev. of 7 runs, 10000 loops each)\n"
     ]
    }
   ],
   "source": [
    "%%timeit\n",
    "list(test(t0, names))"
   ]
  },
  {
   "cell_type": "code",
   "execution_count": 178,
   "id": "5b52a8d7",
   "metadata": {},
   "outputs": [],
   "source": [
    "def _random_bipartitions(btable, names):\n",
    "    np.random.shuffle(names)\n",
    "    for idx in range(btable.shape[0]):\n",
    "        mask0 = btable[idx].astype(bool)\n",
    "        mask1 = np.invert(mask0)\n",
    "        yield tuple(names[mask0]), tuple(names[mask1])"
   ]
  },
  {
   "cell_type": "code",
   "execution_count": 179,
   "id": "b487d843",
   "metadata": {},
   "outputs": [],
   "source": [
    "bt = t0._get_bipartitions_table(exclude_singleton_splits=True).values\n",
    "nn = np.array(t0.get_tip_labels())"
   ]
  },
  {
   "cell_type": "code",
   "execution_count": 184,
   "id": "e18df2a8",
   "metadata": {},
   "outputs": [
    {
     "name": "stdout",
     "output_type": "stream",
     "text": [
      "27.3 µs ± 1.35 µs per loop (mean ± std. dev. of 7 runs, 10000 loops each)\n"
     ]
    }
   ],
   "source": [
    "%%timeit\n",
    "list(_random_bipartitions(bt, nn))"
   ]
  },
  {
   "cell_type": "code",
   "execution_count": 194,
   "id": "c3935426",
   "metadata": {},
   "outputs": [
    {
     "data": {
      "text/plain": [
       "{Node(2)}"
      ]
     },
     "execution_count": 194,
     "metadata": {},
     "output_type": "execute_result"
    }
   ],
   "source": []
  },
  {
   "cell_type": "code",
   "execution_count": 6,
   "id": "ca83122f",
   "metadata": {},
   "outputs": [],
   "source": [
    "    >>> t0 = toytree.rtree.unittree(ntips=10, seed=123)\n",
    "    >>> t1 = toytree.rtree.unittree(ntips=10, seed=321)\n",
    "#     >>> t0.distance.get_treedist_rf(t1)"
   ]
  },
  {
   "cell_type": "code",
   "execution_count": 12,
   "id": "07dd613f",
   "metadata": {},
   "outputs": [
    {
     "name": "stdout",
     "output_type": "stream",
     "text": [
      "8\n",
      "0.5714285714285714\n"
     ]
    }
   ],
   "source": [
    "    >>> t0 = toytree.rtree.unittree(ntips=10, seed=123)\n",
    "    >>> t1 = toytree.rtree.unittree(ntips=10, seed=321)\n",
    "    >>> print(t0.distance.get_treedist_rf(t1, normalize=False))\n",
    "    >>> print(t0.distance.get_treedist_rf(t1, normalize=True))"
   ]
  },
  {
   "cell_type": "code",
   "execution_count": 8,
   "id": "85bd78b4",
   "metadata": {},
   "outputs": [
    {
     "data": {
      "text/plain": [
       "8"
      ]
     },
     "execution_count": 8,
     "metadata": {},
     "output_type": "execute_result"
    }
   ],
   "source": [
    "    >>> t0.distance.get_treedist_rf(t1, normalize=False)"
   ]
  },
  {
   "cell_type": "code",
   "execution_count": 11,
   "id": "db337fd8",
   "metadata": {},
   "outputs": [
    {
     "data": {
      "text/plain": [
       "0.5714285714285714"
      ]
     },
     "execution_count": 11,
     "metadata": {},
     "output_type": "execute_result"
    }
   ],
   "source": [
    "    >>> t0.distance.get_treedist_rf(t1, normalize=sum)    "
   ]
  },
  {
   "cell_type": "code",
   "execution_count": null,
   "id": "7de2cea4",
   "metadata": {},
   "outputs": [],
   "source": []
  },
  {
   "cell_type": "code",
   "execution_count": null,
   "id": "5efd9b8d",
   "metadata": {},
   "outputs": [],
   "source": [
    "    >>> t0 = toytree.rtree.unittree(ntips=10, seed=123)\n",
    "    >>> t1 = toytree.rtree.unittree(ntips=10, seed=321)\n",
    "    >>> t0.distance.get_treedist_rf(t1)\n",
    "    >>> t0.distance.get_treedist_rf(t1, normalize=True)\n",
    "    >>> t0.distance.get_treedist_rf(t1, normalize=False)\n",
    "    >>> t0.distance.get_treedist_rf(t1, normalize=max)    "
   ]
  },
  {
   "cell_type": "code",
   "execution_count": 31,
   "id": "700d10d2",
   "metadata": {},
   "outputs": [],
   "source": [
    "from toytree.distance._src.treedist import (\n",
    "    _get_n_trees_matching_two_splits,\n",
    "    _get_phylo_info_two_splits,\n",
    "    _get_split_phylo_info,\n",
    "    _get_phylo_info,\n",
    "    _get_two_splits_joint_phylo_info,\n",
    "    _get_two_splits_shared_phylo_info,\n",
    ")"
   ]
  },
  {
   "cell_type": "code",
   "execution_count": 74,
   "id": "ea2dad57",
   "metadata": {},
   "outputs": [
    {
     "name": "stdout",
     "output_type": "stream",
     "text": [
      "[[1 1 0 0 0 0 0 0 0]\n",
      " [0 0 0 1 1 0 0 0 0]\n",
      " [0 0 1 1 1 0 0 0 0]\n",
      " [0 0 0 0 0 0 0 1 1]\n",
      " [0 0 0 0 0 0 1 1 1]\n",
      " [0 0 0 0 0 1 1 1 1]]\n",
      "[[1 1 0 0 0 0 0 0 0]\n",
      " [0 0 0 0 1 1 0 0 0]\n",
      " [0 0 1 1 1 1 0 0 0]\n",
      " [0 0 0 0 0 0 0 1 1]\n",
      " [0 0 0 0 0 0 1 1 1]]\n"
     ]
    }
   ],
   "source": [
    "print(t0._get_bipartitions_table(exclude_singleton_splits=True))\n",
    "print(t1._get_bipartitions_table(exclude_singleton_splits=True))"
   ]
  },
  {
   "cell_type": "code",
   "execution_count": null,
   "id": "c734852e",
   "metadata": {},
   "outputs": [],
   "source": []
  },
  {
   "cell_type": "code",
   "execution_count": 75,
   "id": "d394b749",
   "metadata": {},
   "outputs": [
    {
     "name": "stdout",
     "output_type": "stream",
     "text": [
      "6\n"
     ]
    },
    {
     "data": {
      "text/html": [
       "<div>\n",
       "<style scoped>\n",
       "    .dataframe tbody tr th:only-of-type {\n",
       "        vertical-align: middle;\n",
       "    }\n",
       "\n",
       "    .dataframe tbody tr th {\n",
       "        vertical-align: top;\n",
       "    }\n",
       "\n",
       "    .dataframe thead th {\n",
       "        text-align: right;\n",
       "    }\n",
       "</style>\n",
       "<table border=\"1\" class=\"dataframe\">\n",
       "  <thead>\n",
       "    <tr style=\"text-align: right;\">\n",
       "      <th></th>\n",
       "      <th>0</th>\n",
       "      <th>1</th>\n",
       "      <th>2</th>\n",
       "      <th>3</th>\n",
       "      <th>4</th>\n",
       "      <th>5</th>\n",
       "    </tr>\n",
       "  </thead>\n",
       "  <tbody>\n",
       "    <tr>\n",
       "      <th>0</th>\n",
       "      <td>9.275349</td>\n",
       "      <td>10.123345</td>\n",
       "      <td>0.241008</td>\n",
       "      <td>7.400879</td>\n",
       "      <td>9.275349</td>\n",
       "      <td>7.400879</td>\n",
       "    </tr>\n",
       "    <tr>\n",
       "      <th>1</th>\n",
       "      <td>11.149818</td>\n",
       "      <td>3.252981</td>\n",
       "      <td>0.530515</td>\n",
       "      <td>0.530515</td>\n",
       "      <td>1.182591</td>\n",
       "      <td>9.275349</td>\n",
       "    </tr>\n",
       "    <tr>\n",
       "      <th>2</th>\n",
       "      <td>2.115477</td>\n",
       "      <td>1.378512</td>\n",
       "      <td>0.241008</td>\n",
       "      <td>0.241008</td>\n",
       "      <td>0.530515</td>\n",
       "      <td>7.400879</td>\n",
       "    </tr>\n",
       "    <tr>\n",
       "      <th>3</th>\n",
       "      <td>11.997815</td>\n",
       "      <td>12.845811</td>\n",
       "      <td>0.893085</td>\n",
       "      <td>10.123345</td>\n",
       "      <td>11.997815</td>\n",
       "      <td>10.123345</td>\n",
       "    </tr>\n",
       "    <tr>\n",
       "      <th>4</th>\n",
       "      <td>0.530515</td>\n",
       "      <td>0.893085</td>\n",
       "      <td>3.700440</td>\n",
       "      <td>0.241008</td>\n",
       "      <td>0.530515</td>\n",
       "      <td>0.241008</td>\n",
       "    </tr>\n",
       "  </tbody>\n",
       "</table>\n",
       "</div>"
      ],
      "text/plain": [
       "           0          1         2          3          4          5\n",
       "0   9.275349  10.123345  0.241008   7.400879   9.275349   7.400879\n",
       "1  11.149818   3.252981  0.530515   0.530515   1.182591   9.275349\n",
       "2   2.115477   1.378512  0.241008   0.241008   0.530515   7.400879\n",
       "3  11.997815  12.845811  0.893085  10.123345  11.997815  10.123345\n",
       "4   0.530515   0.893085  3.700440   0.241008   0.530515   0.241008"
      ]
     },
     "execution_count": 75,
     "metadata": {},
     "output_type": "execute_result"
    }
   ],
   "source": [
    "from itertools import product\n",
    "\n",
    "set2 = set(t0._iter_bipartitions())\n",
    "set1 = set(t1._iter_bipartitions())\n",
    "arr = np.zeros((len(set1), len(set2)))\n",
    "\n",
    "for i, bip1 in enumerate(set1):\n",
    "    for j, bip2 in enumerate(set2):\n",
    "        arr[i, j] = _get_two_splits_shared_phylo_info(bip1, bip2)\n",
    "\n",
    "print(len(set2))\n",
    "arr = pd.DataFrame(arr)\n",
    "arr"
   ]
  },
  {
   "cell_type": "code",
   "execution_count": 60,
   "id": "d82b3792",
   "metadata": {},
   "outputs": [],
   "source": [
    "from scipy.optimize import linear_sum_assignment"
   ]
  },
  {
   "cell_type": "code",
   "execution_count": 61,
   "id": "c1742f27",
   "metadata": {},
   "outputs": [
    {
     "data": {
      "text/plain": [
       "(array([0, 1, 2, 3, 4]), array([5, 3, 4, 2, 0]))"
      ]
     },
     "execution_count": 61,
     "metadata": {},
     "output_type": "execute_result"
    }
   ],
   "source": [
    "linear_sum_assignment(arr)"
   ]
  },
  {
   "cell_type": "code",
   "execution_count": 117,
   "id": "16695dcd",
   "metadata": {},
   "outputs": [
    {
     "data": {
      "text/plain": [
       "45"
      ]
     },
     "execution_count": 117,
     "metadata": {},
     "output_type": "execute_result"
    }
   ],
   "source": [
    "_get_n_trees_matching_two_splits(8, 3, 4)"
   ]
  },
  {
   "cell_type": "code",
   "execution_count": 123,
   "id": "0b70dbdf",
   "metadata": {},
   "outputs": [
    {
     "data": {
      "text/plain": [
       "7.851749041416057"
      ]
     },
     "execution_count": 123,
     "metadata": {},
     "output_type": "execute_result"
    }
   ],
   "source": [
    "_get_phylo_info_two_splits(8, 3, 4)"
   ]
  },
  {
   "cell_type": "code",
   "execution_count": 86,
   "id": "d64b8b35",
   "metadata": {
    "scrolled": true
   },
   "outputs": [
    {
     "data": {
      "text/plain": [
       "5.0443941193584525"
      ]
     },
     "execution_count": 86,
     "metadata": {},
     "output_type": "execute_result"
    }
   ],
   "source": [
    ">>> split1 = ((0, 1, 2, 3), (4, 5, 6, 7))\n",
    ">>> split2 = ((0, 1, 2), (3, 4, 5, 6, 7))\n",
    ">>> _get_two_splits_shared_phylo_info(split2, split2)"
   ]
  },
  {
   "cell_type": "code",
   "execution_count": 99,
   "id": "563d0518",
   "metadata": {},
   "outputs": [
    {
     "data": {
      "text/plain": [
       "7.851749041416057"
      ]
     },
     "execution_count": 99,
     "metadata": {},
     "output_type": "execute_result"
    }
   ],
   "source": [
    ">>> split1 = ((0, 1, 2, 3), (4, 5, 6, 7))\n",
    ">>> split2 = ((0, 1, 2), (3, 4, 5, 6, 7))\n",
    ">>> _get_two_splits_joint_phylo_info(split2, split1)"
   ]
  },
  {
   "cell_type": "code",
   "execution_count": 148,
   "id": "c2215a33",
   "metadata": {},
   "outputs": [
    {
     "name": "stdout",
     "output_type": "stream",
     "text": [
      "299 µs ± 4.45 µs per loop (mean ± std. dev. of 7 runs, 1000 loops each)\n"
     ]
    }
   ],
   "source": [
    "%%timeit\n",
    "t0.get_bipartitions()"
   ]
  },
  {
   "cell_type": "code",
   "execution_count": 149,
   "id": "9c7d76eb",
   "metadata": {},
   "outputs": [
    {
     "name": "stdout",
     "output_type": "stream",
     "text": [
      "135 µs ± 244 ns per loop (mean ± std. dev. of 7 runs, 10000 loops each)\n"
     ]
    }
   ],
   "source": [
    "%%timeit\n",
    "list(t0._iter_bipartitions())"
   ]
  },
  {
   "cell_type": "code",
   "execution_count": 157,
   "id": "105748ed",
   "metadata": {},
   "outputs": [],
   "source": [
    "df = t0.get_bipartitions()"
   ]
  },
  {
   "cell_type": "markdown",
   "id": "9493de0e",
   "metadata": {},
   "source": [
    "## TODO"
   ]
  },
  {
   "cell_type": "code",
   "execution_count": 190,
   "id": "4960bbb3",
   "metadata": {},
   "outputs": [],
   "source": [
    "# toyplot 1.0\n",
    "# toytree.color is simplified toyplot.color\n",
    "# t0.distance.get_treedist_rfg(t1)\n",
    "# t0.draw('s', edge_colors=t0.style.edge_colors);\n",
    "# logger.warning on bad entry\n",
    "# "
   ]
  },
  {
   "cell_type": "code",
   "execution_count": 199,
   "id": "0ba5e0ee",
   "metadata": {},
   "outputs": [
    {
     "ename": "NameError",
     "evalue": "name 't2' is not defined",
     "output_type": "error",
     "traceback": [
      "\u001b[0;31m---------------------------------------------------------------------------\u001b[0m",
      "\u001b[0;31mNameError\u001b[0m                                 Traceback (most recent call last)",
      "\u001b[0;32m/tmp/ipykernel_1372214/948447019.py\u001b[0m in \u001b[0;36m<module>\u001b[0;34m\u001b[0m\n\u001b[0;32m----> 1\u001b[0;31m \u001b[0mt0\u001b[0m\u001b[0;34m.\u001b[0m\u001b[0mdistance\u001b[0m\u001b[0;34m.\u001b[0m\u001b[0mget_treedist_rf\u001b[0m\u001b[0;34m(\u001b[0m\u001b[0mt1\u001b[0m\u001b[0;34m,\u001b[0m \u001b[0mt2\u001b[0m\u001b[0;34m,\u001b[0m \u001b[0mt3\u001b[0m\u001b[0;34m)\u001b[0m\u001b[0;34m\u001b[0m\u001b[0;34m\u001b[0m\u001b[0m\n\u001b[0m",
      "\u001b[0;31mNameError\u001b[0m: name 't2' is not defined"
     ]
    }
   ],
   "source": [
    "t0.distance.get_treedist_rf(t1, t2, t3, metric=t0.distance.get_treedist_rf)"
   ]
  },
  {
   "cell_type": "code",
   "execution_count": 202,
   "id": "07a93876",
   "metadata": {},
   "outputs": [
    {
     "ename": "SyntaxError",
     "evalue": "invalid syntax (2843030508.py, line 3)",
     "output_type": "error",
     "traceback": [
      "\u001b[0;36m  File \u001b[0;32m\"/tmp/ipykernel_1372214/2843030508.py\"\u001b[0;36m, line \u001b[0;32m3\u001b[0m\n\u001b[0;31m    match normalize:\u001b[0m\n\u001b[0m          ^\u001b[0m\n\u001b[0;31mSyntaxError\u001b[0m\u001b[0;31m:\u001b[0m invalid syntax\n"
     ]
    }
   ],
   "source": [
    "normalize = False\n",
    "\n",
    "match normalize:\n",
    "    case _:\n",
    "        print(\"no\")"
   ]
  },
  {
   "cell_type": "code",
   "execution_count": 184,
   "id": "64d3a287",
   "metadata": {},
   "outputs": [
    {
     "data": {
      "text/plain": [
       "(<toyplot.canvas.Canvas at 0x7fed01ec7d90>,\n",
       " <toyplot.coordinates.Cartesian at 0x7fed013a5c10>,\n",
       " <toytree.core.drawing.toytree_mark.ToytreeMark at 0x7fed01e880a0>)"
      ]
     },
     "execution_count": 184,
     "metadata": {},
     "output_type": "execute_result"
    },
    {
     "data": {
      "text/html": [
       "<div class=\"toyplot\" id=\"t83bce52bd7324827be6e5c0879d032a9\" style=\"text-align:center\"><svg class=\"toyplot-canvas-Canvas\" xmlns:toyplot=\"http://www.sandia.gov/toyplot\" xmlns:xlink=\"http://www.w3.org/1999/xlink\" xmlns=\"http://www.w3.org/2000/svg\" width=\"255.0px\" height=\"275.0px\" viewBox=\"0 0 255.0 275.0\" preserveAspectRatio=\"xMidYMid meet\" style=\"background-color:transparent;border-color:#292724;border-style:none;border-width:1.0;fill:rgb(16.1%,15.3%,14.1%);fill-opacity:1.0;font-family:Helvetica;font-size:12px;opacity:1.0;stroke:rgb(16.1%,15.3%,14.1%);stroke-opacity:1.0;stroke-width:1.0\" id=\"t184ab73c774d49ad853762a5e0fa05ac\"><g class=\"toyplot-coordinates-Cartesian\" id=\"t35b7cf4541a04a12a2f0fd58fa8aea46\"><clipPath id=\"tdd245d5270c14a889004e9a5b921b68d\"><rect x=\"35.0\" y=\"35.0\" width=\"185.0\" height=\"205.0\"></rect></clipPath><g clip-path=\"url(#tdd245d5270c14a889004e9a5b921b68d)\"><g class=\"toytree-mark-Toytree\" id=\"t69f9fdf69c14442b8fb5fff2c01a0c59\"><g class=\"toytree-Edges\" style=\"fill:none;stroke:rgba(16.1%,15.3%,14.1%,1.000);stroke-linecap:round;stroke-width:2.0\"><path d=\"M 73.9 208.7 L 73.9 218.9 L 97.8 218.9\" id=\"9,0\" style=\"stroke-width:nan\"></path><path d=\"M 73.9 208.7 L 73.9 198.5 L 97.8 198.5\" id=\"9,1\" style=\"stroke-width:nan\"></path><path d=\"M 97.8 162.9 L 97.8 178.2 L 121.8 178.2\" id=\"11,2\" style=\"stroke-width:nan\"></path><path d=\"M 121.8 147.7 L 121.8 157.8 L 145.7 157.8\" id=\"10,3\" style=\"stroke-width:nan\"></path><path d=\"M 121.8 147.7 L 121.8 137.5 L 145.7 137.5\" id=\"10,4\" style=\"stroke-width:nan\"></path><path d=\"M 97.8 99.4 L 97.8 117.2 L 121.8 117.2\" id=\"14,5\" style=\"stroke-width:nan\"></path><path d=\"M 121.8 81.6 L 121.8 96.8 L 145.7 96.8\" id=\"13,6\" style=\"stroke-width:nan\"></path><path d=\"M 145.7 66.3 L 145.7 76.5 L 169.6 76.5\" id=\"12,7\" style=\"stroke-width:nan\"></path><path d=\"M 145.7 66.3 L 145.7 56.1 L 169.6 56.1\" id=\"12,8\" style=\"stroke-width:nan\"></path><path d=\"M 50.0 169.9 L 50.0 208.7 L 73.9 208.7\" id=\"16,9\" style=\"stroke-width:nan\"></path><path d=\"M 97.8 162.9 L 97.8 147.7 L 121.8 147.7\" id=\"11,10\" style=\"stroke-width:nan\"></path><path d=\"M 73.9 131.1 L 73.9 162.9 L 97.8 162.9\" id=\"15,11\" style=\"stroke-width:nan\"></path><path d=\"M 121.8 81.6 L 121.8 66.3 L 145.7 66.3\" id=\"13,12\" style=\"stroke-width:nan\"></path><path d=\"M 97.8 99.4 L 97.8 81.6 L 121.8 81.6\" id=\"14,13\" style=\"stroke-width:nan\"></path><path d=\"M 73.9 131.1 L 73.9 99.4 L 97.8 99.4\" id=\"15,14\" style=\"stroke-width:nan\"></path><path d=\"M 50.0 169.9 L 50.0 131.1 L 73.9 131.1\" id=\"16,15\" style=\"stroke-width:nan\"></path></g><g class=\"toytree-TipLabels\" style=\"fill:rgb(16.1%,15.3%,14.1%);fill-opacity:1.0;font-family:Helvetica;font-size:11.0px;font-weight:300;stroke:none;vertical-align:baseline;white-space:pre\"><g class=\"toytree-TipLabel\" transform=\"translate(97.8385535931184,218.86291179596174)\"><text x=\"15.0\" y=\"2.8104999999999993\" style=\"\">A</text></g><g class=\"toytree-TipLabel\" transform=\"translate(97.8385535931184,198.5221838469713)\"><text x=\"15.0\" y=\"2.8104999999999993\" style=\"\">B</text></g><g class=\"toytree-TipLabel\" transform=\"translate(121.75783038967762,178.18145589798087)\"><text x=\"15.0\" y=\"2.8104999999999993\" style=\"\">C</text></g><g class=\"toytree-TipLabel\" transform=\"translate(145.6771071862368,157.8407279489904)\"><text x=\"15.0\" y=\"2.8104999999999993\" style=\"\">D</text></g><g class=\"toytree-TipLabel\" transform=\"translate(145.6771071862368,137.49999999999997)\"><text x=\"15.0\" y=\"2.8104999999999993\" style=\"\">E</text></g><g class=\"toytree-TipLabel\" transform=\"translate(121.75783038967762,117.15927205100954)\"><text x=\"15.0\" y=\"2.8104999999999993\" style=\"\">F</text></g><g class=\"toytree-TipLabel\" transform=\"translate(145.6771071862368,96.8185441020191)\"><text x=\"15.0\" y=\"2.8104999999999993\" style=\"\">G</text></g><g class=\"toytree-TipLabel\" transform=\"translate(169.59638398279603,76.47781615302866)\"><text x=\"15.0\" y=\"2.8104999999999993\" style=\"\">H</text></g><g class=\"toytree-TipLabel\" transform=\"translate(169.59638398279603,56.137088204038236)\"><text x=\"15.0\" y=\"2.8104999999999993\" style=\"\">I</text></g></g></g></g></g></svg><div class=\"toyplot-behavior\"><script>(function()\n",
       "{\n",
       "var modules={};\n",
       "})();</script></div></div>"
      ]
     },
     "metadata": {},
     "output_type": "display_data"
    }
   ],
   "source": [
    "t0.draw()"
   ]
  },
  {
   "cell_type": "code",
   "execution_count": 164,
   "id": "8db0538d",
   "metadata": {},
   "outputs": [
    {
     "data": {
      "text/html": [
       "<div>\n",
       "<style scoped>\n",
       "    .dataframe tbody tr th:only-of-type {\n",
       "        vertical-align: middle;\n",
       "    }\n",
       "\n",
       "    .dataframe tbody tr th {\n",
       "        vertical-align: top;\n",
       "    }\n",
       "\n",
       "    .dataframe thead th {\n",
       "        text-align: right;\n",
       "    }\n",
       "</style>\n",
       "<table border=\"1\" class=\"dataframe\">\n",
       "  <thead>\n",
       "    <tr style=\"text-align: right;\">\n",
       "      <th></th>\n",
       "      <th>0</th>\n",
       "      <th>1</th>\n",
       "    </tr>\n",
       "  </thead>\n",
       "  <tbody>\n",
       "    <tr>\n",
       "      <th>0</th>\n",
       "      <td>(A,)</td>\n",
       "      <td>(B, C, D, E, F, G, H, I)</td>\n",
       "    </tr>\n",
       "    <tr>\n",
       "      <th>1</th>\n",
       "      <td>(B,)</td>\n",
       "      <td>(A, C, D, E, F, G, H, I)</td>\n",
       "    </tr>\n",
       "    <tr>\n",
       "      <th>2</th>\n",
       "      <td>(C,)</td>\n",
       "      <td>(A, B, D, E, F, G, H, I)</td>\n",
       "    </tr>\n",
       "    <tr>\n",
       "      <th>3</th>\n",
       "      <td>(D,)</td>\n",
       "      <td>(A, B, C, E, F, G, H, I)</td>\n",
       "    </tr>\n",
       "    <tr>\n",
       "      <th>4</th>\n",
       "      <td>(E,)</td>\n",
       "      <td>(A, B, C, D, F, G, H, I)</td>\n",
       "    </tr>\n",
       "    <tr>\n",
       "      <th>5</th>\n",
       "      <td>(F,)</td>\n",
       "      <td>(A, B, C, D, E, G, H, I)</td>\n",
       "    </tr>\n",
       "    <tr>\n",
       "      <th>6</th>\n",
       "      <td>(G,)</td>\n",
       "      <td>(A, B, C, D, E, F, H, I)</td>\n",
       "    </tr>\n",
       "    <tr>\n",
       "      <th>7</th>\n",
       "      <td>(H,)</td>\n",
       "      <td>(A, B, C, D, E, F, G, I)</td>\n",
       "    </tr>\n",
       "    <tr>\n",
       "      <th>8</th>\n",
       "      <td>(I,)</td>\n",
       "      <td>(A, B, C, D, E, F, G, H)</td>\n",
       "    </tr>\n",
       "    <tr>\n",
       "      <th>9</th>\n",
       "      <td>(A, B)</td>\n",
       "      <td>(C, D, E, F, G, H, I)</td>\n",
       "    </tr>\n",
       "    <tr>\n",
       "      <th>10</th>\n",
       "      <td>(D, E)</td>\n",
       "      <td>(A, B, C, F, G, H, I)</td>\n",
       "    </tr>\n",
       "    <tr>\n",
       "      <th>11</th>\n",
       "      <td>(C, D, E)</td>\n",
       "      <td>(A, B, F, G, H, I)</td>\n",
       "    </tr>\n",
       "    <tr>\n",
       "      <th>12</th>\n",
       "      <td>(H, I)</td>\n",
       "      <td>(A, B, C, D, E, F, G)</td>\n",
       "    </tr>\n",
       "    <tr>\n",
       "      <th>13</th>\n",
       "      <td>(G, H, I)</td>\n",
       "      <td>(A, B, C, D, E, F)</td>\n",
       "    </tr>\n",
       "    <tr>\n",
       "      <th>14</th>\n",
       "      <td>(F, G, H, I)</td>\n",
       "      <td>(A, B, C, D, E)</td>\n",
       "    </tr>\n",
       "  </tbody>\n",
       "</table>\n",
       "</div>"
      ],
      "text/plain": [
       "               0                         1\n",
       "0           (A,)  (B, C, D, E, F, G, H, I)\n",
       "1           (B,)  (A, C, D, E, F, G, H, I)\n",
       "2           (C,)  (A, B, D, E, F, G, H, I)\n",
       "3           (D,)  (A, B, C, E, F, G, H, I)\n",
       "4           (E,)  (A, B, C, D, F, G, H, I)\n",
       "5           (F,)  (A, B, C, D, E, G, H, I)\n",
       "6           (G,)  (A, B, C, D, E, F, H, I)\n",
       "7           (H,)  (A, B, C, D, E, F, G, I)\n",
       "8           (I,)  (A, B, C, D, E, F, G, H)\n",
       "9         (A, B)     (C, D, E, F, G, H, I)\n",
       "10        (D, E)     (A, B, C, F, G, H, I)\n",
       "11     (C, D, E)        (A, B, F, G, H, I)\n",
       "12        (H, I)     (A, B, C, D, E, F, G)\n",
       "13     (G, H, I)        (A, B, C, D, E, F)\n",
       "14  (F, G, H, I)           (A, B, C, D, E)"
      ]
     },
     "execution_count": 164,
     "metadata": {},
     "output_type": "execute_result"
    }
   ],
   "source": [
    "t0.get_bipartitions(exclude_singleton_splits=False)"
   ]
  },
  {
   "cell_type": "code",
   "execution_count": 129,
   "id": "9d9708e1",
   "metadata": {},
   "outputs": [
    {
     "data": {
      "text/html": [
       "<div class=\"toyplot\" id=\"tb73500fec975425f9f44b6812579716a\" style=\"text-align:center\"><svg class=\"toyplot-canvas-Canvas\" xmlns:toyplot=\"http://www.sandia.gov/toyplot\" xmlns:xlink=\"http://www.w3.org/1999/xlink\" xmlns=\"http://www.w3.org/2000/svg\" width=\"255.0px\" height=\"275.0px\" viewBox=\"0 0 255.0 275.0\" preserveAspectRatio=\"xMidYMid meet\" style=\"background-color:transparent;border-color:#292724;border-style:none;border-width:1.0;fill:rgb(16.1%,15.3%,14.1%);fill-opacity:1.0;font-family:Helvetica;font-size:12px;opacity:1.0;stroke:rgb(16.1%,15.3%,14.1%);stroke-opacity:1.0;stroke-width:1.0\" id=\"t46b9c520314044ec8f2c69ca3ad3d0ca\"><g class=\"toyplot-coordinates-Cartesian\" id=\"te9b53110c49049ae890e13c9c202e649\"><clipPath id=\"tfe087240d5df409c9e9fec7d4ded0a71\"><rect x=\"35.0\" y=\"35.0\" width=\"185.0\" height=\"205.0\"></rect></clipPath><g clip-path=\"url(#tfe087240d5df409c9e9fec7d4ded0a71)\"><g class=\"toytree-mark-Toytree\" id=\"tad2c902cc218406689c4ebe60a0a5614\"><g class=\"toytree-Edges\" style=\"fill:none;stroke:rgba(16.1%,15.3%,14.1%,1.000);stroke-linecap:round;stroke-width:2.0\"><path d=\"M 147.6 206.9 L 147.6 216.8 L 170.4 216.8\" id=\"9,0\" style=\"stroke-width:nan\"></path><path d=\"M 147.6 206.9 L 147.6 197.0 L 170.4 197.0\" id=\"9,1\" style=\"stroke-width:nan\"></path><path d=\"M 124.9 162.3 L 124.9 177.2 L 170.4 177.2\" id=\"11,2\" style=\"stroke-width:nan\"></path><path d=\"M 147.6 147.4 L 147.6 157.3 L 170.4 157.3\" id=\"10,3\" style=\"stroke-width:nan\"></path><path d=\"M 147.6 147.4 L 147.6 137.5 L 170.4 137.5\" id=\"10,4\" style=\"stroke-width:nan\"></path><path d=\"M 102.1 100.3 L 102.1 117.7 L 170.4 117.7\" id=\"14,5\" style=\"stroke-width:nan\"></path><path d=\"M 124.9 83.0 L 124.9 97.8 L 170.4 97.8\" id=\"13,6\" style=\"stroke-width:nan\"></path><path d=\"M 147.6 68.1 L 147.6 78.0 L 170.4 78.0\" id=\"12,7\" style=\"stroke-width:nan\"></path><path d=\"M 147.6 68.1 L 147.6 58.2 L 170.4 58.2\" id=\"12,8\" style=\"stroke-width:nan\"></path><path d=\"M 56.6 169.1 L 56.6 206.9 L 147.6 206.9\" id=\"16,9\" style=\"stroke-width:nan\"></path><path d=\"M 124.9 162.3 L 124.9 147.4 L 147.6 147.4\" id=\"11,10\" style=\"stroke-width:nan\"></path><path d=\"M 79.4 131.3 L 79.4 162.3 L 124.9 162.3\" id=\"15,11\" style=\"stroke-width:nan\"></path><path d=\"M 124.9 83.0 L 124.9 68.1 L 147.6 68.1\" id=\"13,12\" style=\"stroke-width:nan\"></path><path d=\"M 102.1 100.3 L 102.1 83.0 L 124.9 83.0\" id=\"14,13\" style=\"stroke-width:nan\"></path><path d=\"M 79.4 131.3 L 79.4 100.3 L 102.1 100.3\" id=\"15,14\" style=\"stroke-width:nan\"></path><path d=\"M 56.6 169.1 L 56.6 131.3 L 79.4 131.3\" id=\"16,15\" style=\"stroke-width:nan\"></path></g><g class=\"toytree-Nodes\" style=\"fill:rgba(82.7%,82.7%,82.7%,1.000);stroke:#262626;stroke-width:1.5\"><g id=\"node-0\" transform=\"translate(170.408,216.839)\"><circle r=\"9.0\"></circle></g><g id=\"node-1\" transform=\"translate(170.408,197.005)\"><circle r=\"9.0\"></circle></g><g id=\"node-2\" transform=\"translate(170.408,177.170)\"><circle r=\"9.0\"></circle></g><g id=\"node-3\" transform=\"translate(170.408,157.335)\"><circle r=\"9.0\"></circle></g><g id=\"node-4\" transform=\"translate(170.408,137.500)\"><circle r=\"9.0\"></circle></g><g id=\"node-5\" transform=\"translate(170.408,117.665)\"><circle r=\"9.0\"></circle></g><g id=\"node-6\" transform=\"translate(170.408,97.830)\"><circle r=\"9.0\"></circle></g><g id=\"node-7\" transform=\"translate(170.408,77.995)\"><circle r=\"9.0\"></circle></g><g id=\"node-8\" transform=\"translate(170.408,58.161)\"><circle r=\"9.0\"></circle></g><g id=\"node-9\" transform=\"translate(147.648,206.922)\"><circle r=\"9.0\"></circle></g><g id=\"node-10\" transform=\"translate(147.648,147.417)\"><circle r=\"9.0\"></circle></g><g id=\"node-11\" transform=\"translate(124.888,162.294)\"><circle r=\"9.0\"></circle></g><g id=\"node-12\" transform=\"translate(147.648,68.078)\"><circle r=\"9.0\"></circle></g><g id=\"node-13\" transform=\"translate(124.888,82.954)\"><circle r=\"9.0\"></circle></g><g id=\"node-14\" transform=\"translate(102.128,100.310)\"><circle r=\"9.0\"></circle></g><g id=\"node-15\" transform=\"translate(79.368,131.302)\"><circle r=\"9.0\"></circle></g><g id=\"node-16\" transform=\"translate(56.608,169.112)\"><circle r=\"9.0\"></circle></g></g><g class=\"toytree-NodeLabels\" style=\"font-family:Helvetica;font-size:9.0px;font-weight:300;stroke:none;vertical-align:baseline;white-space:pre\"><g class=\"toytree-NodeLabel\" transform=\"translate(170.4077379260691,216.83937823834196)\"><text x=\"-2.5020000000000002\" y=\"2.2995\" style=\"fill:rgb(16.1%,15.3%,14.1%);fill-opacity:1.0\">0</text></g><g class=\"toytree-NodeLabel\" transform=\"translate(170.4077379260691,197.00453367875647)\"><text x=\"-2.5020000000000002\" y=\"2.2995\" style=\"fill:rgb(16.1%,15.3%,14.1%);fill-opacity:1.0\">1</text></g><g class=\"toytree-NodeLabel\" transform=\"translate(170.4077379260691,177.16968911917095)\"><text x=\"-2.5020000000000002\" y=\"2.2995\" style=\"fill:rgb(16.1%,15.3%,14.1%);fill-opacity:1.0\">2</text></g><g class=\"toytree-NodeLabel\" transform=\"translate(170.4077379260691,157.3348445595855)\"><text x=\"-2.5020000000000002\" y=\"2.2995\" style=\"fill:rgb(16.1%,15.3%,14.1%);fill-opacity:1.0\">3</text></g><g class=\"toytree-NodeLabel\" transform=\"translate(170.4077379260691,137.5)\"><text x=\"-2.5020000000000002\" y=\"2.2995\" style=\"fill:rgb(16.1%,15.3%,14.1%);fill-opacity:1.0\">4</text></g><g class=\"toytree-NodeLabel\" transform=\"translate(170.4077379260691,117.66515544041452)\"><text x=\"-2.5020000000000002\" y=\"2.2995\" style=\"fill:rgb(16.1%,15.3%,14.1%);fill-opacity:1.0\">5</text></g><g class=\"toytree-NodeLabel\" transform=\"translate(170.4077379260691,97.83031088082902)\"><text x=\"-2.5020000000000002\" y=\"2.2995\" style=\"fill:rgb(16.1%,15.3%,14.1%);fill-opacity:1.0\">6</text></g><g class=\"toytree-NodeLabel\" transform=\"translate(170.4077379260691,77.99546632124353)\"><text x=\"-2.5020000000000002\" y=\"2.2995\" style=\"fill:rgb(16.1%,15.3%,14.1%);fill-opacity:1.0\">7</text></g><g class=\"toytree-NodeLabel\" transform=\"translate(170.4077379260691,58.16062176165802)\"><text x=\"-2.5020000000000002\" y=\"2.2995\" style=\"fill:rgb(16.1%,15.3%,14.1%);fill-opacity:1.0\">8</text></g><g class=\"toytree-NodeLabel\" transform=\"translate(147.64773868394627,206.9219559585492)\"><text x=\"-2.5020000000000002\" y=\"2.2995\" style=\"fill:rgb(16.1%,15.3%,14.1%);fill-opacity:1.0\">9</text></g><g class=\"toytree-NodeLabel\" transform=\"translate(147.64773868394627,147.41742227979273)\"><text x=\"-5.0040000000000004\" y=\"2.2995\" style=\"fill:rgb(16.1%,15.3%,14.1%);fill-opacity:1.0\">10</text></g><g class=\"toytree-NodeLabel\" transform=\"translate(124.88773944182346,162.29355569948186)\"><text x=\"-5.0040000000000004\" y=\"2.2995\" style=\"fill:rgb(16.1%,15.3%,14.1%);fill-opacity:1.0\">11</text></g><g class=\"toytree-NodeLabel\" transform=\"translate(147.64773868394627,68.07804404145077)\"><text x=\"-5.0040000000000004\" y=\"2.2995\" style=\"fill:rgb(16.1%,15.3%,14.1%);fill-opacity:1.0\">12</text></g><g class=\"toytree-NodeLabel\" transform=\"translate(124.88773944182346,82.95417746113989)\"><text x=\"-5.0040000000000004\" y=\"2.2995\" style=\"fill:rgb(16.1%,15.3%,14.1%);fill-opacity:1.0\">13</text></g><g class=\"toytree-NodeLabel\" transform=\"translate(102.12774019970065,100.3096664507772)\"><text x=\"-5.0040000000000004\" y=\"2.2995\" style=\"fill:rgb(16.1%,15.3%,14.1%);fill-opacity:1.0\">14</text></g><g class=\"toytree-NodeLabel\" transform=\"translate(79.36774095757784,131.30161107512953)\"><text x=\"-5.0040000000000004\" y=\"2.2995\" style=\"fill:rgb(16.1%,15.3%,14.1%);fill-opacity:1.0\">15</text></g><g class=\"toytree-NodeLabel\" transform=\"translate(56.60774171545503,169.11178351683938)\"><text x=\"-5.0040000000000004\" y=\"2.2995\" style=\"fill:rgb(16.1%,15.3%,14.1%);fill-opacity:1.0\">16</text></g></g><g class=\"toytree-TipLabels\" style=\"fill:rgb(16.1%,15.3%,14.1%);fill-opacity:1.0;font-family:Helvetica;font-size:11.0px;font-weight:300;stroke:none;vertical-align:baseline;white-space:pre\"><g class=\"toytree-TipLabel\" transform=\"translate(170.4077379260691,216.83937823834196)\"><text x=\"15.0\" y=\"2.8104999999999993\" style=\"\">A</text></g><g class=\"toytree-TipLabel\" transform=\"translate(170.4077379260691,197.00453367875647)\"><text x=\"15.0\" y=\"2.8104999999999993\" style=\"\">B</text></g><g class=\"toytree-TipLabel\" transform=\"translate(170.4077379260691,177.16968911917095)\"><text x=\"15.0\" y=\"2.8104999999999993\" style=\"\">C</text></g><g class=\"toytree-TipLabel\" transform=\"translate(170.4077379260691,157.3348445595855)\"><text x=\"15.0\" y=\"2.8104999999999993\" style=\"\">D</text></g><g class=\"toytree-TipLabel\" transform=\"translate(170.4077379260691,137.5)\"><text x=\"15.0\" y=\"2.8104999999999993\" style=\"\">E</text></g><g class=\"toytree-TipLabel\" transform=\"translate(170.4077379260691,117.66515544041452)\"><text x=\"15.0\" y=\"2.8104999999999993\" style=\"\">F</text></g><g class=\"toytree-TipLabel\" transform=\"translate(170.4077379260691,97.83031088082902)\"><text x=\"15.0\" y=\"2.8104999999999993\" style=\"\">G</text></g><g class=\"toytree-TipLabel\" transform=\"translate(170.4077379260691,77.99546632124353)\"><text x=\"15.0\" y=\"2.8104999999999993\" style=\"\">H</text></g><g class=\"toytree-TipLabel\" transform=\"translate(170.4077379260691,58.16062176165802)\"><text x=\"15.0\" y=\"2.8104999999999993\" style=\"\">I</text></g></g></g></g></g></svg><div class=\"toyplot-behavior\"><script>(function()\n",
       "{\n",
       "var modules={};\n",
       "})();</script></div></div>"
      ]
     },
     "metadata": {},
     "output_type": "display_data"
    }
   ],
   "source": [
    "t0.draw('s');"
   ]
  },
  {
   "cell_type": "code",
   "execution_count": 62,
   "id": "759abcb5",
   "metadata": {},
   "outputs": [
    {
     "data": {
      "text/html": [
       "<div>\n",
       "<style scoped>\n",
       "    .dataframe tbody tr th:only-of-type {\n",
       "        vertical-align: middle;\n",
       "    }\n",
       "\n",
       "    .dataframe tbody tr th {\n",
       "        vertical-align: top;\n",
       "    }\n",
       "\n",
       "    .dataframe thead th {\n",
       "        text-align: right;\n",
       "    }\n",
       "</style>\n",
       "<table border=\"1\" class=\"dataframe\">\n",
       "  <thead>\n",
       "    <tr style=\"text-align: right;\">\n",
       "      <th></th>\n",
       "      <th>0</th>\n",
       "      <th>1</th>\n",
       "    </tr>\n",
       "  </thead>\n",
       "  <tbody>\n",
       "    <tr>\n",
       "      <th>0</th>\n",
       "      <td>(A, B)</td>\n",
       "      <td>(C, D, E, F, G, H, I)</td>\n",
       "    </tr>\n",
       "    <tr>\n",
       "      <th>1</th>\n",
       "      <td>(D, E)</td>\n",
       "      <td>(A, B, C, F, G, H, I)</td>\n",
       "    </tr>\n",
       "    <tr>\n",
       "      <th>2</th>\n",
       "      <td>(C, D, E)</td>\n",
       "      <td>(A, B, F, G, H, I)</td>\n",
       "    </tr>\n",
       "    <tr>\n",
       "      <th>3</th>\n",
       "      <td>(H, I)</td>\n",
       "      <td>(A, B, C, D, E, F, G)</td>\n",
       "    </tr>\n",
       "    <tr>\n",
       "      <th>4</th>\n",
       "      <td>(G, H, I)</td>\n",
       "      <td>(A, B, C, D, E, F)</td>\n",
       "    </tr>\n",
       "    <tr>\n",
       "      <th>5</th>\n",
       "      <td>(F, G, H, I)</td>\n",
       "      <td>(A, B, C, D, E)</td>\n",
       "    </tr>\n",
       "  </tbody>\n",
       "</table>\n",
       "</div>"
      ],
      "text/plain": [
       "              0                      1\n",
       "0        (A, B)  (C, D, E, F, G, H, I)\n",
       "1        (D, E)  (A, B, C, F, G, H, I)\n",
       "2     (C, D, E)     (A, B, F, G, H, I)\n",
       "3        (H, I)  (A, B, C, D, E, F, G)\n",
       "4     (G, H, I)     (A, B, C, D, E, F)\n",
       "5  (F, G, H, I)        (A, B, C, D, E)"
      ]
     },
     "execution_count": 62,
     "metadata": {},
     "output_type": "execute_result"
    }
   ],
   "source": [
    "t0.get_bipartitions()"
   ]
  },
  {
   "cell_type": "code",
   "execution_count": 63,
   "id": "2f391243",
   "metadata": {},
   "outputs": [
    {
     "data": {
      "text/html": [
       "<div>\n",
       "<style scoped>\n",
       "    .dataframe tbody tr th:only-of-type {\n",
       "        vertical-align: middle;\n",
       "    }\n",
       "\n",
       "    .dataframe tbody tr th {\n",
       "        vertical-align: top;\n",
       "    }\n",
       "\n",
       "    .dataframe thead th {\n",
       "        text-align: right;\n",
       "    }\n",
       "</style>\n",
       "<table border=\"1\" class=\"dataframe\">\n",
       "  <thead>\n",
       "    <tr style=\"text-align: right;\">\n",
       "      <th></th>\n",
       "      <th>0</th>\n",
       "      <th>1</th>\n",
       "    </tr>\n",
       "  </thead>\n",
       "  <tbody>\n",
       "    <tr>\n",
       "      <th>0</th>\n",
       "      <td>(A, B)</td>\n",
       "      <td>(C, D, E, F, G, H, I)</td>\n",
       "    </tr>\n",
       "    <tr>\n",
       "      <th>1</th>\n",
       "      <td>(E, I)</td>\n",
       "      <td>(A, B, C, D, F, G, H)</td>\n",
       "    </tr>\n",
       "    <tr>\n",
       "      <th>2</th>\n",
       "      <td>(C, D, E, I)</td>\n",
       "      <td>(A, B, F, G, H)</td>\n",
       "    </tr>\n",
       "    <tr>\n",
       "      <th>3</th>\n",
       "      <td>(G, H)</td>\n",
       "      <td>(A, B, C, D, E, F, I)</td>\n",
       "    </tr>\n",
       "    <tr>\n",
       "      <th>4</th>\n",
       "      <td>(F, G, H)</td>\n",
       "      <td>(A, B, C, D, E, I)</td>\n",
       "    </tr>\n",
       "  </tbody>\n",
       "</table>\n",
       "</div>"
      ],
      "text/plain": [
       "              0                      1\n",
       "0        (A, B)  (C, D, E, F, G, H, I)\n",
       "1        (E, I)  (A, B, C, D, F, G, H)\n",
       "2  (C, D, E, I)        (A, B, F, G, H)\n",
       "3        (G, H)  (A, B, C, D, E, F, I)\n",
       "4     (F, G, H)     (A, B, C, D, E, I)"
      ]
     },
     "execution_count": 63,
     "metadata": {},
     "output_type": "execute_result"
    }
   ],
   "source": [
    "t1.get_bipartitions()"
   ]
  },
  {
   "cell_type": "code",
   "execution_count": 25,
   "id": "7921925b",
   "metadata": {},
   "outputs": [
    {
     "data": {
      "text/html": [
       "<div class=\"toyplot\" id=\"t0f9269830be742aead577da399f2208b\" style=\"text-align:center\"><svg class=\"toyplot-canvas-Canvas\" xmlns:toyplot=\"http://www.sandia.gov/toyplot\" xmlns:xlink=\"http://www.w3.org/1999/xlink\" xmlns=\"http://www.w3.org/2000/svg\" width=\"255.0px\" height=\"275.0px\" viewBox=\"0 0 255.0 275.0\" preserveAspectRatio=\"xMidYMid meet\" style=\"background-color:transparent;border-color:#292724;border-style:none;border-width:1.0;fill:rgb(16.1%,15.3%,14.1%);fill-opacity:1.0;font-family:Helvetica;font-size:12px;opacity:1.0;stroke:rgb(16.1%,15.3%,14.1%);stroke-opacity:1.0;stroke-width:1.0\" id=\"ta2bd7ec96b2a4d2ea872c975500bca01\"><g class=\"toyplot-coordinates-Cartesian\" id=\"tc3308531f19546bcba9a7e118487f5b8\"><clipPath id=\"t9aee0319c2bf4325aec3d42bbf4d2061\"><rect x=\"35.0\" y=\"35.0\" width=\"185.0\" height=\"205.0\"></rect></clipPath><g clip-path=\"url(#t9aee0319c2bf4325aec3d42bbf4d2061)\"><g class=\"toytree-mark-Toytree\" id=\"ta7b571b5530c4397b46b15af65870913\"><g class=\"toytree-Edges\" style=\"fill:none;stroke:rgba(16.1%,15.3%,14.1%,1.000);stroke-linecap:round;stroke-width:2.0\"><path d=\"M 73.9 208.7 L 73.9 218.9 L 97.8 218.9\" id=\"9,0\" style=\"stroke-width:nan\"></path><path d=\"M 73.9 208.7 L 73.9 198.5 L 97.8 198.5\" id=\"9,1\" style=\"stroke-width:nan\"></path><path d=\"M 97.8 162.9 L 97.8 178.2 L 121.8 178.2\" id=\"11,2\" style=\"stroke-width:nan\"></path><path d=\"M 121.8 147.7 L 121.8 157.8 L 145.7 157.8\" id=\"10,3\" style=\"stroke-width:nan\"></path><path d=\"M 121.8 147.7 L 121.8 137.5 L 145.7 137.5\" id=\"10,4\" style=\"stroke-width:nan\"></path><path d=\"M 97.8 99.4 L 97.8 117.2 L 121.8 117.2\" id=\"14,5\" style=\"stroke-width:nan\"></path><path d=\"M 121.8 81.6 L 121.8 96.8 L 145.7 96.8\" id=\"13,6\" style=\"stroke-width:nan\"></path><path d=\"M 145.7 66.3 L 145.7 76.5 L 169.6 76.5\" id=\"12,7\" style=\"stroke-width:nan\"></path><path d=\"M 145.7 66.3 L 145.7 56.1 L 169.6 56.1\" id=\"12,8\" style=\"stroke-width:nan\"></path><path d=\"M 50.0 169.9 L 50.0 208.7 L 73.9 208.7\" id=\"16,9\" style=\"stroke-width:nan\"></path><path d=\"M 97.8 162.9 L 97.8 147.7 L 121.8 147.7\" id=\"11,10\" style=\"stroke-width:nan\"></path><path d=\"M 73.9 131.1 L 73.9 162.9 L 97.8 162.9\" id=\"15,11\" style=\"stroke-width:nan\"></path><path d=\"M 121.8 81.6 L 121.8 66.3 L 145.7 66.3\" id=\"13,12\" style=\"stroke-width:nan\"></path><path d=\"M 97.8 99.4 L 97.8 81.6 L 121.8 81.6\" id=\"14,13\" style=\"stroke-width:nan\"></path><path d=\"M 73.9 131.1 L 73.9 99.4 L 97.8 99.4\" id=\"15,14\" style=\"stroke-width:nan\"></path><path d=\"M 50.0 169.9 L 50.0 131.1 L 73.9 131.1\" id=\"16,15\" style=\"stroke-width:nan\"></path></g><g class=\"toytree-TipLabels\" style=\"fill:rgb(16.1%,15.3%,14.1%);fill-opacity:1.0;font-family:Helvetica;font-size:11.0px;font-weight:300;stroke:none;vertical-align:baseline;white-space:pre\"><g class=\"toytree-TipLabel\" transform=\"translate(97.8385535931184,218.86291179596174)\"><text x=\"15.0\" y=\"2.8104999999999993\" style=\"\">A</text></g><g class=\"toytree-TipLabel\" transform=\"translate(97.8385535931184,198.5221838469713)\"><text x=\"15.0\" y=\"2.8104999999999993\" style=\"\">B</text></g><g class=\"toytree-TipLabel\" transform=\"translate(121.75783038967762,178.18145589798087)\"><text x=\"15.0\" y=\"2.8104999999999993\" style=\"\">C</text></g><g class=\"toytree-TipLabel\" transform=\"translate(145.6771071862368,157.8407279489904)\"><text x=\"15.0\" y=\"2.8104999999999993\" style=\"\">D</text></g><g class=\"toytree-TipLabel\" transform=\"translate(145.6771071862368,137.49999999999997)\"><text x=\"15.0\" y=\"2.8104999999999993\" style=\"\">E</text></g><g class=\"toytree-TipLabel\" transform=\"translate(121.75783038967762,117.15927205100954)\"><text x=\"15.0\" y=\"2.8104999999999993\" style=\"\">F</text></g><g class=\"toytree-TipLabel\" transform=\"translate(145.6771071862368,96.8185441020191)\"><text x=\"15.0\" y=\"2.8104999999999993\" style=\"\">G</text></g><g class=\"toytree-TipLabel\" transform=\"translate(169.59638398279603,76.47781615302866)\"><text x=\"15.0\" y=\"2.8104999999999993\" style=\"\">H</text></g><g class=\"toytree-TipLabel\" transform=\"translate(169.59638398279603,56.137088204038236)\"><text x=\"15.0\" y=\"2.8104999999999993\" style=\"\">I</text></g></g></g></g></g></svg><div class=\"toyplot-behavior\"><script>(function()\n",
       "{\n",
       "var modules={};\n",
       "})();</script></div></div>"
      ]
     },
     "metadata": {},
     "output_type": "display_data"
    }
   ],
   "source": [
    "t0.draw();"
   ]
  },
  {
   "cell_type": "code",
   "execution_count": 26,
   "id": "eb9ddd0f",
   "metadata": {},
   "outputs": [
    {
     "data": {
      "text/html": [
       "<div class=\"toyplot\" id=\"t42f5275bd12e4886b91cbfb80f7c0708\" style=\"text-align:center\"><svg class=\"toyplot-canvas-Canvas\" xmlns:toyplot=\"http://www.sandia.gov/toyplot\" xmlns:xlink=\"http://www.w3.org/1999/xlink\" xmlns=\"http://www.w3.org/2000/svg\" width=\"255.0px\" height=\"275.0px\" viewBox=\"0 0 255.0 275.0\" preserveAspectRatio=\"xMidYMid meet\" style=\"background-color:transparent;border-color:#292724;border-style:none;border-width:1.0;fill:rgb(16.1%,15.3%,14.1%);fill-opacity:1.0;font-family:Helvetica;font-size:12px;opacity:1.0;stroke:rgb(16.1%,15.3%,14.1%);stroke-opacity:1.0;stroke-width:1.0\" id=\"ta1e578d7937944d68d3380a3a1d700e2\"><g class=\"toyplot-coordinates-Cartesian\" id=\"t05f2aee25e2d404f80f5ed4705c007a5\"><clipPath id=\"tbce77f0ca02742d4a4aed8819f19c5d1\"><rect x=\"35.0\" y=\"35.0\" width=\"185.0\" height=\"205.0\"></rect></clipPath><g clip-path=\"url(#tbce77f0ca02742d4a4aed8819f19c5d1)\"><g class=\"toytree-mark-Toytree\" id=\"t7e010ee8d60a4d838536f1024c316b27\"><g class=\"toytree-Edges\" style=\"fill:none;stroke:rgba(16.1%,15.3%,14.1%,1.000);stroke-linecap:round;stroke-width:2.0\"><path d=\"M 79.7 208.7 L 79.7 218.9 L 109.4 218.9\" id=\"9,0\" style=\"stroke-width:nan\"></path><path d=\"M 79.7 208.7 L 79.7 198.5 L 109.4 198.5\" id=\"9,1\" style=\"stroke-width:nan\"></path><path d=\"M 109.4 154.5 L 109.4 178.2 L 139.2 178.2\" id=\"11,2\" style=\"stroke-width:nan\"></path><path d=\"M 109.4 154.5 L 109.4 157.8 L 139.2 157.8\" id=\"11,3\" style=\"stroke-width:nan\"></path><path d=\"M 139.2 127.3 L 139.2 137.5 L 168.9 137.5\" id=\"10,4\" style=\"stroke-width:nan\"></path><path d=\"M 139.2 127.3 L 139.2 117.2 L 168.9 117.2\" id=\"10,5\" style=\"stroke-width:nan\"></path><path d=\"M 109.4 81.6 L 109.4 96.8 L 139.2 96.8\" id=\"13,6\" style=\"stroke-width:nan\"></path><path d=\"M 139.2 66.3 L 139.2 76.5 L 168.9 76.5\" id=\"12,7\" style=\"stroke-width:nan\"></path><path d=\"M 139.2 66.3 L 139.2 56.1 L 168.9 56.1\" id=\"12,8\" style=\"stroke-width:nan\"></path><path d=\"M 50.0 163.3 L 50.0 208.7 L 79.7 208.7\" id=\"15,9\" style=\"stroke-width:nan\"></path><path d=\"M 109.4 154.5 L 109.4 127.3 L 139.2 127.3\" id=\"11,10\" style=\"stroke-width:nan\"></path><path d=\"M 79.7 118.0 L 79.7 154.5 L 109.4 154.5\" id=\"14,11\" style=\"stroke-width:nan\"></path><path d=\"M 109.4 81.6 L 109.4 66.3 L 139.2 66.3\" id=\"13,12\" style=\"stroke-width:nan\"></path><path d=\"M 79.7 118.0 L 79.7 81.6 L 109.4 81.6\" id=\"14,13\" style=\"stroke-width:nan\"></path><path d=\"M 50.0 163.3 L 50.0 118.0 L 79.7 118.0\" id=\"15,14\" style=\"stroke-width:nan\"></path></g><g class=\"toytree-TipLabels\" style=\"fill:rgb(16.1%,15.3%,14.1%);fill-opacity:1.0;font-family:Helvetica;font-size:11.0px;font-weight:300;stroke:none;vertical-align:baseline;white-space:pre\"><g class=\"toytree-TipLabel\" transform=\"translate(109.43369154347009,218.86291179596174)\"><text x=\"15.0\" y=\"2.8104999999999993\" style=\"\">A</text></g><g class=\"toytree-TipLabel\" transform=\"translate(109.43369154347009,198.5221838469713)\"><text x=\"15.0\" y=\"2.8104999999999993\" style=\"\">B</text></g><g class=\"toytree-TipLabel\" transform=\"translate(139.15053731520513,178.18145589798087)\"><text x=\"15.0\" y=\"2.8104999999999993\" style=\"\">C</text></g><g class=\"toytree-TipLabel\" transform=\"translate(139.15053731520513,157.8407279489904)\"><text x=\"15.0\" y=\"2.8104999999999993\" style=\"\">D</text></g><g class=\"toytree-TipLabel\" transform=\"translate(168.86738308694018,137.49999999999997)\"><text x=\"15.0\" y=\"2.8104999999999993\" style=\"\">E</text></g><g class=\"toytree-TipLabel\" transform=\"translate(168.86738308694018,117.15927205100954)\"><text x=\"15.0\" y=\"2.8104999999999993\" style=\"\">I</text></g><g class=\"toytree-TipLabel\" transform=\"translate(139.15053731520513,96.8185441020191)\"><text x=\"15.0\" y=\"2.8104999999999993\" style=\"\">F</text></g><g class=\"toytree-TipLabel\" transform=\"translate(168.86738308694018,76.47781615302866)\"><text x=\"15.0\" y=\"2.8104999999999993\" style=\"\">G</text></g><g class=\"toytree-TipLabel\" transform=\"translate(168.86738308694018,56.137088204038236)\"><text x=\"15.0\" y=\"2.8104999999999993\" style=\"\">H</text></g></g></g></g></g></svg><div class=\"toyplot-behavior\"><script>(function()\n",
       "{\n",
       "var modules={};\n",
       "})();</script></div></div>"
      ]
     },
     "metadata": {},
     "output_type": "display_data"
    }
   ],
   "source": [
    "t1.draw();"
   ]
  },
  {
   "cell_type": "code",
   "execution_count": 54,
   "id": "fe4673bf",
   "metadata": {},
   "outputs": [
    {
     "data": {
      "text/plain": [
       "((('A', 'B'), ('C', 'D', 'E', 'F', 'G', 'H', 'I')),\n",
       " (('E', 'I'), ('A', 'B', 'C', 'D', 'F', 'G', 'H')))"
      ]
     },
     "execution_count": 54,
     "metadata": {},
     "output_type": "execute_result"
    }
   ],
   "source": [
    "set1 = list(t0._iter_bipartitions())[0]\n",
    "set2 = list(t1._iter_bipartitions())[1]\n",
    "\n",
    "set1, set2\n"
   ]
  },
  {
   "cell_type": "code",
   "execution_count": null,
   "id": "6667d2a7",
   "metadata": {},
   "outputs": [],
   "source": []
  },
  {
   "cell_type": "code",
   "execution_count": 22,
   "id": "b9948c0a",
   "metadata": {},
   "outputs": [
    {
     "data": {
      "text/plain": [
       "2.321928094887362"
      ]
     },
     "execution_count": 22,
     "metadata": {},
     "output_type": "execute_result"
    }
   ],
   "source": [
    "_get_split_phylo_info(((1, 2, 3), (4, 5)))"
   ]
  },
  {
   "cell_type": "code",
   "execution_count": 4,
   "id": "65e3a63b",
   "metadata": {},
   "outputs": [
    {
     "data": {
      "text/plain": [
       "5.129283016944966"
      ]
     },
     "execution_count": 4,
     "metadata": {},
     "output_type": "execute_result"
    }
   ],
   "source": [
    "treesMatchingBoth = _get_trees_matching_two_splits(6, 3, 2) # 3\n",
    "combinedInformation = _get_phylo_info_two_splits(6, 3, 2)\n",
    "combinedInformation\n"
   ]
  },
  {
   "cell_type": "code",
   "execution_count": 2,
   "id": "b11c5604",
   "metadata": {},
   "outputs": [],
   "source": [
    "# ecolor = (t\n",
    "#     .set_node_data('ecolor', {i: 'red' for i in (8, 10, 13)}, default=\"black\")\n",
    "#     .get_node_data('ecolor')\n",
    "# )"
   ]
  },
  {
   "cell_type": "code",
   "execution_count": 7,
   "id": "04db7aa8",
   "metadata": {},
   "outputs": [],
   "source": [
    "from scipy.special import factorial2"
   ]
  },
  {
   "cell_type": "code",
   "execution_count": 8,
   "id": "7d737bb2",
   "metadata": {},
   "outputs": [],
   "source": [
    "def _split_phylogenetic_probability(split) -> float:\n",
    "    \"\"\"Return the phylogenetic probability of a split sensu Martin Smith 2020.\n",
    "\n",
    "    This is the probability that a randomly sampled binary tree of \n",
    "    size X contains the split S. It is used in rf-info.\n",
    "    \"\"\"\n",
    "    size_a = len(split[0])\n",
    "    size_b = len(split[1])\n",
    "    size_x = size_a + size_b\n",
    "    return (\n",
    "        factorial2(2 * size_a - 3)\n",
    "        * factorial2(2 * size_b - 3)\n",
    "        / factorial2(2 * size_x - 5)\n",
    "    )"
   ]
  },
  {
   "cell_type": "code",
   "execution_count": 10,
   "id": "851d99fb",
   "metadata": {},
   "outputs": [],
   "source": [
    "t0 = toytree.tree('((A, B), ((C, (D, E)), (F, (G, (H, I)))));')\n",
    "t1 = toytree.tree('((A, B), ((C, D, (E, I)), (F, (G, H))));')"
   ]
  },
  {
   "cell_type": "code",
   "execution_count": 10,
   "id": "5d9e9289",
   "metadata": {},
   "outputs": [],
   "source": [
    "##           [,1]      [,2]      [,3]      [,4]      [,5]\n",
    "## [1,] 3.7004397 0.8930848 0.2410081 0.5305147 0.2410081\n",
    "## [2,] 0.5305147 3.2529807 0.0000000 1.1825914 0.5305147\n",
    "## [3,] 0.2410081 1.3785116 0.0000000 0.5305147 0.2410081\n",
    "## [4,] 0.8930848 0.0000000 0.0000000 3.2529807 1.3785116\n",
    "## [5,] 0.5305147 0.0000000 0.0000000 0.0000000 2.1154772\n",
    "## [6,] 0.2410081 0.0000000 0.0000000 0.0000000 0.0000000"
   ]
  },
  {
   "cell_type": "code",
   "execution_count": 12,
   "id": "a0b77f07",
   "metadata": {},
   "outputs": [
    {
     "data": {
      "text/plain": [
       "105"
      ]
     },
     "execution_count": 12,
     "metadata": {},
     "output_type": "execute_result"
    }
   ],
   "source": [
    "# number of trees\n",
    "int(factorial2(2 * 6 - 5))"
   ]
  },
  {
   "cell_type": "code",
   "execution_count": null,
   "id": "11bdeff4",
   "metadata": {},
   "outputs": [],
   "source": [
    "factorial2(2 * size_a - 3) * factorial2(2 * size_b - 3)\n"
   ]
  },
  {
   "cell_type": "code",
   "execution_count": 13,
   "id": "1e70ce85",
   "metadata": {},
   "outputs": [
    {
     "ename": "NameError",
     "evalue": "name 't0' is not defined",
     "output_type": "error",
     "traceback": [
      "\u001b[0;31m---------------------------------------------------------------------------\u001b[0m",
      "\u001b[0;31mNameError\u001b[0m                                 Traceback (most recent call last)",
      "\u001b[0;32m/tmp/ipykernel_1365396/3252245427.py\u001b[0m in \u001b[0;36m<module>\u001b[0;34m\u001b[0m\n\u001b[0;32m----> 1\u001b[0;31m \u001b[0mt0\u001b[0m\u001b[0;34m\u001b[0m\u001b[0;34m\u001b[0m\u001b[0m\n\u001b[0m",
      "\u001b[0;31mNameError\u001b[0m: name 't0' is not defined"
     ]
    }
   ],
   "source": [
    "t0"
   ]
  },
  {
   "cell_type": "code",
   "execution_count": 16,
   "id": "7b1940c9",
   "metadata": {
    "scrolled": true
   },
   "outputs": [
    {
     "data": {
      "text/html": [
       "<div>\n",
       "<style scoped>\n",
       "    .dataframe tbody tr th:only-of-type {\n",
       "        vertical-align: middle;\n",
       "    }\n",
       "\n",
       "    .dataframe tbody tr th {\n",
       "        vertical-align: top;\n",
       "    }\n",
       "\n",
       "    .dataframe thead th {\n",
       "        text-align: right;\n",
       "    }\n",
       "</style>\n",
       "<table border=\"1\" class=\"dataframe\">\n",
       "  <thead>\n",
       "    <tr style=\"text-align: right;\">\n",
       "      <th></th>\n",
       "      <th>0</th>\n",
       "      <th>1</th>\n",
       "    </tr>\n",
       "  </thead>\n",
       "  <tbody>\n",
       "    <tr>\n",
       "      <th>0</th>\n",
       "      <td>(A, B)</td>\n",
       "      <td>(C, D, E, F, G, H, I)</td>\n",
       "    </tr>\n",
       "    <tr>\n",
       "      <th>1</th>\n",
       "      <td>(D, E)</td>\n",
       "      <td>(A, B, C, F, G, H, I)</td>\n",
       "    </tr>\n",
       "    <tr>\n",
       "      <th>2</th>\n",
       "      <td>(C, D, E)</td>\n",
       "      <td>(A, B, F, G, H, I)</td>\n",
       "    </tr>\n",
       "    <tr>\n",
       "      <th>3</th>\n",
       "      <td>(H, I)</td>\n",
       "      <td>(A, B, C, D, E, F, G)</td>\n",
       "    </tr>\n",
       "    <tr>\n",
       "      <th>4</th>\n",
       "      <td>(G, H, I)</td>\n",
       "      <td>(A, B, C, D, E, F)</td>\n",
       "    </tr>\n",
       "    <tr>\n",
       "      <th>5</th>\n",
       "      <td>(F, G, H, I)</td>\n",
       "      <td>(A, B, C, D, E)</td>\n",
       "    </tr>\n",
       "  </tbody>\n",
       "</table>\n",
       "</div>"
      ],
      "text/plain": [
       "              0                      1\n",
       "0        (A, B)  (C, D, E, F, G, H, I)\n",
       "1        (D, E)  (A, B, C, F, G, H, I)\n",
       "2     (C, D, E)     (A, B, F, G, H, I)\n",
       "3        (H, I)  (A, B, C, D, E, F, G)\n",
       "4     (G, H, I)     (A, B, C, D, E, F)\n",
       "5  (F, G, H, I)        (A, B, C, D, E)"
      ]
     },
     "execution_count": 16,
     "metadata": {},
     "output_type": "execute_result"
    }
   ],
   "source": [
    "t0.get_bipartitions()"
   ]
  },
  {
   "cell_type": "code",
   "execution_count": 17,
   "id": "64e8f63b",
   "metadata": {
    "scrolled": true
   },
   "outputs": [
    {
     "data": {
      "text/html": [
       "<div>\n",
       "<style scoped>\n",
       "    .dataframe tbody tr th:only-of-type {\n",
       "        vertical-align: middle;\n",
       "    }\n",
       "\n",
       "    .dataframe tbody tr th {\n",
       "        vertical-align: top;\n",
       "    }\n",
       "\n",
       "    .dataframe thead th {\n",
       "        text-align: right;\n",
       "    }\n",
       "</style>\n",
       "<table border=\"1\" class=\"dataframe\">\n",
       "  <thead>\n",
       "    <tr style=\"text-align: right;\">\n",
       "      <th></th>\n",
       "      <th>0</th>\n",
       "      <th>1</th>\n",
       "    </tr>\n",
       "  </thead>\n",
       "  <tbody>\n",
       "    <tr>\n",
       "      <th>0</th>\n",
       "      <td>(A, B)</td>\n",
       "      <td>(C, D, E, F, G, H, I)</td>\n",
       "    </tr>\n",
       "    <tr>\n",
       "      <th>1</th>\n",
       "      <td>(E, I)</td>\n",
       "      <td>(A, B, C, D, F, G, H)</td>\n",
       "    </tr>\n",
       "    <tr>\n",
       "      <th>2</th>\n",
       "      <td>(C, D, E, I)</td>\n",
       "      <td>(A, B, F, G, H)</td>\n",
       "    </tr>\n",
       "    <tr>\n",
       "      <th>3</th>\n",
       "      <td>(G, H)</td>\n",
       "      <td>(A, B, C, D, E, F, I)</td>\n",
       "    </tr>\n",
       "    <tr>\n",
       "      <th>4</th>\n",
       "      <td>(F, G, H)</td>\n",
       "      <td>(A, B, C, D, E, I)</td>\n",
       "    </tr>\n",
       "  </tbody>\n",
       "</table>\n",
       "</div>"
      ],
      "text/plain": [
       "              0                      1\n",
       "0        (A, B)  (C, D, E, F, G, H, I)\n",
       "1        (E, I)  (A, B, C, D, F, G, H)\n",
       "2  (C, D, E, I)        (A, B, F, G, H)\n",
       "3        (G, H)  (A, B, C, D, E, F, I)\n",
       "4     (F, G, H)     (A, B, C, D, E, I)"
      ]
     },
     "execution_count": 17,
     "metadata": {},
     "output_type": "execute_result"
    }
   ],
   "source": [
    "t1.get_bipartitions()"
   ]
  },
  {
   "cell_type": "code",
   "execution_count": 127,
   "id": "6493e1fa",
   "metadata": {},
   "outputs": [
    {
     "data": {
      "text/plain": [
       "array([[0., 0., 0., 0., 0.],\n",
       "       [0., 0., 0., 0., 0.],\n",
       "       [0., 0., 0., 0., 0.],\n",
       "       [0., 0., 0., 0., 0.],\n",
       "       [0., 0., 0., 0., 0.]])"
      ]
     },
     "execution_count": 127,
     "metadata": {},
     "output_type": "execute_result"
    }
   ],
   "source": [
    "arr = np.zeros((5, 5))\n",
    "arr[0, 0] = \n",
    "\n",
    "arr"
   ]
  },
  {
   "cell_type": "code",
   "execution_count": 107,
   "id": "18b2970c",
   "metadata": {},
   "outputs": [
    {
     "data": {
      "text/plain": [
       "'((((r0,r1),(r2,r3)),(r4,r5)),(r6,r7));'"
      ]
     },
     "execution_count": 107,
     "metadata": {},
     "output_type": "execute_result"
    }
   ],
   "source": [
    "tree1.write(dist_formatter=None, internal_labels=None)"
   ]
  },
  {
   "cell_type": "code",
   "execution_count": 98,
   "id": "c9ed107f",
   "metadata": {},
   "outputs": [
    {
     "name": "stdout",
     "output_type": "stream",
     "text": [
      "/tmp/tmp060vz529\n",
      "hi\n"
     ]
    }
   ],
   "source": [
    "with tempfile.NamedTemporaryFile(mode='w+', encoding=\"utf-8\") as out:\n",
    "    out.write(\"hi\")\n",
    "    print(out.name)\n",
    "    out.flush()\n",
    "    with open(out.name) as i:\n",
    "        print(i.read())\n",
    "        "
   ]
  },
  {
   "cell_type": "code",
   "execution_count": 70,
   "id": "88f3b5be",
   "metadata": {},
   "outputs": [
    {
     "data": {
      "text/plain": [
       "-2.584962500721156"
      ]
     },
     "execution_count": 70,
     "metadata": {},
     "output_type": "execute_result"
    }
   ],
   "source": [
    "-np.log2(3 + 3)"
   ]
  },
  {
   "cell_type": "code",
   "execution_count": 71,
   "id": "cf30b6d4",
   "metadata": {},
   "outputs": [
    {
     "data": {
      "text/plain": [
       "-3.169925001442312"
      ]
     },
     "execution_count": 71,
     "metadata": {},
     "output_type": "execute_result"
    }
   ],
   "source": [
    "-np.log2(3) + -np.log2(3)"
   ]
  },
  {
   "cell_type": "code",
   "execution_count": 48,
   "id": "8be5d586",
   "metadata": {},
   "outputs": [
    {
     "data": {
      "text/plain": [
       "[(('r0',), ('r1', 'r2', 'r3', 'r4', 'r5', 'r6', 'r7')),\n",
       " (('r1',), ('r0', 'r2', 'r3', 'r4', 'r5', 'r6', 'r7')),\n",
       " (('r2',), ('r0', 'r1', 'r3', 'r4', 'r5', 'r6', 'r7')),\n",
       " (('r3',), ('r0', 'r1', 'r2', 'r4', 'r5', 'r6', 'r7')),\n",
       " (('r4',), ('r0', 'r1', 'r2', 'r3', 'r5', 'r6', 'r7')),\n",
       " (('r5',), ('r0', 'r1', 'r2', 'r3', 'r4', 'r6', 'r7')),\n",
       " (('r6',), ('r0', 'r1', 'r2', 'r3', 'r4', 'r5', 'r7')),\n",
       " (('r7',), ('r0', 'r1', 'r2', 'r3', 'r4', 'r5', 'r6')),\n",
       " (('r0', 'r1'), ('r2', 'r3', 'r4', 'r5', 'r6', 'r7')),\n",
       " (('r2', 'r3'), ('r0', 'r1', 'r4', 'r5', 'r6', 'r7')),\n",
       " (('r0', 'r1', 'r2', 'r3'), ('r4', 'r5', 'r6', 'r7')),\n",
       " (('r4', 'r5'), ('r0', 'r1', 'r2', 'r3', 'r6', 'r7')),\n",
       " (('r6', 'r7'), ('r0', 'r1', 'r2', 'r3', 'r4', 'r5'))]"
      ]
     },
     "execution_count": 48,
     "metadata": {},
     "output_type": "execute_result"
    }
   ],
   "source": [
    "biparts = list(t._iter_bipartitions())\n",
    "biparts"
   ]
  },
  {
   "cell_type": "code",
   "execution_count": 49,
   "id": "6cba2386",
   "metadata": {},
   "outputs": [
    {
     "data": {
      "text/html": [
       "<div class=\"toyplot\" id=\"t1f5a7f67302540f3bde00663717e089c\" style=\"text-align:center\"><svg class=\"toyplot-canvas-Canvas\" xmlns:toyplot=\"http://www.sandia.gov/toyplot\" xmlns:xlink=\"http://www.w3.org/1999/xlink\" xmlns=\"http://www.w3.org/2000/svg\" width=\"260.0px\" height=\"275.0px\" viewBox=\"0 0 260.0 275.0\" preserveAspectRatio=\"xMidYMid meet\" style=\"background-color:transparent;border-color:#292724;border-style:none;border-width:1.0;fill:rgb(16.1%,15.3%,14.1%);fill-opacity:1.0;font-family:Helvetica;font-size:12px;opacity:1.0;stroke:rgb(16.1%,15.3%,14.1%);stroke-opacity:1.0;stroke-width:1.0\" id=\"tbf4e680809c24902a1a82845593067d4\"><g class=\"toyplot-coordinates-Cartesian\" id=\"t7e24d09e34d740e5add62d30058fcb31\"><clipPath id=\"t7dfdde9161304d5aad7785cec47cbeaa\"><rect x=\"35.0\" y=\"35.0\" width=\"190.0\" height=\"205.0\"></rect></clipPath><g clip-path=\"url(#t7dfdde9161304d5aad7785cec47cbeaa)\"><g class=\"toytree-mark-Toytree\" id=\"t56d282222fd94a52a713e2cfa7ce4534\"><g class=\"toytree-Edges\" style=\"fill:none;stroke-linecap:round;stroke-width:2.0\"><path d=\"M 134.7 205.5 L 134.7 216.8 L 173.7 216.8\" id=\"8,0\" style=\"stroke:rgb(0%,0%,0%);stroke-opacity:1.0;stroke-width:nan\"></path><path d=\"M 134.7 205.5 L 134.7 194.2 L 173.7 194.2\" id=\"8,1\" style=\"stroke:rgb(0%,0%,0%);stroke-opacity:1.0;stroke-width:nan\"></path><path d=\"M 134.7 160.2 L 134.7 171.5 L 173.7 171.5\" id=\"9,2\" style=\"stroke:rgb(0%,0%,0%);stroke-opacity:1.0;stroke-width:nan\"></path><path d=\"M 134.7 160.2 L 134.7 148.8 L 173.7 148.8\" id=\"9,3\" style=\"stroke:rgb(0%,0%,0%);stroke-opacity:1.0;stroke-width:nan\"></path><path d=\"M 134.7 114.8 L 134.7 126.2 L 173.7 126.2\" id=\"11,4\" style=\"stroke:rgb(0%,0%,0%);stroke-opacity:1.0;stroke-width:nan\"></path><path d=\"M 134.7 114.8 L 134.7 103.5 L 173.7 103.5\" id=\"11,5\" style=\"stroke:rgb(0%,0%,0%);stroke-opacity:1.0;stroke-width:nan\"></path><path d=\"M 134.7 69.5 L 134.7 80.8 L 173.7 80.8\" id=\"12,6\" style=\"stroke:rgb(0%,0%,0%);stroke-opacity:1.0;stroke-width:nan\"></path><path d=\"M 134.7 69.5 L 134.7 58.2 L 173.7 58.2\" id=\"12,7\" style=\"stroke:rgb(0%,0%,0%);stroke-opacity:1.0;stroke-width:nan\"></path><path d=\"M 95.6 182.8 L 95.6 205.5 L 134.7 205.5\" id=\"10,8\" style=\"stroke:rgb(100%,0%,0%);stroke-opacity:1.0;stroke-width:nan\"></path><path d=\"M 95.6 182.8 L 95.6 160.2 L 134.7 160.2\" id=\"10,9\" style=\"stroke:rgb(0%,0%,0%);stroke-opacity:1.0;stroke-width:nan\"></path><path d=\"M 56.6 137.5 L 56.6 182.8 L 95.6 182.8\" id=\"14,10\" style=\"stroke:rgb(100%,0%,0%);stroke-opacity:1.0;stroke-width:nan\"></path><path d=\"M 95.6 92.2 L 95.6 114.8 L 134.7 114.8\" id=\"13,11\" style=\"stroke:rgb(0%,0%,0%);stroke-opacity:1.0;stroke-width:nan\"></path><path d=\"M 95.6 92.2 L 95.6 69.5 L 134.7 69.5\" id=\"13,12\" style=\"stroke:rgb(0%,0%,0%);stroke-opacity:1.0;stroke-width:nan\"></path><path d=\"M 56.6 137.5 L 56.6 92.2 L 95.6 92.2\" id=\"14,13\" style=\"stroke:rgb(100%,0%,0%);stroke-opacity:1.0;stroke-width:nan\"></path></g><g class=\"toytree-Nodes\" style=\"fill:rgba(82.7%,82.7%,82.7%,1.000);stroke:#262626;stroke-width:1.5\"><g id=\"node-0\" transform=\"translate(173.720,216.839)\"><circle r=\"9.0\"></circle></g><g id=\"node-1\" transform=\"translate(173.720,194.171)\"><circle r=\"9.0\"></circle></g><g id=\"node-2\" transform=\"translate(173.720,171.503)\"><circle r=\"9.0\"></circle></g><g id=\"node-3\" transform=\"translate(173.720,148.834)\"><circle r=\"9.0\"></circle></g><g id=\"node-4\" transform=\"translate(173.720,126.166)\"><circle r=\"9.0\"></circle></g><g id=\"node-5\" transform=\"translate(173.720,103.497)\"><circle r=\"9.0\"></circle></g><g id=\"node-6\" transform=\"translate(173.720,80.829)\"><circle r=\"9.0\"></circle></g><g id=\"node-7\" transform=\"translate(173.720,58.161)\"><circle r=\"9.0\"></circle></g><g id=\"node-8\" transform=\"translate(134.676,205.505)\"><circle r=\"9.0\"></circle></g><g id=\"node-9\" transform=\"translate(134.676,160.168)\"><circle r=\"9.0\"></circle></g><g id=\"node-10\" transform=\"translate(95.632,182.837)\"><circle r=\"9.0\"></circle></g><g id=\"node-11\" transform=\"translate(134.676,114.832)\"><circle r=\"9.0\"></circle></g><g id=\"node-12\" transform=\"translate(134.676,69.495)\"><circle r=\"9.0\"></circle></g><g id=\"node-13\" transform=\"translate(95.632,92.163)\"><circle r=\"9.0\"></circle></g><g id=\"node-14\" transform=\"translate(56.589,137.500)\"><circle r=\"9.0\"></circle></g></g><g class=\"toytree-NodeLabels\" style=\"font-family:Helvetica;font-size:9.0px;font-weight:300;stroke:none;vertical-align:baseline;white-space:pre\"><g class=\"toytree-NodeLabel\" transform=\"translate(173.7200193998847,216.839378238342)\"><text x=\"-2.5020000000000002\" y=\"2.2995\" style=\"fill:rgb(16.1%,15.3%,14.1%);fill-opacity:1.0\">0</text></g><g class=\"toytree-NodeLabel\" transform=\"translate(173.7200193998847,194.17098445595855)\"><text x=\"-2.5020000000000002\" y=\"2.2995\" style=\"fill:rgb(16.1%,15.3%,14.1%);fill-opacity:1.0\">1</text></g><g class=\"toytree-NodeLabel\" transform=\"translate(173.7200193998847,171.50259067357513)\"><text x=\"-2.5020000000000002\" y=\"2.2995\" style=\"fill:rgb(16.1%,15.3%,14.1%);fill-opacity:1.0\">2</text></g><g class=\"toytree-NodeLabel\" transform=\"translate(173.7200193998847,148.8341968911917)\"><text x=\"-2.5020000000000002\" y=\"2.2995\" style=\"fill:rgb(16.1%,15.3%,14.1%);fill-opacity:1.0\">3</text></g><g class=\"toytree-NodeLabel\" transform=\"translate(173.7200193998847,126.16580310880829)\"><text x=\"-2.5020000000000002\" y=\"2.2995\" style=\"fill:rgb(16.1%,15.3%,14.1%);fill-opacity:1.0\">4</text></g><g class=\"toytree-NodeLabel\" transform=\"translate(173.7200193998847,103.49740932642487)\"><text x=\"-2.5020000000000002\" y=\"2.2995\" style=\"fill:rgb(16.1%,15.3%,14.1%);fill-opacity:1.0\">5</text></g><g class=\"toytree-NodeLabel\" transform=\"translate(173.7200193998847,80.82901554404145)\"><text x=\"-2.5020000000000002\" y=\"2.2995\" style=\"fill:rgb(16.1%,15.3%,14.1%);fill-opacity:1.0\">6</text></g><g class=\"toytree-NodeLabel\" transform=\"translate(173.7200193998847,58.16062176165802)\"><text x=\"-2.5020000000000002\" y=\"2.2995\" style=\"fill:rgb(16.1%,15.3%,14.1%);fill-opacity:1.0\">7</text></g><g class=\"toytree-NodeLabel\" transform=\"translate(134.6762262953846,205.50518134715028)\"><text x=\"-2.5020000000000002\" y=\"2.2995\" style=\"fill:rgb(16.1%,15.3%,14.1%);fill-opacity:1.0\">8</text></g><g class=\"toytree-NodeLabel\" transform=\"translate(134.6762262953846,160.16839378238342)\"><text x=\"-2.5020000000000002\" y=\"2.2995\" style=\"fill:rgb(16.1%,15.3%,14.1%);fill-opacity:1.0\">9</text></g><g class=\"toytree-NodeLabel\" transform=\"translate(95.63243319088448,182.83678756476684)\"><text x=\"-5.0040000000000004\" y=\"2.2995\" style=\"fill:rgb(16.1%,15.3%,14.1%);fill-opacity:1.0\">10</text></g><g class=\"toytree-NodeLabel\" transform=\"translate(134.6762262953846,114.83160621761658)\"><text x=\"-5.0040000000000004\" y=\"2.2995\" style=\"fill:rgb(16.1%,15.3%,14.1%);fill-opacity:1.0\">11</text></g><g class=\"toytree-NodeLabel\" transform=\"translate(134.6762262953846,69.49481865284973)\"><text x=\"-5.0040000000000004\" y=\"2.2995\" style=\"fill:rgb(16.1%,15.3%,14.1%);fill-opacity:1.0\">12</text></g><g class=\"toytree-NodeLabel\" transform=\"translate(95.63243319088448,92.16321243523316)\"><text x=\"-5.0040000000000004\" y=\"2.2995\" style=\"fill:rgb(16.1%,15.3%,14.1%);fill-opacity:1.0\">13</text></g><g class=\"toytree-NodeLabel\" transform=\"translate(56.58864008638438,137.5)\"><text x=\"-5.0040000000000004\" y=\"2.2995\" style=\"fill:rgb(16.1%,15.3%,14.1%);fill-opacity:1.0\">14</text></g></g><g class=\"toytree-TipLabels\" style=\"fill:rgb(16.1%,15.3%,14.1%);fill-opacity:1.0;font-family:Helvetica;font-size:11.0px;font-weight:300;stroke:none;vertical-align:baseline;white-space:pre\"><g class=\"toytree-TipLabel\" transform=\"translate(173.7200193998847,216.839378238342)\"><text x=\"15.0\" y=\"2.8104999999999993\" style=\"\">r0</text></g><g class=\"toytree-TipLabel\" transform=\"translate(173.7200193998847,194.17098445595855)\"><text x=\"15.0\" y=\"2.8104999999999993\" style=\"\">r1</text></g><g class=\"toytree-TipLabel\" transform=\"translate(173.7200193998847,171.50259067357513)\"><text x=\"15.0\" y=\"2.8104999999999993\" style=\"\">r2</text></g><g class=\"toytree-TipLabel\" transform=\"translate(173.7200193998847,148.8341968911917)\"><text x=\"15.0\" y=\"2.8104999999999993\" style=\"\">r3</text></g><g class=\"toytree-TipLabel\" transform=\"translate(173.7200193998847,126.16580310880829)\"><text x=\"15.0\" y=\"2.8104999999999993\" style=\"\">r4</text></g><g class=\"toytree-TipLabel\" transform=\"translate(173.7200193998847,103.49740932642487)\"><text x=\"15.0\" y=\"2.8104999999999993\" style=\"\">r5</text></g><g class=\"toytree-TipLabel\" transform=\"translate(173.7200193998847,80.82901554404145)\"><text x=\"15.0\" y=\"2.8104999999999993\" style=\"\">r6</text></g><g class=\"toytree-TipLabel\" transform=\"translate(173.7200193998847,58.16062176165802)\"><text x=\"15.0\" y=\"2.8104999999999993\" style=\"\">r7</text></g></g></g></g></g></svg><div class=\"toyplot-behavior\"><script>(function()\n",
       "{\n",
       "var modules={};\n",
       "})();</script></div></div>"
      ]
     },
     "metadata": {},
     "output_type": "display_data"
    }
   ],
   "source": [
    "t.draw('s', edge_colors=ecolor);"
   ]
  },
  {
   "cell_type": "code",
   "execution_count": 16,
   "id": "73af15f5",
   "metadata": {},
   "outputs": [
    {
     "data": {
      "text/html": [
       "<div>\n",
       "<style scoped>\n",
       "    .dataframe tbody tr th:only-of-type {\n",
       "        vertical-align: middle;\n",
       "    }\n",
       "\n",
       "    .dataframe tbody tr th {\n",
       "        vertical-align: top;\n",
       "    }\n",
       "\n",
       "    .dataframe thead th {\n",
       "        text-align: right;\n",
       "    }\n",
       "</style>\n",
       "<table border=\"1\" class=\"dataframe\">\n",
       "  <thead>\n",
       "    <tr style=\"text-align: right;\">\n",
       "      <th></th>\n",
       "      <th>0</th>\n",
       "      <th>1</th>\n",
       "    </tr>\n",
       "  </thead>\n",
       "  <tbody>\n",
       "    <tr>\n",
       "      <th>0</th>\n",
       "      <td>(r0,)</td>\n",
       "      <td>(r1, r2, r3, r4, r5, r6, r7)</td>\n",
       "    </tr>\n",
       "    <tr>\n",
       "      <th>1</th>\n",
       "      <td>(r1,)</td>\n",
       "      <td>(r0, r2, r3, r4, r5, r6, r7)</td>\n",
       "    </tr>\n",
       "    <tr>\n",
       "      <th>2</th>\n",
       "      <td>(r2,)</td>\n",
       "      <td>(r0, r1, r3, r4, r5, r6, r7)</td>\n",
       "    </tr>\n",
       "    <tr>\n",
       "      <th>3</th>\n",
       "      <td>(r3,)</td>\n",
       "      <td>(r0, r1, r2, r4, r5, r6, r7)</td>\n",
       "    </tr>\n",
       "    <tr>\n",
       "      <th>4</th>\n",
       "      <td>(r4,)</td>\n",
       "      <td>(r0, r1, r2, r3, r5, r6, r7)</td>\n",
       "    </tr>\n",
       "    <tr>\n",
       "      <th>5</th>\n",
       "      <td>(r5,)</td>\n",
       "      <td>(r0, r1, r2, r3, r4, r6, r7)</td>\n",
       "    </tr>\n",
       "    <tr>\n",
       "      <th>6</th>\n",
       "      <td>(r6,)</td>\n",
       "      <td>(r0, r1, r2, r3, r4, r5, r7)</td>\n",
       "    </tr>\n",
       "    <tr>\n",
       "      <th>7</th>\n",
       "      <td>(r7,)</td>\n",
       "      <td>(r0, r1, r2, r3, r4, r5, r6)</td>\n",
       "    </tr>\n",
       "    <tr>\n",
       "      <th>8</th>\n",
       "      <td>(r0, r1)</td>\n",
       "      <td>(r2, r3, r4, r5, r6, r7)</td>\n",
       "    </tr>\n",
       "    <tr>\n",
       "      <th>9</th>\n",
       "      <td>(r2, r3)</td>\n",
       "      <td>(r0, r1, r4, r5, r6, r7)</td>\n",
       "    </tr>\n",
       "    <tr>\n",
       "      <th>10</th>\n",
       "      <td>(r0, r1, r2, r3)</td>\n",
       "      <td>(r4, r5, r6, r7)</td>\n",
       "    </tr>\n",
       "    <tr>\n",
       "      <th>11</th>\n",
       "      <td>(r4, r5)</td>\n",
       "      <td>(r0, r1, r2, r3, r6, r7)</td>\n",
       "    </tr>\n",
       "    <tr>\n",
       "      <th>12</th>\n",
       "      <td>(r6, r7)</td>\n",
       "      <td>(r0, r1, r2, r3, r4, r5)</td>\n",
       "    </tr>\n",
       "  </tbody>\n",
       "</table>\n",
       "</div>"
      ],
      "text/plain": [
       "                   0                             1\n",
       "0              (r0,)  (r1, r2, r3, r4, r5, r6, r7)\n",
       "1              (r1,)  (r0, r2, r3, r4, r5, r6, r7)\n",
       "2              (r2,)  (r0, r1, r3, r4, r5, r6, r7)\n",
       "3              (r3,)  (r0, r1, r2, r4, r5, r6, r7)\n",
       "4              (r4,)  (r0, r1, r2, r3, r5, r6, r7)\n",
       "5              (r5,)  (r0, r1, r2, r3, r4, r6, r7)\n",
       "6              (r6,)  (r0, r1, r2, r3, r4, r5, r7)\n",
       "7              (r7,)  (r0, r1, r2, r3, r4, r5, r6)\n",
       "8           (r0, r1)      (r2, r3, r4, r5, r6, r7)\n",
       "9           (r2, r3)      (r0, r1, r4, r5, r6, r7)\n",
       "10  (r0, r1, r2, r3)              (r4, r5, r6, r7)\n",
       "11          (r4, r5)      (r0, r1, r2, r3, r6, r7)\n",
       "12          (r6, r7)      (r0, r1, r2, r3, r4, r5)"
      ]
     },
     "execution_count": 16,
     "metadata": {},
     "output_type": "execute_result"
    }
   ],
   "source": [
    "t.get_bipartitions()"
   ]
  },
  {
   "cell_type": "code",
   "execution_count": 14,
   "id": "aab4363b",
   "metadata": {},
   "outputs": [
    {
     "data": {
      "text/html": [
       "<div class=\"toyplot\" id=\"t708e7a4dcf8145189537e5fd2f218edc\" style=\"text-align:center\"><svg class=\"toyplot-canvas-Canvas\" xmlns:toyplot=\"http://www.sandia.gov/toyplot\" xmlns:xlink=\"http://www.w3.org/1999/xlink\" xmlns=\"http://www.w3.org/2000/svg\" width=\"260.0px\" height=\"275.0px\" viewBox=\"0 0 260.0 275.0\" preserveAspectRatio=\"xMidYMid meet\" style=\"background-color:transparent;border-color:#292724;border-style:none;border-width:1.0;fill:rgb(16.1%,15.3%,14.1%);fill-opacity:1.0;font-family:Helvetica;font-size:12px;opacity:1.0;stroke:rgb(16.1%,15.3%,14.1%);stroke-opacity:1.0;stroke-width:1.0\" id=\"te3c3a70fb5c8419ca460d3224c354ec9\"><g class=\"toyplot-coordinates-Cartesian\" id=\"te389b1622e5e495dbc1b17fed302e160\"><clipPath id=\"t8c61e46de14643bf93af836b9af31469\"><rect x=\"35.0\" y=\"35.0\" width=\"190.0\" height=\"205.0\"></rect></clipPath><g clip-path=\"url(#t8c61e46de14643bf93af836b9af31469)\"><g class=\"toytree-mark-Toytree\" id=\"tdd6d65fd27b04c9a94e34d7e91325b09\"><g class=\"toytree-Edges\" style=\"fill:none;stroke:rgba(16.1%,15.3%,14.1%,1.000);stroke-linecap:round;stroke-width:2.0\"><path d=\"M 144.4 208.0 L 144.4 216.8 L 173.7 216.8\" id=\"10,0\" style=\"stroke-width:nan\"></path><path d=\"M 144.4 208.0 L 144.4 199.2 L 173.7 199.2\" id=\"10,1\" style=\"stroke-width:nan\"></path><path d=\"M 115.2 194.8 L 115.2 181.6 L 173.7 181.6\" id=\"11,2\" style=\"stroke-width:nan\"></path><path d=\"M 144.4 155.1 L 144.4 163.9 L 173.7 163.9\" id=\"12,3\" style=\"stroke-width:nan\"></path><path d=\"M 144.4 155.1 L 144.4 146.3 L 173.7 146.3\" id=\"12,4\" style=\"stroke-width:nan\"></path><path d=\"M 144.4 119.9 L 144.4 128.7 L 173.7 128.7\" id=\"14,5\" style=\"stroke-width:nan\"></path><path d=\"M 144.4 119.9 L 144.4 111.1 L 173.7 111.1\" id=\"14,6\" style=\"stroke-width:nan\"></path><path d=\"M 115.2 106.6 L 115.2 93.4 L 173.7 93.4\" id=\"15,7\" style=\"stroke-width:nan\"></path><path d=\"M 144.4 67.0 L 144.4 75.8 L 173.7 75.8\" id=\"16,8\" style=\"stroke-width:nan\"></path><path d=\"M 144.4 67.0 L 144.4 58.2 L 173.7 58.2\" id=\"16,9\" style=\"stroke-width:nan\"></path><path d=\"M 115.2 194.8 L 115.2 208.0 L 144.4 208.0\" id=\"11,10\" style=\"stroke-width:nan\"></path><path d=\"M 85.9 175.0 L 85.9 194.8 L 115.2 194.8\" id=\"13,11\" style=\"stroke-width:nan\"></path><path d=\"M 85.9 175.0 L 85.9 155.1 L 144.4 155.1\" id=\"13,12\" style=\"stroke-width:nan\"></path><path d=\"M 56.6 116.2 L 56.6 175.0 L 85.9 175.0\" id=\"17,13\" style=\"stroke-width:nan\"></path><path d=\"M 115.2 106.6 L 115.2 119.9 L 144.4 119.9\" id=\"15,14\" style=\"stroke-width:nan\"></path><path d=\"M 56.6 116.2 L 56.6 106.6 L 115.2 106.6\" id=\"17,15\" style=\"stroke-width:nan\"></path><path d=\"M 56.6 116.2 L 56.6 67.0 L 144.4 67.0\" id=\"17,16\" style=\"stroke-width:nan\"></path></g><g class=\"toytree-Nodes\" style=\"fill:rgba(82.7%,82.7%,82.7%,1.000);stroke:#262626;stroke-width:1.5\"><g id=\"node-0\" transform=\"translate(173.720,216.839)\"><circle r=\"9.0\"></circle></g><g id=\"node-1\" transform=\"translate(173.720,199.208)\"><circle r=\"9.0\"></circle></g><g id=\"node-2\" transform=\"translate(173.720,181.577)\"><circle r=\"9.0\"></circle></g><g id=\"node-3\" transform=\"translate(173.720,163.946)\"><circle r=\"9.0\"></circle></g><g id=\"node-4\" transform=\"translate(173.720,146.315)\"><circle r=\"9.0\"></circle></g><g id=\"node-5\" transform=\"translate(173.720,128.685)\"><circle r=\"9.0\"></circle></g><g id=\"node-6\" transform=\"translate(173.720,111.054)\"><circle r=\"9.0\"></circle></g><g id=\"node-7\" transform=\"translate(173.720,93.423)\"><circle r=\"9.0\"></circle></g><g id=\"node-8\" transform=\"translate(173.720,75.792)\"><circle r=\"9.0\"></circle></g><g id=\"node-9\" transform=\"translate(173.720,58.161)\"><circle r=\"9.0\"></circle></g><g id=\"node-10\" transform=\"translate(144.437,208.024)\"><circle r=\"9.0\"></circle></g><g id=\"node-11\" transform=\"translate(115.154,194.801)\"><circle r=\"9.0\"></circle></g><g id=\"node-12\" transform=\"translate(144.437,155.131)\"><circle r=\"9.0\"></circle></g><g id=\"node-13\" transform=\"translate(85.871,174.966)\"><circle r=\"9.0\"></circle></g><g id=\"node-14\" transform=\"translate(144.437,119.869)\"><circle r=\"9.0\"></circle></g><g id=\"node-15\" transform=\"translate(115.154,106.646)\"><circle r=\"9.0\"></circle></g><g id=\"node-16\" transform=\"translate(144.437,66.976)\"><circle r=\"9.0\"></circle></g><g id=\"node-17\" transform=\"translate(56.589,116.196)\"><circle r=\"9.0\"></circle></g></g><g class=\"toytree-NodeLabels\" style=\"font-family:Helvetica;font-size:9.0px;font-weight:300;stroke:none;vertical-align:baseline;white-space:pre\"><g class=\"toytree-NodeLabel\" transform=\"translate(173.7200193998847,216.839378238342)\"><text x=\"-6.255\" y=\"2.2995\" style=\"fill:rgb(16.1%,15.3%,14.1%);fill-opacity:1.0\">1.0</text></g><g class=\"toytree-NodeLabel\" transform=\"translate(173.7200193998847,199.2084052964882)\"><text x=\"-6.255\" y=\"2.2995\" style=\"fill:rgb(16.1%,15.3%,14.1%);fill-opacity:1.0\">1.0</text></g><g class=\"toytree-NodeLabel\" transform=\"translate(173.7200193998847,181.57743235463442)\"><text x=\"-6.255\" y=\"2.2995\" style=\"fill:rgb(16.1%,15.3%,14.1%);fill-opacity:1.0\">1.0</text></g><g class=\"toytree-NodeLabel\" transform=\"translate(173.7200193998847,163.94645941278065)\"><text x=\"-6.255\" y=\"2.2995\" style=\"fill:rgb(16.1%,15.3%,14.1%);fill-opacity:1.0\">1.0</text></g><g class=\"toytree-NodeLabel\" transform=\"translate(173.7200193998847,146.31548647092688)\"><text x=\"-6.255\" y=\"2.2995\" style=\"fill:rgb(16.1%,15.3%,14.1%);fill-opacity:1.0\">1.0</text></g><g class=\"toytree-NodeLabel\" transform=\"translate(173.7200193998847,128.68451352907312)\"><text x=\"-6.255\" y=\"2.2995\" style=\"fill:rgb(16.1%,15.3%,14.1%);fill-opacity:1.0\">1.0</text></g><g class=\"toytree-NodeLabel\" transform=\"translate(173.7200193998847,111.05354058721935)\"><text x=\"-6.255\" y=\"2.2995\" style=\"fill:rgb(16.1%,15.3%,14.1%);fill-opacity:1.0\">1.0</text></g><g class=\"toytree-NodeLabel\" transform=\"translate(173.7200193998847,93.42256764536558)\"><text x=\"-6.255\" y=\"2.2995\" style=\"fill:rgb(16.1%,15.3%,14.1%);fill-opacity:1.0\">1.0</text></g><g class=\"toytree-NodeLabel\" transform=\"translate(173.7200193998847,75.79159470351179)\"><text x=\"-6.255\" y=\"2.2995\" style=\"fill:rgb(16.1%,15.3%,14.1%);fill-opacity:1.0\">1.0</text></g><g class=\"toytree-NodeLabel\" transform=\"translate(173.7200193998847,58.16062176165802)\"><text x=\"-6.255\" y=\"2.2995\" style=\"fill:rgb(16.1%,15.3%,14.1%);fill-opacity:1.0\">1.0</text></g><g class=\"toytree-NodeLabel\" transform=\"translate(144.43717457150962,208.0238917674151)\"><text x=\"-6.255\" y=\"2.2995\" style=\"fill:rgb(16.1%,15.3%,14.1%);fill-opacity:1.0\">0.6</text></g><g class=\"toytree-NodeLabel\" transform=\"translate(115.15432974313454,194.80066206102475)\"><text x=\"-6.255\" y=\"2.2995\" style=\"fill:rgb(16.1%,15.3%,14.1%);fill-opacity:1.0\">0.4</text></g><g class=\"toytree-NodeLabel\" transform=\"translate(144.43717457150962,155.13097294185377)\"><text x=\"-6.255\" y=\"2.2995\" style=\"fill:rgb(16.1%,15.3%,14.1%);fill-opacity:1.0\">0.6</text></g><g class=\"toytree-NodeLabel\" transform=\"translate(85.87148491475946,174.96581750143926)\"><text x=\"-6.255\" y=\"2.2995\" style=\"fill:rgb(16.1%,15.3%,14.1%);fill-opacity:1.0\">0.4</text></g><g class=\"toytree-NodeLabel\" transform=\"translate(144.43717457150962,119.86902705814623)\"><text x=\"-6.255\" y=\"2.2995\" style=\"fill:rgb(16.1%,15.3%,14.1%);fill-opacity:1.0\">0.6</text></g><g class=\"toytree-NodeLabel\" transform=\"translate(115.15432974313454,106.6457973517559)\"><text x=\"-6.255\" y=\"2.2995\" style=\"fill:rgb(16.1%,15.3%,14.1%);fill-opacity:1.0\">0.4</text></g><g class=\"toytree-NodeLabel\" transform=\"translate(144.43717457150962,66.9761082325849)\"><text x=\"-6.255\" y=\"2.2995\" style=\"fill:rgb(16.1%,15.3%,14.1%);fill-opacity:1.0\">0.4</text></g><g class=\"toytree-NodeLabel\" transform=\"translate(56.58864008638438,116.19590769526005)\"><text x=\"-6.255\" y=\"2.2995\" style=\"fill:rgb(16.1%,15.3%,14.1%);fill-opacity:1.0\">1.0</text></g></g><g class=\"toytree-TipLabels\" style=\"fill:rgb(16.1%,15.3%,14.1%);fill-opacity:1.0;font-family:Helvetica;font-size:11.0px;font-weight:300;stroke:none;vertical-align:baseline;white-space:pre\"><g class=\"toytree-TipLabel\" transform=\"translate(173.7200193998847,216.839378238342)\"><text x=\"15.0\" y=\"2.8104999999999993\" style=\"\">r3</text></g><g class=\"toytree-TipLabel\" transform=\"translate(173.7200193998847,199.2084052964882)\"><text x=\"15.0\" y=\"2.8104999999999993\" style=\"\">r4</text></g><g class=\"toytree-TipLabel\" transform=\"translate(173.7200193998847,181.57743235463442)\"><text x=\"15.0\" y=\"2.8104999999999993\" style=\"\">r2</text></g><g class=\"toytree-TipLabel\" transform=\"translate(173.7200193998847,163.94645941278065)\"><text x=\"15.0\" y=\"2.8104999999999993\" style=\"\">r0</text></g><g class=\"toytree-TipLabel\" transform=\"translate(173.7200193998847,146.31548647092688)\"><text x=\"15.0\" y=\"2.8104999999999993\" style=\"\">r1</text></g><g class=\"toytree-TipLabel\" transform=\"translate(173.7200193998847,128.68451352907312)\"><text x=\"15.0\" y=\"2.8104999999999993\" style=\"\">r8</text></g><g class=\"toytree-TipLabel\" transform=\"translate(173.7200193998847,111.05354058721935)\"><text x=\"15.0\" y=\"2.8104999999999993\" style=\"\">r9</text></g><g class=\"toytree-TipLabel\" transform=\"translate(173.7200193998847,93.42256764536558)\"><text x=\"15.0\" y=\"2.8104999999999993\" style=\"\">r7</text></g><g class=\"toytree-TipLabel\" transform=\"translate(173.7200193998847,75.79159470351179)\"><text x=\"15.0\" y=\"2.8104999999999993\" style=\"\">r5</text></g><g class=\"toytree-TipLabel\" transform=\"translate(173.7200193998847,58.16062176165802)\"><text x=\"15.0\" y=\"2.8104999999999993\" style=\"\">r6</text></g></g></g></g></g></svg><div class=\"toyplot-behavior\"><script>(function()\n",
       "{\n",
       "var modules={};\n",
       "})();</script></div></div>"
      ]
     },
     "metadata": {},
     "output_type": "display_data"
    }
   ],
   "source": [
    "toytree.mtree([toytree.rtree.unittree(10) for i in range(5)]).get_consensus_tree().draw('s', node_labels=\"support\");"
   ]
  },
  {
   "cell_type": "code",
   "execution_count": 5,
   "id": "71aa82b5",
   "metadata": {},
   "outputs": [
    {
     "data": {
      "text/html": [
       "<div class=\"toyplot\" id=\"tce2d920e44c34bbbbb6bf767f686f6fa\" style=\"text-align:center\"><svg class=\"toyplot-canvas-Canvas\" xmlns:toyplot=\"http://www.sandia.gov/toyplot\" xmlns:xlink=\"http://www.w3.org/1999/xlink\" xmlns=\"http://www.w3.org/2000/svg\" width=\"260.0px\" height=\"275.0px\" viewBox=\"0 0 260.0 275.0\" preserveAspectRatio=\"xMidYMid meet\" style=\"background-color:transparent;border-color:#292724;border-style:none;border-width:1.0;fill:rgb(16.1%,15.3%,14.1%);fill-opacity:1.0;font-family:Helvetica;font-size:12px;opacity:1.0;stroke:rgb(16.1%,15.3%,14.1%);stroke-opacity:1.0;stroke-width:1.0\" id=\"t925a6995d6bd4073830f414bcc135f5a\"><g class=\"toyplot-coordinates-Cartesian\" id=\"tb1a570cb9b924ac2b21dd4d557cad217\"><clipPath id=\"t60b9c16b767649d0ab43c602d4de5ace\"><rect x=\"35.0\" y=\"35.0\" width=\"190.0\" height=\"205.0\"></rect></clipPath><g clip-path=\"url(#t60b9c16b767649d0ab43c602d4de5ace)\"><g class=\"toytree-mark-Toytree\" id=\"tfaeb910a19744c46a062b9faa968acff\"><g class=\"toytree-Edges\" style=\"fill:none;stroke:rgba(16.1%,15.3%,14.1%,1.000);stroke-linecap:round;stroke-width:2.0\"><path d=\"M 134.7 205.5 L 134.7 216.8 L 173.7 216.8\" id=\"8,0\" style=\"stroke-width:nan\"></path><path d=\"M 134.7 205.5 L 134.7 194.2 L 173.7 194.2\" id=\"8,1\" style=\"stroke-width:nan\"></path><path d=\"M 134.7 160.2 L 134.7 171.5 L 173.7 171.5\" id=\"9,2\" style=\"stroke-width:nan\"></path><path d=\"M 134.7 160.2 L 134.7 148.8 L 173.7 148.8\" id=\"9,3\" style=\"stroke-width:nan\"></path><path d=\"M 134.7 114.8 L 134.7 126.2 L 173.7 126.2\" id=\"11,4\" style=\"stroke-width:nan\"></path><path d=\"M 134.7 114.8 L 134.7 103.5 L 173.7 103.5\" id=\"11,5\" style=\"stroke-width:nan\"></path><path d=\"M 134.7 69.5 L 134.7 80.8 L 173.7 80.8\" id=\"12,6\" style=\"stroke-width:nan\"></path><path d=\"M 134.7 69.5 L 134.7 58.2 L 173.7 58.2\" id=\"12,7\" style=\"stroke-width:nan\"></path><path d=\"M 95.6 182.8 L 95.6 205.5 L 134.7 205.5\" id=\"10,8\" style=\"stroke-width:nan\"></path><path d=\"M 95.6 182.8 L 95.6 160.2 L 134.7 160.2\" id=\"10,9\" style=\"stroke-width:nan\"></path><path d=\"M 56.6 137.5 L 56.6 182.8 L 95.6 182.8\" id=\"14,10\" style=\"stroke-width:nan\"></path><path d=\"M 95.6 92.2 L 95.6 114.8 L 134.7 114.8\" id=\"13,11\" style=\"stroke-width:nan\"></path><path d=\"M 95.6 92.2 L 95.6 69.5 L 134.7 69.5\" id=\"13,12\" style=\"stroke-width:nan\"></path><path d=\"M 56.6 137.5 L 56.6 92.2 L 95.6 92.2\" id=\"14,13\" style=\"stroke-width:nan\"></path></g><g class=\"toytree-Nodes\" style=\"fill:rgba(82.7%,82.7%,82.7%,1.000);stroke:#262626;stroke-width:1.5\"><g id=\"node-0\" transform=\"translate(173.720,216.839)\"><circle r=\"9.0\"></circle></g><g id=\"node-1\" transform=\"translate(173.720,194.171)\"><circle r=\"9.0\"></circle></g><g id=\"node-2\" transform=\"translate(173.720,171.503)\"><circle r=\"9.0\"></circle></g><g id=\"node-3\" transform=\"translate(173.720,148.834)\"><circle r=\"9.0\"></circle></g><g id=\"node-4\" transform=\"translate(173.720,126.166)\"><circle r=\"9.0\"></circle></g><g id=\"node-5\" transform=\"translate(173.720,103.497)\"><circle r=\"9.0\"></circle></g><g id=\"node-6\" transform=\"translate(173.720,80.829)\"><circle r=\"9.0\"></circle></g><g id=\"node-7\" transform=\"translate(173.720,58.161)\"><circle r=\"9.0\"></circle></g><g id=\"node-8\" transform=\"translate(134.676,205.505)\"><circle r=\"9.0\"></circle></g><g id=\"node-9\" transform=\"translate(134.676,160.168)\"><circle r=\"9.0\"></circle></g><g id=\"node-10\" transform=\"translate(95.632,182.837)\"><circle r=\"9.0\"></circle></g><g id=\"node-11\" transform=\"translate(134.676,114.832)\"><circle r=\"9.0\"></circle></g><g id=\"node-12\" transform=\"translate(134.676,69.495)\"><circle r=\"9.0\"></circle></g><g id=\"node-13\" transform=\"translate(95.632,92.163)\"><circle r=\"9.0\"></circle></g><g id=\"node-14\" transform=\"translate(56.589,137.500)\"><circle r=\"9.0\"></circle></g></g><g class=\"toytree-NodeLabels\" style=\"font-family:Helvetica;font-size:9.0px;font-weight:300;stroke:none;vertical-align:baseline;white-space:pre\"><g class=\"toytree-NodeLabel\" transform=\"translate(173.7200193998847,216.839378238342)\"><text x=\"-4.0005\" y=\"2.2995\" style=\"fill:rgb(16.1%,15.3%,14.1%);fill-opacity:1.0\">r0</text></g><g class=\"toytree-NodeLabel\" transform=\"translate(173.7200193998847,194.17098445595855)\"><text x=\"-4.0005\" y=\"2.2995\" style=\"fill:rgb(16.1%,15.3%,14.1%);fill-opacity:1.0\">r1</text></g><g class=\"toytree-NodeLabel\" transform=\"translate(173.7200193998847,171.50259067357513)\"><text x=\"-4.0005\" y=\"2.2995\" style=\"fill:rgb(16.1%,15.3%,14.1%);fill-opacity:1.0\">r2</text></g><g class=\"toytree-NodeLabel\" transform=\"translate(173.7200193998847,148.8341968911917)\"><text x=\"-4.0005\" y=\"2.2995\" style=\"fill:rgb(16.1%,15.3%,14.1%);fill-opacity:1.0\">r3</text></g><g class=\"toytree-NodeLabel\" transform=\"translate(173.7200193998847,126.16580310880829)\"><text x=\"-4.0005\" y=\"2.2995\" style=\"fill:rgb(16.1%,15.3%,14.1%);fill-opacity:1.0\">r4</text></g><g class=\"toytree-NodeLabel\" transform=\"translate(173.7200193998847,103.49740932642487)\"><text x=\"-4.0005\" y=\"2.2995\" style=\"fill:rgb(16.1%,15.3%,14.1%);fill-opacity:1.0\">r5</text></g><g class=\"toytree-NodeLabel\" transform=\"translate(173.7200193998847,80.82901554404145)\"><text x=\"-4.0005\" y=\"2.2995\" style=\"fill:rgb(16.1%,15.3%,14.1%);fill-opacity:1.0\">r6</text></g><g class=\"toytree-NodeLabel\" transform=\"translate(173.7200193998847,58.16062176165802)\"><text x=\"-4.0005\" y=\"2.2995\" style=\"fill:rgb(16.1%,15.3%,14.1%);fill-opacity:1.0\">r7</text></g><g class=\"toytree-NodeLabel\" transform=\"translate(134.6762262953846,205.50518134715028)\"></g><g class=\"toytree-NodeLabel\" transform=\"translate(134.6762262953846,160.16839378238342)\"></g><g class=\"toytree-NodeLabel\" transform=\"translate(95.63243319088448,182.83678756476684)\"></g><g class=\"toytree-NodeLabel\" transform=\"translate(134.6762262953846,114.83160621761658)\"></g><g class=\"toytree-NodeLabel\" transform=\"translate(134.6762262953846,69.49481865284973)\"></g><g class=\"toytree-NodeLabel\" transform=\"translate(95.63243319088448,92.16321243523316)\"></g><g class=\"toytree-NodeLabel\" transform=\"translate(56.58864008638438,137.5)\"></g></g><g class=\"toytree-TipLabels\" style=\"fill:rgb(16.1%,15.3%,14.1%);fill-opacity:1.0;font-family:Helvetica;font-size:11.0px;font-weight:300;stroke:none;vertical-align:baseline;white-space:pre\"><g class=\"toytree-TipLabel\" transform=\"translate(173.7200193998847,216.839378238342)\"><text x=\"15.0\" y=\"2.8104999999999993\" style=\"\">r0</text></g><g class=\"toytree-TipLabel\" transform=\"translate(173.7200193998847,194.17098445595855)\"><text x=\"15.0\" y=\"2.8104999999999993\" style=\"\">r1</text></g><g class=\"toytree-TipLabel\" transform=\"translate(173.7200193998847,171.50259067357513)\"><text x=\"15.0\" y=\"2.8104999999999993\" style=\"\">r2</text></g><g class=\"toytree-TipLabel\" transform=\"translate(173.7200193998847,148.8341968911917)\"><text x=\"15.0\" y=\"2.8104999999999993\" style=\"\">r3</text></g><g class=\"toytree-TipLabel\" transform=\"translate(173.7200193998847,126.16580310880829)\"><text x=\"15.0\" y=\"2.8104999999999993\" style=\"\">r4</text></g><g class=\"toytree-TipLabel\" transform=\"translate(173.7200193998847,103.49740932642487)\"><text x=\"15.0\" y=\"2.8104999999999993\" style=\"\">r5</text></g><g class=\"toytree-TipLabel\" transform=\"translate(173.7200193998847,80.82901554404145)\"><text x=\"15.0\" y=\"2.8104999999999993\" style=\"\">r6</text></g><g class=\"toytree-TipLabel\" transform=\"translate(173.7200193998847,58.16062176165802)\"><text x=\"15.0\" y=\"2.8104999999999993\" style=\"\">r7</text></g></g></g></g></g></svg><div class=\"toyplot-behavior\"><script>(function()\n",
       "{\n",
       "var modules={};\n",
       "})();</script></div></div>"
      ]
     },
     "metadata": {},
     "output_type": "display_data"
    }
   ],
   "source": [
    "t = toytree.rtree.baltree(8)\n",
    "t.draw('s', node_labels='name');"
   ]
  },
  {
   "cell_type": "code",
   "execution_count": 102,
   "id": "02c55290",
   "metadata": {},
   "outputs": [
    {
     "data": {
      "text/html": [
       "<div class=\"toyplot\" id=\"t130ec3c28bfb4725ae7ee87c055f2760\" style=\"text-align:center\"><svg class=\"toyplot-canvas-Canvas\" xmlns:toyplot=\"http://www.sandia.gov/toyplot\" xmlns:xlink=\"http://www.w3.org/1999/xlink\" xmlns=\"http://www.w3.org/2000/svg\" width=\"450.0px\" height=\"250.0px\" viewBox=\"0 0 450.0 250.0\" preserveAspectRatio=\"xMidYMid meet\" style=\"background-color:transparent;border-color:#292724;border-style:none;border-width:1.0;fill:rgb(16.1%,15.3%,14.1%);fill-opacity:1.0;font-family:Helvetica;font-size:12px;opacity:1.0;stroke:rgb(16.1%,15.3%,14.1%);stroke-opacity:1.0;stroke-width:1.0\" id=\"tfeb8b34a143d4e46991f72f6b12bfa23\"><g class=\"toyplot-coordinates-Cartesian\" id=\"tad6e0eadbdf9462e9f4864f66ead3161\"><clipPath id=\"tb76dbe5134284affb585814c5fe4cb53\"><rect x=\"20.0\" y=\"40.0\" width=\"205.0\" height=\"170.0\"></rect></clipPath><g clip-path=\"url(#tb76dbe5134284affb585814c5fe4cb53)\"><g class=\"toytree-mark-Toytree\" id=\"tc76a5b5d04fa46219bee39875f1c1a14\"><g class=\"toytree-Edges\" style=\"fill:none;stroke:rgba(16.1%,15.3%,14.1%,1.000);stroke-linecap:round;stroke-width:2.0\"><path d=\"M 49.2 142.2 L 36.9 171.0\" id=\"8,0\" style=\"stroke-width:2.0\"></path><path d=\"M 49.2 142.2 L 61.4 171.0\" id=\"8,1\" style=\"stroke-width:2.0\"></path><path d=\"M 98.1 142.2 L 85.8 171.0\" id=\"9,2\" style=\"stroke-width:2.0\"></path><path d=\"M 98.1 142.2 L 110.3 171.0\" id=\"9,3\" style=\"stroke-width:2.0\"></path><path d=\"M 146.9 113.4 L 134.7 171.0\" id=\"11,4\" style=\"stroke-width:2.0\"></path><path d=\"M 146.9 113.4 L 159.2 171.0\" id=\"11,5\" style=\"stroke-width:2.0\"></path><path d=\"M 195.8 84.6 L 183.6 171.0\" id=\"13,6\" style=\"stroke-width:2.0\"></path><path d=\"M 195.8 84.6 L 208.1 171.0\" id=\"13,7\" style=\"stroke-width:2.0\"></path><path d=\"M 73.6 113.4 L 49.2 142.2\" id=\"10,8\" style=\"stroke-width:2.0\"></path><path d=\"M 73.6 113.4 L 98.1 142.2\" id=\"10,9\" style=\"stroke-width:2.0\"></path><path d=\"M 110.3 84.6 L 73.6 113.4\" id=\"12,10\" style=\"stroke-width:2.0\"></path><path d=\"M 110.3 84.6 L 146.9 113.4\" id=\"12,11\" style=\"stroke-width:2.0\"></path><path d=\"M 153.1 55.8 L 110.3 84.6\" id=\"14,12\" style=\"stroke-width:2.0\"></path><path d=\"M 153.1 55.8 L 195.8 84.6\" id=\"14,13\" style=\"stroke-width:2.0\"></path></g><g class=\"toytree-Nodes\" style=\"fill:rgba(40.0%,76.1%,64.7%,1.000);stroke:#262626;stroke-width:1.0\"><g id=\"node-0\" transform=\"translate(36.938,170.980)\"><circle r=\"7.5\"></circle></g><g id=\"node-1\" transform=\"translate(61.384,170.980)\"><circle r=\"7.5\"></circle></g><g id=\"node-2\" transform=\"translate(85.830,170.980)\"><circle r=\"7.5\"></circle></g><g id=\"node-3\" transform=\"translate(110.277,170.980)\"><circle r=\"7.5\"></circle></g><g id=\"node-4\" transform=\"translate(134.723,170.980)\"><circle r=\"7.5\"></circle></g><g id=\"node-5\" transform=\"translate(159.170,170.980)\"><circle r=\"7.5\"></circle></g><g id=\"node-6\" transform=\"translate(183.616,170.980)\"><circle r=\"7.5\"></circle></g><g id=\"node-7\" transform=\"translate(208.062,170.980)\"><circle r=\"7.5\"></circle></g><g id=\"node-8\" transform=\"translate(49.161,142.175)\"><circle r=\"7.5\"></circle></g><g id=\"node-9\" transform=\"translate(98.054,142.175)\"><circle r=\"7.5\"></circle></g><g id=\"node-10\" transform=\"translate(73.607,113.371)\"><circle r=\"7.5\"></circle></g><g id=\"node-11\" transform=\"translate(146.946,113.371)\"><circle r=\"7.5\"></circle></g><g id=\"node-12\" transform=\"translate(110.277,84.566)\"><circle r=\"7.5\"></circle></g><g id=\"node-13\" transform=\"translate(195.839,84.566)\"><circle r=\"7.5\"></circle></g><g id=\"node-14\" transform=\"translate(153.058,55.761)\"><circle r=\"7.5\"></circle></g></g><g class=\"toytree-NodeLabels\" style=\"font-family:Helvetica;font-size:9.0px;font-weight:300;stroke:none;vertical-align:baseline;white-space:pre\"><g class=\"toytree-NodeLabel\" transform=\"translate(36.9375,170.98013109381398)\"><text x=\"-2.5020000000000002\" y=\"2.2995\" style=\"fill:rgb(16.1%,15.3%,14.1%);fill-opacity:1.0\">0</text></g><g class=\"toytree-NodeLabel\" transform=\"translate(61.38392857142857,170.98013109381398)\"><text x=\"-2.5020000000000002\" y=\"2.2995\" style=\"fill:rgb(16.1%,15.3%,14.1%);fill-opacity:1.0\">1</text></g><g class=\"toytree-NodeLabel\" transform=\"translate(85.83035714285714,170.98013109381398)\"><text x=\"-2.5020000000000002\" y=\"2.2995\" style=\"fill:rgb(16.1%,15.3%,14.1%);fill-opacity:1.0\">2</text></g><g class=\"toytree-NodeLabel\" transform=\"translate(110.27678571428571,170.98013109381398)\"><text x=\"-2.5020000000000002\" y=\"2.2995\" style=\"fill:rgb(16.1%,15.3%,14.1%);fill-opacity:1.0\">3</text></g><g class=\"toytree-NodeLabel\" transform=\"translate(134.72321428571428,170.98013109381398)\"><text x=\"-2.5020000000000002\" y=\"2.2995\" style=\"fill:rgb(16.1%,15.3%,14.1%);fill-opacity:1.0\">4</text></g><g class=\"toytree-NodeLabel\" transform=\"translate(159.16964285714283,170.98013109381398)\"><text x=\"-2.5020000000000002\" y=\"2.2995\" style=\"fill:rgb(16.1%,15.3%,14.1%);fill-opacity:1.0\">5</text></g><g class=\"toytree-NodeLabel\" transform=\"translate(183.61607142857142,170.98013109381398)\"><text x=\"-2.5020000000000002\" y=\"2.2995\" style=\"fill:rgb(16.1%,15.3%,14.1%);fill-opacity:1.0\">6</text></g><g class=\"toytree-NodeLabel\" transform=\"translate(208.06249999999997,170.98013109381398)\"><text x=\"-2.5020000000000002\" y=\"2.2995\" style=\"fill:rgb(16.1%,15.3%,14.1%);fill-opacity:1.0\">7</text></g><g class=\"toytree-NodeLabel\" transform=\"translate(49.160714285714285,142.17533797623923)\"><text x=\"-2.5020000000000002\" y=\"2.2995\" style=\"fill:rgb(16.1%,15.3%,14.1%);fill-opacity:1.0\">8</text></g><g class=\"toytree-NodeLabel\" transform=\"translate(98.05357142857142,142.17533797623923)\"><text x=\"-2.5020000000000002\" y=\"2.2995\" style=\"fill:rgb(16.1%,15.3%,14.1%);fill-opacity:1.0\">9</text></g><g class=\"toytree-NodeLabel\" transform=\"translate(73.60714285714286,113.37054485866449)\"><text x=\"-5.0040000000000004\" y=\"2.2995\" style=\"fill:rgb(16.1%,15.3%,14.1%);fill-opacity:1.0\">10</text></g><g class=\"toytree-NodeLabel\" transform=\"translate(146.94642857142856,113.37054485866449)\"><text x=\"-5.0040000000000004\" y=\"2.2995\" style=\"fill:rgb(16.1%,15.3%,14.1%);fill-opacity:1.0\">11</text></g><g class=\"toytree-NodeLabel\" transform=\"translate(110.27678571428571,84.56575174108971)\"><text x=\"-5.0040000000000004\" y=\"2.2995\" style=\"fill:rgb(16.1%,15.3%,14.1%);fill-opacity:1.0\">12</text></g><g class=\"toytree-NodeLabel\" transform=\"translate(195.8392857142857,84.56575174108971)\"><text x=\"-5.0040000000000004\" y=\"2.2995\" style=\"fill:rgb(16.1%,15.3%,14.1%);fill-opacity:1.0\">13</text></g><g class=\"toytree-NodeLabel\" transform=\"translate(153.05803571428572,55.76095862351495)\"><text x=\"-5.0040000000000004\" y=\"2.2995\" style=\"fill:rgb(16.1%,15.3%,14.1%);fill-opacity:1.0\">14</text></g></g><g class=\"toytree-TipLabels\" style=\"fill:rgb(16.1%,15.3%,14.1%);fill-opacity:1.0;font-family:Helvetica;font-size:10.0px;font-weight:300;stroke:none;vertical-align:baseline;white-space:pre\"><g class=\"toytree-TipLabel\" transform=\"translate(36.9375,170.98013109381398)rotate(90.0)\"><text x=\"10.0\" y=\"2.5549999999999997\" style=\"\">r0</text></g><g class=\"toytree-TipLabel\" transform=\"translate(61.38392857142857,170.98013109381398)rotate(90.0)\"><text x=\"10.0\" y=\"2.5549999999999997\" style=\"\">r1</text></g><g class=\"toytree-TipLabel\" transform=\"translate(85.83035714285714,170.98013109381398)rotate(90.0)\"><text x=\"10.0\" y=\"2.5549999999999997\" style=\"\">r2</text></g><g class=\"toytree-TipLabel\" transform=\"translate(110.27678571428571,170.98013109381398)rotate(90.0)\"><text x=\"10.0\" y=\"2.5549999999999997\" style=\"\">r3</text></g><g class=\"toytree-TipLabel\" transform=\"translate(134.72321428571428,170.98013109381398)rotate(90.0)\"><text x=\"10.0\" y=\"2.5549999999999997\" style=\"\">r4</text></g><g class=\"toytree-TipLabel\" transform=\"translate(159.16964285714283,170.98013109381398)rotate(90.0)\"><text x=\"10.0\" y=\"2.5549999999999997\" style=\"\">r5</text></g><g class=\"toytree-TipLabel\" transform=\"translate(183.61607142857142,170.98013109381398)rotate(90.0)\"><text x=\"10.0\" y=\"2.5549999999999997\" style=\"\">r6</text></g><g class=\"toytree-TipLabel\" transform=\"translate(208.06249999999997,170.98013109381398)rotate(90.0)\"><text x=\"10.0\" y=\"2.5549999999999997\" style=\"\">r7</text></g></g></g></g></g><g class=\"toyplot-coordinates-Cartesian\" id=\"t89653d58a9eb4ae8a8dea931f82807bc\"><clipPath id=\"tdc5325cc035c4a64b49848ce9a67936a\"><rect x=\"245.0\" y=\"40.0\" width=\"205.0\" height=\"170.0\"></rect></clipPath><g clip-path=\"url(#tdc5325cc035c4a64b49848ce9a67936a)\"><g class=\"toytree-mark-Toytree\" id=\"td8df3626f04c4ba4bdcc562083ab4544\"><g class=\"toytree-Edges\" style=\"fill:none;stroke:rgba(16.1%,15.3%,14.1%,1.000);stroke-linecap:round;stroke-width:2.0\"><path d=\"M 297.1 78.8 L 261.9 171.0\" id=\"12,0\" style=\"stroke-width:2.0\"></path><path d=\"M 298.6 124.9 L 286.4 171.0\" id=\"8,1\" style=\"stroke-width:2.0\"></path><path d=\"M 298.6 124.9 L 310.8 171.0\" id=\"8,2\" style=\"stroke-width:2.0\"></path><path d=\"M 347.5 147.9 L 335.3 171.0\" id=\"9,3\" style=\"stroke-width:2.0\"></path><path d=\"M 347.5 147.9 L 359.7 171.0\" id=\"9,4\" style=\"stroke-width:2.0\"></path><path d=\"M 365.8 124.9 L 384.2 171.0\" id=\"10,5\" style=\"stroke-width:2.0\"></path><path d=\"M 420.8 78.8 L 408.6 171.0\" id=\"13,6\" style=\"stroke-width:2.0\"></path><path d=\"M 420.8 78.8 L 433.1 171.0\" id=\"13,7\" style=\"stroke-width:2.0\"></path><path d=\"M 332.2 101.8 L 298.6 124.9\" id=\"11,8\" style=\"stroke-width:2.0\"></path><path d=\"M 365.8 124.9 L 347.5 147.9\" id=\"10,9\" style=\"stroke-width:2.0\"></path><path d=\"M 332.2 101.8 L 365.8 124.9\" id=\"11,10\" style=\"stroke-width:2.0\"></path><path d=\"M 297.1 78.8 L 332.2 101.8\" id=\"12,11\" style=\"stroke-width:2.0\"></path><path d=\"M 359.0 55.8 L 297.1 78.8\" id=\"14,12\" style=\"stroke-width:2.0\"></path><path d=\"M 359.0 55.8 L 420.8 78.8\" id=\"14,13\" style=\"stroke-width:2.0\"></path></g><g class=\"toytree-Nodes\" style=\"fill:rgba(40.0%,76.1%,64.7%,1.000);stroke:#262626;stroke-width:1.0\"><g id=\"node-0\" transform=\"translate(261.938,170.980)\"><circle r=\"7.5\"></circle></g><g id=\"node-1\" transform=\"translate(286.384,170.980)\"><circle r=\"7.5\"></circle></g><g id=\"node-2\" transform=\"translate(310.830,170.980)\"><circle r=\"7.5\"></circle></g><g id=\"node-3\" transform=\"translate(335.277,170.980)\"><circle r=\"7.5\"></circle></g><g id=\"node-4\" transform=\"translate(359.723,170.980)\"><circle r=\"7.5\"></circle></g><g id=\"node-5\" transform=\"translate(384.170,170.980)\"><circle r=\"7.5\"></circle></g><g id=\"node-6\" transform=\"translate(408.616,170.980)\"><circle r=\"7.5\"></circle></g><g id=\"node-7\" transform=\"translate(433.062,170.980)\"><circle r=\"7.5\"></circle></g><g id=\"node-8\" transform=\"translate(298.607,124.892)\"><circle r=\"7.5\"></circle></g><g id=\"node-9\" transform=\"translate(347.500,147.936)\"><circle r=\"7.5\"></circle></g><g id=\"node-10\" transform=\"translate(365.835,124.892)\"><circle r=\"7.5\"></circle></g><g id=\"node-11\" transform=\"translate(332.221,101.849)\"><circle r=\"7.5\"></circle></g><g id=\"node-12\" transform=\"translate(297.079,78.805)\"><circle r=\"7.5\"></circle></g><g id=\"node-13\" transform=\"translate(420.839,78.805)\"><circle r=\"7.5\"></circle></g><g id=\"node-14\" transform=\"translate(358.959,55.761)\"><circle r=\"7.5\"></circle></g></g><g class=\"toytree-NodeLabels\" style=\"font-family:Helvetica;font-size:9.0px;font-weight:300;stroke:none;vertical-align:baseline;white-space:pre\"><g class=\"toytree-NodeLabel\" transform=\"translate(261.9375,170.98013109381398)\"><text x=\"-2.5020000000000002\" y=\"2.2995\" style=\"fill:rgb(16.1%,15.3%,14.1%);fill-opacity:1.0\">0</text></g><g class=\"toytree-NodeLabel\" transform=\"translate(286.38392857142856,170.98013109381398)\"><text x=\"-2.5020000000000002\" y=\"2.2995\" style=\"fill:rgb(16.1%,15.3%,14.1%);fill-opacity:1.0\">1</text></g><g class=\"toytree-NodeLabel\" transform=\"translate(310.8303571428571,170.98013109381398)\"><text x=\"-2.5020000000000002\" y=\"2.2995\" style=\"fill:rgb(16.1%,15.3%,14.1%);fill-opacity:1.0\">2</text></g><g class=\"toytree-NodeLabel\" transform=\"translate(335.27678571428567,170.98013109381398)\"><text x=\"-2.5020000000000002\" y=\"2.2995\" style=\"fill:rgb(16.1%,15.3%,14.1%);fill-opacity:1.0\">3</text></g><g class=\"toytree-NodeLabel\" transform=\"translate(359.7232142857143,170.98013109381398)\"><text x=\"-2.5020000000000002\" y=\"2.2995\" style=\"fill:rgb(16.1%,15.3%,14.1%);fill-opacity:1.0\">4</text></g><g class=\"toytree-NodeLabel\" transform=\"translate(384.1696428571429,170.98013109381398)\"><text x=\"-2.5020000000000002\" y=\"2.2995\" style=\"fill:rgb(16.1%,15.3%,14.1%);fill-opacity:1.0\">5</text></g><g class=\"toytree-NodeLabel\" transform=\"translate(408.61607142857144,170.98013109381398)\"><text x=\"-2.5020000000000002\" y=\"2.2995\" style=\"fill:rgb(16.1%,15.3%,14.1%);fill-opacity:1.0\">6</text></g><g class=\"toytree-NodeLabel\" transform=\"translate(433.06249999999994,170.98013109381398)\"><text x=\"-2.5020000000000002\" y=\"2.2995\" style=\"fill:rgb(16.1%,15.3%,14.1%);fill-opacity:1.0\">7</text></g><g class=\"toytree-NodeLabel\" transform=\"translate(298.6071428571429,124.89246210569439)\"><text x=\"-2.5020000000000002\" y=\"2.2995\" style=\"fill:rgb(16.1%,15.3%,14.1%);fill-opacity:1.0\">8</text></g><g class=\"toytree-NodeLabel\" transform=\"translate(347.5,147.9362965997542)\"><text x=\"-2.5020000000000002\" y=\"2.2995\" style=\"fill:rgb(16.1%,15.3%,14.1%);fill-opacity:1.0\">9</text></g><g class=\"toytree-NodeLabel\" transform=\"translate(365.8348214285714,124.89246210569439)\"><text x=\"-5.0040000000000004\" y=\"2.2995\" style=\"fill:rgb(16.1%,15.3%,14.1%);fill-opacity:1.0\">10</text></g><g class=\"toytree-NodeLabel\" transform=\"translate(332.22098214285717,101.84862761163457)\"><text x=\"-5.0040000000000004\" y=\"2.2995\" style=\"fill:rgb(16.1%,15.3%,14.1%);fill-opacity:1.0\">11</text></g><g class=\"toytree-NodeLabel\" transform=\"translate(297.07924107142856,78.80479311757477)\"><text x=\"-5.0040000000000004\" y=\"2.2995\" style=\"fill:rgb(16.1%,15.3%,14.1%);fill-opacity:1.0\">12</text></g><g class=\"toytree-NodeLabel\" transform=\"translate(420.83928571428567,78.80479311757477)\"><text x=\"-5.0040000000000004\" y=\"2.2995\" style=\"fill:rgb(16.1%,15.3%,14.1%);fill-opacity:1.0\">13</text></g><g class=\"toytree-NodeLabel\" transform=\"translate(358.95926339285717,55.76095862351495)\"><text x=\"-5.0040000000000004\" y=\"2.2995\" style=\"fill:rgb(16.1%,15.3%,14.1%);fill-opacity:1.0\">14</text></g></g><g class=\"toytree-TipLabels\" style=\"fill:rgb(16.1%,15.3%,14.1%);fill-opacity:1.0;font-family:Helvetica;font-size:10.0px;font-weight:300;stroke:none;vertical-align:baseline;white-space:pre\"><g class=\"toytree-TipLabel\" transform=\"translate(261.9375,170.98013109381398)rotate(90.0)\"><text x=\"10.0\" y=\"2.5549999999999997\" style=\"\">r0</text></g><g class=\"toytree-TipLabel\" transform=\"translate(286.38392857142856,170.98013109381398)rotate(90.0)\"><text x=\"10.0\" y=\"2.5549999999999997\" style=\"\">r1</text></g><g class=\"toytree-TipLabel\" transform=\"translate(310.8303571428571,170.98013109381398)rotate(90.0)\"><text x=\"10.0\" y=\"2.5549999999999997\" style=\"\">r2</text></g><g class=\"toytree-TipLabel\" transform=\"translate(335.27678571428567,170.98013109381398)rotate(90.0)\"><text x=\"10.0\" y=\"2.5549999999999997\" style=\"\">r3</text></g><g class=\"toytree-TipLabel\" transform=\"translate(359.7232142857143,170.98013109381398)rotate(90.0)\"><text x=\"10.0\" y=\"2.5549999999999997\" style=\"\">r4</text></g><g class=\"toytree-TipLabel\" transform=\"translate(384.1696428571429,170.98013109381398)rotate(90.0)\"><text x=\"10.0\" y=\"2.5549999999999997\" style=\"\">r5</text></g><g class=\"toytree-TipLabel\" transform=\"translate(408.61607142857144,170.98013109381398)rotate(90.0)\"><text x=\"10.0\" y=\"2.5549999999999997\" style=\"\">r6</text></g><g class=\"toytree-TipLabel\" transform=\"translate(433.06249999999994,170.98013109381398)rotate(90.0)\"><text x=\"10.0\" y=\"2.5549999999999997\" style=\"\">r7</text></g></g></g></g></g></svg><div class=\"toyplot-behavior\"><script>(function()\n",
       "{\n",
       "var modules={};\n",
       "})();</script></div></div>"
      ]
     },
     "metadata": {},
     "output_type": "display_data"
    }
   ],
   "source": [
    "# two trees\n",
    "tree1 = toytree.rtree.unittree(8, seed=123)\n",
    "tree2 = toytree.rtree.unittree(8, seed=293)\n",
    "\n",
    "# place trees in a list\n",
    "trees_list = [tree1, tree2]\n",
    "\n",
    "# display trees with multitree\n",
    "TREES = toytree.core.multitree.MultiTree(trees_list)\n",
    "TREES.draw(ts='p');"
   ]
  },
  {
   "cell_type": "markdown",
   "id": "talented-sight",
   "metadata": {},
   "source": [
    "### Workflow\n",
    "\n",
    "1. Input: toytrees\n",
    "2. User options:\n",
    "    - Type of distance metric: RF vs. quartets\n",
    "    - `sampmethod` = Consensus vs. pairwise vs. random \n",
    "    - `consensustree` = set as None by default (generate consensus tree for user) OR user provides consensus tree \n",
    "4. Output: pandas dataframe with tree #s compared and respective distance metric calculation"
   ]
  },
  {
   "cell_type": "code",
   "execution_count": 3,
   "id": "laughing-return",
   "metadata": {},
   "outputs": [],
   "source": [
    "# goal\n",
    "\n",
    "# workflow goal\n",
    "#def robinson_foulds(tree1, tree2, *args):\n",
    "   \n",
    "#    tool = RobinsonFoulds(tree1, tree2, *args)\n",
    "#    tool.run()\n",
    "#    return tool.data"
   ]
  },
  {
   "cell_type": "code",
   "execution_count": 4,
   "id": "invalid-partner",
   "metadata": {},
   "outputs": [
    {
     "data": {
      "text/html": [
       "<div class=\"toyplot\" id=\"tb2ec4aa95cdb47259b790ce3d2ae2eaa\" style=\"text-align:center\"><svg class=\"toyplot-canvas-Canvas\" xmlns:toyplot=\"http://www.sandia.gov/toyplot\" xmlns:xlink=\"http://www.w3.org/1999/xlink\" xmlns=\"http://www.w3.org/2000/svg\" width=\"450.0px\" height=\"250.0px\" viewBox=\"0 0 450.0 250.0\" preserveAspectRatio=\"xMidYMid meet\" style=\"background-color:transparent;border-color:#292724;border-style:none;border-width:1.0;fill:rgb(16.1%,15.3%,14.1%);fill-opacity:1.0;font-family:Helvetica;font-size:12px;opacity:1.0;stroke:rgb(16.1%,15.3%,14.1%);stroke-opacity:1.0;stroke-width:1.0\" id=\"ta2834338a20442cead434821421ed937\"><g class=\"toyplot-coordinates-Cartesian\" id=\"t46b99254d5de4462b1a61857c8b6b830\"><clipPath id=\"ta1c37e1fce314cd2bd90940578b746e4\"><rect x=\"20.0\" y=\"40.0\" width=\"205.0\" height=\"170.0\"></rect></clipPath><g clip-path=\"url(#ta1c37e1fce314cd2bd90940578b746e4)\"><g class=\"toytree-mark-Toytree\" id=\"t2d2b41d914664f40a9c429a80cedba14\"><g class=\"toytree-Edges\" style=\"fill:none;stroke:rgba(16.1%,15.3%,14.1%,1.000);stroke-linecap:round;stroke-width:2.0\"><path d=\"M 58.3 132.6 L 36.9 171.0\" id=\"5,0\" style=\"stroke-width:2.0\"></path><path d=\"M 58.3 132.6 L 79.7 171.0\" id=\"5,1\" style=\"stroke-width:2.0\"></path><path d=\"M 90.4 94.2 L 122.5 171.0\" id=\"6,2\" style=\"stroke-width:2.0\"></path><path d=\"M 186.7 94.2 L 165.3 171.0\" id=\"7,3\" style=\"stroke-width:2.0\"></path><path d=\"M 186.7 94.2 L 208.1 171.0\" id=\"7,4\" style=\"stroke-width:2.0\"></path><path d=\"M 90.4 94.2 L 58.3 132.6\" id=\"6,5\" style=\"stroke-width:2.0\"></path><path d=\"M 138.5 55.8 L 90.4 94.2\" id=\"8,6\" style=\"stroke-width:2.0\"></path><path d=\"M 138.5 55.8 L 186.7 94.2\" id=\"8,7\" style=\"stroke-width:2.0\"></path></g><g class=\"toytree-Nodes\" style=\"fill:rgba(40.0%,76.1%,64.7%,1.000);stroke:#262626;stroke-width:1.0\"><g id=\"node-0\" transform=\"translate(36.938,170.980)\"><circle r=\"7.5\"></circle></g><g id=\"node-1\" transform=\"translate(79.719,170.980)\"><circle r=\"7.5\"></circle></g><g id=\"node-2\" transform=\"translate(122.500,170.980)\"><circle r=\"7.5\"></circle></g><g id=\"node-3\" transform=\"translate(165.281,170.980)\"><circle r=\"7.5\"></circle></g><g id=\"node-4\" transform=\"translate(208.062,170.980)\"><circle r=\"7.5\"></circle></g><g id=\"node-5\" transform=\"translate(58.328,132.574)\"><circle r=\"7.5\"></circle></g><g id=\"node-6\" transform=\"translate(90.414,94.167)\"><circle r=\"7.5\"></circle></g><g id=\"node-7\" transform=\"translate(186.672,94.167)\"><circle r=\"7.5\"></circle></g><g id=\"node-8\" transform=\"translate(138.543,55.761)\"><circle r=\"7.5\"></circle></g></g><g class=\"toytree-NodeLabels\" style=\"font-family:Helvetica;font-size:9.0px;font-weight:300;stroke:none;vertical-align:baseline;white-space:pre\"><g class=\"toytree-NodeLabel\" transform=\"translate(36.9375,170.98013109381398)\"><text x=\"-2.5020000000000002\" y=\"2.2995\" style=\"fill:rgb(16.1%,15.3%,14.1%);fill-opacity:1.0\">0</text></g><g class=\"toytree-NodeLabel\" transform=\"translate(79.71875,170.98013109381398)\"><text x=\"-2.5020000000000002\" y=\"2.2995\" style=\"fill:rgb(16.1%,15.3%,14.1%);fill-opacity:1.0\">1</text></g><g class=\"toytree-NodeLabel\" transform=\"translate(122.5,170.98013109381398)\"><text x=\"-2.5020000000000002\" y=\"2.2995\" style=\"fill:rgb(16.1%,15.3%,14.1%);fill-opacity:1.0\">2</text></g><g class=\"toytree-NodeLabel\" transform=\"translate(165.28125,170.98013109381398)\"><text x=\"-2.5020000000000002\" y=\"2.2995\" style=\"fill:rgb(16.1%,15.3%,14.1%);fill-opacity:1.0\">3</text></g><g class=\"toytree-NodeLabel\" transform=\"translate(208.0625,170.98013109381398)\"><text x=\"-2.5020000000000002\" y=\"2.2995\" style=\"fill:rgb(16.1%,15.3%,14.1%);fill-opacity:1.0\">4</text></g><g class=\"toytree-NodeLabel\" transform=\"translate(58.32812499999999,132.573740270381)\"><text x=\"-2.5020000000000002\" y=\"2.2995\" style=\"fill:rgb(16.1%,15.3%,14.1%);fill-opacity:1.0\">5</text></g><g class=\"toytree-NodeLabel\" transform=\"translate(90.41406250000001,94.16734944694798)\"><text x=\"-2.5020000000000002\" y=\"2.2995\" style=\"fill:rgb(16.1%,15.3%,14.1%);fill-opacity:1.0\">6</text></g><g class=\"toytree-NodeLabel\" transform=\"translate(186.67187499999997,94.16734944694798)\"><text x=\"-2.5020000000000002\" y=\"2.2995\" style=\"fill:rgb(16.1%,15.3%,14.1%);fill-opacity:1.0\">7</text></g><g class=\"toytree-NodeLabel\" transform=\"translate(138.54296875,55.76095862351495)\"><text x=\"-2.5020000000000002\" y=\"2.2995\" style=\"fill:rgb(16.1%,15.3%,14.1%);fill-opacity:1.0\">8</text></g></g><g class=\"toytree-TipLabels\" style=\"fill:rgb(16.1%,15.3%,14.1%);fill-opacity:1.0;font-family:Helvetica;font-size:10.0px;font-weight:300;stroke:none;vertical-align:baseline;white-space:pre\"><g class=\"toytree-TipLabel\" transform=\"translate(36.9375,170.98013109381398)rotate(90.0)\"><text x=\"10.0\" y=\"2.5549999999999997\" style=\"\">r0</text></g><g class=\"toytree-TipLabel\" transform=\"translate(79.71875,170.98013109381398)rotate(90.0)\"><text x=\"10.0\" y=\"2.5549999999999997\" style=\"\">r1</text></g><g class=\"toytree-TipLabel\" transform=\"translate(122.5,170.98013109381398)rotate(90.0)\"><text x=\"10.0\" y=\"2.5549999999999997\" style=\"\">r2</text></g><g class=\"toytree-TipLabel\" transform=\"translate(165.28125,170.98013109381398)rotate(90.0)\"><text x=\"10.0\" y=\"2.5549999999999997\" style=\"\">r3</text></g><g class=\"toytree-TipLabel\" transform=\"translate(208.0625,170.98013109381398)rotate(90.0)\"><text x=\"10.0\" y=\"2.5549999999999997\" style=\"\">r4</text></g></g></g></g></g><g class=\"toyplot-coordinates-Cartesian\" id=\"t379e778dfc1c4d008e982ebbfccb59cb\"><clipPath id=\"td0894e1b053c4f338f80dad1c20612ba\"><rect x=\"245.0\" y=\"40.0\" width=\"205.0\" height=\"170.0\"></rect></clipPath><g clip-path=\"url(#td0894e1b053c4f338f80dad1c20612ba)\"><g class=\"toytree-mark-Toytree\" id=\"t43ff3ec388664acfa78023cd5a51ee96\"><g class=\"toytree-Edges\" style=\"fill:none;stroke:rgba(16.1%,15.3%,14.1%,1.000);stroke-linecap:round;stroke-width:2.0\"><path d=\"M 299.4 84.6 L 261.9 171.0\" id=\"7,0\" style=\"stroke-width:2.0\"></path><path d=\"M 336.8 113.4 L 304.7 171.0\" id=\"6,1\" style=\"stroke-width:2.0\"></path><path d=\"M 368.9 142.2 L 347.5 171.0\" id=\"5,2\" style=\"stroke-width:2.0\"></path><path d=\"M 368.9 142.2 L 390.3 171.0\" id=\"5,3\" style=\"stroke-width:2.0\"></path><path d=\"M 366.2 55.8 L 433.1 171.0\" id=\"8,4\" style=\"stroke-width:2.0\"></path><path d=\"M 336.8 113.4 L 368.9 142.2\" id=\"6,5\" style=\"stroke-width:2.0\"></path><path d=\"M 299.4 84.6 L 336.8 113.4\" id=\"7,6\" style=\"stroke-width:2.0\"></path><path d=\"M 366.2 55.8 L 299.4 84.6\" id=\"8,7\" style=\"stroke-width:2.0\"></path></g><g class=\"toytree-Nodes\" style=\"fill:rgba(40.0%,76.1%,64.7%,1.000);stroke:#262626;stroke-width:1.0\"><g id=\"node-0\" transform=\"translate(261.938,170.980)\"><circle r=\"7.5\"></circle></g><g id=\"node-1\" transform=\"translate(304.719,170.980)\"><circle r=\"7.5\"></circle></g><g id=\"node-2\" transform=\"translate(347.500,170.980)\"><circle r=\"7.5\"></circle></g><g id=\"node-3\" transform=\"translate(390.281,170.980)\"><circle r=\"7.5\"></circle></g><g id=\"node-4\" transform=\"translate(433.062,170.980)\"><circle r=\"7.5\"></circle></g><g id=\"node-5\" transform=\"translate(368.891,142.175)\"><circle r=\"7.5\"></circle></g><g id=\"node-6\" transform=\"translate(336.805,113.371)\"><circle r=\"7.5\"></circle></g><g id=\"node-7\" transform=\"translate(299.371,84.566)\"><circle r=\"7.5\"></circle></g><g id=\"node-8\" transform=\"translate(366.217,55.761)\"><circle r=\"7.5\"></circle></g></g><g class=\"toytree-NodeLabels\" style=\"font-family:Helvetica;font-size:9.0px;font-weight:300;stroke:none;vertical-align:baseline;white-space:pre\"><g class=\"toytree-NodeLabel\" transform=\"translate(261.9375,170.98013109381398)\"><text x=\"-2.5020000000000002\" y=\"2.2995\" style=\"fill:rgb(16.1%,15.3%,14.1%);fill-opacity:1.0\">0</text></g><g class=\"toytree-NodeLabel\" transform=\"translate(304.71875,170.98013109381398)\"><text x=\"-2.5020000000000002\" y=\"2.2995\" style=\"fill:rgb(16.1%,15.3%,14.1%);fill-opacity:1.0\">1</text></g><g class=\"toytree-NodeLabel\" transform=\"translate(347.5,170.98013109381398)\"><text x=\"-2.5020000000000002\" y=\"2.2995\" style=\"fill:rgb(16.1%,15.3%,14.1%);fill-opacity:1.0\">2</text></g><g class=\"toytree-NodeLabel\" transform=\"translate(390.28125,170.98013109381398)\"><text x=\"-2.5020000000000002\" y=\"2.2995\" style=\"fill:rgb(16.1%,15.3%,14.1%);fill-opacity:1.0\">3</text></g><g class=\"toytree-NodeLabel\" transform=\"translate(433.0625,170.98013109381398)\"><text x=\"-2.5020000000000002\" y=\"2.2995\" style=\"fill:rgb(16.1%,15.3%,14.1%);fill-opacity:1.0\">4</text></g><g class=\"toytree-NodeLabel\" transform=\"translate(368.890625,142.17533797623923)\"><text x=\"-2.5020000000000002\" y=\"2.2995\" style=\"fill:rgb(16.1%,15.3%,14.1%);fill-opacity:1.0\">5</text></g><g class=\"toytree-NodeLabel\" transform=\"translate(336.8046875,113.37054485866449)\"><text x=\"-2.5020000000000002\" y=\"2.2995\" style=\"fill:rgb(16.1%,15.3%,14.1%);fill-opacity:1.0\">6</text></g><g class=\"toytree-NodeLabel\" transform=\"translate(299.37109375,84.56575174108971)\"><text x=\"-2.5020000000000002\" y=\"2.2995\" style=\"fill:rgb(16.1%,15.3%,14.1%);fill-opacity:1.0\">7</text></g><g class=\"toytree-NodeLabel\" transform=\"translate(366.216796875,55.76095862351495)\"><text x=\"-2.5020000000000002\" y=\"2.2995\" style=\"fill:rgb(16.1%,15.3%,14.1%);fill-opacity:1.0\">8</text></g></g><g class=\"toytree-TipLabels\" style=\"fill:rgb(16.1%,15.3%,14.1%);fill-opacity:1.0;font-family:Helvetica;font-size:10.0px;font-weight:300;stroke:none;vertical-align:baseline;white-space:pre\"><g class=\"toytree-TipLabel\" transform=\"translate(261.9375,170.98013109381398)rotate(90.0)\"><text x=\"10.0\" y=\"2.5549999999999997\" style=\"\">r0</text></g><g class=\"toytree-TipLabel\" transform=\"translate(304.71875,170.98013109381398)rotate(90.0)\"><text x=\"10.0\" y=\"2.5549999999999997\" style=\"\">r1</text></g><g class=\"toytree-TipLabel\" transform=\"translate(347.5,170.98013109381398)rotate(90.0)\"><text x=\"10.0\" y=\"2.5549999999999997\" style=\"\">r2</text></g><g class=\"toytree-TipLabel\" transform=\"translate(390.28125,170.98013109381398)rotate(90.0)\"><text x=\"10.0\" y=\"2.5549999999999997\" style=\"\">r3</text></g><g class=\"toytree-TipLabel\" transform=\"translate(433.0625,170.98013109381398)rotate(90.0)\"><text x=\"10.0\" y=\"2.5549999999999997\" style=\"\">r4</text></g></g></g></g></g></svg><div class=\"toyplot-behavior\"><script>(function()\n",
       "{\n",
       "var modules={};\n",
       "})();</script></div></div>"
      ]
     },
     "metadata": {},
     "output_type": "display_data"
    }
   ],
   "source": [
    "# two trees\n",
    "tree1 = toytree.rtree.unittree(5, seed=123)\n",
    "tree2 = toytree.rtree.unittree(5, seed=293)\n",
    "\n",
    "# place trees in a list\n",
    "trees_list = [tree1, tree2]\n",
    "\n",
    "# display trees with multitree\n",
    "TREES = toytree.core.multitree.MultiTree(trees_list)\n",
    "TREES.draw(ts='p');"
   ]
  },
  {
   "cell_type": "code",
   "execution_count": 5,
   "id": "6a4f5c61",
   "metadata": {},
   "outputs": [],
   "source": [
    "import itertools"
   ]
  },
  {
   "cell_type": "code",
   "execution_count": 6,
   "id": "8e879f0f",
   "metadata": {},
   "outputs": [
    {
     "data": {
      "text/plain": [
       "(<toyplot.canvas.Canvas at 0x7f524f3fb8e0>,\n",
       " <toyplot.coordinates.Cartesian at 0x7f524f3fbb50>,\n",
       " <toytree.core.drawing.toytree_mark.ToytreeMark at 0x7f524f403220>)"
      ]
     },
     "execution_count": 6,
     "metadata": {},
     "output_type": "execute_result"
    },
    {
     "data": {
      "text/html": [
       "<div class=\"toyplot\" id=\"t872945e32b454a33a2531cce73235c42\" style=\"text-align:center\"><svg class=\"toyplot-canvas-Canvas\" xmlns:toyplot=\"http://www.sandia.gov/toyplot\" xmlns:xlink=\"http://www.w3.org/1999/xlink\" xmlns=\"http://www.w3.org/2000/svg\" width=\"260.0px\" height=\"275.0px\" viewBox=\"0 0 260.0 275.0\" preserveAspectRatio=\"xMidYMid meet\" style=\"background-color:transparent;border-color:#292724;border-style:none;border-width:1.0;fill:rgb(16.1%,15.3%,14.1%);fill-opacity:1.0;font-family:Helvetica;font-size:12px;opacity:1.0;stroke:rgb(16.1%,15.3%,14.1%);stroke-opacity:1.0;stroke-width:1.0\" id=\"t707291e93b6942c086dbe9e8c36aba12\"><g class=\"toyplot-coordinates-Cartesian\" id=\"td41ab087a4c54f4eb096146bd86bb888\"><clipPath id=\"t2dbc0888f62147f49d59fb7b915f0cd2\"><rect x=\"35.0\" y=\"35.0\" width=\"190.0\" height=\"205.0\"></rect></clipPath><g clip-path=\"url(#t2dbc0888f62147f49d59fb7b915f0cd2)\"><g class=\"toytree-mark-Toytree\" id=\"t6b2f9b35885d4da5a890b6d22309d1e7\"><g class=\"toytree-Edges\" style=\"fill:none;stroke:rgba(16.1%,15.3%,14.1%,1.000);stroke-linecap:round;stroke-width:2.0\"><path d=\"M 134.7 197.0 L 134.7 216.8 L 173.7 216.8\" id=\"5,0\" style=\"stroke-width:nan\"></path><path d=\"M 134.7 197.0 L 134.7 177.2 L 173.7 177.2\" id=\"5,1\" style=\"stroke-width:nan\"></path><path d=\"M 95.6 167.3 L 95.6 137.5 L 173.7 137.5\" id=\"6,2\" style=\"stroke-width:nan\"></path><path d=\"M 134.7 78.0 L 134.7 97.8 L 173.7 97.8\" id=\"7,3\" style=\"stroke-width:nan\"></path><path d=\"M 134.7 78.0 L 134.7 58.2 L 173.7 58.2\" id=\"7,4\" style=\"stroke-width:nan\"></path><path d=\"M 95.6 167.3 L 95.6 197.0 L 134.7 197.0\" id=\"6,5\" style=\"stroke-width:nan\"></path><path d=\"M 56.6 122.6 L 56.6 167.3 L 95.6 167.3\" id=\"8,6\" style=\"stroke-width:nan\"></path><path d=\"M 56.6 122.6 L 56.6 78.0 L 134.7 78.0\" id=\"8,7\" style=\"stroke-width:nan\"></path></g><g class=\"toytree-Nodes\" style=\"fill:rgba(82.7%,82.7%,82.7%,1.000);stroke:#262626;stroke-width:1.5\"><g id=\"node-0\" transform=\"translate(173.720,216.839)\"><circle r=\"9.0\"></circle></g><g id=\"node-1\" transform=\"translate(173.720,177.170)\"><circle r=\"9.0\"></circle></g><g id=\"node-2\" transform=\"translate(173.720,137.500)\"><circle r=\"9.0\"></circle></g><g id=\"node-3\" transform=\"translate(173.720,97.830)\"><circle r=\"9.0\"></circle></g><g id=\"node-4\" transform=\"translate(173.720,58.161)\"><circle r=\"9.0\"></circle></g><g id=\"node-5\" transform=\"translate(134.676,197.005)\"><circle r=\"9.0\"></circle></g><g id=\"node-6\" transform=\"translate(95.632,167.252)\"><circle r=\"9.0\"></circle></g><g id=\"node-7\" transform=\"translate(134.676,77.995)\"><circle r=\"9.0\"></circle></g><g id=\"node-8\" transform=\"translate(56.589,122.624)\"><circle r=\"9.0\"></circle></g></g><g class=\"toytree-NodeLabels\" style=\"font-family:Helvetica;font-size:9.0px;font-weight:300;stroke:none;vertical-align:baseline;white-space:pre\"><g class=\"toytree-NodeLabel\" transform=\"translate(173.7200193998847,216.83937823834196)\"><text x=\"-2.5020000000000002\" y=\"2.2995\" style=\"fill:rgb(16.1%,15.3%,14.1%);fill-opacity:1.0\">0</text></g><g class=\"toytree-NodeLabel\" transform=\"translate(173.7200193998847,177.16968911917095)\"><text x=\"-2.5020000000000002\" y=\"2.2995\" style=\"fill:rgb(16.1%,15.3%,14.1%);fill-opacity:1.0\">1</text></g><g class=\"toytree-NodeLabel\" transform=\"translate(173.7200193998847,137.5)\"><text x=\"-2.5020000000000002\" y=\"2.2995\" style=\"fill:rgb(16.1%,15.3%,14.1%);fill-opacity:1.0\">2</text></g><g class=\"toytree-NodeLabel\" transform=\"translate(173.7200193998847,97.83031088082902)\"><text x=\"-2.5020000000000002\" y=\"2.2995\" style=\"fill:rgb(16.1%,15.3%,14.1%);fill-opacity:1.0\">3</text></g><g class=\"toytree-NodeLabel\" transform=\"translate(173.7200193998847,58.16062176165802)\"><text x=\"-2.5020000000000002\" y=\"2.2995\" style=\"fill:rgb(16.1%,15.3%,14.1%);fill-opacity:1.0\">4</text></g><g class=\"toytree-NodeLabel\" transform=\"translate(134.6762262953846,197.00453367875647)\"><text x=\"-2.5020000000000002\" y=\"2.2995\" style=\"fill:rgb(16.1%,15.3%,14.1%);fill-opacity:1.0\">5</text></g><g class=\"toytree-NodeLabel\" transform=\"translate(95.63243319088448,167.25226683937822)\"><text x=\"-2.5020000000000002\" y=\"2.2995\" style=\"fill:rgb(16.1%,15.3%,14.1%);fill-opacity:1.0\">6</text></g><g class=\"toytree-NodeLabel\" transform=\"translate(134.6762262953846,77.99546632124353)\"><text x=\"-2.5020000000000002\" y=\"2.2995\" style=\"fill:rgb(16.1%,15.3%,14.1%);fill-opacity:1.0\">7</text></g><g class=\"toytree-NodeLabel\" transform=\"translate(56.58864008638438,122.62386658031089)\"><text x=\"-2.5020000000000002\" y=\"2.2995\" style=\"fill:rgb(16.1%,15.3%,14.1%);fill-opacity:1.0\">8</text></g></g><g class=\"toytree-TipLabels\" style=\"fill:rgb(16.1%,15.3%,14.1%);fill-opacity:1.0;font-family:Helvetica;font-size:11.0px;font-weight:300;stroke:none;vertical-align:baseline;white-space:pre\"><g class=\"toytree-TipLabel\" transform=\"translate(173.7200193998847,216.83937823834196)\"><text x=\"15.0\" y=\"2.8104999999999993\" style=\"\">r0</text></g><g class=\"toytree-TipLabel\" transform=\"translate(173.7200193998847,177.16968911917095)\"><text x=\"15.0\" y=\"2.8104999999999993\" style=\"\">r1</text></g><g class=\"toytree-TipLabel\" transform=\"translate(173.7200193998847,137.5)\"><text x=\"15.0\" y=\"2.8104999999999993\" style=\"\">r2</text></g><g class=\"toytree-TipLabel\" transform=\"translate(173.7200193998847,97.83031088082902)\"><text x=\"15.0\" y=\"2.8104999999999993\" style=\"\">r3</text></g><g class=\"toytree-TipLabel\" transform=\"translate(173.7200193998847,58.16062176165802)\"><text x=\"15.0\" y=\"2.8104999999999993\" style=\"\">r4</text></g></g></g></g></g></svg><div class=\"toyplot-behavior\"><script>(function()\n",
       "{\n",
       "var modules={};\n",
       "})();</script></div></div>"
      ]
     },
     "metadata": {},
     "output_type": "display_data"
    }
   ],
   "source": [
    "tree1.draw('s')"
   ]
  },
  {
   "cell_type": "code",
   "execution_count": 7,
   "id": "7b4071ae",
   "metadata": {},
   "outputs": [],
   "source": [
    "#tree1.mod.rotate_node('r0', 'r3').draw('s');"
   ]
  },
  {
   "cell_type": "code",
   "execution_count": 8,
   "id": "a1d690ca",
   "metadata": {},
   "outputs": [],
   "source": [
    "a = {1, 2, 3}\n",
    "b = {2, 3, 4}"
   ]
  },
  {
   "cell_type": "code",
   "execution_count": 9,
   "id": "dcd226ba",
   "metadata": {},
   "outputs": [
    {
     "data": {
      "text/plain": [
       "{2, 3}"
      ]
     },
     "execution_count": 9,
     "metadata": {},
     "output_type": "execute_result"
    }
   ],
   "source": [
    "a & b"
   ]
  },
  {
   "cell_type": "code",
   "execution_count": 24,
   "id": "ef2abab2",
   "metadata": {},
   "outputs": [],
   "source": [
    "tree1 = toytree.tree('((A, B), ((C, (D, E)), (F, (G, (H, I)))));')\n",
    "tree2 = toytree.tree('((A, B), ((C, D, (E, I)), (F, (G, H))));')"
   ]
  },
  {
   "cell_type": "code",
   "execution_count": 42,
   "id": "e72b5386",
   "metadata": {},
   "outputs": [
    {
     "data": {
      "text/plain": [
       "6"
      ]
     },
     "execution_count": 42,
     "metadata": {},
     "output_type": "execute_result"
    }
   ],
   "source": [
    "#%%timeit\n",
    "sum(1 for i in tree1._iter_bipartitions() if len(i[0]) > 1)"
   ]
  },
  {
   "cell_type": "code",
   "execution_count": 46,
   "id": "320d94e8",
   "metadata": {},
   "outputs": [
    {
     "data": {
      "text/html": [
       "<div>\n",
       "<style scoped>\n",
       "    .dataframe tbody tr th:only-of-type {\n",
       "        vertical-align: middle;\n",
       "    }\n",
       "\n",
       "    .dataframe tbody tr th {\n",
       "        vertical-align: top;\n",
       "    }\n",
       "\n",
       "    .dataframe thead th {\n",
       "        text-align: right;\n",
       "    }\n",
       "</style>\n",
       "<table border=\"1\" class=\"dataframe\">\n",
       "  <thead>\n",
       "    <tr style=\"text-align: right;\">\n",
       "      <th></th>\n",
       "      <th>0</th>\n",
       "      <th>1</th>\n",
       "    </tr>\n",
       "  </thead>\n",
       "  <tbody>\n",
       "    <tr>\n",
       "      <th>0</th>\n",
       "      <td>(A,)</td>\n",
       "      <td>(B, C, D, E, F, G, H, I)</td>\n",
       "    </tr>\n",
       "    <tr>\n",
       "      <th>1</th>\n",
       "      <td>(B,)</td>\n",
       "      <td>(A, C, D, E, F, G, H, I)</td>\n",
       "    </tr>\n",
       "    <tr>\n",
       "      <th>2</th>\n",
       "      <td>(C,)</td>\n",
       "      <td>(A, B, D, E, F, G, H, I)</td>\n",
       "    </tr>\n",
       "    <tr>\n",
       "      <th>3</th>\n",
       "      <td>(D,)</td>\n",
       "      <td>(A, B, C, E, F, G, H, I)</td>\n",
       "    </tr>\n",
       "    <tr>\n",
       "      <th>4</th>\n",
       "      <td>(E,)</td>\n",
       "      <td>(A, B, C, D, F, G, H, I)</td>\n",
       "    </tr>\n",
       "    <tr>\n",
       "      <th>5</th>\n",
       "      <td>(F,)</td>\n",
       "      <td>(A, B, C, D, E, G, H, I)</td>\n",
       "    </tr>\n",
       "    <tr>\n",
       "      <th>6</th>\n",
       "      <td>(G,)</td>\n",
       "      <td>(A, B, C, D, E, F, H, I)</td>\n",
       "    </tr>\n",
       "    <tr>\n",
       "      <th>7</th>\n",
       "      <td>(H,)</td>\n",
       "      <td>(A, B, C, D, E, F, G, I)</td>\n",
       "    </tr>\n",
       "    <tr>\n",
       "      <th>8</th>\n",
       "      <td>(I,)</td>\n",
       "      <td>(A, B, C, D, E, F, G, H)</td>\n",
       "    </tr>\n",
       "    <tr>\n",
       "      <th>9</th>\n",
       "      <td>(D, E)</td>\n",
       "      <td>(A, B, C, F, G, H, I)</td>\n",
       "    </tr>\n",
       "    <tr>\n",
       "      <th>10</th>\n",
       "      <td>(C, D, E)</td>\n",
       "      <td>(A, B, F, G, H, I)</td>\n",
       "    </tr>\n",
       "    <tr>\n",
       "      <th>11</th>\n",
       "      <td>(H, I)</td>\n",
       "      <td>(A, B, C, D, E, F, G)</td>\n",
       "    </tr>\n",
       "    <tr>\n",
       "      <th>12</th>\n",
       "      <td>(G, H, I)</td>\n",
       "      <td>(A, B, C, D, E, F)</td>\n",
       "    </tr>\n",
       "    <tr>\n",
       "      <th>13</th>\n",
       "      <td>(F, G, H, I)</td>\n",
       "      <td>(A, B, C, D, E)</td>\n",
       "    </tr>\n",
       "    <tr>\n",
       "      <th>14</th>\n",
       "      <td>(A, B)</td>\n",
       "      <td>(C, D, E, F, G, H, I)</td>\n",
       "    </tr>\n",
       "  </tbody>\n",
       "</table>\n",
       "</div>"
      ],
      "text/plain": [
       "               0                         1\n",
       "0           (A,)  (B, C, D, E, F, G, H, I)\n",
       "1           (B,)  (A, C, D, E, F, G, H, I)\n",
       "2           (C,)  (A, B, D, E, F, G, H, I)\n",
       "3           (D,)  (A, B, C, E, F, G, H, I)\n",
       "4           (E,)  (A, B, C, D, F, G, H, I)\n",
       "5           (F,)  (A, B, C, D, E, G, H, I)\n",
       "6           (G,)  (A, B, C, D, E, F, H, I)\n",
       "7           (H,)  (A, B, C, D, E, F, G, I)\n",
       "8           (I,)  (A, B, C, D, E, F, G, H)\n",
       "9         (D, E)     (A, B, C, F, G, H, I)\n",
       "10     (C, D, E)        (A, B, F, G, H, I)\n",
       "11        (H, I)     (A, B, C, D, E, F, G)\n",
       "12     (G, H, I)        (A, B, C, D, E, F)\n",
       "13  (F, G, H, I)           (A, B, C, D, E)\n",
       "14        (A, B)     (C, D, E, F, G, H, I)"
      ]
     },
     "execution_count": 46,
     "metadata": {},
     "output_type": "execute_result"
    }
   ],
   "source": [
    "tree1.unroot().get_bipartitions()"
   ]
  },
  {
   "cell_type": "code",
   "execution_count": 88,
   "id": "53f0e311",
   "metadata": {},
   "outputs": [
    {
     "name": "stderr",
     "output_type": "stream",
     "text": [
      "⚠️ toytree: cannot delete root Node.\n"
     ]
    },
    {
     "data": {
      "text/html": [
       "<div class=\"toyplot\" id=\"teea4a2248ed94901a7f510dd05ffc2b6\" style=\"text-align:center\"><svg class=\"toyplot-canvas-Canvas\" xmlns:toyplot=\"http://www.sandia.gov/toyplot\" xmlns:xlink=\"http://www.w3.org/1999/xlink\" xmlns=\"http://www.w3.org/2000/svg\" width=\"260.0px\" height=\"275.0px\" viewBox=\"0 0 260.0 275.0\" preserveAspectRatio=\"xMidYMid meet\" style=\"background-color:transparent;border-color:#292724;border-style:none;border-width:1.0;fill:rgb(16.1%,15.3%,14.1%);fill-opacity:1.0;font-family:Helvetica;font-size:12px;opacity:1.0;stroke:rgb(16.1%,15.3%,14.1%);stroke-opacity:1.0;stroke-width:1.0\" id=\"t52d63ae07207495dac96994288ec9d98\"><g class=\"toyplot-coordinates-Cartesian\" id=\"t72b48131679d43c3a4db1cc049211e86\"><clipPath id=\"t02c3315be6554d63900e769632736915\"><rect x=\"35.0\" y=\"35.0\" width=\"190.0\" height=\"205.0\"></rect></clipPath><g clip-path=\"url(#t02c3315be6554d63900e769632736915)\"><g class=\"toytree-mark-Toytree\" id=\"tb205cf910bea422b9f51da249c81f55e\"><g class=\"toytree-Edges\" style=\"fill:none;stroke:rgba(16.1%,15.3%,14.1%,1.000);stroke-linecap:round;stroke-width:2.0\"><path d=\"M 57.1 179.6 L 57.1 218.9 L 172.2 218.9\" id=\"12,0\" style=\"stroke-width:nan\"></path><path d=\"M 152.5 184.0 L 152.5 195.6 L 172.2 195.6\" id=\"8,1\" style=\"stroke-width:nan\"></path><path d=\"M 152.5 184.0 L 152.5 172.4 L 172.2 172.4\" id=\"8,2\" style=\"stroke-width:nan\"></path><path d=\"M 127.4 166.6 L 127.4 149.1 L 172.2 149.1\" id=\"9,3\" style=\"stroke-width:nan\"></path><path d=\"M 158.0 114.3 L 158.0 125.9 L 172.2 125.9\" id=\"10,4\" style=\"stroke-width:nan\"></path><path d=\"M 158.0 114.3 L 158.0 102.6 L 172.2 102.6\" id=\"10,5\" style=\"stroke-width:nan\"></path><path d=\"M 153.0 67.8 L 153.0 79.4 L 172.2 79.4\" id=\"13,6\" style=\"stroke-width:nan\"></path><path d=\"M 153.0 67.8 L 153.0 56.1 L 172.2 56.1\" id=\"13,7\" style=\"stroke-width:nan\"></path><path d=\"M 127.4 166.6 L 127.4 184.0 L 152.5 184.0\" id=\"9,8\" style=\"stroke-width:nan\"></path><path d=\"M 126.5 140.4 L 126.5 166.6 L 127.4 166.6\" id=\"11,9\" style=\"stroke-width:nan\"></path><path d=\"M 126.5 140.4 L 126.5 114.3 L 158.0 114.3\" id=\"11,10\" style=\"stroke-width:nan\"></path><path d=\"M 57.1 179.6 L 57.1 140.4 L 126.5 140.4\" id=\"12,11\" style=\"stroke-width:nan\"></path><path d=\"M 50.0 123.7 L 50.0 179.6 L 57.1 179.6\" id=\"14,12\" style=\"stroke-width:nan\"></path><path d=\"M 50.0 123.7 L 50.0 67.8 L 153.0 67.8\" id=\"14,13\" style=\"stroke-width:nan\"></path></g><g class=\"toytree-TipLabels\" style=\"fill:rgb(16.1%,15.3%,14.1%);fill-opacity:1.0;font-family:Helvetica;font-size:11.0px;font-weight:300;stroke:none;vertical-align:baseline;white-space:pre\"><g class=\"toytree-TipLabel\" transform=\"translate(172.16188358354253,218.86291179596174)\"><text x=\"15.0\" y=\"2.8104999999999993\" style=\"\">r0</text></g><g class=\"toytree-TipLabel\" transform=\"translate(172.16188358354253,195.6163655685441)\"><text x=\"15.0\" y=\"2.8104999999999993\" style=\"\">r1</text></g><g class=\"toytree-TipLabel\" transform=\"translate(172.16188358354253,172.36981934112646)\"><text x=\"15.0\" y=\"2.8104999999999993\" style=\"\">r2</text></g><g class=\"toytree-TipLabel\" transform=\"translate(172.16188358354253,149.12327311370882)\"><text x=\"15.0\" y=\"2.8104999999999993\" style=\"\">r3</text></g><g class=\"toytree-TipLabel\" transform=\"translate(172.16188358354253,125.87672688629118)\"><text x=\"15.0\" y=\"2.8104999999999993\" style=\"\">r4</text></g><g class=\"toytree-TipLabel\" transform=\"translate(172.16188358354253,102.63018065887353)\"><text x=\"15.0\" y=\"2.8104999999999993\" style=\"\">r5</text></g><g class=\"toytree-TipLabel\" transform=\"translate(172.16188358354253,79.3836344314559)\"><text x=\"15.0\" y=\"2.8104999999999993\" style=\"\">r6</text></g><g class=\"toytree-TipLabel\" transform=\"translate(172.16188358354253,56.137088204038236)\"><text x=\"15.0\" y=\"2.8104999999999993\" style=\"\">r7</text></g></g></g></g></g></svg><div class=\"toyplot-behavior\"><script>(function()\n",
       "{\n",
       "var modules={};\n",
       "})();</script></div></div>"
      ]
     },
     "metadata": {},
     "output_type": "display_data"
    }
   ],
   "source": [
    "toytree.rtree.bdtree(8, b=0.5, d=0.5).draw();"
   ]
  },
  {
   "cell_type": "code",
   "execution_count": 54,
   "id": "f896b133",
   "metadata": {
    "scrolled": true
   },
   "outputs": [
    {
     "data": {
      "text/html": [
       "<div class=\"toyplot\" id=\"t736e814fc2dc4ee8a3078cfbdc043982\" style=\"text-align:center\"><svg class=\"toyplot-canvas-Canvas\" xmlns:toyplot=\"http://www.sandia.gov/toyplot\" xmlns:xlink=\"http://www.w3.org/1999/xlink\" xmlns=\"http://www.w3.org/2000/svg\" width=\"260.0px\" height=\"275.0px\" viewBox=\"0 0 260.0 275.0\" preserveAspectRatio=\"xMidYMid meet\" style=\"background-color:transparent;border-color:#292724;border-style:none;border-width:1.0;fill:rgb(16.1%,15.3%,14.1%);fill-opacity:1.0;font-family:Helvetica;font-size:12px;opacity:1.0;stroke:rgb(16.1%,15.3%,14.1%);stroke-opacity:1.0;stroke-width:1.0\" id=\"tb24dad0e952b4a13838f86e15d4e3d22\"><g class=\"toyplot-coordinates-Cartesian\" id=\"te49a562e7c8d473192c5c27e425b9fdb\"><clipPath id=\"tcae714702256477ba518bc68de4bc1ae\"><rect x=\"35.0\" y=\"35.0\" width=\"190.0\" height=\"205.0\"></rect></clipPath><g clip-path=\"url(#tcae714702256477ba518bc68de4bc1ae)\"><g class=\"toytree-mark-Toytree\" id=\"tf01b4d7559c84f788e6dacab3c308a42\"><g class=\"toytree-Edges\" style=\"fill:none;stroke:rgba(16.1%,15.3%,14.1%,1.000);stroke-linecap:round;stroke-width:2.0\"><path d=\"M 141.6 208.7 L 141.6 218.9 L 172.2 218.9\" id=\"9,0\" style=\"stroke-width:nan\"></path><path d=\"M 141.6 208.7 L 141.6 198.5 L 172.2 198.5\" id=\"9,1\" style=\"stroke-width:nan\"></path><path d=\"M 111.1 193.4 L 111.1 178.2 L 172.2 178.2\" id=\"10,2\" style=\"stroke-width:nan\"></path><path d=\"M 111.1 147.7 L 111.1 157.8 L 172.2 157.8\" id=\"11,3\" style=\"stroke-width:nan\"></path><path d=\"M 111.1 147.7 L 111.1 137.5 L 172.2 137.5\" id=\"11,4\" style=\"stroke-width:nan\"></path><path d=\"M 111.1 107.0 L 111.1 117.2 L 172.2 117.2\" id=\"13,5\" style=\"stroke-width:nan\"></path><path d=\"M 111.1 107.0 L 111.1 96.8 L 172.2 96.8\" id=\"13,6\" style=\"stroke-width:nan\"></path><path d=\"M 111.1 66.3 L 111.1 76.5 L 172.2 76.5\" id=\"14,7\" style=\"stroke-width:nan\"></path><path d=\"M 111.1 66.3 L 111.1 56.1 L 172.2 56.1\" id=\"14,8\" style=\"stroke-width:nan\"></path><path d=\"M 111.1 193.4 L 111.1 208.7 L 141.6 208.7\" id=\"10,9\" style=\"stroke-width:nan\"></path><path d=\"M 80.5 170.6 L 80.5 193.4 L 111.1 193.4\" id=\"12,10\" style=\"stroke-width:nan\"></path><path d=\"M 80.5 170.6 L 80.5 147.7 L 111.1 147.7\" id=\"12,11\" style=\"stroke-width:nan\"></path><path d=\"M 50.0 128.6 L 50.0 170.6 L 80.5 170.6\" id=\"16,12\" style=\"stroke-width:nan\"></path><path d=\"M 80.5 86.6 L 80.5 107.0 L 111.1 107.0\" id=\"15,13\" style=\"stroke-width:nan\"></path><path d=\"M 80.5 86.6 L 80.5 66.3 L 111.1 66.3\" id=\"15,14\" style=\"stroke-width:nan\"></path><path d=\"M 50.0 128.6 L 50.0 86.6 L 80.5 86.6\" id=\"16,15\" style=\"stroke-width:nan\"></path></g><g class=\"toytree-TipLabels\" style=\"fill:rgb(16.1%,15.3%,14.1%);fill-opacity:1.0;font-family:Helvetica;font-size:11.0px;font-weight:300;stroke:none;vertical-align:baseline;white-space:pre\"><g class=\"toytree-TipLabel\" transform=\"translate(172.1618835835425,218.86291179596174)\"><text x=\"15.0\" y=\"2.8104999999999993\" style=\"\">r0</text></g><g class=\"toytree-TipLabel\" transform=\"translate(172.1618835835425,198.5221838469713)\"><text x=\"15.0\" y=\"2.8104999999999993\" style=\"\">r1</text></g><g class=\"toytree-TipLabel\" transform=\"translate(172.1618835835425,178.18145589798087)\"><text x=\"15.0\" y=\"2.8104999999999993\" style=\"\">r2</text></g><g class=\"toytree-TipLabel\" transform=\"translate(172.1618835835425,157.8407279489904)\"><text x=\"15.0\" y=\"2.8104999999999993\" style=\"\">r3</text></g><g class=\"toytree-TipLabel\" transform=\"translate(172.1618835835425,137.49999999999997)\"><text x=\"15.0\" y=\"2.8104999999999993\" style=\"\">r4</text></g><g class=\"toytree-TipLabel\" transform=\"translate(172.1618835835425,117.15927205100954)\"><text x=\"15.0\" y=\"2.8104999999999993\" style=\"\">r5</text></g><g class=\"toytree-TipLabel\" transform=\"translate(172.1618835835425,96.8185441020191)\"><text x=\"15.0\" y=\"2.8104999999999993\" style=\"\">r6</text></g><g class=\"toytree-TipLabel\" transform=\"translate(172.1618835835425,76.47781615302866)\"><text x=\"15.0\" y=\"2.8104999999999993\" style=\"\">r7</text></g><g class=\"toytree-TipLabel\" transform=\"translate(172.1618835835425,56.137088204038236)\"><text x=\"15.0\" y=\"2.8104999999999993\" style=\"\">r8</text></g></g></g></g></g></svg><div class=\"toyplot-behavior\"><script>(function()\n",
       "{\n",
       "var modules={};\n",
       "})();</script></div></div>"
      ]
     },
     "metadata": {},
     "output_type": "display_data"
    }
   ],
   "source": [
    "toytree.rtree.baltree(8).draw();"
   ]
  },
  {
   "cell_type": "code",
   "execution_count": 52,
   "id": "bb70ddd6",
   "metadata": {},
   "outputs": [
    {
     "data": {
      "text/plain": [
       "['A', 'B', 'C', 'D', 'E', 'F', 'H', 'I']"
      ]
     },
     "execution_count": 52,
     "metadata": {},
     "output_type": "execute_result"
    }
   ],
   "source": [
    "tree1.unroot().mod.drop_tips(\"G\").get_tip_labels()"
   ]
  },
  {
   "cell_type": "code",
   "execution_count": 51,
   "id": "fbcf8c8b",
   "metadata": {},
   "outputs": [
    {
     "data": {
      "text/html": [
       "<div class=\"toyplot\" id=\"t63c39b4f999043a6994714db58758cdf\" style=\"text-align:center\"><svg class=\"toyplot-canvas-Canvas\" xmlns:toyplot=\"http://www.sandia.gov/toyplot\" xmlns:xlink=\"http://www.w3.org/1999/xlink\" xmlns=\"http://www.w3.org/2000/svg\" width=\"255.0px\" height=\"275.0px\" viewBox=\"0 0 255.0 275.0\" preserveAspectRatio=\"xMidYMid meet\" style=\"background-color:transparent;border-color:#292724;border-style:none;border-width:1.0;fill:rgb(16.1%,15.3%,14.1%);fill-opacity:1.0;font-family:Helvetica;font-size:12px;opacity:1.0;stroke:rgb(16.1%,15.3%,14.1%);stroke-opacity:1.0;stroke-width:1.0\" id=\"t360eece899b04310a31158032c329eda\"><g class=\"toyplot-coordinates-Cartesian\" id=\"t6bddd1e314e245b4819a3c8e2300c8db\"><clipPath id=\"t02dd25d971a34d189af1dca772d0a326\"><rect x=\"35.0\" y=\"35.0\" width=\"185.0\" height=\"205.0\"></rect></clipPath><g clip-path=\"url(#t02dd25d971a34d189af1dca772d0a326)\"><g class=\"toytree-mark-Toytree\" id=\"tf86fffa84d37455ea6fcc2aece597a20\"><g class=\"toytree-Edges\" style=\"fill:none;stroke:rgba(16.1%,15.3%,14.1%,1.000);stroke-linecap:round;stroke-width:2.0\"><path d=\"M 56.6 177.2 L 56.6 216.8 L 171.1 216.8\" id=\"13,0\" style=\"stroke-width:nan\"></path><path d=\"M 56.6 177.2 L 56.6 194.2 L 171.1 194.2\" id=\"13,1\" style=\"stroke-width:nan\"></path><path d=\"M 113.9 154.5 L 113.9 171.5 L 171.1 171.5\" id=\"9,2\" style=\"stroke-width:nan\"></path><path d=\"M 142.5 137.5 L 142.5 148.8 L 171.1 148.8\" id=\"8,3\" style=\"stroke-width:nan\"></path><path d=\"M 142.5 137.5 L 142.5 126.2 L 171.1 126.2\" id=\"8,4\" style=\"stroke-width:nan\"></path><path d=\"M 113.9 86.5 L 113.9 103.5 L 171.1 103.5\" id=\"11,5\" style=\"stroke-width:nan\"></path><path d=\"M 142.5 69.5 L 142.5 80.8 L 171.1 80.8\" id=\"10,6\" style=\"stroke-width:nan\"></path><path d=\"M 142.5 69.5 L 142.5 58.2 L 171.1 58.2\" id=\"10,7\" style=\"stroke-width:nan\"></path><path d=\"M 113.9 154.5 L 113.9 137.5 L 142.5 137.5\" id=\"9,8\" style=\"stroke-width:nan\"></path><path d=\"M 85.3 120.5 L 85.3 154.5 L 113.9 154.5\" id=\"12,9\" style=\"stroke-width:nan\"></path><path d=\"M 113.9 86.5 L 113.9 69.5 L 142.5 69.5\" id=\"11,10\" style=\"stroke-width:nan\"></path><path d=\"M 85.3 120.5 L 85.3 86.5 L 113.9 86.5\" id=\"12,11\" style=\"stroke-width:nan\"></path><path d=\"M 56.6 177.2 L 56.6 120.5 L 85.3 120.5\" id=\"13,12\" style=\"stroke-width:nan\"></path></g><g class=\"toytree-Nodes\" style=\"fill:rgba(82.7%,82.7%,82.7%,1.000);stroke:#262626;stroke-width:1.5\"><g id=\"node-0\" transform=\"translate(171.115,216.839)\"><circle r=\"9.0\"></circle></g><g id=\"node-1\" transform=\"translate(171.115,194.171)\"><circle r=\"9.0\"></circle></g><g id=\"node-2\" transform=\"translate(171.115,171.503)\"><circle r=\"9.0\"></circle></g><g id=\"node-3\" transform=\"translate(171.115,148.834)\"><circle r=\"9.0\"></circle></g><g id=\"node-4\" transform=\"translate(171.115,126.166)\"><circle r=\"9.0\"></circle></g><g id=\"node-5\" transform=\"translate(171.115,103.497)\"><circle r=\"9.0\"></circle></g><g id=\"node-6\" transform=\"translate(171.115,80.829)\"><circle r=\"9.0\"></circle></g><g id=\"node-7\" transform=\"translate(171.115,58.161)\"><circle r=\"9.0\"></circle></g><g id=\"node-8\" transform=\"translate(142.498,137.500)\"><circle r=\"9.0\"></circle></g><g id=\"node-9\" transform=\"translate(113.881,154.501)\"><circle r=\"9.0\"></circle></g><g id=\"node-10\" transform=\"translate(142.498,69.495)\"><circle r=\"9.0\"></circle></g><g id=\"node-11\" transform=\"translate(113.881,86.496)\"><circle r=\"9.0\"></circle></g><g id=\"node-12\" transform=\"translate(85.264,120.499)\"><circle r=\"9.0\"></circle></g><g id=\"node-13\" transform=\"translate(56.647,177.170)\"><circle r=\"9.0\"></circle></g></g><g class=\"toytree-NodeLabels\" style=\"font-family:Helvetica;font-size:9.0px;font-weight:300;stroke:none;vertical-align:baseline;white-space:pre\"><g class=\"toytree-NodeLabel\" transform=\"translate(171.11452040174572,216.839378238342)\"><text x=\"-2.5020000000000002\" y=\"2.2995\" style=\"fill:rgb(16.1%,15.3%,14.1%);fill-opacity:1.0\">0</text></g><g class=\"toytree-NodeLabel\" transform=\"translate(171.11452040174572,194.17098445595855)\"><text x=\"-2.5020000000000002\" y=\"2.2995\" style=\"fill:rgb(16.1%,15.3%,14.1%);fill-opacity:1.0\">1</text></g><g class=\"toytree-NodeLabel\" transform=\"translate(171.11452040174572,171.50259067357513)\"><text x=\"-2.5020000000000002\" y=\"2.2995\" style=\"fill:rgb(16.1%,15.3%,14.1%);fill-opacity:1.0\">2</text></g><g class=\"toytree-NodeLabel\" transform=\"translate(171.11452040174572,148.8341968911917)\"><text x=\"-2.5020000000000002\" y=\"2.2995\" style=\"fill:rgb(16.1%,15.3%,14.1%);fill-opacity:1.0\">3</text></g><g class=\"toytree-NodeLabel\" transform=\"translate(171.11452040174572,126.16580310880829)\"><text x=\"-2.5020000000000002\" y=\"2.2995\" style=\"fill:rgb(16.1%,15.3%,14.1%);fill-opacity:1.0\">4</text></g><g class=\"toytree-NodeLabel\" transform=\"translate(171.11452040174572,103.49740932642487)\"><text x=\"-2.5020000000000002\" y=\"2.2995\" style=\"fill:rgb(16.1%,15.3%,14.1%);fill-opacity:1.0\">5</text></g><g class=\"toytree-NodeLabel\" transform=\"translate(171.11452040174572,80.82901554404145)\"><text x=\"-2.5020000000000002\" y=\"2.2995\" style=\"fill:rgb(16.1%,15.3%,14.1%);fill-opacity:1.0\">6</text></g><g class=\"toytree-NodeLabel\" transform=\"translate(171.11452040174572,58.16062176165802)\"><text x=\"-2.5020000000000002\" y=\"2.2995\" style=\"fill:rgb(16.1%,15.3%,14.1%);fill-opacity:1.0\">7</text></g><g class=\"toytree-NodeLabel\" transform=\"translate(142.49752244096737,137.5)\"><text x=\"-2.5020000000000002\" y=\"2.2995\" style=\"fill:rgb(16.1%,15.3%,14.1%);fill-opacity:1.0\">8</text></g><g class=\"toytree-NodeLabel\" transform=\"translate(113.88052448018905,154.50129533678756)\"><text x=\"-2.5020000000000002\" y=\"2.2995\" style=\"fill:rgb(16.1%,15.3%,14.1%);fill-opacity:1.0\">9</text></g><g class=\"toytree-NodeLabel\" transform=\"translate(142.49752244096737,69.49481865284973)\"><text x=\"-5.0040000000000004\" y=\"2.2995\" style=\"fill:rgb(16.1%,15.3%,14.1%);fill-opacity:1.0\">10</text></g><g class=\"toytree-NodeLabel\" transform=\"translate(113.88052448018905,86.49611398963731)\"><text x=\"-5.0040000000000004\" y=\"2.2995\" style=\"fill:rgb(16.1%,15.3%,14.1%);fill-opacity:1.0\">11</text></g><g class=\"toytree-NodeLabel\" transform=\"translate(85.26352651941072,120.49870466321244)\"><text x=\"-5.0040000000000004\" y=\"2.2995\" style=\"fill:rgb(16.1%,15.3%,14.1%);fill-opacity:1.0\">12</text></g><g class=\"toytree-NodeLabel\" transform=\"translate(56.6465285586324,177.16968911917098)\"><text x=\"-5.0040000000000004\" y=\"2.2995\" style=\"fill:rgb(16.1%,15.3%,14.1%);fill-opacity:1.0\">13</text></g></g><g class=\"toytree-TipLabels\" style=\"fill:rgb(16.1%,15.3%,14.1%);fill-opacity:1.0;font-family:Helvetica;font-size:11.0px;font-weight:300;stroke:none;vertical-align:baseline;white-space:pre\"><g class=\"toytree-TipLabel\" transform=\"translate(171.11452040174572,216.839378238342)\"><text x=\"15.0\" y=\"2.8104999999999993\" style=\"\">A</text></g><g class=\"toytree-TipLabel\" transform=\"translate(171.11452040174572,194.17098445595855)\"><text x=\"15.0\" y=\"2.8104999999999993\" style=\"\">B</text></g><g class=\"toytree-TipLabel\" transform=\"translate(171.11452040174572,171.50259067357513)\"><text x=\"15.0\" y=\"2.8104999999999993\" style=\"\">C</text></g><g class=\"toytree-TipLabel\" transform=\"translate(171.11452040174572,148.8341968911917)\"><text x=\"15.0\" y=\"2.8104999999999993\" style=\"\">D</text></g><g class=\"toytree-TipLabel\" transform=\"translate(171.11452040174572,126.16580310880829)\"><text x=\"15.0\" y=\"2.8104999999999993\" style=\"\">E</text></g><g class=\"toytree-TipLabel\" transform=\"translate(171.11452040174572,103.49740932642487)\"><text x=\"15.0\" y=\"2.8104999999999993\" style=\"\">F</text></g><g class=\"toytree-TipLabel\" transform=\"translate(171.11452040174572,80.82901554404145)\"><text x=\"15.0\" y=\"2.8104999999999993\" style=\"\">H</text></g><g class=\"toytree-TipLabel\" transform=\"translate(171.11452040174572,58.16062176165802)\"><text x=\"15.0\" y=\"2.8104999999999993\" style=\"\">I</text></g></g></g></g></g></svg><div class=\"toyplot-behavior\"><script>(function()\n",
       "{\n",
       "var modules={};\n",
       "})();</script></div></div>"
      ]
     },
     "metadata": {},
     "output_type": "display_data"
    }
   ],
   "source": [
    "tree1.unroot().mod.drop_tips(\"G\").draw('s');"
   ]
  },
  {
   "cell_type": "code",
   "execution_count": 31,
   "id": "47d4b055",
   "metadata": {},
   "outputs": [
    {
     "data": {
      "text/html": [
       "<div>\n",
       "<style scoped>\n",
       "    .dataframe tbody tr th:only-of-type {\n",
       "        vertical-align: middle;\n",
       "    }\n",
       "\n",
       "    .dataframe tbody tr th {\n",
       "        vertical-align: top;\n",
       "    }\n",
       "\n",
       "    .dataframe thead th {\n",
       "        text-align: right;\n",
       "    }\n",
       "</style>\n",
       "<table border=\"1\" class=\"dataframe\">\n",
       "  <thead>\n",
       "    <tr style=\"text-align: right;\">\n",
       "      <th></th>\n",
       "      <th>0</th>\n",
       "      <th>1</th>\n",
       "    </tr>\n",
       "  </thead>\n",
       "  <tbody>\n",
       "    <tr>\n",
       "      <th>0</th>\n",
       "      <td>(0,)</td>\n",
       "      <td>(1, 2, 3, 4, 5, 6, 7, 8, 9, 10, 11, 12, 13, 14...</td>\n",
       "    </tr>\n",
       "    <tr>\n",
       "      <th>1</th>\n",
       "      <td>(1,)</td>\n",
       "      <td>(0, 2, 3, 4, 5, 6, 7, 8, 9, 10, 11, 12, 13, 14...</td>\n",
       "    </tr>\n",
       "    <tr>\n",
       "      <th>2</th>\n",
       "      <td>(2,)</td>\n",
       "      <td>(0, 1, 3, 4, 5, 6, 7, 8, 9, 10, 11, 12, 13, 14...</td>\n",
       "    </tr>\n",
       "    <tr>\n",
       "      <th>3</th>\n",
       "      <td>(3,)</td>\n",
       "      <td>(0, 1, 2, 4, 5, 6, 7, 8, 9, 10, 11, 12, 13, 14...</td>\n",
       "    </tr>\n",
       "    <tr>\n",
       "      <th>4</th>\n",
       "      <td>(4,)</td>\n",
       "      <td>(0, 1, 2, 3, 5, 6, 7, 8, 9, 10, 11, 12, 13, 14...</td>\n",
       "    </tr>\n",
       "    <tr>\n",
       "      <th>5</th>\n",
       "      <td>(5,)</td>\n",
       "      <td>(0, 1, 2, 3, 4, 6, 7, 8, 9, 10, 11, 12, 13, 14...</td>\n",
       "    </tr>\n",
       "    <tr>\n",
       "      <th>6</th>\n",
       "      <td>(6,)</td>\n",
       "      <td>(0, 1, 2, 3, 4, 5, 7, 8, 9, 10, 11, 12, 13, 14...</td>\n",
       "    </tr>\n",
       "    <tr>\n",
       "      <th>7</th>\n",
       "      <td>(7,)</td>\n",
       "      <td>(0, 1, 2, 3, 4, 5, 6, 8, 9, 10, 11, 12, 13, 14...</td>\n",
       "    </tr>\n",
       "    <tr>\n",
       "      <th>8</th>\n",
       "      <td>(8,)</td>\n",
       "      <td>(0, 1, 2, 3, 4, 5, 6, 7, 9, 10, 11, 12, 13, 14...</td>\n",
       "    </tr>\n",
       "    <tr>\n",
       "      <th>9</th>\n",
       "      <td>(0, 1, 9)</td>\n",
       "      <td>(2, 3, 4, 5, 6, 7, 8, 10, 11, 12, 13, 14, 15)</td>\n",
       "    </tr>\n",
       "    <tr>\n",
       "      <th>10</th>\n",
       "      <td>(3, 4, 10)</td>\n",
       "      <td>(0, 1, 2, 5, 6, 7, 8, 9, 11, 12, 13, 14, 15)</td>\n",
       "    </tr>\n",
       "    <tr>\n",
       "      <th>11</th>\n",
       "      <td>(2, 3, 4, 10, 11)</td>\n",
       "      <td>(0, 1, 5, 6, 7, 8, 9, 12, 13, 14, 15)</td>\n",
       "    </tr>\n",
       "    <tr>\n",
       "      <th>12</th>\n",
       "      <td>(7, 8, 12)</td>\n",
       "      <td>(0, 1, 2, 3, 4, 5, 6, 9, 10, 11, 13, 14, 15)</td>\n",
       "    </tr>\n",
       "    <tr>\n",
       "      <th>13</th>\n",
       "      <td>(6, 7, 8, 12, 13)</td>\n",
       "      <td>(0, 1, 2, 3, 4, 5, 9, 10, 11, 14, 15)</td>\n",
       "    </tr>\n",
       "    <tr>\n",
       "      <th>14</th>\n",
       "      <td>(5, 6, 7, 8, 12, 13, 14)</td>\n",
       "      <td>(0, 1, 2, 3, 4, 9, 10, 11, 15)</td>\n",
       "    </tr>\n",
       "  </tbody>\n",
       "</table>\n",
       "</div>"
      ],
      "text/plain": [
       "                           0  \\\n",
       "0                       (0,)   \n",
       "1                       (1,)   \n",
       "2                       (2,)   \n",
       "3                       (3,)   \n",
       "4                       (4,)   \n",
       "5                       (5,)   \n",
       "6                       (6,)   \n",
       "7                       (7,)   \n",
       "8                       (8,)   \n",
       "9                  (0, 1, 9)   \n",
       "10                (3, 4, 10)   \n",
       "11         (2, 3, 4, 10, 11)   \n",
       "12                (7, 8, 12)   \n",
       "13         (6, 7, 8, 12, 13)   \n",
       "14  (5, 6, 7, 8, 12, 13, 14)   \n",
       "\n",
       "                                                    1  \n",
       "0   (1, 2, 3, 4, 5, 6, 7, 8, 9, 10, 11, 12, 13, 14...  \n",
       "1   (0, 2, 3, 4, 5, 6, 7, 8, 9, 10, 11, 12, 13, 14...  \n",
       "2   (0, 1, 3, 4, 5, 6, 7, 8, 9, 10, 11, 12, 13, 14...  \n",
       "3   (0, 1, 2, 4, 5, 6, 7, 8, 9, 10, 11, 12, 13, 14...  \n",
       "4   (0, 1, 2, 3, 5, 6, 7, 8, 9, 10, 11, 12, 13, 14...  \n",
       "5   (0, 1, 2, 3, 4, 6, 7, 8, 9, 10, 11, 12, 13, 14...  \n",
       "6   (0, 1, 2, 3, 4, 5, 7, 8, 9, 10, 11, 12, 13, 14...  \n",
       "7   (0, 1, 2, 3, 4, 5, 6, 8, 9, 10, 11, 12, 13, 14...  \n",
       "8   (0, 1, 2, 3, 4, 5, 6, 7, 9, 10, 11, 12, 13, 14...  \n",
       "9       (2, 3, 4, 5, 6, 7, 8, 10, 11, 12, 13, 14, 15)  \n",
       "10       (0, 1, 2, 5, 6, 7, 8, 9, 11, 12, 13, 14, 15)  \n",
       "11              (0, 1, 5, 6, 7, 8, 9, 12, 13, 14, 15)  \n",
       "12       (0, 1, 2, 3, 4, 5, 6, 9, 10, 11, 13, 14, 15)  \n",
       "13              (0, 1, 2, 3, 4, 5, 9, 10, 11, 14, 15)  \n",
       "14                     (0, 1, 2, 3, 4, 9, 10, 11, 15)  "
      ]
     },
     "execution_count": 31,
     "metadata": {},
     "output_type": "execute_result"
    }
   ],
   "source": [
    "tree1.get_bipartitions(\"idx\", exclude_internal_labels)"
   ]
  },
  {
   "cell_type": "code",
   "execution_count": 28,
   "id": "61304613",
   "metadata": {},
   "outputs": [
    {
     "data": {
      "text/plain": [
       "(9, 11)"
      ]
     },
     "execution_count": 28,
     "metadata": {},
     "output_type": "execute_result"
    }
   ],
   "source": [
    "a = set(tree1._iter_bipartitions()) \n",
    "b = set(tree2._iter_bipartitions())\n",
    "\n",
    "len(a ^ b), len(a) + len(b) - (tree1.ntips) - tree1.ntips"
   ]
  },
  {
   "cell_type": "code",
   "execution_count": 15,
   "id": "0d7dafad",
   "metadata": {},
   "outputs": [
    {
     "data": {
      "text/html": [
       "<div class=\"toyplot\" id=\"t952d78abb2954e8bb82b981b53070bc3\" style=\"text-align:center\"><svg class=\"toyplot-canvas-Canvas\" xmlns:toyplot=\"http://www.sandia.gov/toyplot\" xmlns:xlink=\"http://www.w3.org/1999/xlink\" xmlns=\"http://www.w3.org/2000/svg\" width=\"450.0px\" height=\"250.0px\" viewBox=\"0 0 450.0 250.0\" preserveAspectRatio=\"xMidYMid meet\" style=\"background-color:transparent;border-color:#292724;border-style:none;border-width:1.0;fill:rgb(16.1%,15.3%,14.1%);fill-opacity:1.0;font-family:Helvetica;font-size:12px;opacity:1.0;stroke:rgb(16.1%,15.3%,14.1%);stroke-opacity:1.0;stroke-width:1.0\" id=\"t0990432db2fa45f08d41c1609871e429\"><g class=\"toyplot-coordinates-Cartesian\" id=\"tabc471646ba944c5af94cca36ede0dfe\"><clipPath id=\"t1e202deb3cd94d48a6b511d0b46814de\"><rect x=\"20.0\" y=\"40.0\" width=\"205.0\" height=\"170.0\"></rect></clipPath><g clip-path=\"url(#t1e202deb3cd94d48a6b511d0b46814de)\"><g class=\"toytree-mark-Toytree\" id=\"ta4b62cadbfe54f7d981a90580a194375\"><g class=\"toytree-Edges\" style=\"fill:none;stroke:rgba(16.1%,15.3%,14.1%,1.000);stroke-linecap:round;stroke-width:2.0\"><path d=\"M 61.2 185.8 L 61.2 194.4 L 92.4 194.4\" id=\"9,0\" style=\"stroke-width:nan\"></path><path d=\"M 61.2 185.8 L 61.2 177.1 L 92.4 177.1\" id=\"9,1\" style=\"stroke-width:nan\"></path><path d=\"M 92.4 146.7 L 92.4 159.7 L 123.6 159.7\" id=\"11,2\" style=\"stroke-width:nan\"></path><path d=\"M 123.6 133.7 L 123.6 142.4 L 154.8 142.4\" id=\"10,3\" style=\"stroke-width:nan\"></path><path d=\"M 123.6 133.7 L 123.6 125.0 L 154.8 125.0\" id=\"10,4\" style=\"stroke-width:nan\"></path><path d=\"M 92.4 92.4 L 92.4 107.6 L 123.6 107.6\" id=\"14,5\" style=\"stroke-width:nan\"></path><path d=\"M 123.6 77.3 L 123.6 90.3 L 154.8 90.3\" id=\"13,6\" style=\"stroke-width:nan\"></path><path d=\"M 154.8 64.2 L 154.8 72.9 L 186.0 72.9\" id=\"12,7\" style=\"stroke-width:nan\"></path><path d=\"M 154.8 64.2 L 154.8 55.6 L 186.0 55.6\" id=\"12,8\" style=\"stroke-width:nan\"></path><path d=\"M 30.0 152.7 L 30.0 185.8 L 61.2 185.8\" id=\"16,9\" style=\"stroke-width:nan\"></path><path d=\"M 92.4 146.7 L 92.4 133.7 L 123.6 133.7\" id=\"11,10\" style=\"stroke-width:nan\"></path><path d=\"M 61.2 119.6 L 61.2 146.7 L 92.4 146.7\" id=\"15,11\" style=\"stroke-width:nan\"></path><path d=\"M 123.6 77.3 L 123.6 64.2 L 154.8 64.2\" id=\"13,12\" style=\"stroke-width:nan\"></path><path d=\"M 92.4 92.4 L 92.4 77.3 L 123.6 77.3\" id=\"14,13\" style=\"stroke-width:nan\"></path><path d=\"M 61.2 119.6 L 61.2 92.4 L 92.4 92.4\" id=\"15,14\" style=\"stroke-width:nan\"></path><path d=\"M 30.0 152.7 L 30.0 119.6 L 61.2 119.6\" id=\"16,15\" style=\"stroke-width:nan\"></path></g><g class=\"toytree-TipLabels\" style=\"fill:rgb(16.1%,15.3%,14.1%);fill-opacity:1.0;font-family:Helvetica;font-size:10.0px;font-weight:300;stroke:none;vertical-align:baseline;white-space:pre\"><g class=\"toytree-TipLabel\" transform=\"translate(92.38607364199783,194.44444444444446)\"><text x=\"10.0\" y=\"2.5549999999999997\" style=\"\">A</text></g><g class=\"toytree-TipLabel\" transform=\"translate(92.38607364199783,177.08333333333331)\"><text x=\"10.0\" y=\"2.5549999999999997\" style=\"\">B</text></g><g class=\"toytree-TipLabel\" transform=\"translate(123.57911046299671,159.72222222222223)\"><text x=\"10.0\" y=\"2.5549999999999997\" style=\"\">C</text></g><g class=\"toytree-TipLabel\" transform=\"translate(154.77214728399565,142.36111111111111)\"><text x=\"10.0\" y=\"2.5549999999999997\" style=\"\">D</text></g><g class=\"toytree-TipLabel\" transform=\"translate(154.77214728399565,125.0)\"><text x=\"10.0\" y=\"2.5549999999999997\" style=\"\">E</text></g><g class=\"toytree-TipLabel\" transform=\"translate(123.57911046299671,107.6388888888889)\"><text x=\"10.0\" y=\"2.5549999999999997\" style=\"\">F</text></g><g class=\"toytree-TipLabel\" transform=\"translate(154.77214728399565,90.27777777777777)\"><text x=\"10.0\" y=\"2.5549999999999997\" style=\"\">G</text></g><g class=\"toytree-TipLabel\" transform=\"translate(185.96518410499453,72.91666666666666)\"><text x=\"10.0\" y=\"2.5549999999999997\" style=\"\">H</text></g><g class=\"toytree-TipLabel\" transform=\"translate(185.96518410499453,55.555555555555564)\"><text x=\"10.0\" y=\"2.5549999999999997\" style=\"\">I</text></g></g></g></g></g><g class=\"toyplot-coordinates-Cartesian\" id=\"tee5b58c2c57248248def73697499d261\"><clipPath id=\"td04e5a06ed604409a7ef94a58026a722\"><rect x=\"245.0\" y=\"40.0\" width=\"205.0\" height=\"170.0\"></rect></clipPath><g clip-path=\"url(#td04e5a06ed604409a7ef94a58026a722)\"><g class=\"toytree-mark-Toytree\" id=\"t2a46a258dd104e9a92bca66a0b3c1980\"><g class=\"toytree-Edges\" style=\"fill:none;stroke:rgba(16.1%,15.3%,14.1%,1.000);stroke-linecap:round;stroke-width:2.0\"><path d=\"M 293.8 185.8 L 293.8 194.4 L 332.6 194.4\" id=\"9,0\" style=\"stroke-width:nan\"></path><path d=\"M 293.8 185.8 L 293.8 177.1 L 332.6 177.1\" id=\"9,1\" style=\"stroke-width:nan\"></path><path d=\"M 332.6 139.5 L 332.6 159.7 L 371.4 159.7\" id=\"11,2\" style=\"stroke-width:nan\"></path><path d=\"M 332.6 139.5 L 332.6 142.4 L 371.4 142.4\" id=\"11,3\" style=\"stroke-width:nan\"></path><path d=\"M 371.4 116.3 L 371.4 125.0 L 410.2 125.0\" id=\"10,4\" style=\"stroke-width:nan\"></path><path d=\"M 371.4 116.3 L 371.4 107.6 L 410.2 107.6\" id=\"10,5\" style=\"stroke-width:nan\"></path><path d=\"M 332.6 77.3 L 332.6 90.3 L 371.4 90.3\" id=\"13,6\" style=\"stroke-width:nan\"></path><path d=\"M 371.4 64.2 L 371.4 72.9 L 410.2 72.9\" id=\"12,7\" style=\"stroke-width:nan\"></path><path d=\"M 371.4 64.2 L 371.4 55.6 L 410.2 55.6\" id=\"12,8\" style=\"stroke-width:nan\"></path><path d=\"M 255.0 147.1 L 255.0 185.8 L 293.8 185.8\" id=\"15,9\" style=\"stroke-width:nan\"></path><path d=\"M 332.6 139.5 L 332.6 116.3 L 371.4 116.3\" id=\"11,10\" style=\"stroke-width:nan\"></path><path d=\"M 293.8 108.4 L 293.8 139.5 L 332.6 139.5\" id=\"14,11\" style=\"stroke-width:nan\"></path><path d=\"M 332.6 77.3 L 332.6 64.2 L 371.4 64.2\" id=\"13,12\" style=\"stroke-width:nan\"></path><path d=\"M 293.8 108.4 L 293.8 77.3 L 332.6 77.3\" id=\"14,13\" style=\"stroke-width:nan\"></path><path d=\"M 255.0 147.1 L 255.0 108.4 L 293.8 108.4\" id=\"15,14\" style=\"stroke-width:nan\"></path></g><g class=\"toytree-TipLabels\" style=\"fill:rgb(16.1%,15.3%,14.1%);fill-opacity:1.0;font-family:Helvetica;font-size:10.0px;font-weight:300;stroke:none;vertical-align:baseline;white-space:pre\"><g class=\"toytree-TipLabel\" transform=\"translate(332.58659775117883,194.44444444444446)\"><text x=\"10.0\" y=\"2.5549999999999997\" style=\"\">A</text></g><g class=\"toytree-TipLabel\" transform=\"translate(332.58659775117883,177.08333333333331)\"><text x=\"10.0\" y=\"2.5549999999999997\" style=\"\">B</text></g><g class=\"toytree-TipLabel\" transform=\"translate(371.37989662676824,159.72222222222223)\"><text x=\"10.0\" y=\"2.5549999999999997\" style=\"\">C</text></g><g class=\"toytree-TipLabel\" transform=\"translate(371.37989662676824,142.36111111111111)\"><text x=\"10.0\" y=\"2.5549999999999997\" style=\"\">D</text></g><g class=\"toytree-TipLabel\" transform=\"translate(410.17319550235766,125.0)\"><text x=\"10.0\" y=\"2.5549999999999997\" style=\"\">E</text></g><g class=\"toytree-TipLabel\" transform=\"translate(410.17319550235766,107.6388888888889)\"><text x=\"10.0\" y=\"2.5549999999999997\" style=\"\">I</text></g><g class=\"toytree-TipLabel\" transform=\"translate(371.37989662676824,90.27777777777777)\"><text x=\"10.0\" y=\"2.5549999999999997\" style=\"\">F</text></g><g class=\"toytree-TipLabel\" transform=\"translate(410.17319550235766,72.91666666666666)\"><text x=\"10.0\" y=\"2.5549999999999997\" style=\"\">G</text></g><g class=\"toytree-TipLabel\" transform=\"translate(410.17319550235766,55.555555555555564)\"><text x=\"10.0\" y=\"2.5549999999999997\" style=\"\">H</text></g></g></g></g></g></svg><div class=\"toyplot-behavior\"><script>(function()\n",
       "{\n",
       "var modules={};\n",
       "})();</script></div></div>"
      ]
     },
     "metadata": {},
     "output_type": "display_data"
    }
   ],
   "source": [
    "toytree.mtree([tree1, tree2]).draw();"
   ]
  },
  {
   "cell_type": "code",
   "execution_count": 23,
   "id": "cf7955ba",
   "metadata": {},
   "outputs": [
    {
     "data": {
      "text/plain": [
       "array([[1, 0, 0, 0, 0, 0, 0, 0, 0],\n",
       "       [0, 1, 0, 0, 0, 0, 0, 0, 0],\n",
       "       [0, 0, 1, 0, 0, 0, 0, 0, 0],\n",
       "       [0, 0, 0, 1, 0, 0, 0, 0, 0],\n",
       "       [0, 0, 0, 0, 1, 0, 0, 0, 0],\n",
       "       [0, 0, 0, 0, 0, 1, 0, 0, 0],\n",
       "       [0, 0, 0, 0, 0, 0, 1, 0, 0],\n",
       "       [0, 0, 0, 0, 0, 0, 0, 1, 0],\n",
       "       [0, 0, 0, 0, 0, 0, 0, 0, 1],\n",
       "       [1, 1, 0, 0, 0, 0, 0, 0, 0],\n",
       "       [0, 0, 0, 1, 1, 0, 0, 0, 0],\n",
       "       [0, 0, 1, 1, 1, 0, 0, 0, 0],\n",
       "       [0, 0, 0, 0, 0, 0, 0, 1, 1],\n",
       "       [0, 0, 0, 0, 0, 0, 1, 1, 1],\n",
       "       [0, 0, 0, 0, 0, 1, 1, 1, 1]])"
      ]
     },
     "execution_count": 23,
     "metadata": {},
     "output_type": "execute_result"
    }
   ],
   "source": [
    "tree1._get_bipartitions_table()"
   ]
  },
  {
   "cell_type": "code",
   "execution_count": 22,
   "id": "f6ff9d50",
   "metadata": {
    "scrolled": true
   },
   "outputs": [
    {
     "data": {
      "text/plain": [
       "{(('C', 'D', 'E'), ('A', 'B', 'F', 'G', 'H', 'I')),\n",
       " (('C', 'D', 'E', 'I'), ('A', 'B', 'F', 'G', 'H')),\n",
       " (('D', 'E'), ('A', 'B', 'C', 'F', 'G', 'H', 'I')),\n",
       " (('E', 'I'), ('A', 'B', 'C', 'D', 'F', 'G', 'H')),\n",
       " (('F', 'G', 'H'), ('A', 'B', 'C', 'D', 'E', 'I')),\n",
       " (('F', 'G', 'H', 'I'), ('A', 'B', 'C', 'D', 'E')),\n",
       " (('G', 'H'), ('A', 'B', 'C', 'D', 'E', 'F', 'I')),\n",
       " (('G', 'H', 'I'), ('A', 'B', 'C', 'D', 'E', 'F')),\n",
       " (('H', 'I'), ('A', 'B', 'C', 'D', 'E', 'F', 'G'))}"
      ]
     },
     "execution_count": 22,
     "metadata": {},
     "output_type": "execute_result"
    }
   ],
   "source": [
    "set(tree1._iter_bipartitions()) ^ set(tree2._iter_bipartitions())"
   ]
  },
  {
   "cell_type": "code",
   "execution_count": 65,
   "id": "4f8028f1",
   "metadata": {},
   "outputs": [
    {
     "data": {
      "text/plain": [
       "[(('A',), ('B', 'C', 'D', 'E', 'I', 'F', 'G', 'H')),\n",
       " (('B',), ('A', 'C', 'D', 'E', 'I', 'F', 'G', 'H')),\n",
       " (('C',), ('A', 'B', 'D', 'E', 'I', 'F', 'G', 'H')),\n",
       " (('D',), ('A', 'B', 'C', 'E', 'I', 'F', 'G', 'H')),\n",
       " (('E',), ('A', 'B', 'C', 'D', 'I', 'F', 'G', 'H')),\n",
       " (('I',), ('A', 'B', 'C', 'D', 'E', 'F', 'G', 'H')),\n",
       " (('F',), ('A', 'B', 'C', 'D', 'E', 'I', 'G', 'H')),\n",
       " (('G',), ('A', 'B', 'C', 'D', 'E', 'I', 'F', 'H')),\n",
       " (('H',), ('A', 'B', 'C', 'D', 'E', 'I', 'F', 'G')),\n",
       " (('A', 'B'), ('C', 'D', 'E', 'I', 'F', 'G', 'H')),\n",
       " (('E', 'I'), ('A', 'B', 'C', 'D', 'F', 'G', 'H')),\n",
       " (('C', 'D', 'E', 'I'), ('A', 'B', 'F', 'G', 'H')),\n",
       " (('H', 'G'), ('A', 'B', 'C', 'D', 'E', 'I', 'F')),\n",
       " (('F', 'G', 'H'), ('A', 'B', 'C', 'D', 'E', 'I'))]"
      ]
     },
     "execution_count": 65,
     "metadata": {},
     "output_type": "execute_result"
    }
   ],
   "source": [
    "list(tree2._iter_bipartitions())"
   ]
  },
  {
   "cell_type": "code",
   "execution_count": 24,
   "id": "f37b9f70",
   "metadata": {},
   "outputs": [
    {
     "ename": "TypeError",
     "evalue": "unsupported operand type(s) for +=: 'set' and 'list'",
     "output_type": "error",
     "traceback": [
      "\u001b[0;31m---------------------------------------------------------------------------\u001b[0m",
      "\u001b[0;31mTypeError\u001b[0m                                 Traceback (most recent call last)",
      "\u001b[0;32m/tmp/ipykernel_1099273/113351446.py\u001b[0m in \u001b[0;36m<module>\u001b[0;34m\u001b[0m\n\u001b[0;32m----> 1\u001b[0;31m \u001b[0mtree1\u001b[0m\u001b[0;34m.\u001b[0m\u001b[0mmod\u001b[0m\u001b[0;34m.\u001b[0m\u001b[0mdrop_tips\u001b[0m\u001b[0;34m(\u001b[0m\u001b[0;34m\"r4\"\u001b[0m\u001b[0;34m)\u001b[0m\u001b[0;34m\u001b[0m\u001b[0;34m\u001b[0m\u001b[0m\n\u001b[0m",
      "\u001b[0;32m~/Documents/toytree/toytree/mod/_src/api.py\u001b[0m in \u001b[0;36mdrop_tips\u001b[0;34m(self, regex, inplace, *query)\u001b[0m\n\u001b[1;32m    343\u001b[0m         \u001b[0;34m>>\u001b[0m\u001b[0;34m>\u001b[0m \u001b[0mtree\u001b[0m\u001b[0;34m.\u001b[0m\u001b[0mmod\u001b[0m\u001b[0;34m.\u001b[0m\u001b[0mdrop_tips\u001b[0m\u001b[0;34m(\u001b[0m\u001b[0;34m'r1'\u001b[0m\u001b[0;34m,\u001b[0m \u001b[0;34m'r2'\u001b[0m\u001b[0;34m)\u001b[0m\u001b[0;34m\u001b[0m\u001b[0;34m\u001b[0m\u001b[0m\n\u001b[1;32m    344\u001b[0m         \"\"\"\n\u001b[0;32m--> 345\u001b[0;31m         \u001b[0;32mreturn\u001b[0m \u001b[0mdrop_tips\u001b[0m\u001b[0;34m(\u001b[0m\u001b[0mself\u001b[0m\u001b[0;34m.\u001b[0m\u001b[0m_tree\u001b[0m\u001b[0;34m,\u001b[0m \u001b[0;34m*\u001b[0m\u001b[0mquery\u001b[0m\u001b[0;34m,\u001b[0m \u001b[0mregex\u001b[0m\u001b[0;34m=\u001b[0m\u001b[0mregex\u001b[0m\u001b[0;34m,\u001b[0m \u001b[0minplace\u001b[0m\u001b[0;34m=\u001b[0m\u001b[0minplace\u001b[0m\u001b[0;34m)\u001b[0m\u001b[0;34m\u001b[0m\u001b[0;34m\u001b[0m\u001b[0m\n\u001b[0m\u001b[1;32m    346\u001b[0m \u001b[0;34m\u001b[0m\u001b[0m\n\u001b[1;32m    347\u001b[0m     def resolve_polytomies(\n",
      "\u001b[0;32m~/Documents/toytree/toytree/mod/_src/mod_topo.py\u001b[0m in \u001b[0;36mdrop_tips\u001b[0;34m(tree, regex, inplace, *query)\u001b[0m\n\u001b[1;32m    323\u001b[0m         \u001b[0mlogger\u001b[0m\u001b[0;34m.\u001b[0m\u001b[0mwarning\u001b[0m\u001b[0;34m(\u001b[0m\u001b[0;34mf\"No tips selected. Matched query: {nodes}\"\u001b[0m\u001b[0;34m)\u001b[0m\u001b[0;34m\u001b[0m\u001b[0;34m\u001b[0m\u001b[0m\n\u001b[1;32m    324\u001b[0m     \u001b[0mkeeptips\u001b[0m \u001b[0;34m=\u001b[0m \u001b[0;34m[\u001b[0m\u001b[0mi\u001b[0m \u001b[0;32mfor\u001b[0m \u001b[0mi\u001b[0m \u001b[0;32min\u001b[0m \u001b[0mtree\u001b[0m\u001b[0;34m.\u001b[0m\u001b[0mget_tip_labels\u001b[0m\u001b[0;34m(\u001b[0m\u001b[0;34m)\u001b[0m \u001b[0;32mif\u001b[0m \u001b[0mi\u001b[0m \u001b[0;32mnot\u001b[0m \u001b[0;32min\u001b[0m \u001b[0mtipnames\u001b[0m\u001b[0;34m]\u001b[0m\u001b[0;34m\u001b[0m\u001b[0;34m\u001b[0m\u001b[0m\n\u001b[0;32m--> 325\u001b[0;31m     \u001b[0mtree\u001b[0m\u001b[0;34m.\u001b[0m\u001b[0mmod\u001b[0m\u001b[0;34m.\u001b[0m\u001b[0mprune\u001b[0m\u001b[0;34m(\u001b[0m\u001b[0mkeeptips\u001b[0m\u001b[0;34m,\u001b[0m \u001b[0mpreserve_branch_length\u001b[0m\u001b[0;34m=\u001b[0m\u001b[0;32mTrue\u001b[0m\u001b[0;34m,\u001b[0m \u001b[0minplace\u001b[0m\u001b[0;34m=\u001b[0m\u001b[0;32mTrue\u001b[0m\u001b[0;34m)\u001b[0m\u001b[0;34m\u001b[0m\u001b[0;34m\u001b[0m\u001b[0m\n\u001b[0m\u001b[1;32m    326\u001b[0m     \u001b[0;32mreturn\u001b[0m \u001b[0mtree\u001b[0m\u001b[0;34m\u001b[0m\u001b[0;34m\u001b[0m\u001b[0m\n\u001b[1;32m    327\u001b[0m \u001b[0;34m\u001b[0m\u001b[0m\n",
      "\u001b[0;32m~/Documents/toytree/toytree/mod/_src/api.py\u001b[0m in \u001b[0;36mprune\u001b[0;34m(self, regex, preserve_branch_length, require_root, inplace, *query)\u001b[0m\n\u001b[1;32m    299\u001b[0m             \u001b[0mreturned\u001b[0m\u001b[0;34m,\u001b[0m \u001b[0mrather\u001b[0m \u001b[0mthan\u001b[0m \u001b[0mleaving\u001b[0m \u001b[0moriginal\u001b[0m \u001b[0mtree\u001b[0m \u001b[0munchanged\u001b[0m\u001b[0;34m.\u001b[0m\u001b[0;34m\u001b[0m\u001b[0;34m\u001b[0m\u001b[0m\n\u001b[1;32m    300\u001b[0m         \"\"\"\n\u001b[0;32m--> 301\u001b[0;31m         return prune(self._tree, *query, regex=regex,\n\u001b[0m\u001b[1;32m    302\u001b[0m             \u001b[0mpreserve_branch_length\u001b[0m\u001b[0;34m=\u001b[0m\u001b[0mpreserve_branch_length\u001b[0m\u001b[0;34m,\u001b[0m\u001b[0;34m\u001b[0m\u001b[0;34m\u001b[0m\u001b[0m\n\u001b[1;32m    303\u001b[0m             require_root=require_root, inplace=inplace)\n",
      "\u001b[0;32m~/Documents/toytree/toytree/mod/_src/mod_topo.py\u001b[0m in \u001b[0;36mprune\u001b[0;34m(tree, regex, preserve_branch_length, require_root, inplace, *query)\u001b[0m\n\u001b[1;32m    207\u001b[0m \u001b[0;34m\u001b[0m\u001b[0m\n\u001b[1;32m    208\u001b[0m     \u001b[0;31m# add mrca nodes for each pair\u001b[0m\u001b[0;34m\u001b[0m\u001b[0;34m\u001b[0m\u001b[0m\n\u001b[0;32m--> 209\u001b[0;31m     nodes += list(set(\n\u001b[0m\u001b[1;32m    210\u001b[0m         tree.get_mrca_node(i, j) for i, j in itertools.permutations(nodes, 2)))\n\u001b[1;32m    211\u001b[0m \u001b[0;34m\u001b[0m\u001b[0m\n",
      "\u001b[0;31mTypeError\u001b[0m: unsupported operand type(s) for +=: 'set' and 'list'"
     ]
    }
   ],
   "source": [
    "tree1.mod.drop_tips(\"r4\")"
   ]
  },
  {
   "cell_type": "code",
   "execution_count": 22,
   "id": "945bcac5",
   "metadata": {},
   "outputs": [
    {
     "name": "stderr",
     "output_type": "stream",
     "text": [
      "⚠️ toytree: No tips selected. Matched query: set()\n"
     ]
    },
    {
     "name": "stdout",
     "output_type": "stream",
     "text": [
      "{'r4'}\n"
     ]
    },
    {
     "ename": "TypeError",
     "evalue": "unsupported operand type(s) for +=: 'set' and 'list'",
     "output_type": "error",
     "traceback": [
      "\u001b[0;31m---------------------------------------------------------------------------\u001b[0m",
      "\u001b[0;31mTypeError\u001b[0m                                 Traceback (most recent call last)",
      "\u001b[0;32m/tmp/ipykernel_1099273/3187604061.py\u001b[0m in \u001b[0;36m<module>\u001b[0;34m\u001b[0m\n\u001b[0;32m----> 1\u001b[0;31m \u001b[0mget_quartets_new\u001b[0m\u001b[0;34m(\u001b[0m\u001b[0mtree1\u001b[0m\u001b[0;34m)\u001b[0m\u001b[0;34m\u001b[0m\u001b[0;34m\u001b[0m\u001b[0m\n\u001b[0m",
      "\u001b[0;32m/tmp/ipykernel_1099273/3091337376.py\u001b[0m in \u001b[0;36mget_quartets_new\u001b[0;34m(ttre)\u001b[0m\n\u001b[1;32m     10\u001b[0m         \u001b[0;31m# drop all tips not in our four chosen\u001b[0m\u001b[0;34m\u001b[0m\u001b[0;34m\u001b[0m\u001b[0m\n\u001b[1;32m     11\u001b[0m         \u001b[0mprint\u001b[0m\u001b[0;34m(\u001b[0m\u001b[0mset\u001b[0m\u001b[0;34m(\u001b[0m\u001b[0mtnames\u001b[0m\u001b[0;34m)\u001b[0m\u001b[0;34m.\u001b[0m\u001b[0mdifference\u001b[0m\u001b[0;34m(\u001b[0m\u001b[0mqnames\u001b[0m\u001b[0;34m)\u001b[0m\u001b[0;34m)\u001b[0m\u001b[0;34m\u001b[0m\u001b[0;34m\u001b[0m\u001b[0m\n\u001b[0;32m---> 12\u001b[0;31m         \u001b[0mqtre\u001b[0m \u001b[0;34m=\u001b[0m \u001b[0mttre\u001b[0m\u001b[0;34m.\u001b[0m\u001b[0mmod\u001b[0m\u001b[0;34m.\u001b[0m\u001b[0mdrop_tips\u001b[0m\u001b[0;34m(\u001b[0m\u001b[0mset\u001b[0m\u001b[0;34m(\u001b[0m\u001b[0mtnames\u001b[0m\u001b[0;34m)\u001b[0m\u001b[0;34m.\u001b[0m\u001b[0mdifference\u001b[0m\u001b[0;34m(\u001b[0m\u001b[0mqnames\u001b[0m\u001b[0;34m)\u001b[0m\u001b[0;34m)\u001b[0m\u001b[0;34m\u001b[0m\u001b[0;34m\u001b[0m\u001b[0m\n\u001b[0m\u001b[1;32m     13\u001b[0m \u001b[0;34m\u001b[0m\u001b[0m\n\u001b[1;32m     14\u001b[0m         \u001b[0;31m# ladderize to order tips around split\u001b[0m\u001b[0;34m\u001b[0m\u001b[0;34m\u001b[0m\u001b[0m\n",
      "\u001b[0;32m~/Documents/toytree/toytree/mod/_src/api.py\u001b[0m in \u001b[0;36mdrop_tips\u001b[0;34m(self, regex, inplace, *query)\u001b[0m\n\u001b[1;32m    343\u001b[0m         \u001b[0;34m>>\u001b[0m\u001b[0;34m>\u001b[0m \u001b[0mtree\u001b[0m\u001b[0;34m.\u001b[0m\u001b[0mmod\u001b[0m\u001b[0;34m.\u001b[0m\u001b[0mdrop_tips\u001b[0m\u001b[0;34m(\u001b[0m\u001b[0;34m'r1'\u001b[0m\u001b[0;34m,\u001b[0m \u001b[0;34m'r2'\u001b[0m\u001b[0;34m)\u001b[0m\u001b[0;34m\u001b[0m\u001b[0;34m\u001b[0m\u001b[0m\n\u001b[1;32m    344\u001b[0m         \"\"\"\n\u001b[0;32m--> 345\u001b[0;31m         \u001b[0;32mreturn\u001b[0m \u001b[0mdrop_tips\u001b[0m\u001b[0;34m(\u001b[0m\u001b[0mself\u001b[0m\u001b[0;34m.\u001b[0m\u001b[0m_tree\u001b[0m\u001b[0;34m,\u001b[0m \u001b[0;34m*\u001b[0m\u001b[0mquery\u001b[0m\u001b[0;34m,\u001b[0m \u001b[0mregex\u001b[0m\u001b[0;34m=\u001b[0m\u001b[0mregex\u001b[0m\u001b[0;34m,\u001b[0m \u001b[0minplace\u001b[0m\u001b[0;34m=\u001b[0m\u001b[0minplace\u001b[0m\u001b[0;34m)\u001b[0m\u001b[0;34m\u001b[0m\u001b[0;34m\u001b[0m\u001b[0m\n\u001b[0m\u001b[1;32m    346\u001b[0m \u001b[0;34m\u001b[0m\u001b[0m\n\u001b[1;32m    347\u001b[0m     def resolve_polytomies(\n",
      "\u001b[0;32m~/Documents/toytree/toytree/mod/_src/mod_topo.py\u001b[0m in \u001b[0;36mdrop_tips\u001b[0;34m(tree, regex, inplace, *query)\u001b[0m\n\u001b[1;32m    323\u001b[0m         \u001b[0mlogger\u001b[0m\u001b[0;34m.\u001b[0m\u001b[0mwarning\u001b[0m\u001b[0;34m(\u001b[0m\u001b[0;34mf\"No tips selected. Matched query: {nodes}\"\u001b[0m\u001b[0;34m)\u001b[0m\u001b[0;34m\u001b[0m\u001b[0;34m\u001b[0m\u001b[0m\n\u001b[1;32m    324\u001b[0m     \u001b[0mkeeptips\u001b[0m \u001b[0;34m=\u001b[0m \u001b[0;34m[\u001b[0m\u001b[0mi\u001b[0m \u001b[0;32mfor\u001b[0m \u001b[0mi\u001b[0m \u001b[0;32min\u001b[0m \u001b[0mtree\u001b[0m\u001b[0;34m.\u001b[0m\u001b[0mget_tip_labels\u001b[0m\u001b[0;34m(\u001b[0m\u001b[0;34m)\u001b[0m \u001b[0;32mif\u001b[0m \u001b[0mi\u001b[0m \u001b[0;32mnot\u001b[0m \u001b[0;32min\u001b[0m \u001b[0mtipnames\u001b[0m\u001b[0;34m]\u001b[0m\u001b[0;34m\u001b[0m\u001b[0;34m\u001b[0m\u001b[0m\n\u001b[0;32m--> 325\u001b[0;31m     \u001b[0mtree\u001b[0m\u001b[0;34m.\u001b[0m\u001b[0mmod\u001b[0m\u001b[0;34m.\u001b[0m\u001b[0mprune\u001b[0m\u001b[0;34m(\u001b[0m\u001b[0mkeeptips\u001b[0m\u001b[0;34m,\u001b[0m \u001b[0mpreserve_branch_length\u001b[0m\u001b[0;34m=\u001b[0m\u001b[0;32mTrue\u001b[0m\u001b[0;34m,\u001b[0m \u001b[0minplace\u001b[0m\u001b[0;34m=\u001b[0m\u001b[0;32mTrue\u001b[0m\u001b[0;34m)\u001b[0m\u001b[0;34m\u001b[0m\u001b[0;34m\u001b[0m\u001b[0m\n\u001b[0m\u001b[1;32m    326\u001b[0m     \u001b[0;32mreturn\u001b[0m \u001b[0mtree\u001b[0m\u001b[0;34m\u001b[0m\u001b[0;34m\u001b[0m\u001b[0m\n\u001b[1;32m    327\u001b[0m \u001b[0;34m\u001b[0m\u001b[0m\n",
      "\u001b[0;32m~/Documents/toytree/toytree/mod/_src/api.py\u001b[0m in \u001b[0;36mprune\u001b[0;34m(self, regex, preserve_branch_length, require_root, inplace, *query)\u001b[0m\n\u001b[1;32m    299\u001b[0m             \u001b[0mreturned\u001b[0m\u001b[0;34m,\u001b[0m \u001b[0mrather\u001b[0m \u001b[0mthan\u001b[0m \u001b[0mleaving\u001b[0m \u001b[0moriginal\u001b[0m \u001b[0mtree\u001b[0m \u001b[0munchanged\u001b[0m\u001b[0;34m.\u001b[0m\u001b[0;34m\u001b[0m\u001b[0;34m\u001b[0m\u001b[0m\n\u001b[1;32m    300\u001b[0m         \"\"\"\n\u001b[0;32m--> 301\u001b[0;31m         return prune(self._tree, *query, regex=regex,\n\u001b[0m\u001b[1;32m    302\u001b[0m             \u001b[0mpreserve_branch_length\u001b[0m\u001b[0;34m=\u001b[0m\u001b[0mpreserve_branch_length\u001b[0m\u001b[0;34m,\u001b[0m\u001b[0;34m\u001b[0m\u001b[0;34m\u001b[0m\u001b[0m\n\u001b[1;32m    303\u001b[0m             require_root=require_root, inplace=inplace)\n",
      "\u001b[0;32m~/Documents/toytree/toytree/mod/_src/mod_topo.py\u001b[0m in \u001b[0;36mprune\u001b[0;34m(tree, regex, preserve_branch_length, require_root, inplace, *query)\u001b[0m\n\u001b[1;32m    207\u001b[0m \u001b[0;34m\u001b[0m\u001b[0m\n\u001b[1;32m    208\u001b[0m     \u001b[0;31m# add mrca nodes for each pair\u001b[0m\u001b[0;34m\u001b[0m\u001b[0;34m\u001b[0m\u001b[0m\n\u001b[0;32m--> 209\u001b[0;31m     nodes += list(set(\n\u001b[0m\u001b[1;32m    210\u001b[0m         tree.get_mrca_node(i, j) for i, j in itertools.permutations(nodes, 2)))\n\u001b[1;32m    211\u001b[0m \u001b[0;34m\u001b[0m\u001b[0m\n",
      "\u001b[0;31mTypeError\u001b[0m: unsupported operand type(s) for +=: 'set' and 'list'"
     ]
    }
   ],
   "source": [
    "get_quartets_new(tree1)"
   ]
  },
  {
   "cell_type": "code",
   "execution_count": 17,
   "id": "66ac3f51",
   "metadata": {},
   "outputs": [
    {
     "data": {
      "text/plain": [
       "{'mean': 0.3137566137566138, 'std': 0.08184827769461263}"
      ]
     },
     "execution_count": 17,
     "metadata": {},
     "output_type": "execute_result"
    }
   ],
   "source": [
    "import itertools\n",
    "random_tree_dist()"
   ]
  },
  {
   "cell_type": "code",
   "execution_count": null,
   "id": "e3b98b98",
   "metadata": {},
   "outputs": [],
   "source": [
    "get_pairwise_dist(i, j)"
   ]
  },
  {
   "cell_type": "code",
   "execution_count": 6,
   "id": "925f3266",
   "metadata": {},
   "outputs": [],
   "source": [
    "\n",
    "\n",
    "def random_tree_dist(ntips=10, ntrees=10):\n",
    "    rtrees = [toytree.rtree.unittree(ntips, random_names=True) for i in range(ntrees)]\n",
    "    dists = []\n",
    "    for treepair in itertools.combinations(rtrees, 2):\n",
    "        q0 = get_quartets(treepair[0])\n",
    "        q1 = get_quartets(treepair[1])\n",
    "        dist = len(q0.intersection(q1)) / len(q0)\n",
    "        dists.append(dist)\n",
    "    return {\"mean\": np.mean(dists), \"std\": np.std(dists)}\n",
    "\n"
   ]
  },
  {
   "cell_type": "code",
   "execution_count": 7,
   "id": "780b2a72",
   "metadata": {},
   "outputs": [],
   "source": [
    "from toytree.distance._src.treedist import (\n",
    "    get_pairwise_dist, get_distance_matrix)"
   ]
  },
  {
   "cell_type": "code",
   "execution_count": 8,
   "id": "b741bbee",
   "metadata": {},
   "outputs": [
    {
     "data": {
      "text/plain": [
       "0.0"
      ]
     },
     "execution_count": 8,
     "metadata": {},
     "output_type": "execute_result"
    }
   ],
   "source": [
    "get_pairwise_dist(*trees_list, 'q')"
   ]
  },
  {
   "cell_type": "code",
   "execution_count": 9,
   "id": "47e4dcab",
   "metadata": {},
   "outputs": [
    {
     "data": {
      "text/plain": [
       "array([[0., 0.],\n",
       "       [0., 0.]])"
      ]
     },
     "execution_count": 9,
     "metadata": {},
     "output_type": "execute_result"
    }
   ],
   "source": [
    "get_distance_matrix(trees_list, method='q')"
   ]
  },
  {
   "cell_type": "markdown",
   "id": "binary-harassment",
   "metadata": {},
   "source": [
    "### Quartets\n",
    "Located as `quartets` class object within `treedist.py`"
   ]
  },
  {
   "cell_type": "code",
   "execution_count": 25,
   "id": "informed-photographer",
   "metadata": {},
   "outputs": [
    {
     "ename": "AttributeError",
     "evalue": "module 'toytree.distance' has no attribute 'treedist'",
     "output_type": "error",
     "traceback": [
      "\u001b[0;31m---------------------------------------------------------------------------\u001b[0m",
      "\u001b[0;31mAttributeError\u001b[0m                            Traceback (most recent call last)",
      "\u001b[0;32m/tmp/ipykernel_1095326/3787230961.py\u001b[0m in \u001b[0;36m<module>\u001b[0;34m\u001b[0m\n\u001b[0;32m----> 1\u001b[0;31m \u001b[0mquart\u001b[0m \u001b[0;34m=\u001b[0m \u001b[0mtoytree\u001b[0m\u001b[0;34m.\u001b[0m\u001b[0mdistance\u001b[0m\u001b[0;34m.\u001b[0m\u001b[0mtreedist\u001b[0m\u001b[0;34m.\u001b[0m\u001b[0mquartets\u001b[0m\u001b[0;34m(\u001b[0m\u001b[0mtrees_list\u001b[0m\u001b[0;34m,\u001b[0m \u001b[0;34m\"pairwise\"\u001b[0m\u001b[0;34m)\u001b[0m\u001b[0;34m\u001b[0m\u001b[0;34m\u001b[0m\u001b[0m\n\u001b[0m\u001b[1;32m      2\u001b[0m \u001b[0mquart\u001b[0m\u001b[0;34m.\u001b[0m\u001b[0mrun\u001b[0m\u001b[0;34m(\u001b[0m\u001b[0;34m)\u001b[0m\u001b[0;34m\u001b[0m\u001b[0;34m\u001b[0m\u001b[0m\n\u001b[1;32m      3\u001b[0m \u001b[0mquart\u001b[0m\u001b[0;34m.\u001b[0m\u001b[0mdata\u001b[0m\u001b[0;34m\u001b[0m\u001b[0;34m\u001b[0m\u001b[0m\n",
      "\u001b[0;31mAttributeError\u001b[0m: module 'toytree.distance' has no attribute 'treedist'"
     ]
    }
   ],
   "source": [
    "quart = toytree.distance.treedist.quartets(trees_list, \"pairwise\")\n",
    "quart.run()\n",
    "quart.data"
   ]
  },
  {
   "cell_type": "code",
   "execution_count": 6,
   "id": "extreme-habitat",
   "metadata": {},
   "outputs": [
    {
     "data": {
      "text/html": [
       "<div>\n",
       "<style scoped>\n",
       "    .dataframe tbody tr th:only-of-type {\n",
       "        vertical-align: middle;\n",
       "    }\n",
       "\n",
       "    .dataframe tbody tr th {\n",
       "        vertical-align: top;\n",
       "    }\n",
       "\n",
       "    .dataframe thead th {\n",
       "        text-align: right;\n",
       "    }\n",
       "</style>\n",
       "<table border=\"1\" class=\"dataframe\">\n",
       "  <thead>\n",
       "    <tr style=\"text-align: right;\">\n",
       "      <th></th>\n",
       "      <th>trees</th>\n",
       "      <th>Quartet_intersection</th>\n",
       "    </tr>\n",
       "  </thead>\n",
       "  <tbody>\n",
       "    <tr>\n",
       "      <th>0</th>\n",
       "      <td>1, 0</td>\n",
       "      <td>0.6</td>\n",
       "    </tr>\n",
       "  </tbody>\n",
       "</table>\n",
       "</div>"
      ],
      "text/plain": [
       "  trees  Quartet_intersection\n",
       "0  1, 0                   0.6"
      ]
     },
     "execution_count": 6,
     "metadata": {},
     "output_type": "execute_result"
    }
   ],
   "source": [
    "quart = toytree.distance.treedist.quartets(trees_list, \"random\")\n",
    "quart.run()\n",
    "quart.data"
   ]
  },
  {
   "cell_type": "code",
   "execution_count": 7,
   "id": "endless-following",
   "metadata": {},
   "outputs": [
    {
     "data": {
      "text/html": [
       "<div>\n",
       "<style scoped>\n",
       "    .dataframe tbody tr th:only-of-type {\n",
       "        vertical-align: middle;\n",
       "    }\n",
       "\n",
       "    .dataframe tbody tr th {\n",
       "        vertical-align: top;\n",
       "    }\n",
       "\n",
       "    .dataframe thead th {\n",
       "        text-align: right;\n",
       "    }\n",
       "</style>\n",
       "<table border=\"1\" class=\"dataframe\">\n",
       "  <thead>\n",
       "    <tr style=\"text-align: right;\">\n",
       "      <th></th>\n",
       "      <th>trees</th>\n",
       "      <th>Quartet_intersection</th>\n",
       "    </tr>\n",
       "  </thead>\n",
       "  <tbody>\n",
       "    <tr>\n",
       "      <th>0</th>\n",
       "      <td>0, consensus</td>\n",
       "      <td>1.0</td>\n",
       "    </tr>\n",
       "    <tr>\n",
       "      <th>1</th>\n",
       "      <td>1, consensus</td>\n",
       "      <td>0.6</td>\n",
       "    </tr>\n",
       "  </tbody>\n",
       "</table>\n",
       "</div>"
      ],
      "text/plain": [
       "          trees  Quartet_intersection\n",
       "0  0, consensus                   1.0\n",
       "1  1, consensus                   0.6"
      ]
     },
     "execution_count": 7,
     "metadata": {},
     "output_type": "execute_result"
    }
   ],
   "source": [
    "quart = toytree.distance.treedist.quartets(trees_list, \"consensus\")\n",
    "quart.run()\n",
    "quart.data"
   ]
  },
  {
   "cell_type": "markdown",
   "id": "fabulous-attention",
   "metadata": {},
   "source": [
    "### RF\n",
    "Located as `robinson_foulds` class object within `treedist.py`"
   ]
  },
  {
   "cell_type": "code",
   "execution_count": 5,
   "id": "related-paraguay",
   "metadata": {},
   "outputs": [
    {
     "name": "stdout",
     "output_type": "stream",
     "text": [
      "\n",
      "      /-r4\n",
      "   /-|\n",
      "  |  |   /-r3\n",
      "  |   \\-|\n",
      "--|      \\-r2\n",
      "  |\n",
      "  |   /-r1\n",
      "   \\-|\n",
      "      \\-r0\n",
      "partition [0. 0. 0. 0. 1.]\n",
      "partition_inverse [1. 1. 1. 1. 0.]\n",
      "partition [0. 0. 0. 1. 1.]\n",
      "partition_inverse [1. 1. 1. 0. 0.]\n",
      "partition [0. 0. 1. 1. 1.]\n",
      "partition_inverse [1. 1. 0. 0. 0.]\n",
      "partition [0. 1. 1. 1. 1.]\n",
      "partition_inverse [1. 0. 0. 0. 0.]\n",
      "partition [1. 1. 1. 1. 1.]\n",
      "partition_inverse [0. 0. 0. 0. 0.]\n",
      "partition skip [1. 1. 1. 1. 1.]\n",
      "\n",
      "   /-r4\n",
      "--|\n",
      "  |   /-r3\n",
      "   \\-|\n",
      "      \\-r2\n",
      "partition [0. 0. 0. 0. 1.]\n",
      "partition_inverse [1. 1. 1. 1. 0.]\n",
      "partition [0. 0. 0. 1. 1.]\n",
      "partition_inverse [1. 1. 1. 0. 0.]\n",
      "partition [0. 0. 1. 1. 1.]\n",
      "partition_inverse [1. 1. 0. 0. 0.]\n",
      "{(0.0, 0.0, 1.0, 1.0, 1.0)}\n",
      "\n",
      "--r4\n",
      "partition [0. 0. 0. 0. 1.]\n",
      "partition_inverse [1. 1. 1. 1. 0.]\n",
      "partition skip [0. 0. 0. 0. 1.]\n",
      "\n",
      "   /-r3\n",
      "--|\n",
      "   \\-r2\n",
      "partition [0. 0. 0. 1. 0.]\n",
      "partition_inverse [1. 1. 1. 0. 1.]\n",
      "partition [0. 0. 1. 1. 0.]\n",
      "partition_inverse [1. 1. 0. 0. 1.]\n",
      "{(0.0, 0.0, 1.0, 1.0, 0.0), (0.0, 0.0, 1.0, 1.0, 1.0)}\n",
      "\n",
      "--r3\n",
      "partition [0. 0. 0. 1. 0.]\n",
      "partition_inverse [1. 1. 1. 0. 1.]\n",
      "partition skip [0. 0. 0. 1. 0.]\n",
      "\n",
      "--r2\n",
      "partition [0. 0. 1. 0. 0.]\n",
      "partition_inverse [1. 1. 0. 1. 1.]\n",
      "partition skip [0. 0. 1. 0. 0.]\n",
      "\n",
      "   /-r1\n",
      "--|\n",
      "   \\-r0\n",
      "partition [0. 1. 0. 0. 0.]\n",
      "partition_inverse [1. 0. 1. 1. 1.]\n",
      "partition [1. 1. 0. 0. 0.]\n",
      "partition_inverse [0. 0. 1. 1. 1.]\n",
      "preferred partition skip duplicate (0.0, 0.0, 1.0, 1.0, 1.0)\n",
      "\n",
      "--r1\n",
      "partition [0. 1. 0. 0. 0.]\n",
      "partition_inverse [1. 0. 1. 1. 1.]\n",
      "partition skip [0. 1. 0. 0. 0.]\n",
      "\n",
      "--r0\n",
      "partition [1. 0. 0. 0. 0.]\n",
      "partition_inverse [0. 1. 1. 1. 1.]\n",
      "partition skip [1. 0. 0. 0. 0.]\n",
      "0 (3, {(0.0, 0.0, 1.0, 1.0, 0.0), (0.0, 0.0, 1.0, 1.0, 1.0)})\n",
      "\n",
      "   /-r4\n",
      "--|\n",
      "  |   /-r3\n",
      "   \\-|\n",
      "     |   /-r2\n",
      "      \\-|\n",
      "        |   /-r1\n",
      "         \\-|\n",
      "            \\-r0\n",
      "partition [0. 0. 0. 0. 1.]\n",
      "partition_inverse [1. 1. 1. 1. 0.]\n",
      "partition [0. 0. 0. 1. 1.]\n",
      "partition_inverse [1. 1. 1. 0. 0.]\n",
      "partition [0. 0. 1. 1. 1.]\n",
      "partition_inverse [1. 1. 0. 0. 0.]\n",
      "partition [0. 1. 1. 1. 1.]\n",
      "partition_inverse [1. 0. 0. 0. 0.]\n",
      "partition [1. 1. 1. 1. 1.]\n",
      "partition_inverse [0. 0. 0. 0. 0.]\n",
      "partition skip [1. 1. 1. 1. 1.]\n",
      "\n",
      "--r4\n",
      "partition [0. 0. 0. 0. 1.]\n",
      "partition_inverse [1. 1. 1. 1. 0.]\n",
      "partition skip [0. 0. 0. 0. 1.]\n",
      "\n",
      "   /-r3\n",
      "--|\n",
      "  |   /-r2\n",
      "   \\-|\n",
      "     |   /-r1\n",
      "      \\-|\n",
      "         \\-r0\n",
      "partition [0. 0. 0. 1. 0.]\n",
      "partition_inverse [1. 1. 1. 0. 1.]\n",
      "partition [0. 0. 1. 1. 0.]\n",
      "partition_inverse [1. 1. 0. 0. 1.]\n",
      "partition [0. 1. 1. 1. 0.]\n",
      "partition_inverse [1. 0. 0. 0. 1.]\n",
      "partition [1. 1. 1. 1. 0.]\n",
      "partition_inverse [0. 0. 0. 0. 1.]\n",
      "{(0.0, 0.0, 0.0, 0.0, 1.0)}\n",
      "\n",
      "--r3\n",
      "partition [0. 0. 0. 1. 0.]\n",
      "partition_inverse [1. 1. 1. 0. 1.]\n",
      "partition skip [0. 0. 0. 1. 0.]\n",
      "\n",
      "   /-r2\n",
      "--|\n",
      "  |   /-r1\n",
      "   \\-|\n",
      "      \\-r0\n",
      "partition [0. 0. 1. 0. 0.]\n",
      "partition_inverse [1. 1. 0. 1. 1.]\n",
      "partition [0. 1. 1. 0. 0.]\n",
      "partition_inverse [1. 0. 0. 1. 1.]\n",
      "partition [1. 1. 1. 0. 0.]\n",
      "partition_inverse [0. 0. 0. 1. 1.]\n",
      "{(0.0, 0.0, 0.0, 1.0, 1.0), (0.0, 0.0, 0.0, 0.0, 1.0)}\n",
      "\n",
      "--r2\n",
      "partition [0. 0. 1. 0. 0.]\n",
      "partition_inverse [1. 1. 0. 1. 1.]\n",
      "partition skip [0. 0. 1. 0. 0.]\n",
      "\n",
      "   /-r1\n",
      "--|\n",
      "   \\-r0\n",
      "partition [0. 1. 0. 0. 0.]\n",
      "partition_inverse [1. 0. 1. 1. 1.]\n",
      "partition [1. 1. 0. 0. 0.]\n",
      "partition_inverse [0. 0. 1. 1. 1.]\n",
      "{(0.0, 0.0, 0.0, 1.0, 1.0), (0.0, 0.0, 1.0, 1.0, 1.0), (0.0, 0.0, 0.0, 0.0, 1.0)}\n",
      "\n",
      "--r1\n",
      "partition [0. 1. 0. 0. 0.]\n",
      "partition_inverse [1. 0. 1. 1. 1.]\n",
      "partition skip [0. 1. 0. 0. 0.]\n",
      "\n",
      "--r0\n",
      "partition [1. 0. 0. 0. 0.]\n",
      "partition_inverse [0. 1. 1. 1. 1.]\n",
      "partition skip [1. 0. 0. 0. 0.]\n",
      "1 (3, {(0.0, 0.0, 0.0, 1.0, 1.0), (0.0, 0.0, 1.0, 1.0, 1.0), (0.0, 0.0, 0.0, 0.0, 1.0)})\n",
      "\n",
      "      /-r1\n",
      "   /-|\n",
      "  |   \\-r0\n",
      "  |\n",
      "--|   /-r3\n",
      "  |--|\n",
      "  |   \\-r2\n",
      "  |\n",
      "   \\-r4\n",
      "partition [0. 0. 0. 0. 1.]\n",
      "partition_inverse [1. 1. 1. 1. 0.]\n",
      "partition [0. 0. 0. 1. 1.]\n",
      "partition_inverse [1. 1. 1. 0. 0.]\n",
      "partition [0. 0. 1. 1. 1.]\n",
      "partition_inverse [1. 1. 0. 0. 0.]\n",
      "partition [0. 1. 1. 1. 1.]\n",
      "partition_inverse [1. 0. 0. 0. 0.]\n",
      "partition [1. 1. 1. 1. 1.]\n",
      "partition_inverse [0. 0. 0. 0. 0.]\n",
      "partition skip [1. 1. 1. 1. 1.]\n",
      "\n",
      "   /-r1\n",
      "--|\n",
      "   \\-r0\n",
      "partition [0. 0. 0. 0. 1.]\n",
      "partition_inverse [1. 1. 1. 1. 0.]\n",
      "partition [0. 0. 0. 1. 1.]\n",
      "partition_inverse [1. 1. 1. 0. 0.]\n",
      "{(0.0, 0.0, 0.0, 1.0, 1.0)}\n",
      "\n",
      "--r1\n",
      "partition [0. 0. 0. 0. 1.]\n",
      "partition_inverse [1. 1. 1. 1. 0.]\n",
      "partition skip [0. 0. 0. 0. 1.]\n",
      "\n",
      "--r0\n",
      "partition [0. 0. 0. 1. 0.]\n",
      "partition_inverse [1. 1. 1. 0. 1.]\n",
      "partition skip [0. 0. 0. 1. 0.]\n",
      "\n",
      "   /-r3\n",
      "--|\n",
      "   \\-r2\n",
      "partition [0. 0. 1. 0. 0.]\n",
      "partition_inverse [1. 1. 0. 1. 1.]\n",
      "partition [0. 1. 1. 0. 0.]\n",
      "partition_inverse [1. 0. 0. 1. 1.]\n",
      "{(0.0, 0.0, 0.0, 1.0, 1.0), (0.0, 1.0, 1.0, 0.0, 0.0)}\n",
      "\n",
      "--r3\n",
      "partition [0. 0. 1. 0. 0.]\n",
      "partition_inverse [1. 1. 0. 1. 1.]\n",
      "partition skip [0. 0. 1. 0. 0.]\n",
      "\n",
      "--r2\n",
      "partition [0. 1. 0. 0. 0.]\n",
      "partition_inverse [1. 0. 1. 1. 1.]\n",
      "partition skip [0. 1. 0. 0. 0.]\n",
      "\n",
      "--r4\n",
      "partition [1. 0. 0. 0. 0.]\n",
      "partition_inverse [0. 1. 1. 1. 1.]\n",
      "partition skip [1. 0. 0. 0. 0.]\n",
      "3 3\n",
      "{(0.0, 0.0, 1.0, 1.0, 0.0), (0.0, 0.0, 1.0, 1.0, 1.0)}\n",
      "{(0.0, 0.0, 0.0, 1.0, 1.0), (0.0, 0.0, 1.0, 1.0, 1.0), (0.0, 0.0, 0.0, 0.0, 1.0)}\n",
      "1\n"
     ]
    },
    {
     "data": {
      "text/html": [
       "<div>\n",
       "<style scoped>\n",
       "    .dataframe tbody tr th:only-of-type {\n",
       "        vertical-align: middle;\n",
       "    }\n",
       "\n",
       "    .dataframe tbody tr th {\n",
       "        vertical-align: top;\n",
       "    }\n",
       "\n",
       "    .dataframe thead th {\n",
       "        text-align: right;\n",
       "    }\n",
       "</style>\n",
       "<table border=\"1\" class=\"dataframe\">\n",
       "  <thead>\n",
       "    <tr style=\"text-align: right;\">\n",
       "      <th></th>\n",
       "      <th>trees</th>\n",
       "      <th>RF</th>\n",
       "      <th>max_RF</th>\n",
       "      <th>normalized_rf</th>\n",
       "    </tr>\n",
       "  </thead>\n",
       "  <tbody>\n",
       "    <tr>\n",
       "      <th>0</th>\n",
       "      <td>0, 1</td>\n",
       "      <td>4</td>\n",
       "      <td>6.0</td>\n",
       "      <td>0.666667</td>\n",
       "    </tr>\n",
       "  </tbody>\n",
       "</table>\n",
       "</div>"
      ],
      "text/plain": [
       "  trees RF  max_RF  normalized_rf\n",
       "0  0, 1  4     6.0       0.666667"
      ]
     },
     "execution_count": 5,
     "metadata": {},
     "output_type": "execute_result"
    }
   ],
   "source": [
    "rf = toytree.distance.treedist.robinson_foulds(trees_list, \"pairwise\")\n",
    "rf.run()\n",
    "rf.data"
   ]
  },
  {
   "cell_type": "code",
   "execution_count": 6,
   "id": "capital-pound",
   "metadata": {},
   "outputs": [
    {
     "name": "stdout",
     "output_type": "stream",
     "text": [
      "\n",
      "      /-r4\n",
      "   /-|\n",
      "  |  |   /-r3\n",
      "  |   \\-|\n",
      "--|      \\-r2\n",
      "  |\n",
      "  |   /-r1\n",
      "   \\-|\n",
      "      \\-r0\n",
      "partition [0. 0. 0. 0. 1.]\n",
      "partition_inverse [1. 1. 1. 1. 0.]\n",
      "partition [0. 0. 0. 1. 1.]\n",
      "partition_inverse [1. 1. 1. 0. 0.]\n",
      "partition [0. 0. 1. 1. 1.]\n",
      "partition_inverse [1. 1. 0. 0. 0.]\n",
      "partition [0. 1. 1. 1. 1.]\n",
      "partition_inverse [1. 0. 0. 0. 0.]\n",
      "partition [1. 1. 1. 1. 1.]\n",
      "partition_inverse [0. 0. 0. 0. 0.]\n",
      "partition skip [1. 1. 1. 1. 1.]\n",
      "\n",
      "   /-r4\n",
      "--|\n",
      "  |   /-r3\n",
      "   \\-|\n",
      "      \\-r2\n",
      "partition [0. 0. 0. 0. 1.]\n",
      "partition_inverse [1. 1. 1. 1. 0.]\n",
      "partition [0. 0. 0. 1. 1.]\n",
      "partition_inverse [1. 1. 1. 0. 0.]\n",
      "partition [0. 0. 1. 1. 1.]\n",
      "partition_inverse [1. 1. 0. 0. 0.]\n",
      "{(0.0, 0.0, 1.0, 1.0, 1.0)}\n",
      "\n",
      "--r4\n",
      "partition [0. 0. 0. 0. 1.]\n",
      "partition_inverse [1. 1. 1. 1. 0.]\n",
      "partition skip [0. 0. 0. 0. 1.]\n",
      "\n",
      "   /-r3\n",
      "--|\n",
      "   \\-r2\n",
      "partition [0. 0. 0. 1. 0.]\n",
      "partition_inverse [1. 1. 1. 0. 1.]\n",
      "partition [0. 0. 1. 1. 0.]\n",
      "partition_inverse [1. 1. 0. 0. 1.]\n",
      "{(0.0, 0.0, 1.0, 1.0, 0.0), (0.0, 0.0, 1.0, 1.0, 1.0)}\n",
      "\n",
      "--r3\n",
      "partition [0. 0. 0. 1. 0.]\n",
      "partition_inverse [1. 1. 1. 0. 1.]\n",
      "partition skip [0. 0. 0. 1. 0.]\n",
      "\n",
      "--r2\n",
      "partition [0. 0. 1. 0. 0.]\n",
      "partition_inverse [1. 1. 0. 1. 1.]\n",
      "partition skip [0. 0. 1. 0. 0.]\n",
      "\n",
      "   /-r1\n",
      "--|\n",
      "   \\-r0\n",
      "partition [0. 1. 0. 0. 0.]\n",
      "partition_inverse [1. 0. 1. 1. 1.]\n",
      "partition [1. 1. 0. 0. 0.]\n",
      "partition_inverse [0. 0. 1. 1. 1.]\n",
      "preferred partition skip duplicate (0.0, 0.0, 1.0, 1.0, 1.0)\n",
      "\n",
      "--r1\n",
      "partition [0. 1. 0. 0. 0.]\n",
      "partition_inverse [1. 0. 1. 1. 1.]\n",
      "partition skip [0. 1. 0. 0. 0.]\n",
      "\n",
      "--r0\n",
      "partition [1. 0. 0. 0. 0.]\n",
      "partition_inverse [0. 1. 1. 1. 1.]\n",
      "partition skip [1. 0. 0. 0. 0.]\n",
      "0 (3, {(0.0, 0.0, 1.0, 1.0, 0.0), (0.0, 0.0, 1.0, 1.0, 1.0)})\n",
      "\n",
      "   /-r4\n",
      "--|\n",
      "  |   /-r3\n",
      "   \\-|\n",
      "     |   /-r2\n",
      "      \\-|\n",
      "        |   /-r1\n",
      "         \\-|\n",
      "            \\-r0\n",
      "partition [0. 0. 0. 0. 1.]\n",
      "partition_inverse [1. 1. 1. 1. 0.]\n",
      "partition [0. 0. 0. 1. 1.]\n",
      "partition_inverse [1. 1. 1. 0. 0.]\n",
      "partition [0. 0. 1. 1. 1.]\n",
      "partition_inverse [1. 1. 0. 0. 0.]\n",
      "partition [0. 1. 1. 1. 1.]\n",
      "partition_inverse [1. 0. 0. 0. 0.]\n",
      "partition [1. 1. 1. 1. 1.]\n",
      "partition_inverse [0. 0. 0. 0. 0.]\n",
      "partition skip [1. 1. 1. 1. 1.]\n",
      "\n",
      "--r4\n",
      "partition [0. 0. 0. 0. 1.]\n",
      "partition_inverse [1. 1. 1. 1. 0.]\n",
      "partition skip [0. 0. 0. 0. 1.]\n",
      "\n",
      "   /-r3\n",
      "--|\n",
      "  |   /-r2\n",
      "   \\-|\n",
      "     |   /-r1\n",
      "      \\-|\n",
      "         \\-r0\n",
      "partition [0. 0. 0. 1. 0.]\n",
      "partition_inverse [1. 1. 1. 0. 1.]\n",
      "partition [0. 0. 1. 1. 0.]\n",
      "partition_inverse [1. 1. 0. 0. 1.]\n",
      "partition [0. 1. 1. 1. 0.]\n",
      "partition_inverse [1. 0. 0. 0. 1.]\n",
      "partition [1. 1. 1. 1. 0.]\n",
      "partition_inverse [0. 0. 0. 0. 1.]\n",
      "{(0.0, 0.0, 0.0, 0.0, 1.0)}\n",
      "\n",
      "--r3\n",
      "partition [0. 0. 0. 1. 0.]\n",
      "partition_inverse [1. 1. 1. 0. 1.]\n",
      "partition skip [0. 0. 0. 1. 0.]\n",
      "\n",
      "   /-r2\n",
      "--|\n",
      "  |   /-r1\n",
      "   \\-|\n",
      "      \\-r0\n",
      "partition [0. 0. 1. 0. 0.]\n",
      "partition_inverse [1. 1. 0. 1. 1.]\n",
      "partition [0. 1. 1. 0. 0.]\n",
      "partition_inverse [1. 0. 0. 1. 1.]\n",
      "partition [1. 1. 1. 0. 0.]\n",
      "partition_inverse [0. 0. 0. 1. 1.]\n",
      "{(0.0, 0.0, 0.0, 1.0, 1.0), (0.0, 0.0, 0.0, 0.0, 1.0)}\n",
      "\n",
      "--r2\n",
      "partition [0. 0. 1. 0. 0.]\n",
      "partition_inverse [1. 1. 0. 1. 1.]\n",
      "partition skip [0. 0. 1. 0. 0.]\n",
      "\n",
      "   /-r1\n",
      "--|\n",
      "   \\-r0\n",
      "partition [0. 1. 0. 0. 0.]\n",
      "partition_inverse [1. 0. 1. 1. 1.]\n",
      "partition [1. 1. 0. 0. 0.]\n",
      "partition_inverse [0. 0. 1. 1. 1.]\n",
      "{(0.0, 0.0, 0.0, 1.0, 1.0), (0.0, 0.0, 1.0, 1.0, 1.0), (0.0, 0.0, 0.0, 0.0, 1.0)}\n",
      "\n",
      "--r1\n",
      "partition [0. 1. 0. 0. 0.]\n",
      "partition_inverse [1. 0. 1. 1. 1.]\n",
      "partition skip [0. 1. 0. 0. 0.]\n",
      "\n",
      "--r0\n",
      "partition [1. 0. 0. 0. 0.]\n",
      "partition_inverse [0. 1. 1. 1. 1.]\n",
      "partition skip [1. 0. 0. 0. 0.]\n",
      "1 (3, {(0.0, 0.0, 0.0, 1.0, 1.0), (0.0, 0.0, 1.0, 1.0, 1.0), (0.0, 0.0, 0.0, 0.0, 1.0)})\n",
      "\n",
      "      /-r1\n",
      "   /-|\n",
      "  |   \\-r0\n",
      "  |\n",
      "--|   /-r3\n",
      "  |--|\n",
      "  |   \\-r2\n",
      "  |\n",
      "   \\-r4\n",
      "partition [0. 0. 0. 0. 1.]\n",
      "partition_inverse [1. 1. 1. 1. 0.]\n",
      "partition [0. 0. 0. 1. 1.]\n",
      "partition_inverse [1. 1. 1. 0. 0.]\n",
      "partition [0. 0. 1. 1. 1.]\n",
      "partition_inverse [1. 1. 0. 0. 0.]\n",
      "partition [0. 1. 1. 1. 1.]\n",
      "partition_inverse [1. 0. 0. 0. 0.]\n",
      "partition [1. 1. 1. 1. 1.]\n",
      "partition_inverse [0. 0. 0. 0. 0.]\n",
      "partition skip [1. 1. 1. 1. 1.]\n",
      "\n",
      "   /-r1\n",
      "--|\n",
      "   \\-r0\n",
      "partition [0. 0. 0. 0. 1.]\n",
      "partition_inverse [1. 1. 1. 1. 0.]\n",
      "partition [0. 0. 0. 1. 1.]\n",
      "partition_inverse [1. 1. 1. 0. 0.]\n",
      "{(0.0, 0.0, 0.0, 1.0, 1.0)}\n",
      "\n",
      "--r1\n",
      "partition [0. 0. 0. 0. 1.]\n",
      "partition_inverse [1. 1. 1. 1. 0.]\n",
      "partition skip [0. 0. 0. 0. 1.]\n",
      "\n",
      "--r0\n",
      "partition [0. 0. 0. 1. 0.]\n",
      "partition_inverse [1. 1. 1. 0. 1.]\n",
      "partition skip [0. 0. 0. 1. 0.]\n",
      "\n",
      "   /-r3\n",
      "--|\n",
      "   \\-r2\n",
      "partition [0. 0. 1. 0. 0.]\n",
      "partition_inverse [1. 1. 0. 1. 1.]\n",
      "partition [0. 1. 1. 0. 0.]\n",
      "partition_inverse [1. 0. 0. 1. 1.]\n",
      "{(0.0, 0.0, 0.0, 1.0, 1.0), (0.0, 1.0, 1.0, 0.0, 0.0)}\n",
      "\n",
      "--r3\n",
      "partition [0. 0. 1. 0. 0.]\n",
      "partition_inverse [1. 1. 0. 1. 1.]\n",
      "partition skip [0. 0. 1. 0. 0.]\n",
      "\n",
      "--r2\n",
      "partition [0. 1. 0. 0. 0.]\n",
      "partition_inverse [1. 0. 1. 1. 1.]\n",
      "partition skip [0. 1. 0. 0. 0.]\n",
      "\n",
      "--r4\n",
      "partition [1. 0. 0. 0. 0.]\n",
      "partition_inverse [0. 1. 1. 1. 1.]\n",
      "partition skip [1. 0. 0. 0. 0.]\n",
      "3 3\n",
      "{(0.0, 0.0, 0.0, 1.0, 1.0), (0.0, 0.0, 1.0, 1.0, 1.0), (0.0, 0.0, 0.0, 0.0, 1.0)}\n",
      "{(0.0, 0.0, 1.0, 1.0, 0.0), (0.0, 0.0, 1.0, 1.0, 1.0)}\n",
      "1\n"
     ]
    },
    {
     "data": {
      "text/html": [
       "<div>\n",
       "<style scoped>\n",
       "    .dataframe tbody tr th:only-of-type {\n",
       "        vertical-align: middle;\n",
       "    }\n",
       "\n",
       "    .dataframe tbody tr th {\n",
       "        vertical-align: top;\n",
       "    }\n",
       "\n",
       "    .dataframe thead th {\n",
       "        text-align: right;\n",
       "    }\n",
       "</style>\n",
       "<table border=\"1\" class=\"dataframe\">\n",
       "  <thead>\n",
       "    <tr style=\"text-align: right;\">\n",
       "      <th></th>\n",
       "      <th>trees</th>\n",
       "      <th>RF</th>\n",
       "      <th>max_RF</th>\n",
       "      <th>normalized_rf</th>\n",
       "    </tr>\n",
       "  </thead>\n",
       "  <tbody>\n",
       "    <tr>\n",
       "      <th>0</th>\n",
       "      <td>1, 0</td>\n",
       "      <td>4</td>\n",
       "      <td>6.0</td>\n",
       "      <td>0.666667</td>\n",
       "    </tr>\n",
       "  </tbody>\n",
       "</table>\n",
       "</div>"
      ],
      "text/plain": [
       "  trees RF  max_RF  normalized_rf\n",
       "0  1, 0  4     6.0       0.666667"
      ]
     },
     "execution_count": 6,
     "metadata": {},
     "output_type": "execute_result"
    }
   ],
   "source": [
    "rf = toytree.distance.treedist.robinson_foulds(trees_list, \"random\")\n",
    "rf.run()\n",
    "rf.data"
   ]
  },
  {
   "cell_type": "code",
   "execution_count": 7,
   "id": "nonprofit-dependence",
   "metadata": {},
   "outputs": [
    {
     "name": "stdout",
     "output_type": "stream",
     "text": [
      "\n",
      "      /-r4\n",
      "   /-|\n",
      "  |  |   /-r3\n",
      "  |   \\-|\n",
      "--|      \\-r2\n",
      "  |\n",
      "  |   /-r1\n",
      "   \\-|\n",
      "      \\-r0\n",
      "partition [0. 0. 0. 0. 1.]\n",
      "partition_inverse [1. 1. 1. 1. 0.]\n",
      "partition [0. 0. 0. 1. 1.]\n",
      "partition_inverse [1. 1. 1. 0. 0.]\n",
      "partition [0. 0. 1. 1. 1.]\n",
      "partition_inverse [1. 1. 0. 0. 0.]\n",
      "partition [0. 1. 1. 1. 1.]\n",
      "partition_inverse [1. 0. 0. 0. 0.]\n",
      "partition [1. 1. 1. 1. 1.]\n",
      "partition_inverse [0. 0. 0. 0. 0.]\n",
      "partition skip [1. 1. 1. 1. 1.]\n",
      "\n",
      "   /-r4\n",
      "--|\n",
      "  |   /-r3\n",
      "   \\-|\n",
      "      \\-r2\n",
      "partition [0. 0. 0. 0. 1.]\n",
      "partition_inverse [1. 1. 1. 1. 0.]\n",
      "partition [0. 0. 0. 1. 1.]\n",
      "partition_inverse [1. 1. 1. 0. 0.]\n",
      "partition [0. 0. 1. 1. 1.]\n",
      "partition_inverse [1. 1. 0. 0. 0.]\n",
      "{(0.0, 0.0, 1.0, 1.0, 1.0)}\n",
      "\n",
      "--r4\n",
      "partition [0. 0. 0. 0. 1.]\n",
      "partition_inverse [1. 1. 1. 1. 0.]\n",
      "partition skip [0. 0. 0. 0. 1.]\n",
      "\n",
      "   /-r3\n",
      "--|\n",
      "   \\-r2\n",
      "partition [0. 0. 0. 1. 0.]\n",
      "partition_inverse [1. 1. 1. 0. 1.]\n",
      "partition [0. 0. 1. 1. 0.]\n",
      "partition_inverse [1. 1. 0. 0. 1.]\n",
      "{(0.0, 0.0, 1.0, 1.0, 0.0), (0.0, 0.0, 1.0, 1.0, 1.0)}\n",
      "\n",
      "--r3\n",
      "partition [0. 0. 0. 1. 0.]\n",
      "partition_inverse [1. 1. 1. 0. 1.]\n",
      "partition skip [0. 0. 0. 1. 0.]\n",
      "\n",
      "--r2\n",
      "partition [0. 0. 1. 0. 0.]\n",
      "partition_inverse [1. 1. 0. 1. 1.]\n",
      "partition skip [0. 0. 1. 0. 0.]\n",
      "\n",
      "   /-r1\n",
      "--|\n",
      "   \\-r0\n",
      "partition [0. 1. 0. 0. 0.]\n",
      "partition_inverse [1. 0. 1. 1. 1.]\n",
      "partition [1. 1. 0. 0. 0.]\n",
      "partition_inverse [0. 0. 1. 1. 1.]\n",
      "preferred partition skip duplicate (0.0, 0.0, 1.0, 1.0, 1.0)\n",
      "\n",
      "--r1\n",
      "partition [0. 1. 0. 0. 0.]\n",
      "partition_inverse [1. 0. 1. 1. 1.]\n",
      "partition skip [0. 1. 0. 0. 0.]\n",
      "\n",
      "--r0\n",
      "partition [1. 0. 0. 0. 0.]\n",
      "partition_inverse [0. 1. 1. 1. 1.]\n",
      "partition skip [1. 0. 0. 0. 0.]\n",
      "0 (3, {(0.0, 0.0, 1.0, 1.0, 0.0), (0.0, 0.0, 1.0, 1.0, 1.0)})\n",
      "\n",
      "   /-r4\n",
      "--|\n",
      "  |   /-r3\n",
      "   \\-|\n",
      "     |   /-r2\n",
      "      \\-|\n",
      "        |   /-r1\n",
      "         \\-|\n",
      "            \\-r0\n",
      "partition [0. 0. 0. 0. 1.]\n",
      "partition_inverse [1. 1. 1. 1. 0.]\n",
      "partition [0. 0. 0. 1. 1.]\n",
      "partition_inverse [1. 1. 1. 0. 0.]\n",
      "partition [0. 0. 1. 1. 1.]\n",
      "partition_inverse [1. 1. 0. 0. 0.]\n",
      "partition [0. 1. 1. 1. 1.]\n",
      "partition_inverse [1. 0. 0. 0. 0.]\n",
      "partition [1. 1. 1. 1. 1.]\n",
      "partition_inverse [0. 0. 0. 0. 0.]\n",
      "partition skip [1. 1. 1. 1. 1.]\n",
      "\n",
      "--r4\n",
      "partition [0. 0. 0. 0. 1.]\n",
      "partition_inverse [1. 1. 1. 1. 0.]\n",
      "partition skip [0. 0. 0. 0. 1.]\n",
      "\n",
      "   /-r3\n",
      "--|\n",
      "  |   /-r2\n",
      "   \\-|\n",
      "     |   /-r1\n",
      "      \\-|\n",
      "         \\-r0\n",
      "partition [0. 0. 0. 1. 0.]\n",
      "partition_inverse [1. 1. 1. 0. 1.]\n",
      "partition [0. 0. 1. 1. 0.]\n",
      "partition_inverse [1. 1. 0. 0. 1.]\n",
      "partition [0. 1. 1. 1. 0.]\n",
      "partition_inverse [1. 0. 0. 0. 1.]\n",
      "partition [1. 1. 1. 1. 0.]\n",
      "partition_inverse [0. 0. 0. 0. 1.]\n",
      "{(0.0, 0.0, 0.0, 0.0, 1.0)}\n",
      "\n",
      "--r3\n",
      "partition [0. 0. 0. 1. 0.]\n",
      "partition_inverse [1. 1. 1. 0. 1.]\n",
      "partition skip [0. 0. 0. 1. 0.]\n",
      "\n",
      "   /-r2\n",
      "--|\n",
      "  |   /-r1\n",
      "   \\-|\n",
      "      \\-r0\n",
      "partition [0. 0. 1. 0. 0.]\n",
      "partition_inverse [1. 1. 0. 1. 1.]\n",
      "partition [0. 1. 1. 0. 0.]\n",
      "partition_inverse [1. 0. 0. 1. 1.]\n",
      "partition [1. 1. 1. 0. 0.]\n",
      "partition_inverse [0. 0. 0. 1. 1.]\n",
      "{(0.0, 0.0, 0.0, 1.0, 1.0), (0.0, 0.0, 0.0, 0.0, 1.0)}\n",
      "\n",
      "--r2\n",
      "partition [0. 0. 1. 0. 0.]\n",
      "partition_inverse [1. 1. 0. 1. 1.]\n",
      "partition skip [0. 0. 1. 0. 0.]\n",
      "\n",
      "   /-r1\n",
      "--|\n",
      "   \\-r0\n",
      "partition [0. 1. 0. 0. 0.]\n",
      "partition_inverse [1. 0. 1. 1. 1.]\n",
      "partition [1. 1. 0. 0. 0.]\n",
      "partition_inverse [0. 0. 1. 1. 1.]\n",
      "{(0.0, 0.0, 0.0, 1.0, 1.0), (0.0, 0.0, 1.0, 1.0, 1.0), (0.0, 0.0, 0.0, 0.0, 1.0)}\n",
      "\n",
      "--r1\n",
      "partition [0. 1. 0. 0. 0.]\n",
      "partition_inverse [1. 0. 1. 1. 1.]\n",
      "partition skip [0. 1. 0. 0. 0.]\n",
      "\n",
      "--r0\n",
      "partition [1. 0. 0. 0. 0.]\n",
      "partition_inverse [0. 1. 1. 1. 1.]\n",
      "partition skip [1. 0. 0. 0. 0.]\n",
      "1 (3, {(0.0, 0.0, 0.0, 1.0, 1.0), (0.0, 0.0, 1.0, 1.0, 1.0), (0.0, 0.0, 0.0, 0.0, 1.0)})\n",
      "\n",
      "      /-r1\n",
      "   /-|\n",
      "  |   \\-r0\n",
      "  |\n",
      "--|   /-r3\n",
      "  |--|\n",
      "  |   \\-r2\n",
      "  |\n",
      "   \\-r4\n",
      "partition [0. 0. 0. 0. 1.]\n",
      "partition_inverse [1. 1. 1. 1. 0.]\n",
      "partition [0. 0. 0. 1. 1.]\n",
      "partition_inverse [1. 1. 1. 0. 0.]\n",
      "partition [0. 0. 1. 1. 1.]\n",
      "partition_inverse [1. 1. 0. 0. 0.]\n",
      "partition [0. 1. 1. 1. 1.]\n",
      "partition_inverse [1. 0. 0. 0. 0.]\n",
      "partition [1. 1. 1. 1. 1.]\n",
      "partition_inverse [0. 0. 0. 0. 0.]\n",
      "partition skip [1. 1. 1. 1. 1.]\n",
      "\n",
      "   /-r1\n",
      "--|\n",
      "   \\-r0\n",
      "partition [0. 0. 0. 0. 1.]\n",
      "partition_inverse [1. 1. 1. 1. 0.]\n",
      "partition [0. 0. 0. 1. 1.]\n",
      "partition_inverse [1. 1. 1. 0. 0.]\n",
      "{(0.0, 0.0, 0.0, 1.0, 1.0)}\n",
      "\n",
      "--r1\n",
      "partition [0. 0. 0. 0. 1.]\n",
      "partition_inverse [1. 1. 1. 1. 0.]\n",
      "partition skip [0. 0. 0. 0. 1.]\n",
      "\n",
      "--r0\n",
      "partition [0. 0. 0. 1. 0.]\n",
      "partition_inverse [1. 1. 1. 0. 1.]\n",
      "partition skip [0. 0. 0. 1. 0.]\n",
      "\n",
      "   /-r3\n",
      "--|\n",
      "   \\-r2\n",
      "partition [0. 0. 1. 0. 0.]\n",
      "partition_inverse [1. 1. 0. 1. 1.]\n",
      "partition [0. 1. 1. 0. 0.]\n",
      "partition_inverse [1. 0. 0. 1. 1.]\n",
      "{(0.0, 0.0, 0.0, 1.0, 1.0), (0.0, 1.0, 1.0, 0.0, 0.0)}\n",
      "\n",
      "--r3\n",
      "partition [0. 0. 1. 0. 0.]\n",
      "partition_inverse [1. 1. 0. 1. 1.]\n",
      "partition skip [0. 0. 1. 0. 0.]\n",
      "\n",
      "--r2\n",
      "partition [0. 1. 0. 0. 0.]\n",
      "partition_inverse [1. 0. 1. 1. 1.]\n",
      "partition skip [0. 1. 0. 0. 0.]\n",
      "\n",
      "--r4\n",
      "partition [1. 0. 0. 0. 0.]\n",
      "partition_inverse [0. 1. 1. 1. 1.]\n",
      "partition skip [1. 0. 0. 0. 0.]\n"
     ]
    },
    {
     "data": {
      "text/html": [
       "<div>\n",
       "<style scoped>\n",
       "    .dataframe tbody tr th:only-of-type {\n",
       "        vertical-align: middle;\n",
       "    }\n",
       "\n",
       "    .dataframe tbody tr th {\n",
       "        vertical-align: top;\n",
       "    }\n",
       "\n",
       "    .dataframe thead th {\n",
       "        text-align: right;\n",
       "    }\n",
       "</style>\n",
       "<table border=\"1\" class=\"dataframe\">\n",
       "  <thead>\n",
       "    <tr style=\"text-align: right;\">\n",
       "      <th></th>\n",
       "      <th>trees</th>\n",
       "      <th>RF</th>\n",
       "      <th>max_RF</th>\n",
       "      <th>normalized_rf</th>\n",
       "    </tr>\n",
       "  </thead>\n",
       "  <tbody>\n",
       "    <tr>\n",
       "      <th>0</th>\n",
       "      <td>0, consensus</td>\n",
       "      <td>5</td>\n",
       "      <td>5.0</td>\n",
       "      <td>1.0</td>\n",
       "    </tr>\n",
       "    <tr>\n",
       "      <th>1</th>\n",
       "      <td>1, consensus</td>\n",
       "      <td>3</td>\n",
       "      <td>5.0</td>\n",
       "      <td>0.6</td>\n",
       "    </tr>\n",
       "  </tbody>\n",
       "</table>\n",
       "</div>"
      ],
      "text/plain": [
       "          trees RF  max_RF  normalized_rf\n",
       "0  0, consensus  5     5.0            1.0\n",
       "1  1, consensus  3     5.0            0.6"
      ]
     },
     "execution_count": 7,
     "metadata": {},
     "output_type": "execute_result"
    }
   ],
   "source": [
    "rf = toytree.distance.treedist.robinson_foulds(trees_list, \"consensus\")\n",
    "rf.run()\n",
    "rf.data"
   ]
  },
  {
   "cell_type": "markdown",
   "id": "deadly-principal",
   "metadata": {},
   "source": [
    "## ---"
   ]
  },
  {
   "cell_type": "markdown",
   "id": "million-onion",
   "metadata": {},
   "source": [
    "### TO DO:\n",
    "1. Quartets function - DONE\n",
    "2. Rewrite RF function - DONE\n",
    "3. Suggested tweaks: \n",
    "  - Raise error when only one tree given\n",
    "  - Use `args` instead of sampmethod, consensustree etc.\n",
    "  - access to backup OldRobinsonFoulds option (?)\n",
    "4. Python class inheritance (decorator @ with class object)"
   ]
  }
 ],
 "metadata": {
  "kernelspec": {
   "display_name": "Python 3 (ipykernel)",
   "language": "python",
   "name": "python3"
  },
  "language_info": {
   "codemirror_mode": {
    "name": "ipython",
    "version": 3
   },
   "file_extension": ".py",
   "mimetype": "text/x-python",
   "name": "python",
   "nbconvert_exporter": "python",
   "pygments_lexer": "ipython3",
   "version": "3.10.12"
  }
 },
 "nbformat": 4,
 "nbformat_minor": 5
}
