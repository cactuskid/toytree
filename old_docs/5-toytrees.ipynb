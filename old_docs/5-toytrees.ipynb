{
 "cells": [
  {
   "cell_type": "markdown",
   "metadata": {},
   "source": [
    "## ToyTree objects\n",
    "\n",
    "The main class object users interact with in toytree is called a `ToyTree`. This object contains a number of useful functions for interacting with the underlying `TreeNode` structure (e.g., rooting, dropping tips) and for drawing trees and adding data from the tree (e.g., support values) to the plots. The link between tree structure and the data used to build tree drawings is tightly linked in toytree with the goal of making it very difficult for users to accidentally plot tip or node labels in an incorrect order. This section of the tutorial is primarily about how ToyTree objects store data, and how to access it easily using their functions. "
   ]
  },
  {
   "cell_type": "code",
   "execution_count": 1,
   "metadata": {},
   "outputs": [],
   "source": [
    "import toytree\n",
    "import toyplot\n",
    "import numpy as np"
   ]
  },
  {
   "cell_type": "code",
   "execution_count": 2,
   "metadata": {},
   "outputs": [],
   "source": [
    "# load a tree for this tutorial\n",
    "tre = toytree.tree(\"https://eaton-lab.org/data/Cyathophora.tre\")"
   ]
  },
  {
   "cell_type": "markdown",
   "metadata": {},
   "source": [
    "### Selecting parts of a tree\n",
    "Toytree provides many functions for modifying the tree structure (e.g., rooting a tree, dropping tips), as well as methods for applying styles to specific parts of the tree (e.g., coloring edges differently). Both of these require an easy and reliable method for selecting specific parts of the tree while also minimizing the chance for user error. "
   ]
  },
  {
   "cell_type": "markdown",
   "metadata": {},
   "source": [
    "#### Selecting subtrees with tip labels\n",
    "In toytree we recommend using tip labels to select the location in the tree where it should be manipulated. Whey use tip labels instead of node names or indices? Well, using node indices (e.g., idx labels) would be a reasonable alternative, but it turns out this would likely be more error prone for users (although it is also allowed as an option). This is because _if_ the tree is modified (e.g., if tips are dropped or the tree is re-rooted) the node indices will change. In contrast, the relationships among tips (i.e., who shares a more recent common ancestor with whom) does not change with any of these tree modifications. Node names are another option, but in most trees internal nodes are not named.\n",
    "\n",
    "The plot below shows how node idx labels changes as the tree is modified. This is the reason why using idx labels as selectors is more error prone. "
   ]
  },
  {
   "cell_type": "code",
   "execution_count": 3,
   "metadata": {},
   "outputs": [],
   "source": [
    "# store a rooted copy of tre (more on this later...)\n",
    "rtre = tre.root(['33588_przewalskii', '32082_przewalskii'])"
   ]
  },
  {
   "cell_type": "code",
   "execution_count": 26,
   "metadata": {},
   "outputs": [
    {
     "data": {
      "text/html": [
       "<div class=\"toyplot\" id=\"t802f266a2b0748f1a41642a2e6fa9d92\" style=\"text-align:center\"><svg class=\"toyplot-canvas-Canvas\" xmlns:toyplot=\"http://www.sandia.gov/toyplot\" xmlns:xlink=\"http://www.w3.org/1999/xlink\" xmlns=\"http://www.w3.org/2000/svg\" width=\"500.0px\" height=\"250.0px\" viewBox=\"0 0 500.0 250.0\" preserveAspectRatio=\"xMidYMid meet\" style=\"background-color:transparent;border-color:#292724;border-style:none;border-width:1.0;fill:rgb(16.1%,15.3%,14.1%);fill-opacity:1.0;font-family:Helvetica;font-size:12px;opacity:1.0;stroke:rgb(16.1%,15.3%,14.1%);stroke-opacity:1.0;stroke-width:1.0\" id=\"tfdffbbad99f943e192c31961cb9530fc\"><g class=\"toyplot-coordinates-Cartesian\" id=\"t2b5ecce97304402ca9959929830c5597\"><clipPath id=\"t16f840f0cf2a42bdad83990ebcb65fe8\"><rect x=\"40.0\" y=\"40.0\" width=\"195.0\" height=\"195.0\"></rect></clipPath><g clip-path=\"url(#t16f840f0cf2a42bdad83990ebcb65fe8)\"><g class=\"toytree-mark-Toytree\" id=\"t4222f9568ed84c9a8dccebce2cbe8cae\"><g class=\"toytree-Edges\" style=\"fill:none;stroke:rgba(16.1%,15.3%,14.1%,1.000);stroke-linecap:round;stroke-width:2.0\"><path d=\"M 53.6 140.5 L 53.6 218.1 L 53.7 218.1\" id=\"23,0\" style=\"stroke-width:nan\"></path><path d=\"M 72.9 197.9 L 72.9 204.7 L 83.9 204.7\" id=\"20,1\" style=\"stroke-width:nan\"></path><path d=\"M 72.9 197.9 L 72.9 191.2 L 83.3 191.2\" id=\"20,2\" style=\"stroke-width:nan\"></path><path d=\"M 97.1 171.1 L 97.1 177.8 L 98.9 177.8\" id=\"13,3\" style=\"stroke-width:nan\"></path><path d=\"M 97.1 171.1 L 97.1 164.4 L 98.6 164.4\" id=\"13,4\" style=\"stroke-width:nan\"></path><path d=\"M 86.9 161.0 L 86.9 150.9 L 96.5 150.9\" id=\"14,5\" style=\"stroke-width:nan\"></path><path d=\"M 89.4 130.8 L 89.4 137.5 L 95.0 137.5\" id=\"15,6\" style=\"stroke-width:nan\"></path><path d=\"M 89.4 130.8 L 89.4 124.1 L 94.9 124.1\" id=\"15,7\" style=\"stroke-width:nan\"></path><path d=\"M 84.4 128.3 L 84.4 110.6 L 95.2 110.6\" id=\"17,8\" style=\"stroke-width:nan\"></path><path d=\"M 82.7 112.7 L 82.7 97.2 L 92.0 97.2\" id=\"18,9\" style=\"stroke-width:nan\"></path><path d=\"M 132.8 77.1 L 132.8 83.8 L 136.8 83.8\" id=\"19,10\" style=\"stroke-width:nan\"></path><path d=\"M 132.8 77.1 L 132.8 70.3 L 137.0 70.3\" id=\"19,11\" style=\"stroke-width:nan\"></path><path d=\"M 53.6 140.5 L 53.6 56.9 L 53.7 56.9\" id=\"23,12\" style=\"stroke-width:nan\"></path><path d=\"M 86.9 161.0 L 86.9 171.1 L 97.1 171.1\" id=\"14,13\" style=\"stroke-width:nan\"></path><path d=\"M 85.7 145.9 L 85.7 161.0 L 86.9 161.0\" id=\"16,14\" style=\"stroke-width:nan\"></path><path d=\"M 85.7 145.9 L 85.7 130.8 L 89.4 130.8\" id=\"16,15\" style=\"stroke-width:nan\"></path><path d=\"M 84.4 128.3 L 84.4 145.9 L 85.7 145.9\" id=\"17,16\" style=\"stroke-width:nan\"></path><path d=\"M 82.7 112.7 L 82.7 128.3 L 84.4 128.3\" id=\"18,17\" style=\"stroke-width:nan\"></path><path d=\"M 73.9 94.9 L 73.9 112.7 L 82.7 112.7\" id=\"21,18\" style=\"stroke-width:nan\"></path><path d=\"M 73.9 94.9 L 73.9 77.1 L 132.8 77.1\" id=\"21,19\" style=\"stroke-width:nan\"></path><path d=\"M 69.0 146.4 L 69.0 197.9 L 72.9 197.9\" id=\"22,20\" style=\"stroke-width:nan\"></path><path d=\"M 69.0 146.4 L 69.0 94.9 L 73.9 94.9\" id=\"22,21\" style=\"stroke-width:nan\"></path><path d=\"M 53.6 140.5 L 53.6 146.4 L 69.0 146.4\" id=\"23,22\" style=\"stroke-width:nan\"></path></g><g class=\"toytree-Nodes\" style=\"fill:rgba(40.0%,76.1%,64.7%,1.000);stroke:#262626;stroke-width:1.0\"><g id=\"node-13\" transform=\"translate(97.069,171.080)\"><circle r=\"7.5\"></circle></g><g id=\"node-14\" transform=\"translate(86.936,161.006)\"><circle r=\"7.5\"></circle></g><g id=\"node-15\" transform=\"translate(89.382,130.784)\"><circle r=\"7.5\"></circle></g><g id=\"node-16\" transform=\"translate(85.723,145.895)\"><circle r=\"7.5\"></circle></g><g id=\"node-17\" transform=\"translate(84.438,128.265)\"><circle r=\"7.5\"></circle></g><g id=\"node-18\" transform=\"translate(82.741,112.735)\"><circle r=\"7.5\"></circle></g><g id=\"node-19\" transform=\"translate(132.768,77.056)\"><circle r=\"7.5\"></circle></g><g id=\"node-20\" transform=\"translate(72.923,197.944)\"><circle r=\"7.5\"></circle></g><g id=\"node-21\" transform=\"translate(73.901,94.895)\"><circle r=\"7.5\"></circle></g><g id=\"node-22\" transform=\"translate(69.018,146.420)\"><circle r=\"7.5\"></circle></g><g id=\"node-23\" transform=\"translate(53.576,140.473)\"><circle r=\"7.5\"></circle></g></g><g class=\"toytree-NodeLabels\" style=\"font-family:Helvetica;font-size:9.0px;font-weight:300;stroke:none;vertical-align:baseline;white-space:pre\"><g class=\"toytree-NodeLabel\" transform=\"translate(97.06872472667197,171.08004385964915)\"><text x=\"-5.0040000000000004\" y=\"2.2995\" style=\"fill:rgb(16.1%,15.3%,14.1%);fill-opacity:1.0\">13</text></g><g class=\"toytree-NodeLabel\" transform=\"translate(86.93564513111332,161.00603070175438)\"><text x=\"-5.0040000000000004\" y=\"2.2995\" style=\"fill:rgb(16.1%,15.3%,14.1%);fill-opacity:1.0\">14</text></g><g class=\"toytree-NodeLabel\" transform=\"translate(89.38240245938366,130.78399122807016)\"><text x=\"-5.0040000000000004\" y=\"2.2995\" style=\"fill:rgb(16.1%,15.3%,14.1%);fill-opacity:1.0\">15</text></g><g class=\"toytree-NodeLabel\" transform=\"translate(85.72317472469423,145.89501096491227)\"><text x=\"-5.0040000000000004\" y=\"2.2995\" style=\"fill:rgb(16.1%,15.3%,14.1%);fill-opacity:1.0\">16</text></g><g class=\"toytree-NodeLabel\" transform=\"translate(84.43774097599702,128.2654879385965)\"><text x=\"-5.0040000000000004\" y=\"2.2995\" style=\"fill:rgb(16.1%,15.3%,14.1%);fill-opacity:1.0\">17</text></g><g class=\"toytree-NodeLabel\" transform=\"translate(82.74137190326701,112.7347176535088)\"><text x=\"-5.0040000000000004\" y=\"2.2995\" style=\"fill:rgb(16.1%,15.3%,14.1%);fill-opacity:1.0\">18</text></g><g class=\"toytree-NodeLabel\" transform=\"translate(132.76784388935823,77.05592105263159)\"><text x=\"-5.0040000000000004\" y=\"2.2995\" style=\"fill:rgb(16.1%,15.3%,14.1%);fill-opacity:1.0\">19</text></g><g class=\"toytree-NodeLabel\" transform=\"translate(72.92290178007244,197.94407894736844)\"><text x=\"-5.0040000000000004\" y=\"2.2995\" style=\"fill:rgb(16.1%,15.3%,14.1%);fill-opacity:1.0\">20</text></g><g class=\"toytree-NodeLabel\" transform=\"translate(73.90140039688832,94.89531935307019)\"><text x=\"-5.0040000000000004\" y=\"2.2995\" style=\"fill:rgb(16.1%,15.3%,14.1%);fill-opacity:1.0\">21</text></g><g class=\"toytree-NodeLabel\" transform=\"translate(69.01761758127354,146.41969915021934)\"><text x=\"-5.0040000000000004\" y=\"2.2995\" style=\"fill:rgb(16.1%,15.3%,14.1%);fill-opacity:1.0\">22</text></g><g class=\"toytree-NodeLabel\" transform=\"translate(53.576294277929165,140.47323305007313)\"><text x=\"-5.0040000000000004\" y=\"2.2995\" style=\"fill:rgb(16.1%,15.3%,14.1%);fill-opacity:1.0\">23</text></g></g><g class=\"toytree-TipLabels\" style=\"fill:rgb(16.1%,15.3%,14.1%);fill-opacity:1.0;font-family:Helvetica;font-size:10.0px;font-weight:300;stroke:none;vertical-align:baseline;white-space:pre\"><g class=\"toytree-TipLabel\" transform=\"translate(53.662970267782676,218.09210526315792)\"><text x=\"10.0\" y=\"2.5549999999999997\" style=\"\">41478_cyathophylloides</text></g><g class=\"toytree-TipLabel\" transform=\"translate(83.91610863737328,204.66008771929825)\"><text x=\"10.0\" y=\"2.5549999999999997\" style=\"\">30686_cyathophylla</text></g><g class=\"toytree-TipLabel\" transform=\"translate(83.33016916013418,191.2280701754386)\"><text x=\"10.0\" y=\"2.5549999999999997\" style=\"\">29154_superba</text></g><g class=\"toytree-TipLabel\" transform=\"translate(98.86090298635665,177.79605263157896)\"><text x=\"10.0\" y=\"2.5549999999999997\" style=\"\">38362_rex</text></g><g class=\"toytree-TipLabel\" transform=\"translate(98.64741515917171,164.3640350877193)\"><text x=\"10.0\" y=\"2.5549999999999997\" style=\"\">39618_rex</text></g><g class=\"toytree-TipLabel\" transform=\"translate(96.46154374349464,150.93201754385967)\"><text x=\"10.0\" y=\"2.5549999999999997\" style=\"\">35236_rex</text></g><g class=\"toytree-TipLabel\" transform=\"translate(94.96090064853824,137.5)\"><text x=\"10.0\" y=\"2.5549999999999997\" style=\"\">35855_rex</text></g><g class=\"toytree-TipLabel\" transform=\"translate(94.88612154203616,124.06798245614036)\"><text x=\"10.0\" y=\"2.5549999999999997\" style=\"\">40578_rex</text></g><g class=\"toytree-TipLabel\" transform=\"translate(95.15647685376858,110.63596491228071)\"><text x=\"10.0\" y=\"2.5549999999999997\" style=\"\">30556_thamno</text></g><g class=\"toytree-TipLabel\" transform=\"translate(92.0184026903481,97.20394736842107)\"><text x=\"10.0\" y=\"2.5549999999999997\" style=\"\">33413_thamno</text></g><g class=\"toytree-TipLabel\" transform=\"translate(136.8230945398236,83.77192982456143)\"><text x=\"10.0\" y=\"2.5549999999999997\" style=\"\">33588_przewalskii</text></g><g class=\"toytree-TipLabel\" transform=\"translate(137.02316076294278,70.33991228070177)\"><text x=\"10.0\" y=\"2.5549999999999997\" style=\"\">32082_przewalskii</text></g><g class=\"toytree-TipLabel\" transform=\"translate(53.7221390365242,56.907894736842124)\"><text x=\"10.0\" y=\"2.5549999999999997\" style=\"\">41954_cyathophylloides</text></g></g></g></g></g><g class=\"toyplot-coordinates-Cartesian\" id=\"tde9588419b624a2c92216c11efca1955\"><clipPath id=\"t01c8902837944569bffcd61f67959757\"><rect x=\"265.0\" y=\"40.0\" width=\"195.0\" height=\"195.0\"></rect></clipPath><g clip-path=\"url(#t01c8902837944569bffcd61f67959757)\"><g class=\"toytree-mark-Toytree\" id=\"t938c9a866c4b408882c3119a1de29e30\"><g class=\"toytree-Edges\" style=\"fill:none;stroke:rgba(16.1%,15.3%,14.1%,1.000);stroke-linecap:round;stroke-width:2.0\"><path d=\"M 351.8 211.4 L 351.8 218.1 L 354.3 218.1\" id=\"13,0\" style=\"stroke-width:nan\"></path><path d=\"M 351.8 211.4 L 351.8 204.7 L 354.0 204.7\" id=\"13,1\" style=\"stroke-width:nan\"></path><path d=\"M 337.6 201.3 L 337.6 191.2 L 351.0 191.2\" id=\"14,2\" style=\"stroke-width:nan\"></path><path d=\"M 341.1 171.1 L 341.1 177.8 L 348.9 177.8\" id=\"15,3\" style=\"stroke-width:nan\"></path><path d=\"M 341.1 171.1 L 341.1 164.4 L 348.8 164.4\" id=\"15,4\" style=\"stroke-width:nan\"></path><path d=\"M 334.2 168.6 L 334.2 150.9 L 349.1 150.9\" id=\"17,5\" style=\"stroke-width:nan\"></path><path d=\"M 331.8 153.0 L 331.8 137.5 L 344.8 137.5\" id=\"20,6\" style=\"stroke-width:nan\"></path><path d=\"M 347.8 117.4 L 347.8 124.1 L 348.0 124.1\" id=\"18,7\" style=\"stroke-width:nan\"></path><path d=\"M 347.8 117.4 L 347.8 110.6 L 348.0 110.6\" id=\"18,8\" style=\"stroke-width:nan\"></path><path d=\"M 331.7 90.5 L 331.7 97.2 L 347.1 97.2\" id=\"19,9\" style=\"stroke-width:nan\"></path><path d=\"M 331.7 90.5 L 331.7 83.8 L 346.3 83.8\" id=\"19,10\" style=\"stroke-width:nan\"></path><path d=\"M 319.4 63.6 L 319.4 70.3 L 325.1 70.3\" id=\"23,11\" style=\"stroke-width:nan\"></path><path d=\"M 319.4 63.6 L 319.4 56.9 L 325.4 56.9\" id=\"23,12\" style=\"stroke-width:nan\"></path><path d=\"M 337.6 201.3 L 337.6 211.4 L 351.8 211.4\" id=\"14,13\" style=\"stroke-width:nan\"></path><path d=\"M 336.0 186.2 L 336.0 201.3 L 337.6 201.3\" id=\"16,14\" style=\"stroke-width:nan\"></path><path d=\"M 336.0 186.2 L 336.0 171.1 L 341.1 171.1\" id=\"16,15\" style=\"stroke-width:nan\"></path><path d=\"M 334.2 168.6 L 334.2 186.2 L 336.0 186.2\" id=\"17,16\" style=\"stroke-width:nan\"></path><path d=\"M 331.8 153.0 L 331.8 168.6 L 334.2 168.6\" id=\"20,17\" style=\"stroke-width:nan\"></path><path d=\"M 326.2 103.9 L 326.2 117.4 L 347.8 117.4\" id=\"21,18\" style=\"stroke-width:nan\"></path><path d=\"M 326.2 103.9 L 326.2 90.5 L 331.7 90.5\" id=\"21,19\" style=\"stroke-width:nan\"></path><path d=\"M 319.4 128.5 L 319.4 153.0 L 331.8 153.0\" id=\"22,20\" style=\"stroke-width:nan\"></path><path d=\"M 319.4 128.5 L 319.4 103.9 L 326.2 103.9\" id=\"22,21\" style=\"stroke-width:nan\"></path><path d=\"M 278.3 96.0 L 278.3 128.5 L 319.4 128.5\" id=\"24,22\" style=\"stroke-width:nan\"></path><path d=\"M 278.3 96.0 L 278.3 63.6 L 319.4 63.6\" id=\"24,23\" style=\"stroke-width:nan\"></path></g><g class=\"toytree-Nodes\" style=\"fill:rgba(40.0%,76.1%,64.7%,1.000);stroke:#262626;stroke-width:1.0\"><g id=\"node-13\" transform=\"translate(351.818,211.376)\"><circle r=\"7.5\"></circle></g><g id=\"node-14\" transform=\"translate(337.648,201.302)\"><circle r=\"7.5\"></circle></g><g id=\"node-15\" transform=\"translate(341.069,171.080)\"><circle r=\"7.5\"></circle></g><g id=\"node-16\" transform=\"translate(335.952,186.191)\"><circle r=\"7.5\"></circle></g><g id=\"node-17\" transform=\"translate(334.155,168.562)\"><circle r=\"7.5\"></circle></g><g id=\"node-18\" transform=\"translate(347.844,117.352)\"><circle r=\"7.5\"></circle></g><g id=\"node-19\" transform=\"translate(331.711,90.488)\"><circle r=\"7.5\"></circle></g><g id=\"node-20\" transform=\"translate(331.782,153.031)\"><circle r=\"7.5\"></circle></g><g id=\"node-21\" transform=\"translate(326.250,103.920)\"><circle r=\"7.5\"></circle></g><g id=\"node-22\" transform=\"translate(319.420,128.475)\"><circle r=\"7.5\"></circle></g><g id=\"node-23\" transform=\"translate(319.420,63.624)\"><circle r=\"7.5\"></circle></g><g id=\"node-24\" transform=\"translate(278.260,96.050)\"><circle r=\"7.5\"></circle></g></g><g class=\"toytree-NodeLabels\" style=\"font-family:Helvetica;font-size:9.0px;font-weight:300;stroke:none;vertical-align:baseline;white-space:pre\"><g class=\"toytree-NodeLabel\" transform=\"translate(351.8181755070505,211.37609649122808)\"><text x=\"-5.0040000000000004\" y=\"2.2995\" style=\"fill:rgb(16.1%,15.3%,14.1%);fill-opacity:1.0\">13</text></g><g class=\"toytree-NodeLabel\" transform=\"translate(337.6477563598773,201.30208333333334)\"><text x=\"-5.0040000000000004\" y=\"2.2995\" style=\"fill:rgb(16.1%,15.3%,14.1%);fill-opacity:1.0\">14</text></g><g class=\"toytree-NodeLabel\" transform=\"translate(341.0693792304017,171.08004385964915)\"><text x=\"-5.0040000000000004\" y=\"2.2995\" style=\"fill:rgb(16.1%,15.3%,14.1%);fill-opacity:1.0\">15</text></g><g class=\"toytree-NodeLabel\" transform=\"translate(335.9521993773749,186.19106359649123)\"><text x=\"-5.0040000000000004\" y=\"2.2995\" style=\"fill:rgb(16.1%,15.3%,14.1%);fill-opacity:1.0\">16</text></g><g class=\"toytree-NodeLabel\" transform=\"translate(334.15460814825377,168.56154057017545)\"><text x=\"-5.0040000000000004\" y=\"2.2995\" style=\"fill:rgb(16.1%,15.3%,14.1%);fill-opacity:1.0\">17</text></g><g class=\"toytree-NodeLabel\" transform=\"translate(347.84352762480506,117.35197368421055)\"><text x=\"-5.0040000000000004\" y=\"2.2995\" style=\"fill:rgb(16.1%,15.3%,14.1%);fill-opacity:1.0\">18</text></g><g class=\"toytree-NodeLabel\" transform=\"translate(331.7111655064575,90.48793859649126)\"><text x=\"-5.0040000000000004\" y=\"2.2995\" style=\"fill:rgb(16.1%,15.3%,14.1%);fill-opacity:1.0\">19</text></g><g class=\"toytree-NodeLabel\" transform=\"translate(331.78235195879074,153.03077028508773)\"><text x=\"-5.0040000000000004\" y=\"2.2995\" style=\"fill:rgb(16.1%,15.3%,14.1%);fill-opacity:1.0\">20</text></g><g class=\"toytree-NodeLabel\" transform=\"translate(326.2498925080623,103.91995614035089)\"><text x=\"-5.0040000000000004\" y=\"2.2995\" style=\"fill:rgb(16.1%,15.3%,14.1%);fill-opacity:1.0\">21</text></g><g class=\"toytree-NodeLabel\" transform=\"translate(319.42025608130854,128.47536321271932)\"><text x=\"-5.0040000000000004\" y=\"2.2995\" style=\"fill:rgb(16.1%,15.3%,14.1%);fill-opacity:1.0\">22</text></g><g class=\"toytree-NodeLabel\" transform=\"translate(319.42025608130854,63.623903508771946)\"><text x=\"-5.0040000000000004\" y=\"2.2995\" style=\"fill:rgb(16.1%,15.3%,14.1%);fill-opacity:1.0\">23</text></g><g class=\"toytree-NodeLabel\" transform=\"translate(278.2599074367906,96.04963336074562)\"><text x=\"-5.0040000000000004\" y=\"2.2995\" style=\"fill:rgb(16.1%,15.3%,14.1%);fill-opacity:1.0\">24</text></g></g><g class=\"toytree-TipLabels\" style=\"fill:rgb(16.1%,15.3%,14.1%);fill-opacity:1.0;font-family:Helvetica;font-size:10.0px;font-weight:300;stroke:none;vertical-align:baseline;white-space:pre\"><g class=\"toytree-TipLabel\" transform=\"translate(354.3244142952383,218.09210526315792)\"><text x=\"10.0\" y=\"2.5549999999999997\" style=\"\">38362_rex</text></g><g class=\"toytree-TipLabel\" transform=\"translate(354.0258661623137,204.66008771929825)\"><text x=\"10.0\" y=\"2.5549999999999997\" style=\"\">39618_rex</text></g><g class=\"toytree-TipLabel\" transform=\"translate(350.96907440716507,191.2280701754386)\"><text x=\"10.0\" y=\"2.5549999999999997\" style=\"\">35236_rex</text></g><g class=\"toytree-TipLabel\" transform=\"translate(348.8705276183721,177.79605263157896)\"><text x=\"10.0\" y=\"2.5549999999999997\" style=\"\">35855_rex</text></g><g class=\"toytree-TipLabel\" transform=\"translate(348.7659541496065,164.3640350877193)\"><text x=\"10.0\" y=\"2.5549999999999997\" style=\"\">40578_rex</text></g><g class=\"toytree-TipLabel\" transform=\"translate(349.1440275723784,150.93201754385967)\"><text x=\"10.0\" y=\"2.5549999999999997\" style=\"\">30556_thamno</text></g><g class=\"toytree-TipLabel\" transform=\"translate(344.75564536426134,137.5)\"><text x=\"10.0\" y=\"2.5549999999999997\" style=\"\">33413_thamno</text></g><g class=\"toytree-TipLabel\" transform=\"translate(347.964738071702,124.06798245614036)\"><text x=\"10.0\" y=\"2.5549999999999997\" style=\"\">41478_cyathophylloides</text></g><g class=\"toytree-TipLabel\" transform=\"translate(348.0474815501858,110.63596491228071)\"><text x=\"10.0\" y=\"2.5549999999999997\" style=\"\">41954_cyathophylloides</text></g><g class=\"toytree-TipLabel\" transform=\"translate(347.084413833433,97.20394736842107)\"><text x=\"10.0\" y=\"2.5549999999999997\" style=\"\">30686_cyathophylla</text></g><g class=\"toytree-TipLabel\" transform=\"translate(346.265017527596,83.77192982456143)\"><text x=\"10.0\" y=\"2.5549999999999997\" style=\"\">29154_superba</text></g><g class=\"toytree-TipLabel\" transform=\"translate(325.0912469110981,70.33991228070177)\"><text x=\"10.0\" y=\"2.5549999999999997\" style=\"\">33588_przewalskii</text></g><g class=\"toytree-TipLabel\" transform=\"translate(325.3710258481977,56.907894736842124)\"><text x=\"10.0\" y=\"2.5549999999999997\" style=\"\">32082_przewalskii</text></g></g></g></g></g></svg><div class=\"toyplot-behavior\"><script>(function()\n",
       "{\n",
       "var modules={};\n",
       "})();</script></div></div>"
      ]
     },
     "metadata": {},
     "output_type": "display_data"
    }
   ],
   "source": [
    "# a multitree storing the unrooted and rooted toytrees\n",
    "mtre = toytree.mtree([tre, rtre])\n",
    "\n",
    "# plot shows that idx labels change with rerooting\n",
    "mtre.draw(\n",
    "    node_labels='idx',\n",
    "    node_sizes=15,\n",
    ");"
   ]
  },
  {
   "cell_type": "markdown",
   "metadata": {},
   "source": [
    "#### Fuzzy tip label matching\n",
    "\n",
    "Many toytree functions allow for a variety of input methods to select the list of tip labels to represent a clade. To create the name list without having to type each name out by hand, you can use fuzzy name matching. The three options are to write each name into a list using the `names` argument; to select samples based on a shared unique string sequence in their names with `wildcard`; or using a `regex` (regular expression) statement to match samples using more complex name patterns."
   ]
  },
  {
   "cell_type": "markdown",
   "metadata": {},
   "source": [
    "#### Get node idx label from tip labels\n",
    "In the example below I use the function `.get_mrca_idx_from_tip_labels()`, which returns the correct node index of the mrca of the tips entered as arguments. You can see in the example below that the names, wildcard, and regex arguments return the correct node label for the clade that includes the two przewalskii samples (see the figure above) for each tree. "
   ]
  },
  {
   "cell_type": "code",
   "execution_count": 6,
   "metadata": {},
   "outputs": [
    {
     "name": "stdout",
     "output_type": "stream",
     "text": [
      "tre:  19\n",
      "tre:  19\n",
      "tre:  19\n",
      "rtre: 23\n",
      "rtre: 23\n",
      "rtre: 23\n"
     ]
    }
   ],
   "source": [
    "# get an idx label of przewalskii clade using names, wildcard or regex\n",
    "print('tre: ', tre.get_mrca_idx_from_tip_labels(names=['33588_przewalskii', '32082_przewalskii']))\n",
    "print('tre: ', tre.get_mrca_idx_from_tip_labels(wildcard=\"prz\"))\n",
    "print('tre: ', tre.get_mrca_idx_from_tip_labels(regex=\"[0-9]*_przewalskii\"))\n",
    "\n",
    "# get an idx label of przewalskii clade using names, wildcard or regex\n",
    "print('rtre:', rtre.get_mrca_idx_from_tip_labels(names=['33588_przewalskii', '32082_przewalskii']))\n",
    "print('rtre:', rtre.get_mrca_idx_from_tip_labels(wildcard=\"prz\"))\n",
    "print('rtre:', rtre.get_mrca_idx_from_tip_labels(regex=\"[0-9]*_przewalskii\"))"
   ]
  },
  {
   "cell_type": "markdown",
   "metadata": {},
   "source": [
    "#### Get TreeNode object from node idx label"
   ]
  },
  {
   "cell_type": "code",
   "execution_count": 7,
   "metadata": {},
   "outputs": [
    {
     "data": {
      "text/plain": [
       "<TreeNode idx=19; dist=3.59e-02; is_root=False is_leaf=False/>"
      ]
     },
     "execution_count": 7,
     "metadata": {},
     "output_type": "execute_result"
    }
   ],
   "source": [
    "tre.idx_dict[19]"
   ]
  },
  {
   "cell_type": "markdown",
   "metadata": {},
   "source": [
    "#### Get tip labels from a node idx label\n",
    "\n",
    "If you really want to select parts of the tree using nodes because maybe the tip names are very hard to match then this can be done using the `get_tip_labels()` function to build a list of tip names from a node idx label. If you enter an `idx` argument to this function it will return a list of names descended from the node. If no idx argument is entered then the root node idx is used so that all tip labels are returned. "
   ]
  },
  {
   "cell_type": "code",
   "execution_count": 8,
   "metadata": {},
   "outputs": [
    {
     "data": {
      "text/plain": [
       "['33588_przewalskii', '32082_przewalskii']"
      ]
     },
     "execution_count": 8,
     "metadata": {},
     "output_type": "execute_result"
    }
   ],
   "source": [
    "# get list of tips descended from a specific node in the tree\n",
    "tre.get_tip_labels(idx=19)"
   ]
  },
  {
   "cell_type": "code",
   "execution_count": 9,
   "metadata": {},
   "outputs": [
    {
     "data": {
      "text/plain": [
       "['41478_cyathophylloides',\n",
       " '30686_cyathophylla',\n",
       " '29154_superba',\n",
       " '38362_rex',\n",
       " '39618_rex',\n",
       " '35236_rex',\n",
       " '35855_rex',\n",
       " '40578_rex',\n",
       " '30556_thamno',\n",
       " '33413_thamno',\n",
       " '33588_przewalskii',\n",
       " '32082_przewalskii',\n",
       " '41954_cyathophylloides']"
      ]
     },
     "execution_count": 9,
     "metadata": {},
     "output_type": "execute_result"
    }
   ],
   "source": [
    "# get list of all tips in the tree\n",
    "tre.get_tip_labels()"
   ]
  },
  {
   "cell_type": "markdown",
   "metadata": {},
   "source": [
    "The `.get_tip_labels()` function can be combined with `.get_mrca_idx_from_tip_labels()` function to get a list of names that are all descendend from a common ancestor. For example, in the rooted tree above if I wanted to get a list of all tip labels in the ingroup clade I could select just one sample from each of the two subclades in it with `.get_mrca_idx_from_tip_labels()` to get the node idx of their common ancestor. Then pass this to `.get_tip_labels()` to return the full list of descendants. This is an efficient way to build a list of tip label names for large clade without having to write them all out by hand. "
   ]
  },
  {
   "cell_type": "code",
   "execution_count": 10,
   "metadata": {},
   "outputs": [
    {
     "data": {
      "text/plain": [
       "['38362_rex',\n",
       " '39618_rex',\n",
       " '35236_rex',\n",
       " '35855_rex',\n",
       " '40578_rex',\n",
       " '30556_thamno',\n",
       " '33413_thamno',\n",
       " '41478_cyathophylloides',\n",
       " '41954_cyathophylloides',\n",
       " '30686_cyathophylla',\n",
       " '29154_superba']"
      ]
     },
     "execution_count": 10,
     "metadata": {},
     "output_type": "execute_result"
    }
   ],
   "source": [
    "# get node index (idx) of mrca\n",
    "idx = rtre.get_mrca_idx_from_tip_labels([\"29154_superba\", \"40578_rex\"])\n",
    "\n",
    "# get tip labels descended from node idx\n",
    "rtre.get_tip_labels(idx=idx)"
   ]
  },
  {
   "cell_type": "markdown",
   "metadata": {},
   "source": [
    "### Modifying ToyTrees\n",
    "\n",
    "ToyTrees provide a number of functions for modifying the tree structure. All of these methods return a modified copy of the object -- they do not change your original tree by modifying it *in place*. This is useful because you can reliably chain together multiple tree modification functions (e.g., see [Chaining many functions and arguments](#Chaining-functions-and-arguments)). As discussed above, it is generally good practice to use tip name selectors to identify clades that should be modified on the tree. In some cases, if you are modifying a tree and using plotting styles that both rely on the tree structure, it may be easier and more clear to separate the code into multiple separate function calls. The process of chaining arguments together makes for elegant code, but use whichever method is most comfortable for you. See the Cookbook gallery for more examples. "
   ]
  },
  {
   "cell_type": "markdown",
   "metadata": {},
   "source": [
    "#### Rooting trees\n",
    "You can root toytrees using the `.root()` function call. This takes as an argument either a single tip name, or a list of tip names. You can use the fuzzy name matching options to match multiple tip names, as shown below. "
   ]
  },
  {
   "cell_type": "code",
   "execution_count": 11,
   "metadata": {},
   "outputs": [
    {
     "data": {
      "text/html": [
       "<div class=\"toyplot\" id=\"t8b053f779ffc40e49c99a9965318b4d7\" style=\"text-align:center\"><svg class=\"toyplot-canvas-Canvas\" xmlns:toyplot=\"http://www.sandia.gov/toyplot\" xmlns:xlink=\"http://www.w3.org/1999/xlink\" xmlns=\"http://www.w3.org/2000/svg\" width=\"360.0px\" height=\"275.0px\" viewBox=\"0 0 360.0 275.0\" preserveAspectRatio=\"xMidYMid meet\" style=\"background-color:transparent;border-color:#292724;border-style:none;border-width:1.0;fill:rgb(16.1%,15.3%,14.1%);fill-opacity:1.0;font-family:Helvetica;font-size:12px;opacity:1.0;stroke:rgb(16.1%,15.3%,14.1%);stroke-opacity:1.0;stroke-width:1.0\" id=\"t5c321d6ad1e64d3fae694d49d8a08c81\"><g class=\"toyplot-coordinates-Cartesian\" id=\"tc1993b480da446e9a83b347b468f1ab9\"><clipPath id=\"t0b68474537cf4225ae173219fcacdb93\"><rect x=\"35.0\" y=\"35.0\" width=\"290.0\" height=\"205.0\"></rect></clipPath><g clip-path=\"url(#t0b68474537cf4225ae173219fcacdb93)\"><g class=\"toytree-mark-Toytree\" id=\"tf710f4c157cb407182592528088fec54\"><g class=\"toytree-Edges\" style=\"fill:none;stroke:rgba(16.1%,15.3%,14.1%,1.000);stroke-linecap:round;stroke-width:2.0\"><path d=\"M 181.5 211.4 L 181.5 218.1 L 185.8 218.1\" id=\"13,0\" style=\"stroke-width:nan\"></path><path d=\"M 181.5 211.4 L 181.5 204.7 L 185.3 204.7\" id=\"13,1\" style=\"stroke-width:nan\"></path><path d=\"M 156.9 201.3 L 156.9 191.2 L 180.0 191.2\" id=\"14,2\" style=\"stroke-width:nan\"></path><path d=\"M 162.8 171.1 L 162.8 177.8 L 176.4 177.8\" id=\"15,3\" style=\"stroke-width:nan\"></path><path d=\"M 162.8 171.1 L 162.8 164.4 L 176.2 164.4\" id=\"15,4\" style=\"stroke-width:nan\"></path><path d=\"M 150.8 168.6 L 150.8 150.9 L 176.8 150.9\" id=\"17,5\" style=\"stroke-width:nan\"></path><path d=\"M 146.7 153.0 L 146.7 137.5 L 169.2 137.5\" id=\"20,6\" style=\"stroke-width:nan\"></path><path d=\"M 174.6 117.4 L 174.6 124.1 L 174.8 124.1\" id=\"18,7\" style=\"stroke-width:nan\"></path><path d=\"M 174.6 117.4 L 174.6 110.6 L 174.9 110.6\" id=\"18,8\" style=\"stroke-width:nan\"></path><path d=\"M 146.6 90.5 L 146.6 97.2 L 173.3 97.2\" id=\"19,9\" style=\"stroke-width:nan\"></path><path d=\"M 146.6 90.5 L 146.6 83.8 L 171.8 83.8\" id=\"19,10\" style=\"stroke-width:nan\"></path><path d=\"M 125.2 63.6 L 125.2 70.3 L 135.1 70.3\" id=\"23,11\" style=\"stroke-width:nan\"></path><path d=\"M 125.2 63.6 L 125.2 56.9 L 135.6 56.9\" id=\"23,12\" style=\"stroke-width:nan\"></path><path d=\"M 156.9 201.3 L 156.9 211.4 L 181.5 211.4\" id=\"14,13\" style=\"stroke-width:nan\"></path><path d=\"M 153.9 186.2 L 153.9 201.3 L 156.9 201.3\" id=\"16,14\" style=\"stroke-width:nan\"></path><path d=\"M 153.9 186.2 L 153.9 171.1 L 162.8 171.1\" id=\"16,15\" style=\"stroke-width:nan\"></path><path d=\"M 150.8 168.6 L 150.8 186.2 L 153.9 186.2\" id=\"17,16\" style=\"stroke-width:nan\"></path><path d=\"M 146.7 153.0 L 146.7 168.6 L 150.8 168.6\" id=\"20,17\" style=\"stroke-width:nan\"></path><path d=\"M 137.1 103.9 L 137.1 117.4 L 174.6 117.4\" id=\"21,18\" style=\"stroke-width:nan\"></path><path d=\"M 137.1 103.9 L 137.1 90.5 L 146.6 90.5\" id=\"21,19\" style=\"stroke-width:nan\"></path><path d=\"M 125.2 128.5 L 125.2 153.0 L 146.7 153.0\" id=\"22,20\" style=\"stroke-width:nan\"></path><path d=\"M 125.2 128.5 L 125.2 103.9 L 137.1 103.9\" id=\"22,21\" style=\"stroke-width:nan\"></path><path d=\"M 53.8 96.0 L 53.8 128.5 L 125.2 128.5\" id=\"24,22\" style=\"stroke-width:nan\"></path><path d=\"M 53.8 96.0 L 53.8 63.6 L 125.2 63.6\" id=\"24,23\" style=\"stroke-width:nan\"></path></g><g class=\"toytree-Nodes\" style=\"fill:rgba(40.0%,76.1%,64.7%,1.000);stroke:#262626;stroke-width:1.0\"><g id=\"node-13\" transform=\"translate(181.474,211.376)\"><circle r=\"7.5\"></circle></g><g id=\"node-14\" transform=\"translate(156.880,201.302)\"><circle r=\"7.5\"></circle></g><g id=\"node-15\" transform=\"translate(162.819,171.080)\"><circle r=\"7.5\"></circle></g><g id=\"node-16\" transform=\"translate(153.937,186.191)\"><circle r=\"7.5\"></circle></g><g id=\"node-17\" transform=\"translate(150.818,168.562)\"><circle r=\"7.5\"></circle></g><g id=\"node-18\" transform=\"translate(174.576,117.352)\"><circle r=\"7.5\"></circle></g><g id=\"node-19\" transform=\"translate(146.577,90.488)\"><circle r=\"7.5\"></circle></g><g id=\"node-20\" transform=\"translate(146.700,153.031)\"><circle r=\"7.5\"></circle></g><g id=\"node-21\" transform=\"translate(137.098,103.920)\"><circle r=\"7.5\"></circle></g><g id=\"node-22\" transform=\"translate(125.245,128.475)\"><circle r=\"7.5\"></circle></g><g id=\"node-23\" transform=\"translate(125.245,63.624)\"><circle r=\"7.5\"></circle></g><g id=\"node-24\" transform=\"translate(53.808,96.050)\"><circle r=\"7.5\"></circle></g></g><g class=\"toytree-NodeLabels\" style=\"font-family:Helvetica;font-size:9.0px;font-weight:300;stroke:none;vertical-align:baseline;white-space:pre\"><g class=\"toytree-NodeLabel\" transform=\"translate(181.47403071468176,211.37609649122808)\"><text x=\"-5.0040000000000004\" y=\"2.2995\" style=\"fill:rgb(16.1%,15.3%,14.1%);fill-opacity:1.0\">13</text></g><g class=\"toytree-NodeLabel\" transform=\"translate(156.88020631304323,201.30208333333334)\"><text x=\"-5.0040000000000004\" y=\"2.2995\" style=\"fill:rgb(16.1%,15.3%,14.1%);fill-opacity:1.0\">14</text></g><g class=\"toytree-NodeLabel\" transform=\"translate(162.81868923103758,171.08004385964915)\"><text x=\"-5.0040000000000004\" y=\"2.2995\" style=\"fill:rgb(16.1%,15.3%,14.1%);fill-opacity:1.0\">15</text></g><g class=\"toytree-NodeLabel\" transform=\"translate(153.937440100023,186.19106359649123)\"><text x=\"-5.0040000000000004\" y=\"2.2995\" style=\"fill:rgb(16.1%,15.3%,14.1%);fill-opacity:1.0\">16</text></g><g class=\"toytree-NodeLabel\" transform=\"translate(150.817585805258,168.56154057017545)\"><text x=\"-5.0040000000000004\" y=\"2.2995\" style=\"fill:rgb(16.1%,15.3%,14.1%);fill-opacity:1.0\">17</text></g><g class=\"toytree-NodeLabel\" transform=\"translate(174.57573144357025,117.35197368421055)\"><text x=\"-5.0040000000000004\" y=\"2.2995\" style=\"fill:rgb(16.1%,15.3%,14.1%);fill-opacity:1.0\">18</text></g><g class=\"toytree-NodeLabel\" transform=\"translate(146.57680798184396,90.48793859649126)\"><text x=\"-5.0040000000000004\" y=\"2.2995\" style=\"fill:rgb(16.1%,15.3%,14.1%);fill-opacity:1.0\">19</text></g><g class=\"toytree-NodeLabel\" transform=\"translate(146.70035740478454,153.03077028508773)\"><text x=\"-5.0040000000000004\" y=\"2.2995\" style=\"fill:rgb(16.1%,15.3%,14.1%);fill-opacity:1.0\">20</text></g><g class=\"toytree-NodeLabel\" transform=\"translate(137.0983594097188,103.91995614035089)\"><text x=\"-5.0040000000000004\" y=\"2.2995\" style=\"fill:rgb(16.1%,15.3%,14.1%);fill-opacity:1.0\">21</text></g><g class=\"toytree-NodeLabel\" transform=\"translate(125.24501355861007,128.47536321271932)\"><text x=\"-5.0040000000000004\" y=\"2.2995\" style=\"fill:rgb(16.1%,15.3%,14.1%);fill-opacity:1.0\">22</text></g><g class=\"toytree-NodeLabel\" transform=\"translate(125.24501355861005,63.623903508771946)\"><text x=\"-5.0040000000000004\" y=\"2.2995\" style=\"fill:rgb(16.1%,15.3%,14.1%);fill-opacity:1.0\">23</text></g><g class=\"toytree-NodeLabel\" transform=\"translate(53.80814381185832,96.04963336074562)\"><text x=\"-5.0040000000000004\" y=\"2.2995\" style=\"fill:rgb(16.1%,15.3%,14.1%);fill-opacity:1.0\">24</text></g></g><g class=\"toytree-TipLabels\" style=\"fill:rgb(16.1%,15.3%,14.1%);fill-opacity:1.0;font-family:Helvetica;font-size:11.0px;font-weight:300;stroke:none;vertical-align:baseline;white-space:pre\"><g class=\"toytree-TipLabel\" transform=\"translate(185.8237959562809,218.09210526315792)\"><text x=\"15.0\" y=\"2.8104999999999993\" style=\"\">38362_rex</text></g><g class=\"toytree-TipLabel\" transform=\"translate(185.30564329753983,204.66008771929825)\"><text x=\"15.0\" y=\"2.8104999999999993\" style=\"\">39618_rex</text></g><g class=\"toytree-TipLabel\" transform=\"translate(180.00035212176687,191.2280701754386)\"><text x=\"15.0\" y=\"2.8104999999999993\" style=\"\">35236_rex</text></g><g class=\"toytree-TipLabel\" transform=\"translate(176.3581668987212,177.79605263157896)\"><text x=\"15.0\" y=\"2.8104999999999993\" style=\"\">35855_rex</text></g><g class=\"toytree-TipLabel\" transform=\"translate(176.17667180664378,164.3640350877193)\"><text x=\"15.0\" y=\"2.8104999999999993\" style=\"\">40578_rex</text></g><g class=\"toytree-TipLabel\" transform=\"translate(176.83284656576745,150.93201754385967)\"><text x=\"15.0\" y=\"2.8104999999999993\" style=\"\">30556_thamno</text></g><g class=\"toytree-TipLabel\" transform=\"translate(169.21648036567282,137.5)\"><text x=\"15.0\" y=\"2.8104999999999993\" style=\"\">33413_thamno</text></g><g class=\"toytree-TipLabel\" transform=\"translate(174.7861012580174,124.06798245614036)\"><text x=\"15.0\" y=\"2.8104999999999993\" style=\"\">41478_cyathophylloides</text></g><g class=\"toytree-TipLabel\" transform=\"translate(174.92970876595882,110.63596491228071)\"><text x=\"15.0\" y=\"2.8104999999999993\" style=\"\">41954_cyathophylloides</text></g><g class=\"toytree-TipLabel\" transform=\"translate(173.2582325684866,97.20394736842107)\"><text x=\"15.0\" y=\"2.8104999999999993\" style=\"\">30686_cyathophylla</text></g><g class=\"toytree-TipLabel\" transform=\"translate(171.8361088718048,83.77192982456143)\"><text x=\"15.0\" y=\"2.8104999999999993\" style=\"\">29154_superba</text></g><g class=\"toytree-TipLabel\" transform=\"translate(135.08744314397413,70.33991228070177)\"><text x=\"15.0\" y=\"2.8104999999999993\" style=\"\">33588_przewalskii</text></g><g class=\"toytree-TipLabel\" transform=\"translate(135.5730204567438,56.907894736842124)\"><text x=\"15.0\" y=\"2.8104999999999993\" style=\"\">32082_przewalskii</text></g></g></g></g></g></svg><div class=\"toyplot-behavior\"><script>(function()\n",
       "{\n",
       "var modules={};\n",
       "})();</script></div></div>"
      ]
     },
     "metadata": {},
     "output_type": "display_data"
    }
   ],
   "source": [
    "# three ways to do the same re-rooting\n",
    "rtre = tre.root(names=[\"32082_przewalskii\", \"33588_przewalskii\"])\n",
    "rtre = tre.root(wildcard=\"prz\")\n",
    "rtre = tre.root(regex=\"[0-9]*_przewalskii\")\n",
    "\n",
    "# draw the rooted tree\n",
    "rtre.draw(node_labels='idx', node_sizes=15);"
   ]
  },
  {
   "cell_type": "markdown",
   "metadata": {},
   "source": [
    "There is also a function `.unroot()` to remove the root node from trees. This creates a polytomy at the root. Technically there still exists a point on the treenode structure that we refer to as the root, but it does not appear in drawings."
   ]
  },
  {
   "cell_type": "code",
   "execution_count": 12,
   "metadata": {},
   "outputs": [
    {
     "data": {
      "text/html": [
       "<div class=\"toyplot\" id=\"t32a0de8cbe97482dbf8356b0563a2f77\" style=\"text-align:center\"><svg class=\"toyplot-canvas-Canvas\" xmlns:toyplot=\"http://www.sandia.gov/toyplot\" xmlns:xlink=\"http://www.w3.org/1999/xlink\" xmlns=\"http://www.w3.org/2000/svg\" width=\"360.0px\" height=\"275.0px\" viewBox=\"0 0 360.0 275.0\" preserveAspectRatio=\"xMidYMid meet\" style=\"background-color:transparent;border-color:#292724;border-style:none;border-width:1.0;fill:rgb(16.1%,15.3%,14.1%);fill-opacity:1.0;font-family:Helvetica;font-size:12px;opacity:1.0;stroke:rgb(16.1%,15.3%,14.1%);stroke-opacity:1.0;stroke-width:1.0\" id=\"t973161704d48454bb93167f2232afd59\"><g class=\"toyplot-coordinates-Cartesian\" id=\"t7db4071bfca540eba01d28ff4c3b277e\"><clipPath id=\"ta4c5c370e9304fa5b9610c14b1ee6b71\"><rect x=\"35.0\" y=\"35.0\" width=\"290.0\" height=\"205.0\"></rect></clipPath><g clip-path=\"url(#ta4c5c370e9304fa5b9610c14b1ee6b71)\"><g class=\"toytree-mark-Toytree\" id=\"tdba48f2d1f654fac924ed0b77ebad481\"><g class=\"toytree-Edges\" style=\"fill:none;stroke:rgba(16.1%,15.3%,14.1%,1.000);stroke-linecap:round;stroke-width:2.0\"><path d=\"M 179.2 212.1 L 179.2 218.9 L 182.0 218.9\" id=\"13,0\" style=\"stroke-width:nan\"></path><path d=\"M 179.2 212.1 L 179.2 205.3 L 181.7 205.3\" id=\"13,1\" style=\"stroke-width:nan\"></path><path d=\"M 163.2 201.9 L 163.2 191.7 L 178.2 191.7\" id=\"14,2\" style=\"stroke-width:nan\"></path><path d=\"M 167.1 171.4 L 167.1 178.2 L 175.9 178.2\" id=\"15,3\" style=\"stroke-width:nan\"></path><path d=\"M 167.1 171.4 L 167.1 164.6 L 175.7 164.6\" id=\"15,4\" style=\"stroke-width:nan\"></path><path d=\"M 159.3 168.9 L 159.3 151.1 L 176.2 151.1\" id=\"17,5\" style=\"stroke-width:nan\"></path><path d=\"M 156.6 153.2 L 156.6 137.5 L 171.2 137.5\" id=\"20,6\" style=\"stroke-width:nan\"></path><path d=\"M 174.7 117.2 L 174.7 123.9 L 174.8 123.9\" id=\"18,7\" style=\"stroke-width:nan\"></path><path d=\"M 174.7 117.2 L 174.7 110.4 L 174.9 110.4\" id=\"18,8\" style=\"stroke-width:nan\"></path><path d=\"M 156.5 90.0 L 156.5 96.8 L 173.9 96.8\" id=\"19,9\" style=\"stroke-width:nan\"></path><path d=\"M 156.5 90.0 L 156.5 83.3 L 172.9 83.3\" id=\"19,10\" style=\"stroke-width:nan\"></path><path d=\"M 50.0 84.7 L 50.0 69.7 L 56.4 69.7\" id=\"23,11\" style=\"stroke-width:nan\"></path><path d=\"M 50.0 84.7 L 50.0 56.1 L 56.7 56.1\" id=\"23,12\" style=\"stroke-width:nan\"></path><path d=\"M 163.2 201.9 L 163.2 212.1 L 179.2 212.1\" id=\"14,13\" style=\"stroke-width:nan\"></path><path d=\"M 161.3 186.7 L 161.3 201.9 L 163.2 201.9\" id=\"16,14\" style=\"stroke-width:nan\"></path><path d=\"M 161.3 186.7 L 161.3 171.4 L 167.1 171.4\" id=\"16,15\" style=\"stroke-width:nan\"></path><path d=\"M 159.3 168.9 L 159.3 186.7 L 161.3 186.7\" id=\"17,16\" style=\"stroke-width:nan\"></path><path d=\"M 156.6 153.2 L 156.6 168.9 L 159.3 168.9\" id=\"20,17\" style=\"stroke-width:nan\"></path><path d=\"M 150.4 103.6 L 150.4 117.2 L 174.7 117.2\" id=\"21,18\" style=\"stroke-width:nan\"></path><path d=\"M 150.4 103.6 L 150.4 90.0 L 156.5 90.0\" id=\"21,19\" style=\"stroke-width:nan\"></path><path d=\"M 142.7 128.4 L 142.7 153.2 L 156.6 153.2\" id=\"22,20\" style=\"stroke-width:nan\"></path><path d=\"M 142.7 128.4 L 142.7 103.6 L 150.4 103.6\" id=\"22,21\" style=\"stroke-width:nan\"></path><path d=\"M 50.0 84.7 L 50.0 128.4 L 142.7 128.4\" id=\"23,22\" style=\"stroke-width:nan\"></path></g><g class=\"toytree-TipLabels\" style=\"fill:rgb(16.1%,15.3%,14.1%);fill-opacity:1.0;font-family:Helvetica;font-size:11.0px;font-weight:300;stroke:none;vertical-align:baseline;white-space:pre\"><g class=\"toytree-TipLabel\" transform=\"translate(182.00701010499603,218.86291179596174)\"><text x=\"15.0\" y=\"2.8104999999999993\" style=\"\">38362_rex</text></g><g class=\"toytree-TipLabel\" transform=\"translate(181.6708147970069,205.30242649663478)\"><text x=\"15.0\" y=\"2.8104999999999993\" style=\"\">39618_rex</text></g><g class=\"toytree-TipLabel\" transform=\"translate(178.22855898547752,191.74194119730782)\"><text x=\"15.0\" y=\"2.8104999999999993\" style=\"\">35236_rex</text></g><g class=\"toytree-TipLabel\" transform=\"translate(175.86538365064416,178.18145589798087)\"><text x=\"15.0\" y=\"2.8104999999999993\" style=\"\">35855_rex</text></g><g class=\"toytree-TipLabel\" transform=\"translate(175.7476233779714,164.6209705986539)\"><text x=\"15.0\" y=\"2.8104999999999993\" style=\"\">40578_rex</text></g><g class=\"toytree-TipLabel\" transform=\"translate(176.17337218291675,151.06048529932696)\"><text x=\"15.0\" y=\"2.8104999999999993\" style=\"\">30556_thamno</text></g><g class=\"toytree-TipLabel\" transform=\"translate(171.231611222701,137.5)\"><text x=\"15.0\" y=\"2.8104999999999993\" style=\"\">33413_thamno</text></g><g class=\"toytree-TipLabel\" transform=\"translate(174.84537326694834,123.93951470067304)\"><text x=\"15.0\" y=\"2.8104999999999993\" style=\"\">41478_cyathophylloides</text></g><g class=\"toytree-TipLabel\" transform=\"translate(174.93855076888227,110.37902940134609)\"><text x=\"15.0\" y=\"2.8104999999999993\" style=\"\">41954_cyathophylloides</text></g><g class=\"toytree-TipLabel\" transform=\"translate(173.85403938883655,96.81854410201913)\"><text x=\"15.0\" y=\"2.8104999999999993\" style=\"\">30686_cyathophylla</text></g><g class=\"toytree-TipLabel\" transform=\"translate(172.93131650757957,83.25805880269218)\"><text x=\"15.0\" y=\"2.8104999999999993\" style=\"\">29154_superba</text></g><g class=\"toytree-TipLabel\" transform=\"translate(56.38610762676039,69.6975735033652)\"><text x=\"15.0\" y=\"2.8104999999999993\" style=\"\">33588_przewalskii</text></g><g class=\"toytree-TipLabel\" transform=\"translate(56.70116692726801,56.13708820403825)\"><text x=\"15.0\" y=\"2.8104999999999993\" style=\"\">32082_przewalskii</text></g></g></g></g></g></svg><div class=\"toyplot-behavior\"><script>(function()\n",
       "{\n",
       "var modules={};\n",
       "})();</script></div></div>"
      ]
     },
     "metadata": {},
     "output_type": "display_data"
    }
   ],
   "source": [
    "# an unrooted tree\n",
    "rtre.unroot().draw();"
   ]
  },
  {
   "cell_type": "markdown",
   "metadata": {},
   "source": [
    "#### Drop tips\n",
    "Dropping tips from a tree retains the structure of the remaining nodes in the tree. Here again you can use fuzzy name matching to select the tips you wish to drop from the tree. In this case the names that are selected with matching do not have to form a monophyletic clade, however, if you select to remove all tips in the tree then it will raise an error. "
   ]
  },
  {
   "cell_type": "code",
   "execution_count": 13,
   "metadata": {},
   "outputs": [
    {
     "data": {
      "text/html": [
       "<div class=\"toyplot\" id=\"t3f649681ebcd4e15b3d4bdef187d11b5\" style=\"text-align:center\"><svg class=\"toyplot-canvas-Canvas\" xmlns:toyplot=\"http://www.sandia.gov/toyplot\" xmlns:xlink=\"http://www.w3.org/1999/xlink\" xmlns=\"http://www.w3.org/2000/svg\" width=\"335.0px\" height=\"275.0px\" viewBox=\"0 0 335.0 275.0\" preserveAspectRatio=\"xMidYMid meet\" style=\"background-color:transparent;border-color:#292724;border-style:none;border-width:1.0;fill:rgb(16.1%,15.3%,14.1%);fill-opacity:1.0;font-family:Helvetica;font-size:12px;opacity:1.0;stroke:rgb(16.1%,15.3%,14.1%);stroke-opacity:1.0;stroke-width:1.0\" id=\"t6d16f7310d3742a0adc61b693d7b5ec9\"><g class=\"toyplot-coordinates-Cartesian\" id=\"t72a135ca05ad461887c1edd5df3b1432\"><clipPath id=\"t1997bbfc094e49fd91ca00a33234a174\"><rect x=\"35.0\" y=\"35.0\" width=\"265.0\" height=\"205.0\"></rect></clipPath><g clip-path=\"url(#t1997bbfc094e49fd91ca00a33234a174)\"><g class=\"toytree-mark-Toytree\" id=\"t139879ebd9fb4a8786271c7f12224185\"><g class=\"toytree-Edges\" style=\"fill:none;stroke:rgba(16.1%,15.3%,14.1%,1.000);stroke-linecap:round;stroke-width:2.0\"><path d=\"M 125.5 166.0 L 125.5 218.9 L 174.8 218.9\" id=\"16,0\" style=\"stroke-width:nan\"></path><path d=\"M 184.9 191.7 L 184.9 200.8 L 189.5 200.8\" id=\"10,1\" style=\"stroke-width:nan\"></path><path d=\"M 184.9 191.7 L 184.9 182.7 L 189.0 182.7\" id=\"10,2\" style=\"stroke-width:nan\"></path><path d=\"M 158.9 178.2 L 158.9 164.6 L 183.4 164.6\" id=\"11,3\" style=\"stroke-width:nan\"></path><path d=\"M 165.2 137.5 L 165.2 146.5 L 179.5 146.5\" id=\"12,4\" style=\"stroke-width:nan\"></path><path d=\"M 165.2 137.5 L 165.2 128.5 L 179.3 128.5\" id=\"12,5\" style=\"stroke-width:nan\"></path><path d=\"M 152.5 134.1 L 152.5 110.4 L 180.0 110.4\" id=\"14,6\" style=\"stroke-width:nan\"></path><path d=\"M 148.2 113.2 L 148.2 92.3 L 172.0 92.3\" id=\"15,7\" style=\"stroke-width:nan\"></path><path d=\"M 125.5 65.2 L 125.5 74.2 L 135.9 74.2\" id=\"17,8\" style=\"stroke-width:nan\"></path><path d=\"M 125.5 65.2 L 125.5 56.1 L 136.4 56.1\" id=\"17,9\" style=\"stroke-width:nan\"></path><path d=\"M 158.9 178.2 L 158.9 191.7 L 184.9 191.7\" id=\"11,10\" style=\"stroke-width:nan\"></path><path d=\"M 155.8 157.8 L 155.8 178.2 L 158.9 178.2\" id=\"13,11\" style=\"stroke-width:nan\"></path><path d=\"M 155.8 157.8 L 155.8 137.5 L 165.2 137.5\" id=\"13,12\" style=\"stroke-width:nan\"></path><path d=\"M 152.5 134.1 L 152.5 157.8 L 155.8 157.8\" id=\"14,13\" style=\"stroke-width:nan\"></path><path d=\"M 148.2 113.2 L 148.2 134.1 L 152.5 134.1\" id=\"15,14\" style=\"stroke-width:nan\"></path><path d=\"M 125.5 166.0 L 125.5 113.2 L 148.2 113.2\" id=\"16,15\" style=\"stroke-width:nan\"></path><path d=\"M 50.0 115.6 L 50.0 166.0 L 125.5 166.0\" id=\"18,16\" style=\"stroke-width:nan\"></path><path d=\"M 50.0 115.6 L 50.0 65.2 L 125.5 65.2\" id=\"18,17\" style=\"stroke-width:nan\"></path></g><g class=\"toytree-TipLabels\" style=\"fill:rgb(16.1%,15.3%,14.1%);fill-opacity:1.0;font-family:Helvetica;font-size:11.0px;font-weight:300;stroke:none;vertical-align:baseline;white-space:pre\"><g class=\"toytree-TipLabel\" transform=\"translate(174.7573962945597,218.86291179596174)\"><text x=\"15.0\" y=\"2.8104999999999993\" style=\"\">29154_superba</text></g><g class=\"toytree-TipLabel\" transform=\"translate(189.54259927553085,200.78226473019248)\"><text x=\"15.0\" y=\"2.8104999999999993\" style=\"\">38362_rex</text></g><g class=\"toytree-TipLabel\" transform=\"translate(188.99490384966455,182.70161766442322)\"><text x=\"15.0\" y=\"2.8104999999999993\" style=\"\">39618_rex</text></g><g class=\"toytree-TipLabel\" transform=\"translate(183.3871284945801,164.6209705986539)\"><text x=\"15.0\" y=\"2.8104999999999993\" style=\"\">35236_rex</text></g><g class=\"toytree-TipLabel\" transform=\"translate(179.53728201947635,146.54032353288463)\"><text x=\"15.0\" y=\"2.8104999999999993\" style=\"\">35855_rex</text></g><g class=\"toytree-TipLabel\" transform=\"translate(179.34543888199352,128.45967646711534)\"><text x=\"15.0\" y=\"2.8104999999999993\" style=\"\">40578_rex</text></g><g class=\"toytree-TipLabel\" transform=\"translate(180.03902581641964,110.37902940134609)\"><text x=\"15.0\" y=\"2.8104999999999993\" style=\"\">30556_thamno</text></g><g class=\"toytree-TipLabel\" transform=\"translate(171.98840818637666,92.2983823355768)\"><text x=\"15.0\" y=\"2.8104999999999993\" style=\"\">33413_thamno</text></g><g class=\"toytree-TipLabel\" transform=\"translate(135.91348458961147,74.2177352698075)\"><text x=\"15.0\" y=\"2.8104999999999993\" style=\"\">33588_przewalskii</text></g><g class=\"toytree-TipLabel\" transform=\"translate(136.42674736771733,56.137088204038236)\"><text x=\"15.0\" y=\"2.8104999999999993\" style=\"\">32082_przewalskii</text></g></g></g></g></g></svg><div class=\"toyplot-behavior\"><script>(function()\n",
       "{\n",
       "var modules={};\n",
       "})();</script></div></div>"
      ]
     },
     "metadata": {},
     "output_type": "display_data"
    }
   ],
   "source": [
    "rtre.drop_tips(wildcard=\"cyatho\").draw();"
   ]
  },
  {
   "cell_type": "markdown",
   "metadata": {},
   "source": [
    "#### Ladderize\n",
    "By default toytrees are ladderized unless you change the tip order in some way, by either entering a fixed_order for tip labels, by dropping tips from the tree, or by rotating nodes. If you want to return a tree to being ladderized you can do so with the `.ladderize()` function. "
   ]
  },
  {
   "cell_type": "code",
   "execution_count": 14,
   "metadata": {},
   "outputs": [
    {
     "data": {
      "text/html": [
       "<div class=\"toyplot\" id=\"td898189cd5284cd39c7bf170d0e30b1b\" style=\"text-align:center\"><svg class=\"toyplot-canvas-Canvas\" xmlns:toyplot=\"http://www.sandia.gov/toyplot\" xmlns:xlink=\"http://www.w3.org/1999/xlink\" xmlns=\"http://www.w3.org/2000/svg\" width=\"335.0px\" height=\"275.0px\" viewBox=\"0 0 335.0 275.0\" preserveAspectRatio=\"xMidYMid meet\" style=\"background-color:transparent;border-color:#292724;border-style:none;border-width:1.0;fill:rgb(16.1%,15.3%,14.1%);fill-opacity:1.0;font-family:Helvetica;font-size:12px;opacity:1.0;stroke:rgb(16.1%,15.3%,14.1%);stroke-opacity:1.0;stroke-width:1.0\" id=\"t2525eced72fc47ac9a8a3564223802bf\"><g class=\"toyplot-coordinates-Cartesian\" id=\"tf230fccefbd04c2ab396f16000b55923\"><clipPath id=\"t179f613abe4946d993e11b55056741c3\"><rect x=\"35.0\" y=\"35.0\" width=\"265.0\" height=\"205.0\"></rect></clipPath><g clip-path=\"url(#t179f613abe4946d993e11b55056741c3)\"><g class=\"toytree-mark-Toytree\" id=\"tdc8df1068cfc49e5ba895ab25646fb0c\"><g class=\"toytree-Edges\" style=\"fill:none;stroke:rgba(16.1%,15.3%,14.1%,1.000);stroke-linecap:round;stroke-width:2.0\"><path d=\"M 184.9 209.8 L 184.9 218.9 L 189.5 218.9\" id=\"10,0\" style=\"stroke-width:nan\"></path><path d=\"M 184.9 209.8 L 184.9 200.8 L 189.0 200.8\" id=\"10,1\" style=\"stroke-width:nan\"></path><path d=\"M 158.9 196.3 L 158.9 182.7 L 183.4 182.7\" id=\"11,2\" style=\"stroke-width:nan\"></path><path d=\"M 165.2 155.6 L 165.2 164.6 L 179.5 164.6\" id=\"12,3\" style=\"stroke-width:nan\"></path><path d=\"M 165.2 155.6 L 165.2 146.5 L 179.3 146.5\" id=\"12,4\" style=\"stroke-width:nan\"></path><path d=\"M 152.5 152.2 L 152.5 128.5 L 180.0 128.5\" id=\"14,5\" style=\"stroke-width:nan\"></path><path d=\"M 148.2 131.3 L 148.2 110.4 L 172.0 110.4\" id=\"15,6\" style=\"stroke-width:nan\"></path><path d=\"M 125.5 111.8 L 125.5 92.3 L 174.8 92.3\" id=\"16,7\" style=\"stroke-width:nan\"></path><path d=\"M 125.5 65.2 L 125.5 74.2 L 135.9 74.2\" id=\"17,8\" style=\"stroke-width:nan\"></path><path d=\"M 125.5 65.2 L 125.5 56.1 L 136.4 56.1\" id=\"17,9\" style=\"stroke-width:nan\"></path><path d=\"M 158.9 196.3 L 158.9 209.8 L 184.9 209.8\" id=\"11,10\" style=\"stroke-width:nan\"></path><path d=\"M 155.8 175.9 L 155.8 196.3 L 158.9 196.3\" id=\"13,11\" style=\"stroke-width:nan\"></path><path d=\"M 155.8 175.9 L 155.8 155.6 L 165.2 155.6\" id=\"13,12\" style=\"stroke-width:nan\"></path><path d=\"M 152.5 152.2 L 152.5 175.9 L 155.8 175.9\" id=\"14,13\" style=\"stroke-width:nan\"></path><path d=\"M 148.2 131.3 L 148.2 152.2 L 152.5 152.2\" id=\"15,14\" style=\"stroke-width:nan\"></path><path d=\"M 125.5 111.8 L 125.5 131.3 L 148.2 131.3\" id=\"16,15\" style=\"stroke-width:nan\"></path><path d=\"M 50.0 88.5 L 50.0 111.8 L 125.5 111.8\" id=\"18,16\" style=\"stroke-width:nan\"></path><path d=\"M 50.0 88.5 L 50.0 65.2 L 125.5 65.2\" id=\"18,17\" style=\"stroke-width:nan\"></path></g><g class=\"toytree-TipLabels\" style=\"fill:rgb(16.1%,15.3%,14.1%);fill-opacity:1.0;font-family:Helvetica;font-size:11.0px;font-weight:300;stroke:none;vertical-align:baseline;white-space:pre\"><g class=\"toytree-TipLabel\" transform=\"translate(189.54259927553085,218.86291179596174)\"><text x=\"15.0\" y=\"2.8104999999999993\" style=\"\">38362_rex</text></g><g class=\"toytree-TipLabel\" transform=\"translate(188.99490384966455,200.78226473019248)\"><text x=\"15.0\" y=\"2.8104999999999993\" style=\"\">39618_rex</text></g><g class=\"toytree-TipLabel\" transform=\"translate(183.3871284945801,182.70161766442322)\"><text x=\"15.0\" y=\"2.8104999999999993\" style=\"\">35236_rex</text></g><g class=\"toytree-TipLabel\" transform=\"translate(179.53728201947635,164.6209705986539)\"><text x=\"15.0\" y=\"2.8104999999999993\" style=\"\">35855_rex</text></g><g class=\"toytree-TipLabel\" transform=\"translate(179.34543888199352,146.54032353288463)\"><text x=\"15.0\" y=\"2.8104999999999993\" style=\"\">40578_rex</text></g><g class=\"toytree-TipLabel\" transform=\"translate(180.03902581641964,128.45967646711534)\"><text x=\"15.0\" y=\"2.8104999999999993\" style=\"\">30556_thamno</text></g><g class=\"toytree-TipLabel\" transform=\"translate(171.98840818637666,110.37902940134609)\"><text x=\"15.0\" y=\"2.8104999999999993\" style=\"\">33413_thamno</text></g><g class=\"toytree-TipLabel\" transform=\"translate(174.7573962945597,92.2983823355768)\"><text x=\"15.0\" y=\"2.8104999999999993\" style=\"\">29154_superba</text></g><g class=\"toytree-TipLabel\" transform=\"translate(135.91348458961147,74.2177352698075)\"><text x=\"15.0\" y=\"2.8104999999999993\" style=\"\">33588_przewalskii</text></g><g class=\"toytree-TipLabel\" transform=\"translate(136.42674736771733,56.137088204038236)\"><text x=\"15.0\" y=\"2.8104999999999993\" style=\"\">32082_przewalskii</text></g></g></g></g></g></svg><div class=\"toyplot-behavior\"><script>(function()\n",
       "{\n",
       "var modules={};\n",
       "})();</script></div></div>"
      ]
     },
     "metadata": {},
     "output_type": "display_data"
    }
   ],
   "source": [
    "# dropping tips unladderized the tree, so we re-ladderized it before plotting\n",
    "rtre.drop_tips(wildcard=\"cyatho\").ladderize().draw();"
   ]
  },
  {
   "cell_type": "markdown",
   "metadata": {},
   "source": [
    "#### Rotate nodes \n",
    "Rotating nodes of the tree does not affect the actual tree structure (e.g., the newick structure does not change), it simply affects the order of tips when the tree is drawn. You can rotate nodes by entering tip names as in the previous examples using either names, wildcard, or regex. The names must form a monophyletic clade for one of the descendants of the node you wish to rotate. Rotating nodes for plotting is usually done for some aesthetic reason, such as aligning tips better with geography or trait values plotted on the tips of the tree. "
   ]
  },
  {
   "cell_type": "code",
   "execution_count": 15,
   "metadata": {},
   "outputs": [
    {
     "data": {
      "text/html": [
       "<div class=\"toyplot\" id=\"t82eb3311b23f40caad296fd6eb3a8466\" style=\"text-align:center\"><svg class=\"toyplot-canvas-Canvas\" xmlns:toyplot=\"http://www.sandia.gov/toyplot\" xmlns:xlink=\"http://www.w3.org/1999/xlink\" xmlns=\"http://www.w3.org/2000/svg\" width=\"360.0px\" height=\"275.0px\" viewBox=\"0 0 360.0 275.0\" preserveAspectRatio=\"xMidYMid meet\" style=\"background-color:transparent;border-color:#292724;border-style:none;border-width:1.0;fill:rgb(16.1%,15.3%,14.1%);fill-opacity:1.0;font-family:Helvetica;font-size:12px;opacity:1.0;stroke:rgb(16.1%,15.3%,14.1%);stroke-opacity:1.0;stroke-width:1.0\" id=\"te4fbf767b59d473581d814c731cec7fa\"><g class=\"toyplot-coordinates-Cartesian\" id=\"t4a1f2264b9bd493188b633daa30ed6c1\"><clipPath id=\"t88d643664da64a6eb894c891da2f3bfc\"><rect x=\"35.0\" y=\"35.0\" width=\"290.0\" height=\"205.0\"></rect></clipPath><g clip-path=\"url(#t88d643664da64a6eb894c891da2f3bfc)\"><g class=\"toytree-mark-Toytree\" id=\"t8465519ea753465c96ede7198a8eee8a\"><g class=\"toytree-Edges\" style=\"fill:none;stroke:rgba(16.1%,15.3%,14.1%,1.000);stroke-linecap:round;stroke-width:2.0\"><path d=\"M 179.6 212.1 L 179.6 218.9 L 184.0 218.9\" id=\"13,0\" style=\"stroke-width:nan\"></path><path d=\"M 179.6 212.1 L 179.6 205.3 L 183.5 205.3\" id=\"13,1\" style=\"stroke-width:nan\"></path><path d=\"M 154.6 201.9 L 154.6 191.7 L 178.1 191.7\" id=\"14,2\" style=\"stroke-width:nan\"></path><path d=\"M 160.6 171.4 L 160.6 178.2 L 174.4 178.2\" id=\"15,3\" style=\"stroke-width:nan\"></path><path d=\"M 160.6 171.4 L 160.6 164.6 L 174.2 164.6\" id=\"15,4\" style=\"stroke-width:nan\"></path><path d=\"M 148.5 168.9 L 148.5 151.1 L 174.9 151.1\" id=\"17,5\" style=\"stroke-width:nan\"></path><path d=\"M 144.3 153.2 L 144.3 137.5 L 167.1 137.5\" id=\"20,6\" style=\"stroke-width:nan\"></path><path d=\"M 172.6 117.2 L 172.6 123.9 L 172.8 123.9\" id=\"18,7\" style=\"stroke-width:nan\"></path><path d=\"M 172.6 117.2 L 172.6 110.4 L 172.9 110.4\" id=\"18,8\" style=\"stroke-width:nan\"></path><path d=\"M 144.1 90.0 L 144.1 96.8 L 171.2 96.8\" id=\"19,9\" style=\"stroke-width:nan\"></path><path d=\"M 144.1 90.0 L 144.1 83.3 L 169.8 83.3\" id=\"19,10\" style=\"stroke-width:nan\"></path><path d=\"M 122.5 62.9 L 122.5 69.7 L 133.0 69.7\" id=\"23,11\" style=\"stroke-width:nan\"></path><path d=\"M 122.5 62.9 L 122.5 56.1 L 132.5 56.1\" id=\"23,12\" style=\"stroke-width:nan\"></path><path d=\"M 154.6 201.9 L 154.6 212.1 L 179.6 212.1\" id=\"14,13\" style=\"stroke-width:nan\"></path><path d=\"M 151.6 186.7 L 151.6 201.9 L 154.6 201.9\" id=\"16,14\" style=\"stroke-width:nan\"></path><path d=\"M 151.6 186.7 L 151.6 171.4 L 160.6 171.4\" id=\"16,15\" style=\"stroke-width:nan\"></path><path d=\"M 148.5 168.9 L 148.5 186.7 L 151.6 186.7\" id=\"17,16\" style=\"stroke-width:nan\"></path><path d=\"M 144.3 153.2 L 144.3 168.9 L 148.5 168.9\" id=\"20,17\" style=\"stroke-width:nan\"></path><path d=\"M 134.5 103.6 L 134.5 117.2 L 172.6 117.2\" id=\"21,18\" style=\"stroke-width:nan\"></path><path d=\"M 134.5 103.6 L 134.5 90.0 L 144.1 90.0\" id=\"21,19\" style=\"stroke-width:nan\"></path><path d=\"M 122.5 128.4 L 122.5 153.2 L 144.3 153.2\" id=\"22,20\" style=\"stroke-width:nan\"></path><path d=\"M 122.5 128.4 L 122.5 103.6 L 134.5 103.6\" id=\"22,21\" style=\"stroke-width:nan\"></path><path d=\"M 50.0 95.7 L 50.0 128.4 L 122.5 128.4\" id=\"24,22\" style=\"stroke-width:nan\"></path><path d=\"M 50.0 95.7 L 50.0 62.9 L 122.5 62.9\" id=\"24,23\" style=\"stroke-width:nan\"></path></g><g class=\"toytree-TipLabels\" style=\"fill:rgb(16.1%,15.3%,14.1%);fill-opacity:1.0;font-family:Helvetica;font-size:11.0px;font-weight:300;stroke:none;vertical-align:baseline;white-space:pre\"><g class=\"toytree-TipLabel\" transform=\"translate(183.97798848197203,218.86291179596174)\"><text x=\"15.0\" y=\"2.8104999999999993\" style=\"\">38362_rex</text></g><g class=\"toytree-TipLabel\" transform=\"translate(183.45213378355513,205.30242649663478)\"><text x=\"15.0\" y=\"2.8104999999999993\" style=\"\">39618_rex</text></g><g class=\"toytree-TipLabel\" transform=\"translate(178.06798252197876,191.74194119730782)\"><text x=\"15.0\" y=\"2.8104999999999993\" style=\"\">35236_rex</text></g><g class=\"toytree-TipLabel\" transform=\"translate(174.37165832150754,178.18145589798087)\"><text x=\"15.0\" y=\"2.8104999999999993\" style=\"\">35855_rex</text></g><g class=\"toytree-TipLabel\" transform=\"translate(174.18746540982704,164.6209705986539)\"><text x=\"15.0\" y=\"2.8104999999999993\" style=\"\">40578_rex</text></g><g class=\"toytree-TipLabel\" transform=\"translate(174.85339382734423,151.06048529932696)\"><text x=\"15.0\" y=\"2.8104999999999993\" style=\"\">30556_thamno</text></g><g class=\"toytree-TipLabel\" transform=\"translate(167.12381474747545,137.5)\"><text x=\"15.0\" y=\"2.8104999999999993\" style=\"\">33413_thamno</text></g><g class=\"toytree-TipLabel\" transform=\"translate(172.77622483402453,123.93951470067304)\"><text x=\"15.0\" y=\"2.8104999999999993\" style=\"\">41478_cyathophylloides</text></g><g class=\"toytree-TipLabel\" transform=\"translate(172.9219669845375,110.37902940134609)\"><text x=\"15.0\" y=\"2.8104999999999993\" style=\"\">41954_cyathophylloides</text></g><g class=\"toytree-TipLabel\" transform=\"translate(171.22564525983904,96.81854410201913)\"><text x=\"15.0\" y=\"2.8104999999999993\" style=\"\">30686_cyathophylla</text></g><g class=\"toytree-TipLabel\" transform=\"translate(169.78238251667938,83.25805880269218)\"><text x=\"15.0\" y=\"2.8104999999999993\" style=\"\">29154_superba</text></g><g class=\"toytree-TipLabel\" transform=\"translate(132.98026425968115,69.6975735033652)\"><text x=\"15.0\" y=\"2.8104999999999993\" style=\"\">32082_przewalskii</text></g><g class=\"toytree-TipLabel\" transform=\"translate(132.48746912091843,56.13708820403825)\"><text x=\"15.0\" y=\"2.8104999999999993\" style=\"\">33588_przewalskii</text></g></g></g></g></g></svg><div class=\"toyplot-behavior\"><script>(function()\n",
       "{\n",
       "var modules={};\n",
       "})();</script></div></div>"
      ]
     },
     "metadata": {},
     "output_type": "display_data"
    }
   ],
   "source": [
    "rtre.rotate_node(wildcard=\"prz\").draw();"
   ]
  },
  {
   "cell_type": "markdown",
   "metadata": {},
   "source": [
    "#### Resolve polytomy\n",
    "This method should generally not be used much unless needed. The problem is that you usually don't know what to set the branch length to for the new edge when you split a polytomy. If the tree is unrooted then you should use `.root()` instead to root it. If you have a hard polytomy in the tree and need to resolve it then this will resolve all polytomies in the tree. You can change what the default .dist and .support values will be on the new node. "
   ]
  },
  {
   "cell_type": "code",
   "execution_count": 16,
   "metadata": {},
   "outputs": [
    {
     "data": {
      "text/html": [
       "<div class=\"toyplot\" id=\"t67e62ee54ad34f49a694c74391e48cc5\" style=\"text-align:center\"><svg class=\"toyplot-canvas-Canvas\" xmlns:toyplot=\"http://www.sandia.gov/toyplot\" xmlns:xlink=\"http://www.w3.org/1999/xlink\" xmlns=\"http://www.w3.org/2000/svg\" width=\"255.0px\" height=\"275.0px\" viewBox=\"0 0 255.0 275.0\" preserveAspectRatio=\"xMidYMid meet\" style=\"background-color:transparent;border-color:#292724;border-style:none;border-width:1.0;fill:rgb(16.1%,15.3%,14.1%);fill-opacity:1.0;font-family:Helvetica;font-size:12px;opacity:1.0;stroke:rgb(16.1%,15.3%,14.1%);stroke-opacity:1.0;stroke-width:1.0\" id=\"t9ada7ec0fc61420ba92b07705ad1d958\"><g class=\"toyplot-coordinates-Cartesian\" id=\"tf2ffe86dd0074693ab82d317fb7772f6\"><clipPath id=\"t3f563fb3274c448d9c92a4030a6b1e5d\"><rect x=\"35.0\" y=\"35.0\" width=\"185.0\" height=\"205.0\"></rect></clipPath><g clip-path=\"url(#t3f563fb3274c448d9c92a4030a6b1e5d)\"><g class=\"toytree-mark-Toytree\" id=\"tf13edd6d84f749feabe469134c191b90\"><g class=\"toytree-Edges\" style=\"fill:none;stroke:rgba(16.1%,15.3%,14.1%,1.000);stroke-linecap:round;stroke-width:2.0\"><path d=\"M 50.0 171.4 L 50.0 218.9 L 90.6 218.9\" id=\"6,0\" style=\"stroke-width:nan\"></path><path d=\"M 90.6 123.9 L 90.6 164.6 L 131.2 164.6\" id=\"5,1\" style=\"stroke-width:nan\"></path><path d=\"M 131.2 83.3 L 131.2 110.4 L 171.8 110.4\" id=\"4,2\" style=\"stroke-width:nan\"></path><path d=\"M 131.2 83.3 L 131.2 56.1 L 171.8 56.1\" id=\"4,3\" style=\"stroke-width:nan\"></path><path d=\"M 90.6 123.9 L 90.6 83.3 L 131.2 83.3\" id=\"5,4\" style=\"stroke-width:nan\"></path><path d=\"M 50.0 171.4 L 50.0 123.9 L 90.6 123.9\" id=\"6,5\" style=\"stroke-width:nan\"></path></g><g class=\"toytree-TipLabels\" style=\"fill:rgb(16.1%,15.3%,14.1%);fill-opacity:1.0;font-family:Helvetica;font-size:11.0px;font-weight:300;stroke:none;vertical-align:baseline;white-space:pre\"><g class=\"toytree-TipLabel\" transform=\"translate(90.60362077823747,218.86291179596174)\"><text x=\"15.0\" y=\"2.8104999999999993\" style=\"\">d</text></g><g class=\"toytree-TipLabel\" transform=\"translate(131.20724155647494,164.6209705986539)\"><text x=\"15.0\" y=\"2.8104999999999993\" style=\"\">a</text></g><g class=\"toytree-TipLabel\" transform=\"translate(171.81086233471243,110.37902940134609)\"><text x=\"15.0\" y=\"2.8104999999999993\" style=\"\">c</text></g><g class=\"toytree-TipLabel\" transform=\"translate(171.81086233471243,56.13708820403825)\"><text x=\"15.0\" y=\"2.8104999999999993\" style=\"\">b</text></g></g></g></g></g></svg><div class=\"toyplot-behavior\"><script>(function()\n",
       "{\n",
       "var modules={};\n",
       "})();</script></div></div>"
      ]
     },
     "metadata": {},
     "output_type": "display_data"
    }
   ],
   "source": [
    "toytree.tree(\"((a,b,c),d);\").resolve_polytomy(dist=1.).draw();"
   ]
  },
  {
   "cell_type": "markdown",
   "metadata": {},
   "source": [
    "### Chaining functions and arguments\n",
    "Because the tree modification calls in toytrees always return a copy of the object, you can chain together many of these functions when building a plot. This is especially nice if you are only modifying the tree temporarily for the purpose of plotting (e.g., rotating nodes), and so you don't need to store the intermediate trees. It's kind of analagous to using pipes in bash programming. \n",
    "\n",
    "When chaining many function calls and plotting styles together in toytree code it is best to use good coding practices. In the example below I split each function call and style option over a separate line. This makes the code more readable, and easier to debug, since you can comment out a line at a time to examine its effect without it breaking the rest of the command. The parentheses surrounding the main function calls makes this possible. "
   ]
  },
  {
   "cell_type": "code",
   "execution_count": 17,
   "metadata": {
    "scrolled": false
   },
   "outputs": [
    {
     "data": {
      "text/html": [
       "<div class=\"toyplot\" id=\"t0c5c05c255cf4219af139b2d80e8dfb8\" style=\"text-align:center\"><svg class=\"toyplot-canvas-Canvas\" xmlns:toyplot=\"http://www.sandia.gov/toyplot\" xmlns:xlink=\"http://www.w3.org/1999/xlink\" xmlns=\"http://www.w3.org/2000/svg\" width=\"360.0px\" height=\"275.0px\" viewBox=\"0 0 360.0 275.0\" preserveAspectRatio=\"xMidYMid meet\" style=\"background-color:transparent;border-color:#292724;border-style:none;border-width:1.0;fill:rgb(16.1%,15.3%,14.1%);fill-opacity:1.0;font-family:Helvetica;font-size:12px;opacity:1.0;stroke:rgb(16.1%,15.3%,14.1%);stroke-opacity:1.0;stroke-width:1.0\" id=\"t95e81f7b4f914aa195152d2d1a28ac59\"><g class=\"toyplot-coordinates-Cartesian\" id=\"t6fcf319b21f64ee1ac89a863379d12fc\"><clipPath id=\"te13d120cf45442c1bbb6034ebf2a3ad7\"><rect x=\"35.0\" y=\"35.0\" width=\"290.0\" height=\"205.0\"></rect></clipPath><g clip-path=\"url(#te13d120cf45442c1bbb6034ebf2a3ad7)\"><g class=\"toytree-mark-Toytree\" id=\"t8f2d8c5bfd874b688fee88f34438a7ad\"><g class=\"toytree-Edges\" style=\"fill:none;stroke:(0.90588235, 0.54117647, 0.76470588, 1.);stroke-linecap:round;stroke-width:2.0\"><path d=\"M 174.3 211.5 L 174.3 218.9 L 178.5 218.9\" id=\"12,0\" style=\"stroke-width:nan\"></path><path d=\"M 174.3 211.5 L 174.3 204.1 L 178.0 204.1\" id=\"12,1\" style=\"stroke-width:nan\"></path><path d=\"M 150.3 200.4 L 150.3 189.3 L 172.8 189.3\" id=\"13,2\" style=\"stroke-width:nan\"></path><path d=\"M 156.1 167.1 L 156.1 174.5 L 169.3 174.5\" id=\"14,3\" style=\"stroke-width:nan\"></path><path d=\"M 156.1 167.1 L 156.1 159.7 L 169.1 159.7\" id=\"14,4\" style=\"stroke-width:nan\"></path><path d=\"M 144.4 164.3 L 144.4 144.9 L 169.8 144.9\" id=\"16,5\" style=\"stroke-width:nan\"></path><path d=\"M 140.4 147.2 L 140.4 130.1 L 162.3 130.1\" id=\"18,6\" style=\"stroke-width:nan\"></path><path d=\"M 131.1 104.2 L 131.1 115.3 L 166.3 115.3\" id=\"19,7\" style=\"stroke-width:nan\"></path><path d=\"M 167.6 93.1 L 167.6 100.5 L 167.8 100.5\" id=\"17,8\" style=\"stroke-width:nan\"></path><path d=\"M 167.6 93.1 L 167.6 85.7 L 167.9 85.7\" id=\"17,9\" style=\"stroke-width:nan\"></path><path d=\"M 119.5 63.5 L 119.5 70.9 L 129.1 70.9\" id=\"21,10\" style=\"stroke-width:nan\"></path><path d=\"M 119.5 63.5 L 119.5 56.1 L 129.6 56.1\" id=\"21,11\" style=\"stroke-width:nan\"></path><path d=\"M 150.3 200.4 L 150.3 211.5 L 174.3 211.5\" id=\"13,12\" style=\"stroke-width:nan\"></path><path d=\"M 147.5 183.7 L 147.5 200.4 L 150.3 200.4\" id=\"15,13\" style=\"stroke-width:nan\"></path><path d=\"M 147.5 183.7 L 147.5 167.1 L 156.1 167.1\" id=\"15,14\" style=\"stroke-width:nan\"></path><path d=\"M 144.4 164.3 L 144.4 183.7 L 147.5 183.7\" id=\"16,15\" style=\"stroke-width:nan\"></path><path d=\"M 140.4 147.2 L 140.4 164.3 L 144.4 164.3\" id=\"18,16\" style=\"stroke-width:nan\"></path><path d=\"M 131.1 104.2 L 131.1 93.1 L 167.6 93.1\" id=\"19,17\" style=\"stroke-width:nan\"></path><path d=\"M 119.5 125.7 L 119.5 147.2 L 140.4 147.2\" id=\"20,18\" style=\"stroke-width:nan\"></path><path d=\"M 119.5 125.7 L 119.5 104.2 L 131.1 104.2\" id=\"20,19\" style=\"stroke-width:nan\"></path><path d=\"M 50.0 94.6 L 50.0 125.7 L 119.5 125.7\" id=\"22,20\" style=\"stroke-width:nan\"></path><path d=\"M 50.0 94.6 L 50.0 63.5 L 119.5 63.5\" id=\"22,21\" style=\"stroke-width:nan\"></path></g><g class=\"toytree-AlignEdges\" style=\"stroke:rgba(66.3%,66.3%,66.3%,1.000);stroke-dasharray:2,4;stroke-linecap:round;stroke-opacity:0.75;stroke-width:2\"><path d=\"M 178.5 218.9 L 178.5 218.9\"></path><path d=\"M 178.5 204.1 L 178.0 204.1\"></path><path d=\"M 178.5 189.3 L 172.8 189.3\"></path><path d=\"M 178.5 174.5 L 169.3 174.5\"></path><path d=\"M 178.5 159.7 L 169.1 159.7\"></path><path d=\"M 178.5 144.9 L 169.8 144.9\"></path><path d=\"M 178.5 130.1 L 162.3 130.1\"></path><path d=\"M 178.5 115.3 L 166.3 115.3\"></path><path d=\"M 178.5 100.5 L 167.8 100.5\"></path><path d=\"M 178.5 85.7 L 167.9 85.7\"></path><path d=\"M 178.5 70.9 L 129.1 70.9\"></path><path d=\"M 178.5 56.1 L 129.6 56.1\"></path></g><g class=\"toytree-TipLabels\" style=\"fill:rgb(16.1%,15.3%,14.1%);fill-opacity:1.0;font-family:Helvetica;font-size:11.0px;font-weight:300;stroke:none;vertical-align:baseline;white-space:pre\"><g class=\"toytree-TipLabel\" transform=\"translate(178.51320111935757,218.86291179596174)\"><text x=\"15.0\" y=\"2.8104999999999993\" style=\"\">38362_rex</text></g><g class=\"toytree-TipLabel\" transform=\"translate(178.51320111935757,204.06965510578686)\"><text x=\"15.0\" y=\"2.8104999999999993\" style=\"\">39618_rex</text></g><g class=\"toytree-TipLabel\" transform=\"translate(178.51320111935757,189.276398415612)\"><text x=\"15.0\" y=\"2.8104999999999993\" style=\"\">35236_rex</text></g><g class=\"toytree-TipLabel\" transform=\"translate(178.51320111935757,174.48314172543715)\"><text x=\"15.0\" y=\"2.8104999999999993\" style=\"\">35855_rex</text></g><g class=\"toytree-TipLabel\" transform=\"translate(178.51320111935757,159.68988503526228)\"><text x=\"15.0\" y=\"2.8104999999999993\" style=\"\">40578_rex</text></g><g class=\"toytree-TipLabel\" transform=\"translate(178.51320111935757,144.8966283450874)\"><text x=\"15.0\" y=\"2.8104999999999993\" style=\"\">30556_thamno</text></g><g class=\"toytree-TipLabel\" transform=\"translate(178.51320111935757,130.10337165491254)\"><text x=\"15.0\" y=\"2.8104999999999993\" style=\"\">33413_thamno</text></g><g class=\"toytree-TipLabel\" transform=\"translate(178.51320111935757,115.31011496473768)\"><text x=\"15.0\" y=\"2.8104999999999993\" style=\"\">30686_cyathophylla</text></g><g class=\"toytree-TipLabel\" transform=\"translate(178.51320111935757,100.51685827456282)\"><text x=\"15.0\" y=\"2.8104999999999993\" style=\"\">41478_cyathophylloides</text></g><g class=\"toytree-TipLabel\" transform=\"translate(178.51320111935757,85.72360158438796)\"><text x=\"15.0\" y=\"2.8104999999999993\" style=\"\">41954_cyathophylloides</text></g><g class=\"toytree-TipLabel\" transform=\"translate(178.51320111935757,70.9303448942131)\"><text x=\"15.0\" y=\"2.8104999999999993\" style=\"\">33588_przewalskii</text></g><g class=\"toytree-TipLabel\" transform=\"translate(178.51320111935757,56.137088204038236)\"><text x=\"15.0\" y=\"2.8104999999999993\" style=\"\">32082_przewalskii</text></g></g></g></g></g></svg><div class=\"toyplot-behavior\"><script>(function()\n",
       "{\n",
       "var modules={};\n",
       "})();</script></div></div>"
      ]
     },
     "metadata": {},
     "output_type": "display_data"
    }
   ],
   "source": [
    "# readable style for writing long draw functions\n",
    "canvas, axes, mark = (\n",
    "    tre\n",
    "    .root(wildcard=\"prz\")\n",
    "    .drop_tips(wildcard=\"superba\")\n",
    "    .rotate_node(wildcard=\"30686\")\n",
    "    .draw(\n",
    "        tip_labels_align=True,\n",
    "        edge_style={\n",
    "            \"stroke\": toytree.COLORS1[3],\n",
    "        }\n",
    "    )\n",
    ")"
   ]
  },
  {
   "cell_type": "markdown",
   "metadata": {},
   "source": [
    "### Attributes and functions"
   ]
  },
  {
   "cell_type": "code",
   "execution_count": 30,
   "metadata": {},
   "outputs": [],
   "source": [
    "rtre.get_tip_labels()             # list of labels in idx order\n",
    "rtre.get_tip_data()               # dataframe of tip node feature data\n",
    "rtre.get_tip_coordinates()        # array of tip plot coordinates in idx order\n",
    "rtre.get_node_data()              # dataframe of node feature data\n",
    "rtre.get_node_coordinates()       # array of node plot coordinates in idx order\n",
    "rtre.get_feature_dict();          # dict mapping any node feature to another feature"
   ]
  },
  {
   "cell_type": "code",
   "execution_count": 31,
   "metadata": {},
   "outputs": [],
   "source": [
    "rtre.is_bifurcating()             # boolean\n",
    "rtre.is_rooted();                 # boolean"
   ]
  },
  {
   "cell_type": "code",
   "execution_count": 32,
   "metadata": {},
   "outputs": [],
   "source": [
    "rtre.nnodes                       # number of nodes in the tree\n",
    "rtre.ntips                        # number of tips in the tree\n",
    "rtre.newick                       # the newick representation of the tree\n",
    "rtre.features                     # list of node features that can be accessed \n",
    "rtre.style;                       # dict of plotting style of tree "
   ]
  },
  {
   "cell_type": "markdown",
   "metadata": {},
   "source": [
    "### Saving/writing ToyTrees\n"
   ]
  },
  {
   "cell_type": "code",
   "execution_count": 33,
   "metadata": {},
   "outputs": [
    {
     "data": {
      "text/plain": [
       "'((32082_przewalskii:0.00259326,33588_przewalskii:0.00247134)100:0.0179371,(((29154_superba:0.00634237,30686_cyathophylla:0.00669945)100:0.00237995,(41954_cyathophylloides:8.88803e-05,41478_cyathophylloides:5.28218e-05)100:0.00941021)100:0.00297626,(33413_thamno:0.00565358,(30556_thamno:0.00653218,((40578_rex:0.00335406,35855_rex:0.00339963)100:0.00223,(35236_rex:0.00580525,(39618_rex:0.000962081,38362_rex:0.00109218)100:0.00617527)96:0.0007389)99:0.000783365)100:0.0010338)100:0.00538723)100:0.0179371);'"
      ]
     },
     "execution_count": 33,
     "metadata": {},
     "output_type": "execute_result"
    }
   ],
   "source": [
    "# if no file handle is entered then the newick string is returned\n",
    "rtre.write()"
   ]
  },
  {
   "cell_type": "code",
   "execution_count": 34,
   "metadata": {
    "scrolled": true
   },
   "outputs": [
    {
     "data": {
      "text/plain": [
       "'((32082_przewalskii,33588_przewalskii),(((29154_superba,30686_cyathophylla),(41954_cyathophylloides,41478_cyathophylloides)),(33413_thamno,(30556_thamno,((40578_rex,35855_rex),(35236_rex,(39618_rex,38362_rex)))))));'"
      ]
     },
     "execution_count": 34,
     "metadata": {},
     "output_type": "execute_result"
    }
   ],
   "source": [
    "# the fmt (format) options write different newick formats.\n",
    "rtre.write(tree_format=9)"
   ]
  },
  {
   "cell_type": "code",
   "execution_count": 35,
   "metadata": {},
   "outputs": [],
   "source": [
    "# write to file \n",
    "rtre.write(\"/tmp/mytree.tre\", tree_format=0)"
   ]
  }
 ],
 "metadata": {
  "kernelspec": {
   "display_name": "Python 3",
   "language": "python",
   "name": "python3"
  },
  "language_info": {
   "codemirror_mode": {
    "name": "ipython",
    "version": 3
   },
   "file_extension": ".py",
   "mimetype": "text/x-python",
   "name": "python",
   "nbconvert_exporter": "python",
   "pygments_lexer": "ipython3",
   "version": "3.8.8"
  }
 },
 "nbformat": 4,
 "nbformat_minor": 2
}
