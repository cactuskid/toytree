{
 "cells": [
  {
   "cell_type": "markdown",
   "metadata": {},
   "source": [
    "# Quick Guide\n",
    "\n",
    "**Toytree** is a Python library for plotting, manipulating, and calculating statistics on trees. It is designed for use inside jupyter notebooks (e.g., this tutorial is a notebook), and can also be integrated into any Python library to represent tree objects or generate tree visualizations. Tree data structures are used in a variety of research fields, from biology to computer science. Although toytree includes many functions aimed towards evolutionary biology, many tree-based algorithms apply more generally across disciplines.\n",
    "\n",
    "The best way to start learning toytree is through visualization. This tutorial will introduce the core classes and data structures in `toytree` through an introduction to tree drawing. \n",
    "To begin, we will import `toytree`, and the plotting library that can be used to extend its plots, `toyplot`, as well as `numpy` for generating some numerical data. "
   ]
  },
  {
   "cell_type": "code",
   "execution_count": 81,
   "metadata": {
    "scrolled": true
   },
   "outputs": [],
   "source": [
    "import toytree       # a tree object library\n",
    "import toyplot       # a general plotting library\n",
    "import numpy as np   # numerical library"
   ]
  },
  {
   "cell_type": "code",
   "execution_count": 82,
   "metadata": {},
   "outputs": [
    {
     "name": "stdout",
     "output_type": "stream",
     "text": [
      "3.0.dev1\n",
      "1.0.1\n",
      "1.20.3\n"
     ]
    }
   ],
   "source": [
    "print(toytree.__version__)\n",
    "print(toyplot.__version__)\n",
    "print(np.__version__)"
   ]
  },
  {
   "cell_type": "markdown",
   "metadata": {},
   "source": [
    "### Load and draw your first tree\n",
    "The main object in toytree is the `toytree.ToyTree` class, which provides plotting functionality and access to many useful functions and attributes for returning info and statistics about trees. As we'll see below, you can generate a ToyTree object in many ways, but generally it is done by reading a newick formatted file or string of text.\n",
    "\n",
    "The example below uses the flexible tree parsing function `toytree.tree()` to read a newick file from a public URL. This function can load trees from files, strings, URLs, and accepts options for parsing trees in a variety of formats. It aims to automatically detect the format of the input data. For more specific, and sometimes faster, tree parsing options there are a variety of functions available in the `toytree.io` subpackage. This function returns a ToyTree object which we store here to the variable name `tre`."
   ]
  },
  {
   "cell_type": "code",
   "execution_count": 83,
   "metadata": {},
   "outputs": [
    {
     "ename": "ConnectionError",
     "evalue": "HTTPSConnectionPool(host='eaton-lab.org', port=443): Max retries exceeded with url: /data/Cyathophora.tre (Caused by NewConnectionError('<urllib3.connection.HTTPSConnection object at 0x7faa20d62eb0>: Failed to establish a new connection: [Errno -3] Temporary failure in name resolution'))",
     "output_type": "error",
     "traceback": [
      "\u001b[0;31m---------------------------------------------------------------------------\u001b[0m",
      "\u001b[0;31mgaierror\u001b[0m                                  Traceback (most recent call last)",
      "File \u001b[0;32m~/miniconda3/lib/python3.9/site-packages/urllib3/connection.py:174\u001b[0m, in \u001b[0;36mHTTPConnection._new_conn\u001b[0;34m(self)\u001b[0m\n\u001b[1;32m    173\u001b[0m \u001b[38;5;28;01mtry\u001b[39;00m:\n\u001b[0;32m--> 174\u001b[0m     conn \u001b[38;5;241m=\u001b[39m \u001b[43mconnection\u001b[49m\u001b[38;5;241;43m.\u001b[39;49m\u001b[43mcreate_connection\u001b[49m\u001b[43m(\u001b[49m\n\u001b[1;32m    175\u001b[0m \u001b[43m        \u001b[49m\u001b[43m(\u001b[49m\u001b[38;5;28;43mself\u001b[39;49m\u001b[38;5;241;43m.\u001b[39;49m\u001b[43m_dns_host\u001b[49m\u001b[43m,\u001b[49m\u001b[43m \u001b[49m\u001b[38;5;28;43mself\u001b[39;49m\u001b[38;5;241;43m.\u001b[39;49m\u001b[43mport\u001b[49m\u001b[43m)\u001b[49m\u001b[43m,\u001b[49m\u001b[43m \u001b[49m\u001b[38;5;28;43mself\u001b[39;49m\u001b[38;5;241;43m.\u001b[39;49m\u001b[43mtimeout\u001b[49m\u001b[43m,\u001b[49m\u001b[43m \u001b[49m\u001b[38;5;241;43m*\u001b[39;49m\u001b[38;5;241;43m*\u001b[39;49m\u001b[43mextra_kw\u001b[49m\n\u001b[1;32m    176\u001b[0m \u001b[43m    \u001b[49m\u001b[43m)\u001b[49m\n\u001b[1;32m    178\u001b[0m \u001b[38;5;28;01mexcept\u001b[39;00m SocketTimeout:\n",
      "File \u001b[0;32m~/miniconda3/lib/python3.9/site-packages/urllib3/util/connection.py:73\u001b[0m, in \u001b[0;36mcreate_connection\u001b[0;34m(address, timeout, source_address, socket_options)\u001b[0m\n\u001b[1;32m     69\u001b[0m     \u001b[38;5;28;01mreturn\u001b[39;00m six\u001b[38;5;241m.\u001b[39mraise_from(\n\u001b[1;32m     70\u001b[0m         LocationParseError(\u001b[38;5;124mu\u001b[39m\u001b[38;5;124m\"\u001b[39m\u001b[38;5;124m'\u001b[39m\u001b[38;5;132;01m%s\u001b[39;00m\u001b[38;5;124m'\u001b[39m\u001b[38;5;124m, label empty or too long\u001b[39m\u001b[38;5;124m\"\u001b[39m \u001b[38;5;241m%\u001b[39m host), \u001b[38;5;28;01mNone\u001b[39;00m\n\u001b[1;32m     71\u001b[0m     )\n\u001b[0;32m---> 73\u001b[0m \u001b[38;5;28;01mfor\u001b[39;00m res \u001b[38;5;129;01min\u001b[39;00m \u001b[43msocket\u001b[49m\u001b[38;5;241;43m.\u001b[39;49m\u001b[43mgetaddrinfo\u001b[49m\u001b[43m(\u001b[49m\u001b[43mhost\u001b[49m\u001b[43m,\u001b[49m\u001b[43m \u001b[49m\u001b[43mport\u001b[49m\u001b[43m,\u001b[49m\u001b[43m \u001b[49m\u001b[43mfamily\u001b[49m\u001b[43m,\u001b[49m\u001b[43m \u001b[49m\u001b[43msocket\u001b[49m\u001b[38;5;241;43m.\u001b[39;49m\u001b[43mSOCK_STREAM\u001b[49m\u001b[43m)\u001b[49m:\n\u001b[1;32m     74\u001b[0m     af, socktype, proto, canonname, sa \u001b[38;5;241m=\u001b[39m res\n",
      "File \u001b[0;32m~/miniconda3/lib/python3.9/socket.py:954\u001b[0m, in \u001b[0;36mgetaddrinfo\u001b[0;34m(host, port, family, type, proto, flags)\u001b[0m\n\u001b[1;32m    953\u001b[0m addrlist \u001b[38;5;241m=\u001b[39m []\n\u001b[0;32m--> 954\u001b[0m \u001b[38;5;28;01mfor\u001b[39;00m res \u001b[38;5;129;01min\u001b[39;00m \u001b[43m_socket\u001b[49m\u001b[38;5;241;43m.\u001b[39;49m\u001b[43mgetaddrinfo\u001b[49m\u001b[43m(\u001b[49m\u001b[43mhost\u001b[49m\u001b[43m,\u001b[49m\u001b[43m \u001b[49m\u001b[43mport\u001b[49m\u001b[43m,\u001b[49m\u001b[43m \u001b[49m\u001b[43mfamily\u001b[49m\u001b[43m,\u001b[49m\u001b[43m \u001b[49m\u001b[38;5;28;43mtype\u001b[39;49m\u001b[43m,\u001b[49m\u001b[43m \u001b[49m\u001b[43mproto\u001b[49m\u001b[43m,\u001b[49m\u001b[43m \u001b[49m\u001b[43mflags\u001b[49m\u001b[43m)\u001b[49m:\n\u001b[1;32m    955\u001b[0m     af, socktype, proto, canonname, sa \u001b[38;5;241m=\u001b[39m res\n",
      "\u001b[0;31mgaierror\u001b[0m: [Errno -3] Temporary failure in name resolution",
      "\nDuring handling of the above exception, another exception occurred:\n",
      "\u001b[0;31mNewConnectionError\u001b[0m                        Traceback (most recent call last)",
      "File \u001b[0;32m~/miniconda3/lib/python3.9/site-packages/urllib3/connectionpool.py:699\u001b[0m, in \u001b[0;36mHTTPConnectionPool.urlopen\u001b[0;34m(self, method, url, body, headers, retries, redirect, assert_same_host, timeout, pool_timeout, release_conn, chunked, body_pos, **response_kw)\u001b[0m\n\u001b[1;32m    698\u001b[0m \u001b[38;5;66;03m# Make the request on the httplib connection object.\u001b[39;00m\n\u001b[0;32m--> 699\u001b[0m httplib_response \u001b[38;5;241m=\u001b[39m \u001b[38;5;28;43mself\u001b[39;49m\u001b[38;5;241;43m.\u001b[39;49m\u001b[43m_make_request\u001b[49m\u001b[43m(\u001b[49m\n\u001b[1;32m    700\u001b[0m \u001b[43m    \u001b[49m\u001b[43mconn\u001b[49m\u001b[43m,\u001b[49m\n\u001b[1;32m    701\u001b[0m \u001b[43m    \u001b[49m\u001b[43mmethod\u001b[49m\u001b[43m,\u001b[49m\n\u001b[1;32m    702\u001b[0m \u001b[43m    \u001b[49m\u001b[43murl\u001b[49m\u001b[43m,\u001b[49m\n\u001b[1;32m    703\u001b[0m \u001b[43m    \u001b[49m\u001b[43mtimeout\u001b[49m\u001b[38;5;241;43m=\u001b[39;49m\u001b[43mtimeout_obj\u001b[49m\u001b[43m,\u001b[49m\n\u001b[1;32m    704\u001b[0m \u001b[43m    \u001b[49m\u001b[43mbody\u001b[49m\u001b[38;5;241;43m=\u001b[39;49m\u001b[43mbody\u001b[49m\u001b[43m,\u001b[49m\n\u001b[1;32m    705\u001b[0m \u001b[43m    \u001b[49m\u001b[43mheaders\u001b[49m\u001b[38;5;241;43m=\u001b[39;49m\u001b[43mheaders\u001b[49m\u001b[43m,\u001b[49m\n\u001b[1;32m    706\u001b[0m \u001b[43m    \u001b[49m\u001b[43mchunked\u001b[49m\u001b[38;5;241;43m=\u001b[39;49m\u001b[43mchunked\u001b[49m\u001b[43m,\u001b[49m\n\u001b[1;32m    707\u001b[0m \u001b[43m\u001b[49m\u001b[43m)\u001b[49m\n\u001b[1;32m    709\u001b[0m \u001b[38;5;66;03m# If we're going to release the connection in ``finally:``, then\u001b[39;00m\n\u001b[1;32m    710\u001b[0m \u001b[38;5;66;03m# the response doesn't need to know about the connection. Otherwise\u001b[39;00m\n\u001b[1;32m    711\u001b[0m \u001b[38;5;66;03m# it will also try to release it and we'll have a double-release\u001b[39;00m\n\u001b[1;32m    712\u001b[0m \u001b[38;5;66;03m# mess.\u001b[39;00m\n",
      "File \u001b[0;32m~/miniconda3/lib/python3.9/site-packages/urllib3/connectionpool.py:382\u001b[0m, in \u001b[0;36mHTTPConnectionPool._make_request\u001b[0;34m(self, conn, method, url, timeout, chunked, **httplib_request_kw)\u001b[0m\n\u001b[1;32m    381\u001b[0m \u001b[38;5;28;01mtry\u001b[39;00m:\n\u001b[0;32m--> 382\u001b[0m     \u001b[38;5;28;43mself\u001b[39;49m\u001b[38;5;241;43m.\u001b[39;49m\u001b[43m_validate_conn\u001b[49m\u001b[43m(\u001b[49m\u001b[43mconn\u001b[49m\u001b[43m)\u001b[49m\n\u001b[1;32m    383\u001b[0m \u001b[38;5;28;01mexcept\u001b[39;00m (SocketTimeout, BaseSSLError) \u001b[38;5;28;01mas\u001b[39;00m e:\n\u001b[1;32m    384\u001b[0m     \u001b[38;5;66;03m# Py2 raises this as a BaseSSLError, Py3 raises it as socket timeout.\u001b[39;00m\n",
      "File \u001b[0;32m~/miniconda3/lib/python3.9/site-packages/urllib3/connectionpool.py:1010\u001b[0m, in \u001b[0;36mHTTPSConnectionPool._validate_conn\u001b[0;34m(self, conn)\u001b[0m\n\u001b[1;32m   1009\u001b[0m \u001b[38;5;28;01mif\u001b[39;00m \u001b[38;5;129;01mnot\u001b[39;00m \u001b[38;5;28mgetattr\u001b[39m(conn, \u001b[38;5;124m\"\u001b[39m\u001b[38;5;124msock\u001b[39m\u001b[38;5;124m\"\u001b[39m, \u001b[38;5;28;01mNone\u001b[39;00m):  \u001b[38;5;66;03m# AppEngine might not have  `.sock`\u001b[39;00m\n\u001b[0;32m-> 1010\u001b[0m     \u001b[43mconn\u001b[49m\u001b[38;5;241;43m.\u001b[39;49m\u001b[43mconnect\u001b[49m\u001b[43m(\u001b[49m\u001b[43m)\u001b[49m\n\u001b[1;32m   1012\u001b[0m \u001b[38;5;28;01mif\u001b[39;00m \u001b[38;5;129;01mnot\u001b[39;00m conn\u001b[38;5;241m.\u001b[39mis_verified:\n",
      "File \u001b[0;32m~/miniconda3/lib/python3.9/site-packages/urllib3/connection.py:358\u001b[0m, in \u001b[0;36mHTTPSConnection.connect\u001b[0;34m(self)\u001b[0m\n\u001b[1;32m    356\u001b[0m \u001b[38;5;28;01mdef\u001b[39;00m \u001b[38;5;21mconnect\u001b[39m(\u001b[38;5;28mself\u001b[39m):\n\u001b[1;32m    357\u001b[0m     \u001b[38;5;66;03m# Add certificate verification\u001b[39;00m\n\u001b[0;32m--> 358\u001b[0m     conn \u001b[38;5;241m=\u001b[39m \u001b[38;5;28;43mself\u001b[39;49m\u001b[38;5;241;43m.\u001b[39;49m\u001b[43m_new_conn\u001b[49m\u001b[43m(\u001b[49m\u001b[43m)\u001b[49m\n\u001b[1;32m    359\u001b[0m     hostname \u001b[38;5;241m=\u001b[39m \u001b[38;5;28mself\u001b[39m\u001b[38;5;241m.\u001b[39mhost\n",
      "File \u001b[0;32m~/miniconda3/lib/python3.9/site-packages/urllib3/connection.py:186\u001b[0m, in \u001b[0;36mHTTPConnection._new_conn\u001b[0;34m(self)\u001b[0m\n\u001b[1;32m    185\u001b[0m \u001b[38;5;28;01mexcept\u001b[39;00m SocketError \u001b[38;5;28;01mas\u001b[39;00m e:\n\u001b[0;32m--> 186\u001b[0m     \u001b[38;5;28;01mraise\u001b[39;00m NewConnectionError(\n\u001b[1;32m    187\u001b[0m         \u001b[38;5;28mself\u001b[39m, \u001b[38;5;124m\"\u001b[39m\u001b[38;5;124mFailed to establish a new connection: \u001b[39m\u001b[38;5;132;01m%s\u001b[39;00m\u001b[38;5;124m\"\u001b[39m \u001b[38;5;241m%\u001b[39m e\n\u001b[1;32m    188\u001b[0m     )\n\u001b[1;32m    190\u001b[0m \u001b[38;5;28;01mreturn\u001b[39;00m conn\n",
      "\u001b[0;31mNewConnectionError\u001b[0m: <urllib3.connection.HTTPSConnection object at 0x7faa20d62eb0>: Failed to establish a new connection: [Errno -3] Temporary failure in name resolution",
      "\nDuring handling of the above exception, another exception occurred:\n",
      "\u001b[0;31mMaxRetryError\u001b[0m                             Traceback (most recent call last)",
      "File \u001b[0;32m~/miniconda3/lib/python3.9/site-packages/requests/adapters.py:440\u001b[0m, in \u001b[0;36mHTTPAdapter.send\u001b[0;34m(self, request, stream, timeout, verify, cert, proxies)\u001b[0m\n\u001b[1;32m    439\u001b[0m \u001b[38;5;28;01mif\u001b[39;00m \u001b[38;5;129;01mnot\u001b[39;00m chunked:\n\u001b[0;32m--> 440\u001b[0m     resp \u001b[38;5;241m=\u001b[39m \u001b[43mconn\u001b[49m\u001b[38;5;241;43m.\u001b[39;49m\u001b[43murlopen\u001b[49m\u001b[43m(\u001b[49m\n\u001b[1;32m    441\u001b[0m \u001b[43m        \u001b[49m\u001b[43mmethod\u001b[49m\u001b[38;5;241;43m=\u001b[39;49m\u001b[43mrequest\u001b[49m\u001b[38;5;241;43m.\u001b[39;49m\u001b[43mmethod\u001b[49m\u001b[43m,\u001b[49m\n\u001b[1;32m    442\u001b[0m \u001b[43m        \u001b[49m\u001b[43murl\u001b[49m\u001b[38;5;241;43m=\u001b[39;49m\u001b[43murl\u001b[49m\u001b[43m,\u001b[49m\n\u001b[1;32m    443\u001b[0m \u001b[43m        \u001b[49m\u001b[43mbody\u001b[49m\u001b[38;5;241;43m=\u001b[39;49m\u001b[43mrequest\u001b[49m\u001b[38;5;241;43m.\u001b[39;49m\u001b[43mbody\u001b[49m\u001b[43m,\u001b[49m\n\u001b[1;32m    444\u001b[0m \u001b[43m        \u001b[49m\u001b[43mheaders\u001b[49m\u001b[38;5;241;43m=\u001b[39;49m\u001b[43mrequest\u001b[49m\u001b[38;5;241;43m.\u001b[39;49m\u001b[43mheaders\u001b[49m\u001b[43m,\u001b[49m\n\u001b[1;32m    445\u001b[0m \u001b[43m        \u001b[49m\u001b[43mredirect\u001b[49m\u001b[38;5;241;43m=\u001b[39;49m\u001b[38;5;28;43;01mFalse\u001b[39;49;00m\u001b[43m,\u001b[49m\n\u001b[1;32m    446\u001b[0m \u001b[43m        \u001b[49m\u001b[43massert_same_host\u001b[49m\u001b[38;5;241;43m=\u001b[39;49m\u001b[38;5;28;43;01mFalse\u001b[39;49;00m\u001b[43m,\u001b[49m\n\u001b[1;32m    447\u001b[0m \u001b[43m        \u001b[49m\u001b[43mpreload_content\u001b[49m\u001b[38;5;241;43m=\u001b[39;49m\u001b[38;5;28;43;01mFalse\u001b[39;49;00m\u001b[43m,\u001b[49m\n\u001b[1;32m    448\u001b[0m \u001b[43m        \u001b[49m\u001b[43mdecode_content\u001b[49m\u001b[38;5;241;43m=\u001b[39;49m\u001b[38;5;28;43;01mFalse\u001b[39;49;00m\u001b[43m,\u001b[49m\n\u001b[1;32m    449\u001b[0m \u001b[43m        \u001b[49m\u001b[43mretries\u001b[49m\u001b[38;5;241;43m=\u001b[39;49m\u001b[38;5;28;43mself\u001b[39;49m\u001b[38;5;241;43m.\u001b[39;49m\u001b[43mmax_retries\u001b[49m\u001b[43m,\u001b[49m\n\u001b[1;32m    450\u001b[0m \u001b[43m        \u001b[49m\u001b[43mtimeout\u001b[49m\u001b[38;5;241;43m=\u001b[39;49m\u001b[43mtimeout\u001b[49m\n\u001b[1;32m    451\u001b[0m \u001b[43m    \u001b[49m\u001b[43m)\u001b[49m\n\u001b[1;32m    453\u001b[0m \u001b[38;5;66;03m# Send the request.\u001b[39;00m\n\u001b[1;32m    454\u001b[0m \u001b[38;5;28;01melse\u001b[39;00m:\n",
      "File \u001b[0;32m~/miniconda3/lib/python3.9/site-packages/urllib3/connectionpool.py:755\u001b[0m, in \u001b[0;36mHTTPConnectionPool.urlopen\u001b[0;34m(self, method, url, body, headers, retries, redirect, assert_same_host, timeout, pool_timeout, release_conn, chunked, body_pos, **response_kw)\u001b[0m\n\u001b[1;32m    753\u001b[0m     e \u001b[38;5;241m=\u001b[39m ProtocolError(\u001b[38;5;124m\"\u001b[39m\u001b[38;5;124mConnection aborted.\u001b[39m\u001b[38;5;124m\"\u001b[39m, e)\n\u001b[0;32m--> 755\u001b[0m retries \u001b[38;5;241m=\u001b[39m \u001b[43mretries\u001b[49m\u001b[38;5;241;43m.\u001b[39;49m\u001b[43mincrement\u001b[49m\u001b[43m(\u001b[49m\n\u001b[1;32m    756\u001b[0m \u001b[43m    \u001b[49m\u001b[43mmethod\u001b[49m\u001b[43m,\u001b[49m\u001b[43m \u001b[49m\u001b[43murl\u001b[49m\u001b[43m,\u001b[49m\u001b[43m \u001b[49m\u001b[43merror\u001b[49m\u001b[38;5;241;43m=\u001b[39;49m\u001b[43me\u001b[49m\u001b[43m,\u001b[49m\u001b[43m \u001b[49m\u001b[43m_pool\u001b[49m\u001b[38;5;241;43m=\u001b[39;49m\u001b[38;5;28;43mself\u001b[39;49m\u001b[43m,\u001b[49m\u001b[43m \u001b[49m\u001b[43m_stacktrace\u001b[49m\u001b[38;5;241;43m=\u001b[39;49m\u001b[43msys\u001b[49m\u001b[38;5;241;43m.\u001b[39;49m\u001b[43mexc_info\u001b[49m\u001b[43m(\u001b[49m\u001b[43m)\u001b[49m\u001b[43m[\u001b[49m\u001b[38;5;241;43m2\u001b[39;49m\u001b[43m]\u001b[49m\n\u001b[1;32m    757\u001b[0m \u001b[43m\u001b[49m\u001b[43m)\u001b[49m\n\u001b[1;32m    758\u001b[0m retries\u001b[38;5;241m.\u001b[39msleep()\n",
      "File \u001b[0;32m~/miniconda3/lib/python3.9/site-packages/urllib3/util/retry.py:574\u001b[0m, in \u001b[0;36mRetry.increment\u001b[0;34m(self, method, url, response, error, _pool, _stacktrace)\u001b[0m\n\u001b[1;32m    573\u001b[0m \u001b[38;5;28;01mif\u001b[39;00m new_retry\u001b[38;5;241m.\u001b[39mis_exhausted():\n\u001b[0;32m--> 574\u001b[0m     \u001b[38;5;28;01mraise\u001b[39;00m MaxRetryError(_pool, url, error \u001b[38;5;129;01mor\u001b[39;00m ResponseError(cause))\n\u001b[1;32m    576\u001b[0m log\u001b[38;5;241m.\u001b[39mdebug(\u001b[38;5;124m\"\u001b[39m\u001b[38;5;124mIncremented Retry for (url=\u001b[39m\u001b[38;5;124m'\u001b[39m\u001b[38;5;132;01m%s\u001b[39;00m\u001b[38;5;124m'\u001b[39m\u001b[38;5;124m): \u001b[39m\u001b[38;5;132;01m%r\u001b[39;00m\u001b[38;5;124m\"\u001b[39m, url, new_retry)\n",
      "\u001b[0;31mMaxRetryError\u001b[0m: HTTPSConnectionPool(host='eaton-lab.org', port=443): Max retries exceeded with url: /data/Cyathophora.tre (Caused by NewConnectionError('<urllib3.connection.HTTPSConnection object at 0x7faa20d62eb0>: Failed to establish a new connection: [Errno -3] Temporary failure in name resolution'))",
      "\nDuring handling of the above exception, another exception occurred:\n",
      "\u001b[0;31mConnectionError\u001b[0m                           Traceback (most recent call last)",
      "Input \u001b[0;32mIn [83]\u001b[0m, in \u001b[0;36m<cell line: 2>\u001b[0;34m()\u001b[0m\n\u001b[1;32m      1\u001b[0m \u001b[38;5;66;03m# load a toytree from a newick string (in this case, from a public URL)\u001b[39;00m\n\u001b[0;32m----> 2\u001b[0m tre \u001b[38;5;241m=\u001b[39m \u001b[43mtoytree\u001b[49m\u001b[38;5;241;43m.\u001b[39;49m\u001b[43mtree\u001b[49m\u001b[43m(\u001b[49m\u001b[38;5;124;43m\"\u001b[39;49m\u001b[38;5;124;43mhttps://eaton-lab.org/data/Cyathophora.tre\u001b[39;49m\u001b[38;5;124;43m\"\u001b[39;49m\u001b[43m)\u001b[49m\n",
      "File \u001b[0;32m~/Documents/toytree/toytree/io/src/treeio.py:66\u001b[0m, in \u001b[0;36mtree\u001b[0;34m(data)\u001b[0m\n\u001b[1;32m     64\u001b[0m \u001b[38;5;66;03m# load ToyTree from a newick or nexus from str, URL, or filepath\u001b[39;00m\n\u001b[1;32m     65\u001b[0m \u001b[38;5;28;01melif\u001b[39;00m \u001b[38;5;28misinstance\u001b[39m(data, (\u001b[38;5;28mstr\u001b[39m, Path)):\n\u001b[0;32m---> 66\u001b[0m     ttree \u001b[38;5;241m=\u001b[39m \u001b[43mTreeIOParser\u001b[49m\u001b[43m(\u001b[49m\u001b[43mdata\u001b[49m\u001b[43m)\u001b[49m\u001b[38;5;241m.\u001b[39mtrees[\u001b[38;5;241m0\u001b[39m]\n\u001b[1;32m     67\u001b[0m \u001b[38;5;66;03m# raise an error (to make an empty tree you must enter empty Node)\u001b[39;00m\n\u001b[1;32m     68\u001b[0m \u001b[38;5;28;01melse\u001b[39;00m:\n\u001b[1;32m     69\u001b[0m     \u001b[38;5;28;01mraise\u001b[39;00m ToytreeError(\u001b[38;5;124mf\u001b[39m\u001b[38;5;124m\"\u001b[39m\u001b[38;5;124mCannot parse input tree data: \u001b[39m\u001b[38;5;132;01m{\u001b[39;00mdata\u001b[38;5;132;01m}\u001b[39;00m\u001b[38;5;124m\"\u001b[39m)\n",
      "File \u001b[0;32m~/Documents/toytree/toytree/io/src/parser.py:66\u001b[0m, in \u001b[0;36mTreeIOParser.__init__\u001b[0;34m(self, data, multitree, **kwargs)\u001b[0m\n\u001b[1;32m     64\u001b[0m \u001b[38;5;28mself\u001b[39m\u001b[38;5;241m.\u001b[39mkwargs \u001b[38;5;241m=\u001b[39m kwargs\n\u001b[1;32m     65\u001b[0m \u001b[38;5;28mself\u001b[39m\u001b[38;5;241m.\u001b[39mtrees: List[Node] \u001b[38;5;241m=\u001b[39m []\n\u001b[0;32m---> 66\u001b[0m \u001b[38;5;28;43mself\u001b[39;49m\u001b[38;5;241;43m.\u001b[39;49m\u001b[43mrun\u001b[49m\u001b[43m(\u001b[49m\u001b[43m)\u001b[49m\n",
      "File \u001b[0;32m~/Documents/toytree/toytree/io/src/parser.py:148\u001b[0m, in \u001b[0;36mTreeIOParser.run\u001b[0;34m(self)\u001b[0m\n\u001b[1;32m    146\u001b[0m \u001b[38;5;28;01mdef\u001b[39;00m \u001b[38;5;21mrun\u001b[39m(\u001b[38;5;28mself\u001b[39m):\n\u001b[1;32m    147\u001b[0m     \u001b[38;5;124;03m\"\"\"Parse ToyTrees from newick strings.\"\"\"\u001b[39;00m\n\u001b[0;32m--> 148\u001b[0m     \u001b[38;5;28;01mfor\u001b[39;00m nwk, tdict \u001b[38;5;129;01min\u001b[39;00m \u001b[38;5;28mself\u001b[39m\u001b[38;5;241m.\u001b[39m_iter_strings_to_newicks():\n\u001b[1;32m    149\u001b[0m \n\u001b[1;32m    150\u001b[0m         \u001b[38;5;66;03m# check newick is valid\u001b[39;00m\n\u001b[1;32m    151\u001b[0m         \u001b[38;5;28;01massert\u001b[39;00m nwk\u001b[38;5;241m.\u001b[39mcount(\u001b[38;5;124m\"\u001b[39m\u001b[38;5;124m(\u001b[39m\u001b[38;5;124m\"\u001b[39m) \u001b[38;5;241m==\u001b[39m nwk\u001b[38;5;241m.\u001b[39mcount(\u001b[38;5;124m\"\u001b[39m\u001b[38;5;124m)\u001b[39m\u001b[38;5;124m\"\u001b[39m), (\n\u001b[1;32m    152\u001b[0m             \u001b[38;5;124m\"\u001b[39m\u001b[38;5;124mParentheses do not match. Broken tree data.\u001b[39m\u001b[38;5;124m\"\u001b[39m)\n\u001b[1;32m    154\u001b[0m         \u001b[38;5;66;03m# get ToyTree from newick string\u001b[39;00m\n",
      "File \u001b[0;32m~/Documents/toytree/toytree/io/src/parser.py:129\u001b[0m, in \u001b[0;36mTreeIOParser._iter_strings_to_newicks\u001b[0;34m(self)\u001b[0m\n\u001b[1;32m    126\u001b[0m \u001b[38;5;28;01mdef\u001b[39;00m \u001b[38;5;21m_iter_strings_to_newicks\u001b[39m(\u001b[38;5;28mself\u001b[39m) \u001b[38;5;241m-\u001b[39m\u001b[38;5;241m>\u001b[39m Iterator[Tuple[\u001b[38;5;28mstr\u001b[39m, Dict]]:\n\u001b[1;32m    127\u001b[0m     \u001b[38;5;124;03m\"\"\"Generator of (newick str, trans dict) for each tree in each input.\u001b[39;00m\n\u001b[1;32m    128\u001b[0m \u001b[38;5;124;03m    \"\"\"\u001b[39;00m\n\u001b[0;32m--> 129\u001b[0m     \u001b[38;5;28;01mfor\u001b[39;00m strdata \u001b[38;5;129;01min\u001b[39;00m \u001b[38;5;28mself\u001b[39m\u001b[38;5;241m.\u001b[39m_iter_data_inputs_as_strings():\n\u001b[1;32m    130\u001b[0m         strdata \u001b[38;5;241m=\u001b[39m strdata\u001b[38;5;241m.\u001b[39mstrip()\n\u001b[1;32m    132\u001b[0m         \u001b[38;5;66;03m# extract newick and translation dict from nexus\u001b[39;00m\n",
      "File \u001b[0;32m~/Documents/toytree/toytree/io/src/parser.py:110\u001b[0m, in \u001b[0;36mTreeIOParser._iter_data_inputs_as_strings\u001b[0;34m(self)\u001b[0m\n\u001b[1;32m    108\u001b[0m \u001b[38;5;66;03m# check for URI (hack: doesn't support ftp://, etc.)\u001b[39;00m\n\u001b[1;32m    109\u001b[0m \u001b[38;5;28;01melif\u001b[39;00m item\u001b[38;5;241m.\u001b[39mstartswith(\u001b[38;5;124m\"\u001b[39m\u001b[38;5;124mhttp\u001b[39m\u001b[38;5;124m\"\u001b[39m):\n\u001b[0;32m--> 110\u001b[0m     response \u001b[38;5;241m=\u001b[39m \u001b[43mrequests\u001b[49m\u001b[38;5;241;43m.\u001b[39;49m\u001b[43mget\u001b[49m\u001b[43m(\u001b[49m\u001b[43mitem\u001b[49m\u001b[43m)\u001b[49m\n\u001b[1;32m    111\u001b[0m     response\u001b[38;5;241m.\u001b[39mraise_for_status()\n\u001b[1;32m    112\u001b[0m     \u001b[38;5;28;01myield\u001b[39;00m response\u001b[38;5;241m.\u001b[39mtext\u001b[38;5;241m.\u001b[39mstrip()\n",
      "File \u001b[0;32m~/miniconda3/lib/python3.9/site-packages/requests/api.py:75\u001b[0m, in \u001b[0;36mget\u001b[0;34m(url, params, **kwargs)\u001b[0m\n\u001b[1;32m     64\u001b[0m \u001b[38;5;28;01mdef\u001b[39;00m \u001b[38;5;21mget\u001b[39m(url, params\u001b[38;5;241m=\u001b[39m\u001b[38;5;28;01mNone\u001b[39;00m, \u001b[38;5;241m*\u001b[39m\u001b[38;5;241m*\u001b[39mkwargs):\n\u001b[1;32m     65\u001b[0m     \u001b[38;5;124mr\u001b[39m\u001b[38;5;124;03m\"\"\"Sends a GET request.\u001b[39;00m\n\u001b[1;32m     66\u001b[0m \n\u001b[1;32m     67\u001b[0m \u001b[38;5;124;03m    :param url: URL for the new :class:`Request` object.\u001b[39;00m\n\u001b[0;32m   (...)\u001b[0m\n\u001b[1;32m     72\u001b[0m \u001b[38;5;124;03m    :rtype: requests.Response\u001b[39;00m\n\u001b[1;32m     73\u001b[0m \u001b[38;5;124;03m    \"\"\"\u001b[39;00m\n\u001b[0;32m---> 75\u001b[0m     \u001b[38;5;28;01mreturn\u001b[39;00m \u001b[43mrequest\u001b[49m\u001b[43m(\u001b[49m\u001b[38;5;124;43m'\u001b[39;49m\u001b[38;5;124;43mget\u001b[39;49m\u001b[38;5;124;43m'\u001b[39;49m\u001b[43m,\u001b[49m\u001b[43m \u001b[49m\u001b[43murl\u001b[49m\u001b[43m,\u001b[49m\u001b[43m \u001b[49m\u001b[43mparams\u001b[49m\u001b[38;5;241;43m=\u001b[39;49m\u001b[43mparams\u001b[49m\u001b[43m,\u001b[49m\u001b[43m \u001b[49m\u001b[38;5;241;43m*\u001b[39;49m\u001b[38;5;241;43m*\u001b[39;49m\u001b[43mkwargs\u001b[49m\u001b[43m)\u001b[49m\n",
      "File \u001b[0;32m~/miniconda3/lib/python3.9/site-packages/requests/api.py:61\u001b[0m, in \u001b[0;36mrequest\u001b[0;34m(method, url, **kwargs)\u001b[0m\n\u001b[1;32m     57\u001b[0m \u001b[38;5;66;03m# By using the 'with' statement we are sure the session is closed, thus we\u001b[39;00m\n\u001b[1;32m     58\u001b[0m \u001b[38;5;66;03m# avoid leaving sockets open which can trigger a ResourceWarning in some\u001b[39;00m\n\u001b[1;32m     59\u001b[0m \u001b[38;5;66;03m# cases, and look like a memory leak in others.\u001b[39;00m\n\u001b[1;32m     60\u001b[0m \u001b[38;5;28;01mwith\u001b[39;00m sessions\u001b[38;5;241m.\u001b[39mSession() \u001b[38;5;28;01mas\u001b[39;00m session:\n\u001b[0;32m---> 61\u001b[0m     \u001b[38;5;28;01mreturn\u001b[39;00m \u001b[43msession\u001b[49m\u001b[38;5;241;43m.\u001b[39;49m\u001b[43mrequest\u001b[49m\u001b[43m(\u001b[49m\u001b[43mmethod\u001b[49m\u001b[38;5;241;43m=\u001b[39;49m\u001b[43mmethod\u001b[49m\u001b[43m,\u001b[49m\u001b[43m \u001b[49m\u001b[43murl\u001b[49m\u001b[38;5;241;43m=\u001b[39;49m\u001b[43murl\u001b[49m\u001b[43m,\u001b[49m\u001b[43m \u001b[49m\u001b[38;5;241;43m*\u001b[39;49m\u001b[38;5;241;43m*\u001b[39;49m\u001b[43mkwargs\u001b[49m\u001b[43m)\u001b[49m\n",
      "File \u001b[0;32m~/miniconda3/lib/python3.9/site-packages/requests/sessions.py:529\u001b[0m, in \u001b[0;36mSession.request\u001b[0;34m(self, method, url, params, data, headers, cookies, files, auth, timeout, allow_redirects, proxies, hooks, stream, verify, cert, json)\u001b[0m\n\u001b[1;32m    524\u001b[0m send_kwargs \u001b[38;5;241m=\u001b[39m {\n\u001b[1;32m    525\u001b[0m     \u001b[38;5;124m'\u001b[39m\u001b[38;5;124mtimeout\u001b[39m\u001b[38;5;124m'\u001b[39m: timeout,\n\u001b[1;32m    526\u001b[0m     \u001b[38;5;124m'\u001b[39m\u001b[38;5;124mallow_redirects\u001b[39m\u001b[38;5;124m'\u001b[39m: allow_redirects,\n\u001b[1;32m    527\u001b[0m }\n\u001b[1;32m    528\u001b[0m send_kwargs\u001b[38;5;241m.\u001b[39mupdate(settings)\n\u001b[0;32m--> 529\u001b[0m resp \u001b[38;5;241m=\u001b[39m \u001b[38;5;28;43mself\u001b[39;49m\u001b[38;5;241;43m.\u001b[39;49m\u001b[43msend\u001b[49m\u001b[43m(\u001b[49m\u001b[43mprep\u001b[49m\u001b[43m,\u001b[49m\u001b[43m \u001b[49m\u001b[38;5;241;43m*\u001b[39;49m\u001b[38;5;241;43m*\u001b[39;49m\u001b[43msend_kwargs\u001b[49m\u001b[43m)\u001b[49m\n\u001b[1;32m    531\u001b[0m \u001b[38;5;28;01mreturn\u001b[39;00m resp\n",
      "File \u001b[0;32m~/miniconda3/lib/python3.9/site-packages/requests/sessions.py:645\u001b[0m, in \u001b[0;36mSession.send\u001b[0;34m(self, request, **kwargs)\u001b[0m\n\u001b[1;32m    642\u001b[0m start \u001b[38;5;241m=\u001b[39m preferred_clock()\n\u001b[1;32m    644\u001b[0m \u001b[38;5;66;03m# Send the request\u001b[39;00m\n\u001b[0;32m--> 645\u001b[0m r \u001b[38;5;241m=\u001b[39m \u001b[43madapter\u001b[49m\u001b[38;5;241;43m.\u001b[39;49m\u001b[43msend\u001b[49m\u001b[43m(\u001b[49m\u001b[43mrequest\u001b[49m\u001b[43m,\u001b[49m\u001b[43m \u001b[49m\u001b[38;5;241;43m*\u001b[39;49m\u001b[38;5;241;43m*\u001b[39;49m\u001b[43mkwargs\u001b[49m\u001b[43m)\u001b[49m\n\u001b[1;32m    647\u001b[0m \u001b[38;5;66;03m# Total elapsed time of the request (approximately)\u001b[39;00m\n\u001b[1;32m    648\u001b[0m elapsed \u001b[38;5;241m=\u001b[39m preferred_clock() \u001b[38;5;241m-\u001b[39m start\n",
      "File \u001b[0;32m~/miniconda3/lib/python3.9/site-packages/requests/adapters.py:519\u001b[0m, in \u001b[0;36mHTTPAdapter.send\u001b[0;34m(self, request, stream, timeout, verify, cert, proxies)\u001b[0m\n\u001b[1;32m    515\u001b[0m     \u001b[38;5;28;01mif\u001b[39;00m \u001b[38;5;28misinstance\u001b[39m(e\u001b[38;5;241m.\u001b[39mreason, _SSLError):\n\u001b[1;32m    516\u001b[0m         \u001b[38;5;66;03m# This branch is for urllib3 v1.22 and later.\u001b[39;00m\n\u001b[1;32m    517\u001b[0m         \u001b[38;5;28;01mraise\u001b[39;00m SSLError(e, request\u001b[38;5;241m=\u001b[39mrequest)\n\u001b[0;32m--> 519\u001b[0m     \u001b[38;5;28;01mraise\u001b[39;00m \u001b[38;5;167;01mConnectionError\u001b[39;00m(e, request\u001b[38;5;241m=\u001b[39mrequest)\n\u001b[1;32m    521\u001b[0m \u001b[38;5;28;01mexcept\u001b[39;00m ClosedPoolError \u001b[38;5;28;01mas\u001b[39;00m e:\n\u001b[1;32m    522\u001b[0m     \u001b[38;5;28;01mraise\u001b[39;00m \u001b[38;5;167;01mConnectionError\u001b[39;00m(e, request\u001b[38;5;241m=\u001b[39mrequest)\n",
      "\u001b[0;31mConnectionError\u001b[0m: HTTPSConnectionPool(host='eaton-lab.org', port=443): Max retries exceeded with url: /data/Cyathophora.tre (Caused by NewConnectionError('<urllib3.connection.HTTPSConnection object at 0x7faa20d62eb0>: Failed to establish a new connection: [Errno -3] Temporary failure in name resolution'))"
     ]
    }
   ],
   "source": [
    "# load a toytree from a newick string (in this case, from a public URL)\n",
    "tre = toytree.tree(\"https://eaton-lab.org/data/Cyathophora.tre\")"
   ]
  },
  {
   "cell_type": "code",
   "execution_count": null,
   "metadata": {},
   "outputs": [],
   "source": [
    "# root the tree on the clade containing two samples with 'prz' in their name.\n",
    "rtre = tre.root(\"prz\", regex=True)\n",
    "\n",
    "# draw the rooted tree (more details on this coming up...)\n",
    "rtre.draw(tip_labels_align=True);"
   ]
  },
  {
   "cell_type": "markdown",
   "metadata": {},
   "source": [
    "### Accessing tree data\n",
    "A ton of information about a tree can be extracted from a ToyTree object. To explore some of these options interactively, you can use tab-completion by typing the name of the tree variable (e.g., `rtre` below) followed by a dot and then pressing `<tab>`. This should generate a pop-up that will show many attributes and functions. \n",
    "\n",
    "Below I demonstrate just a few examples. One of these, `.get_node_data()` returns data assigned to each Node of the tree. Later we will see how to modify or set additional data to Nodes of a tree such that it can be used to easily store and access data. "
   ]
  },
  {
   "cell_type": "code",
   "execution_count": null,
   "metadata": {},
   "outputs": [],
   "source": [
    "# each of these attributes returns an int\n",
    "rtre.ntips, rtre.nnodes"
   ]
  },
  {
   "cell_type": "code",
   "execution_count": 84,
   "metadata": {
    "scrolled": true
   },
   "outputs": [
    {
     "data": {
      "text/plain": [
       "(True, True)"
      ]
     },
     "execution_count": 84,
     "metadata": {},
     "output_type": "execute_result"
    }
   ],
   "source": [
    "# each of these functions returns a boolean\n",
    "tre.is_rooted(), rtre.is_rooted()"
   ]
  },
  {
   "cell_type": "code",
   "execution_count": 85,
   "metadata": {},
   "outputs": [
    {
     "data": {
      "text/plain": [
       "['32082_przewalskii',\n",
       " '33588_przewalskii',\n",
       " '33413_thamno',\n",
       " '30556_thamno',\n",
       " '40578_rex',\n",
       " '35855_rex',\n",
       " '35236_rex',\n",
       " '39618_rex',\n",
       " '38362_rex',\n",
       " '29154_superba',\n",
       " '30686_cyathophylla',\n",
       " '41954_cyathophylloides',\n",
       " '41478_cyathophylloides']"
      ]
     },
     "execution_count": 85,
     "metadata": {},
     "output_type": "execute_result"
    }
   ],
   "source": [
    "# get names associated with tip Nodes in the tree\n",
    "rtre.get_tip_labels()"
   ]
  },
  {
   "cell_type": "code",
   "execution_count": 86,
   "metadata": {
    "scrolled": false
   },
   "outputs": [
    {
     "data": {
      "text/html": [
       "<div>\n",
       "<style scoped>\n",
       "    .dataframe tbody tr th:only-of-type {\n",
       "        vertical-align: middle;\n",
       "    }\n",
       "\n",
       "    .dataframe tbody tr th {\n",
       "        vertical-align: top;\n",
       "    }\n",
       "\n",
       "    .dataframe thead th {\n",
       "        text-align: right;\n",
       "    }\n",
       "</style>\n",
       "<table border=\"1\" class=\"dataframe\">\n",
       "  <thead>\n",
       "    <tr style=\"text-align: right;\">\n",
       "      <th></th>\n",
       "      <th>0</th>\n",
       "      <th>1</th>\n",
       "    </tr>\n",
       "  </thead>\n",
       "  <tbody>\n",
       "    <tr>\n",
       "      <th>13</th>\n",
       "      <td>(32082_przewalskii, 33588_przewalskii)</td>\n",
       "      <td>(29154_superba, 30556_thamno, 30686_cyathophyl...</td>\n",
       "    </tr>\n",
       "    <tr>\n",
       "      <th>14</th>\n",
       "      <td>(35855_rex, 40578_rex)</td>\n",
       "      <td>(29154_superba, 30556_thamno, 30686_cyathophyl...</td>\n",
       "    </tr>\n",
       "    <tr>\n",
       "      <th>15</th>\n",
       "      <td>(38362_rex, 39618_rex)</td>\n",
       "      <td>(29154_superba, 30556_thamno, 30686_cyathophyl...</td>\n",
       "    </tr>\n",
       "    <tr>\n",
       "      <th>16</th>\n",
       "      <td>(35236_rex, 38362_rex, 39618_rex)</td>\n",
       "      <td>(29154_superba, 30556_thamno, 30686_cyathophyl...</td>\n",
       "    </tr>\n",
       "    <tr>\n",
       "      <th>17</th>\n",
       "      <td>(35236_rex, 35855_rex, 38362_rex, 39618_rex, 4...</td>\n",
       "      <td>(29154_superba, 30556_thamno, 30686_cyathophyl...</td>\n",
       "    </tr>\n",
       "    <tr>\n",
       "      <th>18</th>\n",
       "      <td>(30556_thamno, 35236_rex, 35855_rex, 38362_rex...</td>\n",
       "      <td>(29154_superba, 30686_cyathophylla, 32082_prze...</td>\n",
       "    </tr>\n",
       "    <tr>\n",
       "      <th>19</th>\n",
       "      <td>(29154_superba, 30686_cyathophylla, 32082_prze...</td>\n",
       "      <td>(30556_thamno, 33413_thamno, 35236_rex, 35855_...</td>\n",
       "    </tr>\n",
       "    <tr>\n",
       "      <th>20</th>\n",
       "      <td>(29154_superba, 30686_cyathophylla)</td>\n",
       "      <td>(30556_thamno, 32082_przewalskii, 33413_thamno...</td>\n",
       "    </tr>\n",
       "    <tr>\n",
       "      <th>21</th>\n",
       "      <td>(41478_cyathophylloides, 41954_cyathophylloides)</td>\n",
       "      <td>(29154_superba, 30556_thamno, 30686_cyathophyl...</td>\n",
       "    </tr>\n",
       "    <tr>\n",
       "      <th>22</th>\n",
       "      <td>(29154_superba, 30686_cyathophylla, 41478_cyat...</td>\n",
       "      <td>(30556_thamno, 32082_przewalskii, 33413_thamno...</td>\n",
       "    </tr>\n",
       "  </tbody>\n",
       "</table>\n",
       "</div>"
      ],
      "text/plain": [
       "                                                    0  \\\n",
       "13             (32082_przewalskii, 33588_przewalskii)   \n",
       "14                             (35855_rex, 40578_rex)   \n",
       "15                             (38362_rex, 39618_rex)   \n",
       "16                  (35236_rex, 38362_rex, 39618_rex)   \n",
       "17  (35236_rex, 35855_rex, 38362_rex, 39618_rex, 4...   \n",
       "18  (30556_thamno, 35236_rex, 35855_rex, 38362_rex...   \n",
       "19  (29154_superba, 30686_cyathophylla, 32082_prze...   \n",
       "20                (29154_superba, 30686_cyathophylla)   \n",
       "21   (41478_cyathophylloides, 41954_cyathophylloides)   \n",
       "22  (29154_superba, 30686_cyathophylla, 41478_cyat...   \n",
       "\n",
       "                                                    1  \n",
       "13  (29154_superba, 30556_thamno, 30686_cyathophyl...  \n",
       "14  (29154_superba, 30556_thamno, 30686_cyathophyl...  \n",
       "15  (29154_superba, 30556_thamno, 30686_cyathophyl...  \n",
       "16  (29154_superba, 30556_thamno, 30686_cyathophyl...  \n",
       "17  (29154_superba, 30556_thamno, 30686_cyathophyl...  \n",
       "18  (29154_superba, 30686_cyathophylla, 32082_prze...  \n",
       "19  (30556_thamno, 33413_thamno, 35236_rex, 35855_...  \n",
       "20  (30556_thamno, 32082_przewalskii, 33413_thamno...  \n",
       "21  (29154_superba, 30556_thamno, 30686_cyathophyl...  \n",
       "22  (30556_thamno, 32082_przewalskii, 33413_thamno...  "
      ]
     },
     "execution_count": 86,
     "metadata": {},
     "output_type": "execute_result"
    }
   ],
   "source": [
    "# get names on either side of each split in the tree. Also available as a generator.\n",
    "rtre.get_bipartitions()"
   ]
  },
  {
   "cell_type": "code",
   "execution_count": 87,
   "metadata": {},
   "outputs": [
    {
     "data": {
      "text/html": [
       "<div>\n",
       "<style scoped>\n",
       "    .dataframe tbody tr th:only-of-type {\n",
       "        vertical-align: middle;\n",
       "    }\n",
       "\n",
       "    .dataframe tbody tr th {\n",
       "        vertical-align: top;\n",
       "    }\n",
       "\n",
       "    .dataframe thead th {\n",
       "        text-align: right;\n",
       "    }\n",
       "</style>\n",
       "<table border=\"1\" class=\"dataframe\">\n",
       "  <thead>\n",
       "    <tr style=\"text-align: right;\">\n",
       "      <th></th>\n",
       "      <th>idx</th>\n",
       "      <th>name</th>\n",
       "      <th>height</th>\n",
       "      <th>dist</th>\n",
       "      <th>support</th>\n",
       "    </tr>\n",
       "  </thead>\n",
       "  <tbody>\n",
       "    <tr>\n",
       "      <th>0</th>\n",
       "      <td>0</td>\n",
       "      <td>32082_przewalskii</td>\n",
       "      <td>0.012617</td>\n",
       "      <td>0.002593</td>\n",
       "      <td>NaN</td>\n",
       "    </tr>\n",
       "    <tr>\n",
       "      <th>1</th>\n",
       "      <td>1</td>\n",
       "      <td>33588_przewalskii</td>\n",
       "      <td>0.012739</td>\n",
       "      <td>0.002471</td>\n",
       "      <td>NaN</td>\n",
       "    </tr>\n",
       "    <tr>\n",
       "      <th>2</th>\n",
       "      <td>2</td>\n",
       "      <td>33413_thamno</td>\n",
       "      <td>0.004170</td>\n",
       "      <td>0.005654</td>\n",
       "      <td>NaN</td>\n",
       "    </tr>\n",
       "    <tr>\n",
       "      <th>3</th>\n",
       "      <td>3</td>\n",
       "      <td>30556_thamno</td>\n",
       "      <td>0.002258</td>\n",
       "      <td>0.006532</td>\n",
       "      <td>NaN</td>\n",
       "    </tr>\n",
       "    <tr>\n",
       "      <th>4</th>\n",
       "      <td>4</td>\n",
       "      <td>40578_rex</td>\n",
       "      <td>0.002422</td>\n",
       "      <td>0.003354</td>\n",
       "      <td>NaN</td>\n",
       "    </tr>\n",
       "    <tr>\n",
       "      <th>5</th>\n",
       "      <td>5</td>\n",
       "      <td>35855_rex</td>\n",
       "      <td>0.002377</td>\n",
       "      <td>0.003400</td>\n",
       "      <td>NaN</td>\n",
       "    </tr>\n",
       "    <tr>\n",
       "      <th>6</th>\n",
       "      <td>6</td>\n",
       "      <td>35236_rex</td>\n",
       "      <td>0.001462</td>\n",
       "      <td>0.005805</td>\n",
       "      <td>NaN</td>\n",
       "    </tr>\n",
       "    <tr>\n",
       "      <th>7</th>\n",
       "      <td>7</td>\n",
       "      <td>39618_rex</td>\n",
       "      <td>0.000130</td>\n",
       "      <td>0.000962</td>\n",
       "      <td>NaN</td>\n",
       "    </tr>\n",
       "    <tr>\n",
       "      <th>8</th>\n",
       "      <td>8</td>\n",
       "      <td>38362_rex</td>\n",
       "      <td>0.000000</td>\n",
       "      <td>0.001092</td>\n",
       "      <td>NaN</td>\n",
       "    </tr>\n",
       "    <tr>\n",
       "      <th>9</th>\n",
       "      <td>9</td>\n",
       "      <td>29154_superba</td>\n",
       "      <td>0.003512</td>\n",
       "      <td>0.006342</td>\n",
       "      <td>NaN</td>\n",
       "    </tr>\n",
       "    <tr>\n",
       "      <th>10</th>\n",
       "      <td>10</td>\n",
       "      <td>30686_cyathophylla</td>\n",
       "      <td>0.003155</td>\n",
       "      <td>0.006699</td>\n",
       "      <td>NaN</td>\n",
       "    </tr>\n",
       "    <tr>\n",
       "      <th>11</th>\n",
       "      <td>11</td>\n",
       "      <td>41954_cyathophylloides</td>\n",
       "      <td>0.002735</td>\n",
       "      <td>0.000089</td>\n",
       "      <td>NaN</td>\n",
       "    </tr>\n",
       "    <tr>\n",
       "      <th>12</th>\n",
       "      <td>12</td>\n",
       "      <td>41478_cyathophylloides</td>\n",
       "      <td>0.002771</td>\n",
       "      <td>0.000053</td>\n",
       "      <td>NaN</td>\n",
       "    </tr>\n",
       "    <tr>\n",
       "      <th>13</th>\n",
       "      <td>13</td>\n",
       "      <td></td>\n",
       "      <td>0.015211</td>\n",
       "      <td>0.017937</td>\n",
       "      <td>100.0</td>\n",
       "    </tr>\n",
       "    <tr>\n",
       "      <th>14</th>\n",
       "      <td>14</td>\n",
       "      <td></td>\n",
       "      <td>0.005776</td>\n",
       "      <td>0.002230</td>\n",
       "      <td>100.0</td>\n",
       "    </tr>\n",
       "    <tr>\n",
       "      <th>15</th>\n",
       "      <td>15</td>\n",
       "      <td></td>\n",
       "      <td>0.001092</td>\n",
       "      <td>0.006175</td>\n",
       "      <td>100.0</td>\n",
       "    </tr>\n",
       "    <tr>\n",
       "      <th>16</th>\n",
       "      <td>16</td>\n",
       "      <td></td>\n",
       "      <td>0.007267</td>\n",
       "      <td>0.000739</td>\n",
       "      <td>96.0</td>\n",
       "    </tr>\n",
       "    <tr>\n",
       "      <th>17</th>\n",
       "      <td>17</td>\n",
       "      <td></td>\n",
       "      <td>0.008006</td>\n",
       "      <td>0.000783</td>\n",
       "      <td>99.0</td>\n",
       "    </tr>\n",
       "    <tr>\n",
       "      <th>18</th>\n",
       "      <td>18</td>\n",
       "      <td></td>\n",
       "      <td>0.008790</td>\n",
       "      <td>0.001034</td>\n",
       "      <td>100.0</td>\n",
       "    </tr>\n",
       "    <tr>\n",
       "      <th>19</th>\n",
       "      <td>19</td>\n",
       "      <td></td>\n",
       "      <td>0.009824</td>\n",
       "      <td>0.005387</td>\n",
       "      <td>100.0</td>\n",
       "    </tr>\n",
       "    <tr>\n",
       "      <th>20</th>\n",
       "      <td>20</td>\n",
       "      <td></td>\n",
       "      <td>0.009855</td>\n",
       "      <td>0.002380</td>\n",
       "      <td>100.0</td>\n",
       "    </tr>\n",
       "    <tr>\n",
       "      <th>21</th>\n",
       "      <td>21</td>\n",
       "      <td></td>\n",
       "      <td>0.002824</td>\n",
       "      <td>0.009410</td>\n",
       "      <td>100.0</td>\n",
       "    </tr>\n",
       "    <tr>\n",
       "      <th>22</th>\n",
       "      <td>22</td>\n",
       "      <td></td>\n",
       "      <td>0.012234</td>\n",
       "      <td>0.002976</td>\n",
       "      <td>100.0</td>\n",
       "    </tr>\n",
       "    <tr>\n",
       "      <th>23</th>\n",
       "      <td>23</td>\n",
       "      <td></td>\n",
       "      <td>0.015211</td>\n",
       "      <td>0.017937</td>\n",
       "      <td>100.0</td>\n",
       "    </tr>\n",
       "    <tr>\n",
       "      <th>24</th>\n",
       "      <td>24</td>\n",
       "      <td>root</td>\n",
       "      <td>0.033148</td>\n",
       "      <td>0.000000</td>\n",
       "      <td>NaN</td>\n",
       "    </tr>\n",
       "  </tbody>\n",
       "</table>\n",
       "</div>"
      ],
      "text/plain": [
       "    idx                    name    height      dist  support\n",
       "0     0       32082_przewalskii  0.012617  0.002593      NaN\n",
       "1     1       33588_przewalskii  0.012739  0.002471      NaN\n",
       "2     2            33413_thamno  0.004170  0.005654      NaN\n",
       "3     3            30556_thamno  0.002258  0.006532      NaN\n",
       "4     4               40578_rex  0.002422  0.003354      NaN\n",
       "5     5               35855_rex  0.002377  0.003400      NaN\n",
       "6     6               35236_rex  0.001462  0.005805      NaN\n",
       "7     7               39618_rex  0.000130  0.000962      NaN\n",
       "8     8               38362_rex  0.000000  0.001092      NaN\n",
       "9     9           29154_superba  0.003512  0.006342      NaN\n",
       "10   10      30686_cyathophylla  0.003155  0.006699      NaN\n",
       "11   11  41954_cyathophylloides  0.002735  0.000089      NaN\n",
       "12   12  41478_cyathophylloides  0.002771  0.000053      NaN\n",
       "13   13                          0.015211  0.017937    100.0\n",
       "14   14                          0.005776  0.002230    100.0\n",
       "15   15                          0.001092  0.006175    100.0\n",
       "16   16                          0.007267  0.000739     96.0\n",
       "17   17                          0.008006  0.000783     99.0\n",
       "18   18                          0.008790  0.001034    100.0\n",
       "19   19                          0.009824  0.005387    100.0\n",
       "20   20                          0.009855  0.002380    100.0\n",
       "21   21                          0.002824  0.009410    100.0\n",
       "22   22                          0.012234  0.002976    100.0\n",
       "23   23                          0.015211  0.017937    100.0\n",
       "24   24                    root  0.033148  0.000000      NaN"
      ]
     },
     "execution_count": 87,
     "metadata": {},
     "output_type": "execute_result"
    }
   ],
   "source": [
    "# returns a table by extracting data from Nodes\n",
    "rtre.get_node_data()"
   ]
  },
  {
   "cell_type": "markdown",
   "metadata": {},
   "source": [
    "### Tree and Node Classes\n",
    "\n",
    "Tree data is stored in `toytree` in a hierarchy of class objects. The lowest level object is a `toytree.Node`, which represents the information for a single Node in a tree. This object is used to store data, and to point to other Node objects. A set of connected Nodes creates a tree of relationships.\n",
    "\n",
    "A set of connected Nodes can be grouped into a `toytree.ToyTree` object. This is the core class object of the `toytree` library. It caches information about the tree, allowing for fast traversal and lookup of information from one or more Nodes. The ToyTree object is where you will find functions for plotting, manipulating, and calculating statistics on trees. \n",
    "\n",
    "Finally, multiple ToyTrees can be grouped together into a `toytree.MultiTree` object. This provides useful functions for drawing groups of trees, comparing trees, and calculating statistics or other results on sets of trees, such as a consensus tree. "
   ]
  },
  {
   "cell_type": "code",
   "execution_count": 88,
   "metadata": {},
   "outputs": [
    {
     "data": {
      "text/plain": [
       "[Node(idx=0, name='r0')]"
      ]
     },
     "execution_count": 88,
     "metadata": {},
     "output_type": "execute_result"
    }
   ],
   "source": [
    "# each toytree.Node object can be accessed from a ToyTree\n",
    "tre.get_nodes(0)"
   ]
  },
  {
   "cell_type": "code",
   "execution_count": 89,
   "metadata": {},
   "outputs": [
    {
     "data": {
      "text/plain": [
       "<toytree.ToyTree at 0x7faa24a7a2e0>"
      ]
     },
     "execution_count": 89,
     "metadata": {},
     "output_type": "execute_result"
    }
   ],
   "source": [
    "# a ToyTree object\n",
    "tre"
   ]
  },
  {
   "cell_type": "code",
   "execution_count": 90,
   "metadata": {},
   "outputs": [
    {
     "data": {
      "text/plain": [
       "<toytree.MultiTree ntrees=3>"
      ]
     },
     "execution_count": 90,
     "metadata": {},
     "output_type": "execute_result"
    }
   ],
   "source": [
    "# a MultiTree object (more on this later)\n",
    "toytree.mtree([tre, tre, tre])"
   ]
  },
  {
   "cell_type": "markdown",
   "metadata": {},
   "source": [
    "### Drawing trees: basics\n",
    "\n",
    "When you call `.draw()` on a ToyTree it returns **three** objects, a `Canvas`, a `Cartesian` axes object, and a `Mark`. This follows the design principle of the [toyplot](https://toyplot.rtfd.io) plotting library on which toytree is based. The Canvas describes the plot space, and the Cartesian coordinates define how to project points onto one or more subplots in that space. One canvas can have multiple cartesian coordinates, and each cartesian object can have multiple Marks. This will be demonstrated more later. Toyplot is a very intuitive and simple library. Becoming familiar with it can greatly extend your ability to create plots with toytree.\n",
    "\n",
    "As you will see below, I end many toytree drawing commands in a notebook with a semicolon (;), this simply hides the return statement showing that the Canvas, Cartesian, and Mark objects were returned. This is a common practice. The Canvas will automatically render in the cell below the plot even if you do not save the returned Canvas as a variable (this can be turned off). Below are several examples showing how to show/hide the returned values, and or save the returned plots to a variable and file."
   ]
  },
  {
   "cell_type": "code",
   "execution_count": 91,
   "metadata": {},
   "outputs": [
    {
     "data": {
      "text/plain": [
       "(<toyplot.canvas.Canvas at 0x7faa20d62070>,\n",
       " <toyplot.coordinates.Cartesian at 0x7faa1fe3df70>,\n",
       " <toytree.core.drawing.toytree_mark.ToytreeMark at 0x7faa1fe40940>)"
      ]
     },
     "execution_count": 91,
     "metadata": {},
     "output_type": "execute_result"
    },
    {
     "data": {
      "text/html": [
       "<div class=\"toyplot\" id=\"t720a971354774959a0e5d7a6aef70833\" style=\"text-align:center\"><svg class=\"toyplot-canvas-Canvas\" xmlns:toyplot=\"http://www.sandia.gov/toyplot\" xmlns:xlink=\"http://www.w3.org/1999/xlink\" xmlns=\"http://www.w3.org/2000/svg\" width=\"360.0px\" height=\"275.0px\" viewBox=\"0 0 360.0 275.0\" preserveAspectRatio=\"xMidYMid meet\" style=\"background-color:transparent;border-color:#292724;border-style:none;border-width:1.0;fill:rgb(16.1%,15.3%,14.1%);fill-opacity:1.0;font-family:Helvetica;font-size:12px;opacity:1.0;stroke:rgb(16.1%,15.3%,14.1%);stroke-opacity:1.0;stroke-width:1.0\" id=\"t186364457d6f454ea9d816d51073fe98\"><g class=\"toyplot-coordinates-Cartesian\" id=\"t30f969d8842246309ae20fb5e51d872f\"><clipPath id=\"t227ab3ac7067405ca3424b1c1c806f5c\"><rect x=\"35.0\" y=\"35.0\" width=\"290.0\" height=\"205.0\"></rect></clipPath><g clip-path=\"url(#t227ab3ac7067405ca3424b1c1c806f5c)\"><g class=\"toytree-mark-Toytree\" id=\"ta9afdb38c2644ccf92f0cbc2753e6dab\"><g class=\"toytree-Edges\" style=\"fill:none;stroke:rgba(16.1%,15.3%,14.1%,1.000);stroke-linecap:round;stroke-width:2.0\"><path d=\"M 122.5 212.1 L 122.5 218.9 L 133.0 218.9\" id=\"13,0\" style=\"stroke-width:nan\"></path><path d=\"M 122.5 212.1 L 122.5 205.3 L 132.5 205.3\" id=\"13,1\" style=\"stroke-width:nan\"></path><path d=\"M 144.3 176.1 L 144.3 191.7 L 167.1 191.7\" id=\"19,2\" style=\"stroke-width:nan\"></path><path d=\"M 148.5 160.4 L 148.5 178.2 L 174.9 178.2\" id=\"18,3\" style=\"stroke-width:nan\"></path><path d=\"M 160.6 157.8 L 160.6 164.6 L 174.2 164.6\" id=\"14,4\" style=\"stroke-width:nan\"></path><path d=\"M 160.6 157.8 L 160.6 151.1 L 174.4 151.1\" id=\"14,5\" style=\"stroke-width:nan\"></path><path d=\"M 154.6 127.3 L 154.6 137.5 L 178.1 137.5\" id=\"16,6\" style=\"stroke-width:nan\"></path><path d=\"M 179.6 117.2 L 179.6 123.9 L 183.5 123.9\" id=\"15,7\" style=\"stroke-width:nan\"></path><path d=\"M 179.6 117.2 L 179.6 110.4 L 184.0 110.4\" id=\"15,8\" style=\"stroke-width:nan\"></path><path d=\"M 144.1 90.0 L 144.1 96.8 L 169.8 96.8\" id=\"20,9\" style=\"stroke-width:nan\"></path><path d=\"M 144.1 90.0 L 144.1 83.3 L 171.2 83.3\" id=\"20,10\" style=\"stroke-width:nan\"></path><path d=\"M 172.6 62.9 L 172.6 69.7 L 172.9 69.7\" id=\"21,11\" style=\"stroke-width:nan\"></path><path d=\"M 172.6 62.9 L 172.6 56.1 L 172.8 56.1\" id=\"21,12\" style=\"stroke-width:nan\"></path><path d=\"M 50.0 169.2 L 50.0 212.1 L 122.5 212.1\" id=\"24,13\" style=\"stroke-width:nan\"></path><path d=\"M 151.6 142.6 L 151.6 157.8 L 160.6 157.8\" id=\"17,14\" style=\"stroke-width:nan\"></path><path d=\"M 154.6 127.3 L 154.6 117.2 L 179.6 117.2\" id=\"16,15\" style=\"stroke-width:nan\"></path><path d=\"M 151.6 142.6 L 151.6 127.3 L 154.6 127.3\" id=\"17,16\" style=\"stroke-width:nan\"></path><path d=\"M 148.5 160.4 L 148.5 142.6 L 151.6 142.6\" id=\"18,17\" style=\"stroke-width:nan\"></path><path d=\"M 144.3 176.1 L 144.3 160.4 L 148.5 160.4\" id=\"19,18\" style=\"stroke-width:nan\"></path><path d=\"M 122.5 126.3 L 122.5 176.1 L 144.3 176.1\" id=\"23,19\" style=\"stroke-width:nan\"></path><path d=\"M 134.5 76.5 L 134.5 90.0 L 144.1 90.0\" id=\"22,20\" style=\"stroke-width:nan\"></path><path d=\"M 134.5 76.5 L 134.5 62.9 L 172.6 62.9\" id=\"22,21\" style=\"stroke-width:nan\"></path><path d=\"M 122.5 126.3 L 122.5 76.5 L 134.5 76.5\" id=\"23,22\" style=\"stroke-width:nan\"></path><path d=\"M 50.0 169.2 L 50.0 126.3 L 122.5 126.3\" id=\"24,23\" style=\"stroke-width:nan\"></path></g><g class=\"toytree-TipLabels\" style=\"fill:rgb(16.1%,15.3%,14.1%);fill-opacity:1.0;font-family:Helvetica;font-size:11.0px;font-weight:300;stroke:none;vertical-align:baseline;white-space:pre\"><g class=\"toytree-TipLabel\" transform=\"translate(132.9802642596811,218.86291179596174)\"><text x=\"15.0\" y=\"2.8104999999999993\" style=\"\">32082_przewalskii</text></g><g class=\"toytree-TipLabel\" transform=\"translate(132.4874691209184,205.30242649663478)\"><text x=\"15.0\" y=\"2.8104999999999993\" style=\"\">33588_przewalskii</text></g><g class=\"toytree-TipLabel\" transform=\"translate(167.1238147474754,191.74194119730782)\"><text x=\"15.0\" y=\"2.8104999999999993\" style=\"\">33413_thamno</text></g><g class=\"toytree-TipLabel\" transform=\"translate(174.8533938273442,178.18145589798087)\"><text x=\"15.0\" y=\"2.8104999999999993\" style=\"\">30556_thamno</text></g><g class=\"toytree-TipLabel\" transform=\"translate(174.187465409827,164.6209705986539)\"><text x=\"15.0\" y=\"2.8104999999999993\" style=\"\">40578_rex</text></g><g class=\"toytree-TipLabel\" transform=\"translate(174.37165832150748,151.06048529932696)\"><text x=\"15.0\" y=\"2.8104999999999993\" style=\"\">35855_rex</text></g><g class=\"toytree-TipLabel\" transform=\"translate(178.06798252197876,137.5)\"><text x=\"15.0\" y=\"2.8104999999999993\" style=\"\">35236_rex</text></g><g class=\"toytree-TipLabel\" transform=\"translate(183.4521337835551,123.93951470067304)\"><text x=\"15.0\" y=\"2.8104999999999993\" style=\"\">39618_rex</text></g><g class=\"toytree-TipLabel\" transform=\"translate(183.97798848197198,110.37902940134609)\"><text x=\"15.0\" y=\"2.8104999999999993\" style=\"\">38362_rex</text></g><g class=\"toytree-TipLabel\" transform=\"translate(169.7823825166793,96.81854410201913)\"><text x=\"15.0\" y=\"2.8104999999999993\" style=\"\">29154_superba</text></g><g class=\"toytree-TipLabel\" transform=\"translate(171.22564525983896,83.25805880269218)\"><text x=\"15.0\" y=\"2.8104999999999993\" style=\"\">30686_cyathophylla</text></g><g class=\"toytree-TipLabel\" transform=\"translate(172.92196698453745,69.6975735033652)\"><text x=\"15.0\" y=\"2.8104999999999993\" style=\"\">41954_cyathophylloides</text></g><g class=\"toytree-TipLabel\" transform=\"translate(172.77622483402448,56.13708820403825)\"><text x=\"15.0\" y=\"2.8104999999999993\" style=\"\">41478_cyathophylloides</text></g></g></g></g></g></svg><div class=\"toyplot-behavior\"><script>(function()\n",
       "{\n",
       "var modules={};\n",
       "})();</script></div></div>"
      ]
     },
     "metadata": {},
     "output_type": "display_data"
    }
   ],
   "source": [
    "rtre.draw()"
   ]
  },
  {
   "cell_type": "code",
   "execution_count": 92,
   "metadata": {},
   "outputs": [
    {
     "data": {
      "text/html": [
       "<div class=\"toyplot\" id=\"t76be84c56ad24f3897e97012df090489\" style=\"text-align:center\"><svg class=\"toyplot-canvas-Canvas\" xmlns:toyplot=\"http://www.sandia.gov/toyplot\" xmlns:xlink=\"http://www.w3.org/1999/xlink\" xmlns=\"http://www.w3.org/2000/svg\" width=\"360.0px\" height=\"275.0px\" viewBox=\"0 0 360.0 275.0\" preserveAspectRatio=\"xMidYMid meet\" style=\"background-color:transparent;border-color:#292724;border-style:none;border-width:1.0;fill:rgb(16.1%,15.3%,14.1%);fill-opacity:1.0;font-family:Helvetica;font-size:12px;opacity:1.0;stroke:rgb(16.1%,15.3%,14.1%);stroke-opacity:1.0;stroke-width:1.0\" id=\"t67dcf177dc8f4e04b04936b7b1720acd\"><g class=\"toyplot-coordinates-Cartesian\" id=\"teae5a6accaaf438abf2efd4b9229b12d\"><clipPath id=\"t76b8935c14a1479d9ecdb951284a36fb\"><rect x=\"35.0\" y=\"35.0\" width=\"290.0\" height=\"205.0\"></rect></clipPath><g clip-path=\"url(#t76b8935c14a1479d9ecdb951284a36fb)\"><g class=\"toytree-mark-Toytree\" id=\"t9e53f7aea2f84272893d0910e63f23da\"><g class=\"toytree-Edges\" style=\"fill:none;stroke:rgba(16.1%,15.3%,14.1%,1.000);stroke-linecap:round;stroke-width:2.0\"><path d=\"M 122.5 212.1 L 122.5 218.9 L 133.0 218.9\" id=\"13,0\" style=\"stroke-width:nan\"></path><path d=\"M 122.5 212.1 L 122.5 205.3 L 132.5 205.3\" id=\"13,1\" style=\"stroke-width:nan\"></path><path d=\"M 144.3 176.1 L 144.3 191.7 L 167.1 191.7\" id=\"19,2\" style=\"stroke-width:nan\"></path><path d=\"M 148.5 160.4 L 148.5 178.2 L 174.9 178.2\" id=\"18,3\" style=\"stroke-width:nan\"></path><path d=\"M 160.6 157.8 L 160.6 164.6 L 174.2 164.6\" id=\"14,4\" style=\"stroke-width:nan\"></path><path d=\"M 160.6 157.8 L 160.6 151.1 L 174.4 151.1\" id=\"14,5\" style=\"stroke-width:nan\"></path><path d=\"M 154.6 127.3 L 154.6 137.5 L 178.1 137.5\" id=\"16,6\" style=\"stroke-width:nan\"></path><path d=\"M 179.6 117.2 L 179.6 123.9 L 183.5 123.9\" id=\"15,7\" style=\"stroke-width:nan\"></path><path d=\"M 179.6 117.2 L 179.6 110.4 L 184.0 110.4\" id=\"15,8\" style=\"stroke-width:nan\"></path><path d=\"M 144.1 90.0 L 144.1 96.8 L 169.8 96.8\" id=\"20,9\" style=\"stroke-width:nan\"></path><path d=\"M 144.1 90.0 L 144.1 83.3 L 171.2 83.3\" id=\"20,10\" style=\"stroke-width:nan\"></path><path d=\"M 172.6 62.9 L 172.6 69.7 L 172.9 69.7\" id=\"21,11\" style=\"stroke-width:nan\"></path><path d=\"M 172.6 62.9 L 172.6 56.1 L 172.8 56.1\" id=\"21,12\" style=\"stroke-width:nan\"></path><path d=\"M 50.0 169.2 L 50.0 212.1 L 122.5 212.1\" id=\"24,13\" style=\"stroke-width:nan\"></path><path d=\"M 151.6 142.6 L 151.6 157.8 L 160.6 157.8\" id=\"17,14\" style=\"stroke-width:nan\"></path><path d=\"M 154.6 127.3 L 154.6 117.2 L 179.6 117.2\" id=\"16,15\" style=\"stroke-width:nan\"></path><path d=\"M 151.6 142.6 L 151.6 127.3 L 154.6 127.3\" id=\"17,16\" style=\"stroke-width:nan\"></path><path d=\"M 148.5 160.4 L 148.5 142.6 L 151.6 142.6\" id=\"18,17\" style=\"stroke-width:nan\"></path><path d=\"M 144.3 176.1 L 144.3 160.4 L 148.5 160.4\" id=\"19,18\" style=\"stroke-width:nan\"></path><path d=\"M 122.5 126.3 L 122.5 176.1 L 144.3 176.1\" id=\"23,19\" style=\"stroke-width:nan\"></path><path d=\"M 134.5 76.5 L 134.5 90.0 L 144.1 90.0\" id=\"22,20\" style=\"stroke-width:nan\"></path><path d=\"M 134.5 76.5 L 134.5 62.9 L 172.6 62.9\" id=\"22,21\" style=\"stroke-width:nan\"></path><path d=\"M 122.5 126.3 L 122.5 76.5 L 134.5 76.5\" id=\"23,22\" style=\"stroke-width:nan\"></path><path d=\"M 50.0 169.2 L 50.0 126.3 L 122.5 126.3\" id=\"24,23\" style=\"stroke-width:nan\"></path></g><g class=\"toytree-TipLabels\" style=\"fill:rgb(16.1%,15.3%,14.1%);fill-opacity:1.0;font-family:Helvetica;font-size:11.0px;font-weight:300;stroke:none;vertical-align:baseline;white-space:pre\"><g class=\"toytree-TipLabel\" transform=\"translate(132.9802642596811,218.86291179596174)\"><text x=\"15.0\" y=\"2.8104999999999993\" style=\"\">32082_przewalskii</text></g><g class=\"toytree-TipLabel\" transform=\"translate(132.4874691209184,205.30242649663478)\"><text x=\"15.0\" y=\"2.8104999999999993\" style=\"\">33588_przewalskii</text></g><g class=\"toytree-TipLabel\" transform=\"translate(167.1238147474754,191.74194119730782)\"><text x=\"15.0\" y=\"2.8104999999999993\" style=\"\">33413_thamno</text></g><g class=\"toytree-TipLabel\" transform=\"translate(174.8533938273442,178.18145589798087)\"><text x=\"15.0\" y=\"2.8104999999999993\" style=\"\">30556_thamno</text></g><g class=\"toytree-TipLabel\" transform=\"translate(174.187465409827,164.6209705986539)\"><text x=\"15.0\" y=\"2.8104999999999993\" style=\"\">40578_rex</text></g><g class=\"toytree-TipLabel\" transform=\"translate(174.37165832150748,151.06048529932696)\"><text x=\"15.0\" y=\"2.8104999999999993\" style=\"\">35855_rex</text></g><g class=\"toytree-TipLabel\" transform=\"translate(178.06798252197876,137.5)\"><text x=\"15.0\" y=\"2.8104999999999993\" style=\"\">35236_rex</text></g><g class=\"toytree-TipLabel\" transform=\"translate(183.4521337835551,123.93951470067304)\"><text x=\"15.0\" y=\"2.8104999999999993\" style=\"\">39618_rex</text></g><g class=\"toytree-TipLabel\" transform=\"translate(183.97798848197198,110.37902940134609)\"><text x=\"15.0\" y=\"2.8104999999999993\" style=\"\">38362_rex</text></g><g class=\"toytree-TipLabel\" transform=\"translate(169.7823825166793,96.81854410201913)\"><text x=\"15.0\" y=\"2.8104999999999993\" style=\"\">29154_superba</text></g><g class=\"toytree-TipLabel\" transform=\"translate(171.22564525983896,83.25805880269218)\"><text x=\"15.0\" y=\"2.8104999999999993\" style=\"\">30686_cyathophylla</text></g><g class=\"toytree-TipLabel\" transform=\"translate(172.92196698453745,69.6975735033652)\"><text x=\"15.0\" y=\"2.8104999999999993\" style=\"\">41954_cyathophylloides</text></g><g class=\"toytree-TipLabel\" transform=\"translate(172.77622483402448,56.13708820403825)\"><text x=\"15.0\" y=\"2.8104999999999993\" style=\"\">41478_cyathophylloides</text></g></g></g></g></g></svg><div class=\"toyplot-behavior\"><script>(function()\n",
       "{\n",
       "var modules={};\n",
       "})();</script></div></div>"
      ]
     },
     "metadata": {},
     "output_type": "display_data"
    }
   ],
   "source": [
    "# the semicolon hides the returned text of the Canvas and Cartesian objects\n",
    "rtre.draw();"
   ]
  },
  {
   "cell_type": "code",
   "execution_count": 93,
   "metadata": {},
   "outputs": [
    {
     "data": {
      "text/html": [
       "<div class=\"toyplot\" id=\"t28c184ac09c2411e9d966de9088d16ed\" style=\"text-align:center\"><svg class=\"toyplot-canvas-Canvas\" xmlns:toyplot=\"http://www.sandia.gov/toyplot\" xmlns:xlink=\"http://www.w3.org/1999/xlink\" xmlns=\"http://www.w3.org/2000/svg\" width=\"360.0px\" height=\"275.0px\" viewBox=\"0 0 360.0 275.0\" preserveAspectRatio=\"xMidYMid meet\" style=\"background-color:transparent;border-color:#292724;border-style:none;border-width:1.0;fill:rgb(16.1%,15.3%,14.1%);fill-opacity:1.0;font-family:Helvetica;font-size:12px;opacity:1.0;stroke:rgb(16.1%,15.3%,14.1%);stroke-opacity:1.0;stroke-width:1.0\" id=\"t3aff55ef6aa7424cad87aa39dbb583f5\"><g class=\"toyplot-coordinates-Cartesian\" id=\"tfeca4789bbbb4d85bd84b84f9be66d44\"><clipPath id=\"ta3e052b1f5bb4f73bf667f57dc87fb25\"><rect x=\"35.0\" y=\"35.0\" width=\"290.0\" height=\"205.0\"></rect></clipPath><g clip-path=\"url(#ta3e052b1f5bb4f73bf667f57dc87fb25)\"><g class=\"toytree-mark-Toytree\" id=\"t786fea8bec6044beb62bcf99bf1cd3e1\"><g class=\"toytree-Edges\" style=\"fill:none;stroke:rgba(16.1%,15.3%,14.1%,1.000);stroke-linecap:round;stroke-width:2.0\"><path d=\"M 122.5 212.1 L 122.5 218.9 L 133.0 218.9\" id=\"13,0\" style=\"stroke-width:nan\"></path><path d=\"M 122.5 212.1 L 122.5 205.3 L 132.5 205.3\" id=\"13,1\" style=\"stroke-width:nan\"></path><path d=\"M 144.3 176.1 L 144.3 191.7 L 167.1 191.7\" id=\"19,2\" style=\"stroke-width:nan\"></path><path d=\"M 148.5 160.4 L 148.5 178.2 L 174.9 178.2\" id=\"18,3\" style=\"stroke-width:nan\"></path><path d=\"M 160.6 157.8 L 160.6 164.6 L 174.2 164.6\" id=\"14,4\" style=\"stroke-width:nan\"></path><path d=\"M 160.6 157.8 L 160.6 151.1 L 174.4 151.1\" id=\"14,5\" style=\"stroke-width:nan\"></path><path d=\"M 154.6 127.3 L 154.6 137.5 L 178.1 137.5\" id=\"16,6\" style=\"stroke-width:nan\"></path><path d=\"M 179.6 117.2 L 179.6 123.9 L 183.5 123.9\" id=\"15,7\" style=\"stroke-width:nan\"></path><path d=\"M 179.6 117.2 L 179.6 110.4 L 184.0 110.4\" id=\"15,8\" style=\"stroke-width:nan\"></path><path d=\"M 144.1 90.0 L 144.1 96.8 L 169.8 96.8\" id=\"20,9\" style=\"stroke-width:nan\"></path><path d=\"M 144.1 90.0 L 144.1 83.3 L 171.2 83.3\" id=\"20,10\" style=\"stroke-width:nan\"></path><path d=\"M 172.6 62.9 L 172.6 69.7 L 172.9 69.7\" id=\"21,11\" style=\"stroke-width:nan\"></path><path d=\"M 172.6 62.9 L 172.6 56.1 L 172.8 56.1\" id=\"21,12\" style=\"stroke-width:nan\"></path><path d=\"M 50.0 169.2 L 50.0 212.1 L 122.5 212.1\" id=\"24,13\" style=\"stroke-width:nan\"></path><path d=\"M 151.6 142.6 L 151.6 157.8 L 160.6 157.8\" id=\"17,14\" style=\"stroke-width:nan\"></path><path d=\"M 154.6 127.3 L 154.6 117.2 L 179.6 117.2\" id=\"16,15\" style=\"stroke-width:nan\"></path><path d=\"M 151.6 142.6 L 151.6 127.3 L 154.6 127.3\" id=\"17,16\" style=\"stroke-width:nan\"></path><path d=\"M 148.5 160.4 L 148.5 142.6 L 151.6 142.6\" id=\"18,17\" style=\"stroke-width:nan\"></path><path d=\"M 144.3 176.1 L 144.3 160.4 L 148.5 160.4\" id=\"19,18\" style=\"stroke-width:nan\"></path><path d=\"M 122.5 126.3 L 122.5 176.1 L 144.3 176.1\" id=\"23,19\" style=\"stroke-width:nan\"></path><path d=\"M 134.5 76.5 L 134.5 90.0 L 144.1 90.0\" id=\"22,20\" style=\"stroke-width:nan\"></path><path d=\"M 134.5 76.5 L 134.5 62.9 L 172.6 62.9\" id=\"22,21\" style=\"stroke-width:nan\"></path><path d=\"M 122.5 126.3 L 122.5 76.5 L 134.5 76.5\" id=\"23,22\" style=\"stroke-width:nan\"></path><path d=\"M 50.0 169.2 L 50.0 126.3 L 122.5 126.3\" id=\"24,23\" style=\"stroke-width:nan\"></path></g><g class=\"toytree-TipLabels\" style=\"fill:rgb(16.1%,15.3%,14.1%);fill-opacity:1.0;font-family:Helvetica;font-size:11.0px;font-weight:300;stroke:none;vertical-align:baseline;white-space:pre\"><g class=\"toytree-TipLabel\" transform=\"translate(132.9802642596811,218.86291179596174)\"><text x=\"15.0\" y=\"2.8104999999999993\" style=\"\">32082_przewalskii</text></g><g class=\"toytree-TipLabel\" transform=\"translate(132.4874691209184,205.30242649663478)\"><text x=\"15.0\" y=\"2.8104999999999993\" style=\"\">33588_przewalskii</text></g><g class=\"toytree-TipLabel\" transform=\"translate(167.1238147474754,191.74194119730782)\"><text x=\"15.0\" y=\"2.8104999999999993\" style=\"\">33413_thamno</text></g><g class=\"toytree-TipLabel\" transform=\"translate(174.8533938273442,178.18145589798087)\"><text x=\"15.0\" y=\"2.8104999999999993\" style=\"\">30556_thamno</text></g><g class=\"toytree-TipLabel\" transform=\"translate(174.187465409827,164.6209705986539)\"><text x=\"15.0\" y=\"2.8104999999999993\" style=\"\">40578_rex</text></g><g class=\"toytree-TipLabel\" transform=\"translate(174.37165832150748,151.06048529932696)\"><text x=\"15.0\" y=\"2.8104999999999993\" style=\"\">35855_rex</text></g><g class=\"toytree-TipLabel\" transform=\"translate(178.06798252197876,137.5)\"><text x=\"15.0\" y=\"2.8104999999999993\" style=\"\">35236_rex</text></g><g class=\"toytree-TipLabel\" transform=\"translate(183.4521337835551,123.93951470067304)\"><text x=\"15.0\" y=\"2.8104999999999993\" style=\"\">39618_rex</text></g><g class=\"toytree-TipLabel\" transform=\"translate(183.97798848197198,110.37902940134609)\"><text x=\"15.0\" y=\"2.8104999999999993\" style=\"\">38362_rex</text></g><g class=\"toytree-TipLabel\" transform=\"translate(169.7823825166793,96.81854410201913)\"><text x=\"15.0\" y=\"2.8104999999999993\" style=\"\">29154_superba</text></g><g class=\"toytree-TipLabel\" transform=\"translate(171.22564525983896,83.25805880269218)\"><text x=\"15.0\" y=\"2.8104999999999993\" style=\"\">30686_cyathophylla</text></g><g class=\"toytree-TipLabel\" transform=\"translate(172.92196698453745,69.6975735033652)\"><text x=\"15.0\" y=\"2.8104999999999993\" style=\"\">41954_cyathophylloides</text></g><g class=\"toytree-TipLabel\" transform=\"translate(172.77622483402448,56.13708820403825)\"><text x=\"15.0\" y=\"2.8104999999999993\" style=\"\">41478_cyathophylloides</text></g></g></g></g></g></svg><div class=\"toyplot-behavior\"><script>(function()\n",
       "{\n",
       "var modules={};\n",
       "})();</script></div></div>"
      ]
     },
     "metadata": {},
     "output_type": "display_data"
    }
   ],
   "source": [
    "# or, we can store them as variables (this allows more editing on them later)\n",
    "canvas, axes, mark = rtre.draw()"
   ]
  },
  {
   "cell_type": "code",
   "execution_count": 94,
   "metadata": {},
   "outputs": [],
   "source": [
    "# and you can save a canvas (drawing) to several file formats (more on this later).\n",
    "toyplot.html.render(canvas, \"/tmp/example-toytree-drawing.html\")"
   ]
  },
  {
   "cell_type": "markdown",
   "metadata": {},
   "source": [
    "### Drawing trees: styles\n",
    "There are innumerous ways in which to style *toytree* drawings. Because some combinations of styles are often combined together, we also provide a number of pre-built `tree_styles` which \n",
    "can be used as a default layer upon which additional style changes can be made. Available tree_style defaults include 'normal', 'population', 'coalescent', 'multitree', and others. Users can also easily create their own style dictionaries to be used in a similar way.\n",
    "\n",
    "Below are some examples. You can use tab-completion within the draw function to see the docstring for more details on available arguments to toggle, or you can see which styles are available on ToyTrees by accessing their `.style` dictionary. See the [Styling](https://toytree.readthedocs.io/Styling.html) chapter for more details."
   ]
  },
  {
   "cell_type": "code",
   "execution_count": 95,
   "metadata": {},
   "outputs": [],
   "source": [
    "# get a random birth-death tree topology\n",
    "tree0 = toytree.rtree.bdtree(ntips=10, seed=123)"
   ]
  },
  {
   "cell_type": "code",
   "execution_count": 96,
   "metadata": {},
   "outputs": [
    {
     "data": {
      "text/html": [
       "<div class=\"toyplot\" id=\"t8d15d55b2eab45e6a6c27c8042d72888\" style=\"text-align:center\"><svg class=\"toyplot-canvas-Canvas\" xmlns:toyplot=\"http://www.sandia.gov/toyplot\" xmlns:xlink=\"http://www.w3.org/1999/xlink\" xmlns=\"http://www.w3.org/2000/svg\" width=\"350.0px\" height=\"260.0px\" viewBox=\"0 0 350.0 260.0\" preserveAspectRatio=\"xMidYMid meet\" style=\"background-color:transparent;border-color:#292724;border-style:none;border-width:1.0;fill:rgb(16.1%,15.3%,14.1%);fill-opacity:1.0;font-family:Helvetica;font-size:12px;opacity:1.0;stroke:rgb(16.1%,15.3%,14.1%);stroke-opacity:1.0;stroke-width:1.0\" id=\"t3f85505780244c2fa2963b667b708c0a\"><g class=\"toyplot-coordinates-Cartesian\" id=\"te9aff86d60a7410ca028722778fb6a68\"><clipPath id=\"t055626dd3ea64ddc956128cdb9ac29c6\"><rect x=\"35.0\" y=\"35.0\" width=\"280.0\" height=\"190.0\"></rect></clipPath><g clip-path=\"url(#t055626dd3ea64ddc956128cdb9ac29c6)\"><g class=\"toytree-mark-Toytree\" id=\"t6f3ac1a95cfb455e9e30bbd9c9aa6315\"><g class=\"toytree-Edges\" style=\"fill:none;stroke:#262626;stroke-linecap:round;stroke-width:2\"><path d=\"M 76.1 86.7 L 56.3 176.3\" id=\"11,0\" style=\"stroke-width:nan\"></path><path d=\"M 95.8 172.9 L 82.7 176.3\" id=\"10,1\" style=\"stroke-width:nan\"></path><path d=\"M 95.8 172.9 L 109.0 176.3\" id=\"10,2\" style=\"stroke-width:nan\"></path><path d=\"M 148.6 166.3 L 135.4 176.3\" id=\"12,3\" style=\"stroke-width:nan\"></path><path d=\"M 148.6 166.3 L 161.8 176.3\" id=\"12,4\" style=\"stroke-width:nan\"></path><path d=\"M 201.4 173.9 L 188.2 176.3\" id=\"13,5\" style=\"stroke-width:nan\"></path><path d=\"M 201.4 173.9 L 214.6 176.3\" id=\"13,6\" style=\"stroke-width:nan\"></path><path d=\"M 260.8 138.5 L 241.0 176.3\" id=\"16,7\" style=\"stroke-width:nan\"></path><path d=\"M 280.5 140.7 L 267.3 176.3\" id=\"15,8\" style=\"stroke-width:nan\"></path><path d=\"M 280.5 140.7 L 293.7 176.3\" id=\"15,9\" style=\"stroke-width:nan\"></path><path d=\"M 76.1 86.7 L 95.8 172.9\" id=\"11,10\" style=\"stroke-width:nan\"></path><path d=\"M 147.0 52.7 L 76.1 86.7\" id=\"18,11\" style=\"stroke-width:nan\"></path><path d=\"M 175.0 150.8 L 148.6 166.3\" id=\"14,12\" style=\"stroke-width:nan\"></path><path d=\"M 175.0 150.8 L 201.4 173.9\" id=\"14,13\" style=\"stroke-width:nan\"></path><path d=\"M 217.9 93.9 L 175.0 150.8\" id=\"17,14\" style=\"stroke-width:nan\"></path><path d=\"M 260.8 138.5 L 280.5 140.7\" id=\"16,15\" style=\"stroke-width:nan\"></path><path d=\"M 217.9 93.9 L 260.8 138.5\" id=\"17,16\" style=\"stroke-width:nan\"></path><path d=\"M 147.0 52.7 L 217.9 93.9\" id=\"18,17\" style=\"stroke-width:nan\"></path></g><g class=\"toytree-Nodes\" style=\"fill:rgba(40.0%,76.1%,64.7%,1.000);stroke:#262626;stroke-width:1.5\"><g id=\"node-0\" transform=\"translate(56.269,176.341)\"><circle r=\"3.5\"></circle></g><g id=\"node-1\" transform=\"translate(82.654,176.341)\"><circle r=\"3.5\"></circle></g><g id=\"node-2\" transform=\"translate(109.038,176.341)\"><circle r=\"3.5\"></circle></g><g id=\"node-3\" transform=\"translate(135.423,176.341)\"><circle r=\"3.5\"></circle></g><g id=\"node-4\" transform=\"translate(161.808,176.341)\"><circle r=\"3.5\"></circle></g><g id=\"node-5\" transform=\"translate(188.192,176.341)\"><circle r=\"3.5\"></circle></g><g id=\"node-6\" transform=\"translate(214.577,176.341)\"><circle r=\"3.5\"></circle></g><g id=\"node-7\" transform=\"translate(240.962,176.341)\"><circle r=\"3.5\"></circle></g><g id=\"node-8\" transform=\"translate(267.346,176.341)\"><circle r=\"3.5\"></circle></g><g id=\"node-9\" transform=\"translate(293.731,176.341)\"><circle r=\"3.5\"></circle></g><g id=\"node-10\" transform=\"translate(95.846,172.907)\"><circle r=\"3.5\"></circle></g><g id=\"node-11\" transform=\"translate(76.057,86.703)\"><circle r=\"3.5\"></circle></g><g id=\"node-12\" transform=\"translate(148.615,166.324)\"><circle r=\"3.5\"></circle></g><g id=\"node-13\" transform=\"translate(201.385,173.948)\"><circle r=\"3.5\"></circle></g><g id=\"node-14\" transform=\"translate(175.000,150.849)\"><circle r=\"3.5\"></circle></g><g id=\"node-15\" transform=\"translate(280.539,140.719)\"><circle r=\"3.5\"></circle></g><g id=\"node-16\" transform=\"translate(260.750,138.517)\"><circle r=\"3.5\"></circle></g><g id=\"node-17\" transform=\"translate(217.875,93.874)\"><circle r=\"3.5\"></circle></g><g id=\"node-18\" transform=\"translate(146.966,52.705)\"><circle r=\"3.5\"></circle></g></g><g class=\"toytree-TipLabels\" style=\"fill:rgb(16.1%,15.3%,14.1%);fill-opacity:1.0;font-family:Helvetica;font-size:11.0px;font-weight:300;stroke:none;vertical-align:baseline;white-space:pre\"><g class=\"toytree-TipLabel\" transform=\"translate(56.26899696048632,176.34141158515973)rotate(90.0)\"><text x=\"12.0\" y=\"2.8104999999999993\" style=\"\">r0</text></g><g class=\"toytree-TipLabel\" transform=\"translate(82.65366430260046,176.34141158515973)rotate(90.0)\"><text x=\"12.0\" y=\"2.8104999999999993\" style=\"\">r1</text></g><g class=\"toytree-TipLabel\" transform=\"translate(109.03833164471462,176.34141158515973)rotate(90.0)\"><text x=\"12.0\" y=\"2.8104999999999993\" style=\"\">r2</text></g><g class=\"toytree-TipLabel\" transform=\"translate(135.42299898682876,176.34141158515973)rotate(90.0)\"><text x=\"12.0\" y=\"2.8104999999999993\" style=\"\">r3</text></g><g class=\"toytree-TipLabel\" transform=\"translate(161.8076663289429,176.34141158515973)rotate(90.0)\"><text x=\"12.0\" y=\"2.8104999999999993\" style=\"\">r4</text></g><g class=\"toytree-TipLabel\" transform=\"translate(188.19233367105704,176.34141158515973)rotate(90.0)\"><text x=\"12.0\" y=\"2.8104999999999993\" style=\"\">r5</text></g><g class=\"toytree-TipLabel\" transform=\"translate(214.57700101317118,176.34141158515973)rotate(90.0)\"><text x=\"12.0\" y=\"2.8104999999999993\" style=\"\">r6</text></g><g class=\"toytree-TipLabel\" transform=\"translate(240.96166835528533,176.34141158515973)rotate(90.0)\"><text x=\"12.0\" y=\"2.8104999999999993\" style=\"\">r7</text></g><g class=\"toytree-TipLabel\" transform=\"translate(267.34633569739947,176.34141158515973)rotate(90.0)\"><text x=\"12.0\" y=\"2.8104999999999993\" style=\"\">r8</text></g><g class=\"toytree-TipLabel\" transform=\"translate(293.7310030395136,176.34141158515973)rotate(90.0)\"><text x=\"12.0\" y=\"2.8104999999999993\" style=\"\">r9</text></g></g></g></g><g class=\"toyplot-coordinates-Axis\" id=\"t77dfb6aad2e44c19b17957f211931d3c\" transform=\"translate(50.0,210.0)rotate(-90.0)translate(0,-15.0)\"><line x1=\"33.65858841484028\" y1=\"0\" x2=\"157.29544378869687\" y2=\"0\" style=\"\"></line><g><line x1=\"33.65858841484028\" y1=\"0\" x2=\"33.65858841484028\" y2=\"5\" style=\"\"></line><line x1=\"90.6108405784475\" y1=\"0\" x2=\"90.6108405784475\" y2=\"5\" style=\"\"></line><line x1=\"147.5630927420547\" y1=\"0\" x2=\"147.5630927420547\" y2=\"5\" style=\"\"></line></g><g><g transform=\"translate(33.65858841484028,-6)\"><text x=\"-2.78\" y=\"-4.440892098500626e-16\" style=\"fill:rgb(16.1%,15.3%,14.1%);fill-opacity:1.0;font-family:helvetica;font-size:10.0px;font-weight:normal;stroke:none;vertical-align:baseline;white-space:pre\">0</text></g><g transform=\"translate(90.6108405784475,-6)\"><text x=\"-2.78\" y=\"-4.440892098500626e-16\" style=\"fill:rgb(16.1%,15.3%,14.1%);fill-opacity:1.0;font-family:helvetica;font-size:10.0px;font-weight:normal;stroke:none;vertical-align:baseline;white-space:pre\">1</text></g><g transform=\"translate(147.5630927420547,-6)\"><text x=\"-2.78\" y=\"-4.440892098500626e-16\" style=\"fill:rgb(16.1%,15.3%,14.1%);fill-opacity:1.0;font-family:helvetica;font-size:10.0px;font-weight:normal;stroke:none;vertical-align:baseline;white-space:pre\">2</text></g></g><g class=\"toyplot-coordinates-Axis-coordinates\" style=\"visibility:hidden\" transform=\"\"><line x1=\"0\" x2=\"0\" y1=\"3.0\" y2=\"-4.5\" style=\"stroke:rgb(43.9%,50.2%,56.5%);stroke-opacity:1.0;stroke-width:1.0\"></line><text x=\"0\" y=\"6\" style=\"alignment-baseline:hanging;fill:rgb(43.9%,50.2%,56.5%);fill-opacity:1.0;font-size:10px;font-weight:normal;stroke:none;text-anchor:middle\"></text></g></g></g></svg><div class=\"toyplot-behavior\"><script>(function()\n",
       "{\n",
       "var modules={};\n",
       "modules[\"toyplot/canvas/id\"] = \"t3f85505780244c2fa2963b667b708c0a\";\n",
       "modules[\"toyplot/canvas\"] = (function(canvas_id)\n",
       "    {\n",
       "        return document.querySelector(\"#\" + canvas_id);\n",
       "    })(modules[\"toyplot/canvas/id\"]);\n",
       "modules[\"toyplot.coordinates.Axis\"] = (\n",
       "        function(canvas)\n",
       "        {\n",
       "            function sign(x)\n",
       "            {\n",
       "                return x < 0 ? -1 : x > 0 ? 1 : 0;\n",
       "            }\n",
       "\n",
       "            function mix(a, b, amount)\n",
       "            {\n",
       "                return ((1.0 - amount) * a) + (amount * b);\n",
       "            }\n",
       "\n",
       "            function log(x, base)\n",
       "            {\n",
       "                return Math.log(Math.abs(x)) / Math.log(base);\n",
       "            }\n",
       "\n",
       "            function in_range(a, x, b)\n",
       "            {\n",
       "                var left = Math.min(a, b);\n",
       "                var right = Math.max(a, b);\n",
       "                return left <= x && x <= right;\n",
       "            }\n",
       "\n",
       "            function inside(range, projection)\n",
       "            {\n",
       "                for(var i = 0; i != projection.length; ++i)\n",
       "                {\n",
       "                    var segment = projection[i];\n",
       "                    if(in_range(segment.range.min, range, segment.range.max))\n",
       "                        return true;\n",
       "                }\n",
       "                return false;\n",
       "            }\n",
       "\n",
       "            function to_domain(range, projection)\n",
       "            {\n",
       "                for(var i = 0; i != projection.length; ++i)\n",
       "                {\n",
       "                    var segment = projection[i];\n",
       "                    if(in_range(segment.range.bounds.min, range, segment.range.bounds.max))\n",
       "                    {\n",
       "                        if(segment.scale == \"linear\")\n",
       "                        {\n",
       "                            var amount = (range - segment.range.min) / (segment.range.max - segment.range.min);\n",
       "                            return mix(segment.domain.min, segment.domain.max, amount)\n",
       "                        }\n",
       "                        else if(segment.scale[0] == \"log\")\n",
       "                        {\n",
       "                            var amount = (range - segment.range.min) / (segment.range.max - segment.range.min);\n",
       "                            var base = segment.scale[1];\n",
       "                            return sign(segment.domain.min) * Math.pow(base, mix(log(segment.domain.min, base), log(segment.domain.max, base), amount));\n",
       "                        }\n",
       "                    }\n",
       "                }\n",
       "            }\n",
       "\n",
       "            var axes = {};\n",
       "\n",
       "            function display_coordinates(e)\n",
       "            {\n",
       "                var current = canvas.createSVGPoint();\n",
       "                current.x = e.clientX;\n",
       "                current.y = e.clientY;\n",
       "\n",
       "                for(var axis_id in axes)\n",
       "                {\n",
       "                    var axis = document.querySelector(\"#\" + axis_id);\n",
       "                    var coordinates = axis.querySelector(\".toyplot-coordinates-Axis-coordinates\");\n",
       "                    if(coordinates)\n",
       "                    {\n",
       "                        var projection = axes[axis_id];\n",
       "                        var local = current.matrixTransform(axis.getScreenCTM().inverse());\n",
       "                        if(inside(local.x, projection))\n",
       "                        {\n",
       "                            var domain = to_domain(local.x, projection);\n",
       "                            coordinates.style.visibility = \"visible\";\n",
       "                            coordinates.setAttribute(\"transform\", \"translate(\" + local.x + \")\");\n",
       "                            var text = coordinates.querySelector(\"text\");\n",
       "                            text.textContent = domain.toFixed(2);\n",
       "                        }\n",
       "                        else\n",
       "                        {\n",
       "                            coordinates.style.visibility= \"hidden\";\n",
       "                        }\n",
       "                    }\n",
       "                }\n",
       "            }\n",
       "\n",
       "            canvas.addEventListener(\"click\", display_coordinates);\n",
       "\n",
       "            var module = {};\n",
       "            module.show_coordinates = function(axis_id, projection)\n",
       "            {\n",
       "                axes[axis_id] = projection;\n",
       "            }\n",
       "\n",
       "            return module;\n",
       "        })(modules[\"toyplot/canvas\"]);\n",
       "(function(axis, axis_id, projection)\n",
       "        {\n",
       "            axis.show_coordinates(axis_id, projection);\n",
       "        })(modules[\"toyplot.coordinates.Axis\"],\"t77dfb6aad2e44c19b17957f211931d3c\",[{\"domain\": {\"bounds\": {\"max\": Infinity, \"min\": -Infinity}, \"max\": 2.2183742834649927, \"min\": -0.5909966179765634}, \"range\": {\"bounds\": {\"max\": Infinity, \"min\": -Infinity}, \"max\": 160.0, \"min\": 0.0}, \"scale\": \"linear\"}]);\n",
       "})();</script></div></div>"
      ]
     },
     "metadata": {},
     "output_type": "display_data"
    }
   ],
   "source": [
    "# use a built-in tree_style (suite of style arguments)\n",
    "tree0.draw(tree_style='c');"
   ]
  },
  {
   "cell_type": "code",
   "execution_count": 97,
   "metadata": {},
   "outputs": [
    {
     "data": {
      "text/html": [
       "<div class=\"toyplot\" id=\"taf8d12067ed248d8931689cb5bd9a197\" style=\"text-align:center\"><svg class=\"toyplot-canvas-Canvas\" xmlns:toyplot=\"http://www.sandia.gov/toyplot\" xmlns:xlink=\"http://www.w3.org/1999/xlink\" xmlns=\"http://www.w3.org/2000/svg\" width=\"350.0px\" height=\"260.0px\" viewBox=\"0 0 350.0 260.0\" preserveAspectRatio=\"xMidYMid meet\" style=\"background-color:transparent;border-color:#292724;border-style:none;border-width:1.0;fill:rgb(16.1%,15.3%,14.1%);fill-opacity:1.0;font-family:Helvetica;font-size:12px;opacity:1.0;stroke:rgb(16.1%,15.3%,14.1%);stroke-opacity:1.0;stroke-width:1.0\" id=\"t4830e730297b4499b155071b0e62b2fb\"><g class=\"toyplot-coordinates-Cartesian\" id=\"t5bf6f7ada12f4daea2be00bab955074e\"><clipPath id=\"t38c8b092dadc4b71bfb97d66d4c34f79\"><rect x=\"35.0\" y=\"35.0\" width=\"280.0\" height=\"190.0\"></rect></clipPath><g clip-path=\"url(#t38c8b092dadc4b71bfb97d66d4c34f79)\"><g class=\"toytree-mark-Toytree\" id=\"taf26f38fece44817a9df5bbacc2a4ba3\"><g class=\"toytree-Edges\" style=\"fill:none;stroke:#262626;stroke-linecap:round;stroke-width:2\"><path d=\"M 76.1 86.7 L 56.3 176.3\" id=\"11,0\" style=\"stroke-width:nan\"></path><path d=\"M 95.8 172.9 L 82.7 176.3\" id=\"10,1\" style=\"stroke-width:nan\"></path><path d=\"M 95.8 172.9 L 109.0 176.3\" id=\"10,2\" style=\"stroke-width:nan\"></path><path d=\"M 148.6 166.3 L 135.4 176.3\" id=\"12,3\" style=\"stroke-width:nan\"></path><path d=\"M 148.6 166.3 L 161.8 176.3\" id=\"12,4\" style=\"stroke-width:nan\"></path><path d=\"M 201.4 173.9 L 188.2 176.3\" id=\"13,5\" style=\"stroke-width:nan\"></path><path d=\"M 201.4 173.9 L 214.6 176.3\" id=\"13,6\" style=\"stroke-width:nan\"></path><path d=\"M 260.8 138.5 L 241.0 176.3\" id=\"16,7\" style=\"stroke-width:nan\"></path><path d=\"M 280.5 140.7 L 267.3 176.3\" id=\"15,8\" style=\"stroke-width:nan\"></path><path d=\"M 280.5 140.7 L 293.7 176.3\" id=\"15,9\" style=\"stroke-width:nan\"></path><path d=\"M 76.1 86.7 L 95.8 172.9\" id=\"11,10\" style=\"stroke-width:nan\"></path><path d=\"M 147.0 52.7 L 76.1 86.7\" id=\"18,11\" style=\"stroke-width:nan\"></path><path d=\"M 175.0 150.8 L 148.6 166.3\" id=\"14,12\" style=\"stroke-width:nan\"></path><path d=\"M 175.0 150.8 L 201.4 173.9\" id=\"14,13\" style=\"stroke-width:nan\"></path><path d=\"M 217.9 93.9 L 175.0 150.8\" id=\"17,14\" style=\"stroke-width:nan\"></path><path d=\"M 260.8 138.5 L 280.5 140.7\" id=\"16,15\" style=\"stroke-width:nan\"></path><path d=\"M 217.9 93.9 L 260.8 138.5\" id=\"17,16\" style=\"stroke-width:nan\"></path><path d=\"M 147.0 52.7 L 217.9 93.9\" id=\"18,17\" style=\"stroke-width:nan\"></path></g><g class=\"toytree-Nodes\" style=\"fill:rgba(100.0%,64.7%,0.0%,1.000);stroke:#262626;stroke-width:1.5\"><g id=\"node-0\" transform=\"translate(56.269,176.341)\"><circle r=\"3.5\"></circle></g><g id=\"node-1\" transform=\"translate(82.654,176.341)\"><circle r=\"3.5\"></circle></g><g id=\"node-2\" transform=\"translate(109.038,176.341)\"><circle r=\"3.5\"></circle></g><g id=\"node-3\" transform=\"translate(135.423,176.341)\"><circle r=\"3.5\"></circle></g><g id=\"node-4\" transform=\"translate(161.808,176.341)\"><circle r=\"3.5\"></circle></g><g id=\"node-5\" transform=\"translate(188.192,176.341)\"><circle r=\"3.5\"></circle></g><g id=\"node-6\" transform=\"translate(214.577,176.341)\"><circle r=\"3.5\"></circle></g><g id=\"node-7\" transform=\"translate(240.962,176.341)\"><circle r=\"3.5\"></circle></g><g id=\"node-8\" transform=\"translate(267.346,176.341)\"><circle r=\"3.5\"></circle></g><g id=\"node-9\" transform=\"translate(293.731,176.341)\"><circle r=\"3.5\"></circle></g><g id=\"node-10\" transform=\"translate(95.846,172.907)\"><circle r=\"3.5\"></circle></g><g id=\"node-11\" transform=\"translate(76.057,86.703)\"><circle r=\"3.5\"></circle></g><g id=\"node-12\" transform=\"translate(148.615,166.324)\"><circle r=\"3.5\"></circle></g><g id=\"node-13\" transform=\"translate(201.385,173.948)\"><circle r=\"3.5\"></circle></g><g id=\"node-14\" transform=\"translate(175.000,150.849)\"><circle r=\"3.5\"></circle></g><g id=\"node-15\" transform=\"translate(280.539,140.719)\"><circle r=\"3.5\"></circle></g><g id=\"node-16\" transform=\"translate(260.750,138.517)\"><circle r=\"3.5\"></circle></g><g id=\"node-17\" transform=\"translate(217.875,93.874)\"><circle r=\"3.5\"></circle></g><g id=\"node-18\" transform=\"translate(146.966,52.705)\"><circle r=\"3.5\"></circle></g></g><g class=\"toytree-TipLabels\" style=\"fill:rgb(16.1%,15.3%,14.1%);fill-opacity:1.0;font-family:Helvetica;font-size:11.0px;font-weight:300;stroke:none;vertical-align:baseline;white-space:pre\"><g class=\"toytree-TipLabel\" transform=\"translate(56.26899696048632,176.34141158515973)rotate(90.0)\"><text x=\"12.0\" y=\"2.8104999999999993\" style=\"\">r0</text></g><g class=\"toytree-TipLabel\" transform=\"translate(82.65366430260046,176.34141158515973)rotate(90.0)\"><text x=\"12.0\" y=\"2.8104999999999993\" style=\"\">r1</text></g><g class=\"toytree-TipLabel\" transform=\"translate(109.03833164471462,176.34141158515973)rotate(90.0)\"><text x=\"12.0\" y=\"2.8104999999999993\" style=\"\">r2</text></g><g class=\"toytree-TipLabel\" transform=\"translate(135.42299898682876,176.34141158515973)rotate(90.0)\"><text x=\"12.0\" y=\"2.8104999999999993\" style=\"\">r3</text></g><g class=\"toytree-TipLabel\" transform=\"translate(161.8076663289429,176.34141158515973)rotate(90.0)\"><text x=\"12.0\" y=\"2.8104999999999993\" style=\"\">r4</text></g><g class=\"toytree-TipLabel\" transform=\"translate(188.19233367105704,176.34141158515973)rotate(90.0)\"><text x=\"12.0\" y=\"2.8104999999999993\" style=\"\">r5</text></g><g class=\"toytree-TipLabel\" transform=\"translate(214.57700101317118,176.34141158515973)rotate(90.0)\"><text x=\"12.0\" y=\"2.8104999999999993\" style=\"\">r6</text></g><g class=\"toytree-TipLabel\" transform=\"translate(240.96166835528533,176.34141158515973)rotate(90.0)\"><text x=\"12.0\" y=\"2.8104999999999993\" style=\"\">r7</text></g><g class=\"toytree-TipLabel\" transform=\"translate(267.34633569739947,176.34141158515973)rotate(90.0)\"><text x=\"12.0\" y=\"2.8104999999999993\" style=\"\">r8</text></g><g class=\"toytree-TipLabel\" transform=\"translate(293.7310030395136,176.34141158515973)rotate(90.0)\"><text x=\"12.0\" y=\"2.8104999999999993\" style=\"\">r9</text></g></g></g></g><g class=\"toyplot-coordinates-Axis\" id=\"t7e3182a04fcb4380b05d0c62737fcf01\" transform=\"translate(50.0,210.0)rotate(-90.0)translate(0,-15.0)\"><line x1=\"33.65858841484028\" y1=\"0\" x2=\"157.29544378869687\" y2=\"0\" style=\"\"></line><g><line x1=\"33.65858841484028\" y1=\"0\" x2=\"33.65858841484028\" y2=\"5\" style=\"\"></line><line x1=\"90.6108405784475\" y1=\"0\" x2=\"90.6108405784475\" y2=\"5\" style=\"\"></line><line x1=\"147.5630927420547\" y1=\"0\" x2=\"147.5630927420547\" y2=\"5\" style=\"\"></line></g><g><g transform=\"translate(33.65858841484028,-6)\"><text x=\"-2.78\" y=\"-4.440892098500626e-16\" style=\"fill:rgb(16.1%,15.3%,14.1%);fill-opacity:1.0;font-family:helvetica;font-size:10.0px;font-weight:normal;stroke:none;vertical-align:baseline;white-space:pre\">0</text></g><g transform=\"translate(90.6108405784475,-6)\"><text x=\"-2.78\" y=\"-4.440892098500626e-16\" style=\"fill:rgb(16.1%,15.3%,14.1%);fill-opacity:1.0;font-family:helvetica;font-size:10.0px;font-weight:normal;stroke:none;vertical-align:baseline;white-space:pre\">1</text></g><g transform=\"translate(147.5630927420547,-6)\"><text x=\"-2.78\" y=\"-4.440892098500626e-16\" style=\"fill:rgb(16.1%,15.3%,14.1%);fill-opacity:1.0;font-family:helvetica;font-size:10.0px;font-weight:normal;stroke:none;vertical-align:baseline;white-space:pre\">2</text></g></g><g class=\"toyplot-coordinates-Axis-coordinates\" style=\"visibility:hidden\" transform=\"\"><line x1=\"0\" x2=\"0\" y1=\"3.0\" y2=\"-4.5\" style=\"stroke:rgb(43.9%,50.2%,56.5%);stroke-opacity:1.0;stroke-width:1.0\"></line><text x=\"0\" y=\"6\" style=\"alignment-baseline:hanging;fill:rgb(43.9%,50.2%,56.5%);fill-opacity:1.0;font-size:10px;font-weight:normal;stroke:none;text-anchor:middle\"></text></g></g></g></svg><div class=\"toyplot-behavior\"><script>(function()\n",
       "{\n",
       "var modules={};\n",
       "modules[\"toyplot/canvas/id\"] = \"t4830e730297b4499b155071b0e62b2fb\";\n",
       "modules[\"toyplot/canvas\"] = (function(canvas_id)\n",
       "    {\n",
       "        return document.querySelector(\"#\" + canvas_id);\n",
       "    })(modules[\"toyplot/canvas/id\"]);\n",
       "modules[\"toyplot.coordinates.Axis\"] = (\n",
       "        function(canvas)\n",
       "        {\n",
       "            function sign(x)\n",
       "            {\n",
       "                return x < 0 ? -1 : x > 0 ? 1 : 0;\n",
       "            }\n",
       "\n",
       "            function mix(a, b, amount)\n",
       "            {\n",
       "                return ((1.0 - amount) * a) + (amount * b);\n",
       "            }\n",
       "\n",
       "            function log(x, base)\n",
       "            {\n",
       "                return Math.log(Math.abs(x)) / Math.log(base);\n",
       "            }\n",
       "\n",
       "            function in_range(a, x, b)\n",
       "            {\n",
       "                var left = Math.min(a, b);\n",
       "                var right = Math.max(a, b);\n",
       "                return left <= x && x <= right;\n",
       "            }\n",
       "\n",
       "            function inside(range, projection)\n",
       "            {\n",
       "                for(var i = 0; i != projection.length; ++i)\n",
       "                {\n",
       "                    var segment = projection[i];\n",
       "                    if(in_range(segment.range.min, range, segment.range.max))\n",
       "                        return true;\n",
       "                }\n",
       "                return false;\n",
       "            }\n",
       "\n",
       "            function to_domain(range, projection)\n",
       "            {\n",
       "                for(var i = 0; i != projection.length; ++i)\n",
       "                {\n",
       "                    var segment = projection[i];\n",
       "                    if(in_range(segment.range.bounds.min, range, segment.range.bounds.max))\n",
       "                    {\n",
       "                        if(segment.scale == \"linear\")\n",
       "                        {\n",
       "                            var amount = (range - segment.range.min) / (segment.range.max - segment.range.min);\n",
       "                            return mix(segment.domain.min, segment.domain.max, amount)\n",
       "                        }\n",
       "                        else if(segment.scale[0] == \"log\")\n",
       "                        {\n",
       "                            var amount = (range - segment.range.min) / (segment.range.max - segment.range.min);\n",
       "                            var base = segment.scale[1];\n",
       "                            return sign(segment.domain.min) * Math.pow(base, mix(log(segment.domain.min, base), log(segment.domain.max, base), amount));\n",
       "                        }\n",
       "                    }\n",
       "                }\n",
       "            }\n",
       "\n",
       "            var axes = {};\n",
       "\n",
       "            function display_coordinates(e)\n",
       "            {\n",
       "                var current = canvas.createSVGPoint();\n",
       "                current.x = e.clientX;\n",
       "                current.y = e.clientY;\n",
       "\n",
       "                for(var axis_id in axes)\n",
       "                {\n",
       "                    var axis = document.querySelector(\"#\" + axis_id);\n",
       "                    var coordinates = axis.querySelector(\".toyplot-coordinates-Axis-coordinates\");\n",
       "                    if(coordinates)\n",
       "                    {\n",
       "                        var projection = axes[axis_id];\n",
       "                        var local = current.matrixTransform(axis.getScreenCTM().inverse());\n",
       "                        if(inside(local.x, projection))\n",
       "                        {\n",
       "                            var domain = to_domain(local.x, projection);\n",
       "                            coordinates.style.visibility = \"visible\";\n",
       "                            coordinates.setAttribute(\"transform\", \"translate(\" + local.x + \")\");\n",
       "                            var text = coordinates.querySelector(\"text\");\n",
       "                            text.textContent = domain.toFixed(2);\n",
       "                        }\n",
       "                        else\n",
       "                        {\n",
       "                            coordinates.style.visibility= \"hidden\";\n",
       "                        }\n",
       "                    }\n",
       "                }\n",
       "            }\n",
       "\n",
       "            canvas.addEventListener(\"click\", display_coordinates);\n",
       "\n",
       "            var module = {};\n",
       "            module.show_coordinates = function(axis_id, projection)\n",
       "            {\n",
       "                axes[axis_id] = projection;\n",
       "            }\n",
       "\n",
       "            return module;\n",
       "        })(modules[\"toyplot/canvas\"]);\n",
       "(function(axis, axis_id, projection)\n",
       "        {\n",
       "            axis.show_coordinates(axis_id, projection);\n",
       "        })(modules[\"toyplot.coordinates.Axis\"],\"t7e3182a04fcb4380b05d0c62737fcf01\",[{\"domain\": {\"bounds\": {\"max\": Infinity, \"min\": -Infinity}, \"max\": 2.2183742834649927, \"min\": -0.5909966179765634}, \"range\": {\"bounds\": {\"max\": Infinity, \"min\": -Infinity}, \"max\": 160.0, \"min\": 0.0}, \"scale\": \"linear\"}]);\n",
       "})();</script></div></div>"
      ]
     },
     "metadata": {},
     "output_type": "display_data"
    }
   ],
   "source": [
    "# or, select a built-in style AND apply additional style args on top of it\n",
    "tree0.draw(tree_style='c', node_colors='orange');"
   ]
  },
  {
   "cell_type": "code",
   "execution_count": 98,
   "metadata": {},
   "outputs": [
    {
     "data": {
      "text/html": [
       "<div class=\"toyplot\" id=\"tface66f78e5641f58ce9d41b65644c4c\" style=\"text-align:center\"><svg class=\"toyplot-canvas-Canvas\" xmlns:toyplot=\"http://www.sandia.gov/toyplot\" xmlns:xlink=\"http://www.w3.org/1999/xlink\" xmlns=\"http://www.w3.org/2000/svg\" width=\"350.0px\" height=\"275.0px\" viewBox=\"0 0 350.0 275.0\" preserveAspectRatio=\"xMidYMid meet\" style=\"background-color:transparent;border-color:#292724;border-style:none;border-width:1.0;fill:rgb(16.1%,15.3%,14.1%);fill-opacity:1.0;font-family:Helvetica;font-size:12px;opacity:1.0;stroke:rgb(16.1%,15.3%,14.1%);stroke-opacity:1.0;stroke-width:1.0\" id=\"t9b11551f8a9f4f47bcb1f8ca283a9f65\"><g class=\"toyplot-coordinates-Cartesian\" id=\"t9215cfd16566435a8c80f8cc16f9fc14\"><clipPath id=\"t330105b317aa4efda8269d47e030fec4\"><rect x=\"35.0\" y=\"35.0\" width=\"280.0\" height=\"205.0\"></rect></clipPath><g clip-path=\"url(#t330105b317aa4efda8269d47e030fec4)\"><g class=\"toytree-mark-Toytree\" id=\"t331f396e471f4c5498f6d59de0e10c6d\"><g class=\"toytree-Edges\" style=\"fill:none;stroke:rgba(85.5%,64.7%,12.5%,1.000);stroke-linecap:round;stroke-width:2.0\"><path d=\"M 109.5 204.0 L 109.5 217.3 L 255.7 217.3\" id=\"11,0\" style=\"stroke-width:4.0\"></path><path d=\"M 250.1 190.7 L 250.1 199.6 L 255.7 199.6\" id=\"10,1\" style=\"stroke-width:4.0\"></path><path d=\"M 250.1 190.7 L 250.1 181.9 L 255.7 181.9\" id=\"10,2\" style=\"stroke-width:4.0\"></path><path d=\"M 239.4 155.2 L 239.4 164.1 L 255.7 164.1\" id=\"12,3\" style=\"stroke-width:4.0\"></path><path d=\"M 239.4 155.2 L 239.4 146.4 L 255.7 146.4\" id=\"12,4\" style=\"stroke-width:4.0\"></path><path d=\"M 251.8 119.8 L 251.8 128.6 L 255.7 128.6\" id=\"13,5\" style=\"stroke-width:4.0\"></path><path d=\"M 251.8 119.8 L 251.8 110.9 L 255.7 110.9\" id=\"13,6\" style=\"stroke-width:4.0\"></path><path d=\"M 194.0 79.8 L 194.0 93.1 L 255.7 93.1\" id=\"16,7\" style=\"stroke-width:4.0\"></path><path d=\"M 197.6 66.5 L 197.6 75.4 L 255.7 75.4\" id=\"15,8\" style=\"stroke-width:4.0\"></path><path d=\"M 197.6 66.5 L 197.6 57.7 L 255.7 57.7\" id=\"15,9\" style=\"stroke-width:4.0\"></path><path d=\"M 109.5 204.0 L 109.5 190.7 L 250.1 190.7\" id=\"11,10\" style=\"stroke-width:4.0\"></path><path d=\"M 54.0 156.4 L 54.0 204.0 L 109.5 204.0\" id=\"18,11\" style=\"stroke-width:4.0\"></path><path d=\"M 214.1 137.5 L 214.1 155.2 L 239.4 155.2\" id=\"14,12\" style=\"stroke-width:4.0\"></path><path d=\"M 214.1 137.5 L 214.1 119.8 L 251.8 119.8\" id=\"14,13\" style=\"stroke-width:4.0\"></path><path d=\"M 121.2 108.7 L 121.2 137.5 L 214.1 137.5\" id=\"17,14\" style=\"stroke-width:4.0\"></path><path d=\"M 194.0 79.8 L 194.0 66.5 L 197.6 66.5\" id=\"16,15\" style=\"stroke-width:4.0\"></path><path d=\"M 121.2 108.7 L 121.2 79.8 L 194.0 79.8\" id=\"17,16\" style=\"stroke-width:4.0\"></path><path d=\"M 54.0 156.4 L 54.0 108.7 L 121.2 108.7\" id=\"18,17\" style=\"stroke-width:4.0\"></path></g><g class=\"toytree-Nodes\" style=\"fill:rgba(100.0%,0.0%,100.0%,1.000);stroke:indigo;stroke-width:3\"><g id=\"node-10\" transform=\"translate(250.115,190.724)\"><circle r=\"5.0\"></circle></g><g id=\"node-11\" transform=\"translate(109.495,204.030)\"><circle r=\"5.0\"></circle></g><g id=\"node-12\" transform=\"translate(239.376,155.241)\"><circle r=\"5.0\"></circle></g><g id=\"node-13\" transform=\"translate(251.813,119.759)\"><circle r=\"5.0\"></circle></g><g id=\"node-14\" transform=\"translate(214.132,137.500)\"><circle r=\"5.0\"></circle></g><g id=\"node-15\" transform=\"translate(197.607,66.535)\"><circle r=\"5.0\"></circle></g><g id=\"node-16\" transform=\"translate(194.016,79.841)\"><circle r=\"5.0\"></circle></g><g id=\"node-17\" transform=\"translate(121.191,108.670)\"><circle r=\"5.0\"></circle></g><g id=\"node-18\" transform=\"translate(54.034,156.350)\"><circle r=\"5.0\"></circle></g></g><g class=\"toytree-TipLabels\" style=\"fill:rgb(0%,50.2%,50.2%);fill-opacity:1.0;font-family:Helvetica;font-size:14.0px;font-weight:300;stroke:none;vertical-align:baseline;white-space:pre\"><g class=\"toytree-TipLabel\" transform=\"translate(255.7168303796161,217.33576642335765)\"><text x=\"15.0\" y=\"3.577\" style=\"\">r0</text></g><g class=\"toytree-TipLabel\" transform=\"translate(255.7168303796161,199.59448499594484)\"><text x=\"15.0\" y=\"3.577\" style=\"\">r1</text></g><g class=\"toytree-TipLabel\" transform=\"translate(255.7168303796161,181.85320356853202)\"><text x=\"15.0\" y=\"3.577\" style=\"\">r2</text></g><g class=\"toytree-TipLabel\" transform=\"translate(255.7168303796161,164.11192214111924)\"><text x=\"15.0\" y=\"3.577\" style=\"\">r3</text></g><g class=\"toytree-TipLabel\" transform=\"translate(255.7168303796161,146.37064071370642)\"><text x=\"15.0\" y=\"3.577\" style=\"\">r4</text></g><g class=\"toytree-TipLabel\" transform=\"translate(255.7168303796161,128.62935928629358)\"><text x=\"15.0\" y=\"3.577\" style=\"\">r5</text></g><g class=\"toytree-TipLabel\" transform=\"translate(255.7168303796161,110.88807785888078)\"><text x=\"15.0\" y=\"3.577\" style=\"\">r6</text></g><g class=\"toytree-TipLabel\" transform=\"translate(255.7168303796161,93.14679643146798)\"><text x=\"15.0\" y=\"3.577\" style=\"\">r7</text></g><g class=\"toytree-TipLabel\" transform=\"translate(255.7168303796161,75.40551500405516)\"><text x=\"15.0\" y=\"3.577\" style=\"\">r8</text></g><g class=\"toytree-TipLabel\" transform=\"translate(255.7168303796161,57.664233576642346)\"><text x=\"15.0\" y=\"3.577\" style=\"\">r9</text></g></g></g></g></g></svg><div class=\"toyplot-behavior\"><script>(function()\n",
       "{\n",
       "var modules={};\n",
       "})();</script></div></div>"
      ]
     },
     "metadata": {},
     "output_type": "display_data"
    }
   ],
   "source": [
    "# or, apply many individual style args\n",
    "tree0.draw(\n",
    "    node_colors='magenta',\n",
    "    node_sizes=10,\n",
    "    node_style={\"stroke\": \"indigo\", \"stroke-width\": 3},\n",
    "    tip_labels_colors='teal',\n",
    "    tip_labels_style={\"font-size\": \"14px\"},\n",
    "    edge_colors='goldenrod',\n",
    "    edge_widths=4,\n",
    "    width=350,\n",
    ");"
   ]
  },
  {
   "cell_type": "code",
   "execution_count": 99,
   "metadata": {},
   "outputs": [
    {
     "data": {
      "text/html": [
       "<div class=\"toyplot\" id=\"t02cf90bb94034f6db7998006064209a2\" style=\"text-align:center\"><svg class=\"toyplot-canvas-Canvas\" xmlns:toyplot=\"http://www.sandia.gov/toyplot\" xmlns:xlink=\"http://www.w3.org/1999/xlink\" xmlns=\"http://www.w3.org/2000/svg\" width=\"400.0px\" height=\"275.0px\" viewBox=\"0 0 400.0 275.0\" preserveAspectRatio=\"xMidYMid meet\" style=\"background-color:transparent;border-color:#292724;border-style:none;border-width:1.0;fill:rgb(16.1%,15.3%,14.1%);fill-opacity:1.0;font-family:Helvetica;font-size:12px;opacity:1.0;stroke:rgb(16.1%,15.3%,14.1%);stroke-opacity:1.0;stroke-width:1.0\" id=\"t0b26a36ee5014ad3b956c9cc043f6dd8\"><g class=\"toyplot-coordinates-Cartesian\" id=\"t8647acf79e7c46ec893b4ae8e9178053\"><clipPath id=\"t9ae1250a8d644c799b51ee21457e003c\"><rect x=\"35.0\" y=\"35.0\" width=\"330.0\" height=\"205.0\"></rect></clipPath><g clip-path=\"url(#t9ae1250a8d644c799b51ee21457e003c)\"><g class=\"toytree-mark-Toytree\" id=\"t66585c3eed234e488aac0ab1944bfb8f\"><g class=\"toytree-Edges\" style=\"fill:none;stroke:rgba(0.0%,0.0%,100.0%,1.000);stroke-linecap:round;stroke-width:2.0\"><path d=\"M 120.8 205.3 L 120.8 218.9 L 307.5 218.9\" id=\"11,0\" style=\"stroke-width:nan\"></path><path d=\"M 300.3 191.7 L 300.3 200.8 L 307.5 200.8\" id=\"10,1\" style=\"stroke-width:nan\"></path><path d=\"M 300.3 191.7 L 300.3 182.7 L 307.5 182.7\" id=\"10,2\" style=\"stroke-width:nan\"></path><path d=\"M 286.6 155.6 L 286.6 164.6 L 307.5 164.6\" id=\"12,3\" style=\"stroke-width:nan\"></path><path d=\"M 286.6 155.6 L 286.6 146.5 L 307.5 146.5\" id=\"12,4\" style=\"stroke-width:nan\"></path><path d=\"M 302.5 119.4 L 302.5 128.5 L 307.5 128.5\" id=\"13,5\" style=\"stroke-width:nan\"></path><path d=\"M 302.5 119.4 L 302.5 110.4 L 307.5 110.4\" id=\"13,6\" style=\"stroke-width:nan\"></path><path d=\"M 228.7 78.7 L 228.7 92.3 L 307.5 92.3\" id=\"16,7\" style=\"stroke-width:nan\"></path><path d=\"M 233.3 65.2 L 233.3 74.2 L 307.5 74.2\" id=\"15,8\" style=\"stroke-width:nan\"></path><path d=\"M 233.3 65.2 L 233.3 56.1 L 307.5 56.1\" id=\"15,9\" style=\"stroke-width:nan\"></path><path d=\"M 120.8 205.3 L 120.8 191.7 L 300.3 191.7\" id=\"11,10\" style=\"stroke-width:nan\"></path><path d=\"M 50.0 156.7 L 50.0 205.3 L 120.8 205.3\" id=\"18,11\" style=\"stroke-width:nan\"></path><path d=\"M 254.4 137.5 L 254.4 155.6 L 286.6 155.6\" id=\"14,12\" style=\"stroke-width:nan\"></path><path d=\"M 254.4 137.5 L 254.4 119.4 L 302.5 119.4\" id=\"14,13\" style=\"stroke-width:nan\"></path><path d=\"M 135.7 108.1 L 135.7 137.5 L 254.4 137.5\" id=\"17,14\" style=\"stroke-width:nan\"></path><path d=\"M 228.7 78.7 L 228.7 65.2 L 233.3 65.2\" id=\"16,15\" style=\"stroke-width:nan\"></path><path d=\"M 135.7 108.1 L 135.7 78.7 L 228.7 78.7\" id=\"17,16\" style=\"stroke-width:nan\"></path><path d=\"M 50.0 156.7 L 50.0 108.1 L 135.7 108.1\" id=\"18,17\" style=\"stroke-width:nan\"></path></g><g class=\"toytree-TipLabels\" style=\"fill:rgb(16.1%,15.3%,14.1%);fill-opacity:1.0;font-family:Helvetica;font-size:11.0px;font-weight:300;stroke:none;vertical-align:baseline;white-space:pre\"><g class=\"toytree-TipLabel\" transform=\"translate(307.46800244880677,218.86291179596174)\"><text x=\"15.0\" y=\"2.8104999999999993\" style=\"\">r0</text></g><g class=\"toytree-TipLabel\" transform=\"translate(307.46800244880677,200.78226473019248)\"><text x=\"15.0\" y=\"2.8104999999999993\" style=\"\">r1</text></g><g class=\"toytree-TipLabel\" transform=\"translate(307.46800244880677,182.70161766442322)\"><text x=\"15.0\" y=\"2.8104999999999993\" style=\"\">r2</text></g><g class=\"toytree-TipLabel\" transform=\"translate(307.46800244880677,164.6209705986539)\"><text x=\"15.0\" y=\"2.8104999999999993\" style=\"\">r3</text></g><g class=\"toytree-TipLabel\" transform=\"translate(307.46800244880677,146.54032353288463)\"><text x=\"15.0\" y=\"2.8104999999999993\" style=\"\">r4</text></g><g class=\"toytree-TipLabel\" transform=\"translate(307.46800244880677,128.45967646711534)\"><text x=\"15.0\" y=\"2.8104999999999993\" style=\"\">r5</text></g><g class=\"toytree-TipLabel\" transform=\"translate(307.46800244880677,110.37902940134609)\"><text x=\"15.0\" y=\"2.8104999999999993\" style=\"\">r6</text></g><g class=\"toytree-TipLabel\" transform=\"translate(307.46800244880677,92.2983823355768)\"><text x=\"15.0\" y=\"2.8104999999999993\" style=\"\">r7</text></g><g class=\"toytree-TipLabel\" transform=\"translate(307.46800244880677,74.2177352698075)\"><text x=\"15.0\" y=\"2.8104999999999993\" style=\"\">r8</text></g><g class=\"toytree-TipLabel\" transform=\"translate(307.46800244880677,56.137088204038236)\"><text x=\"15.0\" y=\"2.8104999999999993\" style=\"\">r9</text></g></g></g></g></g></svg><div class=\"toyplot-behavior\"><script>(function()\n",
       "{\n",
       "var modules={};\n",
       "})();</script></div></div>"
      ]
     },
     "metadata": {},
     "output_type": "display_data"
    }
   ],
   "source": [
    "# or, modify the .style attribute of tree objects before calling draw()\n",
    "new_tre = tree0.copy()\n",
    "new_tre.style.edge_colors = \"blue\"\n",
    "new_tre.style.width = 400\n",
    "new_tre.draw();"
   ]
  },
  {
   "cell_type": "code",
   "execution_count": 100,
   "metadata": {},
   "outputs": [],
   "source": [
    "# or, create a style dictionary and apply it to many tree drawings\n",
    "my_tree_style = {\n",
    "    \"layout\": 'd',\n",
    "    \"edge_type\": 'c',\n",
    "    \"edge_style\": {\n",
    "        \"stroke\": toytree.color.COLORS1[2],\n",
    "        \"stroke-width\": 2.5,\n",
    "    },\n",
    "    \"tip_labels_align\": True, \n",
    "    \"tip_labels_colors\": toytree.color.COLORS2[0],\n",
    "    \"tip_labels_style\": {\n",
    "        \"font-size\": \"14px\", \"font-weight\": 600,\n",
    "    },\n",
    "    \"node_mask\": False,\n",
    "    \"node_labels\": False,\n",
    "    \"node_sizes\": 8,\n",
    "    \"node_colors\": toytree.color.COLORS1[2],\n",
    "}"
   ]
  },
  {
   "cell_type": "code",
   "execution_count": 101,
   "metadata": {
    "scrolled": false
   },
   "outputs": [
    {
     "data": {
      "text/html": [
       "<div class=\"toyplot\" id=\"t89dc7addf66a4efb89d2c24badc4bb39\" style=\"text-align:center\"><svg class=\"toyplot-canvas-Canvas\" xmlns:toyplot=\"http://www.sandia.gov/toyplot\" xmlns:xlink=\"http://www.w3.org/1999/xlink\" xmlns=\"http://www.w3.org/2000/svg\" width=\"350.0px\" height=\"300.0px\" viewBox=\"0 0 350.0 300.0\" preserveAspectRatio=\"xMidYMid meet\" style=\"background-color:transparent;border-color:#292724;border-style:none;border-width:1.0;fill:rgb(16.1%,15.3%,14.1%);fill-opacity:1.0;font-family:Helvetica;font-size:12px;opacity:1.0;stroke:rgb(16.1%,15.3%,14.1%);stroke-opacity:1.0;stroke-width:1.0\" id=\"t0d126ec088b345bb9f5eb3872a68f519\"><g class=\"toyplot-coordinates-Cartesian\" id=\"td6bc4ec2699944dd981368aae0cbfa3e\"><clipPath id=\"t3812df174f8e4c3889636e06657cd6d5\"><rect x=\"35.0\" y=\"35.0\" width=\"280.0\" height=\"230.0\"></rect></clipPath><g clip-path=\"url(#t3812df174f8e4c3889636e06657cd6d5)\"><g class=\"toytree-mark-Toytree\" id=\"t210f22dfdb964752b6cd1661c8b04ddb\"><g class=\"toytree-Edges\" style=\"fill:none;stroke:(0.55294118, 0.62745098, 0.79607843, 1.);stroke-linecap:round;stroke-width:2.5\"><path d=\"M 77.4 95.6 L 57.9 207.6\" id=\"11,0\" style=\"stroke-width:nan\"></path><path d=\"M 96.9 203.3 L 83.9 207.6\" id=\"10,1\" style=\"stroke-width:nan\"></path><path d=\"M 96.9 203.3 L 109.9 207.6\" id=\"10,2\" style=\"stroke-width:nan\"></path><path d=\"M 149.0 195.1 L 136.0 207.6\" id=\"12,3\" style=\"stroke-width:nan\"></path><path d=\"M 149.0 195.1 L 162.0 207.6\" id=\"12,4\" style=\"stroke-width:nan\"></path><path d=\"M 201.0 204.6 L 188.0 207.6\" id=\"13,5\" style=\"stroke-width:nan\"></path><path d=\"M 201.0 204.6 L 214.0 207.6\" id=\"13,6\" style=\"stroke-width:nan\"></path><path d=\"M 259.6 160.3 L 240.1 207.6\" id=\"16,7\" style=\"stroke-width:nan\"></path><path d=\"M 279.1 163.1 L 266.1 207.6\" id=\"15,8\" style=\"stroke-width:nan\"></path><path d=\"M 279.1 163.1 L 292.1 207.6\" id=\"15,9\" style=\"stroke-width:nan\"></path><path d=\"M 77.4 95.6 L 96.9 203.3\" id=\"11,10\" style=\"stroke-width:nan\"></path><path d=\"M 147.3 53.1 L 77.4 95.6\" id=\"18,11\" style=\"stroke-width:nan\"></path><path d=\"M 175.0 175.7 L 149.0 195.1\" id=\"14,12\" style=\"stroke-width:nan\"></path><path d=\"M 175.0 175.7 L 201.0 204.6\" id=\"14,13\" style=\"stroke-width:nan\"></path><path d=\"M 217.3 104.5 L 175.0 175.7\" id=\"17,14\" style=\"stroke-width:nan\"></path><path d=\"M 259.6 160.3 L 279.1 163.1\" id=\"16,15\" style=\"stroke-width:nan\"></path><path d=\"M 217.3 104.5 L 259.6 160.3\" id=\"17,16\" style=\"stroke-width:nan\"></path><path d=\"M 147.3 53.1 L 217.3 104.5\" id=\"18,17\" style=\"stroke-width:nan\"></path></g><g class=\"toytree-AlignEdges\" style=\"stroke:rgba(66.3%,66.3%,66.3%,1.000);stroke-dasharray:2,4;stroke-linecap:round;stroke-opacity:0.75;stroke-width:2\"><path d=\"M 57.9 207.6 L 57.9 207.6\"></path><path d=\"M 83.9 207.6 L 83.9 207.6\"></path><path d=\"M 109.9 207.6 L 109.9 207.6\"></path><path d=\"M 136.0 207.6 L 136.0 207.6\"></path><path d=\"M 162.0 207.6 L 162.0 207.6\"></path><path d=\"M 188.0 207.6 L 188.0 207.6\"></path><path d=\"M 214.0 207.6 L 214.0 207.6\"></path><path d=\"M 240.1 207.6 L 240.1 207.6\"></path><path d=\"M 266.1 207.6 L 266.1 207.6\"></path><path d=\"M 292.1 207.6 L 292.1 207.6\"></path></g><g class=\"toytree-Nodes\" style=\"fill:rgba(55.3%,62.7%,79.6%,1.000);stroke:#262626;stroke-width:1.0\"><g id=\"node-0\" transform=\"translate(57.871,207.595)\"><circle r=\"4.0\"></circle></g><g id=\"node-1\" transform=\"translate(83.900,207.595)\"><circle r=\"4.0\"></circle></g><g id=\"node-2\" transform=\"translate(109.928,207.595)\"><circle r=\"4.0\"></circle></g><g id=\"node-3\" transform=\"translate(135.957,207.595)\"><circle r=\"4.0\"></circle></g><g id=\"node-4\" transform=\"translate(161.986,207.595)\"><circle r=\"4.0\"></circle></g><g id=\"node-5\" transform=\"translate(188.014,207.595)\"><circle r=\"4.0\"></circle></g><g id=\"node-6\" transform=\"translate(214.043,207.595)\"><circle r=\"4.0\"></circle></g><g id=\"node-7\" transform=\"translate(240.072,207.595)\"><circle r=\"4.0\"></circle></g><g id=\"node-8\" transform=\"translate(266.100,207.595)\"><circle r=\"4.0\"></circle></g><g id=\"node-9\" transform=\"translate(292.129,207.595)\"><circle r=\"4.0\"></circle></g><g id=\"node-10\" transform=\"translate(96.914,203.303)\"><circle r=\"4.0\"></circle></g><g id=\"node-11\" transform=\"translate(77.393,95.577)\"><circle r=\"4.0\"></circle></g><g id=\"node-12\" transform=\"translate(148.971,195.076)\"><circle r=\"4.0\"></circle></g><g id=\"node-13\" transform=\"translate(201.029,204.604)\"><circle r=\"4.0\"></circle></g><g id=\"node-14\" transform=\"translate(175.000,175.738)\"><circle r=\"4.0\"></circle></g><g id=\"node-15\" transform=\"translate(279.115,163.078)\"><circle r=\"4.0\"></circle></g><g id=\"node-16\" transform=\"translate(259.593,160.327)\"><circle r=\"4.0\"></circle></g><g id=\"node-17\" transform=\"translate(217.297,104.538)\"><circle r=\"4.0\"></circle></g><g id=\"node-18\" transform=\"translate(147.345,53.090)\"><circle r=\"4.0\"></circle></g></g><g class=\"toytree-TipLabels\" style=\"fill:rgb(10.6%,62%,46.7%);fill-opacity:1.0;font-family:Helvetica;font-size:14.0px;font-weight:600;stroke:none;vertical-align:baseline;white-space:pre\"><g class=\"toytree-TipLabel\" transform=\"translate(57.87106446776612,207.59467268204503)rotate(90.0)\"><text x=\"15.0\" y=\"3.577\" style=\"\">r0</text></g><g class=\"toytree-TipLabel\" transform=\"translate(83.89971680826254,207.59467268204503)rotate(90.0)\"><text x=\"15.0\" y=\"3.577\" style=\"\">r1</text></g><g class=\"toytree-TipLabel\" transform=\"translate(109.92836914875896,207.59467268204503)rotate(90.0)\"><text x=\"15.0\" y=\"3.577\" style=\"\">r2</text></g><g class=\"toytree-TipLabel\" transform=\"translate(135.9570214892554,207.59467268204503)rotate(90.0)\"><text x=\"15.0\" y=\"3.577\" style=\"\">r3</text></g><g class=\"toytree-TipLabel\" transform=\"translate(161.98567382975182,207.59467268204503)rotate(90.0)\"><text x=\"15.0\" y=\"3.577\" style=\"\">r4</text></g><g class=\"toytree-TipLabel\" transform=\"translate(188.0143261702482,207.59467268204503)rotate(90.0)\"><text x=\"15.0\" y=\"3.577\" style=\"\">r5</text></g><g class=\"toytree-TipLabel\" transform=\"translate(214.04297851074463,207.59467268204503)rotate(90.0)\"><text x=\"15.0\" y=\"3.577\" style=\"\">r6</text></g><g class=\"toytree-TipLabel\" transform=\"translate(240.07163085124103,207.59467268204503)rotate(90.0)\"><text x=\"15.0\" y=\"3.577\" style=\"\">r7</text></g><g class=\"toytree-TipLabel\" transform=\"translate(266.1002831917375,207.59467268204503)rotate(90.0)\"><text x=\"15.0\" y=\"3.577\" style=\"\">r8</text></g><g class=\"toytree-TipLabel\" transform=\"translate(292.1289355322339,207.59467268204503)rotate(90.0)\"><text x=\"15.0\" y=\"3.577\" style=\"\">r9</text></g></g></g></g></g></svg><div class=\"toyplot-behavior\"><script>(function()\n",
       "{\n",
       "var modules={};\n",
       "})();</script></div></div>"
      ]
     },
     "metadata": {},
     "output_type": "display_data"
    }
   ],
   "source": [
    "# use your custom style dictionary in one or more tree drawings\n",
    "tree0.draw(height=300, **my_tree_style);"
   ]
  },
  {
   "cell_type": "markdown",
   "metadata": {},
   "source": [
    "All of the style options for a toytree drawing are stored as a dictionary, and can be viewed or exported in JSON format."
   ]
  },
  {
   "cell_type": "code",
   "execution_count": 102,
   "metadata": {},
   "outputs": [
    {
     "data": {
      "text/plain": [
       "{\n",
       "    \"tree_style\": null,\n",
       "    \"height\": null,\n",
       "    \"width\": null,\n",
       "    \"layout\": \"r\",\n",
       "    \"edge_type\": \"p\",\n",
       "    \"edge_colors\": null,\n",
       "    \"edge_widths\": null,\n",
       "    \"edge_style\": {\n",
       "        \"stroke\": \"rgba(16.1%,15.3%,14.1%,1.000)\",\n",
       "        \"stroke-width\": 2.0,\n",
       "        \"stroke-opacity\": null,\n",
       "        \"stroke-linecap\": \"round\",\n",
       "        \"stroke-dasharray\": null\n",
       "    },\n",
       "    \"edge_align_style\": {\n",
       "        \"stroke\": \"rgba(66.3%,66.3%,66.3%,1.000)\",\n",
       "        \"stroke-width\": 2,\n",
       "        \"stroke-opacity\": 0.75,\n",
       "        \"stroke-linecap\": \"round\",\n",
       "        \"stroke-dasharray\": \"2,4\"\n",
       "    },\n",
       "    \"node_mask\": null,\n",
       "    \"node_colors\": null,\n",
       "    \"node_sizes\": 0,\n",
       "    \"node_markers\": \"o\",\n",
       "    \"node_hover\": null,\n",
       "    \"node_style\": {\n",
       "        \"fill\": \"rgba(40.0%,76.1%,64.7%,1.000)\",\n",
       "        \"fill-opacity\": null,\n",
       "        \"stroke\": \"#262626\",\n",
       "        \"stroke-width\": 1.0\n",
       "    },\n",
       "    \"node_labels\": false,\n",
       "    \"node_labels_style\": {\n",
       "        \"fill\": \"rgba(16.1%,15.3%,14.1%,1.000)\",\n",
       "        \"font-size\": 9,\n",
       "        \"font-weight\": 300,\n",
       "        \"font-family\": \"Helvetica\",\n",
       "        \"-toyplot-anchor-shift\": 0,\n",
       "        \"baseline-shift\": 0,\n",
       "        \"text-anchor\": \"middle\"\n",
       "    },\n",
       "    \"tip_labels\": true,\n",
       "    \"tip_labels_colors\": null,\n",
       "    \"tip_labels_align\": false,\n",
       "    \"tip_labels_style\": {\n",
       "        \"fill\": \"rgba(16.1%,15.3%,14.1%,1.000)\",\n",
       "        \"fill-opacity\": null,\n",
       "        \"font-size\": 11,\n",
       "        \"font-weight\": 300,\n",
       "        \"font-family\": \"Helvetica\",\n",
       "        \"-toyplot-anchor-shift\": 15,\n",
       "        \"baseline-shift\": 0,\n",
       "        \"text-anchor\": \"start\"\n",
       "    },\n",
       "    \"tip_labels_angles\": null,\n",
       "    \"use_edge_lengths\": true,\n",
       "    \"scale_bar\": false,\n",
       "    \"padding\": 15,\n",
       "    \"xbaseline\": 0,\n",
       "    \"ybaseline\": 0,\n",
       "    \"admixture_edges\": null,\n",
       "    \"shrink\": 0\n",
       "}"
      ]
     },
     "execution_count": 102,
     "metadata": {},
     "output_type": "execute_result"
    }
   ],
   "source": [
    "# you can see all available style options from the .style dict\n",
    "tree0.style"
   ]
  },
  {
   "cell_type": "markdown",
   "metadata": {},
   "source": [
    "### Drawing trees: nodes\n",
    "Plotting node values on a tree is a useful way of representing additional information. Nodes represent ancestors or parents of descendant nodes. In toytree, Nodes are also used to store data for edges, since edges arise as a consequence of Node data (e.g., parent/child relationships). This was a purposeful design choice. Trees can be re-rooted to change the orientation of which Nodes are each others parents (see `toytree.mod` subpackage), and this similarly will update how Node data applies to edges. \n",
    "\n",
    "When plotting Node or edge data in a visualization, or using it for statistical analyses, it is important that the data align with the correct Nodes. This can be challenging if you do not know the order in which Nodes are indexed. For example, let's say you wanted to color each Node according to some categorical data that you measured for it. What would be the best way to enter this data? Not every Node has a uniquely assigned name, and there is not an obvious ordering for Nodes from root to tips.\n",
    "\n",
    "Toytree tries to make this process fool-proof. This is done first by assigning a unique integer index (`.idx`) to every Node in a ToyTree. These index labels are updated any time the topology changes. Second, toytree allows users to assign data directly to Node objects, and to extract data from the Nodes when plotting. Because the data is extracted directly from the tree there is no concern about accidentally messing up the order. One way to do this is using the convenience function `.get_node_data()` to extract one or more \"features\" from a tree. \n",
    "\n",
    "Another convenient way to explore data is to use the *interactive* visualization methods in toytree. This makes use fo the modern plotting architecture of toytree that can create an  interactive hover. This is made possible by the HTML+JS framework in which toytrees are displayed in jupyter notebooks, or web-pages. Try hovering your cursor over a Node in the drawing below."
   ]
  },
  {
   "cell_type": "code",
   "execution_count": 58,
   "metadata": {},
   "outputs": [
    {
     "data": {
      "text/html": [
       "<div class=\"toyplot\" id=\"tb45b062a9239454aa2f3f63aa07fdfb7\" style=\"text-align:center\"><svg class=\"toyplot-canvas-Canvas\" xmlns:toyplot=\"http://www.sandia.gov/toyplot\" xmlns:xlink=\"http://www.w3.org/1999/xlink\" xmlns=\"http://www.w3.org/2000/svg\" width=\"360.0px\" height=\"300.0px\" viewBox=\"0 0 360.0 300.0\" preserveAspectRatio=\"xMidYMid meet\" style=\"background-color:transparent;border-color:#292724;border-style:none;border-width:1.0;fill:rgb(16.1%,15.3%,14.1%);fill-opacity:1.0;font-family:Helvetica;font-size:12px;opacity:1.0;stroke:rgb(16.1%,15.3%,14.1%);stroke-opacity:1.0;stroke-width:1.0\" id=\"t994ae9c7fa9c4aba8b873b3a4fd3b978\"><g class=\"toyplot-coordinates-Cartesian\" id=\"t4b2eeac3e9d640f48c49c4cb9142c21a\"><clipPath id=\"t77c60f2eb4e849dea47683aa2f292969\"><rect x=\"35.0\" y=\"35.0\" width=\"290.0\" height=\"230.0\"></rect></clipPath><g clip-path=\"url(#t77c60f2eb4e849dea47683aa2f292969)\"><g class=\"toytree-mark-Toytree\" id=\"t67994e0c2fb14c599298d64fbf03fd3b\"><g class=\"toytree-Edges\" style=\"fill:none;stroke:rgba(16.1%,15.3%,14.1%,1.000);stroke-linecap:round;stroke-width:2.0\"><path d=\"M 124.3 236.0 L 124.3 243.8 L 134.7 243.8\" id=\"13,0\" style=\"stroke-width:nan\"></path><path d=\"M 124.3 236.0 L 124.3 228.2 L 134.2 228.2\" id=\"13,1\" style=\"stroke-width:nan\"></path><path d=\"M 145.9 194.5 L 145.9 212.5 L 168.5 212.5\" id=\"19,2\" style=\"stroke-width:nan\"></path><path d=\"M 150.0 176.4 L 150.0 196.9 L 176.2 196.9\" id=\"18,3\" style=\"stroke-width:nan\"></path><path d=\"M 162.1 173.5 L 162.1 181.3 L 175.5 181.3\" id=\"14,4\" style=\"stroke-width:nan\"></path><path d=\"M 162.1 173.5 L 162.1 165.6 L 175.7 165.6\" id=\"14,5\" style=\"stroke-width:nan\"></path><path d=\"M 156.1 138.3 L 156.1 150.0 L 179.4 150.0\" id=\"16,6\" style=\"stroke-width:nan\"></path><path d=\"M 180.8 126.5 L 180.8 134.4 L 184.7 134.4\" id=\"15,7\" style=\"stroke-width:nan\"></path><path d=\"M 180.8 126.5 L 180.8 118.7 L 185.2 118.7\" id=\"15,8\" style=\"stroke-width:nan\"></path><path d=\"M 145.8 95.3 L 145.8 103.1 L 171.2 103.1\" id=\"20,9\" style=\"stroke-width:nan\"></path><path d=\"M 145.8 95.3 L 145.8 87.5 L 172.6 87.5\" id=\"20,10\" style=\"stroke-width:nan\"></path><path d=\"M 173.9 64.0 L 173.9 71.8 L 174.3 71.8\" id=\"21,11\" style=\"stroke-width:nan\"></path><path d=\"M 173.9 64.0 L 173.9 56.2 L 174.1 56.2\" id=\"21,12\" style=\"stroke-width:nan\"></path><path d=\"M 52.6 186.5 L 52.6 236.0 L 124.3 236.0\" id=\"24,13\" style=\"stroke-width:nan\"></path><path d=\"M 153.2 155.9 L 153.2 173.5 L 162.1 173.5\" id=\"17,14\" style=\"stroke-width:nan\"></path><path d=\"M 156.1 138.3 L 156.1 126.5 L 180.8 126.5\" id=\"16,15\" style=\"stroke-width:nan\"></path><path d=\"M 153.2 155.9 L 153.2 138.3 L 156.1 138.3\" id=\"17,16\" style=\"stroke-width:nan\"></path><path d=\"M 150.0 176.4 L 150.0 155.9 L 153.2 155.9\" id=\"18,17\" style=\"stroke-width:nan\"></path><path d=\"M 145.9 194.5 L 145.9 176.4 L 150.0 176.4\" id=\"19,18\" style=\"stroke-width:nan\"></path><path d=\"M 124.3 137.1 L 124.3 194.5 L 145.9 194.5\" id=\"23,19\" style=\"stroke-width:nan\"></path><path d=\"M 136.3 79.6 L 136.3 95.3 L 145.8 95.3\" id=\"22,20\" style=\"stroke-width:nan\"></path><path d=\"M 136.3 79.6 L 136.3 64.0 L 173.9 64.0\" id=\"22,21\" style=\"stroke-width:nan\"></path><path d=\"M 124.3 137.1 L 124.3 79.6 L 136.3 79.6\" id=\"23,22\" style=\"stroke-width:nan\"></path><path d=\"M 52.6 186.5 L 52.6 137.1 L 124.3 137.1\" id=\"24,23\" style=\"stroke-width:nan\"></path></g><g class=\"toytree-Nodes\" style=\"fill:rgba(40.0%,76.1%,64.7%,1.000);stroke:#262626;stroke-width:1.0\"><g id=\"node-13\" transform=\"translate(124.339,235.991)\"><title>idx: 13\n",
       "dist: 0.01793711\n",
       "support: 100.0\n",
       "height: 0.01521075\n",
       "name: </title><circle r=\"5.0\"></circle></g><g id=\"node-14\" transform=\"translate(162.097,173.452)\"><title>idx: 14\n",
       "dist: 0.00223\n",
       "support: 100.0\n",
       "height: 0.00577636\n",
       "name: </title><circle r=\"5.0\"></circle></g><g id=\"node-15\" transform=\"translate(180.843,126.548)\"><title>idx: 15\n",
       "dist: 0.00617527\n",
       "support: 100.0\n",
       "height: 0.00109218\n",
       "name: </title><circle r=\"5.0\"></circle></g><g id=\"node-16\" transform=\"translate(156.129,138.274)\"><title>idx: 16\n",
       "dist: 0.0007389\n",
       "support: 96.0\n",
       "height: 0.00726746\n",
       "name: </title><circle r=\"5.0\"></circle></g><g id=\"node-17\" transform=\"translate(153.172,155.863)\"><title>idx: 17\n",
       "dist: 0.00078337\n",
       "support: 99.0\n",
       "height: 0.00800636\n",
       "name: </title><circle r=\"5.0\"></circle></g><g id=\"node-18\" transform=\"translate(150.037,176.384)\"><title>idx: 18\n",
       "dist: 0.0010338\n",
       "support: 100.0\n",
       "height: 0.00878972\n",
       "name: </title><circle r=\"5.0\"></circle></g><g id=\"node-19\" transform=\"translate(145.899,194.461)\"><title>idx: 19\n",
       "dist: 0.00538723\n",
       "support: 100.0\n",
       "height: 0.00982352\n",
       "name: </title><circle r=\"5.0\"></circle></g><g id=\"node-20\" transform=\"translate(145.775,95.278)\"><title>idx: 20\n",
       "dist: 0.00237995\n",
       "support: 100.0\n",
       "height: 0.00985454\n",
       "name: </title><circle r=\"5.0\"></circle></g><g id=\"node-21\" transform=\"translate(173.911,64.009)\"><title>idx: 21\n",
       "dist: 0.00941021\n",
       "support: 100.0\n",
       "height: 0.00282428\n",
       "name: </title><circle r=\"5.0\"></circle></g><g id=\"node-22\" transform=\"translate(136.250,79.644)\"><title>idx: 22\n",
       "dist: 0.00297626\n",
       "support: 100.0\n",
       "height: 0.01223449\n",
       "name: </title><circle r=\"5.0\"></circle></g><g id=\"node-23\" transform=\"translate(124.339,137.052)\"><title>idx: 23\n",
       "dist: 0.01793711\n",
       "support: 100.0\n",
       "height: 0.01521075\n",
       "name: </title><circle r=\"5.0\"></circle></g><g id=\"node-24\" transform=\"translate(52.551,186.522)\"><title>idx: 24\n",
       "dist: 0\n",
       "support: nan\n",
       "height: 0.03314786\n",
       "name: root</title><circle r=\"5.0\"></circle></g></g><g class=\"toytree-TipLabels\" style=\"fill:rgb(16.1%,15.3%,14.1%);fill-opacity:1.0;font-family:Helvetica;font-size:11.0px;font-weight:300;stroke:none;vertical-align:baseline;white-space:pre\"><g class=\"toytree-TipLabel\" transform=\"translate(134.7172487587117,243.80863039399622)\"><text x=\"15.0\" y=\"2.8104999999999993\" style=\"\">32082_przewalskii</text></g><g class=\"toytree-TipLabel\" transform=\"translate(134.22928911195586,228.1738586616635)\"><text x=\"15.0\" y=\"2.8104999999999993\" style=\"\">33588_przewalskii</text></g><g class=\"toytree-TipLabel\" transform=\"translate(168.52576983472238,212.5390869293308)\"><text x=\"15.0\" y=\"2.8104999999999993\" style=\"\">33413_thamno</text></g><g class=\"toytree-TipLabel\" transform=\"translate(176.17950336556459,196.9043151969981)\"><text x=\"15.0\" y=\"2.8104999999999993\" style=\"\">30556_thamno</text></g><g class=\"toytree-TipLabel\" transform=\"translate(175.52010928916962,181.2695434646654)\"><text x=\"15.0\" y=\"2.8104999999999993\" style=\"\">40578_rex</text></g><g class=\"toytree-TipLabel\" transform=\"translate(175.7024948304398,165.6347717323327)\"><text x=\"15.0\" y=\"2.8104999999999993\" style=\"\">35855_rex</text></g><g class=\"toytree-TipLabel\" transform=\"translate(179.36254930192993,149.99999999999997)\"><text x=\"15.0\" y=\"2.8104999999999993\" style=\"\">35236_rex</text></g><g class=\"toytree-TipLabel\" transform=\"translate(184.69386923798947,134.36522826766725)\"><text x=\"15.0\" y=\"2.8104999999999993\" style=\"\">39618_rex</text></g><g class=\"toytree-TipLabel\" transform=\"translate(185.21456405151517,118.73045653533457)\"><text x=\"15.0\" y=\"2.8104999999999993\" style=\"\">38362_rex</text></g><g class=\"toytree-TipLabel\" transform=\"translate(171.15825073296006,103.09568480300186)\"><text x=\"15.0\" y=\"2.8104999999999993\" style=\"\">29154_superba</text></g><g class=\"toytree-TipLabel\" transform=\"translate(172.58735163703207,87.46091307066914)\"><text x=\"15.0\" y=\"2.8104999999999993\" style=\"\">30686_cyathophylla</text></g><g class=\"toytree-TipLabel\" transform=\"translate(174.26702841234768,71.82614133833644)\"><text x=\"15.0\" y=\"2.8104999999999993\" style=\"\">41954_cyathophylloides</text></g><g class=\"toytree-TipLabel\" transform=\"translate(174.12271633885544,56.19136960600373)\"><text x=\"15.0\" y=\"2.8104999999999993\" style=\"\">41478_cyathophylloides</text></g></g></g></g></g></svg><div class=\"toyplot-behavior\"><script>(function()\n",
       "{\n",
       "var modules={};\n",
       "})();</script></div></div>"
      ]
     },
     "metadata": {},
     "output_type": "display_data"
    }
   ],
   "source": [
    "# hover over nodes to see pop-up elements showing the node index (idx)\n",
    "rtre.draw(height=300, node_hover=True, node_sizes=10);"
   ]
  },
  {
   "cell_type": "markdown",
   "metadata": {},
   "source": [
    "You can also create plots with all or some of the nodes shown, without or without node labels. The `node_mask` argument is a boolean mask to hide or show labels. Style arguments that can apply to nodes or tips (e.g., node_colors, node_sizes, etc) can accept either a single value, or a sequence of values in node idx order (nodes idx labels range from 0-nnodes). Below I show plots for setting `node_mask` to None (default), True, False, and a custom or random boolean mask. The function `.get_node_mask()` provides an easy way to generate masks to hide particular types of Nodes. You can see that `node_mask` hides only the tips in the first plot, all nodes in the second plot, no nodes in the third plot, all non-tip nodes in the fourth plot, and a random selection in the final plot."
   ]
  },
  {
   "cell_type": "code",
   "execution_count": 59,
   "metadata": {},
   "outputs": [
    {
     "data": {
      "text/html": [
       "<div class=\"toyplot\" id=\"t5db9891ffcd245959f378967a0f94dc3\" style=\"text-align:center\"><svg class=\"toyplot-canvas-Canvas\" xmlns:toyplot=\"http://www.sandia.gov/toyplot\" xmlns:xlink=\"http://www.w3.org/1999/xlink\" xmlns=\"http://www.w3.org/2000/svg\" width=\"700.0px\" height=\"250.0px\" viewBox=\"0 0 700.0 250.0\" preserveAspectRatio=\"xMidYMid meet\" style=\"background-color:transparent;border-color:#292724;border-style:none;border-width:1.0;fill:rgb(16.1%,15.3%,14.1%);fill-opacity:1.0;font-family:Helvetica;font-size:12px;opacity:1.0;stroke:rgb(16.1%,15.3%,14.1%);stroke-opacity:1.0;stroke-width:1.0\" id=\"t5045ae36c29441cba441a83deb20af5d\"><g class=\"toyplot-coordinates-Cartesian\" id=\"t9c196715d87140e386cb08435ac05869\"><clipPath id=\"te186564ca8ee45f4829aa3f6532bd7e6\"><rect x=\"20.0\" y=\"40.0\" width=\"120.0\" height=\"170.0\"></rect></clipPath><g clip-path=\"url(#te186564ca8ee45f4829aa3f6532bd7e6)\"><g class=\"toytree-mark-Toytree\" id=\"t0cae455a796e4372af83fa4038f7375e\"><g class=\"toytree-Edges\" style=\"fill:none;stroke:rgba(16.1%,15.3%,14.1%,1.000);stroke-linecap:round;stroke-width:2.0\"><path d=\"M 56.3 182.9 L 56.3 194.4 L 103.4 194.4\" id=\"11,0\" style=\"stroke-width:nan\"></path><path d=\"M 68.1 171.3 L 68.1 179.0 L 103.4 179.0\" id=\"10,1\" style=\"stroke-width:nan\"></path><path d=\"M 68.1 171.3 L 68.1 163.6 L 103.4 163.6\" id=\"10,2\" style=\"stroke-width:nan\"></path><path d=\"M 44.6 165.5 L 44.6 148.1 L 103.4 148.1\" id=\"12,3\" style=\"stroke-width:nan\"></path><path d=\"M 56.3 118.2 L 56.3 132.7 L 103.4 132.7\" id=\"16,4\" style=\"stroke-width:nan\"></path><path d=\"M 68.1 103.8 L 68.1 117.3 L 103.4 117.3\" id=\"15,5\" style=\"stroke-width:nan\"></path><path d=\"M 79.8 90.3 L 79.8 101.9 L 103.4 101.9\" id=\"14,6\" style=\"stroke-width:nan\"></path><path d=\"M 91.6 78.7 L 91.6 86.4 L 103.4 86.4\" id=\"13,7\" style=\"stroke-width:nan\"></path><path d=\"M 91.6 78.7 L 91.6 71.0 L 103.4 71.0\" id=\"13,8\" style=\"stroke-width:nan\"></path><path d=\"M 44.6 86.9 L 44.6 55.6 L 103.4 55.6\" id=\"17,9\" style=\"stroke-width:nan\"></path><path d=\"M 56.3 182.9 L 56.3 171.3 L 68.1 171.3\" id=\"11,10\" style=\"stroke-width:nan\"></path><path d=\"M 44.6 165.5 L 44.6 182.9 L 56.3 182.9\" id=\"12,11\" style=\"stroke-width:nan\"></path><path d=\"M 32.8 126.2 L 32.8 165.5 L 44.6 165.5\" id=\"18,12\" style=\"stroke-width:nan\"></path><path d=\"M 79.8 90.3 L 79.8 78.7 L 91.6 78.7\" id=\"14,13\" style=\"stroke-width:nan\"></path><path d=\"M 68.1 103.8 L 68.1 90.3 L 79.8 90.3\" id=\"15,14\" style=\"stroke-width:nan\"></path><path d=\"M 56.3 118.2 L 56.3 103.8 L 68.1 103.8\" id=\"16,15\" style=\"stroke-width:nan\"></path><path d=\"M 44.6 86.9 L 44.6 118.2 L 56.3 118.2\" id=\"17,16\" style=\"stroke-width:nan\"></path><path d=\"M 32.8 126.2 L 32.8 86.9 L 44.6 86.9\" id=\"18,17\" style=\"stroke-width:nan\"></path></g><g class=\"toytree-Nodes\" style=\"fill:rgba(40.0%,76.1%,64.7%,1.000);stroke:#262626;stroke-width:1.0\"><g id=\"node-10\" transform=\"translate(68.087,171.296)\"><circle r=\"4.0\"></circle></g><g id=\"node-11\" transform=\"translate(56.332,182.870)\"><circle r=\"4.0\"></circle></g><g id=\"node-12\" transform=\"translate(44.577,165.509)\"><circle r=\"4.0\"></circle></g><g id=\"node-13\" transform=\"translate(91.598,78.704)\"><circle r=\"4.0\"></circle></g><g id=\"node-14\" transform=\"translate(79.842,90.278)\"><circle r=\"4.0\"></circle></g><g id=\"node-15\" transform=\"translate(68.087,103.781)\"><circle r=\"4.0\"></circle></g><g id=\"node-16\" transform=\"translate(56.332,118.248)\"><circle r=\"4.0\"></circle></g><g id=\"node-17\" transform=\"translate(44.577,86.902)\"><circle r=\"4.0\"></circle></g><g id=\"node-18\" transform=\"translate(32.821,126.206)\"><circle r=\"4.0\"></circle></g></g><g class=\"toytree-TipLabels\" style=\"fill:rgb(16.1%,15.3%,14.1%);fill-opacity:1.0;font-family:Helvetica;font-size:10.0px;font-weight:300;stroke:none;vertical-align:baseline;white-space:pre\"><g class=\"toytree-TipLabel\" transform=\"translate(103.35308224009029,194.44444444444443)\"><text x=\"10.0\" y=\"2.5549999999999997\" style=\"\">r0</text></g><g class=\"toytree-TipLabel\" transform=\"translate(103.35308224009029,179.01234567901233)\"><text x=\"10.0\" y=\"2.5549999999999997\" style=\"\">r1</text></g><g class=\"toytree-TipLabel\" transform=\"translate(103.35308224009029,163.58024691358025)\"><text x=\"10.0\" y=\"2.5549999999999997\" style=\"\">r2</text></g><g class=\"toytree-TipLabel\" transform=\"translate(103.35308224009029,148.14814814814815)\"><text x=\"10.0\" y=\"2.5549999999999997\" style=\"\">r3</text></g><g class=\"toytree-TipLabel\" transform=\"translate(103.35308224009029,132.71604938271605)\"><text x=\"10.0\" y=\"2.5549999999999997\" style=\"\">r4</text></g><g class=\"toytree-TipLabel\" transform=\"translate(103.35308224009029,117.28395061728395)\"><text x=\"10.0\" y=\"2.5549999999999997\" style=\"\">r5</text></g><g class=\"toytree-TipLabel\" transform=\"translate(103.35308224009029,101.85185185185185)\"><text x=\"10.0\" y=\"2.5549999999999997\" style=\"\">r6</text></g><g class=\"toytree-TipLabel\" transform=\"translate(103.35308224009029,86.41975308641975)\"><text x=\"10.0\" y=\"2.5549999999999997\" style=\"\">r7</text></g><g class=\"toytree-TipLabel\" transform=\"translate(103.35308224009029,70.98765432098764)\"><text x=\"10.0\" y=\"2.5549999999999997\" style=\"\">r8</text></g><g class=\"toytree-TipLabel\" transform=\"translate(103.35308224009029,55.55555555555555)\"><text x=\"10.0\" y=\"2.5549999999999997\" style=\"\">r9</text></g></g></g></g></g><g class=\"toyplot-coordinates-Cartesian\" id=\"tbb232d3b5d904ad2985ac98c94ee3fde\"><clipPath id=\"te8e811405760409c96098a0469fd29d7\"><rect x=\"160.0\" y=\"40.0\" width=\"120.0\" height=\"170.0\"></rect></clipPath><g clip-path=\"url(#te8e811405760409c96098a0469fd29d7)\"><g class=\"toytree-mark-Toytree\" id=\"tf7ee66b962dd46bdb173522270121865\"><g class=\"toytree-Edges\" style=\"fill:none;stroke:rgba(16.1%,15.3%,14.1%,1.000);stroke-linecap:round;stroke-width:2.0\"><path d=\"M 196.3 182.9 L 196.3 194.4 L 243.4 194.4\" id=\"11,0\" style=\"stroke-width:nan\"></path><path d=\"M 208.1 171.3 L 208.1 179.0 L 243.4 179.0\" id=\"10,1\" style=\"stroke-width:nan\"></path><path d=\"M 208.1 171.3 L 208.1 163.6 L 243.4 163.6\" id=\"10,2\" style=\"stroke-width:nan\"></path><path d=\"M 184.6 165.5 L 184.6 148.1 L 243.4 148.1\" id=\"12,3\" style=\"stroke-width:nan\"></path><path d=\"M 196.3 118.2 L 196.3 132.7 L 243.4 132.7\" id=\"16,4\" style=\"stroke-width:nan\"></path><path d=\"M 208.1 103.8 L 208.1 117.3 L 243.4 117.3\" id=\"15,5\" style=\"stroke-width:nan\"></path><path d=\"M 219.8 90.3 L 219.8 101.9 L 243.4 101.9\" id=\"14,6\" style=\"stroke-width:nan\"></path><path d=\"M 231.6 78.7 L 231.6 86.4 L 243.4 86.4\" id=\"13,7\" style=\"stroke-width:nan\"></path><path d=\"M 231.6 78.7 L 231.6 71.0 L 243.4 71.0\" id=\"13,8\" style=\"stroke-width:nan\"></path><path d=\"M 184.6 86.9 L 184.6 55.6 L 243.4 55.6\" id=\"17,9\" style=\"stroke-width:nan\"></path><path d=\"M 196.3 182.9 L 196.3 171.3 L 208.1 171.3\" id=\"11,10\" style=\"stroke-width:nan\"></path><path d=\"M 184.6 165.5 L 184.6 182.9 L 196.3 182.9\" id=\"12,11\" style=\"stroke-width:nan\"></path><path d=\"M 172.8 126.2 L 172.8 165.5 L 184.6 165.5\" id=\"18,12\" style=\"stroke-width:nan\"></path><path d=\"M 219.8 90.3 L 219.8 78.7 L 231.6 78.7\" id=\"14,13\" style=\"stroke-width:nan\"></path><path d=\"M 208.1 103.8 L 208.1 90.3 L 219.8 90.3\" id=\"15,14\" style=\"stroke-width:nan\"></path><path d=\"M 196.3 118.2 L 196.3 103.8 L 208.1 103.8\" id=\"16,15\" style=\"stroke-width:nan\"></path><path d=\"M 184.6 86.9 L 184.6 118.2 L 196.3 118.2\" id=\"17,16\" style=\"stroke-width:nan\"></path><path d=\"M 172.8 126.2 L 172.8 86.9 L 184.6 86.9\" id=\"18,17\" style=\"stroke-width:nan\"></path></g><g class=\"toytree-TipLabels\" style=\"fill:rgb(16.1%,15.3%,14.1%);fill-opacity:1.0;font-family:Helvetica;font-size:10.0px;font-weight:300;stroke:none;vertical-align:baseline;white-space:pre\"><g class=\"toytree-TipLabel\" transform=\"translate(243.3530822400903,194.44444444444443)\"><text x=\"10.0\" y=\"2.5549999999999997\" style=\"\">r0</text></g><g class=\"toytree-TipLabel\" transform=\"translate(243.3530822400903,179.01234567901233)\"><text x=\"10.0\" y=\"2.5549999999999997\" style=\"\">r1</text></g><g class=\"toytree-TipLabel\" transform=\"translate(243.3530822400903,163.58024691358025)\"><text x=\"10.0\" y=\"2.5549999999999997\" style=\"\">r2</text></g><g class=\"toytree-TipLabel\" transform=\"translate(243.3530822400903,148.14814814814815)\"><text x=\"10.0\" y=\"2.5549999999999997\" style=\"\">r3</text></g><g class=\"toytree-TipLabel\" transform=\"translate(243.3530822400903,132.71604938271605)\"><text x=\"10.0\" y=\"2.5549999999999997\" style=\"\">r4</text></g><g class=\"toytree-TipLabel\" transform=\"translate(243.3530822400903,117.28395061728395)\"><text x=\"10.0\" y=\"2.5549999999999997\" style=\"\">r5</text></g><g class=\"toytree-TipLabel\" transform=\"translate(243.3530822400903,101.85185185185185)\"><text x=\"10.0\" y=\"2.5549999999999997\" style=\"\">r6</text></g><g class=\"toytree-TipLabel\" transform=\"translate(243.3530822400903,86.41975308641975)\"><text x=\"10.0\" y=\"2.5549999999999997\" style=\"\">r7</text></g><g class=\"toytree-TipLabel\" transform=\"translate(243.3530822400903,70.98765432098764)\"><text x=\"10.0\" y=\"2.5549999999999997\" style=\"\">r8</text></g><g class=\"toytree-TipLabel\" transform=\"translate(243.3530822400903,55.55555555555555)\"><text x=\"10.0\" y=\"2.5549999999999997\" style=\"\">r9</text></g></g></g></g></g><g class=\"toyplot-coordinates-Cartesian\" id=\"t04b609e260024290a2e5360fa31f4467\"><clipPath id=\"tdaf23ce7447d4173ba1fe4758558afc6\"><rect x=\"300.0\" y=\"40.0\" width=\"120.0\" height=\"170.0\"></rect></clipPath><g clip-path=\"url(#tdaf23ce7447d4173ba1fe4758558afc6)\"><g class=\"toytree-mark-Toytree\" id=\"tbbeec7d7afad4eac89c0999790a9318d\"><g class=\"toytree-Edges\" style=\"fill:none;stroke:rgba(16.1%,15.3%,14.1%,1.000);stroke-linecap:round;stroke-width:2.0\"><path d=\"M 336.3 182.9 L 336.3 194.4 L 383.4 194.4\" id=\"11,0\" style=\"stroke-width:nan\"></path><path d=\"M 348.1 171.3 L 348.1 179.0 L 383.4 179.0\" id=\"10,1\" style=\"stroke-width:nan\"></path><path d=\"M 348.1 171.3 L 348.1 163.6 L 383.4 163.6\" id=\"10,2\" style=\"stroke-width:nan\"></path><path d=\"M 324.6 165.5 L 324.6 148.1 L 383.4 148.1\" id=\"12,3\" style=\"stroke-width:nan\"></path><path d=\"M 336.3 118.2 L 336.3 132.7 L 383.4 132.7\" id=\"16,4\" style=\"stroke-width:nan\"></path><path d=\"M 348.1 103.8 L 348.1 117.3 L 383.4 117.3\" id=\"15,5\" style=\"stroke-width:nan\"></path><path d=\"M 359.8 90.3 L 359.8 101.9 L 383.4 101.9\" id=\"14,6\" style=\"stroke-width:nan\"></path><path d=\"M 371.6 78.7 L 371.6 86.4 L 383.4 86.4\" id=\"13,7\" style=\"stroke-width:nan\"></path><path d=\"M 371.6 78.7 L 371.6 71.0 L 383.4 71.0\" id=\"13,8\" style=\"stroke-width:nan\"></path><path d=\"M 324.6 86.9 L 324.6 55.6 L 383.4 55.6\" id=\"17,9\" style=\"stroke-width:nan\"></path><path d=\"M 336.3 182.9 L 336.3 171.3 L 348.1 171.3\" id=\"11,10\" style=\"stroke-width:nan\"></path><path d=\"M 324.6 165.5 L 324.6 182.9 L 336.3 182.9\" id=\"12,11\" style=\"stroke-width:nan\"></path><path d=\"M 312.8 126.2 L 312.8 165.5 L 324.6 165.5\" id=\"18,12\" style=\"stroke-width:nan\"></path><path d=\"M 359.8 90.3 L 359.8 78.7 L 371.6 78.7\" id=\"14,13\" style=\"stroke-width:nan\"></path><path d=\"M 348.1 103.8 L 348.1 90.3 L 359.8 90.3\" id=\"15,14\" style=\"stroke-width:nan\"></path><path d=\"M 336.3 118.2 L 336.3 103.8 L 348.1 103.8\" id=\"16,15\" style=\"stroke-width:nan\"></path><path d=\"M 324.6 86.9 L 324.6 118.2 L 336.3 118.2\" id=\"17,16\" style=\"stroke-width:nan\"></path><path d=\"M 312.8 126.2 L 312.8 86.9 L 324.6 86.9\" id=\"18,17\" style=\"stroke-width:nan\"></path></g><g class=\"toytree-Nodes\" style=\"fill:rgba(40.0%,76.1%,64.7%,1.000);stroke:#262626;stroke-width:1.0\"><g id=\"node-0\" transform=\"translate(383.353,194.444)\"><circle r=\"4.0\"></circle></g><g id=\"node-1\" transform=\"translate(383.353,179.012)\"><circle r=\"4.0\"></circle></g><g id=\"node-2\" transform=\"translate(383.353,163.580)\"><circle r=\"4.0\"></circle></g><g id=\"node-3\" transform=\"translate(383.353,148.148)\"><circle r=\"4.0\"></circle></g><g id=\"node-4\" transform=\"translate(383.353,132.716)\"><circle r=\"4.0\"></circle></g><g id=\"node-5\" transform=\"translate(383.353,117.284)\"><circle r=\"4.0\"></circle></g><g id=\"node-6\" transform=\"translate(383.353,101.852)\"><circle r=\"4.0\"></circle></g><g id=\"node-7\" transform=\"translate(383.353,86.420)\"><circle r=\"4.0\"></circle></g><g id=\"node-8\" transform=\"translate(383.353,70.988)\"><circle r=\"4.0\"></circle></g><g id=\"node-9\" transform=\"translate(383.353,55.556)\"><circle r=\"4.0\"></circle></g><g id=\"node-10\" transform=\"translate(348.087,171.296)\"><circle r=\"4.0\"></circle></g><g id=\"node-11\" transform=\"translate(336.332,182.870)\"><circle r=\"4.0\"></circle></g><g id=\"node-12\" transform=\"translate(324.577,165.509)\"><circle r=\"4.0\"></circle></g><g id=\"node-13\" transform=\"translate(371.598,78.704)\"><circle r=\"4.0\"></circle></g><g id=\"node-14\" transform=\"translate(359.842,90.278)\"><circle r=\"4.0\"></circle></g><g id=\"node-15\" transform=\"translate(348.087,103.781)\"><circle r=\"4.0\"></circle></g><g id=\"node-16\" transform=\"translate(336.332,118.248)\"><circle r=\"4.0\"></circle></g><g id=\"node-17\" transform=\"translate(324.577,86.902)\"><circle r=\"4.0\"></circle></g><g id=\"node-18\" transform=\"translate(312.821,126.206)\"><circle r=\"4.0\"></circle></g></g><g class=\"toytree-TipLabels\" style=\"fill:rgb(16.1%,15.3%,14.1%);fill-opacity:1.0;font-family:Helvetica;font-size:10.0px;font-weight:300;stroke:none;vertical-align:baseline;white-space:pre\"><g class=\"toytree-TipLabel\" transform=\"translate(383.3530822400903,194.44444444444443)\"><text x=\"10.0\" y=\"2.5549999999999997\" style=\"\">r0</text></g><g class=\"toytree-TipLabel\" transform=\"translate(383.3530822400903,179.01234567901233)\"><text x=\"10.0\" y=\"2.5549999999999997\" style=\"\">r1</text></g><g class=\"toytree-TipLabel\" transform=\"translate(383.3530822400903,163.58024691358025)\"><text x=\"10.0\" y=\"2.5549999999999997\" style=\"\">r2</text></g><g class=\"toytree-TipLabel\" transform=\"translate(383.3530822400903,148.14814814814815)\"><text x=\"10.0\" y=\"2.5549999999999997\" style=\"\">r3</text></g><g class=\"toytree-TipLabel\" transform=\"translate(383.3530822400903,132.71604938271605)\"><text x=\"10.0\" y=\"2.5549999999999997\" style=\"\">r4</text></g><g class=\"toytree-TipLabel\" transform=\"translate(383.3530822400903,117.28395061728395)\"><text x=\"10.0\" y=\"2.5549999999999997\" style=\"\">r5</text></g><g class=\"toytree-TipLabel\" transform=\"translate(383.3530822400903,101.85185185185185)\"><text x=\"10.0\" y=\"2.5549999999999997\" style=\"\">r6</text></g><g class=\"toytree-TipLabel\" transform=\"translate(383.3530822400903,86.41975308641975)\"><text x=\"10.0\" y=\"2.5549999999999997\" style=\"\">r7</text></g><g class=\"toytree-TipLabel\" transform=\"translate(383.3530822400903,70.98765432098764)\"><text x=\"10.0\" y=\"2.5549999999999997\" style=\"\">r8</text></g><g class=\"toytree-TipLabel\" transform=\"translate(383.3530822400903,55.55555555555555)\"><text x=\"10.0\" y=\"2.5549999999999997\" style=\"\">r9</text></g></g></g></g></g><g class=\"toyplot-coordinates-Cartesian\" id=\"tf770a18591004538a6445cf514fb4d77\"><clipPath id=\"t7db70ce381ae415cb16664d0be1039ab\"><rect x=\"440.0\" y=\"40.0\" width=\"120.0\" height=\"170.0\"></rect></clipPath><g clip-path=\"url(#t7db70ce381ae415cb16664d0be1039ab)\"><g class=\"toytree-mark-Toytree\" id=\"tb9dbc9107dc742fa9ae6951f28bd5dbc\"><g class=\"toytree-Edges\" style=\"fill:none;stroke:rgba(16.1%,15.3%,14.1%,1.000);stroke-linecap:round;stroke-width:2.0\"><path d=\"M 476.3 182.9 L 476.3 194.4 L 523.4 194.4\" id=\"11,0\" style=\"stroke-width:nan\"></path><path d=\"M 488.1 171.3 L 488.1 179.0 L 523.4 179.0\" id=\"10,1\" style=\"stroke-width:nan\"></path><path d=\"M 488.1 171.3 L 488.1 163.6 L 523.4 163.6\" id=\"10,2\" style=\"stroke-width:nan\"></path><path d=\"M 464.6 165.5 L 464.6 148.1 L 523.4 148.1\" id=\"12,3\" style=\"stroke-width:nan\"></path><path d=\"M 476.3 118.2 L 476.3 132.7 L 523.4 132.7\" id=\"16,4\" style=\"stroke-width:nan\"></path><path d=\"M 488.1 103.8 L 488.1 117.3 L 523.4 117.3\" id=\"15,5\" style=\"stroke-width:nan\"></path><path d=\"M 499.8 90.3 L 499.8 101.9 L 523.4 101.9\" id=\"14,6\" style=\"stroke-width:nan\"></path><path d=\"M 511.6 78.7 L 511.6 86.4 L 523.4 86.4\" id=\"13,7\" style=\"stroke-width:nan\"></path><path d=\"M 511.6 78.7 L 511.6 71.0 L 523.4 71.0\" id=\"13,8\" style=\"stroke-width:nan\"></path><path d=\"M 464.6 86.9 L 464.6 55.6 L 523.4 55.6\" id=\"17,9\" style=\"stroke-width:nan\"></path><path d=\"M 476.3 182.9 L 476.3 171.3 L 488.1 171.3\" id=\"11,10\" style=\"stroke-width:nan\"></path><path d=\"M 464.6 165.5 L 464.6 182.9 L 476.3 182.9\" id=\"12,11\" style=\"stroke-width:nan\"></path><path d=\"M 452.8 126.2 L 452.8 165.5 L 464.6 165.5\" id=\"18,12\" style=\"stroke-width:nan\"></path><path d=\"M 499.8 90.3 L 499.8 78.7 L 511.6 78.7\" id=\"14,13\" style=\"stroke-width:nan\"></path><path d=\"M 488.1 103.8 L 488.1 90.3 L 499.8 90.3\" id=\"15,14\" style=\"stroke-width:nan\"></path><path d=\"M 476.3 118.2 L 476.3 103.8 L 488.1 103.8\" id=\"16,15\" style=\"stroke-width:nan\"></path><path d=\"M 464.6 86.9 L 464.6 118.2 L 476.3 118.2\" id=\"17,16\" style=\"stroke-width:nan\"></path><path d=\"M 452.8 126.2 L 452.8 86.9 L 464.6 86.9\" id=\"18,17\" style=\"stroke-width:nan\"></path></g><g class=\"toytree-Nodes\" style=\"fill:rgba(40.0%,76.1%,64.7%,1.000);stroke:#262626;stroke-width:1.0\"><g id=\"node-0\" transform=\"translate(523.353,194.444)\"><circle r=\"4.0\"></circle></g><g id=\"node-1\" transform=\"translate(523.353,179.012)\"><circle r=\"4.0\"></circle></g><g id=\"node-2\" transform=\"translate(523.353,163.580)\"><circle r=\"4.0\"></circle></g><g id=\"node-3\" transform=\"translate(523.353,148.148)\"><circle r=\"4.0\"></circle></g><g id=\"node-4\" transform=\"translate(523.353,132.716)\"><circle r=\"4.0\"></circle></g><g id=\"node-5\" transform=\"translate(523.353,117.284)\"><circle r=\"4.0\"></circle></g><g id=\"node-6\" transform=\"translate(523.353,101.852)\"><circle r=\"4.0\"></circle></g><g id=\"node-7\" transform=\"translate(523.353,86.420)\"><circle r=\"4.0\"></circle></g><g id=\"node-8\" transform=\"translate(523.353,70.988)\"><circle r=\"4.0\"></circle></g><g id=\"node-9\" transform=\"translate(523.353,55.556)\"><circle r=\"4.0\"></circle></g></g><g class=\"toytree-TipLabels\" style=\"fill:rgb(16.1%,15.3%,14.1%);fill-opacity:1.0;font-family:Helvetica;font-size:10.0px;font-weight:300;stroke:none;vertical-align:baseline;white-space:pre\"><g class=\"toytree-TipLabel\" transform=\"translate(523.3530822400903,194.44444444444443)\"><text x=\"10.0\" y=\"2.5549999999999997\" style=\"\">r0</text></g><g class=\"toytree-TipLabel\" transform=\"translate(523.3530822400903,179.01234567901233)\"><text x=\"10.0\" y=\"2.5549999999999997\" style=\"\">r1</text></g><g class=\"toytree-TipLabel\" transform=\"translate(523.3530822400903,163.58024691358025)\"><text x=\"10.0\" y=\"2.5549999999999997\" style=\"\">r2</text></g><g class=\"toytree-TipLabel\" transform=\"translate(523.3530822400903,148.14814814814815)\"><text x=\"10.0\" y=\"2.5549999999999997\" style=\"\">r3</text></g><g class=\"toytree-TipLabel\" transform=\"translate(523.3530822400903,132.71604938271605)\"><text x=\"10.0\" y=\"2.5549999999999997\" style=\"\">r4</text></g><g class=\"toytree-TipLabel\" transform=\"translate(523.3530822400903,117.28395061728395)\"><text x=\"10.0\" y=\"2.5549999999999997\" style=\"\">r5</text></g><g class=\"toytree-TipLabel\" transform=\"translate(523.3530822400903,101.85185185185185)\"><text x=\"10.0\" y=\"2.5549999999999997\" style=\"\">r6</text></g><g class=\"toytree-TipLabel\" transform=\"translate(523.3530822400903,86.41975308641975)\"><text x=\"10.0\" y=\"2.5549999999999997\" style=\"\">r7</text></g><g class=\"toytree-TipLabel\" transform=\"translate(523.3530822400903,70.98765432098764)\"><text x=\"10.0\" y=\"2.5549999999999997\" style=\"\">r8</text></g><g class=\"toytree-TipLabel\" transform=\"translate(523.3530822400903,55.55555555555555)\"><text x=\"10.0\" y=\"2.5549999999999997\" style=\"\">r9</text></g></g></g></g></g><g class=\"toyplot-coordinates-Cartesian\" id=\"tf626f891a50a40be9f2fa12416f5937c\"><clipPath id=\"tce4271a47beb46ba8f368372195e7ec7\"><rect x=\"580.0\" y=\"40.0\" width=\"120.0\" height=\"170.0\"></rect></clipPath><g clip-path=\"url(#tce4271a47beb46ba8f368372195e7ec7)\"><g class=\"toytree-mark-Toytree\" id=\"tcc946c70ae7b45a9b45eb58ff57c48d0\"><g class=\"toytree-Edges\" style=\"fill:none;stroke:rgba(16.1%,15.3%,14.1%,1.000);stroke-linecap:round;stroke-width:2.0\"><path d=\"M 616.3 182.9 L 616.3 194.4 L 663.4 194.4\" id=\"11,0\" style=\"stroke-width:nan\"></path><path d=\"M 628.1 171.3 L 628.1 179.0 L 663.4 179.0\" id=\"10,1\" style=\"stroke-width:nan\"></path><path d=\"M 628.1 171.3 L 628.1 163.6 L 663.4 163.6\" id=\"10,2\" style=\"stroke-width:nan\"></path><path d=\"M 604.6 165.5 L 604.6 148.1 L 663.4 148.1\" id=\"12,3\" style=\"stroke-width:nan\"></path><path d=\"M 616.3 118.2 L 616.3 132.7 L 663.4 132.7\" id=\"16,4\" style=\"stroke-width:nan\"></path><path d=\"M 628.1 103.8 L 628.1 117.3 L 663.4 117.3\" id=\"15,5\" style=\"stroke-width:nan\"></path><path d=\"M 639.8 90.3 L 639.8 101.9 L 663.4 101.9\" id=\"14,6\" style=\"stroke-width:nan\"></path><path d=\"M 651.6 78.7 L 651.6 86.4 L 663.4 86.4\" id=\"13,7\" style=\"stroke-width:nan\"></path><path d=\"M 651.6 78.7 L 651.6 71.0 L 663.4 71.0\" id=\"13,8\" style=\"stroke-width:nan\"></path><path d=\"M 604.6 86.9 L 604.6 55.6 L 663.4 55.6\" id=\"17,9\" style=\"stroke-width:nan\"></path><path d=\"M 616.3 182.9 L 616.3 171.3 L 628.1 171.3\" id=\"11,10\" style=\"stroke-width:nan\"></path><path d=\"M 604.6 165.5 L 604.6 182.9 L 616.3 182.9\" id=\"12,11\" style=\"stroke-width:nan\"></path><path d=\"M 592.8 126.2 L 592.8 165.5 L 604.6 165.5\" id=\"18,12\" style=\"stroke-width:nan\"></path><path d=\"M 639.8 90.3 L 639.8 78.7 L 651.6 78.7\" id=\"14,13\" style=\"stroke-width:nan\"></path><path d=\"M 628.1 103.8 L 628.1 90.3 L 639.8 90.3\" id=\"15,14\" style=\"stroke-width:nan\"></path><path d=\"M 616.3 118.2 L 616.3 103.8 L 628.1 103.8\" id=\"16,15\" style=\"stroke-width:nan\"></path><path d=\"M 604.6 86.9 L 604.6 118.2 L 616.3 118.2\" id=\"17,16\" style=\"stroke-width:nan\"></path><path d=\"M 592.8 126.2 L 592.8 86.9 L 604.6 86.9\" id=\"18,17\" style=\"stroke-width:nan\"></path></g><g class=\"toytree-Nodes\" style=\"fill:rgba(40.0%,76.1%,64.7%,1.000);stroke:#262626;stroke-width:1.0\"><g id=\"node-0\" transform=\"translate(663.353,194.444)\"><circle r=\"4.0\"></circle></g><g id=\"node-3\" transform=\"translate(663.353,148.148)\"><circle r=\"4.0\"></circle></g><g id=\"node-4\" transform=\"translate(663.353,132.716)\"><circle r=\"4.0\"></circle></g><g id=\"node-5\" transform=\"translate(663.353,117.284)\"><circle r=\"4.0\"></circle></g><g id=\"node-7\" transform=\"translate(663.353,86.420)\"><circle r=\"4.0\"></circle></g><g id=\"node-9\" transform=\"translate(663.353,55.556)\"><circle r=\"4.0\"></circle></g><g id=\"node-11\" transform=\"translate(616.332,182.870)\"><circle r=\"4.0\"></circle></g><g id=\"node-12\" transform=\"translate(604.577,165.509)\"><circle r=\"4.0\"></circle></g><g id=\"node-14\" transform=\"translate(639.842,90.278)\"><circle r=\"4.0\"></circle></g><g id=\"node-16\" transform=\"translate(616.332,118.248)\"><circle r=\"4.0\"></circle></g><g id=\"node-17\" transform=\"translate(604.577,86.902)\"><circle r=\"4.0\"></circle></g><g id=\"node-18\" transform=\"translate(592.821,126.206)\"><circle r=\"4.0\"></circle></g></g><g class=\"toytree-TipLabels\" style=\"fill:rgb(16.1%,15.3%,14.1%);fill-opacity:1.0;font-family:Helvetica;font-size:10.0px;font-weight:300;stroke:none;vertical-align:baseline;white-space:pre\"><g class=\"toytree-TipLabel\" transform=\"translate(663.3530822400903,194.44444444444443)\"><text x=\"10.0\" y=\"2.5549999999999997\" style=\"\">r0</text></g><g class=\"toytree-TipLabel\" transform=\"translate(663.3530822400903,179.01234567901233)\"><text x=\"10.0\" y=\"2.5549999999999997\" style=\"\">r1</text></g><g class=\"toytree-TipLabel\" transform=\"translate(663.3530822400903,163.58024691358025)\"><text x=\"10.0\" y=\"2.5549999999999997\" style=\"\">r2</text></g><g class=\"toytree-TipLabel\" transform=\"translate(663.3530822400903,148.14814814814815)\"><text x=\"10.0\" y=\"2.5549999999999997\" style=\"\">r3</text></g><g class=\"toytree-TipLabel\" transform=\"translate(663.3530822400903,132.71604938271605)\"><text x=\"10.0\" y=\"2.5549999999999997\" style=\"\">r4</text></g><g class=\"toytree-TipLabel\" transform=\"translate(663.3530822400903,117.28395061728395)\"><text x=\"10.0\" y=\"2.5549999999999997\" style=\"\">r5</text></g><g class=\"toytree-TipLabel\" transform=\"translate(663.3530822400903,101.85185185185185)\"><text x=\"10.0\" y=\"2.5549999999999997\" style=\"\">r6</text></g><g class=\"toytree-TipLabel\" transform=\"translate(663.3530822400903,86.41975308641975)\"><text x=\"10.0\" y=\"2.5549999999999997\" style=\"\">r7</text></g><g class=\"toytree-TipLabel\" transform=\"translate(663.3530822400903,70.98765432098764)\"><text x=\"10.0\" y=\"2.5549999999999997\" style=\"\">r8</text></g><g class=\"toytree-TipLabel\" transform=\"translate(663.3530822400903,55.55555555555555)\"><text x=\"10.0\" y=\"2.5549999999999997\" style=\"\">r9</text></g></g></g></g></g></svg><div class=\"toyplot-behavior\"><script>(function()\n",
       "{\n",
       "var modules={};\n",
       "})();</script></div></div>"
      ]
     },
     "metadata": {},
     "output_type": "display_data"
    }
   ],
   "source": [
    "# You can do the same without printing the 'idx' label on nodes.\n",
    "tre = toytree.rtree.unittree(10, seed=333)\n",
    "tre.style.node_sizes = 8\n",
    "\n",
    "# make several copies of the tree\n",
    "trees = [tre.copy() for i in range(5)]\n",
    "\n",
    "# set a different node mask to each tree\n",
    "trees[0].style.node_mask = None\n",
    "trees[1].style.node_mask = True\n",
    "trees[2].style.node_mask = False\n",
    "trees[3].style.node_mask = trees[3].get_node_mask(tips=False, internal=True, root=True)\n",
    "trees[4].style.node_mask = np.random.choice([True, False], size=tre.nnodes)\n",
    "\n",
    "# use Multitree object to easily plot all four trees\n",
    "toytree.mtree(trees).draw(shape=(1, 5), width=700);"
   ]
  },
  {
   "cell_type": "markdown",
   "metadata": {},
   "source": [
    "### Node mapping\n",
    "In addition to plotting color shapes on node vertices, you can also add text labels indicating values such as node names, idx labels, support values, etc. The 'idx' label is a unique identifier given to every node in a ToyTree. \n",
    "\n",
    "As an additional convenience, you can enter the name of a feature that exists for one or more Nodes (e.g., idx, name, support, or a custom feature that you created) and the values will be extracted from the ToyTree object. The example below demonstrates this where 'idx' indicates to extract `idx` labels from the nodes. "
   ]
  },
  {
   "cell_type": "code",
   "execution_count": 60,
   "metadata": {
    "scrolled": false
   },
   "outputs": [
    {
     "data": {
      "text/html": [
       "<div class=\"toyplot\" id=\"tcce6458aac45400db8f9faa79ba6b7c2\" style=\"text-align:center\"><svg class=\"toyplot-canvas-Canvas\" xmlns:toyplot=\"http://www.sandia.gov/toyplot\" xmlns:xlink=\"http://www.w3.org/1999/xlink\" xmlns=\"http://www.w3.org/2000/svg\" width=\"260.0px\" height=\"275.0px\" viewBox=\"0 0 260.0 275.0\" preserveAspectRatio=\"xMidYMid meet\" style=\"background-color:transparent;border-color:#292724;border-style:none;border-width:1.0;fill:rgb(16.1%,15.3%,14.1%);fill-opacity:1.0;font-family:Helvetica;font-size:12px;opacity:1.0;stroke:rgb(16.1%,15.3%,14.1%);stroke-opacity:1.0;stroke-width:1.0\" id=\"t9cf8bf52d2df4760b47a6e8c7df21f83\"><g class=\"toyplot-coordinates-Cartesian\" id=\"t090d02911c7f48c5bd2a13b6d46b30ec\"><clipPath id=\"t248089cf844f46b393d355623d5b433d\"><rect x=\"35.0\" y=\"35.0\" width=\"190.0\" height=\"205.0\"></rect></clipPath><g clip-path=\"url(#t248089cf844f46b393d355623d5b433d)\"><g class=\"toytree-mark-Toytree\" id=\"t39ce757478ec489eb8fdb35240f303bd\"><g class=\"toytree-Edges\" style=\"fill:none;stroke:rgba(16.1%,15.3%,14.1%,1.000);stroke-linecap:round;stroke-width:2.0\"><path d=\"M 94.8 204.7 L 94.8 218.1 L 173.5 218.1\" id=\"11,0\" style=\"stroke-width:nan\"></path><path d=\"M 114.5 191.2 L 114.5 200.2 L 173.5 200.2\" id=\"10,1\" style=\"stroke-width:nan\"></path><path d=\"M 114.5 191.2 L 114.5 182.3 L 173.5 182.3\" id=\"10,2\" style=\"stroke-width:nan\"></path><path d=\"M 75.2 184.5 L 75.2 164.4 L 173.5 164.4\" id=\"12,3\" style=\"stroke-width:nan\"></path><path d=\"M 94.8 129.7 L 94.8 146.5 L 173.5 146.5\" id=\"16,4\" style=\"stroke-width:nan\"></path><path d=\"M 114.5 112.9 L 114.5 128.5 L 173.5 128.5\" id=\"15,5\" style=\"stroke-width:nan\"></path><path d=\"M 134.2 97.2 L 134.2 110.6 L 173.5 110.6\" id=\"14,6\" style=\"stroke-width:nan\"></path><path d=\"M 153.8 83.8 L 153.8 92.7 L 173.5 92.7\" id=\"13,7\" style=\"stroke-width:nan\"></path><path d=\"M 153.8 83.8 L 153.8 74.8 L 173.5 74.8\" id=\"13,8\" style=\"stroke-width:nan\"></path><path d=\"M 75.2 93.3 L 75.2 56.9 L 173.5 56.9\" id=\"17,9\" style=\"stroke-width:nan\"></path><path d=\"M 94.8 204.7 L 94.8 191.2 L 114.5 191.2\" id=\"11,10\" style=\"stroke-width:nan\"></path><path d=\"M 75.2 184.5 L 75.2 204.7 L 94.8 204.7\" id=\"12,11\" style=\"stroke-width:nan\"></path><path d=\"M 55.5 138.9 L 55.5 184.5 L 75.2 184.5\" id=\"18,12\" style=\"stroke-width:nan\"></path><path d=\"M 134.2 97.2 L 134.2 83.8 L 153.8 83.8\" id=\"14,13\" style=\"stroke-width:nan\"></path><path d=\"M 114.5 112.9 L 114.5 97.2 L 134.2 97.2\" id=\"15,14\" style=\"stroke-width:nan\"></path><path d=\"M 94.8 129.7 L 94.8 112.9 L 114.5 112.9\" id=\"16,15\" style=\"stroke-width:nan\"></path><path d=\"M 75.2 93.3 L 75.2 129.7 L 94.8 129.7\" id=\"17,16\" style=\"stroke-width:nan\"></path><path d=\"M 55.5 138.9 L 55.5 93.3 L 75.2 93.3\" id=\"18,17\" style=\"stroke-width:nan\"></path></g><g class=\"toytree-Nodes\" style=\"fill:rgba(40.0%,76.1%,64.7%,1.000);stroke:#262626;stroke-width:1.0\"><g id=\"node-10\" transform=\"translate(114.499,191.228)\"><circle r=\"7.5\"></circle></g><g id=\"node-11\" transform=\"translate(94.842,204.660)\"><circle r=\"7.5\"></circle></g><g id=\"node-12\" transform=\"translate(75.185,184.512)\"><circle r=\"7.5\"></circle></g><g id=\"node-13\" transform=\"translate(153.812,83.772)\"><circle r=\"7.5\"></circle></g><g id=\"node-14\" transform=\"translate(134.156,97.204)\"><circle r=\"7.5\"></circle></g><g id=\"node-15\" transform=\"translate(114.499,112.875)\"><circle r=\"7.5\"></circle></g><g id=\"node-16\" transform=\"translate(94.842,129.665)\"><circle r=\"7.5\"></circle></g><g id=\"node-17\" transform=\"translate(75.185,93.286)\"><circle r=\"7.5\"></circle></g><g id=\"node-18\" transform=\"translate(55.528,138.899)\"><circle r=\"7.5\"></circle></g></g><g class=\"toytree-NodeLabels\" style=\"font-family:Helvetica;font-size:9.0px;font-weight:300;stroke:none;vertical-align:baseline;white-space:pre\"><g class=\"toytree-NodeLabel\" transform=\"translate(114.49888969768449,191.2280701754386)\"><text x=\"-5.0040000000000004\" y=\"2.2995\" style=\"fill:rgb(16.1%,15.3%,14.1%);fill-opacity:1.0\">10</text></g><g class=\"toytree-NodeLabel\" transform=\"translate(94.84208521839017,204.66008771929825)\"><text x=\"-5.0040000000000004\" y=\"2.2995\" style=\"fill:rgb(16.1%,15.3%,14.1%);fill-opacity:1.0\">11</text></g><g class=\"toytree-NodeLabel\" transform=\"translate(75.18528073909586,184.5120614035088)\"><text x=\"-5.0040000000000004\" y=\"2.2995\" style=\"fill:rgb(16.1%,15.3%,14.1%);fill-opacity:1.0\">12</text></g><g class=\"toytree-NodeLabel\" transform=\"translate(153.81249865627314,83.77192982456141)\"><text x=\"-5.0040000000000004\" y=\"2.2995\" style=\"fill:rgb(16.1%,15.3%,14.1%);fill-opacity:1.0\">13</text></g><g class=\"toytree-NodeLabel\" transform=\"translate(134.1556941769788,97.20394736842105)\"><text x=\"-5.0040000000000004\" y=\"2.2995\" style=\"fill:rgb(16.1%,15.3%,14.1%);fill-opacity:1.0\">14</text></g><g class=\"toytree-NodeLabel\" transform=\"translate(114.49888969768449,112.87463450292398)\"><text x=\"-5.0040000000000004\" y=\"2.2995\" style=\"fill:rgb(16.1%,15.3%,14.1%);fill-opacity:1.0\">15</text></g><g class=\"toytree-NodeLabel\" transform=\"translate(94.84208521839017,129.66465643274853)\"><text x=\"-5.0040000000000004\" y=\"2.2995\" style=\"fill:rgb(16.1%,15.3%,14.1%);fill-opacity:1.0\">16</text></g><g class=\"toytree-NodeLabel\" transform=\"translate(75.18528073909586,93.28627558479533)\"><text x=\"-5.0040000000000004\" y=\"2.2995\" style=\"fill:rgb(16.1%,15.3%,14.1%);fill-opacity:1.0\">17</text></g><g class=\"toytree-NodeLabel\" transform=\"translate(55.52847625980153,138.89916849415204)\"><text x=\"-5.0040000000000004\" y=\"2.2995\" style=\"fill:rgb(16.1%,15.3%,14.1%);fill-opacity:1.0\">18</text></g></g><g class=\"toytree-TipLabels\" style=\"fill:rgb(16.1%,15.3%,14.1%);fill-opacity:1.0;font-family:Helvetica;font-size:11.0px;font-weight:300;stroke:none;vertical-align:baseline;white-space:pre\"><g class=\"toytree-TipLabel\" transform=\"translate(173.46930313556743,218.09210526315792)\"><text x=\"15.0\" y=\"2.8104999999999993\" style=\"\">r0</text></g><g class=\"toytree-TipLabel\" transform=\"translate(173.46930313556743,200.18274853801168)\"><text x=\"15.0\" y=\"2.8104999999999993\" style=\"\">r1</text></g><g class=\"toytree-TipLabel\" transform=\"translate(173.46930313556743,182.2733918128655)\"><text x=\"15.0\" y=\"2.8104999999999993\" style=\"\">r2</text></g><g class=\"toytree-TipLabel\" transform=\"translate(173.46930313556743,164.3640350877193)\"><text x=\"15.0\" y=\"2.8104999999999993\" style=\"\">r3</text></g><g class=\"toytree-TipLabel\" transform=\"translate(173.46930313556743,146.4546783625731)\"><text x=\"15.0\" y=\"2.8104999999999993\" style=\"\">r4</text></g><g class=\"toytree-TipLabel\" transform=\"translate(173.46930313556743,128.5453216374269)\"><text x=\"15.0\" y=\"2.8104999999999993\" style=\"\">r5</text></g><g class=\"toytree-TipLabel\" transform=\"translate(173.46930313556743,110.6359649122807)\"><text x=\"15.0\" y=\"2.8104999999999993\" style=\"\">r6</text></g><g class=\"toytree-TipLabel\" transform=\"translate(173.46930313556743,92.7266081871345)\"><text x=\"15.0\" y=\"2.8104999999999993\" style=\"\">r7</text></g><g class=\"toytree-TipLabel\" transform=\"translate(173.46930313556743,74.8172514619883)\"><text x=\"15.0\" y=\"2.8104999999999993\" style=\"\">r8</text></g><g class=\"toytree-TipLabel\" transform=\"translate(173.46930313556743,56.90789473684211)\"><text x=\"15.0\" y=\"2.8104999999999993\" style=\"\">r9</text></g></g></g></g></g></svg><div class=\"toyplot-behavior\"><script>(function()\n",
       "{\n",
       "var modules={};\n",
       "})();</script></div></div>"
      ]
     },
     "metadata": {},
     "output_type": "display_data"
    },
    {
     "data": {
      "text/html": [
       "<div class=\"toyplot\" id=\"tf9c1d4667eba430a9008f695fb79b386\" style=\"text-align:center\"><svg class=\"toyplot-canvas-Canvas\" xmlns:toyplot=\"http://www.sandia.gov/toyplot\" xmlns:xlink=\"http://www.w3.org/1999/xlink\" xmlns=\"http://www.w3.org/2000/svg\" width=\"260.0px\" height=\"275.0px\" viewBox=\"0 0 260.0 275.0\" preserveAspectRatio=\"xMidYMid meet\" style=\"background-color:transparent;border-color:#292724;border-style:none;border-width:1.0;fill:rgb(16.1%,15.3%,14.1%);fill-opacity:1.0;font-family:Helvetica;font-size:12px;opacity:1.0;stroke:rgb(16.1%,15.3%,14.1%);stroke-opacity:1.0;stroke-width:1.0\" id=\"tea501106ae8c44cc82cc833fe775a231\"><g class=\"toyplot-coordinates-Cartesian\" id=\"t1ea119e10fbf4348b14a99ebf031af8c\"><clipPath id=\"t9255c398b6884901b226d3dc621b1fb0\"><rect x=\"35.0\" y=\"35.0\" width=\"190.0\" height=\"205.0\"></rect></clipPath><g clip-path=\"url(#t9255c398b6884901b226d3dc621b1fb0)\"><g class=\"toytree-mark-Toytree\" id=\"t39c1ce107e5c4cf8b7d09bb35605168e\"><g class=\"toytree-Edges\" style=\"fill:none;stroke:rgba(16.1%,15.3%,14.1%,1.000);stroke-linecap:round;stroke-width:2.0\"><path d=\"M 94.8 204.7 L 94.8 218.1 L 173.5 218.1\" id=\"11,0\" style=\"stroke-width:nan\"></path><path d=\"M 114.5 191.2 L 114.5 200.2 L 173.5 200.2\" id=\"10,1\" style=\"stroke-width:nan\"></path><path d=\"M 114.5 191.2 L 114.5 182.3 L 173.5 182.3\" id=\"10,2\" style=\"stroke-width:nan\"></path><path d=\"M 75.2 184.5 L 75.2 164.4 L 173.5 164.4\" id=\"12,3\" style=\"stroke-width:nan\"></path><path d=\"M 94.8 129.7 L 94.8 146.5 L 173.5 146.5\" id=\"16,4\" style=\"stroke-width:nan\"></path><path d=\"M 114.5 112.9 L 114.5 128.5 L 173.5 128.5\" id=\"15,5\" style=\"stroke-width:nan\"></path><path d=\"M 134.2 97.2 L 134.2 110.6 L 173.5 110.6\" id=\"14,6\" style=\"stroke-width:nan\"></path><path d=\"M 153.8 83.8 L 153.8 92.7 L 173.5 92.7\" id=\"13,7\" style=\"stroke-width:nan\"></path><path d=\"M 153.8 83.8 L 153.8 74.8 L 173.5 74.8\" id=\"13,8\" style=\"stroke-width:nan\"></path><path d=\"M 75.2 93.3 L 75.2 56.9 L 173.5 56.9\" id=\"17,9\" style=\"stroke-width:nan\"></path><path d=\"M 94.8 204.7 L 94.8 191.2 L 114.5 191.2\" id=\"11,10\" style=\"stroke-width:nan\"></path><path d=\"M 75.2 184.5 L 75.2 204.7 L 94.8 204.7\" id=\"12,11\" style=\"stroke-width:nan\"></path><path d=\"M 55.5 138.9 L 55.5 184.5 L 75.2 184.5\" id=\"18,12\" style=\"stroke-width:nan\"></path><path d=\"M 134.2 97.2 L 134.2 83.8 L 153.8 83.8\" id=\"14,13\" style=\"stroke-width:nan\"></path><path d=\"M 114.5 112.9 L 114.5 97.2 L 134.2 97.2\" id=\"15,14\" style=\"stroke-width:nan\"></path><path d=\"M 94.8 129.7 L 94.8 112.9 L 114.5 112.9\" id=\"16,15\" style=\"stroke-width:nan\"></path><path d=\"M 75.2 93.3 L 75.2 129.7 L 94.8 129.7\" id=\"17,16\" style=\"stroke-width:nan\"></path><path d=\"M 55.5 138.9 L 55.5 93.3 L 75.2 93.3\" id=\"18,17\" style=\"stroke-width:nan\"></path></g><g class=\"toytree-Nodes\" style=\"fill:rgba(40.0%,76.1%,64.7%,1.000);stroke:#262626;stroke-width:1.0\"><g id=\"node-10\" transform=\"translate(114.499,191.228)\"><circle r=\"7.5\"></circle></g><g id=\"node-11\" transform=\"translate(94.842,204.660)\"><circle r=\"7.5\"></circle></g><g id=\"node-12\" transform=\"translate(75.185,184.512)\"><circle r=\"7.5\"></circle></g><g id=\"node-13\" transform=\"translate(153.812,83.772)\"><circle r=\"7.5\"></circle></g><g id=\"node-14\" transform=\"translate(134.156,97.204)\"><circle r=\"7.5\"></circle></g><g id=\"node-15\" transform=\"translate(114.499,112.875)\"><circle r=\"7.5\"></circle></g><g id=\"node-16\" transform=\"translate(94.842,129.665)\"><circle r=\"7.5\"></circle></g><g id=\"node-17\" transform=\"translate(75.185,93.286)\"><circle r=\"7.5\"></circle></g><g id=\"node-18\" transform=\"translate(55.528,138.899)\"><circle r=\"7.5\"></circle></g></g><g class=\"toytree-NodeLabels\" style=\"font-family:Helvetica;font-size:9.0px;font-weight:300;stroke:none;vertical-align:baseline;white-space:pre\"><g class=\"toytree-NodeLabel\" transform=\"translate(114.49888969768449,191.2280701754386)\"><text x=\"-5.0040000000000004\" y=\"2.2995\" style=\"fill:rgb(16.1%,15.3%,14.1%);fill-opacity:1.0\">10</text></g><g class=\"toytree-NodeLabel\" transform=\"translate(94.84208521839017,204.66008771929825)\"><text x=\"-5.0040000000000004\" y=\"2.2995\" style=\"fill:rgb(16.1%,15.3%,14.1%);fill-opacity:1.0\">11</text></g><g class=\"toytree-NodeLabel\" transform=\"translate(75.18528073909586,184.5120614035088)\"><text x=\"-5.0040000000000004\" y=\"2.2995\" style=\"fill:rgb(16.1%,15.3%,14.1%);fill-opacity:1.0\">12</text></g><g class=\"toytree-NodeLabel\" transform=\"translate(153.81249865627314,83.77192982456141)\"><text x=\"-5.0040000000000004\" y=\"2.2995\" style=\"fill:rgb(16.1%,15.3%,14.1%);fill-opacity:1.0\">13</text></g><g class=\"toytree-NodeLabel\" transform=\"translate(134.1556941769788,97.20394736842105)\"><text x=\"-5.0040000000000004\" y=\"2.2995\" style=\"fill:rgb(16.1%,15.3%,14.1%);fill-opacity:1.0\">14</text></g><g class=\"toytree-NodeLabel\" transform=\"translate(114.49888969768449,112.87463450292398)\"><text x=\"-5.0040000000000004\" y=\"2.2995\" style=\"fill:rgb(16.1%,15.3%,14.1%);fill-opacity:1.0\">15</text></g><g class=\"toytree-NodeLabel\" transform=\"translate(94.84208521839017,129.66465643274853)\"><text x=\"-5.0040000000000004\" y=\"2.2995\" style=\"fill:rgb(16.1%,15.3%,14.1%);fill-opacity:1.0\">16</text></g><g class=\"toytree-NodeLabel\" transform=\"translate(75.18528073909586,93.28627558479533)\"><text x=\"-5.0040000000000004\" y=\"2.2995\" style=\"fill:rgb(16.1%,15.3%,14.1%);fill-opacity:1.0\">17</text></g><g class=\"toytree-NodeLabel\" transform=\"translate(55.52847625980153,138.89916849415204)\"><text x=\"-5.0040000000000004\" y=\"2.2995\" style=\"fill:rgb(16.1%,15.3%,14.1%);fill-opacity:1.0\">18</text></g></g><g class=\"toytree-TipLabels\" style=\"fill:rgb(16.1%,15.3%,14.1%);fill-opacity:1.0;font-family:Helvetica;font-size:11.0px;font-weight:300;stroke:none;vertical-align:baseline;white-space:pre\"><g class=\"toytree-TipLabel\" transform=\"translate(173.46930313556743,218.09210526315792)\"><text x=\"15.0\" y=\"2.8104999999999993\" style=\"\">r0</text></g><g class=\"toytree-TipLabel\" transform=\"translate(173.46930313556743,200.18274853801168)\"><text x=\"15.0\" y=\"2.8104999999999993\" style=\"\">r1</text></g><g class=\"toytree-TipLabel\" transform=\"translate(173.46930313556743,182.2733918128655)\"><text x=\"15.0\" y=\"2.8104999999999993\" style=\"\">r2</text></g><g class=\"toytree-TipLabel\" transform=\"translate(173.46930313556743,164.3640350877193)\"><text x=\"15.0\" y=\"2.8104999999999993\" style=\"\">r3</text></g><g class=\"toytree-TipLabel\" transform=\"translate(173.46930313556743,146.4546783625731)\"><text x=\"15.0\" y=\"2.8104999999999993\" style=\"\">r4</text></g><g class=\"toytree-TipLabel\" transform=\"translate(173.46930313556743,128.5453216374269)\"><text x=\"15.0\" y=\"2.8104999999999993\" style=\"\">r5</text></g><g class=\"toytree-TipLabel\" transform=\"translate(173.46930313556743,110.6359649122807)\"><text x=\"15.0\" y=\"2.8104999999999993\" style=\"\">r6</text></g><g class=\"toytree-TipLabel\" transform=\"translate(173.46930313556743,92.7266081871345)\"><text x=\"15.0\" y=\"2.8104999999999993\" style=\"\">r7</text></g><g class=\"toytree-TipLabel\" transform=\"translate(173.46930313556743,74.8172514619883)\"><text x=\"15.0\" y=\"2.8104999999999993\" style=\"\">r8</text></g><g class=\"toytree-TipLabel\" transform=\"translate(173.46930313556743,56.90789473684211)\"><text x=\"15.0\" y=\"2.8104999999999993\" style=\"\">r9</text></g></g></g></g></g></svg><div class=\"toyplot-behavior\"><script>(function()\n",
       "{\n",
       "var modules={};\n",
       "})();</script></div></div>"
      ]
     },
     "metadata": {},
     "output_type": "display_data"
    }
   ],
   "source": [
    "# extract idx labels from the 'tre' object\n",
    "tre.draw(node_labels=tre.get_node_data(\"idx\"), node_sizes=15);\n",
    "\n",
    "# or, use a simpler syntax to do the same thing\n",
    "tre.draw(node_labels='idx', node_sizes=15);"
   ]
  },
  {
   "cell_type": "markdown",
   "metadata": {},
   "source": [
    "You can create or modify features on nodes using the `set_node_data` function. See the section on working with data for more details. Here we assign a random integer support value as a feature called 'support' to every node by providing a dictionary mapping node idx labels to the new values. We can then fetch the data using the `get_node_data` function of the tree. Note that the `set_node_data` function *returns a copy* of the tree on which it is called. In other words, it does not change the ToyTree object in-place unless specified using an optional argument. This is a purposeful design decision. Below I name the returned tree instance variable *stre*, which contains the modified support values, while the original tree, *tre*, did not have its values modified."
   ]
  },
  {
   "cell_type": "code",
   "execution_count": 74,
   "metadata": {},
   "outputs": [],
   "source": [
    "# set new feature values (data) on nodes\n",
    "stre = tre.set_node_data(\n",
    "    feature=\"support\",\n",
    "    mapping={idx: np.random.randint(50, 100) for idx in range(tre.ntips, tre.nnodes)},\n",
    "    #default=100,\n",
    ")"
   ]
  },
  {
   "cell_type": "code",
   "execution_count": 75,
   "metadata": {},
   "outputs": [
    {
     "data": {
      "text/plain": [
       "0      NaN\n",
       "1      NaN\n",
       "2      NaN\n",
       "3      NaN\n",
       "4      NaN\n",
       "5      NaN\n",
       "6      NaN\n",
       "7      NaN\n",
       "8      NaN\n",
       "9      NaN\n",
       "10    59.0\n",
       "11    87.0\n",
       "12    81.0\n",
       "13    59.0\n",
       "14    92.0\n",
       "15    54.0\n",
       "16    91.0\n",
       "17    89.0\n",
       "18    85.0\n",
       "dtype: float64"
      ]
     },
     "execution_count": 75,
     "metadata": {},
     "output_type": "execute_result"
    }
   ],
   "source": [
    "# access the data set on nodes\n",
    "stre.get_node_data(\"support\")"
   ]
  },
  {
   "cell_type": "code",
   "execution_count": 76,
   "metadata": {},
   "outputs": [
    {
     "data": {
      "text/html": [
       "<div>\n",
       "<style scoped>\n",
       "    .dataframe tbody tr th:only-of-type {\n",
       "        vertical-align: middle;\n",
       "    }\n",
       "\n",
       "    .dataframe tbody tr th {\n",
       "        vertical-align: top;\n",
       "    }\n",
       "\n",
       "    .dataframe thead th {\n",
       "        text-align: right;\n",
       "    }\n",
       "</style>\n",
       "<table border=\"1\" class=\"dataframe\">\n",
       "  <thead>\n",
       "    <tr style=\"text-align: right;\">\n",
       "      <th></th>\n",
       "      <th>idx</th>\n",
       "      <th>name</th>\n",
       "      <th>height</th>\n",
       "      <th>dist</th>\n",
       "      <th>support</th>\n",
       "    </tr>\n",
       "  </thead>\n",
       "  <tbody>\n",
       "    <tr>\n",
       "      <th>0</th>\n",
       "      <td>0</td>\n",
       "      <td>r0</td>\n",
       "      <td>0.000000</td>\n",
       "      <td>0.666667</td>\n",
       "      <td>NaN</td>\n",
       "    </tr>\n",
       "    <tr>\n",
       "      <th>1</th>\n",
       "      <td>1</td>\n",
       "      <td>r1</td>\n",
       "      <td>0.000000</td>\n",
       "      <td>0.500000</td>\n",
       "      <td>NaN</td>\n",
       "    </tr>\n",
       "    <tr>\n",
       "      <th>2</th>\n",
       "      <td>2</td>\n",
       "      <td>r2</td>\n",
       "      <td>0.000000</td>\n",
       "      <td>0.500000</td>\n",
       "      <td>NaN</td>\n",
       "    </tr>\n",
       "    <tr>\n",
       "      <th>3</th>\n",
       "      <td>3</td>\n",
       "      <td>r3</td>\n",
       "      <td>0.000000</td>\n",
       "      <td>0.833333</td>\n",
       "      <td>NaN</td>\n",
       "    </tr>\n",
       "    <tr>\n",
       "      <th>4</th>\n",
       "      <td>4</td>\n",
       "      <td>r4</td>\n",
       "      <td>0.000000</td>\n",
       "      <td>0.666667</td>\n",
       "      <td>NaN</td>\n",
       "    </tr>\n",
       "    <tr>\n",
       "      <th>5</th>\n",
       "      <td>5</td>\n",
       "      <td>r5</td>\n",
       "      <td>0.000000</td>\n",
       "      <td>0.500000</td>\n",
       "      <td>NaN</td>\n",
       "    </tr>\n",
       "    <tr>\n",
       "      <th>6</th>\n",
       "      <td>6</td>\n",
       "      <td>r6</td>\n",
       "      <td>0.000000</td>\n",
       "      <td>0.333333</td>\n",
       "      <td>NaN</td>\n",
       "    </tr>\n",
       "    <tr>\n",
       "      <th>7</th>\n",
       "      <td>7</td>\n",
       "      <td>r7</td>\n",
       "      <td>0.000000</td>\n",
       "      <td>0.166667</td>\n",
       "      <td>NaN</td>\n",
       "    </tr>\n",
       "    <tr>\n",
       "      <th>8</th>\n",
       "      <td>8</td>\n",
       "      <td>r8</td>\n",
       "      <td>0.000000</td>\n",
       "      <td>0.166667</td>\n",
       "      <td>NaN</td>\n",
       "    </tr>\n",
       "    <tr>\n",
       "      <th>9</th>\n",
       "      <td>9</td>\n",
       "      <td>r9</td>\n",
       "      <td>0.000000</td>\n",
       "      <td>0.833333</td>\n",
       "      <td>NaN</td>\n",
       "    </tr>\n",
       "    <tr>\n",
       "      <th>10</th>\n",
       "      <td>10</td>\n",
       "      <td></td>\n",
       "      <td>0.500000</td>\n",
       "      <td>0.166667</td>\n",
       "      <td>59.0</td>\n",
       "    </tr>\n",
       "    <tr>\n",
       "      <th>11</th>\n",
       "      <td>11</td>\n",
       "      <td></td>\n",
       "      <td>0.666667</td>\n",
       "      <td>0.166667</td>\n",
       "      <td>87.0</td>\n",
       "    </tr>\n",
       "    <tr>\n",
       "      <th>12</th>\n",
       "      <td>12</td>\n",
       "      <td></td>\n",
       "      <td>0.833333</td>\n",
       "      <td>0.166667</td>\n",
       "      <td>81.0</td>\n",
       "    </tr>\n",
       "    <tr>\n",
       "      <th>13</th>\n",
       "      <td>13</td>\n",
       "      <td></td>\n",
       "      <td>0.166667</td>\n",
       "      <td>0.166667</td>\n",
       "      <td>59.0</td>\n",
       "    </tr>\n",
       "    <tr>\n",
       "      <th>14</th>\n",
       "      <td>14</td>\n",
       "      <td></td>\n",
       "      <td>0.333333</td>\n",
       "      <td>0.166667</td>\n",
       "      <td>92.0</td>\n",
       "    </tr>\n",
       "    <tr>\n",
       "      <th>15</th>\n",
       "      <td>15</td>\n",
       "      <td></td>\n",
       "      <td>0.500000</td>\n",
       "      <td>0.166667</td>\n",
       "      <td>54.0</td>\n",
       "    </tr>\n",
       "    <tr>\n",
       "      <th>16</th>\n",
       "      <td>16</td>\n",
       "      <td></td>\n",
       "      <td>0.666667</td>\n",
       "      <td>0.166667</td>\n",
       "      <td>91.0</td>\n",
       "    </tr>\n",
       "    <tr>\n",
       "      <th>17</th>\n",
       "      <td>17</td>\n",
       "      <td></td>\n",
       "      <td>0.833333</td>\n",
       "      <td>0.166667</td>\n",
       "      <td>89.0</td>\n",
       "    </tr>\n",
       "    <tr>\n",
       "      <th>18</th>\n",
       "      <td>18</td>\n",
       "      <td></td>\n",
       "      <td>1.000000</td>\n",
       "      <td>0.166667</td>\n",
       "      <td>85.0</td>\n",
       "    </tr>\n",
       "  </tbody>\n",
       "</table>\n",
       "</div>"
      ],
      "text/plain": [
       "    idx name    height      dist  support\n",
       "0     0   r0  0.000000  0.666667      NaN\n",
       "1     1   r1  0.000000  0.500000      NaN\n",
       "2     2   r2  0.000000  0.500000      NaN\n",
       "3     3   r3  0.000000  0.833333      NaN\n",
       "4     4   r4  0.000000  0.666667      NaN\n",
       "5     5   r5  0.000000  0.500000      NaN\n",
       "6     6   r6  0.000000  0.333333      NaN\n",
       "7     7   r7  0.000000  0.166667      NaN\n",
       "8     8   r8  0.000000  0.166667      NaN\n",
       "9     9   r9  0.000000  0.833333      NaN\n",
       "10   10       0.500000  0.166667     59.0\n",
       "11   11       0.666667  0.166667     87.0\n",
       "12   12       0.833333  0.166667     81.0\n",
       "13   13       0.166667  0.166667     59.0\n",
       "14   14       0.333333  0.166667     92.0\n",
       "15   15       0.500000  0.166667     54.0\n",
       "16   16       0.666667  0.166667     91.0\n",
       "17   17       0.833333  0.166667     89.0\n",
       "18   18       1.000000  0.166667     85.0"
      ]
     },
     "execution_count": 76,
     "metadata": {},
     "output_type": "execute_result"
    }
   ],
   "source": [
    "stre.get_node_data()"
   ]
  },
  {
   "cell_type": "markdown",
   "metadata": {},
   "source": [
    "Here I use the convenience trick of selecting \"support\" as the input to the `node_labels` drawing argument. When you do this toytree will try to auto-format the input. For example, the data above is shown as float values with no decimal variation. If you instead want to format the data manually you can do so by not using the label, but instead entering the full list of values after you have manually formatted them."
   ]
  },
  {
   "cell_type": "code",
   "execution_count": 80,
   "metadata": {},
   "outputs": [
    {
     "data": {
      "text/html": [
       "<div class=\"toyplot\" id=\"t5322683c3c2544ab8f3859a770fa81a5\" style=\"text-align:center\"><svg class=\"toyplot-canvas-Canvas\" xmlns:toyplot=\"http://www.sandia.gov/toyplot\" xmlns:xlink=\"http://www.w3.org/1999/xlink\" xmlns=\"http://www.w3.org/2000/svg\" width=\"260.0px\" height=\"275.0px\" viewBox=\"0 0 260.0 275.0\" preserveAspectRatio=\"xMidYMid meet\" style=\"background-color:transparent;border-color:#292724;border-style:none;border-width:1.0;fill:rgb(16.1%,15.3%,14.1%);fill-opacity:1.0;font-family:Helvetica;font-size:12px;opacity:1.0;stroke:rgb(16.1%,15.3%,14.1%);stroke-opacity:1.0;stroke-width:1.0\" id=\"t6009a5858d774c3fb4d5a1e477017233\"><g class=\"toyplot-coordinates-Cartesian\" id=\"t165a007ce6894fa58c278e8ab6a348ed\"><clipPath id=\"t36e7f2b70719464495d9139b670242b3\"><rect x=\"35.0\" y=\"35.0\" width=\"190.0\" height=\"205.0\"></rect></clipPath><g clip-path=\"url(#t36e7f2b70719464495d9139b670242b3)\"><g class=\"toytree-mark-Toytree\" id=\"t5a151736da1840f88deeb76e37b30590\"><g class=\"toytree-Edges\" style=\"fill:none;stroke:rgba(16.1%,15.3%,14.1%,1.000);stroke-linecap:round;stroke-width:2.0\"><path d=\"M 95.6 203.6 L 95.6 216.8 L 173.7 216.8\" id=\"11,0\" style=\"stroke-width:nan\"></path><path d=\"M 115.2 190.4 L 115.2 199.2 L 173.7 199.2\" id=\"10,1\" style=\"stroke-width:nan\"></path><path d=\"M 115.2 190.4 L 115.2 181.6 L 173.7 181.6\" id=\"10,2\" style=\"stroke-width:nan\"></path><path d=\"M 76.1 183.8 L 76.1 163.9 L 173.7 163.9\" id=\"12,3\" style=\"stroke-width:nan\"></path><path d=\"M 95.6 129.8 L 95.6 146.3 L 173.7 146.3\" id=\"16,4\" style=\"stroke-width:nan\"></path><path d=\"M 115.2 113.3 L 115.2 128.7 L 173.7 128.7\" id=\"15,5\" style=\"stroke-width:nan\"></path><path d=\"M 134.7 97.8 L 134.7 111.1 L 173.7 111.1\" id=\"14,6\" style=\"stroke-width:nan\"></path><path d=\"M 154.2 84.6 L 154.2 93.4 L 173.7 93.4\" id=\"13,7\" style=\"stroke-width:nan\"></path><path d=\"M 154.2 84.6 L 154.2 75.8 L 173.7 75.8\" id=\"13,8\" style=\"stroke-width:nan\"></path><path d=\"M 76.1 94.0 L 76.1 58.2 L 173.7 58.2\" id=\"17,9\" style=\"stroke-width:nan\"></path><path d=\"M 95.6 203.6 L 95.6 190.4 L 115.2 190.4\" id=\"11,10\" style=\"stroke-width:nan\"></path><path d=\"M 76.1 183.8 L 76.1 203.6 L 95.6 203.6\" id=\"12,11\" style=\"stroke-width:nan\"></path><path d=\"M 56.6 138.9 L 56.6 183.8 L 76.1 183.8\" id=\"18,12\" style=\"stroke-width:nan\"></path><path d=\"M 134.7 97.8 L 134.7 84.6 L 154.2 84.6\" id=\"14,13\" style=\"stroke-width:nan\"></path><path d=\"M 115.2 113.3 L 115.2 97.8 L 134.7 97.8\" id=\"15,14\" style=\"stroke-width:nan\"></path><path d=\"M 95.6 129.8 L 95.6 113.3 L 115.2 113.3\" id=\"16,15\" style=\"stroke-width:nan\"></path><path d=\"M 76.1 94.0 L 76.1 129.8 L 95.6 129.8\" id=\"17,16\" style=\"stroke-width:nan\"></path><path d=\"M 56.6 138.9 L 56.6 94.0 L 76.1 94.0\" id=\"18,17\" style=\"stroke-width:nan\"></path></g><g class=\"toytree-Nodes\" style=\"fill:rgba(40.0%,76.1%,64.7%,1.000);stroke:#262626;stroke-width:1.0\"><g id=\"node-10\" transform=\"translate(115.154,190.393)\"><circle r=\"9.0\"></circle></g><g id=\"node-11\" transform=\"translate(95.632,203.616)\"><circle r=\"9.0\"></circle></g><g id=\"node-12\" transform=\"translate(76.111,183.781)\"><circle r=\"9.0\"></circle></g><g id=\"node-13\" transform=\"translate(154.198,84.607)\"><circle r=\"9.0\"></circle></g><g id=\"node-14\" transform=\"translate(134.676,97.830)\"><circle r=\"9.0\"></circle></g><g id=\"node-15\" transform=\"translate(115.154,113.257)\"><circle r=\"9.0\"></circle></g><g id=\"node-16\" transform=\"translate(95.632,129.786)\"><circle r=\"9.0\"></circle></g><g id=\"node-17\" transform=\"translate(76.111,93.974)\"><circle r=\"9.0\"></circle></g><g id=\"node-18\" transform=\"translate(56.589,138.877)\"><circle r=\"9.0\"></circle></g></g><g class=\"toytree-NodeLabels\" style=\"font-family:Helvetica;font-size:9.0px;font-weight:300;stroke:none;vertical-align:baseline;white-space:pre\"><g class=\"toytree-NodeLabel\" transform=\"translate(115.15432974313454,190.3929188255613)\"><text x=\"-8.757\" y=\"2.2995\" style=\"fill:rgb(16.1%,15.3%,14.1%);fill-opacity:1.0\">59.0</text></g><g class=\"toytree-NodeLabel\" transform=\"translate(95.63243319088448,203.61614853195164)\"><text x=\"-8.757\" y=\"2.2995\" style=\"fill:rgb(16.1%,15.3%,14.1%);fill-opacity:1.0\">87.0</text></g><g class=\"toytree-NodeLabel\" transform=\"translate(76.11053663863444,183.78130397236615)\"><text x=\"-8.757\" y=\"2.2995\" style=\"fill:rgb(16.1%,15.3%,14.1%);fill-opacity:1.0\">81.0</text></g><g class=\"toytree-NodeLabel\" transform=\"translate(154.19812284763464,84.60708117443868)\"><text x=\"-8.757\" y=\"2.2995\" style=\"fill:rgb(16.1%,15.3%,14.1%);fill-opacity:1.0\">59.0</text></g><g class=\"toytree-NodeLabel\" transform=\"translate(134.6762262953846,97.83031088082902)\"><text x=\"-8.757\" y=\"2.2995\" style=\"fill:rgb(16.1%,15.3%,14.1%);fill-opacity:1.0\">92.0</text></g><g class=\"toytree-NodeLabel\" transform=\"translate(115.15432974313454,113.25741220495107)\"><text x=\"-8.757\" y=\"2.2995\" style=\"fill:rgb(16.1%,15.3%,14.1%);fill-opacity:1.0\">54.0</text></g><g class=\"toytree-NodeLabel\" transform=\"translate(95.63243319088448,129.78644933793896)\"><text x=\"-8.757\" y=\"2.2995\" style=\"fill:rgb(16.1%,15.3%,14.1%);fill-opacity:1.0\">91.0</text></g><g class=\"toytree-NodeLabel\" transform=\"translate(76.11053663863444,93.9735355497985)\"><text x=\"-8.757\" y=\"2.2995\" style=\"fill:rgb(16.1%,15.3%,14.1%);fill-opacity:1.0\">89.0</text></g><g class=\"toytree-NodeLabel\" transform=\"translate(56.58864008638438,138.87741976108234)\"><text x=\"-8.757\" y=\"2.2995\" style=\"fill:rgb(16.1%,15.3%,14.1%);fill-opacity:1.0\">85.0</text></g></g><g class=\"toytree-TipLabels\" style=\"fill:rgb(16.1%,15.3%,14.1%);fill-opacity:1.0;font-family:Helvetica;font-size:11.0px;font-weight:300;stroke:none;vertical-align:baseline;white-space:pre\"><g class=\"toytree-TipLabel\" transform=\"translate(173.7200193998847,216.839378238342)\"><text x=\"15.0\" y=\"2.8104999999999993\" style=\"\">r0</text></g><g class=\"toytree-TipLabel\" transform=\"translate(173.7200193998847,199.2084052964882)\"><text x=\"15.0\" y=\"2.8104999999999993\" style=\"\">r1</text></g><g class=\"toytree-TipLabel\" transform=\"translate(173.7200193998847,181.57743235463442)\"><text x=\"15.0\" y=\"2.8104999999999993\" style=\"\">r2</text></g><g class=\"toytree-TipLabel\" transform=\"translate(173.7200193998847,163.94645941278065)\"><text x=\"15.0\" y=\"2.8104999999999993\" style=\"\">r3</text></g><g class=\"toytree-TipLabel\" transform=\"translate(173.7200193998847,146.31548647092688)\"><text x=\"15.0\" y=\"2.8104999999999993\" style=\"\">r4</text></g><g class=\"toytree-TipLabel\" transform=\"translate(173.7200193998847,128.68451352907312)\"><text x=\"15.0\" y=\"2.8104999999999993\" style=\"\">r5</text></g><g class=\"toytree-TipLabel\" transform=\"translate(173.7200193998847,111.05354058721935)\"><text x=\"15.0\" y=\"2.8104999999999993\" style=\"\">r6</text></g><g class=\"toytree-TipLabel\" transform=\"translate(173.7200193998847,93.42256764536558)\"><text x=\"15.0\" y=\"2.8104999999999993\" style=\"\">r7</text></g><g class=\"toytree-TipLabel\" transform=\"translate(173.7200193998847,75.79159470351179)\"><text x=\"15.0\" y=\"2.8104999999999993\" style=\"\">r8</text></g><g class=\"toytree-TipLabel\" transform=\"translate(173.7200193998847,58.16062176165802)\"><text x=\"15.0\" y=\"2.8104999999999993\" style=\"\">r9</text></g></g></g></g></g></svg><div class=\"toyplot-behavior\"><script>(function()\n",
       "{\n",
       "var modules={};\n",
       "})();</script></div></div>"
      ]
     },
     "metadata": {},
     "output_type": "display_data"
    }
   ],
   "source": [
    "# access data from the tree by feature name (is auto-formatted)\n",
    "stre.draw(node_labels='support', node_sizes=18);\n",
    "\n",
    "# access data from the tree by feature name (is auto-formatted)\n",
    "#stre.draw(node_labels=stre.get_node_data(\"support\").astype(int), node_sizes=18);"
   ]
  },
  {
   "cell_type": "code",
   "execution_count": 33,
   "metadata": {},
   "outputs": [
    {
     "ename": "ValueError",
     "evalue": "could not convert string to float: '1,2:1,(((((((3:0.12963,19:0.12963)1:0.12963,14:0.259259)1:0.12963,28:0.388889)1:0.12963,(8:0.259259,23:0.259259)1:0.259259)1:0.12963,(((10:0.162037,6:0.162037,18:0.162037)1:0.162037,(22:0.162037,25:0.162037)1:0.162037)1:0.162037,((9:0.162037,27:0.162037)1:0.162037,(24:0.162037,26:0.162037)1:0.162037)1:0.162037)1:0.162037)1:0.12963,(4:0.666667,(((((11:0.111111,13:0.111111,20:0.111111)1:0.111111,29:0.222222)1:0.111111,12:0.333333)1:0.111111,21:0.444444)1:0.111111,30:0.555556)1:0.111111)1:0.111111)1:0.111111,16:0.888889)1:0.111111)'",
     "output_type": "error",
     "traceback": [
      "\u001b[0;31m---------------------------------------------------------------------------\u001b[0m",
      "\u001b[0;31mValueError\u001b[0m                                Traceback (most recent call last)",
      "Input \u001b[0;32mIn [33]\u001b[0m, in \u001b[0;36m<cell line: 1>\u001b[0;34m()\u001b[0m\n\u001b[0;32m----> 1\u001b[0m fish \u001b[38;5;241m=\u001b[39m \u001b[43mtoytree\u001b[49m\u001b[38;5;241;43m.\u001b[39;49m\u001b[43mmtree\u001b[49m\u001b[43m(\u001b[49m\u001b[38;5;124;43m\"\u001b[39;49m\u001b[38;5;124;43mhttps://eaton-lab.org/data/densitree.nex\u001b[39;49m\u001b[38;5;124;43m\"\u001b[39;49m\u001b[43m)\u001b[49m\n\u001b[1;32m      2\u001b[0m \u001b[38;5;28mprint\u001b[39m(\u001b[38;5;28mlen\u001b[39m(fish))\n",
      "File \u001b[0;32m~/Documents/toytree/toytree/io/src/mtreeio.py:43\u001b[0m, in \u001b[0;36mmtree\u001b[0;34m(data, **kwargs)\u001b[0m\n\u001b[1;32m     41\u001b[0m \u001b[38;5;66;03m# e.g., a multi-line str of trees.\u001b[39;00m\n\u001b[1;32m     42\u001b[0m \u001b[38;5;28;01mif\u001b[39;00m \u001b[38;5;28misinstance\u001b[39m(data, \u001b[38;5;28mstr\u001b[39m):\n\u001b[0;32m---> 43\u001b[0m     treelist \u001b[38;5;241m=\u001b[39m \u001b[43mTreeIOParser\u001b[49m\u001b[43m(\u001b[49m\u001b[43mdata\u001b[49m\u001b[43m,\u001b[49m\u001b[43m \u001b[49m\u001b[43mmultitree\u001b[49m\u001b[38;5;241;43m=\u001b[39;49m\u001b[38;5;28;43;01mTrue\u001b[39;49;00m\u001b[43m,\u001b[49m\u001b[43m \u001b[49m\u001b[38;5;241;43m*\u001b[39;49m\u001b[38;5;241;43m*\u001b[39;49m\u001b[43mkwargs\u001b[49m\u001b[43m)\u001b[49m\u001b[38;5;241m.\u001b[39mtrees\n\u001b[1;32m     44\u001b[0m \u001b[38;5;28;01melif\u001b[39;00m \u001b[38;5;28misinstance\u001b[39m(data, pd\u001b[38;5;241m.\u001b[39mSeries):\n\u001b[1;32m     45\u001b[0m     treelist \u001b[38;5;241m=\u001b[39m TreeIOParser(data\u001b[38;5;241m.\u001b[39mto_list(), multitree\u001b[38;5;241m=\u001b[39m\u001b[38;5;28;01mTrue\u001b[39;00m)\u001b[38;5;241m.\u001b[39mtrees\n",
      "File \u001b[0;32m~/Documents/toytree/toytree/io/src/parser.py:66\u001b[0m, in \u001b[0;36mTreeIOParser.__init__\u001b[0;34m(self, data, multitree, **kwargs)\u001b[0m\n\u001b[1;32m     64\u001b[0m \u001b[38;5;28mself\u001b[39m\u001b[38;5;241m.\u001b[39mkwargs \u001b[38;5;241m=\u001b[39m kwargs\n\u001b[1;32m     65\u001b[0m \u001b[38;5;28mself\u001b[39m\u001b[38;5;241m.\u001b[39mtrees: List[Node] \u001b[38;5;241m=\u001b[39m []\n\u001b[0;32m---> 66\u001b[0m \u001b[38;5;28;43mself\u001b[39;49m\u001b[38;5;241;43m.\u001b[39;49m\u001b[43mrun\u001b[49m\u001b[43m(\u001b[49m\u001b[43m)\u001b[49m\n",
      "File \u001b[0;32m~/Documents/toytree/toytree/io/src/parser.py:156\u001b[0m, in \u001b[0;36mTreeIOParser.run\u001b[0;34m(self)\u001b[0m\n\u001b[1;32m    154\u001b[0m \u001b[38;5;66;03m# get ToyTree from newick string\u001b[39;00m\n\u001b[1;32m    155\u001b[0m nwk \u001b[38;5;241m=\u001b[39m WHITE_SPACE\u001b[38;5;241m.\u001b[39msub(\u001b[38;5;124m\"\u001b[39m\u001b[38;5;124m\"\u001b[39m, nwk)\n\u001b[0;32m--> 156\u001b[0m ttree \u001b[38;5;241m=\u001b[39m \u001b[43mparse_newick_string\u001b[49m\u001b[43m(\u001b[49m\u001b[43mnwk\u001b[49m\u001b[43m,\u001b[49m\u001b[43m \u001b[49m\u001b[38;5;241;43m*\u001b[39;49m\u001b[38;5;241;43m*\u001b[39;49m\u001b[38;5;28;43mself\u001b[39;49m\u001b[38;5;241;43m.\u001b[39;49m\u001b[43mkwargs\u001b[49m\u001b[43m)\u001b[49m\n\u001b[1;32m    158\u001b[0m \u001b[38;5;66;03m# translate names using nexus translation dictionary\u001b[39;00m\n\u001b[1;32m    159\u001b[0m \u001b[38;5;28;01mif\u001b[39;00m tdict:\n",
      "File \u001b[0;32m~/Documents/toytree/toytree/io/src/newick.py:552\u001b[0m, in \u001b[0;36mparse_newick_string\u001b[0;34m(newick, feature_prefix, feature_delim, feature_assignment, internal_labels)\u001b[0m\n\u001b[1;32m    499\u001b[0m \u001b[38;5;124;03m\"\"\"Return a ToyTree from a newick string.\u001b[39;00m\n\u001b[1;32m    500\u001b[0m \n\u001b[1;32m    501\u001b[0m \u001b[38;5;124;03mRecursive function to build connected Nodes from nested data in \u001b[39;00m\n\u001b[0;32m   (...)\u001b[0m\n\u001b[1;32m    544\u001b[0m \u001b[38;5;124;03m>>> print(tree2.get_node_data())\u001b[39;00m\n\u001b[1;32m    545\u001b[0m \u001b[38;5;124;03m\"\"\"\u001b[39;00m\n\u001b[1;32m    546\u001b[0m feat_formatter \u001b[38;5;241m=\u001b[39m partial(\n\u001b[1;32m    547\u001b[0m     feature_parser, \n\u001b[1;32m    548\u001b[0m     prefix\u001b[38;5;241m=\u001b[39mfeature_prefix,\n\u001b[1;32m    549\u001b[0m     delim\u001b[38;5;241m=\u001b[39mfeature_delim,\n\u001b[1;32m    550\u001b[0m     assignment\u001b[38;5;241m=\u001b[39mfeature_assignment,\n\u001b[1;32m    551\u001b[0m )\n\u001b[0;32m--> 552\u001b[0m tree \u001b[38;5;241m=\u001b[39m \u001b[43mparse_newick_string_custom\u001b[49m\u001b[43m(\u001b[49m\n\u001b[1;32m    553\u001b[0m \u001b[43m    \u001b[49m\u001b[43mnewick\u001b[49m\u001b[38;5;241;43m=\u001b[39;49m\u001b[43mnewick\u001b[49m\u001b[43m,\u001b[49m\n\u001b[1;32m    554\u001b[0m \u001b[43m    \u001b[49m\u001b[43mfeat_formatter\u001b[49m\u001b[38;5;241;43m=\u001b[39;49m\u001b[43mfeat_formatter\u001b[49m\u001b[43m,\u001b[49m\n\u001b[1;32m    555\u001b[0m \u001b[43m    \u001b[49m\u001b[43mdist_formatter\u001b[49m\u001b[38;5;241;43m=\u001b[39;49m\u001b[43mdistance_parser\u001b[49m\u001b[43m,\u001b[49m\n\u001b[1;32m    556\u001b[0m \u001b[43m    \u001b[49m\u001b[43maggregator\u001b[49m\u001b[38;5;241;43m=\u001b[39;49m\u001b[43mnode_aggregator\u001b[49m\u001b[43m,\u001b[49m\n\u001b[1;32m    557\u001b[0m \u001b[43m    \u001b[49m\u001b[43minternal_labels\u001b[49m\u001b[38;5;241;43m=\u001b[39;49m\u001b[43minternal_labels\u001b[49m\u001b[43m,\u001b[49m\n\u001b[1;32m    558\u001b[0m \u001b[43m\u001b[49m\u001b[43m)\u001b[49m\n\u001b[1;32m    559\u001b[0m \u001b[38;5;28;01mreturn\u001b[39;00m tree\n",
      "File \u001b[0;32m~/Documents/toytree/toytree/io/src/newick.py:480\u001b[0m, in \u001b[0;36mparse_newick_string_custom\u001b[0;34m(newick, dist_formatter, feat_formatter, aggregator, internal_labels)\u001b[0m\n\u001b[1;32m    477\u001b[0m     aggregator \u001b[38;5;241m=\u001b[39m node_aggregator\n\u001b[1;32m    479\u001b[0m \u001b[38;5;66;03m# build the connected Nodes from newick w/ features saved.\u001b[39;00m\n\u001b[0;32m--> 480\u001b[0m treenode \u001b[38;5;241m=\u001b[39m \u001b[43m_parse_newick_subtree\u001b[49m\u001b[43m(\u001b[49m\u001b[43mnewick\u001b[49m\u001b[43m,\u001b[49m\u001b[43m \u001b[49m\u001b[43maggregator\u001b[49m\u001b[43m,\u001b[49m\u001b[43m \u001b[49m\u001b[43mdist_formatter\u001b[49m\u001b[43m,\u001b[49m\u001b[43m \u001b[49m\u001b[43mfeat_formatter\u001b[49m\u001b[43m)\u001b[49m\n\u001b[1;32m    482\u001b[0m \u001b[38;5;66;03m# convert to a tree\u001b[39;00m\n\u001b[1;32m    483\u001b[0m tree \u001b[38;5;241m=\u001b[39m ToyTree(treenode)\n",
      "File \u001b[0;32m~/Documents/toytree/toytree/io/src/newick.py:347\u001b[0m, in \u001b[0;36m_parse_newick_subtree\u001b[0;34m(newick, aggregator, dist_formatter, feat_formatter)\u001b[0m\n\u001b[1;32m    344\u001b[0m     child_nodes\u001b[38;5;241m.\u001b[39mappend(child)\n\u001b[1;32m    346\u001b[0m \u001b[38;5;66;03m# formatting of distances and features\u001b[39;00m\n\u001b[0;32m--> 347\u001b[0m distance \u001b[38;5;241m=\u001b[39m \u001b[43mdist_formatter\u001b[49m\u001b[43m(\u001b[49m\u001b[43mdist\u001b[49m\u001b[43m)\u001b[49m\n\u001b[1;32m    348\u001b[0m features \u001b[38;5;241m=\u001b[39m feat_formatter(feats)\n\u001b[1;32m    350\u001b[0m \u001b[38;5;66;03m# convert this node data into a Node and return\u001b[39;00m\n",
      "File \u001b[0;32m~/Documents/toytree/toytree/io/src/newick.py:235\u001b[0m, in \u001b[0;36mdistance_parser\u001b[0;34m(dist)\u001b[0m\n\u001b[1;32m    232\u001b[0m \u001b[38;5;28;01mdef\u001b[39;00m \u001b[38;5;21mdistance_parser\u001b[39m(dist: \u001b[38;5;28mstr\u001b[39m) \u001b[38;5;241m-\u001b[39m\u001b[38;5;241m>\u001b[39m Optional[\u001b[38;5;28mfloat\u001b[39m]:\n\u001b[1;32m    233\u001b[0m     \u001b[38;5;124;03m\"\"\"Default float distance parser and formatter.\u001b[39;00m\n\u001b[1;32m    234\u001b[0m \u001b[38;5;124;03m    \"\"\"\u001b[39;00m\n\u001b[0;32m--> 235\u001b[0m     \u001b[38;5;28;01mreturn\u001b[39;00m \u001b[38;5;28;43mfloat\u001b[39;49m\u001b[43m(\u001b[49m\u001b[43mdist\u001b[49m\u001b[43m)\u001b[49m \u001b[38;5;28;01mif\u001b[39;00m dist \u001b[38;5;28;01melse\u001b[39;00m \u001b[38;5;241m1.0\u001b[39m\n",
      "\u001b[0;31mValueError\u001b[0m: could not convert string to float: '1,2:1,(((((((3:0.12963,19:0.12963)1:0.12963,14:0.259259)1:0.12963,28:0.388889)1:0.12963,(8:0.259259,23:0.259259)1:0.259259)1:0.12963,(((10:0.162037,6:0.162037,18:0.162037)1:0.162037,(22:0.162037,25:0.162037)1:0.162037)1:0.162037,((9:0.162037,27:0.162037)1:0.162037,(24:0.162037,26:0.162037)1:0.162037)1:0.162037)1:0.162037)1:0.12963,(4:0.666667,(((((11:0.111111,13:0.111111,20:0.111111)1:0.111111,29:0.222222)1:0.111111,12:0.333333)1:0.111111,21:0.444444)1:0.111111,30:0.555556)1:0.111111)1:0.111111)1:0.111111,16:0.888889)1:0.111111)'"
     ]
    }
   ],
   "source": [
    "fish = toytree.mtree(\"https://eaton-lab.org/data/densitree.nex\")\n",
    "print(len(fish))"
   ]
  },
  {
   "cell_type": "code",
   "execution_count": null,
   "metadata": {},
   "outputs": [],
   "source": []
  },
  {
   "cell_type": "code",
   "execution_count": null,
   "metadata": {},
   "outputs": [],
   "source": []
  },
  {
   "cell_type": "code",
   "execution_count": 30,
   "metadata": {},
   "outputs": [
    {
     "data": {
      "text/html": [
       "<div class=\"toyplot\" id=\"t81d6bce8b0e0433493eac36bf6662e33\" style=\"text-align:center\"><svg class=\"toyplot-canvas-Canvas\" xmlns:toyplot=\"http://www.sandia.gov/toyplot\" xmlns:xlink=\"http://www.w3.org/1999/xlink\" xmlns=\"http://www.w3.org/2000/svg\" width=\"350.0px\" height=\"350.0px\" viewBox=\"0 0 350.0 350.0\" preserveAspectRatio=\"xMidYMid meet\" style=\"background-color:transparent;border-color:#292724;border-style:none;border-width:1.0;fill:rgb(16.1%,15.3%,14.1%);fill-opacity:1.0;font-family:Helvetica;font-size:12px;opacity:1.0;stroke:rgb(16.1%,15.3%,14.1%);stroke-opacity:1.0;stroke-width:1.0\" id=\"tfe945124c9104d99988e4f71d994ec89\"><g class=\"toyplot-coordinates-Cartesian\" id=\"ta3e3950b24d54244a38f1afe901e6fa8\"><clipPath id=\"tda0d2ef09e104a89b033d6178f9f75a9\"><rect x=\"35.0\" y=\"35.0\" width=\"280.0\" height=\"280.0\"></rect></clipPath><g clip-path=\"url(#tda0d2ef09e104a89b033d6178f9f75a9)\"><g class=\"toytree-mark-Toytree\" id=\"t38b0e45ea3714412a3ee31a37af99e0e\"><g class=\"toytree-Edges\" style=\"fill:none;stroke:rgba(16.1%,15.3%,14.1%,1.000);stroke-linecap:round;stroke-width:2.0\"><path d=\"M 118.7 279.8 L 118.7 292.9 L 260.6 292.9\" id=\"14,0\" style=\"stroke-width:nan\"></path><path d=\"M 118.7 279.8 L 118.7 266.7 L 260.6 266.7\" id=\"14,1\" style=\"stroke-width:nan\"></path><path d=\"M 118.7 206.9 L 118.7 240.5 L 260.6 240.5\" id=\"15,2\" style=\"stroke-width:nan\"></path><path d=\"M 147.1 173.4 L 147.1 214.3 L 260.6 214.3\" id=\"13,3\" style=\"stroke-width:nan\"></path><path d=\"M 232.2 175.0 L 232.2 188.1 L 260.6 188.1\" id=\"10,4\" style=\"stroke-width:nan\"></path><path d=\"M 232.2 175.0 L 232.2 161.9 L 260.6 161.9\" id=\"10,5\" style=\"stroke-width:nan\"></path><path d=\"M 203.8 155.3 L 203.8 135.7 L 260.6 135.7\" id=\"11,6\" style=\"stroke-width:nan\"></path><path d=\"M 175.5 132.4 L 175.5 109.5 L 260.6 109.5\" id=\"12,7\" style=\"stroke-width:nan\"></path><path d=\"M 90.3 70.2 L 90.3 83.3 L 260.6 83.3\" id=\"17,8\" style=\"stroke-width:nan\"></path><path d=\"M 90.3 70.2 L 90.3 57.1 L 260.6 57.1\" id=\"17,9\" style=\"stroke-width:nan\"></path><path d=\"M 203.8 155.3 L 203.8 175.0 L 232.2 175.0\" id=\"11,10\" style=\"stroke-width:nan\"></path><path d=\"M 175.5 132.4 L 175.5 155.3 L 203.8 155.3\" id=\"12,11\" style=\"stroke-width:nan\"></path><path d=\"M 147.1 173.4 L 147.1 132.4 L 175.5 132.4\" id=\"13,12\" style=\"stroke-width:nan\"></path><path d=\"M 118.7 206.9 L 118.7 173.4 L 147.1 173.4\" id=\"15,13\" style=\"stroke-width:nan\"></path><path d=\"M 90.3 243.4 L 90.3 279.8 L 118.7 279.8\" id=\"16,14\" style=\"stroke-width:nan\"></path><path d=\"M 90.3 243.4 L 90.3 206.9 L 118.7 206.9\" id=\"16,15\" style=\"stroke-width:nan\"></path><path d=\"M 61.9 156.8 L 61.9 243.4 L 90.3 243.4\" id=\"18,16\" style=\"stroke-width:nan\"></path><path d=\"M 61.9 156.8 L 61.9 70.2 L 90.3 70.2\" id=\"18,17\" style=\"stroke-width:nan\"></path></g><g class=\"toytree-Nodes\" style=\"fill:rgba(40.0%,76.1%,64.7%,1.000);stroke:#262626;stroke-width:1.0\"><g id=\"node-10\" transform=\"translate(232.228,175.000)\"><rect x=\"-15.0\" y=\"-7.5\" width=\"30.0\" height=\"15.0\"></rect></g><g id=\"node-11\" transform=\"translate(203.844,155.346)\"><rect x=\"-15.0\" y=\"-7.5\" width=\"30.0\" height=\"15.0\"></rect></g><g id=\"node-12\" transform=\"translate(175.459,132.416)\"><rect x=\"-15.0\" y=\"-7.5\" width=\"30.0\" height=\"15.0\"></rect></g><g id=\"node-13\" transform=\"translate(147.075,173.362)\"><rect x=\"-15.0\" y=\"-7.5\" width=\"30.0\" height=\"15.0\"></rect></g><g id=\"node-14\" transform=\"translate(118.690,279.822)\"><rect x=\"-15.0\" y=\"-7.5\" width=\"30.0\" height=\"15.0\"></rect></g><g id=\"node-15\" transform=\"translate(118.690,206.938)\"><rect x=\"-15.0\" y=\"-7.5\" width=\"30.0\" height=\"15.0\"></rect></g><g id=\"node-16\" transform=\"translate(90.306,243.380)\"><rect x=\"-15.0\" y=\"-7.5\" width=\"30.0\" height=\"15.0\"></rect></g><g id=\"node-17\" transform=\"translate(90.306,70.178)\"><rect x=\"-15.0\" y=\"-7.5\" width=\"30.0\" height=\"15.0\"></rect></g><g id=\"node-18\" transform=\"translate(61.921,156.779)\"><rect x=\"-15.0\" y=\"-7.5\" width=\"30.0\" height=\"15.0\"></rect></g></g><g class=\"toytree-NodeLabels\" style=\"font-family:Helvetica;font-size:9.0px;font-weight:300;stroke:none;vertical-align:baseline;white-space:pre\"><g class=\"toytree-NodeLabel\" transform=\"translate(232.22848750128296,175.0)\"><text x=\"-8.757\" y=\"2.2995\" style=\"fill:rgb(16.1%,15.3%,14.1%);fill-opacity:1.0\">0.55</text></g><g class=\"toytree-NodeLabel\" transform=\"translate(203.84398789049123,155.34591194968553)\"><text x=\"-8.757\" y=\"2.2995\" style=\"fill:rgb(16.1%,15.3%,14.1%);fill-opacity:1.0\">0.64</text></g><g class=\"toytree-NodeLabel\" transform=\"translate(175.45948827969949,132.416142557652)\"><text x=\"-8.757\" y=\"2.2995\" style=\"fill:rgb(16.1%,15.3%,14.1%);fill-opacity:1.0\">0.54</text></g><g class=\"toytree-NodeLabel\" transform=\"translate(147.0749886689078,173.36215932914047)\"><text x=\"-8.757\" y=\"2.2995\" style=\"fill:rgb(16.1%,15.3%,14.1%);fill-opacity:1.0\">0.70</text></g><g class=\"toytree-NodeLabel\" transform=\"translate(118.69048905811601,279.8218029350105)\"><text x=\"-8.757\" y=\"2.2995\" style=\"fill:rgb(16.1%,15.3%,14.1%);fill-opacity:1.0\">0.88</text></g><g class=\"toytree-NodeLabel\" transform=\"translate(118.69048905811606,206.937893081761)\"><text x=\"-8.757\" y=\"2.2995\" style=\"fill:rgb(16.1%,15.3%,14.1%);fill-opacity:1.0\">0.67</text></g><g class=\"toytree-NodeLabel\" transform=\"translate(90.30598944732432,243.37984800838575)\"><text x=\"-8.757\" y=\"2.2995\" style=\"fill:rgb(16.1%,15.3%,14.1%);fill-opacity:1.0\">0.52</text></g><g class=\"toytree-NodeLabel\" transform=\"translate(90.3059894473243,70.17819706498949)\"><text x=\"-8.757\" y=\"2.2995\" style=\"fill:rgb(16.1%,15.3%,14.1%);fill-opacity:1.0\">0.77</text></g><g class=\"toytree-NodeLabel\" transform=\"translate(61.921489836532544,156.77902253668765)\"><text x=\"-8.757\" y=\"2.2995\" style=\"fill:rgb(16.1%,15.3%,14.1%);fill-opacity:1.0\">0.63</text></g></g><g class=\"toytree-TipLabels\" style=\"fill:rgb(16.1%,15.3%,14.1%);fill-opacity:1.0;font-family:Helvetica;font-size:11.0px;font-weight:300;stroke:none;vertical-align:baseline;white-space:pre\"><g class=\"toytree-TipLabel\" transform=\"translate(260.61298711207473,292.9245283018868)\"><text x=\"15.0\" y=\"2.8104999999999993\" style=\"\">r0</text></g><g class=\"toytree-TipLabel\" transform=\"translate(260.61298711207473,266.71907756813414)\"><text x=\"15.0\" y=\"2.8104999999999993\" style=\"\">r1</text></g><g class=\"toytree-TipLabel\" transform=\"translate(260.61298711207473,240.51362683438154)\"><text x=\"15.0\" y=\"2.8104999999999993\" style=\"\">r2</text></g><g class=\"toytree-TipLabel\" transform=\"translate(260.61298711207473,214.30817610062894)\"><text x=\"15.0\" y=\"2.8104999999999993\" style=\"\">r3</text></g><g class=\"toytree-TipLabel\" transform=\"translate(260.6129871120747,188.1027253668763)\"><text x=\"15.0\" y=\"2.8104999999999993\" style=\"\">r4</text></g><g class=\"toytree-TipLabel\" transform=\"translate(260.6129871120747,161.8972746331237)\"><text x=\"15.0\" y=\"2.8104999999999993\" style=\"\">r5</text></g><g class=\"toytree-TipLabel\" transform=\"translate(260.61298711207473,135.6918238993711)\"><text x=\"15.0\" y=\"2.8104999999999993\" style=\"\">r6</text></g><g class=\"toytree-TipLabel\" transform=\"translate(260.61298711207473,109.48637316561845)\"><text x=\"15.0\" y=\"2.8104999999999993\" style=\"\">r7</text></g><g class=\"toytree-TipLabel\" transform=\"translate(260.61298711207473,83.2809224318658)\"><text x=\"15.0\" y=\"2.8104999999999993\" style=\"\">r8</text></g><g class=\"toytree-TipLabel\" transform=\"translate(260.61298711207473,57.075471698113205)\"><text x=\"15.0\" y=\"2.8104999999999993\" style=\"\">r9</text></g></g></g></g></g></svg><div class=\"toyplot-behavior\"><script>(function()\n",
       "{\n",
       "var modules={};\n",
       "})();</script></div></div>"
      ]
     },
     "metadata": {},
     "output_type": "display_data"
    }
   ],
   "source": [
    "# or, pass the data manually as an argument to node_labels, here also \n",
    "# re-formatted manually to appear as proportions instead of integers \n",
    "nlabels = stre.get_node_data('support').apply(lambda x: f\"{x / 100.:.2f}\")\n",
    "stre.draw(width=350, height=350, node_labels=nlabels, node_sizes=15, node_markers='r2x1');"
   ]
  },
  {
   "cell_type": "markdown",
   "metadata": {},
   "source": [
    "### Node color mapping\n",
    "See the toyplot documentation for the great color instructions on using toyplot colors."
   ]
  },
  {
   "cell_type": "code",
   "execution_count": 31,
   "metadata": {},
   "outputs": [],
   "source": [
    "# get a standard toyplot colormap\n",
    "colormap = toyplot.color.DivergingMap()"
   ]
  },
  {
   "cell_type": "code",
   "execution_count": 32,
   "metadata": {},
   "outputs": [
    {
     "data": {
      "text/html": [
       "<div class=\"toyplot\" id=\"t5b885769dd28443ab1c757a015c829fa\" style=\"text-align:center\"><svg class=\"toyplot-canvas-Canvas\" xmlns:toyplot=\"http://www.sandia.gov/toyplot\" xmlns:xlink=\"http://www.w3.org/1999/xlink\" xmlns=\"http://www.w3.org/2000/svg\" width=\"300.0px\" height=\"275.0px\" viewBox=\"0 0 300.0 275.0\" preserveAspectRatio=\"xMidYMid meet\" style=\"background-color:transparent;border-color:#292724;border-style:none;border-width:1.0;fill:rgb(16.1%,15.3%,14.1%);fill-opacity:1.0;font-family:Helvetica;font-size:12px;opacity:1.0;stroke:rgb(16.1%,15.3%,14.1%);stroke-opacity:1.0;stroke-width:1.0\" id=\"ta1b778c51baf4c85be1e6fadc4e5a6fb\"><g class=\"toyplot-coordinates-Cartesian\" id=\"tfc6e6701343c41ed89617e22f2579a2d\"><clipPath id=\"tc5cb4ffea9a146258c1d2e5f2404c2d1\"><rect x=\"35.0\" y=\"35.0\" width=\"230.0\" height=\"205.0\"></rect></clipPath><g clip-path=\"url(#tc5cb4ffea9a146258c1d2e5f2404c2d1)\"><g class=\"toytree-mark-Toytree\" id=\"t72f8e4b415104625b1f323316a7d8b3f\"><g class=\"toytree-Edges\" style=\"fill:none;stroke:rgba(16.1%,15.3%,14.1%,1.000);stroke-linecap:round;stroke-width:2.0\"><path d=\"M 104.5 209.8 L 104.5 218.9 L 212.5 218.9\" id=\"14,0\" style=\"stroke-width:nan\"></path><path d=\"M 104.5 209.8 L 104.5 200.8 L 212.5 200.8\" id=\"14,1\" style=\"stroke-width:nan\"></path><path d=\"M 104.5 159.5 L 104.5 182.7 L 212.5 182.7\" id=\"15,2\" style=\"stroke-width:nan\"></path><path d=\"M 126.1 136.4 L 126.1 164.6 L 212.5 164.6\" id=\"13,3\" style=\"stroke-width:nan\"></path><path d=\"M 190.9 137.5 L 190.9 146.5 L 212.5 146.5\" id=\"10,4\" style=\"stroke-width:nan\"></path><path d=\"M 190.9 137.5 L 190.9 128.5 L 212.5 128.5\" id=\"10,5\" style=\"stroke-width:nan\"></path><path d=\"M 169.3 123.9 L 169.3 110.4 L 212.5 110.4\" id=\"11,6\" style=\"stroke-width:nan\"></path><path d=\"M 147.7 108.1 L 147.7 92.3 L 212.5 92.3\" id=\"12,7\" style=\"stroke-width:nan\"></path><path d=\"M 82.9 65.2 L 82.9 74.2 L 212.5 74.2\" id=\"17,8\" style=\"stroke-width:nan\"></path><path d=\"M 82.9 65.2 L 82.9 56.1 L 212.5 56.1\" id=\"17,9\" style=\"stroke-width:nan\"></path><path d=\"M 169.3 123.9 L 169.3 137.5 L 190.9 137.5\" id=\"11,10\" style=\"stroke-width:nan\"></path><path d=\"M 147.7 108.1 L 147.7 123.9 L 169.3 123.9\" id=\"12,11\" style=\"stroke-width:nan\"></path><path d=\"M 126.1 136.4 L 126.1 108.1 L 147.7 108.1\" id=\"13,12\" style=\"stroke-width:nan\"></path><path d=\"M 104.5 159.5 L 104.5 136.4 L 126.1 136.4\" id=\"15,13\" style=\"stroke-width:nan\"></path><path d=\"M 82.9 184.7 L 82.9 209.8 L 104.5 209.8\" id=\"16,14\" style=\"stroke-width:nan\"></path><path d=\"M 82.9 184.7 L 82.9 159.5 L 104.5 159.5\" id=\"16,15\" style=\"stroke-width:nan\"></path><path d=\"M 61.3 124.9 L 61.3 184.7 L 82.9 184.7\" id=\"18,16\" style=\"stroke-width:nan\"></path><path d=\"M 61.3 124.9 L 61.3 65.2 L 82.9 65.2\" id=\"18,17\" style=\"stroke-width:nan\"></path></g><g class=\"toytree-Nodes\" style=\"stroke:#262626;stroke-width:1.0\"><g id=\"node-10\" style=\"fill:rgb(30.4%,40.7%,84.5%);fill-opacity:1.0\" transform=\"translate(190.937,137.500)\"><circle r=\"6.0\"></circle></g><g id=\"node-11\" style=\"fill:rgb(55.3%,68.9%,99.5%);fill-opacity:1.0\" transform=\"translate(169.338,123.940)\"><circle r=\"6.0\"></circle></g><g id=\"node-12\" style=\"fill:rgb(27.9%,37.1%,81.7%);fill-opacity:1.0\" transform=\"translate(147.739,108.119)\"><circle r=\"6.0\"></circle></g><g id=\"node-13\" style=\"fill:rgb(72.2%,81.4%,97.7%);fill-opacity:1.0\" transform=\"translate(126.140,136.370)\"><circle r=\"6.0\"></circle></g><g id=\"node-14\" style=\"fill:rgb(95.8%,60.3%,48.2%);fill-opacity:1.0\" transform=\"translate(104.541,209.823)\"><circle r=\"6.0\"></circle></g><g id=\"node-15\" style=\"fill:rgb(63.9%,76%,99.8%);fill-opacity:1.0\" transform=\"translate(104.541,159.536)\"><circle r=\"6.0\"></circle></g><g id=\"node-16\" style=\"fill:rgb(23%,29.9%,75.4%);fill-opacity:1.0\" transform=\"translate(82.942,184.679)\"><circle r=\"6.0\"></circle></g><g id=\"node-17\" style=\"fill:rgb(88.8%,85.5%,83.6%);fill-opacity:1.0\" transform=\"translate(82.942,65.177)\"><circle r=\"6.0\"></circle></g><g id=\"node-18\" style=\"fill:rgb(52.4%,66.2%,98.9%);fill-opacity:1.0\" transform=\"translate(61.343,124.928)\"><circle r=\"6.0\"></circle></g></g><g class=\"toytree-NodeLabels\" style=\"font-family:Helvetica;font-size:9.0px;font-weight:300;stroke:none;vertical-align:baseline;white-space:pre\"><g class=\"toytree-NodeLabel\" transform=\"translate(190.93677204479206,137.5)\"><text x=\"-15.004000000000001\" y=\"12.2995\" style=\"fill:rgb(16.1%,15.3%,14.1%);fill-opacity:1.0\">55</text></g><g class=\"toytree-NodeLabel\" transform=\"translate(169.3377301782893,123.93951470067304)\"><text x=\"-15.004000000000001\" y=\"12.2995\" style=\"fill:rgb(16.1%,15.3%,14.1%);fill-opacity:1.0\">64</text></g><g class=\"toytree-NodeLabel\" transform=\"translate(147.7386883117865,108.11894851812491)\"><text x=\"-15.004000000000001\" y=\"12.2995\" style=\"fill:rgb(16.1%,15.3%,14.1%);fill-opacity:1.0\">54</text></g><g class=\"toytree-NodeLabel\" transform=\"translate(126.1396464452837,136.3699595583894)\"><text x=\"-15.004000000000001\" y=\"12.2995\" style=\"fill:rgb(16.1%,15.3%,14.1%);fill-opacity:1.0\">70</text></g><g class=\"toytree-NodeLabel\" transform=\"translate(104.54060457878089,209.8225882630771)\"><text x=\"-15.004000000000001\" y=\"12.2995\" style=\"fill:rgb(16.1%,15.3%,14.1%);fill-opacity:1.0\">88</text></g><g class=\"toytree-NodeLabel\" transform=\"translate(104.54060457878091,159.53578861140633)\"><text x=\"-15.004000000000001\" y=\"12.2995\" style=\"fill:rgb(16.1%,15.3%,14.1%);fill-opacity:1.0\">67</text></g><g class=\"toytree-NodeLabel\" transform=\"translate(82.94156271227811,184.67918843724172)\"><text x=\"-15.004000000000001\" y=\"12.2995\" style=\"fill:rgb(16.1%,15.3%,14.1%);fill-opacity:1.0\">52</text></g><g class=\"toytree-NodeLabel\" transform=\"translate(82.94156271227811,65.17741173692288)\"><text x=\"-15.004000000000001\" y=\"12.2995\" style=\"fill:rgb(16.1%,15.3%,14.1%);fill-opacity:1.0\">77</text></g><g class=\"toytree-NodeLabel\" transform=\"translate(61.3425208457753,124.9283000870823)\"><text x=\"-15.004000000000001\" y=\"12.2995\" style=\"fill:rgb(16.1%,15.3%,14.1%);fill-opacity:1.0\">63</text></g></g><g class=\"toytree-TipLabels\" style=\"fill:rgb(16.1%,15.3%,14.1%);fill-opacity:1.0;font-family:Helvetica;font-size:11.0px;font-weight:300;stroke:none;vertical-align:baseline;white-space:pre\"><g class=\"toytree-TipLabel\" transform=\"translate(212.5358139112949,218.86291179596174)\"><text x=\"15.0\" y=\"2.8104999999999993\" style=\"\">r0</text></g><g class=\"toytree-TipLabel\" transform=\"translate(212.5358139112949,200.78226473019248)\"><text x=\"15.0\" y=\"2.8104999999999993\" style=\"\">r1</text></g><g class=\"toytree-TipLabel\" transform=\"translate(212.5358139112949,182.70161766442322)\"><text x=\"15.0\" y=\"2.8104999999999993\" style=\"\">r2</text></g><g class=\"toytree-TipLabel\" transform=\"translate(212.5358139112949,164.6209705986539)\"><text x=\"15.0\" y=\"2.8104999999999993\" style=\"\">r3</text></g><g class=\"toytree-TipLabel\" transform=\"translate(212.53581391129487,146.54032353288463)\"><text x=\"15.0\" y=\"2.8104999999999993\" style=\"\">r4</text></g><g class=\"toytree-TipLabel\" transform=\"translate(212.53581391129487,128.45967646711534)\"><text x=\"15.0\" y=\"2.8104999999999993\" style=\"\">r5</text></g><g class=\"toytree-TipLabel\" transform=\"translate(212.53581391129487,110.37902940134609)\"><text x=\"15.0\" y=\"2.8104999999999993\" style=\"\">r6</text></g><g class=\"toytree-TipLabel\" transform=\"translate(212.5358139112949,92.2983823355768)\"><text x=\"15.0\" y=\"2.8104999999999993\" style=\"\">r7</text></g><g class=\"toytree-TipLabel\" transform=\"translate(212.5358139112949,74.2177352698075)\"><text x=\"15.0\" y=\"2.8104999999999993\" style=\"\">r8</text></g><g class=\"toytree-TipLabel\" transform=\"translate(212.5358139112949,56.137088204038236)\"><text x=\"15.0\" y=\"2.8104999999999993\" style=\"\">r9</text></g></g></g></g></g></svg><div class=\"toyplot-behavior\"><script>(function()\n",
       "{\n",
       "var modules={};\n",
       "})();</script></div></div>"
      ]
     },
     "metadata": {},
     "output_type": "display_data"
    }
   ],
   "source": [
    "# map colors to nodes by support value\n",
    "stre.draw(\n",
    "    node_sizes=12,\n",
    "    node_colors=colormap.colors(stre.get_node_data(\"support\")),\n",
    "    node_labels=\"support\",\n",
    "    node_labels_style={\"baseline-shift\": -10, \"-toyplot-anchor-shift\": -10},\n",
    "    width=300,\n",
    ");"
   ]
  },
  {
   "cell_type": "markdown",
   "metadata": {},
   "source": [
    "### Drawing: saving figures\n",
    "Toytree drawings can be saved to disk using the `render` functions of toyplot. This is where it is useful to store the Canvas object as a variable when it is returned during a toytree drawing. You can save toyplot figures in a variety of formats, including HTML (which is actually an SVG figures wrapped in HTML with addition javascript to provide interactivity); or SVG, PDF, and PNG. "
   ]
  },
  {
   "cell_type": "code",
   "execution_count": 33,
   "metadata": {},
   "outputs": [
    {
     "data": {
      "text/html": [
       "<div class=\"toyplot\" id=\"t9cad99ca20e9430ab06f491b57db601e\" style=\"text-align:center\"><svg class=\"toyplot-canvas-Canvas\" xmlns:toyplot=\"http://www.sandia.gov/toyplot\" xmlns:xlink=\"http://www.w3.org/1999/xlink\" xmlns=\"http://www.w3.org/2000/svg\" width=\"400.0px\" height=\"300.0px\" viewBox=\"0 0 400.0 300.0\" preserveAspectRatio=\"xMidYMid meet\" style=\"background-color:transparent;border-color:#292724;border-style:none;border-width:1.0;fill:rgb(16.1%,15.3%,14.1%);fill-opacity:1.0;font-family:Helvetica;font-size:12px;opacity:1.0;stroke:rgb(16.1%,15.3%,14.1%);stroke-opacity:1.0;stroke-width:1.0\" id=\"t47741704328d4755bed048ee892078b6\"><g class=\"toyplot-coordinates-Cartesian\" id=\"tac4ecfc8c5e54baa952299d3454d7731\"><clipPath id=\"tf2c1a95384d342afba184b43fa0578e5\"><rect x=\"35.0\" y=\"35.0\" width=\"330.0\" height=\"230.0\"></rect></clipPath><g clip-path=\"url(#tf2c1a95384d342afba184b43fa0578e5)\"><g class=\"toytree-mark-Toytree\" id=\"td42615a228814c6cafab779976e1ec23\"><g class=\"toytree-Edges\" style=\"fill:none;stroke:rgba(16.1%,15.3%,14.1%,1.000);stroke-linecap:round;stroke-width:2.0\"><path d=\"M 126.1 233.4 L 126.1 243.8 L 307.9 243.8\" id=\"14,0\" style=\"stroke-width:nan\"></path><path d=\"M 126.1 233.4 L 126.1 223.0 L 307.9 223.0\" id=\"14,1\" style=\"stroke-width:nan\"></path><path d=\"M 126.1 175.4 L 126.1 202.1 L 307.9 202.1\" id=\"15,2\" style=\"stroke-width:nan\"></path><path d=\"M 162.5 148.7 L 162.5 181.3 L 307.9 181.3\" id=\"13,3\" style=\"stroke-width:nan\"></path><path d=\"M 271.6 150.0 L 271.6 160.4 L 307.9 160.4\" id=\"10,4\" style=\"stroke-width:nan\"></path><path d=\"M 271.6 150.0 L 271.6 139.6 L 307.9 139.6\" id=\"10,5\" style=\"stroke-width:nan\"></path><path d=\"M 235.2 134.4 L 235.2 118.7 L 307.9 118.7\" id=\"11,6\" style=\"stroke-width:nan\"></path><path d=\"M 198.9 116.1 L 198.9 97.9 L 307.9 97.9\" id=\"12,7\" style=\"stroke-width:nan\"></path><path d=\"M 89.8 66.6 L 89.8 77.0 L 307.9 77.0\" id=\"17,8\" style=\"stroke-width:nan\"></path><path d=\"M 89.8 66.6 L 89.8 56.2 L 307.9 56.2\" id=\"17,9\" style=\"stroke-width:nan\"></path><path d=\"M 235.2 134.4 L 235.2 150.0 L 271.6 150.0\" id=\"11,10\" style=\"stroke-width:nan\"></path><path d=\"M 198.9 116.1 L 198.9 134.4 L 235.2 134.4\" id=\"12,11\" style=\"stroke-width:nan\"></path><path d=\"M 162.5 148.7 L 162.5 116.1 L 198.9 116.1\" id=\"13,12\" style=\"stroke-width:nan\"></path><path d=\"M 126.1 175.4 L 126.1 148.7 L 162.5 148.7\" id=\"15,13\" style=\"stroke-width:nan\"></path><path d=\"M 89.8 204.4 L 89.8 233.4 L 126.1 233.4\" id=\"16,14\" style=\"stroke-width:nan\"></path><path d=\"M 89.8 204.4 L 89.8 175.4 L 126.1 175.4\" id=\"16,15\" style=\"stroke-width:nan\"></path><path d=\"M 53.4 135.5 L 53.4 204.4 L 89.8 204.4\" id=\"18,16\" style=\"stroke-width:nan\"></path><path d=\"M 53.4 135.5 L 53.4 66.6 L 89.8 66.6\" id=\"18,17\" style=\"stroke-width:nan\"></path></g><g class=\"toytree-Nodes\" style=\"fill:rgba(40.0%,76.1%,64.7%,1.000);stroke:#262626;stroke-width:1.0\"><g id=\"node-10\" transform=\"translate(271.584,150.000)\"><circle r=\"4.0\"></circle></g><g id=\"node-11\" transform=\"translate(235.219,134.365)\"><circle r=\"4.0\"></circle></g><g id=\"node-12\" transform=\"translate(198.854,116.125)\"><circle r=\"4.0\"></circle></g><g id=\"node-13\" transform=\"translate(162.489,148.697)\"><circle r=\"4.0\"></circle></g><g id=\"node-14\" transform=\"translate(126.124,233.385)\"><circle r=\"4.0\"></circle></g><g id=\"node-15\" transform=\"translate(126.124,175.407)\"><circle r=\"4.0\"></circle></g><g id=\"node-16\" transform=\"translate(89.759,204.396)\"><circle r=\"4.0\"></circle></g><g id=\"node-17\" transform=\"translate(89.759,66.615)\"><circle r=\"4.0\"></circle></g><g id=\"node-18\" transform=\"translate(53.394,135.505)\"><circle r=\"4.0\"></circle></g></g><g class=\"toytree-TipLabels\" style=\"fill:rgb(16.1%,15.3%,14.1%);fill-opacity:1.0;font-family:Helvetica;font-size:11.0px;font-weight:300;stroke:none;vertical-align:baseline;white-space:pre\"><g class=\"toytree-TipLabel\" transform=\"translate(307.9491907975495,243.80863039399622)\"><text x=\"15.0\" y=\"2.8104999999999993\" style=\"\">r0</text></g><g class=\"toytree-TipLabel\" transform=\"translate(307.9491907975495,222.9622680842193)\"><text x=\"15.0\" y=\"2.8104999999999993\" style=\"\">r1</text></g><g class=\"toytree-TipLabel\" transform=\"translate(307.9491907975495,202.11590577444233)\"><text x=\"15.0\" y=\"2.8104999999999993\" style=\"\">r2</text></g><g class=\"toytree-TipLabel\" transform=\"translate(307.9491907975495,181.2695434646654)\"><text x=\"15.0\" y=\"2.8104999999999993\" style=\"\">r3</text></g><g class=\"toytree-TipLabel\" transform=\"translate(307.9491907975495,160.42318115488845)\"><text x=\"15.0\" y=\"2.8104999999999993\" style=\"\">r4</text></g><g class=\"toytree-TipLabel\" transform=\"translate(307.9491907975495,139.57681884511152)\"><text x=\"15.0\" y=\"2.8104999999999993\" style=\"\">r5</text></g><g class=\"toytree-TipLabel\" transform=\"translate(307.9491907975495,118.73045653533457)\"><text x=\"15.0\" y=\"2.8104999999999993\" style=\"\">r6</text></g><g class=\"toytree-TipLabel\" transform=\"translate(307.9491907975495,97.88409422555762)\"><text x=\"15.0\" y=\"2.8104999999999993\" style=\"\">r7</text></g><g class=\"toytree-TipLabel\" transform=\"translate(307.9491907975495,77.03773191578067)\"><text x=\"15.0\" y=\"2.8104999999999993\" style=\"\">r8</text></g><g class=\"toytree-TipLabel\" transform=\"translate(307.9491907975495,56.19136960600373)\"><text x=\"15.0\" y=\"2.8104999999999993\" style=\"\">r9</text></g></g></g></g></g></svg><div class=\"toyplot-behavior\"><script>(function()\n",
       "{\n",
       "var modules={};\n",
       "})();</script></div></div>"
      ]
     },
     "metadata": {},
     "output_type": "display_data"
    }
   ],
   "source": [
    "# draw a plot and store the Canvas object to a variable\n",
    "canvas, axes, mark = stre.draw(width=400, height=300);"
   ]
  },
  {
   "cell_type": "markdown",
   "metadata": {},
   "source": [
    "HTML rendering is the default format. This will save the figure as a vector graphic (SVG) wrapped in HTML with additional optional javascript wrapping for interactive features. You can share the file with others and anyone can open it in a browser. You can embed it on your website, or even display it in emails!"
   ]
  },
  {
   "cell_type": "code",
   "execution_count": 34,
   "metadata": {},
   "outputs": [],
   "source": [
    "# for sharing through web-links (or even email!) html is great!\n",
    "toyplot.html.render(canvas, \"/tmp/tree-plot.html\")"
   ]
  },
  {
   "cell_type": "markdown",
   "metadata": {},
   "source": [
    "Optional formats: If you want to do additional styling of your figures in Illustrator or InkScape (recommended) then SVG is likely your best option. You can save figures in SVG by simply importing this as an additional option from toyplot. "
   ]
  },
  {
   "cell_type": "code",
   "execution_count": 35,
   "metadata": {},
   "outputs": [],
   "source": [
    "# for creating scientific figures SVG is often the most useful format\n",
    "import toyplot.svg\n",
    "toyplot.svg.render(canvas, \"/tmp/tree-plot.svg\")"
   ]
  },
  {
   "cell_type": "markdown",
   "metadata": {},
   "source": [
    "Despite the advantages of working with the SVG or HTML formats (e.g., vector graphics and interactive pop-ups), if you're like me you still sometimes love to have an old-fashioned PDF. Again, you can import this from toyplot. "
   ]
  },
  {
   "cell_type": "code",
   "execution_count": 36,
   "metadata": {},
   "outputs": [],
   "source": [
    "import toyplot.pdf\n",
    "toyplot.pdf.render(canvas, \"/tmp/tree-plot.pdf\")"
   ]
  },
  {
   "cell_type": "markdown",
   "metadata": {},
   "source": [
    "Finally, PNG provides the most concise format for storing plots with many many many points in them, since it is a raster format, but has significant loss compared to the other formats above."
   ]
  },
  {
   "cell_type": "code",
   "execution_count": 37,
   "metadata": {},
   "outputs": [],
   "source": [
    "import toyplot.png\n",
    "toyplot.png.render(canvas, \"/tmp/tree-plot.png\")"
   ]
  },
  {
   "cell_type": "markdown",
   "metadata": {},
   "source": [
    "### Drawing: The Canvas, Axes, and coordinates  \n",
    "\n",
    "When you call the `toytree.draw()` function it returns two Toyplot objects which are used to display the figure. The first is the Canvas, which is the HTML element that holds the figure, and the second is a Cartesian axes object, which represent the coordinates for the plot. You can store these objects when they are returned by the `draw()` function to further manipulate the plot. Storing the Canvas is necessary in order to save the plot. "
   ]
  },
  {
   "cell_type": "markdown",
   "metadata": {},
   "source": [
    "#### The Canvas and Axes\n",
    "If you wish to combine multiple toytree figures into a single figure then it is easiest to first create instances of the toyplot Canvas and Axes objects and then to add the toytree drawing to this plot by using the `.draw(axes=axes)` argument. In the example below we first define the Canvas size, then define two coordinate axes inside of this Canvas, and then we pass these coordinate axes objects to two separate toytree drawings. \n"
   ]
  },
  {
   "cell_type": "code",
   "execution_count": 38,
   "metadata": {},
   "outputs": [
    {
     "data": {
      "text/html": [
       "<div class=\"toyplot\" id=\"t3322bdece6ec4538bb1702ddb901daf8\" style=\"text-align:center\"><svg class=\"toyplot-canvas-Canvas\" xmlns:toyplot=\"http://www.sandia.gov/toyplot\" xmlns:xlink=\"http://www.w3.org/1999/xlink\" xmlns=\"http://www.w3.org/2000/svg\" width=\"700.0px\" height=\"250.0px\" viewBox=\"0 0 700.0 250.0\" preserveAspectRatio=\"xMidYMid meet\" style=\"background-color:transparent;border-color:#292724;border-style:none;border-width:1.0;fill:rgb(16.1%,15.3%,14.1%);fill-opacity:1.0;font-family:Helvetica;font-size:12px;opacity:1.0;stroke:rgb(16.1%,15.3%,14.1%);stroke-opacity:1.0;stroke-width:1.0\" id=\"t4de476afa1674b10a1a48e9a727d01b8\"><g class=\"toyplot-coordinates-Cartesian\" id=\"tcbc38b1f631e436081dd854baacb283b\"><clipPath id=\"tefb32c7c3e6c457d916148f5f419b893\"><rect x=\"55.0\" y=\"10.0\" width=\"275.0\" height=\"230.0\"></rect></clipPath><g clip-path=\"url(#tefb32c7c3e6c457d916148f5f419b893)\"><g class=\"toytree-mark-Toytree\" id=\"tc4a8790510384c7d9604e0ea729f85d1\"><g class=\"toytree-Edges\" style=\"fill:none;stroke:rgba(16.1%,15.3%,14.1%,1.000);stroke-linecap:round;stroke-width:2.0\"><path d=\"M 246.8 206.5 L 246.8 216.7 L 275.0 216.7\" id=\"14,0\" style=\"stroke-width:nan\"></path><path d=\"M 246.8 206.5 L 246.8 196.4 L 275.0 196.4\" id=\"14,1\" style=\"stroke-width:nan\"></path><path d=\"M 133.8 149.8 L 133.8 176.0 L 275.0 176.0\" id=\"15,2\" style=\"stroke-width:nan\"></path><path d=\"M 162.0 123.7 L 162.0 155.6 L 275.0 155.6\" id=\"13,3\" style=\"stroke-width:nan\"></path><path d=\"M 246.8 125.0 L 246.8 135.2 L 275.0 135.2\" id=\"10,4\" style=\"stroke-width:nan\"></path><path d=\"M 246.8 125.0 L 246.8 114.8 L 275.0 114.8\" id=\"10,5\" style=\"stroke-width:nan\"></path><path d=\"M 218.5 109.7 L 218.5 94.4 L 275.0 94.4\" id=\"11,6\" style=\"stroke-width:nan\"></path><path d=\"M 190.3 91.9 L 190.3 74.0 L 275.0 74.0\" id=\"12,7\" style=\"stroke-width:nan\"></path><path d=\"M 246.8 43.5 L 246.8 53.6 L 275.0 53.6\" id=\"17,8\" style=\"stroke-width:nan\"></path><path d=\"M 246.8 43.5 L 246.8 33.3 L 275.0 33.3\" id=\"17,9\" style=\"stroke-width:nan\"></path><path d=\"M 218.5 109.7 L 218.5 125.0 L 246.8 125.0\" id=\"11,10\" style=\"stroke-width:nan\"></path><path d=\"M 190.3 91.9 L 190.3 109.7 L 218.5 109.7\" id=\"12,11\" style=\"stroke-width:nan\"></path><path d=\"M 162.0 123.7 L 162.0 91.9 L 190.3 91.9\" id=\"13,12\" style=\"stroke-width:nan\"></path><path d=\"M 133.8 149.8 L 133.8 123.7 L 162.0 123.7\" id=\"15,13\" style=\"stroke-width:nan\"></path><path d=\"M 105.5 178.2 L 105.5 206.5 L 246.8 206.5\" id=\"16,14\" style=\"stroke-width:nan\"></path><path d=\"M 105.5 178.2 L 105.5 149.8 L 133.8 149.8\" id=\"16,15\" style=\"stroke-width:nan\"></path><path d=\"M 77.3 110.8 L 77.3 178.2 L 105.5 178.2\" id=\"18,16\" style=\"stroke-width:nan\"></path><path d=\"M 77.3 110.8 L 77.3 43.5 L 246.8 43.5\" id=\"18,17\" style=\"stroke-width:nan\"></path></g><g class=\"toytree-Nodes\" style=\"fill:rgba(82.7%,82.7%,82.7%,1.000);stroke:#262626;stroke-width:1.5\"><g id=\"node-0\" transform=\"translate(275.002,216.743)\"><circle r=\"9.0\"></circle></g><g id=\"node-1\" transform=\"translate(275.002,196.356)\"><circle r=\"9.0\"></circle></g><g id=\"node-2\" transform=\"translate(275.002,175.968)\"><circle r=\"9.0\"></circle></g><g id=\"node-3\" transform=\"translate(275.002,155.581)\"><circle r=\"9.0\"></circle></g><g id=\"node-4\" transform=\"translate(275.002,135.194)\"><circle r=\"9.0\"></circle></g><g id=\"node-5\" transform=\"translate(275.002,114.806)\"><circle r=\"9.0\"></circle></g><g id=\"node-6\" transform=\"translate(275.002,94.419)\"><circle r=\"9.0\"></circle></g><g id=\"node-7\" transform=\"translate(275.002,74.032)\"><circle r=\"9.0\"></circle></g><g id=\"node-8\" transform=\"translate(275.002,53.644)\"><circle r=\"9.0\"></circle></g><g id=\"node-9\" transform=\"translate(275.002,33.257)\"><circle r=\"9.0\"></circle></g><g id=\"node-10\" transform=\"translate(246.754,125.000)\"><circle r=\"9.0\"></circle></g><g id=\"node-11\" transform=\"translate(218.505,109.709)\"><circle r=\"9.0\"></circle></g><g id=\"node-12\" transform=\"translate(190.257,91.871)\"><circle r=\"9.0\"></circle></g><g id=\"node-13\" transform=\"translate(162.009,123.726)\"><circle r=\"9.0\"></circle></g><g id=\"node-14\" transform=\"translate(246.754,206.549)\"><circle r=\"9.0\"></circle></g><g id=\"node-15\" transform=\"translate(133.760,149.847)\"><circle r=\"9.0\"></circle></g><g id=\"node-16\" transform=\"translate(105.512,178.198)\"><circle r=\"9.0\"></circle></g><g id=\"node-17\" transform=\"translate(246.754,43.451)\"><circle r=\"9.0\"></circle></g><g id=\"node-18\" transform=\"translate(77.264,110.824)\"><circle r=\"9.0\"></circle></g></g><g class=\"toytree-NodeLabels\" style=\"font-family:Helvetica;font-size:9.0px;font-weight:300;stroke:none;vertical-align:baseline;white-space:pre\"><g class=\"toytree-NodeLabel\" transform=\"translate(275.00200950065556,216.74311926605503)\"><text x=\"-2.5020000000000002\" y=\"2.2995\" style=\"fill:rgb(16.1%,15.3%,14.1%);fill-opacity:1.0\">0</text></g><g class=\"toytree-NodeLabel\" transform=\"translate(275.00200950065556,196.35575942915392)\"><text x=\"-2.5020000000000002\" y=\"2.2995\" style=\"fill:rgb(16.1%,15.3%,14.1%);fill-opacity:1.0\">1</text></g><g class=\"toytree-NodeLabel\" transform=\"translate(275.00200950065556,175.96839959225278)\"><text x=\"-2.5020000000000002\" y=\"2.2995\" style=\"fill:rgb(16.1%,15.3%,14.1%);fill-opacity:1.0\">2</text></g><g class=\"toytree-NodeLabel\" transform=\"translate(275.00200950065556,155.5810397553517)\"><text x=\"-2.5020000000000002\" y=\"2.2995\" style=\"fill:rgb(16.1%,15.3%,14.1%);fill-opacity:1.0\">3</text></g><g class=\"toytree-NodeLabel\" transform=\"translate(275.00200950065556,135.19367991845056)\"><text x=\"-2.5020000000000002\" y=\"2.2995\" style=\"fill:rgb(16.1%,15.3%,14.1%);fill-opacity:1.0\">4</text></g><g class=\"toytree-NodeLabel\" transform=\"translate(275.00200950065556,114.80632008154943)\"><text x=\"-2.5020000000000002\" y=\"2.2995\" style=\"fill:rgb(16.1%,15.3%,14.1%);fill-opacity:1.0\">5</text></g><g class=\"toytree-NodeLabel\" transform=\"translate(275.00200950065556,94.41896024464829)\"><text x=\"-2.5020000000000002\" y=\"2.2995\" style=\"fill:rgb(16.1%,15.3%,14.1%);fill-opacity:1.0\">6</text></g><g class=\"toytree-NodeLabel\" transform=\"translate(275.00200950065556,74.03160040774716)\"><text x=\"-2.5020000000000002\" y=\"2.2995\" style=\"fill:rgb(16.1%,15.3%,14.1%);fill-opacity:1.0\">7</text></g><g class=\"toytree-NodeLabel\" transform=\"translate(275.00200950065556,53.644240570846065)\"><text x=\"-2.5020000000000002\" y=\"2.2995\" style=\"fill:rgb(16.1%,15.3%,14.1%);fill-opacity:1.0\">8</text></g><g class=\"toytree-NodeLabel\" transform=\"translate(275.00200950065556,33.25688073394495)\"><text x=\"-2.5020000000000002\" y=\"2.2995\" style=\"fill:rgb(16.1%,15.3%,14.1%);fill-opacity:1.0\">9</text></g><g class=\"toytree-NodeLabel\" transform=\"translate(246.75370110489592,124.99999999999997)\"><text x=\"-5.0040000000000004\" y=\"2.2995\" style=\"fill:rgb(16.1%,15.3%,14.1%);fill-opacity:1.0\">10</text></g><g class=\"toytree-NodeLabel\" transform=\"translate(218.5053927091363,109.70948012232412)\"><text x=\"-5.0040000000000004\" y=\"2.2995\" style=\"fill:rgb(16.1%,15.3%,14.1%);fill-opacity:1.0\">11</text></g><g class=\"toytree-NodeLabel\" transform=\"translate(190.25708431337665,91.87054026503566)\"><text x=\"-5.0040000000000004\" y=\"2.2995\" style=\"fill:rgb(16.1%,15.3%,14.1%);fill-opacity:1.0\">12</text></g><g class=\"toytree-NodeLabel\" transform=\"translate(162.00877591761704,123.72579001019365)\"><text x=\"-5.0040000000000004\" y=\"2.2995\" style=\"fill:rgb(16.1%,15.3%,14.1%);fill-opacity:1.0\">13</text></g><g class=\"toytree-NodeLabel\" transform=\"translate(246.75370110489592,206.54943934760448)\"><text x=\"-5.0040000000000004\" y=\"2.2995\" style=\"fill:rgb(16.1%,15.3%,14.1%);fill-opacity:1.0\">14</text></g><g class=\"toytree-NodeLabel\" transform=\"translate(133.76046752185744,149.84709480122325)\"><text x=\"-5.0040000000000004\" y=\"2.2995\" style=\"fill:rgb(16.1%,15.3%,14.1%);fill-opacity:1.0\">15</text></g><g class=\"toytree-NodeLabel\" transform=\"translate(105.5121591260978,178.19826707441385)\"><text x=\"-5.0040000000000004\" y=\"2.2995\" style=\"fill:rgb(16.1%,15.3%,14.1%);fill-opacity:1.0\">16</text></g><g class=\"toytree-NodeLabel\" transform=\"translate(246.75370110489592,43.450560652395495)\"><text x=\"-5.0040000000000004\" y=\"2.2995\" style=\"fill:rgb(16.1%,15.3%,14.1%);fill-opacity:1.0\">17</text></g><g class=\"toytree-NodeLabel\" transform=\"translate(77.26385073033819,110.82441386340467)\"><text x=\"-5.0040000000000004\" y=\"2.2995\" style=\"fill:rgb(16.1%,15.3%,14.1%);fill-opacity:1.0\">18</text></g></g><g class=\"toytree-TipLabels\" style=\"fill:rgb(16.1%,15.3%,14.1%);fill-opacity:1.0;font-family:Helvetica;font-size:11.0px;font-weight:300;stroke:none;vertical-align:baseline;white-space:pre\"><g class=\"toytree-TipLabel\" transform=\"translate(275.00200950065556,216.74311926605503)\"><text x=\"15.0\" y=\"2.8104999999999993\" style=\"\">r0</text></g><g class=\"toytree-TipLabel\" transform=\"translate(275.00200950065556,196.35575942915392)\"><text x=\"15.0\" y=\"2.8104999999999993\" style=\"\">r1</text></g><g class=\"toytree-TipLabel\" transform=\"translate(275.00200950065556,175.96839959225278)\"><text x=\"15.0\" y=\"2.8104999999999993\" style=\"\">r2</text></g><g class=\"toytree-TipLabel\" transform=\"translate(275.00200950065556,155.5810397553517)\"><text x=\"15.0\" y=\"2.8104999999999993\" style=\"\">r3</text></g><g class=\"toytree-TipLabel\" transform=\"translate(275.00200950065556,135.19367991845056)\"><text x=\"15.0\" y=\"2.8104999999999993\" style=\"\">r4</text></g><g class=\"toytree-TipLabel\" transform=\"translate(275.00200950065556,114.80632008154943)\"><text x=\"15.0\" y=\"2.8104999999999993\" style=\"\">r5</text></g><g class=\"toytree-TipLabel\" transform=\"translate(275.00200950065556,94.41896024464829)\"><text x=\"15.0\" y=\"2.8104999999999993\" style=\"\">r6</text></g><g class=\"toytree-TipLabel\" transform=\"translate(275.00200950065556,74.03160040774716)\"><text x=\"15.0\" y=\"2.8104999999999993\" style=\"\">r7</text></g><g class=\"toytree-TipLabel\" transform=\"translate(275.00200950065556,53.644240570846065)\"><text x=\"15.0\" y=\"2.8104999999999993\" style=\"\">r8</text></g><g class=\"toytree-TipLabel\" transform=\"translate(275.00200950065556,33.25688073394495)\"><text x=\"15.0\" y=\"2.8104999999999993\" style=\"\">r9</text></g></g></g></g></g><g class=\"toyplot-coordinates-Cartesian\" id=\"t55f7479f13b54649b23694a7f95f45b4\"><clipPath id=\"tff454d20321d41c689d38ab35ece244e\"><rect x=\"370.00000000000006\" y=\"10.0\" width=\"274.99999999999994\" height=\"230.0\"></rect></clipPath><g clip-path=\"url(#tff454d20321d41c689d38ab35ece244e)\"><g class=\"toytree-mark-Toytree\" id=\"t3df5e174060941779320563b239e757c\"><g class=\"toytree-Edges\" style=\"fill:none;stroke:#262626;stroke-linecap:round;stroke-width:2\"><path d=\"M 445.7 208.4 L 589.3 218.8\" id=\"14,0\" style=\"stroke-width:nan\"></path><path d=\"M 445.7 208.4 L 589.3 198.0\" id=\"14,1\" style=\"stroke-width:nan\"></path><path d=\"M 445.7 150.4 L 589.3 177.1\" id=\"15,2\" style=\"stroke-width:nan\"></path><path d=\"M 474.4 123.7 L 589.3 156.3\" id=\"13,3\" style=\"stroke-width:nan\"></path><path d=\"M 560.6 125.0 L 589.3 135.4\" id=\"10,4\" style=\"stroke-width:nan\"></path><path d=\"M 560.6 125.0 L 589.3 114.6\" id=\"10,5\" style=\"stroke-width:nan\"></path><path d=\"M 531.9 109.4 L 589.3 93.7\" id=\"11,6\" style=\"stroke-width:nan\"></path><path d=\"M 503.2 91.1 L 589.3 72.9\" id=\"12,7\" style=\"stroke-width:nan\"></path><path d=\"M 417.0 41.6 L 589.3 52.0\" id=\"17,8\" style=\"stroke-width:nan\"></path><path d=\"M 417.0 41.6 L 589.3 31.2\" id=\"17,9\" style=\"stroke-width:nan\"></path><path d=\"M 531.9 109.4 L 560.6 125.0\" id=\"11,10\" style=\"stroke-width:nan\"></path><path d=\"M 503.2 91.1 L 531.9 109.4\" id=\"12,11\" style=\"stroke-width:nan\"></path><path d=\"M 474.4 123.7 L 503.2 91.1\" id=\"13,12\" style=\"stroke-width:nan\"></path><path d=\"M 445.7 150.4 L 474.4 123.7\" id=\"15,13\" style=\"stroke-width:nan\"></path><path d=\"M 417.0 179.4 L 445.7 208.4\" id=\"16,14\" style=\"stroke-width:nan\"></path><path d=\"M 417.0 179.4 L 445.7 150.4\" id=\"16,15\" style=\"stroke-width:nan\"></path><path d=\"M 388.3 110.5 L 417.0 179.4\" id=\"18,16\" style=\"stroke-width:nan\"></path><path d=\"M 388.3 110.5 L 417.0 41.6\" id=\"18,17\" style=\"stroke-width:nan\"></path></g><g class=\"toytree-AlignEdges\" style=\"stroke:rgba(66.3%,66.3%,66.3%,1.000);stroke-dasharray:2,4;stroke-linecap:round;stroke-opacity:0.75;stroke-width:2\"><path d=\"M 589.3 218.8 L 589.3 218.8\"></path><path d=\"M 589.3 198.0 L 589.3 198.0\"></path><path d=\"M 589.3 177.1 L 589.3 177.1\"></path><path d=\"M 589.3 156.3 L 589.3 156.3\"></path><path d=\"M 589.3 135.4 L 589.3 135.4\"></path><path d=\"M 589.3 114.6 L 589.3 114.6\"></path><path d=\"M 589.3 93.7 L 589.3 93.7\"></path><path d=\"M 589.3 72.9 L 589.3 72.9\"></path><path d=\"M 589.3 52.0 L 589.3 52.0\"></path><path d=\"M 589.3 31.2 L 589.3 31.2\"></path></g><g class=\"toytree-Nodes\" style=\"fill:rgba(10.6%,62.0%,46.7%,1.000);stroke:white;stroke-width:1.5\"><g id=\"node-10\" transform=\"translate(560.611,125.000)\"><circle r=\"4.0\"></circle></g><g id=\"node-11\" transform=\"translate(531.889,109.365)\"><circle r=\"4.0\"></circle></g><g id=\"node-12\" transform=\"translate(503.168,91.125)\"><circle r=\"4.0\"></circle></g><g id=\"node-13\" transform=\"translate(474.447,123.697)\"><circle r=\"4.0\"></circle></g><g id=\"node-14\" transform=\"translate(445.725,208.385)\"><circle r=\"4.0\"></circle></g><g id=\"node-15\" transform=\"translate(445.725,150.407)\"><circle r=\"4.0\"></circle></g><g id=\"node-16\" transform=\"translate(417.004,179.396)\"><circle r=\"4.0\"></circle></g><g id=\"node-17\" transform=\"translate(417.004,41.615)\"><circle r=\"4.0\"></circle></g><g id=\"node-18\" transform=\"translate(388.282,110.505)\"><circle r=\"4.0\"></circle></g></g><g class=\"toytree-TipLabels\" style=\"fill:rgb(16.1%,15.3%,14.1%);fill-opacity:1.0;font-family:Helvetica;font-size:11.0px;font-weight:300;stroke:none;vertical-align:baseline;white-space:pre\"><g class=\"toytree-TipLabel\" transform=\"translate(589.3321565658933,218.80863039399625)\"><text x=\"15.0\" y=\"2.8104999999999993\" style=\"\">r0</text></g><g class=\"toytree-TipLabel\" transform=\"translate(589.3321565658933,197.96226808421932)\"><text x=\"15.0\" y=\"2.8104999999999993\" style=\"\">r1</text></g><g class=\"toytree-TipLabel\" transform=\"translate(589.3321565658933,177.11590577444235)\"><text x=\"15.0\" y=\"2.8104999999999993\" style=\"\">r2</text></g><g class=\"toytree-TipLabel\" transform=\"translate(589.3321565658933,156.26954346466542)\"><text x=\"15.0\" y=\"2.8104999999999993\" style=\"\">r3</text></g><g class=\"toytree-TipLabel\" transform=\"translate(589.3321565658933,135.42318115488848)\"><text x=\"15.0\" y=\"2.8104999999999993\" style=\"\">r4</text></g><g class=\"toytree-TipLabel\" transform=\"translate(589.3321565658933,114.57681884511152)\"><text x=\"15.0\" y=\"2.8104999999999993\" style=\"\">r5</text></g><g class=\"toytree-TipLabel\" transform=\"translate(589.3321565658933,93.73045653533458)\"><text x=\"15.0\" y=\"2.8104999999999993\" style=\"\">r6</text></g><g class=\"toytree-TipLabel\" transform=\"translate(589.3321565658933,72.88409422555765)\"><text x=\"15.0\" y=\"2.8104999999999993\" style=\"\">r7</text></g><g class=\"toytree-TipLabel\" transform=\"translate(589.3321565658933,52.03773191578067)\"><text x=\"15.0\" y=\"2.8104999999999993\" style=\"\">r8</text></g><g class=\"toytree-TipLabel\" transform=\"translate(589.3321565658933,31.19136960600373)\"><text x=\"15.0\" y=\"2.8104999999999993\" style=\"\">r9</text></g></g></g></g></g></svg><div class=\"toyplot-behavior\"><script>(function()\n",
       "{\n",
       "var modules={};\n",
       "})();</script></div></div>"
      ]
     },
     "metadata": {},
     "output_type": "display_data"
    }
   ],
   "source": [
    "# set dimensions of the canvas\n",
    "canvas = toyplot.Canvas(width=700, height=250)\n",
    "\n",
    "# dissect canvas into multiple cartesian areas (x1, x2, y1, y2)\n",
    "ax0 = canvas.cartesian(bounds=('10%', '45%', '10%', '90%'))\n",
    "ax1 = canvas.cartesian(bounds=('55%', '90%', '10%', '90%'))\n",
    "\n",
    "# call draw with the 'axes' argument to pass it to a specific cartesian area\n",
    "style = {\n",
    "    \"tip_labels_align\": True,\n",
    "    \"tip_labels_style\": {\n",
    "        \"font-size\": \"9px\"\n",
    "    },\n",
    "}\n",
    "stre.draw(axes=ax0, ts='s');\n",
    "stre.draw(axes=ax1, ts='o', layout='r');\n",
    "\n",
    "# optionally hide the axes (e.g, ticks and splines)\n",
    "ax0.show=False\n",
    "ax1.show=False"
   ]
  },
  {
   "cell_type": "markdown",
   "metadata": {},
   "source": [
    "#### The Coordinates\n",
    "Toytrees drawings are designed to use a set coordinate space within the axes to make it easy to situate additional plots to align with tree drawings. Regardless of whether the tree drawing is oriented 'right' or 'down' the farthest tip of the tree (not tip label but tip) will align at the zero-axis. For right-facing trees this means at x=0, for down-facing trees this means y=0. On the other axis, tree tips will be spaced from zero to ntips with a unit of 1 between each tip. Below I add a grid to overlay tree plots in both orientations to highlight the coordinate space. "
   ]
  },
  {
   "cell_type": "code",
   "execution_count": 39,
   "metadata": {},
   "outputs": [],
   "source": [
    "tre = toytree.rtree.unittree(12, seed=123)"
   ]
  },
  {
   "cell_type": "code",
   "execution_count": 40,
   "metadata": {
    "scrolled": false
   },
   "outputs": [
    {
     "data": {
      "text/html": [
       "<div class=\"toyplot\" id=\"tce008ff9996f44328165fb6baa67170a\" style=\"text-align:center\"><svg class=\"toyplot-canvas-Canvas\" xmlns:toyplot=\"http://www.sandia.gov/toyplot\" xmlns:xlink=\"http://www.w3.org/1999/xlink\" xmlns=\"http://www.w3.org/2000/svg\" width=\"300.0px\" height=\"300.0px\" viewBox=\"0 0 300.0 300.0\" preserveAspectRatio=\"xMidYMid meet\" style=\"background-color:transparent;border-color:#292724;border-style:none;border-width:1.0;fill:rgb(16.1%,15.3%,14.1%);fill-opacity:1.0;font-family:Helvetica;font-size:12px;opacity:1.0;stroke:rgb(16.1%,15.3%,14.1%);stroke-opacity:1.0;stroke-width:1.0\" id=\"td9bcf6eb93e04d5c9a55359a165c2298\"><g class=\"toyplot-coordinates-Cartesian\" id=\"t4dccf6e9a4ac445cada329ea021c5a40\"><clipPath id=\"td0fcb34452954883be46725d5fdd9e6e\"><rect x=\"35.0\" y=\"35.0\" width=\"230.0\" height=\"230.0\"></rect></clipPath><g clip-path=\"url(#td0fcb34452954883be46725d5fdd9e6e)\"><g class=\"toytree-mark-Toytree\" id=\"t9268b48b7c814f97a17a3f31c3d8efd7\"><g class=\"toytree-Edges\" style=\"fill:none;stroke:rgba(16.1%,15.3%,14.1%,1.000);stroke-linecap:round;stroke-opacity:0.5;stroke-width:2.0\"><path d=\"M 95.5 229.3 L 95.5 241.2 L 240.9 241.2\" id=\"20,0\" style=\"stroke-width:nan\"></path><path d=\"M 131.8 217.3 L 131.8 225.3 L 240.9 225.3\" id=\"17,1\" style=\"stroke-width:nan\"></path><path d=\"M 131.8 217.3 L 131.8 209.4 L 240.9 209.4\" id=\"17,2\" style=\"stroke-width:nan\"></path><path d=\"M 168.2 185.5 L 168.2 193.4 L 240.9 193.4\" id=\"14,3\" style=\"stroke-width:nan\"></path><path d=\"M 168.2 185.5 L 168.2 177.5 L 240.9 177.5\" id=\"14,4\" style=\"stroke-width:nan\"></path><path d=\"M 168.2 153.6 L 168.2 161.6 L 240.9 161.6\" id=\"15,5\" style=\"stroke-width:nan\"></path><path d=\"M 168.2 153.6 L 168.2 145.6 L 240.9 145.6\" id=\"15,6\" style=\"stroke-width:nan\"></path><path d=\"M 131.8 109.8 L 131.8 129.7 L 240.9 129.7\" id=\"19,7\" style=\"stroke-width:nan\"></path><path d=\"M 204.5 105.8 L 204.5 113.7 L 240.9 113.7\" id=\"12,8\" style=\"stroke-width:nan\"></path><path d=\"M 204.5 105.8 L 204.5 97.8 L 240.9 97.8\" id=\"12,9\" style=\"stroke-width:nan\"></path><path d=\"M 204.5 73.9 L 204.5 81.9 L 240.9 81.9\" id=\"13,10\" style=\"stroke-width:nan\"></path><path d=\"M 204.5 73.9 L 204.5 65.9 L 240.9 65.9\" id=\"13,11\" style=\"stroke-width:nan\"></path><path d=\"M 168.2 89.8 L 168.2 105.8 L 204.5 105.8\" id=\"16,12\" style=\"stroke-width:nan\"></path><path d=\"M 168.2 89.8 L 168.2 73.9 L 204.5 73.9\" id=\"16,13\" style=\"stroke-width:nan\"></path><path d=\"M 131.8 169.5 L 131.8 185.5 L 168.2 185.5\" id=\"18,14\" style=\"stroke-width:nan\"></path><path d=\"M 131.8 169.5 L 131.8 153.6 L 168.2 153.6\" id=\"18,15\" style=\"stroke-width:nan\"></path><path d=\"M 131.8 109.8 L 131.8 89.8 L 168.2 89.8\" id=\"19,16\" style=\"stroke-width:nan\"></path><path d=\"M 95.5 229.3 L 95.5 217.3 L 131.8 217.3\" id=\"20,17\" style=\"stroke-width:nan\"></path><path d=\"M 95.5 139.6 L 95.5 169.5 L 131.8 169.5\" id=\"21,18\" style=\"stroke-width:nan\"></path><path d=\"M 95.5 139.6 L 95.5 109.8 L 131.8 109.8\" id=\"21,19\" style=\"stroke-width:nan\"></path><path d=\"M 59.1 184.5 L 59.1 229.3 L 95.5 229.3\" id=\"22,20\" style=\"stroke-width:nan\"></path><path d=\"M 59.1 184.5 L 59.1 139.6 L 95.5 139.6\" id=\"22,21\" style=\"stroke-width:nan\"></path></g><g class=\"toytree-Nodes\" style=\"fill:rgba(40.0%,76.1%,64.7%,1.000);stroke:#262626;stroke-width:1.0\"><g id=\"node-0\" transform=\"translate(240.909,241.235)\"><circle r=\"10.0\"></circle></g></g><g class=\"toytree-NodeLabels\" style=\"font-family:Helvetica;font-size:9.0px;font-weight:300;stroke:none;vertical-align:baseline;white-space:pre\"><g class=\"toytree-NodeLabel\" transform=\"translate(240.9090909090909,241.2350597609562)\"><text x=\"-2.5020000000000002\" y=\"2.2995\" style=\"fill:rgb(16.1%,15.3%,14.1%);fill-opacity:1.0\">0</text></g></g></g><g class=\"toyplot-mark-AxisLines\" style=\"stroke:rgb(100%,0%,0%);stroke-dasharray:2,4;stroke-opacity:1.0\" id=\"t5d94ede93e604685a56639986759f914\"><g class=\"toyplot-Series\"><line class=\"toyplot-Datum\" y1=\"241.2350597609562\" y2=\"241.2350597609562\" x1=\"50.0\" x2=\"250.0\" style=\"opacity:1.0;stroke:rgb(100%,0%,0%);stroke-dasharray:2,4;stroke-opacity:1.0\"></line><line class=\"toyplot-Datum\" y1=\"225.2988047808765\" y2=\"225.2988047808765\" x1=\"50.0\" x2=\"250.0\" style=\"opacity:1.0;stroke:rgb(100%,0%,0%);stroke-dasharray:2,4;stroke-opacity:1.0\"></line><line class=\"toyplot-Datum\" y1=\"209.36254980079678\" y2=\"209.36254980079678\" x1=\"50.0\" x2=\"250.0\" style=\"opacity:1.0;stroke:rgb(100%,0%,0%);stroke-dasharray:2,4;stroke-opacity:1.0\"></line><line class=\"toyplot-Datum\" y1=\"193.42629482071715\" y2=\"193.42629482071715\" x1=\"50.0\" x2=\"250.0\" style=\"opacity:1.0;stroke:rgb(100%,0%,0%);stroke-dasharray:2,4;stroke-opacity:1.0\"></line><line class=\"toyplot-Datum\" y1=\"177.49003984063748\" y2=\"177.49003984063748\" x1=\"50.0\" x2=\"250.0\" style=\"opacity:1.0;stroke:rgb(100%,0%,0%);stroke-dasharray:2,4;stroke-opacity:1.0\"></line><line class=\"toyplot-Datum\" y1=\"161.55378486055778\" y2=\"161.55378486055778\" x1=\"50.0\" x2=\"250.0\" style=\"opacity:1.0;stroke:rgb(100%,0%,0%);stroke-dasharray:2,4;stroke-opacity:1.0\"></line><line class=\"toyplot-Datum\" y1=\"145.6175298804781\" y2=\"145.6175298804781\" x1=\"50.0\" x2=\"250.0\" style=\"opacity:1.0;stroke:rgb(100%,0%,0%);stroke-dasharray:2,4;stroke-opacity:1.0\"></line><line class=\"toyplot-Datum\" y1=\"129.68127490039842\" y2=\"129.68127490039842\" x1=\"50.0\" x2=\"250.0\" style=\"opacity:1.0;stroke:rgb(100%,0%,0%);stroke-dasharray:2,4;stroke-opacity:1.0\"></line><line class=\"toyplot-Datum\" y1=\"113.74501992031871\" y2=\"113.74501992031871\" x1=\"50.0\" x2=\"250.0\" style=\"opacity:1.0;stroke:rgb(100%,0%,0%);stroke-dasharray:2,4;stroke-opacity:1.0\"></line><line class=\"toyplot-Datum\" y1=\"97.80876494023904\" y2=\"97.80876494023904\" x1=\"50.0\" x2=\"250.0\" style=\"opacity:1.0;stroke:rgb(100%,0%,0%);stroke-dasharray:2,4;stroke-opacity:1.0\"></line><line class=\"toyplot-Datum\" y1=\"81.87250996015936\" y2=\"81.87250996015936\" x1=\"50.0\" x2=\"250.0\" style=\"opacity:1.0;stroke:rgb(100%,0%,0%);stroke-dasharray:2,4;stroke-opacity:1.0\"></line><line class=\"toyplot-Datum\" y1=\"65.9362549800797\" y2=\"65.9362549800797\" x1=\"50.0\" x2=\"250.0\" style=\"opacity:1.0;stroke:rgb(100%,0%,0%);stroke-dasharray:2,4;stroke-opacity:1.0\"></line></g></g><g class=\"toyplot-mark-AxisLines\" style=\"stroke:rgb(0%,0%,100%);stroke-dasharray:2,4;stroke-opacity:1.0\" id=\"t78cdb93c491c46d391fce8d3f831fb99\"><g class=\"toyplot-Series\"><line class=\"toyplot-Datum\" x1=\"240.9090909090909\" x2=\"240.9090909090909\" y1=\"50.0\" y2=\"250.0\" style=\"opacity:1.0;stroke:rgb(0%,0%,100%);stroke-dasharray:2,4;stroke-opacity:1.0\"></line></g></g></g><g class=\"toyplot-coordinates-Axis\" id=\"t815b05049856492d99880307a7d16921\" transform=\"translate(50.0,250.0)translate(0,15.0)\"><line x1=\"9.090909090909099\" y1=\"0\" x2=\"190.9090909090909\" y2=\"0\" style=\"\"></line><g><line x1=\"9.090909090909099\" y1=\"0\" x2=\"9.090909090909099\" y2=\"-5\" style=\"\"></line><line x1=\"100.0\" y1=\"0\" x2=\"100.0\" y2=\"-5\" style=\"\"></line><line x1=\"190.9090909090909\" y1=\"0\" x2=\"190.9090909090909\" y2=\"-5\" style=\"\"></line></g><g><g transform=\"translate(9.090909090909099,6)\"><text x=\"-8.615\" y=\"8.555\" style=\"fill:rgb(16.1%,15.3%,14.1%);fill-opacity:1.0;font-family:helvetica;font-size:10.0px;font-weight:normal;stroke:none;vertical-align:baseline;white-space:pre\">-1.0</text></g><g transform=\"translate(100.0,6)\"><text x=\"-8.615\" y=\"8.555\" style=\"fill:rgb(16.1%,15.3%,14.1%);fill-opacity:1.0;font-family:helvetica;font-size:10.0px;font-weight:normal;stroke:none;vertical-align:baseline;white-space:pre\">-0.5</text></g><g transform=\"translate(190.9090909090909,6)\"><text x=\"-6.95\" y=\"8.555\" style=\"fill:rgb(16.1%,15.3%,14.1%);fill-opacity:1.0;font-family:helvetica;font-size:10.0px;font-weight:normal;stroke:none;vertical-align:baseline;white-space:pre\">0.0</text></g></g><g class=\"toyplot-coordinates-Axis-coordinates\" style=\"visibility:hidden\" transform=\"\"><line x1=\"0\" x2=\"0\" y1=\"-3.0\" y2=\"4.5\" style=\"stroke:rgb(43.9%,50.2%,56.5%);stroke-opacity:1.0;stroke-width:1.0\"></line><text x=\"0\" y=\"-6\" style=\"alignment-baseline:alphabetic;fill:rgb(43.9%,50.2%,56.5%);fill-opacity:1.0;font-size:10px;font-weight:normal;stroke:none;text-anchor:middle\"></text></g></g><g class=\"toyplot-coordinates-Axis\" id=\"t6a9c49debbd844588270c4bcb08b13a9\" transform=\"translate(50.0,250.0)rotate(-90.0)translate(0,-15.0)\"><line x1=\"8.764940239043826\" y1=\"0\" x2=\"184.0637450199203\" y2=\"0\" style=\"\"></line><g><line x1=\"8.764940239043826\" y1=\"0\" x2=\"8.764940239043826\" y2=\"5\" style=\"\"></line><line x1=\"72.50996015936254\" y1=\"0\" x2=\"72.50996015936254\" y2=\"5\" style=\"\"></line><line x1=\"136.25498007968127\" y1=\"0\" x2=\"136.25498007968127\" y2=\"5\" style=\"\"></line><line x1=\"200.0\" y1=\"0\" x2=\"200.0\" y2=\"5\" style=\"\"></line></g><g><g transform=\"translate(8.764940239043826,-6)\"><text x=\"-2.78\" y=\"-4.440892098500626e-16\" style=\"fill:rgb(16.1%,15.3%,14.1%);fill-opacity:1.0;font-family:helvetica;font-size:10.0px;font-weight:normal;stroke:none;vertical-align:baseline;white-space:pre\">0</text></g><g transform=\"translate(72.50996015936254,-6)\"><text x=\"-2.78\" y=\"-4.440892098500626e-16\" style=\"fill:rgb(16.1%,15.3%,14.1%);fill-opacity:1.0;font-family:helvetica;font-size:10.0px;font-weight:normal;stroke:none;vertical-align:baseline;white-space:pre\">4</text></g><g transform=\"translate(136.25498007968127,-6)\"><text x=\"-2.78\" y=\"-4.440892098500626e-16\" style=\"fill:rgb(16.1%,15.3%,14.1%);fill-opacity:1.0;font-family:helvetica;font-size:10.0px;font-weight:normal;stroke:none;vertical-align:baseline;white-space:pre\">8</text></g><g transform=\"translate(200.0,-6)\"><text x=\"-5.56\" y=\"-4.440892098500626e-16\" style=\"fill:rgb(16.1%,15.3%,14.1%);fill-opacity:1.0;font-family:helvetica;font-size:10.0px;font-weight:normal;stroke:none;vertical-align:baseline;white-space:pre\">12</text></g></g><g class=\"toyplot-coordinates-Axis-coordinates\" style=\"visibility:hidden\" transform=\"\"><line x1=\"0\" x2=\"0\" y1=\"3.0\" y2=\"-4.5\" style=\"stroke:rgb(43.9%,50.2%,56.5%);stroke-opacity:1.0;stroke-width:1.0\"></line><text x=\"0\" y=\"6\" style=\"alignment-baseline:hanging;fill:rgb(43.9%,50.2%,56.5%);fill-opacity:1.0;font-size:10px;font-weight:normal;stroke:none;text-anchor:middle\"></text></g></g></g></svg><div class=\"toyplot-behavior\"><script>(function()\n",
       "{\n",
       "var modules={};\n",
       "modules[\"toyplot/canvas/id\"] = \"td9bcf6eb93e04d5c9a55359a165c2298\";\n",
       "modules[\"toyplot/canvas\"] = (function(canvas_id)\n",
       "    {\n",
       "        return document.querySelector(\"#\" + canvas_id);\n",
       "    })(modules[\"toyplot/canvas/id\"]);\n",
       "modules[\"toyplot.coordinates.Axis\"] = (\n",
       "        function(canvas)\n",
       "        {\n",
       "            function sign(x)\n",
       "            {\n",
       "                return x < 0 ? -1 : x > 0 ? 1 : 0;\n",
       "            }\n",
       "\n",
       "            function mix(a, b, amount)\n",
       "            {\n",
       "                return ((1.0 - amount) * a) + (amount * b);\n",
       "            }\n",
       "\n",
       "            function log(x, base)\n",
       "            {\n",
       "                return Math.log(Math.abs(x)) / Math.log(base);\n",
       "            }\n",
       "\n",
       "            function in_range(a, x, b)\n",
       "            {\n",
       "                var left = Math.min(a, b);\n",
       "                var right = Math.max(a, b);\n",
       "                return left <= x && x <= right;\n",
       "            }\n",
       "\n",
       "            function inside(range, projection)\n",
       "            {\n",
       "                for(var i = 0; i != projection.length; ++i)\n",
       "                {\n",
       "                    var segment = projection[i];\n",
       "                    if(in_range(segment.range.min, range, segment.range.max))\n",
       "                        return true;\n",
       "                }\n",
       "                return false;\n",
       "            }\n",
       "\n",
       "            function to_domain(range, projection)\n",
       "            {\n",
       "                for(var i = 0; i != projection.length; ++i)\n",
       "                {\n",
       "                    var segment = projection[i];\n",
       "                    if(in_range(segment.range.bounds.min, range, segment.range.bounds.max))\n",
       "                    {\n",
       "                        if(segment.scale == \"linear\")\n",
       "                        {\n",
       "                            var amount = (range - segment.range.min) / (segment.range.max - segment.range.min);\n",
       "                            return mix(segment.domain.min, segment.domain.max, amount)\n",
       "                        }\n",
       "                        else if(segment.scale[0] == \"log\")\n",
       "                        {\n",
       "                            var amount = (range - segment.range.min) / (segment.range.max - segment.range.min);\n",
       "                            var base = segment.scale[1];\n",
       "                            return sign(segment.domain.min) * Math.pow(base, mix(log(segment.domain.min, base), log(segment.domain.max, base), amount));\n",
       "                        }\n",
       "                    }\n",
       "                }\n",
       "            }\n",
       "\n",
       "            var axes = {};\n",
       "\n",
       "            function display_coordinates(e)\n",
       "            {\n",
       "                var current = canvas.createSVGPoint();\n",
       "                current.x = e.clientX;\n",
       "                current.y = e.clientY;\n",
       "\n",
       "                for(var axis_id in axes)\n",
       "                {\n",
       "                    var axis = document.querySelector(\"#\" + axis_id);\n",
       "                    var coordinates = axis.querySelector(\".toyplot-coordinates-Axis-coordinates\");\n",
       "                    if(coordinates)\n",
       "                    {\n",
       "                        var projection = axes[axis_id];\n",
       "                        var local = current.matrixTransform(axis.getScreenCTM().inverse());\n",
       "                        if(inside(local.x, projection))\n",
       "                        {\n",
       "                            var domain = to_domain(local.x, projection);\n",
       "                            coordinates.style.visibility = \"visible\";\n",
       "                            coordinates.setAttribute(\"transform\", \"translate(\" + local.x + \")\");\n",
       "                            var text = coordinates.querySelector(\"text\");\n",
       "                            text.textContent = domain.toFixed(2);\n",
       "                        }\n",
       "                        else\n",
       "                        {\n",
       "                            coordinates.style.visibility= \"hidden\";\n",
       "                        }\n",
       "                    }\n",
       "                }\n",
       "            }\n",
       "\n",
       "            canvas.addEventListener(\"click\", display_coordinates);\n",
       "\n",
       "            var module = {};\n",
       "            module.show_coordinates = function(axis_id, projection)\n",
       "            {\n",
       "                axes[axis_id] = projection;\n",
       "            }\n",
       "\n",
       "            return module;\n",
       "        })(modules[\"toyplot/canvas\"]);\n",
       "(function(axis, axis_id, projection)\n",
       "        {\n",
       "            axis.show_coordinates(axis_id, projection);\n",
       "        })(modules[\"toyplot.coordinates.Axis\"],\"t815b05049856492d99880307a7d16921\",[{\"domain\": {\"bounds\": {\"max\": Infinity, \"min\": -Infinity}, \"max\": 0.050000000000000044, \"min\": -1.05}, \"range\": {\"bounds\": {\"max\": Infinity, \"min\": -Infinity}, \"max\": 200.0, \"min\": 0.0}, \"scale\": \"linear\"}]);\n",
       "(function(axis, axis_id, projection)\n",
       "        {\n",
       "            axis.show_coordinates(axis_id, projection);\n",
       "        })(modules[\"toyplot.coordinates.Axis\"],\"t6a9c49debbd844588270c4bcb08b13a9\",[{\"domain\": {\"bounds\": {\"max\": Infinity, \"min\": -Infinity}, \"max\": 12.0, \"min\": -0.55}, \"range\": {\"bounds\": {\"max\": Infinity, \"min\": -Infinity}, \"max\": 200.0, \"min\": 0.0}, \"scale\": \"linear\"}]);\n",
       "})();</script></div></div>"
      ]
     },
     "metadata": {},
     "output_type": "display_data"
    }
   ],
   "source": [
    "# store the returned Canvas and Axes objects\n",
    "canvas, axes, mark = tre.draw(\n",
    "    width=300, \n",
    "    height=300, \n",
    "    edge_style={\"stroke-opacity\": 0.5},\n",
    "    tip_labels=False,\n",
    "    node_mask=[False] + [True] * (tre.nnodes - 1),\n",
    "    node_sizes=20,\n",
    "    node_labels=\"idx\",\n",
    ")\n",
    "\n",
    "# show the axes coordinates\n",
    "axes.show = True\n",
    "axes.x.ticks.show = True\n",
    "axes.y.ticks.show = True\n",
    "\n",
    "# overlay a grid \n",
    "axes.hlines(np.arange(0, tre.ntips), style={\"stroke\": \"red\", \"stroke-dasharray\": \"2,4\"})\n",
    "axes.vlines(0, style={\"stroke\": \"blue\", \"stroke-dasharray\": \"2,4\"});"
   ]
  },
  {
   "cell_type": "code",
   "execution_count": 44,
   "metadata": {},
   "outputs": [
    {
     "data": {
      "text/html": [
       "<div class=\"toyplot\" id=\"tf8aea476dc1c41aaa79785525ea80e37\" style=\"text-align:center\"><svg class=\"toyplot-canvas-Canvas\" xmlns:toyplot=\"http://www.sandia.gov/toyplot\" xmlns:xlink=\"http://www.w3.org/1999/xlink\" xmlns=\"http://www.w3.org/2000/svg\" width=\"300.0px\" height=\"300.0px\" viewBox=\"0 0 300.0 300.0\" preserveAspectRatio=\"xMidYMid meet\" style=\"background-color:transparent;border-color:#292724;border-style:none;border-width:1.0;fill:rgb(16.1%,15.3%,14.1%);fill-opacity:1.0;font-family:Helvetica;font-size:12px;opacity:1.0;stroke:rgb(16.1%,15.3%,14.1%);stroke-opacity:1.0;stroke-width:1.0\" id=\"t0978904647b74d94a1b0910537d8b62c\"><g class=\"toyplot-coordinates-Cartesian\" id=\"t5de7768b33664b4c9333c5def40d6e81\"><clipPath id=\"t92572254cbe54c4fb7716bf23abfc069\"><rect x=\"35.0\" y=\"35.0\" width=\"230.0\" height=\"230.0\"></rect></clipPath><g clip-path=\"url(#t92572254cbe54c4fb7716bf23abfc069)\"><g class=\"toytree-mark-Toytree\" id=\"t9c8b0400aa954ab39828741d06a87f81\"><g class=\"toytree-Edges\" style=\"fill:none;stroke:rgba(16.1%,15.3%,14.1%,1.000);stroke-linecap:round;stroke-opacity:0.5;stroke-width:2.0\"><path d=\"M 70.7 95.5 L 58.8 95.5 L 58.8 240.9\" id=\"20,0\" style=\"stroke-width:nan\"></path><path d=\"M 82.7 131.8 L 74.7 131.8 L 74.7 240.9\" id=\"17,1\" style=\"stroke-width:nan\"></path><path d=\"M 82.7 131.8 L 90.6 131.8 L 90.6 240.9\" id=\"17,2\" style=\"stroke-width:nan\"></path><path d=\"M 114.5 168.2 L 106.6 168.2 L 106.6 240.9\" id=\"14,3\" style=\"stroke-width:nan\"></path><path d=\"M 114.5 168.2 L 122.5 168.2 L 122.5 240.9\" id=\"14,4\" style=\"stroke-width:nan\"></path><path d=\"M 146.4 168.2 L 138.4 168.2 L 138.4 240.9\" id=\"15,5\" style=\"stroke-width:nan\"></path><path d=\"M 146.4 168.2 L 154.4 168.2 L 154.4 240.9\" id=\"15,6\" style=\"stroke-width:nan\"></path><path d=\"M 190.2 131.8 L 170.3 131.8 L 170.3 240.9\" id=\"19,7\" style=\"stroke-width:nan\"></path><path d=\"M 194.2 204.5 L 186.3 204.5 L 186.3 240.9\" id=\"12,8\" style=\"stroke-width:nan\"></path><path d=\"M 194.2 204.5 L 202.2 204.5 L 202.2 240.9\" id=\"12,9\" style=\"stroke-width:nan\"></path><path d=\"M 226.1 204.5 L 218.1 204.5 L 218.1 240.9\" id=\"13,10\" style=\"stroke-width:nan\"></path><path d=\"M 226.1 204.5 L 234.1 204.5 L 234.1 240.9\" id=\"13,11\" style=\"stroke-width:nan\"></path><path d=\"M 210.2 168.2 L 194.2 168.2 L 194.2 204.5\" id=\"16,12\" style=\"stroke-width:nan\"></path><path d=\"M 210.2 168.2 L 226.1 168.2 L 226.1 204.5\" id=\"16,13\" style=\"stroke-width:nan\"></path><path d=\"M 130.5 131.8 L 114.5 131.8 L 114.5 168.2\" id=\"18,14\" style=\"stroke-width:nan\"></path><path d=\"M 130.5 131.8 L 146.4 131.8 L 146.4 168.2\" id=\"18,15\" style=\"stroke-width:nan\"></path><path d=\"M 190.2 131.8 L 210.2 131.8 L 210.2 168.2\" id=\"19,16\" style=\"stroke-width:nan\"></path><path d=\"M 70.7 95.5 L 82.7 95.5 L 82.7 131.8\" id=\"20,17\" style=\"stroke-width:nan\"></path><path d=\"M 160.4 95.5 L 130.5 95.5 L 130.5 131.8\" id=\"21,18\" style=\"stroke-width:nan\"></path><path d=\"M 160.4 95.5 L 190.2 95.5 L 190.2 131.8\" id=\"21,19\" style=\"stroke-width:nan\"></path><path d=\"M 115.5 59.1 L 70.7 59.1 L 70.7 95.5\" id=\"22,20\" style=\"stroke-width:nan\"></path><path d=\"M 115.5 59.1 L 160.4 59.1 L 160.4 95.5\" id=\"22,21\" style=\"stroke-width:nan\"></path></g><g class=\"toytree-Nodes\" style=\"fill:rgba(40.0%,76.1%,64.7%,1.000);stroke:#262626;stroke-width:1.0\"><g id=\"node-0\" transform=\"translate(58.765,240.909)\"><circle r=\"10.0\"></circle></g></g><g class=\"toytree-NodeLabels\" style=\"font-family:Helvetica;font-size:9.0px;font-weight:300;stroke:none;vertical-align:baseline;white-space:pre\"><g class=\"toytree-NodeLabel\" transform=\"translate(58.764940239043824,240.90909090909093)\"><text x=\"-2.5020000000000002\" y=\"2.2995\" style=\"fill:rgb(16.1%,15.3%,14.1%);fill-opacity:1.0\">0</text></g></g></g><g class=\"toyplot-mark-AxisLines\" style=\"stroke:rgb(100%,0%,0%);stroke-dasharray:2,4;stroke-opacity:1.0\" id=\"tb5e991b26bd94eb6a39069e0c65b5c1f\"><g class=\"toyplot-Series\"><line class=\"toyplot-Datum\" x1=\"58.764940239043824\" x2=\"58.764940239043824\" y1=\"50.0\" y2=\"250.0\" style=\"opacity:1.0;stroke:rgb(100%,0%,0%);stroke-dasharray:2,4;stroke-opacity:1.0\"></line><line class=\"toyplot-Datum\" x1=\"74.7011952191235\" x2=\"74.7011952191235\" y1=\"50.0\" y2=\"250.0\" style=\"opacity:1.0;stroke:rgb(100%,0%,0%);stroke-dasharray:2,4;stroke-opacity:1.0\"></line><line class=\"toyplot-Datum\" x1=\"90.63745019920319\" x2=\"90.63745019920319\" y1=\"50.0\" y2=\"250.0\" style=\"opacity:1.0;stroke:rgb(100%,0%,0%);stroke-dasharray:2,4;stroke-opacity:1.0\"></line><line class=\"toyplot-Datum\" x1=\"106.57370517928287\" x2=\"106.57370517928287\" y1=\"50.0\" y2=\"250.0\" style=\"opacity:1.0;stroke:rgb(100%,0%,0%);stroke-dasharray:2,4;stroke-opacity:1.0\"></line><line class=\"toyplot-Datum\" x1=\"122.50996015936254\" x2=\"122.50996015936254\" y1=\"50.0\" y2=\"250.0\" style=\"opacity:1.0;stroke:rgb(100%,0%,0%);stroke-dasharray:2,4;stroke-opacity:1.0\"></line><line class=\"toyplot-Datum\" x1=\"138.44621513944222\" x2=\"138.44621513944222\" y1=\"50.0\" y2=\"250.0\" style=\"opacity:1.0;stroke:rgb(100%,0%,0%);stroke-dasharray:2,4;stroke-opacity:1.0\"></line><line class=\"toyplot-Datum\" x1=\"154.3824701195219\" x2=\"154.3824701195219\" y1=\"50.0\" y2=\"250.0\" style=\"opacity:1.0;stroke:rgb(100%,0%,0%);stroke-dasharray:2,4;stroke-opacity:1.0\"></line><line class=\"toyplot-Datum\" x1=\"170.31872509960158\" x2=\"170.31872509960158\" y1=\"50.0\" y2=\"250.0\" style=\"opacity:1.0;stroke:rgb(100%,0%,0%);stroke-dasharray:2,4;stroke-opacity:1.0\"></line><line class=\"toyplot-Datum\" x1=\"186.25498007968127\" x2=\"186.25498007968127\" y1=\"50.0\" y2=\"250.0\" style=\"opacity:1.0;stroke:rgb(100%,0%,0%);stroke-dasharray:2,4;stroke-opacity:1.0\"></line><line class=\"toyplot-Datum\" x1=\"202.19123505976094\" x2=\"202.19123505976094\" y1=\"50.0\" y2=\"250.0\" style=\"opacity:1.0;stroke:rgb(100%,0%,0%);stroke-dasharray:2,4;stroke-opacity:1.0\"></line><line class=\"toyplot-Datum\" x1=\"218.12749003984067\" x2=\"218.12749003984067\" y1=\"50.0\" y2=\"250.0\" style=\"opacity:1.0;stroke:rgb(100%,0%,0%);stroke-dasharray:2,4;stroke-opacity:1.0\"></line><line class=\"toyplot-Datum\" x1=\"234.0637450199203\" x2=\"234.0637450199203\" y1=\"50.0\" y2=\"250.0\" style=\"opacity:1.0;stroke:rgb(100%,0%,0%);stroke-dasharray:2,4;stroke-opacity:1.0\"></line></g></g><g class=\"toyplot-mark-AxisLines\" style=\"stroke:rgb(0%,0%,100%);stroke-dasharray:2,4;stroke-opacity:1.0\" id=\"t1f22b4578c534a8ca4a8c020b8c74176\"><g class=\"toyplot-Series\"><line class=\"toyplot-Datum\" y1=\"240.90909090909093\" y2=\"240.90909090909093\" x1=\"50.0\" x2=\"250.0\" style=\"opacity:1.0;stroke:rgb(0%,0%,100%);stroke-dasharray:2,4;stroke-opacity:1.0\"></line></g></g></g><g class=\"toyplot-coordinates-Axis\" id=\"t42c43b2830ac4b21ae066bc897082e6c\" transform=\"translate(50.0,250.0)translate(0,15.0)\"><line x1=\"8.764940239043826\" y1=\"0\" x2=\"184.0637450199203\" y2=\"0\" style=\"\"></line><g><line x1=\"8.764940239043826\" y1=\"0\" x2=\"8.764940239043826\" y2=\"-5\" style=\"\"></line><line x1=\"72.50996015936254\" y1=\"0\" x2=\"72.50996015936254\" y2=\"-5\" style=\"\"></line><line x1=\"136.25498007968127\" y1=\"0\" x2=\"136.25498007968127\" y2=\"-5\" style=\"\"></line><line x1=\"200.0\" y1=\"0\" x2=\"200.0\" y2=\"-5\" style=\"\"></line></g><g><g transform=\"translate(8.764940239043826,6)\"><text x=\"-2.78\" y=\"8.555\" style=\"fill:rgb(16.1%,15.3%,14.1%);fill-opacity:1.0;font-family:helvetica;font-size:10.0px;font-weight:normal;stroke:none;vertical-align:baseline;white-space:pre\">0</text></g><g transform=\"translate(72.50996015936254,6)\"><text x=\"-2.78\" y=\"8.555\" style=\"fill:rgb(16.1%,15.3%,14.1%);fill-opacity:1.0;font-family:helvetica;font-size:10.0px;font-weight:normal;stroke:none;vertical-align:baseline;white-space:pre\">4</text></g><g transform=\"translate(136.25498007968127,6)\"><text x=\"-2.78\" y=\"8.555\" style=\"fill:rgb(16.1%,15.3%,14.1%);fill-opacity:1.0;font-family:helvetica;font-size:10.0px;font-weight:normal;stroke:none;vertical-align:baseline;white-space:pre\">8</text></g><g transform=\"translate(200.0,6)\"><text x=\"-5.56\" y=\"8.555\" style=\"fill:rgb(16.1%,15.3%,14.1%);fill-opacity:1.0;font-family:helvetica;font-size:10.0px;font-weight:normal;stroke:none;vertical-align:baseline;white-space:pre\">12</text></g></g><g class=\"toyplot-coordinates-Axis-coordinates\" style=\"visibility:hidden\" transform=\"\"><line x1=\"0\" x2=\"0\" y1=\"-3.0\" y2=\"4.5\" style=\"stroke:rgb(43.9%,50.2%,56.5%);stroke-opacity:1.0;stroke-width:1.0\"></line><text x=\"0\" y=\"-6\" style=\"alignment-baseline:alphabetic;fill:rgb(43.9%,50.2%,56.5%);fill-opacity:1.0;font-size:10px;font-weight:normal;stroke:none;text-anchor:middle\"></text></g></g><g class=\"toyplot-coordinates-Axis\" id=\"t9374940ee94141c7b2ffe540769d6738\" transform=\"translate(50.0,250.0)rotate(-90.0)translate(0,-15.0)\"><line x1=\"9.090909090909092\" y1=\"0\" x2=\"190.9090909090909\" y2=\"0\" style=\"\"></line><g><line x1=\"9.090909090909092\" y1=\"0\" x2=\"9.090909090909092\" y2=\"5\" style=\"\"></line><line x1=\"100.0\" y1=\"0\" x2=\"100.0\" y2=\"5\" style=\"\"></line><line x1=\"190.9090909090909\" y1=\"0\" x2=\"190.9090909090909\" y2=\"5\" style=\"\"></line></g><g><g transform=\"translate(9.090909090909092,-6)\"><text x=\"-6.95\" y=\"-4.440892098500626e-16\" style=\"fill:rgb(16.1%,15.3%,14.1%);fill-opacity:1.0;font-family:helvetica;font-size:10.0px;font-weight:normal;stroke:none;vertical-align:baseline;white-space:pre\">0.0</text></g><g transform=\"translate(100.0,-6)\"><text x=\"-6.95\" y=\"-4.440892098500626e-16\" style=\"fill:rgb(16.1%,15.3%,14.1%);fill-opacity:1.0;font-family:helvetica;font-size:10.0px;font-weight:normal;stroke:none;vertical-align:baseline;white-space:pre\">0.5</text></g><g transform=\"translate(190.9090909090909,-6)\"><text x=\"-6.95\" y=\"-4.440892098500626e-16\" style=\"fill:rgb(16.1%,15.3%,14.1%);fill-opacity:1.0;font-family:helvetica;font-size:10.0px;font-weight:normal;stroke:none;vertical-align:baseline;white-space:pre\">1.0</text></g></g><g class=\"toyplot-coordinates-Axis-coordinates\" style=\"visibility:hidden\" transform=\"\"><line x1=\"0\" x2=\"0\" y1=\"3.0\" y2=\"-4.5\" style=\"stroke:rgb(43.9%,50.2%,56.5%);stroke-opacity:1.0;stroke-width:1.0\"></line><text x=\"0\" y=\"6\" style=\"alignment-baseline:hanging;fill:rgb(43.9%,50.2%,56.5%);fill-opacity:1.0;font-size:10px;font-weight:normal;stroke:none;text-anchor:middle\"></text></g></g></g></svg><div class=\"toyplot-behavior\"><script>(function()\n",
       "{\n",
       "var modules={};\n",
       "modules[\"toyplot/canvas/id\"] = \"t0978904647b74d94a1b0910537d8b62c\";\n",
       "modules[\"toyplot/canvas\"] = (function(canvas_id)\n",
       "    {\n",
       "        return document.querySelector(\"#\" + canvas_id);\n",
       "    })(modules[\"toyplot/canvas/id\"]);\n",
       "modules[\"toyplot.coordinates.Axis\"] = (\n",
       "        function(canvas)\n",
       "        {\n",
       "            function sign(x)\n",
       "            {\n",
       "                return x < 0 ? -1 : x > 0 ? 1 : 0;\n",
       "            }\n",
       "\n",
       "            function mix(a, b, amount)\n",
       "            {\n",
       "                return ((1.0 - amount) * a) + (amount * b);\n",
       "            }\n",
       "\n",
       "            function log(x, base)\n",
       "            {\n",
       "                return Math.log(Math.abs(x)) / Math.log(base);\n",
       "            }\n",
       "\n",
       "            function in_range(a, x, b)\n",
       "            {\n",
       "                var left = Math.min(a, b);\n",
       "                var right = Math.max(a, b);\n",
       "                return left <= x && x <= right;\n",
       "            }\n",
       "\n",
       "            function inside(range, projection)\n",
       "            {\n",
       "                for(var i = 0; i != projection.length; ++i)\n",
       "                {\n",
       "                    var segment = projection[i];\n",
       "                    if(in_range(segment.range.min, range, segment.range.max))\n",
       "                        return true;\n",
       "                }\n",
       "                return false;\n",
       "            }\n",
       "\n",
       "            function to_domain(range, projection)\n",
       "            {\n",
       "                for(var i = 0; i != projection.length; ++i)\n",
       "                {\n",
       "                    var segment = projection[i];\n",
       "                    if(in_range(segment.range.bounds.min, range, segment.range.bounds.max))\n",
       "                    {\n",
       "                        if(segment.scale == \"linear\")\n",
       "                        {\n",
       "                            var amount = (range - segment.range.min) / (segment.range.max - segment.range.min);\n",
       "                            return mix(segment.domain.min, segment.domain.max, amount)\n",
       "                        }\n",
       "                        else if(segment.scale[0] == \"log\")\n",
       "                        {\n",
       "                            var amount = (range - segment.range.min) / (segment.range.max - segment.range.min);\n",
       "                            var base = segment.scale[1];\n",
       "                            return sign(segment.domain.min) * Math.pow(base, mix(log(segment.domain.min, base), log(segment.domain.max, base), amount));\n",
       "                        }\n",
       "                    }\n",
       "                }\n",
       "            }\n",
       "\n",
       "            var axes = {};\n",
       "\n",
       "            function display_coordinates(e)\n",
       "            {\n",
       "                var current = canvas.createSVGPoint();\n",
       "                current.x = e.clientX;\n",
       "                current.y = e.clientY;\n",
       "\n",
       "                for(var axis_id in axes)\n",
       "                {\n",
       "                    var axis = document.querySelector(\"#\" + axis_id);\n",
       "                    var coordinates = axis.querySelector(\".toyplot-coordinates-Axis-coordinates\");\n",
       "                    if(coordinates)\n",
       "                    {\n",
       "                        var projection = axes[axis_id];\n",
       "                        var local = current.matrixTransform(axis.getScreenCTM().inverse());\n",
       "                        if(inside(local.x, projection))\n",
       "                        {\n",
       "                            var domain = to_domain(local.x, projection);\n",
       "                            coordinates.style.visibility = \"visible\";\n",
       "                            coordinates.setAttribute(\"transform\", \"translate(\" + local.x + \")\");\n",
       "                            var text = coordinates.querySelector(\"text\");\n",
       "                            text.textContent = domain.toFixed(2);\n",
       "                        }\n",
       "                        else\n",
       "                        {\n",
       "                            coordinates.style.visibility= \"hidden\";\n",
       "                        }\n",
       "                    }\n",
       "                }\n",
       "            }\n",
       "\n",
       "            canvas.addEventListener(\"click\", display_coordinates);\n",
       "\n",
       "            var module = {};\n",
       "            module.show_coordinates = function(axis_id, projection)\n",
       "            {\n",
       "                axes[axis_id] = projection;\n",
       "            }\n",
       "\n",
       "            return module;\n",
       "        })(modules[\"toyplot/canvas\"]);\n",
       "(function(axis, axis_id, projection)\n",
       "        {\n",
       "            axis.show_coordinates(axis_id, projection);\n",
       "        })(modules[\"toyplot.coordinates.Axis\"],\"t42c43b2830ac4b21ae066bc897082e6c\",[{\"domain\": {\"bounds\": {\"max\": Infinity, \"min\": -Infinity}, \"max\": 12.0, \"min\": -0.55}, \"range\": {\"bounds\": {\"max\": Infinity, \"min\": -Infinity}, \"max\": 200.0, \"min\": 0.0}, \"scale\": \"linear\"}]);\n",
       "(function(axis, axis_id, projection)\n",
       "        {\n",
       "            axis.show_coordinates(axis_id, projection);\n",
       "        })(modules[\"toyplot.coordinates.Axis\"],\"t9374940ee94141c7b2ffe540769d6738\",[{\"domain\": {\"bounds\": {\"max\": Infinity, \"min\": -Infinity}, \"max\": 1.05, \"min\": -0.05}, \"range\": {\"bounds\": {\"max\": Infinity, \"min\": -Infinity}, \"max\": 200.0, \"min\": 0.0}, \"scale\": \"linear\"}]);\n",
       "})();</script></div></div>"
      ]
     },
     "metadata": {},
     "output_type": "display_data"
    }
   ],
   "source": [
    "# store the returned Canvas and Axes objects\n",
    "canvas, axes, mark = tre.draw(\n",
    "    width=300, \n",
    "    height=300, \n",
    "    tip_labels=False,\n",
    "    edge_style={\"stroke-opacity\": 0.5},\n",
    "    node_mask=[False] + [True] * (tre.nnodes - 1),\n",
    "    node_sizes=20,\n",
    "    node_labels=\"idx\",\n",
    "    layout='d',\n",
    ")\n",
    "\n",
    "# style to show the axes coordinates\n",
    "axes.show = True\n",
    "axes.x.ticks.show = True\n",
    "axes.y.ticks.show = True\n",
    "\n",
    "# overlay a grid on the axes \n",
    "axes.vlines(np.arange(0, tre.ntips), style={\"stroke\": \"red\", \"stroke-dasharray\": \"2,4\"})\n",
    "axes.hlines(0, style={\"stroke\": \"blue\", \"stroke-dasharray\": \"2,4\"});"
   ]
  },
  {
   "cell_type": "markdown",
   "metadata": {},
   "source": [
    "#### Scale bar\n",
    "The argument `scale_bar` applies an automatic styling to the time axis of the tree plot. You can still additionaly style the axes object after it is returned by the draw function."
   ]
  },
  {
   "cell_type": "code",
   "execution_count": 42,
   "metadata": {},
   "outputs": [
    {
     "data": {
      "text/html": [
       "<div class=\"toyplot\" id=\"t08dce2162d6548f2920107faded08b25\" style=\"text-align:center\"><svg class=\"toyplot-canvas-Canvas\" xmlns:toyplot=\"http://www.sandia.gov/toyplot\" xmlns:xlink=\"http://www.w3.org/1999/xlink\" xmlns=\"http://www.w3.org/2000/svg\" width=\"265.0px\" height=\"275.0px\" viewBox=\"0 0 265.0 275.0\" preserveAspectRatio=\"xMidYMid meet\" style=\"background-color:transparent;border-color:#292724;border-style:none;border-width:1.0;fill:rgb(16.1%,15.3%,14.1%);fill-opacity:1.0;font-family:Helvetica;font-size:12px;opacity:1.0;stroke:rgb(16.1%,15.3%,14.1%);stroke-opacity:1.0;stroke-width:1.0\" id=\"t45ba1f1d23864be992c25514dcead452\"><g class=\"toyplot-coordinates-Cartesian\" id=\"td72ce4c30acc4c90941b9e165a80a163\"><clipPath id=\"t7cc43af03dd8412781d9a5b834af28d1\"><rect x=\"35.0\" y=\"35.0\" width=\"195.0\" height=\"205.0\"></rect></clipPath><g clip-path=\"url(#t7cc43af03dd8412781d9a5b834af28d1)\"><g class=\"toytree-mark-Toytree\" id=\"t97a4b61da4c8422aaa56d72919dbf93b\"><g class=\"toytree-Edges\" style=\"fill:none;stroke:rgba(16.1%,15.3%,14.1%,1.000);stroke-linecap:round;stroke-width:2.0\"><path d=\"M 74.0 207.8 L 74.0 218.9 L 170.0 218.9\" id=\"20,0\" style=\"stroke-width:nan\"></path><path d=\"M 98.0 196.7 L 98.0 204.1 L 170.0 204.1\" id=\"17,1\" style=\"stroke-width:nan\"></path><path d=\"M 98.0 196.7 L 98.0 189.3 L 170.0 189.3\" id=\"17,2\" style=\"stroke-width:nan\"></path><path d=\"M 122.0 167.1 L 122.0 174.5 L 170.0 174.5\" id=\"14,3\" style=\"stroke-width:nan\"></path><path d=\"M 122.0 167.1 L 122.0 159.7 L 170.0 159.7\" id=\"14,4\" style=\"stroke-width:nan\"></path><path d=\"M 122.0 137.5 L 122.0 144.9 L 170.0 144.9\" id=\"15,5\" style=\"stroke-width:nan\"></path><path d=\"M 122.0 137.5 L 122.0 130.1 L 170.0 130.1\" id=\"15,6\" style=\"stroke-width:nan\"></path><path d=\"M 98.0 96.8 L 98.0 115.3 L 170.0 115.3\" id=\"19,7\" style=\"stroke-width:nan\"></path><path d=\"M 146.0 93.1 L 146.0 100.5 L 170.0 100.5\" id=\"12,8\" style=\"stroke-width:nan\"></path><path d=\"M 146.0 93.1 L 146.0 85.7 L 170.0 85.7\" id=\"12,9\" style=\"stroke-width:nan\"></path><path d=\"M 146.0 63.5 L 146.0 70.9 L 170.0 70.9\" id=\"13,10\" style=\"stroke-width:nan\"></path><path d=\"M 146.0 63.5 L 146.0 56.1 L 170.0 56.1\" id=\"13,11\" style=\"stroke-width:nan\"></path><path d=\"M 122.0 78.3 L 122.0 93.1 L 146.0 93.1\" id=\"16,12\" style=\"stroke-width:nan\"></path><path d=\"M 122.0 78.3 L 122.0 63.5 L 146.0 63.5\" id=\"16,13\" style=\"stroke-width:nan\"></path><path d=\"M 98.0 152.3 L 98.0 167.1 L 122.0 167.1\" id=\"18,14\" style=\"stroke-width:nan\"></path><path d=\"M 98.0 152.3 L 98.0 137.5 L 122.0 137.5\" id=\"18,15\" style=\"stroke-width:nan\"></path><path d=\"M 98.0 96.8 L 98.0 78.3 L 122.0 78.3\" id=\"19,16\" style=\"stroke-width:nan\"></path><path d=\"M 74.0 207.8 L 74.0 196.7 L 98.0 196.7\" id=\"20,17\" style=\"stroke-width:nan\"></path><path d=\"M 74.0 124.6 L 74.0 152.3 L 98.0 152.3\" id=\"21,18\" style=\"stroke-width:nan\"></path><path d=\"M 74.0 124.6 L 74.0 96.8 L 98.0 96.8\" id=\"21,19\" style=\"stroke-width:nan\"></path><path d=\"M 50.0 166.2 L 50.0 207.8 L 74.0 207.8\" id=\"22,20\" style=\"stroke-width:nan\"></path><path d=\"M 50.0 166.2 L 50.0 124.6 L 74.0 124.6\" id=\"22,21\" style=\"stroke-width:nan\"></path></g><g class=\"toytree-TipLabels\" style=\"fill:rgb(16.1%,15.3%,14.1%);fill-opacity:1.0;font-family:Helvetica;font-size:11.0px;font-weight:300;stroke:none;vertical-align:baseline;white-space:pre\"><g class=\"toytree-TipLabel\" transform=\"translate(170.04497552802152,218.86291179596174)\"><text x=\"15.0\" y=\"2.8104999999999993\" style=\"\">r0</text></g><g class=\"toytree-TipLabel\" transform=\"translate(170.04497552802152,204.06965510578686)\"><text x=\"15.0\" y=\"2.8104999999999993\" style=\"\">r1</text></g><g class=\"toytree-TipLabel\" transform=\"translate(170.04497552802152,189.276398415612)\"><text x=\"15.0\" y=\"2.8104999999999993\" style=\"\">r2</text></g><g class=\"toytree-TipLabel\" transform=\"translate(170.04497552802152,174.48314172543715)\"><text x=\"15.0\" y=\"2.8104999999999993\" style=\"\">r3</text></g><g class=\"toytree-TipLabel\" transform=\"translate(170.04497552802152,159.68988503526228)\"><text x=\"15.0\" y=\"2.8104999999999993\" style=\"\">r4</text></g><g class=\"toytree-TipLabel\" transform=\"translate(170.04497552802152,144.8966283450874)\"><text x=\"15.0\" y=\"2.8104999999999993\" style=\"\">r5</text></g><g class=\"toytree-TipLabel\" transform=\"translate(170.04497552802152,130.10337165491254)\"><text x=\"15.0\" y=\"2.8104999999999993\" style=\"\">r6</text></g><g class=\"toytree-TipLabel\" transform=\"translate(170.04497552802152,115.31011496473768)\"><text x=\"15.0\" y=\"2.8104999999999993\" style=\"\">r7</text></g><g class=\"toytree-TipLabel\" transform=\"translate(170.04497552802152,100.51685827456282)\"><text x=\"15.0\" y=\"2.8104999999999993\" style=\"\">r8</text></g><g class=\"toytree-TipLabel\" transform=\"translate(170.04497552802152,85.72360158438796)\"><text x=\"15.0\" y=\"2.8104999999999993\" style=\"\">r9</text></g><g class=\"toytree-TipLabel\" transform=\"translate(170.04497552802152,70.9303448942131)\"><text x=\"15.0\" y=\"2.8104999999999993\" style=\"\">r10</text></g><g class=\"toytree-TipLabel\" transform=\"translate(170.04497552802152,56.137088204038236)\"><text x=\"15.0\" y=\"2.8104999999999993\" style=\"\">r11</text></g></g></g></g><g class=\"toyplot-coordinates-Axis\" id=\"t2a43757e3f07443e80596e51d9498a68\" transform=\"translate(50.0,225.0)translate(0,15.0)\"><line x1=\"0\" y1=\"0\" x2=\"120.0449755280215\" y2=\"0\" style=\"\"></line><g><line x1=\"0.0\" y1=\"0\" x2=\"0.0\" y2=\"-5\" style=\"\"></line><line x1=\"60.02248776401075\" y1=\"0\" x2=\"60.02248776401075\" y2=\"-5\" style=\"\"></line><line x1=\"120.0449755280215\" y1=\"0\" x2=\"120.0449755280215\" y2=\"-5\" style=\"\"></line></g><g><g transform=\"translate(0.0,6)\"><text x=\"-6.95\" y=\"8.555\" style=\"fill:rgb(16.1%,15.3%,14.1%);fill-opacity:1.0;font-family:helvetica;font-size:10.0px;font-weight:normal;stroke:none;vertical-align:baseline;white-space:pre\">1.0</text></g><g transform=\"translate(60.02248776401075,6)\"><text x=\"-6.95\" y=\"8.555\" style=\"fill:rgb(16.1%,15.3%,14.1%);fill-opacity:1.0;font-family:helvetica;font-size:10.0px;font-weight:normal;stroke:none;vertical-align:baseline;white-space:pre\">0.5</text></g><g transform=\"translate(120.0449755280215,6)\"><text x=\"-6.95\" y=\"8.555\" style=\"fill:rgb(16.1%,15.3%,14.1%);fill-opacity:1.0;font-family:helvetica;font-size:10.0px;font-weight:normal;stroke:none;vertical-align:baseline;white-space:pre\">0.0</text></g></g><g class=\"toyplot-coordinates-Axis-coordinates\" style=\"visibility:hidden\" transform=\"\"><line x1=\"0\" x2=\"0\" y1=\"-3.0\" y2=\"4.5\" style=\"stroke:rgb(43.9%,50.2%,56.5%);stroke-opacity:1.0;stroke-width:1.0\"></line><text x=\"0\" y=\"-6\" style=\"alignment-baseline:alphabetic;fill:rgb(43.9%,50.2%,56.5%);fill-opacity:1.0;font-size:10px;font-weight:normal;stroke:none;text-anchor:middle\"></text></g></g></g></svg><div class=\"toyplot-behavior\"><script>(function()\n",
       "{\n",
       "var modules={};\n",
       "modules[\"toyplot/canvas/id\"] = \"t45ba1f1d23864be992c25514dcead452\";\n",
       "modules[\"toyplot/canvas\"] = (function(canvas_id)\n",
       "    {\n",
       "        return document.querySelector(\"#\" + canvas_id);\n",
       "    })(modules[\"toyplot/canvas/id\"]);\n",
       "modules[\"toyplot.coordinates.Axis\"] = (\n",
       "        function(canvas)\n",
       "        {\n",
       "            function sign(x)\n",
       "            {\n",
       "                return x < 0 ? -1 : x > 0 ? 1 : 0;\n",
       "            }\n",
       "\n",
       "            function mix(a, b, amount)\n",
       "            {\n",
       "                return ((1.0 - amount) * a) + (amount * b);\n",
       "            }\n",
       "\n",
       "            function log(x, base)\n",
       "            {\n",
       "                return Math.log(Math.abs(x)) / Math.log(base);\n",
       "            }\n",
       "\n",
       "            function in_range(a, x, b)\n",
       "            {\n",
       "                var left = Math.min(a, b);\n",
       "                var right = Math.max(a, b);\n",
       "                return left <= x && x <= right;\n",
       "            }\n",
       "\n",
       "            function inside(range, projection)\n",
       "            {\n",
       "                for(var i = 0; i != projection.length; ++i)\n",
       "                {\n",
       "                    var segment = projection[i];\n",
       "                    if(in_range(segment.range.min, range, segment.range.max))\n",
       "                        return true;\n",
       "                }\n",
       "                return false;\n",
       "            }\n",
       "\n",
       "            function to_domain(range, projection)\n",
       "            {\n",
       "                for(var i = 0; i != projection.length; ++i)\n",
       "                {\n",
       "                    var segment = projection[i];\n",
       "                    if(in_range(segment.range.bounds.min, range, segment.range.bounds.max))\n",
       "                    {\n",
       "                        if(segment.scale == \"linear\")\n",
       "                        {\n",
       "                            var amount = (range - segment.range.min) / (segment.range.max - segment.range.min);\n",
       "                            return mix(segment.domain.min, segment.domain.max, amount)\n",
       "                        }\n",
       "                        else if(segment.scale[0] == \"log\")\n",
       "                        {\n",
       "                            var amount = (range - segment.range.min) / (segment.range.max - segment.range.min);\n",
       "                            var base = segment.scale[1];\n",
       "                            return sign(segment.domain.min) * Math.pow(base, mix(log(segment.domain.min, base), log(segment.domain.max, base), amount));\n",
       "                        }\n",
       "                    }\n",
       "                }\n",
       "            }\n",
       "\n",
       "            var axes = {};\n",
       "\n",
       "            function display_coordinates(e)\n",
       "            {\n",
       "                var current = canvas.createSVGPoint();\n",
       "                current.x = e.clientX;\n",
       "                current.y = e.clientY;\n",
       "\n",
       "                for(var axis_id in axes)\n",
       "                {\n",
       "                    var axis = document.querySelector(\"#\" + axis_id);\n",
       "                    var coordinates = axis.querySelector(\".toyplot-coordinates-Axis-coordinates\");\n",
       "                    if(coordinates)\n",
       "                    {\n",
       "                        var projection = axes[axis_id];\n",
       "                        var local = current.matrixTransform(axis.getScreenCTM().inverse());\n",
       "                        if(inside(local.x, projection))\n",
       "                        {\n",
       "                            var domain = to_domain(local.x, projection);\n",
       "                            coordinates.style.visibility = \"visible\";\n",
       "                            coordinates.setAttribute(\"transform\", \"translate(\" + local.x + \")\");\n",
       "                            var text = coordinates.querySelector(\"text\");\n",
       "                            text.textContent = domain.toFixed(2);\n",
       "                        }\n",
       "                        else\n",
       "                        {\n",
       "                            coordinates.style.visibility= \"hidden\";\n",
       "                        }\n",
       "                    }\n",
       "                }\n",
       "            }\n",
       "\n",
       "            canvas.addEventListener(\"click\", display_coordinates);\n",
       "\n",
       "            var module = {};\n",
       "            module.show_coordinates = function(axis_id, projection)\n",
       "            {\n",
       "                axes[axis_id] = projection;\n",
       "            }\n",
       "\n",
       "            return module;\n",
       "        })(modules[\"toyplot/canvas\"]);\n",
       "(function(axis, axis_id, projection)\n",
       "        {\n",
       "            axis.show_coordinates(axis_id, projection);\n",
       "        })(modules[\"toyplot.coordinates.Axis\"],\"t2a43757e3f07443e80596e51d9498a68\",[{\"domain\": {\"bounds\": {\"max\": Infinity, \"min\": -Infinity}, \"max\": 0.37448484848484864, \"min\": -1.0}, \"range\": {\"bounds\": {\"max\": Infinity, \"min\": -Infinity}, \"max\": 165.0, \"min\": 0.0}, \"scale\": \"linear\"}]);\n",
       "})();</script></div></div>"
      ]
     },
     "metadata": {},
     "output_type": "display_data"
    }
   ],
   "source": [
    "tre.draw(scale_bar=True);"
   ]
  },
  {
   "cell_type": "markdown",
   "metadata": {},
   "source": [
    "### Combining trees with other plots\n",
    "The plots above demonstrate plotting multiple marks on the same axes. Above I used the `hlines` and `vlines` functions of the toyplot Cartesian axes object. See the toyplot documentation for the many ways to add additional markers, such as bar plots, scatterplots, etc. Some examples are below. For further examples on aligning additional plotting methods with toytree drawings see the Cookbook gallery. "
   ]
  },
  {
   "cell_type": "code",
   "execution_count": 55,
   "metadata": {},
   "outputs": [
    {
     "data": {
      "text/html": [
       "<div class=\"toyplot\" id=\"t1b1823fcc51c41c1919ec15bfa234e16\" style=\"text-align:center\"><svg class=\"toyplot-canvas-Canvas\" xmlns:toyplot=\"http://www.sandia.gov/toyplot\" xmlns:xlink=\"http://www.w3.org/1999/xlink\" xmlns=\"http://www.w3.org/2000/svg\" width=\"265.0px\" height=\"275.0px\" viewBox=\"0 0 265.0 275.0\" preserveAspectRatio=\"xMidYMid meet\" style=\"background-color:transparent;border-color:#292724;border-style:none;border-width:1.0;fill:rgb(16.1%,15.3%,14.1%);fill-opacity:1.0;font-family:Helvetica;font-size:12px;opacity:1.0;stroke:rgb(16.1%,15.3%,14.1%);stroke-opacity:1.0;stroke-width:1.0\" id=\"t71caa00ef44e4bc890319b6e4c13f270\"><g class=\"toyplot-coordinates-Cartesian\" id=\"t8aa4d3c957ec4857a0ba11c3cae5dc76\"><clipPath id=\"t750afe74b4984f9b82474000bea4235b\"><rect x=\"35.0\" y=\"35.0\" width=\"195.0\" height=\"205.0\"></rect></clipPath><g clip-path=\"url(#t750afe74b4984f9b82474000bea4235b)\"><g class=\"toytree-mark-Toytree\" id=\"t1efb211bdb5d45c8a5057c286cff10ee\"><g class=\"toytree-Edges\" style=\"fill:none;stroke:rgba(16.1%,15.3%,14.1%,1.000);stroke-linecap:round;stroke-width:2.0\"><path d=\"M 71.1 208.6 L 71.1 219.2 L 155.7 219.2\" id=\"20,0\" style=\"stroke-width:nan\"></path><path d=\"M 92.3 198.0 L 92.3 205.1 L 155.7 205.1\" id=\"17,1\" style=\"stroke-width:nan\"></path><path d=\"M 92.3 198.0 L 92.3 191.0 L 155.7 191.0\" id=\"17,2\" style=\"stroke-width:nan\"></path><path d=\"M 113.4 169.8 L 113.4 176.9 L 155.7 176.9\" id=\"14,3\" style=\"stroke-width:nan\"></path><path d=\"M 113.4 169.8 L 113.4 162.8 L 155.7 162.8\" id=\"14,4\" style=\"stroke-width:nan\"></path><path d=\"M 113.4 141.6 L 113.4 148.7 L 155.7 148.7\" id=\"15,5\" style=\"stroke-width:nan\"></path><path d=\"M 113.4 141.6 L 113.4 134.6 L 155.7 134.6\" id=\"15,6\" style=\"stroke-width:nan\"></path><path d=\"M 92.3 102.9 L 92.3 120.5 L 155.7 120.5\" id=\"19,7\" style=\"stroke-width:nan\"></path><path d=\"M 134.5 99.3 L 134.5 106.4 L 155.7 106.4\" id=\"12,8\" style=\"stroke-width:nan\"></path><path d=\"M 134.5 99.3 L 134.5 92.3 L 155.7 92.3\" id=\"12,9\" style=\"stroke-width:nan\"></path><path d=\"M 134.5 71.1 L 134.5 78.2 L 155.7 78.2\" id=\"13,10\" style=\"stroke-width:nan\"></path><path d=\"M 134.5 71.1 L 134.5 64.1 L 155.7 64.1\" id=\"13,11\" style=\"stroke-width:nan\"></path><path d=\"M 113.4 85.2 L 113.4 99.3 L 134.5 99.3\" id=\"16,12\" style=\"stroke-width:nan\"></path><path d=\"M 113.4 85.2 L 113.4 71.1 L 134.5 71.1\" id=\"16,13\" style=\"stroke-width:nan\"></path><path d=\"M 92.3 155.7 L 92.3 169.8 L 113.4 169.8\" id=\"18,14\" style=\"stroke-width:nan\"></path><path d=\"M 92.3 155.7 L 92.3 141.6 L 113.4 141.6\" id=\"18,15\" style=\"stroke-width:nan\"></path><path d=\"M 92.3 102.9 L 92.3 85.2 L 113.4 85.2\" id=\"19,16\" style=\"stroke-width:nan\"></path><path d=\"M 71.1 208.6 L 71.1 198.0 L 92.3 198.0\" id=\"20,17\" style=\"stroke-width:nan\"></path><path d=\"M 71.1 129.3 L 71.1 155.7 L 92.3 155.7\" id=\"21,18\" style=\"stroke-width:nan\"></path><path d=\"M 71.1 129.3 L 71.1 102.9 L 92.3 102.9\" id=\"21,19\" style=\"stroke-width:nan\"></path><path d=\"M 50.0 168.9 L 50.0 208.6 L 71.1 208.6\" id=\"22,20\" style=\"stroke-width:nan\"></path><path d=\"M 50.0 168.9 L 50.0 129.3 L 71.1 129.3\" id=\"22,21\" style=\"stroke-width:nan\"></path></g><g class=\"toytree-TipLabels\" style=\"fill:rgb(16.1%,15.3%,14.1%);fill-opacity:1.0;font-family:Helvetica;font-size:11.0px;font-weight:300;stroke:none;vertical-align:baseline;white-space:pre\"><g class=\"toytree-TipLabel\" transform=\"translate(155.65224983992084,219.15216790941727)\"><text x=\"15.0\" y=\"2.8104999999999993\" style=\"\">r0</text></g><g class=\"toytree-TipLabel\" transform=\"translate(155.65224983992084,205.05615391696585)\"><text x=\"15.0\" y=\"2.8104999999999993\" style=\"\">r1</text></g><g class=\"toytree-TipLabel\" transform=\"translate(155.65224983992084,190.9601399245144)\"><text x=\"15.0\" y=\"2.8104999999999993\" style=\"\">r2</text></g><g class=\"toytree-TipLabel\" transform=\"translate(155.65224983992084,176.864125932063)\"><text x=\"15.0\" y=\"2.8104999999999993\" style=\"\">r3</text></g><g class=\"toytree-TipLabel\" transform=\"translate(155.65224983992084,162.76811193961152)\"><text x=\"15.0\" y=\"2.8104999999999993\" style=\"\">r4</text></g><g class=\"toytree-TipLabel\" transform=\"translate(155.65224983992084,148.67209794716007)\"><text x=\"15.0\" y=\"2.8104999999999993\" style=\"\">r5</text></g><g class=\"toytree-TipLabel\" transform=\"translate(155.65224983992084,134.57608395470862)\"><text x=\"15.0\" y=\"2.8104999999999993\" style=\"\">r6</text></g><g class=\"toytree-TipLabel\" transform=\"translate(155.65224983992084,120.4800699622572)\"><text x=\"15.0\" y=\"2.8104999999999993\" style=\"\">r7</text></g><g class=\"toytree-TipLabel\" transform=\"translate(155.65224983992084,106.38405596980576)\"><text x=\"15.0\" y=\"2.8104999999999993\" style=\"\">r8</text></g><g class=\"toytree-TipLabel\" transform=\"translate(155.65224983992084,92.28804197735431)\"><text x=\"15.0\" y=\"2.8104999999999993\" style=\"\">r9</text></g><g class=\"toytree-TipLabel\" transform=\"translate(155.65224983992084,78.1920279849029)\"><text x=\"15.0\" y=\"2.8104999999999993\" style=\"\">r10</text></g><g class=\"toytree-TipLabel\" transform=\"translate(155.65224983992084,64.09601399245143)\"><text x=\"15.0\" y=\"2.8104999999999993\" style=\"\">r11</text></g></g></g><g class=\"toyplot-mark-Point\" id=\"t8e094a67f0db4ddda66e5f70d46e59d0\"><g class=\"toyplot-Series\"><g style=\"fill:rgb(40%,76.1%,64.7%);fill-opacity:1.0;opacity:1.0;stroke:rgb(40%,76.1%,64.7%);stroke-opacity:1.0\" class=\"toyplot-Datum\" transform=\"translate(155.65224983992084, 219.15216790941727)\"><circle r=\"3.0\"></circle></g><g style=\"fill:rgb(40%,76.1%,64.7%);fill-opacity:1.0;opacity:1.0;stroke:rgb(40%,76.1%,64.7%);stroke-opacity:1.0\" class=\"toyplot-Datum\" transform=\"translate(155.65224983992084, 205.05615391696585)\"><circle r=\"3.0\"></circle></g><g style=\"fill:rgb(40%,76.1%,64.7%);fill-opacity:1.0;opacity:1.0;stroke:rgb(40%,76.1%,64.7%);stroke-opacity:1.0\" class=\"toyplot-Datum\" transform=\"translate(155.65224983992084, 190.9601399245144)\"><circle r=\"3.0\"></circle></g><g style=\"fill:rgb(40%,76.1%,64.7%);fill-opacity:1.0;opacity:1.0;stroke:rgb(40%,76.1%,64.7%);stroke-opacity:1.0\" class=\"toyplot-Datum\" transform=\"translate(155.65224983992084, 176.864125932063)\"><circle r=\"3.0\"></circle></g><g style=\"fill:rgb(40%,76.1%,64.7%);fill-opacity:1.0;opacity:1.0;stroke:rgb(40%,76.1%,64.7%);stroke-opacity:1.0\" class=\"toyplot-Datum\" transform=\"translate(155.65224983992084, 162.76811193961152)\"><circle r=\"3.0\"></circle></g><g style=\"fill:rgb(40%,76.1%,64.7%);fill-opacity:1.0;opacity:1.0;stroke:rgb(40%,76.1%,64.7%);stroke-opacity:1.0\" class=\"toyplot-Datum\" transform=\"translate(155.65224983992084, 148.67209794716007)\"><circle r=\"3.0\"></circle></g><g style=\"fill:rgb(40%,76.1%,64.7%);fill-opacity:1.0;opacity:1.0;stroke:rgb(40%,76.1%,64.7%);stroke-opacity:1.0\" class=\"toyplot-Datum\" transform=\"translate(155.65224983992084, 134.57608395470862)\"><circle r=\"3.0\"></circle></g><g style=\"fill:rgb(40%,76.1%,64.7%);fill-opacity:1.0;opacity:1.0;stroke:rgb(40%,76.1%,64.7%);stroke-opacity:1.0\" class=\"toyplot-Datum\" transform=\"translate(155.65224983992084, 120.4800699622572)\"><circle r=\"3.0\"></circle></g><g style=\"fill:rgb(40%,76.1%,64.7%);fill-opacity:1.0;opacity:1.0;stroke:rgb(40%,76.1%,64.7%);stroke-opacity:1.0\" class=\"toyplot-Datum\" transform=\"translate(155.65224983992084, 106.38405596980576)\"><circle r=\"3.0\"></circle></g><g style=\"fill:rgb(40%,76.1%,64.7%);fill-opacity:1.0;opacity:1.0;stroke:rgb(40%,76.1%,64.7%);stroke-opacity:1.0\" class=\"toyplot-Datum\" transform=\"translate(155.65224983992084, 92.28804197735431)\"><circle r=\"3.0\"></circle></g><g style=\"fill:rgb(40%,76.1%,64.7%);fill-opacity:1.0;opacity:1.0;stroke:rgb(40%,76.1%,64.7%);stroke-opacity:1.0\" class=\"toyplot-Datum\" transform=\"translate(155.65224983992084, 78.1920279849029)\"><circle r=\"3.0\"></circle></g><g style=\"fill:rgb(40%,76.1%,64.7%);fill-opacity:1.0;opacity:1.0;stroke:rgb(40%,76.1%,64.7%);stroke-opacity:1.0\" class=\"toyplot-Datum\" transform=\"translate(155.65224983992084, 64.09601399245143)\"><circle r=\"3.0\"></circle></g></g></g><g class=\"toyplot-mark-Point\" id=\"td4e1d35c20e14ed7bdf6490363914f85\"><g class=\"toyplot-Series\"><g style=\"fill:rgb(100%,64.7%,0%);fill-opacity:1.0;opacity:1.0;stroke:none\" class=\"toyplot-Datum\" transform=\"translate(208.47837475988126, 219.15216790941727)\"><circle r=\"4.0\"></circle></g><g style=\"fill:rgb(100%,64.7%,0%);fill-opacity:1.0;opacity:1.0;stroke:none\" class=\"toyplot-Datum\" transform=\"translate(208.47837475988126, 205.05615391696585)\"><circle r=\"4.0\"></circle></g><g style=\"fill:rgb(100%,64.7%,0%);fill-opacity:1.0;opacity:1.0;stroke:none\" class=\"toyplot-Datum\" transform=\"translate(208.47837475988126, 190.9601399245144)\"><circle r=\"4.0\"></circle></g><g style=\"fill:rgb(100%,64.7%,0%);fill-opacity:1.0;opacity:1.0;stroke:none\" class=\"toyplot-Datum\" transform=\"translate(208.47837475988126, 176.864125932063)\"><circle r=\"4.0\"></circle></g><g style=\"fill:rgb(100%,64.7%,0%);fill-opacity:1.0;opacity:1.0;stroke:none\" class=\"toyplot-Datum\" transform=\"translate(208.47837475988126, 162.76811193961152)\"><circle r=\"4.0\"></circle></g><g style=\"fill:rgb(100%,64.7%,0%);fill-opacity:1.0;opacity:1.0;stroke:none\" class=\"toyplot-Datum\" transform=\"translate(208.47837475988126, 148.67209794716007)\"><circle r=\"4.0\"></circle></g><g style=\"fill:rgb(100%,64.7%,0%);fill-opacity:1.0;opacity:1.0;stroke:none\" class=\"toyplot-Datum\" transform=\"translate(208.47837475988126, 134.57608395470862)\"><circle r=\"4.0\"></circle></g><g style=\"fill:rgb(100%,64.7%,0%);fill-opacity:1.0;opacity:1.0;stroke:none\" class=\"toyplot-Datum\" transform=\"translate(208.47837475988126, 120.4800699622572)\"><circle r=\"4.0\"></circle></g><g style=\"fill:rgb(100%,64.7%,0%);fill-opacity:1.0;opacity:1.0;stroke:none\" class=\"toyplot-Datum\" transform=\"translate(208.47837475988126, 106.38405596980576)\"><circle r=\"4.0\"></circle></g><g style=\"fill:rgb(100%,64.7%,0%);fill-opacity:1.0;opacity:1.0;stroke:none\" class=\"toyplot-Datum\" transform=\"translate(208.47837475988126, 92.28804197735431)\"><circle r=\"4.0\"></circle></g><g style=\"fill:rgb(100%,64.7%,0%);fill-opacity:1.0;opacity:1.0;stroke:none\" class=\"toyplot-Datum\" transform=\"translate(208.47837475988126, 78.1920279849029)\"><circle r=\"4.0\"></circle></g><g style=\"fill:rgb(100%,64.7%,0%);fill-opacity:1.0;opacity:1.0;stroke:none\" class=\"toyplot-Datum\" transform=\"translate(208.47837475988126, 64.09601399245143)\"><circle r=\"4.0\"></circle></g></g></g></g><g class=\"toyplot-coordinates-Axis\" id=\"t7bed03f9ed9c480090165a7cc735c744\" transform=\"translate(50.0,225.0)translate(0,15.0)\"><line x1=\"0\" y1=\"0\" x2=\"158.4783747598813\" y2=\"0\" style=\"\"></line><g><g transform=\"translate(0.0,6)\"><text x=\"-8.615\" y=\"8.555\" style=\"fill:rgb(16.1%,15.3%,14.1%);fill-opacity:1.0;font-family:helvetica;font-size:10.0px;font-weight:normal;stroke:none;vertical-align:baseline;white-space:pre\">-1.0</text></g><g transform=\"translate(52.82612491996043,6)\"><text x=\"-8.615\" y=\"8.555\" style=\"fill:rgb(16.1%,15.3%,14.1%);fill-opacity:1.0;font-family:helvetica;font-size:10.0px;font-weight:normal;stroke:none;vertical-align:baseline;white-space:pre\">-0.5</text></g><g transform=\"translate(105.65224983992086,6)\"><text x=\"-6.95\" y=\"8.555\" style=\"fill:rgb(16.1%,15.3%,14.1%);fill-opacity:1.0;font-family:helvetica;font-size:10.0px;font-weight:normal;stroke:none;vertical-align:baseline;white-space:pre\">0.0</text></g><g transform=\"translate(158.4783747598813,6)\"><text x=\"-6.95\" y=\"8.555\" style=\"fill:rgb(16.1%,15.3%,14.1%);fill-opacity:1.0;font-family:helvetica;font-size:10.0px;font-weight:normal;stroke:none;vertical-align:baseline;white-space:pre\">0.5</text></g></g><g class=\"toyplot-coordinates-Axis-coordinates\" style=\"visibility:hidden\" transform=\"\"><line x1=\"0\" x2=\"0\" y1=\"-3.0\" y2=\"4.5\" style=\"stroke:rgb(43.9%,50.2%,56.5%);stroke-opacity:1.0;stroke-width:1.0\"></line><text x=\"0\" y=\"-6\" style=\"alignment-baseline:alphabetic;fill:rgb(43.9%,50.2%,56.5%);fill-opacity:1.0;font-size:10px;font-weight:normal;stroke:none;text-anchor:middle\"></text></g></g><g class=\"toyplot-coordinates-Axis\" id=\"te91cb8d6d91740a09ba1fe900fa56f9a\" transform=\"translate(50.0,225.0)rotate(-90.0)translate(0,-15.0)\"><line x1=\"5.847832090582707\" y1=\"0\" x2=\"160.90398600754855\" y2=\"0\" style=\"\"></line><g><g transform=\"translate(5.847832090582707,-6)\"><text x=\"-2.78\" y=\"-4.440892098500626e-16\" style=\"fill:rgb(16.1%,15.3%,14.1%);fill-opacity:1.0;font-family:helvetica;font-size:10.0px;font-weight:normal;stroke:none;vertical-align:baseline;white-space:pre\">0</text></g><g transform=\"translate(62.23188806038847,-6)\"><text x=\"-2.78\" y=\"-4.440892098500626e-16\" style=\"fill:rgb(16.1%,15.3%,14.1%);fill-opacity:1.0;font-family:helvetica;font-size:10.0px;font-weight:normal;stroke:none;vertical-align:baseline;white-space:pre\">4</text></g><g transform=\"translate(118.61594403019424,-6)\"><text x=\"-2.78\" y=\"-4.440892098500626e-16\" style=\"fill:rgb(16.1%,15.3%,14.1%);fill-opacity:1.0;font-family:helvetica;font-size:10.0px;font-weight:normal;stroke:none;vertical-align:baseline;white-space:pre\">8</text></g><g transform=\"translate(175.0,-6)\"><text x=\"-5.56\" y=\"-4.440892098500626e-16\" style=\"fill:rgb(16.1%,15.3%,14.1%);fill-opacity:1.0;font-family:helvetica;font-size:10.0px;font-weight:normal;stroke:none;vertical-align:baseline;white-space:pre\">12</text></g></g><g class=\"toyplot-coordinates-Axis-coordinates\" style=\"visibility:hidden\" transform=\"\"><line x1=\"0\" x2=\"0\" y1=\"3.0\" y2=\"-4.5\" style=\"stroke:rgb(43.9%,50.2%,56.5%);stroke-opacity:1.0;stroke-width:1.0\"></line><text x=\"0\" y=\"6\" style=\"alignment-baseline:hanging;fill:rgb(43.9%,50.2%,56.5%);fill-opacity:1.0;font-size:10px;font-weight:normal;stroke:none;text-anchor:middle\"></text></g></g></g></svg><div class=\"toyplot-behavior\"><script>(function()\n",
       "{\n",
       "var modules={};\n",
       "modules[\"toyplot/tables\"] = (function()\n",
       "    {\n",
       "        var tables = [];\n",
       "\n",
       "        var module = {};\n",
       "\n",
       "        module.set = function(owner, key, names, columns)\n",
       "        {\n",
       "            tables.push({owner: owner, key: key, names: names, columns: columns});\n",
       "        }\n",
       "\n",
       "        module.get = function(owner, key)\n",
       "        {\n",
       "            for(var i = 0; i != tables.length; ++i)\n",
       "            {\n",
       "                var table = tables[i];\n",
       "                if(table.owner != owner)\n",
       "                    continue;\n",
       "                if(table.key != key)\n",
       "                    continue;\n",
       "                return {names: table.names, columns: table.columns};\n",
       "            }\n",
       "        }\n",
       "\n",
       "        module.get_csv = function(owner, key)\n",
       "        {\n",
       "            var table = module.get(owner, key);\n",
       "            if(table != undefined)\n",
       "            {\n",
       "                var csv = \"\";\n",
       "                csv += table.names.join(\",\") + \"\\n\";\n",
       "                for(var i = 0; i != table.columns[0].length; ++i)\n",
       "                {\n",
       "                  for(var j = 0; j != table.columns.length; ++j)\n",
       "                  {\n",
       "                    if(j)\n",
       "                      csv += \",\";\n",
       "                    csv += table.columns[j][i];\n",
       "                  }\n",
       "                  csv += \"\\n\";\n",
       "                }\n",
       "                return csv;\n",
       "            }\n",
       "        }\n",
       "\n",
       "        return module;\n",
       "    })();\n",
       "modules[\"toyplot/root/id\"] = \"t1b1823fcc51c41c1919ec15bfa234e16\";\n",
       "modules[\"toyplot/root\"] = (function(root_id)\n",
       "    {\n",
       "        return document.querySelector(\"#\" + root_id);\n",
       "    })(modules[\"toyplot/root/id\"]);\n",
       "modules[\"toyplot/canvas/id\"] = \"t71caa00ef44e4bc890319b6e4c13f270\";\n",
       "modules[\"toyplot/canvas\"] = (function(canvas_id)\n",
       "    {\n",
       "        return document.querySelector(\"#\" + canvas_id);\n",
       "    })(modules[\"toyplot/canvas/id\"]);\n",
       "modules[\"toyplot/menus/context\"] = (function(root, canvas)\n",
       "    {\n",
       "        var wrapper = document.createElement(\"div\");\n",
       "        wrapper.innerHTML = \"<ul class='toyplot-context-menu' style='background:#eee; border:1px solid #b8b8b8; border-radius:5px; box-shadow: 0px 0px 8px rgba(0%,0%,0%,0.25); margin:0; padding:3px 0; position:fixed; visibility:hidden;'></ul>\"\n",
       "        var menu = wrapper.firstChild;\n",
       "\n",
       "        root.appendChild(menu);\n",
       "\n",
       "        var items = [];\n",
       "\n",
       "        var ignore_mouseup = null;\n",
       "        function open_menu(e)\n",
       "        {\n",
       "            var show_menu = false;\n",
       "            for(var index=0; index != items.length; ++index)\n",
       "            {\n",
       "                var item = items[index];\n",
       "                if(item.show(e))\n",
       "                {\n",
       "                    item.item.style.display = \"block\";\n",
       "                    show_menu = true;\n",
       "                }\n",
       "                else\n",
       "                {\n",
       "                    item.item.style.display = \"none\";\n",
       "                }\n",
       "            }\n",
       "\n",
       "            if(show_menu)\n",
       "            {\n",
       "                ignore_mouseup = true;\n",
       "                menu.style.left = (e.clientX + 1) + \"px\";\n",
       "                menu.style.top = (e.clientY - 5) + \"px\";\n",
       "                menu.style.visibility = \"visible\";\n",
       "                e.stopPropagation();\n",
       "                e.preventDefault();\n",
       "            }\n",
       "        }\n",
       "\n",
       "        function close_menu()\n",
       "        {\n",
       "            menu.style.visibility = \"hidden\";\n",
       "        }\n",
       "\n",
       "        function contextmenu(e)\n",
       "        {\n",
       "            open_menu(e);\n",
       "        }\n",
       "\n",
       "        function mousemove(e)\n",
       "        {\n",
       "            ignore_mouseup = false;\n",
       "        }\n",
       "\n",
       "        function mouseup(e)\n",
       "        {\n",
       "            if(ignore_mouseup)\n",
       "            {\n",
       "                ignore_mouseup = false;\n",
       "                return;\n",
       "            }\n",
       "            close_menu();\n",
       "        }\n",
       "\n",
       "        function keydown(e)\n",
       "        {\n",
       "            if(e.key == \"Escape\" || e.key == \"Esc\" || e.keyCode == 27)\n",
       "            {\n",
       "                close_menu();\n",
       "            }\n",
       "        }\n",
       "\n",
       "        canvas.addEventListener(\"contextmenu\", contextmenu);\n",
       "        canvas.addEventListener(\"mousemove\", mousemove);\n",
       "        document.addEventListener(\"mouseup\", mouseup);\n",
       "        document.addEventListener(\"keydown\", keydown);\n",
       "\n",
       "        var module = {};\n",
       "        module.add_item = function(label, show, activate)\n",
       "        {\n",
       "            var wrapper = document.createElement(\"div\");\n",
       "            wrapper.innerHTML = \"<li class='toyplot-context-menu-item' style='background:#eee; color:#333; padding:2px 20px; list-style:none; margin:0; text-align:left;'>\" + label + \"</li>\"\n",
       "            var item = wrapper.firstChild;\n",
       "\n",
       "            items.push({item: item, show: show});\n",
       "\n",
       "            function mouseover()\n",
       "            {\n",
       "                this.style.background = \"steelblue\";\n",
       "                this.style.color = \"white\";\n",
       "            }\n",
       "\n",
       "            function mouseout()\n",
       "            {\n",
       "                this.style.background = \"#eee\";\n",
       "                this.style.color = \"#333\";\n",
       "            }\n",
       "\n",
       "            function choose_item(e)\n",
       "            {\n",
       "                close_menu();\n",
       "                activate();\n",
       "\n",
       "                e.stopPropagation();\n",
       "                e.preventDefault();\n",
       "            }\n",
       "\n",
       "            item.addEventListener(\"mouseover\", mouseover);\n",
       "            item.addEventListener(\"mouseout\", mouseout);\n",
       "            item.addEventListener(\"mouseup\", choose_item);\n",
       "            item.addEventListener(\"contextmenu\", choose_item);\n",
       "\n",
       "            menu.appendChild(item);\n",
       "        };\n",
       "        return module;\n",
       "    })(modules[\"toyplot/root\"],modules[\"toyplot/canvas\"]);\n",
       "modules[\"toyplot/io\"] = (function()\n",
       "    {\n",
       "        var module = {};\n",
       "        module.save_file = function(mime_type, charset, data, filename)\n",
       "        {\n",
       "            var uri = \"data:\" + mime_type + \";charset=\" + charset + \",\" + data;\n",
       "            uri = encodeURI(uri);\n",
       "\n",
       "            var link = document.createElement(\"a\");\n",
       "            if(typeof link.download != \"undefined\")\n",
       "            {\n",
       "              link.href = uri;\n",
       "              link.style = \"visibility:hidden\";\n",
       "              link.download = filename;\n",
       "\n",
       "              document.body.appendChild(link);\n",
       "              link.click();\n",
       "              document.body.removeChild(link);\n",
       "            }\n",
       "            else\n",
       "            {\n",
       "              window.open(uri);\n",
       "            }\n",
       "        };\n",
       "        return module;\n",
       "    })();\n",
       "modules[\"toyplot.coordinates.Axis\"] = (\n",
       "        function(canvas)\n",
       "        {\n",
       "            function sign(x)\n",
       "            {\n",
       "                return x < 0 ? -1 : x > 0 ? 1 : 0;\n",
       "            }\n",
       "\n",
       "            function mix(a, b, amount)\n",
       "            {\n",
       "                return ((1.0 - amount) * a) + (amount * b);\n",
       "            }\n",
       "\n",
       "            function log(x, base)\n",
       "            {\n",
       "                return Math.log(Math.abs(x)) / Math.log(base);\n",
       "            }\n",
       "\n",
       "            function in_range(a, x, b)\n",
       "            {\n",
       "                var left = Math.min(a, b);\n",
       "                var right = Math.max(a, b);\n",
       "                return left <= x && x <= right;\n",
       "            }\n",
       "\n",
       "            function inside(range, projection)\n",
       "            {\n",
       "                for(var i = 0; i != projection.length; ++i)\n",
       "                {\n",
       "                    var segment = projection[i];\n",
       "                    if(in_range(segment.range.min, range, segment.range.max))\n",
       "                        return true;\n",
       "                }\n",
       "                return false;\n",
       "            }\n",
       "\n",
       "            function to_domain(range, projection)\n",
       "            {\n",
       "                for(var i = 0; i != projection.length; ++i)\n",
       "                {\n",
       "                    var segment = projection[i];\n",
       "                    if(in_range(segment.range.bounds.min, range, segment.range.bounds.max))\n",
       "                    {\n",
       "                        if(segment.scale == \"linear\")\n",
       "                        {\n",
       "                            var amount = (range - segment.range.min) / (segment.range.max - segment.range.min);\n",
       "                            return mix(segment.domain.min, segment.domain.max, amount)\n",
       "                        }\n",
       "                        else if(segment.scale[0] == \"log\")\n",
       "                        {\n",
       "                            var amount = (range - segment.range.min) / (segment.range.max - segment.range.min);\n",
       "                            var base = segment.scale[1];\n",
       "                            return sign(segment.domain.min) * Math.pow(base, mix(log(segment.domain.min, base), log(segment.domain.max, base), amount));\n",
       "                        }\n",
       "                    }\n",
       "                }\n",
       "            }\n",
       "\n",
       "            var axes = {};\n",
       "\n",
       "            function display_coordinates(e)\n",
       "            {\n",
       "                var current = canvas.createSVGPoint();\n",
       "                current.x = e.clientX;\n",
       "                current.y = e.clientY;\n",
       "\n",
       "                for(var axis_id in axes)\n",
       "                {\n",
       "                    var axis = document.querySelector(\"#\" + axis_id);\n",
       "                    var coordinates = axis.querySelector(\".toyplot-coordinates-Axis-coordinates\");\n",
       "                    if(coordinates)\n",
       "                    {\n",
       "                        var projection = axes[axis_id];\n",
       "                        var local = current.matrixTransform(axis.getScreenCTM().inverse());\n",
       "                        if(inside(local.x, projection))\n",
       "                        {\n",
       "                            var domain = to_domain(local.x, projection);\n",
       "                            coordinates.style.visibility = \"visible\";\n",
       "                            coordinates.setAttribute(\"transform\", \"translate(\" + local.x + \")\");\n",
       "                            var text = coordinates.querySelector(\"text\");\n",
       "                            text.textContent = domain.toFixed(2);\n",
       "                        }\n",
       "                        else\n",
       "                        {\n",
       "                            coordinates.style.visibility= \"hidden\";\n",
       "                        }\n",
       "                    }\n",
       "                }\n",
       "            }\n",
       "\n",
       "            canvas.addEventListener(\"click\", display_coordinates);\n",
       "\n",
       "            var module = {};\n",
       "            module.show_coordinates = function(axis_id, projection)\n",
       "            {\n",
       "                axes[axis_id] = projection;\n",
       "            }\n",
       "\n",
       "            return module;\n",
       "        })(modules[\"toyplot/canvas\"]);\n",
       "(function(tables, context_menu, io, owner_id, key, label, names, columns, filename)\n",
       "        {\n",
       "            tables.set(owner_id, key, names, columns);\n",
       "\n",
       "            var owner = document.querySelector(\"#\" + owner_id);\n",
       "            function show_item(e)\n",
       "            {\n",
       "                return owner.contains(e.target);\n",
       "            }\n",
       "\n",
       "            function choose_item()\n",
       "            {\n",
       "                io.save_file(\"text/csv\", \"utf-8\", tables.get_csv(owner_id, key), filename + \".csv\");\n",
       "            }\n",
       "\n",
       "            context_menu.add_item(\"Save \" + label + \" as CSV\", show_item, choose_item);\n",
       "        })(modules[\"toyplot/tables\"],modules[\"toyplot/menus/context\"],modules[\"toyplot/io\"],\"t8e094a67f0db4ddda66e5f70d46e59d0\",\"data\",\"point\",[\"x\", \"y0\"],[[0.0, 0.0, 0.0, 0.0, 0.0, 0.0, 0.0, 0.0, 0.0, 0.0, 0.0, 0.0], [0.0, 1.0, 2.0, 3.0, 4.0, 5.0, 6.0, 7.0, 8.0, 9.0, 10.0, 11.0]],\"toyplot\");\n",
       "(function(tables, context_menu, io, owner_id, key, label, names, columns, filename)\n",
       "        {\n",
       "            tables.set(owner_id, key, names, columns);\n",
       "\n",
       "            var owner = document.querySelector(\"#\" + owner_id);\n",
       "            function show_item(e)\n",
       "            {\n",
       "                return owner.contains(e.target);\n",
       "            }\n",
       "\n",
       "            function choose_item()\n",
       "            {\n",
       "                io.save_file(\"text/csv\", \"utf-8\", tables.get_csv(owner_id, key), filename + \".csv\");\n",
       "            }\n",
       "\n",
       "            context_menu.add_item(\"Save \" + label + \" as CSV\", show_item, choose_item);\n",
       "        })(modules[\"toyplot/tables\"],modules[\"toyplot/menus/context\"],modules[\"toyplot/io\"],\"td4e1d35c20e14ed7bdf6490363914f85\",\"data\",\"point\",[\"x\", \"y0\"],[[0.5, 0.5, 0.5, 0.5, 0.5, 0.5, 0.5, 0.5, 0.5, 0.5, 0.5, 0.5], [0.0, 1.0, 2.0, 3.0, 4.0, 5.0, 6.0, 7.0, 8.0, 9.0, 10.0, 11.0]],\"toyplot\");\n",
       "(function(axis, axis_id, projection)\n",
       "        {\n",
       "            axis.show_coordinates(axis_id, projection);\n",
       "        })(modules[\"toyplot.coordinates.Axis\"],\"t7bed03f9ed9c480090165a7cc735c744\",[{\"domain\": {\"bounds\": {\"max\": Infinity, \"min\": -Infinity}, \"max\": 0.5617272727272724, \"min\": -1.0}, \"range\": {\"bounds\": {\"max\": Infinity, \"min\": -Infinity}, \"max\": 165.0, \"min\": 0.0}, \"scale\": \"linear\"}]);\n",
       "(function(axis, axis_id, projection)\n",
       "        {\n",
       "            axis.show_coordinates(axis_id, projection);\n",
       "        })(modules[\"toyplot.coordinates.Axis\"],\"te91cb8d6d91740a09ba1fe900fa56f9a\",[{\"domain\": {\"bounds\": {\"max\": Infinity, \"min\": -Infinity}, \"max\": 12.0, \"min\": -0.4148571428571425}, \"range\": {\"bounds\": {\"max\": Infinity, \"min\": -Infinity}, \"max\": 175.0, \"min\": 0.0}, \"scale\": \"linear\"}]);\n",
       "})();</script></div></div>"
      ]
     },
     "metadata": {},
     "output_type": "display_data"
    }
   ],
   "source": [
    "# store the returned Canvas and Axes objects\n",
    "canvas, axes, mark = tre.draw()\n",
    "\n",
    "# add scatterplot points to the tip positions of the tree\n",
    "axes.scatterplot(\n",
    "    np.repeat(0, tre.ntips),\n",
    "    np.arange(tre.ntips),\n",
    "    size=6,\n",
    ");\n",
    "\n",
    "# add scatterplot points to the right of the tree by 0.5 units\n",
    "axes.scatterplot(\n",
    "    np.repeat(0.5, tre.ntips),\n",
    "    np.arange(tre.ntips),\n",
    "    size=8,\n",
    "    mstyle={\"fill\": \"orange\", \"stroke\": \"none\"},\n",
    ");\n",
    "\n",
    "# show the axes\n",
    "axes.show = True"
   ]
  }
 ],
 "metadata": {
  "kernelspec": {
   "display_name": "Python 3",
   "language": "python",
   "name": "python3"
  },
  "language_info": {
   "codemirror_mode": {
    "name": "ipython",
    "version": 3
   },
   "file_extension": ".py",
   "mimetype": "text/x-python",
   "name": "python",
   "nbconvert_exporter": "python",
   "pygments_lexer": "ipython3",
   "version": "3.9.7"
  }
 },
 "nbformat": 4,
 "nbformat_minor": 2
}
