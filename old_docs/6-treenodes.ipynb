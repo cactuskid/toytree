{
 "cells": [
  {
   "cell_type": "markdown",
   "metadata": {},
   "source": [
    "## TreeNode objects\n",
    "The `.treenode` attribute of ToyTrees allows users to access the underlying TreeNode structure directly. This is where you can traverse the tree and query the parent/child relationships of nodes. While this is used extensively within the code of toytree, most users will likely not need to interact with TreeNodes in order do most things they want toytree for (i.e., drawing). However, for power users, the TreeNode structure of toytrees provides a lot of additional functionality especially for doing scientific computation and research on trees. The `TreeNode` object in toytree is a modified fork of the TreeNode in ete3. Thus, you can read the very detailed [ete documentation](http://etetoolkit.org) if you want a detailed understanding of the object."
   ]
  },
  {
   "cell_type": "code",
   "execution_count": 1,
   "metadata": {},
   "outputs": [],
   "source": [
    "import toytree\n",
    "import toyplot\n",
    "import numpy as np\n",
    "\n",
    "# generate a random tree\n",
    "tre = toytree.rtree.unittree(ntips=10, seed=12345)"
   ]
  },
  {
   "cell_type": "markdown",
   "metadata": {},
   "source": [
    "TreeNode objects are always nested inside of ToyTree objects, and accessed from ToyTrees. When you use `.treenode` to access a TreeNode from a ToyTree you are actually accessing the top level node of the tree structure, the root. The root TreeNode is connected to every other TreeNode in the tree, and together they describe the tree structure. "
   ]
  },
  {
   "cell_type": "code",
   "execution_count": 2,
   "metadata": {},
   "outputs": [
    {
     "data": {
      "text/plain": [
       "<TreeNode idx=18; dist=1.67e-01; is_root=True is_leaf=False/>"
      ]
     },
     "execution_count": 2,
     "metadata": {},
     "output_type": "execute_result"
    }
   ],
   "source": [
    "# the .treenode attribute of the ToyTree returns its root TreeNode\n",
    "tre.treenode"
   ]
  },
  {
   "cell_type": "code",
   "execution_count": 3,
   "metadata": {},
   "outputs": [
    {
     "data": {
      "text/plain": [
       "{0: <TreeNode idx=0; dist=5.00e-01; is_root=False is_leaf=True/>,\n",
       " 1: <TreeNode idx=1; dist=1.67e-01; is_root=False is_leaf=True/>,\n",
       " 2: <TreeNode idx=2; dist=1.67e-01; is_root=False is_leaf=True/>,\n",
       " 3: <TreeNode idx=3; dist=3.33e-01; is_root=False is_leaf=True/>,\n",
       " 4: <TreeNode idx=4; dist=5.00e-01; is_root=False is_leaf=True/>,\n",
       " 5: <TreeNode idx=5; dist=5.00e-01; is_root=False is_leaf=True/>,\n",
       " 6: <TreeNode idx=6; dist=6.67e-01; is_root=False is_leaf=True/>,\n",
       " 7: <TreeNode idx=7; dist=6.67e-01; is_root=False is_leaf=True/>,\n",
       " 8: <TreeNode idx=8; dist=8.33e-01; is_root=False is_leaf=True/>,\n",
       " 9: <TreeNode idx=9; dist=8.33e-01; is_root=False is_leaf=True/>,\n",
       " 10: <TreeNode idx=10; dist=1.67e-01; is_root=False is_leaf=False/>,\n",
       " 11: <TreeNode idx=11; dist=1.67e-01; is_root=False is_leaf=False/>,\n",
       " 12: <TreeNode idx=12; dist=1.67e-01; is_root=False is_leaf=False/>,\n",
       " 13: <TreeNode idx=13; dist=1.67e-01; is_root=False is_leaf=False/>,\n",
       " 14: <TreeNode idx=14; dist=1.67e-01; is_root=False is_leaf=False/>,\n",
       " 15: <TreeNode idx=15; dist=1.67e-01; is_root=False is_leaf=False/>,\n",
       " 16: <TreeNode idx=16; dist=1.67e-01; is_root=False is_leaf=False/>,\n",
       " 17: <TreeNode idx=17; dist=1.67e-01; is_root=False is_leaf=False/>,\n",
       " 18: <TreeNode idx=18; dist=1.67e-01; is_root=True is_leaf=False/>}"
      ]
     },
     "execution_count": 3,
     "metadata": {},
     "output_type": "execute_result"
    }
   ],
   "source": [
    "# the .idx_dict of a toytree makes TreeNodes accessible by index\n",
    "tre.idx_dict"
   ]
  },
  {
   "cell_type": "markdown",
   "metadata": {},
   "source": [
    "### Traversing TreeNodes\n",
    "To traverse a tree means to move from node to node to visit every node of the tree. In this case, we move from TreeNode to TreeNode. Depending on your reason for traversing the tree, the order in which nodes are visited may be arbitrary, or, it may actually be very important. For example, if you wish to calculate some new value on a node that depends on the values of its children, then you will want to visit the child nodes before you visit their parents. TreeNodes can be traversed in three ways. Below I print the order that nodes are visited for each. You can see the node index labels plotted on the tree which toytree uses to order nodes for plotting. "
   ]
  },
  {
   "cell_type": "code",
   "execution_count": 5,
   "metadata": {},
   "outputs": [
    {
     "name": "stdout",
     "output_type": "stream",
     "text": [
      "levelorder: [18, 17, 16, 9, 8, 15, 14, 7, 6, 13, 12, 5, 4, 11, 0, 3, 10, 2, 1]\n",
      "preorder:   [18, 17, 9, 8, 16, 15, 7, 6, 14, 13, 5, 4, 12, 11, 3, 10, 2, 1, 0]\n",
      "postorder:  [9, 8, 17, 7, 6, 15, 5, 4, 13, 3, 2, 1, 10, 11, 0, 12, 14, 16, 18]\n"
     ]
    },
    {
     "data": {
      "text/html": [
       "<div class=\"toyplot\" id=\"tc6d965711b8c4507926064661bf5d97a\" style=\"text-align:center\"><svg class=\"toyplot-canvas-Canvas\" xmlns:toyplot=\"http://www.sandia.gov/toyplot\" xmlns:xlink=\"http://www.w3.org/1999/xlink\" xmlns=\"http://www.w3.org/2000/svg\" width=\"260.0px\" height=\"275.0px\" viewBox=\"0 0 260.0 275.0\" preserveAspectRatio=\"xMidYMid meet\" style=\"background-color:transparent;border-color:#292724;border-style:none;border-width:1.0;fill:rgb(16.1%,15.3%,14.1%);fill-opacity:1.0;font-family:Helvetica;font-size:12px;opacity:1.0;stroke:rgb(16.1%,15.3%,14.1%);stroke-opacity:1.0;stroke-width:1.0\" id=\"taccfaa7f2fcf48efb2d8ea5caabad712\"><g class=\"toyplot-coordinates-Cartesian\" id=\"t83c309c9100a40aa8fb094d2f293878e\"><clipPath id=\"t9d9d78a953f64014a22acea28a30939e\"><rect x=\"35.0\" y=\"35.0\" width=\"190.0\" height=\"205.0\"></rect></clipPath><g clip-path=\"url(#t9d9d78a953f64014a22acea28a30939e)\"><g class=\"toytree-mark-Toytree\" id=\"t29d34ecb4a414c0a9121eb961aca9162\"><g class=\"toytree-Edges\" style=\"fill:none;stroke:rgba(16.1%,15.3%,14.1%,1.000);stroke-linecap:round;stroke-width:2.0\"><path d=\"M 114.7 197.6 L 114.7 217.7 L 173.6 217.7\" id=\"12,0\" style=\"stroke-width:nan\"></path><path d=\"M 153.9 190.9 L 153.9 199.9 L 173.6 199.9\" id=\"10,1\" style=\"stroke-width:nan\"></path><path d=\"M 153.9 190.9 L 153.9 182.0 L 173.6 182.0\" id=\"10,2\" style=\"stroke-width:nan\"></path><path d=\"M 134.3 177.6 L 134.3 164.2 L 173.6 164.2\" id=\"11,3\" style=\"stroke-width:nan\"></path><path d=\"M 114.7 137.5 L 114.7 146.4 L 173.6 146.4\" id=\"13,4\" style=\"stroke-width:nan\"></path><path d=\"M 114.7 137.5 L 114.7 128.6 L 173.6 128.6\" id=\"13,5\" style=\"stroke-width:nan\"></path><path d=\"M 95.1 101.9 L 95.1 110.8 L 173.6 110.8\" id=\"15,6\" style=\"stroke-width:nan\"></path><path d=\"M 95.1 101.9 L 95.1 93.0 L 173.6 93.0\" id=\"15,7\" style=\"stroke-width:nan\"></path><path d=\"M 75.5 66.2 L 75.5 75.1 L 173.6 75.1\" id=\"17,8\" style=\"stroke-width:nan\"></path><path d=\"M 75.5 66.2 L 75.5 57.3 L 173.6 57.3\" id=\"17,9\" style=\"stroke-width:nan\"></path><path d=\"M 134.3 177.6 L 134.3 190.9 L 153.9 190.9\" id=\"11,10\" style=\"stroke-width:nan\"></path><path d=\"M 114.7 197.6 L 114.7 177.6 L 134.3 177.6\" id=\"12,11\" style=\"stroke-width:nan\"></path><path d=\"M 95.1 167.6 L 95.1 197.6 L 114.7 197.6\" id=\"14,12\" style=\"stroke-width:nan\"></path><path d=\"M 95.1 167.6 L 95.1 137.5 L 114.7 137.5\" id=\"14,13\" style=\"stroke-width:nan\"></path><path d=\"M 75.5 134.7 L 75.5 167.6 L 95.1 167.6\" id=\"16,14\" style=\"stroke-width:nan\"></path><path d=\"M 75.5 134.7 L 75.5 101.9 L 95.1 101.9\" id=\"16,15\" style=\"stroke-width:nan\"></path><path d=\"M 55.9 100.5 L 55.9 134.7 L 75.5 134.7\" id=\"18,16\" style=\"stroke-width:nan\"></path><path d=\"M 55.9 100.5 L 55.9 66.2 L 75.5 66.2\" id=\"18,17\" style=\"stroke-width:nan\"></path></g><g class=\"toytree-Nodes\" style=\"fill:rgba(40.0%,76.1%,64.7%,1.000);stroke:#262626;stroke-width:1.0\"><g id=\"node-0\" transform=\"translate(173.553,217.670)\"><circle r=\"8.0\"></circle></g><g id=\"node-1\" transform=\"translate(173.553,199.855)\"><circle r=\"8.0\"></circle></g><g id=\"node-2\" transform=\"translate(173.553,182.039)\"><circle r=\"8.0\"></circle></g><g id=\"node-3\" transform=\"translate(173.553,164.223)\"><circle r=\"8.0\"></circle></g><g id=\"node-4\" transform=\"translate(173.553,146.408)\"><circle r=\"8.0\"></circle></g><g id=\"node-5\" transform=\"translate(173.553,128.592)\"><circle r=\"8.0\"></circle></g><g id=\"node-6\" transform=\"translate(173.553,110.777)\"><circle r=\"8.0\"></circle></g><g id=\"node-7\" transform=\"translate(173.553,92.961)\"><circle r=\"8.0\"></circle></g><g id=\"node-8\" transform=\"translate(173.553,75.145)\"><circle r=\"8.0\"></circle></g><g id=\"node-9\" transform=\"translate(173.553,57.330)\"><circle r=\"8.0\"></circle></g><g id=\"node-10\" transform=\"translate(153.942,190.947)\"><circle r=\"8.0\"></circle></g><g id=\"node-11\" transform=\"translate(134.330,177.585)\"><circle r=\"8.0\"></circle></g><g id=\"node-12\" transform=\"translate(114.718,197.628)\"><circle r=\"8.0\"></circle></g><g id=\"node-13\" transform=\"translate(114.718,137.500)\"><circle r=\"8.0\"></circle></g><g id=\"node-14\" transform=\"translate(95.107,167.564)\"><circle r=\"8.0\"></circle></g><g id=\"node-15\" transform=\"translate(95.107,101.869)\"><circle r=\"8.0\"></circle></g><g id=\"node-16\" transform=\"translate(75.495,134.716)\"><circle r=\"8.0\"></circle></g><g id=\"node-17\" transform=\"translate(75.495,66.238)\"><circle r=\"8.0\"></circle></g><g id=\"node-18\" transform=\"translate(55.883,100.477)\"><circle r=\"8.0\"></circle></g></g><g class=\"toytree-NodeLabels\" style=\"font-family:Helvetica;font-size:9.0px;font-weight:300;stroke:none;vertical-align:baseline;white-space:pre\"><g class=\"toytree-NodeLabel\" transform=\"translate(173.5532593607222,217.67015706806282)\"><text x=\"-2.5020000000000002\" y=\"2.2995\" style=\"fill:rgb(16.1%,15.3%,14.1%);fill-opacity:1.0\">0</text></g><g class=\"toytree-NodeLabel\" transform=\"translate(173.55325936072217,199.85456660849334)\"><text x=\"-2.5020000000000002\" y=\"2.2995\" style=\"fill:rgb(16.1%,15.3%,14.1%);fill-opacity:1.0\">1</text></g><g class=\"toytree-NodeLabel\" transform=\"translate(173.55325936072217,182.03897614892378)\"><text x=\"-2.5020000000000002\" y=\"2.2995\" style=\"fill:rgb(16.1%,15.3%,14.1%);fill-opacity:1.0\">2</text></g><g class=\"toytree-NodeLabel\" transform=\"translate(173.5532593607222,164.22338568935427)\"><text x=\"-2.5020000000000002\" y=\"2.2995\" style=\"fill:rgb(16.1%,15.3%,14.1%);fill-opacity:1.0\">3</text></g><g class=\"toytree-NodeLabel\" transform=\"translate(173.5532593607222,146.40779522978477)\"><text x=\"-2.5020000000000002\" y=\"2.2995\" style=\"fill:rgb(16.1%,15.3%,14.1%);fill-opacity:1.0\">4</text></g><g class=\"toytree-NodeLabel\" transform=\"translate(173.5532593607222,128.59220477021526)\"><text x=\"-2.5020000000000002\" y=\"2.2995\" style=\"fill:rgb(16.1%,15.3%,14.1%);fill-opacity:1.0\">5</text></g><g class=\"toytree-NodeLabel\" transform=\"translate(173.5532593607222,110.77661431064574)\"><text x=\"-2.5020000000000002\" y=\"2.2995\" style=\"fill:rgb(16.1%,15.3%,14.1%);fill-opacity:1.0\">6</text></g><g class=\"toytree-NodeLabel\" transform=\"translate(173.5532593607222,92.96102385107622)\"><text x=\"-2.5020000000000002\" y=\"2.2995\" style=\"fill:rgb(16.1%,15.3%,14.1%);fill-opacity:1.0\">7</text></g><g class=\"toytree-NodeLabel\" transform=\"translate(173.5532593607222,75.1454333915067)\"><text x=\"-2.5020000000000002\" y=\"2.2995\" style=\"fill:rgb(16.1%,15.3%,14.1%);fill-opacity:1.0\">8</text></g><g class=\"toytree-NodeLabel\" transform=\"translate(173.5532593607222,57.3298429319372)\"><text x=\"-2.5020000000000002\" y=\"2.2995\" style=\"fill:rgb(16.1%,15.3%,14.1%);fill-opacity:1.0\">9</text></g><g class=\"toytree-NodeLabel\" transform=\"translate(153.9416308907663,190.94677137870855)\"><text x=\"-5.0040000000000004\" y=\"2.2995\" style=\"fill:rgb(16.1%,15.3%,14.1%);fill-opacity:1.0\">10</text></g><g class=\"toytree-NodeLabel\" transform=\"translate(134.3300024208104,177.58507853403142)\"><text x=\"-5.0040000000000004\" y=\"2.2995\" style=\"fill:rgb(16.1%,15.3%,14.1%);fill-opacity:1.0\">11</text></g><g class=\"toytree-NodeLabel\" transform=\"translate(114.71837395085448,197.62761780104714)\"><text x=\"-5.0040000000000004\" y=\"2.2995\" style=\"fill:rgb(16.1%,15.3%,14.1%);fill-opacity:1.0\">12</text></g><g class=\"toytree-NodeLabel\" transform=\"translate(114.71837395085448,137.50000000000003)\"><text x=\"-5.0040000000000004\" y=\"2.2995\" style=\"fill:rgb(16.1%,15.3%,14.1%);fill-opacity:1.0\">13</text></g><g class=\"toytree-NodeLabel\" transform=\"translate(95.10674548089858,167.56380890052358)\"><text x=\"-5.0040000000000004\" y=\"2.2995\" style=\"fill:rgb(16.1%,15.3%,14.1%);fill-opacity:1.0\">14</text></g><g class=\"toytree-NodeLabel\" transform=\"translate(95.10674548089858,101.86881908086097)\"><text x=\"-5.0040000000000004\" y=\"2.2995\" style=\"fill:rgb(16.1%,15.3%,14.1%);fill-opacity:1.0\">15</text></g><g class=\"toytree-NodeLabel\" transform=\"translate(75.49511701094269,134.71631399069227)\"><text x=\"-5.0040000000000004\" y=\"2.2995\" style=\"fill:rgb(16.1%,15.3%,14.1%);fill-opacity:1.0\">16</text></g><g class=\"toytree-NodeLabel\" transform=\"translate(75.49511701094266,66.23763816172195)\"><text x=\"-5.0040000000000004\" y=\"2.2995\" style=\"fill:rgb(16.1%,15.3%,14.1%);fill-opacity:1.0\">17</text></g><g class=\"toytree-NodeLabel\" transform=\"translate(55.883488540986775,100.47697607620711)\"><text x=\"-5.0040000000000004\" y=\"2.2995\" style=\"fill:rgb(16.1%,15.3%,14.1%);fill-opacity:1.0\">18</text></g></g><g class=\"toytree-TipLabels\" style=\"fill:rgb(16.1%,15.3%,14.1%);fill-opacity:1.0;font-family:Helvetica;font-size:11.0px;font-weight:300;stroke:none;vertical-align:baseline;white-space:pre\"><g class=\"toytree-TipLabel\" transform=\"translate(173.5532593607222,217.67015706806282)\"><text x=\"15.0\" y=\"2.8104999999999993\" style=\"\">r0</text></g><g class=\"toytree-TipLabel\" transform=\"translate(173.55325936072217,199.85456660849334)\"><text x=\"15.0\" y=\"2.8104999999999993\" style=\"\">r1</text></g><g class=\"toytree-TipLabel\" transform=\"translate(173.55325936072217,182.03897614892378)\"><text x=\"15.0\" y=\"2.8104999999999993\" style=\"\">r2</text></g><g class=\"toytree-TipLabel\" transform=\"translate(173.5532593607222,164.22338568935427)\"><text x=\"15.0\" y=\"2.8104999999999993\" style=\"\">r3</text></g><g class=\"toytree-TipLabel\" transform=\"translate(173.5532593607222,146.40779522978477)\"><text x=\"15.0\" y=\"2.8104999999999993\" style=\"\">r4</text></g><g class=\"toytree-TipLabel\" transform=\"translate(173.5532593607222,128.59220477021526)\"><text x=\"15.0\" y=\"2.8104999999999993\" style=\"\">r5</text></g><g class=\"toytree-TipLabel\" transform=\"translate(173.5532593607222,110.77661431064574)\"><text x=\"15.0\" y=\"2.8104999999999993\" style=\"\">r6</text></g><g class=\"toytree-TipLabel\" transform=\"translate(173.5532593607222,92.96102385107622)\"><text x=\"15.0\" y=\"2.8104999999999993\" style=\"\">r7</text></g><g class=\"toytree-TipLabel\" transform=\"translate(173.5532593607222,75.1454333915067)\"><text x=\"15.0\" y=\"2.8104999999999993\" style=\"\">r8</text></g><g class=\"toytree-TipLabel\" transform=\"translate(173.5532593607222,57.3298429319372)\"><text x=\"15.0\" y=\"2.8104999999999993\" style=\"\">r9</text></g></g></g></g></g></svg><div class=\"toyplot-behavior\"><script>(function()\n",
       "{\n",
       "var modules={};\n",
       "})();</script></div></div>"
      ]
     },
     "metadata": {},
     "output_type": "display_data"
    }
   ],
   "source": [
    "print('levelorder:', [node.idx for node in tre.treenode.traverse(\"levelorder\")])\n",
    "print('preorder:  ', [node.idx for node in tre.treenode.traverse(\"preorder\")])\n",
    "print('postorder: ', [node.idx for node in tre.treenode.traverse(\"postorder\")])\n",
    "tre.draw(node_labels=True, node_sizes=16, node_mask=False);"
   ]
  },
  {
   "cell_type": "markdown",
   "metadata": {},
   "source": [
    "TreeNodes have a large number of attributes and functions available to them which you can explore using tab-completion in a notebook and from the ete3 tutorial. In general, only advanced users will need to access attributes of the TreeNodes directly. For example, it is easier to access node idx and name labels from ToyTrees than from TreeNodes, since ToyTrees will return the values in the order they will be plotted. "
   ]
  },
  {
   "cell_type": "code",
   "execution_count": 6,
   "metadata": {},
   "outputs": [
    {
     "name": "stdout",
     "output_type": "stream",
     "text": [
      "18    18    0     1    \n",
      "17    17    0     0    \n",
      "16    16    0     0    \n",
      "9     r9    1     0    \n",
      "8     r8    1     0    \n",
      "15    15    0     0    \n",
      "14    14    0     0    \n",
      "7     r7    1     0    \n",
      "6     r6    1     0    \n",
      "13    13    0     0    \n",
      "12    12    0     0    \n",
      "5     r5    1     0    \n",
      "4     r4    1     0    \n",
      "11    11    0     0    \n",
      "0     r0    1     0    \n",
      "3     r3    1     0    \n",
      "10    10    0     0    \n",
      "2     r2    1     0    \n",
      "1     r1    1     0    \n"
     ]
    }
   ],
   "source": [
    "# traverse the tree and access node attributes\n",
    "for node in tre.treenode.traverse(strategy=\"levelorder\"):\n",
    "    print(\"{:<5} {:<5} {:<5} {:<5}\".format(\n",
    "        node.idx, node.name, node.is_leaf(), node.is_root()\n",
    "        )\n",
    "    )"
   ]
  },
  {
   "cell_type": "markdown",
   "metadata": {},
   "source": [
    "### Adding features to TreeNodes\n",
    "For the purposes of plotting, there are cases where accessing TreeNode attributes can be particularly powerful. For example, when you want to build a list of values for plotting that are based on the tree structure itself (number of children, edge length, is_root, etc.). You can traverse through the tree and calculate these attributes for each node. \n",
    "\n",
    "When doing so, I have a recommended best practice that once again is intended to help users avoid accidentally plotting values in an incorrect order. This recommended practice is to add new features to the TreeNodes by traversing the tree, but then to retrieve and plot the features from the TreeNodes using ToyTree, since ToyTrees are the objects that organize the coordinates for plotting. "
   ]
  },
  {
   "cell_type": "code",
   "execution_count": 7,
   "metadata": {},
   "outputs": [
    {
     "data": {
      "text/plain": [
       "{'dist', 'height', 'idx', 'name', 'support'}"
      ]
     },
     "execution_count": 7,
     "metadata": {},
     "output_type": "execute_result"
    }
   ],
   "source": [
    "# see available features on a ToyTree \n",
    "tre.features"
   ]
  },
  {
   "cell_type": "markdown",
   "metadata": {},
   "source": [
    "Let's say we wanted to plot a value on each node of a toytree. You can use the toytree function `.set_node_values()` to set a value to each node. This takes the feature name, a dictionary mapping values to idx labels, and optionally a default value that is assigned to all other nodes. You can modify existing features or set new features."
   ]
  },
  {
   "cell_type": "code",
   "execution_count": 10,
   "metadata": {},
   "outputs": [],
   "source": [
    "# set a feature a few nodes with a new name\n",
    "tre = tre.set_node_data(\n",
    "    feature=\"name\", \n",
    "    mapping={0: 'tip-0', 1: 'tip-1', 2: 'tip-2'},\n",
    ")"
   ]
  },
  {
   "cell_type": "code",
   "execution_count": 11,
   "metadata": {},
   "outputs": [],
   "source": [
    "# set a feature to every node of a random integer in 1-5\n",
    "tre = tre.set_node_data(\n",
    "    feature=\"randomint\", \n",
    "    mapping={idx: np.random.randint(1, 5) for idx in tre.idx_dict},\n",
    ")"
   ]
  },
  {
   "cell_type": "markdown",
   "metadata": {},
   "source": [
    "Another potentially useful 'feature' to access includes statistics about the tree. For example, we may want to measure the number of extant descendants of each node on a tree. Such things can be measured directly from TreeNode objects. Below I use `get_leaves()` as an example. You can see the ete3 docs for more info on TreeNode functions and attributes. "
   ]
  },
  {
   "cell_type": "code",
   "execution_count": 12,
   "metadata": {},
   "outputs": [],
   "source": [
    "# set a feature to every node for the number of descendants\n",
    "tre = tre.set_node_data(\n",
    "    feature=\"ndesc\", \n",
    "    mapping={\n",
    "        idx: len(node.get_leaves())\n",
    "        for (idx, node) in tre.idx_dict.items()\n",
    "    }\n",
    ")"
   ]
  },
  {
   "cell_type": "markdown",
   "metadata": {},
   "source": [
    "The `set_node_values()` function of toytrees operates similarly to the loop below which visits each TreeNode of the tree and adds a feature. The `.traverse()` function of treenodes is convenient for accessing all nodes. "
   ]
  },
  {
   "cell_type": "code",
   "execution_count": 13,
   "metadata": {},
   "outputs": [],
   "source": [
    "# add a new feature to every node\n",
    "for node in tre.treenode.traverse():\n",
    "    node.add_feature(\"ndesc\", len(node.get_leaves()))"
   ]
  },
  {
   "cell_type": "markdown",
   "metadata": {},
   "source": [
    "### Modifying features of TreeNodes\n",
    "\n",
    "Note: *Use caution* when modifying features of TreeNode objects because you can easily mess up the data that toytree needs in order to correctly plot trees and orient nodes, and tips, etc. This is why interacting with TreeNode objects directly should be considered an advanced method for toytree users. In contrast to ToyTree functions, which do not modify the tree structure in place, but instead return a copy, modification to TreeNodes do occur in place and therefore effect the current tree. Be aware that if you modify the parent/child relationships in the TreeNode it will change the tree. Similarly, if you change the `.dist` or `.idx` values of nodes it will effect the edge lengths and the order in which nodes are plotted. "
   ]
  },
  {
   "cell_type": "markdown",
   "metadata": {},
   "source": [
    "### Accessing features from ToyTrees\n",
    "The recommended workflow for adding features to TreeNodes and including them in toytree drawings is to use ToyTrees to retrieve the features, since ToyTree ensure the correct order.\n",
    "When you add a new feature to TreeNodes it can then be accessed by ToyTrees just like other default features: \"height\", \"idx\", \"name\", etc. You can use `.get_node_values()` to retrive them in the proper order, and to censor values for the root or tips if wanted. This also  allows you to further build color mappings based on these values, calculate further statistics, etc. "
   ]
  },
  {
   "cell_type": "code",
   "execution_count": 14,
   "metadata": {},
   "outputs": [
    {
     "data": {
      "text/plain": [
       "{'dist', 'height', 'idx', 'name', 'ndesc', 'randomint', 'support'}"
      ]
     },
     "execution_count": 14,
     "metadata": {},
     "output_type": "execute_result"
    }
   ],
   "source": [
    "# ndesc is now an available feature alongside the defaults\n",
    "tre.features"
   ]
  },
  {
   "cell_type": "code",
   "execution_count": 16,
   "metadata": {},
   "outputs": [
    {
     "data": {
      "text/plain": [
       "0      1\n",
       "1      1\n",
       "2      1\n",
       "3      1\n",
       "4      1\n",
       "5      1\n",
       "6      1\n",
       "7      1\n",
       "8      1\n",
       "9      1\n",
       "10     2\n",
       "11     3\n",
       "12     4\n",
       "13     2\n",
       "14     6\n",
       "15     2\n",
       "16     8\n",
       "17     2\n",
       "18    10\n",
       "Name: ndesc, dtype: int64"
      ]
     },
     "execution_count": 16,
     "metadata": {},
     "output_type": "execute_result"
    }
   ],
   "source": [
    "# it can be accessed from the ToyTree object using .get_node_values()\n",
    "tre.get_node_data('ndesc')"
   ]
  },
  {
   "cell_type": "code",
   "execution_count": 18,
   "metadata": {},
   "outputs": [
    {
     "data": {
      "text/html": [
       "<div class=\"toyplot\" id=\"td3e14c1c383a4f4aa4b6a13416762fc3\" style=\"text-align:center\"><svg class=\"toyplot-canvas-Canvas\" xmlns:toyplot=\"http://www.sandia.gov/toyplot\" xmlns:xlink=\"http://www.w3.org/1999/xlink\" xmlns=\"http://www.w3.org/2000/svg\" width=\"275.0px\" height=\"275.0px\" viewBox=\"0 0 275.0 275.0\" preserveAspectRatio=\"xMidYMid meet\" style=\"background-color:transparent;border-color:#292724;border-style:none;border-width:1.0;fill:rgb(16.1%,15.3%,14.1%);fill-opacity:1.0;font-family:Helvetica;font-size:12px;opacity:1.0;stroke:rgb(16.1%,15.3%,14.1%);stroke-opacity:1.0;stroke-width:1.0\" id=\"tc48e087e39ff4e878350137d765292ba\"><g class=\"toyplot-coordinates-Cartesian\" id=\"t90bb593757d14e129d4f335c55ca5143\"><clipPath id=\"tf89073532cd244f095131a098e15701a\"><rect x=\"35.0\" y=\"35.0\" width=\"205.0\" height=\"205.0\"></rect></clipPath><g clip-path=\"url(#tf89073532cd244f095131a098e15701a)\"><g class=\"toytree-mark-Toytree\" id=\"ta59dc93b5a6e407c91330c75d1148c32\"><g class=\"toytree-Edges\" style=\"fill:none;stroke:rgba(16.1%,15.3%,14.1%,1.000);stroke-linecap:round;stroke-width:2.0\"><path d=\"M 115.1 197.9 L 115.1 218.1 L 175.1 218.1\" id=\"12,0\" style=\"stroke-width:nan\"></path><path d=\"M 155.1 191.2 L 155.1 200.2 L 175.1 200.2\" id=\"10,1\" style=\"stroke-width:nan\"></path><path d=\"M 155.1 191.2 L 155.1 182.3 L 175.1 182.3\" id=\"10,2\" style=\"stroke-width:nan\"></path><path d=\"M 135.1 177.8 L 135.1 164.4 L 175.1 164.4\" id=\"11,3\" style=\"stroke-width:nan\"></path><path d=\"M 115.1 137.5 L 115.1 146.5 L 175.1 146.5\" id=\"13,4\" style=\"stroke-width:nan\"></path><path d=\"M 115.1 137.5 L 115.1 128.5 L 175.1 128.5\" id=\"13,5\" style=\"stroke-width:nan\"></path><path d=\"M 95.1 101.7 L 95.1 110.6 L 175.1 110.6\" id=\"15,6\" style=\"stroke-width:nan\"></path><path d=\"M 95.1 101.7 L 95.1 92.7 L 175.1 92.7\" id=\"15,7\" style=\"stroke-width:nan\"></path><path d=\"M 75.1 65.9 L 75.1 74.8 L 175.1 74.8\" id=\"17,8\" style=\"stroke-width:nan\"></path><path d=\"M 75.1 65.9 L 75.1 56.9 L 175.1 56.9\" id=\"17,9\" style=\"stroke-width:nan\"></path><path d=\"M 135.1 177.8 L 135.1 191.2 L 155.1 191.2\" id=\"11,10\" style=\"stroke-width:nan\"></path><path d=\"M 115.1 197.9 L 115.1 177.8 L 135.1 177.8\" id=\"12,11\" style=\"stroke-width:nan\"></path><path d=\"M 95.1 167.7 L 95.1 197.9 L 115.1 197.9\" id=\"14,12\" style=\"stroke-width:nan\"></path><path d=\"M 95.1 167.7 L 95.1 137.5 L 115.1 137.5\" id=\"14,13\" style=\"stroke-width:nan\"></path><path d=\"M 75.1 134.7 L 75.1 167.7 L 95.1 167.7\" id=\"16,14\" style=\"stroke-width:nan\"></path><path d=\"M 75.1 134.7 L 75.1 101.7 L 95.1 101.7\" id=\"16,15\" style=\"stroke-width:nan\"></path><path d=\"M 55.1 100.3 L 55.1 134.7 L 75.1 134.7\" id=\"18,16\" style=\"stroke-width:nan\"></path><path d=\"M 55.1 100.3 L 55.1 65.9 L 75.1 65.9\" id=\"18,17\" style=\"stroke-width:nan\"></path></g><g class=\"toytree-Nodes\" style=\"fill:rgba(40.0%,76.1%,64.7%,1.000);stroke:#262626;stroke-width:1.0\"><g id=\"node-10\" transform=\"translate(155.109,191.228)\"><circle r=\"7.5\"></circle></g><g id=\"node-11\" transform=\"translate(135.116,177.796)\"><circle r=\"7.5\"></circle></g><g id=\"node-12\" transform=\"translate(115.122,197.944)\"><circle r=\"7.5\"></circle></g><g id=\"node-13\" transform=\"translate(115.122,137.500)\"><circle r=\"7.5\"></circle></g><g id=\"node-14\" transform=\"translate(95.128,167.722)\"><circle r=\"7.5\"></circle></g><g id=\"node-15\" transform=\"translate(95.128,101.681)\"><circle r=\"7.5\"></circle></g><g id=\"node-16\" transform=\"translate(75.135,134.702)\"><circle r=\"7.5\"></circle></g><g id=\"node-17\" transform=\"translate(75.135,65.863)\"><circle r=\"7.5\"></circle></g><g id=\"node-18\" transform=\"translate(55.141,100.282)\"><circle r=\"7.5\"></circle></g></g><g class=\"toytree-NodeLabels\" style=\"font-family:Helvetica;font-size:9.0px;font-weight:300;stroke:none;vertical-align:baseline;white-space:pre\"><g class=\"toytree-NodeLabel\" transform=\"translate(155.10922219175578,191.2280701754386)\"><text x=\"-2.5020000000000002\" y=\"2.2995\" style=\"fill:rgb(16.1%,15.3%,14.1%);fill-opacity:1.0\">2</text></g><g class=\"toytree-NodeLabel\" transform=\"translate(135.11562014441097,177.79605263157896)\"><text x=\"-2.5020000000000002\" y=\"2.2995\" style=\"fill:rgb(16.1%,15.3%,14.1%);fill-opacity:1.0\">3</text></g><g class=\"toytree-NodeLabel\" transform=\"translate(115.12201809706609,197.94407894736844)\"><text x=\"-2.5020000000000002\" y=\"2.2995\" style=\"fill:rgb(16.1%,15.3%,14.1%);fill-opacity:1.0\">4</text></g><g class=\"toytree-NodeLabel\" transform=\"translate(115.12201809706609,137.5)\"><text x=\"-2.5020000000000002\" y=\"2.2995\" style=\"fill:rgb(16.1%,15.3%,14.1%);fill-opacity:1.0\">2</text></g><g class=\"toytree-NodeLabel\" transform=\"translate(95.12841604972124,167.72203947368422)\"><text x=\"-2.5020000000000002\" y=\"2.2995\" style=\"fill:rgb(16.1%,15.3%,14.1%);fill-opacity:1.0\">6</text></g><g class=\"toytree-NodeLabel\" transform=\"translate(95.12841604972124,101.68128654970761)\"><text x=\"-2.5020000000000002\" y=\"2.2995\" style=\"fill:rgb(16.1%,15.3%,14.1%);fill-opacity:1.0\">2</text></g><g class=\"toytree-NodeLabel\" transform=\"translate(75.1348140023764,134.7016630116959)\"><text x=\"-2.5020000000000002\" y=\"2.2995\" style=\"fill:rgb(16.1%,15.3%,14.1%);fill-opacity:1.0\">8</text></g><g class=\"toytree-NodeLabel\" transform=\"translate(75.1348140023764,65.86257309941521)\"><text x=\"-2.5020000000000002\" y=\"2.2995\" style=\"fill:rgb(16.1%,15.3%,14.1%);fill-opacity:1.0\">2</text></g><g class=\"toytree-NodeLabel\" transform=\"translate(55.141211955031544,100.28211805555557)\"><text x=\"-5.0040000000000004\" y=\"2.2995\" style=\"fill:rgb(16.1%,15.3%,14.1%);fill-opacity:1.0\">10</text></g></g><g class=\"toytree-TipLabels\" style=\"fill:rgb(16.1%,15.3%,14.1%);fill-opacity:1.0;font-family:Helvetica;font-size:11.0px;font-weight:300;stroke:none;vertical-align:baseline;white-space:pre\"><g class=\"toytree-TipLabel\" transform=\"translate(175.10282423910067,218.09210526315792)\"><text x=\"15.0\" y=\"2.8104999999999993\" style=\"\">tip-0</text></g><g class=\"toytree-TipLabel\" transform=\"translate(175.1028242391006,200.18274853801168)\"><text x=\"15.0\" y=\"2.8104999999999993\" style=\"\">tip-1</text></g><g class=\"toytree-TipLabel\" transform=\"translate(175.1028242391006,182.2733918128655)\"><text x=\"15.0\" y=\"2.8104999999999993\" style=\"\">tip-2</text></g><g class=\"toytree-TipLabel\" transform=\"translate(175.10282423910067,164.3640350877193)\"><text x=\"15.0\" y=\"2.8104999999999993\" style=\"\">r3</text></g><g class=\"toytree-TipLabel\" transform=\"translate(175.10282423910067,146.4546783625731)\"><text x=\"15.0\" y=\"2.8104999999999993\" style=\"\">r4</text></g><g class=\"toytree-TipLabel\" transform=\"translate(175.10282423910067,128.5453216374269)\"><text x=\"15.0\" y=\"2.8104999999999993\" style=\"\">r5</text></g><g class=\"toytree-TipLabel\" transform=\"translate(175.10282423910067,110.6359649122807)\"><text x=\"15.0\" y=\"2.8104999999999993\" style=\"\">r6</text></g><g class=\"toytree-TipLabel\" transform=\"translate(175.10282423910067,92.7266081871345)\"><text x=\"15.0\" y=\"2.8104999999999993\" style=\"\">r7</text></g><g class=\"toytree-TipLabel\" transform=\"translate(175.10282423910067,74.8172514619883)\"><text x=\"15.0\" y=\"2.8104999999999993\" style=\"\">r8</text></g><g class=\"toytree-TipLabel\" transform=\"translate(175.10282423910067,56.90789473684211)\"><text x=\"15.0\" y=\"2.8104999999999993\" style=\"\">r9</text></g></g></g></g></g></svg><div class=\"toyplot-behavior\"><script>(function()\n",
       "{\n",
       "var modules={};\n",
       "})();</script></div></div>"
      ]
     },
     "metadata": {},
     "output_type": "display_data"
    }
   ],
   "source": [
    "# and can be accessed by shortcut using just the feature name to 'node_labels'\n",
    "tre.draw(node_labels=\"ndesc\", node_sizes=15);"
   ]
  },
  {
   "cell_type": "markdown",
   "metadata": {},
   "source": [
    "Here is another example where color values are stored on TreeNodes and then retrieved from the ToyTree, and then used as draw argument to color nodes based on their TreeNode attribute. The nodes are colored based on whether the TreeNode was True or False for the `.is_leaf()`. We use the default color palette of toytree accessed from `toytree.colors`. "
   ]
  },
  {
   "cell_type": "code",
   "execution_count": 22,
   "metadata": {},
   "outputs": [
    {
     "data": {
      "text/html": [
       "<div class=\"toyplot\" id=\"t50e7d392a6964683a4fb36bdfd468778\" style=\"text-align:center\"><svg class=\"toyplot-canvas-Canvas\" xmlns:toyplot=\"http://www.sandia.gov/toyplot\" xmlns:xlink=\"http://www.w3.org/1999/xlink\" xmlns=\"http://www.w3.org/2000/svg\" width=\"275.0px\" height=\"275.0px\" viewBox=\"0 0 275.0 275.0\" preserveAspectRatio=\"xMidYMid meet\" style=\"background-color:transparent;border-color:#292724;border-style:none;border-width:1.0;fill:rgb(16.1%,15.3%,14.1%);fill-opacity:1.0;font-family:Helvetica;font-size:12px;opacity:1.0;stroke:rgb(16.1%,15.3%,14.1%);stroke-opacity:1.0;stroke-width:1.0\" id=\"tb2efe5f094984d32b877c0843c717361\"><g class=\"toyplot-coordinates-Cartesian\" id=\"t8a9199952ebf417e936549acd8e366f0\"><clipPath id=\"tf6811f7db0b44806a04988d5fbb10ba9\"><rect x=\"35.0\" y=\"35.0\" width=\"205.0\" height=\"205.0\"></rect></clipPath><g clip-path=\"url(#tf6811f7db0b44806a04988d5fbb10ba9)\"><g class=\"toytree-mark-Toytree\" id=\"tc93cbcce738d4324855227d42f00fdf5\"><g class=\"toytree-Edges\" style=\"fill:none;stroke:rgba(16.1%,15.3%,14.1%,1.000);stroke-linecap:round;stroke-width:2.0\"><path d=\"M 114.5 198.5 L 114.5 218.9 L 174.8 218.9\" id=\"12,0\" style=\"stroke-width:nan\"></path><path d=\"M 154.7 191.7 L 154.7 200.8 L 174.8 200.8\" id=\"10,1\" style=\"stroke-width:nan\"></path><path d=\"M 154.7 191.7 L 154.7 182.7 L 174.8 182.7\" id=\"10,2\" style=\"stroke-width:nan\"></path><path d=\"M 134.6 178.2 L 134.6 164.6 L 174.8 164.6\" id=\"11,3\" style=\"stroke-width:nan\"></path><path d=\"M 114.5 137.5 L 114.5 146.5 L 174.8 146.5\" id=\"13,4\" style=\"stroke-width:nan\"></path><path d=\"M 114.5 137.5 L 114.5 128.5 L 174.8 128.5\" id=\"13,5\" style=\"stroke-width:nan\"></path><path d=\"M 94.4 101.3 L 94.4 110.4 L 174.8 110.4\" id=\"15,6\" style=\"stroke-width:nan\"></path><path d=\"M 94.4 101.3 L 94.4 92.3 L 174.8 92.3\" id=\"15,7\" style=\"stroke-width:nan\"></path><path d=\"M 74.2 65.2 L 74.2 74.2 L 174.8 74.2\" id=\"17,8\" style=\"stroke-width:nan\"></path><path d=\"M 74.2 65.2 L 74.2 56.1 L 174.8 56.1\" id=\"17,9\" style=\"stroke-width:nan\"></path><path d=\"M 134.6 178.2 L 134.6 191.7 L 154.7 191.7\" id=\"11,10\" style=\"stroke-width:nan\"></path><path d=\"M 114.5 198.5 L 114.5 178.2 L 134.6 178.2\" id=\"12,11\" style=\"stroke-width:nan\"></path><path d=\"M 94.4 168.0 L 94.4 198.5 L 114.5 198.5\" id=\"14,12\" style=\"stroke-width:nan\"></path><path d=\"M 94.4 168.0 L 94.4 137.5 L 114.5 137.5\" id=\"14,13\" style=\"stroke-width:nan\"></path><path d=\"M 74.2 134.7 L 74.2 168.0 L 94.4 168.0\" id=\"16,14\" style=\"stroke-width:nan\"></path><path d=\"M 74.2 134.7 L 74.2 101.3 L 94.4 101.3\" id=\"16,15\" style=\"stroke-width:nan\"></path><path d=\"M 54.1 99.9 L 54.1 134.7 L 74.2 134.7\" id=\"18,16\" style=\"stroke-width:nan\"></path><path d=\"M 54.1 99.9 L 54.1 65.2 L 74.2 65.2\" id=\"18,17\" style=\"stroke-width:nan\"></path></g><g class=\"toytree-Nodes\" style=\"stroke:#262626;stroke-width:1.0\"><g id=\"node-0\" style=\"fill:rgb(98.8%,55.3%,38.4%);fill-opacity:1.0\" transform=\"translate(174.808,218.863)\"><circle r=\"6.0\"></circle></g><g id=\"node-1\" style=\"fill:rgb(98.8%,55.3%,38.4%);fill-opacity:1.0\" transform=\"translate(174.808,200.782)\"><circle r=\"6.0\"></circle></g><g id=\"node-2\" style=\"fill:rgb(98.8%,55.3%,38.4%);fill-opacity:1.0\" transform=\"translate(174.808,182.702)\"><circle r=\"6.0\"></circle></g><g id=\"node-3\" style=\"fill:rgb(98.8%,55.3%,38.4%);fill-opacity:1.0\" transform=\"translate(174.808,164.621)\"><circle r=\"6.0\"></circle></g><g id=\"node-4\" style=\"fill:rgb(98.8%,55.3%,38.4%);fill-opacity:1.0\" transform=\"translate(174.808,146.540)\"><circle r=\"6.0\"></circle></g><g id=\"node-5\" style=\"fill:rgb(98.8%,55.3%,38.4%);fill-opacity:1.0\" transform=\"translate(174.808,128.460)\"><circle r=\"6.0\"></circle></g><g id=\"node-6\" style=\"fill:rgb(98.8%,55.3%,38.4%);fill-opacity:1.0\" transform=\"translate(174.808,110.379)\"><circle r=\"6.0\"></circle></g><g id=\"node-7\" style=\"fill:rgb(98.8%,55.3%,38.4%);fill-opacity:1.0\" transform=\"translate(174.808,92.298)\"><circle r=\"6.0\"></circle></g><g id=\"node-8\" style=\"fill:rgb(98.8%,55.3%,38.4%);fill-opacity:1.0\" transform=\"translate(174.808,74.218)\"><circle r=\"6.0\"></circle></g><g id=\"node-9\" style=\"fill:rgb(98.8%,55.3%,38.4%);fill-opacity:1.0\" transform=\"translate(174.808,56.137)\"><circle r=\"6.0\"></circle></g><g id=\"node-10\" style=\"fill:rgb(55.3%,62.7%,79.6%);fill-opacity:1.0\" transform=\"translate(154.696,191.742)\"><circle r=\"6.0\"></circle></g><g id=\"node-11\" style=\"fill:rgb(55.3%,62.7%,79.6%);fill-opacity:1.0\" transform=\"translate(134.584,178.181)\"><circle r=\"6.0\"></circle></g><g id=\"node-12\" style=\"fill:rgb(55.3%,62.7%,79.6%);fill-opacity:1.0\" transform=\"translate(114.473,198.522)\"><circle r=\"6.0\"></circle></g><g id=\"node-13\" style=\"fill:rgb(55.3%,62.7%,79.6%);fill-opacity:1.0\" transform=\"translate(114.473,137.500)\"><circle r=\"6.0\"></circle></g><g id=\"node-14\" style=\"fill:rgb(55.3%,62.7%,79.6%);fill-opacity:1.0\" transform=\"translate(94.361,168.011)\"><circle r=\"6.0\"></circle></g><g id=\"node-15\" style=\"fill:rgb(55.3%,62.7%,79.6%);fill-opacity:1.0\" transform=\"translate(94.361,101.339)\"><circle r=\"6.0\"></circle></g><g id=\"node-16\" style=\"fill:rgb(55.3%,62.7%,79.6%);fill-opacity:1.0\" transform=\"translate(74.249,134.675)\"><circle r=\"6.0\"></circle></g><g id=\"node-17\" style=\"fill:rgb(55.3%,62.7%,79.6%);fill-opacity:1.0\" transform=\"translate(74.249,65.177)\"><circle r=\"6.0\"></circle></g><g id=\"node-18\" style=\"fill:rgb(55.3%,62.7%,79.6%);fill-opacity:1.0\" transform=\"translate(54.137,99.926)\"><circle r=\"6.0\"></circle></g></g><g class=\"toytree-TipLabels\" style=\"fill:rgb(16.1%,15.3%,14.1%);fill-opacity:1.0;font-family:Helvetica;font-size:11.0px;font-weight:300;stroke:none;vertical-align:baseline;white-space:pre\"><g class=\"toytree-TipLabel\" transform=\"translate(174.8079120532724,218.86291179596174)\"><text x=\"15.0\" y=\"2.8104999999999993\" style=\"\">tip-0</text></g><g class=\"toytree-TipLabel\" transform=\"translate(174.8079120532724,200.78226473019248)\"><text x=\"15.0\" y=\"2.8104999999999993\" style=\"\">tip-1</text></g><g class=\"toytree-TipLabel\" transform=\"translate(174.8079120532724,182.70161766442322)\"><text x=\"15.0\" y=\"2.8104999999999993\" style=\"\">tip-2</text></g><g class=\"toytree-TipLabel\" transform=\"translate(174.8079120532724,164.6209705986539)\"><text x=\"15.0\" y=\"2.8104999999999993\" style=\"\">r3</text></g><g class=\"toytree-TipLabel\" transform=\"translate(174.8079120532724,146.54032353288463)\"><text x=\"15.0\" y=\"2.8104999999999993\" style=\"\">r4</text></g><g class=\"toytree-TipLabel\" transform=\"translate(174.8079120532724,128.45967646711534)\"><text x=\"15.0\" y=\"2.8104999999999993\" style=\"\">r5</text></g><g class=\"toytree-TipLabel\" transform=\"translate(174.8079120532724,110.37902940134609)\"><text x=\"15.0\" y=\"2.8104999999999993\" style=\"\">r6</text></g><g class=\"toytree-TipLabel\" transform=\"translate(174.8079120532724,92.2983823355768)\"><text x=\"15.0\" y=\"2.8104999999999993\" style=\"\">r7</text></g><g class=\"toytree-TipLabel\" transform=\"translate(174.8079120532724,74.2177352698075)\"><text x=\"15.0\" y=\"2.8104999999999993\" style=\"\">r8</text></g><g class=\"toytree-TipLabel\" transform=\"translate(174.8079120532724,56.137088204038236)\"><text x=\"15.0\" y=\"2.8104999999999993\" style=\"\">r9</text></g></g></g></g></g></svg><div class=\"toyplot-behavior\"><script>(function()\n",
       "{\n",
       "var modules={};\n",
       "})();</script></div></div>"
      ]
     },
     "metadata": {},
     "output_type": "display_data"
    }
   ],
   "source": [
    "# traverse the tree and modify nodes (add new 'color' feature)\n",
    "for node in tre.treenode.traverse():\n",
    "    if node.is_leaf():\n",
    "        node.add_feature('color', toytree.COLORS1[1])\n",
    "    else:\n",
    "        node.add_feature('color', toytree.COLORS1[2])\n",
    "\n",
    "# store color list with values for tips and root\n",
    "colors = tre.get_node_data('color')\n",
    "\n",
    "# draw tree with node colors\n",
    "tre.draw(node_mask=False, node_colors=colors, node_sizes=12);"
   ]
  },
  {
   "cell_type": "markdown",
   "metadata": {},
   "source": [
    "Keep in mind that for many lists of attributes you wish to plot on nodes of a tree, or to use for color mapping, such as support values or names you likely will not need to add features to the tree since the features are already available by default. In that case you can get far using just the `get_node_data()` function from ToyTrees. "
   ]
  }
 ],
 "metadata": {
  "kernelspec": {
   "display_name": "Python 3",
   "language": "python",
   "name": "python3"
  },
  "language_info": {
   "codemirror_mode": {
    "name": "ipython",
    "version": 3
   },
   "file_extension": ".py",
   "mimetype": "text/x-python",
   "name": "python",
   "nbconvert_exporter": "python",
   "pygments_lexer": "ipython3",
   "version": "3.8.8"
  }
 },
 "nbformat": 4,
 "nbformat_minor": 2
}
